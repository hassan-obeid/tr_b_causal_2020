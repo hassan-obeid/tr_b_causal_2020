{
 "cells": [
  {
   "cell_type": "markdown",
   "metadata": {},
   "source": [
    "# Importing all necessary packages"
   ]
  },
  {
   "cell_type": "code",
   "execution_count": 31,
   "metadata": {},
   "outputs": [],
   "source": [
    "import sys\n",
    "sys.path.append('../../src/')"
   ]
  },
  {
   "cell_type": "code",
   "execution_count": 32,
   "metadata": {},
   "outputs": [],
   "source": [
    "import numpy as np\n",
    "import pandas as pd\n",
    "import scipy.stats\n",
    "from fitter import Fitter\n",
    "from collections import defaultdict, OrderedDict\n",
    "import pylogit as pl\n",
    "from functools import reduce\n",
    "import seaborn as sns\n",
    "import random\n",
    "from scipy import sparse\n",
    "import copy\n",
    "from tqdm import tqdm, tqdm_notebook\n",
    "import viz"
   ]
  },
  {
   "cell_type": "markdown",
   "metadata": {},
   "source": [
    "# Distribution Fitting Class Definition - **Could be removed** - For Documentation Purposes"
   ]
  },
  {
   "cell_type": "code",
   "execution_count": 33,
   "metadata": {},
   "outputs": [],
   "source": [
    "# class FitDistribution(object):\n",
    "#     \"\"\"Fit and simulate data to known distributions.\n",
    "\n",
    "#     Input:\n",
    "#     ------\n",
    "#     - data: array-like or dataframe.\n",
    "#     - dists: list.\n",
    "#         This parameter contains a list of distributions to be explored.\n",
    "#         When None, every available distribution on scipy is explored.\n",
    "#     - bins: int.\n",
    "#         Numbers of bins to be used for the cumulative histogram. This has\n",
    "#         an impact on the quality of the fit.\n",
    "#     - timeout: int.\n",
    "#         Maximum time for a given distribution. If timeout is reached,\n",
    "#         the distribution is skipped.\n",
    "#         \"\"\"\n",
    "#     def __init__(self, data, dists=None, timeout=30, verbose=False, bins=100):\n",
    "#         self.data = data\n",
    "#         # self.var_types = var_types\n",
    "#         self.dists = dists\n",
    "#         self.timeout = timeout\n",
    "#         self.verbose = verbose\n",
    "#         self.bins = bins\n",
    "#         self.ArrayDistDict = defaultdict()\n",
    "#         self.params_dict = defaultdict(dict)\n",
    "\n",
    "#     def FindArrayDist(self, cat_var):\n",
    "#         \"\"\"Function to extract the best distribution for a specified array.\n",
    "#         Uses the fit method from the Fitter module in the fitter library\n",
    "#         Inputs:\n",
    "#         -------\n",
    "#         - cat_var: boolean\n",
    "#             Boolean to signify whether the variable to be simulated\n",
    "#             is discrete/categorical or continuous.\n",
    "\n",
    "#         Outputs:\n",
    "#         -------\n",
    "#         By default, the function returns a dictionary with best distribution\n",
    "#         name and parameters associated with it. If a number of distributions\n",
    "#         was specified, the function returns a pandas DataFrame with\n",
    "#         the N best distributions, along with a plot showing all of them.\"\"\"\n",
    "#         self.ArrayDistDict = dict()\n",
    "#         if cat_var is True:\n",
    "#             self.ArrayDistDict['distribution'] = 'categorical'\n",
    "#             np_array_range = np.arange(self.data.max()+1)\n",
    "#             array_bincount = np.bincount(self.data)\n",
    "#             probs = array_bincount / len(self.data)\n",
    "\n",
    "#             self.ArrayDistDict['parameters'] = [np_array_range,\n",
    "#                                                 probs]\n",
    "#         else:\n",
    "#             fitter_object = Fitter(data=self.data,\n",
    "#                                    distributions=self.dists,\n",
    "#                                    timeout=self.timeout)\n",
    "#             fitter_object.fit()\n",
    "#             BestDict = fitter_object.get_best()\n",
    "#             self.ArrayDistDict['distribution'] = list(BestDict.items())[0][0]\n",
    "#             self.ArrayDistDict['parameters'] = list(BestDict.items())[0][1]\n",
    "#         return self.ArrayDistDict\n",
    "\n",
    "#     def SimArray(self, size=100):\n",
    "#         \"\"\"Function to simulate data for an array based on the best fitted\n",
    "#         distribution.\n",
    "#         Input:\n",
    "#         -----\n",
    "#         - size : int\n",
    "#                 size of the array to be simulated.\n",
    "#         Outputs:\n",
    "#         -------\n",
    "#         Simulated array based on the best fit distribution.\"\"\"\n",
    "#         if self.ArrayDistDict['distribution'] == 'categorical':\n",
    "#             value = self.ArrayDistDict['parameters'][0]\n",
    "#             freq = self.ArrayDistDict['parameters'][1]\n",
    "#             Sim_Array = np.random.choice(a=value,\n",
    "#                                          p=freq,\n",
    "#                                          size=size)\n",
    "#         else:\n",
    "#             dist = getattr(scipy.stats, self.ArrayDistDict['distribution'])\n",
    "#             Sim_Array = dist.rvs(*self.ArrayDistDict['parameters'], size=size)\n",
    "#         return Sim_Array\n",
    "\n",
    "#     def FindDfDist(self, var_types):\n",
    "#         \"\"\"Function to extract the best distribution from a specified\n",
    "#         dataframe. Uses the function find_dist, which in turn uses the\n",
    "#         fit method from the Fitter module in the fitter library\n",
    "#         Inputs:\n",
    "#         -------\n",
    "#         - var_types: dictionary\n",
    "#             Dictionary with keys as column names for dataset variables,\n",
    "#             the value of each key is a string showing whether the\n",
    "#             variable is discrete/cat or continuous.\n",
    "\n",
    "#         Outputs:\n",
    "#         -------\n",
    "#         *FOR NOW*, the function returns a dictionary showing the best\n",
    "#         distribution name for each array in the dataframe and parameters\n",
    "#         associated with it.\n",
    "#         \"\"\"\n",
    "\n",
    "#         for column in list(self.data.columns):\n",
    "\n",
    "#             if var_types[column] == 'categorical':\n",
    "#                 if len(self.data[column].unique()) == 1:\n",
    "#                     self.params_dict[column]['distribution'] = 'constant'\n",
    "#                     self.params_dict[column]['parameters'] = \\\n",
    "#                         self.data[column].unique()\n",
    "#                 else:\n",
    "#                     self.params_dict[column]['distribution'] = 'categorical'\n",
    "#                     np_array_range = np.arange(self.data[column].max()+1)\n",
    "#                     array_bincount = np.bincount(self.data[column])\n",
    "#                     probs = array_bincount / len(self.data[column])\n",
    "#                     self.params_dict[column]['parameters'] = [np_array_range,\n",
    "#                                                               probs]\n",
    "#             else:\n",
    "#                 if len(self.data[column].unique()) == 1:\n",
    "#                     self.params_dict[column]['distribution'] = 'constant'\n",
    "#                     self.params_dict[column]['parameters'] = \\\n",
    "#                         self.data[column].unique()\n",
    "#                 else:\n",
    "#                     fitter_object = Fitter(data=self.data[column],\n",
    "#                                            distributions=self.dists,\n",
    "#                                            timeout=self.timeout)\n",
    "#                     fitter_object.fit()\n",
    "#                     BestDict = fitter_object.get_best()\n",
    "#                     self.params_dict[column]['distribution'] = \\\n",
    "#                         list(BestDict.items())[0][0]\n",
    "#                     self.params_dict[column]['parameters'] = \\\n",
    "#                         list(BestDict.items())[0][1]\n",
    "#         return self.params_dict\n",
    "\n",
    "#     def SimDf(self, size=1000):\n",
    "#         \"\"\"Funtion to simulate data of size N based on specified\n",
    "#         distribution/parameters found by the fitter package.\n",
    "#         Inputs:\n",
    "#         -------\n",
    "#         data: dataframe from which columns are to be taken\n",
    "#         dist_params: the distribution parameters from find_dist_df\n",
    "#         Outputs:\n",
    "#         -------\n",
    "#         DataFrame object with simulated data based on specified distributions\n",
    "#         \"\"\"\n",
    "#         Sim_Df = pd.DataFrame(columns=list(self.params_dict.keys()))\n",
    "#         Sim_Df = Sim_Df.fillna(0)\n",
    "#         for column in list(self.params_dict.keys()):\n",
    "#             if self.params_dict[column]['distribution'] == 'categorical':\n",
    "#                 value = self.params_dict[column]['parameters'][0]\n",
    "#                 freq = self.params_dict[column]['parameters'][1]\n",
    "#                 data_sim = np.random.choice(a=value,\n",
    "#                                             p=freq,\n",
    "#                                             size=size)\n",
    "#                 Sim_Df[column] = data_sim\n",
    "#             elif self.params_dict[column]['distribution'] == 'constant':\n",
    "#                 data_sim = self.params_dict[column]['parameters'][0]\n",
    "#                 Sim_Df[column] = data_sim\n",
    "#             else:\n",
    "#                 dist = getattr(scipy.stats,\n",
    "#                                self.params_dict[column]['distribution'])\n",
    "#                 data_sim = dist.rvs(*self.params_dict[column]['parameters'],\n",
    "#                                     size=size)\n",
    "#                 Sim_Df[column] = data_sim\n",
    "#         return Sim_Df"
   ]
  },
  {
   "cell_type": "markdown",
   "metadata": {},
   "source": [
    "# Functions to calculate probabilities for each alternative - **(Replaced by functions from TB)** - For Documentation Purposes"
   ]
  },
  {
   "cell_type": "code",
   "execution_count": 34,
   "metadata": {},
   "outputs": [],
   "source": [
    "# def add_intercept_to_df(df_long, specification_dict):\n",
    "#     \"\"\"Function to add intercept to long format DataFrame\n",
    "#     Parameters\n",
    "#     ----------\n",
    "#     df_long: DataFrame\n",
    "#         Long format Pandas DataFrame to which to add \n",
    "#         intercept column.\n",
    "#     specification_dict: dict\n",
    "#         Specification Dictionary for the model\n",
    "    \n",
    "#     Returns\n",
    "#     -------\n",
    "#     In-place Pandas DataFrame with additional intercept column.\n",
    "        \n",
    "#     \"\"\"\n",
    "#     if (\"intercept\" in specification_dict\n",
    "#             and \"intercept\" not in df_long.columns):\n",
    "#         df_long[\"intercept\"] = 1\n",
    "#     return None\n",
    "\n",
    "\n",
    "# def create_design_matrix(df_long, specification_dict,\n",
    "#                          names_dict, alternative_id_col):\n",
    "\n",
    "#     add_intercept_to_df(df_long, specification_dict)\n",
    "\n",
    "#     columns = []\n",
    "#     for col in specification_dict:\n",
    "#         for group in specification_dict[col]:\n",
    "#             if type(group) == list:\n",
    "#                 columns.append(df_long[alternative_id_col].isin(group)\n",
    "#                                * df_long[col])\n",
    "#             else:\n",
    "#                 columns.append((df_long[alternative_id_col] == group)\n",
    "#                                * df_long[col])\n",
    "\n",
    "#     design_matrix = np.stack(columns, axis=1)\n",
    "\n",
    "#     var_names = []\n",
    "#     for variable in names_dict:\n",
    "#         for name in names_dict[variable]:\n",
    "#             var_names.append(name)\n",
    "\n",
    "#     return design_matrix, var_names\n",
    "\n",
    "\n",
    "# def calculate_utilities(betas, design_matrix):\n",
    "\n",
    "#     limit_max = 700\n",
    "#     limit_min = -700\n",
    "\n",
    "#     utility = design_matrix.dot(betas)\n",
    "#     utility[utility > limit_max] = limit_max\n",
    "#     utility[utility < limit_min] = limit_min\n",
    "\n",
    "#     utilities = np.exp(utility)\n",
    "\n",
    "#     return utilities\n",
    "\n",
    "\n",
    "# def create_mapping_matrix(df_long, observation_id_col):\n",
    "#     row_to_col_matrix = pd.get_dummies(df_long[observation_id_col]).values\n",
    "# #     row_to_col_matrix = (df_long[observation_id_col].values[:,None] ==\n",
    "# #                          np.sort(df_long[observation_id_col].unique())[None,:]).astype(int)\n",
    "#     sparse_row_to_col_matrix = sparse.csr_matrix(row_to_col_matrix)\n",
    "\n",
    "#     mapping_matrix = sparse_row_to_col_matrix.dot(sparse_row_to_col_matrix.T)\n",
    "\n",
    "#     return mapping_matrix\n",
    "\n",
    "\n",
    "# def calculate_probabilities(betas, design_matrix, mapping_matrix):\n",
    "\n",
    "#     utilities = calculate_utilities(betas, design_matrix)\n",
    "#     denominator = mapping_matrix.dot(utilities)\n",
    "#     probabilities = utilities/denominator\n",
    "#     probabilities[probabilities == 0] = 1e-300\n",
    "\n",
    "#     return probabilities"
   ]
  },
  {
   "cell_type": "markdown",
   "metadata": {},
   "source": [
    "# Function to simulate choices based on long data format - For Documentation Purposes"
   ]
  },
  {
   "cell_type": "code",
   "execution_count": 35,
   "metadata": {},
   "outputs": [],
   "source": [
    "\n",
    "\n",
    "# def SimulateChoices(long_data, alt_id_col,\n",
    "#                     obs_id_col, number_alts,\n",
    "#                     spec_dic, names_dic, init_betas):\n",
    "#     \"\"\"\n",
    "#     Function to simulate choices from a long data\n",
    "#     format dataset.\n",
    "    \n",
    "#     Parameters\n",
    "#     ----------\n",
    "#     long_data : DataFrame\n",
    "#         The DataFrame to be used, in long format.\n",
    "#     alt_id_col: string\n",
    "#         Name of the column containing the alternative\n",
    "#         id numbers in the long format dataset.\n",
    "#     obs_id_col: string\n",
    "#         Name of the column containing the observation\n",
    "#         id numbers in the long format dataset.\n",
    "#     number_alts: int\n",
    "#         Number of alternatives in the long format\n",
    "#         dataset.\n",
    "#     spec_dic: dictionary\n",
    "#         Dictionary of the model specification.\n",
    "#     names_dic: dictionary\n",
    "#         Dictionary of the alternative names.\n",
    "#     init_betas: list\n",
    "#         List of the initial betas for the model\n",
    "#         from which the choices should be simulated.\n",
    "    \n",
    "#     Returns\n",
    "#     -------\n",
    "#     DataFrame object with the simulated choices column\n",
    "#     added as 'sim_choice'\n",
    "#     \"\"\"\n",
    "#     # Declare the simulated choice column name\n",
    "#     sim_choice_col = 'sim_choice'\n",
    "\n",
    "#     # Make a copy of the data\n",
    "#     data = copy.deepcopy(long_data)\n",
    "#     # Functions to generate the design matrix, mapping matrix,\n",
    "#     # and calculate the probabilities for each alternative\n",
    "#     design_matrix, names = create_design_matrix(df_long=data,\n",
    "#                                                 specification_dict=spec_dic,\n",
    "#                                                 names_dict=names_dic,\n",
    "#                                                 alternative_id_col=alt_id_col)\n",
    "#     mapping_matrix = create_mapping_matrix(df_long=data,\n",
    "#                                            observation_id_col=obs_id_col)\n",
    "#     probabilities = calculate_probabilities(betas=initial_betas,\n",
    "#                                             design_matrix=design_matrix,\n",
    "#                                             mapping_matrix=mapping_matrix)\n",
    "#     # Assign calculated probabilities to new dataframe column\n",
    "#     data['probabilities'] = probabilities\n",
    "#     # Initialize cumulative sum and simulated choice columns\n",
    "#     data['cum_sum'] = 0\n",
    "#     data['sim_choice'] = 0\n",
    "\n",
    "#     # Loop around the observations and compute probabilities' cumulative\n",
    "#     # sums for each alternative\n",
    "#     for observation in data['observation_id'].unique():\n",
    "#         probs_sum = data[long_data.observation_id == observation]['probabilities'].cumsum()\n",
    "#         data.loc[data['observation_id'] == observation, 'cum_sum'] = probs_sum\n",
    "\n",
    "#     # Generate list for observation ids to be used in simulating choices    \n",
    "#     observation_id_list = list(data.observation_id.unique())\n",
    "#     # Generate a \"random utility\" array of the same size as the number\n",
    "#     # of observations in the dataset\n",
    "#     u_random = np.random.uniform(size=len(data['observation_id'].unique()))\n",
    "\n",
    "#     # Loop around the generate utilities and observations in the dataset\n",
    "#     # to assign a choice to each\n",
    "#     for u, obs in zip(u_random, observation_id_list):\n",
    "#         # select data for observation number \"obs\"\n",
    "#         data_sample = data[data['observation_id'] == obs]\n",
    "#         # generate list of available modes for each observation\n",
    "#         sorted_list = sorted(list(data_sample['mode_id'].unique()))\n",
    "#         # initialize a dictionary from the available modes for \n",
    "#         # each observation\n",
    "#         choices = dict.fromkeys(sorted_list, 0)\n",
    "#         # Loop round the modes for each observation and assign \n",
    "#         # choice (0 vs. 1)\n",
    "#         for alt in sorted_list:\n",
    "#             choices[alt] = np.where(u <= data_sample[data_sample['mode_id']\n",
    "#                                                      == alt]\n",
    "#                                     ['cum_sum'], 1, 0).item()\n",
    "#             # Once a choice is assigned, break out of loop\n",
    "#             if choices[alt] == 1:\n",
    "#                 break\n",
    "#         # Map the choices for the observation to the long format dataframe       \n",
    "#         data.loc[data.observation_id == obs, sim_choice_col] = \\\n",
    "#             data['mode_id'].map(choices)\n",
    "#     return data"
   ]
  },
  {
   "cell_type": "markdown",
   "metadata": {},
   "source": [
    "# Simulate Data - Based on Wide Data - For Documentation Purposes"
   ]
  },
  {
   "cell_type": "code",
   "execution_count": 36,
   "metadata": {},
   "outputs": [],
   "source": [
    "# # Convert Data from Long to Wide before simulation\n",
    "\n",
    "# # Create variable list for subset of long data,\n",
    "# # I will add the remaining values from the long format dataset\n",
    "# alt_id_col = \"mode_id\"\n",
    "\n",
    "# obs_id_col = \"observation_id\"\n",
    "\n",
    "# choice_col = \"choice\"\n",
    "\n",
    "# # Store of columns relevant to the data to be simulated\n",
    "# model_variables = list(mnl_model.specification.keys())\n",
    "# model_variables.remove('intercept')\n",
    "# model_variables.extend([alt_id_col, obs_id_col,\n",
    "#                         choice_col, 'num_cars', 'num_licensed_drivers'])\n",
    "# print('The model variables of interest are:')\n",
    "# model_variables"
   ]
  },
  {
   "cell_type": "code",
   "execution_count": 37,
   "metadata": {},
   "outputs": [],
   "source": [
    "# # Create a copy of the data subset\n",
    "# subset_bike_data = bike_data_long[model_variables].copy()"
   ]
  },
  {
   "cell_type": "code",
   "execution_count": 38,
   "metadata": {},
   "outputs": [],
   "source": [
    "# # Create the needed variables for the conversion\n",
    "# ind_spec_vars = ['num_kids', 'household_size',\n",
    "#                  'cars_per_licensed_drivers', 'cross_bay',\n",
    "#                  'num_cars', 'num_licensed_drivers']\n",
    "\n",
    "# alt_spec_vars = ['total_travel_time', 'total_travel_distance']\n",
    "\n",
    "# subset_spec_vars = {'total_travel_cost': [1, 2, 3],\n",
    "#                     'cost_per_distance': [1, 2, 3]}\n",
    "\n",
    "# alternative_name_dict = {1: 'drive_alone',\n",
    "#                          2: 'shared_2',\n",
    "#                          3: 'shared_3p',\n",
    "#                          4: 'wtw',\n",
    "#                          5: 'dtw',\n",
    "#                          6: 'wtd',\n",
    "#                          7: 'walk',\n",
    "#                          8: 'bike'}"
   ]
  },
  {
   "cell_type": "code",
   "execution_count": 39,
   "metadata": {},
   "outputs": [],
   "source": [
    "# # Convert data from long to wide, I assigned a null value of 0\n",
    "# # because it will make it easier to simulate data when we have\n",
    "# # Unavailable variables\n",
    "# bike_data_wide = pl.convert_long_to_wide(long_data=subset_bike_data,\n",
    "#                                          ind_vars=ind_spec_vars,\n",
    "#                                          alt_specific_vars=alt_spec_vars,\n",
    "#                                          subset_specific_vars=subset_spec_vars,\n",
    "#                                          obs_id_col=obs_id_col,\n",
    "#                                          alt_id_col=alt_id_col,\n",
    "#                                          choice_col=choice_col,\n",
    "#                                          alt_name_dict=alternative_name_dict)\n",
    "# bike_data_wide.head()"
   ]
  },
  {
   "cell_type": "code",
   "execution_count": 40,
   "metadata": {},
   "outputs": [],
   "source": [
    "# Here, we need to decide how we will simulate data when we have unavailable values. TBD."
   ]
  },
  {
   "cell_type": "code",
   "execution_count": 41,
   "metadata": {},
   "outputs": [],
   "source": [
    "# # Define the list of variables of interest from data_wide\n",
    "# columns_wide = ['num_kids', 'household_size', 'num_cars',\n",
    "#                 'num_licensed_drivers', 'cross_bay',\n",
    "#                 'total_travel_time_drive_alone', 'total_travel_time_shared_2',\n",
    "#                 'total_travel_time_shared_3p', 'total_travel_time_wtw',\n",
    "#                 'total_travel_time_dtw', 'total_travel_time_wtd',\n",
    "#                 'total_travel_time_walk', 'total_travel_time_bike',\n",
    "#                 'total_travel_distance_drive_alone',\n",
    "#                 'total_travel_distance_shared_2',\n",
    "#                 'total_travel_distance_shared_3p',\n",
    "#                 'total_travel_distance_wtw',\n",
    "#                 'total_travel_distance_dtw', 'total_travel_distance_wtd',\n",
    "#                 'total_travel_distance_walk', 'total_travel_distance_bike',\n",
    "#                 'total_travel_cost_drive_alone', 'total_travel_cost_shared_2',\n",
    "#                 'total_travel_cost_shared_3p']\n",
    "\n",
    "# # Restrict data to desired columns\n",
    "# bike_data_wide = bike_data_wide[columns_wide]"
   ]
  },
  {
   "cell_type": "code",
   "execution_count": 42,
   "metadata": {},
   "outputs": [],
   "source": [
    "# # Determine the distributions to be used\n",
    "# distributions = ['normal', 'alpha', 'beta', 'gamma', 'expon', 'gumbel']\n",
    "\n",
    "# # Initial the FitDistribution object\n",
    "# bike_data_fitter = FitDistribution(data=bike_data_wide, dists=distributions)"
   ]
  },
  {
   "cell_type": "code",
   "execution_count": 43,
   "metadata": {},
   "outputs": [],
   "source": [
    "# # Define the nature of each variables whether\n",
    "# # discrete/categorical or continuous\n",
    "# variable_type = {'num_kids': 'categorical',\n",
    "#                  'household_size': 'categorical',\n",
    "#                  'num_cars': 'discrete',\n",
    "#                  'num_licensed_drivers': 'categorical',\n",
    "#                  'cross_bay': 'categorical',\n",
    "#                  'total_travel_time_drive_alone': 'continuous',\n",
    "#                  'total_travel_time_shared_2': 'continuous',\n",
    "#                  'total_travel_time_shared_3p': 'continuous',\n",
    "#                  'total_travel_time_wtw': 'continuous',\n",
    "#                  'total_travel_time_dtw': 'continuous',\n",
    "#                  'total_travel_time_wtd': 'continuous',\n",
    "#                  'total_travel_time_walk': 'continuous',\n",
    "#                  'total_travel_time_bike': 'continuous',\n",
    "#                  'total_travel_distance_drive_alone': 'continuous',\n",
    "#                  'total_travel_distance_shared_2': 'continuous',\n",
    "#                  'total_travel_distance_shared_3p': 'continuous',\n",
    "#                  'total_travel_distance_wtw': 'continuous',\n",
    "#                  'total_travel_distance_dtw': 'continuous',\n",
    "#                  'total_travel_distance_wtd': 'continuous',\n",
    "#                  'total_travel_distance_walk': 'continuous',\n",
    "#                  'total_travel_distance_bike': 'continuous',\n",
    "#                  'total_travel_cost_drive_alone': 'continuous',\n",
    "#                  'total_travel_cost_shared_2': 'continuous',\n",
    "#                  'total_travel_cost_shared_3p': 'continuous'}"
   ]
  },
  {
   "cell_type": "code",
   "execution_count": 44,
   "metadata": {},
   "outputs": [],
   "source": [
    "# # Simulate dataframe based on the estimated distributions\n",
    "# sim_bike_data = bike_data_fitter.SimDf(size=5000)"
   ]
  },
  {
   "cell_type": "markdown",
   "metadata": {},
   "source": [
    "## Find Distribution Based on Long Data"
   ]
  },
  {
   "cell_type": "code",
   "execution_count": 45,
   "metadata": {},
   "outputs": [],
   "source": [
    "\n",
    "\n",
    "def FindLongDataDist(data_long,\n",
    "                     alt_id_col,\n",
    "                     obs_id_col,\n",
    "                     alt_spec,\n",
    "                     alt_name_dic,\n",
    "                     ind_spec,\n",
    "                     trip_spec,\n",
    "                     var_types,\n",
    "                     cont_dists=None):\n",
    "    \n",
    "    \"\"\"\n",
    "    Function to find the distribution of specific variables\n",
    "    from a long format dataset.\n",
    "    \n",
    "    Parameters\n",
    "    ----------\n",
    "    data_long: Pandas DataFrame\n",
    "        Dataset in long format from which variable\n",
    "        distribution is to be found.\n",
    "        \n",
    "    alt_id_col: string\n",
    "        Name of the column with alternative ids.\n",
    "        \n",
    "    obs_id_col: string\n",
    "        Name of the column with observation ids.\n",
    "        \n",
    "    alt_spec: list\n",
    "        List containing strings of the names of\n",
    "        alternative specific variables.\n",
    "        \n",
    "    alt_name_dic: dictionary\n",
    "        Dictionary with keys as the ordered number\n",
    "        of alternatives, and the value for each key\n",
    "        is a string representing the name of the \n",
    "        alternative.\n",
    "        \n",
    "    ind_spec: list\n",
    "        List containing strings of the names of \n",
    "        individual specific variables.\n",
    "        \n",
    "    trip_spec: list\n",
    "        List containing string of the names of \n",
    "        trip specific variables.\n",
    "        \n",
    "    var_types: dictionary\n",
    "        Dictionary with keys as strings of names of variables\n",
    "        from long format dataset, and values for each key are\n",
    "        the type of variables (e.g.: 'categorical vs. continuous').\n",
    "        \n",
    "    cont_dists: list\n",
    "        List of continuous RVs distribution names from scipy.\n",
    "        \n",
    "    Returns\n",
    "    -------\n",
    "    a nested dictionary with keys as variable names and values\n",
    "    as dictionaries containing both the distribution name and\n",
    "    its parameters.\n",
    "    \"\"\"\n",
    "\n",
    "    # Initialize the output parameters dictionary\n",
    "    params_dict = defaultdict(dict)\n",
    "\n",
    "    # Loop around individual specific variables\n",
    "    for ind in ind_spec:\n",
    "        # generate array of values for individual specific variable\n",
    "        ind_var = pd.Series([(data_long.loc[data_long[obs_id_col] == x][ind].unique()[0]) for x in data_long[obs_id_col].unique()])\n",
    "        # Get distribution if variable is categorical\n",
    "        if var_types[ind] == 'categorical':\n",
    "            # If only one category\n",
    "            if len(ind_var.unique()) == 1:\n",
    "                params_dict[ind]['distribution'] = 'constant'\n",
    "                params_dict[ind]['parameters'] = ind_var.unique()\n",
    "            # If more than one category\n",
    "            else:\n",
    "                params_dict[ind]['distribution'] = 'categorical'\n",
    "                # Count frequency of values and store it as paramater of distribution\n",
    "                np_array_range = np.arange(ind_var.max()+1)\n",
    "                array_bincount = np.bincount(ind_var)\n",
    "                probs = array_bincount / len(ind_var)\n",
    "                params_dict[ind]['parameters'] = [np_array_range,\n",
    "                                                  probs]\n",
    "        else:\n",
    "            # If not categorical but just one unique value\n",
    "            if len(ind_var.unique()) == 1:\n",
    "                params_dict[ind]['distribution'] = 'constant'\n",
    "                params_dict[ind]['parameters'] = ind_var.unique()\n",
    "            # If not categorical but not one unique value\n",
    "            else:\n",
    "                # Use the Fitter library to fit distributions\n",
    "                # to the data\n",
    "                fitter_object = Fitter(data=ind_var,\n",
    "                                       distributions=cont_dists,\n",
    "                                       timeout=30)\n",
    "                fitter_object.fit()\n",
    "                # Get the best distribution and store in dictionary\n",
    "                BestDict = fitter_object.get_best()\n",
    "                params_dict[ind]['distribution'] = list(BestDict.items())[0][0]\n",
    "                params_dict[ind]['parameters'] = list(BestDict.items())[0][1]\n",
    "\n",
    "    # Code for Alternative Specific Variables\n",
    "    # Loop around the different available alternatives\n",
    "    for alt in data_long[alt_id_col].unique():\n",
    "        # Store data for specific alternative (mode)\n",
    "        mode_data = data_long.loc[data_long['mode_id'] == alt]\n",
    "        # Loop around the alternative specific variables in the input dictionary\n",
    "        for var in alt_spec:\n",
    "            # If data is categorical\n",
    "            if var_types[var] == 'categorical':\n",
    "                # If only one category\n",
    "                if len(mode_data[var].unique()) == 1:\n",
    "                    # Add name of alternative to variable and store distriburion & parameters\n",
    "                    params_dict[var+'_'+alt_name_dic[alt]]['distribution'] = 'constant'\n",
    "                    params_dict[var+'_'+alt_name_dic[alt]]['parameters'] = mode_data[var].unique()\n",
    "                else:\n",
    "                    # If more than one category, compute the frequency of values\n",
    "                    # and store as parameters\n",
    "                    # Add name of alternative to variable and store distriburion & parameters\n",
    "                    params_dict[var+'_'+alt_name_dic[alt]]['distribution'] = 'categorical'\n",
    "                    np_array_range = np.arange(mode_data[var].max()+1)\n",
    "                    array_bincount = np.bincount(mode_data[var])\n",
    "                    probs = array_bincount / len(mode_data[var])\n",
    "                    params_dict[var+'_'+alt_name_dic[alt]]['parameters'] = [np_array_range,\n",
    "                                                                            probs]\n",
    "            else:\n",
    "                # If data is not categorical but has one unique value\n",
    "                if len(mode_data[var].unique()) == 1:\n",
    "                    # Add name of alternative to variable and store distriburion & parameters\n",
    "                    params_dict[var+'_'+alt_name_dic[alt]]['distribution'] = 'constant'\n",
    "                    params_dict[var+'_'+alt_name_dic[alt]]['parameters'] = mode_data[var].unique()\n",
    "                # If data is not categorical but has more than one unique value\n",
    "                else:\n",
    "                    # Use the Fitter library to fit distributions\n",
    "                    # to the data\n",
    "                    fitter_object = Fitter(data=mode_data[var],\n",
    "                                           distributions=cont_dists,\n",
    "                                           timeout=30)\n",
    "                    fitter_object.fit()\n",
    "                    # Get the best distribution and store in dictionary\n",
    "                    BestDict = fitter_object.get_best()\n",
    "                    # Add name of alternative to variable and store distriburion & parameters\n",
    "                    params_dict[var+'_'+alt_name_dic[alt]]['distribution'] = list(BestDict.items())[0][0]\n",
    "                    params_dict[var+'_'+alt_name_dic[alt]]['parameters'] = list(BestDict.items())[0][1]\n",
    "\n",
    "    # Trip Specific Variable (maybe combine with individual specific variables)\n",
    "    # Loop around trip (observation) specific variables\n",
    "    for var in trip_spec:\n",
    "        # generate array of values for trip specific variable\n",
    "        trip_var = pd.Series([(data_long.loc[data_long[obs_id_col] == x][var].unique()[0]) for x in data_long[obs_id_col].unique()])\n",
    "        # Get distribution if variable is categorical\n",
    "        if var_types[var] == 'categorical':\n",
    "            if len(trip_var.unique()) == 1:\n",
    "            # If only one category\n",
    "                params_dict[var]['distribution'] = 'constant'\n",
    "                params_dict[var]['parameters'] = trip_var.unique()\n",
    "            else:\n",
    "            # If more than one category\n",
    "                params_dict[var]['distribution'] = 'categorical'\n",
    "            # Count frequency of values and store it as paramater of distribution\n",
    "                np_array_range = np.arange(trip_var.max()+1)\n",
    "                array_bincount = np.bincount(trip_var)\n",
    "                probs = array_bincount / len(trip_var)\n",
    "                params_dict[var]['parameters'] = [np_array_range,\n",
    "                                                  probs]\n",
    "        else:\n",
    "            # If not categorical but just one unique value\n",
    "            if len(trip_var.unique()) == 1:\n",
    "                params_dict[var]['distribution'] = 'constant'\n",
    "                params_dict[var]['parameters'] = trip_var.unique()\n",
    "            # If not categorical but just one unique value\n",
    "            else:\n",
    "                # Use the Fitter library to fit distributions\n",
    "                # to the data\n",
    "                fitter_object = Fitter(data=trip_var,\n",
    "                                       distributions=cont_dists,\n",
    "                                       timeout=30)\n",
    "                fitter_object.fit()\n",
    "                # Get the best distribution and store in dictionary\n",
    "                BestDict = fitter_object.get_best()\n",
    "                params_dict[var]['distribution'] = list(BestDict.items())[0][0]\n",
    "                params_dict[var]['parameters'] = list(BestDict.items())[0][1]\n",
    "\n",
    "    return params_dict\n",
    "\n",
    "\n",
    "def SimDf(params_dict, size=1000):\n",
    "    \"\"\"\n",
    "    Funtion to simulate data of size N based on specified\n",
    "    distribution/parameters found by the fitter package.\n",
    "    \n",
    "    Paremeters\n",
    "    ----------\n",
    "    dist_params: dictionary\n",
    "        The variable distribution dictionary resulting from\n",
    "        `FindLongDataDist`.\n",
    "        \n",
    "    size: int\n",
    "        Size of the desired simulated dataset, default value\n",
    "        is 1000 observations.\n",
    "    \n",
    "    Returns\n",
    "    -------\n",
    "    DataFrame object with simulated data based on specified distributions\n",
    "    \n",
    "    \"\"\"\n",
    "    # Create Empty DataFrame with keys from params_dict\n",
    "    Sim_Df = pd.DataFrame(columns=list(params_dict.keys()))\n",
    "    Sim_Df = Sim_Df.fillna(0)\n",
    "    \n",
    "    # Loop around each of the variables in params_dict\n",
    "    # and simulate data for them\n",
    "    for column in list(params_dict.keys()):\n",
    "        if params_dict[column]['distribution'] == 'categorical':\n",
    "            data_sim = np.random.choice(a=params_dict[column]['parameters'][0],\n",
    "                                        p=params_dict[column]['parameters'][1],\n",
    "                                        size=size)\n",
    "            Sim_Df[column] = data_sim\n",
    "        elif params_dict[column]['distribution'] == 'constant':\n",
    "            data_sim = params_dict[column]['parameters'][0]\n",
    "            Sim_Df[column] = data_sim\n",
    "        else:\n",
    "            dist = getattr(scipy.stats, params_dict[column]['distribution'])\n",
    "            data_sim = dist.rvs(*params_dict[column]['parameters'], size=size)\n",
    "            Sim_Df[column] = data_sim\n",
    "    return Sim_Df\n",
    "\n",
    "\n",
    "def SimulateAvailability(data_long, sim_data, obs_id_col, alt_name_dict):\n",
    "    \n",
    "    \"\"\"\n",
    "    Function to simulate alternative availability based on a long format\n",
    "    dataset and join the availability data to the simulated dataset\n",
    "    resulting from SimDf.\n",
    "    \n",
    "    Parameters\n",
    "    ----------\n",
    "    data_long: Pandas DataFrame\n",
    "        Long format dataframe used for simulating\n",
    "        alternative availability.\n",
    "    \n",
    "    sim_data: Pandas DataFrame\n",
    "        Wide format dataframe resulting from SimDf\n",
    "    \n",
    "    obs_id_col: string\n",
    "        Name of the column in data_long with \n",
    "        observation ids.\n",
    "    \n",
    "    alt_name_dic: dictionary\n",
    "        Dictionary with keys as the ordered number\n",
    "        of alternatives, and the value for each key\n",
    "        is a string representing the name of the \n",
    "        alternative.\n",
    "        \n",
    "    Returns\n",
    "    -------\n",
    "    Wide format Pandas DataFrame with additional availability\n",
    "    columns for each of the alternatives.\n",
    "    \n",
    "    \"\"\"\n",
    "\n",
    "    # Create empty Series to hold number of available alternatives\n",
    "    series = pd.Series([])\n",
    "    \n",
    "    # Loop around each observation to record the\n",
    "    # available number of alternatives for each observation\n",
    "    for i, obs in zip(np.arange(len(data_long[obs_id_col].unique())), data_long[obs_id_col].unique()):\n",
    "        series[i] = data_long[data_long[obs_id_col] == obs].shape[0]\n",
    "\n",
    "    # Simulate number of available alternatives for\n",
    "    # each observation in sim_data\n",
    "    av_size = sim_data.shape[0]\n",
    "    alts_sim = np.random.choice(a=np.arange(series.max()+1),\n",
    "                                p=np.bincount(series)/len(series),\n",
    "                                size=av_size)\n",
    "\n",
    "    # simulate the availability matrix based on number \n",
    "    # of available alternatives\n",
    "    N = len(alt_name_dict)\n",
    "    av_sim = [np.array([1] * K + [0]*(N-K)) for K in alts_sim]\n",
    "\n",
    "    # Shuffle the available alternatives for each observation\n",
    "    # because av_sim will always start with 1s\n",
    "    for x in av_sim:\n",
    "        np.random.shuffle(x)\n",
    "\n",
    "    # Shuffle the availability across different observations\n",
    "    np.random.shuffle(av_sim)\n",
    "    \n",
    "    # Create columns for the availability matrix\n",
    "    AV_columns = [alt_name_dict[i]+'_AV' for i in alt_name_dict.keys()]\n",
    "    \n",
    "    # Create alternative availability matrix with AV_columns\n",
    "    AV_Df = pd.DataFrame(av_sim, columns=AV_columns)\n",
    "    \n",
    "    # Create an random choice column based on available\n",
    "    # alternatives for each observation - This column will\n",
    "    # be needed when converting to long data\n",
    "    fake_choice = [random.choice(np.nonzero(a == 1)[0]) + 1 for a in np.array(AV_Df)]\n",
    "    fake_choice_df = pd.DataFrame(fake_choice, columns=['sim_choice'])\n",
    "    \n",
    "    # Concatenate the simulated data with availability data and fake choice data\n",
    "    # and return Sim_DF_AV\n",
    "    Sim_DF_AV = pd.concat([sim_data, AV_Df, fake_choice_df], axis=1, sort=False)\n",
    "    return Sim_DF_AV"
   ]
  },
  {
   "cell_type": "markdown",
   "metadata": {},
   "source": [
    "# Example using bike data "
   ]
  },
  {
   "cell_type": "markdown",
   "metadata": {},
   "source": [
    "## Data Ingestion and Exploration "
   ]
  },
  {
   "cell_type": "code",
   "execution_count": 46,
   "metadata": {},
   "outputs": [],
   "source": [
    "# Create a variable for the path to the long format data for\n",
    "# the multinomial choice model\n",
    "PATH = '../../data/raw/spring_2016_all_bay_area_long_format_plus_cross_bay_col.csv'"
   ]
  },
  {
   "cell_type": "code",
   "execution_count": 47,
   "metadata": {},
   "outputs": [
    {
     "name": "stdout",
     "output_type": "stream",
     "text": [
      "The columns of bike_data are:\n"
     ]
    },
    {
     "data": {
      "text/plain": [
       "Index(['household_id', 'person_id', 'tour_id', 'observation_id', 'mode_id',\n",
       "       'choice', 'tour_origin_taz', 'primary_dest_taz', 'total_travel_time',\n",
       "       'total_travel_cost', 'total_travel_distance', 'age', 'household_size',\n",
       "       'household_income', 'household_income_values', 'transit_subsidy',\n",
       "       'transit_subsidy_amount', 'num_cars', 'num_licensed_drivers',\n",
       "       'cross_bay', 'oakland_and_berkeley', 'survey_id', 'gender',\n",
       "       'non_relative_flag', 'num_pre_school', 'num_school_aged', 'married',\n",
       "       'parent', 'income_category_1', 'income_category_2', 'income_category_3',\n",
       "       'income_category_4', 'income_category_5', 'income_category_6',\n",
       "       'income_category_7', 'income_category_8', 'income_category_9',\n",
       "       'income_category_10', 'income_unknown', 'ln_drive_cost',\n",
       "       'ln_drive_cost_sq', 'total_travel_time_10x', 'total_travel_time_tenth',\n",
       "       'high_income', 'medium_income', 'low_income', 'high_income_cost',\n",
       "       'medium_income_cost', 'low_income_cost', 'unknown_income_cost',\n",
       "       'high_income_ln_cost', 'medium_income_ln_cost', 'low_income_ln_cost',\n",
       "       'unknown_income_ln_cost', 'cars_per_licensed_drivers', 'num_kids',\n",
       "       'family_in_household', 'married_woman', 'cost_per_distance',\n",
       "       'intercept', 'cost_per_distance_10$_per_mi',\n",
       "       'total_travel_time_tenth_min'],\n",
       "      dtype='object')"
      ]
     },
     "execution_count": 47,
     "metadata": {},
     "output_type": "execute_result"
    }
   ],
   "source": [
    "# Reading data from the specified PATH\n",
    "bike_data_long = pd.read_csv(PATH)\n",
    "\n",
    "# If in previous work we accidentally saved the index with the dataframe\n",
    "# remove the old index from the data\n",
    "if \"Unnamed: 0\" in bike_data_long.columns:\n",
    "    del bike_data_long[\"Unnamed: 0\"]\n",
    "\n",
    "print(\"The columns of bike_data are:\")\n",
    "bike_data_long.columns"
   ]
  },
  {
   "cell_type": "code",
   "execution_count": 48,
   "metadata": {},
   "outputs": [
    {
     "data": {
      "text/plain": [
       "Drive Alone           0.428322\n",
       "Shared Ride 2         0.158841\n",
       "Shared Ride 3+        0.139860\n",
       "Walk-Transit-Walk     0.103397\n",
       "Drive-Transit-Walk    0.015485\n",
       "Walk-Transit-Drive    0.013237\n",
       "Walk                  0.094406\n",
       "Bike                  0.046454\n",
       "Name: Mode Shares, dtype: float64"
      ]
     },
     "execution_count": 48,
     "metadata": {},
     "output_type": "execute_result"
    }
   ],
   "source": [
    "# Look at the mode shares in the data set\n",
    "alt_id_to_mode_name = {1: \"Drive Alone\",\n",
    "                       2: \"Shared Ride 2\",\n",
    "                       3: \"Shared Ride 3+\",\n",
    "                       4: \"Walk-Transit-Walk\",\n",
    "                       5: \"Drive-Transit-Walk\",\n",
    "                       6: \"Walk-Transit-Drive\",\n",
    "                       7: \"Walk\",\n",
    "                       8: \"Bike\"}\n",
    "\n",
    "mode_counts = bike_data_long.loc[bike_data_long.choice == 1,\n",
    "                                 \"mode_id\"].value_counts().loc[range(1, 9)]\n",
    "\n",
    "mode_shares = mode_counts / bike_data_long.observation_id.max()\n",
    "mode_shares.index = [alt_id_to_mode_name[x] for x in mode_shares.index.values]\n",
    "mode_shares.name = \"Mode Shares\"\n",
    "mode_shares"
   ]
  },
  {
   "cell_type": "markdown",
   "metadata": {},
   "source": [
    "## MNL Model Specification "
   ]
  },
  {
   "cell_type": "code",
   "execution_count": 49,
   "metadata": {},
   "outputs": [],
   "source": [
    "# Create my specification and variable names for the basic MNL model\n",
    "# NOTE: - Keys should be variables within the long format dataframe.\n",
    "#         The sole exception to this is the \"intercept\" key.\n",
    "#       - For the specification dictionary, the values should be lists\n",
    "#         or lists of lists. Within a list, or within the inner-most\n",
    "#         list should be the alternative ID's of the alternative whose\n",
    "#         utility specification the explanatory variable is entering.\n",
    "\n",
    "mnl_specification = OrderedDict()\n",
    "mnl_names = OrderedDict()\n",
    "\n",
    "mnl_specification[\"intercept\"] = [2, 3, 4, 5, 6, 7, 8]\n",
    "mnl_names[\"intercept\"] = ['ASC Shared Ride: 2',\n",
    "                          'ASC Shared Ride: 3+',\n",
    "                          'ASC Walk-Transit-Walk',\n",
    "                          'ASC Drive-Transit-Walk',\n",
    "                          'ASC Walk-Transit-Drive',\n",
    "                          'ASC Walk',\n",
    "                          'ASC Bike']\n",
    "\n",
    "mnl_specification[\"total_travel_time\"] = [[1, 2, 3], [4, 5, 6]]\n",
    "mnl_names[\"total_travel_time\"] = ['Travel Time, units:min (All Auto Modes)',\n",
    "                                  'Travel Time, units:min (All Transit Modes)']\n",
    "\n",
    "mnl_specification[\"total_travel_cost\"] = [[4, 5, 6]]\n",
    "mnl_names[\"total_travel_cost\"] = ['Travel Cost, units:$ (All Transit Modes)']\n",
    "\n",
    "mnl_specification[\"cost_per_distance\"] = [1, 2, 3]\n",
    "mnl_names[\"cost_per_distance\"] = [\"Travel Cost per Distance, units:$/mi (Drive Alone)\",\n",
    "                                  \"Travel Cost per Distance, units:$/mi (SharedRide-2)\",\n",
    "                                  \"Travel Cost per Distance, units:$/mi (SharedRide-3+)\"]\n",
    "\n",
    "mnl_specification[\"cars_per_licensed_drivers\"] = [[1, 2, 3]]\n",
    "mnl_names[\"cars_per_licensed_drivers\"] = [\"Autos per licensed drivers (All Auto Modes)\"]\n",
    "\n",
    "mnl_specification[\"total_travel_distance\"] = [7, 8]\n",
    "mnl_names[\"total_travel_distance\"] = ['Travel Distance, units:mi (Walk)',\n",
    "                                      'Travel Distance, units:mi (Bike)']\n",
    "\n",
    "# mnl_specification[\"cross_bay\"] = [[2, 3], [4, 5, 6]]\n",
    "# mnl_names[\"cross_bay\"] = [\"Cross-Bay Tour (Shared Ride 2 & 3+)\",\n",
    "#                           \"Cross-Bay Tour (All Transit Modes)\"]\n",
    "mnl_specification[\"cross_bay\"] = [[2, 3]]\n",
    "mnl_names[\"cross_bay\"] = [\"Cross-Bay Tour (Shared Ride 2 & 3+)\"]\n",
    "\n",
    "mnl_specification[\"household_size\"] = [[2, 3]]\n",
    "mnl_names[\"household_size\"] = ['Household Size (Shared Ride 2 & 3+)']\n",
    "\n",
    "mnl_specification[\"num_kids\"] = [[2, 3]]\n",
    "mnl_names[\"num_kids\"] = [\"Number of Kids in Household (Shared Ride 2 & 3+)\"]"
   ]
  },
  {
   "cell_type": "code",
   "execution_count": 50,
   "metadata": {},
   "outputs": [
    {
     "name": "stdout",
     "output_type": "stream",
     "text": [
      "Log-likelihood at zero: -7,599.7019\n",
      "Initial Log-likelihood: -7,599.7019\n"
     ]
    },
    {
     "name": "stderr",
     "output_type": "stream",
     "text": [
      "/Users/mobouzaghrane/opt/anaconda3/lib/python3.7/site-packages/pylogit/choice_tools.py:703: FutureWarning: arrays to stack must be passed as a \"sequence\" type such as list or tuple. Support for non-sequence iterables such as generators is deprecated as of NumPy 1.16 and will raise an error in the future.\n",
      "  design_matrix = np.hstack((x[:, None] for x in independent_vars))\n",
      "/Users/mobouzaghrane/opt/anaconda3/lib/python3.7/site-packages/scipy/optimize/_minimize.py:505: RuntimeWarning: Method BFGS does not use Hessian information (hess).\n",
      "  RuntimeWarning)\n"
     ]
    },
    {
     "name": "stdout",
     "output_type": "stream",
     "text": [
      "Estimation Time for Point Estimation: 0.18 seconds.\n",
      "Final log-likelihood: -5,073.4276\n"
     ]
    },
    {
     "data": {
      "text/html": [
       "<table class=\"simpletable\">\n",
       "<caption>Multinomial Logit Model Regression Results</caption>\n",
       "<tr>\n",
       "  <th>Dep. Variable:</th>         <td>choice</td>          <th>  No. Observations:  </th>    <td>4,004</td>  \n",
       "</tr>\n",
       "<tr>\n",
       "  <th>Model:</th>         <td>Multinomial Logit Model</td> <th>  Df Residuals:      </th>    <td>3,985</td>  \n",
       "</tr>\n",
       "<tr>\n",
       "  <th>Method:</th>                  <td>MLE</td>           <th>  Df Model:          </th>     <td>19</td>    \n",
       "</tr>\n",
       "<tr>\n",
       "  <th>Date:</th>             <td>Thu, 26 Mar 2020</td>     <th>  Pseudo R-squ.:     </th>    <td>0.332</td>  \n",
       "</tr>\n",
       "<tr>\n",
       "  <th>Time:</th>                 <td>20:49:03</td>         <th>  Pseudo R-bar-squ.: </th>    <td>0.330</td>  \n",
       "</tr>\n",
       "<tr>\n",
       "  <th>AIC:</th>                 <td>10,184.855</td>        <th>  Log-Likelihood:    </th> <td>-5,073.428</td>\n",
       "</tr>\n",
       "<tr>\n",
       "  <th>BIC:</th>                 <td>10,304.461</td>        <th>  LL-Null:           </th> <td>-7,599.702</td>\n",
       "</tr>\n",
       "</table>\n",
       "<table class=\"simpletable\">\n",
       "<tr>\n",
       "                            <td></td>                              <th>coef</th>     <th>std err</th>      <th>z</th>      <th>P>|z|</th>  <th>[0.025</th>    <th>0.975]</th>  \n",
       "</tr>\n",
       "<tr>\n",
       "  <th>ASC Shared Ride: 2</th>                                   <td>   -1.0097</td> <td>    0.486</td> <td>   -2.079</td> <td> 0.038</td> <td>   -1.962</td> <td>   -0.058</td>\n",
       "</tr>\n",
       "<tr>\n",
       "  <th>ASC Shared Ride: 3+</th>                                  <td>    3.4619</td> <td>    1.064</td> <td>    3.254</td> <td> 0.001</td> <td>    1.377</td> <td>    5.547</td>\n",
       "</tr>\n",
       "<tr>\n",
       "  <th>ASC Walk-Transit-Walk</th>                                <td>   -0.3921</td> <td>    0.288</td> <td>   -1.360</td> <td> 0.174</td> <td>   -0.957</td> <td>    0.173</td>\n",
       "</tr>\n",
       "<tr>\n",
       "  <th>ASC Drive-Transit-Walk</th>                               <td>   -2.6220</td> <td>    0.303</td> <td>   -8.660</td> <td> 0.000</td> <td>   -3.215</td> <td>   -2.029</td>\n",
       "</tr>\n",
       "<tr>\n",
       "  <th>ASC Walk-Transit-Drive</th>                               <td>   -2.9773</td> <td>    0.306</td> <td>   -9.725</td> <td> 0.000</td> <td>   -3.577</td> <td>   -2.377</td>\n",
       "</tr>\n",
       "<tr>\n",
       "  <th>ASC Walk</th>                                             <td>    1.5541</td> <td>    0.305</td> <td>    5.101</td> <td> 0.000</td> <td>    0.957</td> <td>    2.151</td>\n",
       "</tr>\n",
       "<tr>\n",
       "  <th>ASC Bike</th>                                             <td>   -1.1059</td> <td>    0.305</td> <td>   -3.628</td> <td> 0.000</td> <td>   -1.703</td> <td>   -0.508</td>\n",
       "</tr>\n",
       "<tr>\n",
       "  <th>Travel Time, units:min (All Auto Modes)</th>              <td>   -0.0760</td> <td>    0.006</td> <td>  -13.728</td> <td> 0.000</td> <td>   -0.087</td> <td>   -0.065</td>\n",
       "</tr>\n",
       "<tr>\n",
       "  <th>Travel Time, units:min (All Transit Modes)</th>           <td>   -0.0274</td> <td>    0.002</td> <td>  -12.768</td> <td> 0.000</td> <td>   -0.032</td> <td>   -0.023</td>\n",
       "</tr>\n",
       "<tr>\n",
       "  <th>Travel Cost, units:$ (All Transit Modes)</th>             <td>   -0.1273</td> <td>    0.037</td> <td>   -3.472</td> <td> 0.001</td> <td>   -0.199</td> <td>   -0.055</td>\n",
       "</tr>\n",
       "<tr>\n",
       "  <th>Travel Cost per Distance, units:$/mi (Drive Alone)</th>   <td>   -5.0613</td> <td>    1.377</td> <td>   -3.675</td> <td> 0.000</td> <td>   -7.760</td> <td>   -2.362</td>\n",
       "</tr>\n",
       "<tr>\n",
       "  <th>Travel Cost per Distance, units:$/mi (SharedRide-2)</th>  <td>  -20.3194</td> <td>    4.548</td> <td>   -4.467</td> <td> 0.000</td> <td>  -29.234</td> <td>  -11.405</td>\n",
       "</tr>\n",
       "<tr>\n",
       "  <th>Travel Cost per Distance, units:$/mi (SharedRide-3+)</th> <td>  -90.9224</td> <td>   14.748</td> <td>   -6.165</td> <td> 0.000</td> <td> -119.829</td> <td>  -62.016</td>\n",
       "</tr>\n",
       "<tr>\n",
       "  <th>Autos per licensed drivers (All Auto Modes)</th>          <td>    1.2134</td> <td>    0.129</td> <td>    9.408</td> <td> 0.000</td> <td>    0.961</td> <td>    1.466</td>\n",
       "</tr>\n",
       "<tr>\n",
       "  <th>Travel Distance, units:mi (Walk)</th>                     <td>   -1.0272</td> <td>    0.050</td> <td>  -20.437</td> <td> 0.000</td> <td>   -1.126</td> <td>   -0.929</td>\n",
       "</tr>\n",
       "<tr>\n",
       "  <th>Travel Distance, units:mi (Bike)</th>                     <td>   -0.2873</td> <td>    0.024</td> <td>  -11.896</td> <td> 0.000</td> <td>   -0.335</td> <td>   -0.240</td>\n",
       "</tr>\n",
       "<tr>\n",
       "  <th>Cross-Bay Tour (Shared Ride 2 & 3+)</th>                  <td>    0.9280</td> <td>    0.327</td> <td>    2.839</td> <td> 0.005</td> <td>    0.287</td> <td>    1.569</td>\n",
       "</tr>\n",
       "<tr>\n",
       "  <th>Household Size (Shared Ride 2 & 3+)</th>                  <td>    0.1136</td> <td>    0.045</td> <td>    2.523</td> <td> 0.012</td> <td>    0.025</td> <td>    0.202</td>\n",
       "</tr>\n",
       "<tr>\n",
       "  <th>Number of Kids in Household (Shared Ride 2 & 3+)</th>     <td>    0.6868</td> <td>    0.054</td> <td>   12.820</td> <td> 0.000</td> <td>    0.582</td> <td>    0.792</td>\n",
       "</tr>\n",
       "</table>"
      ],
      "text/plain": [
       "<class 'statsmodels.iolib.summary.Summary'>\n",
       "\"\"\"\n",
       "                     Multinomial Logit Model Regression Results                    \n",
       "===================================================================================\n",
       "Dep. Variable:                      choice   No. Observations:                4,004\n",
       "Model:             Multinomial Logit Model   Df Residuals:                    3,985\n",
       "Method:                                MLE   Df Model:                           19\n",
       "Date:                     Thu, 26 Mar 2020   Pseudo R-squ.:                   0.332\n",
       "Time:                             20:49:03   Pseudo R-bar-squ.:               0.330\n",
       "AIC:                            10,184.855   Log-Likelihood:             -5,073.428\n",
       "BIC:                            10,304.461   LL-Null:                    -7,599.702\n",
       "========================================================================================================================\n",
       "                                                           coef    std err          z      P>|z|      [0.025      0.975]\n",
       "------------------------------------------------------------------------------------------------------------------------\n",
       "ASC Shared Ride: 2                                      -1.0097      0.486     -2.079      0.038      -1.962      -0.058\n",
       "ASC Shared Ride: 3+                                      3.4619      1.064      3.254      0.001       1.377       5.547\n",
       "ASC Walk-Transit-Walk                                   -0.3921      0.288     -1.360      0.174      -0.957       0.173\n",
       "ASC Drive-Transit-Walk                                  -2.6220      0.303     -8.660      0.000      -3.215      -2.029\n",
       "ASC Walk-Transit-Drive                                  -2.9773      0.306     -9.725      0.000      -3.577      -2.377\n",
       "ASC Walk                                                 1.5541      0.305      5.101      0.000       0.957       2.151\n",
       "ASC Bike                                                -1.1059      0.305     -3.628      0.000      -1.703      -0.508\n",
       "Travel Time, units:min (All Auto Modes)                 -0.0760      0.006    -13.728      0.000      -0.087      -0.065\n",
       "Travel Time, units:min (All Transit Modes)              -0.0274      0.002    -12.768      0.000      -0.032      -0.023\n",
       "Travel Cost, units:$ (All Transit Modes)                -0.1273      0.037     -3.472      0.001      -0.199      -0.055\n",
       "Travel Cost per Distance, units:$/mi (Drive Alone)      -5.0613      1.377     -3.675      0.000      -7.760      -2.362\n",
       "Travel Cost per Distance, units:$/mi (SharedRide-2)    -20.3194      4.548     -4.467      0.000     -29.234     -11.405\n",
       "Travel Cost per Distance, units:$/mi (SharedRide-3+)   -90.9224     14.748     -6.165      0.000    -119.829     -62.016\n",
       "Autos per licensed drivers (All Auto Modes)              1.2134      0.129      9.408      0.000       0.961       1.466\n",
       "Travel Distance, units:mi (Walk)                        -1.0272      0.050    -20.437      0.000      -1.126      -0.929\n",
       "Travel Distance, units:mi (Bike)                        -0.2873      0.024    -11.896      0.000      -0.335      -0.240\n",
       "Cross-Bay Tour (Shared Ride 2 & 3+)                      0.9280      0.327      2.839      0.005       0.287       1.569\n",
       "Household Size (Shared Ride 2 & 3+)                      0.1136      0.045      2.523      0.012       0.025       0.202\n",
       "Number of Kids in Household (Shared Ride 2 & 3+)         0.6868      0.054     12.820      0.000       0.582       0.792\n",
       "========================================================================================================================\n",
       "\"\"\""
      ]
     },
     "execution_count": 50,
     "metadata": {},
     "output_type": "execute_result"
    }
   ],
   "source": [
    "# Estimate the basic MNL model, using the hessian and newton-conjugate gradient\n",
    "mnl_model = pl.create_choice_model(data=bike_data_long,\n",
    "                                   alt_id_col=\"mode_id\",\n",
    "                                   obs_id_col=\"observation_id\",\n",
    "                                   choice_col=\"choice\",\n",
    "                                   specification=mnl_specification,\n",
    "                                   model_type=\"MNL\",\n",
    "                                   names=mnl_names)\n",
    "\n",
    "num_vars = len(reduce(lambda x, y: x + y, mnl_names.values()))\n",
    "\n",
    "# Note newton-cg used to ensure convergence to a point where gradient\n",
    "# is essentially zero for all dimensions.\n",
    "mnl_model.fit_mle(np.zeros(num_vars),\n",
    "                  method=\"BFGS\")\n",
    "\n",
    "# Look at the estimation results\n",
    "mnl_model.get_statsmodels_summary()"
   ]
  },
  {
   "cell_type": "markdown",
   "metadata": {},
   "source": [
    "## Example Implementation "
   ]
  },
  {
   "cell_type": "markdown",
   "metadata": {},
   "source": [
    "## Declaring variables"
   ]
  },
  {
   "cell_type": "code",
   "execution_count": 51,
   "metadata": {},
   "outputs": [],
   "source": [
    "# Declaring all the needed variables for each of our functions\n",
    "\n",
    "# Observation id column\n",
    "observation_id_col = 'observation_id'\n",
    "\n",
    "# Alternative id column\n",
    "alternative_id_col = 'mode_id'\n",
    "\n",
    "# Individual specific variables list\n",
    "individual_specific_variables = ['num_kids', 'household_size',\n",
    "                                 'num_cars', 'num_licensed_drivers']\n",
    "\n",
    "# Alternative specific variables list\n",
    "alternative_specific_variables = ['total_travel_time',\n",
    "                                  'total_travel_distance',\n",
    "                                  'total_travel_cost']\n",
    "\n",
    "# Trip specific variables list\n",
    "trip_specific_variables = ['cross_bay']\n",
    "\n",
    "# Alternative name dictionary\n",
    "alternative_name_dict = {1: 'drive_alone',\n",
    "                         2: 'shared_2',\n",
    "                         3: 'shared_3p',\n",
    "                         4: 'wtw',\n",
    "                         5: 'dtw',\n",
    "                         6: 'wtd',\n",
    "                         7: 'walk',\n",
    "                         8: 'bike'}\n",
    "\n",
    "# Variable type Dictionary\n",
    "variable_type = {'num_kids': 'categorical',\n",
    "                 'household_size': 'categorical',\n",
    "                 'num_cars': 'categorical',\n",
    "                 'num_licensed_drivers': 'categorical',\n",
    "                 'cross_bay': 'categorical',\n",
    "                 'total_travel_time': 'continuous',\n",
    "                 'total_travel_distance': 'continuous',\n",
    "                 'total_travel_cost': 'continuous'}\n",
    "\n",
    "# Distribution to be explored for continuous variables\n",
    "distributions = ['normal', 'alpha', 'beta', 'gamma', 'expon', 'gumbel']"
   ]
  },
  {
   "cell_type": "markdown",
   "metadata": {},
   "source": [
    "## Implementation of Function"
   ]
  },
  {
   "cell_type": "code",
   "execution_count": 52,
   "metadata": {},
   "outputs": [
    {
     "name": "stdout",
     "output_type": "stream",
     "text": [
      "SKIPPED normal distribution (taking more than 30 seconds)\n",
      "Fitted alpha distribution with error=0.0007989652291582563)\n",
      "Fitted beta distribution with error=0.00021837510493444555)\n"
     ]
    },
    {
     "name": "stderr",
     "output_type": "stream",
     "text": [
      "/Users/mobouzaghrane/opt/anaconda3/lib/python3.7/site-packages/scipy/stats/_distn_infrastructure.py:2381: RuntimeWarning: invalid value encountered in double_scalars\n",
      "  Lhat = muhat - Shat*mu\n",
      "/Users/mobouzaghrane/opt/anaconda3/lib/python3.7/site-packages/scipy/stats/_continuous_distns.py:515: RuntimeWarning: invalid value encountered in sqrt\n",
      "  sk = 2*(b-a)*np.sqrt(a + b + 1) / (a + b + 2) / np.sqrt(a*b)\n",
      "/Users/mobouzaghrane/opt/anaconda3/lib/python3.7/site-packages/scipy/optimize/minpack.py:162: RuntimeWarning: The iteration is not making good progress, as measured by the \n",
      "  improvement from the last ten iterations.\n",
      "  warnings.warn(msg, RuntimeWarning)\n"
     ]
    },
    {
     "name": "stdout",
     "output_type": "stream",
     "text": [
      "Fitted gamma distribution with error=0.00021215664843294874)\n",
      "Fitted expon distribution with error=0.00042675380208476757)\n",
      "SKIPPED gumbel distribution (taking more than 30 seconds)\n",
      "SKIPPED normal distribution (taking more than 30 seconds)\n",
      "Fitted alpha distribution with error=0.014522128648725777)\n",
      "Fitted beta distribution with error=0.0011963782652540424)\n",
      "Fitted gamma distribution with error=0.0011394543473683448)\n",
      "Fitted expon distribution with error=0.002052652669300775)\n",
      "SKIPPED gumbel distribution (taking more than 30 seconds)\n",
      "SKIPPED normal distribution (taking more than 30 seconds)\n",
      "Fitted alpha distribution with error=0.013034447497270776)\n",
      "Fitted beta distribution with error=0.04104766585766829)\n",
      "Fitted gamma distribution with error=0.03662007898297577)\n",
      "Fitted expon distribution with error=0.07921887555564106)\n",
      "SKIPPED gumbel distribution (taking more than 30 seconds)\n",
      "SKIPPED normal distribution (taking more than 30 seconds)\n",
      "Fitted alpha distribution with error=0.001056930694286857)\n",
      "Fitted beta distribution with error=0.0002880878794523213)\n",
      "Fitted gamma distribution with error=0.00028798219056962133)\n",
      "Fitted expon distribution with error=0.0006139993763181574)\n",
      "SKIPPED gumbel distribution (taking more than 30 seconds)\n",
      "SKIPPED normal distribution (taking more than 30 seconds)\n",
      "Fitted alpha distribution with error=0.014457810916552023)\n",
      "Fitted beta distribution with error=0.0012976882508515305)\n",
      "Fitted gamma distribution with error=0.0012552378475140624)\n",
      "Fitted expon distribution with error=0.0019967778289294194)\n",
      "SKIPPED gumbel distribution (taking more than 30 seconds)\n",
      "SKIPPED normal distribution (taking more than 30 seconds)\n",
      "Fitted alpha distribution with error=0.04504063577126065)\n",
      "Fitted beta distribution with error=0.15781307177556403)\n",
      "Fitted gamma distribution with error=0.15841075884851374)\n",
      "Fitted expon distribution with error=0.25956064777904964)\n",
      "SKIPPED gumbel distribution (taking more than 30 seconds)\n",
      "SKIPPED normal distribution (taking more than 30 seconds)\n",
      "Fitted alpha distribution with error=0.0010612734128178794)\n",
      "Fitted beta distribution with error=0.00023601477811189558)\n",
      "Fitted gamma distribution with error=0.00023611716873763347)\n",
      "Fitted expon distribution with error=0.0006076210852379661)\n",
      "SKIPPED gumbel distribution (taking more than 30 seconds)\n",
      "SKIPPED normal distribution (taking more than 30 seconds)\n",
      "Fitted alpha distribution with error=0.014462601227138085)\n",
      "Fitted beta distribution with error=0.001276124018206852)\n",
      "Fitted gamma distribution with error=0.0012547975031013958)\n",
      "Fitted expon distribution with error=0.0020004181046601524)\n",
      "SKIPPED gumbel distribution (taking more than 30 seconds)\n",
      "SKIPPED normal distribution (taking more than 30 seconds)\n",
      "Fitted alpha distribution with error=0.09325519048258353)\n",
      "Fitted beta distribution with error=0.2719576971221132)\n",
      "Fitted gamma distribution with error=0.2684643698148782)\n",
      "Fitted expon distribution with error=0.4484867698126394)\n",
      "SKIPPED gumbel distribution (taking more than 30 seconds)\n",
      "SKIPPED normal distribution (taking more than 30 seconds)\n",
      "Fitted alpha distribution with error=0.00010782141835446614)\n",
      "Fitted beta distribution with error=0.00011146390130275948)\n",
      "Fitted gamma distribution with error=0.00010902380039568413)\n",
      "Fitted expon distribution with error=0.0006821775284529087)\n",
      "SKIPPED gumbel distribution (taking more than 30 seconds)\n",
      "SKIPPED normal distribution (taking more than 30 seconds)\n",
      "Fitted alpha distribution with error=8.394020014580313)\n"
     ]
    },
    {
     "name": "stderr",
     "output_type": "stream",
     "text": [
      "/Users/mobouzaghrane/opt/anaconda3/lib/python3.7/site-packages/scipy/optimize/minpack.py:162: RuntimeWarning: The iteration is not making good progress, as measured by the \n",
      "  improvement from the last five Jacobian evaluations.\n",
      "  warnings.warn(msg, RuntimeWarning)\n"
     ]
    },
    {
     "name": "stdout",
     "output_type": "stream",
     "text": [
      "Fitted beta distribution with error=8.724425966292245)\n",
      "Fitted gamma distribution with error=8.724370722136563)\n",
      "Fitted expon distribution with error=9.1690513221318)\n",
      "SKIPPED gumbel distribution (taking more than 30 seconds)\n",
      "SKIPPED normal distribution (taking more than 30 seconds)\n",
      "Fitted alpha distribution with error=6.672556141363111e-05)\n",
      "Fitted beta distribution with error=6.196777802352273e-05)\n",
      "Fitted gamma distribution with error=6.08535018564024e-05)\n",
      "Fitted expon distribution with error=0.0007188034183935458)\n",
      "SKIPPED gumbel distribution (taking more than 30 seconds)\n",
      "SKIPPED normal distribution (taking more than 30 seconds)\n",
      "Fitted alpha distribution with error=8.324919501617495)\n",
      "Fitted beta distribution with error=9.381940852860888)\n",
      "Fitted gamma distribution with error=8.638629330672966)\n",
      "Fitted expon distribution with error=9.271523141699383)\n",
      "SKIPPED gumbel distribution (taking more than 30 seconds)\n",
      "SKIPPED normal distribution (taking more than 30 seconds)\n",
      "Fitted alpha distribution with error=8.054952402098987e-05)\n",
      "Fitted beta distribution with error=8.156641381917802e-05)\n",
      "Fitted gamma distribution with error=8.048390439269993e-05)\n",
      "Fitted expon distribution with error=0.0008900680532886661)\n",
      "SKIPPED gumbel distribution (taking more than 30 seconds)\n",
      "SKIPPED normal distribution (taking more than 30 seconds)\n",
      "Fitted alpha distribution with error=8.770907888528171)\n",
      "Fitted beta distribution with error=9.796625940589463)\n",
      "Fitted gamma distribution with error=9.081385466834893)\n",
      "Fitted expon distribution with error=9.667837356880147)\n",
      "SKIPPED gumbel distribution (taking more than 30 seconds)\n",
      "SKIPPED normal distribution (taking more than 30 seconds)\n",
      "Fitted alpha distribution with error=3.710751949856986e-05)\n",
      "Fitted beta distribution with error=5.925127101230748e-06)\n",
      "Fitted gamma distribution with error=5.804430139130399e-06)\n",
      "Fitted expon distribution with error=8.673334653358734e-06)\n",
      "SKIPPED gumbel distribution (taking more than 30 seconds)\n",
      "SKIPPED normal distribution (taking more than 30 seconds)\n",
      "Fitted alpha distribution with error=0.0008972367532526685)\n",
      "Fitted beta distribution with error=0.002377025832720183)\n",
      "Fitted gamma distribution with error=0.002275034836025737)\n",
      "Fitted expon distribution with error=0.003469333861343498)\n",
      "SKIPPED gumbel distribution (taking more than 30 seconds)\n",
      "SKIPPED normal distribution (taking more than 30 seconds)\n",
      "Fitted alpha distribution with error=0.0005543487080009017)\n",
      "Fitted beta distribution with error=9.899959495894452e-05)\n",
      "Fitted gamma distribution with error=7.59436705777334e-05)\n",
      "Fitted expon distribution with error=0.000167136671750175)\n",
      "SKIPPED gumbel distribution (taking more than 30 seconds)\n",
      "SKIPPED normal distribution (taking more than 30 seconds)\n",
      "Fitted alpha distribution with error=0.0007221359033952726)\n",
      "Fitted beta distribution with error=0.0024566904071273085)\n",
      "Fitted gamma distribution with error=0.0024407152169873807)\n",
      "Fitted expon distribution with error=0.004178416793754377)\n",
      "SKIPPED gumbel distribution (taking more than 30 seconds)\n"
     ]
    }
   ],
   "source": [
    "# Generate a parameters dictionary from long\n",
    "# format data\n",
    "bike_data_params = FindLongDataDist(data_long=bike_data_long,\n",
    "                                    alt_id_col=alternative_id_col,\n",
    "                                    obs_id_col=observation_id_col,\n",
    "                                    alt_spec=alternative_specific_variables,\n",
    "                                    alt_name_dic=alternative_name_dict,\n",
    "                                    ind_spec=individual_specific_variables,\n",
    "                                    trip_spec=trip_specific_variables,\n",
    "                                    var_types=variable_type,\n",
    "                                    cont_dists=distributions)"
   ]
  },
  {
   "cell_type": "code",
   "execution_count": 53,
   "metadata": {},
   "outputs": [],
   "source": [
    "# Simulate data from the params_dict\n",
    "wide_sim_data = SimDf(params_dict=bike_data_params, size=2000)"
   ]
  },
  {
   "cell_type": "code",
   "execution_count": 54,
   "metadata": {},
   "outputs": [
    {
     "data": {
      "text/html": [
       "<div>\n",
       "<style scoped>\n",
       "    .dataframe tbody tr th:only-of-type {\n",
       "        vertical-align: middle;\n",
       "    }\n",
       "\n",
       "    .dataframe tbody tr th {\n",
       "        vertical-align: top;\n",
       "    }\n",
       "\n",
       "    .dataframe thead th {\n",
       "        text-align: right;\n",
       "    }\n",
       "</style>\n",
       "<table border=\"1\" class=\"dataframe\">\n",
       "  <thead>\n",
       "    <tr style=\"text-align: right;\">\n",
       "      <th></th>\n",
       "      <th>num_kids</th>\n",
       "      <th>household_size</th>\n",
       "      <th>num_cars</th>\n",
       "      <th>num_licensed_drivers</th>\n",
       "      <th>total_travel_time_drive_alone</th>\n",
       "      <th>total_travel_distance_drive_alone</th>\n",
       "      <th>total_travel_cost_drive_alone</th>\n",
       "      <th>total_travel_time_shared_2</th>\n",
       "      <th>total_travel_distance_shared_2</th>\n",
       "      <th>total_travel_cost_shared_2</th>\n",
       "      <th>...</th>\n",
       "      <th>total_travel_time_wtd</th>\n",
       "      <th>total_travel_distance_wtd</th>\n",
       "      <th>total_travel_cost_wtd</th>\n",
       "      <th>total_travel_time_walk</th>\n",
       "      <th>total_travel_distance_walk</th>\n",
       "      <th>total_travel_cost_walk</th>\n",
       "      <th>total_travel_time_bike</th>\n",
       "      <th>total_travel_distance_bike</th>\n",
       "      <th>total_travel_cost_bike</th>\n",
       "      <th>cross_bay</th>\n",
       "    </tr>\n",
       "  </thead>\n",
       "  <tbody>\n",
       "    <tr>\n",
       "      <td>0</td>\n",
       "      <td>1</td>\n",
       "      <td>5.0</td>\n",
       "      <td>3.0</td>\n",
       "      <td>2.0</td>\n",
       "      <td>66.578734</td>\n",
       "      <td>7.372854</td>\n",
       "      <td>2.713315</td>\n",
       "      <td>184.433184</td>\n",
       "      <td>5.326917</td>\n",
       "      <td>0.179597</td>\n",
       "      <td>...</td>\n",
       "      <td>114.227193</td>\n",
       "      <td>0.0</td>\n",
       "      <td>3.815357</td>\n",
       "      <td>96.319444</td>\n",
       "      <td>4.684574</td>\n",
       "      <td>0.0</td>\n",
       "      <td>65.119196</td>\n",
       "      <td>1.492854</td>\n",
       "      <td>0.0</td>\n",
       "      <td>0</td>\n",
       "    </tr>\n",
       "    <tr>\n",
       "      <td>1</td>\n",
       "      <td>1</td>\n",
       "      <td>4.0</td>\n",
       "      <td>2.0</td>\n",
       "      <td>2.0</td>\n",
       "      <td>10.135993</td>\n",
       "      <td>12.368142</td>\n",
       "      <td>27.099068</td>\n",
       "      <td>35.930718</td>\n",
       "      <td>0.758083</td>\n",
       "      <td>0.709557</td>\n",
       "      <td>...</td>\n",
       "      <td>40.200960</td>\n",
       "      <td>0.0</td>\n",
       "      <td>6.488446</td>\n",
       "      <td>478.642116</td>\n",
       "      <td>5.396284</td>\n",
       "      <td>0.0</td>\n",
       "      <td>28.435730</td>\n",
       "      <td>6.093021</td>\n",
       "      <td>0.0</td>\n",
       "      <td>0</td>\n",
       "    </tr>\n",
       "    <tr>\n",
       "      <td>2</td>\n",
       "      <td>3</td>\n",
       "      <td>4.0</td>\n",
       "      <td>2.0</td>\n",
       "      <td>2.0</td>\n",
       "      <td>29.427574</td>\n",
       "      <td>20.519166</td>\n",
       "      <td>1.956638</td>\n",
       "      <td>20.185671</td>\n",
       "      <td>52.905064</td>\n",
       "      <td>1.024276</td>\n",
       "      <td>...</td>\n",
       "      <td>26.451318</td>\n",
       "      <td>0.0</td>\n",
       "      <td>2.758672</td>\n",
       "      <td>812.781653</td>\n",
       "      <td>0.365432</td>\n",
       "      <td>0.0</td>\n",
       "      <td>26.346786</td>\n",
       "      <td>2.624072</td>\n",
       "      <td>0.0</td>\n",
       "      <td>1</td>\n",
       "    </tr>\n",
       "    <tr>\n",
       "      <td>3</td>\n",
       "      <td>0</td>\n",
       "      <td>1.0</td>\n",
       "      <td>1.0</td>\n",
       "      <td>3.0</td>\n",
       "      <td>59.474358</td>\n",
       "      <td>20.114770</td>\n",
       "      <td>0.932825</td>\n",
       "      <td>15.124260</td>\n",
       "      <td>5.889091</td>\n",
       "      <td>0.651614</td>\n",
       "      <td>...</td>\n",
       "      <td>130.582944</td>\n",
       "      <td>0.0</td>\n",
       "      <td>6.248975</td>\n",
       "      <td>400.475062</td>\n",
       "      <td>4.766874</td>\n",
       "      <td>0.0</td>\n",
       "      <td>75.953744</td>\n",
       "      <td>125.089979</td>\n",
       "      <td>0.0</td>\n",
       "      <td>0</td>\n",
       "    </tr>\n",
       "    <tr>\n",
       "      <td>4</td>\n",
       "      <td>0</td>\n",
       "      <td>4.0</td>\n",
       "      <td>2.0</td>\n",
       "      <td>2.0</td>\n",
       "      <td>14.585612</td>\n",
       "      <td>10.398315</td>\n",
       "      <td>2.361913</td>\n",
       "      <td>99.696932</td>\n",
       "      <td>5.247848</td>\n",
       "      <td>0.422539</td>\n",
       "      <td>...</td>\n",
       "      <td>97.978466</td>\n",
       "      <td>0.0</td>\n",
       "      <td>5.259502</td>\n",
       "      <td>178.069285</td>\n",
       "      <td>16.254209</td>\n",
       "      <td>0.0</td>\n",
       "      <td>6.719712</td>\n",
       "      <td>2.098695</td>\n",
       "      <td>0.0</td>\n",
       "      <td>0</td>\n",
       "    </tr>\n",
       "  </tbody>\n",
       "</table>\n",
       "<p>5 rows × 29 columns</p>\n",
       "</div>"
      ],
      "text/plain": [
       "   num_kids  household_size  num_cars  num_licensed_drivers  \\\n",
       "0         1             5.0       3.0                   2.0   \n",
       "1         1             4.0       2.0                   2.0   \n",
       "2         3             4.0       2.0                   2.0   \n",
       "3         0             1.0       1.0                   3.0   \n",
       "4         0             4.0       2.0                   2.0   \n",
       "\n",
       "   total_travel_time_drive_alone  total_travel_distance_drive_alone  \\\n",
       "0                      66.578734                           7.372854   \n",
       "1                      10.135993                          12.368142   \n",
       "2                      29.427574                          20.519166   \n",
       "3                      59.474358                          20.114770   \n",
       "4                      14.585612                          10.398315   \n",
       "\n",
       "   total_travel_cost_drive_alone  total_travel_time_shared_2  \\\n",
       "0                       2.713315                  184.433184   \n",
       "1                      27.099068                   35.930718   \n",
       "2                       1.956638                   20.185671   \n",
       "3                       0.932825                   15.124260   \n",
       "4                       2.361913                   99.696932   \n",
       "\n",
       "   total_travel_distance_shared_2  total_travel_cost_shared_2  ...  \\\n",
       "0                        5.326917                    0.179597  ...   \n",
       "1                        0.758083                    0.709557  ...   \n",
       "2                       52.905064                    1.024276  ...   \n",
       "3                        5.889091                    0.651614  ...   \n",
       "4                        5.247848                    0.422539  ...   \n",
       "\n",
       "   total_travel_time_wtd  total_travel_distance_wtd  total_travel_cost_wtd  \\\n",
       "0             114.227193                        0.0               3.815357   \n",
       "1              40.200960                        0.0               6.488446   \n",
       "2              26.451318                        0.0               2.758672   \n",
       "3             130.582944                        0.0               6.248975   \n",
       "4              97.978466                        0.0               5.259502   \n",
       "\n",
       "   total_travel_time_walk  total_travel_distance_walk  total_travel_cost_walk  \\\n",
       "0               96.319444                    4.684574                     0.0   \n",
       "1              478.642116                    5.396284                     0.0   \n",
       "2              812.781653                    0.365432                     0.0   \n",
       "3              400.475062                    4.766874                     0.0   \n",
       "4              178.069285                   16.254209                     0.0   \n",
       "\n",
       "   total_travel_time_bike  total_travel_distance_bike  total_travel_cost_bike  \\\n",
       "0               65.119196                    1.492854                     0.0   \n",
       "1               28.435730                    6.093021                     0.0   \n",
       "2               26.346786                    2.624072                     0.0   \n",
       "3               75.953744                  125.089979                     0.0   \n",
       "4                6.719712                    2.098695                     0.0   \n",
       "\n",
       "   cross_bay  \n",
       "0          0  \n",
       "1          0  \n",
       "2          1  \n",
       "3          0  \n",
       "4          0  \n",
       "\n",
       "[5 rows x 29 columns]"
      ]
     },
     "execution_count": 54,
     "metadata": {},
     "output_type": "execute_result"
    }
   ],
   "source": [
    "# Explore the simulated data\n",
    "wide_sim_data.head()"
   ]
  },
  {
   "cell_type": "code",
   "execution_count": 55,
   "metadata": {},
   "outputs": [],
   "source": [
    "# Simulate availability, add fake choice column\n",
    "# and return final simulated data with availability\n",
    "# and choices\n",
    "\n",
    "wide_sim_data_availability = SimulateAvailability(bike_data_long,\n",
    "                                     sim_data=wide_sim_data,\n",
    "                                     obs_id_col=observation_id_col,\n",
    "                                     alt_name_dict=alternative_name_dict)"
   ]
  },
  {
   "cell_type": "markdown",
   "metadata": {},
   "source": [
    "# Simulate Choices "
   ]
  },
  {
   "cell_type": "markdown",
   "metadata": {},
   "source": [
    "## Convert Simulated Data from Wide to Long "
   ]
  },
  {
   "cell_type": "code",
   "execution_count": 56,
   "metadata": {},
   "outputs": [],
   "source": [
    "ind_variables = ['num_kids', 'household_size',\n",
    "                 'num_cars', 'num_licensed_drivers', 'cross_bay']\n",
    "\n",
    "\n",
    "# Dictionary of Alternative Specific Variables\n",
    "# TODO: verify whether all variables are needed\n",
    "# for each alternative\n",
    "alt_varying_variables = {u'total_travel_time': dict([(1, 'total_travel_time_drive_alone'),\n",
    "                                                     (2, 'total_travel_time_shared_2'),\n",
    "                                                     (3, 'total_travel_time_shared_3p'),\n",
    "                                                     (4, 'total_travel_time_wtw'),\n",
    "                                                     (5, 'total_travel_time_dtw'),\n",
    "                                                     (6, 'total_travel_time_wtd'),\n",
    "                                                     (7, 'total_travel_time_walk'),\n",
    "                                                     (8, 'total_travel_time_bike')]),\n",
    "                         u'total_travel_cost': dict([(1, 'total_travel_cost_drive_alone'),\n",
    "                                                     (2, 'total_travel_cost_shared_2'),\n",
    "                                                     (3, 'total_travel_cost_shared_3p'),\n",
    "                                                     (4, 'total_travel_cost_wtw'),\n",
    "                                                     (5, 'total_travel_cost_dtw'),\n",
    "                                                     (6, 'total_travel_cost_wtd'),\n",
    "                                                     (7, 'total_travel_cost_walk'),\n",
    "                                                     (8, 'total_travel_cost_bike')]),\n",
    "                         u'total_travel_distance': dict([(1, 'total_travel_distance_drive_alone'),\n",
    "                                                         (2, 'total_travel_distance_shared_2'),\n",
    "                                                         (3, 'total_travel_distance_shared_3p'),\n",
    "                                                         (4, 'total_travel_distance_wtw'),\n",
    "                                                         (5, 'total_travel_distance_dtw'),\n",
    "                                                         (6, 'total_travel_distance_wtd'),\n",
    "                                                         (7, 'total_travel_distance_walk'),\n",
    "                                                         (8, 'total_travel_distance_bike')]),\n",
    "                            }\n",
    "\n",
    "\n",
    "# Dictionary of alternative availability variables\n",
    "availability_variables = {1: 'drive_alone_AV',\n",
    "                          2: 'shared_2_AV',\n",
    "                          3: 'shared_3p_AV',\n",
    "                          4: 'wtw_AV',\n",
    "                          5: 'dtw_AV',\n",
    "                          6: 'wtd_AV',\n",
    "                          7: 'walk_AV',\n",
    "                          8: 'bike_AV'}\n",
    "\n",
    "##########\n",
    "# Determine the columns for: alternative ids, the observation ids and the choice\n",
    "##########\n",
    "# The 'custom_alt_id' is the name of a column to be created in the long-format data\n",
    "# It will identify the alternative associated with each row.\n",
    "custom_alt_id = \"mode_id\"\n",
    "\n",
    "# Create a custom id column that ignores the fact that this is a\n",
    "# panel/repeated-observations dataset. Note the +1 ensures the id's start at one.\n",
    "obs_id_column = \"observation_id\"\n",
    "\n",
    "wide_sim_data_availability[obs_id_column] = np.arange(wide_sim_data.shape[0],\n",
    "                                         dtype=int) + 1\n",
    "\n",
    "\n",
    "# Create an empty choice column\n",
    "choice_column = \"sim_choice\""
   ]
  },
  {
   "cell_type": "markdown",
   "metadata": {},
   "source": [
    "## Convert to Long Format Data"
   ]
  },
  {
   "cell_type": "code",
   "execution_count": 57,
   "metadata": {},
   "outputs": [],
   "source": [
    "# Convert data from wide to long\n",
    "long_sim_data = pl.convert_wide_to_long(wide_sim_data_availability,\n",
    "                                        ind_variables,\n",
    "                                        alt_varying_variables,\n",
    "                                        availability_variables,\n",
    "                                        obs_id_column,\n",
    "                                        choice_column,\n",
    "                                        new_alt_id_name=custom_alt_id)"
   ]
  },
  {
   "cell_type": "code",
   "execution_count": 58,
   "metadata": {},
   "outputs": [],
   "source": [
    "# Create a cars per licensed drivers column\n",
    "long_sim_data[\"cars_per_licensed_drivers\"] = 0\n",
    "long_sim_data.loc[long_sim_data.num_licensed_drivers > 0,\n",
    "                  \"cars_per_licensed_drivers\"] = long_sim_data.num_cars / long_sim_data.num_licensed_drivers.astype(float)"
   ]
  },
  {
   "cell_type": "code",
   "execution_count": 59,
   "metadata": {},
   "outputs": [],
   "source": [
    "# Add a variable representing cost divided by distance\n",
    "long_sim_data[\"cost_per_distance\"] = 0\n",
    "long_sim_data.loc[long_sim_data.mode_id.isin([1, 2, 3]),\n",
    "                  \"cost_per_distance\"] = (long_sim_data.loc[long_sim_data.mode_id.isin([1, 2, 3]),\n",
    "                                                            \"total_travel_cost\"] /\n",
    "                                          long_sim_data.loc[long_sim_data.mode_id.isin([1, 2, 3]),\n",
    "                                                            \"total_travel_distance\"])"
   ]
  },
  {
   "cell_type": "markdown",
   "metadata": {},
   "source": [
    "## Simulate choices"
   ]
  },
  {
   "cell_type": "code",
   "execution_count": 60,
   "metadata": {},
   "outputs": [
    {
     "name": "stderr",
     "output_type": "stream",
     "text": [
      "/Users/mobouzaghrane/opt/anaconda3/lib/python3.7/site-packages/pylogit/choice_tools.py:703: FutureWarning: arrays to stack must be passed as a \"sequence\" type such as list or tuple. Support for non-sequence iterables such as generators is deprecated as of NumPy 1.16 and will raise an error in the future.\n",
      "  design_matrix = np.hstack((x[:, None] for x in independent_vars))\n"
     ]
    },
    {
     "data": {
      "application/vnd.jupyter.widget-view+json": {
       "model_id": "3178171a7c6547f48681b04b493a467a",
       "version_major": 2,
       "version_minor": 0
      },
      "text/plain": [
       "HBox(children=(IntProgress(value=0, description='Simulating Choices', max=2000, style=ProgressStyle(descriptio…"
      ]
     },
     "metadata": {},
     "output_type": "display_data"
    },
    {
     "name": "stdout",
     "output_type": "stream",
     "text": [
      "\n"
     ]
    }
   ],
   "source": [
    "# Calculate probabilities for each alternative\n",
    "# based on the estimated model\n",
    "posterior_probs = mnl_model.predict(long_sim_data)\n",
    "\n",
    "# Simulate choice data\n",
    "long_sim_data['sim_choice'] = viz.simulate_choice_vector(posterior_probs,\n",
    "                               long_sim_data['observation_id'].values)"
   ]
  },
  {
   "cell_type": "markdown",
   "metadata": {},
   "source": [
    "## Estimate the model based on simulate choice data "
   ]
  },
  {
   "cell_type": "code",
   "execution_count": 62,
   "metadata": {},
   "outputs": [
    {
     "name": "stdout",
     "output_type": "stream",
     "text": [
      "Log-likelihood at zero: -3,796.7972\n",
      "Initial Log-likelihood: -3,796.7972\n"
     ]
    },
    {
     "name": "stderr",
     "output_type": "stream",
     "text": [
      "/Users/mobouzaghrane/opt/anaconda3/lib/python3.7/site-packages/scipy/optimize/_minimize.py:505: RuntimeWarning: Method BFGS does not use Hessian information (hess).\n",
      "  RuntimeWarning)\n"
     ]
    },
    {
     "name": "stdout",
     "output_type": "stream",
     "text": [
      "Estimation Time for Point Estimation: 0.21 seconds.\n",
      "Final log-likelihood: -1,332.1977\n"
     ]
    },
    {
     "data": {
      "text/html": [
       "<table class=\"simpletable\">\n",
       "<caption>Multinomial Logit Model Regression Results</caption>\n",
       "<tr>\n",
       "  <th>Dep. Variable:</th>       <td>sim_choice</td>        <th>  No. Observations:  </th>    <td>2,000</td>  \n",
       "</tr>\n",
       "<tr>\n",
       "  <th>Model:</th>         <td>Multinomial Logit Model</td> <th>  Df Residuals:      </th>    <td>1,981</td>  \n",
       "</tr>\n",
       "<tr>\n",
       "  <th>Method:</th>                  <td>MLE</td>           <th>  Df Model:          </th>     <td>19</td>    \n",
       "</tr>\n",
       "<tr>\n",
       "  <th>Date:</th>             <td>Thu, 26 Mar 2020</td>     <th>  Pseudo R-squ.:     </th>    <td>0.649</td>  \n",
       "</tr>\n",
       "<tr>\n",
       "  <th>Time:</th>                 <td>20:50:06</td>         <th>  Pseudo R-bar-squ.: </th>    <td>0.644</td>  \n",
       "</tr>\n",
       "<tr>\n",
       "  <th>AIC:</th>                  <td>2,702.395</td>        <th>  Log-Likelihood:    </th> <td>-1,332.198</td>\n",
       "</tr>\n",
       "<tr>\n",
       "  <th>BIC:</th>                  <td>2,808.813</td>        <th>  LL-Null:           </th> <td>-3,796.797</td>\n",
       "</tr>\n",
       "</table>\n",
       "<table class=\"simpletable\">\n",
       "<tr>\n",
       "                            <td></td>                              <th>coef</th>     <th>std err</th>      <th>z</th>      <th>P>|z|</th>  <th>[0.025</th>    <th>0.975]</th>  \n",
       "</tr>\n",
       "<tr>\n",
       "  <th>ASC Shared Ride: 2</th>                                   <td>   -0.8898</td> <td>    0.253</td> <td>   -3.522</td> <td> 0.000</td> <td>   -1.385</td> <td>   -0.395</td>\n",
       "</tr>\n",
       "<tr>\n",
       "  <th>ASC Shared Ride: 3+</th>                                  <td>    3.4000</td> <td>    0.282</td> <td>   12.055</td> <td> 0.000</td> <td>    2.847</td> <td>    3.953</td>\n",
       "</tr>\n",
       "<tr>\n",
       "  <th>ASC Walk-Transit-Walk</th>                                <td>   -0.4429</td> <td>    0.343</td> <td>   -1.290</td> <td> 0.197</td> <td>   -1.116</td> <td>    0.230</td>\n",
       "</tr>\n",
       "<tr>\n",
       "  <th>ASC Drive-Transit-Walk</th>                               <td>   -2.6267</td> <td>    0.350</td> <td>   -7.515</td> <td> 0.000</td> <td>   -3.312</td> <td>   -1.942</td>\n",
       "</tr>\n",
       "<tr>\n",
       "  <th>ASC Walk-Transit-Drive</th>                               <td>   -3.3015</td> <td>    0.383</td> <td>   -8.618</td> <td> 0.000</td> <td>   -4.052</td> <td>   -2.551</td>\n",
       "</tr>\n",
       "<tr>\n",
       "  <th>ASC Walk</th>                                             <td>    2.0265</td> <td>    0.280</td> <td>    7.232</td> <td> 0.000</td> <td>    1.477</td> <td>    2.576</td>\n",
       "</tr>\n",
       "<tr>\n",
       "  <th>ASC Bike</th>                                             <td>   -0.9646</td> <td>    0.228</td> <td>   -4.237</td> <td> 0.000</td> <td>   -1.411</td> <td>   -0.518</td>\n",
       "</tr>\n",
       "<tr>\n",
       "  <th>Travel Time, units:min (All Auto Modes)</th>              <td>   -0.0692</td> <td>    0.004</td> <td>  -18.680</td> <td> 0.000</td> <td>   -0.076</td> <td>   -0.062</td>\n",
       "</tr>\n",
       "<tr>\n",
       "  <th>Travel Time, units:min (All Transit Modes)</th>           <td>   -0.0278</td> <td>    0.003</td> <td>   -9.954</td> <td> 0.000</td> <td>   -0.033</td> <td>   -0.022</td>\n",
       "</tr>\n",
       "<tr>\n",
       "  <th>Travel Cost, units:$ (All Transit Modes)</th>             <td>   -0.0701</td> <td>    0.042</td> <td>   -1.651</td> <td> 0.099</td> <td>   -0.153</td> <td>    0.013</td>\n",
       "</tr>\n",
       "<tr>\n",
       "  <th>Travel Cost per Distance, units:$/mi (Drive Alone)</th>   <td>   -5.1588</td> <td>    0.496</td> <td>  -10.407</td> <td> 0.000</td> <td>   -6.130</td> <td>   -4.187</td>\n",
       "</tr>\n",
       "<tr>\n",
       "  <th>Travel Cost per Distance, units:$/mi (SharedRide-2)</th>  <td>  -19.4792</td> <td>    1.840</td> <td>  -10.584</td> <td> 0.000</td> <td>  -23.086</td> <td>  -15.872</td>\n",
       "</tr>\n",
       "<tr>\n",
       "  <th>Travel Cost per Distance, units:$/mi (SharedRide-3+)</th> <td>  -82.5646</td> <td>    4.303</td> <td>  -19.189</td> <td> 0.000</td> <td>  -90.998</td> <td>  -74.132</td>\n",
       "</tr>\n",
       "<tr>\n",
       "  <th>Autos per licensed drivers (All Auto Modes)</th>          <td>    1.1405</td> <td>    0.128</td> <td>    8.938</td> <td> 0.000</td> <td>    0.890</td> <td>    1.391</td>\n",
       "</tr>\n",
       "<tr>\n",
       "  <th>Travel Distance, units:mi (Walk)</th>                     <td>   -1.1230</td> <td>    0.077</td> <td>  -14.582</td> <td> 0.000</td> <td>   -1.274</td> <td>   -0.972</td>\n",
       "</tr>\n",
       "<tr>\n",
       "  <th>Travel Distance, units:mi (Bike)</th>                     <td>   -0.2806</td> <td>    0.031</td> <td>   -9.062</td> <td> 0.000</td> <td>   -0.341</td> <td>   -0.220</td>\n",
       "</tr>\n",
       "<tr>\n",
       "  <th>Cross-Bay Tour (Shared Ride 2 & 3+)</th>                  <td>    1.0986</td> <td>    0.321</td> <td>    3.417</td> <td> 0.001</td> <td>    0.468</td> <td>    1.729</td>\n",
       "</tr>\n",
       "<tr>\n",
       "  <th>Household Size (Shared Ride 2 & 3+)</th>                  <td>    0.0782</td> <td>    0.055</td> <td>    1.413</td> <td> 0.158</td> <td>   -0.030</td> <td>    0.187</td>\n",
       "</tr>\n",
       "<tr>\n",
       "  <th>Number of Kids in Household (Shared Ride 2 & 3+)</th>     <td>    0.6248</td> <td>    0.076</td> <td>    8.219</td> <td> 0.000</td> <td>    0.476</td> <td>    0.774</td>\n",
       "</tr>\n",
       "</table>"
      ],
      "text/plain": [
       "<class 'statsmodels.iolib.summary.Summary'>\n",
       "\"\"\"\n",
       "                     Multinomial Logit Model Regression Results                    \n",
       "===================================================================================\n",
       "Dep. Variable:                  sim_choice   No. Observations:                2,000\n",
       "Model:             Multinomial Logit Model   Df Residuals:                    1,981\n",
       "Method:                                MLE   Df Model:                           19\n",
       "Date:                     Thu, 26 Mar 2020   Pseudo R-squ.:                   0.649\n",
       "Time:                             20:50:06   Pseudo R-bar-squ.:               0.644\n",
       "AIC:                             2,702.395   Log-Likelihood:             -1,332.198\n",
       "BIC:                             2,808.813   LL-Null:                    -3,796.797\n",
       "========================================================================================================================\n",
       "                                                           coef    std err          z      P>|z|      [0.025      0.975]\n",
       "------------------------------------------------------------------------------------------------------------------------\n",
       "ASC Shared Ride: 2                                      -0.8898      0.253     -3.522      0.000      -1.385      -0.395\n",
       "ASC Shared Ride: 3+                                      3.4000      0.282     12.055      0.000       2.847       3.953\n",
       "ASC Walk-Transit-Walk                                   -0.4429      0.343     -1.290      0.197      -1.116       0.230\n",
       "ASC Drive-Transit-Walk                                  -2.6267      0.350     -7.515      0.000      -3.312      -1.942\n",
       "ASC Walk-Transit-Drive                                  -3.3015      0.383     -8.618      0.000      -4.052      -2.551\n",
       "ASC Walk                                                 2.0265      0.280      7.232      0.000       1.477       2.576\n",
       "ASC Bike                                                -0.9646      0.228     -4.237      0.000      -1.411      -0.518\n",
       "Travel Time, units:min (All Auto Modes)                 -0.0692      0.004    -18.680      0.000      -0.076      -0.062\n",
       "Travel Time, units:min (All Transit Modes)              -0.0278      0.003     -9.954      0.000      -0.033      -0.022\n",
       "Travel Cost, units:$ (All Transit Modes)                -0.0701      0.042     -1.651      0.099      -0.153       0.013\n",
       "Travel Cost per Distance, units:$/mi (Drive Alone)      -5.1588      0.496    -10.407      0.000      -6.130      -4.187\n",
       "Travel Cost per Distance, units:$/mi (SharedRide-2)    -19.4792      1.840    -10.584      0.000     -23.086     -15.872\n",
       "Travel Cost per Distance, units:$/mi (SharedRide-3+)   -82.5646      4.303    -19.189      0.000     -90.998     -74.132\n",
       "Autos per licensed drivers (All Auto Modes)              1.1405      0.128      8.938      0.000       0.890       1.391\n",
       "Travel Distance, units:mi (Walk)                        -1.1230      0.077    -14.582      0.000      -1.274      -0.972\n",
       "Travel Distance, units:mi (Bike)                        -0.2806      0.031     -9.062      0.000      -0.341      -0.220\n",
       "Cross-Bay Tour (Shared Ride 2 & 3+)                      1.0986      0.321      3.417      0.001       0.468       1.729\n",
       "Household Size (Shared Ride 2 & 3+)                      0.0782      0.055      1.413      0.158      -0.030       0.187\n",
       "Number of Kids in Household (Shared Ride 2 & 3+)         0.6248      0.076      8.219      0.000       0.476       0.774\n",
       "========================================================================================================================\n",
       "\"\"\""
      ]
     },
     "execution_count": 62,
     "metadata": {},
     "output_type": "execute_result"
    }
   ],
   "source": [
    "# Estimate the basic MNL model, using the hessian and newton-conjugate gradient\n",
    "mnl_model_sim = pl.create_choice_model(data=long_sim_data,\n",
    "                                       alt_id_col=\"mode_id\",\n",
    "                                       obs_id_col=\"observation_id\",\n",
    "                                       choice_col=\"sim_choice\",\n",
    "                                       specification=mnl_specification,\n",
    "                                       model_type=\"MNL\",\n",
    "                                       names=mnl_names)\n",
    "\n",
    "num_vars = len(reduce(lambda x, y: x + y, mnl_names.values()))\n",
    "# Note newton-cg used to ensure convergence to a point where gradient\n",
    "# is essentially zero for all dimensions.\n",
    "mnl_model_sim.fit_mle(np.zeros(num_vars),\n",
    "                      method=\"BFGS\")\n",
    "\n",
    "# Look at the estimation results\n",
    "mnl_model_sim.get_statsmodels_summary()"
   ]
  },
  {
   "cell_type": "markdown",
   "metadata": {},
   "source": [
    "# Repeat simulation many times "
   ]
  },
  {
   "cell_type": "markdown",
   "metadata": {},
   "source": [
    "### Set up all needed variables"
   ]
  },
  {
   "cell_type": "code",
   "execution_count": 63,
   "metadata": {},
   "outputs": [
    {
     "name": "stdout",
     "output_type": "stream",
     "text": [
      "SKIPPED normal distribution (taking more than 30 seconds)\n",
      "Fitted alpha distribution with error=0.0007989652291582563)\n",
      "Fitted beta distribution with error=0.00021837510493444555)\n"
     ]
    },
    {
     "name": "stderr",
     "output_type": "stream",
     "text": [
      "/Users/mobouzaghrane/opt/anaconda3/lib/python3.7/site-packages/scipy/stats/_distn_infrastructure.py:2381: RuntimeWarning: invalid value encountered in double_scalars\n",
      "  Lhat = muhat - Shat*mu\n",
      "/Users/mobouzaghrane/opt/anaconda3/lib/python3.7/site-packages/scipy/stats/_continuous_distns.py:515: RuntimeWarning: invalid value encountered in sqrt\n",
      "  sk = 2*(b-a)*np.sqrt(a + b + 1) / (a + b + 2) / np.sqrt(a*b)\n",
      "/Users/mobouzaghrane/opt/anaconda3/lib/python3.7/site-packages/scipy/optimize/minpack.py:162: RuntimeWarning: The iteration is not making good progress, as measured by the \n",
      "  improvement from the last ten iterations.\n",
      "  warnings.warn(msg, RuntimeWarning)\n"
     ]
    },
    {
     "name": "stdout",
     "output_type": "stream",
     "text": [
      "Fitted gamma distribution with error=0.00021215664843294874)\n",
      "Fitted expon distribution with error=0.00042675380208476757)\n",
      "SKIPPED gumbel distribution (taking more than 30 seconds)\n",
      "SKIPPED normal distribution (taking more than 30 seconds)\n",
      "Fitted alpha distribution with error=0.014522128648725777)\n",
      "Fitted beta distribution with error=0.0011963782652540424)\n",
      "Fitted gamma distribution with error=0.0011394543473683448)\n",
      "Fitted expon distribution with error=0.002052652669300775)\n",
      "SKIPPED gumbel distribution (taking more than 30 seconds)\n",
      "SKIPPED normal distribution (taking more than 30 seconds)\n",
      "Fitted alpha distribution with error=0.013034447497270776)\n",
      "Fitted beta distribution with error=0.04104766585766829)\n",
      "Fitted gamma distribution with error=0.03662007898297577)\n",
      "Fitted expon distribution with error=0.07921887555564106)\n",
      "SKIPPED gumbel distribution (taking more than 30 seconds)\n",
      "SKIPPED normal distribution (taking more than 30 seconds)\n",
      "Fitted alpha distribution with error=0.001056930694286857)\n",
      "Fitted beta distribution with error=0.0002880878794523213)\n",
      "Fitted gamma distribution with error=0.00028798219056962133)\n",
      "Fitted expon distribution with error=0.0006139993763181574)\n",
      "SKIPPED gumbel distribution (taking more than 30 seconds)\n",
      "SKIPPED normal distribution (taking more than 30 seconds)\n",
      "Fitted alpha distribution with error=0.014457810916552023)\n",
      "Fitted beta distribution with error=0.0012976882508515305)\n",
      "Fitted gamma distribution with error=0.0012552378475140624)\n",
      "Fitted expon distribution with error=0.0019967778289294194)\n",
      "SKIPPED gumbel distribution (taking more than 30 seconds)\n",
      "SKIPPED normal distribution (taking more than 30 seconds)\n",
      "Fitted alpha distribution with error=0.04504063577126065)\n",
      "Fitted beta distribution with error=0.15781307177556403)\n",
      "Fitted gamma distribution with error=0.15841075884851374)\n",
      "Fitted expon distribution with error=0.25956064777904964)\n",
      "SKIPPED gumbel distribution (taking more than 30 seconds)\n",
      "SKIPPED normal distribution (taking more than 30 seconds)\n",
      "Fitted alpha distribution with error=0.0010612734128178794)\n",
      "Fitted beta distribution with error=0.00023601477811189558)\n",
      "Fitted gamma distribution with error=0.00023611716873763347)\n",
      "Fitted expon distribution with error=0.0006076210852379661)\n",
      "SKIPPED gumbel distribution (taking more than 30 seconds)\n",
      "SKIPPED normal distribution (taking more than 30 seconds)\n",
      "Fitted alpha distribution with error=0.014462601227138085)\n",
      "Fitted beta distribution with error=0.001276124018206852)\n",
      "Fitted gamma distribution with error=0.0012547975031013958)\n",
      "Fitted expon distribution with error=0.0020004181046601524)\n",
      "SKIPPED gumbel distribution (taking more than 30 seconds)\n",
      "SKIPPED normal distribution (taking more than 30 seconds)\n",
      "Fitted alpha distribution with error=0.09325519048258353)\n",
      "Fitted beta distribution with error=0.2719576971221132)\n",
      "Fitted gamma distribution with error=0.2684643698148782)\n",
      "Fitted expon distribution with error=0.4484867698126394)\n",
      "SKIPPED gumbel distribution (taking more than 30 seconds)\n",
      "SKIPPED normal distribution (taking more than 30 seconds)\n",
      "Fitted alpha distribution with error=0.00010782141835446614)\n",
      "Fitted beta distribution with error=0.00011146390130275948)\n",
      "Fitted gamma distribution with error=0.00010902380039568413)\n",
      "Fitted expon distribution with error=0.0006821775284529087)\n",
      "SKIPPED gumbel distribution (taking more than 30 seconds)\n",
      "SKIPPED normal distribution (taking more than 30 seconds)\n",
      "Fitted alpha distribution with error=8.394020014580313)\n"
     ]
    },
    {
     "name": "stderr",
     "output_type": "stream",
     "text": [
      "/Users/mobouzaghrane/opt/anaconda3/lib/python3.7/site-packages/scipy/optimize/minpack.py:162: RuntimeWarning: The iteration is not making good progress, as measured by the \n",
      "  improvement from the last five Jacobian evaluations.\n",
      "  warnings.warn(msg, RuntimeWarning)\n"
     ]
    },
    {
     "name": "stdout",
     "output_type": "stream",
     "text": [
      "Fitted beta distribution with error=8.724425966292245)\n",
      "Fitted gamma distribution with error=8.724370722136563)\n",
      "Fitted expon distribution with error=9.1690513221318)\n",
      "SKIPPED gumbel distribution (taking more than 30 seconds)\n",
      "SKIPPED normal distribution (taking more than 30 seconds)\n",
      "Fitted alpha distribution with error=6.672556141363111e-05)\n",
      "Fitted beta distribution with error=6.196777802352273e-05)\n",
      "Fitted gamma distribution with error=6.08535018564024e-05)\n",
      "Fitted expon distribution with error=0.0007188034183935458)\n",
      "SKIPPED gumbel distribution (taking more than 30 seconds)\n",
      "SKIPPED normal distribution (taking more than 30 seconds)\n",
      "Fitted alpha distribution with error=8.324919501617495)\n",
      "Fitted beta distribution with error=9.381940852860888)\n",
      "Fitted gamma distribution with error=8.638629330672966)\n",
      "Fitted expon distribution with error=9.271523141699383)\n",
      "SKIPPED gumbel distribution (taking more than 30 seconds)\n",
      "SKIPPED normal distribution (taking more than 30 seconds)\n",
      "Fitted alpha distribution with error=8.054952402098987e-05)\n",
      "Fitted beta distribution with error=8.156641381917802e-05)\n",
      "Fitted gamma distribution with error=8.048390439269993e-05)\n",
      "Fitted expon distribution with error=0.0008900680532886661)\n",
      "SKIPPED gumbel distribution (taking more than 30 seconds)\n",
      "SKIPPED normal distribution (taking more than 30 seconds)\n",
      "Fitted alpha distribution with error=8.770907888528171)\n",
      "Fitted beta distribution with error=9.796625940589463)\n",
      "Fitted gamma distribution with error=9.081385466834893)\n",
      "Fitted expon distribution with error=9.667837356880147)\n",
      "SKIPPED gumbel distribution (taking more than 30 seconds)\n",
      "SKIPPED normal distribution (taking more than 30 seconds)\n",
      "Fitted alpha distribution with error=3.710751949856986e-05)\n",
      "Fitted beta distribution with error=5.925127101230748e-06)\n",
      "Fitted gamma distribution with error=5.804430139130399e-06)\n",
      "Fitted expon distribution with error=8.673334653358734e-06)\n",
      "SKIPPED gumbel distribution (taking more than 30 seconds)\n",
      "SKIPPED normal distribution (taking more than 30 seconds)\n",
      "Fitted alpha distribution with error=0.0008972367532526685)\n",
      "Fitted beta distribution with error=0.002377025832720183)\n",
      "Fitted gamma distribution with error=0.002275034836025737)\n",
      "Fitted expon distribution with error=0.003469333861343498)\n",
      "SKIPPED gumbel distribution (taking more than 30 seconds)\n",
      "SKIPPED normal distribution (taking more than 30 seconds)\n",
      "Fitted alpha distribution with error=0.0005543487080009017)\n",
      "Fitted beta distribution with error=9.899959495894452e-05)\n",
      "Fitted gamma distribution with error=7.59436705777334e-05)\n",
      "Fitted expon distribution with error=0.000167136671750175)\n",
      "SKIPPED gumbel distribution (taking more than 30 seconds)\n",
      "SKIPPED normal distribution (taking more than 30 seconds)\n",
      "Fitted alpha distribution with error=0.0007221359033952726)\n",
      "Fitted beta distribution with error=0.0024566904071273085)\n",
      "Fitted gamma distribution with error=0.0024407152169873807)\n",
      "Fitted expon distribution with error=0.004178416793754377)\n",
      "SKIPPED gumbel distribution (taking more than 30 seconds)\n"
     ]
    }
   ],
   "source": [
    "observation_id_col = 'observation_id'\n",
    "\n",
    "alternative_id_col = 'mode_id'\n",
    "\n",
    "variable_type = {'num_kids': 'categorical',\n",
    "                 'household_size': 'categorical',\n",
    "                 'num_cars': 'categorical',\n",
    "                 'num_licensed_drivers': 'categorical'}\n",
    "\n",
    "individual_specific_variables = ['num_kids', 'household_size',\n",
    "                                 'num_cars', 'num_licensed_drivers']\n",
    "\n",
    "alternative_specific_variables = ['total_travel_time', 'total_travel_distance', 'total_travel_cost']\n",
    "\n",
    "trip_specific_variables = ['cross_bay']\n",
    "\n",
    "alternative_name_dict = {1: 'drive_alone',\n",
    "                         2: 'shared_2',\n",
    "                         3: 'shared_3p',\n",
    "                         4: 'wtw',\n",
    "                         5: 'dtw',\n",
    "                         6: 'wtd',\n",
    "                         7: 'walk',\n",
    "                         8: 'bike'}\n",
    "\n",
    "variable_type = {'num_kids': 'categorical',\n",
    "                 'household_size': 'categorical',\n",
    "                 'num_cars': 'categorical',\n",
    "                 'num_licensed_drivers': 'categorical',\n",
    "                 'cross_bay': 'categorical',\n",
    "                 'total_travel_time': 'continuous',\n",
    "                 'total_travel_distance': 'continuous',\n",
    "                 'total_travel_cost': 'continuous'}\n",
    "\n",
    "distributions = ['normal', 'alpha', 'beta', 'gamma', 'expon', 'gumbel']\n",
    "\n",
    "choice_column = \"sim_choice\"\n",
    "\n",
    "custom_alt_id = \"mode_id\"\n",
    "\n",
    "alt_varying_variables = {u'total_travel_time': dict([(1, 'total_travel_time_drive_alone'),\n",
    "                                                     (2, 'total_travel_time_shared_2'),\n",
    "                                                     (3, 'total_travel_time_shared_3p'),\n",
    "                                                     (4, 'total_travel_time_wtw'),\n",
    "                                                     (5, 'total_travel_time_dtw'),\n",
    "                                                     (6, 'total_travel_time_wtd'),\n",
    "                                                     (7, 'total_travel_time_walk'),\n",
    "                                                     (8, 'total_travel_time_bike')]),\n",
    "                         u'total_travel_cost': dict([(1, 'total_travel_cost_drive_alone'),\n",
    "                                                     (2, 'total_travel_cost_shared_2'),\n",
    "                                                     (3, 'total_travel_cost_shared_3p'),\n",
    "                                                     (4, 'total_travel_cost_wtw'),\n",
    "                                                     (5, 'total_travel_cost_dtw'),\n",
    "                                                     (6, 'total_travel_cost_wtd'),\n",
    "                                                     (7, 'total_travel_cost_walk'),\n",
    "                                                     (8, 'total_travel_cost_bike')]),\n",
    "                         u'total_travel_distance': dict([(1, 'total_travel_distance_drive_alone'),\n",
    "                                                         (2, 'total_travel_distance_shared_2'),\n",
    "                                                         (3, 'total_travel_distance_shared_3p'),\n",
    "                                                         (4, 'total_travel_distance_wtw'),\n",
    "                                                         (5, 'total_travel_distance_dtw'),\n",
    "                                                         (6, 'total_travel_distance_wtd'),\n",
    "                                                         (7, 'total_travel_distance_walk'),\n",
    "                                                         (8, 'total_travel_distance_bike')]),\n",
    "                        }\n",
    "\n",
    "\n",
    "availability_variables = {1: 'drive_alone_AV',\n",
    "                          2: 'shared_2_AV',\n",
    "                          3: 'shared_3p_AV',\n",
    "                          4: 'wtw_AV',\n",
    "                          5: 'dtw_AV',\n",
    "                          6: 'wtd_AV',\n",
    "                          7: 'walk_AV',\n",
    "                          8: 'bike_AV'}\n",
    "\n",
    "bike_data_params = FindLongDataDist(data_long=bike_data_long,\n",
    "                                    alt_id_col=alternative_id_col,\n",
    "                                    obs_id_col=observation_id_col,\n",
    "                                    alt_spec=alternative_specific_variables,\n",
    "                                    alt_name_dic=alternative_name_dict,\n",
    "                                    ind_spec=individual_specific_variables,\n",
    "                                    trip_spec=trip_specific_variables,\n",
    "                                    var_types=variable_type,\n",
    "                                    cont_dists=distributions)"
   ]
  },
  {
   "cell_type": "code",
   "execution_count": null,
   "metadata": {},
   "outputs": [
    {
     "name": "stdout",
     "output_type": "stream",
     "text": [
      "Simulation number 1 is in process...\n",
      "------------------------------------------\n"
     ]
    },
    {
     "name": "stderr",
     "output_type": "stream",
     "text": [
      "/Users/mobouzaghrane/opt/anaconda3/lib/python3.7/site-packages/pylogit/choice_tools.py:703: FutureWarning: arrays to stack must be passed as a \"sequence\" type such as list or tuple. Support for non-sequence iterables such as generators is deprecated as of NumPy 1.16 and will raise an error in the future.\n",
      "  design_matrix = np.hstack((x[:, None] for x in independent_vars))\n"
     ]
    },
    {
     "data": {
      "application/vnd.jupyter.widget-view+json": {
       "model_id": "26e51ad87d3a428aa6331c4ce981192c",
       "version_major": 2,
       "version_minor": 0
      },
      "text/plain": [
       "HBox(children=(IntProgress(value=0, description='Simulating Choices', max=2234, style=ProgressStyle(descriptio…"
      ]
     },
     "metadata": {},
     "output_type": "display_data"
    },
    {
     "name": "stdout",
     "output_type": "stream",
     "text": [
      "\n",
      "Log-likelihood at zero: -4,245.5029\n",
      "Initial Log-likelihood: -4,245.5029\n"
     ]
    },
    {
     "name": "stderr",
     "output_type": "stream",
     "text": [
      "/Users/mobouzaghrane/opt/anaconda3/lib/python3.7/site-packages/scipy/optimize/_minimize.py:505: RuntimeWarning: Method BFGS does not use Hessian information (hess).\n",
      "  RuntimeWarning)\n"
     ]
    },
    {
     "name": "stdout",
     "output_type": "stream",
     "text": [
      "Estimation Time for Point Estimation: 0.21 seconds.\n",
      "Final log-likelihood: -1,455.8279\n",
      "Simulation number 1 is complete!\n",
      "==========================================\n",
      "==========================================\n",
      "Simulation number 2 is in process...\n",
      "------------------------------------------\n"
     ]
    },
    {
     "name": "stderr",
     "output_type": "stream",
     "text": [
      "/Users/mobouzaghrane/opt/anaconda3/lib/python3.7/site-packages/pylogit/choice_tools.py:703: FutureWarning: arrays to stack must be passed as a \"sequence\" type such as list or tuple. Support for non-sequence iterables such as generators is deprecated as of NumPy 1.16 and will raise an error in the future.\n",
      "  design_matrix = np.hstack((x[:, None] for x in independent_vars))\n"
     ]
    },
    {
     "data": {
      "application/vnd.jupyter.widget-view+json": {
       "model_id": "a19157831a5a4a6dae85c1003b1d4f43",
       "version_major": 2,
       "version_minor": 0
      },
      "text/plain": [
       "HBox(children=(IntProgress(value=0, description='Simulating Choices', max=2068, style=ProgressStyle(descriptio…"
      ]
     },
     "metadata": {},
     "output_type": "display_data"
    },
    {
     "name": "stdout",
     "output_type": "stream",
     "text": [
      "\n",
      "Log-likelihood at zero: -3,922.3225\n",
      "Initial Log-likelihood: -3,922.3225\n"
     ]
    },
    {
     "name": "stderr",
     "output_type": "stream",
     "text": [
      "/Users/mobouzaghrane/opt/anaconda3/lib/python3.7/site-packages/scipy/optimize/_minimize.py:505: RuntimeWarning: Method BFGS does not use Hessian information (hess).\n",
      "  RuntimeWarning)\n"
     ]
    },
    {
     "name": "stdout",
     "output_type": "stream",
     "text": [
      "Estimation Time for Point Estimation: 0.20 seconds.\n",
      "Final log-likelihood: -1,377.5961\n",
      "Simulation number 2 is complete!\n",
      "==========================================\n",
      "==========================================\n",
      "Simulation number 3 is in process...\n",
      "------------------------------------------\n"
     ]
    },
    {
     "name": "stderr",
     "output_type": "stream",
     "text": [
      "/Users/mobouzaghrane/opt/anaconda3/lib/python3.7/site-packages/pylogit/choice_tools.py:703: FutureWarning: arrays to stack must be passed as a \"sequence\" type such as list or tuple. Support for non-sequence iterables such as generators is deprecated as of NumPy 1.16 and will raise an error in the future.\n",
      "  design_matrix = np.hstack((x[:, None] for x in independent_vars))\n"
     ]
    },
    {
     "data": {
      "application/vnd.jupyter.widget-view+json": {
       "model_id": "ad224bca8f224171adb327d6ba62c420",
       "version_major": 2,
       "version_minor": 0
      },
      "text/plain": [
       "HBox(children=(IntProgress(value=0, description='Simulating Choices', max=2071, style=ProgressStyle(descriptio…"
      ]
     },
     "metadata": {},
     "output_type": "display_data"
    },
    {
     "name": "stdout",
     "output_type": "stream",
     "text": [
      "\n",
      "Log-likelihood at zero: -3,928.5362\n",
      "Initial Log-likelihood: -3,928.5362\n"
     ]
    },
    {
     "name": "stderr",
     "output_type": "stream",
     "text": [
      "/Users/mobouzaghrane/opt/anaconda3/lib/python3.7/site-packages/scipy/optimize/_minimize.py:505: RuntimeWarning: Method BFGS does not use Hessian information (hess).\n",
      "  RuntimeWarning)\n"
     ]
    },
    {
     "name": "stdout",
     "output_type": "stream",
     "text": [
      "Estimation Time for Point Estimation: 0.17 seconds.\n",
      "Final log-likelihood: -1,375.6836\n",
      "Simulation number 3 is complete!\n",
      "==========================================\n",
      "==========================================\n",
      "Simulation number 4 is in process...\n",
      "------------------------------------------\n"
     ]
    },
    {
     "name": "stderr",
     "output_type": "stream",
     "text": [
      "/Users/mobouzaghrane/opt/anaconda3/lib/python3.7/site-packages/pylogit/choice_tools.py:703: FutureWarning: arrays to stack must be passed as a \"sequence\" type such as list or tuple. Support for non-sequence iterables such as generators is deprecated as of NumPy 1.16 and will raise an error in the future.\n",
      "  design_matrix = np.hstack((x[:, None] for x in independent_vars))\n"
     ]
    },
    {
     "data": {
      "application/vnd.jupyter.widget-view+json": {
       "model_id": "27701f9d7f274876ae55f06fce4095f5",
       "version_major": 2,
       "version_minor": 0
      },
      "text/plain": [
       "HBox(children=(IntProgress(value=0, description='Simulating Choices', max=2638, style=ProgressStyle(descriptio…"
      ]
     },
     "metadata": {},
     "output_type": "display_data"
    },
    {
     "name": "stdout",
     "output_type": "stream",
     "text": [
      "\n",
      "Log-likelihood at zero: -5,018.6022\n",
      "Initial Log-likelihood: -5,018.6022\n"
     ]
    },
    {
     "name": "stderr",
     "output_type": "stream",
     "text": [
      "/Users/mobouzaghrane/opt/anaconda3/lib/python3.7/site-packages/scipy/optimize/_minimize.py:505: RuntimeWarning: Method BFGS does not use Hessian information (hess).\n",
      "  RuntimeWarning)\n"
     ]
    },
    {
     "name": "stdout",
     "output_type": "stream",
     "text": [
      "Estimation Time for Point Estimation: 0.31 seconds.\n",
      "Final log-likelihood: -1,690.1346\n",
      "Simulation number 4 is complete!\n",
      "==========================================\n",
      "==========================================\n",
      "Simulation number 5 is in process...\n",
      "------------------------------------------\n"
     ]
    },
    {
     "name": "stderr",
     "output_type": "stream",
     "text": [
      "/Users/mobouzaghrane/opt/anaconda3/lib/python3.7/site-packages/pylogit/choice_tools.py:703: FutureWarning: arrays to stack must be passed as a \"sequence\" type such as list or tuple. Support for non-sequence iterables such as generators is deprecated as of NumPy 1.16 and will raise an error in the future.\n",
      "  design_matrix = np.hstack((x[:, None] for x in independent_vars))\n"
     ]
    },
    {
     "data": {
      "application/vnd.jupyter.widget-view+json": {
       "model_id": "e525f5e2ac154cf4a2caeb2a787846b6",
       "version_major": 2,
       "version_minor": 0
      },
      "text/plain": [
       "HBox(children=(IntProgress(value=0, description='Simulating Choices', max=2074, style=ProgressStyle(descriptio…"
      ]
     },
     "metadata": {},
     "output_type": "display_data"
    },
    {
     "name": "stdout",
     "output_type": "stream",
     "text": [
      "\n",
      "Log-likelihood at zero: -3,934.8512\n",
      "Initial Log-likelihood: -3,934.8512\n"
     ]
    },
    {
     "name": "stderr",
     "output_type": "stream",
     "text": [
      "/Users/mobouzaghrane/opt/anaconda3/lib/python3.7/site-packages/scipy/optimize/_minimize.py:505: RuntimeWarning: Method BFGS does not use Hessian information (hess).\n",
      "  RuntimeWarning)\n"
     ]
    },
    {
     "name": "stdout",
     "output_type": "stream",
     "text": [
      "Estimation Time for Point Estimation: 0.23 seconds.\n",
      "Final log-likelihood: -1,353.3586\n",
      "Simulation number 5 is complete!\n",
      "==========================================\n",
      "==========================================\n",
      "Simulation number 6 is in process...\n",
      "------------------------------------------\n"
     ]
    },
    {
     "name": "stderr",
     "output_type": "stream",
     "text": [
      "/Users/mobouzaghrane/opt/anaconda3/lib/python3.7/site-packages/pylogit/choice_tools.py:703: FutureWarning: arrays to stack must be passed as a \"sequence\" type such as list or tuple. Support for non-sequence iterables such as generators is deprecated as of NumPy 1.16 and will raise an error in the future.\n",
      "  design_matrix = np.hstack((x[:, None] for x in independent_vars))\n"
     ]
    },
    {
     "data": {
      "application/vnd.jupyter.widget-view+json": {
       "model_id": "33bbc93317634eff93dfa25a3f8a2646",
       "version_major": 2,
       "version_minor": 0
      },
      "text/plain": [
       "HBox(children=(IntProgress(value=0, description='Simulating Choices', max=2762, style=ProgressStyle(descriptio…"
      ]
     },
     "metadata": {},
     "output_type": "display_data"
    },
    {
     "name": "stdout",
     "output_type": "stream",
     "text": [
      "\n",
      "Log-likelihood at zero: -5,219.8975\n",
      "Initial Log-likelihood: -5,219.8975\n"
     ]
    },
    {
     "name": "stderr",
     "output_type": "stream",
     "text": [
      "/Users/mobouzaghrane/opt/anaconda3/lib/python3.7/site-packages/scipy/optimize/_minimize.py:505: RuntimeWarning: Method BFGS does not use Hessian information (hess).\n",
      "  RuntimeWarning)\n"
     ]
    },
    {
     "name": "stdout",
     "output_type": "stream",
     "text": [
      "Estimation Time for Point Estimation: 0.23 seconds.\n",
      "Final log-likelihood: -1,778.5799\n",
      "Simulation number 6 is complete!\n",
      "==========================================\n",
      "==========================================\n",
      "Simulation number 7 is in process...\n",
      "------------------------------------------\n"
     ]
    },
    {
     "name": "stderr",
     "output_type": "stream",
     "text": [
      "/Users/mobouzaghrane/opt/anaconda3/lib/python3.7/site-packages/pylogit/choice_tools.py:703: FutureWarning: arrays to stack must be passed as a \"sequence\" type such as list or tuple. Support for non-sequence iterables such as generators is deprecated as of NumPy 1.16 and will raise an error in the future.\n",
      "  design_matrix = np.hstack((x[:, None] for x in independent_vars))\n"
     ]
    },
    {
     "data": {
      "application/vnd.jupyter.widget-view+json": {
       "model_id": "3207d69fa2d54ce6849eb474dec5168b",
       "version_major": 2,
       "version_minor": 0
      },
      "text/plain": [
       "HBox(children=(IntProgress(value=0, description='Simulating Choices', max=2158, style=ProgressStyle(descriptio…"
      ]
     },
     "metadata": {},
     "output_type": "display_data"
    },
    {
     "name": "stdout",
     "output_type": "stream",
     "text": [
      "\n",
      "Log-likelihood at zero: -4,097.5582\n",
      "Initial Log-likelihood: -4,097.5582\n"
     ]
    },
    {
     "name": "stderr",
     "output_type": "stream",
     "text": [
      "/Users/mobouzaghrane/opt/anaconda3/lib/python3.7/site-packages/scipy/optimize/_minimize.py:505: RuntimeWarning: Method BFGS does not use Hessian information (hess).\n",
      "  RuntimeWarning)\n"
     ]
    },
    {
     "name": "stdout",
     "output_type": "stream",
     "text": [
      "Estimation Time for Point Estimation: 0.34 seconds.\n",
      "Final log-likelihood: -1,440.6381\n",
      "Simulation number 7 is complete!\n",
      "==========================================\n",
      "==========================================\n",
      "Simulation number 8 is in process...\n",
      "------------------------------------------\n"
     ]
    },
    {
     "name": "stderr",
     "output_type": "stream",
     "text": [
      "/Users/mobouzaghrane/opt/anaconda3/lib/python3.7/site-packages/pylogit/choice_tools.py:703: FutureWarning: arrays to stack must be passed as a \"sequence\" type such as list or tuple. Support for non-sequence iterables such as generators is deprecated as of NumPy 1.16 and will raise an error in the future.\n",
      "  design_matrix = np.hstack((x[:, None] for x in independent_vars))\n"
     ]
    },
    {
     "data": {
      "application/vnd.jupyter.widget-view+json": {
       "model_id": "4efcd33cf75f40388410e9d9cf25f37e",
       "version_major": 2,
       "version_minor": 0
      },
      "text/plain": [
       "HBox(children=(IntProgress(value=0, description='Simulating Choices', max=2736, style=ProgressStyle(descriptio…"
      ]
     },
     "metadata": {},
     "output_type": "display_data"
    },
    {
     "name": "stdout",
     "output_type": "stream",
     "text": [
      "\n",
      "Log-likelihood at zero: -5,196.0239\n",
      "Initial Log-likelihood: -5,196.0239\n"
     ]
    },
    {
     "name": "stderr",
     "output_type": "stream",
     "text": [
      "/Users/mobouzaghrane/opt/anaconda3/lib/python3.7/site-packages/scipy/optimize/_minimize.py:505: RuntimeWarning: Method BFGS does not use Hessian information (hess).\n",
      "  RuntimeWarning)\n"
     ]
    },
    {
     "name": "stdout",
     "output_type": "stream",
     "text": [
      "Estimation Time for Point Estimation: 0.24 seconds.\n",
      "Final log-likelihood: -1,838.0246\n",
      "Simulation number 8 is complete!\n",
      "==========================================\n",
      "==========================================\n",
      "Simulation number 9 is in process...\n",
      "------------------------------------------\n"
     ]
    },
    {
     "name": "stderr",
     "output_type": "stream",
     "text": [
      "/Users/mobouzaghrane/opt/anaconda3/lib/python3.7/site-packages/pylogit/choice_tools.py:703: FutureWarning: arrays to stack must be passed as a \"sequence\" type such as list or tuple. Support for non-sequence iterables such as generators is deprecated as of NumPy 1.16 and will raise an error in the future.\n",
      "  design_matrix = np.hstack((x[:, None] for x in independent_vars))\n"
     ]
    },
    {
     "data": {
      "application/vnd.jupyter.widget-view+json": {
       "model_id": "e28a8ece71c746cfa039c55de9608574",
       "version_major": 2,
       "version_minor": 0
      },
      "text/plain": [
       "HBox(children=(IntProgress(value=0, description='Simulating Choices', max=2927, style=ProgressStyle(descriptio…"
      ]
     },
     "metadata": {},
     "output_type": "display_data"
    },
    {
     "name": "stdout",
     "output_type": "stream",
     "text": [
      "\n",
      "Log-likelihood at zero: -5,556.9417\n",
      "Initial Log-likelihood: -5,556.9417\n"
     ]
    },
    {
     "name": "stderr",
     "output_type": "stream",
     "text": [
      "/Users/mobouzaghrane/opt/anaconda3/lib/python3.7/site-packages/scipy/optimize/_minimize.py:505: RuntimeWarning: Method BFGS does not use Hessian information (hess).\n",
      "  RuntimeWarning)\n"
     ]
    },
    {
     "name": "stdout",
     "output_type": "stream",
     "text": [
      "Estimation Time for Point Estimation: 0.35 seconds.\n",
      "Final log-likelihood: -1,957.3792\n",
      "Simulation number 9 is complete!\n",
      "==========================================\n",
      "==========================================\n",
      "Simulation number 10 is in process...\n",
      "------------------------------------------\n"
     ]
    },
    {
     "name": "stderr",
     "output_type": "stream",
     "text": [
      "/Users/mobouzaghrane/opt/anaconda3/lib/python3.7/site-packages/pylogit/choice_tools.py:703: FutureWarning: arrays to stack must be passed as a \"sequence\" type such as list or tuple. Support for non-sequence iterables such as generators is deprecated as of NumPy 1.16 and will raise an error in the future.\n",
      "  design_matrix = np.hstack((x[:, None] for x in independent_vars))\n"
     ]
    },
    {
     "data": {
      "application/vnd.jupyter.widget-view+json": {
       "model_id": "859149aeb33041cabf5483766e26a442",
       "version_major": 2,
       "version_minor": 0
      },
      "text/plain": [
       "HBox(children=(IntProgress(value=0, description='Simulating Choices', max=2348, style=ProgressStyle(descriptio…"
      ]
     },
     "metadata": {},
     "output_type": "display_data"
    },
    {
     "name": "stdout",
     "output_type": "stream",
     "text": [
      "\n",
      "Log-likelihood at zero: -4,444.9366\n",
      "Initial Log-likelihood: -4,444.9366\n"
     ]
    },
    {
     "name": "stderr",
     "output_type": "stream",
     "text": [
      "/Users/mobouzaghrane/opt/anaconda3/lib/python3.7/site-packages/scipy/optimize/_minimize.py:505: RuntimeWarning: Method BFGS does not use Hessian information (hess).\n",
      "  RuntimeWarning)\n"
     ]
    },
    {
     "name": "stdout",
     "output_type": "stream",
     "text": [
      "Estimation Time for Point Estimation: 0.22 seconds.\n",
      "Final log-likelihood: -1,537.6630\n",
      "Simulation number 10 is complete!\n",
      "==========================================\n",
      "==========================================\n",
      "Simulation number 11 is in process...\n",
      "------------------------------------------\n"
     ]
    },
    {
     "name": "stderr",
     "output_type": "stream",
     "text": [
      "/Users/mobouzaghrane/opt/anaconda3/lib/python3.7/site-packages/pylogit/choice_tools.py:703: FutureWarning: arrays to stack must be passed as a \"sequence\" type such as list or tuple. Support for non-sequence iterables such as generators is deprecated as of NumPy 1.16 and will raise an error in the future.\n",
      "  design_matrix = np.hstack((x[:, None] for x in independent_vars))\n"
     ]
    },
    {
     "data": {
      "application/vnd.jupyter.widget-view+json": {
       "model_id": "0412b31a5d7e4e20993738e7f4ac0b72",
       "version_major": 2,
       "version_minor": 0
      },
      "text/plain": [
       "HBox(children=(IntProgress(value=0, description='Simulating Choices', max=2621, style=ProgressStyle(descriptio…"
      ]
     },
     "metadata": {},
     "output_type": "display_data"
    },
    {
     "name": "stdout",
     "output_type": "stream",
     "text": [
      "\n",
      "Log-likelihood at zero: -4,973.3237\n",
      "Initial Log-likelihood: -4,973.3237\n"
     ]
    },
    {
     "name": "stderr",
     "output_type": "stream",
     "text": [
      "/Users/mobouzaghrane/opt/anaconda3/lib/python3.7/site-packages/scipy/optimize/_minimize.py:505: RuntimeWarning: Method BFGS does not use Hessian information (hess).\n",
      "  RuntimeWarning)\n"
     ]
    },
    {
     "name": "stdout",
     "output_type": "stream",
     "text": [
      "Estimation Time for Point Estimation: 0.22 seconds.\n",
      "Final log-likelihood: -1,741.0156\n",
      "Simulation number 11 is complete!\n",
      "==========================================\n",
      "==========================================\n",
      "Simulation number 12 is in process...\n",
      "------------------------------------------\n"
     ]
    },
    {
     "name": "stderr",
     "output_type": "stream",
     "text": [
      "/Users/mobouzaghrane/opt/anaconda3/lib/python3.7/site-packages/pylogit/choice_tools.py:703: FutureWarning: arrays to stack must be passed as a \"sequence\" type such as list or tuple. Support for non-sequence iterables such as generators is deprecated as of NumPy 1.16 and will raise an error in the future.\n",
      "  design_matrix = np.hstack((x[:, None] for x in independent_vars))\n"
     ]
    },
    {
     "data": {
      "application/vnd.jupyter.widget-view+json": {
       "model_id": "1f8b8bcdf6c54c5f82f7c8964bcb46c3",
       "version_major": 2,
       "version_minor": 0
      },
      "text/plain": [
       "HBox(children=(IntProgress(value=0, description='Simulating Choices', max=2037, style=ProgressStyle(descriptio…"
      ]
     },
     "metadata": {},
     "output_type": "display_data"
    },
    {
     "name": "stdout",
     "output_type": "stream",
     "text": [
      "\n",
      "Log-likelihood at zero: -3,879.8914\n",
      "Initial Log-likelihood: -3,879.8914\n"
     ]
    },
    {
     "name": "stderr",
     "output_type": "stream",
     "text": [
      "/Users/mobouzaghrane/opt/anaconda3/lib/python3.7/site-packages/scipy/optimize/_minimize.py:505: RuntimeWarning: Method BFGS does not use Hessian information (hess).\n",
      "  RuntimeWarning)\n"
     ]
    },
    {
     "name": "stdout",
     "output_type": "stream",
     "text": [
      "Estimation Time for Point Estimation: 0.21 seconds.\n",
      "Final log-likelihood: -1,333.4738\n",
      "Simulation number 12 is complete!\n",
      "==========================================\n",
      "==========================================\n",
      "Simulation number 13 is in process...\n",
      "------------------------------------------\n"
     ]
    },
    {
     "name": "stderr",
     "output_type": "stream",
     "text": [
      "/Users/mobouzaghrane/opt/anaconda3/lib/python3.7/site-packages/pylogit/choice_tools.py:703: FutureWarning: arrays to stack must be passed as a \"sequence\" type such as list or tuple. Support for non-sequence iterables such as generators is deprecated as of NumPy 1.16 and will raise an error in the future.\n",
      "  design_matrix = np.hstack((x[:, None] for x in independent_vars))\n"
     ]
    },
    {
     "data": {
      "application/vnd.jupyter.widget-view+json": {
       "model_id": "79dcf1dda37247bdabc4b377545865d3",
       "version_major": 2,
       "version_minor": 0
      },
      "text/plain": [
       "HBox(children=(IntProgress(value=0, description='Simulating Choices', max=2332, style=ProgressStyle(descriptio…"
      ]
     },
     "metadata": {},
     "output_type": "display_data"
    },
    {
     "name": "stdout",
     "output_type": "stream",
     "text": [
      "\n",
      "Log-likelihood at zero: -4,425.6163\n",
      "Initial Log-likelihood: -4,425.6163\n"
     ]
    },
    {
     "name": "stderr",
     "output_type": "stream",
     "text": [
      "/Users/mobouzaghrane/opt/anaconda3/lib/python3.7/site-packages/scipy/optimize/_minimize.py:505: RuntimeWarning: Method BFGS does not use Hessian information (hess).\n",
      "  RuntimeWarning)\n"
     ]
    },
    {
     "name": "stdout",
     "output_type": "stream",
     "text": [
      "Estimation Time for Point Estimation: 0.26 seconds.\n",
      "Final log-likelihood: -1,595.2097\n",
      "Simulation number 13 is complete!\n",
      "==========================================\n",
      "==========================================\n",
      "Simulation number 14 is in process...\n",
      "------------------------------------------\n"
     ]
    },
    {
     "name": "stderr",
     "output_type": "stream",
     "text": [
      "/Users/mobouzaghrane/opt/anaconda3/lib/python3.7/site-packages/pylogit/choice_tools.py:703: FutureWarning: arrays to stack must be passed as a \"sequence\" type such as list or tuple. Support for non-sequence iterables such as generators is deprecated as of NumPy 1.16 and will raise an error in the future.\n",
      "  design_matrix = np.hstack((x[:, None] for x in independent_vars))\n"
     ]
    },
    {
     "data": {
      "application/vnd.jupyter.widget-view+json": {
       "model_id": "9e00321222504033825dc0253aac0bf3",
       "version_major": 2,
       "version_minor": 0
      },
      "text/plain": [
       "HBox(children=(IntProgress(value=0, description='Simulating Choices', max=2106, style=ProgressStyle(descriptio…"
      ]
     },
     "metadata": {},
     "output_type": "display_data"
    },
    {
     "name": "stdout",
     "output_type": "stream",
     "text": [
      "\n",
      "Log-likelihood at zero: -4,003.8971\n",
      "Initial Log-likelihood: -4,003.8971\n"
     ]
    },
    {
     "name": "stderr",
     "output_type": "stream",
     "text": [
      "/Users/mobouzaghrane/opt/anaconda3/lib/python3.7/site-packages/scipy/optimize/_minimize.py:505: RuntimeWarning: Method BFGS does not use Hessian information (hess).\n",
      "  RuntimeWarning)\n"
     ]
    },
    {
     "name": "stdout",
     "output_type": "stream",
     "text": [
      "Estimation Time for Point Estimation: 0.22 seconds.\n",
      "Final log-likelihood: -1,389.6619\n",
      "Simulation number 14 is complete!\n",
      "==========================================\n",
      "==========================================\n",
      "Simulation number 15 is in process...\n",
      "------------------------------------------\n"
     ]
    },
    {
     "name": "stderr",
     "output_type": "stream",
     "text": [
      "/Users/mobouzaghrane/opt/anaconda3/lib/python3.7/site-packages/pylogit/choice_tools.py:703: FutureWarning: arrays to stack must be passed as a \"sequence\" type such as list or tuple. Support for non-sequence iterables such as generators is deprecated as of NumPy 1.16 and will raise an error in the future.\n",
      "  design_matrix = np.hstack((x[:, None] for x in independent_vars))\n"
     ]
    },
    {
     "data": {
      "application/vnd.jupyter.widget-view+json": {
       "model_id": "a3953e3d742d4b88bae2547ee293e9a5",
       "version_major": 2,
       "version_minor": 0
      },
      "text/plain": [
       "HBox(children=(IntProgress(value=0, description='Simulating Choices', max=2476, style=ProgressStyle(descriptio…"
      ]
     },
     "metadata": {},
     "output_type": "display_data"
    },
    {
     "name": "stdout",
     "output_type": "stream",
     "text": [
      "\n",
      "Log-likelihood at zero: -4,687.5309\n",
      "Initial Log-likelihood: -4,687.5309\n"
     ]
    },
    {
     "name": "stderr",
     "output_type": "stream",
     "text": [
      "/Users/mobouzaghrane/opt/anaconda3/lib/python3.7/site-packages/scipy/optimize/_minimize.py:505: RuntimeWarning: Method BFGS does not use Hessian information (hess).\n",
      "  RuntimeWarning)\n"
     ]
    },
    {
     "name": "stdout",
     "output_type": "stream",
     "text": [
      "Estimation Time for Point Estimation: 0.22 seconds.\n",
      "Final log-likelihood: -1,678.1667\n",
      "Simulation number 15 is complete!\n",
      "==========================================\n",
      "==========================================\n",
      "Simulation number 16 is in process...\n",
      "------------------------------------------\n"
     ]
    },
    {
     "name": "stderr",
     "output_type": "stream",
     "text": [
      "/Users/mobouzaghrane/opt/anaconda3/lib/python3.7/site-packages/pylogit/choice_tools.py:703: FutureWarning: arrays to stack must be passed as a \"sequence\" type such as list or tuple. Support for non-sequence iterables such as generators is deprecated as of NumPy 1.16 and will raise an error in the future.\n",
      "  design_matrix = np.hstack((x[:, None] for x in independent_vars))\n"
     ]
    },
    {
     "data": {
      "application/vnd.jupyter.widget-view+json": {
       "model_id": "f8cab6c12c9043039d15d35c138fcb3b",
       "version_major": 2,
       "version_minor": 0
      },
      "text/plain": [
       "HBox(children=(IntProgress(value=0, description='Simulating Choices', max=2645, style=ProgressStyle(descriptio…"
      ]
     },
     "metadata": {},
     "output_type": "display_data"
    },
    {
     "name": "stdout",
     "output_type": "stream",
     "text": [
      "\n",
      "Log-likelihood at zero: -5,017.3458\n",
      "Initial Log-likelihood: -5,017.3458\n"
     ]
    },
    {
     "name": "stderr",
     "output_type": "stream",
     "text": [
      "/Users/mobouzaghrane/opt/anaconda3/lib/python3.7/site-packages/scipy/optimize/_minimize.py:505: RuntimeWarning: Method BFGS does not use Hessian information (hess).\n",
      "  RuntimeWarning)\n"
     ]
    },
    {
     "name": "stdout",
     "output_type": "stream",
     "text": [
      "Estimation Time for Point Estimation: 0.23 seconds.\n",
      "Final log-likelihood: -1,804.4425\n",
      "Simulation number 16 is complete!\n",
      "==========================================\n",
      "==========================================\n",
      "Simulation number 17 is in process...\n",
      "------------------------------------------\n"
     ]
    }
   ],
   "source": [
    "simulation_size = np.random.randint(low=2000, high=3000, size=100)\n",
    "sim_number = np.arange(1,101)\n",
    "models_dictionary = defaultdict(dict)\n",
    "\n",
    "for size, number in zip(simulation_size, sim_number):\n",
    "    print('Simulation number', number , 'is in process...')\n",
    "    print('------------------------------------------')\n",
    "\n",
    "    # Simulate data from the params_dict\n",
    "    wide_sim_data = SimDf(params_dict=bike_data_params,\n",
    "                     size = size)\n",
    "\n",
    "    # Simulate availability based on availability \n",
    "    # from long data and addd a fake choice column\n",
    "    wide_sim_data_availability = SimulateAvailability(data_long=bike_data_long, \n",
    "                                         sim_data=wide_sim_data, \n",
    "                                         obs_id_col=observation_id_col, \n",
    "                                         alt_name_dict=alternative_name_dict)\n",
    "\n",
    "    # Add an observation_id column\n",
    "    wide_sim_data_availability[obs_id_column] = np.arange(wide_sim_data.shape[0],\n",
    "                                            dtype=int) + 1\n",
    "    \n",
    "    # Convert simulated data from wide to long\n",
    "    long_sim_data = pl.convert_wide_to_long(wide_data=wide_sim_data_availability,\n",
    "                                            ind_vars=ind_variables, \n",
    "                                            alt_specific_vars=alt_varying_variables, \n",
    "                                            availability_vars=availability_variables,\n",
    "                                            obs_id_col=observation_id_col,\n",
    "                                            choice_col=choice_column,\n",
    "                                            new_alt_id_name=custom_alt_id)\n",
    "    \n",
    "    # Create a cars per licensed drivers column\n",
    "    long_sim_data[\"cars_per_licensed_drivers\"] = 0\n",
    "    long_sim_data.loc[long_sim_data.num_licensed_drivers > 0,\n",
    "                      \"cars_per_licensed_drivers\"] = long_sim_data.num_cars / long_sim_data.num_licensed_drivers.astype(float)\n",
    "\n",
    "    # Add a variable representing cost divided by distance\n",
    "    long_sim_data[\"cost_per_distance\"] = 0\n",
    "    long_sim_data.loc[long_sim_data.mode_id.isin([1, 2, 3]),\n",
    "                      \"cost_per_distance\"] = (long_sim_data.loc[long_sim_data.mode_id.isin([1, 2, 3]),\n",
    "                                                                \"total_travel_cost\"] /\n",
    "                                              long_sim_data.loc[long_sim_data.mode_id.isin([1, 2, 3]),\n",
    "                                                        \"total_travel_distance\"])\n",
    "    \n",
    "    # Calculate posterior probabilities for each alternative\n",
    "    posterior_probs = mnl_model.predict(long_sim_data)\n",
    "\n",
    "    # Simulate choices based on calculated probabilities\n",
    "    long_sim_data['sim_choice'] = viz.simulate_choice_vector(posterior_probs,\n",
    "                                                         long_sim_data['observation_id'].values)\n",
    "\n",
    "    # Estimate the basic MNL model, using the hessian and newton-conjugate gradient\n",
    "    mnl_model_sim = pl.create_choice_model(data=long_sim_data,\n",
    "                                           alt_id_col=alternative_id_col,\n",
    "                                           obs_id_col=observation_id_col,\n",
    "                                           choice_col=choice_column,\n",
    "                                           specification=mnl_specification,\n",
    "                                           model_type=\"MNL\",\n",
    "                                           names=mnl_names)\n",
    "\n",
    "    num_vars = len(reduce(lambda x, y: x + y, mnl_names.values()))\n",
    "    \n",
    "    # Note newton-cg used to ensure convergence to a point where gradient \n",
    "    # is essentially zero for all dimensions. \n",
    "    mnl_model_sim.fit_mle(np.zeros(num_vars),\n",
    "                          method=\"BFGS\")\n",
    "\n",
    "    # Store model\n",
    "    models_dictionary[number] = mnl_model_sim\n",
    "    \n",
    "    print('Simulation number', number , 'is complete!')\n",
    "    print('==========================================')\n",
    "    print('==========================================')"
   ]
  },
  {
   "cell_type": "code",
   "execution_count": null,
   "metadata": {},
   "outputs": [],
   "source": []
  }
 ],
 "metadata": {
  "jupytext": {
   "formats": "ipynb,md"
  },
  "kernelspec": {
   "display_name": "Python 3",
   "language": "python",
   "name": "python3"
  },
  "language_info": {
   "codemirror_mode": {
    "name": "ipython",
    "version": 3
   },
   "file_extension": ".py",
   "mimetype": "text/x-python",
   "name": "python",
   "nbconvert_exporter": "python",
   "pygments_lexer": "ipython3",
   "version": "3.7.4"
  }
 },
 "nbformat": 4,
 "nbformat_minor": 4
}
