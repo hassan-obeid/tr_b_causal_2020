{
 "cells": [
  {
   "cell_type": "markdown",
   "metadata": {},
   "source": [
    "# Importing all necessary packages"
   ]
  },
  {
   "cell_type": "code",
   "execution_count": 51,
   "metadata": {},
   "outputs": [],
   "source": [
    "import numpy as np\n",
    "import pandas as pd\n",
    "import scipy.stats\n",
    "from fitter import Fitter\n",
    "from collections import defaultdict, OrderedDict\n",
    "import pylogit as pl\n",
    "from functools import reduce\n",
    "import seaborn as sns\n",
    "import random\n",
    "from scipy import sparse\n",
    "import copy\n",
    "import sys\n",
    "from tqdm import tqdm, tqdm_notebook"
   ]
  },
  {
   "cell_type": "markdown",
   "metadata": {},
   "source": [
    "# Distribution Fitting Class Definition"
   ]
  },
  {
   "cell_type": "code",
   "execution_count": 17,
   "metadata": {},
   "outputs": [],
   "source": [
    "class FitDistribution(object):\n",
    "    \"\"\"Fit and simulate data to known distributions.\n",
    "\n",
    "    Input:\n",
    "    ------\n",
    "    - data: array-like or dataframe.\n",
    "    - dists: list.\n",
    "        This parameter contains a list of distributions to be explored.\n",
    "        When None, every available distribution on scipy is explored.\n",
    "    - bins: int.\n",
    "        Numbers of bins to be used for the cumulative histogram. This has\n",
    "        an impact on the quality of the fit.\n",
    "    - timeout: int.\n",
    "        Maximum time for a given distribution. If timeout is reached,\n",
    "        the distribution is skipped.\n",
    "        \"\"\"\n",
    "    def __init__(self, data, dists=None, timeout=30, verbose=False, bins=100):\n",
    "        self.data = data\n",
    "        # self.var_types = var_types\n",
    "        self.dists = dists\n",
    "        self.timeout = timeout\n",
    "        self.verbose = verbose\n",
    "        self.bins = bins\n",
    "        self.ArrayDistDict = defaultdict()\n",
    "        self.params_dict = defaultdict(dict)\n",
    "\n",
    "    def FindArrayDist(self, cat_var):\n",
    "        \"\"\"Function to extract the best distribution for a specified array.\n",
    "        Uses the fit method from the Fitter module in the fitter library\n",
    "        Inputs:\n",
    "        -------\n",
    "        - cat_var: boolean\n",
    "            Boolean to signify whether the variable to be simulated\n",
    "            is discrete/categorical or continuous.\n",
    "\n",
    "        Outputs:\n",
    "        -------\n",
    "        By default, the function returns a dictionary with best distribution\n",
    "        name and parameters associated with it. If a number of distributions\n",
    "        was specified, the function returns a pandas DataFrame with\n",
    "        the N best distributions, along with a plot showing all of them.\"\"\"\n",
    "        self.ArrayDistDict = dict()\n",
    "        if cat_var is True:\n",
    "            self.ArrayDistDict['distribution'] = 'categorical'\n",
    "            np_array_range = np.arange(self.data.max()+1)\n",
    "            array_bincount = np.bincount(self.data)\n",
    "            probs = array_bincount / len(self.data)\n",
    "\n",
    "            self.ArrayDistDict['parameters'] = [np_array_range,\n",
    "                                                probs]\n",
    "        else:\n",
    "            fitter_object = Fitter(data=self.data,\n",
    "                                   distributions=self.dists,\n",
    "                                   timeout=self.timeout)\n",
    "            fitter_object.fit()\n",
    "            BestDict = fitter_object.get_best()\n",
    "            self.ArrayDistDict['distribution'] = list(BestDict.items())[0][0]\n",
    "            self.ArrayDistDict['parameters'] = list(BestDict.items())[0][1]\n",
    "        return self.ArrayDistDict\n",
    "\n",
    "    def SimArray(self, size=100):\n",
    "        \"\"\"Function to simulate data for an array based on the best fitted\n",
    "        distribution.\n",
    "        Input:\n",
    "        -----\n",
    "        - size : int\n",
    "                size of the array to be simulated.\n",
    "        Outputs:\n",
    "        -------\n",
    "        Simulated array based on the best fit distribution.\"\"\"\n",
    "        if self.ArrayDistDict['distribution'] == 'categorical':\n",
    "            value = self.ArrayDistDict['parameters'][0]\n",
    "            freq = self.ArrayDistDict['parameters'][1]\n",
    "            Sim_Array = np.random.choice(a=value,\n",
    "                                         p=freq,\n",
    "                                         size=size)\n",
    "        else:\n",
    "            dist = getattr(scipy.stats, self.ArrayDistDict['distribution'])\n",
    "            Sim_Array = dist.rvs(*self.ArrayDistDict['parameters'], size=size)\n",
    "        return Sim_Array\n",
    "\n",
    "    def FindDfDist(self, var_types):\n",
    "        \"\"\"Function to extract the best distribution from a specified\n",
    "        dataframe. Uses the function find_dist, which in turn uses the\n",
    "        fit method from the Fitter module in the fitter library\n",
    "        Inputs:\n",
    "        -------\n",
    "        - var_types: dictionary\n",
    "            Dictionary with keys as column names for dataset variables,\n",
    "            the value of each key is a string showing whether the\n",
    "            variable is discrete/cat or continuous.\n",
    "\n",
    "        Outputs:\n",
    "        -------\n",
    "        *FOR NOW*, the function returns a dictionary showing the best\n",
    "        distribution name for each array in the dataframe and parameters\n",
    "        associated with it.\n",
    "        \"\"\"\n",
    "\n",
    "        for column in list(self.data.columns):\n",
    "\n",
    "            if var_types[column] == 'categorical':\n",
    "                if len(self.data[column].unique()) == 1:\n",
    "                    self.params_dict[column]['distribution'] = 'constant'\n",
    "                    self.params_dict[column]['parameters'] = \\\n",
    "                        self.data[column].unique()\n",
    "                else:\n",
    "                    self.params_dict[column]['distribution'] = 'categorical'\n",
    "                    np_array_range = np.arange(self.data[column].max()+1)\n",
    "                    array_bincount = np.bincount(self.data[column])\n",
    "                    probs = array_bincount / len(self.data[column])\n",
    "                    self.params_dict[column]['parameters'] = [np_array_range,\n",
    "                                                              probs]\n",
    "            else:\n",
    "                if len(self.data[column].unique()) == 1:\n",
    "                    self.params_dict[column]['distribution'] = 'constant'\n",
    "                    self.params_dict[column]['parameters'] = \\\n",
    "                        self.data[column].unique()\n",
    "                else:\n",
    "                    fitter_object = Fitter(data=self.data[column],\n",
    "                                           distributions=self.dists,\n",
    "                                           timeout=self.timeout)\n",
    "                    fitter_object.fit()\n",
    "                    BestDict = fitter_object.get_best()\n",
    "                    self.params_dict[column]['distribution'] = \\\n",
    "                        list(BestDict.items())[0][0]\n",
    "                    self.params_dict[column]['parameters'] = \\\n",
    "                        list(BestDict.items())[0][1]\n",
    "        return self.params_dict\n",
    "\n",
    "    def SimDf(self, size=1000):\n",
    "        \"\"\"Funtion to simulate data of size N based on specified\n",
    "        distribution/parameters found by the fitter package.\n",
    "        Inputs:\n",
    "        -------\n",
    "        data: dataframe from which columns are to be taken\n",
    "        dist_params: the distribution parameters from find_dist_df\n",
    "        Outputs:\n",
    "        -------\n",
    "        DataFrame object with simulated data based on specified distributions\n",
    "        \"\"\"\n",
    "        Sim_Df = pd.DataFrame(columns=list(self.params_dict.keys()))\n",
    "        Sim_Df = Sim_Df.fillna(0)\n",
    "        for column in list(self.params_dict.keys()):\n",
    "            if self.params_dict[column]['distribution'] == 'categorical':\n",
    "                value = self.params_dict[column]['parameters'][0]\n",
    "                freq = self.params_dict[column]['parameters'][1]\n",
    "                data_sim = np.random.choice(a=value,\n",
    "                                            p=freq,\n",
    "                                            size=size)\n",
    "                Sim_Df[column] = data_sim\n",
    "            elif self.params_dict[column]['distribution'] == 'constant':\n",
    "                data_sim = self.params_dict[column]['parameters'][0]\n",
    "                Sim_Df[column] = data_sim\n",
    "            else:\n",
    "                dist = getattr(scipy.stats,\n",
    "                               self.params_dict[column]['distribution'])\n",
    "                data_sim = dist.rvs(*self.params_dict[column]['parameters'],\n",
    "                                    size=size)\n",
    "                Sim_Df[column] = data_sim\n",
    "        return Sim_Df"
   ]
  },
  {
   "cell_type": "markdown",
   "metadata": {},
   "source": [
    "## Find Distribution Based on Long Data"
   ]
  },
  {
   "cell_type": "code",
   "execution_count": 90,
   "metadata": {},
   "outputs": [],
   "source": [
    "\n",
    "\n",
    "def FindLongDataDist(data_long,\n",
    "                     alt_id_col,\n",
    "                     obs_id_col,\n",
    "                     alt_spec,\n",
    "                     alt_name_dic,\n",
    "                     ind_spec,\n",
    "                     trip_spec,\n",
    "                     var_types,\n",
    "                     cont_dists=None):\n",
    "\n",
    "    # Initialize the output parameters dictionary\n",
    "    params_dict = defaultdict(dict)\n",
    "\n",
    "    # Loop around individual specific variables\n",
    "    for ind in ind_spec:\n",
    "        # generate array of values for individual specific variable\n",
    "        ind_var = pd.Series([(data_long.loc[data_long[obs_id_col] == x][ind].unique()[0]) for x in data_long[obs_id_col].unique()])\n",
    "        # Get distribution if variable is categorical\n",
    "        if var_types[ind] == 'categorical':\n",
    "            # If only one category\n",
    "            if len(ind_var.unique()) == 1:\n",
    "                params_dict[ind]['distribution'] = 'constant'\n",
    "                params_dict[ind]['parameters'] = ind_var.unique()\n",
    "            # If more than one category\n",
    "            else:\n",
    "                params_dict[ind]['distribution'] = 'categorical'\n",
    "                # Count frequency of values and store it as paramater of distribution\n",
    "                np_array_range = np.arange(ind_var.max()+1)\n",
    "                array_bincount = np.bincount(ind_var)\n",
    "                probs = array_bincount / len(ind_var)\n",
    "                params_dict[ind]['parameters'] = [np_array_range,\n",
    "                                                  probs]\n",
    "        else:\n",
    "            # If not categorical but just one unique value\n",
    "            if len(ind_var.unique()) == 1:\n",
    "                params_dict[ind]['distribution'] = 'constant'\n",
    "                params_dict[ind]['parameters'] = ind_var.unique()\n",
    "            # If not categorical but not one unique value\n",
    "            else:\n",
    "                # Use the Fitter library to fit distributions\n",
    "                # to the data\n",
    "                fitter_object = Fitter(data=ind_var,\n",
    "                                       distributions=cont_dists,\n",
    "                                       timeout=30)\n",
    "                fitter_object.fit()\n",
    "                # Get the best distribution and store in dictionary\n",
    "                BestDict = fitter_object.get_best()\n",
    "                params_dict[ind]['distribution'] = list(BestDict.items())[0][0]\n",
    "                params_dict[ind]['parameters'] = list(BestDict.items())[0][1]\n",
    "\n",
    "    # Code for Alternative Specific Variables\n",
    "    # Loop around the different available alternatives\n",
    "    for alt in data_long[alt_id_col].unique():\n",
    "        # Store data for specific alternative (mode)\n",
    "        mode_data = data_long.loc[data_long['mode_id'] == alt]\n",
    "        # Loop around the alternative specific variables in the input dictionary\n",
    "        for var in alt_spec:\n",
    "            # If data is categorical\n",
    "            if var_types[var] == 'categorical':\n",
    "                # If only one category\n",
    "                if len(mode_data[var].unique()) == 1:\n",
    "                    # Add name of alternative to variable and store distriburion & parameters\n",
    "                    params_dict[var+'_'+alt_name_dic[alt]]['distribution'] = 'constant'\n",
    "                    params_dict[var+'_'+alt_name_dic[alt]]['parameters'] = mode_data[var].unique()\n",
    "                else:\n",
    "                    # If more than one category, compute the frequency of values\n",
    "                    # and store as parameters\n",
    "                    # Add name of alternative to variable and store distriburion & parameters\n",
    "                    params_dict[var+'_'+alt_name_dic[alt]]['distribution'] = 'categorical'\n",
    "                    np_array_range = np.arange(mode_data[var].max()+1)\n",
    "                    array_bincount = np.bincount(mode_data[var])\n",
    "                    probs = array_bincount / len(mode_data[var])\n",
    "                    params_dict[var+'_'+alt_name_dic[alt]]['parameters'] = [np_array_range,\n",
    "                                                                            probs]\n",
    "            else:\n",
    "                # If data is not categorical but has one unique value\n",
    "                if len(mode_data[var].unique()) == 1:\n",
    "                    # Add name of alternative to variable and store distriburion & parameters\n",
    "                    params_dict[var+'_'+alt_name_dic[alt]]['distribution'] = 'constant'\n",
    "                    params_dict[var+'_'+alt_name_dic[alt]]['parameters'] = mode_data[var].unique()\n",
    "                # If data is not categorical but has more than one unique value\n",
    "                else:\n",
    "                    # Use the Fitter library to fit distributions\n",
    "                    # to the data\n",
    "                    fitter_object = Fitter(data=mode_data[var],\n",
    "                                           distributions=cont_dists,\n",
    "                                           timeout=30)\n",
    "                    fitter_object.fit()\n",
    "                    # Get the best distribution and store in dictionary\n",
    "                    BestDict = fitter_object.get_best()\n",
    "                    # Add name of alternative to variable and store distriburion & parameters\n",
    "                    params_dict[var+'_'+alt_name_dic[alt]]['distribution'] = list(BestDict.items())[0][0]\n",
    "                    params_dict[var+'_'+alt_name_dic[alt]]['parameters'] = list(BestDict.items())[0][1]\n",
    "\n",
    "    # Trip Specific Variable (maybe combine with individual specific variables)\n",
    "    # Loop around trip (observation) specific variables\n",
    "    for var in trip_spec:\n",
    "        # generate array of values for trip specific variable\n",
    "        trip_var = pd.Series([(data_long.loc[data_long[obs_id_col] == x][var].unique()[0]) for x in data_long[obs_id_col].unique()])\n",
    "        # Get distribution if variable is categorical\n",
    "        if var_types[var] == 'categorical':\n",
    "            if len(trip_var.unique()) == 1:\n",
    "            # If only one category\n",
    "                params_dict[var]['distribution'] = 'constant'\n",
    "                params_dict[var]['parameters'] = trip_var.unique()\n",
    "            else:\n",
    "            # If more than one category\n",
    "                params_dict[var]['distribution'] = 'categorical'\n",
    "            # Count frequency of values and store it as paramater of distribution\n",
    "                np_array_range = np.arange(trip_var.max()+1)\n",
    "                array_bincount = np.bincount(trip_var)\n",
    "                probs = array_bincount / len(trip_var)\n",
    "                params_dict[var]['parameters'] = [np_array_range,\n",
    "                                                  probs]\n",
    "        else:\n",
    "            # If not categorical but just one unique value\n",
    "            if len(trip_var.unique()) == 1:\n",
    "                params_dict[var]['distribution'] = 'constant'\n",
    "                params_dict[var]['parameters'] = trip_var.unique()\n",
    "            # If not categorical but just one unique value\n",
    "            else:\n",
    "                # Use the Fitter library to fit distributions\n",
    "                # to the data\n",
    "                fitter_object = Fitter(data=trip_var,\n",
    "                                       distributions=cont_dists,\n",
    "                                       timeout=30)\n",
    "                fitter_object.fit()\n",
    "                # Get the best distribution and store in dictionary\n",
    "                BestDict = fitter_object.get_best()\n",
    "                params_dict[var]['distribution'] = list(BestDict.items())[0][0]\n",
    "                params_dict[var]['parameters'] = list(BestDict.items())[0][1]\n",
    "\n",
    "    return params_dict\n",
    "\n",
    "\n",
    "def SimDf(params_dict, size=1000):\n",
    "    \"\"\"Funtion to simulate data of size N based on specified\n",
    "    distribution/parameters found by the fitter package.\n",
    "    Inputs:\n",
    "    -------\n",
    "    data: dataframe from which columns are to be taken\n",
    "    dist_params: the distribution parameters from find_dist_df\n",
    "    Outputs:\n",
    "    -------\n",
    "    DataFrame object with simulated data based on specified distributions\n",
    "    \"\"\"\n",
    "    Sim_Df = pd.DataFrame(columns=list(params_dict.keys()))\n",
    "    Sim_Df = Sim_Df.fillna(0)\n",
    "    for column in list(params_dict.keys()):\n",
    "        if params_dict[column]['distribution'] == 'categorical':\n",
    "            data_sim = np.random.choice(a=params_dict[column]['parameters'][0],\n",
    "                                        p=params_dict[column]['parameters'][1],\n",
    "                                        size=size)\n",
    "            Sim_Df[column] = data_sim\n",
    "        elif params_dict[column]['distribution'] == 'constant':\n",
    "            data_sim = params_dict[column]['parameters'][0]\n",
    "            Sim_Df[column] = data_sim\n",
    "        else:\n",
    "            dist = getattr(scipy.stats, params_dict[column]['distribution'])\n",
    "            data_sim = dist.rvs(*params_dict[column]['parameters'], size=size)\n",
    "            Sim_Df[column] = data_sim\n",
    "    return Sim_Df\n",
    "\n",
    "\n",
    "def SimulateAvailability(data_long, sim_data, obs_id_col, alt_name_dict):\n",
    "\n",
    "    series = pd.Series([])\n",
    "    for i, obs in zip(np.arange(len(data_long[obs_id_col].unique())), data_long[obs_id_col].unique()):\n",
    "        series[i] = data_long[data_long[obs_id_col] == obs].shape[0]\n",
    "\n",
    "    av_size = sim_data.shape[0]\n",
    "    alts_sim = np.random.choice(a=np.arange(series.max()+1),\n",
    "                                p=np.bincount(series)/len(series),\n",
    "                                size=av_size)\n",
    "\n",
    "    N = len(alt_name_dict)\n",
    "\n",
    "    av_sim = [np.array([1] * K + [0]*(N-K)) for K in alts_sim]\n",
    "\n",
    "    for x in av_sim:\n",
    "        np.random.shuffle(x)\n",
    "\n",
    "    np.random.shuffle(av_sim)\n",
    "    AV_columns = [alt_name_dict[i]+'_AV' for i in alt_name_dict.keys()]\n",
    "    AV_Df = pd.DataFrame(av_sim, columns=AV_columns)\n",
    "    choice = [random.choice(np.nonzero(a == 1)[0]) + 1 for a in np.array(AV_Df)]\n",
    "    choice_df = pd.DataFrame(choice, columns=['sim_choice'])\n",
    "    Sim_DF_AV = pd.concat([sim_data, AV_Df, choice_df], axis=1, sort=False)\n",
    "    return Sim_DF_AV"
   ]
  },
  {
   "cell_type": "markdown",
   "metadata": {},
   "source": [
    "# Functions for simulating choices - to be imported as library"
   ]
  },
  {
   "cell_type": "code",
   "execution_count": 91,
   "metadata": {},
   "outputs": [],
   "source": [
    "def progress(*args, **kwargs):\n",
    "    \"\"\"\n",
    "    Creates a tqdm progressbar iterable based on whether one is in ipython.\n",
    "    In ipython it will return a `tqdm_notebook` iterable. Else, it returns a\n",
    "    `tqdm` iterable. If there is an error with calling `tqdm_notebook`, such as\n",
    "    errors from using new versions of tqdm with old versions of Juypter\n",
    "    notebooks, a call to `tqdm` will be made instead.\n",
    "    Parameters\n",
    "    ----------\n",
    "    args, kwargs: passed directly to `tqdm` and `tqdm_notebook`.\n",
    "    \"\"\"\n",
    "    if _is_kernel():\n",
    "        try:\n",
    "            return tqdm_notebook(*args, **kwargs)\n",
    "        except:\n",
    "            return tqdm(*args, **kwargs)\n",
    "    return tqdm(*args, **kwargs)\n",
    "\n",
    "def _simulate_wide_binary_choices(predictions, rseed=None):\n",
    "    \"\"\"\n",
    "    Take vectorized random draws over many bernoulli random variables with\n",
    "    different probabilities of success. This function is faster than using a\n",
    "    for-loop and repeated calls to `np.random.choice`.\n",
    "    \"\"\"\n",
    "    # Initialize the simulated choices\n",
    "    choice_vec = np.zeros(predictions.shape, dtype=int)\n",
    "\n",
    "    # Set the random seed if desired\n",
    "    if rseed is not None:\n",
    "        np.random.seed(rseed)\n",
    "\n",
    "    # Generate uniform random variates\n",
    "    uniform_draws =\\\n",
    "        np.random.uniform(size=predictions.shape)\n",
    "\n",
    "    # Determine which predictions led to 'successful' observations\n",
    "    choice_vec[np.where(uniform_draws <= predictions)] = 1\n",
    "    return choice_vec\n",
    "\n",
    "\n",
    "def _simulate_choices_for_1obs(obs_id,\n",
    "                               rows_per_obs,\n",
    "                               predicted_probs):\n",
    "    \"\"\"\n",
    "    Generates the chosen rows for each simulated choice situation for the given\n",
    "    decision maker.\n",
    "    Parameters\n",
    "    ----------\n",
    "    obs_id : positive int.\n",
    "        The identification number of a given decision maker.\n",
    "    rows_per_obs : dict.\n",
    "        Keys should be integers, including `obs_id`. Values should be a list of\n",
    "        ints, where each int is a row of `predicted_probs` that is associated\n",
    "        with the decision maker identified by `obs_id`.\n",
    "    predicted_probs : 2D ndarray of floats in (0.0, 1.0).\n",
    "        Each row should correspond to a particular alternative for a particular\n",
    "        observation. Each column should correspond to a sampled parameter\n",
    "        vector. Finally, each element should denote the probability of that\n",
    "        alternative being chosen by that decision maker, given their\n",
    "        explanatory variables and the sampled model parameters.\n",
    "    Returns\n",
    "    -------\n",
    "    chosen_rows : 1D ndarray of ints.\n",
    "        Should have shape `(predicted_probs.shape[1],)`. There will be one\n",
    "        value for each simulated choice situation, i.e. each column of\n",
    "        `predicted_probs`. Each value will represent the row that correspondes\n",
    "        to the chosen alternative for the corresponding choice situation.\n",
    "    \"\"\"\n",
    "    # Get the rows belonging to this observation\n",
    "    obs_rows = rows_per_obs[obs_id]\n",
    "\n",
    "    # Get the current probabilities\n",
    "    current_long_probs = predicted_probs[obs_rows, :]\n",
    "\n",
    "    # Get the 'cdf' of each alternative\n",
    "    current_cdf = np.cumsum(current_long_probs, axis=0)\n",
    "\n",
    "    # Draw random uniform values for each probability vector\n",
    "    uniform_draws = np.random.uniform(size=predicted_probs.shape[1])\n",
    "\n",
    "    # Determine which alternative's 'bucket' the random value\n",
    "    # might have fallen into.\n",
    "    possible_alts =\\\n",
    "        (np.arange(1, obs_rows.size + 1)[:, None] *\n",
    "         (current_cdf >= uniform_draws[None, :]))\n",
    "    # Give a 'big' value to alternatives that are not chosen\n",
    "    possible_alts[np.where(possible_alts == 0)] = obs_rows.size + 10\n",
    "    # Figure out the exact rows/alternatives that were chosen\n",
    "    chosen_rows = obs_rows[np.argmin(possible_alts, axis=0)]\n",
    "    return chosen_rows\n",
    "\n",
    "\n",
    "def simulate_choice_vector(predicted_probs,\n",
    "                           observation_ids,\n",
    "                           wide_binary=False,\n",
    "                           rseed=None):\n",
    "    \"\"\"\n",
    "    Simulates choice outcomes based on the predicted probabilities of each\n",
    "    alternative for each observation.\n",
    "    Parameters\n",
    "    ----------\n",
    "    predicted_probs : 2D ndarray of floats in (0.0, 1.0).\n",
    "        Each row should correspond to a particular alternative for a particular\n",
    "        observation. Each column should correspond to a sampled parameter\n",
    "        vector. Finally, each element should denote the probability of that\n",
    "        alternative being chosen by that decision maker, given their\n",
    "        explanatory variables and the sampled model parameters.\n",
    "    observation_ids : 1D ndarray of ints.\n",
    "        Each element should represent an obervation id. Should have\n",
    "        `observation_ids.shape[0] == predicted_probs.shape[0]`.\n",
    "    wide_binary : bool, optional.\n",
    "        Denotes whether `predicted_probs` are for a wide-format dataset of\n",
    "        binary choices or not.\n",
    "    rseed : positive int or None, optional.\n",
    "        The random seed used to simulate the choices. Use when one wants to\n",
    "        reproduce particular simulations. Default is None.\n",
    "    Returns\n",
    "    -------\n",
    "    simulated_y : 2D ndarray of zeros and ones.\n",
    "        Each row should correspond to a particular alternative for a particular\n",
    "        observation. Each column should correspond to a sampled parameter\n",
    "        vector. Finally, each element will be a one if that row's alternative\n",
    "        was chosen by that row's decision-maker for that columns simulated\n",
    "        parameter vector. Otherwise, the element will be a zero. When\n",
    "        `wide_binary == True`, each element in `simulated_y` will indicate\n",
    "        whether that row's observation had `y == 1` for that simulation or not.\n",
    "    \"\"\"\n",
    "    # Make predicted_probs 2D\n",
    "    if predicted_probs.ndim == 1:\n",
    "        predicted_probs = predicted_probs[:, None]\n",
    "    elif predicted_probs.ndim > 2:\n",
    "        msg = 'predicted_probs should have 1 or 2 dimensions.'\n",
    "        raise ValueError(msg)\n",
    "\n",
    "    # Make the wide-format binary simulations if necessary\n",
    "    if wide_binary:\n",
    "        return _simulate_wide_binary_choices(predicted_probs, rseed=rseed)\n",
    "\n",
    "    # Determine the unique values in observation_ids\n",
    "    unique_idx = np.sort(np.unique(observation_ids, return_index=True)[1])\n",
    "    unique_obs = observation_ids[unique_idx]\n",
    "\n",
    "    # Determine the rows belonging to each observation\n",
    "    rows_per_obs = {k: np.where(observation_ids == k)[0] for k in unique_obs}\n",
    "\n",
    "    # Initialize an array of simulated choices\n",
    "    choice_vec = np.zeros(predicted_probs.shape, dtype=int)\n",
    "\n",
    "    # Create an index for the columns\n",
    "    col_idx = np.arange(predicted_probs.shape[1])\n",
    "\n",
    "    # Set the seed if desired\n",
    "    if isinstance(rseed, int):\n",
    "        np.random.seed(rseed)\n",
    "\n",
    "    # Populate the array\n",
    "    for obs_id in progress(unique_obs.tolist(), desc='Simulating Choices'):\n",
    "        # Determine the exact rows/alternatives chosen in each situation\n",
    "        chosen_rows =\\\n",
    "            _simulate_choices_for_1obs(obs_id, rows_per_obs, predicted_probs)\n",
    "\n",
    "        # Store the simulated choice\n",
    "        choice_vec[chosen_rows, col_idx] = 1\n",
    "\n",
    "    return choice_vec"
   ]
  },
  {
   "cell_type": "markdown",
   "metadata": {},
   "source": [
    "# Functions to calculate probabilities for each alternative **(Replaced by functions from TB)** - For Documentation Purposes"
   ]
  },
  {
   "cell_type": "code",
   "execution_count": null,
   "metadata": {},
   "outputs": [],
   "source": [
    "# def add_intercept_to_df(df_long, specification_dict):\n",
    "#     \"\"\"Function to add intercept to long format DataFrame\n",
    "#     Parameters\n",
    "#     ----------\n",
    "#     df_long: DataFrame\n",
    "#         Long format Pandas DataFrame to which to add \n",
    "#         intercept column.\n",
    "#     specification_dict: dict\n",
    "#         Specification Dictionary for the model\n",
    "    \n",
    "#     Returns\n",
    "#     -------\n",
    "#     In-place Pandas DataFrame with additional intercept column.\n",
    "        \n",
    "#     \"\"\"\n",
    "#     if (\"intercept\" in specification_dict\n",
    "#             and \"intercept\" not in df_long.columns):\n",
    "#         df_long[\"intercept\"] = 1\n",
    "#     return None\n",
    "\n",
    "\n",
    "# def create_design_matrix(df_long, specification_dict,\n",
    "#                          names_dict, alternative_id_col):\n",
    "\n",
    "#     add_intercept_to_df(df_long, specification_dict)\n",
    "\n",
    "#     columns = []\n",
    "#     for col in specification_dict:\n",
    "#         for group in specification_dict[col]:\n",
    "#             if type(group) == list:\n",
    "#                 columns.append(df_long[alternative_id_col].isin(group)\n",
    "#                                * df_long[col])\n",
    "#             else:\n",
    "#                 columns.append((df_long[alternative_id_col] == group)\n",
    "#                                * df_long[col])\n",
    "\n",
    "#     design_matrix = np.stack(columns, axis=1)\n",
    "\n",
    "#     var_names = []\n",
    "#     for variable in names_dict:\n",
    "#         for name in names_dict[variable]:\n",
    "#             var_names.append(name)\n",
    "\n",
    "#     return design_matrix, var_names\n",
    "\n",
    "\n",
    "# def calculate_utilities(betas, design_matrix):\n",
    "\n",
    "#     limit_max = 700\n",
    "#     limit_min = -700\n",
    "\n",
    "#     utility = design_matrix.dot(betas)\n",
    "#     utility[utility > limit_max] = limit_max\n",
    "#     utility[utility < limit_min] = limit_min\n",
    "\n",
    "#     utilities = np.exp(utility)\n",
    "\n",
    "#     return utilities\n",
    "\n",
    "\n",
    "# def create_mapping_matrix(df_long, observation_id_col):\n",
    "#     row_to_col_matrix = pd.get_dummies(df_long[observation_id_col]).values\n",
    "# #     row_to_col_matrix = (df_long[observation_id_col].values[:,None] ==\n",
    "# #                          np.sort(df_long[observation_id_col].unique())[None,:]).astype(int)\n",
    "#     sparse_row_to_col_matrix = sparse.csr_matrix(row_to_col_matrix)\n",
    "\n",
    "#     mapping_matrix = sparse_row_to_col_matrix.dot(sparse_row_to_col_matrix.T)\n",
    "\n",
    "#     return mapping_matrix\n",
    "\n",
    "\n",
    "# def calculate_probabilities(betas, design_matrix, mapping_matrix):\n",
    "\n",
    "#     utilities = calculate_utilities(betas, design_matrix)\n",
    "#     denominator = mapping_matrix.dot(utilities)\n",
    "#     probabilities = utilities/denominator\n",
    "#     probabilities[probabilities == 0] = 1e-300\n",
    "\n",
    "#     return probabilities"
   ]
  },
  {
   "cell_type": "markdown",
   "metadata": {},
   "source": [
    "# Function to simulate choices based on long data format - For Documentation Purposes"
   ]
  },
  {
   "cell_type": "code",
   "execution_count": 5,
   "metadata": {},
   "outputs": [],
   "source": [
    "\n",
    "\n",
    "# def SimulateChoices(long_data, alt_id_col,\n",
    "#                     obs_id_col, number_alts,\n",
    "#                     spec_dic, names_dic, init_betas):\n",
    "#     \"\"\"\n",
    "#     Function to simulate choices from a long data\n",
    "#     format dataset.\n",
    "    \n",
    "#     Parameters\n",
    "#     ----------\n",
    "#     long_data : DataFrame\n",
    "#         The DataFrame to be used, in long format.\n",
    "#     alt_id_col: string\n",
    "#         Name of the column containing the alternative\n",
    "#         id numbers in the long format dataset.\n",
    "#     obs_id_col: string\n",
    "#         Name of the column containing the observation\n",
    "#         id numbers in the long format dataset.\n",
    "#     number_alts: int\n",
    "#         Number of alternatives in the long format\n",
    "#         dataset.\n",
    "#     spec_dic: dictionary\n",
    "#         Dictionary of the model specification.\n",
    "#     names_dic: dictionary\n",
    "#         Dictionary of the alternative names.\n",
    "#     init_betas: list\n",
    "#         List of the initial betas for the model\n",
    "#         from which the choices should be simulated.\n",
    "    \n",
    "#     Returns\n",
    "#     -------\n",
    "#     DataFrame object with the simulated choices column\n",
    "#     added as 'sim_choice'\n",
    "#     \"\"\"\n",
    "#     # Declare the simulated choice column name\n",
    "#     sim_choice_col = 'sim_choice'\n",
    "\n",
    "#     # Make a copy of the data\n",
    "#     data = copy.deepcopy(long_data)\n",
    "#     # Functions to generate the design matrix, mapping matrix,\n",
    "#     # and calculate the probabilities for each alternative\n",
    "#     design_matrix, names = create_design_matrix(df_long=data,\n",
    "#                                                 specification_dict=spec_dic,\n",
    "#                                                 names_dict=names_dic,\n",
    "#                                                 alternative_id_col=alt_id_col)\n",
    "#     mapping_matrix = create_mapping_matrix(df_long=data,\n",
    "#                                            observation_id_col=obs_id_col)\n",
    "#     probabilities = calculate_probabilities(betas=initial_betas,\n",
    "#                                             design_matrix=design_matrix,\n",
    "#                                             mapping_matrix=mapping_matrix)\n",
    "#     # Assign calculated probabilities to new dataframe column\n",
    "#     data['probabilities'] = probabilities\n",
    "#     # Initialize cumulative sum and simulated choice columns\n",
    "#     data['cum_sum'] = 0\n",
    "#     data['sim_choice'] = 0\n",
    "\n",
    "#     # Loop around the observations and compute probabilities' cumulative\n",
    "#     # sums for each alternative\n",
    "#     for observation in data['observation_id'].unique():\n",
    "#         probs_sum = data[long_data.observation_id == observation]['probabilities'].cumsum()\n",
    "#         data.loc[data['observation_id'] == observation, 'cum_sum'] = probs_sum\n",
    "\n",
    "#     # Generate list for observation ids to be used in simulating choices    \n",
    "#     observation_id_list = list(data.observation_id.unique())\n",
    "#     # Generate a \"random utility\" array of the same size as the number\n",
    "#     # of observations in the dataset\n",
    "#     u_random = np.random.uniform(size=len(data['observation_id'].unique()))\n",
    "\n",
    "#     # Loop around the generate utilities and observations in the dataset\n",
    "#     # to assign a choice to each\n",
    "#     for u, obs in zip(u_random, observation_id_list):\n",
    "#         # select data for observation number \"obs\"\n",
    "#         data_sample = data[data['observation_id'] == obs]\n",
    "#         # generate list of available modes for each observation\n",
    "#         sorted_list = sorted(list(data_sample['mode_id'].unique()))\n",
    "#         # initialize a dictionary from the available modes for \n",
    "#         # each observation\n",
    "#         choices = dict.fromkeys(sorted_list, 0)\n",
    "#         # Loop round the modes for each observation and assign \n",
    "#         # choice (0 vs. 1)\n",
    "#         for alt in sorted_list:\n",
    "#             choices[alt] = np.where(u <= data_sample[data_sample['mode_id']\n",
    "#                                                      == alt]\n",
    "#                                     ['cum_sum'], 1, 0).item()\n",
    "#             # Once a choice is assigned, break out of loop\n",
    "#             if choices[alt] == 1:\n",
    "#                 break\n",
    "#         # Map the choices for the observation to the long format dataframe       \n",
    "#         data.loc[data.observation_id == obs, sim_choice_col] = \\\n",
    "#             data['mode_id'].map(choices)\n",
    "#     return data"
   ]
  },
  {
   "cell_type": "markdown",
   "metadata": {},
   "source": [
    "# Example using bike data "
   ]
  },
  {
   "cell_type": "markdown",
   "metadata": {},
   "source": [
    "## Data Ingestion and Exploration "
   ]
  },
  {
   "cell_type": "code",
   "execution_count": 77,
   "metadata": {},
   "outputs": [],
   "source": [
    "# Create a variable for the path to the long format data for\n",
    "# the multinomial choice model\n",
    "PATH = '/Users/mobouzaghrane/Documents/GitHub/tr_b_causal_2020/'\\\n",
    "        'data/raw/spring_2016_all_bay_area_long_format_plus_cross_bay_col.csv'"
   ]
  },
  {
   "cell_type": "code",
   "execution_count": 78,
   "metadata": {},
   "outputs": [
    {
     "name": "stdout",
     "output_type": "stream",
     "text": [
      "The columns of bike_data are:\n"
     ]
    },
    {
     "data": {
      "text/plain": [
       "Index(['household_id', 'person_id', 'tour_id', 'observation_id', 'mode_id',\n",
       "       'choice', 'tour_origin_taz', 'primary_dest_taz', 'total_travel_time',\n",
       "       'total_travel_cost', 'total_travel_distance', 'age', 'household_size',\n",
       "       'household_income', 'household_income_values', 'transit_subsidy',\n",
       "       'transit_subsidy_amount', 'num_cars', 'num_licensed_drivers',\n",
       "       'cross_bay', 'oakland_and_berkeley', 'survey_id', 'gender',\n",
       "       'non_relative_flag', 'num_pre_school', 'num_school_aged', 'married',\n",
       "       'parent', 'income_category_1', 'income_category_2', 'income_category_3',\n",
       "       'income_category_4', 'income_category_5', 'income_category_6',\n",
       "       'income_category_7', 'income_category_8', 'income_category_9',\n",
       "       'income_category_10', 'income_unknown', 'ln_drive_cost',\n",
       "       'ln_drive_cost_sq', 'total_travel_time_10x', 'total_travel_time_tenth',\n",
       "       'high_income', 'medium_income', 'low_income', 'high_income_cost',\n",
       "       'medium_income_cost', 'low_income_cost', 'unknown_income_cost',\n",
       "       'high_income_ln_cost', 'medium_income_ln_cost', 'low_income_ln_cost',\n",
       "       'unknown_income_ln_cost', 'cars_per_licensed_drivers', 'num_kids',\n",
       "       'family_in_household', 'married_woman', 'cost_per_distance',\n",
       "       'intercept', 'cost_per_distance_10$_per_mi',\n",
       "       'total_travel_time_tenth_min'],\n",
       "      dtype='object')"
      ]
     },
     "execution_count": 78,
     "metadata": {},
     "output_type": "execute_result"
    }
   ],
   "source": [
    "# Reading data from the specified PATH\n",
    "bike_data_long = pd.read_csv(PATH)\n",
    "\n",
    "# If in previous work we accidentally saved the index with the dataframe\n",
    "# remove the old index from the data\n",
    "if \"Unnamed: 0\" in bike_data_long.columns:\n",
    "    del bike_data_long[\"Unnamed: 0\"]\n",
    "\n",
    "print(\"The columns of bike_data are:\")\n",
    "bike_data_long.columns"
   ]
  },
  {
   "cell_type": "code",
   "execution_count": 79,
   "metadata": {},
   "outputs": [
    {
     "data": {
      "text/plain": [
       "Drive Alone           0.428322\n",
       "Shared Ride 2         0.158841\n",
       "Shared Ride 3+        0.139860\n",
       "Walk-Transit-Walk     0.103397\n",
       "Drive-Transit-Walk    0.015485\n",
       "Walk-Transit-Drive    0.013237\n",
       "Walk                  0.094406\n",
       "Bike                  0.046454\n",
       "Name: Mode Shares, dtype: float64"
      ]
     },
     "execution_count": 79,
     "metadata": {},
     "output_type": "execute_result"
    }
   ],
   "source": [
    "# Look at the mode shares in the data set\n",
    "alt_id_to_mode_name = {1: \"Drive Alone\",\n",
    "                       2: \"Shared Ride 2\",\n",
    "                       3: \"Shared Ride 3+\",\n",
    "                       4: \"Walk-Transit-Walk\",\n",
    "                       5: \"Drive-Transit-Walk\",\n",
    "                       6: \"Walk-Transit-Drive\",\n",
    "                       7: \"Walk\",\n",
    "                       8: \"Bike\"}\n",
    "\n",
    "mode_counts = bike_data_long.loc[bike_data_long.choice == 1,\n",
    "                                 \"mode_id\"].value_counts().loc[range(1, 9)]\n",
    "\n",
    "mode_shares = mode_counts / bike_data_long.observation_id.max()\n",
    "mode_shares.index = [alt_id_to_mode_name[x] for x in mode_shares.index.values]\n",
    "mode_shares.name = \"Mode Shares\"\n",
    "mode_shares"
   ]
  },
  {
   "cell_type": "markdown",
   "metadata": {},
   "source": [
    "## MNL Model Specification "
   ]
  },
  {
   "cell_type": "code",
   "execution_count": 80,
   "metadata": {},
   "outputs": [],
   "source": [
    "# Create my specification and variable names for the basic MNL model\n",
    "# NOTE: - Keys should be variables within the long format dataframe.\n",
    "#         The sole exception to this is the \"intercept\" key.\n",
    "#       - For the specification dictionary, the values should be lists\n",
    "#         or lists of lists. Within a list, or within the inner-most\n",
    "#         list should be the alternative ID's of the alternative whose\n",
    "#         utility specification the explanatory variable is entering.\n",
    "\n",
    "mnl_specification = OrderedDict()\n",
    "mnl_names = OrderedDict()\n",
    "\n",
    "mnl_specification[\"intercept\"] = [2, 3, 4, 5, 6, 7, 8]\n",
    "mnl_names[\"intercept\"] = ['ASC Shared Ride: 2',\n",
    "                          'ASC Shared Ride: 3+',\n",
    "                          'ASC Walk-Transit-Walk',\n",
    "                          'ASC Drive-Transit-Walk',\n",
    "                          'ASC Walk-Transit-Drive',\n",
    "                          'ASC Walk',\n",
    "                          'ASC Bike']\n",
    "\n",
    "mnl_specification[\"total_travel_time\"] = [[1, 2, 3], [4, 5, 6]]\n",
    "mnl_names[\"total_travel_time\"] = ['Travel Time, units:min (All Auto Modes)',\n",
    "                                  'Travel Time, units:min (All Transit Modes)']\n",
    "\n",
    "mnl_specification[\"total_travel_cost\"] = [[4, 5, 6]]\n",
    "mnl_names[\"total_travel_cost\"] = ['Travel Cost, units:$ (All Transit Modes)']\n",
    "\n",
    "mnl_specification[\"cost_per_distance\"] = [1, 2, 3]\n",
    "mnl_names[\"cost_per_distance\"] = [\"Travel Cost per Distance, units:$/mi (Drive Alone)\",\n",
    "                                  \"Travel Cost per Distance, units:$/mi (SharedRide-2)\",\n",
    "                                  \"Travel Cost per Distance, units:$/mi (SharedRide-3+)\"]\n",
    "\n",
    "mnl_specification[\"cars_per_licensed_drivers\"] = [[1, 2, 3]]\n",
    "mnl_names[\"cars_per_licensed_drivers\"] = [\"Autos per licensed drivers (All Auto Modes)\"]\n",
    "\n",
    "mnl_specification[\"total_travel_distance\"] = [7, 8]\n",
    "mnl_names[\"total_travel_distance\"] = ['Travel Distance, units:mi (Walk)',\n",
    "                                      'Travel Distance, units:mi (Bike)']\n",
    "\n",
    "# mnl_specification[\"cross_bay\"] = [[2, 3], [4, 5, 6]]\n",
    "# mnl_names[\"cross_bay\"] = [\"Cross-Bay Tour (Shared Ride 2 & 3+)\",\n",
    "#                           \"Cross-Bay Tour (All Transit Modes)\"]\n",
    "mnl_specification[\"cross_bay\"] = [[2, 3]]\n",
    "mnl_names[\"cross_bay\"] = [\"Cross-Bay Tour (Shared Ride 2 & 3+)\"]\n",
    "\n",
    "mnl_specification[\"household_size\"] = [[2, 3]]\n",
    "mnl_names[\"household_size\"] = ['Household Size (Shared Ride 2 & 3+)']\n",
    "\n",
    "mnl_specification[\"num_kids\"] = [[2, 3]]\n",
    "mnl_names[\"num_kids\"] = [\"Number of Kids in Household (Shared Ride 2 & 3+)\"]"
   ]
  },
  {
   "cell_type": "code",
   "execution_count": 81,
   "metadata": {},
   "outputs": [
    {
     "name": "stdout",
     "output_type": "stream",
     "text": [
      "Log-likelihood at zero: -7,599.7019\n",
      "Initial Log-likelihood: -7,599.7019\n",
      "Estimation Time for Point Estimation: 0.17 seconds.\n",
      "Final log-likelihood: -5,073.4276\n"
     ]
    },
    {
     "name": "stderr",
     "output_type": "stream",
     "text": [
      "/Users/mobouzaghrane/opt/anaconda3/lib/python3.7/site-packages/scipy/optimize/_minimize.py:505: RuntimeWarning: Method BFGS does not use Hessian information (hess).\n",
      "  RuntimeWarning)\n"
     ]
    },
    {
     "data": {
      "text/html": [
       "<table class=\"simpletable\">\n",
       "<caption>Multinomial Logit Model Regression Results</caption>\n",
       "<tr>\n",
       "  <th>Dep. Variable:</th>         <td>choice</td>          <th>  No. Observations:  </th>    <td>4,004</td>  \n",
       "</tr>\n",
       "<tr>\n",
       "  <th>Model:</th>         <td>Multinomial Logit Model</td> <th>  Df Residuals:      </th>    <td>3,985</td>  \n",
       "</tr>\n",
       "<tr>\n",
       "  <th>Method:</th>                  <td>MLE</td>           <th>  Df Model:          </th>     <td>19</td>    \n",
       "</tr>\n",
       "<tr>\n",
       "  <th>Date:</th>             <td>Wed, 25 Mar 2020</td>     <th>  Pseudo R-squ.:     </th>    <td>0.332</td>  \n",
       "</tr>\n",
       "<tr>\n",
       "  <th>Time:</th>                 <td>22:42:35</td>         <th>  Pseudo R-bar-squ.: </th>    <td>0.330</td>  \n",
       "</tr>\n",
       "<tr>\n",
       "  <th>AIC:</th>                 <td>10,184.855</td>        <th>  Log-Likelihood:    </th> <td>-5,073.428</td>\n",
       "</tr>\n",
       "<tr>\n",
       "  <th>BIC:</th>                 <td>10,304.461</td>        <th>  LL-Null:           </th> <td>-7,599.702</td>\n",
       "</tr>\n",
       "</table>\n",
       "<table class=\"simpletable\">\n",
       "<tr>\n",
       "                            <td></td>                              <th>coef</th>     <th>std err</th>      <th>z</th>      <th>P>|z|</th>  <th>[0.025</th>    <th>0.975]</th>  \n",
       "</tr>\n",
       "<tr>\n",
       "  <th>ASC Shared Ride: 2</th>                                   <td>   -1.0097</td> <td>    0.486</td> <td>   -2.079</td> <td> 0.038</td> <td>   -1.962</td> <td>   -0.058</td>\n",
       "</tr>\n",
       "<tr>\n",
       "  <th>ASC Shared Ride: 3+</th>                                  <td>    3.4619</td> <td>    1.064</td> <td>    3.254</td> <td> 0.001</td> <td>    1.377</td> <td>    5.547</td>\n",
       "</tr>\n",
       "<tr>\n",
       "  <th>ASC Walk-Transit-Walk</th>                                <td>   -0.3921</td> <td>    0.288</td> <td>   -1.360</td> <td> 0.174</td> <td>   -0.957</td> <td>    0.173</td>\n",
       "</tr>\n",
       "<tr>\n",
       "  <th>ASC Drive-Transit-Walk</th>                               <td>   -2.6220</td> <td>    0.303</td> <td>   -8.660</td> <td> 0.000</td> <td>   -3.215</td> <td>   -2.029</td>\n",
       "</tr>\n",
       "<tr>\n",
       "  <th>ASC Walk-Transit-Drive</th>                               <td>   -2.9773</td> <td>    0.306</td> <td>   -9.725</td> <td> 0.000</td> <td>   -3.577</td> <td>   -2.377</td>\n",
       "</tr>\n",
       "<tr>\n",
       "  <th>ASC Walk</th>                                             <td>    1.5541</td> <td>    0.305</td> <td>    5.101</td> <td> 0.000</td> <td>    0.957</td> <td>    2.151</td>\n",
       "</tr>\n",
       "<tr>\n",
       "  <th>ASC Bike</th>                                             <td>   -1.1059</td> <td>    0.305</td> <td>   -3.628</td> <td> 0.000</td> <td>   -1.703</td> <td>   -0.508</td>\n",
       "</tr>\n",
       "<tr>\n",
       "  <th>Travel Time, units:min (All Auto Modes)</th>              <td>   -0.0760</td> <td>    0.006</td> <td>  -13.728</td> <td> 0.000</td> <td>   -0.087</td> <td>   -0.065</td>\n",
       "</tr>\n",
       "<tr>\n",
       "  <th>Travel Time, units:min (All Transit Modes)</th>           <td>   -0.0274</td> <td>    0.002</td> <td>  -12.768</td> <td> 0.000</td> <td>   -0.032</td> <td>   -0.023</td>\n",
       "</tr>\n",
       "<tr>\n",
       "  <th>Travel Cost, units:$ (All Transit Modes)</th>             <td>   -0.1273</td> <td>    0.037</td> <td>   -3.472</td> <td> 0.001</td> <td>   -0.199</td> <td>   -0.055</td>\n",
       "</tr>\n",
       "<tr>\n",
       "  <th>Travel Cost per Distance, units:$/mi (Drive Alone)</th>   <td>   -5.0613</td> <td>    1.377</td> <td>   -3.675</td> <td> 0.000</td> <td>   -7.760</td> <td>   -2.362</td>\n",
       "</tr>\n",
       "<tr>\n",
       "  <th>Travel Cost per Distance, units:$/mi (SharedRide-2)</th>  <td>  -20.3194</td> <td>    4.548</td> <td>   -4.467</td> <td> 0.000</td> <td>  -29.234</td> <td>  -11.405</td>\n",
       "</tr>\n",
       "<tr>\n",
       "  <th>Travel Cost per Distance, units:$/mi (SharedRide-3+)</th> <td>  -90.9224</td> <td>   14.748</td> <td>   -6.165</td> <td> 0.000</td> <td> -119.829</td> <td>  -62.016</td>\n",
       "</tr>\n",
       "<tr>\n",
       "  <th>Autos per licensed drivers (All Auto Modes)</th>          <td>    1.2134</td> <td>    0.129</td> <td>    9.408</td> <td> 0.000</td> <td>    0.961</td> <td>    1.466</td>\n",
       "</tr>\n",
       "<tr>\n",
       "  <th>Travel Distance, units:mi (Walk)</th>                     <td>   -1.0272</td> <td>    0.050</td> <td>  -20.437</td> <td> 0.000</td> <td>   -1.126</td> <td>   -0.929</td>\n",
       "</tr>\n",
       "<tr>\n",
       "  <th>Travel Distance, units:mi (Bike)</th>                     <td>   -0.2873</td> <td>    0.024</td> <td>  -11.896</td> <td> 0.000</td> <td>   -0.335</td> <td>   -0.240</td>\n",
       "</tr>\n",
       "<tr>\n",
       "  <th>Cross-Bay Tour (Shared Ride 2 & 3+)</th>                  <td>    0.9280</td> <td>    0.327</td> <td>    2.839</td> <td> 0.005</td> <td>    0.287</td> <td>    1.569</td>\n",
       "</tr>\n",
       "<tr>\n",
       "  <th>Household Size (Shared Ride 2 & 3+)</th>                  <td>    0.1136</td> <td>    0.045</td> <td>    2.523</td> <td> 0.012</td> <td>    0.025</td> <td>    0.202</td>\n",
       "</tr>\n",
       "<tr>\n",
       "  <th>Number of Kids in Household (Shared Ride 2 & 3+)</th>     <td>    0.6868</td> <td>    0.054</td> <td>   12.820</td> <td> 0.000</td> <td>    0.582</td> <td>    0.792</td>\n",
       "</tr>\n",
       "</table>"
      ],
      "text/plain": [
       "<class 'statsmodels.iolib.summary.Summary'>\n",
       "\"\"\"\n",
       "                     Multinomial Logit Model Regression Results                    \n",
       "===================================================================================\n",
       "Dep. Variable:                      choice   No. Observations:                4,004\n",
       "Model:             Multinomial Logit Model   Df Residuals:                    3,985\n",
       "Method:                                MLE   Df Model:                           19\n",
       "Date:                     Wed, 25 Mar 2020   Pseudo R-squ.:                   0.332\n",
       "Time:                             22:42:35   Pseudo R-bar-squ.:               0.330\n",
       "AIC:                            10,184.855   Log-Likelihood:             -5,073.428\n",
       "BIC:                            10,304.461   LL-Null:                    -7,599.702\n",
       "========================================================================================================================\n",
       "                                                           coef    std err          z      P>|z|      [0.025      0.975]\n",
       "------------------------------------------------------------------------------------------------------------------------\n",
       "ASC Shared Ride: 2                                      -1.0097      0.486     -2.079      0.038      -1.962      -0.058\n",
       "ASC Shared Ride: 3+                                      3.4619      1.064      3.254      0.001       1.377       5.547\n",
       "ASC Walk-Transit-Walk                                   -0.3921      0.288     -1.360      0.174      -0.957       0.173\n",
       "ASC Drive-Transit-Walk                                  -2.6220      0.303     -8.660      0.000      -3.215      -2.029\n",
       "ASC Walk-Transit-Drive                                  -2.9773      0.306     -9.725      0.000      -3.577      -2.377\n",
       "ASC Walk                                                 1.5541      0.305      5.101      0.000       0.957       2.151\n",
       "ASC Bike                                                -1.1059      0.305     -3.628      0.000      -1.703      -0.508\n",
       "Travel Time, units:min (All Auto Modes)                 -0.0760      0.006    -13.728      0.000      -0.087      -0.065\n",
       "Travel Time, units:min (All Transit Modes)              -0.0274      0.002    -12.768      0.000      -0.032      -0.023\n",
       "Travel Cost, units:$ (All Transit Modes)                -0.1273      0.037     -3.472      0.001      -0.199      -0.055\n",
       "Travel Cost per Distance, units:$/mi (Drive Alone)      -5.0613      1.377     -3.675      0.000      -7.760      -2.362\n",
       "Travel Cost per Distance, units:$/mi (SharedRide-2)    -20.3194      4.548     -4.467      0.000     -29.234     -11.405\n",
       "Travel Cost per Distance, units:$/mi (SharedRide-3+)   -90.9224     14.748     -6.165      0.000    -119.829     -62.016\n",
       "Autos per licensed drivers (All Auto Modes)              1.2134      0.129      9.408      0.000       0.961       1.466\n",
       "Travel Distance, units:mi (Walk)                        -1.0272      0.050    -20.437      0.000      -1.126      -0.929\n",
       "Travel Distance, units:mi (Bike)                        -0.2873      0.024    -11.896      0.000      -0.335      -0.240\n",
       "Cross-Bay Tour (Shared Ride 2 & 3+)                      0.9280      0.327      2.839      0.005       0.287       1.569\n",
       "Household Size (Shared Ride 2 & 3+)                      0.1136      0.045      2.523      0.012       0.025       0.202\n",
       "Number of Kids in Household (Shared Ride 2 & 3+)         0.6868      0.054     12.820      0.000       0.582       0.792\n",
       "========================================================================================================================\n",
       "\"\"\""
      ]
     },
     "execution_count": 81,
     "metadata": {},
     "output_type": "execute_result"
    }
   ],
   "source": [
    "# Estimate the basic MNL model, using the hessian and newton-conjugate gradient\n",
    "mnl_model = pl.create_choice_model(data=bike_data_long,\n",
    "                                   alt_id_col=\"mode_id\",\n",
    "                                   obs_id_col=\"observation_id\",\n",
    "                                   choice_col=\"choice\",\n",
    "                                   specification=mnl_specification,\n",
    "                                   model_type=\"MNL\",\n",
    "                                   names=mnl_names)\n",
    "\n",
    "num_vars = len(reduce(lambda x, y: x + y, mnl_names.values()))\n",
    "# Note newton-cg used to ensure convergence to a point where gradient\n",
    "# is essentially zero for all dimensions.\n",
    "mnl_model.fit_mle(np.zeros(num_vars),\n",
    "                  method=\"BFGS\")\n",
    "\n",
    "# Look at the estimation results\n",
    "mnl_model.get_statsmodels_summary()"
   ]
  },
  {
   "cell_type": "markdown",
   "metadata": {},
   "source": [
    "# Simulate Data - Based on Wide Data"
   ]
  },
  {
   "cell_type": "markdown",
   "metadata": {},
   "source": [
    "## Convert Data from Long to Wide before simulation"
   ]
  },
  {
   "cell_type": "code",
   "execution_count": 82,
   "metadata": {},
   "outputs": [
    {
     "name": "stdout",
     "output_type": "stream",
     "text": [
      "The model variables of interest are:\n"
     ]
    },
    {
     "data": {
      "text/plain": [
       "['total_travel_time',\n",
       " 'total_travel_cost',\n",
       " 'cost_per_distance',\n",
       " 'cars_per_licensed_drivers',\n",
       " 'total_travel_distance',\n",
       " 'cross_bay',\n",
       " 'household_size',\n",
       " 'num_kids',\n",
       " 'mode_id',\n",
       " 'observation_id',\n",
       " 'choice',\n",
       " 'num_cars',\n",
       " 'num_licensed_drivers']"
      ]
     },
     "execution_count": 82,
     "metadata": {},
     "output_type": "execute_result"
    }
   ],
   "source": [
    "# Create variable list for subset of long data,\n",
    "# I will add the remaining values from the long format dataset\n",
    "alt_id_col = \"mode_id\"\n",
    "\n",
    "obs_id_col = \"observation_id\"\n",
    "\n",
    "choice_col = \"choice\"\n",
    "\n",
    "# Store of columns relevant to the data to be simulated\n",
    "model_variables = list(mnl_model.specification.keys())\n",
    "model_variables.remove('intercept')\n",
    "model_variables.extend([alt_id_col, obs_id_col,\n",
    "                        choice_col, 'num_cars', 'num_licensed_drivers'])\n",
    "print('The model variables of interest are:')\n",
    "model_variables"
   ]
  },
  {
   "cell_type": "code",
   "execution_count": 83,
   "metadata": {},
   "outputs": [],
   "source": [
    "# Create a copy of the data subset\n",
    "subset_bike_data = bike_data_long[model_variables].copy()"
   ]
  },
  {
   "cell_type": "code",
   "execution_count": 84,
   "metadata": {},
   "outputs": [],
   "source": [
    "# Create the needed variables for the conversion\n",
    "ind_spec_vars = ['num_kids', 'household_size',\n",
    "                 'cars_per_licensed_drivers', 'cross_bay',\n",
    "                 'num_cars', 'num_licensed_drivers']\n",
    "\n",
    "alt_spec_vars = ['total_travel_time', 'total_travel_distance']\n",
    "\n",
    "subset_spec_vars = {'total_travel_cost': [1, 2, 3],\n",
    "                    'cost_per_distance': [1, 2, 3]}\n",
    "\n",
    "alternative_name_dict = {1: 'drive_alone',\n",
    "                         2: 'shared_2',\n",
    "                         3: 'shared_3p',\n",
    "                         4: 'wtw',\n",
    "                         5: 'dtw',\n",
    "                         6: 'wtd',\n",
    "                         7: 'walk',\n",
    "                         8: 'bike'}"
   ]
  },
  {
   "cell_type": "code",
   "execution_count": 85,
   "metadata": {},
   "outputs": [
    {
     "data": {
      "text/html": [
       "<div>\n",
       "<style scoped>\n",
       "    .dataframe tbody tr th:only-of-type {\n",
       "        vertical-align: middle;\n",
       "    }\n",
       "\n",
       "    .dataframe tbody tr th {\n",
       "        vertical-align: top;\n",
       "    }\n",
       "\n",
       "    .dataframe thead th {\n",
       "        text-align: right;\n",
       "    }\n",
       "</style>\n",
       "<table border=\"1\" class=\"dataframe\">\n",
       "  <thead>\n",
       "    <tr style=\"text-align: right;\">\n",
       "      <th></th>\n",
       "      <th>observation_id</th>\n",
       "      <th>choice</th>\n",
       "      <th>availability_drive_alone</th>\n",
       "      <th>availability_shared_2</th>\n",
       "      <th>availability_shared_3p</th>\n",
       "      <th>availability_wtw</th>\n",
       "      <th>availability_dtw</th>\n",
       "      <th>availability_wtd</th>\n",
       "      <th>availability_walk</th>\n",
       "      <th>availability_bike</th>\n",
       "      <th>...</th>\n",
       "      <th>total_travel_distance_dtw</th>\n",
       "      <th>total_travel_distance_wtd</th>\n",
       "      <th>total_travel_distance_walk</th>\n",
       "      <th>total_travel_distance_bike</th>\n",
       "      <th>total_travel_cost_drive_alone</th>\n",
       "      <th>total_travel_cost_shared_2</th>\n",
       "      <th>total_travel_cost_shared_3p</th>\n",
       "      <th>cost_per_distance_drive_alone</th>\n",
       "      <th>cost_per_distance_shared_2</th>\n",
       "      <th>cost_per_distance_shared_3p</th>\n",
       "    </tr>\n",
       "  </thead>\n",
       "  <tbody>\n",
       "    <tr>\n",
       "      <td>0</td>\n",
       "      <td>1.0</td>\n",
       "      <td>2.0</td>\n",
       "      <td>1</td>\n",
       "      <td>1</td>\n",
       "      <td>1</td>\n",
       "      <td>1</td>\n",
       "      <td>1</td>\n",
       "      <td>1</td>\n",
       "      <td>1</td>\n",
       "      <td>1</td>\n",
       "      <td>...</td>\n",
       "      <td>0.0</td>\n",
       "      <td>0.0</td>\n",
       "      <td>29.11</td>\n",
       "      <td>29.11</td>\n",
       "      <td>5.7140</td>\n",
       "      <td>3.2651</td>\n",
       "      <td>2.2856</td>\n",
       "      <td>0.184799</td>\n",
       "      <td>0.105598</td>\n",
       "      <td>0.073920</td>\n",
       "    </tr>\n",
       "    <tr>\n",
       "      <td>1</td>\n",
       "      <td>2.0</td>\n",
       "      <td>2.0</td>\n",
       "      <td>1</td>\n",
       "      <td>1</td>\n",
       "      <td>1</td>\n",
       "      <td>1</td>\n",
       "      <td>1</td>\n",
       "      <td>1</td>\n",
       "      <td>1</td>\n",
       "      <td>1</td>\n",
       "      <td>...</td>\n",
       "      <td>0.0</td>\n",
       "      <td>0.0</td>\n",
       "      <td>24.80</td>\n",
       "      <td>24.80</td>\n",
       "      <td>4.4519</td>\n",
       "      <td>2.5439</td>\n",
       "      <td>1.7807</td>\n",
       "      <td>0.184803</td>\n",
       "      <td>0.105600</td>\n",
       "      <td>0.073919</td>\n",
       "    </tr>\n",
       "    <tr>\n",
       "      <td>2</td>\n",
       "      <td>3.0</td>\n",
       "      <td>1.0</td>\n",
       "      <td>1</td>\n",
       "      <td>1</td>\n",
       "      <td>1</td>\n",
       "      <td>1</td>\n",
       "      <td>1</td>\n",
       "      <td>1</td>\n",
       "      <td>1</td>\n",
       "      <td>1</td>\n",
       "      <td>...</td>\n",
       "      <td>0.0</td>\n",
       "      <td>0.0</td>\n",
       "      <td>8.38</td>\n",
       "      <td>8.38</td>\n",
       "      <td>1.6817</td>\n",
       "      <td>0.9609</td>\n",
       "      <td>0.6726</td>\n",
       "      <td>0.184802</td>\n",
       "      <td>0.105593</td>\n",
       "      <td>0.073912</td>\n",
       "    </tr>\n",
       "    <tr>\n",
       "      <td>3</td>\n",
       "      <td>4.0</td>\n",
       "      <td>1.0</td>\n",
       "      <td>1</td>\n",
       "      <td>1</td>\n",
       "      <td>1</td>\n",
       "      <td>1</td>\n",
       "      <td>1</td>\n",
       "      <td>1</td>\n",
       "      <td>1</td>\n",
       "      <td>1</td>\n",
       "      <td>...</td>\n",
       "      <td>0.0</td>\n",
       "      <td>0.0</td>\n",
       "      <td>8.38</td>\n",
       "      <td>8.38</td>\n",
       "      <td>1.6817</td>\n",
       "      <td>0.9609</td>\n",
       "      <td>0.6726</td>\n",
       "      <td>0.184802</td>\n",
       "      <td>0.105593</td>\n",
       "      <td>0.073912</td>\n",
       "    </tr>\n",
       "    <tr>\n",
       "      <td>4</td>\n",
       "      <td>5.0</td>\n",
       "      <td>1.0</td>\n",
       "      <td>1</td>\n",
       "      <td>1</td>\n",
       "      <td>1</td>\n",
       "      <td>0</td>\n",
       "      <td>1</td>\n",
       "      <td>0</td>\n",
       "      <td>1</td>\n",
       "      <td>1</td>\n",
       "      <td>...</td>\n",
       "      <td>0.0</td>\n",
       "      <td>NaN</td>\n",
       "      <td>40.64</td>\n",
       "      <td>40.64</td>\n",
       "      <td>5.9782</td>\n",
       "      <td>3.4162</td>\n",
       "      <td>2.3913</td>\n",
       "      <td>0.184798</td>\n",
       "      <td>0.105601</td>\n",
       "      <td>0.073920</td>\n",
       "    </tr>\n",
       "  </tbody>\n",
       "</table>\n",
       "<p>5 rows × 38 columns</p>\n",
       "</div>"
      ],
      "text/plain": [
       "   observation_id  choice  availability_drive_alone  availability_shared_2  \\\n",
       "0             1.0     2.0                         1                      1   \n",
       "1             2.0     2.0                         1                      1   \n",
       "2             3.0     1.0                         1                      1   \n",
       "3             4.0     1.0                         1                      1   \n",
       "4             5.0     1.0                         1                      1   \n",
       "\n",
       "   availability_shared_3p  availability_wtw  availability_dtw  \\\n",
       "0                       1                 1                 1   \n",
       "1                       1                 1                 1   \n",
       "2                       1                 1                 1   \n",
       "3                       1                 1                 1   \n",
       "4                       1                 0                 1   \n",
       "\n",
       "   availability_wtd  availability_walk  availability_bike  ...  \\\n",
       "0                 1                  1                  1  ...   \n",
       "1                 1                  1                  1  ...   \n",
       "2                 1                  1                  1  ...   \n",
       "3                 1                  1                  1  ...   \n",
       "4                 0                  1                  1  ...   \n",
       "\n",
       "   total_travel_distance_dtw  total_travel_distance_wtd  \\\n",
       "0                        0.0                        0.0   \n",
       "1                        0.0                        0.0   \n",
       "2                        0.0                        0.0   \n",
       "3                        0.0                        0.0   \n",
       "4                        0.0                        NaN   \n",
       "\n",
       "   total_travel_distance_walk  total_travel_distance_bike  \\\n",
       "0                       29.11                       29.11   \n",
       "1                       24.80                       24.80   \n",
       "2                        8.38                        8.38   \n",
       "3                        8.38                        8.38   \n",
       "4                       40.64                       40.64   \n",
       "\n",
       "   total_travel_cost_drive_alone  total_travel_cost_shared_2  \\\n",
       "0                         5.7140                      3.2651   \n",
       "1                         4.4519                      2.5439   \n",
       "2                         1.6817                      0.9609   \n",
       "3                         1.6817                      0.9609   \n",
       "4                         5.9782                      3.4162   \n",
       "\n",
       "   total_travel_cost_shared_3p  cost_per_distance_drive_alone  \\\n",
       "0                       2.2856                       0.184799   \n",
       "1                       1.7807                       0.184803   \n",
       "2                       0.6726                       0.184802   \n",
       "3                       0.6726                       0.184802   \n",
       "4                       2.3913                       0.184798   \n",
       "\n",
       "   cost_per_distance_shared_2  cost_per_distance_shared_3p  \n",
       "0                    0.105598                     0.073920  \n",
       "1                    0.105600                     0.073919  \n",
       "2                    0.105593                     0.073912  \n",
       "3                    0.105593                     0.073912  \n",
       "4                    0.105601                     0.073920  \n",
       "\n",
       "[5 rows x 38 columns]"
      ]
     },
     "execution_count": 85,
     "metadata": {},
     "output_type": "execute_result"
    }
   ],
   "source": [
    "# Convert data from long to wide, I assigned a null value of 0\n",
    "# because it will make it easier to simulate data when we have\n",
    "# Unavailable variables\n",
    "bike_data_wide = pl.convert_long_to_wide(long_data=subset_bike_data,\n",
    "                                         ind_vars=ind_spec_vars,\n",
    "                                         alt_specific_vars=alt_spec_vars,\n",
    "                                         subset_specific_vars=subset_spec_vars,\n",
    "                                         obs_id_col=obs_id_col,\n",
    "                                         alt_id_col=alt_id_col,\n",
    "                                         choice_col=choice_col,\n",
    "                                         alt_name_dict=alternative_name_dict)\n",
    "bike_data_wide.head()"
   ]
  },
  {
   "cell_type": "markdown",
   "metadata": {},
   "source": [
    "Here, we need to decide how we will simulate data when we have unavailable values. TBD."
   ]
  },
  {
   "cell_type": "code",
   "execution_count": 86,
   "metadata": {},
   "outputs": [],
   "source": [
    "# Define the list of variables of interest from data_wide\n",
    "columns_wide = ['num_kids', 'household_size', 'num_cars',\n",
    "                'num_licensed_drivers', 'cross_bay',\n",
    "                'total_travel_time_drive_alone', 'total_travel_time_shared_2',\n",
    "                'total_travel_time_shared_3p', 'total_travel_time_wtw',\n",
    "                'total_travel_time_dtw', 'total_travel_time_wtd',\n",
    "                'total_travel_time_walk', 'total_travel_time_bike',\n",
    "                'total_travel_distance_drive_alone',\n",
    "                'total_travel_distance_shared_2',\n",
    "                'total_travel_distance_shared_3p',\n",
    "                'total_travel_distance_wtw',\n",
    "                'total_travel_distance_dtw', 'total_travel_distance_wtd',\n",
    "                'total_travel_distance_walk', 'total_travel_distance_bike',\n",
    "                'total_travel_cost_drive_alone', 'total_travel_cost_shared_2',\n",
    "                'total_travel_cost_shared_3p']\n",
    "\n",
    "# Restrict data to desired columns\n",
    "bike_data_wide = bike_data_wide[columns_wide]"
   ]
  },
  {
   "cell_type": "code",
   "execution_count": 87,
   "metadata": {},
   "outputs": [],
   "source": [
    "# Determine the distributions to be used\n",
    "distributions = ['normal', 'alpha', 'beta', 'gamma', 'expon', 'gumbel']\n",
    "\n",
    "# Initial the FitDistribution object\n",
    "bike_data_fitter = FitDistribution(data=bike_data_wide, dists=distributions)"
   ]
  },
  {
   "cell_type": "code",
   "execution_count": 88,
   "metadata": {},
   "outputs": [],
   "source": [
    "# Define the nature of each variables whether\n",
    "# discrete/categorical or continuous\n",
    "variable_type = {'num_kids': 'categorical',\n",
    "                 'household_size': 'categorical',\n",
    "                 'num_cars': 'discrete',\n",
    "                 'num_licensed_drivers': 'categorical',\n",
    "                 'cross_bay': 'categorical',\n",
    "                 'total_travel_time_drive_alone': 'continuous',\n",
    "                 'total_travel_time_shared_2': 'continuous',\n",
    "                 'total_travel_time_shared_3p': 'continuous',\n",
    "                 'total_travel_time_wtw': 'continuous',\n",
    "                 'total_travel_time_dtw': 'continuous',\n",
    "                 'total_travel_time_wtd': 'continuous',\n",
    "                 'total_travel_time_walk': 'continuous',\n",
    "                 'total_travel_time_bike': 'continuous',\n",
    "                 'total_travel_distance_drive_alone': 'continuous',\n",
    "                 'total_travel_distance_shared_2': 'continuous',\n",
    "                 'total_travel_distance_shared_3p': 'continuous',\n",
    "                 'total_travel_distance_wtw': 'continuous',\n",
    "                 'total_travel_distance_dtw': 'continuous',\n",
    "                 'total_travel_distance_wtd': 'continuous',\n",
    "                 'total_travel_distance_walk': 'continuous',\n",
    "                 'total_travel_distance_bike': 'continuous',\n",
    "                 'total_travel_cost_drive_alone': 'continuous',\n",
    "                 'total_travel_cost_shared_2': 'continuous',\n",
    "                 'total_travel_cost_shared_3p': 'continuous'}"
   ]
  },
  {
   "cell_type": "code",
   "execution_count": 89,
   "metadata": {},
   "outputs": [],
   "source": [
    "# Simulate dataframe based on the estimated distributions\n",
    "sim_bike_data = bike_data_fitter.SimDf(size=5000)"
   ]
  },
  {
   "cell_type": "markdown",
   "metadata": {},
   "source": [
    "## Example Implementation "
   ]
  },
  {
   "cell_type": "markdown",
   "metadata": {},
   "source": [
    "## Declaring variables"
   ]
  },
  {
   "cell_type": "code",
   "execution_count": 92,
   "metadata": {},
   "outputs": [],
   "source": [
    "observation_id_col = 'observation_id'\n",
    "\n",
    "alternative_id_col = 'mode_id'\n",
    "\n",
    "variable_type = {'num_kids': 'categorical',\n",
    "                 'household_size': 'categorical',\n",
    "                 'num_cars': 'categorical',\n",
    "                 'num_licensed_drivers': 'categorical'}\n",
    "\n",
    "individual_specific_variables = ['num_kids', 'household_size',\n",
    "                                 'num_cars', 'num_licensed_drivers']\n",
    "\n",
    "alternative_specific_variables = ['total_travel_time',\n",
    "                                  'total_travel_distance',\n",
    "                                  'total_travel_cost']\n",
    "\n",
    "trip_specific_variables = ['cross_bay']\n",
    "\n",
    "alternative_name_dict = {1: 'drive_alone',\n",
    "                         2: 'shared_2',\n",
    "                         3: 'shared_3p',\n",
    "                         4: 'wtw',\n",
    "                         5: 'dtw',\n",
    "                         6: 'wtd',\n",
    "                         7: 'walk',\n",
    "                         8: 'bike'}\n",
    "\n",
    "variable_type = {'num_kids': 'categorical',\n",
    "                 'household_size': 'categorical',\n",
    "                 'num_cars': 'categorical',\n",
    "                 'num_licensed_drivers': 'categorical',\n",
    "                 'cross_bay': 'categorical',\n",
    "                 'total_travel_time': 'continuous',\n",
    "                 'total_travel_distance': 'continuous',\n",
    "                 'total_travel_cost': 'continuous'}\n",
    "\n",
    "distributions = ['normal', 'alpha', 'beta', 'gamma', 'expon', 'gumbel']"
   ]
  },
  {
   "cell_type": "markdown",
   "metadata": {},
   "source": [
    "## Implementation of Function"
   ]
  },
  {
   "cell_type": "code",
   "execution_count": 93,
   "metadata": {},
   "outputs": [
    {
     "name": "stdout",
     "output_type": "stream",
     "text": [
      "SKIPPED normal distribution (taking more than 30 seconds)\n",
      "Fitted alpha distribution with error=0.0007989652291582563)\n",
      "Fitted beta distribution with error=0.00021837510493444555)\n"
     ]
    },
    {
     "name": "stderr",
     "output_type": "stream",
     "text": [
      "/Users/mobouzaghrane/opt/anaconda3/lib/python3.7/site-packages/scipy/stats/_distn_infrastructure.py:2381: RuntimeWarning: invalid value encountered in double_scalars\n",
      "  Lhat = muhat - Shat*mu\n",
      "/Users/mobouzaghrane/opt/anaconda3/lib/python3.7/site-packages/scipy/stats/_continuous_distns.py:515: RuntimeWarning: invalid value encountered in sqrt\n",
      "  sk = 2*(b-a)*np.sqrt(a + b + 1) / (a + b + 2) / np.sqrt(a*b)\n",
      "/Users/mobouzaghrane/opt/anaconda3/lib/python3.7/site-packages/scipy/optimize/minpack.py:162: RuntimeWarning: The iteration is not making good progress, as measured by the \n",
      "  improvement from the last ten iterations.\n",
      "  warnings.warn(msg, RuntimeWarning)\n"
     ]
    },
    {
     "name": "stdout",
     "output_type": "stream",
     "text": [
      "Fitted gamma distribution with error=0.00021215664843294874)\n",
      "Fitted expon distribution with error=0.00042675380208476757)\n",
      "SKIPPED gumbel distribution (taking more than 30 seconds)\n",
      "SKIPPED normal distribution (taking more than 30 seconds)\n",
      "Fitted alpha distribution with error=0.014522128648725777)\n",
      "Fitted beta distribution with error=0.0011963782652540424)\n",
      "Fitted gamma distribution with error=0.0011394543473683448)\n",
      "Fitted expon distribution with error=0.002052652669300775)\n",
      "SKIPPED gumbel distribution (taking more than 30 seconds)\n",
      "SKIPPED normal distribution (taking more than 30 seconds)\n",
      "Fitted alpha distribution with error=0.013034447497270776)\n",
      "Fitted beta distribution with error=0.04104766585766829)\n",
      "Fitted gamma distribution with error=0.03662007898297577)\n",
      "Fitted expon distribution with error=0.07921887555564106)\n",
      "SKIPPED gumbel distribution (taking more than 30 seconds)\n",
      "SKIPPED normal distribution (taking more than 30 seconds)\n",
      "Fitted alpha distribution with error=0.001056930694286857)\n",
      "Fitted beta distribution with error=0.0002880878794523213)\n",
      "Fitted gamma distribution with error=0.00028798219056962133)\n",
      "Fitted expon distribution with error=0.0006139993763181574)\n",
      "SKIPPED gumbel distribution (taking more than 30 seconds)\n",
      "SKIPPED normal distribution (taking more than 30 seconds)\n",
      "Fitted alpha distribution with error=0.014457810916552023)\n",
      "Fitted beta distribution with error=0.0012976882508515305)\n",
      "Fitted gamma distribution with error=0.0012552378475140624)\n",
      "Fitted expon distribution with error=0.0019967778289294194)\n",
      "SKIPPED gumbel distribution (taking more than 30 seconds)\n",
      "SKIPPED normal distribution (taking more than 30 seconds)\n",
      "Fitted alpha distribution with error=0.04504063577126065)\n",
      "Fitted beta distribution with error=0.15781307177556403)\n",
      "Fitted gamma distribution with error=0.15841075884851374)\n",
      "Fitted expon distribution with error=0.25956064777904964)\n",
      "SKIPPED gumbel distribution (taking more than 30 seconds)\n",
      "SKIPPED normal distribution (taking more than 30 seconds)\n",
      "Fitted alpha distribution with error=0.0010612734128178794)\n",
      "Fitted beta distribution with error=0.00023601477811189558)\n",
      "Fitted gamma distribution with error=0.00023611716873763347)\n",
      "Fitted expon distribution with error=0.0006076210852379661)\n",
      "SKIPPED gumbel distribution (taking more than 30 seconds)\n",
      "SKIPPED normal distribution (taking more than 30 seconds)\n",
      "Fitted alpha distribution with error=0.014462601227138085)\n",
      "Fitted beta distribution with error=0.001276124018206852)\n",
      "Fitted gamma distribution with error=0.0012547975031013958)\n",
      "Fitted expon distribution with error=0.0020004181046601524)\n",
      "SKIPPED gumbel distribution (taking more than 30 seconds)\n",
      "SKIPPED normal distribution (taking more than 30 seconds)\n",
      "Fitted alpha distribution with error=0.09325519048258353)\n",
      "Fitted beta distribution with error=0.2719576971221132)\n",
      "Fitted gamma distribution with error=0.2684643698148782)\n",
      "Fitted expon distribution with error=0.4484867698126394)\n",
      "SKIPPED gumbel distribution (taking more than 30 seconds)\n",
      "SKIPPED normal distribution (taking more than 30 seconds)\n",
      "Fitted alpha distribution with error=0.00010782141835446614)\n",
      "Fitted beta distribution with error=0.00011146390130275948)\n",
      "Fitted gamma distribution with error=0.00010902380039568413)\n",
      "Fitted expon distribution with error=0.0006821775284529087)\n",
      "SKIPPED gumbel distribution (taking more than 30 seconds)\n",
      "SKIPPED normal distribution (taking more than 30 seconds)\n",
      "Fitted alpha distribution with error=8.394020014580313)\n"
     ]
    },
    {
     "name": "stderr",
     "output_type": "stream",
     "text": [
      "/Users/mobouzaghrane/opt/anaconda3/lib/python3.7/site-packages/scipy/optimize/minpack.py:162: RuntimeWarning: The iteration is not making good progress, as measured by the \n",
      "  improvement from the last five Jacobian evaluations.\n",
      "  warnings.warn(msg, RuntimeWarning)\n"
     ]
    },
    {
     "name": "stdout",
     "output_type": "stream",
     "text": [
      "Fitted beta distribution with error=8.724425966292245)\n",
      "Fitted gamma distribution with error=8.724370722136563)\n",
      "Fitted expon distribution with error=9.1690513221318)\n",
      "SKIPPED gumbel distribution (taking more than 30 seconds)\n",
      "SKIPPED normal distribution (taking more than 30 seconds)\n",
      "Fitted alpha distribution with error=6.672556141363111e-05)\n",
      "Fitted beta distribution with error=6.196777802352273e-05)\n",
      "Fitted gamma distribution with error=6.08535018564024e-05)\n",
      "Fitted expon distribution with error=0.0007188034183935458)\n",
      "SKIPPED gumbel distribution (taking more than 30 seconds)\n",
      "SKIPPED normal distribution (taking more than 30 seconds)\n",
      "Fitted alpha distribution with error=8.324919501617495)\n",
      "Fitted beta distribution with error=9.381940852860888)\n",
      "Fitted gamma distribution with error=8.638629330672966)\n",
      "Fitted expon distribution with error=9.271523141699383)\n",
      "SKIPPED gumbel distribution (taking more than 30 seconds)\n",
      "SKIPPED normal distribution (taking more than 30 seconds)\n",
      "Fitted alpha distribution with error=8.054952402098987e-05)\n",
      "Fitted beta distribution with error=8.156641381917802e-05)\n",
      "Fitted gamma distribution with error=8.048390439269993e-05)\n",
      "Fitted expon distribution with error=0.0008900680532886661)\n",
      "SKIPPED gumbel distribution (taking more than 30 seconds)\n",
      "SKIPPED normal distribution (taking more than 30 seconds)\n",
      "Fitted alpha distribution with error=8.770907888528171)\n",
      "Fitted beta distribution with error=9.796625940589463)\n",
      "Fitted gamma distribution with error=9.081385466834893)\n",
      "Fitted expon distribution with error=9.667837356880147)\n",
      "SKIPPED gumbel distribution (taking more than 30 seconds)\n",
      "SKIPPED normal distribution (taking more than 30 seconds)\n",
      "Fitted alpha distribution with error=3.710751949856986e-05)\n",
      "Fitted beta distribution with error=5.925127101230748e-06)\n",
      "Fitted gamma distribution with error=5.804430139130399e-06)\n",
      "Fitted expon distribution with error=8.673334653358734e-06)\n",
      "SKIPPED gumbel distribution (taking more than 30 seconds)\n",
      "SKIPPED normal distribution (taking more than 30 seconds)\n",
      "Fitted alpha distribution with error=0.0008972367532526685)\n",
      "Fitted beta distribution with error=0.002377025832720183)\n",
      "Fitted gamma distribution with error=0.002275034836025737)\n",
      "Fitted expon distribution with error=0.003469333861343498)\n",
      "SKIPPED gumbel distribution (taking more than 30 seconds)\n",
      "SKIPPED normal distribution (taking more than 30 seconds)\n",
      "Fitted alpha distribution with error=0.0005543487080009017)\n",
      "Fitted beta distribution with error=9.899959495894452e-05)\n",
      "Fitted gamma distribution with error=7.59436705777334e-05)\n",
      "Fitted expon distribution with error=0.000167136671750175)\n",
      "SKIPPED gumbel distribution (taking more than 30 seconds)\n",
      "SKIPPED normal distribution (taking more than 30 seconds)\n",
      "Fitted alpha distribution with error=0.0007221359033952726)\n",
      "Fitted beta distribution with error=0.0024566904071273085)\n",
      "Fitted gamma distribution with error=0.0024407152169873807)\n",
      "Fitted expon distribution with error=0.004178416793754377)\n",
      "SKIPPED gumbel distribution (taking more than 30 seconds)\n"
     ]
    }
   ],
   "source": [
    "bike_data_params = FindLongDataDist(data_long=bike_data_long,\n",
    "                                    alt_id_col=alternative_id_col,\n",
    "                                    obs_id_col=observation_id_col,\n",
    "                                    alt_spec=alternative_specific_variables,\n",
    "                                    alt_name_dic=alternative_name_dict,\n",
    "                                    ind_spec=individual_specific_variables,\n",
    "                                    trip_spec=trip_specific_variables,\n",
    "                                    var_types=variable_type,\n",
    "                                    cont_dists=distributions)"
   ]
  },
  {
   "cell_type": "code",
   "execution_count": 95,
   "metadata": {},
   "outputs": [],
   "source": [
    "sim_data = SimDf(params_dict=bike_data_params, size=2000)"
   ]
  },
  {
   "cell_type": "code",
   "execution_count": 96,
   "metadata": {},
   "outputs": [
    {
     "data": {
      "text/html": [
       "<div>\n",
       "<style scoped>\n",
       "    .dataframe tbody tr th:only-of-type {\n",
       "        vertical-align: middle;\n",
       "    }\n",
       "\n",
       "    .dataframe tbody tr th {\n",
       "        vertical-align: top;\n",
       "    }\n",
       "\n",
       "    .dataframe thead th {\n",
       "        text-align: right;\n",
       "    }\n",
       "</style>\n",
       "<table border=\"1\" class=\"dataframe\">\n",
       "  <thead>\n",
       "    <tr style=\"text-align: right;\">\n",
       "      <th></th>\n",
       "      <th>num_kids</th>\n",
       "      <th>household_size</th>\n",
       "      <th>num_cars</th>\n",
       "      <th>num_licensed_drivers</th>\n",
       "      <th>total_travel_time_drive_alone</th>\n",
       "      <th>total_travel_distance_drive_alone</th>\n",
       "      <th>total_travel_cost_drive_alone</th>\n",
       "      <th>total_travel_time_shared_2</th>\n",
       "      <th>total_travel_distance_shared_2</th>\n",
       "      <th>total_travel_cost_shared_2</th>\n",
       "      <th>...</th>\n",
       "      <th>total_travel_time_wtd</th>\n",
       "      <th>total_travel_distance_wtd</th>\n",
       "      <th>total_travel_cost_wtd</th>\n",
       "      <th>total_travel_time_walk</th>\n",
       "      <th>total_travel_distance_walk</th>\n",
       "      <th>total_travel_cost_walk</th>\n",
       "      <th>total_travel_time_bike</th>\n",
       "      <th>total_travel_distance_bike</th>\n",
       "      <th>total_travel_cost_bike</th>\n",
       "      <th>cross_bay</th>\n",
       "    </tr>\n",
       "  </thead>\n",
       "  <tbody>\n",
       "    <tr>\n",
       "      <td>0</td>\n",
       "      <td>2</td>\n",
       "      <td>1.0</td>\n",
       "      <td>2.0</td>\n",
       "      <td>2.0</td>\n",
       "      <td>50.580973</td>\n",
       "      <td>12.456223</td>\n",
       "      <td>0.783291</td>\n",
       "      <td>16.512103</td>\n",
       "      <td>3.168624</td>\n",
       "      <td>33.289835</td>\n",
       "      <td>...</td>\n",
       "      <td>62.247643</td>\n",
       "      <td>0.0</td>\n",
       "      <td>4.690495</td>\n",
       "      <td>22.725299</td>\n",
       "      <td>64.603739</td>\n",
       "      <td>0.0</td>\n",
       "      <td>12.411960</td>\n",
       "      <td>13.184623</td>\n",
       "      <td>0.0</td>\n",
       "      <td>0</td>\n",
       "    </tr>\n",
       "    <tr>\n",
       "      <td>1</td>\n",
       "      <td>0</td>\n",
       "      <td>1.0</td>\n",
       "      <td>4.0</td>\n",
       "      <td>1.0</td>\n",
       "      <td>21.041464</td>\n",
       "      <td>23.020260</td>\n",
       "      <td>2.126832</td>\n",
       "      <td>48.092422</td>\n",
       "      <td>31.495162</td>\n",
       "      <td>0.486445</td>\n",
       "      <td>...</td>\n",
       "      <td>56.560907</td>\n",
       "      <td>0.0</td>\n",
       "      <td>9.659440</td>\n",
       "      <td>15.566029</td>\n",
       "      <td>2.022584</td>\n",
       "      <td>0.0</td>\n",
       "      <td>56.941207</td>\n",
       "      <td>3.929513</td>\n",
       "      <td>0.0</td>\n",
       "      <td>0</td>\n",
       "    </tr>\n",
       "    <tr>\n",
       "      <td>2</td>\n",
       "      <td>1</td>\n",
       "      <td>4.0</td>\n",
       "      <td>3.0</td>\n",
       "      <td>3.0</td>\n",
       "      <td>23.397878</td>\n",
       "      <td>13.297877</td>\n",
       "      <td>0.562465</td>\n",
       "      <td>66.009773</td>\n",
       "      <td>70.269217</td>\n",
       "      <td>0.023247</td>\n",
       "      <td>...</td>\n",
       "      <td>65.009785</td>\n",
       "      <td>0.0</td>\n",
       "      <td>7.529626</td>\n",
       "      <td>24.582190</td>\n",
       "      <td>5.811552</td>\n",
       "      <td>0.0</td>\n",
       "      <td>27.716994</td>\n",
       "      <td>1.089178</td>\n",
       "      <td>0.0</td>\n",
       "      <td>0</td>\n",
       "    </tr>\n",
       "    <tr>\n",
       "      <td>3</td>\n",
       "      <td>0</td>\n",
       "      <td>4.0</td>\n",
       "      <td>2.0</td>\n",
       "      <td>4.0</td>\n",
       "      <td>34.597713</td>\n",
       "      <td>16.418423</td>\n",
       "      <td>1.515789</td>\n",
       "      <td>52.662450</td>\n",
       "      <td>34.919010</td>\n",
       "      <td>0.243737</td>\n",
       "      <td>...</td>\n",
       "      <td>126.714040</td>\n",
       "      <td>0.0</td>\n",
       "      <td>12.402977</td>\n",
       "      <td>153.157199</td>\n",
       "      <td>1.923080</td>\n",
       "      <td>0.0</td>\n",
       "      <td>30.661741</td>\n",
       "      <td>1.196031</td>\n",
       "      <td>0.0</td>\n",
       "      <td>0</td>\n",
       "    </tr>\n",
       "    <tr>\n",
       "      <td>4</td>\n",
       "      <td>0</td>\n",
       "      <td>2.0</td>\n",
       "      <td>1.0</td>\n",
       "      <td>1.0</td>\n",
       "      <td>4.539613</td>\n",
       "      <td>12.380527</td>\n",
       "      <td>4.246490</td>\n",
       "      <td>89.950129</td>\n",
       "      <td>11.813895</td>\n",
       "      <td>0.444571</td>\n",
       "      <td>...</td>\n",
       "      <td>117.857128</td>\n",
       "      <td>0.0</td>\n",
       "      <td>3.382506</td>\n",
       "      <td>78.259330</td>\n",
       "      <td>68.345440</td>\n",
       "      <td>0.0</td>\n",
       "      <td>91.964961</td>\n",
       "      <td>2.253704</td>\n",
       "      <td>0.0</td>\n",
       "      <td>0</td>\n",
       "    </tr>\n",
       "  </tbody>\n",
       "</table>\n",
       "<p>5 rows × 29 columns</p>\n",
       "</div>"
      ],
      "text/plain": [
       "   num_kids  household_size  num_cars  num_licensed_drivers  \\\n",
       "0         2             1.0       2.0                   2.0   \n",
       "1         0             1.0       4.0                   1.0   \n",
       "2         1             4.0       3.0                   3.0   \n",
       "3         0             4.0       2.0                   4.0   \n",
       "4         0             2.0       1.0                   1.0   \n",
       "\n",
       "   total_travel_time_drive_alone  total_travel_distance_drive_alone  \\\n",
       "0                      50.580973                          12.456223   \n",
       "1                      21.041464                          23.020260   \n",
       "2                      23.397878                          13.297877   \n",
       "3                      34.597713                          16.418423   \n",
       "4                       4.539613                          12.380527   \n",
       "\n",
       "   total_travel_cost_drive_alone  total_travel_time_shared_2  \\\n",
       "0                       0.783291                   16.512103   \n",
       "1                       2.126832                   48.092422   \n",
       "2                       0.562465                   66.009773   \n",
       "3                       1.515789                   52.662450   \n",
       "4                       4.246490                   89.950129   \n",
       "\n",
       "   total_travel_distance_shared_2  total_travel_cost_shared_2  ...  \\\n",
       "0                        3.168624                   33.289835  ...   \n",
       "1                       31.495162                    0.486445  ...   \n",
       "2                       70.269217                    0.023247  ...   \n",
       "3                       34.919010                    0.243737  ...   \n",
       "4                       11.813895                    0.444571  ...   \n",
       "\n",
       "   total_travel_time_wtd  total_travel_distance_wtd  total_travel_cost_wtd  \\\n",
       "0              62.247643                        0.0               4.690495   \n",
       "1              56.560907                        0.0               9.659440   \n",
       "2              65.009785                        0.0               7.529626   \n",
       "3             126.714040                        0.0              12.402977   \n",
       "4             117.857128                        0.0               3.382506   \n",
       "\n",
       "   total_travel_time_walk  total_travel_distance_walk  total_travel_cost_walk  \\\n",
       "0               22.725299                   64.603739                     0.0   \n",
       "1               15.566029                    2.022584                     0.0   \n",
       "2               24.582190                    5.811552                     0.0   \n",
       "3              153.157199                    1.923080                     0.0   \n",
       "4               78.259330                   68.345440                     0.0   \n",
       "\n",
       "   total_travel_time_bike  total_travel_distance_bike  total_travel_cost_bike  \\\n",
       "0               12.411960                   13.184623                     0.0   \n",
       "1               56.941207                    3.929513                     0.0   \n",
       "2               27.716994                    1.089178                     0.0   \n",
       "3               30.661741                    1.196031                     0.0   \n",
       "4               91.964961                    2.253704                     0.0   \n",
       "\n",
       "   cross_bay  \n",
       "0          0  \n",
       "1          0  \n",
       "2          0  \n",
       "3          0  \n",
       "4          0  \n",
       "\n",
       "[5 rows x 29 columns]"
      ]
     },
     "execution_count": 96,
     "metadata": {},
     "output_type": "execute_result"
    }
   ],
   "source": [
    "sim_data.head()"
   ]
  },
  {
   "cell_type": "code",
   "execution_count": 97,
   "metadata": {},
   "outputs": [],
   "source": [
    "wide_sim_data = SimulateAvailability(bike_data_long,\n",
    "                                     sim_data=sim_data,\n",
    "                                     obs_id_col=observation_id_col,\n",
    "                                     alt_name_dict=alternative_name_dict)"
   ]
  },
  {
   "cell_type": "markdown",
   "metadata": {},
   "source": [
    "# Simulate Choices "
   ]
  },
  {
   "cell_type": "markdown",
   "metadata": {},
   "source": [
    "## Convert Simulated Data from Wide to Long "
   ]
  },
  {
   "cell_type": "code",
   "execution_count": 99,
   "metadata": {},
   "outputs": [],
   "source": [
    "ind_variables = ['num_kids', 'household_size',\n",
    "                 'num_cars', 'num_licensed_drivers', 'cross_bay']\n",
    "\n",
    "\n",
    "alt_varying_variables = {u'total_travel_time': dict([(1, 'total_travel_time_drive_alone'),\n",
    "                                                     (2, 'total_travel_time_shared_2'),\n",
    "                                                     (3, 'total_travel_time_shared_3p'),\n",
    "                                                     (4, 'total_travel_time_wtw'),\n",
    "                                                     (5, 'total_travel_time_dtw'),\n",
    "                                                     (6, 'total_travel_time_wtd'),\n",
    "                                                     (7, 'total_travel_time_walk'),\n",
    "                                                     (8, 'total_travel_time_bike')]),\n",
    "                         u'total_travel_cost': dict([(1, 'total_travel_cost_drive_alone'),\n",
    "                                                     (2, 'total_travel_cost_shared_2'),\n",
    "                                                     (3, 'total_travel_cost_shared_3p'),\n",
    "                                                     (4, 'total_travel_cost_wtw'),\n",
    "                                                     (5, 'total_travel_cost_dtw'),\n",
    "                                                     (6, 'total_travel_cost_wtd'),\n",
    "                                                     (7, 'total_travel_cost_walk'),\n",
    "                                                     (8, 'total_travel_cost_bike')]),\n",
    "                         u'total_travel_distance': dict([(1, 'total_travel_distance_drive_alone'),\n",
    "                                                         (2, 'total_travel_distance_shared_2'),\n",
    "                                                         (3, 'total_travel_distance_shared_3p'),\n",
    "                                                         (4, 'total_travel_distance_wtw'),\n",
    "                                                         (5, 'total_travel_distance_dtw'),\n",
    "                                                         (6, 'total_travel_distance_wtd'),\n",
    "                                                         (7, 'total_travel_distance_walk'),\n",
    "                                                         (8, 'total_travel_distance_bike')]),\n",
    "                            }\n",
    "\n",
    "\n",
    "availability_variables = {1: 'drive_alone_AV',\n",
    "                          2: 'shared_2_AV',\n",
    "                          3: 'shared_3p_AV',\n",
    "                          4: 'wtw_AV',\n",
    "                          5: 'dtw_AV',\n",
    "                          6: 'wtd_AV',\n",
    "                          7: 'walk_AV',\n",
    "                          8: 'bike_AV'}\n",
    "\n",
    "##########\n",
    "# Determine the columns for: alternative ids, the observation ids and the choice\n",
    "##########\n",
    "# The 'custom_alt_id' is the name of a column to be created in the long-format data\n",
    "# It will identify the alternative associated with each row.\n",
    "custom_alt_id = \"mode_id\"\n",
    "\n",
    "# Create a custom id column that ignores the fact that this is a\n",
    "# panel/repeated-observations dataset. Note the +1 ensures the id's start at one.\n",
    "obs_id_column = \"observation_id\"\n",
    "wide_sim_data[obs_id_column] = np.arange(wide_sim_data.shape[0],\n",
    "                                         dtype=int) + 1\n",
    "\n",
    "\n",
    "# Create an empty choice column\n",
    "choice_column = \"sim_choice\""
   ]
  },
  {
   "cell_type": "markdown",
   "metadata": {},
   "source": [
    "## Convert to Long Format Data"
   ]
  },
  {
   "cell_type": "code",
   "execution_count": 100,
   "metadata": {},
   "outputs": [],
   "source": [
    "long_sim_data = pl.convert_wide_to_long(wide_sim_data,\n",
    "                                        ind_variables,\n",
    "                                        alt_varying_variables,\n",
    "                                        availability_variables,\n",
    "                                        obs_id_column,\n",
    "                                        choice_column,\n",
    "                                        new_alt_id_name=custom_alt_id)"
   ]
  },
  {
   "cell_type": "code",
   "execution_count": 101,
   "metadata": {},
   "outputs": [],
   "source": [
    "# Create a cars per licensed drivers column\n",
    "long_sim_data[\"cars_per_licensed_drivers\"] = 0\n",
    "long_sim_data.loc[long_sim_data.num_licensed_drivers > 0,\n",
    "                  \"cars_per_licensed_drivers\"] = long_sim_data.num_cars / long_sim_data.num_licensed_drivers.astype(float)"
   ]
  },
  {
   "cell_type": "code",
   "execution_count": 102,
   "metadata": {},
   "outputs": [],
   "source": [
    "# Add a variable representing cost divided by distance\n",
    "long_sim_data[\"cost_per_distance\"] = 0\n",
    "long_sim_data.loc[long_sim_data.mode_id.isin([1, 2, 3]),\n",
    "                  \"cost_per_distance\"] = (long_sim_data.loc[long_sim_data.mode_id.isin([1, 2, 3]),\n",
    "                                                            \"total_travel_cost\"] /\n",
    "                                          long_sim_data.loc[long_sim_data.mode_id.isin([1, 2, 3]),\n",
    "                                                            \"total_travel_distance\"])"
   ]
  },
  {
   "cell_type": "code",
   "execution_count": 103,
   "metadata": {},
   "outputs": [
    {
     "name": "stderr",
     "output_type": "stream",
     "text": [
      "/Users/mobouzaghrane/opt/anaconda3/lib/python3.7/site-packages/pylogit/choice_tools.py:703: FutureWarning: arrays to stack must be passed as a \"sequence\" type such as list or tuple. Support for non-sequence iterables such as generators is deprecated as of NumPy 1.16 and will raise an error in the future.\n",
      "  design_matrix = np.hstack((x[:, None] for x in independent_vars))\n"
     ]
    },
    {
     "data": {
      "application/vnd.jupyter.widget-view+json": {
       "model_id": "0da9b29d873e4107be69c6e960d5647d",
       "version_major": 2,
       "version_minor": 0
      },
      "text/plain": [
       "HBox(children=(IntProgress(value=0, description='Simulating Choices', max=2000, style=ProgressStyle(descriptio…"
      ]
     },
     "metadata": {},
     "output_type": "display_data"
    },
    {
     "name": "stdout",
     "output_type": "stream",
     "text": [
      "\n"
     ]
    }
   ],
   "source": [
    "posterior_probs = mnl_model.predict(long_sim_data)\n",
    "\n",
    "long_sim_data['sim_choice'] = simulate_choice_vector(posterior_probs,\n",
    "                               long_sim_data['observation_id'].values)"
   ]
  },
  {
   "cell_type": "code",
   "execution_count": 104,
   "metadata": {},
   "outputs": [
    {
     "data": {
      "text/html": [
       "<div>\n",
       "<style scoped>\n",
       "    .dataframe tbody tr th:only-of-type {\n",
       "        vertical-align: middle;\n",
       "    }\n",
       "\n",
       "    .dataframe tbody tr th {\n",
       "        vertical-align: top;\n",
       "    }\n",
       "\n",
       "    .dataframe thead th {\n",
       "        text-align: right;\n",
       "    }\n",
       "</style>\n",
       "<table border=\"1\" class=\"dataframe\">\n",
       "  <thead>\n",
       "    <tr style=\"text-align: right;\">\n",
       "      <th></th>\n",
       "      <th>observation_id</th>\n",
       "      <th>mode_id</th>\n",
       "      <th>sim_choice</th>\n",
       "      <th>num_kids</th>\n",
       "      <th>household_size</th>\n",
       "      <th>num_cars</th>\n",
       "      <th>num_licensed_drivers</th>\n",
       "      <th>cross_bay</th>\n",
       "      <th>total_travel_time</th>\n",
       "      <th>total_travel_cost</th>\n",
       "      <th>total_travel_distance</th>\n",
       "      <th>cars_per_licensed_drivers</th>\n",
       "      <th>cost_per_distance</th>\n",
       "      <th>intercept</th>\n",
       "    </tr>\n",
       "  </thead>\n",
       "  <tbody>\n",
       "    <tr>\n",
       "      <td>0</td>\n",
       "      <td>1</td>\n",
       "      <td>1</td>\n",
       "      <td>0</td>\n",
       "      <td>2</td>\n",
       "      <td>1.0</td>\n",
       "      <td>2.0</td>\n",
       "      <td>2.0</td>\n",
       "      <td>0</td>\n",
       "      <td>50.580973</td>\n",
       "      <td>0.783291</td>\n",
       "      <td>12.456223</td>\n",
       "      <td>1.0</td>\n",
       "      <td>0.062884</td>\n",
       "      <td>1.0</td>\n",
       "    </tr>\n",
       "    <tr>\n",
       "      <td>1</td>\n",
       "      <td>1</td>\n",
       "      <td>2</td>\n",
       "      <td>0</td>\n",
       "      <td>2</td>\n",
       "      <td>1.0</td>\n",
       "      <td>2.0</td>\n",
       "      <td>2.0</td>\n",
       "      <td>0</td>\n",
       "      <td>16.512103</td>\n",
       "      <td>33.289835</td>\n",
       "      <td>3.168624</td>\n",
       "      <td>1.0</td>\n",
       "      <td>10.506086</td>\n",
       "      <td>1.0</td>\n",
       "    </tr>\n",
       "    <tr>\n",
       "      <td>2</td>\n",
       "      <td>1</td>\n",
       "      <td>3</td>\n",
       "      <td>1</td>\n",
       "      <td>2</td>\n",
       "      <td>1.0</td>\n",
       "      <td>2.0</td>\n",
       "      <td>2.0</td>\n",
       "      <td>0</td>\n",
       "      <td>11.720076</td>\n",
       "      <td>0.217120</td>\n",
       "      <td>12.212146</td>\n",
       "      <td>1.0</td>\n",
       "      <td>0.017779</td>\n",
       "      <td>1.0</td>\n",
       "    </tr>\n",
       "    <tr>\n",
       "      <td>3</td>\n",
       "      <td>1</td>\n",
       "      <td>4</td>\n",
       "      <td>0</td>\n",
       "      <td>2</td>\n",
       "      <td>1.0</td>\n",
       "      <td>2.0</td>\n",
       "      <td>2.0</td>\n",
       "      <td>0</td>\n",
       "      <td>85.651747</td>\n",
       "      <td>8.502555</td>\n",
       "      <td>0.000000</td>\n",
       "      <td>1.0</td>\n",
       "      <td>0.000000</td>\n",
       "      <td>1.0</td>\n",
       "    </tr>\n",
       "    <tr>\n",
       "      <td>4</td>\n",
       "      <td>1</td>\n",
       "      <td>5</td>\n",
       "      <td>0</td>\n",
       "      <td>2</td>\n",
       "      <td>1.0</td>\n",
       "      <td>2.0</td>\n",
       "      <td>2.0</td>\n",
       "      <td>0</td>\n",
       "      <td>33.792558</td>\n",
       "      <td>5.135150</td>\n",
       "      <td>0.000000</td>\n",
       "      <td>1.0</td>\n",
       "      <td>0.000000</td>\n",
       "      <td>1.0</td>\n",
       "    </tr>\n",
       "    <tr>\n",
       "      <td>...</td>\n",
       "      <td>...</td>\n",
       "      <td>...</td>\n",
       "      <td>...</td>\n",
       "      <td>...</td>\n",
       "      <td>...</td>\n",
       "      <td>...</td>\n",
       "      <td>...</td>\n",
       "      <td>...</td>\n",
       "      <td>...</td>\n",
       "      <td>...</td>\n",
       "      <td>...</td>\n",
       "      <td>...</td>\n",
       "      <td>...</td>\n",
       "      <td>...</td>\n",
       "    </tr>\n",
       "    <tr>\n",
       "      <td>13633</td>\n",
       "      <td>2000</td>\n",
       "      <td>4</td>\n",
       "      <td>0</td>\n",
       "      <td>0</td>\n",
       "      <td>2.0</td>\n",
       "      <td>2.0</td>\n",
       "      <td>2.0</td>\n",
       "      <td>0</td>\n",
       "      <td>97.031797</td>\n",
       "      <td>6.421595</td>\n",
       "      <td>0.000000</td>\n",
       "      <td>1.0</td>\n",
       "      <td>0.000000</td>\n",
       "      <td>1.0</td>\n",
       "    </tr>\n",
       "    <tr>\n",
       "      <td>13634</td>\n",
       "      <td>2000</td>\n",
       "      <td>5</td>\n",
       "      <td>0</td>\n",
       "      <td>0</td>\n",
       "      <td>2.0</td>\n",
       "      <td>2.0</td>\n",
       "      <td>2.0</td>\n",
       "      <td>0</td>\n",
       "      <td>85.442085</td>\n",
       "      <td>3.607945</td>\n",
       "      <td>0.000000</td>\n",
       "      <td>1.0</td>\n",
       "      <td>0.000000</td>\n",
       "      <td>1.0</td>\n",
       "    </tr>\n",
       "    <tr>\n",
       "      <td>13635</td>\n",
       "      <td>2000</td>\n",
       "      <td>6</td>\n",
       "      <td>0</td>\n",
       "      <td>0</td>\n",
       "      <td>2.0</td>\n",
       "      <td>2.0</td>\n",
       "      <td>2.0</td>\n",
       "      <td>0</td>\n",
       "      <td>73.264470</td>\n",
       "      <td>11.272720</td>\n",
       "      <td>0.000000</td>\n",
       "      <td>1.0</td>\n",
       "      <td>0.000000</td>\n",
       "      <td>1.0</td>\n",
       "    </tr>\n",
       "    <tr>\n",
       "      <td>13636</td>\n",
       "      <td>2000</td>\n",
       "      <td>7</td>\n",
       "      <td>1</td>\n",
       "      <td>0</td>\n",
       "      <td>2.0</td>\n",
       "      <td>2.0</td>\n",
       "      <td>2.0</td>\n",
       "      <td>0</td>\n",
       "      <td>209.828605</td>\n",
       "      <td>0.000000</td>\n",
       "      <td>1.375411</td>\n",
       "      <td>1.0</td>\n",
       "      <td>0.000000</td>\n",
       "      <td>1.0</td>\n",
       "    </tr>\n",
       "    <tr>\n",
       "      <td>13637</td>\n",
       "      <td>2000</td>\n",
       "      <td>8</td>\n",
       "      <td>0</td>\n",
       "      <td>0</td>\n",
       "      <td>2.0</td>\n",
       "      <td>2.0</td>\n",
       "      <td>2.0</td>\n",
       "      <td>0</td>\n",
       "      <td>77.317464</td>\n",
       "      <td>0.000000</td>\n",
       "      <td>9.686621</td>\n",
       "      <td>1.0</td>\n",
       "      <td>0.000000</td>\n",
       "      <td>1.0</td>\n",
       "    </tr>\n",
       "  </tbody>\n",
       "</table>\n",
       "<p>13638 rows × 14 columns</p>\n",
       "</div>"
      ],
      "text/plain": [
       "       observation_id  mode_id  sim_choice  num_kids  household_size  \\\n",
       "0                   1        1           0         2             1.0   \n",
       "1                   1        2           0         2             1.0   \n",
       "2                   1        3           1         2             1.0   \n",
       "3                   1        4           0         2             1.0   \n",
       "4                   1        5           0         2             1.0   \n",
       "...               ...      ...         ...       ...             ...   \n",
       "13633            2000        4           0         0             2.0   \n",
       "13634            2000        5           0         0             2.0   \n",
       "13635            2000        6           0         0             2.0   \n",
       "13636            2000        7           1         0             2.0   \n",
       "13637            2000        8           0         0             2.0   \n",
       "\n",
       "       num_cars  num_licensed_drivers  cross_bay  total_travel_time  \\\n",
       "0           2.0                   2.0          0          50.580973   \n",
       "1           2.0                   2.0          0          16.512103   \n",
       "2           2.0                   2.0          0          11.720076   \n",
       "3           2.0                   2.0          0          85.651747   \n",
       "4           2.0                   2.0          0          33.792558   \n",
       "...         ...                   ...        ...                ...   \n",
       "13633       2.0                   2.0          0          97.031797   \n",
       "13634       2.0                   2.0          0          85.442085   \n",
       "13635       2.0                   2.0          0          73.264470   \n",
       "13636       2.0                   2.0          0         209.828605   \n",
       "13637       2.0                   2.0          0          77.317464   \n",
       "\n",
       "       total_travel_cost  total_travel_distance  cars_per_licensed_drivers  \\\n",
       "0               0.783291              12.456223                        1.0   \n",
       "1              33.289835               3.168624                        1.0   \n",
       "2               0.217120              12.212146                        1.0   \n",
       "3               8.502555               0.000000                        1.0   \n",
       "4               5.135150               0.000000                        1.0   \n",
       "...                  ...                    ...                        ...   \n",
       "13633           6.421595               0.000000                        1.0   \n",
       "13634           3.607945               0.000000                        1.0   \n",
       "13635          11.272720               0.000000                        1.0   \n",
       "13636           0.000000               1.375411                        1.0   \n",
       "13637           0.000000               9.686621                        1.0   \n",
       "\n",
       "       cost_per_distance  intercept  \n",
       "0               0.062884        1.0  \n",
       "1              10.506086        1.0  \n",
       "2               0.017779        1.0  \n",
       "3               0.000000        1.0  \n",
       "4               0.000000        1.0  \n",
       "...                  ...        ...  \n",
       "13633           0.000000        1.0  \n",
       "13634           0.000000        1.0  \n",
       "13635           0.000000        1.0  \n",
       "13636           0.000000        1.0  \n",
       "13637           0.000000        1.0  \n",
       "\n",
       "[13638 rows x 14 columns]"
      ]
     },
     "execution_count": 104,
     "metadata": {},
     "output_type": "execute_result"
    }
   ],
   "source": [
    "long_sim_data"
   ]
  },
  {
   "cell_type": "code",
   "execution_count": 105,
   "metadata": {},
   "outputs": [
    {
     "name": "stdout",
     "output_type": "stream",
     "text": [
      "Log-likelihood at zero: -3,788.9016\n",
      "Initial Log-likelihood: -3,788.9016\n",
      "Estimation Time for Point Estimation: 0.20 seconds.\n",
      "Final log-likelihood: -1,351.9510\n"
     ]
    },
    {
     "name": "stderr",
     "output_type": "stream",
     "text": [
      "/Users/mobouzaghrane/opt/anaconda3/lib/python3.7/site-packages/scipy/optimize/_minimize.py:505: RuntimeWarning: Method BFGS does not use Hessian information (hess).\n",
      "  RuntimeWarning)\n"
     ]
    },
    {
     "data": {
      "text/html": [
       "<table class=\"simpletable\">\n",
       "<caption>Multinomial Logit Model Regression Results</caption>\n",
       "<tr>\n",
       "  <th>Dep. Variable:</th>       <td>sim_choice</td>        <th>  No. Observations:  </th>    <td>2,000</td>  \n",
       "</tr>\n",
       "<tr>\n",
       "  <th>Model:</th>         <td>Multinomial Logit Model</td> <th>  Df Residuals:      </th>    <td>1,981</td>  \n",
       "</tr>\n",
       "<tr>\n",
       "  <th>Method:</th>                  <td>MLE</td>           <th>  Df Model:          </th>     <td>19</td>    \n",
       "</tr>\n",
       "<tr>\n",
       "  <th>Date:</th>             <td>Wed, 25 Mar 2020</td>     <th>  Pseudo R-squ.:     </th>    <td>0.643</td>  \n",
       "</tr>\n",
       "<tr>\n",
       "  <th>Time:</th>                 <td>22:46:45</td>         <th>  Pseudo R-bar-squ.: </th>    <td>0.638</td>  \n",
       "</tr>\n",
       "<tr>\n",
       "  <th>AIC:</th>                  <td>2,741.902</td>        <th>  Log-Likelihood:    </th> <td>-1,351.951</td>\n",
       "</tr>\n",
       "<tr>\n",
       "  <th>BIC:</th>                  <td>2,848.319</td>        <th>  LL-Null:           </th> <td>-3,788.902</td>\n",
       "</tr>\n",
       "</table>\n",
       "<table class=\"simpletable\">\n",
       "<tr>\n",
       "                            <td></td>                              <th>coef</th>     <th>std err</th>      <th>z</th>      <th>P>|z|</th>  <th>[0.025</th>    <th>0.975]</th>  \n",
       "</tr>\n",
       "<tr>\n",
       "  <th>ASC Shared Ride: 2</th>                                   <td>   -0.8202</td> <td>    0.262</td> <td>   -3.130</td> <td> 0.002</td> <td>   -1.334</td> <td>   -0.307</td>\n",
       "</tr>\n",
       "<tr>\n",
       "  <th>ASC Shared Ride: 3+</th>                                  <td>    3.8607</td> <td>    0.311</td> <td>   12.413</td> <td> 0.000</td> <td>    3.251</td> <td>    4.470</td>\n",
       "</tr>\n",
       "<tr>\n",
       "  <th>ASC Walk-Transit-Walk</th>                                <td>   -0.9018</td> <td>    0.309</td> <td>   -2.915</td> <td> 0.004</td> <td>   -1.508</td> <td>   -0.296</td>\n",
       "</tr>\n",
       "<tr>\n",
       "  <th>ASC Drive-Transit-Walk</th>                               <td>   -2.6874</td> <td>    0.311</td> <td>   -8.628</td> <td> 0.000</td> <td>   -3.298</td> <td>   -2.077</td>\n",
       "</tr>\n",
       "<tr>\n",
       "  <th>ASC Walk-Transit-Drive</th>                               <td>   -2.9876</td> <td>    0.324</td> <td>   -9.209</td> <td> 0.000</td> <td>   -3.623</td> <td>   -2.352</td>\n",
       "</tr>\n",
       "<tr>\n",
       "  <th>ASC Walk</th>                                             <td>    1.4572</td> <td>    0.279</td> <td>    5.214</td> <td> 0.000</td> <td>    0.909</td> <td>    2.005</td>\n",
       "</tr>\n",
       "<tr>\n",
       "  <th>ASC Bike</th>                                             <td>   -0.9829</td> <td>    0.223</td> <td>   -4.410</td> <td> 0.000</td> <td>   -1.420</td> <td>   -0.546</td>\n",
       "</tr>\n",
       "<tr>\n",
       "  <th>Travel Time, units:min (All Auto Modes)</th>              <td>   -0.0775</td> <td>    0.004</td> <td>  -19.649</td> <td> 0.000</td> <td>   -0.085</td> <td>   -0.070</td>\n",
       "</tr>\n",
       "<tr>\n",
       "  <th>Travel Time, units:min (All Transit Modes)</th>           <td>   -0.0236</td> <td>    0.002</td> <td>   -9.530</td> <td> 0.000</td> <td>   -0.028</td> <td>   -0.019</td>\n",
       "</tr>\n",
       "<tr>\n",
       "  <th>Travel Cost, units:$ (All Transit Modes)</th>             <td>   -0.0812</td> <td>    0.035</td> <td>   -2.311</td> <td> 0.021</td> <td>   -0.150</td> <td>   -0.012</td>\n",
       "</tr>\n",
       "<tr>\n",
       "  <th>Travel Cost per Distance, units:$/mi (Drive Alone)</th>   <td>   -4.7721</td> <td>    0.426</td> <td>  -11.195</td> <td> 0.000</td> <td>   -5.608</td> <td>   -3.937</td>\n",
       "</tr>\n",
       "<tr>\n",
       "  <th>Travel Cost per Distance, units:$/mi (SharedRide-2)</th>  <td>  -21.9899</td> <td>    2.005</td> <td>  -10.965</td> <td> 0.000</td> <td>  -25.921</td> <td>  -18.059</td>\n",
       "</tr>\n",
       "<tr>\n",
       "  <th>Travel Cost per Distance, units:$/mi (SharedRide-3+)</th> <td>  -93.8514</td> <td>    4.994</td> <td>  -18.793</td> <td> 0.000</td> <td> -103.639</td> <td>  -84.063</td>\n",
       "</tr>\n",
       "<tr>\n",
       "  <th>Autos per licensed drivers (All Auto Modes)</th>          <td>    1.3189</td> <td>    0.135</td> <td>    9.802</td> <td> 0.000</td> <td>    1.055</td> <td>    1.583</td>\n",
       "</tr>\n",
       "<tr>\n",
       "  <th>Travel Distance, units:mi (Walk)</th>                     <td>   -1.0258</td> <td>    0.075</td> <td>  -13.661</td> <td> 0.000</td> <td>   -1.173</td> <td>   -0.879</td>\n",
       "</tr>\n",
       "<tr>\n",
       "  <th>Travel Distance, units:mi (Bike)</th>                     <td>   -0.3050</td> <td>    0.033</td> <td>   -9.374</td> <td> 0.000</td> <td>   -0.369</td> <td>   -0.241</td>\n",
       "</tr>\n",
       "<tr>\n",
       "  <th>Cross-Bay Tour (Shared Ride 2 & 3+)</th>                  <td>    1.0634</td> <td>    0.335</td> <td>    3.175</td> <td> 0.001</td> <td>    0.407</td> <td>    1.720</td>\n",
       "</tr>\n",
       "<tr>\n",
       "  <th>Household Size (Shared Ride 2 & 3+)</th>                  <td>    0.0354</td> <td>    0.056</td> <td>    0.630</td> <td> 0.528</td> <td>   -0.075</td> <td>    0.145</td>\n",
       "</tr>\n",
       "<tr>\n",
       "  <th>Number of Kids in Household (Shared Ride 2 & 3+)</th>     <td>    0.8015</td> <td>    0.076</td> <td>   10.513</td> <td> 0.000</td> <td>    0.652</td> <td>    0.951</td>\n",
       "</tr>\n",
       "</table>"
      ],
      "text/plain": [
       "<class 'statsmodels.iolib.summary.Summary'>\n",
       "\"\"\"\n",
       "                     Multinomial Logit Model Regression Results                    \n",
       "===================================================================================\n",
       "Dep. Variable:                  sim_choice   No. Observations:                2,000\n",
       "Model:             Multinomial Logit Model   Df Residuals:                    1,981\n",
       "Method:                                MLE   Df Model:                           19\n",
       "Date:                     Wed, 25 Mar 2020   Pseudo R-squ.:                   0.643\n",
       "Time:                             22:46:45   Pseudo R-bar-squ.:               0.638\n",
       "AIC:                             2,741.902   Log-Likelihood:             -1,351.951\n",
       "BIC:                             2,848.319   LL-Null:                    -3,788.902\n",
       "========================================================================================================================\n",
       "                                                           coef    std err          z      P>|z|      [0.025      0.975]\n",
       "------------------------------------------------------------------------------------------------------------------------\n",
       "ASC Shared Ride: 2                                      -0.8202      0.262     -3.130      0.002      -1.334      -0.307\n",
       "ASC Shared Ride: 3+                                      3.8607      0.311     12.413      0.000       3.251       4.470\n",
       "ASC Walk-Transit-Walk                                   -0.9018      0.309     -2.915      0.004      -1.508      -0.296\n",
       "ASC Drive-Transit-Walk                                  -2.6874      0.311     -8.628      0.000      -3.298      -2.077\n",
       "ASC Walk-Transit-Drive                                  -2.9876      0.324     -9.209      0.000      -3.623      -2.352\n",
       "ASC Walk                                                 1.4572      0.279      5.214      0.000       0.909       2.005\n",
       "ASC Bike                                                -0.9829      0.223     -4.410      0.000      -1.420      -0.546\n",
       "Travel Time, units:min (All Auto Modes)                 -0.0775      0.004    -19.649      0.000      -0.085      -0.070\n",
       "Travel Time, units:min (All Transit Modes)              -0.0236      0.002     -9.530      0.000      -0.028      -0.019\n",
       "Travel Cost, units:$ (All Transit Modes)                -0.0812      0.035     -2.311      0.021      -0.150      -0.012\n",
       "Travel Cost per Distance, units:$/mi (Drive Alone)      -4.7721      0.426    -11.195      0.000      -5.608      -3.937\n",
       "Travel Cost per Distance, units:$/mi (SharedRide-2)    -21.9899      2.005    -10.965      0.000     -25.921     -18.059\n",
       "Travel Cost per Distance, units:$/mi (SharedRide-3+)   -93.8514      4.994    -18.793      0.000    -103.639     -84.063\n",
       "Autos per licensed drivers (All Auto Modes)              1.3189      0.135      9.802      0.000       1.055       1.583\n",
       "Travel Distance, units:mi (Walk)                        -1.0258      0.075    -13.661      0.000      -1.173      -0.879\n",
       "Travel Distance, units:mi (Bike)                        -0.3050      0.033     -9.374      0.000      -0.369      -0.241\n",
       "Cross-Bay Tour (Shared Ride 2 & 3+)                      1.0634      0.335      3.175      0.001       0.407       1.720\n",
       "Household Size (Shared Ride 2 & 3+)                      0.0354      0.056      0.630      0.528      -0.075       0.145\n",
       "Number of Kids in Household (Shared Ride 2 & 3+)         0.8015      0.076     10.513      0.000       0.652       0.951\n",
       "========================================================================================================================\n",
       "\"\"\""
      ]
     },
     "execution_count": 105,
     "metadata": {},
     "output_type": "execute_result"
    }
   ],
   "source": [
    "# Estimate the basic MNL model, using the hessian and newton-conjugate gradient\n",
    "mnl_model_sim = pl.create_choice_model(data=long_sim_data_choice,\n",
    "                                       alt_id_col=\"mode_id\",\n",
    "                                       obs_id_col=\"observation_id\",\n",
    "                                       choice_col=\"sim_choice\",\n",
    "                                       specification=mnl_specification,\n",
    "                                       model_type=\"MNL\",\n",
    "                                       names=mnl_names)\n",
    "\n",
    "num_vars = len(reduce(lambda x, y: x + y, mnl_names.values()))\n",
    "# Note newton-cg used to ensure convergence to a point where gradient\n",
    "# is essentially zero for all dimensions.\n",
    "mnl_model_sim.fit_mle(np.zeros(num_vars),\n",
    "                      method=\"BFGS\")\n",
    "\n",
    "# Look at the estimation results\n",
    "mnl_model_sim.get_statsmodels_summary()"
   ]
  },
  {
   "cell_type": "markdown",
   "metadata": {},
   "source": [
    "# Repeat simulation many times "
   ]
  },
  {
   "cell_type": "code",
   "execution_count": 106,
   "metadata": {},
   "outputs": [
    {
     "name": "stdout",
     "output_type": "stream",
     "text": [
      "SKIPPED normal distribution (taking more than 30 seconds)\n",
      "Fitted alpha distribution with error=0.0007989652291582563)\n",
      "Fitted beta distribution with error=0.00021837510493444555)\n"
     ]
    },
    {
     "name": "stderr",
     "output_type": "stream",
     "text": [
      "/Users/mobouzaghrane/opt/anaconda3/lib/python3.7/site-packages/scipy/stats/_distn_infrastructure.py:2381: RuntimeWarning: invalid value encountered in double_scalars\n",
      "  Lhat = muhat - Shat*mu\n",
      "/Users/mobouzaghrane/opt/anaconda3/lib/python3.7/site-packages/scipy/stats/_continuous_distns.py:515: RuntimeWarning: invalid value encountered in sqrt\n",
      "  sk = 2*(b-a)*np.sqrt(a + b + 1) / (a + b + 2) / np.sqrt(a*b)\n",
      "/Users/mobouzaghrane/opt/anaconda3/lib/python3.7/site-packages/scipy/optimize/minpack.py:162: RuntimeWarning: The iteration is not making good progress, as measured by the \n",
      "  improvement from the last ten iterations.\n",
      "  warnings.warn(msg, RuntimeWarning)\n"
     ]
    },
    {
     "name": "stdout",
     "output_type": "stream",
     "text": [
      "Fitted gamma distribution with error=0.00021215664843294874)\n",
      "Fitted expon distribution with error=0.00042675380208476757)\n",
      "SKIPPED gumbel distribution (taking more than 30 seconds)\n",
      "SKIPPED normal distribution (taking more than 30 seconds)\n",
      "Fitted alpha distribution with error=0.014522128648725777)\n",
      "Fitted beta distribution with error=0.0011963782652540424)\n",
      "Fitted gamma distribution with error=0.0011394543473683448)\n",
      "Fitted expon distribution with error=0.002052652669300775)\n",
      "SKIPPED gumbel distribution (taking more than 30 seconds)\n",
      "SKIPPED normal distribution (taking more than 30 seconds)\n",
      "Fitted alpha distribution with error=0.013034447497270776)\n",
      "Fitted beta distribution with error=0.04104766585766829)\n",
      "Fitted gamma distribution with error=0.03662007898297577)\n",
      "Fitted expon distribution with error=0.07921887555564106)\n",
      "SKIPPED gumbel distribution (taking more than 30 seconds)\n",
      "SKIPPED normal distribution (taking more than 30 seconds)\n",
      "Fitted alpha distribution with error=0.001056930694286857)\n",
      "Fitted beta distribution with error=0.0002880878794523213)\n",
      "Fitted gamma distribution with error=0.00028798219056962133)\n",
      "Fitted expon distribution with error=0.0006139993763181574)\n",
      "SKIPPED gumbel distribution (taking more than 30 seconds)\n",
      "SKIPPED normal distribution (taking more than 30 seconds)\n",
      "Fitted alpha distribution with error=0.014457810916552023)\n",
      "Fitted beta distribution with error=0.0012976882508515305)\n",
      "Fitted gamma distribution with error=0.0012552378475140624)\n",
      "Fitted expon distribution with error=0.0019967778289294194)\n",
      "SKIPPED gumbel distribution (taking more than 30 seconds)\n",
      "SKIPPED normal distribution (taking more than 30 seconds)\n",
      "Fitted alpha distribution with error=0.04504063577126065)\n",
      "Fitted beta distribution with error=0.15781307177556403)\n",
      "Fitted gamma distribution with error=0.15841075884851374)\n",
      "Fitted expon distribution with error=0.25956064777904964)\n",
      "SKIPPED gumbel distribution (taking more than 30 seconds)\n",
      "SKIPPED normal distribution (taking more than 30 seconds)\n",
      "Fitted alpha distribution with error=0.0010612734128178794)\n",
      "Fitted beta distribution with error=0.00023601477811189558)\n",
      "Fitted gamma distribution with error=0.00023611716873763347)\n",
      "Fitted expon distribution with error=0.0006076210852379661)\n",
      "SKIPPED gumbel distribution (taking more than 30 seconds)\n",
      "SKIPPED normal distribution (taking more than 30 seconds)\n",
      "Fitted alpha distribution with error=0.014462601227138085)\n",
      "Fitted beta distribution with error=0.001276124018206852)\n",
      "Fitted gamma distribution with error=0.0012547975031013958)\n",
      "Fitted expon distribution with error=0.0020004181046601524)\n",
      "SKIPPED gumbel distribution (taking more than 30 seconds)\n",
      "SKIPPED normal distribution (taking more than 30 seconds)\n",
      "Fitted alpha distribution with error=0.09325519048258353)\n",
      "Fitted beta distribution with error=0.2719576971221132)\n",
      "Fitted gamma distribution with error=0.2684643698148782)\n",
      "Fitted expon distribution with error=0.4484867698126394)\n",
      "SKIPPED gumbel distribution (taking more than 30 seconds)\n",
      "SKIPPED normal distribution (taking more than 30 seconds)\n",
      "Fitted alpha distribution with error=0.00010782141835446614)\n",
      "Fitted beta distribution with error=0.00011146390130275948)\n",
      "Fitted gamma distribution with error=0.00010902380039568413)\n",
      "Fitted expon distribution with error=0.0006821775284529087)\n",
      "SKIPPED gumbel distribution (taking more than 30 seconds)\n",
      "SKIPPED normal distribution (taking more than 30 seconds)\n",
      "Fitted alpha distribution with error=8.394020014580313)\n",
      "Fitted beta distribution with error=8.724425966292245)"
     ]
    },
    {
     "name": "stderr",
     "output_type": "stream",
     "text": [
      "/Users/mobouzaghrane/opt/anaconda3/lib/python3.7/site-packages/scipy/optimize/minpack.py:162: RuntimeWarning: The iteration is not making good progress, as measured by the \n",
      "  improvement from the last five Jacobian evaluations.\n",
      "  warnings.warn(msg, RuntimeWarning)\n"
     ]
    },
    {
     "name": "stdout",
     "output_type": "stream",
     "text": [
      "\n",
      "Fitted gamma distribution with error=8.724370722136563)\n",
      "Fitted expon distribution with error=9.1690513221318)\n",
      "SKIPPED gumbel distribution (taking more than 30 seconds)\n",
      "SKIPPED normal distribution (taking more than 30 seconds)\n",
      "Fitted alpha distribution with error=6.672556141363111e-05)\n",
      "Fitted beta distribution with error=6.196777802352273e-05)\n",
      "Fitted gamma distribution with error=6.08535018564024e-05)\n",
      "Fitted expon distribution with error=0.0007188034183935458)\n",
      "SKIPPED gumbel distribution (taking more than 30 seconds)\n",
      "SKIPPED normal distribution (taking more than 30 seconds)\n",
      "Fitted alpha distribution with error=8.324919501617495)\n",
      "Fitted beta distribution with error=9.381940852860888)\n",
      "Fitted gamma distribution with error=8.638629330672966)\n",
      "Fitted expon distribution with error=9.271523141699383)\n",
      "SKIPPED gumbel distribution (taking more than 30 seconds)\n",
      "SKIPPED normal distribution (taking more than 30 seconds)\n",
      "Fitted alpha distribution with error=8.054952402098987e-05)\n",
      "Fitted beta distribution with error=8.156641381917802e-05)\n",
      "Fitted gamma distribution with error=8.048390439269993e-05)\n",
      "Fitted expon distribution with error=0.0008900680532886661)\n",
      "SKIPPED gumbel distribution (taking more than 30 seconds)\n",
      "SKIPPED normal distribution (taking more than 30 seconds)\n",
      "Fitted alpha distribution with error=8.770907888528171)\n",
      "Fitted beta distribution with error=9.796625940589463)\n",
      "Fitted gamma distribution with error=9.081385466834893)\n",
      "Fitted expon distribution with error=9.667837356880147)\n",
      "SKIPPED gumbel distribution (taking more than 30 seconds)\n",
      "SKIPPED normal distribution (taking more than 30 seconds)\n",
      "Fitted alpha distribution with error=3.710751949856986e-05)\n",
      "Fitted beta distribution with error=5.925127101230748e-06)\n",
      "Fitted gamma distribution with error=5.804430139130399e-06)\n",
      "Fitted expon distribution with error=8.673334653358734e-06)\n",
      "SKIPPED gumbel distribution (taking more than 30 seconds)\n",
      "SKIPPED normal distribution (taking more than 30 seconds)\n",
      "Fitted alpha distribution with error=0.0008972367532526685)\n",
      "Fitted beta distribution with error=0.002377025832720183)\n",
      "Fitted gamma distribution with error=0.002275034836025737)\n",
      "Fitted expon distribution with error=0.003469333861343498)\n",
      "SKIPPED gumbel distribution (taking more than 30 seconds)\n",
      "SKIPPED normal distribution (taking more than 30 seconds)\n",
      "Fitted alpha distribution with error=0.0005543487080009017)\n",
      "Fitted beta distribution with error=9.899959495894452e-05)\n",
      "Fitted gamma distribution with error=7.59436705777334e-05)\n",
      "Fitted expon distribution with error=0.000167136671750175)\n",
      "SKIPPED gumbel distribution (taking more than 30 seconds)\n",
      "SKIPPED normal distribution (taking more than 30 seconds)\n",
      "Fitted alpha distribution with error=0.0007221359033952726)\n",
      "Fitted beta distribution with error=0.0024566904071273085)\n",
      "Fitted gamma distribution with error=0.0024407152169873807)\n",
      "Fitted expon distribution with error=0.004178416793754377)\n",
      "SKIPPED gumbel distribution (taking more than 30 seconds)\n"
     ]
    }
   ],
   "source": [
    "initial_betas= list(mnl_model.params.values)\n",
    "\n",
    "observation_id_col = 'observation_id'\n",
    "\n",
    "alternative_id_col = 'mode_id'\n",
    "\n",
    "variable_type = {'num_kids': 'categorical',\n",
    "                 'household_size': 'categorical',\n",
    "                 'num_cars': 'categorical',\n",
    "                 'num_licensed_drivers': 'categorical'}\n",
    "\n",
    "individual_specific_variables = ['num_kids', 'household_size',\n",
    "                                 'num_cars', 'num_licensed_drivers']\n",
    "\n",
    "alternative_specific_variables = ['total_travel_time', 'total_travel_distance', 'total_travel_cost']\n",
    "\n",
    "trip_specific_variables = ['cross_bay']\n",
    "\n",
    "alternative_name_dict = {1: 'drive_alone',\n",
    "                         2: 'shared_2',\n",
    "                         3: 'shared_3p',\n",
    "                         4: 'wtw',\n",
    "                         5: 'dtw',\n",
    "                         6: 'wtd',\n",
    "                         7: 'walk',\n",
    "                         8: 'bike'}\n",
    "\n",
    "variable_type = {'num_kids': 'categorical',\n",
    "                 'household_size': 'categorical',\n",
    "                 'num_cars': 'categorical',\n",
    "                 'num_licensed_drivers': 'categorical',\n",
    "                 'cross_bay': 'categorical',\n",
    "                 'total_travel_time': 'continuous',\n",
    "                 'total_travel_distance': 'continuous',\n",
    "                 'total_travel_cost': 'continuous'}\n",
    "\n",
    "distributions = ['normal', 'alpha', 'beta', 'gamma', 'expon', 'gumbel']\n",
    "\n",
    "choice_column = \"sim_choice\"\n",
    "\n",
    "custom_alt_id = \"mode_id\"\n",
    "\n",
    "alt_varying_variables = {u'total_travel_time': dict([(1, 'total_travel_time_drive_alone'),\n",
    "                                                     (2, 'total_travel_time_shared_2'),\n",
    "                                                     (3, 'total_travel_time_shared_3p'),\n",
    "                                                     (4, 'total_travel_time_wtw'),\n",
    "                                                     (5, 'total_travel_time_dtw'),\n",
    "                                                     (6, 'total_travel_time_wtd'),\n",
    "                                                     (7, 'total_travel_time_walk'),\n",
    "                                                     (8, 'total_travel_time_bike')]),\n",
    "                         u'total_travel_cost': dict([(1, 'total_travel_cost_drive_alone'),\n",
    "                                                     (2, 'total_travel_cost_shared_2'),\n",
    "                                                     (3, 'total_travel_cost_shared_3p'),\n",
    "                                                     (4, 'total_travel_cost_wtw'),\n",
    "                                                     (5, 'total_travel_cost_dtw'),\n",
    "                                                     (6, 'total_travel_cost_wtd'),\n",
    "                                                     (7, 'total_travel_cost_walk'),\n",
    "                                                     (8, 'total_travel_cost_bike')]),\n",
    "                         u'total_travel_distance': dict([(1, 'total_travel_distance_drive_alone'),\n",
    "                                                         (2, 'total_travel_distance_shared_2'),\n",
    "                                                         (3, 'total_travel_distance_shared_3p'),\n",
    "                                                         (4, 'total_travel_distance_wtw'),\n",
    "                                                         (5, 'total_travel_distance_dtw'),\n",
    "                                                         (6, 'total_travel_distance_wtd'),\n",
    "                                                         (7, 'total_travel_distance_walk'),\n",
    "                                                         (8, 'total_travel_distance_bike')]),\n",
    "                        }\n",
    "\n",
    "\n",
    "availability_variables = {1: 'drive_alone_AV',\n",
    "                          2: 'shared_2_AV',\n",
    "                          3: 'shared_3p_AV',\n",
    "                          4: 'wtw_AV',\n",
    "                          5: 'dtw_AV',\n",
    "                          6: 'wtd_AV',\n",
    "                          7: 'walk_AV',\n",
    "                          8: 'bike_AV'}\n",
    "\n",
    "bike_data_params = FindLongDataDist(data_long=bike_data_long,\n",
    "                                    alt_id_col=alternative_id_col,\n",
    "                                    obs_id_col=observation_id_col,\n",
    "                                    alt_spec=alternative_specific_variables,\n",
    "                                    alt_name_dic=alternative_name_dict,\n",
    "                                    ind_spec=individual_specific_variables,\n",
    "                                    trip_spec=trip_specific_variables,\n",
    "                                    var_types=variable_type,\n",
    "                                    cont_dists=distributions)"
   ]
  },
  {
   "cell_type": "code",
   "execution_count": null,
   "metadata": {},
   "outputs": [
    {
     "name": "stdout",
     "output_type": "stream",
     "text": [
      "Simulation number 1 is in process...\n",
      "------------------------------------------\n"
     ]
    },
    {
     "name": "stderr",
     "output_type": "stream",
     "text": [
      "/Users/mobouzaghrane/opt/anaconda3/lib/python3.7/site-packages/pylogit/choice_tools.py:703: FutureWarning: arrays to stack must be passed as a \"sequence\" type such as list or tuple. Support for non-sequence iterables such as generators is deprecated as of NumPy 1.16 and will raise an error in the future.\n",
      "  design_matrix = np.hstack((x[:, None] for x in independent_vars))\n"
     ]
    },
    {
     "data": {
      "application/vnd.jupyter.widget-view+json": {
       "model_id": "64a8c719a20b416b8d2b6d4439f3a1ed",
       "version_major": 2,
       "version_minor": 0
      },
      "text/plain": [
       "HBox(children=(IntProgress(value=0, description='Simulating Choices', max=2710, style=ProgressStyle(descriptio…"
      ]
     },
     "metadata": {},
     "output_type": "display_data"
    },
    {
     "name": "stdout",
     "output_type": "stream",
     "text": [
      "\n",
      "Log-likelihood at zero: -5,147.3262\n",
      "Initial Log-likelihood: -5,147.3262\n"
     ]
    },
    {
     "name": "stderr",
     "output_type": "stream",
     "text": [
      "/Users/mobouzaghrane/opt/anaconda3/lib/python3.7/site-packages/scipy/optimize/_minimize.py:505: RuntimeWarning: Method BFGS does not use Hessian information (hess).\n",
      "  RuntimeWarning)\n"
     ]
    },
    {
     "name": "stdout",
     "output_type": "stream",
     "text": [
      "Estimation Time for Point Estimation: 0.37 seconds.\n",
      "Final log-likelihood: -1,743.1685\n",
      "Simulation number 1 is complete!\n",
      "==========================================\n",
      "==========================================\n",
      "Simulation number 2 is in process...\n",
      "------------------------------------------\n"
     ]
    },
    {
     "name": "stderr",
     "output_type": "stream",
     "text": [
      "/Users/mobouzaghrane/opt/anaconda3/lib/python3.7/site-packages/pylogit/choice_tools.py:703: FutureWarning: arrays to stack must be passed as a \"sequence\" type such as list or tuple. Support for non-sequence iterables such as generators is deprecated as of NumPy 1.16 and will raise an error in the future.\n",
      "  design_matrix = np.hstack((x[:, None] for x in independent_vars))\n"
     ]
    },
    {
     "data": {
      "application/vnd.jupyter.widget-view+json": {
       "model_id": "326fc3ec41bb4459a9e552bdd4eaef2c",
       "version_major": 2,
       "version_minor": 0
      },
      "text/plain": [
       "HBox(children=(IntProgress(value=0, description='Simulating Choices', max=2033, style=ProgressStyle(descriptio…"
      ]
     },
     "metadata": {},
     "output_type": "display_data"
    },
    {
     "name": "stdout",
     "output_type": "stream",
     "text": [
      "\n",
      "Log-likelihood at zero: -3,867.9032\n",
      "Initial Log-likelihood: -3,867.9032\n"
     ]
    },
    {
     "name": "stderr",
     "output_type": "stream",
     "text": [
      "/Users/mobouzaghrane/opt/anaconda3/lib/python3.7/site-packages/scipy/optimize/_minimize.py:505: RuntimeWarning: Method BFGS does not use Hessian information (hess).\n",
      "  RuntimeWarning)\n"
     ]
    },
    {
     "name": "stdout",
     "output_type": "stream",
     "text": [
      "Estimation Time for Point Estimation: 0.17 seconds.\n",
      "Final log-likelihood: -1,400.7280\n",
      "Simulation number 2 is complete!\n",
      "==========================================\n",
      "==========================================\n",
      "Simulation number 3 is in process...\n",
      "------------------------------------------\n"
     ]
    },
    {
     "name": "stderr",
     "output_type": "stream",
     "text": [
      "/Users/mobouzaghrane/opt/anaconda3/lib/python3.7/site-packages/pylogit/choice_tools.py:703: FutureWarning: arrays to stack must be passed as a \"sequence\" type such as list or tuple. Support for non-sequence iterables such as generators is deprecated as of NumPy 1.16 and will raise an error in the future.\n",
      "  design_matrix = np.hstack((x[:, None] for x in independent_vars))\n"
     ]
    },
    {
     "data": {
      "application/vnd.jupyter.widget-view+json": {
       "model_id": "8738fff5f34349f49b246e8d9aab2dee",
       "version_major": 2,
       "version_minor": 0
      },
      "text/plain": [
       "HBox(children=(IntProgress(value=0, description='Simulating Choices', max=2772, style=ProgressStyle(descriptio…"
      ]
     },
     "metadata": {},
     "output_type": "display_data"
    },
    {
     "name": "stdout",
     "output_type": "stream",
     "text": [
      "\n",
      "Log-likelihood at zero: -5,256.4634\n",
      "Initial Log-likelihood: -5,256.4634\n"
     ]
    },
    {
     "name": "stderr",
     "output_type": "stream",
     "text": [
      "/Users/mobouzaghrane/opt/anaconda3/lib/python3.7/site-packages/scipy/optimize/_minimize.py:505: RuntimeWarning: Method BFGS does not use Hessian information (hess).\n",
      "  RuntimeWarning)\n"
     ]
    },
    {
     "name": "stdout",
     "output_type": "stream",
     "text": [
      "Estimation Time for Point Estimation: 0.25 seconds.\n",
      "Final log-likelihood: -1,807.4437\n",
      "Simulation number 3 is complete!\n",
      "==========================================\n",
      "==========================================\n",
      "Simulation number 4 is in process...\n",
      "------------------------------------------\n"
     ]
    },
    {
     "name": "stderr",
     "output_type": "stream",
     "text": [
      "/Users/mobouzaghrane/opt/anaconda3/lib/python3.7/site-packages/pylogit/choice_tools.py:703: FutureWarning: arrays to stack must be passed as a \"sequence\" type such as list or tuple. Support for non-sequence iterables such as generators is deprecated as of NumPy 1.16 and will raise an error in the future.\n",
      "  design_matrix = np.hstack((x[:, None] for x in independent_vars))\n"
     ]
    },
    {
     "data": {
      "application/vnd.jupyter.widget-view+json": {
       "model_id": "8393173de0bb46dda8bbf2426a5797f7",
       "version_major": 2,
       "version_minor": 0
      },
      "text/plain": [
       "HBox(children=(IntProgress(value=0, description='Simulating Choices', max=2873, style=ProgressStyle(descriptio…"
      ]
     },
     "metadata": {},
     "output_type": "display_data"
    },
    {
     "name": "stdout",
     "output_type": "stream",
     "text": [
      "\n",
      "Log-likelihood at zero: -5,453.9001\n",
      "Initial Log-likelihood: -5,453.9001\n"
     ]
    },
    {
     "name": "stderr",
     "output_type": "stream",
     "text": [
      "/Users/mobouzaghrane/opt/anaconda3/lib/python3.7/site-packages/scipy/optimize/_minimize.py:505: RuntimeWarning: Method BFGS does not use Hessian information (hess).\n",
      "  RuntimeWarning)\n"
     ]
    },
    {
     "name": "stdout",
     "output_type": "stream",
     "text": [
      "Estimation Time for Point Estimation: 0.23 seconds.\n",
      "Final log-likelihood: -1,838.1734\n",
      "Simulation number 4 is complete!\n",
      "==========================================\n",
      "==========================================\n",
      "Simulation number 5 is in process...\n",
      "------------------------------------------\n"
     ]
    },
    {
     "name": "stderr",
     "output_type": "stream",
     "text": [
      "/Users/mobouzaghrane/opt/anaconda3/lib/python3.7/site-packages/pylogit/choice_tools.py:703: FutureWarning: arrays to stack must be passed as a \"sequence\" type such as list or tuple. Support for non-sequence iterables such as generators is deprecated as of NumPy 1.16 and will raise an error in the future.\n",
      "  design_matrix = np.hstack((x[:, None] for x in independent_vars))\n"
     ]
    },
    {
     "data": {
      "application/vnd.jupyter.widget-view+json": {
       "model_id": "a296c85b557b4b64bc0f53edcf49c55c",
       "version_major": 2,
       "version_minor": 0
      },
      "text/plain": [
       "HBox(children=(IntProgress(value=0, description='Simulating Choices', max=2192, style=ProgressStyle(descriptio…"
      ]
     },
     "metadata": {},
     "output_type": "display_data"
    },
    {
     "name": "stdout",
     "output_type": "stream",
     "text": [
      "\n",
      "Log-likelihood at zero: -4,166.9665\n",
      "Initial Log-likelihood: -4,166.9665\n"
     ]
    },
    {
     "name": "stderr",
     "output_type": "stream",
     "text": [
      "/Users/mobouzaghrane/opt/anaconda3/lib/python3.7/site-packages/scipy/optimize/_minimize.py:505: RuntimeWarning: Method BFGS does not use Hessian information (hess).\n",
      "  RuntimeWarning)\n"
     ]
    },
    {
     "name": "stdout",
     "output_type": "stream",
     "text": [
      "Estimation Time for Point Estimation: 0.23 seconds.\n",
      "Final log-likelihood: -1,384.3633\n",
      "Simulation number 5 is complete!\n",
      "==========================================\n",
      "==========================================\n",
      "Simulation number 6 is in process...\n",
      "------------------------------------------\n"
     ]
    },
    {
     "name": "stderr",
     "output_type": "stream",
     "text": [
      "/Users/mobouzaghrane/opt/anaconda3/lib/python3.7/site-packages/pylogit/choice_tools.py:703: FutureWarning: arrays to stack must be passed as a \"sequence\" type such as list or tuple. Support for non-sequence iterables such as generators is deprecated as of NumPy 1.16 and will raise an error in the future.\n",
      "  design_matrix = np.hstack((x[:, None] for x in independent_vars))\n"
     ]
    },
    {
     "data": {
      "application/vnd.jupyter.widget-view+json": {
       "model_id": "7b7bd62f60bf46e297b12bf2e8aa1187",
       "version_major": 2,
       "version_minor": 0
      },
      "text/plain": [
       "HBox(children=(IntProgress(value=0, description='Simulating Choices', max=2426, style=ProgressStyle(descriptio…"
      ]
     },
     "metadata": {},
     "output_type": "display_data"
    },
    {
     "name": "stdout",
     "output_type": "stream",
     "text": [
      "\n",
      "Log-likelihood at zero: -4,618.9451\n",
      "Initial Log-likelihood: -4,618.9451\n",
      "Estimation Time for Point Estimation: 0.19 seconds.\n",
      "Final log-likelihood: -1,584.9268\n"
     ]
    },
    {
     "name": "stderr",
     "output_type": "stream",
     "text": [
      "/Users/mobouzaghrane/opt/anaconda3/lib/python3.7/site-packages/scipy/optimize/_minimize.py:505: RuntimeWarning: Method BFGS does not use Hessian information (hess).\n",
      "  RuntimeWarning)\n"
     ]
    },
    {
     "name": "stdout",
     "output_type": "stream",
     "text": [
      "Simulation number 6 is complete!\n",
      "==========================================\n",
      "==========================================\n",
      "Simulation number 7 is in process...\n",
      "------------------------------------------\n"
     ]
    },
    {
     "name": "stderr",
     "output_type": "stream",
     "text": [
      "/Users/mobouzaghrane/opt/anaconda3/lib/python3.7/site-packages/pylogit/choice_tools.py:703: FutureWarning: arrays to stack must be passed as a \"sequence\" type such as list or tuple. Support for non-sequence iterables such as generators is deprecated as of NumPy 1.16 and will raise an error in the future.\n",
      "  design_matrix = np.hstack((x[:, None] for x in independent_vars))\n"
     ]
    },
    {
     "data": {
      "application/vnd.jupyter.widget-view+json": {
       "model_id": "bc40fb77d8ca4adb86384ad6dd0aa5f3",
       "version_major": 2,
       "version_minor": 0
      },
      "text/plain": [
       "HBox(children=(IntProgress(value=0, description='Simulating Choices', max=2965, style=ProgressStyle(descriptio…"
      ]
     },
     "metadata": {},
     "output_type": "display_data"
    },
    {
     "name": "stdout",
     "output_type": "stream",
     "text": [
      "\n",
      "Log-likelihood at zero: -5,627.2490\n",
      "Initial Log-likelihood: -5,627.2490\n"
     ]
    },
    {
     "name": "stderr",
     "output_type": "stream",
     "text": [
      "/Users/mobouzaghrane/opt/anaconda3/lib/python3.7/site-packages/scipy/optimize/_minimize.py:505: RuntimeWarning: Method BFGS does not use Hessian information (hess).\n",
      "  RuntimeWarning)\n"
     ]
    },
    {
     "name": "stdout",
     "output_type": "stream",
     "text": [
      "Estimation Time for Point Estimation: 0.28 seconds.\n",
      "Final log-likelihood: -1,940.9550\n",
      "Simulation number 7 is complete!\n",
      "==========================================\n",
      "==========================================\n",
      "Simulation number 8 is in process...\n",
      "------------------------------------------\n"
     ]
    },
    {
     "name": "stderr",
     "output_type": "stream",
     "text": [
      "/Users/mobouzaghrane/opt/anaconda3/lib/python3.7/site-packages/pylogit/choice_tools.py:703: FutureWarning: arrays to stack must be passed as a \"sequence\" type such as list or tuple. Support for non-sequence iterables such as generators is deprecated as of NumPy 1.16 and will raise an error in the future.\n",
      "  design_matrix = np.hstack((x[:, None] for x in independent_vars))\n"
     ]
    },
    {
     "data": {
      "application/vnd.jupyter.widget-view+json": {
       "model_id": "25ee662c797146578e5ae89039723f3c",
       "version_major": 2,
       "version_minor": 0
      },
      "text/plain": [
       "HBox(children=(IntProgress(value=0, description='Simulating Choices', max=2487, style=ProgressStyle(descriptio…"
      ]
     },
     "metadata": {},
     "output_type": "display_data"
    },
    {
     "name": "stdout",
     "output_type": "stream",
     "text": [
      "\n",
      "Log-likelihood at zero: -4,733.1784\n",
      "Initial Log-likelihood: -4,733.1784\n",
      "Estimation Time for Point Estimation: 0.18 seconds.\n",
      "Final log-likelihood: -1,645.3285\n"
     ]
    },
    {
     "name": "stderr",
     "output_type": "stream",
     "text": [
      "/Users/mobouzaghrane/opt/anaconda3/lib/python3.7/site-packages/scipy/optimize/_minimize.py:505: RuntimeWarning: Method BFGS does not use Hessian information (hess).\n",
      "  RuntimeWarning)\n"
     ]
    },
    {
     "name": "stdout",
     "output_type": "stream",
     "text": [
      "Simulation number 8 is complete!\n",
      "==========================================\n",
      "==========================================\n",
      "Simulation number 9 is in process...\n",
      "------------------------------------------\n"
     ]
    },
    {
     "name": "stderr",
     "output_type": "stream",
     "text": [
      "/Users/mobouzaghrane/opt/anaconda3/lib/python3.7/site-packages/pylogit/choice_tools.py:703: FutureWarning: arrays to stack must be passed as a \"sequence\" type such as list or tuple. Support for non-sequence iterables such as generators is deprecated as of NumPy 1.16 and will raise an error in the future.\n",
      "  design_matrix = np.hstack((x[:, None] for x in independent_vars))\n"
     ]
    },
    {
     "data": {
      "application/vnd.jupyter.widget-view+json": {
       "model_id": "6b8fa2533e1c4b3e9479f821b43dd3fc",
       "version_major": 2,
       "version_minor": 0
      },
      "text/plain": [
       "HBox(children=(IntProgress(value=0, description='Simulating Choices', max=2267, style=ProgressStyle(descriptio…"
      ]
     },
     "metadata": {},
     "output_type": "display_data"
    },
    {
     "name": "stdout",
     "output_type": "stream",
     "text": [
      "\n",
      "Log-likelihood at zero: -4,303.1587\n",
      "Initial Log-likelihood: -4,303.1587\n",
      "Estimation Time for Point Estimation: 0.15 seconds.\n",
      "Final log-likelihood: -1,390.5563\n"
     ]
    },
    {
     "name": "stderr",
     "output_type": "stream",
     "text": [
      "/Users/mobouzaghrane/opt/anaconda3/lib/python3.7/site-packages/scipy/optimize/_minimize.py:505: RuntimeWarning: Method BFGS does not use Hessian information (hess).\n",
      "  RuntimeWarning)\n"
     ]
    },
    {
     "name": "stdout",
     "output_type": "stream",
     "text": [
      "Simulation number 9 is complete!\n",
      "==========================================\n",
      "==========================================\n",
      "Simulation number 10 is in process...\n",
      "------------------------------------------\n"
     ]
    },
    {
     "name": "stderr",
     "output_type": "stream",
     "text": [
      "/Users/mobouzaghrane/opt/anaconda3/lib/python3.7/site-packages/pylogit/choice_tools.py:703: FutureWarning: arrays to stack must be passed as a \"sequence\" type such as list or tuple. Support for non-sequence iterables such as generators is deprecated as of NumPy 1.16 and will raise an error in the future.\n",
      "  design_matrix = np.hstack((x[:, None] for x in independent_vars))\n"
     ]
    },
    {
     "data": {
      "application/vnd.jupyter.widget-view+json": {
       "model_id": "10b4baa71ca643b49481bba85b310129",
       "version_major": 2,
       "version_minor": 0
      },
      "text/plain": [
       "HBox(children=(IntProgress(value=0, description='Simulating Choices', max=2087, style=ProgressStyle(descriptio…"
      ]
     },
     "metadata": {},
     "output_type": "display_data"
    },
    {
     "name": "stdout",
     "output_type": "stream",
     "text": [
      "\n",
      "Log-likelihood at zero: -3,959.6865\n",
      "Initial Log-likelihood: -3,959.6865\n"
     ]
    },
    {
     "name": "stderr",
     "output_type": "stream",
     "text": [
      "/Users/mobouzaghrane/opt/anaconda3/lib/python3.7/site-packages/scipy/optimize/_minimize.py:505: RuntimeWarning: Method BFGS does not use Hessian information (hess).\n",
      "  RuntimeWarning)\n"
     ]
    },
    {
     "name": "stdout",
     "output_type": "stream",
     "text": [
      "Estimation Time for Point Estimation: 0.20 seconds.\n",
      "Final log-likelihood: -1,342.3558\n",
      "Simulation number 10 is complete!\n",
      "==========================================\n",
      "==========================================\n",
      "Simulation number 11 is in process...\n",
      "------------------------------------------\n"
     ]
    },
    {
     "name": "stderr",
     "output_type": "stream",
     "text": [
      "/Users/mobouzaghrane/opt/anaconda3/lib/python3.7/site-packages/pylogit/choice_tools.py:703: FutureWarning: arrays to stack must be passed as a \"sequence\" type such as list or tuple. Support for non-sequence iterables such as generators is deprecated as of NumPy 1.16 and will raise an error in the future.\n",
      "  design_matrix = np.hstack((x[:, None] for x in independent_vars))\n"
     ]
    },
    {
     "data": {
      "application/vnd.jupyter.widget-view+json": {
       "model_id": "78b77e9421874be1bb5f40988b4fdf79",
       "version_major": 2,
       "version_minor": 0
      },
      "text/plain": [
       "HBox(children=(IntProgress(value=0, description='Simulating Choices', max=2918, style=ProgressStyle(descriptio…"
      ]
     },
     "metadata": {},
     "output_type": "display_data"
    },
    {
     "name": "stdout",
     "output_type": "stream",
     "text": [
      "\n",
      "Log-likelihood at zero: -5,534.8993\n",
      "Initial Log-likelihood: -5,534.8993\n"
     ]
    },
    {
     "name": "stderr",
     "output_type": "stream",
     "text": [
      "/Users/mobouzaghrane/opt/anaconda3/lib/python3.7/site-packages/scipy/optimize/_minimize.py:505: RuntimeWarning: Method BFGS does not use Hessian information (hess).\n",
      "  RuntimeWarning)\n"
     ]
    },
    {
     "name": "stdout",
     "output_type": "stream",
     "text": [
      "Estimation Time for Point Estimation: 0.46 seconds.\n",
      "Final log-likelihood: -1,906.8363\n",
      "Simulation number 11 is complete!\n",
      "==========================================\n",
      "==========================================\n",
      "Simulation number 12 is in process...\n",
      "------------------------------------------\n"
     ]
    },
    {
     "name": "stderr",
     "output_type": "stream",
     "text": [
      "/Users/mobouzaghrane/opt/anaconda3/lib/python3.7/site-packages/pylogit/choice_tools.py:703: FutureWarning: arrays to stack must be passed as a \"sequence\" type such as list or tuple. Support for non-sequence iterables such as generators is deprecated as of NumPy 1.16 and will raise an error in the future.\n",
      "  design_matrix = np.hstack((x[:, None] for x in independent_vars))\n"
     ]
    },
    {
     "data": {
      "application/vnd.jupyter.widget-view+json": {
       "model_id": "2b1ceac3a0cc4d5ea4809aee8115b076",
       "version_major": 2,
       "version_minor": 0
      },
      "text/plain": [
       "HBox(children=(IntProgress(value=0, description='Simulating Choices', max=2525, style=ProgressStyle(descriptio…"
      ]
     },
     "metadata": {},
     "output_type": "display_data"
    },
    {
     "name": "stdout",
     "output_type": "stream",
     "text": [
      "\n",
      "Log-likelihood at zero: -4,791.7362\n",
      "Initial Log-likelihood: -4,791.7362\n"
     ]
    },
    {
     "name": "stderr",
     "output_type": "stream",
     "text": [
      "/Users/mobouzaghrane/opt/anaconda3/lib/python3.7/site-packages/scipy/optimize/_minimize.py:505: RuntimeWarning: Method BFGS does not use Hessian information (hess).\n",
      "  RuntimeWarning)\n"
     ]
    },
    {
     "name": "stdout",
     "output_type": "stream",
     "text": [
      "Estimation Time for Point Estimation: 0.21 seconds.\n",
      "Final log-likelihood: -1,670.8533\n",
      "Simulation number 12 is complete!\n",
      "==========================================\n",
      "==========================================\n",
      "Simulation number 13 is in process...\n",
      "------------------------------------------\n"
     ]
    },
    {
     "name": "stderr",
     "output_type": "stream",
     "text": [
      "/Users/mobouzaghrane/opt/anaconda3/lib/python3.7/site-packages/pylogit/choice_tools.py:703: FutureWarning: arrays to stack must be passed as a \"sequence\" type such as list or tuple. Support for non-sequence iterables such as generators is deprecated as of NumPy 1.16 and will raise an error in the future.\n",
      "  design_matrix = np.hstack((x[:, None] for x in independent_vars))\n"
     ]
    },
    {
     "data": {
      "application/vnd.jupyter.widget-view+json": {
       "model_id": "a94ea34eb9cf4a39920971d51e330efc",
       "version_major": 2,
       "version_minor": 0
      },
      "text/plain": [
       "HBox(children=(IntProgress(value=0, description='Simulating Choices', max=2973, style=ProgressStyle(descriptio…"
      ]
     },
     "metadata": {},
     "output_type": "display_data"
    },
    {
     "name": "stdout",
     "output_type": "stream",
     "text": [
      "\n",
      "Log-likelihood at zero: -5,642.7037\n",
      "Initial Log-likelihood: -5,642.7037\n"
     ]
    },
    {
     "name": "stderr",
     "output_type": "stream",
     "text": [
      "/Users/mobouzaghrane/opt/anaconda3/lib/python3.7/site-packages/scipy/optimize/_minimize.py:505: RuntimeWarning: Method BFGS does not use Hessian information (hess).\n",
      "  RuntimeWarning)\n"
     ]
    },
    {
     "name": "stdout",
     "output_type": "stream",
     "text": [
      "Estimation Time for Point Estimation: 0.26 seconds.\n",
      "Final log-likelihood: -1,925.8018\n",
      "Simulation number 13 is complete!\n",
      "==========================================\n",
      "==========================================\n",
      "Simulation number 14 is in process...\n",
      "------------------------------------------\n"
     ]
    },
    {
     "name": "stderr",
     "output_type": "stream",
     "text": [
      "/Users/mobouzaghrane/opt/anaconda3/lib/python3.7/site-packages/pylogit/choice_tools.py:703: FutureWarning: arrays to stack must be passed as a \"sequence\" type such as list or tuple. Support for non-sequence iterables such as generators is deprecated as of NumPy 1.16 and will raise an error in the future.\n",
      "  design_matrix = np.hstack((x[:, None] for x in independent_vars))\n"
     ]
    },
    {
     "data": {
      "application/vnd.jupyter.widget-view+json": {
       "model_id": "8a138de9f659466d8e3576e8f3f8f716",
       "version_major": 2,
       "version_minor": 0
      },
      "text/plain": [
       "HBox(children=(IntProgress(value=0, description='Simulating Choices', max=2047, style=ProgressStyle(descriptio…"
      ]
     },
     "metadata": {},
     "output_type": "display_data"
    },
    {
     "name": "stdout",
     "output_type": "stream",
     "text": [
      "\n",
      "Log-likelihood at zero: -3,899.6089\n",
      "Initial Log-likelihood: -3,899.6089\n",
      "Estimation Time for Point Estimation: 0.18 seconds.\n",
      "Final log-likelihood: -1,341.1531\n"
     ]
    },
    {
     "name": "stderr",
     "output_type": "stream",
     "text": [
      "/Users/mobouzaghrane/opt/anaconda3/lib/python3.7/site-packages/scipy/optimize/_minimize.py:505: RuntimeWarning: Method BFGS does not use Hessian information (hess).\n",
      "  RuntimeWarning)\n"
     ]
    },
    {
     "name": "stdout",
     "output_type": "stream",
     "text": [
      "Simulation number 14 is complete!\n",
      "==========================================\n",
      "==========================================\n",
      "Simulation number 15 is in process...\n",
      "------------------------------------------\n"
     ]
    },
    {
     "name": "stderr",
     "output_type": "stream",
     "text": [
      "/Users/mobouzaghrane/opt/anaconda3/lib/python3.7/site-packages/pylogit/choice_tools.py:703: FutureWarning: arrays to stack must be passed as a \"sequence\" type such as list or tuple. Support for non-sequence iterables such as generators is deprecated as of NumPy 1.16 and will raise an error in the future.\n",
      "  design_matrix = np.hstack((x[:, None] for x in independent_vars))\n"
     ]
    },
    {
     "data": {
      "application/vnd.jupyter.widget-view+json": {
       "model_id": "2059d93579bd4c859a877b10e084a1c0",
       "version_major": 2,
       "version_minor": 0
      },
      "text/plain": [
       "HBox(children=(IntProgress(value=0, description='Simulating Choices', max=2498, style=ProgressStyle(descriptio…"
      ]
     },
     "metadata": {},
     "output_type": "display_data"
    },
    {
     "name": "stdout",
     "output_type": "stream",
     "text": [
      "\n",
      "Log-likelihood at zero: -4,752.6297\n",
      "Initial Log-likelihood: -4,752.6297\n"
     ]
    },
    {
     "name": "stderr",
     "output_type": "stream",
     "text": [
      "/Users/mobouzaghrane/opt/anaconda3/lib/python3.7/site-packages/scipy/optimize/_minimize.py:505: RuntimeWarning: Method BFGS does not use Hessian information (hess).\n",
      "  RuntimeWarning)\n"
     ]
    },
    {
     "name": "stdout",
     "output_type": "stream",
     "text": [
      "Estimation Time for Point Estimation: 0.30 seconds.\n",
      "Final log-likelihood: -1,772.9247\n",
      "Simulation number 15 is complete!\n",
      "==========================================\n",
      "==========================================\n",
      "Simulation number 16 is in process...\n",
      "------------------------------------------\n"
     ]
    },
    {
     "name": "stderr",
     "output_type": "stream",
     "text": [
      "/Users/mobouzaghrane/opt/anaconda3/lib/python3.7/site-packages/pylogit/choice_tools.py:703: FutureWarning: arrays to stack must be passed as a \"sequence\" type such as list or tuple. Support for non-sequence iterables such as generators is deprecated as of NumPy 1.16 and will raise an error in the future.\n",
      "  design_matrix = np.hstack((x[:, None] for x in independent_vars))\n"
     ]
    },
    {
     "data": {
      "application/vnd.jupyter.widget-view+json": {
       "model_id": "14baeb3806034d27a37b28c0818f9154",
       "version_major": 2,
       "version_minor": 0
      },
      "text/plain": [
       "HBox(children=(IntProgress(value=0, description='Simulating Choices', max=2955, style=ProgressStyle(descriptio…"
      ]
     },
     "metadata": {},
     "output_type": "display_data"
    },
    {
     "name": "stdout",
     "output_type": "stream",
     "text": [
      "\n",
      "Log-likelihood at zero: -5,591.0413\n",
      "Initial Log-likelihood: -5,591.0413\n"
     ]
    },
    {
     "name": "stderr",
     "output_type": "stream",
     "text": [
      "/Users/mobouzaghrane/opt/anaconda3/lib/python3.7/site-packages/scipy/optimize/_minimize.py:505: RuntimeWarning: Method BFGS does not use Hessian information (hess).\n",
      "  RuntimeWarning)\n"
     ]
    },
    {
     "name": "stdout",
     "output_type": "stream",
     "text": [
      "Estimation Time for Point Estimation: 0.27 seconds.\n",
      "Final log-likelihood: -2,006.3148\n",
      "Simulation number 16 is complete!\n",
      "==========================================\n",
      "==========================================\n",
      "Simulation number 17 is in process...\n",
      "------------------------------------------\n"
     ]
    },
    {
     "name": "stderr",
     "output_type": "stream",
     "text": [
      "/Users/mobouzaghrane/opt/anaconda3/lib/python3.7/site-packages/pylogit/choice_tools.py:703: FutureWarning: arrays to stack must be passed as a \"sequence\" type such as list or tuple. Support for non-sequence iterables such as generators is deprecated as of NumPy 1.16 and will raise an error in the future.\n",
      "  design_matrix = np.hstack((x[:, None] for x in independent_vars))\n"
     ]
    },
    {
     "data": {
      "application/vnd.jupyter.widget-view+json": {
       "model_id": "3ff5b73b70ee4e24ae4a66a233e8986b",
       "version_major": 2,
       "version_minor": 0
      },
      "text/plain": [
       "HBox(children=(IntProgress(value=0, description='Simulating Choices', max=2839, style=ProgressStyle(descriptio…"
      ]
     },
     "metadata": {},
     "output_type": "display_data"
    },
    {
     "name": "stdout",
     "output_type": "stream",
     "text": [
      "\n",
      "Log-likelihood at zero: -5,375.5629\n",
      "Initial Log-likelihood: -5,375.5629\n"
     ]
    },
    {
     "name": "stderr",
     "output_type": "stream",
     "text": [
      "/Users/mobouzaghrane/opt/anaconda3/lib/python3.7/site-packages/scipy/optimize/_minimize.py:505: RuntimeWarning: Method BFGS does not use Hessian information (hess).\n",
      "  RuntimeWarning)\n"
     ]
    },
    {
     "name": "stdout",
     "output_type": "stream",
     "text": [
      "Estimation Time for Point Estimation: 0.32 seconds.\n",
      "Final log-likelihood: -1,857.9856\n",
      "Simulation number 17 is complete!\n",
      "==========================================\n",
      "==========================================\n",
      "Simulation number 18 is in process...\n",
      "------------------------------------------\n"
     ]
    },
    {
     "name": "stderr",
     "output_type": "stream",
     "text": [
      "/Users/mobouzaghrane/opt/anaconda3/lib/python3.7/site-packages/pylogit/choice_tools.py:703: FutureWarning: arrays to stack must be passed as a \"sequence\" type such as list or tuple. Support for non-sequence iterables such as generators is deprecated as of NumPy 1.16 and will raise an error in the future.\n",
      "  design_matrix = np.hstack((x[:, None] for x in independent_vars))\n"
     ]
    },
    {
     "data": {
      "application/vnd.jupyter.widget-view+json": {
       "model_id": "8ea0d57a5d9a40fabf90c1cde73cb5e0",
       "version_major": 2,
       "version_minor": 0
      },
      "text/plain": [
       "HBox(children=(IntProgress(value=0, description='Simulating Choices', max=2426, style=ProgressStyle(descriptio…"
      ]
     },
     "metadata": {},
     "output_type": "display_data"
    },
    {
     "name": "stdout",
     "output_type": "stream",
     "text": [
      "\n",
      "Log-likelihood at zero: -4,586.1981\n",
      "Initial Log-likelihood: -4,586.1981\n"
     ]
    },
    {
     "name": "stderr",
     "output_type": "stream",
     "text": [
      "/Users/mobouzaghrane/opt/anaconda3/lib/python3.7/site-packages/scipy/optimize/_minimize.py:505: RuntimeWarning: Method BFGS does not use Hessian information (hess).\n",
      "  RuntimeWarning)\n"
     ]
    },
    {
     "name": "stdout",
     "output_type": "stream",
     "text": [
      "Estimation Time for Point Estimation: 0.23 seconds.\n",
      "Final log-likelihood: -1,532.3530\n",
      "Simulation number 18 is complete!\n",
      "==========================================\n",
      "==========================================\n",
      "Simulation number 19 is in process...\n",
      "------------------------------------------\n"
     ]
    },
    {
     "name": "stderr",
     "output_type": "stream",
     "text": [
      "/Users/mobouzaghrane/opt/anaconda3/lib/python3.7/site-packages/pylogit/choice_tools.py:703: FutureWarning: arrays to stack must be passed as a \"sequence\" type such as list or tuple. Support for non-sequence iterables such as generators is deprecated as of NumPy 1.16 and will raise an error in the future.\n",
      "  design_matrix = np.hstack((x[:, None] for x in independent_vars))\n"
     ]
    },
    {
     "data": {
      "application/vnd.jupyter.widget-view+json": {
       "model_id": "9d62999ea32447adbb3265a3b9d54866",
       "version_major": 2,
       "version_minor": 0
      },
      "text/plain": [
       "HBox(children=(IntProgress(value=0, description='Simulating Choices', max=2791, style=ProgressStyle(descriptio…"
      ]
     },
     "metadata": {},
     "output_type": "display_data"
    },
    {
     "name": "stdout",
     "output_type": "stream",
     "text": [
      "\n",
      "Log-likelihood at zero: -5,312.5864\n",
      "Initial Log-likelihood: -5,312.5864\n"
     ]
    },
    {
     "name": "stderr",
     "output_type": "stream",
     "text": [
      "/Users/mobouzaghrane/opt/anaconda3/lib/python3.7/site-packages/scipy/optimize/_minimize.py:505: RuntimeWarning: Method BFGS does not use Hessian information (hess).\n",
      "  RuntimeWarning)\n"
     ]
    },
    {
     "name": "stdout",
     "output_type": "stream",
     "text": [
      "Estimation Time for Point Estimation: 0.28 seconds.\n",
      "Final log-likelihood: -1,845.9512\n",
      "Simulation number 19 is complete!\n",
      "==========================================\n",
      "==========================================\n",
      "Simulation number 20 is in process...\n",
      "------------------------------------------\n"
     ]
    },
    {
     "name": "stderr",
     "output_type": "stream",
     "text": [
      "/Users/mobouzaghrane/opt/anaconda3/lib/python3.7/site-packages/pylogit/choice_tools.py:703: FutureWarning: arrays to stack must be passed as a \"sequence\" type such as list or tuple. Support for non-sequence iterables such as generators is deprecated as of NumPy 1.16 and will raise an error in the future.\n",
      "  design_matrix = np.hstack((x[:, None] for x in independent_vars))\n"
     ]
    },
    {
     "data": {
      "application/vnd.jupyter.widget-view+json": {
       "model_id": "7f0234bde81846febdc04c113fd6736a",
       "version_major": 2,
       "version_minor": 0
      },
      "text/plain": [
       "HBox(children=(IntProgress(value=0, description='Simulating Choices', max=2297, style=ProgressStyle(descriptio…"
      ]
     },
     "metadata": {},
     "output_type": "display_data"
    },
    {
     "name": "stdout",
     "output_type": "stream",
     "text": [
      "\n",
      "Log-likelihood at zero: -4,349.0753\n",
      "Initial Log-likelihood: -4,349.0753\n"
     ]
    },
    {
     "name": "stderr",
     "output_type": "stream",
     "text": [
      "/Users/mobouzaghrane/opt/anaconda3/lib/python3.7/site-packages/scipy/optimize/_minimize.py:505: RuntimeWarning: Method BFGS does not use Hessian information (hess).\n",
      "  RuntimeWarning)\n"
     ]
    },
    {
     "name": "stdout",
     "output_type": "stream",
     "text": [
      "Estimation Time for Point Estimation: 0.22 seconds.\n",
      "Final log-likelihood: -1,503.5592\n",
      "Simulation number 20 is complete!\n",
      "==========================================\n",
      "==========================================\n",
      "Simulation number 21 is in process...\n",
      "------------------------------------------\n"
     ]
    },
    {
     "name": "stderr",
     "output_type": "stream",
     "text": [
      "/Users/mobouzaghrane/opt/anaconda3/lib/python3.7/site-packages/pylogit/choice_tools.py:703: FutureWarning: arrays to stack must be passed as a \"sequence\" type such as list or tuple. Support for non-sequence iterables such as generators is deprecated as of NumPy 1.16 and will raise an error in the future.\n",
      "  design_matrix = np.hstack((x[:, None] for x in independent_vars))\n"
     ]
    },
    {
     "data": {
      "application/vnd.jupyter.widget-view+json": {
       "model_id": "3db0e38f4afa4bea82a7425c61b34231",
       "version_major": 2,
       "version_minor": 0
      },
      "text/plain": [
       "HBox(children=(IntProgress(value=0, description='Simulating Choices', max=2009, style=ProgressStyle(descriptio…"
      ]
     },
     "metadata": {},
     "output_type": "display_data"
    },
    {
     "name": "stdout",
     "output_type": "stream",
     "text": [
      "\n",
      "Log-likelihood at zero: -3,820.6627\n",
      "Initial Log-likelihood: -3,820.6627\n"
     ]
    },
    {
     "name": "stderr",
     "output_type": "stream",
     "text": [
      "/Users/mobouzaghrane/opt/anaconda3/lib/python3.7/site-packages/scipy/optimize/_minimize.py:505: RuntimeWarning: Method BFGS does not use Hessian information (hess).\n",
      "  RuntimeWarning)\n"
     ]
    },
    {
     "name": "stdout",
     "output_type": "stream",
     "text": [
      "Estimation Time for Point Estimation: 0.29 seconds.\n",
      "Final log-likelihood: -1,341.8840\n",
      "Simulation number 21 is complete!\n",
      "==========================================\n",
      "==========================================\n",
      "Simulation number 22 is in process...\n",
      "------------------------------------------\n"
     ]
    },
    {
     "name": "stderr",
     "output_type": "stream",
     "text": [
      "/Users/mobouzaghrane/opt/anaconda3/lib/python3.7/site-packages/pylogit/choice_tools.py:703: FutureWarning: arrays to stack must be passed as a \"sequence\" type such as list or tuple. Support for non-sequence iterables such as generators is deprecated as of NumPy 1.16 and will raise an error in the future.\n",
      "  design_matrix = np.hstack((x[:, None] for x in independent_vars))\n"
     ]
    },
    {
     "data": {
      "application/vnd.jupyter.widget-view+json": {
       "model_id": "de3e7f70101e45d7a1ddbd4e019a390c",
       "version_major": 2,
       "version_minor": 0
      },
      "text/plain": [
       "HBox(children=(IntProgress(value=0, description='Simulating Choices', max=2437, style=ProgressStyle(descriptio…"
      ]
     },
     "metadata": {},
     "output_type": "display_data"
    },
    {
     "name": "stdout",
     "output_type": "stream",
     "text": [
      "\n",
      "Log-likelihood at zero: -4,617.2144\n",
      "Initial Log-likelihood: -4,617.2144\n"
     ]
    },
    {
     "name": "stderr",
     "output_type": "stream",
     "text": [
      "/Users/mobouzaghrane/opt/anaconda3/lib/python3.7/site-packages/scipy/optimize/_minimize.py:505: RuntimeWarning: Method BFGS does not use Hessian information (hess).\n",
      "  RuntimeWarning)\n"
     ]
    },
    {
     "name": "stdout",
     "output_type": "stream",
     "text": [
      "Estimation Time for Point Estimation: 0.34 seconds.\n",
      "Final log-likelihood: -1,590.8420\n",
      "Simulation number 22 is complete!\n",
      "==========================================\n",
      "==========================================\n",
      "Simulation number 23 is in process...\n",
      "------------------------------------------\n"
     ]
    },
    {
     "name": "stderr",
     "output_type": "stream",
     "text": [
      "/Users/mobouzaghrane/opt/anaconda3/lib/python3.7/site-packages/pylogit/choice_tools.py:703: FutureWarning: arrays to stack must be passed as a \"sequence\" type such as list or tuple. Support for non-sequence iterables such as generators is deprecated as of NumPy 1.16 and will raise an error in the future.\n",
      "  design_matrix = np.hstack((x[:, None] for x in independent_vars))\n"
     ]
    },
    {
     "data": {
      "application/vnd.jupyter.widget-view+json": {
       "model_id": "6285815df9e34f578132ce8ca5192eae",
       "version_major": 2,
       "version_minor": 0
      },
      "text/plain": [
       "HBox(children=(IntProgress(value=0, description='Simulating Choices', max=2382, style=ProgressStyle(descriptio…"
      ]
     },
     "metadata": {},
     "output_type": "display_data"
    },
    {
     "name": "stdout",
     "output_type": "stream",
     "text": [
      "\n",
      "Log-likelihood at zero: -4,523.8316\n",
      "Initial Log-likelihood: -4,523.8316\n"
     ]
    },
    {
     "name": "stderr",
     "output_type": "stream",
     "text": [
      "/Users/mobouzaghrane/opt/anaconda3/lib/python3.7/site-packages/scipy/optimize/_minimize.py:505: RuntimeWarning: Method BFGS does not use Hessian information (hess).\n",
      "  RuntimeWarning)\n"
     ]
    },
    {
     "name": "stdout",
     "output_type": "stream",
     "text": [
      "Estimation Time for Point Estimation: 0.27 seconds.\n",
      "Final log-likelihood: -1,539.0010\n",
      "Simulation number 23 is complete!\n",
      "==========================================\n",
      "==========================================\n",
      "Simulation number 24 is in process...\n",
      "------------------------------------------\n"
     ]
    },
    {
     "name": "stderr",
     "output_type": "stream",
     "text": [
      "/Users/mobouzaghrane/opt/anaconda3/lib/python3.7/site-packages/pylogit/choice_tools.py:703: FutureWarning: arrays to stack must be passed as a \"sequence\" type such as list or tuple. Support for non-sequence iterables such as generators is deprecated as of NumPy 1.16 and will raise an error in the future.\n",
      "  design_matrix = np.hstack((x[:, None] for x in independent_vars))\n"
     ]
    },
    {
     "data": {
      "application/vnd.jupyter.widget-view+json": {
       "model_id": "5b8fa049ad0a41c594d98be7c09de78f",
       "version_major": 2,
       "version_minor": 0
      },
      "text/plain": [
       "HBox(children=(IntProgress(value=0, description='Simulating Choices', max=2658, style=ProgressStyle(descriptio…"
      ]
     },
     "metadata": {},
     "output_type": "display_data"
    },
    {
     "name": "stdout",
     "output_type": "stream",
     "text": [
      "\n",
      "Log-likelihood at zero: -5,044.0014\n",
      "Initial Log-likelihood: -5,044.0014\n"
     ]
    },
    {
     "name": "stderr",
     "output_type": "stream",
     "text": [
      "/Users/mobouzaghrane/opt/anaconda3/lib/python3.7/site-packages/scipy/optimize/_minimize.py:505: RuntimeWarning: Method BFGS does not use Hessian information (hess).\n",
      "  RuntimeWarning)\n"
     ]
    },
    {
     "name": "stdout",
     "output_type": "stream",
     "text": [
      "Estimation Time for Point Estimation: 0.25 seconds.\n",
      "Final log-likelihood: -1,754.3460\n",
      "Simulation number 24 is complete!\n",
      "==========================================\n",
      "==========================================\n",
      "Simulation number 25 is in process...\n",
      "------------------------------------------\n"
     ]
    },
    {
     "name": "stderr",
     "output_type": "stream",
     "text": [
      "/Users/mobouzaghrane/opt/anaconda3/lib/python3.7/site-packages/pylogit/choice_tools.py:703: FutureWarning: arrays to stack must be passed as a \"sequence\" type such as list or tuple. Support for non-sequence iterables such as generators is deprecated as of NumPy 1.16 and will raise an error in the future.\n",
      "  design_matrix = np.hstack((x[:, None] for x in independent_vars))\n"
     ]
    },
    {
     "data": {
      "application/vnd.jupyter.widget-view+json": {
       "model_id": "bfc24a50a4684790ae5f49ee94b36d35",
       "version_major": 2,
       "version_minor": 0
      },
      "text/plain": [
       "HBox(children=(IntProgress(value=0, description='Simulating Choices', max=2505, style=ProgressStyle(descriptio…"
      ]
     },
     "metadata": {},
     "output_type": "display_data"
    },
    {
     "name": "stdout",
     "output_type": "stream",
     "text": [
      "\n",
      "Log-likelihood at zero: -4,751.6658\n",
      "Initial Log-likelihood: -4,751.6658\n"
     ]
    },
    {
     "name": "stderr",
     "output_type": "stream",
     "text": [
      "/Users/mobouzaghrane/opt/anaconda3/lib/python3.7/site-packages/scipy/optimize/_minimize.py:505: RuntimeWarning: Method BFGS does not use Hessian information (hess).\n",
      "  RuntimeWarning)\n"
     ]
    },
    {
     "name": "stdout",
     "output_type": "stream",
     "text": [
      "Estimation Time for Point Estimation: 0.29 seconds.\n",
      "Final log-likelihood: -1,763.4062\n",
      "Simulation number 25 is complete!\n",
      "==========================================\n",
      "==========================================\n",
      "Simulation number 26 is in process...\n",
      "------------------------------------------\n"
     ]
    },
    {
     "name": "stderr",
     "output_type": "stream",
     "text": [
      "/Users/mobouzaghrane/opt/anaconda3/lib/python3.7/site-packages/pylogit/choice_tools.py:703: FutureWarning: arrays to stack must be passed as a \"sequence\" type such as list or tuple. Support for non-sequence iterables such as generators is deprecated as of NumPy 1.16 and will raise an error in the future.\n",
      "  design_matrix = np.hstack((x[:, None] for x in independent_vars))\n"
     ]
    },
    {
     "data": {
      "application/vnd.jupyter.widget-view+json": {
       "model_id": "84ce68fe36034c809daa401d6acfc765",
       "version_major": 2,
       "version_minor": 0
      },
      "text/plain": [
       "HBox(children=(IntProgress(value=0, description='Simulating Choices', max=2511, style=ProgressStyle(descriptio…"
      ]
     },
     "metadata": {},
     "output_type": "display_data"
    },
    {
     "name": "stdout",
     "output_type": "stream",
     "text": [
      "\n",
      "Log-likelihood at zero: -4,796.6535\n",
      "Initial Log-likelihood: -4,796.6535\n"
     ]
    },
    {
     "name": "stderr",
     "output_type": "stream",
     "text": [
      "/Users/mobouzaghrane/opt/anaconda3/lib/python3.7/site-packages/scipy/optimize/_minimize.py:505: RuntimeWarning: Method BFGS does not use Hessian information (hess).\n",
      "  RuntimeWarning)\n"
     ]
    },
    {
     "name": "stdout",
     "output_type": "stream",
     "text": [
      "Estimation Time for Point Estimation: 0.24 seconds.\n",
      "Final log-likelihood: -1,727.8543\n",
      "Simulation number 26 is complete!\n",
      "==========================================\n",
      "==========================================\n",
      "Simulation number 27 is in process...\n",
      "------------------------------------------\n"
     ]
    },
    {
     "name": "stderr",
     "output_type": "stream",
     "text": [
      "/Users/mobouzaghrane/opt/anaconda3/lib/python3.7/site-packages/pylogit/choice_tools.py:703: FutureWarning: arrays to stack must be passed as a \"sequence\" type such as list or tuple. Support for non-sequence iterables such as generators is deprecated as of NumPy 1.16 and will raise an error in the future.\n",
      "  design_matrix = np.hstack((x[:, None] for x in independent_vars))\n"
     ]
    },
    {
     "data": {
      "application/vnd.jupyter.widget-view+json": {
       "model_id": "8dfe7ed1c04246b98355f5578b3aeedf",
       "version_major": 2,
       "version_minor": 0
      },
      "text/plain": [
       "HBox(children=(IntProgress(value=0, description='Simulating Choices', max=2564, style=ProgressStyle(descriptio…"
      ]
     },
     "metadata": {},
     "output_type": "display_data"
    },
    {
     "name": "stdout",
     "output_type": "stream",
     "text": [
      "\n",
      "Log-likelihood at zero: -4,873.4405\n",
      "Initial Log-likelihood: -4,873.4405\n"
     ]
    },
    {
     "name": "stderr",
     "output_type": "stream",
     "text": [
      "/Users/mobouzaghrane/opt/anaconda3/lib/python3.7/site-packages/scipy/optimize/_minimize.py:505: RuntimeWarning: Method BFGS does not use Hessian information (hess).\n",
      "  RuntimeWarning)\n"
     ]
    },
    {
     "name": "stdout",
     "output_type": "stream",
     "text": [
      "Estimation Time for Point Estimation: 0.21 seconds.\n",
      "Final log-likelihood: -1,680.8399\n",
      "Simulation number 27 is complete!\n",
      "==========================================\n",
      "==========================================\n",
      "Simulation number 28 is in process...\n",
      "------------------------------------------\n"
     ]
    },
    {
     "name": "stderr",
     "output_type": "stream",
     "text": [
      "/Users/mobouzaghrane/opt/anaconda3/lib/python3.7/site-packages/pylogit/choice_tools.py:703: FutureWarning: arrays to stack must be passed as a \"sequence\" type such as list or tuple. Support for non-sequence iterables such as generators is deprecated as of NumPy 1.16 and will raise an error in the future.\n",
      "  design_matrix = np.hstack((x[:, None] for x in independent_vars))\n"
     ]
    },
    {
     "data": {
      "application/vnd.jupyter.widget-view+json": {
       "model_id": "b9860ce6ae1140928b71693a4ddb9f0f",
       "version_major": 2,
       "version_minor": 0
      },
      "text/plain": [
       "HBox(children=(IntProgress(value=0, description='Simulating Choices', max=2345, style=ProgressStyle(descriptio…"
      ]
     },
     "metadata": {},
     "output_type": "display_data"
    },
    {
     "name": "stdout",
     "output_type": "stream",
     "text": [
      "\n",
      "Log-likelihood at zero: -4,445.0021\n",
      "Initial Log-likelihood: -4,445.0021\n"
     ]
    },
    {
     "name": "stderr",
     "output_type": "stream",
     "text": [
      "/Users/mobouzaghrane/opt/anaconda3/lib/python3.7/site-packages/scipy/optimize/_minimize.py:505: RuntimeWarning: Method BFGS does not use Hessian information (hess).\n",
      "  RuntimeWarning)\n"
     ]
    },
    {
     "name": "stdout",
     "output_type": "stream",
     "text": [
      "Estimation Time for Point Estimation: 0.22 seconds.\n",
      "Final log-likelihood: -1,493.1342\n",
      "Simulation number 28 is complete!\n",
      "==========================================\n",
      "==========================================\n",
      "Simulation number 29 is in process...\n",
      "------------------------------------------\n"
     ]
    },
    {
     "name": "stderr",
     "output_type": "stream",
     "text": [
      "/Users/mobouzaghrane/opt/anaconda3/lib/python3.7/site-packages/pylogit/choice_tools.py:703: FutureWarning: arrays to stack must be passed as a \"sequence\" type such as list or tuple. Support for non-sequence iterables such as generators is deprecated as of NumPy 1.16 and will raise an error in the future.\n",
      "  design_matrix = np.hstack((x[:, None] for x in independent_vars))\n"
     ]
    },
    {
     "data": {
      "application/vnd.jupyter.widget-view+json": {
       "model_id": "0a29a2d549164f1e8a2bec44e98d41c4",
       "version_major": 2,
       "version_minor": 0
      },
      "text/plain": [
       "HBox(children=(IntProgress(value=0, description='Simulating Choices', max=2805, style=ProgressStyle(descriptio…"
      ]
     },
     "metadata": {},
     "output_type": "display_data"
    },
    {
     "name": "stdout",
     "output_type": "stream",
     "text": [
      "\n",
      "Log-likelihood at zero: -5,315.4348\n",
      "Initial Log-likelihood: -5,315.4348\n"
     ]
    },
    {
     "name": "stderr",
     "output_type": "stream",
     "text": [
      "/Users/mobouzaghrane/opt/anaconda3/lib/python3.7/site-packages/scipy/optimize/_minimize.py:505: RuntimeWarning: Method BFGS does not use Hessian information (hess).\n",
      "  RuntimeWarning)\n"
     ]
    },
    {
     "name": "stdout",
     "output_type": "stream",
     "text": [
      "Estimation Time for Point Estimation: 0.30 seconds.\n",
      "Final log-likelihood: -1,825.0665\n",
      "Simulation number 29 is complete!\n",
      "==========================================\n",
      "==========================================\n",
      "Simulation number 30 is in process...\n",
      "------------------------------------------\n"
     ]
    },
    {
     "name": "stderr",
     "output_type": "stream",
     "text": [
      "/Users/mobouzaghrane/opt/anaconda3/lib/python3.7/site-packages/pylogit/choice_tools.py:703: FutureWarning: arrays to stack must be passed as a \"sequence\" type such as list or tuple. Support for non-sequence iterables such as generators is deprecated as of NumPy 1.16 and will raise an error in the future.\n",
      "  design_matrix = np.hstack((x[:, None] for x in independent_vars))\n"
     ]
    },
    {
     "data": {
      "application/vnd.jupyter.widget-view+json": {
       "model_id": "dca42570d4694cbc9617cfa6280acc9e",
       "version_major": 2,
       "version_minor": 0
      },
      "text/plain": [
       "HBox(children=(IntProgress(value=0, description='Simulating Choices', max=2211, style=ProgressStyle(descriptio…"
      ]
     },
     "metadata": {},
     "output_type": "display_data"
    },
    {
     "name": "stdout",
     "output_type": "stream",
     "text": [
      "\n",
      "Log-likelihood at zero: -4,185.9175\n",
      "Initial Log-likelihood: -4,185.9175\n"
     ]
    },
    {
     "name": "stderr",
     "output_type": "stream",
     "text": [
      "/Users/mobouzaghrane/opt/anaconda3/lib/python3.7/site-packages/scipy/optimize/_minimize.py:505: RuntimeWarning: Method BFGS does not use Hessian information (hess).\n",
      "  RuntimeWarning)\n"
     ]
    },
    {
     "name": "stdout",
     "output_type": "stream",
     "text": [
      "Estimation Time for Point Estimation: 0.23 seconds.\n",
      "Final log-likelihood: -1,441.4455\n",
      "Simulation number 30 is complete!\n",
      "==========================================\n",
      "==========================================\n",
      "Simulation number 31 is in process...\n",
      "------------------------------------------\n"
     ]
    },
    {
     "name": "stderr",
     "output_type": "stream",
     "text": [
      "/Users/mobouzaghrane/opt/anaconda3/lib/python3.7/site-packages/pylogit/choice_tools.py:703: FutureWarning: arrays to stack must be passed as a \"sequence\" type such as list or tuple. Support for non-sequence iterables such as generators is deprecated as of NumPy 1.16 and will raise an error in the future.\n",
      "  design_matrix = np.hstack((x[:, None] for x in independent_vars))\n"
     ]
    },
    {
     "data": {
      "application/vnd.jupyter.widget-view+json": {
       "model_id": "53104150ae4a42c78d93357e8b6b1ec1",
       "version_major": 2,
       "version_minor": 0
      },
      "text/plain": [
       "HBox(children=(IntProgress(value=0, description='Simulating Choices', max=2967, style=ProgressStyle(descriptio…"
      ]
     },
     "metadata": {},
     "output_type": "display_data"
    },
    {
     "name": "stdout",
     "output_type": "stream",
     "text": [
      "\n",
      "Log-likelihood at zero: -5,625.3966\n",
      "Initial Log-likelihood: -5,625.3966\n"
     ]
    },
    {
     "name": "stderr",
     "output_type": "stream",
     "text": [
      "/Users/mobouzaghrane/opt/anaconda3/lib/python3.7/site-packages/scipy/optimize/_minimize.py:505: RuntimeWarning: Method BFGS does not use Hessian information (hess).\n",
      "  RuntimeWarning)\n"
     ]
    },
    {
     "name": "stdout",
     "output_type": "stream",
     "text": [
      "Estimation Time for Point Estimation: 0.27 seconds.\n",
      "Final log-likelihood: -2,042.2981\n",
      "Simulation number 31 is complete!\n",
      "==========================================\n",
      "==========================================\n",
      "Simulation number 32 is in process...\n",
      "------------------------------------------\n"
     ]
    },
    {
     "name": "stderr",
     "output_type": "stream",
     "text": [
      "/Users/mobouzaghrane/opt/anaconda3/lib/python3.7/site-packages/pylogit/choice_tools.py:703: FutureWarning: arrays to stack must be passed as a \"sequence\" type such as list or tuple. Support for non-sequence iterables such as generators is deprecated as of NumPy 1.16 and will raise an error in the future.\n",
      "  design_matrix = np.hstack((x[:, None] for x in independent_vars))\n"
     ]
    },
    {
     "data": {
      "application/vnd.jupyter.widget-view+json": {
       "model_id": "ea39d6e18f574145937b46c762ad388a",
       "version_major": 2,
       "version_minor": 0
      },
      "text/plain": [
       "HBox(children=(IntProgress(value=0, description='Simulating Choices', max=2822, style=ProgressStyle(descriptio…"
      ]
     },
     "metadata": {},
     "output_type": "display_data"
    },
    {
     "name": "stdout",
     "output_type": "stream",
     "text": [
      "\n",
      "Log-likelihood at zero: -5,347.0119\n",
      "Initial Log-likelihood: -5,347.0119\n"
     ]
    },
    {
     "name": "stderr",
     "output_type": "stream",
     "text": [
      "/Users/mobouzaghrane/opt/anaconda3/lib/python3.7/site-packages/scipy/optimize/_minimize.py:505: RuntimeWarning: Method BFGS does not use Hessian information (hess).\n",
      "  RuntimeWarning)\n"
     ]
    },
    {
     "name": "stdout",
     "output_type": "stream",
     "text": [
      "Estimation Time for Point Estimation: 0.21 seconds.\n",
      "Final log-likelihood: -1,793.2455\n",
      "Simulation number 32 is complete!\n",
      "==========================================\n",
      "==========================================\n",
      "Simulation number 33 is in process...\n",
      "------------------------------------------\n"
     ]
    },
    {
     "name": "stderr",
     "output_type": "stream",
     "text": [
      "/Users/mobouzaghrane/opt/anaconda3/lib/python3.7/site-packages/pylogit/choice_tools.py:703: FutureWarning: arrays to stack must be passed as a \"sequence\" type such as list or tuple. Support for non-sequence iterables such as generators is deprecated as of NumPy 1.16 and will raise an error in the future.\n",
      "  design_matrix = np.hstack((x[:, None] for x in independent_vars))\n"
     ]
    },
    {
     "data": {
      "application/vnd.jupyter.widget-view+json": {
       "model_id": "40fbd1fedc77428082c07c8aa14c06e7",
       "version_major": 2,
       "version_minor": 0
      },
      "text/plain": [
       "HBox(children=(IntProgress(value=0, description='Simulating Choices', max=2130, style=ProgressStyle(descriptio…"
      ]
     },
     "metadata": {},
     "output_type": "display_data"
    },
    {
     "name": "stdout",
     "output_type": "stream",
     "text": [
      "\n",
      "Log-likelihood at zero: -4,029.1707\n",
      "Initial Log-likelihood: -4,029.1707\n"
     ]
    },
    {
     "name": "stderr",
     "output_type": "stream",
     "text": [
      "/Users/mobouzaghrane/opt/anaconda3/lib/python3.7/site-packages/scipy/optimize/_minimize.py:505: RuntimeWarning: Method BFGS does not use Hessian information (hess).\n",
      "  RuntimeWarning)\n"
     ]
    },
    {
     "name": "stdout",
     "output_type": "stream",
     "text": [
      "Estimation Time for Point Estimation: 0.21 seconds.\n",
      "Final log-likelihood: -1,314.0927\n",
      "Simulation number 33 is complete!\n",
      "==========================================\n",
      "==========================================\n",
      "Simulation number 34 is in process...\n",
      "------------------------------------------\n"
     ]
    },
    {
     "name": "stderr",
     "output_type": "stream",
     "text": [
      "/Users/mobouzaghrane/opt/anaconda3/lib/python3.7/site-packages/pylogit/choice_tools.py:703: FutureWarning: arrays to stack must be passed as a \"sequence\" type such as list or tuple. Support for non-sequence iterables such as generators is deprecated as of NumPy 1.16 and will raise an error in the future.\n",
      "  design_matrix = np.hstack((x[:, None] for x in independent_vars))\n"
     ]
    },
    {
     "data": {
      "application/vnd.jupyter.widget-view+json": {
       "model_id": "8a56c844b65643fcbca56edcca9e570e",
       "version_major": 2,
       "version_minor": 0
      },
      "text/plain": [
       "HBox(children=(IntProgress(value=0, description='Simulating Choices', max=2678, style=ProgressStyle(descriptio…"
      ]
     },
     "metadata": {},
     "output_type": "display_data"
    },
    {
     "name": "stdout",
     "output_type": "stream",
     "text": [
      "\n",
      "Log-likelihood at zero: -5,072.0508\n",
      "Initial Log-likelihood: -5,072.0508\n"
     ]
    },
    {
     "name": "stderr",
     "output_type": "stream",
     "text": [
      "/Users/mobouzaghrane/opt/anaconda3/lib/python3.7/site-packages/scipy/optimize/_minimize.py:505: RuntimeWarning: Method BFGS does not use Hessian information (hess).\n",
      "  RuntimeWarning)\n"
     ]
    },
    {
     "name": "stdout",
     "output_type": "stream",
     "text": [
      "Estimation Time for Point Estimation: 0.29 seconds.\n",
      "Final log-likelihood: -1,760.6208\n",
      "Simulation number 34 is complete!\n",
      "==========================================\n",
      "==========================================\n",
      "Simulation number 35 is in process...\n",
      "------------------------------------------\n"
     ]
    },
    {
     "name": "stderr",
     "output_type": "stream",
     "text": [
      "/Users/mobouzaghrane/opt/anaconda3/lib/python3.7/site-packages/pylogit/choice_tools.py:703: FutureWarning: arrays to stack must be passed as a \"sequence\" type such as list or tuple. Support for non-sequence iterables such as generators is deprecated as of NumPy 1.16 and will raise an error in the future.\n",
      "  design_matrix = np.hstack((x[:, None] for x in independent_vars))\n"
     ]
    },
    {
     "data": {
      "application/vnd.jupyter.widget-view+json": {
       "model_id": "310f9bd454a742238463ee75a4fd9bd1",
       "version_major": 2,
       "version_minor": 0
      },
      "text/plain": [
       "HBox(children=(IntProgress(value=0, description='Simulating Choices', max=2247, style=ProgressStyle(descriptio…"
      ]
     },
     "metadata": {},
     "output_type": "display_data"
    },
    {
     "name": "stdout",
     "output_type": "stream",
     "text": [
      "\n",
      "Log-likelihood at zero: -4,263.0812\n",
      "Initial Log-likelihood: -4,263.0812\n"
     ]
    },
    {
     "name": "stderr",
     "output_type": "stream",
     "text": [
      "/Users/mobouzaghrane/opt/anaconda3/lib/python3.7/site-packages/scipy/optimize/_minimize.py:505: RuntimeWarning: Method BFGS does not use Hessian information (hess).\n",
      "  RuntimeWarning)\n"
     ]
    },
    {
     "name": "stdout",
     "output_type": "stream",
     "text": [
      "Estimation Time for Point Estimation: 0.24 seconds.\n",
      "Final log-likelihood: -1,484.3269\n",
      "Simulation number 35 is complete!\n",
      "==========================================\n",
      "==========================================\n",
      "Simulation number 36 is in process...\n",
      "------------------------------------------\n"
     ]
    },
    {
     "name": "stderr",
     "output_type": "stream",
     "text": [
      "/Users/mobouzaghrane/opt/anaconda3/lib/python3.7/site-packages/pylogit/choice_tools.py:703: FutureWarning: arrays to stack must be passed as a \"sequence\" type such as list or tuple. Support for non-sequence iterables such as generators is deprecated as of NumPy 1.16 and will raise an error in the future.\n",
      "  design_matrix = np.hstack((x[:, None] for x in independent_vars))\n"
     ]
    },
    {
     "data": {
      "application/vnd.jupyter.widget-view+json": {
       "model_id": "4c226257343740f69d9a2a19ed218e9c",
       "version_major": 2,
       "version_minor": 0
      },
      "text/plain": [
       "HBox(children=(IntProgress(value=0, description='Simulating Choices', max=2661, style=ProgressStyle(descriptio…"
      ]
     },
     "metadata": {},
     "output_type": "display_data"
    },
    {
     "name": "stdout",
     "output_type": "stream",
     "text": [
      "\n",
      "Log-likelihood at zero: -5,047.1404\n",
      "Initial Log-likelihood: -5,047.1404\n"
     ]
    },
    {
     "name": "stderr",
     "output_type": "stream",
     "text": [
      "/Users/mobouzaghrane/opt/anaconda3/lib/python3.7/site-packages/scipy/optimize/_minimize.py:505: RuntimeWarning: Method BFGS does not use Hessian information (hess).\n",
      "  RuntimeWarning)\n"
     ]
    },
    {
     "name": "stdout",
     "output_type": "stream",
     "text": [
      "Estimation Time for Point Estimation: 0.28 seconds.\n",
      "Final log-likelihood: -1,755.2967\n",
      "Simulation number 36 is complete!\n",
      "==========================================\n",
      "==========================================\n",
      "Simulation number 37 is in process...\n",
      "------------------------------------------\n"
     ]
    },
    {
     "name": "stderr",
     "output_type": "stream",
     "text": [
      "/Users/mobouzaghrane/opt/anaconda3/lib/python3.7/site-packages/pylogit/choice_tools.py:703: FutureWarning: arrays to stack must be passed as a \"sequence\" type such as list or tuple. Support for non-sequence iterables such as generators is deprecated as of NumPy 1.16 and will raise an error in the future.\n",
      "  design_matrix = np.hstack((x[:, None] for x in independent_vars))\n"
     ]
    },
    {
     "data": {
      "application/vnd.jupyter.widget-view+json": {
       "model_id": "998dd600770f42d8a61d06af339d9cd6",
       "version_major": 2,
       "version_minor": 0
      },
      "text/plain": [
       "HBox(children=(IntProgress(value=0, description='Simulating Choices', max=2506, style=ProgressStyle(descriptio…"
      ]
     },
     "metadata": {},
     "output_type": "display_data"
    },
    {
     "name": "stdout",
     "output_type": "stream",
     "text": [
      "\n",
      "Log-likelihood at zero: -4,782.1729\n",
      "Initial Log-likelihood: -4,782.1729\n",
      "Estimation Time for Point Estimation: 0.19 seconds.\n",
      "Final log-likelihood: -1,591.4563\n"
     ]
    },
    {
     "name": "stderr",
     "output_type": "stream",
     "text": [
      "/Users/mobouzaghrane/opt/anaconda3/lib/python3.7/site-packages/scipy/optimize/_minimize.py:505: RuntimeWarning: Method BFGS does not use Hessian information (hess).\n",
      "  RuntimeWarning)\n"
     ]
    },
    {
     "name": "stdout",
     "output_type": "stream",
     "text": [
      "Simulation number 37 is complete!\n",
      "==========================================\n",
      "==========================================\n",
      "Simulation number 38 is in process...\n",
      "------------------------------------------\n"
     ]
    },
    {
     "name": "stderr",
     "output_type": "stream",
     "text": [
      "/Users/mobouzaghrane/opt/anaconda3/lib/python3.7/site-packages/pylogit/choice_tools.py:703: FutureWarning: arrays to stack must be passed as a \"sequence\" type such as list or tuple. Support for non-sequence iterables such as generators is deprecated as of NumPy 1.16 and will raise an error in the future.\n",
      "  design_matrix = np.hstack((x[:, None] for x in independent_vars))\n"
     ]
    },
    {
     "data": {
      "application/vnd.jupyter.widget-view+json": {
       "model_id": "808288cda4a9432ca22eaab9ebad74c8",
       "version_major": 2,
       "version_minor": 0
      },
      "text/plain": [
       "HBox(children=(IntProgress(value=0, description='Simulating Choices', max=2069, style=ProgressStyle(descriptio…"
      ]
     },
     "metadata": {},
     "output_type": "display_data"
    },
    {
     "name": "stdout",
     "output_type": "stream",
     "text": [
      "\n",
      "Log-likelihood at zero: -3,939.4888\n",
      "Initial Log-likelihood: -3,939.4888\n"
     ]
    },
    {
     "name": "stderr",
     "output_type": "stream",
     "text": [
      "/Users/mobouzaghrane/opt/anaconda3/lib/python3.7/site-packages/scipy/optimize/_minimize.py:505: RuntimeWarning: Method BFGS does not use Hessian information (hess).\n",
      "  RuntimeWarning)\n"
     ]
    },
    {
     "name": "stdout",
     "output_type": "stream",
     "text": [
      "Estimation Time for Point Estimation: 0.17 seconds.\n",
      "Final log-likelihood: -1,334.9374\n",
      "Simulation number 38 is complete!\n",
      "==========================================\n",
      "==========================================\n",
      "Simulation number 39 is in process...\n",
      "------------------------------------------\n"
     ]
    },
    {
     "name": "stderr",
     "output_type": "stream",
     "text": [
      "/Users/mobouzaghrane/opt/anaconda3/lib/python3.7/site-packages/pylogit/choice_tools.py:703: FutureWarning: arrays to stack must be passed as a \"sequence\" type such as list or tuple. Support for non-sequence iterables such as generators is deprecated as of NumPy 1.16 and will raise an error in the future.\n",
      "  design_matrix = np.hstack((x[:, None] for x in independent_vars))\n"
     ]
    },
    {
     "data": {
      "application/vnd.jupyter.widget-view+json": {
       "model_id": "aafa1db14996438c98c9416bca55d2d3",
       "version_major": 2,
       "version_minor": 0
      },
      "text/plain": [
       "HBox(children=(IntProgress(value=0, description='Simulating Choices', max=2539, style=ProgressStyle(descriptio…"
      ]
     },
     "metadata": {},
     "output_type": "display_data"
    },
    {
     "name": "stdout",
     "output_type": "stream",
     "text": [
      "\n",
      "Log-likelihood at zero: -4,816.3343\n",
      "Initial Log-likelihood: -4,816.3343\n",
      "Estimation Time for Point Estimation: 0.17 seconds.\n",
      "Final log-likelihood: -1,656.1486\n"
     ]
    },
    {
     "name": "stderr",
     "output_type": "stream",
     "text": [
      "/Users/mobouzaghrane/opt/anaconda3/lib/python3.7/site-packages/scipy/optimize/_minimize.py:505: RuntimeWarning: Method BFGS does not use Hessian information (hess).\n",
      "  RuntimeWarning)\n"
     ]
    },
    {
     "name": "stdout",
     "output_type": "stream",
     "text": [
      "Simulation number 39 is complete!\n",
      "==========================================\n",
      "==========================================\n",
      "Simulation number 40 is in process...\n",
      "------------------------------------------\n"
     ]
    },
    {
     "name": "stderr",
     "output_type": "stream",
     "text": [
      "/Users/mobouzaghrane/opt/anaconda3/lib/python3.7/site-packages/pylogit/choice_tools.py:703: FutureWarning: arrays to stack must be passed as a \"sequence\" type such as list or tuple. Support for non-sequence iterables such as generators is deprecated as of NumPy 1.16 and will raise an error in the future.\n",
      "  design_matrix = np.hstack((x[:, None] for x in independent_vars))\n"
     ]
    },
    {
     "data": {
      "application/vnd.jupyter.widget-view+json": {
       "model_id": "92758a71e1ee46f1a24ebe91189115b9",
       "version_major": 2,
       "version_minor": 0
      },
      "text/plain": [
       "HBox(children=(IntProgress(value=0, description='Simulating Choices', max=2655, style=ProgressStyle(descriptio…"
      ]
     },
     "metadata": {},
     "output_type": "display_data"
    },
    {
     "name": "stdout",
     "output_type": "stream",
     "text": [
      "\n",
      "Log-likelihood at zero: -5,023.4833\n",
      "Initial Log-likelihood: -5,023.4833\n"
     ]
    },
    {
     "name": "stderr",
     "output_type": "stream",
     "text": [
      "/Users/mobouzaghrane/opt/anaconda3/lib/python3.7/site-packages/scipy/optimize/_minimize.py:505: RuntimeWarning: Method BFGS does not use Hessian information (hess).\n",
      "  RuntimeWarning)\n"
     ]
    },
    {
     "name": "stdout",
     "output_type": "stream",
     "text": [
      "Estimation Time for Point Estimation: 0.24 seconds.\n",
      "Final log-likelihood: -1,772.7473\n",
      "Simulation number 40 is complete!\n",
      "==========================================\n",
      "==========================================\n",
      "Simulation number 41 is in process...\n",
      "------------------------------------------\n"
     ]
    },
    {
     "name": "stderr",
     "output_type": "stream",
     "text": [
      "/Users/mobouzaghrane/opt/anaconda3/lib/python3.7/site-packages/pylogit/choice_tools.py:703: FutureWarning: arrays to stack must be passed as a \"sequence\" type such as list or tuple. Support for non-sequence iterables such as generators is deprecated as of NumPy 1.16 and will raise an error in the future.\n",
      "  design_matrix = np.hstack((x[:, None] for x in independent_vars))\n"
     ]
    },
    {
     "data": {
      "application/vnd.jupyter.widget-view+json": {
       "model_id": "8b31ebca2903441f8964786d438001ec",
       "version_major": 2,
       "version_minor": 0
      },
      "text/plain": [
       "HBox(children=(IntProgress(value=0, description='Simulating Choices', max=2951, style=ProgressStyle(descriptio…"
      ]
     },
     "metadata": {},
     "output_type": "display_data"
    },
    {
     "name": "stdout",
     "output_type": "stream",
     "text": [
      "\n",
      "Log-likelihood at zero: -5,614.2958\n",
      "Initial Log-likelihood: -5,614.2958\n"
     ]
    },
    {
     "name": "stderr",
     "output_type": "stream",
     "text": [
      "/Users/mobouzaghrane/opt/anaconda3/lib/python3.7/site-packages/scipy/optimize/_minimize.py:505: RuntimeWarning: Method BFGS does not use Hessian information (hess).\n",
      "  RuntimeWarning)\n"
     ]
    },
    {
     "name": "stdout",
     "output_type": "stream",
     "text": [
      "Estimation Time for Point Estimation: 0.35 seconds.\n",
      "Final log-likelihood: -1,987.5971\n",
      "Simulation number 41 is complete!\n",
      "==========================================\n",
      "==========================================\n",
      "Simulation number 42 is in process...\n",
      "------------------------------------------\n"
     ]
    },
    {
     "name": "stderr",
     "output_type": "stream",
     "text": [
      "/Users/mobouzaghrane/opt/anaconda3/lib/python3.7/site-packages/pylogit/choice_tools.py:703: FutureWarning: arrays to stack must be passed as a \"sequence\" type such as list or tuple. Support for non-sequence iterables such as generators is deprecated as of NumPy 1.16 and will raise an error in the future.\n",
      "  design_matrix = np.hstack((x[:, None] for x in independent_vars))\n"
     ]
    },
    {
     "data": {
      "application/vnd.jupyter.widget-view+json": {
       "model_id": "c29fec87754f4b19926db22299df2151",
       "version_major": 2,
       "version_minor": 0
      },
      "text/plain": [
       "HBox(children=(IntProgress(value=0, description='Simulating Choices', max=2621, style=ProgressStyle(descriptio…"
      ]
     },
     "metadata": {},
     "output_type": "display_data"
    },
    {
     "name": "stdout",
     "output_type": "stream",
     "text": [
      "\n",
      "Log-likelihood at zero: -4,992.8515\n",
      "Initial Log-likelihood: -4,992.8515\n"
     ]
    },
    {
     "name": "stderr",
     "output_type": "stream",
     "text": [
      "/Users/mobouzaghrane/opt/anaconda3/lib/python3.7/site-packages/scipy/optimize/_minimize.py:505: RuntimeWarning: Method BFGS does not use Hessian information (hess).\n",
      "  RuntimeWarning)\n"
     ]
    },
    {
     "name": "stdout",
     "output_type": "stream",
     "text": [
      "Estimation Time for Point Estimation: 0.23 seconds.\n",
      "Final log-likelihood: -1,766.7704\n",
      "Simulation number 42 is complete!\n",
      "==========================================\n",
      "==========================================\n",
      "Simulation number 43 is in process...\n",
      "------------------------------------------\n"
     ]
    },
    {
     "name": "stderr",
     "output_type": "stream",
     "text": [
      "/Users/mobouzaghrane/opt/anaconda3/lib/python3.7/site-packages/pylogit/choice_tools.py:703: FutureWarning: arrays to stack must be passed as a \"sequence\" type such as list or tuple. Support for non-sequence iterables such as generators is deprecated as of NumPy 1.16 and will raise an error in the future.\n",
      "  design_matrix = np.hstack((x[:, None] for x in independent_vars))\n"
     ]
    },
    {
     "data": {
      "application/vnd.jupyter.widget-view+json": {
       "model_id": "98912b0521084e1490f12a2761ce9697",
       "version_major": 2,
       "version_minor": 0
      },
      "text/plain": [
       "HBox(children=(IntProgress(value=0, description='Simulating Choices', max=2768, style=ProgressStyle(descriptio…"
      ]
     },
     "metadata": {},
     "output_type": "display_data"
    },
    {
     "name": "stdout",
     "output_type": "stream",
     "text": [
      "\n",
      "Log-likelihood at zero: -5,261.0593\n",
      "Initial Log-likelihood: -5,261.0593\n"
     ]
    },
    {
     "name": "stderr",
     "output_type": "stream",
     "text": [
      "/Users/mobouzaghrane/opt/anaconda3/lib/python3.7/site-packages/scipy/optimize/_minimize.py:505: RuntimeWarning: Method BFGS does not use Hessian information (hess).\n",
      "  RuntimeWarning)\n"
     ]
    },
    {
     "name": "stdout",
     "output_type": "stream",
     "text": [
      "Estimation Time for Point Estimation: 0.25 seconds.\n",
      "Final log-likelihood: -1,791.2177\n",
      "Simulation number 43 is complete!\n",
      "==========================================\n",
      "==========================================\n",
      "Simulation number 44 is in process...\n",
      "------------------------------------------\n"
     ]
    },
    {
     "name": "stderr",
     "output_type": "stream",
     "text": [
      "/Users/mobouzaghrane/opt/anaconda3/lib/python3.7/site-packages/pylogit/choice_tools.py:703: FutureWarning: arrays to stack must be passed as a \"sequence\" type such as list or tuple. Support for non-sequence iterables such as generators is deprecated as of NumPy 1.16 and will raise an error in the future.\n",
      "  design_matrix = np.hstack((x[:, None] for x in independent_vars))\n"
     ]
    },
    {
     "data": {
      "application/vnd.jupyter.widget-view+json": {
       "model_id": "3da76db1cd2849859e9f2103f79b1649",
       "version_major": 2,
       "version_minor": 0
      },
      "text/plain": [
       "HBox(children=(IntProgress(value=0, description='Simulating Choices', max=2248, style=ProgressStyle(descriptio…"
      ]
     },
     "metadata": {},
     "output_type": "display_data"
    },
    {
     "name": "stdout",
     "output_type": "stream",
     "text": [
      "\n",
      "Log-likelihood at zero: -4,253.2494\n",
      "Initial Log-likelihood: -4,253.2494\n"
     ]
    },
    {
     "name": "stderr",
     "output_type": "stream",
     "text": [
      "/Users/mobouzaghrane/opt/anaconda3/lib/python3.7/site-packages/scipy/optimize/_minimize.py:505: RuntimeWarning: Method BFGS does not use Hessian information (hess).\n",
      "  RuntimeWarning)\n"
     ]
    },
    {
     "name": "stdout",
     "output_type": "stream",
     "text": [
      "Estimation Time for Point Estimation: 0.24 seconds.\n",
      "Final log-likelihood: -1,435.7171\n",
      "Simulation number 44 is complete!\n",
      "==========================================\n",
      "==========================================\n",
      "Simulation number 45 is in process...\n",
      "------------------------------------------\n"
     ]
    },
    {
     "name": "stderr",
     "output_type": "stream",
     "text": [
      "/Users/mobouzaghrane/opt/anaconda3/lib/python3.7/site-packages/pylogit/choice_tools.py:703: FutureWarning: arrays to stack must be passed as a \"sequence\" type such as list or tuple. Support for non-sequence iterables such as generators is deprecated as of NumPy 1.16 and will raise an error in the future.\n",
      "  design_matrix = np.hstack((x[:, None] for x in independent_vars))\n"
     ]
    },
    {
     "data": {
      "application/vnd.jupyter.widget-view+json": {
       "model_id": "8c58ea07811944119f4ba60e55b9cc6a",
       "version_major": 2,
       "version_minor": 0
      },
      "text/plain": [
       "HBox(children=(IntProgress(value=0, description='Simulating Choices', max=2252, style=ProgressStyle(descriptio…"
      ]
     },
     "metadata": {},
     "output_type": "display_data"
    },
    {
     "name": "stdout",
     "output_type": "stream",
     "text": [
      "\n",
      "Log-likelihood at zero: -4,275.3751\n",
      "Initial Log-likelihood: -4,275.3751\n"
     ]
    },
    {
     "name": "stderr",
     "output_type": "stream",
     "text": [
      "/Users/mobouzaghrane/opt/anaconda3/lib/python3.7/site-packages/scipy/optimize/_minimize.py:505: RuntimeWarning: Method BFGS does not use Hessian information (hess).\n",
      "  RuntimeWarning)\n"
     ]
    },
    {
     "name": "stdout",
     "output_type": "stream",
     "text": [
      "Estimation Time for Point Estimation: 0.27 seconds.\n",
      "Final log-likelihood: -1,491.1490\n",
      "Simulation number 45 is complete!\n",
      "==========================================\n",
      "==========================================\n",
      "Simulation number 46 is in process...\n",
      "------------------------------------------\n"
     ]
    },
    {
     "name": "stderr",
     "output_type": "stream",
     "text": [
      "/Users/mobouzaghrane/opt/anaconda3/lib/python3.7/site-packages/pylogit/choice_tools.py:703: FutureWarning: arrays to stack must be passed as a \"sequence\" type such as list or tuple. Support for non-sequence iterables such as generators is deprecated as of NumPy 1.16 and will raise an error in the future.\n",
      "  design_matrix = np.hstack((x[:, None] for x in independent_vars))\n"
     ]
    },
    {
     "data": {
      "application/vnd.jupyter.widget-view+json": {
       "model_id": "6aae248f796c450a9a85b2095829db3f",
       "version_major": 2,
       "version_minor": 0
      },
      "text/plain": [
       "HBox(children=(IntProgress(value=0, description='Simulating Choices', max=2876, style=ProgressStyle(descriptio…"
      ]
     },
     "metadata": {},
     "output_type": "display_data"
    },
    {
     "name": "stdout",
     "output_type": "stream",
     "text": [
      "\n",
      "Log-likelihood at zero: -5,465.6361\n",
      "Initial Log-likelihood: -5,465.6361\n"
     ]
    },
    {
     "name": "stderr",
     "output_type": "stream",
     "text": [
      "/Users/mobouzaghrane/opt/anaconda3/lib/python3.7/site-packages/scipy/optimize/_minimize.py:505: RuntimeWarning: Method BFGS does not use Hessian information (hess).\n",
      "  RuntimeWarning)\n"
     ]
    },
    {
     "name": "stdout",
     "output_type": "stream",
     "text": [
      "Estimation Time for Point Estimation: 0.24 seconds.\n",
      "Final log-likelihood: -1,929.3666\n",
      "Simulation number 46 is complete!\n",
      "==========================================\n",
      "==========================================\n",
      "Simulation number 47 is in process...\n",
      "------------------------------------------\n"
     ]
    },
    {
     "name": "stderr",
     "output_type": "stream",
     "text": [
      "/Users/mobouzaghrane/opt/anaconda3/lib/python3.7/site-packages/pylogit/choice_tools.py:703: FutureWarning: arrays to stack must be passed as a \"sequence\" type such as list or tuple. Support for non-sequence iterables such as generators is deprecated as of NumPy 1.16 and will raise an error in the future.\n",
      "  design_matrix = np.hstack((x[:, None] for x in independent_vars))\n"
     ]
    },
    {
     "data": {
      "application/vnd.jupyter.widget-view+json": {
       "model_id": "24bcab260b1042a8a08954a28591320d",
       "version_major": 2,
       "version_minor": 0
      },
      "text/plain": [
       "HBox(children=(IntProgress(value=0, description='Simulating Choices', max=2115, style=ProgressStyle(descriptio…"
      ]
     },
     "metadata": {},
     "output_type": "display_data"
    },
    {
     "name": "stdout",
     "output_type": "stream",
     "text": [
      "\n",
      "Log-likelihood at zero: -4,019.4863\n",
      "Initial Log-likelihood: -4,019.4863\n"
     ]
    },
    {
     "name": "stderr",
     "output_type": "stream",
     "text": [
      "/Users/mobouzaghrane/opt/anaconda3/lib/python3.7/site-packages/scipy/optimize/_minimize.py:505: RuntimeWarning: Method BFGS does not use Hessian information (hess).\n",
      "  RuntimeWarning)\n"
     ]
    },
    {
     "name": "stdout",
     "output_type": "stream",
     "text": [
      "Estimation Time for Point Estimation: 0.22 seconds.\n",
      "Final log-likelihood: -1,321.6467\n",
      "Simulation number 47 is complete!\n",
      "==========================================\n",
      "==========================================\n",
      "Simulation number 48 is in process...\n",
      "------------------------------------------\n"
     ]
    },
    {
     "name": "stderr",
     "output_type": "stream",
     "text": [
      "/Users/mobouzaghrane/opt/anaconda3/lib/python3.7/site-packages/pylogit/choice_tools.py:703: FutureWarning: arrays to stack must be passed as a \"sequence\" type such as list or tuple. Support for non-sequence iterables such as generators is deprecated as of NumPy 1.16 and will raise an error in the future.\n",
      "  design_matrix = np.hstack((x[:, None] for x in independent_vars))\n"
     ]
    },
    {
     "data": {
      "application/vnd.jupyter.widget-view+json": {
       "model_id": "c9736896eec14a6abb3f658a346efe28",
       "version_major": 2,
       "version_minor": 0
      },
      "text/plain": [
       "HBox(children=(IntProgress(value=0, description='Simulating Choices', max=2110, style=ProgressStyle(descriptio…"
      ]
     },
     "metadata": {},
     "output_type": "display_data"
    },
    {
     "name": "stdout",
     "output_type": "stream",
     "text": [
      "\n",
      "Log-likelihood at zero: -3,993.9344\n",
      "Initial Log-likelihood: -3,993.9344\n",
      "Estimation Time for Point Estimation: 0.18 seconds.\n",
      "Final log-likelihood: -1,352.0484\n"
     ]
    },
    {
     "name": "stderr",
     "output_type": "stream",
     "text": [
      "/Users/mobouzaghrane/opt/anaconda3/lib/python3.7/site-packages/scipy/optimize/_minimize.py:505: RuntimeWarning: Method BFGS does not use Hessian information (hess).\n",
      "  RuntimeWarning)\n"
     ]
    },
    {
     "name": "stdout",
     "output_type": "stream",
     "text": [
      "Simulation number 48 is complete!\n",
      "==========================================\n",
      "==========================================\n",
      "Simulation number 49 is in process...\n",
      "------------------------------------------\n"
     ]
    },
    {
     "name": "stderr",
     "output_type": "stream",
     "text": [
      "/Users/mobouzaghrane/opt/anaconda3/lib/python3.7/site-packages/pylogit/choice_tools.py:703: FutureWarning: arrays to stack must be passed as a \"sequence\" type such as list or tuple. Support for non-sequence iterables such as generators is deprecated as of NumPy 1.16 and will raise an error in the future.\n",
      "  design_matrix = np.hstack((x[:, None] for x in independent_vars))\n"
     ]
    },
    {
     "data": {
      "application/vnd.jupyter.widget-view+json": {
       "model_id": "fab19c977bb14a75bb666c5b69b59476",
       "version_major": 2,
       "version_minor": 0
      },
      "text/plain": [
       "HBox(children=(IntProgress(value=0, description='Simulating Choices', max=2171, style=ProgressStyle(descriptio…"
      ]
     },
     "metadata": {},
     "output_type": "display_data"
    },
    {
     "name": "stdout",
     "output_type": "stream",
     "text": [
      "\n",
      "Log-likelihood at zero: -4,124.6044\n",
      "Initial Log-likelihood: -4,124.6044\n"
     ]
    },
    {
     "name": "stderr",
     "output_type": "stream",
     "text": [
      "/Users/mobouzaghrane/opt/anaconda3/lib/python3.7/site-packages/scipy/optimize/_minimize.py:505: RuntimeWarning: Method BFGS does not use Hessian information (hess).\n",
      "  RuntimeWarning)\n"
     ]
    },
    {
     "name": "stdout",
     "output_type": "stream",
     "text": [
      "Estimation Time for Point Estimation: 0.19 seconds.\n",
      "Final log-likelihood: -1,454.0386\n",
      "Simulation number 49 is complete!\n",
      "==========================================\n",
      "==========================================\n",
      "Simulation number 50 is in process...\n",
      "------------------------------------------\n"
     ]
    },
    {
     "name": "stderr",
     "output_type": "stream",
     "text": [
      "/Users/mobouzaghrane/opt/anaconda3/lib/python3.7/site-packages/pylogit/choice_tools.py:703: FutureWarning: arrays to stack must be passed as a \"sequence\" type such as list or tuple. Support for non-sequence iterables such as generators is deprecated as of NumPy 1.16 and will raise an error in the future.\n",
      "  design_matrix = np.hstack((x[:, None] for x in independent_vars))\n"
     ]
    },
    {
     "data": {
      "application/vnd.jupyter.widget-view+json": {
       "model_id": "7792686d803a4c31b21be9ff3af08e02",
       "version_major": 2,
       "version_minor": 0
      },
      "text/plain": [
       "HBox(children=(IntProgress(value=0, description='Simulating Choices', max=2178, style=ProgressStyle(descriptio…"
      ]
     },
     "metadata": {},
     "output_type": "display_data"
    },
    {
     "name": "stdout",
     "output_type": "stream",
     "text": [
      "\n",
      "Log-likelihood at zero: -4,148.3544\n",
      "Initial Log-likelihood: -4,148.3544\n"
     ]
    },
    {
     "name": "stderr",
     "output_type": "stream",
     "text": [
      "/Users/mobouzaghrane/opt/anaconda3/lib/python3.7/site-packages/scipy/optimize/_minimize.py:505: RuntimeWarning: Method BFGS does not use Hessian information (hess).\n",
      "  RuntimeWarning)\n"
     ]
    },
    {
     "name": "stdout",
     "output_type": "stream",
     "text": [
      "Estimation Time for Point Estimation: 0.28 seconds.\n",
      "Final log-likelihood: -1,384.1516\n",
      "Simulation number 50 is complete!\n",
      "==========================================\n",
      "==========================================\n",
      "Simulation number 51 is in process...\n",
      "------------------------------------------\n"
     ]
    },
    {
     "name": "stderr",
     "output_type": "stream",
     "text": [
      "/Users/mobouzaghrane/opt/anaconda3/lib/python3.7/site-packages/pylogit/choice_tools.py:703: FutureWarning: arrays to stack must be passed as a \"sequence\" type such as list or tuple. Support for non-sequence iterables such as generators is deprecated as of NumPy 1.16 and will raise an error in the future.\n",
      "  design_matrix = np.hstack((x[:, None] for x in independent_vars))\n"
     ]
    },
    {
     "data": {
      "application/vnd.jupyter.widget-view+json": {
       "model_id": "35925f5cc394401c8318ace7554c304a",
       "version_major": 2,
       "version_minor": 0
      },
      "text/plain": [
       "HBox(children=(IntProgress(value=0, description='Simulating Choices', max=2023, style=ProgressStyle(descriptio…"
      ]
     },
     "metadata": {},
     "output_type": "display_data"
    },
    {
     "name": "stdout",
     "output_type": "stream",
     "text": [
      "\n",
      "Log-likelihood at zero: -3,835.0273\n",
      "Initial Log-likelihood: -3,835.0273\n"
     ]
    },
    {
     "name": "stderr",
     "output_type": "stream",
     "text": [
      "/Users/mobouzaghrane/opt/anaconda3/lib/python3.7/site-packages/scipy/optimize/_minimize.py:505: RuntimeWarning: Method BFGS does not use Hessian information (hess).\n",
      "  RuntimeWarning)\n"
     ]
    },
    {
     "name": "stdout",
     "output_type": "stream",
     "text": [
      "Estimation Time for Point Estimation: 0.17 seconds.\n",
      "Final log-likelihood: -1,325.2119\n",
      "Simulation number 51 is complete!\n",
      "==========================================\n",
      "==========================================\n",
      "Simulation number 52 is in process...\n",
      "------------------------------------------\n"
     ]
    },
    {
     "name": "stderr",
     "output_type": "stream",
     "text": [
      "/Users/mobouzaghrane/opt/anaconda3/lib/python3.7/site-packages/pylogit/choice_tools.py:703: FutureWarning: arrays to stack must be passed as a \"sequence\" type such as list or tuple. Support for non-sequence iterables such as generators is deprecated as of NumPy 1.16 and will raise an error in the future.\n",
      "  design_matrix = np.hstack((x[:, None] for x in independent_vars))\n"
     ]
    },
    {
     "data": {
      "application/vnd.jupyter.widget-view+json": {
       "model_id": "0d84301b1f24416895702f7db813b35a",
       "version_major": 2,
       "version_minor": 0
      },
      "text/plain": [
       "HBox(children=(IntProgress(value=0, description='Simulating Choices', max=2087, style=ProgressStyle(descriptio…"
      ]
     },
     "metadata": {},
     "output_type": "display_data"
    },
    {
     "name": "stdout",
     "output_type": "stream",
     "text": [
      "\n",
      "Log-likelihood at zero: -3,959.3734\n",
      "Initial Log-likelihood: -3,959.3734\n"
     ]
    },
    {
     "name": "stderr",
     "output_type": "stream",
     "text": [
      "/Users/mobouzaghrane/opt/anaconda3/lib/python3.7/site-packages/scipy/optimize/_minimize.py:505: RuntimeWarning: Method BFGS does not use Hessian information (hess).\n",
      "  RuntimeWarning)\n"
     ]
    },
    {
     "name": "stdout",
     "output_type": "stream",
     "text": [
      "Estimation Time for Point Estimation: 0.27 seconds.\n",
      "Final log-likelihood: -1,317.7396\n",
      "Simulation number 52 is complete!\n",
      "==========================================\n",
      "==========================================\n",
      "Simulation number 53 is in process...\n",
      "------------------------------------------\n"
     ]
    },
    {
     "name": "stderr",
     "output_type": "stream",
     "text": [
      "/Users/mobouzaghrane/opt/anaconda3/lib/python3.7/site-packages/pylogit/choice_tools.py:703: FutureWarning: arrays to stack must be passed as a \"sequence\" type such as list or tuple. Support for non-sequence iterables such as generators is deprecated as of NumPy 1.16 and will raise an error in the future.\n",
      "  design_matrix = np.hstack((x[:, None] for x in independent_vars))\n"
     ]
    },
    {
     "data": {
      "application/vnd.jupyter.widget-view+json": {
       "model_id": "2f9602cfad3441e296642577807362e5",
       "version_major": 2,
       "version_minor": 0
      },
      "text/plain": [
       "HBox(children=(IntProgress(value=0, description='Simulating Choices', max=2577, style=ProgressStyle(descriptio…"
      ]
     },
     "metadata": {},
     "output_type": "display_data"
    },
    {
     "name": "stdout",
     "output_type": "stream",
     "text": [
      "\n",
      "Log-likelihood at zero: -4,886.8539\n",
      "Initial Log-likelihood: -4,886.8539\n"
     ]
    },
    {
     "name": "stderr",
     "output_type": "stream",
     "text": [
      "/Users/mobouzaghrane/opt/anaconda3/lib/python3.7/site-packages/scipy/optimize/_minimize.py:505: RuntimeWarning: Method BFGS does not use Hessian information (hess).\n",
      "  RuntimeWarning)\n"
     ]
    },
    {
     "name": "stdout",
     "output_type": "stream",
     "text": [
      "Estimation Time for Point Estimation: 0.33 seconds.\n",
      "Final log-likelihood: -1,681.2443\n",
      "Simulation number 53 is complete!\n",
      "==========================================\n",
      "==========================================\n",
      "Simulation number 54 is in process...\n",
      "------------------------------------------\n"
     ]
    },
    {
     "name": "stderr",
     "output_type": "stream",
     "text": [
      "/Users/mobouzaghrane/opt/anaconda3/lib/python3.7/site-packages/pylogit/choice_tools.py:703: FutureWarning: arrays to stack must be passed as a \"sequence\" type such as list or tuple. Support for non-sequence iterables such as generators is deprecated as of NumPy 1.16 and will raise an error in the future.\n",
      "  design_matrix = np.hstack((x[:, None] for x in independent_vars))\n"
     ]
    },
    {
     "data": {
      "application/vnd.jupyter.widget-view+json": {
       "model_id": "7f09edb91b294e01a218b4c80b43ca92",
       "version_major": 2,
       "version_minor": 0
      },
      "text/plain": [
       "HBox(children=(IntProgress(value=0, description='Simulating Choices', max=2221, style=ProgressStyle(descriptio…"
      ]
     },
     "metadata": {},
     "output_type": "display_data"
    },
    {
     "name": "stdout",
     "output_type": "stream",
     "text": [
      "\n",
      "Log-likelihood at zero: -4,200.9283\n",
      "Initial Log-likelihood: -4,200.9283\n",
      "Estimation Time for Point Estimation: 0.20 seconds.\n",
      "Final log-likelihood: -1,472.4717\n"
     ]
    },
    {
     "name": "stderr",
     "output_type": "stream",
     "text": [
      "/Users/mobouzaghrane/opt/anaconda3/lib/python3.7/site-packages/scipy/optimize/_minimize.py:505: RuntimeWarning: Method BFGS does not use Hessian information (hess).\n",
      "  RuntimeWarning)\n"
     ]
    },
    {
     "name": "stdout",
     "output_type": "stream",
     "text": [
      "Simulation number 54 is complete!\n",
      "==========================================\n",
      "==========================================\n",
      "Simulation number 55 is in process...\n",
      "------------------------------------------\n"
     ]
    },
    {
     "name": "stderr",
     "output_type": "stream",
     "text": [
      "/Users/mobouzaghrane/opt/anaconda3/lib/python3.7/site-packages/pylogit/choice_tools.py:703: FutureWarning: arrays to stack must be passed as a \"sequence\" type such as list or tuple. Support for non-sequence iterables such as generators is deprecated as of NumPy 1.16 and will raise an error in the future.\n",
      "  design_matrix = np.hstack((x[:, None] for x in independent_vars))\n"
     ]
    },
    {
     "data": {
      "application/vnd.jupyter.widget-view+json": {
       "model_id": "eeb4bab4b2414633b0a1fbbe161ab995",
       "version_major": 2,
       "version_minor": 0
      },
      "text/plain": [
       "HBox(children=(IntProgress(value=0, description='Simulating Choices', max=2925, style=ProgressStyle(descriptio…"
      ]
     },
     "metadata": {},
     "output_type": "display_data"
    },
    {
     "name": "stdout",
     "output_type": "stream",
     "text": [
      "\n",
      "Log-likelihood at zero: -5,549.2824\n",
      "Initial Log-likelihood: -5,549.2824\n",
      "Estimation Time for Point Estimation: 0.19 seconds.\n",
      "Final log-likelihood: -1,945.2344\n"
     ]
    },
    {
     "name": "stderr",
     "output_type": "stream",
     "text": [
      "/Users/mobouzaghrane/opt/anaconda3/lib/python3.7/site-packages/scipy/optimize/_minimize.py:505: RuntimeWarning: Method BFGS does not use Hessian information (hess).\n",
      "  RuntimeWarning)\n"
     ]
    },
    {
     "name": "stdout",
     "output_type": "stream",
     "text": [
      "Simulation number 55 is complete!\n",
      "==========================================\n",
      "==========================================\n",
      "Simulation number 56 is in process...\n",
      "------------------------------------------\n"
     ]
    },
    {
     "name": "stderr",
     "output_type": "stream",
     "text": [
      "/Users/mobouzaghrane/opt/anaconda3/lib/python3.7/site-packages/pylogit/choice_tools.py:703: FutureWarning: arrays to stack must be passed as a \"sequence\" type such as list or tuple. Support for non-sequence iterables such as generators is deprecated as of NumPy 1.16 and will raise an error in the future.\n",
      "  design_matrix = np.hstack((x[:, None] for x in independent_vars))\n"
     ]
    },
    {
     "data": {
      "application/vnd.jupyter.widget-view+json": {
       "model_id": "f8439262eaf540e09db025879ce4da56",
       "version_major": 2,
       "version_minor": 0
      },
      "text/plain": [
       "HBox(children=(IntProgress(value=0, description='Simulating Choices', max=2525, style=ProgressStyle(descriptio…"
      ]
     },
     "metadata": {},
     "output_type": "display_data"
    },
    {
     "name": "stdout",
     "output_type": "stream",
     "text": [
      "\n",
      "Log-likelihood at zero: -4,805.4089\n",
      "Initial Log-likelihood: -4,805.4089\n"
     ]
    },
    {
     "name": "stderr",
     "output_type": "stream",
     "text": [
      "/Users/mobouzaghrane/opt/anaconda3/lib/python3.7/site-packages/scipy/optimize/_minimize.py:505: RuntimeWarning: Method BFGS does not use Hessian information (hess).\n",
      "  RuntimeWarning)\n"
     ]
    },
    {
     "name": "stdout",
     "output_type": "stream",
     "text": [
      "Estimation Time for Point Estimation: 0.24 seconds.\n",
      "Final log-likelihood: -1,604.0133\n",
      "Simulation number 56 is complete!\n",
      "==========================================\n",
      "==========================================\n",
      "Simulation number 57 is in process...\n",
      "------------------------------------------\n"
     ]
    },
    {
     "name": "stderr",
     "output_type": "stream",
     "text": [
      "/Users/mobouzaghrane/opt/anaconda3/lib/python3.7/site-packages/pylogit/choice_tools.py:703: FutureWarning: arrays to stack must be passed as a \"sequence\" type such as list or tuple. Support for non-sequence iterables such as generators is deprecated as of NumPy 1.16 and will raise an error in the future.\n",
      "  design_matrix = np.hstack((x[:, None] for x in independent_vars))\n"
     ]
    },
    {
     "data": {
      "application/vnd.jupyter.widget-view+json": {
       "model_id": "6de6c790bac645908ae54fb5efcfbe17",
       "version_major": 2,
       "version_minor": 0
      },
      "text/plain": [
       "HBox(children=(IntProgress(value=0, description='Simulating Choices', max=2755, style=ProgressStyle(descriptio…"
      ]
     },
     "metadata": {},
     "output_type": "display_data"
    },
    {
     "name": "stdout",
     "output_type": "stream",
     "text": [
      "\n",
      "Log-likelihood at zero: -5,242.7716\n",
      "Initial Log-likelihood: -5,242.7716\n"
     ]
    },
    {
     "name": "stderr",
     "output_type": "stream",
     "text": [
      "/Users/mobouzaghrane/opt/anaconda3/lib/python3.7/site-packages/scipy/optimize/_minimize.py:505: RuntimeWarning: Method BFGS does not use Hessian information (hess).\n",
      "  RuntimeWarning)\n"
     ]
    },
    {
     "name": "stdout",
     "output_type": "stream",
     "text": [
      "Estimation Time for Point Estimation: 0.24 seconds.\n",
      "Final log-likelihood: -1,837.4333\n",
      "Simulation number 57 is complete!\n",
      "==========================================\n",
      "==========================================\n",
      "Simulation number 58 is in process...\n",
      "------------------------------------------\n"
     ]
    },
    {
     "name": "stderr",
     "output_type": "stream",
     "text": [
      "/Users/mobouzaghrane/opt/anaconda3/lib/python3.7/site-packages/pylogit/choice_tools.py:703: FutureWarning: arrays to stack must be passed as a \"sequence\" type such as list or tuple. Support for non-sequence iterables such as generators is deprecated as of NumPy 1.16 and will raise an error in the future.\n",
      "  design_matrix = np.hstack((x[:, None] for x in independent_vars))\n"
     ]
    },
    {
     "data": {
      "application/vnd.jupyter.widget-view+json": {
       "model_id": "504812b4e2fa465e91e1205b448229e7",
       "version_major": 2,
       "version_minor": 0
      },
      "text/plain": [
       "HBox(children=(IntProgress(value=0, description='Simulating Choices', max=2131, style=ProgressStyle(descriptio…"
      ]
     },
     "metadata": {},
     "output_type": "display_data"
    },
    {
     "name": "stdout",
     "output_type": "stream",
     "text": [
      "\n",
      "Log-likelihood at zero: -4,046.6925\n",
      "Initial Log-likelihood: -4,046.6925\n",
      "Estimation Time for Point Estimation: 0.19 seconds.\n",
      "Final log-likelihood: -1,448.6804\n"
     ]
    },
    {
     "name": "stderr",
     "output_type": "stream",
     "text": [
      "/Users/mobouzaghrane/opt/anaconda3/lib/python3.7/site-packages/scipy/optimize/_minimize.py:505: RuntimeWarning: Method BFGS does not use Hessian information (hess).\n",
      "  RuntimeWarning)\n"
     ]
    },
    {
     "name": "stdout",
     "output_type": "stream",
     "text": [
      "Simulation number 58 is complete!\n",
      "==========================================\n",
      "==========================================\n",
      "Simulation number 59 is in process...\n",
      "------------------------------------------\n"
     ]
    },
    {
     "name": "stderr",
     "output_type": "stream",
     "text": [
      "/Users/mobouzaghrane/opt/anaconda3/lib/python3.7/site-packages/pylogit/choice_tools.py:703: FutureWarning: arrays to stack must be passed as a \"sequence\" type such as list or tuple. Support for non-sequence iterables such as generators is deprecated as of NumPy 1.16 and will raise an error in the future.\n",
      "  design_matrix = np.hstack((x[:, None] for x in independent_vars))\n"
     ]
    },
    {
     "data": {
      "application/vnd.jupyter.widget-view+json": {
       "model_id": "48986e3b8da44279bb04233cd10a8e04",
       "version_major": 2,
       "version_minor": 0
      },
      "text/plain": [
       "HBox(children=(IntProgress(value=0, description='Simulating Choices', max=2351, style=ProgressStyle(descriptio…"
      ]
     },
     "metadata": {},
     "output_type": "display_data"
    },
    {
     "name": "stdout",
     "output_type": "stream",
     "text": [
      "\n",
      "Log-likelihood at zero: -4,467.9853\n",
      "Initial Log-likelihood: -4,467.9853\n"
     ]
    },
    {
     "name": "stderr",
     "output_type": "stream",
     "text": [
      "/Users/mobouzaghrane/opt/anaconda3/lib/python3.7/site-packages/scipy/optimize/_minimize.py:505: RuntimeWarning: Method BFGS does not use Hessian information (hess).\n",
      "  RuntimeWarning)\n"
     ]
    },
    {
     "name": "stdout",
     "output_type": "stream",
     "text": [
      "Estimation Time for Point Estimation: 0.20 seconds.\n",
      "Final log-likelihood: -1,709.1938\n",
      "Simulation number 59 is complete!\n",
      "==========================================\n",
      "==========================================\n",
      "Simulation number 60 is in process...\n",
      "------------------------------------------\n"
     ]
    },
    {
     "name": "stderr",
     "output_type": "stream",
     "text": [
      "/Users/mobouzaghrane/opt/anaconda3/lib/python3.7/site-packages/pylogit/choice_tools.py:703: FutureWarning: arrays to stack must be passed as a \"sequence\" type such as list or tuple. Support for non-sequence iterables such as generators is deprecated as of NumPy 1.16 and will raise an error in the future.\n",
      "  design_matrix = np.hstack((x[:, None] for x in independent_vars))\n"
     ]
    },
    {
     "data": {
      "application/vnd.jupyter.widget-view+json": {
       "model_id": "f400004cca3f4eefaabf7a8ad29af729",
       "version_major": 2,
       "version_minor": 0
      },
      "text/plain": [
       "HBox(children=(IntProgress(value=0, description='Simulating Choices', max=2826, style=ProgressStyle(descriptio…"
      ]
     },
     "metadata": {},
     "output_type": "display_data"
    },
    {
     "name": "stdout",
     "output_type": "stream",
     "text": [
      "\n",
      "Log-likelihood at zero: -5,379.5652\n",
      "Initial Log-likelihood: -5,379.5652\n"
     ]
    },
    {
     "name": "stderr",
     "output_type": "stream",
     "text": [
      "/Users/mobouzaghrane/opt/anaconda3/lib/python3.7/site-packages/scipy/optimize/_minimize.py:505: RuntimeWarning: Method BFGS does not use Hessian information (hess).\n",
      "  RuntimeWarning)\n"
     ]
    },
    {
     "name": "stdout",
     "output_type": "stream",
     "text": [
      "Estimation Time for Point Estimation: 0.27 seconds.\n",
      "Final log-likelihood: -1,902.0491\n",
      "Simulation number 60 is complete!\n",
      "==========================================\n",
      "==========================================\n",
      "Simulation number 61 is in process...\n",
      "------------------------------------------\n"
     ]
    },
    {
     "name": "stderr",
     "output_type": "stream",
     "text": [
      "/Users/mobouzaghrane/opt/anaconda3/lib/python3.7/site-packages/pylogit/choice_tools.py:703: FutureWarning: arrays to stack must be passed as a \"sequence\" type such as list or tuple. Support for non-sequence iterables such as generators is deprecated as of NumPy 1.16 and will raise an error in the future.\n",
      "  design_matrix = np.hstack((x[:, None] for x in independent_vars))\n"
     ]
    },
    {
     "data": {
      "application/vnd.jupyter.widget-view+json": {
       "model_id": "6f9cca77e0d943e5b2829201d025d6e9",
       "version_major": 2,
       "version_minor": 0
      },
      "text/plain": [
       "HBox(children=(IntProgress(value=0, description='Simulating Choices', max=2401, style=ProgressStyle(descriptio…"
      ]
     },
     "metadata": {},
     "output_type": "display_data"
    },
    {
     "name": "stdout",
     "output_type": "stream",
     "text": [
      "\n",
      "Log-likelihood at zero: -4,571.1851\n",
      "Initial Log-likelihood: -4,571.1851\n",
      "Estimation Time for Point Estimation: 0.20 seconds.\n",
      "Final log-likelihood: -1,576.1165\n"
     ]
    },
    {
     "name": "stderr",
     "output_type": "stream",
     "text": [
      "/Users/mobouzaghrane/opt/anaconda3/lib/python3.7/site-packages/scipy/optimize/_minimize.py:505: RuntimeWarning: Method BFGS does not use Hessian information (hess).\n",
      "  RuntimeWarning)\n"
     ]
    },
    {
     "name": "stdout",
     "output_type": "stream",
     "text": [
      "Simulation number 61 is complete!\n",
      "==========================================\n",
      "==========================================\n",
      "Simulation number 62 is in process...\n",
      "------------------------------------------\n"
     ]
    },
    {
     "name": "stderr",
     "output_type": "stream",
     "text": [
      "/Users/mobouzaghrane/opt/anaconda3/lib/python3.7/site-packages/pylogit/choice_tools.py:703: FutureWarning: arrays to stack must be passed as a \"sequence\" type such as list or tuple. Support for non-sequence iterables such as generators is deprecated as of NumPy 1.16 and will raise an error in the future.\n",
      "  design_matrix = np.hstack((x[:, None] for x in independent_vars))\n"
     ]
    },
    {
     "data": {
      "application/vnd.jupyter.widget-view+json": {
       "model_id": "6a296f221a334c3e81aea4c651296597",
       "version_major": 2,
       "version_minor": 0
      },
      "text/plain": [
       "HBox(children=(IntProgress(value=0, description='Simulating Choices', max=2393, style=ProgressStyle(descriptio…"
      ]
     },
     "metadata": {},
     "output_type": "display_data"
    },
    {
     "name": "stdout",
     "output_type": "stream",
     "text": [
      "\n",
      "Log-likelihood at zero: -4,570.6563\n",
      "Initial Log-likelihood: -4,570.6563\n"
     ]
    },
    {
     "name": "stderr",
     "output_type": "stream",
     "text": [
      "/Users/mobouzaghrane/opt/anaconda3/lib/python3.7/site-packages/scipy/optimize/_minimize.py:505: RuntimeWarning: Method BFGS does not use Hessian information (hess).\n",
      "  RuntimeWarning)\n"
     ]
    },
    {
     "name": "stdout",
     "output_type": "stream",
     "text": [
      "Estimation Time for Point Estimation: 0.23 seconds.\n",
      "Final log-likelihood: -1,571.3873\n",
      "Simulation number 62 is complete!\n",
      "==========================================\n",
      "==========================================\n",
      "Simulation number 63 is in process...\n",
      "------------------------------------------\n"
     ]
    },
    {
     "name": "stderr",
     "output_type": "stream",
     "text": [
      "/Users/mobouzaghrane/opt/anaconda3/lib/python3.7/site-packages/pylogit/choice_tools.py:703: FutureWarning: arrays to stack must be passed as a \"sequence\" type such as list or tuple. Support for non-sequence iterables such as generators is deprecated as of NumPy 1.16 and will raise an error in the future.\n",
      "  design_matrix = np.hstack((x[:, None] for x in independent_vars))\n"
     ]
    },
    {
     "data": {
      "application/vnd.jupyter.widget-view+json": {
       "model_id": "a55661e5fa80486f86b1f78bddcf2f44",
       "version_major": 2,
       "version_minor": 0
      },
      "text/plain": [
       "HBox(children=(IntProgress(value=0, description='Simulating Choices', max=2609, style=ProgressStyle(descriptio…"
      ]
     },
     "metadata": {},
     "output_type": "display_data"
    },
    {
     "name": "stdout",
     "output_type": "stream",
     "text": [
      "\n",
      "Log-likelihood at zero: -4,952.2075\n",
      "Initial Log-likelihood: -4,952.2075\n"
     ]
    },
    {
     "name": "stderr",
     "output_type": "stream",
     "text": [
      "/Users/mobouzaghrane/opt/anaconda3/lib/python3.7/site-packages/scipy/optimize/_minimize.py:505: RuntimeWarning: Method BFGS does not use Hessian information (hess).\n",
      "  RuntimeWarning)\n"
     ]
    },
    {
     "name": "stdout",
     "output_type": "stream",
     "text": [
      "Estimation Time for Point Estimation: 0.29 seconds.\n",
      "Final log-likelihood: -1,710.3341\n",
      "Simulation number 63 is complete!\n",
      "==========================================\n",
      "==========================================\n",
      "Simulation number 64 is in process...\n",
      "------------------------------------------\n"
     ]
    },
    {
     "name": "stderr",
     "output_type": "stream",
     "text": [
      "/Users/mobouzaghrane/opt/anaconda3/lib/python3.7/site-packages/pylogit/choice_tools.py:703: FutureWarning: arrays to stack must be passed as a \"sequence\" type such as list or tuple. Support for non-sequence iterables such as generators is deprecated as of NumPy 1.16 and will raise an error in the future.\n",
      "  design_matrix = np.hstack((x[:, None] for x in independent_vars))\n"
     ]
    },
    {
     "data": {
      "application/vnd.jupyter.widget-view+json": {
       "model_id": "4489d86cfc3a43c9972176d8dc60d527",
       "version_major": 2,
       "version_minor": 0
      },
      "text/plain": [
       "HBox(children=(IntProgress(value=0, description='Simulating Choices', max=2447, style=ProgressStyle(descriptio…"
      ]
     },
     "metadata": {},
     "output_type": "display_data"
    },
    {
     "name": "stdout",
     "output_type": "stream",
     "text": [
      "\n",
      "Log-likelihood at zero: -4,647.4409\n",
      "Initial Log-likelihood: -4,647.4409\n",
      "Estimation Time for Point Estimation: 0.19 seconds.\n",
      "Final log-likelihood: -1,666.2782\n"
     ]
    },
    {
     "name": "stderr",
     "output_type": "stream",
     "text": [
      "/Users/mobouzaghrane/opt/anaconda3/lib/python3.7/site-packages/scipy/optimize/_minimize.py:505: RuntimeWarning: Method BFGS does not use Hessian information (hess).\n",
      "  RuntimeWarning)\n"
     ]
    },
    {
     "name": "stdout",
     "output_type": "stream",
     "text": [
      "Simulation number 64 is complete!\n",
      "==========================================\n",
      "==========================================\n",
      "Simulation number 65 is in process...\n",
      "------------------------------------------\n"
     ]
    },
    {
     "name": "stderr",
     "output_type": "stream",
     "text": [
      "/Users/mobouzaghrane/opt/anaconda3/lib/python3.7/site-packages/pylogit/choice_tools.py:703: FutureWarning: arrays to stack must be passed as a \"sequence\" type such as list or tuple. Support for non-sequence iterables such as generators is deprecated as of NumPy 1.16 and will raise an error in the future.\n",
      "  design_matrix = np.hstack((x[:, None] for x in independent_vars))\n"
     ]
    },
    {
     "data": {
      "application/vnd.jupyter.widget-view+json": {
       "model_id": "8061408ce9f445f6b1f5a20e374002a7",
       "version_major": 2,
       "version_minor": 0
      },
      "text/plain": [
       "HBox(children=(IntProgress(value=0, description='Simulating Choices', max=2623, style=ProgressStyle(descriptio…"
      ]
     },
     "metadata": {},
     "output_type": "display_data"
    },
    {
     "name": "stdout",
     "output_type": "stream",
     "text": [
      "\n",
      "Log-likelihood at zero: -4,974.2243\n",
      "Initial Log-likelihood: -4,974.2243\n"
     ]
    },
    {
     "name": "stderr",
     "output_type": "stream",
     "text": [
      "/Users/mobouzaghrane/opt/anaconda3/lib/python3.7/site-packages/scipy/optimize/_minimize.py:505: RuntimeWarning: Method BFGS does not use Hessian information (hess).\n",
      "  RuntimeWarning)\n"
     ]
    },
    {
     "name": "stdout",
     "output_type": "stream",
     "text": [
      "Estimation Time for Point Estimation: 0.24 seconds.\n",
      "Final log-likelihood: -1,675.8438\n",
      "Simulation number 65 is complete!\n",
      "==========================================\n",
      "==========================================\n",
      "Simulation number 66 is in process...\n",
      "------------------------------------------\n"
     ]
    }
   ],
   "source": [
    "simulation_size = np.random.randint(low=2000, high=3000, size=100)\n",
    "sim_number = np.arange(1,101)\n",
    "models_dictionary = defaultdict(dict)\n",
    "\n",
    "for size, number in zip(simulation_size, sim_number):\n",
    "    print('Simulation number', number , 'is in process...')\n",
    "    print('------------------------------------------')\n",
    "\n",
    "    sim_data = SimDf(params_dict=bike_data_params,\n",
    "                     size = size)\n",
    "\n",
    "    wide_sim_data = SimulateAvailability(data_long=bike_data_long, \n",
    "                                         sim_data=sim_data, \n",
    "                                         obs_id_col=observation_id_col, \n",
    "                                         alt_name_dict=alternative_name_dict)\n",
    "\n",
    "    wide_sim_data[obs_id_column] = np.arange(wide_sim_data.shape[0],\n",
    "                                            dtype=int) + 1\n",
    "    \n",
    "    long_sim_data = pl.convert_wide_to_long(wide_data=wide_sim_data,\n",
    "                                            ind_vars=ind_variables, \n",
    "                                            alt_specific_vars=alt_varying_variables, \n",
    "                                            availability_vars=availability_variables,\n",
    "                                            obs_id_col=observation_id_col,\n",
    "                                            choice_col=choice_column,\n",
    "                                            new_alt_id_name=custom_alt_id)\n",
    "    \n",
    "    # Create a cars per licensed drivers column\n",
    "    long_sim_data[\"cars_per_licensed_drivers\"] = 0\n",
    "    long_sim_data.loc[long_sim_data.num_licensed_drivers > 0,\n",
    "                      \"cars_per_licensed_drivers\"] = long_sim_data.num_cars / long_sim_data.num_licensed_drivers.astype(float)\n",
    "\n",
    "    # Add a variable representing cost divided by distance\n",
    "    long_sim_data[\"cost_per_distance\"] = 0\n",
    "    long_sim_data.loc[long_sim_data.mode_id.isin([1, 2, 3]),\n",
    "                      \"cost_per_distance\"] = (long_sim_data.loc[long_sim_data.mode_id.isin([1, 2, 3]),\n",
    "                                                                \"total_travel_cost\"] /\n",
    "                                              long_sim_data.loc[long_sim_data.mode_id.isin([1, 2, 3]),\n",
    "                                                        \"total_travel_distance\"])\n",
    "    \n",
    "\n",
    "    posterior_probs = mnl_model.predict(long_sim_data)\n",
    "\n",
    "    long_sim_data['sim_choice'] = simulate_choice_vector(posterior_probs,\n",
    "                                                         long_sim_data['observation_id'].values)\n",
    "\n",
    "    # Estimate the basic MNL model, using the hessian and newton-conjugate gradient\n",
    "    mnl_model_sim = pl.create_choice_model(data=long_sim_data,\n",
    "                                           alt_id_col=alternative_id_col,\n",
    "                                           obs_id_col=observation_id_col,\n",
    "                                           choice_col=choice_column,\n",
    "                                           specification=mnl_specification,\n",
    "                                           model_type=\"MNL\",\n",
    "                                           names=mnl_names)\n",
    "\n",
    "    num_vars = len(reduce(lambda x, y: x + y, mnl_names.values()))\n",
    "    # Note newton-cg used to ensure convergence to a point where gradient \n",
    "    # is essentially zero for all dimensions. \n",
    "    mnl_model_sim.fit_mle(np.zeros(num_vars),\n",
    "                          method=\"BFGS\")\n",
    "\n",
    "    models_dictionary[number] = mnl_model_sim\n",
    "    \n",
    "    print('Simulation number', number , 'is complete!')\n",
    "    print('==========================================')\n",
    "    print('==========================================')"
   ]
  },
  {
   "cell_type": "code",
   "execution_count": null,
   "metadata": {},
   "outputs": [],
   "source": []
  }
 ],
 "metadata": {
  "jupytext": {
   "formats": "ipynb,md"
  },
  "kernelspec": {
   "display_name": "Python 3",
   "language": "python",
   "name": "python3"
  },
  "language_info": {
   "codemirror_mode": {
    "name": "ipython",
    "version": 3
   },
   "file_extension": ".py",
   "mimetype": "text/x-python",
   "name": "python",
   "nbconvert_exporter": "python",
   "pygments_lexer": "ipython3",
   "version": "3.7.4"
  }
 },
 "nbformat": 4,
 "nbformat_minor": 4
}
