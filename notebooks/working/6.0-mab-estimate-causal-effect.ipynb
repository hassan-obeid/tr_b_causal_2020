{
 "cells": [
  {
   "cell_type": "markdown",
   "metadata": {},
   "source": [
    "# Importing packages "
   ]
  },
  {
   "cell_type": "code",
   "execution_count": 1,
   "metadata": {},
   "outputs": [],
   "source": [
    "import sys\n",
    "sys.path.append('../../src/')"
   ]
  },
  {
   "cell_type": "code",
   "execution_count": 2,
   "metadata": {},
   "outputs": [],
   "source": [
    "import numpy as np\n",
    "import pandas as pd\n",
    "import matplotlib.pyplot as plt\n",
    "from functools import reduce\n",
    "import seaborn as sns\n",
    "import statsmodels.api as sm\n",
    "import copy\n",
    "from scipy import sparse\n",
    "import scipy.stats\n",
    "import random\n",
    "from fitter import Fitter\n",
    "import attr\n",
    "from causalgraphicalmodels import CausalGraphicalModel, StructuralCausalModel\n",
    "from collections import defaultdict, OrderedDict\n",
    "import pylogit as pl\n",
    "import viz\n",
    "from array import array"
   ]
  },
  {
   "cell_type": "markdown",
   "metadata": {},
   "source": [
    "# 0. Functions for Documentation Purposes "
   ]
  },
  {
   "cell_type": "markdown",
   "metadata": {},
   "source": [
    "## 0.1. Distribution Fitting Class Definition - **Could be removed** - For Documentation Purposes"
   ]
  },
  {
   "cell_type": "code",
   "execution_count": 3,
   "metadata": {},
   "outputs": [],
   "source": [
    "# class FitDistribution(object):\n",
    "#     \"\"\"Fit and simulate data to known distributions.\n",
    "\n",
    "#     Input:\n",
    "#     ------\n",
    "#     - data: array-like or dataframe.\n",
    "#     - dists: list.\n",
    "#         This parameter contains a list of distributions to be explored.\n",
    "#         When None, every available distribution on scipy is explored.\n",
    "#     - bins: int.\n",
    "#         Numbers of bins to be used for the cumulative histogram. This has\n",
    "#         an impact on the quality of the fit.\n",
    "#     - timeout: int.\n",
    "#         Maximum time for a given distribution. If timeout is reached,\n",
    "#         the distribution is skipped.\n",
    "#         \"\"\"\n",
    "#     def __init__(self, data, dists=None, timeout=30, verbose=False, bins=100):\n",
    "#         self.data = data\n",
    "#         # self.var_types = var_types\n",
    "#         self.dists = dists\n",
    "#         self.timeout = timeout\n",
    "#         self.verbose = verbose\n",
    "#         self.bins = bins\n",
    "#         self.ArrayDistDict = defaultdict()\n",
    "#         self.params_dict = defaultdict(dict)\n",
    "\n",
    "#     def FindArrayDist(self, cat_var):\n",
    "#         \"\"\"Function to extract the best distribution for a specified array.\n",
    "#         Uses the fit method from the Fitter module in the fitter library\n",
    "#         Inputs:\n",
    "#         -------\n",
    "#         - cat_var: boolean\n",
    "#             Boolean to signify whether the variable to be simulated\n",
    "#             is discrete/categorical or continuous.\n",
    "\n",
    "#         Outputs:\n",
    "#         -------\n",
    "#         By default, the function returns a dictionary with best distribution\n",
    "#         name and parameters associated with it. If a number of distributions\n",
    "#         was specified, the function returns a pandas DataFrame with\n",
    "#         the N best distributions, along with a plot showing all of them.\"\"\"\n",
    "#         self.ArrayDistDict = dict()\n",
    "#         if cat_var is True:\n",
    "#             self.ArrayDistDict['distribution'] = 'categorical'\n",
    "#             np_array_range = np.arange(self.data.max()+1)\n",
    "#             array_bincount = np.bincount(self.data)\n",
    "#             probs = array_bincount / len(self.data)\n",
    "\n",
    "#             self.ArrayDistDict['parameters'] = [np_array_range,\n",
    "#                                                 probs]\n",
    "#         else:\n",
    "#             fitter_object = Fitter(data=self.data,\n",
    "#                                    distributions=self.dists,\n",
    "#                                    timeout=self.timeout)\n",
    "#             fitter_object.fit()\n",
    "#             BestDict = fitter_object.get_best()\n",
    "#             self.ArrayDistDict['distribution'] = list(BestDict.items())[0][0]\n",
    "#             self.ArrayDistDict['parameters'] = list(BestDict.items())[0][1]\n",
    "#         return self.ArrayDistDict\n",
    "\n",
    "#     def SimArray(self, size=100):\n",
    "#         \"\"\"Function to simulate data for an array based on the best fitted\n",
    "#         distribution.\n",
    "#         Input:\n",
    "#         -----\n",
    "#         - size : int\n",
    "#                 size of the array to be simulated.\n",
    "#         Outputs:\n",
    "#         -------\n",
    "#         Simulated array based on the best fit distribution.\"\"\"\n",
    "#         if self.ArrayDistDict['distribution'] == 'categorical':\n",
    "#             value = self.ArrayDistDict['parameters'][0]\n",
    "#             freq = self.ArrayDistDict['parameters'][1]\n",
    "#             Sim_Array = np.random.choice(a=value,\n",
    "#                                          p=freq,\n",
    "#                                          size=size)\n",
    "#         else:\n",
    "#             dist = getattr(scipy.stats, self.ArrayDistDict['distribution'])\n",
    "#             Sim_Array = dist.rvs(*self.ArrayDistDict['parameters'], size=size)\n",
    "#         return Sim_Array\n",
    "\n",
    "#     def FindDfDist(self, var_types):\n",
    "#         \"\"\"Function to extract the best distribution from a specified\n",
    "#         dataframe. Uses the function find_dist, which in turn uses the\n",
    "#         fit method from the Fitter module in the fitter library\n",
    "#         Inputs:\n",
    "#         -------\n",
    "#         - var_types: dictionary\n",
    "#             Dictionary with keys as column names for dataset variables,\n",
    "#             the value of each key is a string showing whether the\n",
    "#             variable is discrete/cat or continuous.\n",
    "\n",
    "#         Outputs:\n",
    "#         -------\n",
    "#         *FOR NOW*, the function returns a dictionary showing the best\n",
    "#         distribution name for each array in the dataframe and parameters\n",
    "#         associated with it.\n",
    "#         \"\"\"\n",
    "\n",
    "#         for column in list(self.data.columns):\n",
    "\n",
    "#             if var_types[column] == 'categorical':\n",
    "#                 if len(self.data[column].unique()) == 1:\n",
    "#                     self.params_dict[column]['distribution'] = 'constant'\n",
    "#                     self.params_dict[column]['parameters'] = \\\n",
    "#                         self.data[column].unique()\n",
    "#                 else:\n",
    "#                     self.params_dict[column]['distribution'] = 'categorical'\n",
    "#                     np_array_range = np.arange(self.data[column].max()+1)\n",
    "#                     array_bincount = np.bincount(self.data[column])\n",
    "#                     probs = array_bincount / len(self.data[column])\n",
    "#                     self.params_dict[column]['parameters'] = [np_array_range,\n",
    "#                                                               probs]\n",
    "#             else:\n",
    "#                 if len(self.data[column].unique()) == 1:\n",
    "#                     self.params_dict[column]['distribution'] = 'constant'\n",
    "#                     self.params_dict[column]['parameters'] = \\\n",
    "#                         self.data[column].unique()\n",
    "#                 else:\n",
    "#                     fitter_object = Fitter(data=self.data[column],\n",
    "#                                            distributions=self.dists,\n",
    "#                                            timeout=self.timeout)\n",
    "#                     fitter_object.fit()\n",
    "#                     BestDict = fitter_object.get_best()\n",
    "#                     self.params_dict[column]['distribution'] = \\\n",
    "#                         list(BestDict.items())[0][0]\n",
    "#                     self.params_dict[column]['parameters'] = \\\n",
    "#                         list(BestDict.items())[0][1]\n",
    "#         return self.params_dict\n",
    "\n",
    "#     def SimDf(self, size=1000):\n",
    "#         \"\"\"Funtion to simulate data of size N based on specified\n",
    "#         distribution/parameters found by the fitter package.\n",
    "#         Inputs:\n",
    "#         -------\n",
    "#         data: dataframe from which columns are to be taken\n",
    "#         dist_params: the distribution parameters from find_dist_df\n",
    "#         Outputs:\n",
    "#         -------\n",
    "#         DataFrame object with simulated data based on specified distributions\n",
    "#         \"\"\"\n",
    "#         Sim_Df = pd.DataFrame(columns=list(self.params_dict.keys()))\n",
    "#         Sim_Df = Sim_Df.fillna(0)\n",
    "#         for column in list(self.params_dict.keys()):\n",
    "#             if self.params_dict[column]['distribution'] == 'categorical':\n",
    "#                 value = self.params_dict[column]['parameters'][0]\n",
    "#                 freq = self.params_dict[column]['parameters'][1]\n",
    "#                 data_sim = np.random.choice(a=value,\n",
    "#                                             p=freq,\n",
    "#                                             size=size)\n",
    "#                 Sim_Df[column] = data_sim\n",
    "#             elif self.params_dict[column]['distribution'] == 'constant':\n",
    "#                 data_sim = self.params_dict[column]['parameters'][0]\n",
    "#                 Sim_Df[column] = data_sim\n",
    "#             else:\n",
    "#                 dist = getattr(scipy.stats,\n",
    "#                                self.params_dict[column]['distribution'])\n",
    "#                 data_sim = dist.rvs(*self.params_dict[column]['parameters'],\n",
    "#                                     size=size)\n",
    "#                 Sim_Df[column] = data_sim\n",
    "#         return Sim_Df"
   ]
  },
  {
   "cell_type": "markdown",
   "metadata": {},
   "source": [
    "## 0.2. Functions to calculate probabilities for each alternative - **(Replaced by functions from TB)** - For Documentation Purposes"
   ]
  },
  {
   "cell_type": "code",
   "execution_count": 4,
   "metadata": {},
   "outputs": [],
   "source": [
    "# def add_intercept_to_df(df_long, specification_dict):\n",
    "\n",
    "#     if (\"intercept\" in specification_dict\n",
    "#             and \"intercept\" not in df_long.columns):\n",
    "#         df_long[\"intercept\"] = 1\n",
    "#     return None\n",
    "\n",
    "\n",
    "# def create_design_matrix(df_long, specification_dict,\n",
    "#                          names_dict, alternative_id_col):\n",
    "\n",
    "#     add_intercept_to_df(df_long, specification_dict)\n",
    "\n",
    "#     columns = []\n",
    "#     for col in specification_dict:\n",
    "#         for group in specification_dict[col]:\n",
    "#             if type(group) == list:\n",
    "#                 columns.append(df_long[alternative_id_col].isin(group)\n",
    "#                                * df_long[col])\n",
    "#             else:\n",
    "#                 columns.append((df_long[alternative_id_col] == group)\n",
    "#                                * df_long[col])\n",
    "\n",
    "#     design_matrix = np.stack(columns, axis=1)\n",
    "\n",
    "#     var_names = []\n",
    "#     for variable in names_dict:\n",
    "#         for name in names_dict[variable]:\n",
    "#             var_names.append(name)\n",
    "\n",
    "#     return design_matrix, var_names\n",
    "\n",
    "\n",
    "# def calculate_utilities(betas, design_matrix):\n",
    "\n",
    "#     limit_max = 700\n",
    "#     limit_min = -700\n",
    "\n",
    "#     utility = design_matrix.dot(betas)\n",
    "#     utility[utility > limit_max] = limit_max\n",
    "#     utility[utility < limit_min] = limit_min\n",
    "\n",
    "#     utilities = np.exp(utility)\n",
    "\n",
    "#     return utilities\n",
    "\n",
    "\n",
    "# def create_mapping_matrix(df_long, observation_id_col):\n",
    "#     row_to_col_matrix = pd.get_dummies(df_long[observation_id_col]).values\n",
    "# #     row_to_col_matrix = (df_long[observation_id_col].values[:,None] ==\n",
    "# #                          np.sort(df_long[observation_id_col].unique())[None,:]).astype(int)\n",
    "#     sparse_row_to_col_matrix = sparse.csr_matrix(row_to_col_matrix)\n",
    "\n",
    "#     mapping_matrix = sparse_row_to_col_matrix.dot(sparse_row_to_col_matrix.T)\n",
    "\n",
    "#     return mapping_matrix\n",
    "\n",
    "\n",
    "# def calculate_probabilities(betas, design_matrix, mapping_matrix):\n",
    "\n",
    "#     utilities = calculate_utilities(betas, design_matrix)\n",
    "#     denominator = mapping_matrix.dot(utilities)\n",
    "#     probabilities = utilities/denominator\n",
    "#     probabilities[probabilities == 0] = 1e-300\n",
    "\n",
    "#     return probabilities"
   ]
  },
  {
   "cell_type": "markdown",
   "metadata": {},
   "source": [
    "## 0.3. Function to simulate choices based on long data format - For Documentation Purposes"
   ]
  },
  {
   "cell_type": "code",
   "execution_count": 5,
   "metadata": {},
   "outputs": [],
   "source": [
    "# def SimulateChoices(long_data, alt_id_col,\n",
    "#                     obs_id_col, number_alts,\n",
    "#                     spec_dic, names_dic, init_betas):\n",
    "#     \"\"\"\n",
    "#     Function to simulate choices from a long data\n",
    "#     format dataset.\n",
    "    \n",
    "#     Parameters\n",
    "#     ----------\n",
    "#     long_data : DataFrame\n",
    "#         The DataFrame to be used, in long format.\n",
    "#     alt_id_col: string\n",
    "#         Name of the column containing the alternative\n",
    "#         id numbers in the long format dataset.\n",
    "#     obs_id_col: string\n",
    "#         Name of the column containing the observation\n",
    "#         id numbers in the long format dataset.\n",
    "#     number_alts: int\n",
    "#         Number of alternatives in the long format\n",
    "#         dataset.\n",
    "#     spec_dic: dictionary\n",
    "#         Dictionary of the model specification.\n",
    "#     names_dic: dictionary\n",
    "#         Dictionary of the alternative names.\n",
    "#     init_betas: list\n",
    "#         List of the initial betas for the model\n",
    "#         from which the choices should be simulated.\n",
    "    \n",
    "#     Returns\n",
    "#     -------\n",
    "#     DataFrame object with the simulated choices column\n",
    "#     added as 'sim_choice'\n",
    "#     \"\"\"\n",
    "#     # Declare the simulated choice column name\n",
    "#     sim_choice_col = 'sim_choice'\n",
    "\n",
    "#     # Make a copy of the data\n",
    "#     data = copy.deepcopy(long_data)\n",
    "#     # Functions to generate the design matrix, mapping matrix,\n",
    "#     # and calculate the probabilities for each alternative\n",
    "#     design_matrix, names = create_design_matrix(df_long=data,\n",
    "#                                                 specification_dict=spec_dic,\n",
    "#                                                 names_dict=names_dic,\n",
    "#                                                 alternative_id_col=alt_id_col)\n",
    "#     mapping_matrix = create_mapping_matrix(df_long=data,\n",
    "#                                            observation_id_col=obs_id_col)\n",
    "#     probabilities = calculate_probabilities(betas=initial_betas,\n",
    "#                                             design_matrix=design_matrix,\n",
    "#                                             mapping_matrix=mapping_matrix)\n",
    "#     # Assign calculated probabilities to new dataframe column\n",
    "#     data['probabilities'] = probabilities\n",
    "#     # Initialize cumulative sum and simulated choice columns\n",
    "#     data['cum_sum'] = 0\n",
    "#     data['sim_choice'] = 0\n",
    "\n",
    "#     # Loop around the observations and compute probabilities' cumulative\n",
    "#     # sums for each alternative\n",
    "#     for observation in data['observation_id'].unique():\n",
    "#         probs_sum = data[long_data.observation_id == observation]['probabilities'].cumsum()\n",
    "#         data.loc[data['observation_id'] == observation, 'cum_sum'] = probs_sum\n",
    "\n",
    "#     # Generate list for observation ids to be used in simulating choices    \n",
    "#     observation_id_list = list(data.observation_id.unique())\n",
    "#     # Generate a \"random utility\" array of the same size as the number\n",
    "#     # of observations in the dataset\n",
    "#     u_random = np.random.uniform(size=len(data['observation_id'].unique()))\n",
    "\n",
    "#     # Loop around the generate utilities and observations in the dataset\n",
    "#     # to assign a choice to each\n",
    "#     for u, obs in zip(u_random, observation_id_list):\n",
    "#         # select data for observation number \"obs\"\n",
    "#         data_sample = data[data['observation_id'] == obs]\n",
    "#         # generate list of available modes for each observation\n",
    "#         sorted_list = sorted(list(data_sample['mode_id'].unique()))\n",
    "#         # initialize a dictionary from the available modes for \n",
    "#         # each observation\n",
    "#         choices = dict.fromkeys(sorted_list, 0)\n",
    "#         # Loop round the modes for each observation and assign \n",
    "#         # choice (0 vs. 1)\n",
    "#         for alt in sorted_list:\n",
    "#             choices[alt] = np.where(u <= data_sample[data_sample['mode_id']\n",
    "#                                                      == alt]\n",
    "#                                     ['cum_sum'], 1, 0).item()\n",
    "#             # Once a choice is assigned, break out of loop\n",
    "#             if choices[alt] == 1:\n",
    "#                 break\n",
    "#         # Map the choices for the observation to the long format dataframe       \n",
    "#         data.loc[data.observation_id == obs, sim_choice_col] = \\\n",
    "#             data['mode_id'].map(choices)\n",
    "#     return data"
   ]
  },
  {
   "cell_type": "code",
   "execution_count": 6,
   "metadata": {},
   "outputs": [],
   "source": [
    "# ## These functions are to be ignored, they are here for historical purposes\n",
    "\n",
    "# def CreateChoiceDF(*argv):\n",
    "#     \"\"\"\n",
    "#     Function that generates a dataframe object for all desired variables.\n",
    "#     Input:\n",
    "#     ------\n",
    "#     Series of tuples showing the variable and desired variable name\n",
    "#     in the output dataframe.\n",
    "#     Example, if the user desired to created a dataframe with 2 variables,\n",
    "#     the function should be called as follows:\n",
    "#     df = CreateChoiceDF((\"var1_name\", var1),(\"var2_name\", var2))  \n",
    "#     Output:\n",
    "#     -------\n",
    "#     DataFrame object\n",
    "#     \"\"\"\n",
    "#     data_dict = dict()\n",
    "#     for arg in argv:\n",
    "#         data_dict[arg[0]] = arg[1]\n",
    "#     sample_data = pd.DataFrame(data_dict)\n",
    "#     return sample_data\n",
    "\n",
    "# def SimulateChoices(data, alt_id_col, obs_id_col, number_alts, spec_dic, names_dic, init_betas):\n",
    "\n",
    "# # This commented out block is to extend the capabilities of the function from simulating choices\n",
    "# # only based on long data to wide data. The logic is built out completely, all we need is to \n",
    "# # refactor it and adjust the parameters in the function definition.\n",
    "# #     choice_var = 'choice'\n",
    "# #     custom_alt_id = \"alternative_id\"\n",
    "# #     obs_id_column = \"custom_id\"\n",
    "\n",
    "# #     # Adding a Choice Variable Column\n",
    "# #     data[choice_var] = np.random.randint(1, high=number_alts+1, size=data.shape[0])\n",
    "# #     availability_variables = dict()\n",
    "\n",
    "# #     # Adding availability variables and specifying alternative availability numbers\n",
    "# #     for alt in np.arange(1, number_alts+1, 1):\n",
    "# #         data['AV_' + str(alt)] = 1\n",
    "# #         availability_variables[alt] = 'AV_' + str(alt)\n",
    "\n",
    "# #     # Specifying the Individual Variables\n",
    "# #     ind_variables = ind_variables\n",
    "\n",
    "# #     alt_varying_variables = alt_var_vars\n",
    "# #     # Specifying the column heading for the alternative id column in the\n",
    "# #     # long format dataset\n",
    "# #     custom_alt_id = \"alternative_id\"\n",
    "# #     obs_id_column = \"custom_id\"\n",
    "# #     sample_data[obs_id_column] = np.arange(sample_data.shape[0],\n",
    "# #                                            dtype=int) + 1\n",
    "\n",
    "# #     # Create a variable recording the choice column\n",
    "\n",
    "# #     long_data = pl.convert_wide_to_long(wide_data=sample_data,\n",
    "# #                                         ind_vars=ind_variables,\n",
    "# #                                         alt_specific_vars=alt_varying_variables,\n",
    "# #                                         availability_vars=availability_variables,\n",
    "# #                                         obs_id_col=obs_id_column,\n",
    "# #                                         choice_col=choice_var,\n",
    "# #                                         new_alt_id_name=custom_alt_id)\n",
    "#     sim_choice_var = 'sim_choice'\n",
    "#     # Functions to generate the probabilities for each alternative\n",
    "\n",
    "#     long_data = data\n",
    "\n",
    "#     design_matrix, names = create_design_matrix(df_long=long_data,\n",
    "#                                                 specification_dict=mnl_specification,\n",
    "#                                                 names_dict=mnl_names,\n",
    "#                                                 alternative_id_col=alt_id_col)\n",
    "#     mapping_matrix = create_mapping_matrix(df_long=long_data,\n",
    "#                                            observation_id_col=obs_id_col)\n",
    "#     probabilities = calculate_probabilities(betas=initial_betas,\n",
    "#                                             design_matrix=design_matrix,\n",
    "#                                             mapping_matrix=mapping_matrix)\n",
    "\n",
    "#     data['probabilities'] = probabilities\n",
    "#     data['cum_sum'] = 0\n",
    "#     data['sim_choice'] = 0\n",
    "\n",
    "#     for observation in data['observation_id'].unique():\n",
    "#         probs_sum = data[data.observation_id==observation]['probabilities'].cumsum()\n",
    "#         data.loc[data['observation_id']==observation,'cum_sum'] = probs_sum\n",
    "\n",
    "#     observation_id_list = list(data.observation_id.unique())\n",
    "#     u_random = np.random.uniform(size = len(data['observation_id'].unique()))\n",
    "\n",
    "#     for u,obs in zip(u_random,observation_id_list):\n",
    "#         data_sample = data[data['observation_id']==obs]\n",
    "#         sorted_list = sorted(list(data_sample['mode_id'].unique()))\n",
    "#         choices = dict.fromkeys(sorted_list, 0)\n",
    "#         for alt in sorted_list:   \n",
    "#             choices[alt] = np.where(u<=data_sample[data_sample['mode_id']==alt]['cum_sum'], 1, 0).item()\n",
    "#             if choices[alt] == 1:\n",
    "#                 break\n",
    "#         data.loc[data.observation_id==obs,'sim_choice'] = data['mode_id'].map(choices)\n",
    "#     return data"
   ]
  },
  {
   "cell_type": "markdown",
   "metadata": {},
   "source": [
    "# 1. Define functions to be used in notebook"
   ]
  },
  {
   "cell_type": "code",
   "execution_count": 7,
   "metadata": {},
   "outputs": [],
   "source": [
    "def DistNodeNoParent(data_long,\n",
    "                     alt_id_col,\n",
    "                     obs_id_col,\n",
    "                     alt_spec_dic,\n",
    "                     alt_name_dic,\n",
    "                     ind_spec,\n",
    "                     trip_spec,\n",
    "                     var_types,\n",
    "                     cont_dists=None):\n",
    "    \"\"\"\n",
    "    Function to find the distribution of specific variables\n",
    "    from a long format dataset.\n",
    "    \n",
    "    Parameters\n",
    "    ----------\n",
    "    data_long: Pandas DataFrame\n",
    "        Dataset in long format from which variable\n",
    "        distribution is to be found.\n",
    "        \n",
    "    alt_id_col: string\n",
    "        Name of the column with alternative ids.\n",
    "        \n",
    "    obs_id_col: string\n",
    "        Name of the column with observation ids.\n",
    "        \n",
    "    alt_spec_dic: dictionary\n",
    "        Dictionary with keys as the ordered number\n",
    "        of alternatives, and the value for each key\n",
    "        is a list of strings representing the name of\n",
    "        variables without parents per alternative.\n",
    "        \n",
    "    alt_name_dic: dictionary\n",
    "        Dictionary with keys as the ordered number\n",
    "        of alternatives, and the value for each key\n",
    "        is a string representing the name of the \n",
    "        alternative.\n",
    "        \n",
    "    ind_spec: list\n",
    "        List containing strings of the names of \n",
    "        individual specific variables.\n",
    "        \n",
    "    trip_spec: list\n",
    "        List containing string of the names of \n",
    "        trip specific variables.\n",
    "        \n",
    "    var_types: dictionary\n",
    "        Dictionary with keys as strings of names of variables\n",
    "        from long format dataset, and values for each key are\n",
    "        the type of variables (e.g.: 'categorical vs. continuous').\n",
    "        \n",
    "    cont_dists: list\n",
    "        List of continuous RVs distribution names from scipy.\n",
    "        \n",
    "    Returns\n",
    "    -------\n",
    "    a nested dictionary with keys as variable names and values\n",
    "    as dictionaries containing both the distribution name and\n",
    "    its parameters.\n",
    "    \"\"\"\n",
    "    \n",
    "    params_dict = {}\n",
    "\n",
    "    # Code for Individual Specific Variables\n",
    "    for ind in ind_spec:\n",
    "        # generate array of values for individual specific variable\n",
    "        ind_var = pd.Series([(data_long.loc[data_long[obs_id_col] == x][ind].unique()[0]) for x in data_long[obs_id_col].unique()])  \n",
    "        # Get distribution if variable is categorical\n",
    "        if var_types[ind] in ['categorical', 'numerical']:\n",
    "            # If only one category\n",
    "            if len(ind_var.unique()) == 1:\n",
    "                params_dict.setdefault(ind,{})['distribution'] = 'constant'\n",
    "                params_dict.setdefault(ind,{})['parameters'] = ind_var.unique()\n",
    "            # If more than one category\n",
    "            else:\n",
    "                params_dict.setdefault(ind,{})['distribution'] = 'categorical'\n",
    "                # Count frequency of values and store it as paramater of distribution\n",
    "                np_array_range = np.arange(ind_var.max()+1)\n",
    "                array_bincount = np.bincount(ind_var)\n",
    "                probs = array_bincount / len(ind_var)\n",
    "                params_dict.setdefault(ind,{})['parameters'] = [np_array_range,\n",
    "                                                  probs]\n",
    "        else:\n",
    "            # If not categorical but just one unique value\n",
    "            if len(ind_var.unique()) == 1:\n",
    "                params_dict.setdefault(ind,{})['distribution'] = 'constant'\n",
    "                params_dict.setdefault(ind,{})['parameters'] = ind_var.unique()\n",
    "            # If not categorical but not one unique value\n",
    "            else:\n",
    "                # Use the Fitter library to fit distributions\n",
    "                # to the data\n",
    "                fitter_object = Fitter(data=ind_var,\n",
    "                                       distributions=cont_dists,\n",
    "                                       timeout=60)\n",
    "                fitter_object.fit()\n",
    "                # Get the best distribution and store in dictionary\n",
    "                BestDict = fitter_object.get_best()\n",
    "                params_dict.setdefault(ind,{})['distribution'] = list(BestDict.items())[0][0]\n",
    "                params_dict.setdefault(ind,{})['parameters'] = list(BestDict.items())[0][1]\n",
    "\n",
    "    # Code for Alternative Specific Variables\n",
    "    # Loop around the different available alternatives\n",
    "    for alt in data_long[alt_id_col].unique():\n",
    "        # Store data for specific alternative (mode)\n",
    "        mode_data = data_long.loc[data_long[alt_id_col] == alt]\n",
    "        # Loop around the alternative specific variables in the input dictionary\n",
    "        for var in alt_spec_dic[alt]:\n",
    "            # If data is to be taken as empirical values\n",
    "            if var_types[var] == 'empirical':\n",
    "                # If only one value\n",
    "                if len(mode_data[var].unique()) == 1:\n",
    "                    # Add name of alternative to variable and store distriburion & parameters\n",
    "                    params_dict.setdefault(var +'_'+ alt_name_dic[alt], {})['distribution'] = 'constant'\n",
    "                    params_dict.setdefault(var +'_'+ alt_name_dic[alt], {})['parameters'] = mode_data[var].unique()\n",
    "                else:\n",
    "                    # Add name of alternative to variable and store distriburion & parameters\n",
    "                    params_dict.setdefault(var +'_'+ alt_name_dic[alt], {})['distribution'] = 'empirical'\n",
    "                    params_dict.setdefault(var +'_'+ alt_name_dic[alt], {})['parameters'] = np.array(mode_data[var])\n",
    "            # If data is categorical\n",
    "            elif var_types[var] == 'categorical':\n",
    "                # If only one category\n",
    "                if len(mode_data[var].unique()) == 1:\n",
    "                    # Add name of alternative to variable and store distriburion & parameters\n",
    "                    params_dict.setdefault(var +'_'+ alt_name_dic[alt], {})['distribution'] = 'constant'\n",
    "                    params_dict.setdefault(var +'_'+ alt_name_dic[alt], {})['parameters'] = mode_data[var].unique()\n",
    "                else:\n",
    "                    # If more than one category, compute the frequency of values\n",
    "                    # and store as parameters\n",
    "                    # Add name of alternative to variable and store distriburion & parameters\n",
    "                    params_dict.setdefault(var +'_'+ alt_name_dic[alt], {})['distribution'] = 'categorical'\n",
    "                    np_array_range = np.arange(mode_data[var].max()+1)\n",
    "                    array_bincount = np.bincount(mode_data[var])\n",
    "                    probs = array_bincount / len(mode_data[var])\n",
    "                    params_dict.setdefault(var +'_'+ alt_name_dic[alt], {})['parameters'] = [np_array_range,\n",
    "                                                                            probs]\n",
    "            else:\n",
    "                # If data is not categorical but has one unique value\n",
    "                if len(mode_data[var].unique()) == 1:\n",
    "                    # Add name of alternative to variable and store distriburion & parameters\n",
    "                    params_dict.setdefault(var +'_'+ alt_name_dic[alt], {})['distribution'] = 'constant'\n",
    "                    params_dict.setdefault(var +'_'+ alt_name_dic[alt], {})['parameters'] = mode_data[var].unique()\n",
    "                # If data is not categorical but has more than one unique value\n",
    "                else:\n",
    "                    # Use the Fitter library to fit distributions\n",
    "                    # to the data\n",
    "                    fitter_object = Fitter(data=mode_data[var],\n",
    "                                           distributions=cont_dists,\n",
    "                                           timeout=60)\n",
    "                    fitter_object.fit()\n",
    "                    # Get the best distribution and store in dictionary\n",
    "                    BestDict = fitter_object.get_best()\n",
    "                    # Add name of alternative to variable and store distriburion & parameters\n",
    "                    params_dict.setdefault(var +'_'+ alt_name_dic[alt], {})['distribution'] = list(BestDict.items())[0][0]\n",
    "                    params_dict.setdefault(var +'_'+ alt_name_dic[alt], {})['parameters'] = list(BestDict.items())[0][1]\n",
    "\n",
    "    # Trip Specific Variable (maybe combine with individual specific variables)\n",
    "    # Loop around trip (observation) specific variables\n",
    "    for var in trip_spec:\n",
    "        # generate array of values for trip specific variable\n",
    "        trip_var = pd.Series([(data_long.loc[data_long[obs_id_col] == x][var].unique()[0]) for x in data_long[obs_id_col].unique()])\n",
    "        # If data is to be taken as empirical values\n",
    "        if var_types[var] == 'empirical':\n",
    "            # If data has one unique value\n",
    "            if trip_var.unique() == 1:\n",
    "                params_dict.setdefault(var, {})['distribution'] = 'constant'\n",
    "                params_dict.setdefault(var, {})['parameters'] = np.array(trip_var.unique())\n",
    "            # If data has more than one unique value\n",
    "            else:\n",
    "                params_dict.setdefault(var, {})['distribution'] = 'empirical'\n",
    "                params_dict.setdefault(var, {})['parameters'] = np.array(trip_var)\n",
    "        # Get distribution if variable is categorical\n",
    "        elif var_types[var] == 'categorical':\n",
    "            # If only one category\n",
    "            if len(trip_var.unique()) == 1:\n",
    "                params_dict.setdefault(var, {})['distribution'] = 'constant'\n",
    "                params_dict.setdefault(var, {})['parameters'] = trip_var.unique()\n",
    "            # If more than one category\n",
    "            else:\n",
    "                params_dict.setdefault(var, {})['distribution'] = 'categorical'\n",
    "                # Count frequency of values and store it as paramater of distribution\n",
    "                np_array_range = np.arange(trip_var.max()+1)\n",
    "                array_bincount = np.bincount(trip_var)\n",
    "                probs = array_bincount / len(trip_var)\n",
    "                params_dict.setdefault(var, {})['parameters'] = [np_array_range,\n",
    "                                                  probs]\n",
    "        else:\n",
    "            # If not categorical but just one unique value\n",
    "            if len(trip_var.unique()) == 1:\n",
    "                params_dict.setdefault(var, {})['distribution'] = 'constant'\n",
    "                params_dict.setdefault(var, {})['parameters'] = trip_var.unique()\n",
    "            # If not categorical but just one unique value\n",
    "            else:\n",
    "                # Use the Fitter library to fit distributions\n",
    "                # to the data\n",
    "                fitter_object = Fitter(data=trip_var,\n",
    "                                       distributions=cont_dists,\n",
    "                                       timeout=60)\n",
    "                fitter_object.fit()\n",
    "                # Get the best distribution and store in dictionary\n",
    "                BestDict = fitter_object.get_best()\n",
    "                params_dict.setdefault(var, {})['distribution'] = list(BestDict.items())[0][0]\n",
    "                params_dict.setdefault(var, {})['parameters'] = list(BestDict.items())[0][1]\n",
    "\n",
    "    return params_dict\n",
    "\n",
    "\n",
    "def SimNodeNoParent(params_dict, size=1000):\n",
    "    \"\"\"\n",
    "    Funtion to simulate data of size N based on specified\n",
    "    distribution/parameters found by the fitter package.\n",
    "    \n",
    "    Paremeters\n",
    "    ----------\n",
    "    dist_params: dictionary\n",
    "        The variable distribution dictionary resulting from\n",
    "        `FindLongDataDist`.\n",
    "        \n",
    "    size: int\n",
    "        Size of the desired simulated dataset, default value\n",
    "        is 1000 observations.\n",
    "    \n",
    "    Returns\n",
    "    -------\n",
    "    DataFrame object with simulated data based on specified distributions\n",
    "    \"\"\"\n",
    "    # Create Empty DataFrame with keys from params_dict\n",
    "    Sim_Df = pd.DataFrame(columns=list(params_dict.keys()))\n",
    "    Sim_Df = Sim_Df.fillna(0)\n",
    "    \n",
    "    # Loop around each of the variables in params_dict\n",
    "    # and simulate data for them\n",
    "    for column in list(params_dict.keys()):\n",
    "        # Simulate data for categorical variables\n",
    "        if params_dict[column]['distribution'] == 'categorical':\n",
    "            value = params_dict[column]['parameters'][0]\n",
    "            freq = params_dict[column]['parameters'][1]\n",
    "            data_sim = np.random.choice(a=value,\n",
    "                                        p=freq,\n",
    "                                        size=size)\n",
    "            Sim_Df[column] = data_sim\n",
    "        \n",
    "        # Simulate variables for data with a single unique value\n",
    "        elif params_dict[column]['distribution'] == 'constant':\n",
    "            data_sim = params_dict[column]['parameters'][0]\n",
    "            Sim_Df[column] = data_sim\n",
    "        \n",
    "        # Simulate data using values from array, sampling\n",
    "        # with replacement\n",
    "        elif params_dict[column]['distribution'] == 'empirical':\n",
    "            data_sim = np.random.choice(params_dict[column]['paramaters'], size=size)\n",
    "            Sim_Df[column] = data_sim\n",
    "        \n",
    "        # Simulate data for continuous variables\n",
    "        else:\n",
    "            # Get scipy distribution from its\n",
    "            # name in the params dictionary\n",
    "            dist = getattr(scipy.stats,\n",
    "                           params_dict[column]['distribution'])\n",
    "            data_sim = dist.rvs(*params_dict[column]['parameters'],\n",
    "                                size=size)\n",
    "            Sim_Df[column] = data_sim\n",
    "        \n",
    "    return Sim_Df\n",
    "\n",
    "\n",
    "def FitAlternativeRegression(regressions, reg_types, data):\n",
    "    \n",
    "    \"\"\"\n",
    "    Function to store regression models based on causal graph\n",
    "    in a dictionary.\n",
    "    \n",
    "    Parameters\n",
    "    ----------\n",
    "    regressions: dictionary\n",
    "        Dictionary with keys as integers representing the\n",
    "        order of regressions. Values of the dictionary\n",
    "        are tuples/lists with the first item is a string\n",
    "        of the name of the independent variable and the\n",
    "        second item is a string of the name of the \n",
    "        dependent variable.\n",
    "    \n",
    "    reg_types: dictionary\n",
    "        Dictionary with keys as integers representing the\n",
    "        order of regressions. Keys should be similar to the\n",
    "        keys from the `regressions` dictionary. Values are\n",
    "        strings representing the type of regressions to be\n",
    "        ran. **TODO: add more regressions**\n",
    "        \n",
    "    Returns\n",
    "    -------\n",
    "    Dictionary with keys as the regression name and values\n",
    "    as regression models stores. Methods from these fitted\n",
    "    models can be accessed through the values of the dictionary.\n",
    "    \"\"\"\n",
    "    \n",
    "    # Initiate the regressions results dictionary\n",
    "    regression_results = {}\n",
    "    \n",
    "    # Loop around the regressions\n",
    "    for reg in regressions.keys():\n",
    "        # If linear regression\n",
    "        if reg_types[reg] == 'linear':\n",
    "            # Prepare data and initialize model\n",
    "            data_x = sm.add_constant(data[regressions[reg][0]])\n",
    "            data_y = data[regressions[reg][1]]\n",
    "            model = sm.OLS(data_y, data_x)\n",
    "\n",
    "            # Fit model\n",
    "            results = model.fit()\n",
    "            \n",
    "            # Store model\n",
    "            regression_results[regressions[reg][1]+'_on_'+regressions[reg][0]] = results\n",
    "        \n",
    "        # If logistic regression **TODO: Expand on\n",
    "        # logistic regression\n",
    "        if reg_types[reg] == 'logistic':\n",
    "            # Prepare data and initialize model\n",
    "            data_x = sm.add_constant(data[regressions[reg][0]])\n",
    "            data_y = data[regressions[reg][1]]\n",
    "            model = sm.Logit(data_y, data_x)\n",
    "\n",
    "            # Fit model\n",
    "            results = model.fit()\n",
    "            \n",
    "            # Store model\n",
    "            regression_results[regressions[reg][1]+'_on_'+regressions[reg][0]] = results\n",
    "    \n",
    "    #if plotting:\n",
    "    #    fig = plt.figure(figsize=(12,8))\n",
    "    #    fig = sm.graphics.plot_regress_exog(results, X[0], fig=fig)\n",
    "    \n",
    "    return regression_results\n",
    "\n",
    "\n",
    "def SimulateAvailability(data_long, sim_data, obs_id_col, alt_name_dict):\n",
    "    \"\"\"\n",
    "    Function to simulate alternative availability based on a long format\n",
    "    dataset and join the availability data to the simulated dataset\n",
    "    resulting from SimDf.\n",
    "    \n",
    "    Parameters\n",
    "    ----------\n",
    "    data_long: Pandas DataFrame\n",
    "        Long format dataframe used for simulating\n",
    "        alternative availability.\n",
    "    \n",
    "    sim_data: Pandas DataFrame\n",
    "        Wide format dataframe resulting from SimDf\n",
    "    \n",
    "    obs_id_col: string\n",
    "        Name of the column in data_long with \n",
    "        observation ids.\n",
    "    \n",
    "    alt_name_dic: dictionary\n",
    "        Dictionary with keys as the ordered number\n",
    "        of alternatives, and the value for each key\n",
    "        is a string representing the name of the \n",
    "        alternative.\n",
    "        \n",
    "    Returns\n",
    "    -------\n",
    "    Wide format Pandas DataFrame with additional availability\n",
    "    columns for each of the alternatives.\n",
    "    \n",
    "    \"\"\"\n",
    "    \n",
    "    # Create empty Series to hold number of available alternatives\n",
    "    series = pd.Series([])\n",
    "    \n",
    "    # Loop around each observation to record the\n",
    "    # available number of alternatives for each observation\n",
    "    for i, obs in zip(np.arange(len(data_long[obs_id_col].unique())), data_long[obs_id_col].unique()):\n",
    "        series[i] = data_long[data_long[obs_id_col] == obs].shape[0]\n",
    "\n",
    "    # Simulate number of available alternatives for\n",
    "    # each observation in sim_data\n",
    "    av_size = sim_data.shape[0]\n",
    "    alts_sim = np.random.choice(a=np.arange(series.max()+1),\n",
    "                                p=np.bincount(series)/len(series),\n",
    "                                size=av_size)\n",
    "\n",
    "    # Simulate the availability matrix based on number \n",
    "    # of available alternatives\n",
    "    N = len(alt_name_dict)\n",
    "    av_sim = [np.array([1] * K + [0]*(N-K)) for K in alts_sim]\n",
    "    \n",
    "    # Shuffle the available alternatives for each observation\n",
    "    # because av_sim will always start with 1s\n",
    "    for x in av_sim:\n",
    "        np.random.shuffle(x)\n",
    "\n",
    "    # Shuffle the availability across different observations\n",
    "    np.random.shuffle(av_sim)\n",
    "    \n",
    "    # Create columns for the availability matrix\n",
    "    AV_columns = [alt_name_dict[i]+'_AV' for i in alt_name_dict.keys()]\n",
    "    \n",
    "    # Create alternative availability matrix with AV_columns\n",
    "    AV_Df = pd.DataFrame(av_sim, columns=AV_columns)\n",
    "    \n",
    "    # Create an random choice column based on available\n",
    "    # alternatives for each observation - This column will\n",
    "    # be needed when converting to long data\n",
    "    fake_choice = [random.choice(np.nonzero(a == 1)[0]) + 1 for a in np.array(AV_Df)]\n",
    "    fake_choice_df = pd.DataFrame(fake_choice, columns=['sim_choice'])\n",
    "    \n",
    "    # Concatenate the simulated data with availability data and fake choice data\n",
    "    # and return Sim_DF_AV\n",
    "    Sim_DF_AV = pd.concat([sim_data, AV_Df, fake_choice_df], axis=1, sort=False)\n",
    "    return Sim_DF_AV\n",
    "\n",
    "def PlotParams(sim_par, model, fig_size):\n",
    "    \"\"\"\n",
    "    Function to plot parameters from simulated data.\n",
    "    \n",
    "    Parameters\n",
    "    ----------\n",
    "    sim_par: Pandas Series or Pandas Column\n",
    "        Pandas Series or column from DataFrame containing\n",
    "        coefficients from the estimated models based on\n",
    "        simulated data.\n",
    "        \n",
    "    model: Pylogit model.\n",
    "        Estimated data generating model to compare \n",
    "        estimated parameters based on simulated data\n",
    "        to.\n",
    "        \n",
    "    size: tuple\n",
    "        Figure size\n",
    "        \n",
    "    Returns\n",
    "    -------\n",
    "    Seaborn figure of the distribution of estimated parameters\n",
    "    based on simulated data.\n",
    "    \"\"\"\n",
    "    # Create bins for the histogram\n",
    "    bins = np.linspace(sim_par.min(), sim_par.max(), 10)\n",
    "    \n",
    "    # Initialize the figure size\n",
    "    plt.figure(figsize=fig_size)\n",
    "    \n",
    "    # Plot the distribution\n",
    "    sns.distplot(sim_par, kde=False, bins=bins, label='Simulated Parameters')\n",
    "    \n",
    "    # Add vertical line for the data generating parameter\n",
    "    plt.axvline(model.coefs[sim_par.name], color='black', ls='--',label='Data Generating Parameter')\n",
    "    \n",
    "    # Add a title for the figure\n",
    "    plt.title(label='Histogram of '+'\"'+sim_par.name+'\"', fontdict={'fontsize':16})\n",
    "    \n",
    "    # Add a y-label\n",
    "    plt.ylabel('Frequency', rotation=0, labelpad=50)\n",
    "    \n",
    "    # Add a legend\n",
    "    plt.legend()\n",
    "\n",
    "def FindOutliers(data, threshold=3.5):\n",
    "    \"\"\"\n",
    "    Function to remove outlier data, based on\n",
    "    the median absolute deviation from the median.\n",
    "    Note that the function supports asymmetric \n",
    "    distributions and is based on code from the\n",
    "    included reference\n",
    "    \n",
    "    Parameters\n",
    "    ----------\n",
    "    data: Pandas Series-line\n",
    "        Series-like containing the simulated\n",
    "        data in wide format.\n",
    "        \n",
    "    threshold: float\n",
    "        Threshold of the Median Absolute Deviation\n",
    "        above which data should be removed\n",
    "        \n",
    "    Returns\n",
    "    -------\n",
    "    Array with True values representing index\n",
    "    of non-outliers\n",
    "    \n",
    "    References\n",
    "    ----------\n",
    "    https://eurekastatistics.com/using-the-median-\n",
    "    absolute-deviation-to-find-outliers/\n",
    "    \n",
    "    TODO:\n",
    "    -----\n",
    "    We need to discuss whether this approach is \n",
    "    appropriate for dropping outlier observations\n",
    "    \"\"\"\n",
    "    \n",
    "    m = np.median(data)\n",
    "    abs_dev = np.abs(data - m)\n",
    "    left_mad = np.median(abs_dev[data <= m])\n",
    "    right_mad = np.median(abs_dev[data >= m])\n",
    "    data_mad = left_mad * np.ones(len(data))\n",
    "    data_mad[data > m] = right_mad\n",
    "    z_score = abs_dev / data_mad\n",
    "    z_score[data == m] = 0\n",
    "    return z_score < threshold"
   ]
  },
  {
   "cell_type": "markdown",
   "metadata": {},
   "source": [
    "# 2. MNL Model Estimation using Bike Data"
   ]
  },
  {
   "cell_type": "markdown",
   "metadata": {},
   "source": [
    "## 2.1. Data Ingestion and Exploration"
   ]
  },
  {
   "cell_type": "code",
   "execution_count": 8,
   "metadata": {},
   "outputs": [],
   "source": [
    "# Create a variable for the path to the long format data for\n",
    "# the multinomial choice model\n",
    "PATH = '../../data/raw/spring_2016_all_bay_area_long_format_plus_cross_bay_col.csv'"
   ]
  },
  {
   "cell_type": "code",
   "execution_count": 9,
   "metadata": {},
   "outputs": [
    {
     "name": "stdout",
     "output_type": "stream",
     "text": [
      "The columns of bike_data are:\n"
     ]
    },
    {
     "data": {
      "text/plain": [
       "Index(['household_id', 'person_id', 'tour_id', 'observation_id', 'mode_id',\n",
       "       'choice', 'tour_origin_taz', 'primary_dest_taz', 'total_travel_time',\n",
       "       'total_travel_cost', 'total_travel_distance', 'age', 'household_size',\n",
       "       'household_income', 'household_income_values', 'transit_subsidy',\n",
       "       'transit_subsidy_amount', 'num_cars', 'num_licensed_drivers',\n",
       "       'cross_bay', 'oakland_and_berkeley', 'survey_id', 'gender',\n",
       "       'non_relative_flag', 'num_pre_school', 'num_school_aged', 'married',\n",
       "       'parent', 'income_category_1', 'income_category_2', 'income_category_3',\n",
       "       'income_category_4', 'income_category_5', 'income_category_6',\n",
       "       'income_category_7', 'income_category_8', 'income_category_9',\n",
       "       'income_category_10', 'income_unknown', 'ln_drive_cost',\n",
       "       'ln_drive_cost_sq', 'total_travel_time_10x', 'total_travel_time_tenth',\n",
       "       'high_income', 'medium_income', 'low_income', 'high_income_cost',\n",
       "       'medium_income_cost', 'low_income_cost', 'unknown_income_cost',\n",
       "       'high_income_ln_cost', 'medium_income_ln_cost', 'low_income_ln_cost',\n",
       "       'unknown_income_ln_cost', 'cars_per_licensed_drivers', 'num_kids',\n",
       "       'family_in_household', 'married_woman', 'cost_per_distance',\n",
       "       'intercept', 'cost_per_distance_10$_per_mi',\n",
       "       'total_travel_time_tenth_min'],\n",
       "      dtype='object')"
      ]
     },
     "execution_count": 9,
     "metadata": {},
     "output_type": "execute_result"
    }
   ],
   "source": [
    "# Reading data from the specified PATH\n",
    "bike_data_long = pd.read_csv(PATH)\n",
    "\n",
    "# If in previous work we accidentally saved the index with the dataframe\n",
    "# remove the old index from the data\n",
    "if \"Unnamed: 0\" in bike_data_long.columns:\n",
    "    del bike_data_long[\"Unnamed: 0\"]\n",
    "\n",
    "print(\"The columns of bike_data are:\")\n",
    "bike_data_long.columns"
   ]
  },
  {
   "cell_type": "code",
   "execution_count": 10,
   "metadata": {},
   "outputs": [
    {
     "data": {
      "text/plain": [
       "Drive Alone           0.428322\n",
       "Shared Ride 2         0.158841\n",
       "Shared Ride 3+        0.139860\n",
       "Walk-Transit-Walk     0.103397\n",
       "Drive-Transit-Walk    0.015485\n",
       "Walk-Transit-Drive    0.013237\n",
       "Walk                  0.094406\n",
       "Bike                  0.046454\n",
       "Name: Mode Shares, dtype: float64"
      ]
     },
     "execution_count": 10,
     "metadata": {},
     "output_type": "execute_result"
    }
   ],
   "source": [
    "# Look at the mode shares in the data set\n",
    "alt_id_to_mode_name = {1: \"Drive Alone\",\n",
    "                       2: \"Shared Ride 2\",\n",
    "                       3: \"Shared Ride 3+\",\n",
    "                       4: \"Walk-Transit-Walk\",\n",
    "                       5: \"Drive-Transit-Walk\",\n",
    "                       6: \"Walk-Transit-Drive\",\n",
    "                       7: \"Walk\",\n",
    "                       8: \"Bike\"}\n",
    "\n",
    "mode_counts = bike_data_long.loc[bike_data_long.choice == 1,\n",
    "                                 \"mode_id\"].value_counts().loc[range(1, 9)]\n",
    "\n",
    "mode_shares = mode_counts / bike_data_long.observation_id.max()\n",
    "mode_shares.index = [alt_id_to_mode_name[x] for x in mode_shares.index.values]\n",
    "mode_shares.name = \"Mode Shares\"\n",
    "mode_shares"
   ]
  },
  {
   "cell_type": "markdown",
   "metadata": {},
   "source": [
    "## 2.2. MNL Model Specification "
   ]
  },
  {
   "cell_type": "code",
   "execution_count": 11,
   "metadata": {},
   "outputs": [],
   "source": [
    "# Create my specification and variable names for the basic MNL model\n",
    "# NOTE: - Keys should be variables within the long format dataframe.\n",
    "#         The sole exception to this is the \"intercept\" key.\n",
    "#       - For the specification dictionary, the values should be lists\n",
    "#         or lists of lists. Within a list, or within the inner-most\n",
    "#         list should be the alternative ID's of the alternative whose\n",
    "#         utility specification the explanatory variable is entering.\n",
    "\n",
    "mnl_specification = OrderedDict()\n",
    "mnl_names = OrderedDict()\n",
    "\n",
    "mnl_specification[\"intercept\"] = [2, 3, 4, 5, 6, 7, 8]\n",
    "mnl_names[\"intercept\"] = ['ASC Shared Ride: 2',\n",
    "                          'ASC Shared Ride: 3+',\n",
    "                          'ASC Walk-Transit-Walk',\n",
    "                          'ASC Drive-Transit-Walk',\n",
    "                          'ASC Walk-Transit-Drive',\n",
    "                          'ASC Walk',\n",
    "                          'ASC Bike']\n",
    "\n",
    "mnl_specification[\"total_travel_time\"] = [[1, 2, 3], [4, 5, 6]]\n",
    "mnl_names[\"total_travel_time\"] = ['Travel Time, units:min (All Auto Modes)',\n",
    "                                  'Travel Time, units:min (All Transit Modes)']\n",
    "\n",
    "mnl_specification[\"total_travel_cost\"] = [[4, 5, 6]]\n",
    "mnl_names[\"total_travel_cost\"] = ['Travel Cost, units:$ (All Transit Modes)']\n",
    "\n",
    "mnl_specification[\"cost_per_distance\"] = [1, 2, 3]\n",
    "mnl_names[\"cost_per_distance\"] = [\"Travel Cost per Distance, units:$/mi (Drive Alone)\",\n",
    "                                  \"Travel Cost per Distance, units:$/mi (SharedRide-2)\",\n",
    "                                  \"Travel Cost per Distance, units:$/mi (SharedRide-3+)\"]\n",
    "\n",
    "mnl_specification[\"cars_per_licensed_drivers\"] = [[1, 2, 3]]\n",
    "mnl_names[\"cars_per_licensed_drivers\"] = [\"Autos per licensed drivers (All Auto Modes)\"]\n",
    "\n",
    "mnl_specification[\"total_travel_distance\"] = [7, 8]\n",
    "mnl_names[\"total_travel_distance\"] = ['Travel Distance, units:mi (Walk)',\n",
    "                                      'Travel Distance, units:mi (Bike)']\n",
    "\n",
    "# mnl_specification[\"cross_bay\"] = [[2, 3], [4, 5, 6]]\n",
    "# mnl_names[\"cross_bay\"] = [\"Cross-Bay Tour (Shared Ride 2 & 3+)\",\n",
    "#                           \"Cross-Bay Tour (All Transit Modes)\"]\n",
    "mnl_specification[\"cross_bay\"] = [[2, 3]]\n",
    "mnl_names[\"cross_bay\"] = [\"Cross-Bay Tour (Shared Ride 2 & 3+)\"]\n",
    "\n",
    "mnl_specification[\"household_size\"] = [[2, 3]]\n",
    "mnl_names[\"household_size\"] = ['Household Size (Shared Ride 2 & 3+)']\n",
    "\n",
    "mnl_specification[\"num_kids\"] = [[2, 3]]\n",
    "mnl_names[\"num_kids\"] = [\"Number of Kids in Household (Shared Ride 2 & 3+)\"]"
   ]
  },
  {
   "cell_type": "markdown",
   "metadata": {},
   "source": [
    "## 2.3. Model Estimation"
   ]
  },
  {
   "cell_type": "code",
   "execution_count": 12,
   "metadata": {},
   "outputs": [
    {
     "name": "stdout",
     "output_type": "stream",
     "text": [
      "Log-likelihood at zero: -7,599.7019\n",
      "Initial Log-likelihood: -7,599.7019\n"
     ]
    },
    {
     "name": "stderr",
     "output_type": "stream",
     "text": [
      "/Users/mobouzaghrane/opt/anaconda3/lib/python3.7/site-packages/pylogit/choice_tools.py:703: FutureWarning: arrays to stack must be passed as a \"sequence\" type such as list or tuple. Support for non-sequence iterables such as generators is deprecated as of NumPy 1.16 and will raise an error in the future.\n",
      "  design_matrix = np.hstack((x[:, None] for x in independent_vars))\n",
      "/Users/mobouzaghrane/opt/anaconda3/lib/python3.7/site-packages/scipy/optimize/_minimize.py:505: RuntimeWarning: Method BFGS does not use Hessian information (hess).\n",
      "  RuntimeWarning)\n"
     ]
    },
    {
     "name": "stdout",
     "output_type": "stream",
     "text": [
      "Estimation Time for Point Estimation: 0.18 seconds.\n",
      "Final log-likelihood: -5,073.4276\n"
     ]
    },
    {
     "data": {
      "text/html": [
       "<table class=\"simpletable\">\n",
       "<caption>Multinomial Logit Model Regression Results</caption>\n",
       "<tr>\n",
       "  <th>Dep. Variable:</th>         <td>choice</td>          <th>  No. Observations:  </th>    <td>4,004</td>  \n",
       "</tr>\n",
       "<tr>\n",
       "  <th>Model:</th>         <td>Multinomial Logit Model</td> <th>  Df Residuals:      </th>    <td>3,985</td>  \n",
       "</tr>\n",
       "<tr>\n",
       "  <th>Method:</th>                  <td>MLE</td>           <th>  Df Model:          </th>     <td>19</td>    \n",
       "</tr>\n",
       "<tr>\n",
       "  <th>Date:</th>             <td>Fri, 03 Apr 2020</td>     <th>  Pseudo R-squ.:     </th>    <td>0.332</td>  \n",
       "</tr>\n",
       "<tr>\n",
       "  <th>Time:</th>                 <td>20:26:27</td>         <th>  Pseudo R-bar-squ.: </th>    <td>0.330</td>  \n",
       "</tr>\n",
       "<tr>\n",
       "  <th>AIC:</th>                 <td>10,184.855</td>        <th>  Log-Likelihood:    </th> <td>-5,073.428</td>\n",
       "</tr>\n",
       "<tr>\n",
       "  <th>BIC:</th>                 <td>10,304.461</td>        <th>  LL-Null:           </th> <td>-7,599.702</td>\n",
       "</tr>\n",
       "</table>\n",
       "<table class=\"simpletable\">\n",
       "<tr>\n",
       "                            <td></td>                              <th>coef</th>     <th>std err</th>      <th>z</th>      <th>P>|z|</th>  <th>[0.025</th>    <th>0.975]</th>  \n",
       "</tr>\n",
       "<tr>\n",
       "  <th>ASC Shared Ride: 2</th>                                   <td>   -1.0097</td> <td>    0.486</td> <td>   -2.079</td> <td> 0.038</td> <td>   -1.962</td> <td>   -0.058</td>\n",
       "</tr>\n",
       "<tr>\n",
       "  <th>ASC Shared Ride: 3+</th>                                  <td>    3.4619</td> <td>    1.064</td> <td>    3.254</td> <td> 0.001</td> <td>    1.377</td> <td>    5.547</td>\n",
       "</tr>\n",
       "<tr>\n",
       "  <th>ASC Walk-Transit-Walk</th>                                <td>   -0.3921</td> <td>    0.288</td> <td>   -1.360</td> <td> 0.174</td> <td>   -0.957</td> <td>    0.173</td>\n",
       "</tr>\n",
       "<tr>\n",
       "  <th>ASC Drive-Transit-Walk</th>                               <td>   -2.6220</td> <td>    0.303</td> <td>   -8.660</td> <td> 0.000</td> <td>   -3.215</td> <td>   -2.029</td>\n",
       "</tr>\n",
       "<tr>\n",
       "  <th>ASC Walk-Transit-Drive</th>                               <td>   -2.9773</td> <td>    0.306</td> <td>   -9.725</td> <td> 0.000</td> <td>   -3.577</td> <td>   -2.377</td>\n",
       "</tr>\n",
       "<tr>\n",
       "  <th>ASC Walk</th>                                             <td>    1.5541</td> <td>    0.305</td> <td>    5.101</td> <td> 0.000</td> <td>    0.957</td> <td>    2.151</td>\n",
       "</tr>\n",
       "<tr>\n",
       "  <th>ASC Bike</th>                                             <td>   -1.1059</td> <td>    0.305</td> <td>   -3.628</td> <td> 0.000</td> <td>   -1.703</td> <td>   -0.508</td>\n",
       "</tr>\n",
       "<tr>\n",
       "  <th>Travel Time, units:min (All Auto Modes)</th>              <td>   -0.0760</td> <td>    0.006</td> <td>  -13.728</td> <td> 0.000</td> <td>   -0.087</td> <td>   -0.065</td>\n",
       "</tr>\n",
       "<tr>\n",
       "  <th>Travel Time, units:min (All Transit Modes)</th>           <td>   -0.0274</td> <td>    0.002</td> <td>  -12.768</td> <td> 0.000</td> <td>   -0.032</td> <td>   -0.023</td>\n",
       "</tr>\n",
       "<tr>\n",
       "  <th>Travel Cost, units:$ (All Transit Modes)</th>             <td>   -0.1273</td> <td>    0.037</td> <td>   -3.472</td> <td> 0.001</td> <td>   -0.199</td> <td>   -0.055</td>\n",
       "</tr>\n",
       "<tr>\n",
       "  <th>Travel Cost per Distance, units:$/mi (Drive Alone)</th>   <td>   -5.0613</td> <td>    1.377</td> <td>   -3.675</td> <td> 0.000</td> <td>   -7.760</td> <td>   -2.362</td>\n",
       "</tr>\n",
       "<tr>\n",
       "  <th>Travel Cost per Distance, units:$/mi (SharedRide-2)</th>  <td>  -20.3194</td> <td>    4.548</td> <td>   -4.467</td> <td> 0.000</td> <td>  -29.234</td> <td>  -11.405</td>\n",
       "</tr>\n",
       "<tr>\n",
       "  <th>Travel Cost per Distance, units:$/mi (SharedRide-3+)</th> <td>  -90.9224</td> <td>   14.748</td> <td>   -6.165</td> <td> 0.000</td> <td> -119.829</td> <td>  -62.016</td>\n",
       "</tr>\n",
       "<tr>\n",
       "  <th>Autos per licensed drivers (All Auto Modes)</th>          <td>    1.2134</td> <td>    0.129</td> <td>    9.408</td> <td> 0.000</td> <td>    0.961</td> <td>    1.466</td>\n",
       "</tr>\n",
       "<tr>\n",
       "  <th>Travel Distance, units:mi (Walk)</th>                     <td>   -1.0272</td> <td>    0.050</td> <td>  -20.437</td> <td> 0.000</td> <td>   -1.126</td> <td>   -0.929</td>\n",
       "</tr>\n",
       "<tr>\n",
       "  <th>Travel Distance, units:mi (Bike)</th>                     <td>   -0.2873</td> <td>    0.024</td> <td>  -11.896</td> <td> 0.000</td> <td>   -0.335</td> <td>   -0.240</td>\n",
       "</tr>\n",
       "<tr>\n",
       "  <th>Cross-Bay Tour (Shared Ride 2 & 3+)</th>                  <td>    0.9280</td> <td>    0.327</td> <td>    2.839</td> <td> 0.005</td> <td>    0.287</td> <td>    1.569</td>\n",
       "</tr>\n",
       "<tr>\n",
       "  <th>Household Size (Shared Ride 2 & 3+)</th>                  <td>    0.1136</td> <td>    0.045</td> <td>    2.523</td> <td> 0.012</td> <td>    0.025</td> <td>    0.202</td>\n",
       "</tr>\n",
       "<tr>\n",
       "  <th>Number of Kids in Household (Shared Ride 2 & 3+)</th>     <td>    0.6868</td> <td>    0.054</td> <td>   12.820</td> <td> 0.000</td> <td>    0.582</td> <td>    0.792</td>\n",
       "</tr>\n",
       "</table>"
      ],
      "text/plain": [
       "<class 'statsmodels.iolib.summary.Summary'>\n",
       "\"\"\"\n",
       "                     Multinomial Logit Model Regression Results                    \n",
       "===================================================================================\n",
       "Dep. Variable:                      choice   No. Observations:                4,004\n",
       "Model:             Multinomial Logit Model   Df Residuals:                    3,985\n",
       "Method:                                MLE   Df Model:                           19\n",
       "Date:                     Fri, 03 Apr 2020   Pseudo R-squ.:                   0.332\n",
       "Time:                             20:26:27   Pseudo R-bar-squ.:               0.330\n",
       "AIC:                            10,184.855   Log-Likelihood:             -5,073.428\n",
       "BIC:                            10,304.461   LL-Null:                    -7,599.702\n",
       "========================================================================================================================\n",
       "                                                           coef    std err          z      P>|z|      [0.025      0.975]\n",
       "------------------------------------------------------------------------------------------------------------------------\n",
       "ASC Shared Ride: 2                                      -1.0097      0.486     -2.079      0.038      -1.962      -0.058\n",
       "ASC Shared Ride: 3+                                      3.4619      1.064      3.254      0.001       1.377       5.547\n",
       "ASC Walk-Transit-Walk                                   -0.3921      0.288     -1.360      0.174      -0.957       0.173\n",
       "ASC Drive-Transit-Walk                                  -2.6220      0.303     -8.660      0.000      -3.215      -2.029\n",
       "ASC Walk-Transit-Drive                                  -2.9773      0.306     -9.725      0.000      -3.577      -2.377\n",
       "ASC Walk                                                 1.5541      0.305      5.101      0.000       0.957       2.151\n",
       "ASC Bike                                                -1.1059      0.305     -3.628      0.000      -1.703      -0.508\n",
       "Travel Time, units:min (All Auto Modes)                 -0.0760      0.006    -13.728      0.000      -0.087      -0.065\n",
       "Travel Time, units:min (All Transit Modes)              -0.0274      0.002    -12.768      0.000      -0.032      -0.023\n",
       "Travel Cost, units:$ (All Transit Modes)                -0.1273      0.037     -3.472      0.001      -0.199      -0.055\n",
       "Travel Cost per Distance, units:$/mi (Drive Alone)      -5.0613      1.377     -3.675      0.000      -7.760      -2.362\n",
       "Travel Cost per Distance, units:$/mi (SharedRide-2)    -20.3194      4.548     -4.467      0.000     -29.234     -11.405\n",
       "Travel Cost per Distance, units:$/mi (SharedRide-3+)   -90.9224     14.748     -6.165      0.000    -119.829     -62.016\n",
       "Autos per licensed drivers (All Auto Modes)              1.2134      0.129      9.408      0.000       0.961       1.466\n",
       "Travel Distance, units:mi (Walk)                        -1.0272      0.050    -20.437      0.000      -1.126      -0.929\n",
       "Travel Distance, units:mi (Bike)                        -0.2873      0.024    -11.896      0.000      -0.335      -0.240\n",
       "Cross-Bay Tour (Shared Ride 2 & 3+)                      0.9280      0.327      2.839      0.005       0.287       1.569\n",
       "Household Size (Shared Ride 2 & 3+)                      0.1136      0.045      2.523      0.012       0.025       0.202\n",
       "Number of Kids in Household (Shared Ride 2 & 3+)         0.6868      0.054     12.820      0.000       0.582       0.792\n",
       "========================================================================================================================\n",
       "\"\"\""
      ]
     },
     "execution_count": 12,
     "metadata": {},
     "output_type": "execute_result"
    }
   ],
   "source": [
    "# Estimate the basic MNL model, using the hessian and newton-conjugate gradient\n",
    "mnl_model = pl.create_choice_model(data=bike_data_long,\n",
    "                                   alt_id_col=\"mode_id\",\n",
    "                                   obs_id_col=\"observation_id\",\n",
    "                                   choice_col=\"choice\",\n",
    "                                   specification=mnl_specification,\n",
    "                                   model_type=\"MNL\",\n",
    "                                   names=mnl_names)\n",
    "\n",
    "num_vars = len(reduce(lambda x, y: x + y, mnl_names.values()))\n",
    "\n",
    "# Note newton-cg used to ensure convergence to a point where gradient\n",
    "# is essentially zero for all dimensions.\n",
    "mnl_model.fit_mle(np.zeros(num_vars),\n",
    "                  method=\"BFGS\")\n",
    "\n",
    "# Look at the estimation results\n",
    "mnl_model.get_statsmodels_summary()"
   ]
  },
  {
   "cell_type": "markdown",
   "metadata": {},
   "source": [
    "# 3. Framework for Simulation from Causal Graph"
   ]
  },
  {
   "cell_type": "markdown",
   "metadata": {},
   "source": [
    "## 3.1. Causal Models for each Utility Function "
   ]
  },
  {
   "cell_type": "code",
   "execution_count": 13,
   "metadata": {},
   "outputs": [
    {
     "data": {
      "image/svg+xml": [
       "<?xml version=\"1.0\" encoding=\"UTF-8\" standalone=\"no\"?>\n",
       "<!DOCTYPE svg PUBLIC \"-//W3C//DTD SVG 1.1//EN\"\n",
       " \"http://www.w3.org/Graphics/SVG/1.1/DTD/svg11.dtd\">\n",
       "<!-- Generated by graphviz version 2.42.3 (20191010.1750)\n",
       " -->\n",
       "<!-- Title: %3 Pages: 1 -->\n",
       "<svg width=\"718pt\" height=\"188pt\"\n",
       " viewBox=\"0.00 0.00 717.91 188.00\" xmlns=\"http://www.w3.org/2000/svg\" xmlns:xlink=\"http://www.w3.org/1999/xlink\">\n",
       "<g id=\"graph0\" class=\"graph\" transform=\"scale(1 1) rotate(0) translate(4 184)\">\n",
       "<title>%3</title>\n",
       "<polygon fill=\"white\" stroke=\"transparent\" points=\"-4,4 -4,-184 713.91,-184 713.91,4 -4,4\"/>\n",
       "<!-- Utility (Drive Alone) -->\n",
       "<g id=\"node1\" class=\"node\">\n",
       "<title>Utility (Drive Alone)</title>\n",
       "<ellipse fill=\"none\" stroke=\"black\" cx=\"316.39\" cy=\"-18\" rx=\"84.55\" ry=\"18\"/>\n",
       "<text text-anchor=\"middle\" x=\"316.39\" y=\"-13.8\" font-family=\"Times,serif\" font-size=\"14.00\">Utility (Drive Alone)</text>\n",
       "</g>\n",
       "<!-- Total Travel Time -->\n",
       "<g id=\"node2\" class=\"node\">\n",
       "<title>Total Travel Time</title>\n",
       "<ellipse fill=\"none\" stroke=\"black\" cx=\"73.39\" cy=\"-90\" rx=\"73.28\" ry=\"18\"/>\n",
       "<text text-anchor=\"middle\" x=\"73.39\" y=\"-85.8\" font-family=\"Times,serif\" font-size=\"14.00\">Total Travel Time</text>\n",
       "</g>\n",
       "<!-- Total Travel Time&#45;&gt;Utility (Drive Alone) -->\n",
       "<g id=\"edge3\" class=\"edge\">\n",
       "<title>Total Travel Time&#45;&gt;Utility (Drive Alone)</title>\n",
       "<path fill=\"none\" stroke=\"black\" d=\"M119.09,-75.83C158.51,-64.48 215.64,-48.02 258.29,-35.74\"/>\n",
       "<polygon fill=\"black\" stroke=\"black\" points=\"259.33,-39.08 267.97,-32.95 257.4,-32.35 259.33,-39.08\"/>\n",
       "</g>\n",
       "<!-- Total Travel Distance -->\n",
       "<g id=\"node3\" class=\"node\">\n",
       "<title>Total Travel Distance</title>\n",
       "<ellipse fill=\"none\" stroke=\"black\" cx=\"154.39\" cy=\"-162\" rx=\"86.25\" ry=\"18\"/>\n",
       "<text text-anchor=\"middle\" x=\"154.39\" y=\"-157.8\" font-family=\"Times,serif\" font-size=\"14.00\">Total Travel Distance</text>\n",
       "</g>\n",
       "<!-- Total Travel Distance&#45;&gt;Total Travel Time -->\n",
       "<g id=\"edge1\" class=\"edge\">\n",
       "<title>Total Travel Distance&#45;&gt;Total Travel Time</title>\n",
       "<path fill=\"none\" stroke=\"black\" d=\"M135.19,-144.41C124.7,-135.34 111.54,-123.97 100.07,-114.06\"/>\n",
       "<polygon fill=\"black\" stroke=\"black\" points=\"102.3,-111.36 92.45,-107.47 97.72,-116.66 102.3,-111.36\"/>\n",
       "</g>\n",
       "<!-- Total Travel Cost -->\n",
       "<g id=\"node4\" class=\"node\">\n",
       "<title>Total Travel Cost</title>\n",
       "<ellipse fill=\"none\" stroke=\"black\" cx=\"236.39\" cy=\"-90\" rx=\"71.31\" ry=\"18\"/>\n",
       "<text text-anchor=\"middle\" x=\"236.39\" y=\"-85.8\" font-family=\"Times,serif\" font-size=\"14.00\">Total Travel Cost</text>\n",
       "</g>\n",
       "<!-- Total Travel Distance&#45;&gt;Total Travel Cost -->\n",
       "<g id=\"edge2\" class=\"edge\">\n",
       "<title>Total Travel Distance&#45;&gt;Total Travel Cost</title>\n",
       "<path fill=\"none\" stroke=\"black\" d=\"M173.82,-144.41C184.44,-135.34 197.76,-123.97 209.38,-114.06\"/>\n",
       "<polygon fill=\"black\" stroke=\"black\" points=\"211.76,-116.62 217.1,-107.47 207.22,-111.3 211.76,-116.62\"/>\n",
       "</g>\n",
       "<!-- Total Travel Cost&#45;&gt;Utility (Drive Alone) -->\n",
       "<g id=\"edge4\" class=\"edge\">\n",
       "<title>Total Travel Cost&#45;&gt;Utility (Drive Alone)</title>\n",
       "<path fill=\"none\" stroke=\"black\" d=\"M255.35,-72.41C265.53,-63.5 278.27,-52.36 289.47,-42.56\"/>\n",
       "<polygon fill=\"black\" stroke=\"black\" points=\"292.07,-44.93 297.29,-35.71 287.46,-39.66 292.07,-44.93\"/>\n",
       "</g>\n",
       "<!-- Number of Autos -->\n",
       "<g id=\"node5\" class=\"node\">\n",
       "<title>Number of Autos</title>\n",
       "<ellipse fill=\"none\" stroke=\"black\" cx=\"397.39\" cy=\"-90\" rx=\"71.54\" ry=\"18\"/>\n",
       "<text text-anchor=\"middle\" x=\"397.39\" y=\"-85.8\" font-family=\"Times,serif\" font-size=\"14.00\">Number of Autos</text>\n",
       "</g>\n",
       "<!-- Number of Autos&#45;&gt;Utility (Drive Alone) -->\n",
       "<g id=\"edge5\" class=\"edge\">\n",
       "<title>Number of Autos&#45;&gt;Utility (Drive Alone)</title>\n",
       "<path fill=\"none\" stroke=\"black\" d=\"M378.19,-72.41C367.78,-63.41 354.73,-52.14 343.32,-42.27\"/>\n",
       "<polygon fill=\"black\" stroke=\"black\" points=\"345.58,-39.6 335.73,-35.71 341,-44.9 345.58,-39.6\"/>\n",
       "</g>\n",
       "<!-- Number of Licensed Drivers -->\n",
       "<g id=\"node6\" class=\"node\">\n",
       "<title>Number of Licensed Drivers</title>\n",
       "<ellipse fill=\"none\" stroke=\"black\" cx=\"598.39\" cy=\"-90\" rx=\"111.55\" ry=\"18\"/>\n",
       "<text text-anchor=\"middle\" x=\"598.39\" y=\"-85.8\" font-family=\"Times,serif\" font-size=\"14.00\">Number of Licensed Drivers</text>\n",
       "</g>\n",
       "<!-- Number of Licensed Drivers&#45;&gt;Utility (Drive Alone) -->\n",
       "<g id=\"edge6\" class=\"edge\">\n",
       "<title>Number of Licensed Drivers&#45;&gt;Utility (Drive Alone)</title>\n",
       "<path fill=\"none\" stroke=\"black\" d=\"M540.3,-74.58C493.34,-62.92 427.34,-46.54 379.16,-34.58\"/>\n",
       "<polygon fill=\"black\" stroke=\"black\" points=\"379.72,-31.11 369.17,-32.1 378.03,-37.91 379.72,-31.11\"/>\n",
       "</g>\n",
       "</g>\n",
       "</svg>\n"
      ],
      "text/plain": [
       "<graphviz.dot.Digraph at 0x105b2a8d0>"
      ]
     },
     "execution_count": 13,
     "metadata": {},
     "output_type": "execute_result"
    }
   ],
   "source": [
    "# Define the causal model\n",
    "V_Drive_Alone = CausalGraphicalModel(nodes=[\"Total Travel Distance\",\n",
    "                                            \"Total Travel Time\",\n",
    "                                            \"Total Travel Cost\",\n",
    "                                            \"Number of Autos\",\n",
    "                                            \"Number of Licensed Drivers\",\n",
    "                                            \"Utility (Drive Alone)\"],\n",
    "                                     edges=[(\"Total Travel Distance\",\"Total Travel Time\"),\n",
    "                                            (\"Total Travel Distance\",\"Total Travel Cost\"),\n",
    "                                            (\"Total Travel Time\", \"Utility (Drive Alone)\"), \n",
    "                                            (\"Total Travel Cost\", \"Utility (Drive Alone)\"), \n",
    "                                            (\"Number of Autos\", \"Utility (Drive Alone)\"),\n",
    "                                            (\"Number of Licensed Drivers\",\"Utility (Drive Alone)\")\n",
    "    ]\n",
    ")\n",
    "\n",
    "# draw the causal model\n",
    "V_Drive_Alone.draw()"
   ]
  },
  {
   "cell_type": "code",
   "execution_count": 14,
   "metadata": {},
   "outputs": [
    {
     "data": {
      "image/svg+xml": [
       "<?xml version=\"1.0\" encoding=\"UTF-8\" standalone=\"no\"?>\n",
       "<!DOCTYPE svg PUBLIC \"-//W3C//DTD SVG 1.1//EN\"\n",
       " \"http://www.w3.org/Graphics/SVG/1.1/DTD/svg11.dtd\">\n",
       "<!-- Generated by graphviz version 2.42.3 (20191010.1750)\n",
       " -->\n",
       "<!-- Title: %3 Pages: 1 -->\n",
       "<svg width=\"1166pt\" height=\"188pt\"\n",
       " viewBox=\"0.00 0.00 1166.11 188.00\" xmlns=\"http://www.w3.org/2000/svg\" xmlns:xlink=\"http://www.w3.org/1999/xlink\">\n",
       "<g id=\"graph0\" class=\"graph\" transform=\"scale(1 1) rotate(0) translate(4 184)\">\n",
       "<title>%3</title>\n",
       "<polygon fill=\"white\" stroke=\"transparent\" points=\"-4,4 -4,-184 1162.11,-184 1162.11,4 -4,4\"/>\n",
       "<!-- Total Travel Time -->\n",
       "<g id=\"node1\" class=\"node\">\n",
       "<title>Total Travel Time</title>\n",
       "<ellipse fill=\"none\" stroke=\"black\" cx=\"521.58\" cy=\"-90\" rx=\"73.28\" ry=\"18\"/>\n",
       "<text text-anchor=\"middle\" x=\"521.58\" y=\"-85.8\" font-family=\"Times,serif\" font-size=\"14.00\">Total Travel Time</text>\n",
       "</g>\n",
       "<!-- Utility (Shared Ride 2) -->\n",
       "<g id=\"node4\" class=\"node\">\n",
       "<title>Utility (Shared Ride 2)</title>\n",
       "<ellipse fill=\"none\" stroke=\"black\" cx=\"521.58\" cy=\"-18\" rx=\"91.31\" ry=\"18\"/>\n",
       "<text text-anchor=\"middle\" x=\"521.58\" y=\"-13.8\" font-family=\"Times,serif\" font-size=\"14.00\">Utility (Shared Ride 2)</text>\n",
       "</g>\n",
       "<!-- Total Travel Time&#45;&gt;Utility (Shared Ride 2) -->\n",
       "<g id=\"edge1\" class=\"edge\">\n",
       "<title>Total Travel Time&#45;&gt;Utility (Shared Ride 2)</title>\n",
       "<path fill=\"none\" stroke=\"black\" d=\"M521.58,-71.7C521.58,-63.98 521.58,-54.71 521.58,-46.11\"/>\n",
       "<polygon fill=\"black\" stroke=\"black\" points=\"525.08,-46.1 521.58,-36.1 518.08,-46.1 525.08,-46.1\"/>\n",
       "</g>\n",
       "<!-- Number of Kids -->\n",
       "<g id=\"node2\" class=\"node\">\n",
       "<title>Number of Kids</title>\n",
       "<ellipse fill=\"none\" stroke=\"black\" cx=\"67.58\" cy=\"-90\" rx=\"67.66\" ry=\"18\"/>\n",
       "<text text-anchor=\"middle\" x=\"67.58\" y=\"-85.8\" font-family=\"Times,serif\" font-size=\"14.00\">Number of Kids</text>\n",
       "</g>\n",
       "<!-- Number of Kids&#45;&gt;Utility (Shared Ride 2) -->\n",
       "<g id=\"edge9\" class=\"edge\">\n",
       "<title>Number of Kids&#45;&gt;Utility (Shared Ride 2)</title>\n",
       "<path fill=\"none\" stroke=\"black\" d=\"M116.52,-77.44C125.5,-75.5 134.8,-73.59 143.58,-72 242.95,-53.95 357.98,-38.61 434.8,-29.15\"/>\n",
       "<polygon fill=\"black\" stroke=\"black\" points=\"435.41,-32.6 444.91,-27.91 434.56,-25.65 435.41,-32.6\"/>\n",
       "</g>\n",
       "<!-- Cross Bay Trip -->\n",
       "<g id=\"node3\" class=\"node\">\n",
       "<title>Cross Bay Trip</title>\n",
       "<ellipse fill=\"none\" stroke=\"black\" cx=\"216.58\" cy=\"-90\" rx=\"63.87\" ry=\"18\"/>\n",
       "<text text-anchor=\"middle\" x=\"216.58\" y=\"-85.8\" font-family=\"Times,serif\" font-size=\"14.00\">Cross Bay Trip</text>\n",
       "</g>\n",
       "<!-- Cross Bay Trip&#45;&gt;Utility (Shared Ride 2) -->\n",
       "<g id=\"edge5\" class=\"edge\">\n",
       "<title>Cross Bay Trip&#45;&gt;Utility (Shared Ride 2)</title>\n",
       "<path fill=\"none\" stroke=\"black\" d=\"M264.09,-77.91C272.58,-75.93 281.34,-73.9 289.58,-72 344.9,-59.24 407.68,-44.91 453.97,-34.37\"/>\n",
       "<polygon fill=\"black\" stroke=\"black\" points=\"454.91,-37.74 463.88,-32.11 453.36,-30.92 454.91,-37.74\"/>\n",
       "</g>\n",
       "<!-- Household Size -->\n",
       "<g id=\"node5\" class=\"node\">\n",
       "<title>Household Size</title>\n",
       "<ellipse fill=\"none\" stroke=\"black\" cx=\"364.58\" cy=\"-90\" rx=\"65.72\" ry=\"18\"/>\n",
       "<text text-anchor=\"middle\" x=\"364.58\" y=\"-85.8\" font-family=\"Times,serif\" font-size=\"14.00\">Household Size</text>\n",
       "</g>\n",
       "<!-- Household Size&#45;&gt;Utility (Shared Ride 2) -->\n",
       "<g id=\"edge8\" class=\"edge\">\n",
       "<title>Household Size&#45;&gt;Utility (Shared Ride 2)</title>\n",
       "<path fill=\"none\" stroke=\"black\" d=\"M397.49,-74.33C420.62,-64.02 451.81,-50.11 477.14,-38.81\"/>\n",
       "<polygon fill=\"black\" stroke=\"black\" points=\"478.82,-41.9 486.53,-34.63 475.97,-35.5 478.82,-41.9\"/>\n",
       "</g>\n",
       "<!-- Total Travel Distance -->\n",
       "<g id=\"node6\" class=\"node\">\n",
       "<title>Total Travel Distance</title>\n",
       "<ellipse fill=\"none\" stroke=\"black\" cx=\"602.58\" cy=\"-162\" rx=\"86.25\" ry=\"18\"/>\n",
       "<text text-anchor=\"middle\" x=\"602.58\" y=\"-157.8\" font-family=\"Times,serif\" font-size=\"14.00\">Total Travel Distance</text>\n",
       "</g>\n",
       "<!-- Total Travel Distance&#45;&gt;Total Travel Time -->\n",
       "<g id=\"edge2\" class=\"edge\">\n",
       "<title>Total Travel Distance&#45;&gt;Total Travel Time</title>\n",
       "<path fill=\"none\" stroke=\"black\" d=\"M583.38,-144.41C572.89,-135.34 559.74,-123.97 548.26,-114.06\"/>\n",
       "<polygon fill=\"black\" stroke=\"black\" points=\"550.49,-111.36 540.64,-107.47 545.92,-116.66 550.49,-111.36\"/>\n",
       "</g>\n",
       "<!-- Total Travel Cost -->\n",
       "<g id=\"node7\" class=\"node\">\n",
       "<title>Total Travel Cost</title>\n",
       "<ellipse fill=\"none\" stroke=\"black\" cx=\"684.58\" cy=\"-90\" rx=\"71.31\" ry=\"18\"/>\n",
       "<text text-anchor=\"middle\" x=\"684.58\" y=\"-85.8\" font-family=\"Times,serif\" font-size=\"14.00\">Total Travel Cost</text>\n",
       "</g>\n",
       "<!-- Total Travel Distance&#45;&gt;Total Travel Cost -->\n",
       "<g id=\"edge3\" class=\"edge\">\n",
       "<title>Total Travel Distance&#45;&gt;Total Travel Cost</title>\n",
       "<path fill=\"none\" stroke=\"black\" d=\"M622.01,-144.41C632.63,-135.34 645.95,-123.97 657.57,-114.06\"/>\n",
       "<polygon fill=\"black\" stroke=\"black\" points=\"659.95,-116.62 665.29,-107.47 655.41,-111.3 659.95,-116.62\"/>\n",
       "</g>\n",
       "<!-- Total Travel Cost&#45;&gt;Utility (Shared Ride 2) -->\n",
       "<g id=\"edge4\" class=\"edge\">\n",
       "<title>Total Travel Cost&#45;&gt;Utility (Shared Ride 2)</title>\n",
       "<path fill=\"none\" stroke=\"black\" d=\"M650.01,-74.15C625.88,-63.79 593.41,-49.85 567.16,-38.57\"/>\n",
       "<polygon fill=\"black\" stroke=\"black\" points=\"568.36,-35.28 557.79,-34.55 565.6,-41.71 568.36,-35.28\"/>\n",
       "</g>\n",
       "<!-- Number of Autos -->\n",
       "<g id=\"node8\" class=\"node\">\n",
       "<title>Number of Autos</title>\n",
       "<ellipse fill=\"none\" stroke=\"black\" cx=\"845.58\" cy=\"-90\" rx=\"71.54\" ry=\"18\"/>\n",
       "<text text-anchor=\"middle\" x=\"845.58\" y=\"-85.8\" font-family=\"Times,serif\" font-size=\"14.00\">Number of Autos</text>\n",
       "</g>\n",
       "<!-- Number of Autos&#45;&gt;Utility (Shared Ride 2) -->\n",
       "<g id=\"edge6\" class=\"edge\">\n",
       "<title>Number of Autos&#45;&gt;Utility (Shared Ride 2)</title>\n",
       "<path fill=\"none\" stroke=\"black\" d=\"M793.16,-77.68C738.11,-65.78 651.27,-47.02 590.66,-33.92\"/>\n",
       "<polygon fill=\"black\" stroke=\"black\" points=\"591.3,-30.48 580.79,-31.79 589.82,-37.32 591.3,-30.48\"/>\n",
       "</g>\n",
       "<!-- Number of Licensed Drivers -->\n",
       "<g id=\"node9\" class=\"node\">\n",
       "<title>Number of Licensed Drivers</title>\n",
       "<ellipse fill=\"none\" stroke=\"black\" cx=\"1046.58\" cy=\"-90\" rx=\"111.55\" ry=\"18\"/>\n",
       "<text text-anchor=\"middle\" x=\"1046.58\" y=\"-85.8\" font-family=\"Times,serif\" font-size=\"14.00\">Number of Licensed Drivers</text>\n",
       "</g>\n",
       "<!-- Number of Licensed Drivers&#45;&gt;Utility (Shared Ride 2) -->\n",
       "<g id=\"edge7\" class=\"edge\">\n",
       "<title>Number of Licensed Drivers&#45;&gt;Utility (Shared Ride 2)</title>\n",
       "<path fill=\"none\" stroke=\"black\" d=\"M966.23,-77.5C952.99,-75.64 939.4,-73.75 926.58,-72 815.79,-56.9 687.84,-40.3 605.89,-29.77\"/>\n",
       "<polygon fill=\"black\" stroke=\"black\" points=\"606.25,-26.29 595.89,-28.48 605.36,-33.23 606.25,-26.29\"/>\n",
       "</g>\n",
       "</g>\n",
       "</svg>\n"
      ],
      "text/plain": [
       "<graphviz.dot.Digraph at 0x105af7750>"
      ]
     },
     "execution_count": 14,
     "metadata": {},
     "output_type": "execute_result"
    }
   ],
   "source": [
    "# Define the causal model\n",
    "V_Shared_2 = CausalGraphicalModel(nodes=[\"Total Travel Time\",\n",
    "                                         \"Total Travel Distance\",\n",
    "                                         \"Total Travel Cost\",\n",
    "                                         \"Cross Bay Trip\",\n",
    "                                         \"Number of Autos\",\n",
    "                                         \"Number of Licensed Drivers\",\n",
    "                                         \"Household Size\",\n",
    "                                         \"Number of Kids\",\n",
    "                                         \"Utility (Shared Ride 2)\"],\n",
    "                                  edges=[(\"Total Travel Distance\",\"Total Travel Time\"),\n",
    "                                         (\"Total Travel Distance\",\"Total Travel Cost\"),\n",
    "                                         (\"Total Travel Time\", \"Utility (Shared Ride 2)\"),\n",
    "                                         (\"Number of Autos\", \"Utility (Shared Ride 2)\"),\n",
    "                                         (\"Number of Licensed Drivers\", \"Utility (Shared Ride 2)\"),\n",
    "                                         (\"Total Travel Cost\", \"Utility (Shared Ride 2)\"),\n",
    "                                         (\"Household Size\", \"Utility (Shared Ride 2)\"),\n",
    "                                         (\"Cross Bay Trip\", \"Utility (Shared Ride 2)\"),\n",
    "                                         (\"Number of Kids\", \"Utility (Shared Ride 2)\")\n",
    "    ]\n",
    ")\n",
    "\n",
    "# draw the causal model\n",
    "V_Shared_2.draw()"
   ]
  },
  {
   "cell_type": "code",
   "execution_count": 15,
   "metadata": {},
   "outputs": [
    {
     "data": {
      "image/svg+xml": [
       "<?xml version=\"1.0\" encoding=\"UTF-8\" standalone=\"no\"?>\n",
       "<!DOCTYPE svg PUBLIC \"-//W3C//DTD SVG 1.1//EN\"\n",
       " \"http://www.w3.org/Graphics/SVG/1.1/DTD/svg11.dtd\">\n",
       "<!-- Generated by graphviz version 2.42.3 (20191010.1750)\n",
       " -->\n",
       "<!-- Title: %3 Pages: 1 -->\n",
       "<svg width=\"1166pt\" height=\"188pt\"\n",
       " viewBox=\"0.00 0.00 1166.11 188.00\" xmlns=\"http://www.w3.org/2000/svg\" xmlns:xlink=\"http://www.w3.org/1999/xlink\">\n",
       "<g id=\"graph0\" class=\"graph\" transform=\"scale(1 1) rotate(0) translate(4 184)\">\n",
       "<title>%3</title>\n",
       "<polygon fill=\"white\" stroke=\"transparent\" points=\"-4,4 -4,-184 1162.11,-184 1162.11,4 -4,4\"/>\n",
       "<!-- Total Travel Time -->\n",
       "<g id=\"node1\" class=\"node\">\n",
       "<title>Total Travel Time</title>\n",
       "<ellipse fill=\"none\" stroke=\"black\" cx=\"521.58\" cy=\"-90\" rx=\"73.28\" ry=\"18\"/>\n",
       "<text text-anchor=\"middle\" x=\"521.58\" y=\"-85.8\" font-family=\"Times,serif\" font-size=\"14.00\">Total Travel Time</text>\n",
       "</g>\n",
       "<!-- Utility (Shared Ride 3+) -->\n",
       "<g id=\"node5\" class=\"node\">\n",
       "<title>Utility (Shared Ride 3+)</title>\n",
       "<ellipse fill=\"none\" stroke=\"black\" cx=\"521.58\" cy=\"-18\" rx=\"96.28\" ry=\"18\"/>\n",
       "<text text-anchor=\"middle\" x=\"521.58\" y=\"-13.8\" font-family=\"Times,serif\" font-size=\"14.00\">Utility (Shared Ride 3+)</text>\n",
       "</g>\n",
       "<!-- Total Travel Time&#45;&gt;Utility (Shared Ride 3+) -->\n",
       "<g id=\"edge1\" class=\"edge\">\n",
       "<title>Total Travel Time&#45;&gt;Utility (Shared Ride 3+)</title>\n",
       "<path fill=\"none\" stroke=\"black\" d=\"M521.58,-71.7C521.58,-63.98 521.58,-54.71 521.58,-46.11\"/>\n",
       "<polygon fill=\"black\" stroke=\"black\" points=\"525.08,-46.1 521.58,-36.1 518.08,-46.1 525.08,-46.1\"/>\n",
       "</g>\n",
       "<!-- Number of Kids -->\n",
       "<g id=\"node2\" class=\"node\">\n",
       "<title>Number of Kids</title>\n",
       "<ellipse fill=\"none\" stroke=\"black\" cx=\"67.58\" cy=\"-90\" rx=\"67.66\" ry=\"18\"/>\n",
       "<text text-anchor=\"middle\" x=\"67.58\" y=\"-85.8\" font-family=\"Times,serif\" font-size=\"14.00\">Number of Kids</text>\n",
       "</g>\n",
       "<!-- Number of Kids&#45;&gt;Utility (Shared Ride 3+) -->\n",
       "<g id=\"edge9\" class=\"edge\">\n",
       "<title>Number of Kids&#45;&gt;Utility (Shared Ride 3+)</title>\n",
       "<path fill=\"none\" stroke=\"black\" d=\"M116.52,-77.44C125.5,-75.5 134.8,-73.59 143.58,-72 241.7,-54.18 355.09,-38.99 431.89,-29.5\"/>\n",
       "<polygon fill=\"black\" stroke=\"black\" points=\"432.51,-32.95 442,-28.26 431.65,-26.01 432.51,-32.95\"/>\n",
       "</g>\n",
       "<!-- Cross Bay Trip -->\n",
       "<g id=\"node3\" class=\"node\">\n",
       "<title>Cross Bay Trip</title>\n",
       "<ellipse fill=\"none\" stroke=\"black\" cx=\"216.58\" cy=\"-90\" rx=\"63.87\" ry=\"18\"/>\n",
       "<text text-anchor=\"middle\" x=\"216.58\" y=\"-85.8\" font-family=\"Times,serif\" font-size=\"14.00\">Cross Bay Trip</text>\n",
       "</g>\n",
       "<!-- Cross Bay Trip&#45;&gt;Utility (Shared Ride 3+) -->\n",
       "<g id=\"edge5\" class=\"edge\">\n",
       "<title>Cross Bay Trip&#45;&gt;Utility (Shared Ride 3+)</title>\n",
       "<path fill=\"none\" stroke=\"black\" d=\"M264.09,-77.91C272.58,-75.93 281.34,-73.9 289.58,-72 344.53,-59.33 406.83,-45.1 453.03,-34.58\"/>\n",
       "<polygon fill=\"black\" stroke=\"black\" points=\"453.95,-37.96 462.93,-32.33 452.4,-31.14 453.95,-37.96\"/>\n",
       "</g>\n",
       "<!-- Household Size -->\n",
       "<g id=\"node4\" class=\"node\">\n",
       "<title>Household Size</title>\n",
       "<ellipse fill=\"none\" stroke=\"black\" cx=\"364.58\" cy=\"-90\" rx=\"65.72\" ry=\"18\"/>\n",
       "<text text-anchor=\"middle\" x=\"364.58\" y=\"-85.8\" font-family=\"Times,serif\" font-size=\"14.00\">Household Size</text>\n",
       "</g>\n",
       "<!-- Household Size&#45;&gt;Utility (Shared Ride 3+) -->\n",
       "<g id=\"edge8\" class=\"edge\">\n",
       "<title>Household Size&#45;&gt;Utility (Shared Ride 3+)</title>\n",
       "<path fill=\"none\" stroke=\"black\" d=\"M397.49,-74.33C420.54,-64.05 451.6,-50.2 476.88,-38.93\"/>\n",
       "<polygon fill=\"black\" stroke=\"black\" points=\"478.55,-42.02 486.26,-34.75 475.7,-35.63 478.55,-42.02\"/>\n",
       "</g>\n",
       "<!-- Total Travel Distance -->\n",
       "<g id=\"node6\" class=\"node\">\n",
       "<title>Total Travel Distance</title>\n",
       "<ellipse fill=\"none\" stroke=\"black\" cx=\"602.58\" cy=\"-162\" rx=\"86.25\" ry=\"18\"/>\n",
       "<text text-anchor=\"middle\" x=\"602.58\" y=\"-157.8\" font-family=\"Times,serif\" font-size=\"14.00\">Total Travel Distance</text>\n",
       "</g>\n",
       "<!-- Total Travel Distance&#45;&gt;Total Travel Time -->\n",
       "<g id=\"edge2\" class=\"edge\">\n",
       "<title>Total Travel Distance&#45;&gt;Total Travel Time</title>\n",
       "<path fill=\"none\" stroke=\"black\" d=\"M583.38,-144.41C572.89,-135.34 559.74,-123.97 548.26,-114.06\"/>\n",
       "<polygon fill=\"black\" stroke=\"black\" points=\"550.49,-111.36 540.64,-107.47 545.92,-116.66 550.49,-111.36\"/>\n",
       "</g>\n",
       "<!-- Total Travel Cost -->\n",
       "<g id=\"node7\" class=\"node\">\n",
       "<title>Total Travel Cost</title>\n",
       "<ellipse fill=\"none\" stroke=\"black\" cx=\"684.58\" cy=\"-90\" rx=\"71.31\" ry=\"18\"/>\n",
       "<text text-anchor=\"middle\" x=\"684.58\" y=\"-85.8\" font-family=\"Times,serif\" font-size=\"14.00\">Total Travel Cost</text>\n",
       "</g>\n",
       "<!-- Total Travel Distance&#45;&gt;Total Travel Cost -->\n",
       "<g id=\"edge3\" class=\"edge\">\n",
       "<title>Total Travel Distance&#45;&gt;Total Travel Cost</title>\n",
       "<path fill=\"none\" stroke=\"black\" d=\"M622.01,-144.41C632.63,-135.34 645.95,-123.97 657.57,-114.06\"/>\n",
       "<polygon fill=\"black\" stroke=\"black\" points=\"659.95,-116.62 665.29,-107.47 655.41,-111.3 659.95,-116.62\"/>\n",
       "</g>\n",
       "<!-- Total Travel Cost&#45;&gt;Utility (Shared Ride 3+) -->\n",
       "<g id=\"edge4\" class=\"edge\">\n",
       "<title>Total Travel Cost&#45;&gt;Utility (Shared Ride 3+)</title>\n",
       "<path fill=\"none\" stroke=\"black\" d=\"M650.01,-74.15C625.96,-63.83 593.63,-49.94 567.43,-38.69\"/>\n",
       "<polygon fill=\"black\" stroke=\"black\" points=\"568.65,-35.4 558.08,-34.67 565.89,-41.84 568.65,-35.4\"/>\n",
       "</g>\n",
       "<!-- Number of Autos -->\n",
       "<g id=\"node8\" class=\"node\">\n",
       "<title>Number of Autos</title>\n",
       "<ellipse fill=\"none\" stroke=\"black\" cx=\"845.58\" cy=\"-90\" rx=\"71.54\" ry=\"18\"/>\n",
       "<text text-anchor=\"middle\" x=\"845.58\" y=\"-85.8\" font-family=\"Times,serif\" font-size=\"14.00\">Number of Autos</text>\n",
       "</g>\n",
       "<!-- Number of Autos&#45;&gt;Utility (Shared Ride 3+) -->\n",
       "<g id=\"edge6\" class=\"edge\">\n",
       "<title>Number of Autos&#45;&gt;Utility (Shared Ride 3+)</title>\n",
       "<path fill=\"none\" stroke=\"black\" d=\"M793.16,-77.68C738.54,-65.87 652.61,-47.31 592.06,-34.23\"/>\n",
       "<polygon fill=\"black\" stroke=\"black\" points=\"592.71,-30.79 582.2,-32.1 591.23,-37.63 592.71,-30.79\"/>\n",
       "</g>\n",
       "<!-- Number of Licensed Drivers -->\n",
       "<g id=\"node9\" class=\"node\">\n",
       "<title>Number of Licensed Drivers</title>\n",
       "<ellipse fill=\"none\" stroke=\"black\" cx=\"1046.58\" cy=\"-90\" rx=\"111.55\" ry=\"18\"/>\n",
       "<text text-anchor=\"middle\" x=\"1046.58\" y=\"-85.8\" font-family=\"Times,serif\" font-size=\"14.00\">Number of Licensed Drivers</text>\n",
       "</g>\n",
       "<!-- Number of Licensed Drivers&#45;&gt;Utility (Shared Ride 3+) -->\n",
       "<g id=\"edge7\" class=\"edge\">\n",
       "<title>Number of Licensed Drivers&#45;&gt;Utility (Shared Ride 3+)</title>\n",
       "<path fill=\"none\" stroke=\"black\" d=\"M966.23,-77.5C952.99,-75.64 939.4,-73.75 926.58,-72 817.14,-57.09 690.96,-40.7 608.91,-30.16\"/>\n",
       "<polygon fill=\"black\" stroke=\"black\" points=\"609.24,-26.67 598.88,-28.87 608.35,-33.61 609.24,-26.67\"/>\n",
       "</g>\n",
       "</g>\n",
       "</svg>\n"
      ],
      "text/plain": [
       "<graphviz.dot.Digraph at 0x105b0d290>"
      ]
     },
     "execution_count": 15,
     "metadata": {},
     "output_type": "execute_result"
    }
   ],
   "source": [
    "# Define the causal model\n",
    "V_Shared_3p = CausalGraphicalModel(nodes=[\"Total Travel Time\",\n",
    "                                         \"Total Travel Distance\",\n",
    "                                         \"Total Travel Cost\",\n",
    "                                         \"Cross Bay Trip\",\n",
    "                                         \"Number of Autos\",\n",
    "                                         \"Number of Licensed Drivers\",\n",
    "                                         \"Household Size\",\n",
    "                                         \"Number of Kids\",\n",
    "                                         \"Utility (Shared Ride 3+)\"],\n",
    "                                  edges=[(\"Total Travel Distance\",\"Total Travel Time\"),\n",
    "                                         (\"Total Travel Distance\",\"Total Travel Cost\"),\n",
    "                                         (\"Total Travel Time\", \"Utility (Shared Ride 3+)\"),\n",
    "                                         (\"Number of Autos\", \"Utility (Shared Ride 3+)\"),\n",
    "                                         (\"Number of Licensed Drivers\", \"Utility (Shared Ride 3+)\"),\n",
    "                                         (\"Total Travel Cost\", \"Utility (Shared Ride 3+)\"),\n",
    "                                         (\"Household Size\", \"Utility (Shared Ride 3+)\"),\n",
    "                                         (\"Cross Bay Trip\", \"Utility (Shared Ride 3+)\"),\n",
    "                                         (\"Number of Kids\", \"Utility (Shared Ride 3+)\")\n",
    "    ]\n",
    ")\n",
    "\n",
    "# draw the causal model\n",
    "V_Shared_3p.draw()"
   ]
  },
  {
   "cell_type": "code",
   "execution_count": 16,
   "metadata": {},
   "outputs": [
    {
     "data": {
      "image/svg+xml": [
       "<?xml version=\"1.0\" encoding=\"UTF-8\" standalone=\"no\"?>\n",
       "<!DOCTYPE svg PUBLIC \"-//W3C//DTD SVG 1.1//EN\"\n",
       " \"http://www.w3.org/Graphics/SVG/1.1/DTD/svg11.dtd\">\n",
       "<!-- Generated by graphviz version 2.42.3 (20191010.1750)\n",
       " -->\n",
       "<!-- Title: %3 Pages: 1 -->\n",
       "<svg width=\"346pt\" height=\"188pt\"\n",
       " viewBox=\"0.00 0.00 345.52 188.00\" xmlns=\"http://www.w3.org/2000/svg\" xmlns:xlink=\"http://www.w3.org/1999/xlink\">\n",
       "<g id=\"graph0\" class=\"graph\" transform=\"scale(1 1) rotate(0) translate(4 184)\">\n",
       "<title>%3</title>\n",
       "<polygon fill=\"white\" stroke=\"transparent\" points=\"-4,4 -4,-184 341.52,-184 341.52,4 -4,4\"/>\n",
       "<!-- Total Travel Distance -->\n",
       "<g id=\"node1\" class=\"node\">\n",
       "<title>Total Travel Distance</title>\n",
       "<ellipse fill=\"none\" stroke=\"black\" cx=\"86.13\" cy=\"-162\" rx=\"86.25\" ry=\"18\"/>\n",
       "<text text-anchor=\"middle\" x=\"86.13\" y=\"-157.8\" font-family=\"Times,serif\" font-size=\"14.00\">Total Travel Distance</text>\n",
       "</g>\n",
       "<!-- Total Travel Time -->\n",
       "<g id=\"node2\" class=\"node\">\n",
       "<title>Total Travel Time</title>\n",
       "<ellipse fill=\"none\" stroke=\"black\" cx=\"264.13\" cy=\"-162\" rx=\"73.28\" ry=\"18\"/>\n",
       "<text text-anchor=\"middle\" x=\"264.13\" y=\"-157.8\" font-family=\"Times,serif\" font-size=\"14.00\">Total Travel Time</text>\n",
       "</g>\n",
       "<!-- Total Travel Cost -->\n",
       "<g id=\"node3\" class=\"node\">\n",
       "<title>Total Travel Cost</title>\n",
       "<ellipse fill=\"none\" stroke=\"black\" cx=\"214.13\" cy=\"-90\" rx=\"71.31\" ry=\"18\"/>\n",
       "<text text-anchor=\"middle\" x=\"214.13\" y=\"-85.8\" font-family=\"Times,serif\" font-size=\"14.00\">Total Travel Cost</text>\n",
       "</g>\n",
       "<!-- Total Travel Time&#45;&gt;Total Travel Cost -->\n",
       "<g id=\"edge1\" class=\"edge\">\n",
       "<title>Total Travel Time&#45;&gt;Total Travel Cost</title>\n",
       "<path fill=\"none\" stroke=\"black\" d=\"M252.02,-144.05C246,-135.63 238.61,-125.28 231.96,-115.97\"/>\n",
       "<polygon fill=\"black\" stroke=\"black\" points=\"234.78,-113.89 226.12,-107.79 229.08,-117.96 234.78,-113.89\"/>\n",
       "</g>\n",
       "<!-- Utility (WTW) -->\n",
       "<g id=\"node4\" class=\"node\">\n",
       "<title>Utility (WTW)</title>\n",
       "<ellipse fill=\"none\" stroke=\"black\" cx=\"263.13\" cy=\"-18\" rx=\"63.29\" ry=\"18\"/>\n",
       "<text text-anchor=\"middle\" x=\"263.13\" y=\"-13.8\" font-family=\"Times,serif\" font-size=\"14.00\">Utility (WTW)</text>\n",
       "</g>\n",
       "<!-- Total Travel Time&#45;&gt;Utility (WTW) -->\n",
       "<g id=\"edge2\" class=\"edge\">\n",
       "<title>Total Travel Time&#45;&gt;Utility (WTW)</title>\n",
       "<path fill=\"none\" stroke=\"black\" d=\"M276.85,-143.85C283.41,-133.92 290.73,-120.88 294.13,-108 298.2,-92.53 298.31,-87.44 294.13,-72 291.55,-62.48 286.78,-52.92 281.75,-44.59\"/>\n",
       "<polygon fill=\"black\" stroke=\"black\" points=\"284.63,-42.6 276.27,-36.09 278.75,-46.39 284.63,-42.6\"/>\n",
       "</g>\n",
       "<!-- Total Travel Cost&#45;&gt;Utility (WTW) -->\n",
       "<g id=\"edge3\" class=\"edge\">\n",
       "<title>Total Travel Cost&#45;&gt;Utility (WTW)</title>\n",
       "<path fill=\"none\" stroke=\"black\" d=\"M225.99,-72.05C231.83,-63.71 238.98,-53.49 245.45,-44.25\"/>\n",
       "<polygon fill=\"black\" stroke=\"black\" points=\"248.51,-45.99 251.37,-35.79 242.77,-41.97 248.51,-45.99\"/>\n",
       "</g>\n",
       "</g>\n",
       "</svg>\n"
      ],
      "text/plain": [
       "<graphviz.dot.Digraph at 0x105b0db90>"
      ]
     },
     "execution_count": 16,
     "metadata": {},
     "output_type": "execute_result"
    }
   ],
   "source": [
    "# Define the causal model\n",
    "V_WTW = CausalGraphicalModel(nodes=[\"Total Travel Distance\",\n",
    "                                    \"Total Travel Time\",\n",
    "                                    \"Total Travel Cost\",\n",
    "                                    \"Utility (WTW)\"],\n",
    "                                  edges=[(\"Total Travel Time\", \"Total Travel Cost\"),\n",
    "                                         (\"Total Travel Time\", \"Utility (WTW)\"),\n",
    "                                         (\"Total Travel Cost\", \"Utility (WTW)\")\n",
    "    ]\n",
    ")\n",
    "\n",
    "# draw the causal model\n",
    "V_WTW.draw()"
   ]
  },
  {
   "cell_type": "code",
   "execution_count": 17,
   "metadata": {},
   "outputs": [
    {
     "data": {
      "image/svg+xml": [
       "<?xml version=\"1.0\" encoding=\"UTF-8\" standalone=\"no\"?>\n",
       "<!DOCTYPE svg PUBLIC \"-//W3C//DTD SVG 1.1//EN\"\n",
       " \"http://www.w3.org/Graphics/SVG/1.1/DTD/svg11.dtd\">\n",
       "<!-- Generated by graphviz version 2.42.3 (20191010.1750)\n",
       " -->\n",
       "<!-- Title: %3 Pages: 1 -->\n",
       "<svg width=\"202pt\" height=\"188pt\"\n",
       " viewBox=\"0.00 0.00 201.80 188.00\" xmlns=\"http://www.w3.org/2000/svg\" xmlns:xlink=\"http://www.w3.org/1999/xlink\">\n",
       "<g id=\"graph0\" class=\"graph\" transform=\"scale(1 1) rotate(0) translate(4 184)\">\n",
       "<title>%3</title>\n",
       "<polygon fill=\"white\" stroke=\"transparent\" points=\"-4,4 -4,-184 197.8,-184 197.8,4 -4,4\"/>\n",
       "<!-- Total Travel Time -->\n",
       "<g id=\"node1\" class=\"node\">\n",
       "<title>Total Travel Time</title>\n",
       "<ellipse fill=\"none\" stroke=\"black\" cx=\"120.41\" cy=\"-162\" rx=\"73.28\" ry=\"18\"/>\n",
       "<text text-anchor=\"middle\" x=\"120.41\" y=\"-157.8\" font-family=\"Times,serif\" font-size=\"14.00\">Total Travel Time</text>\n",
       "</g>\n",
       "<!-- Total Travel Cost -->\n",
       "<g id=\"node2\" class=\"node\">\n",
       "<title>Total Travel Cost</title>\n",
       "<ellipse fill=\"none\" stroke=\"black\" cx=\"71.41\" cy=\"-90\" rx=\"71.31\" ry=\"18\"/>\n",
       "<text text-anchor=\"middle\" x=\"71.41\" y=\"-85.8\" font-family=\"Times,serif\" font-size=\"14.00\">Total Travel Cost</text>\n",
       "</g>\n",
       "<!-- Total Travel Time&#45;&gt;Total Travel Cost -->\n",
       "<g id=\"edge1\" class=\"edge\">\n",
       "<title>Total Travel Time&#45;&gt;Total Travel Cost</title>\n",
       "<path fill=\"none\" stroke=\"black\" d=\"M108.55,-144.05C102.71,-135.71 95.55,-125.49 89.08,-116.25\"/>\n",
       "<polygon fill=\"black\" stroke=\"black\" points=\"91.76,-113.97 83.16,-107.79 86.03,-117.99 91.76,-113.97\"/>\n",
       "</g>\n",
       "<!-- Utility (DTW) -->\n",
       "<g id=\"node3\" class=\"node\">\n",
       "<title>Utility (DTW)</title>\n",
       "<ellipse fill=\"none\" stroke=\"black\" cx=\"120.41\" cy=\"-18\" rx=\"61.37\" ry=\"18\"/>\n",
       "<text text-anchor=\"middle\" x=\"120.41\" y=\"-13.8\" font-family=\"Times,serif\" font-size=\"14.00\">Utility (DTW)</text>\n",
       "</g>\n",
       "<!-- Total Travel Time&#45;&gt;Utility (DTW) -->\n",
       "<g id=\"edge2\" class=\"edge\">\n",
       "<title>Total Travel Time&#45;&gt;Utility (DTW)</title>\n",
       "<path fill=\"none\" stroke=\"black\" d=\"M133.55,-143.91C140.33,-134.01 147.89,-120.96 151.41,-108 155.59,-92.56 155.59,-87.44 151.41,-72 148.79,-62.33 143.91,-52.61 138.79,-44.19\"/>\n",
       "<polygon fill=\"black\" stroke=\"black\" points=\"141.61,-42.11 133.23,-35.62 135.74,-45.92 141.61,-42.11\"/>\n",
       "</g>\n",
       "<!-- Total Travel Cost&#45;&gt;Utility (DTW) -->\n",
       "<g id=\"edge3\" class=\"edge\">\n",
       "<title>Total Travel Cost&#45;&gt;Utility (DTW)</title>\n",
       "<path fill=\"none\" stroke=\"black\" d=\"M83.27,-72.05C89.11,-63.71 96.26,-53.49 102.73,-44.25\"/>\n",
       "<polygon fill=\"black\" stroke=\"black\" points=\"105.79,-45.99 108.65,-35.79 100.05,-41.97 105.79,-45.99\"/>\n",
       "</g>\n",
       "</g>\n",
       "</svg>\n"
      ],
      "text/plain": [
       "<graphviz.dot.Digraph at 0x116be2bd0>"
      ]
     },
     "execution_count": 17,
     "metadata": {},
     "output_type": "execute_result"
    }
   ],
   "source": [
    "# Define the causal model\n",
    "V_DTW = CausalGraphicalModel(nodes=[\"Total Travel Time\",\n",
    "                                         \"Total Travel Cost\",\n",
    "                                         \"Utility (DTW)\"],\n",
    "                             edges=[(\"Total Travel Time\", \"Total Travel Cost\"),\n",
    "                                         (\"Total Travel Time\", \"Utility (DTW)\"),\n",
    "                                         (\"Total Travel Cost\", \"Utility (DTW)\")\n",
    "    ]\n",
    ")\n",
    "\n",
    "# draw the causal model\n",
    "V_DTW.draw()"
   ]
  },
  {
   "cell_type": "code",
   "execution_count": 18,
   "metadata": {},
   "outputs": [
    {
     "data": {
      "image/svg+xml": [
       "<?xml version=\"1.0\" encoding=\"UTF-8\" standalone=\"no\"?>\n",
       "<!DOCTYPE svg PUBLIC \"-//W3C//DTD SVG 1.1//EN\"\n",
       " \"http://www.w3.org/Graphics/SVG/1.1/DTD/svg11.dtd\">\n",
       "<!-- Generated by graphviz version 2.42.3 (20191010.1750)\n",
       " -->\n",
       "<!-- Title: %3 Pages: 1 -->\n",
       "<svg width=\"203pt\" height=\"188pt\"\n",
       " viewBox=\"0.00 0.00 202.80 188.00\" xmlns=\"http://www.w3.org/2000/svg\" xmlns:xlink=\"http://www.w3.org/1999/xlink\">\n",
       "<g id=\"graph0\" class=\"graph\" transform=\"scale(1 1) rotate(0) translate(4 184)\">\n",
       "<title>%3</title>\n",
       "<polygon fill=\"white\" stroke=\"transparent\" points=\"-4,4 -4,-184 198.8,-184 198.8,4 -4,4\"/>\n",
       "<!-- Utility (WTD) -->\n",
       "<g id=\"node1\" class=\"node\">\n",
       "<title>Utility (WTD)</title>\n",
       "<ellipse fill=\"none\" stroke=\"black\" cx=\"73.39\" cy=\"-18\" rx=\"61.37\" ry=\"18\"/>\n",
       "<text text-anchor=\"middle\" x=\"73.39\" y=\"-13.8\" font-family=\"Times,serif\" font-size=\"14.00\">Utility (WTD)</text>\n",
       "</g>\n",
       "<!-- Total Travel Time -->\n",
       "<g id=\"node2\" class=\"node\">\n",
       "<title>Total Travel Time</title>\n",
       "<ellipse fill=\"none\" stroke=\"black\" cx=\"73.39\" cy=\"-162\" rx=\"73.28\" ry=\"18\"/>\n",
       "<text text-anchor=\"middle\" x=\"73.39\" y=\"-157.8\" font-family=\"Times,serif\" font-size=\"14.00\">Total Travel Time</text>\n",
       "</g>\n",
       "<!-- Total Travel Time&#45;&gt;Utility (WTD) -->\n",
       "<g id=\"edge2\" class=\"edge\">\n",
       "<title>Total Travel Time&#45;&gt;Utility (WTD)</title>\n",
       "<path fill=\"none\" stroke=\"black\" d=\"M60.66,-143.85C54.1,-133.92 46.78,-120.88 43.39,-108 39.31,-92.53 39.31,-87.47 43.39,-72 45.92,-62.39 50.64,-52.69 55.59,-44.26\"/>\n",
       "<polygon fill=\"black\" stroke=\"black\" points=\"58.63,-46.02 60.97,-35.68 52.7,-42.3 58.63,-46.02\"/>\n",
       "</g>\n",
       "<!-- Total Travel Cost -->\n",
       "<g id=\"node3\" class=\"node\">\n",
       "<title>Total Travel Cost</title>\n",
       "<ellipse fill=\"none\" stroke=\"black\" cx=\"123.39\" cy=\"-90\" rx=\"71.31\" ry=\"18\"/>\n",
       "<text text-anchor=\"middle\" x=\"123.39\" y=\"-85.8\" font-family=\"Times,serif\" font-size=\"14.00\">Total Travel Cost</text>\n",
       "</g>\n",
       "<!-- Total Travel Time&#45;&gt;Total Travel Cost -->\n",
       "<g id=\"edge1\" class=\"edge\">\n",
       "<title>Total Travel Time&#45;&gt;Total Travel Cost</title>\n",
       "<path fill=\"none\" stroke=\"black\" d=\"M85.49,-144.05C91.51,-135.63 98.9,-125.28 105.56,-115.97\"/>\n",
       "<polygon fill=\"black\" stroke=\"black\" points=\"108.43,-117.96 111.4,-107.79 102.74,-113.89 108.43,-117.96\"/>\n",
       "</g>\n",
       "<!-- Total Travel Cost&#45;&gt;Utility (WTD) -->\n",
       "<g id=\"edge3\" class=\"edge\">\n",
       "<title>Total Travel Cost&#45;&gt;Utility (WTD)</title>\n",
       "<path fill=\"none\" stroke=\"black\" d=\"M111.28,-72.05C105.27,-63.63 97.87,-53.28 91.22,-43.97\"/>\n",
       "<polygon fill=\"black\" stroke=\"black\" points=\"94.04,-41.89 85.38,-35.79 88.35,-45.96 94.04,-41.89\"/>\n",
       "</g>\n",
       "</g>\n",
       "</svg>\n"
      ],
      "text/plain": [
       "<graphviz.dot.Digraph at 0x116bde810>"
      ]
     },
     "execution_count": 18,
     "metadata": {},
     "output_type": "execute_result"
    }
   ],
   "source": [
    "# Define the causal model\n",
    "V_WTD = CausalGraphicalModel(nodes=[\"Total Travel Time\",\n",
    "                                    \"Total Travel Cost\",\n",
    "                                    \"Utility (WTD)\"],\n",
    "                             edges=[(\"Total Travel Time\", \"Total Travel Cost\"),\n",
    "                                    (\"Total Travel Time\", \"Utility (WTD)\"),\n",
    "                                    (\"Total Travel Cost\", \"Utility (WTD)\")\n",
    "    ]\n",
    ")\n",
    "\n",
    "# draw the causal model\n",
    "V_WTD.draw()"
   ]
  },
  {
   "cell_type": "code",
   "execution_count": 19,
   "metadata": {},
   "outputs": [
    {
     "data": {
      "image/svg+xml": [
       "<?xml version=\"1.0\" encoding=\"UTF-8\" standalone=\"no\"?>\n",
       "<!DOCTYPE svg PUBLIC \"-//W3C//DTD SVG 1.1//EN\"\n",
       " \"http://www.w3.org/Graphics/SVG/1.1/DTD/svg11.dtd\">\n",
       "<!-- Generated by graphviz version 2.42.3 (20191010.1750)\n",
       " -->\n",
       "<!-- Title: %3 Pages: 1 -->\n",
       "<svg width=\"180pt\" height=\"116pt\"\n",
       " viewBox=\"0.00 0.00 180.25 116.00\" xmlns=\"http://www.w3.org/2000/svg\" xmlns:xlink=\"http://www.w3.org/1999/xlink\">\n",
       "<g id=\"graph0\" class=\"graph\" transform=\"scale(1 1) rotate(0) translate(4 112)\">\n",
       "<title>%3</title>\n",
       "<polygon fill=\"white\" stroke=\"transparent\" points=\"-4,4 -4,-112 176.25,-112 176.25,4 -4,4\"/>\n",
       "<!-- Total Travel Distance -->\n",
       "<g id=\"node1\" class=\"node\">\n",
       "<title>Total Travel Distance</title>\n",
       "<ellipse fill=\"none\" stroke=\"black\" cx=\"86.13\" cy=\"-90\" rx=\"86.25\" ry=\"18\"/>\n",
       "<text text-anchor=\"middle\" x=\"86.13\" y=\"-85.8\" font-family=\"Times,serif\" font-size=\"14.00\">Total Travel Distance</text>\n",
       "</g>\n",
       "<!-- Utility (Walk) -->\n",
       "<g id=\"node2\" class=\"node\">\n",
       "<title>Utility (Walk)</title>\n",
       "<ellipse fill=\"none\" stroke=\"black\" cx=\"86.13\" cy=\"-18\" rx=\"60\" ry=\"18\"/>\n",
       "<text text-anchor=\"middle\" x=\"86.13\" y=\"-13.8\" font-family=\"Times,serif\" font-size=\"14.00\">Utility (Walk)</text>\n",
       "</g>\n",
       "<!-- Total Travel Distance&#45;&gt;Utility (Walk) -->\n",
       "<g id=\"edge1\" class=\"edge\">\n",
       "<title>Total Travel Distance&#45;&gt;Utility (Walk)</title>\n",
       "<path fill=\"none\" stroke=\"black\" d=\"M86.13,-71.7C86.13,-63.98 86.13,-54.71 86.13,-46.11\"/>\n",
       "<polygon fill=\"black\" stroke=\"black\" points=\"89.63,-46.1 86.13,-36.1 82.63,-46.1 89.63,-46.1\"/>\n",
       "</g>\n",
       "</g>\n",
       "</svg>\n"
      ],
      "text/plain": [
       "<graphviz.dot.Digraph at 0x105b0d890>"
      ]
     },
     "execution_count": 19,
     "metadata": {},
     "output_type": "execute_result"
    }
   ],
   "source": [
    "# Define the causal model\n",
    "V_Walk = CausalGraphicalModel(nodes=[\"Total Travel Distance\",\n",
    "                                     \"Utility (Walk)\"],\n",
    "                              edges=[(\"Total Travel Distance\", \"Utility (Walk)\")\n",
    "    ]\n",
    ")\n",
    "\n",
    "# draw the causal model\n",
    "V_Walk.draw()"
   ]
  },
  {
   "cell_type": "code",
   "execution_count": 20,
   "metadata": {},
   "outputs": [
    {
     "data": {
      "image/svg+xml": [
       "<?xml version=\"1.0\" encoding=\"UTF-8\" standalone=\"no\"?>\n",
       "<!DOCTYPE svg PUBLIC \"-//W3C//DTD SVG 1.1//EN\"\n",
       " \"http://www.w3.org/Graphics/SVG/1.1/DTD/svg11.dtd\">\n",
       "<!-- Generated by graphviz version 2.42.3 (20191010.1750)\n",
       " -->\n",
       "<!-- Title: %3 Pages: 1 -->\n",
       "<svg width=\"180pt\" height=\"116pt\"\n",
       " viewBox=\"0.00 0.00 180.25 116.00\" xmlns=\"http://www.w3.org/2000/svg\" xmlns:xlink=\"http://www.w3.org/1999/xlink\">\n",
       "<g id=\"graph0\" class=\"graph\" transform=\"scale(1 1) rotate(0) translate(4 112)\">\n",
       "<title>%3</title>\n",
       "<polygon fill=\"white\" stroke=\"transparent\" points=\"-4,4 -4,-112 176.25,-112 176.25,4 -4,4\"/>\n",
       "<!-- Total Travel Distance -->\n",
       "<g id=\"node1\" class=\"node\">\n",
       "<title>Total Travel Distance</title>\n",
       "<ellipse fill=\"none\" stroke=\"black\" cx=\"86.13\" cy=\"-90\" rx=\"86.25\" ry=\"18\"/>\n",
       "<text text-anchor=\"middle\" x=\"86.13\" y=\"-85.8\" font-family=\"Times,serif\" font-size=\"14.00\">Total Travel Distance</text>\n",
       "</g>\n",
       "<!-- Utility (Bike) -->\n",
       "<g id=\"node2\" class=\"node\">\n",
       "<title>Utility (Bike)</title>\n",
       "<ellipse fill=\"none\" stroke=\"black\" cx=\"86.13\" cy=\"-18\" rx=\"58.01\" ry=\"18\"/>\n",
       "<text text-anchor=\"middle\" x=\"86.13\" y=\"-13.8\" font-family=\"Times,serif\" font-size=\"14.00\">Utility (Bike)</text>\n",
       "</g>\n",
       "<!-- Total Travel Distance&#45;&gt;Utility (Bike) -->\n",
       "<g id=\"edge1\" class=\"edge\">\n",
       "<title>Total Travel Distance&#45;&gt;Utility (Bike)</title>\n",
       "<path fill=\"none\" stroke=\"black\" d=\"M86.13,-71.7C86.13,-63.98 86.13,-54.71 86.13,-46.11\"/>\n",
       "<polygon fill=\"black\" stroke=\"black\" points=\"89.63,-46.1 86.13,-36.1 82.63,-46.1 89.63,-46.1\"/>\n",
       "</g>\n",
       "</g>\n",
       "</svg>\n"
      ],
      "text/plain": [
       "<graphviz.dot.Digraph at 0x116bdc210>"
      ]
     },
     "execution_count": 20,
     "metadata": {},
     "output_type": "execute_result"
    }
   ],
   "source": [
    "# Define the causal model\n",
    "V_Bike = CausalGraphicalModel(nodes=[\"Total Travel Distance\",\n",
    "                                     \"Utility (Bike)\"],\n",
    "                              edges=[(\"Total Travel Distance\", \"Utility (Bike)\")\n",
    "    ]\n",
    ")\n",
    "\n",
    "# draw the causal model\n",
    "V_Bike.draw()"
   ]
  },
  {
   "cell_type": "markdown",
   "metadata": {},
   "source": [
    "## 3.2. Distribution of Nodes without parents"
   ]
  },
  {
   "cell_type": "markdown",
   "metadata": {},
   "source": [
    "### 3.2.1. Set up all needed variables"
   ]
  },
  {
   "cell_type": "code",
   "execution_count": 21,
   "metadata": {},
   "outputs": [],
   "source": [
    "# Observation id column\n",
    "observation_id_col = 'observation_id'\n",
    "\n",
    "# Alternative id column\n",
    "alternative_id_col = 'mode_id'\n",
    "\n",
    "# Individual specific variables list\n",
    "individual_specific_variables = ['household_size','num_kids',\n",
    "                                'num_cars','num_licensed_drivers']\n",
    "\n",
    "# Alternative specific variables dictionary\n",
    "alternative_specific_dict = {1:['total_travel_distance'],\n",
    "                             2:['total_travel_distance'],\n",
    "                             3:['total_travel_distance'],\n",
    "                             4:['total_travel_time'],\n",
    "                             5:['total_travel_time'],\n",
    "                             6:['total_travel_time'],\n",
    "                             7:['total_travel_distance'],\n",
    "                             8:['total_travel_distance']}\n",
    "\n",
    "# Trip specific variables list\n",
    "trip_specific_variables = ['cross_bay']\n",
    "\n",
    "# Alternative name dictionary\n",
    "alternative_name_dict = {1: 'drive_alone',\n",
    "                         2: 'shared_2',\n",
    "                         3: 'shared_3p',\n",
    "                         4: 'wtw',\n",
    "                         5: 'dtw',\n",
    "                         6: 'wtd',\n",
    "                         7: 'walk',\n",
    "                         8: 'bike'}\n",
    "\n",
    "# Variable type Dictionary\n",
    "variable_type = {'num_kids': 'categorical',\n",
    "                 'household_size': 'categorical',\n",
    "                 'num_cars': 'categorical',\n",
    "                 'num_licensed_drivers': 'categorical',\n",
    "                 'cross_bay': 'categorical',\n",
    "                 'total_travel_time': 'continuous',\n",
    "                 'total_travel_distance': 'continuous',\n",
    "                 'total_travel_cost': 'continuous'}\n",
    "\n",
    "# Distribution to be explored for continuous variables\n",
    "distributions = ['normal', 'alpha', 'beta', 'gamma', 'expon', 'gumbel']"
   ]
  },
  {
   "cell_type": "markdown",
   "metadata": {},
   "source": [
    "### 3.2.2. Find Distributions of nodes without parents "
   ]
  },
  {
   "cell_type": "code",
   "execution_count": 22,
   "metadata": {},
   "outputs": [
    {
     "name": "stdout",
     "output_type": "stream",
     "text": [
      "SKIPPED normal distribution (taking more than 60 seconds)\n",
      "Fitted alpha distribution with error=0.014522128648725777)\n"
     ]
    },
    {
     "name": "stderr",
     "output_type": "stream",
     "text": [
      "/Users/mobouzaghrane/opt/anaconda3/lib/python3.7/site-packages/scipy/stats/_distn_infrastructure.py:2381: RuntimeWarning: invalid value encountered in double_scalars\n",
      "  Lhat = muhat - Shat*mu\n",
      "/Users/mobouzaghrane/opt/anaconda3/lib/python3.7/site-packages/scipy/stats/_continuous_distns.py:515: RuntimeWarning: invalid value encountered in sqrt\n",
      "  sk = 2*(b-a)*np.sqrt(a + b + 1) / (a + b + 2) / np.sqrt(a*b)\n",
      "/Users/mobouzaghrane/opt/anaconda3/lib/python3.7/site-packages/scipy/optimize/minpack.py:162: RuntimeWarning: The iteration is not making good progress, as measured by the \n",
      "  improvement from the last ten iterations.\n",
      "  warnings.warn(msg, RuntimeWarning)\n"
     ]
    },
    {
     "name": "stdout",
     "output_type": "stream",
     "text": [
      "Fitted beta distribution with error=0.0011963782652540424)\n",
      "Fitted gamma distribution with error=0.0011394543473683448)\n",
      "Fitted expon distribution with error=0.002052652669300775)\n",
      "SKIPPED gumbel distribution (taking more than 60 seconds)\n",
      "SKIPPED normal distribution (taking more than 60 seconds)\n",
      "Fitted alpha distribution with error=0.014457810916552023)\n",
      "Fitted beta distribution with error=0.0012976882508515305)\n",
      "Fitted gamma distribution with error=0.0012552378475140624)\n",
      "Fitted expon distribution with error=0.0019967778289294194)\n",
      "SKIPPED gumbel distribution (taking more than 60 seconds)\n",
      "SKIPPED normal distribution (taking more than 60 seconds)\n",
      "Fitted alpha distribution with error=0.014462601227138085)\n",
      "Fitted beta distribution with error=0.001276124018206852)\n",
      "Fitted gamma distribution with error=0.0012547975031013958)\n",
      "Fitted expon distribution with error=0.0020004181046601524)\n",
      "SKIPPED gumbel distribution (taking more than 60 seconds)\n",
      "SKIPPED normal distribution (taking more than 60 seconds)\n",
      "Fitted alpha distribution with error=0.00010782141835446614)\n",
      "Fitted beta distribution with error=0.00011146390130275948)\n",
      "Fitted gamma distribution with error=0.00010902380039568413)\n",
      "Fitted expon distribution with error=0.0006821775284529087)\n",
      "SKIPPED gumbel distribution (taking more than 60 seconds)\n",
      "SKIPPED normal distribution (taking more than 60 seconds)\n",
      "Fitted alpha distribution with error=6.672556141363111e-05)\n",
      "Fitted beta distribution with error=6.196777802352273e-05)\n",
      "Fitted gamma distribution with error=6.08535018564024e-05)\n",
      "Fitted expon distribution with error=0.0007188034183935458)\n",
      "SKIPPED gumbel distribution (taking more than 60 seconds)\n",
      "SKIPPED normal distribution (taking more than 60 seconds)\n",
      "Fitted alpha distribution with error=8.054952402098987e-05)\n",
      "Fitted beta distribution with error=8.156641381917802e-05)\n",
      "Fitted gamma distribution with error=8.048390439269993e-05)\n",
      "Fitted expon distribution with error=0.0008900680532886661)\n",
      "SKIPPED gumbel distribution (taking more than 60 seconds)\n",
      "SKIPPED normal distribution (taking more than 60 seconds)\n",
      "Fitted alpha distribution with error=0.0008972367532526685)\n",
      "Fitted beta distribution with error=0.002377025832720183)\n",
      "Fitted gamma distribution with error=0.002275034836025737)\n",
      "Fitted expon distribution with error=0.003469333861343498)\n",
      "SKIPPED gumbel distribution (taking more than 60 seconds)\n",
      "SKIPPED normal distribution (taking more than 60 seconds)\n",
      "Fitted alpha distribution with error=0.0007221359033952726)\n",
      "Fitted beta distribution with error=0.0024566904071273085)\n",
      "Fitted gamma distribution with error=0.0024407152169873807)\n",
      "Fitted expon distribution with error=0.004178416793754377)\n",
      "SKIPPED gumbel distribution (taking more than 60 seconds)\n"
     ]
    }
   ],
   "source": [
    "bike_data_params = DistNodeNoParent(data_long=bike_data_long,\n",
    "                                    alt_id_col=alternative_id_col,\n",
    "                                    obs_id_col=observation_id_col,\n",
    "                                    alt_spec_dic=alternative_specific_dict,\n",
    "                                    alt_name_dic=alternative_name_dict,\n",
    "                                    ind_spec=individual_specific_variables,\n",
    "                                    trip_spec=trip_specific_variables,\n",
    "                                    var_types=variable_type,\n",
    "                                   cont_dists=distributions)"
   ]
  },
  {
   "cell_type": "code",
   "execution_count": 24,
   "metadata": {},
   "outputs": [
    {
     "data": {
      "text/plain": [
       "{'household_size': {'distribution': 'categorical',\n",
       "  'parameters': [array([0., 1., 2., 3., 4., 5., 6., 7., 8.]),\n",
       "   array([0.        , 0.08341658, 0.2465035 , 0.20704296, 0.29220779,\n",
       "          0.12012987, 0.02997003, 0.00949051, 0.01123876])]},\n",
       " 'num_kids': {'distribution': 'categorical',\n",
       "  'parameters': [array([0, 1, 2, 3, 4, 5, 6]),\n",
       "   array([0.46603397, 0.17682318, 0.25624376, 0.07642358, 0.01598402,\n",
       "          0.00699301, 0.0014985 ])]},\n",
       " 'num_cars': {'distribution': 'categorical',\n",
       "  'parameters': [array([0., 1., 2., 3., 4., 5., 6., 7., 8.]),\n",
       "   array([0.0516983 , 0.23976024, 0.48676324, 0.17057942, 0.03996004,\n",
       "          0.00674326, 0.0024975 , 0.000999  , 0.000999  ])]},\n",
       " 'num_licensed_drivers': {'distribution': 'categorical',\n",
       "  'parameters': [array([0., 1., 2., 3., 4., 5., 6.]),\n",
       "   array([1.12387612e-02, 1.45604396e-01, 6.15134865e-01, 1.73576424e-01,\n",
       "          4.47052947e-02, 9.24075924e-03, 4.99500500e-04])]},\n",
       " 'total_travel_distance_drive_alone': {'distribution': 'gamma',\n",
       "  'parameters': (0.7944517942940816, 0.39999999999999997, 19.10566310726253)},\n",
       " 'total_travel_distance_shared_2': {'distribution': 'gamma',\n",
       "  'parameters': (0.8148950757692075, 0.29999999999999993, 18.40250347572789)},\n",
       " 'total_travel_distance_shared_3p': {'distribution': 'gamma',\n",
       "  'parameters': (0.8135746709638757, 0.29999999999999993, 18.437320030510342)},\n",
       " 'total_travel_time_wtw': {'distribution': 'alpha',\n",
       "  'parameters': (3.9577465114167927, -98.3112671568787, 749.7787691208105)},\n",
       " 'total_travel_time_dtw': {'distribution': 'gamma',\n",
       "  'parameters': (2.6059274863539046, 8.099701135792749, 30.976197249989433)},\n",
       " 'total_travel_time_wtd': {'distribution': 'gamma',\n",
       "  'parameters': (2.547895345348514, 7.666262097694567, 30.99344922438852)},\n",
       " 'total_travel_distance_walk': {'distribution': 'alpha',\n",
       "  'parameters': (1.985330145127784e-06,\n",
       "   -1.6062753376988779,\n",
       "   5.430955769911186)},\n",
       " 'total_travel_distance_bike': {'distribution': 'alpha',\n",
       "  'parameters': (0.0023562351887384068,\n",
       "   -1.4282411165328406,\n",
       "   4.999096383807641)},\n",
       " 'cross_bay': {'distribution': 'categorical',\n",
       "  'parameters': [array([0, 1]), array([0.94005994, 0.05994006])]}}"
      ]
     },
     "execution_count": 24,
     "metadata": {},
     "output_type": "execute_result"
    }
   ],
   "source": [
    "bike_data_params"
   ]
  },
  {
   "cell_type": "code",
   "execution_count": 25,
   "metadata": {},
   "outputs": [],
   "source": [
    "# bike_data_params = {'household_size': {'distribution': 'categorical',\n",
    "#   'parameters': [(0., 1., 2., 3., 4., 5., 6., 7., 8.),\n",
    "#    (0.        , 0.08341658, 0.2465035 , 0.20704296, 0.29220779,\n",
    "#           0.12012987, 0.02997003, 0.00949051, 0.01123876)]},\n",
    "#  'num_kids': {'distribution': 'categorical',\n",
    "#   'parameters': [(0, 1, 2, 3, 4, 5, 6),\n",
    "#    (0.46603397, 0.17682318, 0.25624376, 0.07642358, 0.01598402,\n",
    "#           0.00699301, 0.0014985)]},\n",
    "#  'num_cars': {'distribution': 'categorical',\n",
    "#   'parameters': [(0., 1., 2., 3., 4., 5., 6., 7., 8.),\n",
    "#    (0.0516983 , 0.23976024, 0.48676324, 0.17057942, 0.03996004,\n",
    "#           0.00674326, 0.0024975 , 0.000999  , 0.000999  )]},\n",
    "#  'num_licensed_drivers': {'distribution': 'categorical',\n",
    "#   'parameters': [(0., 1., 2., 3., 4., 5., 6.),\n",
    "#    (1.12387612e-02, 1.45604396e-01, 6.15134865e-01, 1.73576424e-01,\n",
    "#           4.47052947e-02, 9.24075924e-03, 4.99500500e-04)]},\n",
    "#  'total_travel_distance_drive_alone': {'distribution': 'halfcauchy',\n",
    "#   'parameters': (0.39999999242619755, 7.6204182567397165)},\n",
    "#  'total_travel_distance_shared_2': {'distribution': 'halfcauchy',\n",
    "#   'parameters': (0.299999998957803, 7.584262028819065)},\n",
    "#  'total_travel_distance_shared_3p': {'distribution': 'halfcauchy',\n",
    "#   'parameters': (0.2999999999587918, 7.590903048398837)},\n",
    "#  'total_travel_time_wtw': {'distribution': 'exponnorm',\n",
    "#   'parameters': (4.461798763613399, 42.0335875728394, 14.161218106029043)},\n",
    "#  'total_travel_time_dtw': {'distribution': 'fatiguelife',\n",
    "#   'parameters': (0.5059992383788099, -10.97225146372076, 88.46124182265194)},\n",
    "#  'total_travel_time_wtd': {'distribution': 'exponnorm',\n",
    "#   'parameters': (3.4963501604509, 35.01068856093334, 14.76505046778292)},\n",
    "#  'total_travel_distance_walk': {'distribution': 'halfcauchy',\n",
    "#   'parameters': (0.29999999866469995, 6.616044249480995)},\n",
    "#  'total_travel_distance_bike': {'distribution': 'halfcauchy',\n",
    "#   'parameters': (0.3599999792235668, 5.810827941041648)},\n",
    "#  'cross_bay': {'distribution': 'categorical',\n",
    "#   'parameters': [np.array([0, 1]), np.array([0.94005994, 0.05994006])]}}"
   ]
  },
  {
   "cell_type": "markdown",
   "metadata": {},
   "source": [
    "## 3.3. Regressions for each causal graph "
   ]
  },
  {
   "cell_type": "markdown",
   "metadata": {},
   "source": [
    "### 3.3.1. Drive Alone "
   ]
  },
  {
   "cell_type": "code",
   "execution_count": 26,
   "metadata": {},
   "outputs": [
    {
     "data": {
      "image/svg+xml": [
       "<?xml version=\"1.0\" encoding=\"UTF-8\" standalone=\"no\"?>\n",
       "<!DOCTYPE svg PUBLIC \"-//W3C//DTD SVG 1.1//EN\"\n",
       " \"http://www.w3.org/Graphics/SVG/1.1/DTD/svg11.dtd\">\n",
       "<!-- Generated by graphviz version 2.42.3 (20191010.1750)\n",
       " -->\n",
       "<!-- Title: %3 Pages: 1 -->\n",
       "<svg width=\"718pt\" height=\"188pt\"\n",
       " viewBox=\"0.00 0.00 717.91 188.00\" xmlns=\"http://www.w3.org/2000/svg\" xmlns:xlink=\"http://www.w3.org/1999/xlink\">\n",
       "<g id=\"graph0\" class=\"graph\" transform=\"scale(1 1) rotate(0) translate(4 184)\">\n",
       "<title>%3</title>\n",
       "<polygon fill=\"white\" stroke=\"transparent\" points=\"-4,4 -4,-184 713.91,-184 713.91,4 -4,4\"/>\n",
       "<!-- Utility (Drive Alone) -->\n",
       "<g id=\"node1\" class=\"node\">\n",
       "<title>Utility (Drive Alone)</title>\n",
       "<ellipse fill=\"none\" stroke=\"black\" cx=\"316.39\" cy=\"-18\" rx=\"84.55\" ry=\"18\"/>\n",
       "<text text-anchor=\"middle\" x=\"316.39\" y=\"-13.8\" font-family=\"Times,serif\" font-size=\"14.00\">Utility (Drive Alone)</text>\n",
       "</g>\n",
       "<!-- Total Travel Time -->\n",
       "<g id=\"node2\" class=\"node\">\n",
       "<title>Total Travel Time</title>\n",
       "<ellipse fill=\"none\" stroke=\"black\" cx=\"73.39\" cy=\"-90\" rx=\"73.28\" ry=\"18\"/>\n",
       "<text text-anchor=\"middle\" x=\"73.39\" y=\"-85.8\" font-family=\"Times,serif\" font-size=\"14.00\">Total Travel Time</text>\n",
       "</g>\n",
       "<!-- Total Travel Time&#45;&gt;Utility (Drive Alone) -->\n",
       "<g id=\"edge3\" class=\"edge\">\n",
       "<title>Total Travel Time&#45;&gt;Utility (Drive Alone)</title>\n",
       "<path fill=\"none\" stroke=\"black\" d=\"M119.09,-75.83C158.51,-64.48 215.64,-48.02 258.29,-35.74\"/>\n",
       "<polygon fill=\"black\" stroke=\"black\" points=\"259.33,-39.08 267.97,-32.95 257.4,-32.35 259.33,-39.08\"/>\n",
       "</g>\n",
       "<!-- Total Travel Distance -->\n",
       "<g id=\"node3\" class=\"node\">\n",
       "<title>Total Travel Distance</title>\n",
       "<ellipse fill=\"none\" stroke=\"black\" cx=\"154.39\" cy=\"-162\" rx=\"86.25\" ry=\"18\"/>\n",
       "<text text-anchor=\"middle\" x=\"154.39\" y=\"-157.8\" font-family=\"Times,serif\" font-size=\"14.00\">Total Travel Distance</text>\n",
       "</g>\n",
       "<!-- Total Travel Distance&#45;&gt;Total Travel Time -->\n",
       "<g id=\"edge1\" class=\"edge\">\n",
       "<title>Total Travel Distance&#45;&gt;Total Travel Time</title>\n",
       "<path fill=\"none\" stroke=\"black\" d=\"M135.19,-144.41C124.7,-135.34 111.54,-123.97 100.07,-114.06\"/>\n",
       "<polygon fill=\"black\" stroke=\"black\" points=\"102.3,-111.36 92.45,-107.47 97.72,-116.66 102.3,-111.36\"/>\n",
       "</g>\n",
       "<!-- Total Travel Cost -->\n",
       "<g id=\"node4\" class=\"node\">\n",
       "<title>Total Travel Cost</title>\n",
       "<ellipse fill=\"none\" stroke=\"black\" cx=\"236.39\" cy=\"-90\" rx=\"71.31\" ry=\"18\"/>\n",
       "<text text-anchor=\"middle\" x=\"236.39\" y=\"-85.8\" font-family=\"Times,serif\" font-size=\"14.00\">Total Travel Cost</text>\n",
       "</g>\n",
       "<!-- Total Travel Distance&#45;&gt;Total Travel Cost -->\n",
       "<g id=\"edge2\" class=\"edge\">\n",
       "<title>Total Travel Distance&#45;&gt;Total Travel Cost</title>\n",
       "<path fill=\"none\" stroke=\"black\" d=\"M173.82,-144.41C184.44,-135.34 197.76,-123.97 209.38,-114.06\"/>\n",
       "<polygon fill=\"black\" stroke=\"black\" points=\"211.76,-116.62 217.1,-107.47 207.22,-111.3 211.76,-116.62\"/>\n",
       "</g>\n",
       "<!-- Total Travel Cost&#45;&gt;Utility (Drive Alone) -->\n",
       "<g id=\"edge4\" class=\"edge\">\n",
       "<title>Total Travel Cost&#45;&gt;Utility (Drive Alone)</title>\n",
       "<path fill=\"none\" stroke=\"black\" d=\"M255.35,-72.41C265.53,-63.5 278.27,-52.36 289.47,-42.56\"/>\n",
       "<polygon fill=\"black\" stroke=\"black\" points=\"292.07,-44.93 297.29,-35.71 287.46,-39.66 292.07,-44.93\"/>\n",
       "</g>\n",
       "<!-- Number of Autos -->\n",
       "<g id=\"node5\" class=\"node\">\n",
       "<title>Number of Autos</title>\n",
       "<ellipse fill=\"none\" stroke=\"black\" cx=\"397.39\" cy=\"-90\" rx=\"71.54\" ry=\"18\"/>\n",
       "<text text-anchor=\"middle\" x=\"397.39\" y=\"-85.8\" font-family=\"Times,serif\" font-size=\"14.00\">Number of Autos</text>\n",
       "</g>\n",
       "<!-- Number of Autos&#45;&gt;Utility (Drive Alone) -->\n",
       "<g id=\"edge5\" class=\"edge\">\n",
       "<title>Number of Autos&#45;&gt;Utility (Drive Alone)</title>\n",
       "<path fill=\"none\" stroke=\"black\" d=\"M378.19,-72.41C367.78,-63.41 354.73,-52.14 343.32,-42.27\"/>\n",
       "<polygon fill=\"black\" stroke=\"black\" points=\"345.58,-39.6 335.73,-35.71 341,-44.9 345.58,-39.6\"/>\n",
       "</g>\n",
       "<!-- Number of Licensed Drivers -->\n",
       "<g id=\"node6\" class=\"node\">\n",
       "<title>Number of Licensed Drivers</title>\n",
       "<ellipse fill=\"none\" stroke=\"black\" cx=\"598.39\" cy=\"-90\" rx=\"111.55\" ry=\"18\"/>\n",
       "<text text-anchor=\"middle\" x=\"598.39\" y=\"-85.8\" font-family=\"Times,serif\" font-size=\"14.00\">Number of Licensed Drivers</text>\n",
       "</g>\n",
       "<!-- Number of Licensed Drivers&#45;&gt;Utility (Drive Alone) -->\n",
       "<g id=\"edge6\" class=\"edge\">\n",
       "<title>Number of Licensed Drivers&#45;&gt;Utility (Drive Alone)</title>\n",
       "<path fill=\"none\" stroke=\"black\" d=\"M540.3,-74.58C493.34,-62.92 427.34,-46.54 379.16,-34.58\"/>\n",
       "<polygon fill=\"black\" stroke=\"black\" points=\"379.72,-31.11 369.17,-32.1 378.03,-37.91 379.72,-31.11\"/>\n",
       "</g>\n",
       "</g>\n",
       "</svg>\n"
      ],
      "text/plain": [
       "<graphviz.dot.Digraph at 0x105af7dd0>"
      ]
     },
     "execution_count": 26,
     "metadata": {},
     "output_type": "execute_result"
    }
   ],
   "source": [
    "V_Drive_Alone.draw()"
   ]
  },
  {
   "cell_type": "code",
   "execution_count": 27,
   "metadata": {},
   "outputs": [
    {
     "name": "stderr",
     "output_type": "stream",
     "text": [
      "/Users/mobouzaghrane/opt/anaconda3/lib/python3.7/site-packages/numpy/core/fromnumeric.py:2495: FutureWarning: Method .ptp is deprecated and will be removed in a future version. Use numpy.ptp instead.\n",
      "  return ptp(axis=axis, out=out, **kwargs)\n"
     ]
    }
   ],
   "source": [
    "Drive_Alone_Df = bike_data_long[bike_data_long['mode_id']==1]\n",
    "Drive_Alone_Df.reset_index(drop=True,inplace=True)\n",
    "Drive_Alone_Reg = FitAlternativeRegression(regressions={1:('total_travel_distance','total_travel_cost'),\n",
    "                                                        2:('total_travel_distance','total_travel_time')},\n",
    "                                           reg_types={1:'linear',2:'linear'},\n",
    "                                           data = Drive_Alone_Df)"
   ]
  },
  {
   "cell_type": "markdown",
   "metadata": {},
   "source": [
    "### 3.3.2. Shared-2"
   ]
  },
  {
   "cell_type": "code",
   "execution_count": 28,
   "metadata": {},
   "outputs": [
    {
     "data": {
      "image/svg+xml": [
       "<?xml version=\"1.0\" encoding=\"UTF-8\" standalone=\"no\"?>\n",
       "<!DOCTYPE svg PUBLIC \"-//W3C//DTD SVG 1.1//EN\"\n",
       " \"http://www.w3.org/Graphics/SVG/1.1/DTD/svg11.dtd\">\n",
       "<!-- Generated by graphviz version 2.42.3 (20191010.1750)\n",
       " -->\n",
       "<!-- Title: %3 Pages: 1 -->\n",
       "<svg width=\"1166pt\" height=\"188pt\"\n",
       " viewBox=\"0.00 0.00 1166.11 188.00\" xmlns=\"http://www.w3.org/2000/svg\" xmlns:xlink=\"http://www.w3.org/1999/xlink\">\n",
       "<g id=\"graph0\" class=\"graph\" transform=\"scale(1 1) rotate(0) translate(4 184)\">\n",
       "<title>%3</title>\n",
       "<polygon fill=\"white\" stroke=\"transparent\" points=\"-4,4 -4,-184 1162.11,-184 1162.11,4 -4,4\"/>\n",
       "<!-- Total Travel Time -->\n",
       "<g id=\"node1\" class=\"node\">\n",
       "<title>Total Travel Time</title>\n",
       "<ellipse fill=\"none\" stroke=\"black\" cx=\"521.58\" cy=\"-90\" rx=\"73.28\" ry=\"18\"/>\n",
       "<text text-anchor=\"middle\" x=\"521.58\" y=\"-85.8\" font-family=\"Times,serif\" font-size=\"14.00\">Total Travel Time</text>\n",
       "</g>\n",
       "<!-- Utility (Shared Ride 2) -->\n",
       "<g id=\"node4\" class=\"node\">\n",
       "<title>Utility (Shared Ride 2)</title>\n",
       "<ellipse fill=\"none\" stroke=\"black\" cx=\"521.58\" cy=\"-18\" rx=\"91.31\" ry=\"18\"/>\n",
       "<text text-anchor=\"middle\" x=\"521.58\" y=\"-13.8\" font-family=\"Times,serif\" font-size=\"14.00\">Utility (Shared Ride 2)</text>\n",
       "</g>\n",
       "<!-- Total Travel Time&#45;&gt;Utility (Shared Ride 2) -->\n",
       "<g id=\"edge1\" class=\"edge\">\n",
       "<title>Total Travel Time&#45;&gt;Utility (Shared Ride 2)</title>\n",
       "<path fill=\"none\" stroke=\"black\" d=\"M521.58,-71.7C521.58,-63.98 521.58,-54.71 521.58,-46.11\"/>\n",
       "<polygon fill=\"black\" stroke=\"black\" points=\"525.08,-46.1 521.58,-36.1 518.08,-46.1 525.08,-46.1\"/>\n",
       "</g>\n",
       "<!-- Number of Kids -->\n",
       "<g id=\"node2\" class=\"node\">\n",
       "<title>Number of Kids</title>\n",
       "<ellipse fill=\"none\" stroke=\"black\" cx=\"67.58\" cy=\"-90\" rx=\"67.66\" ry=\"18\"/>\n",
       "<text text-anchor=\"middle\" x=\"67.58\" y=\"-85.8\" font-family=\"Times,serif\" font-size=\"14.00\">Number of Kids</text>\n",
       "</g>\n",
       "<!-- Number of Kids&#45;&gt;Utility (Shared Ride 2) -->\n",
       "<g id=\"edge9\" class=\"edge\">\n",
       "<title>Number of Kids&#45;&gt;Utility (Shared Ride 2)</title>\n",
       "<path fill=\"none\" stroke=\"black\" d=\"M116.52,-77.44C125.5,-75.5 134.8,-73.59 143.58,-72 242.95,-53.95 357.98,-38.61 434.8,-29.15\"/>\n",
       "<polygon fill=\"black\" stroke=\"black\" points=\"435.41,-32.6 444.91,-27.91 434.56,-25.65 435.41,-32.6\"/>\n",
       "</g>\n",
       "<!-- Cross Bay Trip -->\n",
       "<g id=\"node3\" class=\"node\">\n",
       "<title>Cross Bay Trip</title>\n",
       "<ellipse fill=\"none\" stroke=\"black\" cx=\"216.58\" cy=\"-90\" rx=\"63.87\" ry=\"18\"/>\n",
       "<text text-anchor=\"middle\" x=\"216.58\" y=\"-85.8\" font-family=\"Times,serif\" font-size=\"14.00\">Cross Bay Trip</text>\n",
       "</g>\n",
       "<!-- Cross Bay Trip&#45;&gt;Utility (Shared Ride 2) -->\n",
       "<g id=\"edge5\" class=\"edge\">\n",
       "<title>Cross Bay Trip&#45;&gt;Utility (Shared Ride 2)</title>\n",
       "<path fill=\"none\" stroke=\"black\" d=\"M264.09,-77.91C272.58,-75.93 281.34,-73.9 289.58,-72 344.9,-59.24 407.68,-44.91 453.97,-34.37\"/>\n",
       "<polygon fill=\"black\" stroke=\"black\" points=\"454.91,-37.74 463.88,-32.11 453.36,-30.92 454.91,-37.74\"/>\n",
       "</g>\n",
       "<!-- Household Size -->\n",
       "<g id=\"node5\" class=\"node\">\n",
       "<title>Household Size</title>\n",
       "<ellipse fill=\"none\" stroke=\"black\" cx=\"364.58\" cy=\"-90\" rx=\"65.72\" ry=\"18\"/>\n",
       "<text text-anchor=\"middle\" x=\"364.58\" y=\"-85.8\" font-family=\"Times,serif\" font-size=\"14.00\">Household Size</text>\n",
       "</g>\n",
       "<!-- Household Size&#45;&gt;Utility (Shared Ride 2) -->\n",
       "<g id=\"edge8\" class=\"edge\">\n",
       "<title>Household Size&#45;&gt;Utility (Shared Ride 2)</title>\n",
       "<path fill=\"none\" stroke=\"black\" d=\"M397.49,-74.33C420.62,-64.02 451.81,-50.11 477.14,-38.81\"/>\n",
       "<polygon fill=\"black\" stroke=\"black\" points=\"478.82,-41.9 486.53,-34.63 475.97,-35.5 478.82,-41.9\"/>\n",
       "</g>\n",
       "<!-- Total Travel Distance -->\n",
       "<g id=\"node6\" class=\"node\">\n",
       "<title>Total Travel Distance</title>\n",
       "<ellipse fill=\"none\" stroke=\"black\" cx=\"602.58\" cy=\"-162\" rx=\"86.25\" ry=\"18\"/>\n",
       "<text text-anchor=\"middle\" x=\"602.58\" y=\"-157.8\" font-family=\"Times,serif\" font-size=\"14.00\">Total Travel Distance</text>\n",
       "</g>\n",
       "<!-- Total Travel Distance&#45;&gt;Total Travel Time -->\n",
       "<g id=\"edge2\" class=\"edge\">\n",
       "<title>Total Travel Distance&#45;&gt;Total Travel Time</title>\n",
       "<path fill=\"none\" stroke=\"black\" d=\"M583.38,-144.41C572.89,-135.34 559.74,-123.97 548.26,-114.06\"/>\n",
       "<polygon fill=\"black\" stroke=\"black\" points=\"550.49,-111.36 540.64,-107.47 545.92,-116.66 550.49,-111.36\"/>\n",
       "</g>\n",
       "<!-- Total Travel Cost -->\n",
       "<g id=\"node7\" class=\"node\">\n",
       "<title>Total Travel Cost</title>\n",
       "<ellipse fill=\"none\" stroke=\"black\" cx=\"684.58\" cy=\"-90\" rx=\"71.31\" ry=\"18\"/>\n",
       "<text text-anchor=\"middle\" x=\"684.58\" y=\"-85.8\" font-family=\"Times,serif\" font-size=\"14.00\">Total Travel Cost</text>\n",
       "</g>\n",
       "<!-- Total Travel Distance&#45;&gt;Total Travel Cost -->\n",
       "<g id=\"edge3\" class=\"edge\">\n",
       "<title>Total Travel Distance&#45;&gt;Total Travel Cost</title>\n",
       "<path fill=\"none\" stroke=\"black\" d=\"M622.01,-144.41C632.63,-135.34 645.95,-123.97 657.57,-114.06\"/>\n",
       "<polygon fill=\"black\" stroke=\"black\" points=\"659.95,-116.62 665.29,-107.47 655.41,-111.3 659.95,-116.62\"/>\n",
       "</g>\n",
       "<!-- Total Travel Cost&#45;&gt;Utility (Shared Ride 2) -->\n",
       "<g id=\"edge4\" class=\"edge\">\n",
       "<title>Total Travel Cost&#45;&gt;Utility (Shared Ride 2)</title>\n",
       "<path fill=\"none\" stroke=\"black\" d=\"M650.01,-74.15C625.88,-63.79 593.41,-49.85 567.16,-38.57\"/>\n",
       "<polygon fill=\"black\" stroke=\"black\" points=\"568.36,-35.28 557.79,-34.55 565.6,-41.71 568.36,-35.28\"/>\n",
       "</g>\n",
       "<!-- Number of Autos -->\n",
       "<g id=\"node8\" class=\"node\">\n",
       "<title>Number of Autos</title>\n",
       "<ellipse fill=\"none\" stroke=\"black\" cx=\"845.58\" cy=\"-90\" rx=\"71.54\" ry=\"18\"/>\n",
       "<text text-anchor=\"middle\" x=\"845.58\" y=\"-85.8\" font-family=\"Times,serif\" font-size=\"14.00\">Number of Autos</text>\n",
       "</g>\n",
       "<!-- Number of Autos&#45;&gt;Utility (Shared Ride 2) -->\n",
       "<g id=\"edge6\" class=\"edge\">\n",
       "<title>Number of Autos&#45;&gt;Utility (Shared Ride 2)</title>\n",
       "<path fill=\"none\" stroke=\"black\" d=\"M793.16,-77.68C738.11,-65.78 651.27,-47.02 590.66,-33.92\"/>\n",
       "<polygon fill=\"black\" stroke=\"black\" points=\"591.3,-30.48 580.79,-31.79 589.82,-37.32 591.3,-30.48\"/>\n",
       "</g>\n",
       "<!-- Number of Licensed Drivers -->\n",
       "<g id=\"node9\" class=\"node\">\n",
       "<title>Number of Licensed Drivers</title>\n",
       "<ellipse fill=\"none\" stroke=\"black\" cx=\"1046.58\" cy=\"-90\" rx=\"111.55\" ry=\"18\"/>\n",
       "<text text-anchor=\"middle\" x=\"1046.58\" y=\"-85.8\" font-family=\"Times,serif\" font-size=\"14.00\">Number of Licensed Drivers</text>\n",
       "</g>\n",
       "<!-- Number of Licensed Drivers&#45;&gt;Utility (Shared Ride 2) -->\n",
       "<g id=\"edge7\" class=\"edge\">\n",
       "<title>Number of Licensed Drivers&#45;&gt;Utility (Shared Ride 2)</title>\n",
       "<path fill=\"none\" stroke=\"black\" d=\"M966.23,-77.5C952.99,-75.64 939.4,-73.75 926.58,-72 815.79,-56.9 687.84,-40.3 605.89,-29.77\"/>\n",
       "<polygon fill=\"black\" stroke=\"black\" points=\"606.25,-26.29 595.89,-28.48 605.36,-33.23 606.25,-26.29\"/>\n",
       "</g>\n",
       "</g>\n",
       "</svg>\n"
      ],
      "text/plain": [
       "<graphviz.dot.Digraph at 0x105b6b950>"
      ]
     },
     "execution_count": 28,
     "metadata": {},
     "output_type": "execute_result"
    }
   ],
   "source": [
    "V_Shared_2.draw()"
   ]
  },
  {
   "cell_type": "code",
   "execution_count": 29,
   "metadata": {},
   "outputs": [
    {
     "name": "stderr",
     "output_type": "stream",
     "text": [
      "/Users/mobouzaghrane/opt/anaconda3/lib/python3.7/site-packages/numpy/core/fromnumeric.py:2495: FutureWarning: Method .ptp is deprecated and will be removed in a future version. Use numpy.ptp instead.\n",
      "  return ptp(axis=axis, out=out, **kwargs)\n"
     ]
    }
   ],
   "source": [
    "Shared_2_Df = bike_data_long[bike_data_long['mode_id']==2]\n",
    "Shared_2_Df.reset_index(drop=True,inplace=True)\n",
    "Shared_2_Reg = FitAlternativeRegression(regressions={1:('total_travel_distance','total_travel_cost'),\n",
    "                                                        2:('total_travel_distance','total_travel_time')},\n",
    "                                           reg_types={1:'linear',2:'linear'},\n",
    "                                           data = Shared_2_Df)"
   ]
  },
  {
   "cell_type": "markdown",
   "metadata": {},
   "source": [
    "### 3.3.3. Shared-3+"
   ]
  },
  {
   "cell_type": "code",
   "execution_count": 30,
   "metadata": {},
   "outputs": [
    {
     "data": {
      "image/svg+xml": [
       "<?xml version=\"1.0\" encoding=\"UTF-8\" standalone=\"no\"?>\n",
       "<!DOCTYPE svg PUBLIC \"-//W3C//DTD SVG 1.1//EN\"\n",
       " \"http://www.w3.org/Graphics/SVG/1.1/DTD/svg11.dtd\">\n",
       "<!-- Generated by graphviz version 2.42.3 (20191010.1750)\n",
       " -->\n",
       "<!-- Title: %3 Pages: 1 -->\n",
       "<svg width=\"1166pt\" height=\"188pt\"\n",
       " viewBox=\"0.00 0.00 1166.11 188.00\" xmlns=\"http://www.w3.org/2000/svg\" xmlns:xlink=\"http://www.w3.org/1999/xlink\">\n",
       "<g id=\"graph0\" class=\"graph\" transform=\"scale(1 1) rotate(0) translate(4 184)\">\n",
       "<title>%3</title>\n",
       "<polygon fill=\"white\" stroke=\"transparent\" points=\"-4,4 -4,-184 1162.11,-184 1162.11,4 -4,4\"/>\n",
       "<!-- Total Travel Time -->\n",
       "<g id=\"node1\" class=\"node\">\n",
       "<title>Total Travel Time</title>\n",
       "<ellipse fill=\"none\" stroke=\"black\" cx=\"521.58\" cy=\"-90\" rx=\"73.28\" ry=\"18\"/>\n",
       "<text text-anchor=\"middle\" x=\"521.58\" y=\"-85.8\" font-family=\"Times,serif\" font-size=\"14.00\">Total Travel Time</text>\n",
       "</g>\n",
       "<!-- Utility (Shared Ride 3+) -->\n",
       "<g id=\"node5\" class=\"node\">\n",
       "<title>Utility (Shared Ride 3+)</title>\n",
       "<ellipse fill=\"none\" stroke=\"black\" cx=\"521.58\" cy=\"-18\" rx=\"96.28\" ry=\"18\"/>\n",
       "<text text-anchor=\"middle\" x=\"521.58\" y=\"-13.8\" font-family=\"Times,serif\" font-size=\"14.00\">Utility (Shared Ride 3+)</text>\n",
       "</g>\n",
       "<!-- Total Travel Time&#45;&gt;Utility (Shared Ride 3+) -->\n",
       "<g id=\"edge1\" class=\"edge\">\n",
       "<title>Total Travel Time&#45;&gt;Utility (Shared Ride 3+)</title>\n",
       "<path fill=\"none\" stroke=\"black\" d=\"M521.58,-71.7C521.58,-63.98 521.58,-54.71 521.58,-46.11\"/>\n",
       "<polygon fill=\"black\" stroke=\"black\" points=\"525.08,-46.1 521.58,-36.1 518.08,-46.1 525.08,-46.1\"/>\n",
       "</g>\n",
       "<!-- Number of Kids -->\n",
       "<g id=\"node2\" class=\"node\">\n",
       "<title>Number of Kids</title>\n",
       "<ellipse fill=\"none\" stroke=\"black\" cx=\"67.58\" cy=\"-90\" rx=\"67.66\" ry=\"18\"/>\n",
       "<text text-anchor=\"middle\" x=\"67.58\" y=\"-85.8\" font-family=\"Times,serif\" font-size=\"14.00\">Number of Kids</text>\n",
       "</g>\n",
       "<!-- Number of Kids&#45;&gt;Utility (Shared Ride 3+) -->\n",
       "<g id=\"edge9\" class=\"edge\">\n",
       "<title>Number of Kids&#45;&gt;Utility (Shared Ride 3+)</title>\n",
       "<path fill=\"none\" stroke=\"black\" d=\"M116.52,-77.44C125.5,-75.5 134.8,-73.59 143.58,-72 241.7,-54.18 355.09,-38.99 431.89,-29.5\"/>\n",
       "<polygon fill=\"black\" stroke=\"black\" points=\"432.51,-32.95 442,-28.26 431.65,-26.01 432.51,-32.95\"/>\n",
       "</g>\n",
       "<!-- Cross Bay Trip -->\n",
       "<g id=\"node3\" class=\"node\">\n",
       "<title>Cross Bay Trip</title>\n",
       "<ellipse fill=\"none\" stroke=\"black\" cx=\"216.58\" cy=\"-90\" rx=\"63.87\" ry=\"18\"/>\n",
       "<text text-anchor=\"middle\" x=\"216.58\" y=\"-85.8\" font-family=\"Times,serif\" font-size=\"14.00\">Cross Bay Trip</text>\n",
       "</g>\n",
       "<!-- Cross Bay Trip&#45;&gt;Utility (Shared Ride 3+) -->\n",
       "<g id=\"edge5\" class=\"edge\">\n",
       "<title>Cross Bay Trip&#45;&gt;Utility (Shared Ride 3+)</title>\n",
       "<path fill=\"none\" stroke=\"black\" d=\"M264.09,-77.91C272.58,-75.93 281.34,-73.9 289.58,-72 344.53,-59.33 406.83,-45.1 453.03,-34.58\"/>\n",
       "<polygon fill=\"black\" stroke=\"black\" points=\"453.95,-37.96 462.93,-32.33 452.4,-31.14 453.95,-37.96\"/>\n",
       "</g>\n",
       "<!-- Household Size -->\n",
       "<g id=\"node4\" class=\"node\">\n",
       "<title>Household Size</title>\n",
       "<ellipse fill=\"none\" stroke=\"black\" cx=\"364.58\" cy=\"-90\" rx=\"65.72\" ry=\"18\"/>\n",
       "<text text-anchor=\"middle\" x=\"364.58\" y=\"-85.8\" font-family=\"Times,serif\" font-size=\"14.00\">Household Size</text>\n",
       "</g>\n",
       "<!-- Household Size&#45;&gt;Utility (Shared Ride 3+) -->\n",
       "<g id=\"edge8\" class=\"edge\">\n",
       "<title>Household Size&#45;&gt;Utility (Shared Ride 3+)</title>\n",
       "<path fill=\"none\" stroke=\"black\" d=\"M397.49,-74.33C420.54,-64.05 451.6,-50.2 476.88,-38.93\"/>\n",
       "<polygon fill=\"black\" stroke=\"black\" points=\"478.55,-42.02 486.26,-34.75 475.7,-35.63 478.55,-42.02\"/>\n",
       "</g>\n",
       "<!-- Total Travel Distance -->\n",
       "<g id=\"node6\" class=\"node\">\n",
       "<title>Total Travel Distance</title>\n",
       "<ellipse fill=\"none\" stroke=\"black\" cx=\"602.58\" cy=\"-162\" rx=\"86.25\" ry=\"18\"/>\n",
       "<text text-anchor=\"middle\" x=\"602.58\" y=\"-157.8\" font-family=\"Times,serif\" font-size=\"14.00\">Total Travel Distance</text>\n",
       "</g>\n",
       "<!-- Total Travel Distance&#45;&gt;Total Travel Time -->\n",
       "<g id=\"edge2\" class=\"edge\">\n",
       "<title>Total Travel Distance&#45;&gt;Total Travel Time</title>\n",
       "<path fill=\"none\" stroke=\"black\" d=\"M583.38,-144.41C572.89,-135.34 559.74,-123.97 548.26,-114.06\"/>\n",
       "<polygon fill=\"black\" stroke=\"black\" points=\"550.49,-111.36 540.64,-107.47 545.92,-116.66 550.49,-111.36\"/>\n",
       "</g>\n",
       "<!-- Total Travel Cost -->\n",
       "<g id=\"node7\" class=\"node\">\n",
       "<title>Total Travel Cost</title>\n",
       "<ellipse fill=\"none\" stroke=\"black\" cx=\"684.58\" cy=\"-90\" rx=\"71.31\" ry=\"18\"/>\n",
       "<text text-anchor=\"middle\" x=\"684.58\" y=\"-85.8\" font-family=\"Times,serif\" font-size=\"14.00\">Total Travel Cost</text>\n",
       "</g>\n",
       "<!-- Total Travel Distance&#45;&gt;Total Travel Cost -->\n",
       "<g id=\"edge3\" class=\"edge\">\n",
       "<title>Total Travel Distance&#45;&gt;Total Travel Cost</title>\n",
       "<path fill=\"none\" stroke=\"black\" d=\"M622.01,-144.41C632.63,-135.34 645.95,-123.97 657.57,-114.06\"/>\n",
       "<polygon fill=\"black\" stroke=\"black\" points=\"659.95,-116.62 665.29,-107.47 655.41,-111.3 659.95,-116.62\"/>\n",
       "</g>\n",
       "<!-- Total Travel Cost&#45;&gt;Utility (Shared Ride 3+) -->\n",
       "<g id=\"edge4\" class=\"edge\">\n",
       "<title>Total Travel Cost&#45;&gt;Utility (Shared Ride 3+)</title>\n",
       "<path fill=\"none\" stroke=\"black\" d=\"M650.01,-74.15C625.96,-63.83 593.63,-49.94 567.43,-38.69\"/>\n",
       "<polygon fill=\"black\" stroke=\"black\" points=\"568.65,-35.4 558.08,-34.67 565.89,-41.84 568.65,-35.4\"/>\n",
       "</g>\n",
       "<!-- Number of Autos -->\n",
       "<g id=\"node8\" class=\"node\">\n",
       "<title>Number of Autos</title>\n",
       "<ellipse fill=\"none\" stroke=\"black\" cx=\"845.58\" cy=\"-90\" rx=\"71.54\" ry=\"18\"/>\n",
       "<text text-anchor=\"middle\" x=\"845.58\" y=\"-85.8\" font-family=\"Times,serif\" font-size=\"14.00\">Number of Autos</text>\n",
       "</g>\n",
       "<!-- Number of Autos&#45;&gt;Utility (Shared Ride 3+) -->\n",
       "<g id=\"edge6\" class=\"edge\">\n",
       "<title>Number of Autos&#45;&gt;Utility (Shared Ride 3+)</title>\n",
       "<path fill=\"none\" stroke=\"black\" d=\"M793.16,-77.68C738.54,-65.87 652.61,-47.31 592.06,-34.23\"/>\n",
       "<polygon fill=\"black\" stroke=\"black\" points=\"592.71,-30.79 582.2,-32.1 591.23,-37.63 592.71,-30.79\"/>\n",
       "</g>\n",
       "<!-- Number of Licensed Drivers -->\n",
       "<g id=\"node9\" class=\"node\">\n",
       "<title>Number of Licensed Drivers</title>\n",
       "<ellipse fill=\"none\" stroke=\"black\" cx=\"1046.58\" cy=\"-90\" rx=\"111.55\" ry=\"18\"/>\n",
       "<text text-anchor=\"middle\" x=\"1046.58\" y=\"-85.8\" font-family=\"Times,serif\" font-size=\"14.00\">Number of Licensed Drivers</text>\n",
       "</g>\n",
       "<!-- Number of Licensed Drivers&#45;&gt;Utility (Shared Ride 3+) -->\n",
       "<g id=\"edge7\" class=\"edge\">\n",
       "<title>Number of Licensed Drivers&#45;&gt;Utility (Shared Ride 3+)</title>\n",
       "<path fill=\"none\" stroke=\"black\" d=\"M966.23,-77.5C952.99,-75.64 939.4,-73.75 926.58,-72 817.14,-57.09 690.96,-40.7 608.91,-30.16\"/>\n",
       "<polygon fill=\"black\" stroke=\"black\" points=\"609.24,-26.67 598.88,-28.87 608.35,-33.61 609.24,-26.67\"/>\n",
       "</g>\n",
       "</g>\n",
       "</svg>\n"
      ],
      "text/plain": [
       "<graphviz.dot.Digraph at 0x105b0da10>"
      ]
     },
     "execution_count": 30,
     "metadata": {},
     "output_type": "execute_result"
    }
   ],
   "source": [
    "V_Shared_3p.draw()"
   ]
  },
  {
   "cell_type": "code",
   "execution_count": 31,
   "metadata": {},
   "outputs": [
    {
     "name": "stderr",
     "output_type": "stream",
     "text": [
      "/Users/mobouzaghrane/opt/anaconda3/lib/python3.7/site-packages/numpy/core/fromnumeric.py:2495: FutureWarning: Method .ptp is deprecated and will be removed in a future version. Use numpy.ptp instead.\n",
      "  return ptp(axis=axis, out=out, **kwargs)\n"
     ]
    }
   ],
   "source": [
    "Shared_3p_Df = bike_data_long[bike_data_long['mode_id']==3]\n",
    "Shared_3p_Df.reset_index(drop=True,inplace=True)\n",
    "Shared_3p_Reg = FitAlternativeRegression(regressions={1:('total_travel_distance','total_travel_cost'),\n",
    "                                                        2:('total_travel_distance','total_travel_time')},\n",
    "                                           reg_types={1:'linear',2:'linear'},\n",
    "                                           data = Shared_3p_Df)"
   ]
  },
  {
   "cell_type": "markdown",
   "metadata": {},
   "source": [
    "### 3.3.4. Walk-Transit-Walk "
   ]
  },
  {
   "cell_type": "code",
   "execution_count": 32,
   "metadata": {},
   "outputs": [
    {
     "data": {
      "image/svg+xml": [
       "<?xml version=\"1.0\" encoding=\"UTF-8\" standalone=\"no\"?>\n",
       "<!DOCTYPE svg PUBLIC \"-//W3C//DTD SVG 1.1//EN\"\n",
       " \"http://www.w3.org/Graphics/SVG/1.1/DTD/svg11.dtd\">\n",
       "<!-- Generated by graphviz version 2.42.3 (20191010.1750)\n",
       " -->\n",
       "<!-- Title: %3 Pages: 1 -->\n",
       "<svg width=\"346pt\" height=\"188pt\"\n",
       " viewBox=\"0.00 0.00 345.52 188.00\" xmlns=\"http://www.w3.org/2000/svg\" xmlns:xlink=\"http://www.w3.org/1999/xlink\">\n",
       "<g id=\"graph0\" class=\"graph\" transform=\"scale(1 1) rotate(0) translate(4 184)\">\n",
       "<title>%3</title>\n",
       "<polygon fill=\"white\" stroke=\"transparent\" points=\"-4,4 -4,-184 341.52,-184 341.52,4 -4,4\"/>\n",
       "<!-- Total Travel Distance -->\n",
       "<g id=\"node1\" class=\"node\">\n",
       "<title>Total Travel Distance</title>\n",
       "<ellipse fill=\"none\" stroke=\"black\" cx=\"86.13\" cy=\"-162\" rx=\"86.25\" ry=\"18\"/>\n",
       "<text text-anchor=\"middle\" x=\"86.13\" y=\"-157.8\" font-family=\"Times,serif\" font-size=\"14.00\">Total Travel Distance</text>\n",
       "</g>\n",
       "<!-- Total Travel Time -->\n",
       "<g id=\"node2\" class=\"node\">\n",
       "<title>Total Travel Time</title>\n",
       "<ellipse fill=\"none\" stroke=\"black\" cx=\"264.13\" cy=\"-162\" rx=\"73.28\" ry=\"18\"/>\n",
       "<text text-anchor=\"middle\" x=\"264.13\" y=\"-157.8\" font-family=\"Times,serif\" font-size=\"14.00\">Total Travel Time</text>\n",
       "</g>\n",
       "<!-- Total Travel Cost -->\n",
       "<g id=\"node3\" class=\"node\">\n",
       "<title>Total Travel Cost</title>\n",
       "<ellipse fill=\"none\" stroke=\"black\" cx=\"214.13\" cy=\"-90\" rx=\"71.31\" ry=\"18\"/>\n",
       "<text text-anchor=\"middle\" x=\"214.13\" y=\"-85.8\" font-family=\"Times,serif\" font-size=\"14.00\">Total Travel Cost</text>\n",
       "</g>\n",
       "<!-- Total Travel Time&#45;&gt;Total Travel Cost -->\n",
       "<g id=\"edge1\" class=\"edge\">\n",
       "<title>Total Travel Time&#45;&gt;Total Travel Cost</title>\n",
       "<path fill=\"none\" stroke=\"black\" d=\"M252.02,-144.05C246,-135.63 238.61,-125.28 231.96,-115.97\"/>\n",
       "<polygon fill=\"black\" stroke=\"black\" points=\"234.78,-113.89 226.12,-107.79 229.08,-117.96 234.78,-113.89\"/>\n",
       "</g>\n",
       "<!-- Utility (WTW) -->\n",
       "<g id=\"node4\" class=\"node\">\n",
       "<title>Utility (WTW)</title>\n",
       "<ellipse fill=\"none\" stroke=\"black\" cx=\"263.13\" cy=\"-18\" rx=\"63.29\" ry=\"18\"/>\n",
       "<text text-anchor=\"middle\" x=\"263.13\" y=\"-13.8\" font-family=\"Times,serif\" font-size=\"14.00\">Utility (WTW)</text>\n",
       "</g>\n",
       "<!-- Total Travel Time&#45;&gt;Utility (WTW) -->\n",
       "<g id=\"edge2\" class=\"edge\">\n",
       "<title>Total Travel Time&#45;&gt;Utility (WTW)</title>\n",
       "<path fill=\"none\" stroke=\"black\" d=\"M276.85,-143.85C283.41,-133.92 290.73,-120.88 294.13,-108 298.2,-92.53 298.31,-87.44 294.13,-72 291.55,-62.48 286.78,-52.92 281.75,-44.59\"/>\n",
       "<polygon fill=\"black\" stroke=\"black\" points=\"284.63,-42.6 276.27,-36.09 278.75,-46.39 284.63,-42.6\"/>\n",
       "</g>\n",
       "<!-- Total Travel Cost&#45;&gt;Utility (WTW) -->\n",
       "<g id=\"edge3\" class=\"edge\">\n",
       "<title>Total Travel Cost&#45;&gt;Utility (WTW)</title>\n",
       "<path fill=\"none\" stroke=\"black\" d=\"M225.99,-72.05C231.83,-63.71 238.98,-53.49 245.45,-44.25\"/>\n",
       "<polygon fill=\"black\" stroke=\"black\" points=\"248.51,-45.99 251.37,-35.79 242.77,-41.97 248.51,-45.99\"/>\n",
       "</g>\n",
       "</g>\n",
       "</svg>\n"
      ],
      "text/plain": [
       "<graphviz.dot.Digraph at 0x1c1ceea250>"
      ]
     },
     "execution_count": 32,
     "metadata": {},
     "output_type": "execute_result"
    }
   ],
   "source": [
    "V_WTW.draw()"
   ]
  },
  {
   "cell_type": "code",
   "execution_count": 33,
   "metadata": {},
   "outputs": [
    {
     "name": "stderr",
     "output_type": "stream",
     "text": [
      "/Users/mobouzaghrane/opt/anaconda3/lib/python3.7/site-packages/numpy/core/fromnumeric.py:2495: FutureWarning: Method .ptp is deprecated and will be removed in a future version. Use numpy.ptp instead.\n",
      "  return ptp(axis=axis, out=out, **kwargs)\n"
     ]
    }
   ],
   "source": [
    "WTW_Df = bike_data_long[bike_data_long['mode_id']==4]\n",
    "WTW_Df.reset_index(drop=True,inplace=True)\n",
    "WTW_Reg = FitAlternativeRegression(regressions={1:('total_travel_time','total_travel_cost')},\n",
    "                                           reg_types={1:'linear'},\n",
    "                                           data = WTW_Df)"
   ]
  },
  {
   "cell_type": "markdown",
   "metadata": {},
   "source": [
    "### 3.3.5. Drive-Transit-Walk "
   ]
  },
  {
   "cell_type": "code",
   "execution_count": 34,
   "metadata": {},
   "outputs": [
    {
     "data": {
      "image/svg+xml": [
       "<?xml version=\"1.0\" encoding=\"UTF-8\" standalone=\"no\"?>\n",
       "<!DOCTYPE svg PUBLIC \"-//W3C//DTD SVG 1.1//EN\"\n",
       " \"http://www.w3.org/Graphics/SVG/1.1/DTD/svg11.dtd\">\n",
       "<!-- Generated by graphviz version 2.42.3 (20191010.1750)\n",
       " -->\n",
       "<!-- Title: %3 Pages: 1 -->\n",
       "<svg width=\"202pt\" height=\"188pt\"\n",
       " viewBox=\"0.00 0.00 201.80 188.00\" xmlns=\"http://www.w3.org/2000/svg\" xmlns:xlink=\"http://www.w3.org/1999/xlink\">\n",
       "<g id=\"graph0\" class=\"graph\" transform=\"scale(1 1) rotate(0) translate(4 184)\">\n",
       "<title>%3</title>\n",
       "<polygon fill=\"white\" stroke=\"transparent\" points=\"-4,4 -4,-184 197.8,-184 197.8,4 -4,4\"/>\n",
       "<!-- Total Travel Time -->\n",
       "<g id=\"node1\" class=\"node\">\n",
       "<title>Total Travel Time</title>\n",
       "<ellipse fill=\"none\" stroke=\"black\" cx=\"120.41\" cy=\"-162\" rx=\"73.28\" ry=\"18\"/>\n",
       "<text text-anchor=\"middle\" x=\"120.41\" y=\"-157.8\" font-family=\"Times,serif\" font-size=\"14.00\">Total Travel Time</text>\n",
       "</g>\n",
       "<!-- Total Travel Cost -->\n",
       "<g id=\"node2\" class=\"node\">\n",
       "<title>Total Travel Cost</title>\n",
       "<ellipse fill=\"none\" stroke=\"black\" cx=\"71.41\" cy=\"-90\" rx=\"71.31\" ry=\"18\"/>\n",
       "<text text-anchor=\"middle\" x=\"71.41\" y=\"-85.8\" font-family=\"Times,serif\" font-size=\"14.00\">Total Travel Cost</text>\n",
       "</g>\n",
       "<!-- Total Travel Time&#45;&gt;Total Travel Cost -->\n",
       "<g id=\"edge1\" class=\"edge\">\n",
       "<title>Total Travel Time&#45;&gt;Total Travel Cost</title>\n",
       "<path fill=\"none\" stroke=\"black\" d=\"M108.55,-144.05C102.71,-135.71 95.55,-125.49 89.08,-116.25\"/>\n",
       "<polygon fill=\"black\" stroke=\"black\" points=\"91.76,-113.97 83.16,-107.79 86.03,-117.99 91.76,-113.97\"/>\n",
       "</g>\n",
       "<!-- Utility (DTW) -->\n",
       "<g id=\"node3\" class=\"node\">\n",
       "<title>Utility (DTW)</title>\n",
       "<ellipse fill=\"none\" stroke=\"black\" cx=\"120.41\" cy=\"-18\" rx=\"61.37\" ry=\"18\"/>\n",
       "<text text-anchor=\"middle\" x=\"120.41\" y=\"-13.8\" font-family=\"Times,serif\" font-size=\"14.00\">Utility (DTW)</text>\n",
       "</g>\n",
       "<!-- Total Travel Time&#45;&gt;Utility (DTW) -->\n",
       "<g id=\"edge2\" class=\"edge\">\n",
       "<title>Total Travel Time&#45;&gt;Utility (DTW)</title>\n",
       "<path fill=\"none\" stroke=\"black\" d=\"M133.55,-143.91C140.33,-134.01 147.89,-120.96 151.41,-108 155.59,-92.56 155.59,-87.44 151.41,-72 148.79,-62.33 143.91,-52.61 138.79,-44.19\"/>\n",
       "<polygon fill=\"black\" stroke=\"black\" points=\"141.61,-42.11 133.23,-35.62 135.74,-45.92 141.61,-42.11\"/>\n",
       "</g>\n",
       "<!-- Total Travel Cost&#45;&gt;Utility (DTW) -->\n",
       "<g id=\"edge3\" class=\"edge\">\n",
       "<title>Total Travel Cost&#45;&gt;Utility (DTW)</title>\n",
       "<path fill=\"none\" stroke=\"black\" d=\"M83.27,-72.05C89.11,-63.71 96.26,-53.49 102.73,-44.25\"/>\n",
       "<polygon fill=\"black\" stroke=\"black\" points=\"105.79,-45.99 108.65,-35.79 100.05,-41.97 105.79,-45.99\"/>\n",
       "</g>\n",
       "</g>\n",
       "</svg>\n"
      ],
      "text/plain": [
       "<graphviz.dot.Digraph at 0x1c1ceeae10>"
      ]
     },
     "execution_count": 34,
     "metadata": {},
     "output_type": "execute_result"
    }
   ],
   "source": [
    "V_DTW.draw()"
   ]
  },
  {
   "cell_type": "code",
   "execution_count": 35,
   "metadata": {},
   "outputs": [
    {
     "name": "stderr",
     "output_type": "stream",
     "text": [
      "/Users/mobouzaghrane/opt/anaconda3/lib/python3.7/site-packages/numpy/core/fromnumeric.py:2495: FutureWarning: Method .ptp is deprecated and will be removed in a future version. Use numpy.ptp instead.\n",
      "  return ptp(axis=axis, out=out, **kwargs)\n"
     ]
    }
   ],
   "source": [
    "DTW_Df = bike_data_long[bike_data_long['mode_id']==5]\n",
    "DTW_Df.reset_index(drop=True,inplace=True)\n",
    "DTW_Reg = FitAlternativeRegression(regressions={1:('total_travel_time','total_travel_cost')},\n",
    "                                           reg_types={1:'linear'},\n",
    "                                           data = DTW_Df)"
   ]
  },
  {
   "cell_type": "markdown",
   "metadata": {},
   "source": [
    "### 3.3.6. Walk-Transit-Drive "
   ]
  },
  {
   "cell_type": "code",
   "execution_count": 36,
   "metadata": {},
   "outputs": [
    {
     "data": {
      "image/svg+xml": [
       "<?xml version=\"1.0\" encoding=\"UTF-8\" standalone=\"no\"?>\n",
       "<!DOCTYPE svg PUBLIC \"-//W3C//DTD SVG 1.1//EN\"\n",
       " \"http://www.w3.org/Graphics/SVG/1.1/DTD/svg11.dtd\">\n",
       "<!-- Generated by graphviz version 2.42.3 (20191010.1750)\n",
       " -->\n",
       "<!-- Title: %3 Pages: 1 -->\n",
       "<svg width=\"203pt\" height=\"188pt\"\n",
       " viewBox=\"0.00 0.00 202.80 188.00\" xmlns=\"http://www.w3.org/2000/svg\" xmlns:xlink=\"http://www.w3.org/1999/xlink\">\n",
       "<g id=\"graph0\" class=\"graph\" transform=\"scale(1 1) rotate(0) translate(4 184)\">\n",
       "<title>%3</title>\n",
       "<polygon fill=\"white\" stroke=\"transparent\" points=\"-4,4 -4,-184 198.8,-184 198.8,4 -4,4\"/>\n",
       "<!-- Utility (WTD) -->\n",
       "<g id=\"node1\" class=\"node\">\n",
       "<title>Utility (WTD)</title>\n",
       "<ellipse fill=\"none\" stroke=\"black\" cx=\"73.39\" cy=\"-18\" rx=\"61.37\" ry=\"18\"/>\n",
       "<text text-anchor=\"middle\" x=\"73.39\" y=\"-13.8\" font-family=\"Times,serif\" font-size=\"14.00\">Utility (WTD)</text>\n",
       "</g>\n",
       "<!-- Total Travel Time -->\n",
       "<g id=\"node2\" class=\"node\">\n",
       "<title>Total Travel Time</title>\n",
       "<ellipse fill=\"none\" stroke=\"black\" cx=\"73.39\" cy=\"-162\" rx=\"73.28\" ry=\"18\"/>\n",
       "<text text-anchor=\"middle\" x=\"73.39\" y=\"-157.8\" font-family=\"Times,serif\" font-size=\"14.00\">Total Travel Time</text>\n",
       "</g>\n",
       "<!-- Total Travel Time&#45;&gt;Utility (WTD) -->\n",
       "<g id=\"edge2\" class=\"edge\">\n",
       "<title>Total Travel Time&#45;&gt;Utility (WTD)</title>\n",
       "<path fill=\"none\" stroke=\"black\" d=\"M60.66,-143.85C54.1,-133.92 46.78,-120.88 43.39,-108 39.31,-92.53 39.31,-87.47 43.39,-72 45.92,-62.39 50.64,-52.69 55.59,-44.26\"/>\n",
       "<polygon fill=\"black\" stroke=\"black\" points=\"58.63,-46.02 60.97,-35.68 52.7,-42.3 58.63,-46.02\"/>\n",
       "</g>\n",
       "<!-- Total Travel Cost -->\n",
       "<g id=\"node3\" class=\"node\">\n",
       "<title>Total Travel Cost</title>\n",
       "<ellipse fill=\"none\" stroke=\"black\" cx=\"123.39\" cy=\"-90\" rx=\"71.31\" ry=\"18\"/>\n",
       "<text text-anchor=\"middle\" x=\"123.39\" y=\"-85.8\" font-family=\"Times,serif\" font-size=\"14.00\">Total Travel Cost</text>\n",
       "</g>\n",
       "<!-- Total Travel Time&#45;&gt;Total Travel Cost -->\n",
       "<g id=\"edge1\" class=\"edge\">\n",
       "<title>Total Travel Time&#45;&gt;Total Travel Cost</title>\n",
       "<path fill=\"none\" stroke=\"black\" d=\"M85.49,-144.05C91.51,-135.63 98.9,-125.28 105.56,-115.97\"/>\n",
       "<polygon fill=\"black\" stroke=\"black\" points=\"108.43,-117.96 111.4,-107.79 102.74,-113.89 108.43,-117.96\"/>\n",
       "</g>\n",
       "<!-- Total Travel Cost&#45;&gt;Utility (WTD) -->\n",
       "<g id=\"edge3\" class=\"edge\">\n",
       "<title>Total Travel Cost&#45;&gt;Utility (WTD)</title>\n",
       "<path fill=\"none\" stroke=\"black\" d=\"M111.28,-72.05C105.27,-63.63 97.87,-53.28 91.22,-43.97\"/>\n",
       "<polygon fill=\"black\" stroke=\"black\" points=\"94.04,-41.89 85.38,-35.79 88.35,-45.96 94.04,-41.89\"/>\n",
       "</g>\n",
       "</g>\n",
       "</svg>\n"
      ],
      "text/plain": [
       "<graphviz.dot.Digraph at 0x1c1d5527d0>"
      ]
     },
     "execution_count": 36,
     "metadata": {},
     "output_type": "execute_result"
    }
   ],
   "source": [
    "V_WTD.draw()"
   ]
  },
  {
   "cell_type": "code",
   "execution_count": 37,
   "metadata": {},
   "outputs": [
    {
     "name": "stderr",
     "output_type": "stream",
     "text": [
      "/Users/mobouzaghrane/opt/anaconda3/lib/python3.7/site-packages/numpy/core/fromnumeric.py:2495: FutureWarning: Method .ptp is deprecated and will be removed in a future version. Use numpy.ptp instead.\n",
      "  return ptp(axis=axis, out=out, **kwargs)\n"
     ]
    }
   ],
   "source": [
    "WTD_Df = bike_data_long[bike_data_long['mode_id']==6]\n",
    "WTD_Df.reset_index(drop=True,inplace=True)\n",
    "WTD_Reg = FitAlternativeRegression(regressions={1:('total_travel_time','total_travel_cost')},\n",
    "                                           reg_types={1:'linear'},\n",
    "                                           data = WTD_Df)"
   ]
  },
  {
   "cell_type": "markdown",
   "metadata": {},
   "source": [
    "### 3.3.7. Walk"
   ]
  },
  {
   "cell_type": "code",
   "execution_count": 38,
   "metadata": {},
   "outputs": [
    {
     "data": {
      "image/svg+xml": [
       "<?xml version=\"1.0\" encoding=\"UTF-8\" standalone=\"no\"?>\n",
       "<!DOCTYPE svg PUBLIC \"-//W3C//DTD SVG 1.1//EN\"\n",
       " \"http://www.w3.org/Graphics/SVG/1.1/DTD/svg11.dtd\">\n",
       "<!-- Generated by graphviz version 2.42.3 (20191010.1750)\n",
       " -->\n",
       "<!-- Title: %3 Pages: 1 -->\n",
       "<svg width=\"180pt\" height=\"116pt\"\n",
       " viewBox=\"0.00 0.00 180.25 116.00\" xmlns=\"http://www.w3.org/2000/svg\" xmlns:xlink=\"http://www.w3.org/1999/xlink\">\n",
       "<g id=\"graph0\" class=\"graph\" transform=\"scale(1 1) rotate(0) translate(4 112)\">\n",
       "<title>%3</title>\n",
       "<polygon fill=\"white\" stroke=\"transparent\" points=\"-4,4 -4,-112 176.25,-112 176.25,4 -4,4\"/>\n",
       "<!-- Total Travel Distance -->\n",
       "<g id=\"node1\" class=\"node\">\n",
       "<title>Total Travel Distance</title>\n",
       "<ellipse fill=\"none\" stroke=\"black\" cx=\"86.13\" cy=\"-90\" rx=\"86.25\" ry=\"18\"/>\n",
       "<text text-anchor=\"middle\" x=\"86.13\" y=\"-85.8\" font-family=\"Times,serif\" font-size=\"14.00\">Total Travel Distance</text>\n",
       "</g>\n",
       "<!-- Utility (Walk) -->\n",
       "<g id=\"node2\" class=\"node\">\n",
       "<title>Utility (Walk)</title>\n",
       "<ellipse fill=\"none\" stroke=\"black\" cx=\"86.13\" cy=\"-18\" rx=\"60\" ry=\"18\"/>\n",
       "<text text-anchor=\"middle\" x=\"86.13\" y=\"-13.8\" font-family=\"Times,serif\" font-size=\"14.00\">Utility (Walk)</text>\n",
       "</g>\n",
       "<!-- Total Travel Distance&#45;&gt;Utility (Walk) -->\n",
       "<g id=\"edge1\" class=\"edge\">\n",
       "<title>Total Travel Distance&#45;&gt;Utility (Walk)</title>\n",
       "<path fill=\"none\" stroke=\"black\" d=\"M86.13,-71.7C86.13,-63.98 86.13,-54.71 86.13,-46.11\"/>\n",
       "<polygon fill=\"black\" stroke=\"black\" points=\"89.63,-46.1 86.13,-36.1 82.63,-46.1 89.63,-46.1\"/>\n",
       "</g>\n",
       "</g>\n",
       "</svg>\n"
      ],
      "text/plain": [
       "<graphviz.dot.Digraph at 0x1c1ce79a10>"
      ]
     },
     "execution_count": 38,
     "metadata": {},
     "output_type": "execute_result"
    }
   ],
   "source": [
    "V_Walk.draw()"
   ]
  },
  {
   "cell_type": "markdown",
   "metadata": {},
   "source": [
    "No regressions needed under the Walk alternative since the travel distance will be simulated based on the original dataset and directly affects the utility function"
   ]
  },
  {
   "cell_type": "markdown",
   "metadata": {},
   "source": [
    "### 3.3.8. Bike"
   ]
  },
  {
   "cell_type": "code",
   "execution_count": 39,
   "metadata": {},
   "outputs": [
    {
     "data": {
      "image/svg+xml": [
       "<?xml version=\"1.0\" encoding=\"UTF-8\" standalone=\"no\"?>\n",
       "<!DOCTYPE svg PUBLIC \"-//W3C//DTD SVG 1.1//EN\"\n",
       " \"http://www.w3.org/Graphics/SVG/1.1/DTD/svg11.dtd\">\n",
       "<!-- Generated by graphviz version 2.42.3 (20191010.1750)\n",
       " -->\n",
       "<!-- Title: %3 Pages: 1 -->\n",
       "<svg width=\"180pt\" height=\"116pt\"\n",
       " viewBox=\"0.00 0.00 180.25 116.00\" xmlns=\"http://www.w3.org/2000/svg\" xmlns:xlink=\"http://www.w3.org/1999/xlink\">\n",
       "<g id=\"graph0\" class=\"graph\" transform=\"scale(1 1) rotate(0) translate(4 112)\">\n",
       "<title>%3</title>\n",
       "<polygon fill=\"white\" stroke=\"transparent\" points=\"-4,4 -4,-112 176.25,-112 176.25,4 -4,4\"/>\n",
       "<!-- Total Travel Distance -->\n",
       "<g id=\"node1\" class=\"node\">\n",
       "<title>Total Travel Distance</title>\n",
       "<ellipse fill=\"none\" stroke=\"black\" cx=\"86.13\" cy=\"-90\" rx=\"86.25\" ry=\"18\"/>\n",
       "<text text-anchor=\"middle\" x=\"86.13\" y=\"-85.8\" font-family=\"Times,serif\" font-size=\"14.00\">Total Travel Distance</text>\n",
       "</g>\n",
       "<!-- Utility (Bike) -->\n",
       "<g id=\"node2\" class=\"node\">\n",
       "<title>Utility (Bike)</title>\n",
       "<ellipse fill=\"none\" stroke=\"black\" cx=\"86.13\" cy=\"-18\" rx=\"58.01\" ry=\"18\"/>\n",
       "<text text-anchor=\"middle\" x=\"86.13\" y=\"-13.8\" font-family=\"Times,serif\" font-size=\"14.00\">Utility (Bike)</text>\n",
       "</g>\n",
       "<!-- Total Travel Distance&#45;&gt;Utility (Bike) -->\n",
       "<g id=\"edge1\" class=\"edge\">\n",
       "<title>Total Travel Distance&#45;&gt;Utility (Bike)</title>\n",
       "<path fill=\"none\" stroke=\"black\" d=\"M86.13,-71.7C86.13,-63.98 86.13,-54.71 86.13,-46.11\"/>\n",
       "<polygon fill=\"black\" stroke=\"black\" points=\"89.63,-46.1 86.13,-36.1 82.63,-46.1 89.63,-46.1\"/>\n",
       "</g>\n",
       "</g>\n",
       "</svg>\n"
      ],
      "text/plain": [
       "<graphviz.dot.Digraph at 0x116be2b50>"
      ]
     },
     "execution_count": 39,
     "metadata": {},
     "output_type": "execute_result"
    }
   ],
   "source": [
    "V_Bike.draw()"
   ]
  },
  {
   "cell_type": "raw",
   "metadata": {},
   "source": [
    "No regressions needed under the Bike alternative since the travel distance will be simulated based on the original dataset and directly affects the utility function"
   ]
  },
  {
   "cell_type": "markdown",
   "metadata": {},
   "source": [
    "## 3.4. Simulate Nodes without Parents "
   ]
  },
  {
   "cell_type": "code",
   "execution_count": 40,
   "metadata": {},
   "outputs": [],
   "source": [
    "sim_size = 8000\n",
    "sim_bike_data_no_parent = SimNodeNoParent(bike_data_params, size=sim_size)"
   ]
  },
  {
   "cell_type": "markdown",
   "metadata": {},
   "source": [
    "## 3.5. Simulate data for each causal graph"
   ]
  },
  {
   "cell_type": "code",
   "execution_count": 41,
   "metadata": {},
   "outputs": [],
   "source": [
    "# Create a copy of the data to avoid any issues\n",
    "sim_bike_data_wide = copy.deepcopy(sim_bike_data_no_parent)"
   ]
  },
  {
   "cell_type": "markdown",
   "metadata": {},
   "source": [
    "### 3.5.1. Drive Alone "
   ]
  },
  {
   "cell_type": "code",
   "execution_count": 42,
   "metadata": {},
   "outputs": [
    {
     "data": {
      "image/svg+xml": [
       "<?xml version=\"1.0\" encoding=\"UTF-8\" standalone=\"no\"?>\n",
       "<!DOCTYPE svg PUBLIC \"-//W3C//DTD SVG 1.1//EN\"\n",
       " \"http://www.w3.org/Graphics/SVG/1.1/DTD/svg11.dtd\">\n",
       "<!-- Generated by graphviz version 2.42.3 (20191010.1750)\n",
       " -->\n",
       "<!-- Title: %3 Pages: 1 -->\n",
       "<svg width=\"718pt\" height=\"188pt\"\n",
       " viewBox=\"0.00 0.00 717.91 188.00\" xmlns=\"http://www.w3.org/2000/svg\" xmlns:xlink=\"http://www.w3.org/1999/xlink\">\n",
       "<g id=\"graph0\" class=\"graph\" transform=\"scale(1 1) rotate(0) translate(4 184)\">\n",
       "<title>%3</title>\n",
       "<polygon fill=\"white\" stroke=\"transparent\" points=\"-4,4 -4,-184 713.91,-184 713.91,4 -4,4\"/>\n",
       "<!-- Utility (Drive Alone) -->\n",
       "<g id=\"node1\" class=\"node\">\n",
       "<title>Utility (Drive Alone)</title>\n",
       "<ellipse fill=\"none\" stroke=\"black\" cx=\"316.39\" cy=\"-18\" rx=\"84.55\" ry=\"18\"/>\n",
       "<text text-anchor=\"middle\" x=\"316.39\" y=\"-13.8\" font-family=\"Times,serif\" font-size=\"14.00\">Utility (Drive Alone)</text>\n",
       "</g>\n",
       "<!-- Total Travel Time -->\n",
       "<g id=\"node2\" class=\"node\">\n",
       "<title>Total Travel Time</title>\n",
       "<ellipse fill=\"none\" stroke=\"black\" cx=\"73.39\" cy=\"-90\" rx=\"73.28\" ry=\"18\"/>\n",
       "<text text-anchor=\"middle\" x=\"73.39\" y=\"-85.8\" font-family=\"Times,serif\" font-size=\"14.00\">Total Travel Time</text>\n",
       "</g>\n",
       "<!-- Total Travel Time&#45;&gt;Utility (Drive Alone) -->\n",
       "<g id=\"edge3\" class=\"edge\">\n",
       "<title>Total Travel Time&#45;&gt;Utility (Drive Alone)</title>\n",
       "<path fill=\"none\" stroke=\"black\" d=\"M119.09,-75.83C158.51,-64.48 215.64,-48.02 258.29,-35.74\"/>\n",
       "<polygon fill=\"black\" stroke=\"black\" points=\"259.33,-39.08 267.97,-32.95 257.4,-32.35 259.33,-39.08\"/>\n",
       "</g>\n",
       "<!-- Total Travel Distance -->\n",
       "<g id=\"node3\" class=\"node\">\n",
       "<title>Total Travel Distance</title>\n",
       "<ellipse fill=\"none\" stroke=\"black\" cx=\"154.39\" cy=\"-162\" rx=\"86.25\" ry=\"18\"/>\n",
       "<text text-anchor=\"middle\" x=\"154.39\" y=\"-157.8\" font-family=\"Times,serif\" font-size=\"14.00\">Total Travel Distance</text>\n",
       "</g>\n",
       "<!-- Total Travel Distance&#45;&gt;Total Travel Time -->\n",
       "<g id=\"edge1\" class=\"edge\">\n",
       "<title>Total Travel Distance&#45;&gt;Total Travel Time</title>\n",
       "<path fill=\"none\" stroke=\"black\" d=\"M135.19,-144.41C124.7,-135.34 111.54,-123.97 100.07,-114.06\"/>\n",
       "<polygon fill=\"black\" stroke=\"black\" points=\"102.3,-111.36 92.45,-107.47 97.72,-116.66 102.3,-111.36\"/>\n",
       "</g>\n",
       "<!-- Total Travel Cost -->\n",
       "<g id=\"node4\" class=\"node\">\n",
       "<title>Total Travel Cost</title>\n",
       "<ellipse fill=\"none\" stroke=\"black\" cx=\"236.39\" cy=\"-90\" rx=\"71.31\" ry=\"18\"/>\n",
       "<text text-anchor=\"middle\" x=\"236.39\" y=\"-85.8\" font-family=\"Times,serif\" font-size=\"14.00\">Total Travel Cost</text>\n",
       "</g>\n",
       "<!-- Total Travel Distance&#45;&gt;Total Travel Cost -->\n",
       "<g id=\"edge2\" class=\"edge\">\n",
       "<title>Total Travel Distance&#45;&gt;Total Travel Cost</title>\n",
       "<path fill=\"none\" stroke=\"black\" d=\"M173.82,-144.41C184.44,-135.34 197.76,-123.97 209.38,-114.06\"/>\n",
       "<polygon fill=\"black\" stroke=\"black\" points=\"211.76,-116.62 217.1,-107.47 207.22,-111.3 211.76,-116.62\"/>\n",
       "</g>\n",
       "<!-- Total Travel Cost&#45;&gt;Utility (Drive Alone) -->\n",
       "<g id=\"edge4\" class=\"edge\">\n",
       "<title>Total Travel Cost&#45;&gt;Utility (Drive Alone)</title>\n",
       "<path fill=\"none\" stroke=\"black\" d=\"M255.35,-72.41C265.53,-63.5 278.27,-52.36 289.47,-42.56\"/>\n",
       "<polygon fill=\"black\" stroke=\"black\" points=\"292.07,-44.93 297.29,-35.71 287.46,-39.66 292.07,-44.93\"/>\n",
       "</g>\n",
       "<!-- Number of Autos -->\n",
       "<g id=\"node5\" class=\"node\">\n",
       "<title>Number of Autos</title>\n",
       "<ellipse fill=\"none\" stroke=\"black\" cx=\"397.39\" cy=\"-90\" rx=\"71.54\" ry=\"18\"/>\n",
       "<text text-anchor=\"middle\" x=\"397.39\" y=\"-85.8\" font-family=\"Times,serif\" font-size=\"14.00\">Number of Autos</text>\n",
       "</g>\n",
       "<!-- Number of Autos&#45;&gt;Utility (Drive Alone) -->\n",
       "<g id=\"edge5\" class=\"edge\">\n",
       "<title>Number of Autos&#45;&gt;Utility (Drive Alone)</title>\n",
       "<path fill=\"none\" stroke=\"black\" d=\"M378.19,-72.41C367.78,-63.41 354.73,-52.14 343.32,-42.27\"/>\n",
       "<polygon fill=\"black\" stroke=\"black\" points=\"345.58,-39.6 335.73,-35.71 341,-44.9 345.58,-39.6\"/>\n",
       "</g>\n",
       "<!-- Number of Licensed Drivers -->\n",
       "<g id=\"node6\" class=\"node\">\n",
       "<title>Number of Licensed Drivers</title>\n",
       "<ellipse fill=\"none\" stroke=\"black\" cx=\"598.39\" cy=\"-90\" rx=\"111.55\" ry=\"18\"/>\n",
       "<text text-anchor=\"middle\" x=\"598.39\" y=\"-85.8\" font-family=\"Times,serif\" font-size=\"14.00\">Number of Licensed Drivers</text>\n",
       "</g>\n",
       "<!-- Number of Licensed Drivers&#45;&gt;Utility (Drive Alone) -->\n",
       "<g id=\"edge6\" class=\"edge\">\n",
       "<title>Number of Licensed Drivers&#45;&gt;Utility (Drive Alone)</title>\n",
       "<path fill=\"none\" stroke=\"black\" d=\"M540.3,-74.58C493.34,-62.92 427.34,-46.54 379.16,-34.58\"/>\n",
       "<polygon fill=\"black\" stroke=\"black\" points=\"379.72,-31.11 369.17,-32.1 378.03,-37.91 379.72,-31.11\"/>\n",
       "</g>\n",
       "</g>\n",
       "</svg>\n"
      ],
      "text/plain": [
       "<graphviz.dot.Digraph at 0x1c1cedfa10>"
      ]
     },
     "execution_count": 42,
     "metadata": {},
     "output_type": "execute_result"
    }
   ],
   "source": [
    "V_Drive_Alone.draw()"
   ]
  },
  {
   "cell_type": "code",
   "execution_count": 43,
   "metadata": {},
   "outputs": [],
   "source": [
    "sim_bike_data_wide['total_travel_time_drive_alone'] = Drive_Alone_Reg['total_travel_time_on_total_travel_distance'].params[0] +\\\n",
    "                                                  Drive_Alone_Reg['total_travel_time_on_total_travel_distance'].params[1] *\\\n",
    "                                                  sim_bike_data_wide['total_travel_distance_drive_alone'] +\\\n",
    "                                                  np.random.normal(loc=0,\n",
    "                                                                   scale = Drive_Alone_Reg['total_travel_time_on_total_travel_distance'].resid.std(),\n",
    "                                                                   size = sim_size)\n",
    "sim_bike_data_wide['total_travel_cost_drive_alone'] = Drive_Alone_Reg['total_travel_cost_on_total_travel_distance'].params[0] +\\\n",
    "                                                  Drive_Alone_Reg['total_travel_cost_on_total_travel_distance'].params[1] *\\\n",
    "                                                  sim_bike_data_wide['total_travel_distance_drive_alone'] +\\\n",
    "                                                  np.random.normal(loc=0,\n",
    "                                                                   scale = Drive_Alone_Reg['total_travel_cost_on_total_travel_distance'].resid.std(),\n",
    "                                                                   size = sim_size)"
   ]
  },
  {
   "cell_type": "code",
   "execution_count": 44,
   "metadata": {},
   "outputs": [],
   "source": [
    "# ## Loading data into StructuralCausalModel\n",
    "# Drive_Alone_Model = StructuralCausalModel({\n",
    "#     \"total_travel_distance\": lambda   n_samples: bike_data_no_parent['total_travel_distance_drive_alone'],\n",
    "#     \"total_travel_time\": lambda total_travel_distance, n_samples: Drive_Alone_Reg['total_travel_time_on_total_travel_distance'].params[0] + \n",
    "#                                                                   Drive_Alone_Reg['total_travel_time_on_total_travel_distance'].params[1] * \n",
    "#                                                                   bike_data_no_parent['total_travel_distance_drive_alone'] + \n",
    "#                                                                   np.random.normal(loc=0,\n",
    "#                                                                                    scale = Drive_Alone_Reg['total_travel_time_on_total_travel_distance'].resid.std(),\n",
    "#                                                                                    size = n_samples),\n",
    "#     \"total_travel_cost\": lambda total_travel_distance, n_samples: Drive_Alone_Reg['total_travel_cost_on_total_travel_distance'].params[0] + \n",
    "#                                                                   Drive_Alone_Reg['total_travel_cost_on_total_travel_distance'].params[1] * \n",
    "#                                                                   bike_data_no_parent['total_travel_distance_drive_alone'] + \n",
    "#                                                                   np.random.normal(loc=0,\n",
    "#                                                                                    scale = Drive_Alone_Reg['total_travel_cost_on_total_travel_distance'].resid.std(),\n",
    "#                                                                                    size = n_samples),\n",
    "#     \"num_licensed_drivers\": lambda n_samples: bike_data_no_parent['num_licensed_drivers'],\n",
    "#     \"num_cars\": lambda n_samples: bike_data_no_parent['num_cars'],\n",
    "#     \"utility_drive_alone\": lambda n_samples: np.zeros(shape=n_samples)\n",
    "# })\n",
    "\n",
    "# Drive_Alone_Model.sample(n_samples=4000).head()"
   ]
  },
  {
   "cell_type": "markdown",
   "metadata": {},
   "source": [
    "### 3.5.2. Shared-2 "
   ]
  },
  {
   "cell_type": "code",
   "execution_count": 45,
   "metadata": {},
   "outputs": [
    {
     "data": {
      "image/svg+xml": [
       "<?xml version=\"1.0\" encoding=\"UTF-8\" standalone=\"no\"?>\n",
       "<!DOCTYPE svg PUBLIC \"-//W3C//DTD SVG 1.1//EN\"\n",
       " \"http://www.w3.org/Graphics/SVG/1.1/DTD/svg11.dtd\">\n",
       "<!-- Generated by graphviz version 2.42.3 (20191010.1750)\n",
       " -->\n",
       "<!-- Title: %3 Pages: 1 -->\n",
       "<svg width=\"1166pt\" height=\"188pt\"\n",
       " viewBox=\"0.00 0.00 1166.11 188.00\" xmlns=\"http://www.w3.org/2000/svg\" xmlns:xlink=\"http://www.w3.org/1999/xlink\">\n",
       "<g id=\"graph0\" class=\"graph\" transform=\"scale(1 1) rotate(0) translate(4 184)\">\n",
       "<title>%3</title>\n",
       "<polygon fill=\"white\" stroke=\"transparent\" points=\"-4,4 -4,-184 1162.11,-184 1162.11,4 -4,4\"/>\n",
       "<!-- Total Travel Time -->\n",
       "<g id=\"node1\" class=\"node\">\n",
       "<title>Total Travel Time</title>\n",
       "<ellipse fill=\"none\" stroke=\"black\" cx=\"521.58\" cy=\"-90\" rx=\"73.28\" ry=\"18\"/>\n",
       "<text text-anchor=\"middle\" x=\"521.58\" y=\"-85.8\" font-family=\"Times,serif\" font-size=\"14.00\">Total Travel Time</text>\n",
       "</g>\n",
       "<!-- Utility (Shared Ride 2) -->\n",
       "<g id=\"node4\" class=\"node\">\n",
       "<title>Utility (Shared Ride 2)</title>\n",
       "<ellipse fill=\"none\" stroke=\"black\" cx=\"521.58\" cy=\"-18\" rx=\"91.31\" ry=\"18\"/>\n",
       "<text text-anchor=\"middle\" x=\"521.58\" y=\"-13.8\" font-family=\"Times,serif\" font-size=\"14.00\">Utility (Shared Ride 2)</text>\n",
       "</g>\n",
       "<!-- Total Travel Time&#45;&gt;Utility (Shared Ride 2) -->\n",
       "<g id=\"edge1\" class=\"edge\">\n",
       "<title>Total Travel Time&#45;&gt;Utility (Shared Ride 2)</title>\n",
       "<path fill=\"none\" stroke=\"black\" d=\"M521.58,-71.7C521.58,-63.98 521.58,-54.71 521.58,-46.11\"/>\n",
       "<polygon fill=\"black\" stroke=\"black\" points=\"525.08,-46.1 521.58,-36.1 518.08,-46.1 525.08,-46.1\"/>\n",
       "</g>\n",
       "<!-- Number of Kids -->\n",
       "<g id=\"node2\" class=\"node\">\n",
       "<title>Number of Kids</title>\n",
       "<ellipse fill=\"none\" stroke=\"black\" cx=\"67.58\" cy=\"-90\" rx=\"67.66\" ry=\"18\"/>\n",
       "<text text-anchor=\"middle\" x=\"67.58\" y=\"-85.8\" font-family=\"Times,serif\" font-size=\"14.00\">Number of Kids</text>\n",
       "</g>\n",
       "<!-- Number of Kids&#45;&gt;Utility (Shared Ride 2) -->\n",
       "<g id=\"edge9\" class=\"edge\">\n",
       "<title>Number of Kids&#45;&gt;Utility (Shared Ride 2)</title>\n",
       "<path fill=\"none\" stroke=\"black\" d=\"M116.52,-77.44C125.5,-75.5 134.8,-73.59 143.58,-72 242.95,-53.95 357.98,-38.61 434.8,-29.15\"/>\n",
       "<polygon fill=\"black\" stroke=\"black\" points=\"435.41,-32.6 444.91,-27.91 434.56,-25.65 435.41,-32.6\"/>\n",
       "</g>\n",
       "<!-- Cross Bay Trip -->\n",
       "<g id=\"node3\" class=\"node\">\n",
       "<title>Cross Bay Trip</title>\n",
       "<ellipse fill=\"none\" stroke=\"black\" cx=\"216.58\" cy=\"-90\" rx=\"63.87\" ry=\"18\"/>\n",
       "<text text-anchor=\"middle\" x=\"216.58\" y=\"-85.8\" font-family=\"Times,serif\" font-size=\"14.00\">Cross Bay Trip</text>\n",
       "</g>\n",
       "<!-- Cross Bay Trip&#45;&gt;Utility (Shared Ride 2) -->\n",
       "<g id=\"edge5\" class=\"edge\">\n",
       "<title>Cross Bay Trip&#45;&gt;Utility (Shared Ride 2)</title>\n",
       "<path fill=\"none\" stroke=\"black\" d=\"M264.09,-77.91C272.58,-75.93 281.34,-73.9 289.58,-72 344.9,-59.24 407.68,-44.91 453.97,-34.37\"/>\n",
       "<polygon fill=\"black\" stroke=\"black\" points=\"454.91,-37.74 463.88,-32.11 453.36,-30.92 454.91,-37.74\"/>\n",
       "</g>\n",
       "<!-- Household Size -->\n",
       "<g id=\"node5\" class=\"node\">\n",
       "<title>Household Size</title>\n",
       "<ellipse fill=\"none\" stroke=\"black\" cx=\"364.58\" cy=\"-90\" rx=\"65.72\" ry=\"18\"/>\n",
       "<text text-anchor=\"middle\" x=\"364.58\" y=\"-85.8\" font-family=\"Times,serif\" font-size=\"14.00\">Household Size</text>\n",
       "</g>\n",
       "<!-- Household Size&#45;&gt;Utility (Shared Ride 2) -->\n",
       "<g id=\"edge8\" class=\"edge\">\n",
       "<title>Household Size&#45;&gt;Utility (Shared Ride 2)</title>\n",
       "<path fill=\"none\" stroke=\"black\" d=\"M397.49,-74.33C420.62,-64.02 451.81,-50.11 477.14,-38.81\"/>\n",
       "<polygon fill=\"black\" stroke=\"black\" points=\"478.82,-41.9 486.53,-34.63 475.97,-35.5 478.82,-41.9\"/>\n",
       "</g>\n",
       "<!-- Total Travel Distance -->\n",
       "<g id=\"node6\" class=\"node\">\n",
       "<title>Total Travel Distance</title>\n",
       "<ellipse fill=\"none\" stroke=\"black\" cx=\"602.58\" cy=\"-162\" rx=\"86.25\" ry=\"18\"/>\n",
       "<text text-anchor=\"middle\" x=\"602.58\" y=\"-157.8\" font-family=\"Times,serif\" font-size=\"14.00\">Total Travel Distance</text>\n",
       "</g>\n",
       "<!-- Total Travel Distance&#45;&gt;Total Travel Time -->\n",
       "<g id=\"edge2\" class=\"edge\">\n",
       "<title>Total Travel Distance&#45;&gt;Total Travel Time</title>\n",
       "<path fill=\"none\" stroke=\"black\" d=\"M583.38,-144.41C572.89,-135.34 559.74,-123.97 548.26,-114.06\"/>\n",
       "<polygon fill=\"black\" stroke=\"black\" points=\"550.49,-111.36 540.64,-107.47 545.92,-116.66 550.49,-111.36\"/>\n",
       "</g>\n",
       "<!-- Total Travel Cost -->\n",
       "<g id=\"node7\" class=\"node\">\n",
       "<title>Total Travel Cost</title>\n",
       "<ellipse fill=\"none\" stroke=\"black\" cx=\"684.58\" cy=\"-90\" rx=\"71.31\" ry=\"18\"/>\n",
       "<text text-anchor=\"middle\" x=\"684.58\" y=\"-85.8\" font-family=\"Times,serif\" font-size=\"14.00\">Total Travel Cost</text>\n",
       "</g>\n",
       "<!-- Total Travel Distance&#45;&gt;Total Travel Cost -->\n",
       "<g id=\"edge3\" class=\"edge\">\n",
       "<title>Total Travel Distance&#45;&gt;Total Travel Cost</title>\n",
       "<path fill=\"none\" stroke=\"black\" d=\"M622.01,-144.41C632.63,-135.34 645.95,-123.97 657.57,-114.06\"/>\n",
       "<polygon fill=\"black\" stroke=\"black\" points=\"659.95,-116.62 665.29,-107.47 655.41,-111.3 659.95,-116.62\"/>\n",
       "</g>\n",
       "<!-- Total Travel Cost&#45;&gt;Utility (Shared Ride 2) -->\n",
       "<g id=\"edge4\" class=\"edge\">\n",
       "<title>Total Travel Cost&#45;&gt;Utility (Shared Ride 2)</title>\n",
       "<path fill=\"none\" stroke=\"black\" d=\"M650.01,-74.15C625.88,-63.79 593.41,-49.85 567.16,-38.57\"/>\n",
       "<polygon fill=\"black\" stroke=\"black\" points=\"568.36,-35.28 557.79,-34.55 565.6,-41.71 568.36,-35.28\"/>\n",
       "</g>\n",
       "<!-- Number of Autos -->\n",
       "<g id=\"node8\" class=\"node\">\n",
       "<title>Number of Autos</title>\n",
       "<ellipse fill=\"none\" stroke=\"black\" cx=\"845.58\" cy=\"-90\" rx=\"71.54\" ry=\"18\"/>\n",
       "<text text-anchor=\"middle\" x=\"845.58\" y=\"-85.8\" font-family=\"Times,serif\" font-size=\"14.00\">Number of Autos</text>\n",
       "</g>\n",
       "<!-- Number of Autos&#45;&gt;Utility (Shared Ride 2) -->\n",
       "<g id=\"edge6\" class=\"edge\">\n",
       "<title>Number of Autos&#45;&gt;Utility (Shared Ride 2)</title>\n",
       "<path fill=\"none\" stroke=\"black\" d=\"M793.16,-77.68C738.11,-65.78 651.27,-47.02 590.66,-33.92\"/>\n",
       "<polygon fill=\"black\" stroke=\"black\" points=\"591.3,-30.48 580.79,-31.79 589.82,-37.32 591.3,-30.48\"/>\n",
       "</g>\n",
       "<!-- Number of Licensed Drivers -->\n",
       "<g id=\"node9\" class=\"node\">\n",
       "<title>Number of Licensed Drivers</title>\n",
       "<ellipse fill=\"none\" stroke=\"black\" cx=\"1046.58\" cy=\"-90\" rx=\"111.55\" ry=\"18\"/>\n",
       "<text text-anchor=\"middle\" x=\"1046.58\" y=\"-85.8\" font-family=\"Times,serif\" font-size=\"14.00\">Number of Licensed Drivers</text>\n",
       "</g>\n",
       "<!-- Number of Licensed Drivers&#45;&gt;Utility (Shared Ride 2) -->\n",
       "<g id=\"edge7\" class=\"edge\">\n",
       "<title>Number of Licensed Drivers&#45;&gt;Utility (Shared Ride 2)</title>\n",
       "<path fill=\"none\" stroke=\"black\" d=\"M966.23,-77.5C952.99,-75.64 939.4,-73.75 926.58,-72 815.79,-56.9 687.84,-40.3 605.89,-29.77\"/>\n",
       "<polygon fill=\"black\" stroke=\"black\" points=\"606.25,-26.29 595.89,-28.48 605.36,-33.23 606.25,-26.29\"/>\n",
       "</g>\n",
       "</g>\n",
       "</svg>\n"
      ],
      "text/plain": [
       "<graphviz.dot.Digraph at 0x1c1d552ad0>"
      ]
     },
     "execution_count": 45,
     "metadata": {},
     "output_type": "execute_result"
    }
   ],
   "source": [
    "V_Shared_2.draw()"
   ]
  },
  {
   "cell_type": "code",
   "execution_count": 46,
   "metadata": {},
   "outputs": [],
   "source": [
    "sim_bike_data_wide['total_travel_time_shared_2'] = Shared_2_Reg['total_travel_time_on_total_travel_distance'].params[0] +\\\n",
    "                                               Shared_2_Reg['total_travel_time_on_total_travel_distance'].params[1] *\\\n",
    "                                                  sim_bike_data_wide['total_travel_distance_shared_2'] +\\\n",
    "                                                  np.random.normal(loc=0,\n",
    "                                                                   scale = Shared_2_Reg['total_travel_time_on_total_travel_distance'].resid.std(),\n",
    "                                                                   size = sim_size)\n",
    "sim_bike_data_wide['total_travel_cost_shared_2'] = Shared_2_Reg['total_travel_cost_on_total_travel_distance'].params[0] +\\\n",
    "                                                  Shared_2_Reg['total_travel_cost_on_total_travel_distance'].params[1] *\\\n",
    "                                                  sim_bike_data_wide['total_travel_distance_shared_2'] +\\\n",
    "                                                  np.random.normal(loc=0,\n",
    "                                                                   scale = Shared_2_Reg['total_travel_cost_on_total_travel_distance'].resid.std(),\n",
    "                                                                   size = sim_size)"
   ]
  },
  {
   "cell_type": "code",
   "execution_count": 47,
   "metadata": {},
   "outputs": [],
   "source": [
    "# ## Loading data into StructuralCausalModel\n",
    "# Shared_2_Model = StructuralCausalModel({\n",
    "#     \"total_travel_distance\": lambda   n_samples: bike_data_no_parent['total_travel_distance_shared_2'],\n",
    "#     \"total_travel_time\": lambda total_travel_distance, n_samples: Shared_2_Reg['total_travel_time_on_total_travel_distance'].params[0] + \n",
    "#                                                                   Shared_2_Reg['total_travel_time_on_total_travel_distance'].params[1] * \n",
    "#                                                                   bike_data_no_parent['total_travel_distance_drive_alone'] + \n",
    "#                                                                   np.random.normal(loc=0,\n",
    "#                                                                                    scale = Shared_2_Reg['total_travel_time_on_total_travel_distance'].resid.std(),\n",
    "#                                                                                    size = n_samples),\n",
    "#     \"total_travel_cost\": lambda total_travel_distance, n_samples: Shared_2_Reg['total_travel_cost_on_total_travel_distance'].params[0] + \n",
    "#                                                                   Shared_2_Reg['total_travel_cost_on_total_travel_distance'].params[1] * \n",
    "#                                                                   bike_data_no_parent['total_travel_distance_drive_alone'] + \n",
    "#                                                                   np.random.normal(loc=0,\n",
    "#                                                                                    scale = Shared_2_Reg['total_travel_cost_on_total_travel_distance'].resid.std(),\n",
    "#                                                                                    size = n_samples),\n",
    "#     \"household_size\": lambda n_samples: bike_data_no_parent['household_size'],\n",
    "#     \"num_kids\": lambda n_samples: bike_data_no_parent['num_kids'],\n",
    "#     \"num_licensed_drivers\": lambda n_samples: bike_data_no_parent['num_licensed_drivers'],\n",
    "#     \"num_cars\": lambda n_samples: bike_data_no_parent['num_cars'],\n",
    "#     \"cross_bay\": lambda n_samples: bike_data_no_parent['cross_bay'],\n",
    "#     \"utility_shared_2\": total_travel_cost: lambda n_samples: np.zeros(shape=bike_data_no_parent['total_travel_distance_shared_2'].shape[0])\n",
    "# })\n",
    "# Shared_2_Model.sample(n_samples=4000).head()"
   ]
  },
  {
   "cell_type": "markdown",
   "metadata": {},
   "source": [
    "### 3.5.3. Shared-3+"
   ]
  },
  {
   "cell_type": "code",
   "execution_count": 48,
   "metadata": {},
   "outputs": [
    {
     "data": {
      "image/svg+xml": [
       "<?xml version=\"1.0\" encoding=\"UTF-8\" standalone=\"no\"?>\n",
       "<!DOCTYPE svg PUBLIC \"-//W3C//DTD SVG 1.1//EN\"\n",
       " \"http://www.w3.org/Graphics/SVG/1.1/DTD/svg11.dtd\">\n",
       "<!-- Generated by graphviz version 2.42.3 (20191010.1750)\n",
       " -->\n",
       "<!-- Title: %3 Pages: 1 -->\n",
       "<svg width=\"1166pt\" height=\"188pt\"\n",
       " viewBox=\"0.00 0.00 1166.11 188.00\" xmlns=\"http://www.w3.org/2000/svg\" xmlns:xlink=\"http://www.w3.org/1999/xlink\">\n",
       "<g id=\"graph0\" class=\"graph\" transform=\"scale(1 1) rotate(0) translate(4 184)\">\n",
       "<title>%3</title>\n",
       "<polygon fill=\"white\" stroke=\"transparent\" points=\"-4,4 -4,-184 1162.11,-184 1162.11,4 -4,4\"/>\n",
       "<!-- Total Travel Time -->\n",
       "<g id=\"node1\" class=\"node\">\n",
       "<title>Total Travel Time</title>\n",
       "<ellipse fill=\"none\" stroke=\"black\" cx=\"521.58\" cy=\"-90\" rx=\"73.28\" ry=\"18\"/>\n",
       "<text text-anchor=\"middle\" x=\"521.58\" y=\"-85.8\" font-family=\"Times,serif\" font-size=\"14.00\">Total Travel Time</text>\n",
       "</g>\n",
       "<!-- Utility (Shared Ride 3+) -->\n",
       "<g id=\"node5\" class=\"node\">\n",
       "<title>Utility (Shared Ride 3+)</title>\n",
       "<ellipse fill=\"none\" stroke=\"black\" cx=\"521.58\" cy=\"-18\" rx=\"96.28\" ry=\"18\"/>\n",
       "<text text-anchor=\"middle\" x=\"521.58\" y=\"-13.8\" font-family=\"Times,serif\" font-size=\"14.00\">Utility (Shared Ride 3+)</text>\n",
       "</g>\n",
       "<!-- Total Travel Time&#45;&gt;Utility (Shared Ride 3+) -->\n",
       "<g id=\"edge1\" class=\"edge\">\n",
       "<title>Total Travel Time&#45;&gt;Utility (Shared Ride 3+)</title>\n",
       "<path fill=\"none\" stroke=\"black\" d=\"M521.58,-71.7C521.58,-63.98 521.58,-54.71 521.58,-46.11\"/>\n",
       "<polygon fill=\"black\" stroke=\"black\" points=\"525.08,-46.1 521.58,-36.1 518.08,-46.1 525.08,-46.1\"/>\n",
       "</g>\n",
       "<!-- Number of Kids -->\n",
       "<g id=\"node2\" class=\"node\">\n",
       "<title>Number of Kids</title>\n",
       "<ellipse fill=\"none\" stroke=\"black\" cx=\"67.58\" cy=\"-90\" rx=\"67.66\" ry=\"18\"/>\n",
       "<text text-anchor=\"middle\" x=\"67.58\" y=\"-85.8\" font-family=\"Times,serif\" font-size=\"14.00\">Number of Kids</text>\n",
       "</g>\n",
       "<!-- Number of Kids&#45;&gt;Utility (Shared Ride 3+) -->\n",
       "<g id=\"edge9\" class=\"edge\">\n",
       "<title>Number of Kids&#45;&gt;Utility (Shared Ride 3+)</title>\n",
       "<path fill=\"none\" stroke=\"black\" d=\"M116.52,-77.44C125.5,-75.5 134.8,-73.59 143.58,-72 241.7,-54.18 355.09,-38.99 431.89,-29.5\"/>\n",
       "<polygon fill=\"black\" stroke=\"black\" points=\"432.51,-32.95 442,-28.26 431.65,-26.01 432.51,-32.95\"/>\n",
       "</g>\n",
       "<!-- Cross Bay Trip -->\n",
       "<g id=\"node3\" class=\"node\">\n",
       "<title>Cross Bay Trip</title>\n",
       "<ellipse fill=\"none\" stroke=\"black\" cx=\"216.58\" cy=\"-90\" rx=\"63.87\" ry=\"18\"/>\n",
       "<text text-anchor=\"middle\" x=\"216.58\" y=\"-85.8\" font-family=\"Times,serif\" font-size=\"14.00\">Cross Bay Trip</text>\n",
       "</g>\n",
       "<!-- Cross Bay Trip&#45;&gt;Utility (Shared Ride 3+) -->\n",
       "<g id=\"edge5\" class=\"edge\">\n",
       "<title>Cross Bay Trip&#45;&gt;Utility (Shared Ride 3+)</title>\n",
       "<path fill=\"none\" stroke=\"black\" d=\"M264.09,-77.91C272.58,-75.93 281.34,-73.9 289.58,-72 344.53,-59.33 406.83,-45.1 453.03,-34.58\"/>\n",
       "<polygon fill=\"black\" stroke=\"black\" points=\"453.95,-37.96 462.93,-32.33 452.4,-31.14 453.95,-37.96\"/>\n",
       "</g>\n",
       "<!-- Household Size -->\n",
       "<g id=\"node4\" class=\"node\">\n",
       "<title>Household Size</title>\n",
       "<ellipse fill=\"none\" stroke=\"black\" cx=\"364.58\" cy=\"-90\" rx=\"65.72\" ry=\"18\"/>\n",
       "<text text-anchor=\"middle\" x=\"364.58\" y=\"-85.8\" font-family=\"Times,serif\" font-size=\"14.00\">Household Size</text>\n",
       "</g>\n",
       "<!-- Household Size&#45;&gt;Utility (Shared Ride 3+) -->\n",
       "<g id=\"edge8\" class=\"edge\">\n",
       "<title>Household Size&#45;&gt;Utility (Shared Ride 3+)</title>\n",
       "<path fill=\"none\" stroke=\"black\" d=\"M397.49,-74.33C420.54,-64.05 451.6,-50.2 476.88,-38.93\"/>\n",
       "<polygon fill=\"black\" stroke=\"black\" points=\"478.55,-42.02 486.26,-34.75 475.7,-35.63 478.55,-42.02\"/>\n",
       "</g>\n",
       "<!-- Total Travel Distance -->\n",
       "<g id=\"node6\" class=\"node\">\n",
       "<title>Total Travel Distance</title>\n",
       "<ellipse fill=\"none\" stroke=\"black\" cx=\"602.58\" cy=\"-162\" rx=\"86.25\" ry=\"18\"/>\n",
       "<text text-anchor=\"middle\" x=\"602.58\" y=\"-157.8\" font-family=\"Times,serif\" font-size=\"14.00\">Total Travel Distance</text>\n",
       "</g>\n",
       "<!-- Total Travel Distance&#45;&gt;Total Travel Time -->\n",
       "<g id=\"edge2\" class=\"edge\">\n",
       "<title>Total Travel Distance&#45;&gt;Total Travel Time</title>\n",
       "<path fill=\"none\" stroke=\"black\" d=\"M583.38,-144.41C572.89,-135.34 559.74,-123.97 548.26,-114.06\"/>\n",
       "<polygon fill=\"black\" stroke=\"black\" points=\"550.49,-111.36 540.64,-107.47 545.92,-116.66 550.49,-111.36\"/>\n",
       "</g>\n",
       "<!-- Total Travel Cost -->\n",
       "<g id=\"node7\" class=\"node\">\n",
       "<title>Total Travel Cost</title>\n",
       "<ellipse fill=\"none\" stroke=\"black\" cx=\"684.58\" cy=\"-90\" rx=\"71.31\" ry=\"18\"/>\n",
       "<text text-anchor=\"middle\" x=\"684.58\" y=\"-85.8\" font-family=\"Times,serif\" font-size=\"14.00\">Total Travel Cost</text>\n",
       "</g>\n",
       "<!-- Total Travel Distance&#45;&gt;Total Travel Cost -->\n",
       "<g id=\"edge3\" class=\"edge\">\n",
       "<title>Total Travel Distance&#45;&gt;Total Travel Cost</title>\n",
       "<path fill=\"none\" stroke=\"black\" d=\"M622.01,-144.41C632.63,-135.34 645.95,-123.97 657.57,-114.06\"/>\n",
       "<polygon fill=\"black\" stroke=\"black\" points=\"659.95,-116.62 665.29,-107.47 655.41,-111.3 659.95,-116.62\"/>\n",
       "</g>\n",
       "<!-- Total Travel Cost&#45;&gt;Utility (Shared Ride 3+) -->\n",
       "<g id=\"edge4\" class=\"edge\">\n",
       "<title>Total Travel Cost&#45;&gt;Utility (Shared Ride 3+)</title>\n",
       "<path fill=\"none\" stroke=\"black\" d=\"M650.01,-74.15C625.96,-63.83 593.63,-49.94 567.43,-38.69\"/>\n",
       "<polygon fill=\"black\" stroke=\"black\" points=\"568.65,-35.4 558.08,-34.67 565.89,-41.84 568.65,-35.4\"/>\n",
       "</g>\n",
       "<!-- Number of Autos -->\n",
       "<g id=\"node8\" class=\"node\">\n",
       "<title>Number of Autos</title>\n",
       "<ellipse fill=\"none\" stroke=\"black\" cx=\"845.58\" cy=\"-90\" rx=\"71.54\" ry=\"18\"/>\n",
       "<text text-anchor=\"middle\" x=\"845.58\" y=\"-85.8\" font-family=\"Times,serif\" font-size=\"14.00\">Number of Autos</text>\n",
       "</g>\n",
       "<!-- Number of Autos&#45;&gt;Utility (Shared Ride 3+) -->\n",
       "<g id=\"edge6\" class=\"edge\">\n",
       "<title>Number of Autos&#45;&gt;Utility (Shared Ride 3+)</title>\n",
       "<path fill=\"none\" stroke=\"black\" d=\"M793.16,-77.68C738.54,-65.87 652.61,-47.31 592.06,-34.23\"/>\n",
       "<polygon fill=\"black\" stroke=\"black\" points=\"592.71,-30.79 582.2,-32.1 591.23,-37.63 592.71,-30.79\"/>\n",
       "</g>\n",
       "<!-- Number of Licensed Drivers -->\n",
       "<g id=\"node9\" class=\"node\">\n",
       "<title>Number of Licensed Drivers</title>\n",
       "<ellipse fill=\"none\" stroke=\"black\" cx=\"1046.58\" cy=\"-90\" rx=\"111.55\" ry=\"18\"/>\n",
       "<text text-anchor=\"middle\" x=\"1046.58\" y=\"-85.8\" font-family=\"Times,serif\" font-size=\"14.00\">Number of Licensed Drivers</text>\n",
       "</g>\n",
       "<!-- Number of Licensed Drivers&#45;&gt;Utility (Shared Ride 3+) -->\n",
       "<g id=\"edge7\" class=\"edge\">\n",
       "<title>Number of Licensed Drivers&#45;&gt;Utility (Shared Ride 3+)</title>\n",
       "<path fill=\"none\" stroke=\"black\" d=\"M966.23,-77.5C952.99,-75.64 939.4,-73.75 926.58,-72 817.14,-57.09 690.96,-40.7 608.91,-30.16\"/>\n",
       "<polygon fill=\"black\" stroke=\"black\" points=\"609.24,-26.67 598.88,-28.87 608.35,-33.61 609.24,-26.67\"/>\n",
       "</g>\n",
       "</g>\n",
       "</svg>\n"
      ],
      "text/plain": [
       "<graphviz.dot.Digraph at 0x1c1cedff90>"
      ]
     },
     "execution_count": 48,
     "metadata": {},
     "output_type": "execute_result"
    }
   ],
   "source": [
    "V_Shared_3p.draw()"
   ]
  },
  {
   "cell_type": "code",
   "execution_count": 49,
   "metadata": {},
   "outputs": [],
   "source": [
    "sim_bike_data_wide['total_travel_time_shared_3p'] = Shared_3p_Reg['total_travel_time_on_total_travel_distance'].params[0] +\\\n",
    "                                               Shared_3p_Reg['total_travel_time_on_total_travel_distance'].params[1] *\\\n",
    "                                                  sim_bike_data_wide['total_travel_distance_shared_3p'] +\\\n",
    "                                                  np.random.normal(loc=0,\n",
    "                                                                   scale = Shared_3p_Reg['total_travel_time_on_total_travel_distance'].resid.std(),\n",
    "                                                                   size = sim_size)\n",
    "sim_bike_data_wide['total_travel_cost_shared_3p'] = Shared_3p_Reg['total_travel_cost_on_total_travel_distance'].params[0] +\\\n",
    "                                                  Shared_3p_Reg['total_travel_cost_on_total_travel_distance'].params[1] *\\\n",
    "                                                  sim_bike_data_wide['total_travel_distance_shared_3p'] +\\\n",
    "                                                  np.random.normal(loc=0,\n",
    "                                                                   scale = Shared_3p_Reg['total_travel_cost_on_total_travel_distance'].resid.std(),\n",
    "                                                                   size = sim_size)"
   ]
  },
  {
   "cell_type": "code",
   "execution_count": 50,
   "metadata": {},
   "outputs": [],
   "source": [
    "# ## Loading data into StructuralCausalModel\n",
    "# Shared_3p_Model = StructuralCausalModel({\n",
    "#     \"total_travel_distance\": lambda   n_samples: bike_data_no_parent['total_travel_distance_shared_3p'],\n",
    "#     \"total_travel_time\": lambda total_travel_distance, n_samples: Shared_3p_Reg['total_travel_time_on_total_travel_distance'].params[0] + \n",
    "#                                                                   Shared_3p_Reg['total_travel_time_on_total_travel_distance'].params[1] * \n",
    "#                                                                   bike_data_no_parent['total_travel_distance_drive_alone'] + \n",
    "#                                                                   np.random.normal(loc=0,\n",
    "#                                                                                    scale = Shared_3p_Reg['total_travel_time_on_total_travel_distance'].resid.std(),\n",
    "#                                                                                    size = n_samples),\n",
    "#     \"total_travel_cost\": lambda total_travel_distance, n_samples: Shared_3p_Reg['total_travel_cost_on_total_travel_distance'].params[0] + \n",
    "#                                                                   Shared_3p_Reg['total_travel_cost_on_total_travel_distance'].params[1] * \n",
    "#                                                                   bike_data_no_parent['total_travel_distance_drive_alone'] + \n",
    "#                                                                   np.random.normal(loc=0,\n",
    "#                                                                                    scale = Shared_3p_Reg['total_travel_cost_on_total_travel_distance'].resid.std(),\n",
    "#                                                                                    size = n_samples),\n",
    "#     \"household_size\": lambda n_samples: bike_data_no_parent['household_size'],\n",
    "#     \"num_kids\": lambda n_samples: bike_data_no_parent['num_kids'],\n",
    "#     \"num_licensed_drivers\": lambda n_samples: bike_data_no_parent['num_licensed_drivers'],\n",
    "#     \"num_cars\": lambda n_samples: bike_data_no_parent['num_cars'],\n",
    "#     \"cross_bay\": lambda n_samples: bike_data_no_parent['cross_bay'],\n",
    "#     \"utility_shared_3+\": lambda n_samples: np.zeros(shape=n_samples)\n",
    "# })"
   ]
  },
  {
   "cell_type": "markdown",
   "metadata": {},
   "source": [
    "### 3.5.4. Walk-Transit-Walk"
   ]
  },
  {
   "cell_type": "code",
   "execution_count": 51,
   "metadata": {},
   "outputs": [
    {
     "data": {
      "image/svg+xml": [
       "<?xml version=\"1.0\" encoding=\"UTF-8\" standalone=\"no\"?>\n",
       "<!DOCTYPE svg PUBLIC \"-//W3C//DTD SVG 1.1//EN\"\n",
       " \"http://www.w3.org/Graphics/SVG/1.1/DTD/svg11.dtd\">\n",
       "<!-- Generated by graphviz version 2.42.3 (20191010.1750)\n",
       " -->\n",
       "<!-- Title: %3 Pages: 1 -->\n",
       "<svg width=\"346pt\" height=\"188pt\"\n",
       " viewBox=\"0.00 0.00 345.52 188.00\" xmlns=\"http://www.w3.org/2000/svg\" xmlns:xlink=\"http://www.w3.org/1999/xlink\">\n",
       "<g id=\"graph0\" class=\"graph\" transform=\"scale(1 1) rotate(0) translate(4 184)\">\n",
       "<title>%3</title>\n",
       "<polygon fill=\"white\" stroke=\"transparent\" points=\"-4,4 -4,-184 341.52,-184 341.52,4 -4,4\"/>\n",
       "<!-- Total Travel Distance -->\n",
       "<g id=\"node1\" class=\"node\">\n",
       "<title>Total Travel Distance</title>\n",
       "<ellipse fill=\"none\" stroke=\"black\" cx=\"86.13\" cy=\"-162\" rx=\"86.25\" ry=\"18\"/>\n",
       "<text text-anchor=\"middle\" x=\"86.13\" y=\"-157.8\" font-family=\"Times,serif\" font-size=\"14.00\">Total Travel Distance</text>\n",
       "</g>\n",
       "<!-- Total Travel Time -->\n",
       "<g id=\"node2\" class=\"node\">\n",
       "<title>Total Travel Time</title>\n",
       "<ellipse fill=\"none\" stroke=\"black\" cx=\"264.13\" cy=\"-162\" rx=\"73.28\" ry=\"18\"/>\n",
       "<text text-anchor=\"middle\" x=\"264.13\" y=\"-157.8\" font-family=\"Times,serif\" font-size=\"14.00\">Total Travel Time</text>\n",
       "</g>\n",
       "<!-- Total Travel Cost -->\n",
       "<g id=\"node3\" class=\"node\">\n",
       "<title>Total Travel Cost</title>\n",
       "<ellipse fill=\"none\" stroke=\"black\" cx=\"214.13\" cy=\"-90\" rx=\"71.31\" ry=\"18\"/>\n",
       "<text text-anchor=\"middle\" x=\"214.13\" y=\"-85.8\" font-family=\"Times,serif\" font-size=\"14.00\">Total Travel Cost</text>\n",
       "</g>\n",
       "<!-- Total Travel Time&#45;&gt;Total Travel Cost -->\n",
       "<g id=\"edge1\" class=\"edge\">\n",
       "<title>Total Travel Time&#45;&gt;Total Travel Cost</title>\n",
       "<path fill=\"none\" stroke=\"black\" d=\"M252.02,-144.05C246,-135.63 238.61,-125.28 231.96,-115.97\"/>\n",
       "<polygon fill=\"black\" stroke=\"black\" points=\"234.78,-113.89 226.12,-107.79 229.08,-117.96 234.78,-113.89\"/>\n",
       "</g>\n",
       "<!-- Utility (WTW) -->\n",
       "<g id=\"node4\" class=\"node\">\n",
       "<title>Utility (WTW)</title>\n",
       "<ellipse fill=\"none\" stroke=\"black\" cx=\"263.13\" cy=\"-18\" rx=\"63.29\" ry=\"18\"/>\n",
       "<text text-anchor=\"middle\" x=\"263.13\" y=\"-13.8\" font-family=\"Times,serif\" font-size=\"14.00\">Utility (WTW)</text>\n",
       "</g>\n",
       "<!-- Total Travel Time&#45;&gt;Utility (WTW) -->\n",
       "<g id=\"edge2\" class=\"edge\">\n",
       "<title>Total Travel Time&#45;&gt;Utility (WTW)</title>\n",
       "<path fill=\"none\" stroke=\"black\" d=\"M276.85,-143.85C283.41,-133.92 290.73,-120.88 294.13,-108 298.2,-92.53 298.31,-87.44 294.13,-72 291.55,-62.48 286.78,-52.92 281.75,-44.59\"/>\n",
       "<polygon fill=\"black\" stroke=\"black\" points=\"284.63,-42.6 276.27,-36.09 278.75,-46.39 284.63,-42.6\"/>\n",
       "</g>\n",
       "<!-- Total Travel Cost&#45;&gt;Utility (WTW) -->\n",
       "<g id=\"edge3\" class=\"edge\">\n",
       "<title>Total Travel Cost&#45;&gt;Utility (WTW)</title>\n",
       "<path fill=\"none\" stroke=\"black\" d=\"M225.99,-72.05C231.83,-63.71 238.98,-53.49 245.45,-44.25\"/>\n",
       "<polygon fill=\"black\" stroke=\"black\" points=\"248.51,-45.99 251.37,-35.79 242.77,-41.97 248.51,-45.99\"/>\n",
       "</g>\n",
       "</g>\n",
       "</svg>\n"
      ],
      "text/plain": [
       "<graphviz.dot.Digraph at 0x1c1d572d10>"
      ]
     },
     "execution_count": 51,
     "metadata": {},
     "output_type": "execute_result"
    }
   ],
   "source": [
    "V_WTW.draw()"
   ]
  },
  {
   "cell_type": "code",
   "execution_count": 52,
   "metadata": {},
   "outputs": [],
   "source": [
    "sim_bike_data_wide['total_travel_cost_wtw'] = WTW_Reg['total_travel_cost_on_total_travel_time'].params[0] +\\\n",
    "                                                  WTW_Reg['total_travel_cost_on_total_travel_time'].params[1] *\\\n",
    "                                                  sim_bike_data_wide['total_travel_time_wtw'] +\\\n",
    "                                                  np.random.normal(loc=0,\n",
    "                                                                   scale = WTW_Reg['total_travel_cost_on_total_travel_time'].resid.std(),\n",
    "                                                                   size = sim_size)"
   ]
  },
  {
   "cell_type": "markdown",
   "metadata": {},
   "source": [
    "### 3.5.5. Drive-Transit-Walk"
   ]
  },
  {
   "cell_type": "code",
   "execution_count": 53,
   "metadata": {},
   "outputs": [
    {
     "data": {
      "image/svg+xml": [
       "<?xml version=\"1.0\" encoding=\"UTF-8\" standalone=\"no\"?>\n",
       "<!DOCTYPE svg PUBLIC \"-//W3C//DTD SVG 1.1//EN\"\n",
       " \"http://www.w3.org/Graphics/SVG/1.1/DTD/svg11.dtd\">\n",
       "<!-- Generated by graphviz version 2.42.3 (20191010.1750)\n",
       " -->\n",
       "<!-- Title: %3 Pages: 1 -->\n",
       "<svg width=\"202pt\" height=\"188pt\"\n",
       " viewBox=\"0.00 0.00 201.80 188.00\" xmlns=\"http://www.w3.org/2000/svg\" xmlns:xlink=\"http://www.w3.org/1999/xlink\">\n",
       "<g id=\"graph0\" class=\"graph\" transform=\"scale(1 1) rotate(0) translate(4 184)\">\n",
       "<title>%3</title>\n",
       "<polygon fill=\"white\" stroke=\"transparent\" points=\"-4,4 -4,-184 197.8,-184 197.8,4 -4,4\"/>\n",
       "<!-- Total Travel Time -->\n",
       "<g id=\"node1\" class=\"node\">\n",
       "<title>Total Travel Time</title>\n",
       "<ellipse fill=\"none\" stroke=\"black\" cx=\"120.41\" cy=\"-162\" rx=\"73.28\" ry=\"18\"/>\n",
       "<text text-anchor=\"middle\" x=\"120.41\" y=\"-157.8\" font-family=\"Times,serif\" font-size=\"14.00\">Total Travel Time</text>\n",
       "</g>\n",
       "<!-- Total Travel Cost -->\n",
       "<g id=\"node2\" class=\"node\">\n",
       "<title>Total Travel Cost</title>\n",
       "<ellipse fill=\"none\" stroke=\"black\" cx=\"71.41\" cy=\"-90\" rx=\"71.31\" ry=\"18\"/>\n",
       "<text text-anchor=\"middle\" x=\"71.41\" y=\"-85.8\" font-family=\"Times,serif\" font-size=\"14.00\">Total Travel Cost</text>\n",
       "</g>\n",
       "<!-- Total Travel Time&#45;&gt;Total Travel Cost -->\n",
       "<g id=\"edge1\" class=\"edge\">\n",
       "<title>Total Travel Time&#45;&gt;Total Travel Cost</title>\n",
       "<path fill=\"none\" stroke=\"black\" d=\"M108.55,-144.05C102.71,-135.71 95.55,-125.49 89.08,-116.25\"/>\n",
       "<polygon fill=\"black\" stroke=\"black\" points=\"91.76,-113.97 83.16,-107.79 86.03,-117.99 91.76,-113.97\"/>\n",
       "</g>\n",
       "<!-- Utility (DTW) -->\n",
       "<g id=\"node3\" class=\"node\">\n",
       "<title>Utility (DTW)</title>\n",
       "<ellipse fill=\"none\" stroke=\"black\" cx=\"120.41\" cy=\"-18\" rx=\"61.37\" ry=\"18\"/>\n",
       "<text text-anchor=\"middle\" x=\"120.41\" y=\"-13.8\" font-family=\"Times,serif\" font-size=\"14.00\">Utility (DTW)</text>\n",
       "</g>\n",
       "<!-- Total Travel Time&#45;&gt;Utility (DTW) -->\n",
       "<g id=\"edge2\" class=\"edge\">\n",
       "<title>Total Travel Time&#45;&gt;Utility (DTW)</title>\n",
       "<path fill=\"none\" stroke=\"black\" d=\"M133.55,-143.91C140.33,-134.01 147.89,-120.96 151.41,-108 155.59,-92.56 155.59,-87.44 151.41,-72 148.79,-62.33 143.91,-52.61 138.79,-44.19\"/>\n",
       "<polygon fill=\"black\" stroke=\"black\" points=\"141.61,-42.11 133.23,-35.62 135.74,-45.92 141.61,-42.11\"/>\n",
       "</g>\n",
       "<!-- Total Travel Cost&#45;&gt;Utility (DTW) -->\n",
       "<g id=\"edge3\" class=\"edge\">\n",
       "<title>Total Travel Cost&#45;&gt;Utility (DTW)</title>\n",
       "<path fill=\"none\" stroke=\"black\" d=\"M83.27,-72.05C89.11,-63.71 96.26,-53.49 102.73,-44.25\"/>\n",
       "<polygon fill=\"black\" stroke=\"black\" points=\"105.79,-45.99 108.65,-35.79 100.05,-41.97 105.79,-45.99\"/>\n",
       "</g>\n",
       "</g>\n",
       "</svg>\n"
      ],
      "text/plain": [
       "<graphviz.dot.Digraph at 0x1c1d5787d0>"
      ]
     },
     "execution_count": 53,
     "metadata": {},
     "output_type": "execute_result"
    }
   ],
   "source": [
    "V_DTW.draw()"
   ]
  },
  {
   "cell_type": "code",
   "execution_count": 54,
   "metadata": {},
   "outputs": [],
   "source": [
    "sim_bike_data_wide['total_travel_cost_dtw'] = DTW_Reg['total_travel_cost_on_total_travel_time'].params[0] +\\\n",
    "                                                  DTW_Reg['total_travel_cost_on_total_travel_time'].params[1] *\\\n",
    "                                                  sim_bike_data_wide['total_travel_time_dtw'] +\\\n",
    "                                                  np.random.normal(loc=0,\n",
    "                                                                   scale = DTW_Reg['total_travel_cost_on_total_travel_time'].resid.std(),\n",
    "                                                                   size = sim_size)"
   ]
  },
  {
   "cell_type": "markdown",
   "metadata": {},
   "source": [
    "### 3.5.6. Walk-Transit-Drive"
   ]
  },
  {
   "cell_type": "code",
   "execution_count": 55,
   "metadata": {},
   "outputs": [
    {
     "data": {
      "image/svg+xml": [
       "<?xml version=\"1.0\" encoding=\"UTF-8\" standalone=\"no\"?>\n",
       "<!DOCTYPE svg PUBLIC \"-//W3C//DTD SVG 1.1//EN\"\n",
       " \"http://www.w3.org/Graphics/SVG/1.1/DTD/svg11.dtd\">\n",
       "<!-- Generated by graphviz version 2.42.3 (20191010.1750)\n",
       " -->\n",
       "<!-- Title: %3 Pages: 1 -->\n",
       "<svg width=\"203pt\" height=\"188pt\"\n",
       " viewBox=\"0.00 0.00 202.80 188.00\" xmlns=\"http://www.w3.org/2000/svg\" xmlns:xlink=\"http://www.w3.org/1999/xlink\">\n",
       "<g id=\"graph0\" class=\"graph\" transform=\"scale(1 1) rotate(0) translate(4 184)\">\n",
       "<title>%3</title>\n",
       "<polygon fill=\"white\" stroke=\"transparent\" points=\"-4,4 -4,-184 198.8,-184 198.8,4 -4,4\"/>\n",
       "<!-- Utility (WTD) -->\n",
       "<g id=\"node1\" class=\"node\">\n",
       "<title>Utility (WTD)</title>\n",
       "<ellipse fill=\"none\" stroke=\"black\" cx=\"73.39\" cy=\"-18\" rx=\"61.37\" ry=\"18\"/>\n",
       "<text text-anchor=\"middle\" x=\"73.39\" y=\"-13.8\" font-family=\"Times,serif\" font-size=\"14.00\">Utility (WTD)</text>\n",
       "</g>\n",
       "<!-- Total Travel Time -->\n",
       "<g id=\"node2\" class=\"node\">\n",
       "<title>Total Travel Time</title>\n",
       "<ellipse fill=\"none\" stroke=\"black\" cx=\"73.39\" cy=\"-162\" rx=\"73.28\" ry=\"18\"/>\n",
       "<text text-anchor=\"middle\" x=\"73.39\" y=\"-157.8\" font-family=\"Times,serif\" font-size=\"14.00\">Total Travel Time</text>\n",
       "</g>\n",
       "<!-- Total Travel Time&#45;&gt;Utility (WTD) -->\n",
       "<g id=\"edge2\" class=\"edge\">\n",
       "<title>Total Travel Time&#45;&gt;Utility (WTD)</title>\n",
       "<path fill=\"none\" stroke=\"black\" d=\"M60.66,-143.85C54.1,-133.92 46.78,-120.88 43.39,-108 39.31,-92.53 39.31,-87.47 43.39,-72 45.92,-62.39 50.64,-52.69 55.59,-44.26\"/>\n",
       "<polygon fill=\"black\" stroke=\"black\" points=\"58.63,-46.02 60.97,-35.68 52.7,-42.3 58.63,-46.02\"/>\n",
       "</g>\n",
       "<!-- Total Travel Cost -->\n",
       "<g id=\"node3\" class=\"node\">\n",
       "<title>Total Travel Cost</title>\n",
       "<ellipse fill=\"none\" stroke=\"black\" cx=\"123.39\" cy=\"-90\" rx=\"71.31\" ry=\"18\"/>\n",
       "<text text-anchor=\"middle\" x=\"123.39\" y=\"-85.8\" font-family=\"Times,serif\" font-size=\"14.00\">Total Travel Cost</text>\n",
       "</g>\n",
       "<!-- Total Travel Time&#45;&gt;Total Travel Cost -->\n",
       "<g id=\"edge1\" class=\"edge\">\n",
       "<title>Total Travel Time&#45;&gt;Total Travel Cost</title>\n",
       "<path fill=\"none\" stroke=\"black\" d=\"M85.49,-144.05C91.51,-135.63 98.9,-125.28 105.56,-115.97\"/>\n",
       "<polygon fill=\"black\" stroke=\"black\" points=\"108.43,-117.96 111.4,-107.79 102.74,-113.89 108.43,-117.96\"/>\n",
       "</g>\n",
       "<!-- Total Travel Cost&#45;&gt;Utility (WTD) -->\n",
       "<g id=\"edge3\" class=\"edge\">\n",
       "<title>Total Travel Cost&#45;&gt;Utility (WTD)</title>\n",
       "<path fill=\"none\" stroke=\"black\" d=\"M111.28,-72.05C105.27,-63.63 97.87,-53.28 91.22,-43.97\"/>\n",
       "<polygon fill=\"black\" stroke=\"black\" points=\"94.04,-41.89 85.38,-35.79 88.35,-45.96 94.04,-41.89\"/>\n",
       "</g>\n",
       "</g>\n",
       "</svg>\n"
      ],
      "text/plain": [
       "<graphviz.dot.Digraph at 0x1c1d582d10>"
      ]
     },
     "execution_count": 55,
     "metadata": {},
     "output_type": "execute_result"
    }
   ],
   "source": [
    "V_WTD.draw()"
   ]
  },
  {
   "cell_type": "code",
   "execution_count": 56,
   "metadata": {},
   "outputs": [],
   "source": [
    "sim_bike_data_wide['total_travel_cost_wtd'] = WTD_Reg['total_travel_cost_on_total_travel_time'].params[0] +\\\n",
    "                                                  WTD_Reg['total_travel_cost_on_total_travel_time'].params[1] *\\\n",
    "                                                  sim_bike_data_wide['total_travel_time_wtd'] +\\\n",
    "                                                  np.random.normal(loc=0,\n",
    "                                                                   scale = WTD_Reg['total_travel_cost_on_total_travel_time'].resid.std(),\n",
    "                                                                   size = sim_size)"
   ]
  },
  {
   "cell_type": "markdown",
   "metadata": {},
   "source": [
    "### 3.5.7. Walk"
   ]
  },
  {
   "cell_type": "code",
   "execution_count": 57,
   "metadata": {},
   "outputs": [
    {
     "data": {
      "image/svg+xml": [
       "<?xml version=\"1.0\" encoding=\"UTF-8\" standalone=\"no\"?>\n",
       "<!DOCTYPE svg PUBLIC \"-//W3C//DTD SVG 1.1//EN\"\n",
       " \"http://www.w3.org/Graphics/SVG/1.1/DTD/svg11.dtd\">\n",
       "<!-- Generated by graphviz version 2.42.3 (20191010.1750)\n",
       " -->\n",
       "<!-- Title: %3 Pages: 1 -->\n",
       "<svg width=\"180pt\" height=\"116pt\"\n",
       " viewBox=\"0.00 0.00 180.25 116.00\" xmlns=\"http://www.w3.org/2000/svg\" xmlns:xlink=\"http://www.w3.org/1999/xlink\">\n",
       "<g id=\"graph0\" class=\"graph\" transform=\"scale(1 1) rotate(0) translate(4 112)\">\n",
       "<title>%3</title>\n",
       "<polygon fill=\"white\" stroke=\"transparent\" points=\"-4,4 -4,-112 176.25,-112 176.25,4 -4,4\"/>\n",
       "<!-- Total Travel Distance -->\n",
       "<g id=\"node1\" class=\"node\">\n",
       "<title>Total Travel Distance</title>\n",
       "<ellipse fill=\"none\" stroke=\"black\" cx=\"86.13\" cy=\"-90\" rx=\"86.25\" ry=\"18\"/>\n",
       "<text text-anchor=\"middle\" x=\"86.13\" y=\"-85.8\" font-family=\"Times,serif\" font-size=\"14.00\">Total Travel Distance</text>\n",
       "</g>\n",
       "<!-- Utility (Walk) -->\n",
       "<g id=\"node2\" class=\"node\">\n",
       "<title>Utility (Walk)</title>\n",
       "<ellipse fill=\"none\" stroke=\"black\" cx=\"86.13\" cy=\"-18\" rx=\"60\" ry=\"18\"/>\n",
       "<text text-anchor=\"middle\" x=\"86.13\" y=\"-13.8\" font-family=\"Times,serif\" font-size=\"14.00\">Utility (Walk)</text>\n",
       "</g>\n",
       "<!-- Total Travel Distance&#45;&gt;Utility (Walk) -->\n",
       "<g id=\"edge1\" class=\"edge\">\n",
       "<title>Total Travel Distance&#45;&gt;Utility (Walk)</title>\n",
       "<path fill=\"none\" stroke=\"black\" d=\"M86.13,-71.7C86.13,-63.98 86.13,-54.71 86.13,-46.11\"/>\n",
       "<polygon fill=\"black\" stroke=\"black\" points=\"89.63,-46.1 86.13,-36.1 82.63,-46.1 89.63,-46.1\"/>\n",
       "</g>\n",
       "</g>\n",
       "</svg>\n"
      ],
      "text/plain": [
       "<graphviz.dot.Digraph at 0x1c1d582950>"
      ]
     },
     "execution_count": 57,
     "metadata": {},
     "output_type": "execute_result"
    }
   ],
   "source": [
    "V_Walk.draw()"
   ]
  },
  {
   "cell_type": "markdown",
   "metadata": {},
   "source": [
    "No need to simulate any other variables since Walk Total Travel Distance was already simulated"
   ]
  },
  {
   "cell_type": "markdown",
   "metadata": {},
   "source": [
    "### 3.5.8. Bike"
   ]
  },
  {
   "cell_type": "code",
   "execution_count": 58,
   "metadata": {},
   "outputs": [
    {
     "data": {
      "image/svg+xml": [
       "<?xml version=\"1.0\" encoding=\"UTF-8\" standalone=\"no\"?>\n",
       "<!DOCTYPE svg PUBLIC \"-//W3C//DTD SVG 1.1//EN\"\n",
       " \"http://www.w3.org/Graphics/SVG/1.1/DTD/svg11.dtd\">\n",
       "<!-- Generated by graphviz version 2.42.3 (20191010.1750)\n",
       " -->\n",
       "<!-- Title: %3 Pages: 1 -->\n",
       "<svg width=\"180pt\" height=\"116pt\"\n",
       " viewBox=\"0.00 0.00 180.25 116.00\" xmlns=\"http://www.w3.org/2000/svg\" xmlns:xlink=\"http://www.w3.org/1999/xlink\">\n",
       "<g id=\"graph0\" class=\"graph\" transform=\"scale(1 1) rotate(0) translate(4 112)\">\n",
       "<title>%3</title>\n",
       "<polygon fill=\"white\" stroke=\"transparent\" points=\"-4,4 -4,-112 176.25,-112 176.25,4 -4,4\"/>\n",
       "<!-- Total Travel Distance -->\n",
       "<g id=\"node1\" class=\"node\">\n",
       "<title>Total Travel Distance</title>\n",
       "<ellipse fill=\"none\" stroke=\"black\" cx=\"86.13\" cy=\"-90\" rx=\"86.25\" ry=\"18\"/>\n",
       "<text text-anchor=\"middle\" x=\"86.13\" y=\"-85.8\" font-family=\"Times,serif\" font-size=\"14.00\">Total Travel Distance</text>\n",
       "</g>\n",
       "<!-- Utility (Bike) -->\n",
       "<g id=\"node2\" class=\"node\">\n",
       "<title>Utility (Bike)</title>\n",
       "<ellipse fill=\"none\" stroke=\"black\" cx=\"86.13\" cy=\"-18\" rx=\"58.01\" ry=\"18\"/>\n",
       "<text text-anchor=\"middle\" x=\"86.13\" y=\"-13.8\" font-family=\"Times,serif\" font-size=\"14.00\">Utility (Bike)</text>\n",
       "</g>\n",
       "<!-- Total Travel Distance&#45;&gt;Utility (Bike) -->\n",
       "<g id=\"edge1\" class=\"edge\">\n",
       "<title>Total Travel Distance&#45;&gt;Utility (Bike)</title>\n",
       "<path fill=\"none\" stroke=\"black\" d=\"M86.13,-71.7C86.13,-63.98 86.13,-54.71 86.13,-46.11\"/>\n",
       "<polygon fill=\"black\" stroke=\"black\" points=\"89.63,-46.1 86.13,-36.1 82.63,-46.1 89.63,-46.1\"/>\n",
       "</g>\n",
       "</g>\n",
       "</svg>\n"
      ],
      "text/plain": [
       "<graphviz.dot.Digraph at 0x105af78d0>"
      ]
     },
     "execution_count": 58,
     "metadata": {},
     "output_type": "execute_result"
    }
   ],
   "source": [
    "V_Bike.draw()"
   ]
  },
  {
   "cell_type": "markdown",
   "metadata": {},
   "source": [
    "No need to simulate any other variables since Bike Total Travel Distance was already simulated"
   ]
  },
  {
   "cell_type": "markdown",
   "metadata": {},
   "source": [
    "## 3.6. Simulate Availability of Alternatives "
   ]
  },
  {
   "cell_type": "code",
   "execution_count": 59,
   "metadata": {},
   "outputs": [],
   "source": [
    "# Simulate availability, add fake choice column\n",
    "# and return final simulated data with availability\n",
    "# and choices\n",
    "wide_sim_data_availability = SimulateAvailability(data_long=bike_data_long,\n",
    "                                     sim_data=sim_bike_data_wide,\n",
    "                                     obs_id_col=observation_id_col,\n",
    "                                     alt_name_dict=alternative_name_dict)"
   ]
  },
  {
   "cell_type": "code",
   "execution_count": 60,
   "metadata": {},
   "outputs": [
    {
     "data": {
      "text/plain": [
       "{'household_size': {'distribution': 'categorical',\n",
       "  'parameters': [array([0., 1., 2., 3., 4., 5., 6., 7., 8.]),\n",
       "   array([0.        , 0.08341658, 0.2465035 , 0.20704296, 0.29220779,\n",
       "          0.12012987, 0.02997003, 0.00949051, 0.01123876])]},\n",
       " 'num_kids': {'distribution': 'categorical',\n",
       "  'parameters': [array([0, 1, 2, 3, 4, 5, 6]),\n",
       "   array([0.46603397, 0.17682318, 0.25624376, 0.07642358, 0.01598402,\n",
       "          0.00699301, 0.0014985 ])]},\n",
       " 'num_cars': {'distribution': 'categorical',\n",
       "  'parameters': [array([0., 1., 2., 3., 4., 5., 6., 7., 8.]),\n",
       "   array([0.0516983 , 0.23976024, 0.48676324, 0.17057942, 0.03996004,\n",
       "          0.00674326, 0.0024975 , 0.000999  , 0.000999  ])]},\n",
       " 'num_licensed_drivers': {'distribution': 'categorical',\n",
       "  'parameters': [array([0., 1., 2., 3., 4., 5., 6.]),\n",
       "   array([1.12387612e-02, 1.45604396e-01, 6.15134865e-01, 1.73576424e-01,\n",
       "          4.47052947e-02, 9.24075924e-03, 4.99500500e-04])]},\n",
       " 'total_travel_distance_drive_alone': {'distribution': 'gamma',\n",
       "  'parameters': (0.7944517942940816, 0.39999999999999997, 19.10566310726253)},\n",
       " 'total_travel_distance_shared_2': {'distribution': 'gamma',\n",
       "  'parameters': (0.8148950757692075, 0.29999999999999993, 18.40250347572789)},\n",
       " 'total_travel_distance_shared_3p': {'distribution': 'gamma',\n",
       "  'parameters': (0.8135746709638757, 0.29999999999999993, 18.437320030510342)},\n",
       " 'total_travel_time_wtw': {'distribution': 'alpha',\n",
       "  'parameters': (3.9577465114167927, -98.3112671568787, 749.7787691208105)},\n",
       " 'total_travel_time_dtw': {'distribution': 'gamma',\n",
       "  'parameters': (2.6059274863539046, 8.099701135792749, 30.976197249989433)},\n",
       " 'total_travel_time_wtd': {'distribution': 'gamma',\n",
       "  'parameters': (2.547895345348514, 7.666262097694567, 30.99344922438852)},\n",
       " 'total_travel_distance_walk': {'distribution': 'alpha',\n",
       "  'parameters': (1.985330145127784e-06,\n",
       "   -1.6062753376988779,\n",
       "   5.430955769911186)},\n",
       " 'total_travel_distance_bike': {'distribution': 'alpha',\n",
       "  'parameters': (0.0023562351887384068,\n",
       "   -1.4282411165328406,\n",
       "   4.999096383807641)},\n",
       " 'cross_bay': {'distribution': 'categorical',\n",
       "  'parameters': [array([0, 1]), array([0.94005994, 0.05994006])]}}"
      ]
     },
     "execution_count": 60,
     "metadata": {},
     "output_type": "execute_result"
    }
   ],
   "source": [
    "bike_data_params"
   ]
  },
  {
   "cell_type": "code",
   "execution_count": 61,
   "metadata": {},
   "outputs": [
    {
     "data": {
      "text/plain": [
       "Index(['household_size', 'num_kids', 'num_cars', 'num_licensed_drivers',\n",
       "       'total_travel_distance_drive_alone', 'total_travel_distance_shared_2',\n",
       "       'total_travel_distance_shared_3p', 'total_travel_time_wtw',\n",
       "       'total_travel_time_dtw', 'total_travel_time_wtd',\n",
       "       'total_travel_distance_walk', 'total_travel_distance_bike', 'cross_bay',\n",
       "       'total_travel_time_drive_alone', 'total_travel_cost_drive_alone',\n",
       "       'total_travel_time_shared_2', 'total_travel_cost_shared_2',\n",
       "       'total_travel_time_shared_3p', 'total_travel_cost_shared_3p',\n",
       "       'total_travel_cost_wtw', 'total_travel_cost_dtw',\n",
       "       'total_travel_cost_wtd'],\n",
       "      dtype='object')"
      ]
     },
     "execution_count": 61,
     "metadata": {},
     "output_type": "execute_result"
    }
   ],
   "source": [
    "sim_bike_data_wide.columns"
   ]
  },
  {
   "cell_type": "markdown",
   "metadata": {},
   "source": [
    "## 3.7. Convert Simulated Data from Wide to Long"
   ]
  },
  {
   "cell_type": "code",
   "execution_count": 62,
   "metadata": {},
   "outputs": [],
   "source": [
    "ind_variables = ['num_kids', 'household_size',\n",
    "                 'num_cars', 'num_licensed_drivers', 'cross_bay']\n",
    "\n",
    "\n",
    "\n",
    "# Dictionary of Alternative Specific Variables\n",
    "# TODO: verify whether all variables are needed\n",
    "# for each alternative\n",
    "alt_varying_variables = {u'total_travel_time': dict([(1, 'total_travel_time_drive_alone'),\n",
    "                                                     (2, 'total_travel_time_shared_2'),\n",
    "                                                     (3, 'total_travel_time_shared_3p'),\n",
    "                                                     (4, 'total_travel_time_wtw'),\n",
    "                                                     (5, 'total_travel_time_dtw'),\n",
    "                                                     (6, 'total_travel_time_wtd')]),\n",
    "                         u'total_travel_cost': dict([(1, 'total_travel_cost_drive_alone'),\n",
    "                                                     (2, 'total_travel_cost_shared_2'),\n",
    "                                                     (3, 'total_travel_cost_shared_3p'),\n",
    "                                                     (4, 'total_travel_cost_wtw'),\n",
    "                                                     (5, 'total_travel_cost_dtw'),\n",
    "                                                     (6, 'total_travel_cost_wtd')]),\n",
    "                         u'total_travel_distance': dict([(1, 'total_travel_distance_drive_alone'),\n",
    "                                                         (2, 'total_travel_distance_shared_2'),\n",
    "                                                         (3, 'total_travel_distance_shared_3p'),\n",
    "                                                         (7, 'total_travel_distance_walk'),\n",
    "                                                         (8, 'total_travel_distance_bike')]),\n",
    "                            }\n",
    "\n",
    "\n",
    "# Dictionary of alternative availability variables\n",
    "availability_variables = {1: 'drive_alone_AV',\n",
    "                          2: 'shared_2_AV',\n",
    "                          3: 'shared_3p_AV',\n",
    "                          4: 'wtw_AV',\n",
    "                          5: 'dtw_AV',\n",
    "                          6: 'wtd_AV',\n",
    "                          7: 'walk_AV',\n",
    "                          8: 'bike_AV'}\n",
    "\n",
    "##########\n",
    "# Determine the columns for: alternative ids, the observation ids and the choice\n",
    "##########\n",
    "# The 'custom_alt_id' is the name of a column to be created in the long-format data\n",
    "# It will identify the alternative associated with each row.\n",
    "custom_alt_id = \"mode_id\"\n",
    "\n",
    "# Create a custom id column that ignores the fact that this is a\n",
    "# panel/repeated-observations dataset. Note the +1 ensures the id's start at one.\n",
    "obs_id_column = \"observation_id\"\n",
    "wide_sim_data_availability[obs_id_column] = np.arange(wide_sim_data_availability.shape[0],\n",
    "                                         dtype=int) + 1\n",
    "\n",
    "\n",
    "# Declare choice column\n",
    "choice_column = \"sim_choice\""
   ]
  },
  {
   "cell_type": "code",
   "execution_count": 63,
   "metadata": {},
   "outputs": [],
   "source": [
    "# Convert data from wide to long\n",
    "long_sim_data = pl.convert_wide_to_long(wide_sim_data_availability,\n",
    "                                        ind_variables,\n",
    "                                        alt_varying_variables,\n",
    "                                        availability_variables,\n",
    "                                        obs_id_column,\n",
    "                                        choice_column,\n",
    "                                        new_alt_id_name=custom_alt_id)"
   ]
  },
  {
   "cell_type": "code",
   "execution_count": 64,
   "metadata": {},
   "outputs": [],
   "source": [
    "# Create a cars per licensed drivers column\n",
    "long_sim_data[\"cars_per_licensed_drivers\"] = 0\n",
    "long_sim_data.loc[long_sim_data.num_licensed_drivers > 0,\n",
    "                  \"cars_per_licensed_drivers\"] = long_sim_data.num_cars / long_sim_data.num_licensed_drivers.astype(float)"
   ]
  },
  {
   "cell_type": "code",
   "execution_count": 65,
   "metadata": {},
   "outputs": [],
   "source": [
    "# Add a variable representing cost divided by distance\n",
    "long_sim_data[\"cost_per_distance\"] = 0\n",
    "long_sim_data.loc[long_sim_data.mode_id.isin([1, 2, 3]),\n",
    "                  \"cost_per_distance\"] = (long_sim_data.loc[long_sim_data.mode_id.isin([1, 2, 3]),\n",
    "                                                            \"total_travel_cost\"] /\n",
    "                                          long_sim_data.loc[long_sim_data.mode_id.isin([1, 2, 3]),\n",
    "                                                            \"total_travel_distance\"])"
   ]
  },
  {
   "cell_type": "markdown",
   "metadata": {},
   "source": [
    "## 3.8. Simulate Choices "
   ]
  },
  {
   "cell_type": "code",
   "execution_count": 66,
   "metadata": {},
   "outputs": [
    {
     "name": "stderr",
     "output_type": "stream",
     "text": [
      "/Users/mobouzaghrane/opt/anaconda3/lib/python3.7/site-packages/pylogit/choice_tools.py:703: FutureWarning: arrays to stack must be passed as a \"sequence\" type such as list or tuple. Support for non-sequence iterables such as generators is deprecated as of NumPy 1.16 and will raise an error in the future.\n",
      "  design_matrix = np.hstack((x[:, None] for x in independent_vars))\n"
     ]
    }
   ],
   "source": [
    "# Calculate probabilities for each alternative\n",
    "# based on the estimated model\n",
    "posterior_probs = mnl_model.predict(long_sim_data)"
   ]
  },
  {
   "cell_type": "code",
   "execution_count": 67,
   "metadata": {},
   "outputs": [
    {
     "data": {
      "application/vnd.jupyter.widget-view+json": {
       "model_id": "00412ed82641433da3670e012e680537",
       "version_major": 2,
       "version_minor": 0
      },
      "text/plain": [
       "HBox(children=(IntProgress(value=0, description='Simulating Choices', max=8000, style=ProgressStyle(descriptio…"
      ]
     },
     "metadata": {},
     "output_type": "display_data"
    },
    {
     "name": "stdout",
     "output_type": "stream",
     "text": [
      "\n"
     ]
    }
   ],
   "source": [
    "# Simulate choice data\n",
    "long_sim_data['sim_choice'] = viz.simulate_choice_vector(posterior_probs,\n",
    "                               long_sim_data['observation_id'].values)"
   ]
  },
  {
   "cell_type": "markdown",
   "metadata": {},
   "source": [
    "## 3.9. Estimate Model"
   ]
  },
  {
   "cell_type": "code",
   "execution_count": 68,
   "metadata": {},
   "outputs": [
    {
     "name": "stdout",
     "output_type": "stream",
     "text": [
      "Log-likelihood at zero: -15,170.0747\n",
      "Initial Log-likelihood: -15,170.0747\n"
     ]
    },
    {
     "name": "stderr",
     "output_type": "stream",
     "text": [
      "/Users/mobouzaghrane/opt/anaconda3/lib/python3.7/site-packages/scipy/optimize/_minimize.py:505: RuntimeWarning: Method BFGS does not use Hessian information (hess).\n",
      "  RuntimeWarning)\n"
     ]
    },
    {
     "name": "stdout",
     "output_type": "stream",
     "text": [
      "Estimation Time for Point Estimation: 0.49 seconds.\n",
      "Final log-likelihood: -5,760.1719\n"
     ]
    },
    {
     "data": {
      "text/html": [
       "<table class=\"simpletable\">\n",
       "<caption>Multinomial Logit Model Regression Results</caption>\n",
       "<tr>\n",
       "  <th>Dep. Variable:</th>       <td>sim_choice</td>        <th>  No. Observations:  </th>    <td>8,000</td>   \n",
       "</tr>\n",
       "<tr>\n",
       "  <th>Model:</th>         <td>Multinomial Logit Model</td> <th>  Df Residuals:      </th>    <td>7,981</td>   \n",
       "</tr>\n",
       "<tr>\n",
       "  <th>Method:</th>                  <td>MLE</td>           <th>  Df Model:          </th>     <td>19</td>     \n",
       "</tr>\n",
       "<tr>\n",
       "  <th>Date:</th>             <td>Fri, 03 Apr 2020</td>     <th>  Pseudo R-squ.:     </th>    <td>0.620</td>   \n",
       "</tr>\n",
       "<tr>\n",
       "  <th>Time:</th>                 <td>20:35:09</td>         <th>  Pseudo R-bar-squ.: </th>    <td>0.619</td>   \n",
       "</tr>\n",
       "<tr>\n",
       "  <th>AIC:</th>                 <td>11,558.344</td>        <th>  Log-Likelihood:    </th> <td>-5,760.172</td> \n",
       "</tr>\n",
       "<tr>\n",
       "  <th>BIC:</th>                 <td>11,691.101</td>        <th>  LL-Null:           </th> <td>-15,170.075</td>\n",
       "</tr>\n",
       "</table>\n",
       "<table class=\"simpletable\">\n",
       "<tr>\n",
       "                            <td></td>                              <th>coef</th>     <th>std err</th>      <th>z</th>      <th>P>|z|</th>  <th>[0.025</th>    <th>0.975]</th>  \n",
       "</tr>\n",
       "<tr>\n",
       "  <th>ASC Shared Ride: 2</th>                                   <td>   -0.8647</td> <td>    0.126</td> <td>   -6.850</td> <td> 0.000</td> <td>   -1.112</td> <td>   -0.617</td>\n",
       "</tr>\n",
       "<tr>\n",
       "  <th>ASC Shared Ride: 3+</th>                                  <td>    3.5713</td> <td>    0.201</td> <td>   17.733</td> <td> 0.000</td> <td>    3.177</td> <td>    3.966</td>\n",
       "</tr>\n",
       "<tr>\n",
       "  <th>ASC Walk-Transit-Walk</th>                                <td>   -0.4404</td> <td>    0.136</td> <td>   -3.241</td> <td> 0.001</td> <td>   -0.707</td> <td>   -0.174</td>\n",
       "</tr>\n",
       "<tr>\n",
       "  <th>ASC Drive-Transit-Walk</th>                               <td>   -2.6812</td> <td>    0.145</td> <td>  -18.441</td> <td> 0.000</td> <td>   -2.966</td> <td>   -2.396</td>\n",
       "</tr>\n",
       "<tr>\n",
       "  <th>ASC Walk-Transit-Drive</th>                               <td>   -3.1170</td> <td>    0.155</td> <td>  -20.130</td> <td> 0.000</td> <td>   -3.421</td> <td>   -2.814</td>\n",
       "</tr>\n",
       "<tr>\n",
       "  <th>ASC Walk</th>                                             <td>    1.5241</td> <td>    0.140</td> <td>   10.854</td> <td> 0.000</td> <td>    1.249</td> <td>    1.799</td>\n",
       "</tr>\n",
       "<tr>\n",
       "  <th>ASC Bike</th>                                             <td>   -1.0409</td> <td>    0.113</td> <td>   -9.251</td> <td> 0.000</td> <td>   -1.261</td> <td>   -0.820</td>\n",
       "</tr>\n",
       "<tr>\n",
       "  <th>Travel Time, units:min (All Auto Modes)</th>              <td>   -0.0743</td> <td>    0.002</td> <td>  -33.390</td> <td> 0.000</td> <td>   -0.079</td> <td>   -0.070</td>\n",
       "</tr>\n",
       "<tr>\n",
       "  <th>Travel Time, units:min (All Transit Modes)</th>           <td>   -0.0268</td> <td>    0.001</td> <td>  -18.575</td> <td> 0.000</td> <td>   -0.030</td> <td>   -0.024</td>\n",
       "</tr>\n",
       "<tr>\n",
       "  <th>Travel Cost, units:$ (All Transit Modes)</th>             <td>   -0.1300</td> <td>    0.018</td> <td>   -7.060</td> <td> 0.000</td> <td>   -0.166</td> <td>   -0.094</td>\n",
       "</tr>\n",
       "<tr>\n",
       "  <th>Travel Cost per Distance, units:$/mi (Drive Alone)</th>   <td>   -4.9164</td> <td>    0.185</td> <td>  -26.533</td> <td> 0.000</td> <td>   -5.280</td> <td>   -4.553</td>\n",
       "</tr>\n",
       "<tr>\n",
       "  <th>Travel Cost per Distance, units:$/mi (SharedRide-2)</th>  <td>  -20.4600</td> <td>    0.645</td> <td>  -31.703</td> <td> 0.000</td> <td>  -21.725</td> <td>  -19.195</td>\n",
       "</tr>\n",
       "<tr>\n",
       "  <th>Travel Cost per Distance, units:$/mi (SharedRide-3+)</th> <td>  -89.6812</td> <td>    2.681</td> <td>  -33.452</td> <td> 0.000</td> <td>  -94.936</td> <td>  -84.427</td>\n",
       "</tr>\n",
       "<tr>\n",
       "  <th>Autos per licensed drivers (All Auto Modes)</th>          <td>    1.1497</td> <td>    0.057</td> <td>   20.129</td> <td> 0.000</td> <td>    1.038</td> <td>    1.262</td>\n",
       "</tr>\n",
       "<tr>\n",
       "  <th>Travel Distance, units:mi (Walk)</th>                     <td>   -1.0270</td> <td>    0.036</td> <td>  -28.181</td> <td> 0.000</td> <td>   -1.098</td> <td>   -0.956</td>\n",
       "</tr>\n",
       "<tr>\n",
       "  <th>Travel Distance, units:mi (Bike)</th>                     <td>   -0.3015</td> <td>    0.015</td> <td>  -19.797</td> <td> 0.000</td> <td>   -0.331</td> <td>   -0.272</td>\n",
       "</tr>\n",
       "<tr>\n",
       "  <th>Cross-Bay Tour (Shared Ride 2 & 3+)</th>                  <td>    0.5853</td> <td>    0.152</td> <td>    3.862</td> <td> 0.000</td> <td>    0.288</td> <td>    0.882</td>\n",
       "</tr>\n",
       "<tr>\n",
       "  <th>Household Size (Shared Ride 2 & 3+)</th>                  <td>    0.1126</td> <td>    0.028</td> <td>    4.083</td> <td> 0.000</td> <td>    0.059</td> <td>    0.167</td>\n",
       "</tr>\n",
       "<tr>\n",
       "  <th>Number of Kids in Household (Shared Ride 2 & 3+)</th>     <td>    0.6618</td> <td>    0.034</td> <td>   19.229</td> <td> 0.000</td> <td>    0.594</td> <td>    0.729</td>\n",
       "</tr>\n",
       "</table>"
      ],
      "text/plain": [
       "<class 'statsmodels.iolib.summary.Summary'>\n",
       "\"\"\"\n",
       "                     Multinomial Logit Model Regression Results                    \n",
       "===================================================================================\n",
       "Dep. Variable:                  sim_choice   No. Observations:                8,000\n",
       "Model:             Multinomial Logit Model   Df Residuals:                    7,981\n",
       "Method:                                MLE   Df Model:                           19\n",
       "Date:                     Fri, 03 Apr 2020   Pseudo R-squ.:                   0.620\n",
       "Time:                             20:35:09   Pseudo R-bar-squ.:               0.619\n",
       "AIC:                            11,558.344   Log-Likelihood:             -5,760.172\n",
       "BIC:                            11,691.101   LL-Null:                   -15,170.075\n",
       "========================================================================================================================\n",
       "                                                           coef    std err          z      P>|z|      [0.025      0.975]\n",
       "------------------------------------------------------------------------------------------------------------------------\n",
       "ASC Shared Ride: 2                                      -0.8647      0.126     -6.850      0.000      -1.112      -0.617\n",
       "ASC Shared Ride: 3+                                      3.5713      0.201     17.733      0.000       3.177       3.966\n",
       "ASC Walk-Transit-Walk                                   -0.4404      0.136     -3.241      0.001      -0.707      -0.174\n",
       "ASC Drive-Transit-Walk                                  -2.6812      0.145    -18.441      0.000      -2.966      -2.396\n",
       "ASC Walk-Transit-Drive                                  -3.1170      0.155    -20.130      0.000      -3.421      -2.814\n",
       "ASC Walk                                                 1.5241      0.140     10.854      0.000       1.249       1.799\n",
       "ASC Bike                                                -1.0409      0.113     -9.251      0.000      -1.261      -0.820\n",
       "Travel Time, units:min (All Auto Modes)                 -0.0743      0.002    -33.390      0.000      -0.079      -0.070\n",
       "Travel Time, units:min (All Transit Modes)              -0.0268      0.001    -18.575      0.000      -0.030      -0.024\n",
       "Travel Cost, units:$ (All Transit Modes)                -0.1300      0.018     -7.060      0.000      -0.166      -0.094\n",
       "Travel Cost per Distance, units:$/mi (Drive Alone)      -4.9164      0.185    -26.533      0.000      -5.280      -4.553\n",
       "Travel Cost per Distance, units:$/mi (SharedRide-2)    -20.4600      0.645    -31.703      0.000     -21.725     -19.195\n",
       "Travel Cost per Distance, units:$/mi (SharedRide-3+)   -89.6812      2.681    -33.452      0.000     -94.936     -84.427\n",
       "Autos per licensed drivers (All Auto Modes)              1.1497      0.057     20.129      0.000       1.038       1.262\n",
       "Travel Distance, units:mi (Walk)                        -1.0270      0.036    -28.181      0.000      -1.098      -0.956\n",
       "Travel Distance, units:mi (Bike)                        -0.3015      0.015    -19.797      0.000      -0.331      -0.272\n",
       "Cross-Bay Tour (Shared Ride 2 & 3+)                      0.5853      0.152      3.862      0.000       0.288       0.882\n",
       "Household Size (Shared Ride 2 & 3+)                      0.1126      0.028      4.083      0.000       0.059       0.167\n",
       "Number of Kids in Household (Shared Ride 2 & 3+)         0.6618      0.034     19.229      0.000       0.594       0.729\n",
       "========================================================================================================================\n",
       "\"\"\""
      ]
     },
     "execution_count": 68,
     "metadata": {},
     "output_type": "execute_result"
    }
   ],
   "source": [
    "# Estimate the basic MNL model, using the hessian and newton-conjugate gradient\n",
    "mnl_model_sim = pl.create_choice_model(data=long_sim_data,\n",
    "                                           alt_id_col=alternative_id_col,\n",
    "                                           obs_id_col=observation_id_col,\n",
    "                                           choice_col=choice_column,\n",
    "                                           specification=mnl_specification,\n",
    "                                           model_type=\"MNL\",\n",
    "                                           names=mnl_names)\n",
    "\n",
    "num_vars = len(reduce(lambda x, y: x + y, mnl_names.values()))\n",
    "\n",
    "# Note newton-cg used to ensure convergence to a point where gradient \n",
    "# is essentially zero for all dimensions. \n",
    "mnl_model_sim.fit_mle(np.zeros(num_vars),\n",
    "                      method=\"BFGS\")\n",
    "\n",
    "# Look at the estimation results\n",
    "mnl_model_sim.get_statsmodels_summary()"
   ]
  },
  {
   "cell_type": "markdown",
   "metadata": {},
   "source": [
    "# 4. Estimate Causal Effects"
   ]
  },
  {
   "cell_type": "markdown",
   "metadata": {},
   "source": [
    "## 4.1 Compute Initial Probabilities Using Estimated Model on Simulated Data"
   ]
  },
  {
   "cell_type": "code",
   "execution_count": 69,
   "metadata": {},
   "outputs": [
    {
     "name": "stderr",
     "output_type": "stream",
     "text": [
      "/Users/mobouzaghrane/opt/anaconda3/lib/python3.7/site-packages/pylogit/choice_tools.py:703: FutureWarning: arrays to stack must be passed as a \"sequence\" type such as list or tuple. Support for non-sequence iterables such as generators is deprecated as of NumPy 1.16 and will raise an error in the future.\n",
      "  design_matrix = np.hstack((x[:, None] for x in independent_vars))\n"
     ]
    }
   ],
   "source": [
    "initial_probabilities = mnl_model_sim.predict(long_sim_data)"
   ]
  },
  {
   "cell_type": "markdown",
   "metadata": {},
   "source": [
    "## 4.2. Independently Generated Variables"
   ]
  },
  {
   "cell_type": "markdown",
   "metadata": {},
   "source": [
    "### 4.2.1. Disturb X Independently"
   ]
  },
  {
   "cell_type": "code",
   "execution_count": 70,
   "metadata": {},
   "outputs": [],
   "source": [
    "long_sim_data_naive = copy.deepcopy(long_sim_data)\n",
    "long_sim_data_naive['total_travel_distance'] = 1.3 * long_sim_data_naive['total_travel_distance']"
   ]
  },
  {
   "cell_type": "markdown",
   "metadata": {},
   "source": [
    "### 4.2.2. Compute Naive Probabilities Using Disturbed data and Estimated Model on Simulated Data"
   ]
  },
  {
   "cell_type": "code",
   "execution_count": 72,
   "metadata": {},
   "outputs": [],
   "source": [
    "naive_probabilities = mnl_model_sim.predict(long_sim_data_naive)\n",
    "long_sim_data_naive['naive_probabilities'] = naive_probabilities"
   ]
  },
  {
   "cell_type": "markdown",
   "metadata": {},
   "source": [
    "## 4.3. Based on Causal Graph and Estimated Model from Simulated"
   ]
  },
  {
   "cell_type": "code",
   "execution_count": 74,
   "metadata": {},
   "outputs": [],
   "source": [
    "long_sim_data_causal = copy.deepcopy(long_sim_data)"
   ]
  },
  {
   "cell_type": "markdown",
   "metadata": {},
   "source": [
    "### 4.3.1. Perturb X and children nodes"
   ]
  },
  {
   "cell_type": "code",
   "execution_count": 75,
   "metadata": {},
   "outputs": [],
   "source": [
    "long_sim_data_causal['total_travel_distance'] = 1.3 * long_sim_data['total_travel_distance']"
   ]
  },
  {
   "cell_type": "markdown",
   "metadata": {},
   "source": [
    "### Drive Alone"
   ]
  },
  {
   "cell_type": "code",
   "execution_count": 76,
   "metadata": {},
   "outputs": [
    {
     "data": {
      "text/plain": [
       "6812"
      ]
     },
     "execution_count": 76,
     "metadata": {},
     "output_type": "execute_result"
    }
   ],
   "source": [
    "long_sim_data_causal.loc[long_sim_data_causal['mode_id']==1].shape[0]"
   ]
  },
  {
   "cell_type": "code",
   "execution_count": 77,
   "metadata": {},
   "outputs": [],
   "source": [
    "long_sim_data_causal.loc[long_sim_data_causal['mode_id']==1,'total_travel_time'] = \\\n",
    "                                                  (Drive_Alone_Reg['total_travel_time_on_total_travel_distance'].params[0] + \\\n",
    "                                                   Drive_Alone_Reg['total_travel_time_on_total_travel_distance'].params[1] * \\\n",
    "                                                   long_sim_data_causal.loc[long_sim_data_causal['mode_id']==1,'total_travel_distance'] +\\\n",
    "                                                   np.random.normal(loc=0,\n",
    "                                                                   scale = Drive_Alone_Reg['total_travel_time_on_total_travel_distance'].resid.std(),\n",
    "                                                                   size = long_sim_data_causal.loc[long_sim_data_causal['mode_id']==1].shape[0]))\n",
    "\n",
    "long_sim_data_causal.loc[long_sim_data_causal['mode_id']==1,'total_travel_cost'] = \\\n",
    "                                                 (Drive_Alone_Reg['total_travel_cost_on_total_travel_distance'].params[0] +\\\n",
    "                                                  Drive_Alone_Reg['total_travel_cost_on_total_travel_distance'].params[1] *\\\n",
    "                                                  long_sim_data_causal.loc[long_sim_data_causal['mode_id']==1,'total_travel_distance'] +\\\n",
    "                                                  np.random.normal(loc=0,\n",
    "                                                                   scale = Drive_Alone_Reg['total_travel_cost_on_total_travel_distance'].resid.std(),\n",
    "                                                                   size = long_sim_data_causal.loc[long_sim_data_causal['mode_id']==1].shape[0]))"
   ]
  },
  {
   "cell_type": "markdown",
   "metadata": {},
   "source": [
    "### Shared-2"
   ]
  },
  {
   "cell_type": "code",
   "execution_count": 78,
   "metadata": {},
   "outputs": [],
   "source": [
    "long_sim_data_causal.loc[long_sim_data_causal['mode_id']==2,'total_travel_time'] = \\\n",
    "                                                  (Shared_2_Reg['total_travel_time_on_total_travel_distance'].params[0] + \\\n",
    "                                                   Shared_2_Reg['total_travel_time_on_total_travel_distance'].params[1] * \\\n",
    "                                                   long_sim_data_causal.loc[long_sim_data_causal['mode_id']==2,'total_travel_distance'] +\\\n",
    "                                                   np.random.normal(loc=0,\n",
    "                                                                   scale = Shared_2_Reg['total_travel_time_on_total_travel_distance'].resid.std(),\n",
    "                                                                   size = long_sim_data_causal.loc[long_sim_data_causal['mode_id']==2].shape[0]))\n",
    "\n",
    "long_sim_data_causal.loc[long_sim_data_causal['mode_id']==2,'total_travel_cost'] = \\\n",
    "                                                 (Shared_2_Reg['total_travel_cost_on_total_travel_distance'].params[0] +\\\n",
    "                                                  Shared_2_Reg['total_travel_cost_on_total_travel_distance'].params[1] *\\\n",
    "                                                  long_sim_data_causal.loc[long_sim_data_causal['mode_id']==2,'total_travel_distance'] +\\\n",
    "                                                  np.random.normal(loc=0,\n",
    "                                                                   scale = Shared_2_Reg['total_travel_cost_on_total_travel_distance'].resid.std(),\n",
    "                                                                   size = long_sim_data_causal.loc[long_sim_data_causal['mode_id']==2].shape[0]))"
   ]
  },
  {
   "cell_type": "markdown",
   "metadata": {},
   "source": [
    "### Shared-3+"
   ]
  },
  {
   "cell_type": "code",
   "execution_count": 79,
   "metadata": {},
   "outputs": [],
   "source": [
    "long_sim_data_causal.loc[long_sim_data_causal['mode_id']==3,'total_travel_time'] = \\\n",
    "                                                  (Shared_3p_Reg['total_travel_time_on_total_travel_distance'].params[0] + \\\n",
    "                                                   Shared_3p_Reg['total_travel_time_on_total_travel_distance'].params[1] * \\\n",
    "                                                   long_sim_data_causal.loc[long_sim_data_causal['mode_id']==3,'total_travel_distance'] +\\\n",
    "                                                   np.random.normal(loc=0,\n",
    "                                                                   scale = Shared_3p_Reg['total_travel_time_on_total_travel_distance'].resid.std(),\n",
    "                                                                   size = long_sim_data_causal.loc[long_sim_data_causal['mode_id']==3].shape[0]))\n",
    "\n",
    "long_sim_data_causal.loc[long_sim_data_causal['mode_id']==3,'total_travel_cost'] = \\\n",
    "                                                 (Shared_3p_Reg['total_travel_cost_on_total_travel_distance'].params[0] +\\\n",
    "                                                  Shared_3p_Reg['total_travel_cost_on_total_travel_distance'].params[1] *\\\n",
    "                                                  long_sim_data_causal.loc[long_sim_data_causal['mode_id']==3,'total_travel_distance'] +\\\n",
    "                                                  np.random.normal(loc=0,\n",
    "                                                                   scale = Shared_3p_Reg['total_travel_cost_on_total_travel_distance'].resid.std(),\n",
    "                                                                   size = long_sim_data_causal.loc[long_sim_data_causal['mode_id']==3].shape[0]))"
   ]
  },
  {
   "cell_type": "markdown",
   "metadata": {},
   "source": [
    "### Walk-Transit-Walk"
   ]
  },
  {
   "cell_type": "code",
   "execution_count": 80,
   "metadata": {},
   "outputs": [],
   "source": [
    "long_sim_data_causal.loc[long_sim_data_causal['mode_id']==4,'total_travel_cost'] = \\\n",
    "                                                 (WTW_Reg['total_travel_cost_on_total_travel_time'].params[0] +\\\n",
    "                                                  WTW_Reg['total_travel_cost_on_total_travel_time'].params[1] *\\\n",
    "                                                  long_sim_data_causal.loc[long_sim_data_causal['mode_id']==4,'total_travel_time'] +\\\n",
    "                                                  np.random.normal(loc=0,\n",
    "                                                                   scale = WTW_Reg['total_travel_cost_on_total_travel_time'].resid.std(),\n",
    "                                                                   size = long_sim_data_causal.loc[long_sim_data_causal['mode_id']==4].shape[0]))"
   ]
  },
  {
   "cell_type": "markdown",
   "metadata": {},
   "source": [
    "### Drive-Transit-Walk"
   ]
  },
  {
   "cell_type": "code",
   "execution_count": 81,
   "metadata": {},
   "outputs": [],
   "source": [
    "long_sim_data_causal.loc[long_sim_data_causal['mode_id']==5,'total_travel_cost'] = \\\n",
    "                                                 (DTW_Reg['total_travel_cost_on_total_travel_time'].params[0] +\\\n",
    "                                                  DTW_Reg['total_travel_cost_on_total_travel_time'].params[1] *\\\n",
    "                                                  long_sim_data_causal.loc[long_sim_data_causal['mode_id']==5,'total_travel_time'] +\\\n",
    "                                                  np.random.normal(loc=0,\n",
    "                                                                   scale = DTW_Reg['total_travel_cost_on_total_travel_time'].resid.std(),\n",
    "                                                                   size = long_sim_data_causal.loc[long_sim_data_causal['mode_id']==5].shape[0]))"
   ]
  },
  {
   "cell_type": "markdown",
   "metadata": {},
   "source": [
    "### Walk-Transit-Drive"
   ]
  },
  {
   "cell_type": "code",
   "execution_count": 82,
   "metadata": {},
   "outputs": [],
   "source": [
    "long_sim_data_causal.loc[long_sim_data_causal['mode_id']==6,'total_travel_cost'] = \\\n",
    "                                                 (WTD_Reg['total_travel_cost_on_total_travel_time'].params[0] +\\\n",
    "                                                  WTD_Reg['total_travel_cost_on_total_travel_time'].params[1] *\\\n",
    "                                                  long_sim_data_causal.loc[long_sim_data_causal['mode_id']==6,'total_travel_time'] +\\\n",
    "                                                  np.random.normal(loc=0,\n",
    "                                                                   scale = WTD_Reg['total_travel_cost_on_total_travel_time'].resid.std(),\n",
    "                                                                   size = long_sim_data_causal.loc[long_sim_data_causal['mode_id']==6].shape[0]))"
   ]
  },
  {
   "cell_type": "markdown",
   "metadata": {},
   "source": [
    "### Walk "
   ]
  },
  {
   "cell_type": "markdown",
   "metadata": {},
   "source": [
    "No further change of variables since travel distance directly affects the utility."
   ]
  },
  {
   "cell_type": "markdown",
   "metadata": {},
   "source": [
    "### Bike "
   ]
  },
  {
   "cell_type": "markdown",
   "metadata": {},
   "source": [
    "No further change of variables since travel distance directly affects the utility."
   ]
  },
  {
   "cell_type": "markdown",
   "metadata": {},
   "source": [
    "### 4.3.2. Compute Estimated Probabilities"
   ]
  },
  {
   "cell_type": "code",
   "execution_count": 83,
   "metadata": {},
   "outputs": [],
   "source": [
    "estimated_probabilities = mnl_model_sim.predict(long_sim_data_causal)\n",
    "long_sim_data_causal['estimated_probabilities'] = estimated_probabilities"
   ]
  },
  {
   "cell_type": "markdown",
   "metadata": {},
   "source": [
    "## 4.4. Based on True Causal Graph and Original Estimated Model"
   ]
  },
  {
   "cell_type": "code",
   "execution_count": 85,
   "metadata": {},
   "outputs": [],
   "source": [
    "true_probabilities = mnl_model.predict(long_sim_data_causal)\n",
    "long_sim_data_causal['true_probabilities'] = true_probabilities"
   ]
  },
  {
   "cell_type": "code",
   "execution_count": 87,
   "metadata": {},
   "outputs": [],
   "source": [
    "long_sim_data['initial_probabilities'] = initial_probabilities"
   ]
  },
  {
   "cell_type": "markdown",
   "metadata": {},
   "source": [
    "### 4.5. Calculate Causal Effects"
   ]
  },
  {
   "cell_type": "code",
   "execution_count": 88,
   "metadata": {},
   "outputs": [],
   "source": [
    "naive_effect = long_sim_data_naive.loc[long_sim_data_naive['mode_id']==1,'naive_probabilities'] - long_sim_data.loc[long_sim_data['mode_id']==1,'initial_probabilities']\n",
    "estimated_effect = long_sim_data_causal.loc[long_sim_data_causal['mode_id']==1,'estimated_probabilities'] - long_sim_data.loc[long_sim_data['mode_id']==1,'initial_probabilities']\n",
    "true_effect = long_sim_data_causal.loc[long_sim_data_causal['mode_id']==1,'true_probabilities'] - long_sim_data.loc[long_sim_data['mode_id']==1,'initial_probabilities']"
   ]
  },
  {
   "cell_type": "markdown",
   "metadata": {},
   "source": [
    "### 4.6. Store in DataFrame"
   ]
  },
  {
   "cell_type": "code",
   "execution_count": 132,
   "metadata": {
    "collapsed": true,
    "jupyter": {
     "outputs_hidden": true
    }
   },
   "outputs": [
    {
     "ename": "ValueError",
     "evalue": "If using all scalar values, you must pass an index",
     "output_type": "error",
     "traceback": [
      "\u001b[0;31m---------------------------------------------------------------------------\u001b[0m",
      "\u001b[0;31mValueError\u001b[0m                                Traceback (most recent call last)",
      "\u001b[0;32m<ipython-input-132-89d7a73c093e>\u001b[0m in \u001b[0;36m<module>\u001b[0;34m\u001b[0m\n\u001b[1;32m      1\u001b[0m all_effects = pd.DataFrame({'naive_effect': naive_effect.mean(),\n\u001b[1;32m      2\u001b[0m                            \u001b[0;34m'estimated_effect'\u001b[0m\u001b[0;34m:\u001b[0m \u001b[0mestimated_effect\u001b[0m\u001b[0;34m.\u001b[0m\u001b[0mmean\u001b[0m\u001b[0;34m(\u001b[0m\u001b[0;34m)\u001b[0m\u001b[0;34m,\u001b[0m\u001b[0;34m\u001b[0m\u001b[0;34m\u001b[0m\u001b[0m\n\u001b[0;32m----> 3\u001b[0;31m                            'true_effect': true_effect.mean()})\n\u001b[0m",
      "\u001b[0;32m~/opt/anaconda3/lib/python3.7/site-packages/pandas/core/frame.py\u001b[0m in \u001b[0;36m__init__\u001b[0;34m(self, data, index, columns, dtype, copy)\u001b[0m\n\u001b[1;32m    409\u001b[0m             )\n\u001b[1;32m    410\u001b[0m         \u001b[0;32melif\u001b[0m \u001b[0misinstance\u001b[0m\u001b[0;34m(\u001b[0m\u001b[0mdata\u001b[0m\u001b[0;34m,\u001b[0m \u001b[0mdict\u001b[0m\u001b[0;34m)\u001b[0m\u001b[0;34m:\u001b[0m\u001b[0;34m\u001b[0m\u001b[0;34m\u001b[0m\u001b[0m\n\u001b[0;32m--> 411\u001b[0;31m             \u001b[0mmgr\u001b[0m \u001b[0;34m=\u001b[0m \u001b[0minit_dict\u001b[0m\u001b[0;34m(\u001b[0m\u001b[0mdata\u001b[0m\u001b[0;34m,\u001b[0m \u001b[0mindex\u001b[0m\u001b[0;34m,\u001b[0m \u001b[0mcolumns\u001b[0m\u001b[0;34m,\u001b[0m \u001b[0mdtype\u001b[0m\u001b[0;34m=\u001b[0m\u001b[0mdtype\u001b[0m\u001b[0;34m)\u001b[0m\u001b[0;34m\u001b[0m\u001b[0;34m\u001b[0m\u001b[0m\n\u001b[0m\u001b[1;32m    412\u001b[0m         \u001b[0;32melif\u001b[0m \u001b[0misinstance\u001b[0m\u001b[0;34m(\u001b[0m\u001b[0mdata\u001b[0m\u001b[0;34m,\u001b[0m \u001b[0mma\u001b[0m\u001b[0;34m.\u001b[0m\u001b[0mMaskedArray\u001b[0m\u001b[0;34m)\u001b[0m\u001b[0;34m:\u001b[0m\u001b[0;34m\u001b[0m\u001b[0;34m\u001b[0m\u001b[0m\n\u001b[1;32m    413\u001b[0m             \u001b[0;32mimport\u001b[0m \u001b[0mnumpy\u001b[0m\u001b[0;34m.\u001b[0m\u001b[0mma\u001b[0m\u001b[0;34m.\u001b[0m\u001b[0mmrecords\u001b[0m \u001b[0;32mas\u001b[0m \u001b[0mmrecords\u001b[0m\u001b[0;34m\u001b[0m\u001b[0;34m\u001b[0m\u001b[0m\n",
      "\u001b[0;32m~/opt/anaconda3/lib/python3.7/site-packages/pandas/core/internals/construction.py\u001b[0m in \u001b[0;36minit_dict\u001b[0;34m(data, index, columns, dtype)\u001b[0m\n\u001b[1;32m    255\u001b[0m             \u001b[0marr\u001b[0m \u001b[0;32mif\u001b[0m \u001b[0;32mnot\u001b[0m \u001b[0mis_datetime64tz_dtype\u001b[0m\u001b[0;34m(\u001b[0m\u001b[0marr\u001b[0m\u001b[0;34m)\u001b[0m \u001b[0;32melse\u001b[0m \u001b[0marr\u001b[0m\u001b[0;34m.\u001b[0m\u001b[0mcopy\u001b[0m\u001b[0;34m(\u001b[0m\u001b[0;34m)\u001b[0m \u001b[0;32mfor\u001b[0m \u001b[0marr\u001b[0m \u001b[0;32min\u001b[0m \u001b[0marrays\u001b[0m\u001b[0;34m\u001b[0m\u001b[0;34m\u001b[0m\u001b[0m\n\u001b[1;32m    256\u001b[0m         ]\n\u001b[0;32m--> 257\u001b[0;31m     \u001b[0;32mreturn\u001b[0m \u001b[0marrays_to_mgr\u001b[0m\u001b[0;34m(\u001b[0m\u001b[0marrays\u001b[0m\u001b[0;34m,\u001b[0m \u001b[0mdata_names\u001b[0m\u001b[0;34m,\u001b[0m \u001b[0mindex\u001b[0m\u001b[0;34m,\u001b[0m \u001b[0mcolumns\u001b[0m\u001b[0;34m,\u001b[0m \u001b[0mdtype\u001b[0m\u001b[0;34m=\u001b[0m\u001b[0mdtype\u001b[0m\u001b[0;34m)\u001b[0m\u001b[0;34m\u001b[0m\u001b[0;34m\u001b[0m\u001b[0m\n\u001b[0m\u001b[1;32m    258\u001b[0m \u001b[0;34m\u001b[0m\u001b[0m\n\u001b[1;32m    259\u001b[0m \u001b[0;34m\u001b[0m\u001b[0m\n",
      "\u001b[0;32m~/opt/anaconda3/lib/python3.7/site-packages/pandas/core/internals/construction.py\u001b[0m in \u001b[0;36marrays_to_mgr\u001b[0;34m(arrays, arr_names, index, columns, dtype)\u001b[0m\n\u001b[1;32m     75\u001b[0m     \u001b[0;31m# figure out the index, if necessary\u001b[0m\u001b[0;34m\u001b[0m\u001b[0;34m\u001b[0m\u001b[0;34m\u001b[0m\u001b[0m\n\u001b[1;32m     76\u001b[0m     \u001b[0;32mif\u001b[0m \u001b[0mindex\u001b[0m \u001b[0;32mis\u001b[0m \u001b[0;32mNone\u001b[0m\u001b[0;34m:\u001b[0m\u001b[0;34m\u001b[0m\u001b[0;34m\u001b[0m\u001b[0m\n\u001b[0;32m---> 77\u001b[0;31m         \u001b[0mindex\u001b[0m \u001b[0;34m=\u001b[0m \u001b[0mextract_index\u001b[0m\u001b[0;34m(\u001b[0m\u001b[0marrays\u001b[0m\u001b[0;34m)\u001b[0m\u001b[0;34m\u001b[0m\u001b[0;34m\u001b[0m\u001b[0m\n\u001b[0m\u001b[1;32m     78\u001b[0m     \u001b[0;32melse\u001b[0m\u001b[0;34m:\u001b[0m\u001b[0;34m\u001b[0m\u001b[0;34m\u001b[0m\u001b[0m\n\u001b[1;32m     79\u001b[0m         \u001b[0mindex\u001b[0m \u001b[0;34m=\u001b[0m \u001b[0mensure_index\u001b[0m\u001b[0;34m(\u001b[0m\u001b[0mindex\u001b[0m\u001b[0;34m)\u001b[0m\u001b[0;34m\u001b[0m\u001b[0;34m\u001b[0m\u001b[0m\n",
      "\u001b[0;32m~/opt/anaconda3/lib/python3.7/site-packages/pandas/core/internals/construction.py\u001b[0m in \u001b[0;36mextract_index\u001b[0;34m(data)\u001b[0m\n\u001b[1;32m    356\u001b[0m \u001b[0;34m\u001b[0m\u001b[0m\n\u001b[1;32m    357\u001b[0m         \u001b[0;32mif\u001b[0m \u001b[0;32mnot\u001b[0m \u001b[0mindexes\u001b[0m \u001b[0;32mand\u001b[0m \u001b[0;32mnot\u001b[0m \u001b[0mraw_lengths\u001b[0m\u001b[0;34m:\u001b[0m\u001b[0;34m\u001b[0m\u001b[0;34m\u001b[0m\u001b[0m\n\u001b[0;32m--> 358\u001b[0;31m             \u001b[0;32mraise\u001b[0m \u001b[0mValueError\u001b[0m\u001b[0;34m(\u001b[0m\u001b[0;34m\"If using all scalar values, you must pass an index\"\u001b[0m\u001b[0;34m)\u001b[0m\u001b[0;34m\u001b[0m\u001b[0;34m\u001b[0m\u001b[0m\n\u001b[0m\u001b[1;32m    359\u001b[0m \u001b[0;34m\u001b[0m\u001b[0m\n\u001b[1;32m    360\u001b[0m         \u001b[0;32mif\u001b[0m \u001b[0mhave_series\u001b[0m\u001b[0;34m:\u001b[0m\u001b[0;34m\u001b[0m\u001b[0;34m\u001b[0m\u001b[0m\n",
      "\u001b[0;31mValueError\u001b[0m: If using all scalar values, you must pass an index"
     ]
    }
   ],
   "source": [
    "all_effects = pd.DataFrame({'naive_effect': naive_effect.mean(),\n",
    "                           'estimated_effect': estimated_effect.mean(),\n",
    "                           'true_effect': true_effect.mean()})"
   ]
  },
  {
   "cell_type": "markdown",
   "metadata": {},
   "source": [
    "### 4.7 Distribution of Causal Effect by observation"
   ]
  },
  {
   "cell_type": "code",
   "execution_count": 187,
   "metadata": {},
   "outputs": [
    {
     "data": {
      "text/plain": [
       "Text(0.5, 1.0, 'True Effect vs. Estimated Effect')"
      ]
     },
     "execution_count": 187,
     "metadata": {},
     "output_type": "execute_result"
    },
    {
     "data": {
      "image/png": "[encoded data removed]",
      "text/plain": [
       "<Figure size 1080x720 with 1 Axes>"
      ]
     },
     "metadata": {},
     "output_type": "display_data"
    },
    {
     "data": {
      "image/png": "[encoded data removed]",
      "text/plain": [
       "<Figure size 1080x720 with 1 Axes>"
      ]
     },
     "metadata": {},
     "output_type": "display_data"
    }
   ],
   "source": [
    "plt.figure(figsize=(15,10))\n",
    "sns.distplot(true_effect, kde=False, label ='True Effect', color='dodgerblue')\n",
    "sns.distplot(naive_effect, kde=False, label ='Naive Effect', color='goldenrod')\n",
    "plt.xlabel('Causal Effect', fontdict={'fontsize': 12, 'fontweight':'bold'})\n",
    "plt.ylabel('Frequency', fontdict={'fontsize': 12, 'fontweight':'bold'})\n",
    "plt.legend(prop={'size': 14})\n",
    "plt.title('True Effect vs. Naive Effect', fontdict={'fontsize': 14, 'fontweight':'bold'})\n",
    "\n",
    "plt.figure(figsize=(15,10))\n",
    "sns.distplot(true_effect, kde=False, label ='True Effect', color='dodgerblue')\n",
    "sns.distplot(estimated_effect, kde=False, label ='Estimated effect', color='lightcoral')\n",
    "plt.xlabel('Causal Effect', fontdict={'fontsize': 12, 'fontweight':'bold'})\n",
    "plt.ylabel('Frequency', fontdict={'fontsize': 12, 'fontweight':'bold'})\n",
    "plt.legend(prop={'size': 14})\n",
    "plt.title('True Effect vs. Estimated Effect', fontdict={'fontsize': 14, 'fontweight':'bold'})"
   ]
  },
  {
   "cell_type": "markdown",
   "metadata": {},
   "source": [
    "# 5. Repeat Simulation N times and compute Average Causal Effects"
   ]
  },
  {
   "cell_type": "markdown",
   "metadata": {},
   "source": [
    "### 5.1. Run the repeated simulation"
   ]
  },
  {
   "cell_type": "code",
   "execution_count": 110,
   "metadata": {
    "collapsed": true,
    "jupyter": {
     "outputs_hidden": true
    }
   },
   "outputs": [
    {
     "name": "stdout",
     "output_type": "stream",
     "text": [
      "Simulation number 1 is in progress...\n",
      "Simulation size is 8588\n",
      "------------------------------------------\n",
      "Simulating data...\n",
      "Simulating Availability...\n",
      "Converting data from wide to long...\n",
      "Simulating Choices...\n"
     ]
    },
    {
     "data": {
      "application/vnd.jupyter.widget-view+json": {
       "model_id": "e5f3519c1c1a4816b9d51d530fb99824",
       "version_major": 2,
       "version_minor": 0
      },
      "text/plain": [
       "HBox(children=(IntProgress(value=0, description='Simulating Choices', max=8588, style=ProgressStyle(descriptio…"
      ]
     },
     "metadata": {},
     "output_type": "display_data"
    },
    {
     "name": "stdout",
     "output_type": "stream",
     "text": [
      "\n",
      "Estimating the choice model...\n",
      "Log-likelihood at zero: -16,329.5507\n",
      "Initial Log-likelihood: -16,329.5507\n"
     ]
    },
    {
     "name": "stderr",
     "output_type": "stream",
     "text": [
      "/Users/mobouzaghrane/opt/anaconda3/lib/python3.7/site-packages/scipy/optimize/_minimize.py:505: RuntimeWarning: Method BFGS does not use Hessian information (hess).\n",
      "  RuntimeWarning)\n"
     ]
    },
    {
     "name": "stdout",
     "output_type": "stream",
     "text": [
      "Estimation Time for Point Estimation: 0.48 seconds.\n",
      "Final log-likelihood: -5,979.0969\n",
      "Estimating Causal Effects...\n"
     ]
    },
    {
     "name": "stderr",
     "output_type": "stream",
     "text": [
      "/Users/mobouzaghrane/opt/anaconda3/lib/python3.7/site-packages/pylogit/choice_tools.py:703: FutureWarning: arrays to stack must be passed as a \"sequence\" type such as list or tuple. Support for non-sequence iterables such as generators is deprecated as of NumPy 1.16 and will raise an error in the future.\n",
      "  design_matrix = np.hstack((x[:, None] for x in independent_vars))\n"
     ]
    },
    {
     "name": "stdout",
     "output_type": "stream",
     "text": [
      "Simulation number 1 is complete!\n",
      "==========================================\n",
      "==========================================\n",
      "Simulation number 2 is in progress...\n",
      "Simulation size is 6724\n",
      "------------------------------------------\n",
      "Simulating data...\n",
      "Simulating Availability...\n",
      "Converting data from wide to long...\n",
      "Simulating Choices...\n"
     ]
    },
    {
     "data": {
      "application/vnd.jupyter.widget-view+json": {
       "model_id": "cdfae555036a436e8675197bc7a12d6c",
       "version_major": 2,
       "version_minor": 0
      },
      "text/plain": [
       "HBox(children=(IntProgress(value=0, description='Simulating Choices', max=6724, style=ProgressStyle(descriptio…"
      ]
     },
     "metadata": {},
     "output_type": "display_data"
    },
    {
     "name": "stdout",
     "output_type": "stream",
     "text": [
      "\n",
      "Estimating the choice model...\n",
      "Log-likelihood at zero: -12,764.4425\n",
      "Initial Log-likelihood: -12,764.4425\n"
     ]
    },
    {
     "name": "stderr",
     "output_type": "stream",
     "text": [
      "/Users/mobouzaghrane/opt/anaconda3/lib/python3.7/site-packages/scipy/optimize/_minimize.py:505: RuntimeWarning: Method BFGS does not use Hessian information (hess).\n",
      "  RuntimeWarning)\n"
     ]
    },
    {
     "name": "stdout",
     "output_type": "stream",
     "text": [
      "Estimation Time for Point Estimation: 0.77 seconds.\n",
      "Final log-likelihood: -4,745.4859\n",
      "Estimating Causal Effects...\n"
     ]
    },
    {
     "name": "stderr",
     "output_type": "stream",
     "text": [
      "/Users/mobouzaghrane/opt/anaconda3/lib/python3.7/site-packages/pylogit/choice_tools.py:703: FutureWarning: arrays to stack must be passed as a \"sequence\" type such as list or tuple. Support for non-sequence iterables such as generators is deprecated as of NumPy 1.16 and will raise an error in the future.\n",
      "  design_matrix = np.hstack((x[:, None] for x in independent_vars))\n"
     ]
    },
    {
     "name": "stdout",
     "output_type": "stream",
     "text": [
      "Simulation number 2 is complete!\n",
      "==========================================\n",
      "==========================================\n",
      "Simulation number 3 is in progress...\n",
      "Simulation size is 7304\n",
      "------------------------------------------\n",
      "Simulating data...\n",
      "Simulating Availability...\n",
      "Converting data from wide to long...\n",
      "Simulating Choices...\n"
     ]
    },
    {
     "data": {
      "application/vnd.jupyter.widget-view+json": {
       "model_id": "8293fa089c2d446c8024139dba7ef336",
       "version_major": 2,
       "version_minor": 0
      },
      "text/plain": [
       "HBox(children=(IntProgress(value=0, description='Simulating Choices', max=7304, style=ProgressStyle(descriptio…"
      ]
     },
     "metadata": {},
     "output_type": "display_data"
    },
    {
     "name": "stdout",
     "output_type": "stream",
     "text": [
      "\n",
      "Estimating the choice model...\n",
      "Log-likelihood at zero: -13,848.4440\n",
      "Initial Log-likelihood: -13,848.4440\n"
     ]
    },
    {
     "name": "stderr",
     "output_type": "stream",
     "text": [
      "/Users/mobouzaghrane/opt/anaconda3/lib/python3.7/site-packages/scipy/optimize/_minimize.py:505: RuntimeWarning: Method BFGS does not use Hessian information (hess).\n",
      "  RuntimeWarning)\n"
     ]
    },
    {
     "name": "stdout",
     "output_type": "stream",
     "text": [
      "Estimation Time for Point Estimation: 0.41 seconds.\n",
      "Final log-likelihood: -5,173.4782\n",
      "Estimating Causal Effects...\n"
     ]
    },
    {
     "name": "stderr",
     "output_type": "stream",
     "text": [
      "/Users/mobouzaghrane/opt/anaconda3/lib/python3.7/site-packages/pylogit/choice_tools.py:703: FutureWarning: arrays to stack must be passed as a \"sequence\" type such as list or tuple. Support for non-sequence iterables such as generators is deprecated as of NumPy 1.16 and will raise an error in the future.\n",
      "  design_matrix = np.hstack((x[:, None] for x in independent_vars))\n"
     ]
    },
    {
     "name": "stdout",
     "output_type": "stream",
     "text": [
      "Simulation number 3 is complete!\n",
      "==========================================\n",
      "==========================================\n",
      "Simulation number 4 is in progress...\n",
      "Simulation size is 8083\n",
      "------------------------------------------\n",
      "Simulating data...\n",
      "Simulating Availability...\n",
      "Converting data from wide to long...\n",
      "Simulating Choices...\n"
     ]
    },
    {
     "data": {
      "application/vnd.jupyter.widget-view+json": {
       "model_id": "91fa0ff1c91641b1a6a89e76718bc670",
       "version_major": 2,
       "version_minor": 0
      },
      "text/plain": [
       "HBox(children=(IntProgress(value=0, description='Simulating Choices', max=8083, style=ProgressStyle(descriptio…"
      ]
     },
     "metadata": {},
     "output_type": "display_data"
    },
    {
     "name": "stdout",
     "output_type": "stream",
     "text": [
      "\n",
      "Estimating the choice model...\n",
      "Log-likelihood at zero: -15,349.5657\n",
      "Initial Log-likelihood: -15,349.5657\n"
     ]
    },
    {
     "name": "stderr",
     "output_type": "stream",
     "text": [
      "/Users/mobouzaghrane/opt/anaconda3/lib/python3.7/site-packages/scipy/optimize/_minimize.py:505: RuntimeWarning: Method BFGS does not use Hessian information (hess).\n",
      "  RuntimeWarning)\n"
     ]
    },
    {
     "name": "stdout",
     "output_type": "stream",
     "text": [
      "Estimation Time for Point Estimation: 0.69 seconds.\n",
      "Final log-likelihood: -5,810.4266\n",
      "Estimating Causal Effects...\n"
     ]
    },
    {
     "name": "stderr",
     "output_type": "stream",
     "text": [
      "/Users/mobouzaghrane/opt/anaconda3/lib/python3.7/site-packages/pylogit/choice_tools.py:703: FutureWarning: arrays to stack must be passed as a \"sequence\" type such as list or tuple. Support for non-sequence iterables such as generators is deprecated as of NumPy 1.16 and will raise an error in the future.\n",
      "  design_matrix = np.hstack((x[:, None] for x in independent_vars))\n"
     ]
    },
    {
     "name": "stdout",
     "output_type": "stream",
     "text": [
      "Simulation number 4 is complete!\n",
      "==========================================\n",
      "==========================================\n",
      "Simulation number 5 is in progress...\n",
      "Simulation size is 6558\n",
      "------------------------------------------\n",
      "Simulating data...\n",
      "Simulating Availability...\n",
      "Converting data from wide to long...\n",
      "Simulating Choices...\n"
     ]
    },
    {
     "data": {
      "application/vnd.jupyter.widget-view+json": {
       "model_id": "a6f67963b1b44691989718f9e3839b29",
       "version_major": 2,
       "version_minor": 0
      },
      "text/plain": [
       "HBox(children=(IntProgress(value=0, description='Simulating Choices', max=6558, style=ProgressStyle(descriptio…"
      ]
     },
     "metadata": {},
     "output_type": "display_data"
    },
    {
     "name": "stdout",
     "output_type": "stream",
     "text": [
      "\n",
      "Estimating the choice model...\n",
      "Log-likelihood at zero: -12,461.2813\n",
      "Initial Log-likelihood: -12,461.2813\n"
     ]
    },
    {
     "name": "stderr",
     "output_type": "stream",
     "text": [
      "/Users/mobouzaghrane/opt/anaconda3/lib/python3.7/site-packages/scipy/optimize/_minimize.py:505: RuntimeWarning: Method BFGS does not use Hessian information (hess).\n",
      "  RuntimeWarning)\n"
     ]
    },
    {
     "name": "stdout",
     "output_type": "stream",
     "text": [
      "Estimation Time for Point Estimation: 0.38 seconds.\n",
      "Final log-likelihood: -4,572.6979\n",
      "Estimating Causal Effects...\n"
     ]
    },
    {
     "name": "stderr",
     "output_type": "stream",
     "text": [
      "/Users/mobouzaghrane/opt/anaconda3/lib/python3.7/site-packages/pylogit/choice_tools.py:703: FutureWarning: arrays to stack must be passed as a \"sequence\" type such as list or tuple. Support for non-sequence iterables such as generators is deprecated as of NumPy 1.16 and will raise an error in the future.\n",
      "  design_matrix = np.hstack((x[:, None] for x in independent_vars))\n"
     ]
    },
    {
     "name": "stdout",
     "output_type": "stream",
     "text": [
      "Simulation number 5 is complete!\n",
      "==========================================\n",
      "==========================================\n",
      "Simulation number 6 is in progress...\n",
      "Simulation size is 4109\n",
      "------------------------------------------\n",
      "Simulating data...\n",
      "Simulating Availability...\n",
      "Converting data from wide to long...\n",
      "Simulating Choices...\n"
     ]
    },
    {
     "data": {
      "application/vnd.jupyter.widget-view+json": {
       "model_id": "a93e125a35454ac7a4f86623a07a8750",
       "version_major": 2,
       "version_minor": 0
      },
      "text/plain": [
       "HBox(children=(IntProgress(value=0, description='Simulating Choices', max=4109, style=ProgressStyle(descriptio…"
      ]
     },
     "metadata": {},
     "output_type": "display_data"
    },
    {
     "name": "stdout",
     "output_type": "stream",
     "text": [
      "\n",
      "Estimating the choice model...\n",
      "Log-likelihood at zero: -7,796.3193\n",
      "Initial Log-likelihood: -7,796.3193\n"
     ]
    },
    {
     "name": "stderr",
     "output_type": "stream",
     "text": [
      "/Users/mobouzaghrane/opt/anaconda3/lib/python3.7/site-packages/scipy/optimize/_minimize.py:505: RuntimeWarning: Method BFGS does not use Hessian information (hess).\n",
      "  RuntimeWarning)\n"
     ]
    },
    {
     "name": "stdout",
     "output_type": "stream",
     "text": [
      "Estimation Time for Point Estimation: 0.22 seconds.\n",
      "Final log-likelihood: -2,742.1476\n",
      "Estimating Causal Effects...\n",
      "Simulation number 6 is complete!\n",
      "==========================================\n",
      "==========================================\n",
      "Simulation number 7 is in progress...\n",
      "Simulation size is 3827\n",
      "------------------------------------------\n",
      "Simulating data...\n"
     ]
    },
    {
     "name": "stderr",
     "output_type": "stream",
     "text": [
      "/Users/mobouzaghrane/opt/anaconda3/lib/python3.7/site-packages/pylogit/choice_tools.py:703: FutureWarning: arrays to stack must be passed as a \"sequence\" type such as list or tuple. Support for non-sequence iterables such as generators is deprecated as of NumPy 1.16 and will raise an error in the future.\n",
      "  design_matrix = np.hstack((x[:, None] for x in independent_vars))\n"
     ]
    },
    {
     "name": "stdout",
     "output_type": "stream",
     "text": [
      "Simulating Availability...\n",
      "Converting data from wide to long...\n",
      "Simulating Choices...\n"
     ]
    },
    {
     "data": {
      "application/vnd.jupyter.widget-view+json": {
       "model_id": "315cd65c3c0b4baca90a1cec5659525a",
       "version_major": 2,
       "version_minor": 0
      },
      "text/plain": [
       "HBox(children=(IntProgress(value=0, description='Simulating Choices', max=3827, style=ProgressStyle(descriptio…"
      ]
     },
     "metadata": {},
     "output_type": "display_data"
    },
    {
     "name": "stdout",
     "output_type": "stream",
     "text": [
      "\n",
      "Estimating the choice model...\n",
      "Log-likelihood at zero: -7,277.0387\n",
      "Initial Log-likelihood: -7,277.0387\n"
     ]
    },
    {
     "name": "stderr",
     "output_type": "stream",
     "text": [
      "/Users/mobouzaghrane/opt/anaconda3/lib/python3.7/site-packages/scipy/optimize/_minimize.py:505: RuntimeWarning: Method BFGS does not use Hessian information (hess).\n",
      "  RuntimeWarning)\n"
     ]
    },
    {
     "name": "stdout",
     "output_type": "stream",
     "text": [
      "Estimation Time for Point Estimation: 0.21 seconds.\n",
      "Final log-likelihood: -2,702.9414\n",
      "Estimating Causal Effects...\n",
      "Simulation number 7 is complete!\n",
      "==========================================\n",
      "==========================================\n",
      "Simulation number 8 is in progress...\n",
      "Simulation size is 4030\n",
      "------------------------------------------\n",
      "Simulating data...\n"
     ]
    },
    {
     "name": "stderr",
     "output_type": "stream",
     "text": [
      "/Users/mobouzaghrane/opt/anaconda3/lib/python3.7/site-packages/pylogit/choice_tools.py:703: FutureWarning: arrays to stack must be passed as a \"sequence\" type such as list or tuple. Support for non-sequence iterables such as generators is deprecated as of NumPy 1.16 and will raise an error in the future.\n",
      "  design_matrix = np.hstack((x[:, None] for x in independent_vars))\n"
     ]
    },
    {
     "name": "stdout",
     "output_type": "stream",
     "text": [
      "Simulating Availability...\n",
      "Converting data from wide to long...\n",
      "Simulating Choices...\n"
     ]
    },
    {
     "data": {
      "application/vnd.jupyter.widget-view+json": {
       "model_id": "efecdfb2c91c4782b509d10978b4817d",
       "version_major": 2,
       "version_minor": 0
      },
      "text/plain": [
       "HBox(children=(IntProgress(value=0, description='Simulating Choices', max=4030, style=ProgressStyle(descriptio…"
      ]
     },
     "metadata": {},
     "output_type": "display_data"
    },
    {
     "name": "stdout",
     "output_type": "stream",
     "text": [
      "\n",
      "Estimating the choice model...\n",
      "Log-likelihood at zero: -7,656.1692\n",
      "Initial Log-likelihood: -7,656.1692\n"
     ]
    },
    {
     "name": "stderr",
     "output_type": "stream",
     "text": [
      "/Users/mobouzaghrane/opt/anaconda3/lib/python3.7/site-packages/scipy/optimize/_minimize.py:505: RuntimeWarning: Method BFGS does not use Hessian information (hess).\n",
      "  RuntimeWarning)\n"
     ]
    },
    {
     "name": "stdout",
     "output_type": "stream",
     "text": [
      "Estimation Time for Point Estimation: 0.40 seconds.\n",
      "Final log-likelihood: -2,802.4854\n",
      "Estimating Causal Effects...\n",
      "Simulation number 8 is complete!\n",
      "==========================================\n",
      "==========================================\n",
      "Simulation number 9 is in progress...\n",
      "Simulation size is 5529\n",
      "------------------------------------------\n",
      "Simulating data...\n"
     ]
    },
    {
     "name": "stderr",
     "output_type": "stream",
     "text": [
      "/Users/mobouzaghrane/opt/anaconda3/lib/python3.7/site-packages/pylogit/choice_tools.py:703: FutureWarning: arrays to stack must be passed as a \"sequence\" type such as list or tuple. Support for non-sequence iterables such as generators is deprecated as of NumPy 1.16 and will raise an error in the future.\n",
      "  design_matrix = np.hstack((x[:, None] for x in independent_vars))\n"
     ]
    },
    {
     "name": "stdout",
     "output_type": "stream",
     "text": [
      "Simulating Availability...\n",
      "Converting data from wide to long...\n",
      "Simulating Choices...\n"
     ]
    },
    {
     "data": {
      "application/vnd.jupyter.widget-view+json": {
       "model_id": "b9d5e0ea4b9b45d8bdcd692aadb0d891",
       "version_major": 2,
       "version_minor": 0
      },
      "text/plain": [
       "HBox(children=(IntProgress(value=0, description='Simulating Choices', max=5529, style=ProgressStyle(descriptio…"
      ]
     },
     "metadata": {},
     "output_type": "display_data"
    },
    {
     "name": "stdout",
     "output_type": "stream",
     "text": [
      "\n",
      "Estimating the choice model...\n",
      "Log-likelihood at zero: -10,462.3512\n",
      "Initial Log-likelihood: -10,462.3512\n"
     ]
    },
    {
     "name": "stderr",
     "output_type": "stream",
     "text": [
      "/Users/mobouzaghrane/opt/anaconda3/lib/python3.7/site-packages/scipy/optimize/_minimize.py:505: RuntimeWarning: Method BFGS does not use Hessian information (hess).\n",
      "  RuntimeWarning)\n"
     ]
    },
    {
     "name": "stdout",
     "output_type": "stream",
     "text": [
      "Estimation Time for Point Estimation: 0.28 seconds.\n",
      "Final log-likelihood: -3,939.7966\n",
      "Estimating Causal Effects...\n"
     ]
    },
    {
     "name": "stderr",
     "output_type": "stream",
     "text": [
      "/Users/mobouzaghrane/opt/anaconda3/lib/python3.7/site-packages/pylogit/choice_tools.py:703: FutureWarning: arrays to stack must be passed as a \"sequence\" type such as list or tuple. Support for non-sequence iterables such as generators is deprecated as of NumPy 1.16 and will raise an error in the future.\n",
      "  design_matrix = np.hstack((x[:, None] for x in independent_vars))\n"
     ]
    },
    {
     "name": "stdout",
     "output_type": "stream",
     "text": [
      "Simulation number 9 is complete!\n",
      "==========================================\n",
      "==========================================\n",
      "Simulation number 10 is in progress...\n",
      "Simulation size is 8593\n",
      "------------------------------------------\n",
      "Simulating data...\n",
      "Simulating Availability...\n",
      "Converting data from wide to long...\n",
      "Simulating Choices...\n"
     ]
    },
    {
     "data": {
      "application/vnd.jupyter.widget-view+json": {
       "model_id": "ce5762a6b37b4ff5a2aab016f2d23024",
       "version_major": 2,
       "version_minor": 0
      },
      "text/plain": [
       "HBox(children=(IntProgress(value=0, description='Simulating Choices', max=8593, style=ProgressStyle(descriptio…"
      ]
     },
     "metadata": {},
     "output_type": "display_data"
    },
    {
     "name": "stdout",
     "output_type": "stream",
     "text": [
      "\n",
      "Estimating the choice model...\n",
      "Log-likelihood at zero: -16,291.7097\n",
      "Initial Log-likelihood: -16,291.7097\n"
     ]
    },
    {
     "name": "stderr",
     "output_type": "stream",
     "text": [
      "/Users/mobouzaghrane/opt/anaconda3/lib/python3.7/site-packages/scipy/optimize/_minimize.py:505: RuntimeWarning: Method BFGS does not use Hessian information (hess).\n",
      "  RuntimeWarning)\n"
     ]
    },
    {
     "name": "stdout",
     "output_type": "stream",
     "text": [
      "Estimation Time for Point Estimation: 0.66 seconds.\n",
      "Final log-likelihood: -5,952.7233\n",
      "Estimating Causal Effects...\n"
     ]
    },
    {
     "name": "stderr",
     "output_type": "stream",
     "text": [
      "/Users/mobouzaghrane/opt/anaconda3/lib/python3.7/site-packages/pylogit/choice_tools.py:703: FutureWarning: arrays to stack must be passed as a \"sequence\" type such as list or tuple. Support for non-sequence iterables such as generators is deprecated as of NumPy 1.16 and will raise an error in the future.\n",
      "  design_matrix = np.hstack((x[:, None] for x in independent_vars))\n"
     ]
    },
    {
     "name": "stdout",
     "output_type": "stream",
     "text": [
      "Simulation number 10 is complete!\n",
      "==========================================\n",
      "==========================================\n",
      "Simulation number 11 is in progress...\n",
      "Simulation size is 8371\n",
      "------------------------------------------\n",
      "Simulating data...\n",
      "Simulating Availability...\n",
      "Converting data from wide to long...\n",
      "Simulating Choices...\n"
     ]
    },
    {
     "data": {
      "application/vnd.jupyter.widget-view+json": {
       "model_id": "d20062d294fa4c458279670b976e1f12",
       "version_major": 2,
       "version_minor": 0
      },
      "text/plain": [
       "HBox(children=(IntProgress(value=0, description='Simulating Choices', max=8371, style=ProgressStyle(descriptio…"
      ]
     },
     "metadata": {},
     "output_type": "display_data"
    },
    {
     "name": "stdout",
     "output_type": "stream",
     "text": [
      "\n",
      "Estimating the choice model...\n",
      "Log-likelihood at zero: -15,912.1397\n",
      "Initial Log-likelihood: -15,912.1397\n"
     ]
    },
    {
     "name": "stderr",
     "output_type": "stream",
     "text": [
      "/Users/mobouzaghrane/opt/anaconda3/lib/python3.7/site-packages/scipy/optimize/_minimize.py:505: RuntimeWarning: Method BFGS does not use Hessian information (hess).\n",
      "  RuntimeWarning)\n"
     ]
    },
    {
     "name": "stdout",
     "output_type": "stream",
     "text": [
      "Estimation Time for Point Estimation: 0.51 seconds.\n",
      "Final log-likelihood: -5,952.3440\n",
      "Estimating Causal Effects...\n"
     ]
    },
    {
     "name": "stderr",
     "output_type": "stream",
     "text": [
      "/Users/mobouzaghrane/opt/anaconda3/lib/python3.7/site-packages/pylogit/choice_tools.py:703: FutureWarning: arrays to stack must be passed as a \"sequence\" type such as list or tuple. Support for non-sequence iterables such as generators is deprecated as of NumPy 1.16 and will raise an error in the future.\n",
      "  design_matrix = np.hstack((x[:, None] for x in independent_vars))\n"
     ]
    },
    {
     "name": "stdout",
     "output_type": "stream",
     "text": [
      "Simulation number 11 is complete!\n",
      "==========================================\n",
      "==========================================\n",
      "Simulation number 12 is in progress...\n",
      "Simulation size is 3579\n",
      "------------------------------------------\n",
      "Simulating data...\n",
      "Simulating Availability...\n",
      "Converting data from wide to long...\n",
      "Simulating Choices...\n"
     ]
    },
    {
     "data": {
      "application/vnd.jupyter.widget-view+json": {
       "model_id": "04cf2b73a81f4df2acdb34723462513f",
       "version_major": 2,
       "version_minor": 0
      },
      "text/plain": [
       "HBox(children=(IntProgress(value=0, description='Simulating Choices', max=3579, style=ProgressStyle(descriptio…"
      ]
     },
     "metadata": {},
     "output_type": "display_data"
    },
    {
     "name": "stdout",
     "output_type": "stream",
     "text": [
      "\n",
      "Estimating the choice model...\n",
      "Log-likelihood at zero: -6,793.7677\n",
      "Initial Log-likelihood: -6,793.7677\n",
      "Estimation Time for Point Estimation: 0.20 seconds.\n",
      "Final log-likelihood: -2,469.5405\n"
     ]
    },
    {
     "name": "stderr",
     "output_type": "stream",
     "text": [
      "/Users/mobouzaghrane/opt/anaconda3/lib/python3.7/site-packages/scipy/optimize/_minimize.py:505: RuntimeWarning: Method BFGS does not use Hessian information (hess).\n",
      "  RuntimeWarning)\n"
     ]
    },
    {
     "name": "stdout",
     "output_type": "stream",
     "text": [
      "Estimating Causal Effects...\n",
      "Simulation number 12 is complete!\n",
      "==========================================\n",
      "==========================================\n",
      "Simulation number 13 is in progress...\n",
      "Simulation size is 6622\n",
      "------------------------------------------\n",
      "Simulating data...\n",
      "Simulating Availability...\n"
     ]
    },
    {
     "name": "stderr",
     "output_type": "stream",
     "text": [
      "/Users/mobouzaghrane/opt/anaconda3/lib/python3.7/site-packages/pylogit/choice_tools.py:703: FutureWarning: arrays to stack must be passed as a \"sequence\" type such as list or tuple. Support for non-sequence iterables such as generators is deprecated as of NumPy 1.16 and will raise an error in the future.\n",
      "  design_matrix = np.hstack((x[:, None] for x in independent_vars))\n"
     ]
    },
    {
     "name": "stdout",
     "output_type": "stream",
     "text": [
      "Converting data from wide to long...\n",
      "Simulating Choices...\n"
     ]
    },
    {
     "data": {
      "application/vnd.jupyter.widget-view+json": {
       "model_id": "de19edf7943d4610b54117d465c29d46",
       "version_major": 2,
       "version_minor": 0
      },
      "text/plain": [
       "HBox(children=(IntProgress(value=0, description='Simulating Choices', max=6622, style=ProgressStyle(descriptio…"
      ]
     },
     "metadata": {},
     "output_type": "display_data"
    },
    {
     "name": "stdout",
     "output_type": "stream",
     "text": [
      "\n",
      "Estimating the choice model...\n",
      "Log-likelihood at zero: -12,583.2958\n",
      "Initial Log-likelihood: -12,583.2958\n"
     ]
    },
    {
     "name": "stderr",
     "output_type": "stream",
     "text": [
      "/Users/mobouzaghrane/opt/anaconda3/lib/python3.7/site-packages/scipy/optimize/_minimize.py:505: RuntimeWarning: Method BFGS does not use Hessian information (hess).\n",
      "  RuntimeWarning)\n"
     ]
    },
    {
     "name": "stdout",
     "output_type": "stream",
     "text": [
      "Estimation Time for Point Estimation: 0.38 seconds.\n",
      "Final log-likelihood: -4,544.2456\n",
      "Estimating Causal Effects...\n"
     ]
    },
    {
     "name": "stderr",
     "output_type": "stream",
     "text": [
      "/Users/mobouzaghrane/opt/anaconda3/lib/python3.7/site-packages/pylogit/choice_tools.py:703: FutureWarning: arrays to stack must be passed as a \"sequence\" type such as list or tuple. Support for non-sequence iterables such as generators is deprecated as of NumPy 1.16 and will raise an error in the future.\n",
      "  design_matrix = np.hstack((x[:, None] for x in independent_vars))\n"
     ]
    },
    {
     "name": "stdout",
     "output_type": "stream",
     "text": [
      "Simulation number 13 is complete!\n",
      "==========================================\n",
      "==========================================\n",
      "Simulation number 14 is in progress...\n",
      "Simulation size is 8583\n",
      "------------------------------------------\n",
      "Simulating data...\n",
      "Simulating Availability...\n",
      "Converting data from wide to long...\n",
      "Simulating Choices...\n"
     ]
    },
    {
     "data": {
      "application/vnd.jupyter.widget-view+json": {
       "model_id": "d4e5f124e12a4e89964ce8caf73e61a5",
       "version_major": 2,
       "version_minor": 0
      },
      "text/plain": [
       "HBox(children=(IntProgress(value=0, description='Simulating Choices', max=8583, style=ProgressStyle(descriptio…"
      ]
     },
     "metadata": {},
     "output_type": "display_data"
    },
    {
     "name": "stdout",
     "output_type": "stream",
     "text": [
      "\n",
      "Estimating the choice model...\n",
      "Log-likelihood at zero: -16,306.9985\n",
      "Initial Log-likelihood: -16,306.9985\n"
     ]
    },
    {
     "name": "stderr",
     "output_type": "stream",
     "text": [
      "/Users/mobouzaghrane/opt/anaconda3/lib/python3.7/site-packages/scipy/optimize/_minimize.py:505: RuntimeWarning: Method BFGS does not use Hessian information (hess).\n",
      "  RuntimeWarning)\n"
     ]
    },
    {
     "name": "stdout",
     "output_type": "stream",
     "text": [
      "Estimation Time for Point Estimation: 0.48 seconds.\n",
      "Final log-likelihood: -6,079.5626\n",
      "Estimating Causal Effects...\n"
     ]
    },
    {
     "name": "stderr",
     "output_type": "stream",
     "text": [
      "/Users/mobouzaghrane/opt/anaconda3/lib/python3.7/site-packages/pylogit/choice_tools.py:703: FutureWarning: arrays to stack must be passed as a \"sequence\" type such as list or tuple. Support for non-sequence iterables such as generators is deprecated as of NumPy 1.16 and will raise an error in the future.\n",
      "  design_matrix = np.hstack((x[:, None] for x in independent_vars))\n"
     ]
    },
    {
     "name": "stdout",
     "output_type": "stream",
     "text": [
      "Simulation number 14 is complete!\n",
      "==========================================\n",
      "==========================================\n",
      "Simulation number 15 is in progress...\n",
      "Simulation size is 6056\n",
      "------------------------------------------\n",
      "Simulating data...\n",
      "Simulating Availability...\n",
      "Converting data from wide to long...\n",
      "Simulating Choices...\n"
     ]
    },
    {
     "data": {
      "application/vnd.jupyter.widget-view+json": {
       "model_id": "20dc05627218467f960968b5c7b45f62",
       "version_major": 2,
       "version_minor": 0
      },
      "text/plain": [
       "HBox(children=(IntProgress(value=0, description='Simulating Choices', max=6056, style=ProgressStyle(descriptio…"
      ]
     },
     "metadata": {},
     "output_type": "display_data"
    },
    {
     "name": "stdout",
     "output_type": "stream",
     "text": [
      "\n",
      "Estimating the choice model...\n",
      "Log-likelihood at zero: -11,502.5059\n",
      "Initial Log-likelihood: -11,502.5059\n"
     ]
    },
    {
     "name": "stderr",
     "output_type": "stream",
     "text": [
      "/Users/mobouzaghrane/opt/anaconda3/lib/python3.7/site-packages/scipy/optimize/_minimize.py:505: RuntimeWarning: Method BFGS does not use Hessian information (hess).\n",
      "  RuntimeWarning)\n"
     ]
    },
    {
     "name": "stdout",
     "output_type": "stream",
     "text": [
      "Estimation Time for Point Estimation: 0.35 seconds.\n",
      "Final log-likelihood: -4,258.6738\n",
      "Estimating Causal Effects...\n"
     ]
    },
    {
     "name": "stderr",
     "output_type": "stream",
     "text": [
      "/Users/mobouzaghrane/opt/anaconda3/lib/python3.7/site-packages/pylogit/choice_tools.py:703: FutureWarning: arrays to stack must be passed as a \"sequence\" type such as list or tuple. Support for non-sequence iterables such as generators is deprecated as of NumPy 1.16 and will raise an error in the future.\n",
      "  design_matrix = np.hstack((x[:, None] for x in independent_vars))\n"
     ]
    },
    {
     "name": "stdout",
     "output_type": "stream",
     "text": [
      "Simulation number 15 is complete!\n",
      "==========================================\n",
      "==========================================\n",
      "Simulation number 16 is in progress...\n",
      "Simulation size is 8443\n",
      "------------------------------------------\n",
      "Simulating data...\n",
      "Simulating Availability...\n",
      "Converting data from wide to long...\n",
      "Simulating Choices...\n"
     ]
    },
    {
     "data": {
      "application/vnd.jupyter.widget-view+json": {
       "model_id": "0e6a513ba44f440a9376bd7d8ec9bf6e",
       "version_major": 2,
       "version_minor": 0
      },
      "text/plain": [
       "HBox(children=(IntProgress(value=0, description='Simulating Choices', max=8443, style=ProgressStyle(descriptio…"
      ]
     },
     "metadata": {},
     "output_type": "display_data"
    },
    {
     "name": "stdout",
     "output_type": "stream",
     "text": [
      "\n",
      "Estimating the choice model...\n",
      "Log-likelihood at zero: -15,994.8211\n",
      "Initial Log-likelihood: -15,994.8211\n"
     ]
    },
    {
     "name": "stderr",
     "output_type": "stream",
     "text": [
      "/Users/mobouzaghrane/opt/anaconda3/lib/python3.7/site-packages/scipy/optimize/_minimize.py:505: RuntimeWarning: Method BFGS does not use Hessian information (hess).\n",
      "  RuntimeWarning)\n"
     ]
    },
    {
     "name": "stdout",
     "output_type": "stream",
     "text": [
      "Estimation Time for Point Estimation: 0.50 seconds.\n",
      "Final log-likelihood: -6,069.6244\n",
      "Estimating Causal Effects...\n"
     ]
    },
    {
     "name": "stderr",
     "output_type": "stream",
     "text": [
      "/Users/mobouzaghrane/opt/anaconda3/lib/python3.7/site-packages/pylogit/choice_tools.py:703: FutureWarning: arrays to stack must be passed as a \"sequence\" type such as list or tuple. Support for non-sequence iterables such as generators is deprecated as of NumPy 1.16 and will raise an error in the future.\n",
      "  design_matrix = np.hstack((x[:, None] for x in independent_vars))\n"
     ]
    },
    {
     "name": "stdout",
     "output_type": "stream",
     "text": [
      "Simulation number 16 is complete!\n",
      "==========================================\n",
      "==========================================\n",
      "Simulation number 17 is in progress...\n",
      "Simulation size is 8505\n",
      "------------------------------------------\n",
      "Simulating data...\n",
      "Simulating Availability...\n",
      "Converting data from wide to long...\n",
      "Simulating Choices...\n"
     ]
    },
    {
     "data": {
      "application/vnd.jupyter.widget-view+json": {
       "model_id": "f30199bc881a497e81db6822900842ec",
       "version_major": 2,
       "version_minor": 0
      },
      "text/plain": [
       "HBox(children=(IntProgress(value=0, description='Simulating Choices', max=8505, style=ProgressStyle(descriptio…"
      ]
     },
     "metadata": {},
     "output_type": "display_data"
    },
    {
     "name": "stdout",
     "output_type": "stream",
     "text": [
      "\n",
      "Estimating the choice model...\n",
      "Log-likelihood at zero: -16,138.1131\n",
      "Initial Log-likelihood: -16,138.1131\n"
     ]
    },
    {
     "name": "stderr",
     "output_type": "stream",
     "text": [
      "/Users/mobouzaghrane/opt/anaconda3/lib/python3.7/site-packages/scipy/optimize/_minimize.py:505: RuntimeWarning: Method BFGS does not use Hessian information (hess).\n",
      "  RuntimeWarning)\n"
     ]
    },
    {
     "name": "stdout",
     "output_type": "stream",
     "text": [
      "Estimation Time for Point Estimation: 0.44 seconds.\n",
      "Final log-likelihood: -5,899.4162\n",
      "Estimating Causal Effects...\n"
     ]
    },
    {
     "name": "stderr",
     "output_type": "stream",
     "text": [
      "/Users/mobouzaghrane/opt/anaconda3/lib/python3.7/site-packages/pylogit/choice_tools.py:703: FutureWarning: arrays to stack must be passed as a \"sequence\" type such as list or tuple. Support for non-sequence iterables such as generators is deprecated as of NumPy 1.16 and will raise an error in the future.\n",
      "  design_matrix = np.hstack((x[:, None] for x in independent_vars))\n"
     ]
    },
    {
     "name": "stdout",
     "output_type": "stream",
     "text": [
      "Simulation number 17 is complete!\n",
      "==========================================\n",
      "==========================================\n",
      "Simulation number 18 is in progress...\n",
      "Simulation size is 5221\n",
      "------------------------------------------\n",
      "Simulating data...\n",
      "Simulating Availability...\n",
      "Converting data from wide to long...\n",
      "Simulating Choices...\n"
     ]
    },
    {
     "data": {
      "application/vnd.jupyter.widget-view+json": {
       "model_id": "5bd5a1b2778745f3a5445adbd37cf489",
       "version_major": 2,
       "version_minor": 0
      },
      "text/plain": [
       "HBox(children=(IntProgress(value=0, description='Simulating Choices', max=5221, style=ProgressStyle(descriptio…"
      ]
     },
     "metadata": {},
     "output_type": "display_data"
    },
    {
     "name": "stdout",
     "output_type": "stream",
     "text": [
      "\n",
      "Estimating the choice model...\n",
      "Log-likelihood at zero: -9,892.5438\n",
      "Initial Log-likelihood: -9,892.5438\n"
     ]
    },
    {
     "name": "stderr",
     "output_type": "stream",
     "text": [
      "/Users/mobouzaghrane/opt/anaconda3/lib/python3.7/site-packages/scipy/optimize/_minimize.py:505: RuntimeWarning: Method BFGS does not use Hessian information (hess).\n",
      "  RuntimeWarning)\n"
     ]
    },
    {
     "name": "stdout",
     "output_type": "stream",
     "text": [
      "Estimation Time for Point Estimation: 0.30 seconds.\n",
      "Final log-likelihood: -3,591.1743\n",
      "Estimating Causal Effects...\n"
     ]
    },
    {
     "name": "stderr",
     "output_type": "stream",
     "text": [
      "/Users/mobouzaghrane/opt/anaconda3/lib/python3.7/site-packages/pylogit/choice_tools.py:703: FutureWarning: arrays to stack must be passed as a \"sequence\" type such as list or tuple. Support for non-sequence iterables such as generators is deprecated as of NumPy 1.16 and will raise an error in the future.\n",
      "  design_matrix = np.hstack((x[:, None] for x in independent_vars))\n"
     ]
    },
    {
     "name": "stdout",
     "output_type": "stream",
     "text": [
      "Simulation number 18 is complete!\n",
      "==========================================\n",
      "==========================================\n",
      "Simulation number 19 is in progress...\n",
      "Simulation size is 5807\n",
      "------------------------------------------\n",
      "Simulating data...\n",
      "Simulating Availability...\n",
      "Converting data from wide to long...\n",
      "Simulating Choices...\n"
     ]
    },
    {
     "data": {
      "application/vnd.jupyter.widget-view+json": {
       "model_id": "29844d2a52224c1ea84ce157b38e1456",
       "version_major": 2,
       "version_minor": 0
      },
      "text/plain": [
       "HBox(children=(IntProgress(value=0, description='Simulating Choices', max=5807, style=ProgressStyle(descriptio…"
      ]
     },
     "metadata": {},
     "output_type": "display_data"
    },
    {
     "name": "stdout",
     "output_type": "stream",
     "text": [
      "\n",
      "Estimating the choice model...\n",
      "Log-likelihood at zero: -11,012.6603\n",
      "Initial Log-likelihood: -11,012.6603\n"
     ]
    },
    {
     "name": "stderr",
     "output_type": "stream",
     "text": [
      "/Users/mobouzaghrane/opt/anaconda3/lib/python3.7/site-packages/scipy/optimize/_minimize.py:505: RuntimeWarning: Method BFGS does not use Hessian information (hess).\n",
      "  RuntimeWarning)\n"
     ]
    },
    {
     "name": "stdout",
     "output_type": "stream",
     "text": [
      "Estimation Time for Point Estimation: 0.36 seconds.\n",
      "Final log-likelihood: -4,158.1165\n",
      "Estimating Causal Effects...\n"
     ]
    },
    {
     "name": "stderr",
     "output_type": "stream",
     "text": [
      "/Users/mobouzaghrane/opt/anaconda3/lib/python3.7/site-packages/pylogit/choice_tools.py:703: FutureWarning: arrays to stack must be passed as a \"sequence\" type such as list or tuple. Support for non-sequence iterables such as generators is deprecated as of NumPy 1.16 and will raise an error in the future.\n",
      "  design_matrix = np.hstack((x[:, None] for x in independent_vars))\n"
     ]
    },
    {
     "name": "stdout",
     "output_type": "stream",
     "text": [
      "Simulation number 19 is complete!\n",
      "==========================================\n",
      "==========================================\n",
      "Simulation number 20 is in progress...\n",
      "Simulation size is 8273\n",
      "------------------------------------------\n",
      "Simulating data...\n",
      "Simulating Availability...\n",
      "Converting data from wide to long...\n",
      "Simulating Choices...\n"
     ]
    },
    {
     "data": {
      "application/vnd.jupyter.widget-view+json": {
       "model_id": "62476b5f5d7f42ff9f024257c73bafb3",
       "version_major": 2,
       "version_minor": 0
      },
      "text/plain": [
       "HBox(children=(IntProgress(value=0, description='Simulating Choices', max=8273, style=ProgressStyle(descriptio…"
      ]
     },
     "metadata": {},
     "output_type": "display_data"
    },
    {
     "name": "stdout",
     "output_type": "stream",
     "text": [
      "\n",
      "Estimating the choice model...\n",
      "Log-likelihood at zero: -15,723.8000\n",
      "Initial Log-likelihood: -15,723.8000\n"
     ]
    },
    {
     "name": "stderr",
     "output_type": "stream",
     "text": [
      "/Users/mobouzaghrane/opt/anaconda3/lib/python3.7/site-packages/scipy/optimize/_minimize.py:505: RuntimeWarning: Method BFGS does not use Hessian information (hess).\n",
      "  RuntimeWarning)\n"
     ]
    },
    {
     "name": "stdout",
     "output_type": "stream",
     "text": [
      "Estimation Time for Point Estimation: 0.72 seconds.\n",
      "Final log-likelihood: -5,873.4407\n",
      "Estimating Causal Effects...\n"
     ]
    },
    {
     "name": "stderr",
     "output_type": "stream",
     "text": [
      "/Users/mobouzaghrane/opt/anaconda3/lib/python3.7/site-packages/pylogit/choice_tools.py:703: FutureWarning: arrays to stack must be passed as a \"sequence\" type such as list or tuple. Support for non-sequence iterables such as generators is deprecated as of NumPy 1.16 and will raise an error in the future.\n",
      "  design_matrix = np.hstack((x[:, None] for x in independent_vars))\n"
     ]
    },
    {
     "name": "stdout",
     "output_type": "stream",
     "text": [
      "Simulation number 20 is complete!\n",
      "==========================================\n",
      "==========================================\n",
      "Simulation number 21 is in progress...\n",
      "Simulation size is 6520\n",
      "------------------------------------------\n",
      "Simulating data...\n",
      "Simulating Availability...\n",
      "Converting data from wide to long...\n",
      "Simulating Choices...\n"
     ]
    },
    {
     "data": {
      "application/vnd.jupyter.widget-view+json": {
       "model_id": "7419186290524a17a5976a95d6878950",
       "version_major": 2,
       "version_minor": 0
      },
      "text/plain": [
       "HBox(children=(IntProgress(value=0, description='Simulating Choices', max=6520, style=ProgressStyle(descriptio…"
      ]
     },
     "metadata": {},
     "output_type": "display_data"
    },
    {
     "name": "stdout",
     "output_type": "stream",
     "text": [
      "\n",
      "Estimating the choice model...\n",
      "Log-likelihood at zero: -12,343.1857\n",
      "Initial Log-likelihood: -12,343.1857\n"
     ]
    },
    {
     "name": "stderr",
     "output_type": "stream",
     "text": [
      "/Users/mobouzaghrane/opt/anaconda3/lib/python3.7/site-packages/scipy/optimize/_minimize.py:505: RuntimeWarning: Method BFGS does not use Hessian information (hess).\n",
      "  RuntimeWarning)\n"
     ]
    },
    {
     "name": "stdout",
     "output_type": "stream",
     "text": [
      "Estimation Time for Point Estimation: 0.45 seconds.\n",
      "Final log-likelihood: -4,526.7758\n",
      "Estimating Causal Effects...\n"
     ]
    },
    {
     "name": "stderr",
     "output_type": "stream",
     "text": [
      "/Users/mobouzaghrane/opt/anaconda3/lib/python3.7/site-packages/pylogit/choice_tools.py:703: FutureWarning: arrays to stack must be passed as a \"sequence\" type such as list or tuple. Support for non-sequence iterables such as generators is deprecated as of NumPy 1.16 and will raise an error in the future.\n",
      "  design_matrix = np.hstack((x[:, None] for x in independent_vars))\n"
     ]
    },
    {
     "name": "stdout",
     "output_type": "stream",
     "text": [
      "Simulation number 21 is complete!\n",
      "==========================================\n",
      "==========================================\n",
      "Simulation number 22 is in progress...\n",
      "Simulation size is 8099\n",
      "------------------------------------------\n",
      "Simulating data...\n",
      "Simulating Availability...\n",
      "Converting data from wide to long...\n",
      "Simulating Choices...\n"
     ]
    },
    {
     "data": {
      "application/vnd.jupyter.widget-view+json": {
       "model_id": "dc8ee0e464ab41c5bdd0162f7e303bec",
       "version_major": 2,
       "version_minor": 0
      },
      "text/plain": [
       "HBox(children=(IntProgress(value=0, description='Simulating Choices', max=8099, style=ProgressStyle(descriptio…"
      ]
     },
     "metadata": {},
     "output_type": "display_data"
    },
    {
     "name": "stdout",
     "output_type": "stream",
     "text": [
      "\n",
      "Estimating the choice model...\n",
      "Log-likelihood at zero: -15,348.9462\n",
      "Initial Log-likelihood: -15,348.9462\n"
     ]
    },
    {
     "name": "stderr",
     "output_type": "stream",
     "text": [
      "/Users/mobouzaghrane/opt/anaconda3/lib/python3.7/site-packages/scipy/optimize/_minimize.py:505: RuntimeWarning: Method BFGS does not use Hessian information (hess).\n",
      "  RuntimeWarning)\n"
     ]
    },
    {
     "name": "stdout",
     "output_type": "stream",
     "text": [
      "Estimation Time for Point Estimation: 0.67 seconds.\n",
      "Final log-likelihood: -5,658.9898\n",
      "Estimating Causal Effects...\n"
     ]
    },
    {
     "name": "stderr",
     "output_type": "stream",
     "text": [
      "/Users/mobouzaghrane/opt/anaconda3/lib/python3.7/site-packages/pylogit/choice_tools.py:703: FutureWarning: arrays to stack must be passed as a \"sequence\" type such as list or tuple. Support for non-sequence iterables such as generators is deprecated as of NumPy 1.16 and will raise an error in the future.\n",
      "  design_matrix = np.hstack((x[:, None] for x in independent_vars))\n"
     ]
    },
    {
     "name": "stdout",
     "output_type": "stream",
     "text": [
      "Simulation number 22 is complete!\n",
      "==========================================\n",
      "==========================================\n",
      "Simulation number 23 is in progress...\n",
      "Simulation size is 8033\n",
      "------------------------------------------\n",
      "Simulating data...\n",
      "Simulating Availability...\n",
      "Converting data from wide to long...\n",
      "Simulating Choices...\n"
     ]
    },
    {
     "data": {
      "application/vnd.jupyter.widget-view+json": {
       "model_id": "d28ebc845a314f6ba893e514504ca2d2",
       "version_major": 2,
       "version_minor": 0
      },
      "text/plain": [
       "HBox(children=(IntProgress(value=0, description='Simulating Choices', max=8033, style=ProgressStyle(descriptio…"
      ]
     },
     "metadata": {},
     "output_type": "display_data"
    },
    {
     "name": "stdout",
     "output_type": "stream",
     "text": [
      "\n",
      "Estimating the choice model...\n",
      "Log-likelihood at zero: -15,243.5802\n",
      "Initial Log-likelihood: -15,243.5802\n"
     ]
    },
    {
     "name": "stderr",
     "output_type": "stream",
     "text": [
      "/Users/mobouzaghrane/opt/anaconda3/lib/python3.7/site-packages/scipy/optimize/_minimize.py:505: RuntimeWarning: Method BFGS does not use Hessian information (hess).\n",
      "  RuntimeWarning)\n"
     ]
    },
    {
     "name": "stdout",
     "output_type": "stream",
     "text": [
      "Estimation Time for Point Estimation: 0.47 seconds.\n",
      "Final log-likelihood: -5,747.3391\n",
      "Estimating Causal Effects...\n"
     ]
    },
    {
     "name": "stderr",
     "output_type": "stream",
     "text": [
      "/Users/mobouzaghrane/opt/anaconda3/lib/python3.7/site-packages/pylogit/choice_tools.py:703: FutureWarning: arrays to stack must be passed as a \"sequence\" type such as list or tuple. Support for non-sequence iterables such as generators is deprecated as of NumPy 1.16 and will raise an error in the future.\n",
      "  design_matrix = np.hstack((x[:, None] for x in independent_vars))\n"
     ]
    },
    {
     "name": "stdout",
     "output_type": "stream",
     "text": [
      "Simulation number 23 is complete!\n",
      "==========================================\n",
      "==========================================\n",
      "Simulation number 24 is in progress...\n",
      "Simulation size is 6072\n",
      "------------------------------------------\n",
      "Simulating data...\n",
      "Simulating Availability...\n",
      "Converting data from wide to long...\n",
      "Simulating Choices...\n"
     ]
    },
    {
     "data": {
      "application/vnd.jupyter.widget-view+json": {
       "model_id": "a18d29a529d04cbdac28d29fbac1d7f1",
       "version_major": 2,
       "version_minor": 0
      },
      "text/plain": [
       "HBox(children=(IntProgress(value=0, description='Simulating Choices', max=6072, style=ProgressStyle(descriptio…"
      ]
     },
     "metadata": {},
     "output_type": "display_data"
    },
    {
     "name": "stdout",
     "output_type": "stream",
     "text": [
      "\n",
      "Estimating the choice model...\n",
      "Log-likelihood at zero: -11,555.7302\n",
      "Initial Log-likelihood: -11,555.7302\n"
     ]
    },
    {
     "name": "stderr",
     "output_type": "stream",
     "text": [
      "/Users/mobouzaghrane/opt/anaconda3/lib/python3.7/site-packages/scipy/optimize/_minimize.py:505: RuntimeWarning: Method BFGS does not use Hessian information (hess).\n",
      "  RuntimeWarning)\n"
     ]
    },
    {
     "name": "stdout",
     "output_type": "stream",
     "text": [
      "Estimation Time for Point Estimation: 0.34 seconds.\n",
      "Final log-likelihood: -4,340.9160\n",
      "Estimating Causal Effects...\n"
     ]
    },
    {
     "name": "stderr",
     "output_type": "stream",
     "text": [
      "/Users/mobouzaghrane/opt/anaconda3/lib/python3.7/site-packages/pylogit/choice_tools.py:703: FutureWarning: arrays to stack must be passed as a \"sequence\" type such as list or tuple. Support for non-sequence iterables such as generators is deprecated as of NumPy 1.16 and will raise an error in the future.\n",
      "  design_matrix = np.hstack((x[:, None] for x in independent_vars))\n"
     ]
    },
    {
     "name": "stdout",
     "output_type": "stream",
     "text": [
      "Simulation number 24 is complete!\n",
      "==========================================\n",
      "==========================================\n",
      "Simulation number 25 is in progress...\n",
      "Simulation size is 8261\n",
      "------------------------------------------\n",
      "Simulating data...\n",
      "Simulating Availability...\n",
      "Converting data from wide to long...\n",
      "Simulating Choices...\n"
     ]
    },
    {
     "data": {
      "application/vnd.jupyter.widget-view+json": {
       "model_id": "f3481635fd354d8cbcf07f8407751153",
       "version_major": 2,
       "version_minor": 0
      },
      "text/plain": [
       "HBox(children=(IntProgress(value=0, description='Simulating Choices', max=8261, style=ProgressStyle(descriptio…"
      ]
     },
     "metadata": {},
     "output_type": "display_data"
    },
    {
     "name": "stdout",
     "output_type": "stream",
     "text": [
      "\n",
      "Estimating the choice model...\n",
      "Log-likelihood at zero: -15,651.8356\n",
      "Initial Log-likelihood: -15,651.8356\n"
     ]
    },
    {
     "name": "stderr",
     "output_type": "stream",
     "text": [
      "/Users/mobouzaghrane/opt/anaconda3/lib/python3.7/site-packages/scipy/optimize/_minimize.py:505: RuntimeWarning: Method BFGS does not use Hessian information (hess).\n",
      "  RuntimeWarning)\n"
     ]
    },
    {
     "name": "stdout",
     "output_type": "stream",
     "text": [
      "Estimation Time for Point Estimation: 0.52 seconds.\n",
      "Final log-likelihood: -5,776.2397\n",
      "Estimating Causal Effects...\n"
     ]
    },
    {
     "name": "stderr",
     "output_type": "stream",
     "text": [
      "/Users/mobouzaghrane/opt/anaconda3/lib/python3.7/site-packages/pylogit/choice_tools.py:703: FutureWarning: arrays to stack must be passed as a \"sequence\" type such as list or tuple. Support for non-sequence iterables such as generators is deprecated as of NumPy 1.16 and will raise an error in the future.\n",
      "  design_matrix = np.hstack((x[:, None] for x in independent_vars))\n"
     ]
    },
    {
     "name": "stdout",
     "output_type": "stream",
     "text": [
      "Simulation number 25 is complete!\n",
      "==========================================\n",
      "==========================================\n",
      "Simulation number 26 is in progress...\n",
      "Simulation size is 8037\n",
      "------------------------------------------\n",
      "Simulating data...\n",
      "Simulating Availability...\n",
      "Converting data from wide to long...\n",
      "Simulating Choices...\n"
     ]
    },
    {
     "data": {
      "application/vnd.jupyter.widget-view+json": {
       "model_id": "5d7cb478d03b47648c0baa06da666383",
       "version_major": 2,
       "version_minor": 0
      },
      "text/plain": [
       "HBox(children=(IntProgress(value=0, description='Simulating Choices', max=8037, style=ProgressStyle(descriptio…"
      ]
     },
     "metadata": {},
     "output_type": "display_data"
    },
    {
     "name": "stdout",
     "output_type": "stream",
     "text": [
      "\n",
      "Estimating the choice model...\n",
      "Log-likelihood at zero: -15,278.4478\n",
      "Initial Log-likelihood: -15,278.4478\n"
     ]
    },
    {
     "name": "stderr",
     "output_type": "stream",
     "text": [
      "/Users/mobouzaghrane/opt/anaconda3/lib/python3.7/site-packages/scipy/optimize/_minimize.py:505: RuntimeWarning: Method BFGS does not use Hessian information (hess).\n",
      "  RuntimeWarning)\n"
     ]
    },
    {
     "name": "stdout",
     "output_type": "stream",
     "text": [
      "Estimation Time for Point Estimation: 0.41 seconds.\n",
      "Final log-likelihood: -5,673.1461\n",
      "Estimating Causal Effects...\n"
     ]
    },
    {
     "name": "stderr",
     "output_type": "stream",
     "text": [
      "/Users/mobouzaghrane/opt/anaconda3/lib/python3.7/site-packages/pylogit/choice_tools.py:703: FutureWarning: arrays to stack must be passed as a \"sequence\" type such as list or tuple. Support for non-sequence iterables such as generators is deprecated as of NumPy 1.16 and will raise an error in the future.\n",
      "  design_matrix = np.hstack((x[:, None] for x in independent_vars))\n"
     ]
    },
    {
     "name": "stdout",
     "output_type": "stream",
     "text": [
      "Simulation number 26 is complete!\n",
      "==========================================\n",
      "==========================================\n",
      "Simulation number 27 is in progress...\n",
      "Simulation size is 6481\n",
      "------------------------------------------\n",
      "Simulating data...\n",
      "Simulating Availability...\n",
      "Converting data from wide to long...\n",
      "Simulating Choices...\n"
     ]
    },
    {
     "data": {
      "application/vnd.jupyter.widget-view+json": {
       "model_id": "904a3f4fb9a24db5bb568e9471d1b13e",
       "version_major": 2,
       "version_minor": 0
      },
      "text/plain": [
       "HBox(children=(IntProgress(value=0, description='Simulating Choices', max=6481, style=ProgressStyle(descriptio…"
      ]
     },
     "metadata": {},
     "output_type": "display_data"
    },
    {
     "name": "stdout",
     "output_type": "stream",
     "text": [
      "\n",
      "Estimating the choice model...\n",
      "Log-likelihood at zero: -12,278.5075\n",
      "Initial Log-likelihood: -12,278.5075\n"
     ]
    },
    {
     "name": "stderr",
     "output_type": "stream",
     "text": [
      "/Users/mobouzaghrane/opt/anaconda3/lib/python3.7/site-packages/scipy/optimize/_minimize.py:505: RuntimeWarning: Method BFGS does not use Hessian information (hess).\n",
      "  RuntimeWarning)\n"
     ]
    },
    {
     "name": "stdout",
     "output_type": "stream",
     "text": [
      "Estimation Time for Point Estimation: 0.58 seconds.\n",
      "Final log-likelihood: -4,552.0503\n",
      "Estimating Causal Effects...\n"
     ]
    },
    {
     "name": "stderr",
     "output_type": "stream",
     "text": [
      "/Users/mobouzaghrane/opt/anaconda3/lib/python3.7/site-packages/pylogit/choice_tools.py:703: FutureWarning: arrays to stack must be passed as a \"sequence\" type such as list or tuple. Support for non-sequence iterables such as generators is deprecated as of NumPy 1.16 and will raise an error in the future.\n",
      "  design_matrix = np.hstack((x[:, None] for x in independent_vars))\n"
     ]
    },
    {
     "name": "stdout",
     "output_type": "stream",
     "text": [
      "Simulation number 27 is complete!\n",
      "==========================================\n",
      "==========================================\n",
      "Simulation number 28 is in progress...\n",
      "Simulation size is 4049\n",
      "------------------------------------------\n",
      "Simulating data...\n",
      "Simulating Availability...\n",
      "Converting data from wide to long...\n",
      "Simulating Choices...\n"
     ]
    },
    {
     "data": {
      "application/vnd.jupyter.widget-view+json": {
       "model_id": "a06ab1b4b04c4885be8c9869681d1892",
       "version_major": 2,
       "version_minor": 0
      },
      "text/plain": [
       "HBox(children=(IntProgress(value=0, description='Simulating Choices', max=4049, style=ProgressStyle(descriptio…"
      ]
     },
     "metadata": {},
     "output_type": "display_data"
    },
    {
     "name": "stdout",
     "output_type": "stream",
     "text": [
      "\n",
      "Estimating the choice model...\n",
      "Log-likelihood at zero: -7,680.2675\n",
      "Initial Log-likelihood: -7,680.2675\n"
     ]
    },
    {
     "name": "stderr",
     "output_type": "stream",
     "text": [
      "/Users/mobouzaghrane/opt/anaconda3/lib/python3.7/site-packages/scipy/optimize/_minimize.py:505: RuntimeWarning: Method BFGS does not use Hessian information (hess).\n",
      "  RuntimeWarning)\n"
     ]
    },
    {
     "name": "stdout",
     "output_type": "stream",
     "text": [
      "Estimation Time for Point Estimation: 0.22 seconds.\n",
      "Final log-likelihood: -2,899.5980\n",
      "Estimating Causal Effects...\n",
      "Simulation number 28 is complete!\n",
      "==========================================\n",
      "==========================================\n",
      "Simulation number 29 is in progress...\n",
      "Simulation size is 5977\n",
      "------------------------------------------\n",
      "Simulating data...\n"
     ]
    },
    {
     "name": "stderr",
     "output_type": "stream",
     "text": [
      "/Users/mobouzaghrane/opt/anaconda3/lib/python3.7/site-packages/pylogit/choice_tools.py:703: FutureWarning: arrays to stack must be passed as a \"sequence\" type such as list or tuple. Support for non-sequence iterables such as generators is deprecated as of NumPy 1.16 and will raise an error in the future.\n",
      "  design_matrix = np.hstack((x[:, None] for x in independent_vars))\n"
     ]
    },
    {
     "name": "stdout",
     "output_type": "stream",
     "text": [
      "Simulating Availability...\n",
      "Converting data from wide to long...\n",
      "Simulating Choices...\n"
     ]
    },
    {
     "data": {
      "application/vnd.jupyter.widget-view+json": {
       "model_id": "2d4405d3f62d4635b5335b0a72b10749",
       "version_major": 2,
       "version_minor": 0
      },
      "text/plain": [
       "HBox(children=(IntProgress(value=0, description='Simulating Choices', max=5977, style=ProgressStyle(descriptio…"
      ]
     },
     "metadata": {},
     "output_type": "display_data"
    },
    {
     "name": "stdout",
     "output_type": "stream",
     "text": [
      "\n",
      "Estimating the choice model...\n",
      "Log-likelihood at zero: -11,327.4204\n",
      "Initial Log-likelihood: -11,327.4204\n"
     ]
    },
    {
     "name": "stderr",
     "output_type": "stream",
     "text": [
      "/Users/mobouzaghrane/opt/anaconda3/lib/python3.7/site-packages/scipy/optimize/_minimize.py:505: RuntimeWarning: Method BFGS does not use Hessian information (hess).\n",
      "  RuntimeWarning)\n"
     ]
    },
    {
     "name": "stdout",
     "output_type": "stream",
     "text": [
      "Estimation Time for Point Estimation: 0.35 seconds.\n",
      "Final log-likelihood: -4,112.5590\n",
      "Estimating Causal Effects...\n"
     ]
    },
    {
     "name": "stderr",
     "output_type": "stream",
     "text": [
      "/Users/mobouzaghrane/opt/anaconda3/lib/python3.7/site-packages/pylogit/choice_tools.py:703: FutureWarning: arrays to stack must be passed as a \"sequence\" type such as list or tuple. Support for non-sequence iterables such as generators is deprecated as of NumPy 1.16 and will raise an error in the future.\n",
      "  design_matrix = np.hstack((x[:, None] for x in independent_vars))\n"
     ]
    },
    {
     "name": "stdout",
     "output_type": "stream",
     "text": [
      "Simulation number 29 is complete!\n",
      "==========================================\n",
      "==========================================\n",
      "Simulation number 30 is in progress...\n",
      "Simulation size is 4791\n",
      "------------------------------------------\n",
      "Simulating data...\n",
      "Simulating Availability...\n",
      "Converting data from wide to long...\n",
      "Simulating Choices...\n"
     ]
    },
    {
     "data": {
      "application/vnd.jupyter.widget-view+json": {
       "model_id": "83ef4904db5d4c4086b0cb9ec3bc878c",
       "version_major": 2,
       "version_minor": 0
      },
      "text/plain": [
       "HBox(children=(IntProgress(value=0, description='Simulating Choices', max=4791, style=ProgressStyle(descriptio…"
      ]
     },
     "metadata": {},
     "output_type": "display_data"
    },
    {
     "name": "stdout",
     "output_type": "stream",
     "text": [
      "\n",
      "Estimating the choice model...\n",
      "Log-likelihood at zero: -9,082.6105\n",
      "Initial Log-likelihood: -9,082.6105\n"
     ]
    },
    {
     "name": "stderr",
     "output_type": "stream",
     "text": [
      "/Users/mobouzaghrane/opt/anaconda3/lib/python3.7/site-packages/scipy/optimize/_minimize.py:505: RuntimeWarning: Method BFGS does not use Hessian information (hess).\n",
      "  RuntimeWarning)\n"
     ]
    },
    {
     "name": "stdout",
     "output_type": "stream",
     "text": [
      "Estimation Time for Point Estimation: 0.42 seconds.\n",
      "Final log-likelihood: -3,320.2585\n",
      "Estimating Causal Effects...\n"
     ]
    },
    {
     "name": "stderr",
     "output_type": "stream",
     "text": [
      "/Users/mobouzaghrane/opt/anaconda3/lib/python3.7/site-packages/pylogit/choice_tools.py:703: FutureWarning: arrays to stack must be passed as a \"sequence\" type such as list or tuple. Support for non-sequence iterables such as generators is deprecated as of NumPy 1.16 and will raise an error in the future.\n",
      "  design_matrix = np.hstack((x[:, None] for x in independent_vars))\n"
     ]
    },
    {
     "name": "stdout",
     "output_type": "stream",
     "text": [
      "Simulation number 30 is complete!\n",
      "==========================================\n",
      "==========================================\n",
      "Simulation number 31 is in progress...\n",
      "Simulation size is 8401\n",
      "------------------------------------------\n",
      "Simulating data...\n",
      "Simulating Availability...\n",
      "Converting data from wide to long...\n",
      "Simulating Choices...\n"
     ]
    },
    {
     "data": {
      "application/vnd.jupyter.widget-view+json": {
       "model_id": "db895cba444548e680101a44f4a76c1d",
       "version_major": 2,
       "version_minor": 0
      },
      "text/plain": [
       "HBox(children=(IntProgress(value=0, description='Simulating Choices', max=8401, style=ProgressStyle(descriptio…"
      ]
     },
     "metadata": {},
     "output_type": "display_data"
    },
    {
     "name": "stdout",
     "output_type": "stream",
     "text": [
      "\n",
      "Estimating the choice model...\n",
      "Log-likelihood at zero: -15,939.8457\n",
      "Initial Log-likelihood: -15,939.8457\n"
     ]
    },
    {
     "name": "stderr",
     "output_type": "stream",
     "text": [
      "/Users/mobouzaghrane/opt/anaconda3/lib/python3.7/site-packages/scipy/optimize/_minimize.py:505: RuntimeWarning: Method BFGS does not use Hessian information (hess).\n",
      "  RuntimeWarning)\n"
     ]
    },
    {
     "name": "stdout",
     "output_type": "stream",
     "text": [
      "Estimation Time for Point Estimation: 0.46 seconds.\n",
      "Final log-likelihood: -5,949.5024\n",
      "Estimating Causal Effects...\n"
     ]
    },
    {
     "name": "stderr",
     "output_type": "stream",
     "text": [
      "/Users/mobouzaghrane/opt/anaconda3/lib/python3.7/site-packages/pylogit/choice_tools.py:703: FutureWarning: arrays to stack must be passed as a \"sequence\" type such as list or tuple. Support for non-sequence iterables such as generators is deprecated as of NumPy 1.16 and will raise an error in the future.\n",
      "  design_matrix = np.hstack((x[:, None] for x in independent_vars))\n"
     ]
    },
    {
     "name": "stdout",
     "output_type": "stream",
     "text": [
      "Simulation number 31 is complete!\n",
      "==========================================\n",
      "==========================================\n",
      "Simulation number 32 is in progress...\n",
      "Simulation size is 7458\n",
      "------------------------------------------\n",
      "Simulating data...\n",
      "Simulating Availability...\n",
      "Converting data from wide to long...\n",
      "Simulating Choices...\n"
     ]
    },
    {
     "data": {
      "application/vnd.jupyter.widget-view+json": {
       "model_id": "9294264c84074481987e7775ca2421f8",
       "version_major": 2,
       "version_minor": 0
      },
      "text/plain": [
       "HBox(children=(IntProgress(value=0, description='Simulating Choices', max=7458, style=ProgressStyle(descriptio…"
      ]
     },
     "metadata": {},
     "output_type": "display_data"
    },
    {
     "name": "stdout",
     "output_type": "stream",
     "text": [
      "\n",
      "Estimating the choice model...\n",
      "Log-likelihood at zero: -14,162.0195\n",
      "Initial Log-likelihood: -14,162.0195\n"
     ]
    },
    {
     "name": "stderr",
     "output_type": "stream",
     "text": [
      "/Users/mobouzaghrane/opt/anaconda3/lib/python3.7/site-packages/scipy/optimize/_minimize.py:505: RuntimeWarning: Method BFGS does not use Hessian information (hess).\n",
      "  RuntimeWarning)\n"
     ]
    },
    {
     "name": "stdout",
     "output_type": "stream",
     "text": [
      "Estimation Time for Point Estimation: 0.55 seconds.\n",
      "Final log-likelihood: -5,232.1926\n",
      "Estimating Causal Effects...\n"
     ]
    },
    {
     "name": "stderr",
     "output_type": "stream",
     "text": [
      "/Users/mobouzaghrane/opt/anaconda3/lib/python3.7/site-packages/pylogit/choice_tools.py:703: FutureWarning: arrays to stack must be passed as a \"sequence\" type such as list or tuple. Support for non-sequence iterables such as generators is deprecated as of NumPy 1.16 and will raise an error in the future.\n",
      "  design_matrix = np.hstack((x[:, None] for x in independent_vars))\n"
     ]
    },
    {
     "name": "stdout",
     "output_type": "stream",
     "text": [
      "Simulation number 32 is complete!\n",
      "==========================================\n",
      "==========================================\n",
      "Simulation number 33 is in progress...\n",
      "Simulation size is 5864\n",
      "------------------------------------------\n",
      "Simulating data...\n",
      "Simulating Availability...\n",
      "Converting data from wide to long...\n",
      "Simulating Choices...\n"
     ]
    },
    {
     "data": {
      "application/vnd.jupyter.widget-view+json": {
       "model_id": "cfcbd2f91efb44adba72a7e6f65bc629",
       "version_major": 2,
       "version_minor": 0
      },
      "text/plain": [
       "HBox(children=(IntProgress(value=0, description='Simulating Choices', max=5864, style=ProgressStyle(descriptio…"
      ]
     },
     "metadata": {},
     "output_type": "display_data"
    },
    {
     "name": "stdout",
     "output_type": "stream",
     "text": [
      "\n",
      "Estimating the choice model...\n",
      "Log-likelihood at zero: -11,127.0307\n",
      "Initial Log-likelihood: -11,127.0307\n"
     ]
    },
    {
     "name": "stderr",
     "output_type": "stream",
     "text": [
      "/Users/mobouzaghrane/opt/anaconda3/lib/python3.7/site-packages/scipy/optimize/_minimize.py:505: RuntimeWarning: Method BFGS does not use Hessian information (hess).\n",
      "  RuntimeWarning)\n"
     ]
    },
    {
     "name": "stdout",
     "output_type": "stream",
     "text": [
      "Estimation Time for Point Estimation: 0.55 seconds.\n",
      "Final log-likelihood: -4,080.1476\n",
      "Estimating Causal Effects...\n"
     ]
    },
    {
     "name": "stderr",
     "output_type": "stream",
     "text": [
      "/Users/mobouzaghrane/opt/anaconda3/lib/python3.7/site-packages/pylogit/choice_tools.py:703: FutureWarning: arrays to stack must be passed as a \"sequence\" type such as list or tuple. Support for non-sequence iterables such as generators is deprecated as of NumPy 1.16 and will raise an error in the future.\n",
      "  design_matrix = np.hstack((x[:, None] for x in independent_vars))\n"
     ]
    },
    {
     "name": "stdout",
     "output_type": "stream",
     "text": [
      "Simulation number 33 is complete!\n",
      "==========================================\n",
      "==========================================\n",
      "Simulation number 34 is in progress...\n",
      "Simulation size is 3335\n",
      "------------------------------------------\n",
      "Simulating data...\n",
      "Simulating Availability...\n",
      "Converting data from wide to long...\n",
      "Simulating Choices...\n"
     ]
    },
    {
     "data": {
      "application/vnd.jupyter.widget-view+json": {
       "model_id": "26b640f57acb404e9c50c198f2e663ad",
       "version_major": 2,
       "version_minor": 0
      },
      "text/plain": [
       "HBox(children=(IntProgress(value=0, description='Simulating Choices', max=3335, style=ProgressStyle(descriptio…"
      ]
     },
     "metadata": {},
     "output_type": "display_data"
    },
    {
     "name": "stdout",
     "output_type": "stream",
     "text": [
      "\n",
      "Estimating the choice model...\n",
      "Log-likelihood at zero: -6,336.1560\n",
      "Initial Log-likelihood: -6,336.1560\n",
      "Estimation Time for Point Estimation: 0.20 seconds.\n",
      "Final log-likelihood: -2,218.1962\n"
     ]
    },
    {
     "name": "stderr",
     "output_type": "stream",
     "text": [
      "/Users/mobouzaghrane/opt/anaconda3/lib/python3.7/site-packages/scipy/optimize/_minimize.py:505: RuntimeWarning: Method BFGS does not use Hessian information (hess).\n",
      "  RuntimeWarning)\n"
     ]
    },
    {
     "name": "stdout",
     "output_type": "stream",
     "text": [
      "Estimating Causal Effects...\n",
      "Simulation number 34 is complete!\n",
      "==========================================\n",
      "==========================================\n",
      "Simulation number 35 is in progress...\n",
      "Simulation size is 6926\n",
      "------------------------------------------\n",
      "Simulating data...\n",
      "Simulating Availability...\n"
     ]
    },
    {
     "name": "stderr",
     "output_type": "stream",
     "text": [
      "/Users/mobouzaghrane/opt/anaconda3/lib/python3.7/site-packages/pylogit/choice_tools.py:703: FutureWarning: arrays to stack must be passed as a \"sequence\" type such as list or tuple. Support for non-sequence iterables such as generators is deprecated as of NumPy 1.16 and will raise an error in the future.\n",
      "  design_matrix = np.hstack((x[:, None] for x in independent_vars))\n"
     ]
    },
    {
     "name": "stdout",
     "output_type": "stream",
     "text": [
      "Converting data from wide to long...\n",
      "Simulating Choices...\n"
     ]
    },
    {
     "data": {
      "application/vnd.jupyter.widget-view+json": {
       "model_id": "b32f8eecbb00432083cade19b36e0c4e",
       "version_major": 2,
       "version_minor": 0
      },
      "text/plain": [
       "HBox(children=(IntProgress(value=0, description='Simulating Choices', max=6926, style=ProgressStyle(descriptio…"
      ]
     },
     "metadata": {},
     "output_type": "display_data"
    },
    {
     "name": "stdout",
     "output_type": "stream",
     "text": [
      "\n",
      "Estimating the choice model...\n",
      "Log-likelihood at zero: -13,180.3766\n",
      "Initial Log-likelihood: -13,180.3766\n"
     ]
    },
    {
     "name": "stderr",
     "output_type": "stream",
     "text": [
      "/Users/mobouzaghrane/opt/anaconda3/lib/python3.7/site-packages/scipy/optimize/_minimize.py:505: RuntimeWarning: Method BFGS does not use Hessian information (hess).\n",
      "  RuntimeWarning)\n"
     ]
    },
    {
     "name": "stdout",
     "output_type": "stream",
     "text": [
      "Estimation Time for Point Estimation: 0.40 seconds.\n",
      "Final log-likelihood: -4,869.3779\n",
      "Estimating Causal Effects...\n"
     ]
    },
    {
     "name": "stderr",
     "output_type": "stream",
     "text": [
      "/Users/mobouzaghrane/opt/anaconda3/lib/python3.7/site-packages/pylogit/choice_tools.py:703: FutureWarning: arrays to stack must be passed as a \"sequence\" type such as list or tuple. Support for non-sequence iterables such as generators is deprecated as of NumPy 1.16 and will raise an error in the future.\n",
      "  design_matrix = np.hstack((x[:, None] for x in independent_vars))\n"
     ]
    },
    {
     "name": "stdout",
     "output_type": "stream",
     "text": [
      "Simulation number 35 is complete!\n",
      "==========================================\n",
      "==========================================\n",
      "Simulation number 36 is in progress...\n",
      "Simulation size is 5325\n",
      "------------------------------------------\n",
      "Simulating data...\n",
      "Simulating Availability...\n",
      "Converting data from wide to long...\n",
      "Simulating Choices...\n"
     ]
    },
    {
     "data": {
      "application/vnd.jupyter.widget-view+json": {
       "model_id": "0b70b3aeb02145b3968837cc711907cd",
       "version_major": 2,
       "version_minor": 0
      },
      "text/plain": [
       "HBox(children=(IntProgress(value=0, description='Simulating Choices', max=5325, style=ProgressStyle(descriptio…"
      ]
     },
     "metadata": {},
     "output_type": "display_data"
    },
    {
     "name": "stdout",
     "output_type": "stream",
     "text": [
      "\n",
      "Estimating the choice model...\n",
      "Log-likelihood at zero: -10,113.4744\n",
      "Initial Log-likelihood: -10,113.4744\n"
     ]
    },
    {
     "name": "stderr",
     "output_type": "stream",
     "text": [
      "/Users/mobouzaghrane/opt/anaconda3/lib/python3.7/site-packages/scipy/optimize/_minimize.py:505: RuntimeWarning: Method BFGS does not use Hessian information (hess).\n",
      "  RuntimeWarning)\n"
     ]
    },
    {
     "name": "stdout",
     "output_type": "stream",
     "text": [
      "Estimation Time for Point Estimation: 0.39 seconds.\n",
      "Final log-likelihood: -3,711.1733\n",
      "Estimating Causal Effects...\n"
     ]
    },
    {
     "name": "stderr",
     "output_type": "stream",
     "text": [
      "/Users/mobouzaghrane/opt/anaconda3/lib/python3.7/site-packages/pylogit/choice_tools.py:703: FutureWarning: arrays to stack must be passed as a \"sequence\" type such as list or tuple. Support for non-sequence iterables such as generators is deprecated as of NumPy 1.16 and will raise an error in the future.\n",
      "  design_matrix = np.hstack((x[:, None] for x in independent_vars))\n"
     ]
    },
    {
     "name": "stdout",
     "output_type": "stream",
     "text": [
      "Simulation number 36 is complete!\n",
      "==========================================\n",
      "==========================================\n",
      "Simulation number 37 is in progress...\n",
      "Simulation size is 3190\n",
      "------------------------------------------\n",
      "Simulating data...\n",
      "Simulating Availability...\n",
      "Converting data from wide to long...\n",
      "Simulating Choices...\n"
     ]
    },
    {
     "data": {
      "application/vnd.jupyter.widget-view+json": {
       "model_id": "3268209b50544753b2b4e294c58eb1cc",
       "version_major": 2,
       "version_minor": 0
      },
      "text/plain": [
       "HBox(children=(IntProgress(value=0, description='Simulating Choices', max=3190, style=ProgressStyle(descriptio…"
      ]
     },
     "metadata": {},
     "output_type": "display_data"
    },
    {
     "name": "stdout",
     "output_type": "stream",
     "text": [
      "\n",
      "Estimating the choice model...\n",
      "Log-likelihood at zero: -6,029.2352\n",
      "Initial Log-likelihood: -6,029.2352\n",
      "Estimation Time for Point Estimation: 0.18 seconds.\n",
      "Final log-likelihood: -2,268.2347\n"
     ]
    },
    {
     "name": "stderr",
     "output_type": "stream",
     "text": [
      "/Users/mobouzaghrane/opt/anaconda3/lib/python3.7/site-packages/scipy/optimize/_minimize.py:505: RuntimeWarning: Method BFGS does not use Hessian information (hess).\n",
      "  RuntimeWarning)\n"
     ]
    },
    {
     "name": "stdout",
     "output_type": "stream",
     "text": [
      "Estimating Causal Effects...\n",
      "Simulation number 37 is complete!\n",
      "==========================================\n",
      "==========================================\n",
      "Simulation number 38 is in progress...\n",
      "Simulation size is 6830\n",
      "------------------------------------------\n",
      "Simulating data...\n",
      "Simulating Availability...\n"
     ]
    },
    {
     "name": "stderr",
     "output_type": "stream",
     "text": [
      "/Users/mobouzaghrane/opt/anaconda3/lib/python3.7/site-packages/pylogit/choice_tools.py:703: FutureWarning: arrays to stack must be passed as a \"sequence\" type such as list or tuple. Support for non-sequence iterables such as generators is deprecated as of NumPy 1.16 and will raise an error in the future.\n",
      "  design_matrix = np.hstack((x[:, None] for x in independent_vars))\n"
     ]
    },
    {
     "name": "stdout",
     "output_type": "stream",
     "text": [
      "Converting data from wide to long...\n",
      "Simulating Choices...\n"
     ]
    },
    {
     "data": {
      "application/vnd.jupyter.widget-view+json": {
       "model_id": "c031df362c4c4c079191f02bf1128425",
       "version_major": 2,
       "version_minor": 0
      },
      "text/plain": [
       "HBox(children=(IntProgress(value=0, description='Simulating Choices', max=6830, style=ProgressStyle(descriptio…"
      ]
     },
     "metadata": {},
     "output_type": "display_data"
    },
    {
     "name": "stdout",
     "output_type": "stream",
     "text": [
      "\n",
      "Estimating the choice model...\n",
      "Log-likelihood at zero: -12,972.6985\n",
      "Initial Log-likelihood: -12,972.6985\n"
     ]
    },
    {
     "name": "stderr",
     "output_type": "stream",
     "text": [
      "/Users/mobouzaghrane/opt/anaconda3/lib/python3.7/site-packages/scipy/optimize/_minimize.py:505: RuntimeWarning: Method BFGS does not use Hessian information (hess).\n",
      "  RuntimeWarning)\n"
     ]
    },
    {
     "name": "stdout",
     "output_type": "stream",
     "text": [
      "Estimation Time for Point Estimation: 0.40 seconds.\n",
      "Final log-likelihood: -4,866.6049\n",
      "Estimating Causal Effects...\n"
     ]
    },
    {
     "name": "stderr",
     "output_type": "stream",
     "text": [
      "/Users/mobouzaghrane/opt/anaconda3/lib/python3.7/site-packages/pylogit/choice_tools.py:703: FutureWarning: arrays to stack must be passed as a \"sequence\" type such as list or tuple. Support for non-sequence iterables such as generators is deprecated as of NumPy 1.16 and will raise an error in the future.\n",
      "  design_matrix = np.hstack((x[:, None] for x in independent_vars))\n"
     ]
    },
    {
     "name": "stdout",
     "output_type": "stream",
     "text": [
      "Simulation number 38 is complete!\n",
      "==========================================\n",
      "==========================================\n",
      "Simulation number 39 is in progress...\n",
      "Simulation size is 6685\n",
      "------------------------------------------\n",
      "Simulating data...\n",
      "Simulating Availability...\n",
      "Converting data from wide to long...\n",
      "Simulating Choices...\n"
     ]
    },
    {
     "data": {
      "application/vnd.jupyter.widget-view+json": {
       "model_id": "0b962ab3fb114e548573d39f25f59666",
       "version_major": 2,
       "version_minor": 0
      },
      "text/plain": [
       "HBox(children=(IntProgress(value=0, description='Simulating Choices', max=6685, style=ProgressStyle(descriptio…"
      ]
     },
     "metadata": {},
     "output_type": "display_data"
    },
    {
     "name": "stdout",
     "output_type": "stream",
     "text": [
      "\n",
      "Estimating the choice model...\n",
      "Log-likelihood at zero: -12,710.0794\n",
      "Initial Log-likelihood: -12,710.0794\n"
     ]
    },
    {
     "name": "stderr",
     "output_type": "stream",
     "text": [
      "/Users/mobouzaghrane/opt/anaconda3/lib/python3.7/site-packages/scipy/optimize/_minimize.py:505: RuntimeWarning: Method BFGS does not use Hessian information (hess).\n",
      "  RuntimeWarning)\n"
     ]
    },
    {
     "name": "stdout",
     "output_type": "stream",
     "text": [
      "Estimation Time for Point Estimation: 0.63 seconds.\n",
      "Final log-likelihood: -4,799.4573\n",
      "Estimating Causal Effects...\n"
     ]
    },
    {
     "name": "stderr",
     "output_type": "stream",
     "text": [
      "/Users/mobouzaghrane/opt/anaconda3/lib/python3.7/site-packages/pylogit/choice_tools.py:703: FutureWarning: arrays to stack must be passed as a \"sequence\" type such as list or tuple. Support for non-sequence iterables such as generators is deprecated as of NumPy 1.16 and will raise an error in the future.\n",
      "  design_matrix = np.hstack((x[:, None] for x in independent_vars))\n"
     ]
    },
    {
     "name": "stdout",
     "output_type": "stream",
     "text": [
      "Simulation number 39 is complete!\n",
      "==========================================\n",
      "==========================================\n",
      "Simulation number 40 is in progress...\n",
      "Simulation size is 5707\n",
      "------------------------------------------\n",
      "Simulating data...\n",
      "Simulating Availability...\n",
      "Converting data from wide to long...\n",
      "Simulating Choices...\n"
     ]
    },
    {
     "data": {
      "application/vnd.jupyter.widget-view+json": {
       "model_id": "642fee5bd078432eaff646e989f570c9",
       "version_major": 2,
       "version_minor": 0
      },
      "text/plain": [
       "HBox(children=(IntProgress(value=0, description='Simulating Choices', max=5707, style=ProgressStyle(descriptio…"
      ]
     },
     "metadata": {},
     "output_type": "display_data"
    },
    {
     "name": "stdout",
     "output_type": "stream",
     "text": [
      "\n",
      "Estimating the choice model...\n",
      "Log-likelihood at zero: -10,818.9652\n",
      "Initial Log-likelihood: -10,818.9652\n"
     ]
    },
    {
     "name": "stderr",
     "output_type": "stream",
     "text": [
      "/Users/mobouzaghrane/opt/anaconda3/lib/python3.7/site-packages/scipy/optimize/_minimize.py:505: RuntimeWarning: Method BFGS does not use Hessian information (hess).\n",
      "  RuntimeWarning)\n"
     ]
    },
    {
     "name": "stdout",
     "output_type": "stream",
     "text": [
      "Estimation Time for Point Estimation: 0.29 seconds.\n",
      "Final log-likelihood: -3,961.6665\n",
      "Estimating Causal Effects...\n"
     ]
    },
    {
     "name": "stderr",
     "output_type": "stream",
     "text": [
      "/Users/mobouzaghrane/opt/anaconda3/lib/python3.7/site-packages/pylogit/choice_tools.py:703: FutureWarning: arrays to stack must be passed as a \"sequence\" type such as list or tuple. Support for non-sequence iterables such as generators is deprecated as of NumPy 1.16 and will raise an error in the future.\n",
      "  design_matrix = np.hstack((x[:, None] for x in independent_vars))\n"
     ]
    },
    {
     "name": "stdout",
     "output_type": "stream",
     "text": [
      "Simulation number 40 is complete!\n",
      "==========================================\n",
      "==========================================\n",
      "Simulation number 41 is in progress...\n",
      "Simulation size is 6531\n",
      "------------------------------------------\n",
      "Simulating data...\n",
      "Simulating Availability...\n",
      "Converting data from wide to long...\n",
      "Simulating Choices...\n"
     ]
    },
    {
     "data": {
      "application/vnd.jupyter.widget-view+json": {
       "model_id": "6c38dd4aeb6d4cc5aba3ac3fe7fc644e",
       "version_major": 2,
       "version_minor": 0
      },
      "text/plain": [
       "HBox(children=(IntProgress(value=0, description='Simulating Choices', max=6531, style=ProgressStyle(descriptio…"
      ]
     },
     "metadata": {},
     "output_type": "display_data"
    },
    {
     "name": "stdout",
     "output_type": "stream",
     "text": [
      "\n",
      "Estimating the choice model...\n",
      "Log-likelihood at zero: -12,396.3694\n",
      "Initial Log-likelihood: -12,396.3694\n"
     ]
    },
    {
     "name": "stderr",
     "output_type": "stream",
     "text": [
      "/Users/mobouzaghrane/opt/anaconda3/lib/python3.7/site-packages/scipy/optimize/_minimize.py:505: RuntimeWarning: Method BFGS does not use Hessian information (hess).\n",
      "  RuntimeWarning)\n"
     ]
    },
    {
     "name": "stdout",
     "output_type": "stream",
     "text": [
      "Estimation Time for Point Estimation: 0.39 seconds.\n",
      "Final log-likelihood: -4,691.7206\n",
      "Estimating Causal Effects...\n"
     ]
    },
    {
     "name": "stderr",
     "output_type": "stream",
     "text": [
      "/Users/mobouzaghrane/opt/anaconda3/lib/python3.7/site-packages/pylogit/choice_tools.py:703: FutureWarning: arrays to stack must be passed as a \"sequence\" type such as list or tuple. Support for non-sequence iterables such as generators is deprecated as of NumPy 1.16 and will raise an error in the future.\n",
      "  design_matrix = np.hstack((x[:, None] for x in independent_vars))\n"
     ]
    },
    {
     "name": "stdout",
     "output_type": "stream",
     "text": [
      "Simulation number 41 is complete!\n",
      "==========================================\n",
      "==========================================\n",
      "Simulation number 42 is in progress...\n",
      "Simulation size is 3113\n",
      "------------------------------------------\n",
      "Simulating data...\n",
      "Simulating Availability...\n",
      "Converting data from wide to long...\n",
      "Simulating Choices...\n"
     ]
    },
    {
     "data": {
      "application/vnd.jupyter.widget-view+json": {
       "model_id": "bfcd92b20b874999996799008bef27e3",
       "version_major": 2,
       "version_minor": 0
      },
      "text/plain": [
       "HBox(children=(IntProgress(value=0, description='Simulating Choices', max=3113, style=ProgressStyle(descriptio…"
      ]
     },
     "metadata": {},
     "output_type": "display_data"
    },
    {
     "name": "stdout",
     "output_type": "stream",
     "text": [
      "\n",
      "Estimating the choice model...\n",
      "Log-likelihood at zero: -5,908.9191\n",
      "Initial Log-likelihood: -5,908.9191\n",
      "Estimation Time for Point Estimation: 0.17 seconds.\n",
      "Final log-likelihood: -2,214.0179\n"
     ]
    },
    {
     "name": "stderr",
     "output_type": "stream",
     "text": [
      "/Users/mobouzaghrane/opt/anaconda3/lib/python3.7/site-packages/scipy/optimize/_minimize.py:505: RuntimeWarning: Method BFGS does not use Hessian information (hess).\n",
      "  RuntimeWarning)\n"
     ]
    },
    {
     "name": "stdout",
     "output_type": "stream",
     "text": [
      "Estimating Causal Effects...\n",
      "Simulation number 42 is complete!\n",
      "==========================================\n",
      "==========================================\n",
      "Simulation number 43 is in progress...\n",
      "Simulation size is 5404\n",
      "------------------------------------------\n",
      "Simulating data...\n",
      "Simulating Availability...\n"
     ]
    },
    {
     "name": "stderr",
     "output_type": "stream",
     "text": [
      "/Users/mobouzaghrane/opt/anaconda3/lib/python3.7/site-packages/pylogit/choice_tools.py:703: FutureWarning: arrays to stack must be passed as a \"sequence\" type such as list or tuple. Support for non-sequence iterables such as generators is deprecated as of NumPy 1.16 and will raise an error in the future.\n",
      "  design_matrix = np.hstack((x[:, None] for x in independent_vars))\n"
     ]
    },
    {
     "name": "stdout",
     "output_type": "stream",
     "text": [
      "Converting data from wide to long...\n",
      "Simulating Choices...\n"
     ]
    },
    {
     "data": {
      "application/vnd.jupyter.widget-view+json": {
       "model_id": "b789830b55f14e81a53b674bc3ca70bb",
       "version_major": 2,
       "version_minor": 0
      },
      "text/plain": [
       "HBox(children=(IntProgress(value=0, description='Simulating Choices', max=5404, style=ProgressStyle(descriptio…"
      ]
     },
     "metadata": {},
     "output_type": "display_data"
    },
    {
     "name": "stdout",
     "output_type": "stream",
     "text": [
      "\n",
      "Estimating the choice model...\n",
      "Log-likelihood at zero: -10,291.2502\n",
      "Initial Log-likelihood: -10,291.2502\n"
     ]
    },
    {
     "name": "stderr",
     "output_type": "stream",
     "text": [
      "/Users/mobouzaghrane/opt/anaconda3/lib/python3.7/site-packages/scipy/optimize/_minimize.py:505: RuntimeWarning: Method BFGS does not use Hessian information (hess).\n",
      "  RuntimeWarning)\n"
     ]
    },
    {
     "name": "stdout",
     "output_type": "stream",
     "text": [
      "Estimation Time for Point Estimation: 0.47 seconds.\n",
      "Final log-likelihood: -3,692.1835\n",
      "Estimating Causal Effects...\n"
     ]
    },
    {
     "name": "stderr",
     "output_type": "stream",
     "text": [
      "/Users/mobouzaghrane/opt/anaconda3/lib/python3.7/site-packages/pylogit/choice_tools.py:703: FutureWarning: arrays to stack must be passed as a \"sequence\" type such as list or tuple. Support for non-sequence iterables such as generators is deprecated as of NumPy 1.16 and will raise an error in the future.\n",
      "  design_matrix = np.hstack((x[:, None] for x in independent_vars))\n"
     ]
    },
    {
     "name": "stdout",
     "output_type": "stream",
     "text": [
      "Simulation number 43 is complete!\n",
      "==========================================\n",
      "==========================================\n",
      "Simulation number 44 is in progress...\n",
      "Simulation size is 7035\n",
      "------------------------------------------\n",
      "Simulating data...\n",
      "Simulating Availability...\n",
      "Converting data from wide to long...\n",
      "Simulating Choices...\n"
     ]
    },
    {
     "data": {
      "application/vnd.jupyter.widget-view+json": {
       "model_id": "fac589e3a0b542adb66bbbccc6a0f4a6",
       "version_major": 2,
       "version_minor": 0
      },
      "text/plain": [
       "HBox(children=(IntProgress(value=0, description='Simulating Choices', max=7035, style=ProgressStyle(descriptio…"
      ]
     },
     "metadata": {},
     "output_type": "display_data"
    },
    {
     "name": "stdout",
     "output_type": "stream",
     "text": [
      "\n",
      "Estimating the choice model...\n",
      "Log-likelihood at zero: -13,361.9653\n",
      "Initial Log-likelihood: -13,361.9653\n"
     ]
    },
    {
     "name": "stderr",
     "output_type": "stream",
     "text": [
      "/Users/mobouzaghrane/opt/anaconda3/lib/python3.7/site-packages/scipy/optimize/_minimize.py:505: RuntimeWarning: Method BFGS does not use Hessian information (hess).\n",
      "  RuntimeWarning)\n"
     ]
    },
    {
     "name": "stdout",
     "output_type": "stream",
     "text": [
      "Estimation Time for Point Estimation: 0.41 seconds.\n",
      "Final log-likelihood: -4,855.9045\n",
      "Estimating Causal Effects...\n"
     ]
    },
    {
     "name": "stderr",
     "output_type": "stream",
     "text": [
      "/Users/mobouzaghrane/opt/anaconda3/lib/python3.7/site-packages/pylogit/choice_tools.py:703: FutureWarning: arrays to stack must be passed as a \"sequence\" type such as list or tuple. Support for non-sequence iterables such as generators is deprecated as of NumPy 1.16 and will raise an error in the future.\n",
      "  design_matrix = np.hstack((x[:, None] for x in independent_vars))\n"
     ]
    },
    {
     "name": "stdout",
     "output_type": "stream",
     "text": [
      "Simulation number 44 is complete!\n",
      "==========================================\n",
      "==========================================\n",
      "Simulation number 45 is in progress...\n",
      "Simulation size is 8720\n",
      "------------------------------------------\n",
      "Simulating data...\n",
      "Simulating Availability...\n",
      "Converting data from wide to long...\n",
      "Simulating Choices...\n"
     ]
    },
    {
     "data": {
      "application/vnd.jupyter.widget-view+json": {
       "model_id": "54562694faa24e0bb02b790d6a6d894c",
       "version_major": 2,
       "version_minor": 0
      },
      "text/plain": [
       "HBox(children=(IntProgress(value=0, description='Simulating Choices', max=8720, style=ProgressStyle(descriptio…"
      ]
     },
     "metadata": {},
     "output_type": "display_data"
    },
    {
     "name": "stdout",
     "output_type": "stream",
     "text": [
      "\n",
      "Estimating the choice model...\n",
      "Log-likelihood at zero: -16,569.1960\n",
      "Initial Log-likelihood: -16,569.1960\n"
     ]
    },
    {
     "name": "stderr",
     "output_type": "stream",
     "text": [
      "/Users/mobouzaghrane/opt/anaconda3/lib/python3.7/site-packages/scipy/optimize/_minimize.py:505: RuntimeWarning: Method BFGS does not use Hessian information (hess).\n",
      "  RuntimeWarning)\n"
     ]
    },
    {
     "name": "stdout",
     "output_type": "stream",
     "text": [
      "Estimation Time for Point Estimation: 0.46 seconds.\n",
      "Final log-likelihood: -6,122.6957\n",
      "Estimating Causal Effects...\n"
     ]
    },
    {
     "name": "stderr",
     "output_type": "stream",
     "text": [
      "/Users/mobouzaghrane/opt/anaconda3/lib/python3.7/site-packages/pylogit/choice_tools.py:703: FutureWarning: arrays to stack must be passed as a \"sequence\" type such as list or tuple. Support for non-sequence iterables such as generators is deprecated as of NumPy 1.16 and will raise an error in the future.\n",
      "  design_matrix = np.hstack((x[:, None] for x in independent_vars))\n"
     ]
    },
    {
     "name": "stdout",
     "output_type": "stream",
     "text": [
      "Simulation number 45 is complete!\n",
      "==========================================\n",
      "==========================================\n",
      "Simulation number 46 is in progress...\n",
      "Simulation size is 4240\n",
      "------------------------------------------\n",
      "Simulating data...\n",
      "Simulating Availability...\n",
      "Converting data from wide to long...\n",
      "Simulating Choices...\n"
     ]
    },
    {
     "data": {
      "application/vnd.jupyter.widget-view+json": {
       "model_id": "4d76ba7711634f519d67692b0c7c3854",
       "version_major": 2,
       "version_minor": 0
      },
      "text/plain": [
       "HBox(children=(IntProgress(value=0, description='Simulating Choices', max=4240, style=ProgressStyle(descriptio…"
      ]
     },
     "metadata": {},
     "output_type": "display_data"
    },
    {
     "name": "stdout",
     "output_type": "stream",
     "text": [
      "\n",
      "Estimating the choice model...\n",
      "Log-likelihood at zero: -8,027.9612\n",
      "Initial Log-likelihood: -8,027.9612\n"
     ]
    },
    {
     "name": "stderr",
     "output_type": "stream",
     "text": [
      "/Users/mobouzaghrane/opt/anaconda3/lib/python3.7/site-packages/scipy/optimize/_minimize.py:505: RuntimeWarning: Method BFGS does not use Hessian information (hess).\n",
      "  RuntimeWarning)\n"
     ]
    },
    {
     "name": "stdout",
     "output_type": "stream",
     "text": [
      "Estimation Time for Point Estimation: 0.22 seconds.\n",
      "Final log-likelihood: -2,984.7184\n",
      "Estimating Causal Effects...\n",
      "Simulation number 46 is complete!\n",
      "==========================================\n",
      "==========================================\n",
      "Simulation number 47 is in progress...\n",
      "Simulation size is 3714\n",
      "------------------------------------------\n",
      "Simulating data...\n"
     ]
    },
    {
     "name": "stderr",
     "output_type": "stream",
     "text": [
      "/Users/mobouzaghrane/opt/anaconda3/lib/python3.7/site-packages/pylogit/choice_tools.py:703: FutureWarning: arrays to stack must be passed as a \"sequence\" type such as list or tuple. Support for non-sequence iterables such as generators is deprecated as of NumPy 1.16 and will raise an error in the future.\n",
      "  design_matrix = np.hstack((x[:, None] for x in independent_vars))\n"
     ]
    },
    {
     "name": "stdout",
     "output_type": "stream",
     "text": [
      "Simulating Availability...\n",
      "Converting data from wide to long...\n",
      "Simulating Choices...\n"
     ]
    },
    {
     "data": {
      "application/vnd.jupyter.widget-view+json": {
       "model_id": "686d139e39094b668270f580387954a2",
       "version_major": 2,
       "version_minor": 0
      },
      "text/plain": [
       "HBox(children=(IntProgress(value=0, description='Simulating Choices', max=3714, style=ProgressStyle(descriptio…"
      ]
     },
     "metadata": {},
     "output_type": "display_data"
    },
    {
     "name": "stdout",
     "output_type": "stream",
     "text": [
      "\n",
      "Estimating the choice model...\n",
      "Log-likelihood at zero: -7,022.3492\n",
      "Initial Log-likelihood: -7,022.3492\n"
     ]
    },
    {
     "name": "stderr",
     "output_type": "stream",
     "text": [
      "/Users/mobouzaghrane/opt/anaconda3/lib/python3.7/site-packages/scipy/optimize/_minimize.py:505: RuntimeWarning: Method BFGS does not use Hessian information (hess).\n",
      "  RuntimeWarning)\n"
     ]
    },
    {
     "name": "stdout",
     "output_type": "stream",
     "text": [
      "Estimation Time for Point Estimation: 0.21 seconds.\n",
      "Final log-likelihood: -2,644.0105\n",
      "Estimating Causal Effects...\n",
      "Simulation number 47 is complete!\n",
      "==========================================\n",
      "==========================================\n",
      "Simulation number 48 is in progress...\n",
      "Simulation size is 6045\n",
      "------------------------------------------\n",
      "Simulating data...\n"
     ]
    },
    {
     "name": "stderr",
     "output_type": "stream",
     "text": [
      "/Users/mobouzaghrane/opt/anaconda3/lib/python3.7/site-packages/pylogit/choice_tools.py:703: FutureWarning: arrays to stack must be passed as a \"sequence\" type such as list or tuple. Support for non-sequence iterables such as generators is deprecated as of NumPy 1.16 and will raise an error in the future.\n",
      "  design_matrix = np.hstack((x[:, None] for x in independent_vars))\n"
     ]
    },
    {
     "name": "stdout",
     "output_type": "stream",
     "text": [
      "Simulating Availability...\n",
      "Converting data from wide to long...\n",
      "Simulating Choices...\n"
     ]
    },
    {
     "data": {
      "application/vnd.jupyter.widget-view+json": {
       "model_id": "2abfed91d55148fc81fe709c263aa2f5",
       "version_major": 2,
       "version_minor": 0
      },
      "text/plain": [
       "HBox(children=(IntProgress(value=0, description='Simulating Choices', max=6045, style=ProgressStyle(descriptio…"
      ]
     },
     "metadata": {},
     "output_type": "display_data"
    },
    {
     "name": "stdout",
     "output_type": "stream",
     "text": [
      "\n",
      "Estimating the choice model...\n",
      "Log-likelihood at zero: -11,465.1941\n",
      "Initial Log-likelihood: -11,465.1941\n"
     ]
    },
    {
     "name": "stderr",
     "output_type": "stream",
     "text": [
      "/Users/mobouzaghrane/opt/anaconda3/lib/python3.7/site-packages/scipy/optimize/_minimize.py:505: RuntimeWarning: Method BFGS does not use Hessian information (hess).\n",
      "  RuntimeWarning)\n"
     ]
    },
    {
     "name": "stdout",
     "output_type": "stream",
     "text": [
      "Estimation Time for Point Estimation: 0.37 seconds.\n",
      "Final log-likelihood: -4,227.7739\n",
      "Estimating Causal Effects...\n"
     ]
    },
    {
     "name": "stderr",
     "output_type": "stream",
     "text": [
      "/Users/mobouzaghrane/opt/anaconda3/lib/python3.7/site-packages/pylogit/choice_tools.py:703: FutureWarning: arrays to stack must be passed as a \"sequence\" type such as list or tuple. Support for non-sequence iterables such as generators is deprecated as of NumPy 1.16 and will raise an error in the future.\n",
      "  design_matrix = np.hstack((x[:, None] for x in independent_vars))\n"
     ]
    },
    {
     "name": "stdout",
     "output_type": "stream",
     "text": [
      "Simulation number 48 is complete!\n",
      "==========================================\n",
      "==========================================\n",
      "Simulation number 49 is in progress...\n",
      "Simulation size is 6914\n",
      "------------------------------------------\n",
      "Simulating data...\n",
      "Simulating Availability...\n",
      "Converting data from wide to long...\n",
      "Simulating Choices...\n"
     ]
    },
    {
     "data": {
      "application/vnd.jupyter.widget-view+json": {
       "model_id": "636d52c0efe346688a890bdd6767b74d",
       "version_major": 2,
       "version_minor": 0
      },
      "text/plain": [
       "HBox(children=(IntProgress(value=0, description='Simulating Choices', max=6914, style=ProgressStyle(descriptio…"
      ]
     },
     "metadata": {},
     "output_type": "display_data"
    },
    {
     "name": "stdout",
     "output_type": "stream",
     "text": [
      "\n",
      "Estimating the choice model...\n",
      "Log-likelihood at zero: -13,141.5504\n",
      "Initial Log-likelihood: -13,141.5504\n"
     ]
    },
    {
     "name": "stderr",
     "output_type": "stream",
     "text": [
      "/Users/mobouzaghrane/opt/anaconda3/lib/python3.7/site-packages/scipy/optimize/_minimize.py:505: RuntimeWarning: Method BFGS does not use Hessian information (hess).\n",
      "  RuntimeWarning)\n"
     ]
    },
    {
     "name": "stdout",
     "output_type": "stream",
     "text": [
      "Estimation Time for Point Estimation: 0.37 seconds.\n",
      "Final log-likelihood: -4,908.6151\n",
      "Estimating Causal Effects...\n"
     ]
    },
    {
     "name": "stderr",
     "output_type": "stream",
     "text": [
      "/Users/mobouzaghrane/opt/anaconda3/lib/python3.7/site-packages/pylogit/choice_tools.py:703: FutureWarning: arrays to stack must be passed as a \"sequence\" type such as list or tuple. Support for non-sequence iterables such as generators is deprecated as of NumPy 1.16 and will raise an error in the future.\n",
      "  design_matrix = np.hstack((x[:, None] for x in independent_vars))\n"
     ]
    },
    {
     "name": "stdout",
     "output_type": "stream",
     "text": [
      "Simulation number 49 is complete!\n",
      "==========================================\n",
      "==========================================\n",
      "Simulation number 50 is in progress...\n",
      "Simulation size is 4355\n",
      "------------------------------------------\n",
      "Simulating data...\n",
      "Simulating Availability...\n",
      "Converting data from wide to long...\n",
      "Simulating Choices...\n"
     ]
    },
    {
     "data": {
      "application/vnd.jupyter.widget-view+json": {
       "model_id": "fbcd91c46e1947df9af3bc55f8adb73b",
       "version_major": 2,
       "version_minor": 0
      },
      "text/plain": [
       "HBox(children=(IntProgress(value=0, description='Simulating Choices', max=4355, style=ProgressStyle(descriptio…"
      ]
     },
     "metadata": {},
     "output_type": "display_data"
    },
    {
     "name": "stdout",
     "output_type": "stream",
     "text": [
      "\n",
      "Estimating the choice model...\n",
      "Log-likelihood at zero: -8,271.0651\n",
      "Initial Log-likelihood: -8,271.0651\n"
     ]
    },
    {
     "name": "stderr",
     "output_type": "stream",
     "text": [
      "/Users/mobouzaghrane/opt/anaconda3/lib/python3.7/site-packages/scipy/optimize/_minimize.py:505: RuntimeWarning: Method BFGS does not use Hessian information (hess).\n",
      "  RuntimeWarning)\n"
     ]
    },
    {
     "name": "stdout",
     "output_type": "stream",
     "text": [
      "Estimation Time for Point Estimation: 0.23 seconds.\n",
      "Final log-likelihood: -2,989.3757\n",
      "Estimating Causal Effects...\n",
      "Simulation number 50 is complete!\n",
      "==========================================\n",
      "==========================================\n",
      "Simulation number 51 is in progress...\n",
      "Simulation size is 4530\n",
      "------------------------------------------\n",
      "Simulating data...\n"
     ]
    },
    {
     "name": "stderr",
     "output_type": "stream",
     "text": [
      "/Users/mobouzaghrane/opt/anaconda3/lib/python3.7/site-packages/pylogit/choice_tools.py:703: FutureWarning: arrays to stack must be passed as a \"sequence\" type such as list or tuple. Support for non-sequence iterables such as generators is deprecated as of NumPy 1.16 and will raise an error in the future.\n",
      "  design_matrix = np.hstack((x[:, None] for x in independent_vars))\n"
     ]
    },
    {
     "name": "stdout",
     "output_type": "stream",
     "text": [
      "Simulating Availability...\n",
      "Converting data from wide to long...\n",
      "Simulating Choices...\n"
     ]
    },
    {
     "data": {
      "application/vnd.jupyter.widget-view+json": {
       "model_id": "4050823800864cafbec147504f6f08f9",
       "version_major": 2,
       "version_minor": 0
      },
      "text/plain": [
       "HBox(children=(IntProgress(value=0, description='Simulating Choices', max=4530, style=ProgressStyle(descriptio…"
      ]
     },
     "metadata": {},
     "output_type": "display_data"
    },
    {
     "name": "stdout",
     "output_type": "stream",
     "text": [
      "\n",
      "Estimating the choice model...\n",
      "Log-likelihood at zero: -8,565.2927\n",
      "Initial Log-likelihood: -8,565.2927\n"
     ]
    },
    {
     "name": "stderr",
     "output_type": "stream",
     "text": [
      "/Users/mobouzaghrane/opt/anaconda3/lib/python3.7/site-packages/scipy/optimize/_minimize.py:505: RuntimeWarning: Method BFGS does not use Hessian information (hess).\n",
      "  RuntimeWarning)\n"
     ]
    },
    {
     "name": "stdout",
     "output_type": "stream",
     "text": [
      "Estimation Time for Point Estimation: 0.55 seconds.\n",
      "Final log-likelihood: -3,216.2369\n",
      "Estimating Causal Effects...\n",
      "Simulation number 51 is complete!\n",
      "==========================================\n",
      "==========================================\n",
      "Simulation number 52 is in progress...\n",
      "Simulation size is 5291\n",
      "------------------------------------------\n",
      "Simulating data...\n"
     ]
    },
    {
     "name": "stderr",
     "output_type": "stream",
     "text": [
      "/Users/mobouzaghrane/opt/anaconda3/lib/python3.7/site-packages/pylogit/choice_tools.py:703: FutureWarning: arrays to stack must be passed as a \"sequence\" type such as list or tuple. Support for non-sequence iterables such as generators is deprecated as of NumPy 1.16 and will raise an error in the future.\n",
      "  design_matrix = np.hstack((x[:, None] for x in independent_vars))\n"
     ]
    },
    {
     "name": "stdout",
     "output_type": "stream",
     "text": [
      "Simulating Availability...\n",
      "Converting data from wide to long...\n",
      "Simulating Choices...\n"
     ]
    },
    {
     "data": {
      "application/vnd.jupyter.widget-view+json": {
       "model_id": "e0ad5a26a2d44076840639d9a3618a1e",
       "version_major": 2,
       "version_minor": 0
      },
      "text/plain": [
       "HBox(children=(IntProgress(value=0, description='Simulating Choices', max=5291, style=ProgressStyle(descriptio…"
      ]
     },
     "metadata": {},
     "output_type": "display_data"
    },
    {
     "name": "stdout",
     "output_type": "stream",
     "text": [
      "\n",
      "Estimating the choice model...\n",
      "Log-likelihood at zero: -10,062.6905\n",
      "Initial Log-likelihood: -10,062.6905\n"
     ]
    },
    {
     "name": "stderr",
     "output_type": "stream",
     "text": [
      "/Users/mobouzaghrane/opt/anaconda3/lib/python3.7/site-packages/scipy/optimize/_minimize.py:505: RuntimeWarning: Method BFGS does not use Hessian information (hess).\n",
      "  RuntimeWarning)\n"
     ]
    },
    {
     "name": "stdout",
     "output_type": "stream",
     "text": [
      "Estimation Time for Point Estimation: 0.25 seconds.\n",
      "Final log-likelihood: -3,751.2848\n",
      "Estimating Causal Effects...\n"
     ]
    },
    {
     "name": "stderr",
     "output_type": "stream",
     "text": [
      "/Users/mobouzaghrane/opt/anaconda3/lib/python3.7/site-packages/pylogit/choice_tools.py:703: FutureWarning: arrays to stack must be passed as a \"sequence\" type such as list or tuple. Support for non-sequence iterables such as generators is deprecated as of NumPy 1.16 and will raise an error in the future.\n",
      "  design_matrix = np.hstack((x[:, None] for x in independent_vars))\n"
     ]
    },
    {
     "name": "stdout",
     "output_type": "stream",
     "text": [
      "Simulation number 52 is complete!\n",
      "==========================================\n",
      "==========================================\n",
      "Simulation number 53 is in progress...\n",
      "Simulation size is 8368\n",
      "------------------------------------------\n",
      "Simulating data...\n",
      "Simulating Availability...\n",
      "Converting data from wide to long...\n",
      "Simulating Choices...\n"
     ]
    },
    {
     "data": {
      "application/vnd.jupyter.widget-view+json": {
       "model_id": "eda9f72d9f8b4c60898680acfcbe6d65",
       "version_major": 2,
       "version_minor": 0
      },
      "text/plain": [
       "HBox(children=(IntProgress(value=0, description='Simulating Choices', max=8368, style=ProgressStyle(descriptio…"
      ]
     },
     "metadata": {},
     "output_type": "display_data"
    },
    {
     "name": "stdout",
     "output_type": "stream",
     "text": [
      "\n",
      "Estimating the choice model...\n",
      "Log-likelihood at zero: -15,866.6845\n",
      "Initial Log-likelihood: -15,866.6845\n"
     ]
    },
    {
     "name": "stderr",
     "output_type": "stream",
     "text": [
      "/Users/mobouzaghrane/opt/anaconda3/lib/python3.7/site-packages/scipy/optimize/_minimize.py:505: RuntimeWarning: Method BFGS does not use Hessian information (hess).\n",
      "  RuntimeWarning)\n"
     ]
    },
    {
     "name": "stdout",
     "output_type": "stream",
     "text": [
      "Estimation Time for Point Estimation: 0.69 seconds.\n",
      "Final log-likelihood: -5,992.2118\n",
      "Estimating Causal Effects...\n"
     ]
    },
    {
     "name": "stderr",
     "output_type": "stream",
     "text": [
      "/Users/mobouzaghrane/opt/anaconda3/lib/python3.7/site-packages/pylogit/choice_tools.py:703: FutureWarning: arrays to stack must be passed as a \"sequence\" type such as list or tuple. Support for non-sequence iterables such as generators is deprecated as of NumPy 1.16 and will raise an error in the future.\n",
      "  design_matrix = np.hstack((x[:, None] for x in independent_vars))\n"
     ]
    },
    {
     "name": "stdout",
     "output_type": "stream",
     "text": [
      "Simulation number 53 is complete!\n",
      "==========================================\n",
      "==========================================\n",
      "Simulation number 54 is in progress...\n",
      "Simulation size is 4546\n",
      "------------------------------------------\n",
      "Simulating data...\n",
      "Simulating Availability...\n",
      "Converting data from wide to long...\n",
      "Simulating Choices...\n"
     ]
    },
    {
     "data": {
      "application/vnd.jupyter.widget-view+json": {
       "model_id": "a1de4234089b40aa9fcef4abbace5255",
       "version_major": 2,
       "version_minor": 0
      },
      "text/plain": [
       "HBox(children=(IntProgress(value=0, description='Simulating Choices', max=4546, style=ProgressStyle(descriptio…"
      ]
     },
     "metadata": {},
     "output_type": "display_data"
    },
    {
     "name": "stdout",
     "output_type": "stream",
     "text": [
      "\n",
      "Estimating the choice model...\n",
      "Log-likelihood at zero: -8,620.2093\n",
      "Initial Log-likelihood: -8,620.2093\n"
     ]
    },
    {
     "name": "stderr",
     "output_type": "stream",
     "text": [
      "/Users/mobouzaghrane/opt/anaconda3/lib/python3.7/site-packages/scipy/optimize/_minimize.py:505: RuntimeWarning: Method BFGS does not use Hessian information (hess).\n",
      "  RuntimeWarning)\n"
     ]
    },
    {
     "name": "stdout",
     "output_type": "stream",
     "text": [
      "Estimation Time for Point Estimation: 0.22 seconds.\n",
      "Final log-likelihood: -3,234.2327\n",
      "Estimating Causal Effects...\n",
      "Simulation number 54 is complete!\n",
      "==========================================\n",
      "==========================================\n",
      "Simulation number 55 is in progress...\n",
      "Simulation size is 5827\n",
      "------------------------------------------\n",
      "Simulating data...\n"
     ]
    },
    {
     "name": "stderr",
     "output_type": "stream",
     "text": [
      "/Users/mobouzaghrane/opt/anaconda3/lib/python3.7/site-packages/pylogit/choice_tools.py:703: FutureWarning: arrays to stack must be passed as a \"sequence\" type such as list or tuple. Support for non-sequence iterables such as generators is deprecated as of NumPy 1.16 and will raise an error in the future.\n",
      "  design_matrix = np.hstack((x[:, None] for x in independent_vars))\n"
     ]
    },
    {
     "name": "stdout",
     "output_type": "stream",
     "text": [
      "Simulating Availability...\n",
      "Converting data from wide to long...\n",
      "Simulating Choices...\n"
     ]
    },
    {
     "data": {
      "application/vnd.jupyter.widget-view+json": {
       "model_id": "45385757309241c389c7f63f96bb7d93",
       "version_major": 2,
       "version_minor": 0
      },
      "text/plain": [
       "HBox(children=(IntProgress(value=0, description='Simulating Choices', max=5827, style=ProgressStyle(descriptio…"
      ]
     },
     "metadata": {},
     "output_type": "display_data"
    },
    {
     "name": "stdout",
     "output_type": "stream",
     "text": [
      "\n",
      "Estimating the choice model...\n",
      "Log-likelihood at zero: -11,098.6350\n",
      "Initial Log-likelihood: -11,098.6350\n"
     ]
    },
    {
     "name": "stderr",
     "output_type": "stream",
     "text": [
      "/Users/mobouzaghrane/opt/anaconda3/lib/python3.7/site-packages/scipy/optimize/_minimize.py:505: RuntimeWarning: Method BFGS does not use Hessian information (hess).\n",
      "  RuntimeWarning)\n"
     ]
    },
    {
     "name": "stdout",
     "output_type": "stream",
     "text": [
      "Estimation Time for Point Estimation: 0.30 seconds.\n",
      "Final log-likelihood: -4,116.3933\n",
      "Estimating Causal Effects...\n"
     ]
    },
    {
     "name": "stderr",
     "output_type": "stream",
     "text": [
      "/Users/mobouzaghrane/opt/anaconda3/lib/python3.7/site-packages/pylogit/choice_tools.py:703: FutureWarning: arrays to stack must be passed as a \"sequence\" type such as list or tuple. Support for non-sequence iterables such as generators is deprecated as of NumPy 1.16 and will raise an error in the future.\n",
      "  design_matrix = np.hstack((x[:, None] for x in independent_vars))\n"
     ]
    },
    {
     "name": "stdout",
     "output_type": "stream",
     "text": [
      "Simulation number 55 is complete!\n",
      "==========================================\n",
      "==========================================\n",
      "Simulation number 56 is in progress...\n",
      "Simulation size is 6846\n",
      "------------------------------------------\n",
      "Simulating data...\n",
      "Simulating Availability...\n",
      "Converting data from wide to long...\n",
      "Simulating Choices...\n"
     ]
    },
    {
     "data": {
      "application/vnd.jupyter.widget-view+json": {
       "model_id": "ef2351fb1c674a94b0d2e9797e6706b3",
       "version_major": 2,
       "version_minor": 0
      },
      "text/plain": [
       "HBox(children=(IntProgress(value=0, description='Simulating Choices', max=6846, style=ProgressStyle(descriptio…"
      ]
     },
     "metadata": {},
     "output_type": "display_data"
    },
    {
     "name": "stdout",
     "output_type": "stream",
     "text": [
      "\n",
      "Estimating the choice model...\n",
      "Log-likelihood at zero: -13,007.5103\n",
      "Initial Log-likelihood: -13,007.5103\n"
     ]
    },
    {
     "name": "stderr",
     "output_type": "stream",
     "text": [
      "/Users/mobouzaghrane/opt/anaconda3/lib/python3.7/site-packages/scipy/optimize/_minimize.py:505: RuntimeWarning: Method BFGS does not use Hessian information (hess).\n",
      "  RuntimeWarning)\n"
     ]
    },
    {
     "name": "stdout",
     "output_type": "stream",
     "text": [
      "Estimation Time for Point Estimation: 0.41 seconds.\n",
      "Final log-likelihood: -4,755.5890\n",
      "Estimating Causal Effects...\n"
     ]
    },
    {
     "name": "stderr",
     "output_type": "stream",
     "text": [
      "/Users/mobouzaghrane/opt/anaconda3/lib/python3.7/site-packages/pylogit/choice_tools.py:703: FutureWarning: arrays to stack must be passed as a \"sequence\" type such as list or tuple. Support for non-sequence iterables such as generators is deprecated as of NumPy 1.16 and will raise an error in the future.\n",
      "  design_matrix = np.hstack((x[:, None] for x in independent_vars))\n"
     ]
    },
    {
     "name": "stdout",
     "output_type": "stream",
     "text": [
      "Simulation number 56 is complete!\n",
      "==========================================\n",
      "==========================================\n",
      "Simulation number 57 is in progress...\n",
      "Simulation size is 3694\n",
      "------------------------------------------\n",
      "Simulating data...\n",
      "Simulating Availability...\n",
      "Converting data from wide to long...\n",
      "Simulating Choices...\n"
     ]
    },
    {
     "data": {
      "application/vnd.jupyter.widget-view+json": {
       "model_id": "b55bc7b6fa5e46feb6745a29d3955f1f",
       "version_major": 2,
       "version_minor": 0
      },
      "text/plain": [
       "HBox(children=(IntProgress(value=0, description='Simulating Choices', max=3694, style=ProgressStyle(descriptio…"
      ]
     },
     "metadata": {},
     "output_type": "display_data"
    },
    {
     "name": "stdout",
     "output_type": "stream",
     "text": [
      "\n",
      "Estimating the choice model...\n",
      "Log-likelihood at zero: -7,001.6764\n",
      "Initial Log-likelihood: -7,001.6764\n"
     ]
    },
    {
     "name": "stderr",
     "output_type": "stream",
     "text": [
      "/Users/mobouzaghrane/opt/anaconda3/lib/python3.7/site-packages/scipy/optimize/_minimize.py:505: RuntimeWarning: Method BFGS does not use Hessian information (hess).\n",
      "  RuntimeWarning)\n"
     ]
    },
    {
     "name": "stdout",
     "output_type": "stream",
     "text": [
      "Estimation Time for Point Estimation: 0.24 seconds.\n",
      "Final log-likelihood: -2,638.4506\n",
      "Estimating Causal Effects...\n",
      "Simulation number 57 is complete!\n",
      "==========================================\n",
      "==========================================\n",
      "Simulation number 58 is in progress...\n",
      "Simulation size is 4715\n",
      "------------------------------------------\n",
      "Simulating data...\n",
      "Simulating Availability...\n"
     ]
    },
    {
     "name": "stderr",
     "output_type": "stream",
     "text": [
      "/Users/mobouzaghrane/opt/anaconda3/lib/python3.7/site-packages/pylogit/choice_tools.py:703: FutureWarning: arrays to stack must be passed as a \"sequence\" type such as list or tuple. Support for non-sequence iterables such as generators is deprecated as of NumPy 1.16 and will raise an error in the future.\n",
      "  design_matrix = np.hstack((x[:, None] for x in independent_vars))\n"
     ]
    },
    {
     "name": "stdout",
     "output_type": "stream",
     "text": [
      "Converting data from wide to long...\n",
      "Simulating Choices...\n"
     ]
    },
    {
     "data": {
      "application/vnd.jupyter.widget-view+json": {
       "model_id": "7e82b71d73eb48f08bc2326ab6fab3fb",
       "version_major": 2,
       "version_minor": 0
      },
      "text/plain": [
       "HBox(children=(IntProgress(value=0, description='Simulating Choices', max=4715, style=ProgressStyle(descriptio…"
      ]
     },
     "metadata": {},
     "output_type": "display_data"
    },
    {
     "name": "stdout",
     "output_type": "stream",
     "text": [
      "\n",
      "Estimating the choice model...\n",
      "Log-likelihood at zero: -8,958.9512\n",
      "Initial Log-likelihood: -8,958.9512\n"
     ]
    },
    {
     "name": "stderr",
     "output_type": "stream",
     "text": [
      "/Users/mobouzaghrane/opt/anaconda3/lib/python3.7/site-packages/scipy/optimize/_minimize.py:505: RuntimeWarning: Method BFGS does not use Hessian information (hess).\n",
      "  RuntimeWarning)\n"
     ]
    },
    {
     "name": "stdout",
     "output_type": "stream",
     "text": [
      "Estimation Time for Point Estimation: 0.27 seconds.\n",
      "Final log-likelihood: -3,327.3092\n",
      "Estimating Causal Effects...\n"
     ]
    },
    {
     "name": "stderr",
     "output_type": "stream",
     "text": [
      "/Users/mobouzaghrane/opt/anaconda3/lib/python3.7/site-packages/pylogit/choice_tools.py:703: FutureWarning: arrays to stack must be passed as a \"sequence\" type such as list or tuple. Support for non-sequence iterables such as generators is deprecated as of NumPy 1.16 and will raise an error in the future.\n",
      "  design_matrix = np.hstack((x[:, None] for x in independent_vars))\n"
     ]
    },
    {
     "name": "stdout",
     "output_type": "stream",
     "text": [
      "Simulation number 58 is complete!\n",
      "==========================================\n",
      "==========================================\n",
      "Simulation number 59 is in progress...\n",
      "Simulation size is 3119\n",
      "------------------------------------------\n",
      "Simulating data...\n",
      "Simulating Availability...\n",
      "Converting data from wide to long...\n",
      "Simulating Choices...\n"
     ]
    },
    {
     "data": {
      "application/vnd.jupyter.widget-view+json": {
       "model_id": "3ddc4a2c2d2e49cf8d2557ea40f8b198",
       "version_major": 2,
       "version_minor": 0
      },
      "text/plain": [
       "HBox(children=(IntProgress(value=0, description='Simulating Choices', max=3119, style=ProgressStyle(descriptio…"
      ]
     },
     "metadata": {},
     "output_type": "display_data"
    },
    {
     "name": "stdout",
     "output_type": "stream",
     "text": [
      "\n",
      "Estimating the choice model...\n",
      "Log-likelihood at zero: -5,925.8582\n",
      "Initial Log-likelihood: -5,925.8582\n",
      "Estimation Time for Point Estimation: 0.18 seconds.\n",
      "Final log-likelihood: -2,095.8434\n"
     ]
    },
    {
     "name": "stderr",
     "output_type": "stream",
     "text": [
      "/Users/mobouzaghrane/opt/anaconda3/lib/python3.7/site-packages/scipy/optimize/_minimize.py:505: RuntimeWarning: Method BFGS does not use Hessian information (hess).\n",
      "  RuntimeWarning)\n"
     ]
    },
    {
     "name": "stdout",
     "output_type": "stream",
     "text": [
      "Estimating Causal Effects...\n",
      "Simulation number 59 is complete!\n",
      "==========================================\n",
      "==========================================\n",
      "Simulation number 60 is in progress...\n",
      "Simulation size is 7189\n",
      "------------------------------------------\n",
      "Simulating data...\n",
      "Simulating Availability...\n"
     ]
    },
    {
     "name": "stderr",
     "output_type": "stream",
     "text": [
      "/Users/mobouzaghrane/opt/anaconda3/lib/python3.7/site-packages/pylogit/choice_tools.py:703: FutureWarning: arrays to stack must be passed as a \"sequence\" type such as list or tuple. Support for non-sequence iterables such as generators is deprecated as of NumPy 1.16 and will raise an error in the future.\n",
      "  design_matrix = np.hstack((x[:, None] for x in independent_vars))\n"
     ]
    },
    {
     "name": "stdout",
     "output_type": "stream",
     "text": [
      "Converting data from wide to long...\n",
      "Simulating Choices...\n"
     ]
    },
    {
     "data": {
      "application/vnd.jupyter.widget-view+json": {
       "model_id": "14a171c19fee4da38f1aab5042873224",
       "version_major": 2,
       "version_minor": 0
      },
      "text/plain": [
       "HBox(children=(IntProgress(value=0, description='Simulating Choices', max=7189, style=ProgressStyle(descriptio…"
      ]
     },
     "metadata": {},
     "output_type": "display_data"
    },
    {
     "name": "stdout",
     "output_type": "stream",
     "text": [
      "\n",
      "Estimating the choice model...\n",
      "Log-likelihood at zero: -13,613.8561\n",
      "Initial Log-likelihood: -13,613.8561\n"
     ]
    },
    {
     "name": "stderr",
     "output_type": "stream",
     "text": [
      "/Users/mobouzaghrane/opt/anaconda3/lib/python3.7/site-packages/scipy/optimize/_minimize.py:505: RuntimeWarning: Method BFGS does not use Hessian information (hess).\n",
      "  RuntimeWarning)\n"
     ]
    },
    {
     "name": "stdout",
     "output_type": "stream",
     "text": [
      "Estimation Time for Point Estimation: 0.66 seconds.\n",
      "Final log-likelihood: -5,178.4715\n",
      "Estimating Causal Effects...\n"
     ]
    },
    {
     "name": "stderr",
     "output_type": "stream",
     "text": [
      "/Users/mobouzaghrane/opt/anaconda3/lib/python3.7/site-packages/pylogit/choice_tools.py:703: FutureWarning: arrays to stack must be passed as a \"sequence\" type such as list or tuple. Support for non-sequence iterables such as generators is deprecated as of NumPy 1.16 and will raise an error in the future.\n",
      "  design_matrix = np.hstack((x[:, None] for x in independent_vars))\n"
     ]
    },
    {
     "name": "stdout",
     "output_type": "stream",
     "text": [
      "Simulation number 60 is complete!\n",
      "==========================================\n",
      "==========================================\n",
      "Simulation number 61 is in progress...\n",
      "Simulation size is 8273\n",
      "------------------------------------------\n",
      "Simulating data...\n",
      "Simulating Availability...\n",
      "Converting data from wide to long...\n",
      "Simulating Choices...\n"
     ]
    },
    {
     "data": {
      "application/vnd.jupyter.widget-view+json": {
       "model_id": "a160b103755d4c4d92cf385466f3ac76",
       "version_major": 2,
       "version_minor": 0
      },
      "text/plain": [
       "HBox(children=(IntProgress(value=0, description='Simulating Choices', max=8273, style=ProgressStyle(descriptio…"
      ]
     },
     "metadata": {},
     "output_type": "display_data"
    },
    {
     "name": "stdout",
     "output_type": "stream",
     "text": [
      "\n",
      "Estimating the choice model...\n",
      "Log-likelihood at zero: -15,701.4657\n",
      "Initial Log-likelihood: -15,701.4657\n"
     ]
    },
    {
     "name": "stderr",
     "output_type": "stream",
     "text": [
      "/Users/mobouzaghrane/opt/anaconda3/lib/python3.7/site-packages/scipy/optimize/_minimize.py:505: RuntimeWarning: Method BFGS does not use Hessian information (hess).\n",
      "  RuntimeWarning)\n"
     ]
    },
    {
     "name": "stdout",
     "output_type": "stream",
     "text": [
      "Estimation Time for Point Estimation: 0.46 seconds.\n",
      "Final log-likelihood: -5,930.0068\n",
      "Estimating Causal Effects...\n"
     ]
    },
    {
     "name": "stderr",
     "output_type": "stream",
     "text": [
      "/Users/mobouzaghrane/opt/anaconda3/lib/python3.7/site-packages/pylogit/choice_tools.py:703: FutureWarning: arrays to stack must be passed as a \"sequence\" type such as list or tuple. Support for non-sequence iterables such as generators is deprecated as of NumPy 1.16 and will raise an error in the future.\n",
      "  design_matrix = np.hstack((x[:, None] for x in independent_vars))\n"
     ]
    },
    {
     "name": "stdout",
     "output_type": "stream",
     "text": [
      "Simulation number 61 is complete!\n",
      "==========================================\n",
      "==========================================\n",
      "Simulation number 62 is in progress...\n",
      "Simulation size is 6512\n",
      "------------------------------------------\n",
      "Simulating data...\n",
      "Simulating Availability...\n",
      "Converting data from wide to long...\n",
      "Simulating Choices...\n"
     ]
    },
    {
     "data": {
      "application/vnd.jupyter.widget-view+json": {
       "model_id": "62d297bcd93547a4bbe36aa46bacc70a",
       "version_major": 2,
       "version_minor": 0
      },
      "text/plain": [
       "HBox(children=(IntProgress(value=0, description='Simulating Choices', max=6512, style=ProgressStyle(descriptio…"
      ]
     },
     "metadata": {},
     "output_type": "display_data"
    },
    {
     "name": "stdout",
     "output_type": "stream",
     "text": [
      "\n",
      "Estimating the choice model...\n",
      "Log-likelihood at zero: -12,339.8438\n",
      "Initial Log-likelihood: -12,339.8438\n"
     ]
    },
    {
     "name": "stderr",
     "output_type": "stream",
     "text": [
      "/Users/mobouzaghrane/opt/anaconda3/lib/python3.7/site-packages/scipy/optimize/_minimize.py:505: RuntimeWarning: Method BFGS does not use Hessian information (hess).\n",
      "  RuntimeWarning)\n"
     ]
    },
    {
     "name": "stdout",
     "output_type": "stream",
     "text": [
      "Estimation Time for Point Estimation: 0.39 seconds.\n",
      "Final log-likelihood: -4,567.2730\n",
      "Estimating Causal Effects...\n"
     ]
    },
    {
     "name": "stderr",
     "output_type": "stream",
     "text": [
      "/Users/mobouzaghrane/opt/anaconda3/lib/python3.7/site-packages/pylogit/choice_tools.py:703: FutureWarning: arrays to stack must be passed as a \"sequence\" type such as list or tuple. Support for non-sequence iterables such as generators is deprecated as of NumPy 1.16 and will raise an error in the future.\n",
      "  design_matrix = np.hstack((x[:, None] for x in independent_vars))\n"
     ]
    },
    {
     "name": "stdout",
     "output_type": "stream",
     "text": [
      "Simulation number 62 is complete!\n",
      "==========================================\n",
      "==========================================\n",
      "Simulation number 63 is in progress...\n",
      "Simulation size is 6273\n",
      "------------------------------------------\n",
      "Simulating data...\n",
      "Simulating Availability...\n",
      "Converting data from wide to long...\n",
      "Simulating Choices...\n"
     ]
    },
    {
     "data": {
      "application/vnd.jupyter.widget-view+json": {
       "model_id": "6151ff96dbf046a194c2ba3e575a26d7",
       "version_major": 2,
       "version_minor": 0
      },
      "text/plain": [
       "HBox(children=(IntProgress(value=0, description='Simulating Choices', max=6273, style=ProgressStyle(descriptio…"
      ]
     },
     "metadata": {},
     "output_type": "display_data"
    },
    {
     "name": "stdout",
     "output_type": "stream",
     "text": [
      "\n",
      "Estimating the choice model...\n",
      "Log-likelihood at zero: -11,916.1968\n",
      "Initial Log-likelihood: -11,916.1968\n"
     ]
    },
    {
     "name": "stderr",
     "output_type": "stream",
     "text": [
      "/Users/mobouzaghrane/opt/anaconda3/lib/python3.7/site-packages/scipy/optimize/_minimize.py:505: RuntimeWarning: Method BFGS does not use Hessian information (hess).\n",
      "  RuntimeWarning)\n"
     ]
    },
    {
     "name": "stdout",
     "output_type": "stream",
     "text": [
      "Estimation Time for Point Estimation: 0.36 seconds.\n",
      "Final log-likelihood: -4,422.2380\n",
      "Estimating Causal Effects...\n"
     ]
    },
    {
     "name": "stderr",
     "output_type": "stream",
     "text": [
      "/Users/mobouzaghrane/opt/anaconda3/lib/python3.7/site-packages/pylogit/choice_tools.py:703: FutureWarning: arrays to stack must be passed as a \"sequence\" type such as list or tuple. Support for non-sequence iterables such as generators is deprecated as of NumPy 1.16 and will raise an error in the future.\n",
      "  design_matrix = np.hstack((x[:, None] for x in independent_vars))\n"
     ]
    },
    {
     "name": "stdout",
     "output_type": "stream",
     "text": [
      "Simulation number 63 is complete!\n",
      "==========================================\n",
      "==========================================\n",
      "Simulation number 64 is in progress...\n",
      "Simulation size is 8635\n",
      "------------------------------------------\n",
      "Simulating data...\n",
      "Simulating Availability...\n",
      "Converting data from wide to long...\n",
      "Simulating Choices...\n"
     ]
    },
    {
     "data": {
      "application/vnd.jupyter.widget-view+json": {
       "model_id": "0e34331e4692473ea1dd1be0e5af43c4",
       "version_major": 2,
       "version_minor": 0
      },
      "text/plain": [
       "HBox(children=(IntProgress(value=0, description='Simulating Choices', max=8635, style=ProgressStyle(descriptio…"
      ]
     },
     "metadata": {},
     "output_type": "display_data"
    },
    {
     "name": "stdout",
     "output_type": "stream",
     "text": [
      "\n",
      "Estimating the choice model...\n",
      "Log-likelihood at zero: -16,366.7787\n",
      "Initial Log-likelihood: -16,366.7787\n"
     ]
    },
    {
     "name": "stderr",
     "output_type": "stream",
     "text": [
      "/Users/mobouzaghrane/opt/anaconda3/lib/python3.7/site-packages/scipy/optimize/_minimize.py:505: RuntimeWarning: Method BFGS does not use Hessian information (hess).\n",
      "  RuntimeWarning)\n"
     ]
    },
    {
     "name": "stdout",
     "output_type": "stream",
     "text": [
      "Estimation Time for Point Estimation: 0.42 seconds.\n",
      "Final log-likelihood: -6,125.0256\n",
      "Estimating Causal Effects...\n"
     ]
    },
    {
     "name": "stderr",
     "output_type": "stream",
     "text": [
      "/Users/mobouzaghrane/opt/anaconda3/lib/python3.7/site-packages/pylogit/choice_tools.py:703: FutureWarning: arrays to stack must be passed as a \"sequence\" type such as list or tuple. Support for non-sequence iterables such as generators is deprecated as of NumPy 1.16 and will raise an error in the future.\n",
      "  design_matrix = np.hstack((x[:, None] for x in independent_vars))\n"
     ]
    },
    {
     "name": "stdout",
     "output_type": "stream",
     "text": [
      "Simulation number 64 is complete!\n",
      "==========================================\n",
      "==========================================\n",
      "Simulation number 65 is in progress...\n",
      "Simulation size is 8256\n",
      "------------------------------------------\n",
      "Simulating data...\n",
      "Simulating Availability...\n",
      "Converting data from wide to long...\n",
      "Simulating Choices...\n"
     ]
    },
    {
     "data": {
      "application/vnd.jupyter.widget-view+json": {
       "model_id": "fae76413d31b4e71927eae8fed826d2e",
       "version_major": 2,
       "version_minor": 0
      },
      "text/plain": [
       "HBox(children=(IntProgress(value=0, description='Simulating Choices', max=8256, style=ProgressStyle(descriptio…"
      ]
     },
     "metadata": {},
     "output_type": "display_data"
    },
    {
     "name": "stdout",
     "output_type": "stream",
     "text": [
      "\n",
      "Estimating the choice model...\n",
      "Log-likelihood at zero: -15,649.2845\n",
      "Initial Log-likelihood: -15,649.2845\n"
     ]
    },
    {
     "name": "stderr",
     "output_type": "stream",
     "text": [
      "/Users/mobouzaghrane/opt/anaconda3/lib/python3.7/site-packages/scipy/optimize/_minimize.py:505: RuntimeWarning: Method BFGS does not use Hessian information (hess).\n",
      "  RuntimeWarning)\n"
     ]
    },
    {
     "name": "stdout",
     "output_type": "stream",
     "text": [
      "Estimation Time for Point Estimation: 0.45 seconds.\n",
      "Final log-likelihood: -5,861.5049\n",
      "Estimating Causal Effects...\n"
     ]
    },
    {
     "name": "stderr",
     "output_type": "stream",
     "text": [
      "/Users/mobouzaghrane/opt/anaconda3/lib/python3.7/site-packages/pylogit/choice_tools.py:703: FutureWarning: arrays to stack must be passed as a \"sequence\" type such as list or tuple. Support for non-sequence iterables such as generators is deprecated as of NumPy 1.16 and will raise an error in the future.\n",
      "  design_matrix = np.hstack((x[:, None] for x in independent_vars))\n"
     ]
    },
    {
     "name": "stdout",
     "output_type": "stream",
     "text": [
      "Simulation number 65 is complete!\n",
      "==========================================\n",
      "==========================================\n",
      "Simulation number 66 is in progress...\n",
      "Simulation size is 8869\n",
      "------------------------------------------\n",
      "Simulating data...\n",
      "Simulating Availability...\n",
      "Converting data from wide to long...\n",
      "Simulating Choices...\n"
     ]
    },
    {
     "data": {
      "application/vnd.jupyter.widget-view+json": {
       "model_id": "3cbaac1b196b4281805d74ab95afde81",
       "version_major": 2,
       "version_minor": 0
      },
      "text/plain": [
       "HBox(children=(IntProgress(value=0, description='Simulating Choices', max=8869, style=ProgressStyle(descriptio…"
      ]
     },
     "metadata": {},
     "output_type": "display_data"
    },
    {
     "name": "stdout",
     "output_type": "stream",
     "text": [
      "\n",
      "Estimating the choice model...\n",
      "Log-likelihood at zero: -16,862.0456\n",
      "Initial Log-likelihood: -16,862.0456\n"
     ]
    },
    {
     "name": "stderr",
     "output_type": "stream",
     "text": [
      "/Users/mobouzaghrane/opt/anaconda3/lib/python3.7/site-packages/scipy/optimize/_minimize.py:505: RuntimeWarning: Method BFGS does not use Hessian information (hess).\n",
      "  RuntimeWarning)\n"
     ]
    },
    {
     "name": "stdout",
     "output_type": "stream",
     "text": [
      "Estimation Time for Point Estimation: 0.46 seconds.\n",
      "Final log-likelihood: -6,201.2015\n",
      "Estimating Causal Effects...\n"
     ]
    },
    {
     "name": "stderr",
     "output_type": "stream",
     "text": [
      "/Users/mobouzaghrane/opt/anaconda3/lib/python3.7/site-packages/pylogit/choice_tools.py:703: FutureWarning: arrays to stack must be passed as a \"sequence\" type such as list or tuple. Support for non-sequence iterables such as generators is deprecated as of NumPy 1.16 and will raise an error in the future.\n",
      "  design_matrix = np.hstack((x[:, None] for x in independent_vars))\n"
     ]
    },
    {
     "name": "stdout",
     "output_type": "stream",
     "text": [
      "Simulation number 66 is complete!\n",
      "==========================================\n",
      "==========================================\n",
      "Simulation number 67 is in progress...\n",
      "Simulation size is 6158\n",
      "------------------------------------------\n",
      "Simulating data...\n",
      "Simulating Availability...\n",
      "Converting data from wide to long...\n",
      "Simulating Choices...\n"
     ]
    },
    {
     "data": {
      "application/vnd.jupyter.widget-view+json": {
       "model_id": "282631a2e9ec41d2acbee63f5169b933",
       "version_major": 2,
       "version_minor": 0
      },
      "text/plain": [
       "HBox(children=(IntProgress(value=0, description='Simulating Choices', max=6158, style=ProgressStyle(descriptio…"
      ]
     },
     "metadata": {},
     "output_type": "display_data"
    },
    {
     "name": "stdout",
     "output_type": "stream",
     "text": [
      "\n",
      "Estimating the choice model...\n",
      "Log-likelihood at zero: -11,704.2786\n",
      "Initial Log-likelihood: -11,704.2786\n"
     ]
    },
    {
     "name": "stderr",
     "output_type": "stream",
     "text": [
      "/Users/mobouzaghrane/opt/anaconda3/lib/python3.7/site-packages/scipy/optimize/_minimize.py:505: RuntimeWarning: Method BFGS does not use Hessian information (hess).\n",
      "  RuntimeWarning)\n"
     ]
    },
    {
     "name": "stdout",
     "output_type": "stream",
     "text": [
      "Estimation Time for Point Estimation: 0.34 seconds.\n",
      "Final log-likelihood: -4,324.4744\n",
      "Estimating Causal Effects...\n"
     ]
    },
    {
     "name": "stderr",
     "output_type": "stream",
     "text": [
      "/Users/mobouzaghrane/opt/anaconda3/lib/python3.7/site-packages/pylogit/choice_tools.py:703: FutureWarning: arrays to stack must be passed as a \"sequence\" type such as list or tuple. Support for non-sequence iterables such as generators is deprecated as of NumPy 1.16 and will raise an error in the future.\n",
      "  design_matrix = np.hstack((x[:, None] for x in independent_vars))\n"
     ]
    },
    {
     "name": "stdout",
     "output_type": "stream",
     "text": [
      "Simulation number 67 is complete!\n",
      "==========================================\n",
      "==========================================\n",
      "Simulation number 68 is in progress...\n",
      "Simulation size is 6066\n",
      "------------------------------------------\n",
      "Simulating data...\n",
      "Simulating Availability...\n",
      "Converting data from wide to long...\n",
      "Simulating Choices...\n"
     ]
    },
    {
     "data": {
      "application/vnd.jupyter.widget-view+json": {
       "model_id": "5712398604004de0ba38f14ca0421c73",
       "version_major": 2,
       "version_minor": 0
      },
      "text/plain": [
       "HBox(children=(IntProgress(value=0, description='Simulating Choices', max=6066, style=ProgressStyle(descriptio…"
      ]
     },
     "metadata": {},
     "output_type": "display_data"
    },
    {
     "name": "stdout",
     "output_type": "stream",
     "text": [
      "\n",
      "Estimating the choice model...\n",
      "Log-likelihood at zero: -11,497.6708\n",
      "Initial Log-likelihood: -11,497.6708\n"
     ]
    },
    {
     "name": "stderr",
     "output_type": "stream",
     "text": [
      "/Users/mobouzaghrane/opt/anaconda3/lib/python3.7/site-packages/scipy/optimize/_minimize.py:505: RuntimeWarning: Method BFGS does not use Hessian information (hess).\n",
      "  RuntimeWarning)\n"
     ]
    },
    {
     "name": "stdout",
     "output_type": "stream",
     "text": [
      "Estimation Time for Point Estimation: 0.36 seconds.\n",
      "Final log-likelihood: -4,261.0516\n",
      "Estimating Causal Effects...\n"
     ]
    },
    {
     "name": "stderr",
     "output_type": "stream",
     "text": [
      "/Users/mobouzaghrane/opt/anaconda3/lib/python3.7/site-packages/pylogit/choice_tools.py:703: FutureWarning: arrays to stack must be passed as a \"sequence\" type such as list or tuple. Support for non-sequence iterables such as generators is deprecated as of NumPy 1.16 and will raise an error in the future.\n",
      "  design_matrix = np.hstack((x[:, None] for x in independent_vars))\n"
     ]
    },
    {
     "name": "stdout",
     "output_type": "stream",
     "text": [
      "Simulation number 68 is complete!\n",
      "==========================================\n",
      "==========================================\n",
      "Simulation number 69 is in progress...\n",
      "Simulation size is 7226\n",
      "------------------------------------------\n",
      "Simulating data...\n",
      "Simulating Availability...\n",
      "Converting data from wide to long...\n",
      "Simulating Choices...\n"
     ]
    },
    {
     "data": {
      "application/vnd.jupyter.widget-view+json": {
       "model_id": "971baa83d7b548c8aba561d0100f3315",
       "version_major": 2,
       "version_minor": 0
      },
      "text/plain": [
       "HBox(children=(IntProgress(value=0, description='Simulating Choices', max=7226, style=ProgressStyle(descriptio…"
      ]
     },
     "metadata": {},
     "output_type": "display_data"
    },
    {
     "name": "stdout",
     "output_type": "stream",
     "text": [
      "\n",
      "Estimating the choice model...\n",
      "Log-likelihood at zero: -13,719.2763\n",
      "Initial Log-likelihood: -13,719.2763\n"
     ]
    },
    {
     "name": "stderr",
     "output_type": "stream",
     "text": [
      "/Users/mobouzaghrane/opt/anaconda3/lib/python3.7/site-packages/scipy/optimize/_minimize.py:505: RuntimeWarning: Method BFGS does not use Hessian information (hess).\n",
      "  RuntimeWarning)\n"
     ]
    },
    {
     "name": "stdout",
     "output_type": "stream",
     "text": [
      "Estimation Time for Point Estimation: 0.39 seconds.\n",
      "Final log-likelihood: -5,160.3609\n",
      "Estimating Causal Effects...\n"
     ]
    },
    {
     "name": "stderr",
     "output_type": "stream",
     "text": [
      "/Users/mobouzaghrane/opt/anaconda3/lib/python3.7/site-packages/pylogit/choice_tools.py:703: FutureWarning: arrays to stack must be passed as a \"sequence\" type such as list or tuple. Support for non-sequence iterables such as generators is deprecated as of NumPy 1.16 and will raise an error in the future.\n",
      "  design_matrix = np.hstack((x[:, None] for x in independent_vars))\n"
     ]
    },
    {
     "name": "stdout",
     "output_type": "stream",
     "text": [
      "Simulation number 69 is complete!\n",
      "==========================================\n",
      "==========================================\n",
      "Simulation number 70 is in progress...\n",
      "Simulation size is 5849\n",
      "------------------------------------------\n",
      "Simulating data...\n",
      "Simulating Availability...\n",
      "Converting data from wide to long...\n",
      "Simulating Choices...\n"
     ]
    },
    {
     "data": {
      "application/vnd.jupyter.widget-view+json": {
       "model_id": "fa668b45289a48b387b1385716dbdc3c",
       "version_major": 2,
       "version_minor": 0
      },
      "text/plain": [
       "HBox(children=(IntProgress(value=0, description='Simulating Choices', max=5849, style=ProgressStyle(descriptio…"
      ]
     },
     "metadata": {},
     "output_type": "display_data"
    },
    {
     "name": "stdout",
     "output_type": "stream",
     "text": [
      "\n",
      "Estimating the choice model...\n",
      "Log-likelihood at zero: -11,100.1026\n",
      "Initial Log-likelihood: -11,100.1026\n"
     ]
    },
    {
     "name": "stderr",
     "output_type": "stream",
     "text": [
      "/Users/mobouzaghrane/opt/anaconda3/lib/python3.7/site-packages/scipy/optimize/_minimize.py:505: RuntimeWarning: Method BFGS does not use Hessian information (hess).\n",
      "  RuntimeWarning)\n"
     ]
    },
    {
     "name": "stdout",
     "output_type": "stream",
     "text": [
      "Estimation Time for Point Estimation: 0.35 seconds.\n",
      "Final log-likelihood: -4,058.5988\n",
      "Estimating Causal Effects...\n"
     ]
    },
    {
     "name": "stderr",
     "output_type": "stream",
     "text": [
      "/Users/mobouzaghrane/opt/anaconda3/lib/python3.7/site-packages/pylogit/choice_tools.py:703: FutureWarning: arrays to stack must be passed as a \"sequence\" type such as list or tuple. Support for non-sequence iterables such as generators is deprecated as of NumPy 1.16 and will raise an error in the future.\n",
      "  design_matrix = np.hstack((x[:, None] for x in independent_vars))\n"
     ]
    },
    {
     "name": "stdout",
     "output_type": "stream",
     "text": [
      "Simulation number 70 is complete!\n",
      "==========================================\n",
      "==========================================\n",
      "Simulation number 71 is in progress...\n",
      "Simulation size is 7153\n",
      "------------------------------------------\n",
      "Simulating data...\n",
      "Simulating Availability...\n",
      "Converting data from wide to long...\n",
      "Simulating Choices...\n"
     ]
    },
    {
     "data": {
      "application/vnd.jupyter.widget-view+json": {
       "model_id": "c20e00e4d23746fd9e91dad997a48285",
       "version_major": 2,
       "version_minor": 0
      },
      "text/plain": [
       "HBox(children=(IntProgress(value=0, description='Simulating Choices', max=7153, style=ProgressStyle(descriptio…"
      ]
     },
     "metadata": {},
     "output_type": "display_data"
    },
    {
     "name": "stdout",
     "output_type": "stream",
     "text": [
      "\n",
      "Estimating the choice model...\n",
      "Log-likelihood at zero: -13,561.1618\n",
      "Initial Log-likelihood: -13,561.1618\n"
     ]
    },
    {
     "name": "stderr",
     "output_type": "stream",
     "text": [
      "/Users/mobouzaghrane/opt/anaconda3/lib/python3.7/site-packages/scipy/optimize/_minimize.py:505: RuntimeWarning: Method BFGS does not use Hessian information (hess).\n",
      "  RuntimeWarning)\n"
     ]
    },
    {
     "name": "stdout",
     "output_type": "stream",
     "text": [
      "Estimation Time for Point Estimation: 0.46 seconds.\n",
      "Final log-likelihood: -5,027.7812\n",
      "Estimating Causal Effects...\n"
     ]
    },
    {
     "name": "stderr",
     "output_type": "stream",
     "text": [
      "/Users/mobouzaghrane/opt/anaconda3/lib/python3.7/site-packages/pylogit/choice_tools.py:703: FutureWarning: arrays to stack must be passed as a \"sequence\" type such as list or tuple. Support for non-sequence iterables such as generators is deprecated as of NumPy 1.16 and will raise an error in the future.\n",
      "  design_matrix = np.hstack((x[:, None] for x in independent_vars))\n"
     ]
    },
    {
     "name": "stdout",
     "output_type": "stream",
     "text": [
      "Simulation number 71 is complete!\n",
      "==========================================\n",
      "==========================================\n",
      "Simulation number 72 is in progress...\n",
      "Simulation size is 3294\n",
      "------------------------------------------\n",
      "Simulating data...\n",
      "Simulating Availability...\n",
      "Converting data from wide to long...\n",
      "Simulating Choices...\n"
     ]
    },
    {
     "data": {
      "application/vnd.jupyter.widget-view+json": {
       "model_id": "ee7f0b37131f4a969f96a68765f04a75",
       "version_major": 2,
       "version_minor": 0
      },
      "text/plain": [
       "HBox(children=(IntProgress(value=0, description='Simulating Choices', max=3294, style=ProgressStyle(descriptio…"
      ]
     },
     "metadata": {},
     "output_type": "display_data"
    },
    {
     "name": "stdout",
     "output_type": "stream",
     "text": [
      "\n",
      "Estimating the choice model...\n",
      "Log-likelihood at zero: -6,259.7253\n",
      "Initial Log-likelihood: -6,259.7253\n",
      "Estimation Time for Point Estimation: 0.19 seconds.\n",
      "Final log-likelihood: -2,274.2196\n"
     ]
    },
    {
     "name": "stderr",
     "output_type": "stream",
     "text": [
      "/Users/mobouzaghrane/opt/anaconda3/lib/python3.7/site-packages/scipy/optimize/_minimize.py:505: RuntimeWarning: Method BFGS does not use Hessian information (hess).\n",
      "  RuntimeWarning)\n"
     ]
    },
    {
     "name": "stdout",
     "output_type": "stream",
     "text": [
      "Estimating Causal Effects...\n",
      "Simulation number 72 is complete!\n",
      "==========================================\n",
      "==========================================\n",
      "Simulation number 73 is in progress...\n",
      "Simulation size is 6013\n",
      "------------------------------------------\n",
      "Simulating data...\n",
      "Simulating Availability...\n"
     ]
    },
    {
     "name": "stderr",
     "output_type": "stream",
     "text": [
      "/Users/mobouzaghrane/opt/anaconda3/lib/python3.7/site-packages/pylogit/choice_tools.py:703: FutureWarning: arrays to stack must be passed as a \"sequence\" type such as list or tuple. Support for non-sequence iterables such as generators is deprecated as of NumPy 1.16 and will raise an error in the future.\n",
      "  design_matrix = np.hstack((x[:, None] for x in independent_vars))\n"
     ]
    },
    {
     "name": "stdout",
     "output_type": "stream",
     "text": [
      "Converting data from wide to long...\n",
      "Simulating Choices...\n"
     ]
    },
    {
     "data": {
      "application/vnd.jupyter.widget-view+json": {
       "model_id": "88e96b914a764d4dbdaf2679dde95b2f",
       "version_major": 2,
       "version_minor": 0
      },
      "text/plain": [
       "HBox(children=(IntProgress(value=0, description='Simulating Choices', max=6013, style=ProgressStyle(descriptio…"
      ]
     },
     "metadata": {},
     "output_type": "display_data"
    },
    {
     "name": "stdout",
     "output_type": "stream",
     "text": [
      "\n",
      "Estimating the choice model...\n",
      "Log-likelihood at zero: -11,416.9706\n",
      "Initial Log-likelihood: -11,416.9706\n"
     ]
    },
    {
     "name": "stderr",
     "output_type": "stream",
     "text": [
      "/Users/mobouzaghrane/opt/anaconda3/lib/python3.7/site-packages/scipy/optimize/_minimize.py:505: RuntimeWarning: Method BFGS does not use Hessian information (hess).\n",
      "  RuntimeWarning)\n"
     ]
    },
    {
     "name": "stdout",
     "output_type": "stream",
     "text": [
      "Estimation Time for Point Estimation: 0.44 seconds.\n",
      "Final log-likelihood: -4,192.6680\n",
      "Estimating Causal Effects...\n"
     ]
    },
    {
     "name": "stderr",
     "output_type": "stream",
     "text": [
      "/Users/mobouzaghrane/opt/anaconda3/lib/python3.7/site-packages/pylogit/choice_tools.py:703: FutureWarning: arrays to stack must be passed as a \"sequence\" type such as list or tuple. Support for non-sequence iterables such as generators is deprecated as of NumPy 1.16 and will raise an error in the future.\n",
      "  design_matrix = np.hstack((x[:, None] for x in independent_vars))\n"
     ]
    },
    {
     "name": "stdout",
     "output_type": "stream",
     "text": [
      "Simulation number 73 is complete!\n",
      "==========================================\n",
      "==========================================\n",
      "Simulation number 74 is in progress...\n",
      "Simulation size is 8750\n",
      "------------------------------------------\n",
      "Simulating data...\n",
      "Simulating Availability...\n",
      "Converting data from wide to long...\n",
      "Simulating Choices...\n"
     ]
    },
    {
     "data": {
      "application/vnd.jupyter.widget-view+json": {
       "model_id": "4e5d4df90c5f48bebd5e1ba748236005",
       "version_major": 2,
       "version_minor": 0
      },
      "text/plain": [
       "HBox(children=(IntProgress(value=0, description='Simulating Choices', max=8750, style=ProgressStyle(descriptio…"
      ]
     },
     "metadata": {},
     "output_type": "display_data"
    },
    {
     "name": "stdout",
     "output_type": "stream",
     "text": [
      "\n",
      "Estimating the choice model...\n",
      "Log-likelihood at zero: -16,593.3571\n",
      "Initial Log-likelihood: -16,593.3571\n"
     ]
    },
    {
     "name": "stderr",
     "output_type": "stream",
     "text": [
      "/Users/mobouzaghrane/opt/anaconda3/lib/python3.7/site-packages/scipy/optimize/_minimize.py:505: RuntimeWarning: Method BFGS does not use Hessian information (hess).\n",
      "  RuntimeWarning)\n"
     ]
    },
    {
     "name": "stdout",
     "output_type": "stream",
     "text": [
      "Estimation Time for Point Estimation: 0.73 seconds.\n",
      "Final log-likelihood: -6,109.4473\n",
      "Estimating Causal Effects...\n"
     ]
    },
    {
     "name": "stderr",
     "output_type": "stream",
     "text": [
      "/Users/mobouzaghrane/opt/anaconda3/lib/python3.7/site-packages/pylogit/choice_tools.py:703: FutureWarning: arrays to stack must be passed as a \"sequence\" type such as list or tuple. Support for non-sequence iterables such as generators is deprecated as of NumPy 1.16 and will raise an error in the future.\n",
      "  design_matrix = np.hstack((x[:, None] for x in independent_vars))\n"
     ]
    },
    {
     "name": "stdout",
     "output_type": "stream",
     "text": [
      "Simulation number 74 is complete!\n",
      "==========================================\n",
      "==========================================\n",
      "Simulation number 75 is in progress...\n",
      "Simulation size is 7412\n",
      "------------------------------------------\n",
      "Simulating data...\n",
      "Simulating Availability...\n",
      "Converting data from wide to long...\n",
      "Simulating Choices...\n"
     ]
    },
    {
     "data": {
      "application/vnd.jupyter.widget-view+json": {
       "model_id": "c507ed73af03423987faf4fd528e53c4",
       "version_major": 2,
       "version_minor": 0
      },
      "text/plain": [
       "HBox(children=(IntProgress(value=0, description='Simulating Choices', max=7412, style=ProgressStyle(descriptio…"
      ]
     },
     "metadata": {},
     "output_type": "display_data"
    },
    {
     "name": "stdout",
     "output_type": "stream",
     "text": [
      "\n",
      "Estimating the choice model...\n",
      "Log-likelihood at zero: -14,091.6630\n",
      "Initial Log-likelihood: -14,091.6630\n"
     ]
    },
    {
     "name": "stderr",
     "output_type": "stream",
     "text": [
      "/Users/mobouzaghrane/opt/anaconda3/lib/python3.7/site-packages/scipy/optimize/_minimize.py:505: RuntimeWarning: Method BFGS does not use Hessian information (hess).\n",
      "  RuntimeWarning)\n"
     ]
    },
    {
     "name": "stdout",
     "output_type": "stream",
     "text": [
      "Estimation Time for Point Estimation: 0.43 seconds.\n",
      "Final log-likelihood: -5,225.5460\n",
      "Estimating Causal Effects...\n"
     ]
    },
    {
     "name": "stderr",
     "output_type": "stream",
     "text": [
      "/Users/mobouzaghrane/opt/anaconda3/lib/python3.7/site-packages/pylogit/choice_tools.py:703: FutureWarning: arrays to stack must be passed as a \"sequence\" type such as list or tuple. Support for non-sequence iterables such as generators is deprecated as of NumPy 1.16 and will raise an error in the future.\n",
      "  design_matrix = np.hstack((x[:, None] for x in independent_vars))\n"
     ]
    },
    {
     "name": "stdout",
     "output_type": "stream",
     "text": [
      "Simulation number 75 is complete!\n",
      "==========================================\n",
      "==========================================\n",
      "Simulation number 76 is in progress...\n",
      "Simulation size is 6619\n",
      "------------------------------------------\n",
      "Simulating data...\n",
      "Simulating Availability...\n",
      "Converting data from wide to long...\n",
      "Simulating Choices...\n"
     ]
    },
    {
     "data": {
      "application/vnd.jupyter.widget-view+json": {
       "model_id": "3d5f5bcae72e4de7a97ebc5517e34f15",
       "version_major": 2,
       "version_minor": 0
      },
      "text/plain": [
       "HBox(children=(IntProgress(value=0, description='Simulating Choices', max=6619, style=ProgressStyle(descriptio…"
      ]
     },
     "metadata": {},
     "output_type": "display_data"
    },
    {
     "name": "stdout",
     "output_type": "stream",
     "text": [
      "\n",
      "Estimating the choice model...\n",
      "Log-likelihood at zero: -12,572.3510\n",
      "Initial Log-likelihood: -12,572.3510\n"
     ]
    },
    {
     "name": "stderr",
     "output_type": "stream",
     "text": [
      "/Users/mobouzaghrane/opt/anaconda3/lib/python3.7/site-packages/scipy/optimize/_minimize.py:505: RuntimeWarning: Method BFGS does not use Hessian information (hess).\n",
      "  RuntimeWarning)\n"
     ]
    },
    {
     "name": "stdout",
     "output_type": "stream",
     "text": [
      "Estimation Time for Point Estimation: 0.47 seconds.\n",
      "Final log-likelihood: -4,601.3958\n",
      "Estimating Causal Effects...\n"
     ]
    },
    {
     "name": "stderr",
     "output_type": "stream",
     "text": [
      "/Users/mobouzaghrane/opt/anaconda3/lib/python3.7/site-packages/pylogit/choice_tools.py:703: FutureWarning: arrays to stack must be passed as a \"sequence\" type such as list or tuple. Support for non-sequence iterables such as generators is deprecated as of NumPy 1.16 and will raise an error in the future.\n",
      "  design_matrix = np.hstack((x[:, None] for x in independent_vars))\n"
     ]
    },
    {
     "name": "stdout",
     "output_type": "stream",
     "text": [
      "Simulation number 76 is complete!\n",
      "==========================================\n",
      "==========================================\n",
      "Simulation number 77 is in progress...\n",
      "Simulation size is 7342\n",
      "------------------------------------------\n",
      "Simulating data...\n",
      "Simulating Availability...\n",
      "Converting data from wide to long...\n",
      "Simulating Choices...\n"
     ]
    },
    {
     "data": {
      "application/vnd.jupyter.widget-view+json": {
       "model_id": "835ddde41c1944c182c25aeca837d7e7",
       "version_major": 2,
       "version_minor": 0
      },
      "text/plain": [
       "HBox(children=(IntProgress(value=0, description='Simulating Choices', max=7342, style=ProgressStyle(descriptio…"
      ]
     },
     "metadata": {},
     "output_type": "display_data"
    },
    {
     "name": "stdout",
     "output_type": "stream",
     "text": [
      "\n",
      "Estimating the choice model...\n",
      "Log-likelihood at zero: -13,922.0832\n",
      "Initial Log-likelihood: -13,922.0832\n"
     ]
    },
    {
     "name": "stderr",
     "output_type": "stream",
     "text": [
      "/Users/mobouzaghrane/opt/anaconda3/lib/python3.7/site-packages/scipy/optimize/_minimize.py:505: RuntimeWarning: Method BFGS does not use Hessian information (hess).\n",
      "  RuntimeWarning)\n"
     ]
    },
    {
     "name": "stdout",
     "output_type": "stream",
     "text": [
      "Estimation Time for Point Estimation: 0.43 seconds.\n",
      "Final log-likelihood: -5,283.6208\n",
      "Estimating Causal Effects...\n"
     ]
    },
    {
     "name": "stderr",
     "output_type": "stream",
     "text": [
      "/Users/mobouzaghrane/opt/anaconda3/lib/python3.7/site-packages/pylogit/choice_tools.py:703: FutureWarning: arrays to stack must be passed as a \"sequence\" type such as list or tuple. Support for non-sequence iterables such as generators is deprecated as of NumPy 1.16 and will raise an error in the future.\n",
      "  design_matrix = np.hstack((x[:, None] for x in independent_vars))\n"
     ]
    },
    {
     "name": "stdout",
     "output_type": "stream",
     "text": [
      "Simulation number 77 is complete!\n",
      "==========================================\n",
      "==========================================\n",
      "Simulation number 78 is in progress...\n",
      "Simulation size is 7001\n",
      "------------------------------------------\n",
      "Simulating data...\n",
      "Simulating Availability...\n",
      "Converting data from wide to long...\n",
      "Simulating Choices...\n"
     ]
    },
    {
     "data": {
      "application/vnd.jupyter.widget-view+json": {
       "model_id": "2084618667a143219ac785c37714ef56",
       "version_major": 2,
       "version_minor": 0
      },
      "text/plain": [
       "HBox(children=(IntProgress(value=0, description='Simulating Choices', max=7001, style=ProgressStyle(descriptio…"
      ]
     },
     "metadata": {},
     "output_type": "display_data"
    },
    {
     "name": "stdout",
     "output_type": "stream",
     "text": [
      "\n",
      "Estimating the choice model...\n",
      "Log-likelihood at zero: -13,285.5305\n",
      "Initial Log-likelihood: -13,285.5305\n"
     ]
    },
    {
     "name": "stderr",
     "output_type": "stream",
     "text": [
      "/Users/mobouzaghrane/opt/anaconda3/lib/python3.7/site-packages/scipy/optimize/_minimize.py:505: RuntimeWarning: Method BFGS does not use Hessian information (hess).\n",
      "  RuntimeWarning)\n"
     ]
    },
    {
     "name": "stdout",
     "output_type": "stream",
     "text": [
      "Estimation Time for Point Estimation: 0.40 seconds.\n",
      "Final log-likelihood: -4,974.0239\n",
      "Estimating Causal Effects...\n"
     ]
    },
    {
     "name": "stderr",
     "output_type": "stream",
     "text": [
      "/Users/mobouzaghrane/opt/anaconda3/lib/python3.7/site-packages/pylogit/choice_tools.py:703: FutureWarning: arrays to stack must be passed as a \"sequence\" type such as list or tuple. Support for non-sequence iterables such as generators is deprecated as of NumPy 1.16 and will raise an error in the future.\n",
      "  design_matrix = np.hstack((x[:, None] for x in independent_vars))\n"
     ]
    },
    {
     "name": "stdout",
     "output_type": "stream",
     "text": [
      "Simulation number 78 is complete!\n",
      "==========================================\n",
      "==========================================\n",
      "Simulation number 79 is in progress...\n",
      "Simulation size is 7886\n",
      "------------------------------------------\n",
      "Simulating data...\n",
      "Simulating Availability...\n",
      "Converting data from wide to long...\n",
      "Simulating Choices...\n"
     ]
    },
    {
     "data": {
      "application/vnd.jupyter.widget-view+json": {
       "model_id": "9d158474d73a49678c5dd8ef2cf312fb",
       "version_major": 2,
       "version_minor": 0
      },
      "text/plain": [
       "HBox(children=(IntProgress(value=0, description='Simulating Choices', max=7886, style=ProgressStyle(descriptio…"
      ]
     },
     "metadata": {},
     "output_type": "display_data"
    },
    {
     "name": "stdout",
     "output_type": "stream",
     "text": [
      "\n",
      "Estimating the choice model...\n",
      "Log-likelihood at zero: -14,953.2188\n",
      "Initial Log-likelihood: -14,953.2188\n"
     ]
    },
    {
     "name": "stderr",
     "output_type": "stream",
     "text": [
      "/Users/mobouzaghrane/opt/anaconda3/lib/python3.7/site-packages/scipy/optimize/_minimize.py:505: RuntimeWarning: Method BFGS does not use Hessian information (hess).\n",
      "  RuntimeWarning)\n"
     ]
    },
    {
     "name": "stdout",
     "output_type": "stream",
     "text": [
      "Estimation Time for Point Estimation: 0.65 seconds.\n",
      "Final log-likelihood: -5,535.3217\n",
      "Estimating Causal Effects...\n"
     ]
    },
    {
     "name": "stderr",
     "output_type": "stream",
     "text": [
      "/Users/mobouzaghrane/opt/anaconda3/lib/python3.7/site-packages/pylogit/choice_tools.py:703: FutureWarning: arrays to stack must be passed as a \"sequence\" type such as list or tuple. Support for non-sequence iterables such as generators is deprecated as of NumPy 1.16 and will raise an error in the future.\n",
      "  design_matrix = np.hstack((x[:, None] for x in independent_vars))\n"
     ]
    },
    {
     "name": "stdout",
     "output_type": "stream",
     "text": [
      "Simulation number 79 is complete!\n",
      "==========================================\n",
      "==========================================\n",
      "Simulation number 80 is in progress...\n",
      "Simulation size is 3968\n",
      "------------------------------------------\n",
      "Simulating data...\n",
      "Simulating Availability...\n",
      "Converting data from wide to long...\n",
      "Simulating Choices...\n"
     ]
    },
    {
     "data": {
      "application/vnd.jupyter.widget-view+json": {
       "model_id": "a208c4d52f7740939c5f1374b6e634bf",
       "version_major": 2,
       "version_minor": 0
      },
      "text/plain": [
       "HBox(children=(IntProgress(value=0, description='Simulating Choices', max=3968, style=ProgressStyle(descriptio…"
      ]
     },
     "metadata": {},
     "output_type": "display_data"
    },
    {
     "name": "stdout",
     "output_type": "stream",
     "text": [
      "\n",
      "Estimating the choice model...\n",
      "Log-likelihood at zero: -7,521.1572\n",
      "Initial Log-likelihood: -7,521.1572\n",
      "Estimation Time for Point Estimation: 0.19 seconds.\n",
      "Final log-likelihood: -2,802.6611\n"
     ]
    },
    {
     "name": "stderr",
     "output_type": "stream",
     "text": [
      "/Users/mobouzaghrane/opt/anaconda3/lib/python3.7/site-packages/scipy/optimize/_minimize.py:505: RuntimeWarning: Method BFGS does not use Hessian information (hess).\n",
      "  RuntimeWarning)\n"
     ]
    },
    {
     "name": "stdout",
     "output_type": "stream",
     "text": [
      "Estimating Causal Effects...\n",
      "Simulation number 80 is complete!\n",
      "==========================================\n",
      "==========================================\n",
      "Simulation number 81 is in progress...\n",
      "Simulation size is 7906\n",
      "------------------------------------------\n",
      "Simulating data...\n"
     ]
    },
    {
     "name": "stderr",
     "output_type": "stream",
     "text": [
      "/Users/mobouzaghrane/opt/anaconda3/lib/python3.7/site-packages/pylogit/choice_tools.py:703: FutureWarning: arrays to stack must be passed as a \"sequence\" type such as list or tuple. Support for non-sequence iterables such as generators is deprecated as of NumPy 1.16 and will raise an error in the future.\n",
      "  design_matrix = np.hstack((x[:, None] for x in independent_vars))\n"
     ]
    },
    {
     "name": "stdout",
     "output_type": "stream",
     "text": [
      "Simulating Availability...\n",
      "Converting data from wide to long...\n",
      "Simulating Choices...\n"
     ]
    },
    {
     "data": {
      "application/vnd.jupyter.widget-view+json": {
       "model_id": "579e95d7599a48aab04117cb7d1e5b7d",
       "version_major": 2,
       "version_minor": 0
      },
      "text/plain": [
       "HBox(children=(IntProgress(value=0, description='Simulating Choices', max=7906, style=ProgressStyle(descriptio…"
      ]
     },
     "metadata": {},
     "output_type": "display_data"
    },
    {
     "name": "stdout",
     "output_type": "stream",
     "text": [
      "\n",
      "Estimating the choice model...\n",
      "Log-likelihood at zero: -14,991.8523\n",
      "Initial Log-likelihood: -14,991.8523\n"
     ]
    },
    {
     "name": "stderr",
     "output_type": "stream",
     "text": [
      "/Users/mobouzaghrane/opt/anaconda3/lib/python3.7/site-packages/scipy/optimize/_minimize.py:505: RuntimeWarning: Method BFGS does not use Hessian information (hess).\n",
      "  RuntimeWarning)\n"
     ]
    },
    {
     "name": "stdout",
     "output_type": "stream",
     "text": [
      "Estimation Time for Point Estimation: 0.44 seconds.\n",
      "Final log-likelihood: -5,492.7706\n",
      "Estimating Causal Effects...\n"
     ]
    },
    {
     "name": "stderr",
     "output_type": "stream",
     "text": [
      "/Users/mobouzaghrane/opt/anaconda3/lib/python3.7/site-packages/pylogit/choice_tools.py:703: FutureWarning: arrays to stack must be passed as a \"sequence\" type such as list or tuple. Support for non-sequence iterables such as generators is deprecated as of NumPy 1.16 and will raise an error in the future.\n",
      "  design_matrix = np.hstack((x[:, None] for x in independent_vars))\n"
     ]
    },
    {
     "name": "stdout",
     "output_type": "stream",
     "text": [
      "Simulation number 81 is complete!\n",
      "==========================================\n",
      "==========================================\n",
      "Simulation number 82 is in progress...\n",
      "Simulation size is 6865\n",
      "------------------------------------------\n",
      "Simulating data...\n",
      "Simulating Availability...\n",
      "Converting data from wide to long...\n",
      "Simulating Choices...\n"
     ]
    },
    {
     "data": {
      "application/vnd.jupyter.widget-view+json": {
       "model_id": "87dda014523e485fa0e74365a94b79d8",
       "version_major": 2,
       "version_minor": 0
      },
      "text/plain": [
       "HBox(children=(IntProgress(value=0, description='Simulating Choices', max=6865, style=ProgressStyle(descriptio…"
      ]
     },
     "metadata": {},
     "output_type": "display_data"
    },
    {
     "name": "stdout",
     "output_type": "stream",
     "text": [
      "\n",
      "Estimating the choice model...\n",
      "Log-likelihood at zero: -13,028.0444\n",
      "Initial Log-likelihood: -13,028.0444\n"
     ]
    },
    {
     "name": "stderr",
     "output_type": "stream",
     "text": [
      "/Users/mobouzaghrane/opt/anaconda3/lib/python3.7/site-packages/scipy/optimize/_minimize.py:505: RuntimeWarning: Method BFGS does not use Hessian information (hess).\n",
      "  RuntimeWarning)\n"
     ]
    },
    {
     "name": "stdout",
     "output_type": "stream",
     "text": [
      "Estimation Time for Point Estimation: 0.40 seconds.\n",
      "Final log-likelihood: -4,882.1983\n",
      "Estimating Causal Effects...\n"
     ]
    },
    {
     "name": "stderr",
     "output_type": "stream",
     "text": [
      "/Users/mobouzaghrane/opt/anaconda3/lib/python3.7/site-packages/pylogit/choice_tools.py:703: FutureWarning: arrays to stack must be passed as a \"sequence\" type such as list or tuple. Support for non-sequence iterables such as generators is deprecated as of NumPy 1.16 and will raise an error in the future.\n",
      "  design_matrix = np.hstack((x[:, None] for x in independent_vars))\n"
     ]
    },
    {
     "name": "stdout",
     "output_type": "stream",
     "text": [
      "Simulation number 82 is complete!\n",
      "==========================================\n",
      "==========================================\n",
      "Simulation number 83 is in progress...\n",
      "Simulation size is 7113\n",
      "------------------------------------------\n",
      "Simulating data...\n",
      "Simulating Availability...\n",
      "Converting data from wide to long...\n",
      "Simulating Choices...\n"
     ]
    },
    {
     "data": {
      "application/vnd.jupyter.widget-view+json": {
       "model_id": "d35b13ddb6bd44b7bfbb2ac740d0f8fb",
       "version_major": 2,
       "version_minor": 0
      },
      "text/plain": [
       "HBox(children=(IntProgress(value=0, description='Simulating Choices', max=7113, style=ProgressStyle(descriptio…"
      ]
     },
     "metadata": {},
     "output_type": "display_data"
    },
    {
     "name": "stdout",
     "output_type": "stream",
     "text": [
      "\n",
      "Estimating the choice model...\n",
      "Log-likelihood at zero: -13,499.8046\n",
      "Initial Log-likelihood: -13,499.8046\n"
     ]
    },
    {
     "name": "stderr",
     "output_type": "stream",
     "text": [
      "/Users/mobouzaghrane/opt/anaconda3/lib/python3.7/site-packages/scipy/optimize/_minimize.py:505: RuntimeWarning: Method BFGS does not use Hessian information (hess).\n",
      "  RuntimeWarning)\n"
     ]
    },
    {
     "name": "stdout",
     "output_type": "stream",
     "text": [
      "Estimation Time for Point Estimation: 0.41 seconds.\n",
      "Final log-likelihood: -5,058.8336\n",
      "Estimating Causal Effects...\n"
     ]
    },
    {
     "name": "stderr",
     "output_type": "stream",
     "text": [
      "/Users/mobouzaghrane/opt/anaconda3/lib/python3.7/site-packages/pylogit/choice_tools.py:703: FutureWarning: arrays to stack must be passed as a \"sequence\" type such as list or tuple. Support for non-sequence iterables such as generators is deprecated as of NumPy 1.16 and will raise an error in the future.\n",
      "  design_matrix = np.hstack((x[:, None] for x in independent_vars))\n"
     ]
    },
    {
     "name": "stdout",
     "output_type": "stream",
     "text": [
      "Simulation number 83 is complete!\n",
      "==========================================\n",
      "==========================================\n",
      "Simulation number 84 is in progress...\n",
      "Simulation size is 8720\n",
      "------------------------------------------\n",
      "Simulating data...\n",
      "Simulating Availability...\n",
      "Converting data from wide to long...\n",
      "Simulating Choices...\n"
     ]
    },
    {
     "data": {
      "application/vnd.jupyter.widget-view+json": {
       "model_id": "27d46d37045c404cafd110c1f1de20d1",
       "version_major": 2,
       "version_minor": 0
      },
      "text/plain": [
       "HBox(children=(IntProgress(value=0, description='Simulating Choices', max=8720, style=ProgressStyle(descriptio…"
      ]
     },
     "metadata": {},
     "output_type": "display_data"
    },
    {
     "name": "stdout",
     "output_type": "stream",
     "text": [
      "\n",
      "Estimating the choice model...\n",
      "Log-likelihood at zero: -16,538.9716\n",
      "Initial Log-likelihood: -16,538.9716\n"
     ]
    },
    {
     "name": "stderr",
     "output_type": "stream",
     "text": [
      "/Users/mobouzaghrane/opt/anaconda3/lib/python3.7/site-packages/scipy/optimize/_minimize.py:505: RuntimeWarning: Method BFGS does not use Hessian information (hess).\n",
      "  RuntimeWarning)\n"
     ]
    },
    {
     "name": "stdout",
     "output_type": "stream",
     "text": [
      "Estimation Time for Point Estimation: 0.47 seconds.\n",
      "Final log-likelihood: -6,016.2228\n",
      "Estimating Causal Effects...\n"
     ]
    },
    {
     "name": "stderr",
     "output_type": "stream",
     "text": [
      "/Users/mobouzaghrane/opt/anaconda3/lib/python3.7/site-packages/pylogit/choice_tools.py:703: FutureWarning: arrays to stack must be passed as a \"sequence\" type such as list or tuple. Support for non-sequence iterables such as generators is deprecated as of NumPy 1.16 and will raise an error in the future.\n",
      "  design_matrix = np.hstack((x[:, None] for x in independent_vars))\n"
     ]
    },
    {
     "name": "stdout",
     "output_type": "stream",
     "text": [
      "Simulation number 84 is complete!\n",
      "==========================================\n",
      "==========================================\n",
      "Simulation number 85 is in progress...\n",
      "Simulation size is 6721\n",
      "------------------------------------------\n",
      "Simulating data...\n",
      "Simulating Availability...\n",
      "Converting data from wide to long...\n",
      "Simulating Choices...\n"
     ]
    },
    {
     "data": {
      "application/vnd.jupyter.widget-view+json": {
       "model_id": "4bb62143a3684422a86af92cb2d7ad0f",
       "version_major": 2,
       "version_minor": 0
      },
      "text/plain": [
       "HBox(children=(IntProgress(value=0, description='Simulating Choices', max=6721, style=ProgressStyle(descriptio…"
      ]
     },
     "metadata": {},
     "output_type": "display_data"
    },
    {
     "name": "stdout",
     "output_type": "stream",
     "text": [
      "\n",
      "Estimating the choice model...\n",
      "Log-likelihood at zero: -12,757.2233\n",
      "Initial Log-likelihood: -12,757.2233\n"
     ]
    },
    {
     "name": "stderr",
     "output_type": "stream",
     "text": [
      "/Users/mobouzaghrane/opt/anaconda3/lib/python3.7/site-packages/scipy/optimize/_minimize.py:505: RuntimeWarning: Method BFGS does not use Hessian information (hess).\n",
      "  RuntimeWarning)\n"
     ]
    },
    {
     "name": "stdout",
     "output_type": "stream",
     "text": [
      "Estimation Time for Point Estimation: 0.37 seconds.\n",
      "Final log-likelihood: -4,744.3688\n",
      "Estimating Causal Effects...\n"
     ]
    },
    {
     "name": "stderr",
     "output_type": "stream",
     "text": [
      "/Users/mobouzaghrane/opt/anaconda3/lib/python3.7/site-packages/pylogit/choice_tools.py:703: FutureWarning: arrays to stack must be passed as a \"sequence\" type such as list or tuple. Support for non-sequence iterables such as generators is deprecated as of NumPy 1.16 and will raise an error in the future.\n",
      "  design_matrix = np.hstack((x[:, None] for x in independent_vars))\n"
     ]
    },
    {
     "name": "stdout",
     "output_type": "stream",
     "text": [
      "Simulation number 85 is complete!\n",
      "==========================================\n",
      "==========================================\n",
      "Simulation number 86 is in progress...\n",
      "Simulation size is 5195\n",
      "------------------------------------------\n",
      "Simulating data...\n",
      "Simulating Availability...\n",
      "Converting data from wide to long...\n",
      "Simulating Choices...\n"
     ]
    },
    {
     "data": {
      "application/vnd.jupyter.widget-view+json": {
       "model_id": "fd403384239445ec870b3751225eb513",
       "version_major": 2,
       "version_minor": 0
      },
      "text/plain": [
       "HBox(children=(IntProgress(value=0, description='Simulating Choices', max=5195, style=ProgressStyle(descriptio…"
      ]
     },
     "metadata": {},
     "output_type": "display_data"
    },
    {
     "name": "stdout",
     "output_type": "stream",
     "text": [
      "\n",
      "Estimating the choice model...\n",
      "Log-likelihood at zero: -9,859.1782\n",
      "Initial Log-likelihood: -9,859.1782\n"
     ]
    },
    {
     "name": "stderr",
     "output_type": "stream",
     "text": [
      "/Users/mobouzaghrane/opt/anaconda3/lib/python3.7/site-packages/scipy/optimize/_minimize.py:505: RuntimeWarning: Method BFGS does not use Hessian information (hess).\n",
      "  RuntimeWarning)\n"
     ]
    },
    {
     "name": "stdout",
     "output_type": "stream",
     "text": [
      "Estimation Time for Point Estimation: 0.29 seconds.\n",
      "Final log-likelihood: -3,634.8193\n",
      "Estimating Causal Effects...\n",
      "Simulation number 86 is complete!\n"
     ]
    },
    {
     "name": "stderr",
     "output_type": "stream",
     "text": [
      "/Users/mobouzaghrane/opt/anaconda3/lib/python3.7/site-packages/pylogit/choice_tools.py:703: FutureWarning: arrays to stack must be passed as a \"sequence\" type such as list or tuple. Support for non-sequence iterables such as generators is deprecated as of NumPy 1.16 and will raise an error in the future.\n",
      "  design_matrix = np.hstack((x[:, None] for x in independent_vars))\n"
     ]
    },
    {
     "name": "stdout",
     "output_type": "stream",
     "text": [
      "==========================================\n",
      "==========================================\n",
      "Simulation number 87 is in progress...\n",
      "Simulation size is 7159\n",
      "------------------------------------------\n",
      "Simulating data...\n",
      "Simulating Availability...\n",
      "Converting data from wide to long...\n",
      "Simulating Choices...\n"
     ]
    },
    {
     "data": {
      "application/vnd.jupyter.widget-view+json": {
       "model_id": "a2eb5be2e3c54510b79d7b91e989e537",
       "version_major": 2,
       "version_minor": 0
      },
      "text/plain": [
       "HBox(children=(IntProgress(value=0, description='Simulating Choices', max=7159, style=ProgressStyle(descriptio…"
      ]
     },
     "metadata": {},
     "output_type": "display_data"
    },
    {
     "name": "stdout",
     "output_type": "stream",
     "text": [
      "\n",
      "Estimating the choice model...\n",
      "Log-likelihood at zero: -13,607.9198\n",
      "Initial Log-likelihood: -13,607.9198\n"
     ]
    },
    {
     "name": "stderr",
     "output_type": "stream",
     "text": [
      "/Users/mobouzaghrane/opt/anaconda3/lib/python3.7/site-packages/scipy/optimize/_minimize.py:505: RuntimeWarning: Method BFGS does not use Hessian information (hess).\n",
      "  RuntimeWarning)\n"
     ]
    },
    {
     "name": "stdout",
     "output_type": "stream",
     "text": [
      "Estimation Time for Point Estimation: 0.42 seconds.\n",
      "Final log-likelihood: -4,922.6829\n",
      "Estimating Causal Effects...\n"
     ]
    },
    {
     "name": "stderr",
     "output_type": "stream",
     "text": [
      "/Users/mobouzaghrane/opt/anaconda3/lib/python3.7/site-packages/pylogit/choice_tools.py:703: FutureWarning: arrays to stack must be passed as a \"sequence\" type such as list or tuple. Support for non-sequence iterables such as generators is deprecated as of NumPy 1.16 and will raise an error in the future.\n",
      "  design_matrix = np.hstack((x[:, None] for x in independent_vars))\n"
     ]
    },
    {
     "name": "stdout",
     "output_type": "stream",
     "text": [
      "Simulation number 87 is complete!\n",
      "==========================================\n",
      "==========================================\n",
      "Simulation number 88 is in progress...\n",
      "Simulation size is 3675\n",
      "------------------------------------------\n",
      "Simulating data...\n",
      "Simulating Availability...\n",
      "Converting data from wide to long...\n",
      "Simulating Choices...\n"
     ]
    },
    {
     "data": {
      "application/vnd.jupyter.widget-view+json": {
       "model_id": "b347bc738900482e86a16935fa8102f0",
       "version_major": 2,
       "version_minor": 0
      },
      "text/plain": [
       "HBox(children=(IntProgress(value=0, description='Simulating Choices', max=3675, style=ProgressStyle(descriptio…"
      ]
     },
     "metadata": {},
     "output_type": "display_data"
    },
    {
     "name": "stdout",
     "output_type": "stream",
     "text": [
      "\n",
      "Estimating the choice model...\n",
      "Log-likelihood at zero: -6,985.4444\n",
      "Initial Log-likelihood: -6,985.4444\n",
      "Estimation Time for Point Estimation: 0.18 seconds.\n",
      "Final log-likelihood: -2,553.9267\n"
     ]
    },
    {
     "name": "stderr",
     "output_type": "stream",
     "text": [
      "/Users/mobouzaghrane/opt/anaconda3/lib/python3.7/site-packages/scipy/optimize/_minimize.py:505: RuntimeWarning: Method BFGS does not use Hessian information (hess).\n",
      "  RuntimeWarning)\n"
     ]
    },
    {
     "name": "stdout",
     "output_type": "stream",
     "text": [
      "Estimating Causal Effects...\n",
      "Simulation number 88 is complete!\n",
      "==========================================\n",
      "==========================================\n",
      "Simulation number 89 is in progress...\n",
      "Simulation size is 5076\n",
      "------------------------------------------\n",
      "Simulating data...\n",
      "Simulating Availability...\n"
     ]
    },
    {
     "name": "stderr",
     "output_type": "stream",
     "text": [
      "/Users/mobouzaghrane/opt/anaconda3/lib/python3.7/site-packages/pylogit/choice_tools.py:703: FutureWarning: arrays to stack must be passed as a \"sequence\" type such as list or tuple. Support for non-sequence iterables such as generators is deprecated as of NumPy 1.16 and will raise an error in the future.\n",
      "  design_matrix = np.hstack((x[:, None] for x in independent_vars))\n"
     ]
    },
    {
     "name": "stdout",
     "output_type": "stream",
     "text": [
      "Converting data from wide to long...\n",
      "Simulating Choices...\n"
     ]
    },
    {
     "data": {
      "application/vnd.jupyter.widget-view+json": {
       "model_id": "be3734f5b15e40c2917657de3d0081ab",
       "version_major": 2,
       "version_minor": 0
      },
      "text/plain": [
       "HBox(children=(IntProgress(value=0, description='Simulating Choices', max=5076, style=ProgressStyle(descriptio…"
      ]
     },
     "metadata": {},
     "output_type": "display_data"
    },
    {
     "name": "stdout",
     "output_type": "stream",
     "text": [
      "\n",
      "Estimating the choice model...\n",
      "Log-likelihood at zero: -9,659.2120\n",
      "Initial Log-likelihood: -9,659.2120\n"
     ]
    },
    {
     "name": "stderr",
     "output_type": "stream",
     "text": [
      "/Users/mobouzaghrane/opt/anaconda3/lib/python3.7/site-packages/scipy/optimize/_minimize.py:505: RuntimeWarning: Method BFGS does not use Hessian information (hess).\n",
      "  RuntimeWarning)\n"
     ]
    },
    {
     "name": "stdout",
     "output_type": "stream",
     "text": [
      "Estimation Time for Point Estimation: 0.25 seconds.\n",
      "Final log-likelihood: -3,438.8407\n",
      "Estimating Causal Effects...\n",
      "Simulation number 89 is complete!\n",
      "==========================================\n",
      "==========================================\n",
      "Simulation number 90 is in progress...\n",
      "Simulation size is 8597\n",
      "------------------------------------------\n",
      "Simulating data...\n"
     ]
    },
    {
     "name": "stderr",
     "output_type": "stream",
     "text": [
      "/Users/mobouzaghrane/opt/anaconda3/lib/python3.7/site-packages/pylogit/choice_tools.py:703: FutureWarning: arrays to stack must be passed as a \"sequence\" type such as list or tuple. Support for non-sequence iterables such as generators is deprecated as of NumPy 1.16 and will raise an error in the future.\n",
      "  design_matrix = np.hstack((x[:, None] for x in independent_vars))\n"
     ]
    },
    {
     "name": "stdout",
     "output_type": "stream",
     "text": [
      "Simulating Availability...\n",
      "Converting data from wide to long...\n",
      "Simulating Choices...\n"
     ]
    },
    {
     "data": {
      "application/vnd.jupyter.widget-view+json": {
       "model_id": "c55703a27b6a4cf7a349723667339c4e",
       "version_major": 2,
       "version_minor": 0
      },
      "text/plain": [
       "HBox(children=(IntProgress(value=0, description='Simulating Choices', max=8597, style=ProgressStyle(descriptio…"
      ]
     },
     "metadata": {},
     "output_type": "display_data"
    },
    {
     "name": "stdout",
     "output_type": "stream",
     "text": [
      "\n",
      "Estimating the choice model...\n",
      "Log-likelihood at zero: -16,315.5630\n",
      "Initial Log-likelihood: -16,315.5630\n"
     ]
    },
    {
     "name": "stderr",
     "output_type": "stream",
     "text": [
      "/Users/mobouzaghrane/opt/anaconda3/lib/python3.7/site-packages/scipy/optimize/_minimize.py:505: RuntimeWarning: Method BFGS does not use Hessian information (hess).\n",
      "  RuntimeWarning)\n"
     ]
    },
    {
     "name": "stdout",
     "output_type": "stream",
     "text": [
      "Estimation Time for Point Estimation: 0.61 seconds.\n",
      "Final log-likelihood: -6,052.8580\n",
      "Estimating Causal Effects...\n"
     ]
    },
    {
     "name": "stderr",
     "output_type": "stream",
     "text": [
      "/Users/mobouzaghrane/opt/anaconda3/lib/python3.7/site-packages/pylogit/choice_tools.py:703: FutureWarning: arrays to stack must be passed as a \"sequence\" type such as list or tuple. Support for non-sequence iterables such as generators is deprecated as of NumPy 1.16 and will raise an error in the future.\n",
      "  design_matrix = np.hstack((x[:, None] for x in independent_vars))\n"
     ]
    },
    {
     "name": "stdout",
     "output_type": "stream",
     "text": [
      "Simulation number 90 is complete!\n",
      "==========================================\n",
      "==========================================\n",
      "Simulation number 91 is in progress...\n",
      "Simulation size is 6972\n",
      "------------------------------------------\n",
      "Simulating data...\n",
      "Simulating Availability...\n",
      "Converting data from wide to long...\n",
      "Simulating Choices...\n"
     ]
    },
    {
     "data": {
      "application/vnd.jupyter.widget-view+json": {
       "model_id": "340aa691a43440508f093170b36992bc",
       "version_major": 2,
       "version_minor": 0
      },
      "text/plain": [
       "HBox(children=(IntProgress(value=0, description='Simulating Choices', max=6972, style=ProgressStyle(descriptio…"
      ]
     },
     "metadata": {},
     "output_type": "display_data"
    },
    {
     "name": "stdout",
     "output_type": "stream",
     "text": [
      "\n",
      "Estimating the choice model...\n",
      "Log-likelihood at zero: -13,217.0528\n",
      "Initial Log-likelihood: -13,217.0528\n"
     ]
    },
    {
     "name": "stderr",
     "output_type": "stream",
     "text": [
      "/Users/mobouzaghrane/opt/anaconda3/lib/python3.7/site-packages/scipy/optimize/_minimize.py:505: RuntimeWarning: Method BFGS does not use Hessian information (hess).\n",
      "  RuntimeWarning)\n"
     ]
    },
    {
     "name": "stdout",
     "output_type": "stream",
     "text": [
      "Estimation Time for Point Estimation: 0.39 seconds.\n",
      "Final log-likelihood: -4,955.4730\n",
      "Estimating Causal Effects...\n"
     ]
    },
    {
     "name": "stderr",
     "output_type": "stream",
     "text": [
      "/Users/mobouzaghrane/opt/anaconda3/lib/python3.7/site-packages/pylogit/choice_tools.py:703: FutureWarning: arrays to stack must be passed as a \"sequence\" type such as list or tuple. Support for non-sequence iterables such as generators is deprecated as of NumPy 1.16 and will raise an error in the future.\n",
      "  design_matrix = np.hstack((x[:, None] for x in independent_vars))\n"
     ]
    },
    {
     "name": "stdout",
     "output_type": "stream",
     "text": [
      "Simulation number 91 is complete!\n",
      "==========================================\n",
      "==========================================\n",
      "Simulation number 92 is in progress...\n",
      "Simulation size is 7699\n",
      "------------------------------------------\n",
      "Simulating data...\n",
      "Simulating Availability...\n",
      "Converting data from wide to long...\n",
      "Simulating Choices...\n"
     ]
    },
    {
     "data": {
      "application/vnd.jupyter.widget-view+json": {
       "model_id": "01af8d9ccba44493abf96984cbb7530a",
       "version_major": 2,
       "version_minor": 0
      },
      "text/plain": [
       "HBox(children=(IntProgress(value=0, description='Simulating Choices', max=7699, style=ProgressStyle(descriptio…"
      ]
     },
     "metadata": {},
     "output_type": "display_data"
    },
    {
     "name": "stdout",
     "output_type": "stream",
     "text": [
      "\n",
      "Estimating the choice model...\n",
      "Log-likelihood at zero: -14,659.2536\n",
      "Initial Log-likelihood: -14,659.2536\n"
     ]
    },
    {
     "name": "stderr",
     "output_type": "stream",
     "text": [
      "/Users/mobouzaghrane/opt/anaconda3/lib/python3.7/site-packages/scipy/optimize/_minimize.py:505: RuntimeWarning: Method BFGS does not use Hessian information (hess).\n",
      "  RuntimeWarning)\n"
     ]
    },
    {
     "name": "stdout",
     "output_type": "stream",
     "text": [
      "Estimation Time for Point Estimation: 0.41 seconds.\n",
      "Final log-likelihood: -5,558.4822\n",
      "Estimating Causal Effects...\n"
     ]
    },
    {
     "name": "stderr",
     "output_type": "stream",
     "text": [
      "/Users/mobouzaghrane/opt/anaconda3/lib/python3.7/site-packages/pylogit/choice_tools.py:703: FutureWarning: arrays to stack must be passed as a \"sequence\" type such as list or tuple. Support for non-sequence iterables such as generators is deprecated as of NumPy 1.16 and will raise an error in the future.\n",
      "  design_matrix = np.hstack((x[:, None] for x in independent_vars))\n"
     ]
    },
    {
     "name": "stdout",
     "output_type": "stream",
     "text": [
      "Simulation number 92 is complete!\n",
      "==========================================\n",
      "==========================================\n",
      "Simulation number 93 is in progress...\n",
      "Simulation size is 8016\n",
      "------------------------------------------\n",
      "Simulating data...\n",
      "Simulating Availability...\n",
      "Converting data from wide to long...\n",
      "Simulating Choices...\n"
     ]
    },
    {
     "data": {
      "application/vnd.jupyter.widget-view+json": {
       "model_id": "708d858f9ea14ef4a892ce8115070e7c",
       "version_major": 2,
       "version_minor": 0
      },
      "text/plain": [
       "HBox(children=(IntProgress(value=0, description='Simulating Choices', max=8016, style=ProgressStyle(descriptio…"
      ]
     },
     "metadata": {},
     "output_type": "display_data"
    },
    {
     "name": "stdout",
     "output_type": "stream",
     "text": [
      "\n",
      "Estimating the choice model...\n",
      "Log-likelihood at zero: -15,203.2971\n",
      "Initial Log-likelihood: -15,203.2971\n"
     ]
    },
    {
     "name": "stderr",
     "output_type": "stream",
     "text": [
      "/Users/mobouzaghrane/opt/anaconda3/lib/python3.7/site-packages/scipy/optimize/_minimize.py:505: RuntimeWarning: Method BFGS does not use Hessian information (hess).\n",
      "  RuntimeWarning)\n"
     ]
    },
    {
     "name": "stdout",
     "output_type": "stream",
     "text": [
      "Estimation Time for Point Estimation: 0.44 seconds.\n",
      "Final log-likelihood: -5,673.7466\n",
      "Estimating Causal Effects...\n"
     ]
    },
    {
     "name": "stderr",
     "output_type": "stream",
     "text": [
      "/Users/mobouzaghrane/opt/anaconda3/lib/python3.7/site-packages/pylogit/choice_tools.py:703: FutureWarning: arrays to stack must be passed as a \"sequence\" type such as list or tuple. Support for non-sequence iterables such as generators is deprecated as of NumPy 1.16 and will raise an error in the future.\n",
      "  design_matrix = np.hstack((x[:, None] for x in independent_vars))\n"
     ]
    },
    {
     "name": "stdout",
     "output_type": "stream",
     "text": [
      "Simulation number 93 is complete!\n",
      "==========================================\n",
      "==========================================\n",
      "Simulation number 94 is in progress...\n",
      "Simulation size is 7145\n",
      "------------------------------------------\n",
      "Simulating data...\n",
      "Simulating Availability...\n",
      "Converting data from wide to long...\n",
      "Simulating Choices...\n"
     ]
    },
    {
     "data": {
      "application/vnd.jupyter.widget-view+json": {
       "model_id": "7754e9cf66f04ce2adac895db3cbdc93",
       "version_major": 2,
       "version_minor": 0
      },
      "text/plain": [
       "HBox(children=(IntProgress(value=0, description='Simulating Choices', max=7145, style=ProgressStyle(descriptio…"
      ]
     },
     "metadata": {},
     "output_type": "display_data"
    },
    {
     "name": "stdout",
     "output_type": "stream",
     "text": [
      "\n",
      "Estimating the choice model...\n",
      "Log-likelihood at zero: -13,579.9980\n",
      "Initial Log-likelihood: -13,579.9980\n"
     ]
    },
    {
     "name": "stderr",
     "output_type": "stream",
     "text": [
      "/Users/mobouzaghrane/opt/anaconda3/lib/python3.7/site-packages/scipy/optimize/_minimize.py:505: RuntimeWarning: Method BFGS does not use Hessian information (hess).\n",
      "  RuntimeWarning)\n"
     ]
    },
    {
     "name": "stdout",
     "output_type": "stream",
     "text": [
      "Estimation Time for Point Estimation: 0.42 seconds.\n",
      "Final log-likelihood: -5,045.2775\n",
      "Estimating Causal Effects...\n"
     ]
    },
    {
     "name": "stderr",
     "output_type": "stream",
     "text": [
      "/Users/mobouzaghrane/opt/anaconda3/lib/python3.7/site-packages/pylogit/choice_tools.py:703: FutureWarning: arrays to stack must be passed as a \"sequence\" type such as list or tuple. Support for non-sequence iterables such as generators is deprecated as of NumPy 1.16 and will raise an error in the future.\n",
      "  design_matrix = np.hstack((x[:, None] for x in independent_vars))\n"
     ]
    },
    {
     "name": "stdout",
     "output_type": "stream",
     "text": [
      "Simulation number 94 is complete!\n",
      "==========================================\n",
      "==========================================\n",
      "Simulation number 95 is in progress...\n",
      "Simulation size is 5162\n",
      "------------------------------------------\n",
      "Simulating data...\n",
      "Simulating Availability...\n",
      "Converting data from wide to long...\n",
      "Simulating Choices...\n"
     ]
    },
    {
     "data": {
      "application/vnd.jupyter.widget-view+json": {
       "model_id": "9e1be3d1440d430c8c844c7d56186f83",
       "version_major": 2,
       "version_minor": 0
      },
      "text/plain": [
       "HBox(children=(IntProgress(value=0, description='Simulating Choices', max=5162, style=ProgressStyle(descriptio…"
      ]
     },
     "metadata": {},
     "output_type": "display_data"
    },
    {
     "name": "stdout",
     "output_type": "stream",
     "text": [
      "\n",
      "Estimating the choice model...\n",
      "Log-likelihood at zero: -9,796.8980\n",
      "Initial Log-likelihood: -9,796.8980\n"
     ]
    },
    {
     "name": "stderr",
     "output_type": "stream",
     "text": [
      "/Users/mobouzaghrane/opt/anaconda3/lib/python3.7/site-packages/scipy/optimize/_minimize.py:505: RuntimeWarning: Method BFGS does not use Hessian information (hess).\n",
      "  RuntimeWarning)\n"
     ]
    },
    {
     "name": "stdout",
     "output_type": "stream",
     "text": [
      "Estimation Time for Point Estimation: 0.30 seconds.\n",
      "Final log-likelihood: -3,545.9790\n",
      "Estimating Causal Effects...\n"
     ]
    },
    {
     "name": "stderr",
     "output_type": "stream",
     "text": [
      "/Users/mobouzaghrane/opt/anaconda3/lib/python3.7/site-packages/pylogit/choice_tools.py:703: FutureWarning: arrays to stack must be passed as a \"sequence\" type such as list or tuple. Support for non-sequence iterables such as generators is deprecated as of NumPy 1.16 and will raise an error in the future.\n",
      "  design_matrix = np.hstack((x[:, None] for x in independent_vars))\n"
     ]
    },
    {
     "name": "stdout",
     "output_type": "stream",
     "text": [
      "Simulation number 95 is complete!\n",
      "==========================================\n",
      "==========================================\n",
      "Simulation number 96 is in progress...\n",
      "Simulation size is 5839\n",
      "------------------------------------------\n",
      "Simulating data...\n",
      "Simulating Availability...\n",
      "Converting data from wide to long...\n",
      "Simulating Choices...\n"
     ]
    },
    {
     "data": {
      "application/vnd.jupyter.widget-view+json": {
       "model_id": "539f050f11d34472b18c9d5fe9f33d85",
       "version_major": 2,
       "version_minor": 0
      },
      "text/plain": [
       "HBox(children=(IntProgress(value=0, description='Simulating Choices', max=5839, style=ProgressStyle(descriptio…"
      ]
     },
     "metadata": {},
     "output_type": "display_data"
    },
    {
     "name": "stdout",
     "output_type": "stream",
     "text": [
      "\n",
      "Estimating the choice model...\n",
      "Log-likelihood at zero: -11,059.0030\n",
      "Initial Log-likelihood: -11,059.0030\n"
     ]
    },
    {
     "name": "stderr",
     "output_type": "stream",
     "text": [
      "/Users/mobouzaghrane/opt/anaconda3/lib/python3.7/site-packages/scipy/optimize/_minimize.py:505: RuntimeWarning: Method BFGS does not use Hessian information (hess).\n",
      "  RuntimeWarning)\n"
     ]
    },
    {
     "name": "stdout",
     "output_type": "stream",
     "text": [
      "Estimation Time for Point Estimation: 0.35 seconds.\n",
      "Final log-likelihood: -4,155.0789\n",
      "Estimating Causal Effects...\n"
     ]
    },
    {
     "name": "stderr",
     "output_type": "stream",
     "text": [
      "/Users/mobouzaghrane/opt/anaconda3/lib/python3.7/site-packages/pylogit/choice_tools.py:703: FutureWarning: arrays to stack must be passed as a \"sequence\" type such as list or tuple. Support for non-sequence iterables such as generators is deprecated as of NumPy 1.16 and will raise an error in the future.\n",
      "  design_matrix = np.hstack((x[:, None] for x in independent_vars))\n"
     ]
    },
    {
     "name": "stdout",
     "output_type": "stream",
     "text": [
      "Simulation number 96 is complete!\n",
      "==========================================\n",
      "==========================================\n",
      "Simulation number 97 is in progress...\n",
      "Simulation size is 5960\n",
      "------------------------------------------\n",
      "Simulating data...\n",
      "Simulating Availability...\n",
      "Converting data from wide to long...\n",
      "Simulating Choices...\n"
     ]
    },
    {
     "data": {
      "application/vnd.jupyter.widget-view+json": {
       "model_id": "3334287e57084f55ab0c11f1f1db1d46",
       "version_major": 2,
       "version_minor": 0
      },
      "text/plain": [
       "HBox(children=(IntProgress(value=0, description='Simulating Choices', max=5960, style=ProgressStyle(descriptio…"
      ]
     },
     "metadata": {},
     "output_type": "display_data"
    },
    {
     "name": "stdout",
     "output_type": "stream",
     "text": [
      "\n",
      "Estimating the choice model...\n",
      "Log-likelihood at zero: -11,330.8036\n",
      "Initial Log-likelihood: -11,330.8036\n"
     ]
    },
    {
     "name": "stderr",
     "output_type": "stream",
     "text": [
      "/Users/mobouzaghrane/opt/anaconda3/lib/python3.7/site-packages/scipy/optimize/_minimize.py:505: RuntimeWarning: Method BFGS does not use Hessian information (hess).\n",
      "  RuntimeWarning)\n"
     ]
    },
    {
     "name": "stdout",
     "output_type": "stream",
     "text": [
      "Estimation Time for Point Estimation: 0.35 seconds.\n",
      "Final log-likelihood: -4,197.2799\n",
      "Estimating Causal Effects...\n"
     ]
    },
    {
     "name": "stderr",
     "output_type": "stream",
     "text": [
      "/Users/mobouzaghrane/opt/anaconda3/lib/python3.7/site-packages/pylogit/choice_tools.py:703: FutureWarning: arrays to stack must be passed as a \"sequence\" type such as list or tuple. Support for non-sequence iterables such as generators is deprecated as of NumPy 1.16 and will raise an error in the future.\n",
      "  design_matrix = np.hstack((x[:, None] for x in independent_vars))\n"
     ]
    },
    {
     "name": "stdout",
     "output_type": "stream",
     "text": [
      "Simulation number 97 is complete!\n",
      "==========================================\n",
      "==========================================\n",
      "Simulation number 98 is in progress...\n",
      "Simulation size is 8407\n",
      "------------------------------------------\n",
      "Simulating data...\n",
      "Simulating Availability...\n",
      "Converting data from wide to long...\n",
      "Simulating Choices...\n"
     ]
    },
    {
     "data": {
      "application/vnd.jupyter.widget-view+json": {
       "model_id": "b7fa3798575c4315b2dbf14c4e986126",
       "version_major": 2,
       "version_minor": 0
      },
      "text/plain": [
       "HBox(children=(IntProgress(value=0, description='Simulating Choices', max=8407, style=ProgressStyle(descriptio…"
      ]
     },
     "metadata": {},
     "output_type": "display_data"
    },
    {
     "name": "stdout",
     "output_type": "stream",
     "text": [
      "\n",
      "Estimating the choice model...\n",
      "Log-likelihood at zero: -15,939.8553\n",
      "Initial Log-likelihood: -15,939.8553\n"
     ]
    },
    {
     "name": "stderr",
     "output_type": "stream",
     "text": [
      "/Users/mobouzaghrane/opt/anaconda3/lib/python3.7/site-packages/scipy/optimize/_minimize.py:505: RuntimeWarning: Method BFGS does not use Hessian information (hess).\n",
      "  RuntimeWarning)\n"
     ]
    },
    {
     "name": "stdout",
     "output_type": "stream",
     "text": [
      "Estimation Time for Point Estimation: 0.66 seconds.\n",
      "Final log-likelihood: -6,005.1999\n",
      "Estimating Causal Effects...\n"
     ]
    },
    {
     "name": "stderr",
     "output_type": "stream",
     "text": [
      "/Users/mobouzaghrane/opt/anaconda3/lib/python3.7/site-packages/pylogit/choice_tools.py:703: FutureWarning: arrays to stack must be passed as a \"sequence\" type such as list or tuple. Support for non-sequence iterables such as generators is deprecated as of NumPy 1.16 and will raise an error in the future.\n",
      "  design_matrix = np.hstack((x[:, None] for x in independent_vars))\n"
     ]
    },
    {
     "name": "stdout",
     "output_type": "stream",
     "text": [
      "Simulation number 98 is complete!\n",
      "==========================================\n",
      "==========================================\n",
      "Simulation number 99 is in progress...\n",
      "Simulation size is 5713\n",
      "------------------------------------------\n",
      "Simulating data...\n",
      "Simulating Availability...\n",
      "Converting data from wide to long...\n",
      "Simulating Choices...\n"
     ]
    },
    {
     "data": {
      "application/vnd.jupyter.widget-view+json": {
       "model_id": "03ce067b1e58419db1a694dc1ed679b8",
       "version_major": 2,
       "version_minor": 0
      },
      "text/plain": [
       "HBox(children=(IntProgress(value=0, description='Simulating Choices', max=5713, style=ProgressStyle(descriptio…"
      ]
     },
     "metadata": {},
     "output_type": "display_data"
    },
    {
     "name": "stdout",
     "output_type": "stream",
     "text": [
      "\n",
      "Estimating the choice model...\n",
      "Log-likelihood at zero: -10,866.8474\n",
      "Initial Log-likelihood: -10,866.8474\n"
     ]
    },
    {
     "name": "stderr",
     "output_type": "stream",
     "text": [
      "/Users/mobouzaghrane/opt/anaconda3/lib/python3.7/site-packages/scipy/optimize/_minimize.py:505: RuntimeWarning: Method BFGS does not use Hessian information (hess).\n",
      "  RuntimeWarning)\n"
     ]
    },
    {
     "name": "stdout",
     "output_type": "stream",
     "text": [
      "Estimation Time for Point Estimation: 0.39 seconds.\n",
      "Final log-likelihood: -4,031.9965\n",
      "Estimating Causal Effects...\n"
     ]
    },
    {
     "name": "stderr",
     "output_type": "stream",
     "text": [
      "/Users/mobouzaghrane/opt/anaconda3/lib/python3.7/site-packages/pylogit/choice_tools.py:703: FutureWarning: arrays to stack must be passed as a \"sequence\" type such as list or tuple. Support for non-sequence iterables such as generators is deprecated as of NumPy 1.16 and will raise an error in the future.\n",
      "  design_matrix = np.hstack((x[:, None] for x in independent_vars))\n"
     ]
    },
    {
     "name": "stdout",
     "output_type": "stream",
     "text": [
      "Simulation number 99 is complete!\n",
      "==========================================\n",
      "==========================================\n",
      "Simulation number 100 is in progress...\n",
      "Simulation size is 4660\n",
      "------------------------------------------\n",
      "Simulating data...\n",
      "Simulating Availability...\n",
      "Converting data from wide to long...\n",
      "Simulating Choices...\n"
     ]
    },
    {
     "data": {
      "application/vnd.jupyter.widget-view+json": {
       "model_id": "2354977c3a3e46be91214aa9f443c2b6",
       "version_major": 2,
       "version_minor": 0
      },
      "text/plain": [
       "HBox(children=(IntProgress(value=0, description='Simulating Choices', max=4660, style=ProgressStyle(descriptio…"
      ]
     },
     "metadata": {},
     "output_type": "display_data"
    },
    {
     "name": "stdout",
     "output_type": "stream",
     "text": [
      "\n",
      "Estimating the choice model...\n",
      "Log-likelihood at zero: -8,822.3442\n",
      "Initial Log-likelihood: -8,822.3442\n"
     ]
    },
    {
     "name": "stderr",
     "output_type": "stream",
     "text": [
      "/Users/mobouzaghrane/opt/anaconda3/lib/python3.7/site-packages/scipy/optimize/_minimize.py:505: RuntimeWarning: Method BFGS does not use Hessian information (hess).\n",
      "  RuntimeWarning)\n"
     ]
    },
    {
     "name": "stdout",
     "output_type": "stream",
     "text": [
      "Estimation Time for Point Estimation: 0.27 seconds.\n",
      "Final log-likelihood: -3,286.1428\n",
      "Estimating Causal Effects...\n",
      "Simulation number 100 is complete!\n",
      "==========================================\n",
      "==========================================\n",
      "Simulation number 101 is in progress...\n",
      "Simulation size is 3555\n",
      "------------------------------------------\n",
      "Simulating data...\n"
     ]
    },
    {
     "name": "stderr",
     "output_type": "stream",
     "text": [
      "/Users/mobouzaghrane/opt/anaconda3/lib/python3.7/site-packages/pylogit/choice_tools.py:703: FutureWarning: arrays to stack must be passed as a \"sequence\" type such as list or tuple. Support for non-sequence iterables such as generators is deprecated as of NumPy 1.16 and will raise an error in the future.\n",
      "  design_matrix = np.hstack((x[:, None] for x in independent_vars))\n"
     ]
    },
    {
     "name": "stdout",
     "output_type": "stream",
     "text": [
      "Simulating Availability...\n",
      "Converting data from wide to long...\n",
      "Simulating Choices...\n"
     ]
    },
    {
     "data": {
      "application/vnd.jupyter.widget-view+json": {
       "model_id": "5782d0e5a36e4fa2a84b3684d0699e75",
       "version_major": 2,
       "version_minor": 0
      },
      "text/plain": [
       "HBox(children=(IntProgress(value=0, description='Simulating Choices', max=3555, style=ProgressStyle(descriptio…"
      ]
     },
     "metadata": {},
     "output_type": "display_data"
    },
    {
     "name": "stdout",
     "output_type": "stream",
     "text": [
      "\n",
      "Estimating the choice model...\n",
      "Log-likelihood at zero: -6,733.8153\n",
      "Initial Log-likelihood: -6,733.8153\n",
      "Estimation Time for Point Estimation: 0.21 seconds.\n",
      "Final log-likelihood: -2,467.8700\n"
     ]
    },
    {
     "name": "stderr",
     "output_type": "stream",
     "text": [
      "/Users/mobouzaghrane/opt/anaconda3/lib/python3.7/site-packages/scipy/optimize/_minimize.py:505: RuntimeWarning: Method BFGS does not use Hessian information (hess).\n",
      "  RuntimeWarning)\n"
     ]
    },
    {
     "name": "stdout",
     "output_type": "stream",
     "text": [
      "Estimating Causal Effects...\n",
      "Simulation number 101 is complete!\n",
      "==========================================\n",
      "==========================================\n",
      "Simulation number 102 is in progress...\n",
      "Simulation size is 6342\n",
      "------------------------------------------\n",
      "Simulating data...\n",
      "Simulating Availability...\n"
     ]
    },
    {
     "name": "stderr",
     "output_type": "stream",
     "text": [
      "/Users/mobouzaghrane/opt/anaconda3/lib/python3.7/site-packages/pylogit/choice_tools.py:703: FutureWarning: arrays to stack must be passed as a \"sequence\" type such as list or tuple. Support for non-sequence iterables such as generators is deprecated as of NumPy 1.16 and will raise an error in the future.\n",
      "  design_matrix = np.hstack((x[:, None] for x in independent_vars))\n"
     ]
    },
    {
     "name": "stdout",
     "output_type": "stream",
     "text": [
      "Converting data from wide to long...\n",
      "Simulating Choices...\n"
     ]
    },
    {
     "data": {
      "application/vnd.jupyter.widget-view+json": {
       "model_id": "ece51ef85d3f42beab01a00ede11893b",
       "version_major": 2,
       "version_minor": 0
      },
      "text/plain": [
       "HBox(children=(IntProgress(value=0, description='Simulating Choices', max=6342, style=ProgressStyle(descriptio…"
      ]
     },
     "metadata": {},
     "output_type": "display_data"
    },
    {
     "name": "stdout",
     "output_type": "stream",
     "text": [
      "\n",
      "Estimating the choice model...\n",
      "Log-likelihood at zero: -12,033.3524\n",
      "Initial Log-likelihood: -12,033.3524\n"
     ]
    },
    {
     "name": "stderr",
     "output_type": "stream",
     "text": [
      "/Users/mobouzaghrane/opt/anaconda3/lib/python3.7/site-packages/scipy/optimize/_minimize.py:505: RuntimeWarning: Method BFGS does not use Hessian information (hess).\n",
      "  RuntimeWarning)\n"
     ]
    },
    {
     "name": "stdout",
     "output_type": "stream",
     "text": [
      "Estimation Time for Point Estimation: 0.34 seconds.\n",
      "Final log-likelihood: -4,445.3295\n",
      "Estimating Causal Effects...\n"
     ]
    },
    {
     "name": "stderr",
     "output_type": "stream",
     "text": [
      "/Users/mobouzaghrane/opt/anaconda3/lib/python3.7/site-packages/pylogit/choice_tools.py:703: FutureWarning: arrays to stack must be passed as a \"sequence\" type such as list or tuple. Support for non-sequence iterables such as generators is deprecated as of NumPy 1.16 and will raise an error in the future.\n",
      "  design_matrix = np.hstack((x[:, None] for x in independent_vars))\n"
     ]
    },
    {
     "name": "stdout",
     "output_type": "stream",
     "text": [
      "Simulation number 102 is complete!\n",
      "==========================================\n",
      "==========================================\n",
      "Simulation number 103 is in progress...\n",
      "Simulation size is 3233\n",
      "------------------------------------------\n",
      "Simulating data...\n",
      "Simulating Availability...\n",
      "Converting data from wide to long...\n",
      "Simulating Choices...\n"
     ]
    },
    {
     "data": {
      "application/vnd.jupyter.widget-view+json": {
       "model_id": "42c2a0292b564743917207fa331dcfbf",
       "version_major": 2,
       "version_minor": 0
      },
      "text/plain": [
       "HBox(children=(IntProgress(value=0, description='Simulating Choices', max=3233, style=ProgressStyle(descriptio…"
      ]
     },
     "metadata": {},
     "output_type": "display_data"
    },
    {
     "name": "stdout",
     "output_type": "stream",
     "text": [
      "\n",
      "Estimating the choice model...\n",
      "Log-likelihood at zero: -6,139.0227\n",
      "Initial Log-likelihood: -6,139.0227\n"
     ]
    },
    {
     "name": "stderr",
     "output_type": "stream",
     "text": [
      "/Users/mobouzaghrane/opt/anaconda3/lib/python3.7/site-packages/scipy/optimize/_minimize.py:505: RuntimeWarning: Method BFGS does not use Hessian information (hess).\n",
      "  RuntimeWarning)\n"
     ]
    },
    {
     "name": "stdout",
     "output_type": "stream",
     "text": [
      "Estimation Time for Point Estimation: 0.23 seconds.\n",
      "Final log-likelihood: -2,287.6752\n",
      "Estimating Causal Effects...\n",
      "Simulation number 103 is complete!\n",
      "==========================================\n",
      "==========================================\n",
      "Simulation number 104 is in progress...\n",
      "Simulation size is 3270\n",
      "------------------------------------------\n",
      "Simulating data...\n",
      "Simulating Availability...\n"
     ]
    },
    {
     "name": "stderr",
     "output_type": "stream",
     "text": [
      "/Users/mobouzaghrane/opt/anaconda3/lib/python3.7/site-packages/pylogit/choice_tools.py:703: FutureWarning: arrays to stack must be passed as a \"sequence\" type such as list or tuple. Support for non-sequence iterables such as generators is deprecated as of NumPy 1.16 and will raise an error in the future.\n",
      "  design_matrix = np.hstack((x[:, None] for x in independent_vars))\n"
     ]
    },
    {
     "name": "stdout",
     "output_type": "stream",
     "text": [
      "Converting data from wide to long...\n",
      "Simulating Choices...\n"
     ]
    },
    {
     "data": {
      "application/vnd.jupyter.widget-view+json": {
       "model_id": "2cc5446f84be4e5391c144e10f5189ba",
       "version_major": 2,
       "version_minor": 0
      },
      "text/plain": [
       "HBox(children=(IntProgress(value=0, description='Simulating Choices', max=3270, style=ProgressStyle(descriptio…"
      ]
     },
     "metadata": {},
     "output_type": "display_data"
    },
    {
     "name": "stdout",
     "output_type": "stream",
     "text": [
      "\n",
      "Estimating the choice model...\n",
      "Log-likelihood at zero: -6,216.5018\n",
      "Initial Log-likelihood: -6,216.5018\n",
      "Estimation Time for Point Estimation: 0.19 seconds.\n",
      "Final log-likelihood: -2,336.8797\n"
     ]
    },
    {
     "name": "stderr",
     "output_type": "stream",
     "text": [
      "/Users/mobouzaghrane/opt/anaconda3/lib/python3.7/site-packages/scipy/optimize/_minimize.py:505: RuntimeWarning: Method BFGS does not use Hessian information (hess).\n",
      "  RuntimeWarning)\n"
     ]
    },
    {
     "name": "stdout",
     "output_type": "stream",
     "text": [
      "Estimating Causal Effects...\n",
      "Simulation number 104 is complete!\n",
      "==========================================\n",
      "==========================================\n",
      "Simulation number 105 is in progress...\n",
      "Simulation size is 5996\n",
      "------------------------------------------\n",
      "Simulating data...\n",
      "Simulating Availability...\n"
     ]
    },
    {
     "name": "stderr",
     "output_type": "stream",
     "text": [
      "/Users/mobouzaghrane/opt/anaconda3/lib/python3.7/site-packages/pylogit/choice_tools.py:703: FutureWarning: arrays to stack must be passed as a \"sequence\" type such as list or tuple. Support for non-sequence iterables such as generators is deprecated as of NumPy 1.16 and will raise an error in the future.\n",
      "  design_matrix = np.hstack((x[:, None] for x in independent_vars))\n"
     ]
    },
    {
     "name": "stdout",
     "output_type": "stream",
     "text": [
      "Converting data from wide to long...\n",
      "Simulating Choices...\n"
     ]
    },
    {
     "data": {
      "application/vnd.jupyter.widget-view+json": {
       "model_id": "bfdcb70e4ae7435bb2f1c76795099c3c",
       "version_major": 2,
       "version_minor": 0
      },
      "text/plain": [
       "HBox(children=(IntProgress(value=0, description='Simulating Choices', max=5996, style=ProgressStyle(descriptio…"
      ]
     },
     "metadata": {},
     "output_type": "display_data"
    },
    {
     "name": "stdout",
     "output_type": "stream",
     "text": [
      "\n",
      "Estimating the choice model...\n",
      "Log-likelihood at zero: -11,375.9473\n",
      "Initial Log-likelihood: -11,375.9473\n"
     ]
    },
    {
     "name": "stderr",
     "output_type": "stream",
     "text": [
      "/Users/mobouzaghrane/opt/anaconda3/lib/python3.7/site-packages/scipy/optimize/_minimize.py:505: RuntimeWarning: Method BFGS does not use Hessian information (hess).\n",
      "  RuntimeWarning)\n"
     ]
    },
    {
     "name": "stdout",
     "output_type": "stream",
     "text": [
      "Estimation Time for Point Estimation: 0.44 seconds.\n",
      "Final log-likelihood: -4,285.2242\n",
      "Estimating Causal Effects...\n"
     ]
    },
    {
     "name": "stderr",
     "output_type": "stream",
     "text": [
      "/Users/mobouzaghrane/opt/anaconda3/lib/python3.7/site-packages/pylogit/choice_tools.py:703: FutureWarning: arrays to stack must be passed as a \"sequence\" type such as list or tuple. Support for non-sequence iterables such as generators is deprecated as of NumPy 1.16 and will raise an error in the future.\n",
      "  design_matrix = np.hstack((x[:, None] for x in independent_vars))\n"
     ]
    },
    {
     "name": "stdout",
     "output_type": "stream",
     "text": [
      "Simulation number 105 is complete!\n",
      "==========================================\n",
      "==========================================\n",
      "Simulation number 106 is in progress...\n",
      "Simulation size is 8110\n",
      "------------------------------------------\n",
      "Simulating data...\n",
      "Simulating Availability...\n",
      "Converting data from wide to long...\n",
      "Simulating Choices...\n"
     ]
    },
    {
     "data": {
      "application/vnd.jupyter.widget-view+json": {
       "model_id": "5d01e47ed34146efade69155e4bf944f",
       "version_major": 2,
       "version_minor": 0
      },
      "text/plain": [
       "HBox(children=(IntProgress(value=0, description='Simulating Choices', max=8110, style=ProgressStyle(descriptio…"
      ]
     },
     "metadata": {},
     "output_type": "display_data"
    },
    {
     "name": "stdout",
     "output_type": "stream",
     "text": [
      "\n",
      "Estimating the choice model...\n",
      "Log-likelihood at zero: -15,346.7038\n",
      "Initial Log-likelihood: -15,346.7038\n"
     ]
    },
    {
     "name": "stderr",
     "output_type": "stream",
     "text": [
      "/Users/mobouzaghrane/opt/anaconda3/lib/python3.7/site-packages/scipy/optimize/_minimize.py:505: RuntimeWarning: Method BFGS does not use Hessian information (hess).\n",
      "  RuntimeWarning)\n"
     ]
    },
    {
     "name": "stdout",
     "output_type": "stream",
     "text": [
      "Estimation Time for Point Estimation: 0.71 seconds.\n",
      "Final log-likelihood: -5,716.9459\n",
      "Estimating Causal Effects...\n"
     ]
    },
    {
     "name": "stderr",
     "output_type": "stream",
     "text": [
      "/Users/mobouzaghrane/opt/anaconda3/lib/python3.7/site-packages/pylogit/choice_tools.py:703: FutureWarning: arrays to stack must be passed as a \"sequence\" type such as list or tuple. Support for non-sequence iterables such as generators is deprecated as of NumPy 1.16 and will raise an error in the future.\n",
      "  design_matrix = np.hstack((x[:, None] for x in independent_vars))\n"
     ]
    },
    {
     "name": "stdout",
     "output_type": "stream",
     "text": [
      "Simulation number 106 is complete!\n",
      "==========================================\n",
      "==========================================\n",
      "Simulation number 107 is in progress...\n",
      "Simulation size is 7531\n",
      "------------------------------------------\n",
      "Simulating data...\n",
      "Simulating Availability...\n",
      "Converting data from wide to long...\n",
      "Simulating Choices...\n"
     ]
    },
    {
     "data": {
      "application/vnd.jupyter.widget-view+json": {
       "model_id": "ee2cd6b1920d44668b8529db97cedbfc",
       "version_major": 2,
       "version_minor": 0
      },
      "text/plain": [
       "HBox(children=(IntProgress(value=0, description='Simulating Choices', max=7531, style=ProgressStyle(descriptio…"
      ]
     },
     "metadata": {},
     "output_type": "display_data"
    },
    {
     "name": "stdout",
     "output_type": "stream",
     "text": [
      "\n",
      "Estimating the choice model...\n",
      "Log-likelihood at zero: -14,298.6336\n",
      "Initial Log-likelihood: -14,298.6336\n"
     ]
    },
    {
     "name": "stderr",
     "output_type": "stream",
     "text": [
      "/Users/mobouzaghrane/opt/anaconda3/lib/python3.7/site-packages/scipy/optimize/_minimize.py:505: RuntimeWarning: Method BFGS does not use Hessian information (hess).\n",
      "  RuntimeWarning)\n"
     ]
    },
    {
     "name": "stdout",
     "output_type": "stream",
     "text": [
      "Estimation Time for Point Estimation: 0.44 seconds.\n",
      "Final log-likelihood: -5,305.5007\n",
      "Estimating Causal Effects...\n"
     ]
    },
    {
     "name": "stderr",
     "output_type": "stream",
     "text": [
      "/Users/mobouzaghrane/opt/anaconda3/lib/python3.7/site-packages/pylogit/choice_tools.py:703: FutureWarning: arrays to stack must be passed as a \"sequence\" type such as list or tuple. Support for non-sequence iterables such as generators is deprecated as of NumPy 1.16 and will raise an error in the future.\n",
      "  design_matrix = np.hstack((x[:, None] for x in independent_vars))\n"
     ]
    },
    {
     "name": "stdout",
     "output_type": "stream",
     "text": [
      "Simulation number 107 is complete!\n",
      "==========================================\n",
      "==========================================\n",
      "Simulation number 108 is in progress...\n",
      "Simulation size is 7762\n",
      "------------------------------------------\n",
      "Simulating data...\n",
      "Simulating Availability...\n",
      "Converting data from wide to long...\n",
      "Simulating Choices...\n"
     ]
    },
    {
     "data": {
      "application/vnd.jupyter.widget-view+json": {
       "model_id": "3ee227d3f2194c7e951db823053515c5",
       "version_major": 2,
       "version_minor": 0
      },
      "text/plain": [
       "HBox(children=(IntProgress(value=0, description='Simulating Choices', max=7762, style=ProgressStyle(descriptio…"
      ]
     },
     "metadata": {},
     "output_type": "display_data"
    },
    {
     "name": "stdout",
     "output_type": "stream",
     "text": [
      "\n",
      "Estimating the choice model...\n",
      "Log-likelihood at zero: -14,716.6145\n",
      "Initial Log-likelihood: -14,716.6145\n"
     ]
    },
    {
     "name": "stderr",
     "output_type": "stream",
     "text": [
      "/Users/mobouzaghrane/opt/anaconda3/lib/python3.7/site-packages/scipy/optimize/_minimize.py:505: RuntimeWarning: Method BFGS does not use Hessian information (hess).\n",
      "  RuntimeWarning)\n"
     ]
    },
    {
     "name": "stdout",
     "output_type": "stream",
     "text": [
      "Estimation Time for Point Estimation: 0.71 seconds.\n",
      "Final log-likelihood: -5,430.5959\n",
      "Estimating Causal Effects...\n"
     ]
    },
    {
     "name": "stderr",
     "output_type": "stream",
     "text": [
      "/Users/mobouzaghrane/opt/anaconda3/lib/python3.7/site-packages/pylogit/choice_tools.py:703: FutureWarning: arrays to stack must be passed as a \"sequence\" type such as list or tuple. Support for non-sequence iterables such as generators is deprecated as of NumPy 1.16 and will raise an error in the future.\n",
      "  design_matrix = np.hstack((x[:, None] for x in independent_vars))\n"
     ]
    },
    {
     "name": "stdout",
     "output_type": "stream",
     "text": [
      "Simulation number 108 is complete!\n",
      "==========================================\n",
      "==========================================\n",
      "Simulation number 109 is in progress...\n",
      "Simulation size is 8110\n",
      "------------------------------------------\n",
      "Simulating data...\n",
      "Simulating Availability...\n",
      "Converting data from wide to long...\n",
      "Simulating Choices...\n"
     ]
    },
    {
     "data": {
      "application/vnd.jupyter.widget-view+json": {
       "model_id": "e651910997714d2eb0356275ecbe6cc4",
       "version_major": 2,
       "version_minor": 0
      },
      "text/plain": [
       "HBox(children=(IntProgress(value=0, description='Simulating Choices', max=8110, style=ProgressStyle(descriptio…"
      ]
     },
     "metadata": {},
     "output_type": "display_data"
    },
    {
     "name": "stdout",
     "output_type": "stream",
     "text": [
      "\n",
      "Estimating the choice model...\n",
      "Log-likelihood at zero: -15,418.8784\n",
      "Initial Log-likelihood: -15,418.8784\n"
     ]
    },
    {
     "name": "stderr",
     "output_type": "stream",
     "text": [
      "/Users/mobouzaghrane/opt/anaconda3/lib/python3.7/site-packages/scipy/optimize/_minimize.py:505: RuntimeWarning: Method BFGS does not use Hessian information (hess).\n",
      "  RuntimeWarning)\n"
     ]
    },
    {
     "name": "stdout",
     "output_type": "stream",
     "text": [
      "Estimation Time for Point Estimation: 0.45 seconds.\n",
      "Final log-likelihood: -5,764.6950\n",
      "Estimating Causal Effects...\n"
     ]
    },
    {
     "name": "stderr",
     "output_type": "stream",
     "text": [
      "/Users/mobouzaghrane/opt/anaconda3/lib/python3.7/site-packages/pylogit/choice_tools.py:703: FutureWarning: arrays to stack must be passed as a \"sequence\" type such as list or tuple. Support for non-sequence iterables such as generators is deprecated as of NumPy 1.16 and will raise an error in the future.\n",
      "  design_matrix = np.hstack((x[:, None] for x in independent_vars))\n"
     ]
    },
    {
     "name": "stdout",
     "output_type": "stream",
     "text": [
      "Simulation number 109 is complete!\n",
      "==========================================\n",
      "==========================================\n",
      "Simulation number 110 is in progress...\n",
      "Simulation size is 3993\n",
      "------------------------------------------\n",
      "Simulating data...\n",
      "Simulating Availability...\n",
      "Converting data from wide to long...\n",
      "Simulating Choices...\n"
     ]
    },
    {
     "data": {
      "application/vnd.jupyter.widget-view+json": {
       "model_id": "8d573c6f981748c4af20ad2b7c7aef85",
       "version_major": 2,
       "version_minor": 0
      },
      "text/plain": [
       "HBox(children=(IntProgress(value=0, description='Simulating Choices', max=3993, style=ProgressStyle(descriptio…"
      ]
     },
     "metadata": {},
     "output_type": "display_data"
    },
    {
     "name": "stdout",
     "output_type": "stream",
     "text": [
      "\n",
      "Estimating the choice model...\n",
      "Log-likelihood at zero: -7,571.9570\n",
      "Initial Log-likelihood: -7,571.9570\n"
     ]
    },
    {
     "name": "stderr",
     "output_type": "stream",
     "text": [
      "/Users/mobouzaghrane/opt/anaconda3/lib/python3.7/site-packages/scipy/optimize/_minimize.py:505: RuntimeWarning: Method BFGS does not use Hessian information (hess).\n",
      "  RuntimeWarning)\n"
     ]
    },
    {
     "name": "stdout",
     "output_type": "stream",
     "text": [
      "Estimation Time for Point Estimation: 0.23 seconds.\n",
      "Final log-likelihood: -2,748.5294\n",
      "Estimating Causal Effects...\n",
      "Simulation number 110 is complete!\n",
      "==========================================\n",
      "==========================================\n",
      "Simulation number 111 is in progress...\n",
      "Simulation size is 7000\n",
      "------------------------------------------\n",
      "Simulating data...\n"
     ]
    },
    {
     "name": "stderr",
     "output_type": "stream",
     "text": [
      "/Users/mobouzaghrane/opt/anaconda3/lib/python3.7/site-packages/pylogit/choice_tools.py:703: FutureWarning: arrays to stack must be passed as a \"sequence\" type such as list or tuple. Support for non-sequence iterables such as generators is deprecated as of NumPy 1.16 and will raise an error in the future.\n",
      "  design_matrix = np.hstack((x[:, None] for x in independent_vars))\n"
     ]
    },
    {
     "name": "stdout",
     "output_type": "stream",
     "text": [
      "Simulating Availability...\n",
      "Converting data from wide to long...\n",
      "Simulating Choices...\n"
     ]
    },
    {
     "data": {
      "application/vnd.jupyter.widget-view+json": {
       "model_id": "8bd004977b0640518ee23a3eaa80dd7d",
       "version_major": 2,
       "version_minor": 0
      },
      "text/plain": [
       "HBox(children=(IntProgress(value=0, description='Simulating Choices', max=7000, style=ProgressStyle(descriptio…"
      ]
     },
     "metadata": {},
     "output_type": "display_data"
    },
    {
     "name": "stdout",
     "output_type": "stream",
     "text": [
      "\n",
      "Estimating the choice model...\n",
      "Log-likelihood at zero: -13,304.7626\n",
      "Initial Log-likelihood: -13,304.7626\n"
     ]
    },
    {
     "name": "stderr",
     "output_type": "stream",
     "text": [
      "/Users/mobouzaghrane/opt/anaconda3/lib/python3.7/site-packages/scipy/optimize/_minimize.py:505: RuntimeWarning: Method BFGS does not use Hessian information (hess).\n",
      "  RuntimeWarning)\n"
     ]
    },
    {
     "name": "stdout",
     "output_type": "stream",
     "text": [
      "Estimation Time for Point Estimation: 0.38 seconds.\n",
      "Final log-likelihood: -4,872.6218\n",
      "Estimating Causal Effects...\n"
     ]
    },
    {
     "name": "stderr",
     "output_type": "stream",
     "text": [
      "/Users/mobouzaghrane/opt/anaconda3/lib/python3.7/site-packages/pylogit/choice_tools.py:703: FutureWarning: arrays to stack must be passed as a \"sequence\" type such as list or tuple. Support for non-sequence iterables such as generators is deprecated as of NumPy 1.16 and will raise an error in the future.\n",
      "  design_matrix = np.hstack((x[:, None] for x in independent_vars))\n"
     ]
    },
    {
     "name": "stdout",
     "output_type": "stream",
     "text": [
      "Simulation number 111 is complete!\n",
      "==========================================\n",
      "==========================================\n",
      "Simulation number 112 is in progress...\n",
      "Simulation size is 8175\n",
      "------------------------------------------\n",
      "Simulating data...\n",
      "Simulating Availability...\n",
      "Converting data from wide to long...\n",
      "Simulating Choices...\n"
     ]
    },
    {
     "data": {
      "application/vnd.jupyter.widget-view+json": {
       "model_id": "e7b41bc27976430eac333d49363d0da7",
       "version_major": 2,
       "version_minor": 0
      },
      "text/plain": [
       "HBox(children=(IntProgress(value=0, description='Simulating Choices', max=8175, style=ProgressStyle(descriptio…"
      ]
     },
     "metadata": {},
     "output_type": "display_data"
    },
    {
     "name": "stdout",
     "output_type": "stream",
     "text": [
      "\n",
      "Estimating the choice model...\n",
      "Log-likelihood at zero: -15,551.6570\n",
      "Initial Log-likelihood: -15,551.6570\n"
     ]
    },
    {
     "name": "stderr",
     "output_type": "stream",
     "text": [
      "/Users/mobouzaghrane/opt/anaconda3/lib/python3.7/site-packages/scipy/optimize/_minimize.py:505: RuntimeWarning: Method BFGS does not use Hessian information (hess).\n",
      "  RuntimeWarning)\n"
     ]
    },
    {
     "name": "stdout",
     "output_type": "stream",
     "text": [
      "Estimation Time for Point Estimation: 0.73 seconds.\n",
      "Final log-likelihood: -5,807.8588\n",
      "Estimating Causal Effects...\n"
     ]
    },
    {
     "name": "stderr",
     "output_type": "stream",
     "text": [
      "/Users/mobouzaghrane/opt/anaconda3/lib/python3.7/site-packages/pylogit/choice_tools.py:703: FutureWarning: arrays to stack must be passed as a \"sequence\" type such as list or tuple. Support for non-sequence iterables such as generators is deprecated as of NumPy 1.16 and will raise an error in the future.\n",
      "  design_matrix = np.hstack((x[:, None] for x in independent_vars))\n"
     ]
    },
    {
     "name": "stdout",
     "output_type": "stream",
     "text": [
      "Simulation number 112 is complete!\n",
      "==========================================\n",
      "==========================================\n",
      "Simulation number 113 is in progress...\n",
      "Simulation size is 3675\n",
      "------------------------------------------\n",
      "Simulating data...\n",
      "Simulating Availability...\n",
      "Converting data from wide to long...\n",
      "Simulating Choices...\n"
     ]
    },
    {
     "data": {
      "application/vnd.jupyter.widget-view+json": {
       "model_id": "afb6d85da29a426f9366fd886074e934",
       "version_major": 2,
       "version_minor": 0
      },
      "text/plain": [
       "HBox(children=(IntProgress(value=0, description='Simulating Choices', max=3675, style=ProgressStyle(descriptio…"
      ]
     },
     "metadata": {},
     "output_type": "display_data"
    },
    {
     "name": "stdout",
     "output_type": "stream",
     "text": [
      "\n",
      "Estimating the choice model...\n",
      "Log-likelihood at zero: -6,973.4958\n",
      "Initial Log-likelihood: -6,973.4958\n",
      "Estimation Time for Point Estimation: 0.19 seconds.\n",
      "Final log-likelihood: -2,541.3423\n"
     ]
    },
    {
     "name": "stderr",
     "output_type": "stream",
     "text": [
      "/Users/mobouzaghrane/opt/anaconda3/lib/python3.7/site-packages/scipy/optimize/_minimize.py:505: RuntimeWarning: Method BFGS does not use Hessian information (hess).\n",
      "  RuntimeWarning)\n"
     ]
    },
    {
     "name": "stdout",
     "output_type": "stream",
     "text": [
      "Estimating Causal Effects...\n",
      "Simulation number 113 is complete!\n",
      "==========================================\n",
      "==========================================\n",
      "Simulation number 114 is in progress...\n",
      "Simulation size is 6057\n",
      "------------------------------------------\n",
      "Simulating data...\n",
      "Simulating Availability...\n"
     ]
    },
    {
     "name": "stderr",
     "output_type": "stream",
     "text": [
      "/Users/mobouzaghrane/opt/anaconda3/lib/python3.7/site-packages/pylogit/choice_tools.py:703: FutureWarning: arrays to stack must be passed as a \"sequence\" type such as list or tuple. Support for non-sequence iterables such as generators is deprecated as of NumPy 1.16 and will raise an error in the future.\n",
      "  design_matrix = np.hstack((x[:, None] for x in independent_vars))\n"
     ]
    },
    {
     "name": "stdout",
     "output_type": "stream",
     "text": [
      "Converting data from wide to long...\n",
      "Simulating Choices...\n"
     ]
    },
    {
     "data": {
      "application/vnd.jupyter.widget-view+json": {
       "model_id": "ec16561cb747439b822b047b247ccee4",
       "version_major": 2,
       "version_minor": 0
      },
      "text/plain": [
       "HBox(children=(IntProgress(value=0, description='Simulating Choices', max=6057, style=ProgressStyle(descriptio…"
      ]
     },
     "metadata": {},
     "output_type": "display_data"
    },
    {
     "name": "stdout",
     "output_type": "stream",
     "text": [
      "\n",
      "Estimating the choice model...\n",
      "Log-likelihood at zero: -11,501.3330\n",
      "Initial Log-likelihood: -11,501.3330\n"
     ]
    },
    {
     "name": "stderr",
     "output_type": "stream",
     "text": [
      "/Users/mobouzaghrane/opt/anaconda3/lib/python3.7/site-packages/scipy/optimize/_minimize.py:505: RuntimeWarning: Method BFGS does not use Hessian information (hess).\n",
      "  RuntimeWarning)\n"
     ]
    },
    {
     "name": "stdout",
     "output_type": "stream",
     "text": [
      "Estimation Time for Point Estimation: 0.34 seconds.\n",
      "Final log-likelihood: -4,276.9105\n",
      "Estimating Causal Effects...\n"
     ]
    },
    {
     "name": "stderr",
     "output_type": "stream",
     "text": [
      "/Users/mobouzaghrane/opt/anaconda3/lib/python3.7/site-packages/pylogit/choice_tools.py:703: FutureWarning: arrays to stack must be passed as a \"sequence\" type such as list or tuple. Support for non-sequence iterables such as generators is deprecated as of NumPy 1.16 and will raise an error in the future.\n",
      "  design_matrix = np.hstack((x[:, None] for x in independent_vars))\n"
     ]
    },
    {
     "name": "stdout",
     "output_type": "stream",
     "text": [
      "Simulation number 114 is complete!\n",
      "==========================================\n",
      "==========================================\n",
      "Simulation number 115 is in progress...\n",
      "Simulation size is 5050\n",
      "------------------------------------------\n",
      "Simulating data...\n",
      "Simulating Availability...\n",
      "Converting data from wide to long...\n",
      "Simulating Choices...\n"
     ]
    },
    {
     "data": {
      "application/vnd.jupyter.widget-view+json": {
       "model_id": "f315dc37f0dc42d582dc6d02d7a855e7",
       "version_major": 2,
       "version_minor": 0
      },
      "text/plain": [
       "HBox(children=(IntProgress(value=0, description='Simulating Choices', max=5050, style=ProgressStyle(descriptio…"
      ]
     },
     "metadata": {},
     "output_type": "display_data"
    },
    {
     "name": "stdout",
     "output_type": "stream",
     "text": [
      "\n",
      "Estimating the choice model...\n",
      "Log-likelihood at zero: -9,566.3029\n",
      "Initial Log-likelihood: -9,566.3029\n"
     ]
    },
    {
     "name": "stderr",
     "output_type": "stream",
     "text": [
      "/Users/mobouzaghrane/opt/anaconda3/lib/python3.7/site-packages/scipy/optimize/_minimize.py:505: RuntimeWarning: Method BFGS does not use Hessian information (hess).\n",
      "  RuntimeWarning)\n"
     ]
    },
    {
     "name": "stdout",
     "output_type": "stream",
     "text": [
      "Estimation Time for Point Estimation: 0.25 seconds.\n",
      "Final log-likelihood: -3,532.2408\n",
      "Estimating Causal Effects...\n",
      "Simulation number 115 is complete!\n",
      "==========================================\n",
      "==========================================\n",
      "Simulation number 116 is in progress...\n",
      "Simulation size is 4679\n",
      "------------------------------------------\n",
      "Simulating data...\n"
     ]
    },
    {
     "name": "stderr",
     "output_type": "stream",
     "text": [
      "/Users/mobouzaghrane/opt/anaconda3/lib/python3.7/site-packages/pylogit/choice_tools.py:703: FutureWarning: arrays to stack must be passed as a \"sequence\" type such as list or tuple. Support for non-sequence iterables such as generators is deprecated as of NumPy 1.16 and will raise an error in the future.\n",
      "  design_matrix = np.hstack((x[:, None] for x in independent_vars))\n"
     ]
    },
    {
     "name": "stdout",
     "output_type": "stream",
     "text": [
      "Simulating Availability...\n",
      "Converting data from wide to long...\n",
      "Simulating Choices...\n"
     ]
    },
    {
     "data": {
      "application/vnd.jupyter.widget-view+json": {
       "model_id": "a62a9c75e70a4abfb0665c96be059302",
       "version_major": 2,
       "version_minor": 0
      },
      "text/plain": [
       "HBox(children=(IntProgress(value=0, description='Simulating Choices', max=4679, style=ProgressStyle(descriptio…"
      ]
     },
     "metadata": {},
     "output_type": "display_data"
    },
    {
     "name": "stdout",
     "output_type": "stream",
     "text": [
      "\n",
      "Estimating the choice model...\n",
      "Log-likelihood at zero: -8,911.8087\n",
      "Initial Log-likelihood: -8,911.8087\n"
     ]
    },
    {
     "name": "stderr",
     "output_type": "stream",
     "text": [
      "/Users/mobouzaghrane/opt/anaconda3/lib/python3.7/site-packages/scipy/optimize/_minimize.py:505: RuntimeWarning: Method BFGS does not use Hessian information (hess).\n",
      "  RuntimeWarning)\n"
     ]
    },
    {
     "name": "stdout",
     "output_type": "stream",
     "text": [
      "Estimation Time for Point Estimation: 0.26 seconds.\n",
      "Final log-likelihood: -3,328.3504\n",
      "Estimating Causal Effects...\n",
      "Simulation number 116 is complete!\n",
      "==========================================\n",
      "==========================================\n",
      "Simulation number 117 is in progress...\n",
      "Simulation size is 8911\n",
      "------------------------------------------\n",
      "Simulating data...\n"
     ]
    },
    {
     "name": "stderr",
     "output_type": "stream",
     "text": [
      "/Users/mobouzaghrane/opt/anaconda3/lib/python3.7/site-packages/pylogit/choice_tools.py:703: FutureWarning: arrays to stack must be passed as a \"sequence\" type such as list or tuple. Support for non-sequence iterables such as generators is deprecated as of NumPy 1.16 and will raise an error in the future.\n",
      "  design_matrix = np.hstack((x[:, None] for x in independent_vars))\n"
     ]
    },
    {
     "name": "stdout",
     "output_type": "stream",
     "text": [
      "Simulating Availability...\n",
      "Converting data from wide to long...\n",
      "Simulating Choices...\n"
     ]
    },
    {
     "data": {
      "application/vnd.jupyter.widget-view+json": {
       "model_id": "92d95738aac14dde8af5310ebbd4db3c",
       "version_major": 2,
       "version_minor": 0
      },
      "text/plain": [
       "HBox(children=(IntProgress(value=0, description='Simulating Choices', max=8911, style=ProgressStyle(descriptio…"
      ]
     },
     "metadata": {},
     "output_type": "display_data"
    },
    {
     "name": "stdout",
     "output_type": "stream",
     "text": [
      "\n",
      "Estimating the choice model...\n",
      "Log-likelihood at zero: -16,903.5025\n",
      "Initial Log-likelihood: -16,903.5025\n"
     ]
    },
    {
     "name": "stderr",
     "output_type": "stream",
     "text": [
      "/Users/mobouzaghrane/opt/anaconda3/lib/python3.7/site-packages/scipy/optimize/_minimize.py:505: RuntimeWarning: Method BFGS does not use Hessian information (hess).\n",
      "  RuntimeWarning)\n"
     ]
    },
    {
     "name": "stdout",
     "output_type": "stream",
     "text": [
      "Estimation Time for Point Estimation: 0.51 seconds.\n",
      "Final log-likelihood: -6,260.0712\n",
      "Estimating Causal Effects...\n"
     ]
    },
    {
     "name": "stderr",
     "output_type": "stream",
     "text": [
      "/Users/mobouzaghrane/opt/anaconda3/lib/python3.7/site-packages/pylogit/choice_tools.py:703: FutureWarning: arrays to stack must be passed as a \"sequence\" type such as list or tuple. Support for non-sequence iterables such as generators is deprecated as of NumPy 1.16 and will raise an error in the future.\n",
      "  design_matrix = np.hstack((x[:, None] for x in independent_vars))\n"
     ]
    },
    {
     "name": "stdout",
     "output_type": "stream",
     "text": [
      "Simulation number 117 is complete!\n",
      "==========================================\n",
      "==========================================\n",
      "Simulation number 118 is in progress...\n",
      "Simulation size is 4102\n",
      "------------------------------------------\n",
      "Simulating data...\n",
      "Simulating Availability...\n",
      "Converting data from wide to long...\n",
      "Simulating Choices...\n"
     ]
    },
    {
     "data": {
      "application/vnd.jupyter.widget-view+json": {
       "model_id": "20374eaea3c7485faab3c3f69396a5d2",
       "version_major": 2,
       "version_minor": 0
      },
      "text/plain": [
       "HBox(children=(IntProgress(value=0, description='Simulating Choices', max=4102, style=ProgressStyle(descriptio…"
      ]
     },
     "metadata": {},
     "output_type": "display_data"
    },
    {
     "name": "stdout",
     "output_type": "stream",
     "text": [
      "\n",
      "Estimating the choice model...\n",
      "Log-likelihood at zero: -7,807.1139\n",
      "Initial Log-likelihood: -7,807.1139\n"
     ]
    },
    {
     "name": "stderr",
     "output_type": "stream",
     "text": [
      "/Users/mobouzaghrane/opt/anaconda3/lib/python3.7/site-packages/scipy/optimize/_minimize.py:505: RuntimeWarning: Method BFGS does not use Hessian information (hess).\n",
      "  RuntimeWarning)\n"
     ]
    },
    {
     "name": "stdout",
     "output_type": "stream",
     "text": [
      "Estimation Time for Point Estimation: 0.21 seconds.\n",
      "Final log-likelihood: -2,817.1808\n",
      "Estimating Causal Effects...\n",
      "Simulation number 118 is complete!\n",
      "==========================================\n",
      "==========================================\n",
      "Simulation number 119 is in progress...\n",
      "Simulation size is 3068\n",
      "------------------------------------------\n",
      "Simulating data...\n"
     ]
    },
    {
     "name": "stderr",
     "output_type": "stream",
     "text": [
      "/Users/mobouzaghrane/opt/anaconda3/lib/python3.7/site-packages/pylogit/choice_tools.py:703: FutureWarning: arrays to stack must be passed as a \"sequence\" type such as list or tuple. Support for non-sequence iterables such as generators is deprecated as of NumPy 1.16 and will raise an error in the future.\n",
      "  design_matrix = np.hstack((x[:, None] for x in independent_vars))\n"
     ]
    },
    {
     "name": "stdout",
     "output_type": "stream",
     "text": [
      "Simulating Availability...\n",
      "Converting data from wide to long...\n",
      "Simulating Choices...\n"
     ]
    },
    {
     "data": {
      "application/vnd.jupyter.widget-view+json": {
       "model_id": "05a8dedc4fa549a089d9d4af9031890a",
       "version_major": 2,
       "version_minor": 0
      },
      "text/plain": [
       "HBox(children=(IntProgress(value=0, description='Simulating Choices', max=3068, style=ProgressStyle(descriptio…"
      ]
     },
     "metadata": {},
     "output_type": "display_data"
    },
    {
     "name": "stdout",
     "output_type": "stream",
     "text": [
      "\n",
      "Estimating the choice model...\n",
      "Log-likelihood at zero: -5,817.8548\n",
      "Initial Log-likelihood: -5,817.8548\n",
      "Estimation Time for Point Estimation: 0.18 seconds.\n",
      "Final log-likelihood: -2,077.8308\n"
     ]
    },
    {
     "name": "stderr",
     "output_type": "stream",
     "text": [
      "/Users/mobouzaghrane/opt/anaconda3/lib/python3.7/site-packages/scipy/optimize/_minimize.py:505: RuntimeWarning: Method BFGS does not use Hessian information (hess).\n",
      "  RuntimeWarning)\n"
     ]
    },
    {
     "name": "stdout",
     "output_type": "stream",
     "text": [
      "Estimating Causal Effects...\n",
      "Simulation number 119 is complete!\n",
      "==========================================\n",
      "==========================================\n",
      "Simulation number 120 is in progress...\n",
      "Simulation size is 4908\n",
      "------------------------------------------\n",
      "Simulating data...\n",
      "Simulating Availability...\n"
     ]
    },
    {
     "name": "stderr",
     "output_type": "stream",
     "text": [
      "/Users/mobouzaghrane/opt/anaconda3/lib/python3.7/site-packages/pylogit/choice_tools.py:703: FutureWarning: arrays to stack must be passed as a \"sequence\" type such as list or tuple. Support for non-sequence iterables such as generators is deprecated as of NumPy 1.16 and will raise an error in the future.\n",
      "  design_matrix = np.hstack((x[:, None] for x in independent_vars))\n"
     ]
    },
    {
     "name": "stdout",
     "output_type": "stream",
     "text": [
      "Converting data from wide to long...\n",
      "Simulating Choices...\n"
     ]
    },
    {
     "data": {
      "application/vnd.jupyter.widget-view+json": {
       "model_id": "b32cf6e75af0412c96a2e62705e665d7",
       "version_major": 2,
       "version_minor": 0
      },
      "text/plain": [
       "HBox(children=(IntProgress(value=0, description='Simulating Choices', max=4908, style=ProgressStyle(descriptio…"
      ]
     },
     "metadata": {},
     "output_type": "display_data"
    },
    {
     "name": "stdout",
     "output_type": "stream",
     "text": [
      "\n",
      "Estimating the choice model...\n",
      "Log-likelihood at zero: -9,320.3634\n",
      "Initial Log-likelihood: -9,320.3634\n"
     ]
    },
    {
     "name": "stderr",
     "output_type": "stream",
     "text": [
      "/Users/mobouzaghrane/opt/anaconda3/lib/python3.7/site-packages/scipy/optimize/_minimize.py:505: RuntimeWarning: Method BFGS does not use Hessian information (hess).\n",
      "  RuntimeWarning)\n"
     ]
    },
    {
     "name": "stdout",
     "output_type": "stream",
     "text": [
      "Estimation Time for Point Estimation: 0.29 seconds.\n",
      "Final log-likelihood: -3,475.4835\n",
      "Estimating Causal Effects...\n",
      "Simulation number 120 is complete!\n",
      "==========================================\n",
      "==========================================\n",
      "Simulation number 121 is in progress...\n",
      "Simulation size is 4035\n",
      "------------------------------------------\n",
      "Simulating data...\n"
     ]
    },
    {
     "name": "stderr",
     "output_type": "stream",
     "text": [
      "/Users/mobouzaghrane/opt/anaconda3/lib/python3.7/site-packages/pylogit/choice_tools.py:703: FutureWarning: arrays to stack must be passed as a \"sequence\" type such as list or tuple. Support for non-sequence iterables such as generators is deprecated as of NumPy 1.16 and will raise an error in the future.\n",
      "  design_matrix = np.hstack((x[:, None] for x in independent_vars))\n"
     ]
    },
    {
     "name": "stdout",
     "output_type": "stream",
     "text": [
      "Simulating Availability...\n",
      "Converting data from wide to long...\n",
      "Simulating Choices...\n"
     ]
    },
    {
     "data": {
      "application/vnd.jupyter.widget-view+json": {
       "model_id": "35366ea78722436abe5fc18d45332fd9",
       "version_major": 2,
       "version_minor": 0
      },
      "text/plain": [
       "HBox(children=(IntProgress(value=0, description='Simulating Choices', max=4035, style=ProgressStyle(descriptio…"
      ]
     },
     "metadata": {},
     "output_type": "display_data"
    },
    {
     "name": "stdout",
     "output_type": "stream",
     "text": [
      "\n",
      "Estimating the choice model...\n",
      "Log-likelihood at zero: -7,661.8663\n",
      "Initial Log-likelihood: -7,661.8663\n"
     ]
    },
    {
     "name": "stderr",
     "output_type": "stream",
     "text": [
      "/Users/mobouzaghrane/opt/anaconda3/lib/python3.7/site-packages/scipy/optimize/_minimize.py:505: RuntimeWarning: Method BFGS does not use Hessian information (hess).\n",
      "  RuntimeWarning)\n"
     ]
    },
    {
     "name": "stdout",
     "output_type": "stream",
     "text": [
      "Estimation Time for Point Estimation: 0.23 seconds.\n",
      "Final log-likelihood: -2,695.2697\n",
      "Estimating Causal Effects...\n",
      "Simulation number 121 is complete!\n",
      "==========================================\n",
      "==========================================\n",
      "Simulation number 122 is in progress...\n",
      "Simulation size is 4148\n",
      "------------------------------------------\n",
      "Simulating data...\n"
     ]
    },
    {
     "name": "stderr",
     "output_type": "stream",
     "text": [
      "/Users/mobouzaghrane/opt/anaconda3/lib/python3.7/site-packages/pylogit/choice_tools.py:703: FutureWarning: arrays to stack must be passed as a \"sequence\" type such as list or tuple. Support for non-sequence iterables such as generators is deprecated as of NumPy 1.16 and will raise an error in the future.\n",
      "  design_matrix = np.hstack((x[:, None] for x in independent_vars))\n"
     ]
    },
    {
     "name": "stdout",
     "output_type": "stream",
     "text": [
      "Simulating Availability...\n",
      "Converting data from wide to long...\n",
      "Simulating Choices...\n"
     ]
    },
    {
     "data": {
      "application/vnd.jupyter.widget-view+json": {
       "model_id": "784f8cd283e6433bbc7ce027d6d0e6ea",
       "version_major": 2,
       "version_minor": 0
      },
      "text/plain": [
       "HBox(children=(IntProgress(value=0, description='Simulating Choices', max=4148, style=ProgressStyle(descriptio…"
      ]
     },
     "metadata": {},
     "output_type": "display_data"
    },
    {
     "name": "stdout",
     "output_type": "stream",
     "text": [
      "\n",
      "Estimating the choice model...\n",
      "Log-likelihood at zero: -7,881.7648\n",
      "Initial Log-likelihood: -7,881.7648\n",
      "Estimation Time for Point Estimation: 0.21 seconds.\n",
      "Final log-likelihood: -3,054.4657\n"
     ]
    },
    {
     "name": "stderr",
     "output_type": "stream",
     "text": [
      "/Users/mobouzaghrane/opt/anaconda3/lib/python3.7/site-packages/scipy/optimize/_minimize.py:505: RuntimeWarning: Method BFGS does not use Hessian information (hess).\n",
      "  RuntimeWarning)\n"
     ]
    },
    {
     "name": "stdout",
     "output_type": "stream",
     "text": [
      "Estimating Causal Effects...\n",
      "Simulation number 122 is complete!\n",
      "==========================================\n",
      "==========================================\n",
      "Simulation number 123 is in progress...\n",
      "Simulation size is 5375\n",
      "------------------------------------------\n",
      "Simulating data...\n"
     ]
    },
    {
     "name": "stderr",
     "output_type": "stream",
     "text": [
      "/Users/mobouzaghrane/opt/anaconda3/lib/python3.7/site-packages/pylogit/choice_tools.py:703: FutureWarning: arrays to stack must be passed as a \"sequence\" type such as list or tuple. Support for non-sequence iterables such as generators is deprecated as of NumPy 1.16 and will raise an error in the future.\n",
      "  design_matrix = np.hstack((x[:, None] for x in independent_vars))\n"
     ]
    },
    {
     "name": "stdout",
     "output_type": "stream",
     "text": [
      "Simulating Availability...\n",
      "Converting data from wide to long...\n",
      "Simulating Choices...\n"
     ]
    },
    {
     "data": {
      "application/vnd.jupyter.widget-view+json": {
       "model_id": "65fbdb0e459f4d0b8dff8945b22a5edf",
       "version_major": 2,
       "version_minor": 0
      },
      "text/plain": [
       "HBox(children=(IntProgress(value=0, description='Simulating Choices', max=5375, style=ProgressStyle(descriptio…"
      ]
     },
     "metadata": {},
     "output_type": "display_data"
    },
    {
     "name": "stdout",
     "output_type": "stream",
     "text": [
      "\n",
      "Estimating the choice model...\n",
      "Log-likelihood at zero: -10,195.2117\n",
      "Initial Log-likelihood: -10,195.2117\n"
     ]
    },
    {
     "name": "stderr",
     "output_type": "stream",
     "text": [
      "/Users/mobouzaghrane/opt/anaconda3/lib/python3.7/site-packages/scipy/optimize/_minimize.py:505: RuntimeWarning: Method BFGS does not use Hessian information (hess).\n",
      "  RuntimeWarning)\n"
     ]
    },
    {
     "name": "stdout",
     "output_type": "stream",
     "text": [
      "Estimation Time for Point Estimation: 0.46 seconds.\n",
      "Final log-likelihood: -3,685.7895\n",
      "Estimating Causal Effects...\n"
     ]
    },
    {
     "name": "stderr",
     "output_type": "stream",
     "text": [
      "/Users/mobouzaghrane/opt/anaconda3/lib/python3.7/site-packages/pylogit/choice_tools.py:703: FutureWarning: arrays to stack must be passed as a \"sequence\" type such as list or tuple. Support for non-sequence iterables such as generators is deprecated as of NumPy 1.16 and will raise an error in the future.\n",
      "  design_matrix = np.hstack((x[:, None] for x in independent_vars))\n"
     ]
    },
    {
     "name": "stdout",
     "output_type": "stream",
     "text": [
      "Simulation number 123 is complete!\n",
      "==========================================\n",
      "==========================================\n",
      "Simulation number 124 is in progress...\n",
      "Simulation size is 8159\n",
      "------------------------------------------\n",
      "Simulating data...\n",
      "Simulating Availability...\n",
      "Converting data from wide to long...\n",
      "Simulating Choices...\n"
     ]
    },
    {
     "data": {
      "application/vnd.jupyter.widget-view+json": {
       "model_id": "4004e8c46bb64d0db1251170458ec07e",
       "version_major": 2,
       "version_minor": 0
      },
      "text/plain": [
       "HBox(children=(IntProgress(value=0, description='Simulating Choices', max=8159, style=ProgressStyle(descriptio…"
      ]
     },
     "metadata": {},
     "output_type": "display_data"
    },
    {
     "name": "stdout",
     "output_type": "stream",
     "text": [
      "\n",
      "Estimating the choice model...\n",
      "Log-likelihood at zero: -15,509.0485\n",
      "Initial Log-likelihood: -15,509.0485\n"
     ]
    },
    {
     "name": "stderr",
     "output_type": "stream",
     "text": [
      "/Users/mobouzaghrane/opt/anaconda3/lib/python3.7/site-packages/scipy/optimize/_minimize.py:505: RuntimeWarning: Method BFGS does not use Hessian information (hess).\n",
      "  RuntimeWarning)\n"
     ]
    },
    {
     "name": "stdout",
     "output_type": "stream",
     "text": [
      "Estimation Time for Point Estimation: 0.66 seconds.\n",
      "Final log-likelihood: -5,875.2186\n",
      "Estimating Causal Effects...\n"
     ]
    },
    {
     "name": "stderr",
     "output_type": "stream",
     "text": [
      "/Users/mobouzaghrane/opt/anaconda3/lib/python3.7/site-packages/pylogit/choice_tools.py:703: FutureWarning: arrays to stack must be passed as a \"sequence\" type such as list or tuple. Support for non-sequence iterables such as generators is deprecated as of NumPy 1.16 and will raise an error in the future.\n",
      "  design_matrix = np.hstack((x[:, None] for x in independent_vars))\n"
     ]
    },
    {
     "name": "stdout",
     "output_type": "stream",
     "text": [
      "Simulation number 124 is complete!\n",
      "==========================================\n",
      "==========================================\n",
      "Simulation number 125 is in progress...\n",
      "Simulation size is 7718\n",
      "------------------------------------------\n",
      "Simulating data...\n",
      "Simulating Availability...\n",
      "Converting data from wide to long...\n",
      "Simulating Choices...\n"
     ]
    },
    {
     "data": {
      "application/vnd.jupyter.widget-view+json": {
       "model_id": "1a9ad08dbaf846d4a85661334658e647",
       "version_major": 2,
       "version_minor": 0
      },
      "text/plain": [
       "HBox(children=(IntProgress(value=0, description='Simulating Choices', max=7718, style=ProgressStyle(descriptio…"
      ]
     },
     "metadata": {},
     "output_type": "display_data"
    },
    {
     "name": "stdout",
     "output_type": "stream",
     "text": [
      "\n",
      "Estimating the choice model...\n",
      "Log-likelihood at zero: -14,646.8540\n",
      "Initial Log-likelihood: -14,646.8540\n"
     ]
    },
    {
     "name": "stderr",
     "output_type": "stream",
     "text": [
      "/Users/mobouzaghrane/opt/anaconda3/lib/python3.7/site-packages/scipy/optimize/_minimize.py:505: RuntimeWarning: Method BFGS does not use Hessian information (hess).\n",
      "  RuntimeWarning)\n"
     ]
    },
    {
     "name": "stdout",
     "output_type": "stream",
     "text": [
      "Estimation Time for Point Estimation: 0.45 seconds.\n",
      "Final log-likelihood: -5,486.8697\n",
      "Estimating Causal Effects...\n"
     ]
    },
    {
     "name": "stderr",
     "output_type": "stream",
     "text": [
      "/Users/mobouzaghrane/opt/anaconda3/lib/python3.7/site-packages/pylogit/choice_tools.py:703: FutureWarning: arrays to stack must be passed as a \"sequence\" type such as list or tuple. Support for non-sequence iterables such as generators is deprecated as of NumPy 1.16 and will raise an error in the future.\n",
      "  design_matrix = np.hstack((x[:, None] for x in independent_vars))\n"
     ]
    },
    {
     "name": "stdout",
     "output_type": "stream",
     "text": [
      "Simulation number 125 is complete!\n",
      "==========================================\n",
      "==========================================\n",
      "Simulation number 126 is in progress...\n",
      "Simulation size is 4913\n",
      "------------------------------------------\n",
      "Simulating data...\n",
      "Simulating Availability...\n",
      "Converting data from wide to long...\n",
      "Simulating Choices...\n"
     ]
    },
    {
     "data": {
      "application/vnd.jupyter.widget-view+json": {
       "model_id": "872569a8188b4d82beb733760b86f839",
       "version_major": 2,
       "version_minor": 0
      },
      "text/plain": [
       "HBox(children=(IntProgress(value=0, description='Simulating Choices', max=4913, style=ProgressStyle(descriptio…"
      ]
     },
     "metadata": {},
     "output_type": "display_data"
    },
    {
     "name": "stdout",
     "output_type": "stream",
     "text": [
      "\n",
      "Estimating the choice model...\n",
      "Log-likelihood at zero: -9,307.1755\n",
      "Initial Log-likelihood: -9,307.1755\n"
     ]
    },
    {
     "name": "stderr",
     "output_type": "stream",
     "text": [
      "/Users/mobouzaghrane/opt/anaconda3/lib/python3.7/site-packages/scipy/optimize/_minimize.py:505: RuntimeWarning: Method BFGS does not use Hessian information (hess).\n",
      "  RuntimeWarning)\n"
     ]
    },
    {
     "name": "stdout",
     "output_type": "stream",
     "text": [
      "Estimation Time for Point Estimation: 0.26 seconds.\n",
      "Final log-likelihood: -3,379.1779\n",
      "Estimating Causal Effects...\n"
     ]
    },
    {
     "name": "stderr",
     "output_type": "stream",
     "text": [
      "/Users/mobouzaghrane/opt/anaconda3/lib/python3.7/site-packages/pylogit/choice_tools.py:703: FutureWarning: arrays to stack must be passed as a \"sequence\" type such as list or tuple. Support for non-sequence iterables such as generators is deprecated as of NumPy 1.16 and will raise an error in the future.\n",
      "  design_matrix = np.hstack((x[:, None] for x in independent_vars))\n"
     ]
    },
    {
     "name": "stdout",
     "output_type": "stream",
     "text": [
      "Simulation number 126 is complete!\n",
      "==========================================\n",
      "==========================================\n",
      "Simulation number 127 is in progress...\n",
      "Simulation size is 4156\n",
      "------------------------------------------\n",
      "Simulating data...\n",
      "Simulating Availability...\n",
      "Converting data from wide to long...\n",
      "Simulating Choices...\n"
     ]
    },
    {
     "data": {
      "application/vnd.jupyter.widget-view+json": {
       "model_id": "09be9a146bfa424dbeb986e0e3901d26",
       "version_major": 2,
       "version_minor": 0
      },
      "text/plain": [
       "HBox(children=(IntProgress(value=0, description='Simulating Choices', max=4156, style=ProgressStyle(descriptio…"
      ]
     },
     "metadata": {},
     "output_type": "display_data"
    },
    {
     "name": "stdout",
     "output_type": "stream",
     "text": [
      "\n",
      "Estimating the choice model...\n",
      "Log-likelihood at zero: -7,885.6471\n",
      "Initial Log-likelihood: -7,885.6471\n"
     ]
    },
    {
     "name": "stderr",
     "output_type": "stream",
     "text": [
      "/Users/mobouzaghrane/opt/anaconda3/lib/python3.7/site-packages/scipy/optimize/_minimize.py:505: RuntimeWarning: Method BFGS does not use Hessian information (hess).\n",
      "  RuntimeWarning)\n"
     ]
    },
    {
     "name": "stdout",
     "output_type": "stream",
     "text": [
      "Estimation Time for Point Estimation: 0.43 seconds.\n",
      "Final log-likelihood: -2,949.6594\n",
      "Estimating Causal Effects...\n",
      "Simulation number 127 is complete!\n",
      "==========================================\n",
      "==========================================\n",
      "Simulation number "
     ]
    },
    {
     "name": "stderr",
     "output_type": "stream",
     "text": [
      "/Users/mobouzaghrane/opt/anaconda3/lib/python3.7/site-packages/pylogit/choice_tools.py:703: FutureWarning: arrays to stack must be passed as a \"sequence\" type such as list or tuple. Support for non-sequence iterables such as generators is deprecated as of NumPy 1.16 and will raise an error in the future.\n",
      "  design_matrix = np.hstack((x[:, None] for x in independent_vars))\n"
     ]
    },
    {
     "name": "stdout",
     "output_type": "stream",
     "text": [
      "128 is in progress...\n",
      "Simulation size is 5928\n",
      "------------------------------------------\n",
      "Simulating data...\n",
      "Simulating Availability...\n",
      "Converting data from wide to long...\n",
      "Simulating Choices...\n"
     ]
    },
    {
     "data": {
      "application/vnd.jupyter.widget-view+json": {
       "model_id": "50ed71b484d045e7b23166fb01368c56",
       "version_major": 2,
       "version_minor": 0
      },
      "text/plain": [
       "HBox(children=(IntProgress(value=0, description='Simulating Choices', max=5928, style=ProgressStyle(descriptio…"
      ]
     },
     "metadata": {},
     "output_type": "display_data"
    },
    {
     "name": "stdout",
     "output_type": "stream",
     "text": [
      "\n",
      "Estimating the choice model...\n",
      "Log-likelihood at zero: -11,290.1231\n",
      "Initial Log-likelihood: -11,290.1231\n"
     ]
    },
    {
     "name": "stderr",
     "output_type": "stream",
     "text": [
      "/Users/mobouzaghrane/opt/anaconda3/lib/python3.7/site-packages/scipy/optimize/_minimize.py:505: RuntimeWarning: Method BFGS does not use Hessian information (hess).\n",
      "  RuntimeWarning)\n"
     ]
    },
    {
     "name": "stdout",
     "output_type": "stream",
     "text": [
      "Estimation Time for Point Estimation: 0.41 seconds.\n",
      "Final log-likelihood: -4,172.6106\n",
      "Estimating Causal Effects...\n"
     ]
    },
    {
     "name": "stderr",
     "output_type": "stream",
     "text": [
      "/Users/mobouzaghrane/opt/anaconda3/lib/python3.7/site-packages/pylogit/choice_tools.py:703: FutureWarning: arrays to stack must be passed as a \"sequence\" type such as list or tuple. Support for non-sequence iterables such as generators is deprecated as of NumPy 1.16 and will raise an error in the future.\n",
      "  design_matrix = np.hstack((x[:, None] for x in independent_vars))\n"
     ]
    },
    {
     "name": "stdout",
     "output_type": "stream",
     "text": [
      "Simulation number 128 is complete!\n",
      "==========================================\n",
      "==========================================\n",
      "Simulation number 129 is in progress...\n",
      "Simulation size is 5670\n",
      "------------------------------------------\n",
      "Simulating data...\n",
      "Simulating Availability...\n",
      "Converting data from wide to long...\n",
      "Simulating Choices...\n"
     ]
    },
    {
     "data": {
      "application/vnd.jupyter.widget-view+json": {
       "model_id": "77bf140175754d3eb5c27e94ba80d07d",
       "version_major": 2,
       "version_minor": 0
      },
      "text/plain": [
       "HBox(children=(IntProgress(value=0, description='Simulating Choices', max=5670, style=ProgressStyle(descriptio…"
      ]
     },
     "metadata": {},
     "output_type": "display_data"
    },
    {
     "name": "stdout",
     "output_type": "stream",
     "text": [
      "\n",
      "Estimating the choice model...\n",
      "Log-likelihood at zero: -10,759.5600\n",
      "Initial Log-likelihood: -10,759.5600\n"
     ]
    },
    {
     "name": "stderr",
     "output_type": "stream",
     "text": [
      "/Users/mobouzaghrane/opt/anaconda3/lib/python3.7/site-packages/scipy/optimize/_minimize.py:505: RuntimeWarning: Method BFGS does not use Hessian information (hess).\n",
      "  RuntimeWarning)\n"
     ]
    },
    {
     "name": "stdout",
     "output_type": "stream",
     "text": [
      "Estimation Time for Point Estimation: 0.29 seconds.\n",
      "Final log-likelihood: -4,022.2473\n",
      "Estimating Causal Effects...\n"
     ]
    },
    {
     "name": "stderr",
     "output_type": "stream",
     "text": [
      "/Users/mobouzaghrane/opt/anaconda3/lib/python3.7/site-packages/pylogit/choice_tools.py:703: FutureWarning: arrays to stack must be passed as a \"sequence\" type such as list or tuple. Support for non-sequence iterables such as generators is deprecated as of NumPy 1.16 and will raise an error in the future.\n",
      "  design_matrix = np.hstack((x[:, None] for x in independent_vars))\n"
     ]
    },
    {
     "name": "stdout",
     "output_type": "stream",
     "text": [
      "Simulation number 129 is complete!\n",
      "==========================================\n",
      "==========================================\n",
      "Simulation number 130 is in progress...\n",
      "Simulation size is 7454\n",
      "------------------------------------------\n",
      "Simulating data...\n",
      "Simulating Availability...\n",
      "Converting data from wide to long...\n",
      "Simulating Choices...\n"
     ]
    },
    {
     "data": {
      "application/vnd.jupyter.widget-view+json": {
       "model_id": "a4cab24396f24f0a89832621082337ec",
       "version_major": 2,
       "version_minor": 0
      },
      "text/plain": [
       "HBox(children=(IntProgress(value=0, description='Simulating Choices', max=7454, style=ProgressStyle(descriptio…"
      ]
     },
     "metadata": {},
     "output_type": "display_data"
    },
    {
     "name": "stdout",
     "output_type": "stream",
     "text": [
      "\n",
      "Estimating the choice model...\n",
      "Log-likelihood at zero: -14,165.9898\n",
      "Initial Log-likelihood: -14,165.9898\n"
     ]
    },
    {
     "name": "stderr",
     "output_type": "stream",
     "text": [
      "/Users/mobouzaghrane/opt/anaconda3/lib/python3.7/site-packages/scipy/optimize/_minimize.py:505: RuntimeWarning: Method BFGS does not use Hessian information (hess).\n",
      "  RuntimeWarning)\n"
     ]
    },
    {
     "name": "stdout",
     "output_type": "stream",
     "text": [
      "Estimation Time for Point Estimation: 0.38 seconds.\n",
      "Final log-likelihood: -5,296.0106\n",
      "Estimating Causal Effects...\n"
     ]
    },
    {
     "name": "stderr",
     "output_type": "stream",
     "text": [
      "/Users/mobouzaghrane/opt/anaconda3/lib/python3.7/site-packages/pylogit/choice_tools.py:703: FutureWarning: arrays to stack must be passed as a \"sequence\" type such as list or tuple. Support for non-sequence iterables such as generators is deprecated as of NumPy 1.16 and will raise an error in the future.\n",
      "  design_matrix = np.hstack((x[:, None] for x in independent_vars))\n"
     ]
    },
    {
     "name": "stdout",
     "output_type": "stream",
     "text": [
      "Simulation number 130 is complete!\n",
      "==========================================\n",
      "==========================================\n",
      "Simulation number 131 is in progress...\n",
      "Simulation size is 7272\n",
      "------------------------------------------\n",
      "Simulating data...\n",
      "Simulating Availability...\n",
      "Converting data from wide to long...\n",
      "Simulating Choices...\n"
     ]
    },
    {
     "data": {
      "application/vnd.jupyter.widget-view+json": {
       "model_id": "c921c535c3194bafa14e251f1a478b90",
       "version_major": 2,
       "version_minor": 0
      },
      "text/plain": [
       "HBox(children=(IntProgress(value=0, description='Simulating Choices', max=7272, style=ProgressStyle(descriptio…"
      ]
     },
     "metadata": {},
     "output_type": "display_data"
    },
    {
     "name": "stdout",
     "output_type": "stream",
     "text": [
      "\n",
      "Estimating the choice model...\n",
      "Log-likelihood at zero: -13,814.8347\n",
      "Initial Log-likelihood: -13,814.8347\n"
     ]
    },
    {
     "name": "stderr",
     "output_type": "stream",
     "text": [
      "/Users/mobouzaghrane/opt/anaconda3/lib/python3.7/site-packages/scipy/optimize/_minimize.py:505: RuntimeWarning: Method BFGS does not use Hessian information (hess).\n",
      "  RuntimeWarning)\n"
     ]
    },
    {
     "name": "stdout",
     "output_type": "stream",
     "text": [
      "Estimation Time for Point Estimation: 0.40 seconds.\n",
      "Final log-likelihood: -5,182.7795\n",
      "Estimating Causal Effects...\n"
     ]
    },
    {
     "name": "stderr",
     "output_type": "stream",
     "text": [
      "/Users/mobouzaghrane/opt/anaconda3/lib/python3.7/site-packages/pylogit/choice_tools.py:703: FutureWarning: arrays to stack must be passed as a \"sequence\" type such as list or tuple. Support for non-sequence iterables such as generators is deprecated as of NumPy 1.16 and will raise an error in the future.\n",
      "  design_matrix = np.hstack((x[:, None] for x in independent_vars))\n"
     ]
    },
    {
     "name": "stdout",
     "output_type": "stream",
     "text": [
      "Simulation number 131 is complete!\n",
      "==========================================\n",
      "==========================================\n",
      "Simulation number 132 is in progress...\n",
      "Simulation size is 4566\n",
      "------------------------------------------\n",
      "Simulating data...\n",
      "Simulating Availability...\n",
      "Converting data from wide to long...\n",
      "Simulating Choices...\n"
     ]
    },
    {
     "data": {
      "application/vnd.jupyter.widget-view+json": {
       "model_id": "62013b5911214e2d9b057627c64a0443",
       "version_major": 2,
       "version_minor": 0
      },
      "text/plain": [
       "HBox(children=(IntProgress(value=0, description='Simulating Choices', max=4566, style=ProgressStyle(descriptio…"
      ]
     },
     "metadata": {},
     "output_type": "display_data"
    },
    {
     "name": "stdout",
     "output_type": "stream",
     "text": [
      "\n",
      "Estimating the choice model...\n",
      "Log-likelihood at zero: -8,677.1296\n",
      "Initial Log-likelihood: -8,677.1296\n"
     ]
    },
    {
     "name": "stderr",
     "output_type": "stream",
     "text": [
      "/Users/mobouzaghrane/opt/anaconda3/lib/python3.7/site-packages/scipy/optimize/_minimize.py:505: RuntimeWarning: Method BFGS does not use Hessian information (hess).\n",
      "  RuntimeWarning)\n"
     ]
    },
    {
     "name": "stdout",
     "output_type": "stream",
     "text": [
      "Estimation Time for Point Estimation: 0.38 seconds.\n",
      "Final log-likelihood: -3,212.5935\n",
      "Estimating Causal Effects...\n",
      "Simulation number 132 is complete!\n",
      "==========================================\n",
      "==========================================\n",
      "Simulation number 133 is in progress...\n",
      "Simulation size is 6531\n",
      "------------------------------------------\n",
      "Simulating data...\n"
     ]
    },
    {
     "name": "stderr",
     "output_type": "stream",
     "text": [
      "/Users/mobouzaghrane/opt/anaconda3/lib/python3.7/site-packages/pylogit/choice_tools.py:703: FutureWarning: arrays to stack must be passed as a \"sequence\" type such as list or tuple. Support for non-sequence iterables such as generators is deprecated as of NumPy 1.16 and will raise an error in the future.\n",
      "  design_matrix = np.hstack((x[:, None] for x in independent_vars))\n"
     ]
    },
    {
     "name": "stdout",
     "output_type": "stream",
     "text": [
      "Simulating Availability...\n",
      "Converting data from wide to long...\n",
      "Simulating Choices...\n"
     ]
    },
    {
     "data": {
      "application/vnd.jupyter.widget-view+json": {
       "model_id": "ef20c81a3a6e4a6c927e080d1d51cd24",
       "version_major": 2,
       "version_minor": 0
      },
      "text/plain": [
       "HBox(children=(IntProgress(value=0, description='Simulating Choices', max=6531, style=ProgressStyle(descriptio…"
      ]
     },
     "metadata": {},
     "output_type": "display_data"
    },
    {
     "name": "stdout",
     "output_type": "stream",
     "text": [
      "\n",
      "Estimating the choice model...\n",
      "Log-likelihood at zero: -12,444.3742\n",
      "Initial Log-likelihood: -12,444.3742\n"
     ]
    },
    {
     "name": "stderr",
     "output_type": "stream",
     "text": [
      "/Users/mobouzaghrane/opt/anaconda3/lib/python3.7/site-packages/scipy/optimize/_minimize.py:505: RuntimeWarning: Method BFGS does not use Hessian information (hess).\n",
      "  RuntimeWarning)\n"
     ]
    },
    {
     "name": "stdout",
     "output_type": "stream",
     "text": [
      "Estimation Time for Point Estimation: 0.36 seconds.\n",
      "Final log-likelihood: -4,757.6364\n",
      "Estimating Causal Effects...\n"
     ]
    },
    {
     "name": "stderr",
     "output_type": "stream",
     "text": [
      "/Users/mobouzaghrane/opt/anaconda3/lib/python3.7/site-packages/pylogit/choice_tools.py:703: FutureWarning: arrays to stack must be passed as a \"sequence\" type such as list or tuple. Support for non-sequence iterables such as generators is deprecated as of NumPy 1.16 and will raise an error in the future.\n",
      "  design_matrix = np.hstack((x[:, None] for x in independent_vars))\n"
     ]
    },
    {
     "name": "stdout",
     "output_type": "stream",
     "text": [
      "Simulation number 133 is complete!\n",
      "==========================================\n",
      "==========================================\n",
      "Simulation number 134 is in progress...\n",
      "Simulation size is 6705\n",
      "------------------------------------------\n",
      "Simulating data...\n",
      "Simulating Availability...\n",
      "Converting data from wide to long...\n",
      "Simulating Choices...\n"
     ]
    },
    {
     "data": {
      "application/vnd.jupyter.widget-view+json": {
       "model_id": "e0c172e013774766a2f845f0a2a8a0d6",
       "version_major": 2,
       "version_minor": 0
      },
      "text/plain": [
       "HBox(children=(IntProgress(value=0, description='Simulating Choices', max=6705, style=ProgressStyle(descriptio…"
      ]
     },
     "metadata": {},
     "output_type": "display_data"
    },
    {
     "name": "stdout",
     "output_type": "stream",
     "text": [
      "\n",
      "Estimating the choice model...\n",
      "Log-likelihood at zero: -12,741.7391\n",
      "Initial Log-likelihood: -12,741.7391\n"
     ]
    },
    {
     "name": "stderr",
     "output_type": "stream",
     "text": [
      "/Users/mobouzaghrane/opt/anaconda3/lib/python3.7/site-packages/scipy/optimize/_minimize.py:505: RuntimeWarning: Method BFGS does not use Hessian information (hess).\n",
      "  RuntimeWarning)\n"
     ]
    },
    {
     "name": "stdout",
     "output_type": "stream",
     "text": [
      "Estimation Time for Point Estimation: 0.63 seconds.\n",
      "Final log-likelihood: -4,806.2501\n",
      "Estimating Causal Effects...\n"
     ]
    },
    {
     "name": "stderr",
     "output_type": "stream",
     "text": [
      "/Users/mobouzaghrane/opt/anaconda3/lib/python3.7/site-packages/pylogit/choice_tools.py:703: FutureWarning: arrays to stack must be passed as a \"sequence\" type such as list or tuple. Support for non-sequence iterables such as generators is deprecated as of NumPy 1.16 and will raise an error in the future.\n",
      "  design_matrix = np.hstack((x[:, None] for x in independent_vars))\n"
     ]
    },
    {
     "name": "stdout",
     "output_type": "stream",
     "text": [
      "Simulation number 134 is complete!\n",
      "==========================================\n",
      "==========================================\n",
      "Simulation number 135 is in progress...\n",
      "Simulation size is 8138\n",
      "------------------------------------------\n",
      "Simulating data...\n",
      "Simulating Availability...\n",
      "Converting data from wide to long...\n",
      "Simulating Choices...\n"
     ]
    },
    {
     "data": {
      "application/vnd.jupyter.widget-view+json": {
       "model_id": "ee11d83dbb6f444d925a256b1dbabd4a",
       "version_major": 2,
       "version_minor": 0
      },
      "text/plain": [
       "HBox(children=(IntProgress(value=0, description='Simulating Choices', max=8138, style=ProgressStyle(descriptio…"
      ]
     },
     "metadata": {},
     "output_type": "display_data"
    },
    {
     "name": "stdout",
     "output_type": "stream",
     "text": [
      "\n",
      "Estimating the choice model...\n",
      "Log-likelihood at zero: -15,442.1497\n",
      "Initial Log-likelihood: -15,442.1497\n"
     ]
    },
    {
     "name": "stderr",
     "output_type": "stream",
     "text": [
      "/Users/mobouzaghrane/opt/anaconda3/lib/python3.7/site-packages/scipy/optimize/_minimize.py:505: RuntimeWarning: Method BFGS does not use Hessian information (hess).\n",
      "  RuntimeWarning)\n"
     ]
    },
    {
     "name": "stdout",
     "output_type": "stream",
     "text": [
      "Estimation Time for Point Estimation: 0.46 seconds.\n",
      "Final log-likelihood: -5,666.5673\n",
      "Estimating Causal Effects...\n"
     ]
    },
    {
     "name": "stderr",
     "output_type": "stream",
     "text": [
      "/Users/mobouzaghrane/opt/anaconda3/lib/python3.7/site-packages/pylogit/choice_tools.py:703: FutureWarning: arrays to stack must be passed as a \"sequence\" type such as list or tuple. Support for non-sequence iterables such as generators is deprecated as of NumPy 1.16 and will raise an error in the future.\n",
      "  design_matrix = np.hstack((x[:, None] for x in independent_vars))\n"
     ]
    },
    {
     "name": "stdout",
     "output_type": "stream",
     "text": [
      "Simulation number 135 is complete!\n",
      "==========================================\n",
      "==========================================\n",
      "Simulation number 136 is in progress...\n",
      "Simulation size is 6495\n",
      "------------------------------------------\n",
      "Simulating data...\n",
      "Simulating Availability...\n",
      "Converting data from wide to long...\n",
      "Simulating Choices...\n"
     ]
    },
    {
     "data": {
      "application/vnd.jupyter.widget-view+json": {
       "model_id": "386a4207baf84211a8647936486aae7d",
       "version_major": 2,
       "version_minor": 0
      },
      "text/plain": [
       "HBox(children=(IntProgress(value=0, description='Simulating Choices', max=6495, style=ProgressStyle(descriptio…"
      ]
     },
     "metadata": {},
     "output_type": "display_data"
    },
    {
     "name": "stdout",
     "output_type": "stream",
     "text": [
      "\n",
      "Estimating the choice model...\n",
      "Log-likelihood at zero: -12,348.6969\n",
      "Initial Log-likelihood: -12,348.6969\n"
     ]
    },
    {
     "name": "stderr",
     "output_type": "stream",
     "text": [
      "/Users/mobouzaghrane/opt/anaconda3/lib/python3.7/site-packages/scipy/optimize/_minimize.py:505: RuntimeWarning: Method BFGS does not use Hessian information (hess).\n",
      "  RuntimeWarning)\n"
     ]
    },
    {
     "name": "stdout",
     "output_type": "stream",
     "text": [
      "Estimation Time for Point Estimation: 0.40 seconds.\n",
      "Final log-likelihood: -4,498.1428\n",
      "Estimating Causal Effects...\n"
     ]
    },
    {
     "name": "stderr",
     "output_type": "stream",
     "text": [
      "/Users/mobouzaghrane/opt/anaconda3/lib/python3.7/site-packages/pylogit/choice_tools.py:703: FutureWarning: arrays to stack must be passed as a \"sequence\" type such as list or tuple. Support for non-sequence iterables such as generators is deprecated as of NumPy 1.16 and will raise an error in the future.\n",
      "  design_matrix = np.hstack((x[:, None] for x in independent_vars))\n"
     ]
    },
    {
     "name": "stdout",
     "output_type": "stream",
     "text": [
      "Simulation number 136 is complete!\n",
      "==========================================\n",
      "==========================================\n",
      "Simulation number 137 is in progress...\n",
      "Simulation size is 4792\n",
      "------------------------------------------\n",
      "Simulating data...\n",
      "Simulating Availability...\n",
      "Converting data from wide to long...\n",
      "Simulating Choices...\n"
     ]
    },
    {
     "data": {
      "application/vnd.jupyter.widget-view+json": {
       "model_id": "b370f000601d4808bfc7fa0be1c0f9aa",
       "version_major": 2,
       "version_minor": 0
      },
      "text/plain": [
       "HBox(children=(IntProgress(value=0, description='Simulating Choices', max=4792, style=ProgressStyle(descriptio…"
      ]
     },
     "metadata": {},
     "output_type": "display_data"
    },
    {
     "name": "stdout",
     "output_type": "stream",
     "text": [
      "\n",
      "Estimating the choice model...\n",
      "Log-likelihood at zero: -9,102.8813\n",
      "Initial Log-likelihood: -9,102.8813\n"
     ]
    },
    {
     "name": "stderr",
     "output_type": "stream",
     "text": [
      "/Users/mobouzaghrane/opt/anaconda3/lib/python3.7/site-packages/scipy/optimize/_minimize.py:505: RuntimeWarning: Method BFGS does not use Hessian information (hess).\n",
      "  RuntimeWarning)\n"
     ]
    },
    {
     "name": "stdout",
     "output_type": "stream",
     "text": [
      "Estimation Time for Point Estimation: 0.25 seconds.\n",
      "Final log-likelihood: -3,228.7511\n",
      "Estimating Causal Effects...\n",
      "Simulation number 137 is complete!\n",
      "==========================================\n",
      "==========================================\n",
      "Simulation number 138 is in progress...\n",
      "Simulation size is 4173\n",
      "------------------------------------------\n",
      "Simulating data...\n"
     ]
    },
    {
     "name": "stderr",
     "output_type": "stream",
     "text": [
      "/Users/mobouzaghrane/opt/anaconda3/lib/python3.7/site-packages/pylogit/choice_tools.py:703: FutureWarning: arrays to stack must be passed as a \"sequence\" type such as list or tuple. Support for non-sequence iterables such as generators is deprecated as of NumPy 1.16 and will raise an error in the future.\n",
      "  design_matrix = np.hstack((x[:, None] for x in independent_vars))\n"
     ]
    },
    {
     "name": "stdout",
     "output_type": "stream",
     "text": [
      "Simulating Availability...\n",
      "Converting data from wide to long...\n",
      "Simulating Choices...\n"
     ]
    },
    {
     "data": {
      "application/vnd.jupyter.widget-view+json": {
       "model_id": "cec1007bd051496ca98a6bb4ea425fab",
       "version_major": 2,
       "version_minor": 0
      },
      "text/plain": [
       "HBox(children=(IntProgress(value=0, description='Simulating Choices', max=4173, style=ProgressStyle(descriptio…"
      ]
     },
     "metadata": {},
     "output_type": "display_data"
    },
    {
     "name": "stdout",
     "output_type": "stream",
     "text": [
      "\n",
      "Estimating the choice model...\n",
      "Log-likelihood at zero: -7,910.9156\n",
      "Initial Log-likelihood: -7,910.9156\n"
     ]
    },
    {
     "name": "stderr",
     "output_type": "stream",
     "text": [
      "/Users/mobouzaghrane/opt/anaconda3/lib/python3.7/site-packages/scipy/optimize/_minimize.py:505: RuntimeWarning: Method BFGS does not use Hessian information (hess).\n",
      "  RuntimeWarning)\n"
     ]
    },
    {
     "name": "stdout",
     "output_type": "stream",
     "text": [
      "Estimation Time for Point Estimation: 0.26 seconds.\n",
      "Final log-likelihood: -2,907.1980\n",
      "Estimating Causal Effects...\n",
      "Simulation number 138 is complete!\n",
      "==========================================\n",
      "==========================================\n",
      "Simulation number 139 is in progress...\n",
      "Simulation size is 7607\n",
      "------------------------------------------\n",
      "Simulating data...\n"
     ]
    },
    {
     "name": "stderr",
     "output_type": "stream",
     "text": [
      "/Users/mobouzaghrane/opt/anaconda3/lib/python3.7/site-packages/pylogit/choice_tools.py:703: FutureWarning: arrays to stack must be passed as a \"sequence\" type such as list or tuple. Support for non-sequence iterables such as generators is deprecated as of NumPy 1.16 and will raise an error in the future.\n",
      "  design_matrix = np.hstack((x[:, None] for x in independent_vars))\n"
     ]
    },
    {
     "name": "stdout",
     "output_type": "stream",
     "text": [
      "Simulating Availability...\n",
      "Converting data from wide to long...\n",
      "Simulating Choices...\n"
     ]
    },
    {
     "data": {
      "application/vnd.jupyter.widget-view+json": {
       "model_id": "cffb72dd75ec494db86effa80e112445",
       "version_major": 2,
       "version_minor": 0
      },
      "text/plain": [
       "HBox(children=(IntProgress(value=0, description='Simulating Choices', max=7607, style=ProgressStyle(descriptio…"
      ]
     },
     "metadata": {},
     "output_type": "display_data"
    },
    {
     "name": "stdout",
     "output_type": "stream",
     "text": [
      "\n",
      "Estimating the choice model...\n",
      "Log-likelihood at zero: -14,429.8175\n",
      "Initial Log-likelihood: -14,429.8175\n"
     ]
    },
    {
     "name": "stderr",
     "output_type": "stream",
     "text": [
      "/Users/mobouzaghrane/opt/anaconda3/lib/python3.7/site-packages/scipy/optimize/_minimize.py:505: RuntimeWarning: Method BFGS does not use Hessian information (hess).\n",
      "  RuntimeWarning)\n"
     ]
    },
    {
     "name": "stdout",
     "output_type": "stream",
     "text": [
      "Estimation Time for Point Estimation: 0.43 seconds.\n",
      "Final log-likelihood: -5,253.8721\n",
      "Estimating Causal Effects...\n"
     ]
    },
    {
     "name": "stderr",
     "output_type": "stream",
     "text": [
      "/Users/mobouzaghrane/opt/anaconda3/lib/python3.7/site-packages/pylogit/choice_tools.py:703: FutureWarning: arrays to stack must be passed as a \"sequence\" type such as list or tuple. Support for non-sequence iterables such as generators is deprecated as of NumPy 1.16 and will raise an error in the future.\n",
      "  design_matrix = np.hstack((x[:, None] for x in independent_vars))\n"
     ]
    },
    {
     "name": "stdout",
     "output_type": "stream",
     "text": [
      "Simulation number 139 is complete!\n",
      "==========================================\n",
      "==========================================\n",
      "Simulation number 140 is in progress...\n",
      "Simulation size is 7857\n",
      "------------------------------------------\n",
      "Simulating data...\n",
      "Simulating Availability...\n",
      "Converting data from wide to long...\n",
      "Simulating Choices...\n"
     ]
    },
    {
     "data": {
      "application/vnd.jupyter.widget-view+json": {
       "model_id": "25113353d65a45e499df6fe8ea430766",
       "version_major": 2,
       "version_minor": 0
      },
      "text/plain": [
       "HBox(children=(IntProgress(value=0, description='Simulating Choices', max=7857, style=ProgressStyle(descriptio…"
      ]
     },
     "metadata": {},
     "output_type": "display_data"
    },
    {
     "name": "stdout",
     "output_type": "stream",
     "text": [
      "\n",
      "Estimating the choice model...\n",
      "Log-likelihood at zero: -14,939.0913\n",
      "Initial Log-likelihood: -14,939.0913\n"
     ]
    },
    {
     "name": "stderr",
     "output_type": "stream",
     "text": [
      "/Users/mobouzaghrane/opt/anaconda3/lib/python3.7/site-packages/scipy/optimize/_minimize.py:505: RuntimeWarning: Method BFGS does not use Hessian information (hess).\n",
      "  RuntimeWarning)\n"
     ]
    },
    {
     "name": "stdout",
     "output_type": "stream",
     "text": [
      "Estimation Time for Point Estimation: 0.46 seconds.\n",
      "Final log-likelihood: -5,615.0882\n",
      "Estimating Causal Effects...\n"
     ]
    },
    {
     "name": "stderr",
     "output_type": "stream",
     "text": [
      "/Users/mobouzaghrane/opt/anaconda3/lib/python3.7/site-packages/pylogit/choice_tools.py:703: FutureWarning: arrays to stack must be passed as a \"sequence\" type such as list or tuple. Support for non-sequence iterables such as generators is deprecated as of NumPy 1.16 and will raise an error in the future.\n",
      "  design_matrix = np.hstack((x[:, None] for x in independent_vars))\n"
     ]
    },
    {
     "name": "stdout",
     "output_type": "stream",
     "text": [
      "Simulation number 140 is complete!\n",
      "==========================================\n",
      "==========================================\n",
      "Simulation number 141 is in progress...\n",
      "Simulation size is 7623\n",
      "------------------------------------------\n",
      "Simulating data...\n",
      "Simulating Availability...\n",
      "Converting data from wide to long...\n",
      "Simulating Choices...\n"
     ]
    },
    {
     "data": {
      "application/vnd.jupyter.widget-view+json": {
       "model_id": "d99dec079d7b4fdfb9f18d98016ee800",
       "version_major": 2,
       "version_minor": 0
      },
      "text/plain": [
       "HBox(children=(IntProgress(value=0, description='Simulating Choices', max=7623, style=ProgressStyle(descriptio…"
      ]
     },
     "metadata": {},
     "output_type": "display_data"
    },
    {
     "name": "stdout",
     "output_type": "stream",
     "text": [
      "\n",
      "Estimating the choice model...\n",
      "Log-likelihood at zero: -14,509.5959\n",
      "Initial Log-likelihood: -14,509.5959\n"
     ]
    },
    {
     "name": "stderr",
     "output_type": "stream",
     "text": [
      "/Users/mobouzaghrane/opt/anaconda3/lib/python3.7/site-packages/scipy/optimize/_minimize.py:505: RuntimeWarning: Method BFGS does not use Hessian information (hess).\n",
      "  RuntimeWarning)\n"
     ]
    },
    {
     "name": "stdout",
     "output_type": "stream",
     "text": [
      "Estimation Time for Point Estimation: 0.65 seconds.\n",
      "Final log-likelihood: -5,395.6946\n",
      "Estimating Causal Effects...\n"
     ]
    },
    {
     "name": "stderr",
     "output_type": "stream",
     "text": [
      "/Users/mobouzaghrane/opt/anaconda3/lib/python3.7/site-packages/pylogit/choice_tools.py:703: FutureWarning: arrays to stack must be passed as a \"sequence\" type such as list or tuple. Support for non-sequence iterables such as generators is deprecated as of NumPy 1.16 and will raise an error in the future.\n",
      "  design_matrix = np.hstack((x[:, None] for x in independent_vars))\n"
     ]
    },
    {
     "name": "stdout",
     "output_type": "stream",
     "text": [
      "Simulation number 141 is complete!\n",
      "==========================================\n",
      "==========================================\n",
      "Simulation number 142 is in progress...\n",
      "Simulation size is 8057\n",
      "------------------------------------------\n",
      "Simulating data...\n",
      "Simulating Availability...\n",
      "Converting data from wide to long...\n",
      "Simulating Choices...\n"
     ]
    },
    {
     "data": {
      "application/vnd.jupyter.widget-view+json": {
       "model_id": "edcf102ecfcf405788f569496c64830b",
       "version_major": 2,
       "version_minor": 0
      },
      "text/plain": [
       "HBox(children=(IntProgress(value=0, description='Simulating Choices', max=8057, style=ProgressStyle(descriptio…"
      ]
     },
     "metadata": {},
     "output_type": "display_data"
    },
    {
     "name": "stdout",
     "output_type": "stream",
     "text": [
      "\n",
      "Estimating the choice model...\n",
      "Log-likelihood at zero: -15,319.3027\n",
      "Initial Log-likelihood: -15,319.3027\n"
     ]
    },
    {
     "name": "stderr",
     "output_type": "stream",
     "text": [
      "/Users/mobouzaghrane/opt/anaconda3/lib/python3.7/site-packages/scipy/optimize/_minimize.py:505: RuntimeWarning: Method BFGS does not use Hessian information (hess).\n",
      "  RuntimeWarning)\n"
     ]
    },
    {
     "name": "stdout",
     "output_type": "stream",
     "text": [
      "Estimation Time for Point Estimation: 0.64 seconds.\n",
      "Final log-likelihood: -5,644.3760\n",
      "Estimating Causal Effects...\n"
     ]
    },
    {
     "name": "stderr",
     "output_type": "stream",
     "text": [
      "/Users/mobouzaghrane/opt/anaconda3/lib/python3.7/site-packages/pylogit/choice_tools.py:703: FutureWarning: arrays to stack must be passed as a \"sequence\" type such as list or tuple. Support for non-sequence iterables such as generators is deprecated as of NumPy 1.16 and will raise an error in the future.\n",
      "  design_matrix = np.hstack((x[:, None] for x in independent_vars))\n"
     ]
    },
    {
     "name": "stdout",
     "output_type": "stream",
     "text": [
      "Simulation number 142 is complete!\n",
      "==========================================\n",
      "==========================================\n",
      "Simulation number 143 is in progress...\n",
      "Simulation size is 6232\n",
      "------------------------------------------\n",
      "Simulating data...\n",
      "Simulating Availability...\n",
      "Converting data from wide to long...\n",
      "Simulating Choices...\n"
     ]
    },
    {
     "data": {
      "application/vnd.jupyter.widget-view+json": {
       "model_id": "9af9451df70d4b62b0696216566df78b",
       "version_major": 2,
       "version_minor": 0
      },
      "text/plain": [
       "HBox(children=(IntProgress(value=0, description='Simulating Choices', max=6232, style=ProgressStyle(descriptio…"
      ]
     },
     "metadata": {},
     "output_type": "display_data"
    },
    {
     "name": "stdout",
     "output_type": "stream",
     "text": [
      "\n",
      "Estimating the choice model...\n",
      "Log-likelihood at zero: -11,842.6366\n",
      "Initial Log-likelihood: -11,842.6366\n"
     ]
    },
    {
     "name": "stderr",
     "output_type": "stream",
     "text": [
      "/Users/mobouzaghrane/opt/anaconda3/lib/python3.7/site-packages/scipy/optimize/_minimize.py:505: RuntimeWarning: Method BFGS does not use Hessian information (hess).\n",
      "  RuntimeWarning)\n"
     ]
    },
    {
     "name": "stdout",
     "output_type": "stream",
     "text": [
      "Estimation Time for Point Estimation: 0.37 seconds.\n",
      "Final log-likelihood: -4,423.4750\n",
      "Estimating Causal Effects...\n"
     ]
    },
    {
     "name": "stderr",
     "output_type": "stream",
     "text": [
      "/Users/mobouzaghrane/opt/anaconda3/lib/python3.7/site-packages/pylogit/choice_tools.py:703: FutureWarning: arrays to stack must be passed as a \"sequence\" type such as list or tuple. Support for non-sequence iterables such as generators is deprecated as of NumPy 1.16 and will raise an error in the future.\n",
      "  design_matrix = np.hstack((x[:, None] for x in independent_vars))\n"
     ]
    },
    {
     "name": "stdout",
     "output_type": "stream",
     "text": [
      "Simulation number 143 is complete!\n",
      "==========================================\n",
      "==========================================\n",
      "Simulation number 144 is in progress...\n",
      "Simulation size is 5088\n",
      "------------------------------------------\n",
      "Simulating data...\n",
      "Simulating Availability...\n",
      "Converting data from wide to long...\n",
      "Simulating Choices...\n"
     ]
    },
    {
     "data": {
      "application/vnd.jupyter.widget-view+json": {
       "model_id": "7bd22042a19e44c2a0223603eb92b168",
       "version_major": 2,
       "version_minor": 0
      },
      "text/plain": [
       "HBox(children=(IntProgress(value=0, description='Simulating Choices', max=5088, style=ProgressStyle(descriptio…"
      ]
     },
     "metadata": {},
     "output_type": "display_data"
    },
    {
     "name": "stdout",
     "output_type": "stream",
     "text": [
      "\n",
      "Estimating the choice model...\n",
      "Log-likelihood at zero: -9,646.0234\n",
      "Initial Log-likelihood: -9,646.0234\n"
     ]
    },
    {
     "name": "stderr",
     "output_type": "stream",
     "text": [
      "/Users/mobouzaghrane/opt/anaconda3/lib/python3.7/site-packages/scipy/optimize/_minimize.py:505: RuntimeWarning: Method BFGS does not use Hessian information (hess).\n",
      "  RuntimeWarning)\n"
     ]
    },
    {
     "name": "stdout",
     "output_type": "stream",
     "text": [
      "Estimation Time for Point Estimation: 0.27 seconds.\n",
      "Final log-likelihood: -3,570.4202\n",
      "Estimating Causal Effects...\n"
     ]
    },
    {
     "name": "stderr",
     "output_type": "stream",
     "text": [
      "/Users/mobouzaghrane/opt/anaconda3/lib/python3.7/site-packages/pylogit/choice_tools.py:703: FutureWarning: arrays to stack must be passed as a \"sequence\" type such as list or tuple. Support for non-sequence iterables such as generators is deprecated as of NumPy 1.16 and will raise an error in the future.\n",
      "  design_matrix = np.hstack((x[:, None] for x in independent_vars))\n"
     ]
    },
    {
     "name": "stdout",
     "output_type": "stream",
     "text": [
      "Simulation number 144 is complete!\n",
      "==========================================\n",
      "==========================================\n",
      "Simulation number 145 is in progress...\n",
      "Simulation size is 7522\n",
      "------------------------------------------\n",
      "Simulating data...\n",
      "Simulating Availability...\n",
      "Converting data from wide to long...\n",
      "Simulating Choices...\n"
     ]
    },
    {
     "data": {
      "application/vnd.jupyter.widget-view+json": {
       "model_id": "75c8754a0d0640959e9e4baef1165e00",
       "version_major": 2,
       "version_minor": 0
      },
      "text/plain": [
       "HBox(children=(IntProgress(value=0, description='Simulating Choices', max=7522, style=ProgressStyle(descriptio…"
      ]
     },
     "metadata": {},
     "output_type": "display_data"
    },
    {
     "name": "stdout",
     "output_type": "stream",
     "text": [
      "\n",
      "Estimating the choice model...\n",
      "Log-likelihood at zero: -14,282.1980\n",
      "Initial Log-likelihood: -14,282.1980\n"
     ]
    },
    {
     "name": "stderr",
     "output_type": "stream",
     "text": [
      "/Users/mobouzaghrane/opt/anaconda3/lib/python3.7/site-packages/scipy/optimize/_minimize.py:505: RuntimeWarning: Method BFGS does not use Hessian information (hess).\n",
      "  RuntimeWarning)\n"
     ]
    },
    {
     "name": "stdout",
     "output_type": "stream",
     "text": [
      "Estimation Time for Point Estimation: 0.43 seconds.\n",
      "Final log-likelihood: -5,196.7936\n",
      "Estimating Causal Effects...\n"
     ]
    },
    {
     "name": "stderr",
     "output_type": "stream",
     "text": [
      "/Users/mobouzaghrane/opt/anaconda3/lib/python3.7/site-packages/pylogit/choice_tools.py:703: FutureWarning: arrays to stack must be passed as a \"sequence\" type such as list or tuple. Support for non-sequence iterables such as generators is deprecated as of NumPy 1.16 and will raise an error in the future.\n",
      "  design_matrix = np.hstack((x[:, None] for x in independent_vars))\n"
     ]
    },
    {
     "name": "stdout",
     "output_type": "stream",
     "text": [
      "Simulation number 145 is complete!\n",
      "==========================================\n",
      "==========================================\n",
      "Simulation number 146 is in progress...\n",
      "Simulation size is 7482\n",
      "------------------------------------------\n",
      "Simulating data...\n",
      "Simulating Availability...\n",
      "Converting data from wide to long...\n",
      "Simulating Choices...\n"
     ]
    },
    {
     "data": {
      "application/vnd.jupyter.widget-view+json": {
       "model_id": "28708f8e76d44c99a7cca4c772d59c78",
       "version_major": 2,
       "version_minor": 0
      },
      "text/plain": [
       "HBox(children=(IntProgress(value=0, description='Simulating Choices', max=7482, style=ProgressStyle(descriptio…"
      ]
     },
     "metadata": {},
     "output_type": "display_data"
    },
    {
     "name": "stdout",
     "output_type": "stream",
     "text": [
      "\n",
      "Estimating the choice model...\n",
      "Log-likelihood at zero: -14,213.8489\n",
      "Initial Log-likelihood: -14,213.8489\n"
     ]
    },
    {
     "name": "stderr",
     "output_type": "stream",
     "text": [
      "/Users/mobouzaghrane/opt/anaconda3/lib/python3.7/site-packages/scipy/optimize/_minimize.py:505: RuntimeWarning: Method BFGS does not use Hessian information (hess).\n",
      "  RuntimeWarning)\n"
     ]
    },
    {
     "name": "stdout",
     "output_type": "stream",
     "text": [
      "Estimation Time for Point Estimation: 0.42 seconds.\n",
      "Final log-likelihood: -5,444.8893\n",
      "Estimating Causal Effects...\n"
     ]
    },
    {
     "name": "stderr",
     "output_type": "stream",
     "text": [
      "/Users/mobouzaghrane/opt/anaconda3/lib/python3.7/site-packages/pylogit/choice_tools.py:703: FutureWarning: arrays to stack must be passed as a \"sequence\" type such as list or tuple. Support for non-sequence iterables such as generators is deprecated as of NumPy 1.16 and will raise an error in the future.\n",
      "  design_matrix = np.hstack((x[:, None] for x in independent_vars))\n"
     ]
    },
    {
     "name": "stdout",
     "output_type": "stream",
     "text": [
      "Simulation number 146 is complete!\n",
      "==========================================\n",
      "==========================================\n",
      "Simulation number 147 is in progress...\n",
      "Simulation size is 7317\n",
      "------------------------------------------\n",
      "Simulating data...\n",
      "Simulating Availability...\n",
      "Converting data from wide to long...\n",
      "Simulating Choices...\n"
     ]
    },
    {
     "data": {
      "application/vnd.jupyter.widget-view+json": {
       "model_id": "eee88ae3e0a7403aaf2f9479d912fa20",
       "version_major": 2,
       "version_minor": 0
      },
      "text/plain": [
       "HBox(children=(IntProgress(value=0, description='Simulating Choices', max=7317, style=ProgressStyle(descriptio…"
      ]
     },
     "metadata": {},
     "output_type": "display_data"
    },
    {
     "name": "stdout",
     "output_type": "stream",
     "text": [
      "\n",
      "Estimating the choice model...\n",
      "Log-likelihood at zero: -13,883.1494\n",
      "Initial Log-likelihood: -13,883.1494\n"
     ]
    },
    {
     "name": "stderr",
     "output_type": "stream",
     "text": [
      "/Users/mobouzaghrane/opt/anaconda3/lib/python3.7/site-packages/scipy/optimize/_minimize.py:505: RuntimeWarning: Method BFGS does not use Hessian information (hess).\n",
      "  RuntimeWarning)\n"
     ]
    },
    {
     "name": "stdout",
     "output_type": "stream",
     "text": [
      "Estimation Time for Point Estimation: 0.38 seconds.\n",
      "Final log-likelihood: -5,269.6633\n",
      "Estimating Causal Effects...\n"
     ]
    },
    {
     "name": "stderr",
     "output_type": "stream",
     "text": [
      "/Users/mobouzaghrane/opt/anaconda3/lib/python3.7/site-packages/pylogit/choice_tools.py:703: FutureWarning: arrays to stack must be passed as a \"sequence\" type such as list or tuple. Support for non-sequence iterables such as generators is deprecated as of NumPy 1.16 and will raise an error in the future.\n",
      "  design_matrix = np.hstack((x[:, None] for x in independent_vars))\n"
     ]
    },
    {
     "name": "stdout",
     "output_type": "stream",
     "text": [
      "Simulation number 147 is complete!\n",
      "==========================================\n",
      "==========================================\n",
      "Simulation number 148 is in progress...\n",
      "Simulation size is 5983\n",
      "------------------------------------------\n",
      "Simulating data...\n",
      "Simulating Availability...\n",
      "Converting data from wide to long...\n",
      "Simulating Choices...\n"
     ]
    },
    {
     "data": {
      "application/vnd.jupyter.widget-view+json": {
       "model_id": "6e6b3a2793044d518a7a3619982057b9",
       "version_major": 2,
       "version_minor": 0
      },
      "text/plain": [
       "HBox(children=(IntProgress(value=0, description='Simulating Choices', max=5983, style=ProgressStyle(descriptio…"
      ]
     },
     "metadata": {},
     "output_type": "display_data"
    },
    {
     "name": "stdout",
     "output_type": "stream",
     "text": [
      "\n",
      "Estimating the choice model...\n",
      "Log-likelihood at zero: -11,374.0040\n",
      "Initial Log-likelihood: -11,374.0040\n"
     ]
    },
    {
     "name": "stderr",
     "output_type": "stream",
     "text": [
      "/Users/mobouzaghrane/opt/anaconda3/lib/python3.7/site-packages/scipy/optimize/_minimize.py:505: RuntimeWarning: Method BFGS does not use Hessian information (hess).\n",
      "  RuntimeWarning)\n"
     ]
    },
    {
     "name": "stdout",
     "output_type": "stream",
     "text": [
      "Estimation Time for Point Estimation: 0.32 seconds.\n",
      "Final log-likelihood: -4,213.5321\n",
      "Estimating Causal Effects...\n"
     ]
    },
    {
     "name": "stderr",
     "output_type": "stream",
     "text": [
      "/Users/mobouzaghrane/opt/anaconda3/lib/python3.7/site-packages/pylogit/choice_tools.py:703: FutureWarning: arrays to stack must be passed as a \"sequence\" type such as list or tuple. Support for non-sequence iterables such as generators is deprecated as of NumPy 1.16 and will raise an error in the future.\n",
      "  design_matrix = np.hstack((x[:, None] for x in independent_vars))\n"
     ]
    },
    {
     "name": "stdout",
     "output_type": "stream",
     "text": [
      "Simulation number 148 is complete!\n",
      "==========================================\n",
      "==========================================\n",
      "Simulation number 149 is in progress...\n",
      "Simulation size is 6946\n",
      "------------------------------------------\n",
      "Simulating data...\n",
      "Simulating Availability...\n",
      "Converting data from wide to long...\n",
      "Simulating Choices...\n"
     ]
    },
    {
     "data": {
      "application/vnd.jupyter.widget-view+json": {
       "model_id": "06986e3997554313a4e2bad57e620467",
       "version_major": 2,
       "version_minor": 0
      },
      "text/plain": [
       "HBox(children=(IntProgress(value=0, description='Simulating Choices', max=6946, style=ProgressStyle(descriptio…"
      ]
     },
     "metadata": {},
     "output_type": "display_data"
    },
    {
     "name": "stdout",
     "output_type": "stream",
     "text": [
      "\n",
      "Estimating the choice model...\n",
      "Log-likelihood at zero: -13,207.2512\n",
      "Initial Log-likelihood: -13,207.2512\n"
     ]
    },
    {
     "name": "stderr",
     "output_type": "stream",
     "text": [
      "/Users/mobouzaghrane/opt/anaconda3/lib/python3.7/site-packages/scipy/optimize/_minimize.py:505: RuntimeWarning: Method BFGS does not use Hessian information (hess).\n",
      "  RuntimeWarning)\n"
     ]
    },
    {
     "name": "stdout",
     "output_type": "stream",
     "text": [
      "Estimation Time for Point Estimation: 0.42 seconds.\n",
      "Final log-likelihood: -5,035.3873\n",
      "Estimating Causal Effects...\n"
     ]
    },
    {
     "name": "stderr",
     "output_type": "stream",
     "text": [
      "/Users/mobouzaghrane/opt/anaconda3/lib/python3.7/site-packages/pylogit/choice_tools.py:703: FutureWarning: arrays to stack must be passed as a \"sequence\" type such as list or tuple. Support for non-sequence iterables such as generators is deprecated as of NumPy 1.16 and will raise an error in the future.\n",
      "  design_matrix = np.hstack((x[:, None] for x in independent_vars))\n"
     ]
    },
    {
     "name": "stdout",
     "output_type": "stream",
     "text": [
      "Simulation number 149 is complete!\n",
      "==========================================\n",
      "==========================================\n",
      "Simulation number 150 is in progress...\n",
      "Simulation size is 3988\n",
      "------------------------------------------\n",
      "Simulating data...\n",
      "Simulating Availability...\n",
      "Converting data from wide to long...\n",
      "Simulating Choices...\n"
     ]
    },
    {
     "data": {
      "application/vnd.jupyter.widget-view+json": {
       "model_id": "1b82782dda7d4c389e19b458e588e292",
       "version_major": 2,
       "version_minor": 0
      },
      "text/plain": [
       "HBox(children=(IntProgress(value=0, description='Simulating Choices', max=3988, style=ProgressStyle(descriptio…"
      ]
     },
     "metadata": {},
     "output_type": "display_data"
    },
    {
     "name": "stdout",
     "output_type": "stream",
     "text": [
      "\n",
      "Estimating the choice model...\n",
      "Log-likelihood at zero: -7,567.6053\n",
      "Initial Log-likelihood: -7,567.6053\n"
     ]
    },
    {
     "name": "stderr",
     "output_type": "stream",
     "text": [
      "/Users/mobouzaghrane/opt/anaconda3/lib/python3.7/site-packages/scipy/optimize/_minimize.py:505: RuntimeWarning: Method BFGS does not use Hessian information (hess).\n",
      "  RuntimeWarning)\n"
     ]
    },
    {
     "name": "stdout",
     "output_type": "stream",
     "text": [
      "Estimation Time for Point Estimation: 0.25 seconds.\n",
      "Final log-likelihood: -2,793.1915\n",
      "Estimating Causal Effects...\n",
      "Simulation number 150 is complete!\n",
      "==========================================\n",
      "==========================================\n",
      "Simulation number 151 is in progress...\n",
      "Simulation size is 4024\n",
      "------------------------------------------\n",
      "Simulating data...\n"
     ]
    },
    {
     "name": "stderr",
     "output_type": "stream",
     "text": [
      "/Users/mobouzaghrane/opt/anaconda3/lib/python3.7/site-packages/pylogit/choice_tools.py:703: FutureWarning: arrays to stack must be passed as a \"sequence\" type such as list or tuple. Support for non-sequence iterables such as generators is deprecated as of NumPy 1.16 and will raise an error in the future.\n",
      "  design_matrix = np.hstack((x[:, None] for x in independent_vars))\n"
     ]
    },
    {
     "name": "stdout",
     "output_type": "stream",
     "text": [
      "Simulating Availability...\n",
      "Converting data from wide to long...\n",
      "Simulating Choices...\n"
     ]
    },
    {
     "data": {
      "application/vnd.jupyter.widget-view+json": {
       "model_id": "614c67562b4d40f1ab0787ea79377f11",
       "version_major": 2,
       "version_minor": 0
      },
      "text/plain": [
       "HBox(children=(IntProgress(value=0, description='Simulating Choices', max=4024, style=ProgressStyle(descriptio…"
      ]
     },
     "metadata": {},
     "output_type": "display_data"
    },
    {
     "name": "stdout",
     "output_type": "stream",
     "text": [
      "\n",
      "Estimating the choice model...\n",
      "Log-likelihood at zero: -7,635.0640\n",
      "Initial Log-likelihood: -7,635.0640\n"
     ]
    },
    {
     "name": "stderr",
     "output_type": "stream",
     "text": [
      "/Users/mobouzaghrane/opt/anaconda3/lib/python3.7/site-packages/scipy/optimize/_minimize.py:505: RuntimeWarning: Method BFGS does not use Hessian information (hess).\n",
      "  RuntimeWarning)\n"
     ]
    },
    {
     "name": "stdout",
     "output_type": "stream",
     "text": [
      "Estimation Time for Point Estimation: 0.32 seconds.\n",
      "Final log-likelihood: -2,872.7357\n",
      "Estimating Causal Effects...\n",
      "Simulation number 151 is complete!\n",
      "==========================================\n",
      "==========================================\n",
      "Simulation number 152 is in progress...\n",
      "Simulation size is 6531\n",
      "------------------------------------------\n",
      "Simulating data...\n"
     ]
    },
    {
     "name": "stderr",
     "output_type": "stream",
     "text": [
      "/Users/mobouzaghrane/opt/anaconda3/lib/python3.7/site-packages/pylogit/choice_tools.py:703: FutureWarning: arrays to stack must be passed as a \"sequence\" type such as list or tuple. Support for non-sequence iterables such as generators is deprecated as of NumPy 1.16 and will raise an error in the future.\n",
      "  design_matrix = np.hstack((x[:, None] for x in independent_vars))\n"
     ]
    },
    {
     "name": "stdout",
     "output_type": "stream",
     "text": [
      "Simulating Availability...\n",
      "Converting data from wide to long...\n",
      "Simulating Choices...\n"
     ]
    },
    {
     "data": {
      "application/vnd.jupyter.widget-view+json": {
       "model_id": "b817641bbbc04240a53456f96d82767b",
       "version_major": 2,
       "version_minor": 0
      },
      "text/plain": [
       "HBox(children=(IntProgress(value=0, description='Simulating Choices', max=6531, style=ProgressStyle(descriptio…"
      ]
     },
     "metadata": {},
     "output_type": "display_data"
    },
    {
     "name": "stdout",
     "output_type": "stream",
     "text": [
      "\n",
      "Estimating the choice model...\n",
      "Log-likelihood at zero: -12,419.3800\n",
      "Initial Log-likelihood: -12,419.3800\n"
     ]
    },
    {
     "name": "stderr",
     "output_type": "stream",
     "text": [
      "/Users/mobouzaghrane/opt/anaconda3/lib/python3.7/site-packages/scipy/optimize/_minimize.py:505: RuntimeWarning: Method BFGS does not use Hessian information (hess).\n",
      "  RuntimeWarning)\n"
     ]
    },
    {
     "name": "stdout",
     "output_type": "stream",
     "text": [
      "Estimation Time for Point Estimation: 0.42 seconds.\n",
      "Final log-likelihood: -4,642.0328\n",
      "Estimating Causal Effects...\n"
     ]
    },
    {
     "name": "stderr",
     "output_type": "stream",
     "text": [
      "/Users/mobouzaghrane/opt/anaconda3/lib/python3.7/site-packages/pylogit/choice_tools.py:703: FutureWarning: arrays to stack must be passed as a \"sequence\" type such as list or tuple. Support for non-sequence iterables such as generators is deprecated as of NumPy 1.16 and will raise an error in the future.\n",
      "  design_matrix = np.hstack((x[:, None] for x in independent_vars))\n"
     ]
    },
    {
     "name": "stdout",
     "output_type": "stream",
     "text": [
      "Simulation number 152 is complete!\n",
      "==========================================\n",
      "==========================================\n",
      "Simulation number 153 is in progress...\n",
      "Simulation size is 5437\n",
      "------------------------------------------\n",
      "Simulating data...\n",
      "Simulating Availability...\n",
      "Converting data from wide to long...\n",
      "Simulating Choices...\n"
     ]
    },
    {
     "data": {
      "application/vnd.jupyter.widget-view+json": {
       "model_id": "02bb980a9a494acda028649d044c16e0",
       "version_major": 2,
       "version_minor": 0
      },
      "text/plain": [
       "HBox(children=(IntProgress(value=0, description='Simulating Choices', max=5437, style=ProgressStyle(descriptio…"
      ]
     },
     "metadata": {},
     "output_type": "display_data"
    },
    {
     "name": "stdout",
     "output_type": "stream",
     "text": [
      "\n",
      "Estimating the choice model...\n",
      "Log-likelihood at zero: -10,311.7944\n",
      "Initial Log-likelihood: -10,311.7944\n"
     ]
    },
    {
     "name": "stderr",
     "output_type": "stream",
     "text": [
      "/Users/mobouzaghrane/opt/anaconda3/lib/python3.7/site-packages/scipy/optimize/_minimize.py:505: RuntimeWarning: Method BFGS does not use Hessian information (hess).\n",
      "  RuntimeWarning)\n"
     ]
    },
    {
     "name": "stdout",
     "output_type": "stream",
     "text": [
      "Estimation Time for Point Estimation: 0.40 seconds.\n",
      "Final log-likelihood: -3,836.4619\n",
      "Estimating Causal Effects...\n"
     ]
    },
    {
     "name": "stderr",
     "output_type": "stream",
     "text": [
      "/Users/mobouzaghrane/opt/anaconda3/lib/python3.7/site-packages/pylogit/choice_tools.py:703: FutureWarning: arrays to stack must be passed as a \"sequence\" type such as list or tuple. Support for non-sequence iterables such as generators is deprecated as of NumPy 1.16 and will raise an error in the future.\n",
      "  design_matrix = np.hstack((x[:, None] for x in independent_vars))\n"
     ]
    },
    {
     "name": "stdout",
     "output_type": "stream",
     "text": [
      "Simulation number 153 is complete!\n",
      "==========================================\n",
      "==========================================\n",
      "Simulation number 154 is in progress...\n",
      "Simulation size is 5617\n",
      "------------------------------------------\n",
      "Simulating data...\n",
      "Simulating Availability...\n",
      "Converting data from wide to long...\n",
      "Simulating Choices...\n"
     ]
    },
    {
     "data": {
      "application/vnd.jupyter.widget-view+json": {
       "model_id": "2dd78f7696834449b2b158ac7e8f9793",
       "version_major": 2,
       "version_minor": 0
      },
      "text/plain": [
       "HBox(children=(IntProgress(value=0, description='Simulating Choices', max=5617, style=ProgressStyle(descriptio…"
      ]
     },
     "metadata": {},
     "output_type": "display_data"
    },
    {
     "name": "stdout",
     "output_type": "stream",
     "text": [
      "\n",
      "Estimating the choice model...\n",
      "Log-likelihood at zero: -10,675.0307\n",
      "Initial Log-likelihood: -10,675.0307\n"
     ]
    },
    {
     "name": "stderr",
     "output_type": "stream",
     "text": [
      "/Users/mobouzaghrane/opt/anaconda3/lib/python3.7/site-packages/scipy/optimize/_minimize.py:505: RuntimeWarning: Method BFGS does not use Hessian information (hess).\n",
      "  RuntimeWarning)\n"
     ]
    },
    {
     "name": "stdout",
     "output_type": "stream",
     "text": [
      "Estimation Time for Point Estimation: 0.30 seconds.\n",
      "Final log-likelihood: -3,833.2902\n",
      "Estimating Causal Effects...\n"
     ]
    },
    {
     "name": "stderr",
     "output_type": "stream",
     "text": [
      "/Users/mobouzaghrane/opt/anaconda3/lib/python3.7/site-packages/pylogit/choice_tools.py:703: FutureWarning: arrays to stack must be passed as a \"sequence\" type such as list or tuple. Support for non-sequence iterables such as generators is deprecated as of NumPy 1.16 and will raise an error in the future.\n",
      "  design_matrix = np.hstack((x[:, None] for x in independent_vars))\n"
     ]
    },
    {
     "name": "stdout",
     "output_type": "stream",
     "text": [
      "Simulation number 154 is complete!\n",
      "==========================================\n",
      "==========================================\n",
      "Simulation number 155 is in progress...\n",
      "Simulation size is 4115\n",
      "------------------------------------------\n",
      "Simulating data...\n",
      "Simulating Availability...\n",
      "Converting data from wide to long...\n",
      "Simulating Choices...\n"
     ]
    },
    {
     "data": {
      "application/vnd.jupyter.widget-view+json": {
       "model_id": "4054cc3395fa47b396b87de29a0d7228",
       "version_major": 2,
       "version_minor": 0
      },
      "text/plain": [
       "HBox(children=(IntProgress(value=0, description='Simulating Choices', max=4115, style=ProgressStyle(descriptio…"
      ]
     },
     "metadata": {},
     "output_type": "display_data"
    },
    {
     "name": "stdout",
     "output_type": "stream",
     "text": [
      "\n",
      "Estimating the choice model...\n",
      "Log-likelihood at zero: -7,823.3033\n",
      "Initial Log-likelihood: -7,823.3033\n"
     ]
    },
    {
     "name": "stderr",
     "output_type": "stream",
     "text": [
      "/Users/mobouzaghrane/opt/anaconda3/lib/python3.7/site-packages/scipy/optimize/_minimize.py:505: RuntimeWarning: Method BFGS does not use Hessian information (hess).\n",
      "  RuntimeWarning)\n"
     ]
    },
    {
     "name": "stdout",
     "output_type": "stream",
     "text": [
      "Estimation Time for Point Estimation: 0.23 seconds.\n",
      "Final log-likelihood: -2,918.2612\n",
      "Estimating Causal Effects...\n",
      "Simulation number 155 is complete!\n",
      "==========================================\n",
      "==========================================\n",
      "Simulation number 156 is in progress...\n",
      "Simulation size is 3026\n",
      "------------------------------------------\n",
      "Simulating data...\n"
     ]
    },
    {
     "name": "stderr",
     "output_type": "stream",
     "text": [
      "/Users/mobouzaghrane/opt/anaconda3/lib/python3.7/site-packages/pylogit/choice_tools.py:703: FutureWarning: arrays to stack must be passed as a \"sequence\" type such as list or tuple. Support for non-sequence iterables such as generators is deprecated as of NumPy 1.16 and will raise an error in the future.\n",
      "  design_matrix = np.hstack((x[:, None] for x in independent_vars))\n"
     ]
    },
    {
     "name": "stdout",
     "output_type": "stream",
     "text": [
      "Simulating Availability...\n",
      "Converting data from wide to long...\n",
      "Simulating Choices...\n"
     ]
    },
    {
     "data": {
      "application/vnd.jupyter.widget-view+json": {
       "model_id": "64b908aa02de475cb1dde6a0cebc0fd8",
       "version_major": 2,
       "version_minor": 0
      },
      "text/plain": [
       "HBox(children=(IntProgress(value=0, description='Simulating Choices', max=3026, style=ProgressStyle(descriptio…"
      ]
     },
     "metadata": {},
     "output_type": "display_data"
    },
    {
     "name": "stdout",
     "output_type": "stream",
     "text": [
      "\n",
      "Estimating the choice model...\n",
      "Log-likelihood at zero: -5,737.6272\n",
      "Initial Log-likelihood: -5,737.6272\n",
      "Estimation Time for Point Estimation: 0.18 seconds.\n",
      "Final log-likelihood: -2,080.1032\n"
     ]
    },
    {
     "name": "stderr",
     "output_type": "stream",
     "text": [
      "/Users/mobouzaghrane/opt/anaconda3/lib/python3.7/site-packages/scipy/optimize/_minimize.py:505: RuntimeWarning: Method BFGS does not use Hessian information (hess).\n",
      "  RuntimeWarning)\n"
     ]
    },
    {
     "name": "stdout",
     "output_type": "stream",
     "text": [
      "Estimating Causal Effects...\n",
      "Simulation number 156 is complete!\n",
      "==========================================\n",
      "==========================================\n",
      "Simulation number 157 is in progress...\n",
      "Simulation size is 6033\n",
      "------------------------------------------\n",
      "Simulating data...\n",
      "Simulating Availability...\n"
     ]
    },
    {
     "name": "stderr",
     "output_type": "stream",
     "text": [
      "/Users/mobouzaghrane/opt/anaconda3/lib/python3.7/site-packages/pylogit/choice_tools.py:703: FutureWarning: arrays to stack must be passed as a \"sequence\" type such as list or tuple. Support for non-sequence iterables such as generators is deprecated as of NumPy 1.16 and will raise an error in the future.\n",
      "  design_matrix = np.hstack((x[:, None] for x in independent_vars))\n"
     ]
    },
    {
     "name": "stdout",
     "output_type": "stream",
     "text": [
      "Converting data from wide to long...\n",
      "Simulating Choices...\n"
     ]
    },
    {
     "data": {
      "application/vnd.jupyter.widget-view+json": {
       "model_id": "5c52b3df0d0d4d06819e792fbec35a28",
       "version_major": 2,
       "version_minor": 0
      },
      "text/plain": [
       "HBox(children=(IntProgress(value=0, description='Simulating Choices', max=6033, style=ProgressStyle(descriptio…"
      ]
     },
     "metadata": {},
     "output_type": "display_data"
    },
    {
     "name": "stdout",
     "output_type": "stream",
     "text": [
      "\n",
      "Estimating the choice model...\n",
      "Log-likelihood at zero: -11,468.0265\n",
      "Initial Log-likelihood: -11,468.0265\n"
     ]
    },
    {
     "name": "stderr",
     "output_type": "stream",
     "text": [
      "/Users/mobouzaghrane/opt/anaconda3/lib/python3.7/site-packages/scipy/optimize/_minimize.py:505: RuntimeWarning: Method BFGS does not use Hessian information (hess).\n",
      "  RuntimeWarning)\n"
     ]
    },
    {
     "name": "stdout",
     "output_type": "stream",
     "text": [
      "Estimation Time for Point Estimation: 0.30 seconds.\n",
      "Final log-likelihood: -4,251.2178\n",
      "Estimating Causal Effects...\n"
     ]
    },
    {
     "name": "stderr",
     "output_type": "stream",
     "text": [
      "/Users/mobouzaghrane/opt/anaconda3/lib/python3.7/site-packages/pylogit/choice_tools.py:703: FutureWarning: arrays to stack must be passed as a \"sequence\" type such as list or tuple. Support for non-sequence iterables such as generators is deprecated as of NumPy 1.16 and will raise an error in the future.\n",
      "  design_matrix = np.hstack((x[:, None] for x in independent_vars))\n"
     ]
    },
    {
     "name": "stdout",
     "output_type": "stream",
     "text": [
      "Simulation number 157 is complete!\n",
      "==========================================\n",
      "==========================================\n",
      "Simulation number 158 is in progress...\n",
      "Simulation size is 4207\n",
      "------------------------------------------\n",
      "Simulating data...\n",
      "Simulating Availability...\n",
      "Converting data from wide to long...\n",
      "Simulating Choices...\n"
     ]
    },
    {
     "data": {
      "application/vnd.jupyter.widget-view+json": {
       "model_id": "449daf51773e4b069246aa0fe5c5e650",
       "version_major": 2,
       "version_minor": 0
      },
      "text/plain": [
       "HBox(children=(IntProgress(value=0, description='Simulating Choices', max=4207, style=ProgressStyle(descriptio…"
      ]
     },
     "metadata": {},
     "output_type": "display_data"
    },
    {
     "name": "stdout",
     "output_type": "stream",
     "text": [
      "\n",
      "Estimating the choice model...\n",
      "Log-likelihood at zero: -8,003.9775\n",
      "Initial Log-likelihood: -8,003.9775\n"
     ]
    },
    {
     "name": "stderr",
     "output_type": "stream",
     "text": [
      "/Users/mobouzaghrane/opt/anaconda3/lib/python3.7/site-packages/scipy/optimize/_minimize.py:505: RuntimeWarning: Method BFGS does not use Hessian information (hess).\n",
      "  RuntimeWarning)\n"
     ]
    },
    {
     "name": "stdout",
     "output_type": "stream",
     "text": [
      "Estimation Time for Point Estimation: 0.24 seconds.\n",
      "Final log-likelihood: -3,023.9094\n",
      "Estimating Causal Effects...\n",
      "Simulation number 158 is complete!\n",
      "==========================================\n",
      "==========================================\n",
      "Simulation number 159 is in progress...\n",
      "Simulation size is 3473\n",
      "------------------------------------------\n",
      "Simulating data...\n"
     ]
    },
    {
     "name": "stderr",
     "output_type": "stream",
     "text": [
      "/Users/mobouzaghrane/opt/anaconda3/lib/python3.7/site-packages/pylogit/choice_tools.py:703: FutureWarning: arrays to stack must be passed as a \"sequence\" type such as list or tuple. Support for non-sequence iterables such as generators is deprecated as of NumPy 1.16 and will raise an error in the future.\n",
      "  design_matrix = np.hstack((x[:, None] for x in independent_vars))\n"
     ]
    },
    {
     "name": "stdout",
     "output_type": "stream",
     "text": [
      "Simulating Availability...\n",
      "Converting data from wide to long...\n",
      "Simulating Choices...\n"
     ]
    },
    {
     "data": {
      "application/vnd.jupyter.widget-view+json": {
       "model_id": "2485aa1b603b44cdb59897cef2e1c758",
       "version_major": 2,
       "version_minor": 0
      },
      "text/plain": [
       "HBox(children=(IntProgress(value=0, description='Simulating Choices', max=3473, style=ProgressStyle(descriptio…"
      ]
     },
     "metadata": {},
     "output_type": "display_data"
    },
    {
     "name": "stdout",
     "output_type": "stream",
     "text": [
      "\n",
      "Estimating the choice model...\n",
      "Log-likelihood at zero: -6,571.5829\n",
      "Initial Log-likelihood: -6,571.5829\n",
      "Estimation Time for Point Estimation: 0.19 seconds.\n",
      "Final log-likelihood: -2,433.5955\n"
     ]
    },
    {
     "name": "stderr",
     "output_type": "stream",
     "text": [
      "/Users/mobouzaghrane/opt/anaconda3/lib/python3.7/site-packages/scipy/optimize/_minimize.py:505: RuntimeWarning: Method BFGS does not use Hessian information (hess).\n",
      "  RuntimeWarning)\n"
     ]
    },
    {
     "name": "stdout",
     "output_type": "stream",
     "text": [
      "Estimating Causal Effects...\n",
      "Simulation number 159 is complete!\n",
      "==========================================\n",
      "==========================================\n",
      "Simulation number 160 is in progress...\n",
      "Simulation size is 7805\n",
      "------------------------------------------\n",
      "Simulating data...\n",
      "Simulating Availability...\n"
     ]
    },
    {
     "name": "stderr",
     "output_type": "stream",
     "text": [
      "/Users/mobouzaghrane/opt/anaconda3/lib/python3.7/site-packages/pylogit/choice_tools.py:703: FutureWarning: arrays to stack must be passed as a \"sequence\" type such as list or tuple. Support for non-sequence iterables such as generators is deprecated as of NumPy 1.16 and will raise an error in the future.\n",
      "  design_matrix = np.hstack((x[:, None] for x in independent_vars))\n"
     ]
    },
    {
     "name": "stdout",
     "output_type": "stream",
     "text": [
      "Converting data from wide to long...\n",
      "Simulating Choices...\n"
     ]
    },
    {
     "data": {
      "application/vnd.jupyter.widget-view+json": {
       "model_id": "641c6afb426543509b4c34bab41b3b67",
       "version_major": 2,
       "version_minor": 0
      },
      "text/plain": [
       "HBox(children=(IntProgress(value=0, description='Simulating Choices', max=7805, style=ProgressStyle(descriptio…"
      ]
     },
     "metadata": {},
     "output_type": "display_data"
    },
    {
     "name": "stdout",
     "output_type": "stream",
     "text": [
      "\n",
      "Estimating the choice model...\n",
      "Log-likelihood at zero: -14,805.1261\n",
      "Initial Log-likelihood: -14,805.1261\n"
     ]
    },
    {
     "name": "stderr",
     "output_type": "stream",
     "text": [
      "/Users/mobouzaghrane/opt/anaconda3/lib/python3.7/site-packages/scipy/optimize/_minimize.py:505: RuntimeWarning: Method BFGS does not use Hessian information (hess).\n",
      "  RuntimeWarning)\n"
     ]
    },
    {
     "name": "stdout",
     "output_type": "stream",
     "text": [
      "Estimation Time for Point Estimation: 0.44 seconds.\n",
      "Final log-likelihood: -5,449.6817\n",
      "Estimating Causal Effects...\n"
     ]
    },
    {
     "name": "stderr",
     "output_type": "stream",
     "text": [
      "/Users/mobouzaghrane/opt/anaconda3/lib/python3.7/site-packages/pylogit/choice_tools.py:703: FutureWarning: arrays to stack must be passed as a \"sequence\" type such as list or tuple. Support for non-sequence iterables such as generators is deprecated as of NumPy 1.16 and will raise an error in the future.\n",
      "  design_matrix = np.hstack((x[:, None] for x in independent_vars))\n"
     ]
    },
    {
     "name": "stdout",
     "output_type": "stream",
     "text": [
      "Simulation number 160 is complete!\n",
      "==========================================\n",
      "==========================================\n",
      "Simulation number 161 is in progress...\n",
      "Simulation size is 6773\n",
      "------------------------------------------\n",
      "Simulating data...\n",
      "Simulating Availability...\n",
      "Converting data from wide to long...\n",
      "Simulating Choices...\n"
     ]
    },
    {
     "data": {
      "application/vnd.jupyter.widget-view+json": {
       "model_id": "449a94aa2f6148f0aa5de1bc6e9233cd",
       "version_major": 2,
       "version_minor": 0
      },
      "text/plain": [
       "HBox(children=(IntProgress(value=0, description='Simulating Choices', max=6773, style=ProgressStyle(descriptio…"
      ]
     },
     "metadata": {},
     "output_type": "display_data"
    },
    {
     "name": "stdout",
     "output_type": "stream",
     "text": [
      "\n",
      "Estimating the choice model...\n",
      "Log-likelihood at zero: -12,868.3535\n",
      "Initial Log-likelihood: -12,868.3535\n"
     ]
    },
    {
     "name": "stderr",
     "output_type": "stream",
     "text": [
      "/Users/mobouzaghrane/opt/anaconda3/lib/python3.7/site-packages/scipy/optimize/_minimize.py:505: RuntimeWarning: Method BFGS does not use Hessian information (hess).\n",
      "  RuntimeWarning)\n"
     ]
    },
    {
     "name": "stdout",
     "output_type": "stream",
     "text": [
      "Estimation Time for Point Estimation: 0.37 seconds.\n",
      "Final log-likelihood: -4,691.4325\n",
      "Estimating Causal Effects...\n"
     ]
    },
    {
     "name": "stderr",
     "output_type": "stream",
     "text": [
      "/Users/mobouzaghrane/opt/anaconda3/lib/python3.7/site-packages/pylogit/choice_tools.py:703: FutureWarning: arrays to stack must be passed as a \"sequence\" type such as list or tuple. Support for non-sequence iterables such as generators is deprecated as of NumPy 1.16 and will raise an error in the future.\n",
      "  design_matrix = np.hstack((x[:, None] for x in independent_vars))\n"
     ]
    },
    {
     "name": "stdout",
     "output_type": "stream",
     "text": [
      "Simulation number 161 is complete!\n",
      "==========================================\n",
      "==========================================\n",
      "Simulation number 162 is in progress...\n",
      "Simulation size is 6179\n",
      "------------------------------------------\n",
      "Simulating data...\n",
      "Simulating Availability...\n",
      "Converting data from wide to long...\n",
      "Simulating Choices...\n"
     ]
    },
    {
     "data": {
      "application/vnd.jupyter.widget-view+json": {
       "model_id": "877e91f5f3b74cee90d1f2637c8eabea",
       "version_major": 2,
       "version_minor": 0
      },
      "text/plain": [
       "HBox(children=(IntProgress(value=0, description='Simulating Choices', max=6179, style=ProgressStyle(descriptio…"
      ]
     },
     "metadata": {},
     "output_type": "display_data"
    },
    {
     "name": "stdout",
     "output_type": "stream",
     "text": [
      "\n",
      "Estimating the choice model...\n",
      "Log-likelihood at zero: -11,710.1735\n",
      "Initial Log-likelihood: -11,710.1735\n"
     ]
    },
    {
     "name": "stderr",
     "output_type": "stream",
     "text": [
      "/Users/mobouzaghrane/opt/anaconda3/lib/python3.7/site-packages/scipy/optimize/_minimize.py:505: RuntimeWarning: Method BFGS does not use Hessian information (hess).\n",
      "  RuntimeWarning)\n"
     ]
    },
    {
     "name": "stdout",
     "output_type": "stream",
     "text": [
      "Estimation Time for Point Estimation: 0.36 seconds.\n",
      "Final log-likelihood: -4,259.5855\n",
      "Estimating Causal Effects...\n"
     ]
    },
    {
     "name": "stderr",
     "output_type": "stream",
     "text": [
      "/Users/mobouzaghrane/opt/anaconda3/lib/python3.7/site-packages/pylogit/choice_tools.py:703: FutureWarning: arrays to stack must be passed as a \"sequence\" type such as list or tuple. Support for non-sequence iterables such as generators is deprecated as of NumPy 1.16 and will raise an error in the future.\n",
      "  design_matrix = np.hstack((x[:, None] for x in independent_vars))\n"
     ]
    },
    {
     "name": "stdout",
     "output_type": "stream",
     "text": [
      "Simulation number 162 is complete!\n",
      "==========================================\n",
      "==========================================\n",
      "Simulation number 163 is in progress...\n",
      "Simulation size is 8195\n",
      "------------------------------------------\n",
      "Simulating data...\n",
      "Simulating Availability...\n",
      "Converting data from wide to long...\n",
      "Simulating Choices...\n"
     ]
    },
    {
     "data": {
      "application/vnd.jupyter.widget-view+json": {
       "model_id": "021552daed7b48838e43e5ef0877d601",
       "version_major": 2,
       "version_minor": 0
      },
      "text/plain": [
       "HBox(children=(IntProgress(value=0, description='Simulating Choices', max=8195, style=ProgressStyle(descriptio…"
      ]
     },
     "metadata": {},
     "output_type": "display_data"
    },
    {
     "name": "stdout",
     "output_type": "stream",
     "text": [
      "\n",
      "Estimating the choice model...\n",
      "Log-likelihood at zero: -15,504.2989\n",
      "Initial Log-likelihood: -15,504.2989\n"
     ]
    },
    {
     "name": "stderr",
     "output_type": "stream",
     "text": [
      "/Users/mobouzaghrane/opt/anaconda3/lib/python3.7/site-packages/scipy/optimize/_minimize.py:505: RuntimeWarning: Method BFGS does not use Hessian information (hess).\n",
      "  RuntimeWarning)\n"
     ]
    },
    {
     "name": "stdout",
     "output_type": "stream",
     "text": [
      "Estimation Time for Point Estimation: 0.46 seconds.\n",
      "Final log-likelihood: -5,687.0822\n",
      "Estimating Causal Effects...\n"
     ]
    },
    {
     "name": "stderr",
     "output_type": "stream",
     "text": [
      "/Users/mobouzaghrane/opt/anaconda3/lib/python3.7/site-packages/pylogit/choice_tools.py:703: FutureWarning: arrays to stack must be passed as a \"sequence\" type such as list or tuple. Support for non-sequence iterables such as generators is deprecated as of NumPy 1.16 and will raise an error in the future.\n",
      "  design_matrix = np.hstack((x[:, None] for x in independent_vars))\n"
     ]
    },
    {
     "name": "stdout",
     "output_type": "stream",
     "text": [
      "Simulation number 163 is complete!\n",
      "==========================================\n",
      "==========================================\n",
      "Simulation number 164 is in progress...\n",
      "Simulation size is 7112\n",
      "------------------------------------------\n",
      "Simulating data...\n",
      "Simulating Availability...\n",
      "Converting data from wide to long...\n",
      "Simulating Choices...\n"
     ]
    },
    {
     "data": {
      "application/vnd.jupyter.widget-view+json": {
       "model_id": "e8b671d3270e49fe8dacaa81e71dcfa3",
       "version_major": 2,
       "version_minor": 0
      },
      "text/plain": [
       "HBox(children=(IntProgress(value=0, description='Simulating Choices', max=7112, style=ProgressStyle(descriptio…"
      ]
     },
     "metadata": {},
     "output_type": "display_data"
    },
    {
     "name": "stdout",
     "output_type": "stream",
     "text": [
      "\n",
      "Estimating the choice model...\n",
      "Log-likelihood at zero: -13,494.3117\n",
      "Initial Log-likelihood: -13,494.3117\n"
     ]
    },
    {
     "name": "stderr",
     "output_type": "stream",
     "text": [
      "/Users/mobouzaghrane/opt/anaconda3/lib/python3.7/site-packages/scipy/optimize/_minimize.py:505: RuntimeWarning: Method BFGS does not use Hessian information (hess).\n",
      "  RuntimeWarning)\n"
     ]
    },
    {
     "name": "stdout",
     "output_type": "stream",
     "text": [
      "Estimation Time for Point Estimation: 0.40 seconds.\n",
      "Final log-likelihood: -4,862.8057\n",
      "Estimating Causal Effects...\n"
     ]
    },
    {
     "name": "stderr",
     "output_type": "stream",
     "text": [
      "/Users/mobouzaghrane/opt/anaconda3/lib/python3.7/site-packages/pylogit/choice_tools.py:703: FutureWarning: arrays to stack must be passed as a \"sequence\" type such as list or tuple. Support for non-sequence iterables such as generators is deprecated as of NumPy 1.16 and will raise an error in the future.\n",
      "  design_matrix = np.hstack((x[:, None] for x in independent_vars))\n"
     ]
    },
    {
     "name": "stdout",
     "output_type": "stream",
     "text": [
      "Simulation number 164 is complete!\n",
      "==========================================\n",
      "==========================================\n",
      "Simulation number 165 is in progress...\n",
      "Simulation size is 6182\n",
      "------------------------------------------\n",
      "Simulating data...\n",
      "Simulating Availability...\n",
      "Converting data from wide to long...\n",
      "Simulating Choices...\n"
     ]
    },
    {
     "data": {
      "application/vnd.jupyter.widget-view+json": {
       "model_id": "5876016f037c4ab3851c1d3604d61504",
       "version_major": 2,
       "version_minor": 0
      },
      "text/plain": [
       "HBox(children=(IntProgress(value=0, description='Simulating Choices', max=6182, style=ProgressStyle(descriptio…"
      ]
     },
     "metadata": {},
     "output_type": "display_data"
    },
    {
     "name": "stdout",
     "output_type": "stream",
     "text": [
      "\n",
      "Estimating the choice model...\n",
      "Log-likelihood at zero: -11,750.3259\n",
      "Initial Log-likelihood: -11,750.3259\n"
     ]
    },
    {
     "name": "stderr",
     "output_type": "stream",
     "text": [
      "/Users/mobouzaghrane/opt/anaconda3/lib/python3.7/site-packages/scipy/optimize/_minimize.py:505: RuntimeWarning: Method BFGS does not use Hessian information (hess).\n",
      "  RuntimeWarning)\n"
     ]
    },
    {
     "name": "stdout",
     "output_type": "stream",
     "text": [
      "Estimation Time for Point Estimation: 0.59 seconds.\n",
      "Final log-likelihood: -4,362.6911\n",
      "Estimating Causal Effects...\n"
     ]
    },
    {
     "name": "stderr",
     "output_type": "stream",
     "text": [
      "/Users/mobouzaghrane/opt/anaconda3/lib/python3.7/site-packages/pylogit/choice_tools.py:703: FutureWarning: arrays to stack must be passed as a \"sequence\" type such as list or tuple. Support for non-sequence iterables such as generators is deprecated as of NumPy 1.16 and will raise an error in the future.\n",
      "  design_matrix = np.hstack((x[:, None] for x in independent_vars))\n"
     ]
    },
    {
     "name": "stdout",
     "output_type": "stream",
     "text": [
      "Simulation number 165 is complete!\n",
      "==========================================\n",
      "==========================================\n",
      "Simulation number 166 is in progress...\n",
      "Simulation size is 6874\n",
      "------------------------------------------\n",
      "Simulating data...\n",
      "Simulating Availability...\n",
      "Converting data from wide to long...\n",
      "Simulating Choices...\n"
     ]
    },
    {
     "data": {
      "application/vnd.jupyter.widget-view+json": {
       "model_id": "e7edf9c81cbc4bd9a5ab3fd3d0d69ca8",
       "version_major": 2,
       "version_minor": 0
      },
      "text/plain": [
       "HBox(children=(IntProgress(value=0, description='Simulating Choices', max=6874, style=ProgressStyle(descriptio…"
      ]
     },
     "metadata": {},
     "output_type": "display_data"
    },
    {
     "name": "stdout",
     "output_type": "stream",
     "text": [
      "\n",
      "Estimating the choice model...\n",
      "Log-likelihood at zero: -13,013.9915\n",
      "Initial Log-likelihood: -13,013.9915\n"
     ]
    },
    {
     "name": "stderr",
     "output_type": "stream",
     "text": [
      "/Users/mobouzaghrane/opt/anaconda3/lib/python3.7/site-packages/scipy/optimize/_minimize.py:505: RuntimeWarning: Method BFGS does not use Hessian information (hess).\n",
      "  RuntimeWarning)\n"
     ]
    },
    {
     "name": "stdout",
     "output_type": "stream",
     "text": [
      "Estimation Time for Point Estimation: 0.55 seconds.\n",
      "Final log-likelihood: -4,857.5405\n",
      "Estimating Causal Effects...\n"
     ]
    },
    {
     "name": "stderr",
     "output_type": "stream",
     "text": [
      "/Users/mobouzaghrane/opt/anaconda3/lib/python3.7/site-packages/pylogit/choice_tools.py:703: FutureWarning: arrays to stack must be passed as a \"sequence\" type such as list or tuple. Support for non-sequence iterables such as generators is deprecated as of NumPy 1.16 and will raise an error in the future.\n",
      "  design_matrix = np.hstack((x[:, None] for x in independent_vars))\n"
     ]
    },
    {
     "name": "stdout",
     "output_type": "stream",
     "text": [
      "Simulation number 166 is complete!\n",
      "==========================================\n",
      "==========================================\n",
      "Simulation number 167 is in progress...\n",
      "Simulation size is 5863\n",
      "------------------------------------------\n",
      "Simulating data...\n",
      "Simulating Availability...\n",
      "Converting data from wide to long...\n",
      "Simulating Choices...\n"
     ]
    },
    {
     "data": {
      "application/vnd.jupyter.widget-view+json": {
       "model_id": "b17bb8cd110346c99bf880e31a82268a",
       "version_major": 2,
       "version_minor": 0
      },
      "text/plain": [
       "HBox(children=(IntProgress(value=0, description='Simulating Choices', max=5863, style=ProgressStyle(descriptio…"
      ]
     },
     "metadata": {},
     "output_type": "display_data"
    },
    {
     "name": "stdout",
     "output_type": "stream",
     "text": [
      "\n",
      "Estimating the choice model...\n",
      "Log-likelihood at zero: -11,113.0238\n",
      "Initial Log-likelihood: -11,113.0238\n"
     ]
    },
    {
     "name": "stderr",
     "output_type": "stream",
     "text": [
      "/Users/mobouzaghrane/opt/anaconda3/lib/python3.7/site-packages/scipy/optimize/_minimize.py:505: RuntimeWarning: Method BFGS does not use Hessian information (hess).\n",
      "  RuntimeWarning)\n"
     ]
    },
    {
     "name": "stdout",
     "output_type": "stream",
     "text": [
      "Estimation Time for Point Estimation: 0.28 seconds.\n",
      "Final log-likelihood: -4,215.1989\n",
      "Estimating Causal Effects...\n"
     ]
    },
    {
     "name": "stderr",
     "output_type": "stream",
     "text": [
      "/Users/mobouzaghrane/opt/anaconda3/lib/python3.7/site-packages/pylogit/choice_tools.py:703: FutureWarning: arrays to stack must be passed as a \"sequence\" type such as list or tuple. Support for non-sequence iterables such as generators is deprecated as of NumPy 1.16 and will raise an error in the future.\n",
      "  design_matrix = np.hstack((x[:, None] for x in independent_vars))\n"
     ]
    },
    {
     "name": "stdout",
     "output_type": "stream",
     "text": [
      "Simulation number 167 is complete!\n",
      "==========================================\n",
      "==========================================\n",
      "Simulation number 168 is in progress...\n",
      "Simulation size is 3296\n",
      "------------------------------------------\n",
      "Simulating data...\n",
      "Simulating Availability...\n",
      "Converting data from wide to long...\n",
      "Simulating Choices...\n"
     ]
    },
    {
     "data": {
      "application/vnd.jupyter.widget-view+json": {
       "model_id": "c99f8cd8183b484d9d64d15beef5dd31",
       "version_major": 2,
       "version_minor": 0
      },
      "text/plain": [
       "HBox(children=(IntProgress(value=0, description='Simulating Choices', max=3296, style=ProgressStyle(descriptio…"
      ]
     },
     "metadata": {},
     "output_type": "display_data"
    },
    {
     "name": "stdout",
     "output_type": "stream",
     "text": [
      "\n",
      "Estimating the choice model...\n",
      "Log-likelihood at zero: -6,259.2822\n",
      "Initial Log-likelihood: -6,259.2822\n"
     ]
    },
    {
     "name": "stderr",
     "output_type": "stream",
     "text": [
      "/Users/mobouzaghrane/opt/anaconda3/lib/python3.7/site-packages/scipy/optimize/_minimize.py:505: RuntimeWarning: Method BFGS does not use Hessian information (hess).\n",
      "  RuntimeWarning)\n"
     ]
    },
    {
     "name": "stdout",
     "output_type": "stream",
     "text": [
      "Estimation Time for Point Estimation: 0.28 seconds.\n",
      "Final log-likelihood: -2,299.5925\n",
      "Estimating Causal Effects...\n",
      "Simulation number 168 is complete!\n",
      "==========================================\n",
      "==========================================\n",
      "Simulation number 169 is in progress...\n",
      "Simulation size is 6361\n",
      "------------------------------------------\n",
      "Simulating data...\n",
      "Simulating Availability...\n"
     ]
    },
    {
     "name": "stderr",
     "output_type": "stream",
     "text": [
      "/Users/mobouzaghrane/opt/anaconda3/lib/python3.7/site-packages/pylogit/choice_tools.py:703: FutureWarning: arrays to stack must be passed as a \"sequence\" type such as list or tuple. Support for non-sequence iterables such as generators is deprecated as of NumPy 1.16 and will raise an error in the future.\n",
      "  design_matrix = np.hstack((x[:, None] for x in independent_vars))\n"
     ]
    },
    {
     "name": "stdout",
     "output_type": "stream",
     "text": [
      "Converting data from wide to long...\n",
      "Simulating Choices...\n"
     ]
    },
    {
     "data": {
      "application/vnd.jupyter.widget-view+json": {
       "model_id": "27a83e02f7f44a75bad1feece2934478",
       "version_major": 2,
       "version_minor": 0
      },
      "text/plain": [
       "HBox(children=(IntProgress(value=0, description='Simulating Choices', max=6361, style=ProgressStyle(descriptio…"
      ]
     },
     "metadata": {},
     "output_type": "display_data"
    },
    {
     "name": "stdout",
     "output_type": "stream",
     "text": [
      "\n",
      "Estimating the choice model...\n",
      "Log-likelihood at zero: -12,079.6339\n",
      "Initial Log-likelihood: -12,079.6339\n"
     ]
    },
    {
     "name": "stderr",
     "output_type": "stream",
     "text": [
      "/Users/mobouzaghrane/opt/anaconda3/lib/python3.7/site-packages/scipy/optimize/_minimize.py:505: RuntimeWarning: Method BFGS does not use Hessian information (hess).\n",
      "  RuntimeWarning)\n"
     ]
    },
    {
     "name": "stdout",
     "output_type": "stream",
     "text": [
      "Estimation Time for Point Estimation: 0.39 seconds.\n",
      "Final log-likelihood: -4,470.0135\n",
      "Estimating Causal Effects...\n"
     ]
    },
    {
     "name": "stderr",
     "output_type": "stream",
     "text": [
      "/Users/mobouzaghrane/opt/anaconda3/lib/python3.7/site-packages/pylogit/choice_tools.py:703: FutureWarning: arrays to stack must be passed as a \"sequence\" type such as list or tuple. Support for non-sequence iterables such as generators is deprecated as of NumPy 1.16 and will raise an error in the future.\n",
      "  design_matrix = np.hstack((x[:, None] for x in independent_vars))\n"
     ]
    },
    {
     "name": "stdout",
     "output_type": "stream",
     "text": [
      "Simulation number 169 is complete!\n",
      "==========================================\n",
      "==========================================\n",
      "Simulation number 170 is in progress...\n",
      "Simulation size is 6962\n",
      "------------------------------------------\n",
      "Simulating data...\n",
      "Simulating Availability...\n",
      "Converting data from wide to long...\n",
      "Simulating Choices...\n"
     ]
    },
    {
     "data": {
      "application/vnd.jupyter.widget-view+json": {
       "model_id": "a2ab5590c6604a628c49a762e358c6aa",
       "version_major": 2,
       "version_minor": 0
      },
      "text/plain": [
       "HBox(children=(IntProgress(value=0, description='Simulating Choices', max=6962, style=ProgressStyle(descriptio…"
      ]
     },
     "metadata": {},
     "output_type": "display_data"
    },
    {
     "name": "stdout",
     "output_type": "stream",
     "text": [
      "\n",
      "Estimating the choice model...\n",
      "Log-likelihood at zero: -13,226.9843\n",
      "Initial Log-likelihood: -13,226.9843\n"
     ]
    },
    {
     "name": "stderr",
     "output_type": "stream",
     "text": [
      "/Users/mobouzaghrane/opt/anaconda3/lib/python3.7/site-packages/scipy/optimize/_minimize.py:505: RuntimeWarning: Method BFGS does not use Hessian information (hess).\n",
      "  RuntimeWarning)\n"
     ]
    },
    {
     "name": "stdout",
     "output_type": "stream",
     "text": [
      "Estimation Time for Point Estimation: 0.61 seconds.\n",
      "Final log-likelihood: -4,982.7506\n",
      "Estimating Causal Effects...\n"
     ]
    },
    {
     "name": "stderr",
     "output_type": "stream",
     "text": [
      "/Users/mobouzaghrane/opt/anaconda3/lib/python3.7/site-packages/pylogit/choice_tools.py:703: FutureWarning: arrays to stack must be passed as a \"sequence\" type such as list or tuple. Support for non-sequence iterables such as generators is deprecated as of NumPy 1.16 and will raise an error in the future.\n",
      "  design_matrix = np.hstack((x[:, None] for x in independent_vars))\n"
     ]
    },
    {
     "name": "stdout",
     "output_type": "stream",
     "text": [
      "Simulation number 170 is complete!\n",
      "==========================================\n",
      "==========================================\n",
      "Simulation number 171 is in progress...\n",
      "Simulation size is 8323\n",
      "------------------------------------------\n",
      "Simulating data...\n",
      "Simulating Availability...\n",
      "Converting data from wide to long...\n",
      "Simulating Choices...\n"
     ]
    },
    {
     "data": {
      "application/vnd.jupyter.widget-view+json": {
       "model_id": "99a4b12f60f8495da30dc63ce13f9089",
       "version_major": 2,
       "version_minor": 0
      },
      "text/plain": [
       "HBox(children=(IntProgress(value=0, description='Simulating Choices', max=8323, style=ProgressStyle(descriptio…"
      ]
     },
     "metadata": {},
     "output_type": "display_data"
    },
    {
     "name": "stdout",
     "output_type": "stream",
     "text": [
      "\n",
      "Estimating the choice model...\n",
      "Log-likelihood at zero: -15,794.8508\n",
      "Initial Log-likelihood: -15,794.8508\n"
     ]
    },
    {
     "name": "stderr",
     "output_type": "stream",
     "text": [
      "/Users/mobouzaghrane/opt/anaconda3/lib/python3.7/site-packages/scipy/optimize/_minimize.py:505: RuntimeWarning: Method BFGS does not use Hessian information (hess).\n",
      "  RuntimeWarning)\n"
     ]
    },
    {
     "name": "stdout",
     "output_type": "stream",
     "text": [
      "Estimation Time for Point Estimation: 0.72 seconds.\n",
      "Final log-likelihood: -5,837.3917\n",
      "Estimating Causal Effects...\n"
     ]
    },
    {
     "name": "stderr",
     "output_type": "stream",
     "text": [
      "/Users/mobouzaghrane/opt/anaconda3/lib/python3.7/site-packages/pylogit/choice_tools.py:703: FutureWarning: arrays to stack must be passed as a \"sequence\" type such as list or tuple. Support for non-sequence iterables such as generators is deprecated as of NumPy 1.16 and will raise an error in the future.\n",
      "  design_matrix = np.hstack((x[:, None] for x in independent_vars))\n"
     ]
    },
    {
     "name": "stdout",
     "output_type": "stream",
     "text": [
      "Simulation number 171 is complete!\n",
      "==========================================\n",
      "==========================================\n",
      "Simulation number 172 is in progress...\n",
      "Simulation size is 5693\n",
      "------------------------------------------\n",
      "Simulating data...\n",
      "Simulating Availability...\n",
      "Converting data from wide to long...\n",
      "Simulating Choices...\n"
     ]
    },
    {
     "data": {
      "application/vnd.jupyter.widget-view+json": {
       "model_id": "5452668c2ddf4c20a2692a270190edc7",
       "version_major": 2,
       "version_minor": 0
      },
      "text/plain": [
       "HBox(children=(IntProgress(value=0, description='Simulating Choices', max=5693, style=ProgressStyle(descriptio…"
      ]
     },
     "metadata": {},
     "output_type": "display_data"
    },
    {
     "name": "stdout",
     "output_type": "stream",
     "text": [
      "\n",
      "Estimating the choice model...\n",
      "Log-likelihood at zero: -10,819.2576\n",
      "Initial Log-likelihood: -10,819.2576\n"
     ]
    },
    {
     "name": "stderr",
     "output_type": "stream",
     "text": [
      "/Users/mobouzaghrane/opt/anaconda3/lib/python3.7/site-packages/scipy/optimize/_minimize.py:505: RuntimeWarning: Method BFGS does not use Hessian information (hess).\n",
      "  RuntimeWarning)\n"
     ]
    },
    {
     "name": "stdout",
     "output_type": "stream",
     "text": [
      "Estimation Time for Point Estimation: 0.34 seconds.\n",
      "Final log-likelihood: -4,099.6047\n",
      "Estimating Causal Effects...\n"
     ]
    },
    {
     "name": "stderr",
     "output_type": "stream",
     "text": [
      "/Users/mobouzaghrane/opt/anaconda3/lib/python3.7/site-packages/pylogit/choice_tools.py:703: FutureWarning: arrays to stack must be passed as a \"sequence\" type such as list or tuple. Support for non-sequence iterables such as generators is deprecated as of NumPy 1.16 and will raise an error in the future.\n",
      "  design_matrix = np.hstack((x[:, None] for x in independent_vars))\n"
     ]
    },
    {
     "name": "stdout",
     "output_type": "stream",
     "text": [
      "Simulation number 172 is complete!\n",
      "==========================================\n",
      "==========================================\n",
      "Simulation number 173 is in progress...\n",
      "Simulation size is 7975\n",
      "------------------------------------------\n",
      "Simulating data...\n",
      "Simulating Availability...\n",
      "Converting data from wide to long...\n",
      "Simulating Choices...\n"
     ]
    },
    {
     "data": {
      "application/vnd.jupyter.widget-view+json": {
       "model_id": "7faa13d6d3ad419ba1090378d3e72994",
       "version_major": 2,
       "version_minor": 0
      },
      "text/plain": [
       "HBox(children=(IntProgress(value=0, description='Simulating Choices', max=7975, style=ProgressStyle(descriptio…"
      ]
     },
     "metadata": {},
     "output_type": "display_data"
    },
    {
     "name": "stdout",
     "output_type": "stream",
     "text": [
      "\n",
      "Estimating the choice model...\n",
      "Log-likelihood at zero: -15,142.0325\n",
      "Initial Log-likelihood: -15,142.0325\n"
     ]
    },
    {
     "name": "stderr",
     "output_type": "stream",
     "text": [
      "/Users/mobouzaghrane/opt/anaconda3/lib/python3.7/site-packages/scipy/optimize/_minimize.py:505: RuntimeWarning: Method BFGS does not use Hessian information (hess).\n",
      "  RuntimeWarning)\n"
     ]
    },
    {
     "name": "stdout",
     "output_type": "stream",
     "text": [
      "Estimation Time for Point Estimation: 0.49 seconds.\n",
      "Final log-likelihood: -5,452.0017\n",
      "Estimating Causal Effects...\n"
     ]
    },
    {
     "name": "stderr",
     "output_type": "stream",
     "text": [
      "/Users/mobouzaghrane/opt/anaconda3/lib/python3.7/site-packages/pylogit/choice_tools.py:703: FutureWarning: arrays to stack must be passed as a \"sequence\" type such as list or tuple. Support for non-sequence iterables such as generators is deprecated as of NumPy 1.16 and will raise an error in the future.\n",
      "  design_matrix = np.hstack((x[:, None] for x in independent_vars))\n"
     ]
    },
    {
     "name": "stdout",
     "output_type": "stream",
     "text": [
      "Simulation number 173 is complete!\n",
      "==========================================\n",
      "==========================================\n",
      "Simulation number 174 is in progress...\n",
      "Simulation size is 7167\n",
      "------------------------------------------\n",
      "Simulating data...\n",
      "Simulating Availability...\n",
      "Converting data from wide to long...\n",
      "Simulating Choices...\n"
     ]
    },
    {
     "data": {
      "application/vnd.jupyter.widget-view+json": {
       "model_id": "cbaa3dc0adf842c18d4353c2d75ec2b4",
       "version_major": 2,
       "version_minor": 0
      },
      "text/plain": [
       "HBox(children=(IntProgress(value=0, description='Simulating Choices', max=7167, style=ProgressStyle(descriptio…"
      ]
     },
     "metadata": {},
     "output_type": "display_data"
    },
    {
     "name": "stdout",
     "output_type": "stream",
     "text": [
      "\n",
      "Estimating the choice model...\n",
      "Log-likelihood at zero: -13,608.3742\n",
      "Initial Log-likelihood: -13,608.3742\n"
     ]
    },
    {
     "name": "stderr",
     "output_type": "stream",
     "text": [
      "/Users/mobouzaghrane/opt/anaconda3/lib/python3.7/site-packages/scipy/optimize/_minimize.py:505: RuntimeWarning: Method BFGS does not use Hessian information (hess).\n",
      "  RuntimeWarning)\n"
     ]
    },
    {
     "name": "stdout",
     "output_type": "stream",
     "text": [
      "Estimation Time for Point Estimation: 0.42 seconds.\n",
      "Final log-likelihood: -4,998.5844\n",
      "Estimating Causal Effects...\n"
     ]
    },
    {
     "name": "stderr",
     "output_type": "stream",
     "text": [
      "/Users/mobouzaghrane/opt/anaconda3/lib/python3.7/site-packages/pylogit/choice_tools.py:703: FutureWarning: arrays to stack must be passed as a \"sequence\" type such as list or tuple. Support for non-sequence iterables such as generators is deprecated as of NumPy 1.16 and will raise an error in the future.\n",
      "  design_matrix = np.hstack((x[:, None] for x in independent_vars))\n"
     ]
    },
    {
     "name": "stdout",
     "output_type": "stream",
     "text": [
      "Simulation number 174 is complete!\n",
      "==========================================\n",
      "==========================================\n",
      "Simulation number 175 is in progress...\n",
      "Simulation size is 5597\n",
      "------------------------------------------\n",
      "Simulating data...\n",
      "Simulating Availability...\n",
      "Converting data from wide to long...\n",
      "Simulating Choices...\n"
     ]
    },
    {
     "data": {
      "application/vnd.jupyter.widget-view+json": {
       "model_id": "bbf084ab98e14cad92b93d8e90fb258a",
       "version_major": 2,
       "version_minor": 0
      },
      "text/plain": [
       "HBox(children=(IntProgress(value=0, description='Simulating Choices', max=5597, style=ProgressStyle(descriptio…"
      ]
     },
     "metadata": {},
     "output_type": "display_data"
    },
    {
     "name": "stdout",
     "output_type": "stream",
     "text": [
      "\n",
      "Estimating the choice model...\n",
      "Log-likelihood at zero: -10,612.9447\n",
      "Initial Log-likelihood: -10,612.9447\n"
     ]
    },
    {
     "name": "stderr",
     "output_type": "stream",
     "text": [
      "/Users/mobouzaghrane/opt/anaconda3/lib/python3.7/site-packages/scipy/optimize/_minimize.py:505: RuntimeWarning: Method BFGS does not use Hessian information (hess).\n",
      "  RuntimeWarning)\n"
     ]
    },
    {
     "name": "stdout",
     "output_type": "stream",
     "text": [
      "Estimation Time for Point Estimation: 0.29 seconds.\n",
      "Final log-likelihood: -3,875.0507\n",
      "Estimating Causal Effects...\n"
     ]
    },
    {
     "name": "stderr",
     "output_type": "stream",
     "text": [
      "/Users/mobouzaghrane/opt/anaconda3/lib/python3.7/site-packages/pylogit/choice_tools.py:703: FutureWarning: arrays to stack must be passed as a \"sequence\" type such as list or tuple. Support for non-sequence iterables such as generators is deprecated as of NumPy 1.16 and will raise an error in the future.\n",
      "  design_matrix = np.hstack((x[:, None] for x in independent_vars))\n"
     ]
    },
    {
     "name": "stdout",
     "output_type": "stream",
     "text": [
      "Simulation number 175 is complete!\n",
      "==========================================\n",
      "==========================================\n",
      "Simulation number 176 is in progress...\n",
      "Simulation size is 6169\n",
      "------------------------------------------\n",
      "Simulating data...\n",
      "Simulating Availability...\n",
      "Converting data from wide to long...\n",
      "Simulating Choices...\n"
     ]
    },
    {
     "data": {
      "application/vnd.jupyter.widget-view+json": {
       "model_id": "305652d404d84c5fb76f0fece03698a3",
       "version_major": 2,
       "version_minor": 0
      },
      "text/plain": [
       "HBox(children=(IntProgress(value=0, description='Simulating Choices', max=6169, style=ProgressStyle(descriptio…"
      ]
     },
     "metadata": {},
     "output_type": "display_data"
    },
    {
     "name": "stdout",
     "output_type": "stream",
     "text": [
      "\n",
      "Estimating the choice model...\n",
      "Log-likelihood at zero: -11,717.8409\n",
      "Initial Log-likelihood: -11,717.8409\n"
     ]
    },
    {
     "name": "stderr",
     "output_type": "stream",
     "text": [
      "/Users/mobouzaghrane/opt/anaconda3/lib/python3.7/site-packages/scipy/optimize/_minimize.py:505: RuntimeWarning: Method BFGS does not use Hessian information (hess).\n",
      "  RuntimeWarning)\n"
     ]
    },
    {
     "name": "stdout",
     "output_type": "stream",
     "text": [
      "Estimation Time for Point Estimation: 0.38 seconds.\n",
      "Final log-likelihood: -4,315.1596\n",
      "Estimating Causal Effects...\n"
     ]
    },
    {
     "name": "stderr",
     "output_type": "stream",
     "text": [
      "/Users/mobouzaghrane/opt/anaconda3/lib/python3.7/site-packages/pylogit/choice_tools.py:703: FutureWarning: arrays to stack must be passed as a \"sequence\" type such as list or tuple. Support for non-sequence iterables such as generators is deprecated as of NumPy 1.16 and will raise an error in the future.\n",
      "  design_matrix = np.hstack((x[:, None] for x in independent_vars))\n"
     ]
    },
    {
     "name": "stdout",
     "output_type": "stream",
     "text": [
      "Simulation number 176 is complete!\n",
      "==========================================\n",
      "==========================================\n",
      "Simulation number 177 is in progress...\n",
      "Simulation size is 3154\n",
      "------------------------------------------\n",
      "Simulating data...\n",
      "Simulating Availability...\n",
      "Converting data from wide to long...\n",
      "Simulating Choices...\n"
     ]
    },
    {
     "data": {
      "application/vnd.jupyter.widget-view+json": {
       "model_id": "57bc253f873d491fbc05d5886d563d30",
       "version_major": 2,
       "version_minor": 0
      },
      "text/plain": [
       "HBox(children=(IntProgress(value=0, description='Simulating Choices', max=3154, style=ProgressStyle(descriptio…"
      ]
     },
     "metadata": {},
     "output_type": "display_data"
    },
    {
     "name": "stdout",
     "output_type": "stream",
     "text": [
      "\n",
      "Estimating the choice model...\n",
      "Log-likelihood at zero: -5,993.2245\n",
      "Initial Log-likelihood: -5,993.2245\n",
      "Estimation Time for Point Estimation: 0.19 seconds.\n",
      "Final log-likelihood: -2,148.5751\n"
     ]
    },
    {
     "name": "stderr",
     "output_type": "stream",
     "text": [
      "/Users/mobouzaghrane/opt/anaconda3/lib/python3.7/site-packages/scipy/optimize/_minimize.py:505: RuntimeWarning: Method BFGS does not use Hessian information (hess).\n",
      "  RuntimeWarning)\n"
     ]
    },
    {
     "name": "stdout",
     "output_type": "stream",
     "text": [
      "Estimating Causal Effects...\n",
      "Simulation number 177 is complete!\n",
      "==========================================\n",
      "==========================================\n",
      "Simulation number 178 is in progress...\n",
      "Simulation size is 6845\n",
      "------------------------------------------\n",
      "Simulating data...\n",
      "Simulating Availability...\n"
     ]
    },
    {
     "name": "stderr",
     "output_type": "stream",
     "text": [
      "/Users/mobouzaghrane/opt/anaconda3/lib/python3.7/site-packages/pylogit/choice_tools.py:703: FutureWarning: arrays to stack must be passed as a \"sequence\" type such as list or tuple. Support for non-sequence iterables such as generators is deprecated as of NumPy 1.16 and will raise an error in the future.\n",
      "  design_matrix = np.hstack((x[:, None] for x in independent_vars))\n"
     ]
    },
    {
     "name": "stdout",
     "output_type": "stream",
     "text": [
      "Converting data from wide to long...\n",
      "Simulating Choices...\n"
     ]
    },
    {
     "data": {
      "application/vnd.jupyter.widget-view+json": {
       "model_id": "4997fa30fa7a4141b8c1eae593038690",
       "version_major": 2,
       "version_minor": 0
      },
      "text/plain": [
       "HBox(children=(IntProgress(value=0, description='Simulating Choices', max=6845, style=ProgressStyle(descriptio…"
      ]
     },
     "metadata": {},
     "output_type": "display_data"
    },
    {
     "name": "stdout",
     "output_type": "stream",
     "text": [
      "\n",
      "Estimating the choice model...\n",
      "Log-likelihood at zero: -13,018.1370\n",
      "Initial Log-likelihood: -13,018.1370\n"
     ]
    },
    {
     "name": "stderr",
     "output_type": "stream",
     "text": [
      "/Users/mobouzaghrane/opt/anaconda3/lib/python3.7/site-packages/scipy/optimize/_minimize.py:505: RuntimeWarning: Method BFGS does not use Hessian information (hess).\n",
      "  RuntimeWarning)\n"
     ]
    },
    {
     "name": "stdout",
     "output_type": "stream",
     "text": [
      "Estimation Time for Point Estimation: 0.39 seconds.\n",
      "Final log-likelihood: -4,839.7420\n",
      "Estimating Causal Effects...\n"
     ]
    },
    {
     "name": "stderr",
     "output_type": "stream",
     "text": [
      "/Users/mobouzaghrane/opt/anaconda3/lib/python3.7/site-packages/pylogit/choice_tools.py:703: FutureWarning: arrays to stack must be passed as a \"sequence\" type such as list or tuple. Support for non-sequence iterables such as generators is deprecated as of NumPy 1.16 and will raise an error in the future.\n",
      "  design_matrix = np.hstack((x[:, None] for x in independent_vars))\n"
     ]
    },
    {
     "name": "stdout",
     "output_type": "stream",
     "text": [
      "Simulation number 178 is complete!\n",
      "==========================================\n",
      "==========================================\n",
      "Simulation number 179 is in progress...\n",
      "Simulation size is 4298\n",
      "------------------------------------------\n",
      "Simulating data...\n",
      "Simulating Availability...\n",
      "Converting data from wide to long...\n",
      "Simulating Choices...\n"
     ]
    },
    {
     "data": {
      "application/vnd.jupyter.widget-view+json": {
       "model_id": "8ec97ba4380142458489f3f0c3259975",
       "version_major": 2,
       "version_minor": 0
      },
      "text/plain": [
       "HBox(children=(IntProgress(value=0, description='Simulating Choices', max=4298, style=ProgressStyle(descriptio…"
      ]
     },
     "metadata": {},
     "output_type": "display_data"
    },
    {
     "name": "stdout",
     "output_type": "stream",
     "text": [
      "\n",
      "Estimating the choice model...\n",
      "Log-likelihood at zero: -8,156.6196\n",
      "Initial Log-likelihood: -8,156.6196\n"
     ]
    },
    {
     "name": "stderr",
     "output_type": "stream",
     "text": [
      "/Users/mobouzaghrane/opt/anaconda3/lib/python3.7/site-packages/scipy/optimize/_minimize.py:505: RuntimeWarning: Method BFGS does not use Hessian information (hess).\n",
      "  RuntimeWarning)\n"
     ]
    },
    {
     "name": "stdout",
     "output_type": "stream",
     "text": [
      "Estimation Time for Point Estimation: 0.24 seconds.\n",
      "Final log-likelihood: -3,086.7754\n",
      "Estimating Causal Effects...\n",
      "Simulation number 179 is complete!\n",
      "==========================================\n",
      "==========================================\n",
      "Simulation number 180 is in progress...\n",
      "Simulation size is 6357\n",
      "------------------------------------------\n",
      "Simulating data...\n"
     ]
    },
    {
     "name": "stderr",
     "output_type": "stream",
     "text": [
      "/Users/mobouzaghrane/opt/anaconda3/lib/python3.7/site-packages/pylogit/choice_tools.py:703: FutureWarning: arrays to stack must be passed as a \"sequence\" type such as list or tuple. Support for non-sequence iterables such as generators is deprecated as of NumPy 1.16 and will raise an error in the future.\n",
      "  design_matrix = np.hstack((x[:, None] for x in independent_vars))\n"
     ]
    },
    {
     "name": "stdout",
     "output_type": "stream",
     "text": [
      "Simulating Availability...\n",
      "Converting data from wide to long...\n",
      "Simulating Choices...\n"
     ]
    },
    {
     "data": {
      "application/vnd.jupyter.widget-view+json": {
       "model_id": "6072a04305bf4912a67340e99270ce6d",
       "version_major": 2,
       "version_minor": 0
      },
      "text/plain": [
       "HBox(children=(IntProgress(value=0, description='Simulating Choices', max=6357, style=ProgressStyle(descriptio…"
      ]
     },
     "metadata": {},
     "output_type": "display_data"
    },
    {
     "name": "stdout",
     "output_type": "stream",
     "text": [
      "\n",
      "Estimating the choice model...\n",
      "Log-likelihood at zero: -12,103.9433\n",
      "Initial Log-likelihood: -12,103.9433\n"
     ]
    },
    {
     "name": "stderr",
     "output_type": "stream",
     "text": [
      "/Users/mobouzaghrane/opt/anaconda3/lib/python3.7/site-packages/scipy/optimize/_minimize.py:505: RuntimeWarning: Method BFGS does not use Hessian information (hess).\n",
      "  RuntimeWarning)\n"
     ]
    },
    {
     "name": "stdout",
     "output_type": "stream",
     "text": [
      "Estimation Time for Point Estimation: 0.69 seconds.\n",
      "Final log-likelihood: -4,560.6429\n",
      "Estimating Causal Effects...\n"
     ]
    },
    {
     "name": "stderr",
     "output_type": "stream",
     "text": [
      "/Users/mobouzaghrane/opt/anaconda3/lib/python3.7/site-packages/pylogit/choice_tools.py:703: FutureWarning: arrays to stack must be passed as a \"sequence\" type such as list or tuple. Support for non-sequence iterables such as generators is deprecated as of NumPy 1.16 and will raise an error in the future.\n",
      "  design_matrix = np.hstack((x[:, None] for x in independent_vars))\n"
     ]
    },
    {
     "name": "stdout",
     "output_type": "stream",
     "text": [
      "Simulation number 180 is complete!\n",
      "==========================================\n",
      "==========================================\n",
      "Simulation number 181 is in progress...\n",
      "Simulation size is 5406\n",
      "------------------------------------------\n",
      "Simulating data...\n",
      "Simulating Availability...\n",
      "Converting data from wide to long...\n",
      "Simulating Choices...\n"
     ]
    },
    {
     "data": {
      "application/vnd.jupyter.widget-view+json": {
       "model_id": "3f1b098b991e425a94277a61c7bb0c0a",
       "version_major": 2,
       "version_minor": 0
      },
      "text/plain": [
       "HBox(children=(IntProgress(value=0, description='Simulating Choices', max=5406, style=ProgressStyle(descriptio…"
      ]
     },
     "metadata": {},
     "output_type": "display_data"
    },
    {
     "name": "stdout",
     "output_type": "stream",
     "text": [
      "\n",
      "Estimating the choice model...\n",
      "Log-likelihood at zero: -10,269.4626\n",
      "Initial Log-likelihood: -10,269.4626\n"
     ]
    },
    {
     "name": "stderr",
     "output_type": "stream",
     "text": [
      "/Users/mobouzaghrane/opt/anaconda3/lib/python3.7/site-packages/scipy/optimize/_minimize.py:505: RuntimeWarning: Method BFGS does not use Hessian information (hess).\n",
      "  RuntimeWarning)\n"
     ]
    },
    {
     "name": "stdout",
     "output_type": "stream",
     "text": [
      "Estimation Time for Point Estimation: 0.26 seconds.\n",
      "Final log-likelihood: -3,743.1726\n",
      "Estimating Causal Effects...\n",
      "Simulation number 181 is complete!\n",
      "==========================================\n",
      "==========================================\n",
      "Simulation number 182 is in progress...\n",
      "Simulation size is 8740\n",
      "------------------------------------------\n",
      "Simulating data...\n"
     ]
    },
    {
     "name": "stderr",
     "output_type": "stream",
     "text": [
      "/Users/mobouzaghrane/opt/anaconda3/lib/python3.7/site-packages/pylogit/choice_tools.py:703: FutureWarning: arrays to stack must be passed as a \"sequence\" type such as list or tuple. Support for non-sequence iterables such as generators is deprecated as of NumPy 1.16 and will raise an error in the future.\n",
      "  design_matrix = np.hstack((x[:, None] for x in independent_vars))\n"
     ]
    },
    {
     "name": "stdout",
     "output_type": "stream",
     "text": [
      "Simulating Availability...\n",
      "Converting data from wide to long...\n",
      "Simulating Choices...\n"
     ]
    },
    {
     "data": {
      "application/vnd.jupyter.widget-view+json": {
       "model_id": "25e9ce69008646fb9c8fcceb95501374",
       "version_major": 2,
       "version_minor": 0
      },
      "text/plain": [
       "HBox(children=(IntProgress(value=0, description='Simulating Choices', max=8740, style=ProgressStyle(descriptio…"
      ]
     },
     "metadata": {},
     "output_type": "display_data"
    },
    {
     "name": "stdout",
     "output_type": "stream",
     "text": [
      "\n",
      "Estimating the choice model...\n",
      "Log-likelihood at zero: -16,579.3766\n",
      "Initial Log-likelihood: -16,579.3766\n"
     ]
    },
    {
     "name": "stderr",
     "output_type": "stream",
     "text": [
      "/Users/mobouzaghrane/opt/anaconda3/lib/python3.7/site-packages/scipy/optimize/_minimize.py:505: RuntimeWarning: Method BFGS does not use Hessian information (hess).\n",
      "  RuntimeWarning)\n"
     ]
    },
    {
     "name": "stdout",
     "output_type": "stream",
     "text": [
      "Estimation Time for Point Estimation: 0.78 seconds.\n",
      "Final log-likelihood: -6,234.4251\n",
      "Estimating Causal Effects...\n"
     ]
    },
    {
     "name": "stderr",
     "output_type": "stream",
     "text": [
      "/Users/mobouzaghrane/opt/anaconda3/lib/python3.7/site-packages/pylogit/choice_tools.py:703: FutureWarning: arrays to stack must be passed as a \"sequence\" type such as list or tuple. Support for non-sequence iterables such as generators is deprecated as of NumPy 1.16 and will raise an error in the future.\n",
      "  design_matrix = np.hstack((x[:, None] for x in independent_vars))\n"
     ]
    },
    {
     "name": "stdout",
     "output_type": "stream",
     "text": [
      "Simulation number 182 is complete!\n",
      "==========================================\n",
      "==========================================\n",
      "Simulation number 183 is in progress...\n",
      "Simulation size is 7222\n",
      "------------------------------------------\n",
      "Simulating data...\n",
      "Simulating Availability...\n",
      "Converting data from wide to long...\n",
      "Simulating Choices...\n"
     ]
    },
    {
     "data": {
      "application/vnd.jupyter.widget-view+json": {
       "model_id": "4344281e86d2409fb8e1560104888966",
       "version_major": 2,
       "version_minor": 0
      },
      "text/plain": [
       "HBox(children=(IntProgress(value=0, description='Simulating Choices', max=7222, style=ProgressStyle(descriptio…"
      ]
     },
     "metadata": {},
     "output_type": "display_data"
    },
    {
     "name": "stdout",
     "output_type": "stream",
     "text": [
      "\n",
      "Estimating the choice model...\n",
      "Log-likelihood at zero: -13,698.9965\n",
      "Initial Log-likelihood: -13,698.9965\n"
     ]
    },
    {
     "name": "stderr",
     "output_type": "stream",
     "text": [
      "/Users/mobouzaghrane/opt/anaconda3/lib/python3.7/site-packages/scipy/optimize/_minimize.py:505: RuntimeWarning: Method BFGS does not use Hessian information (hess).\n",
      "  RuntimeWarning)\n"
     ]
    },
    {
     "name": "stdout",
     "output_type": "stream",
     "text": [
      "Estimation Time for Point Estimation: 0.59 seconds.\n",
      "Final log-likelihood: -5,231.3929\n",
      "Estimating Causal Effects...\n"
     ]
    },
    {
     "name": "stderr",
     "output_type": "stream",
     "text": [
      "/Users/mobouzaghrane/opt/anaconda3/lib/python3.7/site-packages/pylogit/choice_tools.py:703: FutureWarning: arrays to stack must be passed as a \"sequence\" type such as list or tuple. Support for non-sequence iterables such as generators is deprecated as of NumPy 1.16 and will raise an error in the future.\n",
      "  design_matrix = np.hstack((x[:, None] for x in independent_vars))\n"
     ]
    },
    {
     "name": "stdout",
     "output_type": "stream",
     "text": [
      "Simulation number 183 is complete!\n",
      "==========================================\n",
      "==========================================\n",
      "Simulation number 184 is in progress...\n",
      "Simulation size is 8217\n",
      "------------------------------------------\n",
      "Simulating data...\n",
      "Simulating Availability...\n",
      "Converting data from wide to long...\n",
      "Simulating Choices...\n"
     ]
    },
    {
     "data": {
      "application/vnd.jupyter.widget-view+json": {
       "model_id": "2905041a9a554fcf9a537fa0572199b7",
       "version_major": 2,
       "version_minor": 0
      },
      "text/plain": [
       "HBox(children=(IntProgress(value=0, description='Simulating Choices', max=8217, style=ProgressStyle(descriptio…"
      ]
     },
     "metadata": {},
     "output_type": "display_data"
    },
    {
     "name": "stdout",
     "output_type": "stream",
     "text": [
      "\n",
      "Estimating the choice model...\n",
      "Log-likelihood at zero: -15,623.5772\n",
      "Initial Log-likelihood: -15,623.5772\n"
     ]
    },
    {
     "name": "stderr",
     "output_type": "stream",
     "text": [
      "/Users/mobouzaghrane/opt/anaconda3/lib/python3.7/site-packages/scipy/optimize/_minimize.py:505: RuntimeWarning: Method BFGS does not use Hessian information (hess).\n",
      "  RuntimeWarning)\n"
     ]
    },
    {
     "name": "stdout",
     "output_type": "stream",
     "text": [
      "Estimation Time for Point Estimation: 0.45 seconds.\n",
      "Final log-likelihood: -5,752.9210\n",
      "Estimating Causal Effects...\n"
     ]
    },
    {
     "name": "stderr",
     "output_type": "stream",
     "text": [
      "/Users/mobouzaghrane/opt/anaconda3/lib/python3.7/site-packages/pylogit/choice_tools.py:703: FutureWarning: arrays to stack must be passed as a \"sequence\" type such as list or tuple. Support for non-sequence iterables such as generators is deprecated as of NumPy 1.16 and will raise an error in the future.\n",
      "  design_matrix = np.hstack((x[:, None] for x in independent_vars))\n"
     ]
    },
    {
     "name": "stdout",
     "output_type": "stream",
     "text": [
      "Simulation number 184 is complete!\n",
      "==========================================\n",
      "==========================================\n",
      "Simulation number 185 is in progress...\n",
      "Simulation size is 5871\n",
      "------------------------------------------\n",
      "Simulating data...\n",
      "Simulating Availability...\n",
      "Converting data from wide to long...\n",
      "Simulating Choices...\n"
     ]
    },
    {
     "data": {
      "application/vnd.jupyter.widget-view+json": {
       "model_id": "56fd39d3ed8849d38ec06bb7697e1b5b",
       "version_major": 2,
       "version_minor": 0
      },
      "text/plain": [
       "HBox(children=(IntProgress(value=0, description='Simulating Choices', max=5871, style=ProgressStyle(descriptio…"
      ]
     },
     "metadata": {},
     "output_type": "display_data"
    },
    {
     "name": "stdout",
     "output_type": "stream",
     "text": [
      "\n",
      "Estimating the choice model...\n",
      "Log-likelihood at zero: -11,127.0078\n",
      "Initial Log-likelihood: -11,127.0078\n"
     ]
    },
    {
     "name": "stderr",
     "output_type": "stream",
     "text": [
      "/Users/mobouzaghrane/opt/anaconda3/lib/python3.7/site-packages/scipy/optimize/_minimize.py:505: RuntimeWarning: Method BFGS does not use Hessian information (hess).\n",
      "  RuntimeWarning)\n"
     ]
    },
    {
     "name": "stdout",
     "output_type": "stream",
     "text": [
      "Estimation Time for Point Estimation: 0.37 seconds.\n",
      "Final log-likelihood: -4,090.3275\n",
      "Estimating Causal Effects...\n"
     ]
    },
    {
     "name": "stderr",
     "output_type": "stream",
     "text": [
      "/Users/mobouzaghrane/opt/anaconda3/lib/python3.7/site-packages/pylogit/choice_tools.py:703: FutureWarning: arrays to stack must be passed as a \"sequence\" type such as list or tuple. Support for non-sequence iterables such as generators is deprecated as of NumPy 1.16 and will raise an error in the future.\n",
      "  design_matrix = np.hstack((x[:, None] for x in independent_vars))\n"
     ]
    },
    {
     "name": "stdout",
     "output_type": "stream",
     "text": [
      "Simulation number 185 is complete!\n",
      "==========================================\n",
      "==========================================\n",
      "Simulation number 186 is in progress...\n",
      "Simulation size is 4550\n",
      "------------------------------------------\n",
      "Simulating data...\n",
      "Simulating Availability...\n",
      "Converting data from wide to long...\n",
      "Simulating Choices...\n"
     ]
    },
    {
     "data": {
      "application/vnd.jupyter.widget-view+json": {
       "model_id": "7e759c6053414514acd496536c2c9a35",
       "version_major": 2,
       "version_minor": 0
      },
      "text/plain": [
       "HBox(children=(IntProgress(value=0, description='Simulating Choices', max=4550, style=ProgressStyle(descriptio…"
      ]
     },
     "metadata": {},
     "output_type": "display_data"
    },
    {
     "name": "stdout",
     "output_type": "stream",
     "text": [
      "\n",
      "Estimating the choice model...\n",
      "Log-likelihood at zero: -8,626.1329\n",
      "Initial Log-likelihood: -8,626.1329\n"
     ]
    },
    {
     "name": "stderr",
     "output_type": "stream",
     "text": [
      "/Users/mobouzaghrane/opt/anaconda3/lib/python3.7/site-packages/scipy/optimize/_minimize.py:505: RuntimeWarning: Method BFGS does not use Hessian information (hess).\n",
      "  RuntimeWarning)\n"
     ]
    },
    {
     "name": "stdout",
     "output_type": "stream",
     "text": [
      "Estimation Time for Point Estimation: 0.39 seconds.\n",
      "Final log-likelihood: -3,112.8329\n",
      "Estimating Causal Effects...\n",
      "Simulation number 186 is complete!\n",
      "==========================================\n",
      "==========================================\n",
      "Simulation number 187 is in progress...\n",
      "Simulation size is 5879\n",
      "------------------------------------------\n",
      "Simulating data...\n"
     ]
    },
    {
     "name": "stderr",
     "output_type": "stream",
     "text": [
      "/Users/mobouzaghrane/opt/anaconda3/lib/python3.7/site-packages/pylogit/choice_tools.py:703: FutureWarning: arrays to stack must be passed as a \"sequence\" type such as list or tuple. Support for non-sequence iterables such as generators is deprecated as of NumPy 1.16 and will raise an error in the future.\n",
      "  design_matrix = np.hstack((x[:, None] for x in independent_vars))\n"
     ]
    },
    {
     "name": "stdout",
     "output_type": "stream",
     "text": [
      "Simulating Availability...\n",
      "Converting data from wide to long...\n",
      "Simulating Choices...\n"
     ]
    },
    {
     "data": {
      "application/vnd.jupyter.widget-view+json": {
       "model_id": "3687b3ec2ada44d487a40b5881f90e21",
       "version_major": 2,
       "version_minor": 0
      },
      "text/plain": [
       "HBox(children=(IntProgress(value=0, description='Simulating Choices', max=5879, style=ProgressStyle(descriptio…"
      ]
     },
     "metadata": {},
     "output_type": "display_data"
    },
    {
     "name": "stdout",
     "output_type": "stream",
     "text": [
      "\n",
      "Estimating the choice model...\n",
      "Log-likelihood at zero: -11,158.4166\n",
      "Initial Log-likelihood: -11,158.4166\n"
     ]
    },
    {
     "name": "stderr",
     "output_type": "stream",
     "text": [
      "/Users/mobouzaghrane/opt/anaconda3/lib/python3.7/site-packages/scipy/optimize/_minimize.py:505: RuntimeWarning: Method BFGS does not use Hessian information (hess).\n",
      "  RuntimeWarning)\n"
     ]
    },
    {
     "name": "stdout",
     "output_type": "stream",
     "text": [
      "Estimation Time for Point Estimation: 0.31 seconds.\n",
      "Final log-likelihood: -4,016.1712\n",
      "Estimating Causal Effects...\n"
     ]
    },
    {
     "name": "stderr",
     "output_type": "stream",
     "text": [
      "/Users/mobouzaghrane/opt/anaconda3/lib/python3.7/site-packages/pylogit/choice_tools.py:703: FutureWarning: arrays to stack must be passed as a \"sequence\" type such as list or tuple. Support for non-sequence iterables such as generators is deprecated as of NumPy 1.16 and will raise an error in the future.\n",
      "  design_matrix = np.hstack((x[:, None] for x in independent_vars))\n"
     ]
    },
    {
     "name": "stdout",
     "output_type": "stream",
     "text": [
      "Simulation number 187 is complete!\n",
      "==========================================\n",
      "==========================================\n",
      "Simulation number 188 is in progress...\n",
      "Simulation size is 5235\n",
      "------------------------------------------\n",
      "Simulating data...\n",
      "Simulating Availability...\n",
      "Converting data from wide to long...\n",
      "Simulating Choices...\n"
     ]
    },
    {
     "data": {
      "application/vnd.jupyter.widget-view+json": {
       "model_id": "983adeb2ef7843ba8931e42343fa8b50",
       "version_major": 2,
       "version_minor": 0
      },
      "text/plain": [
       "HBox(children=(IntProgress(value=0, description='Simulating Choices', max=5235, style=ProgressStyle(descriptio…"
      ]
     },
     "metadata": {},
     "output_type": "display_data"
    },
    {
     "name": "stdout",
     "output_type": "stream",
     "text": [
      "\n",
      "Estimating the choice model...\n",
      "Log-likelihood at zero: -9,959.2932\n",
      "Initial Log-likelihood: -9,959.2932\n"
     ]
    },
    {
     "name": "stderr",
     "output_type": "stream",
     "text": [
      "/Users/mobouzaghrane/opt/anaconda3/lib/python3.7/site-packages/scipy/optimize/_minimize.py:505: RuntimeWarning: Method BFGS does not use Hessian information (hess).\n",
      "  RuntimeWarning)\n"
     ]
    },
    {
     "name": "stdout",
     "output_type": "stream",
     "text": [
      "Estimation Time for Point Estimation: 0.51 seconds.\n",
      "Final log-likelihood: -3,725.7769\n",
      "Estimating Causal Effects...\n",
      "Simulation number 188 is complete!\n",
      "=========================================="
     ]
    },
    {
     "name": "stderr",
     "output_type": "stream",
     "text": [
      "/Users/mobouzaghrane/opt/anaconda3/lib/python3.7/site-packages/pylogit/choice_tools.py:703: FutureWarning: arrays to stack must be passed as a \"sequence\" type such as list or tuple. Support for non-sequence iterables such as generators is deprecated as of NumPy 1.16 and will raise an error in the future.\n",
      "  design_matrix = np.hstack((x[:, None] for x in independent_vars))\n"
     ]
    },
    {
     "name": "stdout",
     "output_type": "stream",
     "text": [
      "\n",
      "==========================================\n",
      "Simulation number 189 is in progress...\n",
      "Simulation size is 4980\n",
      "------------------------------------------\n",
      "Simulating data...\n",
      "Simulating Availability...\n",
      "Converting data from wide to long...\n",
      "Simulating Choices...\n"
     ]
    },
    {
     "data": {
      "application/vnd.jupyter.widget-view+json": {
       "model_id": "b111fa9a86cf4c7483271e213e4621f9",
       "version_major": 2,
       "version_minor": 0
      },
      "text/plain": [
       "HBox(children=(IntProgress(value=0, description='Simulating Choices', max=4980, style=ProgressStyle(descriptio…"
      ]
     },
     "metadata": {},
     "output_type": "display_data"
    },
    {
     "name": "stdout",
     "output_type": "stream",
     "text": [
      "\n",
      "Estimating the choice model...\n",
      "Log-likelihood at zero: -9,465.3555\n",
      "Initial Log-likelihood: -9,465.3555\n"
     ]
    },
    {
     "name": "stderr",
     "output_type": "stream",
     "text": [
      "/Users/mobouzaghrane/opt/anaconda3/lib/python3.7/site-packages/scipy/optimize/_minimize.py:505: RuntimeWarning: Method BFGS does not use Hessian information (hess).\n",
      "  RuntimeWarning)\n"
     ]
    },
    {
     "name": "stdout",
     "output_type": "stream",
     "text": [
      "Estimation Time for Point Estimation: 0.27 seconds.\n",
      "Final log-likelihood: -3,327.5178\n",
      "Estimating Causal Effects...\n",
      "Simulation number 189 is complete!\n",
      "==========================================\n",
      "==========================================\n",
      "Simulation number 190 is in progress...\n",
      "Simulation size is 5793\n",
      "------------------------------------------\n",
      "Simulating data...\n"
     ]
    },
    {
     "name": "stderr",
     "output_type": "stream",
     "text": [
      "/Users/mobouzaghrane/opt/anaconda3/lib/python3.7/site-packages/pylogit/choice_tools.py:703: FutureWarning: arrays to stack must be passed as a \"sequence\" type such as list or tuple. Support for non-sequence iterables such as generators is deprecated as of NumPy 1.16 and will raise an error in the future.\n",
      "  design_matrix = np.hstack((x[:, None] for x in independent_vars))\n"
     ]
    },
    {
     "name": "stdout",
     "output_type": "stream",
     "text": [
      "Simulating Availability...\n",
      "Converting data from wide to long...\n",
      "Simulating Choices...\n"
     ]
    },
    {
     "data": {
      "application/vnd.jupyter.widget-view+json": {
       "model_id": "c2c08fc3128c46bc9b26fc51e6b5a70d",
       "version_major": 2,
       "version_minor": 0
      },
      "text/plain": [
       "HBox(children=(IntProgress(value=0, description='Simulating Choices', max=5793, style=ProgressStyle(descriptio…"
      ]
     },
     "metadata": {},
     "output_type": "display_data"
    },
    {
     "name": "stdout",
     "output_type": "stream",
     "text": [
      "\n",
      "Estimating the choice model...\n",
      "Log-likelihood at zero: -10,989.8570\n",
      "Initial Log-likelihood: -10,989.8570\n"
     ]
    },
    {
     "name": "stderr",
     "output_type": "stream",
     "text": [
      "/Users/mobouzaghrane/opt/anaconda3/lib/python3.7/site-packages/scipy/optimize/_minimize.py:505: RuntimeWarning: Method BFGS does not use Hessian information (hess).\n",
      "  RuntimeWarning)\n"
     ]
    },
    {
     "name": "stdout",
     "output_type": "stream",
     "text": [
      "Estimation Time for Point Estimation: 0.58 seconds.\n",
      "Final log-likelihood: -4,178.5521\n",
      "Estimating Causal Effects...\n"
     ]
    },
    {
     "name": "stderr",
     "output_type": "stream",
     "text": [
      "/Users/mobouzaghrane/opt/anaconda3/lib/python3.7/site-packages/pylogit/choice_tools.py:703: FutureWarning: arrays to stack must be passed as a \"sequence\" type such as list or tuple. Support for non-sequence iterables such as generators is deprecated as of NumPy 1.16 and will raise an error in the future.\n",
      "  design_matrix = np.hstack((x[:, None] for x in independent_vars))\n"
     ]
    },
    {
     "name": "stdout",
     "output_type": "stream",
     "text": [
      "Simulation number 190 is complete!\n",
      "==========================================\n",
      "==========================================\n",
      "Simulation number 191 is in progress...\n",
      "Simulation size is 7999\n",
      "------------------------------------------\n",
      "Simulating data...\n",
      "Simulating Availability...\n",
      "Converting data from wide to long...\n",
      "Simulating Choices...\n"
     ]
    },
    {
     "data": {
      "application/vnd.jupyter.widget-view+json": {
       "model_id": "c9ea0315a66c4f1690d03f9458549b9c",
       "version_major": 2,
       "version_minor": 0
      },
      "text/plain": [
       "HBox(children=(IntProgress(value=0, description='Simulating Choices', max=7999, style=ProgressStyle(descriptio…"
      ]
     },
     "metadata": {},
     "output_type": "display_data"
    },
    {
     "name": "stdout",
     "output_type": "stream",
     "text": [
      "\n",
      "Estimating the choice model...\n",
      "Log-likelihood at zero: -15,151.2292\n",
      "Initial Log-likelihood: -15,151.2292\n"
     ]
    },
    {
     "name": "stderr",
     "output_type": "stream",
     "text": [
      "/Users/mobouzaghrane/opt/anaconda3/lib/python3.7/site-packages/scipy/optimize/_minimize.py:505: RuntimeWarning: Method BFGS does not use Hessian information (hess).\n",
      "  RuntimeWarning)\n"
     ]
    },
    {
     "name": "stdout",
     "output_type": "stream",
     "text": [
      "Estimation Time for Point Estimation: 0.44 seconds.\n",
      "Final log-likelihood: -5,682.3705\n",
      "Estimating Causal Effects...\n"
     ]
    },
    {
     "name": "stderr",
     "output_type": "stream",
     "text": [
      "/Users/mobouzaghrane/opt/anaconda3/lib/python3.7/site-packages/pylogit/choice_tools.py:703: FutureWarning: arrays to stack must be passed as a \"sequence\" type such as list or tuple. Support for non-sequence iterables such as generators is deprecated as of NumPy 1.16 and will raise an error in the future.\n",
      "  design_matrix = np.hstack((x[:, None] for x in independent_vars))\n"
     ]
    },
    {
     "name": "stdout",
     "output_type": "stream",
     "text": [
      "Simulation number 191 is complete!\n",
      "==========================================\n",
      "==========================================\n",
      "Simulation number 192 is in progress...\n",
      "Simulation size is 8731\n",
      "------------------------------------------\n",
      "Simulating data...\n",
      "Simulating Availability...\n",
      "Converting data from wide to long...\n",
      "Simulating Choices...\n"
     ]
    },
    {
     "data": {
      "application/vnd.jupyter.widget-view+json": {
       "model_id": "7eae2071fd76417890fc31ded5b7d7dd",
       "version_major": 2,
       "version_minor": 0
      },
      "text/plain": [
       "HBox(children=(IntProgress(value=0, description='Simulating Choices', max=8731, style=ProgressStyle(descriptio…"
      ]
     },
     "metadata": {},
     "output_type": "display_data"
    },
    {
     "name": "stdout",
     "output_type": "stream",
     "text": [
      "\n",
      "Estimating the choice model...\n",
      "Log-likelihood at zero: -16,556.3346\n",
      "Initial Log-likelihood: -16,556.3346\n"
     ]
    },
    {
     "name": "stderr",
     "output_type": "stream",
     "text": [
      "/Users/mobouzaghrane/opt/anaconda3/lib/python3.7/site-packages/scipy/optimize/_minimize.py:505: RuntimeWarning: Method BFGS does not use Hessian information (hess).\n",
      "  RuntimeWarning)\n"
     ]
    },
    {
     "name": "stdout",
     "output_type": "stream",
     "text": [
      "Estimation Time for Point Estimation: 0.49 seconds.\n",
      "Final log-likelihood: -6,089.6222\n",
      "Estimating Causal Effects...\n"
     ]
    },
    {
     "name": "stderr",
     "output_type": "stream",
     "text": [
      "/Users/mobouzaghrane/opt/anaconda3/lib/python3.7/site-packages/pylogit/choice_tools.py:703: FutureWarning: arrays to stack must be passed as a \"sequence\" type such as list or tuple. Support for non-sequence iterables such as generators is deprecated as of NumPy 1.16 and will raise an error in the future.\n",
      "  design_matrix = np.hstack((x[:, None] for x in independent_vars))\n"
     ]
    },
    {
     "name": "stdout",
     "output_type": "stream",
     "text": [
      "Simulation number 192 is complete!\n",
      "==========================================\n",
      "==========================================\n",
      "Simulation number 193 is in progress...\n",
      "Simulation size is 4988\n",
      "------------------------------------------\n",
      "Simulating data...\n",
      "Simulating Availability...\n",
      "Converting data from wide to long...\n",
      "Simulating Choices...\n"
     ]
    },
    {
     "data": {
      "application/vnd.jupyter.widget-view+json": {
       "model_id": "cab80df68c7145fca5ac9ca7c51bfb3e",
       "version_major": 2,
       "version_minor": 0
      },
      "text/plain": [
       "HBox(children=(IntProgress(value=0, description='Simulating Choices', max=4988, style=ProgressStyle(descriptio…"
      ]
     },
     "metadata": {},
     "output_type": "display_data"
    },
    {
     "name": "stdout",
     "output_type": "stream",
     "text": [
      "\n",
      "Estimating the choice model...\n",
      "Log-likelihood at zero: -9,461.5212\n",
      "Initial Log-likelihood: -9,461.5212\n"
     ]
    },
    {
     "name": "stderr",
     "output_type": "stream",
     "text": [
      "/Users/mobouzaghrane/opt/anaconda3/lib/python3.7/site-packages/scipy/optimize/_minimize.py:505: RuntimeWarning: Method BFGS does not use Hessian information (hess).\n",
      "  RuntimeWarning)\n"
     ]
    },
    {
     "name": "stdout",
     "output_type": "stream",
     "text": [
      "Estimation Time for Point Estimation: 0.41 seconds.\n",
      "Final log-likelihood: -3,468.7410\n",
      "Estimating Causal Effects...\n",
      "Simulation number 193 is complete!\n",
      "==========================================\n",
      "==========================================\n",
      "Simulation number 194 is in progress...\n",
      "Simulation size is 5820\n",
      "------------------------------------------\n",
      "Simulating data...\n"
     ]
    },
    {
     "name": "stderr",
     "output_type": "stream",
     "text": [
      "/Users/mobouzaghrane/opt/anaconda3/lib/python3.7/site-packages/pylogit/choice_tools.py:703: FutureWarning: arrays to stack must be passed as a \"sequence\" type such as list or tuple. Support for non-sequence iterables such as generators is deprecated as of NumPy 1.16 and will raise an error in the future.\n",
      "  design_matrix = np.hstack((x[:, None] for x in independent_vars))\n"
     ]
    },
    {
     "name": "stdout",
     "output_type": "stream",
     "text": [
      "Simulating Availability...\n",
      "Converting data from wide to long...\n",
      "Simulating Choices...\n"
     ]
    },
    {
     "data": {
      "application/vnd.jupyter.widget-view+json": {
       "model_id": "7d443a7324974a598a116feb85215d4b",
       "version_major": 2,
       "version_minor": 0
      },
      "text/plain": [
       "HBox(children=(IntProgress(value=0, description='Simulating Choices', max=5820, style=ProgressStyle(descriptio…"
      ]
     },
     "metadata": {},
     "output_type": "display_data"
    },
    {
     "name": "stdout",
     "output_type": "stream",
     "text": [
      "\n",
      "Estimating the choice model...\n",
      "Log-likelihood at zero: -11,060.8020\n",
      "Initial Log-likelihood: -11,060.8020\n"
     ]
    },
    {
     "name": "stderr",
     "output_type": "stream",
     "text": [
      "/Users/mobouzaghrane/opt/anaconda3/lib/python3.7/site-packages/scipy/optimize/_minimize.py:505: RuntimeWarning: Method BFGS does not use Hessian information (hess).\n",
      "  RuntimeWarning)\n"
     ]
    },
    {
     "name": "stdout",
     "output_type": "stream",
     "text": [
      "Estimation Time for Point Estimation: 0.32 seconds.\n",
      "Final log-likelihood: -4,138.0623\n",
      "Estimating Causal Effects...\n"
     ]
    },
    {
     "name": "stderr",
     "output_type": "stream",
     "text": [
      "/Users/mobouzaghrane/opt/anaconda3/lib/python3.7/site-packages/pylogit/choice_tools.py:703: FutureWarning: arrays to stack must be passed as a \"sequence\" type such as list or tuple. Support for non-sequence iterables such as generators is deprecated as of NumPy 1.16 and will raise an error in the future.\n",
      "  design_matrix = np.hstack((x[:, None] for x in independent_vars))\n"
     ]
    },
    {
     "name": "stdout",
     "output_type": "stream",
     "text": [
      "Simulation number 194 is complete!\n",
      "==========================================\n",
      "==========================================\n",
      "Simulation number 195 is in progress...\n",
      "Simulation size is 7244\n",
      "------------------------------------------\n",
      "Simulating data...\n",
      "Simulating Availability...\n",
      "Converting data from wide to long...\n",
      "Simulating Choices...\n"
     ]
    },
    {
     "data": {
      "application/vnd.jupyter.widget-view+json": {
       "model_id": "f9a63f471c014a56b3ff2c33e8f0c53c",
       "version_major": 2,
       "version_minor": 0
      },
      "text/plain": [
       "HBox(children=(IntProgress(value=0, description='Simulating Choices', max=7244, style=ProgressStyle(descriptio…"
      ]
     },
     "metadata": {},
     "output_type": "display_data"
    },
    {
     "name": "stdout",
     "output_type": "stream",
     "text": [
      "\n",
      "Estimating the choice model...\n",
      "Log-likelihood at zero: -13,752.3047\n",
      "Initial Log-likelihood: -13,752.3047\n"
     ]
    },
    {
     "name": "stderr",
     "output_type": "stream",
     "text": [
      "/Users/mobouzaghrane/opt/anaconda3/lib/python3.7/site-packages/scipy/optimize/_minimize.py:505: RuntimeWarning: Method BFGS does not use Hessian information (hess).\n",
      "  RuntimeWarning)\n"
     ]
    },
    {
     "name": "stdout",
     "output_type": "stream",
     "text": [
      "Estimation Time for Point Estimation: 0.42 seconds.\n",
      "Final log-likelihood: -5,232.2781\n",
      "Estimating Causal Effects...\n"
     ]
    },
    {
     "name": "stderr",
     "output_type": "stream",
     "text": [
      "/Users/mobouzaghrane/opt/anaconda3/lib/python3.7/site-packages/pylogit/choice_tools.py:703: FutureWarning: arrays to stack must be passed as a \"sequence\" type such as list or tuple. Support for non-sequence iterables such as generators is deprecated as of NumPy 1.16 and will raise an error in the future.\n",
      "  design_matrix = np.hstack((x[:, None] for x in independent_vars))\n"
     ]
    },
    {
     "name": "stdout",
     "output_type": "stream",
     "text": [
      "Simulation number 195 is complete!\n",
      "==========================================\n",
      "==========================================\n",
      "Simulation number 196 is in progress...\n",
      "Simulation size is 6667\n",
      "------------------------------------------\n",
      "Simulating data...\n",
      "Simulating Availability...\n",
      "Converting data from wide to long...\n",
      "Simulating Choices...\n"
     ]
    },
    {
     "data": {
      "application/vnd.jupyter.widget-view+json": {
       "model_id": "0df709acbe7c4d22a0b225169d7a834f",
       "version_major": 2,
       "version_minor": 0
      },
      "text/plain": [
       "HBox(children=(IntProgress(value=0, description='Simulating Choices', max=6667, style=ProgressStyle(descriptio…"
      ]
     },
     "metadata": {},
     "output_type": "display_data"
    },
    {
     "name": "stdout",
     "output_type": "stream",
     "text": [
      "\n",
      "Estimating the choice model...\n",
      "Log-likelihood at zero: -12,636.2714\n",
      "Initial Log-likelihood: -12,636.2714\n"
     ]
    },
    {
     "name": "stderr",
     "output_type": "stream",
     "text": [
      "/Users/mobouzaghrane/opt/anaconda3/lib/python3.7/site-packages/scipy/optimize/_minimize.py:505: RuntimeWarning: Method BFGS does not use Hessian information (hess).\n",
      "  RuntimeWarning)\n"
     ]
    },
    {
     "name": "stdout",
     "output_type": "stream",
     "text": [
      "Estimation Time for Point Estimation: 0.41 seconds.\n",
      "Final log-likelihood: -4,600.8639\n",
      "Estimating Causal Effects...\n"
     ]
    },
    {
     "name": "stderr",
     "output_type": "stream",
     "text": [
      "/Users/mobouzaghrane/opt/anaconda3/lib/python3.7/site-packages/pylogit/choice_tools.py:703: FutureWarning: arrays to stack must be passed as a \"sequence\" type such as list or tuple. Support for non-sequence iterables such as generators is deprecated as of NumPy 1.16 and will raise an error in the future.\n",
      "  design_matrix = np.hstack((x[:, None] for x in independent_vars))\n"
     ]
    },
    {
     "name": "stdout",
     "output_type": "stream",
     "text": [
      "Simulation number 196 is complete!\n",
      "==========================================\n",
      "==========================================\n",
      "Simulation number 197 is in progress...\n",
      "Simulation size is 4541\n",
      "------------------------------------------\n",
      "Simulating data...\n",
      "Simulating Availability...\n",
      "Converting data from wide to long...\n",
      "Simulating Choices...\n"
     ]
    },
    {
     "data": {
      "application/vnd.jupyter.widget-view+json": {
       "model_id": "f94e2477e3a54082876608cf23355091",
       "version_major": 2,
       "version_minor": 0
      },
      "text/plain": [
       "HBox(children=(IntProgress(value=0, description='Simulating Choices', max=4541, style=ProgressStyle(descriptio…"
      ]
     },
     "metadata": {},
     "output_type": "display_data"
    },
    {
     "name": "stdout",
     "output_type": "stream",
     "text": [
      "\n",
      "Estimating the choice model...\n",
      "Log-likelihood at zero: -8,602.1854\n",
      "Initial Log-likelihood: -8,602.1854\n"
     ]
    },
    {
     "name": "stderr",
     "output_type": "stream",
     "text": [
      "/Users/mobouzaghrane/opt/anaconda3/lib/python3.7/site-packages/scipy/optimize/_minimize.py:505: RuntimeWarning: Method BFGS does not use Hessian information (hess).\n",
      "  RuntimeWarning)\n"
     ]
    },
    {
     "name": "stdout",
     "output_type": "stream",
     "text": [
      "Estimation Time for Point Estimation: 0.42 seconds.\n",
      "Final log-likelihood: -3,179.5482\n",
      "Estimating Causal Effects...\n",
      "Simulation number 197 is complete!\n",
      "==========================================\n",
      "==========================================\n",
      "Simulation number 198 is in progress...\n",
      "Simulation size is 4143\n",
      "------------------------------------------\n",
      "Simulating data...\n"
     ]
    },
    {
     "name": "stderr",
     "output_type": "stream",
     "text": [
      "/Users/mobouzaghrane/opt/anaconda3/lib/python3.7/site-packages/pylogit/choice_tools.py:703: FutureWarning: arrays to stack must be passed as a \"sequence\" type such as list or tuple. Support for non-sequence iterables such as generators is deprecated as of NumPy 1.16 and will raise an error in the future.\n",
      "  design_matrix = np.hstack((x[:, None] for x in independent_vars))\n"
     ]
    },
    {
     "name": "stdout",
     "output_type": "stream",
     "text": [
      "Simulating Availability...\n",
      "Converting data from wide to long...\n",
      "Simulating Choices...\n"
     ]
    },
    {
     "data": {
      "application/vnd.jupyter.widget-view+json": {
       "model_id": "a04fc298503f4cb19bf8ebe56719eef7",
       "version_major": 2,
       "version_minor": 0
      },
      "text/plain": [
       "HBox(children=(IntProgress(value=0, description='Simulating Choices', max=4143, style=ProgressStyle(descriptio…"
      ]
     },
     "metadata": {},
     "output_type": "display_data"
    },
    {
     "name": "stdout",
     "output_type": "stream",
     "text": [
      "\n",
      "Estimating the choice model...\n",
      "Log-likelihood at zero: -7,886.1922\n",
      "Initial Log-likelihood: -7,886.1922\n"
     ]
    },
    {
     "name": "stderr",
     "output_type": "stream",
     "text": [
      "/Users/mobouzaghrane/opt/anaconda3/lib/python3.7/site-packages/scipy/optimize/_minimize.py:505: RuntimeWarning: Method BFGS does not use Hessian information (hess).\n",
      "  RuntimeWarning)\n"
     ]
    },
    {
     "name": "stdout",
     "output_type": "stream",
     "text": [
      "Estimation Time for Point Estimation: 0.22 seconds.\n",
      "Final log-likelihood: -2,872.2178\n",
      "Estimating Causal Effects...\n",
      "Simulation number 198 is complete!\n",
      "==========================================\n",
      "==========================================\n",
      "Simulation number 199 is in progress...\n",
      "Simulation size is 7506\n",
      "------------------------------------------\n",
      "Simulating data...\n"
     ]
    },
    {
     "name": "stderr",
     "output_type": "stream",
     "text": [
      "/Users/mobouzaghrane/opt/anaconda3/lib/python3.7/site-packages/pylogit/choice_tools.py:703: FutureWarning: arrays to stack must be passed as a \"sequence\" type such as list or tuple. Support for non-sequence iterables such as generators is deprecated as of NumPy 1.16 and will raise an error in the future.\n",
      "  design_matrix = np.hstack((x[:, None] for x in independent_vars))\n"
     ]
    },
    {
     "name": "stdout",
     "output_type": "stream",
     "text": [
      "Simulating Availability...\n",
      "Converting data from wide to long...\n",
      "Simulating Choices...\n"
     ]
    },
    {
     "data": {
      "application/vnd.jupyter.widget-view+json": {
       "model_id": "06746aa77a7e4ccd97ebf952fa98204e",
       "version_major": 2,
       "version_minor": 0
      },
      "text/plain": [
       "HBox(children=(IntProgress(value=0, description='Simulating Choices', max=7506, style=ProgressStyle(descriptio…"
      ]
     },
     "metadata": {},
     "output_type": "display_data"
    },
    {
     "name": "stdout",
     "output_type": "stream",
     "text": [
      "\n",
      "Estimating the choice model...\n",
      "Log-likelihood at zero: -14,266.5254\n",
      "Initial Log-likelihood: -14,266.5254\n"
     ]
    },
    {
     "name": "stderr",
     "output_type": "stream",
     "text": [
      "/Users/mobouzaghrane/opt/anaconda3/lib/python3.7/site-packages/scipy/optimize/_minimize.py:505: RuntimeWarning: Method BFGS does not use Hessian information (hess).\n",
      "  RuntimeWarning)\n"
     ]
    },
    {
     "name": "stdout",
     "output_type": "stream",
     "text": [
      "Estimation Time for Point Estimation: 0.64 seconds.\n",
      "Final log-likelihood: -5,250.1271\n",
      "Estimating Causal Effects...\n"
     ]
    },
    {
     "name": "stderr",
     "output_type": "stream",
     "text": [
      "/Users/mobouzaghrane/opt/anaconda3/lib/python3.7/site-packages/pylogit/choice_tools.py:703: FutureWarning: arrays to stack must be passed as a \"sequence\" type such as list or tuple. Support for non-sequence iterables such as generators is deprecated as of NumPy 1.16 and will raise an error in the future.\n",
      "  design_matrix = np.hstack((x[:, None] for x in independent_vars))\n"
     ]
    },
    {
     "name": "stdout",
     "output_type": "stream",
     "text": [
      "Simulation number 199 is complete!\n",
      "==========================================\n",
      "==========================================\n",
      "Simulation number 200 is in progress...\n",
      "Simulation size is 6567\n",
      "------------------------------------------\n",
      "Simulating data...\n",
      "Simulating Availability...\n",
      "Converting data from wide to long...\n",
      "Simulating Choices...\n"
     ]
    },
    {
     "data": {
      "application/vnd.jupyter.widget-view+json": {
       "model_id": "5159849a296c43449ce302b089f992b1",
       "version_major": 2,
       "version_minor": 0
      },
      "text/plain": [
       "HBox(children=(IntProgress(value=0, description='Simulating Choices', max=6567, style=ProgressStyle(descriptio…"
      ]
     },
     "metadata": {},
     "output_type": "display_data"
    },
    {
     "name": "stdout",
     "output_type": "stream",
     "text": [
      "\n",
      "Estimating the choice model...\n",
      "Log-likelihood at zero: -12,474.8479\n",
      "Initial Log-likelihood: -12,474.8479\n"
     ]
    },
    {
     "name": "stderr",
     "output_type": "stream",
     "text": [
      "/Users/mobouzaghrane/opt/anaconda3/lib/python3.7/site-packages/scipy/optimize/_minimize.py:505: RuntimeWarning: Method BFGS does not use Hessian information (hess).\n",
      "  RuntimeWarning)\n"
     ]
    },
    {
     "name": "stdout",
     "output_type": "stream",
     "text": [
      "Estimation Time for Point Estimation: 0.40 seconds.\n",
      "Final log-likelihood: -4,607.4922\n",
      "Estimating Causal Effects...\n"
     ]
    },
    {
     "name": "stderr",
     "output_type": "stream",
     "text": [
      "/Users/mobouzaghrane/opt/anaconda3/lib/python3.7/site-packages/pylogit/choice_tools.py:703: FutureWarning: arrays to stack must be passed as a \"sequence\" type such as list or tuple. Support for non-sequence iterables such as generators is deprecated as of NumPy 1.16 and will raise an error in the future.\n",
      "  design_matrix = np.hstack((x[:, None] for x in independent_vars))\n"
     ]
    },
    {
     "name": "stdout",
     "output_type": "stream",
     "text": [
      "Simulation number 200 is complete!\n",
      "==========================================\n",
      "==========================================\n"
     ]
    }
   ],
   "source": [
    "simulation_sizes = np.random.randint(low=3000, high=9000, size=200)\n",
    "sim_number = np.arange(1,201)\n",
    "models_dictionary = defaultdict(dict)\n",
    "causal_effect_dictionary = {}\n",
    "perturb = 0.8\n",
    "causal_effects = pd.DataFrame(columns=['naive_effect','true_effect','estimated_effect'])\n",
    "\n",
    "for sim_size, number in zip(simulation_sizes, sim_number):\n",
    "    print('Simulation number', number , 'is in progress...')\n",
    "    print ('Simulation size is', sim_size)\n",
    "    print('------------------------------------------')\n",
    "    print('Simulating data...')\n",
    "    # Simulate data without parents\n",
    "    sim_bike_data_no_parent = SimNodeNoParent(bike_data_params, size=sim_size)\n",
    "    \n",
    "    sim_bike_data_wide = copy.deepcopy(sim_bike_data_no_parent)\n",
    "\n",
    "    ############ Simulate nodes based on causal graphs ############\n",
    "    ############ Drive Alone ############\n",
    "    sim_bike_data_wide['total_travel_time_drive_alone'] = Drive_Alone_Reg['total_travel_time_on_total_travel_distance'].params[0] +\\\n",
    "                                                  Drive_Alone_Reg['total_travel_time_on_total_travel_distance'].params[1] *\\\n",
    "                                                  sim_bike_data_wide['total_travel_distance_drive_alone'] +\\\n",
    "                                                  np.random.normal(loc=0,\n",
    "                                                                   scale=Drive_Alone_Reg['total_travel_time_on_total_travel_distance'].resid.std(),\n",
    "                                                                   size=sim_size)\n",
    "    sim_bike_data_wide['total_travel_cost_drive_alone'] = Drive_Alone_Reg['total_travel_cost_on_total_travel_distance'].params[0] +\\\n",
    "                                                  Drive_Alone_Reg['total_travel_cost_on_total_travel_distance'].params[1] *\\\n",
    "                                                  sim_bike_data_wide['total_travel_distance_drive_alone'] +\\\n",
    "                                                  np.random.normal(loc=0,\n",
    "                                                                   scale=Drive_Alone_Reg['total_travel_cost_on_total_travel_distance'].resid.std(),\n",
    "                                                                   size=sim_size)\n",
    "    \n",
    "    # Shared Ride 2\n",
    "    sim_bike_data_wide['total_travel_time_shared_2'] = Shared_2_Reg['total_travel_time_on_total_travel_distance'].params[0] +\\\n",
    "                                               Shared_2_Reg['total_travel_time_on_total_travel_distance'].params[1] *\\\n",
    "                                                  sim_bike_data_wide['total_travel_distance_shared_2'] +\\\n",
    "                                                  np.random.normal(loc=0,\n",
    "                                                                   scale=Shared_2_Reg['total_travel_time_on_total_travel_distance'].resid.std(),\n",
    "                                                                   size=sim_size)\n",
    "    sim_bike_data_wide['total_travel_cost_shared_2'] = Shared_2_Reg['total_travel_cost_on_total_travel_distance'].params[0] +\\\n",
    "                                                  Shared_2_Reg['total_travel_cost_on_total_travel_distance'].params[1] *\\\n",
    "                                                  sim_bike_data_wide['total_travel_distance_shared_2'] +\\\n",
    "                                                  np.random.normal(loc=0,\n",
    "                                                                   scale=Shared_2_Reg['total_travel_cost_on_total_travel_distance'].resid.std(),\n",
    "                                                                   size=sim_size)\n",
    "    ############ Shared Ride 3+ ############\n",
    "    sim_bike_data_wide['total_travel_time_shared_3p'] = Shared_3p_Reg['total_travel_time_on_total_travel_distance'].params[0] +\\\n",
    "                                                   Shared_3p_Reg['total_travel_time_on_total_travel_distance'].params[1] *\\\n",
    "                                                      sim_bike_data_wide['total_travel_distance_shared_3p'] +\\\n",
    "                                                      np.random.normal(loc=0,\n",
    "                                                                       scale=Shared_3p_Reg['total_travel_time_on_total_travel_distance'].resid.std(),\n",
    "                                                                       size=sim_size)\n",
    "    sim_bike_data_wide['total_travel_cost_shared_3p'] = Shared_3p_Reg['total_travel_cost_on_total_travel_distance'].params[0] +\\\n",
    "                                                      Shared_3p_Reg['total_travel_cost_on_total_travel_distance'].params[1] *\\\n",
    "                                                      sim_bike_data_wide['total_travel_distance_shared_3p'] +\\\n",
    "                                                      np.random.normal(loc=0,\n",
    "                                                                       scale=Shared_3p_Reg['total_travel_cost_on_total_travel_distance'].resid.std(),\n",
    "                                                                       size=sim_size)\n",
    "    ############ Walk-Transit-Walk ############\n",
    "    sim_bike_data_wide['total_travel_cost_wtw'] = WTW_Reg['total_travel_cost_on_total_travel_time'].params[0] +\\\n",
    "                                                  WTW_Reg['total_travel_cost_on_total_travel_time'].params[1] *\\\n",
    "                                                  sim_bike_data_wide['total_travel_time_wtw'] +\\\n",
    "                                                  np.random.normal(loc=0,\n",
    "                                                                   scale=WTW_Reg['total_travel_cost_on_total_travel_time'].resid.std(),\n",
    "                                                                   size=sim_size)\n",
    "    ############ Drive-Transit-Walk ############\n",
    "    sim_bike_data_wide['total_travel_cost_dtw'] = DTW_Reg['total_travel_cost_on_total_travel_time'].params[0] +\\\n",
    "                                                  DTW_Reg['total_travel_cost_on_total_travel_time'].params[1] *\\\n",
    "                                                  sim_bike_data_wide['total_travel_time_dtw'] +\\\n",
    "                                                  np.random.normal(loc=0,\n",
    "                                                                   scale =DTW_Reg['total_travel_cost_on_total_travel_time'].resid.std(),\n",
    "                                                                   size =sim_size)\n",
    "    ############ Walk-Transit-Drive ############\n",
    "    sim_bike_data_wide['total_travel_cost_wtd'] = WTD_Reg['total_travel_cost_on_total_travel_time'].params[0] +\\\n",
    "                                                  WTD_Reg['total_travel_cost_on_total_travel_time'].params[1] *\\\n",
    "                                                  sim_bike_data_wide['total_travel_time_wtd'] +\\\n",
    "                                                  np.random.normal(loc=0,\n",
    "                                                                   scale =WTD_Reg['total_travel_cost_on_total_travel_time'].resid.std(),\n",
    "                                                                   size =sim_size)\n",
    "    \n",
    "    ############ Simulate Availability ############\n",
    "    print('Simulating Availability...')\n",
    "    wide_sim_data_availability = SimulateAvailability(data_long=bike_data_long,\n",
    "                                         sim_data=sim_bike_data_wide,\n",
    "                                         obs_id_col=observation_id_col,\n",
    "                                         alt_name_dict=alternative_name_dict)\n",
    "\n",
    "    wide_sim_data_availability[obs_id_column] = np.arange(wide_sim_data_availability.shape[0],\n",
    "                                            dtype=int) + 1\n",
    "    \n",
    "    \n",
    "    ############ Converting Data from Wide to Long ############\n",
    "    print('Converting data from wide to long...')\n",
    "    long_sim_data = pl.convert_wide_to_long(wide_sim_data_availability,\n",
    "                                        ind_variables,\n",
    "                                        alt_varying_variables,\n",
    "                                        availability_variables,\n",
    "                                        obs_id_column,\n",
    "                                        choice_column,\n",
    "                                        new_alt_id_name=custom_alt_id)\n",
    "    \n",
    "    # Create a cars per licensed drivers column\n",
    "    long_sim_data[\"cars_per_licensed_drivers\"] = 0\n",
    "    long_sim_data.loc[long_sim_data.num_licensed_drivers > 0,\n",
    "                      \"cars_per_licensed_drivers\"] = long_sim_data.num_cars / long_sim_data.num_licensed_drivers.astype(float)\n",
    "\n",
    "    # Add a variable representing cost divided by distance\n",
    "    long_sim_data[\"cost_per_distance\"] = 0\n",
    "    long_sim_data.loc[long_sim_data.mode_id.isin([1, 2, 3]),\n",
    "                      \"cost_per_distance\"] = (long_sim_data.loc[long_sim_data.mode_id.isin([1, 2, 3]),\n",
    "                                                                \"total_travel_cost\"] /\n",
    "                                              long_sim_data.loc[long_sim_data.mode_id.isin([1, 2, 3]),\n",
    "                                                        \"total_travel_distance\"])\n",
    "    \n",
    "    ############ Simulating Choices ############\n",
    "    print('Simulating Choices...')\n",
    "    # Calculate probabilities for each alternative\n",
    "    # based on the estimated model\n",
    "    posterior_probs = mnl_model.predict(long_sim_data)\n",
    "    \n",
    "    \n",
    "    # Simulate choice data\n",
    "    long_sim_data['sim_choice'] = viz.simulate_choice_vector(posterior_probs,\n",
    "                               long_sim_data['observation_id'].values)\n",
    "    \n",
    "    \n",
    "    ############ Estimating Choice Models ############\n",
    "    print('Estimating the choice model...')\n",
    "    # Estimate the basic MNL model, using the hessian and newton-conjugate gradient\n",
    "    mnl_model_sim = pl.create_choice_model(data=long_sim_data,\n",
    "                                           alt_id_col=alternative_id_col,\n",
    "                                           obs_id_col=observation_id_col,\n",
    "                                           choice_col=choice_column,\n",
    "                                           specification=mnl_specification,\n",
    "                                           model_type=\"MNL\",\n",
    "                                           names=mnl_names)\n",
    "\n",
    "    num_vars = len(reduce(lambda x, y: x + y, mnl_names.values()))\n",
    "    # Note newton-cg used to ensure convergence to a point where gradient \n",
    "    # is essentially zero for all dimensions. \n",
    "    mnl_model_sim.fit_mle(np.zeros(num_vars),\n",
    "                          method=\"BFGS\")\n",
    "    \n",
    "    #   mnl_model_sim.coefs.name = 'simulation_' + str(number)\n",
    "    #   models_dictionary[number] = mnl_model_sim\n",
    "    \n",
    "    print('Estimating Causal Effects...')\n",
    "    \n",
    "    \n",
    "    ############ Estimating Causal Effects ############\n",
    "    ############ Create copies of long format data ############\n",
    "    long_sim_data_naive = copy.deepcopy(long_sim_data)\n",
    "    long_sim_data_causal = copy.deepcopy(long_sim_data)\n",
    "\n",
    "    ############ Initial Probabilities ############\n",
    "    initial_probabilities = mnl_model_sim.predict(long_sim_data)\n",
    "    long_sim_data['initial_probabilities'] = initial_probabilities\n",
    "\n",
    "    ############ Naive Probabilities ############\n",
    "    #############################################\n",
    "    long_sim_data_naive['total_travel_distance'] = perturb * long_sim_data_naive['total_travel_distance']\n",
    "    naive_probabilities = mnl_model_sim.predict(long_sim_data_naive)\n",
    "    long_sim_data_naive['naive_probabilities'] = naive_probabilities\n",
    "    \n",
    "    ############ Estimated Probabilities ############\n",
    "    #################################################\n",
    "    long_sim_data_causal['total_travel_distance'] = perturb * long_sim_data['total_travel_distance']\n",
    "    \n",
    "    ############ Perturb Variables based on Assumed Causal Graph ############\n",
    "    \n",
    "    ############ Drive Alone ############\n",
    "    long_sim_data_causal.loc[long_sim_data_causal['mode_id']==1,'total_travel_time'] = \\\n",
    "                                                  (Drive_Alone_Reg['total_travel_time_on_total_travel_distance'].params[0] + \\\n",
    "                                                   Drive_Alone_Reg['total_travel_time_on_total_travel_distance'].params[1] * \\\n",
    "                                                   long_sim_data_causal.loc[long_sim_data_causal['mode_id']==1,'total_travel_distance'] +\\\n",
    "                                                   np.random.normal(loc=0,\n",
    "                                                                   scale = Drive_Alone_Reg['total_travel_time_on_total_travel_distance'].resid.std(),\n",
    "                                                                   size = long_sim_data_causal.loc[long_sim_data_causal['mode_id']==1].shape[0]))\n",
    "\n",
    "    long_sim_data_causal.loc[long_sim_data_causal['mode_id']==1,'total_travel_cost'] = \\\n",
    "                                                 (Drive_Alone_Reg['total_travel_cost_on_total_travel_distance'].params[0] +\\\n",
    "                                                  Drive_Alone_Reg['total_travel_cost_on_total_travel_distance'].params[1] *\\\n",
    "                                                  long_sim_data_causal.loc[long_sim_data_causal['mode_id']==1,'total_travel_distance'] +\\\n",
    "                                                  np.random.normal(loc=0,\n",
    "                                                                   scale = Drive_Alone_Reg['total_travel_cost_on_total_travel_distance'].resid.std(),\n",
    "                                                                   size = long_sim_data_causal.loc[long_sim_data_causal['mode_id']==1].shape[0]))\n",
    "    \n",
    "    \n",
    "    ############ Shared-2 ############\n",
    "    \n",
    "    long_sim_data_causal.loc[long_sim_data_causal['mode_id']==2,'total_travel_time'] = \\\n",
    "                                                  (Shared_2_Reg['total_travel_time_on_total_travel_distance'].params[0] + \\\n",
    "                                                   Shared_2_Reg['total_travel_time_on_total_travel_distance'].params[1] * \\\n",
    "                                                   long_sim_data_causal.loc[long_sim_data_causal['mode_id']==2,'total_travel_distance'] +\\\n",
    "                                                   np.random.normal(loc=0,\n",
    "                                                                   scale = Shared_2_Reg['total_travel_time_on_total_travel_distance'].resid.std(),\n",
    "                                                                   size = long_sim_data_causal.loc[long_sim_data_causal['mode_id']==2].shape[0]))\n",
    "\n",
    "    long_sim_data_causal.loc[long_sim_data_causal['mode_id']==2,'total_travel_cost'] = \\\n",
    "                                                 (Shared_2_Reg['total_travel_cost_on_total_travel_distance'].params[0] +\\\n",
    "                                                  Shared_2_Reg['total_travel_cost_on_total_travel_distance'].params[1] *\\\n",
    "                                                  long_sim_data_causal.loc[long_sim_data_causal['mode_id']==2,'total_travel_distance'] +\\\n",
    "                                                  np.random.normal(loc=0,\n",
    "                                                                   scale = Shared_2_Reg['total_travel_cost_on_total_travel_distance'].resid.std(),\n",
    "                                                                   size = long_sim_data_causal.loc[long_sim_data_causal['mode_id']==2].shape[0]))\n",
    "    \n",
    "    ############ Shared 3+ ############\n",
    "    long_sim_data_causal.loc[long_sim_data_causal['mode_id']==3,'total_travel_time'] = \\\n",
    "                                                  (Shared_3p_Reg['total_travel_time_on_total_travel_distance'].params[0] + \\\n",
    "                                                   Shared_3p_Reg['total_travel_time_on_total_travel_distance'].params[1] * \\\n",
    "                                                   long_sim_data_causal.loc[long_sim_data_causal['mode_id']==3,'total_travel_distance'] +\\\n",
    "                                                   np.random.normal(loc=0,\n",
    "                                                                   scale = Shared_3p_Reg['total_travel_time_on_total_travel_distance'].resid.std(),\n",
    "                                                                   size = long_sim_data_causal.loc[long_sim_data_causal['mode_id']==3].shape[0]))\n",
    "\n",
    "    long_sim_data_causal.loc[long_sim_data_causal['mode_id']==3,'total_travel_cost'] = \\\n",
    "                                                 (Shared_3p_Reg['total_travel_cost_on_total_travel_distance'].params[0] +\\\n",
    "                                                  Shared_3p_Reg['total_travel_cost_on_total_travel_distance'].params[1] *\\\n",
    "                                                  long_sim_data_causal.loc[long_sim_data_causal['mode_id']==3,'total_travel_distance'] +\\\n",
    "                                                  np.random.normal(loc=0,\n",
    "                                                                   scale = Shared_3p_Reg['total_travel_cost_on_total_travel_distance'].resid.std(),\n",
    "                                                                   size = long_sim_data_causal.loc[long_sim_data_causal['mode_id']==3].shape[0]))\n",
    "    \n",
    "    \n",
    "    ############ Walk-Transit-Walk ############\n",
    "    long_sim_data_causal.loc[long_sim_data_causal['mode_id']==4,'total_travel_cost'] = \\\n",
    "                                                 (WTW_Reg['total_travel_cost_on_total_travel_time'].params[0] +\\\n",
    "                                                  WTW_Reg['total_travel_cost_on_total_travel_time'].params[1] *\\\n",
    "                                                  long_sim_data_causal.loc[long_sim_data_causal['mode_id']==4,'total_travel_time'] +\\\n",
    "                                                  np.random.normal(loc=0,\n",
    "                                                                   scale = WTW_Reg['total_travel_cost_on_total_travel_time'].resid.std(),\n",
    "                                                                   size = long_sim_data_causal.loc[long_sim_data_causal['mode_id']==4].shape[0]))\n",
    "    \n",
    "    \n",
    "    ############ Drive-Transit-Walk ############\n",
    "    long_sim_data_causal.loc[long_sim_data_causal['mode_id']==5,'total_travel_cost'] = \\\n",
    "                                                 (DTW_Reg['total_travel_cost_on_total_travel_time'].params[0] +\\\n",
    "                                                  DTW_Reg['total_travel_cost_on_total_travel_time'].params[1] *\\\n",
    "                                                  long_sim_data_causal.loc[long_sim_data_causal['mode_id']==5,'total_travel_time'] +\\\n",
    "                                                  np.random.normal(loc=0,\n",
    "                                                                   scale = DTW_Reg['total_travel_cost_on_total_travel_time'].resid.std(),\n",
    "                                                                   size = long_sim_data_causal.loc[long_sim_data_causal['mode_id']==5].shape[0]))\n",
    "    \n",
    "    ############ Walk-Transit-Drive ############\n",
    "    long_sim_data_causal.loc[long_sim_data_causal['mode_id']==6,'total_travel_cost'] = \\\n",
    "                                                 (WTD_Reg['total_travel_cost_on_total_travel_time'].params[0] +\\\n",
    "                                                  WTD_Reg['total_travel_cost_on_total_travel_time'].params[1] *\\\n",
    "                                                  long_sim_data_causal.loc[long_sim_data_causal['mode_id']==6,'total_travel_time'] +\\\n",
    "                                                  np.random.normal(loc=0,\n",
    "                                                                   scale = WTD_Reg['total_travel_cost_on_total_travel_time'].resid.std(),\n",
    "                                                                   size = long_sim_data_causal.loc[long_sim_data_causal['mode_id']==6].shape[0]))\n",
    "    \n",
    "    \n",
    "    ############ Compute Estimated Probabilities ############\n",
    "    estimated_probabilities = mnl_model_sim.predict(long_sim_data_causal)\n",
    "    long_sim_data_causal['estimated_probabilities'] = estimated_probabilities\n",
    "    \n",
    "    ############ True Probabilities ############\n",
    "    true_probabilities = mnl_model.predict(long_sim_data_causal)\n",
    "    long_sim_data_causal['true_probabilities'] = true_probabilities\n",
    "    \n",
    "    ############ Causal Effects for Drive Alone ############\n",
    "    naive_effect = long_sim_data_naive.loc[long_sim_data_naive['mode_id']==1,'naive_probabilities'] - long_sim_data.loc[long_sim_data['mode_id']==1,'initial_probabilities']\n",
    "    estimated_effect = long_sim_data_causal.loc[long_sim_data_causal['mode_id']==1,'estimated_probabilities'] - long_sim_data.loc[long_sim_data['mode_id']==1,'initial_probabilities']\n",
    "    true_effect = long_sim_data_causal.loc[long_sim_data_causal['mode_id']==1,'true_probabilities'] - long_sim_data.loc[long_sim_data['mode_id']==1,'initial_probabilities']\n",
    "    \n",
    "    ############ DataFrame to store Causal Effects ############\n",
    "    causal_effects = causal_effects.append({'true_effect': true_effect.mean(),\n",
    "                                            'estimated_effect': estimated_effect.mean(),\n",
    "                                            'naive_effect': naive_effect.mean()}, ignore_index=True)\n",
    "    \n",
    "    # TODO: We should figure out how to store the data\n",
    "    # (original data and perturbed data) and the models\n",
    "    # as well as all the probabilities in one object.\n",
    "    \n",
    "    \n",
    "    print('Simulation number', number , 'is complete!')\n",
    "    print('==========================================')\n",
    "    print('==========================================')"
   ]
  },
  {
   "cell_type": "markdown",
   "metadata": {},
   "source": [
    "### 5.2. Describe resulting DataFrame"
   ]
  },
  {
   "cell_type": "code",
   "execution_count": 153,
   "metadata": {},
   "outputs": [
    {
     "data": {
      "text/html": [
       "<div>\n",
       "<style scoped>\n",
       "    .dataframe tbody tr th:only-of-type {\n",
       "        vertical-align: middle;\n",
       "    }\n",
       "\n",
       "    .dataframe tbody tr th {\n",
       "        vertical-align: top;\n",
       "    }\n",
       "\n",
       "    .dataframe thead th {\n",
       "        text-align: right;\n",
       "    }\n",
       "</style>\n",
       "<table border=\"1\" class=\"dataframe\">\n",
       "  <thead>\n",
       "    <tr style=\"text-align: right;\">\n",
       "      <th></th>\n",
       "      <th>naive_effect</th>\n",
       "      <th>true_effect</th>\n",
       "      <th>estimated_effect</th>\n",
       "    </tr>\n",
       "  </thead>\n",
       "  <tbody>\n",
       "    <tr>\n",
       "      <td>count</td>\n",
       "      <td>200.000000</td>\n",
       "      <td>200.000000</td>\n",
       "      <td>200.000000</td>\n",
       "    </tr>\n",
       "    <tr>\n",
       "      <td>mean</td>\n",
       "      <td>-0.016568</td>\n",
       "      <td>-0.000190</td>\n",
       "      <td>-0.000064</td>\n",
       "    </tr>\n",
       "    <tr>\n",
       "      <td>std</td>\n",
       "      <td>0.000606</td>\n",
       "      <td>0.004532</td>\n",
       "      <td>0.001471</td>\n",
       "    </tr>\n",
       "    <tr>\n",
       "      <td>min</td>\n",
       "      <td>-0.018197</td>\n",
       "      <td>-0.013654</td>\n",
       "      <td>-0.003912</td>\n",
       "    </tr>\n",
       "    <tr>\n",
       "      <td>25%</td>\n",
       "      <td>-0.016982</td>\n",
       "      <td>-0.003430</td>\n",
       "      <td>-0.000987</td>\n",
       "    </tr>\n",
       "    <tr>\n",
       "      <td>50%</td>\n",
       "      <td>-0.016526</td>\n",
       "      <td>0.000233</td>\n",
       "      <td>-0.000009</td>\n",
       "    </tr>\n",
       "    <tr>\n",
       "      <td>75%</td>\n",
       "      <td>-0.016161</td>\n",
       "      <td>0.002882</td>\n",
       "      <td>0.000796</td>\n",
       "    </tr>\n",
       "    <tr>\n",
       "      <td>max</td>\n",
       "      <td>-0.014953</td>\n",
       "      <td>0.010654</td>\n",
       "      <td>0.004643</td>\n",
       "    </tr>\n",
       "  </tbody>\n",
       "</table>\n",
       "</div>"
      ],
      "text/plain": [
       "       naive_effect  true_effect  estimated_effect\n",
       "count    200.000000   200.000000        200.000000\n",
       "mean      -0.016568    -0.000190         -0.000064\n",
       "std        0.000606     0.004532          0.001471\n",
       "min       -0.018197    -0.013654         -0.003912\n",
       "25%       -0.016982    -0.003430         -0.000987\n",
       "50%       -0.016526     0.000233         -0.000009\n",
       "75%       -0.016161     0.002882          0.000796\n",
       "max       -0.014953     0.010654          0.004643"
      ]
     },
     "execution_count": 153,
     "metadata": {},
     "output_type": "execute_result"
    }
   ],
   "source": [
    "causal_effects.describe()"
   ]
  },
  {
   "cell_type": "markdown",
   "metadata": {},
   "source": [
    "# 5. Plotting results of the simulation "
   ]
  },
  {
   "cell_type": "code",
   "execution_count": 184,
   "metadata": {},
   "outputs": [
    {
     "data": {
      "text/plain": [
       "<matplotlib.legend.Legend at 0x1c256c7b50>"
      ]
     },
     "execution_count": 184,
     "metadata": {},
     "output_type": "execute_result"
    },
    {
     "data": {
      "image/png": "[encoded data removed]",
      "text/plain": [
       "<Figure size 1440x720 with 1 Axes>"
      ]
     },
     "metadata": {},
     "output_type": "display_data"
    },
    {
     "data": {
      "image/png": "[encoded data removed]",
      "text/plain": [
       "<Figure size 1440x720 with 1 Axes>"
      ]
     },
     "metadata": {},
     "output_type": "display_data"
    }
   ],
   "source": [
    "plt.figure(figsize=(20,10))\n",
    "sns.distplot(causal_effects.naive_effect, label='Naive Effect', kde=False, color='goldenrod')\n",
    "sns.distplot(causal_effects.true_effect, label='True Effect', kde=False, color='dodgerblue')\n",
    "plt.title('True Effect vs. Naive Effect', fontdict={'fontsize': 14, 'fontweight':'bold'})\n",
    "plt.ylabel('Frequency', rotation=0, labelpad=50, fontdict={'fontsize': 12, 'fontweight':'bold'})\n",
    "plt.xlabel('Average Causal Effect', fontdict={'fontsize': 12, 'fontweight':'bold'})\n",
    "plt.legend(prop={'size': 14})\n",
    "\n",
    "plt.figure(figsize=(20,10))\n",
    "sns.distplot(causal_effects.true_effect, label='True Effect',kde=False, color='dodgerblue')\n",
    "sns.distplot(causal_effects.estimated_effect, label='Estimated Effect', kde=False,color='lightcoral')\n",
    "plt.title('True Effect vs. Naive Effect', fontdict={'fontsize': 14, 'fontweight':'bold'})\n",
    "plt.ylabel('Frequency', rotation=0, labelpad=50, fontdict={'fontsize': 12, 'fontweight':'bold'})\n",
    "plt.xlabel('Average Causal Effect', fontdict={'fontsize': 12, 'fontweight':'bold'})\n",
    "plt.legend(prop={'size': 14})"
   ]
  }
 ],
 "metadata": {
  "jupytext": {
   "formats": "ipynb,md"
  },
  "kernelspec": {
   "display_name": "Python 3",
   "language": "python",
   "name": "python3"
  },
  "language_info": {
   "codemirror_mode": {
    "name": "ipython",
    "version": 3
   },
   "file_extension": ".py",
   "mimetype": "text/x-python",
   "name": "python",
   "nbconvert_exporter": "python",
   "pygments_lexer": "ipython3",
   "version": "3.7.4"
  }
 },
 "nbformat": 4,
 "nbformat_minor": 4
}
