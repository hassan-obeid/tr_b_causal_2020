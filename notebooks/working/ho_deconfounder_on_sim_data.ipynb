{
 "cells": [
  {
   "cell_type": "markdown",
   "metadata": {},
   "source": [
    "# Purpose\n"
   ]
  },
  {
   "cell_type": "markdown",
   "metadata": {},
   "source": [
    "The purpose of this notebook is to investigate the effectiveness of the deconfounder algorithm (Blei et. al, 2018) in adjusting for unobserved confounding. We use a simulated mode choice data where travel distance linearly confounds both travel time and travel cost. We then mask the travel distance data and treat it as an unobserved variable. \n",
    "\n",
    "We estimate three models:\n",
    "- Model 1: A multinomial logit with the correct original specification, EXCEPT we ommit the travel distance variable in the specification without trying to adjust for it. \n",
    "- Model 2: We use the deconfounder algorithm to try to recover the confounder (travel distance). In this method, we use all the variables in each mode's utility to recover that mode's confounder.\n",
    "- Model 3: We use the deconfounder algorithm to try to recover the confounder (travel distance), but this time, we only use travel time and cost in the factor model, instead of all the variables in the utility specification of each mode. \n",
    "\n",
    "We compare the estimates of the coefficients on travel time and cost to the true estimates used in the simulation. The main findings of this exercise are the following:\n",
    "- Using the true variables believed to be confounded (i.e. method 3 where only travel time and cost are used to recover the confounder) leads to a better recovery of the true confounder. This suggests that it may be better to run the deconfounder algorithm based on a hypothesized causal graph, rather than just running it on all the observed covariates. \n",
    "- Similar to what we found in the investigating_decounfounder notebook, the effectiveness of the deconfounder algorithm is very sensitive to small deviations in the recovered confounder. Although method 3 returns a relatively good fit of the true confounder, the adjusted coefficients on travel time and cost do not exhibit any reduction in the bias resulting from ommitting the true confounder, and the coefficients on the recovered confounder are highly insignificant. This raises questions about the usefulness of the deconfounder algorithm in practice."
   ]
  },
  {
   "cell_type": "markdown",
   "metadata": {},
   "source": [
    "# Import needed libraries"
   ]
  },
  {
   "cell_type": "code",
   "execution_count": 1,
   "metadata": {
    "scrolled": true
   },
   "outputs": [],
   "source": [
    "# Built-in modules\n",
    "import os\n",
    "from collections import OrderedDict\n",
    "from functools import reduce\n",
    "\n",
    "# Third party modules\n",
    "import pandas as pd\n",
    "import numpy as np\n",
    "import matplotlib.pyplot as plt\n",
    "from causalgraphicalmodels import CausalGraphicalModel, StructuralCausalModel\n",
    "import pylogit as cm\n",
    "\n",
    "# Local modules\n",
    "from factor_models import *\n",
    "from util import *\n"
   ]
  },
  {
   "cell_type": "markdown",
   "metadata": {},
   "source": [
    "## Useful function"
   ]
  },
  {
   "cell_type": "markdown",
   "metadata": {},
   "source": [
    "## Analysis"
   ]
  },
  {
   "cell_type": "code",
   "execution_count": 2,
   "metadata": {},
   "outputs": [],
   "source": [
    "PATH = '../../data/raw/'\n",
    "file_name = 'simulated_long_format_bike_data.csv'"
   ]
  },
  {
   "cell_type": "code",
   "execution_count": 3,
   "metadata": {},
   "outputs": [
    {
     "data": {
      "text/plain": [
       "Index(['observation_id', 'mode_id', 'sim_choice', 'num_kids', 'household_size',\n",
       "       'num_cars', 'num_licensed_drivers', 'cross_bay', 'total_travel_time',\n",
       "       'total_travel_cost', 'total_travel_distance',\n",
       "       'cars_per_licensed_drivers', 'cost_per_distance', 'intercept'],\n",
       "      dtype='object')"
      ]
     },
     "execution_count": 3,
     "metadata": {},
     "output_type": "execute_result"
    }
   ],
   "source": [
    "data = pd.read_csv(PATH+file_name)\n",
    "data = data.drop('Unnamed: 0', axis = 1)\n",
    "data.columns"
   ]
  },
  {
   "cell_type": "code",
   "execution_count": 4,
   "metadata": {},
   "outputs": [],
   "source": [
    "X_columns = ['total_travel_time',\n",
    "       'total_travel_cost', 'total_travel_distance', \n",
    "             'cross_bay', 'household_size', 'num_kids', \n",
    "              'cars_per_licensed_drivers', \n",
    "             'gender'\n",
    "             \n",
    "            ]\n",
    "\n",
    "y_column = data['mode_id']"
   ]
  },
  {
   "cell_type": "code",
   "execution_count": 5,
   "metadata": {},
   "outputs": [
    {
     "data": {
      "image/svg+xml": [
       "<?xml version=\"1.0\" encoding=\"UTF-8\" standalone=\"no\"?>\n",
       "<!DOCTYPE svg PUBLIC \"-//W3C//DTD SVG 1.1//EN\"\n",
       " \"http://www.w3.org/Graphics/SVG/1.1/DTD/svg11.dtd\">\n",
       "<!-- Generated by graphviz version 2.40.1 (20161225.0304)\n",
       " -->\n",
       "<!-- Title: %3 Pages: 1 -->\n",
       "<svg width=\"1065pt\" height=\"260pt\"\n",
       " viewBox=\"0.00 0.00 1064.79 260.00\" xmlns=\"http://www.w3.org/2000/svg\" xmlns:xlink=\"http://www.w3.org/1999/xlink\">\n",
       "<g id=\"graph0\" class=\"graph\" transform=\"scale(1 1) rotate(0) translate(4 256)\">\n",
       "<title>%3</title>\n",
       "<polygon fill=\"#ffffff\" stroke=\"transparent\" points=\"-4,4 -4,-256 1060.7866,-256 1060.7866,4 -4,4\"/>\n",
       "<!-- Autos_per_licensed_drivers -->\n",
       "<g id=\"node1\" class=\"node\">\n",
       "<title>Autos_per_licensed_drivers</title>\n",
       "<ellipse fill=\"none\" stroke=\"#000000\" cx=\"113.09\" cy=\"-90\" rx=\"113.18\" ry=\"18\"/>\n",
       "<text text-anchor=\"middle\" x=\"113.09\" y=\"-86.3\" font-family=\"Times,serif\" font-size=\"14.00\" fill=\"#000000\">Autos_per_licensed_drivers</text>\n",
       "</g>\n",
       "<!-- Mode_Choice -->\n",
       "<g id=\"node6\" class=\"node\">\n",
       "<title>Mode_Choice</title>\n",
       "<ellipse fill=\"none\" stroke=\"#000000\" cx=\"572.09\" cy=\"-18\" rx=\"62.2891\" ry=\"18\"/>\n",
       "<text text-anchor=\"middle\" x=\"572.09\" y=\"-14.3\" font-family=\"Times,serif\" font-size=\"14.00\" fill=\"#000000\">Mode_Choice</text>\n",
       "</g>\n",
       "<!-- Autos_per_licensed_drivers&#45;&gt;Mode_Choice -->\n",
       "<g id=\"edge11\" class=\"edge\">\n",
       "<title>Autos_per_licensed_drivers&#45;&gt;Mode_Choice</title>\n",
       "<path fill=\"none\" stroke=\"#000000\" d=\"M193.83,-77.3349C282.974,-63.3515 424.7336,-41.1147 507.0445,-28.2032\"/>\n",
       "<polygon fill=\"#000000\" stroke=\"#000000\" points=\"507.6886,-31.6451 517.0254,-26.6376 506.6038,-24.7296 507.6886,-31.6451\"/>\n",
       "</g>\n",
       "<!-- Travel_Cost -->\n",
       "<g id=\"node2\" class=\"node\">\n",
       "<title>Travel_Cost</title>\n",
       "<ellipse fill=\"none\" stroke=\"#000000\" cx=\"300.09\" cy=\"-90\" rx=\"55.7903\" ry=\"18\"/>\n",
       "<text text-anchor=\"middle\" x=\"300.09\" y=\"-86.3\" font-family=\"Times,serif\" font-size=\"14.00\" fill=\"#000000\">Travel_Cost</text>\n",
       "</g>\n",
       "<!-- Travel_Cost&#45;&gt;Mode_Choice -->\n",
       "<g id=\"edge6\" class=\"edge\">\n",
       "<title>Travel_Cost&#45;&gt;Mode_Choice</title>\n",
       "<path fill=\"none\" stroke=\"#000000\" d=\"M342.3722,-78.1923C349.9318,-76.1094 357.7399,-73.9763 365.09,-72 415.8926,-58.3402 473.8481,-43.2647 515.4884,-32.522\"/>\n",
       "<polygon fill=\"#000000\" stroke=\"#000000\" points=\"516.3666,-35.9101 525.1765,-30.0248 514.6193,-29.1317 516.3666,-35.9101\"/>\n",
       "</g>\n",
       "<!-- Travel_Distance -->\n",
       "<g id=\"node3\" class=\"node\">\n",
       "<title>Travel_Distance</title>\n",
       "<ellipse fill=\"none\" stroke=\"#000000\" cx=\"518.09\" cy=\"-162\" rx=\"70.6878\" ry=\"18\"/>\n",
       "<text text-anchor=\"middle\" x=\"518.09\" y=\"-158.3\" font-family=\"Times,serif\" font-size=\"14.00\" fill=\"#000000\">Travel_Distance</text>\n",
       "</g>\n",
       "<!-- Travel_Distance&#45;&gt;Travel_Cost -->\n",
       "<g id=\"edge4\" class=\"edge\">\n",
       "<title>Travel_Distance&#45;&gt;Travel_Cost</title>\n",
       "<path fill=\"none\" stroke=\"#000000\" d=\"M474.7595,-147.689C438.5124,-135.7175 386.8185,-118.6443 349.0743,-106.1783\"/>\n",
       "<polygon fill=\"#000000\" stroke=\"#000000\" points=\"349.904,-102.7665 339.3108,-102.9537 347.7087,-109.4133 349.904,-102.7665\"/>\n",
       "</g>\n",
       "<!-- Travel_Time -->\n",
       "<g id=\"node5\" class=\"node\">\n",
       "<title>Travel_Time</title>\n",
       "<ellipse fill=\"none\" stroke=\"#000000\" cx=\"432.09\" cy=\"-90\" rx=\"58.4896\" ry=\"18\"/>\n",
       "<text text-anchor=\"middle\" x=\"432.09\" y=\"-86.3\" font-family=\"Times,serif\" font-size=\"14.00\" fill=\"#000000\">Travel_Time</text>\n",
       "</g>\n",
       "<!-- Travel_Distance&#45;&gt;Travel_Time -->\n",
       "<g id=\"edge3\" class=\"edge\">\n",
       "<title>Travel_Distance&#45;&gt;Travel_Time</title>\n",
       "<path fill=\"none\" stroke=\"#000000\" d=\"M497.2718,-144.5708C486.2049,-135.3055 472.4386,-123.7802 460.4127,-113.7121\"/>\n",
       "<polygon fill=\"#000000\" stroke=\"#000000\" points=\"462.3341,-110.756 452.4197,-107.0202 457.8405,-116.1233 462.3341,-110.756\"/>\n",
       "</g>\n",
       "<!-- Travel_Distance&#45;&gt;Mode_Choice -->\n",
       "<g id=\"edge2\" class=\"edge\">\n",
       "<title>Travel_Distance&#45;&gt;Mode_Choice</title>\n",
       "<path fill=\"none\" stroke=\"#000000\" d=\"M519.9438,-143.8348C522.2926,-125.235 527.2779,-95.7648 537.09,-72 541.0771,-62.3432 546.8217,-52.5358 552.5077,-43.9764\"/>\n",
       "<polygon fill=\"#000000\" stroke=\"#000000\" points=\"555.5163,-45.7797 558.3359,-35.567 549.7629,-41.7924 555.5163,-45.7797\"/>\n",
       "</g>\n",
       "<!-- Cross_Bay_Bridge -->\n",
       "<g id=\"node7\" class=\"node\">\n",
       "<title>Cross_Bay_Bridge</title>\n",
       "<ellipse fill=\"none\" stroke=\"#000000\" cx=\"626.09\" cy=\"-90\" rx=\"79.8859\" ry=\"18\"/>\n",
       "<text text-anchor=\"middle\" x=\"626.09\" y=\"-86.3\" font-family=\"Times,serif\" font-size=\"14.00\" fill=\"#000000\">Cross_Bay_Bridge</text>\n",
       "</g>\n",
       "<!-- Travel_Distance&#45;&gt;Cross_Bay_Bridge -->\n",
       "<g id=\"edge5\" class=\"edge\">\n",
       "<title>Travel_Distance&#45;&gt;Cross_Bay_Bridge</title>\n",
       "<path fill=\"none\" stroke=\"#000000\" d=\"M543.4112,-145.1192C557.825,-135.51 576.0791,-123.3406 591.7667,-112.8822\"/>\n",
       "<polygon fill=\"#000000\" stroke=\"#000000\" points=\"593.7982,-115.7344 600.1773,-107.2751 589.9153,-109.91 593.7982,-115.7344\"/>\n",
       "</g>\n",
       "<!-- HH_Size -->\n",
       "<g id=\"node4\" class=\"node\">\n",
       "<title>HH_Size</title>\n",
       "<ellipse fill=\"none\" stroke=\"#000000\" cx=\"626.09\" cy=\"-234\" rx=\"44.393\" ry=\"18\"/>\n",
       "<text text-anchor=\"middle\" x=\"626.09\" y=\"-230.3\" font-family=\"Times,serif\" font-size=\"14.00\" fill=\"#000000\">HH_Size</text>\n",
       "</g>\n",
       "<!-- HH_Size&#45;&gt;Travel_Distance -->\n",
       "<g id=\"edge9\" class=\"edge\">\n",
       "<title>HH_Size&#45;&gt;Travel_Distance</title>\n",
       "<path fill=\"none\" stroke=\"#000000\" d=\"M602.9213,-218.5542C588.0372,-208.6315 568.4536,-195.5758 551.8531,-184.5088\"/>\n",
       "<polygon fill=\"#000000\" stroke=\"#000000\" points=\"553.7467,-181.5647 543.4847,-178.9298 549.8638,-187.3891 553.7467,-181.5647\"/>\n",
       "</g>\n",
       "<!-- HH_Size&#45;&gt;Mode_Choice -->\n",
       "<g id=\"edge8\" class=\"edge\">\n",
       "<title>HH_Size&#45;&gt;Mode_Choice</title>\n",
       "<path fill=\"none\" stroke=\"#000000\" d=\"M646.8472,-217.9573C682.8968,-188.1231 750.0348,-122.5493 715.09,-72 704.7792,-57.0849 664.7296,-42.7063 629.6283,-32.5414\"/>\n",
       "<polygon fill=\"#000000\" stroke=\"#000000\" points=\"630.4629,-29.1403 619.888,-29.7892 628.5595,-35.8765 630.4629,-29.1403\"/>\n",
       "</g>\n",
       "<!-- Travel_Time&#45;&gt;Mode_Choice -->\n",
       "<g id=\"edge1\" class=\"edge\">\n",
       "<title>Travel_Time&#45;&gt;Mode_Choice</title>\n",
       "<path fill=\"none\" stroke=\"#000000\" d=\"M462.4679,-74.3771C482.8745,-63.8822 509.9798,-49.9424 532.1315,-38.5501\"/>\n",
       "<polygon fill=\"#000000\" stroke=\"#000000\" points=\"533.9957,-41.5271 541.2879,-33.8411 530.7943,-35.3021 533.9957,-41.5271\"/>\n",
       "</g>\n",
       "<!-- Cross_Bay_Bridge&#45;&gt;Mode_Choice -->\n",
       "<g id=\"edge7\" class=\"edge\">\n",
       "<title>Cross_Bay_Bridge&#45;&gt;Mode_Choice</title>\n",
       "<path fill=\"none\" stroke=\"#000000\" d=\"M612.7416,-72.2022C606.3332,-63.6576 598.5323,-53.2564 591.4842,-43.859\"/>\n",
       "<polygon fill=\"#000000\" stroke=\"#000000\" points=\"594.0848,-41.493 585.2847,-35.593 588.4848,-45.6931 594.0848,-41.493\"/>\n",
       "</g>\n",
       "<!-- num_of_kids_household -->\n",
       "<g id=\"node8\" class=\"node\">\n",
       "<title>num_of_kids_household</title>\n",
       "<ellipse fill=\"none\" stroke=\"#000000\" cx=\"863.09\" cy=\"-90\" rx=\"100.9827\" ry=\"18\"/>\n",
       "<text text-anchor=\"middle\" x=\"863.09\" y=\"-86.3\" font-family=\"Times,serif\" font-size=\"14.00\" fill=\"#000000\">num_of_kids_household</text>\n",
       "</g>\n",
       "<!-- num_of_kids_household&#45;&gt;Mode_Choice -->\n",
       "<g id=\"edge10\" class=\"edge\">\n",
       "<title>num_of_kids_household&#45;&gt;Mode_Choice</title>\n",
       "<path fill=\"none\" stroke=\"#000000\" d=\"M803.851,-75.3429C752.9065,-62.7381 679.8805,-44.6698 629.4798,-32.1995\"/>\n",
       "<polygon fill=\"#000000\" stroke=\"#000000\" points=\"630.2625,-28.7877 619.7145,-29.7834 628.5812,-35.5828 630.2625,-28.7877\"/>\n",
       "</g>\n",
       "<!-- Gender -->\n",
       "<g id=\"node9\" class=\"node\">\n",
       "<title>Gender</title>\n",
       "<ellipse fill=\"none\" stroke=\"#000000\" cx=\"1019.09\" cy=\"-90\" rx=\"37.8943\" ry=\"18\"/>\n",
       "<text text-anchor=\"middle\" x=\"1019.09\" y=\"-86.3\" font-family=\"Times,serif\" font-size=\"14.00\" fill=\"#000000\">Gender</text>\n",
       "</g>\n",
       "<!-- Gender&#45;&gt;Mode_Choice -->\n",
       "<g id=\"edge12\" class=\"edge\">\n",
       "<title>Gender&#45;&gt;Mode_Choice</title>\n",
       "<path fill=\"none\" stroke=\"#000000\" d=\"M991.2229,-77.8698C985.321,-75.6492 979.0673,-73.5481 973.09,-72 859.9444,-42.6963 724.4842,-28.6731 643.5103,-22.4462\"/>\n",
       "<polygon fill=\"#000000\" stroke=\"#000000\" points=\"643.6595,-18.9476 633.4256,-21.6894 643.1356,-25.928 643.6595,-18.9476\"/>\n",
       "</g>\n",
       "</g>\n",
       "</svg>\n"
      ],
      "text/plain": [
       "<graphviz.dot.Digraph at 0x7fdbec0131d0>"
      ]
     },
     "execution_count": 5,
     "metadata": {},
     "output_type": "execute_result"
    }
   ],
   "source": [
    "## Specify the true causal graph used in the simulation of the choices\n",
    "\n",
    "causal_graph = CausalGraphicalModel(\n",
    "    nodes=[\"Travel_Time\", \"Travel_Distance\", \"Travel_Cost\", \"Cross_Bay_Bridge\", \"HH_Size\", \"num_of_kids_household\",\n",
    "          \"Autos_per_licensed_drivers\", \"Gender\", \"Mode_Choice\"],\n",
    "    edges=[\n",
    "        (\"Travel_Time\", \"Mode_Choice\"), \n",
    "        (\"Travel_Distance\", \"Mode_Choice\"), \n",
    "        (\"Travel_Cost\", \"Mode_Choice\"), \n",
    "        (\"Cross_Bay_Bridge\", \"Mode_Choice\"), \n",
    "        (\"HH_Size\", \"Mode_Choice\"), \n",
    "        (\"num_of_kids_household\", \"Mode_Choice\"), \n",
    "        (\"Autos_per_licensed_drivers\", \"Mode_Choice\"), \n",
    "        (\"Gender\", \"Mode_Choice\"), \n",
    "        \n",
    "        \n",
    "        (\"Travel_Distance\", \"Travel_Time\"), \n",
    "        (\"Travel_Distance\", \"Travel_Cost\"), \n",
    "        (\"Travel_Distance\", \"Cross_Bay_Bridge\"), \n",
    "        (\"HH_Size\", \"Travel_Distance\"), \n",
    "\n",
    "        \n",
    "        \n",
    "#         (\"Travel_Time\", \"Mode_Choice\"), \n",
    "#         (\"Travel_Time\", \"Mode_Choice\"), \n",
    "\n",
    "        \n",
    "        \n",
    "    ]\n",
    ")\n",
    "\n",
    "# draw return a graphviz `dot` object, which jupyter can render\n",
    "causal_graph.draw()"
   ]
  },
  {
   "cell_type": "markdown",
   "metadata": {},
   "source": [
    "# MNL specification"
   ]
  },
  {
   "cell_type": "code",
   "execution_count": 6,
   "metadata": {},
   "outputs": [],
   "source": [
    "## Below is the specification of the true model used in the simulation of the choices\n",
    "\n",
    "mnl_specification = OrderedDict()\n",
    "mnl_names = OrderedDict()\n",
    "\n",
    "mnl_specification[\"intercept\"] = [2, 3, 4, 5, 6, 7, 8]\n",
    "mnl_names[\"intercept\"] = ['ASC Shared Ride: 2',\n",
    "                          'ASC Shared Ride: 3+',\n",
    "                          'ASC Walk-Transit-Walk',\n",
    "                          'ASC Drive-Transit-Walk',\n",
    "                          'ASC Walk-Transit-Drive',\n",
    "                          'ASC Walk',\n",
    "                          'ASC Bike']\n",
    "\n",
    "mnl_specification[\"total_travel_time\"] = [1, 2, 3, [4, 5, 6]]\n",
    "mnl_names[\"total_travel_time\"] = ['Travel Time, units:min (Drive Alone)',\n",
    "                                  'Travel Time, units:min (SharedRide-2)',\n",
    "                                  'Travel Time, units:min (SharedRide-3+)',\n",
    "                                  'Travel Time, units:min (All Transit Modes)']\n",
    "\n",
    "mnl_specification[\"total_travel_cost\"] = [1, 2, 3, [4, 5, 6]]\n",
    "mnl_names[\"total_travel_cost\"] = ['Travel Cost, units:$ (Drive Alone)',\n",
    "                                  'Travel Cost, units:$ (SharedRide-2)',\n",
    "                                  'Travel Cost, units:$ (SharedRide-3+)',\n",
    "                                  'Travel Cost, units:$ (All Transit Modes)']\n",
    "\n",
    "\n",
    "mnl_specification[\"cars_per_licensed_drivers\"] = [[1, 2, 3]]\n",
    "mnl_names[\"cars_per_licensed_drivers\"] = [\"Autos per licensed drivers (All Auto Modes)\"]\n",
    "\n",
    "mnl_specification[\"total_travel_distance\"] = [1, 2, 3, 7, 8]\n",
    "mnl_names[\"total_travel_distance\"] = ['Travel Distance, units:mi (Drive Alone)',\n",
    "                                      'Travel Distance, units:mi (SharedRide-2)',\n",
    "                                      'Travel Distance, units:mi (SharedRide-3+)',\n",
    "                                      'Travel Distance, units:mi (Walk)',\n",
    "                                      'Travel Distance, units:mi (Bike)']\n",
    "\n",
    "mnl_specification[\"cross_bay\"] = [[2, 3]]\n",
    "mnl_names[\"cross_bay\"] = [\"Cross-Bay Tour (Shared Ride 2 & 3+)\"]\n",
    "\n",
    "mnl_specification[\"household_size\"] = [[2, 3]]\n",
    "mnl_names[\"household_size\"] = ['Household Size (Shared Ride 2 & 3+)']\n",
    "\n",
    "mnl_specification[\"num_kids\"] = [[2, 3]]\n",
    "mnl_names[\"num_kids\"] = [\"Number of Kids in Household (Shared Ride 2 & 3+)\"]"
   ]
  },
  {
   "cell_type": "markdown",
   "metadata": {},
   "source": [
    "# Recovering the confounder: The deconfounder algorithm"
   ]
  },
  {
   "cell_type": "markdown",
   "metadata": {},
   "source": [
    "## First approach: using all the variables in the factor model\n",
    "\n",
    "Using this approach, we use all the variables in each mode's utility specification to recover the confounder, in line with Blei et al.'s approach in their paper."
   ]
  },
  {
   "cell_type": "code",
   "execution_count": 7,
   "metadata": {},
   "outputs": [
    {
     "data": {
      "text/plain": [
       "{1: ['total_travel_time',\n",
       "  'total_travel_cost',\n",
       "  'cars_per_licensed_drivers',\n",
       "  'total_travel_distance'],\n",
       " 2: ['intercept',\n",
       "  'total_travel_time',\n",
       "  'total_travel_cost',\n",
       "  'cars_per_licensed_drivers',\n",
       "  'total_travel_distance',\n",
       "  'cross_bay',\n",
       "  'household_size',\n",
       "  'num_kids'],\n",
       " 3: ['intercept',\n",
       "  'total_travel_time',\n",
       "  'total_travel_cost',\n",
       "  'cars_per_licensed_drivers',\n",
       "  'total_travel_distance',\n",
       "  'cross_bay',\n",
       "  'household_size',\n",
       "  'num_kids'],\n",
       " 4: ['intercept', 'total_travel_time', 'total_travel_cost'],\n",
       " 5: ['intercept', 'total_travel_time', 'total_travel_cost'],\n",
       " 6: ['intercept', 'total_travel_time', 'total_travel_cost'],\n",
       " 7: ['intercept', 'total_travel_distance'],\n",
       " 8: ['intercept', 'total_travel_distance']}"
      ]
     },
     "execution_count": 7,
     "metadata": {},
     "output_type": "execute_result"
    }
   ],
   "source": [
    "## Return the variables of each utility specification\n",
    "\n",
    "spec_dic = specifications(mnl_specification=mnl_specification, num_modes=8)\n",
    "spec_dic"
   ]
  },
  {
   "cell_type": "code",
   "execution_count": 8,
   "metadata": {
    "scrolled": true
   },
   "outputs": [
    {
     "name": "stdout",
     "output_type": "stream",
     "text": [
      "Analysis for mode:  1\n",
      "-------------------------------------------------------------------------------------------\n",
      "1 ['total_travel_time', 'total_travel_cost', 'cars_per_licensed_drivers']\n",
      "WARNING:tensorflow:From /Users/hassanobeid/UC_Berkeley/PhD/Causality_Research/Github/tr_b_causal_2020/notebooks/working/factor_models.py:167: The name tf.train.AdamOptimizer is deprecated. Please use tf.compat.v1.train.AdamOptimizer instead.\n",
      "\n"
     ]
    },
    {
     "name": "stderr",
     "output_type": "stream",
     "text": [
      "/Users/hassanobeid/UC_Berkeley/PhD/Causality_Research/Github/tr_b_causal_2020/notebooks/working/factor_models.py:120: UserWarning: tfp.edward2 module is deprecated and will be removed on 2019-12-01. Use https://github.com/google/edward2 library instead.\n",
      "  log_joint = ed.make_log_joint_fn(ppca_model)\n"
     ]
    },
    {
     "name": "stdout",
     "output_type": "stream",
     "text": [
      "WARNING:tensorflow:From /Users/hassanobeid/UC_Berkeley/PhD/Causality_Research/Github/tr_b_causal_2020/notebooks/working/factor_models.py:170: The name tf.global_variables_initializer is deprecated. Please use tf.compat.v1.global_variables_initializer instead.\n",
      "\n",
      "WARNING:tensorflow:From /Users/hassanobeid/UC_Berkeley/PhD/Causality_Research/Github/tr_b_causal_2020/notebooks/working/factor_models.py:176: The name tf.Session is deprecated. Please use tf.compat.v1.Session instead.\n",
      "\n",
      "Inferred axes:\n",
      "[[1.0883076 1.0916365 0.146242 ]]\n",
      "Standard Deviation:\n",
      "[[0.00616198 0.00590414 0.00783501]]\n"
     ]
    },
    {
     "data": {
      "image/png": "[encoded data removed]",
      "text/plain": [
       "<Figure size 432x288 with 1 Axes>"
      ]
     },
     "metadata": {
      "needs_background": "light"
     },
     "output_type": "display_data"
    },
    {
     "name": "stdout",
     "output_type": "stream",
     "text": [
      "Analysis for mode:  2\n",
      "-------------------------------------------------------------------------------------------\n",
      "2 ['total_travel_time', 'total_travel_cost', 'cars_per_licensed_drivers', 'cross_bay', 'household_size', 'num_kids']\n",
      "Inferred axes:\n",
      "[[1.1449827  1.1428466  0.07987782 0.02922172 0.13150194 0.12699242]]\n",
      "Standard Deviation:\n",
      "[[0.00892731 0.00639097 0.0042414  0.00755631 0.00778179 0.00711846]]\n"
     ]
    },
    {
     "data": {
      "image/png": "[encoded data removed]",
      "text/plain": [
       "<Figure size 432x288 with 1 Axes>"
      ]
     },
     "metadata": {
      "needs_background": "light"
     },
     "output_type": "display_data"
    },
    {
     "name": "stdout",
     "output_type": "stream",
     "text": [
      "Analysis for mode:  3\n",
      "-------------------------------------------------------------------------------------------\n",
      "3 ['total_travel_time', 'total_travel_cost', 'cars_per_licensed_drivers', 'cross_bay', 'household_size', 'num_kids']\n",
      "Inferred axes:\n",
      "[[ 1.1569372   1.1652398   0.16833714  0.08692145 -0.07899975 -0.00243931]]\n",
      "Standard Deviation:\n",
      "[[0.00753691 0.00689023 0.00580992 0.00633506 0.00608449 0.0057925 ]]\n"
     ]
    },
    {
     "data": {
      "image/png": "[encoded data removed]",
      "text/plain": [
       "<Figure size 432x288 with 1 Axes>"
      ]
     },
     "metadata": {
      "needs_background": "light"
     },
     "output_type": "display_data"
    },
    {
     "name": "stdout",
     "output_type": "stream",
     "text": [
      "Analysis for mode:  4\n",
      "-------------------------------------------------------------------------------------------\n",
      "4 ['total_travel_time', 'total_travel_cost']\n",
      "Inferred axes:\n",
      "[[3.0091388 2.903089 ]]\n",
      "Standard Deviation:\n",
      "[[0.01044415 0.01053357]]\n"
     ]
    },
    {
     "data": {
      "image/png": "[encoded data removed]",
      "text/plain": [
       "<Figure size 432x288 with 1 Axes>"
      ]
     },
     "metadata": {
      "needs_background": "light"
     },
     "output_type": "display_data"
    },
    {
     "name": "stdout",
     "output_type": "stream",
     "text": [
      "Analysis for mode:  5\n",
      "-------------------------------------------------------------------------------------------\n",
      "5 ['total_travel_time', 'total_travel_cost']\n",
      "Inferred axes:\n",
      "[[0.8996402  0.88553447]]\n",
      "Standard Deviation:\n",
      "[[0.00577033 0.00570028]]\n"
     ]
    },
    {
     "data": {
      "image/png": "[encoded data removed]",
      "text/plain": [
       "<Figure size 432x288 with 1 Axes>"
      ]
     },
     "metadata": {
      "needs_background": "light"
     },
     "output_type": "display_data"
    },
    {
     "name": "stdout",
     "output_type": "stream",
     "text": [
      "Analysis for mode:  6\n",
      "-------------------------------------------------------------------------------------------\n",
      "6 ['total_travel_time', 'total_travel_cost']\n",
      "Inferred axes:\n",
      "[[0.88109356 0.8781532 ]]\n",
      "Standard Deviation:\n",
      "[[0.00747278 0.00554346]]\n"
     ]
    },
    {
     "data": {
      "image/png": "[encoded data removed]",
      "text/plain": [
       "<Figure size 432x288 with 1 Axes>"
      ]
     },
     "metadata": {
      "needs_background": "light"
     },
     "output_type": "display_data"
    },
    {
     "name": "stdout",
     "output_type": "stream",
     "text": [
      "Analysis for mode:  7\n",
      "-------------------------------------------------------------------------------------------\n",
      "7 []\n",
      "Inferred axes:\n",
      "[]\n",
      "Standard Deviation:\n",
      "[]\n"
     ]
    },
    {
     "data": {
      "image/png": "[encoded data removed]",
      "text/plain": [
       "<Figure size 432x288 with 1 Axes>"
      ]
     },
     "metadata": {
      "needs_background": "light"
     },
     "output_type": "display_data"
    },
    {
     "name": "stdout",
     "output_type": "stream",
     "text": [
      "Analysis for mode:  8\n",
      "-------------------------------------------------------------------------------------------\n",
      "8 []\n",
      "Inferred axes:\n",
      "[]\n",
      "Standard Deviation:\n",
      "[]\n"
     ]
    },
    {
     "data": {
      "image/png": "[encoded data removed]",
      "text/plain": [
       "<Figure size 432x288 with 1 Axes>"
      ]
     },
     "metadata": {
      "needs_background": "light"
     },
     "output_type": "display_data"
    }
   ],
   "source": [
    "confounder_vectors = []\n",
    "holdout_dfs = []\n",
    "masks_df = []\n",
    "rows_df =[]\n",
    "latent_dim = 1\n",
    "for i in data['mode_id'].unique():\n",
    "\n",
    "    data_mode_i = data[data['mode_id']==i]\n",
    "    # standardize the data for PPCA\n",
    "    print(\"Analysis for mode: \", i)\n",
    "    print(\"-------------------------------------------------------------------------------------------\")\n",
    "    X_columns = spec_dic[i]\n",
    "    \n",
    "    if 'intercept' in X_columns:\n",
    "        X_columns.remove('intercept')\n",
    "        \n",
    "    if 'total_travel_distance' in X_columns:\n",
    "        X_columns.remove('total_travel_distance')\n",
    "        \n",
    "    print(i, X_columns)\n",
    "    \n",
    "    X = np.array((data_mode_i[X_columns] - data_mode_i[X_columns].mean())/data_mode_i[X_columns].std())\n",
    "    \n",
    "    confounders, holdouts, holdoutmasks, holdoutrow= confounder_ppca(holdout_portion=0.2, X=X, latent_dim=latent_dim)\n",
    "\n",
    "    confounder_vectors.append(confounders)\n",
    "    holdout_dfs.append(holdouts)\n",
    "    masks_df.append(holdoutmasks)\n",
    "    rows_df.append(holdoutrow)"
   ]
  },
  {
   "cell_type": "markdown",
   "metadata": {},
   "source": [
    "## Second approach: using only the confounded variables in the factor model\n",
    "Using this approach, we only run the deconfounder's factor model on travel_time and travel_cost, which are the only variables confounded with travel_distance in our simulation"
   ]
  },
  {
   "cell_type": "code",
   "execution_count": 9,
   "metadata": {
    "scrolled": true
   },
   "outputs": [
    {
     "name": "stdout",
     "output_type": "stream",
     "text": [
      "Analysis for mode:  1\n",
      "-------------------------------------------------------------------------------------------\n",
      "Inferred axes:\n",
      "[[1.0194492 1.0199625]]\n",
      "Standard Deviation:\n",
      "[[0.00520268 0.0061179 ]]\n"
     ]
    },
    {
     "data": {
      "image/png": "[encoded data removed]",
      "text/plain": [
       "<Figure size 432x288 with 1 Axes>"
      ]
     },
     "metadata": {
      "needs_background": "light"
     },
     "output_type": "display_data"
    },
    {
     "name": "stdout",
     "output_type": "stream",
     "text": [
      "Analysis for mode:  2\n",
      "-------------------------------------------------------------------------------------------\n",
      "Inferred axes:\n",
      "[[0.99306715 1.0040447 ]]\n",
      "Standard Deviation:\n",
      "[[0.00579546 0.0065119 ]]\n"
     ]
    },
    {
     "data": {
      "image/png": "[encoded data removed]",
      "text/plain": [
       "<Figure size 432x288 with 1 Axes>"
      ]
     },
     "metadata": {
      "needs_background": "light"
     },
     "output_type": "display_data"
    },
    {
     "name": "stdout",
     "output_type": "stream",
     "text": [
      "Analysis for mode:  3\n",
      "-------------------------------------------------------------------------------------------\n",
      "Inferred axes:\n",
      "[[1.0236453 1.0242647]]\n",
      "Standard Deviation:\n",
      "[[0.00603816 0.00712698]]\n"
     ]
    },
    {
     "data": {
      "image/png": "[encoded data removed]",
      "text/plain": [
       "<Figure size 432x288 with 1 Axes>"
      ]
     },
     "metadata": {
      "needs_background": "light"
     },
     "output_type": "display_data"
    },
    {
     "name": "stdout",
     "output_type": "stream",
     "text": [
      "Analysis for mode:  4\n",
      "-------------------------------------------------------------------------------------------\n",
      "Inferred axes:\n",
      "[[2.7011368 2.7983968]]\n",
      "Standard Deviation:\n",
      "[[0.01423702 0.01301273]]\n"
     ]
    },
    {
     "data": {
      "image/png": "[encoded data removed]",
      "text/plain": [
       "<Figure size 432x288 with 1 Axes>"
      ]
     },
     "metadata": {
      "needs_background": "light"
     },
     "output_type": "display_data"
    },
    {
     "name": "stdout",
     "output_type": "stream",
     "text": [
      "Analysis for mode:  5\n",
      "-------------------------------------------------------------------------------------------\n",
      "Inferred axes:\n",
      "[[0.8942003  0.87941587]]\n",
      "Standard Deviation:\n",
      "[[0.00548418 0.00560308]]\n"
     ]
    },
    {
     "data": {
      "image/png": "[encoded data removed]",
      "text/plain": [
       "<Figure size 432x288 with 1 Axes>"
      ]
     },
     "metadata": {
      "needs_background": "light"
     },
     "output_type": "display_data"
    },
    {
     "name": "stdout",
     "output_type": "stream",
     "text": [
      "Analysis for mode:  6\n",
      "-------------------------------------------------------------------------------------------\n",
      "Inferred axes:\n",
      "[[0.88581216 0.8881324 ]]\n",
      "Standard Deviation:\n",
      "[[0.00520304 0.00585389]]\n"
     ]
    },
    {
     "data": {
      "image/png": "[encoded data removed]",
      "text/plain": [
       "<Figure size 432x288 with 1 Axes>"
      ]
     },
     "metadata": {
      "needs_background": "light"
     },
     "output_type": "display_data"
    },
    {
     "name": "stdout",
     "output_type": "stream",
     "text": [
      "Analysis for mode:  7\n",
      "-------------------------------------------------------------------------------------------\n",
      "Inferred axes:\n",
      "[[nan nan]]\n",
      "Standard Deviation:\n",
      "[[nan nan]]\n"
     ]
    },
    {
     "data": {
      "image/png": "[encoded data removed]",
      "text/plain": [
       "<Figure size 432x288 with 1 Axes>"
      ]
     },
     "metadata": {
      "needs_background": "light"
     },
     "output_type": "display_data"
    },
    {
     "name": "stdout",
     "output_type": "stream",
     "text": [
      "Analysis for mode:  8\n",
      "-------------------------------------------------------------------------------------------\n",
      "Inferred axes:\n",
      "[[nan nan]]\n",
      "Standard Deviation:\n",
      "[[nan nan]]\n"
     ]
    },
    {
     "data": {
      "image/png": "[encoded data removed]",
      "text/plain": [
       "<Figure size 432x288 with 1 Axes>"
      ]
     },
     "metadata": {
      "needs_background": "light"
     },
     "output_type": "display_data"
    }
   ],
   "source": [
    "confounder_vectors_2 = []\n",
    "holdout_dfs_2 = []\n",
    "masks_df_2 = []\n",
    "rows_df_2 =[]\n",
    "latent_dim = 1\n",
    "\n",
    "confounded_variables = ['total_travel_time', 'total_travel_cost']\n",
    "for i in data['mode_id'].unique():\n",
    "\n",
    "    data_mode_i = data[data['mode_id']==i]\n",
    "    # standardize the data for PPCA\n",
    "    print(\"Analysis for mode: \", i)\n",
    "    print(\"-------------------------------------------------------------------------------------------\")\n",
    "    \n",
    "    X = np.array((data_mode_i[confounded_variables] - data_mode_i[confounded_variables].mean())/\n",
    "                 data_mode_i[confounded_variables].std())\n",
    "    \n",
    "    confounders, holdouts, holdoutmasks, holdoutrow= confounder_ppca(holdout_portion=0.2, X=X, latent_dim=latent_dim)\n",
    "\n",
    "    confounder_vectors_2.append(confounders)\n",
    "    holdout_dfs_2.append(holdouts)\n",
    "    masks_df_2.append(holdoutmasks)\n",
    "    rows_df_2.append(holdoutrow)"
   ]
  },
  {
   "cell_type": "markdown",
   "metadata": {},
   "source": [
    "## Adding confounders to original DF"
   ]
  },
  {
   "cell_type": "code",
   "execution_count": 10,
   "metadata": {},
   "outputs": [],
   "source": [
    "data['recovered_confounder_model_2']=add_confounders_to_df(data, \n",
    "                                                           confounder_vectors=confounder_vectors, \n",
    "                                                           mode_ids = [1,2,3], \n",
    "                                                           suffix = '_method_2')\n",
    "\n",
    "data['recovered_confounder_model_3']=add_confounders_to_df(data, \n",
    "                                                           confounder_vectors=confounder_vectors_2, \n",
    "                                                           mode_ids = [1,2,3], \n",
    "                                                           suffix = '_method_3')"
   ]
  },
  {
   "cell_type": "markdown",
   "metadata": {},
   "source": [
    "# Compare recovered confounder to actual confounder\n",
    "\n",
    "Notice here that although the recovered confounder correlates well with the true confounder, there is more noise in method 1 where we use all the variables in each utility to recover the confounder. Method 2 has less noise, but as we will see later in the notebook, this noise is still high enough that our estimates on travel_time and travel_cost will still be biased even after adjusting for the recovered confounder."
   ]
  },
  {
   "cell_type": "code",
   "execution_count": 11,
   "metadata": {
    "scrolled": false
   },
   "outputs": [
    {
     "name": "stderr",
     "output_type": "stream",
     "text": [
      "'c' argument looks like a single numeric RGB or RGBA sequence, which should be avoided as value-mapping will have precedence in case its length matches with 'x' & 'y'.  Please use a 2-D array with a single row if you really want to specify the same RGB or RGBA value for all points.\n",
      "'c' argument looks like a single numeric RGB or RGBA sequence, which should be avoided as value-mapping will have precedence in case its length matches with 'x' & 'y'.  Please use a 2-D array with a single row if you really want to specify the same RGB or RGBA value for all points.\n"
     ]
    },
    {
     "data": {
      "text/plain": [
       "<matplotlib.axes._subplots.AxesSubplot at 0x7fdbd3ee1978>"
      ]
     },
     "execution_count": 11,
     "metadata": {},
     "output_type": "execute_result"
    },
    {
     "data": {
      "image/png": "[encoded data removed]",
      "text/plain": [
       "<Figure size 432x288 with 1 Axes>"
      ]
     },
     "metadata": {
      "needs_background": "light"
     },
     "output_type": "display_data"
    },
    {
     "data": {
      "image/png": "[encoded data removed]",
      "text/plain": [
       "<Figure size 432x288 with 1 Axes>"
      ]
     },
     "metadata": {
      "needs_background": "light"
     },
     "output_type": "display_data"
    }
   ],
   "source": [
    "data_da = data[data['mode_id']==1]\n",
    "\n",
    "data_da.plot.scatter('total_travel_distance', 'recovered_confounder_model_2')\n",
    "\n",
    "data_da.plot.scatter('total_travel_distance', 'recovered_confounder_model_3')"
   ]
  },
  {
   "cell_type": "markdown",
   "metadata": {},
   "source": [
    "## True Model"
   ]
  },
  {
   "cell_type": "code",
   "execution_count": 12,
   "metadata": {},
   "outputs": [
    {
     "name": "stderr",
     "output_type": "stream",
     "text": [
      "/Users/hassanobeid/anaconda3/lib/python3.7/site-packages/pylogit/choice_tools.py:703: FutureWarning: arrays to stack must be passed as a \"sequence\" type such as list or tuple. Support for non-sequence iterables such as generators is deprecated as of NumPy 1.16 and will raise an error in the future.\n",
      "  design_matrix = np.hstack((x[:, None] for x in independent_vars))\n"
     ]
    },
    {
     "name": "stdout",
     "output_type": "stream",
     "text": [
      "Log-likelihood at zero: -15,176.6986\n",
      "Initial Log-likelihood: -15,176.6986\n"
     ]
    },
    {
     "name": "stderr",
     "output_type": "stream",
     "text": [
      "/Users/hassanobeid/anaconda3/lib/python3.7/site-packages/scipy/optimize/_minimize.py:506: RuntimeWarning: Method BFGS does not use Hessian information (hess).\n",
      "  RuntimeWarning)\n"
     ]
    },
    {
     "name": "stdout",
     "output_type": "stream",
     "text": [
      "Estimation Time for Point Estimation: 0.31 seconds.\n",
      "Final log-likelihood: -8,116.6614\n"
     ]
    },
    {
     "data": {
      "text/html": [
       "<table class=\"simpletable\">\n",
       "<caption>Multinomial Logit Model Regression Results</caption>\n",
       "<tr>\n",
       "  <th>Dep. Variable:</th>       <td>sim_choice</td>        <th>  No. Observations:  </th>    <td>8,000</td>   \n",
       "</tr>\n",
       "<tr>\n",
       "  <th>Model:</th>         <td>Multinomial Logit Model</td> <th>  Df Residuals:      </th>    <td>7,976</td>   \n",
       "</tr>\n",
       "<tr>\n",
       "  <th>Method:</th>                  <td>MLE</td>           <th>  Df Model:          </th>     <td>24</td>     \n",
       "</tr>\n",
       "<tr>\n",
       "  <th>Date:</th>             <td>Fri, 18 Dec 2020</td>     <th>  Pseudo R-squ.:     </th>    <td>0.465</td>   \n",
       "</tr>\n",
       "<tr>\n",
       "  <th>Time:</th>                 <td>18:53:41</td>         <th>  Pseudo R-bar-squ.: </th>    <td>0.464</td>   \n",
       "</tr>\n",
       "<tr>\n",
       "  <th>AIC:</th>                 <td>16,281.323</td>        <th>  Log-Likelihood:    </th> <td>-8,116.661</td> \n",
       "</tr>\n",
       "<tr>\n",
       "  <th>BIC:</th>                 <td>16,449.016</td>        <th>  LL-Null:           </th> <td>-15,176.699</td>\n",
       "</tr>\n",
       "</table>\n",
       "<table class=\"simpletable\">\n",
       "<tr>\n",
       "                          <td></td>                            <th>coef</th>     <th>std err</th>      <th>z</th>      <th>P>|z|</th>  <th>[0.025</th>    <th>0.975]</th>  \n",
       "</tr>\n",
       "<tr>\n",
       "  <th>ASC Shared Ride: 2</th>                               <td>   -1.4806</td> <td>    0.125</td> <td>  -11.831</td> <td> 0.000</td> <td>   -1.726</td> <td>   -1.235</td>\n",
       "</tr>\n",
       "<tr>\n",
       "  <th>ASC Shared Ride: 3+</th>                              <td>   -1.0591</td> <td>    0.135</td> <td>   -7.847</td> <td> 0.000</td> <td>   -1.324</td> <td>   -0.795</td>\n",
       "</tr>\n",
       "<tr>\n",
       "  <th>ASC Walk-Transit-Walk</th>                            <td>    0.9292</td> <td>    0.131</td> <td>    7.078</td> <td> 0.000</td> <td>    0.672</td> <td>    1.186</td>\n",
       "</tr>\n",
       "<tr>\n",
       "  <th>ASC Drive-Transit-Walk</th>                           <td>   -1.4083</td> <td>    0.145</td> <td>   -9.716</td> <td> 0.000</td> <td>   -1.692</td> <td>   -1.124</td>\n",
       "</tr>\n",
       "<tr>\n",
       "  <th>ASC Walk-Transit-Drive</th>                           <td>   -1.6138</td> <td>    0.150</td> <td>  -10.788</td> <td> 0.000</td> <td>   -1.907</td> <td>   -1.321</td>\n",
       "</tr>\n",
       "<tr>\n",
       "  <th>ASC Walk</th>                                         <td>    3.0480</td> <td>    0.135</td> <td>   22.606</td> <td> 0.000</td> <td>    2.784</td> <td>    3.312</td>\n",
       "</tr>\n",
       "<tr>\n",
       "  <th>ASC Bike</th>                                         <td>    0.2714</td> <td>    0.103</td> <td>    2.627</td> <td> 0.009</td> <td>    0.069</td> <td>    0.474</td>\n",
       "</tr>\n",
       "<tr>\n",
       "  <th>Travel Time, units:min (Drive Alone)</th>             <td>   -0.0844</td> <td>    0.005</td> <td>  -16.886</td> <td> 0.000</td> <td>   -0.094</td> <td>   -0.075</td>\n",
       "</tr>\n",
       "<tr>\n",
       "  <th>Travel Time, units:min (SharedRide-2)</th>            <td>   -0.0903</td> <td>    0.006</td> <td>  -14.750</td> <td> 0.000</td> <td>   -0.102</td> <td>   -0.078</td>\n",
       "</tr>\n",
       "<tr>\n",
       "  <th>Travel Time, units:min (SharedRide-3+)</th>           <td>   -0.1261</td> <td>    0.008</td> <td>  -16.050</td> <td> 0.000</td> <td>   -0.141</td> <td>   -0.111</td>\n",
       "</tr>\n",
       "<tr>\n",
       "  <th>Travel Time, units:min (All Transit Modes)</th>       <td>   -0.0297</td> <td>    0.002</td> <td>  -19.750</td> <td> 0.000</td> <td>   -0.033</td> <td>   -0.027</td>\n",
       "</tr>\n",
       "<tr>\n",
       "  <th>Travel Cost, units:$ (Drive Alone)</th>               <td>   -0.2292</td> <td>    0.026</td> <td>   -8.744</td> <td> 0.000</td> <td>   -0.281</td> <td>   -0.178</td>\n",
       "</tr>\n",
       "<tr>\n",
       "  <th>Travel Cost, units:$ (SharedRide-2)</th>              <td>   -0.4378</td> <td>    0.057</td> <td>   -7.636</td> <td> 0.000</td> <td>   -0.550</td> <td>   -0.325</td>\n",
       "</tr>\n",
       "<tr>\n",
       "  <th>Travel Cost, units:$ (SharedRide-3+)</th>             <td>   -0.7461</td> <td>    0.157</td> <td>   -4.749</td> <td> 0.000</td> <td>   -1.054</td> <td>   -0.438</td>\n",
       "</tr>\n",
       "<tr>\n",
       "  <th>Travel Cost, units:$ (All Transit Modes)</th>         <td>   -0.1180</td> <td>    0.019</td> <td>   -6.316</td> <td> 0.000</td> <td>   -0.155</td> <td>   -0.081</td>\n",
       "</tr>\n",
       "<tr>\n",
       "  <th>Autos per licensed drivers (All Auto Modes)</th>      <td>    1.3336</td> <td>    0.055</td> <td>   24.051</td> <td> 0.000</td> <td>    1.225</td> <td>    1.442</td>\n",
       "</tr>\n",
       "<tr>\n",
       "  <th>Travel Distance, units:mi (Drive Alone)</th>          <td>    0.1056</td> <td>    0.009</td> <td>   11.880</td> <td> 0.000</td> <td>    0.088</td> <td>    0.123</td>\n",
       "</tr>\n",
       "<tr>\n",
       "  <th>Travel Distance, units:mi (SharedRide-2)</th>         <td>    0.0637</td> <td>    0.011</td> <td>    5.689</td> <td> 0.000</td> <td>    0.042</td> <td>    0.086</td>\n",
       "</tr>\n",
       "<tr>\n",
       "  <th>Travel Distance, units:mi (SharedRide-3+)</th>        <td>    0.0359</td> <td>    0.017</td> <td>    2.057</td> <td> 0.040</td> <td>    0.002</td> <td>    0.070</td>\n",
       "</tr>\n",
       "<tr>\n",
       "  <th>Travel Distance, units:mi (Walk)</th>                 <td>   -1.0998</td> <td>    0.037</td> <td>  -30.075</td> <td> 0.000</td> <td>   -1.171</td> <td>   -1.028</td>\n",
       "</tr>\n",
       "<tr>\n",
       "  <th>Travel Distance, units:mi (Bike)</th>                 <td>   -0.3209</td> <td>    0.016</td> <td>  -20.290</td> <td> 0.000</td> <td>   -0.352</td> <td>   -0.290</td>\n",
       "</tr>\n",
       "<tr>\n",
       "  <th>Cross-Bay Tour (Shared Ride 2 & 3+)</th>              <td>    0.6706</td> <td>    0.123</td> <td>    5.459</td> <td> 0.000</td> <td>    0.430</td> <td>    0.911</td>\n",
       "</tr>\n",
       "<tr>\n",
       "  <th>Household Size (Shared Ride 2 & 3+)</th>              <td>    0.1142</td> <td>    0.022</td> <td>    5.194</td> <td> 0.000</td> <td>    0.071</td> <td>    0.157</td>\n",
       "</tr>\n",
       "<tr>\n",
       "  <th>Number of Kids in Household (Shared Ride 2 & 3+)</th> <td>    0.5737</td> <td>    0.026</td> <td>   21.827</td> <td> 0.000</td> <td>    0.522</td> <td>    0.625</td>\n",
       "</tr>\n",
       "</table>"
      ],
      "text/plain": [
       "<class 'statsmodels.iolib.summary.Summary'>\n",
       "\"\"\"\n",
       "                     Multinomial Logit Model Regression Results                    \n",
       "===================================================================================\n",
       "Dep. Variable:                  sim_choice   No. Observations:                8,000\n",
       "Model:             Multinomial Logit Model   Df Residuals:                    7,976\n",
       "Method:                                MLE   Df Model:                           24\n",
       "Date:                     Fri, 18 Dec 2020   Pseudo R-squ.:                   0.465\n",
       "Time:                             18:53:41   Pseudo R-bar-squ.:               0.464\n",
       "AIC:                            16,281.323   Log-Likelihood:             -8,116.661\n",
       "BIC:                            16,449.016   LL-Null:                   -15,176.699\n",
       "====================================================================================================================\n",
       "                                                       coef    std err          z      P>|z|      [0.025      0.975]\n",
       "--------------------------------------------------------------------------------------------------------------------\n",
       "ASC Shared Ride: 2                                  -1.4806      0.125    -11.831      0.000      -1.726      -1.235\n",
       "ASC Shared Ride: 3+                                 -1.0591      0.135     -7.847      0.000      -1.324      -0.795\n",
       "ASC Walk-Transit-Walk                                0.9292      0.131      7.078      0.000       0.672       1.186\n",
       "ASC Drive-Transit-Walk                              -1.4083      0.145     -9.716      0.000      -1.692      -1.124\n",
       "ASC Walk-Transit-Drive                              -1.6138      0.150    -10.788      0.000      -1.907      -1.321\n",
       "ASC Walk                                             3.0480      0.135     22.606      0.000       2.784       3.312\n",
       "ASC Bike                                             0.2714      0.103      2.627      0.009       0.069       0.474\n",
       "Travel Time, units:min (Drive Alone)                -0.0844      0.005    -16.886      0.000      -0.094      -0.075\n",
       "Travel Time, units:min (SharedRide-2)               -0.0903      0.006    -14.750      0.000      -0.102      -0.078\n",
       "Travel Time, units:min (SharedRide-3+)              -0.1261      0.008    -16.050      0.000      -0.141      -0.111\n",
       "Travel Time, units:min (All Transit Modes)          -0.0297      0.002    -19.750      0.000      -0.033      -0.027\n",
       "Travel Cost, units:$ (Drive Alone)                  -0.2292      0.026     -8.744      0.000      -0.281      -0.178\n",
       "Travel Cost, units:$ (SharedRide-2)                 -0.4378      0.057     -7.636      0.000      -0.550      -0.325\n",
       "Travel Cost, units:$ (SharedRide-3+)                -0.7461      0.157     -4.749      0.000      -1.054      -0.438\n",
       "Travel Cost, units:$ (All Transit Modes)            -0.1180      0.019     -6.316      0.000      -0.155      -0.081\n",
       "Autos per licensed drivers (All Auto Modes)          1.3336      0.055     24.051      0.000       1.225       1.442\n",
       "Travel Distance, units:mi (Drive Alone)              0.1056      0.009     11.880      0.000       0.088       0.123\n",
       "Travel Distance, units:mi (SharedRide-2)             0.0637      0.011      5.689      0.000       0.042       0.086\n",
       "Travel Distance, units:mi (SharedRide-3+)            0.0359      0.017      2.057      0.040       0.002       0.070\n",
       "Travel Distance, units:mi (Walk)                    -1.0998      0.037    -30.075      0.000      -1.171      -1.028\n",
       "Travel Distance, units:mi (Bike)                    -0.3209      0.016    -20.290      0.000      -0.352      -0.290\n",
       "Cross-Bay Tour (Shared Ride 2 & 3+)                  0.6706      0.123      5.459      0.000       0.430       0.911\n",
       "Household Size (Shared Ride 2 & 3+)                  0.1142      0.022      5.194      0.000       0.071       0.157\n",
       "Number of Kids in Household (Shared Ride 2 & 3+)     0.5737      0.026     21.827      0.000       0.522       0.625\n",
       "====================================================================================================================\n",
       "\"\"\""
      ]
     },
     "execution_count": 12,
     "metadata": {},
     "output_type": "execute_result"
    }
   ],
   "source": [
    "# Estimate the basic MNL model, using the hessian and newton-conjugate gradient\n",
    "mnl_model = cm.create_choice_model(data=data,\n",
    "                                   alt_id_col=\"mode_id\",\n",
    "                                   obs_id_col=\"observation_id\",\n",
    "                                   choice_col=\"sim_choice\",\n",
    "                                   specification=mnl_specification,\n",
    "                                   model_type=\"MNL\",\n",
    "                                   names=mnl_names)\n",
    "\n",
    "num_vars = len(reduce(lambda x, y: x + y, mnl_names.values()))\n",
    "mnl_model.fit_mle(np.zeros(num_vars),\n",
    "                  method=\"BFGS\")\n",
    "mnl_model.get_statsmodels_summary()"
   ]
  },
  {
   "cell_type": "markdown",
   "metadata": {},
   "source": [
    "## Model 1"
   ]
  },
  {
   "cell_type": "code",
   "execution_count": 13,
   "metadata": {},
   "outputs": [],
   "source": [
    "# Create my specification and variable names for the basic MNL model\n",
    "# NOTE: - Keys should be variables within the long format dataframe.\n",
    "#         The sole exception to this is the \"intercept\" key.\n",
    "#       - For the specification dictionary, the values should be lists\n",
    "#         or lists of lists. Within a list, or within the inner-most\n",
    "#         list should be the alternative ID's of the alternative whose\n",
    "#         utility specification the explanatory variable is entering.\n",
    "\n",
    "mnl_specification_noncausal = OrderedDict()\n",
    "mnl_names_noncausal = OrderedDict()\n",
    "\n",
    "mnl_specification_noncausal[\"intercept\"] = [2, 3, 4, 5, 6, 7, 8]\n",
    "mnl_names_noncausal[\"intercept\"] = ['ASC Shared Ride: 2',\n",
    "                          'ASC Shared Ride: 3+',\n",
    "                          'ASC Walk-Transit-Walk',\n",
    "                          'ASC Drive-Transit-Walk',\n",
    "                          'ASC Walk-Transit-Drive',\n",
    "                          'ASC Walk',\n",
    "                          'ASC Bike']\n",
    "\n",
    "mnl_specification_noncausal[\"total_travel_time\"] = [1, 2, 3, [4, 5, 6]]\n",
    "mnl_names_noncausal[\"total_travel_time\"] = ['Travel Time, units:min (Drive Alone)',\n",
    "                                  'Travel Time, units:min (SharedRide-2)',\n",
    "                                  'Travel Time, units:min (SharedRide-3+)',\n",
    "                                  'Travel Time, units:min (All Transit Modes)']\n",
    "\n",
    "mnl_specification_noncausal[\"total_travel_cost\"] = [1, 2, 3, [4, 5, 6]]\n",
    "mnl_names_noncausal[\"total_travel_cost\"] = ['Travel Cost, units:$ (Drive Alone)',\n",
    "                                  'Travel Cost, units:$ (SharedRide-2)',\n",
    "                                  'Travel Cost, units:$ (SharedRide-3+)',\n",
    "                                  'Travel Cost, units:$ (All Transit Modes)']\n",
    "\n",
    "mnl_specification_noncausal[\"cars_per_licensed_drivers\"] = [[1, 2, 3]]\n",
    "mnl_names_noncausal[\"cars_per_licensed_drivers\"] = [\"Autos per licensed drivers (All Auto Modes)\"]\n",
    "\n",
    "mnl_specification_noncausal[\"cross_bay\"] = [[2, 3]]\n",
    "mnl_names_noncausal[\"cross_bay\"] = [\"Cross-Bay Tour (Shared Ride 2 & 3+)\"]\n",
    "\n",
    "mnl_specification_noncausal[\"household_size\"] = [[2, 3]]\n",
    "mnl_names_noncausal[\"household_size\"] = ['Household Size (Shared Ride 2 & 3+)']\n",
    "\n",
    "mnl_specification_noncausal[\"num_kids\"] = [[2, 3]]\n",
    "mnl_names_noncausal[\"num_kids\"] = [\"Number of Kids in Household (Shared Ride 2 & 3+)\"]"
   ]
  },
  {
   "cell_type": "code",
   "execution_count": 14,
   "metadata": {},
   "outputs": [
    {
     "name": "stderr",
     "output_type": "stream",
     "text": [
      "/Users/hassanobeid/anaconda3/lib/python3.7/site-packages/pylogit/choice_tools.py:703: FutureWarning: arrays to stack must be passed as a \"sequence\" type such as list or tuple. Support for non-sequence iterables such as generators is deprecated as of NumPy 1.16 and will raise an error in the future.\n",
      "  design_matrix = np.hstack((x[:, None] for x in independent_vars))\n"
     ]
    },
    {
     "name": "stdout",
     "output_type": "stream",
     "text": [
      "Log-likelihood at zero: -15,176.6986\n",
      "Initial Log-likelihood: -15,176.6986\n"
     ]
    },
    {
     "name": "stderr",
     "output_type": "stream",
     "text": [
      "/Users/hassanobeid/anaconda3/lib/python3.7/site-packages/scipy/optimize/_minimize.py:506: RuntimeWarning: Method BFGS does not use Hessian information (hess).\n",
      "  RuntimeWarning)\n"
     ]
    },
    {
     "name": "stdout",
     "output_type": "stream",
     "text": [
      "Estimation Time for Point Estimation: 0.23 seconds.\n",
      "Final log-likelihood: -10,288.5691\n"
     ]
    },
    {
     "data": {
      "text/html": [
       "<table class=\"simpletable\">\n",
       "<caption>Multinomial Logit Model Regression Results</caption>\n",
       "<tr>\n",
       "  <th>Dep. Variable:</th>       <td>sim_choice</td>        <th>  No. Observations:  </th>    <td>8,000</td>   \n",
       "</tr>\n",
       "<tr>\n",
       "  <th>Model:</th>         <td>Multinomial Logit Model</td> <th>  Df Residuals:      </th>    <td>7,981</td>   \n",
       "</tr>\n",
       "<tr>\n",
       "  <th>Method:</th>                  <td>MLE</td>           <th>  Df Model:          </th>     <td>19</td>     \n",
       "</tr>\n",
       "<tr>\n",
       "  <th>Date:</th>             <td>Fri, 18 Dec 2020</td>     <th>  Pseudo R-squ.:     </th>    <td>0.322</td>   \n",
       "</tr>\n",
       "<tr>\n",
       "  <th>Time:</th>                 <td>18:54:25</td>         <th>  Pseudo R-bar-squ.: </th>    <td>0.321</td>   \n",
       "</tr>\n",
       "<tr>\n",
       "  <th>AIC:</th>                 <td>20,615.138</td>        <th>  Log-Likelihood:    </th> <td>-10,288.569</td>\n",
       "</tr>\n",
       "<tr>\n",
       "  <th>BIC:</th>                 <td>20,747.895</td>        <th>  LL-Null:           </th> <td>-15,176.699</td>\n",
       "</tr>\n",
       "</table>\n",
       "<table class=\"simpletable\">\n",
       "<tr>\n",
       "                          <td></td>                            <th>coef</th>     <th>std err</th>      <th>z</th>      <th>P>|z|</th>  <th>[0.025</th>    <th>0.975]</th>  \n",
       "</tr>\n",
       "<tr>\n",
       "  <th>ASC Shared Ride: 2</th>                               <td>   -1.1772</td> <td>    0.116</td> <td>  -10.187</td> <td> 0.000</td> <td>   -1.404</td> <td>   -0.951</td>\n",
       "</tr>\n",
       "<tr>\n",
       "  <th>ASC Shared Ride: 3+</th>                              <td>   -0.7079</td> <td>    0.126</td> <td>   -5.628</td> <td> 0.000</td> <td>   -0.954</td> <td>   -0.461</td>\n",
       "</tr>\n",
       "<tr>\n",
       "  <th>ASC Walk-Transit-Walk</th>                            <td>    0.9579</td> <td>    0.122</td> <td>    7.877</td> <td> 0.000</td> <td>    0.720</td> <td>    1.196</td>\n",
       "</tr>\n",
       "<tr>\n",
       "  <th>ASC Drive-Transit-Walk</th>                           <td>   -1.2297</td> <td>    0.138</td> <td>   -8.930</td> <td> 0.000</td> <td>   -1.500</td> <td>   -0.960</td>\n",
       "</tr>\n",
       "<tr>\n",
       "  <th>ASC Walk-Transit-Drive</th>                           <td>   -1.4191</td> <td>    0.143</td> <td>   -9.955</td> <td> 0.000</td> <td>   -1.699</td> <td>   -1.140</td>\n",
       "</tr>\n",
       "<tr>\n",
       "  <th>ASC Walk</th>                                         <td>   -1.0122</td> <td>    0.074</td> <td>  -13.670</td> <td> 0.000</td> <td>   -1.157</td> <td>   -0.867</td>\n",
       "</tr>\n",
       "<tr>\n",
       "  <th>ASC Bike</th>                                         <td>   -1.2166</td> <td>    0.075</td> <td>  -16.141</td> <td> 0.000</td> <td>   -1.364</td> <td>   -1.069</td>\n",
       "</tr>\n",
       "<tr>\n",
       "  <th>Travel Time, units:min (Drive Alone)</th>             <td>   -0.0386</td> <td>    0.003</td> <td>  -11.916</td> <td> 0.000</td> <td>   -0.045</td> <td>   -0.032</td>\n",
       "</tr>\n",
       "<tr>\n",
       "  <th>Travel Time, units:min (SharedRide-2)</th>            <td>   -0.0623</td> <td>    0.004</td> <td>  -14.178</td> <td> 0.000</td> <td>   -0.071</td> <td>   -0.054</td>\n",
       "</tr>\n",
       "<tr>\n",
       "  <th>Travel Time, units:min (SharedRide-3+)</th>           <td>   -0.1087</td> <td>    0.006</td> <td>  -16.983</td> <td> 0.000</td> <td>   -0.121</td> <td>   -0.096</td>\n",
       "</tr>\n",
       "<tr>\n",
       "  <th>Travel Time, units:min (All Transit Modes)</th>       <td>   -0.0271</td> <td>    0.001</td> <td>  -19.033</td> <td> 0.000</td> <td>   -0.030</td> <td>   -0.024</td>\n",
       "</tr>\n",
       "<tr>\n",
       "  <th>Travel Cost, units:$ (Drive Alone)</th>               <td>   -0.0210</td> <td>    0.018</td> <td>   -1.138</td> <td> 0.255</td> <td>   -0.057</td> <td>    0.015</td>\n",
       "</tr>\n",
       "<tr>\n",
       "  <th>Travel Cost, units:$ (SharedRide-2)</th>              <td>   -0.2069</td> <td>    0.041</td> <td>   -4.996</td> <td> 0.000</td> <td>   -0.288</td> <td>   -0.126</td>\n",
       "</tr>\n",
       "<tr>\n",
       "  <th>Travel Cost, units:$ (SharedRide-3+)</th>             <td>   -0.4500</td> <td>    0.100</td> <td>   -4.505</td> <td> 0.000</td> <td>   -0.646</td> <td>   -0.254</td>\n",
       "</tr>\n",
       "<tr>\n",
       "  <th>Travel Cost, units:$ (All Transit Modes)</th>         <td>   -0.1086</td> <td>    0.018</td> <td>   -6.073</td> <td> 0.000</td> <td>   -0.144</td> <td>   -0.074</td>\n",
       "</tr>\n",
       "<tr>\n",
       "  <th>Autos per licensed drivers (All Auto Modes)</th>      <td>    1.0899</td> <td>    0.050</td> <td>   22.013</td> <td> 0.000</td> <td>    0.993</td> <td>    1.187</td>\n",
       "</tr>\n",
       "<tr>\n",
       "  <th>Cross-Bay Tour (Shared Ride 2 & 3+)</th>              <td>    0.6499</td> <td>    0.116</td> <td>    5.620</td> <td> 0.000</td> <td>    0.423</td> <td>    0.876</td>\n",
       "</tr>\n",
       "<tr>\n",
       "  <th>Household Size (Shared Ride 2 & 3+)</th>              <td>    0.0980</td> <td>    0.021</td> <td>    4.726</td> <td> 0.000</td> <td>    0.057</td> <td>    0.139</td>\n",
       "</tr>\n",
       "<tr>\n",
       "  <th>Number of Kids in Household (Shared Ride 2 & 3+)</th> <td>    0.5143</td> <td>    0.025</td> <td>   20.723</td> <td> 0.000</td> <td>    0.466</td> <td>    0.563</td>\n",
       "</tr>\n",
       "</table>"
      ],
      "text/plain": [
       "<class 'statsmodels.iolib.summary.Summary'>\n",
       "\"\"\"\n",
       "                     Multinomial Logit Model Regression Results                    \n",
       "===================================================================================\n",
       "Dep. Variable:                  sim_choice   No. Observations:                8,000\n",
       "Model:             Multinomial Logit Model   Df Residuals:                    7,981\n",
       "Method:                                MLE   Df Model:                           19\n",
       "Date:                     Fri, 18 Dec 2020   Pseudo R-squ.:                   0.322\n",
       "Time:                             18:54:25   Pseudo R-bar-squ.:               0.321\n",
       "AIC:                            20,615.138   Log-Likelihood:            -10,288.569\n",
       "BIC:                            20,747.895   LL-Null:                   -15,176.699\n",
       "====================================================================================================================\n",
       "                                                       coef    std err          z      P>|z|      [0.025      0.975]\n",
       "--------------------------------------------------------------------------------------------------------------------\n",
       "ASC Shared Ride: 2                                  -1.1772      0.116    -10.187      0.000      -1.404      -0.951\n",
       "ASC Shared Ride: 3+                                 -0.7079      0.126     -5.628      0.000      -0.954      -0.461\n",
       "ASC Walk-Transit-Walk                                0.9579      0.122      7.877      0.000       0.720       1.196\n",
       "ASC Drive-Transit-Walk                              -1.2297      0.138     -8.930      0.000      -1.500      -0.960\n",
       "ASC Walk-Transit-Drive                              -1.4191      0.143     -9.955      0.000      -1.699      -1.140\n",
       "ASC Walk                                            -1.0122      0.074    -13.670      0.000      -1.157      -0.867\n",
       "ASC Bike                                            -1.2166      0.075    -16.141      0.000      -1.364      -1.069\n",
       "Travel Time, units:min (Drive Alone)                -0.0386      0.003    -11.916      0.000      -0.045      -0.032\n",
       "Travel Time, units:min (SharedRide-2)               -0.0623      0.004    -14.178      0.000      -0.071      -0.054\n",
       "Travel Time, units:min (SharedRide-3+)              -0.1087      0.006    -16.983      0.000      -0.121      -0.096\n",
       "Travel Time, units:min (All Transit Modes)          -0.0271      0.001    -19.033      0.000      -0.030      -0.024\n",
       "Travel Cost, units:$ (Drive Alone)                  -0.0210      0.018     -1.138      0.255      -0.057       0.015\n",
       "Travel Cost, units:$ (SharedRide-2)                 -0.2069      0.041     -4.996      0.000      -0.288      -0.126\n",
       "Travel Cost, units:$ (SharedRide-3+)                -0.4500      0.100     -4.505      0.000      -0.646      -0.254\n",
       "Travel Cost, units:$ (All Transit Modes)            -0.1086      0.018     -6.073      0.000      -0.144      -0.074\n",
       "Autos per licensed drivers (All Auto Modes)          1.0899      0.050     22.013      0.000       0.993       1.187\n",
       "Cross-Bay Tour (Shared Ride 2 & 3+)                  0.6499      0.116      5.620      0.000       0.423       0.876\n",
       "Household Size (Shared Ride 2 & 3+)                  0.0980      0.021      4.726      0.000       0.057       0.139\n",
       "Number of Kids in Household (Shared Ride 2 & 3+)     0.5143      0.025     20.723      0.000       0.466       0.563\n",
       "====================================================================================================================\n",
       "\"\"\""
      ]
     },
     "execution_count": 14,
     "metadata": {},
     "output_type": "execute_result"
    }
   ],
   "source": [
    "# Estimate the basic MNL model, using the hessian and newton-conjugate gradient\n",
    "mnl_model_noncausal = cm.create_choice_model(data=data,\n",
    "                                             alt_id_col=\"mode_id\",\n",
    "                                             obs_id_col=\"observation_id\",\n",
    "                                             choice_col=\"sim_choice\",\n",
    "                                             specification=mnl_specification_noncausal,\n",
    "                                             model_type=\"MNL\",\n",
    "                                             names=mnl_names_noncausal)\n",
    "\n",
    "num_vars_noncausal = len(reduce(lambda x, y: x + y, mnl_names_noncausal.values()))\n",
    "mnl_model_noncausal.fit_mle(np.zeros(num_vars_noncausal),\n",
    "                  method=\"BFGS\")\n",
    "\n",
    "# Look at the estimation results\n",
    "mnl_model_noncausal.get_statsmodels_summary()"
   ]
  },
  {
   "cell_type": "markdown",
   "metadata": {},
   "source": [
    "## Model 2"
   ]
  },
  {
   "cell_type": "code",
   "execution_count": 15,
   "metadata": {},
   "outputs": [],
   "source": [
    "mnl_specification_causal_1 = mnl_specification_noncausal.copy()\n",
    "mnl_names_causal_1 = mnl_names_noncausal.copy()\n",
    "\n",
    "mnl_specification_causal_1[\"recovered_confounder_model_2\"] = [1, 2, 3]\n",
    "mnl_names_causal_1[\"recovered_confounder_model_2\"] = [\"Confounder - Drive alone\",\n",
    "                                     \"Confounder - Shared ride 2\", \n",
    "                                     \"Confounder - Shared ride 3\"]"
   ]
  },
  {
   "cell_type": "code",
   "execution_count": 16,
   "metadata": {},
   "outputs": [
    {
     "name": "stderr",
     "output_type": "stream",
     "text": [
      "/Users/hassanobeid/anaconda3/lib/python3.7/site-packages/pylogit/choice_tools.py:703: FutureWarning: arrays to stack must be passed as a \"sequence\" type such as list or tuple. Support for non-sequence iterables such as generators is deprecated as of NumPy 1.16 and will raise an error in the future.\n",
      "  design_matrix = np.hstack((x[:, None] for x in independent_vars))\n"
     ]
    },
    {
     "name": "stdout",
     "output_type": "stream",
     "text": [
      "Log-likelihood at zero: -15,176.6986\n",
      "Initial Log-likelihood: -15,176.6986\n"
     ]
    },
    {
     "name": "stderr",
     "output_type": "stream",
     "text": [
      "/Users/hassanobeid/anaconda3/lib/python3.7/site-packages/scipy/optimize/_minimize.py:506: RuntimeWarning: Method BFGS does not use Hessian information (hess).\n",
      "  RuntimeWarning)\n"
     ]
    },
    {
     "name": "stdout",
     "output_type": "stream",
     "text": [
      "Estimation Time for Point Estimation: 0.24 seconds.\n",
      "Final log-likelihood: -10,287.6718\n"
     ]
    },
    {
     "data": {
      "text/html": [
       "<table class=\"simpletable\">\n",
       "<caption>Multinomial Logit Model Regression Results</caption>\n",
       "<tr>\n",
       "  <th>Dep. Variable:</th>       <td>sim_choice</td>        <th>  No. Observations:  </th>    <td>8,000</td>   \n",
       "</tr>\n",
       "<tr>\n",
       "  <th>Model:</th>         <td>Multinomial Logit Model</td> <th>  Df Residuals:      </th>    <td>7,978</td>   \n",
       "</tr>\n",
       "<tr>\n",
       "  <th>Method:</th>                  <td>MLE</td>           <th>  Df Model:          </th>     <td>22</td>     \n",
       "</tr>\n",
       "<tr>\n",
       "  <th>Date:</th>             <td>Fri, 18 Dec 2020</td>     <th>  Pseudo R-squ.:     </th>    <td>0.322</td>   \n",
       "</tr>\n",
       "<tr>\n",
       "  <th>Time:</th>                 <td>18:55:08</td>         <th>  Pseudo R-bar-squ.: </th>    <td>0.321</td>   \n",
       "</tr>\n",
       "<tr>\n",
       "  <th>AIC:</th>                 <td>20,619.344</td>        <th>  Log-Likelihood:    </th> <td>-10,287.672</td>\n",
       "</tr>\n",
       "<tr>\n",
       "  <th>BIC:</th>                 <td>20,773.062</td>        <th>  LL-Null:           </th> <td>-15,176.699</td>\n",
       "</tr>\n",
       "</table>\n",
       "<table class=\"simpletable\">\n",
       "<tr>\n",
       "                          <td></td>                            <th>coef</th>     <th>std err</th>      <th>z</th>      <th>P>|z|</th>  <th>[0.025</th>    <th>0.975]</th>  \n",
       "</tr>\n",
       "<tr>\n",
       "  <th>ASC Shared Ride: 2</th>                               <td>   -1.2694</td> <td>    0.137</td> <td>   -9.252</td> <td> 0.000</td> <td>   -1.538</td> <td>   -1.000</td>\n",
       "</tr>\n",
       "<tr>\n",
       "  <th>ASC Shared Ride: 3+</th>                              <td>   -0.7710</td> <td>    0.145</td> <td>   -5.334</td> <td> 0.000</td> <td>   -1.054</td> <td>   -0.488</td>\n",
       "</tr>\n",
       "<tr>\n",
       "  <th>ASC Walk-Transit-Walk</th>                            <td>    0.9297</td> <td>    0.131</td> <td>    7.085</td> <td> 0.000</td> <td>    0.672</td> <td>    1.187</td>\n",
       "</tr>\n",
       "<tr>\n",
       "  <th>ASC Drive-Transit-Walk</th>                           <td>   -1.2578</td> <td>    0.146</td> <td>   -8.608</td> <td> 0.000</td> <td>   -1.544</td> <td>   -0.971</td>\n",
       "</tr>\n",
       "<tr>\n",
       "  <th>ASC Walk-Transit-Drive</th>                           <td>   -1.4473</td> <td>    0.151</td> <td>   -9.601</td> <td> 0.000</td> <td>   -1.743</td> <td>   -1.152</td>\n",
       "</tr>\n",
       "<tr>\n",
       "  <th>ASC Walk</th>                                         <td>   -1.0404</td> <td>    0.089</td> <td>  -11.731</td> <td> 0.000</td> <td>   -1.214</td> <td>   -0.867</td>\n",
       "</tr>\n",
       "<tr>\n",
       "  <th>ASC Bike</th>                                         <td>   -1.2447</td> <td>    0.090</td> <td>  -13.865</td> <td> 0.000</td> <td>   -1.421</td> <td>   -1.069</td>\n",
       "</tr>\n",
       "<tr>\n",
       "  <th>Travel Time, units:min (Drive Alone)</th>             <td>   -0.0393</td> <td>    0.003</td> <td>  -11.635</td> <td> 0.000</td> <td>   -0.046</td> <td>   -0.033</td>\n",
       "</tr>\n",
       "<tr>\n",
       "  <th>Travel Time, units:min (SharedRide-2)</th>            <td>   -0.0611</td> <td>    0.005</td> <td>  -13.492</td> <td> 0.000</td> <td>   -0.070</td> <td>   -0.052</td>\n",
       "</tr>\n",
       "<tr>\n",
       "  <th>Travel Time, units:min (SharedRide-3+)</th>           <td>   -0.1082</td> <td>    0.007</td> <td>  -16.610</td> <td> 0.000</td> <td>   -0.121</td> <td>   -0.095</td>\n",
       "</tr>\n",
       "<tr>\n",
       "  <th>Travel Time, units:min (All Transit Modes)</th>       <td>   -0.0271</td> <td>    0.001</td> <td>  -19.033</td> <td> 0.000</td> <td>   -0.030</td> <td>   -0.024</td>\n",
       "</tr>\n",
       "<tr>\n",
       "  <th>Travel Cost, units:$ (Drive Alone)</th>               <td>   -0.0238</td> <td>    0.019</td> <td>   -1.247</td> <td> 0.212</td> <td>   -0.061</td> <td>    0.014</td>\n",
       "</tr>\n",
       "<tr>\n",
       "  <th>Travel Cost, units:$ (SharedRide-2)</th>              <td>   -0.1955</td> <td>    0.043</td> <td>   -4.586</td> <td> 0.000</td> <td>   -0.279</td> <td>   -0.112</td>\n",
       "</tr>\n",
       "<tr>\n",
       "  <th>Travel Cost, units:$ (SharedRide-3+)</th>             <td>   -0.4421</td> <td>    0.102</td> <td>   -4.344</td> <td> 0.000</td> <td>   -0.642</td> <td>   -0.243</td>\n",
       "</tr>\n",
       "<tr>\n",
       "  <th>Travel Cost, units:$ (All Transit Modes)</th>         <td>   -0.1087</td> <td>    0.018</td> <td>   -6.078</td> <td> 0.000</td> <td>   -0.144</td> <td>   -0.074</td>\n",
       "</tr>\n",
       "<tr>\n",
       "  <th>Autos per licensed drivers (All Auto Modes)</th>      <td>    1.0894</td> <td>    0.050</td> <td>   21.823</td> <td> 0.000</td> <td>    0.992</td> <td>    1.187</td>\n",
       "</tr>\n",
       "<tr>\n",
       "  <th>Cross-Bay Tour (Shared Ride 2 & 3+)</th>              <td>    0.6546</td> <td>    0.116</td> <td>    5.646</td> <td> 0.000</td> <td>    0.427</td> <td>    0.882</td>\n",
       "</tr>\n",
       "<tr>\n",
       "  <th>Household Size (Shared Ride 2 & 3+)</th>              <td>    0.1004</td> <td>    0.021</td> <td>    4.807</td> <td> 0.000</td> <td>    0.059</td> <td>    0.141</td>\n",
       "</tr>\n",
       "<tr>\n",
       "  <th>Number of Kids in Household (Shared Ride 2 & 3+)</th> <td>    0.5173</td> <td>    0.025</td> <td>   20.705</td> <td> 0.000</td> <td>    0.468</td> <td>    0.566</td>\n",
       "</tr>\n",
       "<tr>\n",
       "  <th>Confounder - Drive alone</th>                         <td>    0.0288</td> <td>    0.046</td> <td>    0.628</td> <td> 0.530</td> <td>   -0.061</td> <td>    0.119</td>\n",
       "</tr>\n",
       "<tr>\n",
       "  <th>Confounder - Shared ride 2</th>                       <td>   -0.0588</td> <td>    0.054</td> <td>   -1.084</td> <td> 0.278</td> <td>   -0.165</td> <td>    0.047</td>\n",
       "</tr>\n",
       "<tr>\n",
       "  <th>Confounder - Shared ride 3</th>                       <td>   -0.0264</td> <td>    0.064</td> <td>   -0.415</td> <td> 0.678</td> <td>   -0.151</td> <td>    0.099</td>\n",
       "</tr>\n",
       "</table>"
      ],
      "text/plain": [
       "<class 'statsmodels.iolib.summary.Summary'>\n",
       "\"\"\"\n",
       "                     Multinomial Logit Model Regression Results                    \n",
       "===================================================================================\n",
       "Dep. Variable:                  sim_choice   No. Observations:                8,000\n",
       "Model:             Multinomial Logit Model   Df Residuals:                    7,978\n",
       "Method:                                MLE   Df Model:                           22\n",
       "Date:                     Fri, 18 Dec 2020   Pseudo R-squ.:                   0.322\n",
       "Time:                             18:55:08   Pseudo R-bar-squ.:               0.321\n",
       "AIC:                            20,619.344   Log-Likelihood:            -10,287.672\n",
       "BIC:                            20,773.062   LL-Null:                   -15,176.699\n",
       "====================================================================================================================\n",
       "                                                       coef    std err          z      P>|z|      [0.025      0.975]\n",
       "--------------------------------------------------------------------------------------------------------------------\n",
       "ASC Shared Ride: 2                                  -1.2694      0.137     -9.252      0.000      -1.538      -1.000\n",
       "ASC Shared Ride: 3+                                 -0.7710      0.145     -5.334      0.000      -1.054      -0.488\n",
       "ASC Walk-Transit-Walk                                0.9297      0.131      7.085      0.000       0.672       1.187\n",
       "ASC Drive-Transit-Walk                              -1.2578      0.146     -8.608      0.000      -1.544      -0.971\n",
       "ASC Walk-Transit-Drive                              -1.4473      0.151     -9.601      0.000      -1.743      -1.152\n",
       "ASC Walk                                            -1.0404      0.089    -11.731      0.000      -1.214      -0.867\n",
       "ASC Bike                                            -1.2447      0.090    -13.865      0.000      -1.421      -1.069\n",
       "Travel Time, units:min (Drive Alone)                -0.0393      0.003    -11.635      0.000      -0.046      -0.033\n",
       "Travel Time, units:min (SharedRide-2)               -0.0611      0.005    -13.492      0.000      -0.070      -0.052\n",
       "Travel Time, units:min (SharedRide-3+)              -0.1082      0.007    -16.610      0.000      -0.121      -0.095\n",
       "Travel Time, units:min (All Transit Modes)          -0.0271      0.001    -19.033      0.000      -0.030      -0.024\n",
       "Travel Cost, units:$ (Drive Alone)                  -0.0238      0.019     -1.247      0.212      -0.061       0.014\n",
       "Travel Cost, units:$ (SharedRide-2)                 -0.1955      0.043     -4.586      0.000      -0.279      -0.112\n",
       "Travel Cost, units:$ (SharedRide-3+)                -0.4421      0.102     -4.344      0.000      -0.642      -0.243\n",
       "Travel Cost, units:$ (All Transit Modes)            -0.1087      0.018     -6.078      0.000      -0.144      -0.074\n",
       "Autos per licensed drivers (All Auto Modes)          1.0894      0.050     21.823      0.000       0.992       1.187\n",
       "Cross-Bay Tour (Shared Ride 2 & 3+)                  0.6546      0.116      5.646      0.000       0.427       0.882\n",
       "Household Size (Shared Ride 2 & 3+)                  0.1004      0.021      4.807      0.000       0.059       0.141\n",
       "Number of Kids in Household (Shared Ride 2 & 3+)     0.5173      0.025     20.705      0.000       0.468       0.566\n",
       "Confounder - Drive alone                             0.0288      0.046      0.628      0.530      -0.061       0.119\n",
       "Confounder - Shared ride 2                          -0.0588      0.054     -1.084      0.278      -0.165       0.047\n",
       "Confounder - Shared ride 3                          -0.0264      0.064     -0.415      0.678      -0.151       0.099\n",
       "====================================================================================================================\n",
       "\"\"\""
      ]
     },
     "execution_count": 16,
     "metadata": {},
     "output_type": "execute_result"
    }
   ],
   "source": [
    "# Estimate the basic MNL model, using the hessian and newton-conjugate gradient\n",
    "mnl_model_causal_1 = cm.create_choice_model(data=data,\n",
    "                                            alt_id_col=\"mode_id\",\n",
    "                                            obs_id_col=\"observation_id\",\n",
    "                                            choice_col=\"sim_choice\",\n",
    "                                            specification=mnl_specification_causal_1,\n",
    "                                            model_type=\"MNL\",\n",
    "                                            names=mnl_names_causal_1)\n",
    "\n",
    "num_vars = len(reduce(lambda x, y: x + y, mnl_names_causal_1.values()))\n",
    "mnl_model_causal_1.fit_mle(np.zeros(num_vars),\n",
    "                  method=\"BFGS\")\n",
    "\n",
    "# Look at the estimation results\n",
    "mnl_model_causal_1.get_statsmodels_summary()"
   ]
  },
  {
   "cell_type": "markdown",
   "metadata": {},
   "source": [
    "## Model 3"
   ]
  },
  {
   "cell_type": "code",
   "execution_count": 17,
   "metadata": {},
   "outputs": [],
   "source": [
    "mnl_specification_causal_2 = mnl_specification_noncausal.copy()\n",
    "mnl_names_causal_2 = mnl_names_noncausal.copy()\n",
    "\n",
    "mnl_specification_causal_2[\"recovered_confounder_model_3\"] = [1, 2, 3]\n",
    "mnl_names_causal_2[\"recovered_confounder_model_3\"] = [\"Confounder - Drive alone\",\n",
    "                                     \"Confounder - Shared ride 2\", \n",
    "                                     \"Confounder - Shared ride 3\"]"
   ]
  },
  {
   "cell_type": "code",
   "execution_count": 18,
   "metadata": {},
   "outputs": [
    {
     "name": "stderr",
     "output_type": "stream",
     "text": [
      "/Users/hassanobeid/anaconda3/lib/python3.7/site-packages/pylogit/choice_tools.py:703: FutureWarning: arrays to stack must be passed as a \"sequence\" type such as list or tuple. Support for non-sequence iterables such as generators is deprecated as of NumPy 1.16 and will raise an error in the future.\n",
      "  design_matrix = np.hstack((x[:, None] for x in independent_vars))\n"
     ]
    },
    {
     "name": "stdout",
     "output_type": "stream",
     "text": [
      "Log-likelihood at zero: -15,176.6986\n",
      "Initial Log-likelihood: -15,176.6986\n"
     ]
    },
    {
     "name": "stderr",
     "output_type": "stream",
     "text": [
      "/Users/hassanobeid/anaconda3/lib/python3.7/site-packages/scipy/optimize/_minimize.py:506: RuntimeWarning: Method BFGS does not use Hessian information (hess).\n",
      "  RuntimeWarning)\n"
     ]
    },
    {
     "name": "stdout",
     "output_type": "stream",
     "text": [
      "Estimation Time for Point Estimation: 0.25 seconds.\n",
      "Final log-likelihood: -10,288.2459\n"
     ]
    },
    {
     "data": {
      "text/html": [
       "<table class=\"simpletable\">\n",
       "<caption>Multinomial Logit Model Regression Results</caption>\n",
       "<tr>\n",
       "  <th>Dep. Variable:</th>       <td>sim_choice</td>        <th>  No. Observations:  </th>    <td>8,000</td>   \n",
       "</tr>\n",
       "<tr>\n",
       "  <th>Model:</th>         <td>Multinomial Logit Model</td> <th>  Df Residuals:      </th>    <td>7,978</td>   \n",
       "</tr>\n",
       "<tr>\n",
       "  <th>Method:</th>                  <td>MLE</td>           <th>  Df Model:          </th>     <td>22</td>     \n",
       "</tr>\n",
       "<tr>\n",
       "  <th>Date:</th>             <td>Fri, 18 Dec 2020</td>     <th>  Pseudo R-squ.:     </th>    <td>0.322</td>   \n",
       "</tr>\n",
       "<tr>\n",
       "  <th>Time:</th>                 <td>18:55:50</td>         <th>  Pseudo R-bar-squ.: </th>    <td>0.321</td>   \n",
       "</tr>\n",
       "<tr>\n",
       "  <th>AIC:</th>                 <td>20,620.492</td>        <th>  Log-Likelihood:    </th> <td>-10,288.246</td>\n",
       "</tr>\n",
       "<tr>\n",
       "  <th>BIC:</th>                 <td>20,774.210</td>        <th>  LL-Null:           </th> <td>-15,176.699</td>\n",
       "</tr>\n",
       "</table>\n",
       "<table class=\"simpletable\">\n",
       "<tr>\n",
       "                          <td></td>                            <th>coef</th>     <th>std err</th>      <th>z</th>      <th>P>|z|</th>  <th>[0.025</th>    <th>0.975]</th>  \n",
       "</tr>\n",
       "<tr>\n",
       "  <th>ASC Shared Ride: 2</th>                               <td>   -1.2348</td> <td>    0.320</td> <td>   -3.863</td> <td> 0.000</td> <td>   -1.861</td> <td>   -0.608</td>\n",
       "</tr>\n",
       "<tr>\n",
       "  <th>ASC Shared Ride: 3+</th>                              <td>   -0.6023</td> <td>    0.359</td> <td>   -1.680</td> <td> 0.093</td> <td>   -1.305</td> <td>    0.100</td>\n",
       "</tr>\n",
       "<tr>\n",
       "  <th>ASC Walk-Transit-Walk</th>                            <td>    0.8762</td> <td>    0.219</td> <td>    4.009</td> <td> 0.000</td> <td>    0.448</td> <td>    1.305</td>\n",
       "</tr>\n",
       "<tr>\n",
       "  <th>ASC Drive-Transit-Walk</th>                           <td>   -1.3114</td> <td>    0.228</td> <td>   -5.749</td> <td> 0.000</td> <td>   -1.759</td> <td>   -0.864</td>\n",
       "</tr>\n",
       "<tr>\n",
       "  <th>ASC Walk-Transit-Drive</th>                           <td>   -1.5008</td> <td>    0.231</td> <td>   -6.487</td> <td> 0.000</td> <td>   -1.954</td> <td>   -1.047</td>\n",
       "</tr>\n",
       "<tr>\n",
       "  <th>ASC Walk</th>                                         <td>   -1.0938</td> <td>    0.197</td> <td>   -5.565</td> <td> 0.000</td> <td>   -1.479</td> <td>   -0.709</td>\n",
       "</tr>\n",
       "<tr>\n",
       "  <th>ASC Bike</th>                                         <td>   -1.2982</td> <td>    0.197</td> <td>   -6.592</td> <td> 0.000</td> <td>   -1.684</td> <td>   -0.912</td>\n",
       "</tr>\n",
       "<tr>\n",
       "  <th>Travel Time, units:min (Drive Alone)</th>             <td>   -0.0403</td> <td>    0.005</td> <td>   -8.187</td> <td> 0.000</td> <td>   -0.050</td> <td>   -0.031</td>\n",
       "</tr>\n",
       "<tr>\n",
       "  <th>Travel Time, units:min (SharedRide-2)</th>            <td>   -0.0628</td> <td>    0.007</td> <td>   -9.374</td> <td> 0.000</td> <td>   -0.076</td> <td>   -0.050</td>\n",
       "</tr>\n",
       "<tr>\n",
       "  <th>Travel Time, units:min (SharedRide-3+)</th>           <td>   -0.1126</td> <td>    0.009</td> <td>  -12.848</td> <td> 0.000</td> <td>   -0.130</td> <td>   -0.095</td>\n",
       "</tr>\n",
       "<tr>\n",
       "  <th>Travel Time, units:min (All Transit Modes)</th>       <td>   -0.0271</td> <td>    0.001</td> <td>  -19.034</td> <td> 0.000</td> <td>   -0.030</td> <td>   -0.024</td>\n",
       "</tr>\n",
       "<tr>\n",
       "  <th>Travel Cost, units:$ (Drive Alone)</th>               <td>   -0.0308</td> <td>    0.029</td> <td>   -1.072</td> <td> 0.284</td> <td>   -0.087</td> <td>    0.026</td>\n",
       "</tr>\n",
       "<tr>\n",
       "  <th>Travel Cost, units:$ (SharedRide-2)</th>              <td>   -0.2113</td> <td>    0.063</td> <td>   -3.340</td> <td> 0.001</td> <td>   -0.335</td> <td>   -0.087</td>\n",
       "</tr>\n",
       "<tr>\n",
       "  <th>Travel Cost, units:$ (SharedRide-3+)</th>             <td>   -0.5099</td> <td>    0.135</td> <td>   -3.791</td> <td> 0.000</td> <td>   -0.774</td> <td>   -0.246</td>\n",
       "</tr>\n",
       "<tr>\n",
       "  <th>Travel Cost, units:$ (All Transit Modes)</th>         <td>   -0.1086</td> <td>    0.018</td> <td>   -6.072</td> <td> 0.000</td> <td>   -0.144</td> <td>   -0.074</td>\n",
       "</tr>\n",
       "<tr>\n",
       "  <th>Autos per licensed drivers (All Auto Modes)</th>      <td>    1.0896</td> <td>    0.050</td> <td>   22.008</td> <td> 0.000</td> <td>    0.993</td> <td>    1.187</td>\n",
       "</tr>\n",
       "<tr>\n",
       "  <th>Cross-Bay Tour (Shared Ride 2 & 3+)</th>              <td>    0.6487</td> <td>    0.116</td> <td>    5.608</td> <td> 0.000</td> <td>    0.422</td> <td>    0.875</td>\n",
       "</tr>\n",
       "<tr>\n",
       "  <th>Household Size (Shared Ride 2 & 3+)</th>              <td>    0.0977</td> <td>    0.021</td> <td>    4.712</td> <td> 0.000</td> <td>    0.057</td> <td>    0.138</td>\n",
       "</tr>\n",
       "<tr>\n",
       "  <th>Number of Kids in Household (Shared Ride 2 & 3+)</th> <td>    0.5143</td> <td>    0.025</td> <td>   20.719</td> <td> 0.000</td> <td>    0.466</td> <td>    0.563</td>\n",
       "</tr>\n",
       "<tr>\n",
       "  <th>Confounder - Drive alone</th>                         <td>    0.0803</td> <td>    0.180</td> <td>    0.447</td> <td> 0.655</td> <td>   -0.272</td> <td>    0.432</td>\n",
       "</tr>\n",
       "<tr>\n",
       "  <th>Confounder - Shared ride 2</th>                       <td>    0.0214</td> <td>    0.221</td> <td>    0.097</td> <td> 0.923</td> <td>   -0.411</td> <td>    0.454</td>\n",
       "</tr>\n",
       "<tr>\n",
       "  <th>Confounder - Shared ride 3</th>                       <td>    0.1777</td> <td>    0.268</td> <td>    0.662</td> <td> 0.508</td> <td>   -0.348</td> <td>    0.704</td>\n",
       "</tr>\n",
       "</table>"
      ],
      "text/plain": [
       "<class 'statsmodels.iolib.summary.Summary'>\n",
       "\"\"\"\n",
       "                     Multinomial Logit Model Regression Results                    \n",
       "===================================================================================\n",
       "Dep. Variable:                  sim_choice   No. Observations:                8,000\n",
       "Model:             Multinomial Logit Model   Df Residuals:                    7,978\n",
       "Method:                                MLE   Df Model:                           22\n",
       "Date:                     Fri, 18 Dec 2020   Pseudo R-squ.:                   0.322\n",
       "Time:                             18:55:50   Pseudo R-bar-squ.:               0.321\n",
       "AIC:                            20,620.492   Log-Likelihood:            -10,288.246\n",
       "BIC:                            20,774.210   LL-Null:                   -15,176.699\n",
       "====================================================================================================================\n",
       "                                                       coef    std err          z      P>|z|      [0.025      0.975]\n",
       "--------------------------------------------------------------------------------------------------------------------\n",
       "ASC Shared Ride: 2                                  -1.2348      0.320     -3.863      0.000      -1.861      -0.608\n",
       "ASC Shared Ride: 3+                                 -0.6023      0.359     -1.680      0.093      -1.305       0.100\n",
       "ASC Walk-Transit-Walk                                0.8762      0.219      4.009      0.000       0.448       1.305\n",
       "ASC Drive-Transit-Walk                              -1.3114      0.228     -5.749      0.000      -1.759      -0.864\n",
       "ASC Walk-Transit-Drive                              -1.5008      0.231     -6.487      0.000      -1.954      -1.047\n",
       "ASC Walk                                            -1.0938      0.197     -5.565      0.000      -1.479      -0.709\n",
       "ASC Bike                                            -1.2982      0.197     -6.592      0.000      -1.684      -0.912\n",
       "Travel Time, units:min (Drive Alone)                -0.0403      0.005     -8.187      0.000      -0.050      -0.031\n",
       "Travel Time, units:min (SharedRide-2)               -0.0628      0.007     -9.374      0.000      -0.076      -0.050\n",
       "Travel Time, units:min (SharedRide-3+)              -0.1126      0.009    -12.848      0.000      -0.130      -0.095\n",
       "Travel Time, units:min (All Transit Modes)          -0.0271      0.001    -19.034      0.000      -0.030      -0.024\n",
       "Travel Cost, units:$ (Drive Alone)                  -0.0308      0.029     -1.072      0.284      -0.087       0.026\n",
       "Travel Cost, units:$ (SharedRide-2)                 -0.2113      0.063     -3.340      0.001      -0.335      -0.087\n",
       "Travel Cost, units:$ (SharedRide-3+)                -0.5099      0.135     -3.791      0.000      -0.774      -0.246\n",
       "Travel Cost, units:$ (All Transit Modes)            -0.1086      0.018     -6.072      0.000      -0.144      -0.074\n",
       "Autos per licensed drivers (All Auto Modes)          1.0896      0.050     22.008      0.000       0.993       1.187\n",
       "Cross-Bay Tour (Shared Ride 2 & 3+)                  0.6487      0.116      5.608      0.000       0.422       0.875\n",
       "Household Size (Shared Ride 2 & 3+)                  0.0977      0.021      4.712      0.000       0.057       0.138\n",
       "Number of Kids in Household (Shared Ride 2 & 3+)     0.5143      0.025     20.719      0.000       0.466       0.563\n",
       "Confounder - Drive alone                             0.0803      0.180      0.447      0.655      -0.272       0.432\n",
       "Confounder - Shared ride 2                           0.0214      0.221      0.097      0.923      -0.411       0.454\n",
       "Confounder - Shared ride 3                           0.1777      0.268      0.662      0.508      -0.348       0.704\n",
       "====================================================================================================================\n",
       "\"\"\""
      ]
     },
     "execution_count": 18,
     "metadata": {},
     "output_type": "execute_result"
    }
   ],
   "source": [
    "# Estimate the basic MNL model, using the hessian and newton-conjugate gradient\n",
    "mnl_model_causal_2 = cm.create_choice_model(data=data,\n",
    "                                            alt_id_col=\"mode_id\",\n",
    "                                            obs_id_col=\"observation_id\",\n",
    "                                            choice_col=\"sim_choice\",\n",
    "                                            specification=mnl_specification_causal_2,\n",
    "                                            model_type=\"MNL\",\n",
    "                                            names=mnl_names_causal_2)\n",
    "\n",
    "num_vars = len(reduce(lambda x, y: x + y, mnl_names_causal_2.values()))\n",
    "mnl_model_causal_2.fit_mle(np.zeros(num_vars),\n",
    "                  method=\"BFGS\")\n",
    "\n",
    "# Look at the estimation results\n",
    "mnl_model_causal_2.get_statsmodels_summary()"
   ]
  },
  {
   "cell_type": "markdown",
   "metadata": {},
   "source": [
    "## Compare estimates on travel time and cost"
   ]
  },
  {
   "cell_type": "code",
   "execution_count": 19,
   "metadata": {
    "lines_to_next_cell": 2
   },
   "outputs": [],
   "source": [
    "results_as_html_true = create_comparison_tables(mnl_model)\n",
    "results_as_html_noncausal = create_comparison_tables(mnl_model_noncausal)\n",
    "results_as_html_method_2 = create_comparison_tables(mnl_model_causal_1)\n",
    "results_as_html_method_3 = create_comparison_tables(mnl_model_causal_2)"
   ]
  },
  {
   "cell_type": "code",
   "execution_count": 20,
   "metadata": {
    "lines_to_next_cell": 0
   },
   "outputs": [],
   "source": [
    "locs = ['Travel Time, units:min (Drive Alone)','Travel Time, units:min (SharedRide-2)',\n",
    "       'Travel Time, units:min (SharedRide-3+)', 'Travel Cost, units:$ (Drive Alone)',\n",
    "       'Travel Cost, units:$ (SharedRide-2)', 'Travel Cost, units:$ (SharedRide-3+)']\n",
    "cols = ['coef', 'std err']\n",
    "\n",
    "results_comparison = results_as_html_true.loc[locs][cols].join(results_as_html_noncausal.loc[locs][cols], \n",
    "                                                               lsuffix = '_true', \n",
    "                                                               rsuffix = '_non_causal'\n",
    "                                                              ).join(results_as_html_method_2.loc[locs][cols].join(\n",
    "                                                                     results_as_html_method_3.loc[locs][cols],\n",
    "                                                                     lsuffix = '_method_2', rsuffix = '_method_3'))\n",
    "\n",
    "results_comparison['confounded variable'] = results_comparison.index"
   ]
  },
  {
   "cell_type": "code",
   "execution_count": 22,
   "metadata": {
    "lines_to_next_cell": 0
   },
   "outputs": [
    {
     "data": {
      "image/png": "[encoded data removed]",
      "text/plain": [
       "<Figure size 1152x648 with 1 Axes>"
      ]
     },
     "metadata": {
      "needs_background": "light"
     },
     "output_type": "display_data"
    }
   ],
   "source": [
    "fig, ax = plt.subplots(nrows=1,ncols=1, figsize=(16,9))\n",
    "\n",
    "results_comparison.columns =['True Coefficient', 'True Std. Error', 'Model 1 Coefficient', 'Model 1 Std. Error',\n",
    "       'Model 2 Coefficient', 'Model 2 Std. Error', 'Model 3 Coefficient',\n",
    "       'Model 3 Std. Error', 'confounded variable']\n",
    "results_comparison['confounded variable']=['Travel Time \\n(Drive Alone)',\n",
    "       'Travel Time \\n(SharedRide-2)',\n",
    "       'Travel Time \\n(SharedRide-3+)',\n",
    "       'Travel Cost \\n(Drive Alone)',\n",
    "       'Travel Cost \\n(SharedRide-2)',\n",
    "       'Travel Cost \\n(SharedRide-3+)']\n",
    "\n",
    "results_comparison.plot.bar(x='confounded variable', \n",
    "                            y=['True Coefficient','Model 1 Coefficient','Model 2 Coefficient', 'Model 3 Coefficient'],\n",
    "                            yerr=results_comparison[['True Std. Error', 'Model 1 Std. Error',\n",
    "                                                    'Model 2 Std. Error', 'Model 3 Std. Error']].T.values,\n",
    "                           ax = ax)\n",
    "\n",
    "plt.xticks(rotation='0')\n",
    "\n",
    "fig.savefig('../../article/images/coefficient_bias_sec_7.png')"
   ]
  },
  {
   "cell_type": "code",
   "execution_count": null,
   "metadata": {},
   "outputs": [],
   "source": []
  }
 ],
 "metadata": {
  "jupytext": {
   "formats": "ipynb,py"
  },
  "kernelspec": {
   "display_name": "Python 3",
   "language": "python",
   "name": "python3"
  },
  "language_info": {
   "codemirror_mode": {
    "name": "ipython",
    "version": 3
   },
   "file_extension": ".py",
   "mimetype": "text/x-python",
   "name": "python",
   "nbconvert_exporter": "python",
   "pygments_lexer": "ipython3",
   "version": "3.7.3"
  }
 },
 "nbformat": 4,
 "nbformat_minor": 2
}
