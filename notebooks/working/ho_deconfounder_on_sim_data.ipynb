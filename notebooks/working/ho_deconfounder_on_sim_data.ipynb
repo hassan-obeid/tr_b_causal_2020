{
 "cells": [
  {
   "cell_type": "markdown",
   "metadata": {},
   "source": [
    "# Purpose\n"
   ]
  },
  {
   "cell_type": "markdown",
   "metadata": {},
   "source": [
    "The purpose of this notebook is to investigate the effectiveness of the deconfounder algorithm (Blei et. al, 2018) in adjusting for unobserved confounding. We use a simulated mode choice data where travel distance linearly confounds both travel time and travel cost. We then mask the travel distance data and treat it as an unobserved variable. \n",
    "\n",
    "We estimate three models:\n",
    "- Model 1: A multinomial logit with the correct original specification, EXCEPT we ommit the travel distance variable in the specification without trying to adjust for it. \n",
    "- Model 2: We use the deconfounder algorithm to try to recover the confounder (travel distance). In this method, we use all the variables in each mode's utility to recover that mode's confounder.\n",
    "- Model 3: We use the deconfounder algorithm to try to recover the confounder (travel distance), but this time, we only use travel time and cost in the factor model, instead of all the variables in the utility specification of each mode. \n",
    "\n",
    "We compare the estimates of the coefficients on travel time and cost to the true estimates used in the simulation. The main findings of this exercise are the following:\n",
    "- Using the true variables believed to be confounded (i.e. method 3 where only travel time and cost are used to recover the confounder) leads to a better recovery of the true confounder. This suggests that it may be better to run the deconfounder algorithm based on a hypothesized causal graph, rather than just running it on all the observed covariates. \n",
    "- Similar to what we found in the investigating_decounfounder notebook, the effectiveness of the deconfounder algorithm is very sensitive to small deviations in the recovered confounder. Although method 3 returns a relatively good fit of the true confounder, the adjusted coefficients on travel time and cost do not exhibit any reduction in the bias resulting from ommitting the true confounder, and the coefficients on the recovered confounder are highly insignificant. This raises questions about the usefulness of the deconfounder algorithm in practice."
   ]
  },
  {
   "cell_type": "markdown",
   "metadata": {},
   "source": [
    "# Import needed libraries"
   ]
  },
  {
   "cell_type": "code",
   "execution_count": 1,
   "metadata": {
    "scrolled": true
   },
   "outputs": [],
   "source": [
    "# Built-in modules\n",
    "import os\n",
    "from collections import OrderedDict\n",
    "from functools import reduce\n",
    "\n",
    "# Third party modules\n",
    "import pandas as pd\n",
    "import numpy as np\n",
    "import matplotlib.pyplot as plt\n",
    "from causalgraphicalmodels import CausalGraphicalModel, StructuralCausalModel\n",
    "import pylogit as cm\n",
    "\n",
    "# Local modules\n",
    "from factor_models import *\n"
   ]
  },
  {
   "cell_type": "markdown",
   "metadata": {},
   "source": [
    "## Useful function"
   ]
  },
  {
   "cell_type": "code",
   "execution_count": 8,
   "metadata": {},
   "outputs": [],
   "source": [
    "def specifications(mnl_specification, num_modes):\n",
    "    newDict= dict()\n",
    "\n",
    "    for i in range(1,num_modes+1):\n",
    "        variables = []\n",
    "        # Iterate over all the items in dictionary and filter items which has even keys\n",
    "        for (key, value) in mnl_specification.items():\n",
    "           # Check if key is even then add pair to new dictionary\n",
    "    \n",
    "\n",
    "\n",
    "\n",
    "            if any(isinstance(sub, list) for sub in value):\n",
    "                for sub in value:\n",
    "                    if isinstance(sub, list):\n",
    "                        if (i in sub): \n",
    "                            variables.append(key)\n",
    "                            \n",
    "                    else:\n",
    "                        if i == sub:\n",
    "                            variables.append(key)\n",
    "\n",
    "            else:\n",
    "                if i in value:\n",
    "        #             print(variables)\n",
    "\n",
    "                    variables.append(key)\n",
    "\n",
    "        newDict[i] = variables\n",
    "\n",
    "    return newDict"
   ]
  },
  {
   "cell_type": "markdown",
   "metadata": {},
   "source": [
    "## Analysis"
   ]
  },
  {
   "cell_type": "code",
   "execution_count": 2,
   "metadata": {},
   "outputs": [],
   "source": [
    "PATH = '../../data/raw/'\n",
    "file_name = 'simulated_long_format_bike_data.csv'"
   ]
  },
  {
   "cell_type": "code",
   "execution_count": 3,
   "metadata": {},
   "outputs": [
    {
     "data": {
      "text/plain": [
       "Index(['observation_id', 'mode_id', 'sim_choice', 'num_kids', 'household_size',\n",
       "       'num_cars', 'num_licensed_drivers', 'cross_bay', 'total_travel_time',\n",
       "       'total_travel_cost', 'total_travel_distance',\n",
       "       'cars_per_licensed_drivers', 'cost_per_distance', 'intercept'],\n",
       "      dtype='object')"
      ]
     },
     "execution_count": 3,
     "metadata": {},
     "output_type": "execute_result"
    }
   ],
   "source": [
    "data = pd.read_csv(PATH+file_name)\n",
    "data = data.drop('Unnamed: 0', axis = 1)\n",
    "data.columns"
   ]
  },
  {
   "cell_type": "code",
   "execution_count": 4,
   "metadata": {},
   "outputs": [],
   "source": [
    "X_columns = ['total_travel_time',\n",
    "       'total_travel_cost', 'total_travel_distance', \n",
    "             'cross_bay', 'household_size', 'num_kids', \n",
    "              'cars_per_licensed_drivers', \n",
    "             'gender'\n",
    "             \n",
    "            ]\n",
    "\n",
    "y_column = data['mode_id']"
   ]
  },
  {
   "cell_type": "code",
   "execution_count": 5,
   "metadata": {},
   "outputs": [
    {
     "data": {
      "image/svg+xml": [
       "<?xml version=\"1.0\" encoding=\"UTF-8\" standalone=\"no\"?>\n",
       "<!DOCTYPE svg PUBLIC \"-//W3C//DTD SVG 1.1//EN\"\n",
       " \"http://www.w3.org/Graphics/SVG/1.1/DTD/svg11.dtd\">\n",
       "<!-- Generated by graphviz version 2.40.1 (20161225.0304)\n",
       " -->\n",
       "<!-- Title: %3 Pages: 1 -->\n",
       "<svg width=\"1049pt\" height=\"260pt\"\n",
       " viewBox=\"0.00 0.00 1048.92 260.00\" xmlns=\"http://www.w3.org/2000/svg\" xmlns:xlink=\"http://www.w3.org/1999/xlink\">\n",
       "<g id=\"graph0\" class=\"graph\" transform=\"scale(1 1) rotate(0) translate(4 256)\">\n",
       "<title>%3</title>\n",
       "<polygon fill=\"#ffffff\" stroke=\"transparent\" points=\"-4,4 -4,-256 1044.9186,-256 1044.9186,4 -4,4\"/>\n",
       "<!-- Cross_Bay_Bridge -->\n",
       "<g id=\"node1\" class=\"node\">\n",
       "<title>Cross_Bay_Bridge</title>\n",
       "<ellipse fill=\"none\" stroke=\"#000000\" cx=\"101.2219\" cy=\"-90\" rx=\"79.8859\" ry=\"18\"/>\n",
       "<text text-anchor=\"middle\" x=\"101.2219\" y=\"-86.3\" font-family=\"Times,serif\" font-size=\"14.00\" fill=\"#000000\">Cross_Bay_Bridge</text>\n",
       "</g>\n",
       "<!-- Mode_Choice -->\n",
       "<g id=\"node4\" class=\"node\">\n",
       "<title>Mode_Choice</title>\n",
       "<ellipse fill=\"none\" stroke=\"#000000\" cx=\"385.2219\" cy=\"-18\" rx=\"62.2891\" ry=\"18\"/>\n",
       "<text text-anchor=\"middle\" x=\"385.2219\" y=\"-14.3\" font-family=\"Times,serif\" font-size=\"14.00\" fill=\"#000000\">Mode_Choice</text>\n",
       "</g>\n",
       "<!-- Cross_Bay_Bridge&#45;&gt;Mode_Choice -->\n",
       "<g id=\"edge7\" class=\"edge\">\n",
       "<title>Cross_Bay_Bridge&#45;&gt;Mode_Choice</title>\n",
       "<path fill=\"none\" stroke=\"#000000\" d=\"M154.6401,-76.4574C204.1997,-63.893 277.7278,-45.252 328.3608,-32.4155\"/>\n",
       "<polygon fill=\"#000000\" stroke=\"#000000\" points=\"329.3351,-35.7793 338.1683,-29.9291 327.6148,-28.994 329.3351,-35.7793\"/>\n",
       "</g>\n",
       "<!-- Travel_Time -->\n",
       "<g id=\"node2\" class=\"node\">\n",
       "<title>Travel_Time</title>\n",
       "<ellipse fill=\"none\" stroke=\"#000000\" cx=\"257.2219\" cy=\"-90\" rx=\"58.4896\" ry=\"18\"/>\n",
       "<text text-anchor=\"middle\" x=\"257.2219\" y=\"-86.3\" font-family=\"Times,serif\" font-size=\"14.00\" fill=\"#000000\">Travel_Time</text>\n",
       "</g>\n",
       "<!-- Travel_Time&#45;&gt;Mode_Choice -->\n",
       "<g id=\"edge1\" class=\"edge\">\n",
       "<title>Travel_Time&#45;&gt;Mode_Choice</title>\n",
       "<path fill=\"none\" stroke=\"#000000\" d=\"M285.3121,-74.1993C303.5639,-63.9326 327.5769,-50.4253 347.4868,-39.226\"/>\n",
       "<polygon fill=\"#000000\" stroke=\"#000000\" points=\"349.3106,-42.2159 356.3104,-34.2627 345.8787,-36.1149 349.3106,-42.2159\"/>\n",
       "</g>\n",
       "<!-- HH_Size -->\n",
       "<g id=\"node3\" class=\"node\">\n",
       "<title>HH_Size</title>\n",
       "<ellipse fill=\"none\" stroke=\"#000000\" cx=\"125.2219\" cy=\"-234\" rx=\"44.393\" ry=\"18\"/>\n",
       "<text text-anchor=\"middle\" x=\"125.2219\" y=\"-230.3\" font-family=\"Times,serif\" font-size=\"14.00\" fill=\"#000000\">HH_Size</text>\n",
       "</g>\n",
       "<!-- HH_Size&#45;&gt;Mode_Choice -->\n",
       "<g id=\"edge8\" class=\"edge\">\n",
       "<title>HH_Size&#45;&gt;Mode_Choice</title>\n",
       "<path fill=\"none\" stroke=\"#000000\" d=\"M100.8869,-218.9469C56.0258,-189.3961 -31.3181,-122.2973 12.2219,-72 31.7009,-49.4979 211.897,-31.7049 314.5251,-23.2934\"/>\n",
       "<polygon fill=\"#000000\" stroke=\"#000000\" points=\"314.826,-26.7806 324.5107,-22.4845 314.2607,-19.8034 314.826,-26.7806\"/>\n",
       "</g>\n",
       "<!-- Travel_Distance -->\n",
       "<g id=\"node8\" class=\"node\">\n",
       "<title>Travel_Distance</title>\n",
       "<ellipse fill=\"none\" stroke=\"#000000\" cx=\"257.2219\" cy=\"-162\" rx=\"70.6878\" ry=\"18\"/>\n",
       "<text text-anchor=\"middle\" x=\"257.2219\" y=\"-158.3\" font-family=\"Times,serif\" font-size=\"14.00\" fill=\"#000000\">Travel_Distance</text>\n",
       "</g>\n",
       "<!-- HH_Size&#45;&gt;Travel_Distance -->\n",
       "<g id=\"edge9\" class=\"edge\">\n",
       "<title>HH_Size&#45;&gt;Travel_Distance</title>\n",
       "<path fill=\"none\" stroke=\"#000000\" d=\"M151.9341,-219.4297C170.9182,-209.0748 196.7206,-195.0007 218.0307,-183.377\"/>\n",
       "<polygon fill=\"#000000\" stroke=\"#000000\" points=\"219.7527,-186.4246 226.8556,-178.5634 216.4007,-180.2794 219.7527,-186.4246\"/>\n",
       "</g>\n",
       "<!-- num_of_kids_household -->\n",
       "<g id=\"node5\" class=\"node\">\n",
       "<title>num_of_kids_household</title>\n",
       "<ellipse fill=\"none\" stroke=\"#000000\" cx=\"602.2219\" cy=\"-90\" rx=\"100.9827\" ry=\"18\"/>\n",
       "<text text-anchor=\"middle\" x=\"602.2219\" y=\"-86.3\" font-family=\"Times,serif\" font-size=\"14.00\" fill=\"#000000\">num_of_kids_household</text>\n",
       "</g>\n",
       "<!-- num_of_kids_household&#45;&gt;Mode_Choice -->\n",
       "<g id=\"edge10\" class=\"edge\">\n",
       "<title>num_of_kids_household&#45;&gt;Mode_Choice</title>\n",
       "<path fill=\"none\" stroke=\"#000000\" d=\"M554.3317,-74.1102C519.3071,-62.4891 471.8758,-46.7515 436.1587,-34.9007\"/>\n",
       "<polygon fill=\"#000000\" stroke=\"#000000\" points=\"437.0088,-31.4952 426.4153,-31.6679 434.8043,-38.139 437.0088,-31.4952\"/>\n",
       "</g>\n",
       "<!-- Travel_Cost -->\n",
       "<g id=\"node6\" class=\"node\">\n",
       "<title>Travel_Cost</title>\n",
       "<ellipse fill=\"none\" stroke=\"#000000\" cx=\"427.2219\" cy=\"-90\" rx=\"55.7903\" ry=\"18\"/>\n",
       "<text text-anchor=\"middle\" x=\"427.2219\" y=\"-86.3\" font-family=\"Times,serif\" font-size=\"14.00\" fill=\"#000000\">Travel_Cost</text>\n",
       "</g>\n",
       "<!-- Travel_Cost&#45;&gt;Mode_Choice -->\n",
       "<g id=\"edge6\" class=\"edge\">\n",
       "<title>Travel_Cost&#45;&gt;Mode_Choice</title>\n",
       "<path fill=\"none\" stroke=\"#000000\" d=\"M416.8399,-72.2022C411.9937,-63.8944 406.1237,-53.8316 400.7635,-44.6427\"/>\n",
       "<polygon fill=\"#000000\" stroke=\"#000000\" points=\"403.6921,-42.7168 395.6301,-35.8425 397.6456,-46.2439 403.6921,-42.7168\"/>\n",
       "</g>\n",
       "<!-- Autos_per_licensed_drivers -->\n",
       "<g id=\"node7\" class=\"node\">\n",
       "<title>Autos_per_licensed_drivers</title>\n",
       "<ellipse fill=\"none\" stroke=\"#000000\" cx=\"834.2219\" cy=\"-90\" rx=\"113.18\" ry=\"18\"/>\n",
       "<text text-anchor=\"middle\" x=\"834.2219\" y=\"-86.3\" font-family=\"Times,serif\" font-size=\"14.00\" fill=\"#000000\">Autos_per_licensed_drivers</text>\n",
       "</g>\n",
       "<!-- Autos_per_licensed_drivers&#45;&gt;Mode_Choice -->\n",
       "<g id=\"edge11\" class=\"edge\">\n",
       "<title>Autos_per_licensed_drivers&#45;&gt;Mode_Choice</title>\n",
       "<path fill=\"none\" stroke=\"#000000\" d=\"M754.4671,-77.2108C667.5884,-63.2793 530.2936,-41.2632 449.8688,-28.3665\"/>\n",
       "<polygon fill=\"#000000\" stroke=\"#000000\" points=\"450.298,-24.8907 439.87,-26.7632 449.1896,-31.8024 450.298,-24.8907\"/>\n",
       "</g>\n",
       "<!-- Travel_Distance&#45;&gt;Cross_Bay_Bridge -->\n",
       "<g id=\"edge5\" class=\"edge\">\n",
       "<title>Travel_Distance&#45;&gt;Cross_Bay_Bridge</title>\n",
       "<path fill=\"none\" stroke=\"#000000\" d=\"M222.9871,-146.1993C200.2416,-135.7014 170.1549,-121.8152 145.5798,-110.4729\"/>\n",
       "<polygon fill=\"#000000\" stroke=\"#000000\" points=\"147.0042,-107.2755 136.4578,-106.2627 144.0707,-113.6312 147.0042,-107.2755\"/>\n",
       "</g>\n",
       "<!-- Travel_Distance&#45;&gt;Travel_Time -->\n",
       "<g id=\"edge3\" class=\"edge\">\n",
       "<title>Travel_Distance&#45;&gt;Travel_Time</title>\n",
       "<path fill=\"none\" stroke=\"#000000\" d=\"M257.2219,-143.8314C257.2219,-136.131 257.2219,-126.9743 257.2219,-118.4166\"/>\n",
       "<polygon fill=\"#000000\" stroke=\"#000000\" points=\"260.722,-118.4132 257.2219,-108.4133 253.722,-118.4133 260.722,-118.4132\"/>\n",
       "</g>\n",
       "<!-- Travel_Distance&#45;&gt;Mode_Choice -->\n",
       "<g id=\"edge2\" class=\"edge\">\n",
       "<title>Travel_Distance&#45;&gt;Mode_Choice</title>\n",
       "<path fill=\"none\" stroke=\"#000000\" d=\"M281.6443,-145.0815C295.0432,-135.1473 311.4731,-121.8495 324.2219,-108 342.1294,-88.5465 358.7034,-63.4356 370.0417,-44.683\"/>\n",
       "<polygon fill=\"#000000\" stroke=\"#000000\" points=\"373.0768,-46.4266 375.17,-36.0406 367.0569,-42.8544 373.0768,-46.4266\"/>\n",
       "</g>\n",
       "<!-- Travel_Distance&#45;&gt;Travel_Cost -->\n",
       "<g id=\"edge4\" class=\"edge\">\n",
       "<title>Travel_Distance&#45;&gt;Travel_Cost</title>\n",
       "<path fill=\"none\" stroke=\"#000000\" d=\"M293.6912,-146.5542C320.0473,-135.3916 355.7653,-120.264 383.6284,-108.4632\"/>\n",
       "<polygon fill=\"#000000\" stroke=\"#000000\" points=\"385.2849,-111.5626 393.1281,-104.4397 382.5549,-105.1169 385.2849,-111.5626\"/>\n",
       "</g>\n",
       "<!-- Gender -->\n",
       "<g id=\"node9\" class=\"node\">\n",
       "<title>Gender</title>\n",
       "<ellipse fill=\"none\" stroke=\"#000000\" cx=\"1003.2219\" cy=\"-90\" rx=\"37.8943\" ry=\"18\"/>\n",
       "<text text-anchor=\"middle\" x=\"1003.2219\" y=\"-86.3\" font-family=\"Times,serif\" font-size=\"14.00\" fill=\"#000000\">Gender</text>\n",
       "</g>\n",
       "<!-- Gender&#45;&gt;Mode_Choice -->\n",
       "<g id=\"edge12\" class=\"edge\">\n",
       "<title>Gender&#45;&gt;Mode_Choice</title>\n",
       "<path fill=\"none\" stroke=\"#000000\" d=\"M975.279,-77.8779C969.1006,-75.6001 962.5175,-73.4742 956.2219,-72 863.1245,-50.2 588.3572,-30.7178 456.8886,-22.3446\"/>\n",
       "<polygon fill=\"#000000\" stroke=\"#000000\" points=\"456.7304,-18.8277 446.5293,-21.689 456.2882,-25.8137 456.7304,-18.8277\"/>\n",
       "</g>\n",
       "</g>\n",
       "</svg>\n"
      ],
      "text/plain": [
       "<graphviz.dot.Digraph at 0x1214c1080>"
      ]
     },
     "execution_count": 5,
     "metadata": {},
     "output_type": "execute_result"
    }
   ],
   "source": [
    "## Specify the true causal graph used in the simulation of the choices\n",
    "\n",
    "causal_graph = CausalGraphicalModel(\n",
    "    nodes=[\"Travel_Time\", \"Travel_Distance\", \"Travel_Cost\", \"Cross_Bay_Bridge\", \"HH_Size\", \"num_of_kids_household\",\n",
    "          \"Autos_per_licensed_drivers\", \"Gender\", \"Mode_Choice\"],\n",
    "    edges=[\n",
    "        (\"Travel_Time\", \"Mode_Choice\"), \n",
    "        (\"Travel_Distance\", \"Mode_Choice\"), \n",
    "        (\"Travel_Cost\", \"Mode_Choice\"), \n",
    "        (\"Cross_Bay_Bridge\", \"Mode_Choice\"), \n",
    "        (\"HH_Size\", \"Mode_Choice\"), \n",
    "        (\"num_of_kids_household\", \"Mode_Choice\"), \n",
    "        (\"Autos_per_licensed_drivers\", \"Mode_Choice\"), \n",
    "        (\"Gender\", \"Mode_Choice\"), \n",
    "        \n",
    "        \n",
    "        (\"Travel_Distance\", \"Travel_Time\"), \n",
    "        (\"Travel_Distance\", \"Travel_Cost\"), \n",
    "        (\"Travel_Distance\", \"Cross_Bay_Bridge\"), \n",
    "        (\"HH_Size\", \"Travel_Distance\"), \n",
    "\n",
    "        \n",
    "        \n",
    "#         (\"Travel_Time\", \"Mode_Choice\"), \n",
    "#         (\"Travel_Time\", \"Mode_Choice\"), \n",
    "\n",
    "        \n",
    "        \n",
    "    ]\n",
    ")\n",
    "\n",
    "# draw return a graphviz `dot` object, which jupyter can render\n",
    "causal_graph.draw()"
   ]
  },
  {
   "cell_type": "markdown",
   "metadata": {},
   "source": [
    "# MNL specification"
   ]
  },
  {
   "cell_type": "code",
   "execution_count": 6,
   "metadata": {},
   "outputs": [],
   "source": [
    "## Below is the specification of the true model used in the simulation of the choices\n",
    "\n",
    "mnl_specification = OrderedDict()\n",
    "mnl_names = OrderedDict()\n",
    "\n",
    "mnl_specification[\"intercept\"] = [2, 3, 4, 5, 6, 7, 8]\n",
    "mnl_names[\"intercept\"] = ['ASC Shared Ride: 2',\n",
    "                          'ASC Shared Ride: 3+',\n",
    "                          'ASC Walk-Transit-Walk',\n",
    "                          'ASC Drive-Transit-Walk',\n",
    "                          'ASC Walk-Transit-Drive',\n",
    "                          'ASC Walk',\n",
    "                          'ASC Bike']\n",
    "\n",
    "mnl_specification[\"total_travel_time\"] = [1, 2, 3, [4, 5, 6]]\n",
    "mnl_names[\"total_travel_time\"] = ['Travel Time, units:min (Drive Alone)',\n",
    "                                  'Travel Time, units:min (SharedRide-2)',\n",
    "                                  'Travel Time, units:min (SharedRide-3+)',\n",
    "                                  'Travel Time, units:min (All Transit Modes)']\n",
    "\n",
    "mnl_specification[\"total_travel_cost\"] = [1, 2, 3, [4, 5, 6]]\n",
    "mnl_names[\"total_travel_cost\"] = ['Travel Cost, units:$ (Drive Alone)',\n",
    "                                  'Travel Cost, units:$ (SharedRide-2)',\n",
    "                                  'Travel Cost, units:$ (SharedRide-3+)',\n",
    "                                  'Travel Cost, units:$ (All Transit Modes)']\n",
    "\n",
    "# mnl_specification[\"cost_per_distance\"] = [1, 2, 3]\n",
    "# mnl_names[\"cost_per_distance\"] = [\"Travel Cost per Distance, units:$/mi (Drive Alone)\",\n",
    "#                                   \"Travel Cost per Distance, units:$/mi (SharedRide-2)\",\n",
    "#                                   \"Travel Cost per Distance, units:$/mi (SharedRide-3+)\"]\n",
    "\n",
    "mnl_specification[\"cars_per_licensed_drivers\"] = [[1, 2, 3]]\n",
    "mnl_names[\"cars_per_licensed_drivers\"] = [\"Autos per licensed drivers (All Auto Modes)\"]\n",
    "\n",
    "mnl_specification[\"total_travel_distance\"] = [1, 2, 3, 7, 8]\n",
    "mnl_names[\"total_travel_distance\"] = ['Travel Distance, units:mi (Drive Alone)',\n",
    "                                      'Travel Distance, units:mi (SharedRide-2)',\n",
    "                                      'Travel Distance, units:mi (SharedRide-3+)',\n",
    "                                      'Travel Distance, units:mi (Walk)',\n",
    "                                      'Travel Distance, units:mi (Bike)']\n",
    "\n",
    "# mnl_specification[\"cross_bay\"] = [[2, 3], [4, 5, 6]]\n",
    "# mnl_names[\"cross_bay\"] = [\"Cross-Bay Tour (Shared Ride 2 & 3+)\",\n",
    "#                           \"Cross-Bay Tour (All Transit Modes)\"]\n",
    "mnl_specification[\"cross_bay\"] = [[2, 3]]\n",
    "mnl_names[\"cross_bay\"] = [\"Cross-Bay Tour (Shared Ride 2 & 3+)\"]\n",
    "\n",
    "mnl_specification[\"household_size\"] = [[2, 3]]\n",
    "mnl_names[\"household_size\"] = ['Household Size (Shared Ride 2 & 3+)']\n",
    "\n",
    "mnl_specification[\"num_kids\"] = [[2, 3]]\n",
    "mnl_names[\"num_kids\"] = [\"Number of Kids in Household (Shared Ride 2 & 3+)\"]"
   ]
  },
  {
   "cell_type": "markdown",
   "metadata": {},
   "source": [
    "# Recovering the confounder: The deconfounder algorithm"
   ]
  },
  {
   "cell_type": "markdown",
   "metadata": {},
   "source": [
    "## First approach: using all the variables in the factor model\n",
    "\n",
    "Using this approach, we use all the variables in each mode's utility specification to recover the confounder, in line with Blei et al.'s approach in their paper."
   ]
  },
  {
   "cell_type": "code",
   "execution_count": 10,
   "metadata": {},
   "outputs": [
    {
     "data": {
      "text/plain": [
       "{1: ['total_travel_time',\n",
       "  'total_travel_cost',\n",
       "  'cars_per_licensed_drivers',\n",
       "  'total_travel_distance'],\n",
       " 2: ['intercept',\n",
       "  'total_travel_time',\n",
       "  'total_travel_cost',\n",
       "  'cars_per_licensed_drivers',\n",
       "  'total_travel_distance',\n",
       "  'cross_bay',\n",
       "  'household_size',\n",
       "  'num_kids'],\n",
       " 3: ['intercept',\n",
       "  'total_travel_time',\n",
       "  'total_travel_cost',\n",
       "  'cars_per_licensed_drivers',\n",
       "  'total_travel_distance',\n",
       "  'cross_bay',\n",
       "  'household_size',\n",
       "  'num_kids'],\n",
       " 4: ['intercept', 'total_travel_time', 'total_travel_cost'],\n",
       " 5: ['intercept', 'total_travel_time', 'total_travel_cost'],\n",
       " 6: ['intercept', 'total_travel_time', 'total_travel_cost'],\n",
       " 7: ['intercept', 'total_travel_distance'],\n",
       " 8: ['intercept', 'total_travel_distance']}"
      ]
     },
     "execution_count": 10,
     "metadata": {},
     "output_type": "execute_result"
    }
   ],
   "source": [
    "## Return the variables of each utility specification\n",
    "\n",
    "spec_dic = specifications(mnl_specification=mnl_specification, num_modes=8)\n",
    "spec_dic"
   ]
  },
  {
   "cell_type": "code",
   "execution_count": 12,
   "metadata": {
    "scrolled": true
   },
   "outputs": [
    {
     "name": "stdout",
     "output_type": "stream",
     "text": [
      "Analysis for mode:  1\n",
      "-------------------------------------------------------------------------------------------\n",
      "1 ['total_travel_time', 'total_travel_cost', 'cars_per_licensed_drivers']\n",
      "WARNING:tensorflow:From /Users/hassanobeid/UC_Berkeley/PhD/Causality_Research/Github/tr_b_causal_2020/notebooks/working/factor_models.py:167: The name tf.train.AdamOptimizer is deprecated. Please use tf.compat.v1.train.AdamOptimizer instead.\n",
      "\n"
     ]
    },
    {
     "name": "stderr",
     "output_type": "stream",
     "text": [
      "/Users/hassanobeid/UC_Berkeley/PhD/Causality_Research/Github/tr_b_causal_2020/notebooks/working/factor_models.py:120: UserWarning: tfp.edward2 module is deprecated and will be removed on 2019-12-01. Use https://github.com/google/edward2 library instead.\n",
      "  log_joint = ed.make_log_joint_fn(ppca_model)\n"
     ]
    },
    {
     "name": "stdout",
     "output_type": "stream",
     "text": [
      "WARNING:tensorflow:From /Users/hassanobeid/UC_Berkeley/PhD/Causality_Research/Github/tr_b_causal_2020/notebooks/working/factor_models.py:170: The name tf.global_variables_initializer is deprecated. Please use tf.compat.v1.global_variables_initializer instead.\n",
      "\n",
      "WARNING:tensorflow:From /Users/hassanobeid/UC_Berkeley/PhD/Causality_Research/Github/tr_b_causal_2020/notebooks/working/factor_models.py:176: The name tf.Session is deprecated. Please use tf.compat.v1.Session instead.\n",
      "\n",
      "Inferred axes:\n",
      "[[1.0977817  1.0978527  0.12275438]]\n",
      "Standard Deviation:\n",
      "[[0.00799574 0.00553362 0.00515038]]\n"
     ]
    },
    {
     "data": {
      "image/png": "[encoded data removed]",
      "text/plain": [
       "<Figure size 432x288 with 1 Axes>"
      ]
     },
     "metadata": {},
     "output_type": "display_data"
    },
    {
     "name": "stdout",
     "output_type": "stream",
     "text": [
      "Analysis for mode:  2\n",
      "-------------------------------------------------------------------------------------------\n",
      "2 ['total_travel_time', 'total_travel_cost', 'cars_per_licensed_drivers', 'cross_bay', 'household_size', 'num_kids']\n",
      "Inferred axes:\n",
      "[[ 1.1891068   1.1899593  -0.03712635  0.20784217  0.03731374  0.08648779]]\n",
      "Standard Deviation:\n",
      "[[0.0053368  0.00544814 0.00564327 0.00546307 0.00445172 0.00618899]]\n"
     ]
    },
    {
     "data": {
      "image/png": "[encoded data removed]",
      "text/plain": [
       "<Figure size 432x288 with 1 Axes>"
      ]
     },
     "metadata": {},
     "output_type": "display_data"
    },
    {
     "name": "stdout",
     "output_type": "stream",
     "text": [
      "Analysis for mode:  3\n",
      "-------------------------------------------------------------------------------------------\n",
      "3 ['total_travel_time', 'total_travel_cost', 'cars_per_licensed_drivers', 'cross_bay', 'household_size', 'num_kids']\n",
      "Inferred axes:\n",
      "[[ 1.1478888   1.1470537   0.17280054  0.05781162  0.04793473 -0.07809858]]\n",
      "Standard Deviation:\n",
      "[[0.00867586 0.006379   0.00573987 0.00574165 0.00627476 0.00552721]]\n"
     ]
    },
    {
     "data": {
      "image/png": "[encoded data removed]",
      "text/plain": [
       "<Figure size 432x288 with 1 Axes>"
      ]
     },
     "metadata": {},
     "output_type": "display_data"
    },
    {
     "name": "stdout",
     "output_type": "stream",
     "text": [
      "Analysis for mode:  4\n",
      "-------------------------------------------------------------------------------------------\n",
      "4 ['total_travel_time', 'total_travel_cost']\n",
      "Inferred axes:\n",
      "[[2.559579  3.0805016]]\n",
      "Standard Deviation:\n",
      "[[0.01492301 0.0158586 ]]\n"
     ]
    },
    {
     "data": {
      "image/png": "[encoded data removed]",
      "text/plain": [
       "<Figure size 432x288 with 1 Axes>"
      ]
     },
     "metadata": {},
     "output_type": "display_data"
    },
    {
     "name": "stdout",
     "output_type": "stream",
     "text": [
      "Analysis for mode:  5\n",
      "-------------------------------------------------------------------------------------------\n",
      "5 ['total_travel_time', 'total_travel_cost']\n",
      "Inferred axes:\n",
      "[[0.8909465 0.9005865]]\n",
      "Standard Deviation:\n",
      "[[0.00589359 0.00755761]]\n"
     ]
    },
    {
     "data": {
      "image/png": "[encoded data removed]",
      "text/plain": [
       "<Figure size 432x288 with 1 Axes>"
      ]
     },
     "metadata": {},
     "output_type": "display_data"
    },
    {
     "name": "stdout",
     "output_type": "stream",
     "text": [
      "Analysis for mode:  6\n",
      "-------------------------------------------------------------------------------------------\n",
      "6 ['total_travel_time', 'total_travel_cost']\n",
      "Inferred axes:\n",
      "[[0.88016903 0.8809115 ]]\n",
      "Standard Deviation:\n",
      "[[0.00484792 0.00581999]]\n"
     ]
    },
    {
     "data": {
      "image/png": "[encoded data removed]",
      "text/plain": [
       "<Figure size 432x288 with 1 Axes>"
      ]
     },
     "metadata": {},
     "output_type": "display_data"
    },
    {
     "name": "stdout",
     "output_type": "stream",
     "text": [
      "Analysis for mode:  7\n",
      "-------------------------------------------------------------------------------------------\n",
      "7 []\n",
      "Inferred axes:\n",
      "[]\n",
      "Standard Deviation:\n",
      "[]\n"
     ]
    },
    {
     "data": {
      "image/png": "[encoded data removed]",
      "text/plain": [
       "<Figure size 432x288 with 1 Axes>"
      ]
     },
     "metadata": {},
     "output_type": "display_data"
    },
    {
     "name": "stdout",
     "output_type": "stream",
     "text": [
      "Analysis for mode:  8\n",
      "-------------------------------------------------------------------------------------------\n",
      "8 []\n",
      "Inferred axes:\n",
      "[]\n",
      "Standard Deviation:\n",
      "[]\n"
     ]
    },
    {
     "data": {
      "image/png": "[encoded data removed]",
      "text/plain": [
       "<Figure size 432x288 with 1 Axes>"
      ]
     },
     "metadata": {},
     "output_type": "display_data"
    }
   ],
   "source": [
    "confounder_vectors = []\n",
    "holdout_dfs = []\n",
    "masks_df = []\n",
    "rows_df =[]\n",
    "latent_dim = 1\n",
    "for i in data['mode_id'].unique():\n",
    "\n",
    "    data_mode_i = data[data['mode_id']==i]\n",
    "    # standardize the data for PPCA\n",
    "    print(\"Analysis for mode: \", i)\n",
    "    print(\"-------------------------------------------------------------------------------------------\")\n",
    "    X_columns = spec_dic[i]\n",
    "    \n",
    "    if 'intercept' in X_columns:\n",
    "        X_columns.remove('intercept')\n",
    "        \n",
    "    if 'total_travel_distance' in X_columns:\n",
    "        X_columns.remove('total_travel_distance')\n",
    "        \n",
    "    print(i, X_columns)\n",
    "    \n",
    "    X = np.array((data_mode_i[X_columns] - data_mode_i[X_columns].mean())/data_mode_i[X_columns].std())\n",
    "    \n",
    "    confounders, holdouts, holdoutmasks, holdoutrow= confounder_ppca(holdout_portion=0.2, X=X, latent_dim=latent_dim)\n",
    "\n",
    "    confounder_vectors.append(confounders)\n",
    "    holdout_dfs.append(holdouts)\n",
    "    masks_df.append(holdoutmasks)\n",
    "    rows_df.append(holdoutrow)"
   ]
  },
  {
   "cell_type": "markdown",
   "metadata": {},
   "source": [
    "## Second approach: using only the confounded variables in the factor model\n",
    "Using this approach, we only run the deconfounder's factor model on travel_time and travel_cost, which are the only variables confounded with travel_distance in our simulation"
   ]
  },
  {
   "cell_type": "code",
   "execution_count": 13,
   "metadata": {},
   "outputs": [
    {
     "name": "stdout",
     "output_type": "stream",
     "text": [
      "Inferred axes:\n",
      "[[1.0148872 1.0119478]]\n",
      "Standard Deviation:\n",
      "[[0.00600001 0.00627595]]\n"
     ]
    },
    {
     "data": {
      "image/png": "[encoded data removed]",
      "text/plain": [
       "<Figure size 432x288 with 1 Axes>"
      ]
     },
     "metadata": {},
     "output_type": "display_data"
    },
    {
     "name": "stdout",
     "output_type": "stream",
     "text": [
      "Inferred axes:\n",
      "[[1.0047468  0.99433863]]\n",
      "Standard Deviation:\n",
      "[[0.00447973 0.00776866]]\n"
     ]
    },
    {
     "data": {
      "image/png": "[encoded data removed]",
      "text/plain": [
       "<Figure size 432x288 with 1 Axes>"
      ]
     },
     "metadata": {},
     "output_type": "display_data"
    },
    {
     "name": "stdout",
     "output_type": "stream",
     "text": [
      "Inferred axes:\n",
      "[[1.0213395 1.0193049]]\n",
      "Standard Deviation:\n",
      "[[0.00578112 0.00653108]]\n"
     ]
    },
    {
     "data": {
      "image/png": "[encoded data removed]",
      "text/plain": [
       "<Figure size 432x288 with 1 Axes>"
      ]
     },
     "metadata": {},
     "output_type": "display_data"
    }
   ],
   "source": [
    "confounded_variables = ['total_travel_time', 'total_travel_cost']\n",
    "X_DA = (data[data['mode_id']==1][confounded_variables] - \n",
    "        data[data['mode_id']==1][xs].mean())/data[data['mode_id']==1][xs].std()\n",
    "\n",
    "X_SR2 = ((data[data['mode_id']==2][confounded_variables] - \n",
    "         data[data['mode_id']==2][confounded_variables].mean())\n",
    "         /data[data['mode_id']==2][confounded_variables].std())\n",
    "X_SR3 = ((data[data['mode_id']==3][confounded_variables] - \n",
    "         data[data['mode_id']==3][confounded_variables].mean())\n",
    "         /data[data['mode_id']==3][confounded_variables].std())\n",
    "\n",
    "(confounders_DA, holdouts_DA, \n",
    " holdoutmasks_DA, holdoutrow_DA)= confounder_ppca(holdout_portion=0.2, \n",
    "                                       X=X_DA, latent_dim=latent_dim)\n",
    "\n",
    "(confounders_SR2, holdouts_SR2, \n",
    " holdoutmasks_SR2, holdoutrow_SR2)= confounder_ppca(holdout_portion=0.2, \n",
    "                                       X=X_SR2, latent_dim=latent_dim)\n",
    "\n",
    "(confounders_SR3, holdouts_SR3, \n",
    " holdoutmasks_SR3, holdoutrow_SR3)= confounder_ppca(holdout_portion=0.2, \n",
    "                                       X=X_SR3, latent_dim=latent_dim)\n",
    "\n",
    "\n",
    "\n"
   ]
  },
  {
   "cell_type": "markdown",
   "metadata": {},
   "source": [
    "## Adding confounders to original DF"
   ]
  },
  {
   "cell_type": "code",
   "execution_count": 1,
   "metadata": {},
   "outputs": [],
   "source": [
    "def add_confounders_to_df(data, confounder_vectors):\n",
    "    for i in data['mode_id'].unique():\n",
    "    \n",
    "#     print(len(data.loc[data['mode_id']==i, col_name]), len(confounder_vectors[int(i-1)][2]) )\n",
    "    \n",
    "        col_name = 'confounder_for_mode_' + str(int(i))\n",
    "        data.loc[data['mode_id']==i, col_name] = confounder_vectors[int(i-1)][2]\n",
    "        data[col_name] = data[col_name].fillna(0)\n",
    "\n",
    "    data['confounder_all'] = data[['confounder_for_mode_1','confounder_for_mode_2','confounder_for_mode_3',\n",
    "                                  'confounder_for_mode_4', 'confounder_for_mode_5', 'confounder_for_mode_6',\n",
    "                                  'confounder_for_mode_7', 'confounder_for_mode_8']].sum(axis=1)"
   ]
  },
  {
   "cell_type": "code",
   "execution_count": 14,
   "metadata": {},
   "outputs": [
    {
     "data": {
      "text/html": [
       "<div>\n",
       "<style scoped>\n",
       "    .dataframe tbody tr th:only-of-type {\n",
       "        vertical-align: middle;\n",
       "    }\n",
       "\n",
       "    .dataframe tbody tr th {\n",
       "        vertical-align: top;\n",
       "    }\n",
       "\n",
       "    .dataframe thead th {\n",
       "        text-align: right;\n",
       "    }\n",
       "</style>\n",
       "<table border=\"1\" class=\"dataframe\">\n",
       "  <thead>\n",
       "    <tr style=\"text-align: right;\">\n",
       "      <th></th>\n",
       "      <th>observation_id</th>\n",
       "      <th>mode_id</th>\n",
       "      <th>sim_choice</th>\n",
       "      <th>num_kids</th>\n",
       "      <th>household_size</th>\n",
       "      <th>num_cars</th>\n",
       "      <th>num_licensed_drivers</th>\n",
       "      <th>cross_bay</th>\n",
       "      <th>total_travel_time</th>\n",
       "      <th>total_travel_cost</th>\n",
       "      <th>...</th>\n",
       "      <th>confounder_for_mode_4</th>\n",
       "      <th>confounder_for_mode_5</th>\n",
       "      <th>confounder_for_mode_6</th>\n",
       "      <th>confounder_for_mode_7</th>\n",
       "      <th>confounder_for_mode_8</th>\n",
       "      <th>confounder_all</th>\n",
       "      <th>confounder_da</th>\n",
       "      <th>confounder_sr2</th>\n",
       "      <th>confounder_sr3</th>\n",
       "      <th>confounder_all_2</th>\n",
       "    </tr>\n",
       "  </thead>\n",
       "  <tbody>\n",
       "    <tr>\n",
       "      <th>0</th>\n",
       "      <td>1</td>\n",
       "      <td>1</td>\n",
       "      <td>0</td>\n",
       "      <td>1</td>\n",
       "      <td>3.0</td>\n",
       "      <td>2.0</td>\n",
       "      <td>3.0</td>\n",
       "      <td>1</td>\n",
       "      <td>35.544668</td>\n",
       "      <td>6.564386</td>\n",
       "      <td>...</td>\n",
       "      <td>0.000000</td>\n",
       "      <td>0.000000</td>\n",
       "      <td>0.0</td>\n",
       "      <td>0.0</td>\n",
       "      <td>0.0</td>\n",
       "      <td>0.494356</td>\n",
       "      <td>0.26369</td>\n",
       "      <td>0.000000</td>\n",
       "      <td>0.00000</td>\n",
       "      <td>0.263690</td>\n",
       "    </tr>\n",
       "    <tr>\n",
       "      <th>1</th>\n",
       "      <td>1</td>\n",
       "      <td>2</td>\n",
       "      <td>0</td>\n",
       "      <td>1</td>\n",
       "      <td>3.0</td>\n",
       "      <td>2.0</td>\n",
       "      <td>3.0</td>\n",
       "      <td>1</td>\n",
       "      <td>22.614221</td>\n",
       "      <td>1.676586</td>\n",
       "      <td>...</td>\n",
       "      <td>0.000000</td>\n",
       "      <td>0.000000</td>\n",
       "      <td>0.0</td>\n",
       "      <td>0.0</td>\n",
       "      <td>0.0</td>\n",
       "      <td>0.098976</td>\n",
       "      <td>0.00000</td>\n",
       "      <td>-0.181981</td>\n",
       "      <td>0.00000</td>\n",
       "      <td>-0.181981</td>\n",
       "    </tr>\n",
       "    <tr>\n",
       "      <th>2</th>\n",
       "      <td>1</td>\n",
       "      <td>3</td>\n",
       "      <td>0</td>\n",
       "      <td>1</td>\n",
       "      <td>3.0</td>\n",
       "      <td>2.0</td>\n",
       "      <td>3.0</td>\n",
       "      <td>1</td>\n",
       "      <td>3.906758</td>\n",
       "      <td>0.085364</td>\n",
       "      <td>...</td>\n",
       "      <td>0.000000</td>\n",
       "      <td>0.000000</td>\n",
       "      <td>0.0</td>\n",
       "      <td>0.0</td>\n",
       "      <td>0.0</td>\n",
       "      <td>-0.848271</td>\n",
       "      <td>0.00000</td>\n",
       "      <td>0.000000</td>\n",
       "      <td>-0.97049</td>\n",
       "      <td>-0.970490</td>\n",
       "    </tr>\n",
       "    <tr>\n",
       "      <th>3</th>\n",
       "      <td>1</td>\n",
       "      <td>4</td>\n",
       "      <td>0</td>\n",
       "      <td>1</td>\n",
       "      <td>3.0</td>\n",
       "      <td>2.0</td>\n",
       "      <td>3.0</td>\n",
       "      <td>1</td>\n",
       "      <td>102.434669</td>\n",
       "      <td>3.359414</td>\n",
       "      <td>...</td>\n",
       "      <td>-0.109822</td>\n",
       "      <td>0.000000</td>\n",
       "      <td>0.0</td>\n",
       "      <td>0.0</td>\n",
       "      <td>0.0</td>\n",
       "      <td>-0.109822</td>\n",
       "      <td>0.00000</td>\n",
       "      <td>0.000000</td>\n",
       "      <td>0.00000</td>\n",
       "      <td>0.000000</td>\n",
       "    </tr>\n",
       "    <tr>\n",
       "      <th>4</th>\n",
       "      <td>1</td>\n",
       "      <td>5</td>\n",
       "      <td>0</td>\n",
       "      <td>1</td>\n",
       "      <td>3.0</td>\n",
       "      <td>2.0</td>\n",
       "      <td>3.0</td>\n",
       "      <td>1</td>\n",
       "      <td>79.962397</td>\n",
       "      <td>1.870520</td>\n",
       "      <td>...</td>\n",
       "      <td>0.000000</td>\n",
       "      <td>-0.741801</td>\n",
       "      <td>0.0</td>\n",
       "      <td>0.0</td>\n",
       "      <td>0.0</td>\n",
       "      <td>-0.741801</td>\n",
       "      <td>0.00000</td>\n",
       "      <td>0.000000</td>\n",
       "      <td>0.00000</td>\n",
       "      <td>0.000000</td>\n",
       "    </tr>\n",
       "  </tbody>\n",
       "</table>\n",
       "<p>5 rows × 27 columns</p>\n",
       "</div>"
      ],
      "text/plain": [
       "   observation_id  mode_id  sim_choice  num_kids  household_size  num_cars  \\\n",
       "0               1        1           0         1             3.0       2.0   \n",
       "1               1        2           0         1             3.0       2.0   \n",
       "2               1        3           0         1             3.0       2.0   \n",
       "3               1        4           0         1             3.0       2.0   \n",
       "4               1        5           0         1             3.0       2.0   \n",
       "\n",
       "   num_licensed_drivers  cross_bay  total_travel_time  total_travel_cost  ...  \\\n",
       "0                   3.0          1          35.544668           6.564386  ...   \n",
       "1                   3.0          1          22.614221           1.676586  ...   \n",
       "2                   3.0          1           3.906758           0.085364  ...   \n",
       "3                   3.0          1         102.434669           3.359414  ...   \n",
       "4                   3.0          1          79.962397           1.870520  ...   \n",
       "\n",
       "   confounder_for_mode_4  confounder_for_mode_5  confounder_for_mode_6  \\\n",
       "0               0.000000               0.000000                    0.0   \n",
       "1               0.000000               0.000000                    0.0   \n",
       "2               0.000000               0.000000                    0.0   \n",
       "3              -0.109822               0.000000                    0.0   \n",
       "4               0.000000              -0.741801                    0.0   \n",
       "\n",
       "   confounder_for_mode_7  confounder_for_mode_8  confounder_all  \\\n",
       "0                    0.0                    0.0        0.494356   \n",
       "1                    0.0                    0.0        0.098976   \n",
       "2                    0.0                    0.0       -0.848271   \n",
       "3                    0.0                    0.0       -0.109822   \n",
       "4                    0.0                    0.0       -0.741801   \n",
       "\n",
       "   confounder_da  confounder_sr2  confounder_sr3  confounder_all_2  \n",
       "0        0.26369        0.000000         0.00000          0.263690  \n",
       "1        0.00000       -0.181981         0.00000         -0.181981  \n",
       "2        0.00000        0.000000        -0.97049         -0.970490  \n",
       "3        0.00000        0.000000         0.00000          0.000000  \n",
       "4        0.00000        0.000000         0.00000          0.000000  \n",
       "\n",
       "[5 rows x 27 columns]"
      ]
     },
     "execution_count": 14,
     "metadata": {},
     "output_type": "execute_result"
    }
   ],
   "source": [
    "for i in data['mode_id'].unique():\n",
    "    \n",
    "#     print(len(data.loc[data['mode_id']==i, col_name]), len(confounder_vectors[int(i-1)][2]) )\n",
    "    \n",
    "    col_name = 'confounder_for_mode_' + str(int(i))\n",
    "    data.loc[data['mode_id']==i, col_name] = confounder_vectors[int(i-1)][2]\n",
    "    data[col_name] = data[col_name].fillna(0)\n",
    "    \n",
    "data['confounder_all'] = data[['confounder_for_mode_1','confounder_for_mode_2','confounder_for_mode_3',\n",
    "                              'confounder_for_mode_4', 'confounder_for_mode_5', 'confounder_for_mode_6',\n",
    "                              'confounder_for_mode_7', 'confounder_for_mode_8']].sum(axis=1)\n",
    "\n",
    "\n",
    "data.loc[data['mode_id']==1, 'confounder_da'] = confounders_DA[2]\n",
    "data['confounder_da'] = data['confounder_da'].fillna(0)\n",
    "\n",
    "data.loc[data['mode_id']==2, 'confounder_sr2'] = confounders_SR2[2]\n",
    "data['confounder_sr2'] = data['confounder_sr2'].fillna(0)\n",
    "\n",
    "data.loc[data['mode_id']==3, 'confounder_sr3'] = confounders_SR3[2]\n",
    "data['confounder_sr3'] = data['confounder_sr3'].fillna(0)\n",
    "\n",
    "data['confounder_all_2'] = data[['confounder_da', 'confounder_sr2', 'confounder_sr3']].sum(axis=1)\n",
    "data.head()\n"
   ]
  },
  {
   "cell_type": "markdown",
   "metadata": {},
   "source": [
    "# Compare recovered confounder to actual confounder\n",
    "\n",
    "Notice here that although the recovered confounder correlates well with the true confounder, there is more noise in method 1 where we use all the variables in each utility to recover the confounder. Method 2 has less noise, but as we will see later in the notebook, this noise is still high enough that our estimates on travel_time and travel_cost will still be biased even after adjusting for the recovered confounder."
   ]
  },
  {
   "cell_type": "code",
   "execution_count": 15,
   "metadata": {
    "scrolled": false
   },
   "outputs": [
    {
     "name": "stderr",
     "output_type": "stream",
     "text": [
      "'c' argument looks like a single numeric RGB or RGBA sequence, which should be avoided as value-mapping will have precedence in case its length matches with 'x' & 'y'.  Please use a 2-D array with a single row if you really want to specify the same RGB or RGBA value for all points.\n",
      "'c' argument looks like a single numeric RGB or RGBA sequence, which should be avoided as value-mapping will have precedence in case its length matches with 'x' & 'y'.  Please use a 2-D array with a single row if you really want to specify the same RGB or RGBA value for all points.\n"
     ]
    },
    {
     "data": {
      "text/plain": [
       "<matplotlib.axes._subplots.AxesSubplot at 0x121817748>"
      ]
     },
     "execution_count": 15,
     "metadata": {},
     "output_type": "execute_result"
    },
    {
     "data": {
      "image/png": "[encoded data removed]",
      "text/plain": [
       "<Figure size 432x288 with 1 Axes>"
      ]
     },
     "metadata": {},
     "output_type": "display_data"
    },
    {
     "data": {
      "image/png": "[encoded data removed]",
      "text/plain": [
       "<Figure size 432x288 with 1 Axes>"
      ]
     },
     "metadata": {},
     "output_type": "display_data"
    }
   ],
   "source": [
    "data_da = data[data['mode_id']==1]\n",
    "\n",
    "data_da.plot.scatter('total_travel_distance', 'confounder_all')\n",
    "\n",
    "data_da.plot.scatter('total_travel_distance', 'confounder_all_2')"
   ]
  },
  {
   "cell_type": "markdown",
   "metadata": {},
   "source": [
    "## True Model"
   ]
  },
  {
   "cell_type": "code",
   "execution_count": 16,
   "metadata": {},
   "outputs": [
    {
     "name": "stderr",
     "output_type": "stream",
     "text": [
      "/Users/hassanobeid/anaconda3/lib/python3.7/site-packages/pylogit/choice_tools.py:703: FutureWarning: arrays to stack must be passed as a \"sequence\" type such as list or tuple. Support for non-sequence iterables such as generators is deprecated as of NumPy 1.16 and will raise an error in the future.\n",
      "  design_matrix = np.hstack((x[:, None] for x in independent_vars))\n"
     ]
    },
    {
     "name": "stdout",
     "output_type": "stream",
     "text": [
      "Log-likelihood at zero: -15,176.6986\n",
      "Initial Log-likelihood: -15,176.6986\n"
     ]
    },
    {
     "name": "stderr",
     "output_type": "stream",
     "text": [
      "/Users/hassanobeid/anaconda3/lib/python3.7/site-packages/scipy/optimize/_minimize.py:506: RuntimeWarning: Method BFGS does not use Hessian information (hess).\n",
      "  RuntimeWarning)\n"
     ]
    },
    {
     "name": "stdout",
     "output_type": "stream",
     "text": [
      "Estimation Time for Point Estimation: 0.31 seconds.\n",
      "Final log-likelihood: -8,116.6614\n"
     ]
    },
    {
     "data": {
      "text/html": [
       "<table class=\"simpletable\">\n",
       "<caption>Multinomial Logit Model Regression Results</caption>\n",
       "<tr>\n",
       "  <th>Dep. Variable:</th>       <td>sim_choice</td>        <th>  No. Observations:  </th>    <td>8,000</td>   \n",
       "</tr>\n",
       "<tr>\n",
       "  <th>Model:</th>         <td>Multinomial Logit Model</td> <th>  Df Residuals:      </th>    <td>7,976</td>   \n",
       "</tr>\n",
       "<tr>\n",
       "  <th>Method:</th>                  <td>MLE</td>           <th>  Df Model:          </th>     <td>24</td>     \n",
       "</tr>\n",
       "<tr>\n",
       "  <th>Date:</th>             <td>Sun, 07 Jun 2020</td>     <th>  Pseudo R-squ.:     </th>    <td>0.465</td>   \n",
       "</tr>\n",
       "<tr>\n",
       "  <th>Time:</th>                 <td>13:14:08</td>         <th>  Pseudo R-bar-squ.: </th>    <td>0.464</td>   \n",
       "</tr>\n",
       "<tr>\n",
       "  <th>AIC:</th>                 <td>16,281.323</td>        <th>  Log-Likelihood:    </th> <td>-8,116.661</td> \n",
       "</tr>\n",
       "<tr>\n",
       "  <th>BIC:</th>                 <td>16,449.016</td>        <th>  LL-Null:           </th> <td>-15,176.699</td>\n",
       "</tr>\n",
       "</table>\n",
       "<table class=\"simpletable\">\n",
       "<tr>\n",
       "                          <td></td>                            <th>coef</th>     <th>std err</th>      <th>z</th>      <th>P>|z|</th>  <th>[0.025</th>    <th>0.975]</th>  \n",
       "</tr>\n",
       "<tr>\n",
       "  <th>ASC Shared Ride: 2</th>                               <td>   -1.4806</td> <td>    0.125</td> <td>  -11.831</td> <td> 0.000</td> <td>   -1.726</td> <td>   -1.235</td>\n",
       "</tr>\n",
       "<tr>\n",
       "  <th>ASC Shared Ride: 3+</th>                              <td>   -1.0591</td> <td>    0.135</td> <td>   -7.847</td> <td> 0.000</td> <td>   -1.324</td> <td>   -0.795</td>\n",
       "</tr>\n",
       "<tr>\n",
       "  <th>ASC Walk-Transit-Walk</th>                            <td>    0.9292</td> <td>    0.131</td> <td>    7.078</td> <td> 0.000</td> <td>    0.672</td> <td>    1.186</td>\n",
       "</tr>\n",
       "<tr>\n",
       "  <th>ASC Drive-Transit-Walk</th>                           <td>   -1.4083</td> <td>    0.145</td> <td>   -9.716</td> <td> 0.000</td> <td>   -1.692</td> <td>   -1.124</td>\n",
       "</tr>\n",
       "<tr>\n",
       "  <th>ASC Walk-Transit-Drive</th>                           <td>   -1.6138</td> <td>    0.150</td> <td>  -10.788</td> <td> 0.000</td> <td>   -1.907</td> <td>   -1.321</td>\n",
       "</tr>\n",
       "<tr>\n",
       "  <th>ASC Walk</th>                                         <td>    3.0480</td> <td>    0.135</td> <td>   22.606</td> <td> 0.000</td> <td>    2.784</td> <td>    3.312</td>\n",
       "</tr>\n",
       "<tr>\n",
       "  <th>ASC Bike</th>                                         <td>    0.2714</td> <td>    0.103</td> <td>    2.627</td> <td> 0.009</td> <td>    0.069</td> <td>    0.474</td>\n",
       "</tr>\n",
       "<tr>\n",
       "  <th>Travel Time, units:min (Drive Alone)</th>             <td>   -0.0844</td> <td>    0.005</td> <td>  -16.886</td> <td> 0.000</td> <td>   -0.094</td> <td>   -0.075</td>\n",
       "</tr>\n",
       "<tr>\n",
       "  <th>Travel Time, units:min (SharedRide-2)</th>            <td>   -0.0903</td> <td>    0.006</td> <td>  -14.750</td> <td> 0.000</td> <td>   -0.102</td> <td>   -0.078</td>\n",
       "</tr>\n",
       "<tr>\n",
       "  <th>Travel Time, units:min (SharedRide-3+)</th>           <td>   -0.1261</td> <td>    0.008</td> <td>  -16.050</td> <td> 0.000</td> <td>   -0.141</td> <td>   -0.111</td>\n",
       "</tr>\n",
       "<tr>\n",
       "  <th>Travel Time, units:min (All Transit Modes)</th>       <td>   -0.0297</td> <td>    0.002</td> <td>  -19.750</td> <td> 0.000</td> <td>   -0.033</td> <td>   -0.027</td>\n",
       "</tr>\n",
       "<tr>\n",
       "  <th>Travel Cost, units:$ (Drive Alone)</th>               <td>   -0.2292</td> <td>    0.026</td> <td>   -8.744</td> <td> 0.000</td> <td>   -0.281</td> <td>   -0.178</td>\n",
       "</tr>\n",
       "<tr>\n",
       "  <th>Travel Cost, units:$ (SharedRide-2)</th>              <td>   -0.4378</td> <td>    0.057</td> <td>   -7.636</td> <td> 0.000</td> <td>   -0.550</td> <td>   -0.325</td>\n",
       "</tr>\n",
       "<tr>\n",
       "  <th>Travel Cost, units:$ (SharedRide-3+)</th>             <td>   -0.7461</td> <td>    0.157</td> <td>   -4.749</td> <td> 0.000</td> <td>   -1.054</td> <td>   -0.438</td>\n",
       "</tr>\n",
       "<tr>\n",
       "  <th>Travel Cost, units:$ (All Transit Modes)</th>         <td>   -0.1180</td> <td>    0.019</td> <td>   -6.316</td> <td> 0.000</td> <td>   -0.155</td> <td>   -0.081</td>\n",
       "</tr>\n",
       "<tr>\n",
       "  <th>Autos per licensed drivers (All Auto Modes)</th>      <td>    1.3336</td> <td>    0.055</td> <td>   24.051</td> <td> 0.000</td> <td>    1.225</td> <td>    1.442</td>\n",
       "</tr>\n",
       "<tr>\n",
       "  <th>Travel Distance, units:mi (Drive Alone)</th>          <td>    0.1056</td> <td>    0.009</td> <td>   11.880</td> <td> 0.000</td> <td>    0.088</td> <td>    0.123</td>\n",
       "</tr>\n",
       "<tr>\n",
       "  <th>Travel Distance, units:mi (SharedRide-2)</th>         <td>    0.0637</td> <td>    0.011</td> <td>    5.689</td> <td> 0.000</td> <td>    0.042</td> <td>    0.086</td>\n",
       "</tr>\n",
       "<tr>\n",
       "  <th>Travel Distance, units:mi (SharedRide-3+)</th>        <td>    0.0359</td> <td>    0.017</td> <td>    2.057</td> <td> 0.040</td> <td>    0.002</td> <td>    0.070</td>\n",
       "</tr>\n",
       "<tr>\n",
       "  <th>Travel Distance, units:mi (Walk)</th>                 <td>   -1.0998</td> <td>    0.037</td> <td>  -30.075</td> <td> 0.000</td> <td>   -1.171</td> <td>   -1.028</td>\n",
       "</tr>\n",
       "<tr>\n",
       "  <th>Travel Distance, units:mi (Bike)</th>                 <td>   -0.3209</td> <td>    0.016</td> <td>  -20.290</td> <td> 0.000</td> <td>   -0.352</td> <td>   -0.290</td>\n",
       "</tr>\n",
       "<tr>\n",
       "  <th>Cross-Bay Tour (Shared Ride 2 & 3+)</th>              <td>    0.6706</td> <td>    0.123</td> <td>    5.459</td> <td> 0.000</td> <td>    0.430</td> <td>    0.911</td>\n",
       "</tr>\n",
       "<tr>\n",
       "  <th>Household Size (Shared Ride 2 & 3+)</th>              <td>    0.1142</td> <td>    0.022</td> <td>    5.194</td> <td> 0.000</td> <td>    0.071</td> <td>    0.157</td>\n",
       "</tr>\n",
       "<tr>\n",
       "  <th>Number of Kids in Household (Shared Ride 2 & 3+)</th> <td>    0.5737</td> <td>    0.026</td> <td>   21.827</td> <td> 0.000</td> <td>    0.522</td> <td>    0.625</td>\n",
       "</tr>\n",
       "</table>"
      ],
      "text/plain": [
       "<class 'statsmodels.iolib.summary.Summary'>\n",
       "\"\"\"\n",
       "                     Multinomial Logit Model Regression Results                    \n",
       "===================================================================================\n",
       "Dep. Variable:                  sim_choice   No. Observations:                8,000\n",
       "Model:             Multinomial Logit Model   Df Residuals:                    7,976\n",
       "Method:                                MLE   Df Model:                           24\n",
       "Date:                     Sun, 07 Jun 2020   Pseudo R-squ.:                   0.465\n",
       "Time:                             13:14:08   Pseudo R-bar-squ.:               0.464\n",
       "AIC:                            16,281.323   Log-Likelihood:             -8,116.661\n",
       "BIC:                            16,449.016   LL-Null:                   -15,176.699\n",
       "====================================================================================================================\n",
       "                                                       coef    std err          z      P>|z|      [0.025      0.975]\n",
       "--------------------------------------------------------------------------------------------------------------------\n",
       "ASC Shared Ride: 2                                  -1.4806      0.125    -11.831      0.000      -1.726      -1.235\n",
       "ASC Shared Ride: 3+                                 -1.0591      0.135     -7.847      0.000      -1.324      -0.795\n",
       "ASC Walk-Transit-Walk                                0.9292      0.131      7.078      0.000       0.672       1.186\n",
       "ASC Drive-Transit-Walk                              -1.4083      0.145     -9.716      0.000      -1.692      -1.124\n",
       "ASC Walk-Transit-Drive                              -1.6138      0.150    -10.788      0.000      -1.907      -1.321\n",
       "ASC Walk                                             3.0480      0.135     22.606      0.000       2.784       3.312\n",
       "ASC Bike                                             0.2714      0.103      2.627      0.009       0.069       0.474\n",
       "Travel Time, units:min (Drive Alone)                -0.0844      0.005    -16.886      0.000      -0.094      -0.075\n",
       "Travel Time, units:min (SharedRide-2)               -0.0903      0.006    -14.750      0.000      -0.102      -0.078\n",
       "Travel Time, units:min (SharedRide-3+)              -0.1261      0.008    -16.050      0.000      -0.141      -0.111\n",
       "Travel Time, units:min (All Transit Modes)          -0.0297      0.002    -19.750      0.000      -0.033      -0.027\n",
       "Travel Cost, units:$ (Drive Alone)                  -0.2292      0.026     -8.744      0.000      -0.281      -0.178\n",
       "Travel Cost, units:$ (SharedRide-2)                 -0.4378      0.057     -7.636      0.000      -0.550      -0.325\n",
       "Travel Cost, units:$ (SharedRide-3+)                -0.7461      0.157     -4.749      0.000      -1.054      -0.438\n",
       "Travel Cost, units:$ (All Transit Modes)            -0.1180      0.019     -6.316      0.000      -0.155      -0.081\n",
       "Autos per licensed drivers (All Auto Modes)          1.3336      0.055     24.051      0.000       1.225       1.442\n",
       "Travel Distance, units:mi (Drive Alone)              0.1056      0.009     11.880      0.000       0.088       0.123\n",
       "Travel Distance, units:mi (SharedRide-2)             0.0637      0.011      5.689      0.000       0.042       0.086\n",
       "Travel Distance, units:mi (SharedRide-3+)            0.0359      0.017      2.057      0.040       0.002       0.070\n",
       "Travel Distance, units:mi (Walk)                    -1.0998      0.037    -30.075      0.000      -1.171      -1.028\n",
       "Travel Distance, units:mi (Bike)                    -0.3209      0.016    -20.290      0.000      -0.352      -0.290\n",
       "Cross-Bay Tour (Shared Ride 2 & 3+)                  0.6706      0.123      5.459      0.000       0.430       0.911\n",
       "Household Size (Shared Ride 2 & 3+)                  0.1142      0.022      5.194      0.000       0.071       0.157\n",
       "Number of Kids in Household (Shared Ride 2 & 3+)     0.5737      0.026     21.827      0.000       0.522       0.625\n",
       "====================================================================================================================\n",
       "\"\"\""
      ]
     },
     "execution_count": 16,
     "metadata": {},
     "output_type": "execute_result"
    }
   ],
   "source": [
    "# Estimate the basic MNL model, using the hessian and newton-conjugate gradient\n",
    "mnl_model = cm.create_choice_model(data=data,\n",
    "                                   alt_id_col=\"mode_id\",\n",
    "                                   obs_id_col=\"observation_id\",\n",
    "                                   choice_col=\"sim_choice\",\n",
    "                                   specification=mnl_specification,\n",
    "                                   model_type=\"MNL\",\n",
    "                                   names=mnl_names)\n",
    "\n",
    "num_vars = len(reduce(lambda x, y: x + y, mnl_names.values()))\n",
    "mnl_model.fit_mle(np.zeros(num_vars),\n",
    "                  method=\"BFGS\")\n",
    "mnl_model.get_statsmodels_summary()"
   ]
  },
  {
   "cell_type": "markdown",
   "metadata": {},
   "source": [
    "## Model 1"
   ]
  },
  {
   "cell_type": "code",
   "execution_count": 17,
   "metadata": {},
   "outputs": [],
   "source": [
    "# Create my specification and variable names for the basic MNL model\n",
    "# NOTE: - Keys should be variables within the long format dataframe.\n",
    "#         The sole exception to this is the \"intercept\" key.\n",
    "#       - For the specification dictionary, the values should be lists\n",
    "#         or lists of lists. Within a list, or within the inner-most\n",
    "#         list should be the alternative ID's of the alternative whose\n",
    "#         utility specification the explanatory variable is entering.\n",
    "\n",
    "mnl_specification_noncausal = OrderedDict()\n",
    "mnl_names_noncausal = OrderedDict()\n",
    "\n",
    "mnl_specification_noncausal[\"intercept\"] = [2, 3, 4, 5, 6, 7, 8]\n",
    "mnl_names_noncausal[\"intercept\"] = ['ASC Shared Ride: 2',\n",
    "                          'ASC Shared Ride: 3+',\n",
    "                          'ASC Walk-Transit-Walk',\n",
    "                          'ASC Drive-Transit-Walk',\n",
    "                          'ASC Walk-Transit-Drive',\n",
    "                          'ASC Walk',\n",
    "                          'ASC Bike']\n",
    "\n",
    "mnl_specification_noncausal[\"total_travel_time\"] = [1, 2, 3, [4, 5, 6]]\n",
    "mnl_names_noncausal[\"total_travel_time\"] = ['Travel Time, units:min (Drive Alone)',\n",
    "                                  'Travel Time, units:min (SharedRide-2)',\n",
    "                                  'Travel Time, units:min (SharedRide-3+)',\n",
    "                                  'Travel Time, units:min (All Transit Modes)']\n",
    "\n",
    "mnl_specification_noncausal[\"total_travel_cost\"] = [1, 2, 3, [4, 5, 6]]\n",
    "mnl_names_noncausal[\"total_travel_cost\"] = ['Travel Cost, units:$ (Drive Alone)',\n",
    "                                  'Travel Cost, units:$ (SharedRide-2)',\n",
    "                                  'Travel Cost, units:$ (SharedRide-3+)',\n",
    "                                  'Travel Cost, units:$ (All Transit Modes)']\n",
    "\n",
    "mnl_specification_noncausal[\"cars_per_licensed_drivers\"] = [[1, 2, 3]]\n",
    "mnl_names_noncausal[\"cars_per_licensed_drivers\"] = [\"Autos per licensed drivers (All Auto Modes)\"]\n",
    "\n",
    "mnl_specification_noncausal[\"cross_bay\"] = [[2, 3]]\n",
    "mnl_names_noncausal[\"cross_bay\"] = [\"Cross-Bay Tour (Shared Ride 2 & 3+)\"]\n",
    "\n",
    "mnl_specification_noncausal[\"household_size\"] = [[2, 3]]\n",
    "mnl_names_noncausal[\"household_size\"] = ['Household Size (Shared Ride 2 & 3+)']\n",
    "\n",
    "mnl_specification_noncausal[\"num_kids\"] = [[2, 3]]\n",
    "mnl_names_noncausal[\"num_kids\"] = [\"Number of Kids in Household (Shared Ride 2 & 3+)\"]"
   ]
  },
  {
   "cell_type": "code",
   "execution_count": 18,
   "metadata": {},
   "outputs": [
    {
     "name": "stderr",
     "output_type": "stream",
     "text": [
      "/Users/hassanobeid/anaconda3/lib/python3.7/site-packages/pylogit/choice_tools.py:703: FutureWarning: arrays to stack must be passed as a \"sequence\" type such as list or tuple. Support for non-sequence iterables such as generators is deprecated as of NumPy 1.16 and will raise an error in the future.\n",
      "  design_matrix = np.hstack((x[:, None] for x in independent_vars))\n"
     ]
    },
    {
     "name": "stdout",
     "output_type": "stream",
     "text": [
      "Log-likelihood at zero: -15,176.6986\n",
      "Initial Log-likelihood: -15,176.6986\n"
     ]
    },
    {
     "name": "stderr",
     "output_type": "stream",
     "text": [
      "/Users/hassanobeid/anaconda3/lib/python3.7/site-packages/scipy/optimize/_minimize.py:506: RuntimeWarning: Method BFGS does not use Hessian information (hess).\n",
      "  RuntimeWarning)\n"
     ]
    },
    {
     "name": "stdout",
     "output_type": "stream",
     "text": [
      "Estimation Time for Point Estimation: 0.22 seconds.\n",
      "Final log-likelihood: -10,288.5691\n"
     ]
    },
    {
     "data": {
      "text/html": [
       "<table class=\"simpletable\">\n",
       "<caption>Multinomial Logit Model Regression Results</caption>\n",
       "<tr>\n",
       "  <th>Dep. Variable:</th>       <td>sim_choice</td>        <th>  No. Observations:  </th>    <td>8,000</td>   \n",
       "</tr>\n",
       "<tr>\n",
       "  <th>Model:</th>         <td>Multinomial Logit Model</td> <th>  Df Residuals:      </th>    <td>7,981</td>   \n",
       "</tr>\n",
       "<tr>\n",
       "  <th>Method:</th>                  <td>MLE</td>           <th>  Df Model:          </th>     <td>19</td>     \n",
       "</tr>\n",
       "<tr>\n",
       "  <th>Date:</th>             <td>Sun, 07 Jun 2020</td>     <th>  Pseudo R-squ.:     </th>    <td>0.322</td>   \n",
       "</tr>\n",
       "<tr>\n",
       "  <th>Time:</th>                 <td>13:14:52</td>         <th>  Pseudo R-bar-squ.: </th>    <td>0.321</td>   \n",
       "</tr>\n",
       "<tr>\n",
       "  <th>AIC:</th>                 <td>20,615.138</td>        <th>  Log-Likelihood:    </th> <td>-10,288.569</td>\n",
       "</tr>\n",
       "<tr>\n",
       "  <th>BIC:</th>                 <td>20,747.895</td>        <th>  LL-Null:           </th> <td>-15,176.699</td>\n",
       "</tr>\n",
       "</table>\n",
       "<table class=\"simpletable\">\n",
       "<tr>\n",
       "                          <td></td>                            <th>coef</th>     <th>std err</th>      <th>z</th>      <th>P>|z|</th>  <th>[0.025</th>    <th>0.975]</th>  \n",
       "</tr>\n",
       "<tr>\n",
       "  <th>ASC Shared Ride: 2</th>                               <td>   -1.1772</td> <td>    0.116</td> <td>  -10.187</td> <td> 0.000</td> <td>   -1.404</td> <td>   -0.951</td>\n",
       "</tr>\n",
       "<tr>\n",
       "  <th>ASC Shared Ride: 3+</th>                              <td>   -0.7079</td> <td>    0.126</td> <td>   -5.628</td> <td> 0.000</td> <td>   -0.954</td> <td>   -0.461</td>\n",
       "</tr>\n",
       "<tr>\n",
       "  <th>ASC Walk-Transit-Walk</th>                            <td>    0.9579</td> <td>    0.122</td> <td>    7.877</td> <td> 0.000</td> <td>    0.720</td> <td>    1.196</td>\n",
       "</tr>\n",
       "<tr>\n",
       "  <th>ASC Drive-Transit-Walk</th>                           <td>   -1.2297</td> <td>    0.138</td> <td>   -8.930</td> <td> 0.000</td> <td>   -1.500</td> <td>   -0.960</td>\n",
       "</tr>\n",
       "<tr>\n",
       "  <th>ASC Walk-Transit-Drive</th>                           <td>   -1.4191</td> <td>    0.143</td> <td>   -9.955</td> <td> 0.000</td> <td>   -1.699</td> <td>   -1.140</td>\n",
       "</tr>\n",
       "<tr>\n",
       "  <th>ASC Walk</th>                                         <td>   -1.0122</td> <td>    0.074</td> <td>  -13.670</td> <td> 0.000</td> <td>   -1.157</td> <td>   -0.867</td>\n",
       "</tr>\n",
       "<tr>\n",
       "  <th>ASC Bike</th>                                         <td>   -1.2166</td> <td>    0.075</td> <td>  -16.141</td> <td> 0.000</td> <td>   -1.364</td> <td>   -1.069</td>\n",
       "</tr>\n",
       "<tr>\n",
       "  <th>Travel Time, units:min (Drive Alone)</th>             <td>   -0.0386</td> <td>    0.003</td> <td>  -11.916</td> <td> 0.000</td> <td>   -0.045</td> <td>   -0.032</td>\n",
       "</tr>\n",
       "<tr>\n",
       "  <th>Travel Time, units:min (SharedRide-2)</th>            <td>   -0.0623</td> <td>    0.004</td> <td>  -14.178</td> <td> 0.000</td> <td>   -0.071</td> <td>   -0.054</td>\n",
       "</tr>\n",
       "<tr>\n",
       "  <th>Travel Time, units:min (SharedRide-3+)</th>           <td>   -0.1087</td> <td>    0.006</td> <td>  -16.983</td> <td> 0.000</td> <td>   -0.121</td> <td>   -0.096</td>\n",
       "</tr>\n",
       "<tr>\n",
       "  <th>Travel Time, units:min (All Transit Modes)</th>       <td>   -0.0271</td> <td>    0.001</td> <td>  -19.033</td> <td> 0.000</td> <td>   -0.030</td> <td>   -0.024</td>\n",
       "</tr>\n",
       "<tr>\n",
       "  <th>Travel Cost, units:$ (Drive Alone)</th>               <td>   -0.0210</td> <td>    0.018</td> <td>   -1.138</td> <td> 0.255</td> <td>   -0.057</td> <td>    0.015</td>\n",
       "</tr>\n",
       "<tr>\n",
       "  <th>Travel Cost, units:$ (SharedRide-2)</th>              <td>   -0.2069</td> <td>    0.041</td> <td>   -4.996</td> <td> 0.000</td> <td>   -0.288</td> <td>   -0.126</td>\n",
       "</tr>\n",
       "<tr>\n",
       "  <th>Travel Cost, units:$ (SharedRide-3+)</th>             <td>   -0.4500</td> <td>    0.100</td> <td>   -4.505</td> <td> 0.000</td> <td>   -0.646</td> <td>   -0.254</td>\n",
       "</tr>\n",
       "<tr>\n",
       "  <th>Travel Cost, units:$ (All Transit Modes)</th>         <td>   -0.1086</td> <td>    0.018</td> <td>   -6.073</td> <td> 0.000</td> <td>   -0.144</td> <td>   -0.074</td>\n",
       "</tr>\n",
       "<tr>\n",
       "  <th>Autos per licensed drivers (All Auto Modes)</th>      <td>    1.0899</td> <td>    0.050</td> <td>   22.013</td> <td> 0.000</td> <td>    0.993</td> <td>    1.187</td>\n",
       "</tr>\n",
       "<tr>\n",
       "  <th>Cross-Bay Tour (Shared Ride 2 & 3+)</th>              <td>    0.6499</td> <td>    0.116</td> <td>    5.620</td> <td> 0.000</td> <td>    0.423</td> <td>    0.876</td>\n",
       "</tr>\n",
       "<tr>\n",
       "  <th>Household Size (Shared Ride 2 & 3+)</th>              <td>    0.0980</td> <td>    0.021</td> <td>    4.726</td> <td> 0.000</td> <td>    0.057</td> <td>    0.139</td>\n",
       "</tr>\n",
       "<tr>\n",
       "  <th>Number of Kids in Household (Shared Ride 2 & 3+)</th> <td>    0.5143</td> <td>    0.025</td> <td>   20.723</td> <td> 0.000</td> <td>    0.466</td> <td>    0.563</td>\n",
       "</tr>\n",
       "</table>"
      ],
      "text/plain": [
       "<class 'statsmodels.iolib.summary.Summary'>\n",
       "\"\"\"\n",
       "                     Multinomial Logit Model Regression Results                    \n",
       "===================================================================================\n",
       "Dep. Variable:                  sim_choice   No. Observations:                8,000\n",
       "Model:             Multinomial Logit Model   Df Residuals:                    7,981\n",
       "Method:                                MLE   Df Model:                           19\n",
       "Date:                     Sun, 07 Jun 2020   Pseudo R-squ.:                   0.322\n",
       "Time:                             13:14:52   Pseudo R-bar-squ.:               0.321\n",
       "AIC:                            20,615.138   Log-Likelihood:            -10,288.569\n",
       "BIC:                            20,747.895   LL-Null:                   -15,176.699\n",
       "====================================================================================================================\n",
       "                                                       coef    std err          z      P>|z|      [0.025      0.975]\n",
       "--------------------------------------------------------------------------------------------------------------------\n",
       "ASC Shared Ride: 2                                  -1.1772      0.116    -10.187      0.000      -1.404      -0.951\n",
       "ASC Shared Ride: 3+                                 -0.7079      0.126     -5.628      0.000      -0.954      -0.461\n",
       "ASC Walk-Transit-Walk                                0.9579      0.122      7.877      0.000       0.720       1.196\n",
       "ASC Drive-Transit-Walk                              -1.2297      0.138     -8.930      0.000      -1.500      -0.960\n",
       "ASC Walk-Transit-Drive                              -1.4191      0.143     -9.955      0.000      -1.699      -1.140\n",
       "ASC Walk                                            -1.0122      0.074    -13.670      0.000      -1.157      -0.867\n",
       "ASC Bike                                            -1.2166      0.075    -16.141      0.000      -1.364      -1.069\n",
       "Travel Time, units:min (Drive Alone)                -0.0386      0.003    -11.916      0.000      -0.045      -0.032\n",
       "Travel Time, units:min (SharedRide-2)               -0.0623      0.004    -14.178      0.000      -0.071      -0.054\n",
       "Travel Time, units:min (SharedRide-3+)              -0.1087      0.006    -16.983      0.000      -0.121      -0.096\n",
       "Travel Time, units:min (All Transit Modes)          -0.0271      0.001    -19.033      0.000      -0.030      -0.024\n",
       "Travel Cost, units:$ (Drive Alone)                  -0.0210      0.018     -1.138      0.255      -0.057       0.015\n",
       "Travel Cost, units:$ (SharedRide-2)                 -0.2069      0.041     -4.996      0.000      -0.288      -0.126\n",
       "Travel Cost, units:$ (SharedRide-3+)                -0.4500      0.100     -4.505      0.000      -0.646      -0.254\n",
       "Travel Cost, units:$ (All Transit Modes)            -0.1086      0.018     -6.073      0.000      -0.144      -0.074\n",
       "Autos per licensed drivers (All Auto Modes)          1.0899      0.050     22.013      0.000       0.993       1.187\n",
       "Cross-Bay Tour (Shared Ride 2 & 3+)                  0.6499      0.116      5.620      0.000       0.423       0.876\n",
       "Household Size (Shared Ride 2 & 3+)                  0.0980      0.021      4.726      0.000       0.057       0.139\n",
       "Number of Kids in Household (Shared Ride 2 & 3+)     0.5143      0.025     20.723      0.000       0.466       0.563\n",
       "====================================================================================================================\n",
       "\"\"\""
      ]
     },
     "execution_count": 18,
     "metadata": {},
     "output_type": "execute_result"
    }
   ],
   "source": [
    "# Estimate the basic MNL model, using the hessian and newton-conjugate gradient\n",
    "mnl_model_noncausal = cm.create_choice_model(data=data,\n",
    "                                   alt_id_col=\"mode_id\",\n",
    "                                   obs_id_col=\"observation_id\",\n",
    "                                   choice_col=\"sim_choice\",\n",
    "                                   specification=mnl_specification_noncausal,\n",
    "                                   model_type=\"MNL\",\n",
    "                                   names=mnl_names_noncausal)\n",
    "\n",
    "num_vars_noncausal = len(reduce(lambda x, y: x + y, mnl_names_noncausal.values()))\n",
    "mnl_model_noncausal.fit_mle(np.zeros(num_vars_noncausal),\n",
    "                  method=\"BFGS\")\n",
    "\n",
    "# Look at the estimation results\n",
    "mnl_model_noncausal.get_statsmodels_summary()"
   ]
  },
  {
   "cell_type": "markdown",
   "metadata": {},
   "source": [
    "## Model 2"
   ]
  },
  {
   "cell_type": "code",
   "execution_count": 27,
   "metadata": {},
   "outputs": [],
   "source": [
    "mnl_specification_causal_1 = mnl_specification_noncausal.copy()\n",
    "mnl_names_causal_1 = mnl_names_noncausal.copy()\n",
    "\n",
    "mnl_specification_causal_1[\"confounder_all\"] = [1, 2, 3]\n",
    "mnl_names_causal_1[\"confounder_all\"] = [\"Confounder - Drive alone\",\n",
    "                                     \"Confounder - Shared ride 2\", \n",
    "                                     \"Confounder - Shared ride 3\"]"
   ]
  },
  {
   "cell_type": "code",
   "execution_count": 28,
   "metadata": {},
   "outputs": [
    {
     "name": "stderr",
     "output_type": "stream",
     "text": [
      "/Users/hassanobeid/anaconda3/lib/python3.7/site-packages/pylogit/choice_tools.py:703: FutureWarning: arrays to stack must be passed as a \"sequence\" type such as list or tuple. Support for non-sequence iterables such as generators is deprecated as of NumPy 1.16 and will raise an error in the future.\n",
      "  design_matrix = np.hstack((x[:, None] for x in independent_vars))\n"
     ]
    },
    {
     "name": "stdout",
     "output_type": "stream",
     "text": [
      "Log-likelihood at zero: -15,176.6986\n",
      "Initial Log-likelihood: -15,176.6986\n"
     ]
    },
    {
     "name": "stderr",
     "output_type": "stream",
     "text": [
      "/Users/hassanobeid/anaconda3/lib/python3.7/site-packages/scipy/optimize/_minimize.py:506: RuntimeWarning: Method BFGS does not use Hessian information (hess).\n",
      "  RuntimeWarning)\n"
     ]
    },
    {
     "name": "stdout",
     "output_type": "stream",
     "text": [
      "Estimation Time for Point Estimation: 0.27 seconds.\n",
      "Final log-likelihood: -10,286.6820\n"
     ]
    },
    {
     "data": {
      "text/html": [
       "<table class=\"simpletable\">\n",
       "<caption>Multinomial Logit Model Regression Results</caption>\n",
       "<tr>\n",
       "  <th>Dep. Variable:</th>       <td>sim_choice</td>        <th>  No. Observations:  </th>    <td>8,000</td>   \n",
       "</tr>\n",
       "<tr>\n",
       "  <th>Model:</th>         <td>Multinomial Logit Model</td> <th>  Df Residuals:      </th>    <td>7,978</td>   \n",
       "</tr>\n",
       "<tr>\n",
       "  <th>Method:</th>                  <td>MLE</td>           <th>  Df Model:          </th>     <td>22</td>     \n",
       "</tr>\n",
       "<tr>\n",
       "  <th>Date:</th>             <td>Sun, 07 Jun 2020</td>     <th>  Pseudo R-squ.:     </th>    <td>0.322</td>   \n",
       "</tr>\n",
       "<tr>\n",
       "  <th>Time:</th>                 <td>13:19:48</td>         <th>  Pseudo R-bar-squ.: </th>    <td>0.321</td>   \n",
       "</tr>\n",
       "<tr>\n",
       "  <th>AIC:</th>                 <td>20,617.364</td>        <th>  Log-Likelihood:    </th> <td>-10,286.682</td>\n",
       "</tr>\n",
       "<tr>\n",
       "  <th>BIC:</th>                 <td>20,771.082</td>        <th>  LL-Null:           </th> <td>-15,176.699</td>\n",
       "</tr>\n",
       "</table>\n",
       "<table class=\"simpletable\">\n",
       "<tr>\n",
       "                          <td></td>                            <th>coef</th>     <th>std err</th>      <th>z</th>      <th>P>|z|</th>  <th>[0.025</th>    <th>0.975]</th>  \n",
       "</tr>\n",
       "<tr>\n",
       "  <th>ASC Shared Ride: 2</th>                               <td>   -1.1424</td> <td>    0.130</td> <td>   -8.804</td> <td> 0.000</td> <td>   -1.397</td> <td>   -0.888</td>\n",
       "</tr>\n",
       "<tr>\n",
       "  <th>ASC Shared Ride: 3+</th>                              <td>   -0.6318</td> <td>    0.140</td> <td>   -4.517</td> <td> 0.000</td> <td>   -0.906</td> <td>   -0.358</td>\n",
       "</tr>\n",
       "<tr>\n",
       "  <th>ASC Walk-Transit-Walk</th>                            <td>    1.0400</td> <td>    0.131</td> <td>    7.930</td> <td> 0.000</td> <td>    0.783</td> <td>    1.297</td>\n",
       "</tr>\n",
       "<tr>\n",
       "  <th>ASC Drive-Transit-Walk</th>                           <td>   -1.1474</td> <td>    0.146</td> <td>   -7.847</td> <td> 0.000</td> <td>   -1.434</td> <td>   -0.861</td>\n",
       "</tr>\n",
       "<tr>\n",
       "  <th>ASC Walk-Transit-Drive</th>                           <td>   -1.3369</td> <td>    0.151</td> <td>   -8.868</td> <td> 0.000</td> <td>   -1.632</td> <td>   -1.041</td>\n",
       "</tr>\n",
       "<tr>\n",
       "  <th>ASC Walk</th>                                         <td>   -0.9296</td> <td>    0.089</td> <td>  -10.460</td> <td> 0.000</td> <td>   -1.104</td> <td>   -0.755</td>\n",
       "</tr>\n",
       "<tr>\n",
       "  <th>ASC Bike</th>                                         <td>   -1.1341</td> <td>    0.090</td> <td>  -12.605</td> <td> 0.000</td> <td>   -1.310</td> <td>   -0.958</td>\n",
       "</tr>\n",
       "<tr>\n",
       "  <th>Travel Time, units:min (Drive Alone)</th>             <td>   -0.0370</td> <td>    0.003</td> <td>  -10.969</td> <td> 0.000</td> <td>   -0.044</td> <td>   -0.030</td>\n",
       "</tr>\n",
       "<tr>\n",
       "  <th>Travel Time, units:min (SharedRide-2)</th>            <td>   -0.0617</td> <td>    0.004</td> <td>  -13.880</td> <td> 0.000</td> <td>   -0.070</td> <td>   -0.053</td>\n",
       "</tr>\n",
       "<tr>\n",
       "  <th>Travel Time, units:min (SharedRide-3+)</th>           <td>   -0.1090</td> <td>    0.006</td> <td>  -16.835</td> <td> 0.000</td> <td>   -0.122</td> <td>   -0.096</td>\n",
       "</tr>\n",
       "<tr>\n",
       "  <th>Travel Time, units:min (All Transit Modes)</th>       <td>   -0.0271</td> <td>    0.001</td> <td>  -19.033</td> <td> 0.000</td> <td>   -0.030</td> <td>   -0.024</td>\n",
       "</tr>\n",
       "<tr>\n",
       "  <th>Travel Cost, units:$ (Drive Alone)</th>               <td>   -0.0127</td> <td>    0.019</td> <td>   -0.664</td> <td> 0.507</td> <td>   -0.050</td> <td>    0.025</td>\n",
       "</tr>\n",
       "<tr>\n",
       "  <th>Travel Cost, units:$ (SharedRide-2)</th>              <td>   -0.1992</td> <td>    0.042</td> <td>   -4.709</td> <td> 0.000</td> <td>   -0.282</td> <td>   -0.116</td>\n",
       "</tr>\n",
       "<tr>\n",
       "  <th>Travel Cost, units:$ (SharedRide-3+)</th>             <td>   -0.4524</td> <td>    0.101</td> <td>   -4.490</td> <td> 0.000</td> <td>   -0.650</td> <td>   -0.255</td>\n",
       "</tr>\n",
       "<tr>\n",
       "  <th>Travel Cost, units:$ (All Transit Modes)</th>         <td>   -0.1086</td> <td>    0.018</td> <td>   -6.069</td> <td> 0.000</td> <td>   -0.144</td> <td>   -0.073</td>\n",
       "</tr>\n",
       "<tr>\n",
       "  <th>Autos per licensed drivers (All Auto Modes)</th>      <td>    1.0979</td> <td>    0.050</td> <td>   22.022</td> <td> 0.000</td> <td>    1.000</td> <td>    1.196</td>\n",
       "</tr>\n",
       "<tr>\n",
       "  <th>Cross-Bay Tour (Shared Ride 2 & 3+)</th>              <td>    0.6717</td> <td>    0.118</td> <td>    5.697</td> <td> 0.000</td> <td>    0.441</td> <td>    0.903</td>\n",
       "</tr>\n",
       "<tr>\n",
       "  <th>Household Size (Shared Ride 2 & 3+)</th>              <td>    0.0986</td> <td>    0.021</td> <td>    4.750</td> <td> 0.000</td> <td>    0.058</td> <td>    0.139</td>\n",
       "</tr>\n",
       "<tr>\n",
       "  <th>Number of Kids in Household (Shared Ride 2 & 3+)</th> <td>    0.5169</td> <td>    0.025</td> <td>   20.711</td> <td> 0.000</td> <td>    0.468</td> <td>    0.566</td>\n",
       "</tr>\n",
       "<tr>\n",
       "  <th>Confounder - Drive alone</th>                         <td>   -0.0782</td> <td>    0.046</td> <td>   -1.686</td> <td> 0.092</td> <td>   -0.169</td> <td>    0.013</td>\n",
       "</tr>\n",
       "<tr>\n",
       "  <th>Confounder - Shared ride 2</th>                       <td>   -0.0402</td> <td>    0.044</td> <td>   -0.911</td> <td> 0.362</td> <td>   -0.127</td> <td>    0.046</td>\n",
       "</tr>\n",
       "<tr>\n",
       "  <th>Confounder - Shared ride 3</th>                       <td>    0.0084</td> <td>    0.048</td> <td>    0.175</td> <td> 0.861</td> <td>   -0.086</td> <td>    0.102</td>\n",
       "</tr>\n",
       "</table>"
      ],
      "text/plain": [
       "<class 'statsmodels.iolib.summary.Summary'>\n",
       "\"\"\"\n",
       "                     Multinomial Logit Model Regression Results                    \n",
       "===================================================================================\n",
       "Dep. Variable:                  sim_choice   No. Observations:                8,000\n",
       "Model:             Multinomial Logit Model   Df Residuals:                    7,978\n",
       "Method:                                MLE   Df Model:                           22\n",
       "Date:                     Sun, 07 Jun 2020   Pseudo R-squ.:                   0.322\n",
       "Time:                             13:19:48   Pseudo R-bar-squ.:               0.321\n",
       "AIC:                            20,617.364   Log-Likelihood:            -10,286.682\n",
       "BIC:                            20,771.082   LL-Null:                   -15,176.699\n",
       "====================================================================================================================\n",
       "                                                       coef    std err          z      P>|z|      [0.025      0.975]\n",
       "--------------------------------------------------------------------------------------------------------------------\n",
       "ASC Shared Ride: 2                                  -1.1424      0.130     -8.804      0.000      -1.397      -0.888\n",
       "ASC Shared Ride: 3+                                 -0.6318      0.140     -4.517      0.000      -0.906      -0.358\n",
       "ASC Walk-Transit-Walk                                1.0400      0.131      7.930      0.000       0.783       1.297\n",
       "ASC Drive-Transit-Walk                              -1.1474      0.146     -7.847      0.000      -1.434      -0.861\n",
       "ASC Walk-Transit-Drive                              -1.3369      0.151     -8.868      0.000      -1.632      -1.041\n",
       "ASC Walk                                            -0.9296      0.089    -10.460      0.000      -1.104      -0.755\n",
       "ASC Bike                                            -1.1341      0.090    -12.605      0.000      -1.310      -0.958\n",
       "Travel Time, units:min (Drive Alone)                -0.0370      0.003    -10.969      0.000      -0.044      -0.030\n",
       "Travel Time, units:min (SharedRide-2)               -0.0617      0.004    -13.880      0.000      -0.070      -0.053\n",
       "Travel Time, units:min (SharedRide-3+)              -0.1090      0.006    -16.835      0.000      -0.122      -0.096\n",
       "Travel Time, units:min (All Transit Modes)          -0.0271      0.001    -19.033      0.000      -0.030      -0.024\n",
       "Travel Cost, units:$ (Drive Alone)                  -0.0127      0.019     -0.664      0.507      -0.050       0.025\n",
       "Travel Cost, units:$ (SharedRide-2)                 -0.1992      0.042     -4.709      0.000      -0.282      -0.116\n",
       "Travel Cost, units:$ (SharedRide-3+)                -0.4524      0.101     -4.490      0.000      -0.650      -0.255\n",
       "Travel Cost, units:$ (All Transit Modes)            -0.1086      0.018     -6.069      0.000      -0.144      -0.073\n",
       "Autos per licensed drivers (All Auto Modes)          1.0979      0.050     22.022      0.000       1.000       1.196\n",
       "Cross-Bay Tour (Shared Ride 2 & 3+)                  0.6717      0.118      5.697      0.000       0.441       0.903\n",
       "Household Size (Shared Ride 2 & 3+)                  0.0986      0.021      4.750      0.000       0.058       0.139\n",
       "Number of Kids in Household (Shared Ride 2 & 3+)     0.5169      0.025     20.711      0.000       0.468       0.566\n",
       "Confounder - Drive alone                            -0.0782      0.046     -1.686      0.092      -0.169       0.013\n",
       "Confounder - Shared ride 2                          -0.0402      0.044     -0.911      0.362      -0.127       0.046\n",
       "Confounder - Shared ride 3                           0.0084      0.048      0.175      0.861      -0.086       0.102\n",
       "====================================================================================================================\n",
       "\"\"\""
      ]
     },
     "execution_count": 28,
     "metadata": {},
     "output_type": "execute_result"
    }
   ],
   "source": [
    "# Estimate the basic MNL model, using the hessian and newton-conjugate gradient\n",
    "mnl_model_causal_1 = cm.create_choice_model(data=data,\n",
    "                                   alt_id_col=\"mode_id\",\n",
    "                                   obs_id_col=\"observation_id\",\n",
    "                                   choice_col=\"sim_choice\",\n",
    "                                   specification=mnl_specification_causal_1,\n",
    "                                   model_type=\"MNL\",\n",
    "                                   names=mnl_names_causal_1)\n",
    "\n",
    "num_vars = len(reduce(lambda x, y: x + y, mnl_names_causal_1.values()))\n",
    "mnl_model_causal_1.fit_mle(np.zeros(num_vars),\n",
    "                  method=\"BFGS\")\n",
    "\n",
    "# Look at the estimation results\n",
    "mnl_model_causal_1.get_statsmodels_summary()"
   ]
  },
  {
   "cell_type": "markdown",
   "metadata": {},
   "source": [
    "## Model 3"
   ]
  },
  {
   "cell_type": "code",
   "execution_count": 29,
   "metadata": {},
   "outputs": [],
   "source": [
    "mnl_specification_causal_2 = mnl_specification_noncausal.copy()\n",
    "mnl_names_causal_2 = mnl_names_noncausal.copy()\n",
    "\n",
    "mnl_specification_causal_2[\"confounder_all_2\"] = [1, 2, 3]\n",
    "mnl_names_causal_2[\"confounder_all_2\"] = [\"Confounder - Drive alone\",\n",
    "                                     \"Confounder - Shared ride 2\", \n",
    "                                     \"Confounder - Shared ride 3\"]"
   ]
  },
  {
   "cell_type": "code",
   "execution_count": 30,
   "metadata": {},
   "outputs": [
    {
     "name": "stderr",
     "output_type": "stream",
     "text": [
      "/Users/hassanobeid/anaconda3/lib/python3.7/site-packages/pylogit/choice_tools.py:703: FutureWarning: arrays to stack must be passed as a \"sequence\" type such as list or tuple. Support for non-sequence iterables such as generators is deprecated as of NumPy 1.16 and will raise an error in the future.\n",
      "  design_matrix = np.hstack((x[:, None] for x in independent_vars))\n"
     ]
    },
    {
     "name": "stdout",
     "output_type": "stream",
     "text": [
      "Log-likelihood at zero: -15,176.6986\n",
      "Initial Log-likelihood: -15,176.6986\n"
     ]
    },
    {
     "name": "stderr",
     "output_type": "stream",
     "text": [
      "/Users/hassanobeid/anaconda3/lib/python3.7/site-packages/scipy/optimize/_minimize.py:506: RuntimeWarning: Method BFGS does not use Hessian information (hess).\n",
      "  RuntimeWarning)\n"
     ]
    },
    {
     "name": "stdout",
     "output_type": "stream",
     "text": [
      "Estimation Time for Point Estimation: 0.26 seconds.\n",
      "Final log-likelihood: -10,287.9297\n"
     ]
    },
    {
     "data": {
      "text/html": [
       "<table class=\"simpletable\">\n",
       "<caption>Multinomial Logit Model Regression Results</caption>\n",
       "<tr>\n",
       "  <th>Dep. Variable:</th>       <td>sim_choice</td>        <th>  No. Observations:  </th>    <td>8,000</td>   \n",
       "</tr>\n",
       "<tr>\n",
       "  <th>Model:</th>         <td>Multinomial Logit Model</td> <th>  Df Residuals:      </th>    <td>7,978</td>   \n",
       "</tr>\n",
       "<tr>\n",
       "  <th>Method:</th>                  <td>MLE</td>           <th>  Df Model:          </th>     <td>22</td>     \n",
       "</tr>\n",
       "<tr>\n",
       "  <th>Date:</th>             <td>Sun, 07 Jun 2020</td>     <th>  Pseudo R-squ.:     </th>    <td>0.322</td>   \n",
       "</tr>\n",
       "<tr>\n",
       "  <th>Time:</th>                 <td>13:20:35</td>         <th>  Pseudo R-bar-squ.: </th>    <td>0.321</td>   \n",
       "</tr>\n",
       "<tr>\n",
       "  <th>AIC:</th>                 <td>20,619.859</td>        <th>  Log-Likelihood:    </th> <td>-10,287.930</td>\n",
       "</tr>\n",
       "<tr>\n",
       "  <th>BIC:</th>                 <td>20,773.578</td>        <th>  LL-Null:           </th> <td>-15,176.699</td>\n",
       "</tr>\n",
       "</table>\n",
       "<table class=\"simpletable\">\n",
       "<tr>\n",
       "                          <td></td>                            <th>coef</th>     <th>std err</th>      <th>z</th>      <th>P>|z|</th>  <th>[0.025</th>    <th>0.975]</th>  \n",
       "</tr>\n",
       "<tr>\n",
       "  <th>ASC Shared Ride: 2</th>                               <td>   -1.3058</td> <td>    0.317</td> <td>   -4.121</td> <td> 0.000</td> <td>   -1.927</td> <td>   -0.685</td>\n",
       "</tr>\n",
       "<tr>\n",
       "  <th>ASC Shared Ride: 3+</th>                              <td>   -1.1021</td> <td>    0.383</td> <td>   -2.878</td> <td> 0.004</td> <td>   -1.853</td> <td>   -0.352</td>\n",
       "</tr>\n",
       "<tr>\n",
       "  <th>ASC Walk-Transit-Walk</th>                            <td>    0.8831</td> <td>    0.218</td> <td>    4.054</td> <td> 0.000</td> <td>    0.456</td> <td>    1.310</td>\n",
       "</tr>\n",
       "<tr>\n",
       "  <th>ASC Drive-Transit-Walk</th>                           <td>   -1.3045</td> <td>    0.227</td> <td>   -5.743</td> <td> 0.000</td> <td>   -1.750</td> <td>   -0.859</td>\n",
       "</tr>\n",
       "<tr>\n",
       "  <th>ASC Walk-Transit-Drive</th>                           <td>   -1.4937</td> <td>    0.230</td> <td>   -6.494</td> <td> 0.000</td> <td>   -1.945</td> <td>   -1.043</td>\n",
       "</tr>\n",
       "<tr>\n",
       "  <th>ASC Walk</th>                                         <td>   -1.0874</td> <td>    0.195</td> <td>   -5.568</td> <td> 0.000</td> <td>   -1.470</td> <td>   -0.705</td>\n",
       "</tr>\n",
       "<tr>\n",
       "  <th>ASC Bike</th>                                         <td>   -1.2918</td> <td>    0.196</td> <td>   -6.595</td> <td> 0.000</td> <td>   -1.676</td> <td>   -0.908</td>\n",
       "</tr>\n",
       "<tr>\n",
       "  <th>Travel Time, units:min (Drive Alone)</th>             <td>   -0.0402</td> <td>    0.005</td> <td>   -8.169</td> <td> 0.000</td> <td>   -0.050</td> <td>   -0.031</td>\n",
       "</tr>\n",
       "<tr>\n",
       "  <th>Travel Time, units:min (SharedRide-2)</th>            <td>   -0.0612</td> <td>    0.007</td> <td>   -9.181</td> <td> 0.000</td> <td>   -0.074</td> <td>   -0.048</td>\n",
       "</tr>\n",
       "<tr>\n",
       "  <th>Travel Time, units:min (SharedRide-3+)</th>           <td>   -0.1016</td> <td>    0.009</td> <td>  -10.755</td> <td> 0.000</td> <td>   -0.120</td> <td>   -0.083</td>\n",
       "</tr>\n",
       "<tr>\n",
       "  <th>Travel Time, units:min (All Transit Modes)</th>       <td>   -0.0271</td> <td>    0.001</td> <td>  -19.035</td> <td> 0.000</td> <td>   -0.030</td> <td>   -0.024</td>\n",
       "</tr>\n",
       "<tr>\n",
       "  <th>Travel Cost, units:$ (Drive Alone)</th>               <td>   -0.0300</td> <td>    0.028</td> <td>   -1.056</td> <td> 0.291</td> <td>   -0.086</td> <td>    0.026</td>\n",
       "</tr>\n",
       "<tr>\n",
       "  <th>Travel Cost, units:$ (SharedRide-2)</th>              <td>   -0.1961</td> <td>    0.063</td> <td>   -3.101</td> <td> 0.002</td> <td>   -0.320</td> <td>   -0.072</td>\n",
       "</tr>\n",
       "<tr>\n",
       "  <th>Travel Cost, units:$ (SharedRide-3+)</th>             <td>   -0.3560</td> <td>    0.136</td> <td>   -2.617</td> <td> 0.009</td> <td>   -0.623</td> <td>   -0.089</td>\n",
       "</tr>\n",
       "<tr>\n",
       "  <th>Travel Cost, units:$ (All Transit Modes)</th>         <td>   -0.1087</td> <td>    0.018</td> <td>   -6.075</td> <td> 0.000</td> <td>   -0.144</td> <td>   -0.074</td>\n",
       "</tr>\n",
       "<tr>\n",
       "  <th>Autos per licensed drivers (All Auto Modes)</th>      <td>    1.0898</td> <td>    0.050</td> <td>   22.009</td> <td> 0.000</td> <td>    0.993</td> <td>    1.187</td>\n",
       "</tr>\n",
       "<tr>\n",
       "  <th>Cross-Bay Tour (Shared Ride 2 & 3+)</th>              <td>    0.6489</td> <td>    0.116</td> <td>    5.611</td> <td> 0.000</td> <td>    0.422</td> <td>    0.876</td>\n",
       "</tr>\n",
       "<tr>\n",
       "  <th>Household Size (Shared Ride 2 & 3+)</th>              <td>    0.0980</td> <td>    0.021</td> <td>    4.727</td> <td> 0.000</td> <td>    0.057</td> <td>    0.139</td>\n",
       "</tr>\n",
       "<tr>\n",
       "  <th>Number of Kids in Household (Shared Ride 2 & 3+)</th> <td>    0.5144</td> <td>    0.025</td> <td>   20.729</td> <td> 0.000</td> <td>    0.466</td> <td>    0.563</td>\n",
       "</tr>\n",
       "<tr>\n",
       "  <th>Confounder - Drive alone</th>                         <td>    0.0739</td> <td>    0.177</td> <td>    0.417</td> <td> 0.676</td> <td>   -0.273</td> <td>    0.421</td>\n",
       "</tr>\n",
       "<tr>\n",
       "  <th>Confounder - Shared ride 2</th>                       <td>   -0.0503</td> <td>    0.218</td> <td>   -0.230</td> <td> 0.818</td> <td>   -0.478</td> <td>    0.378</td>\n",
       "</tr>\n",
       "<tr>\n",
       "  <th>Confounder - Shared ride 3</th>                       <td>   -0.2952</td> <td>    0.290</td> <td>   -1.019</td> <td> 0.308</td> <td>   -0.863</td> <td>    0.272</td>\n",
       "</tr>\n",
       "</table>"
      ],
      "text/plain": [
       "<class 'statsmodels.iolib.summary.Summary'>\n",
       "\"\"\"\n",
       "                     Multinomial Logit Model Regression Results                    \n",
       "===================================================================================\n",
       "Dep. Variable:                  sim_choice   No. Observations:                8,000\n",
       "Model:             Multinomial Logit Model   Df Residuals:                    7,978\n",
       "Method:                                MLE   Df Model:                           22\n",
       "Date:                     Sun, 07 Jun 2020   Pseudo R-squ.:                   0.322\n",
       "Time:                             13:20:35   Pseudo R-bar-squ.:               0.321\n",
       "AIC:                            20,619.859   Log-Likelihood:            -10,287.930\n",
       "BIC:                            20,773.578   LL-Null:                   -15,176.699\n",
       "====================================================================================================================\n",
       "                                                       coef    std err          z      P>|z|      [0.025      0.975]\n",
       "--------------------------------------------------------------------------------------------------------------------\n",
       "ASC Shared Ride: 2                                  -1.3058      0.317     -4.121      0.000      -1.927      -0.685\n",
       "ASC Shared Ride: 3+                                 -1.1021      0.383     -2.878      0.004      -1.853      -0.352\n",
       "ASC Walk-Transit-Walk                                0.8831      0.218      4.054      0.000       0.456       1.310\n",
       "ASC Drive-Transit-Walk                              -1.3045      0.227     -5.743      0.000      -1.750      -0.859\n",
       "ASC Walk-Transit-Drive                              -1.4937      0.230     -6.494      0.000      -1.945      -1.043\n",
       "ASC Walk                                            -1.0874      0.195     -5.568      0.000      -1.470      -0.705\n",
       "ASC Bike                                            -1.2918      0.196     -6.595      0.000      -1.676      -0.908\n",
       "Travel Time, units:min (Drive Alone)                -0.0402      0.005     -8.169      0.000      -0.050      -0.031\n",
       "Travel Time, units:min (SharedRide-2)               -0.0612      0.007     -9.181      0.000      -0.074      -0.048\n",
       "Travel Time, units:min (SharedRide-3+)              -0.1016      0.009    -10.755      0.000      -0.120      -0.083\n",
       "Travel Time, units:min (All Transit Modes)          -0.0271      0.001    -19.035      0.000      -0.030      -0.024\n",
       "Travel Cost, units:$ (Drive Alone)                  -0.0300      0.028     -1.056      0.291      -0.086       0.026\n",
       "Travel Cost, units:$ (SharedRide-2)                 -0.1961      0.063     -3.101      0.002      -0.320      -0.072\n",
       "Travel Cost, units:$ (SharedRide-3+)                -0.3560      0.136     -2.617      0.009      -0.623      -0.089\n",
       "Travel Cost, units:$ (All Transit Modes)            -0.1087      0.018     -6.075      0.000      -0.144      -0.074\n",
       "Autos per licensed drivers (All Auto Modes)          1.0898      0.050     22.009      0.000       0.993       1.187\n",
       "Cross-Bay Tour (Shared Ride 2 & 3+)                  0.6489      0.116      5.611      0.000       0.422       0.876\n",
       "Household Size (Shared Ride 2 & 3+)                  0.0980      0.021      4.727      0.000       0.057       0.139\n",
       "Number of Kids in Household (Shared Ride 2 & 3+)     0.5144      0.025     20.729      0.000       0.466       0.563\n",
       "Confounder - Drive alone                             0.0739      0.177      0.417      0.676      -0.273       0.421\n",
       "Confounder - Shared ride 2                          -0.0503      0.218     -0.230      0.818      -0.478       0.378\n",
       "Confounder - Shared ride 3                          -0.2952      0.290     -1.019      0.308      -0.863       0.272\n",
       "====================================================================================================================\n",
       "\"\"\""
      ]
     },
     "execution_count": 30,
     "metadata": {},
     "output_type": "execute_result"
    }
   ],
   "source": [
    "# Estimate the basic MNL model, using the hessian and newton-conjugate gradient\n",
    "mnl_model_causal_2 = cm.create_choice_model(data=data,\n",
    "                                   alt_id_col=\"mode_id\",\n",
    "                                   obs_id_col=\"observation_id\",\n",
    "                                   choice_col=\"sim_choice\",\n",
    "                                   specification=mnl_specification_causal_2,\n",
    "                                   model_type=\"MNL\",\n",
    "                                   names=mnl_names_causal_2)\n",
    "\n",
    "num_vars = len(reduce(lambda x, y: x + y, mnl_names_causal_2.values()))\n",
    "mnl_model_causal_2.fit_mle(np.zeros(num_vars),\n",
    "                  method=\"BFGS\")\n",
    "\n",
    "# Look at the estimation results\n",
    "mnl_model_causal_2.get_statsmodels_summary()"
   ]
  },
  {
   "cell_type": "markdown",
   "metadata": {},
   "source": [
    "## Compare estimates on travel time and cost"
   ]
  },
  {
   "cell_type": "code",
   "execution_count": 58,
   "metadata": {},
   "outputs": [],
   "source": [
    "results_summary_true = mnl_model.get_statsmodels_summary()\n",
    "results_summary_non_causal = mnl_model_noncausal.get_statsmodels_summary()\n",
    "results_summary_method_1 = mnl_model_causal_1.get_statsmodels_summary()\n",
    "results_summary_method_2 = mnl_model_causal_2.get_statsmodels_summary()\n",
    "\n",
    "results_as_html_true = results_summary_true.tables[1].as_html()\n",
    "results_as_html_true = pd.read_html(results_as_html_true, header=0, index_col=0)[0]\n",
    "\n",
    "results_as_html_noncausal = results_summary_non_causal.tables[1].as_html()\n",
    "results_as_html_noncausal = pd.read_html(results_as_html_noncausal, header=0, index_col=0)[0]\n",
    "\n",
    "results_as_html_method_1 = results_summary_method_1.tables[1].as_html()\n",
    "results_as_html_method_1 = pd.read_html(results_as_html_method_1, header=0, index_col=0)[0]\n",
    "\n",
    "results_as_html_method_2 = results_summary_method_2.tables[1].as_html()\n",
    "results_as_html_method_2 = pd.read_html(results_as_html_method_2, header=0, index_col=0)[0]"
   ]
  },
  {
   "cell_type": "code",
   "execution_count": 60,
   "metadata": {
    "lines_to_next_cell": 0
   },
   "outputs": [
    {
     "data": {
      "text/html": [
       "<div>\n",
       "<style scoped>\n",
       "    .dataframe tbody tr th:only-of-type {\n",
       "        vertical-align: middle;\n",
       "    }\n",
       "\n",
       "    .dataframe tbody tr th {\n",
       "        vertical-align: top;\n",
       "    }\n",
       "\n",
       "    .dataframe thead th {\n",
       "        text-align: right;\n",
       "    }\n",
       "</style>\n",
       "<table border=\"1\" class=\"dataframe\">\n",
       "  <thead>\n",
       "    <tr style=\"text-align: right;\">\n",
       "      <th></th>\n",
       "      <th>coef_true</th>\n",
       "      <th>std err_true</th>\n",
       "      <th>coef_non_causal</th>\n",
       "      <th>std err_non_causal</th>\n",
       "      <th>coef_method_1</th>\n",
       "      <th>std err_method_1</th>\n",
       "      <th>coef_method_2</th>\n",
       "      <th>std err_method_2</th>\n",
       "    </tr>\n",
       "  </thead>\n",
       "  <tbody>\n",
       "    <tr>\n",
       "      <th>Travel Time, units:min (Drive Alone)</th>\n",
       "      <td>-0.0844</td>\n",
       "      <td>0.005</td>\n",
       "      <td>-0.0386</td>\n",
       "      <td>0.003</td>\n",
       "      <td>-0.0370</td>\n",
       "      <td>0.003</td>\n",
       "      <td>-0.0402</td>\n",
       "      <td>0.005</td>\n",
       "    </tr>\n",
       "    <tr>\n",
       "      <th>Travel Time, units:min (SharedRide-2)</th>\n",
       "      <td>-0.0903</td>\n",
       "      <td>0.006</td>\n",
       "      <td>-0.0623</td>\n",
       "      <td>0.004</td>\n",
       "      <td>-0.0617</td>\n",
       "      <td>0.004</td>\n",
       "      <td>-0.0612</td>\n",
       "      <td>0.007</td>\n",
       "    </tr>\n",
       "    <tr>\n",
       "      <th>Travel Time, units:min (SharedRide-3+)</th>\n",
       "      <td>-0.1261</td>\n",
       "      <td>0.008</td>\n",
       "      <td>-0.1087</td>\n",
       "      <td>0.006</td>\n",
       "      <td>-0.1090</td>\n",
       "      <td>0.006</td>\n",
       "      <td>-0.1016</td>\n",
       "      <td>0.009</td>\n",
       "    </tr>\n",
       "    <tr>\n",
       "      <th>Travel Cost, units:$ (Drive Alone)</th>\n",
       "      <td>-0.2292</td>\n",
       "      <td>0.026</td>\n",
       "      <td>-0.0210</td>\n",
       "      <td>0.018</td>\n",
       "      <td>-0.0127</td>\n",
       "      <td>0.019</td>\n",
       "      <td>-0.0300</td>\n",
       "      <td>0.028</td>\n",
       "    </tr>\n",
       "    <tr>\n",
       "      <th>Travel Cost, units:$ (SharedRide-2)</th>\n",
       "      <td>-0.4378</td>\n",
       "      <td>0.057</td>\n",
       "      <td>-0.2069</td>\n",
       "      <td>0.041</td>\n",
       "      <td>-0.1992</td>\n",
       "      <td>0.042</td>\n",
       "      <td>-0.1961</td>\n",
       "      <td>0.063</td>\n",
       "    </tr>\n",
       "    <tr>\n",
       "      <th>Travel Cost, units:$ (SharedRide-3+)</th>\n",
       "      <td>-0.7461</td>\n",
       "      <td>0.157</td>\n",
       "      <td>-0.4500</td>\n",
       "      <td>0.100</td>\n",
       "      <td>-0.4524</td>\n",
       "      <td>0.101</td>\n",
       "      <td>-0.3560</td>\n",
       "      <td>0.136</td>\n",
       "    </tr>\n",
       "  </tbody>\n",
       "</table>\n",
       "</div>"
      ],
      "text/plain": [
       "                                        coef_true  std err_true  \\\n",
       "Travel Time, units:min (Drive Alone)      -0.0844         0.005   \n",
       "Travel Time, units:min (SharedRide-2)     -0.0903         0.006   \n",
       "Travel Time, units:min (SharedRide-3+)    -0.1261         0.008   \n",
       "Travel Cost, units:$ (Drive Alone)        -0.2292         0.026   \n",
       "Travel Cost, units:$ (SharedRide-2)       -0.4378         0.057   \n",
       "Travel Cost, units:$ (SharedRide-3+)      -0.7461         0.157   \n",
       "\n",
       "                                        coef_non_causal  std err_non_causal  \\\n",
       "Travel Time, units:min (Drive Alone)            -0.0386               0.003   \n",
       "Travel Time, units:min (SharedRide-2)           -0.0623               0.004   \n",
       "Travel Time, units:min (SharedRide-3+)          -0.1087               0.006   \n",
       "Travel Cost, units:$ (Drive Alone)              -0.0210               0.018   \n",
       "Travel Cost, units:$ (SharedRide-2)             -0.2069               0.041   \n",
       "Travel Cost, units:$ (SharedRide-3+)            -0.4500               0.100   \n",
       "\n",
       "                                        coef_method_1  std err_method_1  \\\n",
       "Travel Time, units:min (Drive Alone)          -0.0370             0.003   \n",
       "Travel Time, units:min (SharedRide-2)         -0.0617             0.004   \n",
       "Travel Time, units:min (SharedRide-3+)        -0.1090             0.006   \n",
       "Travel Cost, units:$ (Drive Alone)            -0.0127             0.019   \n",
       "Travel Cost, units:$ (SharedRide-2)           -0.1992             0.042   \n",
       "Travel Cost, units:$ (SharedRide-3+)          -0.4524             0.101   \n",
       "\n",
       "                                        coef_method_2  std err_method_2  \n",
       "Travel Time, units:min (Drive Alone)          -0.0402             0.005  \n",
       "Travel Time, units:min (SharedRide-2)         -0.0612             0.007  \n",
       "Travel Time, units:min (SharedRide-3+)        -0.1016             0.009  \n",
       "Travel Cost, units:$ (Drive Alone)            -0.0300             0.028  \n",
       "Travel Cost, units:$ (SharedRide-2)           -0.1961             0.063  \n",
       "Travel Cost, units:$ (SharedRide-3+)          -0.3560             0.136  "
      ]
     },
     "execution_count": 60,
     "metadata": {},
     "output_type": "execute_result"
    }
   ],
   "source": [
    "locs = ['Travel Time, units:min (Drive Alone)','Travel Time, units:min (SharedRide-2)',\n",
    "       'Travel Time, units:min (SharedRide-3+)', 'Travel Cost, units:$ (Drive Alone)',\n",
    "       'Travel Cost, units:$ (SharedRide-2)', 'Travel Cost, units:$ (SharedRide-3+)']\n",
    "cols = ['coef', 'std err']\n",
    "\n",
    "results_comparison = results_as_html_true.loc[locs][cols].join(results_as_html_noncausal.loc[locs][cols], \n",
    "                                                               lsuffix = '_true', rsuffix = '_non_causal').join(\n",
    "    results_as_html_method_1.loc[locs][cols].join(results_as_html_method_2.loc[locs][cols],\n",
    "                                               lsuffix = '_method_1', rsuffix = '_method_2'))\n",
    "\n",
    "results_comparison"
   ]
  },
  {
   "cell_type": "code",
   "execution_count": null,
   "metadata": {
    "lines_to_next_cell": 2
   },
   "outputs": [],
   "source": []
  },
  {
   "cell_type": "code",
   "execution_count": null,
   "metadata": {
    "lines_to_next_cell": 2
   },
   "outputs": [],
   "source": []
  },
  {
   "cell_type": "code",
   "execution_count": null,
   "metadata": {},
   "outputs": [],
   "source": []
  },
  {
   "cell_type": "code",
   "execution_count": null,
   "metadata": {
    "lines_to_next_cell": 2
   },
   "outputs": [],
   "source": []
  },
  {
   "cell_type": "code",
   "execution_count": null,
   "metadata": {
    "lines_to_next_cell": 2
   },
   "outputs": [],
   "source": []
  }
 ],
 "metadata": {
  "jupytext": {
   "formats": "ipynb,py"
  },
  "kernelspec": {
   "display_name": "Python 3",
   "language": "python",
   "name": "python3"
  },
  "language_info": {
   "codemirror_mode": {
    "name": "ipython",
    "version": 3
   },
   "file_extension": ".py",
   "mimetype": "text/x-python",
   "name": "python",
   "nbconvert_exporter": "python",
   "pygments_lexer": "ipython3",
   "version": "3.7.3"
  }
 },
 "nbformat": 4,
 "nbformat_minor": 2
}
