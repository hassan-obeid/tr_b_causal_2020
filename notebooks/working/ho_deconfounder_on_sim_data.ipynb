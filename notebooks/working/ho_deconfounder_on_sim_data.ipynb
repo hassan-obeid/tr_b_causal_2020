{
 "cells": [
  {
   "cell_type": "code",
   "execution_count": 1,
   "metadata": {
    "lines_to_next_cell": 0
   },
   "outputs": [],
   "source": [
    "# # Purpose\n",
    "#\n",
    "# The purpose of this notebook is to investigate the effectiveness of the deconfounder algorithm (Blei et. al, 2018) in adjusting for unobserved confounding. We use a simulated mode choice data where travel distance linearly confounds both travel time and travel cost. We then mask the travel distance data and treat it as an unobserved variable.\n",
    "#\n",
    "# We estimate three models:\n",
    "# - Model 1: A multinomial logit with the correct original specification, EXCEPT we ommit the travel distance variable in the specification without trying to adjust for it.\n",
    "# - Model 2: We use the deconfounder algorithm to try to recover the confounder (travel distance). In this method, we use all the variables in each mode's utility to recover that mode's confounder.\n",
    "# - Model 3: We use the deconfounder algorithm to try to recover the confounder (travel distance), but this time, we only use travel time and cost in the factor model, instead of all the variables in the utility specification of each mode.\n",
    "#\n",
    "# We compare the estimates of the coefficients on travel time and cost to the true estimates used in the simulation. The main findings of this exercise are the following:\n",
    "# - Using the true variables believed to be confounded (i.e. method 3 where only travel time and cost are used to recover the confounder) leads to a better recovery of the true confounder. This suggests that it may be better to run the deconfounder algorithm based on a hypothesized causal graph, rather than just running it on all the observed covariates.\n",
    "# - Similar to what we found in the investigating_decounfounder notebook, the effectiveness of the deconfounder algorithm is very sensitive to small deviations in the recovered confounder. Although method 3 returns a relatively good fit of the true confounder, the adjusted coefficients on travel time and cost do not exhibit any reduction in the bias resulting from ommitting the true confounder, and the coefficients on the recovered confounder are highly insignificant. This raises questions about the usefulness of the deconfounder algorithm in practice.\n",
    "# # Import needed libraries"
   ]
  },
  {
   "cell_type": "code",
   "execution_count": 2,
   "metadata": {
    "lines_to_next_cell": 2
   },
   "outputs": [],
   "source": [
    "# Built-in modules\n",
    "import os\n",
    "from collections import OrderedDict\n",
    "from functools import reduce\n",
    "\n",
    "import attr\n",
    "import matplotlib.pyplot as plt\n",
    "import numpy as np\n",
    "import pandas as pd\n",
    "import pylogit as cm\n",
    "import pyprojroot\n",
    "import seaborn as sbn\n",
    "import tensorflow as tf\n",
    "from causalgraphicalmodels import CausalGraphicalModel\n",
    "from causalgraphicalmodels import StructuralCausalModel\n",
    "\n",
    "import factor_models as fm\n",
    "import util\n",
    "\n",
    "sbn.set_style(\"white\")\n"
   ]
  },
  {
   "cell_type": "markdown",
   "metadata": {},
   "source": [
    "## Useful function"
   ]
  },
  {
   "cell_type": "markdown",
   "metadata": {},
   "source": [
    "## Analysis"
   ]
  },
  {
   "cell_type": "code",
   "execution_count": 3,
   "metadata": {},
   "outputs": [],
   "source": [
    "PATH = pyprojroot.here(\"data/raw/\")\n",
    "file_name = \"simulated_long_format_bike_data.csv\""
   ]
  },
  {
   "cell_type": "code",
   "execution_count": 4,
   "metadata": {},
   "outputs": [],
   "source": [
    "SEED = 1197\n",
    "np.random.seed(SEED)\n",
    "tf.random.set_random_seed(SEED)"
   ]
  },
  {
   "cell_type": "code",
   "execution_count": 5,
   "metadata": {},
   "outputs": [
    {
     "data": {
      "text/plain": [
       "Index(['observation_id', 'mode_id', 'sim_choice', 'num_kids', 'household_size',\n",
       "       'num_cars', 'num_licensed_drivers', 'cross_bay', 'total_travel_time',\n",
       "       'total_travel_cost', 'total_travel_distance',\n",
       "       'cars_per_licensed_drivers', 'cost_per_distance', 'intercept'],\n",
       "      dtype='object')"
      ]
     },
     "execution_count": 5,
     "metadata": {},
     "output_type": "execute_result"
    }
   ],
   "source": [
    "data = pd.read_csv(PATH / file_name)\n",
    "data = data.drop(\"Unnamed: 0\", axis=1)\n",
    "data.columns"
   ]
  },
  {
   "cell_type": "code",
   "execution_count": 6,
   "metadata": {},
   "outputs": [],
   "source": [
    "X_columns = [\n",
    "    \"total_travel_time\",\n",
    "    \"total_travel_cost\",\n",
    "    \"total_travel_distance\",\n",
    "    \"cross_bay\",\n",
    "    \"household_size\",\n",
    "    \"num_kids\",\n",
    "    \"cars_per_licensed_drivers\",\n",
    "    \"gender\",\n",
    "]\n",
    "\n",
    "y_column = data[\"mode_id\"]"
   ]
  },
  {
   "cell_type": "code",
   "execution_count": 7,
   "metadata": {},
   "outputs": [
    {
     "data": {
      "image/svg+xml": [
       "<?xml version=\"1.0\" encoding=\"UTF-8\" standalone=\"no\"?>\n",
       "<!DOCTYPE svg PUBLIC \"-//W3C//DTD SVG 1.1//EN\"\n",
       " \"http://www.w3.org/Graphics/SVG/1.1/DTD/svg11.dtd\">\n",
       "<!-- Generated by graphviz version 2.42.3 (20191010.1750)\n",
       " -->\n",
       "<!-- Title: %3 Pages: 1 -->\n",
       "<svg width=\"1034pt\" height=\"260pt\"\n",
       " viewBox=\"0.00 0.00 1033.55 260.00\" xmlns=\"http://www.w3.org/2000/svg\" xmlns:xlink=\"http://www.w3.org/1999/xlink\">\n",
       "<g id=\"graph0\" class=\"graph\" transform=\"scale(1 1) rotate(0) translate(4 256)\">\n",
       "<title>%3</title>\n",
       "<polygon fill=\"white\" stroke=\"transparent\" points=\"-4,4 -4,-256 1029.55,-256 1029.55,4 -4,4\"/>\n",
       "<!-- Travel_Distance -->\n",
       "<g id=\"node1\" class=\"node\">\n",
       "<title>Travel_Distance</title>\n",
       "<ellipse fill=\"none\" stroke=\"black\" cx=\"266.41\" cy=\"-162\" rx=\"68.47\" ry=\"18\"/>\n",
       "<text text-anchor=\"middle\" x=\"266.41\" y=\"-157.8\" font-family=\"Times,serif\" font-size=\"14.00\">Travel_Distance</text>\n",
       "</g>\n",
       "<!-- Cross_Bay_Bridge -->\n",
       "<g id=\"node2\" class=\"node\">\n",
       "<title>Cross_Bay_Bridge</title>\n",
       "<ellipse fill=\"none\" stroke=\"black\" cx=\"77.41\" cy=\"-90\" rx=\"77.33\" ry=\"18\"/>\n",
       "<text text-anchor=\"middle\" x=\"77.41\" y=\"-85.8\" font-family=\"Times,serif\" font-size=\"14.00\">Cross_Bay_Bridge</text>\n",
       "</g>\n",
       "<!-- Travel_Distance&#45;&gt;Cross_Bay_Bridge -->\n",
       "<g id=\"edge5\" class=\"edge\">\n",
       "<title>Travel_Distance&#45;&gt;Cross_Bay_Bridge</title>\n",
       "<path fill=\"none\" stroke=\"black\" d=\"M228.62,-147C199.24,-136.12 158.24,-120.94 126.35,-109.12\"/>\n",
       "<polygon fill=\"black\" stroke=\"black\" points=\"127.36,-105.77 116.77,-105.58 124.93,-112.33 127.36,-105.77\"/>\n",
       "</g>\n",
       "<!-- Mode_Choice -->\n",
       "<g id=\"node3\" class=\"node\">\n",
       "<title>Mode_Choice</title>\n",
       "<ellipse fill=\"none\" stroke=\"black\" cx=\"434.41\" cy=\"-18\" rx=\"60.42\" ry=\"18\"/>\n",
       "<text text-anchor=\"middle\" x=\"434.41\" y=\"-13.8\" font-family=\"Times,serif\" font-size=\"14.00\">Mode_Choice</text>\n",
       "</g>\n",
       "<!-- Travel_Distance&#45;&gt;Mode_Choice -->\n",
       "<g id=\"edge2\" class=\"edge\">\n",
       "<title>Travel_Distance&#45;&gt;Mode_Choice</title>\n",
       "<path fill=\"none\" stroke=\"black\" d=\"M237.56,-145.61C223.91,-136.63 208.97,-123.91 201.41,-108 194.55,-93.55 191.43,-84.51 201.41,-72 221.88,-46.35 306.02,-32.16 367.33,-25.07\"/>\n",
       "<polygon fill=\"black\" stroke=\"black\" points=\"367.8,-28.54 377.34,-23.95 367.02,-21.58 367.8,-28.54\"/>\n",
       "</g>\n",
       "<!-- Travel_Time -->\n",
       "<g id=\"node5\" class=\"node\">\n",
       "<title>Travel_Time</title>\n",
       "<ellipse fill=\"none\" stroke=\"black\" cx=\"266.41\" cy=\"-90\" rx=\"55.81\" ry=\"18\"/>\n",
       "<text text-anchor=\"middle\" x=\"266.41\" y=\"-85.8\" font-family=\"Times,serif\" font-size=\"14.00\">Travel_Time</text>\n",
       "</g>\n",
       "<!-- Travel_Distance&#45;&gt;Travel_Time -->\n",
       "<g id=\"edge3\" class=\"edge\">\n",
       "<title>Travel_Distance&#45;&gt;Travel_Time</title>\n",
       "<path fill=\"none\" stroke=\"black\" d=\"M266.41,-143.7C266.41,-135.98 266.41,-126.71 266.41,-118.11\"/>\n",
       "<polygon fill=\"black\" stroke=\"black\" points=\"269.91,-118.1 266.41,-108.1 262.91,-118.1 269.91,-118.1\"/>\n",
       "</g>\n",
       "<!-- Travel_Cost -->\n",
       "<g id=\"node9\" class=\"node\">\n",
       "<title>Travel_Cost</title>\n",
       "<ellipse fill=\"none\" stroke=\"black\" cx=\"393.41\" cy=\"-90\" rx=\"53.53\" ry=\"18\"/>\n",
       "<text text-anchor=\"middle\" x=\"393.41\" y=\"-85.8\" font-family=\"Times,serif\" font-size=\"14.00\">Travel_Cost</text>\n",
       "</g>\n",
       "<!-- Travel_Distance&#45;&gt;Travel_Cost -->\n",
       "<g id=\"edge4\" class=\"edge\">\n",
       "<title>Travel_Distance&#45;&gt;Travel_Cost</title>\n",
       "<path fill=\"none\" stroke=\"black\" d=\"M294.6,-145.46C313.23,-135.2 337.81,-121.65 357.79,-110.63\"/>\n",
       "<polygon fill=\"black\" stroke=\"black\" points=\"359.54,-113.67 366.61,-105.77 356.16,-107.53 359.54,-113.67\"/>\n",
       "</g>\n",
       "<!-- Cross_Bay_Bridge&#45;&gt;Mode_Choice -->\n",
       "<g id=\"edge7\" class=\"edge\">\n",
       "<title>Cross_Bay_Bridge&#45;&gt;Mode_Choice</title>\n",
       "<path fill=\"none\" stroke=\"black\" d=\"M134.77,-77.75C200.86,-64.8 308.89,-43.61 375.59,-30.53\"/>\n",
       "<polygon fill=\"black\" stroke=\"black\" points=\"376.38,-33.95 385.52,-28.59 375.03,-27.08 376.38,-33.95\"/>\n",
       "</g>\n",
       "<!-- HH_Size -->\n",
       "<g id=\"node4\" class=\"node\">\n",
       "<title>HH_Size</title>\n",
       "<ellipse fill=\"none\" stroke=\"black\" cx=\"370.41\" cy=\"-234\" rx=\"42.55\" ry=\"18\"/>\n",
       "<text text-anchor=\"middle\" x=\"370.41\" y=\"-229.8\" font-family=\"Times,serif\" font-size=\"14.00\">HH_Size</text>\n",
       "</g>\n",
       "<!-- HH_Size&#45;&gt;Travel_Distance -->\n",
       "<g id=\"edge9\" class=\"edge\">\n",
       "<title>HH_Size&#45;&gt;Travel_Distance</title>\n",
       "<path fill=\"none\" stroke=\"black\" d=\"M348.61,-218.33C334.24,-208.65 315.15,-195.81 298.99,-184.93\"/>\n",
       "<polygon fill=\"black\" stroke=\"black\" points=\"300.61,-181.8 290.36,-179.12 296.71,-187.61 300.61,-181.8\"/>\n",
       "</g>\n",
       "<!-- HH_Size&#45;&gt;Mode_Choice -->\n",
       "<g id=\"edge8\" class=\"edge\">\n",
       "<title>HH_Size&#45;&gt;Mode_Choice</title>\n",
       "<path fill=\"none\" stroke=\"black\" d=\"M386.33,-216.98C407.17,-194.75 442.65,-152.27 456.41,-108 462.91,-87.1 456.08,-62.97 448.36,-45.11\"/>\n",
       "<polygon fill=\"black\" stroke=\"black\" points=\"451.46,-43.48 444.06,-35.89 445.12,-46.44 451.46,-43.48\"/>\n",
       "</g>\n",
       "<!-- Travel_Time&#45;&gt;Mode_Choice -->\n",
       "<g id=\"edge1\" class=\"edge\">\n",
       "<title>Travel_Time&#45;&gt;Mode_Choice</title>\n",
       "<path fill=\"none\" stroke=\"black\" d=\"M299.2,-75.34C325.54,-64.36 362.74,-48.86 391.46,-36.9\"/>\n",
       "<polygon fill=\"black\" stroke=\"black\" points=\"392.96,-40.06 400.84,-32.99 390.27,-33.6 392.96,-40.06\"/>\n",
       "</g>\n",
       "<!-- Autos_per_licensed_drivers -->\n",
       "<g id=\"node6\" class=\"node\">\n",
       "<title>Autos_per_licensed_drivers</title>\n",
       "<ellipse fill=\"none\" stroke=\"black\" cx=\"612.41\" cy=\"-90\" rx=\"109.15\" ry=\"18\"/>\n",
       "<text text-anchor=\"middle\" x=\"612.41\" y=\"-85.8\" font-family=\"Times,serif\" font-size=\"14.00\">Autos_per_licensed_drivers</text>\n",
       "</g>\n",
       "<!-- Autos_per_licensed_drivers&#45;&gt;Mode_Choice -->\n",
       "<g id=\"edge11\" class=\"edge\">\n",
       "<title>Autos_per_licensed_drivers&#45;&gt;Mode_Choice</title>\n",
       "<path fill=\"none\" stroke=\"black\" d=\"M572.02,-73.12C544.19,-62.17 507.21,-47.63 478.6,-36.38\"/>\n",
       "<polygon fill=\"black\" stroke=\"black\" points=\"479.83,-33.1 469.24,-32.7 477.26,-39.61 479.83,-33.1\"/>\n",
       "</g>\n",
       "<!-- num_of_kids_household -->\n",
       "<g id=\"node7\" class=\"node\">\n",
       "<title>num_of_kids_household</title>\n",
       "<ellipse fill=\"none\" stroke=\"black\" cx=\"837.41\" cy=\"-90\" rx=\"97.61\" ry=\"18\"/>\n",
       "<text text-anchor=\"middle\" x=\"837.41\" y=\"-85.8\" font-family=\"Times,serif\" font-size=\"14.00\">num_of_kids_household</text>\n",
       "</g>\n",
       "<!-- num_of_kids_household&#45;&gt;Mode_Choice -->\n",
       "<g id=\"edge10\" class=\"edge\">\n",
       "<title>num_of_kids_household&#45;&gt;Mode_Choice</title>\n",
       "<path fill=\"none\" stroke=\"black\" d=\"M769.05,-77.13C692.27,-63.79 568.8,-42.34 495.24,-29.57\"/>\n",
       "<polygon fill=\"black\" stroke=\"black\" points=\"495.66,-26.09 485.2,-27.82 494.46,-32.98 495.66,-26.09\"/>\n",
       "</g>\n",
       "<!-- Gender -->\n",
       "<g id=\"node8\" class=\"node\">\n",
       "<title>Gender</title>\n",
       "<ellipse fill=\"none\" stroke=\"black\" cx=\"989.41\" cy=\"-90\" rx=\"36.26\" ry=\"18\"/>\n",
       "<text text-anchor=\"middle\" x=\"989.41\" y=\"-85.8\" font-family=\"Times,serif\" font-size=\"14.00\">Gender</text>\n",
       "</g>\n",
       "<!-- Gender&#45;&gt;Mode_Choice -->\n",
       "<g id=\"edge12\" class=\"edge\">\n",
       "<title>Gender&#45;&gt;Mode_Choice</title>\n",
       "<path fill=\"none\" stroke=\"black\" d=\"M962.64,-77.6C956.72,-75.44 950.43,-73.42 944.41,-72 790.26,-35.52 603.99,-24.15 504.73,-20.6\"/>\n",
       "<polygon fill=\"black\" stroke=\"black\" points=\"504.64,-17.1 494.53,-20.25 504.4,-24.09 504.64,-17.1\"/>\n",
       "</g>\n",
       "<!-- Travel_Cost&#45;&gt;Mode_Choice -->\n",
       "<g id=\"edge6\" class=\"edge\">\n",
       "<title>Travel_Cost&#45;&gt;Mode_Choice</title>\n",
       "<path fill=\"none\" stroke=\"black\" d=\"M403.34,-72.05C408.17,-63.8 414.09,-53.7 419.46,-44.54\"/>\n",
       "<polygon fill=\"black\" stroke=\"black\" points=\"422.55,-46.19 424.58,-35.79 416.51,-42.65 422.55,-46.19\"/>\n",
       "</g>\n",
       "</g>\n",
       "</svg>\n"
      ],
      "text/plain": [
       "<graphviz.dot.Digraph at 0x7fd0a50072d0>"
      ]
     },
     "execution_count": 7,
     "metadata": {},
     "output_type": "execute_result"
    }
   ],
   "source": [
    "## Specify the true causal graph used in the simulation of the choices\n",
    "\n",
    "causal_graph = CausalGraphicalModel(\n",
    "    nodes=[\n",
    "        \"Travel_Time\",\n",
    "        \"Travel_Distance\",\n",
    "        \"Travel_Cost\",\n",
    "        \"Cross_Bay_Bridge\",\n",
    "        \"HH_Size\",\n",
    "        \"num_of_kids_household\",\n",
    "        \"Autos_per_licensed_drivers\",\n",
    "        \"Gender\",\n",
    "        \"Mode_Choice\",\n",
    "    ],\n",
    "    edges=[\n",
    "        (\"Travel_Time\", \"Mode_Choice\"),\n",
    "        (\"Travel_Distance\", \"Mode_Choice\"),\n",
    "        (\"Travel_Cost\", \"Mode_Choice\"),\n",
    "        (\"Cross_Bay_Bridge\", \"Mode_Choice\"),\n",
    "        (\"HH_Size\", \"Mode_Choice\"),\n",
    "        (\"num_of_kids_household\", \"Mode_Choice\"),\n",
    "        (\"Autos_per_licensed_drivers\", \"Mode_Choice\"),\n",
    "        (\"Gender\", \"Mode_Choice\"),\n",
    "        (\"Travel_Distance\", \"Travel_Time\"),\n",
    "        (\"Travel_Distance\", \"Travel_Cost\"),\n",
    "        (\"Travel_Distance\", \"Cross_Bay_Bridge\"),\n",
    "        (\"HH_Size\", \"Travel_Distance\"),\n",
    "        #         (\"Travel_Time\", \"Mode_Choice\"),\n",
    "        #         (\"Travel_Time\", \"Mode_Choice\"),\n",
    "    ],\n",
    ")\n",
    "\n",
    "# draw return a graphviz `dot` object, which jupyter can render\n",
    "causal_graph.draw()"
   ]
  },
  {
   "cell_type": "markdown",
   "metadata": {},
   "source": [
    "# MNL specification"
   ]
  },
  {
   "cell_type": "code",
   "execution_count": 8,
   "metadata": {},
   "outputs": [],
   "source": [
    "## Below is the specification of the true model used in the simulation of the choices\n",
    "\n",
    "mnl_specification = OrderedDict()\n",
    "mnl_names = OrderedDict()\n",
    "\n",
    "mnl_specification[\"intercept\"] = [2, 3, 4, 5, 6, 7, 8]\n",
    "mnl_names[\"intercept\"] = [\n",
    "    \"ASC Shared Ride: 2\",\n",
    "    \"ASC Shared Ride: 3+\",\n",
    "    \"ASC Walk-Transit-Walk\",\n",
    "    \"ASC Drive-Transit-Walk\",\n",
    "    \"ASC Walk-Transit-Drive\",\n",
    "    \"ASC Walk\",\n",
    "    \"ASC Bike\",\n",
    "]\n",
    "\n",
    "mnl_specification[\"total_travel_time\"] = [1, 2, 3, [4, 5, 6]]\n",
    "mnl_names[\"total_travel_time\"] = [\n",
    "    \"Travel Time, units:min (Drive Alone)\",\n",
    "    \"Travel Time, units:min (SharedRide-2)\",\n",
    "    \"Travel Time, units:min (SharedRide-3+)\",\n",
    "    \"Travel Time, units:min (All Transit Modes)\",\n",
    "]\n",
    "\n",
    "mnl_specification[\"total_travel_cost\"] = [1, 2, 3, [4, 5, 6]]\n",
    "mnl_names[\"total_travel_cost\"] = [\n",
    "    \"Travel Cost, units:$ (Drive Alone)\",\n",
    "    \"Travel Cost, units:$ (SharedRide-2)\",\n",
    "    \"Travel Cost, units:$ (SharedRide-3+)\",\n",
    "    \"Travel Cost, units:$ (All Transit Modes)\",\n",
    "]\n",
    "\n",
    "\n",
    "mnl_specification[\"cars_per_licensed_drivers\"] = [[1, 2, 3]]\n",
    "mnl_names[\"cars_per_licensed_drivers\"] = [\n",
    "    \"Autos per licensed drivers (All Auto Modes)\"\n",
    "]\n",
    "\n",
    "mnl_specification[\"total_travel_distance\"] = [1, 2, 3, 7, 8]\n",
    "mnl_names[\"total_travel_distance\"] = [\n",
    "    \"Travel Distance, units:mi (Drive Alone)\",\n",
    "    \"Travel Distance, units:mi (SharedRide-2)\",\n",
    "    \"Travel Distance, units:mi (SharedRide-3+)\",\n",
    "    \"Travel Distance, units:mi (Walk)\",\n",
    "    \"Travel Distance, units:mi (Bike)\",\n",
    "]\n",
    "\n",
    "mnl_specification[\"cross_bay\"] = [[2, 3]]\n",
    "mnl_names[\"cross_bay\"] = [\"Cross-Bay Tour (Shared Ride 2 & 3+)\"]\n",
    "\n",
    "mnl_specification[\"household_size\"] = [[2, 3]]\n",
    "mnl_names[\"household_size\"] = [\"Household Size (Shared Ride 2 & 3+)\"]\n",
    "\n",
    "mnl_specification[\"num_kids\"] = [[2, 3]]\n",
    "mnl_names[\"num_kids\"] = [\"Number of Kids in Household (Shared Ride 2 & 3+)\"]"
   ]
  },
  {
   "cell_type": "markdown",
   "metadata": {},
   "source": [
    "# Recovering the confounder: The deconfounder algorithm"
   ]
  },
  {
   "cell_type": "markdown",
   "metadata": {},
   "source": [
    "## First approach: using all the variables in the factor model\n",
    "\n",
    "Using this approach, we use all the variables in each mode's utility specification to recover the confounder, in line with Blei et al.'s approach in their paper."
   ]
  },
  {
   "cell_type": "code",
   "execution_count": 9,
   "metadata": {},
   "outputs": [
    {
     "data": {
      "text/plain": [
       "{1: ['total_travel_time',\n",
       "  'total_travel_cost',\n",
       "  'cars_per_licensed_drivers',\n",
       "  'total_travel_distance'],\n",
       " 2: ['intercept',\n",
       "  'total_travel_time',\n",
       "  'total_travel_cost',\n",
       "  'cars_per_licensed_drivers',\n",
       "  'total_travel_distance',\n",
       "  'cross_bay',\n",
       "  'household_size',\n",
       "  'num_kids'],\n",
       " 3: ['intercept',\n",
       "  'total_travel_time',\n",
       "  'total_travel_cost',\n",
       "  'cars_per_licensed_drivers',\n",
       "  'total_travel_distance',\n",
       "  'cross_bay',\n",
       "  'household_size',\n",
       "  'num_kids'],\n",
       " 4: ['intercept', 'total_travel_time', 'total_travel_cost'],\n",
       " 5: ['intercept', 'total_travel_time', 'total_travel_cost'],\n",
       " 6: ['intercept', 'total_travel_time', 'total_travel_cost'],\n",
       " 7: ['intercept', 'total_travel_distance'],\n",
       " 8: ['intercept', 'total_travel_distance']}"
      ]
     },
     "execution_count": 9,
     "metadata": {},
     "output_type": "execute_result"
    }
   ],
   "source": [
    "## Return the variables of each utility specification\n",
    "\n",
    "spec_dic = util.specifications(\n",
    "    mnl_specification=mnl_specification, num_modes=8\n",
    ")\n",
    "spec_dic"
   ]
  },
  {
   "cell_type": "code",
   "execution_count": 10,
   "metadata": {
    "scrolled": true
   },
   "outputs": [
    {
     "name": "stdout",
     "output_type": "stream",
     "text": [
      "Analysis for mode:  1\n",
      "-------------------------------------------------------------------------------------------\n",
      "1 ['total_travel_time', 'total_travel_cost', 'cars_per_licensed_drivers']\n",
      "WARNING:tensorflow:From /Users/timsb/dev/tr_b_causal_2020/notebooks/working/factor_models.py:166: The name tf.train.AdamOptimizer is deprecated. Please use tf.compat.v1.train.AdamOptimizer instead.\n",
      "\n"
     ]
    },
    {
     "name": "stderr",
     "output_type": "stream",
     "text": [
      "/Users/timsb/dev/tr_b_causal_2020/notebooks/working/factor_models.py:119: UserWarning: tfp.edward2 module is deprecated and will be removed on 2019-12-01. Use https://github.com/google/edward2 library instead.\n",
      "  log_joint = ed.make_log_joint_fn(ppca_model)\n"
     ]
    },
    {
     "name": "stdout",
     "output_type": "stream",
     "text": [
      "WARNING:tensorflow:From /Users/timsb/dev/tr_b_causal_2020/notebooks/working/factor_models.py:169: The name tf.global_variables_initializer is deprecated. Please use tf.compat.v1.global_variables_initializer instead.\n",
      "\n",
      "WARNING:tensorflow:From /Users/timsb/dev/tr_b_causal_2020/notebooks/working/factor_models.py:175: The name tf.Session is deprecated. Please use tf.compat.v1.Session instead.\n",
      "\n",
      "Inferred axes:\n",
      "[[1.1072729  1.1033332  0.15135147]]\n",
      "Standard Deviation:\n",
      "[[0.00738746 0.00625829 0.00601766]]\n"
     ]
    },
    {
     "data": {
      "image/png": "[encoded data removed]",
      "text/plain": [
       "<Figure size 432x288 with 1 Axes>"
      ]
     },
     "metadata": {},
     "output_type": "display_data"
    },
    {
     "name": "stdout",
     "output_type": "stream",
     "text": [
      "Analysis for mode:  2\n",
      "-------------------------------------------------------------------------------------------\n",
      "2 ['total_travel_time', 'total_travel_cost', 'cars_per_licensed_drivers', 'cross_bay', 'household_size', 'num_kids']\n",
      "Inferred axes:\n",
      "[[1.1693163  1.1715178  0.14970046 0.0619003  0.01459446 0.09373284]]\n",
      "Standard Deviation:\n",
      "[[0.00854384 0.00617619 0.00639452 0.00695487 0.00596706 0.00648288]]\n"
     ]
    },
    {
     "data": {
      "image/png": "[encoded data removed]",
      "text/plain": [
       "<Figure size 432x288 with 1 Axes>"
      ]
     },
     "metadata": {},
     "output_type": "display_data"
    },
    {
     "name": "stdout",
     "output_type": "stream",
     "text": [
      "Analysis for mode:  3\n",
      "-------------------------------------------------------------------------------------------\n",
      "3 ['total_travel_time', 'total_travel_cost', 'cars_per_licensed_drivers', 'cross_bay', 'household_size', 'num_kids']\n",
      "Inferred axes:\n",
      "[[ 1.224166    1.2203048   0.054924    0.17103596 -0.06313356  0.06365667]]\n",
      "Standard Deviation:\n",
      "[[0.00649579 0.00655264 0.00506748 0.00710212 0.00581241 0.00494899]]\n"
     ]
    },
    {
     "data": {
      "image/png": "[encoded data removed]",
      "text/plain": [
       "<Figure size 432x288 with 1 Axes>"
      ]
     },
     "metadata": {},
     "output_type": "display_data"
    },
    {
     "name": "stdout",
     "output_type": "stream",
     "text": [
      "Analysis for mode:  4\n",
      "-------------------------------------------------------------------------------------------\n",
      "4 ['total_travel_time', 'total_travel_cost']\n",
      "Inferred axes:\n",
      "[[3.0188816 2.9016337]]\n",
      "Standard Deviation:\n",
      "[[0.01559163 0.01581765]]\n"
     ]
    },
    {
     "data": {
      "image/png": "[encoded data removed]",
      "text/plain": [
       "<Figure size 432x288 with 1 Axes>"
      ]
     },
     "metadata": {},
     "output_type": "display_data"
    },
    {
     "name": "stdout",
     "output_type": "stream",
     "text": [
      "Analysis for mode:  5\n",
      "-------------------------------------------------------------------------------------------\n",
      "5 ['total_travel_time', 'total_travel_cost']\n",
      "Inferred axes:\n",
      "[[0.8879519  0.89067364]]\n",
      "Standard Deviation:\n",
      "[[0.00633518 0.00649034]]\n"
     ]
    },
    {
     "data": {
      "image/png": "[encoded data removed]",
      "text/plain": [
       "<Figure size 432x288 with 1 Axes>"
      ]
     },
     "metadata": {},
     "output_type": "display_data"
    },
    {
     "name": "stdout",
     "output_type": "stream",
     "text": [
      "Analysis for mode:  6\n",
      "-------------------------------------------------------------------------------------------\n",
      "6 ['total_travel_time', 'total_travel_cost']\n",
      "Inferred axes:\n",
      "[[0.87381727 0.9045618 ]]\n",
      "Standard Deviation:\n",
      "[[0.00530716 0.00682996]]\n"
     ]
    },
    {
     "data": {
      "image/png": "[encoded data removed]",
      "text/plain": [
       "<Figure size 432x288 with 1 Axes>"
      ]
     },
     "metadata": {},
     "output_type": "display_data"
    },
    {
     "name": "stdout",
     "output_type": "stream",
     "text": [
      "Analysis for mode:  7\n",
      "-------------------------------------------------------------------------------------------\n",
      "7 []\n",
      "Inferred axes:\n",
      "[]\n",
      "Standard Deviation:\n",
      "[]\n"
     ]
    },
    {
     "data": {
      "image/png": "[encoded data removed]",
      "text/plain": [
       "<Figure size 432x288 with 1 Axes>"
      ]
     },
     "metadata": {},
     "output_type": "display_data"
    },
    {
     "name": "stdout",
     "output_type": "stream",
     "text": [
      "Analysis for mode:  8\n",
      "-------------------------------------------------------------------------------------------\n",
      "8 []\n",
      "Inferred axes:\n",
      "[]\n",
      "Standard Deviation:\n",
      "[]\n"
     ]
    },
    {
     "data": {
      "image/png": "[encoded data removed]",
      "text/plain": [
       "<Figure size 432x288 with 1 Axes>"
      ]
     },
     "metadata": {},
     "output_type": "display_data"
    }
   ],
   "source": [
    "confounder_vectors = []\n",
    "holdout_dfs = []\n",
    "masks_df = []\n",
    "rows_df = []\n",
    "latent_dim = 1\n",
    "for i in data[\"mode_id\"].unique():\n",
    "\n",
    "    data_mode_i = data[data[\"mode_id\"] == i]\n",
    "    # standardize the data for PPCA\n",
    "    print(\"Analysis for mode: \", i)\n",
    "    print(\n",
    "        \"-------------------------------------------------------------------------------------------\"\n",
    "    )\n",
    "    X_columns = spec_dic[i]\n",
    "\n",
    "    if \"intercept\" in X_columns:\n",
    "        X_columns.remove(\"intercept\")\n",
    "\n",
    "    if \"total_travel_distance\" in X_columns:\n",
    "        X_columns.remove(\"total_travel_distance\")\n",
    "\n",
    "    print(i, X_columns)\n",
    "\n",
    "    X = np.array(\n",
    "        (data_mode_i[X_columns] - data_mode_i[X_columns].mean())\n",
    "        / data_mode_i[X_columns].std()\n",
    "    )\n",
    "\n",
    "    confounders, holdouts, holdoutmasks, holdoutrow = fm.confounder_ppca(\n",
    "        holdout_portion=0.2, X=X, latent_dim=latent_dim\n",
    "    )\n",
    "\n",
    "    confounder_vectors.append(confounders)\n",
    "    holdout_dfs.append(holdouts)\n",
    "    masks_df.append(holdoutmasks)\n",
    "    rows_df.append(holdoutrow)"
   ]
  },
  {
   "cell_type": "markdown",
   "metadata": {},
   "source": [
    "## Second approach: using only the confounded variables in the factor model\n",
    "Using this approach, we only run the deconfounder's factor model on travel_time and travel_cost, which are the only variables confounded with travel_distance in our simulation"
   ]
  },
  {
   "cell_type": "code",
   "execution_count": 11,
   "metadata": {
    "scrolled": true
   },
   "outputs": [
    {
     "name": "stdout",
     "output_type": "stream",
     "text": [
      "Analysis for mode:  1\n",
      "-------------------------------------------------------------------------------------------\n",
      "Inferred axes:\n",
      "[[1.016685  1.0226148]]\n",
      "Standard Deviation:\n",
      "[[0.00682156 0.00568416]]\n"
     ]
    },
    {
     "data": {
      "image/png": "[encoded data removed]",
      "text/plain": [
       "<Figure size 432x288 with 1 Axes>"
      ]
     },
     "metadata": {},
     "output_type": "display_data"
    },
    {
     "name": "stdout",
     "output_type": "stream",
     "text": [
      "Analysis for mode:  2\n",
      "-------------------------------------------------------------------------------------------\n",
      "Inferred axes:\n",
      "[[0.9980815 1.0046238]]\n",
      "Standard Deviation:\n",
      "[[0.00451047 0.00599159]]\n"
     ]
    },
    {
     "data": {
      "image/png": "[encoded data removed]",
      "text/plain": [
       "<Figure size 432x288 with 1 Axes>"
      ]
     },
     "metadata": {},
     "output_type": "display_data"
    },
    {
     "name": "stdout",
     "output_type": "stream",
     "text": [
      "Analysis for mode:  3\n",
      "-------------------------------------------------------------------------------------------\n",
      "Inferred axes:\n",
      "[[1.028606  1.0305392]]\n",
      "Standard Deviation:\n",
      "[[0.00690301 0.0070897 ]]\n"
     ]
    },
    {
     "data": {
      "image/png": "[encoded data removed]",
      "text/plain": [
       "<Figure size 432x288 with 1 Axes>"
      ]
     },
     "metadata": {},
     "output_type": "display_data"
    },
    {
     "name": "stdout",
     "output_type": "stream",
     "text": [
      "Analysis for mode:  4\n",
      "-------------------------------------------------------------------------------------------\n",
      "Inferred axes:\n",
      "[[3.0120234 2.909331 ]]\n",
      "Standard Deviation:\n",
      "[[0.00768301 0.01381279]]\n"
     ]
    },
    {
     "data": {
      "image/png": "[encoded data removed]",
      "text/plain": [
       "<Figure size 432x288 with 1 Axes>"
      ]
     },
     "metadata": {},
     "output_type": "display_data"
    },
    {
     "name": "stdout",
     "output_type": "stream",
     "text": [
      "Analysis for mode:  5\n",
      "-------------------------------------------------------------------------------------------\n",
      "Inferred axes:\n",
      "[[0.9019748  0.88007385]]\n",
      "Standard Deviation:\n",
      "[[0.00604124 0.00545537]]\n"
     ]
    },
    {
     "data": {
      "image/png": "[encoded data removed]",
      "text/plain": [
       "<Figure size 432x288 with 1 Axes>"
      ]
     },
     "metadata": {},
     "output_type": "display_data"
    },
    {
     "name": "stdout",
     "output_type": "stream",
     "text": [
      "Analysis for mode:  6\n",
      "-------------------------------------------------------------------------------------------\n",
      "Inferred axes:\n",
      "[[0.89071965 0.8791704 ]]\n",
      "Standard Deviation:\n",
      "[[0.00807343 0.00486251]]\n"
     ]
    },
    {
     "data": {
      "image/png": "[encoded data removed]",
      "text/plain": [
       "<Figure size 432x288 with 1 Axes>"
      ]
     },
     "metadata": {},
     "output_type": "display_data"
    },
    {
     "name": "stdout",
     "output_type": "stream",
     "text": [
      "Analysis for mode:  7\n",
      "-------------------------------------------------------------------------------------------\n",
      "Inferred axes:\n",
      "[[nan nan]]\n",
      "Standard Deviation:\n",
      "[[nan nan]]\n"
     ]
    },
    {
     "data": {
      "image/png": "[encoded data removed]",
      "text/plain": [
       "<Figure size 432x288 with 1 Axes>"
      ]
     },
     "metadata": {},
     "output_type": "display_data"
    },
    {
     "name": "stdout",
     "output_type": "stream",
     "text": [
      "Analysis for mode:  8\n",
      "-------------------------------------------------------------------------------------------\n",
      "Inferred axes:\n",
      "[[nan nan]]\n",
      "Standard Deviation:\n",
      "[[nan nan]]\n"
     ]
    },
    {
     "data": {
      "image/png": "[encoded data removed]",
      "text/plain": [
       "<Figure size 432x288 with 1 Axes>"
      ]
     },
     "metadata": {},
     "output_type": "display_data"
    }
   ],
   "source": [
    "confounder_vectors_2 = []\n",
    "holdout_dfs_2 = []\n",
    "masks_df_2 = []\n",
    "rows_df_2 = []\n",
    "latent_dim = 1\n",
    "\n",
    "confounded_variables = [\"total_travel_time\", \"total_travel_cost\"]\n",
    "for i in data[\"mode_id\"].unique():\n",
    "\n",
    "    data_mode_i = data[data[\"mode_id\"] == i]\n",
    "    # standardize the data for PPCA\n",
    "    print(\"Analysis for mode: \", i)\n",
    "    print(\n",
    "        \"-------------------------------------------------------------------------------------------\"\n",
    "    )\n",
    "\n",
    "    X = np.array(\n",
    "        (\n",
    "            data_mode_i[confounded_variables]\n",
    "            - data_mode_i[confounded_variables].mean()\n",
    "        )\n",
    "        / data_mode_i[confounded_variables].std()\n",
    "    )\n",
    "\n",
    "    confounders, holdouts, holdoutmasks, holdoutrow = fm.confounder_ppca(\n",
    "        holdout_portion=0.2, X=X, latent_dim=latent_dim\n",
    "    )\n",
    "\n",
    "    confounder_vectors_2.append(confounders)\n",
    "    holdout_dfs_2.append(holdouts)\n",
    "    masks_df_2.append(holdoutmasks)\n",
    "    rows_df_2.append(holdoutrow)"
   ]
  },
  {
   "cell_type": "markdown",
   "metadata": {},
   "source": [
    "## Adding confounders to original DF"
   ]
  },
  {
   "cell_type": "code",
   "execution_count": 12,
   "metadata": {},
   "outputs": [],
   "source": [
    "data[\"recovered_confounder_model_2\"] = util.add_confounders_to_df(\n",
    "    data,\n",
    "    confounder_vectors=confounder_vectors,\n",
    "    mode_ids=[1, 2, 3],\n",
    "    suffix=\"_method_2\",\n",
    ")\n",
    "\n",
    "data[\"recovered_confounder_model_3\"] = util.add_confounders_to_df(\n",
    "    data,\n",
    "    confounder_vectors=confounder_vectors_2,\n",
    "    mode_ids=[1, 2, 3],\n",
    "    suffix=\"_method_3\",\n",
    ")"
   ]
  },
  {
   "cell_type": "markdown",
   "metadata": {},
   "source": [
    "# Compare recovered confounder to actual confounder\n",
    "\n",
    "Notice here that although the recovered confounder correlates well with the true confounder, there is more noise in method 1 where we use all the variables in each utility to recover the confounder. Method 2 has less noise, but as we will see later in the notebook, this noise is still high enough that our estimates on travel_time and travel_cost will still be biased even after adjusting for the recovered confounder."
   ]
  },
  {
   "cell_type": "code",
   "execution_count": 13,
   "metadata": {
    "lines_to_next_cell": 1,
    "scrolled": false
   },
   "outputs": [
    {
     "name": "stderr",
     "output_type": "stream",
     "text": [
      "*c* argument looks like a single numeric RGB or RGBA sequence, which should be avoided as value-mapping will have precedence in case its length matches with *x* & *y*.  Please use the *color* keyword-argument or provide a 2-D array with a single row if you intend to specify the same RGB or RGBA value for all points.\n",
      "*c* argument looks like a single numeric RGB or RGBA sequence, which should be avoided as value-mapping will have precedence in case its length matches with *x* & *y*.  Please use the *color* keyword-argument or provide a 2-D array with a single row if you intend to specify the same RGB or RGBA value for all points.\n"
     ]
    },
    {
     "data": {
      "text/plain": [
       "<AxesSubplot:xlabel='total_travel_distance', ylabel='recovered_confounder_model_3'>"
      ]
     },
     "execution_count": 13,
     "metadata": {},
     "output_type": "execute_result"
    },
    {
     "data": {
      "image/png": "[encoded data removed]",
      "text/plain": [
       "<Figure size 432x288 with 1 Axes>"
      ]
     },
     "metadata": {},
     "output_type": "display_data"
    },
    {
     "data": {
      "image/png": "[encoded data removed]",
      "text/plain": [
       "<Figure size 432x288 with 1 Axes>"
      ]
     },
     "metadata": {},
     "output_type": "display_data"
    }
   ],
   "source": [
    "data_da = data[data[\"mode_id\"] == 1]\n",
    "\n",
    "data_da.plot.scatter(\"total_travel_distance\", \"recovered_confounder_model_2\")\n",
    "\n",
    "data_da.plot.scatter(\"total_travel_distance\", \"recovered_confounder_model_3\")"
   ]
  },
  {
   "cell_type": "code",
   "execution_count": 15,
   "metadata": {
    "lines_to_next_cell": 2
   },
   "outputs": [
    {
     "data": {
      "image/png": "[encoded data removed]",
      "text/plain": [
       "<Figure size 864x576 with 1 Axes>"
      ]
     },
     "metadata": {},
     "output_type": "display_data"
    }
   ],
   "source": [
    "# save plots for handbook of choice modeling\n",
    "\n",
    "@attr.s\n",
    "class RefCoords:\n",
    "    x: np.ndarray = attr.ib()\n",
    "    y: np.ndarray = attr.ib()\n",
    "\n",
    "\n",
    "def get_qq_ref_line(\n",
    "    xvals: np.ndarray, yvals: np.ndarray\n",
    ") -> RefCoords:\n",
    "    \"\"\"\n",
    "    Returns the reference line (in format `xvals`, `yvals`) for the given\n",
    "    arguments un-normalized QQ-plot, based on the 25th and 75th percentiles.\n",
    "    \"\"\"\n",
    "\n",
    "    percentile_25_x = np.percentile(xvals, 25)\n",
    "    percentile_75_x = np.percentile(xvals, 75)\n",
    "    percentile_25_y = np.percentile(yvals, 25)\n",
    "    percentile_75_y = np.percentile(yvals, 75)\n",
    "\n",
    "    slope = (\n",
    "        (percentile_75_y - percentile_25_y)\n",
    "        / (percentile_75_x - percentile_25_x)\n",
    "    )\n",
    "\n",
    "    min_x, max_x = np.min(xvals), np.max(xvals)\n",
    "    min_y = slope * (min_x - percentile_25_x) + percentile_25_y\n",
    "    max_y = slope * (max_x - percentile_75_x) + percentile_75_y\n",
    "\n",
    "    ref_xvals = np.array([min_x, max_x])\n",
    "    ref_yvals = np.array([min_y, max_y])\n",
    "    return RefCoords(x=ref_xvals, y=ref_yvals)\n",
    "\n",
    "\n",
    "fig, ax = plt.subplots(figsize=(12, 8))\n",
    "\n",
    "x = data_da[\"total_travel_distance\"].to_list()\n",
    "y = data_da[\"recovered_confounder_model_2\"].to_list()\n",
    "# Quantile-quantile plot\n",
    "ax.scatter(np.sort(x), np.sort(y))\n",
    "ref_line_values = get_qq_ref_line(x, y)\n",
    "ax.plot(\n",
    "    ref_line_values.x,\n",
    "    ref_line_values.y,\n",
    "    color=\"black\",\n",
    "    linestyle=\"dashed\",\n",
    "    label=\"Reference\",\n",
    ")\n",
    "ax.set_xlabel(\"True Confounder\", fontsize=13)\n",
    "ax.set_ylabel(\"Recovered Confounder using all covariates\", fontsize=13)\n",
    "ax.legend(loc=\"best\", fontsize=13)\n",
    "sbn.despine()\n",
    "fig.savefig(\n",
    "    str(pyprojroot.here(\"article/images/qq-plot-method-2.pdf\")),\n",
    "    dpi=500,\n",
    "    bbox_inches=\"tight\",\n",
    ")"
   ]
  },
  {
   "cell_type": "code",
   "execution_count": 16,
   "metadata": {
    "lines_to_next_cell": 2
   },
   "outputs": [
    {
     "data": {
      "image/png": "[encoded data removed]",
      "text/plain": [
       "<Figure size 864x576 with 1 Axes>"
      ]
     },
     "metadata": {},
     "output_type": "display_data"
    }
   ],
   "source": [
    "# save plots for handbook of choice modeling\n",
    "\n",
    "fig, ax = plt.subplots(figsize=(12, 8))\n",
    "\n",
    "x = data_da[\"total_travel_distance\"].to_list()\n",
    "y = data_da[\"recovered_confounder_model_3\"].to_list()\n",
    "# Quantile-quantile plot\n",
    "ax.scatter(np.sort(x), np.sort(y))\n",
    "ref_line_values = get_qq_ref_line(x, y)\n",
    "ax.plot(\n",
    "    ref_line_values.x,\n",
    "    ref_line_values.y,\n",
    "    color=\"black\",\n",
    "    linestyle=\"dashed\",\n",
    "    label=\"Reference\",\n",
    ")\n",
    "ax.set_xlabel(\"True Confounder\", fontsize=13)\n",
    "ax.set_ylabel(\n",
    "    \"Recovered Confounder using only confounder covariates\", fontsize=13\n",
    ")\n",
    "ax.legend(loc=\"best\", fontsize=13)\n",
    "sbn.despine()\n",
    "fig.savefig(\n",
    "    str(pyprojroot.here(\"article/images/qq-plot-method-3.pdf\")),\n",
    "    dpi=500,\n",
    "    bbox_inches=\"tight\",\n",
    ")"
   ]
  },
  {
   "cell_type": "markdown",
   "metadata": {},
   "source": [
    "## True Model"
   ]
  },
  {
   "cell_type": "code",
   "execution_count": 17,
   "metadata": {},
   "outputs": [
    {
     "name": "stderr",
     "output_type": "stream",
     "text": [
      "/Users/timsb/miniconda3/envs/causal2020/lib/python3.7/site-packages/pylogit/choice_tools.py:703: FutureWarning: arrays to stack must be passed as a \"sequence\" type such as list or tuple. Support for non-sequence iterables such as generators is deprecated as of NumPy 1.16 and will raise an error in the future.\n",
      "  design_matrix = np.hstack((x[:, None] for x in independent_vars))\n"
     ]
    },
    {
     "name": "stdout",
     "output_type": "stream",
     "text": [
      "Log-likelihood at zero: -15,176.6986\n",
      "Initial Log-likelihood: -15,176.6986\n"
     ]
    },
    {
     "name": "stderr",
     "output_type": "stream",
     "text": [
      "/Users/timsb/miniconda3/envs/causal2020/lib/python3.7/site-packages/scipy/optimize/_minimize.py:523: RuntimeWarning: Method BFGS does not use Hessian information (hess).\n",
      "  RuntimeWarning)\n"
     ]
    },
    {
     "name": "stdout",
     "output_type": "stream",
     "text": [
      "Estimation Time for Point Estimation: 0.58 seconds.\n",
      "Final log-likelihood: -8,116.6614\n"
     ]
    },
    {
     "data": {
      "text/html": [
       "<table class=\"simpletable\">\n",
       "<caption>Multinomial Logit Model Regression Results</caption>\n",
       "<tr>\n",
       "  <th>Dep. Variable:</th>       <td>sim_choice</td>        <th>  No. Observations:  </th>    <td>8,000</td>   \n",
       "</tr>\n",
       "<tr>\n",
       "  <th>Model:</th>         <td>Multinomial Logit Model</td> <th>  Df Residuals:      </th>    <td>7,976</td>   \n",
       "</tr>\n",
       "<tr>\n",
       "  <th>Method:</th>                  <td>MLE</td>           <th>  Df Model:          </th>     <td>24</td>     \n",
       "</tr>\n",
       "<tr>\n",
       "  <th>Date:</th>             <td>Sat, 19 Dec 2020</td>     <th>  Pseudo R-squ.:     </th>    <td>0.465</td>   \n",
       "</tr>\n",
       "<tr>\n",
       "  <th>Time:</th>                 <td>11:37:36</td>         <th>  Pseudo R-bar-squ.: </th>    <td>0.464</td>   \n",
       "</tr>\n",
       "<tr>\n",
       "  <th>AIC:</th>                 <td>16,281.323</td>        <th>  Log-Likelihood:    </th> <td>-8,116.661</td> \n",
       "</tr>\n",
       "<tr>\n",
       "  <th>BIC:</th>                 <td>16,449.016</td>        <th>  LL-Null:           </th> <td>-15,176.699</td>\n",
       "</tr>\n",
       "</table>\n",
       "<table class=\"simpletable\">\n",
       "<tr>\n",
       "                          <td></td>                            <th>coef</th>     <th>std err</th>      <th>z</th>      <th>P>|z|</th>  <th>[0.025</th>    <th>0.975]</th>  \n",
       "</tr>\n",
       "<tr>\n",
       "  <th>ASC Shared Ride: 2</th>                               <td>   -1.4806</td> <td>    0.125</td> <td>  -11.831</td> <td> 0.000</td> <td>   -1.726</td> <td>   -1.235</td>\n",
       "</tr>\n",
       "<tr>\n",
       "  <th>ASC Shared Ride: 3+</th>                              <td>   -1.0591</td> <td>    0.135</td> <td>   -7.847</td> <td> 0.000</td> <td>   -1.324</td> <td>   -0.795</td>\n",
       "</tr>\n",
       "<tr>\n",
       "  <th>ASC Walk-Transit-Walk</th>                            <td>    0.9292</td> <td>    0.131</td> <td>    7.078</td> <td> 0.000</td> <td>    0.672</td> <td>    1.186</td>\n",
       "</tr>\n",
       "<tr>\n",
       "  <th>ASC Drive-Transit-Walk</th>                           <td>   -1.4083</td> <td>    0.145</td> <td>   -9.716</td> <td> 0.000</td> <td>   -1.692</td> <td>   -1.124</td>\n",
       "</tr>\n",
       "<tr>\n",
       "  <th>ASC Walk-Transit-Drive</th>                           <td>   -1.6138</td> <td>    0.150</td> <td>  -10.788</td> <td> 0.000</td> <td>   -1.907</td> <td>   -1.321</td>\n",
       "</tr>\n",
       "<tr>\n",
       "  <th>ASC Walk</th>                                         <td>    3.0480</td> <td>    0.135</td> <td>   22.606</td> <td> 0.000</td> <td>    2.784</td> <td>    3.312</td>\n",
       "</tr>\n",
       "<tr>\n",
       "  <th>ASC Bike</th>                                         <td>    0.2714</td> <td>    0.103</td> <td>    2.627</td> <td> 0.009</td> <td>    0.069</td> <td>    0.474</td>\n",
       "</tr>\n",
       "<tr>\n",
       "  <th>Travel Time, units:min (Drive Alone)</th>             <td>   -0.0844</td> <td>    0.005</td> <td>  -16.886</td> <td> 0.000</td> <td>   -0.094</td> <td>   -0.075</td>\n",
       "</tr>\n",
       "<tr>\n",
       "  <th>Travel Time, units:min (SharedRide-2)</th>            <td>   -0.0903</td> <td>    0.006</td> <td>  -14.750</td> <td> 0.000</td> <td>   -0.102</td> <td>   -0.078</td>\n",
       "</tr>\n",
       "<tr>\n",
       "  <th>Travel Time, units:min (SharedRide-3+)</th>           <td>   -0.1261</td> <td>    0.008</td> <td>  -16.050</td> <td> 0.000</td> <td>   -0.141</td> <td>   -0.111</td>\n",
       "</tr>\n",
       "<tr>\n",
       "  <th>Travel Time, units:min (All Transit Modes)</th>       <td>   -0.0297</td> <td>    0.002</td> <td>  -19.750</td> <td> 0.000</td> <td>   -0.033</td> <td>   -0.027</td>\n",
       "</tr>\n",
       "<tr>\n",
       "  <th>Travel Cost, units:$ (Drive Alone)</th>               <td>   -0.2292</td> <td>    0.026</td> <td>   -8.744</td> <td> 0.000</td> <td>   -0.281</td> <td>   -0.178</td>\n",
       "</tr>\n",
       "<tr>\n",
       "  <th>Travel Cost, units:$ (SharedRide-2)</th>              <td>   -0.4378</td> <td>    0.057</td> <td>   -7.636</td> <td> 0.000</td> <td>   -0.550</td> <td>   -0.325</td>\n",
       "</tr>\n",
       "<tr>\n",
       "  <th>Travel Cost, units:$ (SharedRide-3+)</th>             <td>   -0.7461</td> <td>    0.157</td> <td>   -4.749</td> <td> 0.000</td> <td>   -1.054</td> <td>   -0.438</td>\n",
       "</tr>\n",
       "<tr>\n",
       "  <th>Travel Cost, units:$ (All Transit Modes)</th>         <td>   -0.1180</td> <td>    0.019</td> <td>   -6.316</td> <td> 0.000</td> <td>   -0.155</td> <td>   -0.081</td>\n",
       "</tr>\n",
       "<tr>\n",
       "  <th>Autos per licensed drivers (All Auto Modes)</th>      <td>    1.3336</td> <td>    0.055</td> <td>   24.051</td> <td> 0.000</td> <td>    1.225</td> <td>    1.442</td>\n",
       "</tr>\n",
       "<tr>\n",
       "  <th>Travel Distance, units:mi (Drive Alone)</th>          <td>    0.1056</td> <td>    0.009</td> <td>   11.880</td> <td> 0.000</td> <td>    0.088</td> <td>    0.123</td>\n",
       "</tr>\n",
       "<tr>\n",
       "  <th>Travel Distance, units:mi (SharedRide-2)</th>         <td>    0.0637</td> <td>    0.011</td> <td>    5.689</td> <td> 0.000</td> <td>    0.042</td> <td>    0.086</td>\n",
       "</tr>\n",
       "<tr>\n",
       "  <th>Travel Distance, units:mi (SharedRide-3+)</th>        <td>    0.0359</td> <td>    0.017</td> <td>    2.057</td> <td> 0.040</td> <td>    0.002</td> <td>    0.070</td>\n",
       "</tr>\n",
       "<tr>\n",
       "  <th>Travel Distance, units:mi (Walk)</th>                 <td>   -1.0998</td> <td>    0.037</td> <td>  -30.075</td> <td> 0.000</td> <td>   -1.171</td> <td>   -1.028</td>\n",
       "</tr>\n",
       "<tr>\n",
       "  <th>Travel Distance, units:mi (Bike)</th>                 <td>   -0.3209</td> <td>    0.016</td> <td>  -20.290</td> <td> 0.000</td> <td>   -0.352</td> <td>   -0.290</td>\n",
       "</tr>\n",
       "<tr>\n",
       "  <th>Cross-Bay Tour (Shared Ride 2 & 3+)</th>              <td>    0.6706</td> <td>    0.123</td> <td>    5.459</td> <td> 0.000</td> <td>    0.430</td> <td>    0.911</td>\n",
       "</tr>\n",
       "<tr>\n",
       "  <th>Household Size (Shared Ride 2 & 3+)</th>              <td>    0.1142</td> <td>    0.022</td> <td>    5.194</td> <td> 0.000</td> <td>    0.071</td> <td>    0.157</td>\n",
       "</tr>\n",
       "<tr>\n",
       "  <th>Number of Kids in Household (Shared Ride 2 & 3+)</th> <td>    0.5737</td> <td>    0.026</td> <td>   21.827</td> <td> 0.000</td> <td>    0.522</td> <td>    0.625</td>\n",
       "</tr>\n",
       "</table>"
      ],
      "text/plain": [
       "<class 'statsmodels.iolib.summary.Summary'>\n",
       "\"\"\"\n",
       "                     Multinomial Logit Model Regression Results                    \n",
       "===================================================================================\n",
       "Dep. Variable:                  sim_choice   No. Observations:                8,000\n",
       "Model:             Multinomial Logit Model   Df Residuals:                    7,976\n",
       "Method:                                MLE   Df Model:                           24\n",
       "Date:                     Sat, 19 Dec 2020   Pseudo R-squ.:                   0.465\n",
       "Time:                             11:37:36   Pseudo R-bar-squ.:               0.464\n",
       "AIC:                            16,281.323   Log-Likelihood:             -8,116.661\n",
       "BIC:                            16,449.016   LL-Null:                   -15,176.699\n",
       "====================================================================================================================\n",
       "                                                       coef    std err          z      P>|z|      [0.025      0.975]\n",
       "--------------------------------------------------------------------------------------------------------------------\n",
       "ASC Shared Ride: 2                                  -1.4806      0.125    -11.831      0.000      -1.726      -1.235\n",
       "ASC Shared Ride: 3+                                 -1.0591      0.135     -7.847      0.000      -1.324      -0.795\n",
       "ASC Walk-Transit-Walk                                0.9292      0.131      7.078      0.000       0.672       1.186\n",
       "ASC Drive-Transit-Walk                              -1.4083      0.145     -9.716      0.000      -1.692      -1.124\n",
       "ASC Walk-Transit-Drive                              -1.6138      0.150    -10.788      0.000      -1.907      -1.321\n",
       "ASC Walk                                             3.0480      0.135     22.606      0.000       2.784       3.312\n",
       "ASC Bike                                             0.2714      0.103      2.627      0.009       0.069       0.474\n",
       "Travel Time, units:min (Drive Alone)                -0.0844      0.005    -16.886      0.000      -0.094      -0.075\n",
       "Travel Time, units:min (SharedRide-2)               -0.0903      0.006    -14.750      0.000      -0.102      -0.078\n",
       "Travel Time, units:min (SharedRide-3+)              -0.1261      0.008    -16.050      0.000      -0.141      -0.111\n",
       "Travel Time, units:min (All Transit Modes)          -0.0297      0.002    -19.750      0.000      -0.033      -0.027\n",
       "Travel Cost, units:$ (Drive Alone)                  -0.2292      0.026     -8.744      0.000      -0.281      -0.178\n",
       "Travel Cost, units:$ (SharedRide-2)                 -0.4378      0.057     -7.636      0.000      -0.550      -0.325\n",
       "Travel Cost, units:$ (SharedRide-3+)                -0.7461      0.157     -4.749      0.000      -1.054      -0.438\n",
       "Travel Cost, units:$ (All Transit Modes)            -0.1180      0.019     -6.316      0.000      -0.155      -0.081\n",
       "Autos per licensed drivers (All Auto Modes)          1.3336      0.055     24.051      0.000       1.225       1.442\n",
       "Travel Distance, units:mi (Drive Alone)              0.1056      0.009     11.880      0.000       0.088       0.123\n",
       "Travel Distance, units:mi (SharedRide-2)             0.0637      0.011      5.689      0.000       0.042       0.086\n",
       "Travel Distance, units:mi (SharedRide-3+)            0.0359      0.017      2.057      0.040       0.002       0.070\n",
       "Travel Distance, units:mi (Walk)                    -1.0998      0.037    -30.075      0.000      -1.171      -1.028\n",
       "Travel Distance, units:mi (Bike)                    -0.3209      0.016    -20.290      0.000      -0.352      -0.290\n",
       "Cross-Bay Tour (Shared Ride 2 & 3+)                  0.6706      0.123      5.459      0.000       0.430       0.911\n",
       "Household Size (Shared Ride 2 & 3+)                  0.1142      0.022      5.194      0.000       0.071       0.157\n",
       "Number of Kids in Household (Shared Ride 2 & 3+)     0.5737      0.026     21.827      0.000       0.522       0.625\n",
       "====================================================================================================================\n",
       "\"\"\""
      ]
     },
     "execution_count": 17,
     "metadata": {},
     "output_type": "execute_result"
    }
   ],
   "source": [
    "# Estimate the basic MNL model, using the hessian and newton-conjugate gradient\n",
    "mnl_model = cm.create_choice_model(\n",
    "    data=data,\n",
    "    alt_id_col=\"mode_id\",\n",
    "    obs_id_col=\"observation_id\",\n",
    "    choice_col=\"sim_choice\",\n",
    "    specification=mnl_specification,\n",
    "    model_type=\"MNL\",\n",
    "    names=mnl_names,\n",
    ")\n",
    "\n",
    "num_vars = len(reduce(lambda x, y: x + y, mnl_names.values()))\n",
    "mnl_model.fit_mle(np.zeros(num_vars), method=\"BFGS\")\n",
    "mnl_model.get_statsmodels_summary()"
   ]
  },
  {
   "cell_type": "markdown",
   "metadata": {},
   "source": [
    "## Model 1"
   ]
  },
  {
   "cell_type": "code",
   "execution_count": 18,
   "metadata": {},
   "outputs": [],
   "source": [
    "# Create my specification and variable names for the basic MNL model\n",
    "# NOTE: - Keys should be variables within the long format dataframe.\n",
    "#         The sole exception to this is the \"intercept\" key.\n",
    "#       - For the specification dictionary, the values should be lists\n",
    "#         or lists of lists. Within a list, or within the inner-most\n",
    "#         list should be the alternative ID's of the alternative whose\n",
    "#         utility specification the explanatory variable is entering.\n",
    "\n",
    "mnl_specification_noncausal = OrderedDict()\n",
    "mnl_names_noncausal = OrderedDict()\n",
    "\n",
    "mnl_specification_noncausal[\"intercept\"] = [2, 3, 4, 5, 6, 7, 8]\n",
    "mnl_names_noncausal[\"intercept\"] = [\n",
    "    \"ASC Shared Ride: 2\",\n",
    "    \"ASC Shared Ride: 3+\",\n",
    "    \"ASC Walk-Transit-Walk\",\n",
    "    \"ASC Drive-Transit-Walk\",\n",
    "    \"ASC Walk-Transit-Drive\",\n",
    "    \"ASC Walk\",\n",
    "    \"ASC Bike\",\n",
    "]\n",
    "\n",
    "mnl_specification_noncausal[\"total_travel_time\"] = [1, 2, 3, [4, 5, 6]]\n",
    "mnl_names_noncausal[\"total_travel_time\"] = [\n",
    "    \"Travel Time, units:min (Drive Alone)\",\n",
    "    \"Travel Time, units:min (SharedRide-2)\",\n",
    "    \"Travel Time, units:min (SharedRide-3+)\",\n",
    "    \"Travel Time, units:min (All Transit Modes)\",\n",
    "]\n",
    "\n",
    "mnl_specification_noncausal[\"total_travel_cost\"] = [1, 2, 3, [4, 5, 6]]\n",
    "mnl_names_noncausal[\"total_travel_cost\"] = [\n",
    "    \"Travel Cost, units:$ (Drive Alone)\",\n",
    "    \"Travel Cost, units:$ (SharedRide-2)\",\n",
    "    \"Travel Cost, units:$ (SharedRide-3+)\",\n",
    "    \"Travel Cost, units:$ (All Transit Modes)\",\n",
    "]\n",
    "\n",
    "mnl_specification_noncausal[\"cars_per_licensed_drivers\"] = [[1, 2, 3]]\n",
    "mnl_names_noncausal[\"cars_per_licensed_drivers\"] = [\n",
    "    \"Autos per licensed drivers (All Auto Modes)\"\n",
    "]\n",
    "\n",
    "mnl_specification_noncausal[\"cross_bay\"] = [[2, 3]]\n",
    "mnl_names_noncausal[\"cross_bay\"] = [\"Cross-Bay Tour (Shared Ride 2 & 3+)\"]\n",
    "\n",
    "mnl_specification_noncausal[\"household_size\"] = [[2, 3]]\n",
    "mnl_names_noncausal[\"household_size\"] = [\"Household Size (Shared Ride 2 & 3+)\"]\n",
    "\n",
    "mnl_specification_noncausal[\"num_kids\"] = [[2, 3]]\n",
    "mnl_names_noncausal[\"num_kids\"] = [\n",
    "    \"Number of Kids in Household (Shared Ride 2 & 3+)\"\n",
    "]"
   ]
  },
  {
   "cell_type": "code",
   "execution_count": 19,
   "metadata": {},
   "outputs": [
    {
     "name": "stderr",
     "output_type": "stream",
     "text": [
      "/Users/timsb/miniconda3/envs/causal2020/lib/python3.7/site-packages/pylogit/choice_tools.py:703: FutureWarning: arrays to stack must be passed as a \"sequence\" type such as list or tuple. Support for non-sequence iterables such as generators is deprecated as of NumPy 1.16 and will raise an error in the future.\n",
      "  design_matrix = np.hstack((x[:, None] for x in independent_vars))\n"
     ]
    },
    {
     "name": "stdout",
     "output_type": "stream",
     "text": [
      "Log-likelihood at zero: -15,176.6986\n",
      "Initial Log-likelihood: -15,176.6986\n"
     ]
    },
    {
     "name": "stderr",
     "output_type": "stream",
     "text": [
      "/Users/timsb/miniconda3/envs/causal2020/lib/python3.7/site-packages/scipy/optimize/_minimize.py:523: RuntimeWarning: Method BFGS does not use Hessian information (hess).\n",
      "  RuntimeWarning)\n"
     ]
    },
    {
     "name": "stdout",
     "output_type": "stream",
     "text": [
      "Estimation Time for Point Estimation: 0.74 seconds.\n",
      "Final log-likelihood: -10,288.5691\n"
     ]
    },
    {
     "data": {
      "text/html": [
       "<table class=\"simpletable\">\n",
       "<caption>Multinomial Logit Model Regression Results</caption>\n",
       "<tr>\n",
       "  <th>Dep. Variable:</th>       <td>sim_choice</td>        <th>  No. Observations:  </th>    <td>8,000</td>   \n",
       "</tr>\n",
       "<tr>\n",
       "  <th>Model:</th>         <td>Multinomial Logit Model</td> <th>  Df Residuals:      </th>    <td>7,981</td>   \n",
       "</tr>\n",
       "<tr>\n",
       "  <th>Method:</th>                  <td>MLE</td>           <th>  Df Model:          </th>     <td>19</td>     \n",
       "</tr>\n",
       "<tr>\n",
       "  <th>Date:</th>             <td>Sat, 19 Dec 2020</td>     <th>  Pseudo R-squ.:     </th>    <td>0.322</td>   \n",
       "</tr>\n",
       "<tr>\n",
       "  <th>Time:</th>                 <td>11:38:05</td>         <th>  Pseudo R-bar-squ.: </th>    <td>0.321</td>   \n",
       "</tr>\n",
       "<tr>\n",
       "  <th>AIC:</th>                 <td>20,615.138</td>        <th>  Log-Likelihood:    </th> <td>-10,288.569</td>\n",
       "</tr>\n",
       "<tr>\n",
       "  <th>BIC:</th>                 <td>20,747.895</td>        <th>  LL-Null:           </th> <td>-15,176.699</td>\n",
       "</tr>\n",
       "</table>\n",
       "<table class=\"simpletable\">\n",
       "<tr>\n",
       "                          <td></td>                            <th>coef</th>     <th>std err</th>      <th>z</th>      <th>P>|z|</th>  <th>[0.025</th>    <th>0.975]</th>  \n",
       "</tr>\n",
       "<tr>\n",
       "  <th>ASC Shared Ride: 2</th>                               <td>   -1.1772</td> <td>    0.116</td> <td>  -10.187</td> <td> 0.000</td> <td>   -1.404</td> <td>   -0.951</td>\n",
       "</tr>\n",
       "<tr>\n",
       "  <th>ASC Shared Ride: 3+</th>                              <td>   -0.7079</td> <td>    0.126</td> <td>   -5.628</td> <td> 0.000</td> <td>   -0.954</td> <td>   -0.461</td>\n",
       "</tr>\n",
       "<tr>\n",
       "  <th>ASC Walk-Transit-Walk</th>                            <td>    0.9579</td> <td>    0.122</td> <td>    7.877</td> <td> 0.000</td> <td>    0.720</td> <td>    1.196</td>\n",
       "</tr>\n",
       "<tr>\n",
       "  <th>ASC Drive-Transit-Walk</th>                           <td>   -1.2297</td> <td>    0.138</td> <td>   -8.930</td> <td> 0.000</td> <td>   -1.500</td> <td>   -0.960</td>\n",
       "</tr>\n",
       "<tr>\n",
       "  <th>ASC Walk-Transit-Drive</th>                           <td>   -1.4191</td> <td>    0.143</td> <td>   -9.955</td> <td> 0.000</td> <td>   -1.699</td> <td>   -1.140</td>\n",
       "</tr>\n",
       "<tr>\n",
       "  <th>ASC Walk</th>                                         <td>   -1.0122</td> <td>    0.074</td> <td>  -13.670</td> <td> 0.000</td> <td>   -1.157</td> <td>   -0.867</td>\n",
       "</tr>\n",
       "<tr>\n",
       "  <th>ASC Bike</th>                                         <td>   -1.2166</td> <td>    0.075</td> <td>  -16.141</td> <td> 0.000</td> <td>   -1.364</td> <td>   -1.069</td>\n",
       "</tr>\n",
       "<tr>\n",
       "  <th>Travel Time, units:min (Drive Alone)</th>             <td>   -0.0386</td> <td>    0.003</td> <td>  -11.916</td> <td> 0.000</td> <td>   -0.045</td> <td>   -0.032</td>\n",
       "</tr>\n",
       "<tr>\n",
       "  <th>Travel Time, units:min (SharedRide-2)</th>            <td>   -0.0623</td> <td>    0.004</td> <td>  -14.178</td> <td> 0.000</td> <td>   -0.071</td> <td>   -0.054</td>\n",
       "</tr>\n",
       "<tr>\n",
       "  <th>Travel Time, units:min (SharedRide-3+)</th>           <td>   -0.1087</td> <td>    0.006</td> <td>  -16.983</td> <td> 0.000</td> <td>   -0.121</td> <td>   -0.096</td>\n",
       "</tr>\n",
       "<tr>\n",
       "  <th>Travel Time, units:min (All Transit Modes)</th>       <td>   -0.0271</td> <td>    0.001</td> <td>  -19.033</td> <td> 0.000</td> <td>   -0.030</td> <td>   -0.024</td>\n",
       "</tr>\n",
       "<tr>\n",
       "  <th>Travel Cost, units:$ (Drive Alone)</th>               <td>   -0.0210</td> <td>    0.018</td> <td>   -1.138</td> <td> 0.255</td> <td>   -0.057</td> <td>    0.015</td>\n",
       "</tr>\n",
       "<tr>\n",
       "  <th>Travel Cost, units:$ (SharedRide-2)</th>              <td>   -0.2069</td> <td>    0.041</td> <td>   -4.996</td> <td> 0.000</td> <td>   -0.288</td> <td>   -0.126</td>\n",
       "</tr>\n",
       "<tr>\n",
       "  <th>Travel Cost, units:$ (SharedRide-3+)</th>             <td>   -0.4500</td> <td>    0.100</td> <td>   -4.505</td> <td> 0.000</td> <td>   -0.646</td> <td>   -0.254</td>\n",
       "</tr>\n",
       "<tr>\n",
       "  <th>Travel Cost, units:$ (All Transit Modes)</th>         <td>   -0.1086</td> <td>    0.018</td> <td>   -6.073</td> <td> 0.000</td> <td>   -0.144</td> <td>   -0.074</td>\n",
       "</tr>\n",
       "<tr>\n",
       "  <th>Autos per licensed drivers (All Auto Modes)</th>      <td>    1.0899</td> <td>    0.050</td> <td>   22.013</td> <td> 0.000</td> <td>    0.993</td> <td>    1.187</td>\n",
       "</tr>\n",
       "<tr>\n",
       "  <th>Cross-Bay Tour (Shared Ride 2 & 3+)</th>              <td>    0.6499</td> <td>    0.116</td> <td>    5.620</td> <td> 0.000</td> <td>    0.423</td> <td>    0.876</td>\n",
       "</tr>\n",
       "<tr>\n",
       "  <th>Household Size (Shared Ride 2 & 3+)</th>              <td>    0.0980</td> <td>    0.021</td> <td>    4.726</td> <td> 0.000</td> <td>    0.057</td> <td>    0.139</td>\n",
       "</tr>\n",
       "<tr>\n",
       "  <th>Number of Kids in Household (Shared Ride 2 & 3+)</th> <td>    0.5143</td> <td>    0.025</td> <td>   20.723</td> <td> 0.000</td> <td>    0.466</td> <td>    0.563</td>\n",
       "</tr>\n",
       "</table>"
      ],
      "text/plain": [
       "<class 'statsmodels.iolib.summary.Summary'>\n",
       "\"\"\"\n",
       "                     Multinomial Logit Model Regression Results                    \n",
       "===================================================================================\n",
       "Dep. Variable:                  sim_choice   No. Observations:                8,000\n",
       "Model:             Multinomial Logit Model   Df Residuals:                    7,981\n",
       "Method:                                MLE   Df Model:                           19\n",
       "Date:                     Sat, 19 Dec 2020   Pseudo R-squ.:                   0.322\n",
       "Time:                             11:38:05   Pseudo R-bar-squ.:               0.321\n",
       "AIC:                            20,615.138   Log-Likelihood:            -10,288.569\n",
       "BIC:                            20,747.895   LL-Null:                   -15,176.699\n",
       "====================================================================================================================\n",
       "                                                       coef    std err          z      P>|z|      [0.025      0.975]\n",
       "--------------------------------------------------------------------------------------------------------------------\n",
       "ASC Shared Ride: 2                                  -1.1772      0.116    -10.187      0.000      -1.404      -0.951\n",
       "ASC Shared Ride: 3+                                 -0.7079      0.126     -5.628      0.000      -0.954      -0.461\n",
       "ASC Walk-Transit-Walk                                0.9579      0.122      7.877      0.000       0.720       1.196\n",
       "ASC Drive-Transit-Walk                              -1.2297      0.138     -8.930      0.000      -1.500      -0.960\n",
       "ASC Walk-Transit-Drive                              -1.4191      0.143     -9.955      0.000      -1.699      -1.140\n",
       "ASC Walk                                            -1.0122      0.074    -13.670      0.000      -1.157      -0.867\n",
       "ASC Bike                                            -1.2166      0.075    -16.141      0.000      -1.364      -1.069\n",
       "Travel Time, units:min (Drive Alone)                -0.0386      0.003    -11.916      0.000      -0.045      -0.032\n",
       "Travel Time, units:min (SharedRide-2)               -0.0623      0.004    -14.178      0.000      -0.071      -0.054\n",
       "Travel Time, units:min (SharedRide-3+)              -0.1087      0.006    -16.983      0.000      -0.121      -0.096\n",
       "Travel Time, units:min (All Transit Modes)          -0.0271      0.001    -19.033      0.000      -0.030      -0.024\n",
       "Travel Cost, units:$ (Drive Alone)                  -0.0210      0.018     -1.138      0.255      -0.057       0.015\n",
       "Travel Cost, units:$ (SharedRide-2)                 -0.2069      0.041     -4.996      0.000      -0.288      -0.126\n",
       "Travel Cost, units:$ (SharedRide-3+)                -0.4500      0.100     -4.505      0.000      -0.646      -0.254\n",
       "Travel Cost, units:$ (All Transit Modes)            -0.1086      0.018     -6.073      0.000      -0.144      -0.074\n",
       "Autos per licensed drivers (All Auto Modes)          1.0899      0.050     22.013      0.000       0.993       1.187\n",
       "Cross-Bay Tour (Shared Ride 2 & 3+)                  0.6499      0.116      5.620      0.000       0.423       0.876\n",
       "Household Size (Shared Ride 2 & 3+)                  0.0980      0.021      4.726      0.000       0.057       0.139\n",
       "Number of Kids in Household (Shared Ride 2 & 3+)     0.5143      0.025     20.723      0.000       0.466       0.563\n",
       "====================================================================================================================\n",
       "\"\"\""
      ]
     },
     "execution_count": 19,
     "metadata": {},
     "output_type": "execute_result"
    }
   ],
   "source": [
    "# Estimate the basic MNL model, using the hessian and newton-conjugate gradient\n",
    "mnl_model_noncausal = cm.create_choice_model(\n",
    "    data=data,\n",
    "    alt_id_col=\"mode_id\",\n",
    "    obs_id_col=\"observation_id\",\n",
    "    choice_col=\"sim_choice\",\n",
    "    specification=mnl_specification_noncausal,\n",
    "    model_type=\"MNL\",\n",
    "    names=mnl_names_noncausal,\n",
    ")\n",
    "\n",
    "num_vars_noncausal = len(\n",
    "    reduce(lambda x, y: x + y, mnl_names_noncausal.values())\n",
    ")\n",
    "mnl_model_noncausal.fit_mle(np.zeros(num_vars_noncausal), method=\"BFGS\")\n",
    "\n",
    "# Look at the estimation results\n",
    "mnl_model_noncausal.get_statsmodels_summary()"
   ]
  },
  {
   "cell_type": "markdown",
   "metadata": {},
   "source": [
    "## Model 2"
   ]
  },
  {
   "cell_type": "code",
   "execution_count": 20,
   "metadata": {},
   "outputs": [],
   "source": [
    "mnl_specification_causal_1 = mnl_specification_noncausal.copy()\n",
    "mnl_names_causal_1 = mnl_names_noncausal.copy()\n",
    "\n",
    "mnl_specification_causal_1[\"recovered_confounder_model_2\"] = [1, 2, 3]\n",
    "mnl_names_causal_1[\"recovered_confounder_model_2\"] = [\n",
    "    \"Confounder - Drive alone\",\n",
    "    \"Confounder - Shared ride 2\",\n",
    "    \"Confounder - Shared ride 3\",\n",
    "]"
   ]
  },
  {
   "cell_type": "code",
   "execution_count": 21,
   "metadata": {},
   "outputs": [
    {
     "name": "stderr",
     "output_type": "stream",
     "text": [
      "/Users/timsb/miniconda3/envs/causal2020/lib/python3.7/site-packages/pylogit/choice_tools.py:703: FutureWarning: arrays to stack must be passed as a \"sequence\" type such as list or tuple. Support for non-sequence iterables such as generators is deprecated as of NumPy 1.16 and will raise an error in the future.\n",
      "  design_matrix = np.hstack((x[:, None] for x in independent_vars))\n"
     ]
    },
    {
     "name": "stdout",
     "output_type": "stream",
     "text": [
      "Log-likelihood at zero: -15,176.6986\n",
      "Initial Log-likelihood: -15,176.6986\n"
     ]
    },
    {
     "name": "stderr",
     "output_type": "stream",
     "text": [
      "/Users/timsb/miniconda3/envs/causal2020/lib/python3.7/site-packages/scipy/optimize/_minimize.py:523: RuntimeWarning: Method BFGS does not use Hessian information (hess).\n",
      "  RuntimeWarning)\n"
     ]
    },
    {
     "name": "stdout",
     "output_type": "stream",
     "text": [
      "Estimation Time for Point Estimation: 0.26 seconds.\n",
      "Final log-likelihood: -10,286.0843\n"
     ]
    },
    {
     "data": {
      "text/html": [
       "<table class=\"simpletable\">\n",
       "<caption>Multinomial Logit Model Regression Results</caption>\n",
       "<tr>\n",
       "  <th>Dep. Variable:</th>       <td>sim_choice</td>        <th>  No. Observations:  </th>    <td>8,000</td>   \n",
       "</tr>\n",
       "<tr>\n",
       "  <th>Model:</th>         <td>Multinomial Logit Model</td> <th>  Df Residuals:      </th>    <td>7,978</td>   \n",
       "</tr>\n",
       "<tr>\n",
       "  <th>Method:</th>                  <td>MLE</td>           <th>  Df Model:          </th>     <td>22</td>     \n",
       "</tr>\n",
       "<tr>\n",
       "  <th>Date:</th>             <td>Sat, 19 Dec 2020</td>     <th>  Pseudo R-squ.:     </th>    <td>0.322</td>   \n",
       "</tr>\n",
       "<tr>\n",
       "  <th>Time:</th>                 <td>11:38:33</td>         <th>  Pseudo R-bar-squ.: </th>    <td>0.321</td>   \n",
       "</tr>\n",
       "<tr>\n",
       "  <th>AIC:</th>                 <td>20,616.169</td>        <th>  Log-Likelihood:    </th> <td>-10,286.084</td>\n",
       "</tr>\n",
       "<tr>\n",
       "  <th>BIC:</th>                 <td>20,769.887</td>        <th>  LL-Null:           </th> <td>-15,176.699</td>\n",
       "</tr>\n",
       "</table>\n",
       "<table class=\"simpletable\">\n",
       "<tr>\n",
       "                          <td></td>                            <th>coef</th>     <th>std err</th>      <th>z</th>      <th>P>|z|</th>  <th>[0.025</th>    <th>0.975]</th>  \n",
       "</tr>\n",
       "<tr>\n",
       "  <th>ASC Shared Ride: 2</th>                               <td>   -1.1497</td> <td>    0.132</td> <td>   -8.712</td> <td> 0.000</td> <td>   -1.408</td> <td>   -0.891</td>\n",
       "</tr>\n",
       "<tr>\n",
       "  <th>ASC Shared Ride: 3+</th>                              <td>   -0.6644</td> <td>    0.139</td> <td>   -4.777</td> <td> 0.000</td> <td>   -0.937</td> <td>   -0.392</td>\n",
       "</tr>\n",
       "<tr>\n",
       "  <th>ASC Walk-Transit-Walk</th>                            <td>    0.9166</td> <td>    0.131</td> <td>    7.019</td> <td> 0.000</td> <td>    0.661</td> <td>    1.173</td>\n",
       "</tr>\n",
       "<tr>\n",
       "  <th>ASC Drive-Transit-Walk</th>                           <td>   -1.2707</td> <td>    0.146</td> <td>   -8.720</td> <td> 0.000</td> <td>   -1.556</td> <td>   -0.985</td>\n",
       "</tr>\n",
       "<tr>\n",
       "  <th>ASC Walk-Transit-Drive</th>                           <td>   -1.4602</td> <td>    0.150</td> <td>   -9.717</td> <td> 0.000</td> <td>   -1.755</td> <td>   -1.166</td>\n",
       "</tr>\n",
       "<tr>\n",
       "  <th>ASC Walk</th>                                         <td>   -1.0536</td> <td>    0.088</td> <td>  -11.953</td> <td> 0.000</td> <td>   -1.226</td> <td>   -0.881</td>\n",
       "</tr>\n",
       "<tr>\n",
       "  <th>ASC Bike</th>                                         <td>   -1.2580</td> <td>    0.089</td> <td>  -14.092</td> <td> 0.000</td> <td>   -1.433</td> <td>   -1.083</td>\n",
       "</tr>\n",
       "<tr>\n",
       "  <th>Travel Time, units:min (Drive Alone)</th>             <td>   -0.0394</td> <td>    0.003</td> <td>  -11.686</td> <td> 0.000</td> <td>   -0.046</td> <td>   -0.033</td>\n",
       "</tr>\n",
       "<tr>\n",
       "  <th>Travel Time, units:min (SharedRide-2)</th>            <td>   -0.0637</td> <td>    0.005</td> <td>  -14.015</td> <td> 0.000</td> <td>   -0.073</td> <td>   -0.055</td>\n",
       "</tr>\n",
       "<tr>\n",
       "  <th>Travel Time, units:min (SharedRide-3+)</th>           <td>   -0.1103</td> <td>    0.006</td> <td>  -17.001</td> <td> 0.000</td> <td>   -0.123</td> <td>   -0.098</td>\n",
       "</tr>\n",
       "<tr>\n",
       "  <th>Travel Time, units:min (All Transit Modes)</th>       <td>   -0.0271</td> <td>    0.001</td> <td>  -19.031</td> <td> 0.000</td> <td>   -0.030</td> <td>   -0.024</td>\n",
       "</tr>\n",
       "<tr>\n",
       "  <th>Travel Cost, units:$ (Drive Alone)</th>               <td>   -0.0245</td> <td>    0.019</td> <td>   -1.285</td> <td> 0.199</td> <td>   -0.062</td> <td>    0.013</td>\n",
       "</tr>\n",
       "<tr>\n",
       "  <th>Travel Cost, units:$ (SharedRide-2)</th>              <td>   -0.2176</td> <td>    0.042</td> <td>   -5.127</td> <td> 0.000</td> <td>   -0.301</td> <td>   -0.134</td>\n",
       "</tr>\n",
       "<tr>\n",
       "  <th>Travel Cost, units:$ (SharedRide-3+)</th>             <td>   -0.4750</td> <td>    0.101</td> <td>   -4.705</td> <td> 0.000</td> <td>   -0.673</td> <td>   -0.277</td>\n",
       "</tr>\n",
       "<tr>\n",
       "  <th>Travel Cost, units:$ (All Transit Modes)</th>         <td>   -0.1087</td> <td>    0.018</td> <td>   -6.080</td> <td> 0.000</td> <td>   -0.144</td> <td>   -0.074</td>\n",
       "</tr>\n",
       "<tr>\n",
       "  <th>Autos per licensed drivers (All Auto Modes)</th>      <td>    1.0821</td> <td>    0.050</td> <td>   21.719</td> <td> 0.000</td> <td>    0.984</td> <td>    1.180</td>\n",
       "</tr>\n",
       "<tr>\n",
       "  <th>Cross-Bay Tour (Shared Ride 2 & 3+)</th>              <td>    0.6115</td> <td>    0.117</td> <td>    5.211</td> <td> 0.000</td> <td>    0.382</td> <td>    0.842</td>\n",
       "</tr>\n",
       "<tr>\n",
       "  <th>Household Size (Shared Ride 2 & 3+)</th>              <td>    0.0993</td> <td>    0.021</td> <td>    4.786</td> <td> 0.000</td> <td>    0.059</td> <td>    0.140</td>\n",
       "</tr>\n",
       "<tr>\n",
       "  <th>Number of Kids in Household (Shared Ride 2 & 3+)</th> <td>    0.5092</td> <td>    0.025</td> <td>   20.413</td> <td> 0.000</td> <td>    0.460</td> <td>    0.558</td>\n",
       "</tr>\n",
       "<tr>\n",
       "  <th>Confounder - Drive alone</th>                         <td>    0.0356</td> <td>    0.046</td> <td>    0.770</td> <td> 0.442</td> <td>   -0.055</td> <td>    0.126</td>\n",
       "</tr>\n",
       "<tr>\n",
       "  <th>Confounder - Shared ride 2</th>                       <td>    0.0622</td> <td>    0.051</td> <td>    1.220</td> <td> 0.223</td> <td>   -0.038</td> <td>    0.162</td>\n",
       "</tr>\n",
       "<tr>\n",
       "  <th>Confounder - Shared ride 3</th>                       <td>    0.0852</td> <td>    0.050</td> <td>    1.718</td> <td> 0.086</td> <td>   -0.012</td> <td>    0.182</td>\n",
       "</tr>\n",
       "</table>"
      ],
      "text/plain": [
       "<class 'statsmodels.iolib.summary.Summary'>\n",
       "\"\"\"\n",
       "                     Multinomial Logit Model Regression Results                    \n",
       "===================================================================================\n",
       "Dep. Variable:                  sim_choice   No. Observations:                8,000\n",
       "Model:             Multinomial Logit Model   Df Residuals:                    7,978\n",
       "Method:                                MLE   Df Model:                           22\n",
       "Date:                     Sat, 19 Dec 2020   Pseudo R-squ.:                   0.322\n",
       "Time:                             11:38:33   Pseudo R-bar-squ.:               0.321\n",
       "AIC:                            20,616.169   Log-Likelihood:            -10,286.084\n",
       "BIC:                            20,769.887   LL-Null:                   -15,176.699\n",
       "====================================================================================================================\n",
       "                                                       coef    std err          z      P>|z|      [0.025      0.975]\n",
       "--------------------------------------------------------------------------------------------------------------------\n",
       "ASC Shared Ride: 2                                  -1.1497      0.132     -8.712      0.000      -1.408      -0.891\n",
       "ASC Shared Ride: 3+                                 -0.6644      0.139     -4.777      0.000      -0.937      -0.392\n",
       "ASC Walk-Transit-Walk                                0.9166      0.131      7.019      0.000       0.661       1.173\n",
       "ASC Drive-Transit-Walk                              -1.2707      0.146     -8.720      0.000      -1.556      -0.985\n",
       "ASC Walk-Transit-Drive                              -1.4602      0.150     -9.717      0.000      -1.755      -1.166\n",
       "ASC Walk                                            -1.0536      0.088    -11.953      0.000      -1.226      -0.881\n",
       "ASC Bike                                            -1.2580      0.089    -14.092      0.000      -1.433      -1.083\n",
       "Travel Time, units:min (Drive Alone)                -0.0394      0.003    -11.686      0.000      -0.046      -0.033\n",
       "Travel Time, units:min (SharedRide-2)               -0.0637      0.005    -14.015      0.000      -0.073      -0.055\n",
       "Travel Time, units:min (SharedRide-3+)              -0.1103      0.006    -17.001      0.000      -0.123      -0.098\n",
       "Travel Time, units:min (All Transit Modes)          -0.0271      0.001    -19.031      0.000      -0.030      -0.024\n",
       "Travel Cost, units:$ (Drive Alone)                  -0.0245      0.019     -1.285      0.199      -0.062       0.013\n",
       "Travel Cost, units:$ (SharedRide-2)                 -0.2176      0.042     -5.127      0.000      -0.301      -0.134\n",
       "Travel Cost, units:$ (SharedRide-3+)                -0.4750      0.101     -4.705      0.000      -0.673      -0.277\n",
       "Travel Cost, units:$ (All Transit Modes)            -0.1087      0.018     -6.080      0.000      -0.144      -0.074\n",
       "Autos per licensed drivers (All Auto Modes)          1.0821      0.050     21.719      0.000       0.984       1.180\n",
       "Cross-Bay Tour (Shared Ride 2 & 3+)                  0.6115      0.117      5.211      0.000       0.382       0.842\n",
       "Household Size (Shared Ride 2 & 3+)                  0.0993      0.021      4.786      0.000       0.059       0.140\n",
       "Number of Kids in Household (Shared Ride 2 & 3+)     0.5092      0.025     20.413      0.000       0.460       0.558\n",
       "Confounder - Drive alone                             0.0356      0.046      0.770      0.442      -0.055       0.126\n",
       "Confounder - Shared ride 2                           0.0622      0.051      1.220      0.223      -0.038       0.162\n",
       "Confounder - Shared ride 3                           0.0852      0.050      1.718      0.086      -0.012       0.182\n",
       "====================================================================================================================\n",
       "\"\"\""
      ]
     },
     "execution_count": 21,
     "metadata": {},
     "output_type": "execute_result"
    }
   ],
   "source": [
    "# Estimate the basic MNL model, using the hessian and newton-conjugate gradient\n",
    "mnl_model_causal_1 = cm.create_choice_model(\n",
    "    data=data,\n",
    "    alt_id_col=\"mode_id\",\n",
    "    obs_id_col=\"observation_id\",\n",
    "    choice_col=\"sim_choice\",\n",
    "    specification=mnl_specification_causal_1,\n",
    "    model_type=\"MNL\",\n",
    "    names=mnl_names_causal_1,\n",
    ")\n",
    "\n",
    "num_vars = len(reduce(lambda x, y: x + y, mnl_names_causal_1.values()))\n",
    "mnl_model_causal_1.fit_mle(np.zeros(num_vars), method=\"BFGS\")\n",
    "\n",
    "# Look at the estimation results\n",
    "mnl_model_causal_1.get_statsmodels_summary()"
   ]
  },
  {
   "cell_type": "markdown",
   "metadata": {},
   "source": [
    "## Model 3"
   ]
  },
  {
   "cell_type": "code",
   "execution_count": 22,
   "metadata": {},
   "outputs": [],
   "source": [
    "mnl_specification_causal_2 = mnl_specification_noncausal.copy()\n",
    "mnl_names_causal_2 = mnl_names_noncausal.copy()\n",
    "\n",
    "mnl_specification_causal_2[\"recovered_confounder_model_3\"] = [1, 2, 3]\n",
    "mnl_names_causal_2[\"recovered_confounder_model_3\"] = [\n",
    "    \"Confounder - Drive alone\",\n",
    "    \"Confounder - Shared ride 2\",\n",
    "    \"Confounder - Shared ride 3\",\n",
    "]"
   ]
  },
  {
   "cell_type": "code",
   "execution_count": 23,
   "metadata": {},
   "outputs": [
    {
     "name": "stderr",
     "output_type": "stream",
     "text": [
      "/Users/timsb/miniconda3/envs/causal2020/lib/python3.7/site-packages/pylogit/choice_tools.py:703: FutureWarning: arrays to stack must be passed as a \"sequence\" type such as list or tuple. Support for non-sequence iterables such as generators is deprecated as of NumPy 1.16 and will raise an error in the future.\n",
      "  design_matrix = np.hstack((x[:, None] for x in independent_vars))\n"
     ]
    },
    {
     "name": "stdout",
     "output_type": "stream",
     "text": [
      "Log-likelihood at zero: -15,176.6986\n",
      "Initial Log-likelihood: -15,176.6986\n"
     ]
    },
    {
     "name": "stderr",
     "output_type": "stream",
     "text": [
      "/Users/timsb/miniconda3/envs/causal2020/lib/python3.7/site-packages/scipy/optimize/_minimize.py:523: RuntimeWarning: Method BFGS does not use Hessian information (hess).\n",
      "  RuntimeWarning)\n"
     ]
    },
    {
     "name": "stdout",
     "output_type": "stream",
     "text": [
      "Estimation Time for Point Estimation: 0.38 seconds.\n",
      "Final log-likelihood: -10,286.3479\n"
     ]
    },
    {
     "data": {
      "text/html": [
       "<table class=\"simpletable\">\n",
       "<caption>Multinomial Logit Model Regression Results</caption>\n",
       "<tr>\n",
       "  <th>Dep. Variable:</th>       <td>sim_choice</td>        <th>  No. Observations:  </th>    <td>8,000</td>   \n",
       "</tr>\n",
       "<tr>\n",
       "  <th>Model:</th>         <td>Multinomial Logit Model</td> <th>  Df Residuals:      </th>    <td>7,978</td>   \n",
       "</tr>\n",
       "<tr>\n",
       "  <th>Method:</th>                  <td>MLE</td>           <th>  Df Model:          </th>     <td>22</td>     \n",
       "</tr>\n",
       "<tr>\n",
       "  <th>Date:</th>             <td>Sat, 19 Dec 2020</td>     <th>  Pseudo R-squ.:     </th>    <td>0.322</td>   \n",
       "</tr>\n",
       "<tr>\n",
       "  <th>Time:</th>                 <td>11:39:01</td>         <th>  Pseudo R-bar-squ.: </th>    <td>0.321</td>   \n",
       "</tr>\n",
       "<tr>\n",
       "  <th>AIC:</th>                 <td>20,616.696</td>        <th>  Log-Likelihood:    </th> <td>-10,286.348</td>\n",
       "</tr>\n",
       "<tr>\n",
       "  <th>BIC:</th>                 <td>20,770.414</td>        <th>  LL-Null:           </th> <td>-15,176.699</td>\n",
       "</tr>\n",
       "</table>\n",
       "<table class=\"simpletable\">\n",
       "<tr>\n",
       "                          <td></td>                            <th>coef</th>     <th>std err</th>      <th>z</th>      <th>P>|z|</th>  <th>[0.025</th>    <th>0.975]</th>  \n",
       "</tr>\n",
       "<tr>\n",
       "  <th>ASC Shared Ride: 2</th>                               <td>   -0.7366</td> <td>    0.318</td> <td>   -2.314</td> <td> 0.021</td> <td>   -1.360</td> <td>   -0.113</td>\n",
       "</tr>\n",
       "<tr>\n",
       "  <th>ASC Shared Ride: 3+</th>                              <td>   -0.5646</td> <td>    0.385</td> <td>   -1.467</td> <td> 0.142</td> <td>   -1.319</td> <td>    0.190</td>\n",
       "</tr>\n",
       "<tr>\n",
       "  <th>ASC Walk-Transit-Walk</th>                            <td>    0.9151</td> <td>    0.214</td> <td>    4.282</td> <td> 0.000</td> <td>    0.496</td> <td>    1.334</td>\n",
       "</tr>\n",
       "<tr>\n",
       "  <th>ASC Drive-Transit-Walk</th>                           <td>   -1.2725</td> <td>    0.223</td> <td>   -5.705</td> <td> 0.000</td> <td>   -1.710</td> <td>   -0.835</td>\n",
       "</tr>\n",
       "<tr>\n",
       "  <th>ASC Walk-Transit-Drive</th>                           <td>   -1.4619</td> <td>    0.226</td> <td>   -6.458</td> <td> 0.000</td> <td>   -1.906</td> <td>   -1.018</td>\n",
       "</tr>\n",
       "<tr>\n",
       "  <th>ASC Walk</th>                                         <td>   -1.0554</td> <td>    0.191</td> <td>   -5.537</td> <td> 0.000</td> <td>   -1.429</td> <td>   -0.682</td>\n",
       "</tr>\n",
       "<tr>\n",
       "  <th>ASC Bike</th>                                         <td>   -1.2598</td> <td>    0.191</td> <td>   -6.588</td> <td> 0.000</td> <td>   -1.635</td> <td>   -0.885</td>\n",
       "</tr>\n",
       "<tr>\n",
       "  <th>Travel Time, units:min (Drive Alone)</th>             <td>   -0.0395</td> <td>    0.005</td> <td>   -8.105</td> <td> 0.000</td> <td>   -0.049</td> <td>   -0.030</td>\n",
       "</tr>\n",
       "<tr>\n",
       "  <th>Travel Time, units:min (SharedRide-2)</th>            <td>   -0.0724</td> <td>    0.007</td> <td>  -10.811</td> <td> 0.000</td> <td>   -0.086</td> <td>   -0.059</td>\n",
       "</tr>\n",
       "<tr>\n",
       "  <th>Travel Time, units:min (SharedRide-3+)</th>           <td>   -0.1127</td> <td>    0.009</td> <td>  -12.123</td> <td> 0.000</td> <td>   -0.131</td> <td>   -0.094</td>\n",
       "</tr>\n",
       "<tr>\n",
       "  <th>Travel Time, units:min (All Transit Modes)</th>       <td>   -0.0271</td> <td>    0.001</td> <td>  -19.037</td> <td> 0.000</td> <td>   -0.030</td> <td>   -0.024</td>\n",
       "</tr>\n",
       "<tr>\n",
       "  <th>Travel Cost, units:$ (Drive Alone)</th>               <td>   -0.0261</td> <td>    0.028</td> <td>   -0.943</td> <td> 0.345</td> <td>   -0.080</td> <td>    0.028</td>\n",
       "</tr>\n",
       "<tr>\n",
       "  <th>Travel Cost, units:$ (SharedRide-2)</th>              <td>   -0.3097</td> <td>    0.066</td> <td>   -4.699</td> <td> 0.000</td> <td>   -0.439</td> <td>   -0.181</td>\n",
       "</tr>\n",
       "<tr>\n",
       "  <th>Travel Cost, units:$ (SharedRide-3+)</th>             <td>   -0.5120</td> <td>    0.144</td> <td>   -3.546</td> <td> 0.000</td> <td>   -0.795</td> <td>   -0.229</td>\n",
       "</tr>\n",
       "<tr>\n",
       "  <th>Travel Cost, units:$ (All Transit Modes)</th>         <td>   -0.1085</td> <td>    0.018</td> <td>   -6.065</td> <td> 0.000</td> <td>   -0.144</td> <td>   -0.073</td>\n",
       "</tr>\n",
       "<tr>\n",
       "  <th>Autos per licensed drivers (All Auto Modes)</th>      <td>    1.0904</td> <td>    0.050</td> <td>   22.019</td> <td> 0.000</td> <td>    0.993</td> <td>    1.187</td>\n",
       "</tr>\n",
       "<tr>\n",
       "  <th>Cross-Bay Tour (Shared Ride 2 & 3+)</th>              <td>    0.6501</td> <td>    0.116</td> <td>    5.621</td> <td> 0.000</td> <td>    0.423</td> <td>    0.877</td>\n",
       "</tr>\n",
       "<tr>\n",
       "  <th>Household Size (Shared Ride 2 & 3+)</th>              <td>    0.0979</td> <td>    0.021</td> <td>    4.719</td> <td> 0.000</td> <td>    0.057</td> <td>    0.139</td>\n",
       "</tr>\n",
       "<tr>\n",
       "  <th>Number of Kids in Household (Shared Ride 2 & 3+)</th> <td>    0.5150</td> <td>    0.025</td> <td>   20.743</td> <td> 0.000</td> <td>    0.466</td> <td>    0.564</td>\n",
       "</tr>\n",
       "<tr>\n",
       "  <th>Confounder - Drive alone</th>                         <td>    0.0424</td> <td>    0.173</td> <td>    0.245</td> <td> 0.806</td> <td>   -0.296</td> <td>    0.381</td>\n",
       "</tr>\n",
       "<tr>\n",
       "  <th>Confounder - Shared ride 2</th>                       <td>    0.4538</td> <td>    0.226</td> <td>    2.010</td> <td> 0.044</td> <td>    0.011</td> <td>    0.896</td>\n",
       "</tr>\n",
       "<tr>\n",
       "  <th>Confounder - Shared ride 3</th>                       <td>    0.1769</td> <td>    0.300</td> <td>    0.589</td> <td> 0.556</td> <td>   -0.412</td> <td>    0.765</td>\n",
       "</tr>\n",
       "</table>"
      ],
      "text/plain": [
       "<class 'statsmodels.iolib.summary.Summary'>\n",
       "\"\"\"\n",
       "                     Multinomial Logit Model Regression Results                    \n",
       "===================================================================================\n",
       "Dep. Variable:                  sim_choice   No. Observations:                8,000\n",
       "Model:             Multinomial Logit Model   Df Residuals:                    7,978\n",
       "Method:                                MLE   Df Model:                           22\n",
       "Date:                     Sat, 19 Dec 2020   Pseudo R-squ.:                   0.322\n",
       "Time:                             11:39:01   Pseudo R-bar-squ.:               0.321\n",
       "AIC:                            20,616.696   Log-Likelihood:            -10,286.348\n",
       "BIC:                            20,770.414   LL-Null:                   -15,176.699\n",
       "====================================================================================================================\n",
       "                                                       coef    std err          z      P>|z|      [0.025      0.975]\n",
       "--------------------------------------------------------------------------------------------------------------------\n",
       "ASC Shared Ride: 2                                  -0.7366      0.318     -2.314      0.021      -1.360      -0.113\n",
       "ASC Shared Ride: 3+                                 -0.5646      0.385     -1.467      0.142      -1.319       0.190\n",
       "ASC Walk-Transit-Walk                                0.9151      0.214      4.282      0.000       0.496       1.334\n",
       "ASC Drive-Transit-Walk                              -1.2725      0.223     -5.705      0.000      -1.710      -0.835\n",
       "ASC Walk-Transit-Drive                              -1.4619      0.226     -6.458      0.000      -1.906      -1.018\n",
       "ASC Walk                                            -1.0554      0.191     -5.537      0.000      -1.429      -0.682\n",
       "ASC Bike                                            -1.2598      0.191     -6.588      0.000      -1.635      -0.885\n",
       "Travel Time, units:min (Drive Alone)                -0.0395      0.005     -8.105      0.000      -0.049      -0.030\n",
       "Travel Time, units:min (SharedRide-2)               -0.0724      0.007    -10.811      0.000      -0.086      -0.059\n",
       "Travel Time, units:min (SharedRide-3+)              -0.1127      0.009    -12.123      0.000      -0.131      -0.094\n",
       "Travel Time, units:min (All Transit Modes)          -0.0271      0.001    -19.037      0.000      -0.030      -0.024\n",
       "Travel Cost, units:$ (Drive Alone)                  -0.0261      0.028     -0.943      0.345      -0.080       0.028\n",
       "Travel Cost, units:$ (SharedRide-2)                 -0.3097      0.066     -4.699      0.000      -0.439      -0.181\n",
       "Travel Cost, units:$ (SharedRide-3+)                -0.5120      0.144     -3.546      0.000      -0.795      -0.229\n",
       "Travel Cost, units:$ (All Transit Modes)            -0.1085      0.018     -6.065      0.000      -0.144      -0.073\n",
       "Autos per licensed drivers (All Auto Modes)          1.0904      0.050     22.019      0.000       0.993       1.187\n",
       "Cross-Bay Tour (Shared Ride 2 & 3+)                  0.6501      0.116      5.621      0.000       0.423       0.877\n",
       "Household Size (Shared Ride 2 & 3+)                  0.0979      0.021      4.719      0.000       0.057       0.139\n",
       "Number of Kids in Household (Shared Ride 2 & 3+)     0.5150      0.025     20.743      0.000       0.466       0.564\n",
       "Confounder - Drive alone                             0.0424      0.173      0.245      0.806      -0.296       0.381\n",
       "Confounder - Shared ride 2                           0.4538      0.226      2.010      0.044       0.011       0.896\n",
       "Confounder - Shared ride 3                           0.1769      0.300      0.589      0.556      -0.412       0.765\n",
       "====================================================================================================================\n",
       "\"\"\""
      ]
     },
     "execution_count": 23,
     "metadata": {},
     "output_type": "execute_result"
    }
   ],
   "source": [
    "# Estimate the basic MNL model, using the hessian and newton-conjugate gradient\n",
    "mnl_model_causal_2 = cm.create_choice_model(\n",
    "    data=data,\n",
    "    alt_id_col=\"mode_id\",\n",
    "    obs_id_col=\"observation_id\",\n",
    "    choice_col=\"sim_choice\",\n",
    "    specification=mnl_specification_causal_2,\n",
    "    model_type=\"MNL\",\n",
    "    names=mnl_names_causal_2,\n",
    ")\n",
    "\n",
    "num_vars = len(reduce(lambda x, y: x + y, mnl_names_causal_2.values()))\n",
    "mnl_model_causal_2.fit_mle(np.zeros(num_vars), method=\"BFGS\")\n",
    "\n",
    "# Look at the estimation results\n",
    "mnl_model_causal_2.get_statsmodels_summary()"
   ]
  },
  {
   "cell_type": "markdown",
   "metadata": {},
   "source": [
    "## Compare estimates on travel time and cost"
   ]
  },
  {
   "cell_type": "code",
   "execution_count": 24,
   "metadata": {
    "lines_to_next_cell": 2
   },
   "outputs": [],
   "source": [
    "results_as_html_true = util.create_comparison_tables(mnl_model)\n",
    "results_as_html_noncausal = util.create_comparison_tables(mnl_model_noncausal)\n",
    "results_as_html_method_2 = util.create_comparison_tables(mnl_model_causal_1)\n",
    "results_as_html_method_3 = util.create_comparison_tables(mnl_model_causal_2)"
   ]
  },
  {
   "cell_type": "code",
   "execution_count": 25,
   "metadata": {
    "lines_to_next_cell": 0
   },
   "outputs": [],
   "source": [
    "locs = [\n",
    "    \"Travel Time, units:min (Drive Alone)\",\n",
    "    \"Travel Time, units:min (SharedRide-2)\",\n",
    "    \"Travel Time, units:min (SharedRide-3+)\",\n",
    "    \"Travel Cost, units:$ (Drive Alone)\",\n",
    "    \"Travel Cost, units:$ (SharedRide-2)\",\n",
    "    \"Travel Cost, units:$ (SharedRide-3+)\",\n",
    "]\n",
    "cols = [\"coef\", \"std err\"]\n",
    "\n",
    "results_comparison = (\n",
    "    results_as_html_true.loc[locs][cols]\n",
    "    .join(\n",
    "        results_as_html_noncausal.loc[locs][cols],\n",
    "        lsuffix=\"_true\",\n",
    "        rsuffix=\"_non_causal\",\n",
    "    )\n",
    "    .join(\n",
    "        results_as_html_method_2.loc[locs][cols].join(\n",
    "            results_as_html_method_3.loc[locs][cols],\n",
    "            lsuffix=\"_method_2\",\n",
    "            rsuffix=\"_method_3\",\n",
    "        )\n",
    "    )\n",
    ")\n",
    "\n",
    "results_comparison[\"confounded variable\"] = results_comparison.index"
   ]
  },
  {
   "cell_type": "code",
   "execution_count": 26,
   "metadata": {
    "lines_to_next_cell": 0
   },
   "outputs": [
    {
     "data": {
      "image/png": "[encoded data removed]",
      "text/plain": [
       "<Figure size 1152x648 with 1 Axes>"
      ]
     },
     "metadata": {},
     "output_type": "display_data"
    }
   ],
   "source": [
    "fig, ax = plt.subplots(nrows=1, ncols=1, figsize=(16, 9))\n",
    "\n",
    "results_comparison.columns = [\n",
    "    \"True Coefficient\",\n",
    "    \"True Std. Error\",\n",
    "    \"Model 1 Coefficient\",\n",
    "    \"Model 1 Std. Error\",\n",
    "    \"Model 2 Coefficient\",\n",
    "    \"Model 2 Std. Error\",\n",
    "    \"Model 3 Coefficient\",\n",
    "    \"Model 3 Std. Error\",\n",
    "    \"confounded variable\",\n",
    "]\n",
    "results_comparison[\"confounded variable\"] = [\n",
    "    \"Travel Time \\n(Drive Alone)\",\n",
    "    \"Travel Time \\n(SharedRide-2)\",\n",
    "    \"Travel Time \\n(SharedRide-3+)\",\n",
    "    \"Travel Cost \\n(Drive Alone)\",\n",
    "    \"Travel Cost \\n(SharedRide-2)\",\n",
    "    \"Travel Cost \\n(SharedRide-3+)\",\n",
    "]\n",
    "\n",
    "x_column = \"confounded variable\"\n",
    "\n",
    "results_comparison.rename(\n",
    "    columns={\"True Coefficient\": \"True Confounder Coefficient\"}, inplace=True\n",
    ")\n",
    "results_comparison.plot.bar(\n",
    "    x=x_column,\n",
    "    y=[\n",
    "        \"True Confounder Coefficient\",\n",
    "        \"Model 1 Coefficient\",\n",
    "        \"Model 2 Coefficient\",\n",
    "        \"Model 3 Coefficient\",\n",
    "    ],\n",
    "    yerr=results_comparison[\n",
    "        [\n",
    "            \"True Std. Error\",\n",
    "            \"Model 1 Std. Error\",\n",
    "            \"Model 2 Std. Error\",\n",
    "            \"Model 3 Std. Error\",\n",
    "        ]\n",
    "    ].T.values,\n",
    "    ax=ax,\n",
    "    fontsize=13,\n",
    ")\n",
    "\n",
    "plt.xticks(rotation=\"0\")\n",
    "ax.set_xlabel(x_column, fontsize=13)\n",
    "ax.legend(loc=\"best\", fontsize=13)\n",
    "sbn.despine()\n",
    "\n",
    "fig.savefig(\n",
    "    str(pyprojroot.here(\"article/images/coefficient_bias_sec_7.png\")),\n",
    "    dpi=500,\n",
    "    bbox_inches=\"tight\",\n",
    ")"
   ]
  }
 ],
 "metadata": {
  "jupytext": {
   "formats": "ipynb,py:light"
  },
  "kernelspec": {
   "display_name": "Python 3",
   "language": "python",
   "name": "python3"
  },
  "language_info": {
   "codemirror_mode": {
    "name": "ipython",
    "version": 3
   },
   "file_extension": ".py",
   "mimetype": "text/x-python",
   "name": "python",
   "nbconvert_exporter": "python",
   "pygments_lexer": "ipython3",
   "version": "3.7.9"
  }
 },
 "nbformat": 4,
 "nbformat_minor": 2
}
