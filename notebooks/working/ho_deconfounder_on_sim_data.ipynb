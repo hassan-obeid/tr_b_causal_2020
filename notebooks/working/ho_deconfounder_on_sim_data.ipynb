{
 "cells": [
  {
   "cell_type": "markdown",
   "metadata": {},
   "source": [
    "# Purpose\n"
   ]
  },
  {
   "cell_type": "markdown",
   "metadata": {},
   "source": [
    "The purpose of this notebook is to investigate the effectiveness of the deconfounder algorithm (Blei et. al, 2018) in adjusting for unobserved confounding. We use a simulated mode choice data where travel distance linearly confounds both travel time and travel cost. We then mask the travel distance data and treat it as an unobserved variable. \n",
    "\n",
    "We estimate three models:\n",
    "- Model 1: A multinomial logit with the correct original specification, EXCEPT we ommit the travel distance variable in the specification without trying to adjust for it. \n",
    "- Model 2: We use the deconfounder algorithm to try to recover the confounder (travel distance). In this method, we use all the variables in each mode's utility to recover that mode's confounder.\n",
    "- Model 3: We use the deconfounder algorithm to try to recover the confounder (travel distance), but this time, we only use travel time and cost in the factor model, instead of all the variables in the utility specification of each mode. \n",
    "\n",
    "We compare the estimates of the coefficients on travel time and cost to the true estimates used in the simulation. The main findings of this exercise are the following:\n",
    "- Using the true variables believed to be confounded (i.e. method 3 where only travel time and cost are used to recover the confounder) leads to a better recovery of the true confounder. This suggests that it may be better to run the deconfounder algorithm based on a hypothesized causal graph, rather than just running it on all the observed covariates. \n",
    "- Similar to what we found in the investigating_decounfounder notebook, the effectiveness of the deconfounder algorithm is very sensitive to small deviations in the recovered confounder. Although method 3 returns a relatively good fit of the true confounder, the adjusted coefficients on travel time and cost do not exhibit any reduction in the bias resulting from ommitting the true confounder, and the coefficients on the recovered confounder are highly insignificant. This raises questions about the usefulness of the deconfounder algorithm in practice."
   ]
  },
  {
   "cell_type": "markdown",
   "metadata": {},
   "source": [
    "# Import needed libraries"
   ]
  },
  {
   "cell_type": "code",
   "execution_count": 22,
   "metadata": {
    "scrolled": true
   },
   "outputs": [],
   "source": [
    "# Built-in modules\n",
    "import os\n",
    "from collections import OrderedDict\n",
    "from functools import reduce\n",
    "\n",
    "# Third party modules\n",
    "import pandas as pd\n",
    "import numpy as np\n",
    "import matplotlib.pyplot as plt\n",
    "from causalgraphicalmodels import CausalGraphicalModel, StructuralCausalModel\n",
    "import pylogit as cm\n",
    "\n",
    "# Local modules\n",
    "from factor_models import *\n",
    "from util import *\n"
   ]
  },
  {
   "cell_type": "markdown",
   "metadata": {},
   "source": [
    "## Useful function"
   ]
  },
  {
   "cell_type": "markdown",
   "metadata": {},
   "source": [
    "## Analysis"
   ]
  },
  {
   "cell_type": "code",
   "execution_count": 2,
   "metadata": {},
   "outputs": [],
   "source": [
    "PATH = '../../data/raw/'\n",
    "file_name = 'simulated_long_format_bike_data.csv'"
   ]
  },
  {
   "cell_type": "code",
   "execution_count": 3,
   "metadata": {},
   "outputs": [
    {
     "data": {
      "text/plain": [
       "Index(['observation_id', 'mode_id', 'sim_choice', 'num_kids', 'household_size',\n",
       "       'num_cars', 'num_licensed_drivers', 'cross_bay', 'total_travel_time',\n",
       "       'total_travel_cost', 'total_travel_distance',\n",
       "       'cars_per_licensed_drivers', 'cost_per_distance', 'intercept'],\n",
       "      dtype='object')"
      ]
     },
     "execution_count": 3,
     "metadata": {},
     "output_type": "execute_result"
    }
   ],
   "source": [
    "data = pd.read_csv(PATH+file_name)\n",
    "data = data.drop('Unnamed: 0', axis = 1)\n",
    "data.columns"
   ]
  },
  {
   "cell_type": "code",
   "execution_count": 4,
   "metadata": {},
   "outputs": [],
   "source": [
    "X_columns = ['total_travel_time',\n",
    "       'total_travel_cost', 'total_travel_distance', \n",
    "             'cross_bay', 'household_size', 'num_kids', \n",
    "              'cars_per_licensed_drivers', \n",
    "             'gender'\n",
    "             \n",
    "            ]\n",
    "\n",
    "y_column = data['mode_id']"
   ]
  },
  {
   "cell_type": "code",
   "execution_count": 5,
   "metadata": {},
   "outputs": [
    {
     "data": {
      "image/svg+xml": [
       "<?xml version=\"1.0\" encoding=\"UTF-8\" standalone=\"no\"?>\n",
       "<!DOCTYPE svg PUBLIC \"-//W3C//DTD SVG 1.1//EN\"\n",
       " \"http://www.w3.org/Graphics/SVG/1.1/DTD/svg11.dtd\">\n",
       "<!-- Generated by graphviz version 2.40.1 (20161225.0304)\n",
       " -->\n",
       "<!-- Title: %3 Pages: 1 -->\n",
       "<svg width=\"1066pt\" height=\"260pt\"\n",
       " viewBox=\"0.00 0.00 1065.83 260.00\" xmlns=\"http://www.w3.org/2000/svg\" xmlns:xlink=\"http://www.w3.org/1999/xlink\">\n",
       "<g id=\"graph0\" class=\"graph\" transform=\"scale(1 1) rotate(0) translate(4 256)\">\n",
       "<title>%3</title>\n",
       "<polygon fill=\"#ffffff\" stroke=\"transparent\" points=\"-4,4 -4,-256 1061.831,-256 1061.831,4 -4,4\"/>\n",
       "<!-- Travel_Distance -->\n",
       "<g id=\"node1\" class=\"node\">\n",
       "<title>Travel_Distance</title>\n",
       "<ellipse fill=\"none\" stroke=\"#000000\" cx=\"704.09\" cy=\"-162\" rx=\"70.6878\" ry=\"18\"/>\n",
       "<text text-anchor=\"middle\" x=\"704.09\" y=\"-158.3\" font-family=\"Times,serif\" font-size=\"14.00\" fill=\"#000000\">Travel_Distance</text>\n",
       "</g>\n",
       "<!-- Cross_Bay_Bridge -->\n",
       "<g id=\"node2\" class=\"node\">\n",
       "<title>Cross_Bay_Bridge</title>\n",
       "<ellipse fill=\"none\" stroke=\"#000000\" cx=\"418.09\" cy=\"-90\" rx=\"79.8859\" ry=\"18\"/>\n",
       "<text text-anchor=\"middle\" x=\"418.09\" y=\"-86.3\" font-family=\"Times,serif\" font-size=\"14.00\" fill=\"#000000\">Cross_Bay_Bridge</text>\n",
       "</g>\n",
       "<!-- Travel_Distance&#45;&gt;Cross_Bay_Bridge -->\n",
       "<g id=\"edge5\" class=\"edge\">\n",
       "<title>Travel_Distance&#45;&gt;Cross_Bay_Bridge</title>\n",
       "<path fill=\"none\" stroke=\"#000000\" d=\"M653.6173,-149.2936C605.5593,-137.1951 533.0678,-118.9455 481.2106,-105.8905\"/>\n",
       "<polygon fill=\"#000000\" stroke=\"#000000\" points=\"482.0052,-102.4814 471.4533,-103.4341 480.2963,-109.2696 482.0052,-102.4814\"/>\n",
       "</g>\n",
       "<!-- Travel_Cost -->\n",
       "<g id=\"node4\" class=\"node\">\n",
       "<title>Travel_Cost</title>\n",
       "<ellipse fill=\"none\" stroke=\"#000000\" cx=\"572.09\" cy=\"-90\" rx=\"55.7903\" ry=\"18\"/>\n",
       "<text text-anchor=\"middle\" x=\"572.09\" y=\"-86.3\" font-family=\"Times,serif\" font-size=\"14.00\" fill=\"#000000\">Travel_Cost</text>\n",
       "</g>\n",
       "<!-- Travel_Distance&#45;&gt;Travel_Cost -->\n",
       "<g id=\"edge4\" class=\"edge\">\n",
       "<title>Travel_Distance&#45;&gt;Travel_Cost</title>\n",
       "<path fill=\"none\" stroke=\"#000000\" d=\"M674.1371,-145.6621C655.0078,-135.2279 630.0507,-121.6149 609.6059,-110.4632\"/>\n",
       "<polygon fill=\"#000000\" stroke=\"#000000\" points=\"611.0219,-107.2488 600.567,-105.5329 607.6699,-113.3941 611.0219,-107.2488\"/>\n",
       "</g>\n",
       "<!-- Travel_Time -->\n",
       "<g id=\"node7\" class=\"node\">\n",
       "<title>Travel_Time</title>\n",
       "<ellipse fill=\"none\" stroke=\"#000000\" cx=\"704.09\" cy=\"-90\" rx=\"58.4896\" ry=\"18\"/>\n",
       "<text text-anchor=\"middle\" x=\"704.09\" y=\"-86.3\" font-family=\"Times,serif\" font-size=\"14.00\" fill=\"#000000\">Travel_Time</text>\n",
       "</g>\n",
       "<!-- Travel_Distance&#45;&gt;Travel_Time -->\n",
       "<g id=\"edge3\" class=\"edge\">\n",
       "<title>Travel_Distance&#45;&gt;Travel_Time</title>\n",
       "<path fill=\"none\" stroke=\"#000000\" d=\"M704.09,-143.8314C704.09,-136.131 704.09,-126.9743 704.09,-118.4166\"/>\n",
       "<polygon fill=\"#000000\" stroke=\"#000000\" points=\"707.5901,-118.4132 704.09,-108.4133 700.5901,-118.4133 707.5901,-118.4132\"/>\n",
       "</g>\n",
       "<!-- Mode_Choice -->\n",
       "<g id=\"node8\" class=\"node\">\n",
       "<title>Mode_Choice</title>\n",
       "<ellipse fill=\"none\" stroke=\"#000000\" cx=\"638.09\" cy=\"-18\" rx=\"62.2891\" ry=\"18\"/>\n",
       "<text text-anchor=\"middle\" x=\"638.09\" y=\"-14.3\" font-family=\"Times,serif\" font-size=\"14.00\" fill=\"#000000\">Mode_Choice</text>\n",
       "</g>\n",
       "<!-- Travel_Distance&#45;&gt;Mode_Choice -->\n",
       "<g id=\"edge2\" class=\"edge\">\n",
       "<title>Travel_Distance&#45;&gt;Mode_Choice</title>\n",
       "<path fill=\"none\" stroke=\"#000000\" d=\"M734.8756,-145.7058C748.6528,-136.6181 763.4822,-123.9027 771.09,-108 777.9948,-93.5666 780.0257,-85.2722 771.09,-72 755.8485,-49.3619 729.3092,-36.2102 703.9269,-28.5715\"/>\n",
       "<polygon fill=\"#000000\" stroke=\"#000000\" points=\"704.8526,-25.1962 694.2815,-25.9056 702.9876,-31.9432 704.8526,-25.1962\"/>\n",
       "</g>\n",
       "<!-- Cross_Bay_Bridge&#45;&gt;Mode_Choice -->\n",
       "<g id=\"edge7\" class=\"edge\">\n",
       "<title>Cross_Bay_Bridge&#45;&gt;Mode_Choice</title>\n",
       "<path fill=\"none\" stroke=\"#000000\" d=\"M463.4074,-75.1689C499.3176,-63.4164 549.492,-46.9957 586.8584,-34.7667\"/>\n",
       "<polygon fill=\"#000000\" stroke=\"#000000\" points=\"588.1343,-38.0319 596.5496,-31.595 585.9569,-31.3791 588.1343,-38.0319\"/>\n",
       "</g>\n",
       "<!-- Autos_per_licensed_drivers -->\n",
       "<g id=\"node3\" class=\"node\">\n",
       "<title>Autos_per_licensed_drivers</title>\n",
       "<ellipse fill=\"none\" stroke=\"#000000\" cx=\"113.09\" cy=\"-90\" rx=\"113.18\" ry=\"18\"/>\n",
       "<text text-anchor=\"middle\" x=\"113.09\" y=\"-86.3\" font-family=\"Times,serif\" font-size=\"14.00\" fill=\"#000000\">Autos_per_licensed_drivers</text>\n",
       "</g>\n",
       "<!-- Autos_per_licensed_drivers&#45;&gt;Mode_Choice -->\n",
       "<g id=\"edge11\" class=\"edge\">\n",
       "<title>Autos_per_licensed_drivers&#45;&gt;Mode_Choice</title>\n",
       "<path fill=\"none\" stroke=\"#000000\" d=\"M195.7568,-77.6516C208.91,-75.7306 222.3695,-73.7906 235.09,-72 353.2381,-55.3693 491.048,-37.1596 571.0542,-26.7056\"/>\n",
       "<polygon fill=\"#000000\" stroke=\"#000000\" points=\"571.5338,-30.1728 580.9965,-25.4075 570.6275,-23.2317 571.5338,-30.1728\"/>\n",
       "</g>\n",
       "<!-- Travel_Cost&#45;&gt;Mode_Choice -->\n",
       "<g id=\"edge6\" class=\"edge\">\n",
       "<title>Travel_Cost&#45;&gt;Mode_Choice</title>\n",
       "<path fill=\"none\" stroke=\"#000000\" d=\"M588.0667,-72.5708C596.1945,-63.7041 606.2195,-52.7678 615.1556,-43.0194\"/>\n",
       "<polygon fill=\"#000000\" stroke=\"#000000\" points=\"617.8544,-45.2549 622.0316,-35.5182 612.6943,-40.5248 617.8544,-45.2549\"/>\n",
       "</g>\n",
       "<!-- Gender -->\n",
       "<g id=\"node5\" class=\"node\">\n",
       "<title>Gender</title>\n",
       "<ellipse fill=\"none\" stroke=\"#000000\" cx=\"282.09\" cy=\"-90\" rx=\"37.8943\" ry=\"18\"/>\n",
       "<text text-anchor=\"middle\" x=\"282.09\" y=\"-86.3\" font-family=\"Times,serif\" font-size=\"14.00\" fill=\"#000000\">Gender</text>\n",
       "</g>\n",
       "<!-- Gender&#45;&gt;Mode_Choice -->\n",
       "<g id=\"edge12\" class=\"edge\">\n",
       "<title>Gender&#45;&gt;Mode_Choice</title>\n",
       "<path fill=\"none\" stroke=\"#000000\" d=\"M310.6295,-78.0654C316.6549,-75.8306 323.0257,-73.6743 329.09,-72 410.5172,-49.5188 506.713,-34.4558 569.8855,-26.075\"/>\n",
       "<polygon fill=\"#000000\" stroke=\"#000000\" points=\"570.6586,-29.5038 580.1207,-24.7373 569.7514,-22.5628 570.6586,-29.5038\"/>\n",
       "</g>\n",
       "<!-- HH_Size -->\n",
       "<g id=\"node6\" class=\"node\">\n",
       "<title>HH_Size</title>\n",
       "<ellipse fill=\"none\" stroke=\"#000000\" cx=\"766.09\" cy=\"-234\" rx=\"44.393\" ry=\"18\"/>\n",
       "<text text-anchor=\"middle\" x=\"766.09\" y=\"-230.3\" font-family=\"Times,serif\" font-size=\"14.00\" fill=\"#000000\">HH_Size</text>\n",
       "</g>\n",
       "<!-- HH_Size&#45;&gt;Travel_Distance -->\n",
       "<g id=\"edge9\" class=\"edge\">\n",
       "<title>HH_Size&#45;&gt;Travel_Distance</title>\n",
       "<path fill=\"none\" stroke=\"#000000\" d=\"M751.3968,-216.937C743.8434,-208.1652 734.4842,-197.2965 726.0893,-187.5476\"/>\n",
       "<polygon fill=\"#000000\" stroke=\"#000000\" points=\"728.5026,-184.9863 719.3251,-179.6924 723.1982,-189.554 728.5026,-184.9863\"/>\n",
       "</g>\n",
       "<!-- HH_Size&#45;&gt;Mode_Choice -->\n",
       "<g id=\"edge8\" class=\"edge\">\n",
       "<title>HH_Size&#45;&gt;Mode_Choice</title>\n",
       "<path fill=\"none\" stroke=\"#000000\" d=\"M775.7796,-216.2991C791.8174,-184.3436 819.1809,-116.237 788.09,-72 777.0598,-56.3059 733.9978,-41.7757 696.8256,-31.75\"/>\n",
       "<polygon fill=\"#000000\" stroke=\"#000000\" points=\"697.5899,-28.3321 687.0285,-29.1726 695.8089,-35.1017 697.5899,-28.3321\"/>\n",
       "</g>\n",
       "<!-- Travel_Time&#45;&gt;Mode_Choice -->\n",
       "<g id=\"edge1\" class=\"edge\">\n",
       "<title>Travel_Time&#45;&gt;Mode_Choice</title>\n",
       "<path fill=\"none\" stroke=\"#000000\" d=\"M688.1132,-72.5708C679.9854,-63.7041 669.9604,-52.7678 661.0244,-43.0194\"/>\n",
       "<polygon fill=\"#000000\" stroke=\"#000000\" points=\"663.4857,-40.5248 654.1484,-35.5182 658.3256,-45.2549 663.4857,-40.5248\"/>\n",
       "</g>\n",
       "<!-- num_of_kids_household -->\n",
       "<g id=\"node9\" class=\"node\">\n",
       "<title>num_of_kids_household</title>\n",
       "<ellipse fill=\"none\" stroke=\"#000000\" cx=\"957.09\" cy=\"-90\" rx=\"100.9827\" ry=\"18\"/>\n",
       "<text text-anchor=\"middle\" x=\"957.09\" y=\"-86.3\" font-family=\"Times,serif\" font-size=\"14.00\" fill=\"#000000\">num_of_kids_household</text>\n",
       "</g>\n",
       "<!-- num_of_kids_household&#45;&gt;Mode_Choice -->\n",
       "<g id=\"edge10\" class=\"edge\">\n",
       "<title>num_of_kids_household&#45;&gt;Mode_Choice</title>\n",
       "<path fill=\"none\" stroke=\"#000000\" d=\"M894.4464,-75.861C837.2755,-62.9572 753.385,-44.0227 697.3124,-31.3668\"/>\n",
       "<polygon fill=\"#000000\" stroke=\"#000000\" points=\"698.0502,-27.9454 687.525,-29.1578 696.509,-34.7736 698.0502,-27.9454\"/>\n",
       "</g>\n",
       "</g>\n",
       "</svg>\n"
      ],
      "text/plain": [
       "<graphviz.dot.Digraph at 0x13e6b6630>"
      ]
     },
     "execution_count": 5,
     "metadata": {},
     "output_type": "execute_result"
    }
   ],
   "source": [
    "## Specify the true causal graph used in the simulation of the choices\n",
    "\n",
    "causal_graph = CausalGraphicalModel(\n",
    "    nodes=[\"Travel_Time\", \"Travel_Distance\", \"Travel_Cost\", \"Cross_Bay_Bridge\", \"HH_Size\", \"num_of_kids_household\",\n",
    "          \"Autos_per_licensed_drivers\", \"Gender\", \"Mode_Choice\"],\n",
    "    edges=[\n",
    "        (\"Travel_Time\", \"Mode_Choice\"), \n",
    "        (\"Travel_Distance\", \"Mode_Choice\"), \n",
    "        (\"Travel_Cost\", \"Mode_Choice\"), \n",
    "        (\"Cross_Bay_Bridge\", \"Mode_Choice\"), \n",
    "        (\"HH_Size\", \"Mode_Choice\"), \n",
    "        (\"num_of_kids_household\", \"Mode_Choice\"), \n",
    "        (\"Autos_per_licensed_drivers\", \"Mode_Choice\"), \n",
    "        (\"Gender\", \"Mode_Choice\"), \n",
    "        \n",
    "        \n",
    "        (\"Travel_Distance\", \"Travel_Time\"), \n",
    "        (\"Travel_Distance\", \"Travel_Cost\"), \n",
    "        (\"Travel_Distance\", \"Cross_Bay_Bridge\"), \n",
    "        (\"HH_Size\", \"Travel_Distance\"), \n",
    "\n",
    "        \n",
    "        \n",
    "#         (\"Travel_Time\", \"Mode_Choice\"), \n",
    "#         (\"Travel_Time\", \"Mode_Choice\"), \n",
    "\n",
    "        \n",
    "        \n",
    "    ]\n",
    ")\n",
    "\n",
    "# draw return a graphviz `dot` object, which jupyter can render\n",
    "causal_graph.draw()"
   ]
  },
  {
   "cell_type": "markdown",
   "metadata": {},
   "source": [
    "# MNL specification"
   ]
  },
  {
   "cell_type": "code",
   "execution_count": 6,
   "metadata": {},
   "outputs": [],
   "source": [
    "## Below is the specification of the true model used in the simulation of the choices\n",
    "\n",
    "mnl_specification = OrderedDict()\n",
    "mnl_names = OrderedDict()\n",
    "\n",
    "mnl_specification[\"intercept\"] = [2, 3, 4, 5, 6, 7, 8]\n",
    "mnl_names[\"intercept\"] = ['ASC Shared Ride: 2',\n",
    "                          'ASC Shared Ride: 3+',\n",
    "                          'ASC Walk-Transit-Walk',\n",
    "                          'ASC Drive-Transit-Walk',\n",
    "                          'ASC Walk-Transit-Drive',\n",
    "                          'ASC Walk',\n",
    "                          'ASC Bike']\n",
    "\n",
    "mnl_specification[\"total_travel_time\"] = [1, 2, 3, [4, 5, 6]]\n",
    "mnl_names[\"total_travel_time\"] = ['Travel Time, units:min (Drive Alone)',\n",
    "                                  'Travel Time, units:min (SharedRide-2)',\n",
    "                                  'Travel Time, units:min (SharedRide-3+)',\n",
    "                                  'Travel Time, units:min (All Transit Modes)']\n",
    "\n",
    "mnl_specification[\"total_travel_cost\"] = [1, 2, 3, [4, 5, 6]]\n",
    "mnl_names[\"total_travel_cost\"] = ['Travel Cost, units:$ (Drive Alone)',\n",
    "                                  'Travel Cost, units:$ (SharedRide-2)',\n",
    "                                  'Travel Cost, units:$ (SharedRide-3+)',\n",
    "                                  'Travel Cost, units:$ (All Transit Modes)']\n",
    "\n",
    "\n",
    "mnl_specification[\"cars_per_licensed_drivers\"] = [[1, 2, 3]]\n",
    "mnl_names[\"cars_per_licensed_drivers\"] = [\"Autos per licensed drivers (All Auto Modes)\"]\n",
    "\n",
    "mnl_specification[\"total_travel_distance\"] = [1, 2, 3, 7, 8]\n",
    "mnl_names[\"total_travel_distance\"] = ['Travel Distance, units:mi (Drive Alone)',\n",
    "                                      'Travel Distance, units:mi (SharedRide-2)',\n",
    "                                      'Travel Distance, units:mi (SharedRide-3+)',\n",
    "                                      'Travel Distance, units:mi (Walk)',\n",
    "                                      'Travel Distance, units:mi (Bike)']\n",
    "\n",
    "mnl_specification[\"cross_bay\"] = [[2, 3]]\n",
    "mnl_names[\"cross_bay\"] = [\"Cross-Bay Tour (Shared Ride 2 & 3+)\"]\n",
    "\n",
    "mnl_specification[\"household_size\"] = [[2, 3]]\n",
    "mnl_names[\"household_size\"] = ['Household Size (Shared Ride 2 & 3+)']\n",
    "\n",
    "mnl_specification[\"num_kids\"] = [[2, 3]]\n",
    "mnl_names[\"num_kids\"] = [\"Number of Kids in Household (Shared Ride 2 & 3+)\"]"
   ]
  },
  {
   "cell_type": "markdown",
   "metadata": {},
   "source": [
    "# Recovering the confounder: The deconfounder algorithm"
   ]
  },
  {
   "cell_type": "markdown",
   "metadata": {},
   "source": [
    "## First approach: using all the variables in the factor model\n",
    "\n",
    "Using this approach, we use all the variables in each mode's utility specification to recover the confounder, in line with Blei et al.'s approach in their paper."
   ]
  },
  {
   "cell_type": "code",
   "execution_count": 7,
   "metadata": {},
   "outputs": [
    {
     "data": {
      "text/plain": [
       "{1: ['total_travel_time',\n",
       "  'total_travel_cost',\n",
       "  'cars_per_licensed_drivers',\n",
       "  'total_travel_distance'],\n",
       " 2: ['intercept',\n",
       "  'total_travel_time',\n",
       "  'total_travel_cost',\n",
       "  'cars_per_licensed_drivers',\n",
       "  'total_travel_distance',\n",
       "  'cross_bay',\n",
       "  'household_size',\n",
       "  'num_kids'],\n",
       " 3: ['intercept',\n",
       "  'total_travel_time',\n",
       "  'total_travel_cost',\n",
       "  'cars_per_licensed_drivers',\n",
       "  'total_travel_distance',\n",
       "  'cross_bay',\n",
       "  'household_size',\n",
       "  'num_kids'],\n",
       " 4: ['intercept', 'total_travel_time', 'total_travel_cost'],\n",
       " 5: ['intercept', 'total_travel_time', 'total_travel_cost'],\n",
       " 6: ['intercept', 'total_travel_time', 'total_travel_cost'],\n",
       " 7: ['intercept', 'total_travel_distance'],\n",
       " 8: ['intercept', 'total_travel_distance']}"
      ]
     },
     "execution_count": 7,
     "metadata": {},
     "output_type": "execute_result"
    }
   ],
   "source": [
    "## Return the variables of each utility specification\n",
    "\n",
    "spec_dic = specifications(mnl_specification=mnl_specification, num_modes=8)\n",
    "spec_dic"
   ]
  },
  {
   "cell_type": "code",
   "execution_count": 8,
   "metadata": {
    "scrolled": true
   },
   "outputs": [
    {
     "name": "stdout",
     "output_type": "stream",
     "text": [
      "Analysis for mode:  1\n",
      "-------------------------------------------------------------------------------------------\n",
      "1 ['total_travel_time', 'total_travel_cost', 'cars_per_licensed_drivers']\n",
      "WARNING:tensorflow:From /Users/hassanobeid/UC_Berkeley/PhD/Causality_Research/Github/tr_b_causal_2020/notebooks/working/factor_models.py:167: The name tf.train.AdamOptimizer is deprecated. Please use tf.compat.v1.train.AdamOptimizer instead.\n",
      "\n"
     ]
    },
    {
     "name": "stderr",
     "output_type": "stream",
     "text": [
      "/Users/hassanobeid/UC_Berkeley/PhD/Causality_Research/Github/tr_b_causal_2020/notebooks/working/factor_models.py:120: UserWarning: tfp.edward2 module is deprecated and will be removed on 2019-12-01. Use https://github.com/google/edward2 library instead.\n",
      "  log_joint = ed.make_log_joint_fn(ppca_model)\n"
     ]
    },
    {
     "name": "stdout",
     "output_type": "stream",
     "text": [
      "WARNING:tensorflow:From /Users/hassanobeid/UC_Berkeley/PhD/Causality_Research/Github/tr_b_causal_2020/notebooks/working/factor_models.py:170: The name tf.global_variables_initializer is deprecated. Please use tf.compat.v1.global_variables_initializer instead.\n",
      "\n",
      "WARNING:tensorflow:From /Users/hassanobeid/UC_Berkeley/PhD/Causality_Research/Github/tr_b_causal_2020/notebooks/working/factor_models.py:176: The name tf.Session is deprecated. Please use tf.compat.v1.Session instead.\n",
      "\n",
      "Inferred axes:\n",
      "[[1.0825571 1.0821998 0.1424367]]\n",
      "Standard Deviation:\n",
      "[[0.00669771 0.00745183 0.00525308]]\n"
     ]
    },
    {
     "data": {
      "image/png": "[encoded data removed]",
      "text/plain": [
       "<Figure size 432x288 with 1 Axes>"
      ]
     },
     "metadata": {
      "needs_background": "light"
     },
     "output_type": "display_data"
    },
    {
     "name": "stdout",
     "output_type": "stream",
     "text": [
      "Analysis for mode:  2\n",
      "-------------------------------------------------------------------------------------------\n",
      "2 ['total_travel_time', 'total_travel_cost', 'cars_per_licensed_drivers', 'cross_bay', 'household_size', 'num_kids']\n",
      "Inferred axes:\n",
      "[[ 1.142899    1.1486026  -0.03969114  0.19569471  0.06302684  0.03502662]]\n",
      "Standard Deviation:\n",
      "[[0.00639156 0.00663613 0.0065132  0.00483961 0.0057023  0.00758742]]\n"
     ]
    },
    {
     "data": {
      "image/png": "[encoded data removed]",
      "text/plain": [
       "<Figure size 432x288 with 1 Axes>"
      ]
     },
     "metadata": {
      "needs_background": "light"
     },
     "output_type": "display_data"
    },
    {
     "name": "stdout",
     "output_type": "stream",
     "text": [
      "Analysis for mode:  3\n",
      "-------------------------------------------------------------------------------------------\n",
      "3 ['total_travel_time', 'total_travel_cost', 'cars_per_licensed_drivers', 'cross_bay', 'household_size', 'num_kids']\n",
      "Inferred axes:\n",
      "[[ 1.2134069   1.2118927   0.17436579  0.02656171 -0.01130379  0.12198718]]\n",
      "Standard Deviation:\n",
      "[[0.00739799 0.00751904 0.00599598 0.00550979 0.00697819 0.00753099]]\n"
     ]
    },
    {
     "data": {
      "image/png": "[encoded data removed]",
      "text/plain": [
       "<Figure size 432x288 with 1 Axes>"
      ]
     },
     "metadata": {
      "needs_background": "light"
     },
     "output_type": "display_data"
    },
    {
     "name": "stdout",
     "output_type": "stream",
     "text": [
      "Analysis for mode:  4\n",
      "-------------------------------------------------------------------------------------------\n",
      "4 ['total_travel_time', 'total_travel_cost']\n",
      "Inferred axes:\n",
      "[[3.0055764 2.925638 ]]\n",
      "Standard Deviation:\n",
      "[[0.00898083 0.01652354]]\n"
     ]
    },
    {
     "data": {
      "image/png": "[encoded data removed]",
      "text/plain": [
       "<Figure size 432x288 with 1 Axes>"
      ]
     },
     "metadata": {
      "needs_background": "light"
     },
     "output_type": "display_data"
    },
    {
     "name": "stdout",
     "output_type": "stream",
     "text": [
      "Analysis for mode:  5\n",
      "-------------------------------------------------------------------------------------------\n",
      "5 ['total_travel_time', 'total_travel_cost']\n",
      "Inferred axes:\n",
      "[[0.8926653  0.88674325]]\n",
      "Standard Deviation:\n",
      "[[0.00507424 0.00495788]]\n"
     ]
    },
    {
     "data": {
      "image/png": "[encoded data removed]",
      "text/plain": [
       "<Figure size 432x288 with 1 Axes>"
      ]
     },
     "metadata": {
      "needs_background": "light"
     },
     "output_type": "display_data"
    },
    {
     "name": "stdout",
     "output_type": "stream",
     "text": [
      "Analysis for mode:  6\n",
      "-------------------------------------------------------------------------------------------\n",
      "6 ['total_travel_time', 'total_travel_cost']\n",
      "Inferred axes:\n",
      "[[0.87987   0.8824793]]\n",
      "Standard Deviation:\n",
      "[[0.00590497 0.00473723]]\n"
     ]
    },
    {
     "data": {
      "image/png": "[encoded data removed]",
      "text/plain": [
       "<Figure size 432x288 with 1 Axes>"
      ]
     },
     "metadata": {
      "needs_background": "light"
     },
     "output_type": "display_data"
    },
    {
     "name": "stdout",
     "output_type": "stream",
     "text": [
      "Analysis for mode:  7\n",
      "-------------------------------------------------------------------------------------------\n",
      "7 []\n",
      "Inferred axes:\n",
      "[]\n",
      "Standard Deviation:\n",
      "[]\n"
     ]
    },
    {
     "data": {
      "image/png": "[encoded data removed]",
      "text/plain": [
       "<Figure size 432x288 with 1 Axes>"
      ]
     },
     "metadata": {
      "needs_background": "light"
     },
     "output_type": "display_data"
    },
    {
     "name": "stdout",
     "output_type": "stream",
     "text": [
      "Analysis for mode:  8\n",
      "-------------------------------------------------------------------------------------------\n",
      "8 []\n",
      "Inferred axes:\n",
      "[]\n",
      "Standard Deviation:\n",
      "[]\n"
     ]
    },
    {
     "data": {
      "image/png": "[encoded data removed]",
      "text/plain": [
       "<Figure size 432x288 with 1 Axes>"
      ]
     },
     "metadata": {
      "needs_background": "light"
     },
     "output_type": "display_data"
    }
   ],
   "source": [
    "confounder_vectors = []\n",
    "holdout_dfs = []\n",
    "masks_df = []\n",
    "rows_df =[]\n",
    "latent_dim = 1\n",
    "for i in data['mode_id'].unique():\n",
    "\n",
    "    data_mode_i = data[data['mode_id']==i]\n",
    "    # standardize the data for PPCA\n",
    "    print(\"Analysis for mode: \", i)\n",
    "    print(\"-------------------------------------------------------------------------------------------\")\n",
    "    X_columns = spec_dic[i]\n",
    "    \n",
    "    if 'intercept' in X_columns:\n",
    "        X_columns.remove('intercept')\n",
    "        \n",
    "    if 'total_travel_distance' in X_columns:\n",
    "        X_columns.remove('total_travel_distance')\n",
    "        \n",
    "    print(i, X_columns)\n",
    "    \n",
    "    X = np.array((data_mode_i[X_columns] - data_mode_i[X_columns].mean())/data_mode_i[X_columns].std())\n",
    "    \n",
    "    confounders, holdouts, holdoutmasks, holdoutrow= confounder_ppca(holdout_portion=0.2, X=X, latent_dim=latent_dim)\n",
    "\n",
    "    confounder_vectors.append(confounders)\n",
    "    holdout_dfs.append(holdouts)\n",
    "    masks_df.append(holdoutmasks)\n",
    "    rows_df.append(holdoutrow)"
   ]
  },
  {
   "cell_type": "markdown",
   "metadata": {},
   "source": [
    "## Second approach: using only the confounded variables in the factor model\n",
    "Using this approach, we only run the deconfounder's factor model on travel_time and travel_cost, which are the only variables confounded with travel_distance in our simulation"
   ]
  },
  {
   "cell_type": "code",
   "execution_count": 9,
   "metadata": {
    "scrolled": true
   },
   "outputs": [
    {
     "name": "stdout",
     "output_type": "stream",
     "text": [
      "Analysis for mode:  1\n",
      "-------------------------------------------------------------------------------------------\n",
      "Inferred axes:\n",
      "[[1.0235201 1.020958 ]]\n",
      "Standard Deviation:\n",
      "[[0.0066784  0.00619693]]\n"
     ]
    },
    {
     "data": {
      "image/png": "[encoded data removed]",
      "text/plain": [
       "<Figure size 432x288 with 1 Axes>"
      ]
     },
     "metadata": {
      "needs_background": "light"
     },
     "output_type": "display_data"
    },
    {
     "name": "stdout",
     "output_type": "stream",
     "text": [
      "Analysis for mode:  2\n",
      "-------------------------------------------------------------------------------------------\n",
      "Inferred axes:\n",
      "[[0.9874937  0.98436344]]\n",
      "Standard Deviation:\n",
      "[[0.00491423 0.00585342]]\n"
     ]
    },
    {
     "data": {
      "image/png": "[encoded data removed]",
      "text/plain": [
       "<Figure size 432x288 with 1 Axes>"
      ]
     },
     "metadata": {
      "needs_background": "light"
     },
     "output_type": "display_data"
    },
    {
     "name": "stdout",
     "output_type": "stream",
     "text": [
      "Analysis for mode:  3\n",
      "-------------------------------------------------------------------------------------------\n",
      "Inferred axes:\n",
      "[[1.0185496 1.0196604]]\n",
      "Standard Deviation:\n",
      "[[0.0058501  0.00497212]]\n"
     ]
    },
    {
     "data": {
      "image/png": "[encoded data removed]",
      "text/plain": [
       "<Figure size 432x288 with 1 Axes>"
      ]
     },
     "metadata": {
      "needs_background": "light"
     },
     "output_type": "display_data"
    },
    {
     "name": "stdout",
     "output_type": "stream",
     "text": [
      "Analysis for mode:  4\n",
      "-------------------------------------------------------------------------------------------\n",
      "Inferred axes:\n",
      "[[2.159879  2.6822534]]\n",
      "Standard Deviation:\n",
      "[[0.01010032 0.01134398]]\n"
     ]
    },
    {
     "data": {
      "image/png": "[encoded data removed]",
      "text/plain": [
       "<Figure size 432x288 with 1 Axes>"
      ]
     },
     "metadata": {
      "needs_background": "light"
     },
     "output_type": "display_data"
    },
    {
     "name": "stdout",
     "output_type": "stream",
     "text": [
      "Analysis for mode:  5\n",
      "-------------------------------------------------------------------------------------------\n",
      "Inferred axes:\n",
      "[[0.9096037 0.8959363]]\n",
      "Standard Deviation:\n",
      "[[0.00546936 0.0053802 ]]\n"
     ]
    },
    {
     "data": {
      "image/png": "[encoded data removed]",
      "text/plain": [
       "<Figure size 432x288 with 1 Axes>"
      ]
     },
     "metadata": {
      "needs_background": "light"
     },
     "output_type": "display_data"
    },
    {
     "name": "stdout",
     "output_type": "stream",
     "text": [
      "Analysis for mode:  6\n",
      "-------------------------------------------------------------------------------------------\n",
      "Inferred axes:\n",
      "[[0.8855024 0.8707805]]\n",
      "Standard Deviation:\n",
      "[[0.00532506 0.00630367]]\n"
     ]
    },
    {
     "data": {
      "image/png": "[encoded data removed]",
      "text/plain": [
       "<Figure size 432x288 with 1 Axes>"
      ]
     },
     "metadata": {
      "needs_background": "light"
     },
     "output_type": "display_data"
    },
    {
     "name": "stdout",
     "output_type": "stream",
     "text": [
      "Analysis for mode:  7\n",
      "-------------------------------------------------------------------------------------------\n",
      "Inferred axes:\n",
      "[[nan nan]]\n",
      "Standard Deviation:\n",
      "[[nan nan]]\n"
     ]
    },
    {
     "data": {
      "image/png": "[encoded data removed]",
      "text/plain": [
       "<Figure size 432x288 with 1 Axes>"
      ]
     },
     "metadata": {
      "needs_background": "light"
     },
     "output_type": "display_data"
    },
    {
     "name": "stdout",
     "output_type": "stream",
     "text": [
      "Analysis for mode:  8\n",
      "-------------------------------------------------------------------------------------------\n",
      "Inferred axes:\n",
      "[[nan nan]]\n",
      "Standard Deviation:\n",
      "[[nan nan]]\n"
     ]
    },
    {
     "data": {
      "image/png": "[encoded data removed]",
      "text/plain": [
       "<Figure size 432x288 with 1 Axes>"
      ]
     },
     "metadata": {
      "needs_background": "light"
     },
     "output_type": "display_data"
    }
   ],
   "source": [
    "confounder_vectors_2 = []\n",
    "holdout_dfs_2 = []\n",
    "masks_df_2 = []\n",
    "rows_df_2 =[]\n",
    "latent_dim = 1\n",
    "\n",
    "confounded_variables = ['total_travel_time', 'total_travel_cost']\n",
    "for i in data['mode_id'].unique():\n",
    "\n",
    "    data_mode_i = data[data['mode_id']==i]\n",
    "    # standardize the data for PPCA\n",
    "    print(\"Analysis for mode: \", i)\n",
    "    print(\"-------------------------------------------------------------------------------------------\")\n",
    "    \n",
    "    X = np.array((data_mode_i[confounded_variables] - data_mode_i[confounded_variables].mean())/\n",
    "                 data_mode_i[confounded_variables].std())\n",
    "    \n",
    "    confounders, holdouts, holdoutmasks, holdoutrow= confounder_ppca(holdout_portion=0.2, X=X, latent_dim=latent_dim)\n",
    "\n",
    "    confounder_vectors_2.append(confounders)\n",
    "    holdout_dfs_2.append(holdouts)\n",
    "    masks_df_2.append(holdoutmasks)\n",
    "    rows_df_2.append(holdoutrow)"
   ]
  },
  {
   "cell_type": "markdown",
   "metadata": {},
   "source": [
    "## Adding confounders to original DF"
   ]
  },
  {
   "cell_type": "code",
   "execution_count": 10,
   "metadata": {},
   "outputs": [],
   "source": [
    "data['recovered_confounder_model_2']=add_confounders_to_df(data, \n",
    "                                                           confounder_vectors=confounder_vectors, \n",
    "                                                           mode_ids = [1,2,3], \n",
    "                                                           suffix = '_method_2')\n",
    "\n",
    "data['recovered_confounder_model_3']=add_confounders_to_df(data, \n",
    "                                                           confounder_vectors=confounder_vectors_2, \n",
    "                                                           mode_ids = [1,2,3], \n",
    "                                                           suffix = '_method_3')"
   ]
  },
  {
   "cell_type": "markdown",
   "metadata": {},
   "source": [
    "# Compare recovered confounder to actual confounder\n",
    "\n",
    "Notice here that although the recovered confounder correlates well with the true confounder, there is more noise in method 1 where we use all the variables in each utility to recover the confounder. Method 2 has less noise, but as we will see later in the notebook, this noise is still high enough that our estimates on travel_time and travel_cost will still be biased even after adjusting for the recovered confounder."
   ]
  },
  {
   "cell_type": "code",
   "execution_count": 11,
   "metadata": {
    "scrolled": false
   },
   "outputs": [
    {
     "name": "stderr",
     "output_type": "stream",
     "text": [
      "'c' argument looks like a single numeric RGB or RGBA sequence, which should be avoided as value-mapping will have precedence in case its length matches with 'x' & 'y'.  Please use a 2-D array with a single row if you really want to specify the same RGB or RGBA value for all points.\n",
      "'c' argument looks like a single numeric RGB or RGBA sequence, which should be avoided as value-mapping will have precedence in case its length matches with 'x' & 'y'.  Please use a 2-D array with a single row if you really want to specify the same RGB or RGBA value for all points.\n"
     ]
    },
    {
     "data": {
      "text/plain": [
       "<matplotlib.axes._subplots.AxesSubplot at 0x142b4f320>"
      ]
     },
     "execution_count": 11,
     "metadata": {},
     "output_type": "execute_result"
    },
    {
     "data": {
      "image/png": "[encoded data removed]",
      "text/plain": [
       "<Figure size 432x288 with 1 Axes>"
      ]
     },
     "metadata": {
      "needs_background": "light"
     },
     "output_type": "display_data"
    },
    {
     "data": {
      "image/png": "[encoded data removed]",
      "text/plain": [
       "<Figure size 432x288 with 1 Axes>"
      ]
     },
     "metadata": {
      "needs_background": "light"
     },
     "output_type": "display_data"
    }
   ],
   "source": [
    "data_da = data[data['mode_id']==1]\n",
    "\n",
    "data_da.plot.scatter('total_travel_distance', 'recovered_confounder_model_2')\n",
    "\n",
    "data_da.plot.scatter('total_travel_distance', 'recovered_confounder_model_3')"
   ]
  },
  {
   "cell_type": "markdown",
   "metadata": {},
   "source": [
    "## True Model"
   ]
  },
  {
   "cell_type": "code",
   "execution_count": 12,
   "metadata": {},
   "outputs": [
    {
     "name": "stdout",
     "output_type": "stream",
     "text": [
      "Log-likelihood at zero: -15,176.6986\n",
      "Initial Log-likelihood: -15,176.6986\n"
     ]
    },
    {
     "name": "stderr",
     "output_type": "stream",
     "text": [
      "/Users/hassanobeid/anaconda3/lib/python3.7/site-packages/pylogit/choice_tools.py:703: FutureWarning: arrays to stack must be passed as a \"sequence\" type such as list or tuple. Support for non-sequence iterables such as generators is deprecated as of NumPy 1.16 and will raise an error in the future.\n",
      "  design_matrix = np.hstack((x[:, None] for x in independent_vars))\n",
      "/Users/hassanobeid/anaconda3/lib/python3.7/site-packages/scipy/optimize/_minimize.py:506: RuntimeWarning: Method BFGS does not use Hessian information (hess).\n",
      "  RuntimeWarning)\n"
     ]
    },
    {
     "name": "stdout",
     "output_type": "stream",
     "text": [
      "Estimation Time for Point Estimation: 0.33 seconds.\n",
      "Final log-likelihood: -8,116.6614\n"
     ]
    },
    {
     "data": {
      "text/html": [
       "<table class=\"simpletable\">\n",
       "<caption>Multinomial Logit Model Regression Results</caption>\n",
       "<tr>\n",
       "  <th>Dep. Variable:</th>       <td>sim_choice</td>        <th>  No. Observations:  </th>    <td>8,000</td>   \n",
       "</tr>\n",
       "<tr>\n",
       "  <th>Model:</th>         <td>Multinomial Logit Model</td> <th>  Df Residuals:      </th>    <td>7,976</td>   \n",
       "</tr>\n",
       "<tr>\n",
       "  <th>Method:</th>                  <td>MLE</td>           <th>  Df Model:          </th>     <td>24</td>     \n",
       "</tr>\n",
       "<tr>\n",
       "  <th>Date:</th>             <td>Sun, 19 Jul 2020</td>     <th>  Pseudo R-squ.:     </th>    <td>0.465</td>   \n",
       "</tr>\n",
       "<tr>\n",
       "  <th>Time:</th>                 <td>12:06:03</td>         <th>  Pseudo R-bar-squ.: </th>    <td>0.464</td>   \n",
       "</tr>\n",
       "<tr>\n",
       "  <th>AIC:</th>                 <td>16,281.323</td>        <th>  Log-Likelihood:    </th> <td>-8,116.661</td> \n",
       "</tr>\n",
       "<tr>\n",
       "  <th>BIC:</th>                 <td>16,449.016</td>        <th>  LL-Null:           </th> <td>-15,176.699</td>\n",
       "</tr>\n",
       "</table>\n",
       "<table class=\"simpletable\">\n",
       "<tr>\n",
       "                          <td></td>                            <th>coef</th>     <th>std err</th>      <th>z</th>      <th>P>|z|</th>  <th>[0.025</th>    <th>0.975]</th>  \n",
       "</tr>\n",
       "<tr>\n",
       "  <th>ASC Shared Ride: 2</th>                               <td>   -1.4806</td> <td>    0.125</td> <td>  -11.831</td> <td> 0.000</td> <td>   -1.726</td> <td>   -1.235</td>\n",
       "</tr>\n",
       "<tr>\n",
       "  <th>ASC Shared Ride: 3+</th>                              <td>   -1.0591</td> <td>    0.135</td> <td>   -7.847</td> <td> 0.000</td> <td>   -1.324</td> <td>   -0.795</td>\n",
       "</tr>\n",
       "<tr>\n",
       "  <th>ASC Walk-Transit-Walk</th>                            <td>    0.9292</td> <td>    0.131</td> <td>    7.078</td> <td> 0.000</td> <td>    0.672</td> <td>    1.186</td>\n",
       "</tr>\n",
       "<tr>\n",
       "  <th>ASC Drive-Transit-Walk</th>                           <td>   -1.4083</td> <td>    0.145</td> <td>   -9.716</td> <td> 0.000</td> <td>   -1.692</td> <td>   -1.124</td>\n",
       "</tr>\n",
       "<tr>\n",
       "  <th>ASC Walk-Transit-Drive</th>                           <td>   -1.6138</td> <td>    0.150</td> <td>  -10.788</td> <td> 0.000</td> <td>   -1.907</td> <td>   -1.321</td>\n",
       "</tr>\n",
       "<tr>\n",
       "  <th>ASC Walk</th>                                         <td>    3.0480</td> <td>    0.135</td> <td>   22.606</td> <td> 0.000</td> <td>    2.784</td> <td>    3.312</td>\n",
       "</tr>\n",
       "<tr>\n",
       "  <th>ASC Bike</th>                                         <td>    0.2714</td> <td>    0.103</td> <td>    2.627</td> <td> 0.009</td> <td>    0.069</td> <td>    0.474</td>\n",
       "</tr>\n",
       "<tr>\n",
       "  <th>Travel Time, units:min (Drive Alone)</th>             <td>   -0.0844</td> <td>    0.005</td> <td>  -16.886</td> <td> 0.000</td> <td>   -0.094</td> <td>   -0.075</td>\n",
       "</tr>\n",
       "<tr>\n",
       "  <th>Travel Time, units:min (SharedRide-2)</th>            <td>   -0.0903</td> <td>    0.006</td> <td>  -14.750</td> <td> 0.000</td> <td>   -0.102</td> <td>   -0.078</td>\n",
       "</tr>\n",
       "<tr>\n",
       "  <th>Travel Time, units:min (SharedRide-3+)</th>           <td>   -0.1261</td> <td>    0.008</td> <td>  -16.050</td> <td> 0.000</td> <td>   -0.141</td> <td>   -0.111</td>\n",
       "</tr>\n",
       "<tr>\n",
       "  <th>Travel Time, units:min (All Transit Modes)</th>       <td>   -0.0297</td> <td>    0.002</td> <td>  -19.750</td> <td> 0.000</td> <td>   -0.033</td> <td>   -0.027</td>\n",
       "</tr>\n",
       "<tr>\n",
       "  <th>Travel Cost, units:$ (Drive Alone)</th>               <td>   -0.2292</td> <td>    0.026</td> <td>   -8.744</td> <td> 0.000</td> <td>   -0.281</td> <td>   -0.178</td>\n",
       "</tr>\n",
       "<tr>\n",
       "  <th>Travel Cost, units:$ (SharedRide-2)</th>              <td>   -0.4378</td> <td>    0.057</td> <td>   -7.636</td> <td> 0.000</td> <td>   -0.550</td> <td>   -0.325</td>\n",
       "</tr>\n",
       "<tr>\n",
       "  <th>Travel Cost, units:$ (SharedRide-3+)</th>             <td>   -0.7461</td> <td>    0.157</td> <td>   -4.749</td> <td> 0.000</td> <td>   -1.054</td> <td>   -0.438</td>\n",
       "</tr>\n",
       "<tr>\n",
       "  <th>Travel Cost, units:$ (All Transit Modes)</th>         <td>   -0.1180</td> <td>    0.019</td> <td>   -6.316</td> <td> 0.000</td> <td>   -0.155</td> <td>   -0.081</td>\n",
       "</tr>\n",
       "<tr>\n",
       "  <th>Autos per licensed drivers (All Auto Modes)</th>      <td>    1.3336</td> <td>    0.055</td> <td>   24.051</td> <td> 0.000</td> <td>    1.225</td> <td>    1.442</td>\n",
       "</tr>\n",
       "<tr>\n",
       "  <th>Travel Distance, units:mi (Drive Alone)</th>          <td>    0.1056</td> <td>    0.009</td> <td>   11.880</td> <td> 0.000</td> <td>    0.088</td> <td>    0.123</td>\n",
       "</tr>\n",
       "<tr>\n",
       "  <th>Travel Distance, units:mi (SharedRide-2)</th>         <td>    0.0637</td> <td>    0.011</td> <td>    5.689</td> <td> 0.000</td> <td>    0.042</td> <td>    0.086</td>\n",
       "</tr>\n",
       "<tr>\n",
       "  <th>Travel Distance, units:mi (SharedRide-3+)</th>        <td>    0.0359</td> <td>    0.017</td> <td>    2.057</td> <td> 0.040</td> <td>    0.002</td> <td>    0.070</td>\n",
       "</tr>\n",
       "<tr>\n",
       "  <th>Travel Distance, units:mi (Walk)</th>                 <td>   -1.0998</td> <td>    0.037</td> <td>  -30.075</td> <td> 0.000</td> <td>   -1.171</td> <td>   -1.028</td>\n",
       "</tr>\n",
       "<tr>\n",
       "  <th>Travel Distance, units:mi (Bike)</th>                 <td>   -0.3209</td> <td>    0.016</td> <td>  -20.290</td> <td> 0.000</td> <td>   -0.352</td> <td>   -0.290</td>\n",
       "</tr>\n",
       "<tr>\n",
       "  <th>Cross-Bay Tour (Shared Ride 2 & 3+)</th>              <td>    0.6706</td> <td>    0.123</td> <td>    5.459</td> <td> 0.000</td> <td>    0.430</td> <td>    0.911</td>\n",
       "</tr>\n",
       "<tr>\n",
       "  <th>Household Size (Shared Ride 2 & 3+)</th>              <td>    0.1142</td> <td>    0.022</td> <td>    5.194</td> <td> 0.000</td> <td>    0.071</td> <td>    0.157</td>\n",
       "</tr>\n",
       "<tr>\n",
       "  <th>Number of Kids in Household (Shared Ride 2 & 3+)</th> <td>    0.5737</td> <td>    0.026</td> <td>   21.827</td> <td> 0.000</td> <td>    0.522</td> <td>    0.625</td>\n",
       "</tr>\n",
       "</table>"
      ],
      "text/plain": [
       "<class 'statsmodels.iolib.summary.Summary'>\n",
       "\"\"\"\n",
       "                     Multinomial Logit Model Regression Results                    \n",
       "===================================================================================\n",
       "Dep. Variable:                  sim_choice   No. Observations:                8,000\n",
       "Model:             Multinomial Logit Model   Df Residuals:                    7,976\n",
       "Method:                                MLE   Df Model:                           24\n",
       "Date:                     Sun, 19 Jul 2020   Pseudo R-squ.:                   0.465\n",
       "Time:                             12:06:03   Pseudo R-bar-squ.:               0.464\n",
       "AIC:                            16,281.323   Log-Likelihood:             -8,116.661\n",
       "BIC:                            16,449.016   LL-Null:                   -15,176.699\n",
       "====================================================================================================================\n",
       "                                                       coef    std err          z      P>|z|      [0.025      0.975]\n",
       "--------------------------------------------------------------------------------------------------------------------\n",
       "ASC Shared Ride: 2                                  -1.4806      0.125    -11.831      0.000      -1.726      -1.235\n",
       "ASC Shared Ride: 3+                                 -1.0591      0.135     -7.847      0.000      -1.324      -0.795\n",
       "ASC Walk-Transit-Walk                                0.9292      0.131      7.078      0.000       0.672       1.186\n",
       "ASC Drive-Transit-Walk                              -1.4083      0.145     -9.716      0.000      -1.692      -1.124\n",
       "ASC Walk-Transit-Drive                              -1.6138      0.150    -10.788      0.000      -1.907      -1.321\n",
       "ASC Walk                                             3.0480      0.135     22.606      0.000       2.784       3.312\n",
       "ASC Bike                                             0.2714      0.103      2.627      0.009       0.069       0.474\n",
       "Travel Time, units:min (Drive Alone)                -0.0844      0.005    -16.886      0.000      -0.094      -0.075\n",
       "Travel Time, units:min (SharedRide-2)               -0.0903      0.006    -14.750      0.000      -0.102      -0.078\n",
       "Travel Time, units:min (SharedRide-3+)              -0.1261      0.008    -16.050      0.000      -0.141      -0.111\n",
       "Travel Time, units:min (All Transit Modes)          -0.0297      0.002    -19.750      0.000      -0.033      -0.027\n",
       "Travel Cost, units:$ (Drive Alone)                  -0.2292      0.026     -8.744      0.000      -0.281      -0.178\n",
       "Travel Cost, units:$ (SharedRide-2)                 -0.4378      0.057     -7.636      0.000      -0.550      -0.325\n",
       "Travel Cost, units:$ (SharedRide-3+)                -0.7461      0.157     -4.749      0.000      -1.054      -0.438\n",
       "Travel Cost, units:$ (All Transit Modes)            -0.1180      0.019     -6.316      0.000      -0.155      -0.081\n",
       "Autos per licensed drivers (All Auto Modes)          1.3336      0.055     24.051      0.000       1.225       1.442\n",
       "Travel Distance, units:mi (Drive Alone)              0.1056      0.009     11.880      0.000       0.088       0.123\n",
       "Travel Distance, units:mi (SharedRide-2)             0.0637      0.011      5.689      0.000       0.042       0.086\n",
       "Travel Distance, units:mi (SharedRide-3+)            0.0359      0.017      2.057      0.040       0.002       0.070\n",
       "Travel Distance, units:mi (Walk)                    -1.0998      0.037    -30.075      0.000      -1.171      -1.028\n",
       "Travel Distance, units:mi (Bike)                    -0.3209      0.016    -20.290      0.000      -0.352      -0.290\n",
       "Cross-Bay Tour (Shared Ride 2 & 3+)                  0.6706      0.123      5.459      0.000       0.430       0.911\n",
       "Household Size (Shared Ride 2 & 3+)                  0.1142      0.022      5.194      0.000       0.071       0.157\n",
       "Number of Kids in Household (Shared Ride 2 & 3+)     0.5737      0.026     21.827      0.000       0.522       0.625\n",
       "====================================================================================================================\n",
       "\"\"\""
      ]
     },
     "execution_count": 12,
     "metadata": {},
     "output_type": "execute_result"
    }
   ],
   "source": [
    "# Estimate the basic MNL model, using the hessian and newton-conjugate gradient\n",
    "mnl_model = cm.create_choice_model(data=data,\n",
    "                                   alt_id_col=\"mode_id\",\n",
    "                                   obs_id_col=\"observation_id\",\n",
    "                                   choice_col=\"sim_choice\",\n",
    "                                   specification=mnl_specification,\n",
    "                                   model_type=\"MNL\",\n",
    "                                   names=mnl_names)\n",
    "\n",
    "num_vars = len(reduce(lambda x, y: x + y, mnl_names.values()))\n",
    "mnl_model.fit_mle(np.zeros(num_vars),\n",
    "                  method=\"BFGS\")\n",
    "mnl_model.get_statsmodels_summary()"
   ]
  },
  {
   "cell_type": "markdown",
   "metadata": {},
   "source": [
    "## Model 1"
   ]
  },
  {
   "cell_type": "code",
   "execution_count": 13,
   "metadata": {},
   "outputs": [],
   "source": [
    "# Create my specification and variable names for the basic MNL model\n",
    "# NOTE: - Keys should be variables within the long format dataframe.\n",
    "#         The sole exception to this is the \"intercept\" key.\n",
    "#       - For the specification dictionary, the values should be lists\n",
    "#         or lists of lists. Within a list, or within the inner-most\n",
    "#         list should be the alternative ID's of the alternative whose\n",
    "#         utility specification the explanatory variable is entering.\n",
    "\n",
    "mnl_specification_noncausal = OrderedDict()\n",
    "mnl_names_noncausal = OrderedDict()\n",
    "\n",
    "mnl_specification_noncausal[\"intercept\"] = [2, 3, 4, 5, 6, 7, 8]\n",
    "mnl_names_noncausal[\"intercept\"] = ['ASC Shared Ride: 2',\n",
    "                          'ASC Shared Ride: 3+',\n",
    "                          'ASC Walk-Transit-Walk',\n",
    "                          'ASC Drive-Transit-Walk',\n",
    "                          'ASC Walk-Transit-Drive',\n",
    "                          'ASC Walk',\n",
    "                          'ASC Bike']\n",
    "\n",
    "mnl_specification_noncausal[\"total_travel_time\"] = [1, 2, 3, [4, 5, 6]]\n",
    "mnl_names_noncausal[\"total_travel_time\"] = ['Travel Time, units:min (Drive Alone)',\n",
    "                                  'Travel Time, units:min (SharedRide-2)',\n",
    "                                  'Travel Time, units:min (SharedRide-3+)',\n",
    "                                  'Travel Time, units:min (All Transit Modes)']\n",
    "\n",
    "mnl_specification_noncausal[\"total_travel_cost\"] = [1, 2, 3, [4, 5, 6]]\n",
    "mnl_names_noncausal[\"total_travel_cost\"] = ['Travel Cost, units:$ (Drive Alone)',\n",
    "                                  'Travel Cost, units:$ (SharedRide-2)',\n",
    "                                  'Travel Cost, units:$ (SharedRide-3+)',\n",
    "                                  'Travel Cost, units:$ (All Transit Modes)']\n",
    "\n",
    "mnl_specification_noncausal[\"cars_per_licensed_drivers\"] = [[1, 2, 3]]\n",
    "mnl_names_noncausal[\"cars_per_licensed_drivers\"] = [\"Autos per licensed drivers (All Auto Modes)\"]\n",
    "\n",
    "mnl_specification_noncausal[\"cross_bay\"] = [[2, 3]]\n",
    "mnl_names_noncausal[\"cross_bay\"] = [\"Cross-Bay Tour (Shared Ride 2 & 3+)\"]\n",
    "\n",
    "mnl_specification_noncausal[\"household_size\"] = [[2, 3]]\n",
    "mnl_names_noncausal[\"household_size\"] = ['Household Size (Shared Ride 2 & 3+)']\n",
    "\n",
    "mnl_specification_noncausal[\"num_kids\"] = [[2, 3]]\n",
    "mnl_names_noncausal[\"num_kids\"] = [\"Number of Kids in Household (Shared Ride 2 & 3+)\"]"
   ]
  },
  {
   "cell_type": "code",
   "execution_count": 14,
   "metadata": {},
   "outputs": [
    {
     "name": "stderr",
     "output_type": "stream",
     "text": [
      "/Users/hassanobeid/anaconda3/lib/python3.7/site-packages/pylogit/choice_tools.py:703: FutureWarning: arrays to stack must be passed as a \"sequence\" type such as list or tuple. Support for non-sequence iterables such as generators is deprecated as of NumPy 1.16 and will raise an error in the future.\n",
      "  design_matrix = np.hstack((x[:, None] for x in independent_vars))\n"
     ]
    },
    {
     "name": "stdout",
     "output_type": "stream",
     "text": [
      "Log-likelihood at zero: -15,176.6986\n",
      "Initial Log-likelihood: -15,176.6986\n"
     ]
    },
    {
     "name": "stderr",
     "output_type": "stream",
     "text": [
      "/Users/hassanobeid/anaconda3/lib/python3.7/site-packages/scipy/optimize/_minimize.py:506: RuntimeWarning: Method BFGS does not use Hessian information (hess).\n",
      "  RuntimeWarning)\n"
     ]
    },
    {
     "name": "stdout",
     "output_type": "stream",
     "text": [
      "Estimation Time for Point Estimation: 0.24 seconds.\n",
      "Final log-likelihood: -10,288.5691\n"
     ]
    },
    {
     "data": {
      "text/html": [
       "<table class=\"simpletable\">\n",
       "<caption>Multinomial Logit Model Regression Results</caption>\n",
       "<tr>\n",
       "  <th>Dep. Variable:</th>       <td>sim_choice</td>        <th>  No. Observations:  </th>    <td>8,000</td>   \n",
       "</tr>\n",
       "<tr>\n",
       "  <th>Model:</th>         <td>Multinomial Logit Model</td> <th>  Df Residuals:      </th>    <td>7,981</td>   \n",
       "</tr>\n",
       "<tr>\n",
       "  <th>Method:</th>                  <td>MLE</td>           <th>  Df Model:          </th>     <td>19</td>     \n",
       "</tr>\n",
       "<tr>\n",
       "  <th>Date:</th>             <td>Sun, 19 Jul 2020</td>     <th>  Pseudo R-squ.:     </th>    <td>0.322</td>   \n",
       "</tr>\n",
       "<tr>\n",
       "  <th>Time:</th>                 <td>12:06:48</td>         <th>  Pseudo R-bar-squ.: </th>    <td>0.321</td>   \n",
       "</tr>\n",
       "<tr>\n",
       "  <th>AIC:</th>                 <td>20,615.138</td>        <th>  Log-Likelihood:    </th> <td>-10,288.569</td>\n",
       "</tr>\n",
       "<tr>\n",
       "  <th>BIC:</th>                 <td>20,747.895</td>        <th>  LL-Null:           </th> <td>-15,176.699</td>\n",
       "</tr>\n",
       "</table>\n",
       "<table class=\"simpletable\">\n",
       "<tr>\n",
       "                          <td></td>                            <th>coef</th>     <th>std err</th>      <th>z</th>      <th>P>|z|</th>  <th>[0.025</th>    <th>0.975]</th>  \n",
       "</tr>\n",
       "<tr>\n",
       "  <th>ASC Shared Ride: 2</th>                               <td>   -1.1772</td> <td>    0.116</td> <td>  -10.187</td> <td> 0.000</td> <td>   -1.404</td> <td>   -0.951</td>\n",
       "</tr>\n",
       "<tr>\n",
       "  <th>ASC Shared Ride: 3+</th>                              <td>   -0.7079</td> <td>    0.126</td> <td>   -5.628</td> <td> 0.000</td> <td>   -0.954</td> <td>   -0.461</td>\n",
       "</tr>\n",
       "<tr>\n",
       "  <th>ASC Walk-Transit-Walk</th>                            <td>    0.9579</td> <td>    0.122</td> <td>    7.877</td> <td> 0.000</td> <td>    0.720</td> <td>    1.196</td>\n",
       "</tr>\n",
       "<tr>\n",
       "  <th>ASC Drive-Transit-Walk</th>                           <td>   -1.2297</td> <td>    0.138</td> <td>   -8.930</td> <td> 0.000</td> <td>   -1.500</td> <td>   -0.960</td>\n",
       "</tr>\n",
       "<tr>\n",
       "  <th>ASC Walk-Transit-Drive</th>                           <td>   -1.4191</td> <td>    0.143</td> <td>   -9.955</td> <td> 0.000</td> <td>   -1.699</td> <td>   -1.140</td>\n",
       "</tr>\n",
       "<tr>\n",
       "  <th>ASC Walk</th>                                         <td>   -1.0122</td> <td>    0.074</td> <td>  -13.670</td> <td> 0.000</td> <td>   -1.157</td> <td>   -0.867</td>\n",
       "</tr>\n",
       "<tr>\n",
       "  <th>ASC Bike</th>                                         <td>   -1.2166</td> <td>    0.075</td> <td>  -16.141</td> <td> 0.000</td> <td>   -1.364</td> <td>   -1.069</td>\n",
       "</tr>\n",
       "<tr>\n",
       "  <th>Travel Time, units:min (Drive Alone)</th>             <td>   -0.0386</td> <td>    0.003</td> <td>  -11.916</td> <td> 0.000</td> <td>   -0.045</td> <td>   -0.032</td>\n",
       "</tr>\n",
       "<tr>\n",
       "  <th>Travel Time, units:min (SharedRide-2)</th>            <td>   -0.0623</td> <td>    0.004</td> <td>  -14.178</td> <td> 0.000</td> <td>   -0.071</td> <td>   -0.054</td>\n",
       "</tr>\n",
       "<tr>\n",
       "  <th>Travel Time, units:min (SharedRide-3+)</th>           <td>   -0.1087</td> <td>    0.006</td> <td>  -16.983</td> <td> 0.000</td> <td>   -0.121</td> <td>   -0.096</td>\n",
       "</tr>\n",
       "<tr>\n",
       "  <th>Travel Time, units:min (All Transit Modes)</th>       <td>   -0.0271</td> <td>    0.001</td> <td>  -19.033</td> <td> 0.000</td> <td>   -0.030</td> <td>   -0.024</td>\n",
       "</tr>\n",
       "<tr>\n",
       "  <th>Travel Cost, units:$ (Drive Alone)</th>               <td>   -0.0210</td> <td>    0.018</td> <td>   -1.138</td> <td> 0.255</td> <td>   -0.057</td> <td>    0.015</td>\n",
       "</tr>\n",
       "<tr>\n",
       "  <th>Travel Cost, units:$ (SharedRide-2)</th>              <td>   -0.2069</td> <td>    0.041</td> <td>   -4.996</td> <td> 0.000</td> <td>   -0.288</td> <td>   -0.126</td>\n",
       "</tr>\n",
       "<tr>\n",
       "  <th>Travel Cost, units:$ (SharedRide-3+)</th>             <td>   -0.4500</td> <td>    0.100</td> <td>   -4.505</td> <td> 0.000</td> <td>   -0.646</td> <td>   -0.254</td>\n",
       "</tr>\n",
       "<tr>\n",
       "  <th>Travel Cost, units:$ (All Transit Modes)</th>         <td>   -0.1086</td> <td>    0.018</td> <td>   -6.073</td> <td> 0.000</td> <td>   -0.144</td> <td>   -0.074</td>\n",
       "</tr>\n",
       "<tr>\n",
       "  <th>Autos per licensed drivers (All Auto Modes)</th>      <td>    1.0899</td> <td>    0.050</td> <td>   22.013</td> <td> 0.000</td> <td>    0.993</td> <td>    1.187</td>\n",
       "</tr>\n",
       "<tr>\n",
       "  <th>Cross-Bay Tour (Shared Ride 2 & 3+)</th>              <td>    0.6499</td> <td>    0.116</td> <td>    5.620</td> <td> 0.000</td> <td>    0.423</td> <td>    0.876</td>\n",
       "</tr>\n",
       "<tr>\n",
       "  <th>Household Size (Shared Ride 2 & 3+)</th>              <td>    0.0980</td> <td>    0.021</td> <td>    4.726</td> <td> 0.000</td> <td>    0.057</td> <td>    0.139</td>\n",
       "</tr>\n",
       "<tr>\n",
       "  <th>Number of Kids in Household (Shared Ride 2 & 3+)</th> <td>    0.5143</td> <td>    0.025</td> <td>   20.723</td> <td> 0.000</td> <td>    0.466</td> <td>    0.563</td>\n",
       "</tr>\n",
       "</table>"
      ],
      "text/plain": [
       "<class 'statsmodels.iolib.summary.Summary'>\n",
       "\"\"\"\n",
       "                     Multinomial Logit Model Regression Results                    \n",
       "===================================================================================\n",
       "Dep. Variable:                  sim_choice   No. Observations:                8,000\n",
       "Model:             Multinomial Logit Model   Df Residuals:                    7,981\n",
       "Method:                                MLE   Df Model:                           19\n",
       "Date:                     Sun, 19 Jul 2020   Pseudo R-squ.:                   0.322\n",
       "Time:                             12:06:48   Pseudo R-bar-squ.:               0.321\n",
       "AIC:                            20,615.138   Log-Likelihood:            -10,288.569\n",
       "BIC:                            20,747.895   LL-Null:                   -15,176.699\n",
       "====================================================================================================================\n",
       "                                                       coef    std err          z      P>|z|      [0.025      0.975]\n",
       "--------------------------------------------------------------------------------------------------------------------\n",
       "ASC Shared Ride: 2                                  -1.1772      0.116    -10.187      0.000      -1.404      -0.951\n",
       "ASC Shared Ride: 3+                                 -0.7079      0.126     -5.628      0.000      -0.954      -0.461\n",
       "ASC Walk-Transit-Walk                                0.9579      0.122      7.877      0.000       0.720       1.196\n",
       "ASC Drive-Transit-Walk                              -1.2297      0.138     -8.930      0.000      -1.500      -0.960\n",
       "ASC Walk-Transit-Drive                              -1.4191      0.143     -9.955      0.000      -1.699      -1.140\n",
       "ASC Walk                                            -1.0122      0.074    -13.670      0.000      -1.157      -0.867\n",
       "ASC Bike                                            -1.2166      0.075    -16.141      0.000      -1.364      -1.069\n",
       "Travel Time, units:min (Drive Alone)                -0.0386      0.003    -11.916      0.000      -0.045      -0.032\n",
       "Travel Time, units:min (SharedRide-2)               -0.0623      0.004    -14.178      0.000      -0.071      -0.054\n",
       "Travel Time, units:min (SharedRide-3+)              -0.1087      0.006    -16.983      0.000      -0.121      -0.096\n",
       "Travel Time, units:min (All Transit Modes)          -0.0271      0.001    -19.033      0.000      -0.030      -0.024\n",
       "Travel Cost, units:$ (Drive Alone)                  -0.0210      0.018     -1.138      0.255      -0.057       0.015\n",
       "Travel Cost, units:$ (SharedRide-2)                 -0.2069      0.041     -4.996      0.000      -0.288      -0.126\n",
       "Travel Cost, units:$ (SharedRide-3+)                -0.4500      0.100     -4.505      0.000      -0.646      -0.254\n",
       "Travel Cost, units:$ (All Transit Modes)            -0.1086      0.018     -6.073      0.000      -0.144      -0.074\n",
       "Autos per licensed drivers (All Auto Modes)          1.0899      0.050     22.013      0.000       0.993       1.187\n",
       "Cross-Bay Tour (Shared Ride 2 & 3+)                  0.6499      0.116      5.620      0.000       0.423       0.876\n",
       "Household Size (Shared Ride 2 & 3+)                  0.0980      0.021      4.726      0.000       0.057       0.139\n",
       "Number of Kids in Household (Shared Ride 2 & 3+)     0.5143      0.025     20.723      0.000       0.466       0.563\n",
       "====================================================================================================================\n",
       "\"\"\""
      ]
     },
     "execution_count": 14,
     "metadata": {},
     "output_type": "execute_result"
    }
   ],
   "source": [
    "# Estimate the basic MNL model, using the hessian and newton-conjugate gradient\n",
    "mnl_model_noncausal = cm.create_choice_model(data=data,\n",
    "                                             alt_id_col=\"mode_id\",\n",
    "                                             obs_id_col=\"observation_id\",\n",
    "                                             choice_col=\"sim_choice\",\n",
    "                                             specification=mnl_specification_noncausal,\n",
    "                                             model_type=\"MNL\",\n",
    "                                             names=mnl_names_noncausal)\n",
    "\n",
    "num_vars_noncausal = len(reduce(lambda x, y: x + y, mnl_names_noncausal.values()))\n",
    "mnl_model_noncausal.fit_mle(np.zeros(num_vars_noncausal),\n",
    "                  method=\"BFGS\")\n",
    "\n",
    "# Look at the estimation results\n",
    "mnl_model_noncausal.get_statsmodels_summary()"
   ]
  },
  {
   "cell_type": "markdown",
   "metadata": {},
   "source": [
    "## Model 2"
   ]
  },
  {
   "cell_type": "code",
   "execution_count": 15,
   "metadata": {},
   "outputs": [],
   "source": [
    "mnl_specification_causal_1 = mnl_specification_noncausal.copy()\n",
    "mnl_names_causal_1 = mnl_names_noncausal.copy()\n",
    "\n",
    "mnl_specification_causal_1[\"recovered_confounder_model_2\"] = [1, 2, 3]\n",
    "mnl_names_causal_1[\"recovered_confounder_model_2\"] = [\"Confounder - Drive alone\",\n",
    "                                     \"Confounder - Shared ride 2\", \n",
    "                                     \"Confounder - Shared ride 3\"]"
   ]
  },
  {
   "cell_type": "code",
   "execution_count": 16,
   "metadata": {},
   "outputs": [
    {
     "name": "stderr",
     "output_type": "stream",
     "text": [
      "/Users/hassanobeid/anaconda3/lib/python3.7/site-packages/pylogit/choice_tools.py:703: FutureWarning: arrays to stack must be passed as a \"sequence\" type such as list or tuple. Support for non-sequence iterables such as generators is deprecated as of NumPy 1.16 and will raise an error in the future.\n",
      "  design_matrix = np.hstack((x[:, None] for x in independent_vars))\n"
     ]
    },
    {
     "name": "stdout",
     "output_type": "stream",
     "text": [
      "Log-likelihood at zero: -15,176.6986\n",
      "Initial Log-likelihood: -15,176.6986\n"
     ]
    },
    {
     "name": "stderr",
     "output_type": "stream",
     "text": [
      "/Users/hassanobeid/anaconda3/lib/python3.7/site-packages/scipy/optimize/_minimize.py:506: RuntimeWarning: Method BFGS does not use Hessian information (hess).\n",
      "  RuntimeWarning)\n"
     ]
    },
    {
     "name": "stdout",
     "output_type": "stream",
     "text": [
      "Estimation Time for Point Estimation: 0.24 seconds.\n",
      "Final log-likelihood: -10,288.2069\n"
     ]
    },
    {
     "data": {
      "text/html": [
       "<table class=\"simpletable\">\n",
       "<caption>Multinomial Logit Model Regression Results</caption>\n",
       "<tr>\n",
       "  <th>Dep. Variable:</th>       <td>sim_choice</td>        <th>  No. Observations:  </th>    <td>8,000</td>   \n",
       "</tr>\n",
       "<tr>\n",
       "  <th>Model:</th>         <td>Multinomial Logit Model</td> <th>  Df Residuals:      </th>    <td>7,978</td>   \n",
       "</tr>\n",
       "<tr>\n",
       "  <th>Method:</th>                  <td>MLE</td>           <th>  Df Model:          </th>     <td>22</td>     \n",
       "</tr>\n",
       "<tr>\n",
       "  <th>Date:</th>             <td>Sun, 19 Jul 2020</td>     <th>  Pseudo R-squ.:     </th>    <td>0.322</td>   \n",
       "</tr>\n",
       "<tr>\n",
       "  <th>Time:</th>                 <td>12:07:34</td>         <th>  Pseudo R-bar-squ.: </th>    <td>0.321</td>   \n",
       "</tr>\n",
       "<tr>\n",
       "  <th>AIC:</th>                 <td>20,620.414</td>        <th>  Log-Likelihood:    </th> <td>-10,288.207</td>\n",
       "</tr>\n",
       "<tr>\n",
       "  <th>BIC:</th>                 <td>20,774.132</td>        <th>  LL-Null:           </th> <td>-15,176.699</td>\n",
       "</tr>\n",
       "</table>\n",
       "<table class=\"simpletable\">\n",
       "<tr>\n",
       "                          <td></td>                            <th>coef</th>     <th>std err</th>      <th>z</th>      <th>P>|z|</th>  <th>[0.025</th>    <th>0.975]</th>  \n",
       "</tr>\n",
       "<tr>\n",
       "  <th>ASC Shared Ride: 2</th>                               <td>   -1.1380</td> <td>    0.134</td> <td>   -8.484</td> <td> 0.000</td> <td>   -1.401</td> <td>   -0.875</td>\n",
       "</tr>\n",
       "<tr>\n",
       "  <th>ASC Shared Ride: 3+</th>                              <td>   -0.6806</td> <td>    0.141</td> <td>   -4.810</td> <td> 0.000</td> <td>   -0.958</td> <td>   -0.403</td>\n",
       "</tr>\n",
       "<tr>\n",
       "  <th>ASC Walk-Transit-Walk</th>                            <td>    0.9615</td> <td>    0.133</td> <td>    7.219</td> <td> 0.000</td> <td>    0.700</td> <td>    1.223</td>\n",
       "</tr>\n",
       "<tr>\n",
       "  <th>ASC Drive-Transit-Walk</th>                           <td>   -1.2262</td> <td>    0.148</td> <td>   -8.286</td> <td> 0.000</td> <td>   -1.516</td> <td>   -0.936</td>\n",
       "</tr>\n",
       "<tr>\n",
       "  <th>ASC Walk-Transit-Drive</th>                           <td>   -1.4157</td> <td>    0.153</td> <td>   -9.271</td> <td> 0.000</td> <td>   -1.715</td> <td>   -1.116</td>\n",
       "</tr>\n",
       "<tr>\n",
       "  <th>ASC Walk</th>                                         <td>   -1.0091</td> <td>    0.092</td> <td>  -11.000</td> <td> 0.000</td> <td>   -1.189</td> <td>   -0.829</td>\n",
       "</tr>\n",
       "<tr>\n",
       "  <th>ASC Bike</th>                                         <td>   -1.2135</td> <td>    0.093</td> <td>  -13.071</td> <td> 0.000</td> <td>   -1.395</td> <td>   -1.032</td>\n",
       "</tr>\n",
       "<tr>\n",
       "  <th>Travel Time, units:min (Drive Alone)</th>             <td>   -0.0385</td> <td>    0.003</td> <td>  -11.291</td> <td> 0.000</td> <td>   -0.045</td> <td>   -0.032</td>\n",
       "</tr>\n",
       "<tr>\n",
       "  <th>Travel Time, units:min (SharedRide-2)</th>            <td>   -0.0629</td> <td>    0.004</td> <td>  -14.032</td> <td> 0.000</td> <td>   -0.072</td> <td>   -0.054</td>\n",
       "</tr>\n",
       "<tr>\n",
       "  <th>Travel Time, units:min (SharedRide-3+)</th>           <td>   -0.1091</td> <td>    0.006</td> <td>  -16.856</td> <td> 0.000</td> <td>   -0.122</td> <td>   -0.096</td>\n",
       "</tr>\n",
       "<tr>\n",
       "  <th>Travel Time, units:min (All Transit Modes)</th>       <td>   -0.0271</td> <td>    0.001</td> <td>  -19.037</td> <td> 0.000</td> <td>   -0.030</td> <td>   -0.024</td>\n",
       "</tr>\n",
       "<tr>\n",
       "  <th>Travel Cost, units:$ (Drive Alone)</th>               <td>   -0.0209</td> <td>    0.019</td> <td>   -1.088</td> <td> 0.276</td> <td>   -0.059</td> <td>    0.017</td>\n",
       "</tr>\n",
       "<tr>\n",
       "  <th>Travel Cost, units:$ (SharedRide-2)</th>              <td>   -0.2140</td> <td>    0.042</td> <td>   -5.036</td> <td> 0.000</td> <td>   -0.297</td> <td>   -0.131</td>\n",
       "</tr>\n",
       "<tr>\n",
       "  <th>Travel Cost, units:$ (SharedRide-3+)</th>             <td>   -0.4568</td> <td>    0.101</td> <td>   -4.515</td> <td> 0.000</td> <td>   -0.655</td> <td>   -0.258</td>\n",
       "</tr>\n",
       "<tr>\n",
       "  <th>Travel Cost, units:$ (All Transit Modes)</th>         <td>   -0.1086</td> <td>    0.018</td> <td>   -6.073</td> <td> 0.000</td> <td>   -0.144</td> <td>   -0.074</td>\n",
       "</tr>\n",
       "<tr>\n",
       "  <th>Autos per licensed drivers (All Auto Modes)</th>      <td>    1.0896</td> <td>    0.050</td> <td>   21.854</td> <td> 0.000</td> <td>    0.992</td> <td>    1.187</td>\n",
       "</tr>\n",
       "<tr>\n",
       "  <th>Cross-Bay Tour (Shared Ride 2 & 3+)</th>              <td>    0.6352</td> <td>    0.117</td> <td>    5.408</td> <td> 0.000</td> <td>    0.405</td> <td>    0.865</td>\n",
       "</tr>\n",
       "<tr>\n",
       "  <th>Household Size (Shared Ride 2 & 3+)</th>              <td>    0.0973</td> <td>    0.021</td> <td>    4.687</td> <td> 0.000</td> <td>    0.057</td> <td>    0.138</td>\n",
       "</tr>\n",
       "<tr>\n",
       "  <th>Number of Kids in Household (Shared Ride 2 & 3+)</th> <td>    0.5126</td> <td>    0.025</td> <td>   20.556</td> <td> 0.000</td> <td>    0.464</td> <td>    0.562</td>\n",
       "</tr>\n",
       "<tr>\n",
       "  <th>Confounder - Drive alone</th>                         <td>   -0.0030</td> <td>    0.050</td> <td>   -0.059</td> <td> 0.953</td> <td>   -0.101</td> <td>    0.095</td>\n",
       "</tr>\n",
       "<tr>\n",
       "  <th>Confounder - Shared ride 2</th>                       <td>    0.0350</td> <td>    0.048</td> <td>    0.733</td> <td> 0.464</td> <td>   -0.059</td> <td>    0.129</td>\n",
       "</tr>\n",
       "<tr>\n",
       "  <th>Confounder - Shared ride 3</th>                       <td>    0.0219</td> <td>    0.049</td> <td>    0.446</td> <td> 0.656</td> <td>   -0.074</td> <td>    0.118</td>\n",
       "</tr>\n",
       "</table>"
      ],
      "text/plain": [
       "<class 'statsmodels.iolib.summary.Summary'>\n",
       "\"\"\"\n",
       "                     Multinomial Logit Model Regression Results                    \n",
       "===================================================================================\n",
       "Dep. Variable:                  sim_choice   No. Observations:                8,000\n",
       "Model:             Multinomial Logit Model   Df Residuals:                    7,978\n",
       "Method:                                MLE   Df Model:                           22\n",
       "Date:                     Sun, 19 Jul 2020   Pseudo R-squ.:                   0.322\n",
       "Time:                             12:07:34   Pseudo R-bar-squ.:               0.321\n",
       "AIC:                            20,620.414   Log-Likelihood:            -10,288.207\n",
       "BIC:                            20,774.132   LL-Null:                   -15,176.699\n",
       "====================================================================================================================\n",
       "                                                       coef    std err          z      P>|z|      [0.025      0.975]\n",
       "--------------------------------------------------------------------------------------------------------------------\n",
       "ASC Shared Ride: 2                                  -1.1380      0.134     -8.484      0.000      -1.401      -0.875\n",
       "ASC Shared Ride: 3+                                 -0.6806      0.141     -4.810      0.000      -0.958      -0.403\n",
       "ASC Walk-Transit-Walk                                0.9615      0.133      7.219      0.000       0.700       1.223\n",
       "ASC Drive-Transit-Walk                              -1.2262      0.148     -8.286      0.000      -1.516      -0.936\n",
       "ASC Walk-Transit-Drive                              -1.4157      0.153     -9.271      0.000      -1.715      -1.116\n",
       "ASC Walk                                            -1.0091      0.092    -11.000      0.000      -1.189      -0.829\n",
       "ASC Bike                                            -1.2135      0.093    -13.071      0.000      -1.395      -1.032\n",
       "Travel Time, units:min (Drive Alone)                -0.0385      0.003    -11.291      0.000      -0.045      -0.032\n",
       "Travel Time, units:min (SharedRide-2)               -0.0629      0.004    -14.032      0.000      -0.072      -0.054\n",
       "Travel Time, units:min (SharedRide-3+)              -0.1091      0.006    -16.856      0.000      -0.122      -0.096\n",
       "Travel Time, units:min (All Transit Modes)          -0.0271      0.001    -19.037      0.000      -0.030      -0.024\n",
       "Travel Cost, units:$ (Drive Alone)                  -0.0209      0.019     -1.088      0.276      -0.059       0.017\n",
       "Travel Cost, units:$ (SharedRide-2)                 -0.2140      0.042     -5.036      0.000      -0.297      -0.131\n",
       "Travel Cost, units:$ (SharedRide-3+)                -0.4568      0.101     -4.515      0.000      -0.655      -0.258\n",
       "Travel Cost, units:$ (All Transit Modes)            -0.1086      0.018     -6.073      0.000      -0.144      -0.074\n",
       "Autos per licensed drivers (All Auto Modes)          1.0896      0.050     21.854      0.000       0.992       1.187\n",
       "Cross-Bay Tour (Shared Ride 2 & 3+)                  0.6352      0.117      5.408      0.000       0.405       0.865\n",
       "Household Size (Shared Ride 2 & 3+)                  0.0973      0.021      4.687      0.000       0.057       0.138\n",
       "Number of Kids in Household (Shared Ride 2 & 3+)     0.5126      0.025     20.556      0.000       0.464       0.562\n",
       "Confounder - Drive alone                            -0.0030      0.050     -0.059      0.953      -0.101       0.095\n",
       "Confounder - Shared ride 2                           0.0350      0.048      0.733      0.464      -0.059       0.129\n",
       "Confounder - Shared ride 3                           0.0219      0.049      0.446      0.656      -0.074       0.118\n",
       "====================================================================================================================\n",
       "\"\"\""
      ]
     },
     "execution_count": 16,
     "metadata": {},
     "output_type": "execute_result"
    }
   ],
   "source": [
    "# Estimate the basic MNL model, using the hessian and newton-conjugate gradient\n",
    "mnl_model_causal_1 = cm.create_choice_model(data=data,\n",
    "                                            alt_id_col=\"mode_id\",\n",
    "                                            obs_id_col=\"observation_id\",\n",
    "                                            choice_col=\"sim_choice\",\n",
    "                                            specification=mnl_specification_causal_1,\n",
    "                                            model_type=\"MNL\",\n",
    "                                            names=mnl_names_causal_1)\n",
    "\n",
    "num_vars = len(reduce(lambda x, y: x + y, mnl_names_causal_1.values()))\n",
    "mnl_model_causal_1.fit_mle(np.zeros(num_vars),\n",
    "                  method=\"BFGS\")\n",
    "\n",
    "# Look at the estimation results\n",
    "mnl_model_causal_1.get_statsmodels_summary()"
   ]
  },
  {
   "cell_type": "markdown",
   "metadata": {},
   "source": [
    "## Model 3"
   ]
  },
  {
   "cell_type": "code",
   "execution_count": 17,
   "metadata": {},
   "outputs": [],
   "source": [
    "mnl_specification_causal_2 = mnl_specification_noncausal.copy()\n",
    "mnl_names_causal_2 = mnl_names_noncausal.copy()\n",
    "\n",
    "mnl_specification_causal_2[\"recovered_confounder_model_3\"] = [1, 2, 3]\n",
    "mnl_names_causal_2[\"recovered_confounder_model_3\"] = [\"Confounder - Drive alone\",\n",
    "                                     \"Confounder - Shared ride 2\", \n",
    "                                     \"Confounder - Shared ride 3\"]"
   ]
  },
  {
   "cell_type": "code",
   "execution_count": 18,
   "metadata": {},
   "outputs": [
    {
     "name": "stderr",
     "output_type": "stream",
     "text": [
      "/Users/hassanobeid/anaconda3/lib/python3.7/site-packages/pylogit/choice_tools.py:703: FutureWarning: arrays to stack must be passed as a \"sequence\" type such as list or tuple. Support for non-sequence iterables such as generators is deprecated as of NumPy 1.16 and will raise an error in the future.\n",
      "  design_matrix = np.hstack((x[:, None] for x in independent_vars))\n"
     ]
    },
    {
     "name": "stdout",
     "output_type": "stream",
     "text": [
      "Log-likelihood at zero: -15,176.6986\n",
      "Initial Log-likelihood: -15,176.6986\n"
     ]
    },
    {
     "name": "stderr",
     "output_type": "stream",
     "text": [
      "/Users/hassanobeid/anaconda3/lib/python3.7/site-packages/scipy/optimize/_minimize.py:506: RuntimeWarning: Method BFGS does not use Hessian information (hess).\n",
      "  RuntimeWarning)\n"
     ]
    },
    {
     "name": "stdout",
     "output_type": "stream",
     "text": [
      "Estimation Time for Point Estimation: 0.25 seconds.\n",
      "Final log-likelihood: -10,286.9178\n"
     ]
    },
    {
     "data": {
      "text/html": [
       "<table class=\"simpletable\">\n",
       "<caption>Multinomial Logit Model Regression Results</caption>\n",
       "<tr>\n",
       "  <th>Dep. Variable:</th>       <td>sim_choice</td>        <th>  No. Observations:  </th>    <td>8,000</td>   \n",
       "</tr>\n",
       "<tr>\n",
       "  <th>Model:</th>         <td>Multinomial Logit Model</td> <th>  Df Residuals:      </th>    <td>7,978</td>   \n",
       "</tr>\n",
       "<tr>\n",
       "  <th>Method:</th>                  <td>MLE</td>           <th>  Df Model:          </th>     <td>22</td>     \n",
       "</tr>\n",
       "<tr>\n",
       "  <th>Date:</th>             <td>Sun, 19 Jul 2020</td>     <th>  Pseudo R-squ.:     </th>    <td>0.322</td>   \n",
       "</tr>\n",
       "<tr>\n",
       "  <th>Time:</th>                 <td>12:08:20</td>         <th>  Pseudo R-bar-squ.: </th>    <td>0.321</td>   \n",
       "</tr>\n",
       "<tr>\n",
       "  <th>AIC:</th>                 <td>20,617.836</td>        <th>  Log-Likelihood:    </th> <td>-10,286.918</td>\n",
       "</tr>\n",
       "<tr>\n",
       "  <th>BIC:</th>                 <td>20,771.554</td>        <th>  LL-Null:           </th> <td>-15,176.699</td>\n",
       "</tr>\n",
       "</table>\n",
       "<table class=\"simpletable\">\n",
       "<tr>\n",
       "                          <td></td>                            <th>coef</th>     <th>std err</th>      <th>z</th>      <th>P>|z|</th>  <th>[0.025</th>    <th>0.975]</th>  \n",
       "</tr>\n",
       "<tr>\n",
       "  <th>ASC Shared Ride: 2</th>                               <td>   -1.1001</td> <td>    0.316</td> <td>   -3.486</td> <td> 0.000</td> <td>   -1.719</td> <td>   -0.482</td>\n",
       "</tr>\n",
       "<tr>\n",
       "  <th>ASC Shared Ride: 3+</th>                              <td>   -1.0005</td> <td>    0.373</td> <td>   -2.681</td> <td> 0.007</td> <td>   -1.732</td> <td>   -0.269</td>\n",
       "</tr>\n",
       "<tr>\n",
       "  <th>ASC Walk-Transit-Walk</th>                            <td>    0.7345</td> <td>    0.219</td> <td>    3.357</td> <td> 0.001</td> <td>    0.306</td> <td>    1.163</td>\n",
       "</tr>\n",
       "<tr>\n",
       "  <th>ASC Drive-Transit-Walk</th>                           <td>   -1.4527</td> <td>    0.228</td> <td>   -6.367</td> <td> 0.000</td> <td>   -1.900</td> <td>   -1.006</td>\n",
       "</tr>\n",
       "<tr>\n",
       "  <th>ASC Walk-Transit-Drive</th>                           <td>   -1.6421</td> <td>    0.231</td> <td>   -7.113</td> <td> 0.000</td> <td>   -2.094</td> <td>   -1.190</td>\n",
       "</tr>\n",
       "<tr>\n",
       "  <th>ASC Walk</th>                                         <td>   -1.2354</td> <td>    0.196</td> <td>   -6.292</td> <td> 0.000</td> <td>   -1.620</td> <td>   -0.851</td>\n",
       "</tr>\n",
       "<tr>\n",
       "  <th>ASC Bike</th>                                         <td>   -1.4396</td> <td>    0.197</td> <td>   -7.315</td> <td> 0.000</td> <td>   -1.825</td> <td>   -1.054</td>\n",
       "</tr>\n",
       "<tr>\n",
       "  <th>Travel Time, units:min (Drive Alone)</th>             <td>   -0.0432</td> <td>    0.005</td> <td>   -8.731</td> <td> 0.000</td> <td>   -0.053</td> <td>   -0.033</td>\n",
       "</tr>\n",
       "<tr>\n",
       "  <th>Travel Time, units:min (SharedRide-2)</th>            <td>   -0.0687</td> <td>    0.007</td> <td>  -10.432</td> <td> 0.000</td> <td>   -0.082</td> <td>   -0.056</td>\n",
       "</tr>\n",
       "<tr>\n",
       "  <th>Travel Time, units:min (SharedRide-3+)</th>           <td>   -0.1073</td> <td>    0.009</td> <td>  -11.855</td> <td> 0.000</td> <td>   -0.125</td> <td>   -0.090</td>\n",
       "</tr>\n",
       "<tr>\n",
       "  <th>Travel Time, units:min (All Transit Modes)</th>       <td>   -0.0271</td> <td>    0.001</td> <td>  -19.031</td> <td> 0.000</td> <td>   -0.030</td> <td>   -0.024</td>\n",
       "</tr>\n",
       "<tr>\n",
       "  <th>Travel Cost, units:$ (Drive Alone)</th>               <td>   -0.0482</td> <td>    0.029</td> <td>   -1.678</td> <td> 0.093</td> <td>   -0.104</td> <td>    0.008</td>\n",
       "</tr>\n",
       "<tr>\n",
       "  <th>Travel Cost, units:$ (SharedRide-2)</th>              <td>   -0.2698</td> <td>    0.064</td> <td>   -4.241</td> <td> 0.000</td> <td>   -0.394</td> <td>   -0.145</td>\n",
       "</tr>\n",
       "<tr>\n",
       "  <th>Travel Cost, units:$ (SharedRide-3+)</th>             <td>   -0.4286</td> <td>    0.139</td> <td>   -3.077</td> <td> 0.002</td> <td>   -0.702</td> <td>   -0.156</td>\n",
       "</tr>\n",
       "<tr>\n",
       "  <th>Travel Cost, units:$ (All Transit Modes)</th>         <td>   -0.1087</td> <td>    0.018</td> <td>   -6.079</td> <td> 0.000</td> <td>   -0.144</td> <td>   -0.074</td>\n",
       "</tr>\n",
       "<tr>\n",
       "  <th>Autos per licensed drivers (All Auto Modes)</th>      <td>    1.0903</td> <td>    0.050</td> <td>   22.014</td> <td> 0.000</td> <td>    0.993</td> <td>    1.187</td>\n",
       "</tr>\n",
       "<tr>\n",
       "  <th>Cross-Bay Tour (Shared Ride 2 & 3+)</th>              <td>    0.6512</td> <td>    0.116</td> <td>    5.630</td> <td> 0.000</td> <td>    0.425</td> <td>    0.878</td>\n",
       "</tr>\n",
       "<tr>\n",
       "  <th>Household Size (Shared Ride 2 & 3+)</th>              <td>    0.0982</td> <td>    0.021</td> <td>    4.732</td> <td> 0.000</td> <td>    0.057</td> <td>    0.139</td>\n",
       "</tr>\n",
       "<tr>\n",
       "  <th>Number of Kids in Household (Shared Ride 2 & 3+)</th> <td>    0.5148</td> <td>    0.025</td> <td>   20.733</td> <td> 0.000</td> <td>    0.466</td> <td>    0.564</td>\n",
       "</tr>\n",
       "<tr>\n",
       "  <th>Confounder - Drive alone</th>                         <td>    0.2221</td> <td>    0.180</td> <td>    1.231</td> <td> 0.218</td> <td>   -0.132</td> <td>    0.576</td>\n",
       "</tr>\n",
       "<tr>\n",
       "  <th>Confounder - Shared ride 2</th>                       <td>    0.2803</td> <td>    0.215</td> <td>    1.304</td> <td> 0.192</td> <td>   -0.141</td> <td>    0.702</td>\n",
       "</tr>\n",
       "<tr>\n",
       "  <th>Confounder - Shared ride 3</th>                       <td>   -0.0630</td> <td>    0.284</td> <td>   -0.222</td> <td> 0.824</td> <td>   -0.619</td> <td>    0.493</td>\n",
       "</tr>\n",
       "</table>"
      ],
      "text/plain": [
       "<class 'statsmodels.iolib.summary.Summary'>\n",
       "\"\"\"\n",
       "                     Multinomial Logit Model Regression Results                    \n",
       "===================================================================================\n",
       "Dep. Variable:                  sim_choice   No. Observations:                8,000\n",
       "Model:             Multinomial Logit Model   Df Residuals:                    7,978\n",
       "Method:                                MLE   Df Model:                           22\n",
       "Date:                     Sun, 19 Jul 2020   Pseudo R-squ.:                   0.322\n",
       "Time:                             12:08:20   Pseudo R-bar-squ.:               0.321\n",
       "AIC:                            20,617.836   Log-Likelihood:            -10,286.918\n",
       "BIC:                            20,771.554   LL-Null:                   -15,176.699\n",
       "====================================================================================================================\n",
       "                                                       coef    std err          z      P>|z|      [0.025      0.975]\n",
       "--------------------------------------------------------------------------------------------------------------------\n",
       "ASC Shared Ride: 2                                  -1.1001      0.316     -3.486      0.000      -1.719      -0.482\n",
       "ASC Shared Ride: 3+                                 -1.0005      0.373     -2.681      0.007      -1.732      -0.269\n",
       "ASC Walk-Transit-Walk                                0.7345      0.219      3.357      0.001       0.306       1.163\n",
       "ASC Drive-Transit-Walk                              -1.4527      0.228     -6.367      0.000      -1.900      -1.006\n",
       "ASC Walk-Transit-Drive                              -1.6421      0.231     -7.113      0.000      -2.094      -1.190\n",
       "ASC Walk                                            -1.2354      0.196     -6.292      0.000      -1.620      -0.851\n",
       "ASC Bike                                            -1.4396      0.197     -7.315      0.000      -1.825      -1.054\n",
       "Travel Time, units:min (Drive Alone)                -0.0432      0.005     -8.731      0.000      -0.053      -0.033\n",
       "Travel Time, units:min (SharedRide-2)               -0.0687      0.007    -10.432      0.000      -0.082      -0.056\n",
       "Travel Time, units:min (SharedRide-3+)              -0.1073      0.009    -11.855      0.000      -0.125      -0.090\n",
       "Travel Time, units:min (All Transit Modes)          -0.0271      0.001    -19.031      0.000      -0.030      -0.024\n",
       "Travel Cost, units:$ (Drive Alone)                  -0.0482      0.029     -1.678      0.093      -0.104       0.008\n",
       "Travel Cost, units:$ (SharedRide-2)                 -0.2698      0.064     -4.241      0.000      -0.394      -0.145\n",
       "Travel Cost, units:$ (SharedRide-3+)                -0.4286      0.139     -3.077      0.002      -0.702      -0.156\n",
       "Travel Cost, units:$ (All Transit Modes)            -0.1087      0.018     -6.079      0.000      -0.144      -0.074\n",
       "Autos per licensed drivers (All Auto Modes)          1.0903      0.050     22.014      0.000       0.993       1.187\n",
       "Cross-Bay Tour (Shared Ride 2 & 3+)                  0.6512      0.116      5.630      0.000       0.425       0.878\n",
       "Household Size (Shared Ride 2 & 3+)                  0.0982      0.021      4.732      0.000       0.057       0.139\n",
       "Number of Kids in Household (Shared Ride 2 & 3+)     0.5148      0.025     20.733      0.000       0.466       0.564\n",
       "Confounder - Drive alone                             0.2221      0.180      1.231      0.218      -0.132       0.576\n",
       "Confounder - Shared ride 2                           0.2803      0.215      1.304      0.192      -0.141       0.702\n",
       "Confounder - Shared ride 3                          -0.0630      0.284     -0.222      0.824      -0.619       0.493\n",
       "====================================================================================================================\n",
       "\"\"\""
      ]
     },
     "execution_count": 18,
     "metadata": {},
     "output_type": "execute_result"
    }
   ],
   "source": [
    "# Estimate the basic MNL model, using the hessian and newton-conjugate gradient\n",
    "mnl_model_causal_2 = cm.create_choice_model(data=data,\n",
    "                                            alt_id_col=\"mode_id\",\n",
    "                                            obs_id_col=\"observation_id\",\n",
    "                                            choice_col=\"sim_choice\",\n",
    "                                            specification=mnl_specification_causal_2,\n",
    "                                            model_type=\"MNL\",\n",
    "                                            names=mnl_names_causal_2)\n",
    "\n",
    "num_vars = len(reduce(lambda x, y: x + y, mnl_names_causal_2.values()))\n",
    "mnl_model_causal_2.fit_mle(np.zeros(num_vars),\n",
    "                  method=\"BFGS\")\n",
    "\n",
    "# Look at the estimation results\n",
    "mnl_model_causal_2.get_statsmodels_summary()"
   ]
  },
  {
   "cell_type": "markdown",
   "metadata": {},
   "source": [
    "## Compare estimates on travel time and cost"
   ]
  },
  {
   "cell_type": "code",
   "execution_count": 23,
   "metadata": {},
   "outputs": [],
   "source": [
    "results_as_html_true = create_comparison_tables(mnl_model)\n",
    "results_as_html_noncausal = create_comparison_tables(mnl_model_noncausal)\n",
    "results_as_html_method_2 = create_comparison_tables(mnl_model_causal_1)\n",
    "results_as_html_method_3 = create_comparison_tables(mnl_model_causal_2)\n"
   ]
  },
  {
   "cell_type": "code",
   "execution_count": 24,
   "metadata": {
    "lines_to_next_cell": 0
   },
   "outputs": [],
   "source": [
    "locs = ['Travel Time, units:min (Drive Alone)','Travel Time, units:min (SharedRide-2)',\n",
    "       'Travel Time, units:min (SharedRide-3+)', 'Travel Cost, units:$ (Drive Alone)',\n",
    "       'Travel Cost, units:$ (SharedRide-2)', 'Travel Cost, units:$ (SharedRide-3+)']\n",
    "cols = ['coef', 'std err']\n",
    "\n",
    "results_comparison = results_as_html_true.loc[locs][cols].join(results_as_html_noncausal.loc[locs][cols], \n",
    "                                                               lsuffix = '_true', \n",
    "                                                               rsuffix = '_non_causal'\n",
    "                                                              ).join(results_as_html_method_2.loc[locs][cols].join(\n",
    "                                                                     results_as_html_method_3.loc[locs][cols],\n",
    "                                                                     lsuffix = '_method_2', rsuffix = '_method_3'))\n",
    "\n",
    "results_comparison['confounded variable'] = results_comparison.index"
   ]
  },
  {
   "cell_type": "code",
   "execution_count": 25,
   "metadata": {},
   "outputs": [
    {
     "data": {
      "text/plain": [
       "<matplotlib.axes._subplots.AxesSubplot at 0x14b4a0320>"
      ]
     },
     "execution_count": 25,
     "metadata": {},
     "output_type": "execute_result"
    },
    {
     "data": {
      "image/png": "[encoded data removed]",
      "text/plain": [
       "<Figure size 1152x648 with 1 Axes>"
      ]
     },
     "metadata": {
      "needs_background": "light"
     },
     "output_type": "display_data"
    }
   ],
   "source": [
    "fig, ax = plt.subplots(nrows=1,ncols=1, figsize=(16,9))\n",
    "\n",
    "results_comparison.plot.bar(x='confounded variable', \n",
    "                            y=['coef_true','coef_non_causal','coef_method_2', 'coef_method_3'],\n",
    "                            yerr=results_comparison[['std err_true', 'std err_non_causal',\n",
    "                                                    'std err_method_2', 'std err_method_3']].T.values,\n",
    "                           ax = ax)"
   ]
  },
  {
   "cell_type": "code",
   "execution_count": null,
   "metadata": {},
   "outputs": [],
   "source": []
  }
 ],
 "metadata": {
  "jupytext": {
   "formats": "ipynb,py"
  },
  "kernelspec": {
   "display_name": "Python 3",
   "language": "python",
   "name": "python3"
  },
  "language_info": {
   "codemirror_mode": {
    "name": "ipython",
    "version": 3
   },
   "file_extension": ".py",
   "mimetype": "text/x-python",
   "name": "python",
   "nbconvert_exporter": "python",
   "pygments_lexer": "ipython3",
   "version": "3.7.3"
  }
 },
 "nbformat": 4,
 "nbformat_minor": 2
}
