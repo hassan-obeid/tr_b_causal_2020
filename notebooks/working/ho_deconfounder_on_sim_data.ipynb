{
 "cells": [
  {
   "cell_type": "markdown",
   "metadata": {},
   "source": [
    "# Purpose\n"
   ]
  },
  {
   "cell_type": "markdown",
   "metadata": {},
   "source": [
    "The purpose of this notebook is to investigate the effectiveness of the deconfounder algorithm (Blei et. al, 2018) in adjusting for unobserved confounding. We use a simulated mode choice data where travel distance linearly confounds both travel time and travel cost. We then mask the travel distance data and treat it as an unobserved variable. \n",
    "\n",
    "We estimate three models:\n",
    "- Model 1: A multinomial logit with the correct original specification, EXCEPT we ommit the travel distance variable in the specification without trying to adjust for it. \n",
    "- Model 2: We use the deconfounder algorithm to try to recover the confounder (travel distance). In this method, we use all the variables in each mode's utility to recover that mode's confounder.\n",
    "- Model 3: We use the deconfounder algorithm to try to recover the confounder (travel distance), but this time, we only use travel time and cost in the factor model, instead of all the variables in the utility specification of each mode. \n",
    "\n",
    "We compare the estimates of the coefficients on travel time and cost to the true estimates used in the simulation. The main findings of this exercise are the following:\n",
    "- Using the true variables believed to be confounded (i.e. method 3 where only travel time and cost are used to recover the confounder) leads to a better recovery of the true confounder. This suggests that it may be better to run the deconfounder algorithm based on a hypothesized causal graph, rather than just running it on all the observed covariates. \n",
    "- Similar to what we found in the investigating_decounfounder notebook, the effectiveness of the deconfounder algorithm is very sensitive to small deviations in the recovered confounder. Although method 3 returns a relatively good fit of the true confounder, the adjusted coefficients on travel time and cost do not exhibit any reduction in the bias resulting from ommitting the true confounder, and the coefficients on the recovered confounder are highly insignificant. This raises questions about the usefulness of the deconfounder algorithm in practice."
   ]
  },
  {
   "cell_type": "markdown",
   "metadata": {},
   "source": [
    "# Import needed libraries"
   ]
  },
  {
   "cell_type": "code",
   "execution_count": 1,
   "metadata": {
    "scrolled": true
   },
   "outputs": [],
   "source": [
    "# Built-in modules\n",
    "import os\n",
    "from collections import OrderedDict\n",
    "from functools import reduce\n",
    "\n",
    "# Third party modules\n",
    "import pandas as pd\n",
    "import numpy as np\n",
    "import matplotlib.pyplot as plt\n",
    "from causalgraphicalmodels import CausalGraphicalModel, StructuralCausalModel\n",
    "import pylogit as cm\n",
    "\n",
    "# Local modules\n",
    "from factor_models import *\n",
    "from util import *\n"
   ]
  },
  {
   "cell_type": "markdown",
   "metadata": {},
   "source": [
    "## Useful function"
   ]
  },
  {
   "cell_type": "markdown",
   "metadata": {},
   "source": [
    "## Analysis"
   ]
  },
  {
   "cell_type": "code",
   "execution_count": 4,
   "metadata": {},
   "outputs": [],
   "source": [
    "PATH = '../../data/raw/'\n",
    "file_name = 'simulated_long_format_bike_data.csv'"
   ]
  },
  {
   "cell_type": "code",
   "execution_count": 5,
   "metadata": {},
   "outputs": [
    {
     "data": {
      "text/plain": [
       "Index(['observation_id', 'mode_id', 'sim_choice', 'num_kids', 'household_size',\n",
       "       'num_cars', 'num_licensed_drivers', 'cross_bay', 'total_travel_time',\n",
       "       'total_travel_cost', 'total_travel_distance',\n",
       "       'cars_per_licensed_drivers', 'cost_per_distance', 'intercept'],\n",
       "      dtype='object')"
      ]
     },
     "execution_count": 5,
     "metadata": {},
     "output_type": "execute_result"
    }
   ],
   "source": [
    "data = pd.read_csv(PATH+file_name)\n",
    "data = data.drop('Unnamed: 0', axis = 1)\n",
    "data.columns"
   ]
  },
  {
   "cell_type": "code",
   "execution_count": 6,
   "metadata": {},
   "outputs": [],
   "source": [
    "X_columns = ['total_travel_time',\n",
    "       'total_travel_cost', 'total_travel_distance', \n",
    "             'cross_bay', 'household_size', 'num_kids', \n",
    "              'cars_per_licensed_drivers', \n",
    "             'gender'\n",
    "             \n",
    "            ]\n",
    "\n",
    "y_column = data['mode_id']"
   ]
  },
  {
   "cell_type": "code",
   "execution_count": 7,
   "metadata": {},
   "outputs": [
    {
     "data": {
      "image/svg+xml": [
       "<?xml version=\"1.0\" encoding=\"UTF-8\" standalone=\"no\"?>\n",
       "<!DOCTYPE svg PUBLIC \"-//W3C//DTD SVG 1.1//EN\"\n",
       " \"http://www.w3.org/Graphics/SVG/1.1/DTD/svg11.dtd\">\n",
       "<!-- Generated by graphviz version 2.40.1 (20161225.0304)\n",
       " -->\n",
       "<!-- Title: %3 Pages: 1 -->\n",
       "<svg width=\"1049pt\" height=\"260pt\"\n",
       " viewBox=\"0.00 0.00 1049.44 260.00\" xmlns=\"http://www.w3.org/2000/svg\" xmlns:xlink=\"http://www.w3.org/1999/xlink\">\n",
       "<g id=\"graph0\" class=\"graph\" transform=\"scale(1 1) rotate(0) translate(4 256)\">\n",
       "<title>%3</title>\n",
       "<polygon fill=\"#ffffff\" stroke=\"transparent\" points=\"-4,4 -4,-256 1045.4429,-256 1045.4429,4 -4,4\"/>\n",
       "<!-- Travel_Time -->\n",
       "<g id=\"node1\" class=\"node\">\n",
       "<title>Travel_Time</title>\n",
       "<ellipse fill=\"none\" stroke=\"#000000\" cx=\"79.7019\" cy=\"-90\" rx=\"58.4896\" ry=\"18\"/>\n",
       "<text text-anchor=\"middle\" x=\"79.7019\" y=\"-86.3\" font-family=\"Times,serif\" font-size=\"14.00\" fill=\"#000000\">Travel_Time</text>\n",
       "</g>\n",
       "<!-- Mode_Choice -->\n",
       "<g id=\"node2\" class=\"node\">\n",
       "<title>Mode_Choice</title>\n",
       "<ellipse fill=\"none\" stroke=\"#000000\" cx=\"326.7019\" cy=\"-18\" rx=\"62.2891\" ry=\"18\"/>\n",
       "<text text-anchor=\"middle\" x=\"326.7019\" y=\"-14.3\" font-family=\"Times,serif\" font-size=\"14.00\" fill=\"#000000\">Mode_Choice</text>\n",
       "</g>\n",
       "<!-- Travel_Time&#45;&gt;Mode_Choice -->\n",
       "<g id=\"edge1\" class=\"edge\">\n",
       "<title>Travel_Time&#45;&gt;Mode_Choice</title>\n",
       "<path fill=\"none\" stroke=\"#000000\" d=\"M122.444,-77.5408C164.1223,-65.3916 227.652,-46.8728 272.7818,-33.7176\"/>\n",
       "<polygon fill=\"#000000\" stroke=\"#000000\" points=\"273.782,-37.0718 282.4029,-30.9131 271.8229,-30.3515 273.782,-37.0718\"/>\n",
       "</g>\n",
       "<!-- Travel_Cost -->\n",
       "<g id=\"node3\" class=\"node\">\n",
       "<title>Travel_Cost</title>\n",
       "<ellipse fill=\"none\" stroke=\"#000000\" cx=\"249.7019\" cy=\"-90\" rx=\"55.7903\" ry=\"18\"/>\n",
       "<text text-anchor=\"middle\" x=\"249.7019\" y=\"-86.3\" font-family=\"Times,serif\" font-size=\"14.00\" fill=\"#000000\">Travel_Cost</text>\n",
       "</g>\n",
       "<!-- Travel_Cost&#45;&gt;Mode_Choice -->\n",
       "<g id=\"edge6\" class=\"edge\">\n",
       "<title>Travel_Cost&#45;&gt;Mode_Choice</title>\n",
       "<path fill=\"none\" stroke=\"#000000\" d=\"M267.9498,-72.937C277.6837,-63.8352 289.8321,-52.4756 300.5519,-42.4519\"/>\n",
       "<polygon fill=\"#000000\" stroke=\"#000000\" points=\"303.1363,-44.8271 308.05,-35.4407 298.3553,-39.7142 303.1363,-44.8271\"/>\n",
       "</g>\n",
       "<!-- Travel_Distance -->\n",
       "<g id=\"node4\" class=\"node\">\n",
       "<title>Travel_Distance</title>\n",
       "<ellipse fill=\"none\" stroke=\"#000000\" cx=\"165.7019\" cy=\"-162\" rx=\"70.6878\" ry=\"18\"/>\n",
       "<text text-anchor=\"middle\" x=\"165.7019\" y=\"-158.3\" font-family=\"Times,serif\" font-size=\"14.00\" fill=\"#000000\">Travel_Distance</text>\n",
       "</g>\n",
       "<!-- Travel_Distance&#45;&gt;Travel_Time -->\n",
       "<g id=\"edge3\" class=\"edge\">\n",
       "<title>Travel_Distance&#45;&gt;Travel_Time</title>\n",
       "<path fill=\"none\" stroke=\"#000000\" d=\"M144.8837,-144.5708C133.8168,-135.3055 120.0505,-123.7802 108.0246,-113.7121\"/>\n",
       "<polygon fill=\"#000000\" stroke=\"#000000\" points=\"109.946,-110.756 100.0316,-107.0202 105.4524,-116.1233 109.946,-110.756\"/>\n",
       "</g>\n",
       "<!-- Travel_Distance&#45;&gt;Mode_Choice -->\n",
       "<g id=\"edge2\" class=\"edge\">\n",
       "<title>Travel_Distance&#45;&gt;Mode_Choice</title>\n",
       "<path fill=\"none\" stroke=\"#000000\" d=\"M164.7055,-143.919C164.5953,-124.0053 167.468,-92.1427 184.7019,-72 203.9438,-49.5103 233.6021,-36.3612 260.8472,-28.6852\"/>\n",
       "<polygon fill=\"#000000\" stroke=\"#000000\" points=\"261.9614,-32.0117 270.752,-26.0976 260.192,-25.239 261.9614,-32.0117\"/>\n",
       "</g>\n",
       "<!-- Travel_Distance&#45;&gt;Travel_Cost -->\n",
       "<g id=\"edge4\" class=\"edge\">\n",
       "<title>Travel_Distance&#45;&gt;Travel_Cost</title>\n",
       "<path fill=\"none\" stroke=\"#000000\" d=\"M186.0359,-144.5708C196.8454,-135.3055 210.2916,-123.7802 222.0378,-113.7121\"/>\n",
       "<polygon fill=\"#000000\" stroke=\"#000000\" points=\"224.5301,-116.1856 229.8449,-107.0202 219.9745,-110.8708 224.5301,-116.1856\"/>\n",
       "</g>\n",
       "<!-- Cross_Bay_Bridge -->\n",
       "<g id=\"node6\" class=\"node\">\n",
       "<title>Cross_Bay_Bridge</title>\n",
       "<ellipse fill=\"none\" stroke=\"#000000\" cx=\"403.7019\" cy=\"-90\" rx=\"79.8859\" ry=\"18\"/>\n",
       "<text text-anchor=\"middle\" x=\"403.7019\" y=\"-86.3\" font-family=\"Times,serif\" font-size=\"14.00\" fill=\"#000000\">Cross_Bay_Bridge</text>\n",
       "</g>\n",
       "<!-- Travel_Distance&#45;&gt;Cross_Bay_Bridge -->\n",
       "<g id=\"edge5\" class=\"edge\">\n",
       "<title>Travel_Distance&#45;&gt;Cross_Bay_Bridge</title>\n",
       "<path fill=\"none\" stroke=\"#000000\" d=\"M211.3091,-148.2029C249.671,-136.5976 304.7277,-119.9418 346.1233,-107.4187\"/>\n",
       "<polygon fill=\"#000000\" stroke=\"#000000\" points=\"347.2421,-110.737 355.8002,-104.4913 345.2151,-104.0369 347.2421,-110.737\"/>\n",
       "</g>\n",
       "<!-- Gender -->\n",
       "<g id=\"node5\" class=\"node\">\n",
       "<title>Gender</title>\n",
       "<ellipse fill=\"none\" stroke=\"#000000\" cx=\"539.7019\" cy=\"-90\" rx=\"37.8943\" ry=\"18\"/>\n",
       "<text text-anchor=\"middle\" x=\"539.7019\" y=\"-86.3\" font-family=\"Times,serif\" font-size=\"14.00\" fill=\"#000000\">Gender</text>\n",
       "</g>\n",
       "<!-- Gender&#45;&gt;Mode_Choice -->\n",
       "<g id=\"edge12\" class=\"edge\">\n",
       "<title>Gender&#45;&gt;Mode_Choice</title>\n",
       "<path fill=\"none\" stroke=\"#000000\" d=\"M510.4538,-78.5329C504.5946,-76.3109 498.4678,-74.0405 492.7019,-72 455.0299,-58.6687 412.1255,-44.7443 379.3733,-34.3746\"/>\n",
       "<polygon fill=\"#000000\" stroke=\"#000000\" points=\"380.1415,-30.947 369.5518,-31.2751 378.0348,-37.6224 380.1415,-30.947\"/>\n",
       "</g>\n",
       "<!-- Cross_Bay_Bridge&#45;&gt;Mode_Choice -->\n",
       "<g id=\"edge7\" class=\"edge\">\n",
       "<title>Cross_Bay_Bridge&#45;&gt;Mode_Choice</title>\n",
       "<path fill=\"none\" stroke=\"#000000\" d=\"M384.6682,-72.2022C374.9922,-63.1546 363.0902,-52.0255 352.5937,-42.2105\"/>\n",
       "<polygon fill=\"#000000\" stroke=\"#000000\" points=\"354.9457,-39.6181 345.2509,-35.3446 350.1647,-44.731 354.9457,-39.6181\"/>\n",
       "</g>\n",
       "<!-- Autos_per_licensed_drivers -->\n",
       "<g id=\"node7\" class=\"node\">\n",
       "<title>Autos_per_licensed_drivers</title>\n",
       "<ellipse fill=\"none\" stroke=\"#000000\" cx=\"708.7019\" cy=\"-90\" rx=\"113.18\" ry=\"18\"/>\n",
       "<text text-anchor=\"middle\" x=\"708.7019\" y=\"-86.3\" font-family=\"Times,serif\" font-size=\"14.00\" fill=\"#000000\">Autos_per_licensed_drivers</text>\n",
       "</g>\n",
       "<!-- Autos_per_licensed_drivers&#45;&gt;Mode_Choice -->\n",
       "<g id=\"edge11\" class=\"edge\">\n",
       "<title>Autos_per_licensed_drivers&#45;&gt;Mode_Choice</title>\n",
       "<path fill=\"none\" stroke=\"#000000\" d=\"M635.5004,-76.2029C564.0997,-62.7451 456.6664,-42.4959 389.1758,-29.7752\"/>\n",
       "<polygon fill=\"#000000\" stroke=\"#000000\" points=\"389.5833,-26.2904 379.108,-27.8776 388.2867,-33.1693 389.5833,-26.2904\"/>\n",
       "</g>\n",
       "<!-- num_of_kids_household -->\n",
       "<g id=\"node8\" class=\"node\">\n",
       "<title>num_of_kids_household</title>\n",
       "<ellipse fill=\"none\" stroke=\"#000000\" cx=\"940.7019\" cy=\"-90\" rx=\"100.9827\" ry=\"18\"/>\n",
       "<text text-anchor=\"middle\" x=\"940.7019\" y=\"-86.3\" font-family=\"Times,serif\" font-size=\"14.00\" fill=\"#000000\">num_of_kids_household</text>\n",
       "</g>\n",
       "<!-- num_of_kids_household&#45;&gt;Mode_Choice -->\n",
       "<g id=\"edge10\" class=\"edge\">\n",
       "<title>num_of_kids_household&#45;&gt;Mode_Choice</title>\n",
       "<path fill=\"none\" stroke=\"#000000\" d=\"M868.0085,-77.5207C855.5799,-75.5545 842.7831,-73.6344 830.7019,-72 676.1477,-51.0914 494.0336,-33.2518 396.5929,-24.2529\"/>\n",
       "<polygon fill=\"#000000\" stroke=\"#000000\" points=\"396.8495,-20.7619 386.5709,-23.331 396.2083,-27.7324 396.8495,-20.7619\"/>\n",
       "</g>\n",
       "<!-- HH_Size -->\n",
       "<g id=\"node9\" class=\"node\">\n",
       "<title>HH_Size</title>\n",
       "<ellipse fill=\"none\" stroke=\"#000000\" cx=\"79.7019\" cy=\"-234\" rx=\"44.393\" ry=\"18\"/>\n",
       "<text text-anchor=\"middle\" x=\"79.7019\" y=\"-230.3\" font-family=\"Times,serif\" font-size=\"14.00\" fill=\"#000000\">HH_Size</text>\n",
       "</g>\n",
       "<!-- HH_Size&#45;&gt;Mode_Choice -->\n",
       "<g id=\"edge8\" class=\"edge\">\n",
       "<title>HH_Size&#45;&gt;Mode_Choice</title>\n",
       "<path fill=\"none\" stroke=\"#000000\" d=\"M62.1725,-217.066C31.5611,-185.4676 -24.9546,-116.6852 12.7019,-72 28.3239,-53.462 169.8007,-34.9903 257.4355,-25.1875\"/>\n",
       "<polygon fill=\"#000000\" stroke=\"#000000\" points=\"258.0264,-28.6435 267.5806,-24.0644 257.2562,-21.686 258.0264,-28.6435\"/>\n",
       "</g>\n",
       "<!-- HH_Size&#45;&gt;Travel_Distance -->\n",
       "<g id=\"edge9\" class=\"edge\">\n",
       "<title>HH_Size&#45;&gt;Travel_Distance</title>\n",
       "<path fill=\"none\" stroke=\"#000000\" d=\"M99.2166,-217.6621C110.4368,-208.2684 124.7344,-196.2983 137.1938,-185.8672\"/>\n",
       "<polygon fill=\"#000000\" stroke=\"#000000\" points=\"139.6443,-188.3803 145.0651,-179.2773 135.1507,-183.013 139.6443,-188.3803\"/>\n",
       "</g>\n",
       "</g>\n",
       "</svg>\n"
      ],
      "text/plain": [
       "<graphviz.dot.Digraph at 0x7fab3b83cd30>"
      ]
     },
     "execution_count": 7,
     "metadata": {},
     "output_type": "execute_result"
    }
   ],
   "source": [
    "## Specify the true causal graph used in the simulation of the choices\n",
    "\n",
    "causal_graph = CausalGraphicalModel(\n",
    "    nodes=[\"Travel_Time\", \"Travel_Distance\", \"Travel_Cost\", \"Cross_Bay_Bridge\", \"HH_Size\", \"num_of_kids_household\",\n",
    "          \"Autos_per_licensed_drivers\", \"Gender\", \"Mode_Choice\"],\n",
    "    edges=[\n",
    "        (\"Travel_Time\", \"Mode_Choice\"), \n",
    "        (\"Travel_Distance\", \"Mode_Choice\"), \n",
    "        (\"Travel_Cost\", \"Mode_Choice\"), \n",
    "        (\"Cross_Bay_Bridge\", \"Mode_Choice\"), \n",
    "        (\"HH_Size\", \"Mode_Choice\"), \n",
    "        (\"num_of_kids_household\", \"Mode_Choice\"), \n",
    "        (\"Autos_per_licensed_drivers\", \"Mode_Choice\"), \n",
    "        (\"Gender\", \"Mode_Choice\"), \n",
    "        \n",
    "        \n",
    "        (\"Travel_Distance\", \"Travel_Time\"), \n",
    "        (\"Travel_Distance\", \"Travel_Cost\"), \n",
    "        (\"Travel_Distance\", \"Cross_Bay_Bridge\"), \n",
    "        (\"HH_Size\", \"Travel_Distance\"), \n",
    "\n",
    "        \n",
    "        \n",
    "#         (\"Travel_Time\", \"Mode_Choice\"), \n",
    "#         (\"Travel_Time\", \"Mode_Choice\"), \n",
    "\n",
    "        \n",
    "        \n",
    "    ]\n",
    ")\n",
    "\n",
    "# draw return a graphviz `dot` object, which jupyter can render\n",
    "causal_graph.draw()"
   ]
  },
  {
   "cell_type": "markdown",
   "metadata": {},
   "source": [
    "# MNL specification"
   ]
  },
  {
   "cell_type": "code",
   "execution_count": 8,
   "metadata": {},
   "outputs": [],
   "source": [
    "## Below is the specification of the true model used in the simulation of the choices\n",
    "\n",
    "mnl_specification = OrderedDict()\n",
    "mnl_names = OrderedDict()\n",
    "\n",
    "mnl_specification[\"intercept\"] = [2, 3, 4, 5, 6, 7, 8]\n",
    "mnl_names[\"intercept\"] = ['ASC Shared Ride: 2',\n",
    "                          'ASC Shared Ride: 3+',\n",
    "                          'ASC Walk-Transit-Walk',\n",
    "                          'ASC Drive-Transit-Walk',\n",
    "                          'ASC Walk-Transit-Drive',\n",
    "                          'ASC Walk',\n",
    "                          'ASC Bike']\n",
    "\n",
    "mnl_specification[\"total_travel_time\"] = [1, 2, 3, [4, 5, 6]]\n",
    "mnl_names[\"total_travel_time\"] = ['Travel Time, units:min (Drive Alone)',\n",
    "                                  'Travel Time, units:min (SharedRide-2)',\n",
    "                                  'Travel Time, units:min (SharedRide-3+)',\n",
    "                                  'Travel Time, units:min (All Transit Modes)']\n",
    "\n",
    "mnl_specification[\"total_travel_cost\"] = [1, 2, 3, [4, 5, 6]]\n",
    "mnl_names[\"total_travel_cost\"] = ['Travel Cost, units:$ (Drive Alone)',\n",
    "                                  'Travel Cost, units:$ (SharedRide-2)',\n",
    "                                  'Travel Cost, units:$ (SharedRide-3+)',\n",
    "                                  'Travel Cost, units:$ (All Transit Modes)']\n",
    "\n",
    "\n",
    "mnl_specification[\"cars_per_licensed_drivers\"] = [[1, 2, 3]]\n",
    "mnl_names[\"cars_per_licensed_drivers\"] = [\"Autos per licensed drivers (All Auto Modes)\"]\n",
    "\n",
    "mnl_specification[\"total_travel_distance\"] = [1, 2, 3, 7, 8]\n",
    "mnl_names[\"total_travel_distance\"] = ['Travel Distance, units:mi (Drive Alone)',\n",
    "                                      'Travel Distance, units:mi (SharedRide-2)',\n",
    "                                      'Travel Distance, units:mi (SharedRide-3+)',\n",
    "                                      'Travel Distance, units:mi (Walk)',\n",
    "                                      'Travel Distance, units:mi (Bike)']\n",
    "\n",
    "mnl_specification[\"cross_bay\"] = [[2, 3]]\n",
    "mnl_names[\"cross_bay\"] = [\"Cross-Bay Tour (Shared Ride 2 & 3+)\"]\n",
    "\n",
    "mnl_specification[\"household_size\"] = [[2, 3]]\n",
    "mnl_names[\"household_size\"] = ['Household Size (Shared Ride 2 & 3+)']\n",
    "\n",
    "mnl_specification[\"num_kids\"] = [[2, 3]]\n",
    "mnl_names[\"num_kids\"] = [\"Number of Kids in Household (Shared Ride 2 & 3+)\"]"
   ]
  },
  {
   "cell_type": "markdown",
   "metadata": {},
   "source": [
    "# Recovering the confounder: The deconfounder algorithm"
   ]
  },
  {
   "cell_type": "markdown",
   "metadata": {},
   "source": [
    "## First approach: using all the variables in the factor model\n",
    "\n",
    "Using this approach, we use all the variables in each mode's utility specification to recover the confounder, in line with Blei et al.'s approach in their paper."
   ]
  },
  {
   "cell_type": "code",
   "execution_count": 9,
   "metadata": {},
   "outputs": [
    {
     "data": {
      "text/plain": [
       "{1: ['total_travel_time',\n",
       "  'total_travel_cost',\n",
       "  'cars_per_licensed_drivers',\n",
       "  'total_travel_distance'],\n",
       " 2: ['intercept',\n",
       "  'total_travel_time',\n",
       "  'total_travel_cost',\n",
       "  'cars_per_licensed_drivers',\n",
       "  'total_travel_distance',\n",
       "  'cross_bay',\n",
       "  'household_size',\n",
       "  'num_kids'],\n",
       " 3: ['intercept',\n",
       "  'total_travel_time',\n",
       "  'total_travel_cost',\n",
       "  'cars_per_licensed_drivers',\n",
       "  'total_travel_distance',\n",
       "  'cross_bay',\n",
       "  'household_size',\n",
       "  'num_kids'],\n",
       " 4: ['intercept', 'total_travel_time', 'total_travel_cost'],\n",
       " 5: ['intercept', 'total_travel_time', 'total_travel_cost'],\n",
       " 6: ['intercept', 'total_travel_time', 'total_travel_cost'],\n",
       " 7: ['intercept', 'total_travel_distance'],\n",
       " 8: ['intercept', 'total_travel_distance']}"
      ]
     },
     "execution_count": 9,
     "metadata": {},
     "output_type": "execute_result"
    }
   ],
   "source": [
    "## Return the variables of each utility specification\n",
    "\n",
    "spec_dic = specifications(mnl_specification=mnl_specification, num_modes=8)\n",
    "spec_dic"
   ]
  },
  {
   "cell_type": "code",
   "execution_count": 10,
   "metadata": {
    "scrolled": true
   },
   "outputs": [
    {
     "name": "stdout",
     "output_type": "stream",
     "text": [
      "Analysis for mode:  1\n",
      "-------------------------------------------------------------------------------------------\n",
      "1 ['total_travel_time', 'total_travel_cost', 'cars_per_licensed_drivers']\n",
      "WARNING:tensorflow:From /Users/hassanobeid/UC_Berkeley/PhD/Causality_Research/Github/tr_b_causal_2020/notebooks/working/factor_models.py:167: The name tf.train.AdamOptimizer is deprecated. Please use tf.compat.v1.train.AdamOptimizer instead.\n",
      "\n"
     ]
    },
    {
     "name": "stderr",
     "output_type": "stream",
     "text": [
      "/Users/hassanobeid/UC_Berkeley/PhD/Causality_Research/Github/tr_b_causal_2020/notebooks/working/factor_models.py:120: UserWarning: tfp.edward2 module is deprecated and will be removed on 2019-12-01. Use https://github.com/google/edward2 library instead.\n",
      "  log_joint = ed.make_log_joint_fn(ppca_model)\n"
     ]
    },
    {
     "name": "stdout",
     "output_type": "stream",
     "text": [
      "WARNING:tensorflow:From /Users/hassanobeid/UC_Berkeley/PhD/Causality_Research/Github/tr_b_causal_2020/notebooks/working/factor_models.py:170: The name tf.global_variables_initializer is deprecated. Please use tf.compat.v1.global_variables_initializer instead.\n",
      "\n",
      "WARNING:tensorflow:From /Users/hassanobeid/UC_Berkeley/PhD/Causality_Research/Github/tr_b_causal_2020/notebooks/working/factor_models.py:176: The name tf.Session is deprecated. Please use tf.compat.v1.Session instead.\n",
      "\n",
      "Inferred axes:\n",
      "[[1.1188279  1.1279155  0.16577987]]\n",
      "Standard Deviation:\n",
      "[[0.00603555 0.00869879 0.00568179]]\n"
     ]
    },
    {
     "data": {
      "image/png": "[encoded data removed]",
      "text/plain": [
       "<Figure size 432x288 with 1 Axes>"
      ]
     },
     "metadata": {
      "needs_background": "light"
     },
     "output_type": "display_data"
    },
    {
     "name": "stdout",
     "output_type": "stream",
     "text": [
      "Analysis for mode:  2\n",
      "-------------------------------------------------------------------------------------------\n",
      "2 ['total_travel_time', 'total_travel_cost', 'cars_per_licensed_drivers', 'cross_bay', 'household_size', 'num_kids']\n",
      "Inferred axes:\n",
      "[[ 1.154461    1.1547159   0.07762979  0.13248192 -0.03032932  0.09385383]]\n",
      "Standard Deviation:\n",
      "[[0.00616601 0.00715633 0.00693237 0.00594964 0.00673051 0.00658556]]\n"
     ]
    },
    {
     "data": {
      "image/png": "[encoded data removed]",
      "text/plain": [
       "<Figure size 432x288 with 1 Axes>"
      ]
     },
     "metadata": {
      "needs_background": "light"
     },
     "output_type": "display_data"
    },
    {
     "name": "stdout",
     "output_type": "stream",
     "text": [
      "Analysis for mode:  3\n",
      "-------------------------------------------------------------------------------------------\n",
      "3 ['total_travel_time', 'total_travel_cost', 'cars_per_licensed_drivers', 'cross_bay', 'household_size', 'num_kids']\n",
      "Inferred axes:\n",
      "[[1.2092949  1.2047426  0.07479126 0.14862798 0.08618771 0.05472865]]\n",
      "Standard Deviation:\n",
      "[[0.00704566 0.00783608 0.00646713 0.00658876 0.00656531 0.00591575]]\n"
     ]
    },
    {
     "data": {
      "image/png": "[encoded data removed]",
      "text/plain": [
       "<Figure size 432x288 with 1 Axes>"
      ]
     },
     "metadata": {
      "needs_background": "light"
     },
     "output_type": "display_data"
    },
    {
     "name": "stdout",
     "output_type": "stream",
     "text": [
      "Analysis for mode:  4\n",
      "-------------------------------------------------------------------------------------------\n",
      "4 ['total_travel_time', 'total_travel_cost']\n",
      "Inferred axes:\n",
      "[[2.4502637 2.6245027]]\n",
      "Standard Deviation:\n",
      "[[0.0113771  0.01088986]]\n"
     ]
    },
    {
     "data": {
      "image/png": "[encoded data removed]",
      "text/plain": [
       "<Figure size 432x288 with 1 Axes>"
      ]
     },
     "metadata": {
      "needs_background": "light"
     },
     "output_type": "display_data"
    },
    {
     "name": "stdout",
     "output_type": "stream",
     "text": [
      "Analysis for mode:  5\n",
      "-------------------------------------------------------------------------------------------\n",
      "5 ['total_travel_time', 'total_travel_cost']\n",
      "Inferred axes:\n",
      "[[0.8907229 0.8953306]]\n",
      "Standard Deviation:\n",
      "[[0.00423048 0.00584168]]\n"
     ]
    },
    {
     "data": {
      "image/png": "[encoded data removed]",
      "text/plain": [
       "<Figure size 432x288 with 1 Axes>"
      ]
     },
     "metadata": {
      "needs_background": "light"
     },
     "output_type": "display_data"
    },
    {
     "name": "stdout",
     "output_type": "stream",
     "text": [
      "Analysis for mode:  6\n",
      "-------------------------------------------------------------------------------------------\n",
      "6 ['total_travel_time', 'total_travel_cost']\n",
      "Inferred axes:\n",
      "[[0.8792295  0.87039673]]\n",
      "Standard Deviation:\n",
      "[[0.00708745 0.00562549]]\n"
     ]
    },
    {
     "data": {
      "image/png": "[encoded data removed]",
      "text/plain": [
       "<Figure size 432x288 with 1 Axes>"
      ]
     },
     "metadata": {
      "needs_background": "light"
     },
     "output_type": "display_data"
    },
    {
     "name": "stdout",
     "output_type": "stream",
     "text": [
      "Analysis for mode:  7\n",
      "-------------------------------------------------------------------------------------------\n",
      "7 []\n",
      "Inferred axes:\n",
      "[]\n",
      "Standard Deviation:\n",
      "[]\n"
     ]
    },
    {
     "data": {
      "image/png": "[encoded data removed]",
      "text/plain": [
       "<Figure size 432x288 with 1 Axes>"
      ]
     },
     "metadata": {
      "needs_background": "light"
     },
     "output_type": "display_data"
    },
    {
     "name": "stdout",
     "output_type": "stream",
     "text": [
      "Analysis for mode:  8\n",
      "-------------------------------------------------------------------------------------------\n",
      "8 []\n",
      "Inferred axes:\n",
      "[]\n",
      "Standard Deviation:\n",
      "[]\n"
     ]
    },
    {
     "data": {
      "image/png": "[encoded data removed]",
      "text/plain": [
       "<Figure size 432x288 with 1 Axes>"
      ]
     },
     "metadata": {
      "needs_background": "light"
     },
     "output_type": "display_data"
    }
   ],
   "source": [
    "confounder_vectors = []\n",
    "holdout_dfs = []\n",
    "masks_df = []\n",
    "rows_df =[]\n",
    "latent_dim = 1\n",
    "for i in data['mode_id'].unique():\n",
    "\n",
    "    data_mode_i = data[data['mode_id']==i]\n",
    "    # standardize the data for PPCA\n",
    "    print(\"Analysis for mode: \", i)\n",
    "    print(\"-------------------------------------------------------------------------------------------\")\n",
    "    X_columns = spec_dic[i]\n",
    "    \n",
    "    if 'intercept' in X_columns:\n",
    "        X_columns.remove('intercept')\n",
    "        \n",
    "    if 'total_travel_distance' in X_columns:\n",
    "        X_columns.remove('total_travel_distance')\n",
    "        \n",
    "    print(i, X_columns)\n",
    "    \n",
    "    X = np.array((data_mode_i[X_columns] - data_mode_i[X_columns].mean())/data_mode_i[X_columns].std())\n",
    "    \n",
    "    confounders, holdouts, holdoutmasks, holdoutrow= confounder_ppca(holdout_portion=0.2, X=X, latent_dim=latent_dim)\n",
    "\n",
    "    confounder_vectors.append(confounders)\n",
    "    holdout_dfs.append(holdouts)\n",
    "    masks_df.append(holdoutmasks)\n",
    "    rows_df.append(holdoutrow)"
   ]
  },
  {
   "cell_type": "markdown",
   "metadata": {},
   "source": [
    "## Second approach: using only the confounded variables in the factor model\n",
    "Using this approach, we only run the deconfounder's factor model on travel_time and travel_cost, which are the only variables confounded with travel_distance in our simulation"
   ]
  },
  {
   "cell_type": "code",
   "execution_count": 11,
   "metadata": {
    "scrolled": true
   },
   "outputs": [
    {
     "name": "stdout",
     "output_type": "stream",
     "text": [
      "Analysis for mode:  1\n",
      "-------------------------------------------------------------------------------------------\n",
      "Inferred axes:\n",
      "[[0.9985927  0.99622416]]\n",
      "Standard Deviation:\n",
      "[[0.00558672 0.00639417]]\n"
     ]
    },
    {
     "data": {
      "image/png": "[encoded data removed]",
      "text/plain": [
       "<Figure size 432x288 with 1 Axes>"
      ]
     },
     "metadata": {
      "needs_background": "light"
     },
     "output_type": "display_data"
    },
    {
     "name": "stdout",
     "output_type": "stream",
     "text": [
      "Analysis for mode:  2\n",
      "-------------------------------------------------------------------------------------------\n",
      "Inferred axes:\n",
      "[[0.9957993 1.007792 ]]\n",
      "Standard Deviation:\n",
      "[[0.00689413 0.00703418]]\n"
     ]
    },
    {
     "data": {
      "image/png": "[encoded data removed]",
      "text/plain": [
       "<Figure size 432x288 with 1 Axes>"
      ]
     },
     "metadata": {
      "needs_background": "light"
     },
     "output_type": "display_data"
    },
    {
     "name": "stdout",
     "output_type": "stream",
     "text": [
      "Analysis for mode:  3\n",
      "-------------------------------------------------------------------------------------------\n",
      "Inferred axes:\n",
      "[[1.0317692 1.0295802]]\n",
      "Standard Deviation:\n",
      "[[0.00681185 0.00631682]]\n"
     ]
    },
    {
     "data": {
      "image/png": "[encoded data removed]",
      "text/plain": [
       "<Figure size 432x288 with 1 Axes>"
      ]
     },
     "metadata": {
      "needs_background": "light"
     },
     "output_type": "display_data"
    },
    {
     "name": "stdout",
     "output_type": "stream",
     "text": [
      "Analysis for mode:  4\n",
      "-------------------------------------------------------------------------------------------\n",
      "Inferred axes:\n",
      "[[3.0004904 2.9095385]]\n",
      "Standard Deviation:\n",
      "[[0.01240761 0.01645541]]\n"
     ]
    },
    {
     "data": {
      "image/png": "[encoded data removed]",
      "text/plain": [
       "<Figure size 432x288 with 1 Axes>"
      ]
     },
     "metadata": {
      "needs_background": "light"
     },
     "output_type": "display_data"
    },
    {
     "name": "stdout",
     "output_type": "stream",
     "text": [
      "Analysis for mode:  5\n",
      "-------------------------------------------------------------------------------------------\n",
      "Inferred axes:\n",
      "[[0.89138037 0.8852352 ]]\n",
      "Standard Deviation:\n",
      "[[0.00536822 0.00624325]]\n"
     ]
    },
    {
     "data": {
      "image/png": "[encoded data removed]",
      "text/plain": [
       "<Figure size 432x288 with 1 Axes>"
      ]
     },
     "metadata": {
      "needs_background": "light"
     },
     "output_type": "display_data"
    },
    {
     "name": "stdout",
     "output_type": "stream",
     "text": [
      "Analysis for mode:  6\n",
      "-------------------------------------------------------------------------------------------\n",
      "Inferred axes:\n",
      "[[0.8931428  0.88014746]]\n",
      "Standard Deviation:\n",
      "[[0.00637225 0.006016  ]]\n"
     ]
    },
    {
     "data": {
      "image/png": "[encoded data removed]",
      "text/plain": [
       "<Figure size 432x288 with 1 Axes>"
      ]
     },
     "metadata": {
      "needs_background": "light"
     },
     "output_type": "display_data"
    },
    {
     "name": "stdout",
     "output_type": "stream",
     "text": [
      "Analysis for mode:  7\n",
      "-------------------------------------------------------------------------------------------\n",
      "Inferred axes:\n",
      "[[nan nan]]\n",
      "Standard Deviation:\n",
      "[[nan nan]]\n"
     ]
    },
    {
     "data": {
      "image/png": "[encoded data removed]",
      "text/plain": [
       "<Figure size 432x288 with 1 Axes>"
      ]
     },
     "metadata": {
      "needs_background": "light"
     },
     "output_type": "display_data"
    },
    {
     "name": "stdout",
     "output_type": "stream",
     "text": [
      "Analysis for mode:  8\n",
      "-------------------------------------------------------------------------------------------\n",
      "Inferred axes:\n",
      "[[nan nan]]\n",
      "Standard Deviation:\n",
      "[[nan nan]]\n"
     ]
    },
    {
     "data": {
      "image/png": "[encoded data removed]",
      "text/plain": [
       "<Figure size 432x288 with 1 Axes>"
      ]
     },
     "metadata": {
      "needs_background": "light"
     },
     "output_type": "display_data"
    }
   ],
   "source": [
    "confounder_vectors_2 = []\n",
    "holdout_dfs_2 = []\n",
    "masks_df_2 = []\n",
    "rows_df_2 =[]\n",
    "latent_dim = 1\n",
    "\n",
    "confounded_variables = ['total_travel_time', 'total_travel_cost']\n",
    "for i in data['mode_id'].unique():\n",
    "\n",
    "    data_mode_i = data[data['mode_id']==i]\n",
    "    # standardize the data for PPCA\n",
    "    print(\"Analysis for mode: \", i)\n",
    "    print(\"-------------------------------------------------------------------------------------------\")\n",
    "    \n",
    "    X = np.array((data_mode_i[confounded_variables] - data_mode_i[confounded_variables].mean())/\n",
    "                 data_mode_i[confounded_variables].std())\n",
    "    \n",
    "    confounders, holdouts, holdoutmasks, holdoutrow= confounder_ppca(holdout_portion=0.2, X=X, latent_dim=latent_dim)\n",
    "\n",
    "    confounder_vectors_2.append(confounders)\n",
    "    holdout_dfs_2.append(holdouts)\n",
    "    masks_df_2.append(holdoutmasks)\n",
    "    rows_df_2.append(holdoutrow)"
   ]
  },
  {
   "cell_type": "markdown",
   "metadata": {},
   "source": [
    "## Adding confounders to original DF"
   ]
  },
  {
   "cell_type": "code",
   "execution_count": 12,
   "metadata": {},
   "outputs": [],
   "source": [
    "data['recovered_confounder_model_2']=add_confounders_to_df(data, \n",
    "                                                           confounder_vectors=confounder_vectors, \n",
    "                                                           mode_ids = [1,2,3], \n",
    "                                                           suffix = '_method_2')\n",
    "\n",
    "data['recovered_confounder_model_3']=add_confounders_to_df(data, \n",
    "                                                           confounder_vectors=confounder_vectors_2, \n",
    "                                                           mode_ids = [1,2,3], \n",
    "                                                           suffix = '_method_3')"
   ]
  },
  {
   "cell_type": "markdown",
   "metadata": {},
   "source": [
    "# Compare recovered confounder to actual confounder\n",
    "\n",
    "Notice here that although the recovered confounder correlates well with the true confounder, there is more noise in method 1 where we use all the variables in each utility to recover the confounder. Method 2 has less noise, but as we will see later in the notebook, this noise is still high enough that our estimates on travel_time and travel_cost will still be biased even after adjusting for the recovered confounder."
   ]
  },
  {
   "cell_type": "code",
   "execution_count": 13,
   "metadata": {
    "scrolled": false
   },
   "outputs": [
    {
     "name": "stderr",
     "output_type": "stream",
     "text": [
      "'c' argument looks like a single numeric RGB or RGBA sequence, which should be avoided as value-mapping will have precedence in case its length matches with 'x' & 'y'.  Please use a 2-D array with a single row if you really want to specify the same RGB or RGBA value for all points.\n",
      "'c' argument looks like a single numeric RGB or RGBA sequence, which should be avoided as value-mapping will have precedence in case its length matches with 'x' & 'y'.  Please use a 2-D array with a single row if you really want to specify the same RGB or RGBA value for all points.\n"
     ]
    },
    {
     "data": {
      "text/plain": [
       "<matplotlib.axes._subplots.AxesSubplot at 0x7fab42ff7b70>"
      ]
     },
     "execution_count": 13,
     "metadata": {},
     "output_type": "execute_result"
    },
    {
     "data": {
      "image/png": "[encoded data removed]",
      "text/plain": [
       "<Figure size 432x288 with 1 Axes>"
      ]
     },
     "metadata": {
      "needs_background": "light"
     },
     "output_type": "display_data"
    },
    {
     "data": {
      "image/png": "[encoded data removed]",
      "text/plain": [
       "<Figure size 432x288 with 1 Axes>"
      ]
     },
     "metadata": {
      "needs_background": "light"
     },
     "output_type": "display_data"
    }
   ],
   "source": [
    "data_da = data[data['mode_id']==1]\n",
    "\n",
    "data_da.plot.scatter('total_travel_distance', 'recovered_confounder_model_2')\n",
    "\n",
    "data_da.plot.scatter('total_travel_distance', 'recovered_confounder_model_3')"
   ]
  },
  {
   "cell_type": "markdown",
   "metadata": {},
   "source": [
    "## True Model"
   ]
  },
  {
   "cell_type": "code",
   "execution_count": 14,
   "metadata": {},
   "outputs": [
    {
     "name": "stdout",
     "output_type": "stream",
     "text": [
      "Log-likelihood at zero: -15,176.6986\n",
      "Initial Log-likelihood: -15,176.6986\n"
     ]
    },
    {
     "name": "stderr",
     "output_type": "stream",
     "text": [
      "/Users/hassanobeid/anaconda3/lib/python3.7/site-packages/pylogit/choice_tools.py:703: FutureWarning: arrays to stack must be passed as a \"sequence\" type such as list or tuple. Support for non-sequence iterables such as generators is deprecated as of NumPy 1.16 and will raise an error in the future.\n",
      "  design_matrix = np.hstack((x[:, None] for x in independent_vars))\n",
      "/Users/hassanobeid/anaconda3/lib/python3.7/site-packages/scipy/optimize/_minimize.py:506: RuntimeWarning: Method BFGS does not use Hessian information (hess).\n",
      "  RuntimeWarning)\n"
     ]
    },
    {
     "name": "stdout",
     "output_type": "stream",
     "text": [
      "Estimation Time for Point Estimation: 0.30 seconds.\n",
      "Final log-likelihood: -8,116.6614\n"
     ]
    },
    {
     "data": {
      "text/html": [
       "<table class=\"simpletable\">\n",
       "<caption>Multinomial Logit Model Regression Results</caption>\n",
       "<tr>\n",
       "  <th>Dep. Variable:</th>       <td>sim_choice</td>        <th>  No. Observations:  </th>    <td>8,000</td>   \n",
       "</tr>\n",
       "<tr>\n",
       "  <th>Model:</th>         <td>Multinomial Logit Model</td> <th>  Df Residuals:      </th>    <td>7,976</td>   \n",
       "</tr>\n",
       "<tr>\n",
       "  <th>Method:</th>                  <td>MLE</td>           <th>  Df Model:          </th>     <td>24</td>     \n",
       "</tr>\n",
       "<tr>\n",
       "  <th>Date:</th>             <td>Fri, 18 Dec 2020</td>     <th>  Pseudo R-squ.:     </th>    <td>0.465</td>   \n",
       "</tr>\n",
       "<tr>\n",
       "  <th>Time:</th>                 <td>18:23:11</td>         <th>  Pseudo R-bar-squ.: </th>    <td>0.464</td>   \n",
       "</tr>\n",
       "<tr>\n",
       "  <th>AIC:</th>                 <td>16,281.323</td>        <th>  Log-Likelihood:    </th> <td>-8,116.661</td> \n",
       "</tr>\n",
       "<tr>\n",
       "  <th>BIC:</th>                 <td>16,449.016</td>        <th>  LL-Null:           </th> <td>-15,176.699</td>\n",
       "</tr>\n",
       "</table>\n",
       "<table class=\"simpletable\">\n",
       "<tr>\n",
       "                          <td></td>                            <th>coef</th>     <th>std err</th>      <th>z</th>      <th>P>|z|</th>  <th>[0.025</th>    <th>0.975]</th>  \n",
       "</tr>\n",
       "<tr>\n",
       "  <th>ASC Shared Ride: 2</th>                               <td>   -1.4806</td> <td>    0.125</td> <td>  -11.831</td> <td> 0.000</td> <td>   -1.726</td> <td>   -1.235</td>\n",
       "</tr>\n",
       "<tr>\n",
       "  <th>ASC Shared Ride: 3+</th>                              <td>   -1.0591</td> <td>    0.135</td> <td>   -7.847</td> <td> 0.000</td> <td>   -1.324</td> <td>   -0.795</td>\n",
       "</tr>\n",
       "<tr>\n",
       "  <th>ASC Walk-Transit-Walk</th>                            <td>    0.9292</td> <td>    0.131</td> <td>    7.078</td> <td> 0.000</td> <td>    0.672</td> <td>    1.186</td>\n",
       "</tr>\n",
       "<tr>\n",
       "  <th>ASC Drive-Transit-Walk</th>                           <td>   -1.4083</td> <td>    0.145</td> <td>   -9.716</td> <td> 0.000</td> <td>   -1.692</td> <td>   -1.124</td>\n",
       "</tr>\n",
       "<tr>\n",
       "  <th>ASC Walk-Transit-Drive</th>                           <td>   -1.6138</td> <td>    0.150</td> <td>  -10.788</td> <td> 0.000</td> <td>   -1.907</td> <td>   -1.321</td>\n",
       "</tr>\n",
       "<tr>\n",
       "  <th>ASC Walk</th>                                         <td>    3.0480</td> <td>    0.135</td> <td>   22.606</td> <td> 0.000</td> <td>    2.784</td> <td>    3.312</td>\n",
       "</tr>\n",
       "<tr>\n",
       "  <th>ASC Bike</th>                                         <td>    0.2714</td> <td>    0.103</td> <td>    2.627</td> <td> 0.009</td> <td>    0.069</td> <td>    0.474</td>\n",
       "</tr>\n",
       "<tr>\n",
       "  <th>Travel Time, units:min (Drive Alone)</th>             <td>   -0.0844</td> <td>    0.005</td> <td>  -16.886</td> <td> 0.000</td> <td>   -0.094</td> <td>   -0.075</td>\n",
       "</tr>\n",
       "<tr>\n",
       "  <th>Travel Time, units:min (SharedRide-2)</th>            <td>   -0.0903</td> <td>    0.006</td> <td>  -14.750</td> <td> 0.000</td> <td>   -0.102</td> <td>   -0.078</td>\n",
       "</tr>\n",
       "<tr>\n",
       "  <th>Travel Time, units:min (SharedRide-3+)</th>           <td>   -0.1261</td> <td>    0.008</td> <td>  -16.050</td> <td> 0.000</td> <td>   -0.141</td> <td>   -0.111</td>\n",
       "</tr>\n",
       "<tr>\n",
       "  <th>Travel Time, units:min (All Transit Modes)</th>       <td>   -0.0297</td> <td>    0.002</td> <td>  -19.750</td> <td> 0.000</td> <td>   -0.033</td> <td>   -0.027</td>\n",
       "</tr>\n",
       "<tr>\n",
       "  <th>Travel Cost, units:$ (Drive Alone)</th>               <td>   -0.2292</td> <td>    0.026</td> <td>   -8.744</td> <td> 0.000</td> <td>   -0.281</td> <td>   -0.178</td>\n",
       "</tr>\n",
       "<tr>\n",
       "  <th>Travel Cost, units:$ (SharedRide-2)</th>              <td>   -0.4378</td> <td>    0.057</td> <td>   -7.636</td> <td> 0.000</td> <td>   -0.550</td> <td>   -0.325</td>\n",
       "</tr>\n",
       "<tr>\n",
       "  <th>Travel Cost, units:$ (SharedRide-3+)</th>             <td>   -0.7461</td> <td>    0.157</td> <td>   -4.749</td> <td> 0.000</td> <td>   -1.054</td> <td>   -0.438</td>\n",
       "</tr>\n",
       "<tr>\n",
       "  <th>Travel Cost, units:$ (All Transit Modes)</th>         <td>   -0.1180</td> <td>    0.019</td> <td>   -6.316</td> <td> 0.000</td> <td>   -0.155</td> <td>   -0.081</td>\n",
       "</tr>\n",
       "<tr>\n",
       "  <th>Autos per licensed drivers (All Auto Modes)</th>      <td>    1.3336</td> <td>    0.055</td> <td>   24.051</td> <td> 0.000</td> <td>    1.225</td> <td>    1.442</td>\n",
       "</tr>\n",
       "<tr>\n",
       "  <th>Travel Distance, units:mi (Drive Alone)</th>          <td>    0.1056</td> <td>    0.009</td> <td>   11.880</td> <td> 0.000</td> <td>    0.088</td> <td>    0.123</td>\n",
       "</tr>\n",
       "<tr>\n",
       "  <th>Travel Distance, units:mi (SharedRide-2)</th>         <td>    0.0637</td> <td>    0.011</td> <td>    5.689</td> <td> 0.000</td> <td>    0.042</td> <td>    0.086</td>\n",
       "</tr>\n",
       "<tr>\n",
       "  <th>Travel Distance, units:mi (SharedRide-3+)</th>        <td>    0.0359</td> <td>    0.017</td> <td>    2.057</td> <td> 0.040</td> <td>    0.002</td> <td>    0.070</td>\n",
       "</tr>\n",
       "<tr>\n",
       "  <th>Travel Distance, units:mi (Walk)</th>                 <td>   -1.0998</td> <td>    0.037</td> <td>  -30.075</td> <td> 0.000</td> <td>   -1.171</td> <td>   -1.028</td>\n",
       "</tr>\n",
       "<tr>\n",
       "  <th>Travel Distance, units:mi (Bike)</th>                 <td>   -0.3209</td> <td>    0.016</td> <td>  -20.290</td> <td> 0.000</td> <td>   -0.352</td> <td>   -0.290</td>\n",
       "</tr>\n",
       "<tr>\n",
       "  <th>Cross-Bay Tour (Shared Ride 2 & 3+)</th>              <td>    0.6706</td> <td>    0.123</td> <td>    5.459</td> <td> 0.000</td> <td>    0.430</td> <td>    0.911</td>\n",
       "</tr>\n",
       "<tr>\n",
       "  <th>Household Size (Shared Ride 2 & 3+)</th>              <td>    0.1142</td> <td>    0.022</td> <td>    5.194</td> <td> 0.000</td> <td>    0.071</td> <td>    0.157</td>\n",
       "</tr>\n",
       "<tr>\n",
       "  <th>Number of Kids in Household (Shared Ride 2 & 3+)</th> <td>    0.5737</td> <td>    0.026</td> <td>   21.827</td> <td> 0.000</td> <td>    0.522</td> <td>    0.625</td>\n",
       "</tr>\n",
       "</table>"
      ],
      "text/plain": [
       "<class 'statsmodels.iolib.summary.Summary'>\n",
       "\"\"\"\n",
       "                     Multinomial Logit Model Regression Results                    \n",
       "===================================================================================\n",
       "Dep. Variable:                  sim_choice   No. Observations:                8,000\n",
       "Model:             Multinomial Logit Model   Df Residuals:                    7,976\n",
       "Method:                                MLE   Df Model:                           24\n",
       "Date:                     Fri, 18 Dec 2020   Pseudo R-squ.:                   0.465\n",
       "Time:                             18:23:11   Pseudo R-bar-squ.:               0.464\n",
       "AIC:                            16,281.323   Log-Likelihood:             -8,116.661\n",
       "BIC:                            16,449.016   LL-Null:                   -15,176.699\n",
       "====================================================================================================================\n",
       "                                                       coef    std err          z      P>|z|      [0.025      0.975]\n",
       "--------------------------------------------------------------------------------------------------------------------\n",
       "ASC Shared Ride: 2                                  -1.4806      0.125    -11.831      0.000      -1.726      -1.235\n",
       "ASC Shared Ride: 3+                                 -1.0591      0.135     -7.847      0.000      -1.324      -0.795\n",
       "ASC Walk-Transit-Walk                                0.9292      0.131      7.078      0.000       0.672       1.186\n",
       "ASC Drive-Transit-Walk                              -1.4083      0.145     -9.716      0.000      -1.692      -1.124\n",
       "ASC Walk-Transit-Drive                              -1.6138      0.150    -10.788      0.000      -1.907      -1.321\n",
       "ASC Walk                                             3.0480      0.135     22.606      0.000       2.784       3.312\n",
       "ASC Bike                                             0.2714      0.103      2.627      0.009       0.069       0.474\n",
       "Travel Time, units:min (Drive Alone)                -0.0844      0.005    -16.886      0.000      -0.094      -0.075\n",
       "Travel Time, units:min (SharedRide-2)               -0.0903      0.006    -14.750      0.000      -0.102      -0.078\n",
       "Travel Time, units:min (SharedRide-3+)              -0.1261      0.008    -16.050      0.000      -0.141      -0.111\n",
       "Travel Time, units:min (All Transit Modes)          -0.0297      0.002    -19.750      0.000      -0.033      -0.027\n",
       "Travel Cost, units:$ (Drive Alone)                  -0.2292      0.026     -8.744      0.000      -0.281      -0.178\n",
       "Travel Cost, units:$ (SharedRide-2)                 -0.4378      0.057     -7.636      0.000      -0.550      -0.325\n",
       "Travel Cost, units:$ (SharedRide-3+)                -0.7461      0.157     -4.749      0.000      -1.054      -0.438\n",
       "Travel Cost, units:$ (All Transit Modes)            -0.1180      0.019     -6.316      0.000      -0.155      -0.081\n",
       "Autos per licensed drivers (All Auto Modes)          1.3336      0.055     24.051      0.000       1.225       1.442\n",
       "Travel Distance, units:mi (Drive Alone)              0.1056      0.009     11.880      0.000       0.088       0.123\n",
       "Travel Distance, units:mi (SharedRide-2)             0.0637      0.011      5.689      0.000       0.042       0.086\n",
       "Travel Distance, units:mi (SharedRide-3+)            0.0359      0.017      2.057      0.040       0.002       0.070\n",
       "Travel Distance, units:mi (Walk)                    -1.0998      0.037    -30.075      0.000      -1.171      -1.028\n",
       "Travel Distance, units:mi (Bike)                    -0.3209      0.016    -20.290      0.000      -0.352      -0.290\n",
       "Cross-Bay Tour (Shared Ride 2 & 3+)                  0.6706      0.123      5.459      0.000       0.430       0.911\n",
       "Household Size (Shared Ride 2 & 3+)                  0.1142      0.022      5.194      0.000       0.071       0.157\n",
       "Number of Kids in Household (Shared Ride 2 & 3+)     0.5737      0.026     21.827      0.000       0.522       0.625\n",
       "====================================================================================================================\n",
       "\"\"\""
      ]
     },
     "execution_count": 14,
     "metadata": {},
     "output_type": "execute_result"
    }
   ],
   "source": [
    "# Estimate the basic MNL model, using the hessian and newton-conjugate gradient\n",
    "mnl_model = cm.create_choice_model(data=data,\n",
    "                                   alt_id_col=\"mode_id\",\n",
    "                                   obs_id_col=\"observation_id\",\n",
    "                                   choice_col=\"sim_choice\",\n",
    "                                   specification=mnl_specification,\n",
    "                                   model_type=\"MNL\",\n",
    "                                   names=mnl_names)\n",
    "\n",
    "num_vars = len(reduce(lambda x, y: x + y, mnl_names.values()))\n",
    "mnl_model.fit_mle(np.zeros(num_vars),\n",
    "                  method=\"BFGS\")\n",
    "mnl_model.get_statsmodels_summary()"
   ]
  },
  {
   "cell_type": "markdown",
   "metadata": {},
   "source": [
    "## Model 1"
   ]
  },
  {
   "cell_type": "code",
   "execution_count": 15,
   "metadata": {},
   "outputs": [],
   "source": [
    "# Create my specification and variable names for the basic MNL model\n",
    "# NOTE: - Keys should be variables within the long format dataframe.\n",
    "#         The sole exception to this is the \"intercept\" key.\n",
    "#       - For the specification dictionary, the values should be lists\n",
    "#         or lists of lists. Within a list, or within the inner-most\n",
    "#         list should be the alternative ID's of the alternative whose\n",
    "#         utility specification the explanatory variable is entering.\n",
    "\n",
    "mnl_specification_noncausal = OrderedDict()\n",
    "mnl_names_noncausal = OrderedDict()\n",
    "\n",
    "mnl_specification_noncausal[\"intercept\"] = [2, 3, 4, 5, 6, 7, 8]\n",
    "mnl_names_noncausal[\"intercept\"] = ['ASC Shared Ride: 2',\n",
    "                          'ASC Shared Ride: 3+',\n",
    "                          'ASC Walk-Transit-Walk',\n",
    "                          'ASC Drive-Transit-Walk',\n",
    "                          'ASC Walk-Transit-Drive',\n",
    "                          'ASC Walk',\n",
    "                          'ASC Bike']\n",
    "\n",
    "mnl_specification_noncausal[\"total_travel_time\"] = [1, 2, 3, [4, 5, 6]]\n",
    "mnl_names_noncausal[\"total_travel_time\"] = ['Travel Time, units:min (Drive Alone)',\n",
    "                                  'Travel Time, units:min (SharedRide-2)',\n",
    "                                  'Travel Time, units:min (SharedRide-3+)',\n",
    "                                  'Travel Time, units:min (All Transit Modes)']\n",
    "\n",
    "mnl_specification_noncausal[\"total_travel_cost\"] = [1, 2, 3, [4, 5, 6]]\n",
    "mnl_names_noncausal[\"total_travel_cost\"] = ['Travel Cost, units:$ (Drive Alone)',\n",
    "                                  'Travel Cost, units:$ (SharedRide-2)',\n",
    "                                  'Travel Cost, units:$ (SharedRide-3+)',\n",
    "                                  'Travel Cost, units:$ (All Transit Modes)']\n",
    "\n",
    "mnl_specification_noncausal[\"cars_per_licensed_drivers\"] = [[1, 2, 3]]\n",
    "mnl_names_noncausal[\"cars_per_licensed_drivers\"] = [\"Autos per licensed drivers (All Auto Modes)\"]\n",
    "\n",
    "mnl_specification_noncausal[\"cross_bay\"] = [[2, 3]]\n",
    "mnl_names_noncausal[\"cross_bay\"] = [\"Cross-Bay Tour (Shared Ride 2 & 3+)\"]\n",
    "\n",
    "mnl_specification_noncausal[\"household_size\"] = [[2, 3]]\n",
    "mnl_names_noncausal[\"household_size\"] = ['Household Size (Shared Ride 2 & 3+)']\n",
    "\n",
    "mnl_specification_noncausal[\"num_kids\"] = [[2, 3]]\n",
    "mnl_names_noncausal[\"num_kids\"] = [\"Number of Kids in Household (Shared Ride 2 & 3+)\"]"
   ]
  },
  {
   "cell_type": "code",
   "execution_count": 16,
   "metadata": {},
   "outputs": [
    {
     "name": "stdout",
     "output_type": "stream",
     "text": [
      "Log-likelihood at zero: -15,176.6986\n",
      "Initial Log-likelihood: -15,176.6986\n"
     ]
    },
    {
     "name": "stderr",
     "output_type": "stream",
     "text": [
      "/Users/hassanobeid/anaconda3/lib/python3.7/site-packages/pylogit/choice_tools.py:703: FutureWarning: arrays to stack must be passed as a \"sequence\" type such as list or tuple. Support for non-sequence iterables such as generators is deprecated as of NumPy 1.16 and will raise an error in the future.\n",
      "  design_matrix = np.hstack((x[:, None] for x in independent_vars))\n",
      "/Users/hassanobeid/anaconda3/lib/python3.7/site-packages/scipy/optimize/_minimize.py:506: RuntimeWarning: Method BFGS does not use Hessian information (hess).\n",
      "  RuntimeWarning)\n"
     ]
    },
    {
     "name": "stdout",
     "output_type": "stream",
     "text": [
      "Estimation Time for Point Estimation: 0.21 seconds.\n",
      "Final log-likelihood: -10,288.5691\n"
     ]
    },
    {
     "data": {
      "text/html": [
       "<table class=\"simpletable\">\n",
       "<caption>Multinomial Logit Model Regression Results</caption>\n",
       "<tr>\n",
       "  <th>Dep. Variable:</th>       <td>sim_choice</td>        <th>  No. Observations:  </th>    <td>8,000</td>   \n",
       "</tr>\n",
       "<tr>\n",
       "  <th>Model:</th>         <td>Multinomial Logit Model</td> <th>  Df Residuals:      </th>    <td>7,981</td>   \n",
       "</tr>\n",
       "<tr>\n",
       "  <th>Method:</th>                  <td>MLE</td>           <th>  Df Model:          </th>     <td>19</td>     \n",
       "</tr>\n",
       "<tr>\n",
       "  <th>Date:</th>             <td>Fri, 18 Dec 2020</td>     <th>  Pseudo R-squ.:     </th>    <td>0.322</td>   \n",
       "</tr>\n",
       "<tr>\n",
       "  <th>Time:</th>                 <td>18:23:54</td>         <th>  Pseudo R-bar-squ.: </th>    <td>0.321</td>   \n",
       "</tr>\n",
       "<tr>\n",
       "  <th>AIC:</th>                 <td>20,615.138</td>        <th>  Log-Likelihood:    </th> <td>-10,288.569</td>\n",
       "</tr>\n",
       "<tr>\n",
       "  <th>BIC:</th>                 <td>20,747.895</td>        <th>  LL-Null:           </th> <td>-15,176.699</td>\n",
       "</tr>\n",
       "</table>\n",
       "<table class=\"simpletable\">\n",
       "<tr>\n",
       "                          <td></td>                            <th>coef</th>     <th>std err</th>      <th>z</th>      <th>P>|z|</th>  <th>[0.025</th>    <th>0.975]</th>  \n",
       "</tr>\n",
       "<tr>\n",
       "  <th>ASC Shared Ride: 2</th>                               <td>   -1.1772</td> <td>    0.116</td> <td>  -10.187</td> <td> 0.000</td> <td>   -1.404</td> <td>   -0.951</td>\n",
       "</tr>\n",
       "<tr>\n",
       "  <th>ASC Shared Ride: 3+</th>                              <td>   -0.7079</td> <td>    0.126</td> <td>   -5.628</td> <td> 0.000</td> <td>   -0.954</td> <td>   -0.461</td>\n",
       "</tr>\n",
       "<tr>\n",
       "  <th>ASC Walk-Transit-Walk</th>                            <td>    0.9579</td> <td>    0.122</td> <td>    7.877</td> <td> 0.000</td> <td>    0.720</td> <td>    1.196</td>\n",
       "</tr>\n",
       "<tr>\n",
       "  <th>ASC Drive-Transit-Walk</th>                           <td>   -1.2297</td> <td>    0.138</td> <td>   -8.930</td> <td> 0.000</td> <td>   -1.500</td> <td>   -0.960</td>\n",
       "</tr>\n",
       "<tr>\n",
       "  <th>ASC Walk-Transit-Drive</th>                           <td>   -1.4191</td> <td>    0.143</td> <td>   -9.955</td> <td> 0.000</td> <td>   -1.699</td> <td>   -1.140</td>\n",
       "</tr>\n",
       "<tr>\n",
       "  <th>ASC Walk</th>                                         <td>   -1.0122</td> <td>    0.074</td> <td>  -13.670</td> <td> 0.000</td> <td>   -1.157</td> <td>   -0.867</td>\n",
       "</tr>\n",
       "<tr>\n",
       "  <th>ASC Bike</th>                                         <td>   -1.2166</td> <td>    0.075</td> <td>  -16.141</td> <td> 0.000</td> <td>   -1.364</td> <td>   -1.069</td>\n",
       "</tr>\n",
       "<tr>\n",
       "  <th>Travel Time, units:min (Drive Alone)</th>             <td>   -0.0386</td> <td>    0.003</td> <td>  -11.916</td> <td> 0.000</td> <td>   -0.045</td> <td>   -0.032</td>\n",
       "</tr>\n",
       "<tr>\n",
       "  <th>Travel Time, units:min (SharedRide-2)</th>            <td>   -0.0623</td> <td>    0.004</td> <td>  -14.178</td> <td> 0.000</td> <td>   -0.071</td> <td>   -0.054</td>\n",
       "</tr>\n",
       "<tr>\n",
       "  <th>Travel Time, units:min (SharedRide-3+)</th>           <td>   -0.1087</td> <td>    0.006</td> <td>  -16.983</td> <td> 0.000</td> <td>   -0.121</td> <td>   -0.096</td>\n",
       "</tr>\n",
       "<tr>\n",
       "  <th>Travel Time, units:min (All Transit Modes)</th>       <td>   -0.0271</td> <td>    0.001</td> <td>  -19.033</td> <td> 0.000</td> <td>   -0.030</td> <td>   -0.024</td>\n",
       "</tr>\n",
       "<tr>\n",
       "  <th>Travel Cost, units:$ (Drive Alone)</th>               <td>   -0.0210</td> <td>    0.018</td> <td>   -1.138</td> <td> 0.255</td> <td>   -0.057</td> <td>    0.015</td>\n",
       "</tr>\n",
       "<tr>\n",
       "  <th>Travel Cost, units:$ (SharedRide-2)</th>              <td>   -0.2069</td> <td>    0.041</td> <td>   -4.996</td> <td> 0.000</td> <td>   -0.288</td> <td>   -0.126</td>\n",
       "</tr>\n",
       "<tr>\n",
       "  <th>Travel Cost, units:$ (SharedRide-3+)</th>             <td>   -0.4500</td> <td>    0.100</td> <td>   -4.505</td> <td> 0.000</td> <td>   -0.646</td> <td>   -0.254</td>\n",
       "</tr>\n",
       "<tr>\n",
       "  <th>Travel Cost, units:$ (All Transit Modes)</th>         <td>   -0.1086</td> <td>    0.018</td> <td>   -6.073</td> <td> 0.000</td> <td>   -0.144</td> <td>   -0.074</td>\n",
       "</tr>\n",
       "<tr>\n",
       "  <th>Autos per licensed drivers (All Auto Modes)</th>      <td>    1.0899</td> <td>    0.050</td> <td>   22.013</td> <td> 0.000</td> <td>    0.993</td> <td>    1.187</td>\n",
       "</tr>\n",
       "<tr>\n",
       "  <th>Cross-Bay Tour (Shared Ride 2 & 3+)</th>              <td>    0.6499</td> <td>    0.116</td> <td>    5.620</td> <td> 0.000</td> <td>    0.423</td> <td>    0.876</td>\n",
       "</tr>\n",
       "<tr>\n",
       "  <th>Household Size (Shared Ride 2 & 3+)</th>              <td>    0.0980</td> <td>    0.021</td> <td>    4.726</td> <td> 0.000</td> <td>    0.057</td> <td>    0.139</td>\n",
       "</tr>\n",
       "<tr>\n",
       "  <th>Number of Kids in Household (Shared Ride 2 & 3+)</th> <td>    0.5143</td> <td>    0.025</td> <td>   20.723</td> <td> 0.000</td> <td>    0.466</td> <td>    0.563</td>\n",
       "</tr>\n",
       "</table>"
      ],
      "text/plain": [
       "<class 'statsmodels.iolib.summary.Summary'>\n",
       "\"\"\"\n",
       "                     Multinomial Logit Model Regression Results                    \n",
       "===================================================================================\n",
       "Dep. Variable:                  sim_choice   No. Observations:                8,000\n",
       "Model:             Multinomial Logit Model   Df Residuals:                    7,981\n",
       "Method:                                MLE   Df Model:                           19\n",
       "Date:                     Fri, 18 Dec 2020   Pseudo R-squ.:                   0.322\n",
       "Time:                             18:23:54   Pseudo R-bar-squ.:               0.321\n",
       "AIC:                            20,615.138   Log-Likelihood:            -10,288.569\n",
       "BIC:                            20,747.895   LL-Null:                   -15,176.699\n",
       "====================================================================================================================\n",
       "                                                       coef    std err          z      P>|z|      [0.025      0.975]\n",
       "--------------------------------------------------------------------------------------------------------------------\n",
       "ASC Shared Ride: 2                                  -1.1772      0.116    -10.187      0.000      -1.404      -0.951\n",
       "ASC Shared Ride: 3+                                 -0.7079      0.126     -5.628      0.000      -0.954      -0.461\n",
       "ASC Walk-Transit-Walk                                0.9579      0.122      7.877      0.000       0.720       1.196\n",
       "ASC Drive-Transit-Walk                              -1.2297      0.138     -8.930      0.000      -1.500      -0.960\n",
       "ASC Walk-Transit-Drive                              -1.4191      0.143     -9.955      0.000      -1.699      -1.140\n",
       "ASC Walk                                            -1.0122      0.074    -13.670      0.000      -1.157      -0.867\n",
       "ASC Bike                                            -1.2166      0.075    -16.141      0.000      -1.364      -1.069\n",
       "Travel Time, units:min (Drive Alone)                -0.0386      0.003    -11.916      0.000      -0.045      -0.032\n",
       "Travel Time, units:min (SharedRide-2)               -0.0623      0.004    -14.178      0.000      -0.071      -0.054\n",
       "Travel Time, units:min (SharedRide-3+)              -0.1087      0.006    -16.983      0.000      -0.121      -0.096\n",
       "Travel Time, units:min (All Transit Modes)          -0.0271      0.001    -19.033      0.000      -0.030      -0.024\n",
       "Travel Cost, units:$ (Drive Alone)                  -0.0210      0.018     -1.138      0.255      -0.057       0.015\n",
       "Travel Cost, units:$ (SharedRide-2)                 -0.2069      0.041     -4.996      0.000      -0.288      -0.126\n",
       "Travel Cost, units:$ (SharedRide-3+)                -0.4500      0.100     -4.505      0.000      -0.646      -0.254\n",
       "Travel Cost, units:$ (All Transit Modes)            -0.1086      0.018     -6.073      0.000      -0.144      -0.074\n",
       "Autos per licensed drivers (All Auto Modes)          1.0899      0.050     22.013      0.000       0.993       1.187\n",
       "Cross-Bay Tour (Shared Ride 2 & 3+)                  0.6499      0.116      5.620      0.000       0.423       0.876\n",
       "Household Size (Shared Ride 2 & 3+)                  0.0980      0.021      4.726      0.000       0.057       0.139\n",
       "Number of Kids in Household (Shared Ride 2 & 3+)     0.5143      0.025     20.723      0.000       0.466       0.563\n",
       "====================================================================================================================\n",
       "\"\"\""
      ]
     },
     "execution_count": 16,
     "metadata": {},
     "output_type": "execute_result"
    }
   ],
   "source": [
    "# Estimate the basic MNL model, using the hessian and newton-conjugate gradient\n",
    "mnl_model_noncausal = cm.create_choice_model(data=data,\n",
    "                                             alt_id_col=\"mode_id\",\n",
    "                                             obs_id_col=\"observation_id\",\n",
    "                                             choice_col=\"sim_choice\",\n",
    "                                             specification=mnl_specification_noncausal,\n",
    "                                             model_type=\"MNL\",\n",
    "                                             names=mnl_names_noncausal)\n",
    "\n",
    "num_vars_noncausal = len(reduce(lambda x, y: x + y, mnl_names_noncausal.values()))\n",
    "mnl_model_noncausal.fit_mle(np.zeros(num_vars_noncausal),\n",
    "                  method=\"BFGS\")\n",
    "\n",
    "# Look at the estimation results\n",
    "mnl_model_noncausal.get_statsmodels_summary()"
   ]
  },
  {
   "cell_type": "markdown",
   "metadata": {},
   "source": [
    "## Model 2"
   ]
  },
  {
   "cell_type": "code",
   "execution_count": 17,
   "metadata": {},
   "outputs": [],
   "source": [
    "mnl_specification_causal_1 = mnl_specification_noncausal.copy()\n",
    "mnl_names_causal_1 = mnl_names_noncausal.copy()\n",
    "\n",
    "mnl_specification_causal_1[\"recovered_confounder_model_2\"] = [1, 2, 3]\n",
    "mnl_names_causal_1[\"recovered_confounder_model_2\"] = [\"Confounder - Drive alone\",\n",
    "                                     \"Confounder - Shared ride 2\", \n",
    "                                     \"Confounder - Shared ride 3\"]"
   ]
  },
  {
   "cell_type": "code",
   "execution_count": 18,
   "metadata": {},
   "outputs": [
    {
     "name": "stdout",
     "output_type": "stream",
     "text": [
      "Log-likelihood at zero: -15,176.6986\n",
      "Initial Log-likelihood: -15,176.6986\n"
     ]
    },
    {
     "name": "stderr",
     "output_type": "stream",
     "text": [
      "/Users/hassanobeid/anaconda3/lib/python3.7/site-packages/pylogit/choice_tools.py:703: FutureWarning: arrays to stack must be passed as a \"sequence\" type such as list or tuple. Support for non-sequence iterables such as generators is deprecated as of NumPy 1.16 and will raise an error in the future.\n",
      "  design_matrix = np.hstack((x[:, None] for x in independent_vars))\n",
      "/Users/hassanobeid/anaconda3/lib/python3.7/site-packages/scipy/optimize/_minimize.py:506: RuntimeWarning: Method BFGS does not use Hessian information (hess).\n",
      "  RuntimeWarning)\n"
     ]
    },
    {
     "name": "stdout",
     "output_type": "stream",
     "text": [
      "Estimation Time for Point Estimation: 0.25 seconds.\n",
      "Final log-likelihood: -10,287.8000\n"
     ]
    },
    {
     "data": {
      "text/html": [
       "<table class=\"simpletable\">\n",
       "<caption>Multinomial Logit Model Regression Results</caption>\n",
       "<tr>\n",
       "  <th>Dep. Variable:</th>       <td>sim_choice</td>        <th>  No. Observations:  </th>    <td>8,000</td>   \n",
       "</tr>\n",
       "<tr>\n",
       "  <th>Model:</th>         <td>Multinomial Logit Model</td> <th>  Df Residuals:      </th>    <td>7,978</td>   \n",
       "</tr>\n",
       "<tr>\n",
       "  <th>Method:</th>                  <td>MLE</td>           <th>  Df Model:          </th>     <td>22</td>     \n",
       "</tr>\n",
       "<tr>\n",
       "  <th>Date:</th>             <td>Fri, 18 Dec 2020</td>     <th>  Pseudo R-squ.:     </th>    <td>0.322</td>   \n",
       "</tr>\n",
       "<tr>\n",
       "  <th>Time:</th>                 <td>18:24:36</td>         <th>  Pseudo R-bar-squ.: </th>    <td>0.321</td>   \n",
       "</tr>\n",
       "<tr>\n",
       "  <th>AIC:</th>                 <td>20,619.600</td>        <th>  Log-Likelihood:    </th> <td>-10,287.800</td>\n",
       "</tr>\n",
       "<tr>\n",
       "  <th>BIC:</th>                 <td>20,773.318</td>        <th>  LL-Null:           </th> <td>-15,176.699</td>\n",
       "</tr>\n",
       "</table>\n",
       "<table class=\"simpletable\">\n",
       "<tr>\n",
       "                          <td></td>                            <th>coef</th>     <th>std err</th>      <th>z</th>      <th>P>|z|</th>  <th>[0.025</th>    <th>0.975]</th>  \n",
       "</tr>\n",
       "<tr>\n",
       "  <th>ASC Shared Ride: 2</th>                               <td>   -1.2164</td> <td>    0.133</td> <td>   -9.114</td> <td> 0.000</td> <td>   -1.478</td> <td>   -0.955</td>\n",
       "</tr>\n",
       "<tr>\n",
       "  <th>ASC Shared Ride: 3+</th>                              <td>   -0.7931</td> <td>    0.144</td> <td>   -5.499</td> <td> 0.000</td> <td>   -1.076</td> <td>   -0.510</td>\n",
       "</tr>\n",
       "<tr>\n",
       "  <th>ASC Walk-Transit-Walk</th>                            <td>    0.9237</td> <td>    0.130</td> <td>    7.081</td> <td> 0.000</td> <td>    0.668</td> <td>    1.179</td>\n",
       "</tr>\n",
       "<tr>\n",
       "  <th>ASC Drive-Transit-Walk</th>                           <td>   -1.2640</td> <td>    0.146</td> <td>   -8.687</td> <td> 0.000</td> <td>   -1.549</td> <td>   -0.979</td>\n",
       "</tr>\n",
       "<tr>\n",
       "  <th>ASC Walk-Transit-Drive</th>                           <td>   -1.4533</td> <td>    0.150</td> <td>   -9.679</td> <td> 0.000</td> <td>   -1.748</td> <td>   -1.159</td>\n",
       "</tr>\n",
       "<tr>\n",
       "  <th>ASC Walk</th>                                         <td>   -1.0463</td> <td>    0.088</td> <td>  -11.932</td> <td> 0.000</td> <td>   -1.218</td> <td>   -0.874</td>\n",
       "</tr>\n",
       "<tr>\n",
       "  <th>ASC Bike</th>                                         <td>   -1.2508</td> <td>    0.089</td> <td>  -14.081</td> <td> 0.000</td> <td>   -1.425</td> <td>   -1.077</td>\n",
       "</tr>\n",
       "<tr>\n",
       "  <th>Travel Time, units:min (Drive Alone)</th>             <td>   -0.0393</td> <td>    0.003</td> <td>  -11.675</td> <td> 0.000</td> <td>   -0.046</td> <td>   -0.033</td>\n",
       "</tr>\n",
       "<tr>\n",
       "  <th>Travel Time, units:min (SharedRide-2)</th>            <td>   -0.0623</td> <td>    0.005</td> <td>  -13.732</td> <td> 0.000</td> <td>   -0.071</td> <td>   -0.053</td>\n",
       "</tr>\n",
       "<tr>\n",
       "  <th>Travel Time, units:min (SharedRide-3+)</th>           <td>   -0.1076</td> <td>    0.006</td> <td>  -16.565</td> <td> 0.000</td> <td>   -0.120</td> <td>   -0.095</td>\n",
       "</tr>\n",
       "<tr>\n",
       "  <th>Travel Time, units:min (All Transit Modes)</th>       <td>   -0.0271</td> <td>    0.001</td> <td>  -19.033</td> <td> 0.000</td> <td>   -0.030</td> <td>   -0.024</td>\n",
       "</tr>\n",
       "<tr>\n",
       "  <th>Travel Cost, units:$ (Drive Alone)</th>               <td>   -0.0246</td> <td>    0.019</td> <td>   -1.296</td> <td> 0.195</td> <td>   -0.062</td> <td>    0.013</td>\n",
       "</tr>\n",
       "<tr>\n",
       "  <th>Travel Cost, units:$ (SharedRide-2)</th>              <td>   -0.2064</td> <td>    0.043</td> <td>   -4.839</td> <td> 0.000</td> <td>   -0.290</td> <td>   -0.123</td>\n",
       "</tr>\n",
       "<tr>\n",
       "  <th>Travel Cost, units:$ (SharedRide-3+)</th>             <td>   -0.4349</td> <td>    0.101</td> <td>   -4.298</td> <td> 0.000</td> <td>   -0.633</td> <td>   -0.237</td>\n",
       "</tr>\n",
       "<tr>\n",
       "  <th>Travel Cost, units:$ (All Transit Modes)</th>         <td>   -0.1086</td> <td>    0.018</td> <td>   -6.071</td> <td> 0.000</td> <td>   -0.144</td> <td>   -0.074</td>\n",
       "</tr>\n",
       "<tr>\n",
       "  <th>Autos per licensed drivers (All Auto Modes)</th>      <td>    1.0865</td> <td>    0.050</td> <td>   21.797</td> <td> 0.000</td> <td>    0.989</td> <td>    1.184</td>\n",
       "</tr>\n",
       "<tr>\n",
       "  <th>Cross-Bay Tour (Shared Ride 2 & 3+)</th>              <td>    0.6647</td> <td>    0.118</td> <td>    5.643</td> <td> 0.000</td> <td>    0.434</td> <td>    0.896</td>\n",
       "</tr>\n",
       "<tr>\n",
       "  <th>Household Size (Shared Ride 2 & 3+)</th>              <td>    0.0997</td> <td>    0.021</td> <td>    4.796</td> <td> 0.000</td> <td>    0.059</td> <td>    0.140</td>\n",
       "</tr>\n",
       "<tr>\n",
       "  <th>Number of Kids in Household (Shared Ride 2 & 3+)</th> <td>    0.5154</td> <td>    0.025</td> <td>   20.647</td> <td> 0.000</td> <td>    0.466</td> <td>    0.564</td>\n",
       "</tr>\n",
       "<tr>\n",
       "  <th>Confounder - Drive alone</th>                         <td>    0.0335</td> <td>    0.044</td> <td>    0.756</td> <td> 0.450</td> <td>   -0.053</td> <td>    0.120</td>\n",
       "</tr>\n",
       "<tr>\n",
       "  <th>Confounder - Shared ride 2</th>                       <td>   -0.0015</td> <td>    0.055</td> <td>   -0.027</td> <td> 0.978</td> <td>   -0.109</td> <td>    0.106</td>\n",
       "</tr>\n",
       "<tr>\n",
       "  <th>Confounder - Shared ride 3</th>                       <td>   -0.0530</td> <td>    0.057</td> <td>   -0.929</td> <td> 0.353</td> <td>   -0.165</td> <td>    0.059</td>\n",
       "</tr>\n",
       "</table>"
      ],
      "text/plain": [
       "<class 'statsmodels.iolib.summary.Summary'>\n",
       "\"\"\"\n",
       "                     Multinomial Logit Model Regression Results                    \n",
       "===================================================================================\n",
       "Dep. Variable:                  sim_choice   No. Observations:                8,000\n",
       "Model:             Multinomial Logit Model   Df Residuals:                    7,978\n",
       "Method:                                MLE   Df Model:                           22\n",
       "Date:                     Fri, 18 Dec 2020   Pseudo R-squ.:                   0.322\n",
       "Time:                             18:24:36   Pseudo R-bar-squ.:               0.321\n",
       "AIC:                            20,619.600   Log-Likelihood:            -10,287.800\n",
       "BIC:                            20,773.318   LL-Null:                   -15,176.699\n",
       "====================================================================================================================\n",
       "                                                       coef    std err          z      P>|z|      [0.025      0.975]\n",
       "--------------------------------------------------------------------------------------------------------------------\n",
       "ASC Shared Ride: 2                                  -1.2164      0.133     -9.114      0.000      -1.478      -0.955\n",
       "ASC Shared Ride: 3+                                 -0.7931      0.144     -5.499      0.000      -1.076      -0.510\n",
       "ASC Walk-Transit-Walk                                0.9237      0.130      7.081      0.000       0.668       1.179\n",
       "ASC Drive-Transit-Walk                              -1.2640      0.146     -8.687      0.000      -1.549      -0.979\n",
       "ASC Walk-Transit-Drive                              -1.4533      0.150     -9.679      0.000      -1.748      -1.159\n",
       "ASC Walk                                            -1.0463      0.088    -11.932      0.000      -1.218      -0.874\n",
       "ASC Bike                                            -1.2508      0.089    -14.081      0.000      -1.425      -1.077\n",
       "Travel Time, units:min (Drive Alone)                -0.0393      0.003    -11.675      0.000      -0.046      -0.033\n",
       "Travel Time, units:min (SharedRide-2)               -0.0623      0.005    -13.732      0.000      -0.071      -0.053\n",
       "Travel Time, units:min (SharedRide-3+)              -0.1076      0.006    -16.565      0.000      -0.120      -0.095\n",
       "Travel Time, units:min (All Transit Modes)          -0.0271      0.001    -19.033      0.000      -0.030      -0.024\n",
       "Travel Cost, units:$ (Drive Alone)                  -0.0246      0.019     -1.296      0.195      -0.062       0.013\n",
       "Travel Cost, units:$ (SharedRide-2)                 -0.2064      0.043     -4.839      0.000      -0.290      -0.123\n",
       "Travel Cost, units:$ (SharedRide-3+)                -0.4349      0.101     -4.298      0.000      -0.633      -0.237\n",
       "Travel Cost, units:$ (All Transit Modes)            -0.1086      0.018     -6.071      0.000      -0.144      -0.074\n",
       "Autos per licensed drivers (All Auto Modes)          1.0865      0.050     21.797      0.000       0.989       1.184\n",
       "Cross-Bay Tour (Shared Ride 2 & 3+)                  0.6647      0.118      5.643      0.000       0.434       0.896\n",
       "Household Size (Shared Ride 2 & 3+)                  0.0997      0.021      4.796      0.000       0.059       0.140\n",
       "Number of Kids in Household (Shared Ride 2 & 3+)     0.5154      0.025     20.647      0.000       0.466       0.564\n",
       "Confounder - Drive alone                             0.0335      0.044      0.756      0.450      -0.053       0.120\n",
       "Confounder - Shared ride 2                          -0.0015      0.055     -0.027      0.978      -0.109       0.106\n",
       "Confounder - Shared ride 3                          -0.0530      0.057     -0.929      0.353      -0.165       0.059\n",
       "====================================================================================================================\n",
       "\"\"\""
      ]
     },
     "execution_count": 18,
     "metadata": {},
     "output_type": "execute_result"
    }
   ],
   "source": [
    "# Estimate the basic MNL model, using the hessian and newton-conjugate gradient\n",
    "mnl_model_causal_1 = cm.create_choice_model(data=data,\n",
    "                                            alt_id_col=\"mode_id\",\n",
    "                                            obs_id_col=\"observation_id\",\n",
    "                                            choice_col=\"sim_choice\",\n",
    "                                            specification=mnl_specification_causal_1,\n",
    "                                            model_type=\"MNL\",\n",
    "                                            names=mnl_names_causal_1)\n",
    "\n",
    "num_vars = len(reduce(lambda x, y: x + y, mnl_names_causal_1.values()))\n",
    "mnl_model_causal_1.fit_mle(np.zeros(num_vars),\n",
    "                  method=\"BFGS\")\n",
    "\n",
    "# Look at the estimation results\n",
    "mnl_model_causal_1.get_statsmodels_summary()"
   ]
  },
  {
   "cell_type": "markdown",
   "metadata": {},
   "source": [
    "## Model 3"
   ]
  },
  {
   "cell_type": "code",
   "execution_count": 19,
   "metadata": {},
   "outputs": [],
   "source": [
    "mnl_specification_causal_2 = mnl_specification_noncausal.copy()\n",
    "mnl_names_causal_2 = mnl_names_noncausal.copy()\n",
    "\n",
    "mnl_specification_causal_2[\"recovered_confounder_model_3\"] = [1, 2, 3]\n",
    "mnl_names_causal_2[\"recovered_confounder_model_3\"] = [\"Confounder - Drive alone\",\n",
    "                                     \"Confounder - Shared ride 2\", \n",
    "                                     \"Confounder - Shared ride 3\"]"
   ]
  },
  {
   "cell_type": "code",
   "execution_count": 20,
   "metadata": {},
   "outputs": [
    {
     "name": "stderr",
     "output_type": "stream",
     "text": [
      "/Users/hassanobeid/anaconda3/lib/python3.7/site-packages/pylogit/choice_tools.py:703: FutureWarning: arrays to stack must be passed as a \"sequence\" type such as list or tuple. Support for non-sequence iterables such as generators is deprecated as of NumPy 1.16 and will raise an error in the future.\n",
      "  design_matrix = np.hstack((x[:, None] for x in independent_vars))\n"
     ]
    },
    {
     "name": "stdout",
     "output_type": "stream",
     "text": [
      "Log-likelihood at zero: -15,176.6986\n",
      "Initial Log-likelihood: -15,176.6986\n"
     ]
    },
    {
     "name": "stderr",
     "output_type": "stream",
     "text": [
      "/Users/hassanobeid/anaconda3/lib/python3.7/site-packages/scipy/optimize/_minimize.py:506: RuntimeWarning: Method BFGS does not use Hessian information (hess).\n",
      "  RuntimeWarning)\n"
     ]
    },
    {
     "name": "stdout",
     "output_type": "stream",
     "text": [
      "Estimation Time for Point Estimation: 0.26 seconds.\n",
      "Final log-likelihood: -10,286.8624\n"
     ]
    },
    {
     "data": {
      "text/html": [
       "<table class=\"simpletable\">\n",
       "<caption>Multinomial Logit Model Regression Results</caption>\n",
       "<tr>\n",
       "  <th>Dep. Variable:</th>       <td>sim_choice</td>        <th>  No. Observations:  </th>    <td>8,000</td>   \n",
       "</tr>\n",
       "<tr>\n",
       "  <th>Model:</th>         <td>Multinomial Logit Model</td> <th>  Df Residuals:      </th>    <td>7,978</td>   \n",
       "</tr>\n",
       "<tr>\n",
       "  <th>Method:</th>                  <td>MLE</td>           <th>  Df Model:          </th>     <td>22</td>     \n",
       "</tr>\n",
       "<tr>\n",
       "  <th>Date:</th>             <td>Fri, 18 Dec 2020</td>     <th>  Pseudo R-squ.:     </th>    <td>0.322</td>   \n",
       "</tr>\n",
       "<tr>\n",
       "  <th>Time:</th>                 <td>18:25:19</td>         <th>  Pseudo R-bar-squ.: </th>    <td>0.321</td>   \n",
       "</tr>\n",
       "<tr>\n",
       "  <th>AIC:</th>                 <td>20,617.725</td>        <th>  Log-Likelihood:    </th> <td>-10,286.862</td>\n",
       "</tr>\n",
       "<tr>\n",
       "  <th>BIC:</th>                 <td>20,771.443</td>        <th>  LL-Null:           </th> <td>-15,176.699</td>\n",
       "</tr>\n",
       "</table>\n",
       "<table class=\"simpletable\">\n",
       "<tr>\n",
       "                          <td></td>                            <th>coef</th>     <th>std err</th>      <th>z</th>      <th>P>|z|</th>  <th>[0.025</th>    <th>0.975]</th>  \n",
       "</tr>\n",
       "<tr>\n",
       "  <th>ASC Shared Ride: 2</th>                               <td>   -1.5732</td> <td>    0.309</td> <td>   -5.083</td> <td> 0.000</td> <td>   -2.180</td> <td>   -0.967</td>\n",
       "</tr>\n",
       "<tr>\n",
       "  <th>ASC Shared Ride: 3+</th>                              <td>   -0.9357</td> <td>    0.369</td> <td>   -2.535</td> <td> 0.011</td> <td>   -1.659</td> <td>   -0.212</td>\n",
       "</tr>\n",
       "<tr>\n",
       "  <th>ASC Walk-Transit-Walk</th>                            <td>    0.9475</td> <td>    0.210</td> <td>    4.511</td> <td> 0.000</td> <td>    0.536</td> <td>    1.359</td>\n",
       "</tr>\n",
       "<tr>\n",
       "  <th>ASC Drive-Transit-Walk</th>                           <td>   -1.2404</td> <td>    0.220</td> <td>   -5.638</td> <td> 0.000</td> <td>   -1.672</td> <td>   -0.809</td>\n",
       "</tr>\n",
       "<tr>\n",
       "  <th>ASC Walk-Transit-Drive</th>                           <td>   -1.4301</td> <td>    0.223</td> <td>   -6.410</td> <td> 0.000</td> <td>   -1.867</td> <td>   -0.993</td>\n",
       "</tr>\n",
       "<tr>\n",
       "  <th>ASC Walk</th>                                         <td>   -1.0237</td> <td>    0.187</td> <td>   -5.471</td> <td> 0.000</td> <td>   -1.390</td> <td>   -0.657</td>\n",
       "</tr>\n",
       "<tr>\n",
       "  <th>ASC Bike</th>                                         <td>   -1.2279</td> <td>    0.188</td> <td>   -6.541</td> <td> 0.000</td> <td>   -1.596</td> <td>   -0.860</td>\n",
       "</tr>\n",
       "<tr>\n",
       "  <th>Travel Time, units:min (Drive Alone)</th>             <td>   -0.0389</td> <td>    0.005</td> <td>   -8.141</td> <td> 0.000</td> <td>   -0.048</td> <td>   -0.030</td>\n",
       "</tr>\n",
       "<tr>\n",
       "  <th>Travel Time, units:min (SharedRide-2)</th>            <td>   -0.0543</td> <td>    0.006</td> <td>   -8.402</td> <td> 0.000</td> <td>   -0.067</td> <td>   -0.042</td>\n",
       "</tr>\n",
       "<tr>\n",
       "  <th>Travel Time, units:min (SharedRide-3+)</th>           <td>   -0.1043</td> <td>    0.009</td> <td>  -11.578</td> <td> 0.000</td> <td>   -0.122</td> <td>   -0.087</td>\n",
       "</tr>\n",
       "<tr>\n",
       "  <th>Travel Time, units:min (All Transit Modes)</th>       <td>   -0.0271</td> <td>    0.001</td> <td>  -19.045</td> <td> 0.000</td> <td>   -0.030</td> <td>   -0.024</td>\n",
       "</tr>\n",
       "<tr>\n",
       "  <th>Travel Cost, units:$ (Drive Alone)</th>               <td>   -0.0223</td> <td>    0.028</td> <td>   -0.800</td> <td> 0.424</td> <td>   -0.077</td> <td>    0.032</td>\n",
       "</tr>\n",
       "<tr>\n",
       "  <th>Travel Cost, units:$ (SharedRide-2)</th>              <td>   -0.1267</td> <td>    0.063</td> <td>   -2.010</td> <td> 0.044</td> <td>   -0.250</td> <td>   -0.003</td>\n",
       "</tr>\n",
       "<tr>\n",
       "  <th>Travel Cost, units:$ (SharedRide-3+)</th>             <td>   -0.3798</td> <td>    0.139</td> <td>   -2.724</td> <td> 0.006</td> <td>   -0.653</td> <td>   -0.107</td>\n",
       "</tr>\n",
       "<tr>\n",
       "  <th>Travel Cost, units:$ (All Transit Modes)</th>         <td>   -0.1084</td> <td>    0.018</td> <td>   -6.061</td> <td> 0.000</td> <td>   -0.143</td> <td>   -0.073</td>\n",
       "</tr>\n",
       "<tr>\n",
       "  <th>Autos per licensed drivers (All Auto Modes)</th>      <td>    1.0893</td> <td>    0.050</td> <td>   21.996</td> <td> 0.000</td> <td>    0.992</td> <td>    1.186</td>\n",
       "</tr>\n",
       "<tr>\n",
       "  <th>Cross-Bay Tour (Shared Ride 2 & 3+)</th>              <td>    0.6483</td> <td>    0.116</td> <td>    5.608</td> <td> 0.000</td> <td>    0.422</td> <td>    0.875</td>\n",
       "</tr>\n",
       "<tr>\n",
       "  <th>Household Size (Shared Ride 2 & 3+)</th>              <td>    0.0987</td> <td>    0.021</td> <td>    4.760</td> <td> 0.000</td> <td>    0.058</td> <td>    0.139</td>\n",
       "</tr>\n",
       "<tr>\n",
       "  <th>Number of Kids in Household (Shared Ride 2 & 3+)</th> <td>    0.5150</td> <td>    0.025</td> <td>   20.746</td> <td> 0.000</td> <td>    0.466</td> <td>    0.564</td>\n",
       "</tr>\n",
       "<tr>\n",
       "  <th>Confounder - Drive alone</th>                         <td>    0.0100</td> <td>    0.167</td> <td>    0.060</td> <td> 0.952</td> <td>   -0.317</td> <td>    0.337</td>\n",
       "</tr>\n",
       "<tr>\n",
       "  <th>Confounder - Shared ride 2</th>                       <td>   -0.3618</td> <td>    0.214</td> <td>   -1.689</td> <td> 0.091</td> <td>   -0.782</td> <td>    0.058</td>\n",
       "</tr>\n",
       "<tr>\n",
       "  <th>Confounder - Shared ride 3</th>                       <td>   -0.2049</td> <td>    0.287</td> <td>   -0.715</td> <td> 0.475</td> <td>   -0.766</td> <td>    0.357</td>\n",
       "</tr>\n",
       "</table>"
      ],
      "text/plain": [
       "<class 'statsmodels.iolib.summary.Summary'>\n",
       "\"\"\"\n",
       "                     Multinomial Logit Model Regression Results                    \n",
       "===================================================================================\n",
       "Dep. Variable:                  sim_choice   No. Observations:                8,000\n",
       "Model:             Multinomial Logit Model   Df Residuals:                    7,978\n",
       "Method:                                MLE   Df Model:                           22\n",
       "Date:                     Fri, 18 Dec 2020   Pseudo R-squ.:                   0.322\n",
       "Time:                             18:25:19   Pseudo R-bar-squ.:               0.321\n",
       "AIC:                            20,617.725   Log-Likelihood:            -10,286.862\n",
       "BIC:                            20,771.443   LL-Null:                   -15,176.699\n",
       "====================================================================================================================\n",
       "                                                       coef    std err          z      P>|z|      [0.025      0.975]\n",
       "--------------------------------------------------------------------------------------------------------------------\n",
       "ASC Shared Ride: 2                                  -1.5732      0.309     -5.083      0.000      -2.180      -0.967\n",
       "ASC Shared Ride: 3+                                 -0.9357      0.369     -2.535      0.011      -1.659      -0.212\n",
       "ASC Walk-Transit-Walk                                0.9475      0.210      4.511      0.000       0.536       1.359\n",
       "ASC Drive-Transit-Walk                              -1.2404      0.220     -5.638      0.000      -1.672      -0.809\n",
       "ASC Walk-Transit-Drive                              -1.4301      0.223     -6.410      0.000      -1.867      -0.993\n",
       "ASC Walk                                            -1.0237      0.187     -5.471      0.000      -1.390      -0.657\n",
       "ASC Bike                                            -1.2279      0.188     -6.541      0.000      -1.596      -0.860\n",
       "Travel Time, units:min (Drive Alone)                -0.0389      0.005     -8.141      0.000      -0.048      -0.030\n",
       "Travel Time, units:min (SharedRide-2)               -0.0543      0.006     -8.402      0.000      -0.067      -0.042\n",
       "Travel Time, units:min (SharedRide-3+)              -0.1043      0.009    -11.578      0.000      -0.122      -0.087\n",
       "Travel Time, units:min (All Transit Modes)          -0.0271      0.001    -19.045      0.000      -0.030      -0.024\n",
       "Travel Cost, units:$ (Drive Alone)                  -0.0223      0.028     -0.800      0.424      -0.077       0.032\n",
       "Travel Cost, units:$ (SharedRide-2)                 -0.1267      0.063     -2.010      0.044      -0.250      -0.003\n",
       "Travel Cost, units:$ (SharedRide-3+)                -0.3798      0.139     -2.724      0.006      -0.653      -0.107\n",
       "Travel Cost, units:$ (All Transit Modes)            -0.1084      0.018     -6.061      0.000      -0.143      -0.073\n",
       "Autos per licensed drivers (All Auto Modes)          1.0893      0.050     21.996      0.000       0.992       1.186\n",
       "Cross-Bay Tour (Shared Ride 2 & 3+)                  0.6483      0.116      5.608      0.000       0.422       0.875\n",
       "Household Size (Shared Ride 2 & 3+)                  0.0987      0.021      4.760      0.000       0.058       0.139\n",
       "Number of Kids in Household (Shared Ride 2 & 3+)     0.5150      0.025     20.746      0.000       0.466       0.564\n",
       "Confounder - Drive alone                             0.0100      0.167      0.060      0.952      -0.317       0.337\n",
       "Confounder - Shared ride 2                          -0.3618      0.214     -1.689      0.091      -0.782       0.058\n",
       "Confounder - Shared ride 3                          -0.2049      0.287     -0.715      0.475      -0.766       0.357\n",
       "====================================================================================================================\n",
       "\"\"\""
      ]
     },
     "execution_count": 20,
     "metadata": {},
     "output_type": "execute_result"
    }
   ],
   "source": [
    "# Estimate the basic MNL model, using the hessian and newton-conjugate gradient\n",
    "mnl_model_causal_2 = cm.create_choice_model(data=data,\n",
    "                                            alt_id_col=\"mode_id\",\n",
    "                                            obs_id_col=\"observation_id\",\n",
    "                                            choice_col=\"sim_choice\",\n",
    "                                            specification=mnl_specification_causal_2,\n",
    "                                            model_type=\"MNL\",\n",
    "                                            names=mnl_names_causal_2)\n",
    "\n",
    "num_vars = len(reduce(lambda x, y: x + y, mnl_names_causal_2.values()))\n",
    "mnl_model_causal_2.fit_mle(np.zeros(num_vars),\n",
    "                  method=\"BFGS\")\n",
    "\n",
    "# Look at the estimation results\n",
    "mnl_model_causal_2.get_statsmodels_summary()"
   ]
  },
  {
   "cell_type": "markdown",
   "metadata": {},
   "source": [
    "## Compare estimates on travel time and cost"
   ]
  },
  {
   "cell_type": "code",
   "execution_count": 21,
   "metadata": {
    "lines_to_next_cell": 2
   },
   "outputs": [],
   "source": [
    "results_as_html_true = create_comparison_tables(mnl_model)\n",
    "results_as_html_noncausal = create_comparison_tables(mnl_model_noncausal)\n",
    "results_as_html_method_2 = create_comparison_tables(mnl_model_causal_1)\n",
    "results_as_html_method_3 = create_comparison_tables(mnl_model_causal_2)"
   ]
  },
  {
   "cell_type": "code",
   "execution_count": 22,
   "metadata": {
    "lines_to_next_cell": 0
   },
   "outputs": [],
   "source": [
    "locs = ['Travel Time, units:min (Drive Alone)','Travel Time, units:min (SharedRide-2)',\n",
    "       'Travel Time, units:min (SharedRide-3+)', 'Travel Cost, units:$ (Drive Alone)',\n",
    "       'Travel Cost, units:$ (SharedRide-2)', 'Travel Cost, units:$ (SharedRide-3+)']\n",
    "cols = ['coef', 'std err']\n",
    "\n",
    "results_comparison = results_as_html_true.loc[locs][cols].join(results_as_html_noncausal.loc[locs][cols], \n",
    "                                                               lsuffix = '_true', \n",
    "                                                               rsuffix = '_non_causal'\n",
    "                                                              ).join(results_as_html_method_2.loc[locs][cols].join(\n",
    "                                                                     results_as_html_method_3.loc[locs][cols],\n",
    "                                                                     lsuffix = '_method_2', rsuffix = '_method_3'))\n",
    "\n",
    "results_comparison['confounded variable'] = results_comparison.index"
   ]
  },
  {
   "cell_type": "code",
   "execution_count": 66,
   "metadata": {
    "lines_to_next_cell": 0
   },
   "outputs": [
    {
     "data": {
      "image/png": "[encoded data removed]",
      "text/plain": [
       "<Figure size 1152x648 with 1 Axes>"
      ]
     },
     "metadata": {
      "needs_background": "light"
     },
     "output_type": "display_data"
    }
   ],
   "source": [
    "fig, ax = plt.subplots(nrows=1,ncols=1, figsize=(16,9))\n",
    "\n",
    "results_comparison.columns =['True Coefficient', 'True Std. Error', 'Model 1 Coefficient', 'Model 1 Std. Error',\n",
    "       'Model 2 Coefficient', 'Model 2 Std. Error', 'Model 3 Coefficient',\n",
    "       'Model 3 Std. Error', 'confounded variable']\n",
    "results_comparison['confounded variable']=['Travel Time \\n(Drive Alone)',\n",
    "       'Travel Time \\n(SharedRide-2)',\n",
    "       'Travel Time \\n(SharedRide-3+)',\n",
    "       'Travel Cost \\n(Drive Alone)',\n",
    "       'Travel Cost \\n(SharedRide-2)',\n",
    "       'Travel Cost \\n(SharedRide-3+)']\n",
    "\n",
    "results_comparison.plot.bar(x='confounded variable', \n",
    "                            y=['True Coefficient','Model 1 Coefficient','Model 2 Coefficient', 'Model 3 Coefficient'],\n",
    "                            yerr=results_comparison[['True Std. Error', 'Model 1 Std. Error',\n",
    "                                                    'Model 2 Std. Error', 'Model 3 Std. Error']].T.values,\n",
    "                           ax = ax)\n",
    "\n",
    "plt.xticks(rotation='0')\n",
    "\n",
    "fig.savefig('../../article/images/coefficient_bias_sec_7.png')"
   ]
  }
 ],
 "metadata": {
  "jupytext": {
   "formats": "ipynb,py"
  },
  "kernelspec": {
   "display_name": "Python 3",
   "language": "python",
   "name": "python3"
  },
  "language_info": {
   "codemirror_mode": {
    "name": "ipython",
    "version": 3
   },
   "file_extension": ".py",
   "mimetype": "text/x-python",
   "name": "python",
   "nbconvert_exporter": "python",
   "pygments_lexer": "ipython3",
   "version": "3.7.3"
  }
 },
 "nbformat": 4,
 "nbformat_minor": 2
}
