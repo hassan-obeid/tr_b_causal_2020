{
 "cells": [
  {
   "cell_type": "markdown",
   "metadata": {},
   "source": [
    "# Goal \n",
    "The goal of this notebook is to investigate, using simulations, the effectiveness and usefuleness of the deconfounder approach to causal inference with latent confounding in recovering the true causal effects of variables. This approach was proposed by Blei et al. in 2018 (incert reference here)\n",
    "\n",
    "The flow of this notebook is as follows: \n",
    "- Simulate observations based on a confounded structure, where one variable confounds all but one of the other variables. \n",
    "- Simulate a continuous outcome based on a linear model, where we know the true causal effect of each variable. \n",
    "- Ommit the confounder from the dataframe, and attempt to recover it using factor models (PCA). \n",
    "- Check the recovered (substitute) confounder against the true confounder using scatter plots. \n",
    "- Re-estimate the outcome regression model, controlling for the substitute confounder instead of the true confounder, and compare the estimated coefficients on the other confounded variables against the ground truth"
   ]
  },
  {
   "cell_type": "code",
   "execution_count": 1,
   "metadata": {},
   "outputs": [
    {
     "data": {
      "text/plain": [
       "['investigating_deconfounder.py',\n",
       " '5.0-mab-simulation-causal-graph.md',\n",
       " 'ho_deconfounder_on_sim_data.py',\n",
       " '.DS_Store',\n",
       " '_04-tb-parking-choice-example.py',\n",
       " '_02_tb-Demo-visual-marginal-independence-tests.py',\n",
       " 'fun_with_cit.ipynb',\n",
       " 'investigating_deconfounder.ipynb',\n",
       " 'ho_deconfounder_on_sim_data.ipynb',\n",
       " 'util.py',\n",
       " '_04-tb-parking-choice-example.ipynb',\n",
       " '_02_tb-Demo-visual-marginal-independence-tests.ipynb',\n",
       " '.gitkeep',\n",
       " 'Causal_Graph_Tim_Data.ipynb',\n",
       " '_03-tb-deconfounder-predictive-checks.ipynb',\n",
       " '_03-tb-deconfounder-predictive-checks.md',\n",
       " '__pycache__',\n",
       " 'Simple_Simulation.md',\n",
       " '3.0-mab-independent-variable-simulation.ipynb',\n",
       " '5.0-mab-simulation-causal-graph.ipynb',\n",
       " '_02_tb-Demo-visual-marginal-independence-tests.md',\n",
       " '3.0-mab-independent-variable-simulation.md',\n",
       " '_05-tb-PC-algorithm-investigation.py',\n",
       " 'Causal_Graph_Tim_Data.py',\n",
       " '4.0-mab-causal-graph-simulation.md',\n",
       " 'factor_models.py',\n",
       " '.ipynb_checkpoints',\n",
       " '_03-tb-deconfounder-predictive-checks.py',\n",
       " 'qq-plot-method-2.png',\n",
       " '_01_tb-Demo-visual-conditional-independence-tests.ipynb',\n",
       " 'Simple_Simulation.py',\n",
       " 'qq-plot-method-3.png',\n",
       " '_01_tb-Demo-visual-conditional-independence-tests.py',\n",
       " 'Simple_Simulation.ipynb',\n",
       " '_05-tb-PC-algorithm-investigation.ipynb',\n",
       " '4.0-mab-causal-graph-simulation.ipynb']"
      ]
     },
     "execution_count": 1,
     "metadata": {},
     "output_type": "execute_result"
    }
   ],
   "source": [
    "import pandas as pd\n",
    "import numpy as np\n",
    "import matplotlib.pyplot as plt\n",
    "from causalgraphicalmodels import CausalGraphicalModel, StructuralCausalModel\n",
    "import pylogit\n",
    "from collections import OrderedDict\n",
    "import pylogit as cm\n",
    "from functools import reduce\n",
    "import statsmodels.api as sm\n",
    "import statsmodels.formula.api as smf\n",
    "from math import ceil\n",
    "\n",
    "from IPython import display\n",
    "import seaborn as sns\n",
    "\n",
    "import numpy as np\n",
    "import numpy.random as npr\n",
    "import pandas as pd\n",
    "import tensorflow as tf\n",
    "import tensorflow_probability as tfp\n",
    "import statsmodels.api as sm\n",
    "\n",
    "from tensorflow_probability import edward2 as ed\n",
    "from sklearn.datasets import load_breast_cancer\n",
    "from pandas.plotting import scatter_matrix\n",
    "from scipy import sparse, stats\n",
    "from sklearn.model_selection import train_test_split\n",
    "from sklearn.linear_model import LogisticRegression \n",
    "from sklearn.metrics import confusion_matrix, classification_report, roc_auc_score, roc_curve\n",
    "\n",
    "import matplotlib\n",
    "matplotlib.rcParams.update({'font.sans-serif' : 'Helvetica',\n",
    "                            'axes.labelsize': 10,\n",
    "                            'xtick.labelsize' : 6,\n",
    "                            'ytick.labelsize' : 6,\n",
    "                            'axes.titlesize' : 10})\n",
    "import matplotlib.pyplot as plt\n",
    "\n",
    "import seaborn as sns\n",
    "color_names = [\"windows blue\",\n",
    "               \"amber\",\n",
    "               \"crimson\",\n",
    "               \"faded green\",\n",
    "               \"dusty purple\",\n",
    "               \"greyish\"]\n",
    "colors = sns.xkcd_palette(color_names)\n",
    "sns.set(style=\"white\", palette=sns.xkcd_palette(color_names), color_codes = False)\n",
    "\n",
    "\n",
    "from factor_models import *\n",
    "\n",
    "\n",
    "import os\n",
    "os.listdir('.')"
   ]
  },
  {
   "cell_type": "markdown",
   "metadata": {},
   "source": [
    "## Specify the assumed causal graph of the data generation process\n",
    "The causal graph below represents the true data generating process that we'll be using for simulation. Notice how the confounder affects variables a, b, d, e, and f, as well as the outcome y. "
   ]
  },
  {
   "cell_type": "code",
   "execution_count": 2,
   "metadata": {},
   "outputs": [
    {
     "data": {
      "image/svg+xml": [
       "<?xml version=\"1.0\" encoding=\"UTF-8\" standalone=\"no\"?>\n",
       "<!DOCTYPE svg PUBLIC \"-//W3C//DTD SVG 1.1//EN\"\n",
       " \"http://www.w3.org/Graphics/SVG/1.1/DTD/svg11.dtd\">\n",
       "<!-- Generated by graphviz version 2.40.1 (20161225.0304)\n",
       " -->\n",
       "<!-- Title: %3 Pages: 1 -->\n",
       "<svg width=\"460pt\" height=\"188pt\"\n",
       " viewBox=\"0.00 0.00 460.00 188.00\" xmlns=\"http://www.w3.org/2000/svg\" xmlns:xlink=\"http://www.w3.org/1999/xlink\">\n",
       "<g id=\"graph0\" class=\"graph\" transform=\"scale(1 1) rotate(0) translate(4 184)\">\n",
       "<title>%3</title>\n",
       "<polygon fill=\"#ffffff\" stroke=\"transparent\" points=\"-4,4 -4,-184 456,-184 456,4 -4,4\"/>\n",
       "<!-- c -->\n",
       "<g id=\"node1\" class=\"node\">\n",
       "<title>c</title>\n",
       "<ellipse fill=\"none\" stroke=\"#000000\" cx=\"27\" cy=\"-90\" rx=\"27\" ry=\"18\"/>\n",
       "<text text-anchor=\"middle\" x=\"27\" y=\"-86.3\" font-family=\"Times,serif\" font-size=\"14.00\" fill=\"#000000\">c</text>\n",
       "</g>\n",
       "<!-- y -->\n",
       "<g id=\"node3\" class=\"node\">\n",
       "<title>y</title>\n",
       "<ellipse fill=\"none\" stroke=\"#000000\" cx=\"209\" cy=\"-18\" rx=\"27\" ry=\"18\"/>\n",
       "<text text-anchor=\"middle\" x=\"209\" y=\"-14.3\" font-family=\"Times,serif\" font-size=\"14.00\" fill=\"#000000\">y</text>\n",
       "</g>\n",
       "<!-- c&#45;&gt;y -->\n",
       "<g id=\"edge3\" class=\"edge\">\n",
       "<title>c&#45;&gt;y</title>\n",
       "<path fill=\"none\" stroke=\"#000000\" d=\"M48.5208,-78.7604C53.2459,-76.4277 58.2555,-74.0562 63,-72 100.7619,-55.6345 145.2614,-39.6309 175.1201,-29.3497\"/>\n",
       "<polygon fill=\"#000000\" stroke=\"#000000\" points=\"176.3239,-32.6371 184.6539,-26.0902 174.0593,-26.0136 176.3239,-32.6371\"/>\n",
       "</g>\n",
       "<!-- f -->\n",
       "<g id=\"node2\" class=\"node\">\n",
       "<title>f</title>\n",
       "<ellipse fill=\"none\" stroke=\"#000000\" cx=\"99\" cy=\"-90\" rx=\"27\" ry=\"18\"/>\n",
       "<text text-anchor=\"middle\" x=\"99\" y=\"-86.3\" font-family=\"Times,serif\" font-size=\"14.00\" fill=\"#000000\">f</text>\n",
       "</g>\n",
       "<!-- f&#45;&gt;y -->\n",
       "<g id=\"edge12\" class=\"edge\">\n",
       "<title>f&#45;&gt;y</title>\n",
       "<path fill=\"none\" stroke=\"#000000\" d=\"M118.4126,-77.2936C135.742,-65.9507 161.3318,-49.201 180.8972,-36.3946\"/>\n",
       "<polygon fill=\"#000000\" stroke=\"#000000\" points=\"182.9613,-39.2267 189.4115,-30.8216 179.1276,-33.3698 182.9613,-39.2267\"/>\n",
       "</g>\n",
       "<!-- d -->\n",
       "<g id=\"node4\" class=\"node\">\n",
       "<title>d</title>\n",
       "<ellipse fill=\"none\" stroke=\"#000000\" cx=\"209\" cy=\"-90\" rx=\"27\" ry=\"18\"/>\n",
       "<text text-anchor=\"middle\" x=\"209\" y=\"-86.3\" font-family=\"Times,serif\" font-size=\"14.00\" fill=\"#000000\">d</text>\n",
       "</g>\n",
       "<!-- d&#45;&gt;y -->\n",
       "<g id=\"edge10\" class=\"edge\">\n",
       "<title>d&#45;&gt;y</title>\n",
       "<path fill=\"none\" stroke=\"#000000\" d=\"M209,-71.8314C209,-64.131 209,-54.9743 209,-46.4166\"/>\n",
       "<polygon fill=\"#000000\" stroke=\"#000000\" points=\"212.5001,-46.4132 209,-36.4133 205.5001,-46.4133 212.5001,-46.4132\"/>\n",
       "</g>\n",
       "<!-- e -->\n",
       "<g id=\"node5\" class=\"node\">\n",
       "<title>e</title>\n",
       "<ellipse fill=\"none\" stroke=\"#000000\" cx=\"281\" cy=\"-90\" rx=\"27\" ry=\"18\"/>\n",
       "<text text-anchor=\"middle\" x=\"281\" y=\"-86.3\" font-family=\"Times,serif\" font-size=\"14.00\" fill=\"#000000\">e</text>\n",
       "</g>\n",
       "<!-- e&#45;&gt;y -->\n",
       "<g id=\"edge11\" class=\"edge\">\n",
       "<title>e&#45;&gt;y</title>\n",
       "<path fill=\"none\" stroke=\"#000000\" d=\"M265.7307,-74.7307C255.803,-64.803 242.6847,-51.6847 231.5637,-40.5637\"/>\n",
       "<polygon fill=\"#000000\" stroke=\"#000000\" points=\"233.7933,-37.8436 224.2473,-33.2473 228.8436,-42.7933 233.7933,-37.8436\"/>\n",
       "</g>\n",
       "<!-- a -->\n",
       "<g id=\"node6\" class=\"node\">\n",
       "<title>a</title>\n",
       "<ellipse fill=\"none\" stroke=\"#000000\" cx=\"353\" cy=\"-90\" rx=\"27\" ry=\"18\"/>\n",
       "<text text-anchor=\"middle\" x=\"353\" y=\"-86.3\" font-family=\"Times,serif\" font-size=\"14.00\" fill=\"#000000\">a</text>\n",
       "</g>\n",
       "<!-- a&#45;&gt;y -->\n",
       "<g id=\"edge1\" class=\"edge\">\n",
       "<title>a&#45;&gt;y</title>\n",
       "<path fill=\"none\" stroke=\"#000000\" d=\"M331.1295,-79.0647C306.7778,-66.8889 267.238,-47.119 239.7715,-33.3858\"/>\n",
       "<polygon fill=\"#000000\" stroke=\"#000000\" points=\"241.114,-30.1439 230.6045,-28.8022 237.9835,-36.4049 241.114,-30.1439\"/>\n",
       "</g>\n",
       "<!-- confounder -->\n",
       "<g id=\"node7\" class=\"node\">\n",
       "<title>confounder</title>\n",
       "<ellipse fill=\"none\" stroke=\"#000000\" cx=\"245\" cy=\"-162\" rx=\"51.9908\" ry=\"18\"/>\n",
       "<text text-anchor=\"middle\" x=\"245\" y=\"-158.3\" font-family=\"Times,serif\" font-size=\"14.00\" fill=\"#000000\">confounder</text>\n",
       "</g>\n",
       "<!-- confounder&#45;&gt;f -->\n",
       "<g id=\"edge9\" class=\"edge\">\n",
       "<title>confounder&#45;&gt;f</title>\n",
       "<path fill=\"none\" stroke=\"#000000\" d=\"M215.1024,-147.256C190.2466,-134.9983 155.0041,-117.6184 129.8797,-105.2283\"/>\n",
       "<polygon fill=\"#000000\" stroke=\"#000000\" points=\"131.3054,-102.029 120.7887,-100.7451 128.2093,-108.3071 131.3054,-102.029\"/>\n",
       "</g>\n",
       "<!-- confounder&#45;&gt;y -->\n",
       "<g id=\"edge4\" class=\"edge\">\n",
       "<title>confounder&#45;&gt;y</title>\n",
       "<path fill=\"none\" stroke=\"#000000\" d=\"M213.8513,-147.338C198.5518,-138.3272 181.5949,-125.1898 173,-108 162.085,-86.1699 175.0916,-60.1887 188.4186,-41.7662\"/>\n",
       "<polygon fill=\"#000000\" stroke=\"#000000\" points=\"191.3558,-43.6883 194.6808,-33.6287 185.8083,-39.4192 191.3558,-43.6883\"/>\n",
       "</g>\n",
       "<!-- confounder&#45;&gt;d -->\n",
       "<g id=\"edge7\" class=\"edge\">\n",
       "<title>confounder&#45;&gt;d</title>\n",
       "<path fill=\"none\" stroke=\"#000000\" d=\"M236.1011,-144.2022C231.8978,-135.7955 226.7959,-125.5917 222.1575,-116.3149\"/>\n",
       "<polygon fill=\"#000000\" stroke=\"#000000\" points=\"225.1513,-114.4762 217.5486,-107.0972 218.8903,-117.6068 225.1513,-114.4762\"/>\n",
       "</g>\n",
       "<!-- confounder&#45;&gt;e -->\n",
       "<g id=\"edge8\" class=\"edge\">\n",
       "<title>confounder&#45;&gt;e</title>\n",
       "<path fill=\"none\" stroke=\"#000000\" d=\"M253.8989,-144.2022C258.1022,-135.7955 263.2041,-125.5917 267.8425,-116.3149\"/>\n",
       "<polygon fill=\"#000000\" stroke=\"#000000\" points=\"271.1097,-117.6068 272.4514,-107.0972 264.8487,-114.4762 271.1097,-117.6068\"/>\n",
       "</g>\n",
       "<!-- confounder&#45;&gt;a -->\n",
       "<g id=\"edge5\" class=\"edge\">\n",
       "<title>confounder&#45;&gt;a</title>\n",
       "<path fill=\"none\" stroke=\"#000000\" d=\"M268.9687,-146.0209C285.5854,-134.9431 307.7649,-120.1567 325.1649,-108.5568\"/>\n",
       "<polygon fill=\"#000000\" stroke=\"#000000\" points=\"327.3944,-111.2769 333.7735,-102.8177 323.5115,-105.4526 327.3944,-111.2769\"/>\n",
       "</g>\n",
       "<!-- b -->\n",
       "<g id=\"node8\" class=\"node\">\n",
       "<title>b</title>\n",
       "<ellipse fill=\"none\" stroke=\"#000000\" cx=\"425\" cy=\"-90\" rx=\"27\" ry=\"18\"/>\n",
       "<text text-anchor=\"middle\" x=\"425\" y=\"-86.3\" font-family=\"Times,serif\" font-size=\"14.00\" fill=\"#000000\">b</text>\n",
       "</g>\n",
       "<!-- confounder&#45;&gt;b -->\n",
       "<g id=\"edge6\" class=\"edge\">\n",
       "<title>confounder&#45;&gt;b</title>\n",
       "<path fill=\"none\" stroke=\"#000000\" d=\"M282.1206,-149.2884C311.4556,-138.9545 353.2676,-123.5818 389,-108 390.7774,-107.2249 392.5926,-106.4064 394.4163,-105.5629\"/>\n",
       "<polygon fill=\"#000000\" stroke=\"#000000\" points=\"395.9666,-108.7011 403.4722,-101.2234 392.9416,-102.3885 395.9666,-108.7011\"/>\n",
       "</g>\n",
       "<!-- b&#45;&gt;y -->\n",
       "<g id=\"edge2\" class=\"edge\">\n",
       "<title>b&#45;&gt;y</title>\n",
       "<path fill=\"none\" stroke=\"#000000\" d=\"M403.9565,-78.721C399.115,-76.3395 393.9366,-73.9578 389,-72 339.9324,-52.5409 280.9914,-36.1096 244.2549,-26.6511\"/>\n",
       "<polygon fill=\"#000000\" stroke=\"#000000\" points=\"245.063,-23.2453 234.5087,-24.1715 243.337,-30.0292 245.063,-23.2453\"/>\n",
       "</g>\n",
       "</g>\n",
       "</svg>\n"
      ],
      "text/plain": [
       "<graphviz.dot.Digraph at 0x7f83c9628470>"
      ]
     },
     "execution_count": 2,
     "metadata": {},
     "output_type": "execute_result"
    }
   ],
   "source": [
    "data_generation_graph = CausalGraphicalModel(\n",
    "    nodes=['a', 'b', 'c', 'confounder',\n",
    "          'd',  'e', 'f', 'y'],\n",
    "    edges=[\n",
    "        (\"a\", \"y\"), \n",
    "        (\"b\", \"y\"), \n",
    "        (\"c\", \"y\"), \n",
    "        (\"d\", \"y\"), \n",
    "        (\"e\", \"y\"), \n",
    "        (\"f\", \"y\"), \n",
    "        (\"confounder\", \"y\"), \n",
    "        \n",
    "        \n",
    "        (\"confounder\", \"a\"),\n",
    "        (\"confounder\", \"b\"),\n",
    "#         (\"confounder\", \"c\"),\n",
    "        (\"confounder\", \"d\"),\n",
    "        (\"confounder\", \"e\"),\n",
    "        (\"confounder\", \"f\"),\n",
    "\n",
    "\n",
    "        \n",
    "        \n",
    "#         (\"confounder\", \"y\"), \n",
    "#         (\"confounder\", \"y\"), \n",
    "    ]\n",
    ")\n",
    "\n",
    "# draw return a graphviz `dot` object, which jupyter can render\n",
    "data_generation_graph.draw()"
   ]
  },
  {
   "cell_type": "markdown",
   "metadata": {},
   "source": [
    "## Specifiy the paramteric relationship between the covariates. \n",
    "\n",
    "This is where we specify the relationship between the variables in the Causal graph above. Specifically, we have an equation that relates each two connected nodes on the graph (so an equation for each edge).\n",
    "\n",
    "In the outcome model for y, the coefficient on each of the variables a, b, c, d, e and f represents it's $true$ causal effect. The coefficient on the confounder, however, does not represent its causal effect, because it has 5 decendents that are part of the outcome model. \n",
    "\n",
    "We are not ultimately interested in the causal effect of the confounder for this exercice, and instead are interested in the coefficients on each of its descendents. "
   ]
  },
  {
   "cell_type": "code",
   "execution_count": 3,
   "metadata": {},
   "outputs": [],
   "source": [
    "sample_size = 10000\n",
    "\n",
    "confounder = np.random.normal(loc=20, scale = 10, size = sample_size)"
   ]
  },
  {
   "cell_type": "code",
   "execution_count": 4,
   "metadata": {},
   "outputs": [],
   "source": [
    "a = .3*confounder + np.random.normal(loc=10,scale=3,size=sample_size)\n",
    "b = -1*confounder + np.random.normal(loc=6,scale=3,size=sample_size)\n",
    "c = np.random.normal(loc=15,scale=3,size=sample_size) # + .5*confounder \n",
    "d = .8*confounder + np.random.normal(loc=-10,scale=3,size=sample_size)\n",
    "e = .5*confounder + np.random.normal(loc=8,scale=3,size=sample_size)\n",
    "f= -.3*confounder + np.random.normal(loc=-12,scale=3,size=sample_size)\n",
    "\n",
    "\n",
    "df = pd.DataFrame(np.array([a,b,c,d,e,f, confounder]).T, columns = ['a', 'b', 'c',\n",
    "          'd',  'e', 'f', 'confounder'])\n",
    "\n",
    "X_columns =['a', 'b', 'c',\n",
    "          'd',  'e', 'f', 'confounder']\n",
    "df = (df[X_columns] - df[X_columns].mean())/df[X_columns].std()\n",
    "\n",
    "# df['confounder'] = confounder - confounder.mean()/confounder.std()\n",
    "\n",
    "y = (5 + 2*df['a'] + 2*df['b'] - 5*df['c'] +\n",
    "     3*df['d'] + 2*df['e'] - 5*df['f'] + 7*df['confounder']\n",
    "     + np.random.normal(loc=0,scale=1,size=sample_size))\n",
    "\n",
    "df['y'] = y\n",
    "\n",
    "coeffs_true = [5,2,2,-5,3,2,-5,7]\n",
    "\n",
    "# plt.hist(confounder, bins = 50)\n",
    "\n",
    "# plt.hist(f, bins = 50)"
   ]
  },
  {
   "cell_type": "code",
   "execution_count": 5,
   "metadata": {},
   "outputs": [
    {
     "data": {
      "text/html": [
       "<div>\n",
       "<style scoped>\n",
       "    .dataframe tbody tr th:only-of-type {\n",
       "        vertical-align: middle;\n",
       "    }\n",
       "\n",
       "    .dataframe tbody tr th {\n",
       "        vertical-align: top;\n",
       "    }\n",
       "\n",
       "    .dataframe thead th {\n",
       "        text-align: right;\n",
       "    }\n",
       "</style>\n",
       "<table border=\"1\" class=\"dataframe\">\n",
       "  <thead>\n",
       "    <tr style=\"text-align: right;\">\n",
       "      <th></th>\n",
       "      <th>a</th>\n",
       "      <th>b</th>\n",
       "      <th>c</th>\n",
       "      <th>d</th>\n",
       "      <th>e</th>\n",
       "      <th>f</th>\n",
       "      <th>confounder</th>\n",
       "      <th>y</th>\n",
       "    </tr>\n",
       "  </thead>\n",
       "  <tbody>\n",
       "    <tr>\n",
       "      <th>0</th>\n",
       "      <td>-0.897178</td>\n",
       "      <td>0.784584</td>\n",
       "      <td>-1.826526</td>\n",
       "      <td>-1.492629</td>\n",
       "      <td>-0.609609</td>\n",
       "      <td>1.214941</td>\n",
       "      <td>-0.853729</td>\n",
       "      <td>-3.220401</td>\n",
       "    </tr>\n",
       "    <tr>\n",
       "      <th>1</th>\n",
       "      <td>-0.577009</td>\n",
       "      <td>-0.132885</td>\n",
       "      <td>0.379242</td>\n",
       "      <td>0.163820</td>\n",
       "      <td>0.827884</td>\n",
       "      <td>-2.434346</td>\n",
       "      <td>0.144117</td>\n",
       "      <td>16.791339</td>\n",
       "    </tr>\n",
       "    <tr>\n",
       "      <th>2</th>\n",
       "      <td>-0.981674</td>\n",
       "      <td>1.309359</td>\n",
       "      <td>0.308740</td>\n",
       "      <td>-0.746690</td>\n",
       "      <td>-0.995963</td>\n",
       "      <td>2.211983</td>\n",
       "      <td>-0.874877</td>\n",
       "      <td>-16.338083</td>\n",
       "    </tr>\n",
       "    <tr>\n",
       "      <th>3</th>\n",
       "      <td>-2.829454</td>\n",
       "      <td>3.186452</td>\n",
       "      <td>0.597291</td>\n",
       "      <td>-3.470822</td>\n",
       "      <td>-2.241375</td>\n",
       "      <td>1.005288</td>\n",
       "      <td>-3.012905</td>\n",
       "      <td>-38.015119</td>\n",
       "    </tr>\n",
       "    <tr>\n",
       "      <th>4</th>\n",
       "      <td>0.305746</td>\n",
       "      <td>0.603330</td>\n",
       "      <td>1.066864</td>\n",
       "      <td>-0.467711</td>\n",
       "      <td>0.409567</td>\n",
       "      <td>0.515599</td>\n",
       "      <td>-0.341970</td>\n",
       "      <td>-3.135047</td>\n",
       "    </tr>\n",
       "  </tbody>\n",
       "</table>\n",
       "</div>"
      ],
      "text/plain": [
       "          a         b         c         d         e         f  confounder  \\\n",
       "0 -0.897178  0.784584 -1.826526 -1.492629 -0.609609  1.214941   -0.853729   \n",
       "1 -0.577009 -0.132885  0.379242  0.163820  0.827884 -2.434346    0.144117   \n",
       "2 -0.981674  1.309359  0.308740 -0.746690 -0.995963  2.211983   -0.874877   \n",
       "3 -2.829454  3.186452  0.597291 -3.470822 -2.241375  1.005288   -3.012905   \n",
       "4  0.305746  0.603330  1.066864 -0.467711  0.409567  0.515599   -0.341970   \n",
       "\n",
       "           y  \n",
       "0  -3.220401  \n",
       "1  16.791339  \n",
       "2 -16.338083  \n",
       "3 -38.015119  \n",
       "4  -3.135047  "
      ]
     },
     "execution_count": 5,
     "metadata": {},
     "output_type": "execute_result"
    }
   ],
   "source": [
    "# df = pd.DataFrame(np.array([a,b,c,d,e,f,confounder, y]).T, columns = ['a', 'b', 'c',\n",
    "#           'd',  'e', 'f', 'confounder', 'y'])\n",
    "df.head()"
   ]
  },
  {
   "cell_type": "code",
   "execution_count": 6,
   "metadata": {},
   "outputs": [],
   "source": [
    "# sns.pairplot(df, size=1.5)"
   ]
  },
  {
   "cell_type": "markdown",
   "metadata": {},
   "source": [
    "## Bias from ommitting the confounder without adjustment\n",
    "\n",
    "Here, we show that if we ommit the confounder, and attempt to estimate a new model for y, the coefficients obtained on each of the variables a, b, d, e, and f are all biased and do not represent the causal effect associated with each of those variables. The coefficient on c remains unbiased since c does not depend on the confounder. The purpose of this is to demonstrate that you indeed need to control for the confounder, or account for it somehow, if one knows you have confounded variables and is looking to assign causal interpretations to those variables"
   ]
  },
  {
   "cell_type": "code",
   "execution_count": 7,
   "metadata": {},
   "outputs": [
    {
     "data": {
      "text/html": [
       "<div>\n",
       "<style scoped>\n",
       "    .dataframe tbody tr th:only-of-type {\n",
       "        vertical-align: middle;\n",
       "    }\n",
       "\n",
       "    .dataframe tbody tr th {\n",
       "        vertical-align: top;\n",
       "    }\n",
       "\n",
       "    .dataframe thead th {\n",
       "        text-align: right;\n",
       "    }\n",
       "</style>\n",
       "<table border=\"1\" class=\"dataframe\">\n",
       "  <thead>\n",
       "    <tr style=\"text-align: right;\">\n",
       "      <th></th>\n",
       "      <th>True Coefficient</th>\n",
       "    </tr>\n",
       "  </thead>\n",
       "  <tbody>\n",
       "    <tr>\n",
       "      <th>Intercept</th>\n",
       "      <td>5</td>\n",
       "    </tr>\n",
       "    <tr>\n",
       "      <th>a</th>\n",
       "      <td>2</td>\n",
       "    </tr>\n",
       "    <tr>\n",
       "      <th>b</th>\n",
       "      <td>2</td>\n",
       "    </tr>\n",
       "    <tr>\n",
       "      <th>c</th>\n",
       "      <td>-5</td>\n",
       "    </tr>\n",
       "    <tr>\n",
       "      <th>d</th>\n",
       "      <td>3</td>\n",
       "    </tr>\n",
       "    <tr>\n",
       "      <th>e</th>\n",
       "      <td>2</td>\n",
       "    </tr>\n",
       "    <tr>\n",
       "      <th>f</th>\n",
       "      <td>-5</td>\n",
       "    </tr>\n",
       "    <tr>\n",
       "      <th>confounder</th>\n",
       "      <td>7</td>\n",
       "    </tr>\n",
       "  </tbody>\n",
       "</table>\n",
       "</div>"
      ],
      "text/plain": [
       "            True Coefficient\n",
       "Intercept                  5\n",
       "a                          2\n",
       "b                          2\n",
       "c                         -5\n",
       "d                          3\n",
       "e                          2\n",
       "f                         -5\n",
       "confounder                 7"
      ]
     },
     "execution_count": 7,
     "metadata": {},
     "output_type": "execute_result"
    }
   ],
   "source": [
    "model_full = smf.ols(\"y ~ a+b+c+d+e+f + confounder\", data=df)\n",
    "results_full = model_full.fit()\n",
    "results_df_full = pd.DataFrame(results_full.params, columns = ['estimated_params'])\n",
    "results_df_full['std_errors'] = results_full.bse\n",
    "results_df_full['True Coefficient'] = coeffs_true\n",
    "results_df_full[['True Coefficient']]"
   ]
  },
  {
   "cell_type": "code",
   "execution_count": 8,
   "metadata": {
    "scrolled": true
   },
   "outputs": [
    {
     "data": {
      "text/html": [
       "<div>\n",
       "<style scoped>\n",
       "    .dataframe tbody tr th:only-of-type {\n",
       "        vertical-align: middle;\n",
       "    }\n",
       "\n",
       "    .dataframe tbody tr th {\n",
       "        vertical-align: top;\n",
       "    }\n",
       "\n",
       "    .dataframe thead th {\n",
       "        text-align: right;\n",
       "    }\n",
       "</style>\n",
       "<table border=\"1\" class=\"dataframe\">\n",
       "  <thead>\n",
       "    <tr style=\"text-align: right;\">\n",
       "      <th></th>\n",
       "      <th>estimated_params</th>\n",
       "      <th>std_errors</th>\n",
       "      <th>true_params</th>\n",
       "    </tr>\n",
       "  </thead>\n",
       "  <tbody>\n",
       "    <tr>\n",
       "      <th>Intercept</th>\n",
       "      <td>4.996746</td>\n",
       "      <td>0.017363</td>\n",
       "      <td>5</td>\n",
       "    </tr>\n",
       "    <tr>\n",
       "      <th>a</th>\n",
       "      <td>2.451515</td>\n",
       "      <td>0.024228</td>\n",
       "      <td>2</td>\n",
       "    </tr>\n",
       "    <tr>\n",
       "      <th>b</th>\n",
       "      <td>-1.396268</td>\n",
       "      <td>0.044545</td>\n",
       "      <td>2</td>\n",
       "    </tr>\n",
       "    <tr>\n",
       "      <th>c</th>\n",
       "      <td>-4.986051</td>\n",
       "      <td>0.017368</td>\n",
       "      <td>-5</td>\n",
       "    </tr>\n",
       "    <tr>\n",
       "      <th>d</th>\n",
       "      <td>5.113578</td>\n",
       "      <td>0.041792</td>\n",
       "      <td>3</td>\n",
       "    </tr>\n",
       "    <tr>\n",
       "      <th>e</th>\n",
       "      <td>2.959873</td>\n",
       "      <td>0.032005</td>\n",
       "      <td>2</td>\n",
       "    </tr>\n",
       "    <tr>\n",
       "      <th>f</th>\n",
       "      <td>-5.455409</td>\n",
       "      <td>0.024341</td>\n",
       "      <td>-5</td>\n",
       "    </tr>\n",
       "  </tbody>\n",
       "</table>\n",
       "</div>"
      ],
      "text/plain": [
       "           estimated_params  std_errors  true_params\n",
       "Intercept          4.996746    0.017363            5\n",
       "a                  2.451515    0.024228            2\n",
       "b                 -1.396268    0.044545            2\n",
       "c                 -4.986051    0.017368           -5\n",
       "d                  5.113578    0.041792            3\n",
       "e                  2.959873    0.032005            2\n",
       "f                 -5.455409    0.024341           -5"
      ]
     },
     "execution_count": 8,
     "metadata": {},
     "output_type": "execute_result"
    }
   ],
   "source": [
    "model_partial = smf.ols(\"y ~ a+b+c+d+e+f \", data=df) ## Ommit the confounder from OLS\n",
    "results_partial = model_partial.fit()\n",
    "results_df_partial = pd.DataFrame(results_partial.params, columns = ['estimated_params'])\n",
    "results_df_partial['std_errors'] = results_partial.bse\n",
    "results_df_partial['true_params'] = coeffs_true[:-1]\n",
    "results_df_partial"
   ]
  },
  {
   "cell_type": "markdown",
   "metadata": {},
   "source": [
    "## Factor analysis: Is there evidence of latent factors?\n",
    "\n",
    "How do we go about checking for whether a confounder exists (in this example, we know that a confounder exist since we defined the data generating process, but in the real world, the data generating process is more often than now unknown to the analyst). \n",
    "\n",
    "There are a multitude of tests and ways to go about answering this question. A simple, off-the-shelf check is the bartlett sphericity test, which essentially just compares the correlation matrix of our covariates to the identity matrix. This test is used to check whether our covariate space can be reduced to a lower-dimensional space of factors that explain the variation in our data. \n",
    "\n",
    "### Tim, this would be a good place to add your other tests. I'm thinking of the bullet points below:\n",
    "- We can hypothesize a causal graph, and run conditional independence tests. \n",
    "- Prior predictive checks? "
   ]
  },
  {
   "cell_type": "code",
   "execution_count": 9,
   "metadata": {},
   "outputs": [],
   "source": [
    "from factor_analyzer.factor_analyzer import calculate_bartlett_sphericity,calculate_kmo"
   ]
  },
  {
   "cell_type": "code",
   "execution_count": 10,
   "metadata": {},
   "outputs": [
    {
     "name": "stdout",
     "output_type": "stream",
     "text": [
      "Bartlett sphericity test indicates potential latent confounder, with a p-value of:  0.0\n"
     ]
    }
   ],
   "source": [
    "chi_square_value,p_value=calculate_bartlett_sphericity(df[['a','b','c','d','e','f']])\n",
    "print(\"Bartlett sphericity test indicates potential latent confounder, with a p-value of: \", p_value)"
   ]
  },
  {
   "cell_type": "code",
   "execution_count": 11,
   "metadata": {},
   "outputs": [],
   "source": [
    "# kmo_all,kmo_model=calculate_kmo(df[['a','b','c','d','e','f']])\n",
    "# kmo_model"
   ]
  },
  {
   "cell_type": "markdown",
   "metadata": {},
   "source": [
    "## Fitting a factor model using 3 PCA variations.\n",
    "\n",
    "We fit three variations of PCA. This is not necessary indeed, but we wanted to see the robustness of our final estimates and their sensitivities to different variations of fitting the factor models. \n",
    "\n",
    "Notice that we use all of our X variables to fit the factor model (including variable c), consistent with the recommendation in Blei et al. \n",
    "\n"
   ]
  },
  {
   "cell_type": "code",
   "execution_count": 12,
   "metadata": {},
   "outputs": [],
   "source": [
    "X_columns_red = ['a', 'b', 'c', 'd', 'e', 'f']"
   ]
  },
  {
   "cell_type": "code",
   "execution_count": 13,
   "metadata": {},
   "outputs": [],
   "source": [
    "X = np.array(df[X_columns_red])"
   ]
  },
  {
   "cell_type": "markdown",
   "metadata": {},
   "source": [
    "### Using sklearn"
   ]
  },
  {
   "cell_type": "code",
   "execution_count": 14,
   "metadata": {},
   "outputs": [],
   "source": [
    "from sklearn.decomposition import PCA"
   ]
  },
  {
   "cell_type": "code",
   "execution_count": 15,
   "metadata": {},
   "outputs": [],
   "source": [
    "pca = PCA(n_components=1)\n",
    "principalComponents = pca.fit_transform(X)"
   ]
  },
  {
   "cell_type": "markdown",
   "metadata": {},
   "source": [
    "### Using PPCA from Blei et. al's tutorial"
   ]
  },
  {
   "cell_type": "code",
   "execution_count": 16,
   "metadata": {},
   "outputs": [
    {
     "name": "stdout",
     "output_type": "stream",
     "text": [
      "WARNING:tensorflow:From /Users/hassanobeid/UC_Berkeley/PhD/Causality_Research/Github/tr_b_causal_2020/notebooks/working/factor_models.py:166: The name tf.train.AdamOptimizer is deprecated. Please use tf.compat.v1.train.AdamOptimizer instead.\n",
      "\n"
     ]
    },
    {
     "name": "stderr",
     "output_type": "stream",
     "text": [
      "/Users/hassanobeid/UC_Berkeley/PhD/Causality_Research/Github/tr_b_causal_2020/notebooks/working/factor_models.py:119: UserWarning: tfp.edward2 module is deprecated and will be removed on 2019-12-01. Use https://github.com/google/edward2 library instead.\n",
      "  log_joint = ed.make_log_joint_fn(ppca_model)\n"
     ]
    },
    {
     "name": "stdout",
     "output_type": "stream",
     "text": [
      "WARNING:tensorflow:From /Users/hassanobeid/UC_Berkeley/PhD/Causality_Research/Github/tr_b_causal_2020/notebooks/working/factor_models.py:169: The name tf.global_variables_initializer is deprecated. Please use tf.compat.v1.global_variables_initializer instead.\n",
      "\n",
      "WARNING:tensorflow:From /Users/hassanobeid/UC_Berkeley/PhD/Causality_Research/Github/tr_b_causal_2020/notebooks/working/factor_models.py:175: The name tf.Session is deprecated. Please use tf.compat.v1.Session instead.\n",
      "\n",
      "Inferred axes:\n",
      "[[ 0.79958355 -0.9353431   0.00714791  0.924592    0.88586533 -0.8100952 ]]\n",
      "Standard Deviation:\n",
      "[[0.00718107 0.00705525 0.00706792 0.0049357  0.00599242 0.00682985]]\n"
     ]
    },
    {
     "data": {
      "image/png": "[encoded data removed]",
      "text/plain": [
       "<Figure size 432x288 with 1 Axes>"
      ]
     },
     "metadata": {
      "needs_background": "light"
     },
     "output_type": "display_data"
    },
    {
     "data": {
      "text/plain": [
       "1"
      ]
     },
     "metadata": {},
     "output_type": "display_data"
    },
    {
     "name": "stdout",
     "output_type": "stream",
     "text": [
      "P-value, average:  [0.533591813202652]\n"
     ]
    },
    {
     "data": {
      "text/plain": [
       "<matplotlib.axes._subplots.AxesSubplot at 0x7f83a3b81f98>"
      ]
     },
     "metadata": {},
     "output_type": "display_data"
    },
    {
     "data": {
      "image/png": "[encoded data removed]",
      "text/plain": [
       "<Figure size 432x288 with 1 Axes>"
      ]
     },
     "metadata": {
      "needs_background": "light"
     },
     "output_type": "display_data"
    }
   ],
   "source": [
    "latent_dim = 1\n",
    "\n",
    "confounders, holdouts, holdoutmasks, holdoutrow= confounder_ppca(holdout_portion=0.2, X=X, latent_dim=latent_dim)\n",
    "\n",
    "holdouts_req = [holdouts]\n",
    "display.display(len(holdouts_req))\n",
    "\n",
    "confounder_req = [confounders]\n",
    "\n",
    "n_rep = 100 # number of replicated datasets we generate\n",
    "holdout_gen_util = []\n",
    "\n",
    "for j in range(len(holdouts_req)):\n",
    "    holdout_gen = np.zeros((n_rep,*(holdouts_req[j].shape)))\n",
    "    \n",
    "    for i in range(n_rep):\n",
    "        w_sample = npr.normal(confounder_req[j][0], confounder_req[j][1])\n",
    "        z_sample = npr.normal(confounder_req[j][2], confounder_req[j][3])\n",
    "        \n",
    "        data_dim_temp = holdouts_req[j].shape[1]\n",
    "        latent_dim_temp = confounder_req[j][2].shape[1]\n",
    "        num_datapoints_temp = holdouts_req[j].shape[0]\n",
    "        \n",
    "        with ed.interception(replace_latents(w_sample, z_sample)):\n",
    "            generate = ppca_model(\n",
    "                data_dim=data_dim_temp, latent_dim=latent_dim_temp,\n",
    "                num_datapoints=num_datapoints_temp, stddv_datapoints=0.1, holdout_mask=holdoutmasks)\n",
    "\n",
    "        with tf.Session() as sess:\n",
    "            x_generated, _ = sess.run(generate)\n",
    "\n",
    "        # look only at the heldout entries\n",
    "        holdout_gen[i] = np.multiply(x_generated, holdoutmasks)\n",
    "        \n",
    "    holdout_gen_util.append(holdout_gen)\n",
    "    \n",
    "    \n",
    "n_eval = 100 # we draw samples from the inferred Z and W\n",
    "obs_ll_per_zi_per_mode = []\n",
    "rep_ll_per_zi_per_mode = []\n",
    "stddv_datapoints=0.1\n",
    "for mode in range(len(holdouts_req)):\n",
    "    obs_ll = []\n",
    "    rep_ll = []\n",
    "\n",
    "    for j in range(n_eval):\n",
    "        w_sample = npr.normal(confounder_req[mode][0], confounder_req[mode][1])\n",
    "        z_sample = npr.normal(confounder_req[mode][2], confounder_req[mode][3])\n",
    "\n",
    "        holdoutmean_sample = np.multiply(z_sample.dot(w_sample), holdoutmasks)\n",
    "        obs_ll.append(np.mean(stats.norm(holdoutmean_sample, \\\n",
    "                            stddv_datapoints).logpdf(holdouts_req[mode]), axis=1))\n",
    "\n",
    "        rep_ll.append(np.mean(stats.norm(holdoutmean_sample, \\\n",
    "                            stddv_datapoints).logpdf(holdout_gen_util[mode]),axis=2))\n",
    "\n",
    "    obs_ll_per_zi, rep_ll_per_zi = np.mean(np.array(obs_ll), axis=0), np.mean(np.array(rep_ll), axis=0)\n",
    "    obs_ll_per_zi_per_mode.append(obs_ll_per_zi)\n",
    "    rep_ll_per_zi_per_mode.append(rep_ll_per_zi)\n",
    "\n",
    "    \n",
    "pval_mode = []\n",
    "for mode in range(len(holdouts_req)):\n",
    "    pvals = np.array([np.mean(rep_ll_per_zi_per_mode[mode][:,i] < obs_ll_per_zi_per_mode[mode][i]) \n",
    "                      for i in range(holdouts_req[mode].shape[0])])\n",
    "    holdout_subjects = np.unique(holdoutrow)\n",
    "    overall_pval = np.mean(pvals[holdout_subjects])\n",
    "    pval_mode.append(overall_pval)\n",
    "#     print(\"Predictive check p-values\", overall_pval)\n",
    "\n",
    "print(\"P-value, average: \", pval_mode)\n",
    "\n",
    "display.display(sns.kdeplot(pvals[holdout_subjects]))"
   ]
  },
  {
   "cell_type": "code",
   "execution_count": 17,
   "metadata": {},
   "outputs": [
    {
     "data": {
      "image/png": "[encoded data removed]",
      "text/plain": [
       "<Figure size 720x1440 with 5 Axes>"
      ]
     },
     "metadata": {
      "needs_background": "light"
     },
     "output_type": "display_data"
    }
   ],
   "source": [
    "np.random.seed(10)\n",
    "\n",
    "num_subjects = 5\n",
    "fig, axes = plt.subplots(nrows = num_subjects, ncols=1, figsize = (10,20))\n",
    "\n",
    "for i, ax in zip(range(num_subjects), axes.flat):\n",
    "    subject_no = npr.choice(holdout_subjects) \n",
    "    sns.kdeplot(rep_ll_per_zi[:,subject_no], ax=ax).set_title(\"Predictive check for subject \"+str(subject_no))\n",
    "    ax.axvline(x=obs_ll_per_zi[subject_no], linestyle='--')\n",
    "\n",
    "plt.show()"
   ]
  },
  {
   "cell_type": "code",
   "execution_count": 18,
   "metadata": {},
   "outputs": [
    {
     "data": {
      "text/plain": [
       "<matplotlib.lines.Line2D at 0x7f83336f80f0>"
      ]
     },
     "execution_count": 18,
     "metadata": {},
     "output_type": "execute_result"
    },
    {
     "data": {
      "image/png": "[encoded data removed]",
      "text/plain": [
       "<Figure size 432x288 with 1 Axes>"
      ]
     },
     "metadata": {
      "needs_background": "light"
     },
     "output_type": "display_data"
    }
   ],
   "source": [
    "overall_ll_est = rep_ll_per_zi.mean(axis=1)\n",
    "\n",
    "overall_ll_obs = obs_ll_per_zi.mean()\n",
    "\n",
    "sns.kdeplot(overall_ll_est).set_title(\"Predictive check: Population\")\n",
    "plt.axvline(x=overall_ll_obs, linestyle='--')"
   ]
  },
  {
   "cell_type": "code",
   "execution_count": 19,
   "metadata": {},
   "outputs": [
    {
     "data": {
      "text/plain": [
       "(100,)"
      ]
     },
     "execution_count": 19,
     "metadata": {},
     "output_type": "execute_result"
    }
   ],
   "source": [
    "overall_ll_est.shape"
   ]
  },
  {
   "cell_type": "markdown",
   "metadata": {},
   "source": [
    "## Visualizing the substitute confounder against the true confounder\n",
    "Since we do know the values for the absolute confouder, we can actually in this case plot the recovered values against the true ones in a scatter plot and compare the fit. This is not possible in a real problem however, and we'll have to use the tests outlined in the previous sections (posterior predictive checks, etc.). \n",
    "\n",
    "We can see that the confounder values recovered are highly correlated with the true confounder, suggesting that we $successfully$ recovered the confounder. "
   ]
  },
  {
   "cell_type": "code",
   "execution_count": 20,
   "metadata": {},
   "outputs": [],
   "source": [
    "df['confounder_PCA_SKLEARN'] = principalComponents[:,0]\n",
    "\n",
    "df['confounder_PPCA'] = confounders[2]"
   ]
  },
  {
   "cell_type": "code",
   "execution_count": 21,
   "metadata": {},
   "outputs": [
    {
     "name": "stderr",
     "output_type": "stream",
     "text": [
      "'c' argument looks like a single numeric RGB or RGBA sequence, which should be avoided as value-mapping will have precedence in case its length matches with 'x' & 'y'.  Please use a 2-D array with a single row if you really want to specify the same RGB or RGBA value for all points.\n"
     ]
    },
    {
     "data": {
      "text/plain": [
       "<matplotlib.axes._subplots.AxesSubplot at 0x7f83336f8320>"
      ]
     },
     "execution_count": 21,
     "metadata": {},
     "output_type": "execute_result"
    },
    {
     "data": {
      "image/png": "[encoded data removed]",
      "text/plain": [
       "<Figure size 432x288 with 1 Axes>"
      ]
     },
     "metadata": {
      "needs_background": "light"
     },
     "output_type": "display_data"
    }
   ],
   "source": [
    "df.plot(kind='scatter', x = 'confounder_PCA_SKLEARN', y = 'confounder')"
   ]
  },
  {
   "cell_type": "code",
   "execution_count": 22,
   "metadata": {},
   "outputs": [
    {
     "name": "stderr",
     "output_type": "stream",
     "text": [
      "'c' argument looks like a single numeric RGB or RGBA sequence, which should be avoided as value-mapping will have precedence in case its length matches with 'x' & 'y'.  Please use a 2-D array with a single row if you really want to specify the same RGB or RGBA value for all points.\n"
     ]
    },
    {
     "data": {
      "text/plain": [
       "<matplotlib.axes._subplots.AxesSubplot at 0x7f8333a77f28>"
      ]
     },
     "execution_count": 22,
     "metadata": {},
     "output_type": "execute_result"
    },
    {
     "data": {
      "image/png": "[encoded data removed]",
      "text/plain": [
       "<Figure size 432x288 with 1 Axes>"
      ]
     },
     "metadata": {
      "needs_background": "light"
     },
     "output_type": "display_data"
    }
   ],
   "source": [
    "df.plot(kind='scatter', x = 'confounder_PPCA', y = 'confounder')"
   ]
  },
  {
   "cell_type": "markdown",
   "metadata": {},
   "source": [
    "## Re-estimating regression with and without confounder\n",
    "\n",
    "Notice that the simulation was designed such that ommitting the confounder will flip the sign of the coefficient on $b$. When we add the confounder, estimated using any PCA variation, the coefficient on $b$ remains flipped. \n",
    "\n",
    "In addition, the bias on the coefficient estimates on our variables of interest $a, b, d, e, and f$ did not necessarily decrease in a significant way. This is surprising, since the confounder we recovered does actually correlate very well with the true confounder. The next section explores the sensitivity of those coefficients to random noise added to the true confounder."
   ]
  },
  {
   "cell_type": "code",
   "execution_count": 23,
   "metadata": {},
   "outputs": [
    {
     "data": {
      "text/html": [
       "<div>\n",
       "<style scoped>\n",
       "    .dataframe tbody tr th:only-of-type {\n",
       "        vertical-align: middle;\n",
       "    }\n",
       "\n",
       "    .dataframe tbody tr th {\n",
       "        vertical-align: top;\n",
       "    }\n",
       "\n",
       "    .dataframe thead th {\n",
       "        text-align: right;\n",
       "    }\n",
       "</style>\n",
       "<table border=\"1\" class=\"dataframe\">\n",
       "  <thead>\n",
       "    <tr style=\"text-align: right;\">\n",
       "      <th></th>\n",
       "      <th>estimated_params</th>\n",
       "      <th>std_errors</th>\n",
       "      <th>true_params</th>\n",
       "    </tr>\n",
       "  </thead>\n",
       "  <tbody>\n",
       "    <tr>\n",
       "      <th>Intercept</th>\n",
       "      <td>4.996746</td>\n",
       "      <td>0.017363</td>\n",
       "      <td>5</td>\n",
       "    </tr>\n",
       "    <tr>\n",
       "      <th>a</th>\n",
       "      <td>2.451515</td>\n",
       "      <td>0.024228</td>\n",
       "      <td>2</td>\n",
       "    </tr>\n",
       "    <tr>\n",
       "      <th>b</th>\n",
       "      <td>-1.396268</td>\n",
       "      <td>0.044545</td>\n",
       "      <td>2</td>\n",
       "    </tr>\n",
       "    <tr>\n",
       "      <th>c</th>\n",
       "      <td>-4.986051</td>\n",
       "      <td>0.017368</td>\n",
       "      <td>-5</td>\n",
       "    </tr>\n",
       "    <tr>\n",
       "      <th>d</th>\n",
       "      <td>5.113578</td>\n",
       "      <td>0.041792</td>\n",
       "      <td>3</td>\n",
       "    </tr>\n",
       "    <tr>\n",
       "      <th>e</th>\n",
       "      <td>2.959873</td>\n",
       "      <td>0.032005</td>\n",
       "      <td>2</td>\n",
       "    </tr>\n",
       "    <tr>\n",
       "      <th>f</th>\n",
       "      <td>-5.455409</td>\n",
       "      <td>0.024341</td>\n",
       "      <td>-5</td>\n",
       "    </tr>\n",
       "  </tbody>\n",
       "</table>\n",
       "</div>"
      ],
      "text/plain": [
       "           estimated_params  std_errors  true_params\n",
       "Intercept          4.996746    0.017363            5\n",
       "a                  2.451515    0.024228            2\n",
       "b                 -1.396268    0.044545            2\n",
       "c                 -4.986051    0.017368           -5\n",
       "d                  5.113578    0.041792            3\n",
       "e                  2.959873    0.032005            2\n",
       "f                 -5.455409    0.024341           -5"
      ]
     },
     "execution_count": 23,
     "metadata": {},
     "output_type": "execute_result"
    }
   ],
   "source": [
    "model_deconf = smf.ols(\"y ~ a+b+c+d+e+f \", data=df)\n",
    "results_deconf = model_deconf.fit()\n",
    "results_df_deconf = pd.DataFrame(results_deconf.params, columns = ['estimated_params'])\n",
    "results_df_deconf['std_errors'] = results_deconf.bse\n",
    "results_df_deconf['true_params'] = coeffs_true[:-1]\n",
    "results_df_deconf"
   ]
  },
  {
   "cell_type": "code",
   "execution_count": 24,
   "metadata": {},
   "outputs": [],
   "source": [
    "# model_deconf = smf.ols(\"y ~ a+b+c+d+e+f+confounder_PCA_CV \", data=df)\n",
    "# results_deconf = model_deconf.fit()\n",
    "# results_df_deconf = pd.DataFrame(results_deconf.params, columns = ['estimated_params'])\n",
    "# results_df_deconf['std_errors'] = results_deconf.bse\n",
    "# results_df_deconf['true_params'] = coeffs_true\n",
    "# results_df_deconf"
   ]
  },
  {
   "cell_type": "code",
   "execution_count": 25,
   "metadata": {},
   "outputs": [
    {
     "data": {
      "text/html": [
       "<div>\n",
       "<style scoped>\n",
       "    .dataframe tbody tr th:only-of-type {\n",
       "        vertical-align: middle;\n",
       "    }\n",
       "\n",
       "    .dataframe tbody tr th {\n",
       "        vertical-align: top;\n",
       "    }\n",
       "\n",
       "    .dataframe thead th {\n",
       "        text-align: right;\n",
       "    }\n",
       "</style>\n",
       "<table border=\"1\" class=\"dataframe\">\n",
       "  <thead>\n",
       "    <tr style=\"text-align: right;\">\n",
       "      <th></th>\n",
       "      <th>estimated_params</th>\n",
       "      <th>std_errors</th>\n",
       "      <th>true_params</th>\n",
       "    </tr>\n",
       "  </thead>\n",
       "  <tbody>\n",
       "    <tr>\n",
       "      <th>Intercept</th>\n",
       "      <td>4.996746</td>\n",
       "      <td>0.017363</td>\n",
       "      <td>5</td>\n",
       "    </tr>\n",
       "    <tr>\n",
       "      <th>a</th>\n",
       "      <td>0.897885</td>\n",
       "      <td>0.024026</td>\n",
       "      <td>2</td>\n",
       "    </tr>\n",
       "    <tr>\n",
       "      <th>b</th>\n",
       "      <td>0.459168</td>\n",
       "      <td>0.044389</td>\n",
       "      <td>2</td>\n",
       "    </tr>\n",
       "    <tr>\n",
       "      <th>c</th>\n",
       "      <td>-4.991775</td>\n",
       "      <td>0.017368</td>\n",
       "      <td>-5</td>\n",
       "    </tr>\n",
       "    <tr>\n",
       "      <th>d</th>\n",
       "      <td>3.277988</td>\n",
       "      <td>0.041629</td>\n",
       "      <td>3</td>\n",
       "    </tr>\n",
       "    <tr>\n",
       "      <th>e</th>\n",
       "      <td>1.208898</td>\n",
       "      <td>0.031811</td>\n",
       "      <td>2</td>\n",
       "    </tr>\n",
       "    <tr>\n",
       "      <th>f</th>\n",
       "      <td>-3.895761</td>\n",
       "      <td>0.024139</td>\n",
       "      <td>-5</td>\n",
       "    </tr>\n",
       "    <tr>\n",
       "      <th>confounder_PCA_SKLEARN</th>\n",
       "      <td>-3.837219</td>\n",
       "      <td>0.004446</td>\n",
       "      <td>7</td>\n",
       "    </tr>\n",
       "  </tbody>\n",
       "</table>\n",
       "</div>"
      ],
      "text/plain": [
       "                        estimated_params  std_errors  true_params\n",
       "Intercept                       4.996746    0.017363            5\n",
       "a                               0.897885    0.024026            2\n",
       "b                               0.459168    0.044389            2\n",
       "c                              -4.991775    0.017368           -5\n",
       "d                               3.277988    0.041629            3\n",
       "e                               1.208898    0.031811            2\n",
       "f                              -3.895761    0.024139           -5\n",
       "confounder_PCA_SKLEARN         -3.837219    0.004446            7"
      ]
     },
     "execution_count": 25,
     "metadata": {},
     "output_type": "execute_result"
    }
   ],
   "source": [
    "model_deconf = smf.ols(\"y ~ a+b+c+d+e+f+confounder_PCA_SKLEARN \", data=df)\n",
    "results_deconf = model_deconf.fit()\n",
    "results_df_deconf = pd.DataFrame(results_deconf.params, columns = ['estimated_params'])\n",
    "results_df_deconf['std_errors'] = results_deconf.bse\n",
    "results_df_deconf['true_params'] = coeffs_true\n",
    "results_df_deconf"
   ]
  },
  {
   "cell_type": "code",
   "execution_count": 26,
   "metadata": {},
   "outputs": [
    {
     "data": {
      "text/html": [
       "<div>\n",
       "<style scoped>\n",
       "    .dataframe tbody tr th:only-of-type {\n",
       "        vertical-align: middle;\n",
       "    }\n",
       "\n",
       "    .dataframe tbody tr th {\n",
       "        vertical-align: top;\n",
       "    }\n",
       "\n",
       "    .dataframe thead th {\n",
       "        text-align: right;\n",
       "    }\n",
       "</style>\n",
       "<table border=\"1\" class=\"dataframe\">\n",
       "  <thead>\n",
       "    <tr style=\"text-align: right;\">\n",
       "      <th></th>\n",
       "      <th>estimated_params</th>\n",
       "      <th>std_errors</th>\n",
       "      <th>true_params</th>\n",
       "    </tr>\n",
       "  </thead>\n",
       "  <tbody>\n",
       "    <tr>\n",
       "      <th>Intercept</th>\n",
       "      <td>4.996787</td>\n",
       "      <td>0.017364</td>\n",
       "      <td>5</td>\n",
       "    </tr>\n",
       "    <tr>\n",
       "      <th>a</th>\n",
       "      <td>2.465999</td>\n",
       "      <td>0.034991</td>\n",
       "      <td>2</td>\n",
       "    </tr>\n",
       "    <tr>\n",
       "      <th>b</th>\n",
       "      <td>-1.413271</td>\n",
       "      <td>0.053505</td>\n",
       "      <td>2</td>\n",
       "    </tr>\n",
       "    <tr>\n",
       "      <th>c</th>\n",
       "      <td>-4.985942</td>\n",
       "      <td>0.017369</td>\n",
       "      <td>-5</td>\n",
       "    </tr>\n",
       "    <tr>\n",
       "      <th>d</th>\n",
       "      <td>5.130862</td>\n",
       "      <td>0.051521</td>\n",
       "      <td>3</td>\n",
       "    </tr>\n",
       "    <tr>\n",
       "      <th>e</th>\n",
       "      <td>2.975893</td>\n",
       "      <td>0.042475</td>\n",
       "      <td>2</td>\n",
       "    </tr>\n",
       "    <tr>\n",
       "      <th>f</th>\n",
       "      <td>-5.470336</td>\n",
       "      <td>0.035630</td>\n",
       "      <td>-5</td>\n",
       "    </tr>\n",
       "    <tr>\n",
       "      <th>confounder_PPCA</th>\n",
       "      <td>-0.069921</td>\n",
       "      <td>0.121879</td>\n",
       "      <td>7</td>\n",
       "    </tr>\n",
       "  </tbody>\n",
       "</table>\n",
       "</div>"
      ],
      "text/plain": [
       "                 estimated_params  std_errors  true_params\n",
       "Intercept                4.996787    0.017364            5\n",
       "a                        2.465999    0.034991            2\n",
       "b                       -1.413271    0.053505            2\n",
       "c                       -4.985942    0.017369           -5\n",
       "d                        5.130862    0.051521            3\n",
       "e                        2.975893    0.042475            2\n",
       "f                       -5.470336    0.035630           -5\n",
       "confounder_PPCA         -0.069921    0.121879            7"
      ]
     },
     "execution_count": 26,
     "metadata": {},
     "output_type": "execute_result"
    }
   ],
   "source": [
    "model_deconf = smf.ols(\"y ~ a+b+c+d+e+f+confounder_PPCA \", data=df)\n",
    "results_deconf = model_deconf.fit()\n",
    "results_df_deconf = pd.DataFrame(results_deconf.params, columns = ['estimated_params'])\n",
    "results_df_deconf['std_errors'] = results_deconf.bse\n",
    "results_df_deconf['true_params'] = coeffs_true\n",
    "results_df_deconf"
   ]
  },
  {
   "cell_type": "markdown",
   "metadata": {},
   "source": [
    "## Adding random noise to the confounder and seeing how it affects the coefficients on the other variables\n",
    "\n",
    "Here, we simply create a new variable, which is the original confounder plus small random noise, and substitute the true confounder with the newly created confounder in the original regression to evaluate the sensitivity of the bias of our coefficients of interest to small random deviations from the true confounder. \n",
    "\n",
    "We find that even with very small values of the random noise (mean of 0 and standard deviation of 0.2), we still get biased estimates of our effects of interest, especially on $b$. "
   ]
  },
  {
   "cell_type": "code",
   "execution_count": 27,
   "metadata": {
    "lines_to_end_of_cell_marker": 2
   },
   "outputs": [],
   "source": [
    "\"\"\"\n",
    "We add random noise from a normal distribution of mean zero. We control the spread of this distribution\n",
    "using the parameter 'coef', which represents the standard deviation of this normal distribution of the noise. \n",
    "\"\"\"\n",
    "\n",
    "coef=0.2\n",
    "\n",
    "df['confounder_2'] = df['confounder'] + coef*np.random.normal(loc=0,scale = 1, size = len(df))"
   ]
  },
  {
   "cell_type": "code",
   "execution_count": 28,
   "metadata": {},
   "outputs": [
    {
     "name": "stderr",
     "output_type": "stream",
     "text": [
      "'c' argument looks like a single numeric RGB or RGBA sequence, which should be avoided as value-mapping will have precedence in case its length matches with 'x' & 'y'.  Please use a 2-D array with a single row if you really want to specify the same RGB or RGBA value for all points.\n"
     ]
    },
    {
     "data": {
      "text/plain": [
       "<matplotlib.axes._subplots.AxesSubplot at 0x7f83b6f322b0>"
      ]
     },
     "execution_count": 28,
     "metadata": {},
     "output_type": "execute_result"
    },
    {
     "data": {
      "image/png": "[encoded data removed]",
      "text/plain": [
       "<Figure size 432x288 with 1 Axes>"
      ]
     },
     "metadata": {
      "needs_background": "light"
     },
     "output_type": "display_data"
    }
   ],
   "source": [
    "df.plot(kind='scatter', x = 'confounder_2', y = 'confounder')"
   ]
  },
  {
   "cell_type": "code",
   "execution_count": 29,
   "metadata": {},
   "outputs": [
    {
     "data": {
      "text/html": [
       "<div>\n",
       "<style scoped>\n",
       "    .dataframe tbody tr th:only-of-type {\n",
       "        vertical-align: middle;\n",
       "    }\n",
       "\n",
       "    .dataframe tbody tr th {\n",
       "        vertical-align: top;\n",
       "    }\n",
       "\n",
       "    .dataframe thead th {\n",
       "        text-align: right;\n",
       "    }\n",
       "</style>\n",
       "<table border=\"1\" class=\"dataframe\">\n",
       "  <thead>\n",
       "    <tr style=\"text-align: right;\">\n",
       "      <th></th>\n",
       "      <th>estimated_params</th>\n",
       "      <th>std_errors</th>\n",
       "      <th>true_params</th>\n",
       "    </tr>\n",
       "  </thead>\n",
       "  <tbody>\n",
       "    <tr>\n",
       "      <th>Intercept</th>\n",
       "      <td>4.993498</td>\n",
       "      <td>0.014239</td>\n",
       "      <td>5</td>\n",
       "    </tr>\n",
       "    <tr>\n",
       "      <th>a</th>\n",
       "      <td>2.234912</td>\n",
       "      <td>0.020110</td>\n",
       "      <td>2</td>\n",
       "    </tr>\n",
       "    <tr>\n",
       "      <th>b</th>\n",
       "      <td>0.335264</td>\n",
       "      <td>0.044166</td>\n",
       "      <td>2</td>\n",
       "    </tr>\n",
       "    <tr>\n",
       "      <th>c</th>\n",
       "      <td>-4.980134</td>\n",
       "      <td>0.014243</td>\n",
       "      <td>-5</td>\n",
       "    </tr>\n",
       "    <tr>\n",
       "      <th>d</th>\n",
       "      <td>4.027803</td>\n",
       "      <td>0.037642</td>\n",
       "      <td>3</td>\n",
       "    </tr>\n",
       "    <tr>\n",
       "      <th>e</th>\n",
       "      <td>2.486697</td>\n",
       "      <td>0.027109</td>\n",
       "      <td>2</td>\n",
       "    </tr>\n",
       "    <tr>\n",
       "      <th>f</th>\n",
       "      <td>-5.230748</td>\n",
       "      <td>0.020220</td>\n",
       "      <td>-5</td>\n",
       "    </tr>\n",
       "    <tr>\n",
       "      <th>confounder_2</th>\n",
       "      <td>3.529067</td>\n",
       "      <td>0.050589</td>\n",
       "      <td>7</td>\n",
       "    </tr>\n",
       "  </tbody>\n",
       "</table>\n",
       "</div>"
      ],
      "text/plain": [
       "              estimated_params  std_errors  true_params\n",
       "Intercept             4.993498    0.014239            5\n",
       "a                     2.234912    0.020110            2\n",
       "b                     0.335264    0.044166            2\n",
       "c                    -4.980134    0.014243           -5\n",
       "d                     4.027803    0.037642            3\n",
       "e                     2.486697    0.027109            2\n",
       "f                    -5.230748    0.020220           -5\n",
       "confounder_2          3.529067    0.050589            7"
      ]
     },
     "execution_count": 29,
     "metadata": {},
     "output_type": "execute_result"
    }
   ],
   "source": [
    "model_deconf = smf.ols(\"y ~ a+b+c+d+e+f+confounder_2\", data=df)\n",
    "results_deconf = model_deconf.fit()\n",
    "results_df_deconf1 = pd.DataFrame(results_deconf.params, columns = ['estimated_params'])\n",
    "results_df_deconf1['std_errors'] = results_deconf.bse\n",
    "results_df_deconf1['true_params'] = coeffs_true\n",
    "results_df_deconf1"
   ]
  },
  {
   "cell_type": "code",
   "execution_count": 30,
   "metadata": {},
   "outputs": [
    {
     "data": {
      "text/plain": [
       "estimated_params    0.335264\n",
       "std_errors          0.044166\n",
       "true_params         2.000000\n",
       "Name: b, dtype: float64"
      ]
     },
     "execution_count": 30,
     "metadata": {},
     "output_type": "execute_result"
    }
   ],
   "source": [
    "results_df_deconf1.loc['b']"
   ]
  },
  {
   "cell_type": "code",
   "execution_count": 31,
   "metadata": {
    "lines_to_next_cell": 2
   },
   "outputs": [],
   "source": [
    "b_est = []\n",
    "b_std = []\n",
    "\n",
    "coef=np.arange(0,1,.05)\n",
    "for i in coef:\n",
    "    df['confounder_i'] = df['confounder'] + i*np.random.normal(loc=0,scale = 1, size = len(df))\n",
    "    model_deconf = smf.ols(\"y ~ a+b+c+d+e+f+confounder_i\", data=df)\n",
    "    results_deconf = model_deconf.fit()\n",
    "    results_df_deconf1 = pd.DataFrame(results_deconf.params, columns = ['estimated_params'])\n",
    "    results_df_deconf1['std_errors'] = results_deconf.bse\n",
    "    b_est.append(results_df_deconf1.loc['b'].iloc[0])\n",
    "    b_std.append(results_df_deconf1.loc['b'].iloc[1])"
   ]
  },
  {
   "cell_type": "code",
   "execution_count": 34,
   "metadata": {
    "lines_to_next_cell": 0
   },
   "outputs": [
    {
     "data": {
      "image/png": "[encoded data removed]",
      "text/plain": [
       "<Figure size 1152x648 with 1 Axes>"
      ]
     },
     "metadata": {
      "needs_background": "light"
     },
     "output_type": "display_data"
    }
   ],
   "source": [
    "fig, ax = plt.subplots(figsize=(16,9))\n",
    "ax.plot(coef, b_est, color = 'green', marker = 'o')\n",
    "ax.axhline(2, label = 'True Parameter', ls='--')\n",
    "\n",
    "ax.set_ylabel('Estimated Parameter', size = 18)\n",
    "ax.set_xlabel('Standard Deviation of Added Noise', size = 18)\n",
    "# ax.set_title('Sensitivity of causal effect to random noise added to the confounder', size = 20)\n",
    "ax.legend()\n",
    "\n",
    "fig.savefig('confounder-sensitivity.pdf')\n",
    "fig.savefig('confounder-sensitivity.png')"
   ]
  },
  {
   "cell_type": "code",
   "execution_count": null,
   "metadata": {
    "lines_to_next_cell": 2
   },
   "outputs": [],
   "source": []
  }
 ],
 "metadata": {
  "jupytext": {
   "formats": "ipynb,py"
  },
  "kernelspec": {
   "display_name": "Python 3",
   "language": "python",
   "name": "python3"
  },
  "language_info": {
   "codemirror_mode": {
    "name": "ipython",
    "version": 3
   },
   "file_extension": ".py",
   "mimetype": "text/x-python",
   "name": "python",
   "nbconvert_exporter": "python",
   "pygments_lexer": "ipython3",
   "version": "3.7.3"
  }
 },
 "nbformat": 4,
 "nbformat_minor": 2
}
