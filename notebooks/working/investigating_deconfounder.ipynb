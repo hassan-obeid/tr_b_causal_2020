{
 "cells": [
  {
   "cell_type": "markdown",
   "metadata": {},
   "source": [
    "# Goal \n",
    "The goal of this notebook is to investigate, using simulations, the effectiveness and usefuleness of the deconfounder approach to causal inference with latent confounding in recovering the true causal effects of variables. This approach was proposed by Blei et al. in 2018 (incert reference here)\n",
    "\n",
    "The flow of this notebook is as follows: \n",
    "- Simulate observations based on a confounded structure, where one variable confounds all but one of the other variables. \n",
    "- Simulate a continuous outcome based on a linear model, where we know the true causal effect of each variable. \n",
    "- Ommit the confounder from the dataframe, and attempt to recover it using factor models (PCA). \n",
    "- Check the recovered (substitute) confounder against the true confounder using scatter plots. \n",
    "- Re-estimate the outcome regression model, controlling for the substitute confounder instead of the true confounder, and compare the estimated coefficients on the other confounded variables against the ground truth"
   ]
  },
  {
   "cell_type": "code",
   "execution_count": 1,
   "metadata": {},
   "outputs": [
    {
     "data": {
      "text/plain": [
       "['5.0-mab-simulation-causal-graph.md',\n",
       " 'ho_deconfounder_on_sim_data.py',\n",
       " '.DS_Store',\n",
       " '_04-tb-parking-choice-example.py',\n",
       " '_02_tb-Demo-visual-marginal-independence-tests.py',\n",
       " 'fun_with_cit.ipynb',\n",
       " 'investigating_deconfounder.ipynb',\n",
       " 'ho_deconfounder_on_sim_data.ipynb',\n",
       " 'util.py',\n",
       " '_04-tb-parking-choice-example.ipynb',\n",
       " '_02_tb-Demo-visual-marginal-independence-tests.ipynb',\n",
       " '.gitkeep',\n",
       " 'Causal_Graph_Tim_Data.ipynb',\n",
       " '_03-tb-deconfounder-predictive-checks.ipynb',\n",
       " '_03-tb-deconfounder-predictive-checks.md',\n",
       " '__pycache__',\n",
       " 'Simple_Simulation.md',\n",
       " '3.0-mab-independent-variable-simulation.ipynb',\n",
       " '5.0-mab-simulation-causal-graph.ipynb',\n",
       " '_02_tb-Demo-visual-marginal-independence-tests.md',\n",
       " '3.0-mab-independent-variable-simulation.md',\n",
       " '_05-tb-PC-algorithm-investigation.py',\n",
       " 'Causal_Graph_Tim_Data.py',\n",
       " '4.0-mab-causal-graph-simulation.md',\n",
       " 'factor_models.py',\n",
       " '.ipynb_checkpoints',\n",
       " '_03-tb-deconfounder-predictive-checks.py',\n",
       " '_01_tb-Demo-visual-conditional-independence-tests.ipynb',\n",
       " 'Simple_Simulation.py',\n",
       " '_01_tb-Demo-visual-conditional-independence-tests.py',\n",
       " 'Simple_Simulation.ipynb',\n",
       " '_05-tb-PC-algorithm-investigation.ipynb',\n",
       " '4.0-mab-causal-graph-simulation.ipynb']"
      ]
     },
     "execution_count": 1,
     "metadata": {},
     "output_type": "execute_result"
    }
   ],
   "source": [
    "import pandas as pd\n",
    "import numpy as np\n",
    "import matplotlib.pyplot as plt\n",
    "from causalgraphicalmodels import CausalGraphicalModel, StructuralCausalModel\n",
    "import pylogit\n",
    "from collections import OrderedDict\n",
    "import pylogit as cm\n",
    "from functools import reduce\n",
    "import statsmodels.api as sm\n",
    "import statsmodels.formula.api as smf\n",
    "from math import ceil\n",
    "\n",
    "from IPython import display\n",
    "import seaborn as sns\n",
    "\n",
    "import numpy as np\n",
    "import numpy.random as npr\n",
    "import pandas as pd\n",
    "import tensorflow as tf\n",
    "import tensorflow_probability as tfp\n",
    "import statsmodels.api as sm\n",
    "\n",
    "from tensorflow_probability import edward2 as ed\n",
    "from sklearn.datasets import load_breast_cancer\n",
    "from pandas.plotting import scatter_matrix\n",
    "from scipy import sparse, stats\n",
    "from sklearn.model_selection import train_test_split\n",
    "from sklearn.linear_model import LogisticRegression \n",
    "from sklearn.metrics import confusion_matrix, classification_report, roc_auc_score, roc_curve\n",
    "\n",
    "import matplotlib\n",
    "matplotlib.rcParams.update({'font.sans-serif' : 'Helvetica',\n",
    "                            'axes.labelsize': 10,\n",
    "                            'xtick.labelsize' : 6,\n",
    "                            'ytick.labelsize' : 6,\n",
    "                            'axes.titlesize' : 10})\n",
    "import matplotlib.pyplot as plt\n",
    "\n",
    "import seaborn as sns\n",
    "color_names = [\"windows blue\",\n",
    "               \"amber\",\n",
    "               \"crimson\",\n",
    "               \"faded green\",\n",
    "               \"dusty purple\",\n",
    "               \"greyish\"]\n",
    "colors = sns.xkcd_palette(color_names)\n",
    "sns.set(style=\"white\", palette=sns.xkcd_palette(color_names), color_codes = False)\n",
    "\n",
    "\n",
    "from factor_models import *\n",
    "\n",
    "\n",
    "import os\n",
    "os.listdir('.')"
   ]
  },
  {
   "cell_type": "markdown",
   "metadata": {},
   "source": [
    "## Specify the assumed causal graph of the data generation process\n",
    "The causal graph below represents the true data generating process that we'll be using for simulation. Notice how the confounder affects variables a, b, d, e, and f, as well as the outcome y. "
   ]
  },
  {
   "cell_type": "code",
   "execution_count": 2,
   "metadata": {},
   "outputs": [
    {
     "data": {
      "image/svg+xml": [
       "<?xml version=\"1.0\" encoding=\"UTF-8\" standalone=\"no\"?>\n",
       "<!DOCTYPE svg PUBLIC \"-//W3C//DTD SVG 1.1//EN\"\n",
       " \"http://www.w3.org/Graphics/SVG/1.1/DTD/svg11.dtd\">\n",
       "<!-- Generated by graphviz version 2.40.1 (20161225.0304)\n",
       " -->\n",
       "<!-- Title: %3 Pages: 1 -->\n",
       "<svg width=\"460pt\" height=\"188pt\"\n",
       " viewBox=\"0.00 0.00 460.00 188.00\" xmlns=\"http://www.w3.org/2000/svg\" xmlns:xlink=\"http://www.w3.org/1999/xlink\">\n",
       "<g id=\"graph0\" class=\"graph\" transform=\"scale(1 1) rotate(0) translate(4 184)\">\n",
       "<title>%3</title>\n",
       "<polygon fill=\"#ffffff\" stroke=\"transparent\" points=\"-4,4 -4,-184 456,-184 456,4 -4,4\"/>\n",
       "<!-- confounder -->\n",
       "<g id=\"node1\" class=\"node\">\n",
       "<title>confounder</title>\n",
       "<ellipse fill=\"none\" stroke=\"#000000\" cx=\"173\" cy=\"-162\" rx=\"51.9908\" ry=\"18\"/>\n",
       "<text text-anchor=\"middle\" x=\"173\" y=\"-158.3\" font-family=\"Times,serif\" font-size=\"14.00\" fill=\"#000000\">confounder</text>\n",
       "</g>\n",
       "<!-- d -->\n",
       "<g id=\"node2\" class=\"node\">\n",
       "<title>d</title>\n",
       "<ellipse fill=\"none\" stroke=\"#000000\" cx=\"27\" cy=\"-90\" rx=\"27\" ry=\"18\"/>\n",
       "<text text-anchor=\"middle\" x=\"27\" y=\"-86.3\" font-family=\"Times,serif\" font-size=\"14.00\" fill=\"#000000\">d</text>\n",
       "</g>\n",
       "<!-- confounder&#45;&gt;d -->\n",
       "<g id=\"edge7\" class=\"edge\">\n",
       "<title>confounder&#45;&gt;d</title>\n",
       "<path fill=\"none\" stroke=\"#000000\" d=\"M143.1024,-147.256C118.2466,-134.9983 83.0041,-117.6184 57.8797,-105.2283\"/>\n",
       "<polygon fill=\"#000000\" stroke=\"#000000\" points=\"59.3054,-102.029 48.7887,-100.7451 56.2093,-108.3071 59.3054,-102.029\"/>\n",
       "</g>\n",
       "<!-- y -->\n",
       "<g id=\"node4\" class=\"node\">\n",
       "<title>y</title>\n",
       "<ellipse fill=\"none\" stroke=\"#000000\" cx=\"209\" cy=\"-18\" rx=\"27\" ry=\"18\"/>\n",
       "<text text-anchor=\"middle\" x=\"209\" y=\"-14.3\" font-family=\"Times,serif\" font-size=\"14.00\" fill=\"#000000\">y</text>\n",
       "</g>\n",
       "<!-- confounder&#45;&gt;y -->\n",
       "<g id=\"edge4\" class=\"edge\">\n",
       "<title>confounder&#45;&gt;y</title>\n",
       "<path fill=\"none\" stroke=\"#000000\" d=\"M141.8513,-147.338C126.5518,-138.3272 109.5949,-125.1898 101,-108 93.8446,-93.6892 92.5883,-85.6104 101,-72 116.5951,-46.7666 147.9473,-32.93 172.8723,-25.6006\"/>\n",
       "<polygon fill=\"#000000\" stroke=\"#000000\" points=\"174.0113,-28.9184 182.7507,-22.9289 172.1837,-22.1612 174.0113,-28.9184\"/>\n",
       "</g>\n",
       "<!-- a -->\n",
       "<g id=\"node5\" class=\"node\">\n",
       "<title>a</title>\n",
       "<ellipse fill=\"none\" stroke=\"#000000\" cx=\"137\" cy=\"-90\" rx=\"27\" ry=\"18\"/>\n",
       "<text text-anchor=\"middle\" x=\"137\" y=\"-86.3\" font-family=\"Times,serif\" font-size=\"14.00\" fill=\"#000000\">a</text>\n",
       "</g>\n",
       "<!-- confounder&#45;&gt;a -->\n",
       "<g id=\"edge5\" class=\"edge\">\n",
       "<title>confounder&#45;&gt;a</title>\n",
       "<path fill=\"none\" stroke=\"#000000\" d=\"M164.1011,-144.2022C159.8978,-135.7955 154.7959,-125.5917 150.1575,-116.3149\"/>\n",
       "<polygon fill=\"#000000\" stroke=\"#000000\" points=\"153.1513,-114.4762 145.5486,-107.0972 146.8903,-117.6068 153.1513,-114.4762\"/>\n",
       "</g>\n",
       "<!-- e -->\n",
       "<g id=\"node6\" class=\"node\">\n",
       "<title>e</title>\n",
       "<ellipse fill=\"none\" stroke=\"#000000\" cx=\"209\" cy=\"-90\" rx=\"27\" ry=\"18\"/>\n",
       "<text text-anchor=\"middle\" x=\"209\" y=\"-86.3\" font-family=\"Times,serif\" font-size=\"14.00\" fill=\"#000000\">e</text>\n",
       "</g>\n",
       "<!-- confounder&#45;&gt;e -->\n",
       "<g id=\"edge8\" class=\"edge\">\n",
       "<title>confounder&#45;&gt;e</title>\n",
       "<path fill=\"none\" stroke=\"#000000\" d=\"M181.8989,-144.2022C186.1022,-135.7955 191.2041,-125.5917 195.8425,-116.3149\"/>\n",
       "<polygon fill=\"#000000\" stroke=\"#000000\" points=\"199.1097,-117.6068 200.4514,-107.0972 192.8487,-114.4762 199.1097,-117.6068\"/>\n",
       "</g>\n",
       "<!-- f -->\n",
       "<g id=\"node7\" class=\"node\">\n",
       "<title>f</title>\n",
       "<ellipse fill=\"none\" stroke=\"#000000\" cx=\"281\" cy=\"-90\" rx=\"27\" ry=\"18\"/>\n",
       "<text text-anchor=\"middle\" x=\"281\" y=\"-86.3\" font-family=\"Times,serif\" font-size=\"14.00\" fill=\"#000000\">f</text>\n",
       "</g>\n",
       "<!-- confounder&#45;&gt;f -->\n",
       "<g id=\"edge9\" class=\"edge\">\n",
       "<title>confounder&#45;&gt;f</title>\n",
       "<path fill=\"none\" stroke=\"#000000\" d=\"M196.9687,-146.0209C213.5854,-134.9431 235.7649,-120.1567 253.1649,-108.5568\"/>\n",
       "<polygon fill=\"#000000\" stroke=\"#000000\" points=\"255.3944,-111.2769 261.7735,-102.8177 251.5115,-105.4526 255.3944,-111.2769\"/>\n",
       "</g>\n",
       "<!-- b -->\n",
       "<g id=\"node8\" class=\"node\">\n",
       "<title>b</title>\n",
       "<ellipse fill=\"none\" stroke=\"#000000\" cx=\"353\" cy=\"-90\" rx=\"27\" ry=\"18\"/>\n",
       "<text text-anchor=\"middle\" x=\"353\" y=\"-86.3\" font-family=\"Times,serif\" font-size=\"14.00\" fill=\"#000000\">b</text>\n",
       "</g>\n",
       "<!-- confounder&#45;&gt;b -->\n",
       "<g id=\"edge6\" class=\"edge\">\n",
       "<title>confounder&#45;&gt;b</title>\n",
       "<path fill=\"none\" stroke=\"#000000\" d=\"M210.1206,-149.2884C239.4556,-138.9545 281.2676,-123.5818 317,-108 318.7774,-107.2249 320.5926,-106.4064 322.4163,-105.5629\"/>\n",
       "<polygon fill=\"#000000\" stroke=\"#000000\" points=\"323.9666,-108.7011 331.4722,-101.2234 320.9416,-102.3885 323.9666,-108.7011\"/>\n",
       "</g>\n",
       "<!-- d&#45;&gt;y -->\n",
       "<g id=\"edge10\" class=\"edge\">\n",
       "<title>d&#45;&gt;y</title>\n",
       "<path fill=\"none\" stroke=\"#000000\" d=\"M49.4738,-79.902C55.469,-77.2717 61.9596,-74.4809 68,-72 104.4393,-57.0334 146.6865,-41.0297 175.3652,-30.3641\"/>\n",
       "<polygon fill=\"#000000\" stroke=\"#000000\" points=\"176.7521,-33.5828 184.9116,-26.8247 174.3186,-27.0194 176.7521,-33.5828\"/>\n",
       "</g>\n",
       "<!-- c -->\n",
       "<g id=\"node3\" class=\"node\">\n",
       "<title>c</title>\n",
       "<ellipse fill=\"none\" stroke=\"#000000\" cx=\"425\" cy=\"-90\" rx=\"27\" ry=\"18\"/>\n",
       "<text text-anchor=\"middle\" x=\"425\" y=\"-86.3\" font-family=\"Times,serif\" font-size=\"14.00\" fill=\"#000000\">c</text>\n",
       "</g>\n",
       "<!-- c&#45;&gt;y -->\n",
       "<g id=\"edge3\" class=\"edge\">\n",
       "<title>c&#45;&gt;y</title>\n",
       "<path fill=\"none\" stroke=\"#000000\" d=\"M403.9565,-78.721C399.115,-76.3395 393.9366,-73.9578 389,-72 339.9324,-52.5409 280.9914,-36.1096 244.2549,-26.6511\"/>\n",
       "<polygon fill=\"#000000\" stroke=\"#000000\" points=\"245.063,-23.2453 234.5087,-24.1715 243.337,-30.0292 245.063,-23.2453\"/>\n",
       "</g>\n",
       "<!-- a&#45;&gt;y -->\n",
       "<g id=\"edge1\" class=\"edge\">\n",
       "<title>a&#45;&gt;y</title>\n",
       "<path fill=\"none\" stroke=\"#000000\" d=\"M152.2693,-74.7307C162.197,-64.803 175.3153,-51.6847 186.4363,-40.5637\"/>\n",
       "<polygon fill=\"#000000\" stroke=\"#000000\" points=\"189.1564,-42.7933 193.7527,-33.2473 184.2067,-37.8436 189.1564,-42.7933\"/>\n",
       "</g>\n",
       "<!-- e&#45;&gt;y -->\n",
       "<g id=\"edge11\" class=\"edge\">\n",
       "<title>e&#45;&gt;y</title>\n",
       "<path fill=\"none\" stroke=\"#000000\" d=\"M209,-71.8314C209,-64.131 209,-54.9743 209,-46.4166\"/>\n",
       "<polygon fill=\"#000000\" stroke=\"#000000\" points=\"212.5001,-46.4132 209,-36.4133 205.5001,-46.4133 212.5001,-46.4132\"/>\n",
       "</g>\n",
       "<!-- f&#45;&gt;y -->\n",
       "<g id=\"edge12\" class=\"edge\">\n",
       "<title>f&#45;&gt;y</title>\n",
       "<path fill=\"none\" stroke=\"#000000\" d=\"M265.7307,-74.7307C255.803,-64.803 242.6847,-51.6847 231.5637,-40.5637\"/>\n",
       "<polygon fill=\"#000000\" stroke=\"#000000\" points=\"233.7933,-37.8436 224.2473,-33.2473 228.8436,-42.7933 233.7933,-37.8436\"/>\n",
       "</g>\n",
       "<!-- b&#45;&gt;y -->\n",
       "<g id=\"edge2\" class=\"edge\">\n",
       "<title>b&#45;&gt;y</title>\n",
       "<path fill=\"none\" stroke=\"#000000\" d=\"M331.1295,-79.0647C306.7778,-66.8889 267.238,-47.119 239.7715,-33.3858\"/>\n",
       "<polygon fill=\"#000000\" stroke=\"#000000\" points=\"241.114,-30.1439 230.6045,-28.8022 237.9835,-36.4049 241.114,-30.1439\"/>\n",
       "</g>\n",
       "</g>\n",
       "</svg>\n"
      ],
      "text/plain": [
       "<graphviz.dot.Digraph at 0x110962240>"
      ]
     },
     "execution_count": 2,
     "metadata": {},
     "output_type": "execute_result"
    }
   ],
   "source": [
    "data_generation_graph = CausalGraphicalModel(\n",
    "    nodes=['a', 'b', 'c', 'confounder',\n",
    "          'd',  'e', 'f', 'y'],\n",
    "    edges=[\n",
    "        (\"a\", \"y\"), \n",
    "        (\"b\", \"y\"), \n",
    "        (\"c\", \"y\"), \n",
    "        (\"d\", \"y\"), \n",
    "        (\"e\", \"y\"), \n",
    "        (\"f\", \"y\"), \n",
    "        (\"confounder\", \"y\"), \n",
    "        \n",
    "        \n",
    "        (\"confounder\", \"a\"),\n",
    "        (\"confounder\", \"b\"),\n",
    "#         (\"confounder\", \"c\"),\n",
    "        (\"confounder\", \"d\"),\n",
    "        (\"confounder\", \"e\"),\n",
    "        (\"confounder\", \"f\"),\n",
    "\n",
    "\n",
    "        \n",
    "        \n",
    "#         (\"confounder\", \"y\"), \n",
    "#         (\"confounder\", \"y\"), \n",
    "    ]\n",
    ")\n",
    "\n",
    "# draw return a graphviz `dot` object, which jupyter can render\n",
    "data_generation_graph.draw()"
   ]
  },
  {
   "cell_type": "markdown",
   "metadata": {},
   "source": [
    "## Specifiy the paramteric relationship between the covariates. \n",
    "\n",
    "This is where we specify the relationship between the variables in the Causal graph above. Specifically, we have an equation that relates each two connected nodes on the graph (so an equation for each edge).\n",
    "\n",
    "In the outcome model for y, the coefficient on each of the variables a, b, c, d, e and f represents it's $true$ causal effect. The coefficient on the confounder, however, does not represent its causal effect, because it has 5 decendents that are part of the outcome model. \n",
    "\n",
    "We are not ultimately interested in the causal effect of the confounder for this exercice, and instead are interested in the coefficients on each of its descendents. "
   ]
  },
  {
   "cell_type": "code",
   "execution_count": 3,
   "metadata": {},
   "outputs": [],
   "source": [
    "sample_size = 10000\n",
    "\n",
    "confounder = np.random.normal(loc=20, scale = 10, size = sample_size)"
   ]
  },
  {
   "cell_type": "code",
   "execution_count": 4,
   "metadata": {},
   "outputs": [],
   "source": [
    "a = .3*confounder + np.random.normal(loc=10,scale=3,size=sample_size)\n",
    "b = -1*confounder + np.random.normal(loc=6,scale=3,size=sample_size)\n",
    "c = np.random.normal(loc=15,scale=3,size=sample_size) # + .5*confounder \n",
    "d = .8*confounder + np.random.normal(loc=-10,scale=3,size=sample_size)\n",
    "e = .5*confounder + np.random.normal(loc=8,scale=3,size=sample_size)\n",
    "f= -.3*confounder + np.random.normal(loc=-12,scale=3,size=sample_size)\n",
    "\n",
    "\n",
    "df = pd.DataFrame(np.array([a,b,c,d,e,f, confounder]).T, columns = ['a', 'b', 'c',\n",
    "          'd',  'e', 'f', 'confounder'])\n",
    "\n",
    "X_columns =['a', 'b', 'c',\n",
    "          'd',  'e', 'f', 'confounder']\n",
    "df = (df[X_columns] - df[X_columns].mean())/df[X_columns].std()\n",
    "\n",
    "# df['confounder'] = confounder - confounder.mean()/confounder.std()\n",
    "\n",
    "y = (5 + 2*df['a'] + 2*df['b'] - 5*df['c'] +\n",
    "     3*df['d'] + 2*df['e'] - 5*df['f'] + 7*df['confounder']\n",
    "     + np.random.normal(loc=0,scale=1,size=sample_size))\n",
    "\n",
    "df['y'] = y\n",
    "\n",
    "coeffs_true = [5,2,2,-5,3,2,-5,7]\n",
    "\n",
    "# plt.hist(confounder, bins = 50)\n",
    "\n",
    "# plt.hist(f, bins = 50)"
   ]
  },
  {
   "cell_type": "code",
   "execution_count": 5,
   "metadata": {},
   "outputs": [
    {
     "data": {
      "text/html": [
       "<div>\n",
       "<style scoped>\n",
       "    .dataframe tbody tr th:only-of-type {\n",
       "        vertical-align: middle;\n",
       "    }\n",
       "\n",
       "    .dataframe tbody tr th {\n",
       "        vertical-align: top;\n",
       "    }\n",
       "\n",
       "    .dataframe thead th {\n",
       "        text-align: right;\n",
       "    }\n",
       "</style>\n",
       "<table border=\"1\" class=\"dataframe\">\n",
       "  <thead>\n",
       "    <tr style=\"text-align: right;\">\n",
       "      <th></th>\n",
       "      <th>a</th>\n",
       "      <th>b</th>\n",
       "      <th>c</th>\n",
       "      <th>d</th>\n",
       "      <th>e</th>\n",
       "      <th>f</th>\n",
       "      <th>confounder</th>\n",
       "      <th>y</th>\n",
       "    </tr>\n",
       "  </thead>\n",
       "  <tbody>\n",
       "    <tr>\n",
       "      <th>0</th>\n",
       "      <td>1.417939</td>\n",
       "      <td>-1.964237</td>\n",
       "      <td>0.110873</td>\n",
       "      <td>2.358586</td>\n",
       "      <td>2.775093</td>\n",
       "      <td>-1.872897</td>\n",
       "      <td>2.540457</td>\n",
       "      <td>41.996135</td>\n",
       "    </tr>\n",
       "    <tr>\n",
       "      <th>1</th>\n",
       "      <td>1.513863</td>\n",
       "      <td>-1.294643</td>\n",
       "      <td>-0.462564</td>\n",
       "      <td>1.582696</td>\n",
       "      <td>2.582332</td>\n",
       "      <td>-1.420774</td>\n",
       "      <td>1.514603</td>\n",
       "      <td>36.407542</td>\n",
       "    </tr>\n",
       "    <tr>\n",
       "      <th>2</th>\n",
       "      <td>0.133728</td>\n",
       "      <td>0.111658</td>\n",
       "      <td>-0.479834</td>\n",
       "      <td>-0.059518</td>\n",
       "      <td>0.728382</td>\n",
       "      <td>0.372706</td>\n",
       "      <td>0.014518</td>\n",
       "      <td>8.193137</td>\n",
       "    </tr>\n",
       "    <tr>\n",
       "      <th>3</th>\n",
       "      <td>0.812881</td>\n",
       "      <td>0.098152</td>\n",
       "      <td>-1.983926</td>\n",
       "      <td>0.301456</td>\n",
       "      <td>0.532194</td>\n",
       "      <td>0.580574</td>\n",
       "      <td>0.420291</td>\n",
       "      <td>17.588934</td>\n",
       "    </tr>\n",
       "    <tr>\n",
       "      <th>4</th>\n",
       "      <td>-1.843895</td>\n",
       "      <td>1.074035</td>\n",
       "      <td>-1.168885</td>\n",
       "      <td>-0.706107</td>\n",
       "      <td>0.561609</td>\n",
       "      <td>2.315857</td>\n",
       "      <td>-0.895165</td>\n",
       "      <td>-9.236670</td>\n",
       "    </tr>\n",
       "  </tbody>\n",
       "</table>\n",
       "</div>"
      ],
      "text/plain": [
       "          a         b         c         d         e         f  confounder  \\\n",
       "0  1.417939 -1.964237  0.110873  2.358586  2.775093 -1.872897    2.540457   \n",
       "1  1.513863 -1.294643 -0.462564  1.582696  2.582332 -1.420774    1.514603   \n",
       "2  0.133728  0.111658 -0.479834 -0.059518  0.728382  0.372706    0.014518   \n",
       "3  0.812881  0.098152 -1.983926  0.301456  0.532194  0.580574    0.420291   \n",
       "4 -1.843895  1.074035 -1.168885 -0.706107  0.561609  2.315857   -0.895165   \n",
       "\n",
       "           y  \n",
       "0  41.996135  \n",
       "1  36.407542  \n",
       "2   8.193137  \n",
       "3  17.588934  \n",
       "4  -9.236670  "
      ]
     },
     "execution_count": 5,
     "metadata": {},
     "output_type": "execute_result"
    }
   ],
   "source": [
    "# df = pd.DataFrame(np.array([a,b,c,d,e,f,confounder, y]).T, columns = ['a', 'b', 'c',\n",
    "#           'd',  'e', 'f', 'confounder', 'y'])\n",
    "df.head()"
   ]
  },
  {
   "cell_type": "code",
   "execution_count": 6,
   "metadata": {},
   "outputs": [],
   "source": [
    "# sns.pairplot(df, size=1.5)"
   ]
  },
  {
   "cell_type": "markdown",
   "metadata": {},
   "source": [
    "## Bias from ommitting the confounder without adjustment\n",
    "\n",
    "Here, we show that if we ommit the confounder, and attempt to estimate a new model for y, the coefficients obtained on each of the variables a, b, d, e, and f are all biased and do not represent the causal effect associated with each of those variables. The coefficient on c remains unbiased since c does not depend on the confounder. The purpose of this is to demonstrate that you indeed need to control for the confounder, or account for it somehow, if one knows you have confounded variables and is looking to assign causal interpretations to those variables"
   ]
  },
  {
   "cell_type": "code",
   "execution_count": 7,
   "metadata": {},
   "outputs": [
    {
     "data": {
      "text/html": [
       "<div>\n",
       "<style scoped>\n",
       "    .dataframe tbody tr th:only-of-type {\n",
       "        vertical-align: middle;\n",
       "    }\n",
       "\n",
       "    .dataframe tbody tr th {\n",
       "        vertical-align: top;\n",
       "    }\n",
       "\n",
       "    .dataframe thead th {\n",
       "        text-align: right;\n",
       "    }\n",
       "</style>\n",
       "<table border=\"1\" class=\"dataframe\">\n",
       "  <thead>\n",
       "    <tr style=\"text-align: right;\">\n",
       "      <th></th>\n",
       "      <th>True Coefficient</th>\n",
       "    </tr>\n",
       "  </thead>\n",
       "  <tbody>\n",
       "    <tr>\n",
       "      <th>Intercept</th>\n",
       "      <td>5</td>\n",
       "    </tr>\n",
       "    <tr>\n",
       "      <th>a</th>\n",
       "      <td>2</td>\n",
       "    </tr>\n",
       "    <tr>\n",
       "      <th>b</th>\n",
       "      <td>2</td>\n",
       "    </tr>\n",
       "    <tr>\n",
       "      <th>c</th>\n",
       "      <td>-5</td>\n",
       "    </tr>\n",
       "    <tr>\n",
       "      <th>d</th>\n",
       "      <td>3</td>\n",
       "    </tr>\n",
       "    <tr>\n",
       "      <th>e</th>\n",
       "      <td>2</td>\n",
       "    </tr>\n",
       "    <tr>\n",
       "      <th>f</th>\n",
       "      <td>-5</td>\n",
       "    </tr>\n",
       "    <tr>\n",
       "      <th>confounder</th>\n",
       "      <td>7</td>\n",
       "    </tr>\n",
       "  </tbody>\n",
       "</table>\n",
       "</div>"
      ],
      "text/plain": [
       "            True Coefficient\n",
       "Intercept                  5\n",
       "a                          2\n",
       "b                          2\n",
       "c                         -5\n",
       "d                          3\n",
       "e                          2\n",
       "f                         -5\n",
       "confounder                 7"
      ]
     },
     "execution_count": 7,
     "metadata": {},
     "output_type": "execute_result"
    }
   ],
   "source": [
    "model_full = smf.ols(\"y ~ a+b+c+d+e+f + confounder\", data=df)\n",
    "results_full = model_full.fit()\n",
    "results_df_full = pd.DataFrame(results_full.params, columns = ['estimated_params'])\n",
    "results_df_full['std_errors'] = results_full.bse\n",
    "results_df_full['True Coefficient'] = coeffs_true\n",
    "results_df_full[['True Coefficient']]"
   ]
  },
  {
   "cell_type": "code",
   "execution_count": 8,
   "metadata": {
    "scrolled": true
   },
   "outputs": [
    {
     "data": {
      "text/html": [
       "<div>\n",
       "<style scoped>\n",
       "    .dataframe tbody tr th:only-of-type {\n",
       "        vertical-align: middle;\n",
       "    }\n",
       "\n",
       "    .dataframe tbody tr th {\n",
       "        vertical-align: top;\n",
       "    }\n",
       "\n",
       "    .dataframe thead th {\n",
       "        text-align: right;\n",
       "    }\n",
       "</style>\n",
       "<table border=\"1\" class=\"dataframe\">\n",
       "  <thead>\n",
       "    <tr style=\"text-align: right;\">\n",
       "      <th></th>\n",
       "      <th>estimated_params</th>\n",
       "      <th>std_errors</th>\n",
       "      <th>true_params</th>\n",
       "    </tr>\n",
       "  </thead>\n",
       "  <tbody>\n",
       "    <tr>\n",
       "      <th>Intercept</th>\n",
       "      <td>4.993417</td>\n",
       "      <td>0.017507</td>\n",
       "      <td>5</td>\n",
       "    </tr>\n",
       "    <tr>\n",
       "      <th>a</th>\n",
       "      <td>2.428642</td>\n",
       "      <td>0.024334</td>\n",
       "      <td>2</td>\n",
       "    </tr>\n",
       "    <tr>\n",
       "      <th>b</th>\n",
       "      <td>-1.407655</td>\n",
       "      <td>0.044378</td>\n",
       "      <td>2</td>\n",
       "    </tr>\n",
       "    <tr>\n",
       "      <th>c</th>\n",
       "      <td>-5.001050</td>\n",
       "      <td>0.017511</td>\n",
       "      <td>-5</td>\n",
       "    </tr>\n",
       "    <tr>\n",
       "      <th>d</th>\n",
       "      <td>5.209289</td>\n",
       "      <td>0.041633</td>\n",
       "      <td>3</td>\n",
       "    </tr>\n",
       "    <tr>\n",
       "      <th>e</th>\n",
       "      <td>2.930925</td>\n",
       "      <td>0.031865</td>\n",
       "      <td>2</td>\n",
       "    </tr>\n",
       "    <tr>\n",
       "      <th>f</th>\n",
       "      <td>-5.386485</td>\n",
       "      <td>0.024008</td>\n",
       "      <td>-5</td>\n",
       "    </tr>\n",
       "  </tbody>\n",
       "</table>\n",
       "</div>"
      ],
      "text/plain": [
       "           estimated_params  std_errors  true_params\n",
       "Intercept          4.993417    0.017507            5\n",
       "a                  2.428642    0.024334            2\n",
       "b                 -1.407655    0.044378            2\n",
       "c                 -5.001050    0.017511           -5\n",
       "d                  5.209289    0.041633            3\n",
       "e                  2.930925    0.031865            2\n",
       "f                 -5.386485    0.024008           -5"
      ]
     },
     "execution_count": 8,
     "metadata": {},
     "output_type": "execute_result"
    }
   ],
   "source": [
    "model_partial = smf.ols(\"y ~ a+b+c+d+e+f \", data=df) ## Ommit the confounder from OLS\n",
    "results_partial = model_partial.fit()\n",
    "results_df_partial = pd.DataFrame(results_partial.params, columns = ['estimated_params'])\n",
    "results_df_partial['std_errors'] = results_partial.bse\n",
    "results_df_partial['true_params'] = coeffs_true[:-1]\n",
    "results_df_partial"
   ]
  },
  {
   "cell_type": "markdown",
   "metadata": {},
   "source": [
    "## Factor analysis: Is there evidence of latent factors?\n",
    "\n",
    "How do we go about checking for whether a confounder exists (in this example, we know that a confounder exist since we defined the data generating process, but in the real world, the data generating process is more often than now unknown to the analyst). \n",
    "\n",
    "There are a multitude of tests and ways to go about answering this question. A simple, off-the-shelf check is the bartlett sphericity test, which essentially just compares the correlation matrix of our covariates to the identity matrix. This test is used to check whether our covariate space can be reduced to a lower-dimensional space of factors that explain the variation in our data. \n",
    "\n",
    "### Tim, this would be a good place to add your other tests. I'm thinking of the bullet points below:\n",
    "- We can hypothesize a causal graph, and run conditional independence tests. \n",
    "- Prior predictive checks? "
   ]
  },
  {
   "cell_type": "code",
   "execution_count": 9,
   "metadata": {},
   "outputs": [],
   "source": [
    "from factor_analyzer.factor_analyzer import calculate_bartlett_sphericity,calculate_kmo"
   ]
  },
  {
   "cell_type": "code",
   "execution_count": 10,
   "metadata": {},
   "outputs": [
    {
     "name": "stdout",
     "output_type": "stream",
     "text": [
      "Bartlett sphericity test indicates potential latent confounder, with a p-value of:  0.0\n"
     ]
    }
   ],
   "source": [
    "chi_square_value,p_value=calculate_bartlett_sphericity(df[['a','b','c','d','e','f']])\n",
    "print(\"Bartlett sphericity test indicates potential latent confounder, with a p-value of: \", p_value)"
   ]
  },
  {
   "cell_type": "code",
   "execution_count": 11,
   "metadata": {},
   "outputs": [],
   "source": [
    "# kmo_all,kmo_model=calculate_kmo(df[['a','b','c','d','e','f']])\n",
    "# kmo_model"
   ]
  },
  {
   "cell_type": "markdown",
   "metadata": {},
   "source": [
    "## Fitting a factor model using 3 PCA variations.\n",
    "\n",
    "We fit three variations of PCA. This is not necessary indeed, but we wanted to see the robustness of our final estimates and their sensitivities to different variations of fitting the factor models. \n",
    "\n",
    "Notice that we use all of our X variables to fit the factor model (including variable c), consistent with the recommendation in Blei et al. \n",
    "\n"
   ]
  },
  {
   "cell_type": "code",
   "execution_count": 12,
   "metadata": {},
   "outputs": [],
   "source": [
    "X_columns_red = ['a', 'b', 'c', 'd', 'e', 'f']"
   ]
  },
  {
   "cell_type": "code",
   "execution_count": 13,
   "metadata": {},
   "outputs": [],
   "source": [
    "X = np.array(df[X_columns_red])"
   ]
  },
  {
   "cell_type": "markdown",
   "metadata": {},
   "source": [
    "### Using sklearn"
   ]
  },
  {
   "cell_type": "code",
   "execution_count": 14,
   "metadata": {},
   "outputs": [],
   "source": [
    "from sklearn.decomposition import PCA"
   ]
  },
  {
   "cell_type": "code",
   "execution_count": 15,
   "metadata": {},
   "outputs": [],
   "source": [
    "pca = PCA(n_components=1)\n",
    "principalComponents = pca.fit_transform(X)"
   ]
  },
  {
   "cell_type": "markdown",
   "metadata": {},
   "source": [
    "### Using PPCA from Blei et. al's tutorial"
   ]
  },
  {
   "cell_type": "code",
   "execution_count": 16,
   "metadata": {},
   "outputs": [
    {
     "name": "stdout",
     "output_type": "stream",
     "text": [
      "WARNING:tensorflow:From /Users/hassanobeid/UC_Berkeley/PhD/Causality_Research/Github/tr_b_causal_2020/notebooks/working/factor_models.py:166: The name tf.train.AdamOptimizer is deprecated. Please use tf.compat.v1.train.AdamOptimizer instead.\n",
      "\n"
     ]
    },
    {
     "name": "stderr",
     "output_type": "stream",
     "text": [
      "/Users/hassanobeid/UC_Berkeley/PhD/Causality_Research/Github/tr_b_causal_2020/notebooks/working/factor_models.py:119: UserWarning: tfp.edward2 module is deprecated and will be removed on 2019-12-01. Use https://github.com/google/edward2 library instead.\n",
      "  log_joint = ed.make_log_joint_fn(ppca_model)\n"
     ]
    },
    {
     "name": "stdout",
     "output_type": "stream",
     "text": [
      "WARNING:tensorflow:From /Users/hassanobeid/UC_Berkeley/PhD/Causality_Research/Github/tr_b_causal_2020/notebooks/working/factor_models.py:169: The name tf.global_variables_initializer is deprecated. Please use tf.compat.v1.global_variables_initializer instead.\n",
      "\n",
      "WARNING:tensorflow:From /Users/hassanobeid/UC_Berkeley/PhD/Causality_Research/Github/tr_b_causal_2020/notebooks/working/factor_models.py:175: The name tf.Session is deprecated. Please use tf.compat.v1.Session instead.\n",
      "\n",
      "Inferred axes:\n",
      "[[ 0.7965752  -0.9384279  -0.00923587  0.92744124  0.8893804  -0.79018945]]\n",
      "Standard Deviation:\n",
      "[[0.00725764 0.0074542  0.00475289 0.0071935  0.00640933 0.0051301 ]]\n"
     ]
    },
    {
     "data": {
      "image/png": "[encoded data removed]",
      "text/plain": [
       "<Figure size 432x288 with 1 Axes>"
      ]
     },
     "metadata": {
      "needs_background": "light"
     },
     "output_type": "display_data"
    },
    {
     "data": {
      "text/plain": [
       "1"
      ]
     },
     "metadata": {},
     "output_type": "display_data"
    },
    {
     "name": "stdout",
     "output_type": "stream",
     "text": [
      "P-value, average:  [0.5255464326160816]\n"
     ]
    },
    {
     "data": {
      "text/plain": [
       "<matplotlib.axes._subplots.AxesSubplot at 0x153725358>"
      ]
     },
     "metadata": {},
     "output_type": "display_data"
    },
    {
     "data": {
      "image/png": "[encoded data removed]",
      "text/plain": [
       "<Figure size 432x288 with 1 Axes>"
      ]
     },
     "metadata": {
      "needs_background": "light"
     },
     "output_type": "display_data"
    }
   ],
   "source": [
    "latent_dim = 1\n",
    "\n",
    "confounders, holdouts, holdoutmasks, holdoutrow= confounder_ppca(holdout_portion=0.2, X=X, latent_dim=latent_dim)\n",
    "\n",
    "holdouts_req = [holdouts]\n",
    "display.display(len(holdouts_req))\n",
    "\n",
    "confounder_req = [confounders]\n",
    "\n",
    "n_rep = 100 # number of replicated datasets we generate\n",
    "holdout_gen_util = []\n",
    "\n",
    "for j in range(len(holdouts_req)):\n",
    "    holdout_gen = np.zeros((n_rep,*(holdouts_req[j].shape)))\n",
    "    \n",
    "    for i in range(n_rep):\n",
    "        w_sample = npr.normal(confounder_req[j][0], confounder_req[j][1])\n",
    "        z_sample = npr.normal(confounder_req[j][2], confounder_req[j][3])\n",
    "        \n",
    "        data_dim_temp = holdouts_req[j].shape[1]\n",
    "        latent_dim_temp = confounder_req[j][2].shape[1]\n",
    "        num_datapoints_temp = holdouts_req[j].shape[0]\n",
    "        \n",
    "        with ed.interception(replace_latents(w_sample, z_sample)):\n",
    "            generate = ppca_model(\n",
    "                data_dim=data_dim_temp, latent_dim=latent_dim_temp,\n",
    "                num_datapoints=num_datapoints_temp, stddv_datapoints=0.1, holdout_mask=holdoutmasks)\n",
    "\n",
    "        with tf.Session() as sess:\n",
    "            x_generated, _ = sess.run(generate)\n",
    "\n",
    "        # look only at the heldout entries\n",
    "        holdout_gen[i] = np.multiply(x_generated, holdoutmasks)\n",
    "        \n",
    "    holdout_gen_util.append(holdout_gen)\n",
    "    \n",
    "    \n",
    "n_eval = 100 # we draw samples from the inferred Z and W\n",
    "obs_ll_per_zi_per_mode = []\n",
    "rep_ll_per_zi_per_mode = []\n",
    "stddv_datapoints=0.1\n",
    "for mode in range(len(holdouts_req)):\n",
    "    obs_ll = []\n",
    "    rep_ll = []\n",
    "\n",
    "    for j in range(n_eval):\n",
    "        w_sample = npr.normal(confounder_req[mode][0], confounder_req[mode][1])\n",
    "        z_sample = npr.normal(confounder_req[mode][2], confounder_req[mode][3])\n",
    "\n",
    "        holdoutmean_sample = np.multiply(z_sample.dot(w_sample), holdoutmasks)\n",
    "        obs_ll.append(np.mean(stats.norm(holdoutmean_sample, \\\n",
    "                            stddv_datapoints).logpdf(holdouts_req[mode]), axis=1))\n",
    "\n",
    "        rep_ll.append(np.mean(stats.norm(holdoutmean_sample, \\\n",
    "                            stddv_datapoints).logpdf(holdout_gen_util[mode]),axis=2))\n",
    "\n",
    "    obs_ll_per_zi, rep_ll_per_zi = np.mean(np.array(obs_ll), axis=0), np.mean(np.array(rep_ll), axis=0)\n",
    "    obs_ll_per_zi_per_mode.append(obs_ll_per_zi)\n",
    "    rep_ll_per_zi_per_mode.append(rep_ll_per_zi)\n",
    "\n",
    "    \n",
    "pval_mode = []\n",
    "for mode in range(len(holdouts_req)):\n",
    "    pvals = np.array([np.mean(rep_ll_per_zi_per_mode[mode][:,i] < obs_ll_per_zi_per_mode[mode][i]) \n",
    "                      for i in range(holdouts_req[mode].shape[0])])\n",
    "    holdout_subjects = np.unique(holdoutrow)\n",
    "    overall_pval = np.mean(pvals[holdout_subjects])\n",
    "    pval_mode.append(overall_pval)\n",
    "#     print(\"Predictive check p-values\", overall_pval)\n",
    "\n",
    "print(\"P-value, average: \", pval_mode)\n",
    "\n",
    "display.display(sns.kdeplot(pvals[holdout_subjects]))"
   ]
  },
  {
   "cell_type": "code",
   "execution_count": 17,
   "metadata": {},
   "outputs": [
    {
     "data": {
      "image/png": "[encoded data removed]",
      "text/plain": [
       "<Figure size 720x1440 with 5 Axes>"
      ]
     },
     "metadata": {
      "needs_background": "light"
     },
     "output_type": "display_data"
    }
   ],
   "source": [
    "np.random.seed(10)\n",
    "\n",
    "num_subjects = 5\n",
    "fig, axes = plt.subplots(nrows = num_subjects, ncols=1, figsize = (10,20))\n",
    "\n",
    "for i, ax in zip(range(num_subjects), axes.flat):\n",
    "    subject_no = npr.choice(holdout_subjects) \n",
    "    sns.kdeplot(rep_ll_per_zi[:,subject_no], ax=ax).set_title(\"Predictive check for subject \"+str(subject_no))\n",
    "    ax.axvline(x=obs_ll_per_zi[subject_no], linestyle='--')\n",
    "\n",
    "plt.show()"
   ]
  },
  {
   "cell_type": "code",
   "execution_count": 18,
   "metadata": {},
   "outputs": [
    {
     "data": {
      "text/plain": [
       "<matplotlib.lines.Line2D at 0x15409f1d0>"
      ]
     },
     "execution_count": 18,
     "metadata": {},
     "output_type": "execute_result"
    },
    {
     "data": {
      "image/png": "[encoded data removed]",
      "text/plain": [
       "<Figure size 432x288 with 1 Axes>"
      ]
     },
     "metadata": {
      "needs_background": "light"
     },
     "output_type": "display_data"
    }
   ],
   "source": [
    "overall_ll_est = rep_ll_per_zi.mean(axis=1)\n",
    "\n",
    "overall_ll_obs = obs_ll_per_zi.mean()\n",
    "\n",
    "sns.kdeplot(overall_ll_est).set_title(\"Predictive check: Population\")\n",
    "plt.axvline(x=overall_ll_obs, linestyle='--')"
   ]
  },
  {
   "cell_type": "code",
   "execution_count": 19,
   "metadata": {},
   "outputs": [
    {
     "data": {
      "text/plain": [
       "(100,)"
      ]
     },
     "execution_count": 19,
     "metadata": {},
     "output_type": "execute_result"
    }
   ],
   "source": [
    "overall_ll_est.shape"
   ]
  },
  {
   "cell_type": "markdown",
   "metadata": {},
   "source": [
    "## Visualizing the substitute confounder against the true confounder\n",
    "Since we do know the values for the absolute confouder, we can actually in this case plot the recovered values against the true ones in a scatter plot and compare the fit. This is not possible in a real problem however, and we'll have to use the tests outlined in the previous sections (posterior predictive checks, etc.). \n",
    "\n",
    "We can see that the confounder values recovered are highly correlated with the true confounder, suggesting that we $successfully$ recovered the confounder. "
   ]
  },
  {
   "cell_type": "code",
   "execution_count": 20,
   "metadata": {},
   "outputs": [],
   "source": [
    "df['confounder_PCA_SKLEARN'] = principalComponents[:,0]\n",
    "\n",
    "df['confounder_PPCA'] = confounders[2]"
   ]
  },
  {
   "cell_type": "code",
   "execution_count": 21,
   "metadata": {},
   "outputs": [
    {
     "name": "stderr",
     "output_type": "stream",
     "text": [
      "'c' argument looks like a single numeric RGB or RGBA sequence, which should be avoided as value-mapping will have precedence in case its length matches with 'x' & 'y'.  Please use a 2-D array with a single row if you really want to specify the same RGB or RGBA value for all points.\n"
     ]
    },
    {
     "data": {
      "text/plain": [
       "<matplotlib.axes._subplots.AxesSubplot at 0x1540da470>"
      ]
     },
     "execution_count": 21,
     "metadata": {},
     "output_type": "execute_result"
    },
    {
     "data": {
      "image/png": "[encoded data removed]",
      "text/plain": [
       "<Figure size 432x288 with 1 Axes>"
      ]
     },
     "metadata": {
      "needs_background": "light"
     },
     "output_type": "display_data"
    }
   ],
   "source": [
    "df.plot(kind='scatter', x = 'confounder_PCA_SKLEARN', y = 'confounder')"
   ]
  },
  {
   "cell_type": "code",
   "execution_count": 22,
   "metadata": {},
   "outputs": [
    {
     "name": "stderr",
     "output_type": "stream",
     "text": [
      "'c' argument looks like a single numeric RGB or RGBA sequence, which should be avoided as value-mapping will have precedence in case its length matches with 'x' & 'y'.  Please use a 2-D array with a single row if you really want to specify the same RGB or RGBA value for all points.\n"
     ]
    },
    {
     "data": {
      "text/plain": [
       "<matplotlib.axes._subplots.AxesSubplot at 0x1542bb160>"
      ]
     },
     "execution_count": 22,
     "metadata": {},
     "output_type": "execute_result"
    },
    {
     "data": {
      "image/png": "[encoded data removed]",
      "text/plain": [
       "<Figure size 432x288 with 1 Axes>"
      ]
     },
     "metadata": {
      "needs_background": "light"
     },
     "output_type": "display_data"
    }
   ],
   "source": [
    "df.plot(kind='scatter', x = 'confounder_PPCA', y = 'confounder')"
   ]
  },
  {
   "cell_type": "markdown",
   "metadata": {},
   "source": [
    "## Re-estimating regression with and without confounder\n",
    "\n",
    "Notice that the simulation was designed such that ommitting the confounder will flip the sign of the coefficient on $b$. When we add the confounder, estimated using any PCA variation, the coefficient on $b$ remains flipped. \n",
    "\n",
    "In addition, the bias on the coefficient estimates on our variables of interest $a, b, d, e, and f$ did not necessarily decrease in a significant way. This is surprising, since the confounder we recovered does actually correlate very well with the true confounder. The next section explores the sensitivity of those coefficients to random noise added to the true confounder."
   ]
  },
  {
   "cell_type": "code",
   "execution_count": 23,
   "metadata": {},
   "outputs": [
    {
     "data": {
      "text/html": [
       "<div>\n",
       "<style scoped>\n",
       "    .dataframe tbody tr th:only-of-type {\n",
       "        vertical-align: middle;\n",
       "    }\n",
       "\n",
       "    .dataframe tbody tr th {\n",
       "        vertical-align: top;\n",
       "    }\n",
       "\n",
       "    .dataframe thead th {\n",
       "        text-align: right;\n",
       "    }\n",
       "</style>\n",
       "<table border=\"1\" class=\"dataframe\">\n",
       "  <thead>\n",
       "    <tr style=\"text-align: right;\">\n",
       "      <th></th>\n",
       "      <th>estimated_params</th>\n",
       "      <th>std_errors</th>\n",
       "      <th>true_params</th>\n",
       "    </tr>\n",
       "  </thead>\n",
       "  <tbody>\n",
       "    <tr>\n",
       "      <th>Intercept</th>\n",
       "      <td>4.993417</td>\n",
       "      <td>0.017507</td>\n",
       "      <td>5</td>\n",
       "    </tr>\n",
       "    <tr>\n",
       "      <th>a</th>\n",
       "      <td>2.428642</td>\n",
       "      <td>0.024334</td>\n",
       "      <td>2</td>\n",
       "    </tr>\n",
       "    <tr>\n",
       "      <th>b</th>\n",
       "      <td>-1.407655</td>\n",
       "      <td>0.044378</td>\n",
       "      <td>2</td>\n",
       "    </tr>\n",
       "    <tr>\n",
       "      <th>c</th>\n",
       "      <td>-5.001050</td>\n",
       "      <td>0.017511</td>\n",
       "      <td>-5</td>\n",
       "    </tr>\n",
       "    <tr>\n",
       "      <th>d</th>\n",
       "      <td>5.209289</td>\n",
       "      <td>0.041633</td>\n",
       "      <td>3</td>\n",
       "    </tr>\n",
       "    <tr>\n",
       "      <th>e</th>\n",
       "      <td>2.930925</td>\n",
       "      <td>0.031865</td>\n",
       "      <td>2</td>\n",
       "    </tr>\n",
       "    <tr>\n",
       "      <th>f</th>\n",
       "      <td>-5.386485</td>\n",
       "      <td>0.024008</td>\n",
       "      <td>-5</td>\n",
       "    </tr>\n",
       "  </tbody>\n",
       "</table>\n",
       "</div>"
      ],
      "text/plain": [
       "           estimated_params  std_errors  true_params\n",
       "Intercept          4.993417    0.017507            5\n",
       "a                  2.428642    0.024334            2\n",
       "b                 -1.407655    0.044378            2\n",
       "c                 -5.001050    0.017511           -5\n",
       "d                  5.209289    0.041633            3\n",
       "e                  2.930925    0.031865            2\n",
       "f                 -5.386485    0.024008           -5"
      ]
     },
     "execution_count": 23,
     "metadata": {},
     "output_type": "execute_result"
    }
   ],
   "source": [
    "model_deconf = smf.ols(\"y ~ a+b+c+d+e+f \", data=df)\n",
    "results_deconf = model_deconf.fit()\n",
    "results_df_deconf = pd.DataFrame(results_deconf.params, columns = ['estimated_params'])\n",
    "results_df_deconf['std_errors'] = results_deconf.bse\n",
    "results_df_deconf['true_params'] = coeffs_true[:-1]\n",
    "results_df_deconf"
   ]
  },
  {
   "cell_type": "code",
   "execution_count": 24,
   "metadata": {},
   "outputs": [],
   "source": [
    "# model_deconf = smf.ols(\"y ~ a+b+c+d+e+f+confounder_PCA_CV \", data=df)\n",
    "# results_deconf = model_deconf.fit()\n",
    "# results_df_deconf = pd.DataFrame(results_deconf.params, columns = ['estimated_params'])\n",
    "# results_df_deconf['std_errors'] = results_deconf.bse\n",
    "# results_df_deconf['true_params'] = coeffs_true\n",
    "# results_df_deconf"
   ]
  },
  {
   "cell_type": "code",
   "execution_count": 25,
   "metadata": {},
   "outputs": [
    {
     "data": {
      "text/html": [
       "<div>\n",
       "<style scoped>\n",
       "    .dataframe tbody tr th:only-of-type {\n",
       "        vertical-align: middle;\n",
       "    }\n",
       "\n",
       "    .dataframe tbody tr th {\n",
       "        vertical-align: top;\n",
       "    }\n",
       "\n",
       "    .dataframe thead th {\n",
       "        text-align: right;\n",
       "    }\n",
       "</style>\n",
       "<table border=\"1\" class=\"dataframe\">\n",
       "  <thead>\n",
       "    <tr style=\"text-align: right;\">\n",
       "      <th></th>\n",
       "      <th>estimated_params</th>\n",
       "      <th>std_errors</th>\n",
       "      <th>true_params</th>\n",
       "    </tr>\n",
       "  </thead>\n",
       "  <tbody>\n",
       "    <tr>\n",
       "      <th>Intercept</th>\n",
       "      <td>4.993417</td>\n",
       "      <td>0.017507</td>\n",
       "      <td>5</td>\n",
       "    </tr>\n",
       "    <tr>\n",
       "      <th>a</th>\n",
       "      <td>0.872913</td>\n",
       "      <td>0.024127</td>\n",
       "      <td>2</td>\n",
       "    </tr>\n",
       "    <tr>\n",
       "      <th>b</th>\n",
       "      <td>0.455754</td>\n",
       "      <td>0.044217</td>\n",
       "      <td>2</td>\n",
       "    </tr>\n",
       "    <tr>\n",
       "      <th>c</th>\n",
       "      <td>-4.994659</td>\n",
       "      <td>0.017511</td>\n",
       "      <td>-5</td>\n",
       "    </tr>\n",
       "    <tr>\n",
       "      <th>d</th>\n",
       "      <td>3.366672</td>\n",
       "      <td>0.041465</td>\n",
       "      <td>3</td>\n",
       "    </tr>\n",
       "    <tr>\n",
       "      <th>e</th>\n",
       "      <td>1.178520</td>\n",
       "      <td>0.031666</td>\n",
       "      <td>2</td>\n",
       "    </tr>\n",
       "    <tr>\n",
       "      <th>f</th>\n",
       "      <td>-3.843141</td>\n",
       "      <td>0.023802</td>\n",
       "      <td>-5</td>\n",
       "    </tr>\n",
       "    <tr>\n",
       "      <th>confounder_PCA_SKLEARN</th>\n",
       "      <td>3.839362</td>\n",
       "      <td>0.004504</td>\n",
       "      <td>7</td>\n",
       "    </tr>\n",
       "  </tbody>\n",
       "</table>\n",
       "</div>"
      ],
      "text/plain": [
       "                        estimated_params  std_errors  true_params\n",
       "Intercept                       4.993417    0.017507            5\n",
       "a                               0.872913    0.024127            2\n",
       "b                               0.455754    0.044217            2\n",
       "c                              -4.994659    0.017511           -5\n",
       "d                               3.366672    0.041465            3\n",
       "e                               1.178520    0.031666            2\n",
       "f                              -3.843141    0.023802           -5\n",
       "confounder_PCA_SKLEARN          3.839362    0.004504            7"
      ]
     },
     "execution_count": 25,
     "metadata": {},
     "output_type": "execute_result"
    }
   ],
   "source": [
    "model_deconf = smf.ols(\"y ~ a+b+c+d+e+f+confounder_PCA_SKLEARN \", data=df)\n",
    "results_deconf = model_deconf.fit()\n",
    "results_df_deconf = pd.DataFrame(results_deconf.params, columns = ['estimated_params'])\n",
    "results_df_deconf['std_errors'] = results_deconf.bse\n",
    "results_df_deconf['true_params'] = coeffs_true\n",
    "results_df_deconf"
   ]
  },
  {
   "cell_type": "code",
   "execution_count": 26,
   "metadata": {},
   "outputs": [
    {
     "data": {
      "text/html": [
       "<div>\n",
       "<style scoped>\n",
       "    .dataframe tbody tr th:only-of-type {\n",
       "        vertical-align: middle;\n",
       "    }\n",
       "\n",
       "    .dataframe tbody tr th {\n",
       "        vertical-align: top;\n",
       "    }\n",
       "\n",
       "    .dataframe thead th {\n",
       "        text-align: right;\n",
       "    }\n",
       "</style>\n",
       "<table border=\"1\" class=\"dataframe\">\n",
       "  <thead>\n",
       "    <tr style=\"text-align: right;\">\n",
       "      <th></th>\n",
       "      <th>estimated_params</th>\n",
       "      <th>std_errors</th>\n",
       "      <th>true_params</th>\n",
       "    </tr>\n",
       "  </thead>\n",
       "  <tbody>\n",
       "    <tr>\n",
       "      <th>Intercept</th>\n",
       "      <td>4.993337</td>\n",
       "      <td>0.017509</td>\n",
       "      <td>5</td>\n",
       "    </tr>\n",
       "    <tr>\n",
       "      <th>a</th>\n",
       "      <td>2.438721</td>\n",
       "      <td>0.035372</td>\n",
       "      <td>2</td>\n",
       "    </tr>\n",
       "    <tr>\n",
       "      <th>b</th>\n",
       "      <td>-1.419151</td>\n",
       "      <td>0.053171</td>\n",
       "      <td>2</td>\n",
       "    </tr>\n",
       "    <tr>\n",
       "      <th>c</th>\n",
       "      <td>-5.001273</td>\n",
       "      <td>0.017521</td>\n",
       "      <td>-5</td>\n",
       "    </tr>\n",
       "    <tr>\n",
       "      <th>d</th>\n",
       "      <td>5.220584</td>\n",
       "      <td>0.050607</td>\n",
       "      <td>3</td>\n",
       "    </tr>\n",
       "    <tr>\n",
       "      <th>e</th>\n",
       "      <td>2.941883</td>\n",
       "      <td>0.042362</td>\n",
       "      <td>2</td>\n",
       "    </tr>\n",
       "    <tr>\n",
       "      <th>f</th>\n",
       "      <td>-5.396906</td>\n",
       "      <td>0.035791</td>\n",
       "      <td>-5</td>\n",
       "    </tr>\n",
       "    <tr>\n",
       "      <th>confounder_PPCA</th>\n",
       "      <td>-0.047504</td>\n",
       "      <td>0.120998</td>\n",
       "      <td>7</td>\n",
       "    </tr>\n",
       "  </tbody>\n",
       "</table>\n",
       "</div>"
      ],
      "text/plain": [
       "                 estimated_params  std_errors  true_params\n",
       "Intercept                4.993337    0.017509            5\n",
       "a                        2.438721    0.035372            2\n",
       "b                       -1.419151    0.053171            2\n",
       "c                       -5.001273    0.017521           -5\n",
       "d                        5.220584    0.050607            3\n",
       "e                        2.941883    0.042362            2\n",
       "f                       -5.396906    0.035791           -5\n",
       "confounder_PPCA         -0.047504    0.120998            7"
      ]
     },
     "execution_count": 26,
     "metadata": {},
     "output_type": "execute_result"
    }
   ],
   "source": [
    "model_deconf = smf.ols(\"y ~ a+b+c+d+e+f+confounder_PPCA \", data=df)\n",
    "results_deconf = model_deconf.fit()\n",
    "results_df_deconf = pd.DataFrame(results_deconf.params, columns = ['estimated_params'])\n",
    "results_df_deconf['std_errors'] = results_deconf.bse\n",
    "results_df_deconf['true_params'] = coeffs_true\n",
    "results_df_deconf"
   ]
  },
  {
   "cell_type": "markdown",
   "metadata": {},
   "source": [
    "## Adding random noise to the confounder and seeing how it affects the coefficients on the other variables\n",
    "\n",
    "Here, we simply create a new variable, which is the original confounder plus small random noise, and substitute the true confounder with the newly created confounder in the original regression to evaluate the sensitivity of the bias of our coefficients of interest to small random deviations from the true confounder. \n",
    "\n",
    "We find that even with very small values of the random noise (mean of 0 and standard deviation of 0.2), we still get biased estimates of our effects of interest, especially on $b$. "
   ]
  },
  {
   "cell_type": "code",
   "execution_count": 27,
   "metadata": {
    "lines_to_end_of_cell_marker": 2
   },
   "outputs": [],
   "source": [
    "\"\"\"\n",
    "We add random noise from a normal distribution of mean zero. We control the spread of this distribution\n",
    "using the parameter 'coef', which represents the standard deviation of this normal distribution of the noise. \n",
    "\"\"\"\n",
    "\n",
    "coef=0.2\n",
    "\n",
    "df['confounder_2'] = df['confounder'] + coef*np.random.normal(loc=0,scale = 1, size = len(df))"
   ]
  },
  {
   "cell_type": "code",
   "execution_count": 28,
   "metadata": {},
   "outputs": [
    {
     "name": "stderr",
     "output_type": "stream",
     "text": [
      "'c' argument looks like a single numeric RGB or RGBA sequence, which should be avoided as value-mapping will have precedence in case its length matches with 'x' & 'y'.  Please use a 2-D array with a single row if you really want to specify the same RGB or RGBA value for all points.\n"
     ]
    },
    {
     "data": {
      "text/plain": [
       "<matplotlib.axes._subplots.AxesSubplot at 0x1538f6470>"
      ]
     },
     "execution_count": 28,
     "metadata": {},
     "output_type": "execute_result"
    },
    {
     "data": {
      "image/png": "[encoded data removed]",
      "text/plain": [
       "<Figure size 432x288 with 1 Axes>"
      ]
     },
     "metadata": {
      "needs_background": "light"
     },
     "output_type": "display_data"
    }
   ],
   "source": [
    "df.plot(kind='scatter', x = 'confounder_2', y = 'confounder')"
   ]
  },
  {
   "cell_type": "code",
   "execution_count": 29,
   "metadata": {},
   "outputs": [
    {
     "data": {
      "text/html": [
       "<div>\n",
       "<style scoped>\n",
       "    .dataframe tbody tr th:only-of-type {\n",
       "        vertical-align: middle;\n",
       "    }\n",
       "\n",
       "    .dataframe tbody tr th {\n",
       "        vertical-align: top;\n",
       "    }\n",
       "\n",
       "    .dataframe thead th {\n",
       "        text-align: right;\n",
       "    }\n",
       "</style>\n",
       "<table border=\"1\" class=\"dataframe\">\n",
       "  <thead>\n",
       "    <tr style=\"text-align: right;\">\n",
       "      <th></th>\n",
       "      <th>estimated_params</th>\n",
       "      <th>std_errors</th>\n",
       "      <th>true_params</th>\n",
       "    </tr>\n",
       "  </thead>\n",
       "  <tbody>\n",
       "    <tr>\n",
       "      <th>Intercept</th>\n",
       "      <td>4.990094</td>\n",
       "      <td>0.014191</td>\n",
       "      <td>5</td>\n",
       "    </tr>\n",
       "    <tr>\n",
       "      <th>a</th>\n",
       "      <td>2.220035</td>\n",
       "      <td>0.019935</td>\n",
       "      <td>2</td>\n",
       "    </tr>\n",
       "    <tr>\n",
       "      <th>b</th>\n",
       "      <td>0.364826</td>\n",
       "      <td>0.043545</td>\n",
       "      <td>2</td>\n",
       "    </tr>\n",
       "    <tr>\n",
       "      <th>c</th>\n",
       "      <td>-5.002529</td>\n",
       "      <td>0.014194</td>\n",
       "      <td>-5</td>\n",
       "    </tr>\n",
       "    <tr>\n",
       "      <th>d</th>\n",
       "      <td>4.099125</td>\n",
       "      <td>0.037083</td>\n",
       "      <td>3</td>\n",
       "    </tr>\n",
       "    <tr>\n",
       "      <th>e</th>\n",
       "      <td>2.441307</td>\n",
       "      <td>0.026704</td>\n",
       "      <td>2</td>\n",
       "    </tr>\n",
       "    <tr>\n",
       "      <th>f</th>\n",
       "      <td>-5.169782</td>\n",
       "      <td>0.019690</td>\n",
       "      <td>-5</td>\n",
       "    </tr>\n",
       "    <tr>\n",
       "      <th>confounder_2</th>\n",
       "      <td>3.610969</td>\n",
       "      <td>0.049993</td>\n",
       "      <td>7</td>\n",
       "    </tr>\n",
       "  </tbody>\n",
       "</table>\n",
       "</div>"
      ],
      "text/plain": [
       "              estimated_params  std_errors  true_params\n",
       "Intercept             4.990094    0.014191            5\n",
       "a                     2.220035    0.019935            2\n",
       "b                     0.364826    0.043545            2\n",
       "c                    -5.002529    0.014194           -5\n",
       "d                     4.099125    0.037083            3\n",
       "e                     2.441307    0.026704            2\n",
       "f                    -5.169782    0.019690           -5\n",
       "confounder_2          3.610969    0.049993            7"
      ]
     },
     "execution_count": 29,
     "metadata": {},
     "output_type": "execute_result"
    }
   ],
   "source": [
    "model_deconf = smf.ols(\"y ~ a+b+c+d+e+f+confounder_2\", data=df)\n",
    "results_deconf = model_deconf.fit()\n",
    "results_df_deconf1 = pd.DataFrame(results_deconf.params, columns = ['estimated_params'])\n",
    "results_df_deconf1['std_errors'] = results_deconf.bse\n",
    "results_df_deconf1['true_params'] = coeffs_true\n",
    "results_df_deconf1"
   ]
  },
  {
   "cell_type": "code",
   "execution_count": 30,
   "metadata": {},
   "outputs": [
    {
     "data": {
      "text/plain": [
       "estimated_params    0.364826\n",
       "std_errors          0.043545\n",
       "true_params         2.000000\n",
       "Name: b, dtype: float64"
      ]
     },
     "execution_count": 30,
     "metadata": {},
     "output_type": "execute_result"
    }
   ],
   "source": [
    "results_df_deconf1.loc['b']"
   ]
  },
  {
   "cell_type": "code",
   "execution_count": 31,
   "metadata": {
    "lines_to_next_cell": 2
   },
   "outputs": [],
   "source": [
    "b_est = []\n",
    "b_std = []\n",
    "\n",
    "coef=np.arange(0,1,.05)\n",
    "for i in coef:\n",
    "    df['confounder_i'] = df['confounder'] + i*np.random.normal(loc=0,scale = 1, size = len(df))\n",
    "    model_deconf = smf.ols(\"y ~ a+b+c+d+e+f+confounder_i\", data=df)\n",
    "    results_deconf = model_deconf.fit()\n",
    "    results_df_deconf1 = pd.DataFrame(results_deconf.params, columns = ['estimated_params'])\n",
    "    results_df_deconf1['std_errors'] = results_deconf.bse\n",
    "    b_est.append(results_df_deconf1.loc['b'].iloc[0])\n",
    "    b_std.append(results_df_deconf1.loc['b'].iloc[1])"
   ]
  },
  {
   "cell_type": "code",
   "execution_count": 33,
   "metadata": {
    "lines_to_next_cell": 0
   },
   "outputs": [
    {
     "data": {
      "text/plain": [
       "<matplotlib.legend.Legend at 0x154dbbe10>"
      ]
     },
     "execution_count": 33,
     "metadata": {},
     "output_type": "execute_result"
    },
    {
     "data": {
      "image/png": "[encoded data removed]",
      "text/plain": [
       "<Figure size 1152x648 with 1 Axes>"
      ]
     },
     "metadata": {
      "needs_background": "light"
     },
     "output_type": "display_data"
    }
   ],
   "source": [
    "fig, ax = plt.subplots(figsize=(16,9))\n",
    "ax.plot(coef, b_est, color = 'green', marker = 'o')\n",
    "ax.axhline(2, label = 'True Parameter', ls='--')\n",
    "\n",
    "ax.set_ylabel('Estimated Parameter', size = 18)\n",
    "ax.set_xlabel('Standard Deviation of Added Noise', size = 18)\n",
    "# ax.set_title('Sensitivity of causal effect to random noise added to the confounder', size = 20)\n",
    "ax.legend()"
   ]
  },
  {
   "cell_type": "code",
   "execution_count": null,
   "metadata": {
    "lines_to_next_cell": 2
   },
   "outputs": [],
   "source": []
  }
 ],
 "metadata": {
  "jupytext": {
   "formats": "ipynb,py"
  },
  "kernelspec": {
   "display_name": "Python 3",
   "language": "python",
   "name": "python3"
  },
  "language_info": {
   "codemirror_mode": {
    "name": "ipython",
    "version": 3
   },
   "file_extension": ".py",
   "mimetype": "text/x-python",
   "name": "python",
   "nbconvert_exporter": "python",
   "pygments_lexer": "ipython3",
   "version": "3.7.3"
  }
 },
 "nbformat": 4,
 "nbformat_minor": 2
}
