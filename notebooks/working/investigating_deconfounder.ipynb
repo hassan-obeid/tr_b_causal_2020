{
 "cells": [
  {
   "cell_type": "markdown",
   "metadata": {},
   "source": [
    "# Goal\n",
    "The goal of this notebook is to investigate, using simulations, the effectiveness and usefuleness of the deconfounder approach to causal inference with latent confounding in recovering the true causal effects of variables. This approach was proposed by Blei et al. in 2018 (incert reference here)\n",
    "\n",
    "The flow of this notebook is as follows:\n",
    "- Simulate observations based on a confounded structure, where one variable confounds all but one of the other variables.\n",
    "- Simulate a continuous outcome based on a linear model, where we know the true causal effect of each variable.\n",
    "- Ommit the confounder from the dataframe, and attempt to recover it using factor models (PCA).\n",
    "- Check the recovered (substitute) confounder against the true confounder using scatter plots.\n",
    "- Re-estimate the outcome regression model, controlling for the substitute confounder instead of the true confounder, and compare the estimated coefficients on the other confounded variables against the ground truth"
   ]
  },
  {
   "cell_type": "code",
   "execution_count": 1,
   "metadata": {},
   "outputs": [
    {
     "data": {
      "text/plain": [
       "['investigating_deconfounder.py',\n",
       " 'test_legacy_code.ipynb',\n",
       " '5.0-mab-simulation-causal-graph.md',\n",
       " 'ho_deconfounder_on_sim_data.py',\n",
       " '_04-tb-parking-choice-example.py',\n",
       " '_02_tb-Demo-visual-marginal-independence-tests.py',\n",
       " 'investigating_deconfounder.ipynb',\n",
       " 'ho_deconfounder_on_sim_data.ipynb',\n",
       " 'util.py',\n",
       " '_04-tb-parking-choice-example.ipynb',\n",
       " '_02_tb-Demo-visual-marginal-independence-tests.ipynb',\n",
       " '.gitkeep',\n",
       " 'Causal_Graph_Tim_Data.ipynb',\n",
       " '_03-tb-deconfounder-predictive-checks.ipynb',\n",
       " '_03-tb-deconfounder-predictive-checks.md',\n",
       " '__pycache__',\n",
       " 'Simple_Simulation.md',\n",
       " '3.0-mab-independent-variable-simulation.ipynb',\n",
       " '5.0-mab-simulation-causal-graph.ipynb',\n",
       " '_02_tb-Demo-visual-marginal-independence-tests.md',\n",
       " '3.0-mab-independent-variable-simulation.md',\n",
       " '_05-tb-PC-algorithm-investigation.py',\n",
       " 'eliot_in_notebook.ipynb',\n",
       " 'Causal_Graph_Tim_Data.py',\n",
       " '4.0-mab-causal-graph-simulation.md',\n",
       " 'factor_models.py',\n",
       " '.ipynb_checkpoints',\n",
       " '_03-tb-deconfounder-predictive-checks.py',\n",
       " '_01_tb-Demo-visual-conditional-independence-tests.ipynb',\n",
       " 'Simple_Simulation.py',\n",
       " '_01_tb-Demo-visual-conditional-independence-tests.py',\n",
       " 'Simple_Simulation.ipynb',\n",
       " '_05-tb-PC-algorithm-investigation.ipynb',\n",
       " '4.0-mab-causal-graph-simulation.ipynb']"
      ]
     },
     "execution_count": 1,
     "metadata": {},
     "output_type": "execute_result"
    }
   ],
   "source": [
    "import pandas as pd\n",
    "import numpy as np\n",
    "import matplotlib.pyplot as plt\n",
    "from causalgraphicalmodels import CausalGraphicalModel, StructuralCausalModel\n",
    "import pylogit\n",
    "from collections import OrderedDict\n",
    "import pylogit as cm\n",
    "from functools import reduce\n",
    "import statsmodels.api as sm\n",
    "import statsmodels.formula.api as smf\n",
    "from math import ceil\n",
    "\n",
    "from IPython import display\n",
    "import seaborn as sns\n",
    "\n",
    "import numpy as np\n",
    "import numpy.random as npr\n",
    "import pandas as pd\n",
    "import pyprojroot\n",
    "import tensorflow as tf\n",
    "import tensorflow_probability as tfp\n",
    "import statsmodels.api as sm\n",
    "\n",
    "from tensorflow_probability import edward2 as ed\n",
    "from sklearn.datasets import load_breast_cancer\n",
    "from pandas.plotting import scatter_matrix\n",
    "from scipy import sparse, stats\n",
    "from sklearn.model_selection import train_test_split\n",
    "from sklearn.linear_model import LogisticRegression\n",
    "from sklearn.metrics import confusion_matrix, classification_report, roc_auc_score, roc_curve\n",
    "\n",
    "import matplotlib\n",
    "matplotlib.rcParams.update({'font.sans-serif' : 'Helvetica',\n",
    "                            'axes.labelsize': 10,\n",
    "                            'xtick.labelsize' : 6,\n",
    "                            'ytick.labelsize' : 6,\n",
    "                            'axes.titlesize' : 10})\n",
    "import matplotlib.pyplot as plt\n",
    "\n",
    "import seaborn as sns\n",
    "color_names = [\"windows blue\",\n",
    "               \"amber\",\n",
    "               \"crimson\",\n",
    "               \"faded green\",\n",
    "               \"dusty purple\",\n",
    "               \"greyish\"]\n",
    "colors = sns.xkcd_palette(color_names)\n",
    "sns.set(style=\"white\", palette=sns.xkcd_palette(color_names), color_codes = False)\n",
    "\n",
    "\n",
    "from factor_models import *\n",
    "\n",
    "\n",
    "import os\n",
    "os.listdir('.')"
   ]
  },
  {
   "cell_type": "markdown",
   "metadata": {},
   "source": [
    "## Specify the assumed causal graph of the data generation process\n",
    "The causal graph below represents the true data generating process that we'll be using for simulation. Notice how the confounder affects variables a, b, d, e, and f, as well as the outcome y."
   ]
  },
  {
   "cell_type": "code",
   "execution_count": 2,
   "metadata": {},
   "outputs": [
    {
     "data": {
      "image/svg+xml": [
       "<?xml version=\"1.0\" encoding=\"UTF-8\" standalone=\"no\"?>\n",
       "<!DOCTYPE svg PUBLIC \"-//W3C//DTD SVG 1.1//EN\"\n",
       " \"http://www.w3.org/Graphics/SVG/1.1/DTD/svg11.dtd\">\n",
       "<!-- Generated by graphviz version 2.42.3 (20191010.1750)\n",
       " -->\n",
       "<!-- Title: %3 Pages: 1 -->\n",
       "<svg width=\"460pt\" height=\"188pt\"\n",
       " viewBox=\"0.00 0.00 460.00 188.00\" xmlns=\"http://www.w3.org/2000/svg\" xmlns:xlink=\"http://www.w3.org/1999/xlink\">\n",
       "<g id=\"graph0\" class=\"graph\" transform=\"scale(1 1) rotate(0) translate(4 184)\">\n",
       "<title>%3</title>\n",
       "<polygon fill=\"white\" stroke=\"transparent\" points=\"-4,4 -4,-184 456,-184 456,4 -4,4\"/>\n",
       "<!-- b -->\n",
       "<g id=\"node1\" class=\"node\">\n",
       "<title>b</title>\n",
       "<ellipse fill=\"none\" stroke=\"black\" cx=\"27\" cy=\"-90\" rx=\"27\" ry=\"18\"/>\n",
       "<text text-anchor=\"middle\" x=\"27\" y=\"-85.8\" font-family=\"Times,serif\" font-size=\"14.00\">b</text>\n",
       "</g>\n",
       "<!-- y -->\n",
       "<g id=\"node8\" class=\"node\">\n",
       "<title>y</title>\n",
       "<ellipse fill=\"none\" stroke=\"black\" cx=\"243\" cy=\"-18\" rx=\"27\" ry=\"18\"/>\n",
       "<text text-anchor=\"middle\" x=\"243\" y=\"-13.8\" font-family=\"Times,serif\" font-size=\"14.00\">y</text>\n",
       "</g>\n",
       "<!-- b&#45;&gt;y -->\n",
       "<g id=\"edge2\" class=\"edge\">\n",
       "<title>b&#45;&gt;y</title>\n",
       "<path fill=\"none\" stroke=\"black\" d=\"M48.08,-78.38C52.92,-76.13 58.09,-73.87 63,-72 112.4,-53.19 171.48,-36.94 208.13,-27.55\"/>\n",
       "<polygon fill=\"black\" stroke=\"black\" points=\"209.01,-30.94 217.85,-25.09 207.29,-24.15 209.01,-30.94\"/>\n",
       "</g>\n",
       "<!-- d -->\n",
       "<g id=\"node2\" class=\"node\">\n",
       "<title>d</title>\n",
       "<ellipse fill=\"none\" stroke=\"black\" cx=\"99\" cy=\"-90\" rx=\"27\" ry=\"18\"/>\n",
       "<text text-anchor=\"middle\" x=\"99\" y=\"-85.8\" font-family=\"Times,serif\" font-size=\"14.00\">d</text>\n",
       "</g>\n",
       "<!-- d&#45;&gt;y -->\n",
       "<g id=\"edge10\" class=\"edge\">\n",
       "<title>d&#45;&gt;y</title>\n",
       "<path fill=\"none\" stroke=\"black\" d=\"M120.25,-78.67C144.6,-66.83 184.72,-47.33 212.43,-33.86\"/>\n",
       "<polygon fill=\"black\" stroke=\"black\" points=\"214.2,-36.89 221.67,-29.37 211.14,-30.6 214.2,-36.89\"/>\n",
       "</g>\n",
       "<!-- e -->\n",
       "<g id=\"node3\" class=\"node\">\n",
       "<title>e</title>\n",
       "<ellipse fill=\"none\" stroke=\"black\" cx=\"171\" cy=\"-90\" rx=\"27\" ry=\"18\"/>\n",
       "<text text-anchor=\"middle\" x=\"171\" y=\"-85.8\" font-family=\"Times,serif\" font-size=\"14.00\">e</text>\n",
       "</g>\n",
       "<!-- e&#45;&gt;y -->\n",
       "<g id=\"edge11\" class=\"edge\">\n",
       "<title>e&#45;&gt;y</title>\n",
       "<path fill=\"none\" stroke=\"black\" d=\"M185.57,-74.83C195.75,-64.94 209.52,-51.55 221.03,-40.36\"/>\n",
       "<polygon fill=\"black\" stroke=\"black\" points=\"223.47,-42.87 228.2,-33.38 218.59,-37.85 223.47,-42.87\"/>\n",
       "</g>\n",
       "<!-- f -->\n",
       "<g id=\"node4\" class=\"node\">\n",
       "<title>f</title>\n",
       "<ellipse fill=\"none\" stroke=\"black\" cx=\"243\" cy=\"-90\" rx=\"27\" ry=\"18\"/>\n",
       "<text text-anchor=\"middle\" x=\"243\" y=\"-85.8\" font-family=\"Times,serif\" font-size=\"14.00\">f</text>\n",
       "</g>\n",
       "<!-- f&#45;&gt;y -->\n",
       "<g id=\"edge12\" class=\"edge\">\n",
       "<title>f&#45;&gt;y</title>\n",
       "<path fill=\"none\" stroke=\"black\" d=\"M243,-71.7C243,-63.98 243,-54.71 243,-46.11\"/>\n",
       "<polygon fill=\"black\" stroke=\"black\" points=\"246.5,-46.1 243,-36.1 239.5,-46.1 246.5,-46.1\"/>\n",
       "</g>\n",
       "<!-- c -->\n",
       "<g id=\"node5\" class=\"node\">\n",
       "<title>c</title>\n",
       "<ellipse fill=\"none\" stroke=\"black\" cx=\"425\" cy=\"-90\" rx=\"27\" ry=\"18\"/>\n",
       "<text text-anchor=\"middle\" x=\"425\" y=\"-85.8\" font-family=\"Times,serif\" font-size=\"14.00\">c</text>\n",
       "</g>\n",
       "<!-- c&#45;&gt;y -->\n",
       "<g id=\"edge3\" class=\"edge\">\n",
       "<title>c&#45;&gt;y</title>\n",
       "<path fill=\"none\" stroke=\"black\" d=\"M402.5,-79.51C396.5,-77.03 390.02,-74.38 384,-72 347.01,-57.39 304.22,-41.43 275.56,-30.89\"/>\n",
       "<polygon fill=\"black\" stroke=\"black\" points=\"276.64,-27.56 266.05,-27.39 274.23,-34.13 276.64,-27.56\"/>\n",
       "</g>\n",
       "<!-- a -->\n",
       "<g id=\"node6\" class=\"node\">\n",
       "<title>a</title>\n",
       "<ellipse fill=\"none\" stroke=\"black\" cx=\"315\" cy=\"-90\" rx=\"27\" ry=\"18\"/>\n",
       "<text text-anchor=\"middle\" x=\"315\" y=\"-85.8\" font-family=\"Times,serif\" font-size=\"14.00\">a</text>\n",
       "</g>\n",
       "<!-- a&#45;&gt;y -->\n",
       "<g id=\"edge1\" class=\"edge\">\n",
       "<title>a&#45;&gt;y</title>\n",
       "<path fill=\"none\" stroke=\"black\" d=\"M300.43,-74.83C290.25,-64.94 276.48,-51.55 264.97,-40.36\"/>\n",
       "<polygon fill=\"black\" stroke=\"black\" points=\"267.41,-37.85 257.8,-33.38 262.53,-42.87 267.41,-37.85\"/>\n",
       "</g>\n",
       "<!-- confounder -->\n",
       "<g id=\"node7\" class=\"node\">\n",
       "<title>confounder</title>\n",
       "<ellipse fill=\"none\" stroke=\"black\" cx=\"207\" cy=\"-162\" rx=\"50.26\" ry=\"18\"/>\n",
       "<text text-anchor=\"middle\" x=\"207\" y=\"-157.8\" font-family=\"Times,serif\" font-size=\"14.00\">confounder</text>\n",
       "</g>\n",
       "<!-- confounder&#45;&gt;b -->\n",
       "<g id=\"edge6\" class=\"edge\">\n",
       "<title>confounder&#45;&gt;b</title>\n",
       "<path fill=\"none\" stroke=\"black\" d=\"M171.75,-149C142.38,-138.78 99.61,-123.34 63,-108 61.18,-107.24 59.32,-106.44 57.46,-105.61\"/>\n",
       "<polygon fill=\"black\" stroke=\"black\" points=\"58.73,-102.35 48.18,-101.38 55.83,-108.71 58.73,-102.35\"/>\n",
       "</g>\n",
       "<!-- confounder&#45;&gt;d -->\n",
       "<g id=\"edge7\" class=\"edge\">\n",
       "<title>confounder&#45;&gt;d</title>\n",
       "<path fill=\"none\" stroke=\"black\" d=\"M183.83,-145.98C167.05,-135.1 144.29,-120.35 126.57,-108.87\"/>\n",
       "<polygon fill=\"black\" stroke=\"black\" points=\"128.11,-105.7 117.82,-103.2 124.31,-111.57 128.11,-105.7\"/>\n",
       "</g>\n",
       "<!-- confounder&#45;&gt;e -->\n",
       "<g id=\"edge8\" class=\"edge\">\n",
       "<title>confounder&#45;&gt;e</title>\n",
       "<path fill=\"none\" stroke=\"black\" d=\"M198.29,-144.05C194.02,-135.77 188.8,-125.62 184.08,-116.42\"/>\n",
       "<polygon fill=\"black\" stroke=\"black\" points=\"187.07,-114.6 179.39,-107.31 180.85,-117.8 187.07,-114.6\"/>\n",
       "</g>\n",
       "<!-- confounder&#45;&gt;f -->\n",
       "<g id=\"edge9\" class=\"edge\">\n",
       "<title>confounder&#45;&gt;f</title>\n",
       "<path fill=\"none\" stroke=\"black\" d=\"M215.71,-144.05C219.98,-135.77 225.2,-125.62 229.92,-116.42\"/>\n",
       "<polygon fill=\"black\" stroke=\"black\" points=\"233.15,-117.8 234.61,-107.31 226.93,-114.6 233.15,-117.8\"/>\n",
       "</g>\n",
       "<!-- confounder&#45;&gt;a -->\n",
       "<g id=\"edge5\" class=\"edge\">\n",
       "<title>confounder&#45;&gt;a</title>\n",
       "<path fill=\"none\" stroke=\"black\" d=\"M230.17,-145.98C246.95,-135.1 269.71,-120.35 287.43,-108.87\"/>\n",
       "<polygon fill=\"black\" stroke=\"black\" points=\"289.69,-111.57 296.18,-103.2 285.89,-105.7 289.69,-111.57\"/>\n",
       "</g>\n",
       "<!-- confounder&#45;&gt;y -->\n",
       "<g id=\"edge4\" class=\"edge\">\n",
       "<title>confounder&#45;&gt;y</title>\n",
       "<path fill=\"none\" stroke=\"black\" d=\"M255.76,-157.06C288.6,-151.57 329.66,-138.59 351,-108 360.15,-94.88 359.46,-85.58 351,-72 335.27,-46.76 303.63,-33.2 278.64,-26.14\"/>\n",
       "<polygon fill=\"black\" stroke=\"black\" points=\"279.31,-22.7 268.75,-23.57 277.55,-29.47 279.31,-22.7\"/>\n",
       "</g>\n",
       "</g>\n",
       "</svg>\n"
      ],
      "text/plain": [
       "<graphviz.dot.Digraph at 0x7fb694711550>"
      ]
     },
     "execution_count": 2,
     "metadata": {},
     "output_type": "execute_result"
    }
   ],
   "source": [
    "SEED = 10\n",
    "np.random.seed(SEED)\n",
    "tf.random.set_random_seed(SEED)\n",
    "\n",
    "data_generation_graph = CausalGraphicalModel(\n",
    "    nodes=['a', 'b', 'c', 'confounder',\n",
    "          'd',  'e', 'f', 'y'],\n",
    "    edges=[\n",
    "        (\"a\", \"y\"),\n",
    "        (\"b\", \"y\"),\n",
    "        (\"c\", \"y\"),\n",
    "        (\"d\", \"y\"),\n",
    "        (\"e\", \"y\"),\n",
    "        (\"f\", \"y\"),\n",
    "        (\"confounder\", \"y\"),\n",
    "\n",
    "\n",
    "        (\"confounder\", \"a\"),\n",
    "        (\"confounder\", \"b\"),\n",
    "#         (\"confounder\", \"c\"),\n",
    "        (\"confounder\", \"d\"),\n",
    "        (\"confounder\", \"e\"),\n",
    "        (\"confounder\", \"f\"),\n",
    "\n",
    "\n",
    "\n",
    "\n",
    "#         (\"confounder\", \"y\"),\n",
    "#         (\"confounder\", \"y\"),\n",
    "    ]\n",
    ")\n",
    "\n",
    "# draw return a graphviz `dot` object, which jupyter can render\n",
    "data_generation_graph.draw()"
   ]
  },
  {
   "cell_type": "markdown",
   "metadata": {},
   "source": [
    "## Specifiy the paramteric relationship between the covariates.\n",
    "\n",
    "This is where we specify the relationship between the variables in the Causal graph above. Specifically, we have an equation that relates each two connected nodes on the graph (so an equation for each edge).\n",
    "\n",
    "In the outcome model for y, the coefficient on each of the variables a, b, c, d, e and f represents it's $true$ causal effect. The coefficient on the confounder, however, does not represent its causal effect, because it has 5 decendents that are part of the outcome model.\n",
    "\n",
    "We are not ultimately interested in the causal effect of the confounder for this exercice, and instead are interested in the coefficients on each of its descendents."
   ]
  },
  {
   "cell_type": "code",
   "execution_count": 3,
   "metadata": {},
   "outputs": [],
   "source": [
    "sample_size = 10000\n",
    "\n",
    "confounder = np.random.normal(loc=20, scale = 10, size = sample_size)"
   ]
  },
  {
   "cell_type": "code",
   "execution_count": 4,
   "metadata": {},
   "outputs": [],
   "source": [
    "a = .3*confounder + np.random.normal(loc=10,scale=3,size=sample_size)\n",
    "b = -1*confounder + np.random.normal(loc=6,scale=3,size=sample_size)\n",
    "c = np.random.normal(loc=15,scale=3,size=sample_size) # + .5*confounder\n",
    "d = .8*confounder + np.random.normal(loc=-10,scale=3,size=sample_size)\n",
    "e = .5*confounder + np.random.normal(loc=8,scale=3,size=sample_size)\n",
    "f= -.3*confounder + np.random.normal(loc=-12,scale=3,size=sample_size)\n",
    "\n",
    "\n",
    "df = pd.DataFrame(np.array([a,b,c,d,e,f, confounder]).T, columns = ['a', 'b', 'c',\n",
    "          'd',  'e', 'f', 'confounder'])\n",
    "\n",
    "X_columns =['a', 'b', 'c',\n",
    "          'd',  'e', 'f', 'confounder']\n",
    "df = (df[X_columns] - df[X_columns].mean())/df[X_columns].std()\n",
    "\n",
    "# df['confounder'] = confounder - confounder.mean()/confounder.std()\n",
    "\n",
    "y = (5 + 2*df['a'] + 2*df['b'] - 5*df['c'] +\n",
    "     3*df['d'] + 2*df['e'] - 5*df['f'] + 7*df['confounder']\n",
    "     + np.random.normal(loc=0,scale=1,size=sample_size))\n",
    "\n",
    "df['y'] = y\n",
    "\n",
    "coeffs_true = [5,2,2,-5,3,2,-5,7]\n",
    "\n",
    "# plt.hist(confounder, bins = 50)\n",
    "\n",
    "# plt.hist(f, bins = 50)"
   ]
  },
  {
   "cell_type": "code",
   "execution_count": 5,
   "metadata": {},
   "outputs": [
    {
     "data": {
      "text/html": [
       "<div>\n",
       "<style scoped>\n",
       "    .dataframe tbody tr th:only-of-type {\n",
       "        vertical-align: middle;\n",
       "    }\n",
       "\n",
       "    .dataframe tbody tr th {\n",
       "        vertical-align: top;\n",
       "    }\n",
       "\n",
       "    .dataframe thead th {\n",
       "        text-align: right;\n",
       "    }\n",
       "</style>\n",
       "<table border=\"1\" class=\"dataframe\">\n",
       "  <thead>\n",
       "    <tr style=\"text-align: right;\">\n",
       "      <th></th>\n",
       "      <th>a</th>\n",
       "      <th>b</th>\n",
       "      <th>c</th>\n",
       "      <th>d</th>\n",
       "      <th>e</th>\n",
       "      <th>f</th>\n",
       "      <th>confounder</th>\n",
       "      <th>y</th>\n",
       "    </tr>\n",
       "  </thead>\n",
       "  <tbody>\n",
       "    <tr>\n",
       "      <th>0</th>\n",
       "      <td>-0.549256</td>\n",
       "      <td>0.849666</td>\n",
       "      <td>-0.642186</td>\n",
       "      <td>-0.554713</td>\n",
       "      <td>-0.052984</td>\n",
       "      <td>0.589697</td>\n",
       "      <td>-0.758279</td>\n",
       "      <td>-0.676840</td>\n",
       "    </tr>\n",
       "    <tr>\n",
       "      <th>1</th>\n",
       "      <td>0.471453</td>\n",
       "      <td>-0.912992</td>\n",
       "      <td>0.008687</td>\n",
       "      <td>-0.163727</td>\n",
       "      <td>1.036457</td>\n",
       "      <td>0.156559</td>\n",
       "      <td>0.588407</td>\n",
       "      <td>7.141741</td>\n",
       "    </tr>\n",
       "    <tr>\n",
       "      <th>2</th>\n",
       "      <td>1.184096</td>\n",
       "      <td>-0.158833</td>\n",
       "      <td>-0.053305</td>\n",
       "      <td>0.310142</td>\n",
       "      <td>0.207925</td>\n",
       "      <td>0.381985</td>\n",
       "      <td>0.179344</td>\n",
       "      <td>9.164015</td>\n",
       "    </tr>\n",
       "    <tr>\n",
       "      <th>3</th>\n",
       "      <td>0.700390</td>\n",
       "      <td>-1.713274</td>\n",
       "      <td>-0.076282</td>\n",
       "      <td>1.928661</td>\n",
       "      <td>1.330674</td>\n",
       "      <td>-0.804878</td>\n",
       "      <td>1.812742</td>\n",
       "      <td>28.008102</td>\n",
       "    </tr>\n",
       "    <tr>\n",
       "      <th>4</th>\n",
       "      <td>-2.333770</td>\n",
       "      <td>1.594524</td>\n",
       "      <td>-0.456444</td>\n",
       "      <td>-1.138791</td>\n",
       "      <td>-0.866050</td>\n",
       "      <td>0.613895</td>\n",
       "      <td>-1.668412</td>\n",
       "      <td>-14.943351</td>\n",
       "    </tr>\n",
       "  </tbody>\n",
       "</table>\n",
       "</div>"
      ],
      "text/plain": [
       "          a         b         c         d         e         f  confounder  \\\n",
       "0 -0.549256  0.849666 -0.642186 -0.554713 -0.052984  0.589697   -0.758279   \n",
       "1  0.471453 -0.912992  0.008687 -0.163727  1.036457  0.156559    0.588407   \n",
       "2  1.184096 -0.158833 -0.053305  0.310142  0.207925  0.381985    0.179344   \n",
       "3  0.700390 -1.713274 -0.076282  1.928661  1.330674 -0.804878    1.812742   \n",
       "4 -2.333770  1.594524 -0.456444 -1.138791 -0.866050  0.613895   -1.668412   \n",
       "\n",
       "           y  \n",
       "0  -0.676840  \n",
       "1   7.141741  \n",
       "2   9.164015  \n",
       "3  28.008102  \n",
       "4 -14.943351  "
      ]
     },
     "execution_count": 5,
     "metadata": {},
     "output_type": "execute_result"
    }
   ],
   "source": [
    "# df = pd.DataFrame(np.array([a,b,c,d,e,f,confounder, y]).T, columns = ['a', 'b', 'c',\n",
    "#           'd',  'e', 'f', 'confounder', 'y'])\n",
    "df.head()"
   ]
  },
  {
   "cell_type": "code",
   "execution_count": 6,
   "metadata": {},
   "outputs": [],
   "source": [
    "# sns.pairplot(df, size=1.5)"
   ]
  },
  {
   "cell_type": "markdown",
   "metadata": {},
   "source": [
    "## Bias from ommitting the confounder without adjustment\n",
    "\n",
    "Here, we show that if we ommit the confounder, and attempt to estimate a new model for y, the coefficients obtained on each of the variables a, b, d, e, and f are all biased and do not represent the causal effect associated with each of those variables. The coefficient on c remains unbiased since c does not depend on the confounder. The purpose of this is to demonstrate that you indeed need to control for the confounder, or account for it somehow, if one knows you have confounded variables and is looking to assign causal interpretations to those variables"
   ]
  },
  {
   "cell_type": "code",
   "execution_count": 7,
   "metadata": {},
   "outputs": [
    {
     "data": {
      "text/html": [
       "<div>\n",
       "<style scoped>\n",
       "    .dataframe tbody tr th:only-of-type {\n",
       "        vertical-align: middle;\n",
       "    }\n",
       "\n",
       "    .dataframe tbody tr th {\n",
       "        vertical-align: top;\n",
       "    }\n",
       "\n",
       "    .dataframe thead th {\n",
       "        text-align: right;\n",
       "    }\n",
       "</style>\n",
       "<table border=\"1\" class=\"dataframe\">\n",
       "  <thead>\n",
       "    <tr style=\"text-align: right;\">\n",
       "      <th></th>\n",
       "      <th>True Coefficient</th>\n",
       "    </tr>\n",
       "  </thead>\n",
       "  <tbody>\n",
       "    <tr>\n",
       "      <th>Intercept</th>\n",
       "      <td>5</td>\n",
       "    </tr>\n",
       "    <tr>\n",
       "      <th>a</th>\n",
       "      <td>2</td>\n",
       "    </tr>\n",
       "    <tr>\n",
       "      <th>b</th>\n",
       "      <td>2</td>\n",
       "    </tr>\n",
       "    <tr>\n",
       "      <th>c</th>\n",
       "      <td>-5</td>\n",
       "    </tr>\n",
       "    <tr>\n",
       "      <th>d</th>\n",
       "      <td>3</td>\n",
       "    </tr>\n",
       "    <tr>\n",
       "      <th>e</th>\n",
       "      <td>2</td>\n",
       "    </tr>\n",
       "    <tr>\n",
       "      <th>f</th>\n",
       "      <td>-5</td>\n",
       "    </tr>\n",
       "    <tr>\n",
       "      <th>confounder</th>\n",
       "      <td>7</td>\n",
       "    </tr>\n",
       "  </tbody>\n",
       "</table>\n",
       "</div>"
      ],
      "text/plain": [
       "            True Coefficient\n",
       "Intercept                  5\n",
       "a                          2\n",
       "b                          2\n",
       "c                         -5\n",
       "d                          3\n",
       "e                          2\n",
       "f                         -5\n",
       "confounder                 7"
      ]
     },
     "execution_count": 7,
     "metadata": {},
     "output_type": "execute_result"
    }
   ],
   "source": [
    "model_full = smf.ols(\"y ~ a+b+c+d+e+f + confounder\", data=df)\n",
    "results_full = model_full.fit()\n",
    "results_df_full = pd.DataFrame(results_full.params, columns = ['estimated_params'])\n",
    "results_df_full['std_errors'] = results_full.bse\n",
    "results_df_full['True Coefficient'] = coeffs_true\n",
    "results_df_full[['True Coefficient']]"
   ]
  },
  {
   "cell_type": "code",
   "execution_count": 8,
   "metadata": {
    "scrolled": true
   },
   "outputs": [
    {
     "data": {
      "text/html": [
       "<div>\n",
       "<style scoped>\n",
       "    .dataframe tbody tr th:only-of-type {\n",
       "        vertical-align: middle;\n",
       "    }\n",
       "\n",
       "    .dataframe tbody tr th {\n",
       "        vertical-align: top;\n",
       "    }\n",
       "\n",
       "    .dataframe thead th {\n",
       "        text-align: right;\n",
       "    }\n",
       "</style>\n",
       "<table border=\"1\" class=\"dataframe\">\n",
       "  <thead>\n",
       "    <tr style=\"text-align: right;\">\n",
       "      <th></th>\n",
       "      <th>estimated_params</th>\n",
       "      <th>std_errors</th>\n",
       "      <th>true_params</th>\n",
       "    </tr>\n",
       "  </thead>\n",
       "  <tbody>\n",
       "    <tr>\n",
       "      <th>Intercept</th>\n",
       "      <td>5.008365</td>\n",
       "      <td>0.017642</td>\n",
       "      <td>5</td>\n",
       "    </tr>\n",
       "    <tr>\n",
       "      <th>a</th>\n",
       "      <td>2.433163</td>\n",
       "      <td>0.024326</td>\n",
       "      <td>2</td>\n",
       "    </tr>\n",
       "    <tr>\n",
       "      <th>b</th>\n",
       "      <td>-1.472845</td>\n",
       "      <td>0.044415</td>\n",
       "      <td>2</td>\n",
       "    </tr>\n",
       "    <tr>\n",
       "      <th>c</th>\n",
       "      <td>-4.981724</td>\n",
       "      <td>0.017648</td>\n",
       "      <td>-5</td>\n",
       "    </tr>\n",
       "    <tr>\n",
       "      <th>d</th>\n",
       "      <td>5.186948</td>\n",
       "      <td>0.042186</td>\n",
       "      <td>3</td>\n",
       "    </tr>\n",
       "    <tr>\n",
       "      <th>e</th>\n",
       "      <td>2.895057</td>\n",
       "      <td>0.032019</td>\n",
       "      <td>2</td>\n",
       "    </tr>\n",
       "    <tr>\n",
       "      <th>f</th>\n",
       "      <td>-5.399752</td>\n",
       "      <td>0.024485</td>\n",
       "      <td>-5</td>\n",
       "    </tr>\n",
       "  </tbody>\n",
       "</table>\n",
       "</div>"
      ],
      "text/plain": [
       "           estimated_params  std_errors  true_params\n",
       "Intercept          5.008365    0.017642            5\n",
       "a                  2.433163    0.024326            2\n",
       "b                 -1.472845    0.044415            2\n",
       "c                 -4.981724    0.017648           -5\n",
       "d                  5.186948    0.042186            3\n",
       "e                  2.895057    0.032019            2\n",
       "f                 -5.399752    0.024485           -5"
      ]
     },
     "execution_count": 8,
     "metadata": {},
     "output_type": "execute_result"
    }
   ],
   "source": [
    "model_partial = smf.ols(\"y ~ a+b+c+d+e+f \", data=df) ## Ommit the confounder from OLS\n",
    "results_partial = model_partial.fit()\n",
    "results_df_partial = pd.DataFrame(results_partial.params, columns = ['estimated_params'])\n",
    "results_df_partial['std_errors'] = results_partial.bse\n",
    "results_df_partial['true_params'] = coeffs_true[:-1]\n",
    "results_df_partial"
   ]
  },
  {
   "cell_type": "markdown",
   "metadata": {},
   "source": [
    "## Factor analysis: Is there evidence of latent factors?\n",
    "\n",
    "How do we go about checking for whether a confounder exists (in this example, we know that a confounder exist since we defined the data generating process, but in the real world, the data generating process is more often than now unknown to the analyst).\n",
    "\n",
    "There are a multitude of tests and ways to go about answering this question. A simple, off-the-shelf check is the bartlett sphericity test, which essentially just compares the correlation matrix of our covariates to the identity matrix. This test is used to check whether our covariate space can be reduced to a lower-dimensional space of factors that explain the variation in our data.\n",
    "\n",
    "### Tim, this would be a good place to add your other tests. I'm thinking of the bullet points below:\n",
    "- We can hypothesize a causal graph, and run conditional independence tests.\n",
    "- Prior predictive checks?"
   ]
  },
  {
   "cell_type": "markdown",
   "metadata": {},
   "source": [
    "## Fitting a factor model using 3 PCA variations.\n",
    "\n",
    "We fit three variations of PCA. This is not necessary indeed, but we wanted to see the robustness of our final estimates and their sensitivities to different variations of fitting the factor models.\n",
    "\n",
    "Notice that we use all of our X variables to fit the factor model (including variable c), consistent with the recommendation in Blei et al.\n",
    "\n"
   ]
  },
  {
   "cell_type": "code",
   "execution_count": 10,
   "metadata": {},
   "outputs": [],
   "source": [
    "X_columns_red = ['a', 'b', 'c', 'd', 'e', 'f']"
   ]
  },
  {
   "cell_type": "code",
   "execution_count": 11,
   "metadata": {},
   "outputs": [],
   "source": [
    "X = np.array(df[X_columns_red])"
   ]
  },
  {
   "cell_type": "markdown",
   "metadata": {},
   "source": [
    "### Using sklearn"
   ]
  },
  {
   "cell_type": "code",
   "execution_count": 12,
   "metadata": {},
   "outputs": [],
   "source": [
    "from sklearn.decomposition import PCA"
   ]
  },
  {
   "cell_type": "code",
   "execution_count": 13,
   "metadata": {},
   "outputs": [],
   "source": [
    "pca = PCA(n_components=1)\n",
    "principalComponents = pca.fit_transform(X)"
   ]
  },
  {
   "cell_type": "markdown",
   "metadata": {},
   "source": [
    "### Using PPCA from Blei et. al's tutorial"
   ]
  },
  {
   "cell_type": "code",
   "execution_count": 14,
   "metadata": {},
   "outputs": [
    {
     "name": "stdout",
     "output_type": "stream",
     "text": [
      "WARNING:tensorflow:From /Users/timsb/dev/tr_b_causal_2020/notebooks/working/factor_models.py:159: The name tf.train.AdamOptimizer is deprecated. Please use tf.compat.v1.train.AdamOptimizer instead.\n",
      "\n"
     ]
    },
    {
     "name": "stderr",
     "output_type": "stream",
     "text": [
      "/Users/timsb/dev/tr_b_causal_2020/notebooks/working/factor_models.py:112: UserWarning: tfp.edward2 module is deprecated and will be removed on 2019-12-01. Use https://github.com/google/edward2 library instead.\n",
      "  log_joint = ed.make_log_joint_fn(ppca_model)\n"
     ]
    },
    {
     "name": "stdout",
     "output_type": "stream",
     "text": [
      "WARNING:tensorflow:From /Users/timsb/dev/tr_b_causal_2020/notebooks/working/factor_models.py:162: The name tf.global_variables_initializer is deprecated. Please use tf.compat.v1.global_variables_initializer instead.\n",
      "\n",
      "WARNING:tensorflow:From /Users/timsb/dev/tr_b_causal_2020/notebooks/working/factor_models.py:168: The name tf.Session is deprecated. Please use tf.compat.v1.Session instead.\n",
      "\n",
      "Inferred axes:\n",
      "[[ 0.79445726 -0.9395475  -0.03165709  0.93185836  0.8943972  -0.8052003 ]]\n",
      "Standard Deviation:\n",
      "[[0.00713811 0.00621588 0.00537249 0.00519545 0.00655572 0.006293  ]]\n"
     ]
    },
    {
     "data": {
      "image/png": "[encoded data removed]",
      "text/plain": [
       "<Figure size 432x288 with 1 Axes>"
      ]
     },
     "metadata": {},
     "output_type": "display_data"
    },
    {
     "data": {
      "text/plain": [
       "1"
      ]
     },
     "metadata": {},
     "output_type": "display_data"
    },
    {
     "name": "stdout",
     "output_type": "stream",
     "text": [
      "P-value, average:  [0.5424580524881687]\n"
     ]
    },
    {
     "data": {
      "text/plain": [
       "<AxesSubplot:ylabel='Density'>"
      ]
     },
     "metadata": {},
     "output_type": "display_data"
    },
    {
     "data": {
      "image/png": "[encoded data removed]",
      "text/plain": [
       "<Figure size 432x288 with 1 Axes>"
      ]
     },
     "metadata": {},
     "output_type": "display_data"
    }
   ],
   "source": [
    "latent_dim = 1\n",
    "\n",
    "confounders, holdouts, holdoutmasks, holdoutrow= confounder_ppca(holdout_portion=0.2, X=X, latent_dim=latent_dim)\n",
    "\n",
    "holdouts_req = [holdouts]\n",
    "display.display(len(holdouts_req))\n",
    "\n",
    "confounder_req = [confounders]\n",
    "\n",
    "n_rep = 100 # number of replicated datasets we generate\n",
    "holdout_gen_util = []\n",
    "\n",
    "for j in range(len(holdouts_req)):\n",
    "    holdout_gen = np.zeros((n_rep,*(holdouts_req[j].shape)))\n",
    "\n",
    "    for i in range(n_rep):\n",
    "        w_sample = npr.normal(confounder_req[j][0], confounder_req[j][1])\n",
    "        z_sample = npr.normal(confounder_req[j][2], confounder_req[j][3])\n",
    "\n",
    "        data_dim_temp = holdouts_req[j].shape[1]\n",
    "        latent_dim_temp = confounder_req[j][2].shape[1]\n",
    "        num_datapoints_temp = holdouts_req[j].shape[0]\n",
    "\n",
    "        with ed.interception(replace_latents(w_sample, z_sample)):\n",
    "            generate = ppca_model(\n",
    "                data_dim=data_dim_temp, latent_dim=latent_dim_temp,\n",
    "                num_datapoints=num_datapoints_temp, stddv_datapoints=0.1, holdout_mask=holdoutmasks)\n",
    "\n",
    "        with tf.Session() as sess:\n",
    "            x_generated, _ = sess.run(generate)\n",
    "\n",
    "        # look only at the heldout entries\n",
    "        holdout_gen[i] = np.multiply(x_generated, holdoutmasks)\n",
    "\n",
    "    holdout_gen_util.append(holdout_gen)\n",
    "\n",
    "\n",
    "n_eval = 100 # we draw samples from the inferred Z and W\n",
    "obs_ll_per_zi_per_mode = []\n",
    "rep_ll_per_zi_per_mode = []\n",
    "stddv_datapoints=0.1\n",
    "for mode in range(len(holdouts_req)):\n",
    "    obs_ll = []\n",
    "    rep_ll = []\n",
    "\n",
    "    for j in range(n_eval):\n",
    "        w_sample = npr.normal(confounder_req[mode][0], confounder_req[mode][1])\n",
    "        z_sample = npr.normal(confounder_req[mode][2], confounder_req[mode][3])\n",
    "\n",
    "        holdoutmean_sample = np.multiply(z_sample.dot(w_sample), holdoutmasks)\n",
    "        obs_ll.append(np.mean(stats.norm(holdoutmean_sample, \\\n",
    "                            stddv_datapoints).logpdf(holdouts_req[mode]), axis=1))\n",
    "\n",
    "        rep_ll.append(np.mean(stats.norm(holdoutmean_sample, \\\n",
    "                            stddv_datapoints).logpdf(holdout_gen_util[mode]),axis=2))\n",
    "\n",
    "    obs_ll_per_zi, rep_ll_per_zi = np.mean(np.array(obs_ll), axis=0), np.mean(np.array(rep_ll), axis=0)\n",
    "    obs_ll_per_zi_per_mode.append(obs_ll_per_zi)\n",
    "    rep_ll_per_zi_per_mode.append(rep_ll_per_zi)\n",
    "\n",
    "\n",
    "pval_mode = []\n",
    "for mode in range(len(holdouts_req)):\n",
    "    pvals = np.array([np.mean(rep_ll_per_zi_per_mode[mode][:,i] < obs_ll_per_zi_per_mode[mode][i])\n",
    "                      for i in range(holdouts_req[mode].shape[0])])\n",
    "    holdout_subjects = np.unique(holdoutrow)\n",
    "    overall_pval = np.mean(pvals[holdout_subjects])\n",
    "    pval_mode.append(overall_pval)\n",
    "#     print(\"Predictive check p-values\", overall_pval)\n",
    "\n",
    "print(\"P-value, average: \", pval_mode)\n",
    "\n",
    "display.display(sns.kdeplot(pvals[holdout_subjects]))"
   ]
  },
  {
   "cell_type": "code",
   "execution_count": 15,
   "metadata": {},
   "outputs": [
    {
     "data": {
      "image/png": "[encoded data removed]",
      "text/plain": [
       "<Figure size 720x1440 with 5 Axes>"
      ]
     },
     "metadata": {},
     "output_type": "display_data"
    }
   ],
   "source": [
    "num_subjects = 5\n",
    "fig, axes = plt.subplots(nrows = num_subjects, ncols=1, figsize = (10,20))\n",
    "\n",
    "for i, ax in zip(range(num_subjects), axes.flat):\n",
    "    subject_no = npr.choice(holdout_subjects)\n",
    "    sns.kdeplot(rep_ll_per_zi[:,subject_no], ax=ax).set_title(\"Predictive check for subject \"+str(subject_no))\n",
    "    ax.axvline(x=obs_ll_per_zi[subject_no], linestyle='--')\n",
    "\n",
    "plt.show()"
   ]
  },
  {
   "cell_type": "code",
   "execution_count": 16,
   "metadata": {},
   "outputs": [
    {
     "data": {
      "text/plain": [
       "<matplotlib.lines.Line2D at 0x7fb6310a8d10>"
      ]
     },
     "execution_count": 16,
     "metadata": {},
     "output_type": "execute_result"
    },
    {
     "data": {
      "image/png": "[encoded data removed]",
      "text/plain": [
       "<Figure size 432x288 with 1 Axes>"
      ]
     },
     "metadata": {},
     "output_type": "display_data"
    }
   ],
   "source": [
    "overall_ll_est = rep_ll_per_zi.mean(axis=1)\n",
    "\n",
    "overall_ll_obs = obs_ll_per_zi.mean()\n",
    "\n",
    "sns.kdeplot(overall_ll_est).set_title(\"Predictive check: Population\")\n",
    "plt.axvline(x=overall_ll_obs, linestyle='--')"
   ]
  },
  {
   "cell_type": "code",
   "execution_count": 17,
   "metadata": {},
   "outputs": [
    {
     "data": {
      "text/plain": [
       "(100,)"
      ]
     },
     "execution_count": 17,
     "metadata": {},
     "output_type": "execute_result"
    }
   ],
   "source": [
    "overall_ll_est.shape"
   ]
  },
  {
   "cell_type": "markdown",
   "metadata": {},
   "source": [
    "## Visualizing the substitute confounder against the true confounder\n",
    "Since we do know the values for the absolute confouder, we can actually in this case plot the recovered values against the true ones in a scatter plot and compare the fit. This is not possible in a real problem however, and we'll have to use the tests outlined in the previous sections (posterior predictive checks, etc.).\n",
    "\n",
    "We can see that the confounder values recovered are highly correlated with the true confounder, suggesting that we $successfully$ recovered the confounder."
   ]
  },
  {
   "cell_type": "code",
   "execution_count": 18,
   "metadata": {},
   "outputs": [],
   "source": [
    "df['confounder_PCA_SKLEARN'] = principalComponents[:,0]\n",
    "\n",
    "df['confounder_PPCA'] = confounders[2]"
   ]
  },
  {
   "cell_type": "code",
   "execution_count": 19,
   "metadata": {},
   "outputs": [
    {
     "name": "stderr",
     "output_type": "stream",
     "text": [
      "*c* argument looks like a single numeric RGB or RGBA sequence, which should be avoided as value-mapping will have precedence in case its length matches with *x* & *y*.  Please use the *color* keyword-argument or provide a 2-D array with a single row if you intend to specify the same RGB or RGBA value for all points.\n"
     ]
    },
    {
     "data": {
      "text/plain": [
       "<AxesSubplot:xlabel='confounder_PCA_SKLEARN', ylabel='confounder'>"
      ]
     },
     "execution_count": 19,
     "metadata": {},
     "output_type": "execute_result"
    },
    {
     "data": {
      "image/png": "[encoded data removed]",
      "text/plain": [
       "<Figure size 432x288 with 1 Axes>"
      ]
     },
     "metadata": {},
     "output_type": "display_data"
    }
   ],
   "source": [
    "df.plot(kind='scatter', x = 'confounder_PCA_SKLEARN', y = 'confounder')"
   ]
  },
  {
   "cell_type": "code",
   "execution_count": 20,
   "metadata": {},
   "outputs": [
    {
     "name": "stderr",
     "output_type": "stream",
     "text": [
      "*c* argument looks like a single numeric RGB or RGBA sequence, which should be avoided as value-mapping will have precedence in case its length matches with *x* & *y*.  Please use the *color* keyword-argument or provide a 2-D array with a single row if you intend to specify the same RGB or RGBA value for all points.\n"
     ]
    },
    {
     "data": {
      "text/plain": [
       "<AxesSubplot:xlabel='confounder_PPCA', ylabel='confounder'>"
      ]
     },
     "execution_count": 20,
     "metadata": {},
     "output_type": "execute_result"
    },
    {
     "data": {
      "image/png": "[encoded data removed]",
      "text/plain": [
       "<Figure size 432x288 with 1 Axes>"
      ]
     },
     "metadata": {},
     "output_type": "display_data"
    }
   ],
   "source": [
    "df.plot(kind='scatter', x = 'confounder_PPCA', y = 'confounder')"
   ]
  },
  {
   "cell_type": "markdown",
   "metadata": {},
   "source": [
    "## Re-estimating regression with and without confounder\n",
    "\n",
    "Notice that the simulation was designed such that ommitting the confounder will flip the sign of the coefficient on $b$. When we add the confounder, estimated using any PCA variation, the coefficient on $b$ remains flipped.\n",
    "\n",
    "In addition, the bias on the coefficient estimates on our variables of interest $a, b, d, e, and f$ did not necessarily decrease in a significant way. This is surprising, since the confounder we recovered does actually correlate very well with the true confounder. The next section explores the sensitivity of those coefficients to random noise added to the true confounder."
   ]
  },
  {
   "cell_type": "code",
   "execution_count": 21,
   "metadata": {},
   "outputs": [
    {
     "data": {
      "text/html": [
       "<div>\n",
       "<style scoped>\n",
       "    .dataframe tbody tr th:only-of-type {\n",
       "        vertical-align: middle;\n",
       "    }\n",
       "\n",
       "    .dataframe tbody tr th {\n",
       "        vertical-align: top;\n",
       "    }\n",
       "\n",
       "    .dataframe thead th {\n",
       "        text-align: right;\n",
       "    }\n",
       "</style>\n",
       "<table border=\"1\" class=\"dataframe\">\n",
       "  <thead>\n",
       "    <tr style=\"text-align: right;\">\n",
       "      <th></th>\n",
       "      <th>estimated_params</th>\n",
       "      <th>std_errors</th>\n",
       "      <th>true_params</th>\n",
       "    </tr>\n",
       "  </thead>\n",
       "  <tbody>\n",
       "    <tr>\n",
       "      <th>Intercept</th>\n",
       "      <td>5.008365</td>\n",
       "      <td>0.017642</td>\n",
       "      <td>5</td>\n",
       "    </tr>\n",
       "    <tr>\n",
       "      <th>a</th>\n",
       "      <td>2.433163</td>\n",
       "      <td>0.024326</td>\n",
       "      <td>2</td>\n",
       "    </tr>\n",
       "    <tr>\n",
       "      <th>b</th>\n",
       "      <td>-1.472845</td>\n",
       "      <td>0.044415</td>\n",
       "      <td>2</td>\n",
       "    </tr>\n",
       "    <tr>\n",
       "      <th>c</th>\n",
       "      <td>-4.981724</td>\n",
       "      <td>0.017648</td>\n",
       "      <td>-5</td>\n",
       "    </tr>\n",
       "    <tr>\n",
       "      <th>d</th>\n",
       "      <td>5.186948</td>\n",
       "      <td>0.042186</td>\n",
       "      <td>3</td>\n",
       "    </tr>\n",
       "    <tr>\n",
       "      <th>e</th>\n",
       "      <td>2.895057</td>\n",
       "      <td>0.032019</td>\n",
       "      <td>2</td>\n",
       "    </tr>\n",
       "    <tr>\n",
       "      <th>f</th>\n",
       "      <td>-5.399752</td>\n",
       "      <td>0.024485</td>\n",
       "      <td>-5</td>\n",
       "    </tr>\n",
       "  </tbody>\n",
       "</table>\n",
       "</div>"
      ],
      "text/plain": [
       "           estimated_params  std_errors  true_params\n",
       "Intercept          5.008365    0.017642            5\n",
       "a                  2.433163    0.024326            2\n",
       "b                 -1.472845    0.044415            2\n",
       "c                 -4.981724    0.017648           -5\n",
       "d                  5.186948    0.042186            3\n",
       "e                  2.895057    0.032019            2\n",
       "f                 -5.399752    0.024485           -5"
      ]
     },
     "execution_count": 21,
     "metadata": {},
     "output_type": "execute_result"
    }
   ],
   "source": [
    "model_deconf = smf.ols(\"y ~ a+b+c+d+e+f \", data=df)\n",
    "results_deconf = model_deconf.fit()\n",
    "results_df_deconf = pd.DataFrame(results_deconf.params, columns = ['estimated_params'])\n",
    "results_df_deconf['std_errors'] = results_deconf.bse\n",
    "results_df_deconf['true_params'] = coeffs_true[:-1]\n",
    "results_df_deconf"
   ]
  },
  {
   "cell_type": "code",
   "execution_count": 22,
   "metadata": {},
   "outputs": [],
   "source": [
    "# model_deconf = smf.ols(\"y ~ a+b+c+d+e+f+confounder_PCA_CV \", data=df)\n",
    "# results_deconf = model_deconf.fit()\n",
    "# results_df_deconf = pd.DataFrame(results_deconf.params, columns = ['estimated_params'])\n",
    "# results_df_deconf['std_errors'] = results_deconf.bse\n",
    "# results_df_deconf['true_params'] = coeffs_true\n",
    "# results_df_deconf"
   ]
  },
  {
   "cell_type": "code",
   "execution_count": 23,
   "metadata": {},
   "outputs": [
    {
     "data": {
      "text/html": [
       "<div>\n",
       "<style scoped>\n",
       "    .dataframe tbody tr th:only-of-type {\n",
       "        vertical-align: middle;\n",
       "    }\n",
       "\n",
       "    .dataframe tbody tr th {\n",
       "        vertical-align: top;\n",
       "    }\n",
       "\n",
       "    .dataframe thead th {\n",
       "        text-align: right;\n",
       "    }\n",
       "</style>\n",
       "<table border=\"1\" class=\"dataframe\">\n",
       "  <thead>\n",
       "    <tr style=\"text-align: right;\">\n",
       "      <th></th>\n",
       "      <th>estimated_params</th>\n",
       "      <th>std_errors</th>\n",
       "      <th>true_params</th>\n",
       "    </tr>\n",
       "  </thead>\n",
       "  <tbody>\n",
       "    <tr>\n",
       "      <th>Intercept</th>\n",
       "      <td>5.008365</td>\n",
       "      <td>0.017642</td>\n",
       "      <td>5</td>\n",
       "    </tr>\n",
       "    <tr>\n",
       "      <th>a</th>\n",
       "      <td>0.871512</td>\n",
       "      <td>0.024119</td>\n",
       "      <td>2</td>\n",
       "    </tr>\n",
       "    <tr>\n",
       "      <th>b</th>\n",
       "      <td>0.405639</td>\n",
       "      <td>0.044251</td>\n",
       "      <td>2</td>\n",
       "    </tr>\n",
       "    <tr>\n",
       "      <th>c</th>\n",
       "      <td>-4.936054</td>\n",
       "      <td>0.017648</td>\n",
       "      <td>-5</td>\n",
       "    </tr>\n",
       "    <tr>\n",
       "      <th>d</th>\n",
       "      <td>3.324756</td>\n",
       "      <td>0.042016</td>\n",
       "      <td>3</td>\n",
       "    </tr>\n",
       "    <tr>\n",
       "      <th>e</th>\n",
       "      <td>1.128560</td>\n",
       "      <td>0.031818</td>\n",
       "      <td>2</td>\n",
       "    </tr>\n",
       "    <tr>\n",
       "      <th>f</th>\n",
       "      <td>-3.830469</td>\n",
       "      <td>0.024278</td>\n",
       "      <td>-5</td>\n",
       "    </tr>\n",
       "    <tr>\n",
       "      <th>confounder_PCA_SKLEARN</th>\n",
       "      <td>3.875624</td>\n",
       "      <td>0.004537</td>\n",
       "      <td>7</td>\n",
       "    </tr>\n",
       "  </tbody>\n",
       "</table>\n",
       "</div>"
      ],
      "text/plain": [
       "                        estimated_params  std_errors  true_params\n",
       "Intercept                       5.008365    0.017642            5\n",
       "a                               0.871512    0.024119            2\n",
       "b                               0.405639    0.044251            2\n",
       "c                              -4.936054    0.017648           -5\n",
       "d                               3.324756    0.042016            3\n",
       "e                               1.128560    0.031818            2\n",
       "f                              -3.830469    0.024278           -5\n",
       "confounder_PCA_SKLEARN          3.875624    0.004537            7"
      ]
     },
     "execution_count": 23,
     "metadata": {},
     "output_type": "execute_result"
    }
   ],
   "source": [
    "model_deconf = smf.ols(\"y ~ a+b+c+d+e+f+confounder_PCA_SKLEARN \", data=df)\n",
    "results_deconf = model_deconf.fit()\n",
    "results_df_deconf = pd.DataFrame(results_deconf.params, columns = ['estimated_params'])\n",
    "results_df_deconf['std_errors'] = results_deconf.bse\n",
    "results_df_deconf['true_params'] = coeffs_true\n",
    "results_df_deconf"
   ]
  },
  {
   "cell_type": "code",
   "execution_count": 24,
   "metadata": {},
   "outputs": [
    {
     "data": {
      "text/html": [
       "<div>\n",
       "<style scoped>\n",
       "    .dataframe tbody tr th:only-of-type {\n",
       "        vertical-align: middle;\n",
       "    }\n",
       "\n",
       "    .dataframe tbody tr th {\n",
       "        vertical-align: top;\n",
       "    }\n",
       "\n",
       "    .dataframe thead th {\n",
       "        text-align: right;\n",
       "    }\n",
       "</style>\n",
       "<table border=\"1\" class=\"dataframe\">\n",
       "  <thead>\n",
       "    <tr style=\"text-align: right;\">\n",
       "      <th></th>\n",
       "      <th>estimated_params</th>\n",
       "      <th>std_errors</th>\n",
       "      <th>true_params</th>\n",
       "    </tr>\n",
       "  </thead>\n",
       "  <tbody>\n",
       "    <tr>\n",
       "      <th>Intercept</th>\n",
       "      <td>5.008591</td>\n",
       "      <td>0.017646</td>\n",
       "      <td>5</td>\n",
       "    </tr>\n",
       "    <tr>\n",
       "      <th>a</th>\n",
       "      <td>2.452384</td>\n",
       "      <td>0.035979</td>\n",
       "      <td>2</td>\n",
       "    </tr>\n",
       "    <tr>\n",
       "      <th>b</th>\n",
       "      <td>-1.494968</td>\n",
       "      <td>0.053886</td>\n",
       "      <td>2</td>\n",
       "    </tr>\n",
       "    <tr>\n",
       "      <th>c</th>\n",
       "      <td>-4.982420</td>\n",
       "      <td>0.017674</td>\n",
       "      <td>-5</td>\n",
       "    </tr>\n",
       "    <tr>\n",
       "      <th>d</th>\n",
       "      <td>5.208668</td>\n",
       "      <td>0.051740</td>\n",
       "      <td>3</td>\n",
       "    </tr>\n",
       "    <tr>\n",
       "      <th>e</th>\n",
       "      <td>2.916425</td>\n",
       "      <td>0.043517</td>\n",
       "      <td>2</td>\n",
       "    </tr>\n",
       "    <tr>\n",
       "      <th>f</th>\n",
       "      <td>-5.418621</td>\n",
       "      <td>0.035732</td>\n",
       "      <td>-5</td>\n",
       "    </tr>\n",
       "    <tr>\n",
       "      <th>confounder_PPCA</th>\n",
       "      <td>-0.090622</td>\n",
       "      <td>0.124981</td>\n",
       "      <td>7</td>\n",
       "    </tr>\n",
       "  </tbody>\n",
       "</table>\n",
       "</div>"
      ],
      "text/plain": [
       "                 estimated_params  std_errors  true_params\n",
       "Intercept                5.008591    0.017646            5\n",
       "a                        2.452384    0.035979            2\n",
       "b                       -1.494968    0.053886            2\n",
       "c                       -4.982420    0.017674           -5\n",
       "d                        5.208668    0.051740            3\n",
       "e                        2.916425    0.043517            2\n",
       "f                       -5.418621    0.035732           -5\n",
       "confounder_PPCA         -0.090622    0.124981            7"
      ]
     },
     "execution_count": 24,
     "metadata": {},
     "output_type": "execute_result"
    }
   ],
   "source": [
    "model_deconf = smf.ols(\"y ~ a+b+c+d+e+f+confounder_PPCA \", data=df)\n",
    "results_deconf = model_deconf.fit()\n",
    "results_df_deconf = pd.DataFrame(results_deconf.params, columns = ['estimated_params'])\n",
    "results_df_deconf['std_errors'] = results_deconf.bse\n",
    "results_df_deconf['true_params'] = coeffs_true\n",
    "results_df_deconf"
   ]
  },
  {
   "cell_type": "markdown",
   "metadata": {},
   "source": [
    "## Adding random noise to the confounder and seeing how it affects the coefficients on the other variables\n",
    "\n",
    "Here, we simply create a new variable, which is the original confounder plus small random noise, and substitute the true confounder with the newly created confounder in the original regression to evaluate the sensitivity of the bias of our coefficients of interest to small random deviations from the true confounder.\n",
    "\n",
    "We find that even with very small values of the random noise (mean of 0 and standard deviation of 0.2), we still get biased estimates of our effects of interest, especially on $b$."
   ]
  },
  {
   "cell_type": "code",
   "execution_count": 25,
   "metadata": {
    "lines_to_end_of_cell_marker": 2
   },
   "outputs": [],
   "source": [
    "\"\"\"\n",
    "We add random noise from a normal distribution of mean zero. We control the spread of this distribution\n",
    "using the parameter 'coef', which represents the standard deviation of this normal distribution of the noise.\n",
    "\"\"\"\n",
    "\n",
    "coef=0.2\n",
    "\n",
    "df['confounder_2'] = df['confounder'] + coef*np.random.normal(loc=0,scale = 1, size = len(df))"
   ]
  },
  {
   "cell_type": "code",
   "execution_count": 26,
   "metadata": {},
   "outputs": [
    {
     "name": "stderr",
     "output_type": "stream",
     "text": [
      "*c* argument looks like a single numeric RGB or RGBA sequence, which should be avoided as value-mapping will have precedence in case its length matches with *x* & *y*.  Please use the *color* keyword-argument or provide a 2-D array with a single row if you intend to specify the same RGB or RGBA value for all points.\n"
     ]
    },
    {
     "data": {
      "text/plain": [
       "<AxesSubplot:xlabel='confounder_2', ylabel='confounder'>"
      ]
     },
     "execution_count": 26,
     "metadata": {},
     "output_type": "execute_result"
    },
    {
     "data": {
      "image/png": "[encoded data removed]",
      "text/plain": [
       "<Figure size 432x288 with 1 Axes>"
      ]
     },
     "metadata": {},
     "output_type": "display_data"
    }
   ],
   "source": [
    "df.plot(kind='scatter', x = 'confounder_2', y = 'confounder')"
   ]
  },
  {
   "cell_type": "code",
   "execution_count": 27,
   "metadata": {},
   "outputs": [
    {
     "data": {
      "text/html": [
       "<div>\n",
       "<style scoped>\n",
       "    .dataframe tbody tr th:only-of-type {\n",
       "        vertical-align: middle;\n",
       "    }\n",
       "\n",
       "    .dataframe tbody tr th {\n",
       "        vertical-align: top;\n",
       "    }\n",
       "\n",
       "    .dataframe thead th {\n",
       "        text-align: right;\n",
       "    }\n",
       "</style>\n",
       "<table border=\"1\" class=\"dataframe\">\n",
       "  <thead>\n",
       "    <tr style=\"text-align: right;\">\n",
       "      <th></th>\n",
       "      <th>estimated_params</th>\n",
       "      <th>std_errors</th>\n",
       "      <th>true_params</th>\n",
       "    </tr>\n",
       "  </thead>\n",
       "  <tbody>\n",
       "    <tr>\n",
       "      <th>Intercept</th>\n",
       "      <td>5.004982</td>\n",
       "      <td>0.014167</td>\n",
       "      <td>5</td>\n",
       "    </tr>\n",
       "    <tr>\n",
       "      <th>a</th>\n",
       "      <td>2.211935</td>\n",
       "      <td>0.019760</td>\n",
       "      <td>2</td>\n",
       "    </tr>\n",
       "    <tr>\n",
       "      <th>b</th>\n",
       "      <td>0.319368</td>\n",
       "      <td>0.043072</td>\n",
       "      <td>2</td>\n",
       "    </tr>\n",
       "    <tr>\n",
       "      <th>c</th>\n",
       "      <td>-4.989783</td>\n",
       "      <td>0.014171</td>\n",
       "      <td>-5</td>\n",
       "    </tr>\n",
       "    <tr>\n",
       "      <th>d</th>\n",
       "      <td>4.033975</td>\n",
       "      <td>0.037268</td>\n",
       "      <td>3</td>\n",
       "    </tr>\n",
       "    <tr>\n",
       "      <th>e</th>\n",
       "      <td>2.407152</td>\n",
       "      <td>0.026538</td>\n",
       "      <td>2</td>\n",
       "    </tr>\n",
       "    <tr>\n",
       "      <th>f</th>\n",
       "      <td>-5.181544</td>\n",
       "      <td>0.019880</td>\n",
       "      <td>-5</td>\n",
       "    </tr>\n",
       "    <tr>\n",
       "      <th>confounder_2</th>\n",
       "      <td>3.676141</td>\n",
       "      <td>0.049540</td>\n",
       "      <td>7</td>\n",
       "    </tr>\n",
       "  </tbody>\n",
       "</table>\n",
       "</div>"
      ],
      "text/plain": [
       "              estimated_params  std_errors  true_params\n",
       "Intercept             5.004982    0.014167            5\n",
       "a                     2.211935    0.019760            2\n",
       "b                     0.319368    0.043072            2\n",
       "c                    -4.989783    0.014171           -5\n",
       "d                     4.033975    0.037268            3\n",
       "e                     2.407152    0.026538            2\n",
       "f                    -5.181544    0.019880           -5\n",
       "confounder_2          3.676141    0.049540            7"
      ]
     },
     "execution_count": 27,
     "metadata": {},
     "output_type": "execute_result"
    }
   ],
   "source": [
    "model_deconf = smf.ols(\"y ~ a+b+c+d+e+f+confounder_2\", data=df)\n",
    "results_deconf = model_deconf.fit()\n",
    "results_df_deconf1 = pd.DataFrame(results_deconf.params, columns = ['estimated_params'])\n",
    "results_df_deconf1['std_errors'] = results_deconf.bse\n",
    "results_df_deconf1['true_params'] = coeffs_true\n",
    "results_df_deconf1"
   ]
  },
  {
   "cell_type": "code",
   "execution_count": 28,
   "metadata": {},
   "outputs": [
    {
     "data": {
      "text/plain": [
       "estimated_params    0.319368\n",
       "std_errors          0.043072\n",
       "true_params         2.000000\n",
       "Name: b, dtype: float64"
      ]
     },
     "execution_count": 28,
     "metadata": {},
     "output_type": "execute_result"
    }
   ],
   "source": [
    "results_df_deconf1.loc['b']"
   ]
  },
  {
   "cell_type": "code",
   "execution_count": 29,
   "metadata": {
    "lines_to_next_cell": 2
   },
   "outputs": [],
   "source": [
    "b_est = []\n",
    "b_std = []\n",
    "\n",
    "coef=np.arange(0,1,.05)\n",
    "for i in coef:\n",
    "    df['confounder_i'] = df['confounder'] + i*np.random.normal(loc=0,scale = 1, size = len(df))\n",
    "    model_deconf = smf.ols(\"y ~ a+b+c+d+e+f+confounder_i\", data=df)\n",
    "    results_deconf = model_deconf.fit()\n",
    "    results_df_deconf1 = pd.DataFrame(results_deconf.params, columns = ['estimated_params'])\n",
    "    results_df_deconf1['std_errors'] = results_deconf.bse\n",
    "    b_est.append(results_df_deconf1.loc['b'].iloc[0])\n",
    "    b_std.append(results_df_deconf1.loc['b'].iloc[1])"
   ]
  },
  {
   "cell_type": "code",
   "execution_count": 31,
   "metadata": {
    "lines_to_next_cell": 0
   },
   "outputs": [
    {
     "data": {
      "image/png": "[encoded data removed]",
      "text/plain": [
       "<Figure size 1152x648 with 1 Axes>"
      ]
     },
     "metadata": {},
     "output_type": "display_data"
    }
   ],
   "source": [
    "FONTSIZE = 13\n",
    "fig, ax = plt.subplots(figsize=(16,9))\n",
    "ax.plot(coef, b_est, color = 'green', marker = 'o')\n",
    "ax.axhline(2, label = 'True Parameter', ls='--')\n",
    "\n",
    "ax.set_ylabel('Estimated Parameter', size = FONTSIZE)\n",
    "ax.set_xlabel('Standard Deviation of Added Noise', size = FONTSIZE)\n",
    "# ax.set_title('Sensitivity of causal effect to random noise added to the confounder', size = 20)\n",
    "ax.tick_params(axis='x', labelsize=FONTSIZE)\n",
    "ax.tick_params(axis='y', labelsize=FONTSIZE)\n",
    "ax.legend(fontsize=FONTSIZE)\n",
    "sns.despine()\n",
    "\n",
    "fig.savefig(\n",
    "    pyprojroot.here(\"article/images/confounder-sensitivity.pdf\"),\n",
    "    dpi=500,\n",
    "    bbox_inches=\"tight\"\n",
    ")"
   ]
  }
 ],
 "metadata": {
  "jupytext": {
   "formats": "ipynb,py:light"
  },
  "kernelspec": {
   "display_name": "Python 3",
   "language": "python",
   "name": "python3"
  },
  "language_info": {
   "codemirror_mode": {
    "name": "ipython",
    "version": 3
   },
   "file_extension": ".py",
   "mimetype": "text/x-python",
   "name": "python",
   "nbconvert_exporter": "python",
   "pygments_lexer": "ipython3",
   "version": "3.7.9"
  }
 },
 "nbformat": 4,
 "nbformat_minor": 2
}
