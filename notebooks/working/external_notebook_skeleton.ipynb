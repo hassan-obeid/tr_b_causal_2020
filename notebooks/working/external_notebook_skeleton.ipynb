{
 "cells": [
  {
   "cell_type": "markdown",
   "metadata": {},
   "source": [
    "# Notebook summary\n",
    "\n",
    "A paragraph about what we're showing in this notebook, potentially with a table of content that links to each subsection of the notebook. People should be able to read this and understand the flow as well as the main take-away from this notebook."
   ]
  },
  {
   "cell_type": "code",
   "execution_count": null,
   "metadata": {},
   "outputs": [],
   "source": []
  },
  {
   "cell_type": "markdown",
   "metadata": {},
   "source": [
    "# Import packages"
   ]
  },
  {
   "cell_type": "code",
   "execution_count": null,
   "metadata": {},
   "outputs": [],
   "source": []
  },
  {
   "cell_type": "markdown",
   "metadata": {},
   "source": [
    "# Set work directory and load the dataset. "
   ]
  },
  {
   "cell_type": "code",
   "execution_count": null,
   "metadata": {},
   "outputs": [],
   "source": []
  },
  {
   "cell_type": "markdown",
   "metadata": {},
   "source": [
    "### Description of the dataset -- written or using some descriptive stats"
   ]
  },
  {
   "cell_type": "code",
   "execution_count": null,
   "metadata": {},
   "outputs": [],
   "source": []
  },
  {
   "cell_type": "markdown",
   "metadata": {},
   "source": [
    "### Details about the *outcome* model to be used"
   ]
  },
  {
   "cell_type": "code",
   "execution_count": null,
   "metadata": {},
   "outputs": [],
   "source": []
  },
  {
   "cell_type": "markdown",
   "metadata": {},
   "source": [
    "# Simulating the data\n",
    "Brief paragraph description of this section, e.g. outline that we'll simulate the Xs in two ways etc. "
   ]
  },
  {
   "cell_type": "code",
   "execution_count": null,
   "metadata": {},
   "outputs": [],
   "source": []
  },
  {
   "cell_type": "markdown",
   "metadata": {},
   "source": [
    "### Assumed Causal graph\n",
    "Here we draw the assumed true causal graph using causal graphical models, and simulate the Xs from it. I don't believe we need to show the details of fitting distributions to the data and simulating from them. Ideally, this should be done by a couple of functions calls to a refactored .py files that does all that, and we just explain this with text. \n",
    "\n",
    "We also simulation outcomes (Y) using the outcome model defined previously. "
   ]
  },
  {
   "cell_type": "code",
   "execution_count": null,
   "metadata": {},
   "outputs": [],
   "source": []
  },
  {
   "cell_type": "markdown",
   "metadata": {},
   "source": [
    "# Re-estimate the outcome model on simulated data"
   ]
  },
  {
   "cell_type": "code",
   "execution_count": null,
   "metadata": {},
   "outputs": [],
   "source": []
  },
  {
   "cell_type": "markdown",
   "metadata": {},
   "source": [
    "# Perturbation and Causal Effect estimation"
   ]
  },
  {
   "cell_type": "markdown",
   "metadata": {},
   "source": [
    "### Naive approach\n",
    "\n",
    "Steps:\n",
    "\n",
    "- We perturb travel distance here, and only change travel distance\n",
    "- Apply the predict function of our outcome model. \n",
    "- Store the change in the mode share of auto. "
   ]
  },
  {
   "cell_type": "markdown",
   "metadata": {},
   "source": [
    "### True approach\n",
    "Steps:\n",
    "- We perturb travel distance, and all variables/nodes that depend on it in the causal graph\n",
    "- Apply the predict function on the new set of covariates\n",
    "- Store the change in the mode share of auto"
   ]
  },
  {
   "cell_type": "markdown",
   "metadata": {},
   "source": [
    "### True effect\n",
    "Steps: \n",
    "- We perturb travel distance, and all variables/nodes that depend on it in the causal graph\n",
    "- Apply the predict function of *the original model used for simulation* on the new set of covariates\n",
    "- Store the change in the mode share of auto"
   ]
  },
  {
   "cell_type": "markdown",
   "metadata": {},
   "source": [
    "### Make conclusion\n",
    "Here we just compare the magnitude of the three causal effects obtained above, using some t-test or simply visually"
   ]
  },
  {
   "cell_type": "code",
   "execution_count": null,
   "metadata": {},
   "outputs": [],
   "source": []
  },
  {
   "cell_type": "markdown",
   "metadata": {},
   "source": [
    "# Re-run the approach above N times and plot visual comparisons\n",
    "The sections above make the point we're trying to make. Here I envision adding some text saying that we re-run the above process N times, and store the changes.\n",
    "\n",
    "I imagine having a cell with code that simply puts the code from the previous section in a loop and just repeats it N times. \n",
    "\n",
    "The second cell plots the distributions of each of the effects calculated using each of the three approaches. "
   ]
  },
  {
   "cell_type": "code",
   "execution_count": null,
   "metadata": {},
   "outputs": [],
   "source": []
  }
 ],
 "metadata": {
  "kernelspec": {
   "display_name": "Python 3",
   "language": "python",
   "name": "python3"
  },
  "language_info": {
   "codemirror_mode": {
    "name": "ipython",
    "version": 3
   },
   "file_extension": ".py",
   "mimetype": "text/x-python",
   "name": "python",
   "nbconvert_exporter": "python",
   "pygments_lexer": "ipython3",
   "version": "3.7.3"
  }
 },
 "nbformat": 4,
 "nbformat_minor": 2
}
