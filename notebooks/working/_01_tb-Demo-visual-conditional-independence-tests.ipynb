{
 "cells": [
  {
   "cell_type": "markdown",
   "metadata": {},
   "source": [
    "# Purpose\n",
    "The point of this notebook is to demonstrate how to perform at least one type of visual, conditional independence test.\n",
    "\n",
    "In particular, the notebook will show how to visually test the following implication<br>\n",
    "$\n",
    "\\begin{aligned}\n",
    "P \\left( X_1 \\mid X_2, Z \\right) &= P \\left( X_1 \\mid Z \\right) \\\\\n",
    "\\int x_1 P \\left( X_1 \\mid X_2, Z \\right) \\partial{x_1}  &= \\int x_1 P \\left( X_1 \\mid Z \\right) \\partial{x_1} \\\\\n",
    "E \\left[ X_1 \\mid X_2, Z \\right] &= E \\left[ X_1 \\mid Z \\right]\n",
    "\\end{aligned}\n",
    "$\n",
    "\n",
    "In other words, if $X_1$ is conditionally independent of $X_2$ given $Z$, then the expectation of $X_1$ conditional on $X_2$ and $Z$ is equal to the expectation of $X_1$ conditional on just $Z$. This implies that shuffling the $X_2$ columns should make no difference to predicting $X_1$ once we've included the $Z$ column while predicting. This implies that we can permute the $X_2$ column and that it shouldn't substantively matter for predicting $X_1$ given that we've included $Z$ as a predictor."
   ]
  },
  {
   "cell_type": "code",
   "execution_count": 1,
   "metadata": {},
   "outputs": [],
   "source": [
    "# Declare hyperparameters for testing\n",
    "MIN_SAMPLES_LEAF = 40\n",
    "NUM_PERMUTATIONS = 100\n",
    "\n",
    "# Declare the columns to be used for testing\n",
    "x1_col = 'total_travel_time'\n",
    "x2_col = 'total_travel_cost'\n",
    "z_col = 'total_travel_distance'\n",
    "mode_id_col = 'mode_id'\n",
    "\n",
    "# Set the colors for plotting\n",
    "orig_color = '#045a8d'\n",
    "permuted_color = '#a6bddb'\n",
    "\n",
    "# Declare paths to data\n",
    "DATA_PATH =\\\n",
    "    '../../data/raw/spring_2016_all_bay_area_long_format_plus_cross_bay_col.csv'"
   ]
  },
  {
   "cell_type": "code",
   "execution_count": 2,
   "metadata": {},
   "outputs": [],
   "source": [
    "import sys\n",
    "from pdb import set_trace as bp\n",
    "\n",
    "import numpy as np\n",
    "import pandas as pd\n",
    "from scipy.stats import multinomial\n",
    "\n",
    "import seaborn as sbn\n",
    "import matplotlib.pyplot as plt\n",
    "%matplotlib inline\n",
    "\n",
    "from tqdm.notebook import tqdm\n",
    "\n",
    "from sklearn.ensemble import ExtraTreesRegressor, RandomForestRegressor\n",
    "from sklearn.linear_model import LinearRegression\n",
    "from sklearn.metrics import r2_score\n",
    "\n",
    "# sys.path.insert(0, '../../src/')\n",
    "# import viz"
   ]
  },
  {
   "cell_type": "code",
   "execution_count": 3,
   "metadata": {},
   "outputs": [],
   "source": [
    "# Load the raw data\n",
    "df = pd.read_csv(DATA_PATH)"
   ]
  },
  {
   "cell_type": "code",
   "execution_count": null,
   "metadata": {},
   "outputs": [],
   "source": [
    "def _make_regressor(x_2d, y, seed=None):\n",
    "    # regressor_kwargs =\\\t    regressor = LinearRegression()\n",
    "    #     {'min_samples_leaf': MIN_SAMPLES_LEAF,\n",
    "    #      'max_samples': 0.8}\n",
    "    # if seed is not None:\n",
    "    #     regressor_kwargs['random_state'] = seed + 10\n",
    "    # regressor =\\\n",
    "    #     RandomForestRegressor(**regressor_kwargs)\n",
    "    regressor = LinearRegression()\n",
    "    regressor.fit(x_2d, y)\n",
    "    return regressor\n",
    "\n",
    "\n",
    "def computed_vs_obs_r2(df,\n",
    "                       x1_col,\n",
    "                       x2_col,\n",
    "                       z_col,\n",
    "                       mode_id_col,\n",
    "                       seed,\n",
    "                       progress=True):\n",
    "    # Get the values to be used for testing\n",
    "    filter_array = (df[mode_id_col] == 1).values\n",
    "    obs_x1 = df[x1_col].values[filter_array]\n",
    "    obs_x2 = df[x2_col].values[filter_array]\n",
    "    obs_z = df[z_col].values[filter_array]\n",
    "\n",
    "    # Combine the various predictors\n",
    "    combined_obs_predictors =\\\n",
    "        np.concatenate((obs_x2[:, None], obs_z[:, None]), axis=1)\n",
    "\n",
    "    # Determine the number of rows being plotted\n",
    "    num_rows = obs_x1.shape[0]\n",
    "\n",
    "    # Create a regressor to be used to compute the conditional expectations\n",
    "    regressor = _make_regressor(combined_obs_predictors, obs_x1, seed)\n",
    "\n",
    "    # Get the observed expectations\n",
    "    obs_expectation = regressor.predict(combined_obs_predictors)\n",
    "    obs_r2 = r2_score(obs_x1, obs_expectation)\n",
    "\n",
    "    # Initialize arrays to store the permuted expectations and r2's\n",
    "    permuted_expectations = np.empty((num_rows, NUM_PERMUTATIONS))\n",
    "    permuted_r2 = np.empty(NUM_PERMUTATIONS, dtype=float)\n",
    "\n",
    "    # Get the permuted expectations\n",
    "    shuffled_index_array = np.arange(num_rows)\n",
    "\n",
    "    iterable = range(NUM_PERMUTATIONS)\n",
    "    if progress:\n",
    "        iterable = tqdm(iterable)\n",
    "\n",
    "    for i in iterable:\n",
    "        # Shuffle the index array\n",
    "        np.random.shuffle(shuffled_index_array)\n",
    "        # Get the new set of permuted X_2 values\n",
    "        current_x2 = obs_x2[shuffled_index_array]\n",
    "        # Get the current combined predictors\n",
    "        current_predictors =\\\n",
    "            np.concatenate((current_x2[:, None], obs_z[:, None]), axis=1)\n",
    "        # Fit a new model and store the current expectation\n",
    "        current_regressor =\\\n",
    "            _make_regressor(current_predictors, obs_x1, seed)\n",
    "        permuted_expectations[:, i] =\\\n",
    "            current_regressor.predict(current_predictors)\n",
    "        permuted_r2[i] = r2_score(obs_x1, permuted_expectations[:, i])\n",
    "    return obs_r2, permuted_r2\n",
    "\n",
    "\n",
    "def visualize_permutation_results(obs_r2,\n",
    "                                  permuted_r2,\n",
    "                                  verbose=True,\n",
    "                                  show=True,\n",
    "                                  close=False):\n",
    "    fig, ax = plt.subplots(figsize=(10, 6))\n",
    "    p_value = (obs_r2 < permuted_r2).mean()\n",
    "\n",
    "    if verbose:\n",
    "        msg =\\\n",
    "            'The p-value of the permutation C.I.T. is {:.2f}.'\n",
    "        print(msg.format(p_value))\n",
    "\n",
    "    sbn.kdeplot(\n",
    "        permuted_r2, ax=ax, color=permuted_color, label='Simulated')\n",
    "    ax.vlines(obs_r2,\n",
    "              ax.get_ylim()[0],\n",
    "              ax.get_ylim()[1],\n",
    "              linestyle='dashed',\n",
    "              color='black',\n",
    "              label='Observed\\np-val: {:0.3f}'.format(p_value,\n",
    "                                                      precision=1))\n",
    "\n",
    "    ax.set_xlabel(r'$r^2$', fontsize=13)\n",
    "    ax.set_ylabel(\n",
    "        'Density', fontdict={'fontsize':13, 'rotation':0}, labelpad=40)\n",
    "    ax.legend(loc='best')\n",
    "    sbn.despine()\n",
    "    if show:\n",
    "        fig.show()\n",
    "    if close:\n",
    "        plt.close(fig=fig)\n",
    "    return p_value\n",
    "\n",
    "\n",
    "def visual_permutation_test(df,\n",
    "                            x1_col,\n",
    "                            x2_col,\n",
    "                            z_col,\n",
    "                            mode_id_col,\n",
    "                            seed=1038,\n",
    "                            progress=True,\n",
    "                            verbose=True,\n",
    "                            show=True,\n",
    "                            close=False):\n",
    "    # Set a random seed for reproducibility\n",
    "    if seed is not None:\n",
    "        np.random.seed(seed)\n",
    "\n",
    "    # Compute the observed r2 and the permuted r2's\n",
    "    obs_r2, permuted_r2 =\\\n",
    "        computed_vs_obs_r2(\n",
    "            df, x1_col, x2_col, z_col,\n",
    "            mode_id_col, seed, progress=progress)\n",
    "\n",
    "    # Visualize the results of the permutation test\n",
    "    p_value =\\\n",
    "        visualize_permutation_results(\n",
    "            obs_r2, permuted_r2, verbose=verbose, show=show, close=close)\n",
    "    return p_value\n",
    "\n",
    "\n"
   ]
  },
  {
   "cell_type": "code",
   "execution_count": 5,
   "metadata": {},
   "outputs": [
    {
     "name": "stdout",
     "output_type": "stream",
     "text": [
      "total_travel_time vs total_travel_cost, \n",
      "conditional on total_travel_distance\n"
     ]
    },
    {
     "data": {
      "application/vnd.jupyter.widget-view+json": {
       "model_id": "0fa07a5b886e44daacbe56a0a9e8f0d0",
       "version_major": 2,
       "version_minor": 0
      },
      "text/plain": [
       "HBox(children=(FloatProgress(value=0.0), HTML(value='')))"
      ]
     },
     "metadata": {},
     "output_type": "display_data"
    },
    {
     "name": "stdout",
     "output_type": "stream",
     "text": [
      "\n",
      "The p-value of the permutation C.I.T. is 0.00.\n"
     ]
    },
    {
     "name": "stderr",
     "output_type": "stream",
     "text": [
      "<ipython-input-4-74788f21e1d6>:99: UserWarning: Matplotlib is currently using module://ipykernel.pylab.backend_inline, which is a non-GUI backend, so cannot show the figure.\n",
      "  fig.show()\n"
     ]
    },
    {
     "data": {
      "text/plain": [
       "0.0"
      ]
     },
     "execution_count": 5,
     "metadata": {},
     "output_type": "execute_result"
    },
    {
     "data": {
      "image/png": "[encoded data removed]",
      "text/plain": [
       "<Figure size 720x432 with 1 Axes>"
      ]
     },
     "metadata": {
      "needs_background": "light"
     },
     "output_type": "display_data"
    }
   ],
   "source": [
    "title_str = '{} vs {}, \\nconditional on {}'\n",
    "print(title_str.format(x1_col, x2_col, z_col))\n",
    "visual_permutation_test(df, x1_col, x2_col, z_col, mode_id_col)"
   ]
  },
  {
   "cell_type": "code",
   "execution_count": 6,
   "metadata": {},
   "outputs": [
    {
     "name": "stdout",
     "output_type": "stream",
     "text": [
      "total_travel_cost vs cross_bay, \n",
      "conditional on total_travel_distance\n"
     ]
    },
    {
     "data": {
      "application/vnd.jupyter.widget-view+json": {
       "model_id": "8f8d617bc1d143a8b44da6ac8b36adee",
       "version_major": 2,
       "version_minor": 0
      },
      "text/plain": [
       "HBox(children=(FloatProgress(value=0.0), HTML(value='')))"
      ]
     },
     "metadata": {},
     "output_type": "display_data"
    },
    {
     "name": "stdout",
     "output_type": "stream",
     "text": [
      "\n",
      "The p-value of the permutation C.I.T. is 0.00.\n"
     ]
    },
    {
     "name": "stderr",
     "output_type": "stream",
     "text": [
      "<ipython-input-4-74788f21e1d6>:99: UserWarning: Matplotlib is currently using module://ipykernel.pylab.backend_inline, which is a non-GUI backend, so cannot show the figure.\n",
      "  fig.show()\n"
     ]
    },
    {
     "data": {
      "text/plain": [
       "0.0"
      ]
     },
     "execution_count": 6,
     "metadata": {},
     "output_type": "execute_result"
    },
    {
     "data": {
      "image/png": "[encoded data removed]",
      "text/plain": [
       "<Figure size 720x432 with 1 Axes>"
      ]
     },
     "metadata": {
      "needs_background": "light"
     },
     "output_type": "display_data"
    }
   ],
   "source": [
    "new_x1_col = 'total_travel_cost'\n",
    "new_x2_col = 'cross_bay'\n",
    "\n",
    "title_str = '{} vs {}, \\nconditional on {}'\n",
    "print(title_str.format(new_x1_col, new_x2_col, z_col))\n",
    "\n",
    "visual_permutation_test(df, new_x1_col, new_x2_col, z_col, mode_id_col)"
   ]
  },
  {
   "cell_type": "markdown",
   "metadata": {},
   "source": [
    "## Test `visual_permutation_test`"
   ]
  },
  {
   "cell_type": "code",
   "execution_count": 7,
   "metadata": {},
   "outputs": [
    {
     "data": {
      "application/vnd.jupyter.widget-view+json": {
       "model_id": "495c0e15ed52422390b0b346b0fdfcb5",
       "version_major": 2,
       "version_minor": 0
      },
      "text/plain": [
       "HBox(children=(FloatProgress(value=0.0, max=200.0), HTML(value='')))"
      ]
     },
     "metadata": {},
     "output_type": "display_data"
    },
    {
     "name": "stdout",
     "output_type": "stream",
     "text": [
      "\n"
     ]
    },
    {
     "data": {
      "image/png": "[encoded data removed]",
      "text/plain": [
       "<Figure size 720x432 with 1 Axes>"
      ]
     },
     "metadata": {
      "needs_background": "light"
     },
     "output_type": "display_data"
    }
   ],
   "source": [
    "# Figure out how many observations to simulate, based on real data\n",
    "num_drive_alone_obs = (df.mode_id == 1).sum()\n",
    "# Determine how many simulations to carry out\n",
    "NUM_TEST_SIM = 200\n",
    "\n",
    "# Initialize an array to store the simulated p-values\n",
    "test_p_vals = np.empty((NUM_TEST_SIM,), dtype=float)\n",
    "\n",
    "# Set a random seed for reproducibility\n",
    "np.random.seed(340)\n",
    "\n",
    "# Compute the p-values of the visual permutation test when the\n",
    "# null-hypothesis is true.\n",
    "for i in tqdm(range(NUM_TEST_SIM)):\n",
    "    # Simulate data that, by construction, satisfies x2 indep x1 given z\n",
    "    sim_z = np.random.normal(size=num_drive_alone_obs)\n",
    "    sim_x1 = sim_z + 0.5 * np.random.normal(size=num_drive_alone_obs)\n",
    "    sim_x2 = sim_z - 0.01 * np.random.uniform(size=num_drive_alone_obs)\n",
    "\n",
    "    # Determine which simulations to plot.\n",
    "    # Just plot 1 simulation for visual comparison with real data\n",
    "    current_close = True if i != 0 else False\n",
    "\n",
    "    # Package the simulated data together for the test\n",
    "    temp_df =\\\n",
    "        pd.DataFrame({'sim_z': sim_z,\n",
    "                      'sim_x1': sim_x1,\n",
    "                      'sim_x2': sim_x2,\n",
    "                      'mode_id': tuple(1 for x in sim_x2),\n",
    "                    })\n",
    "\n",
    "    # Carry out the permutation test\n",
    "    current_p =\\\n",
    "        visual_permutation_test(temp_df,\n",
    "                                'sim_x1',\n",
    "                                'sim_x2',\n",
    "                                'sim_z',\n",
    "                                mode_id_col,\n",
    "                                seed=None,\n",
    "                                progress=False,\n",
    "                                verbose=False,\n",
    "                                show=False,\n",
    "                                close=current_close)\n",
    "    # Store the resulting p-values\n",
    "    test_p_vals[i] = current_p"
   ]
  },
  {
   "cell_type": "code",
   "execution_count": null,
   "metadata": {},
   "outputs": [],
   "source": [
    "# Create a distribution of p-values that is for sure are uniformly distributed\n",
    "null_histogram_dist = multinomial(NUM_TEST_SIM, [0.1 for x in range(10)])\n",
    "\n",
    "null_hist_samples = null_histogram_dist.rvs(100)\n",
    "null_hist_mean = null_histogram_dist.mean()\n",
    "null_hist_upper_bound = np.percentile(null_hist_samples, 95, axis=0)\n",
    "null_hist_lower_bound = np.percentile(null_hist_samples, 5, axis=0)\n",
    "\n",
    "# Plot the distribution of our test p-values versus the p-values from\n",
    "# a uniform distriburtion\n",
    "fig, ax = plt.subplots(figsize=(10, 6))\n",
    "\n",
    "plot_categories = [0.05 + 0.1 * x for x in range(10)]\n",
    "ax.fill_between(plot_categories,\n",
    "                null_hist_upper_bound,\n",
    "                null_hist_lower_bound,\n",
    "                color=permuted_color,\n",
    "                label='Null 95% Distribution',\n",
    "                alpha=0.5,\n",
    "                zorder=2)\n",
    "\n",
    "ax.hlines(null_hist_mean, 0, 1, label='Null Mean')\n",
    "\n",
    "ax.hist(test_p_vals, bins=10, label='Observed', zorder=0)\n",
    "\n",
    "ax.scatter(\n",
    "    plot_categories,\n",
    "    null_hist_upper_bound,\n",
    "    label='Null 95% Upper Bound',\n",
    "    color=permuted_color,\n",
    "    marker='+',\n",
    "    zorder=1)\n",
    "\n",
    "ax.scatter(\n",
    "    plot_categories,\n",
    "    null_hist_lower_bound,\n",
    "    label='Null 5% Lower Bound',\n",
    "    color=permuted_color,\n",
    "    marker='*',\n",
    "    zorder=1)\n",
    "\n",
    "ax.legend(loc=(1.05, 0.75))\n",
    "ax.set_xlabel('p-values', fontsize=13)\n",
    "ax.set_ylabel('Num Observations', rotation=0, labelpad=70, fontsize=13)\n",
    "\n",
    "sbn.despine()"
   ]
  },
  {
   "cell_type": "code",
   "execution_count": 9,
   "metadata": {},
   "outputs": [
    {
     "data": {
      "text/plain": [
       "<matplotlib.axes._subplots.AxesSubplot at 0x11d3726a0>"
      ]
     },
     "execution_count": 9,
     "metadata": {},
     "output_type": "execute_result"
    },
    {
     "data": {
      "image/png": "[encoded data removed]",
      "text/plain": [
       "<Figure size 432x288 with 1 Axes>"
      ]
     },
     "metadata": {
      "needs_background": "light"
     },
     "output_type": "display_data"
    }
   ],
   "source": [
    "pd.Series(test_p_vals).plot(kind='kde')"
   ]
  },
  {
   "cell_type": "markdown",
   "metadata": {},
   "source": [
    "## Conclusions\n",
    "- From the last two plots, we can see that under the null hypothesis of $X_1$ independent of $X_2$ given $Z$, we get p-values that close to uniformly distributed.<br>\n",
    "This means the permutation p-values in `visual_permutation_test` are unlikely to be overly-optimistic.<br>\n",
    "In other words, we can feel safe(r) about relying on this test to distinguish conditional dependence from independence.\n",
    "- From the first two plots of this notebook, we can see from applying the `visual_permutation_test` that:\n",
    "  - travel time and travel cost are not conditionally independent given travel distance.\n",
    "  - travel cost and `cross_bay` are not conditionally independent given travel distance (as one might expect since one's travel cost is a function of whether or not one pays tolls to cross the Bay Bridge)."
   ]
  }
 ],
 "metadata": {
  "jupytext": {
   "formats": "ipynb,py"
  },
  "kernelspec": {
   "display_name": "Python 3",
   "language": "python",
   "name": "python3"
  },
  "language_info": {
   "codemirror_mode": {
    "name": "ipython",
    "version": 3
   },
   "file_extension": ".py",
   "mimetype": "text/x-python",
   "name": "python",
   "nbconvert_exporter": "python",
   "pygments_lexer": "ipython3",
   "version": "3.8.1"
  }
 },
 "nbformat": 4,
 "nbformat_minor": 4
}
