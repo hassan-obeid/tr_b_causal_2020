{
 "cells": [
  {
   "cell_type": "markdown",
   "metadata": {},
   "source": [
    "# Importing packages "
   ]
  },
  {
   "cell_type": "code",
   "execution_count": 3,
   "metadata": {},
   "outputs": [],
   "source": [
    "import sys\n",
    "sys.path.append('../../src/')"
   ]
  },
  {
   "cell_type": "code",
   "execution_count": 4,
   "metadata": {},
   "outputs": [],
   "source": [
    "import numpy as np\n",
    "import pandas as pd\n",
    "import matplotlib.pyplot as plt\n",
    "from functools import reduce\n",
    "import seaborn as sns\n",
    "import statsmodels.api as sm\n",
    "import copy\n",
    "from scipy import sparse\n",
    "import scipy.stats\n",
    "import random\n",
    "from fitter import Fitter\n",
    "import attr\n",
    "from causalgraphicalmodels import CausalGraphicalModel, StructuralCausalModel\n",
    "from collections import defaultdict, OrderedDict\n",
    "import pylogit as pl\n",
    "import viz"
   ]
  },
  {
   "cell_type": "markdown",
   "metadata": {},
   "source": [
    "# 0. Functions for Documentation Purposes "
   ]
  },
  {
   "cell_type": "markdown",
   "metadata": {},
   "source": [
    "## 0.1. Distribution Fitting Class Definition - **Could be removed** - For Documentation Purposes"
   ]
  },
  {
   "cell_type": "code",
   "execution_count": 5,
   "metadata": {},
   "outputs": [],
   "source": [
    "# class FitDistribution(object):\n",
    "#     \"\"\"Fit and simulate data to known distributions.\n",
    "\n",
    "#     Input:\n",
    "#     ------\n",
    "#     - data: array-like or dataframe.\n",
    "#     - dists: list.\n",
    "#         This parameter contains a list of distributions to be explored.\n",
    "#         When None, every available distribution on scipy is explored.\n",
    "#     - bins: int.\n",
    "#         Numbers of bins to be used for the cumulative histogram. This has\n",
    "#         an impact on the quality of the fit.\n",
    "#     - timeout: int.\n",
    "#         Maximum time for a given distribution. If timeout is reached,\n",
    "#         the distribution is skipped.\n",
    "#         \"\"\"\n",
    "#     def __init__(self, data, dists=None, timeout=30, verbose=False, bins=100):\n",
    "#         self.data = data\n",
    "#         # self.var_types = var_types\n",
    "#         self.dists = dists\n",
    "#         self.timeout = timeout\n",
    "#         self.verbose = verbose\n",
    "#         self.bins = bins\n",
    "#         self.ArrayDistDict = defaultdict()\n",
    "#         self.params_dict = defaultdict(dict)\n",
    "\n",
    "#     def FindArrayDist(self, cat_var):\n",
    "#         \"\"\"Function to extract the best distribution for a specified array.\n",
    "#         Uses the fit method from the Fitter module in the fitter library\n",
    "#         Inputs:\n",
    "#         -------\n",
    "#         - cat_var: boolean\n",
    "#             Boolean to signify whether the variable to be simulated\n",
    "#             is discrete/categorical or continuous.\n",
    "\n",
    "#         Outputs:\n",
    "#         -------\n",
    "#         By default, the function returns a dictionary with best distribution\n",
    "#         name and parameters associated with it. If a number of distributions\n",
    "#         was specified, the function returns a pandas DataFrame with\n",
    "#         the N best distributions, along with a plot showing all of them.\"\"\"\n",
    "#         self.ArrayDistDict = dict()\n",
    "#         if cat_var is True:\n",
    "#             self.ArrayDistDict['distribution'] = 'categorical'\n",
    "#             np_array_range = np.arange(self.data.max()+1)\n",
    "#             array_bincount = np.bincount(self.data)\n",
    "#             probs = array_bincount / len(self.data)\n",
    "\n",
    "#             self.ArrayDistDict['parameters'] = [np_array_range,\n",
    "#                                                 probs]\n",
    "#         else:\n",
    "#             fitter_object = Fitter(data=self.data,\n",
    "#                                    distributions=self.dists,\n",
    "#                                    timeout=self.timeout)\n",
    "#             fitter_object.fit()\n",
    "#             BestDict = fitter_object.get_best()\n",
    "#             self.ArrayDistDict['distribution'] = list(BestDict.items())[0][0]\n",
    "#             self.ArrayDistDict['parameters'] = list(BestDict.items())[0][1]\n",
    "#         return self.ArrayDistDict\n",
    "\n",
    "#     def SimArray(self, size=100):\n",
    "#         \"\"\"Function to simulate data for an array based on the best fitted\n",
    "#         distribution.\n",
    "#         Input:\n",
    "#         -----\n",
    "#         - size : int\n",
    "#                 size of the array to be simulated.\n",
    "#         Outputs:\n",
    "#         -------\n",
    "#         Simulated array based on the best fit distribution.\"\"\"\n",
    "#         if self.ArrayDistDict['distribution'] == 'categorical':\n",
    "#             value = self.ArrayDistDict['parameters'][0]\n",
    "#             freq = self.ArrayDistDict['parameters'][1]\n",
    "#             Sim_Array = np.random.choice(a=value,\n",
    "#                                          p=freq,\n",
    "#                                          size=size)\n",
    "#         else:\n",
    "#             dist = getattr(scipy.stats, self.ArrayDistDict['distribution'])\n",
    "#             Sim_Array = dist.rvs(*self.ArrayDistDict['parameters'], size=size)\n",
    "#         return Sim_Array\n",
    "\n",
    "#     def FindDfDist(self, var_types):\n",
    "#         \"\"\"Function to extract the best distribution from a specified\n",
    "#         dataframe. Uses the function find_dist, which in turn uses the\n",
    "#         fit method from the Fitter module in the fitter library\n",
    "#         Inputs:\n",
    "#         -------\n",
    "#         - var_types: dictionary\n",
    "#             Dictionary with keys as column names for dataset variables,\n",
    "#             the value of each key is a string showing whether the\n",
    "#             variable is discrete/cat or continuous.\n",
    "\n",
    "#         Outputs:\n",
    "#         -------\n",
    "#         *FOR NOW*, the function returns a dictionary showing the best\n",
    "#         distribution name for each array in the dataframe and parameters\n",
    "#         associated with it.\n",
    "#         \"\"\"\n",
    "\n",
    "#         for column in list(self.data.columns):\n",
    "\n",
    "#             if var_types[column] == 'categorical':\n",
    "#                 if len(self.data[column].unique()) == 1:\n",
    "#                     self.params_dict[column]['distribution'] = 'constant'\n",
    "#                     self.params_dict[column]['parameters'] = \\\n",
    "#                         self.data[column].unique()\n",
    "#                 else:\n",
    "#                     self.params_dict[column]['distribution'] = 'categorical'\n",
    "#                     np_array_range = np.arange(self.data[column].max()+1)\n",
    "#                     array_bincount = np.bincount(self.data[column])\n",
    "#                     probs = array_bincount / len(self.data[column])\n",
    "#                     self.params_dict[column]['parameters'] = [np_array_range,\n",
    "#                                                               probs]\n",
    "#             else:\n",
    "#                 if len(self.data[column].unique()) == 1:\n",
    "#                     self.params_dict[column]['distribution'] = 'constant'\n",
    "#                     self.params_dict[column]['parameters'] = \\\n",
    "#                         self.data[column].unique()\n",
    "#                 else:\n",
    "#                     fitter_object = Fitter(data=self.data[column],\n",
    "#                                            distributions=self.dists,\n",
    "#                                            timeout=self.timeout)\n",
    "#                     fitter_object.fit()\n",
    "#                     BestDict = fitter_object.get_best()\n",
    "#                     self.params_dict[column]['distribution'] = \\\n",
    "#                         list(BestDict.items())[0][0]\n",
    "#                     self.params_dict[column]['parameters'] = \\\n",
    "#                         list(BestDict.items())[0][1]\n",
    "#         return self.params_dict\n",
    "\n",
    "#     def SimDf(self, size=1000):\n",
    "#         \"\"\"Funtion to simulate data of size N based on specified\n",
    "#         distribution/parameters found by the fitter package.\n",
    "#         Inputs:\n",
    "#         -------\n",
    "#         data: dataframe from which columns are to be taken\n",
    "#         dist_params: the distribution parameters from find_dist_df\n",
    "#         Outputs:\n",
    "#         -------\n",
    "#         DataFrame object with simulated data based on specified distributions\n",
    "#         \"\"\"\n",
    "#         Sim_Df = pd.DataFrame(columns=list(self.params_dict.keys()))\n",
    "#         Sim_Df = Sim_Df.fillna(0)\n",
    "#         for column in list(self.params_dict.keys()):\n",
    "#             if self.params_dict[column]['distribution'] == 'categorical':\n",
    "#                 value = self.params_dict[column]['parameters'][0]\n",
    "#                 freq = self.params_dict[column]['parameters'][1]\n",
    "#                 data_sim = np.random.choice(a=value,\n",
    "#                                             p=freq,\n",
    "#                                             size=size)\n",
    "#                 Sim_Df[column] = data_sim\n",
    "#             elif self.params_dict[column]['distribution'] == 'constant':\n",
    "#                 data_sim = self.params_dict[column]['parameters'][0]\n",
    "#                 Sim_Df[column] = data_sim\n",
    "#             else:\n",
    "#                 dist = getattr(scipy.stats,\n",
    "#                                self.params_dict[column]['distribution'])\n",
    "#                 data_sim = dist.rvs(*self.params_dict[column]['parameters'],\n",
    "#                                     size=size)\n",
    "#                 Sim_Df[column] = data_sim\n",
    "#         return Sim_Df"
   ]
  },
  {
   "cell_type": "markdown",
   "metadata": {},
   "source": [
    "## 0.2. Functions to calculate probabilities for each alternative - **(Replaced by functions from TB)** - For Documentation Purposes"
   ]
  },
  {
   "cell_type": "code",
   "execution_count": 6,
   "metadata": {},
   "outputs": [],
   "source": [
    "# def add_intercept_to_df(df_long, specification_dict):\n",
    "\n",
    "#     if (\"intercept\" in specification_dict\n",
    "#             and \"intercept\" not in df_long.columns):\n",
    "#         df_long[\"intercept\"] = 1\n",
    "#     return None\n",
    "\n",
    "\n",
    "# def create_design_matrix(df_long, specification_dict,\n",
    "#                          names_dict, alternative_id_col):\n",
    "\n",
    "#     add_intercept_to_df(df_long, specification_dict)\n",
    "\n",
    "#     columns = []\n",
    "#     for col in specification_dict:\n",
    "#         for group in specification_dict[col]:\n",
    "#             if type(group) == list:\n",
    "#                 columns.append(df_long[alternative_id_col].isin(group)\n",
    "#                                * df_long[col])\n",
    "#             else:\n",
    "#                 columns.append((df_long[alternative_id_col] == group)\n",
    "#                                * df_long[col])\n",
    "\n",
    "#     design_matrix = np.stack(columns, axis=1)\n",
    "\n",
    "#     var_names = []\n",
    "#     for variable in names_dict:\n",
    "#         for name in names_dict[variable]:\n",
    "#             var_names.append(name)\n",
    "\n",
    "#     return design_matrix, var_names\n",
    "\n",
    "\n",
    "# def calculate_utilities(betas, design_matrix):\n",
    "\n",
    "#     limit_max = 700\n",
    "#     limit_min = -700\n",
    "\n",
    "#     utility = design_matrix.dot(betas)\n",
    "#     utility[utility > limit_max] = limit_max\n",
    "#     utility[utility < limit_min] = limit_min\n",
    "\n",
    "#     utilities = np.exp(utility)\n",
    "\n",
    "#     return utilities\n",
    "\n",
    "\n",
    "# def create_mapping_matrix(df_long, observation_id_col):\n",
    "#     row_to_col_matrix = pd.get_dummies(df_long[observation_id_col]).values\n",
    "# #     row_to_col_matrix = (df_long[observation_id_col].values[:,None] ==\n",
    "# #                          np.sort(df_long[observation_id_col].unique())[None,:]).astype(int)\n",
    "#     sparse_row_to_col_matrix = sparse.csr_matrix(row_to_col_matrix)\n",
    "\n",
    "#     mapping_matrix = sparse_row_to_col_matrix.dot(sparse_row_to_col_matrix.T)\n",
    "\n",
    "#     return mapping_matrix\n",
    "\n",
    "\n",
    "# def calculate_probabilities(betas, design_matrix, mapping_matrix):\n",
    "\n",
    "#     utilities = calculate_utilities(betas, design_matrix)\n",
    "#     denominator = mapping_matrix.dot(utilities)\n",
    "#     probabilities = utilities/denominator\n",
    "#     probabilities[probabilities == 0] = 1e-300\n",
    "\n",
    "#     return probabilities"
   ]
  },
  {
   "cell_type": "markdown",
   "metadata": {},
   "source": [
    "## 0.3. Function to simulate choices based on long data format - For Documentation Purposes"
   ]
  },
  {
   "cell_type": "code",
   "execution_count": 7,
   "metadata": {},
   "outputs": [],
   "source": [
    "# def SimulateChoices(long_data, alt_id_col,\n",
    "#                     obs_id_col, number_alts,\n",
    "#                     spec_dic, names_dic, init_betas):\n",
    "#     \"\"\"\n",
    "#     Function to simulate choices from a long data\n",
    "#     format dataset.\n",
    "    \n",
    "#     Parameters\n",
    "#     ----------\n",
    "#     long_data : DataFrame\n",
    "#         The DataFrame to be used, in long format.\n",
    "#     alt_id_col: string\n",
    "#         Name of the column containing the alternative\n",
    "#         id numbers in the long format dataset.\n",
    "#     obs_id_col: string\n",
    "#         Name of the column containing the observation\n",
    "#         id numbers in the long format dataset.\n",
    "#     number_alts: int\n",
    "#         Number of alternatives in the long format\n",
    "#         dataset.\n",
    "#     spec_dic: dictionary\n",
    "#         Dictionary of the model specification.\n",
    "#     names_dic: dictionary\n",
    "#         Dictionary of the alternative names.\n",
    "#     init_betas: list\n",
    "#         List of the initial betas for the model\n",
    "#         from which the choices should be simulated.\n",
    "    \n",
    "#     Returns\n",
    "#     -------\n",
    "#     DataFrame object with the simulated choices column\n",
    "#     added as 'sim_choice'\n",
    "#     \"\"\"\n",
    "#     # Declare the simulated choice column name\n",
    "#     sim_choice_col = 'sim_choice'\n",
    "\n",
    "#     # Make a copy of the data\n",
    "#     data = copy.deepcopy(long_data)\n",
    "#     # Functions to generate the design matrix, mapping matrix,\n",
    "#     # and calculate the probabilities for each alternative\n",
    "#     design_matrix, names = create_design_matrix(df_long=data,\n",
    "#                                                 specification_dict=spec_dic,\n",
    "#                                                 names_dict=names_dic,\n",
    "#                                                 alternative_id_col=alt_id_col)\n",
    "#     mapping_matrix = create_mapping_matrix(df_long=data,\n",
    "#                                            observation_id_col=obs_id_col)\n",
    "#     probabilities = calculate_probabilities(betas=initial_betas,\n",
    "#                                             design_matrix=design_matrix,\n",
    "#                                             mapping_matrix=mapping_matrix)\n",
    "#     # Assign calculated probabilities to new dataframe column\n",
    "#     data['probabilities'] = probabilities\n",
    "#     # Initialize cumulative sum and simulated choice columns\n",
    "#     data['cum_sum'] = 0\n",
    "#     data['sim_choice'] = 0\n",
    "\n",
    "#     # Loop around the observations and compute probabilities' cumulative\n",
    "#     # sums for each alternative\n",
    "#     for observation in data['observation_id'].unique():\n",
    "#         probs_sum = data[long_data.observation_id == observation]['probabilities'].cumsum()\n",
    "#         data.loc[data['observation_id'] == observation, 'cum_sum'] = probs_sum\n",
    "\n",
    "#     # Generate list for observation ids to be used in simulating choices    \n",
    "#     observation_id_list = list(data.observation_id.unique())\n",
    "#     # Generate a \"random utility\" array of the same size as the number\n",
    "#     # of observations in the dataset\n",
    "#     u_random = np.random.uniform(size=len(data['observation_id'].unique()))\n",
    "\n",
    "#     # Loop around the generate utilities and observations in the dataset\n",
    "#     # to assign a choice to each\n",
    "#     for u, obs in zip(u_random, observation_id_list):\n",
    "#         # select data for observation number \"obs\"\n",
    "#         data_sample = data[data['observation_id'] == obs]\n",
    "#         # generate list of available modes for each observation\n",
    "#         sorted_list = sorted(list(data_sample['mode_id'].unique()))\n",
    "#         # initialize a dictionary from the available modes for \n",
    "#         # each observation\n",
    "#         choices = dict.fromkeys(sorted_list, 0)\n",
    "#         # Loop round the modes for each observation and assign \n",
    "#         # choice (0 vs. 1)\n",
    "#         for alt in sorted_list:\n",
    "#             choices[alt] = np.where(u <= data_sample[data_sample['mode_id']\n",
    "#                                                      == alt]\n",
    "#                                     ['cum_sum'], 1, 0).item()\n",
    "#             # Once a choice is assigned, break out of loop\n",
    "#             if choices[alt] == 1:\n",
    "#                 break\n",
    "#         # Map the choices for the observation to the long format dataframe       \n",
    "#         data.loc[data.observation_id == obs, sim_choice_col] = \\\n",
    "#             data['mode_id'].map(choices)\n",
    "#     return data"
   ]
  },
  {
   "cell_type": "code",
   "execution_count": 8,
   "metadata": {},
   "outputs": [],
   "source": [
    "# ## These functions are to be ignored, they are here for historical purposes\n",
    "\n",
    "# def CreateChoiceDF(*argv):\n",
    "#     \"\"\"\n",
    "#     Function that generates a dataframe object for all desired variables.\n",
    "#     Input:\n",
    "#     ------\n",
    "#     Series of tuples showing the variable and desired variable name\n",
    "#     in the output dataframe.\n",
    "#     Example, if the user desired to created a dataframe with 2 variables,\n",
    "#     the function should be called as follows:\n",
    "#     df = CreateChoiceDF((\"var1_name\", var1),(\"var2_name\", var2))  \n",
    "#     Output:\n",
    "#     -------\n",
    "#     DataFrame object\n",
    "#     \"\"\"\n",
    "#     data_dict = dict()\n",
    "#     for arg in argv:\n",
    "#         data_dict[arg[0]] = arg[1]\n",
    "#     sample_data = pd.DataFrame(data_dict)\n",
    "#     return sample_data\n",
    "\n",
    "# def SimulateChoices(data, alt_id_col, obs_id_col, number_alts, spec_dic, names_dic, init_betas):\n",
    "\n",
    "# # This commented out block is to extend the capabilities of the function from simulating choices\n",
    "# # only based on long data to wide data. The logic is built out completely, all we need is to \n",
    "# # refactor it and adjust the parameters in the function definition.\n",
    "# #     choice_var = 'choice'\n",
    "# #     custom_alt_id = \"alternative_id\"\n",
    "# #     obs_id_column = \"custom_id\"\n",
    "\n",
    "# #     # Adding a Choice Variable Column\n",
    "# #     data[choice_var] = np.random.randint(1, high=number_alts+1, size=data.shape[0])\n",
    "# #     availability_variables = dict()\n",
    "\n",
    "# #     # Adding availability variables and specifying alternative availability numbers\n",
    "# #     for alt in np.arange(1, number_alts+1, 1):\n",
    "# #         data['AV_' + str(alt)] = 1\n",
    "# #         availability_variables[alt] = 'AV_' + str(alt)\n",
    "\n",
    "# #     # Specifying the Individual Variables\n",
    "# #     ind_variables = ind_variables\n",
    "\n",
    "# #     alt_varying_variables = alt_var_vars\n",
    "# #     # Specifying the column heading for the alternative id column in the\n",
    "# #     # long format dataset\n",
    "# #     custom_alt_id = \"alternative_id\"\n",
    "# #     obs_id_column = \"custom_id\"\n",
    "# #     sample_data[obs_id_column] = np.arange(sample_data.shape[0],\n",
    "# #                                            dtype=int) + 1\n",
    "\n",
    "# #     # Create a variable recording the choice column\n",
    "\n",
    "# #     long_data = pl.convert_wide_to_long(wide_data=sample_data,\n",
    "# #                                         ind_vars=ind_variables,\n",
    "# #                                         alt_specific_vars=alt_varying_variables,\n",
    "# #                                         availability_vars=availability_variables,\n",
    "# #                                         obs_id_col=obs_id_column,\n",
    "# #                                         choice_col=choice_var,\n",
    "# #                                         new_alt_id_name=custom_alt_id)\n",
    "#     sim_choice_var = 'sim_choice'\n",
    "#     # Functions to generate the probabilities for each alternative\n",
    "\n",
    "#     long_data = data\n",
    "\n",
    "#     design_matrix, names = create_design_matrix(df_long=long_data,\n",
    "#                                                 specification_dict=mnl_specification,\n",
    "#                                                 names_dict=mnl_names,\n",
    "#                                                 alternative_id_col=alt_id_col)\n",
    "#     mapping_matrix = create_mapping_matrix(df_long=long_data,\n",
    "#                                            observation_id_col=obs_id_col)\n",
    "#     probabilities = calculate_probabilities(betas=initial_betas,\n",
    "#                                             design_matrix=design_matrix,\n",
    "#                                             mapping_matrix=mapping_matrix)\n",
    "\n",
    "#     data['probabilities'] = probabilities\n",
    "#     data['cum_sum'] = 0\n",
    "#     data['sim_choice'] = 0\n",
    "\n",
    "#     for observation in data['observation_id'].unique():\n",
    "#         probs_sum = data[data.observation_id==observation]['probabilities'].cumsum()\n",
    "#         data.loc[data['observation_id']==observation,'cum_sum'] = probs_sum\n",
    "\n",
    "#     observation_id_list = list(data.observation_id.unique())\n",
    "#     u_random = np.random.uniform(size = len(data['observation_id'].unique()))\n",
    "\n",
    "#     for u,obs in zip(u_random,observation_id_list):\n",
    "#         data_sample = data[data['observation_id']==obs]\n",
    "#         sorted_list = sorted(list(data_sample['mode_id'].unique()))\n",
    "#         choices = dict.fromkeys(sorted_list, 0)\n",
    "#         for alt in sorted_list:   \n",
    "#             choices[alt] = np.where(u<=data_sample[data_sample['mode_id']==alt]['cum_sum'], 1, 0).item()\n",
    "#             if choices[alt] == 1:\n",
    "#                 break\n",
    "#         data.loc[data.observation_id==obs,'sim_choice'] = data['mode_id'].map(choices)\n",
    "#     return data"
   ]
  },
  {
   "cell_type": "markdown",
   "metadata": {},
   "source": [
    "# 1. Define functions to be used in notebook"
   ]
  },
  {
   "cell_type": "code",
   "execution_count": 9,
   "metadata": {},
   "outputs": [],
   "source": [
    "def DistNodeNoParent(data_long,\n",
    "                     alt_id_col,\n",
    "                     obs_id_col,\n",
    "                     alt_spec_dic,\n",
    "                     alt_name_dic,\n",
    "                     ind_spec,\n",
    "                     trip_spec,\n",
    "                     var_types,\n",
    "                     cont_dists=None):\n",
    "    \"\"\"\n",
    "    Function to find the distribution of specific variables\n",
    "    from a long format dataset.\n",
    "    \n",
    "    Parameters\n",
    "    ----------\n",
    "    data_long: Pandas DataFrame\n",
    "        Dataset in long format from which variable\n",
    "        distribution is to be found.\n",
    "        \n",
    "    alt_id_col: string\n",
    "        Name of the column with alternative ids.\n",
    "        \n",
    "    obs_id_col: string\n",
    "        Name of the column with observation ids.\n",
    "        \n",
    "    alt_spec_dic: dictionary\n",
    "        Dictionary with keys as the ordered number\n",
    "        of alternatives, and the value for each key\n",
    "        is a list of strings representing the name of\n",
    "        variables without parents per alternative.\n",
    "        \n",
    "    alt_name_dic: dictionary\n",
    "        Dictionary with keys as the ordered number\n",
    "        of alternatives, and the value for each key\n",
    "        is a string representing the name of the \n",
    "        alternative.\n",
    "        \n",
    "    ind_spec: list\n",
    "        List containing strings of the names of \n",
    "        individual specific variables.\n",
    "        \n",
    "    trip_spec: list\n",
    "        List containing string of the names of \n",
    "        trip specific variables.\n",
    "        \n",
    "    var_types: dictionary\n",
    "        Dictionary with keys as strings of names of variables\n",
    "        from long format dataset, and values for each key are\n",
    "        the type of variables (e.g.: 'categorical vs. continuous').\n",
    "        \n",
    "    cont_dists: list\n",
    "        List of continuous RVs distribution names from scipy.\n",
    "        \n",
    "    Returns\n",
    "    -------\n",
    "    a nested dictionary with keys as variable names and values\n",
    "    as dictionaries containing both the distribution name and\n",
    "    its parameters.\n",
    "    \"\"\"\n",
    "    \n",
    "    params_dict = {}\n",
    "\n",
    "    # Code for Individual Specific Variables\n",
    "    for ind in ind_spec:\n",
    "        # generate array of values for individual specific variable\n",
    "        ind_var = pd.Series([(data_long.loc[data_long[obs_id_col] == x][ind].unique()[0]) for x in data_long[obs_id_col].unique()])  \n",
    "        # Get distribution if variable is categorical\n",
    "        if var_types[ind] in ['categorical', 'numerical']:\n",
    "            # If only one category\n",
    "            if len(ind_var.unique()) == 1:\n",
    "                params_dict.setdefault(ind,{})['distribution'] = 'constant'\n",
    "                params_dict.setdefault(ind,{})['parameters'] = ind_var.unique()\n",
    "            # If more than one category\n",
    "            else:\n",
    "                params_dict.setdefault(ind,{})['distribution'] = 'categorical'\n",
    "                # Count frequency of values and store it as paramater of distribution\n",
    "                np_array_range = np.arange(ind_var.max()+1)\n",
    "                array_bincount = np.bincount(ind_var)\n",
    "                probs = array_bincount / len(ind_var)\n",
    "                params_dict.setdefault(ind,{})['parameters'] = [np_array_range,\n",
    "                                                  probs]\n",
    "        else:\n",
    "            # If not categorical but just one unique value\n",
    "            if len(ind_var.unique()) == 1:\n",
    "                params_dict.setdefault(ind,{})['distribution'] = 'constant'\n",
    "                params_dict.setdefault(ind,{})['parameters'] = ind_var.unique()\n",
    "            # If not categorical but not one unique value\n",
    "            else:\n",
    "                # Use the Fitter library to fit distributions\n",
    "                # to the data\n",
    "                fitter_object = Fitter(data=ind_var,\n",
    "                                       distributions=cont_dists,\n",
    "                                       timeout=30)\n",
    "                fitter_object.fit()\n",
    "                # Get the best distribution and store in dictionary\n",
    "                BestDict = fitter_object.get_best()\n",
    "                params_dict.setdefault(ind,{})['distribution'] = list(BestDict.items())[0][0]\n",
    "                params_dict.setdefault(ind,{})['parameters'] = list(BestDict.items())[0][1]\n",
    "\n",
    "    # Code for Alternative Specific Variables\n",
    "    # Loop around the different available alternatives\n",
    "    for alt in data_long[alt_id_col].unique():\n",
    "        # Store data for specific alternative (mode)\n",
    "        mode_data = data_long.loc[data_long[alt_id_col] == alt]\n",
    "        # Loop around the alternative specific variables in the input dictionary\n",
    "        for var in alt_spec_dic[alt]:\n",
    "            # If data is to be taken as empirical values\n",
    "            if var_types[var] == 'empirical':\n",
    "                # If only one value\n",
    "                if len(mode_data[var].unique()) == 1:\n",
    "                    # Add name of alternative to variable and store distriburion & parameters\n",
    "                    params_dict.setdefault(var +'_'+ alt_name_dic[alt], {})['distribution'] = 'constant'\n",
    "                    params_dict.setdefault(var +'_'+ alt_name_dic[alt], {})['parameters'] = mode_data[var].unique()\n",
    "                else:\n",
    "                    # Add name of alternative to variable and store distriburion & parameters\n",
    "                    params_dict.setdefault(var +'_'+ alt_name_dic[alt], {})['distribution'] = 'empirical'\n",
    "                    params_dict.setdefault(var +'_'+ alt_name_dic[alt], {})['parameters'] = np.array(mode_data[var])\n",
    "            # If data is categorical\n",
    "            elif var_types[var] == 'categorical':\n",
    "                # If only one category\n",
    "                if len(mode_data[var].unique()) == 1:\n",
    "                    # Add name of alternative to variable and store distriburion & parameters\n",
    "                    params_dict.setdefault(var +'_'+ alt_name_dic[alt], {})['distribution'] = 'constant'\n",
    "                    params_dict.setdefault(var +'_'+ alt_name_dic[alt], {})['parameters'] = mode_data[var].unique()\n",
    "                else:\n",
    "                    # If more than one category, compute the frequency of values\n",
    "                    # and store as parameters\n",
    "                    # Add name of alternative to variable and store distriburion & parameters\n",
    "                    params_dict.setdefault(var +'_'+ alt_name_dic[alt], {})['distribution'] = 'categorical'\n",
    "                    np_array_range = np.arange(mode_data[var].max()+1)\n",
    "                    array_bincount = np.bincount(mode_data[var])\n",
    "                    probs = array_bincount / len(mode_data[var])\n",
    "                    params_dict.setdefault(var +'_'+ alt_name_dic[alt], {})['parameters'] = [np_array_range,\n",
    "                                                                            probs]\n",
    "            else:\n",
    "                # If data is not categorical but has one unique value\n",
    "                if len(mode_data[var].unique()) == 1:\n",
    "                    # Add name of alternative to variable and store distriburion & parameters\n",
    "                    params_dict.setdefault(var +'_'+ alt_name_dic[alt], {})['distribution'] = 'constant'\n",
    "                    params_dict.setdefault(var +'_'+ alt_name_dic[alt], {})['parameters'] = mode_data[var].unique()\n",
    "                # If data is not categorical but has more than one unique value\n",
    "                else:\n",
    "                    # Use the Fitter library to fit distributions\n",
    "                    # to the data\n",
    "                    fitter_object = Fitter(data=mode_data[var],\n",
    "                                           distributions=cont_dists,\n",
    "                                           timeout=30)\n",
    "                    fitter_object.fit()\n",
    "                    # Get the best distribution and store in dictionary\n",
    "                    BestDict = fitter_object.get_best()\n",
    "                    # Add name of alternative to variable and store distriburion & parameters\n",
    "                    params_dict.setdefault(var +'_'+ alt_name_dic[alt], {})['distribution'] = list(BestDict.items())[0][0]\n",
    "                    params_dict.setdefault(var +'_'+ alt_name_dic[alt], {})['parameters'] = list(BestDict.items())[0][1]\n",
    "\n",
    "    # Trip Specific Variable (maybe combine with individual specific variables)\n",
    "    # Loop around trip (observation) specific variables\n",
    "    for var in trip_spec:\n",
    "        # generate array of values for trip specific variable\n",
    "        trip_var = pd.Series([(data_long.loc[data_long[obs_id_col] == x][var].unique()[0]) for x in data_long[obs_id_col].unique()])\n",
    "        # If data is to be taken as empirical values\n",
    "        if var_types[var] == 'empirical':\n",
    "            # If data has one unique value\n",
    "            if trip_var.unique() == 1:\n",
    "                params_dict.setdefault(var, {})['distribution'] = 'constant'\n",
    "                params_dict.setdefault(var, {})['parameters'] = np.array(trip_var.unique())\n",
    "            # If data has more than one unique value\n",
    "            else:\n",
    "                params_dict.setdefault(var, {})['distribution'] = 'empirical'\n",
    "                params_dict.setdefault(var, {})['parameters'] = np.array(trip_var)\n",
    "        # Get distribution if variable is categorical\n",
    "        elif var_types[var] == 'categorical':\n",
    "            # If only one category\n",
    "            if len(trip_var.unique()) == 1:\n",
    "                params_dict.setdefault(var, {})['distribution'] = 'constant'\n",
    "                params_dict.setdefault(var, {})['parameters'] = trip_var.unique()\n",
    "            # If more than one category\n",
    "            else:\n",
    "                params_dict.setdefault(var, {})['distribution'] = 'categorical'\n",
    "                # Count frequency of values and store it as paramater of distribution\n",
    "                np_array_range = np.arange(trip_var.max()+1)\n",
    "                array_bincount = np.bincount(trip_var)\n",
    "                probs = array_bincount / len(trip_var)\n",
    "                params_dict.setdefault(var, {})['parameters'] = [np_array_range,\n",
    "                                                  probs]\n",
    "        else:\n",
    "            # If not categorical but just one unique value\n",
    "            if len(trip_var.unique()) == 1:\n",
    "                params_dict.setdefault(var, {})['distribution'] = 'constant'\n",
    "                params_dict.setdefault(var, {})['parameters'] = trip_var.unique()\n",
    "            # If not categorical but just one unique value\n",
    "            else:\n",
    "                # Use the Fitter library to fit distributions\n",
    "                # to the data\n",
    "                fitter_object = Fitter(data=trip_var,\n",
    "                                       distributions=cont_dists,\n",
    "                                       timeout=30)\n",
    "                fitter_object.fit()\n",
    "                # Get the best distribution and store in dictionary\n",
    "                BestDict = fitter_object.get_best()\n",
    "                params_dict.setdefault(var, {})['distribution'] = list(BestDict.items())[0][0]\n",
    "                params_dict.setdefault(var, {})['parameters'] = list(BestDict.items())[0][1]\n",
    "\n",
    "    return params_dict\n",
    "\n",
    "\n",
    "def SimNodeNoParent(params_dict, size=1000):\n",
    "    \"\"\"\n",
    "    Funtion to simulate data of size N based on specified\n",
    "    distribution/parameters found by the fitter package.\n",
    "    \n",
    "    Paremeters\n",
    "    ----------\n",
    "    dist_params: dictionary\n",
    "        The variable distribution dictionary resulting from\n",
    "        `FindLongDataDist`.\n",
    "        \n",
    "    size: int\n",
    "        Size of the desired simulated dataset, default value\n",
    "        is 1000 observations.\n",
    "    \n",
    "    Returns\n",
    "    -------\n",
    "    DataFrame object with simulated data based on specified distributions\n",
    "    \"\"\"\n",
    "    # Create Empty DataFrame with keys from params_dict\n",
    "    Sim_Df = pd.DataFrame(columns=list(params_dict.keys()))\n",
    "    Sim_Df = Sim_Df.fillna(0)\n",
    "    \n",
    "    # Loop around each of the variables in params_dict\n",
    "    # and simulate data for them\n",
    "    for column in list(params_dict.keys()):\n",
    "        # Simulate data for categorical variables\n",
    "        if params_dict[column]['distribution'] == 'categorical':\n",
    "            value = params_dict[column]['parameters'][0]\n",
    "            freq = params_dict[column]['parameters'][1]\n",
    "            data_sim = np.random.choice(a=value,\n",
    "                                        p=freq,\n",
    "                                        size=size)\n",
    "            Sim_Df[column] = data_sim\n",
    "        \n",
    "        # Simulate variables for data with a single unique value\n",
    "        elif params_dict[column]['distribution'] == 'constant':\n",
    "            data_sim = params_dict[column]['parameters'][0]\n",
    "            Sim_Df[column] = data_sim\n",
    "        \n",
    "        # Simulate data using values from array, sampling\n",
    "        # with replacement\n",
    "        elif params_dict[column]['distribution'] == 'empirical':\n",
    "            data_sim = np.random.choice(params_dict[column]['paramaters'], size=size)\n",
    "            Sim_Df[column] = data_sim\n",
    "        \n",
    "        # Simulate data for continuous variables\n",
    "        else:\n",
    "            # Get scipy distribution from its\n",
    "            # name in the params dictionary\n",
    "            dist = getattr(scipy.stats,\n",
    "                           params_dict[column]['distribution'])\n",
    "            data_sim = dist.rvs(*params_dict[column]['parameters'],\n",
    "                                size=size)\n",
    "            Sim_Df[column] = data_sim\n",
    "        \n",
    "    return Sim_Df\n",
    "\n",
    "\n",
    "def FitAlternativeRegression(regressions, reg_types, data):\n",
    "    \n",
    "    \"\"\"\n",
    "    Function to store regression models based on causal graph\n",
    "    in a dictionary.\n",
    "    \n",
    "    Parameters\n",
    "    ----------\n",
    "    regressions: dictionary\n",
    "        Dictionary with keys as integers representing the\n",
    "        order of regressions. Values of the dictionary\n",
    "        are tuples/lists with the first item is a string\n",
    "        of the name of the independent variable and the\n",
    "        second item is a string of the name of the \n",
    "        dependent variable.\n",
    "    \n",
    "    reg_types: dictionary\n",
    "        Dictionary with keys as integers representing the\n",
    "        order of regressions. Keys should be similar to the\n",
    "        keys from the `regressions` dictionary. Values are\n",
    "        strings representing the type of regressions to be\n",
    "        ran. **TODO: add more regressions**\n",
    "        \n",
    "    Returns\n",
    "    -------\n",
    "    Dictionary with keys as the regression name and values\n",
    "    as regression models stores. Methods from these fitted\n",
    "    models can be accessed through the values of the dictionary.\n",
    "    \"\"\"\n",
    "    \n",
    "    # Initiate the regressions results dictionary\n",
    "    regression_results = {}\n",
    "    \n",
    "    # Loop around the regressions\n",
    "    for reg in regressions.keys():\n",
    "        # If linear regression\n",
    "        if reg_types[reg] == 'linear':\n",
    "            # Prepare data and initialize model\n",
    "            data_x = sm.add_constant(data[regressions[reg][0]])\n",
    "            data_y = data[regressions[reg][1]]\n",
    "            model = sm.OLS(data_y, data_x)\n",
    "\n",
    "            # Fit model\n",
    "            results = model.fit()\n",
    "            \n",
    "            # Store model\n",
    "            regression_results[regressions[reg][1]+'_on_'+regressions[reg][0]] = results\n",
    "        \n",
    "        # If logistic regression **TODO: Expand on\n",
    "        # logistic regression\n",
    "        if reg_types[reg] == 'logistic':\n",
    "            # Prepare data and initialize model\n",
    "            data_x = sm.add_constant(data[regressions[reg][0]])\n",
    "            data_y = data[regressions[reg][1]]\n",
    "            model = sm.Logit(data_y, data_x)\n",
    "\n",
    "            # Fit model\n",
    "            results = model.fit()\n",
    "            \n",
    "            # Store model\n",
    "            regression_results[regressions[reg][1]+'_on_'+regressions[reg][0]] = results\n",
    "    \n",
    "    #if plotting:\n",
    "    #    fig = plt.figure(figsize=(12,8))\n",
    "    #    fig = sm.graphics.plot_regress_exog(results, X[0], fig=fig)\n",
    "    \n",
    "    return regression_results\n",
    "\n",
    "\n",
    "def SimulateAvailability(data_long, sim_data, obs_id_col, alt_name_dict):\n",
    "    \"\"\"\n",
    "    Function to simulate alternative availability based on a long format\n",
    "    dataset and join the availability data to the simulated dataset\n",
    "    resulting from SimDf.\n",
    "    \n",
    "    Parameters\n",
    "    ----------\n",
    "    data_long: Pandas DataFrame\n",
    "        Long format dataframe used for simulating\n",
    "        alternative availability.\n",
    "    \n",
    "    sim_data: Pandas DataFrame\n",
    "        Wide format dataframe resulting from SimDf\n",
    "    \n",
    "    obs_id_col: string\n",
    "        Name of the column in data_long with \n",
    "        observation ids.\n",
    "    \n",
    "    alt_name_dic: dictionary\n",
    "        Dictionary with keys as the ordered number\n",
    "        of alternatives, and the value for each key\n",
    "        is a string representing the name of the \n",
    "        alternative.\n",
    "        \n",
    "    Returns\n",
    "    -------\n",
    "    Wide format Pandas DataFrame with additional availability\n",
    "    columns for each of the alternatives.\n",
    "    \n",
    "    \"\"\"\n",
    "    \n",
    "    # Create empty Series to hold number of available alternatives\n",
    "    series = pd.Series([])\n",
    "    \n",
    "    # Loop around each observation to record the\n",
    "    # available number of alternatives for each observation\n",
    "    for i, obs in zip(np.arange(len(data_long[obs_id_col].unique())), data_long[obs_id_col].unique()):\n",
    "        series[i] = data_long[data_long[obs_id_col] == obs].shape[0]\n",
    "\n",
    "    # Simulate number of available alternatives for\n",
    "    # each observation in sim_data\n",
    "    av_size = sim_data.shape[0]\n",
    "    alts_sim = np.random.choice(a=np.arange(series.max()+1),\n",
    "                                p=np.bincount(series)/len(series),\n",
    "                                size=av_size)\n",
    "\n",
    "    # Simulate the availability matrix based on number \n",
    "    # of available alternatives\n",
    "    N = len(alt_name_dict)\n",
    "    av_sim = [np.array([1] * K + [0]*(N-K)) for K in alts_sim]\n",
    "    \n",
    "    # Shuffle the available alternatives for each observation\n",
    "    # because av_sim will always start with 1s\n",
    "    for x in av_sim:\n",
    "        np.random.shuffle(x)\n",
    "\n",
    "    # Shuffle the availability across different observations\n",
    "    np.random.shuffle(av_sim)\n",
    "    \n",
    "    # Create columns for the availability matrix\n",
    "    AV_columns = [alt_name_dict[i]+'_AV' for i in alt_name_dict.keys()]\n",
    "    \n",
    "    # Create alternative availability matrix with AV_columns\n",
    "    AV_Df = pd.DataFrame(av_sim, columns=AV_columns)\n",
    "    \n",
    "    # Create an random choice column based on available\n",
    "    # alternatives for each observation - This column will\n",
    "    # be needed when converting to long data\n",
    "    fake_choice = [random.choice(np.nonzero(a == 1)[0]) + 1 for a in np.array(AV_Df)]\n",
    "    fake_choice_df = pd.DataFrame(fake_choice, columns=['sim_choice'])\n",
    "    \n",
    "    # Concatenate the simulated data with availability data and fake choice data\n",
    "    # and return Sim_DF_AV\n",
    "    Sim_DF_AV = pd.concat([sim_data, AV_Df, fake_choice_df], axis=1, sort=False)\n",
    "    return Sim_DF_AV"
   ]
  },
  {
   "cell_type": "markdown",
   "metadata": {},
   "source": [
    "# 2. MNL Model Estimation using Bike Data"
   ]
  },
  {
   "cell_type": "markdown",
   "metadata": {},
   "source": [
    "## 2.1. Data Ingestion and Exploration"
   ]
  },
  {
   "cell_type": "code",
   "execution_count": 10,
   "metadata": {},
   "outputs": [],
   "source": [
    "# Create a variable for the path to the long format data for\n",
    "# the multinomial choice model\n",
    "PATH = '../../data/raw/spring_2016_all_bay_area_long_format_plus_cross_bay_col.csv'"
   ]
  },
  {
   "cell_type": "code",
   "execution_count": 11,
   "metadata": {},
   "outputs": [
    {
     "name": "stdout",
     "output_type": "stream",
     "text": [
      "The columns of bike_data are:\n"
     ]
    },
    {
     "data": {
      "text/plain": [
       "Index(['household_id', 'person_id', 'tour_id', 'observation_id', 'mode_id',\n",
       "       'choice', 'tour_origin_taz', 'primary_dest_taz', 'total_travel_time',\n",
       "       'total_travel_cost', 'total_travel_distance', 'age', 'household_size',\n",
       "       'household_income', 'household_income_values', 'transit_subsidy',\n",
       "       'transit_subsidy_amount', 'num_cars', 'num_licensed_drivers',\n",
       "       'cross_bay', 'oakland_and_berkeley', 'survey_id', 'gender',\n",
       "       'non_relative_flag', 'num_pre_school', 'num_school_aged', 'married',\n",
       "       'parent', 'income_category_1', 'income_category_2', 'income_category_3',\n",
       "       'income_category_4', 'income_category_5', 'income_category_6',\n",
       "       'income_category_7', 'income_category_8', 'income_category_9',\n",
       "       'income_category_10', 'income_unknown', 'ln_drive_cost',\n",
       "       'ln_drive_cost_sq', 'total_travel_time_10x', 'total_travel_time_tenth',\n",
       "       'high_income', 'medium_income', 'low_income', 'high_income_cost',\n",
       "       'medium_income_cost', 'low_income_cost', 'unknown_income_cost',\n",
       "       'high_income_ln_cost', 'medium_income_ln_cost', 'low_income_ln_cost',\n",
       "       'unknown_income_ln_cost', 'cars_per_licensed_drivers', 'num_kids',\n",
       "       'family_in_household', 'married_woman', 'cost_per_distance',\n",
       "       'intercept', 'cost_per_distance_10$_per_mi',\n",
       "       'total_travel_time_tenth_min'],\n",
       "      dtype='object')"
      ]
     },
     "execution_count": 11,
     "metadata": {},
     "output_type": "execute_result"
    }
   ],
   "source": [
    "# Reading data from the specified PATH\n",
    "bike_data_long = pd.read_csv(PATH)\n",
    "\n",
    "# If in previous work we accidentally saved the index with the dataframe\n",
    "# remove the old index from the data\n",
    "if \"Unnamed: 0\" in bike_data_long.columns:\n",
    "    del bike_data_long[\"Unnamed: 0\"]\n",
    "\n",
    "print(\"The columns of bike_data are:\")\n",
    "bike_data_long.columns"
   ]
  },
  {
   "cell_type": "code",
   "execution_count": 12,
   "metadata": {},
   "outputs": [
    {
     "data": {
      "text/plain": [
       "Drive Alone           0.428322\n",
       "Shared Ride 2         0.158841\n",
       "Shared Ride 3+        0.139860\n",
       "Walk-Transit-Walk     0.103397\n",
       "Drive-Transit-Walk    0.015485\n",
       "Walk-Transit-Drive    0.013237\n",
       "Walk                  0.094406\n",
       "Bike                  0.046454\n",
       "Name: Mode Shares, dtype: float64"
      ]
     },
     "execution_count": 12,
     "metadata": {},
     "output_type": "execute_result"
    }
   ],
   "source": [
    "# Look at the mode shares in the data set\n",
    "alt_id_to_mode_name = {1: \"Drive Alone\",\n",
    "                       2: \"Shared Ride 2\",\n",
    "                       3: \"Shared Ride 3+\",\n",
    "                       4: \"Walk-Transit-Walk\",\n",
    "                       5: \"Drive-Transit-Walk\",\n",
    "                       6: \"Walk-Transit-Drive\",\n",
    "                       7: \"Walk\",\n",
    "                       8: \"Bike\"}\n",
    "\n",
    "mode_counts = bike_data_long.loc[bike_data_long.choice == 1,\n",
    "                                 \"mode_id\"].value_counts().loc[range(1, 9)]\n",
    "\n",
    "mode_shares = mode_counts / bike_data_long.observation_id.max()\n",
    "mode_shares.index = [alt_id_to_mode_name[x] for x in mode_shares.index.values]\n",
    "mode_shares.name = \"Mode Shares\"\n",
    "mode_shares"
   ]
  },
  {
   "cell_type": "markdown",
   "metadata": {},
   "source": [
    "## 2.2. MNL Model Specification "
   ]
  },
  {
   "cell_type": "code",
   "execution_count": 13,
   "metadata": {},
   "outputs": [],
   "source": [
    "# Create my specification and variable names for the basic MNL model\n",
    "# NOTE: - Keys should be variables within the long format dataframe.\n",
    "#         The sole exception to this is the \"intercept\" key.\n",
    "#       - For the specification dictionary, the values should be lists\n",
    "#         or lists of lists. Within a list, or within the inner-most\n",
    "#         list should be the alternative ID's of the alternative whose\n",
    "#         utility specification the explanatory variable is entering.\n",
    "\n",
    "mnl_specification = OrderedDict()\n",
    "mnl_names = OrderedDict()\n",
    "\n",
    "mnl_specification[\"intercept\"] = [2, 3, 4, 5, 6, 7, 8]\n",
    "mnl_names[\"intercept\"] = ['ASC Shared Ride: 2',\n",
    "                          'ASC Shared Ride: 3+',\n",
    "                          'ASC Walk-Transit-Walk',\n",
    "                          'ASC Drive-Transit-Walk',\n",
    "                          'ASC Walk-Transit-Drive',\n",
    "                          'ASC Walk',\n",
    "                          'ASC Bike']\n",
    "\n",
    "mnl_specification[\"total_travel_time\"] = [[1, 2, 3], [4, 5, 6]]\n",
    "mnl_names[\"total_travel_time\"] = ['Travel Time, units:min (All Auto Modes)',\n",
    "                                  'Travel Time, units:min (All Transit Modes)']\n",
    "\n",
    "mnl_specification[\"total_travel_cost\"] = [[4, 5, 6]]\n",
    "mnl_names[\"total_travel_cost\"] = ['Travel Cost, units:$ (All Transit Modes)']\n",
    "\n",
    "mnl_specification[\"cost_per_distance\"] = [1, 2, 3]\n",
    "mnl_names[\"cost_per_distance\"] = [\"Travel Cost per Distance, units:$/mi (Drive Alone)\",\n",
    "                                  \"Travel Cost per Distance, units:$/mi (SharedRide-2)\",\n",
    "                                  \"Travel Cost per Distance, units:$/mi (SharedRide-3+)\"]\n",
    "\n",
    "mnl_specification[\"cars_per_licensed_drivers\"] = [[1, 2, 3]]\n",
    "mnl_names[\"cars_per_licensed_drivers\"] = [\"Autos per licensed drivers (All Auto Modes)\"]\n",
    "\n",
    "mnl_specification[\"total_travel_distance\"] = [7, 8]\n",
    "mnl_names[\"total_travel_distance\"] = ['Travel Distance, units:mi (Walk)',\n",
    "                                      'Travel Distance, units:mi (Bike)']\n",
    "\n",
    "# mnl_specification[\"cross_bay\"] = [[2, 3], [4, 5, 6]]\n",
    "# mnl_names[\"cross_bay\"] = [\"Cross-Bay Tour (Shared Ride 2 & 3+)\",\n",
    "#                           \"Cross-Bay Tour (All Transit Modes)\"]\n",
    "mnl_specification[\"cross_bay\"] = [[2, 3]]\n",
    "mnl_names[\"cross_bay\"] = [\"Cross-Bay Tour (Shared Ride 2 & 3+)\"]\n",
    "\n",
    "mnl_specification[\"household_size\"] = [[2, 3]]\n",
    "mnl_names[\"household_size\"] = ['Household Size (Shared Ride 2 & 3+)']\n",
    "\n",
    "mnl_specification[\"num_kids\"] = [[2, 3]]\n",
    "mnl_names[\"num_kids\"] = [\"Number of Kids in Household (Shared Ride 2 & 3+)\"]"
   ]
  },
  {
   "cell_type": "markdown",
   "metadata": {},
   "source": [
    "## 2.3. Model Estimation"
   ]
  },
  {
   "cell_type": "code",
   "execution_count": 14,
   "metadata": {},
   "outputs": [
    {
     "name": "stdout",
     "output_type": "stream",
     "text": [
      "Log-likelihood at zero: -7,599.7019\n",
      "Initial Log-likelihood: -7,599.7019\n"
     ]
    },
    {
     "name": "stderr",
     "output_type": "stream",
     "text": [
      "/Users/mobouzaghrane/opt/anaconda3/lib/python3.7/site-packages/pylogit/choice_tools.py:703: FutureWarning: arrays to stack must be passed as a \"sequence\" type such as list or tuple. Support for non-sequence iterables such as generators is deprecated as of NumPy 1.16 and will raise an error in the future.\n",
      "  design_matrix = np.hstack((x[:, None] for x in independent_vars))\n",
      "/Users/mobouzaghrane/opt/anaconda3/lib/python3.7/site-packages/scipy/optimize/_minimize.py:505: RuntimeWarning: Method BFGS does not use Hessian information (hess).\n",
      "  RuntimeWarning)\n"
     ]
    },
    {
     "name": "stdout",
     "output_type": "stream",
     "text": [
      "Estimation Time for Point Estimation: 0.19 seconds.\n",
      "Final log-likelihood: -5,073.4276\n"
     ]
    },
    {
     "data": {
      "text/html": [
       "<table class=\"simpletable\">\n",
       "<caption>Multinomial Logit Model Regression Results</caption>\n",
       "<tr>\n",
       "  <th>Dep. Variable:</th>         <td>choice</td>          <th>  No. Observations:  </th>    <td>4,004</td>  \n",
       "</tr>\n",
       "<tr>\n",
       "  <th>Model:</th>         <td>Multinomial Logit Model</td> <th>  Df Residuals:      </th>    <td>3,985</td>  \n",
       "</tr>\n",
       "<tr>\n",
       "  <th>Method:</th>                  <td>MLE</td>           <th>  Df Model:          </th>     <td>19</td>    \n",
       "</tr>\n",
       "<tr>\n",
       "  <th>Date:</th>             <td>Sat, 28 Mar 2020</td>     <th>  Pseudo R-squ.:     </th>    <td>0.332</td>  \n",
       "</tr>\n",
       "<tr>\n",
       "  <th>Time:</th>                 <td>11:19:48</td>         <th>  Pseudo R-bar-squ.: </th>    <td>0.330</td>  \n",
       "</tr>\n",
       "<tr>\n",
       "  <th>AIC:</th>                 <td>10,184.855</td>        <th>  Log-Likelihood:    </th> <td>-5,073.428</td>\n",
       "</tr>\n",
       "<tr>\n",
       "  <th>BIC:</th>                 <td>10,304.461</td>        <th>  LL-Null:           </th> <td>-7,599.702</td>\n",
       "</tr>\n",
       "</table>\n",
       "<table class=\"simpletable\">\n",
       "<tr>\n",
       "                            <td></td>                              <th>coef</th>     <th>std err</th>      <th>z</th>      <th>P>|z|</th>  <th>[0.025</th>    <th>0.975]</th>  \n",
       "</tr>\n",
       "<tr>\n",
       "  <th>ASC Shared Ride: 2</th>                                   <td>   -1.0097</td> <td>    0.486</td> <td>   -2.079</td> <td> 0.038</td> <td>   -1.962</td> <td>   -0.058</td>\n",
       "</tr>\n",
       "<tr>\n",
       "  <th>ASC Shared Ride: 3+</th>                                  <td>    3.4619</td> <td>    1.064</td> <td>    3.254</td> <td> 0.001</td> <td>    1.377</td> <td>    5.547</td>\n",
       "</tr>\n",
       "<tr>\n",
       "  <th>ASC Walk-Transit-Walk</th>                                <td>   -0.3921</td> <td>    0.288</td> <td>   -1.360</td> <td> 0.174</td> <td>   -0.957</td> <td>    0.173</td>\n",
       "</tr>\n",
       "<tr>\n",
       "  <th>ASC Drive-Transit-Walk</th>                               <td>   -2.6220</td> <td>    0.303</td> <td>   -8.660</td> <td> 0.000</td> <td>   -3.215</td> <td>   -2.029</td>\n",
       "</tr>\n",
       "<tr>\n",
       "  <th>ASC Walk-Transit-Drive</th>                               <td>   -2.9773</td> <td>    0.306</td> <td>   -9.725</td> <td> 0.000</td> <td>   -3.577</td> <td>   -2.377</td>\n",
       "</tr>\n",
       "<tr>\n",
       "  <th>ASC Walk</th>                                             <td>    1.5541</td> <td>    0.305</td> <td>    5.101</td> <td> 0.000</td> <td>    0.957</td> <td>    2.151</td>\n",
       "</tr>\n",
       "<tr>\n",
       "  <th>ASC Bike</th>                                             <td>   -1.1059</td> <td>    0.305</td> <td>   -3.628</td> <td> 0.000</td> <td>   -1.703</td> <td>   -0.508</td>\n",
       "</tr>\n",
       "<tr>\n",
       "  <th>Travel Time, units:min (All Auto Modes)</th>              <td>   -0.0760</td> <td>    0.006</td> <td>  -13.728</td> <td> 0.000</td> <td>   -0.087</td> <td>   -0.065</td>\n",
       "</tr>\n",
       "<tr>\n",
       "  <th>Travel Time, units:min (All Transit Modes)</th>           <td>   -0.0274</td> <td>    0.002</td> <td>  -12.768</td> <td> 0.000</td> <td>   -0.032</td> <td>   -0.023</td>\n",
       "</tr>\n",
       "<tr>\n",
       "  <th>Travel Cost, units:$ (All Transit Modes)</th>             <td>   -0.1273</td> <td>    0.037</td> <td>   -3.472</td> <td> 0.001</td> <td>   -0.199</td> <td>   -0.055</td>\n",
       "</tr>\n",
       "<tr>\n",
       "  <th>Travel Cost per Distance, units:$/mi (Drive Alone)</th>   <td>   -5.0613</td> <td>    1.377</td> <td>   -3.675</td> <td> 0.000</td> <td>   -7.760</td> <td>   -2.362</td>\n",
       "</tr>\n",
       "<tr>\n",
       "  <th>Travel Cost per Distance, units:$/mi (SharedRide-2)</th>  <td>  -20.3194</td> <td>    4.548</td> <td>   -4.467</td> <td> 0.000</td> <td>  -29.234</td> <td>  -11.405</td>\n",
       "</tr>\n",
       "<tr>\n",
       "  <th>Travel Cost per Distance, units:$/mi (SharedRide-3+)</th> <td>  -90.9224</td> <td>   14.748</td> <td>   -6.165</td> <td> 0.000</td> <td> -119.829</td> <td>  -62.016</td>\n",
       "</tr>\n",
       "<tr>\n",
       "  <th>Autos per licensed drivers (All Auto Modes)</th>          <td>    1.2134</td> <td>    0.129</td> <td>    9.408</td> <td> 0.000</td> <td>    0.961</td> <td>    1.466</td>\n",
       "</tr>\n",
       "<tr>\n",
       "  <th>Travel Distance, units:mi (Walk)</th>                     <td>   -1.0272</td> <td>    0.050</td> <td>  -20.437</td> <td> 0.000</td> <td>   -1.126</td> <td>   -0.929</td>\n",
       "</tr>\n",
       "<tr>\n",
       "  <th>Travel Distance, units:mi (Bike)</th>                     <td>   -0.2873</td> <td>    0.024</td> <td>  -11.896</td> <td> 0.000</td> <td>   -0.335</td> <td>   -0.240</td>\n",
       "</tr>\n",
       "<tr>\n",
       "  <th>Cross-Bay Tour (Shared Ride 2 & 3+)</th>                  <td>    0.9280</td> <td>    0.327</td> <td>    2.839</td> <td> 0.005</td> <td>    0.287</td> <td>    1.569</td>\n",
       "</tr>\n",
       "<tr>\n",
       "  <th>Household Size (Shared Ride 2 & 3+)</th>                  <td>    0.1136</td> <td>    0.045</td> <td>    2.523</td> <td> 0.012</td> <td>    0.025</td> <td>    0.202</td>\n",
       "</tr>\n",
       "<tr>\n",
       "  <th>Number of Kids in Household (Shared Ride 2 & 3+)</th>     <td>    0.6868</td> <td>    0.054</td> <td>   12.820</td> <td> 0.000</td> <td>    0.582</td> <td>    0.792</td>\n",
       "</tr>\n",
       "</table>"
      ],
      "text/plain": [
       "<class 'statsmodels.iolib.summary.Summary'>\n",
       "\"\"\"\n",
       "                     Multinomial Logit Model Regression Results                    \n",
       "===================================================================================\n",
       "Dep. Variable:                      choice   No. Observations:                4,004\n",
       "Model:             Multinomial Logit Model   Df Residuals:                    3,985\n",
       "Method:                                MLE   Df Model:                           19\n",
       "Date:                     Sat, 28 Mar 2020   Pseudo R-squ.:                   0.332\n",
       "Time:                             11:19:48   Pseudo R-bar-squ.:               0.330\n",
       "AIC:                            10,184.855   Log-Likelihood:             -5,073.428\n",
       "BIC:                            10,304.461   LL-Null:                    -7,599.702\n",
       "========================================================================================================================\n",
       "                                                           coef    std err          z      P>|z|      [0.025      0.975]\n",
       "------------------------------------------------------------------------------------------------------------------------\n",
       "ASC Shared Ride: 2                                      -1.0097      0.486     -2.079      0.038      -1.962      -0.058\n",
       "ASC Shared Ride: 3+                                      3.4619      1.064      3.254      0.001       1.377       5.547\n",
       "ASC Walk-Transit-Walk                                   -0.3921      0.288     -1.360      0.174      -0.957       0.173\n",
       "ASC Drive-Transit-Walk                                  -2.6220      0.303     -8.660      0.000      -3.215      -2.029\n",
       "ASC Walk-Transit-Drive                                  -2.9773      0.306     -9.725      0.000      -3.577      -2.377\n",
       "ASC Walk                                                 1.5541      0.305      5.101      0.000       0.957       2.151\n",
       "ASC Bike                                                -1.1059      0.305     -3.628      0.000      -1.703      -0.508\n",
       "Travel Time, units:min (All Auto Modes)                 -0.0760      0.006    -13.728      0.000      -0.087      -0.065\n",
       "Travel Time, units:min (All Transit Modes)              -0.0274      0.002    -12.768      0.000      -0.032      -0.023\n",
       "Travel Cost, units:$ (All Transit Modes)                -0.1273      0.037     -3.472      0.001      -0.199      -0.055\n",
       "Travel Cost per Distance, units:$/mi (Drive Alone)      -5.0613      1.377     -3.675      0.000      -7.760      -2.362\n",
       "Travel Cost per Distance, units:$/mi (SharedRide-2)    -20.3194      4.548     -4.467      0.000     -29.234     -11.405\n",
       "Travel Cost per Distance, units:$/mi (SharedRide-3+)   -90.9224     14.748     -6.165      0.000    -119.829     -62.016\n",
       "Autos per licensed drivers (All Auto Modes)              1.2134      0.129      9.408      0.000       0.961       1.466\n",
       "Travel Distance, units:mi (Walk)                        -1.0272      0.050    -20.437      0.000      -1.126      -0.929\n",
       "Travel Distance, units:mi (Bike)                        -0.2873      0.024    -11.896      0.000      -0.335      -0.240\n",
       "Cross-Bay Tour (Shared Ride 2 & 3+)                      0.9280      0.327      2.839      0.005       0.287       1.569\n",
       "Household Size (Shared Ride 2 & 3+)                      0.1136      0.045      2.523      0.012       0.025       0.202\n",
       "Number of Kids in Household (Shared Ride 2 & 3+)         0.6868      0.054     12.820      0.000       0.582       0.792\n",
       "========================================================================================================================\n",
       "\"\"\""
      ]
     },
     "execution_count": 14,
     "metadata": {},
     "output_type": "execute_result"
    }
   ],
   "source": [
    "# Estimate the basic MNL model, using the hessian and newton-conjugate gradient\n",
    "mnl_model = pl.create_choice_model(data=bike_data_long,\n",
    "                                   alt_id_col=\"mode_id\",\n",
    "                                   obs_id_col=\"observation_id\",\n",
    "                                   choice_col=\"choice\",\n",
    "                                   specification=mnl_specification,\n",
    "                                   model_type=\"MNL\",\n",
    "                                   names=mnl_names)\n",
    "\n",
    "num_vars = len(reduce(lambda x, y: x + y, mnl_names.values()))\n",
    "\n",
    "# Note newton-cg used to ensure convergence to a point where gradient\n",
    "# is essentially zero for all dimensions.\n",
    "mnl_model.fit_mle(np.zeros(num_vars),\n",
    "                  method=\"BFGS\")\n",
    "\n",
    "# Look at the estimation results\n",
    "mnl_model.get_statsmodels_summary()"
   ]
  },
  {
   "cell_type": "markdown",
   "metadata": {},
   "source": [
    "# 3. Framework for Simulation from Causal Graph"
   ]
  },
  {
   "cell_type": "markdown",
   "metadata": {},
   "source": [
    "## 3.1. Causal Models for each Utility Function "
   ]
  },
  {
   "cell_type": "code",
   "execution_count": 15,
   "metadata": {},
   "outputs": [
    {
     "data": {
      "image/svg+xml": [
       "<?xml version=\"1.0\" encoding=\"UTF-8\" standalone=\"no\"?>\n",
       "<!DOCTYPE svg PUBLIC \"-//W3C//DTD SVG 1.1//EN\"\n",
       " \"http://www.w3.org/Graphics/SVG/1.1/DTD/svg11.dtd\">\n",
       "<!-- Generated by graphviz version 2.42.3 (20191010.1750)\n",
       " -->\n",
       "<!-- Title: %3 Pages: 1 -->\n",
       "<svg width=\"718pt\" height=\"188pt\"\n",
       " viewBox=\"0.00 0.00 717.93 188.00\" xmlns=\"http://www.w3.org/2000/svg\" xmlns:xlink=\"http://www.w3.org/1999/xlink\">\n",
       "<g id=\"graph0\" class=\"graph\" transform=\"scale(1 1) rotate(0) translate(4 184)\">\n",
       "<title>%3</title>\n",
       "<polygon fill=\"white\" stroke=\"transparent\" points=\"-4,4 -4,-184 713.93,-184 713.93,4 -4,4\"/>\n",
       "<!-- Total Travel Distance -->\n",
       "<g id=\"node1\" class=\"node\">\n",
       "<title>Total Travel Distance</title>\n",
       "<ellipse fill=\"none\" stroke=\"black\" cx=\"152.41\" cy=\"-162\" rx=\"86.25\" ry=\"18\"/>\n",
       "<text text-anchor=\"middle\" x=\"152.41\" y=\"-157.8\" font-family=\"Times,serif\" font-size=\"14.00\">Total Travel Distance</text>\n",
       "</g>\n",
       "<!-- Total Travel Cost -->\n",
       "<g id=\"node3\" class=\"node\">\n",
       "<title>Total Travel Cost</title>\n",
       "<ellipse fill=\"none\" stroke=\"black\" cx=\"71.41\" cy=\"-90\" rx=\"71.31\" ry=\"18\"/>\n",
       "<text text-anchor=\"middle\" x=\"71.41\" y=\"-85.8\" font-family=\"Times,serif\" font-size=\"14.00\">Total Travel Cost</text>\n",
       "</g>\n",
       "<!-- Total Travel Distance&#45;&gt;Total Travel Cost -->\n",
       "<g id=\"edge2\" class=\"edge\">\n",
       "<title>Total Travel Distance&#45;&gt;Total Travel Cost</title>\n",
       "<path fill=\"none\" stroke=\"black\" d=\"M133.21,-144.41C122.72,-135.34 109.56,-123.97 98.09,-114.06\"/>\n",
       "<polygon fill=\"black\" stroke=\"black\" points=\"100.32,-111.36 90.46,-107.47 95.74,-116.66 100.32,-111.36\"/>\n",
       "</g>\n",
       "<!-- Total Travel Time -->\n",
       "<g id=\"node5\" class=\"node\">\n",
       "<title>Total Travel Time</title>\n",
       "<ellipse fill=\"none\" stroke=\"black\" cx=\"234.41\" cy=\"-90\" rx=\"73.28\" ry=\"18\"/>\n",
       "<text text-anchor=\"middle\" x=\"234.41\" y=\"-85.8\" font-family=\"Times,serif\" font-size=\"14.00\">Total Travel Time</text>\n",
       "</g>\n",
       "<!-- Total Travel Distance&#45;&gt;Total Travel Time -->\n",
       "<g id=\"edge1\" class=\"edge\">\n",
       "<title>Total Travel Distance&#45;&gt;Total Travel Time</title>\n",
       "<path fill=\"none\" stroke=\"black\" d=\"M171.84,-144.41C182.46,-135.34 195.78,-123.97 207.4,-114.06\"/>\n",
       "<polygon fill=\"black\" stroke=\"black\" points=\"209.78,-116.62 215.11,-107.47 205.24,-111.3 209.78,-116.62\"/>\n",
       "</g>\n",
       "<!-- Number of Licensed Drivers -->\n",
       "<g id=\"node2\" class=\"node\">\n",
       "<title>Number of Licensed Drivers</title>\n",
       "<ellipse fill=\"none\" stroke=\"black\" cx=\"437.41\" cy=\"-90\" rx=\"111.55\" ry=\"18\"/>\n",
       "<text text-anchor=\"middle\" x=\"437.41\" y=\"-85.8\" font-family=\"Times,serif\" font-size=\"14.00\">Number of Licensed Drivers</text>\n",
       "</g>\n",
       "<!-- Utility (Drive Alone) -->\n",
       "<g id=\"node6\" class=\"node\">\n",
       "<title>Utility (Drive Alone)</title>\n",
       "<ellipse fill=\"none\" stroke=\"black\" cx=\"335.41\" cy=\"-18\" rx=\"84.55\" ry=\"18\"/>\n",
       "<text text-anchor=\"middle\" x=\"335.41\" y=\"-13.8\" font-family=\"Times,serif\" font-size=\"14.00\">Utility (Drive Alone)</text>\n",
       "</g>\n",
       "<!-- Number of Licensed Drivers&#45;&gt;Utility (Drive Alone) -->\n",
       "<g id=\"edge6\" class=\"edge\">\n",
       "<title>Number of Licensed Drivers&#45;&gt;Utility (Drive Alone)</title>\n",
       "<path fill=\"none\" stroke=\"black\" d=\"M413.23,-72.41C399.64,-63.08 382.5,-51.32 367.76,-41.2\"/>\n",
       "<polygon fill=\"black\" stroke=\"black\" points=\"369.63,-38.24 359.41,-35.47 365.67,-44.01 369.63,-38.24\"/>\n",
       "</g>\n",
       "<!-- Total Travel Cost&#45;&gt;Utility (Drive Alone) -->\n",
       "<g id=\"edge4\" class=\"edge\">\n",
       "<title>Total Travel Cost&#45;&gt;Utility (Drive Alone)</title>\n",
       "<path fill=\"none\" stroke=\"black\" d=\"M118.6,-76.49C162.22,-64.92 227.26,-47.68 274.72,-35.09\"/>\n",
       "<polygon fill=\"black\" stroke=\"black\" points=\"275.8,-38.43 284.57,-32.48 274,-31.66 275.8,-38.43\"/>\n",
       "</g>\n",
       "<!-- Number of Autos -->\n",
       "<g id=\"node4\" class=\"node\">\n",
       "<title>Number of Autos</title>\n",
       "<ellipse fill=\"none\" stroke=\"black\" cx=\"638.41\" cy=\"-90\" rx=\"71.54\" ry=\"18\"/>\n",
       "<text text-anchor=\"middle\" x=\"638.41\" y=\"-85.8\" font-family=\"Times,serif\" font-size=\"14.00\">Number of Autos</text>\n",
       "</g>\n",
       "<!-- Number of Autos&#45;&gt;Utility (Drive Alone) -->\n",
       "<g id=\"edge5\" class=\"edge\">\n",
       "<title>Number of Autos&#45;&gt;Utility (Drive Alone)</title>\n",
       "<path fill=\"none\" stroke=\"black\" d=\"M587.69,-77.28C536.2,-65.39 456.28,-46.92 400.22,-33.97\"/>\n",
       "<polygon fill=\"black\" stroke=\"black\" points=\"400.92,-30.54 390.39,-31.7 399.35,-37.36 400.92,-30.54\"/>\n",
       "</g>\n",
       "<!-- Total Travel Time&#45;&gt;Utility (Drive Alone) -->\n",
       "<g id=\"edge3\" class=\"edge\">\n",
       "<title>Total Travel Time&#45;&gt;Utility (Drive Alone)</title>\n",
       "<path fill=\"none\" stroke=\"black\" d=\"M257.83,-72.76C271.37,-63.38 288.6,-51.44 303.39,-41.19\"/>\n",
       "<polygon fill=\"black\" stroke=\"black\" points=\"305.53,-43.96 311.76,-35.39 301.55,-38.21 305.53,-43.96\"/>\n",
       "</g>\n",
       "</g>\n",
       "</svg>\n"
      ],
      "text/plain": [
       "<graphviz.dot.Digraph at 0x101e1ab90>"
      ]
     },
     "execution_count": 15,
     "metadata": {},
     "output_type": "execute_result"
    }
   ],
   "source": [
    "# Define the causal model\n",
    "V_Drive_Alone = CausalGraphicalModel(nodes=[\"Total Travel Distance\",\n",
    "                                            \"Total Travel Time\",\n",
    "                                            \"Total Travel Cost\",\n",
    "                                            \"Number of Autos\",\n",
    "                                            \"Number of Licensed Drivers\",\n",
    "                                            \"Utility (Drive Alone)\"],\n",
    "                                     edges=[(\"Total Travel Distance\",\"Total Travel Time\"),\n",
    "                                            (\"Total Travel Distance\",\"Total Travel Cost\"),\n",
    "                                            (\"Total Travel Time\", \"Utility (Drive Alone)\"), \n",
    "                                            (\"Total Travel Cost\", \"Utility (Drive Alone)\"), \n",
    "                                            (\"Number of Autos\", \"Utility (Drive Alone)\"),\n",
    "                                            (\"Number of Licensed Drivers\",\"Utility (Drive Alone)\")\n",
    "    ]\n",
    ")\n",
    "\n",
    "# draw the causal model\n",
    "V_Drive_Alone.draw()"
   ]
  },
  {
   "cell_type": "code",
   "execution_count": 16,
   "metadata": {},
   "outputs": [
    {
     "data": {
      "image/svg+xml": [
       "<?xml version=\"1.0\" encoding=\"UTF-8\" standalone=\"no\"?>\n",
       "<!DOCTYPE svg PUBLIC \"-//W3C//DTD SVG 1.1//EN\"\n",
       " \"http://www.w3.org/Graphics/SVG/1.1/DTD/svg11.dtd\">\n",
       "<!-- Generated by graphviz version 2.42.3 (20191010.1750)\n",
       " -->\n",
       "<!-- Title: %3 Pages: 1 -->\n",
       "<svg width=\"1165pt\" height=\"188pt\"\n",
       " viewBox=\"0.00 0.00 1165.27 188.00\" xmlns=\"http://www.w3.org/2000/svg\" xmlns:xlink=\"http://www.w3.org/1999/xlink\">\n",
       "<g id=\"graph0\" class=\"graph\" transform=\"scale(1 1) rotate(0) translate(4 184)\">\n",
       "<title>%3</title>\n",
       "<polygon fill=\"white\" stroke=\"transparent\" points=\"-4,4 -4,-184 1161.27,-184 1161.27,4 -4,4\"/>\n",
       "<!-- Total Travel Distance -->\n",
       "<g id=\"node1\" class=\"node\">\n",
       "<title>Total Travel Distance</title>\n",
       "<ellipse fill=\"none\" stroke=\"black\" cx=\"152.41\" cy=\"-162\" rx=\"86.25\" ry=\"18\"/>\n",
       "<text text-anchor=\"middle\" x=\"152.41\" y=\"-157.8\" font-family=\"Times,serif\" font-size=\"14.00\">Total Travel Distance</text>\n",
       "</g>\n",
       "<!-- Total Travel Cost -->\n",
       "<g id=\"node4\" class=\"node\">\n",
       "<title>Total Travel Cost</title>\n",
       "<ellipse fill=\"none\" stroke=\"black\" cx=\"71.41\" cy=\"-90\" rx=\"71.31\" ry=\"18\"/>\n",
       "<text text-anchor=\"middle\" x=\"71.41\" y=\"-85.8\" font-family=\"Times,serif\" font-size=\"14.00\">Total Travel Cost</text>\n",
       "</g>\n",
       "<!-- Total Travel Distance&#45;&gt;Total Travel Cost -->\n",
       "<g id=\"edge3\" class=\"edge\">\n",
       "<title>Total Travel Distance&#45;&gt;Total Travel Cost</title>\n",
       "<path fill=\"none\" stroke=\"black\" d=\"M133.21,-144.41C122.72,-135.34 109.56,-123.97 98.09,-114.06\"/>\n",
       "<polygon fill=\"black\" stroke=\"black\" points=\"100.32,-111.36 90.46,-107.47 95.74,-116.66 100.32,-111.36\"/>\n",
       "</g>\n",
       "<!-- Total Travel Time -->\n",
       "<g id=\"node7\" class=\"node\">\n",
       "<title>Total Travel Time</title>\n",
       "<ellipse fill=\"none\" stroke=\"black\" cx=\"234.41\" cy=\"-90\" rx=\"73.28\" ry=\"18\"/>\n",
       "<text text-anchor=\"middle\" x=\"234.41\" y=\"-85.8\" font-family=\"Times,serif\" font-size=\"14.00\">Total Travel Time</text>\n",
       "</g>\n",
       "<!-- Total Travel Distance&#45;&gt;Total Travel Time -->\n",
       "<g id=\"edge2\" class=\"edge\">\n",
       "<title>Total Travel Distance&#45;&gt;Total Travel Time</title>\n",
       "<path fill=\"none\" stroke=\"black\" d=\"M171.84,-144.41C182.46,-135.34 195.78,-123.97 207.4,-114.06\"/>\n",
       "<polygon fill=\"black\" stroke=\"black\" points=\"209.78,-116.62 215.11,-107.47 205.24,-111.3 209.78,-116.62\"/>\n",
       "</g>\n",
       "<!-- Utility (Shared Ride 2) -->\n",
       "<g id=\"node2\" class=\"node\">\n",
       "<title>Utility (Shared Ride 2)</title>\n",
       "<ellipse fill=\"none\" stroke=\"black\" cx=\"630.41\" cy=\"-18\" rx=\"91.31\" ry=\"18\"/>\n",
       "<text text-anchor=\"middle\" x=\"630.41\" y=\"-13.8\" font-family=\"Times,serif\" font-size=\"14.00\">Utility (Shared Ride 2)</text>\n",
       "</g>\n",
       "<!-- Number of Licensed Drivers -->\n",
       "<g id=\"node3\" class=\"node\">\n",
       "<title>Number of Licensed Drivers</title>\n",
       "<ellipse fill=\"none\" stroke=\"black\" cx=\"437.41\" cy=\"-90\" rx=\"111.55\" ry=\"18\"/>\n",
       "<text text-anchor=\"middle\" x=\"437.41\" y=\"-85.8\" font-family=\"Times,serif\" font-size=\"14.00\">Number of Licensed Drivers</text>\n",
       "</g>\n",
       "<!-- Number of Licensed Drivers&#45;&gt;Utility (Shared Ride 2) -->\n",
       "<g id=\"edge7\" class=\"edge\">\n",
       "<title>Number of Licensed Drivers&#45;&gt;Utility (Shared Ride 2)</title>\n",
       "<path fill=\"none\" stroke=\"black\" d=\"M480.72,-73.29C509.9,-62.71 548.52,-48.7 579.23,-37.56\"/>\n",
       "<polygon fill=\"black\" stroke=\"black\" points=\"580.69,-40.76 588.89,-34.06 578.3,-34.18 580.69,-40.76\"/>\n",
       "</g>\n",
       "<!-- Total Travel Cost&#45;&gt;Utility (Shared Ride 2) -->\n",
       "<g id=\"edge4\" class=\"edge\">\n",
       "<title>Total Travel Cost&#45;&gt;Utility (Shared Ride 2)</title>\n",
       "<path fill=\"none\" stroke=\"black\" d=\"M122.69,-77.46C132.52,-75.47 142.76,-73.54 152.41,-72 285.58,-50.69 441.01,-35.17 537.58,-26.62\"/>\n",
       "<polygon fill=\"black\" stroke=\"black\" points=\"537.95,-30.1 547.61,-25.74 537.34,-23.13 537.95,-30.1\"/>\n",
       "</g>\n",
       "<!-- Cross Bay Trip -->\n",
       "<g id=\"node5\" class=\"node\">\n",
       "<title>Cross Bay Trip</title>\n",
       "<ellipse fill=\"none\" stroke=\"black\" cx=\"630.41\" cy=\"-90\" rx=\"63.87\" ry=\"18\"/>\n",
       "<text text-anchor=\"middle\" x=\"630.41\" y=\"-85.8\" font-family=\"Times,serif\" font-size=\"14.00\">Cross Bay Trip</text>\n",
       "</g>\n",
       "<!-- Cross Bay Trip&#45;&gt;Utility (Shared Ride 2) -->\n",
       "<g id=\"edge5\" class=\"edge\">\n",
       "<title>Cross Bay Trip&#45;&gt;Utility (Shared Ride 2)</title>\n",
       "<path fill=\"none\" stroke=\"black\" d=\"M630.41,-71.7C630.41,-63.98 630.41,-54.71 630.41,-46.11\"/>\n",
       "<polygon fill=\"black\" stroke=\"black\" points=\"633.91,-46.1 630.41,-36.1 626.91,-46.1 633.91,-46.1\"/>\n",
       "</g>\n",
       "<!-- Number of Autos -->\n",
       "<g id=\"node6\" class=\"node\">\n",
       "<title>Number of Autos</title>\n",
       "<ellipse fill=\"none\" stroke=\"black\" cx=\"783.41\" cy=\"-90\" rx=\"71.54\" ry=\"18\"/>\n",
       "<text text-anchor=\"middle\" x=\"783.41\" y=\"-85.8\" font-family=\"Times,serif\" font-size=\"14.00\">Number of Autos</text>\n",
       "</g>\n",
       "<!-- Number of Autos&#45;&gt;Utility (Shared Ride 2) -->\n",
       "<g id=\"edge6\" class=\"edge\">\n",
       "<title>Number of Autos&#45;&gt;Utility (Shared Ride 2)</title>\n",
       "<path fill=\"none\" stroke=\"black\" d=\"M750.58,-73.98C728.26,-63.77 698.47,-50.14 674.14,-39.01\"/>\n",
       "<polygon fill=\"black\" stroke=\"black\" points=\"675.32,-35.7 664.77,-34.72 672.4,-42.06 675.32,-35.7\"/>\n",
       "</g>\n",
       "<!-- Total Travel Time&#45;&gt;Utility (Shared Ride 2) -->\n",
       "<g id=\"edge1\" class=\"edge\">\n",
       "<title>Total Travel Time&#45;&gt;Utility (Shared Ride 2)</title>\n",
       "<path fill=\"none\" stroke=\"black\" d=\"M288.16,-77.56C297.56,-75.64 307.26,-73.72 316.41,-72 396.22,-57 487.82,-41.76 551.4,-31.5\"/>\n",
       "<polygon fill=\"black\" stroke=\"black\" points=\"552.05,-34.94 561.36,-29.9 550.93,-28.03 552.05,-34.94\"/>\n",
       "</g>\n",
       "<!-- Number of Kids -->\n",
       "<g id=\"node8\" class=\"node\">\n",
       "<title>Number of Kids</title>\n",
       "<ellipse fill=\"none\" stroke=\"black\" cx=\"940.41\" cy=\"-90\" rx=\"67.66\" ry=\"18\"/>\n",
       "<text text-anchor=\"middle\" x=\"940.41\" y=\"-85.8\" font-family=\"Times,serif\" font-size=\"14.00\">Number of Kids</text>\n",
       "</g>\n",
       "<!-- Number of Kids&#45;&gt;Utility (Shared Ride 2) -->\n",
       "<g id=\"edge9\" class=\"edge\">\n",
       "<title>Number of Kids&#45;&gt;Utility (Shared Ride 2)</title>\n",
       "<path fill=\"none\" stroke=\"black\" d=\"M890.6,-77.75C838.34,-65.95 755.88,-47.33 697.82,-34.22\"/>\n",
       "<polygon fill=\"black\" stroke=\"black\" points=\"698.52,-30.79 688,-32 696.98,-37.62 698.52,-30.79\"/>\n",
       "</g>\n",
       "<!-- Household Size -->\n",
       "<g id=\"node9\" class=\"node\">\n",
       "<title>Household Size</title>\n",
       "<ellipse fill=\"none\" stroke=\"black\" cx=\"1091.41\" cy=\"-90\" rx=\"65.72\" ry=\"18\"/>\n",
       "<text text-anchor=\"middle\" x=\"1091.41\" y=\"-85.8\" font-family=\"Times,serif\" font-size=\"14.00\">Household Size</text>\n",
       "</g>\n",
       "<!-- Household Size&#45;&gt;Utility (Shared Ride 2) -->\n",
       "<g id=\"edge8\" class=\"edge\">\n",
       "<title>Household Size&#45;&gt;Utility (Shared Ride 2)</title>\n",
       "<path fill=\"none\" stroke=\"black\" d=\"M1043.77,-77.39C1035.03,-75.45 1025.96,-73.57 1017.41,-72 915.42,-53.34 797.22,-38.07 718.55,-28.79\"/>\n",
       "<polygon fill=\"black\" stroke=\"black\" points=\"718.54,-25.26 708.2,-27.57 717.72,-32.21 718.54,-25.26\"/>\n",
       "</g>\n",
       "</g>\n",
       "</svg>\n"
      ],
      "text/plain": [
       "<graphviz.dot.Digraph at 0x101deb610>"
      ]
     },
     "execution_count": 16,
     "metadata": {},
     "output_type": "execute_result"
    }
   ],
   "source": [
    "# Define the causal model\n",
    "V_Shared_2 = CausalGraphicalModel(nodes=[\"Total Travel Time\",\n",
    "                                         \"Total Travel Distance\",\n",
    "                                         \"Total Travel Cost\",\n",
    "                                         \"Cross Bay Trip\",\n",
    "                                         \"Number of Autos\",\n",
    "                                         \"Number of Licensed Drivers\",\n",
    "                                         \"Household Size\",\n",
    "                                         \"Number of Kids\",\n",
    "                                         \"Utility (Shared Ride 2)\"],\n",
    "                                  edges=[(\"Total Travel Distance\",\"Total Travel Time\"),\n",
    "                                         (\"Total Travel Distance\",\"Total Travel Cost\"),\n",
    "                                         (\"Total Travel Time\", \"Utility (Shared Ride 2)\"),\n",
    "                                         (\"Number of Autos\", \"Utility (Shared Ride 2)\"),\n",
    "                                         (\"Number of Licensed Drivers\", \"Utility (Shared Ride 2)\"),\n",
    "                                         (\"Total Travel Cost\", \"Utility (Shared Ride 2)\"),\n",
    "                                         (\"Household Size\", \"Utility (Shared Ride 2)\"),\n",
    "                                         (\"Cross Bay Trip\", \"Utility (Shared Ride 2)\"),\n",
    "                                         (\"Number of Kids\", \"Utility (Shared Ride 2)\")\n",
    "    ]\n",
    ")\n",
    "\n",
    "# draw the causal model\n",
    "V_Shared_2.draw()"
   ]
  },
  {
   "cell_type": "code",
   "execution_count": 17,
   "metadata": {},
   "outputs": [
    {
     "data": {
      "image/svg+xml": [
       "<?xml version=\"1.0\" encoding=\"UTF-8\" standalone=\"no\"?>\n",
       "<!DOCTYPE svg PUBLIC \"-//W3C//DTD SVG 1.1//EN\"\n",
       " \"http://www.w3.org/Graphics/SVG/1.1/DTD/svg11.dtd\">\n",
       "<!-- Generated by graphviz version 2.42.3 (20191010.1750)\n",
       " -->\n",
       "<!-- Title: %3 Pages: 1 -->\n",
       "<svg width=\"1165pt\" height=\"188pt\"\n",
       " viewBox=\"0.00 0.00 1165.27 188.00\" xmlns=\"http://www.w3.org/2000/svg\" xmlns:xlink=\"http://www.w3.org/1999/xlink\">\n",
       "<g id=\"graph0\" class=\"graph\" transform=\"scale(1 1) rotate(0) translate(4 184)\">\n",
       "<title>%3</title>\n",
       "<polygon fill=\"white\" stroke=\"transparent\" points=\"-4,4 -4,-184 1161.27,-184 1161.27,4 -4,4\"/>\n",
       "<!-- Total Travel Distance -->\n",
       "<g id=\"node1\" class=\"node\">\n",
       "<title>Total Travel Distance</title>\n",
       "<ellipse fill=\"none\" stroke=\"black\" cx=\"152.41\" cy=\"-162\" rx=\"86.25\" ry=\"18\"/>\n",
       "<text text-anchor=\"middle\" x=\"152.41\" y=\"-157.8\" font-family=\"Times,serif\" font-size=\"14.00\">Total Travel Distance</text>\n",
       "</g>\n",
       "<!-- Total Travel Cost -->\n",
       "<g id=\"node3\" class=\"node\">\n",
       "<title>Total Travel Cost</title>\n",
       "<ellipse fill=\"none\" stroke=\"black\" cx=\"71.41\" cy=\"-90\" rx=\"71.31\" ry=\"18\"/>\n",
       "<text text-anchor=\"middle\" x=\"71.41\" y=\"-85.8\" font-family=\"Times,serif\" font-size=\"14.00\">Total Travel Cost</text>\n",
       "</g>\n",
       "<!-- Total Travel Distance&#45;&gt;Total Travel Cost -->\n",
       "<g id=\"edge3\" class=\"edge\">\n",
       "<title>Total Travel Distance&#45;&gt;Total Travel Cost</title>\n",
       "<path fill=\"none\" stroke=\"black\" d=\"M133.21,-144.41C122.72,-135.34 109.56,-123.97 98.09,-114.06\"/>\n",
       "<polygon fill=\"black\" stroke=\"black\" points=\"100.32,-111.36 90.46,-107.47 95.74,-116.66 100.32,-111.36\"/>\n",
       "</g>\n",
       "<!-- Total Travel Time -->\n",
       "<g id=\"node6\" class=\"node\">\n",
       "<title>Total Travel Time</title>\n",
       "<ellipse fill=\"none\" stroke=\"black\" cx=\"234.41\" cy=\"-90\" rx=\"73.28\" ry=\"18\"/>\n",
       "<text text-anchor=\"middle\" x=\"234.41\" y=\"-85.8\" font-family=\"Times,serif\" font-size=\"14.00\">Total Travel Time</text>\n",
       "</g>\n",
       "<!-- Total Travel Distance&#45;&gt;Total Travel Time -->\n",
       "<g id=\"edge2\" class=\"edge\">\n",
       "<title>Total Travel Distance&#45;&gt;Total Travel Time</title>\n",
       "<path fill=\"none\" stroke=\"black\" d=\"M171.84,-144.41C182.46,-135.34 195.78,-123.97 207.4,-114.06\"/>\n",
       "<polygon fill=\"black\" stroke=\"black\" points=\"209.78,-116.62 215.11,-107.47 205.24,-111.3 209.78,-116.62\"/>\n",
       "</g>\n",
       "<!-- Number of Licensed Drivers -->\n",
       "<g id=\"node2\" class=\"node\">\n",
       "<title>Number of Licensed Drivers</title>\n",
       "<ellipse fill=\"none\" stroke=\"black\" cx=\"437.41\" cy=\"-90\" rx=\"111.55\" ry=\"18\"/>\n",
       "<text text-anchor=\"middle\" x=\"437.41\" y=\"-85.8\" font-family=\"Times,serif\" font-size=\"14.00\">Number of Licensed Drivers</text>\n",
       "</g>\n",
       "<!-- Utility (Shared Ride 3+) -->\n",
       "<g id=\"node8\" class=\"node\">\n",
       "<title>Utility (Shared Ride 3+)</title>\n",
       "<ellipse fill=\"none\" stroke=\"black\" cx=\"630.41\" cy=\"-18\" rx=\"96.28\" ry=\"18\"/>\n",
       "<text text-anchor=\"middle\" x=\"630.41\" y=\"-13.8\" font-family=\"Times,serif\" font-size=\"14.00\">Utility (Shared Ride 3+)</text>\n",
       "</g>\n",
       "<!-- Number of Licensed Drivers&#45;&gt;Utility (Shared Ride 3+) -->\n",
       "<g id=\"edge7\" class=\"edge\">\n",
       "<title>Number of Licensed Drivers&#45;&gt;Utility (Shared Ride 3+)</title>\n",
       "<path fill=\"none\" stroke=\"black\" d=\"M480.72,-73.29C509.7,-62.78 547.99,-48.89 578.59,-37.79\"/>\n",
       "<polygon fill=\"black\" stroke=\"black\" points=\"580.03,-41 588.23,-34.3 577.64,-34.42 580.03,-41\"/>\n",
       "</g>\n",
       "<!-- Total Travel Cost&#45;&gt;Utility (Shared Ride 3+) -->\n",
       "<g id=\"edge4\" class=\"edge\">\n",
       "<title>Total Travel Cost&#45;&gt;Utility (Shared Ride 3+)</title>\n",
       "<path fill=\"none\" stroke=\"black\" d=\"M122.69,-77.46C132.52,-75.47 142.76,-73.54 152.41,-72 283.99,-50.95 437.3,-35.54 534.09,-26.93\"/>\n",
       "<polygon fill=\"black\" stroke=\"black\" points=\"534.5,-30.41 544.15,-26.04 533.88,-23.43 534.5,-30.41\"/>\n",
       "</g>\n",
       "<!-- Cross Bay Trip -->\n",
       "<g id=\"node4\" class=\"node\">\n",
       "<title>Cross Bay Trip</title>\n",
       "<ellipse fill=\"none\" stroke=\"black\" cx=\"630.41\" cy=\"-90\" rx=\"63.87\" ry=\"18\"/>\n",
       "<text text-anchor=\"middle\" x=\"630.41\" y=\"-85.8\" font-family=\"Times,serif\" font-size=\"14.00\">Cross Bay Trip</text>\n",
       "</g>\n",
       "<!-- Cross Bay Trip&#45;&gt;Utility (Shared Ride 3+) -->\n",
       "<g id=\"edge5\" class=\"edge\">\n",
       "<title>Cross Bay Trip&#45;&gt;Utility (Shared Ride 3+)</title>\n",
       "<path fill=\"none\" stroke=\"black\" d=\"M630.41,-71.7C630.41,-63.98 630.41,-54.71 630.41,-46.11\"/>\n",
       "<polygon fill=\"black\" stroke=\"black\" points=\"633.91,-46.1 630.41,-36.1 626.91,-46.1 633.91,-46.1\"/>\n",
       "</g>\n",
       "<!-- Number of Autos -->\n",
       "<g id=\"node5\" class=\"node\">\n",
       "<title>Number of Autos</title>\n",
       "<ellipse fill=\"none\" stroke=\"black\" cx=\"783.41\" cy=\"-90\" rx=\"71.54\" ry=\"18\"/>\n",
       "<text text-anchor=\"middle\" x=\"783.41\" y=\"-85.8\" font-family=\"Times,serif\" font-size=\"14.00\">Number of Autos</text>\n",
       "</g>\n",
       "<!-- Number of Autos&#45;&gt;Utility (Shared Ride 3+) -->\n",
       "<g id=\"edge6\" class=\"edge\">\n",
       "<title>Number of Autos&#45;&gt;Utility (Shared Ride 3+)</title>\n",
       "<path fill=\"none\" stroke=\"black\" d=\"M750.58,-73.98C728.34,-63.8 698.68,-50.24 674.39,-39.12\"/>\n",
       "<polygon fill=\"black\" stroke=\"black\" points=\"675.58,-35.82 665.03,-34.84 672.67,-42.19 675.58,-35.82\"/>\n",
       "</g>\n",
       "<!-- Total Travel Time&#45;&gt;Utility (Shared Ride 3+) -->\n",
       "<g id=\"edge1\" class=\"edge\">\n",
       "<title>Total Travel Time&#45;&gt;Utility (Shared Ride 3+)</title>\n",
       "<path fill=\"none\" stroke=\"black\" d=\"M288.16,-77.56C297.56,-75.64 307.26,-73.72 316.41,-72 395.44,-57.14 486.05,-42.06 549.55,-31.8\"/>\n",
       "<polygon fill=\"black\" stroke=\"black\" points=\"550.19,-35.24 559.5,-30.2 549.07,-28.33 550.19,-35.24\"/>\n",
       "</g>\n",
       "<!-- Number of Kids -->\n",
       "<g id=\"node7\" class=\"node\">\n",
       "<title>Number of Kids</title>\n",
       "<ellipse fill=\"none\" stroke=\"black\" cx=\"940.41\" cy=\"-90\" rx=\"67.66\" ry=\"18\"/>\n",
       "<text text-anchor=\"middle\" x=\"940.41\" y=\"-85.8\" font-family=\"Times,serif\" font-size=\"14.00\">Number of Kids</text>\n",
       "</g>\n",
       "<!-- Number of Kids&#45;&gt;Utility (Shared Ride 3+) -->\n",
       "<g id=\"edge9\" class=\"edge\">\n",
       "<title>Number of Kids&#45;&gt;Utility (Shared Ride 3+)</title>\n",
       "<path fill=\"none\" stroke=\"black\" d=\"M890.6,-77.75C838.75,-66.04 757.15,-47.62 699.17,-34.53\"/>\n",
       "<polygon fill=\"black\" stroke=\"black\" points=\"699.88,-31.1 689.35,-32.31 698.34,-37.93 699.88,-31.1\"/>\n",
       "</g>\n",
       "<!-- Household Size -->\n",
       "<g id=\"node9\" class=\"node\">\n",
       "<title>Household Size</title>\n",
       "<ellipse fill=\"none\" stroke=\"black\" cx=\"1091.41\" cy=\"-90\" rx=\"65.72\" ry=\"18\"/>\n",
       "<text text-anchor=\"middle\" x=\"1091.41\" y=\"-85.8\" font-family=\"Times,serif\" font-size=\"14.00\">Household Size</text>\n",
       "</g>\n",
       "<!-- Household Size&#45;&gt;Utility (Shared Ride 3+) -->\n",
       "<g id=\"edge8\" class=\"edge\">\n",
       "<title>Household Size&#45;&gt;Utility (Shared Ride 3+)</title>\n",
       "<path fill=\"none\" stroke=\"black\" d=\"M1043.77,-77.39C1035.03,-75.45 1025.96,-73.57 1017.41,-72 916.7,-53.57 800.18,-38.45 721.52,-29.14\"/>\n",
       "<polygon fill=\"black\" stroke=\"black\" points=\"721.5,-25.61 711.16,-27.92 720.68,-32.56 721.5,-25.61\"/>\n",
       "</g>\n",
       "</g>\n",
       "</svg>\n"
      ],
      "text/plain": [
       "<graphviz.dot.Digraph at 0x101deb2d0>"
      ]
     },
     "execution_count": 17,
     "metadata": {},
     "output_type": "execute_result"
    }
   ],
   "source": [
    "# Define the causal model\n",
    "V_Shared_3p = CausalGraphicalModel(nodes=[\"Total Travel Time\",\n",
    "                                         \"Total Travel Distance\",\n",
    "                                         \"Total Travel Cost\",\n",
    "                                         \"Cross Bay Trip\",\n",
    "                                         \"Number of Autos\",\n",
    "                                         \"Number of Licensed Drivers\",\n",
    "                                         \"Household Size\",\n",
    "                                         \"Number of Kids\",\n",
    "                                         \"Utility (Shared Ride 3+)\"],\n",
    "                                  edges=[(\"Total Travel Distance\",\"Total Travel Time\"),\n",
    "                                         (\"Total Travel Distance\",\"Total Travel Cost\"),\n",
    "                                         (\"Total Travel Time\", \"Utility (Shared Ride 3+)\"),\n",
    "                                         (\"Number of Autos\", \"Utility (Shared Ride 3+)\"),\n",
    "                                         (\"Number of Licensed Drivers\", \"Utility (Shared Ride 3+)\"),\n",
    "                                         (\"Total Travel Cost\", \"Utility (Shared Ride 3+)\"),\n",
    "                                         (\"Household Size\", \"Utility (Shared Ride 3+)\"),\n",
    "                                         (\"Cross Bay Trip\", \"Utility (Shared Ride 3+)\"),\n",
    "                                         (\"Number of Kids\", \"Utility (Shared Ride 3+)\")\n",
    "    ]\n",
    ")\n",
    "\n",
    "# draw the causal model\n",
    "V_Shared_3p.draw()"
   ]
  },
  {
   "cell_type": "code",
   "execution_count": 18,
   "metadata": {},
   "outputs": [
    {
     "data": {
      "image/svg+xml": [
       "<?xml version=\"1.0\" encoding=\"UTF-8\" standalone=\"no\"?>\n",
       "<!DOCTYPE svg PUBLIC \"-//W3C//DTD SVG 1.1//EN\"\n",
       " \"http://www.w3.org/Graphics/SVG/1.1/DTD/svg11.dtd\">\n",
       "<!-- Generated by graphviz version 2.42.3 (20191010.1750)\n",
       " -->\n",
       "<!-- Title: %3 Pages: 1 -->\n",
       "<svg width=\"393pt\" height=\"188pt\"\n",
       " viewBox=\"0.00 0.00 392.53 188.00\" xmlns=\"http://www.w3.org/2000/svg\" xmlns:xlink=\"http://www.w3.org/1999/xlink\">\n",
       "<g id=\"graph0\" class=\"graph\" transform=\"scale(1 1) rotate(0) translate(4 184)\">\n",
       "<title>%3</title>\n",
       "<polygon fill=\"white\" stroke=\"transparent\" points=\"-4,4 -4,-184 388.53,-184 388.53,4 -4,4\"/>\n",
       "<!-- Total Travel Distance -->\n",
       "<g id=\"node1\" class=\"node\">\n",
       "<title>Total Travel Distance</title>\n",
       "<ellipse fill=\"none\" stroke=\"black\" cx=\"86.13\" cy=\"-162\" rx=\"86.25\" ry=\"18\"/>\n",
       "<text text-anchor=\"middle\" x=\"86.13\" y=\"-157.8\" font-family=\"Times,serif\" font-size=\"14.00\">Total Travel Distance</text>\n",
       "</g>\n",
       "<!-- Utility (WTW) -->\n",
       "<g id=\"node2\" class=\"node\">\n",
       "<title>Utility (WTW)</title>\n",
       "<ellipse fill=\"none\" stroke=\"black\" cx=\"263.13\" cy=\"-18\" rx=\"63.29\" ry=\"18\"/>\n",
       "<text text-anchor=\"middle\" x=\"263.13\" y=\"-13.8\" font-family=\"Times,serif\" font-size=\"14.00\">Utility (WTW)</text>\n",
       "</g>\n",
       "<!-- Total Travel Time -->\n",
       "<g id=\"node3\" class=\"node\">\n",
       "<title>Total Travel Time</title>\n",
       "<ellipse fill=\"none\" stroke=\"black\" cx=\"264.13\" cy=\"-162\" rx=\"73.28\" ry=\"18\"/>\n",
       "<text text-anchor=\"middle\" x=\"264.13\" y=\"-157.8\" font-family=\"Times,serif\" font-size=\"14.00\">Total Travel Time</text>\n",
       "</g>\n",
       "<!-- Total Travel Time&#45;&gt;Utility (WTW) -->\n",
       "<g id=\"edge2\" class=\"edge\">\n",
       "<title>Total Travel Time&#45;&gt;Utility (WTW)</title>\n",
       "<path fill=\"none\" stroke=\"black\" d=\"M250.98,-143.91C244.2,-134.01 236.64,-120.96 233.13,-108 228.94,-92.56 229.05,-87.47 233.13,-72 235.66,-62.39 240.38,-52.69 245.33,-44.26\"/>\n",
       "<polygon fill=\"black\" stroke=\"black\" points=\"248.36,-46.02 250.71,-35.68 242.43,-42.3 248.36,-46.02\"/>\n",
       "</g>\n",
       "<!-- Total Travel Cost -->\n",
       "<g id=\"node4\" class=\"node\">\n",
       "<title>Total Travel Cost</title>\n",
       "<ellipse fill=\"none\" stroke=\"black\" cx=\"313.13\" cy=\"-90\" rx=\"71.31\" ry=\"18\"/>\n",
       "<text text-anchor=\"middle\" x=\"313.13\" y=\"-85.8\" font-family=\"Times,serif\" font-size=\"14.00\">Total Travel Cost</text>\n",
       "</g>\n",
       "<!-- Total Travel Time&#45;&gt;Total Travel Cost -->\n",
       "<g id=\"edge1\" class=\"edge\">\n",
       "<title>Total Travel Time&#45;&gt;Total Travel Cost</title>\n",
       "<path fill=\"none\" stroke=\"black\" d=\"M275.99,-144.05C281.83,-135.71 288.98,-125.49 295.45,-116.25\"/>\n",
       "<polygon fill=\"black\" stroke=\"black\" points=\"298.51,-117.99 301.37,-107.79 292.77,-113.97 298.51,-117.99\"/>\n",
       "</g>\n",
       "<!-- Total Travel Cost&#45;&gt;Utility (WTW) -->\n",
       "<g id=\"edge3\" class=\"edge\">\n",
       "<title>Total Travel Cost&#45;&gt;Utility (WTW)</title>\n",
       "<path fill=\"none\" stroke=\"black\" d=\"M301.02,-72.05C295,-63.63 287.61,-53.28 280.96,-43.97\"/>\n",
       "<polygon fill=\"black\" stroke=\"black\" points=\"283.78,-41.89 275.12,-35.79 278.08,-45.96 283.78,-41.89\"/>\n",
       "</g>\n",
       "</g>\n",
       "</svg>\n"
      ],
      "text/plain": [
       "<graphviz.dot.Digraph at 0x101deb210>"
      ]
     },
     "execution_count": 18,
     "metadata": {},
     "output_type": "execute_result"
    }
   ],
   "source": [
    "# Define the causal model\n",
    "V_WTW = CausalGraphicalModel(nodes=[\"Total Travel Distance\",\n",
    "                                    \"Total Travel Time\",\n",
    "                                    \"Total Travel Cost\",\n",
    "                                    \"Utility (WTW)\"],\n",
    "                                  edges=[(\"Total Travel Time\", \"Total Travel Cost\"),\n",
    "                                         (\"Total Travel Time\", \"Utility (WTW)\"),\n",
    "                                         (\"Total Travel Cost\", \"Utility (WTW)\")\n",
    "    ]\n",
    ")\n",
    "\n",
    "# draw the causal model\n",
    "V_WTW.draw()"
   ]
  },
  {
   "cell_type": "code",
   "execution_count": 19,
   "metadata": {},
   "outputs": [
    {
     "data": {
      "image/svg+xml": [
       "<?xml version=\"1.0\" encoding=\"UTF-8\" standalone=\"no\"?>\n",
       "<!DOCTYPE svg PUBLIC \"-//W3C//DTD SVG 1.1//EN\"\n",
       " \"http://www.w3.org/Graphics/SVG/1.1/DTD/svg11.dtd\">\n",
       "<!-- Generated by graphviz version 2.42.3 (20191010.1750)\n",
       " -->\n",
       "<!-- Title: %3 Pages: 1 -->\n",
       "<svg width=\"203pt\" height=\"188pt\"\n",
       " viewBox=\"0.00 0.00 202.80 188.00\" xmlns=\"http://www.w3.org/2000/svg\" xmlns:xlink=\"http://www.w3.org/1999/xlink\">\n",
       "<g id=\"graph0\" class=\"graph\" transform=\"scale(1 1) rotate(0) translate(4 184)\">\n",
       "<title>%3</title>\n",
       "<polygon fill=\"white\" stroke=\"transparent\" points=\"-4,4 -4,-184 198.8,-184 198.8,4 -4,4\"/>\n",
       "<!-- Utility (DTW) -->\n",
       "<g id=\"node1\" class=\"node\">\n",
       "<title>Utility (DTW)</title>\n",
       "<ellipse fill=\"none\" stroke=\"black\" cx=\"73.39\" cy=\"-18\" rx=\"61.37\" ry=\"18\"/>\n",
       "<text text-anchor=\"middle\" x=\"73.39\" y=\"-13.8\" font-family=\"Times,serif\" font-size=\"14.00\">Utility (DTW)</text>\n",
       "</g>\n",
       "<!-- Total Travel Time -->\n",
       "<g id=\"node2\" class=\"node\">\n",
       "<title>Total Travel Time</title>\n",
       "<ellipse fill=\"none\" stroke=\"black\" cx=\"73.39\" cy=\"-162\" rx=\"73.28\" ry=\"18\"/>\n",
       "<text text-anchor=\"middle\" x=\"73.39\" y=\"-157.8\" font-family=\"Times,serif\" font-size=\"14.00\">Total Travel Time</text>\n",
       "</g>\n",
       "<!-- Total Travel Time&#45;&gt;Utility (DTW) -->\n",
       "<g id=\"edge2\" class=\"edge\">\n",
       "<title>Total Travel Time&#45;&gt;Utility (DTW)</title>\n",
       "<path fill=\"none\" stroke=\"black\" d=\"M60.66,-143.85C54.1,-133.92 46.78,-120.88 43.39,-108 39.31,-92.53 39.31,-87.47 43.39,-72 45.92,-62.39 50.64,-52.69 55.59,-44.26\"/>\n",
       "<polygon fill=\"black\" stroke=\"black\" points=\"58.63,-46.02 60.97,-35.68 52.7,-42.3 58.63,-46.02\"/>\n",
       "</g>\n",
       "<!-- Total Travel Cost -->\n",
       "<g id=\"node3\" class=\"node\">\n",
       "<title>Total Travel Cost</title>\n",
       "<ellipse fill=\"none\" stroke=\"black\" cx=\"123.39\" cy=\"-90\" rx=\"71.31\" ry=\"18\"/>\n",
       "<text text-anchor=\"middle\" x=\"123.39\" y=\"-85.8\" font-family=\"Times,serif\" font-size=\"14.00\">Total Travel Cost</text>\n",
       "</g>\n",
       "<!-- Total Travel Time&#45;&gt;Total Travel Cost -->\n",
       "<g id=\"edge1\" class=\"edge\">\n",
       "<title>Total Travel Time&#45;&gt;Total Travel Cost</title>\n",
       "<path fill=\"none\" stroke=\"black\" d=\"M85.49,-144.05C91.51,-135.63 98.9,-125.28 105.56,-115.97\"/>\n",
       "<polygon fill=\"black\" stroke=\"black\" points=\"108.43,-117.96 111.4,-107.79 102.74,-113.89 108.43,-117.96\"/>\n",
       "</g>\n",
       "<!-- Total Travel Cost&#45;&gt;Utility (DTW) -->\n",
       "<g id=\"edge3\" class=\"edge\">\n",
       "<title>Total Travel Cost&#45;&gt;Utility (DTW)</title>\n",
       "<path fill=\"none\" stroke=\"black\" d=\"M111.28,-72.05C105.27,-63.63 97.87,-53.28 91.22,-43.97\"/>\n",
       "<polygon fill=\"black\" stroke=\"black\" points=\"94.04,-41.89 85.38,-35.79 88.35,-45.96 94.04,-41.89\"/>\n",
       "</g>\n",
       "</g>\n",
       "</svg>\n"
      ],
      "text/plain": [
       "<graphviz.dot.Digraph at 0x101e29350>"
      ]
     },
     "execution_count": 19,
     "metadata": {},
     "output_type": "execute_result"
    }
   ],
   "source": [
    "# Define the causal model\n",
    "V_DTW = CausalGraphicalModel(nodes=[\"Total Travel Time\",\n",
    "                                         \"Total Travel Cost\",\n",
    "                                         \"Utility (DTW)\"],\n",
    "                             edges=[(\"Total Travel Time\", \"Total Travel Cost\"),\n",
    "                                         (\"Total Travel Time\", \"Utility (DTW)\"),\n",
    "                                         (\"Total Travel Cost\", \"Utility (DTW)\")\n",
    "    ]\n",
    ")\n",
    "\n",
    "# draw the causal model\n",
    "V_DTW.draw()"
   ]
  },
  {
   "cell_type": "code",
   "execution_count": 20,
   "metadata": {},
   "outputs": [
    {
     "data": {
      "image/svg+xml": [
       "<?xml version=\"1.0\" encoding=\"UTF-8\" standalone=\"no\"?>\n",
       "<!DOCTYPE svg PUBLIC \"-//W3C//DTD SVG 1.1//EN\"\n",
       " \"http://www.w3.org/Graphics/SVG/1.1/DTD/svg11.dtd\">\n",
       "<!-- Generated by graphviz version 2.42.3 (20191010.1750)\n",
       " -->\n",
       "<!-- Title: %3 Pages: 1 -->\n",
       "<svg width=\"203pt\" height=\"188pt\"\n",
       " viewBox=\"0.00 0.00 202.80 188.00\" xmlns=\"http://www.w3.org/2000/svg\" xmlns:xlink=\"http://www.w3.org/1999/xlink\">\n",
       "<g id=\"graph0\" class=\"graph\" transform=\"scale(1 1) rotate(0) translate(4 184)\">\n",
       "<title>%3</title>\n",
       "<polygon fill=\"white\" stroke=\"transparent\" points=\"-4,4 -4,-184 198.8,-184 198.8,4 -4,4\"/>\n",
       "<!-- Utility (WTD) -->\n",
       "<g id=\"node1\" class=\"node\">\n",
       "<title>Utility (WTD)</title>\n",
       "<ellipse fill=\"none\" stroke=\"black\" cx=\"73.39\" cy=\"-18\" rx=\"61.37\" ry=\"18\"/>\n",
       "<text text-anchor=\"middle\" x=\"73.39\" y=\"-13.8\" font-family=\"Times,serif\" font-size=\"14.00\">Utility (WTD)</text>\n",
       "</g>\n",
       "<!-- Total Travel Time -->\n",
       "<g id=\"node2\" class=\"node\">\n",
       "<title>Total Travel Time</title>\n",
       "<ellipse fill=\"none\" stroke=\"black\" cx=\"73.39\" cy=\"-162\" rx=\"73.28\" ry=\"18\"/>\n",
       "<text text-anchor=\"middle\" x=\"73.39\" y=\"-157.8\" font-family=\"Times,serif\" font-size=\"14.00\">Total Travel Time</text>\n",
       "</g>\n",
       "<!-- Total Travel Time&#45;&gt;Utility (WTD) -->\n",
       "<g id=\"edge2\" class=\"edge\">\n",
       "<title>Total Travel Time&#45;&gt;Utility (WTD)</title>\n",
       "<path fill=\"none\" stroke=\"black\" d=\"M60.66,-143.85C54.1,-133.92 46.78,-120.88 43.39,-108 39.31,-92.53 39.31,-87.47 43.39,-72 45.92,-62.39 50.64,-52.69 55.59,-44.26\"/>\n",
       "<polygon fill=\"black\" stroke=\"black\" points=\"58.63,-46.02 60.97,-35.68 52.7,-42.3 58.63,-46.02\"/>\n",
       "</g>\n",
       "<!-- Total Travel Cost -->\n",
       "<g id=\"node3\" class=\"node\">\n",
       "<title>Total Travel Cost</title>\n",
       "<ellipse fill=\"none\" stroke=\"black\" cx=\"123.39\" cy=\"-90\" rx=\"71.31\" ry=\"18\"/>\n",
       "<text text-anchor=\"middle\" x=\"123.39\" y=\"-85.8\" font-family=\"Times,serif\" font-size=\"14.00\">Total Travel Cost</text>\n",
       "</g>\n",
       "<!-- Total Travel Time&#45;&gt;Total Travel Cost -->\n",
       "<g id=\"edge1\" class=\"edge\">\n",
       "<title>Total Travel Time&#45;&gt;Total Travel Cost</title>\n",
       "<path fill=\"none\" stroke=\"black\" d=\"M85.49,-144.05C91.51,-135.63 98.9,-125.28 105.56,-115.97\"/>\n",
       "<polygon fill=\"black\" stroke=\"black\" points=\"108.43,-117.96 111.4,-107.79 102.74,-113.89 108.43,-117.96\"/>\n",
       "</g>\n",
       "<!-- Total Travel Cost&#45;&gt;Utility (WTD) -->\n",
       "<g id=\"edge3\" class=\"edge\">\n",
       "<title>Total Travel Cost&#45;&gt;Utility (WTD)</title>\n",
       "<path fill=\"none\" stroke=\"black\" d=\"M111.28,-72.05C105.27,-63.63 97.87,-53.28 91.22,-43.97\"/>\n",
       "<polygon fill=\"black\" stroke=\"black\" points=\"94.04,-41.89 85.38,-35.79 88.35,-45.96 94.04,-41.89\"/>\n",
       "</g>\n",
       "</g>\n",
       "</svg>\n"
      ],
      "text/plain": [
       "<graphviz.dot.Digraph at 0x101e29c50>"
      ]
     },
     "execution_count": 20,
     "metadata": {},
     "output_type": "execute_result"
    }
   ],
   "source": [
    "# Define the causal model\n",
    "V_WTD = CausalGraphicalModel(nodes=[\"Total Travel Time\",\n",
    "                                    \"Total Travel Cost\",\n",
    "                                    \"Utility (WTD)\"],\n",
    "                             edges=[(\"Total Travel Time\", \"Total Travel Cost\"),\n",
    "                                    (\"Total Travel Time\", \"Utility (WTD)\"),\n",
    "                                    (\"Total Travel Cost\", \"Utility (WTD)\")\n",
    "    ]\n",
    ")\n",
    "\n",
    "# draw the causal model\n",
    "V_WTD.draw()"
   ]
  },
  {
   "cell_type": "code",
   "execution_count": 21,
   "metadata": {},
   "outputs": [
    {
     "data": {
      "image/svg+xml": [
       "<?xml version=\"1.0\" encoding=\"UTF-8\" standalone=\"no\"?>\n",
       "<!DOCTYPE svg PUBLIC \"-//W3C//DTD SVG 1.1//EN\"\n",
       " \"http://www.w3.org/Graphics/SVG/1.1/DTD/svg11.dtd\">\n",
       "<!-- Generated by graphviz version 2.42.3 (20191010.1750)\n",
       " -->\n",
       "<!-- Title: %3 Pages: 1 -->\n",
       "<svg width=\"180pt\" height=\"116pt\"\n",
       " viewBox=\"0.00 0.00 180.25 116.00\" xmlns=\"http://www.w3.org/2000/svg\" xmlns:xlink=\"http://www.w3.org/1999/xlink\">\n",
       "<g id=\"graph0\" class=\"graph\" transform=\"scale(1 1) rotate(0) translate(4 112)\">\n",
       "<title>%3</title>\n",
       "<polygon fill=\"white\" stroke=\"transparent\" points=\"-4,4 -4,-112 176.25,-112 176.25,4 -4,4\"/>\n",
       "<!-- Total Travel Distance -->\n",
       "<g id=\"node1\" class=\"node\">\n",
       "<title>Total Travel Distance</title>\n",
       "<ellipse fill=\"none\" stroke=\"black\" cx=\"86.13\" cy=\"-90\" rx=\"86.25\" ry=\"18\"/>\n",
       "<text text-anchor=\"middle\" x=\"86.13\" y=\"-85.8\" font-family=\"Times,serif\" font-size=\"14.00\">Total Travel Distance</text>\n",
       "</g>\n",
       "<!-- Utility (Walk) -->\n",
       "<g id=\"node2\" class=\"node\">\n",
       "<title>Utility (Walk)</title>\n",
       "<ellipse fill=\"none\" stroke=\"black\" cx=\"86.13\" cy=\"-18\" rx=\"60\" ry=\"18\"/>\n",
       "<text text-anchor=\"middle\" x=\"86.13\" y=\"-13.8\" font-family=\"Times,serif\" font-size=\"14.00\">Utility (Walk)</text>\n",
       "</g>\n",
       "<!-- Total Travel Distance&#45;&gt;Utility (Walk) -->\n",
       "<g id=\"edge1\" class=\"edge\">\n",
       "<title>Total Travel Distance&#45;&gt;Utility (Walk)</title>\n",
       "<path fill=\"none\" stroke=\"black\" d=\"M86.13,-71.7C86.13,-63.98 86.13,-54.71 86.13,-46.11\"/>\n",
       "<polygon fill=\"black\" stroke=\"black\" points=\"89.63,-46.1 86.13,-36.1 82.63,-46.1 89.63,-46.1\"/>\n",
       "</g>\n",
       "</g>\n",
       "</svg>\n"
      ],
      "text/plain": [
       "<graphviz.dot.Digraph at 0x112f2a390>"
      ]
     },
     "execution_count": 21,
     "metadata": {},
     "output_type": "execute_result"
    }
   ],
   "source": [
    "# Define the causal model\n",
    "V_Walk = CausalGraphicalModel(nodes=[\"Total Travel Distance\",\n",
    "                                     \"Utility (Walk)\"],\n",
    "                              edges=[(\"Total Travel Distance\", \"Utility (Walk)\")\n",
    "    ]\n",
    ")\n",
    "\n",
    "# draw the causal model\n",
    "V_Walk.draw()"
   ]
  },
  {
   "cell_type": "code",
   "execution_count": 22,
   "metadata": {},
   "outputs": [
    {
     "data": {
      "image/svg+xml": [
       "<?xml version=\"1.0\" encoding=\"UTF-8\" standalone=\"no\"?>\n",
       "<!DOCTYPE svg PUBLIC \"-//W3C//DTD SVG 1.1//EN\"\n",
       " \"http://www.w3.org/Graphics/SVG/1.1/DTD/svg11.dtd\">\n",
       "<!-- Generated by graphviz version 2.42.3 (20191010.1750)\n",
       " -->\n",
       "<!-- Title: %3 Pages: 1 -->\n",
       "<svg width=\"180pt\" height=\"116pt\"\n",
       " viewBox=\"0.00 0.00 180.25 116.00\" xmlns=\"http://www.w3.org/2000/svg\" xmlns:xlink=\"http://www.w3.org/1999/xlink\">\n",
       "<g id=\"graph0\" class=\"graph\" transform=\"scale(1 1) rotate(0) translate(4 112)\">\n",
       "<title>%3</title>\n",
       "<polygon fill=\"white\" stroke=\"transparent\" points=\"-4,4 -4,-112 176.25,-112 176.25,4 -4,4\"/>\n",
       "<!-- Total Travel Distance -->\n",
       "<g id=\"node1\" class=\"node\">\n",
       "<title>Total Travel Distance</title>\n",
       "<ellipse fill=\"none\" stroke=\"black\" cx=\"86.13\" cy=\"-90\" rx=\"86.25\" ry=\"18\"/>\n",
       "<text text-anchor=\"middle\" x=\"86.13\" y=\"-85.8\" font-family=\"Times,serif\" font-size=\"14.00\">Total Travel Distance</text>\n",
       "</g>\n",
       "<!-- Utility (Bike) -->\n",
       "<g id=\"node2\" class=\"node\">\n",
       "<title>Utility (Bike)</title>\n",
       "<ellipse fill=\"none\" stroke=\"black\" cx=\"86.13\" cy=\"-18\" rx=\"58.01\" ry=\"18\"/>\n",
       "<text text-anchor=\"middle\" x=\"86.13\" y=\"-13.8\" font-family=\"Times,serif\" font-size=\"14.00\">Utility (Bike)</text>\n",
       "</g>\n",
       "<!-- Total Travel Distance&#45;&gt;Utility (Bike) -->\n",
       "<g id=\"edge1\" class=\"edge\">\n",
       "<title>Total Travel Distance&#45;&gt;Utility (Bike)</title>\n",
       "<path fill=\"none\" stroke=\"black\" d=\"M86.13,-71.7C86.13,-63.98 86.13,-54.71 86.13,-46.11\"/>\n",
       "<polygon fill=\"black\" stroke=\"black\" points=\"89.63,-46.1 86.13,-36.1 82.63,-46.1 89.63,-46.1\"/>\n",
       "</g>\n",
       "</g>\n",
       "</svg>\n"
      ],
      "text/plain": [
       "<graphviz.dot.Digraph at 0x112f2ab90>"
      ]
     },
     "execution_count": 22,
     "metadata": {},
     "output_type": "execute_result"
    }
   ],
   "source": [
    "# Define the causal model\n",
    "V_Bike = CausalGraphicalModel(nodes=[\"Total Travel Distance\",\n",
    "                                     \"Utility (Bike)\"],\n",
    "                              edges=[(\"Total Travel Distance\", \"Utility (Bike)\")\n",
    "    ]\n",
    ")\n",
    "\n",
    "# draw the causal model\n",
    "V_Bike.draw()"
   ]
  },
  {
   "cell_type": "markdown",
   "metadata": {},
   "source": [
    "## 3.2. Distribution of Nodes without parents"
   ]
  },
  {
   "cell_type": "markdown",
   "metadata": {},
   "source": [
    "### 3.2.1. Set up all needed variables"
   ]
  },
  {
   "cell_type": "code",
   "execution_count": 23,
   "metadata": {},
   "outputs": [],
   "source": [
    "# Observation id column\n",
    "observation_id_col = 'observation_id'\n",
    "\n",
    "# Alternative id column\n",
    "alternative_id_col = 'mode_id'\n",
    "\n",
    "# Individual specific variables list\n",
    "individual_specific_variables = ['household_size','num_kids',\n",
    "                                'num_cars','num_licensed_drivers']\n",
    "\n",
    "# Alternative specific variables dictionary\n",
    "alternative_specific_dict = {1:['total_travel_distance'],\n",
    "                             2:['total_travel_distance'],\n",
    "                             3:['total_travel_distance'],\n",
    "                             4:['total_travel_time'],\n",
    "                             5:['total_travel_time'],\n",
    "                             6:['total_travel_time'],\n",
    "                             7:['total_travel_distance'],\n",
    "                             8:['total_travel_distance']}\n",
    "\n",
    "# Trip specific variables list\n",
    "trip_specific_variables = ['cross_bay']\n",
    "\n",
    "# Alternative name dictionary\n",
    "alternative_name_dict = {1: 'drive_alone',\n",
    "                         2: 'shared_2',\n",
    "                         3: 'shared_3p',\n",
    "                         4: 'wtw',\n",
    "                         5: 'dtw',\n",
    "                         6: 'wtd',\n",
    "                         7: 'walk',\n",
    "                         8: 'bike'}\n",
    "\n",
    "# Variable type Dictionary\n",
    "variable_type = {'num_kids': 'categorical',\n",
    "                 'household_size': 'categorical',\n",
    "                 'num_cars': 'categorical',\n",
    "                 'num_licensed_drivers': 'categorical',\n",
    "                 'cross_bay': 'categorical',\n",
    "                 'total_travel_time': 'continuous',\n",
    "                 'total_travel_distance': 'continuous',\n",
    "                 'total_travel_cost': 'continuous'}\n",
    "\n",
    "# Distribution to be explored for continuous variables\n",
    "distributions = ['normal', 'alpha', 'beta', 'gamma', 'expon', 'gumbel']"
   ]
  },
  {
   "cell_type": "markdown",
   "metadata": {},
   "source": [
    "### 3.2.2. Find Distributions of nodes without parents "
   ]
  },
  {
   "cell_type": "code",
   "execution_count": 24,
   "metadata": {},
   "outputs": [
    {
     "name": "stdout",
     "output_type": "stream",
     "text": [
      "SKIPPED normal distribution (taking more than 30 seconds)\n",
      "Fitted alpha distribution with error=0.014522128648725777)\n",
      "Fitted beta distribution with error=0.0011963782652540424)\n"
     ]
    },
    {
     "name": "stderr",
     "output_type": "stream",
     "text": [
      "/Users/mobouzaghrane/opt/anaconda3/lib/python3.7/site-packages/scipy/stats/_distn_infrastructure.py:2381: RuntimeWarning: invalid value encountered in double_scalars\n",
      "  Lhat = muhat - Shat*mu\n",
      "/Users/mobouzaghrane/opt/anaconda3/lib/python3.7/site-packages/scipy/stats/_continuous_distns.py:515: RuntimeWarning: invalid value encountered in sqrt\n",
      "  sk = 2*(b-a)*np.sqrt(a + b + 1) / (a + b + 2) / np.sqrt(a*b)\n",
      "/Users/mobouzaghrane/opt/anaconda3/lib/python3.7/site-packages/scipy/optimize/minpack.py:162: RuntimeWarning: The iteration is not making good progress, as measured by the \n",
      "  improvement from the last ten iterations.\n",
      "  warnings.warn(msg, RuntimeWarning)\n"
     ]
    },
    {
     "name": "stdout",
     "output_type": "stream",
     "text": [
      "Fitted gamma distribution with error=0.0011394543473683448)\n",
      "Fitted expon distribution with error=0.002052652669300775)\n",
      "SKIPPED gumbel distribution (taking more than 30 seconds)\n",
      "SKIPPED normal distribution (taking more than 30 seconds)\n",
      "Fitted alpha distribution with error=0.014457810916552023)\n",
      "Fitted beta distribution with error=0.0012976882508515305)\n",
      "Fitted gamma distribution with error=0.0012552378475140624)\n",
      "Fitted expon distribution with error=0.0019967778289294194)\n",
      "SKIPPED gumbel distribution (taking more than 30 seconds)\n",
      "SKIPPED normal distribution (taking more than 30 seconds)\n",
      "Fitted alpha distribution with error=0.014462601227138085)\n",
      "Fitted beta distribution with error=0.001276124018206852)\n",
      "Fitted gamma distribution with error=0.0012547975031013958)\n",
      "Fitted expon distribution with error=0.0020004181046601524)\n",
      "SKIPPED gumbel distribution (taking more than 30 seconds)\n",
      "SKIPPED normal distribution (taking more than 30 seconds)\n",
      "Fitted alpha distribution with error=0.00010782141835446614)\n",
      "Fitted beta distribution with error=0.00011146390130275948)\n",
      "Fitted gamma distribution with error=0.00010902380039568413)\n",
      "Fitted expon distribution with error=0.0006821775284529087)\n",
      "SKIPPED gumbel distribution (taking more than 30 seconds)\n",
      "SKIPPED normal distribution (taking more than 30 seconds)\n",
      "Fitted alpha distribution with error=6.672556141363111e-05)\n",
      "Fitted beta distribution with error=6.196777802352273e-05)\n",
      "Fitted gamma distribution with error=6.08535018564024e-05)\n",
      "Fitted expon distribution with error=0.0007188034183935458)\n",
      "SKIPPED gumbel distribution (taking more than 30 seconds)\n",
      "SKIPPED normal distribution (taking more than 30 seconds)\n",
      "Fitted alpha distribution with error=8.054952402098987e-05)\n",
      "Fitted beta distribution with error=8.156641381917802e-05)\n",
      "Fitted gamma distribution with error=8.048390439269993e-05)\n",
      "Fitted expon distribution with error=0.0008900680532886661)\n",
      "SKIPPED gumbel distribution (taking more than 30 seconds)\n",
      "SKIPPED normal distribution (taking more than 30 seconds)\n",
      "Fitted alpha distribution with error=0.0008972367532526685)\n",
      "Fitted beta distribution with error=0.002377025832720183)\n",
      "Fitted gamma distribution with error=0.002275034836025737)\n",
      "Fitted expon distribution with error=0.003469333861343498)\n",
      "SKIPPED gumbel distribution (taking more than 30 seconds)\n",
      "SKIPPED normal distribution (taking more than 30 seconds)\n",
      "Fitted alpha distribution with error=0.0007221359033952726)\n",
      "Fitted beta distribution with error=0.0024566904071273085)\n",
      "Fitted gamma distribution with error=0.0024407152169873807)\n",
      "Fitted expon distribution with error=0.004178416793754377)\n",
      "SKIPPED gumbel distribution (taking more than 30 seconds)\n"
     ]
    }
   ],
   "source": [
    "bike_data_params = DistNodeNoParent(data_long=bike_data_long,\n",
    "                                    alt_id_col=alternative_id_col,\n",
    "                                    obs_id_col=observation_id_col,\n",
    "                                    alt_spec_dic=alternative_specific_dict,\n",
    "                                    alt_name_dic=alternative_name_dict,\n",
    "                                    ind_spec=individual_specific_variables,\n",
    "                                    trip_spec=trip_specific_variables,\n",
    "                                    var_types=variable_type,\n",
    "                                    cont_dists=distributions)"
   ]
  },
  {
   "cell_type": "code",
   "execution_count": 25,
   "metadata": {},
   "outputs": [
    {
     "data": {
      "text/plain": [
       "{'household_size': {'distribution': 'categorical',\n",
       "  'parameters': [array([0., 1., 2., 3., 4., 5., 6., 7., 8.]),\n",
       "   array([0.        , 0.08341658, 0.2465035 , 0.20704296, 0.29220779,\n",
       "          0.12012987, 0.02997003, 0.00949051, 0.01123876])]},\n",
       " 'num_kids': {'distribution': 'categorical',\n",
       "  'parameters': [array([0, 1, 2, 3, 4, 5, 6]),\n",
       "   array([0.46603397, 0.17682318, 0.25624376, 0.07642358, 0.01598402,\n",
       "          0.00699301, 0.0014985 ])]},\n",
       " 'num_cars': {'distribution': 'categorical',\n",
       "  'parameters': [array([0., 1., 2., 3., 4., 5., 6., 7., 8.]),\n",
       "   array([0.0516983 , 0.23976024, 0.48676324, 0.17057942, 0.03996004,\n",
       "          0.00674326, 0.0024975 , 0.000999  , 0.000999  ])]},\n",
       " 'num_licensed_drivers': {'distribution': 'categorical',\n",
       "  'parameters': [array([0., 1., 2., 3., 4., 5., 6.]),\n",
       "   array([1.12387612e-02, 1.45604396e-01, 6.15134865e-01, 1.73576424e-01,\n",
       "          4.47052947e-02, 9.24075924e-03, 4.99500500e-04])]},\n",
       " 'total_travel_distance_drive_alone': {'distribution': 'gamma',\n",
       "  'parameters': (0.7944517942940816, 0.39999999999999997, 19.10566310726253)},\n",
       " 'total_travel_distance_shared_2': {'distribution': 'gamma',\n",
       "  'parameters': (0.8148950757692075, 0.29999999999999993, 18.40250347572789)},\n",
       " 'total_travel_distance_shared_3p': {'distribution': 'gamma',\n",
       "  'parameters': (0.8135746709638757, 0.29999999999999993, 18.437320030510342)},\n",
       " 'total_travel_time_wtw': {'distribution': 'alpha',\n",
       "  'parameters': (3.9577465114167927, -98.3112671568787, 749.7787691208105)},\n",
       " 'total_travel_time_dtw': {'distribution': 'gamma',\n",
       "  'parameters': (2.6059274863539046, 8.099701135792749, 30.976197249989433)},\n",
       " 'total_travel_time_wtd': {'distribution': 'gamma',\n",
       "  'parameters': (2.547895345348514, 7.666262097694567, 30.99344922438852)},\n",
       " 'total_travel_distance_walk': {'distribution': 'alpha',\n",
       "  'parameters': (1.985330145127784e-06,\n",
       "   -1.6062753376988779,\n",
       "   5.430955769911186)},\n",
       " 'total_travel_distance_bike': {'distribution': 'alpha',\n",
       "  'parameters': (0.0023562351887384068,\n",
       "   -1.4282411165328406,\n",
       "   4.999096383807641)},\n",
       " 'cross_bay': {'distribution': 'categorical',\n",
       "  'parameters': [array([0, 1]), array([0.94005994, 0.05994006])]}}"
      ]
     },
     "execution_count": 25,
     "metadata": {},
     "output_type": "execute_result"
    }
   ],
   "source": [
    "bike_data_params"
   ]
  },
  {
   "cell_type": "markdown",
   "metadata": {},
   "source": [
    "## 3.3. Regressions for each causal graph "
   ]
  },
  {
   "cell_type": "markdown",
   "metadata": {},
   "source": [
    "### 3.3.1. Drive Alone "
   ]
  },
  {
   "cell_type": "code",
   "execution_count": 26,
   "metadata": {},
   "outputs": [
    {
     "data": {
      "image/svg+xml": [
       "<?xml version=\"1.0\" encoding=\"UTF-8\" standalone=\"no\"?>\n",
       "<!DOCTYPE svg PUBLIC \"-//W3C//DTD SVG 1.1//EN\"\n",
       " \"http://www.w3.org/Graphics/SVG/1.1/DTD/svg11.dtd\">\n",
       "<!-- Generated by graphviz version 2.42.3 (20191010.1750)\n",
       " -->\n",
       "<!-- Title: %3 Pages: 1 -->\n",
       "<svg width=\"718pt\" height=\"188pt\"\n",
       " viewBox=\"0.00 0.00 717.93 188.00\" xmlns=\"http://www.w3.org/2000/svg\" xmlns:xlink=\"http://www.w3.org/1999/xlink\">\n",
       "<g id=\"graph0\" class=\"graph\" transform=\"scale(1 1) rotate(0) translate(4 184)\">\n",
       "<title>%3</title>\n",
       "<polygon fill=\"white\" stroke=\"transparent\" points=\"-4,4 -4,-184 713.93,-184 713.93,4 -4,4\"/>\n",
       "<!-- Total Travel Distance -->\n",
       "<g id=\"node1\" class=\"node\">\n",
       "<title>Total Travel Distance</title>\n",
       "<ellipse fill=\"none\" stroke=\"black\" cx=\"152.41\" cy=\"-162\" rx=\"86.25\" ry=\"18\"/>\n",
       "<text text-anchor=\"middle\" x=\"152.41\" y=\"-157.8\" font-family=\"Times,serif\" font-size=\"14.00\">Total Travel Distance</text>\n",
       "</g>\n",
       "<!-- Total Travel Cost -->\n",
       "<g id=\"node3\" class=\"node\">\n",
       "<title>Total Travel Cost</title>\n",
       "<ellipse fill=\"none\" stroke=\"black\" cx=\"71.41\" cy=\"-90\" rx=\"71.31\" ry=\"18\"/>\n",
       "<text text-anchor=\"middle\" x=\"71.41\" y=\"-85.8\" font-family=\"Times,serif\" font-size=\"14.00\">Total Travel Cost</text>\n",
       "</g>\n",
       "<!-- Total Travel Distance&#45;&gt;Total Travel Cost -->\n",
       "<g id=\"edge2\" class=\"edge\">\n",
       "<title>Total Travel Distance&#45;&gt;Total Travel Cost</title>\n",
       "<path fill=\"none\" stroke=\"black\" d=\"M133.21,-144.41C122.72,-135.34 109.56,-123.97 98.09,-114.06\"/>\n",
       "<polygon fill=\"black\" stroke=\"black\" points=\"100.32,-111.36 90.46,-107.47 95.74,-116.66 100.32,-111.36\"/>\n",
       "</g>\n",
       "<!-- Total Travel Time -->\n",
       "<g id=\"node5\" class=\"node\">\n",
       "<title>Total Travel Time</title>\n",
       "<ellipse fill=\"none\" stroke=\"black\" cx=\"234.41\" cy=\"-90\" rx=\"73.28\" ry=\"18\"/>\n",
       "<text text-anchor=\"middle\" x=\"234.41\" y=\"-85.8\" font-family=\"Times,serif\" font-size=\"14.00\">Total Travel Time</text>\n",
       "</g>\n",
       "<!-- Total Travel Distance&#45;&gt;Total Travel Time -->\n",
       "<g id=\"edge1\" class=\"edge\">\n",
       "<title>Total Travel Distance&#45;&gt;Total Travel Time</title>\n",
       "<path fill=\"none\" stroke=\"black\" d=\"M171.84,-144.41C182.46,-135.34 195.78,-123.97 207.4,-114.06\"/>\n",
       "<polygon fill=\"black\" stroke=\"black\" points=\"209.78,-116.62 215.11,-107.47 205.24,-111.3 209.78,-116.62\"/>\n",
       "</g>\n",
       "<!-- Number of Licensed Drivers -->\n",
       "<g id=\"node2\" class=\"node\">\n",
       "<title>Number of Licensed Drivers</title>\n",
       "<ellipse fill=\"none\" stroke=\"black\" cx=\"437.41\" cy=\"-90\" rx=\"111.55\" ry=\"18\"/>\n",
       "<text text-anchor=\"middle\" x=\"437.41\" y=\"-85.8\" font-family=\"Times,serif\" font-size=\"14.00\">Number of Licensed Drivers</text>\n",
       "</g>\n",
       "<!-- Utility (Drive Alone) -->\n",
       "<g id=\"node6\" class=\"node\">\n",
       "<title>Utility (Drive Alone)</title>\n",
       "<ellipse fill=\"none\" stroke=\"black\" cx=\"335.41\" cy=\"-18\" rx=\"84.55\" ry=\"18\"/>\n",
       "<text text-anchor=\"middle\" x=\"335.41\" y=\"-13.8\" font-family=\"Times,serif\" font-size=\"14.00\">Utility (Drive Alone)</text>\n",
       "</g>\n",
       "<!-- Number of Licensed Drivers&#45;&gt;Utility (Drive Alone) -->\n",
       "<g id=\"edge6\" class=\"edge\">\n",
       "<title>Number of Licensed Drivers&#45;&gt;Utility (Drive Alone)</title>\n",
       "<path fill=\"none\" stroke=\"black\" d=\"M413.23,-72.41C399.64,-63.08 382.5,-51.32 367.76,-41.2\"/>\n",
       "<polygon fill=\"black\" stroke=\"black\" points=\"369.63,-38.24 359.41,-35.47 365.67,-44.01 369.63,-38.24\"/>\n",
       "</g>\n",
       "<!-- Total Travel Cost&#45;&gt;Utility (Drive Alone) -->\n",
       "<g id=\"edge4\" class=\"edge\">\n",
       "<title>Total Travel Cost&#45;&gt;Utility (Drive Alone)</title>\n",
       "<path fill=\"none\" stroke=\"black\" d=\"M118.6,-76.49C162.22,-64.92 227.26,-47.68 274.72,-35.09\"/>\n",
       "<polygon fill=\"black\" stroke=\"black\" points=\"275.8,-38.43 284.57,-32.48 274,-31.66 275.8,-38.43\"/>\n",
       "</g>\n",
       "<!-- Number of Autos -->\n",
       "<g id=\"node4\" class=\"node\">\n",
       "<title>Number of Autos</title>\n",
       "<ellipse fill=\"none\" stroke=\"black\" cx=\"638.41\" cy=\"-90\" rx=\"71.54\" ry=\"18\"/>\n",
       "<text text-anchor=\"middle\" x=\"638.41\" y=\"-85.8\" font-family=\"Times,serif\" font-size=\"14.00\">Number of Autos</text>\n",
       "</g>\n",
       "<!-- Number of Autos&#45;&gt;Utility (Drive Alone) -->\n",
       "<g id=\"edge5\" class=\"edge\">\n",
       "<title>Number of Autos&#45;&gt;Utility (Drive Alone)</title>\n",
       "<path fill=\"none\" stroke=\"black\" d=\"M587.69,-77.28C536.2,-65.39 456.28,-46.92 400.22,-33.97\"/>\n",
       "<polygon fill=\"black\" stroke=\"black\" points=\"400.92,-30.54 390.39,-31.7 399.35,-37.36 400.92,-30.54\"/>\n",
       "</g>\n",
       "<!-- Total Travel Time&#45;&gt;Utility (Drive Alone) -->\n",
       "<g id=\"edge3\" class=\"edge\">\n",
       "<title>Total Travel Time&#45;&gt;Utility (Drive Alone)</title>\n",
       "<path fill=\"none\" stroke=\"black\" d=\"M257.83,-72.76C271.37,-63.38 288.6,-51.44 303.39,-41.19\"/>\n",
       "<polygon fill=\"black\" stroke=\"black\" points=\"305.53,-43.96 311.76,-35.39 301.55,-38.21 305.53,-43.96\"/>\n",
       "</g>\n",
       "</g>\n",
       "</svg>\n"
      ],
      "text/plain": [
       "<graphviz.dot.Digraph at 0x113122b50>"
      ]
     },
     "execution_count": 26,
     "metadata": {},
     "output_type": "execute_result"
    }
   ],
   "source": [
    "V_Drive_Alone.draw()"
   ]
  },
  {
   "cell_type": "code",
   "execution_count": 27,
   "metadata": {},
   "outputs": [
    {
     "name": "stderr",
     "output_type": "stream",
     "text": [
      "/Users/mobouzaghrane/opt/anaconda3/lib/python3.7/site-packages/numpy/core/fromnumeric.py:2495: FutureWarning: Method .ptp is deprecated and will be removed in a future version. Use numpy.ptp instead.\n",
      "  return ptp(axis=axis, out=out, **kwargs)\n"
     ]
    }
   ],
   "source": [
    "Drive_Alone_Df = bike_data_long[bike_data_long['mode_id']==1]\n",
    "Drive_Alone_Df.reset_index(drop=True,inplace=True)\n",
    "Drive_Alone_Reg = FitAlternativeRegression(regressions={1:('total_travel_distance','total_travel_cost'),\n",
    "                                                        2:('total_travel_distance','total_travel_time')},\n",
    "                                           reg_types={1:'linear',2:'linear'},\n",
    "                                           data = Drive_Alone_Df)"
   ]
  },
  {
   "cell_type": "markdown",
   "metadata": {},
   "source": [
    "### 3.3.2. Shared-2"
   ]
  },
  {
   "cell_type": "code",
   "execution_count": 28,
   "metadata": {},
   "outputs": [
    {
     "data": {
      "image/svg+xml": [
       "<?xml version=\"1.0\" encoding=\"UTF-8\" standalone=\"no\"?>\n",
       "<!DOCTYPE svg PUBLIC \"-//W3C//DTD SVG 1.1//EN\"\n",
       " \"http://www.w3.org/Graphics/SVG/1.1/DTD/svg11.dtd\">\n",
       "<!-- Generated by graphviz version 2.42.3 (20191010.1750)\n",
       " -->\n",
       "<!-- Title: %3 Pages: 1 -->\n",
       "<svg width=\"1165pt\" height=\"188pt\"\n",
       " viewBox=\"0.00 0.00 1165.27 188.00\" xmlns=\"http://www.w3.org/2000/svg\" xmlns:xlink=\"http://www.w3.org/1999/xlink\">\n",
       "<g id=\"graph0\" class=\"graph\" transform=\"scale(1 1) rotate(0) translate(4 184)\">\n",
       "<title>%3</title>\n",
       "<polygon fill=\"white\" stroke=\"transparent\" points=\"-4,4 -4,-184 1161.27,-184 1161.27,4 -4,4\"/>\n",
       "<!-- Total Travel Distance -->\n",
       "<g id=\"node1\" class=\"node\">\n",
       "<title>Total Travel Distance</title>\n",
       "<ellipse fill=\"none\" stroke=\"black\" cx=\"152.41\" cy=\"-162\" rx=\"86.25\" ry=\"18\"/>\n",
       "<text text-anchor=\"middle\" x=\"152.41\" y=\"-157.8\" font-family=\"Times,serif\" font-size=\"14.00\">Total Travel Distance</text>\n",
       "</g>\n",
       "<!-- Total Travel Cost -->\n",
       "<g id=\"node4\" class=\"node\">\n",
       "<title>Total Travel Cost</title>\n",
       "<ellipse fill=\"none\" stroke=\"black\" cx=\"71.41\" cy=\"-90\" rx=\"71.31\" ry=\"18\"/>\n",
       "<text text-anchor=\"middle\" x=\"71.41\" y=\"-85.8\" font-family=\"Times,serif\" font-size=\"14.00\">Total Travel Cost</text>\n",
       "</g>\n",
       "<!-- Total Travel Distance&#45;&gt;Total Travel Cost -->\n",
       "<g id=\"edge3\" class=\"edge\">\n",
       "<title>Total Travel Distance&#45;&gt;Total Travel Cost</title>\n",
       "<path fill=\"none\" stroke=\"black\" d=\"M133.21,-144.41C122.72,-135.34 109.56,-123.97 98.09,-114.06\"/>\n",
       "<polygon fill=\"black\" stroke=\"black\" points=\"100.32,-111.36 90.46,-107.47 95.74,-116.66 100.32,-111.36\"/>\n",
       "</g>\n",
       "<!-- Total Travel Time -->\n",
       "<g id=\"node7\" class=\"node\">\n",
       "<title>Total Travel Time</title>\n",
       "<ellipse fill=\"none\" stroke=\"black\" cx=\"234.41\" cy=\"-90\" rx=\"73.28\" ry=\"18\"/>\n",
       "<text text-anchor=\"middle\" x=\"234.41\" y=\"-85.8\" font-family=\"Times,serif\" font-size=\"14.00\">Total Travel Time</text>\n",
       "</g>\n",
       "<!-- Total Travel Distance&#45;&gt;Total Travel Time -->\n",
       "<g id=\"edge2\" class=\"edge\">\n",
       "<title>Total Travel Distance&#45;&gt;Total Travel Time</title>\n",
       "<path fill=\"none\" stroke=\"black\" d=\"M171.84,-144.41C182.46,-135.34 195.78,-123.97 207.4,-114.06\"/>\n",
       "<polygon fill=\"black\" stroke=\"black\" points=\"209.78,-116.62 215.11,-107.47 205.24,-111.3 209.78,-116.62\"/>\n",
       "</g>\n",
       "<!-- Utility (Shared Ride 2) -->\n",
       "<g id=\"node2\" class=\"node\">\n",
       "<title>Utility (Shared Ride 2)</title>\n",
       "<ellipse fill=\"none\" stroke=\"black\" cx=\"630.41\" cy=\"-18\" rx=\"91.31\" ry=\"18\"/>\n",
       "<text text-anchor=\"middle\" x=\"630.41\" y=\"-13.8\" font-family=\"Times,serif\" font-size=\"14.00\">Utility (Shared Ride 2)</text>\n",
       "</g>\n",
       "<!-- Number of Licensed Drivers -->\n",
       "<g id=\"node3\" class=\"node\">\n",
       "<title>Number of Licensed Drivers</title>\n",
       "<ellipse fill=\"none\" stroke=\"black\" cx=\"437.41\" cy=\"-90\" rx=\"111.55\" ry=\"18\"/>\n",
       "<text text-anchor=\"middle\" x=\"437.41\" y=\"-85.8\" font-family=\"Times,serif\" font-size=\"14.00\">Number of Licensed Drivers</text>\n",
       "</g>\n",
       "<!-- Number of Licensed Drivers&#45;&gt;Utility (Shared Ride 2) -->\n",
       "<g id=\"edge7\" class=\"edge\">\n",
       "<title>Number of Licensed Drivers&#45;&gt;Utility (Shared Ride 2)</title>\n",
       "<path fill=\"none\" stroke=\"black\" d=\"M480.72,-73.29C509.9,-62.71 548.52,-48.7 579.23,-37.56\"/>\n",
       "<polygon fill=\"black\" stroke=\"black\" points=\"580.69,-40.76 588.89,-34.06 578.3,-34.18 580.69,-40.76\"/>\n",
       "</g>\n",
       "<!-- Total Travel Cost&#45;&gt;Utility (Shared Ride 2) -->\n",
       "<g id=\"edge4\" class=\"edge\">\n",
       "<title>Total Travel Cost&#45;&gt;Utility (Shared Ride 2)</title>\n",
       "<path fill=\"none\" stroke=\"black\" d=\"M122.69,-77.46C132.52,-75.47 142.76,-73.54 152.41,-72 285.58,-50.69 441.01,-35.17 537.58,-26.62\"/>\n",
       "<polygon fill=\"black\" stroke=\"black\" points=\"537.95,-30.1 547.61,-25.74 537.34,-23.13 537.95,-30.1\"/>\n",
       "</g>\n",
       "<!-- Cross Bay Trip -->\n",
       "<g id=\"node5\" class=\"node\">\n",
       "<title>Cross Bay Trip</title>\n",
       "<ellipse fill=\"none\" stroke=\"black\" cx=\"630.41\" cy=\"-90\" rx=\"63.87\" ry=\"18\"/>\n",
       "<text text-anchor=\"middle\" x=\"630.41\" y=\"-85.8\" font-family=\"Times,serif\" font-size=\"14.00\">Cross Bay Trip</text>\n",
       "</g>\n",
       "<!-- Cross Bay Trip&#45;&gt;Utility (Shared Ride 2) -->\n",
       "<g id=\"edge5\" class=\"edge\">\n",
       "<title>Cross Bay Trip&#45;&gt;Utility (Shared Ride 2)</title>\n",
       "<path fill=\"none\" stroke=\"black\" d=\"M630.41,-71.7C630.41,-63.98 630.41,-54.71 630.41,-46.11\"/>\n",
       "<polygon fill=\"black\" stroke=\"black\" points=\"633.91,-46.1 630.41,-36.1 626.91,-46.1 633.91,-46.1\"/>\n",
       "</g>\n",
       "<!-- Number of Autos -->\n",
       "<g id=\"node6\" class=\"node\">\n",
       "<title>Number of Autos</title>\n",
       "<ellipse fill=\"none\" stroke=\"black\" cx=\"783.41\" cy=\"-90\" rx=\"71.54\" ry=\"18\"/>\n",
       "<text text-anchor=\"middle\" x=\"783.41\" y=\"-85.8\" font-family=\"Times,serif\" font-size=\"14.00\">Number of Autos</text>\n",
       "</g>\n",
       "<!-- Number of Autos&#45;&gt;Utility (Shared Ride 2) -->\n",
       "<g id=\"edge6\" class=\"edge\">\n",
       "<title>Number of Autos&#45;&gt;Utility (Shared Ride 2)</title>\n",
       "<path fill=\"none\" stroke=\"black\" d=\"M750.58,-73.98C728.26,-63.77 698.47,-50.14 674.14,-39.01\"/>\n",
       "<polygon fill=\"black\" stroke=\"black\" points=\"675.32,-35.7 664.77,-34.72 672.4,-42.06 675.32,-35.7\"/>\n",
       "</g>\n",
       "<!-- Total Travel Time&#45;&gt;Utility (Shared Ride 2) -->\n",
       "<g id=\"edge1\" class=\"edge\">\n",
       "<title>Total Travel Time&#45;&gt;Utility (Shared Ride 2)</title>\n",
       "<path fill=\"none\" stroke=\"black\" d=\"M288.16,-77.56C297.56,-75.64 307.26,-73.72 316.41,-72 396.22,-57 487.82,-41.76 551.4,-31.5\"/>\n",
       "<polygon fill=\"black\" stroke=\"black\" points=\"552.05,-34.94 561.36,-29.9 550.93,-28.03 552.05,-34.94\"/>\n",
       "</g>\n",
       "<!-- Number of Kids -->\n",
       "<g id=\"node8\" class=\"node\">\n",
       "<title>Number of Kids</title>\n",
       "<ellipse fill=\"none\" stroke=\"black\" cx=\"940.41\" cy=\"-90\" rx=\"67.66\" ry=\"18\"/>\n",
       "<text text-anchor=\"middle\" x=\"940.41\" y=\"-85.8\" font-family=\"Times,serif\" font-size=\"14.00\">Number of Kids</text>\n",
       "</g>\n",
       "<!-- Number of Kids&#45;&gt;Utility (Shared Ride 2) -->\n",
       "<g id=\"edge9\" class=\"edge\">\n",
       "<title>Number of Kids&#45;&gt;Utility (Shared Ride 2)</title>\n",
       "<path fill=\"none\" stroke=\"black\" d=\"M890.6,-77.75C838.34,-65.95 755.88,-47.33 697.82,-34.22\"/>\n",
       "<polygon fill=\"black\" stroke=\"black\" points=\"698.52,-30.79 688,-32 696.98,-37.62 698.52,-30.79\"/>\n",
       "</g>\n",
       "<!-- Household Size -->\n",
       "<g id=\"node9\" class=\"node\">\n",
       "<title>Household Size</title>\n",
       "<ellipse fill=\"none\" stroke=\"black\" cx=\"1091.41\" cy=\"-90\" rx=\"65.72\" ry=\"18\"/>\n",
       "<text text-anchor=\"middle\" x=\"1091.41\" y=\"-85.8\" font-family=\"Times,serif\" font-size=\"14.00\">Household Size</text>\n",
       "</g>\n",
       "<!-- Household Size&#45;&gt;Utility (Shared Ride 2) -->\n",
       "<g id=\"edge8\" class=\"edge\">\n",
       "<title>Household Size&#45;&gt;Utility (Shared Ride 2)</title>\n",
       "<path fill=\"none\" stroke=\"black\" d=\"M1043.77,-77.39C1035.03,-75.45 1025.96,-73.57 1017.41,-72 915.42,-53.34 797.22,-38.07 718.55,-28.79\"/>\n",
       "<polygon fill=\"black\" stroke=\"black\" points=\"718.54,-25.26 708.2,-27.57 717.72,-32.21 718.54,-25.26\"/>\n",
       "</g>\n",
       "</g>\n",
       "</svg>\n"
      ],
      "text/plain": [
       "<graphviz.dot.Digraph at 0x101e29310>"
      ]
     },
     "execution_count": 28,
     "metadata": {},
     "output_type": "execute_result"
    }
   ],
   "source": [
    "V_Shared_2.draw()"
   ]
  },
  {
   "cell_type": "code",
   "execution_count": 29,
   "metadata": {},
   "outputs": [
    {
     "name": "stderr",
     "output_type": "stream",
     "text": [
      "/Users/mobouzaghrane/opt/anaconda3/lib/python3.7/site-packages/numpy/core/fromnumeric.py:2495: FutureWarning: Method .ptp is deprecated and will be removed in a future version. Use numpy.ptp instead.\n",
      "  return ptp(axis=axis, out=out, **kwargs)\n"
     ]
    }
   ],
   "source": [
    "Shared_2_Df = bike_data_long[bike_data_long['mode_id']==2]\n",
    "Shared_2_Df.reset_index(drop=True,inplace=True)\n",
    "Shared_2_Reg = FitAlternativeRegression(regressions={1:('total_travel_distance','total_travel_cost'),\n",
    "                                                        2:('total_travel_distance','total_travel_time')},\n",
    "                                           reg_types={1:'linear',2:'linear'},\n",
    "                                           data = Shared_2_Df)"
   ]
  },
  {
   "cell_type": "markdown",
   "metadata": {},
   "source": [
    "### 3.3.3. Shared-3+"
   ]
  },
  {
   "cell_type": "code",
   "execution_count": 30,
   "metadata": {},
   "outputs": [
    {
     "data": {
      "image/svg+xml": [
       "<?xml version=\"1.0\" encoding=\"UTF-8\" standalone=\"no\"?>\n",
       "<!DOCTYPE svg PUBLIC \"-//W3C//DTD SVG 1.1//EN\"\n",
       " \"http://www.w3.org/Graphics/SVG/1.1/DTD/svg11.dtd\">\n",
       "<!-- Generated by graphviz version 2.42.3 (20191010.1750)\n",
       " -->\n",
       "<!-- Title: %3 Pages: 1 -->\n",
       "<svg width=\"1165pt\" height=\"188pt\"\n",
       " viewBox=\"0.00 0.00 1165.27 188.00\" xmlns=\"http://www.w3.org/2000/svg\" xmlns:xlink=\"http://www.w3.org/1999/xlink\">\n",
       "<g id=\"graph0\" class=\"graph\" transform=\"scale(1 1) rotate(0) translate(4 184)\">\n",
       "<title>%3</title>\n",
       "<polygon fill=\"white\" stroke=\"transparent\" points=\"-4,4 -4,-184 1161.27,-184 1161.27,4 -4,4\"/>\n",
       "<!-- Total Travel Distance -->\n",
       "<g id=\"node1\" class=\"node\">\n",
       "<title>Total Travel Distance</title>\n",
       "<ellipse fill=\"none\" stroke=\"black\" cx=\"152.41\" cy=\"-162\" rx=\"86.25\" ry=\"18\"/>\n",
       "<text text-anchor=\"middle\" x=\"152.41\" y=\"-157.8\" font-family=\"Times,serif\" font-size=\"14.00\">Total Travel Distance</text>\n",
       "</g>\n",
       "<!-- Total Travel Cost -->\n",
       "<g id=\"node3\" class=\"node\">\n",
       "<title>Total Travel Cost</title>\n",
       "<ellipse fill=\"none\" stroke=\"black\" cx=\"71.41\" cy=\"-90\" rx=\"71.31\" ry=\"18\"/>\n",
       "<text text-anchor=\"middle\" x=\"71.41\" y=\"-85.8\" font-family=\"Times,serif\" font-size=\"14.00\">Total Travel Cost</text>\n",
       "</g>\n",
       "<!-- Total Travel Distance&#45;&gt;Total Travel Cost -->\n",
       "<g id=\"edge3\" class=\"edge\">\n",
       "<title>Total Travel Distance&#45;&gt;Total Travel Cost</title>\n",
       "<path fill=\"none\" stroke=\"black\" d=\"M133.21,-144.41C122.72,-135.34 109.56,-123.97 98.09,-114.06\"/>\n",
       "<polygon fill=\"black\" stroke=\"black\" points=\"100.32,-111.36 90.46,-107.47 95.74,-116.66 100.32,-111.36\"/>\n",
       "</g>\n",
       "<!-- Total Travel Time -->\n",
       "<g id=\"node6\" class=\"node\">\n",
       "<title>Total Travel Time</title>\n",
       "<ellipse fill=\"none\" stroke=\"black\" cx=\"234.41\" cy=\"-90\" rx=\"73.28\" ry=\"18\"/>\n",
       "<text text-anchor=\"middle\" x=\"234.41\" y=\"-85.8\" font-family=\"Times,serif\" font-size=\"14.00\">Total Travel Time</text>\n",
       "</g>\n",
       "<!-- Total Travel Distance&#45;&gt;Total Travel Time -->\n",
       "<g id=\"edge2\" class=\"edge\">\n",
       "<title>Total Travel Distance&#45;&gt;Total Travel Time</title>\n",
       "<path fill=\"none\" stroke=\"black\" d=\"M171.84,-144.41C182.46,-135.34 195.78,-123.97 207.4,-114.06\"/>\n",
       "<polygon fill=\"black\" stroke=\"black\" points=\"209.78,-116.62 215.11,-107.47 205.24,-111.3 209.78,-116.62\"/>\n",
       "</g>\n",
       "<!-- Number of Licensed Drivers -->\n",
       "<g id=\"node2\" class=\"node\">\n",
       "<title>Number of Licensed Drivers</title>\n",
       "<ellipse fill=\"none\" stroke=\"black\" cx=\"437.41\" cy=\"-90\" rx=\"111.55\" ry=\"18\"/>\n",
       "<text text-anchor=\"middle\" x=\"437.41\" y=\"-85.8\" font-family=\"Times,serif\" font-size=\"14.00\">Number of Licensed Drivers</text>\n",
       "</g>\n",
       "<!-- Utility (Shared Ride 3+) -->\n",
       "<g id=\"node8\" class=\"node\">\n",
       "<title>Utility (Shared Ride 3+)</title>\n",
       "<ellipse fill=\"none\" stroke=\"black\" cx=\"630.41\" cy=\"-18\" rx=\"96.28\" ry=\"18\"/>\n",
       "<text text-anchor=\"middle\" x=\"630.41\" y=\"-13.8\" font-family=\"Times,serif\" font-size=\"14.00\">Utility (Shared Ride 3+)</text>\n",
       "</g>\n",
       "<!-- Number of Licensed Drivers&#45;&gt;Utility (Shared Ride 3+) -->\n",
       "<g id=\"edge7\" class=\"edge\">\n",
       "<title>Number of Licensed Drivers&#45;&gt;Utility (Shared Ride 3+)</title>\n",
       "<path fill=\"none\" stroke=\"black\" d=\"M480.72,-73.29C509.7,-62.78 547.99,-48.89 578.59,-37.79\"/>\n",
       "<polygon fill=\"black\" stroke=\"black\" points=\"580.03,-41 588.23,-34.3 577.64,-34.42 580.03,-41\"/>\n",
       "</g>\n",
       "<!-- Total Travel Cost&#45;&gt;Utility (Shared Ride 3+) -->\n",
       "<g id=\"edge4\" class=\"edge\">\n",
       "<title>Total Travel Cost&#45;&gt;Utility (Shared Ride 3+)</title>\n",
       "<path fill=\"none\" stroke=\"black\" d=\"M122.69,-77.46C132.52,-75.47 142.76,-73.54 152.41,-72 283.99,-50.95 437.3,-35.54 534.09,-26.93\"/>\n",
       "<polygon fill=\"black\" stroke=\"black\" points=\"534.5,-30.41 544.15,-26.04 533.88,-23.43 534.5,-30.41\"/>\n",
       "</g>\n",
       "<!-- Cross Bay Trip -->\n",
       "<g id=\"node4\" class=\"node\">\n",
       "<title>Cross Bay Trip</title>\n",
       "<ellipse fill=\"none\" stroke=\"black\" cx=\"630.41\" cy=\"-90\" rx=\"63.87\" ry=\"18\"/>\n",
       "<text text-anchor=\"middle\" x=\"630.41\" y=\"-85.8\" font-family=\"Times,serif\" font-size=\"14.00\">Cross Bay Trip</text>\n",
       "</g>\n",
       "<!-- Cross Bay Trip&#45;&gt;Utility (Shared Ride 3+) -->\n",
       "<g id=\"edge5\" class=\"edge\">\n",
       "<title>Cross Bay Trip&#45;&gt;Utility (Shared Ride 3+)</title>\n",
       "<path fill=\"none\" stroke=\"black\" d=\"M630.41,-71.7C630.41,-63.98 630.41,-54.71 630.41,-46.11\"/>\n",
       "<polygon fill=\"black\" stroke=\"black\" points=\"633.91,-46.1 630.41,-36.1 626.91,-46.1 633.91,-46.1\"/>\n",
       "</g>\n",
       "<!-- Number of Autos -->\n",
       "<g id=\"node5\" class=\"node\">\n",
       "<title>Number of Autos</title>\n",
       "<ellipse fill=\"none\" stroke=\"black\" cx=\"783.41\" cy=\"-90\" rx=\"71.54\" ry=\"18\"/>\n",
       "<text text-anchor=\"middle\" x=\"783.41\" y=\"-85.8\" font-family=\"Times,serif\" font-size=\"14.00\">Number of Autos</text>\n",
       "</g>\n",
       "<!-- Number of Autos&#45;&gt;Utility (Shared Ride 3+) -->\n",
       "<g id=\"edge6\" class=\"edge\">\n",
       "<title>Number of Autos&#45;&gt;Utility (Shared Ride 3+)</title>\n",
       "<path fill=\"none\" stroke=\"black\" d=\"M750.58,-73.98C728.34,-63.8 698.68,-50.24 674.39,-39.12\"/>\n",
       "<polygon fill=\"black\" stroke=\"black\" points=\"675.58,-35.82 665.03,-34.84 672.67,-42.19 675.58,-35.82\"/>\n",
       "</g>\n",
       "<!-- Total Travel Time&#45;&gt;Utility (Shared Ride 3+) -->\n",
       "<g id=\"edge1\" class=\"edge\">\n",
       "<title>Total Travel Time&#45;&gt;Utility (Shared Ride 3+)</title>\n",
       "<path fill=\"none\" stroke=\"black\" d=\"M288.16,-77.56C297.56,-75.64 307.26,-73.72 316.41,-72 395.44,-57.14 486.05,-42.06 549.55,-31.8\"/>\n",
       "<polygon fill=\"black\" stroke=\"black\" points=\"550.19,-35.24 559.5,-30.2 549.07,-28.33 550.19,-35.24\"/>\n",
       "</g>\n",
       "<!-- Number of Kids -->\n",
       "<g id=\"node7\" class=\"node\">\n",
       "<title>Number of Kids</title>\n",
       "<ellipse fill=\"none\" stroke=\"black\" cx=\"940.41\" cy=\"-90\" rx=\"67.66\" ry=\"18\"/>\n",
       "<text text-anchor=\"middle\" x=\"940.41\" y=\"-85.8\" font-family=\"Times,serif\" font-size=\"14.00\">Number of Kids</text>\n",
       "</g>\n",
       "<!-- Number of Kids&#45;&gt;Utility (Shared Ride 3+) -->\n",
       "<g id=\"edge9\" class=\"edge\">\n",
       "<title>Number of Kids&#45;&gt;Utility (Shared Ride 3+)</title>\n",
       "<path fill=\"none\" stroke=\"black\" d=\"M890.6,-77.75C838.75,-66.04 757.15,-47.62 699.17,-34.53\"/>\n",
       "<polygon fill=\"black\" stroke=\"black\" points=\"699.88,-31.1 689.35,-32.31 698.34,-37.93 699.88,-31.1\"/>\n",
       "</g>\n",
       "<!-- Household Size -->\n",
       "<g id=\"node9\" class=\"node\">\n",
       "<title>Household Size</title>\n",
       "<ellipse fill=\"none\" stroke=\"black\" cx=\"1091.41\" cy=\"-90\" rx=\"65.72\" ry=\"18\"/>\n",
       "<text text-anchor=\"middle\" x=\"1091.41\" y=\"-85.8\" font-family=\"Times,serif\" font-size=\"14.00\">Household Size</text>\n",
       "</g>\n",
       "<!-- Household Size&#45;&gt;Utility (Shared Ride 3+) -->\n",
       "<g id=\"edge8\" class=\"edge\">\n",
       "<title>Household Size&#45;&gt;Utility (Shared Ride 3+)</title>\n",
       "<path fill=\"none\" stroke=\"black\" d=\"M1043.77,-77.39C1035.03,-75.45 1025.96,-73.57 1017.41,-72 916.7,-53.57 800.18,-38.45 721.52,-29.14\"/>\n",
       "<polygon fill=\"black\" stroke=\"black\" points=\"721.5,-25.61 711.16,-27.92 720.68,-32.56 721.5,-25.61\"/>\n",
       "</g>\n",
       "</g>\n",
       "</svg>\n"
      ],
      "text/plain": [
       "<graphviz.dot.Digraph at 0x1c198e2210>"
      ]
     },
     "execution_count": 30,
     "metadata": {},
     "output_type": "execute_result"
    }
   ],
   "source": [
    "V_Shared_3p.draw()"
   ]
  },
  {
   "cell_type": "code",
   "execution_count": 31,
   "metadata": {},
   "outputs": [
    {
     "name": "stderr",
     "output_type": "stream",
     "text": [
      "/Users/mobouzaghrane/opt/anaconda3/lib/python3.7/site-packages/numpy/core/fromnumeric.py:2495: FutureWarning: Method .ptp is deprecated and will be removed in a future version. Use numpy.ptp instead.\n",
      "  return ptp(axis=axis, out=out, **kwargs)\n"
     ]
    }
   ],
   "source": [
    "Shared_3p_Df = bike_data_long[bike_data_long['mode_id']==3]\n",
    "Shared_3p_Df.reset_index(drop=True,inplace=True)\n",
    "Shared_3p_Reg = FitAlternativeRegression(regressions={1:('total_travel_distance','total_travel_cost'),\n",
    "                                                        2:('total_travel_distance','total_travel_time')},\n",
    "                                           reg_types={1:'linear',2:'linear'},\n",
    "                                           data = Shared_3p_Df)"
   ]
  },
  {
   "cell_type": "markdown",
   "metadata": {},
   "source": [
    "### 3.3.4. Walk-Transit-Walk "
   ]
  },
  {
   "cell_type": "code",
   "execution_count": 32,
   "metadata": {},
   "outputs": [
    {
     "data": {
      "image/svg+xml": [
       "<?xml version=\"1.0\" encoding=\"UTF-8\" standalone=\"no\"?>\n",
       "<!DOCTYPE svg PUBLIC \"-//W3C//DTD SVG 1.1//EN\"\n",
       " \"http://www.w3.org/Graphics/SVG/1.1/DTD/svg11.dtd\">\n",
       "<!-- Generated by graphviz version 2.42.3 (20191010.1750)\n",
       " -->\n",
       "<!-- Title: %3 Pages: 1 -->\n",
       "<svg width=\"393pt\" height=\"188pt\"\n",
       " viewBox=\"0.00 0.00 392.53 188.00\" xmlns=\"http://www.w3.org/2000/svg\" xmlns:xlink=\"http://www.w3.org/1999/xlink\">\n",
       "<g id=\"graph0\" class=\"graph\" transform=\"scale(1 1) rotate(0) translate(4 184)\">\n",
       "<title>%3</title>\n",
       "<polygon fill=\"white\" stroke=\"transparent\" points=\"-4,4 -4,-184 388.53,-184 388.53,4 -4,4\"/>\n",
       "<!-- Total Travel Distance -->\n",
       "<g id=\"node1\" class=\"node\">\n",
       "<title>Total Travel Distance</title>\n",
       "<ellipse fill=\"none\" stroke=\"black\" cx=\"86.13\" cy=\"-162\" rx=\"86.25\" ry=\"18\"/>\n",
       "<text text-anchor=\"middle\" x=\"86.13\" y=\"-157.8\" font-family=\"Times,serif\" font-size=\"14.00\">Total Travel Distance</text>\n",
       "</g>\n",
       "<!-- Utility (WTW) -->\n",
       "<g id=\"node2\" class=\"node\">\n",
       "<title>Utility (WTW)</title>\n",
       "<ellipse fill=\"none\" stroke=\"black\" cx=\"263.13\" cy=\"-18\" rx=\"63.29\" ry=\"18\"/>\n",
       "<text text-anchor=\"middle\" x=\"263.13\" y=\"-13.8\" font-family=\"Times,serif\" font-size=\"14.00\">Utility (WTW)</text>\n",
       "</g>\n",
       "<!-- Total Travel Time -->\n",
       "<g id=\"node3\" class=\"node\">\n",
       "<title>Total Travel Time</title>\n",
       "<ellipse fill=\"none\" stroke=\"black\" cx=\"264.13\" cy=\"-162\" rx=\"73.28\" ry=\"18\"/>\n",
       "<text text-anchor=\"middle\" x=\"264.13\" y=\"-157.8\" font-family=\"Times,serif\" font-size=\"14.00\">Total Travel Time</text>\n",
       "</g>\n",
       "<!-- Total Travel Time&#45;&gt;Utility (WTW) -->\n",
       "<g id=\"edge2\" class=\"edge\">\n",
       "<title>Total Travel Time&#45;&gt;Utility (WTW)</title>\n",
       "<path fill=\"none\" stroke=\"black\" d=\"M250.98,-143.91C244.2,-134.01 236.64,-120.96 233.13,-108 228.94,-92.56 229.05,-87.47 233.13,-72 235.66,-62.39 240.38,-52.69 245.33,-44.26\"/>\n",
       "<polygon fill=\"black\" stroke=\"black\" points=\"248.36,-46.02 250.71,-35.68 242.43,-42.3 248.36,-46.02\"/>\n",
       "</g>\n",
       "<!-- Total Travel Cost -->\n",
       "<g id=\"node4\" class=\"node\">\n",
       "<title>Total Travel Cost</title>\n",
       "<ellipse fill=\"none\" stroke=\"black\" cx=\"313.13\" cy=\"-90\" rx=\"71.31\" ry=\"18\"/>\n",
       "<text text-anchor=\"middle\" x=\"313.13\" y=\"-85.8\" font-family=\"Times,serif\" font-size=\"14.00\">Total Travel Cost</text>\n",
       "</g>\n",
       "<!-- Total Travel Time&#45;&gt;Total Travel Cost -->\n",
       "<g id=\"edge1\" class=\"edge\">\n",
       "<title>Total Travel Time&#45;&gt;Total Travel Cost</title>\n",
       "<path fill=\"none\" stroke=\"black\" d=\"M275.99,-144.05C281.83,-135.71 288.98,-125.49 295.45,-116.25\"/>\n",
       "<polygon fill=\"black\" stroke=\"black\" points=\"298.51,-117.99 301.37,-107.79 292.77,-113.97 298.51,-117.99\"/>\n",
       "</g>\n",
       "<!-- Total Travel Cost&#45;&gt;Utility (WTW) -->\n",
       "<g id=\"edge3\" class=\"edge\">\n",
       "<title>Total Travel Cost&#45;&gt;Utility (WTW)</title>\n",
       "<path fill=\"none\" stroke=\"black\" d=\"M301.02,-72.05C295,-63.63 287.61,-53.28 280.96,-43.97\"/>\n",
       "<polygon fill=\"black\" stroke=\"black\" points=\"283.78,-41.89 275.12,-35.79 278.08,-45.96 283.78,-41.89\"/>\n",
       "</g>\n",
       "</g>\n",
       "</svg>\n"
      ],
      "text/plain": [
       "<graphviz.dot.Digraph at 0x1c198e2a10>"
      ]
     },
     "execution_count": 32,
     "metadata": {},
     "output_type": "execute_result"
    }
   ],
   "source": [
    "V_WTW.draw()"
   ]
  },
  {
   "cell_type": "code",
   "execution_count": 33,
   "metadata": {},
   "outputs": [
    {
     "name": "stderr",
     "output_type": "stream",
     "text": [
      "/Users/mobouzaghrane/opt/anaconda3/lib/python3.7/site-packages/numpy/core/fromnumeric.py:2495: FutureWarning: Method .ptp is deprecated and will be removed in a future version. Use numpy.ptp instead.\n",
      "  return ptp(axis=axis, out=out, **kwargs)\n"
     ]
    }
   ],
   "source": [
    "WTW_Df = bike_data_long[bike_data_long['mode_id']==4]\n",
    "WTW_Df.reset_index(drop=True,inplace=True)\n",
    "WTW_Reg = FitAlternativeRegression(regressions={1:('total_travel_time','total_travel_cost')},\n",
    "                                           reg_types={1:'linear'},\n",
    "                                           data = WTW_Df)"
   ]
  },
  {
   "cell_type": "markdown",
   "metadata": {},
   "source": [
    "### 3.3.5. Drive-Transit-Walk "
   ]
  },
  {
   "cell_type": "code",
   "execution_count": 34,
   "metadata": {},
   "outputs": [
    {
     "data": {
      "image/svg+xml": [
       "<?xml version=\"1.0\" encoding=\"UTF-8\" standalone=\"no\"?>\n",
       "<!DOCTYPE svg PUBLIC \"-//W3C//DTD SVG 1.1//EN\"\n",
       " \"http://www.w3.org/Graphics/SVG/1.1/DTD/svg11.dtd\">\n",
       "<!-- Generated by graphviz version 2.42.3 (20191010.1750)\n",
       " -->\n",
       "<!-- Title: %3 Pages: 1 -->\n",
       "<svg width=\"203pt\" height=\"188pt\"\n",
       " viewBox=\"0.00 0.00 202.80 188.00\" xmlns=\"http://www.w3.org/2000/svg\" xmlns:xlink=\"http://www.w3.org/1999/xlink\">\n",
       "<g id=\"graph0\" class=\"graph\" transform=\"scale(1 1) rotate(0) translate(4 184)\">\n",
       "<title>%3</title>\n",
       "<polygon fill=\"white\" stroke=\"transparent\" points=\"-4,4 -4,-184 198.8,-184 198.8,4 -4,4\"/>\n",
       "<!-- Utility (DTW) -->\n",
       "<g id=\"node1\" class=\"node\">\n",
       "<title>Utility (DTW)</title>\n",
       "<ellipse fill=\"none\" stroke=\"black\" cx=\"73.39\" cy=\"-18\" rx=\"61.37\" ry=\"18\"/>\n",
       "<text text-anchor=\"middle\" x=\"73.39\" y=\"-13.8\" font-family=\"Times,serif\" font-size=\"14.00\">Utility (DTW)</text>\n",
       "</g>\n",
       "<!-- Total Travel Time -->\n",
       "<g id=\"node2\" class=\"node\">\n",
       "<title>Total Travel Time</title>\n",
       "<ellipse fill=\"none\" stroke=\"black\" cx=\"73.39\" cy=\"-162\" rx=\"73.28\" ry=\"18\"/>\n",
       "<text text-anchor=\"middle\" x=\"73.39\" y=\"-157.8\" font-family=\"Times,serif\" font-size=\"14.00\">Total Travel Time</text>\n",
       "</g>\n",
       "<!-- Total Travel Time&#45;&gt;Utility (DTW) -->\n",
       "<g id=\"edge2\" class=\"edge\">\n",
       "<title>Total Travel Time&#45;&gt;Utility (DTW)</title>\n",
       "<path fill=\"none\" stroke=\"black\" d=\"M60.66,-143.85C54.1,-133.92 46.78,-120.88 43.39,-108 39.31,-92.53 39.31,-87.47 43.39,-72 45.92,-62.39 50.64,-52.69 55.59,-44.26\"/>\n",
       "<polygon fill=\"black\" stroke=\"black\" points=\"58.63,-46.02 60.97,-35.68 52.7,-42.3 58.63,-46.02\"/>\n",
       "</g>\n",
       "<!-- Total Travel Cost -->\n",
       "<g id=\"node3\" class=\"node\">\n",
       "<title>Total Travel Cost</title>\n",
       "<ellipse fill=\"none\" stroke=\"black\" cx=\"123.39\" cy=\"-90\" rx=\"71.31\" ry=\"18\"/>\n",
       "<text text-anchor=\"middle\" x=\"123.39\" y=\"-85.8\" font-family=\"Times,serif\" font-size=\"14.00\">Total Travel Cost</text>\n",
       "</g>\n",
       "<!-- Total Travel Time&#45;&gt;Total Travel Cost -->\n",
       "<g id=\"edge1\" class=\"edge\">\n",
       "<title>Total Travel Time&#45;&gt;Total Travel Cost</title>\n",
       "<path fill=\"none\" stroke=\"black\" d=\"M85.49,-144.05C91.51,-135.63 98.9,-125.28 105.56,-115.97\"/>\n",
       "<polygon fill=\"black\" stroke=\"black\" points=\"108.43,-117.96 111.4,-107.79 102.74,-113.89 108.43,-117.96\"/>\n",
       "</g>\n",
       "<!-- Total Travel Cost&#45;&gt;Utility (DTW) -->\n",
       "<g id=\"edge3\" class=\"edge\">\n",
       "<title>Total Travel Cost&#45;&gt;Utility (DTW)</title>\n",
       "<path fill=\"none\" stroke=\"black\" d=\"M111.28,-72.05C105.27,-63.63 97.87,-53.28 91.22,-43.97\"/>\n",
       "<polygon fill=\"black\" stroke=\"black\" points=\"94.04,-41.89 85.38,-35.79 88.35,-45.96 94.04,-41.89\"/>\n",
       "</g>\n",
       "</g>\n",
       "</svg>\n"
      ],
      "text/plain": [
       "<graphviz.dot.Digraph at 0x1c19282990>"
      ]
     },
     "execution_count": 34,
     "metadata": {},
     "output_type": "execute_result"
    }
   ],
   "source": [
    "V_DTW.draw()"
   ]
  },
  {
   "cell_type": "code",
   "execution_count": 35,
   "metadata": {},
   "outputs": [
    {
     "name": "stderr",
     "output_type": "stream",
     "text": [
      "/Users/mobouzaghrane/opt/anaconda3/lib/python3.7/site-packages/numpy/core/fromnumeric.py:2495: FutureWarning: Method .ptp is deprecated and will be removed in a future version. Use numpy.ptp instead.\n",
      "  return ptp(axis=axis, out=out, **kwargs)\n"
     ]
    }
   ],
   "source": [
    "DTW_Df = bike_data_long[bike_data_long['mode_id']==5]\n",
    "DTW_Df.reset_index(drop=True,inplace=True)\n",
    "DTW_Reg = FitAlternativeRegression(regressions={1:('total_travel_time','total_travel_cost')},\n",
    "                                           reg_types={1:'linear'},\n",
    "                                           data = DTW_Df)"
   ]
  },
  {
   "cell_type": "markdown",
   "metadata": {},
   "source": [
    "### 3.3.6. Walk-Transit-Drive "
   ]
  },
  {
   "cell_type": "code",
   "execution_count": 36,
   "metadata": {},
   "outputs": [
    {
     "data": {
      "image/svg+xml": [
       "<?xml version=\"1.0\" encoding=\"UTF-8\" standalone=\"no\"?>\n",
       "<!DOCTYPE svg PUBLIC \"-//W3C//DTD SVG 1.1//EN\"\n",
       " \"http://www.w3.org/Graphics/SVG/1.1/DTD/svg11.dtd\">\n",
       "<!-- Generated by graphviz version 2.42.3 (20191010.1750)\n",
       " -->\n",
       "<!-- Title: %3 Pages: 1 -->\n",
       "<svg width=\"203pt\" height=\"188pt\"\n",
       " viewBox=\"0.00 0.00 202.80 188.00\" xmlns=\"http://www.w3.org/2000/svg\" xmlns:xlink=\"http://www.w3.org/1999/xlink\">\n",
       "<g id=\"graph0\" class=\"graph\" transform=\"scale(1 1) rotate(0) translate(4 184)\">\n",
       "<title>%3</title>\n",
       "<polygon fill=\"white\" stroke=\"transparent\" points=\"-4,4 -4,-184 198.8,-184 198.8,4 -4,4\"/>\n",
       "<!-- Utility (WTD) -->\n",
       "<g id=\"node1\" class=\"node\">\n",
       "<title>Utility (WTD)</title>\n",
       "<ellipse fill=\"none\" stroke=\"black\" cx=\"73.39\" cy=\"-18\" rx=\"61.37\" ry=\"18\"/>\n",
       "<text text-anchor=\"middle\" x=\"73.39\" y=\"-13.8\" font-family=\"Times,serif\" font-size=\"14.00\">Utility (WTD)</text>\n",
       "</g>\n",
       "<!-- Total Travel Time -->\n",
       "<g id=\"node2\" class=\"node\">\n",
       "<title>Total Travel Time</title>\n",
       "<ellipse fill=\"none\" stroke=\"black\" cx=\"73.39\" cy=\"-162\" rx=\"73.28\" ry=\"18\"/>\n",
       "<text text-anchor=\"middle\" x=\"73.39\" y=\"-157.8\" font-family=\"Times,serif\" font-size=\"14.00\">Total Travel Time</text>\n",
       "</g>\n",
       "<!-- Total Travel Time&#45;&gt;Utility (WTD) -->\n",
       "<g id=\"edge2\" class=\"edge\">\n",
       "<title>Total Travel Time&#45;&gt;Utility (WTD)</title>\n",
       "<path fill=\"none\" stroke=\"black\" d=\"M60.66,-143.85C54.1,-133.92 46.78,-120.88 43.39,-108 39.31,-92.53 39.31,-87.47 43.39,-72 45.92,-62.39 50.64,-52.69 55.59,-44.26\"/>\n",
       "<polygon fill=\"black\" stroke=\"black\" points=\"58.63,-46.02 60.97,-35.68 52.7,-42.3 58.63,-46.02\"/>\n",
       "</g>\n",
       "<!-- Total Travel Cost -->\n",
       "<g id=\"node3\" class=\"node\">\n",
       "<title>Total Travel Cost</title>\n",
       "<ellipse fill=\"none\" stroke=\"black\" cx=\"123.39\" cy=\"-90\" rx=\"71.31\" ry=\"18\"/>\n",
       "<text text-anchor=\"middle\" x=\"123.39\" y=\"-85.8\" font-family=\"Times,serif\" font-size=\"14.00\">Total Travel Cost</text>\n",
       "</g>\n",
       "<!-- Total Travel Time&#45;&gt;Total Travel Cost -->\n",
       "<g id=\"edge1\" class=\"edge\">\n",
       "<title>Total Travel Time&#45;&gt;Total Travel Cost</title>\n",
       "<path fill=\"none\" stroke=\"black\" d=\"M85.49,-144.05C91.51,-135.63 98.9,-125.28 105.56,-115.97\"/>\n",
       "<polygon fill=\"black\" stroke=\"black\" points=\"108.43,-117.96 111.4,-107.79 102.74,-113.89 108.43,-117.96\"/>\n",
       "</g>\n",
       "<!-- Total Travel Cost&#45;&gt;Utility (WTD) -->\n",
       "<g id=\"edge3\" class=\"edge\">\n",
       "<title>Total Travel Cost&#45;&gt;Utility (WTD)</title>\n",
       "<path fill=\"none\" stroke=\"black\" d=\"M111.28,-72.05C105.27,-63.63 97.87,-53.28 91.22,-43.97\"/>\n",
       "<polygon fill=\"black\" stroke=\"black\" points=\"94.04,-41.89 85.38,-35.79 88.35,-45.96 94.04,-41.89\"/>\n",
       "</g>\n",
       "</g>\n",
       "</svg>\n"
      ],
      "text/plain": [
       "<graphviz.dot.Digraph at 0x1c1929f690>"
      ]
     },
     "execution_count": 36,
     "metadata": {},
     "output_type": "execute_result"
    }
   ],
   "source": [
    "V_WTD.draw()"
   ]
  },
  {
   "cell_type": "code",
   "execution_count": 37,
   "metadata": {},
   "outputs": [
    {
     "name": "stderr",
     "output_type": "stream",
     "text": [
      "/Users/mobouzaghrane/opt/anaconda3/lib/python3.7/site-packages/numpy/core/fromnumeric.py:2495: FutureWarning: Method .ptp is deprecated and will be removed in a future version. Use numpy.ptp instead.\n",
      "  return ptp(axis=axis, out=out, **kwargs)\n"
     ]
    }
   ],
   "source": [
    "WTD_Df = bike_data_long[bike_data_long['mode_id']==6]\n",
    "WTD_Df.reset_index(drop=True,inplace=True)\n",
    "WTD_Reg = FitAlternativeRegression(regressions={1:('total_travel_time','total_travel_cost')},\n",
    "                                           reg_types={1:'linear'},\n",
    "                                           data = WTD_Df)"
   ]
  },
  {
   "cell_type": "markdown",
   "metadata": {},
   "source": [
    "### 3.3.7. Walk"
   ]
  },
  {
   "cell_type": "code",
   "execution_count": 38,
   "metadata": {},
   "outputs": [
    {
     "data": {
      "image/svg+xml": [
       "<?xml version=\"1.0\" encoding=\"UTF-8\" standalone=\"no\"?>\n",
       "<!DOCTYPE svg PUBLIC \"-//W3C//DTD SVG 1.1//EN\"\n",
       " \"http://www.w3.org/Graphics/SVG/1.1/DTD/svg11.dtd\">\n",
       "<!-- Generated by graphviz version 2.42.3 (20191010.1750)\n",
       " -->\n",
       "<!-- Title: %3 Pages: 1 -->\n",
       "<svg width=\"180pt\" height=\"116pt\"\n",
       " viewBox=\"0.00 0.00 180.25 116.00\" xmlns=\"http://www.w3.org/2000/svg\" xmlns:xlink=\"http://www.w3.org/1999/xlink\">\n",
       "<g id=\"graph0\" class=\"graph\" transform=\"scale(1 1) rotate(0) translate(4 112)\">\n",
       "<title>%3</title>\n",
       "<polygon fill=\"white\" stroke=\"transparent\" points=\"-4,4 -4,-112 176.25,-112 176.25,4 -4,4\"/>\n",
       "<!-- Total Travel Distance -->\n",
       "<g id=\"node1\" class=\"node\">\n",
       "<title>Total Travel Distance</title>\n",
       "<ellipse fill=\"none\" stroke=\"black\" cx=\"86.13\" cy=\"-90\" rx=\"86.25\" ry=\"18\"/>\n",
       "<text text-anchor=\"middle\" x=\"86.13\" y=\"-85.8\" font-family=\"Times,serif\" font-size=\"14.00\">Total Travel Distance</text>\n",
       "</g>\n",
       "<!-- Utility (Walk) -->\n",
       "<g id=\"node2\" class=\"node\">\n",
       "<title>Utility (Walk)</title>\n",
       "<ellipse fill=\"none\" stroke=\"black\" cx=\"86.13\" cy=\"-18\" rx=\"60\" ry=\"18\"/>\n",
       "<text text-anchor=\"middle\" x=\"86.13\" y=\"-13.8\" font-family=\"Times,serif\" font-size=\"14.00\">Utility (Walk)</text>\n",
       "</g>\n",
       "<!-- Total Travel Distance&#45;&gt;Utility (Walk) -->\n",
       "<g id=\"edge1\" class=\"edge\">\n",
       "<title>Total Travel Distance&#45;&gt;Utility (Walk)</title>\n",
       "<path fill=\"none\" stroke=\"black\" d=\"M86.13,-71.7C86.13,-63.98 86.13,-54.71 86.13,-46.11\"/>\n",
       "<polygon fill=\"black\" stroke=\"black\" points=\"89.63,-46.1 86.13,-36.1 82.63,-46.1 89.63,-46.1\"/>\n",
       "</g>\n",
       "</g>\n",
       "</svg>\n"
      ],
      "text/plain": [
       "<graphviz.dot.Digraph at 0x1c192821d0>"
      ]
     },
     "execution_count": 38,
     "metadata": {},
     "output_type": "execute_result"
    }
   ],
   "source": [
    "V_Walk.draw()"
   ]
  },
  {
   "cell_type": "markdown",
   "metadata": {},
   "source": [
    "No regressions needed under the Walk alternative since the travel distance will be simulated based on the original dataset and directly affects the utility function"
   ]
  },
  {
   "cell_type": "markdown",
   "metadata": {},
   "source": [
    "### 3.3.8. Bike"
   ]
  },
  {
   "cell_type": "code",
   "execution_count": 39,
   "metadata": {},
   "outputs": [
    {
     "data": {
      "image/svg+xml": [
       "<?xml version=\"1.0\" encoding=\"UTF-8\" standalone=\"no\"?>\n",
       "<!DOCTYPE svg PUBLIC \"-//W3C//DTD SVG 1.1//EN\"\n",
       " \"http://www.w3.org/Graphics/SVG/1.1/DTD/svg11.dtd\">\n",
       "<!-- Generated by graphviz version 2.42.3 (20191010.1750)\n",
       " -->\n",
       "<!-- Title: %3 Pages: 1 -->\n",
       "<svg width=\"180pt\" height=\"116pt\"\n",
       " viewBox=\"0.00 0.00 180.25 116.00\" xmlns=\"http://www.w3.org/2000/svg\" xmlns:xlink=\"http://www.w3.org/1999/xlink\">\n",
       "<g id=\"graph0\" class=\"graph\" transform=\"scale(1 1) rotate(0) translate(4 112)\">\n",
       "<title>%3</title>\n",
       "<polygon fill=\"white\" stroke=\"transparent\" points=\"-4,4 -4,-112 176.25,-112 176.25,4 -4,4\"/>\n",
       "<!-- Total Travel Distance -->\n",
       "<g id=\"node1\" class=\"node\">\n",
       "<title>Total Travel Distance</title>\n",
       "<ellipse fill=\"none\" stroke=\"black\" cx=\"86.13\" cy=\"-90\" rx=\"86.25\" ry=\"18\"/>\n",
       "<text text-anchor=\"middle\" x=\"86.13\" y=\"-85.8\" font-family=\"Times,serif\" font-size=\"14.00\">Total Travel Distance</text>\n",
       "</g>\n",
       "<!-- Utility (Bike) -->\n",
       "<g id=\"node2\" class=\"node\">\n",
       "<title>Utility (Bike)</title>\n",
       "<ellipse fill=\"none\" stroke=\"black\" cx=\"86.13\" cy=\"-18\" rx=\"58.01\" ry=\"18\"/>\n",
       "<text text-anchor=\"middle\" x=\"86.13\" y=\"-13.8\" font-family=\"Times,serif\" font-size=\"14.00\">Utility (Bike)</text>\n",
       "</g>\n",
       "<!-- Total Travel Distance&#45;&gt;Utility (Bike) -->\n",
       "<g id=\"edge1\" class=\"edge\">\n",
       "<title>Total Travel Distance&#45;&gt;Utility (Bike)</title>\n",
       "<path fill=\"none\" stroke=\"black\" d=\"M86.13,-71.7C86.13,-63.98 86.13,-54.71 86.13,-46.11\"/>\n",
       "<polygon fill=\"black\" stroke=\"black\" points=\"89.63,-46.1 86.13,-36.1 82.63,-46.1 89.63,-46.1\"/>\n",
       "</g>\n",
       "</g>\n",
       "</svg>\n"
      ],
      "text/plain": [
       "<graphviz.dot.Digraph at 0x1c1929f7d0>"
      ]
     },
     "execution_count": 39,
     "metadata": {},
     "output_type": "execute_result"
    }
   ],
   "source": [
    "V_Bike.draw()"
   ]
  },
  {
   "cell_type": "raw",
   "metadata": {},
   "source": [
    "No regressions needed under the Bike alternative since the travel distance will be simulated based on the original dataset and directly affects the utility function"
   ]
  },
  {
   "cell_type": "markdown",
   "metadata": {},
   "source": [
    "## 3.4. Simulate Nodes without Parents "
   ]
  },
  {
   "cell_type": "code",
   "execution_count": 40,
   "metadata": {},
   "outputs": [],
   "source": [
    "sim_size = 8000\n",
    "sim_bike_data_no_parent = SimNodeNoParent(bike_data_params, size=sim_size)"
   ]
  },
  {
   "cell_type": "markdown",
   "metadata": {},
   "source": [
    "## 3.5. Simulate data for each causal graph"
   ]
  },
  {
   "cell_type": "code",
   "execution_count": 41,
   "metadata": {},
   "outputs": [],
   "source": [
    "# Create a copy of the data to avoid any issues\n",
    "sim_bike_data_wide = copy.deepcopy(sim_bike_data_no_parent)"
   ]
  },
  {
   "cell_type": "markdown",
   "metadata": {},
   "source": [
    "### 3.5.1. Drive Alone "
   ]
  },
  {
   "cell_type": "code",
   "execution_count": 42,
   "metadata": {},
   "outputs": [
    {
     "data": {
      "image/svg+xml": [
       "<?xml version=\"1.0\" encoding=\"UTF-8\" standalone=\"no\"?>\n",
       "<!DOCTYPE svg PUBLIC \"-//W3C//DTD SVG 1.1//EN\"\n",
       " \"http://www.w3.org/Graphics/SVG/1.1/DTD/svg11.dtd\">\n",
       "<!-- Generated by graphviz version 2.42.3 (20191010.1750)\n",
       " -->\n",
       "<!-- Title: %3 Pages: 1 -->\n",
       "<svg width=\"718pt\" height=\"188pt\"\n",
       " viewBox=\"0.00 0.00 717.93 188.00\" xmlns=\"http://www.w3.org/2000/svg\" xmlns:xlink=\"http://www.w3.org/1999/xlink\">\n",
       "<g id=\"graph0\" class=\"graph\" transform=\"scale(1 1) rotate(0) translate(4 184)\">\n",
       "<title>%3</title>\n",
       "<polygon fill=\"white\" stroke=\"transparent\" points=\"-4,4 -4,-184 713.93,-184 713.93,4 -4,4\"/>\n",
       "<!-- Total Travel Distance -->\n",
       "<g id=\"node1\" class=\"node\">\n",
       "<title>Total Travel Distance</title>\n",
       "<ellipse fill=\"none\" stroke=\"black\" cx=\"152.41\" cy=\"-162\" rx=\"86.25\" ry=\"18\"/>\n",
       "<text text-anchor=\"middle\" x=\"152.41\" y=\"-157.8\" font-family=\"Times,serif\" font-size=\"14.00\">Total Travel Distance</text>\n",
       "</g>\n",
       "<!-- Total Travel Cost -->\n",
       "<g id=\"node3\" class=\"node\">\n",
       "<title>Total Travel Cost</title>\n",
       "<ellipse fill=\"none\" stroke=\"black\" cx=\"71.41\" cy=\"-90\" rx=\"71.31\" ry=\"18\"/>\n",
       "<text text-anchor=\"middle\" x=\"71.41\" y=\"-85.8\" font-family=\"Times,serif\" font-size=\"14.00\">Total Travel Cost</text>\n",
       "</g>\n",
       "<!-- Total Travel Distance&#45;&gt;Total Travel Cost -->\n",
       "<g id=\"edge2\" class=\"edge\">\n",
       "<title>Total Travel Distance&#45;&gt;Total Travel Cost</title>\n",
       "<path fill=\"none\" stroke=\"black\" d=\"M133.21,-144.41C122.72,-135.34 109.56,-123.97 98.09,-114.06\"/>\n",
       "<polygon fill=\"black\" stroke=\"black\" points=\"100.32,-111.36 90.46,-107.47 95.74,-116.66 100.32,-111.36\"/>\n",
       "</g>\n",
       "<!-- Total Travel Time -->\n",
       "<g id=\"node5\" class=\"node\">\n",
       "<title>Total Travel Time</title>\n",
       "<ellipse fill=\"none\" stroke=\"black\" cx=\"234.41\" cy=\"-90\" rx=\"73.28\" ry=\"18\"/>\n",
       "<text text-anchor=\"middle\" x=\"234.41\" y=\"-85.8\" font-family=\"Times,serif\" font-size=\"14.00\">Total Travel Time</text>\n",
       "</g>\n",
       "<!-- Total Travel Distance&#45;&gt;Total Travel Time -->\n",
       "<g id=\"edge1\" class=\"edge\">\n",
       "<title>Total Travel Distance&#45;&gt;Total Travel Time</title>\n",
       "<path fill=\"none\" stroke=\"black\" d=\"M171.84,-144.41C182.46,-135.34 195.78,-123.97 207.4,-114.06\"/>\n",
       "<polygon fill=\"black\" stroke=\"black\" points=\"209.78,-116.62 215.11,-107.47 205.24,-111.3 209.78,-116.62\"/>\n",
       "</g>\n",
       "<!-- Number of Licensed Drivers -->\n",
       "<g id=\"node2\" class=\"node\">\n",
       "<title>Number of Licensed Drivers</title>\n",
       "<ellipse fill=\"none\" stroke=\"black\" cx=\"437.41\" cy=\"-90\" rx=\"111.55\" ry=\"18\"/>\n",
       "<text text-anchor=\"middle\" x=\"437.41\" y=\"-85.8\" font-family=\"Times,serif\" font-size=\"14.00\">Number of Licensed Drivers</text>\n",
       "</g>\n",
       "<!-- Utility (Drive Alone) -->\n",
       "<g id=\"node6\" class=\"node\">\n",
       "<title>Utility (Drive Alone)</title>\n",
       "<ellipse fill=\"none\" stroke=\"black\" cx=\"335.41\" cy=\"-18\" rx=\"84.55\" ry=\"18\"/>\n",
       "<text text-anchor=\"middle\" x=\"335.41\" y=\"-13.8\" font-family=\"Times,serif\" font-size=\"14.00\">Utility (Drive Alone)</text>\n",
       "</g>\n",
       "<!-- Number of Licensed Drivers&#45;&gt;Utility (Drive Alone) -->\n",
       "<g id=\"edge6\" class=\"edge\">\n",
       "<title>Number of Licensed Drivers&#45;&gt;Utility (Drive Alone)</title>\n",
       "<path fill=\"none\" stroke=\"black\" d=\"M413.23,-72.41C399.64,-63.08 382.5,-51.32 367.76,-41.2\"/>\n",
       "<polygon fill=\"black\" stroke=\"black\" points=\"369.63,-38.24 359.41,-35.47 365.67,-44.01 369.63,-38.24\"/>\n",
       "</g>\n",
       "<!-- Total Travel Cost&#45;&gt;Utility (Drive Alone) -->\n",
       "<g id=\"edge4\" class=\"edge\">\n",
       "<title>Total Travel Cost&#45;&gt;Utility (Drive Alone)</title>\n",
       "<path fill=\"none\" stroke=\"black\" d=\"M118.6,-76.49C162.22,-64.92 227.26,-47.68 274.72,-35.09\"/>\n",
       "<polygon fill=\"black\" stroke=\"black\" points=\"275.8,-38.43 284.57,-32.48 274,-31.66 275.8,-38.43\"/>\n",
       "</g>\n",
       "<!-- Number of Autos -->\n",
       "<g id=\"node4\" class=\"node\">\n",
       "<title>Number of Autos</title>\n",
       "<ellipse fill=\"none\" stroke=\"black\" cx=\"638.41\" cy=\"-90\" rx=\"71.54\" ry=\"18\"/>\n",
       "<text text-anchor=\"middle\" x=\"638.41\" y=\"-85.8\" font-family=\"Times,serif\" font-size=\"14.00\">Number of Autos</text>\n",
       "</g>\n",
       "<!-- Number of Autos&#45;&gt;Utility (Drive Alone) -->\n",
       "<g id=\"edge5\" class=\"edge\">\n",
       "<title>Number of Autos&#45;&gt;Utility (Drive Alone)</title>\n",
       "<path fill=\"none\" stroke=\"black\" d=\"M587.69,-77.28C536.2,-65.39 456.28,-46.92 400.22,-33.97\"/>\n",
       "<polygon fill=\"black\" stroke=\"black\" points=\"400.92,-30.54 390.39,-31.7 399.35,-37.36 400.92,-30.54\"/>\n",
       "</g>\n",
       "<!-- Total Travel Time&#45;&gt;Utility (Drive Alone) -->\n",
       "<g id=\"edge3\" class=\"edge\">\n",
       "<title>Total Travel Time&#45;&gt;Utility (Drive Alone)</title>\n",
       "<path fill=\"none\" stroke=\"black\" d=\"M257.83,-72.76C271.37,-63.38 288.6,-51.44 303.39,-41.19\"/>\n",
       "<polygon fill=\"black\" stroke=\"black\" points=\"305.53,-43.96 311.76,-35.39 301.55,-38.21 305.53,-43.96\"/>\n",
       "</g>\n",
       "</g>\n",
       "</svg>\n"
      ],
      "text/plain": [
       "<graphviz.dot.Digraph at 0x1c198e2290>"
      ]
     },
     "execution_count": 42,
     "metadata": {},
     "output_type": "execute_result"
    }
   ],
   "source": [
    "V_Drive_Alone.draw()"
   ]
  },
  {
   "cell_type": "code",
   "execution_count": 43,
   "metadata": {},
   "outputs": [],
   "source": [
    "sim_bike_data_wide['total_travel_time_drive_alone'] = Drive_Alone_Reg['total_travel_time_on_total_travel_distance'].params[0] +\\\n",
    "                                                  Drive_Alone_Reg['total_travel_time_on_total_travel_distance'].params[1] *\\\n",
    "                                                  sim_bike_data_wide['total_travel_distance_drive_alone'] +\\\n",
    "                                                  np.random.normal(loc=0,\n",
    "                                                                   scale = Drive_Alone_Reg['total_travel_time_on_total_travel_distance'].resid.std(),\n",
    "                                                                   size = sim_size)\n",
    "sim_bike_data_wide['total_travel_cost_drive_alone'] = Drive_Alone_Reg['total_travel_cost_on_total_travel_distance'].params[0] +\\\n",
    "                                                  Drive_Alone_Reg['total_travel_cost_on_total_travel_distance'].params[1] *\\\n",
    "                                                  sim_bike_data_wide['total_travel_distance_drive_alone'] +\\\n",
    "                                                  np.random.normal(loc=0,\n",
    "                                                                   scale = Drive_Alone_Reg['total_travel_cost_on_total_travel_distance'].resid.std(),\n",
    "                                                                   size = sim_size)"
   ]
  },
  {
   "cell_type": "code",
   "execution_count": 44,
   "metadata": {},
   "outputs": [],
   "source": [
    "# ## Loading data into StructuralCausalModel\n",
    "# Drive_Alone_Model = StructuralCausalModel({\n",
    "#     \"total_travel_distance\": lambda   n_samples: bike_data_no_parent['total_travel_distance_drive_alone'],\n",
    "#     \"total_travel_time\": lambda total_travel_distance, n_samples: Drive_Alone_Reg['total_travel_time_on_total_travel_distance'].params[0] + \n",
    "#                                                                   Drive_Alone_Reg['total_travel_time_on_total_travel_distance'].params[1] * \n",
    "#                                                                   bike_data_no_parent['total_travel_distance_drive_alone'] + \n",
    "#                                                                   np.random.normal(loc=0,\n",
    "#                                                                                    scale = Drive_Alone_Reg['total_travel_time_on_total_travel_distance'].resid.std(),\n",
    "#                                                                                    size = n_samples),\n",
    "#     \"total_travel_cost\": lambda total_travel_distance, n_samples: Drive_Alone_Reg['total_travel_cost_on_total_travel_distance'].params[0] + \n",
    "#                                                                   Drive_Alone_Reg['total_travel_cost_on_total_travel_distance'].params[1] * \n",
    "#                                                                   bike_data_no_parent['total_travel_distance_drive_alone'] + \n",
    "#                                                                   np.random.normal(loc=0,\n",
    "#                                                                                    scale = Drive_Alone_Reg['total_travel_cost_on_total_travel_distance'].resid.std(),\n",
    "#                                                                                    size = n_samples),\n",
    "#     \"num_licensed_drivers\": lambda n_samples: bike_data_no_parent['num_licensed_drivers'],\n",
    "#     \"num_cars\": lambda n_samples: bike_data_no_parent['num_cars'],\n",
    "#     \"utility_drive_alone\": lambda n_samples: np.zeros(shape=n_samples)\n",
    "# })\n",
    "\n",
    "# Drive_Alone_Model.sample(n_samples=4000).head()"
   ]
  },
  {
   "cell_type": "markdown",
   "metadata": {},
   "source": [
    "### 3.5.2. Shared-2 "
   ]
  },
  {
   "cell_type": "code",
   "execution_count": 45,
   "metadata": {},
   "outputs": [
    {
     "data": {
      "image/svg+xml": [
       "<?xml version=\"1.0\" encoding=\"UTF-8\" standalone=\"no\"?>\n",
       "<!DOCTYPE svg PUBLIC \"-//W3C//DTD SVG 1.1//EN\"\n",
       " \"http://www.w3.org/Graphics/SVG/1.1/DTD/svg11.dtd\">\n",
       "<!-- Generated by graphviz version 2.42.3 (20191010.1750)\n",
       " -->\n",
       "<!-- Title: %3 Pages: 1 -->\n",
       "<svg width=\"1165pt\" height=\"188pt\"\n",
       " viewBox=\"0.00 0.00 1165.27 188.00\" xmlns=\"http://www.w3.org/2000/svg\" xmlns:xlink=\"http://www.w3.org/1999/xlink\">\n",
       "<g id=\"graph0\" class=\"graph\" transform=\"scale(1 1) rotate(0) translate(4 184)\">\n",
       "<title>%3</title>\n",
       "<polygon fill=\"white\" stroke=\"transparent\" points=\"-4,4 -4,-184 1161.27,-184 1161.27,4 -4,4\"/>\n",
       "<!-- Total Travel Distance -->\n",
       "<g id=\"node1\" class=\"node\">\n",
       "<title>Total Travel Distance</title>\n",
       "<ellipse fill=\"none\" stroke=\"black\" cx=\"152.41\" cy=\"-162\" rx=\"86.25\" ry=\"18\"/>\n",
       "<text text-anchor=\"middle\" x=\"152.41\" y=\"-157.8\" font-family=\"Times,serif\" font-size=\"14.00\">Total Travel Distance</text>\n",
       "</g>\n",
       "<!-- Total Travel Cost -->\n",
       "<g id=\"node4\" class=\"node\">\n",
       "<title>Total Travel Cost</title>\n",
       "<ellipse fill=\"none\" stroke=\"black\" cx=\"71.41\" cy=\"-90\" rx=\"71.31\" ry=\"18\"/>\n",
       "<text text-anchor=\"middle\" x=\"71.41\" y=\"-85.8\" font-family=\"Times,serif\" font-size=\"14.00\">Total Travel Cost</text>\n",
       "</g>\n",
       "<!-- Total Travel Distance&#45;&gt;Total Travel Cost -->\n",
       "<g id=\"edge3\" class=\"edge\">\n",
       "<title>Total Travel Distance&#45;&gt;Total Travel Cost</title>\n",
       "<path fill=\"none\" stroke=\"black\" d=\"M133.21,-144.41C122.72,-135.34 109.56,-123.97 98.09,-114.06\"/>\n",
       "<polygon fill=\"black\" stroke=\"black\" points=\"100.32,-111.36 90.46,-107.47 95.74,-116.66 100.32,-111.36\"/>\n",
       "</g>\n",
       "<!-- Total Travel Time -->\n",
       "<g id=\"node7\" class=\"node\">\n",
       "<title>Total Travel Time</title>\n",
       "<ellipse fill=\"none\" stroke=\"black\" cx=\"234.41\" cy=\"-90\" rx=\"73.28\" ry=\"18\"/>\n",
       "<text text-anchor=\"middle\" x=\"234.41\" y=\"-85.8\" font-family=\"Times,serif\" font-size=\"14.00\">Total Travel Time</text>\n",
       "</g>\n",
       "<!-- Total Travel Distance&#45;&gt;Total Travel Time -->\n",
       "<g id=\"edge2\" class=\"edge\">\n",
       "<title>Total Travel Distance&#45;&gt;Total Travel Time</title>\n",
       "<path fill=\"none\" stroke=\"black\" d=\"M171.84,-144.41C182.46,-135.34 195.78,-123.97 207.4,-114.06\"/>\n",
       "<polygon fill=\"black\" stroke=\"black\" points=\"209.78,-116.62 215.11,-107.47 205.24,-111.3 209.78,-116.62\"/>\n",
       "</g>\n",
       "<!-- Utility (Shared Ride 2) -->\n",
       "<g id=\"node2\" class=\"node\">\n",
       "<title>Utility (Shared Ride 2)</title>\n",
       "<ellipse fill=\"none\" stroke=\"black\" cx=\"630.41\" cy=\"-18\" rx=\"91.31\" ry=\"18\"/>\n",
       "<text text-anchor=\"middle\" x=\"630.41\" y=\"-13.8\" font-family=\"Times,serif\" font-size=\"14.00\">Utility (Shared Ride 2)</text>\n",
       "</g>\n",
       "<!-- Number of Licensed Drivers -->\n",
       "<g id=\"node3\" class=\"node\">\n",
       "<title>Number of Licensed Drivers</title>\n",
       "<ellipse fill=\"none\" stroke=\"black\" cx=\"437.41\" cy=\"-90\" rx=\"111.55\" ry=\"18\"/>\n",
       "<text text-anchor=\"middle\" x=\"437.41\" y=\"-85.8\" font-family=\"Times,serif\" font-size=\"14.00\">Number of Licensed Drivers</text>\n",
       "</g>\n",
       "<!-- Number of Licensed Drivers&#45;&gt;Utility (Shared Ride 2) -->\n",
       "<g id=\"edge7\" class=\"edge\">\n",
       "<title>Number of Licensed Drivers&#45;&gt;Utility (Shared Ride 2)</title>\n",
       "<path fill=\"none\" stroke=\"black\" d=\"M480.72,-73.29C509.9,-62.71 548.52,-48.7 579.23,-37.56\"/>\n",
       "<polygon fill=\"black\" stroke=\"black\" points=\"580.69,-40.76 588.89,-34.06 578.3,-34.18 580.69,-40.76\"/>\n",
       "</g>\n",
       "<!-- Total Travel Cost&#45;&gt;Utility (Shared Ride 2) -->\n",
       "<g id=\"edge4\" class=\"edge\">\n",
       "<title>Total Travel Cost&#45;&gt;Utility (Shared Ride 2)</title>\n",
       "<path fill=\"none\" stroke=\"black\" d=\"M122.69,-77.46C132.52,-75.47 142.76,-73.54 152.41,-72 285.58,-50.69 441.01,-35.17 537.58,-26.62\"/>\n",
       "<polygon fill=\"black\" stroke=\"black\" points=\"537.95,-30.1 547.61,-25.74 537.34,-23.13 537.95,-30.1\"/>\n",
       "</g>\n",
       "<!-- Cross Bay Trip -->\n",
       "<g id=\"node5\" class=\"node\">\n",
       "<title>Cross Bay Trip</title>\n",
       "<ellipse fill=\"none\" stroke=\"black\" cx=\"630.41\" cy=\"-90\" rx=\"63.87\" ry=\"18\"/>\n",
       "<text text-anchor=\"middle\" x=\"630.41\" y=\"-85.8\" font-family=\"Times,serif\" font-size=\"14.00\">Cross Bay Trip</text>\n",
       "</g>\n",
       "<!-- Cross Bay Trip&#45;&gt;Utility (Shared Ride 2) -->\n",
       "<g id=\"edge5\" class=\"edge\">\n",
       "<title>Cross Bay Trip&#45;&gt;Utility (Shared Ride 2)</title>\n",
       "<path fill=\"none\" stroke=\"black\" d=\"M630.41,-71.7C630.41,-63.98 630.41,-54.71 630.41,-46.11\"/>\n",
       "<polygon fill=\"black\" stroke=\"black\" points=\"633.91,-46.1 630.41,-36.1 626.91,-46.1 633.91,-46.1\"/>\n",
       "</g>\n",
       "<!-- Number of Autos -->\n",
       "<g id=\"node6\" class=\"node\">\n",
       "<title>Number of Autos</title>\n",
       "<ellipse fill=\"none\" stroke=\"black\" cx=\"783.41\" cy=\"-90\" rx=\"71.54\" ry=\"18\"/>\n",
       "<text text-anchor=\"middle\" x=\"783.41\" y=\"-85.8\" font-family=\"Times,serif\" font-size=\"14.00\">Number of Autos</text>\n",
       "</g>\n",
       "<!-- Number of Autos&#45;&gt;Utility (Shared Ride 2) -->\n",
       "<g id=\"edge6\" class=\"edge\">\n",
       "<title>Number of Autos&#45;&gt;Utility (Shared Ride 2)</title>\n",
       "<path fill=\"none\" stroke=\"black\" d=\"M750.58,-73.98C728.26,-63.77 698.47,-50.14 674.14,-39.01\"/>\n",
       "<polygon fill=\"black\" stroke=\"black\" points=\"675.32,-35.7 664.77,-34.72 672.4,-42.06 675.32,-35.7\"/>\n",
       "</g>\n",
       "<!-- Total Travel Time&#45;&gt;Utility (Shared Ride 2) -->\n",
       "<g id=\"edge1\" class=\"edge\">\n",
       "<title>Total Travel Time&#45;&gt;Utility (Shared Ride 2)</title>\n",
       "<path fill=\"none\" stroke=\"black\" d=\"M288.16,-77.56C297.56,-75.64 307.26,-73.72 316.41,-72 396.22,-57 487.82,-41.76 551.4,-31.5\"/>\n",
       "<polygon fill=\"black\" stroke=\"black\" points=\"552.05,-34.94 561.36,-29.9 550.93,-28.03 552.05,-34.94\"/>\n",
       "</g>\n",
       "<!-- Number of Kids -->\n",
       "<g id=\"node8\" class=\"node\">\n",
       "<title>Number of Kids</title>\n",
       "<ellipse fill=\"none\" stroke=\"black\" cx=\"940.41\" cy=\"-90\" rx=\"67.66\" ry=\"18\"/>\n",
       "<text text-anchor=\"middle\" x=\"940.41\" y=\"-85.8\" font-family=\"Times,serif\" font-size=\"14.00\">Number of Kids</text>\n",
       "</g>\n",
       "<!-- Number of Kids&#45;&gt;Utility (Shared Ride 2) -->\n",
       "<g id=\"edge9\" class=\"edge\">\n",
       "<title>Number of Kids&#45;&gt;Utility (Shared Ride 2)</title>\n",
       "<path fill=\"none\" stroke=\"black\" d=\"M890.6,-77.75C838.34,-65.95 755.88,-47.33 697.82,-34.22\"/>\n",
       "<polygon fill=\"black\" stroke=\"black\" points=\"698.52,-30.79 688,-32 696.98,-37.62 698.52,-30.79\"/>\n",
       "</g>\n",
       "<!-- Household Size -->\n",
       "<g id=\"node9\" class=\"node\">\n",
       "<title>Household Size</title>\n",
       "<ellipse fill=\"none\" stroke=\"black\" cx=\"1091.41\" cy=\"-90\" rx=\"65.72\" ry=\"18\"/>\n",
       "<text text-anchor=\"middle\" x=\"1091.41\" y=\"-85.8\" font-family=\"Times,serif\" font-size=\"14.00\">Household Size</text>\n",
       "</g>\n",
       "<!-- Household Size&#45;&gt;Utility (Shared Ride 2) -->\n",
       "<g id=\"edge8\" class=\"edge\">\n",
       "<title>Household Size&#45;&gt;Utility (Shared Ride 2)</title>\n",
       "<path fill=\"none\" stroke=\"black\" d=\"M1043.77,-77.39C1035.03,-75.45 1025.96,-73.57 1017.41,-72 915.42,-53.34 797.22,-38.07 718.55,-28.79\"/>\n",
       "<polygon fill=\"black\" stroke=\"black\" points=\"718.54,-25.26 708.2,-27.57 717.72,-32.21 718.54,-25.26\"/>\n",
       "</g>\n",
       "</g>\n",
       "</svg>\n"
      ],
      "text/plain": [
       "<graphviz.dot.Digraph at 0x1c1929e9d0>"
      ]
     },
     "execution_count": 45,
     "metadata": {},
     "output_type": "execute_result"
    }
   ],
   "source": [
    "V_Shared_2.draw()"
   ]
  },
  {
   "cell_type": "code",
   "execution_count": 46,
   "metadata": {},
   "outputs": [],
   "source": [
    "sim_bike_data_wide['total_travel_time_shared_2'] = Shared_2_Reg['total_travel_time_on_total_travel_distance'].params[0] +\\\n",
    "                                               Shared_2_Reg['total_travel_time_on_total_travel_distance'].params[1] *\\\n",
    "                                                  sim_bike_data_wide['total_travel_distance_shared_2'] +\\\n",
    "                                                  np.random.normal(loc=0,\n",
    "                                                                   scale = Shared_2_Reg['total_travel_time_on_total_travel_distance'].resid.std(),\n",
    "                                                                   size = sim_size)\n",
    "sim_bike_data_wide['total_travel_cost_shared_2'] = Shared_2_Reg['total_travel_cost_on_total_travel_distance'].params[0] +\\\n",
    "                                                  Shared_2_Reg['total_travel_cost_on_total_travel_distance'].params[1] *\\\n",
    "                                                  sim_bike_data_wide['total_travel_distance_shared_2'] +\\\n",
    "                                                  np.random.normal(loc=0,\n",
    "                                                                   scale = Shared_2_Reg['total_travel_cost_on_total_travel_distance'].resid.std(),\n",
    "                                                                   size = sim_size)"
   ]
  },
  {
   "cell_type": "code",
   "execution_count": 47,
   "metadata": {},
   "outputs": [],
   "source": [
    "# ## Loading data into StructuralCausalModel\n",
    "# Shared_2_Model = StructuralCausalModel({\n",
    "#     \"total_travel_distance\": lambda   n_samples: bike_data_no_parent['total_travel_distance_shared_2'],\n",
    "#     \"total_travel_time\": lambda total_travel_distance, n_samples: Shared_2_Reg['total_travel_time_on_total_travel_distance'].params[0] + \n",
    "#                                                                   Shared_2_Reg['total_travel_time_on_total_travel_distance'].params[1] * \n",
    "#                                                                   bike_data_no_parent['total_travel_distance_drive_alone'] + \n",
    "#                                                                   np.random.normal(loc=0,\n",
    "#                                                                                    scale = Shared_2_Reg['total_travel_time_on_total_travel_distance'].resid.std(),\n",
    "#                                                                                    size = n_samples),\n",
    "#     \"total_travel_cost\": lambda total_travel_distance, n_samples: Shared_2_Reg['total_travel_cost_on_total_travel_distance'].params[0] + \n",
    "#                                                                   Shared_2_Reg['total_travel_cost_on_total_travel_distance'].params[1] * \n",
    "#                                                                   bike_data_no_parent['total_travel_distance_drive_alone'] + \n",
    "#                                                                   np.random.normal(loc=0,\n",
    "#                                                                                    scale = Shared_2_Reg['total_travel_cost_on_total_travel_distance'].resid.std(),\n",
    "#                                                                                    size = n_samples),\n",
    "#     \"household_size\": lambda n_samples: bike_data_no_parent['household_size'],\n",
    "#     \"num_kids\": lambda n_samples: bike_data_no_parent['num_kids'],\n",
    "#     \"num_licensed_drivers\": lambda n_samples: bike_data_no_parent['num_licensed_drivers'],\n",
    "#     \"num_cars\": lambda n_samples: bike_data_no_parent['num_cars'],\n",
    "#     \"cross_bay\": lambda n_samples: bike_data_no_parent['cross_bay'],\n",
    "#     \"utility_shared_2\": total_travel_cost: lambda n_samples: np.zeros(shape=bike_data_no_parent['total_travel_distance_shared_2'].shape[0])\n",
    "# })\n",
    "# Shared_2_Model.sample(n_samples=4000).head()"
   ]
  },
  {
   "cell_type": "markdown",
   "metadata": {},
   "source": [
    "### 3.5.3. Shared-3+"
   ]
  },
  {
   "cell_type": "code",
   "execution_count": 48,
   "metadata": {},
   "outputs": [
    {
     "data": {
      "image/svg+xml": [
       "<?xml version=\"1.0\" encoding=\"UTF-8\" standalone=\"no\"?>\n",
       "<!DOCTYPE svg PUBLIC \"-//W3C//DTD SVG 1.1//EN\"\n",
       " \"http://www.w3.org/Graphics/SVG/1.1/DTD/svg11.dtd\">\n",
       "<!-- Generated by graphviz version 2.42.3 (20191010.1750)\n",
       " -->\n",
       "<!-- Title: %3 Pages: 1 -->\n",
       "<svg width=\"1165pt\" height=\"188pt\"\n",
       " viewBox=\"0.00 0.00 1165.27 188.00\" xmlns=\"http://www.w3.org/2000/svg\" xmlns:xlink=\"http://www.w3.org/1999/xlink\">\n",
       "<g id=\"graph0\" class=\"graph\" transform=\"scale(1 1) rotate(0) translate(4 184)\">\n",
       "<title>%3</title>\n",
       "<polygon fill=\"white\" stroke=\"transparent\" points=\"-4,4 -4,-184 1161.27,-184 1161.27,4 -4,4\"/>\n",
       "<!-- Total Travel Distance -->\n",
       "<g id=\"node1\" class=\"node\">\n",
       "<title>Total Travel Distance</title>\n",
       "<ellipse fill=\"none\" stroke=\"black\" cx=\"152.41\" cy=\"-162\" rx=\"86.25\" ry=\"18\"/>\n",
       "<text text-anchor=\"middle\" x=\"152.41\" y=\"-157.8\" font-family=\"Times,serif\" font-size=\"14.00\">Total Travel Distance</text>\n",
       "</g>\n",
       "<!-- Total Travel Cost -->\n",
       "<g id=\"node3\" class=\"node\">\n",
       "<title>Total Travel Cost</title>\n",
       "<ellipse fill=\"none\" stroke=\"black\" cx=\"71.41\" cy=\"-90\" rx=\"71.31\" ry=\"18\"/>\n",
       "<text text-anchor=\"middle\" x=\"71.41\" y=\"-85.8\" font-family=\"Times,serif\" font-size=\"14.00\">Total Travel Cost</text>\n",
       "</g>\n",
       "<!-- Total Travel Distance&#45;&gt;Total Travel Cost -->\n",
       "<g id=\"edge3\" class=\"edge\">\n",
       "<title>Total Travel Distance&#45;&gt;Total Travel Cost</title>\n",
       "<path fill=\"none\" stroke=\"black\" d=\"M133.21,-144.41C122.72,-135.34 109.56,-123.97 98.09,-114.06\"/>\n",
       "<polygon fill=\"black\" stroke=\"black\" points=\"100.32,-111.36 90.46,-107.47 95.74,-116.66 100.32,-111.36\"/>\n",
       "</g>\n",
       "<!-- Total Travel Time -->\n",
       "<g id=\"node6\" class=\"node\">\n",
       "<title>Total Travel Time</title>\n",
       "<ellipse fill=\"none\" stroke=\"black\" cx=\"234.41\" cy=\"-90\" rx=\"73.28\" ry=\"18\"/>\n",
       "<text text-anchor=\"middle\" x=\"234.41\" y=\"-85.8\" font-family=\"Times,serif\" font-size=\"14.00\">Total Travel Time</text>\n",
       "</g>\n",
       "<!-- Total Travel Distance&#45;&gt;Total Travel Time -->\n",
       "<g id=\"edge2\" class=\"edge\">\n",
       "<title>Total Travel Distance&#45;&gt;Total Travel Time</title>\n",
       "<path fill=\"none\" stroke=\"black\" d=\"M171.84,-144.41C182.46,-135.34 195.78,-123.97 207.4,-114.06\"/>\n",
       "<polygon fill=\"black\" stroke=\"black\" points=\"209.78,-116.62 215.11,-107.47 205.24,-111.3 209.78,-116.62\"/>\n",
       "</g>\n",
       "<!-- Number of Licensed Drivers -->\n",
       "<g id=\"node2\" class=\"node\">\n",
       "<title>Number of Licensed Drivers</title>\n",
       "<ellipse fill=\"none\" stroke=\"black\" cx=\"437.41\" cy=\"-90\" rx=\"111.55\" ry=\"18\"/>\n",
       "<text text-anchor=\"middle\" x=\"437.41\" y=\"-85.8\" font-family=\"Times,serif\" font-size=\"14.00\">Number of Licensed Drivers</text>\n",
       "</g>\n",
       "<!-- Utility (Shared Ride 3+) -->\n",
       "<g id=\"node8\" class=\"node\">\n",
       "<title>Utility (Shared Ride 3+)</title>\n",
       "<ellipse fill=\"none\" stroke=\"black\" cx=\"630.41\" cy=\"-18\" rx=\"96.28\" ry=\"18\"/>\n",
       "<text text-anchor=\"middle\" x=\"630.41\" y=\"-13.8\" font-family=\"Times,serif\" font-size=\"14.00\">Utility (Shared Ride 3+)</text>\n",
       "</g>\n",
       "<!-- Number of Licensed Drivers&#45;&gt;Utility (Shared Ride 3+) -->\n",
       "<g id=\"edge7\" class=\"edge\">\n",
       "<title>Number of Licensed Drivers&#45;&gt;Utility (Shared Ride 3+)</title>\n",
       "<path fill=\"none\" stroke=\"black\" d=\"M480.72,-73.29C509.7,-62.78 547.99,-48.89 578.59,-37.79\"/>\n",
       "<polygon fill=\"black\" stroke=\"black\" points=\"580.03,-41 588.23,-34.3 577.64,-34.42 580.03,-41\"/>\n",
       "</g>\n",
       "<!-- Total Travel Cost&#45;&gt;Utility (Shared Ride 3+) -->\n",
       "<g id=\"edge4\" class=\"edge\">\n",
       "<title>Total Travel Cost&#45;&gt;Utility (Shared Ride 3+)</title>\n",
       "<path fill=\"none\" stroke=\"black\" d=\"M122.69,-77.46C132.52,-75.47 142.76,-73.54 152.41,-72 283.99,-50.95 437.3,-35.54 534.09,-26.93\"/>\n",
       "<polygon fill=\"black\" stroke=\"black\" points=\"534.5,-30.41 544.15,-26.04 533.88,-23.43 534.5,-30.41\"/>\n",
       "</g>\n",
       "<!-- Cross Bay Trip -->\n",
       "<g id=\"node4\" class=\"node\">\n",
       "<title>Cross Bay Trip</title>\n",
       "<ellipse fill=\"none\" stroke=\"black\" cx=\"630.41\" cy=\"-90\" rx=\"63.87\" ry=\"18\"/>\n",
       "<text text-anchor=\"middle\" x=\"630.41\" y=\"-85.8\" font-family=\"Times,serif\" font-size=\"14.00\">Cross Bay Trip</text>\n",
       "</g>\n",
       "<!-- Cross Bay Trip&#45;&gt;Utility (Shared Ride 3+) -->\n",
       "<g id=\"edge5\" class=\"edge\">\n",
       "<title>Cross Bay Trip&#45;&gt;Utility (Shared Ride 3+)</title>\n",
       "<path fill=\"none\" stroke=\"black\" d=\"M630.41,-71.7C630.41,-63.98 630.41,-54.71 630.41,-46.11\"/>\n",
       "<polygon fill=\"black\" stroke=\"black\" points=\"633.91,-46.1 630.41,-36.1 626.91,-46.1 633.91,-46.1\"/>\n",
       "</g>\n",
       "<!-- Number of Autos -->\n",
       "<g id=\"node5\" class=\"node\">\n",
       "<title>Number of Autos</title>\n",
       "<ellipse fill=\"none\" stroke=\"black\" cx=\"783.41\" cy=\"-90\" rx=\"71.54\" ry=\"18\"/>\n",
       "<text text-anchor=\"middle\" x=\"783.41\" y=\"-85.8\" font-family=\"Times,serif\" font-size=\"14.00\">Number of Autos</text>\n",
       "</g>\n",
       "<!-- Number of Autos&#45;&gt;Utility (Shared Ride 3+) -->\n",
       "<g id=\"edge6\" class=\"edge\">\n",
       "<title>Number of Autos&#45;&gt;Utility (Shared Ride 3+)</title>\n",
       "<path fill=\"none\" stroke=\"black\" d=\"M750.58,-73.98C728.34,-63.8 698.68,-50.24 674.39,-39.12\"/>\n",
       "<polygon fill=\"black\" stroke=\"black\" points=\"675.58,-35.82 665.03,-34.84 672.67,-42.19 675.58,-35.82\"/>\n",
       "</g>\n",
       "<!-- Total Travel Time&#45;&gt;Utility (Shared Ride 3+) -->\n",
       "<g id=\"edge1\" class=\"edge\">\n",
       "<title>Total Travel Time&#45;&gt;Utility (Shared Ride 3+)</title>\n",
       "<path fill=\"none\" stroke=\"black\" d=\"M288.16,-77.56C297.56,-75.64 307.26,-73.72 316.41,-72 395.44,-57.14 486.05,-42.06 549.55,-31.8\"/>\n",
       "<polygon fill=\"black\" stroke=\"black\" points=\"550.19,-35.24 559.5,-30.2 549.07,-28.33 550.19,-35.24\"/>\n",
       "</g>\n",
       "<!-- Number of Kids -->\n",
       "<g id=\"node7\" class=\"node\">\n",
       "<title>Number of Kids</title>\n",
       "<ellipse fill=\"none\" stroke=\"black\" cx=\"940.41\" cy=\"-90\" rx=\"67.66\" ry=\"18\"/>\n",
       "<text text-anchor=\"middle\" x=\"940.41\" y=\"-85.8\" font-family=\"Times,serif\" font-size=\"14.00\">Number of Kids</text>\n",
       "</g>\n",
       "<!-- Number of Kids&#45;&gt;Utility (Shared Ride 3+) -->\n",
       "<g id=\"edge9\" class=\"edge\">\n",
       "<title>Number of Kids&#45;&gt;Utility (Shared Ride 3+)</title>\n",
       "<path fill=\"none\" stroke=\"black\" d=\"M890.6,-77.75C838.75,-66.04 757.15,-47.62 699.17,-34.53\"/>\n",
       "<polygon fill=\"black\" stroke=\"black\" points=\"699.88,-31.1 689.35,-32.31 698.34,-37.93 699.88,-31.1\"/>\n",
       "</g>\n",
       "<!-- Household Size -->\n",
       "<g id=\"node9\" class=\"node\">\n",
       "<title>Household Size</title>\n",
       "<ellipse fill=\"none\" stroke=\"black\" cx=\"1091.41\" cy=\"-90\" rx=\"65.72\" ry=\"18\"/>\n",
       "<text text-anchor=\"middle\" x=\"1091.41\" y=\"-85.8\" font-family=\"Times,serif\" font-size=\"14.00\">Household Size</text>\n",
       "</g>\n",
       "<!-- Household Size&#45;&gt;Utility (Shared Ride 3+) -->\n",
       "<g id=\"edge8\" class=\"edge\">\n",
       "<title>Household Size&#45;&gt;Utility (Shared Ride 3+)</title>\n",
       "<path fill=\"none\" stroke=\"black\" d=\"M1043.77,-77.39C1035.03,-75.45 1025.96,-73.57 1017.41,-72 916.7,-53.57 800.18,-38.45 721.52,-29.14\"/>\n",
       "<polygon fill=\"black\" stroke=\"black\" points=\"721.5,-25.61 711.16,-27.92 720.68,-32.56 721.5,-25.61\"/>\n",
       "</g>\n",
       "</g>\n",
       "</svg>\n"
      ],
      "text/plain": [
       "<graphviz.dot.Digraph at 0x1c1929ef50>"
      ]
     },
     "execution_count": 48,
     "metadata": {},
     "output_type": "execute_result"
    }
   ],
   "source": [
    "V_Shared_3p.draw()"
   ]
  },
  {
   "cell_type": "code",
   "execution_count": 49,
   "metadata": {},
   "outputs": [],
   "source": [
    "sim_bike_data_wide['total_travel_time_shared_3p'] = Shared_3p_Reg['total_travel_time_on_total_travel_distance'].params[0] +\\\n",
    "                                               Shared_3p_Reg['total_travel_time_on_total_travel_distance'].params[1] *\\\n",
    "                                                  sim_bike_data_wide['total_travel_distance_shared_3p'] +\\\n",
    "                                                  np.random.normal(loc=0,\n",
    "                                                                   scale = Shared_3p_Reg['total_travel_time_on_total_travel_distance'].resid.std(),\n",
    "                                                                   size = sim_size)\n",
    "sim_bike_data_wide['total_travel_cost_shared_3p'] = Shared_3p_Reg['total_travel_cost_on_total_travel_distance'].params[0] +\\\n",
    "                                                  Shared_3p_Reg['total_travel_cost_on_total_travel_distance'].params[1] *\\\n",
    "                                                  sim_bike_data_wide['total_travel_distance_shared_3p'] +\\\n",
    "                                                  np.random.normal(loc=0,\n",
    "                                                                   scale = Shared_3p_Reg['total_travel_cost_on_total_travel_distance'].resid.std(),\n",
    "                                                                   size = sim_size)"
   ]
  },
  {
   "cell_type": "code",
   "execution_count": 50,
   "metadata": {},
   "outputs": [],
   "source": [
    "# ## Loading data into StructuralCausalModel\n",
    "# Shared_3p_Model = StructuralCausalModel({\n",
    "#     \"total_travel_distance\": lambda   n_samples: bike_data_no_parent['total_travel_distance_shared_3p'],\n",
    "#     \"total_travel_time\": lambda total_travel_distance, n_samples: Shared_3p_Reg['total_travel_time_on_total_travel_distance'].params[0] + \n",
    "#                                                                   Shared_3p_Reg['total_travel_time_on_total_travel_distance'].params[1] * \n",
    "#                                                                   bike_data_no_parent['total_travel_distance_drive_alone'] + \n",
    "#                                                                   np.random.normal(loc=0,\n",
    "#                                                                                    scale = Shared_3p_Reg['total_travel_time_on_total_travel_distance'].resid.std(),\n",
    "#                                                                                    size = n_samples),\n",
    "#     \"total_travel_cost\": lambda total_travel_distance, n_samples: Shared_3p_Reg['total_travel_cost_on_total_travel_distance'].params[0] + \n",
    "#                                                                   Shared_3p_Reg['total_travel_cost_on_total_travel_distance'].params[1] * \n",
    "#                                                                   bike_data_no_parent['total_travel_distance_drive_alone'] + \n",
    "#                                                                   np.random.normal(loc=0,\n",
    "#                                                                                    scale = Shared_3p_Reg['total_travel_cost_on_total_travel_distance'].resid.std(),\n",
    "#                                                                                    size = n_samples),\n",
    "#     \"household_size\": lambda n_samples: bike_data_no_parent['household_size'],\n",
    "#     \"num_kids\": lambda n_samples: bike_data_no_parent['num_kids'],\n",
    "#     \"num_licensed_drivers\": lambda n_samples: bike_data_no_parent['num_licensed_drivers'],\n",
    "#     \"num_cars\": lambda n_samples: bike_data_no_parent['num_cars'],\n",
    "#     \"cross_bay\": lambda n_samples: bike_data_no_parent['cross_bay'],\n",
    "#     \"utility_shared_3+\": lambda n_samples: np.zeros(shape=n_samples)\n",
    "# })"
   ]
  },
  {
   "cell_type": "markdown",
   "metadata": {},
   "source": [
    "### 3.5.4. Walk-Transit-Walk"
   ]
  },
  {
   "cell_type": "code",
   "execution_count": 51,
   "metadata": {},
   "outputs": [
    {
     "data": {
      "image/svg+xml": [
       "<?xml version=\"1.0\" encoding=\"UTF-8\" standalone=\"no\"?>\n",
       "<!DOCTYPE svg PUBLIC \"-//W3C//DTD SVG 1.1//EN\"\n",
       " \"http://www.w3.org/Graphics/SVG/1.1/DTD/svg11.dtd\">\n",
       "<!-- Generated by graphviz version 2.42.3 (20191010.1750)\n",
       " -->\n",
       "<!-- Title: %3 Pages: 1 -->\n",
       "<svg width=\"393pt\" height=\"188pt\"\n",
       " viewBox=\"0.00 0.00 392.53 188.00\" xmlns=\"http://www.w3.org/2000/svg\" xmlns:xlink=\"http://www.w3.org/1999/xlink\">\n",
       "<g id=\"graph0\" class=\"graph\" transform=\"scale(1 1) rotate(0) translate(4 184)\">\n",
       "<title>%3</title>\n",
       "<polygon fill=\"white\" stroke=\"transparent\" points=\"-4,4 -4,-184 388.53,-184 388.53,4 -4,4\"/>\n",
       "<!-- Total Travel Distance -->\n",
       "<g id=\"node1\" class=\"node\">\n",
       "<title>Total Travel Distance</title>\n",
       "<ellipse fill=\"none\" stroke=\"black\" cx=\"86.13\" cy=\"-162\" rx=\"86.25\" ry=\"18\"/>\n",
       "<text text-anchor=\"middle\" x=\"86.13\" y=\"-157.8\" font-family=\"Times,serif\" font-size=\"14.00\">Total Travel Distance</text>\n",
       "</g>\n",
       "<!-- Utility (WTW) -->\n",
       "<g id=\"node2\" class=\"node\">\n",
       "<title>Utility (WTW)</title>\n",
       "<ellipse fill=\"none\" stroke=\"black\" cx=\"263.13\" cy=\"-18\" rx=\"63.29\" ry=\"18\"/>\n",
       "<text text-anchor=\"middle\" x=\"263.13\" y=\"-13.8\" font-family=\"Times,serif\" font-size=\"14.00\">Utility (WTW)</text>\n",
       "</g>\n",
       "<!-- Total Travel Time -->\n",
       "<g id=\"node3\" class=\"node\">\n",
       "<title>Total Travel Time</title>\n",
       "<ellipse fill=\"none\" stroke=\"black\" cx=\"264.13\" cy=\"-162\" rx=\"73.28\" ry=\"18\"/>\n",
       "<text text-anchor=\"middle\" x=\"264.13\" y=\"-157.8\" font-family=\"Times,serif\" font-size=\"14.00\">Total Travel Time</text>\n",
       "</g>\n",
       "<!-- Total Travel Time&#45;&gt;Utility (WTW) -->\n",
       "<g id=\"edge2\" class=\"edge\">\n",
       "<title>Total Travel Time&#45;&gt;Utility (WTW)</title>\n",
       "<path fill=\"none\" stroke=\"black\" d=\"M250.98,-143.91C244.2,-134.01 236.64,-120.96 233.13,-108 228.94,-92.56 229.05,-87.47 233.13,-72 235.66,-62.39 240.38,-52.69 245.33,-44.26\"/>\n",
       "<polygon fill=\"black\" stroke=\"black\" points=\"248.36,-46.02 250.71,-35.68 242.43,-42.3 248.36,-46.02\"/>\n",
       "</g>\n",
       "<!-- Total Travel Cost -->\n",
       "<g id=\"node4\" class=\"node\">\n",
       "<title>Total Travel Cost</title>\n",
       "<ellipse fill=\"none\" stroke=\"black\" cx=\"313.13\" cy=\"-90\" rx=\"71.31\" ry=\"18\"/>\n",
       "<text text-anchor=\"middle\" x=\"313.13\" y=\"-85.8\" font-family=\"Times,serif\" font-size=\"14.00\">Total Travel Cost</text>\n",
       "</g>\n",
       "<!-- Total Travel Time&#45;&gt;Total Travel Cost -->\n",
       "<g id=\"edge1\" class=\"edge\">\n",
       "<title>Total Travel Time&#45;&gt;Total Travel Cost</title>\n",
       "<path fill=\"none\" stroke=\"black\" d=\"M275.99,-144.05C281.83,-135.71 288.98,-125.49 295.45,-116.25\"/>\n",
       "<polygon fill=\"black\" stroke=\"black\" points=\"298.51,-117.99 301.37,-107.79 292.77,-113.97 298.51,-117.99\"/>\n",
       "</g>\n",
       "<!-- Total Travel Cost&#45;&gt;Utility (WTW) -->\n",
       "<g id=\"edge3\" class=\"edge\">\n",
       "<title>Total Travel Cost&#45;&gt;Utility (WTW)</title>\n",
       "<path fill=\"none\" stroke=\"black\" d=\"M301.02,-72.05C295,-63.63 287.61,-53.28 280.96,-43.97\"/>\n",
       "<polygon fill=\"black\" stroke=\"black\" points=\"283.78,-41.89 275.12,-35.79 278.08,-45.96 283.78,-41.89\"/>\n",
       "</g>\n",
       "</g>\n",
       "</svg>\n"
      ],
      "text/plain": [
       "<graphviz.dot.Digraph at 0x1c1929e290>"
      ]
     },
     "execution_count": 51,
     "metadata": {},
     "output_type": "execute_result"
    }
   ],
   "source": [
    "V_WTW.draw()"
   ]
  },
  {
   "cell_type": "code",
   "execution_count": 52,
   "metadata": {},
   "outputs": [],
   "source": [
    "sim_bike_data_wide['total_travel_cost_wtw'] = WTW_Reg['total_travel_cost_on_total_travel_time'].params[0] +\\\n",
    "                                                  WTW_Reg['total_travel_cost_on_total_travel_time'].params[1] *\\\n",
    "                                                  sim_bike_data_wide['total_travel_time_wtw'] +\\\n",
    "                                                  np.random.normal(loc=0,\n",
    "                                                                   scale = WTW_Reg['total_travel_cost_on_total_travel_time'].resid.std(),\n",
    "                                                                   size = sim_size)"
   ]
  },
  {
   "cell_type": "markdown",
   "metadata": {},
   "source": [
    "### 3.5.5. Drive-Transit-Walk"
   ]
  },
  {
   "cell_type": "code",
   "execution_count": 53,
   "metadata": {},
   "outputs": [
    {
     "data": {
      "image/svg+xml": [
       "<?xml version=\"1.0\" encoding=\"UTF-8\" standalone=\"no\"?>\n",
       "<!DOCTYPE svg PUBLIC \"-//W3C//DTD SVG 1.1//EN\"\n",
       " \"http://www.w3.org/Graphics/SVG/1.1/DTD/svg11.dtd\">\n",
       "<!-- Generated by graphviz version 2.42.3 (20191010.1750)\n",
       " -->\n",
       "<!-- Title: %3 Pages: 1 -->\n",
       "<svg width=\"203pt\" height=\"188pt\"\n",
       " viewBox=\"0.00 0.00 202.80 188.00\" xmlns=\"http://www.w3.org/2000/svg\" xmlns:xlink=\"http://www.w3.org/1999/xlink\">\n",
       "<g id=\"graph0\" class=\"graph\" transform=\"scale(1 1) rotate(0) translate(4 184)\">\n",
       "<title>%3</title>\n",
       "<polygon fill=\"white\" stroke=\"transparent\" points=\"-4,4 -4,-184 198.8,-184 198.8,4 -4,4\"/>\n",
       "<!-- Utility (DTW) -->\n",
       "<g id=\"node1\" class=\"node\">\n",
       "<title>Utility (DTW)</title>\n",
       "<ellipse fill=\"none\" stroke=\"black\" cx=\"73.39\" cy=\"-18\" rx=\"61.37\" ry=\"18\"/>\n",
       "<text text-anchor=\"middle\" x=\"73.39\" y=\"-13.8\" font-family=\"Times,serif\" font-size=\"14.00\">Utility (DTW)</text>\n",
       "</g>\n",
       "<!-- Total Travel Time -->\n",
       "<g id=\"node2\" class=\"node\">\n",
       "<title>Total Travel Time</title>\n",
       "<ellipse fill=\"none\" stroke=\"black\" cx=\"73.39\" cy=\"-162\" rx=\"73.28\" ry=\"18\"/>\n",
       "<text text-anchor=\"middle\" x=\"73.39\" y=\"-157.8\" font-family=\"Times,serif\" font-size=\"14.00\">Total Travel Time</text>\n",
       "</g>\n",
       "<!-- Total Travel Time&#45;&gt;Utility (DTW) -->\n",
       "<g id=\"edge2\" class=\"edge\">\n",
       "<title>Total Travel Time&#45;&gt;Utility (DTW)</title>\n",
       "<path fill=\"none\" stroke=\"black\" d=\"M60.66,-143.85C54.1,-133.92 46.78,-120.88 43.39,-108 39.31,-92.53 39.31,-87.47 43.39,-72 45.92,-62.39 50.64,-52.69 55.59,-44.26\"/>\n",
       "<polygon fill=\"black\" stroke=\"black\" points=\"58.63,-46.02 60.97,-35.68 52.7,-42.3 58.63,-46.02\"/>\n",
       "</g>\n",
       "<!-- Total Travel Cost -->\n",
       "<g id=\"node3\" class=\"node\">\n",
       "<title>Total Travel Cost</title>\n",
       "<ellipse fill=\"none\" stroke=\"black\" cx=\"123.39\" cy=\"-90\" rx=\"71.31\" ry=\"18\"/>\n",
       "<text text-anchor=\"middle\" x=\"123.39\" y=\"-85.8\" font-family=\"Times,serif\" font-size=\"14.00\">Total Travel Cost</text>\n",
       "</g>\n",
       "<!-- Total Travel Time&#45;&gt;Total Travel Cost -->\n",
       "<g id=\"edge1\" class=\"edge\">\n",
       "<title>Total Travel Time&#45;&gt;Total Travel Cost</title>\n",
       "<path fill=\"none\" stroke=\"black\" d=\"M85.49,-144.05C91.51,-135.63 98.9,-125.28 105.56,-115.97\"/>\n",
       "<polygon fill=\"black\" stroke=\"black\" points=\"108.43,-117.96 111.4,-107.79 102.74,-113.89 108.43,-117.96\"/>\n",
       "</g>\n",
       "<!-- Total Travel Cost&#45;&gt;Utility (DTW) -->\n",
       "<g id=\"edge3\" class=\"edge\">\n",
       "<title>Total Travel Cost&#45;&gt;Utility (DTW)</title>\n",
       "<path fill=\"none\" stroke=\"black\" d=\"M111.28,-72.05C105.27,-63.63 97.87,-53.28 91.22,-43.97\"/>\n",
       "<polygon fill=\"black\" stroke=\"black\" points=\"94.04,-41.89 85.38,-35.79 88.35,-45.96 94.04,-41.89\"/>\n",
       "</g>\n",
       "</g>\n",
       "</svg>\n"
      ],
      "text/plain": [
       "<graphviz.dot.Digraph at 0x1c1929e250>"
      ]
     },
     "execution_count": 53,
     "metadata": {},
     "output_type": "execute_result"
    }
   ],
   "source": [
    "V_DTW.draw()"
   ]
  },
  {
   "cell_type": "code",
   "execution_count": 54,
   "metadata": {},
   "outputs": [],
   "source": [
    "sim_bike_data_wide['total_travel_cost_dtw'] = DTW_Reg['total_travel_cost_on_total_travel_time'].params[0] +\\\n",
    "                                                  DTW_Reg['total_travel_cost_on_total_travel_time'].params[1] *\\\n",
    "                                                  sim_bike_data_wide['total_travel_time_dtw'] +\\\n",
    "                                                  np.random.normal(loc=0,\n",
    "                                                                   scale = DTW_Reg['total_travel_cost_on_total_travel_time'].resid.std(),\n",
    "                                                                   size = sim_size)"
   ]
  },
  {
   "cell_type": "markdown",
   "metadata": {},
   "source": [
    "### 3.5.6. Walk-Transit-Drive"
   ]
  },
  {
   "cell_type": "code",
   "execution_count": 55,
   "metadata": {},
   "outputs": [
    {
     "data": {
      "image/svg+xml": [
       "<?xml version=\"1.0\" encoding=\"UTF-8\" standalone=\"no\"?>\n",
       "<!DOCTYPE svg PUBLIC \"-//W3C//DTD SVG 1.1//EN\"\n",
       " \"http://www.w3.org/Graphics/SVG/1.1/DTD/svg11.dtd\">\n",
       "<!-- Generated by graphviz version 2.42.3 (20191010.1750)\n",
       " -->\n",
       "<!-- Title: %3 Pages: 1 -->\n",
       "<svg width=\"203pt\" height=\"188pt\"\n",
       " viewBox=\"0.00 0.00 202.80 188.00\" xmlns=\"http://www.w3.org/2000/svg\" xmlns:xlink=\"http://www.w3.org/1999/xlink\">\n",
       "<g id=\"graph0\" class=\"graph\" transform=\"scale(1 1) rotate(0) translate(4 184)\">\n",
       "<title>%3</title>\n",
       "<polygon fill=\"white\" stroke=\"transparent\" points=\"-4,4 -4,-184 198.8,-184 198.8,4 -4,4\"/>\n",
       "<!-- Utility (WTD) -->\n",
       "<g id=\"node1\" class=\"node\">\n",
       "<title>Utility (WTD)</title>\n",
       "<ellipse fill=\"none\" stroke=\"black\" cx=\"73.39\" cy=\"-18\" rx=\"61.37\" ry=\"18\"/>\n",
       "<text text-anchor=\"middle\" x=\"73.39\" y=\"-13.8\" font-family=\"Times,serif\" font-size=\"14.00\">Utility (WTD)</text>\n",
       "</g>\n",
       "<!-- Total Travel Time -->\n",
       "<g id=\"node2\" class=\"node\">\n",
       "<title>Total Travel Time</title>\n",
       "<ellipse fill=\"none\" stroke=\"black\" cx=\"73.39\" cy=\"-162\" rx=\"73.28\" ry=\"18\"/>\n",
       "<text text-anchor=\"middle\" x=\"73.39\" y=\"-157.8\" font-family=\"Times,serif\" font-size=\"14.00\">Total Travel Time</text>\n",
       "</g>\n",
       "<!-- Total Travel Time&#45;&gt;Utility (WTD) -->\n",
       "<g id=\"edge2\" class=\"edge\">\n",
       "<title>Total Travel Time&#45;&gt;Utility (WTD)</title>\n",
       "<path fill=\"none\" stroke=\"black\" d=\"M60.66,-143.85C54.1,-133.92 46.78,-120.88 43.39,-108 39.31,-92.53 39.31,-87.47 43.39,-72 45.92,-62.39 50.64,-52.69 55.59,-44.26\"/>\n",
       "<polygon fill=\"black\" stroke=\"black\" points=\"58.63,-46.02 60.97,-35.68 52.7,-42.3 58.63,-46.02\"/>\n",
       "</g>\n",
       "<!-- Total Travel Cost -->\n",
       "<g id=\"node3\" class=\"node\">\n",
       "<title>Total Travel Cost</title>\n",
       "<ellipse fill=\"none\" stroke=\"black\" cx=\"123.39\" cy=\"-90\" rx=\"71.31\" ry=\"18\"/>\n",
       "<text text-anchor=\"middle\" x=\"123.39\" y=\"-85.8\" font-family=\"Times,serif\" font-size=\"14.00\">Total Travel Cost</text>\n",
       "</g>\n",
       "<!-- Total Travel Time&#45;&gt;Total Travel Cost -->\n",
       "<g id=\"edge1\" class=\"edge\">\n",
       "<title>Total Travel Time&#45;&gt;Total Travel Cost</title>\n",
       "<path fill=\"none\" stroke=\"black\" d=\"M85.49,-144.05C91.51,-135.63 98.9,-125.28 105.56,-115.97\"/>\n",
       "<polygon fill=\"black\" stroke=\"black\" points=\"108.43,-117.96 111.4,-107.79 102.74,-113.89 108.43,-117.96\"/>\n",
       "</g>\n",
       "<!-- Total Travel Cost&#45;&gt;Utility (WTD) -->\n",
       "<g id=\"edge3\" class=\"edge\">\n",
       "<title>Total Travel Cost&#45;&gt;Utility (WTD)</title>\n",
       "<path fill=\"none\" stroke=\"black\" d=\"M111.28,-72.05C105.27,-63.63 97.87,-53.28 91.22,-43.97\"/>\n",
       "<polygon fill=\"black\" stroke=\"black\" points=\"94.04,-41.89 85.38,-35.79 88.35,-45.96 94.04,-41.89\"/>\n",
       "</g>\n",
       "</g>\n",
       "</svg>\n"
      ],
      "text/plain": [
       "<graphviz.dot.Digraph at 0x1c1929e5d0>"
      ]
     },
     "execution_count": 55,
     "metadata": {},
     "output_type": "execute_result"
    }
   ],
   "source": [
    "V_WTD.draw()"
   ]
  },
  {
   "cell_type": "code",
   "execution_count": 56,
   "metadata": {},
   "outputs": [],
   "source": [
    "sim_bike_data_wide['total_travel_cost_wtd'] = WTD_Reg['total_travel_cost_on_total_travel_time'].params[0] +\\\n",
    "                                                  WTD_Reg['total_travel_cost_on_total_travel_time'].params[1] *\\\n",
    "                                                  sim_bike_data_wide['total_travel_time_wtd'] +\\\n",
    "                                                  np.random.normal(loc=0,\n",
    "                                                                   scale = WTD_Reg['total_travel_cost_on_total_travel_time'].resid.std(),\n",
    "                                                                   size = sim_size)"
   ]
  },
  {
   "cell_type": "markdown",
   "metadata": {},
   "source": [
    "### 3.5.7. Walk"
   ]
  },
  {
   "cell_type": "code",
   "execution_count": 57,
   "metadata": {},
   "outputs": [
    {
     "data": {
      "image/svg+xml": [
       "<?xml version=\"1.0\" encoding=\"UTF-8\" standalone=\"no\"?>\n",
       "<!DOCTYPE svg PUBLIC \"-//W3C//DTD SVG 1.1//EN\"\n",
       " \"http://www.w3.org/Graphics/SVG/1.1/DTD/svg11.dtd\">\n",
       "<!-- Generated by graphviz version 2.42.3 (20191010.1750)\n",
       " -->\n",
       "<!-- Title: %3 Pages: 1 -->\n",
       "<svg width=\"180pt\" height=\"116pt\"\n",
       " viewBox=\"0.00 0.00 180.25 116.00\" xmlns=\"http://www.w3.org/2000/svg\" xmlns:xlink=\"http://www.w3.org/1999/xlink\">\n",
       "<g id=\"graph0\" class=\"graph\" transform=\"scale(1 1) rotate(0) translate(4 112)\">\n",
       "<title>%3</title>\n",
       "<polygon fill=\"white\" stroke=\"transparent\" points=\"-4,4 -4,-112 176.25,-112 176.25,4 -4,4\"/>\n",
       "<!-- Total Travel Distance -->\n",
       "<g id=\"node1\" class=\"node\">\n",
       "<title>Total Travel Distance</title>\n",
       "<ellipse fill=\"none\" stroke=\"black\" cx=\"86.13\" cy=\"-90\" rx=\"86.25\" ry=\"18\"/>\n",
       "<text text-anchor=\"middle\" x=\"86.13\" y=\"-85.8\" font-family=\"Times,serif\" font-size=\"14.00\">Total Travel Distance</text>\n",
       "</g>\n",
       "<!-- Utility (Walk) -->\n",
       "<g id=\"node2\" class=\"node\">\n",
       "<title>Utility (Walk)</title>\n",
       "<ellipse fill=\"none\" stroke=\"black\" cx=\"86.13\" cy=\"-18\" rx=\"60\" ry=\"18\"/>\n",
       "<text text-anchor=\"middle\" x=\"86.13\" y=\"-13.8\" font-family=\"Times,serif\" font-size=\"14.00\">Utility (Walk)</text>\n",
       "</g>\n",
       "<!-- Total Travel Distance&#45;&gt;Utility (Walk) -->\n",
       "<g id=\"edge1\" class=\"edge\">\n",
       "<title>Total Travel Distance&#45;&gt;Utility (Walk)</title>\n",
       "<path fill=\"none\" stroke=\"black\" d=\"M86.13,-71.7C86.13,-63.98 86.13,-54.71 86.13,-46.11\"/>\n",
       "<polygon fill=\"black\" stroke=\"black\" points=\"89.63,-46.1 86.13,-36.1 82.63,-46.1 89.63,-46.1\"/>\n",
       "</g>\n",
       "</g>\n",
       "</svg>\n"
      ],
      "text/plain": [
       "<graphviz.dot.Digraph at 0x1c1929e890>"
      ]
     },
     "execution_count": 57,
     "metadata": {},
     "output_type": "execute_result"
    }
   ],
   "source": [
    "V_Walk.draw()"
   ]
  },
  {
   "cell_type": "markdown",
   "metadata": {},
   "source": [
    "No need to simulate any other variables since Walk Total Travel Distance was already simulated"
   ]
  },
  {
   "cell_type": "markdown",
   "metadata": {},
   "source": [
    "### 3.5.8. Bike"
   ]
  },
  {
   "cell_type": "code",
   "execution_count": 58,
   "metadata": {},
   "outputs": [
    {
     "data": {
      "image/svg+xml": [
       "<?xml version=\"1.0\" encoding=\"UTF-8\" standalone=\"no\"?>\n",
       "<!DOCTYPE svg PUBLIC \"-//W3C//DTD SVG 1.1//EN\"\n",
       " \"http://www.w3.org/Graphics/SVG/1.1/DTD/svg11.dtd\">\n",
       "<!-- Generated by graphviz version 2.42.3 (20191010.1750)\n",
       " -->\n",
       "<!-- Title: %3 Pages: 1 -->\n",
       "<svg width=\"180pt\" height=\"116pt\"\n",
       " viewBox=\"0.00 0.00 180.25 116.00\" xmlns=\"http://www.w3.org/2000/svg\" xmlns:xlink=\"http://www.w3.org/1999/xlink\">\n",
       "<g id=\"graph0\" class=\"graph\" transform=\"scale(1 1) rotate(0) translate(4 112)\">\n",
       "<title>%3</title>\n",
       "<polygon fill=\"white\" stroke=\"transparent\" points=\"-4,4 -4,-112 176.25,-112 176.25,4 -4,4\"/>\n",
       "<!-- Total Travel Distance -->\n",
       "<g id=\"node1\" class=\"node\">\n",
       "<title>Total Travel Distance</title>\n",
       "<ellipse fill=\"none\" stroke=\"black\" cx=\"86.13\" cy=\"-90\" rx=\"86.25\" ry=\"18\"/>\n",
       "<text text-anchor=\"middle\" x=\"86.13\" y=\"-85.8\" font-family=\"Times,serif\" font-size=\"14.00\">Total Travel Distance</text>\n",
       "</g>\n",
       "<!-- Utility (Bike) -->\n",
       "<g id=\"node2\" class=\"node\">\n",
       "<title>Utility (Bike)</title>\n",
       "<ellipse fill=\"none\" stroke=\"black\" cx=\"86.13\" cy=\"-18\" rx=\"58.01\" ry=\"18\"/>\n",
       "<text text-anchor=\"middle\" x=\"86.13\" y=\"-13.8\" font-family=\"Times,serif\" font-size=\"14.00\">Utility (Bike)</text>\n",
       "</g>\n",
       "<!-- Total Travel Distance&#45;&gt;Utility (Bike) -->\n",
       "<g id=\"edge1\" class=\"edge\">\n",
       "<title>Total Travel Distance&#45;&gt;Utility (Bike)</title>\n",
       "<path fill=\"none\" stroke=\"black\" d=\"M86.13,-71.7C86.13,-63.98 86.13,-54.71 86.13,-46.11\"/>\n",
       "<polygon fill=\"black\" stroke=\"black\" points=\"89.63,-46.1 86.13,-36.1 82.63,-46.1 89.63,-46.1\"/>\n",
       "</g>\n",
       "</g>\n",
       "</svg>\n"
      ],
      "text/plain": [
       "<graphviz.dot.Digraph at 0x1c1929edd0>"
      ]
     },
     "execution_count": 58,
     "metadata": {},
     "output_type": "execute_result"
    }
   ],
   "source": [
    "V_Bike.draw()"
   ]
  },
  {
   "cell_type": "markdown",
   "metadata": {},
   "source": [
    "No need to simulate any other variables since Bike Total Travel Distance was already simulated"
   ]
  },
  {
   "cell_type": "markdown",
   "metadata": {},
   "source": [
    "## 3.6. Simulate Availability of Alternatives "
   ]
  },
  {
   "cell_type": "code",
   "execution_count": 59,
   "metadata": {},
   "outputs": [],
   "source": [
    "# Simulate availability, add fake choice column\n",
    "# and return final simulated data with availability\n",
    "# and choices\n",
    "wide_sim_data_availability = SimulateAvailability(data_long=bike_data_long,\n",
    "                                     sim_data=sim_bike_data_wide,\n",
    "                                     obs_id_col=observation_id_col,\n",
    "                                     alt_name_dict=alternative_name_dict)"
   ]
  },
  {
   "cell_type": "markdown",
   "metadata": {},
   "source": [
    "## 3.7. Convert Simulated Data from Wide to Long"
   ]
  },
  {
   "cell_type": "code",
   "execution_count": 60,
   "metadata": {},
   "outputs": [],
   "source": [
    "ind_variables = ['num_kids', 'household_size',\n",
    "                 'num_cars', 'num_licensed_drivers', 'cross_bay']\n",
    "\n",
    "\n",
    "\n",
    "# Dictionary of Alternative Specific Variables\n",
    "# TODO: verify whether all variables are needed\n",
    "# for each alternative\n",
    "alt_varying_variables = {u'total_travel_time': dict([(1, 'total_travel_time_drive_alone'),\n",
    "                                                     (2, 'total_travel_time_shared_2'),\n",
    "                                                     (3, 'total_travel_time_shared_3p'),\n",
    "                                                     (4, 'total_travel_time_wtw'),\n",
    "                                                     (5, 'total_travel_time_dtw'),\n",
    "                                                     (6, 'total_travel_time_wtd')]),\n",
    "                         u'total_travel_cost': dict([(1, 'total_travel_cost_drive_alone'),\n",
    "                                                     (2, 'total_travel_cost_shared_2'),\n",
    "                                                     (3, 'total_travel_cost_shared_3p'),\n",
    "                                                     (4, 'total_travel_cost_wtw'),\n",
    "                                                     (5, 'total_travel_cost_dtw'),\n",
    "                                                     (6, 'total_travel_cost_wtd')]),\n",
    "                         u'total_travel_distance': dict([(1, 'total_travel_distance_drive_alone'),\n",
    "                                                         (2, 'total_travel_distance_shared_2'),\n",
    "                                                         (3, 'total_travel_distance_shared_3p'),\n",
    "                                                         (7, 'total_travel_distance_walk'),\n",
    "                                                         (8, 'total_travel_distance_bike')]),\n",
    "                            }\n",
    "\n",
    "\n",
    "# Dictionary of alternative availability variables\n",
    "availability_variables = {1: 'drive_alone_AV',\n",
    "                          2: 'shared_2_AV',\n",
    "                          3: 'shared_3p_AV',\n",
    "                          4: 'wtw_AV',\n",
    "                          5: 'dtw_AV',\n",
    "                          6: 'wtd_AV',\n",
    "                          7: 'walk_AV',\n",
    "                          8: 'bike_AV'}\n",
    "\n",
    "##########\n",
    "# Determine the columns for: alternative ids, the observation ids and the choice\n",
    "##########\n",
    "# The 'custom_alt_id' is the name of a column to be created in the long-format data\n",
    "# It will identify the alternative associated with each row.\n",
    "custom_alt_id = \"mode_id\"\n",
    "\n",
    "# Create a custom id column that ignores the fact that this is a\n",
    "# panel/repeated-observations dataset. Note the +1 ensures the id's start at one.\n",
    "obs_id_column = \"observation_id\"\n",
    "wide_sim_data_availability[obs_id_column] = np.arange(wide_sim_data_availability.shape[0],\n",
    "                                         dtype=int) + 1\n",
    "\n",
    "\n",
    "# Declare choice column\n",
    "choice_column = \"sim_choice\""
   ]
  },
  {
   "cell_type": "code",
   "execution_count": 61,
   "metadata": {},
   "outputs": [],
   "source": [
    "# Convert data from wide to long\n",
    "long_sim_data = pl.convert_wide_to_long(wide_sim_data_availability,\n",
    "                                        ind_variables,\n",
    "                                        alt_varying_variables,\n",
    "                                        availability_variables,\n",
    "                                        obs_id_column,\n",
    "                                        choice_column,\n",
    "                                        new_alt_id_name=custom_alt_id)"
   ]
  },
  {
   "cell_type": "code",
   "execution_count": 62,
   "metadata": {},
   "outputs": [],
   "source": [
    "# Create a cars per licensed drivers column\n",
    "long_sim_data[\"cars_per_licensed_drivers\"] = 0\n",
    "long_sim_data.loc[long_sim_data.num_licensed_drivers > 0,\n",
    "                  \"cars_per_licensed_drivers\"] = long_sim_data.num_cars / long_sim_data.num_licensed_drivers.astype(float)"
   ]
  },
  {
   "cell_type": "code",
   "execution_count": 63,
   "metadata": {},
   "outputs": [],
   "source": [
    "# Add a variable representing cost divided by distance\n",
    "long_sim_data[\"cost_per_distance\"] = 0\n",
    "long_sim_data.loc[long_sim_data.mode_id.isin([1, 2, 3]),\n",
    "                  \"cost_per_distance\"] = (long_sim_data.loc[long_sim_data.mode_id.isin([1, 2, 3]),\n",
    "                                                            \"total_travel_cost\"] /\n",
    "                                          long_sim_data.loc[long_sim_data.mode_id.isin([1, 2, 3]),\n",
    "                                                            \"total_travel_distance\"])"
   ]
  },
  {
   "cell_type": "markdown",
   "metadata": {},
   "source": [
    "## 3.8. Simulate Choices "
   ]
  },
  {
   "cell_type": "code",
   "execution_count": 64,
   "metadata": {},
   "outputs": [
    {
     "name": "stderr",
     "output_type": "stream",
     "text": [
      "/Users/mobouzaghrane/opt/anaconda3/lib/python3.7/site-packages/pylogit/choice_tools.py:703: FutureWarning: arrays to stack must be passed as a \"sequence\" type such as list or tuple. Support for non-sequence iterables such as generators is deprecated as of NumPy 1.16 and will raise an error in the future.\n",
      "  design_matrix = np.hstack((x[:, None] for x in independent_vars))\n"
     ]
    }
   ],
   "source": [
    "# Calculate probabilities for each alternative\n",
    "# based on the estimated model\n",
    "posterior_probs = mnl_model.predict(long_sim_data)"
   ]
  },
  {
   "cell_type": "code",
   "execution_count": 65,
   "metadata": {},
   "outputs": [
    {
     "data": {
      "application/vnd.jupyter.widget-view+json": {
       "model_id": "e77f205ead8e494eaa9b55f975ff97a5",
       "version_major": 2,
       "version_minor": 0
      },
      "text/plain": [
       "HBox(children=(IntProgress(value=0, description='Simulating Choices', max=8000, style=ProgressStyle(descriptio…"
      ]
     },
     "metadata": {},
     "output_type": "display_data"
    },
    {
     "name": "stdout",
     "output_type": "stream",
     "text": [
      "\n"
     ]
    }
   ],
   "source": [
    "# Simulate choice data\n",
    "long_sim_data['sim_choice'] = viz.simulate_choice_vector(posterior_probs,\n",
    "                               long_sim_data['observation_id'].values)"
   ]
  },
  {
   "cell_type": "markdown",
   "metadata": {},
   "source": [
    "## 3.9. Estimate Model"
   ]
  },
  {
   "cell_type": "code",
   "execution_count": 66,
   "metadata": {},
   "outputs": [
    {
     "name": "stdout",
     "output_type": "stream",
     "text": [
      "Log-likelihood at zero: -15,202.8663\n",
      "Initial Log-likelihood: -15,202.8663\n"
     ]
    },
    {
     "name": "stderr",
     "output_type": "stream",
     "text": [
      "/Users/mobouzaghrane/opt/anaconda3/lib/python3.7/site-packages/scipy/optimize/_minimize.py:505: RuntimeWarning: Method BFGS does not use Hessian information (hess).\n",
      "  RuntimeWarning)\n"
     ]
    },
    {
     "name": "stdout",
     "output_type": "stream",
     "text": [
      "Estimation Time for Point Estimation: 0.44 seconds.\n",
      "Final log-likelihood: -5,738.1350\n"
     ]
    },
    {
     "data": {
      "text/html": [
       "<table class=\"simpletable\">\n",
       "<caption>Multinomial Logit Model Regression Results</caption>\n",
       "<tr>\n",
       "  <th>Dep. Variable:</th>       <td>sim_choice</td>        <th>  No. Observations:  </th>    <td>8,000</td>   \n",
       "</tr>\n",
       "<tr>\n",
       "  <th>Model:</th>         <td>Multinomial Logit Model</td> <th>  Df Residuals:      </th>    <td>7,981</td>   \n",
       "</tr>\n",
       "<tr>\n",
       "  <th>Method:</th>                  <td>MLE</td>           <th>  Df Model:          </th>     <td>19</td>     \n",
       "</tr>\n",
       "<tr>\n",
       "  <th>Date:</th>             <td>Sat, 28 Mar 2020</td>     <th>  Pseudo R-squ.:     </th>    <td>0.623</td>   \n",
       "</tr>\n",
       "<tr>\n",
       "  <th>Time:</th>                 <td>11:24:39</td>         <th>  Pseudo R-bar-squ.: </th>    <td>0.621</td>   \n",
       "</tr>\n",
       "<tr>\n",
       "  <th>AIC:</th>                 <td>11,514.270</td>        <th>  Log-Likelihood:    </th> <td>-5,738.135</td> \n",
       "</tr>\n",
       "<tr>\n",
       "  <th>BIC:</th>                 <td>11,647.027</td>        <th>  LL-Null:           </th> <td>-15,202.866</td>\n",
       "</tr>\n",
       "</table>\n",
       "<table class=\"simpletable\">\n",
       "<tr>\n",
       "                            <td></td>                              <th>coef</th>     <th>std err</th>      <th>z</th>      <th>P>|z|</th>  <th>[0.025</th>    <th>0.975]</th>  \n",
       "</tr>\n",
       "<tr>\n",
       "  <th>ASC Shared Ride: 2</th>                                   <td>   -0.9238</td> <td>    0.129</td> <td>   -7.155</td> <td> 0.000</td> <td>   -1.177</td> <td>   -0.671</td>\n",
       "</tr>\n",
       "<tr>\n",
       "  <th>ASC Shared Ride: 3+</th>                                  <td>    3.5857</td> <td>    0.201</td> <td>   17.804</td> <td> 0.000</td> <td>    3.191</td> <td>    3.980</td>\n",
       "</tr>\n",
       "<tr>\n",
       "  <th>ASC Walk-Transit-Walk</th>                                <td>   -0.4172</td> <td>    0.138</td> <td>   -3.020</td> <td> 0.003</td> <td>   -0.688</td> <td>   -0.146</td>\n",
       "</tr>\n",
       "<tr>\n",
       "  <th>ASC Drive-Transit-Walk</th>                               <td>   -2.5357</td> <td>    0.143</td> <td>  -17.693</td> <td> 0.000</td> <td>   -2.817</td> <td>   -2.255</td>\n",
       "</tr>\n",
       "<tr>\n",
       "  <th>ASC Walk-Transit-Drive</th>                               <td>   -3.0301</td> <td>    0.153</td> <td>  -19.754</td> <td> 0.000</td> <td>   -3.331</td> <td>   -2.729</td>\n",
       "</tr>\n",
       "<tr>\n",
       "  <th>ASC Walk</th>                                             <td>    1.5918</td> <td>    0.138</td> <td>   11.493</td> <td> 0.000</td> <td>    1.320</td> <td>    1.863</td>\n",
       "</tr>\n",
       "<tr>\n",
       "  <th>ASC Bike</th>                                             <td>   -0.9374</td> <td>    0.114</td> <td>   -8.248</td> <td> 0.000</td> <td>   -1.160</td> <td>   -0.715</td>\n",
       "</tr>\n",
       "<tr>\n",
       "  <th>Travel Time, units:min (All Auto Modes)</th>              <td>   -0.0727</td> <td>    0.002</td> <td>  -32.741</td> <td> 0.000</td> <td>   -0.077</td> <td>   -0.068</td>\n",
       "</tr>\n",
       "<tr>\n",
       "  <th>Travel Time, units:min (All Transit Modes)</th>           <td>   -0.0267</td> <td>    0.001</td> <td>  -18.924</td> <td> 0.000</td> <td>   -0.029</td> <td>   -0.024</td>\n",
       "</tr>\n",
       "<tr>\n",
       "  <th>Travel Cost, units:$ (All Transit Modes)</th>             <td>   -0.1120</td> <td>    0.019</td> <td>   -5.921</td> <td> 0.000</td> <td>   -0.149</td> <td>   -0.075</td>\n",
       "</tr>\n",
       "<tr>\n",
       "  <th>Travel Cost per Distance, units:$/mi (Drive Alone)</th>   <td>   -5.0320</td> <td>    0.189</td> <td>  -26.585</td> <td> 0.000</td> <td>   -5.403</td> <td>   -4.661</td>\n",
       "</tr>\n",
       "<tr>\n",
       "  <th>Travel Cost per Distance, units:$/mi (SharedRide-2)</th>  <td>  -20.4558</td> <td>    0.627</td> <td>  -32.641</td> <td> 0.000</td> <td>  -21.684</td> <td>  -19.228</td>\n",
       "</tr>\n",
       "<tr>\n",
       "  <th>Travel Cost per Distance, units:$/mi (SharedRide-3+)</th> <td>  -93.2597</td> <td>    2.730</td> <td>  -34.167</td> <td> 0.000</td> <td>  -98.609</td> <td>  -87.910</td>\n",
       "</tr>\n",
       "<tr>\n",
       "  <th>Autos per licensed drivers (All Auto Modes)</th>          <td>    1.1886</td> <td>    0.060</td> <td>   19.935</td> <td> 0.000</td> <td>    1.072</td> <td>    1.305</td>\n",
       "</tr>\n",
       "<tr>\n",
       "  <th>Travel Distance, units:mi (Walk)</th>                     <td>   -1.0191</td> <td>    0.035</td> <td>  -28.806</td> <td> 0.000</td> <td>   -1.088</td> <td>   -0.950</td>\n",
       "</tr>\n",
       "<tr>\n",
       "  <th>Travel Distance, units:mi (Bike)</th>                     <td>   -0.3072</td> <td>    0.016</td> <td>  -19.779</td> <td> 0.000</td> <td>   -0.338</td> <td>   -0.277</td>\n",
       "</tr>\n",
       "<tr>\n",
       "  <th>Cross-Bay Tour (Shared Ride 2 & 3+)</th>                  <td>    0.9346</td> <td>    0.154</td> <td>    6.062</td> <td> 0.000</td> <td>    0.632</td> <td>    1.237</td>\n",
       "</tr>\n",
       "<tr>\n",
       "  <th>Household Size (Shared Ride 2 & 3+)</th>                  <td>    0.1049</td> <td>    0.028</td> <td>    3.724</td> <td> 0.000</td> <td>    0.050</td> <td>    0.160</td>\n",
       "</tr>\n",
       "<tr>\n",
       "  <th>Number of Kids in Household (Shared Ride 2 & 3+)</th>     <td>    0.6565</td> <td>    0.034</td> <td>   19.096</td> <td> 0.000</td> <td>    0.589</td> <td>    0.724</td>\n",
       "</tr>\n",
       "</table>"
      ],
      "text/plain": [
       "<class 'statsmodels.iolib.summary.Summary'>\n",
       "\"\"\"\n",
       "                     Multinomial Logit Model Regression Results                    \n",
       "===================================================================================\n",
       "Dep. Variable:                  sim_choice   No. Observations:                8,000\n",
       "Model:             Multinomial Logit Model   Df Residuals:                    7,981\n",
       "Method:                                MLE   Df Model:                           19\n",
       "Date:                     Sat, 28 Mar 2020   Pseudo R-squ.:                   0.623\n",
       "Time:                             11:24:39   Pseudo R-bar-squ.:               0.621\n",
       "AIC:                            11,514.270   Log-Likelihood:             -5,738.135\n",
       "BIC:                            11,647.027   LL-Null:                   -15,202.866\n",
       "========================================================================================================================\n",
       "                                                           coef    std err          z      P>|z|      [0.025      0.975]\n",
       "------------------------------------------------------------------------------------------------------------------------\n",
       "ASC Shared Ride: 2                                      -0.9238      0.129     -7.155      0.000      -1.177      -0.671\n",
       "ASC Shared Ride: 3+                                      3.5857      0.201     17.804      0.000       3.191       3.980\n",
       "ASC Walk-Transit-Walk                                   -0.4172      0.138     -3.020      0.003      -0.688      -0.146\n",
       "ASC Drive-Transit-Walk                                  -2.5357      0.143    -17.693      0.000      -2.817      -2.255\n",
       "ASC Walk-Transit-Drive                                  -3.0301      0.153    -19.754      0.000      -3.331      -2.729\n",
       "ASC Walk                                                 1.5918      0.138     11.493      0.000       1.320       1.863\n",
       "ASC Bike                                                -0.9374      0.114     -8.248      0.000      -1.160      -0.715\n",
       "Travel Time, units:min (All Auto Modes)                 -0.0727      0.002    -32.741      0.000      -0.077      -0.068\n",
       "Travel Time, units:min (All Transit Modes)              -0.0267      0.001    -18.924      0.000      -0.029      -0.024\n",
       "Travel Cost, units:$ (All Transit Modes)                -0.1120      0.019     -5.921      0.000      -0.149      -0.075\n",
       "Travel Cost per Distance, units:$/mi (Drive Alone)      -5.0320      0.189    -26.585      0.000      -5.403      -4.661\n",
       "Travel Cost per Distance, units:$/mi (SharedRide-2)    -20.4558      0.627    -32.641      0.000     -21.684     -19.228\n",
       "Travel Cost per Distance, units:$/mi (SharedRide-3+)   -93.2597      2.730    -34.167      0.000     -98.609     -87.910\n",
       "Autos per licensed drivers (All Auto Modes)              1.1886      0.060     19.935      0.000       1.072       1.305\n",
       "Travel Distance, units:mi (Walk)                        -1.0191      0.035    -28.806      0.000      -1.088      -0.950\n",
       "Travel Distance, units:mi (Bike)                        -0.3072      0.016    -19.779      0.000      -0.338      -0.277\n",
       "Cross-Bay Tour (Shared Ride 2 & 3+)                      0.9346      0.154      6.062      0.000       0.632       1.237\n",
       "Household Size (Shared Ride 2 & 3+)                      0.1049      0.028      3.724      0.000       0.050       0.160\n",
       "Number of Kids in Household (Shared Ride 2 & 3+)         0.6565      0.034     19.096      0.000       0.589       0.724\n",
       "========================================================================================================================\n",
       "\"\"\""
      ]
     },
     "execution_count": 66,
     "metadata": {},
     "output_type": "execute_result"
    }
   ],
   "source": [
    "# Estimate the basic MNL model, using the hessian and newton-conjugate gradient\n",
    "mnl_model_sim = pl.create_choice_model(data=long_sim_data,\n",
    "                                           alt_id_col=alternative_id_col,\n",
    "                                           obs_id_col=observation_id_col,\n",
    "                                           choice_col=choice_column,\n",
    "                                           specification=mnl_specification,\n",
    "                                           model_type=\"MNL\",\n",
    "                                           names=mnl_names)\n",
    "\n",
    "num_vars = len(reduce(lambda x, y: x + y, mnl_names.values()))\n",
    "\n",
    "# Note newton-cg used to ensure convergence to a point where gradient \n",
    "# is essentially zero for all dimensions. \n",
    "mnl_model_sim.fit_mle(np.zeros(num_vars),\n",
    "                      method=\"BFGS\")\n",
    "\n",
    "# Look at the estimation results\n",
    "mnl_model_sim.get_statsmodels_summary()"
   ]
  },
  {
   "cell_type": "markdown",
   "metadata": {},
   "source": [
    "# 4. Simulate and Estimate N Times"
   ]
  },
  {
   "cell_type": "code",
   "execution_count": null,
   "metadata": {},
   "outputs": [
    {
     "name": "stdout",
     "output_type": "stream",
     "text": [
      "Simulation number 1 is in progress...\n",
      "Simulation size is 8093\n",
      "------------------------------------------\n",
      "Simulating data...\n",
      "Simulating Availability...\n",
      "Converting data from wide to long...\n",
      "Simulating Choices...\n"
     ]
    },
    {
     "name": "stderr",
     "output_type": "stream",
     "text": [
      "/Users/mobouzaghrane/opt/anaconda3/lib/python3.7/site-packages/pylogit/choice_tools.py:703: FutureWarning: arrays to stack must be passed as a \"sequence\" type such as list or tuple. Support for non-sequence iterables such as generators is deprecated as of NumPy 1.16 and will raise an error in the future.\n",
      "  design_matrix = np.hstack((x[:, None] for x in independent_vars))\n"
     ]
    },
    {
     "data": {
      "application/vnd.jupyter.widget-view+json": {
       "model_id": "1e984835863d4ac48c77be1be1be4219",
       "version_major": 2,
       "version_minor": 0
      },
      "text/plain": [
       "HBox(children=(IntProgress(value=0, description='Simulating Choices', max=8093, style=ProgressStyle(descriptio…"
      ]
     },
     "metadata": {},
     "output_type": "display_data"
    },
    {
     "name": "stdout",
     "output_type": "stream",
     "text": [
      "\n",
      "Estimating the choice model...\n",
      "Log-likelihood at zero: -15,336.4842\n",
      "Initial Log-likelihood: -15,336.4842\n"
     ]
    },
    {
     "name": "stderr",
     "output_type": "stream",
     "text": [
      "/Users/mobouzaghrane/opt/anaconda3/lib/python3.7/site-packages/scipy/optimize/_minimize.py:505: RuntimeWarning: Method BFGS does not use Hessian information (hess).\n",
      "  RuntimeWarning)\n"
     ]
    },
    {
     "name": "stdout",
     "output_type": "stream",
     "text": [
      "Estimation Time for Point Estimation: 1.21 seconds.\n",
      "Final log-likelihood: -5,588.2064\n",
      "Simulation number 1 is complete!\n",
      "==========================================\n",
      "==========================================\n",
      "Simulation number 2 is in progress...\n",
      "Simulation size is 8694\n",
      "------------------------------------------\n",
      "Simulating data...\n",
      "Simulating Availability...\n",
      "Converting data from wide to long...\n",
      "Simulating Choices...\n"
     ]
    },
    {
     "name": "stderr",
     "output_type": "stream",
     "text": [
      "/Users/mobouzaghrane/opt/anaconda3/lib/python3.7/site-packages/pylogit/choice_tools.py:703: FutureWarning: arrays to stack must be passed as a \"sequence\" type such as list or tuple. Support for non-sequence iterables such as generators is deprecated as of NumPy 1.16 and will raise an error in the future.\n",
      "  design_matrix = np.hstack((x[:, None] for x in independent_vars))\n"
     ]
    },
    {
     "data": {
      "application/vnd.jupyter.widget-view+json": {
       "model_id": "628fc1217b8f498c849cfac97883335f",
       "version_major": 2,
       "version_minor": 0
      },
      "text/plain": [
       "HBox(children=(IntProgress(value=0, description='Simulating Choices', max=8694, style=ProgressStyle(descriptio…"
      ]
     },
     "metadata": {},
     "output_type": "display_data"
    },
    {
     "name": "stdout",
     "output_type": "stream",
     "text": [
      "\n",
      "Estimating the choice model...\n",
      "Log-likelihood at zero: -16,521.9656\n",
      "Initial Log-likelihood: -16,521.9656\n"
     ]
    },
    {
     "name": "stderr",
     "output_type": "stream",
     "text": [
      "/Users/mobouzaghrane/opt/anaconda3/lib/python3.7/site-packages/scipy/optimize/_minimize.py:505: RuntimeWarning: Method BFGS does not use Hessian information (hess).\n",
      "  RuntimeWarning)\n"
     ]
    },
    {
     "name": "stdout",
     "output_type": "stream",
     "text": [
      "Estimation Time for Point Estimation: 0.49 seconds.\n",
      "Final log-likelihood: -6,142.3422\n",
      "Simulation number 2 is complete!\n",
      "==========================================\n",
      "==========================================\n",
      "Simulation number 3 is in progress...\n",
      "Simulation size is 6297\n",
      "------------------------------------------\n",
      "Simulating data...\n",
      "Simulating Availability...\n",
      "Converting data from wide to long...\n",
      "Simulating Choices...\n"
     ]
    },
    {
     "name": "stderr",
     "output_type": "stream",
     "text": [
      "/Users/mobouzaghrane/opt/anaconda3/lib/python3.7/site-packages/pylogit/choice_tools.py:703: FutureWarning: arrays to stack must be passed as a \"sequence\" type such as list or tuple. Support for non-sequence iterables such as generators is deprecated as of NumPy 1.16 and will raise an error in the future.\n",
      "  design_matrix = np.hstack((x[:, None] for x in independent_vars))\n"
     ]
    },
    {
     "data": {
      "application/vnd.jupyter.widget-view+json": {
       "model_id": "7df24fb7bd9a4422a172c951bb0ca925",
       "version_major": 2,
       "version_minor": 0
      },
      "text/plain": [
       "HBox(children=(IntProgress(value=0, description='Simulating Choices', max=6297, style=ProgressStyle(descriptio…"
      ]
     },
     "metadata": {},
     "output_type": "display_data"
    },
    {
     "name": "stdout",
     "output_type": "stream",
     "text": [
      "\n",
      "Estimating the choice model...\n",
      "Log-likelihood at zero: -11,952.7898\n",
      "Initial Log-likelihood: -11,952.7898\n"
     ]
    },
    {
     "name": "stderr",
     "output_type": "stream",
     "text": [
      "/Users/mobouzaghrane/opt/anaconda3/lib/python3.7/site-packages/scipy/optimize/_minimize.py:505: RuntimeWarning: Method BFGS does not use Hessian information (hess).\n",
      "  RuntimeWarning)\n"
     ]
    },
    {
     "name": "stdout",
     "output_type": "stream",
     "text": [
      "Estimation Time for Point Estimation: 0.36 seconds.\n",
      "Final log-likelihood: -4,402.5490\n",
      "Simulation number 3 is complete!\n",
      "==========================================\n",
      "==========================================\n",
      "Simulation number 4 is in progress...\n",
      "Simulation size is 8771\n",
      "------------------------------------------\n",
      "Simulating data...\n",
      "Simulating Availability...\n",
      "Converting data from wide to long...\n",
      "Simulating Choices...\n"
     ]
    },
    {
     "name": "stderr",
     "output_type": "stream",
     "text": [
      "/Users/mobouzaghrane/opt/anaconda3/lib/python3.7/site-packages/pylogit/choice_tools.py:703: FutureWarning: arrays to stack must be passed as a \"sequence\" type such as list or tuple. Support for non-sequence iterables such as generators is deprecated as of NumPy 1.16 and will raise an error in the future.\n",
      "  design_matrix = np.hstack((x[:, None] for x in independent_vars))\n"
     ]
    },
    {
     "data": {
      "application/vnd.jupyter.widget-view+json": {
       "model_id": "9743c7d3f9dd4cf78131c432e0f0b50c",
       "version_major": 2,
       "version_minor": 0
      },
      "text/plain": [
       "HBox(children=(IntProgress(value=0, description='Simulating Choices', max=8771, style=ProgressStyle(descriptio…"
      ]
     },
     "metadata": {},
     "output_type": "display_data"
    },
    {
     "name": "stdout",
     "output_type": "stream",
     "text": [
      "\n",
      "Estimating the choice model...\n",
      "Log-likelihood at zero: -16,601.6446\n",
      "Initial Log-likelihood: -16,601.6446\n"
     ]
    },
    {
     "name": "stderr",
     "output_type": "stream",
     "text": [
      "/Users/mobouzaghrane/opt/anaconda3/lib/python3.7/site-packages/scipy/optimize/_minimize.py:505: RuntimeWarning: Method BFGS does not use Hessian information (hess).\n",
      "  RuntimeWarning)\n"
     ]
    },
    {
     "name": "stdout",
     "output_type": "stream",
     "text": [
      "Estimation Time for Point Estimation: 0.46 seconds.\n",
      "Final log-likelihood: -6,208.3762\n",
      "Simulation number 4 is complete!\n",
      "==========================================\n",
      "==========================================\n",
      "Simulation number 5 is in progress...\n",
      "Simulation size is 6004\n",
      "------------------------------------------\n",
      "Simulating data...\n",
      "Simulating Availability...\n",
      "Converting data from wide to long...\n",
      "Simulating Choices...\n"
     ]
    },
    {
     "name": "stderr",
     "output_type": "stream",
     "text": [
      "/Users/mobouzaghrane/opt/anaconda3/lib/python3.7/site-packages/pylogit/choice_tools.py:703: FutureWarning: arrays to stack must be passed as a \"sequence\" type such as list or tuple. Support for non-sequence iterables such as generators is deprecated as of NumPy 1.16 and will raise an error in the future.\n",
      "  design_matrix = np.hstack((x[:, None] for x in independent_vars))\n"
     ]
    },
    {
     "data": {
      "application/vnd.jupyter.widget-view+json": {
       "model_id": "7eb97e8a98ca42eea92f2bb2c51793e2",
       "version_major": 2,
       "version_minor": 0
      },
      "text/plain": [
       "HBox(children=(IntProgress(value=0, description='Simulating Choices', max=6004, style=ProgressStyle(descriptio…"
      ]
     },
     "metadata": {},
     "output_type": "display_data"
    },
    {
     "name": "stdout",
     "output_type": "stream",
     "text": [
      "\n",
      "Estimating the choice model...\n",
      "Log-likelihood at zero: -11,400.7269\n",
      "Initial Log-likelihood: -11,400.7269\n"
     ]
    },
    {
     "name": "stderr",
     "output_type": "stream",
     "text": [
      "/Users/mobouzaghrane/opt/anaconda3/lib/python3.7/site-packages/scipy/optimize/_minimize.py:505: RuntimeWarning: Method BFGS does not use Hessian information (hess).\n",
      "  RuntimeWarning)\n"
     ]
    },
    {
     "name": "stdout",
     "output_type": "stream",
     "text": [
      "Estimation Time for Point Estimation: 0.40 seconds.\n",
      "Final log-likelihood: -4,195.8736\n",
      "Simulation number 5 is complete!\n",
      "==========================================\n",
      "==========================================\n",
      "Simulation number 6 is in progress...\n",
      "Simulation size is 7050\n",
      "------------------------------------------\n",
      "Simulating data...\n",
      "Simulating Availability...\n",
      "Converting data from wide to long...\n",
      "Simulating Choices...\n"
     ]
    },
    {
     "name": "stderr",
     "output_type": "stream",
     "text": [
      "/Users/mobouzaghrane/opt/anaconda3/lib/python3.7/site-packages/pylogit/choice_tools.py:703: FutureWarning: arrays to stack must be passed as a \"sequence\" type such as list or tuple. Support for non-sequence iterables such as generators is deprecated as of NumPy 1.16 and will raise an error in the future.\n",
      "  design_matrix = np.hstack((x[:, None] for x in independent_vars))\n"
     ]
    },
    {
     "data": {
      "application/vnd.jupyter.widget-view+json": {
       "model_id": "164f29c156b14416a3c22b18ed573343",
       "version_major": 2,
       "version_minor": 0
      },
      "text/plain": [
       "HBox(children=(IntProgress(value=0, description='Simulating Choices', max=7050, style=ProgressStyle(descriptio…"
      ]
     },
     "metadata": {},
     "output_type": "display_data"
    },
    {
     "name": "stdout",
     "output_type": "stream",
     "text": [
      "\n",
      "Estimating the choice model...\n",
      "Log-likelihood at zero: -13,382.1113\n",
      "Initial Log-likelihood: -13,382.1113\n"
     ]
    },
    {
     "name": "stderr",
     "output_type": "stream",
     "text": [
      "/Users/mobouzaghrane/opt/anaconda3/lib/python3.7/site-packages/scipy/optimize/_minimize.py:505: RuntimeWarning: Method BFGS does not use Hessian information (hess).\n",
      "  RuntimeWarning)\n"
     ]
    },
    {
     "name": "stdout",
     "output_type": "stream",
     "text": [
      "Estimation Time for Point Estimation: 0.41 seconds.\n",
      "Final log-likelihood: -4,957.9219\n",
      "Simulation number 6 is complete!\n",
      "==========================================\n",
      "==========================================\n",
      "Simulation number 7 is in progress...\n",
      "Simulation size is 5281\n",
      "------------------------------------------\n",
      "Simulating data...\n",
      "Simulating Availability...\n",
      "Converting data from wide to long...\n",
      "Simulating Choices...\n"
     ]
    },
    {
     "name": "stderr",
     "output_type": "stream",
     "text": [
      "/Users/mobouzaghrane/opt/anaconda3/lib/python3.7/site-packages/pylogit/choice_tools.py:703: FutureWarning: arrays to stack must be passed as a \"sequence\" type such as list or tuple. Support for non-sequence iterables such as generators is deprecated as of NumPy 1.16 and will raise an error in the future.\n",
      "  design_matrix = np.hstack((x[:, None] for x in independent_vars))\n"
     ]
    },
    {
     "data": {
      "application/vnd.jupyter.widget-view+json": {
       "model_id": "5dcdc1ab489446e8aac70589ed63be0e",
       "version_major": 2,
       "version_minor": 0
      },
      "text/plain": [
       "HBox(children=(IntProgress(value=0, description='Simulating Choices', max=5281, style=ProgressStyle(descriptio…"
      ]
     },
     "metadata": {},
     "output_type": "display_data"
    },
    {
     "name": "stdout",
     "output_type": "stream",
     "text": [
      "\n",
      "Estimating the choice model...\n",
      "Log-likelihood at zero: -10,015.4882\n",
      "Initial Log-likelihood: -10,015.4882\n"
     ]
    },
    {
     "name": "stderr",
     "output_type": "stream",
     "text": [
      "/Users/mobouzaghrane/opt/anaconda3/lib/python3.7/site-packages/scipy/optimize/_minimize.py:505: RuntimeWarning: Method BFGS does not use Hessian information (hess).\n",
      "  RuntimeWarning)\n"
     ]
    },
    {
     "name": "stdout",
     "output_type": "stream",
     "text": [
      "Estimation Time for Point Estimation: 0.41 seconds.\n",
      "Final log-likelihood: -3,738.4414\n",
      "Simulation number 7 is complete!\n",
      "==========================================\n",
      "==========================================\n",
      "Simulation number 8 is in progress...\n",
      "Simulation size is 8274\n",
      "------------------------------------------\n",
      "Simulating data...\n",
      "Simulating Availability...\n",
      "Converting data from wide to long...\n",
      "Simulating Choices...\n"
     ]
    },
    {
     "name": "stderr",
     "output_type": "stream",
     "text": [
      "/Users/mobouzaghrane/opt/anaconda3/lib/python3.7/site-packages/pylogit/choice_tools.py:703: FutureWarning: arrays to stack must be passed as a \"sequence\" type such as list or tuple. Support for non-sequence iterables such as generators is deprecated as of NumPy 1.16 and will raise an error in the future.\n",
      "  design_matrix = np.hstack((x[:, None] for x in independent_vars))\n"
     ]
    },
    {
     "data": {
      "application/vnd.jupyter.widget-view+json": {
       "model_id": "f0727d353d004aa885119c92368d679f",
       "version_major": 2,
       "version_minor": 0
      },
      "text/plain": [
       "HBox(children=(IntProgress(value=0, description='Simulating Choices', max=8274, style=ProgressStyle(descriptio…"
      ]
     },
     "metadata": {},
     "output_type": "display_data"
    },
    {
     "name": "stdout",
     "output_type": "stream",
     "text": [
      "\n",
      "Estimating the choice model...\n",
      "Log-likelihood at zero: -15,685.2316\n",
      "Initial Log-likelihood: -15,685.2316\n"
     ]
    },
    {
     "name": "stderr",
     "output_type": "stream",
     "text": [
      "/Users/mobouzaghrane/opt/anaconda3/lib/python3.7/site-packages/scipy/optimize/_minimize.py:505: RuntimeWarning: Method BFGS does not use Hessian information (hess).\n",
      "  RuntimeWarning)\n"
     ]
    },
    {
     "name": "stdout",
     "output_type": "stream",
     "text": [
      "Estimation Time for Point Estimation: 0.43 seconds.\n",
      "Final log-likelihood: -5,968.8633\n",
      "Simulation number 8 is complete!\n",
      "==========================================\n",
      "==========================================\n",
      "Simulation number 9 is in progress...\n",
      "Simulation size is 6632\n",
      "------------------------------------------\n",
      "Simulating data...\n",
      "Simulating Availability...\n",
      "Converting data from wide to long...\n",
      "Simulating Choices...\n"
     ]
    },
    {
     "name": "stderr",
     "output_type": "stream",
     "text": [
      "/Users/mobouzaghrane/opt/anaconda3/lib/python3.7/site-packages/pylogit/choice_tools.py:703: FutureWarning: arrays to stack must be passed as a \"sequence\" type such as list or tuple. Support for non-sequence iterables such as generators is deprecated as of NumPy 1.16 and will raise an error in the future.\n",
      "  design_matrix = np.hstack((x[:, None] for x in independent_vars))\n"
     ]
    },
    {
     "data": {
      "application/vnd.jupyter.widget-view+json": {
       "model_id": "5d0796c6a98443eea85291c2fbd40bf8",
       "version_major": 2,
       "version_minor": 0
      },
      "text/plain": [
       "HBox(children=(IntProgress(value=0, description='Simulating Choices', max=6632, style=ProgressStyle(descriptio…"
      ]
     },
     "metadata": {},
     "output_type": "display_data"
    },
    {
     "name": "stdout",
     "output_type": "stream",
     "text": [
      "\n",
      "Estimating the choice model...\n",
      "Log-likelihood at zero: -12,613.5338\n",
      "Initial Log-likelihood: -12,613.5338\n"
     ]
    },
    {
     "name": "stderr",
     "output_type": "stream",
     "text": [
      "/Users/mobouzaghrane/opt/anaconda3/lib/python3.7/site-packages/scipy/optimize/_minimize.py:505: RuntimeWarning: Method BFGS does not use Hessian information (hess).\n",
      "  RuntimeWarning)\n"
     ]
    },
    {
     "name": "stdout",
     "output_type": "stream",
     "text": [
      "Estimation Time for Point Estimation: 0.40 seconds.\n",
      "Final log-likelihood: -4,784.9026\n",
      "Simulation number 9 is complete!\n",
      "==========================================\n",
      "==========================================\n",
      "Simulation number 10 is in progress...\n",
      "Simulation size is 6471\n",
      "------------------------------------------\n",
      "Simulating data...\n",
      "Simulating Availability...\n",
      "Converting data from wide to long...\n",
      "Simulating Choices...\n"
     ]
    },
    {
     "name": "stderr",
     "output_type": "stream",
     "text": [
      "/Users/mobouzaghrane/opt/anaconda3/lib/python3.7/site-packages/pylogit/choice_tools.py:703: FutureWarning: arrays to stack must be passed as a \"sequence\" type such as list or tuple. Support for non-sequence iterables such as generators is deprecated as of NumPy 1.16 and will raise an error in the future.\n",
      "  design_matrix = np.hstack((x[:, None] for x in independent_vars))\n"
     ]
    },
    {
     "data": {
      "application/vnd.jupyter.widget-view+json": {
       "model_id": "ddc555da363c4f1699e78d068dcf011d",
       "version_major": 2,
       "version_minor": 0
      },
      "text/plain": [
       "HBox(children=(IntProgress(value=0, description='Simulating Choices', max=6471, style=ProgressStyle(descriptio…"
      ]
     },
     "metadata": {},
     "output_type": "display_data"
    },
    {
     "name": "stdout",
     "output_type": "stream",
     "text": [
      "\n",
      "Estimating the choice model...\n",
      "Log-likelihood at zero: -12,293.6348\n",
      "Initial Log-likelihood: -12,293.6348\n"
     ]
    },
    {
     "name": "stderr",
     "output_type": "stream",
     "text": [
      "/Users/mobouzaghrane/opt/anaconda3/lib/python3.7/site-packages/scipy/optimize/_minimize.py:505: RuntimeWarning: Method BFGS does not use Hessian information (hess).\n",
      "  RuntimeWarning)\n"
     ]
    },
    {
     "name": "stdout",
     "output_type": "stream",
     "text": [
      "Estimation Time for Point Estimation: 0.39 seconds.\n",
      "Final log-likelihood: -4,532.0497\n",
      "Simulation number 10 is complete!\n",
      "==========================================\n",
      "==========================================\n",
      "Simulation number 11 is in progress...\n",
      "Simulation size is 8185\n",
      "------------------------------------------\n",
      "Simulating data...\n",
      "Simulating Availability...\n",
      "Converting data from wide to long...\n",
      "Simulating Choices...\n"
     ]
    },
    {
     "name": "stderr",
     "output_type": "stream",
     "text": [
      "/Users/mobouzaghrane/opt/anaconda3/lib/python3.7/site-packages/pylogit/choice_tools.py:703: FutureWarning: arrays to stack must be passed as a \"sequence\" type such as list or tuple. Support for non-sequence iterables such as generators is deprecated as of NumPy 1.16 and will raise an error in the future.\n",
      "  design_matrix = np.hstack((x[:, None] for x in independent_vars))\n"
     ]
    },
    {
     "data": {
      "application/vnd.jupyter.widget-view+json": {
       "model_id": "da01e50417ea4bec93c2e865b2e7adec",
       "version_major": 2,
       "version_minor": 0
      },
      "text/plain": [
       "HBox(children=(IntProgress(value=0, description='Simulating Choices', max=8185, style=ProgressStyle(descriptio…"
      ]
     },
     "metadata": {},
     "output_type": "display_data"
    },
    {
     "name": "stdout",
     "output_type": "stream",
     "text": [
      "\n",
      "Estimating the choice model...\n",
      "Log-likelihood at zero: -15,549.1827\n",
      "Initial Log-likelihood: -15,549.1827\n"
     ]
    },
    {
     "name": "stderr",
     "output_type": "stream",
     "text": [
      "/Users/mobouzaghrane/opt/anaconda3/lib/python3.7/site-packages/scipy/optimize/_minimize.py:505: RuntimeWarning: Method BFGS does not use Hessian information (hess).\n",
      "  RuntimeWarning)\n"
     ]
    },
    {
     "name": "stdout",
     "output_type": "stream",
     "text": [
      "Estimation Time for Point Estimation: 0.46 seconds.\n",
      "Final log-likelihood: -5,790.4244\n",
      "Simulation number 11 is complete!\n",
      "==========================================\n",
      "==========================================\n",
      "Simulation number 12 is in progress...\n",
      "Simulation size is 3790\n",
      "------------------------------------------\n",
      "Simulating data...\n",
      "Simulating Availability...\n",
      "Converting data from wide to long...\n",
      "Simulating Choices...\n"
     ]
    },
    {
     "name": "stderr",
     "output_type": "stream",
     "text": [
      "/Users/mobouzaghrane/opt/anaconda3/lib/python3.7/site-packages/pylogit/choice_tools.py:703: FutureWarning: arrays to stack must be passed as a \"sequence\" type such as list or tuple. Support for non-sequence iterables such as generators is deprecated as of NumPy 1.16 and will raise an error in the future.\n",
      "  design_matrix = np.hstack((x[:, None] for x in independent_vars))\n"
     ]
    },
    {
     "data": {
      "application/vnd.jupyter.widget-view+json": {
       "model_id": "1c4c3eb02a4c4b2aa7178f76d5138b23",
       "version_major": 2,
       "version_minor": 0
      },
      "text/plain": [
       "HBox(children=(IntProgress(value=0, description='Simulating Choices', max=3790, style=ProgressStyle(descriptio…"
      ]
     },
     "metadata": {},
     "output_type": "display_data"
    },
    {
     "name": "stdout",
     "output_type": "stream",
     "text": [
      "\n",
      "Estimating the choice model...\n",
      "Log-likelihood at zero: -7,149.2854\n",
      "Initial Log-likelihood: -7,149.2854\n"
     ]
    },
    {
     "name": "stderr",
     "output_type": "stream",
     "text": [
      "/Users/mobouzaghrane/opt/anaconda3/lib/python3.7/site-packages/scipy/optimize/_minimize.py:505: RuntimeWarning: Method BFGS does not use Hessian information (hess).\n",
      "  RuntimeWarning)\n"
     ]
    },
    {
     "name": "stdout",
     "output_type": "stream",
     "text": [
      "Estimation Time for Point Estimation: 0.21 seconds.\n",
      "Final log-likelihood: -2,676.0668\n",
      "Simulation number 12 is complete!\n",
      "==========================================\n",
      "==========================================\n",
      "Simulation number 13 is in progress...\n",
      "Simulation size is 4111\n",
      "------------------------------------------\n",
      "Simulating data...\n",
      "Simulating Availability...\n",
      "Converting data from wide to long...\n",
      "Simulating Choices...\n"
     ]
    },
    {
     "name": "stderr",
     "output_type": "stream",
     "text": [
      "/Users/mobouzaghrane/opt/anaconda3/lib/python3.7/site-packages/pylogit/choice_tools.py:703: FutureWarning: arrays to stack must be passed as a \"sequence\" type such as list or tuple. Support for non-sequence iterables such as generators is deprecated as of NumPy 1.16 and will raise an error in the future.\n",
      "  design_matrix = np.hstack((x[:, None] for x in independent_vars))\n"
     ]
    },
    {
     "data": {
      "application/vnd.jupyter.widget-view+json": {
       "model_id": "d358933b8c12497387d77f098ac92fd4",
       "version_major": 2,
       "version_minor": 0
      },
      "text/plain": [
       "HBox(children=(IntProgress(value=0, description='Simulating Choices', max=4111, style=ProgressStyle(descriptio…"
      ]
     },
     "metadata": {},
     "output_type": "display_data"
    },
    {
     "name": "stdout",
     "output_type": "stream",
     "text": [
      "\n",
      "Estimating the choice model...\n",
      "Log-likelihood at zero: -7,793.3725\n",
      "Initial Log-likelihood: -7,793.3725\n"
     ]
    },
    {
     "name": "stderr",
     "output_type": "stream",
     "text": [
      "/Users/mobouzaghrane/opt/anaconda3/lib/python3.7/site-packages/scipy/optimize/_minimize.py:505: RuntimeWarning: Method BFGS does not use Hessian information (hess).\n",
      "  RuntimeWarning)\n"
     ]
    },
    {
     "name": "stdout",
     "output_type": "stream",
     "text": [
      "Estimation Time for Point Estimation: 0.36 seconds.\n",
      "Final log-likelihood: -2,919.3277\n",
      "Simulation number 13 is complete!\n",
      "==========================================\n",
      "==========================================\n",
      "Simulation number 14 is in progress...\n",
      "Simulation size is 8966\n",
      "------------------------------------------\n",
      "Simulating data...\n",
      "Simulating Availability...\n",
      "Converting data from wide to long...\n",
      "Simulating Choices...\n"
     ]
    },
    {
     "name": "stderr",
     "output_type": "stream",
     "text": [
      "/Users/mobouzaghrane/opt/anaconda3/lib/python3.7/site-packages/pylogit/choice_tools.py:703: FutureWarning: arrays to stack must be passed as a \"sequence\" type such as list or tuple. Support for non-sequence iterables such as generators is deprecated as of NumPy 1.16 and will raise an error in the future.\n",
      "  design_matrix = np.hstack((x[:, None] for x in independent_vars))\n"
     ]
    },
    {
     "data": {
      "application/vnd.jupyter.widget-view+json": {
       "model_id": "280f8c7505484ba2b2d2546e4a94f8a8",
       "version_major": 2,
       "version_minor": 0
      },
      "text/plain": [
       "HBox(children=(IntProgress(value=0, description='Simulating Choices', max=8966, style=ProgressStyle(descriptio…"
      ]
     },
     "metadata": {},
     "output_type": "display_data"
    },
    {
     "name": "stdout",
     "output_type": "stream",
     "text": [
      "\n",
      "Estimating the choice model...\n",
      "Log-likelihood at zero: -17,039.2050\n",
      "Initial Log-likelihood: -17,039.2050\n"
     ]
    },
    {
     "name": "stderr",
     "output_type": "stream",
     "text": [
      "/Users/mobouzaghrane/opt/anaconda3/lib/python3.7/site-packages/scipy/optimize/_minimize.py:505: RuntimeWarning: Method BFGS does not use Hessian information (hess).\n",
      "  RuntimeWarning)\n"
     ]
    },
    {
     "name": "stdout",
     "output_type": "stream",
     "text": [
      "Estimation Time for Point Estimation: 0.53 seconds.\n",
      "Final log-likelihood: -6,289.8415\n"
     ]
    }
   ],
   "source": [
    "simulation_sizes = np.random.randint(low=3000, high=9000, size=100)\n",
    "sim_number = np.arange(1,101)\n",
    "models_dictionary = defaultdict(dict)\n",
    "\n",
    "for sim_size, number in zip(simulation_sizes, sim_number):\n",
    "    print('Simulation number', number , 'is in progress...')\n",
    "    print ('Simulation size is', sim_size)\n",
    "    print('------------------------------------------')\n",
    "    print('Simulating data...')\n",
    "    # Simulate data without parents\n",
    "    sim_bike_data_no_parent = SimNodeNoParent(bike_data_params, size=sim_size)\n",
    "    \n",
    "    sim_bike_data_wide = copy.deepcopy(sim_bike_data_no_parent)\n",
    "\n",
    "    # Simulate nodes based on causal graphs\n",
    "    # Drive Alone\n",
    "    sim_bike_data_wide['total_travel_time_drive_alone'] = Drive_Alone_Reg['total_travel_time_on_total_travel_distance'].params[0] +\\\n",
    "                                                  Drive_Alone_Reg['total_travel_time_on_total_travel_distance'].params[1] *\\\n",
    "                                                  sim_bike_data_wide['total_travel_distance_drive_alone'] +\\\n",
    "                                                  np.random.normal(loc=0,\n",
    "                                                                   scale=Drive_Alone_Reg['total_travel_time_on_total_travel_distance'].resid.std(),\n",
    "                                                                   size=sim_size)\n",
    "    sim_bike_data_wide['total_travel_cost_drive_alone'] = Drive_Alone_Reg['total_travel_cost_on_total_travel_distance'].params[0] +\\\n",
    "                                                  Drive_Alone_Reg['total_travel_cost_on_total_travel_distance'].params[1] *\\\n",
    "                                                  sim_bike_data_wide['total_travel_distance_drive_alone'] +\\\n",
    "                                                  np.random.normal(loc=0,\n",
    "                                                                   scale=Drive_Alone_Reg['total_travel_cost_on_total_travel_distance'].resid.std(),\n",
    "                                                                   size=sim_size)\n",
    "    \n",
    "    # Shared Ride 2\n",
    "    sim_bike_data_wide['total_travel_time_shared_2'] = Shared_2_Reg['total_travel_time_on_total_travel_distance'].params[0] +\\\n",
    "                                               Shared_2_Reg['total_travel_time_on_total_travel_distance'].params[1] *\\\n",
    "                                                  sim_bike_data_wide['total_travel_distance_shared_2'] +\\\n",
    "                                                  np.random.normal(loc=0,\n",
    "                                                                   scale=Shared_2_Reg['total_travel_time_on_total_travel_distance'].resid.std(),\n",
    "                                                                   size=sim_size)\n",
    "    sim_bike_data_wide['total_travel_cost_shared_2'] = Shared_2_Reg['total_travel_cost_on_total_travel_distance'].params[0] +\\\n",
    "                                                  Shared_2_Reg['total_travel_cost_on_total_travel_distance'].params[1] *\\\n",
    "                                                  sim_bike_data_wide['total_travel_distance_shared_2'] +\\\n",
    "                                                  np.random.normal(loc=0,\n",
    "                                                                   scale=Shared_2_Reg['total_travel_cost_on_total_travel_distance'].resid.std(),\n",
    "                                                                   size=sim_size)\n",
    "    # Shared Ride 3+\n",
    "    sim_bike_data_wide['total_travel_time_shared_3p'] = Shared_3p_Reg['total_travel_time_on_total_travel_distance'].params[0] +\\\n",
    "                                                   Shared_3p_Reg['total_travel_time_on_total_travel_distance'].params[1] *\\\n",
    "                                                      sim_bike_data_wide['total_travel_distance_shared_3p'] +\\\n",
    "                                                      np.random.normal(loc=0,\n",
    "                                                                       scale=Shared_3p_Reg['total_travel_time_on_total_travel_distance'].resid.std(),\n",
    "                                                                       size=sim_size)\n",
    "    sim_bike_data_wide['total_travel_cost_shared_3p'] = Shared_3p_Reg['total_travel_cost_on_total_travel_distance'].params[0] +\\\n",
    "                                                      Shared_3p_Reg['total_travel_cost_on_total_travel_distance'].params[1] *\\\n",
    "                                                      sim_bike_data_wide['total_travel_distance_shared_3p'] +\\\n",
    "                                                      np.random.normal(loc=0,\n",
    "                                                                       scale=Shared_3p_Reg['total_travel_cost_on_total_travel_distance'].resid.std(),\n",
    "                                                                       size=sim_size)\n",
    "    # Walk-Transit-Walk\n",
    "    sim_bike_data_wide['total_travel_cost_wtw'] = WTW_Reg['total_travel_cost_on_total_travel_time'].params[0] +\\\n",
    "                                                  WTW_Reg['total_travel_cost_on_total_travel_time'].params[1] *\\\n",
    "                                                  sim_bike_data_wide['total_travel_time_wtw'] +\\\n",
    "                                                  np.random.normal(loc=0,\n",
    "                                                                   scale=WTW_Reg['total_travel_cost_on_total_travel_time'].resid.std(),\n",
    "                                                                   size=sim_size)\n",
    "    # Drive-Transit-Walk\n",
    "    sim_bike_data_wide['total_travel_cost_dtw'] = DTW_Reg['total_travel_cost_on_total_travel_time'].params[0] +\\\n",
    "                                                  DTW_Reg['total_travel_cost_on_total_travel_time'].params[1] *\\\n",
    "                                                  sim_bike_data_wide['total_travel_time_dtw'] +\\\n",
    "                                                  np.random.normal(loc=0,\n",
    "                                                                   scale =DTW_Reg['total_travel_cost_on_total_travel_time'].resid.std(),\n",
    "                                                                   size =sim_size)\n",
    "    # Walk-Transit-Drive\n",
    "    sim_bike_data_wide['total_travel_cost_wtd'] = WTD_Reg['total_travel_cost_on_total_travel_time'].params[0] +\\\n",
    "                                                  WTD_Reg['total_travel_cost_on_total_travel_time'].params[1] *\\\n",
    "                                                  sim_bike_data_wide['total_travel_time_wtd'] +\\\n",
    "                                                  np.random.normal(loc=0,\n",
    "                                                                   scale =WTD_Reg['total_travel_cost_on_total_travel_time'].resid.std(),\n",
    "                                                                   size =sim_size)\n",
    "    \n",
    "    #Simulate Availability\n",
    "    print('Simulating Availability...')\n",
    "    wide_sim_data_availability = SimulateAvailability(data_long=bike_data_long,\n",
    "                                         sim_data=sim_bike_data_wide,\n",
    "                                         obs_id_col=observation_id_col,\n",
    "                                         alt_name_dict=alternative_name_dict)\n",
    "\n",
    "    wide_sim_data_availability[obs_id_column] = np.arange(wide_sim_data_availability.shape[0],\n",
    "                                            dtype=int) + 1\n",
    "    \n",
    "    print('Converting data from wide to long...')\n",
    "    long_sim_data = pl.convert_wide_to_long(wide_sim_data_availability,\n",
    "                                        ind_variables,\n",
    "                                        alt_varying_variables,\n",
    "                                        availability_variables,\n",
    "                                        obs_id_column,\n",
    "                                        choice_column,\n",
    "                                        new_alt_id_name=custom_alt_id)\n",
    "    \n",
    "    # Create a cars per licensed drivers column\n",
    "    long_sim_data[\"cars_per_licensed_drivers\"] = 0\n",
    "    long_sim_data.loc[long_sim_data.num_licensed_drivers > 0,\n",
    "                      \"cars_per_licensed_drivers\"] = long_sim_data.num_cars / long_sim_data.num_licensed_drivers.astype(float)\n",
    "\n",
    "    # Add a variable representing cost divided by distance\n",
    "    long_sim_data[\"cost_per_distance\"] = 0\n",
    "    long_sim_data.loc[long_sim_data.mode_id.isin([1, 2, 3]),\n",
    "                      \"cost_per_distance\"] = (long_sim_data.loc[long_sim_data.mode_id.isin([1, 2, 3]),\n",
    "                                                                \"total_travel_cost\"] /\n",
    "                                              long_sim_data.loc[long_sim_data.mode_id.isin([1, 2, 3]),\n",
    "                                                        \"total_travel_distance\"])\n",
    "    print('Simulating Choices...')\n",
    "    # Calculate probabilities for each alternative\n",
    "    # based on the estimated model\n",
    "    posterior_probs = mnl_model.predict(long_sim_data)\n",
    "    \n",
    "    \n",
    "    # Simulate choice data\n",
    "    long_sim_data['sim_choice'] = viz.simulate_choice_vector(posterior_probs,\n",
    "                               long_sim_data['observation_id'].values)\n",
    "    \n",
    "    \n",
    "    print('Estimating the choice model...')\n",
    "    # Estimate the basic MNL model, using the hessian and newton-conjugate gradient\n",
    "    mnl_model_sim = pl.create_choice_model(data=long_sim_data,\n",
    "                                           alt_id_col=alternative_id_col,\n",
    "                                           obs_id_col=observation_id_col,\n",
    "                                           choice_col=choice_column,\n",
    "                                           specification=mnl_specification,\n",
    "                                           model_type=\"MNL\",\n",
    "                                           names=mnl_names)\n",
    "\n",
    "    num_vars = len(reduce(lambda x, y: x + y, mnl_names.values()))\n",
    "    # Note newton-cg used to ensure convergence to a point where gradient \n",
    "    # is essentially zero for all dimensions. \n",
    "    mnl_model_sim.fit_mle(np.zeros(num_vars),\n",
    "                          method=\"BFGS\")\n",
    "    \n",
    "    mnl_model_sim.coefs.name = 'simulation_' + str(number)\n",
    "\n",
    "    models_dictionary[number] = mnl_model_sim\n",
    "    \n",
    "    print('Simulation number', number , 'is complete!')\n",
    "    print('==========================================')\n",
    "    print('==========================================')"
   ]
  },
  {
   "cell_type": "markdown",
   "metadata": {},
   "source": [
    "# 5. Plotting results of the simulation "
   ]
  },
  {
   "cell_type": "code",
   "execution_count": 1,
   "metadata": {},
   "outputs": [
    {
     "ename": "NameError",
     "evalue": "name 'pd' is not defined",
     "output_type": "error",
     "traceback": [
      "\u001b[0;31m---------------------------------------------------------------------------\u001b[0m",
      "\u001b[0;31mNameError\u001b[0m                                 Traceback (most recent call last)",
      "\u001b[0;32m<ipython-input-1-011ed99a8f93>\u001b[0m in \u001b[0;36m<module>\u001b[0;34m\u001b[0m\n\u001b[0;32m----> 1\u001b[0;31m \u001b[0mdf\u001b[0m \u001b[0;34m=\u001b[0m \u001b[0mpd\u001b[0m\u001b[0;34m.\u001b[0m\u001b[0mconcat\u001b[0m\u001b[0;34m(\u001b[0m\u001b[0;34m[\u001b[0m\u001b[0mmodels_dictionary\u001b[0m\u001b[0;34m[\u001b[0m\u001b[0mnumber\u001b[0m\u001b[0;34m]\u001b[0m\u001b[0;34m.\u001b[0m\u001b[0mcoefs\u001b[0m \u001b[0;32mfor\u001b[0m \u001b[0mnumber\u001b[0m \u001b[0;32min\u001b[0m \u001b[0mmodels_dictionary\u001b[0m\u001b[0;34m.\u001b[0m\u001b[0mkeys\u001b[0m\u001b[0;34m(\u001b[0m\u001b[0;34m)\u001b[0m\u001b[0;34m]\u001b[0m\u001b[0;34m,\u001b[0m \u001b[0maxis\u001b[0m\u001b[0;34m=\u001b[0m\u001b[0;36m1\u001b[0m\u001b[0;34m)\u001b[0m\u001b[0;34m.\u001b[0m\u001b[0mT\u001b[0m\u001b[0;34m\u001b[0m\u001b[0;34m\u001b[0m\u001b[0m\n\u001b[0m\u001b[1;32m      2\u001b[0m \u001b[0mdf\u001b[0m\u001b[0;34m.\u001b[0m\u001b[0mreset_index\u001b[0m\u001b[0;34m(\u001b[0m\u001b[0mdrop\u001b[0m\u001b[0;34m=\u001b[0m\u001b[0;32mTrue\u001b[0m\u001b[0;34m,\u001b[0m\u001b[0minplace\u001b[0m\u001b[0;34m=\u001b[0m\u001b[0;32mTrue\u001b[0m\u001b[0;34m)\u001b[0m\u001b[0;34m\u001b[0m\u001b[0;34m\u001b[0m\u001b[0m\n",
      "\u001b[0;31mNameError\u001b[0m: name 'pd' is not defined"
     ]
    }
   ],
   "source": [
    "df = pd.concat([models_dictionary[number].coefs for number in models_dictionary.keys()], axis=1).T\n",
    "df.reset_index(drop=True,inplace=True)"
   ]
  },
  {
   "cell_type": "code",
   "execution_count": 210,
   "metadata": {},
   "outputs": [],
   "source": [
    "def Plot(sim_par, model, size):\n",
    "    bins = np.linspace(sim_par.min(), sim_par.max(), 10)\n",
    "    plt.figure(figsize=size)\n",
    "    sns.distplot(sim_par, kde=False, bins=bins, label='Simulated Parameters')\n",
    "    plt.axvline(model.coefs[sim_par.name], color='black', ls='--',label='Data Generating Parameter')\n",
    "    plt.title(label='Histogram of '+'\"'+sim_par.name+'\"', fontdict={'fontsize':16})\n",
    "    plt.ylabel('Frequency', rotation=0, labelpad=50)\n",
    "    plt.legend()"
   ]
  },
  {
   "cell_type": "code",
   "execution_count": 212,
   "metadata": {},
   "outputs": [
    {
     "data": {
      "image/png": "[encoded data removed]",
      "text/plain": [
       "<Figure size 720x432 with 1 Axes>"
      ]
     },
     "metadata": {},
     "output_type": "display_data"
    },
    {
     "data": {
      "image/png": "[encoded data removed]",
      "text/plain": [
       "<Figure size 720x432 with 1 Axes>"
      ]
     },
     "metadata": {},
     "output_type": "display_data"
    },
    {
     "data": {
      "image/png": "[encoded data removed]",
      "text/plain": [
       "<Figure size 720x432 with 1 Axes>"
      ]
     },
     "metadata": {},
     "output_type": "display_data"
    },
    {
     "data": {
      "image/png": "[encoded data removed]",
      "text/plain": [
       "<Figure size 720x432 with 1 Axes>"
      ]
     },
     "metadata": {},
     "output_type": "display_data"
    },
    {
     "data": {
      "image/png": "[encoded data removed]",
      "text/plain": [
       "<Figure size 720x432 with 1 Axes>"
      ]
     },
     "metadata": {},
     "output_type": "display_data"
    },
    {
     "data": {
      "image/png": "[encoded data removed]",
      "text/plain": [
       "<Figure size 720x432 with 1 Axes>"
      ]
     },
     "metadata": {},
     "output_type": "display_data"
    },
    {
     "data": {
      "image/png": "[encoded data removed]",
      "text/plain": [
       "<Figure size 720x432 with 1 Axes>"
      ]
     },
     "metadata": {},
     "output_type": "display_data"
    },
    {
     "data": {
      "image/png": "[encoded data removed]",
      "text/plain": [
       "<Figure size 720x432 with 1 Axes>"
      ]
     },
     "metadata": {},
     "output_type": "display_data"
    },
    {
     "data": {
      "image/png": "[encoded data removed]",
      "text/plain": [
       "<Figure size 720x432 with 1 Axes>"
      ]
     },
     "metadata": {},
     "output_type": "display_data"
    },
    {
     "data": {
      "image/png": "[encoded data removed]",
      "text/plain": [
       "<Figure size 720x432 with 1 Axes>"
      ]
     },
     "metadata": {},
     "output_type": "display_data"
    },
    {
     "data": {
      "image/png": "[encoded data removed]",
      "text/plain": [
       "<Figure size 720x432 with 1 Axes>"
      ]
     },
     "metadata": {},
     "output_type": "display_data"
    },
    {
     "data": {
      "image/png": "[encoded data removed]",
      "text/plain": [
       "<Figure size 720x432 with 1 Axes>"
      ]
     },
     "metadata": {},
     "output_type": "display_data"
    },
    {
     "data": {
      "image/png": "[encoded data removed]",
      "text/plain": [
       "<Figure size 720x432 with 1 Axes>"
      ]
     },
     "metadata": {},
     "output_type": "display_data"
    },
    {
     "data": {
      "image/png": "[encoded data removed]",
      "text/plain": [
       "<Figure size 720x432 with 1 Axes>"
      ]
     },
     "metadata": {},
     "output_type": "display_data"
    },
    {
     "data": {
      "image/png": "[encoded data removed]",
      "text/plain": [
       "<Figure size 720x432 with 1 Axes>"
      ]
     },
     "metadata": {},
     "output_type": "display_data"
    },
    {
     "data": {
      "image/png": "[encoded data removed]",
      "text/plain": [
       "<Figure size 720x432 with 1 Axes>"
      ]
     },
     "metadata": {},
     "output_type": "display_data"
    },
    {
     "data": {
      "image/png": "[encoded data removed]",
      "text/plain": [
       "<Figure size 720x432 with 1 Axes>"
      ]
     },
     "metadata": {},
     "output_type": "display_data"
    },
    {
     "data": {
      "image/png": "[encoded data removed]",
      "text/plain": [
       "<Figure size 720x432 with 1 Axes>"
      ]
     },
     "metadata": {},
     "output_type": "display_data"
    },
    {
     "data": {
      "image/png": "[encoded data removed]",
      "text/plain": [
       "<Figure size 720x432 with 1 Axes>"
      ]
     },
     "metadata": {},
     "output_type": "display_data"
    }
   ],
   "source": [
    "for par in df.columns:\n",
    "    Plot(df[par],mnl_model, (10,6))"
   ]
  }
 ],
 "metadata": {
  "jupytext": {
   "formats": "ipynb,md"
  },
  "kernelspec": {
   "display_name": "Python 3",
   "language": "python",
   "name": "python3"
  },
  "language_info": {
   "codemirror_mode": {
    "name": "ipython",
    "version": 3
   },
   "file_extension": ".py",
   "mimetype": "text/x-python",
   "name": "python",
   "nbconvert_exporter": "python",
   "pygments_lexer": "ipython3",
   "version": "3.7.4"
  }
 },
 "nbformat": 4,
 "nbformat_minor": 4
}
