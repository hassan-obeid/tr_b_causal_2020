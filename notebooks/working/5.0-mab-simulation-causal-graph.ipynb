{
 "cells": [
  {
   "cell_type": "markdown",
   "metadata": {},
   "source": [
    "# Importing packages "
   ]
  },
  {
   "cell_type": "code",
   "execution_count": 1,
   "metadata": {},
   "outputs": [],
   "source": [
    "import sys\n",
    "sys.path.append('../../src/')"
   ]
  },
  {
   "cell_type": "code",
   "execution_count": 2,
   "metadata": {},
   "outputs": [],
   "source": [
    "import numpy as np\n",
    "import pandas as pd\n",
    "import matplotlib.pyplot as plt\n",
    "from functools import reduce\n",
    "import seaborn as sns\n",
    "import statsmodels.api as sm\n",
    "import copy\n",
    "from scipy import sparse\n",
    "import scipy.stats\n",
    "import random\n",
    "from fitter import Fitter\n",
    "import attr\n",
    "from causalgraphicalmodels import CausalGraphicalModel, StructuralCausalModel\n",
    "from collections import defaultdict, OrderedDict\n",
    "import pylogit as pl\n",
    "import viz\n",
    "from sklearn.linear_model import LogisticRegression\n",
    "import json"
   ]
  },
  {
   "cell_type": "markdown",
   "metadata": {},
   "source": [
    "# 1. Define functions to be used in notebook"
   ]
  },
  {
   "cell_type": "code",
   "execution_count": 3,
   "metadata": {},
   "outputs": [],
   "source": [
    "def DistNodeNoParent(data_long,\n",
    "                     alt_id_col,\n",
    "                     obs_id_col,\n",
    "                     alt_spec_dic,\n",
    "                     alt_name_dic,\n",
    "                     ind_spec,\n",
    "                     trip_spec,\n",
    "                     var_types,\n",
    "                     cont_dists=None):\n",
    "    \"\"\"\n",
    "    Function to find the distribution of specific variables\n",
    "    from a long format dataset.\n",
    "    \n",
    "    Parameters\n",
    "    ----------\n",
    "    data_long: Pandas DataFrame\n",
    "        Dataset in long format from which variable\n",
    "        distribution is to be found.\n",
    "        \n",
    "    alt_id_col: string\n",
    "        Name of the column with alternative ids.\n",
    "        \n",
    "    obs_id_col: string\n",
    "        Name of the column with observation ids.\n",
    "        \n",
    "    alt_spec_dic: dictionary\n",
    "        Dictionary with keys as the ordered number\n",
    "        of alternatives, and the value for each key\n",
    "        is a list of strings representing the name of\n",
    "        variables without parents per alternative.\n",
    "        \n",
    "    alt_name_dic: dictionary\n",
    "        Dictionary with keys as the ordered number\n",
    "        of alternatives, and the value for each key\n",
    "        is a string representing the name of the \n",
    "        alternative.\n",
    "        \n",
    "    ind_spec: list\n",
    "        List containing strings of the names of \n",
    "        individual specific variables.\n",
    "        \n",
    "    trip_spec: list\n",
    "        List containing string of the names of \n",
    "        trip specific variables.\n",
    "        \n",
    "    var_types: dictionary\n",
    "        Dictionary with keys as strings of names of variables\n",
    "        from long format dataset, and values for each key are\n",
    "        the type of variables (e.g.: 'categorical vs. continuous').\n",
    "        \n",
    "    cont_dists: list\n",
    "        List of continuous RVs distribution names from scipy.\n",
    "        \n",
    "    Returns\n",
    "    -------\n",
    "    a nested dictionary with keys as variable names and values\n",
    "    as dictionaries containing both the distribution name and\n",
    "    its parameters.\n",
    "    \"\"\"\n",
    "    \n",
    "    params_dict = {}\n",
    "\n",
    "    # Code for Individual Specific Variables\n",
    "    for ind in ind_spec:\n",
    "        # generate array of values for individual specific variable\n",
    "        ind_var = pd.Series([(data_long.loc[data_long[obs_id_col] == x][ind].unique()[0]) for x in data_long[obs_id_col].unique()])  \n",
    "        # Get distribution if variable is categorical\n",
    "        if var_types[ind] in ['categorical', 'numerical']:\n",
    "            # If only one category\n",
    "            if len(ind_var.unique()) == 1:\n",
    "                params_dict.setdefault(ind,{})['distribution'] = 'constant'\n",
    "                params_dict.setdefault(ind,{})['parameters'] = ind_var.unique()\n",
    "            # If more than one category\n",
    "            else:\n",
    "                params_dict.setdefault(ind,{})['distribution'] = 'categorical'\n",
    "                # Count frequency of values and store it as paramater of distribution\n",
    "                np_array_range = np.arange(ind_var.max()+1)\n",
    "                array_bincount = np.bincount(ind_var)\n",
    "                probs = array_bincount / len(ind_var)\n",
    "                params_dict.setdefault(ind,{})['parameters'] = [np_array_range,\n",
    "                                                  probs]\n",
    "        else:\n",
    "            # If not categorical but just one unique value\n",
    "            if len(ind_var.unique()) == 1:\n",
    "                params_dict.setdefault(ind,{})['distribution'] = 'constant'\n",
    "                params_dict.setdefault(ind,{})['parameters'] = ind_var.unique()\n",
    "            # If not categorical but not one unique value\n",
    "            else:\n",
    "                # Use the Fitter library to fit distributions\n",
    "                # to the data\n",
    "                fitter_object = Fitter(data=ind_var,\n",
    "                                       distributions=cont_dists,\n",
    "                                       timeout=30)\n",
    "                fitter_object.fit()\n",
    "                # Get the best distribution and store in dictionary\n",
    "                BestDict = fitter_object.get_best()\n",
    "                params_dict.setdefault(ind,{})['distribution'] = list(BestDict.items())[0][0]\n",
    "                params_dict.setdefault(ind,{})['parameters'] = list(BestDict.items())[0][1]\n",
    "\n",
    "    # Code for Alternative Specific Variables\n",
    "    # Loop around the different available alternatives\n",
    "    for alt in data_long[alt_id_col].unique():\n",
    "        # Store data for specific alternative (mode)\n",
    "        mode_data = data_long.loc[data_long[alt_id_col] == alt]\n",
    "        # Loop around the alternative specific variables in the input dictionary\n",
    "        for var in alt_spec_dic[alt]:\n",
    "            # If data is to be taken as empirical values\n",
    "            if var_types[var] == 'empirical':\n",
    "                # If only one value\n",
    "                if len(mode_data[var].unique()) == 1:\n",
    "                    # Add name of alternative to variable and store distriburion & parameters\n",
    "                    params_dict.setdefault(var +'_'+ alt_name_dic[alt], {})['distribution'] = 'constant'\n",
    "                    params_dict.setdefault(var +'_'+ alt_name_dic[alt], {})['parameters'] = mode_data[var].unique()\n",
    "                else:\n",
    "                    # Add name of alternative to variable and store distriburion & parameters\n",
    "                    params_dict.setdefault(var +'_'+ alt_name_dic[alt], {})['distribution'] = 'empirical'\n",
    "                    params_dict.setdefault(var +'_'+ alt_name_dic[alt], {})['parameters'] = np.array(mode_data[var])\n",
    "            # If data is categorical\n",
    "            elif var_types[var] == 'categorical':\n",
    "                # If only one category\n",
    "                if len(mode_data[var].unique()) == 1:\n",
    "                    # Add name of alternative to variable and store distriburion & parameters\n",
    "                    params_dict.setdefault(var +'_'+ alt_name_dic[alt], {})['distribution'] = 'constant'\n",
    "                    params_dict.setdefault(var +'_'+ alt_name_dic[alt], {})['parameters'] = mode_data[var].unique()\n",
    "                else:\n",
    "                    # If more than one category, compute the frequency of values\n",
    "                    # and store as parameters\n",
    "                    # Add name of alternative to variable and store distriburion & parameters\n",
    "                    params_dict.setdefault(var +'_'+ alt_name_dic[alt], {})['distribution'] = 'categorical'\n",
    "                    np_array_range = np.arange(mode_data[var].max()+1)\n",
    "                    array_bincount = np.bincount(mode_data[var])\n",
    "                    probs = array_bincount / len(mode_data[var])\n",
    "                    params_dict.setdefault(var +'_'+ alt_name_dic[alt], {})['parameters'] = [np_array_range,\n",
    "                                                                            probs]\n",
    "            else:\n",
    "                # If data is not categorical but has one unique value\n",
    "                if len(mode_data[var].unique()) == 1:\n",
    "                    # Add name of alternative to variable and store distriburion & parameters\n",
    "                    params_dict.setdefault(var +'_'+ alt_name_dic[alt], {})['distribution'] = 'constant'\n",
    "                    params_dict.setdefault(var +'_'+ alt_name_dic[alt], {})['parameters'] = mode_data[var].unique()\n",
    "                # If data is not categorical but has more than one unique value\n",
    "                else:\n",
    "                    # Use the Fitter library to fit distributions\n",
    "                    # to the data\n",
    "                    fitter_object = Fitter(data=mode_data[var],\n",
    "                                           distributions=cont_dists,\n",
    "                                           timeout=30)\n",
    "                    fitter_object.fit()\n",
    "                    # Get the best distribution and store in dictionary\n",
    "                    BestDict = fitter_object.get_best()\n",
    "                    # Add name of alternative to variable and store distriburion & parameters\n",
    "                    params_dict.setdefault(var +'_'+ alt_name_dic[alt], {})['distribution'] = list(BestDict.items())[0][0]\n",
    "                    params_dict.setdefault(var +'_'+ alt_name_dic[alt], {})['parameters'] = list(BestDict.items())[0][1]\n",
    "\n",
    "    # Trip Specific Variable (maybe combine with individual specific variables)\n",
    "    # Loop around trip (observation) specific variables\n",
    "    for var in trip_spec:\n",
    "        # generate array of values for trip specific variable\n",
    "        trip_var = pd.Series([(data_long.loc[data_long[obs_id_col] == x][var].unique()[0]) for x in data_long[obs_id_col].unique()])\n",
    "        # If data is to be taken as empirical values\n",
    "        if var_types[var] == 'empirical':\n",
    "            # If data has one unique value\n",
    "            if trip_var.unique() == 1:\n",
    "                params_dict.setdefault(var, {})['distribution'] = 'constant'\n",
    "                params_dict.setdefault(var, {})['parameters'] = np.array(trip_var.unique())\n",
    "            # If data has more than one unique value\n",
    "            else:\n",
    "                params_dict.setdefault(var, {})['distribution'] = 'empirical'\n",
    "                params_dict.setdefault(var, {})['parameters'] = np.array(trip_var)\n",
    "        # Get distribution if variable is categorical\n",
    "        elif var_types[var] == 'categorical':\n",
    "            # If only one category\n",
    "            if len(trip_var.unique()) == 1:\n",
    "                params_dict.setdefault(var, {})['distribution'] = 'constant'\n",
    "                params_dict.setdefault(var, {})['parameters'] = trip_var.unique()\n",
    "            # If more than one category\n",
    "            else:\n",
    "                params_dict.setdefault(var, {})['distribution'] = 'categorical'\n",
    "                # Count frequency of values and store it as paramater of distribution\n",
    "                np_array_range = np.arange(trip_var.max()+1)\n",
    "                array_bincount = np.bincount(trip_var)\n",
    "                probs = array_bincount / len(trip_var)\n",
    "                params_dict.setdefault(var, {})['parameters'] = [np_array_range,\n",
    "                                                  probs]\n",
    "        else:\n",
    "            # If not categorical but just one unique value\n",
    "            if len(trip_var.unique()) == 1:\n",
    "                params_dict.setdefault(var, {})['distribution'] = 'constant'\n",
    "                params_dict.setdefault(var, {})['parameters'] = trip_var.unique()\n",
    "            # If not categorical but just one unique value\n",
    "            else:\n",
    "                # Use the Fitter library to fit distributions\n",
    "                # to the data\n",
    "                fitter_object = Fitter(data=trip_var,\n",
    "                                       distributions=cont_dists,\n",
    "                                       timeout=30)\n",
    "                fitter_object.fit()\n",
    "                # Get the best distribution and store in dictionary\n",
    "                BestDict = fitter_object.get_best()\n",
    "                params_dict.setdefault(var, {})['distribution'] = list(BestDict.items())[0][0]\n",
    "                params_dict.setdefault(var, {})['parameters'] = list(BestDict.items())[0][1]\n",
    "\n",
    "    return params_dict\n",
    "\n",
    "\n",
    "def SimNodeNoParent(params_dict, size=1000):\n",
    "    \"\"\"\n",
    "    Funtion to simulate data of size N based on specified\n",
    "    distribution/parameters found by the fitter package.\n",
    "    \n",
    "    Paremeters\n",
    "    ----------\n",
    "    dist_params: dictionary\n",
    "        The variable distribution dictionary resulting from\n",
    "        `FindLongDataDist`.\n",
    "        \n",
    "    size: int\n",
    "        Size of the desired simulated dataset, default value\n",
    "        is 1000 observations.\n",
    "    \n",
    "    Returns\n",
    "    -------\n",
    "    DataFrame object with simulated data based on specified distributions\n",
    "    \"\"\"\n",
    "    # Create Empty DataFrame with keys from params_dict\n",
    "    Sim_Df = pd.DataFrame(columns=list(params_dict.keys()))\n",
    "    Sim_Df = Sim_Df.fillna(0)\n",
    "    \n",
    "    # Loop around each of the variables in params_dict\n",
    "    # and simulate data for them\n",
    "    for column in list(params_dict.keys()):\n",
    "        # Simulate data for categorical variables\n",
    "        if params_dict[column]['distribution'] == 'categorical':\n",
    "            value = params_dict[column]['parameters'][0]\n",
    "            freq = params_dict[column]['parameters'][1]\n",
    "            data_sim = np.random.choice(a=value,\n",
    "                                        p=freq,\n",
    "                                        size=size)\n",
    "            Sim_Df[column] = data_sim\n",
    "        \n",
    "        # Simulate variables for data with a single unique value\n",
    "        elif params_dict[column]['distribution'] == 'constant':\n",
    "            data_sim = params_dict[column]['parameters'][0]\n",
    "            Sim_Df[column] = data_sim\n",
    "        \n",
    "        # Simulate data using values from array, sampling\n",
    "        # with replacement\n",
    "        elif params_dict[column]['distribution'] == 'empirical':\n",
    "            data_sim = np.random.choice(params_dict[column]['paramaters'], size=size)\n",
    "            Sim_Df[column] = data_sim\n",
    "        \n",
    "        # Simulate data for continuous variables\n",
    "        else:\n",
    "            # Get scipy distribution from its\n",
    "            # name in the params dictionary\n",
    "            dist = getattr(scipy.stats,\n",
    "                           params_dict[column]['distribution'])\n",
    "            data_sim = dist.rvs(*params_dict[column]['parameters'],\n",
    "                                size=size)\n",
    "            Sim_Df[column] = data_sim\n",
    "        \n",
    "    return Sim_Df\n",
    "\n",
    "\n",
    "def FitAlternativeRegression(regressions, reg_types, data):\n",
    "    \n",
    "    \"\"\"\n",
    "    Function to store regression models based on causal graph\n",
    "    in a dictionary.\n",
    "    \n",
    "    Parameters\n",
    "    ----------\n",
    "    regressions: dictionary\n",
    "        Dictionary with keys as integers representing the\n",
    "        order of regressions. Values of the dictionary\n",
    "        are tuples/lists with the first item is a string\n",
    "        of the name of the independent variable and the\n",
    "        second item is a string of the name of the \n",
    "        dependent variable.\n",
    "    \n",
    "    reg_types: dictionary\n",
    "        Dictionary with keys as integers representing the\n",
    "        order of regressions. Keys should be similar to the\n",
    "        keys from the `regressions` dictionary. Values are\n",
    "        strings representing the type of regressions to be\n",
    "        ran.\n",
    "        \n",
    "    Returns\n",
    "    -------\n",
    "    Dictionary with keys as the regression name and values\n",
    "    as regression models stores. Methods from these fitted\n",
    "    models can be accessed through the values of the dictionary.\n",
    "    \"\"\"\n",
    "    \n",
    "    # Initiate the regressions results dictionary\n",
    "    regression_results = {}\n",
    "    \n",
    "    # Loop around the regressions\n",
    "    for reg in regressions.keys():\n",
    "        # If linear regression\n",
    "        if reg_types[reg] == 'linear':\n",
    "            # Prepare data and initialize model\n",
    "            data_x = sm.add_constant(data[regressions[reg][0]])\n",
    "            data_y = data[regressions[reg][1]]\n",
    "            model = sm.OLS(data_y, data_x)\n",
    "\n",
    "            # Fit model\n",
    "            results = model.fit()\n",
    "            \n",
    "            # Store model\n",
    "            regression_results[regressions[reg][1]+'_on_'+regressions[reg][0]] = results\n",
    "        \n",
    "        # Binary logistic regression\n",
    "        if reg_types[reg] == 'binary_logistic':\n",
    "            # Prepare data and initialize model\n",
    "            data_x = sm.add_constant(data[regressions[reg][0]])\n",
    "            data_y = data[regressions[reg][1]]\n",
    "            model = sm.Logit(data_y, data_x)\n",
    "\n",
    "            # Fit model\n",
    "            results = model.fit()\n",
    "            \n",
    "            # Store model\n",
    "            regression_results[regressions[reg][1]+'_on_'+regressions[reg][0]] = results\n",
    "\n",
    "        # Multinomial logistic regression\n",
    "        if reg_types[reg] == 'multinomial_logistic':\n",
    "            # Prepare data and initialize model\n",
    "            # regressions[reg][0] COULD be a list\n",
    "            # Check the length, and reshape if\n",
    "            # array is 1d.\n",
    "            if len(data[regressions[reg][0]].shape) == 1:\n",
    "                data_x = data[regressions[reg][0]].values.reshape((-1,1))\n",
    "            else:\n",
    "                data_x = data[regressions[reg][0]]\n",
    "            \n",
    "            data_y = data[regressions[reg][1]]\n",
    "            mnl_reg = LogisticRegression(multi_class='multinomial', solver='newton-cg')\n",
    "\n",
    "            # Fit model\n",
    "            model = mnl_reg.fit(data_x, data_y)\n",
    "            \n",
    "            # Store model - TODO: come up with a better representation\n",
    "            # of the regression name in the dictionary.\n",
    "            if len(regressions[reg][1]) == 1:\n",
    "                regression_results[regressions[reg][1]+'_on_'+regressions[reg][0]] = model\n",
    "            else:\n",
    "                regression_results[json.dumps(regressions[reg][1])+'_on_'+regressions[reg][0]] = model\n",
    "    \n",
    "    #if plotting:\n",
    "    #    fig = plt.figure(figsize=(12,8))\n",
    "    #    fig = sm.graphics.plot_regress_exog(results, X[0], fig=fig)\n",
    "    \n",
    "    return regression_results\n",
    "\n",
    "\n",
    "def SimulateAvailability(data_long, sim_data, obs_id_col, alt_name_dict):\n",
    "    \"\"\"\n",
    "    Function to simulate alternative availability based on a long format\n",
    "    dataset and join the availability data to the simulated dataset\n",
    "    resulting from SimDf.\n",
    "    \n",
    "    Parameters\n",
    "    ----------\n",
    "    data_long: Pandas DataFrame\n",
    "        Long format dataframe used for simulating\n",
    "        alternative availability.\n",
    "    \n",
    "    sim_data: Pandas DataFrame\n",
    "        Wide format dataframe resulting from SimDf\n",
    "    \n",
    "    obs_id_col: string\n",
    "        Name of the column in data_long with \n",
    "        observation ids.\n",
    "    \n",
    "    alt_name_dic: dictionary\n",
    "        Dictionary with keys as the ordered number\n",
    "        of alternatives, and the value for each key\n",
    "        is a string representing the name of the \n",
    "        alternative.\n",
    "        \n",
    "    Returns\n",
    "    -------\n",
    "    Wide format Pandas DataFrame with additional availability\n",
    "    columns for each of the alternatives.\n",
    "    \n",
    "    \"\"\"\n",
    "    \n",
    "    # Create empty Series to hold number of available alternatives\n",
    "    series = pd.Series([])\n",
    "    \n",
    "    # Loop around each observation to record the\n",
    "    # available number of alternatives for each observation\n",
    "    for i, obs in zip(np.arange(len(data_long[obs_id_col].unique())), data_long[obs_id_col].unique()):\n",
    "        series[i] = data_long[data_long[obs_id_col] == obs].shape[0]\n",
    "\n",
    "    # Simulate number of available alternatives for\n",
    "    # each observation in sim_data\n",
    "    av_size = sim_data.shape[0]\n",
    "    alts_sim = np.random.choice(a=np.arange(series.max()+1),\n",
    "                                p=np.bincount(series)/len(series),\n",
    "                                size=av_size)\n",
    "\n",
    "    # Simulate the availability matrix based on number \n",
    "    # of available alternatives\n",
    "    N = len(alt_name_dict)\n",
    "    av_sim = [np.array([1] * K + [0]*(N-K)) for K in alts_sim]\n",
    "    \n",
    "    # Shuffle the available alternatives for each observation\n",
    "    # because av_sim will always start with 1s\n",
    "    for x in av_sim:\n",
    "        np.random.shuffle(x)\n",
    "\n",
    "    # Shuffle the availability across different observations\n",
    "    np.random.shuffle(av_sim)\n",
    "    \n",
    "    # Create columns for the availability matrix\n",
    "    AV_columns = [alt_name_dict[i]+'_AV' for i in alt_name_dict.keys()]\n",
    "    \n",
    "    # Create alternative availability matrix with AV_columns\n",
    "    AV_Df = pd.DataFrame(av_sim, columns=AV_columns)\n",
    "    \n",
    "    # Create an random choice column based on available\n",
    "    # alternatives for each observation - This column will\n",
    "    # be needed when converting to long data\n",
    "    fake_choice = [random.choice(np.nonzero(a == 1)[0]) + 1 for a in np.array(AV_Df)]\n",
    "    fake_choice_df = pd.DataFrame(fake_choice, columns=['sim_choice'])\n",
    "    \n",
    "    # Concatenate the simulated data with availability data and fake choice data\n",
    "    # and return Sim_DF_AV\n",
    "    Sim_DF_AV = pd.concat([sim_data, AV_Df, fake_choice_df], axis=1, sort=False)\n",
    "    return Sim_DF_AV\n",
    "\n",
    "def PlotParams(sim_par, model, fig_size):\n",
    "    \"\"\"\n",
    "    Function to plot parameters from simulated data.\n",
    "    \n",
    "    Parameters\n",
    "    ----------\n",
    "    sim_par: Pandas Series or Pandas Column\n",
    "        Pandas Series or column from DataFrame containing\n",
    "        coefficients from the estimated models based on\n",
    "        simulated data.\n",
    "        \n",
    "    model: Pylogit model.\n",
    "        Estimated data generating model to compare \n",
    "        estimated parameters based on simulated data\n",
    "        to.\n",
    "        \n",
    "    size: tuple\n",
    "        Figure size\n",
    "        \n",
    "    Returns\n",
    "    -------\n",
    "    Seaborn figure of the distribution of estimated parameters\n",
    "    based on simulated data.\n",
    "    \"\"\"\n",
    "    # Create bins for the histogram\n",
    "    bins = np.linspace(sim_par.min(), sim_par.max(), 10)\n",
    "    \n",
    "    # Initialize the figure size\n",
    "    plt.figure(figsize=fig_size)\n",
    "    \n",
    "    # Plot the distribution\n",
    "    sns.distplot(sim_par, kde=False, bins=bins, label='Simulated Parameters')\n",
    "    \n",
    "    # Add vertical line for the data generating parameter\n",
    "    plt.axvline(model.coefs[sim_par.name], color='black', ls='--',label='Data Generating Parameter')\n",
    "    \n",
    "    # Add a title for the figure\n",
    "    plt.title(label='Histogram of '+'\"'+sim_par.name+'\"', fontdict={'fontsize':16})\n",
    "    \n",
    "    # Add a y-label\n",
    "    plt.ylabel('Frequency', rotation=0, labelpad=50)\n",
    "    \n",
    "    # Add a legend\n",
    "    plt.legend()"
   ]
  },
  {
   "cell_type": "markdown",
   "metadata": {},
   "source": [
    "# 2. MNL Model Estimation using Bike Data"
   ]
  },
  {
   "cell_type": "markdown",
   "metadata": {},
   "source": [
    "## 2.1. Data Ingestion and Exploration"
   ]
  },
  {
   "cell_type": "code",
   "execution_count": 4,
   "metadata": {},
   "outputs": [],
   "source": [
    "# Create a variable for the path to the long format data for\n",
    "# the multinomial choice model\n",
    "PATH = '../../data/raw/spring_2016_all_bay_area_long_format_plus_cross_bay_col.csv'"
   ]
  },
  {
   "cell_type": "code",
   "execution_count": 5,
   "metadata": {},
   "outputs": [
    {
     "name": "stdout",
     "output_type": "stream",
     "text": [
      "The columns of bike_data are:\n"
     ]
    },
    {
     "data": {
      "text/plain": [
       "Index(['household_id', 'person_id', 'tour_id', 'observation_id', 'mode_id',\n",
       "       'choice', 'tour_origin_taz', 'primary_dest_taz', 'total_travel_time',\n",
       "       'total_travel_cost', 'total_travel_distance', 'age', 'household_size',\n",
       "       'household_income', 'household_income_values', 'transit_subsidy',\n",
       "       'transit_subsidy_amount', 'num_cars', 'num_licensed_drivers',\n",
       "       'cross_bay', 'oakland_and_berkeley', 'survey_id', 'gender',\n",
       "       'non_relative_flag', 'num_pre_school', 'num_school_aged', 'married',\n",
       "       'parent', 'income_category_1', 'income_category_2', 'income_category_3',\n",
       "       'income_category_4', 'income_category_5', 'income_category_6',\n",
       "       'income_category_7', 'income_category_8', 'income_category_9',\n",
       "       'income_category_10', 'income_unknown', 'ln_drive_cost',\n",
       "       'ln_drive_cost_sq', 'total_travel_time_10x', 'total_travel_time_tenth',\n",
       "       'high_income', 'medium_income', 'low_income', 'high_income_cost',\n",
       "       'medium_income_cost', 'low_income_cost', 'unknown_income_cost',\n",
       "       'high_income_ln_cost', 'medium_income_ln_cost', 'low_income_ln_cost',\n",
       "       'unknown_income_ln_cost', 'cars_per_licensed_drivers', 'num_kids',\n",
       "       'family_in_household', 'married_woman', 'cost_per_distance',\n",
       "       'intercept', 'cost_per_distance_10$_per_mi',\n",
       "       'total_travel_time_tenth_min'],\n",
       "      dtype='object')"
      ]
     },
     "execution_count": 5,
     "metadata": {},
     "output_type": "execute_result"
    }
   ],
   "source": [
    "# Reading data from the specified PATH\n",
    "bike_data_long = pd.read_csv(PATH)\n",
    "\n",
    "# If in previous work we accidentally saved the index with the dataframe\n",
    "# remove the old index from the data\n",
    "if \"Unnamed: 0\" in bike_data_long.columns:\n",
    "    del bike_data_long[\"Unnamed: 0\"]\n",
    "\n",
    "print(\"The columns of bike_data are:\")\n",
    "bike_data_long.columns"
   ]
  },
  {
   "cell_type": "code",
   "execution_count": 6,
   "metadata": {},
   "outputs": [
    {
     "data": {
      "text/plain": [
       "Drive Alone           0.428322\n",
       "Shared Ride 2         0.158841\n",
       "Shared Ride 3+        0.139860\n",
       "Walk-Transit-Walk     0.103397\n",
       "Drive-Transit-Walk    0.015485\n",
       "Walk-Transit-Drive    0.013237\n",
       "Walk                  0.094406\n",
       "Bike                  0.046454\n",
       "Name: Mode Shares, dtype: float64"
      ]
     },
     "execution_count": 6,
     "metadata": {},
     "output_type": "execute_result"
    }
   ],
   "source": [
    "# Look at the mode shares in the data set\n",
    "alt_id_to_mode_name = {1: \"Drive Alone\",\n",
    "                       2: \"Shared Ride 2\",\n",
    "                       3: \"Shared Ride 3+\",\n",
    "                       4: \"Walk-Transit-Walk\",\n",
    "                       5: \"Drive-Transit-Walk\",\n",
    "                       6: \"Walk-Transit-Drive\",\n",
    "                       7: \"Walk\",\n",
    "                       8: \"Bike\"}\n",
    "\n",
    "mode_counts = bike_data_long.loc[bike_data_long.choice == 1,\n",
    "                                 \"mode_id\"].value_counts().loc[range(1, 9)]\n",
    "\n",
    "mode_shares = mode_counts / bike_data_long.observation_id.max()\n",
    "mode_shares.index = [alt_id_to_mode_name[x] for x in mode_shares.index.values]\n",
    "mode_shares.name = \"Mode Shares\"\n",
    "mode_shares"
   ]
  },
  {
   "cell_type": "markdown",
   "metadata": {},
   "source": [
    "## 2.2. MNL Model Specification "
   ]
  },
  {
   "cell_type": "code",
   "execution_count": 7,
   "metadata": {},
   "outputs": [],
   "source": [
    "# Create my specification and variable names for the basic MNL model\n",
    "# NOTE: - Keys should be variables within the long format dataframe.\n",
    "#         The sole exception to this is the \"intercept\" key.\n",
    "#       - For the specification dictionary, the values should be lists\n",
    "#         or lists of lists. Within a list, or within the inner-most\n",
    "#         list should be the alternative ID's of the alternative whose\n",
    "#         utility specification the explanatory variable is entering.\n",
    "\n",
    "mnl_specification = OrderedDict()\n",
    "mnl_names = OrderedDict()\n",
    "\n",
    "mnl_specification[\"intercept\"] = [2, 3, 4, 5, 6, 7, 8]\n",
    "mnl_names[\"intercept\"] = ['ASC Shared Ride: 2',\n",
    "                          'ASC Shared Ride: 3+',\n",
    "                          'ASC Walk-Transit-Walk',\n",
    "                          'ASC Drive-Transit-Walk',\n",
    "                          'ASC Walk-Transit-Drive',\n",
    "                          'ASC Walk',\n",
    "                          'ASC Bike']\n",
    "\n",
    "mnl_specification[\"total_travel_time\"] = [[1, 2, 3], [4, 5, 6]]\n",
    "mnl_names[\"total_travel_time\"] = ['Travel Time, units:min (All Auto Modes)',\n",
    "                                  'Travel Time, units:min (All Transit Modes)']\n",
    "\n",
    "mnl_specification[\"total_travel_cost\"] = [[4, 5, 6]]\n",
    "mnl_names[\"total_travel_cost\"] = ['Travel Cost, units:$ (All Transit Modes)']\n",
    "\n",
    "mnl_specification[\"cost_per_distance\"] = [1, 2, 3]\n",
    "mnl_names[\"cost_per_distance\"] = [\"Travel Cost per Distance, units:$/mi (Drive Alone)\",\n",
    "                                  \"Travel Cost per Distance, units:$/mi (SharedRide-2)\",\n",
    "                                  \"Travel Cost per Distance, units:$/mi (SharedRide-3+)\"]\n",
    "\n",
    "mnl_specification[\"cars_per_licensed_drivers\"] = [[1, 2, 3]]\n",
    "mnl_names[\"cars_per_licensed_drivers\"] = [\"Autos per licensed drivers (All Auto Modes)\"]\n",
    "\n",
    "mnl_specification[\"total_travel_distance\"] = [7, 8]\n",
    "mnl_names[\"total_travel_distance\"] = ['Travel Distance, units:mi (Walk)',\n",
    "                                      'Travel Distance, units:mi (Bike)']\n",
    "\n",
    "# mnl_specification[\"cross_bay\"] = [[2, 3], [4, 5, 6]]\n",
    "# mnl_names[\"cross_bay\"] = [\"Cross-Bay Tour (Shared Ride 2 & 3+)\",\n",
    "#                           \"Cross-Bay Tour (All Transit Modes)\"]\n",
    "mnl_specification[\"cross_bay\"] = [[2, 3]]\n",
    "mnl_names[\"cross_bay\"] = [\"Cross-Bay Tour (Shared Ride 2 & 3+)\"]\n",
    "\n",
    "mnl_specification[\"household_size\"] = [[2, 3]]\n",
    "mnl_names[\"household_size\"] = ['Household Size (Shared Ride 2 & 3+)']\n",
    "\n",
    "mnl_specification[\"num_kids\"] = [[2, 3]]\n",
    "mnl_names[\"num_kids\"] = [\"Number of Kids in Household (Shared Ride 2 & 3+)\"]"
   ]
  },
  {
   "cell_type": "markdown",
   "metadata": {},
   "source": [
    "## 2.3. Model Estimation"
   ]
  },
  {
   "cell_type": "code",
   "execution_count": 8,
   "metadata": {},
   "outputs": [
    {
     "name": "stdout",
     "output_type": "stream",
     "text": [
      "Log-likelihood at zero: -7,599.7019\n",
      "Initial Log-likelihood: -7,599.7019\n"
     ]
    },
    {
     "name": "stderr",
     "output_type": "stream",
     "text": [
      "/Users/mobouzaghrane/opt/anaconda3/lib/python3.7/site-packages/pylogit/choice_tools.py:703: FutureWarning: arrays to stack must be passed as a \"sequence\" type such as list or tuple. Support for non-sequence iterables such as generators is deprecated as of NumPy 1.16 and will raise an error in the future.\n",
      "  design_matrix = np.hstack((x[:, None] for x in independent_vars))\n",
      "/Users/mobouzaghrane/opt/anaconda3/lib/python3.7/site-packages/scipy/optimize/_minimize.py:505: RuntimeWarning: Method BFGS does not use Hessian information (hess).\n",
      "  RuntimeWarning)\n"
     ]
    },
    {
     "name": "stdout",
     "output_type": "stream",
     "text": [
      "Estimation Time for Point Estimation: 0.18 seconds.\n",
      "Final log-likelihood: -5,073.4276\n"
     ]
    },
    {
     "data": {
      "text/html": [
       "<table class=\"simpletable\">\n",
       "<caption>Multinomial Logit Model Regression Results</caption>\n",
       "<tr>\n",
       "  <th>Dep. Variable:</th>         <td>choice</td>          <th>  No. Observations:  </th>    <td>4,004</td>  \n",
       "</tr>\n",
       "<tr>\n",
       "  <th>Model:</th>         <td>Multinomial Logit Model</td> <th>  Df Residuals:      </th>    <td>3,985</td>  \n",
       "</tr>\n",
       "<tr>\n",
       "  <th>Method:</th>                  <td>MLE</td>           <th>  Df Model:          </th>     <td>19</td>    \n",
       "</tr>\n",
       "<tr>\n",
       "  <th>Date:</th>             <td>Wed, 15 Apr 2020</td>     <th>  Pseudo R-squ.:     </th>    <td>0.332</td>  \n",
       "</tr>\n",
       "<tr>\n",
       "  <th>Time:</th>                 <td>11:23:17</td>         <th>  Pseudo R-bar-squ.: </th>    <td>0.330</td>  \n",
       "</tr>\n",
       "<tr>\n",
       "  <th>AIC:</th>                 <td>10,184.855</td>        <th>  Log-Likelihood:    </th> <td>-5,073.428</td>\n",
       "</tr>\n",
       "<tr>\n",
       "  <th>BIC:</th>                 <td>10,304.461</td>        <th>  LL-Null:           </th> <td>-7,599.702</td>\n",
       "</tr>\n",
       "</table>\n",
       "<table class=\"simpletable\">\n",
       "<tr>\n",
       "                            <td></td>                              <th>coef</th>     <th>std err</th>      <th>z</th>      <th>P>|z|</th>  <th>[0.025</th>    <th>0.975]</th>  \n",
       "</tr>\n",
       "<tr>\n",
       "  <th>ASC Shared Ride: 2</th>                                   <td>   -1.0097</td> <td>    0.486</td> <td>   -2.079</td> <td> 0.038</td> <td>   -1.962</td> <td>   -0.058</td>\n",
       "</tr>\n",
       "<tr>\n",
       "  <th>ASC Shared Ride: 3+</th>                                  <td>    3.4619</td> <td>    1.064</td> <td>    3.254</td> <td> 0.001</td> <td>    1.377</td> <td>    5.547</td>\n",
       "</tr>\n",
       "<tr>\n",
       "  <th>ASC Walk-Transit-Walk</th>                                <td>   -0.3921</td> <td>    0.288</td> <td>   -1.360</td> <td> 0.174</td> <td>   -0.957</td> <td>    0.173</td>\n",
       "</tr>\n",
       "<tr>\n",
       "  <th>ASC Drive-Transit-Walk</th>                               <td>   -2.6220</td> <td>    0.303</td> <td>   -8.660</td> <td> 0.000</td> <td>   -3.215</td> <td>   -2.029</td>\n",
       "</tr>\n",
       "<tr>\n",
       "  <th>ASC Walk-Transit-Drive</th>                               <td>   -2.9773</td> <td>    0.306</td> <td>   -9.725</td> <td> 0.000</td> <td>   -3.577</td> <td>   -2.377</td>\n",
       "</tr>\n",
       "<tr>\n",
       "  <th>ASC Walk</th>                                             <td>    1.5541</td> <td>    0.305</td> <td>    5.101</td> <td> 0.000</td> <td>    0.957</td> <td>    2.151</td>\n",
       "</tr>\n",
       "<tr>\n",
       "  <th>ASC Bike</th>                                             <td>   -1.1059</td> <td>    0.305</td> <td>   -3.628</td> <td> 0.000</td> <td>   -1.703</td> <td>   -0.508</td>\n",
       "</tr>\n",
       "<tr>\n",
       "  <th>Travel Time, units:min (All Auto Modes)</th>              <td>   -0.0760</td> <td>    0.006</td> <td>  -13.728</td> <td> 0.000</td> <td>   -0.087</td> <td>   -0.065</td>\n",
       "</tr>\n",
       "<tr>\n",
       "  <th>Travel Time, units:min (All Transit Modes)</th>           <td>   -0.0274</td> <td>    0.002</td> <td>  -12.768</td> <td> 0.000</td> <td>   -0.032</td> <td>   -0.023</td>\n",
       "</tr>\n",
       "<tr>\n",
       "  <th>Travel Cost, units:$ (All Transit Modes)</th>             <td>   -0.1273</td> <td>    0.037</td> <td>   -3.472</td> <td> 0.001</td> <td>   -0.199</td> <td>   -0.055</td>\n",
       "</tr>\n",
       "<tr>\n",
       "  <th>Travel Cost per Distance, units:$/mi (Drive Alone)</th>   <td>   -5.0613</td> <td>    1.377</td> <td>   -3.675</td> <td> 0.000</td> <td>   -7.760</td> <td>   -2.362</td>\n",
       "</tr>\n",
       "<tr>\n",
       "  <th>Travel Cost per Distance, units:$/mi (SharedRide-2)</th>  <td>  -20.3194</td> <td>    4.548</td> <td>   -4.467</td> <td> 0.000</td> <td>  -29.234</td> <td>  -11.405</td>\n",
       "</tr>\n",
       "<tr>\n",
       "  <th>Travel Cost per Distance, units:$/mi (SharedRide-3+)</th> <td>  -90.9224</td> <td>   14.748</td> <td>   -6.165</td> <td> 0.000</td> <td> -119.829</td> <td>  -62.016</td>\n",
       "</tr>\n",
       "<tr>\n",
       "  <th>Autos per licensed drivers (All Auto Modes)</th>          <td>    1.2134</td> <td>    0.129</td> <td>    9.408</td> <td> 0.000</td> <td>    0.961</td> <td>    1.466</td>\n",
       "</tr>\n",
       "<tr>\n",
       "  <th>Travel Distance, units:mi (Walk)</th>                     <td>   -1.0272</td> <td>    0.050</td> <td>  -20.437</td> <td> 0.000</td> <td>   -1.126</td> <td>   -0.929</td>\n",
       "</tr>\n",
       "<tr>\n",
       "  <th>Travel Distance, units:mi (Bike)</th>                     <td>   -0.2873</td> <td>    0.024</td> <td>  -11.896</td> <td> 0.000</td> <td>   -0.335</td> <td>   -0.240</td>\n",
       "</tr>\n",
       "<tr>\n",
       "  <th>Cross-Bay Tour (Shared Ride 2 & 3+)</th>                  <td>    0.9280</td> <td>    0.327</td> <td>    2.839</td> <td> 0.005</td> <td>    0.287</td> <td>    1.569</td>\n",
       "</tr>\n",
       "<tr>\n",
       "  <th>Household Size (Shared Ride 2 & 3+)</th>                  <td>    0.1136</td> <td>    0.045</td> <td>    2.523</td> <td> 0.012</td> <td>    0.025</td> <td>    0.202</td>\n",
       "</tr>\n",
       "<tr>\n",
       "  <th>Number of Kids in Household (Shared Ride 2 & 3+)</th>     <td>    0.6868</td> <td>    0.054</td> <td>   12.820</td> <td> 0.000</td> <td>    0.582</td> <td>    0.792</td>\n",
       "</tr>\n",
       "</table>"
      ],
      "text/plain": [
       "<class 'statsmodels.iolib.summary.Summary'>\n",
       "\"\"\"\n",
       "                     Multinomial Logit Model Regression Results                    \n",
       "===================================================================================\n",
       "Dep. Variable:                      choice   No. Observations:                4,004\n",
       "Model:             Multinomial Logit Model   Df Residuals:                    3,985\n",
       "Method:                                MLE   Df Model:                           19\n",
       "Date:                     Wed, 15 Apr 2020   Pseudo R-squ.:                   0.332\n",
       "Time:                             11:23:17   Pseudo R-bar-squ.:               0.330\n",
       "AIC:                            10,184.855   Log-Likelihood:             -5,073.428\n",
       "BIC:                            10,304.461   LL-Null:                    -7,599.702\n",
       "========================================================================================================================\n",
       "                                                           coef    std err          z      P>|z|      [0.025      0.975]\n",
       "------------------------------------------------------------------------------------------------------------------------\n",
       "ASC Shared Ride: 2                                      -1.0097      0.486     -2.079      0.038      -1.962      -0.058\n",
       "ASC Shared Ride: 3+                                      3.4619      1.064      3.254      0.001       1.377       5.547\n",
       "ASC Walk-Transit-Walk                                   -0.3921      0.288     -1.360      0.174      -0.957       0.173\n",
       "ASC Drive-Transit-Walk                                  -2.6220      0.303     -8.660      0.000      -3.215      -2.029\n",
       "ASC Walk-Transit-Drive                                  -2.9773      0.306     -9.725      0.000      -3.577      -2.377\n",
       "ASC Walk                                                 1.5541      0.305      5.101      0.000       0.957       2.151\n",
       "ASC Bike                                                -1.1059      0.305     -3.628      0.000      -1.703      -0.508\n",
       "Travel Time, units:min (All Auto Modes)                 -0.0760      0.006    -13.728      0.000      -0.087      -0.065\n",
       "Travel Time, units:min (All Transit Modes)              -0.0274      0.002    -12.768      0.000      -0.032      -0.023\n",
       "Travel Cost, units:$ (All Transit Modes)                -0.1273      0.037     -3.472      0.001      -0.199      -0.055\n",
       "Travel Cost per Distance, units:$/mi (Drive Alone)      -5.0613      1.377     -3.675      0.000      -7.760      -2.362\n",
       "Travel Cost per Distance, units:$/mi (SharedRide-2)    -20.3194      4.548     -4.467      0.000     -29.234     -11.405\n",
       "Travel Cost per Distance, units:$/mi (SharedRide-3+)   -90.9224     14.748     -6.165      0.000    -119.829     -62.016\n",
       "Autos per licensed drivers (All Auto Modes)              1.2134      0.129      9.408      0.000       0.961       1.466\n",
       "Travel Distance, units:mi (Walk)                        -1.0272      0.050    -20.437      0.000      -1.126      -0.929\n",
       "Travel Distance, units:mi (Bike)                        -0.2873      0.024    -11.896      0.000      -0.335      -0.240\n",
       "Cross-Bay Tour (Shared Ride 2 & 3+)                      0.9280      0.327      2.839      0.005       0.287       1.569\n",
       "Household Size (Shared Ride 2 & 3+)                      0.1136      0.045      2.523      0.012       0.025       0.202\n",
       "Number of Kids in Household (Shared Ride 2 & 3+)         0.6868      0.054     12.820      0.000       0.582       0.792\n",
       "========================================================================================================================\n",
       "\"\"\""
      ]
     },
     "execution_count": 8,
     "metadata": {},
     "output_type": "execute_result"
    }
   ],
   "source": [
    "# Estimate the basic MNL model, using the hessian and newton-conjugate gradient\n",
    "mnl_model = pl.create_choice_model(data=bike_data_long,\n",
    "                                   alt_id_col=\"mode_id\",\n",
    "                                   obs_id_col=\"observation_id\",\n",
    "                                   choice_col=\"choice\",\n",
    "                                   specification=mnl_specification,\n",
    "                                   model_type=\"MNL\",\n",
    "                                   names=mnl_names)\n",
    "\n",
    "num_vars = len(reduce(lambda x, y: x + y, mnl_names.values()))\n",
    "\n",
    "# Note newton-cg used to ensure convergence to a point where gradient\n",
    "# is essentially zero for all dimensions.\n",
    "mnl_model.fit_mle(np.zeros(num_vars),\n",
    "                  method=\"BFGS\")\n",
    "\n",
    "# Look at the estimation results\n",
    "mnl_model.get_statsmodels_summary()"
   ]
  },
  {
   "cell_type": "markdown",
   "metadata": {},
   "source": [
    "# 3. Framework for Simulation from Causal Graph"
   ]
  },
  {
   "cell_type": "markdown",
   "metadata": {},
   "source": [
    "## 3.1. Causal Models for each Utility Function "
   ]
  },
  {
   "cell_type": "code",
   "execution_count": 9,
   "metadata": {},
   "outputs": [
    {
     "data": {
      "image/svg+xml": [
       "<?xml version=\"1.0\" encoding=\"UTF-8\" standalone=\"no\"?>\n",
       "<!DOCTYPE svg PUBLIC \"-//W3C//DTD SVG 1.1//EN\"\n",
       " \"http://www.w3.org/Graphics/SVG/1.1/DTD/svg11.dtd\">\n",
       "<!-- Generated by graphviz version 2.42.3 (20191010.1750)\n",
       " -->\n",
       "<!-- Title: %3 Pages: 1 -->\n",
       "<svg width=\"718pt\" height=\"188pt\"\n",
       " viewBox=\"0.00 0.00 718.04 188.00\" xmlns=\"http://www.w3.org/2000/svg\" xmlns:xlink=\"http://www.w3.org/1999/xlink\">\n",
       "<g id=\"graph0\" class=\"graph\" transform=\"scale(1 1) rotate(0) translate(4 184)\">\n",
       "<title>%3</title>\n",
       "<polygon fill=\"white\" stroke=\"transparent\" points=\"-4,4 -4,-184 714.04,-184 714.04,4 -4,4\"/>\n",
       "<!-- Total Travel Cost -->\n",
       "<g id=\"node1\" class=\"node\">\n",
       "<title>Total Travel Cost</title>\n",
       "<ellipse fill=\"none\" stroke=\"black\" cx=\"312.53\" cy=\"-90\" rx=\"71.31\" ry=\"18\"/>\n",
       "<text text-anchor=\"middle\" x=\"312.53\" y=\"-85.8\" font-family=\"Times,serif\" font-size=\"14.00\">Total Travel Cost</text>\n",
       "</g>\n",
       "<!-- Utility (Drive Alone) -->\n",
       "<g id=\"node6\" class=\"node\">\n",
       "<title>Utility (Drive Alone)</title>\n",
       "<ellipse fill=\"none\" stroke=\"black\" cx=\"393.53\" cy=\"-18\" rx=\"84.55\" ry=\"18\"/>\n",
       "<text text-anchor=\"middle\" x=\"393.53\" y=\"-13.8\" font-family=\"Times,serif\" font-size=\"14.00\">Utility (Drive Alone)</text>\n",
       "</g>\n",
       "<!-- Total Travel Cost&#45;&gt;Utility (Drive Alone) -->\n",
       "<g id=\"edge4\" class=\"edge\">\n",
       "<title>Total Travel Cost&#45;&gt;Utility (Drive Alone)</title>\n",
       "<path fill=\"none\" stroke=\"black\" d=\"M331.72,-72.41C342.14,-63.41 355.18,-52.14 366.6,-42.27\"/>\n",
       "<polygon fill=\"black\" stroke=\"black\" points=\"368.91,-44.9 374.19,-35.71 364.33,-39.6 368.91,-44.9\"/>\n",
       "</g>\n",
       "<!-- Total Travel Distance -->\n",
       "<g id=\"node2\" class=\"node\">\n",
       "<title>Total Travel Distance</title>\n",
       "<ellipse fill=\"none\" stroke=\"black\" cx=\"393.53\" cy=\"-162\" rx=\"86.25\" ry=\"18\"/>\n",
       "<text text-anchor=\"middle\" x=\"393.53\" y=\"-157.8\" font-family=\"Times,serif\" font-size=\"14.00\">Total Travel Distance</text>\n",
       "</g>\n",
       "<!-- Total Travel Distance&#45;&gt;Total Travel Cost -->\n",
       "<g id=\"edge2\" class=\"edge\">\n",
       "<title>Total Travel Distance&#45;&gt;Total Travel Cost</title>\n",
       "<path fill=\"none\" stroke=\"black\" d=\"M374.33,-144.41C363.84,-135.34 350.68,-123.97 339.21,-114.06\"/>\n",
       "<polygon fill=\"black\" stroke=\"black\" points=\"341.44,-111.36 331.58,-107.47 336.86,-116.66 341.44,-111.36\"/>\n",
       "</g>\n",
       "<!-- Total Travel Time -->\n",
       "<g id=\"node4\" class=\"node\">\n",
       "<title>Total Travel Time</title>\n",
       "<ellipse fill=\"none\" stroke=\"black\" cx=\"475.53\" cy=\"-90\" rx=\"73.28\" ry=\"18\"/>\n",
       "<text text-anchor=\"middle\" x=\"475.53\" y=\"-85.8\" font-family=\"Times,serif\" font-size=\"14.00\">Total Travel Time</text>\n",
       "</g>\n",
       "<!-- Total Travel Distance&#45;&gt;Total Travel Time -->\n",
       "<g id=\"edge1\" class=\"edge\">\n",
       "<title>Total Travel Distance&#45;&gt;Total Travel Time</title>\n",
       "<path fill=\"none\" stroke=\"black\" d=\"M412.96,-144.41C423.58,-135.34 436.9,-123.97 448.52,-114.06\"/>\n",
       "<polygon fill=\"black\" stroke=\"black\" points=\"450.9,-116.62 456.23,-107.47 446.35,-111.3 450.9,-116.62\"/>\n",
       "</g>\n",
       "<!-- Number of Licensed Drivers -->\n",
       "<g id=\"node3\" class=\"node\">\n",
       "<title>Number of Licensed Drivers</title>\n",
       "<ellipse fill=\"none\" stroke=\"black\" cx=\"111.53\" cy=\"-90\" rx=\"111.55\" ry=\"18\"/>\n",
       "<text text-anchor=\"middle\" x=\"111.53\" y=\"-85.8\" font-family=\"Times,serif\" font-size=\"14.00\">Number of Licensed Drivers</text>\n",
       "</g>\n",
       "<!-- Number of Licensed Drivers&#45;&gt;Utility (Drive Alone) -->\n",
       "<g id=\"edge6\" class=\"edge\">\n",
       "<title>Number of Licensed Drivers&#45;&gt;Utility (Drive Alone)</title>\n",
       "<path fill=\"none\" stroke=\"black\" d=\"M169.61,-74.58C216.58,-62.92 282.58,-46.54 330.75,-34.58\"/>\n",
       "<polygon fill=\"black\" stroke=\"black\" points=\"331.89,-37.91 340.75,-32.1 330.2,-31.11 331.89,-37.91\"/>\n",
       "</g>\n",
       "<!-- Total Travel Time&#45;&gt;Utility (Drive Alone) -->\n",
       "<g id=\"edge3\" class=\"edge\">\n",
       "<title>Total Travel Time&#45;&gt;Utility (Drive Alone)</title>\n",
       "<path fill=\"none\" stroke=\"black\" d=\"M456.09,-72.41C445.55,-63.41 432.35,-52.14 420.79,-42.27\"/>\n",
       "<polygon fill=\"black\" stroke=\"black\" points=\"422.98,-39.54 413.1,-35.71 418.44,-44.87 422.98,-39.54\"/>\n",
       "</g>\n",
       "<!-- Number of Autos -->\n",
       "<g id=\"node5\" class=\"node\">\n",
       "<title>Number of Autos</title>\n",
       "<ellipse fill=\"none\" stroke=\"black\" cx=\"638.53\" cy=\"-90\" rx=\"71.54\" ry=\"18\"/>\n",
       "<text text-anchor=\"middle\" x=\"638.53\" y=\"-85.8\" font-family=\"Times,serif\" font-size=\"14.00\">Number of Autos</text>\n",
       "</g>\n",
       "<!-- Number of Autos&#45;&gt;Utility (Drive Alone) -->\n",
       "<g id=\"edge5\" class=\"edge\">\n",
       "<title>Number of Autos&#45;&gt;Utility (Drive Alone)</title>\n",
       "<path fill=\"none\" stroke=\"black\" d=\"M593.02,-76C553.22,-64.63 495.19,-48.05 451.96,-35.7\"/>\n",
       "<polygon fill=\"black\" stroke=\"black\" points=\"452.72,-32.27 442.15,-32.89 450.8,-39 452.72,-32.27\"/>\n",
       "</g>\n",
       "</g>\n",
       "</svg>\n"
      ],
      "text/plain": [
       "<graphviz.dot.Digraph at 0x1c1e1e2a10>"
      ]
     },
     "execution_count": 9,
     "metadata": {},
     "output_type": "execute_result"
    }
   ],
   "source": [
    "# Define the causal model\n",
    "V_Drive_Alone = CausalGraphicalModel(nodes=[\"Total Travel Distance\",\n",
    "                                            \"Total Travel Time\",\n",
    "                                            \"Total Travel Cost\",\n",
    "                                            \"Number of Autos\",\n",
    "                                            \"Number of Licensed Drivers\",\n",
    "                                            \"Utility (Drive Alone)\"],\n",
    "                                     edges=[(\"Total Travel Distance\",\"Total Travel Time\"),\n",
    "                                            (\"Total Travel Distance\",\"Total Travel Cost\"),\n",
    "                                            (\"Total Travel Time\", \"Utility (Drive Alone)\"), \n",
    "                                            (\"Total Travel Cost\", \"Utility (Drive Alone)\"), \n",
    "                                            (\"Number of Autos\", \"Utility (Drive Alone)\"),\n",
    "                                            (\"Number of Licensed Drivers\",\"Utility (Drive Alone)\")\n",
    "    ]\n",
    ")\n",
    "\n",
    "# draw the causal model\n",
    "V_Drive_Alone.draw()"
   ]
  },
  {
   "cell_type": "code",
   "execution_count": 10,
   "metadata": {},
   "outputs": [
    {
     "data": {
      "image/svg+xml": [
       "<?xml version=\"1.0\" encoding=\"UTF-8\" standalone=\"no\"?>\n",
       "<!DOCTYPE svg PUBLIC \"-//W3C//DTD SVG 1.1//EN\"\n",
       " \"http://www.w3.org/Graphics/SVG/1.1/DTD/svg11.dtd\">\n",
       "<!-- Generated by graphviz version 2.42.3 (20191010.1750)\n",
       " -->\n",
       "<!-- Title: %3 Pages: 1 -->\n",
       "<svg width=\"1166pt\" height=\"188pt\"\n",
       " viewBox=\"0.00 0.00 1166.27 188.00\" xmlns=\"http://www.w3.org/2000/svg\" xmlns:xlink=\"http://www.w3.org/1999/xlink\">\n",
       "<g id=\"graph0\" class=\"graph\" transform=\"scale(1 1) rotate(0) translate(4 184)\">\n",
       "<title>%3</title>\n",
       "<polygon fill=\"white\" stroke=\"transparent\" points=\"-4,4 -4,-184 1162.27,-184 1162.27,4 -4,4\"/>\n",
       "<!-- Number of Kids -->\n",
       "<g id=\"node1\" class=\"node\">\n",
       "<title>Number of Kids</title>\n",
       "<ellipse fill=\"none\" stroke=\"black\" cx=\"67.58\" cy=\"-90\" rx=\"67.66\" ry=\"18\"/>\n",
       "<text text-anchor=\"middle\" x=\"67.58\" y=\"-85.8\" font-family=\"Times,serif\" font-size=\"14.00\">Number of Kids</text>\n",
       "</g>\n",
       "<!-- Utility (Shared Ride 2) -->\n",
       "<g id=\"node8\" class=\"node\">\n",
       "<title>Utility (Shared Ride 2)</title>\n",
       "<ellipse fill=\"none\" stroke=\"black\" cx=\"550.58\" cy=\"-18\" rx=\"91.31\" ry=\"18\"/>\n",
       "<text text-anchor=\"middle\" x=\"550.58\" y=\"-13.8\" font-family=\"Times,serif\" font-size=\"14.00\">Utility (Shared Ride 2)</text>\n",
       "</g>\n",
       "<!-- Number of Kids&#45;&gt;Utility (Shared Ride 2) -->\n",
       "<g id=\"edge9\" class=\"edge\">\n",
       "<title>Number of Kids&#45;&gt;Utility (Shared Ride 2)</title>\n",
       "<path fill=\"none\" stroke=\"black\" d=\"M116.75,-77.47C125.97,-75.5 135.55,-73.58 144.58,-72 253.13,-52.97 379.11,-37.55 461.59,-28.35\"/>\n",
       "<polygon fill=\"black\" stroke=\"black\" points=\"462.13,-31.81 471.68,-27.23 461.35,-24.85 462.13,-31.81\"/>\n",
       "</g>\n",
       "<!-- Total Travel Cost -->\n",
       "<g id=\"node2\" class=\"node\">\n",
       "<title>Total Travel Cost</title>\n",
       "<ellipse fill=\"none\" stroke=\"black\" cx=\"224.58\" cy=\"-90\" rx=\"71.31\" ry=\"18\"/>\n",
       "<text text-anchor=\"middle\" x=\"224.58\" y=\"-85.8\" font-family=\"Times,serif\" font-size=\"14.00\">Total Travel Cost</text>\n",
       "</g>\n",
       "<!-- Total Travel Cost&#45;&gt;Utility (Shared Ride 2) -->\n",
       "<g id=\"edge4\" class=\"edge\">\n",
       "<title>Total Travel Cost&#45;&gt;Utility (Shared Ride 2)</title>\n",
       "<path fill=\"none\" stroke=\"black\" d=\"M276.96,-77.75C332.37,-65.86 420.07,-47.02 481.2,-33.9\"/>\n",
       "<polygon fill=\"black\" stroke=\"black\" points=\"482.11,-37.28 491.15,-31.76 480.64,-30.44 482.11,-37.28\"/>\n",
       "</g>\n",
       "<!-- Total Travel Distance -->\n",
       "<g id=\"node3\" class=\"node\">\n",
       "<title>Total Travel Distance</title>\n",
       "<ellipse fill=\"none\" stroke=\"black\" cx=\"305.58\" cy=\"-162\" rx=\"86.25\" ry=\"18\"/>\n",
       "<text text-anchor=\"middle\" x=\"305.58\" y=\"-157.8\" font-family=\"Times,serif\" font-size=\"14.00\">Total Travel Distance</text>\n",
       "</g>\n",
       "<!-- Total Travel Distance&#45;&gt;Total Travel Cost -->\n",
       "<g id=\"edge3\" class=\"edge\">\n",
       "<title>Total Travel Distance&#45;&gt;Total Travel Cost</title>\n",
       "<path fill=\"none\" stroke=\"black\" d=\"M286.38,-144.41C275.89,-135.34 262.74,-123.97 251.26,-114.06\"/>\n",
       "<polygon fill=\"black\" stroke=\"black\" points=\"253.49,-111.36 243.64,-107.47 248.92,-116.66 253.49,-111.36\"/>\n",
       "</g>\n",
       "<!-- Total Travel Time -->\n",
       "<g id=\"node6\" class=\"node\">\n",
       "<title>Total Travel Time</title>\n",
       "<ellipse fill=\"none\" stroke=\"black\" cx=\"387.58\" cy=\"-90\" rx=\"73.28\" ry=\"18\"/>\n",
       "<text text-anchor=\"middle\" x=\"387.58\" y=\"-85.8\" font-family=\"Times,serif\" font-size=\"14.00\">Total Travel Time</text>\n",
       "</g>\n",
       "<!-- Total Travel Distance&#45;&gt;Total Travel Time -->\n",
       "<g id=\"edge2\" class=\"edge\">\n",
       "<title>Total Travel Distance&#45;&gt;Total Travel Time</title>\n",
       "<path fill=\"none\" stroke=\"black\" d=\"M325.01,-144.41C335.63,-135.34 348.95,-123.97 360.57,-114.06\"/>\n",
       "<polygon fill=\"black\" stroke=\"black\" points=\"362.95,-116.62 368.29,-107.47 358.41,-111.3 362.95,-116.62\"/>\n",
       "</g>\n",
       "<!-- Number of Autos -->\n",
       "<g id=\"node4\" class=\"node\">\n",
       "<title>Number of Autos</title>\n",
       "<ellipse fill=\"none\" stroke=\"black\" cx=\"550.58\" cy=\"-90\" rx=\"71.54\" ry=\"18\"/>\n",
       "<text text-anchor=\"middle\" x=\"550.58\" y=\"-85.8\" font-family=\"Times,serif\" font-size=\"14.00\">Number of Autos</text>\n",
       "</g>\n",
       "<!-- Number of Autos&#45;&gt;Utility (Shared Ride 2) -->\n",
       "<g id=\"edge6\" class=\"edge\">\n",
       "<title>Number of Autos&#45;&gt;Utility (Shared Ride 2)</title>\n",
       "<path fill=\"none\" stroke=\"black\" d=\"M550.58,-71.7C550.58,-63.98 550.58,-54.71 550.58,-46.11\"/>\n",
       "<polygon fill=\"black\" stroke=\"black\" points=\"554.08,-46.1 550.58,-36.1 547.08,-46.1 554.08,-46.1\"/>\n",
       "</g>\n",
       "<!-- Number of Licensed Drivers -->\n",
       "<g id=\"node5\" class=\"node\">\n",
       "<title>Number of Licensed Drivers</title>\n",
       "<ellipse fill=\"none\" stroke=\"black\" cx=\"751.58\" cy=\"-90\" rx=\"111.55\" ry=\"18\"/>\n",
       "<text text-anchor=\"middle\" x=\"751.58\" y=\"-85.8\" font-family=\"Times,serif\" font-size=\"14.00\">Number of Licensed Drivers</text>\n",
       "</g>\n",
       "<!-- Number of Licensed Drivers&#45;&gt;Utility (Shared Ride 2) -->\n",
       "<g id=\"edge7\" class=\"edge\">\n",
       "<title>Number of Licensed Drivers&#45;&gt;Utility (Shared Ride 2)</title>\n",
       "<path fill=\"none\" stroke=\"black\" d=\"M706.97,-73.46C676.37,-62.81 635.62,-48.62 603.39,-37.39\"/>\n",
       "<polygon fill=\"black\" stroke=\"black\" points=\"604.28,-34 593.68,-34.01 601.98,-40.61 604.28,-34\"/>\n",
       "</g>\n",
       "<!-- Total Travel Time&#45;&gt;Utility (Shared Ride 2) -->\n",
       "<g id=\"edge1\" class=\"edge\">\n",
       "<title>Total Travel Time&#45;&gt;Utility (Shared Ride 2)</title>\n",
       "<path fill=\"none\" stroke=\"black\" d=\"M422.55,-73.98C446.63,-63.64 478.85,-49.8 504.95,-38.6\"/>\n",
       "<polygon fill=\"black\" stroke=\"black\" points=\"506.45,-41.76 514.26,-34.6 503.69,-35.33 506.45,-41.76\"/>\n",
       "</g>\n",
       "<!-- Household Size -->\n",
       "<g id=\"node7\" class=\"node\">\n",
       "<title>Household Size</title>\n",
       "<ellipse fill=\"none\" stroke=\"black\" cx=\"946.58\" cy=\"-90\" rx=\"65.72\" ry=\"18\"/>\n",
       "<text text-anchor=\"middle\" x=\"946.58\" y=\"-85.8\" font-family=\"Times,serif\" font-size=\"14.00\">Household Size</text>\n",
       "</g>\n",
       "<!-- Household Size&#45;&gt;Utility (Shared Ride 2) -->\n",
       "<g id=\"edge8\" class=\"edge\">\n",
       "<title>Household Size&#45;&gt;Utility (Shared Ride 2)</title>\n",
       "<path fill=\"none\" stroke=\"black\" d=\"M898.51,-77.5C889.9,-75.57 880.99,-73.66 872.58,-72 790.93,-55.92 696.96,-40.84 631.7,-30.91\"/>\n",
       "<polygon fill=\"black\" stroke=\"black\" points=\"631.89,-27.4 621.48,-29.36 630.84,-34.32 631.89,-27.4\"/>\n",
       "</g>\n",
       "<!-- Cross Bay Trip -->\n",
       "<g id=\"node9\" class=\"node\">\n",
       "<title>Cross Bay Trip</title>\n",
       "<ellipse fill=\"none\" stroke=\"black\" cx=\"1094.58\" cy=\"-90\" rx=\"63.87\" ry=\"18\"/>\n",
       "<text text-anchor=\"middle\" x=\"1094.58\" y=\"-85.8\" font-family=\"Times,serif\" font-size=\"14.00\">Cross Bay Trip</text>\n",
       "</g>\n",
       "<!-- Cross Bay Trip&#45;&gt;Utility (Shared Ride 2) -->\n",
       "<g id=\"edge5\" class=\"edge\">\n",
       "<title>Cross Bay Trip&#45;&gt;Utility (Shared Ride 2)</title>\n",
       "<path fill=\"none\" stroke=\"black\" d=\"M1048.8,-77.48C1039.81,-75.46 1030.43,-73.52 1021.58,-72 891.5,-49.61 739.51,-34.47 644.15,-26.29\"/>\n",
       "<polygon fill=\"black\" stroke=\"black\" points=\"644.21,-22.78 633.95,-25.42 643.62,-29.75 644.21,-22.78\"/>\n",
       "</g>\n",
       "</g>\n",
       "</svg>\n"
      ],
      "text/plain": [
       "<graphviz.dot.Digraph at 0x106810a50>"
      ]
     },
     "execution_count": 10,
     "metadata": {},
     "output_type": "execute_result"
    }
   ],
   "source": [
    "# Define the causal model\n",
    "V_Shared_2 = CausalGraphicalModel(nodes=[\"Total Travel Time\",\n",
    "                                         \"Total Travel Distance\",\n",
    "                                         \"Total Travel Cost\",\n",
    "                                         \"Cross Bay Trip\",\n",
    "                                         \"Number of Autos\",\n",
    "                                         \"Number of Licensed Drivers\",\n",
    "                                         \"Household Size\",\n",
    "                                         \"Number of Kids\",\n",
    "                                         \"Utility (Shared Ride 2)\"],\n",
    "                                  edges=[(\"Total Travel Distance\",\"Total Travel Time\"),\n",
    "                                         (\"Total Travel Distance\",\"Total Travel Cost\"),\n",
    "                                         (\"Total Travel Time\", \"Utility (Shared Ride 2)\"),\n",
    "                                         (\"Number of Autos\", \"Utility (Shared Ride 2)\"),\n",
    "                                         (\"Number of Licensed Drivers\", \"Utility (Shared Ride 2)\"),\n",
    "                                         (\"Total Travel Cost\", \"Utility (Shared Ride 2)\"),\n",
    "                                         (\"Household Size\", \"Utility (Shared Ride 2)\"),\n",
    "                                         (\"Cross Bay Trip\", \"Utility (Shared Ride 2)\"),\n",
    "                                         (\"Number of Kids\", \"Utility (Shared Ride 2)\")\n",
    "    ]\n",
    ")\n",
    "\n",
    "# draw the causal model\n",
    "V_Shared_2.draw()"
   ]
  },
  {
   "cell_type": "code",
   "execution_count": 15,
   "metadata": {},
   "outputs": [
    {
     "data": {
      "image/svg+xml": [
       "<?xml version=\"1.0\" encoding=\"UTF-8\" standalone=\"no\"?>\n",
       "<!DOCTYPE svg PUBLIC \"-//W3C//DTD SVG 1.1//EN\"\n",
       " \"http://www.w3.org/Graphics/SVG/1.1/DTD/svg11.dtd\">\n",
       "<!-- Generated by graphviz version 2.42.3 (20191010.1750)\n",
       " -->\n",
       "<!-- Title: %3 Pages: 1 -->\n",
       "<svg width=\"1166pt\" height=\"188pt\"\n",
       " viewBox=\"0.00 0.00 1166.44 188.00\" xmlns=\"http://www.w3.org/2000/svg\" xmlns:xlink=\"http://www.w3.org/1999/xlink\">\n",
       "<g id=\"graph0\" class=\"graph\" transform=\"scale(1 1) rotate(0) translate(4 184)\">\n",
       "<title>%3</title>\n",
       "<polygon fill=\"white\" stroke=\"transparent\" points=\"-4,4 -4,-184 1162.44,-184 1162.44,4 -4,4\"/>\n",
       "<!-- Number of Kids -->\n",
       "<g id=\"node1\" class=\"node\">\n",
       "<title>Number of Kids</title>\n",
       "<ellipse fill=\"none\" stroke=\"black\" cx=\"67.58\" cy=\"-90\" rx=\"67.66\" ry=\"18\"/>\n",
       "<text text-anchor=\"middle\" x=\"67.58\" y=\"-85.8\" font-family=\"Times,serif\" font-size=\"14.00\">Number of Kids</text>\n",
       "</g>\n",
       "<!-- Utility (Shared Ride 3+) -->\n",
       "<g id=\"node6\" class=\"node\">\n",
       "<title>Utility (Shared Ride 3+)</title>\n",
       "<ellipse fill=\"none\" stroke=\"black\" cx=\"550.58\" cy=\"-18\" rx=\"96.28\" ry=\"18\"/>\n",
       "<text text-anchor=\"middle\" x=\"550.58\" y=\"-13.8\" font-family=\"Times,serif\" font-size=\"14.00\">Utility (Shared Ride 3+)</text>\n",
       "</g>\n",
       "<!-- Number of Kids&#45;&gt;Utility (Shared Ride 3+) -->\n",
       "<g id=\"edge9\" class=\"edge\">\n",
       "<title>Number of Kids&#45;&gt;Utility (Shared Ride 3+)</title>\n",
       "<path fill=\"none\" stroke=\"black\" d=\"M116.75,-77.47C125.97,-75.5 135.55,-73.58 144.58,-72 251.79,-53.21 375.99,-37.93 458.51,-28.69\"/>\n",
       "<polygon fill=\"black\" stroke=\"black\" points=\"459.06,-32.15 468.61,-27.57 458.28,-25.2 459.06,-32.15\"/>\n",
       "</g>\n",
       "<!-- Total Travel Cost -->\n",
       "<g id=\"node2\" class=\"node\">\n",
       "<title>Total Travel Cost</title>\n",
       "<ellipse fill=\"none\" stroke=\"black\" cx=\"224.58\" cy=\"-90\" rx=\"71.31\" ry=\"18\"/>\n",
       "<text text-anchor=\"middle\" x=\"224.58\" y=\"-85.8\" font-family=\"Times,serif\" font-size=\"14.00\">Total Travel Cost</text>\n",
       "</g>\n",
       "<!-- Total Travel Cost&#45;&gt;Utility (Shared Ride 3+) -->\n",
       "<g id=\"edge4\" class=\"edge\">\n",
       "<title>Total Travel Cost&#45;&gt;Utility (Shared Ride 3+)</title>\n",
       "<path fill=\"none\" stroke=\"black\" d=\"M276.96,-77.75C332.03,-65.93 418.99,-47.25 480.07,-34.14\"/>\n",
       "<polygon fill=\"black\" stroke=\"black\" points=\"480.98,-37.53 490.02,-32 479.51,-30.68 480.98,-37.53\"/>\n",
       "</g>\n",
       "<!-- Total Travel Distance -->\n",
       "<g id=\"node3\" class=\"node\">\n",
       "<title>Total Travel Distance</title>\n",
       "<ellipse fill=\"none\" stroke=\"black\" cx=\"305.58\" cy=\"-162\" rx=\"86.25\" ry=\"18\"/>\n",
       "<text text-anchor=\"middle\" x=\"305.58\" y=\"-157.8\" font-family=\"Times,serif\" font-size=\"14.00\">Total Travel Distance</text>\n",
       "</g>\n",
       "<!-- Total Travel Distance&#45;&gt;Total Travel Cost -->\n",
       "<g id=\"edge3\" class=\"edge\">\n",
       "<title>Total Travel Distance&#45;&gt;Total Travel Cost</title>\n",
       "<path fill=\"none\" stroke=\"black\" d=\"M286.38,-144.41C275.89,-135.34 262.74,-123.97 251.26,-114.06\"/>\n",
       "<polygon fill=\"black\" stroke=\"black\" points=\"253.49,-111.36 243.64,-107.47 248.92,-116.66 253.49,-111.36\"/>\n",
       "</g>\n",
       "<!-- Total Travel Time -->\n",
       "<g id=\"node4\" class=\"node\">\n",
       "<title>Total Travel Time</title>\n",
       "<ellipse fill=\"none\" stroke=\"black\" cx=\"387.58\" cy=\"-90\" rx=\"73.28\" ry=\"18\"/>\n",
       "<text text-anchor=\"middle\" x=\"387.58\" y=\"-85.8\" font-family=\"Times,serif\" font-size=\"14.00\">Total Travel Time</text>\n",
       "</g>\n",
       "<!-- Total Travel Distance&#45;&gt;Total Travel Time -->\n",
       "<g id=\"edge2\" class=\"edge\">\n",
       "<title>Total Travel Distance&#45;&gt;Total Travel Time</title>\n",
       "<path fill=\"none\" stroke=\"black\" d=\"M325.01,-144.41C335.63,-135.34 348.95,-123.97 360.57,-114.06\"/>\n",
       "<polygon fill=\"black\" stroke=\"black\" points=\"362.95,-116.62 368.29,-107.47 358.41,-111.3 362.95,-116.62\"/>\n",
       "</g>\n",
       "<!-- Total Travel Time&#45;&gt;Utility (Shared Ride 3+) -->\n",
       "<g id=\"edge1\" class=\"edge\">\n",
       "<title>Total Travel Time&#45;&gt;Utility (Shared Ride 3+)</title>\n",
       "<path fill=\"none\" stroke=\"black\" d=\"M422.55,-73.98C446.54,-63.68 478.63,-49.9 504.68,-38.71\"/>\n",
       "<polygon fill=\"black\" stroke=\"black\" points=\"506.17,-41.88 513.97,-34.72 503.41,-35.45 506.17,-41.88\"/>\n",
       "</g>\n",
       "<!-- Number of Autos -->\n",
       "<g id=\"node5\" class=\"node\">\n",
       "<title>Number of Autos</title>\n",
       "<ellipse fill=\"none\" stroke=\"black\" cx=\"550.58\" cy=\"-90\" rx=\"71.54\" ry=\"18\"/>\n",
       "<text text-anchor=\"middle\" x=\"550.58\" y=\"-85.8\" font-family=\"Times,serif\" font-size=\"14.00\">Number of Autos</text>\n",
       "</g>\n",
       "<!-- Number of Autos&#45;&gt;Utility (Shared Ride 3+) -->\n",
       "<g id=\"edge6\" class=\"edge\">\n",
       "<title>Number of Autos&#45;&gt;Utility (Shared Ride 3+)</title>\n",
       "<path fill=\"none\" stroke=\"black\" d=\"M550.58,-71.7C550.58,-63.98 550.58,-54.71 550.58,-46.11\"/>\n",
       "<polygon fill=\"black\" stroke=\"black\" points=\"554.08,-46.1 550.58,-36.1 547.08,-46.1 554.08,-46.1\"/>\n",
       "</g>\n",
       "<!-- Number of Licensed Drivers -->\n",
       "<g id=\"node7\" class=\"node\">\n",
       "<title>Number of Licensed Drivers</title>\n",
       "<ellipse fill=\"none\" stroke=\"black\" cx=\"751.58\" cy=\"-90\" rx=\"111.55\" ry=\"18\"/>\n",
       "<text text-anchor=\"middle\" x=\"751.58\" y=\"-85.8\" font-family=\"Times,serif\" font-size=\"14.00\">Number of Licensed Drivers</text>\n",
       "</g>\n",
       "<!-- Number of Licensed Drivers&#45;&gt;Utility (Shared Ride 3+) -->\n",
       "<g id=\"edge7\" class=\"edge\">\n",
       "<title>Number of Licensed Drivers&#45;&gt;Utility (Shared Ride 3+)</title>\n",
       "<path fill=\"none\" stroke=\"black\" d=\"M706.97,-73.46C676.47,-62.84 635.9,-48.71 603.72,-37.51\"/>\n",
       "<polygon fill=\"black\" stroke=\"black\" points=\"604.62,-34.11 594.03,-34.13 602.32,-40.73 604.62,-34.11\"/>\n",
       "</g>\n",
       "<!-- Cross Bay Trip -->\n",
       "<g id=\"node8\" class=\"node\">\n",
       "<title>Cross Bay Trip</title>\n",
       "<ellipse fill=\"none\" stroke=\"black\" cx=\"944.58\" cy=\"-90\" rx=\"63.87\" ry=\"18\"/>\n",
       "<text text-anchor=\"middle\" x=\"944.58\" y=\"-85.8\" font-family=\"Times,serif\" font-size=\"14.00\">Cross Bay Trip</text>\n",
       "</g>\n",
       "<!-- Cross Bay Trip&#45;&gt;Utility (Shared Ride 3+) -->\n",
       "<g id=\"edge5\" class=\"edge\">\n",
       "<title>Cross Bay Trip&#45;&gt;Utility (Shared Ride 3+)</title>\n",
       "<path fill=\"none\" stroke=\"black\" d=\"M898.21,-77.56C889.7,-75.6 880.89,-73.66 872.58,-72 792.16,-55.91 699.74,-41.07 634.59,-31.21\"/>\n",
       "<polygon fill=\"black\" stroke=\"black\" points=\"634.79,-27.7 624.38,-29.67 633.74,-34.62 634.79,-27.7\"/>\n",
       "</g>\n",
       "<!-- Household Size -->\n",
       "<g id=\"node9\" class=\"node\">\n",
       "<title>Household Size</title>\n",
       "<ellipse fill=\"none\" stroke=\"black\" cx=\"1092.58\" cy=\"-90\" rx=\"65.72\" ry=\"18\"/>\n",
       "<text text-anchor=\"middle\" x=\"1092.58\" y=\"-85.8\" font-family=\"Times,serif\" font-size=\"14.00\">Household Size</text>\n",
       "</g>\n",
       "<!-- Household Size&#45;&gt;Utility (Shared Ride 3+) -->\n",
       "<g id=\"edge8\" class=\"edge\">\n",
       "<title>Household Size&#45;&gt;Utility (Shared Ride 3+)</title>\n",
       "<path fill=\"none\" stroke=\"black\" d=\"M1045.13,-77.42C1036.02,-75.43 1026.53,-73.52 1017.58,-72 890.48,-50.45 742.39,-35.31 647.62,-26.88\"/>\n",
       "<polygon fill=\"black\" stroke=\"black\" points=\"647.75,-23.38 637.48,-25.99 647.14,-30.35 647.75,-23.38\"/>\n",
       "</g>\n",
       "</g>\n",
       "</svg>\n"
      ],
      "text/plain": [
       "<graphviz.dot.Digraph at 0x10c338050>"
      ]
     },
     "execution_count": 15,
     "metadata": {},
     "output_type": "execute_result"
    }
   ],
   "source": [
    "# Define the causal model\n",
    "V_Shared_3p = CausalGraphicalModel(nodes=[\"Total Travel Time\",\n",
    "                                         \"Total Travel Distance\",\n",
    "                                         \"Total Travel Cost\",\n",
    "                                         \"Cross Bay Trip\",\n",
    "                                         \"Number of Autos\",\n",
    "                                         \"Number of Licensed Drivers\",\n",
    "                                         \"Household Size\",\n",
    "                                         \"Number of Kids\",\n",
    "                                         \"Utility (Shared Ride 3+)\"],\n",
    "                                  edges=[(\"Total Travel Distance\",\"Total Travel Time\"),\n",
    "                                         (\"Total Travel Distance\",\"Total Travel Cost\"),\n",
    "                                         (\"Total Travel Time\", \"Utility (Shared Ride 3+)\"),\n",
    "                                         (\"Number of Autos\", \"Utility (Shared Ride 3+)\"),\n",
    "                                         (\"Number of Licensed Drivers\", \"Utility (Shared Ride 3+)\"),\n",
    "                                         (\"Total Travel Cost\", \"Utility (Shared Ride 3+)\"),\n",
    "                                         (\"Household Size\", \"Utility (Shared Ride 3+)\"),\n",
    "                                         (\"Cross Bay Trip\", \"Utility (Shared Ride 3+)\"),\n",
    "                                         (\"Number of Kids\", \"Utility (Shared Ride 3+)\")\n",
    "    ]\n",
    ")\n",
    "\n",
    "# draw the causal model\n",
    "V_Shared_3p.draw()"
   ]
  },
  {
   "cell_type": "code",
   "execution_count": 16,
   "metadata": {},
   "outputs": [
    {
     "data": {
      "image/svg+xml": [
       "<?xml version=\"1.0\" encoding=\"UTF-8\" standalone=\"no\"?>\n",
       "<!DOCTYPE svg PUBLIC \"-//W3C//DTD SVG 1.1//EN\"\n",
       " \"http://www.w3.org/Graphics/SVG/1.1/DTD/svg11.dtd\">\n",
       "<!-- Generated by graphviz version 2.42.3 (20191010.1750)\n",
       " -->\n",
       "<!-- Title: %3 Pages: 1 -->\n",
       "<svg width=\"346pt\" height=\"188pt\"\n",
       " viewBox=\"0.00 0.00 345.52 188.00\" xmlns=\"http://www.w3.org/2000/svg\" xmlns:xlink=\"http://www.w3.org/1999/xlink\">\n",
       "<g id=\"graph0\" class=\"graph\" transform=\"scale(1 1) rotate(0) translate(4 184)\">\n",
       "<title>%3</title>\n",
       "<polygon fill=\"white\" stroke=\"transparent\" points=\"-4,4 -4,-184 341.52,-184 341.52,4 -4,4\"/>\n",
       "<!-- Utility (WTW) -->\n",
       "<g id=\"node1\" class=\"node\">\n",
       "<title>Utility (WTW)</title>\n",
       "<ellipse fill=\"none\" stroke=\"black\" cx=\"73.39\" cy=\"-18\" rx=\"63.29\" ry=\"18\"/>\n",
       "<text text-anchor=\"middle\" x=\"73.39\" y=\"-13.8\" font-family=\"Times,serif\" font-size=\"14.00\">Utility (WTW)</text>\n",
       "</g>\n",
       "<!-- Total Travel Cost -->\n",
       "<g id=\"node2\" class=\"node\">\n",
       "<title>Total Travel Cost</title>\n",
       "<ellipse fill=\"none\" stroke=\"black\" cx=\"123.39\" cy=\"-90\" rx=\"71.31\" ry=\"18\"/>\n",
       "<text text-anchor=\"middle\" x=\"123.39\" y=\"-85.8\" font-family=\"Times,serif\" font-size=\"14.00\">Total Travel Cost</text>\n",
       "</g>\n",
       "<!-- Total Travel Cost&#45;&gt;Utility (WTW) -->\n",
       "<g id=\"edge3\" class=\"edge\">\n",
       "<title>Total Travel Cost&#45;&gt;Utility (WTW)</title>\n",
       "<path fill=\"none\" stroke=\"black\" d=\"M111.28,-72.05C105.27,-63.63 97.87,-53.28 91.22,-43.97\"/>\n",
       "<polygon fill=\"black\" stroke=\"black\" points=\"94.04,-41.89 85.38,-35.79 88.35,-45.96 94.04,-41.89\"/>\n",
       "</g>\n",
       "<!-- Total Travel Time -->\n",
       "<g id=\"node3\" class=\"node\">\n",
       "<title>Total Travel Time</title>\n",
       "<ellipse fill=\"none\" stroke=\"black\" cx=\"73.39\" cy=\"-162\" rx=\"73.28\" ry=\"18\"/>\n",
       "<text text-anchor=\"middle\" x=\"73.39\" y=\"-157.8\" font-family=\"Times,serif\" font-size=\"14.00\">Total Travel Time</text>\n",
       "</g>\n",
       "<!-- Total Travel Time&#45;&gt;Utility (WTW) -->\n",
       "<g id=\"edge2\" class=\"edge\">\n",
       "<title>Total Travel Time&#45;&gt;Utility (WTW)</title>\n",
       "<path fill=\"none\" stroke=\"black\" d=\"M60.66,-143.85C54.1,-133.92 46.78,-120.88 43.39,-108 39.31,-92.53 39.31,-87.47 43.39,-72 45.92,-62.39 50.64,-52.69 55.59,-44.26\"/>\n",
       "<polygon fill=\"black\" stroke=\"black\" points=\"58.63,-46.02 60.97,-35.68 52.7,-42.3 58.63,-46.02\"/>\n",
       "</g>\n",
       "<!-- Total Travel Time&#45;&gt;Total Travel Cost -->\n",
       "<g id=\"edge1\" class=\"edge\">\n",
       "<title>Total Travel Time&#45;&gt;Total Travel Cost</title>\n",
       "<path fill=\"none\" stroke=\"black\" d=\"M85.49,-144.05C91.51,-135.63 98.9,-125.28 105.56,-115.97\"/>\n",
       "<polygon fill=\"black\" stroke=\"black\" points=\"108.43,-117.96 111.4,-107.79 102.74,-113.89 108.43,-117.96\"/>\n",
       "</g>\n",
       "<!-- Total Travel Distance -->\n",
       "<g id=\"node4\" class=\"node\">\n",
       "<title>Total Travel Distance</title>\n",
       "<ellipse fill=\"none\" stroke=\"black\" cx=\"251.39\" cy=\"-162\" rx=\"86.25\" ry=\"18\"/>\n",
       "<text text-anchor=\"middle\" x=\"251.39\" y=\"-157.8\" font-family=\"Times,serif\" font-size=\"14.00\">Total Travel Distance</text>\n",
       "</g>\n",
       "</g>\n",
       "</svg>\n"
      ],
      "text/plain": [
       "<graphviz.dot.Digraph at 0x10c338a50>"
      ]
     },
     "execution_count": 16,
     "metadata": {},
     "output_type": "execute_result"
    }
   ],
   "source": [
    "# Define the causal model\n",
    "V_WTW = CausalGraphicalModel(nodes=[\"Total Travel Distance\",\n",
    "                                    \"Total Travel Time\",\n",
    "                                    \"Total Travel Cost\",\n",
    "                                    \"Utility (WTW)\"],\n",
    "                                  edges=[(\"Total Travel Time\", \"Total Travel Cost\"),\n",
    "                                         (\"Total Travel Time\", \"Utility (WTW)\"),\n",
    "                                         (\"Total Travel Cost\", \"Utility (WTW)\")\n",
    "    ]\n",
    ")\n",
    "\n",
    "# draw the causal model\n",
    "V_WTW.draw()"
   ]
  },
  {
   "cell_type": "code",
   "execution_count": 17,
   "metadata": {},
   "outputs": [
    {
     "data": {
      "image/svg+xml": [
       "<?xml version=\"1.0\" encoding=\"UTF-8\" standalone=\"no\"?>\n",
       "<!DOCTYPE svg PUBLIC \"-//W3C//DTD SVG 1.1//EN\"\n",
       " \"http://www.w3.org/Graphics/SVG/1.1/DTD/svg11.dtd\">\n",
       "<!-- Generated by graphviz version 2.42.3 (20191010.1750)\n",
       " -->\n",
       "<!-- Title: %3 Pages: 1 -->\n",
       "<svg width=\"203pt\" height=\"188pt\"\n",
       " viewBox=\"0.00 0.00 202.80 188.00\" xmlns=\"http://www.w3.org/2000/svg\" xmlns:xlink=\"http://www.w3.org/1999/xlink\">\n",
       "<g id=\"graph0\" class=\"graph\" transform=\"scale(1 1) rotate(0) translate(4 184)\">\n",
       "<title>%3</title>\n",
       "<polygon fill=\"white\" stroke=\"transparent\" points=\"-4,4 -4,-184 198.8,-184 198.8,4 -4,4\"/>\n",
       "<!-- Utility (DTW) -->\n",
       "<g id=\"node1\" class=\"node\">\n",
       "<title>Utility (DTW)</title>\n",
       "<ellipse fill=\"none\" stroke=\"black\" cx=\"73.39\" cy=\"-18\" rx=\"61.37\" ry=\"18\"/>\n",
       "<text text-anchor=\"middle\" x=\"73.39\" y=\"-13.8\" font-family=\"Times,serif\" font-size=\"14.00\">Utility (DTW)</text>\n",
       "</g>\n",
       "<!-- Total Travel Cost -->\n",
       "<g id=\"node2\" class=\"node\">\n",
       "<title>Total Travel Cost</title>\n",
       "<ellipse fill=\"none\" stroke=\"black\" cx=\"123.39\" cy=\"-90\" rx=\"71.31\" ry=\"18\"/>\n",
       "<text text-anchor=\"middle\" x=\"123.39\" y=\"-85.8\" font-family=\"Times,serif\" font-size=\"14.00\">Total Travel Cost</text>\n",
       "</g>\n",
       "<!-- Total Travel Cost&#45;&gt;Utility (DTW) -->\n",
       "<g id=\"edge3\" class=\"edge\">\n",
       "<title>Total Travel Cost&#45;&gt;Utility (DTW)</title>\n",
       "<path fill=\"none\" stroke=\"black\" d=\"M111.28,-72.05C105.27,-63.63 97.87,-53.28 91.22,-43.97\"/>\n",
       "<polygon fill=\"black\" stroke=\"black\" points=\"94.04,-41.89 85.38,-35.79 88.35,-45.96 94.04,-41.89\"/>\n",
       "</g>\n",
       "<!-- Total Travel Time -->\n",
       "<g id=\"node3\" class=\"node\">\n",
       "<title>Total Travel Time</title>\n",
       "<ellipse fill=\"none\" stroke=\"black\" cx=\"73.39\" cy=\"-162\" rx=\"73.28\" ry=\"18\"/>\n",
       "<text text-anchor=\"middle\" x=\"73.39\" y=\"-157.8\" font-family=\"Times,serif\" font-size=\"14.00\">Total Travel Time</text>\n",
       "</g>\n",
       "<!-- Total Travel Time&#45;&gt;Utility (DTW) -->\n",
       "<g id=\"edge2\" class=\"edge\">\n",
       "<title>Total Travel Time&#45;&gt;Utility (DTW)</title>\n",
       "<path fill=\"none\" stroke=\"black\" d=\"M60.66,-143.85C54.1,-133.92 46.78,-120.88 43.39,-108 39.31,-92.53 39.31,-87.47 43.39,-72 45.92,-62.39 50.64,-52.69 55.59,-44.26\"/>\n",
       "<polygon fill=\"black\" stroke=\"black\" points=\"58.63,-46.02 60.97,-35.68 52.7,-42.3 58.63,-46.02\"/>\n",
       "</g>\n",
       "<!-- Total Travel Time&#45;&gt;Total Travel Cost -->\n",
       "<g id=\"edge1\" class=\"edge\">\n",
       "<title>Total Travel Time&#45;&gt;Total Travel Cost</title>\n",
       "<path fill=\"none\" stroke=\"black\" d=\"M85.49,-144.05C91.51,-135.63 98.9,-125.28 105.56,-115.97\"/>\n",
       "<polygon fill=\"black\" stroke=\"black\" points=\"108.43,-117.96 111.4,-107.79 102.74,-113.89 108.43,-117.96\"/>\n",
       "</g>\n",
       "</g>\n",
       "</svg>\n"
      ],
      "text/plain": [
       "<graphviz.dot.Digraph at 0x10c326450>"
      ]
     },
     "execution_count": 17,
     "metadata": {},
     "output_type": "execute_result"
    }
   ],
   "source": [
    "# Define the causal model\n",
    "V_DTW = CausalGraphicalModel(nodes=[\"Total Travel Time\",\n",
    "                                         \"Total Travel Cost\",\n",
    "                                         \"Utility (DTW)\"],\n",
    "                             edges=[(\"Total Travel Time\", \"Total Travel Cost\"),\n",
    "                                         (\"Total Travel Time\", \"Utility (DTW)\"),\n",
    "                                         (\"Total Travel Cost\", \"Utility (DTW)\")\n",
    "    ]\n",
    ")\n",
    "\n",
    "# draw the causal model\n",
    "V_DTW.draw()"
   ]
  },
  {
   "cell_type": "code",
   "execution_count": 18,
   "metadata": {},
   "outputs": [
    {
     "data": {
      "image/svg+xml": [
       "<?xml version=\"1.0\" encoding=\"UTF-8\" standalone=\"no\"?>\n",
       "<!DOCTYPE svg PUBLIC \"-//W3C//DTD SVG 1.1//EN\"\n",
       " \"http://www.w3.org/Graphics/SVG/1.1/DTD/svg11.dtd\">\n",
       "<!-- Generated by graphviz version 2.42.3 (20191010.1750)\n",
       " -->\n",
       "<!-- Title: %3 Pages: 1 -->\n",
       "<svg width=\"203pt\" height=\"188pt\"\n",
       " viewBox=\"0.00 0.00 202.80 188.00\" xmlns=\"http://www.w3.org/2000/svg\" xmlns:xlink=\"http://www.w3.org/1999/xlink\">\n",
       "<g id=\"graph0\" class=\"graph\" transform=\"scale(1 1) rotate(0) translate(4 184)\">\n",
       "<title>%3</title>\n",
       "<polygon fill=\"white\" stroke=\"transparent\" points=\"-4,4 -4,-184 198.8,-184 198.8,4 -4,4\"/>\n",
       "<!-- Utility (WTD) -->\n",
       "<g id=\"node1\" class=\"node\">\n",
       "<title>Utility (WTD)</title>\n",
       "<ellipse fill=\"none\" stroke=\"black\" cx=\"73.39\" cy=\"-18\" rx=\"61.37\" ry=\"18\"/>\n",
       "<text text-anchor=\"middle\" x=\"73.39\" y=\"-13.8\" font-family=\"Times,serif\" font-size=\"14.00\">Utility (WTD)</text>\n",
       "</g>\n",
       "<!-- Total Travel Cost -->\n",
       "<g id=\"node2\" class=\"node\">\n",
       "<title>Total Travel Cost</title>\n",
       "<ellipse fill=\"none\" stroke=\"black\" cx=\"123.39\" cy=\"-90\" rx=\"71.31\" ry=\"18\"/>\n",
       "<text text-anchor=\"middle\" x=\"123.39\" y=\"-85.8\" font-family=\"Times,serif\" font-size=\"14.00\">Total Travel Cost</text>\n",
       "</g>\n",
       "<!-- Total Travel Cost&#45;&gt;Utility (WTD) -->\n",
       "<g id=\"edge3\" class=\"edge\">\n",
       "<title>Total Travel Cost&#45;&gt;Utility (WTD)</title>\n",
       "<path fill=\"none\" stroke=\"black\" d=\"M111.28,-72.05C105.27,-63.63 97.87,-53.28 91.22,-43.97\"/>\n",
       "<polygon fill=\"black\" stroke=\"black\" points=\"94.04,-41.89 85.38,-35.79 88.35,-45.96 94.04,-41.89\"/>\n",
       "</g>\n",
       "<!-- Total Travel Time -->\n",
       "<g id=\"node3\" class=\"node\">\n",
       "<title>Total Travel Time</title>\n",
       "<ellipse fill=\"none\" stroke=\"black\" cx=\"73.39\" cy=\"-162\" rx=\"73.28\" ry=\"18\"/>\n",
       "<text text-anchor=\"middle\" x=\"73.39\" y=\"-157.8\" font-family=\"Times,serif\" font-size=\"14.00\">Total Travel Time</text>\n",
       "</g>\n",
       "<!-- Total Travel Time&#45;&gt;Utility (WTD) -->\n",
       "<g id=\"edge2\" class=\"edge\">\n",
       "<title>Total Travel Time&#45;&gt;Utility (WTD)</title>\n",
       "<path fill=\"none\" stroke=\"black\" d=\"M60.66,-143.85C54.1,-133.92 46.78,-120.88 43.39,-108 39.31,-92.53 39.31,-87.47 43.39,-72 45.92,-62.39 50.64,-52.69 55.59,-44.26\"/>\n",
       "<polygon fill=\"black\" stroke=\"black\" points=\"58.63,-46.02 60.97,-35.68 52.7,-42.3 58.63,-46.02\"/>\n",
       "</g>\n",
       "<!-- Total Travel Time&#45;&gt;Total Travel Cost -->\n",
       "<g id=\"edge1\" class=\"edge\">\n",
       "<title>Total Travel Time&#45;&gt;Total Travel Cost</title>\n",
       "<path fill=\"none\" stroke=\"black\" d=\"M85.49,-144.05C91.51,-135.63 98.9,-125.28 105.56,-115.97\"/>\n",
       "<polygon fill=\"black\" stroke=\"black\" points=\"108.43,-117.96 111.4,-107.79 102.74,-113.89 108.43,-117.96\"/>\n",
       "</g>\n",
       "</g>\n",
       "</svg>\n"
      ],
      "text/plain": [
       "<graphviz.dot.Digraph at 0x10c341290>"
      ]
     },
     "execution_count": 18,
     "metadata": {},
     "output_type": "execute_result"
    }
   ],
   "source": [
    "# Define the causal model\n",
    "V_WTD = CausalGraphicalModel(nodes=[\"Total Travel Time\",\n",
    "                                    \"Total Travel Cost\",\n",
    "                                    \"Utility (WTD)\"],\n",
    "                             edges=[(\"Total Travel Time\", \"Total Travel Cost\"),\n",
    "                                    (\"Total Travel Time\", \"Utility (WTD)\"),\n",
    "                                    (\"Total Travel Cost\", \"Utility (WTD)\")\n",
    "    ]\n",
    ")\n",
    "\n",
    "# draw the causal model\n",
    "V_WTD.draw()"
   ]
  },
  {
   "cell_type": "code",
   "execution_count": 19,
   "metadata": {},
   "outputs": [
    {
     "data": {
      "image/svg+xml": [
       "<?xml version=\"1.0\" encoding=\"UTF-8\" standalone=\"no\"?>\n",
       "<!DOCTYPE svg PUBLIC \"-//W3C//DTD SVG 1.1//EN\"\n",
       " \"http://www.w3.org/Graphics/SVG/1.1/DTD/svg11.dtd\">\n",
       "<!-- Generated by graphviz version 2.42.3 (20191010.1750)\n",
       " -->\n",
       "<!-- Title: %3 Pages: 1 -->\n",
       "<svg width=\"180pt\" height=\"116pt\"\n",
       " viewBox=\"0.00 0.00 180.25 116.00\" xmlns=\"http://www.w3.org/2000/svg\" xmlns:xlink=\"http://www.w3.org/1999/xlink\">\n",
       "<g id=\"graph0\" class=\"graph\" transform=\"scale(1 1) rotate(0) translate(4 112)\">\n",
       "<title>%3</title>\n",
       "<polygon fill=\"white\" stroke=\"transparent\" points=\"-4,4 -4,-112 176.25,-112 176.25,4 -4,4\"/>\n",
       "<!-- Utility (Walk) -->\n",
       "<g id=\"node1\" class=\"node\">\n",
       "<title>Utility (Walk)</title>\n",
       "<ellipse fill=\"none\" stroke=\"black\" cx=\"86.13\" cy=\"-18\" rx=\"60\" ry=\"18\"/>\n",
       "<text text-anchor=\"middle\" x=\"86.13\" y=\"-13.8\" font-family=\"Times,serif\" font-size=\"14.00\">Utility (Walk)</text>\n",
       "</g>\n",
       "<!-- Total Travel Distance -->\n",
       "<g id=\"node2\" class=\"node\">\n",
       "<title>Total Travel Distance</title>\n",
       "<ellipse fill=\"none\" stroke=\"black\" cx=\"86.13\" cy=\"-90\" rx=\"86.25\" ry=\"18\"/>\n",
       "<text text-anchor=\"middle\" x=\"86.13\" y=\"-85.8\" font-family=\"Times,serif\" font-size=\"14.00\">Total Travel Distance</text>\n",
       "</g>\n",
       "<!-- Total Travel Distance&#45;&gt;Utility (Walk) -->\n",
       "<g id=\"edge1\" class=\"edge\">\n",
       "<title>Total Travel Distance&#45;&gt;Utility (Walk)</title>\n",
       "<path fill=\"none\" stroke=\"black\" d=\"M86.13,-71.7C86.13,-63.98 86.13,-54.71 86.13,-46.11\"/>\n",
       "<polygon fill=\"black\" stroke=\"black\" points=\"89.63,-46.1 86.13,-36.1 82.63,-46.1 89.63,-46.1\"/>\n",
       "</g>\n",
       "</g>\n",
       "</svg>\n"
      ],
      "text/plain": [
       "<graphviz.dot.Digraph at 0x10c341dd0>"
      ]
     },
     "execution_count": 19,
     "metadata": {},
     "output_type": "execute_result"
    }
   ],
   "source": [
    "# Define the causal model\n",
    "V_Walk = CausalGraphicalModel(nodes=[\"Total Travel Distance\",\n",
    "                                     \"Utility (Walk)\"],\n",
    "                              edges=[(\"Total Travel Distance\", \"Utility (Walk)\")\n",
    "    ]\n",
    ")\n",
    "\n",
    "# draw the causal model\n",
    "V_Walk.draw()"
   ]
  },
  {
   "cell_type": "code",
   "execution_count": 20,
   "metadata": {},
   "outputs": [
    {
     "data": {
      "image/svg+xml": [
       "<?xml version=\"1.0\" encoding=\"UTF-8\" standalone=\"no\"?>\n",
       "<!DOCTYPE svg PUBLIC \"-//W3C//DTD SVG 1.1//EN\"\n",
       " \"http://www.w3.org/Graphics/SVG/1.1/DTD/svg11.dtd\">\n",
       "<!-- Generated by graphviz version 2.42.3 (20191010.1750)\n",
       " -->\n",
       "<!-- Title: %3 Pages: 1 -->\n",
       "<svg width=\"180pt\" height=\"116pt\"\n",
       " viewBox=\"0.00 0.00 180.25 116.00\" xmlns=\"http://www.w3.org/2000/svg\" xmlns:xlink=\"http://www.w3.org/1999/xlink\">\n",
       "<g id=\"graph0\" class=\"graph\" transform=\"scale(1 1) rotate(0) translate(4 112)\">\n",
       "<title>%3</title>\n",
       "<polygon fill=\"white\" stroke=\"transparent\" points=\"-4,4 -4,-112 176.25,-112 176.25,4 -4,4\"/>\n",
       "<!-- Utility (Bike) -->\n",
       "<g id=\"node1\" class=\"node\">\n",
       "<title>Utility (Bike)</title>\n",
       "<ellipse fill=\"none\" stroke=\"black\" cx=\"86.13\" cy=\"-18\" rx=\"58.01\" ry=\"18\"/>\n",
       "<text text-anchor=\"middle\" x=\"86.13\" y=\"-13.8\" font-family=\"Times,serif\" font-size=\"14.00\">Utility (Bike)</text>\n",
       "</g>\n",
       "<!-- Total Travel Distance -->\n",
       "<g id=\"node2\" class=\"node\">\n",
       "<title>Total Travel Distance</title>\n",
       "<ellipse fill=\"none\" stroke=\"black\" cx=\"86.13\" cy=\"-90\" rx=\"86.25\" ry=\"18\"/>\n",
       "<text text-anchor=\"middle\" x=\"86.13\" y=\"-85.8\" font-family=\"Times,serif\" font-size=\"14.00\">Total Travel Distance</text>\n",
       "</g>\n",
       "<!-- Total Travel Distance&#45;&gt;Utility (Bike) -->\n",
       "<g id=\"edge1\" class=\"edge\">\n",
       "<title>Total Travel Distance&#45;&gt;Utility (Bike)</title>\n",
       "<path fill=\"none\" stroke=\"black\" d=\"M86.13,-71.7C86.13,-63.98 86.13,-54.71 86.13,-46.11\"/>\n",
       "<polygon fill=\"black\" stroke=\"black\" points=\"89.63,-46.1 86.13,-36.1 82.63,-46.1 89.63,-46.1\"/>\n",
       "</g>\n",
       "</g>\n",
       "</svg>\n"
      ],
      "text/plain": [
       "<graphviz.dot.Digraph at 0x10c326650>"
      ]
     },
     "execution_count": 20,
     "metadata": {},
     "output_type": "execute_result"
    }
   ],
   "source": [
    "# Define the causal model\n",
    "V_Bike = CausalGraphicalModel(nodes=[\"Total Travel Distance\",\n",
    "                                     \"Utility (Bike)\"],\n",
    "                              edges=[(\"Total Travel Distance\", \"Utility (Bike)\")\n",
    "    ]\n",
    ")\n",
    "\n",
    "# draw the causal model\n",
    "V_Bike.draw()"
   ]
  },
  {
   "cell_type": "markdown",
   "metadata": {},
   "source": [
    "## 3.2. Distribution of Nodes without parents"
   ]
  },
  {
   "cell_type": "markdown",
   "metadata": {},
   "source": [
    "### 3.2.1. Set up all needed variables"
   ]
  },
  {
   "cell_type": "code",
   "execution_count": 21,
   "metadata": {},
   "outputs": [],
   "source": [
    "# Observation id column\n",
    "observation_id_col = 'observation_id'\n",
    "\n",
    "# Alternative id column\n",
    "alternative_id_col = 'mode_id'\n",
    "\n",
    "# Individual specific variables list\n",
    "individual_specific_variables = ['household_size','num_kids',\n",
    "                                'num_cars','num_licensed_drivers']\n",
    "\n",
    "# Alternative specific variables dictionary\n",
    "alternative_specific_dict = {1:['total_travel_distance'],\n",
    "                             2:['total_travel_distance'],\n",
    "                             3:['total_travel_distance'],\n",
    "                             4:['total_travel_time'],\n",
    "                             5:['total_travel_time'],\n",
    "                             6:['total_travel_time'],\n",
    "                             7:['total_travel_distance'],\n",
    "                             8:['total_travel_distance']}\n",
    "\n",
    "# Trip specific variables list\n",
    "trip_specific_variables = ['cross_bay']\n",
    "\n",
    "# Alternative name dictionary\n",
    "alternative_name_dict = {1: 'drive_alone',\n",
    "                         2: 'shared_2',\n",
    "                         3: 'shared_3p',\n",
    "                         4: 'wtw',\n",
    "                         5: 'dtw',\n",
    "                         6: 'wtd',\n",
    "                         7: 'walk',\n",
    "                         8: 'bike'}\n",
    "\n",
    "# Variable type Dictionary\n",
    "variable_type = {'num_kids': 'categorical',\n",
    "                 'household_size': 'categorical',\n",
    "                 'num_cars': 'categorical',\n",
    "                 'num_licensed_drivers': 'categorical',\n",
    "                 'cross_bay': 'categorical',\n",
    "                 'total_travel_time': 'continuous',\n",
    "                 'total_travel_distance': 'continuous',\n",
    "                 'total_travel_cost': 'continuous'}\n",
    "\n",
    "# Distribution to be explored for continuous variables\n",
    "distributions = ['normal', 'alpha', 'beta', 'gamma', 'expon', 'gumbel']"
   ]
  },
  {
   "cell_type": "markdown",
   "metadata": {},
   "source": [
    "### 3.2.2. Find Distributions of nodes without parents "
   ]
  },
  {
   "cell_type": "code",
   "execution_count": 22,
   "metadata": {},
   "outputs": [
    {
     "name": "stdout",
     "output_type": "stream",
     "text": [
      "SKIPPED normal distribution (taking more than 30 seconds)\n",
      "Fitted alpha distribution with error=0.014522128648725777)\n"
     ]
    },
    {
     "name": "stderr",
     "output_type": "stream",
     "text": [
      "/Users/mobouzaghrane/opt/anaconda3/lib/python3.7/site-packages/scipy/stats/_distn_infrastructure.py:2381: RuntimeWarning: invalid value encountered in double_scalars\n",
      "  Lhat = muhat - Shat*mu\n",
      "/Users/mobouzaghrane/opt/anaconda3/lib/python3.7/site-packages/scipy/stats/_continuous_distns.py:515: RuntimeWarning: invalid value encountered in sqrt\n",
      "  sk = 2*(b-a)*np.sqrt(a + b + 1) / (a + b + 2) / np.sqrt(a*b)\n",
      "/Users/mobouzaghrane/opt/anaconda3/lib/python3.7/site-packages/scipy/optimize/minpack.py:162: RuntimeWarning: The iteration is not making good progress, as measured by the \n",
      "  improvement from the last ten iterations.\n",
      "  warnings.warn(msg, RuntimeWarning)\n"
     ]
    },
    {
     "name": "stdout",
     "output_type": "stream",
     "text": [
      "Fitted beta distribution with error=0.0011963782652540424)\n",
      "Fitted gamma distribution with error=0.0011394543473683448)\n",
      "Fitted expon distribution with error=0.002052652669300775)\n",
      "SKIPPED gumbel distribution (taking more than 30 seconds)\n",
      "SKIPPED normal distribution (taking more than 30 seconds)\n",
      "Fitted alpha distribution with error=0.014457810916552023)\n",
      "Fitted beta distribution with error=0.0012976882508515305)\n",
      "Fitted gamma distribution with error=0.0012552378475140624)\n",
      "Fitted expon distribution with error=0.0019967778289294194)\n",
      "SKIPPED gumbel distribution (taking more than 30 seconds)\n",
      "SKIPPED normal distribution (taking more than 30 seconds)\n",
      "Fitted alpha distribution with error=0.014462601227138085)\n",
      "Fitted beta distribution with error=0.001276124018206852)\n",
      "Fitted gamma distribution with error=0.0012547975031013958)\n",
      "Fitted expon distribution with error=0.0020004181046601524)\n",
      "SKIPPED gumbel distribution (taking more than 30 seconds)\n",
      "SKIPPED normal distribution (taking more than 30 seconds)\n",
      "Fitted alpha distribution with error=0.00010782141835446614)\n",
      "Fitted beta distribution with error=0.00011146390130275948)\n",
      "Fitted gamma distribution with error=0.00010902380039568413)\n",
      "Fitted expon distribution with error=0.0006821775284529087)\n",
      "SKIPPED gumbel distribution (taking more than 30 seconds)\n",
      "SKIPPED normal distribution (taking more than 30 seconds)\n",
      "Fitted alpha distribution with error=6.672556141363111e-05)\n",
      "Fitted beta distribution with error=6.196777802352273e-05)\n",
      "Fitted gamma distribution with error=6.08535018564024e-05)\n",
      "Fitted expon distribution with error=0.0007188034183935458)\n",
      "SKIPPED gumbel distribution (taking more than 30 seconds)\n",
      "SKIPPED normal distribution (taking more than 30 seconds)\n",
      "Fitted alpha distribution with error=8.054952402098987e-05)\n",
      "Fitted beta distribution with error=8.156641381917802e-05)\n",
      "Fitted gamma distribution with error=8.048390439269993e-05)\n",
      "Fitted expon distribution with error=0.0008900680532886661)\n",
      "SKIPPED gumbel distribution (taking more than 30 seconds)\n",
      "SKIPPED normal distribution (taking more than 30 seconds)\n",
      "Fitted alpha distribution with error=0.0008972367532526685)\n",
      "Fitted beta distribution with error=0.002377025832720183)\n",
      "Fitted gamma distribution with error=0.002275034836025737)\n",
      "Fitted expon distribution with error=0.003469333861343498)\n",
      "SKIPPED gumbel distribution (taking more than 30 seconds)\n",
      "SKIPPED normal distribution (taking more than 30 seconds)\n",
      "Fitted alpha distribution with error=0.0007221359033952726)\n",
      "Fitted beta distribution with error=0.0024566904071273085)\n",
      "Fitted gamma distribution with error=0.0024407152169873807)\n",
      "Fitted expon distribution with error=0.004178416793754377)\n",
      "SKIPPED gumbel distribution (taking more than 30 seconds)\n"
     ]
    }
   ],
   "source": [
    "bike_data_params = DistNodeNoParent(data_long=bike_data_long,\n",
    "                                    alt_id_col=alternative_id_col,\n",
    "                                    obs_id_col=observation_id_col,\n",
    "                                    alt_spec_dic=alternative_specific_dict,\n",
    "                                    alt_name_dic=alternative_name_dict,\n",
    "                                    ind_spec=individual_specific_variables,\n",
    "                                    trip_spec=trip_specific_variables,\n",
    "                                    var_types=variable_type,\n",
    "                                    cont_dists=distributions)"
   ]
  },
  {
   "cell_type": "code",
   "execution_count": 23,
   "metadata": {},
   "outputs": [
    {
     "data": {
      "text/plain": [
       "{'household_size': {'distribution': 'categorical',\n",
       "  'parameters': [array([0., 1., 2., 3., 4., 5., 6., 7., 8.]),\n",
       "   array([0.        , 0.08341658, 0.2465035 , 0.20704296, 0.29220779,\n",
       "          0.12012987, 0.02997003, 0.00949051, 0.01123876])]},\n",
       " 'num_kids': {'distribution': 'categorical',\n",
       "  'parameters': [array([0, 1, 2, 3, 4, 5, 6]),\n",
       "   array([0.46603397, 0.17682318, 0.25624376, 0.07642358, 0.01598402,\n",
       "          0.00699301, 0.0014985 ])]},\n",
       " 'num_cars': {'distribution': 'categorical',\n",
       "  'parameters': [array([0., 1., 2., 3., 4., 5., 6., 7., 8.]),\n",
       "   array([0.0516983 , 0.23976024, 0.48676324, 0.17057942, 0.03996004,\n",
       "          0.00674326, 0.0024975 , 0.000999  , 0.000999  ])]},\n",
       " 'num_licensed_drivers': {'distribution': 'categorical',\n",
       "  'parameters': [array([0., 1., 2., 3., 4., 5., 6.]),\n",
       "   array([1.12387612e-02, 1.45604396e-01, 6.15134865e-01, 1.73576424e-01,\n",
       "          4.47052947e-02, 9.24075924e-03, 4.99500500e-04])]},\n",
       " 'total_travel_distance_drive_alone': {'distribution': 'gamma',\n",
       "  'parameters': (0.7944517942940816, 0.39999999999999997, 19.10566310726253)},\n",
       " 'total_travel_distance_shared_2': {'distribution': 'gamma',\n",
       "  'parameters': (0.8148950757692075, 0.29999999999999993, 18.40250347572789)},\n",
       " 'total_travel_distance_shared_3p': {'distribution': 'gamma',\n",
       "  'parameters': (0.8135746709638757, 0.29999999999999993, 18.437320030510342)},\n",
       " 'total_travel_time_wtw': {'distribution': 'alpha',\n",
       "  'parameters': (3.9577465114167927, -98.3112671568787, 749.7787691208105)},\n",
       " 'total_travel_time_dtw': {'distribution': 'gamma',\n",
       "  'parameters': (2.6059274863539046, 8.099701135792749, 30.976197249989433)},\n",
       " 'total_travel_time_wtd': {'distribution': 'gamma',\n",
       "  'parameters': (2.547895345348514, 7.666262097694567, 30.99344922438852)},\n",
       " 'total_travel_distance_walk': {'distribution': 'alpha',\n",
       "  'parameters': (1.985330145127784e-06,\n",
       "   -1.6062753376988779,\n",
       "   5.430955769911186)},\n",
       " 'total_travel_distance_bike': {'distribution': 'alpha',\n",
       "  'parameters': (0.0023562351887384068,\n",
       "   -1.4282411165328406,\n",
       "   4.999096383807641)},\n",
       " 'cross_bay': {'distribution': 'categorical',\n",
       "  'parameters': [array([0, 1]), array([0.94005994, 0.05994006])]}}"
      ]
     },
     "execution_count": 23,
     "metadata": {},
     "output_type": "execute_result"
    }
   ],
   "source": [
    "bike_data_params"
   ]
  },
  {
   "cell_type": "markdown",
   "metadata": {},
   "source": [
    "## 3.3. Regressions for each causal graph "
   ]
  },
  {
   "cell_type": "markdown",
   "metadata": {},
   "source": [
    "### 3.3.1. Drive Alone "
   ]
  },
  {
   "cell_type": "code",
   "execution_count": 24,
   "metadata": {},
   "outputs": [
    {
     "data": {
      "image/svg+xml": [
       "<?xml version=\"1.0\" encoding=\"UTF-8\" standalone=\"no\"?>\n",
       "<!DOCTYPE svg PUBLIC \"-//W3C//DTD SVG 1.1//EN\"\n",
       " \"http://www.w3.org/Graphics/SVG/1.1/DTD/svg11.dtd\">\n",
       "<!-- Generated by graphviz version 2.42.3 (20191010.1750)\n",
       " -->\n",
       "<!-- Title: %3 Pages: 1 -->\n",
       "<svg width=\"718pt\" height=\"188pt\"\n",
       " viewBox=\"0.00 0.00 717.93 188.00\" xmlns=\"http://www.w3.org/2000/svg\" xmlns:xlink=\"http://www.w3.org/1999/xlink\">\n",
       "<g id=\"graph0\" class=\"graph\" transform=\"scale(1 1) rotate(0) translate(4 184)\">\n",
       "<title>%3</title>\n",
       "<polygon fill=\"white\" stroke=\"transparent\" points=\"-4,4 -4,-184 713.93,-184 713.93,4 -4,4\"/>\n",
       "<!-- Total Travel Cost -->\n",
       "<g id=\"node1\" class=\"node\">\n",
       "<title>Total Travel Cost</title>\n",
       "<ellipse fill=\"none\" stroke=\"black\" cx=\"71.41\" cy=\"-90\" rx=\"71.31\" ry=\"18\"/>\n",
       "<text text-anchor=\"middle\" x=\"71.41\" y=\"-85.8\" font-family=\"Times,serif\" font-size=\"14.00\">Total Travel Cost</text>\n",
       "</g>\n",
       "<!-- Utility (Drive Alone) -->\n",
       "<g id=\"node4\" class=\"node\">\n",
       "<title>Utility (Drive Alone)</title>\n",
       "<ellipse fill=\"none\" stroke=\"black\" cx=\"315.41\" cy=\"-18\" rx=\"84.55\" ry=\"18\"/>\n",
       "<text text-anchor=\"middle\" x=\"315.41\" y=\"-13.8\" font-family=\"Times,serif\" font-size=\"14.00\">Utility (Drive Alone)</text>\n",
       "</g>\n",
       "<!-- Total Travel Cost&#45;&gt;Utility (Drive Alone) -->\n",
       "<g id=\"edge4\" class=\"edge\">\n",
       "<title>Total Travel Cost&#45;&gt;Utility (Drive Alone)</title>\n",
       "<path fill=\"none\" stroke=\"black\" d=\"M116.73,-76C156.37,-64.63 214.16,-48.05 257.21,-35.7\"/>\n",
       "<polygon fill=\"black\" stroke=\"black\" points=\"258.34,-39.01 266.98,-32.89 256.41,-32.29 258.34,-39.01\"/>\n",
       "</g>\n",
       "<!-- Total Travel Time -->\n",
       "<g id=\"node2\" class=\"node\">\n",
       "<title>Total Travel Time</title>\n",
       "<ellipse fill=\"none\" stroke=\"black\" cx=\"234.41\" cy=\"-90\" rx=\"73.28\" ry=\"18\"/>\n",
       "<text text-anchor=\"middle\" x=\"234.41\" y=\"-85.8\" font-family=\"Times,serif\" font-size=\"14.00\">Total Travel Time</text>\n",
       "</g>\n",
       "<!-- Total Travel Time&#45;&gt;Utility (Drive Alone) -->\n",
       "<g id=\"edge3\" class=\"edge\">\n",
       "<title>Total Travel Time&#45;&gt;Utility (Drive Alone)</title>\n",
       "<path fill=\"none\" stroke=\"black\" d=\"M253.6,-72.41C264.02,-63.41 277.06,-52.14 288.48,-42.27\"/>\n",
       "<polygon fill=\"black\" stroke=\"black\" points=\"290.79,-44.9 296.07,-35.71 286.21,-39.6 290.79,-44.9\"/>\n",
       "</g>\n",
       "<!-- Number of Autos -->\n",
       "<g id=\"node3\" class=\"node\">\n",
       "<title>Number of Autos</title>\n",
       "<ellipse fill=\"none\" stroke=\"black\" cx=\"397.41\" cy=\"-90\" rx=\"71.54\" ry=\"18\"/>\n",
       "<text text-anchor=\"middle\" x=\"397.41\" y=\"-85.8\" font-family=\"Times,serif\" font-size=\"14.00\">Number of Autos</text>\n",
       "</g>\n",
       "<!-- Number of Autos&#45;&gt;Utility (Drive Alone) -->\n",
       "<g id=\"edge5\" class=\"edge\">\n",
       "<title>Number of Autos&#45;&gt;Utility (Drive Alone)</title>\n",
       "<path fill=\"none\" stroke=\"black\" d=\"M377.97,-72.41C367.43,-63.41 354.23,-52.14 342.67,-42.27\"/>\n",
       "<polygon fill=\"black\" stroke=\"black\" points=\"344.86,-39.54 334.98,-35.71 340.32,-44.87 344.86,-39.54\"/>\n",
       "</g>\n",
       "<!-- Number of Licensed Drivers -->\n",
       "<g id=\"node5\" class=\"node\">\n",
       "<title>Number of Licensed Drivers</title>\n",
       "<ellipse fill=\"none\" stroke=\"black\" cx=\"598.41\" cy=\"-90\" rx=\"111.55\" ry=\"18\"/>\n",
       "<text text-anchor=\"middle\" x=\"598.41\" y=\"-85.8\" font-family=\"Times,serif\" font-size=\"14.00\">Number of Licensed Drivers</text>\n",
       "</g>\n",
       "<!-- Number of Licensed Drivers&#45;&gt;Utility (Drive Alone) -->\n",
       "<g id=\"edge6\" class=\"edge\">\n",
       "<title>Number of Licensed Drivers&#45;&gt;Utility (Drive Alone)</title>\n",
       "<path fill=\"none\" stroke=\"black\" d=\"M540.11,-74.58C492.88,-62.9 426.47,-46.47 378.1,-34.51\"/>\n",
       "<polygon fill=\"black\" stroke=\"black\" points=\"378.92,-31.1 368.37,-32.1 377.24,-37.9 378.92,-31.1\"/>\n",
       "</g>\n",
       "<!-- Total Travel Distance -->\n",
       "<g id=\"node6\" class=\"node\">\n",
       "<title>Total Travel Distance</title>\n",
       "<ellipse fill=\"none\" stroke=\"black\" cx=\"152.41\" cy=\"-162\" rx=\"86.25\" ry=\"18\"/>\n",
       "<text text-anchor=\"middle\" x=\"152.41\" y=\"-157.8\" font-family=\"Times,serif\" font-size=\"14.00\">Total Travel Distance</text>\n",
       "</g>\n",
       "<!-- Total Travel Distance&#45;&gt;Total Travel Cost -->\n",
       "<g id=\"edge2\" class=\"edge\">\n",
       "<title>Total Travel Distance&#45;&gt;Total Travel Cost</title>\n",
       "<path fill=\"none\" stroke=\"black\" d=\"M133.21,-144.41C122.72,-135.34 109.56,-123.97 98.09,-114.06\"/>\n",
       "<polygon fill=\"black\" stroke=\"black\" points=\"100.32,-111.36 90.46,-107.47 95.74,-116.66 100.32,-111.36\"/>\n",
       "</g>\n",
       "<!-- Total Travel Distance&#45;&gt;Total Travel Time -->\n",
       "<g id=\"edge1\" class=\"edge\">\n",
       "<title>Total Travel Distance&#45;&gt;Total Travel Time</title>\n",
       "<path fill=\"none\" stroke=\"black\" d=\"M171.84,-144.41C182.46,-135.34 195.78,-123.97 207.4,-114.06\"/>\n",
       "<polygon fill=\"black\" stroke=\"black\" points=\"209.78,-116.62 215.11,-107.47 205.24,-111.3 209.78,-116.62\"/>\n",
       "</g>\n",
       "</g>\n",
       "</svg>\n"
      ],
      "text/plain": [
       "<graphviz.dot.Digraph at 0x1c235d1b90>"
      ]
     },
     "execution_count": 24,
     "metadata": {},
     "output_type": "execute_result"
    }
   ],
   "source": [
    "V_Drive_Alone.draw()"
   ]
  },
  {
   "cell_type": "code",
   "execution_count": 25,
   "metadata": {},
   "outputs": [
    {
     "name": "stderr",
     "output_type": "stream",
     "text": [
      "/Users/mobouzaghrane/opt/anaconda3/lib/python3.7/site-packages/numpy/core/fromnumeric.py:2495: FutureWarning: Method .ptp is deprecated and will be removed in a future version. Use numpy.ptp instead.\n",
      "  return ptp(axis=axis, out=out, **kwargs)\n"
     ]
    }
   ],
   "source": [
    "Drive_Alone_Df = bike_data_long[bike_data_long['mode_id']==1]\n",
    "Drive_Alone_Df.reset_index(drop=True,inplace=True)\n",
    "Drive_Alone_Reg = FitAlternativeRegression(regressions={1:('total_travel_distance','total_travel_cost'),\n",
    "                                                        2:('total_travel_distance','total_travel_time')},\n",
    "                                           reg_types={1:'linear',2:'linear'},\n",
    "                                           data = Drive_Alone_Df)"
   ]
  },
  {
   "cell_type": "markdown",
   "metadata": {},
   "source": [
    "### 3.3.2. Shared-2"
   ]
  },
  {
   "cell_type": "code",
   "execution_count": 26,
   "metadata": {},
   "outputs": [
    {
     "data": {
      "image/svg+xml": [
       "<?xml version=\"1.0\" encoding=\"UTF-8\" standalone=\"no\"?>\n",
       "<!DOCTYPE svg PUBLIC \"-//W3C//DTD SVG 1.1//EN\"\n",
       " \"http://www.w3.org/Graphics/SVG/1.1/DTD/svg11.dtd\">\n",
       "<!-- Generated by graphviz version 2.42.3 (20191010.1750)\n",
       " -->\n",
       "<!-- Title: %3 Pages: 1 -->\n",
       "<svg width=\"1166pt\" height=\"188pt\"\n",
       " viewBox=\"0.00 0.00 1166.44 188.00\" xmlns=\"http://www.w3.org/2000/svg\" xmlns:xlink=\"http://www.w3.org/1999/xlink\">\n",
       "<g id=\"graph0\" class=\"graph\" transform=\"scale(1 1) rotate(0) translate(4 184)\">\n",
       "<title>%3</title>\n",
       "<polygon fill=\"white\" stroke=\"transparent\" points=\"-4,4 -4,-184 1162.44,-184 1162.44,4 -4,4\"/>\n",
       "<!-- Number of Kids -->\n",
       "<g id=\"node1\" class=\"node\">\n",
       "<title>Number of Kids</title>\n",
       "<ellipse fill=\"none\" stroke=\"black\" cx=\"67.58\" cy=\"-90\" rx=\"67.66\" ry=\"18\"/>\n",
       "<text text-anchor=\"middle\" x=\"67.58\" y=\"-85.8\" font-family=\"Times,serif\" font-size=\"14.00\">Number of Kids</text>\n",
       "</g>\n",
       "<!-- Utility (Shared Ride 2) -->\n",
       "<g id=\"node8\" class=\"node\">\n",
       "<title>Utility (Shared Ride 2)</title>\n",
       "<ellipse fill=\"none\" stroke=\"black\" cx=\"550.58\" cy=\"-18\" rx=\"91.31\" ry=\"18\"/>\n",
       "<text text-anchor=\"middle\" x=\"550.58\" y=\"-13.8\" font-family=\"Times,serif\" font-size=\"14.00\">Utility (Shared Ride 2)</text>\n",
       "</g>\n",
       "<!-- Number of Kids&#45;&gt;Utility (Shared Ride 2) -->\n",
       "<g id=\"edge9\" class=\"edge\">\n",
       "<title>Number of Kids&#45;&gt;Utility (Shared Ride 2)</title>\n",
       "<path fill=\"none\" stroke=\"black\" d=\"M116.75,-77.47C125.97,-75.5 135.55,-73.58 144.58,-72 253.13,-52.97 379.11,-37.55 461.59,-28.35\"/>\n",
       "<polygon fill=\"black\" stroke=\"black\" points=\"462.13,-31.81 471.68,-27.23 461.35,-24.85 462.13,-31.81\"/>\n",
       "</g>\n",
       "<!-- Total Travel Cost -->\n",
       "<g id=\"node2\" class=\"node\">\n",
       "<title>Total Travel Cost</title>\n",
       "<ellipse fill=\"none\" stroke=\"black\" cx=\"224.58\" cy=\"-90\" rx=\"71.31\" ry=\"18\"/>\n",
       "<text text-anchor=\"middle\" x=\"224.58\" y=\"-85.8\" font-family=\"Times,serif\" font-size=\"14.00\">Total Travel Cost</text>\n",
       "</g>\n",
       "<!-- Total Travel Cost&#45;&gt;Utility (Shared Ride 2) -->\n",
       "<g id=\"edge4\" class=\"edge\">\n",
       "<title>Total Travel Cost&#45;&gt;Utility (Shared Ride 2)</title>\n",
       "<path fill=\"none\" stroke=\"black\" d=\"M276.96,-77.75C332.37,-65.86 420.07,-47.02 481.2,-33.9\"/>\n",
       "<polygon fill=\"black\" stroke=\"black\" points=\"482.11,-37.28 491.15,-31.76 480.64,-30.44 482.11,-37.28\"/>\n",
       "</g>\n",
       "<!-- Total Travel Distance -->\n",
       "<g id=\"node3\" class=\"node\">\n",
       "<title>Total Travel Distance</title>\n",
       "<ellipse fill=\"none\" stroke=\"black\" cx=\"305.58\" cy=\"-162\" rx=\"86.25\" ry=\"18\"/>\n",
       "<text text-anchor=\"middle\" x=\"305.58\" y=\"-157.8\" font-family=\"Times,serif\" font-size=\"14.00\">Total Travel Distance</text>\n",
       "</g>\n",
       "<!-- Total Travel Distance&#45;&gt;Total Travel Cost -->\n",
       "<g id=\"edge3\" class=\"edge\">\n",
       "<title>Total Travel Distance&#45;&gt;Total Travel Cost</title>\n",
       "<path fill=\"none\" stroke=\"black\" d=\"M286.38,-144.41C275.89,-135.34 262.74,-123.97 251.26,-114.06\"/>\n",
       "<polygon fill=\"black\" stroke=\"black\" points=\"253.49,-111.36 243.64,-107.47 248.92,-116.66 253.49,-111.36\"/>\n",
       "</g>\n",
       "<!-- Total Travel Time -->\n",
       "<g id=\"node4\" class=\"node\">\n",
       "<title>Total Travel Time</title>\n",
       "<ellipse fill=\"none\" stroke=\"black\" cx=\"387.58\" cy=\"-90\" rx=\"73.28\" ry=\"18\"/>\n",
       "<text text-anchor=\"middle\" x=\"387.58\" y=\"-85.8\" font-family=\"Times,serif\" font-size=\"14.00\">Total Travel Time</text>\n",
       "</g>\n",
       "<!-- Total Travel Distance&#45;&gt;Total Travel Time -->\n",
       "<g id=\"edge2\" class=\"edge\">\n",
       "<title>Total Travel Distance&#45;&gt;Total Travel Time</title>\n",
       "<path fill=\"none\" stroke=\"black\" d=\"M325.01,-144.41C335.63,-135.34 348.95,-123.97 360.57,-114.06\"/>\n",
       "<polygon fill=\"black\" stroke=\"black\" points=\"362.95,-116.62 368.29,-107.47 358.41,-111.3 362.95,-116.62\"/>\n",
       "</g>\n",
       "<!-- Total Travel Time&#45;&gt;Utility (Shared Ride 2) -->\n",
       "<g id=\"edge1\" class=\"edge\">\n",
       "<title>Total Travel Time&#45;&gt;Utility (Shared Ride 2)</title>\n",
       "<path fill=\"none\" stroke=\"black\" d=\"M422.55,-73.98C446.63,-63.64 478.85,-49.8 504.95,-38.6\"/>\n",
       "<polygon fill=\"black\" stroke=\"black\" points=\"506.45,-41.76 514.26,-34.6 503.69,-35.33 506.45,-41.76\"/>\n",
       "</g>\n",
       "<!-- Number of Autos -->\n",
       "<g id=\"node5\" class=\"node\">\n",
       "<title>Number of Autos</title>\n",
       "<ellipse fill=\"none\" stroke=\"black\" cx=\"550.58\" cy=\"-90\" rx=\"71.54\" ry=\"18\"/>\n",
       "<text text-anchor=\"middle\" x=\"550.58\" y=\"-85.8\" font-family=\"Times,serif\" font-size=\"14.00\">Number of Autos</text>\n",
       "</g>\n",
       "<!-- Number of Autos&#45;&gt;Utility (Shared Ride 2) -->\n",
       "<g id=\"edge6\" class=\"edge\">\n",
       "<title>Number of Autos&#45;&gt;Utility (Shared Ride 2)</title>\n",
       "<path fill=\"none\" stroke=\"black\" d=\"M550.58,-71.7C550.58,-63.98 550.58,-54.71 550.58,-46.11\"/>\n",
       "<polygon fill=\"black\" stroke=\"black\" points=\"554.08,-46.1 550.58,-36.1 547.08,-46.1 554.08,-46.1\"/>\n",
       "</g>\n",
       "<!-- Number of Licensed Drivers -->\n",
       "<g id=\"node6\" class=\"node\">\n",
       "<title>Number of Licensed Drivers</title>\n",
       "<ellipse fill=\"none\" stroke=\"black\" cx=\"751.58\" cy=\"-90\" rx=\"111.55\" ry=\"18\"/>\n",
       "<text text-anchor=\"middle\" x=\"751.58\" y=\"-85.8\" font-family=\"Times,serif\" font-size=\"14.00\">Number of Licensed Drivers</text>\n",
       "</g>\n",
       "<!-- Number of Licensed Drivers&#45;&gt;Utility (Shared Ride 2) -->\n",
       "<g id=\"edge7\" class=\"edge\">\n",
       "<title>Number of Licensed Drivers&#45;&gt;Utility (Shared Ride 2)</title>\n",
       "<path fill=\"none\" stroke=\"black\" d=\"M706.97,-73.46C676.37,-62.81 635.62,-48.62 603.39,-37.39\"/>\n",
       "<polygon fill=\"black\" stroke=\"black\" points=\"604.28,-34 593.68,-34.01 601.98,-40.61 604.28,-34\"/>\n",
       "</g>\n",
       "<!-- Cross Bay Trip -->\n",
       "<g id=\"node7\" class=\"node\">\n",
       "<title>Cross Bay Trip</title>\n",
       "<ellipse fill=\"none\" stroke=\"black\" cx=\"944.58\" cy=\"-90\" rx=\"63.87\" ry=\"18\"/>\n",
       "<text text-anchor=\"middle\" x=\"944.58\" y=\"-85.8\" font-family=\"Times,serif\" font-size=\"14.00\">Cross Bay Trip</text>\n",
       "</g>\n",
       "<!-- Cross Bay Trip&#45;&gt;Utility (Shared Ride 2) -->\n",
       "<g id=\"edge5\" class=\"edge\">\n",
       "<title>Cross Bay Trip&#45;&gt;Utility (Shared Ride 2)</title>\n",
       "<path fill=\"none\" stroke=\"black\" d=\"M898.21,-77.56C889.7,-75.6 880.89,-73.66 872.58,-72 791.11,-55.7 697.31,-40.68 632.04,-30.82\"/>\n",
       "<polygon fill=\"black\" stroke=\"black\" points=\"632.23,-27.31 621.82,-29.29 631.19,-34.24 632.23,-27.31\"/>\n",
       "</g>\n",
       "<!-- Household Size -->\n",
       "<g id=\"node9\" class=\"node\">\n",
       "<title>Household Size</title>\n",
       "<ellipse fill=\"none\" stroke=\"black\" cx=\"1092.58\" cy=\"-90\" rx=\"65.72\" ry=\"18\"/>\n",
       "<text text-anchor=\"middle\" x=\"1092.58\" y=\"-85.8\" font-family=\"Times,serif\" font-size=\"14.00\">Household Size</text>\n",
       "</g>\n",
       "<!-- Household Size&#45;&gt;Utility (Shared Ride 2) -->\n",
       "<g id=\"edge8\" class=\"edge\">\n",
       "<title>Household Size&#45;&gt;Utility (Shared Ride 2)</title>\n",
       "<path fill=\"none\" stroke=\"black\" d=\"M1045.13,-77.42C1036.02,-75.43 1026.53,-73.52 1017.58,-72 888.73,-50.15 738.31,-34.9 643.75,-26.54\"/>\n",
       "<polygon fill=\"black\" stroke=\"black\" points=\"643.91,-23.04 633.64,-25.65 643.29,-30.01 643.91,-23.04\"/>\n",
       "</g>\n",
       "</g>\n",
       "</svg>\n"
      ],
      "text/plain": [
       "<graphviz.dot.Digraph at 0x1c235dc910>"
      ]
     },
     "execution_count": 26,
     "metadata": {},
     "output_type": "execute_result"
    }
   ],
   "source": [
    "V_Shared_2.draw()"
   ]
  },
  {
   "cell_type": "code",
   "execution_count": 27,
   "metadata": {},
   "outputs": [
    {
     "name": "stderr",
     "output_type": "stream",
     "text": [
      "/Users/mobouzaghrane/opt/anaconda3/lib/python3.7/site-packages/numpy/core/fromnumeric.py:2495: FutureWarning: Method .ptp is deprecated and will be removed in a future version. Use numpy.ptp instead.\n",
      "  return ptp(axis=axis, out=out, **kwargs)\n"
     ]
    }
   ],
   "source": [
    "Shared_2_Df = bike_data_long[bike_data_long['mode_id']==2]\n",
    "Shared_2_Df.reset_index(drop=True,inplace=True)\n",
    "Shared_2_Reg = FitAlternativeRegression(regressions={1:('total_travel_distance','total_travel_cost'),\n",
    "                                                        2:('total_travel_distance','total_travel_time')},\n",
    "                                           reg_types={1:'linear',2:'linear'},\n",
    "                                           data = Shared_2_Df)"
   ]
  },
  {
   "cell_type": "markdown",
   "metadata": {},
   "source": [
    "### 3.3.3. Shared-3+"
   ]
  },
  {
   "cell_type": "code",
   "execution_count": 28,
   "metadata": {},
   "outputs": [
    {
     "data": {
      "image/svg+xml": [
       "<?xml version=\"1.0\" encoding=\"UTF-8\" standalone=\"no\"?>\n",
       "<!DOCTYPE svg PUBLIC \"-//W3C//DTD SVG 1.1//EN\"\n",
       " \"http://www.w3.org/Graphics/SVG/1.1/DTD/svg11.dtd\">\n",
       "<!-- Generated by graphviz version 2.42.3 (20191010.1750)\n",
       " -->\n",
       "<!-- Title: %3 Pages: 1 -->\n",
       "<svg width=\"1166pt\" height=\"188pt\"\n",
       " viewBox=\"0.00 0.00 1166.44 188.00\" xmlns=\"http://www.w3.org/2000/svg\" xmlns:xlink=\"http://www.w3.org/1999/xlink\">\n",
       "<g id=\"graph0\" class=\"graph\" transform=\"scale(1 1) rotate(0) translate(4 184)\">\n",
       "<title>%3</title>\n",
       "<polygon fill=\"white\" stroke=\"transparent\" points=\"-4,4 -4,-184 1162.44,-184 1162.44,4 -4,4\"/>\n",
       "<!-- Number of Kids -->\n",
       "<g id=\"node1\" class=\"node\">\n",
       "<title>Number of Kids</title>\n",
       "<ellipse fill=\"none\" stroke=\"black\" cx=\"67.58\" cy=\"-90\" rx=\"67.66\" ry=\"18\"/>\n",
       "<text text-anchor=\"middle\" x=\"67.58\" y=\"-85.8\" font-family=\"Times,serif\" font-size=\"14.00\">Number of Kids</text>\n",
       "</g>\n",
       "<!-- Utility (Shared Ride 3+) -->\n",
       "<g id=\"node6\" class=\"node\">\n",
       "<title>Utility (Shared Ride 3+)</title>\n",
       "<ellipse fill=\"none\" stroke=\"black\" cx=\"550.58\" cy=\"-18\" rx=\"96.28\" ry=\"18\"/>\n",
       "<text text-anchor=\"middle\" x=\"550.58\" y=\"-13.8\" font-family=\"Times,serif\" font-size=\"14.00\">Utility (Shared Ride 3+)</text>\n",
       "</g>\n",
       "<!-- Number of Kids&#45;&gt;Utility (Shared Ride 3+) -->\n",
       "<g id=\"edge9\" class=\"edge\">\n",
       "<title>Number of Kids&#45;&gt;Utility (Shared Ride 3+)</title>\n",
       "<path fill=\"none\" stroke=\"black\" d=\"M116.75,-77.47C125.97,-75.5 135.55,-73.58 144.58,-72 251.79,-53.21 375.99,-37.93 458.51,-28.69\"/>\n",
       "<polygon fill=\"black\" stroke=\"black\" points=\"459.06,-32.15 468.61,-27.57 458.28,-25.2 459.06,-32.15\"/>\n",
       "</g>\n",
       "<!-- Total Travel Cost -->\n",
       "<g id=\"node2\" class=\"node\">\n",
       "<title>Total Travel Cost</title>\n",
       "<ellipse fill=\"none\" stroke=\"black\" cx=\"224.58\" cy=\"-90\" rx=\"71.31\" ry=\"18\"/>\n",
       "<text text-anchor=\"middle\" x=\"224.58\" y=\"-85.8\" font-family=\"Times,serif\" font-size=\"14.00\">Total Travel Cost</text>\n",
       "</g>\n",
       "<!-- Total Travel Cost&#45;&gt;Utility (Shared Ride 3+) -->\n",
       "<g id=\"edge4\" class=\"edge\">\n",
       "<title>Total Travel Cost&#45;&gt;Utility (Shared Ride 3+)</title>\n",
       "<path fill=\"none\" stroke=\"black\" d=\"M276.96,-77.75C332.03,-65.93 418.99,-47.25 480.07,-34.14\"/>\n",
       "<polygon fill=\"black\" stroke=\"black\" points=\"480.98,-37.53 490.02,-32 479.51,-30.68 480.98,-37.53\"/>\n",
       "</g>\n",
       "<!-- Total Travel Distance -->\n",
       "<g id=\"node3\" class=\"node\">\n",
       "<title>Total Travel Distance</title>\n",
       "<ellipse fill=\"none\" stroke=\"black\" cx=\"305.58\" cy=\"-162\" rx=\"86.25\" ry=\"18\"/>\n",
       "<text text-anchor=\"middle\" x=\"305.58\" y=\"-157.8\" font-family=\"Times,serif\" font-size=\"14.00\">Total Travel Distance</text>\n",
       "</g>\n",
       "<!-- Total Travel Distance&#45;&gt;Total Travel Cost -->\n",
       "<g id=\"edge3\" class=\"edge\">\n",
       "<title>Total Travel Distance&#45;&gt;Total Travel Cost</title>\n",
       "<path fill=\"none\" stroke=\"black\" d=\"M286.38,-144.41C275.89,-135.34 262.74,-123.97 251.26,-114.06\"/>\n",
       "<polygon fill=\"black\" stroke=\"black\" points=\"253.49,-111.36 243.64,-107.47 248.92,-116.66 253.49,-111.36\"/>\n",
       "</g>\n",
       "<!-- Total Travel Time -->\n",
       "<g id=\"node4\" class=\"node\">\n",
       "<title>Total Travel Time</title>\n",
       "<ellipse fill=\"none\" stroke=\"black\" cx=\"387.58\" cy=\"-90\" rx=\"73.28\" ry=\"18\"/>\n",
       "<text text-anchor=\"middle\" x=\"387.58\" y=\"-85.8\" font-family=\"Times,serif\" font-size=\"14.00\">Total Travel Time</text>\n",
       "</g>\n",
       "<!-- Total Travel Distance&#45;&gt;Total Travel Time -->\n",
       "<g id=\"edge2\" class=\"edge\">\n",
       "<title>Total Travel Distance&#45;&gt;Total Travel Time</title>\n",
       "<path fill=\"none\" stroke=\"black\" d=\"M325.01,-144.41C335.63,-135.34 348.95,-123.97 360.57,-114.06\"/>\n",
       "<polygon fill=\"black\" stroke=\"black\" points=\"362.95,-116.62 368.29,-107.47 358.41,-111.3 362.95,-116.62\"/>\n",
       "</g>\n",
       "<!-- Total Travel Time&#45;&gt;Utility (Shared Ride 3+) -->\n",
       "<g id=\"edge1\" class=\"edge\">\n",
       "<title>Total Travel Time&#45;&gt;Utility (Shared Ride 3+)</title>\n",
       "<path fill=\"none\" stroke=\"black\" d=\"M422.55,-73.98C446.54,-63.68 478.63,-49.9 504.68,-38.71\"/>\n",
       "<polygon fill=\"black\" stroke=\"black\" points=\"506.17,-41.88 513.97,-34.72 503.41,-35.45 506.17,-41.88\"/>\n",
       "</g>\n",
       "<!-- Number of Autos -->\n",
       "<g id=\"node5\" class=\"node\">\n",
       "<title>Number of Autos</title>\n",
       "<ellipse fill=\"none\" stroke=\"black\" cx=\"550.58\" cy=\"-90\" rx=\"71.54\" ry=\"18\"/>\n",
       "<text text-anchor=\"middle\" x=\"550.58\" y=\"-85.8\" font-family=\"Times,serif\" font-size=\"14.00\">Number of Autos</text>\n",
       "</g>\n",
       "<!-- Number of Autos&#45;&gt;Utility (Shared Ride 3+) -->\n",
       "<g id=\"edge6\" class=\"edge\">\n",
       "<title>Number of Autos&#45;&gt;Utility (Shared Ride 3+)</title>\n",
       "<path fill=\"none\" stroke=\"black\" d=\"M550.58,-71.7C550.58,-63.98 550.58,-54.71 550.58,-46.11\"/>\n",
       "<polygon fill=\"black\" stroke=\"black\" points=\"554.08,-46.1 550.58,-36.1 547.08,-46.1 554.08,-46.1\"/>\n",
       "</g>\n",
       "<!-- Number of Licensed Drivers -->\n",
       "<g id=\"node7\" class=\"node\">\n",
       "<title>Number of Licensed Drivers</title>\n",
       "<ellipse fill=\"none\" stroke=\"black\" cx=\"751.58\" cy=\"-90\" rx=\"111.55\" ry=\"18\"/>\n",
       "<text text-anchor=\"middle\" x=\"751.58\" y=\"-85.8\" font-family=\"Times,serif\" font-size=\"14.00\">Number of Licensed Drivers</text>\n",
       "</g>\n",
       "<!-- Number of Licensed Drivers&#45;&gt;Utility (Shared Ride 3+) -->\n",
       "<g id=\"edge7\" class=\"edge\">\n",
       "<title>Number of Licensed Drivers&#45;&gt;Utility (Shared Ride 3+)</title>\n",
       "<path fill=\"none\" stroke=\"black\" d=\"M706.97,-73.46C676.47,-62.84 635.9,-48.71 603.72,-37.51\"/>\n",
       "<polygon fill=\"black\" stroke=\"black\" points=\"604.62,-34.11 594.03,-34.13 602.32,-40.73 604.62,-34.11\"/>\n",
       "</g>\n",
       "<!-- Cross Bay Trip -->\n",
       "<g id=\"node8\" class=\"node\">\n",
       "<title>Cross Bay Trip</title>\n",
       "<ellipse fill=\"none\" stroke=\"black\" cx=\"944.58\" cy=\"-90\" rx=\"63.87\" ry=\"18\"/>\n",
       "<text text-anchor=\"middle\" x=\"944.58\" y=\"-85.8\" font-family=\"Times,serif\" font-size=\"14.00\">Cross Bay Trip</text>\n",
       "</g>\n",
       "<!-- Cross Bay Trip&#45;&gt;Utility (Shared Ride 3+) -->\n",
       "<g id=\"edge5\" class=\"edge\">\n",
       "<title>Cross Bay Trip&#45;&gt;Utility (Shared Ride 3+)</title>\n",
       "<path fill=\"none\" stroke=\"black\" d=\"M898.21,-77.56C889.7,-75.6 880.89,-73.66 872.58,-72 792.16,-55.91 699.74,-41.07 634.59,-31.21\"/>\n",
       "<polygon fill=\"black\" stroke=\"black\" points=\"634.79,-27.7 624.38,-29.67 633.74,-34.62 634.79,-27.7\"/>\n",
       "</g>\n",
       "<!-- Household Size -->\n",
       "<g id=\"node9\" class=\"node\">\n",
       "<title>Household Size</title>\n",
       "<ellipse fill=\"none\" stroke=\"black\" cx=\"1092.58\" cy=\"-90\" rx=\"65.72\" ry=\"18\"/>\n",
       "<text text-anchor=\"middle\" x=\"1092.58\" y=\"-85.8\" font-family=\"Times,serif\" font-size=\"14.00\">Household Size</text>\n",
       "</g>\n",
       "<!-- Household Size&#45;&gt;Utility (Shared Ride 3+) -->\n",
       "<g id=\"edge8\" class=\"edge\">\n",
       "<title>Household Size&#45;&gt;Utility (Shared Ride 3+)</title>\n",
       "<path fill=\"none\" stroke=\"black\" d=\"M1045.13,-77.42C1036.02,-75.43 1026.53,-73.52 1017.58,-72 890.48,-50.45 742.39,-35.31 647.62,-26.88\"/>\n",
       "<polygon fill=\"black\" stroke=\"black\" points=\"647.75,-23.38 637.48,-25.99 647.14,-30.35 647.75,-23.38\"/>\n",
       "</g>\n",
       "</g>\n",
       "</svg>\n"
      ],
      "text/plain": [
       "<graphviz.dot.Digraph at 0x1c23d434d0>"
      ]
     },
     "execution_count": 28,
     "metadata": {},
     "output_type": "execute_result"
    }
   ],
   "source": [
    "V_Shared_3p.draw()"
   ]
  },
  {
   "cell_type": "code",
   "execution_count": 29,
   "metadata": {},
   "outputs": [
    {
     "name": "stderr",
     "output_type": "stream",
     "text": [
      "/Users/mobouzaghrane/opt/anaconda3/lib/python3.7/site-packages/numpy/core/fromnumeric.py:2495: FutureWarning: Method .ptp is deprecated and will be removed in a future version. Use numpy.ptp instead.\n",
      "  return ptp(axis=axis, out=out, **kwargs)\n"
     ]
    }
   ],
   "source": [
    "Shared_3p_Df = bike_data_long[bike_data_long['mode_id']==3]\n",
    "Shared_3p_Df.reset_index(drop=True,inplace=True)\n",
    "Shared_3p_Reg = FitAlternativeRegression(regressions={1:('total_travel_distance','total_travel_cost'),\n",
    "                                                        2:('total_travel_distance','total_travel_time')},\n",
    "                                           reg_types={1:'linear',2:'linear'},\n",
    "                                           data = Shared_3p_Df)"
   ]
  },
  {
   "cell_type": "markdown",
   "metadata": {},
   "source": [
    "### 3.3.4. Walk-Transit-Walk "
   ]
  },
  {
   "cell_type": "code",
   "execution_count": 30,
   "metadata": {},
   "outputs": [
    {
     "data": {
      "image/svg+xml": [
       "<?xml version=\"1.0\" encoding=\"UTF-8\" standalone=\"no\"?>\n",
       "<!DOCTYPE svg PUBLIC \"-//W3C//DTD SVG 1.1//EN\"\n",
       " \"http://www.w3.org/Graphics/SVG/1.1/DTD/svg11.dtd\">\n",
       "<!-- Generated by graphviz version 2.42.3 (20191010.1750)\n",
       " -->\n",
       "<!-- Title: %3 Pages: 1 -->\n",
       "<svg width=\"346pt\" height=\"188pt\"\n",
       " viewBox=\"0.00 0.00 345.52 188.00\" xmlns=\"http://www.w3.org/2000/svg\" xmlns:xlink=\"http://www.w3.org/1999/xlink\">\n",
       "<g id=\"graph0\" class=\"graph\" transform=\"scale(1 1) rotate(0) translate(4 184)\">\n",
       "<title>%3</title>\n",
       "<polygon fill=\"white\" stroke=\"transparent\" points=\"-4,4 -4,-184 341.52,-184 341.52,4 -4,4\"/>\n",
       "<!-- Utility (WTW) -->\n",
       "<g id=\"node1\" class=\"node\">\n",
       "<title>Utility (WTW)</title>\n",
       "<ellipse fill=\"none\" stroke=\"black\" cx=\"73.39\" cy=\"-18\" rx=\"63.29\" ry=\"18\"/>\n",
       "<text text-anchor=\"middle\" x=\"73.39\" y=\"-13.8\" font-family=\"Times,serif\" font-size=\"14.00\">Utility (WTW)</text>\n",
       "</g>\n",
       "<!-- Total Travel Cost -->\n",
       "<g id=\"node2\" class=\"node\">\n",
       "<title>Total Travel Cost</title>\n",
       "<ellipse fill=\"none\" stroke=\"black\" cx=\"123.39\" cy=\"-90\" rx=\"71.31\" ry=\"18\"/>\n",
       "<text text-anchor=\"middle\" x=\"123.39\" y=\"-85.8\" font-family=\"Times,serif\" font-size=\"14.00\">Total Travel Cost</text>\n",
       "</g>\n",
       "<!-- Total Travel Cost&#45;&gt;Utility (WTW) -->\n",
       "<g id=\"edge3\" class=\"edge\">\n",
       "<title>Total Travel Cost&#45;&gt;Utility (WTW)</title>\n",
       "<path fill=\"none\" stroke=\"black\" d=\"M111.28,-72.05C105.27,-63.63 97.87,-53.28 91.22,-43.97\"/>\n",
       "<polygon fill=\"black\" stroke=\"black\" points=\"94.04,-41.89 85.38,-35.79 88.35,-45.96 94.04,-41.89\"/>\n",
       "</g>\n",
       "<!-- Total Travel Time -->\n",
       "<g id=\"node3\" class=\"node\">\n",
       "<title>Total Travel Time</title>\n",
       "<ellipse fill=\"none\" stroke=\"black\" cx=\"73.39\" cy=\"-162\" rx=\"73.28\" ry=\"18\"/>\n",
       "<text text-anchor=\"middle\" x=\"73.39\" y=\"-157.8\" font-family=\"Times,serif\" font-size=\"14.00\">Total Travel Time</text>\n",
       "</g>\n",
       "<!-- Total Travel Time&#45;&gt;Utility (WTW) -->\n",
       "<g id=\"edge2\" class=\"edge\">\n",
       "<title>Total Travel Time&#45;&gt;Utility (WTW)</title>\n",
       "<path fill=\"none\" stroke=\"black\" d=\"M60.66,-143.85C54.1,-133.92 46.78,-120.88 43.39,-108 39.31,-92.53 39.31,-87.47 43.39,-72 45.92,-62.39 50.64,-52.69 55.59,-44.26\"/>\n",
       "<polygon fill=\"black\" stroke=\"black\" points=\"58.63,-46.02 60.97,-35.68 52.7,-42.3 58.63,-46.02\"/>\n",
       "</g>\n",
       "<!-- Total Travel Time&#45;&gt;Total Travel Cost -->\n",
       "<g id=\"edge1\" class=\"edge\">\n",
       "<title>Total Travel Time&#45;&gt;Total Travel Cost</title>\n",
       "<path fill=\"none\" stroke=\"black\" d=\"M85.49,-144.05C91.51,-135.63 98.9,-125.28 105.56,-115.97\"/>\n",
       "<polygon fill=\"black\" stroke=\"black\" points=\"108.43,-117.96 111.4,-107.79 102.74,-113.89 108.43,-117.96\"/>\n",
       "</g>\n",
       "<!-- Total Travel Distance -->\n",
       "<g id=\"node4\" class=\"node\">\n",
       "<title>Total Travel Distance</title>\n",
       "<ellipse fill=\"none\" stroke=\"black\" cx=\"251.39\" cy=\"-162\" rx=\"86.25\" ry=\"18\"/>\n",
       "<text text-anchor=\"middle\" x=\"251.39\" y=\"-157.8\" font-family=\"Times,serif\" font-size=\"14.00\">Total Travel Distance</text>\n",
       "</g>\n",
       "</g>\n",
       "</svg>\n"
      ],
      "text/plain": [
       "<graphviz.dot.Digraph at 0x1c23c79e50>"
      ]
     },
     "execution_count": 30,
     "metadata": {},
     "output_type": "execute_result"
    }
   ],
   "source": [
    "V_WTW.draw()"
   ]
  },
  {
   "cell_type": "code",
   "execution_count": 31,
   "metadata": {},
   "outputs": [
    {
     "name": "stderr",
     "output_type": "stream",
     "text": [
      "/Users/mobouzaghrane/opt/anaconda3/lib/python3.7/site-packages/numpy/core/fromnumeric.py:2495: FutureWarning: Method .ptp is deprecated and will be removed in a future version. Use numpy.ptp instead.\n",
      "  return ptp(axis=axis, out=out, **kwargs)\n"
     ]
    }
   ],
   "source": [
    "WTW_Df = bike_data_long[bike_data_long['mode_id']==4]\n",
    "WTW_Df.reset_index(drop=True,inplace=True)\n",
    "WTW_Reg = FitAlternativeRegression(regressions={1:('total_travel_time','total_travel_cost')},\n",
    "                                           reg_types={1:'linear'},\n",
    "                                           data = WTW_Df)"
   ]
  },
  {
   "cell_type": "markdown",
   "metadata": {},
   "source": [
    "### 3.3.5. Drive-Transit-Walk "
   ]
  },
  {
   "cell_type": "code",
   "execution_count": 32,
   "metadata": {},
   "outputs": [
    {
     "data": {
      "image/svg+xml": [
       "<?xml version=\"1.0\" encoding=\"UTF-8\" standalone=\"no\"?>\n",
       "<!DOCTYPE svg PUBLIC \"-//W3C//DTD SVG 1.1//EN\"\n",
       " \"http://www.w3.org/Graphics/SVG/1.1/DTD/svg11.dtd\">\n",
       "<!-- Generated by graphviz version 2.42.3 (20191010.1750)\n",
       " -->\n",
       "<!-- Title: %3 Pages: 1 -->\n",
       "<svg width=\"203pt\" height=\"188pt\"\n",
       " viewBox=\"0.00 0.00 202.80 188.00\" xmlns=\"http://www.w3.org/2000/svg\" xmlns:xlink=\"http://www.w3.org/1999/xlink\">\n",
       "<g id=\"graph0\" class=\"graph\" transform=\"scale(1 1) rotate(0) translate(4 184)\">\n",
       "<title>%3</title>\n",
       "<polygon fill=\"white\" stroke=\"transparent\" points=\"-4,4 -4,-184 198.8,-184 198.8,4 -4,4\"/>\n",
       "<!-- Utility (DTW) -->\n",
       "<g id=\"node1\" class=\"node\">\n",
       "<title>Utility (DTW)</title>\n",
       "<ellipse fill=\"none\" stroke=\"black\" cx=\"73.39\" cy=\"-18\" rx=\"61.37\" ry=\"18\"/>\n",
       "<text text-anchor=\"middle\" x=\"73.39\" y=\"-13.8\" font-family=\"Times,serif\" font-size=\"14.00\">Utility (DTW)</text>\n",
       "</g>\n",
       "<!-- Total Travel Cost -->\n",
       "<g id=\"node2\" class=\"node\">\n",
       "<title>Total Travel Cost</title>\n",
       "<ellipse fill=\"none\" stroke=\"black\" cx=\"123.39\" cy=\"-90\" rx=\"71.31\" ry=\"18\"/>\n",
       "<text text-anchor=\"middle\" x=\"123.39\" y=\"-85.8\" font-family=\"Times,serif\" font-size=\"14.00\">Total Travel Cost</text>\n",
       "</g>\n",
       "<!-- Total Travel Cost&#45;&gt;Utility (DTW) -->\n",
       "<g id=\"edge3\" class=\"edge\">\n",
       "<title>Total Travel Cost&#45;&gt;Utility (DTW)</title>\n",
       "<path fill=\"none\" stroke=\"black\" d=\"M111.28,-72.05C105.27,-63.63 97.87,-53.28 91.22,-43.97\"/>\n",
       "<polygon fill=\"black\" stroke=\"black\" points=\"94.04,-41.89 85.38,-35.79 88.35,-45.96 94.04,-41.89\"/>\n",
       "</g>\n",
       "<!-- Total Travel Time -->\n",
       "<g id=\"node3\" class=\"node\">\n",
       "<title>Total Travel Time</title>\n",
       "<ellipse fill=\"none\" stroke=\"black\" cx=\"73.39\" cy=\"-162\" rx=\"73.28\" ry=\"18\"/>\n",
       "<text text-anchor=\"middle\" x=\"73.39\" y=\"-157.8\" font-family=\"Times,serif\" font-size=\"14.00\">Total Travel Time</text>\n",
       "</g>\n",
       "<!-- Total Travel Time&#45;&gt;Utility (DTW) -->\n",
       "<g id=\"edge2\" class=\"edge\">\n",
       "<title>Total Travel Time&#45;&gt;Utility (DTW)</title>\n",
       "<path fill=\"none\" stroke=\"black\" d=\"M60.66,-143.85C54.1,-133.92 46.78,-120.88 43.39,-108 39.31,-92.53 39.31,-87.47 43.39,-72 45.92,-62.39 50.64,-52.69 55.59,-44.26\"/>\n",
       "<polygon fill=\"black\" stroke=\"black\" points=\"58.63,-46.02 60.97,-35.68 52.7,-42.3 58.63,-46.02\"/>\n",
       "</g>\n",
       "<!-- Total Travel Time&#45;&gt;Total Travel Cost -->\n",
       "<g id=\"edge1\" class=\"edge\">\n",
       "<title>Total Travel Time&#45;&gt;Total Travel Cost</title>\n",
       "<path fill=\"none\" stroke=\"black\" d=\"M85.49,-144.05C91.51,-135.63 98.9,-125.28 105.56,-115.97\"/>\n",
       "<polygon fill=\"black\" stroke=\"black\" points=\"108.43,-117.96 111.4,-107.79 102.74,-113.89 108.43,-117.96\"/>\n",
       "</g>\n",
       "</g>\n",
       "</svg>\n"
      ],
      "text/plain": [
       "<graphviz.dot.Digraph at 0x1c23d437d0>"
      ]
     },
     "execution_count": 32,
     "metadata": {},
     "output_type": "execute_result"
    }
   ],
   "source": [
    "V_DTW.draw()"
   ]
  },
  {
   "cell_type": "code",
   "execution_count": 33,
   "metadata": {},
   "outputs": [
    {
     "name": "stderr",
     "output_type": "stream",
     "text": [
      "/Users/mobouzaghrane/opt/anaconda3/lib/python3.7/site-packages/numpy/core/fromnumeric.py:2495: FutureWarning: Method .ptp is deprecated and will be removed in a future version. Use numpy.ptp instead.\n",
      "  return ptp(axis=axis, out=out, **kwargs)\n"
     ]
    }
   ],
   "source": [
    "DTW_Df = bike_data_long[bike_data_long['mode_id']==5]\n",
    "DTW_Df.reset_index(drop=True,inplace=True)\n",
    "DTW_Reg = FitAlternativeRegression(regressions={1:('total_travel_time','total_travel_cost')},\n",
    "                                           reg_types={1:'linear'},\n",
    "                                           data = DTW_Df)"
   ]
  },
  {
   "cell_type": "markdown",
   "metadata": {},
   "source": [
    "### 3.3.6. Walk-Transit-Drive "
   ]
  },
  {
   "cell_type": "code",
   "execution_count": 34,
   "metadata": {},
   "outputs": [
    {
     "data": {
      "image/svg+xml": [
       "<?xml version=\"1.0\" encoding=\"UTF-8\" standalone=\"no\"?>\n",
       "<!DOCTYPE svg PUBLIC \"-//W3C//DTD SVG 1.1//EN\"\n",
       " \"http://www.w3.org/Graphics/SVG/1.1/DTD/svg11.dtd\">\n",
       "<!-- Generated by graphviz version 2.42.3 (20191010.1750)\n",
       " -->\n",
       "<!-- Title: %3 Pages: 1 -->\n",
       "<svg width=\"203pt\" height=\"188pt\"\n",
       " viewBox=\"0.00 0.00 202.80 188.00\" xmlns=\"http://www.w3.org/2000/svg\" xmlns:xlink=\"http://www.w3.org/1999/xlink\">\n",
       "<g id=\"graph0\" class=\"graph\" transform=\"scale(1 1) rotate(0) translate(4 184)\">\n",
       "<title>%3</title>\n",
       "<polygon fill=\"white\" stroke=\"transparent\" points=\"-4,4 -4,-184 198.8,-184 198.8,4 -4,4\"/>\n",
       "<!-- Utility (WTD) -->\n",
       "<g id=\"node1\" class=\"node\">\n",
       "<title>Utility (WTD)</title>\n",
       "<ellipse fill=\"none\" stroke=\"black\" cx=\"73.39\" cy=\"-18\" rx=\"61.37\" ry=\"18\"/>\n",
       "<text text-anchor=\"middle\" x=\"73.39\" y=\"-13.8\" font-family=\"Times,serif\" font-size=\"14.00\">Utility (WTD)</text>\n",
       "</g>\n",
       "<!-- Total Travel Cost -->\n",
       "<g id=\"node2\" class=\"node\">\n",
       "<title>Total Travel Cost</title>\n",
       "<ellipse fill=\"none\" stroke=\"black\" cx=\"123.39\" cy=\"-90\" rx=\"71.31\" ry=\"18\"/>\n",
       "<text text-anchor=\"middle\" x=\"123.39\" y=\"-85.8\" font-family=\"Times,serif\" font-size=\"14.00\">Total Travel Cost</text>\n",
       "</g>\n",
       "<!-- Total Travel Cost&#45;&gt;Utility (WTD) -->\n",
       "<g id=\"edge3\" class=\"edge\">\n",
       "<title>Total Travel Cost&#45;&gt;Utility (WTD)</title>\n",
       "<path fill=\"none\" stroke=\"black\" d=\"M111.28,-72.05C105.27,-63.63 97.87,-53.28 91.22,-43.97\"/>\n",
       "<polygon fill=\"black\" stroke=\"black\" points=\"94.04,-41.89 85.38,-35.79 88.35,-45.96 94.04,-41.89\"/>\n",
       "</g>\n",
       "<!-- Total Travel Time -->\n",
       "<g id=\"node3\" class=\"node\">\n",
       "<title>Total Travel Time</title>\n",
       "<ellipse fill=\"none\" stroke=\"black\" cx=\"73.39\" cy=\"-162\" rx=\"73.28\" ry=\"18\"/>\n",
       "<text text-anchor=\"middle\" x=\"73.39\" y=\"-157.8\" font-family=\"Times,serif\" font-size=\"14.00\">Total Travel Time</text>\n",
       "</g>\n",
       "<!-- Total Travel Time&#45;&gt;Utility (WTD) -->\n",
       "<g id=\"edge2\" class=\"edge\">\n",
       "<title>Total Travel Time&#45;&gt;Utility (WTD)</title>\n",
       "<path fill=\"none\" stroke=\"black\" d=\"M60.66,-143.85C54.1,-133.92 46.78,-120.88 43.39,-108 39.31,-92.53 39.31,-87.47 43.39,-72 45.92,-62.39 50.64,-52.69 55.59,-44.26\"/>\n",
       "<polygon fill=\"black\" stroke=\"black\" points=\"58.63,-46.02 60.97,-35.68 52.7,-42.3 58.63,-46.02\"/>\n",
       "</g>\n",
       "<!-- Total Travel Time&#45;&gt;Total Travel Cost -->\n",
       "<g id=\"edge1\" class=\"edge\">\n",
       "<title>Total Travel Time&#45;&gt;Total Travel Cost</title>\n",
       "<path fill=\"none\" stroke=\"black\" d=\"M85.49,-144.05C91.51,-135.63 98.9,-125.28 105.56,-115.97\"/>\n",
       "<polygon fill=\"black\" stroke=\"black\" points=\"108.43,-117.96 111.4,-107.79 102.74,-113.89 108.43,-117.96\"/>\n",
       "</g>\n",
       "</g>\n",
       "</svg>\n"
      ],
      "text/plain": [
       "<graphviz.dot.Digraph at 0x1c23c80350>"
      ]
     },
     "execution_count": 34,
     "metadata": {},
     "output_type": "execute_result"
    }
   ],
   "source": [
    "V_WTD.draw()"
   ]
  },
  {
   "cell_type": "code",
   "execution_count": 35,
   "metadata": {},
   "outputs": [
    {
     "name": "stderr",
     "output_type": "stream",
     "text": [
      "/Users/mobouzaghrane/opt/anaconda3/lib/python3.7/site-packages/numpy/core/fromnumeric.py:2495: FutureWarning: Method .ptp is deprecated and will be removed in a future version. Use numpy.ptp instead.\n",
      "  return ptp(axis=axis, out=out, **kwargs)\n"
     ]
    }
   ],
   "source": [
    "WTD_Df = bike_data_long[bike_data_long['mode_id']==6]\n",
    "WTD_Df.reset_index(drop=True,inplace=True)\n",
    "WTD_Reg = FitAlternativeRegression(regressions={1:('total_travel_time','total_travel_cost')},\n",
    "                                           reg_types={1:'linear'},\n",
    "                                           data = WTD_Df)"
   ]
  },
  {
   "cell_type": "markdown",
   "metadata": {},
   "source": [
    "### 3.3.7. Walk"
   ]
  },
  {
   "cell_type": "code",
   "execution_count": 36,
   "metadata": {},
   "outputs": [
    {
     "data": {
      "image/svg+xml": [
       "<?xml version=\"1.0\" encoding=\"UTF-8\" standalone=\"no\"?>\n",
       "<!DOCTYPE svg PUBLIC \"-//W3C//DTD SVG 1.1//EN\"\n",
       " \"http://www.w3.org/Graphics/SVG/1.1/DTD/svg11.dtd\">\n",
       "<!-- Generated by graphviz version 2.42.3 (20191010.1750)\n",
       " -->\n",
       "<!-- Title: %3 Pages: 1 -->\n",
       "<svg width=\"180pt\" height=\"116pt\"\n",
       " viewBox=\"0.00 0.00 180.25 116.00\" xmlns=\"http://www.w3.org/2000/svg\" xmlns:xlink=\"http://www.w3.org/1999/xlink\">\n",
       "<g id=\"graph0\" class=\"graph\" transform=\"scale(1 1) rotate(0) translate(4 112)\">\n",
       "<title>%3</title>\n",
       "<polygon fill=\"white\" stroke=\"transparent\" points=\"-4,4 -4,-112 176.25,-112 176.25,4 -4,4\"/>\n",
       "<!-- Utility (Walk) -->\n",
       "<g id=\"node1\" class=\"node\">\n",
       "<title>Utility (Walk)</title>\n",
       "<ellipse fill=\"none\" stroke=\"black\" cx=\"86.13\" cy=\"-18\" rx=\"60\" ry=\"18\"/>\n",
       "<text text-anchor=\"middle\" x=\"86.13\" y=\"-13.8\" font-family=\"Times,serif\" font-size=\"14.00\">Utility (Walk)</text>\n",
       "</g>\n",
       "<!-- Total Travel Distance -->\n",
       "<g id=\"node2\" class=\"node\">\n",
       "<title>Total Travel Distance</title>\n",
       "<ellipse fill=\"none\" stroke=\"black\" cx=\"86.13\" cy=\"-90\" rx=\"86.25\" ry=\"18\"/>\n",
       "<text text-anchor=\"middle\" x=\"86.13\" y=\"-85.8\" font-family=\"Times,serif\" font-size=\"14.00\">Total Travel Distance</text>\n",
       "</g>\n",
       "<!-- Total Travel Distance&#45;&gt;Utility (Walk) -->\n",
       "<g id=\"edge1\" class=\"edge\">\n",
       "<title>Total Travel Distance&#45;&gt;Utility (Walk)</title>\n",
       "<path fill=\"none\" stroke=\"black\" d=\"M86.13,-71.7C86.13,-63.98 86.13,-54.71 86.13,-46.11\"/>\n",
       "<polygon fill=\"black\" stroke=\"black\" points=\"89.63,-46.1 86.13,-36.1 82.63,-46.1 89.63,-46.1\"/>\n",
       "</g>\n",
       "</g>\n",
       "</svg>\n"
      ],
      "text/plain": [
       "<graphviz.dot.Digraph at 0x11d311f50>"
      ]
     },
     "execution_count": 36,
     "metadata": {},
     "output_type": "execute_result"
    }
   ],
   "source": [
    "V_Walk.draw()"
   ]
  },
  {
   "cell_type": "markdown",
   "metadata": {},
   "source": [
    "No regressions needed under the Walk alternative since the travel distance will be simulated based on the original dataset and directly affects the utility function"
   ]
  },
  {
   "cell_type": "markdown",
   "metadata": {},
   "source": [
    "### 3.3.8. Bike"
   ]
  },
  {
   "cell_type": "code",
   "execution_count": 37,
   "metadata": {},
   "outputs": [
    {
     "data": {
      "image/svg+xml": [
       "<?xml version=\"1.0\" encoding=\"UTF-8\" standalone=\"no\"?>\n",
       "<!DOCTYPE svg PUBLIC \"-//W3C//DTD SVG 1.1//EN\"\n",
       " \"http://www.w3.org/Graphics/SVG/1.1/DTD/svg11.dtd\">\n",
       "<!-- Generated by graphviz version 2.42.3 (20191010.1750)\n",
       " -->\n",
       "<!-- Title: %3 Pages: 1 -->\n",
       "<svg width=\"180pt\" height=\"116pt\"\n",
       " viewBox=\"0.00 0.00 180.25 116.00\" xmlns=\"http://www.w3.org/2000/svg\" xmlns:xlink=\"http://www.w3.org/1999/xlink\">\n",
       "<g id=\"graph0\" class=\"graph\" transform=\"scale(1 1) rotate(0) translate(4 112)\">\n",
       "<title>%3</title>\n",
       "<polygon fill=\"white\" stroke=\"transparent\" points=\"-4,4 -4,-112 176.25,-112 176.25,4 -4,4\"/>\n",
       "<!-- Utility (Bike) -->\n",
       "<g id=\"node1\" class=\"node\">\n",
       "<title>Utility (Bike)</title>\n",
       "<ellipse fill=\"none\" stroke=\"black\" cx=\"86.13\" cy=\"-18\" rx=\"58.01\" ry=\"18\"/>\n",
       "<text text-anchor=\"middle\" x=\"86.13\" y=\"-13.8\" font-family=\"Times,serif\" font-size=\"14.00\">Utility (Bike)</text>\n",
       "</g>\n",
       "<!-- Total Travel Distance -->\n",
       "<g id=\"node2\" class=\"node\">\n",
       "<title>Total Travel Distance</title>\n",
       "<ellipse fill=\"none\" stroke=\"black\" cx=\"86.13\" cy=\"-90\" rx=\"86.25\" ry=\"18\"/>\n",
       "<text text-anchor=\"middle\" x=\"86.13\" y=\"-85.8\" font-family=\"Times,serif\" font-size=\"14.00\">Total Travel Distance</text>\n",
       "</g>\n",
       "<!-- Total Travel Distance&#45;&gt;Utility (Bike) -->\n",
       "<g id=\"edge1\" class=\"edge\">\n",
       "<title>Total Travel Distance&#45;&gt;Utility (Bike)</title>\n",
       "<path fill=\"none\" stroke=\"black\" d=\"M86.13,-71.7C86.13,-63.98 86.13,-54.71 86.13,-46.11\"/>\n",
       "<polygon fill=\"black\" stroke=\"black\" points=\"89.63,-46.1 86.13,-36.1 82.63,-46.1 89.63,-46.1\"/>\n",
       "</g>\n",
       "</g>\n",
       "</svg>\n"
      ],
      "text/plain": [
       "<graphviz.dot.Digraph at 0x1c23c8ea90>"
      ]
     },
     "execution_count": 37,
     "metadata": {},
     "output_type": "execute_result"
    }
   ],
   "source": [
    "V_Bike.draw()"
   ]
  },
  {
   "cell_type": "raw",
   "metadata": {},
   "source": [
    "No regressions needed under the Bike alternative since the travel distance will be simulated based on the original dataset and directly affects the utility function"
   ]
  },
  {
   "cell_type": "markdown",
   "metadata": {},
   "source": [
    "## 3.4. Simulate Nodes without Parents "
   ]
  },
  {
   "cell_type": "code",
   "execution_count": 38,
   "metadata": {},
   "outputs": [],
   "source": [
    "sim_size = 8000\n",
    "sim_bike_data_no_parent = SimNodeNoParent(bike_data_params, size=sim_size)"
   ]
  },
  {
   "cell_type": "markdown",
   "metadata": {},
   "source": [
    "## 3.5. Simulate data for each causal graph"
   ]
  },
  {
   "cell_type": "code",
   "execution_count": 39,
   "metadata": {},
   "outputs": [],
   "source": [
    "# Create a copy of the data to avoid any issues\n",
    "sim_bike_data_wide = copy.deepcopy(sim_bike_data_no_parent)"
   ]
  },
  {
   "cell_type": "markdown",
   "metadata": {},
   "source": [
    "### 3.5.1. Drive Alone "
   ]
  },
  {
   "cell_type": "code",
   "execution_count": 40,
   "metadata": {},
   "outputs": [
    {
     "data": {
      "image/svg+xml": [
       "<?xml version=\"1.0\" encoding=\"UTF-8\" standalone=\"no\"?>\n",
       "<!DOCTYPE svg PUBLIC \"-//W3C//DTD SVG 1.1//EN\"\n",
       " \"http://www.w3.org/Graphics/SVG/1.1/DTD/svg11.dtd\">\n",
       "<!-- Generated by graphviz version 2.42.3 (20191010.1750)\n",
       " -->\n",
       "<!-- Title: %3 Pages: 1 -->\n",
       "<svg width=\"718pt\" height=\"188pt\"\n",
       " viewBox=\"0.00 0.00 717.93 188.00\" xmlns=\"http://www.w3.org/2000/svg\" xmlns:xlink=\"http://www.w3.org/1999/xlink\">\n",
       "<g id=\"graph0\" class=\"graph\" transform=\"scale(1 1) rotate(0) translate(4 184)\">\n",
       "<title>%3</title>\n",
       "<polygon fill=\"white\" stroke=\"transparent\" points=\"-4,4 -4,-184 713.93,-184 713.93,4 -4,4\"/>\n",
       "<!-- Total Travel Cost -->\n",
       "<g id=\"node1\" class=\"node\">\n",
       "<title>Total Travel Cost</title>\n",
       "<ellipse fill=\"none\" stroke=\"black\" cx=\"71.41\" cy=\"-90\" rx=\"71.31\" ry=\"18\"/>\n",
       "<text text-anchor=\"middle\" x=\"71.41\" y=\"-85.8\" font-family=\"Times,serif\" font-size=\"14.00\">Total Travel Cost</text>\n",
       "</g>\n",
       "<!-- Utility (Drive Alone) -->\n",
       "<g id=\"node4\" class=\"node\">\n",
       "<title>Utility (Drive Alone)</title>\n",
       "<ellipse fill=\"none\" stroke=\"black\" cx=\"315.41\" cy=\"-18\" rx=\"84.55\" ry=\"18\"/>\n",
       "<text text-anchor=\"middle\" x=\"315.41\" y=\"-13.8\" font-family=\"Times,serif\" font-size=\"14.00\">Utility (Drive Alone)</text>\n",
       "</g>\n",
       "<!-- Total Travel Cost&#45;&gt;Utility (Drive Alone) -->\n",
       "<g id=\"edge4\" class=\"edge\">\n",
       "<title>Total Travel Cost&#45;&gt;Utility (Drive Alone)</title>\n",
       "<path fill=\"none\" stroke=\"black\" d=\"M116.73,-76C156.37,-64.63 214.16,-48.05 257.21,-35.7\"/>\n",
       "<polygon fill=\"black\" stroke=\"black\" points=\"258.34,-39.01 266.98,-32.89 256.41,-32.29 258.34,-39.01\"/>\n",
       "</g>\n",
       "<!-- Total Travel Time -->\n",
       "<g id=\"node2\" class=\"node\">\n",
       "<title>Total Travel Time</title>\n",
       "<ellipse fill=\"none\" stroke=\"black\" cx=\"234.41\" cy=\"-90\" rx=\"73.28\" ry=\"18\"/>\n",
       "<text text-anchor=\"middle\" x=\"234.41\" y=\"-85.8\" font-family=\"Times,serif\" font-size=\"14.00\">Total Travel Time</text>\n",
       "</g>\n",
       "<!-- Total Travel Time&#45;&gt;Utility (Drive Alone) -->\n",
       "<g id=\"edge3\" class=\"edge\">\n",
       "<title>Total Travel Time&#45;&gt;Utility (Drive Alone)</title>\n",
       "<path fill=\"none\" stroke=\"black\" d=\"M253.6,-72.41C264.02,-63.41 277.06,-52.14 288.48,-42.27\"/>\n",
       "<polygon fill=\"black\" stroke=\"black\" points=\"290.79,-44.9 296.07,-35.71 286.21,-39.6 290.79,-44.9\"/>\n",
       "</g>\n",
       "<!-- Number of Autos -->\n",
       "<g id=\"node3\" class=\"node\">\n",
       "<title>Number of Autos</title>\n",
       "<ellipse fill=\"none\" stroke=\"black\" cx=\"397.41\" cy=\"-90\" rx=\"71.54\" ry=\"18\"/>\n",
       "<text text-anchor=\"middle\" x=\"397.41\" y=\"-85.8\" font-family=\"Times,serif\" font-size=\"14.00\">Number of Autos</text>\n",
       "</g>\n",
       "<!-- Number of Autos&#45;&gt;Utility (Drive Alone) -->\n",
       "<g id=\"edge5\" class=\"edge\">\n",
       "<title>Number of Autos&#45;&gt;Utility (Drive Alone)</title>\n",
       "<path fill=\"none\" stroke=\"black\" d=\"M377.97,-72.41C367.43,-63.41 354.23,-52.14 342.67,-42.27\"/>\n",
       "<polygon fill=\"black\" stroke=\"black\" points=\"344.86,-39.54 334.98,-35.71 340.32,-44.87 344.86,-39.54\"/>\n",
       "</g>\n",
       "<!-- Number of Licensed Drivers -->\n",
       "<g id=\"node5\" class=\"node\">\n",
       "<title>Number of Licensed Drivers</title>\n",
       "<ellipse fill=\"none\" stroke=\"black\" cx=\"598.41\" cy=\"-90\" rx=\"111.55\" ry=\"18\"/>\n",
       "<text text-anchor=\"middle\" x=\"598.41\" y=\"-85.8\" font-family=\"Times,serif\" font-size=\"14.00\">Number of Licensed Drivers</text>\n",
       "</g>\n",
       "<!-- Number of Licensed Drivers&#45;&gt;Utility (Drive Alone) -->\n",
       "<g id=\"edge6\" class=\"edge\">\n",
       "<title>Number of Licensed Drivers&#45;&gt;Utility (Drive Alone)</title>\n",
       "<path fill=\"none\" stroke=\"black\" d=\"M540.11,-74.58C492.88,-62.9 426.47,-46.47 378.1,-34.51\"/>\n",
       "<polygon fill=\"black\" stroke=\"black\" points=\"378.92,-31.1 368.37,-32.1 377.24,-37.9 378.92,-31.1\"/>\n",
       "</g>\n",
       "<!-- Total Travel Distance -->\n",
       "<g id=\"node6\" class=\"node\">\n",
       "<title>Total Travel Distance</title>\n",
       "<ellipse fill=\"none\" stroke=\"black\" cx=\"152.41\" cy=\"-162\" rx=\"86.25\" ry=\"18\"/>\n",
       "<text text-anchor=\"middle\" x=\"152.41\" y=\"-157.8\" font-family=\"Times,serif\" font-size=\"14.00\">Total Travel Distance</text>\n",
       "</g>\n",
       "<!-- Total Travel Distance&#45;&gt;Total Travel Cost -->\n",
       "<g id=\"edge2\" class=\"edge\">\n",
       "<title>Total Travel Distance&#45;&gt;Total Travel Cost</title>\n",
       "<path fill=\"none\" stroke=\"black\" d=\"M133.21,-144.41C122.72,-135.34 109.56,-123.97 98.09,-114.06\"/>\n",
       "<polygon fill=\"black\" stroke=\"black\" points=\"100.32,-111.36 90.46,-107.47 95.74,-116.66 100.32,-111.36\"/>\n",
       "</g>\n",
       "<!-- Total Travel Distance&#45;&gt;Total Travel Time -->\n",
       "<g id=\"edge1\" class=\"edge\">\n",
       "<title>Total Travel Distance&#45;&gt;Total Travel Time</title>\n",
       "<path fill=\"none\" stroke=\"black\" d=\"M171.84,-144.41C182.46,-135.34 195.78,-123.97 207.4,-114.06\"/>\n",
       "<polygon fill=\"black\" stroke=\"black\" points=\"209.78,-116.62 215.11,-107.47 205.24,-111.3 209.78,-116.62\"/>\n",
       "</g>\n",
       "</g>\n",
       "</svg>\n"
      ],
      "text/plain": [
       "<graphviz.dot.Digraph at 0x1c23c7bcd0>"
      ]
     },
     "execution_count": 40,
     "metadata": {},
     "output_type": "execute_result"
    }
   ],
   "source": [
    "V_Drive_Alone.draw()"
   ]
  },
  {
   "cell_type": "code",
   "execution_count": 41,
   "metadata": {},
   "outputs": [],
   "source": [
    "sim_bike_data_wide['total_travel_time_drive_alone'] = Drive_Alone_Reg['total_travel_time_on_total_travel_distance'].params[0] +\\\n",
    "                                                  Drive_Alone_Reg['total_travel_time_on_total_travel_distance'].params[1] *\\\n",
    "                                                  sim_bike_data_wide['total_travel_distance_drive_alone'] +\\\n",
    "                                                  np.random.normal(loc=0,\n",
    "                                                                   scale = Drive_Alone_Reg['total_travel_time_on_total_travel_distance'].resid.std(),\n",
    "                                                                   size = sim_size)\n",
    "sim_bike_data_wide['total_travel_cost_drive_alone'] = Drive_Alone_Reg['total_travel_cost_on_total_travel_distance'].params[0] +\\\n",
    "                                                  Drive_Alone_Reg['total_travel_cost_on_total_travel_distance'].params[1] *\\\n",
    "                                                  sim_bike_data_wide['total_travel_distance_drive_alone'] +\\\n",
    "                                                  np.random.normal(loc=0,\n",
    "                                                                   scale = Drive_Alone_Reg['total_travel_cost_on_total_travel_distance'].resid.std(),\n",
    "                                                                   size = sim_size)"
   ]
  },
  {
   "cell_type": "code",
   "execution_count": 42,
   "metadata": {},
   "outputs": [],
   "source": [
    "# ## Loading data into StructuralCausalModel\n",
    "# Drive_Alone_Model = StructuralCausalModel({\n",
    "#     \"total_travel_distance\": lambda   n_samples: bike_data_no_parent['total_travel_distance_drive_alone'],\n",
    "#     \"total_travel_time\": lambda total_travel_distance, n_samples: Drive_Alone_Reg['total_travel_time_on_total_travel_distance'].params[0] + \n",
    "#                                                                   Drive_Alone_Reg['total_travel_time_on_total_travel_distance'].params[1] * \n",
    "#                                                                   bike_data_no_parent['total_travel_distance_drive_alone'] + \n",
    "#                                                                   np.random.normal(loc=0,\n",
    "#                                                                                    scale = Drive_Alone_Reg['total_travel_time_on_total_travel_distance'].resid.std(),\n",
    "#                                                                                    size = n_samples),\n",
    "#     \"total_travel_cost\": lambda total_travel_distance, n_samples: Drive_Alone_Reg['total_travel_cost_on_total_travel_distance'].params[0] + \n",
    "#                                                                   Drive_Alone_Reg['total_travel_cost_on_total_travel_distance'].params[1] * \n",
    "#                                                                   bike_data_no_parent['total_travel_distance_drive_alone'] + \n",
    "#                                                                   np.random.normal(loc=0,\n",
    "#                                                                                    scale = Drive_Alone_Reg['total_travel_cost_on_total_travel_distance'].resid.std(),\n",
    "#                                                                                    size = n_samples),\n",
    "#     \"num_licensed_drivers\": lambda n_samples: bike_data_no_parent['num_licensed_drivers'],\n",
    "#     \"num_cars\": lambda n_samples: bike_data_no_parent['num_cars'],\n",
    "#     \"utility_drive_alone\": lambda n_samples: np.zeros(shape=n_samples)\n",
    "# })\n",
    "\n",
    "# Drive_Alone_Model.sample(n_samples=4000).head()"
   ]
  },
  {
   "cell_type": "markdown",
   "metadata": {},
   "source": [
    "### 3.5.2. Shared-2 "
   ]
  },
  {
   "cell_type": "code",
   "execution_count": 43,
   "metadata": {},
   "outputs": [
    {
     "data": {
      "image/svg+xml": [
       "<?xml version=\"1.0\" encoding=\"UTF-8\" standalone=\"no\"?>\n",
       "<!DOCTYPE svg PUBLIC \"-//W3C//DTD SVG 1.1//EN\"\n",
       " \"http://www.w3.org/Graphics/SVG/1.1/DTD/svg11.dtd\">\n",
       "<!-- Generated by graphviz version 2.42.3 (20191010.1750)\n",
       " -->\n",
       "<!-- Title: %3 Pages: 1 -->\n",
       "<svg width=\"1166pt\" height=\"188pt\"\n",
       " viewBox=\"0.00 0.00 1166.44 188.00\" xmlns=\"http://www.w3.org/2000/svg\" xmlns:xlink=\"http://www.w3.org/1999/xlink\">\n",
       "<g id=\"graph0\" class=\"graph\" transform=\"scale(1 1) rotate(0) translate(4 184)\">\n",
       "<title>%3</title>\n",
       "<polygon fill=\"white\" stroke=\"transparent\" points=\"-4,4 -4,-184 1162.44,-184 1162.44,4 -4,4\"/>\n",
       "<!-- Number of Kids -->\n",
       "<g id=\"node1\" class=\"node\">\n",
       "<title>Number of Kids</title>\n",
       "<ellipse fill=\"none\" stroke=\"black\" cx=\"67.58\" cy=\"-90\" rx=\"67.66\" ry=\"18\"/>\n",
       "<text text-anchor=\"middle\" x=\"67.58\" y=\"-85.8\" font-family=\"Times,serif\" font-size=\"14.00\">Number of Kids</text>\n",
       "</g>\n",
       "<!-- Utility (Shared Ride 2) -->\n",
       "<g id=\"node8\" class=\"node\">\n",
       "<title>Utility (Shared Ride 2)</title>\n",
       "<ellipse fill=\"none\" stroke=\"black\" cx=\"550.58\" cy=\"-18\" rx=\"91.31\" ry=\"18\"/>\n",
       "<text text-anchor=\"middle\" x=\"550.58\" y=\"-13.8\" font-family=\"Times,serif\" font-size=\"14.00\">Utility (Shared Ride 2)</text>\n",
       "</g>\n",
       "<!-- Number of Kids&#45;&gt;Utility (Shared Ride 2) -->\n",
       "<g id=\"edge9\" class=\"edge\">\n",
       "<title>Number of Kids&#45;&gt;Utility (Shared Ride 2)</title>\n",
       "<path fill=\"none\" stroke=\"black\" d=\"M116.75,-77.47C125.97,-75.5 135.55,-73.58 144.58,-72 253.13,-52.97 379.11,-37.55 461.59,-28.35\"/>\n",
       "<polygon fill=\"black\" stroke=\"black\" points=\"462.13,-31.81 471.68,-27.23 461.35,-24.85 462.13,-31.81\"/>\n",
       "</g>\n",
       "<!-- Total Travel Cost -->\n",
       "<g id=\"node2\" class=\"node\">\n",
       "<title>Total Travel Cost</title>\n",
       "<ellipse fill=\"none\" stroke=\"black\" cx=\"224.58\" cy=\"-90\" rx=\"71.31\" ry=\"18\"/>\n",
       "<text text-anchor=\"middle\" x=\"224.58\" y=\"-85.8\" font-family=\"Times,serif\" font-size=\"14.00\">Total Travel Cost</text>\n",
       "</g>\n",
       "<!-- Total Travel Cost&#45;&gt;Utility (Shared Ride 2) -->\n",
       "<g id=\"edge4\" class=\"edge\">\n",
       "<title>Total Travel Cost&#45;&gt;Utility (Shared Ride 2)</title>\n",
       "<path fill=\"none\" stroke=\"black\" d=\"M276.96,-77.75C332.37,-65.86 420.07,-47.02 481.2,-33.9\"/>\n",
       "<polygon fill=\"black\" stroke=\"black\" points=\"482.11,-37.28 491.15,-31.76 480.64,-30.44 482.11,-37.28\"/>\n",
       "</g>\n",
       "<!-- Total Travel Distance -->\n",
       "<g id=\"node3\" class=\"node\">\n",
       "<title>Total Travel Distance</title>\n",
       "<ellipse fill=\"none\" stroke=\"black\" cx=\"305.58\" cy=\"-162\" rx=\"86.25\" ry=\"18\"/>\n",
       "<text text-anchor=\"middle\" x=\"305.58\" y=\"-157.8\" font-family=\"Times,serif\" font-size=\"14.00\">Total Travel Distance</text>\n",
       "</g>\n",
       "<!-- Total Travel Distance&#45;&gt;Total Travel Cost -->\n",
       "<g id=\"edge3\" class=\"edge\">\n",
       "<title>Total Travel Distance&#45;&gt;Total Travel Cost</title>\n",
       "<path fill=\"none\" stroke=\"black\" d=\"M286.38,-144.41C275.89,-135.34 262.74,-123.97 251.26,-114.06\"/>\n",
       "<polygon fill=\"black\" stroke=\"black\" points=\"253.49,-111.36 243.64,-107.47 248.92,-116.66 253.49,-111.36\"/>\n",
       "</g>\n",
       "<!-- Total Travel Time -->\n",
       "<g id=\"node4\" class=\"node\">\n",
       "<title>Total Travel Time</title>\n",
       "<ellipse fill=\"none\" stroke=\"black\" cx=\"387.58\" cy=\"-90\" rx=\"73.28\" ry=\"18\"/>\n",
       "<text text-anchor=\"middle\" x=\"387.58\" y=\"-85.8\" font-family=\"Times,serif\" font-size=\"14.00\">Total Travel Time</text>\n",
       "</g>\n",
       "<!-- Total Travel Distance&#45;&gt;Total Travel Time -->\n",
       "<g id=\"edge2\" class=\"edge\">\n",
       "<title>Total Travel Distance&#45;&gt;Total Travel Time</title>\n",
       "<path fill=\"none\" stroke=\"black\" d=\"M325.01,-144.41C335.63,-135.34 348.95,-123.97 360.57,-114.06\"/>\n",
       "<polygon fill=\"black\" stroke=\"black\" points=\"362.95,-116.62 368.29,-107.47 358.41,-111.3 362.95,-116.62\"/>\n",
       "</g>\n",
       "<!-- Total Travel Time&#45;&gt;Utility (Shared Ride 2) -->\n",
       "<g id=\"edge1\" class=\"edge\">\n",
       "<title>Total Travel Time&#45;&gt;Utility (Shared Ride 2)</title>\n",
       "<path fill=\"none\" stroke=\"black\" d=\"M422.55,-73.98C446.63,-63.64 478.85,-49.8 504.95,-38.6\"/>\n",
       "<polygon fill=\"black\" stroke=\"black\" points=\"506.45,-41.76 514.26,-34.6 503.69,-35.33 506.45,-41.76\"/>\n",
       "</g>\n",
       "<!-- Number of Autos -->\n",
       "<g id=\"node5\" class=\"node\">\n",
       "<title>Number of Autos</title>\n",
       "<ellipse fill=\"none\" stroke=\"black\" cx=\"550.58\" cy=\"-90\" rx=\"71.54\" ry=\"18\"/>\n",
       "<text text-anchor=\"middle\" x=\"550.58\" y=\"-85.8\" font-family=\"Times,serif\" font-size=\"14.00\">Number of Autos</text>\n",
       "</g>\n",
       "<!-- Number of Autos&#45;&gt;Utility (Shared Ride 2) -->\n",
       "<g id=\"edge6\" class=\"edge\">\n",
       "<title>Number of Autos&#45;&gt;Utility (Shared Ride 2)</title>\n",
       "<path fill=\"none\" stroke=\"black\" d=\"M550.58,-71.7C550.58,-63.98 550.58,-54.71 550.58,-46.11\"/>\n",
       "<polygon fill=\"black\" stroke=\"black\" points=\"554.08,-46.1 550.58,-36.1 547.08,-46.1 554.08,-46.1\"/>\n",
       "</g>\n",
       "<!-- Number of Licensed Drivers -->\n",
       "<g id=\"node6\" class=\"node\">\n",
       "<title>Number of Licensed Drivers</title>\n",
       "<ellipse fill=\"none\" stroke=\"black\" cx=\"751.58\" cy=\"-90\" rx=\"111.55\" ry=\"18\"/>\n",
       "<text text-anchor=\"middle\" x=\"751.58\" y=\"-85.8\" font-family=\"Times,serif\" font-size=\"14.00\">Number of Licensed Drivers</text>\n",
       "</g>\n",
       "<!-- Number of Licensed Drivers&#45;&gt;Utility (Shared Ride 2) -->\n",
       "<g id=\"edge7\" class=\"edge\">\n",
       "<title>Number of Licensed Drivers&#45;&gt;Utility (Shared Ride 2)</title>\n",
       "<path fill=\"none\" stroke=\"black\" d=\"M706.97,-73.46C676.37,-62.81 635.62,-48.62 603.39,-37.39\"/>\n",
       "<polygon fill=\"black\" stroke=\"black\" points=\"604.28,-34 593.68,-34.01 601.98,-40.61 604.28,-34\"/>\n",
       "</g>\n",
       "<!-- Cross Bay Trip -->\n",
       "<g id=\"node7\" class=\"node\">\n",
       "<title>Cross Bay Trip</title>\n",
       "<ellipse fill=\"none\" stroke=\"black\" cx=\"944.58\" cy=\"-90\" rx=\"63.87\" ry=\"18\"/>\n",
       "<text text-anchor=\"middle\" x=\"944.58\" y=\"-85.8\" font-family=\"Times,serif\" font-size=\"14.00\">Cross Bay Trip</text>\n",
       "</g>\n",
       "<!-- Cross Bay Trip&#45;&gt;Utility (Shared Ride 2) -->\n",
       "<g id=\"edge5\" class=\"edge\">\n",
       "<title>Cross Bay Trip&#45;&gt;Utility (Shared Ride 2)</title>\n",
       "<path fill=\"none\" stroke=\"black\" d=\"M898.21,-77.56C889.7,-75.6 880.89,-73.66 872.58,-72 791.11,-55.7 697.31,-40.68 632.04,-30.82\"/>\n",
       "<polygon fill=\"black\" stroke=\"black\" points=\"632.23,-27.31 621.82,-29.29 631.19,-34.24 632.23,-27.31\"/>\n",
       "</g>\n",
       "<!-- Household Size -->\n",
       "<g id=\"node9\" class=\"node\">\n",
       "<title>Household Size</title>\n",
       "<ellipse fill=\"none\" stroke=\"black\" cx=\"1092.58\" cy=\"-90\" rx=\"65.72\" ry=\"18\"/>\n",
       "<text text-anchor=\"middle\" x=\"1092.58\" y=\"-85.8\" font-family=\"Times,serif\" font-size=\"14.00\">Household Size</text>\n",
       "</g>\n",
       "<!-- Household Size&#45;&gt;Utility (Shared Ride 2) -->\n",
       "<g id=\"edge8\" class=\"edge\">\n",
       "<title>Household Size&#45;&gt;Utility (Shared Ride 2)</title>\n",
       "<path fill=\"none\" stroke=\"black\" d=\"M1045.13,-77.42C1036.02,-75.43 1026.53,-73.52 1017.58,-72 888.73,-50.15 738.31,-34.9 643.75,-26.54\"/>\n",
       "<polygon fill=\"black\" stroke=\"black\" points=\"643.91,-23.04 633.64,-25.65 643.29,-30.01 643.91,-23.04\"/>\n",
       "</g>\n",
       "</g>\n",
       "</svg>\n"
      ],
      "text/plain": [
       "<graphviz.dot.Digraph at 0x1c23c80ed0>"
      ]
     },
     "execution_count": 43,
     "metadata": {},
     "output_type": "execute_result"
    }
   ],
   "source": [
    "V_Shared_2.draw()"
   ]
  },
  {
   "cell_type": "code",
   "execution_count": 44,
   "metadata": {},
   "outputs": [],
   "source": [
    "sim_bike_data_wide['total_travel_time_shared_2'] = Shared_2_Reg['total_travel_time_on_total_travel_distance'].params[0] +\\\n",
    "                                               Shared_2_Reg['total_travel_time_on_total_travel_distance'].params[1] *\\\n",
    "                                                  sim_bike_data_wide['total_travel_distance_shared_2'] +\\\n",
    "                                                  np.random.normal(loc=0,\n",
    "                                                                   scale = Shared_2_Reg['total_travel_time_on_total_travel_distance'].resid.std(),\n",
    "                                                                   size = sim_size)\n",
    "sim_bike_data_wide['total_travel_cost_shared_2'] = Shared_2_Reg['total_travel_cost_on_total_travel_distance'].params[0] +\\\n",
    "                                                  Shared_2_Reg['total_travel_cost_on_total_travel_distance'].params[1] *\\\n",
    "                                                  sim_bike_data_wide['total_travel_distance_shared_2'] +\\\n",
    "                                                  np.random.normal(loc=0,\n",
    "                                                                   scale = Shared_2_Reg['total_travel_cost_on_total_travel_distance'].resid.std(),\n",
    "                                                                   size = sim_size)"
   ]
  },
  {
   "cell_type": "code",
   "execution_count": 45,
   "metadata": {},
   "outputs": [],
   "source": [
    "# ## Loading data into StructuralCausalModel\n",
    "# Shared_2_Model = StructuralCausalModel({\n",
    "#     \"total_travel_distance\": lambda   n_samples: bike_data_no_parent['total_travel_distance_shared_2'],\n",
    "#     \"total_travel_time\": lambda total_travel_distance, n_samples: Shared_2_Reg['total_travel_time_on_total_travel_distance'].params[0] + \n",
    "#                                                                   Shared_2_Reg['total_travel_time_on_total_travel_distance'].params[1] * \n",
    "#                                                                   bike_data_no_parent['total_travel_distance_drive_alone'] + \n",
    "#                                                                   np.random.normal(loc=0,\n",
    "#                                                                                    scale = Shared_2_Reg['total_travel_time_on_total_travel_distance'].resid.std(),\n",
    "#                                                                                    size = n_samples),\n",
    "#     \"total_travel_cost\": lambda total_travel_distance, n_samples: Shared_2_Reg['total_travel_cost_on_total_travel_distance'].params[0] + \n",
    "#                                                                   Shared_2_Reg['total_travel_cost_on_total_travel_distance'].params[1] * \n",
    "#                                                                   bike_data_no_parent['total_travel_distance_drive_alone'] + \n",
    "#                                                                   np.random.normal(loc=0,\n",
    "#                                                                                    scale = Shared_2_Reg['total_travel_cost_on_total_travel_distance'].resid.std(),\n",
    "#                                                                                    size = n_samples),\n",
    "#     \"household_size\": lambda n_samples: bike_data_no_parent['household_size'],\n",
    "#     \"num_kids\": lambda n_samples: bike_data_no_parent['num_kids'],\n",
    "#     \"num_licensed_drivers\": lambda n_samples: bike_data_no_parent['num_licensed_drivers'],\n",
    "#     \"num_cars\": lambda n_samples: bike_data_no_parent['num_cars'],\n",
    "#     \"cross_bay\": lambda n_samples: bike_data_no_parent['cross_bay'],\n",
    "#     \"utility_shared_2\": total_travel_cost: lambda n_samples: np.zeros(shape=bike_data_no_parent['total_travel_distance_shared_2'].shape[0])\n",
    "# })\n",
    "# Shared_2_Model.sample(n_samples=4000).head()"
   ]
  },
  {
   "cell_type": "markdown",
   "metadata": {},
   "source": [
    "### 3.5.3. Shared-3+"
   ]
  },
  {
   "cell_type": "code",
   "execution_count": 46,
   "metadata": {},
   "outputs": [
    {
     "data": {
      "image/svg+xml": [
       "<?xml version=\"1.0\" encoding=\"UTF-8\" standalone=\"no\"?>\n",
       "<!DOCTYPE svg PUBLIC \"-//W3C//DTD SVG 1.1//EN\"\n",
       " \"http://www.w3.org/Graphics/SVG/1.1/DTD/svg11.dtd\">\n",
       "<!-- Generated by graphviz version 2.42.3 (20191010.1750)\n",
       " -->\n",
       "<!-- Title: %3 Pages: 1 -->\n",
       "<svg width=\"1166pt\" height=\"188pt\"\n",
       " viewBox=\"0.00 0.00 1166.44 188.00\" xmlns=\"http://www.w3.org/2000/svg\" xmlns:xlink=\"http://www.w3.org/1999/xlink\">\n",
       "<g id=\"graph0\" class=\"graph\" transform=\"scale(1 1) rotate(0) translate(4 184)\">\n",
       "<title>%3</title>\n",
       "<polygon fill=\"white\" stroke=\"transparent\" points=\"-4,4 -4,-184 1162.44,-184 1162.44,4 -4,4\"/>\n",
       "<!-- Number of Kids -->\n",
       "<g id=\"node1\" class=\"node\">\n",
       "<title>Number of Kids</title>\n",
       "<ellipse fill=\"none\" stroke=\"black\" cx=\"67.58\" cy=\"-90\" rx=\"67.66\" ry=\"18\"/>\n",
       "<text text-anchor=\"middle\" x=\"67.58\" y=\"-85.8\" font-family=\"Times,serif\" font-size=\"14.00\">Number of Kids</text>\n",
       "</g>\n",
       "<!-- Utility (Shared Ride 3+) -->\n",
       "<g id=\"node6\" class=\"node\">\n",
       "<title>Utility (Shared Ride 3+)</title>\n",
       "<ellipse fill=\"none\" stroke=\"black\" cx=\"550.58\" cy=\"-18\" rx=\"96.28\" ry=\"18\"/>\n",
       "<text text-anchor=\"middle\" x=\"550.58\" y=\"-13.8\" font-family=\"Times,serif\" font-size=\"14.00\">Utility (Shared Ride 3+)</text>\n",
       "</g>\n",
       "<!-- Number of Kids&#45;&gt;Utility (Shared Ride 3+) -->\n",
       "<g id=\"edge9\" class=\"edge\">\n",
       "<title>Number of Kids&#45;&gt;Utility (Shared Ride 3+)</title>\n",
       "<path fill=\"none\" stroke=\"black\" d=\"M116.75,-77.47C125.97,-75.5 135.55,-73.58 144.58,-72 251.79,-53.21 375.99,-37.93 458.51,-28.69\"/>\n",
       "<polygon fill=\"black\" stroke=\"black\" points=\"459.06,-32.15 468.61,-27.57 458.28,-25.2 459.06,-32.15\"/>\n",
       "</g>\n",
       "<!-- Total Travel Cost -->\n",
       "<g id=\"node2\" class=\"node\">\n",
       "<title>Total Travel Cost</title>\n",
       "<ellipse fill=\"none\" stroke=\"black\" cx=\"224.58\" cy=\"-90\" rx=\"71.31\" ry=\"18\"/>\n",
       "<text text-anchor=\"middle\" x=\"224.58\" y=\"-85.8\" font-family=\"Times,serif\" font-size=\"14.00\">Total Travel Cost</text>\n",
       "</g>\n",
       "<!-- Total Travel Cost&#45;&gt;Utility (Shared Ride 3+) -->\n",
       "<g id=\"edge4\" class=\"edge\">\n",
       "<title>Total Travel Cost&#45;&gt;Utility (Shared Ride 3+)</title>\n",
       "<path fill=\"none\" stroke=\"black\" d=\"M276.96,-77.75C332.03,-65.93 418.99,-47.25 480.07,-34.14\"/>\n",
       "<polygon fill=\"black\" stroke=\"black\" points=\"480.98,-37.53 490.02,-32 479.51,-30.68 480.98,-37.53\"/>\n",
       "</g>\n",
       "<!-- Total Travel Distance -->\n",
       "<g id=\"node3\" class=\"node\">\n",
       "<title>Total Travel Distance</title>\n",
       "<ellipse fill=\"none\" stroke=\"black\" cx=\"305.58\" cy=\"-162\" rx=\"86.25\" ry=\"18\"/>\n",
       "<text text-anchor=\"middle\" x=\"305.58\" y=\"-157.8\" font-family=\"Times,serif\" font-size=\"14.00\">Total Travel Distance</text>\n",
       "</g>\n",
       "<!-- Total Travel Distance&#45;&gt;Total Travel Cost -->\n",
       "<g id=\"edge3\" class=\"edge\">\n",
       "<title>Total Travel Distance&#45;&gt;Total Travel Cost</title>\n",
       "<path fill=\"none\" stroke=\"black\" d=\"M286.38,-144.41C275.89,-135.34 262.74,-123.97 251.26,-114.06\"/>\n",
       "<polygon fill=\"black\" stroke=\"black\" points=\"253.49,-111.36 243.64,-107.47 248.92,-116.66 253.49,-111.36\"/>\n",
       "</g>\n",
       "<!-- Total Travel Time -->\n",
       "<g id=\"node4\" class=\"node\">\n",
       "<title>Total Travel Time</title>\n",
       "<ellipse fill=\"none\" stroke=\"black\" cx=\"387.58\" cy=\"-90\" rx=\"73.28\" ry=\"18\"/>\n",
       "<text text-anchor=\"middle\" x=\"387.58\" y=\"-85.8\" font-family=\"Times,serif\" font-size=\"14.00\">Total Travel Time</text>\n",
       "</g>\n",
       "<!-- Total Travel Distance&#45;&gt;Total Travel Time -->\n",
       "<g id=\"edge2\" class=\"edge\">\n",
       "<title>Total Travel Distance&#45;&gt;Total Travel Time</title>\n",
       "<path fill=\"none\" stroke=\"black\" d=\"M325.01,-144.41C335.63,-135.34 348.95,-123.97 360.57,-114.06\"/>\n",
       "<polygon fill=\"black\" stroke=\"black\" points=\"362.95,-116.62 368.29,-107.47 358.41,-111.3 362.95,-116.62\"/>\n",
       "</g>\n",
       "<!-- Total Travel Time&#45;&gt;Utility (Shared Ride 3+) -->\n",
       "<g id=\"edge1\" class=\"edge\">\n",
       "<title>Total Travel Time&#45;&gt;Utility (Shared Ride 3+)</title>\n",
       "<path fill=\"none\" stroke=\"black\" d=\"M422.55,-73.98C446.54,-63.68 478.63,-49.9 504.68,-38.71\"/>\n",
       "<polygon fill=\"black\" stroke=\"black\" points=\"506.17,-41.88 513.97,-34.72 503.41,-35.45 506.17,-41.88\"/>\n",
       "</g>\n",
       "<!-- Number of Autos -->\n",
       "<g id=\"node5\" class=\"node\">\n",
       "<title>Number of Autos</title>\n",
       "<ellipse fill=\"none\" stroke=\"black\" cx=\"550.58\" cy=\"-90\" rx=\"71.54\" ry=\"18\"/>\n",
       "<text text-anchor=\"middle\" x=\"550.58\" y=\"-85.8\" font-family=\"Times,serif\" font-size=\"14.00\">Number of Autos</text>\n",
       "</g>\n",
       "<!-- Number of Autos&#45;&gt;Utility (Shared Ride 3+) -->\n",
       "<g id=\"edge6\" class=\"edge\">\n",
       "<title>Number of Autos&#45;&gt;Utility (Shared Ride 3+)</title>\n",
       "<path fill=\"none\" stroke=\"black\" d=\"M550.58,-71.7C550.58,-63.98 550.58,-54.71 550.58,-46.11\"/>\n",
       "<polygon fill=\"black\" stroke=\"black\" points=\"554.08,-46.1 550.58,-36.1 547.08,-46.1 554.08,-46.1\"/>\n",
       "</g>\n",
       "<!-- Number of Licensed Drivers -->\n",
       "<g id=\"node7\" class=\"node\">\n",
       "<title>Number of Licensed Drivers</title>\n",
       "<ellipse fill=\"none\" stroke=\"black\" cx=\"751.58\" cy=\"-90\" rx=\"111.55\" ry=\"18\"/>\n",
       "<text text-anchor=\"middle\" x=\"751.58\" y=\"-85.8\" font-family=\"Times,serif\" font-size=\"14.00\">Number of Licensed Drivers</text>\n",
       "</g>\n",
       "<!-- Number of Licensed Drivers&#45;&gt;Utility (Shared Ride 3+) -->\n",
       "<g id=\"edge7\" class=\"edge\">\n",
       "<title>Number of Licensed Drivers&#45;&gt;Utility (Shared Ride 3+)</title>\n",
       "<path fill=\"none\" stroke=\"black\" d=\"M706.97,-73.46C676.47,-62.84 635.9,-48.71 603.72,-37.51\"/>\n",
       "<polygon fill=\"black\" stroke=\"black\" points=\"604.62,-34.11 594.03,-34.13 602.32,-40.73 604.62,-34.11\"/>\n",
       "</g>\n",
       "<!-- Cross Bay Trip -->\n",
       "<g id=\"node8\" class=\"node\">\n",
       "<title>Cross Bay Trip</title>\n",
       "<ellipse fill=\"none\" stroke=\"black\" cx=\"944.58\" cy=\"-90\" rx=\"63.87\" ry=\"18\"/>\n",
       "<text text-anchor=\"middle\" x=\"944.58\" y=\"-85.8\" font-family=\"Times,serif\" font-size=\"14.00\">Cross Bay Trip</text>\n",
       "</g>\n",
       "<!-- Cross Bay Trip&#45;&gt;Utility (Shared Ride 3+) -->\n",
       "<g id=\"edge5\" class=\"edge\">\n",
       "<title>Cross Bay Trip&#45;&gt;Utility (Shared Ride 3+)</title>\n",
       "<path fill=\"none\" stroke=\"black\" d=\"M898.21,-77.56C889.7,-75.6 880.89,-73.66 872.58,-72 792.16,-55.91 699.74,-41.07 634.59,-31.21\"/>\n",
       "<polygon fill=\"black\" stroke=\"black\" points=\"634.79,-27.7 624.38,-29.67 633.74,-34.62 634.79,-27.7\"/>\n",
       "</g>\n",
       "<!-- Household Size -->\n",
       "<g id=\"node9\" class=\"node\">\n",
       "<title>Household Size</title>\n",
       "<ellipse fill=\"none\" stroke=\"black\" cx=\"1092.58\" cy=\"-90\" rx=\"65.72\" ry=\"18\"/>\n",
       "<text text-anchor=\"middle\" x=\"1092.58\" y=\"-85.8\" font-family=\"Times,serif\" font-size=\"14.00\">Household Size</text>\n",
       "</g>\n",
       "<!-- Household Size&#45;&gt;Utility (Shared Ride 3+) -->\n",
       "<g id=\"edge8\" class=\"edge\">\n",
       "<title>Household Size&#45;&gt;Utility (Shared Ride 3+)</title>\n",
       "<path fill=\"none\" stroke=\"black\" d=\"M1045.13,-77.42C1036.02,-75.43 1026.53,-73.52 1017.58,-72 890.48,-50.45 742.39,-35.31 647.62,-26.88\"/>\n",
       "<polygon fill=\"black\" stroke=\"black\" points=\"647.75,-23.38 637.48,-25.99 647.14,-30.35 647.75,-23.38\"/>\n",
       "</g>\n",
       "</g>\n",
       "</svg>\n"
      ],
      "text/plain": [
       "<graphviz.dot.Digraph at 0x1c235d1ad0>"
      ]
     },
     "execution_count": 46,
     "metadata": {},
     "output_type": "execute_result"
    }
   ],
   "source": [
    "V_Shared_3p.draw()"
   ]
  },
  {
   "cell_type": "code",
   "execution_count": 47,
   "metadata": {},
   "outputs": [],
   "source": [
    "sim_bike_data_wide['total_travel_time_shared_3p'] = Shared_3p_Reg['total_travel_time_on_total_travel_distance'].params[0] +\\\n",
    "                                               Shared_3p_Reg['total_travel_time_on_total_travel_distance'].params[1] *\\\n",
    "                                                  sim_bike_data_wide['total_travel_distance_shared_3p'] +\\\n",
    "                                                  np.random.normal(loc=0,\n",
    "                                                                   scale = Shared_3p_Reg['total_travel_time_on_total_travel_distance'].resid.std(),\n",
    "                                                                   size = sim_size)\n",
    "sim_bike_data_wide['total_travel_cost_shared_3p'] = Shared_3p_Reg['total_travel_cost_on_total_travel_distance'].params[0] +\\\n",
    "                                                  Shared_3p_Reg['total_travel_cost_on_total_travel_distance'].params[1] *\\\n",
    "                                                  sim_bike_data_wide['total_travel_distance_shared_3p'] +\\\n",
    "                                                  np.random.normal(loc=0,\n",
    "                                                                   scale = Shared_3p_Reg['total_travel_cost_on_total_travel_distance'].resid.std(),\n",
    "                                                                   size = sim_size)"
   ]
  },
  {
   "cell_type": "code",
   "execution_count": 48,
   "metadata": {},
   "outputs": [],
   "source": [
    "# ## Loading data into StructuralCausalModel\n",
    "# Shared_3p_Model = StructuralCausalModel({\n",
    "#     \"total_travel_distance\": lambda   n_samples: bike_data_no_parent['total_travel_distance_shared_3p'],\n",
    "#     \"total_travel_time\": lambda total_travel_distance, n_samples: Shared_3p_Reg['total_travel_time_on_total_travel_distance'].params[0] + \n",
    "#                                                                   Shared_3p_Reg['total_travel_time_on_total_travel_distance'].params[1] * \n",
    "#                                                                   bike_data_no_parent['total_travel_distance_drive_alone'] + \n",
    "#                                                                   np.random.normal(loc=0,\n",
    "#                                                                                    scale = Shared_3p_Reg['total_travel_time_on_total_travel_distance'].resid.std(),\n",
    "#                                                                                    size = n_samples),\n",
    "#     \"total_travel_cost\": lambda total_travel_distance, n_samples: Shared_3p_Reg['total_travel_cost_on_total_travel_distance'].params[0] + \n",
    "#                                                                   Shared_3p_Reg['total_travel_cost_on_total_travel_distance'].params[1] * \n",
    "#                                                                   bike_data_no_parent['total_travel_distance_drive_alone'] + \n",
    "#                                                                   np.random.normal(loc=0,\n",
    "#                                                                                    scale = Shared_3p_Reg['total_travel_cost_on_total_travel_distance'].resid.std(),\n",
    "#                                                                                    size = n_samples),\n",
    "#     \"household_size\": lambda n_samples: bike_data_no_parent['household_size'],\n",
    "#     \"num_kids\": lambda n_samples: bike_data_no_parent['num_kids'],\n",
    "#     \"num_licensed_drivers\": lambda n_samples: bike_data_no_parent['num_licensed_drivers'],\n",
    "#     \"num_cars\": lambda n_samples: bike_data_no_parent['num_cars'],\n",
    "#     \"cross_bay\": lambda n_samples: bike_data_no_parent['cross_bay'],\n",
    "#     \"utility_shared_3+\": lambda n_samples: np.zeros(shape=n_samples)\n",
    "# })"
   ]
  },
  {
   "cell_type": "markdown",
   "metadata": {},
   "source": [
    "### 3.5.4. Walk-Transit-Walk"
   ]
  },
  {
   "cell_type": "code",
   "execution_count": 49,
   "metadata": {},
   "outputs": [
    {
     "data": {
      "image/svg+xml": [
       "<?xml version=\"1.0\" encoding=\"UTF-8\" standalone=\"no\"?>\n",
       "<!DOCTYPE svg PUBLIC \"-//W3C//DTD SVG 1.1//EN\"\n",
       " \"http://www.w3.org/Graphics/SVG/1.1/DTD/svg11.dtd\">\n",
       "<!-- Generated by graphviz version 2.42.3 (20191010.1750)\n",
       " -->\n",
       "<!-- Title: %3 Pages: 1 -->\n",
       "<svg width=\"346pt\" height=\"188pt\"\n",
       " viewBox=\"0.00 0.00 345.52 188.00\" xmlns=\"http://www.w3.org/2000/svg\" xmlns:xlink=\"http://www.w3.org/1999/xlink\">\n",
       "<g id=\"graph0\" class=\"graph\" transform=\"scale(1 1) rotate(0) translate(4 184)\">\n",
       "<title>%3</title>\n",
       "<polygon fill=\"white\" stroke=\"transparent\" points=\"-4,4 -4,-184 341.52,-184 341.52,4 -4,4\"/>\n",
       "<!-- Utility (WTW) -->\n",
       "<g id=\"node1\" class=\"node\">\n",
       "<title>Utility (WTW)</title>\n",
       "<ellipse fill=\"none\" stroke=\"black\" cx=\"73.39\" cy=\"-18\" rx=\"63.29\" ry=\"18\"/>\n",
       "<text text-anchor=\"middle\" x=\"73.39\" y=\"-13.8\" font-family=\"Times,serif\" font-size=\"14.00\">Utility (WTW)</text>\n",
       "</g>\n",
       "<!-- Total Travel Cost -->\n",
       "<g id=\"node2\" class=\"node\">\n",
       "<title>Total Travel Cost</title>\n",
       "<ellipse fill=\"none\" stroke=\"black\" cx=\"123.39\" cy=\"-90\" rx=\"71.31\" ry=\"18\"/>\n",
       "<text text-anchor=\"middle\" x=\"123.39\" y=\"-85.8\" font-family=\"Times,serif\" font-size=\"14.00\">Total Travel Cost</text>\n",
       "</g>\n",
       "<!-- Total Travel Cost&#45;&gt;Utility (WTW) -->\n",
       "<g id=\"edge3\" class=\"edge\">\n",
       "<title>Total Travel Cost&#45;&gt;Utility (WTW)</title>\n",
       "<path fill=\"none\" stroke=\"black\" d=\"M111.28,-72.05C105.27,-63.63 97.87,-53.28 91.22,-43.97\"/>\n",
       "<polygon fill=\"black\" stroke=\"black\" points=\"94.04,-41.89 85.38,-35.79 88.35,-45.96 94.04,-41.89\"/>\n",
       "</g>\n",
       "<!-- Total Travel Time -->\n",
       "<g id=\"node3\" class=\"node\">\n",
       "<title>Total Travel Time</title>\n",
       "<ellipse fill=\"none\" stroke=\"black\" cx=\"73.39\" cy=\"-162\" rx=\"73.28\" ry=\"18\"/>\n",
       "<text text-anchor=\"middle\" x=\"73.39\" y=\"-157.8\" font-family=\"Times,serif\" font-size=\"14.00\">Total Travel Time</text>\n",
       "</g>\n",
       "<!-- Total Travel Time&#45;&gt;Utility (WTW) -->\n",
       "<g id=\"edge2\" class=\"edge\">\n",
       "<title>Total Travel Time&#45;&gt;Utility (WTW)</title>\n",
       "<path fill=\"none\" stroke=\"black\" d=\"M60.66,-143.85C54.1,-133.92 46.78,-120.88 43.39,-108 39.31,-92.53 39.31,-87.47 43.39,-72 45.92,-62.39 50.64,-52.69 55.59,-44.26\"/>\n",
       "<polygon fill=\"black\" stroke=\"black\" points=\"58.63,-46.02 60.97,-35.68 52.7,-42.3 58.63,-46.02\"/>\n",
       "</g>\n",
       "<!-- Total Travel Time&#45;&gt;Total Travel Cost -->\n",
       "<g id=\"edge1\" class=\"edge\">\n",
       "<title>Total Travel Time&#45;&gt;Total Travel Cost</title>\n",
       "<path fill=\"none\" stroke=\"black\" d=\"M85.49,-144.05C91.51,-135.63 98.9,-125.28 105.56,-115.97\"/>\n",
       "<polygon fill=\"black\" stroke=\"black\" points=\"108.43,-117.96 111.4,-107.79 102.74,-113.89 108.43,-117.96\"/>\n",
       "</g>\n",
       "<!-- Total Travel Distance -->\n",
       "<g id=\"node4\" class=\"node\">\n",
       "<title>Total Travel Distance</title>\n",
       "<ellipse fill=\"none\" stroke=\"black\" cx=\"251.39\" cy=\"-162\" rx=\"86.25\" ry=\"18\"/>\n",
       "<text text-anchor=\"middle\" x=\"251.39\" y=\"-157.8\" font-family=\"Times,serif\" font-size=\"14.00\">Total Travel Distance</text>\n",
       "</g>\n",
       "</g>\n",
       "</svg>\n"
      ],
      "text/plain": [
       "<graphviz.dot.Digraph at 0x1c23c8e7d0>"
      ]
     },
     "execution_count": 49,
     "metadata": {},
     "output_type": "execute_result"
    }
   ],
   "source": [
    "V_WTW.draw()"
   ]
  },
  {
   "cell_type": "code",
   "execution_count": 50,
   "metadata": {},
   "outputs": [],
   "source": [
    "sim_bike_data_wide['total_travel_cost_wtw'] = WTW_Reg['total_travel_cost_on_total_travel_time'].params[0] +\\\n",
    "                                                  WTW_Reg['total_travel_cost_on_total_travel_time'].params[1] *\\\n",
    "                                                  sim_bike_data_wide['total_travel_time_wtw'] +\\\n",
    "                                                  np.random.normal(loc=0,\n",
    "                                                                   scale = WTW_Reg['total_travel_cost_on_total_travel_time'].resid.std(),\n",
    "                                                                   size = sim_size)"
   ]
  },
  {
   "cell_type": "markdown",
   "metadata": {},
   "source": [
    "### 3.5.5. Drive-Transit-Walk"
   ]
  },
  {
   "cell_type": "code",
   "execution_count": 51,
   "metadata": {},
   "outputs": [
    {
     "data": {
      "image/svg+xml": [
       "<?xml version=\"1.0\" encoding=\"UTF-8\" standalone=\"no\"?>\n",
       "<!DOCTYPE svg PUBLIC \"-//W3C//DTD SVG 1.1//EN\"\n",
       " \"http://www.w3.org/Graphics/SVG/1.1/DTD/svg11.dtd\">\n",
       "<!-- Generated by graphviz version 2.42.3 (20191010.1750)\n",
       " -->\n",
       "<!-- Title: %3 Pages: 1 -->\n",
       "<svg width=\"203pt\" height=\"188pt\"\n",
       " viewBox=\"0.00 0.00 202.80 188.00\" xmlns=\"http://www.w3.org/2000/svg\" xmlns:xlink=\"http://www.w3.org/1999/xlink\">\n",
       "<g id=\"graph0\" class=\"graph\" transform=\"scale(1 1) rotate(0) translate(4 184)\">\n",
       "<title>%3</title>\n",
       "<polygon fill=\"white\" stroke=\"transparent\" points=\"-4,4 -4,-184 198.8,-184 198.8,4 -4,4\"/>\n",
       "<!-- Utility (DTW) -->\n",
       "<g id=\"node1\" class=\"node\">\n",
       "<title>Utility (DTW)</title>\n",
       "<ellipse fill=\"none\" stroke=\"black\" cx=\"73.39\" cy=\"-18\" rx=\"61.37\" ry=\"18\"/>\n",
       "<text text-anchor=\"middle\" x=\"73.39\" y=\"-13.8\" font-family=\"Times,serif\" font-size=\"14.00\">Utility (DTW)</text>\n",
       "</g>\n",
       "<!-- Total Travel Cost -->\n",
       "<g id=\"node2\" class=\"node\">\n",
       "<title>Total Travel Cost</title>\n",
       "<ellipse fill=\"none\" stroke=\"black\" cx=\"123.39\" cy=\"-90\" rx=\"71.31\" ry=\"18\"/>\n",
       "<text text-anchor=\"middle\" x=\"123.39\" y=\"-85.8\" font-family=\"Times,serif\" font-size=\"14.00\">Total Travel Cost</text>\n",
       "</g>\n",
       "<!-- Total Travel Cost&#45;&gt;Utility (DTW) -->\n",
       "<g id=\"edge3\" class=\"edge\">\n",
       "<title>Total Travel Cost&#45;&gt;Utility (DTW)</title>\n",
       "<path fill=\"none\" stroke=\"black\" d=\"M111.28,-72.05C105.27,-63.63 97.87,-53.28 91.22,-43.97\"/>\n",
       "<polygon fill=\"black\" stroke=\"black\" points=\"94.04,-41.89 85.38,-35.79 88.35,-45.96 94.04,-41.89\"/>\n",
       "</g>\n",
       "<!-- Total Travel Time -->\n",
       "<g id=\"node3\" class=\"node\">\n",
       "<title>Total Travel Time</title>\n",
       "<ellipse fill=\"none\" stroke=\"black\" cx=\"73.39\" cy=\"-162\" rx=\"73.28\" ry=\"18\"/>\n",
       "<text text-anchor=\"middle\" x=\"73.39\" y=\"-157.8\" font-family=\"Times,serif\" font-size=\"14.00\">Total Travel Time</text>\n",
       "</g>\n",
       "<!-- Total Travel Time&#45;&gt;Utility (DTW) -->\n",
       "<g id=\"edge2\" class=\"edge\">\n",
       "<title>Total Travel Time&#45;&gt;Utility (DTW)</title>\n",
       "<path fill=\"none\" stroke=\"black\" d=\"M60.66,-143.85C54.1,-133.92 46.78,-120.88 43.39,-108 39.31,-92.53 39.31,-87.47 43.39,-72 45.92,-62.39 50.64,-52.69 55.59,-44.26\"/>\n",
       "<polygon fill=\"black\" stroke=\"black\" points=\"58.63,-46.02 60.97,-35.68 52.7,-42.3 58.63,-46.02\"/>\n",
       "</g>\n",
       "<!-- Total Travel Time&#45;&gt;Total Travel Cost -->\n",
       "<g id=\"edge1\" class=\"edge\">\n",
       "<title>Total Travel Time&#45;&gt;Total Travel Cost</title>\n",
       "<path fill=\"none\" stroke=\"black\" d=\"M85.49,-144.05C91.51,-135.63 98.9,-125.28 105.56,-115.97\"/>\n",
       "<polygon fill=\"black\" stroke=\"black\" points=\"108.43,-117.96 111.4,-107.79 102.74,-113.89 108.43,-117.96\"/>\n",
       "</g>\n",
       "</g>\n",
       "</svg>\n"
      ],
      "text/plain": [
       "<graphviz.dot.Digraph at 0x1c23caa310>"
      ]
     },
     "execution_count": 51,
     "metadata": {},
     "output_type": "execute_result"
    }
   ],
   "source": [
    "V_DTW.draw()"
   ]
  },
  {
   "cell_type": "code",
   "execution_count": 52,
   "metadata": {},
   "outputs": [],
   "source": [
    "sim_bike_data_wide['total_travel_cost_dtw'] = DTW_Reg['total_travel_cost_on_total_travel_time'].params[0] +\\\n",
    "                                                  DTW_Reg['total_travel_cost_on_total_travel_time'].params[1] *\\\n",
    "                                                  sim_bike_data_wide['total_travel_time_dtw'] +\\\n",
    "                                                  np.random.normal(loc=0,\n",
    "                                                                   scale = DTW_Reg['total_travel_cost_on_total_travel_time'].resid.std(),\n",
    "                                                                   size = sim_size)"
   ]
  },
  {
   "cell_type": "markdown",
   "metadata": {},
   "source": [
    "### 3.5.6. Walk-Transit-Drive"
   ]
  },
  {
   "cell_type": "code",
   "execution_count": 53,
   "metadata": {},
   "outputs": [
    {
     "data": {
      "image/svg+xml": [
       "<?xml version=\"1.0\" encoding=\"UTF-8\" standalone=\"no\"?>\n",
       "<!DOCTYPE svg PUBLIC \"-//W3C//DTD SVG 1.1//EN\"\n",
       " \"http://www.w3.org/Graphics/SVG/1.1/DTD/svg11.dtd\">\n",
       "<!-- Generated by graphviz version 2.42.3 (20191010.1750)\n",
       " -->\n",
       "<!-- Title: %3 Pages: 1 -->\n",
       "<svg width=\"203pt\" height=\"188pt\"\n",
       " viewBox=\"0.00 0.00 202.80 188.00\" xmlns=\"http://www.w3.org/2000/svg\" xmlns:xlink=\"http://www.w3.org/1999/xlink\">\n",
       "<g id=\"graph0\" class=\"graph\" transform=\"scale(1 1) rotate(0) translate(4 184)\">\n",
       "<title>%3</title>\n",
       "<polygon fill=\"white\" stroke=\"transparent\" points=\"-4,4 -4,-184 198.8,-184 198.8,4 -4,4\"/>\n",
       "<!-- Utility (WTD) -->\n",
       "<g id=\"node1\" class=\"node\">\n",
       "<title>Utility (WTD)</title>\n",
       "<ellipse fill=\"none\" stroke=\"black\" cx=\"73.39\" cy=\"-18\" rx=\"61.37\" ry=\"18\"/>\n",
       "<text text-anchor=\"middle\" x=\"73.39\" y=\"-13.8\" font-family=\"Times,serif\" font-size=\"14.00\">Utility (WTD)</text>\n",
       "</g>\n",
       "<!-- Total Travel Cost -->\n",
       "<g id=\"node2\" class=\"node\">\n",
       "<title>Total Travel Cost</title>\n",
       "<ellipse fill=\"none\" stroke=\"black\" cx=\"123.39\" cy=\"-90\" rx=\"71.31\" ry=\"18\"/>\n",
       "<text text-anchor=\"middle\" x=\"123.39\" y=\"-85.8\" font-family=\"Times,serif\" font-size=\"14.00\">Total Travel Cost</text>\n",
       "</g>\n",
       "<!-- Total Travel Cost&#45;&gt;Utility (WTD) -->\n",
       "<g id=\"edge3\" class=\"edge\">\n",
       "<title>Total Travel Cost&#45;&gt;Utility (WTD)</title>\n",
       "<path fill=\"none\" stroke=\"black\" d=\"M111.28,-72.05C105.27,-63.63 97.87,-53.28 91.22,-43.97\"/>\n",
       "<polygon fill=\"black\" stroke=\"black\" points=\"94.04,-41.89 85.38,-35.79 88.35,-45.96 94.04,-41.89\"/>\n",
       "</g>\n",
       "<!-- Total Travel Time -->\n",
       "<g id=\"node3\" class=\"node\">\n",
       "<title>Total Travel Time</title>\n",
       "<ellipse fill=\"none\" stroke=\"black\" cx=\"73.39\" cy=\"-162\" rx=\"73.28\" ry=\"18\"/>\n",
       "<text text-anchor=\"middle\" x=\"73.39\" y=\"-157.8\" font-family=\"Times,serif\" font-size=\"14.00\">Total Travel Time</text>\n",
       "</g>\n",
       "<!-- Total Travel Time&#45;&gt;Utility (WTD) -->\n",
       "<g id=\"edge2\" class=\"edge\">\n",
       "<title>Total Travel Time&#45;&gt;Utility (WTD)</title>\n",
       "<path fill=\"none\" stroke=\"black\" d=\"M60.66,-143.85C54.1,-133.92 46.78,-120.88 43.39,-108 39.31,-92.53 39.31,-87.47 43.39,-72 45.92,-62.39 50.64,-52.69 55.59,-44.26\"/>\n",
       "<polygon fill=\"black\" stroke=\"black\" points=\"58.63,-46.02 60.97,-35.68 52.7,-42.3 58.63,-46.02\"/>\n",
       "</g>\n",
       "<!-- Total Travel Time&#45;&gt;Total Travel Cost -->\n",
       "<g id=\"edge1\" class=\"edge\">\n",
       "<title>Total Travel Time&#45;&gt;Total Travel Cost</title>\n",
       "<path fill=\"none\" stroke=\"black\" d=\"M85.49,-144.05C91.51,-135.63 98.9,-125.28 105.56,-115.97\"/>\n",
       "<polygon fill=\"black\" stroke=\"black\" points=\"108.43,-117.96 111.4,-107.79 102.74,-113.89 108.43,-117.96\"/>\n",
       "</g>\n",
       "</g>\n",
       "</svg>\n"
      ],
      "text/plain": [
       "<graphviz.dot.Digraph at 0x1c23ca33d0>"
      ]
     },
     "execution_count": 53,
     "metadata": {},
     "output_type": "execute_result"
    }
   ],
   "source": [
    "V_WTD.draw()"
   ]
  },
  {
   "cell_type": "code",
   "execution_count": 54,
   "metadata": {},
   "outputs": [],
   "source": [
    "sim_bike_data_wide['total_travel_cost_wtd'] = WTD_Reg['total_travel_cost_on_total_travel_time'].params[0] +\\\n",
    "                                                  WTD_Reg['total_travel_cost_on_total_travel_time'].params[1] *\\\n",
    "                                                  sim_bike_data_wide['total_travel_time_wtd'] +\\\n",
    "                                                  np.random.normal(loc=0,\n",
    "                                                                   scale = WTD_Reg['total_travel_cost_on_total_travel_time'].resid.std(),\n",
    "                                                                   size = sim_size)"
   ]
  },
  {
   "cell_type": "markdown",
   "metadata": {},
   "source": [
    "### 3.5.7. Walk"
   ]
  },
  {
   "cell_type": "code",
   "execution_count": 55,
   "metadata": {},
   "outputs": [
    {
     "data": {
      "image/svg+xml": [
       "<?xml version=\"1.0\" encoding=\"UTF-8\" standalone=\"no\"?>\n",
       "<!DOCTYPE svg PUBLIC \"-//W3C//DTD SVG 1.1//EN\"\n",
       " \"http://www.w3.org/Graphics/SVG/1.1/DTD/svg11.dtd\">\n",
       "<!-- Generated by graphviz version 2.42.3 (20191010.1750)\n",
       " -->\n",
       "<!-- Title: %3 Pages: 1 -->\n",
       "<svg width=\"180pt\" height=\"116pt\"\n",
       " viewBox=\"0.00 0.00 180.25 116.00\" xmlns=\"http://www.w3.org/2000/svg\" xmlns:xlink=\"http://www.w3.org/1999/xlink\">\n",
       "<g id=\"graph0\" class=\"graph\" transform=\"scale(1 1) rotate(0) translate(4 112)\">\n",
       "<title>%3</title>\n",
       "<polygon fill=\"white\" stroke=\"transparent\" points=\"-4,4 -4,-112 176.25,-112 176.25,4 -4,4\"/>\n",
       "<!-- Utility (Walk) -->\n",
       "<g id=\"node1\" class=\"node\">\n",
       "<title>Utility (Walk)</title>\n",
       "<ellipse fill=\"none\" stroke=\"black\" cx=\"86.13\" cy=\"-18\" rx=\"60\" ry=\"18\"/>\n",
       "<text text-anchor=\"middle\" x=\"86.13\" y=\"-13.8\" font-family=\"Times,serif\" font-size=\"14.00\">Utility (Walk)</text>\n",
       "</g>\n",
       "<!-- Total Travel Distance -->\n",
       "<g id=\"node2\" class=\"node\">\n",
       "<title>Total Travel Distance</title>\n",
       "<ellipse fill=\"none\" stroke=\"black\" cx=\"86.13\" cy=\"-90\" rx=\"86.25\" ry=\"18\"/>\n",
       "<text text-anchor=\"middle\" x=\"86.13\" y=\"-85.8\" font-family=\"Times,serif\" font-size=\"14.00\">Total Travel Distance</text>\n",
       "</g>\n",
       "<!-- Total Travel Distance&#45;&gt;Utility (Walk) -->\n",
       "<g id=\"edge1\" class=\"edge\">\n",
       "<title>Total Travel Distance&#45;&gt;Utility (Walk)</title>\n",
       "<path fill=\"none\" stroke=\"black\" d=\"M86.13,-71.7C86.13,-63.98 86.13,-54.71 86.13,-46.11\"/>\n",
       "<polygon fill=\"black\" stroke=\"black\" points=\"89.63,-46.1 86.13,-36.1 82.63,-46.1 89.63,-46.1\"/>\n",
       "</g>\n",
       "</g>\n",
       "</svg>\n"
      ],
      "text/plain": [
       "<graphviz.dot.Digraph at 0x1c23caa610>"
      ]
     },
     "execution_count": 55,
     "metadata": {},
     "output_type": "execute_result"
    }
   ],
   "source": [
    "V_Walk.draw()"
   ]
  },
  {
   "cell_type": "markdown",
   "metadata": {},
   "source": [
    "No need to simulate any other variables since Walk Total Travel Distance was already simulated"
   ]
  },
  {
   "cell_type": "markdown",
   "metadata": {},
   "source": [
    "### 3.5.8. Bike"
   ]
  },
  {
   "cell_type": "code",
   "execution_count": 56,
   "metadata": {},
   "outputs": [
    {
     "data": {
      "image/svg+xml": [
       "<?xml version=\"1.0\" encoding=\"UTF-8\" standalone=\"no\"?>\n",
       "<!DOCTYPE svg PUBLIC \"-//W3C//DTD SVG 1.1//EN\"\n",
       " \"http://www.w3.org/Graphics/SVG/1.1/DTD/svg11.dtd\">\n",
       "<!-- Generated by graphviz version 2.42.3 (20191010.1750)\n",
       " -->\n",
       "<!-- Title: %3 Pages: 1 -->\n",
       "<svg width=\"180pt\" height=\"116pt\"\n",
       " viewBox=\"0.00 0.00 180.25 116.00\" xmlns=\"http://www.w3.org/2000/svg\" xmlns:xlink=\"http://www.w3.org/1999/xlink\">\n",
       "<g id=\"graph0\" class=\"graph\" transform=\"scale(1 1) rotate(0) translate(4 112)\">\n",
       "<title>%3</title>\n",
       "<polygon fill=\"white\" stroke=\"transparent\" points=\"-4,4 -4,-112 176.25,-112 176.25,4 -4,4\"/>\n",
       "<!-- Utility (Bike) -->\n",
       "<g id=\"node1\" class=\"node\">\n",
       "<title>Utility (Bike)</title>\n",
       "<ellipse fill=\"none\" stroke=\"black\" cx=\"86.13\" cy=\"-18\" rx=\"58.01\" ry=\"18\"/>\n",
       "<text text-anchor=\"middle\" x=\"86.13\" y=\"-13.8\" font-family=\"Times,serif\" font-size=\"14.00\">Utility (Bike)</text>\n",
       "</g>\n",
       "<!-- Total Travel Distance -->\n",
       "<g id=\"node2\" class=\"node\">\n",
       "<title>Total Travel Distance</title>\n",
       "<ellipse fill=\"none\" stroke=\"black\" cx=\"86.13\" cy=\"-90\" rx=\"86.25\" ry=\"18\"/>\n",
       "<text text-anchor=\"middle\" x=\"86.13\" y=\"-85.8\" font-family=\"Times,serif\" font-size=\"14.00\">Total Travel Distance</text>\n",
       "</g>\n",
       "<!-- Total Travel Distance&#45;&gt;Utility (Bike) -->\n",
       "<g id=\"edge1\" class=\"edge\">\n",
       "<title>Total Travel Distance&#45;&gt;Utility (Bike)</title>\n",
       "<path fill=\"none\" stroke=\"black\" d=\"M86.13,-71.7C86.13,-63.98 86.13,-54.71 86.13,-46.11\"/>\n",
       "<polygon fill=\"black\" stroke=\"black\" points=\"89.63,-46.1 86.13,-36.1 82.63,-46.1 89.63,-46.1\"/>\n",
       "</g>\n",
       "</g>\n",
       "</svg>\n"
      ],
      "text/plain": [
       "<graphviz.dot.Digraph at 0x1c23c91350>"
      ]
     },
     "execution_count": 56,
     "metadata": {},
     "output_type": "execute_result"
    }
   ],
   "source": [
    "V_Bike.draw()"
   ]
  },
  {
   "cell_type": "markdown",
   "metadata": {},
   "source": [
    "No need to simulate any other variables since Bike Total Travel Distance was already simulated"
   ]
  },
  {
   "cell_type": "markdown",
   "metadata": {},
   "source": [
    "## 3.6. Simulate Availability of Alternatives "
   ]
  },
  {
   "cell_type": "code",
   "execution_count": 57,
   "metadata": {},
   "outputs": [],
   "source": [
    "# Simulate availability, add fake choice column\n",
    "# and return final simulated data with availability\n",
    "# and choices\n",
    "wide_sim_data_availability = SimulateAvailability(data_long=bike_data_long,\n",
    "                                     sim_data=sim_bike_data_wide,\n",
    "                                     obs_id_col=observation_id_col,\n",
    "                                     alt_name_dict=alternative_name_dict)"
   ]
  },
  {
   "cell_type": "markdown",
   "metadata": {},
   "source": [
    "## 3.7. Convert Simulated Data from Wide to Long"
   ]
  },
  {
   "cell_type": "code",
   "execution_count": 58,
   "metadata": {},
   "outputs": [],
   "source": [
    "ind_variables = ['num_kids', 'household_size',\n",
    "                 'num_cars', 'num_licensed_drivers', 'cross_bay']\n",
    "\n",
    "\n",
    "\n",
    "# Dictionary of Alternative Specific Variables\n",
    "# TODO: verify whether all variables are needed\n",
    "# for each alternative\n",
    "alt_varying_variables = {u'total_travel_time': dict([(1, 'total_travel_time_drive_alone'),\n",
    "                                                     (2, 'total_travel_time_shared_2'),\n",
    "                                                     (3, 'total_travel_time_shared_3p'),\n",
    "                                                     (4, 'total_travel_time_wtw'),\n",
    "                                                     (5, 'total_travel_time_dtw'),\n",
    "                                                     (6, 'total_travel_time_wtd')]),\n",
    "                         u'total_travel_cost': dict([(1, 'total_travel_cost_drive_alone'),\n",
    "                                                     (2, 'total_travel_cost_shared_2'),\n",
    "                                                     (3, 'total_travel_cost_shared_3p'),\n",
    "                                                     (4, 'total_travel_cost_wtw'),\n",
    "                                                     (5, 'total_travel_cost_dtw'),\n",
    "                                                     (6, 'total_travel_cost_wtd')]),\n",
    "                         u'total_travel_distance': dict([(1, 'total_travel_distance_drive_alone'),\n",
    "                                                         (2, 'total_travel_distance_shared_2'),\n",
    "                                                         (3, 'total_travel_distance_shared_3p'),\n",
    "                                                         (7, 'total_travel_distance_walk'),\n",
    "                                                         (8, 'total_travel_distance_bike')]),\n",
    "                            }\n",
    "\n",
    "\n",
    "# Dictionary of alternative availability variables\n",
    "availability_variables = {1: 'drive_alone_AV',\n",
    "                          2: 'shared_2_AV',\n",
    "                          3: 'shared_3p_AV',\n",
    "                          4: 'wtw_AV',\n",
    "                          5: 'dtw_AV',\n",
    "                          6: 'wtd_AV',\n",
    "                          7: 'walk_AV',\n",
    "                          8: 'bike_AV'}\n",
    "\n",
    "##########\n",
    "# Determine the columns for: alternative ids, the observation ids and the choice\n",
    "##########\n",
    "# The 'custom_alt_id' is the name of a column to be created in the long-format data\n",
    "# It will identify the alternative associated with each row.\n",
    "custom_alt_id = \"mode_id\"\n",
    "\n",
    "# Create a custom id column that ignores the fact that this is a\n",
    "# panel/repeated-observations dataset. Note the +1 ensures the id's start at one.\n",
    "obs_id_column = \"observation_id\"\n",
    "wide_sim_data_availability[obs_id_column] = np.arange(wide_sim_data_availability.shape[0],\n",
    "                                         dtype=int) + 1\n",
    "\n",
    "\n",
    "# Declare choice column\n",
    "choice_column = \"sim_choice\""
   ]
  },
  {
   "cell_type": "code",
   "execution_count": 59,
   "metadata": {},
   "outputs": [],
   "source": [
    "# Convert data from wide to long\n",
    "long_sim_data = pl.convert_wide_to_long(wide_sim_data_availability,\n",
    "                                        ind_variables,\n",
    "                                        alt_varying_variables,\n",
    "                                        availability_variables,\n",
    "                                        obs_id_column,\n",
    "                                        choice_column,\n",
    "                                        new_alt_id_name=custom_alt_id)"
   ]
  },
  {
   "cell_type": "code",
   "execution_count": 60,
   "metadata": {},
   "outputs": [],
   "source": [
    "# Create a cars per licensed drivers column\n",
    "long_sim_data[\"cars_per_licensed_drivers\"] = 0\n",
    "long_sim_data.loc[long_sim_data.num_licensed_drivers > 0,\n",
    "                  \"cars_per_licensed_drivers\"] = long_sim_data.num_cars / long_sim_data.num_licensed_drivers.astype(float)"
   ]
  },
  {
   "cell_type": "code",
   "execution_count": 61,
   "metadata": {},
   "outputs": [],
   "source": [
    "# Add a variable representing cost divided by distance\n",
    "long_sim_data[\"cost_per_distance\"] = 0\n",
    "long_sim_data.loc[long_sim_data.mode_id.isin([1, 2, 3]),\n",
    "                  \"cost_per_distance\"] = (long_sim_data.loc[long_sim_data.mode_id.isin([1, 2, 3]),\n",
    "                                                            \"total_travel_cost\"] /\n",
    "                                          long_sim_data.loc[long_sim_data.mode_id.isin([1, 2, 3]),\n",
    "                                                            \"total_travel_distance\"])"
   ]
  },
  {
   "cell_type": "markdown",
   "metadata": {},
   "source": [
    "## 3.8. Simulate Choices "
   ]
  },
  {
   "cell_type": "code",
   "execution_count": 62,
   "metadata": {},
   "outputs": [
    {
     "name": "stderr",
     "output_type": "stream",
     "text": [
      "/Users/mobouzaghrane/opt/anaconda3/lib/python3.7/site-packages/pylogit/choice_tools.py:703: FutureWarning: arrays to stack must be passed as a \"sequence\" type such as list or tuple. Support for non-sequence iterables such as generators is deprecated as of NumPy 1.16 and will raise an error in the future.\n",
      "  design_matrix = np.hstack((x[:, None] for x in independent_vars))\n"
     ]
    }
   ],
   "source": [
    "# Calculate probabilities for each alternative\n",
    "# based on the estimated model\n",
    "posterior_probs = mnl_model.predict(long_sim_data)"
   ]
  },
  {
   "cell_type": "code",
   "execution_count": 63,
   "metadata": {},
   "outputs": [
    {
     "data": {
      "application/vnd.jupyter.widget-view+json": {
       "model_id": "ad6b0ad9ad7c4579a3ce96832a1ccc5e",
       "version_major": 2,
       "version_minor": 0
      },
      "text/plain": [
       "HBox(children=(IntProgress(value=0, description='Simulating Choices', max=8000, style=ProgressStyle(descriptio…"
      ]
     },
     "metadata": {},
     "output_type": "display_data"
    },
    {
     "name": "stdout",
     "output_type": "stream",
     "text": [
      "\n"
     ]
    }
   ],
   "source": [
    "# Simulate choice data\n",
    "long_sim_data['sim_choice'] = viz.simulate_choice_vector(posterior_probs,\n",
    "                               long_sim_data['observation_id'].values)"
   ]
  },
  {
   "cell_type": "markdown",
   "metadata": {},
   "source": [
    "## 3.9. Estimate Model"
   ]
  },
  {
   "cell_type": "code",
   "execution_count": 64,
   "metadata": {},
   "outputs": [
    {
     "name": "stdout",
     "output_type": "stream",
     "text": [
      "Log-likelihood at zero: -15,169.1932\n",
      "Initial Log-likelihood: -15,169.1932\n"
     ]
    },
    {
     "name": "stderr",
     "output_type": "stream",
     "text": [
      "/Users/mobouzaghrane/opt/anaconda3/lib/python3.7/site-packages/scipy/optimize/_minimize.py:505: RuntimeWarning: Method BFGS does not use Hessian information (hess).\n",
      "  RuntimeWarning)\n"
     ]
    },
    {
     "name": "stdout",
     "output_type": "stream",
     "text": [
      "Estimation Time for Point Estimation: 0.45 seconds.\n",
      "Final log-likelihood: -5,568.2677\n"
     ]
    },
    {
     "data": {
      "text/html": [
       "<table class=\"simpletable\">\n",
       "<caption>Multinomial Logit Model Regression Results</caption>\n",
       "<tr>\n",
       "  <th>Dep. Variable:</th>       <td>sim_choice</td>        <th>  No. Observations:  </th>    <td>8,000</td>   \n",
       "</tr>\n",
       "<tr>\n",
       "  <th>Model:</th>         <td>Multinomial Logit Model</td> <th>  Df Residuals:      </th>    <td>7,981</td>   \n",
       "</tr>\n",
       "<tr>\n",
       "  <th>Method:</th>                  <td>MLE</td>           <th>  Df Model:          </th>     <td>19</td>     \n",
       "</tr>\n",
       "<tr>\n",
       "  <th>Date:</th>             <td>Sat, 28 Mar 2020</td>     <th>  Pseudo R-squ.:     </th>    <td>0.633</td>   \n",
       "</tr>\n",
       "<tr>\n",
       "  <th>Time:</th>                 <td>12:36:17</td>         <th>  Pseudo R-bar-squ.: </th>    <td>0.632</td>   \n",
       "</tr>\n",
       "<tr>\n",
       "  <th>AIC:</th>                 <td>11,174.535</td>        <th>  Log-Likelihood:    </th> <td>-5,568.268</td> \n",
       "</tr>\n",
       "<tr>\n",
       "  <th>BIC:</th>                 <td>11,307.292</td>        <th>  LL-Null:           </th> <td>-15,169.193</td>\n",
       "</tr>\n",
       "</table>\n",
       "<table class=\"simpletable\">\n",
       "<tr>\n",
       "                            <td></td>                              <th>coef</th>     <th>std err</th>      <th>z</th>      <th>P>|z|</th>  <th>[0.025</th>    <th>0.975]</th>  \n",
       "</tr>\n",
       "<tr>\n",
       "  <th>ASC Shared Ride: 2</th>                                   <td>   -1.0427</td> <td>    0.129</td> <td>   -8.080</td> <td> 0.000</td> <td>   -1.296</td> <td>   -0.790</td>\n",
       "</tr>\n",
       "<tr>\n",
       "  <th>ASC Shared Ride: 3+</th>                                  <td>    3.6770</td> <td>    0.202</td> <td>   18.187</td> <td> 0.000</td> <td>    3.281</td> <td>    4.073</td>\n",
       "</tr>\n",
       "<tr>\n",
       "  <th>ASC Walk-Transit-Walk</th>                                <td>   -0.4810</td> <td>    0.143</td> <td>   -3.367</td> <td> 0.001</td> <td>   -0.761</td> <td>   -0.201</td>\n",
       "</tr>\n",
       "<tr>\n",
       "  <th>ASC Drive-Transit-Walk</th>                               <td>   -2.5540</td> <td>    0.148</td> <td>  -17.293</td> <td> 0.000</td> <td>   -2.843</td> <td>   -2.265</td>\n",
       "</tr>\n",
       "<tr>\n",
       "  <th>ASC Walk-Transit-Drive</th>                               <td>   -3.1982</td> <td>    0.162</td> <td>  -19.700</td> <td> 0.000</td> <td>   -3.516</td> <td>   -2.880</td>\n",
       "</tr>\n",
       "<tr>\n",
       "  <th>ASC Walk</th>                                             <td>    1.5064</td> <td>    0.145</td> <td>   10.416</td> <td> 0.000</td> <td>    1.223</td> <td>    1.790</td>\n",
       "</tr>\n",
       "<tr>\n",
       "  <th>ASC Bike</th>                                             <td>   -1.3175</td> <td>    0.116</td> <td>  -11.351</td> <td> 0.000</td> <td>   -1.545</td> <td>   -1.090</td>\n",
       "</tr>\n",
       "<tr>\n",
       "  <th>Travel Time, units:min (All Auto Modes)</th>              <td>   -0.0769</td> <td>    0.002</td> <td>  -33.205</td> <td> 0.000</td> <td>   -0.081</td> <td>   -0.072</td>\n",
       "</tr>\n",
       "<tr>\n",
       "  <th>Travel Time, units:min (All Transit Modes)</th>           <td>   -0.0290</td> <td>    0.002</td> <td>  -19.203</td> <td> 0.000</td> <td>   -0.032</td> <td>   -0.026</td>\n",
       "</tr>\n",
       "<tr>\n",
       "  <th>Travel Cost, units:$ (All Transit Modes)</th>             <td>   -0.1251</td> <td>    0.019</td> <td>   -6.438</td> <td> 0.000</td> <td>   -0.163</td> <td>   -0.087</td>\n",
       "</tr>\n",
       "<tr>\n",
       "  <th>Travel Cost per Distance, units:$/mi (Drive Alone)</th>   <td>   -5.1524</td> <td>    0.190</td> <td>  -27.172</td> <td> 0.000</td> <td>   -5.524</td> <td>   -4.781</td>\n",
       "</tr>\n",
       "<tr>\n",
       "  <th>Travel Cost per Distance, units:$/mi (SharedRide-2)</th>  <td>  -20.4075</td> <td>    0.642</td> <td>  -31.810</td> <td> 0.000</td> <td>  -21.665</td> <td>  -19.150</td>\n",
       "</tr>\n",
       "<tr>\n",
       "  <th>Travel Cost per Distance, units:$/mi (SharedRide-3+)</th> <td>  -96.3368</td> <td>    2.806</td> <td>  -34.330</td> <td> 0.000</td> <td> -101.837</td> <td>  -90.837</td>\n",
       "</tr>\n",
       "<tr>\n",
       "  <th>Autos per licensed drivers (All Auto Modes)</th>          <td>    1.1744</td> <td>    0.060</td> <td>   19.517</td> <td> 0.000</td> <td>    1.056</td> <td>    1.292</td>\n",
       "</tr>\n",
       "<tr>\n",
       "  <th>Travel Distance, units:mi (Walk)</th>                     <td>   -1.0597</td> <td>    0.037</td> <td>  -28.305</td> <td> 0.000</td> <td>   -1.133</td> <td>   -0.986</td>\n",
       "</tr>\n",
       "<tr>\n",
       "  <th>Travel Distance, units:mi (Bike)</th>                     <td>   -0.2801</td> <td>    0.015</td> <td>  -18.667</td> <td> 0.000</td> <td>   -0.309</td> <td>   -0.251</td>\n",
       "</tr>\n",
       "<tr>\n",
       "  <th>Cross-Bay Tour (Shared Ride 2 & 3+)</th>                  <td>    1.2513</td> <td>    0.156</td> <td>    8.033</td> <td> 0.000</td> <td>    0.946</td> <td>    1.557</td>\n",
       "</tr>\n",
       "<tr>\n",
       "  <th>Household Size (Shared Ride 2 & 3+)</th>                  <td>    0.1259</td> <td>    0.029</td> <td>    4.410</td> <td> 0.000</td> <td>    0.070</td> <td>    0.182</td>\n",
       "</tr>\n",
       "<tr>\n",
       "  <th>Number of Kids in Household (Shared Ride 2 & 3+)</th>     <td>    0.6400</td> <td>    0.034</td> <td>   18.726</td> <td> 0.000</td> <td>    0.573</td> <td>    0.707</td>\n",
       "</tr>\n",
       "</table>"
      ],
      "text/plain": [
       "<class 'statsmodels.iolib.summary.Summary'>\n",
       "\"\"\"\n",
       "                     Multinomial Logit Model Regression Results                    \n",
       "===================================================================================\n",
       "Dep. Variable:                  sim_choice   No. Observations:                8,000\n",
       "Model:             Multinomial Logit Model   Df Residuals:                    7,981\n",
       "Method:                                MLE   Df Model:                           19\n",
       "Date:                     Sat, 28 Mar 2020   Pseudo R-squ.:                   0.633\n",
       "Time:                             12:36:17   Pseudo R-bar-squ.:               0.632\n",
       "AIC:                            11,174.535   Log-Likelihood:             -5,568.268\n",
       "BIC:                            11,307.292   LL-Null:                   -15,169.193\n",
       "========================================================================================================================\n",
       "                                                           coef    std err          z      P>|z|      [0.025      0.975]\n",
       "------------------------------------------------------------------------------------------------------------------------\n",
       "ASC Shared Ride: 2                                      -1.0427      0.129     -8.080      0.000      -1.296      -0.790\n",
       "ASC Shared Ride: 3+                                      3.6770      0.202     18.187      0.000       3.281       4.073\n",
       "ASC Walk-Transit-Walk                                   -0.4810      0.143     -3.367      0.001      -0.761      -0.201\n",
       "ASC Drive-Transit-Walk                                  -2.5540      0.148    -17.293      0.000      -2.843      -2.265\n",
       "ASC Walk-Transit-Drive                                  -3.1982      0.162    -19.700      0.000      -3.516      -2.880\n",
       "ASC Walk                                                 1.5064      0.145     10.416      0.000       1.223       1.790\n",
       "ASC Bike                                                -1.3175      0.116    -11.351      0.000      -1.545      -1.090\n",
       "Travel Time, units:min (All Auto Modes)                 -0.0769      0.002    -33.205      0.000      -0.081      -0.072\n",
       "Travel Time, units:min (All Transit Modes)              -0.0290      0.002    -19.203      0.000      -0.032      -0.026\n",
       "Travel Cost, units:$ (All Transit Modes)                -0.1251      0.019     -6.438      0.000      -0.163      -0.087\n",
       "Travel Cost per Distance, units:$/mi (Drive Alone)      -5.1524      0.190    -27.172      0.000      -5.524      -4.781\n",
       "Travel Cost per Distance, units:$/mi (SharedRide-2)    -20.4075      0.642    -31.810      0.000     -21.665     -19.150\n",
       "Travel Cost per Distance, units:$/mi (SharedRide-3+)   -96.3368      2.806    -34.330      0.000    -101.837     -90.837\n",
       "Autos per licensed drivers (All Auto Modes)              1.1744      0.060     19.517      0.000       1.056       1.292\n",
       "Travel Distance, units:mi (Walk)                        -1.0597      0.037    -28.305      0.000      -1.133      -0.986\n",
       "Travel Distance, units:mi (Bike)                        -0.2801      0.015    -18.667      0.000      -0.309      -0.251\n",
       "Cross-Bay Tour (Shared Ride 2 & 3+)                      1.2513      0.156      8.033      0.000       0.946       1.557\n",
       "Household Size (Shared Ride 2 & 3+)                      0.1259      0.029      4.410      0.000       0.070       0.182\n",
       "Number of Kids in Household (Shared Ride 2 & 3+)         0.6400      0.034     18.726      0.000       0.573       0.707\n",
       "========================================================================================================================\n",
       "\"\"\""
      ]
     },
     "execution_count": 64,
     "metadata": {},
     "output_type": "execute_result"
    }
   ],
   "source": [
    "# Estimate the basic MNL model, using the hessian and newton-conjugate gradient\n",
    "mnl_model_sim = pl.create_choice_model(data=long_sim_data,\n",
    "                                           alt_id_col=alternative_id_col,\n",
    "                                           obs_id_col=observation_id_col,\n",
    "                                           choice_col=choice_column,\n",
    "                                           specification=mnl_specification,\n",
    "                                           model_type=\"MNL\",\n",
    "                                           names=mnl_names)\n",
    "\n",
    "num_vars = len(reduce(lambda x, y: x + y, mnl_names.values()))\n",
    "\n",
    "# Note newton-cg used to ensure convergence to a point where gradient \n",
    "# is essentially zero for all dimensions. \n",
    "mnl_model_sim.fit_mle(np.zeros(num_vars),\n",
    "                      method=\"BFGS\")\n",
    "\n",
    "# Look at the estimation results\n",
    "mnl_model_sim.get_statsmodels_summary()"
   ]
  },
  {
   "cell_type": "markdown",
   "metadata": {},
   "source": [
    "# 4. Simulate and Estimate N Times"
   ]
  },
  {
   "cell_type": "code",
   "execution_count": 65,
   "metadata": {},
   "outputs": [
    {
     "name": "stdout",
     "output_type": "stream",
     "text": [
      "Simulation number 1 is in progress...\n",
      "Simulation size is 6955\n",
      "------------------------------------------\n",
      "Simulating data...\n",
      "Simulating Availability...\n",
      "Converting data from wide to long...\n",
      "Simulating Choices...\n"
     ]
    },
    {
     "name": "stderr",
     "output_type": "stream",
     "text": [
      "/Users/mobouzaghrane/opt/anaconda3/lib/python3.7/site-packages/pylogit/choice_tools.py:703: FutureWarning: arrays to stack must be passed as a \"sequence\" type such as list or tuple. Support for non-sequence iterables such as generators is deprecated as of NumPy 1.16 and will raise an error in the future.\n",
      "  design_matrix = np.hstack((x[:, None] for x in independent_vars))\n"
     ]
    },
    {
     "data": {
      "application/vnd.jupyter.widget-view+json": {
       "model_id": "e20b354796a644d49c912dca6d78f5d1",
       "version_major": 2,
       "version_minor": 0
      },
      "text/plain": [
       "HBox(children=(IntProgress(value=0, description='Simulating Choices', max=6955, style=ProgressStyle(descriptio…"
      ]
     },
     "metadata": {},
     "output_type": "display_data"
    },
    {
     "name": "stdout",
     "output_type": "stream",
     "text": [
      "\n",
      "Estimating the choice model...\n",
      "Log-likelihood at zero: -13,168.4640\n",
      "Initial Log-likelihood: -13,168.4640\n"
     ]
    },
    {
     "name": "stderr",
     "output_type": "stream",
     "text": [
      "/Users/mobouzaghrane/opt/anaconda3/lib/python3.7/site-packages/scipy/optimize/_minimize.py:505: RuntimeWarning: Method BFGS does not use Hessian information (hess).\n",
      "  RuntimeWarning)\n"
     ]
    },
    {
     "name": "stdout",
     "output_type": "stream",
     "text": [
      "Estimation Time for Point Estimation: 0.55 seconds.\n",
      "Final log-likelihood: -4,753.0002\n",
      "Simulation number 1 is complete!\n",
      "==========================================\n",
      "==========================================\n",
      "Simulation number 2 is in progress...\n",
      "Simulation size is 4956\n",
      "------------------------------------------\n",
      "Simulating data...\n",
      "Simulating Availability...\n",
      "Converting data from wide to long...\n",
      "Simulating Choices...\n"
     ]
    },
    {
     "name": "stderr",
     "output_type": "stream",
     "text": [
      "/Users/mobouzaghrane/opt/anaconda3/lib/python3.7/site-packages/pylogit/choice_tools.py:703: FutureWarning: arrays to stack must be passed as a \"sequence\" type such as list or tuple. Support for non-sequence iterables such as generators is deprecated as of NumPy 1.16 and will raise an error in the future.\n",
      "  design_matrix = np.hstack((x[:, None] for x in independent_vars))\n"
     ]
    },
    {
     "data": {
      "application/vnd.jupyter.widget-view+json": {
       "model_id": "1ac6553884ce4bc38a5c72f8281f2c7c",
       "version_major": 2,
       "version_minor": 0
      },
      "text/plain": [
       "HBox(children=(IntProgress(value=0, description='Simulating Choices', max=4956, style=ProgressStyle(descriptio…"
      ]
     },
     "metadata": {},
     "output_type": "display_data"
    },
    {
     "name": "stdout",
     "output_type": "stream",
     "text": [
      "\n",
      "Estimating the choice model...\n",
      "Log-likelihood at zero: -9,404.4889\n",
      "Initial Log-likelihood: -9,404.4889\n"
     ]
    },
    {
     "name": "stderr",
     "output_type": "stream",
     "text": [
      "/Users/mobouzaghrane/opt/anaconda3/lib/python3.7/site-packages/scipy/optimize/_minimize.py:505: RuntimeWarning: Method BFGS does not use Hessian information (hess).\n",
      "  RuntimeWarning)\n"
     ]
    },
    {
     "name": "stdout",
     "output_type": "stream",
     "text": [
      "Estimation Time for Point Estimation: 0.23 seconds.\n",
      "Final log-likelihood: -3,427.3302\n",
      "Simulation number 2 is complete!\n",
      "==========================================\n",
      "==========================================\n",
      "Simulation number 3 is in progress...\n",
      "Simulation size is 8871\n",
      "------------------------------------------\n",
      "Simulating data...\n",
      "Simulating Availability...\n",
      "Converting data from wide to long...\n",
      "Simulating Choices...\n"
     ]
    },
    {
     "name": "stderr",
     "output_type": "stream",
     "text": [
      "/Users/mobouzaghrane/opt/anaconda3/lib/python3.7/site-packages/pylogit/choice_tools.py:703: FutureWarning: arrays to stack must be passed as a \"sequence\" type such as list or tuple. Support for non-sequence iterables such as generators is deprecated as of NumPy 1.16 and will raise an error in the future.\n",
      "  design_matrix = np.hstack((x[:, None] for x in independent_vars))\n"
     ]
    },
    {
     "data": {
      "application/vnd.jupyter.widget-view+json": {
       "model_id": "22ce085245b94e57baceb195d7301172",
       "version_major": 2,
       "version_minor": 0
      },
      "text/plain": [
       "HBox(children=(IntProgress(value=0, description='Simulating Choices', max=8871, style=ProgressStyle(descriptio…"
      ]
     },
     "metadata": {},
     "output_type": "display_data"
    },
    {
     "name": "stdout",
     "output_type": "stream",
     "text": [
      "\n",
      "Estimating the choice model...\n",
      "Log-likelihood at zero: -16,840.2147\n",
      "Initial Log-likelihood: -16,840.2147\n"
     ]
    },
    {
     "name": "stderr",
     "output_type": "stream",
     "text": [
      "/Users/mobouzaghrane/opt/anaconda3/lib/python3.7/site-packages/scipy/optimize/_minimize.py:505: RuntimeWarning: Method BFGS does not use Hessian information (hess).\n",
      "  RuntimeWarning)\n"
     ]
    },
    {
     "name": "stdout",
     "output_type": "stream",
     "text": [
      "Estimation Time for Point Estimation: 0.51 seconds.\n",
      "Final log-likelihood: -6,192.5281\n",
      "Simulation number 3 is complete!\n",
      "==========================================\n",
      "==========================================\n",
      "Simulation number 4 is in progress...\n",
      "Simulation size is 4191\n",
      "------------------------------------------\n",
      "Simulating data...\n",
      "Simulating Availability...\n",
      "Converting data from wide to long...\n",
      "Simulating Choices...\n"
     ]
    },
    {
     "name": "stderr",
     "output_type": "stream",
     "text": [
      "/Users/mobouzaghrane/opt/anaconda3/lib/python3.7/site-packages/pylogit/choice_tools.py:703: FutureWarning: arrays to stack must be passed as a \"sequence\" type such as list or tuple. Support for non-sequence iterables such as generators is deprecated as of NumPy 1.16 and will raise an error in the future.\n",
      "  design_matrix = np.hstack((x[:, None] for x in independent_vars))\n"
     ]
    },
    {
     "data": {
      "application/vnd.jupyter.widget-view+json": {
       "model_id": "2d0fa0e83d78408f8ecf1a3e77c6690f",
       "version_major": 2,
       "version_minor": 0
      },
      "text/plain": [
       "HBox(children=(IntProgress(value=0, description='Simulating Choices', max=4191, style=ProgressStyle(descriptio…"
      ]
     },
     "metadata": {},
     "output_type": "display_data"
    },
    {
     "name": "stdout",
     "output_type": "stream",
     "text": [
      "\n",
      "Estimating the choice model...\n",
      "Log-likelihood at zero: -7,972.0177\n",
      "Initial Log-likelihood: -7,972.0177\n"
     ]
    },
    {
     "name": "stderr",
     "output_type": "stream",
     "text": [
      "/Users/mobouzaghrane/opt/anaconda3/lib/python3.7/site-packages/scipy/optimize/_minimize.py:505: RuntimeWarning: Method BFGS does not use Hessian information (hess).\n",
      "  RuntimeWarning)\n"
     ]
    },
    {
     "name": "stdout",
     "output_type": "stream",
     "text": [
      "Estimation Time for Point Estimation: 0.31 seconds.\n",
      "Final log-likelihood: -2,965.3781\n",
      "Simulation number 4 is complete!\n",
      "==========================================\n",
      "==========================================\n",
      "Simulation number 5 is in progress...\n",
      "Simulation size is 5999\n",
      "------------------------------------------\n",
      "Simulating data...\n",
      "Simulating Availability...\n",
      "Converting data from wide to long...\n",
      "Simulating Choices...\n"
     ]
    },
    {
     "name": "stderr",
     "output_type": "stream",
     "text": [
      "/Users/mobouzaghrane/opt/anaconda3/lib/python3.7/site-packages/pylogit/choice_tools.py:703: FutureWarning: arrays to stack must be passed as a \"sequence\" type such as list or tuple. Support for non-sequence iterables such as generators is deprecated as of NumPy 1.16 and will raise an error in the future.\n",
      "  design_matrix = np.hstack((x[:, None] for x in independent_vars))\n"
     ]
    },
    {
     "data": {
      "application/vnd.jupyter.widget-view+json": {
       "model_id": "90779385d0554ea2b721dec66c8bf350",
       "version_major": 2,
       "version_minor": 0
      },
      "text/plain": [
       "HBox(children=(IntProgress(value=0, description='Simulating Choices', max=5999, style=ProgressStyle(descriptio…"
      ]
     },
     "metadata": {},
     "output_type": "display_data"
    },
    {
     "name": "stdout",
     "output_type": "stream",
     "text": [
      "\n",
      "Estimating the choice model...\n",
      "Log-likelihood at zero: -11,405.6666\n",
      "Initial Log-likelihood: -11,405.6666\n"
     ]
    },
    {
     "name": "stderr",
     "output_type": "stream",
     "text": [
      "/Users/mobouzaghrane/opt/anaconda3/lib/python3.7/site-packages/scipy/optimize/_minimize.py:505: RuntimeWarning: Method BFGS does not use Hessian information (hess).\n",
      "  RuntimeWarning)\n"
     ]
    },
    {
     "name": "stdout",
     "output_type": "stream",
     "text": [
      "Estimation Time for Point Estimation: 0.34 seconds.\n",
      "Final log-likelihood: -4,276.7086\n",
      "Simulation number 5 is complete!\n",
      "==========================================\n",
      "==========================================\n",
      "Simulation number 6 is in progress...\n",
      "Simulation size is 3613\n",
      "------------------------------------------\n",
      "Simulating data...\n",
      "Simulating Availability...\n",
      "Converting data from wide to long...\n",
      "Simulating Choices...\n"
     ]
    },
    {
     "name": "stderr",
     "output_type": "stream",
     "text": [
      "/Users/mobouzaghrane/opt/anaconda3/lib/python3.7/site-packages/pylogit/choice_tools.py:703: FutureWarning: arrays to stack must be passed as a \"sequence\" type such as list or tuple. Support for non-sequence iterables such as generators is deprecated as of NumPy 1.16 and will raise an error in the future.\n",
      "  design_matrix = np.hstack((x[:, None] for x in independent_vars))\n"
     ]
    },
    {
     "data": {
      "application/vnd.jupyter.widget-view+json": {
       "model_id": "1cdff5652a79443db90b6ac8bd057191",
       "version_major": 2,
       "version_minor": 0
      },
      "text/plain": [
       "HBox(children=(IntProgress(value=0, description='Simulating Choices', max=3613, style=ProgressStyle(descriptio…"
      ]
     },
     "metadata": {},
     "output_type": "display_data"
    },
    {
     "name": "stdout",
     "output_type": "stream",
     "text": [
      "\n",
      "Estimating the choice model...\n",
      "Log-likelihood at zero: -6,861.6563\n",
      "Initial Log-likelihood: -6,861.6563\n",
      "Estimation Time for Point Estimation: 0.20 seconds.\n",
      "Final log-likelihood: -2,600.0264\n"
     ]
    },
    {
     "name": "stderr",
     "output_type": "stream",
     "text": [
      "/Users/mobouzaghrane/opt/anaconda3/lib/python3.7/site-packages/scipy/optimize/_minimize.py:505: RuntimeWarning: Method BFGS does not use Hessian information (hess).\n",
      "  RuntimeWarning)\n"
     ]
    },
    {
     "name": "stdout",
     "output_type": "stream",
     "text": [
      "Simulation number 6 is complete!\n",
      "==========================================\n",
      "==========================================\n",
      "Simulation number 7 is in progress...\n",
      "Simulation size is 6341\n",
      "------------------------------------------\n",
      "Simulating data...\n",
      "Simulating Availability...\n",
      "Converting data from wide to long...\n",
      "Simulating Choices...\n"
     ]
    },
    {
     "name": "stderr",
     "output_type": "stream",
     "text": [
      "/Users/mobouzaghrane/opt/anaconda3/lib/python3.7/site-packages/pylogit/choice_tools.py:703: FutureWarning: arrays to stack must be passed as a \"sequence\" type such as list or tuple. Support for non-sequence iterables such as generators is deprecated as of NumPy 1.16 and will raise an error in the future.\n",
      "  design_matrix = np.hstack((x[:, None] for x in independent_vars))\n"
     ]
    },
    {
     "data": {
      "application/vnd.jupyter.widget-view+json": {
       "model_id": "81bdc64c3c9e4bdd91901b5b31ff98d8",
       "version_major": 2,
       "version_minor": 0
      },
      "text/plain": [
       "HBox(children=(IntProgress(value=0, description='Simulating Choices', max=6341, style=ProgressStyle(descriptio…"
      ]
     },
     "metadata": {},
     "output_type": "display_data"
    },
    {
     "name": "stdout",
     "output_type": "stream",
     "text": [
      "\n",
      "Estimating the choice model...\n",
      "Log-likelihood at zero: -12,048.0240\n",
      "Initial Log-likelihood: -12,048.0240\n"
     ]
    },
    {
     "name": "stderr",
     "output_type": "stream",
     "text": [
      "/Users/mobouzaghrane/opt/anaconda3/lib/python3.7/site-packages/scipy/optimize/_minimize.py:505: RuntimeWarning: Method BFGS does not use Hessian information (hess).\n",
      "  RuntimeWarning)\n"
     ]
    },
    {
     "name": "stdout",
     "output_type": "stream",
     "text": [
      "Estimation Time for Point Estimation: 0.40 seconds.\n",
      "Final log-likelihood: -4,566.3332\n",
      "Simulation number 7 is complete!\n",
      "==========================================\n",
      "==========================================\n",
      "Simulation number 8 is in progress...\n",
      "Simulation size is 5821\n",
      "------------------------------------------\n",
      "Simulating data...\n",
      "Simulating Availability...\n",
      "Converting data from wide to long...\n",
      "Simulating Choices...\n"
     ]
    },
    {
     "name": "stderr",
     "output_type": "stream",
     "text": [
      "/Users/mobouzaghrane/opt/anaconda3/lib/python3.7/site-packages/pylogit/choice_tools.py:703: FutureWarning: arrays to stack must be passed as a \"sequence\" type such as list or tuple. Support for non-sequence iterables such as generators is deprecated as of NumPy 1.16 and will raise an error in the future.\n",
      "  design_matrix = np.hstack((x[:, None] for x in independent_vars))\n"
     ]
    },
    {
     "data": {
      "application/vnd.jupyter.widget-view+json": {
       "model_id": "74904507d146488e942075b9471b5117",
       "version_major": 2,
       "version_minor": 0
      },
      "text/plain": [
       "HBox(children=(IntProgress(value=0, description='Simulating Choices', max=5821, style=ProgressStyle(descriptio…"
      ]
     },
     "metadata": {},
     "output_type": "display_data"
    },
    {
     "name": "stdout",
     "output_type": "stream",
     "text": [
      "\n",
      "Estimating the choice model...\n",
      "Log-likelihood at zero: -11,057.4665\n",
      "Initial Log-likelihood: -11,057.4665\n"
     ]
    },
    {
     "name": "stderr",
     "output_type": "stream",
     "text": [
      "/Users/mobouzaghrane/opt/anaconda3/lib/python3.7/site-packages/scipy/optimize/_minimize.py:505: RuntimeWarning: Method BFGS does not use Hessian information (hess).\n",
      "  RuntimeWarning)\n"
     ]
    },
    {
     "name": "stdout",
     "output_type": "stream",
     "text": [
      "Estimation Time for Point Estimation: 0.31 seconds.\n",
      "Final log-likelihood: -4,047.8350\n",
      "Simulation number 8 is complete!\n",
      "==========================================\n",
      "==========================================\n",
      "Simulation number 9 is in progress...\n",
      "Simulation size is 3753\n",
      "------------------------------------------\n",
      "Simulating data...\n",
      "Simulating Availability...\n",
      "Converting data from wide to long...\n",
      "Simulating Choices...\n"
     ]
    },
    {
     "name": "stderr",
     "output_type": "stream",
     "text": [
      "/Users/mobouzaghrane/opt/anaconda3/lib/python3.7/site-packages/pylogit/choice_tools.py:703: FutureWarning: arrays to stack must be passed as a \"sequence\" type such as list or tuple. Support for non-sequence iterables such as generators is deprecated as of NumPy 1.16 and will raise an error in the future.\n",
      "  design_matrix = np.hstack((x[:, None] for x in independent_vars))\n"
     ]
    },
    {
     "data": {
      "application/vnd.jupyter.widget-view+json": {
       "model_id": "d445caaabb78420c82586a857d6ebb30",
       "version_major": 2,
       "version_minor": 0
      },
      "text/plain": [
       "HBox(children=(IntProgress(value=0, description='Simulating Choices', max=3753, style=ProgressStyle(descriptio…"
      ]
     },
     "metadata": {},
     "output_type": "display_data"
    },
    {
     "name": "stdout",
     "output_type": "stream",
     "text": [
      "\n",
      "Estimating the choice model...\n",
      "Log-likelihood at zero: -7,126.9753\n",
      "Initial Log-likelihood: -7,126.9753\n",
      "Estimation Time for Point Estimation: 0.18 seconds.\n",
      "Final log-likelihood: -2,689.6929\n"
     ]
    },
    {
     "name": "stderr",
     "output_type": "stream",
     "text": [
      "/Users/mobouzaghrane/opt/anaconda3/lib/python3.7/site-packages/scipy/optimize/_minimize.py:505: RuntimeWarning: Method BFGS does not use Hessian information (hess).\n",
      "  RuntimeWarning)\n"
     ]
    },
    {
     "name": "stdout",
     "output_type": "stream",
     "text": [
      "Simulation number 9 is complete!\n",
      "==========================================\n",
      "==========================================\n",
      "Simulation number 10 is in progress...\n",
      "Simulation size is 7180\n",
      "------------------------------------------\n",
      "Simulating data...\n",
      "Simulating Availability...\n",
      "Converting data from wide to long...\n",
      "Simulating Choices...\n"
     ]
    },
    {
     "name": "stderr",
     "output_type": "stream",
     "text": [
      "/Users/mobouzaghrane/opt/anaconda3/lib/python3.7/site-packages/pylogit/choice_tools.py:703: FutureWarning: arrays to stack must be passed as a \"sequence\" type such as list or tuple. Support for non-sequence iterables such as generators is deprecated as of NumPy 1.16 and will raise an error in the future.\n",
      "  design_matrix = np.hstack((x[:, None] for x in independent_vars))\n"
     ]
    },
    {
     "data": {
      "application/vnd.jupyter.widget-view+json": {
       "model_id": "29d9039c7a9f43c98fda9a46fae946cf",
       "version_major": 2,
       "version_minor": 0
      },
      "text/plain": [
       "HBox(children=(IntProgress(value=0, description='Simulating Choices', max=7180, style=ProgressStyle(descriptio…"
      ]
     },
     "metadata": {},
     "output_type": "display_data"
    },
    {
     "name": "stdout",
     "output_type": "stream",
     "text": [
      "\n",
      "Estimating the choice model...\n",
      "Log-likelihood at zero: -13,639.5995\n",
      "Initial Log-likelihood: -13,639.5995\n"
     ]
    },
    {
     "name": "stderr",
     "output_type": "stream",
     "text": [
      "/Users/mobouzaghrane/opt/anaconda3/lib/python3.7/site-packages/scipy/optimize/_minimize.py:505: RuntimeWarning: Method BFGS does not use Hessian information (hess).\n",
      "  RuntimeWarning)\n"
     ]
    },
    {
     "name": "stdout",
     "output_type": "stream",
     "text": [
      "Estimation Time for Point Estimation: 0.37 seconds.\n",
      "Final log-likelihood: -5,135.1636\n",
      "Simulation number 10 is complete!\n",
      "==========================================\n",
      "==========================================\n",
      "Simulation number 11 is in progress...\n",
      "Simulation size is 6364\n",
      "------------------------------------------\n",
      "Simulating data...\n",
      "Simulating Availability...\n",
      "Converting data from wide to long...\n",
      "Simulating Choices...\n"
     ]
    },
    {
     "name": "stderr",
     "output_type": "stream",
     "text": [
      "/Users/mobouzaghrane/opt/anaconda3/lib/python3.7/site-packages/pylogit/choice_tools.py:703: FutureWarning: arrays to stack must be passed as a \"sequence\" type such as list or tuple. Support for non-sequence iterables such as generators is deprecated as of NumPy 1.16 and will raise an error in the future.\n",
      "  design_matrix = np.hstack((x[:, None] for x in independent_vars))\n"
     ]
    },
    {
     "data": {
      "application/vnd.jupyter.widget-view+json": {
       "model_id": "33d924d90338456a915937e5ec98cfd0",
       "version_major": 2,
       "version_minor": 0
      },
      "text/plain": [
       "HBox(children=(IntProgress(value=0, description='Simulating Choices', max=6364, style=ProgressStyle(descriptio…"
      ]
     },
     "metadata": {},
     "output_type": "display_data"
    },
    {
     "name": "stdout",
     "output_type": "stream",
     "text": [
      "\n",
      "Estimating the choice model...\n",
      "Log-likelihood at zero: -12,077.4932\n",
      "Initial Log-likelihood: -12,077.4932\n"
     ]
    },
    {
     "name": "stderr",
     "output_type": "stream",
     "text": [
      "/Users/mobouzaghrane/opt/anaconda3/lib/python3.7/site-packages/scipy/optimize/_minimize.py:505: RuntimeWarning: Method BFGS does not use Hessian information (hess).\n",
      "  RuntimeWarning)\n"
     ]
    },
    {
     "name": "stdout",
     "output_type": "stream",
     "text": [
      "Estimation Time for Point Estimation: 0.47 seconds.\n",
      "Final log-likelihood: -4,488.0017\n",
      "Simulation number 11 is complete!\n",
      "==========================================\n",
      "==========================================\n",
      "Simulation number 12 is in progress...\n",
      "Simulation size is 5044\n",
      "------------------------------------------\n",
      "Simulating data...\n",
      "Simulating Availability...\n",
      "Converting data from wide to long...\n",
      "Simulating Choices...\n"
     ]
    },
    {
     "name": "stderr",
     "output_type": "stream",
     "text": [
      "/Users/mobouzaghrane/opt/anaconda3/lib/python3.7/site-packages/pylogit/choice_tools.py:703: FutureWarning: arrays to stack must be passed as a \"sequence\" type such as list or tuple. Support for non-sequence iterables such as generators is deprecated as of NumPy 1.16 and will raise an error in the future.\n",
      "  design_matrix = np.hstack((x[:, None] for x in independent_vars))\n"
     ]
    },
    {
     "data": {
      "application/vnd.jupyter.widget-view+json": {
       "model_id": "a8d49a78f2214c749545b48f1682b890",
       "version_major": 2,
       "version_minor": 0
      },
      "text/plain": [
       "HBox(children=(IntProgress(value=0, description='Simulating Choices', max=5044, style=ProgressStyle(descriptio…"
      ]
     },
     "metadata": {},
     "output_type": "display_data"
    },
    {
     "name": "stdout",
     "output_type": "stream",
     "text": [
      "\n",
      "Estimating the choice model...\n",
      "Log-likelihood at zero: -9,565.5125\n",
      "Initial Log-likelihood: -9,565.5125\n"
     ]
    },
    {
     "name": "stderr",
     "output_type": "stream",
     "text": [
      "/Users/mobouzaghrane/opt/anaconda3/lib/python3.7/site-packages/scipy/optimize/_minimize.py:505: RuntimeWarning: Method BFGS does not use Hessian information (hess).\n",
      "  RuntimeWarning)\n"
     ]
    },
    {
     "name": "stdout",
     "output_type": "stream",
     "text": [
      "Estimation Time for Point Estimation: 0.41 seconds.\n",
      "Final log-likelihood: -3,543.1931\n",
      "Simulation number 12 is complete!\n",
      "==========================================\n",
      "==========================================\n",
      "Simulation number 13 is in progress...\n",
      "Simulation size is 4944\n",
      "------------------------------------------\n",
      "Simulating data...\n",
      "Simulating Availability...\n",
      "Converting data from wide to long...\n",
      "Simulating Choices...\n"
     ]
    },
    {
     "name": "stderr",
     "output_type": "stream",
     "text": [
      "/Users/mobouzaghrane/opt/anaconda3/lib/python3.7/site-packages/pylogit/choice_tools.py:703: FutureWarning: arrays to stack must be passed as a \"sequence\" type such as list or tuple. Support for non-sequence iterables such as generators is deprecated as of NumPy 1.16 and will raise an error in the future.\n",
      "  design_matrix = np.hstack((x[:, None] for x in independent_vars))\n"
     ]
    },
    {
     "data": {
      "application/vnd.jupyter.widget-view+json": {
       "model_id": "fdae80ea2463466f98fb47bcb476a7c8",
       "version_major": 2,
       "version_minor": 0
      },
      "text/plain": [
       "HBox(children=(IntProgress(value=0, description='Simulating Choices', max=4944, style=ProgressStyle(descriptio…"
      ]
     },
     "metadata": {},
     "output_type": "display_data"
    },
    {
     "name": "stdout",
     "output_type": "stream",
     "text": [
      "\n",
      "Estimating the choice model...\n",
      "Log-likelihood at zero: -9,362.1544\n",
      "Initial Log-likelihood: -9,362.1544\n"
     ]
    },
    {
     "name": "stderr",
     "output_type": "stream",
     "text": [
      "/Users/mobouzaghrane/opt/anaconda3/lib/python3.7/site-packages/scipy/optimize/_minimize.py:505: RuntimeWarning: Method BFGS does not use Hessian information (hess).\n",
      "  RuntimeWarning)\n"
     ]
    },
    {
     "name": "stdout",
     "output_type": "stream",
     "text": [
      "Estimation Time for Point Estimation: 0.29 seconds.\n",
      "Final log-likelihood: -3,591.3814\n",
      "Simulation number 13 is complete!\n",
      "==========================================\n",
      "==========================================\n",
      "Simulation number 14 is in progress...\n",
      "Simulation size is 7948\n",
      "------------------------------------------\n",
      "Simulating data...\n",
      "Simulating Availability...\n",
      "Converting data from wide to long...\n",
      "Simulating Choices...\n"
     ]
    },
    {
     "name": "stderr",
     "output_type": "stream",
     "text": [
      "/Users/mobouzaghrane/opt/anaconda3/lib/python3.7/site-packages/pylogit/choice_tools.py:703: FutureWarning: arrays to stack must be passed as a \"sequence\" type such as list or tuple. Support for non-sequence iterables such as generators is deprecated as of NumPy 1.16 and will raise an error in the future.\n",
      "  design_matrix = np.hstack((x[:, None] for x in independent_vars))\n"
     ]
    },
    {
     "data": {
      "application/vnd.jupyter.widget-view+json": {
       "model_id": "901b5cda896944899722cc4dcbd5fff6",
       "version_major": 2,
       "version_minor": 0
      },
      "text/plain": [
       "HBox(children=(IntProgress(value=0, description='Simulating Choices', max=7948, style=ProgressStyle(descriptio…"
      ]
     },
     "metadata": {},
     "output_type": "display_data"
    },
    {
     "name": "stdout",
     "output_type": "stream",
     "text": [
      "\n",
      "Estimating the choice model...\n",
      "Log-likelihood at zero: -15,106.0171\n",
      "Initial Log-likelihood: -15,106.0171\n"
     ]
    },
    {
     "name": "stderr",
     "output_type": "stream",
     "text": [
      "/Users/mobouzaghrane/opt/anaconda3/lib/python3.7/site-packages/scipy/optimize/_minimize.py:505: RuntimeWarning: Method BFGS does not use Hessian information (hess).\n",
      "  RuntimeWarning)\n"
     ]
    },
    {
     "name": "stdout",
     "output_type": "stream",
     "text": [
      "Estimation Time for Point Estimation: 0.58 seconds.\n",
      "Final log-likelihood: -5,656.3406\n",
      "Simulation number 14 is complete!\n",
      "==========================================\n",
      "==========================================\n",
      "Simulation number 15 is in progress...\n",
      "Simulation size is 5515\n",
      "------------------------------------------\n",
      "Simulating data...\n",
      "Simulating Availability...\n",
      "Converting data from wide to long...\n",
      "Simulating Choices...\n"
     ]
    },
    {
     "name": "stderr",
     "output_type": "stream",
     "text": [
      "/Users/mobouzaghrane/opt/anaconda3/lib/python3.7/site-packages/pylogit/choice_tools.py:703: FutureWarning: arrays to stack must be passed as a \"sequence\" type such as list or tuple. Support for non-sequence iterables such as generators is deprecated as of NumPy 1.16 and will raise an error in the future.\n",
      "  design_matrix = np.hstack((x[:, None] for x in independent_vars))\n"
     ]
    },
    {
     "data": {
      "application/vnd.jupyter.widget-view+json": {
       "model_id": "823ebfb07a8142e28f4b48d1793bd987",
       "version_major": 2,
       "version_minor": 0
      },
      "text/plain": [
       "HBox(children=(IntProgress(value=0, description='Simulating Choices', max=5515, style=ProgressStyle(descriptio…"
      ]
     },
     "metadata": {},
     "output_type": "display_data"
    },
    {
     "name": "stdout",
     "output_type": "stream",
     "text": [
      "\n",
      "Estimating the choice model...\n",
      "Log-likelihood at zero: -10,498.0673\n",
      "Initial Log-likelihood: -10,498.0673\n"
     ]
    },
    {
     "name": "stderr",
     "output_type": "stream",
     "text": [
      "/Users/mobouzaghrane/opt/anaconda3/lib/python3.7/site-packages/scipy/optimize/_minimize.py:505: RuntimeWarning: Method BFGS does not use Hessian information (hess).\n",
      "  RuntimeWarning)\n"
     ]
    },
    {
     "name": "stdout",
     "output_type": "stream",
     "text": [
      "Estimation Time for Point Estimation: 0.28 seconds.\n",
      "Final log-likelihood: -3,975.7774\n",
      "Simulation number 15 is complete!\n",
      "==========================================\n",
      "==========================================\n",
      "Simulation number 16 is in progress...\n",
      "Simulation size is 8397\n",
      "------------------------------------------\n",
      "Simulating data...\n",
      "Simulating Availability...\n",
      "Converting data from wide to long...\n",
      "Simulating Choices...\n"
     ]
    },
    {
     "name": "stderr",
     "output_type": "stream",
     "text": [
      "/Users/mobouzaghrane/opt/anaconda3/lib/python3.7/site-packages/pylogit/choice_tools.py:703: FutureWarning: arrays to stack must be passed as a \"sequence\" type such as list or tuple. Support for non-sequence iterables such as generators is deprecated as of NumPy 1.16 and will raise an error in the future.\n",
      "  design_matrix = np.hstack((x[:, None] for x in independent_vars))\n"
     ]
    },
    {
     "data": {
      "application/vnd.jupyter.widget-view+json": {
       "model_id": "9786988452f94f74baaca49ee4df437a",
       "version_major": 2,
       "version_minor": 0
      },
      "text/plain": [
       "HBox(children=(IntProgress(value=0, description='Simulating Choices', max=8397, style=ProgressStyle(descriptio…"
      ]
     },
     "metadata": {},
     "output_type": "display_data"
    },
    {
     "name": "stdout",
     "output_type": "stream",
     "text": [
      "\n",
      "Estimating the choice model...\n",
      "Log-likelihood at zero: -15,945.5722\n",
      "Initial Log-likelihood: -15,945.5722\n"
     ]
    },
    {
     "name": "stderr",
     "output_type": "stream",
     "text": [
      "/Users/mobouzaghrane/opt/anaconda3/lib/python3.7/site-packages/scipy/optimize/_minimize.py:505: RuntimeWarning: Method BFGS does not use Hessian information (hess).\n",
      "  RuntimeWarning)\n"
     ]
    },
    {
     "name": "stdout",
     "output_type": "stream",
     "text": [
      "Estimation Time for Point Estimation: 0.44 seconds.\n",
      "Final log-likelihood: -5,926.4497\n",
      "Simulation number 16 is complete!\n",
      "==========================================\n",
      "==========================================\n",
      "Simulation number 17 is in progress...\n",
      "Simulation size is 5637\n",
      "------------------------------------------\n",
      "Simulating data...\n",
      "Simulating Availability...\n",
      "Converting data from wide to long...\n",
      "Simulating Choices...\n"
     ]
    },
    {
     "name": "stderr",
     "output_type": "stream",
     "text": [
      "/Users/mobouzaghrane/opt/anaconda3/lib/python3.7/site-packages/pylogit/choice_tools.py:703: FutureWarning: arrays to stack must be passed as a \"sequence\" type such as list or tuple. Support for non-sequence iterables such as generators is deprecated as of NumPy 1.16 and will raise an error in the future.\n",
      "  design_matrix = np.hstack((x[:, None] for x in independent_vars))\n"
     ]
    },
    {
     "data": {
      "application/vnd.jupyter.widget-view+json": {
       "model_id": "adef46a14a864ea5b615b9d73c2de9c2",
       "version_major": 2,
       "version_minor": 0
      },
      "text/plain": [
       "HBox(children=(IntProgress(value=0, description='Simulating Choices', max=5637, style=ProgressStyle(descriptio…"
      ]
     },
     "metadata": {},
     "output_type": "display_data"
    },
    {
     "name": "stdout",
     "output_type": "stream",
     "text": [
      "\n",
      "Estimating the choice model...\n",
      "Log-likelihood at zero: -10,708.2757\n",
      "Initial Log-likelihood: -10,708.2757\n"
     ]
    },
    {
     "name": "stderr",
     "output_type": "stream",
     "text": [
      "/Users/mobouzaghrane/opt/anaconda3/lib/python3.7/site-packages/scipy/optimize/_minimize.py:505: RuntimeWarning: Method BFGS does not use Hessian information (hess).\n",
      "  RuntimeWarning)\n"
     ]
    },
    {
     "name": "stdout",
     "output_type": "stream",
     "text": [
      "Estimation Time for Point Estimation: 0.28 seconds.\n",
      "Final log-likelihood: -4,072.8354\n",
      "Simulation number 17 is complete!\n",
      "==========================================\n",
      "==========================================\n",
      "Simulation number 18 is in progress...\n",
      "Simulation size is 5019\n",
      "------------------------------------------\n",
      "Simulating data...\n",
      "Simulating Availability...\n",
      "Converting data from wide to long...\n",
      "Simulating Choices...\n"
     ]
    },
    {
     "name": "stderr",
     "output_type": "stream",
     "text": [
      "/Users/mobouzaghrane/opt/anaconda3/lib/python3.7/site-packages/pylogit/choice_tools.py:703: FutureWarning: arrays to stack must be passed as a \"sequence\" type such as list or tuple. Support for non-sequence iterables such as generators is deprecated as of NumPy 1.16 and will raise an error in the future.\n",
      "  design_matrix = np.hstack((x[:, None] for x in independent_vars))\n"
     ]
    },
    {
     "data": {
      "application/vnd.jupyter.widget-view+json": {
       "model_id": "19a0aa22a7d842349e7cd359991c5074",
       "version_major": 2,
       "version_minor": 0
      },
      "text/plain": [
       "HBox(children=(IntProgress(value=0, description='Simulating Choices', max=5019, style=ProgressStyle(descriptio…"
      ]
     },
     "metadata": {},
     "output_type": "display_data"
    },
    {
     "name": "stdout",
     "output_type": "stream",
     "text": [
      "\n",
      "Estimating the choice model...\n",
      "Log-likelihood at zero: -9,524.0176\n",
      "Initial Log-likelihood: -9,524.0176\n"
     ]
    },
    {
     "name": "stderr",
     "output_type": "stream",
     "text": [
      "/Users/mobouzaghrane/opt/anaconda3/lib/python3.7/site-packages/scipy/optimize/_minimize.py:505: RuntimeWarning: Method BFGS does not use Hessian information (hess).\n",
      "  RuntimeWarning)\n"
     ]
    },
    {
     "name": "stdout",
     "output_type": "stream",
     "text": [
      "Estimation Time for Point Estimation: 0.26 seconds.\n",
      "Final log-likelihood: -3,577.0552\n",
      "Simulation number 18 is complete!\n",
      "==========================================\n",
      "==========================================\n",
      "Simulation number 19 is in progress...\n",
      "Simulation size is 5706\n",
      "------------------------------------------\n",
      "Simulating data...\n",
      "Simulating Availability...\n",
      "Converting data from wide to long...\n",
      "Simulating Choices...\n"
     ]
    },
    {
     "name": "stderr",
     "output_type": "stream",
     "text": [
      "/Users/mobouzaghrane/opt/anaconda3/lib/python3.7/site-packages/pylogit/choice_tools.py:703: FutureWarning: arrays to stack must be passed as a \"sequence\" type such as list or tuple. Support for non-sequence iterables such as generators is deprecated as of NumPy 1.16 and will raise an error in the future.\n",
      "  design_matrix = np.hstack((x[:, None] for x in independent_vars))\n"
     ]
    },
    {
     "data": {
      "application/vnd.jupyter.widget-view+json": {
       "model_id": "44e71f8e5aaa442f87edf67c3b67fcd6",
       "version_major": 2,
       "version_minor": 0
      },
      "text/plain": [
       "HBox(children=(IntProgress(value=0, description='Simulating Choices', max=5706, style=ProgressStyle(descriptio…"
      ]
     },
     "metadata": {},
     "output_type": "display_data"
    },
    {
     "name": "stdout",
     "output_type": "stream",
     "text": [
      "\n",
      "Estimating the choice model...\n",
      "Log-likelihood at zero: -10,802.0129\n",
      "Initial Log-likelihood: -10,802.0129\n"
     ]
    },
    {
     "name": "stderr",
     "output_type": "stream",
     "text": [
      "/Users/mobouzaghrane/opt/anaconda3/lib/python3.7/site-packages/scipy/optimize/_minimize.py:505: RuntimeWarning: Method BFGS does not use Hessian information (hess).\n",
      "  RuntimeWarning)\n"
     ]
    },
    {
     "name": "stdout",
     "output_type": "stream",
     "text": [
      "Estimation Time for Point Estimation: 0.26 seconds.\n",
      "Final log-likelihood: -4,023.3421\n",
      "Simulation number 19 is complete!\n",
      "==========================================\n",
      "==========================================\n",
      "Simulation number 20 is in progress...\n",
      "Simulation size is 8482\n",
      "------------------------------------------\n",
      "Simulating data...\n",
      "Simulating Availability...\n",
      "Converting data from wide to long...\n",
      "Simulating Choices...\n"
     ]
    },
    {
     "name": "stderr",
     "output_type": "stream",
     "text": [
      "/Users/mobouzaghrane/opt/anaconda3/lib/python3.7/site-packages/pylogit/choice_tools.py:703: FutureWarning: arrays to stack must be passed as a \"sequence\" type such as list or tuple. Support for non-sequence iterables such as generators is deprecated as of NumPy 1.16 and will raise an error in the future.\n",
      "  design_matrix = np.hstack((x[:, None] for x in independent_vars))\n"
     ]
    },
    {
     "data": {
      "application/vnd.jupyter.widget-view+json": {
       "model_id": "2bf1e0ff4df1468180a46b732da752d6",
       "version_major": 2,
       "version_minor": 0
      },
      "text/plain": [
       "HBox(children=(IntProgress(value=0, description='Simulating Choices', max=8482, style=ProgressStyle(descriptio…"
      ]
     },
     "metadata": {},
     "output_type": "display_data"
    },
    {
     "name": "stdout",
     "output_type": "stream",
     "text": [
      "\n",
      "Estimating the choice model...\n",
      "Log-likelihood at zero: -16,097.8285\n",
      "Initial Log-likelihood: -16,097.8285\n"
     ]
    },
    {
     "name": "stderr",
     "output_type": "stream",
     "text": [
      "/Users/mobouzaghrane/opt/anaconda3/lib/python3.7/site-packages/scipy/optimize/_minimize.py:505: RuntimeWarning: Method BFGS does not use Hessian information (hess).\n",
      "  RuntimeWarning)\n"
     ]
    },
    {
     "name": "stdout",
     "output_type": "stream",
     "text": [
      "Estimation Time for Point Estimation: 0.48 seconds.\n",
      "Final log-likelihood: -5,944.8421\n",
      "Simulation number 20 is complete!\n",
      "==========================================\n",
      "==========================================\n",
      "Simulation number 21 is in progress...\n",
      "Simulation size is 4900\n",
      "------------------------------------------\n",
      "Simulating data...\n",
      "Simulating Availability...\n",
      "Converting data from wide to long...\n",
      "Simulating Choices...\n"
     ]
    },
    {
     "name": "stderr",
     "output_type": "stream",
     "text": [
      "/Users/mobouzaghrane/opt/anaconda3/lib/python3.7/site-packages/pylogit/choice_tools.py:703: FutureWarning: arrays to stack must be passed as a \"sequence\" type such as list or tuple. Support for non-sequence iterables such as generators is deprecated as of NumPy 1.16 and will raise an error in the future.\n",
      "  design_matrix = np.hstack((x[:, None] for x in independent_vars))\n"
     ]
    },
    {
     "data": {
      "application/vnd.jupyter.widget-view+json": {
       "model_id": "59dcb6c533fd43c5aeca6e131bb3b47d",
       "version_major": 2,
       "version_minor": 0
      },
      "text/plain": [
       "HBox(children=(IntProgress(value=0, description='Simulating Choices', max=4900, style=ProgressStyle(descriptio…"
      ]
     },
     "metadata": {},
     "output_type": "display_data"
    },
    {
     "name": "stdout",
     "output_type": "stream",
     "text": [
      "\n",
      "Estimating the choice model...\n",
      "Log-likelihood at zero: -9,272.1240\n",
      "Initial Log-likelihood: -9,272.1240\n"
     ]
    },
    {
     "name": "stderr",
     "output_type": "stream",
     "text": [
      "/Users/mobouzaghrane/opt/anaconda3/lib/python3.7/site-packages/scipy/optimize/_minimize.py:505: RuntimeWarning: Method BFGS does not use Hessian information (hess).\n",
      "  RuntimeWarning)\n"
     ]
    },
    {
     "name": "stdout",
     "output_type": "stream",
     "text": [
      "Estimation Time for Point Estimation: 0.26 seconds.\n",
      "Final log-likelihood: -3,283.7914\n",
      "Simulation number 21 is complete!\n",
      "==========================================\n",
      "==========================================\n",
      "Simulation number 22 is in progress...\n",
      "Simulation size is 4293\n",
      "------------------------------------------\n",
      "Simulating data...\n",
      "Simulating Availability...\n",
      "Converting data from wide to long...\n",
      "Simulating Choices...\n"
     ]
    },
    {
     "name": "stderr",
     "output_type": "stream",
     "text": [
      "/Users/mobouzaghrane/opt/anaconda3/lib/python3.7/site-packages/pylogit/choice_tools.py:703: FutureWarning: arrays to stack must be passed as a \"sequence\" type such as list or tuple. Support for non-sequence iterables such as generators is deprecated as of NumPy 1.16 and will raise an error in the future.\n",
      "  design_matrix = np.hstack((x[:, None] for x in independent_vars))\n"
     ]
    },
    {
     "data": {
      "application/vnd.jupyter.widget-view+json": {
       "model_id": "9f9d08913c5541ddb8898a3639f635eb",
       "version_major": 2,
       "version_minor": 0
      },
      "text/plain": [
       "HBox(children=(IntProgress(value=0, description='Simulating Choices', max=4293, style=ProgressStyle(descriptio…"
      ]
     },
     "metadata": {},
     "output_type": "display_data"
    },
    {
     "name": "stdout",
     "output_type": "stream",
     "text": [
      "\n",
      "Estimating the choice model...\n",
      "Log-likelihood at zero: -8,122.7535\n",
      "Initial Log-likelihood: -8,122.7535\n"
     ]
    },
    {
     "name": "stderr",
     "output_type": "stream",
     "text": [
      "/Users/mobouzaghrane/opt/anaconda3/lib/python3.7/site-packages/scipy/optimize/_minimize.py:505: RuntimeWarning: Method BFGS does not use Hessian information (hess).\n",
      "  RuntimeWarning)\n"
     ]
    },
    {
     "name": "stdout",
     "output_type": "stream",
     "text": [
      "Estimation Time for Point Estimation: 0.23 seconds.\n",
      "Final log-likelihood: -2,961.3726\n",
      "Simulation number 22 is complete!\n",
      "==========================================\n",
      "==========================================\n",
      "Simulation number 23 is in progress...\n",
      "Simulation size is 7379\n",
      "------------------------------------------\n",
      "Simulating data...\n",
      "Simulating Availability...\n",
      "Converting data from wide to long...\n",
      "Simulating Choices...\n"
     ]
    },
    {
     "name": "stderr",
     "output_type": "stream",
     "text": [
      "/Users/mobouzaghrane/opt/anaconda3/lib/python3.7/site-packages/pylogit/choice_tools.py:703: FutureWarning: arrays to stack must be passed as a \"sequence\" type such as list or tuple. Support for non-sequence iterables such as generators is deprecated as of NumPy 1.16 and will raise an error in the future.\n",
      "  design_matrix = np.hstack((x[:, None] for x in independent_vars))\n"
     ]
    },
    {
     "data": {
      "application/vnd.jupyter.widget-view+json": {
       "model_id": "5b35da3160064dffb47b103bec2eabc4",
       "version_major": 2,
       "version_minor": 0
      },
      "text/plain": [
       "HBox(children=(IntProgress(value=0, description='Simulating Choices', max=7379, style=ProgressStyle(descriptio…"
      ]
     },
     "metadata": {},
     "output_type": "display_data"
    },
    {
     "name": "stdout",
     "output_type": "stream",
     "text": [
      "\n",
      "Estimating the choice model...\n",
      "Log-likelihood at zero: -13,999.8353\n",
      "Initial Log-likelihood: -13,999.8353\n"
     ]
    },
    {
     "name": "stderr",
     "output_type": "stream",
     "text": [
      "/Users/mobouzaghrane/opt/anaconda3/lib/python3.7/site-packages/scipy/optimize/_minimize.py:505: RuntimeWarning: Method BFGS does not use Hessian information (hess).\n",
      "  RuntimeWarning)\n"
     ]
    },
    {
     "name": "stdout",
     "output_type": "stream",
     "text": [
      "Estimation Time for Point Estimation: 0.50 seconds.\n",
      "Final log-likelihood: -5,256.7640\n",
      "Simulation number 23 is complete!\n",
      "==========================================\n",
      "==========================================\n",
      "Simulation number 24 is in progress...\n",
      "Simulation size is 8217\n",
      "------------------------------------------\n",
      "Simulating data...\n",
      "Simulating Availability...\n",
      "Converting data from wide to long...\n",
      "Simulating Choices...\n"
     ]
    },
    {
     "name": "stderr",
     "output_type": "stream",
     "text": [
      "/Users/mobouzaghrane/opt/anaconda3/lib/python3.7/site-packages/pylogit/choice_tools.py:703: FutureWarning: arrays to stack must be passed as a \"sequence\" type such as list or tuple. Support for non-sequence iterables such as generators is deprecated as of NumPy 1.16 and will raise an error in the future.\n",
      "  design_matrix = np.hstack((x[:, None] for x in independent_vars))\n"
     ]
    },
    {
     "data": {
      "application/vnd.jupyter.widget-view+json": {
       "model_id": "695fe50d16e344ecbaf1c3ddaf3b4ec9",
       "version_major": 2,
       "version_minor": 0
      },
      "text/plain": [
       "HBox(children=(IntProgress(value=0, description='Simulating Choices', max=8217, style=ProgressStyle(descriptio…"
      ]
     },
     "metadata": {},
     "output_type": "display_data"
    },
    {
     "name": "stdout",
     "output_type": "stream",
     "text": [
      "\n",
      "Estimating the choice model...\n",
      "Log-likelihood at zero: -15,605.4436\n",
      "Initial Log-likelihood: -15,605.4436\n"
     ]
    },
    {
     "name": "stderr",
     "output_type": "stream",
     "text": [
      "/Users/mobouzaghrane/opt/anaconda3/lib/python3.7/site-packages/scipy/optimize/_minimize.py:505: RuntimeWarning: Method BFGS does not use Hessian information (hess).\n",
      "  RuntimeWarning)\n"
     ]
    },
    {
     "name": "stdout",
     "output_type": "stream",
     "text": [
      "Estimation Time for Point Estimation: 0.44 seconds.\n",
      "Final log-likelihood: -5,602.7599\n",
      "Simulation number 24 is complete!\n",
      "==========================================\n",
      "==========================================\n",
      "Simulation number 25 is in progress...\n",
      "Simulation size is 4926\n",
      "------------------------------------------\n",
      "Simulating data...\n",
      "Simulating Availability...\n",
      "Converting data from wide to long...\n",
      "Simulating Choices...\n"
     ]
    },
    {
     "name": "stderr",
     "output_type": "stream",
     "text": [
      "/Users/mobouzaghrane/opt/anaconda3/lib/python3.7/site-packages/pylogit/choice_tools.py:703: FutureWarning: arrays to stack must be passed as a \"sequence\" type such as list or tuple. Support for non-sequence iterables such as generators is deprecated as of NumPy 1.16 and will raise an error in the future.\n",
      "  design_matrix = np.hstack((x[:, None] for x in independent_vars))\n"
     ]
    },
    {
     "data": {
      "application/vnd.jupyter.widget-view+json": {
       "model_id": "581a18c4b0d94ecb91db1bb84e3dca1f",
       "version_major": 2,
       "version_minor": 0
      },
      "text/plain": [
       "HBox(children=(IntProgress(value=0, description='Simulating Choices', max=4926, style=ProgressStyle(descriptio…"
      ]
     },
     "metadata": {},
     "output_type": "display_data"
    },
    {
     "name": "stdout",
     "output_type": "stream",
     "text": [
      "\n",
      "Estimating the choice model...\n",
      "Log-likelihood at zero: -9,368.7634\n",
      "Initial Log-likelihood: -9,368.7634\n"
     ]
    },
    {
     "name": "stderr",
     "output_type": "stream",
     "text": [
      "/Users/mobouzaghrane/opt/anaconda3/lib/python3.7/site-packages/scipy/optimize/_minimize.py:505: RuntimeWarning: Method BFGS does not use Hessian information (hess).\n",
      "  RuntimeWarning)\n"
     ]
    },
    {
     "name": "stdout",
     "output_type": "stream",
     "text": [
      "Estimation Time for Point Estimation: 0.27 seconds.\n",
      "Final log-likelihood: -3,531.2808\n",
      "Simulation number 25 is complete!\n",
      "==========================================\n",
      "==========================================\n",
      "Simulation number 26 is in progress...\n",
      "Simulation size is 3997\n",
      "------------------------------------------\n",
      "Simulating data...\n",
      "Simulating Availability...\n",
      "Converting data from wide to long...\n",
      "Simulating Choices...\n"
     ]
    },
    {
     "name": "stderr",
     "output_type": "stream",
     "text": [
      "/Users/mobouzaghrane/opt/anaconda3/lib/python3.7/site-packages/pylogit/choice_tools.py:703: FutureWarning: arrays to stack must be passed as a \"sequence\" type such as list or tuple. Support for non-sequence iterables such as generators is deprecated as of NumPy 1.16 and will raise an error in the future.\n",
      "  design_matrix = np.hstack((x[:, None] for x in independent_vars))\n"
     ]
    },
    {
     "data": {
      "application/vnd.jupyter.widget-view+json": {
       "model_id": "2b00a16e31af4cb38adf129212e5bad2",
       "version_major": 2,
       "version_minor": 0
      },
      "text/plain": [
       "HBox(children=(IntProgress(value=0, description='Simulating Choices', max=3997, style=ProgressStyle(descriptio…"
      ]
     },
     "metadata": {},
     "output_type": "display_data"
    },
    {
     "name": "stdout",
     "output_type": "stream",
     "text": [
      "\n",
      "Estimating the choice model...\n",
      "Log-likelihood at zero: -7,588.9335\n",
      "Initial Log-likelihood: -7,588.9335\n"
     ]
    },
    {
     "name": "stderr",
     "output_type": "stream",
     "text": [
      "/Users/mobouzaghrane/opt/anaconda3/lib/python3.7/site-packages/scipy/optimize/_minimize.py:505: RuntimeWarning: Method BFGS does not use Hessian information (hess).\n",
      "  RuntimeWarning)\n"
     ]
    },
    {
     "name": "stdout",
     "output_type": "stream",
     "text": [
      "Estimation Time for Point Estimation: 0.22 seconds.\n",
      "Final log-likelihood: -2,797.8383\n",
      "Simulation number 26 is complete!\n",
      "==========================================\n",
      "==========================================\n",
      "Simulation number 27 is in progress...\n",
      "Simulation size is 5989\n",
      "------------------------------------------\n",
      "Simulating data...\n",
      "Simulating Availability...\n",
      "Converting data from wide to long...\n",
      "Simulating Choices...\n"
     ]
    },
    {
     "name": "stderr",
     "output_type": "stream",
     "text": [
      "/Users/mobouzaghrane/opt/anaconda3/lib/python3.7/site-packages/pylogit/choice_tools.py:703: FutureWarning: arrays to stack must be passed as a \"sequence\" type such as list or tuple. Support for non-sequence iterables such as generators is deprecated as of NumPy 1.16 and will raise an error in the future.\n",
      "  design_matrix = np.hstack((x[:, None] for x in independent_vars))\n"
     ]
    },
    {
     "data": {
      "application/vnd.jupyter.widget-view+json": {
       "model_id": "1a284219bca14c2482dfdf59d4ef3390",
       "version_major": 2,
       "version_minor": 0
      },
      "text/plain": [
       "HBox(children=(IntProgress(value=0, description='Simulating Choices', max=5989, style=ProgressStyle(descriptio…"
      ]
     },
     "metadata": {},
     "output_type": "display_data"
    },
    {
     "name": "stdout",
     "output_type": "stream",
     "text": [
      "\n",
      "Estimating the choice model...\n",
      "Log-likelihood at zero: -11,346.4963\n",
      "Initial Log-likelihood: -11,346.4963\n"
     ]
    },
    {
     "name": "stderr",
     "output_type": "stream",
     "text": [
      "/Users/mobouzaghrane/opt/anaconda3/lib/python3.7/site-packages/scipy/optimize/_minimize.py:505: RuntimeWarning: Method BFGS does not use Hessian information (hess).\n",
      "  RuntimeWarning)\n"
     ]
    },
    {
     "name": "stdout",
     "output_type": "stream",
     "text": [
      "Estimation Time for Point Estimation: 0.31 seconds.\n",
      "Final log-likelihood: -4,233.9722\n",
      "Simulation number 27 is complete!\n",
      "==========================================\n",
      "==========================================\n",
      "Simulation number 28 is in progress...\n",
      "Simulation size is 7772\n",
      "------------------------------------------\n",
      "Simulating data...\n",
      "Simulating Availability...\n",
      "Converting data from wide to long...\n",
      "Simulating Choices...\n"
     ]
    },
    {
     "name": "stderr",
     "output_type": "stream",
     "text": [
      "/Users/mobouzaghrane/opt/anaconda3/lib/python3.7/site-packages/pylogit/choice_tools.py:703: FutureWarning: arrays to stack must be passed as a \"sequence\" type such as list or tuple. Support for non-sequence iterables such as generators is deprecated as of NumPy 1.16 and will raise an error in the future.\n",
      "  design_matrix = np.hstack((x[:, None] for x in independent_vars))\n"
     ]
    },
    {
     "data": {
      "application/vnd.jupyter.widget-view+json": {
       "model_id": "442f980ca5354e3291770e89e32b4ea2",
       "version_major": 2,
       "version_minor": 0
      },
      "text/plain": [
       "HBox(children=(IntProgress(value=0, description='Simulating Choices', max=7772, style=ProgressStyle(descriptio…"
      ]
     },
     "metadata": {},
     "output_type": "display_data"
    },
    {
     "name": "stdout",
     "output_type": "stream",
     "text": [
      "\n",
      "Estimating the choice model...\n",
      "Log-likelihood at zero: -14,709.0879\n",
      "Initial Log-likelihood: -14,709.0879\n"
     ]
    },
    {
     "name": "stderr",
     "output_type": "stream",
     "text": [
      "/Users/mobouzaghrane/opt/anaconda3/lib/python3.7/site-packages/scipy/optimize/_minimize.py:505: RuntimeWarning: Method BFGS does not use Hessian information (hess).\n",
      "  RuntimeWarning)\n"
     ]
    },
    {
     "name": "stdout",
     "output_type": "stream",
     "text": [
      "Estimation Time for Point Estimation: 0.42 seconds.\n",
      "Final log-likelihood: -5,557.1723\n",
      "Simulation number 28 is complete!\n",
      "==========================================\n",
      "==========================================\n",
      "Simulation number 29 is in progress...\n",
      "Simulation size is 5421\n",
      "------------------------------------------\n",
      "Simulating data...\n",
      "Simulating Availability...\n",
      "Converting data from wide to long...\n",
      "Simulating Choices...\n"
     ]
    },
    {
     "name": "stderr",
     "output_type": "stream",
     "text": [
      "/Users/mobouzaghrane/opt/anaconda3/lib/python3.7/site-packages/pylogit/choice_tools.py:703: FutureWarning: arrays to stack must be passed as a \"sequence\" type such as list or tuple. Support for non-sequence iterables such as generators is deprecated as of NumPy 1.16 and will raise an error in the future.\n",
      "  design_matrix = np.hstack((x[:, None] for x in independent_vars))\n"
     ]
    },
    {
     "data": {
      "application/vnd.jupyter.widget-view+json": {
       "model_id": "9f23c6c662b24fc5aefc94d701a87ed9",
       "version_major": 2,
       "version_minor": 0
      },
      "text/plain": [
       "HBox(children=(IntProgress(value=0, description='Simulating Choices', max=5421, style=ProgressStyle(descriptio…"
      ]
     },
     "metadata": {},
     "output_type": "display_data"
    },
    {
     "name": "stdout",
     "output_type": "stream",
     "text": [
      "\n",
      "Estimating the choice model...\n",
      "Log-likelihood at zero: -10,300.8051\n",
      "Initial Log-likelihood: -10,300.8051\n"
     ]
    },
    {
     "name": "stderr",
     "output_type": "stream",
     "text": [
      "/Users/mobouzaghrane/opt/anaconda3/lib/python3.7/site-packages/scipy/optimize/_minimize.py:505: RuntimeWarning: Method BFGS does not use Hessian information (hess).\n",
      "  RuntimeWarning)\n"
     ]
    },
    {
     "name": "stdout",
     "output_type": "stream",
     "text": [
      "Estimation Time for Point Estimation: 0.50 seconds.\n",
      "Final log-likelihood: -3,884.6328\n",
      "Simulation number 29 is complete!\n",
      "==========================================\n",
      "==========================================\n",
      "Simulation number 30 is in progress...\n",
      "Simulation size is 5028\n",
      "------------------------------------------\n",
      "Simulating data...\n",
      "Simulating Availability...\n",
      "Converting data from wide to long...\n",
      "Simulating Choices...\n"
     ]
    },
    {
     "name": "stderr",
     "output_type": "stream",
     "text": [
      "/Users/mobouzaghrane/opt/anaconda3/lib/python3.7/site-packages/pylogit/choice_tools.py:703: FutureWarning: arrays to stack must be passed as a \"sequence\" type such as list or tuple. Support for non-sequence iterables such as generators is deprecated as of NumPy 1.16 and will raise an error in the future.\n",
      "  design_matrix = np.hstack((x[:, None] for x in independent_vars))\n"
     ]
    },
    {
     "data": {
      "application/vnd.jupyter.widget-view+json": {
       "model_id": "6f23c52d127548909fe41faeaa785e5f",
       "version_major": 2,
       "version_minor": 0
      },
      "text/plain": [
       "HBox(children=(IntProgress(value=0, description='Simulating Choices', max=5028, style=ProgressStyle(descriptio…"
      ]
     },
     "metadata": {},
     "output_type": "display_data"
    },
    {
     "name": "stdout",
     "output_type": "stream",
     "text": [
      "\n",
      "Estimating the choice model...\n",
      "Log-likelihood at zero: -9,526.0427\n",
      "Initial Log-likelihood: -9,526.0427\n"
     ]
    },
    {
     "name": "stderr",
     "output_type": "stream",
     "text": [
      "/Users/mobouzaghrane/opt/anaconda3/lib/python3.7/site-packages/scipy/optimize/_minimize.py:505: RuntimeWarning: Method BFGS does not use Hessian information (hess).\n",
      "  RuntimeWarning)\n"
     ]
    },
    {
     "name": "stdout",
     "output_type": "stream",
     "text": [
      "Estimation Time for Point Estimation: 0.39 seconds.\n",
      "Final log-likelihood: -3,453.3466\n",
      "Simulation number 30 is complete!\n",
      "==========================================\n",
      "==========================================\n",
      "Simulation number 31 is in progress...\n",
      "Simulation size is 3659\n",
      "------------------------------------------\n",
      "Simulating data...\n",
      "Simulating Availability...\n",
      "Converting data from wide to long...\n",
      "Simulating Choices...\n"
     ]
    },
    {
     "name": "stderr",
     "output_type": "stream",
     "text": [
      "/Users/mobouzaghrane/opt/anaconda3/lib/python3.7/site-packages/pylogit/choice_tools.py:703: FutureWarning: arrays to stack must be passed as a \"sequence\" type such as list or tuple. Support for non-sequence iterables such as generators is deprecated as of NumPy 1.16 and will raise an error in the future.\n",
      "  design_matrix = np.hstack((x[:, None] for x in independent_vars))\n"
     ]
    },
    {
     "data": {
      "application/vnd.jupyter.widget-view+json": {
       "model_id": "d200897178f043d989c13dba5b335818",
       "version_major": 2,
       "version_minor": 0
      },
      "text/plain": [
       "HBox(children=(IntProgress(value=0, description='Simulating Choices', max=3659, style=ProgressStyle(descriptio…"
      ]
     },
     "metadata": {},
     "output_type": "display_data"
    },
    {
     "name": "stdout",
     "output_type": "stream",
     "text": [
      "\n",
      "Estimating the choice model...\n",
      "Log-likelihood at zero: -6,947.3699\n",
      "Initial Log-likelihood: -6,947.3699\n",
      "Estimation Time for Point Estimation: 0.18 seconds.\n",
      "Final log-likelihood: -2,629.0820\n"
     ]
    },
    {
     "name": "stderr",
     "output_type": "stream",
     "text": [
      "/Users/mobouzaghrane/opt/anaconda3/lib/python3.7/site-packages/scipy/optimize/_minimize.py:505: RuntimeWarning: Method BFGS does not use Hessian information (hess).\n",
      "  RuntimeWarning)\n"
     ]
    },
    {
     "name": "stdout",
     "output_type": "stream",
     "text": [
      "Simulation number 31 is complete!\n",
      "==========================================\n",
      "==========================================\n",
      "Simulation number 32 is in progress...\n",
      "Simulation size is 6614\n",
      "------------------------------------------\n",
      "Simulating data...\n",
      "Simulating Availability...\n",
      "Converting data from wide to long...\n",
      "Simulating Choices...\n"
     ]
    },
    {
     "name": "stderr",
     "output_type": "stream",
     "text": [
      "/Users/mobouzaghrane/opt/anaconda3/lib/python3.7/site-packages/pylogit/choice_tools.py:703: FutureWarning: arrays to stack must be passed as a \"sequence\" type such as list or tuple. Support for non-sequence iterables such as generators is deprecated as of NumPy 1.16 and will raise an error in the future.\n",
      "  design_matrix = np.hstack((x[:, None] for x in independent_vars))\n"
     ]
    },
    {
     "data": {
      "application/vnd.jupyter.widget-view+json": {
       "model_id": "b58a8ec21296465bbbf888e2726fdb24",
       "version_major": 2,
       "version_minor": 0
      },
      "text/plain": [
       "HBox(children=(IntProgress(value=0, description='Simulating Choices', max=6614, style=ProgressStyle(descriptio…"
      ]
     },
     "metadata": {},
     "output_type": "display_data"
    },
    {
     "name": "stdout",
     "output_type": "stream",
     "text": [
      "\n",
      "Estimating the choice model...\n",
      "Log-likelihood at zero: -12,547.4698\n",
      "Initial Log-likelihood: -12,547.4698\n"
     ]
    },
    {
     "name": "stderr",
     "output_type": "stream",
     "text": [
      "/Users/mobouzaghrane/opt/anaconda3/lib/python3.7/site-packages/scipy/optimize/_minimize.py:505: RuntimeWarning: Method BFGS does not use Hessian information (hess).\n",
      "  RuntimeWarning)\n"
     ]
    },
    {
     "name": "stdout",
     "output_type": "stream",
     "text": [
      "Estimation Time for Point Estimation: 0.68 seconds.\n",
      "Final log-likelihood: -4,677.1267\n",
      "Simulation number 32 is complete!\n",
      "==========================================\n",
      "==========================================\n",
      "Simulation number 33 is in progress...\n",
      "Simulation size is 4905\n",
      "------------------------------------------\n",
      "Simulating data...\n",
      "Simulating Availability...\n",
      "Converting data from wide to long...\n",
      "Simulating Choices...\n"
     ]
    },
    {
     "name": "stderr",
     "output_type": "stream",
     "text": [
      "/Users/mobouzaghrane/opt/anaconda3/lib/python3.7/site-packages/pylogit/choice_tools.py:703: FutureWarning: arrays to stack must be passed as a \"sequence\" type such as list or tuple. Support for non-sequence iterables such as generators is deprecated as of NumPy 1.16 and will raise an error in the future.\n",
      "  design_matrix = np.hstack((x[:, None] for x in independent_vars))\n"
     ]
    },
    {
     "data": {
      "application/vnd.jupyter.widget-view+json": {
       "model_id": "92e50cfb96db4afab519b23ab88b255a",
       "version_major": 2,
       "version_minor": 0
      },
      "text/plain": [
       "HBox(children=(IntProgress(value=0, description='Simulating Choices', max=4905, style=ProgressStyle(descriptio…"
      ]
     },
     "metadata": {},
     "output_type": "display_data"
    },
    {
     "name": "stdout",
     "output_type": "stream",
     "text": [
      "\n",
      "Estimating the choice model...\n",
      "Log-likelihood at zero: -9,312.1686\n",
      "Initial Log-likelihood: -9,312.1686\n"
     ]
    },
    {
     "name": "stderr",
     "output_type": "stream",
     "text": [
      "/Users/mobouzaghrane/opt/anaconda3/lib/python3.7/site-packages/scipy/optimize/_minimize.py:505: RuntimeWarning: Method BFGS does not use Hessian information (hess).\n",
      "  RuntimeWarning)\n"
     ]
    },
    {
     "name": "stdout",
     "output_type": "stream",
     "text": [
      "Estimation Time for Point Estimation: 0.23 seconds.\n",
      "Final log-likelihood: -3,418.5772\n",
      "Simulation number 33 is complete!\n",
      "==========================================\n",
      "==========================================\n",
      "Simulation number 34 is in progress...\n",
      "Simulation size is 5708\n",
      "------------------------------------------\n",
      "Simulating data...\n",
      "Simulating Availability...\n",
      "Converting data from wide to long...\n",
      "Simulating Choices...\n"
     ]
    },
    {
     "name": "stderr",
     "output_type": "stream",
     "text": [
      "/Users/mobouzaghrane/opt/anaconda3/lib/python3.7/site-packages/pylogit/choice_tools.py:703: FutureWarning: arrays to stack must be passed as a \"sequence\" type such as list or tuple. Support for non-sequence iterables such as generators is deprecated as of NumPy 1.16 and will raise an error in the future.\n",
      "  design_matrix = np.hstack((x[:, None] for x in independent_vars))\n"
     ]
    },
    {
     "data": {
      "application/vnd.jupyter.widget-view+json": {
       "model_id": "07177e330b914bbabe169df0bce34187",
       "version_major": 2,
       "version_minor": 0
      },
      "text/plain": [
       "HBox(children=(IntProgress(value=0, description='Simulating Choices', max=5708, style=ProgressStyle(descriptio…"
      ]
     },
     "metadata": {},
     "output_type": "display_data"
    },
    {
     "name": "stdout",
     "output_type": "stream",
     "text": [
      "\n",
      "Estimating the choice model...\n",
      "Log-likelihood at zero: -10,845.8585\n",
      "Initial Log-likelihood: -10,845.8585\n"
     ]
    },
    {
     "name": "stderr",
     "output_type": "stream",
     "text": [
      "/Users/mobouzaghrane/opt/anaconda3/lib/python3.7/site-packages/scipy/optimize/_minimize.py:505: RuntimeWarning: Method BFGS does not use Hessian information (hess).\n",
      "  RuntimeWarning)\n"
     ]
    },
    {
     "name": "stdout",
     "output_type": "stream",
     "text": [
      "Estimation Time for Point Estimation: 0.31 seconds.\n",
      "Final log-likelihood: -4,047.6296\n",
      "Simulation number 34 is complete!\n",
      "==========================================\n",
      "==========================================\n",
      "Simulation number 35 is in progress...\n",
      "Simulation size is 6675\n",
      "------------------------------------------\n",
      "Simulating data...\n",
      "Simulating Availability...\n",
      "Converting data from wide to long...\n",
      "Simulating Choices...\n"
     ]
    },
    {
     "name": "stderr",
     "output_type": "stream",
     "text": [
      "/Users/mobouzaghrane/opt/anaconda3/lib/python3.7/site-packages/pylogit/choice_tools.py:703: FutureWarning: arrays to stack must be passed as a \"sequence\" type such as list or tuple. Support for non-sequence iterables such as generators is deprecated as of NumPy 1.16 and will raise an error in the future.\n",
      "  design_matrix = np.hstack((x[:, None] for x in independent_vars))\n"
     ]
    },
    {
     "data": {
      "application/vnd.jupyter.widget-view+json": {
       "model_id": "1e5f16e000ee47f7a1be885a377befe4",
       "version_major": 2,
       "version_minor": 0
      },
      "text/plain": [
       "HBox(children=(IntProgress(value=0, description='Simulating Choices', max=6675, style=ProgressStyle(descriptio…"
      ]
     },
     "metadata": {},
     "output_type": "display_data"
    },
    {
     "name": "stdout",
     "output_type": "stream",
     "text": [
      "\n",
      "Estimating the choice model...\n",
      "Log-likelihood at zero: -12,701.8072\n",
      "Initial Log-likelihood: -12,701.8072\n"
     ]
    },
    {
     "name": "stderr",
     "output_type": "stream",
     "text": [
      "/Users/mobouzaghrane/opt/anaconda3/lib/python3.7/site-packages/scipy/optimize/_minimize.py:505: RuntimeWarning: Method BFGS does not use Hessian information (hess).\n",
      "  RuntimeWarning)\n"
     ]
    },
    {
     "name": "stdout",
     "output_type": "stream",
     "text": [
      "Estimation Time for Point Estimation: 0.37 seconds.\n",
      "Final log-likelihood: -4,767.8146\n",
      "Simulation number 35 is complete!\n",
      "==========================================\n",
      "==========================================\n",
      "Simulation number 36 is in progress...\n",
      "Simulation size is 8465\n",
      "------------------------------------------\n",
      "Simulating data...\n",
      "Simulating Availability...\n",
      "Converting data from wide to long...\n",
      "Simulating Choices...\n"
     ]
    },
    {
     "name": "stderr",
     "output_type": "stream",
     "text": [
      "/Users/mobouzaghrane/opt/anaconda3/lib/python3.7/site-packages/pylogit/choice_tools.py:703: FutureWarning: arrays to stack must be passed as a \"sequence\" type such as list or tuple. Support for non-sequence iterables such as generators is deprecated as of NumPy 1.16 and will raise an error in the future.\n",
      "  design_matrix = np.hstack((x[:, None] for x in independent_vars))\n"
     ]
    },
    {
     "data": {
      "application/vnd.jupyter.widget-view+json": {
       "model_id": "846d6b370dc84961bbfbeabe14744364",
       "version_major": 2,
       "version_minor": 0
      },
      "text/plain": [
       "HBox(children=(IntProgress(value=0, description='Simulating Choices', max=8465, style=ProgressStyle(descriptio…"
      ]
     },
     "metadata": {},
     "output_type": "display_data"
    },
    {
     "name": "stdout",
     "output_type": "stream",
     "text": [
      "\n",
      "Estimating the choice model...\n",
      "Log-likelihood at zero: -16,048.7183\n",
      "Initial Log-likelihood: -16,048.7183\n"
     ]
    },
    {
     "name": "stderr",
     "output_type": "stream",
     "text": [
      "/Users/mobouzaghrane/opt/anaconda3/lib/python3.7/site-packages/scipy/optimize/_minimize.py:505: RuntimeWarning: Method BFGS does not use Hessian information (hess).\n",
      "  RuntimeWarning)\n"
     ]
    },
    {
     "name": "stdout",
     "output_type": "stream",
     "text": [
      "Estimation Time for Point Estimation: 0.53 seconds.\n",
      "Final log-likelihood: -5,954.0642\n",
      "Simulation number 36 is complete!\n",
      "==========================================\n",
      "==========================================\n",
      "Simulation number 37 is in progress...\n",
      "Simulation size is 5944\n",
      "------------------------------------------\n",
      "Simulating data...\n",
      "Simulating Availability...\n",
      "Converting data from wide to long...\n",
      "Simulating Choices...\n"
     ]
    },
    {
     "name": "stderr",
     "output_type": "stream",
     "text": [
      "/Users/mobouzaghrane/opt/anaconda3/lib/python3.7/site-packages/pylogit/choice_tools.py:703: FutureWarning: arrays to stack must be passed as a \"sequence\" type such as list or tuple. Support for non-sequence iterables such as generators is deprecated as of NumPy 1.16 and will raise an error in the future.\n",
      "  design_matrix = np.hstack((x[:, None] for x in independent_vars))\n"
     ]
    },
    {
     "data": {
      "application/vnd.jupyter.widget-view+json": {
       "model_id": "2ec589e4c4f14a12a4659c1d00859033",
       "version_major": 2,
       "version_minor": 0
      },
      "text/plain": [
       "HBox(children=(IntProgress(value=0, description='Simulating Choices', max=5944, style=ProgressStyle(descriptio…"
      ]
     },
     "metadata": {},
     "output_type": "display_data"
    },
    {
     "name": "stdout",
     "output_type": "stream",
     "text": [
      "\n",
      "Estimating the choice model...\n",
      "Log-likelihood at zero: -11,280.8921\n",
      "Initial Log-likelihood: -11,280.8921\n"
     ]
    },
    {
     "name": "stderr",
     "output_type": "stream",
     "text": [
      "/Users/mobouzaghrane/opt/anaconda3/lib/python3.7/site-packages/scipy/optimize/_minimize.py:505: RuntimeWarning: Method BFGS does not use Hessian information (hess).\n",
      "  RuntimeWarning)\n"
     ]
    },
    {
     "name": "stdout",
     "output_type": "stream",
     "text": [
      "Estimation Time for Point Estimation: 0.48 seconds.\n",
      "Final log-likelihood: -4,183.5267\n",
      "Simulation number 37 is complete!\n",
      "==========================================\n",
      "==========================================\n",
      "Simulation number 38 is in progress...\n",
      "Simulation size is 3988\n",
      "------------------------------------------\n",
      "Simulating data...\n",
      "Simulating Availability...\n",
      "Converting data from wide to long...\n",
      "Simulating Choices...\n"
     ]
    },
    {
     "name": "stderr",
     "output_type": "stream",
     "text": [
      "/Users/mobouzaghrane/opt/anaconda3/lib/python3.7/site-packages/pylogit/choice_tools.py:703: FutureWarning: arrays to stack must be passed as a \"sequence\" type such as list or tuple. Support for non-sequence iterables such as generators is deprecated as of NumPy 1.16 and will raise an error in the future.\n",
      "  design_matrix = np.hstack((x[:, None] for x in independent_vars))\n"
     ]
    },
    {
     "data": {
      "application/vnd.jupyter.widget-view+json": {
       "model_id": "6137dacb656f4c6fad2983b80cd00c19",
       "version_major": 2,
       "version_minor": 0
      },
      "text/plain": [
       "HBox(children=(IntProgress(value=0, description='Simulating Choices', max=3988, style=ProgressStyle(descriptio…"
      ]
     },
     "metadata": {},
     "output_type": "display_data"
    },
    {
     "name": "stdout",
     "output_type": "stream",
     "text": [
      "\n",
      "Estimating the choice model...\n",
      "Log-likelihood at zero: -7,558.2231\n",
      "Initial Log-likelihood: -7,558.2231\n",
      "Estimation Time for Point Estimation: 0.20 seconds.\n",
      "Final log-likelihood: -2,770.4165\n"
     ]
    },
    {
     "name": "stderr",
     "output_type": "stream",
     "text": [
      "/Users/mobouzaghrane/opt/anaconda3/lib/python3.7/site-packages/scipy/optimize/_minimize.py:505: RuntimeWarning: Method BFGS does not use Hessian information (hess).\n",
      "  RuntimeWarning)\n"
     ]
    },
    {
     "name": "stdout",
     "output_type": "stream",
     "text": [
      "Simulation number 38 is complete!\n",
      "==========================================\n",
      "==========================================\n",
      "Simulation number 39 is in progress...\n",
      "Simulation size is 6899\n",
      "------------------------------------------\n",
      "Simulating data...\n",
      "Simulating Availability...\n",
      "Converting data from wide to long...\n",
      "Simulating Choices...\n"
     ]
    },
    {
     "name": "stderr",
     "output_type": "stream",
     "text": [
      "/Users/mobouzaghrane/opt/anaconda3/lib/python3.7/site-packages/pylogit/choice_tools.py:703: FutureWarning: arrays to stack must be passed as a \"sequence\" type such as list or tuple. Support for non-sequence iterables such as generators is deprecated as of NumPy 1.16 and will raise an error in the future.\n",
      "  design_matrix = np.hstack((x[:, None] for x in independent_vars))\n"
     ]
    },
    {
     "data": {
      "application/vnd.jupyter.widget-view+json": {
       "model_id": "e350048cbeed4aa38cd2c952559ea304",
       "version_major": 2,
       "version_minor": 0
      },
      "text/plain": [
       "HBox(children=(IntProgress(value=0, description='Simulating Choices', max=6899, style=ProgressStyle(descriptio…"
      ]
     },
     "metadata": {},
     "output_type": "display_data"
    },
    {
     "name": "stdout",
     "output_type": "stream",
     "text": [
      "\n",
      "Estimating the choice model...\n",
      "Log-likelihood at zero: -13,094.7544\n",
      "Initial Log-likelihood: -13,094.7544\n"
     ]
    },
    {
     "name": "stderr",
     "output_type": "stream",
     "text": [
      "/Users/mobouzaghrane/opt/anaconda3/lib/python3.7/site-packages/scipy/optimize/_minimize.py:505: RuntimeWarning: Method BFGS does not use Hessian information (hess).\n",
      "  RuntimeWarning)\n"
     ]
    },
    {
     "name": "stdout",
     "output_type": "stream",
     "text": [
      "Estimation Time for Point Estimation: 0.37 seconds.\n",
      "Final log-likelihood: -4,999.5241\n",
      "Simulation number 39 is complete!\n",
      "==========================================\n",
      "==========================================\n",
      "Simulation number 40 is in progress...\n",
      "Simulation size is 4063\n",
      "------------------------------------------\n",
      "Simulating data...\n",
      "Simulating Availability...\n",
      "Converting data from wide to long...\n",
      "Simulating Choices...\n"
     ]
    },
    {
     "name": "stderr",
     "output_type": "stream",
     "text": [
      "/Users/mobouzaghrane/opt/anaconda3/lib/python3.7/site-packages/pylogit/choice_tools.py:703: FutureWarning: arrays to stack must be passed as a \"sequence\" type such as list or tuple. Support for non-sequence iterables such as generators is deprecated as of NumPy 1.16 and will raise an error in the future.\n",
      "  design_matrix = np.hstack((x[:, None] for x in independent_vars))\n"
     ]
    },
    {
     "data": {
      "application/vnd.jupyter.widget-view+json": {
       "model_id": "29ed8dfc8f224d96b75fd5bf5357e66f",
       "version_major": 2,
       "version_minor": 0
      },
      "text/plain": [
       "HBox(children=(IntProgress(value=0, description='Simulating Choices', max=4063, style=ProgressStyle(descriptio…"
      ]
     },
     "metadata": {},
     "output_type": "display_data"
    },
    {
     "name": "stdout",
     "output_type": "stream",
     "text": [
      "\n",
      "Estimating the choice model...\n",
      "Log-likelihood at zero: -7,723.6520\n",
      "Initial Log-likelihood: -7,723.6520\n",
      "Estimation Time for Point Estimation: 0.20 seconds.\n",
      "Final log-likelihood: -2,751.5172\n"
     ]
    },
    {
     "name": "stderr",
     "output_type": "stream",
     "text": [
      "/Users/mobouzaghrane/opt/anaconda3/lib/python3.7/site-packages/scipy/optimize/_minimize.py:505: RuntimeWarning: Method BFGS does not use Hessian information (hess).\n",
      "  RuntimeWarning)\n"
     ]
    },
    {
     "name": "stdout",
     "output_type": "stream",
     "text": [
      "Simulation number 40 is complete!\n",
      "==========================================\n",
      "==========================================\n",
      "Simulation number 41 is in progress...\n",
      "Simulation size is 6884\n",
      "------------------------------------------\n",
      "Simulating data...\n",
      "Simulating Availability...\n",
      "Converting data from wide to long...\n",
      "Simulating Choices...\n"
     ]
    },
    {
     "name": "stderr",
     "output_type": "stream",
     "text": [
      "/Users/mobouzaghrane/opt/anaconda3/lib/python3.7/site-packages/pylogit/choice_tools.py:703: FutureWarning: arrays to stack must be passed as a \"sequence\" type such as list or tuple. Support for non-sequence iterables such as generators is deprecated as of NumPy 1.16 and will raise an error in the future.\n",
      "  design_matrix = np.hstack((x[:, None] for x in independent_vars))\n"
     ]
    },
    {
     "data": {
      "application/vnd.jupyter.widget-view+json": {
       "model_id": "422bd1fb1832439e8bf11ad04955c02c",
       "version_major": 2,
       "version_minor": 0
      },
      "text/plain": [
       "HBox(children=(IntProgress(value=0, description='Simulating Choices', max=6884, style=ProgressStyle(descriptio…"
      ]
     },
     "metadata": {},
     "output_type": "display_data"
    },
    {
     "name": "stdout",
     "output_type": "stream",
     "text": [
      "\n",
      "Estimating the choice model...\n",
      "Log-likelihood at zero: -13,061.1460\n",
      "Initial Log-likelihood: -13,061.1460\n"
     ]
    },
    {
     "name": "stderr",
     "output_type": "stream",
     "text": [
      "/Users/mobouzaghrane/opt/anaconda3/lib/python3.7/site-packages/scipy/optimize/_minimize.py:505: RuntimeWarning: Method BFGS does not use Hessian information (hess).\n",
      "  RuntimeWarning)\n"
     ]
    },
    {
     "name": "stdout",
     "output_type": "stream",
     "text": [
      "Estimation Time for Point Estimation: 0.41 seconds.\n",
      "Final log-likelihood: -4,840.2203\n",
      "Simulation number 41 is complete!\n",
      "==========================================\n",
      "==========================================\n",
      "Simulation number 42 is in progress...\n",
      "Simulation size is 8830\n",
      "------------------------------------------\n",
      "Simulating data...\n",
      "Simulating Availability...\n",
      "Converting data from wide to long...\n",
      "Simulating Choices...\n"
     ]
    },
    {
     "name": "stderr",
     "output_type": "stream",
     "text": [
      "/Users/mobouzaghrane/opt/anaconda3/lib/python3.7/site-packages/pylogit/choice_tools.py:703: FutureWarning: arrays to stack must be passed as a \"sequence\" type such as list or tuple. Support for non-sequence iterables such as generators is deprecated as of NumPy 1.16 and will raise an error in the future.\n",
      "  design_matrix = np.hstack((x[:, None] for x in independent_vars))\n"
     ]
    },
    {
     "data": {
      "application/vnd.jupyter.widget-view+json": {
       "model_id": "8d13eee9aaae4cc6acec742609fd33fb",
       "version_major": 2,
       "version_minor": 0
      },
      "text/plain": [
       "HBox(children=(IntProgress(value=0, description='Simulating Choices', max=8830, style=ProgressStyle(descriptio…"
      ]
     },
     "metadata": {},
     "output_type": "display_data"
    },
    {
     "name": "stdout",
     "output_type": "stream",
     "text": [
      "\n",
      "Estimating the choice model...\n",
      "Log-likelihood at zero: -16,793.1460\n",
      "Initial Log-likelihood: -16,793.1460\n"
     ]
    },
    {
     "name": "stderr",
     "output_type": "stream",
     "text": [
      "/Users/mobouzaghrane/opt/anaconda3/lib/python3.7/site-packages/scipy/optimize/_minimize.py:505: RuntimeWarning: Method BFGS does not use Hessian information (hess).\n",
      "  RuntimeWarning)\n"
     ]
    },
    {
     "name": "stdout",
     "output_type": "stream",
     "text": [
      "Estimation Time for Point Estimation: 0.82 seconds.\n",
      "Final log-likelihood: -6,275.9924\n",
      "Simulation number 42 is complete!\n",
      "==========================================\n",
      "==========================================\n",
      "Simulation number 43 is in progress...\n",
      "Simulation size is 7131\n",
      "------------------------------------------\n",
      "Simulating data...\n",
      "Simulating Availability...\n",
      "Converting data from wide to long...\n",
      "Simulating Choices...\n"
     ]
    },
    {
     "name": "stderr",
     "output_type": "stream",
     "text": [
      "/Users/mobouzaghrane/opt/anaconda3/lib/python3.7/site-packages/pylogit/choice_tools.py:703: FutureWarning: arrays to stack must be passed as a \"sequence\" type such as list or tuple. Support for non-sequence iterables such as generators is deprecated as of NumPy 1.16 and will raise an error in the future.\n",
      "  design_matrix = np.hstack((x[:, None] for x in independent_vars))\n"
     ]
    },
    {
     "data": {
      "application/vnd.jupyter.widget-view+json": {
       "model_id": "96aeefaa1839450abf4a59d13f9a28eb",
       "version_major": 2,
       "version_minor": 0
      },
      "text/plain": [
       "HBox(children=(IntProgress(value=0, description='Simulating Choices', max=7131, style=ProgressStyle(descriptio…"
      ]
     },
     "metadata": {},
     "output_type": "display_data"
    },
    {
     "name": "stdout",
     "output_type": "stream",
     "text": [
      "\n",
      "Estimating the choice model...\n",
      "Log-likelihood at zero: -13,568.0357\n",
      "Initial Log-likelihood: -13,568.0357\n"
     ]
    },
    {
     "name": "stderr",
     "output_type": "stream",
     "text": [
      "/Users/mobouzaghrane/opt/anaconda3/lib/python3.7/site-packages/scipy/optimize/_minimize.py:505: RuntimeWarning: Method BFGS does not use Hessian information (hess).\n",
      "  RuntimeWarning)\n"
     ]
    },
    {
     "name": "stdout",
     "output_type": "stream",
     "text": [
      "Estimation Time for Point Estimation: 0.40 seconds.\n",
      "Final log-likelihood: -5,109.4431\n",
      "Simulation number 43 is complete!\n",
      "==========================================\n",
      "==========================================\n",
      "Simulation number 44 is in progress...\n",
      "Simulation size is 7590\n",
      "------------------------------------------\n",
      "Simulating data...\n",
      "Simulating Availability...\n",
      "Converting data from wide to long...\n",
      "Simulating Choices...\n"
     ]
    },
    {
     "name": "stderr",
     "output_type": "stream",
     "text": [
      "/Users/mobouzaghrane/opt/anaconda3/lib/python3.7/site-packages/pylogit/choice_tools.py:703: FutureWarning: arrays to stack must be passed as a \"sequence\" type such as list or tuple. Support for non-sequence iterables such as generators is deprecated as of NumPy 1.16 and will raise an error in the future.\n",
      "  design_matrix = np.hstack((x[:, None] for x in independent_vars))\n"
     ]
    },
    {
     "data": {
      "application/vnd.jupyter.widget-view+json": {
       "model_id": "71fd112e18734aee9bd2f91d92301303",
       "version_major": 2,
       "version_minor": 0
      },
      "text/plain": [
       "HBox(children=(IntProgress(value=0, description='Simulating Choices', max=7590, style=ProgressStyle(descriptio…"
      ]
     },
     "metadata": {},
     "output_type": "display_data"
    },
    {
     "name": "stdout",
     "output_type": "stream",
     "text": [
      "\n",
      "Estimating the choice model...\n",
      "Log-likelihood at zero: -14,383.9472\n",
      "Initial Log-likelihood: -14,383.9472\n"
     ]
    },
    {
     "name": "stderr",
     "output_type": "stream",
     "text": [
      "/Users/mobouzaghrane/opt/anaconda3/lib/python3.7/site-packages/scipy/optimize/_minimize.py:505: RuntimeWarning: Method BFGS does not use Hessian information (hess).\n",
      "  RuntimeWarning)\n"
     ]
    },
    {
     "name": "stdout",
     "output_type": "stream",
     "text": [
      "Estimation Time for Point Estimation: 0.43 seconds.\n",
      "Final log-likelihood: -5,213.4565\n",
      "Simulation number 44 is complete!\n",
      "==========================================\n",
      "==========================================\n",
      "Simulation number 45 is in progress...\n",
      "Simulation size is 8989\n",
      "------------------------------------------\n",
      "Simulating data...\n",
      "Simulating Availability...\n",
      "Converting data from wide to long...\n",
      "Simulating Choices...\n"
     ]
    },
    {
     "name": "stderr",
     "output_type": "stream",
     "text": [
      "/Users/mobouzaghrane/opt/anaconda3/lib/python3.7/site-packages/pylogit/choice_tools.py:703: FutureWarning: arrays to stack must be passed as a \"sequence\" type such as list or tuple. Support for non-sequence iterables such as generators is deprecated as of NumPy 1.16 and will raise an error in the future.\n",
      "  design_matrix = np.hstack((x[:, None] for x in independent_vars))\n"
     ]
    },
    {
     "data": {
      "application/vnd.jupyter.widget-view+json": {
       "model_id": "b107e95ed4264e5fa85356bb1a647011",
       "version_major": 2,
       "version_minor": 0
      },
      "text/plain": [
       "HBox(children=(IntProgress(value=0, description='Simulating Choices', max=8989, style=ProgressStyle(descriptio…"
      ]
     },
     "metadata": {},
     "output_type": "display_data"
    },
    {
     "name": "stdout",
     "output_type": "stream",
     "text": [
      "\n",
      "Estimating the choice model...\n",
      "Log-likelihood at zero: -17,042.1547\n",
      "Initial Log-likelihood: -17,042.1547\n"
     ]
    },
    {
     "name": "stderr",
     "output_type": "stream",
     "text": [
      "/Users/mobouzaghrane/opt/anaconda3/lib/python3.7/site-packages/scipy/optimize/_minimize.py:505: RuntimeWarning: Method BFGS does not use Hessian information (hess).\n",
      "  RuntimeWarning)\n"
     ]
    },
    {
     "name": "stdout",
     "output_type": "stream",
     "text": [
      "Estimation Time for Point Estimation: 0.43 seconds.\n",
      "Final log-likelihood: -6,346.0110\n",
      "Simulation number 45 is complete!\n",
      "==========================================\n",
      "==========================================\n",
      "Simulation number 46 is in progress...\n",
      "Simulation size is 8225\n",
      "------------------------------------------\n",
      "Simulating data...\n",
      "Simulating Availability...\n",
      "Converting data from wide to long...\n",
      "Simulating Choices...\n"
     ]
    },
    {
     "name": "stderr",
     "output_type": "stream",
     "text": [
      "/Users/mobouzaghrane/opt/anaconda3/lib/python3.7/site-packages/pylogit/choice_tools.py:703: FutureWarning: arrays to stack must be passed as a \"sequence\" type such as list or tuple. Support for non-sequence iterables such as generators is deprecated as of NumPy 1.16 and will raise an error in the future.\n",
      "  design_matrix = np.hstack((x[:, None] for x in independent_vars))\n"
     ]
    },
    {
     "data": {
      "application/vnd.jupyter.widget-view+json": {
       "model_id": "3a50c7dc432240c4815c76091b637011",
       "version_major": 2,
       "version_minor": 0
      },
      "text/plain": [
       "HBox(children=(IntProgress(value=0, description='Simulating Choices', max=8225, style=ProgressStyle(descriptio…"
      ]
     },
     "metadata": {},
     "output_type": "display_data"
    },
    {
     "name": "stdout",
     "output_type": "stream",
     "text": [
      "\n",
      "Estimating the choice model...\n",
      "Log-likelihood at zero: -15,606.9338\n",
      "Initial Log-likelihood: -15,606.9338\n"
     ]
    },
    {
     "name": "stderr",
     "output_type": "stream",
     "text": [
      "/Users/mobouzaghrane/opt/anaconda3/lib/python3.7/site-packages/scipy/optimize/_minimize.py:505: RuntimeWarning: Method BFGS does not use Hessian information (hess).\n",
      "  RuntimeWarning)\n"
     ]
    },
    {
     "name": "stdout",
     "output_type": "stream",
     "text": [
      "Estimation Time for Point Estimation: 0.71 seconds.\n",
      "Final log-likelihood: -5,598.6964\n",
      "Simulation number 46 is complete!\n",
      "==========================================\n",
      "==========================================\n",
      "Simulation number 47 is in progress...\n",
      "Simulation size is 7686\n",
      "------------------------------------------\n",
      "Simulating data...\n",
      "Simulating Availability...\n",
      "Converting data from wide to long...\n",
      "Simulating Choices...\n"
     ]
    },
    {
     "name": "stderr",
     "output_type": "stream",
     "text": [
      "/Users/mobouzaghrane/opt/anaconda3/lib/python3.7/site-packages/pylogit/choice_tools.py:703: FutureWarning: arrays to stack must be passed as a \"sequence\" type such as list or tuple. Support for non-sequence iterables such as generators is deprecated as of NumPy 1.16 and will raise an error in the future.\n",
      "  design_matrix = np.hstack((x[:, None] for x in independent_vars))\n"
     ]
    },
    {
     "data": {
      "application/vnd.jupyter.widget-view+json": {
       "model_id": "402ce99339e2407d86343af7d706c49e",
       "version_major": 2,
       "version_minor": 0
      },
      "text/plain": [
       "HBox(children=(IntProgress(value=0, description='Simulating Choices', max=7686, style=ProgressStyle(descriptio…"
      ]
     },
     "metadata": {},
     "output_type": "display_data"
    },
    {
     "name": "stdout",
     "output_type": "stream",
     "text": [
      "\n",
      "Estimating the choice model...\n",
      "Log-likelihood at zero: -14,560.9722\n",
      "Initial Log-likelihood: -14,560.9722\n"
     ]
    },
    {
     "name": "stderr",
     "output_type": "stream",
     "text": [
      "/Users/mobouzaghrane/opt/anaconda3/lib/python3.7/site-packages/scipy/optimize/_minimize.py:505: RuntimeWarning: Method BFGS does not use Hessian information (hess).\n",
      "  RuntimeWarning)\n"
     ]
    },
    {
     "name": "stdout",
     "output_type": "stream",
     "text": [
      "Estimation Time for Point Estimation: 0.44 seconds.\n",
      "Final log-likelihood: -5,392.4419\n",
      "Simulation number 47 is complete!\n",
      "==========================================\n",
      "==========================================\n",
      "Simulation number 48 is in progress...\n",
      "Simulation size is 4500\n",
      "------------------------------------------\n",
      "Simulating data...\n",
      "Simulating Availability...\n",
      "Converting data from wide to long...\n",
      "Simulating Choices...\n"
     ]
    },
    {
     "name": "stderr",
     "output_type": "stream",
     "text": [
      "/Users/mobouzaghrane/opt/anaconda3/lib/python3.7/site-packages/pylogit/choice_tools.py:703: FutureWarning: arrays to stack must be passed as a \"sequence\" type such as list or tuple. Support for non-sequence iterables such as generators is deprecated as of NumPy 1.16 and will raise an error in the future.\n",
      "  design_matrix = np.hstack((x[:, None] for x in independent_vars))\n"
     ]
    },
    {
     "data": {
      "application/vnd.jupyter.widget-view+json": {
       "model_id": "d4c269fddb6c47728e2822791147927c",
       "version_major": 2,
       "version_minor": 0
      },
      "text/plain": [
       "HBox(children=(IntProgress(value=0, description='Simulating Choices', max=4500, style=ProgressStyle(descriptio…"
      ]
     },
     "metadata": {},
     "output_type": "display_data"
    },
    {
     "name": "stdout",
     "output_type": "stream",
     "text": [
      "\n",
      "Estimating the choice model...\n",
      "Log-likelihood at zero: -8,551.3260\n",
      "Initial Log-likelihood: -8,551.3260\n"
     ]
    },
    {
     "name": "stderr",
     "output_type": "stream",
     "text": [
      "/Users/mobouzaghrane/opt/anaconda3/lib/python3.7/site-packages/scipy/optimize/_minimize.py:505: RuntimeWarning: Method BFGS does not use Hessian information (hess).\n",
      "  RuntimeWarning)\n"
     ]
    },
    {
     "name": "stdout",
     "output_type": "stream",
     "text": [
      "Estimation Time for Point Estimation: 0.23 seconds.\n",
      "Final log-likelihood: -3,264.8226\n",
      "Simulation number 48 is complete!\n",
      "==========================================\n",
      "==========================================\n",
      "Simulation number 49 is in progress...\n",
      "Simulation size is 5492\n",
      "------------------------------------------\n",
      "Simulating data...\n",
      "Simulating Availability...\n",
      "Converting data from wide to long...\n",
      "Simulating Choices...\n"
     ]
    },
    {
     "name": "stderr",
     "output_type": "stream",
     "text": [
      "/Users/mobouzaghrane/opt/anaconda3/lib/python3.7/site-packages/pylogit/choice_tools.py:703: FutureWarning: arrays to stack must be passed as a \"sequence\" type such as list or tuple. Support for non-sequence iterables such as generators is deprecated as of NumPy 1.16 and will raise an error in the future.\n",
      "  design_matrix = np.hstack((x[:, None] for x in independent_vars))\n"
     ]
    },
    {
     "data": {
      "application/vnd.jupyter.widget-view+json": {
       "model_id": "9cdad0d149954630a17d045ce020d14f",
       "version_major": 2,
       "version_minor": 0
      },
      "text/plain": [
       "HBox(children=(IntProgress(value=0, description='Simulating Choices', max=5492, style=ProgressStyle(descriptio…"
      ]
     },
     "metadata": {},
     "output_type": "display_data"
    },
    {
     "name": "stdout",
     "output_type": "stream",
     "text": [
      "\n",
      "Estimating the choice model...\n",
      "Log-likelihood at zero: -10,439.9704\n",
      "Initial Log-likelihood: -10,439.9704\n"
     ]
    },
    {
     "name": "stderr",
     "output_type": "stream",
     "text": [
      "/Users/mobouzaghrane/opt/anaconda3/lib/python3.7/site-packages/scipy/optimize/_minimize.py:505: RuntimeWarning: Method BFGS does not use Hessian information (hess).\n",
      "  RuntimeWarning)\n"
     ]
    },
    {
     "name": "stdout",
     "output_type": "stream",
     "text": [
      "Estimation Time for Point Estimation: 0.29 seconds.\n",
      "Final log-likelihood: -3,824.1003\n",
      "Simulation number 49 is complete!\n",
      "==========================================\n",
      "==========================================\n",
      "Simulation number 50 is in progress...\n",
      "Simulation size is 5822\n",
      "------------------------------------------\n",
      "Simulating data...\n",
      "Simulating Availability...\n",
      "Converting data from wide to long...\n",
      "Simulating Choices...\n"
     ]
    },
    {
     "name": "stderr",
     "output_type": "stream",
     "text": [
      "/Users/mobouzaghrane/opt/anaconda3/lib/python3.7/site-packages/pylogit/choice_tools.py:703: FutureWarning: arrays to stack must be passed as a \"sequence\" type such as list or tuple. Support for non-sequence iterables such as generators is deprecated as of NumPy 1.16 and will raise an error in the future.\n",
      "  design_matrix = np.hstack((x[:, None] for x in independent_vars))\n"
     ]
    },
    {
     "data": {
      "application/vnd.jupyter.widget-view+json": {
       "model_id": "4adbe1313c004587a98e4438d45191e2",
       "version_major": 2,
       "version_minor": 0
      },
      "text/plain": [
       "HBox(children=(IntProgress(value=0, description='Simulating Choices', max=5822, style=ProgressStyle(descriptio…"
      ]
     },
     "metadata": {},
     "output_type": "display_data"
    },
    {
     "name": "stdout",
     "output_type": "stream",
     "text": [
      "\n",
      "Estimating the choice model...\n",
      "Log-likelihood at zero: -11,048.7103\n",
      "Initial Log-likelihood: -11,048.7103\n"
     ]
    },
    {
     "name": "stderr",
     "output_type": "stream",
     "text": [
      "/Users/mobouzaghrane/opt/anaconda3/lib/python3.7/site-packages/scipy/optimize/_minimize.py:505: RuntimeWarning: Method BFGS does not use Hessian information (hess).\n",
      "  RuntimeWarning)\n"
     ]
    },
    {
     "name": "stdout",
     "output_type": "stream",
     "text": [
      "Estimation Time for Point Estimation: 0.27 seconds.\n",
      "Final log-likelihood: -3,990.1377\n",
      "Simulation number 50 is complete!\n",
      "==========================================\n",
      "==========================================\n",
      "Simulation number 51 is in progress...\n",
      "Simulation size is 7411\n",
      "------------------------------------------\n",
      "Simulating data...\n",
      "Simulating Availability...\n",
      "Converting data from wide to long...\n",
      "Simulating Choices...\n"
     ]
    },
    {
     "name": "stderr",
     "output_type": "stream",
     "text": [
      "/Users/mobouzaghrane/opt/anaconda3/lib/python3.7/site-packages/pylogit/choice_tools.py:703: FutureWarning: arrays to stack must be passed as a \"sequence\" type such as list or tuple. Support for non-sequence iterables such as generators is deprecated as of NumPy 1.16 and will raise an error in the future.\n",
      "  design_matrix = np.hstack((x[:, None] for x in independent_vars))\n"
     ]
    },
    {
     "data": {
      "application/vnd.jupyter.widget-view+json": {
       "model_id": "eebf4f1b79e34858b72e2c46c8f1a523",
       "version_major": 2,
       "version_minor": 0
      },
      "text/plain": [
       "HBox(children=(IntProgress(value=0, description='Simulating Choices', max=7411, style=ProgressStyle(descriptio…"
      ]
     },
     "metadata": {},
     "output_type": "display_data"
    },
    {
     "name": "stdout",
     "output_type": "stream",
     "text": [
      "\n",
      "Estimating the choice model...\n",
      "Log-likelihood at zero: -14,068.1195\n",
      "Initial Log-likelihood: -14,068.1195\n"
     ]
    },
    {
     "name": "stderr",
     "output_type": "stream",
     "text": [
      "/Users/mobouzaghrane/opt/anaconda3/lib/python3.7/site-packages/scipy/optimize/_minimize.py:505: RuntimeWarning: Method BFGS does not use Hessian information (hess).\n",
      "  RuntimeWarning)\n"
     ]
    },
    {
     "name": "stdout",
     "output_type": "stream",
     "text": [
      "Estimation Time for Point Estimation: 0.40 seconds.\n",
      "Final log-likelihood: -5,200.6680\n",
      "Simulation number 51 is complete!\n",
      "==========================================\n",
      "==========================================\n",
      "Simulation number 52 is in progress...\n",
      "Simulation size is 3251\n",
      "------------------------------------------\n",
      "Simulating data...\n",
      "Simulating Availability...\n",
      "Converting data from wide to long...\n",
      "Simulating Choices...\n"
     ]
    },
    {
     "name": "stderr",
     "output_type": "stream",
     "text": [
      "/Users/mobouzaghrane/opt/anaconda3/lib/python3.7/site-packages/pylogit/choice_tools.py:703: FutureWarning: arrays to stack must be passed as a \"sequence\" type such as list or tuple. Support for non-sequence iterables such as generators is deprecated as of NumPy 1.16 and will raise an error in the future.\n",
      "  design_matrix = np.hstack((x[:, None] for x in independent_vars))\n"
     ]
    },
    {
     "data": {
      "application/vnd.jupyter.widget-view+json": {
       "model_id": "25c472559adf45f9bbba0ad32975abce",
       "version_major": 2,
       "version_minor": 0
      },
      "text/plain": [
       "HBox(children=(IntProgress(value=0, description='Simulating Choices', max=3251, style=ProgressStyle(descriptio…"
      ]
     },
     "metadata": {},
     "output_type": "display_data"
    },
    {
     "name": "stdout",
     "output_type": "stream",
     "text": [
      "\n",
      "Estimating the choice model...\n",
      "Log-likelihood at zero: -6,171.5495\n",
      "Initial Log-likelihood: -6,171.5495\n",
      "Estimation Time for Point Estimation: 0.18 seconds.\n",
      "Final log-likelihood: -2,268.1227\n"
     ]
    },
    {
     "name": "stderr",
     "output_type": "stream",
     "text": [
      "/Users/mobouzaghrane/opt/anaconda3/lib/python3.7/site-packages/scipy/optimize/_minimize.py:505: RuntimeWarning: Method BFGS does not use Hessian information (hess).\n",
      "  RuntimeWarning)\n"
     ]
    },
    {
     "name": "stdout",
     "output_type": "stream",
     "text": [
      "Simulation number 52 is complete!\n",
      "==========================================\n",
      "==========================================\n",
      "Simulation number 53 is in progress...\n",
      "Simulation size is 6460\n",
      "------------------------------------------\n",
      "Simulating data...\n",
      "Simulating Availability...\n",
      "Converting data from wide to long...\n",
      "Simulating Choices...\n"
     ]
    },
    {
     "name": "stderr",
     "output_type": "stream",
     "text": [
      "/Users/mobouzaghrane/opt/anaconda3/lib/python3.7/site-packages/pylogit/choice_tools.py:703: FutureWarning: arrays to stack must be passed as a \"sequence\" type such as list or tuple. Support for non-sequence iterables such as generators is deprecated as of NumPy 1.16 and will raise an error in the future.\n",
      "  design_matrix = np.hstack((x[:, None] for x in independent_vars))\n"
     ]
    },
    {
     "data": {
      "application/vnd.jupyter.widget-view+json": {
       "model_id": "8b00c6746f85418ea141566ebb2d183e",
       "version_major": 2,
       "version_minor": 0
      },
      "text/plain": [
       "HBox(children=(IntProgress(value=0, description='Simulating Choices', max=6460, style=ProgressStyle(descriptio…"
      ]
     },
     "metadata": {},
     "output_type": "display_data"
    },
    {
     "name": "stdout",
     "output_type": "stream",
     "text": [
      "\n",
      "Estimating the choice model...\n",
      "Log-likelihood at zero: -12,254.9162\n",
      "Initial Log-likelihood: -12,254.9162\n"
     ]
    },
    {
     "name": "stderr",
     "output_type": "stream",
     "text": [
      "/Users/mobouzaghrane/opt/anaconda3/lib/python3.7/site-packages/scipy/optimize/_minimize.py:505: RuntimeWarning: Method BFGS does not use Hessian information (hess).\n",
      "  RuntimeWarning)\n"
     ]
    },
    {
     "name": "stdout",
     "output_type": "stream",
     "text": [
      "Estimation Time for Point Estimation: 0.37 seconds.\n",
      "Final log-likelihood: -4,476.5867\n",
      "Simulation number 53 is complete!\n",
      "==========================================\n",
      "==========================================\n",
      "Simulation number 54 is in progress...\n",
      "Simulation size is 8713\n",
      "------------------------------------------\n",
      "Simulating data...\n",
      "Simulating Availability...\n",
      "Converting data from wide to long...\n",
      "Simulating Choices...\n"
     ]
    },
    {
     "name": "stderr",
     "output_type": "stream",
     "text": [
      "/Users/mobouzaghrane/opt/anaconda3/lib/python3.7/site-packages/pylogit/choice_tools.py:703: FutureWarning: arrays to stack must be passed as a \"sequence\" type such as list or tuple. Support for non-sequence iterables such as generators is deprecated as of NumPy 1.16 and will raise an error in the future.\n",
      "  design_matrix = np.hstack((x[:, None] for x in independent_vars))\n"
     ]
    },
    {
     "data": {
      "application/vnd.jupyter.widget-view+json": {
       "model_id": "2752171a81bf44b98f0e008faf677fb7",
       "version_major": 2,
       "version_minor": 0
      },
      "text/plain": [
       "HBox(children=(IntProgress(value=0, description='Simulating Choices', max=8713, style=ProgressStyle(descriptio…"
      ]
     },
     "metadata": {},
     "output_type": "display_data"
    },
    {
     "name": "stdout",
     "output_type": "stream",
     "text": [
      "\n",
      "Estimating the choice model...\n",
      "Log-likelihood at zero: -16,538.3528\n",
      "Initial Log-likelihood: -16,538.3528\n"
     ]
    },
    {
     "name": "stderr",
     "output_type": "stream",
     "text": [
      "/Users/mobouzaghrane/opt/anaconda3/lib/python3.7/site-packages/scipy/optimize/_minimize.py:505: RuntimeWarning: Method BFGS does not use Hessian information (hess).\n",
      "  RuntimeWarning)\n"
     ]
    },
    {
     "name": "stdout",
     "output_type": "stream",
     "text": [
      "Estimation Time for Point Estimation: 0.49 seconds.\n",
      "Final log-likelihood: -6,146.0879\n",
      "Simulation number 54 is complete!\n",
      "==========================================\n",
      "==========================================\n",
      "Simulation number 55 is in progress...\n",
      "Simulation size is 3441\n",
      "------------------------------------------\n",
      "Simulating data...\n",
      "Simulating Availability...\n",
      "Converting data from wide to long...\n",
      "Simulating Choices...\n"
     ]
    },
    {
     "name": "stderr",
     "output_type": "stream",
     "text": [
      "/Users/mobouzaghrane/opt/anaconda3/lib/python3.7/site-packages/pylogit/choice_tools.py:703: FutureWarning: arrays to stack must be passed as a \"sequence\" type such as list or tuple. Support for non-sequence iterables such as generators is deprecated as of NumPy 1.16 and will raise an error in the future.\n",
      "  design_matrix = np.hstack((x[:, None] for x in independent_vars))\n"
     ]
    },
    {
     "data": {
      "application/vnd.jupyter.widget-view+json": {
       "model_id": "fd0bcf29e1134252a14fadb63bdfa9ca",
       "version_major": 2,
       "version_minor": 0
      },
      "text/plain": [
       "HBox(children=(IntProgress(value=0, description='Simulating Choices', max=3441, style=ProgressStyle(descriptio…"
      ]
     },
     "metadata": {},
     "output_type": "display_data"
    },
    {
     "name": "stdout",
     "output_type": "stream",
     "text": [
      "\n",
      "Estimating the choice model...\n",
      "Log-likelihood at zero: -6,533.4079\n",
      "Initial Log-likelihood: -6,533.4079\n",
      "Estimation Time for Point Estimation: 0.18 seconds.\n",
      "Final log-likelihood: -2,411.7567\n"
     ]
    },
    {
     "name": "stderr",
     "output_type": "stream",
     "text": [
      "/Users/mobouzaghrane/opt/anaconda3/lib/python3.7/site-packages/scipy/optimize/_minimize.py:505: RuntimeWarning: Method BFGS does not use Hessian information (hess).\n",
      "  RuntimeWarning)\n"
     ]
    },
    {
     "name": "stdout",
     "output_type": "stream",
     "text": [
      "Simulation number 55 is complete!\n",
      "==========================================\n",
      "==========================================\n",
      "Simulation number 56 is in progress...\n",
      "Simulation size is 4964\n",
      "------------------------------------------\n",
      "Simulating data...\n",
      "Simulating Availability...\n",
      "Converting data from wide to long...\n",
      "Simulating Choices...\n"
     ]
    },
    {
     "name": "stderr",
     "output_type": "stream",
     "text": [
      "/Users/mobouzaghrane/opt/anaconda3/lib/python3.7/site-packages/pylogit/choice_tools.py:703: FutureWarning: arrays to stack must be passed as a \"sequence\" type such as list or tuple. Support for non-sequence iterables such as generators is deprecated as of NumPy 1.16 and will raise an error in the future.\n",
      "  design_matrix = np.hstack((x[:, None] for x in independent_vars))\n"
     ]
    },
    {
     "data": {
      "application/vnd.jupyter.widget-view+json": {
       "model_id": "b6ce9ba4fdf24da69d62de6eb4ddcc55",
       "version_major": 2,
       "version_minor": 0
      },
      "text/plain": [
       "HBox(children=(IntProgress(value=0, description='Simulating Choices', max=4964, style=ProgressStyle(descriptio…"
      ]
     },
     "metadata": {},
     "output_type": "display_data"
    },
    {
     "name": "stdout",
     "output_type": "stream",
     "text": [
      "\n",
      "Estimating the choice model...\n",
      "Log-likelihood at zero: -9,434.1993\n",
      "Initial Log-likelihood: -9,434.1993\n"
     ]
    },
    {
     "name": "stderr",
     "output_type": "stream",
     "text": [
      "/Users/mobouzaghrane/opt/anaconda3/lib/python3.7/site-packages/scipy/optimize/_minimize.py:505: RuntimeWarning: Method BFGS does not use Hessian information (hess).\n",
      "  RuntimeWarning)\n"
     ]
    },
    {
     "name": "stdout",
     "output_type": "stream",
     "text": [
      "Estimation Time for Point Estimation: 0.50 seconds.\n",
      "Final log-likelihood: -3,527.9768\n",
      "Simulation number 56 is complete!\n",
      "==========================================\n",
      "==========================================\n",
      "Simulation number 57 is in progress...\n",
      "Simulation size is 3705\n",
      "------------------------------------------\n",
      "Simulating data...\n",
      "Simulating Availability...\n",
      "Converting data from wide to long...\n",
      "Simulating Choices...\n"
     ]
    },
    {
     "name": "stderr",
     "output_type": "stream",
     "text": [
      "/Users/mobouzaghrane/opt/anaconda3/lib/python3.7/site-packages/pylogit/choice_tools.py:703: FutureWarning: arrays to stack must be passed as a \"sequence\" type such as list or tuple. Support for non-sequence iterables such as generators is deprecated as of NumPy 1.16 and will raise an error in the future.\n",
      "  design_matrix = np.hstack((x[:, None] for x in independent_vars))\n"
     ]
    },
    {
     "data": {
      "application/vnd.jupyter.widget-view+json": {
       "model_id": "3136d8e2d969446fbfc990c60642413d",
       "version_major": 2,
       "version_minor": 0
      },
      "text/plain": [
       "HBox(children=(IntProgress(value=0, description='Simulating Choices', max=3705, style=ProgressStyle(descriptio…"
      ]
     },
     "metadata": {},
     "output_type": "display_data"
    },
    {
     "name": "stdout",
     "output_type": "stream",
     "text": [
      "\n",
      "Estimating the choice model...\n",
      "Log-likelihood at zero: -7,026.9071\n",
      "Initial Log-likelihood: -7,026.9071\n",
      "Estimation Time for Point Estimation: 0.20 seconds.\n",
      "Final log-likelihood: -2,550.4118\n"
     ]
    },
    {
     "name": "stderr",
     "output_type": "stream",
     "text": [
      "/Users/mobouzaghrane/opt/anaconda3/lib/python3.7/site-packages/scipy/optimize/_minimize.py:505: RuntimeWarning: Method BFGS does not use Hessian information (hess).\n",
      "  RuntimeWarning)\n"
     ]
    },
    {
     "name": "stdout",
     "output_type": "stream",
     "text": [
      "Simulation number 57 is complete!\n",
      "==========================================\n",
      "==========================================\n",
      "Simulation number 58 is in progress...\n",
      "Simulation size is 3543\n",
      "------------------------------------------\n",
      "Simulating data...\n",
      "Simulating Availability...\n",
      "Converting data from wide to long...\n",
      "Simulating Choices...\n"
     ]
    },
    {
     "name": "stderr",
     "output_type": "stream",
     "text": [
      "/Users/mobouzaghrane/opt/anaconda3/lib/python3.7/site-packages/pylogit/choice_tools.py:703: FutureWarning: arrays to stack must be passed as a \"sequence\" type such as list or tuple. Support for non-sequence iterables such as generators is deprecated as of NumPy 1.16 and will raise an error in the future.\n",
      "  design_matrix = np.hstack((x[:, None] for x in independent_vars))\n"
     ]
    },
    {
     "data": {
      "application/vnd.jupyter.widget-view+json": {
       "model_id": "6603581c2b1c4bee9ac28a6be9573e48",
       "version_major": 2,
       "version_minor": 0
      },
      "text/plain": [
       "HBox(children=(IntProgress(value=0, description='Simulating Choices', max=3543, style=ProgressStyle(descriptio…"
      ]
     },
     "metadata": {},
     "output_type": "display_data"
    },
    {
     "name": "stdout",
     "output_type": "stream",
     "text": [
      "\n",
      "Estimating the choice model...\n",
      "Log-likelihood at zero: -6,725.8038\n",
      "Initial Log-likelihood: -6,725.8038\n",
      "Estimation Time for Point Estimation: 0.20 seconds.\n",
      "Final log-likelihood: -2,468.9702\n"
     ]
    },
    {
     "name": "stderr",
     "output_type": "stream",
     "text": [
      "/Users/mobouzaghrane/opt/anaconda3/lib/python3.7/site-packages/scipy/optimize/_minimize.py:505: RuntimeWarning: Method BFGS does not use Hessian information (hess).\n",
      "  RuntimeWarning)\n"
     ]
    },
    {
     "name": "stdout",
     "output_type": "stream",
     "text": [
      "Simulation number 58 is complete!\n",
      "==========================================\n",
      "==========================================\n",
      "Simulation number 59 is in progress...\n",
      "Simulation size is 3139\n",
      "------------------------------------------\n",
      "Simulating data...\n",
      "Simulating Availability...\n",
      "Converting data from wide to long...\n",
      "Simulating Choices...\n"
     ]
    },
    {
     "name": "stderr",
     "output_type": "stream",
     "text": [
      "/Users/mobouzaghrane/opt/anaconda3/lib/python3.7/site-packages/pylogit/choice_tools.py:703: FutureWarning: arrays to stack must be passed as a \"sequence\" type such as list or tuple. Support for non-sequence iterables such as generators is deprecated as of NumPy 1.16 and will raise an error in the future.\n",
      "  design_matrix = np.hstack((x[:, None] for x in independent_vars))\n"
     ]
    },
    {
     "data": {
      "application/vnd.jupyter.widget-view+json": {
       "model_id": "741fe0eea8a543b6806bac20fd9a72dc",
       "version_major": 2,
       "version_minor": 0
      },
      "text/plain": [
       "HBox(children=(IntProgress(value=0, description='Simulating Choices', max=3139, style=ProgressStyle(descriptio…"
      ]
     },
     "metadata": {},
     "output_type": "display_data"
    },
    {
     "name": "stdout",
     "output_type": "stream",
     "text": [
      "\n",
      "Estimating the choice model...\n",
      "Log-likelihood at zero: -5,964.8410\n",
      "Initial Log-likelihood: -5,964.8410\n",
      "Estimation Time for Point Estimation: 0.16 seconds.\n",
      "Final log-likelihood: -2,236.2704\n"
     ]
    },
    {
     "name": "stderr",
     "output_type": "stream",
     "text": [
      "/Users/mobouzaghrane/opt/anaconda3/lib/python3.7/site-packages/scipy/optimize/_minimize.py:505: RuntimeWarning: Method BFGS does not use Hessian information (hess).\n",
      "  RuntimeWarning)\n"
     ]
    },
    {
     "name": "stdout",
     "output_type": "stream",
     "text": [
      "Simulation number 59 is complete!\n",
      "==========================================\n",
      "==========================================\n",
      "Simulation number 60 is in progress...\n",
      "Simulation size is 4531\n",
      "------------------------------------------\n",
      "Simulating data...\n",
      "Simulating Availability...\n",
      "Converting data from wide to long...\n",
      "Simulating Choices...\n"
     ]
    },
    {
     "name": "stderr",
     "output_type": "stream",
     "text": [
      "/Users/mobouzaghrane/opt/anaconda3/lib/python3.7/site-packages/pylogit/choice_tools.py:703: FutureWarning: arrays to stack must be passed as a \"sequence\" type such as list or tuple. Support for non-sequence iterables such as generators is deprecated as of NumPy 1.16 and will raise an error in the future.\n",
      "  design_matrix = np.hstack((x[:, None] for x in independent_vars))\n"
     ]
    },
    {
     "data": {
      "application/vnd.jupyter.widget-view+json": {
       "model_id": "39698c6e8d2c48f98bf099a6ee5040c8",
       "version_major": 2,
       "version_minor": 0
      },
      "text/plain": [
       "HBox(children=(IntProgress(value=0, description='Simulating Choices', max=4531, style=ProgressStyle(descriptio…"
      ]
     },
     "metadata": {},
     "output_type": "display_data"
    },
    {
     "name": "stdout",
     "output_type": "stream",
     "text": [
      "\n",
      "Estimating the choice model...\n",
      "Log-likelihood at zero: -8,595.7971\n",
      "Initial Log-likelihood: -8,595.7971\n"
     ]
    },
    {
     "name": "stderr",
     "output_type": "stream",
     "text": [
      "/Users/mobouzaghrane/opt/anaconda3/lib/python3.7/site-packages/scipy/optimize/_minimize.py:505: RuntimeWarning: Method BFGS does not use Hessian information (hess).\n",
      "  RuntimeWarning)\n"
     ]
    },
    {
     "name": "stdout",
     "output_type": "stream",
     "text": [
      "Estimation Time for Point Estimation: 0.22 seconds.\n",
      "Final log-likelihood: -3,166.6114\n",
      "Simulation number 60 is complete!\n",
      "==========================================\n",
      "==========================================\n",
      "Simulation number 61 is in progress...\n",
      "Simulation size is 6976\n",
      "------------------------------------------\n",
      "Simulating data...\n",
      "Simulating Availability...\n",
      "Converting data from wide to long...\n",
      "Simulating Choices...\n"
     ]
    },
    {
     "name": "stderr",
     "output_type": "stream",
     "text": [
      "/Users/mobouzaghrane/opt/anaconda3/lib/python3.7/site-packages/pylogit/choice_tools.py:703: FutureWarning: arrays to stack must be passed as a \"sequence\" type such as list or tuple. Support for non-sequence iterables such as generators is deprecated as of NumPy 1.16 and will raise an error in the future.\n",
      "  design_matrix = np.hstack((x[:, None] for x in independent_vars))\n"
     ]
    },
    {
     "data": {
      "application/vnd.jupyter.widget-view+json": {
       "model_id": "23d4a0ee5d214ca89194c8fc70658be5",
       "version_major": 2,
       "version_minor": 0
      },
      "text/plain": [
       "HBox(children=(IntProgress(value=0, description='Simulating Choices', max=6976, style=ProgressStyle(descriptio…"
      ]
     },
     "metadata": {},
     "output_type": "display_data"
    },
    {
     "name": "stdout",
     "output_type": "stream",
     "text": [
      "\n",
      "Estimating the choice model...\n",
      "Log-likelihood at zero: -13,245.0270\n",
      "Initial Log-likelihood: -13,245.0270\n"
     ]
    },
    {
     "name": "stderr",
     "output_type": "stream",
     "text": [
      "/Users/mobouzaghrane/opt/anaconda3/lib/python3.7/site-packages/scipy/optimize/_minimize.py:505: RuntimeWarning: Method BFGS does not use Hessian information (hess).\n",
      "  RuntimeWarning)\n"
     ]
    },
    {
     "name": "stdout",
     "output_type": "stream",
     "text": [
      "Estimation Time for Point Estimation: 0.40 seconds.\n",
      "Final log-likelihood: -4,819.6459\n",
      "Simulation number 61 is complete!\n",
      "==========================================\n",
      "==========================================\n",
      "Simulation number 62 is in progress...\n",
      "Simulation size is 3361\n",
      "------------------------------------------\n",
      "Simulating data...\n",
      "Simulating Availability...\n",
      "Converting data from wide to long...\n",
      "Simulating Choices...\n"
     ]
    },
    {
     "name": "stderr",
     "output_type": "stream",
     "text": [
      "/Users/mobouzaghrane/opt/anaconda3/lib/python3.7/site-packages/pylogit/choice_tools.py:703: FutureWarning: arrays to stack must be passed as a \"sequence\" type such as list or tuple. Support for non-sequence iterables such as generators is deprecated as of NumPy 1.16 and will raise an error in the future.\n",
      "  design_matrix = np.hstack((x[:, None] for x in independent_vars))\n"
     ]
    },
    {
     "data": {
      "application/vnd.jupyter.widget-view+json": {
       "model_id": "9b9048032cce4ee2a2d1db7dbb6714d4",
       "version_major": 2,
       "version_minor": 0
      },
      "text/plain": [
       "HBox(children=(IntProgress(value=0, description='Simulating Choices', max=3361, style=ProgressStyle(descriptio…"
      ]
     },
     "metadata": {},
     "output_type": "display_data"
    },
    {
     "name": "stdout",
     "output_type": "stream",
     "text": [
      "\n",
      "Estimating the choice model...\n",
      "Log-likelihood at zero: -6,373.9760\n",
      "Initial Log-likelihood: -6,373.9760\n",
      "Estimation Time for Point Estimation: 0.19 seconds.\n",
      "Final log-likelihood: -2,368.2833\n"
     ]
    },
    {
     "name": "stderr",
     "output_type": "stream",
     "text": [
      "/Users/mobouzaghrane/opt/anaconda3/lib/python3.7/site-packages/scipy/optimize/_minimize.py:505: RuntimeWarning: Method BFGS does not use Hessian information (hess).\n",
      "  RuntimeWarning)\n"
     ]
    },
    {
     "name": "stdout",
     "output_type": "stream",
     "text": [
      "Simulation number 62 is complete!\n",
      "==========================================\n",
      "==========================================\n",
      "Simulation number 63 is in progress...\n",
      "Simulation size is 7589\n",
      "------------------------------------------\n",
      "Simulating data...\n",
      "Simulating Availability...\n",
      "Converting data from wide to long...\n",
      "Simulating Choices...\n"
     ]
    },
    {
     "name": "stderr",
     "output_type": "stream",
     "text": [
      "/Users/mobouzaghrane/opt/anaconda3/lib/python3.7/site-packages/pylogit/choice_tools.py:703: FutureWarning: arrays to stack must be passed as a \"sequence\" type such as list or tuple. Support for non-sequence iterables such as generators is deprecated as of NumPy 1.16 and will raise an error in the future.\n",
      "  design_matrix = np.hstack((x[:, None] for x in independent_vars))\n"
     ]
    },
    {
     "data": {
      "application/vnd.jupyter.widget-view+json": {
       "model_id": "01ffd86c541341df9da44c2d9262e570",
       "version_major": 2,
       "version_minor": 0
      },
      "text/plain": [
       "HBox(children=(IntProgress(value=0, description='Simulating Choices', max=7589, style=ProgressStyle(descriptio…"
      ]
     },
     "metadata": {},
     "output_type": "display_data"
    },
    {
     "name": "stdout",
     "output_type": "stream",
     "text": [
      "\n",
      "Estimating the choice model...\n",
      "Log-likelihood at zero: -14,418.7346\n",
      "Initial Log-likelihood: -14,418.7346\n"
     ]
    },
    {
     "name": "stderr",
     "output_type": "stream",
     "text": [
      "/Users/mobouzaghrane/opt/anaconda3/lib/python3.7/site-packages/scipy/optimize/_minimize.py:505: RuntimeWarning: Method BFGS does not use Hessian information (hess).\n",
      "  RuntimeWarning)\n"
     ]
    },
    {
     "name": "stdout",
     "output_type": "stream",
     "text": [
      "Estimation Time for Point Estimation: 0.39 seconds.\n",
      "Final log-likelihood: -5,508.8802\n",
      "Simulation number 63 is complete!\n",
      "==========================================\n",
      "==========================================\n",
      "Simulation number 64 is in progress...\n",
      "Simulation size is 7337\n",
      "------------------------------------------\n",
      "Simulating data...\n",
      "Simulating Availability...\n",
      "Converting data from wide to long...\n",
      "Simulating Choices...\n"
     ]
    },
    {
     "name": "stderr",
     "output_type": "stream",
     "text": [
      "/Users/mobouzaghrane/opt/anaconda3/lib/python3.7/site-packages/pylogit/choice_tools.py:703: FutureWarning: arrays to stack must be passed as a \"sequence\" type such as list or tuple. Support for non-sequence iterables such as generators is deprecated as of NumPy 1.16 and will raise an error in the future.\n",
      "  design_matrix = np.hstack((x[:, None] for x in independent_vars))\n"
     ]
    },
    {
     "data": {
      "application/vnd.jupyter.widget-view+json": {
       "model_id": "d6889d0f950b411885d17311a383356b",
       "version_major": 2,
       "version_minor": 0
      },
      "text/plain": [
       "HBox(children=(IntProgress(value=0, description='Simulating Choices', max=7337, style=ProgressStyle(descriptio…"
      ]
     },
     "metadata": {},
     "output_type": "display_data"
    },
    {
     "name": "stdout",
     "output_type": "stream",
     "text": [
      "\n",
      "Estimating the choice model...\n",
      "Log-likelihood at zero: -13,897.6057\n",
      "Initial Log-likelihood: -13,897.6057\n"
     ]
    },
    {
     "name": "stderr",
     "output_type": "stream",
     "text": [
      "/Users/mobouzaghrane/opt/anaconda3/lib/python3.7/site-packages/scipy/optimize/_minimize.py:505: RuntimeWarning: Method BFGS does not use Hessian information (hess).\n",
      "  RuntimeWarning)\n"
     ]
    },
    {
     "name": "stdout",
     "output_type": "stream",
     "text": [
      "Estimation Time for Point Estimation: 0.59 seconds.\n",
      "Final log-likelihood: -5,160.8479\n",
      "Simulation number 64 is complete!\n",
      "==========================================\n",
      "==========================================\n",
      "Simulation number 65 is in progress...\n",
      "Simulation size is 6747\n",
      "------------------------------------------\n",
      "Simulating data...\n",
      "Simulating Availability...\n",
      "Converting data from wide to long...\n",
      "Simulating Choices...\n"
     ]
    },
    {
     "name": "stderr",
     "output_type": "stream",
     "text": [
      "/Users/mobouzaghrane/opt/anaconda3/lib/python3.7/site-packages/pylogit/choice_tools.py:703: FutureWarning: arrays to stack must be passed as a \"sequence\" type such as list or tuple. Support for non-sequence iterables such as generators is deprecated as of NumPy 1.16 and will raise an error in the future.\n",
      "  design_matrix = np.hstack((x[:, None] for x in independent_vars))\n"
     ]
    },
    {
     "data": {
      "application/vnd.jupyter.widget-view+json": {
       "model_id": "20aa20824e76408bb7ae7642d0839681",
       "version_major": 2,
       "version_minor": 0
      },
      "text/plain": [
       "HBox(children=(IntProgress(value=0, description='Simulating Choices', max=6747, style=ProgressStyle(descriptio…"
      ]
     },
     "metadata": {},
     "output_type": "display_data"
    },
    {
     "name": "stdout",
     "output_type": "stream",
     "text": [
      "\n",
      "Estimating the choice model...\n",
      "Log-likelihood at zero: -12,797.8864\n",
      "Initial Log-likelihood: -12,797.8864\n"
     ]
    },
    {
     "name": "stderr",
     "output_type": "stream",
     "text": [
      "/Users/mobouzaghrane/opt/anaconda3/lib/python3.7/site-packages/scipy/optimize/_minimize.py:505: RuntimeWarning: Method BFGS does not use Hessian information (hess).\n",
      "  RuntimeWarning)\n"
     ]
    },
    {
     "name": "stdout",
     "output_type": "stream",
     "text": [
      "Estimation Time for Point Estimation: 0.41 seconds.\n",
      "Final log-likelihood: -4,699.5308\n",
      "Simulation number 65 is complete!\n",
      "==========================================\n",
      "==========================================\n",
      "Simulation number 66 is in progress...\n",
      "Simulation size is 5036\n",
      "------------------------------------------\n",
      "Simulating data...\n",
      "Simulating Availability...\n",
      "Converting data from wide to long...\n",
      "Simulating Choices...\n"
     ]
    },
    {
     "name": "stderr",
     "output_type": "stream",
     "text": [
      "/Users/mobouzaghrane/opt/anaconda3/lib/python3.7/site-packages/pylogit/choice_tools.py:703: FutureWarning: arrays to stack must be passed as a \"sequence\" type such as list or tuple. Support for non-sequence iterables such as generators is deprecated as of NumPy 1.16 and will raise an error in the future.\n",
      "  design_matrix = np.hstack((x[:, None] for x in independent_vars))\n"
     ]
    },
    {
     "data": {
      "application/vnd.jupyter.widget-view+json": {
       "model_id": "cb461343f90e41129bb02f060714f981",
       "version_major": 2,
       "version_minor": 0
      },
      "text/plain": [
       "HBox(children=(IntProgress(value=0, description='Simulating Choices', max=5036, style=ProgressStyle(descriptio…"
      ]
     },
     "metadata": {},
     "output_type": "display_data"
    },
    {
     "name": "stdout",
     "output_type": "stream",
     "text": [
      "\n",
      "Estimating the choice model...\n",
      "Log-likelihood at zero: -9,560.6657\n",
      "Initial Log-likelihood: -9,560.6657\n"
     ]
    },
    {
     "name": "stderr",
     "output_type": "stream",
     "text": [
      "/Users/mobouzaghrane/opt/anaconda3/lib/python3.7/site-packages/scipy/optimize/_minimize.py:505: RuntimeWarning: Method BFGS does not use Hessian information (hess).\n",
      "  RuntimeWarning)\n"
     ]
    },
    {
     "name": "stdout",
     "output_type": "stream",
     "text": [
      "Estimation Time for Point Estimation: 0.39 seconds.\n",
      "Final log-likelihood: -3,511.2064\n",
      "Simulation number 66 is complete!\n",
      "==========================================\n",
      "==========================================\n",
      "Simulation number 67 is in progress...\n",
      "Simulation size is 4723\n",
      "------------------------------------------\n",
      "Simulating data...\n",
      "Simulating Availability...\n",
      "Converting data from wide to long...\n",
      "Simulating Choices...\n"
     ]
    },
    {
     "name": "stderr",
     "output_type": "stream",
     "text": [
      "/Users/mobouzaghrane/opt/anaconda3/lib/python3.7/site-packages/pylogit/choice_tools.py:703: FutureWarning: arrays to stack must be passed as a \"sequence\" type such as list or tuple. Support for non-sequence iterables such as generators is deprecated as of NumPy 1.16 and will raise an error in the future.\n",
      "  design_matrix = np.hstack((x[:, None] for x in independent_vars))\n"
     ]
    },
    {
     "data": {
      "application/vnd.jupyter.widget-view+json": {
       "model_id": "23cea3aabbeb435cb82a843bddd2931c",
       "version_major": 2,
       "version_minor": 0
      },
      "text/plain": [
       "HBox(children=(IntProgress(value=0, description='Simulating Choices', max=4723, style=ProgressStyle(descriptio…"
      ]
     },
     "metadata": {},
     "output_type": "display_data"
    },
    {
     "name": "stdout",
     "output_type": "stream",
     "text": [
      "\n",
      "Estimating the choice model...\n",
      "Log-likelihood at zero: -8,966.6974\n",
      "Initial Log-likelihood: -8,966.6974\n"
     ]
    },
    {
     "name": "stderr",
     "output_type": "stream",
     "text": [
      "/Users/mobouzaghrane/opt/anaconda3/lib/python3.7/site-packages/scipy/optimize/_minimize.py:505: RuntimeWarning: Method BFGS does not use Hessian information (hess).\n",
      "  RuntimeWarning)\n"
     ]
    },
    {
     "name": "stdout",
     "output_type": "stream",
     "text": [
      "Estimation Time for Point Estimation: 0.45 seconds.\n",
      "Final log-likelihood: -3,314.1774\n",
      "Simulation number 67 is complete!\n",
      "==========================================\n",
      "==========================================\n",
      "Simulation number 68 is in progress...\n",
      "Simulation size is 8343\n",
      "------------------------------------------\n",
      "Simulating data...\n",
      "Simulating Availability...\n",
      "Converting data from wide to long...\n",
      "Simulating Choices...\n"
     ]
    },
    {
     "name": "stderr",
     "output_type": "stream",
     "text": [
      "/Users/mobouzaghrane/opt/anaconda3/lib/python3.7/site-packages/pylogit/choice_tools.py:703: FutureWarning: arrays to stack must be passed as a \"sequence\" type such as list or tuple. Support for non-sequence iterables such as generators is deprecated as of NumPy 1.16 and will raise an error in the future.\n",
      "  design_matrix = np.hstack((x[:, None] for x in independent_vars))\n"
     ]
    },
    {
     "data": {
      "application/vnd.jupyter.widget-view+json": {
       "model_id": "d1cc5d09578d4bf19e1b7f1912ae814e",
       "version_major": 2,
       "version_minor": 0
      },
      "text/plain": [
       "HBox(children=(IntProgress(value=0, description='Simulating Choices', max=8343, style=ProgressStyle(descriptio…"
      ]
     },
     "metadata": {},
     "output_type": "display_data"
    },
    {
     "name": "stdout",
     "output_type": "stream",
     "text": [
      "\n",
      "Estimating the choice model...\n",
      "Log-likelihood at zero: -15,848.6245\n",
      "Initial Log-likelihood: -15,848.6245\n"
     ]
    },
    {
     "name": "stderr",
     "output_type": "stream",
     "text": [
      "/Users/mobouzaghrane/opt/anaconda3/lib/python3.7/site-packages/scipy/optimize/_minimize.py:505: RuntimeWarning: Method BFGS does not use Hessian information (hess).\n",
      "  RuntimeWarning)\n"
     ]
    },
    {
     "name": "stdout",
     "output_type": "stream",
     "text": [
      "Estimation Time for Point Estimation: 0.46 seconds.\n",
      "Final log-likelihood: -5,843.9925\n",
      "Simulation number 68 is complete!\n",
      "==========================================\n",
      "==========================================\n",
      "Simulation number 69 is in progress...\n",
      "Simulation size is 4989\n",
      "------------------------------------------\n",
      "Simulating data...\n",
      "Simulating Availability...\n",
      "Converting data from wide to long...\n",
      "Simulating Choices...\n"
     ]
    },
    {
     "name": "stderr",
     "output_type": "stream",
     "text": [
      "/Users/mobouzaghrane/opt/anaconda3/lib/python3.7/site-packages/pylogit/choice_tools.py:703: FutureWarning: arrays to stack must be passed as a \"sequence\" type such as list or tuple. Support for non-sequence iterables such as generators is deprecated as of NumPy 1.16 and will raise an error in the future.\n",
      "  design_matrix = np.hstack((x[:, None] for x in independent_vars))\n"
     ]
    },
    {
     "data": {
      "application/vnd.jupyter.widget-view+json": {
       "model_id": "e81212bc68a44d3fbdc7f4e5a031a844",
       "version_major": 2,
       "version_minor": 0
      },
      "text/plain": [
       "HBox(children=(IntProgress(value=0, description='Simulating Choices', max=4989, style=ProgressStyle(descriptio…"
      ]
     },
     "metadata": {},
     "output_type": "display_data"
    },
    {
     "name": "stdout",
     "output_type": "stream",
     "text": [
      "\n",
      "Estimating the choice model...\n",
      "Log-likelihood at zero: -9,459.5535\n",
      "Initial Log-likelihood: -9,459.5535\n"
     ]
    },
    {
     "name": "stderr",
     "output_type": "stream",
     "text": [
      "/Users/mobouzaghrane/opt/anaconda3/lib/python3.7/site-packages/scipy/optimize/_minimize.py:505: RuntimeWarning: Method BFGS does not use Hessian information (hess).\n",
      "  RuntimeWarning)\n"
     ]
    },
    {
     "name": "stdout",
     "output_type": "stream",
     "text": [
      "Estimation Time for Point Estimation: 0.21 seconds.\n",
      "Final log-likelihood: -3,550.0492\n",
      "Simulation number 69 is complete!\n",
      "==========================================\n",
      "==========================================\n",
      "Simulation number 70 is in progress...\n",
      "Simulation size is 7860\n",
      "------------------------------------------\n",
      "Simulating data...\n",
      "Simulating Availability...\n",
      "Converting data from wide to long...\n",
      "Simulating Choices...\n"
     ]
    },
    {
     "name": "stderr",
     "output_type": "stream",
     "text": [
      "/Users/mobouzaghrane/opt/anaconda3/lib/python3.7/site-packages/pylogit/choice_tools.py:703: FutureWarning: arrays to stack must be passed as a \"sequence\" type such as list or tuple. Support for non-sequence iterables such as generators is deprecated as of NumPy 1.16 and will raise an error in the future.\n",
      "  design_matrix = np.hstack((x[:, None] for x in independent_vars))\n"
     ]
    },
    {
     "data": {
      "application/vnd.jupyter.widget-view+json": {
       "model_id": "39cb8984edcf435c928c610ae39d8e26",
       "version_major": 2,
       "version_minor": 0
      },
      "text/plain": [
       "HBox(children=(IntProgress(value=0, description='Simulating Choices', max=7860, style=ProgressStyle(descriptio…"
      ]
     },
     "metadata": {},
     "output_type": "display_data"
    },
    {
     "name": "stdout",
     "output_type": "stream",
     "text": [
      "\n",
      "Estimating the choice model...\n",
      "Log-likelihood at zero: -14,929.7907\n",
      "Initial Log-likelihood: -14,929.7907\n"
     ]
    },
    {
     "name": "stderr",
     "output_type": "stream",
     "text": [
      "/Users/mobouzaghrane/opt/anaconda3/lib/python3.7/site-packages/scipy/optimize/_minimize.py:505: RuntimeWarning: Method BFGS does not use Hessian information (hess).\n",
      "  RuntimeWarning)\n"
     ]
    },
    {
     "name": "stdout",
     "output_type": "stream",
     "text": [
      "Estimation Time for Point Estimation: 0.43 seconds.\n",
      "Final log-likelihood: -5,539.8423\n",
      "Simulation number 70 is complete!\n",
      "==========================================\n",
      "==========================================\n",
      "Simulation number 71 is in progress...\n",
      "Simulation size is 7697\n",
      "------------------------------------------\n",
      "Simulating data...\n",
      "Simulating Availability...\n",
      "Converting data from wide to long...\n",
      "Simulating Choices...\n"
     ]
    },
    {
     "name": "stderr",
     "output_type": "stream",
     "text": [
      "/Users/mobouzaghrane/opt/anaconda3/lib/python3.7/site-packages/pylogit/choice_tools.py:703: FutureWarning: arrays to stack must be passed as a \"sequence\" type such as list or tuple. Support for non-sequence iterables such as generators is deprecated as of NumPy 1.16 and will raise an error in the future.\n",
      "  design_matrix = np.hstack((x[:, None] for x in independent_vars))\n"
     ]
    },
    {
     "data": {
      "application/vnd.jupyter.widget-view+json": {
       "model_id": "732ab377ef9f46d68d55da95c48bec7c",
       "version_major": 2,
       "version_minor": 0
      },
      "text/plain": [
       "HBox(children=(IntProgress(value=0, description='Simulating Choices', max=7697, style=ProgressStyle(descriptio…"
      ]
     },
     "metadata": {},
     "output_type": "display_data"
    },
    {
     "name": "stdout",
     "output_type": "stream",
     "text": [
      "\n",
      "Estimating the choice model...\n",
      "Log-likelihood at zero: -14,591.4002\n",
      "Initial Log-likelihood: -14,591.4002\n"
     ]
    },
    {
     "name": "stderr",
     "output_type": "stream",
     "text": [
      "/Users/mobouzaghrane/opt/anaconda3/lib/python3.7/site-packages/scipy/optimize/_minimize.py:505: RuntimeWarning: Method BFGS does not use Hessian information (hess).\n",
      "  RuntimeWarning)\n"
     ]
    },
    {
     "name": "stdout",
     "output_type": "stream",
     "text": [
      "Estimation Time for Point Estimation: 0.42 seconds.\n",
      "Final log-likelihood: -5,466.0816\n",
      "Simulation number 71 is complete!\n",
      "==========================================\n",
      "==========================================\n",
      "Simulation number 72 is in progress...\n",
      "Simulation size is 8176\n",
      "------------------------------------------\n",
      "Simulating data...\n",
      "Simulating Availability...\n",
      "Converting data from wide to long...\n",
      "Simulating Choices...\n"
     ]
    },
    {
     "name": "stderr",
     "output_type": "stream",
     "text": [
      "/Users/mobouzaghrane/opt/anaconda3/lib/python3.7/site-packages/pylogit/choice_tools.py:703: FutureWarning: arrays to stack must be passed as a \"sequence\" type such as list or tuple. Support for non-sequence iterables such as generators is deprecated as of NumPy 1.16 and will raise an error in the future.\n",
      "  design_matrix = np.hstack((x[:, None] for x in independent_vars))\n"
     ]
    },
    {
     "data": {
      "application/vnd.jupyter.widget-view+json": {
       "model_id": "28f25dcc79b649c99121d66f033576fc",
       "version_major": 2,
       "version_minor": 0
      },
      "text/plain": [
       "HBox(children=(IntProgress(value=0, description='Simulating Choices', max=8176, style=ProgressStyle(descriptio…"
      ]
     },
     "metadata": {},
     "output_type": "display_data"
    },
    {
     "name": "stdout",
     "output_type": "stream",
     "text": [
      "\n",
      "Estimating the choice model...\n",
      "Log-likelihood at zero: -15,534.0237\n",
      "Initial Log-likelihood: -15,534.0237\n"
     ]
    },
    {
     "name": "stderr",
     "output_type": "stream",
     "text": [
      "/Users/mobouzaghrane/opt/anaconda3/lib/python3.7/site-packages/scipy/optimize/_minimize.py:505: RuntimeWarning: Method BFGS does not use Hessian information (hess).\n",
      "  RuntimeWarning)\n"
     ]
    },
    {
     "name": "stdout",
     "output_type": "stream",
     "text": [
      "Estimation Time for Point Estimation: 0.45 seconds.\n",
      "Final log-likelihood: -5,672.1080\n",
      "Simulation number 72 is complete!\n",
      "==========================================\n",
      "==========================================\n",
      "Simulation number 73 is in progress...\n",
      "Simulation size is 5072\n",
      "------------------------------------------\n",
      "Simulating data...\n",
      "Simulating Availability...\n",
      "Converting data from wide to long...\n",
      "Simulating Choices...\n"
     ]
    },
    {
     "name": "stderr",
     "output_type": "stream",
     "text": [
      "/Users/mobouzaghrane/opt/anaconda3/lib/python3.7/site-packages/pylogit/choice_tools.py:703: FutureWarning: arrays to stack must be passed as a \"sequence\" type such as list or tuple. Support for non-sequence iterables such as generators is deprecated as of NumPy 1.16 and will raise an error in the future.\n",
      "  design_matrix = np.hstack((x[:, None] for x in independent_vars))\n"
     ]
    },
    {
     "data": {
      "application/vnd.jupyter.widget-view+json": {
       "model_id": "126aa49a9523472eb1574d678064f79b",
       "version_major": 2,
       "version_minor": 0
      },
      "text/plain": [
       "HBox(children=(IntProgress(value=0, description='Simulating Choices', max=5072, style=ProgressStyle(descriptio…"
      ]
     },
     "metadata": {},
     "output_type": "display_data"
    },
    {
     "name": "stdout",
     "output_type": "stream",
     "text": [
      "\n",
      "Estimating the choice model...\n",
      "Log-likelihood at zero: -9,599.0509\n",
      "Initial Log-likelihood: -9,599.0509\n"
     ]
    },
    {
     "name": "stderr",
     "output_type": "stream",
     "text": [
      "/Users/mobouzaghrane/opt/anaconda3/lib/python3.7/site-packages/scipy/optimize/_minimize.py:505: RuntimeWarning: Method BFGS does not use Hessian information (hess).\n",
      "  RuntimeWarning)\n"
     ]
    },
    {
     "name": "stdout",
     "output_type": "stream",
     "text": [
      "Estimation Time for Point Estimation: 0.25 seconds.\n",
      "Final log-likelihood: -3,640.5373\n",
      "Simulation number 73 is complete!\n",
      "==========================================\n",
      "==========================================\n",
      "Simulation number 74 is in progress...\n",
      "Simulation size is 5609\n",
      "------------------------------------------\n",
      "Simulating data...\n",
      "Simulating Availability...\n",
      "Converting data from wide to long...\n",
      "Simulating Choices...\n"
     ]
    },
    {
     "name": "stderr",
     "output_type": "stream",
     "text": [
      "/Users/mobouzaghrane/opt/anaconda3/lib/python3.7/site-packages/pylogit/choice_tools.py:703: FutureWarning: arrays to stack must be passed as a \"sequence\" type such as list or tuple. Support for non-sequence iterables such as generators is deprecated as of NumPy 1.16 and will raise an error in the future.\n",
      "  design_matrix = np.hstack((x[:, None] for x in independent_vars))\n"
     ]
    },
    {
     "data": {
      "application/vnd.jupyter.widget-view+json": {
       "model_id": "4c95d357d6234658901b61a180f7b301",
       "version_major": 2,
       "version_minor": 0
      },
      "text/plain": [
       "HBox(children=(IntProgress(value=0, description='Simulating Choices', max=5609, style=ProgressStyle(descriptio…"
      ]
     },
     "metadata": {},
     "output_type": "display_data"
    },
    {
     "name": "stdout",
     "output_type": "stream",
     "text": [
      "\n",
      "Estimating the choice model...\n",
      "Log-likelihood at zero: -10,636.0533\n",
      "Initial Log-likelihood: -10,636.0533\n"
     ]
    },
    {
     "name": "stderr",
     "output_type": "stream",
     "text": [
      "/Users/mobouzaghrane/opt/anaconda3/lib/python3.7/site-packages/scipy/optimize/_minimize.py:505: RuntimeWarning: Method BFGS does not use Hessian information (hess).\n",
      "  RuntimeWarning)\n"
     ]
    },
    {
     "name": "stdout",
     "output_type": "stream",
     "text": [
      "Estimation Time for Point Estimation: 0.30 seconds.\n",
      "Final log-likelihood: -4,080.3930\n",
      "Simulation number 74 is complete!\n",
      "==========================================\n",
      "==========================================\n",
      "Simulation number 75 is in progress...\n",
      "Simulation size is 5003\n",
      "------------------------------------------\n",
      "Simulating data...\n",
      "Simulating Availability...\n",
      "Converting data from wide to long...\n",
      "Simulating Choices...\n"
     ]
    },
    {
     "name": "stderr",
     "output_type": "stream",
     "text": [
      "/Users/mobouzaghrane/opt/anaconda3/lib/python3.7/site-packages/pylogit/choice_tools.py:703: FutureWarning: arrays to stack must be passed as a \"sequence\" type such as list or tuple. Support for non-sequence iterables such as generators is deprecated as of NumPy 1.16 and will raise an error in the future.\n",
      "  design_matrix = np.hstack((x[:, None] for x in independent_vars))\n"
     ]
    },
    {
     "data": {
      "application/vnd.jupyter.widget-view+json": {
       "model_id": "6ac6130aa7134a329d8fe71cdf3187fb",
       "version_major": 2,
       "version_minor": 0
      },
      "text/plain": [
       "HBox(children=(IntProgress(value=0, description='Simulating Choices', max=5003, style=ProgressStyle(descriptio…"
      ]
     },
     "metadata": {},
     "output_type": "display_data"
    },
    {
     "name": "stdout",
     "output_type": "stream",
     "text": [
      "\n",
      "Estimating the choice model...\n",
      "Log-likelihood at zero: -9,503.3385\n",
      "Initial Log-likelihood: -9,503.3385\n"
     ]
    },
    {
     "name": "stderr",
     "output_type": "stream",
     "text": [
      "/Users/mobouzaghrane/opt/anaconda3/lib/python3.7/site-packages/scipy/optimize/_minimize.py:505: RuntimeWarning: Method BFGS does not use Hessian information (hess).\n",
      "  RuntimeWarning)\n"
     ]
    },
    {
     "name": "stdout",
     "output_type": "stream",
     "text": [
      "Estimation Time for Point Estimation: 0.26 seconds.\n",
      "Final log-likelihood: -3,489.4449\n",
      "Simulation number 75 is complete!\n",
      "==========================================\n",
      "==========================================\n",
      "Simulation number 76 is in progress...\n",
      "Simulation size is 4795\n",
      "------------------------------------------\n",
      "Simulating data...\n",
      "Simulating Availability...\n",
      "Converting data from wide to long...\n",
      "Simulating Choices...\n"
     ]
    },
    {
     "name": "stderr",
     "output_type": "stream",
     "text": [
      "/Users/mobouzaghrane/opt/anaconda3/lib/python3.7/site-packages/pylogit/choice_tools.py:703: FutureWarning: arrays to stack must be passed as a \"sequence\" type such as list or tuple. Support for non-sequence iterables such as generators is deprecated as of NumPy 1.16 and will raise an error in the future.\n",
      "  design_matrix = np.hstack((x[:, None] for x in independent_vars))\n"
     ]
    },
    {
     "data": {
      "application/vnd.jupyter.widget-view+json": {
       "model_id": "bdc6beb9ccd6468ab5f5479f99ef97b2",
       "version_major": 2,
       "version_minor": 0
      },
      "text/plain": [
       "HBox(children=(IntProgress(value=0, description='Simulating Choices', max=4795, style=ProgressStyle(descriptio…"
      ]
     },
     "metadata": {},
     "output_type": "display_data"
    },
    {
     "name": "stdout",
     "output_type": "stream",
     "text": [
      "\n",
      "Estimating the choice model...\n",
      "Log-likelihood at zero: -9,083.1189\n",
      "Initial Log-likelihood: -9,083.1189\n"
     ]
    },
    {
     "name": "stderr",
     "output_type": "stream",
     "text": [
      "/Users/mobouzaghrane/opt/anaconda3/lib/python3.7/site-packages/scipy/optimize/_minimize.py:505: RuntimeWarning: Method BFGS does not use Hessian information (hess).\n",
      "  RuntimeWarning)\n"
     ]
    },
    {
     "name": "stdout",
     "output_type": "stream",
     "text": [
      "Estimation Time for Point Estimation: 0.26 seconds.\n",
      "Final log-likelihood: -3,250.6149\n",
      "Simulation number 76 is complete!\n",
      "==========================================\n",
      "==========================================\n",
      "Simulation number 77 is in progress...\n",
      "Simulation size is 8595\n",
      "------------------------------------------\n",
      "Simulating data...\n",
      "Simulating Availability...\n",
      "Converting data from wide to long...\n",
      "Simulating Choices...\n"
     ]
    },
    {
     "name": "stderr",
     "output_type": "stream",
     "text": [
      "/Users/mobouzaghrane/opt/anaconda3/lib/python3.7/site-packages/pylogit/choice_tools.py:703: FutureWarning: arrays to stack must be passed as a \"sequence\" type such as list or tuple. Support for non-sequence iterables such as generators is deprecated as of NumPy 1.16 and will raise an error in the future.\n",
      "  design_matrix = np.hstack((x[:, None] for x in independent_vars))\n"
     ]
    },
    {
     "data": {
      "application/vnd.jupyter.widget-view+json": {
       "model_id": "68da7da43598426c87066d6e54e1294f",
       "version_major": 2,
       "version_minor": 0
      },
      "text/plain": [
       "HBox(children=(IntProgress(value=0, description='Simulating Choices', max=8595, style=ProgressStyle(descriptio…"
      ]
     },
     "metadata": {},
     "output_type": "display_data"
    },
    {
     "name": "stdout",
     "output_type": "stream",
     "text": [
      "\n",
      "Estimating the choice model...\n",
      "Log-likelihood at zero: -16,326.1384\n",
      "Initial Log-likelihood: -16,326.1384\n"
     ]
    },
    {
     "name": "stderr",
     "output_type": "stream",
     "text": [
      "/Users/mobouzaghrane/opt/anaconda3/lib/python3.7/site-packages/scipy/optimize/_minimize.py:505: RuntimeWarning: Method BFGS does not use Hessian information (hess).\n",
      "  RuntimeWarning)\n"
     ]
    },
    {
     "name": "stdout",
     "output_type": "stream",
     "text": [
      "Estimation Time for Point Estimation: 0.45 seconds.\n",
      "Final log-likelihood: -6,129.8163\n",
      "Simulation number 77 is complete!\n",
      "==========================================\n",
      "==========================================\n",
      "Simulation number 78 is in progress...\n",
      "Simulation size is 6049\n",
      "------------------------------------------\n",
      "Simulating data...\n",
      "Simulating Availability...\n",
      "Converting data from wide to long...\n",
      "Simulating Choices...\n"
     ]
    },
    {
     "name": "stderr",
     "output_type": "stream",
     "text": [
      "/Users/mobouzaghrane/opt/anaconda3/lib/python3.7/site-packages/pylogit/choice_tools.py:703: FutureWarning: arrays to stack must be passed as a \"sequence\" type such as list or tuple. Support for non-sequence iterables such as generators is deprecated as of NumPy 1.16 and will raise an error in the future.\n",
      "  design_matrix = np.hstack((x[:, None] for x in independent_vars))\n"
     ]
    },
    {
     "data": {
      "application/vnd.jupyter.widget-view+json": {
       "model_id": "e16007a51f5141719d97d3c5a63ecf43",
       "version_major": 2,
       "version_minor": 0
      },
      "text/plain": [
       "HBox(children=(IntProgress(value=0, description='Simulating Choices', max=6049, style=ProgressStyle(descriptio…"
      ]
     },
     "metadata": {},
     "output_type": "display_data"
    },
    {
     "name": "stdout",
     "output_type": "stream",
     "text": [
      "\n",
      "Estimating the choice model...\n",
      "Log-likelihood at zero: -11,490.8533\n",
      "Initial Log-likelihood: -11,490.8533\n"
     ]
    },
    {
     "name": "stderr",
     "output_type": "stream",
     "text": [
      "/Users/mobouzaghrane/opt/anaconda3/lib/python3.7/site-packages/scipy/optimize/_minimize.py:505: RuntimeWarning: Method BFGS does not use Hessian information (hess).\n",
      "  RuntimeWarning)\n"
     ]
    },
    {
     "name": "stdout",
     "output_type": "stream",
     "text": [
      "Estimation Time for Point Estimation: 0.35 seconds.\n",
      "Final log-likelihood: -4,218.8055\n",
      "Simulation number 78 is complete!\n",
      "==========================================\n",
      "==========================================\n",
      "Simulation number 79 is in progress...\n",
      "Simulation size is 7699\n",
      "------------------------------------------\n",
      "Simulating data...\n",
      "Simulating Availability...\n",
      "Converting data from wide to long...\n",
      "Simulating Choices...\n"
     ]
    },
    {
     "name": "stderr",
     "output_type": "stream",
     "text": [
      "/Users/mobouzaghrane/opt/anaconda3/lib/python3.7/site-packages/pylogit/choice_tools.py:703: FutureWarning: arrays to stack must be passed as a \"sequence\" type such as list or tuple. Support for non-sequence iterables such as generators is deprecated as of NumPy 1.16 and will raise an error in the future.\n",
      "  design_matrix = np.hstack((x[:, None] for x in independent_vars))\n"
     ]
    },
    {
     "data": {
      "application/vnd.jupyter.widget-view+json": {
       "model_id": "ca798779eb1c4faf9e273d7953f0c6b4",
       "version_major": 2,
       "version_minor": 0
      },
      "text/plain": [
       "HBox(children=(IntProgress(value=0, description='Simulating Choices', max=7699, style=ProgressStyle(descriptio…"
      ]
     },
     "metadata": {},
     "output_type": "display_data"
    },
    {
     "name": "stdout",
     "output_type": "stream",
     "text": [
      "\n",
      "Estimating the choice model...\n",
      "Log-likelihood at zero: -14,615.4301\n",
      "Initial Log-likelihood: -14,615.4301\n"
     ]
    },
    {
     "name": "stderr",
     "output_type": "stream",
     "text": [
      "/Users/mobouzaghrane/opt/anaconda3/lib/python3.7/site-packages/scipy/optimize/_minimize.py:505: RuntimeWarning: Method BFGS does not use Hessian information (hess).\n",
      "  RuntimeWarning)\n"
     ]
    },
    {
     "name": "stdout",
     "output_type": "stream",
     "text": [
      "Estimation Time for Point Estimation: 0.42 seconds.\n",
      "Final log-likelihood: -5,438.9706\n",
      "Simulation number 79 is complete!\n",
      "==========================================\n",
      "==========================================\n",
      "Simulation number 80 is in progress...\n",
      "Simulation size is 4607\n",
      "------------------------------------------\n",
      "Simulating data...\n",
      "Simulating Availability...\n",
      "Converting data from wide to long...\n",
      "Simulating Choices...\n"
     ]
    },
    {
     "name": "stderr",
     "output_type": "stream",
     "text": [
      "/Users/mobouzaghrane/opt/anaconda3/lib/python3.7/site-packages/pylogit/choice_tools.py:703: FutureWarning: arrays to stack must be passed as a \"sequence\" type such as list or tuple. Support for non-sequence iterables such as generators is deprecated as of NumPy 1.16 and will raise an error in the future.\n",
      "  design_matrix = np.hstack((x[:, None] for x in independent_vars))\n"
     ]
    },
    {
     "data": {
      "application/vnd.jupyter.widget-view+json": {
       "model_id": "ebf963c1ef2e44c68aa9c2570bea7d27",
       "version_major": 2,
       "version_minor": 0
      },
      "text/plain": [
       "HBox(children=(IntProgress(value=0, description='Simulating Choices', max=4607, style=ProgressStyle(descriptio…"
      ]
     },
     "metadata": {},
     "output_type": "display_data"
    },
    {
     "name": "stdout",
     "output_type": "stream",
     "text": [
      "\n",
      "Estimating the choice model...\n",
      "Log-likelihood at zero: -8,773.1567\n",
      "Initial Log-likelihood: -8,773.1567\n"
     ]
    },
    {
     "name": "stderr",
     "output_type": "stream",
     "text": [
      "/Users/mobouzaghrane/opt/anaconda3/lib/python3.7/site-packages/scipy/optimize/_minimize.py:505: RuntimeWarning: Method BFGS does not use Hessian information (hess).\n",
      "  RuntimeWarning)\n"
     ]
    },
    {
     "name": "stdout",
     "output_type": "stream",
     "text": [
      "Estimation Time for Point Estimation: 0.23 seconds.\n",
      "Final log-likelihood: -3,239.7997\n",
      "Simulation number 80 is complete!\n",
      "==========================================\n",
      "==========================================\n",
      "Simulation number 81 is in progress...\n",
      "Simulation size is 7166\n",
      "------------------------------------------\n",
      "Simulating data...\n",
      "Simulating Availability...\n",
      "Converting data from wide to long...\n",
      "Simulating Choices...\n"
     ]
    },
    {
     "name": "stderr",
     "output_type": "stream",
     "text": [
      "/Users/mobouzaghrane/opt/anaconda3/lib/python3.7/site-packages/pylogit/choice_tools.py:703: FutureWarning: arrays to stack must be passed as a \"sequence\" type such as list or tuple. Support for non-sequence iterables such as generators is deprecated as of NumPy 1.16 and will raise an error in the future.\n",
      "  design_matrix = np.hstack((x[:, None] for x in independent_vars))\n"
     ]
    },
    {
     "data": {
      "application/vnd.jupyter.widget-view+json": {
       "model_id": "828e1ad90ac244dba1a83e7d7a4c2752",
       "version_major": 2,
       "version_minor": 0
      },
      "text/plain": [
       "HBox(children=(IntProgress(value=0, description='Simulating Choices', max=7166, style=ProgressStyle(descriptio…"
      ]
     },
     "metadata": {},
     "output_type": "display_data"
    },
    {
     "name": "stdout",
     "output_type": "stream",
     "text": [
      "\n",
      "Estimating the choice model...\n",
      "Log-likelihood at zero: -13,613.8674\n",
      "Initial Log-likelihood: -13,613.8674\n"
     ]
    },
    {
     "name": "stderr",
     "output_type": "stream",
     "text": [
      "/Users/mobouzaghrane/opt/anaconda3/lib/python3.7/site-packages/scipy/optimize/_minimize.py:505: RuntimeWarning: Method BFGS does not use Hessian information (hess).\n",
      "  RuntimeWarning)\n"
     ]
    },
    {
     "name": "stdout",
     "output_type": "stream",
     "text": [
      "Estimation Time for Point Estimation: 0.65 seconds.\n",
      "Final log-likelihood: -5,052.3428\n",
      "Simulation number 81 is complete!\n",
      "==========================================\n",
      "==========================================\n",
      "Simulation number 82 is in progress...\n",
      "Simulation size is 3057\n",
      "------------------------------------------\n",
      "Simulating data...\n",
      "Simulating Availability...\n",
      "Converting data from wide to long...\n",
      "Simulating Choices...\n"
     ]
    },
    {
     "name": "stderr",
     "output_type": "stream",
     "text": [
      "/Users/mobouzaghrane/opt/anaconda3/lib/python3.7/site-packages/pylogit/choice_tools.py:703: FutureWarning: arrays to stack must be passed as a \"sequence\" type such as list or tuple. Support for non-sequence iterables such as generators is deprecated as of NumPy 1.16 and will raise an error in the future.\n",
      "  design_matrix = np.hstack((x[:, None] for x in independent_vars))\n"
     ]
    },
    {
     "data": {
      "application/vnd.jupyter.widget-view+json": {
       "model_id": "b5bdf9412cf54462bee8b49092f44f36",
       "version_major": 2,
       "version_minor": 0
      },
      "text/plain": [
       "HBox(children=(IntProgress(value=0, description='Simulating Choices', max=3057, style=ProgressStyle(descriptio…"
      ]
     },
     "metadata": {},
     "output_type": "display_data"
    },
    {
     "name": "stdout",
     "output_type": "stream",
     "text": [
      "\n",
      "Estimating the choice model...\n",
      "Log-likelihood at zero: -5,794.3582\n",
      "Initial Log-likelihood: -5,794.3582\n",
      "Estimation Time for Point Estimation: 0.15 seconds.\n",
      "Final log-likelihood: -2,137.6955\n"
     ]
    },
    {
     "name": "stderr",
     "output_type": "stream",
     "text": [
      "/Users/mobouzaghrane/opt/anaconda3/lib/python3.7/site-packages/scipy/optimize/_minimize.py:505: RuntimeWarning: Method BFGS does not use Hessian information (hess).\n",
      "  RuntimeWarning)\n"
     ]
    },
    {
     "name": "stdout",
     "output_type": "stream",
     "text": [
      "Simulation number 82 is complete!\n",
      "==========================================\n",
      "==========================================\n",
      "Simulation number 83 is in progress...\n",
      "Simulation size is 3184\n",
      "------------------------------------------\n",
      "Simulating data...\n",
      "Simulating Availability...\n",
      "Converting data from wide to long...\n",
      "Simulating Choices...\n"
     ]
    },
    {
     "name": "stderr",
     "output_type": "stream",
     "text": [
      "/Users/mobouzaghrane/opt/anaconda3/lib/python3.7/site-packages/pylogit/choice_tools.py:703: FutureWarning: arrays to stack must be passed as a \"sequence\" type such as list or tuple. Support for non-sequence iterables such as generators is deprecated as of NumPy 1.16 and will raise an error in the future.\n",
      "  design_matrix = np.hstack((x[:, None] for x in independent_vars))\n"
     ]
    },
    {
     "data": {
      "application/vnd.jupyter.widget-view+json": {
       "model_id": "ce91d67d97444604aeb1f441ac8d6758",
       "version_major": 2,
       "version_minor": 0
      },
      "text/plain": [
       "HBox(children=(IntProgress(value=0, description='Simulating Choices', max=3184, style=ProgressStyle(descriptio…"
      ]
     },
     "metadata": {},
     "output_type": "display_data"
    },
    {
     "name": "stdout",
     "output_type": "stream",
     "text": [
      "\n",
      "Estimating the choice model...\n",
      "Log-likelihood at zero: -6,041.6740\n",
      "Initial Log-likelihood: -6,041.6740\n",
      "Estimation Time for Point Estimation: 0.18 seconds.\n",
      "Final log-likelihood: -2,180.3373\n"
     ]
    },
    {
     "name": "stderr",
     "output_type": "stream",
     "text": [
      "/Users/mobouzaghrane/opt/anaconda3/lib/python3.7/site-packages/scipy/optimize/_minimize.py:505: RuntimeWarning: Method BFGS does not use Hessian information (hess).\n",
      "  RuntimeWarning)\n"
     ]
    },
    {
     "name": "stdout",
     "output_type": "stream",
     "text": [
      "Simulation number 83 is complete!\n",
      "==========================================\n",
      "==========================================\n",
      "Simulation number 84 is in progress...\n",
      "Simulation size is 6654\n",
      "------------------------------------------\n",
      "Simulating data...\n",
      "Simulating Availability...\n",
      "Converting data from wide to long...\n",
      "Simulating Choices...\n"
     ]
    },
    {
     "name": "stderr",
     "output_type": "stream",
     "text": [
      "/Users/mobouzaghrane/opt/anaconda3/lib/python3.7/site-packages/pylogit/choice_tools.py:703: FutureWarning: arrays to stack must be passed as a \"sequence\" type such as list or tuple. Support for non-sequence iterables such as generators is deprecated as of NumPy 1.16 and will raise an error in the future.\n",
      "  design_matrix = np.hstack((x[:, None] for x in independent_vars))\n"
     ]
    },
    {
     "data": {
      "application/vnd.jupyter.widget-view+json": {
       "model_id": "7951ec6a8f2f415ca5c763ae8a3efaba",
       "version_major": 2,
       "version_minor": 0
      },
      "text/plain": [
       "HBox(children=(IntProgress(value=0, description='Simulating Choices', max=6654, style=ProgressStyle(descriptio…"
      ]
     },
     "metadata": {},
     "output_type": "display_data"
    },
    {
     "name": "stdout",
     "output_type": "stream",
     "text": [
      "\n",
      "Estimating the choice model...\n",
      "Log-likelihood at zero: -12,605.5073\n",
      "Initial Log-likelihood: -12,605.5073\n"
     ]
    },
    {
     "name": "stderr",
     "output_type": "stream",
     "text": [
      "/Users/mobouzaghrane/opt/anaconda3/lib/python3.7/site-packages/scipy/optimize/_minimize.py:505: RuntimeWarning: Method BFGS does not use Hessian information (hess).\n",
      "  RuntimeWarning)\n"
     ]
    },
    {
     "name": "stdout",
     "output_type": "stream",
     "text": [
      "Estimation Time for Point Estimation: 0.39 seconds.\n",
      "Final log-likelihood: -4,651.3809\n",
      "Simulation number 84 is complete!\n",
      "==========================================\n",
      "==========================================\n",
      "Simulation number 85 is in progress...\n",
      "Simulation size is 8479\n",
      "------------------------------------------\n",
      "Simulating data...\n",
      "Simulating Availability...\n",
      "Converting data from wide to long...\n",
      "Simulating Choices...\n"
     ]
    },
    {
     "name": "stderr",
     "output_type": "stream",
     "text": [
      "/Users/mobouzaghrane/opt/anaconda3/lib/python3.7/site-packages/pylogit/choice_tools.py:703: FutureWarning: arrays to stack must be passed as a \"sequence\" type such as list or tuple. Support for non-sequence iterables such as generators is deprecated as of NumPy 1.16 and will raise an error in the future.\n",
      "  design_matrix = np.hstack((x[:, None] for x in independent_vars))\n"
     ]
    },
    {
     "data": {
      "application/vnd.jupyter.widget-view+json": {
       "model_id": "a64fccc958b54987a6444ae5ab56be9e",
       "version_major": 2,
       "version_minor": 0
      },
      "text/plain": [
       "HBox(children=(IntProgress(value=0, description='Simulating Choices', max=8479, style=ProgressStyle(descriptio…"
      ]
     },
     "metadata": {},
     "output_type": "display_data"
    },
    {
     "name": "stdout",
     "output_type": "stream",
     "text": [
      "\n",
      "Estimating the choice model...\n",
      "Log-likelihood at zero: -16,090.8034\n",
      "Initial Log-likelihood: -16,090.8034\n"
     ]
    },
    {
     "name": "stderr",
     "output_type": "stream",
     "text": [
      "/Users/mobouzaghrane/opt/anaconda3/lib/python3.7/site-packages/scipy/optimize/_minimize.py:505: RuntimeWarning: Method BFGS does not use Hessian information (hess).\n",
      "  RuntimeWarning)\n"
     ]
    },
    {
     "name": "stdout",
     "output_type": "stream",
     "text": [
      "Estimation Time for Point Estimation: 0.43 seconds.\n",
      "Final log-likelihood: -6,172.8324\n",
      "Simulation number 85 is complete!\n",
      "==========================================\n",
      "==========================================\n",
      "Simulation number 86 is in progress...\n",
      "Simulation size is 3040\n",
      "------------------------------------------\n",
      "Simulating data...\n",
      "Simulating Availability...\n",
      "Converting data from wide to long...\n",
      "Simulating Choices...\n"
     ]
    },
    {
     "name": "stderr",
     "output_type": "stream",
     "text": [
      "/Users/mobouzaghrane/opt/anaconda3/lib/python3.7/site-packages/pylogit/choice_tools.py:703: FutureWarning: arrays to stack must be passed as a \"sequence\" type such as list or tuple. Support for non-sequence iterables such as generators is deprecated as of NumPy 1.16 and will raise an error in the future.\n",
      "  design_matrix = np.hstack((x[:, None] for x in independent_vars))\n"
     ]
    },
    {
     "data": {
      "application/vnd.jupyter.widget-view+json": {
       "model_id": "c881c6913d924d8a84a981e44871d852",
       "version_major": 2,
       "version_minor": 0
      },
      "text/plain": [
       "HBox(children=(IntProgress(value=0, description='Simulating Choices', max=3040, style=ProgressStyle(descriptio…"
      ]
     },
     "metadata": {},
     "output_type": "display_data"
    },
    {
     "name": "stdout",
     "output_type": "stream",
     "text": [
      "\n",
      "Estimating the choice model...\n",
      "Log-likelihood at zero: -5,775.3438\n",
      "Initial Log-likelihood: -5,775.3438\n",
      "Estimation Time for Point Estimation: 0.17 seconds.\n",
      "Final log-likelihood: -2,166.8452\n"
     ]
    },
    {
     "name": "stderr",
     "output_type": "stream",
     "text": [
      "/Users/mobouzaghrane/opt/anaconda3/lib/python3.7/site-packages/scipy/optimize/_minimize.py:505: RuntimeWarning: Method BFGS does not use Hessian information (hess).\n",
      "  RuntimeWarning)\n"
     ]
    },
    {
     "name": "stdout",
     "output_type": "stream",
     "text": [
      "Simulation number 86 is complete!\n",
      "==========================================\n",
      "==========================================\n",
      "Simulation number 87 is in progress...\n",
      "Simulation size is 4505\n",
      "------------------------------------------\n",
      "Simulating data...\n",
      "Simulating Availability...\n",
      "Converting data from wide to long...\n",
      "Simulating Choices...\n"
     ]
    },
    {
     "name": "stderr",
     "output_type": "stream",
     "text": [
      "/Users/mobouzaghrane/opt/anaconda3/lib/python3.7/site-packages/pylogit/choice_tools.py:703: FutureWarning: arrays to stack must be passed as a \"sequence\" type such as list or tuple. Support for non-sequence iterables such as generators is deprecated as of NumPy 1.16 and will raise an error in the future.\n",
      "  design_matrix = np.hstack((x[:, None] for x in independent_vars))\n"
     ]
    },
    {
     "data": {
      "application/vnd.jupyter.widget-view+json": {
       "model_id": "948eebadc3834894ab1ac489646d3ce8",
       "version_major": 2,
       "version_minor": 0
      },
      "text/plain": [
       "HBox(children=(IntProgress(value=0, description='Simulating Choices', max=4505, style=ProgressStyle(descriptio…"
      ]
     },
     "metadata": {},
     "output_type": "display_data"
    },
    {
     "name": "stdout",
     "output_type": "stream",
     "text": [
      "\n",
      "Estimating the choice model...\n",
      "Log-likelihood at zero: -8,547.2955\n",
      "Initial Log-likelihood: -8,547.2955\n"
     ]
    },
    {
     "name": "stderr",
     "output_type": "stream",
     "text": [
      "/Users/mobouzaghrane/opt/anaconda3/lib/python3.7/site-packages/scipy/optimize/_minimize.py:505: RuntimeWarning: Method BFGS does not use Hessian information (hess).\n",
      "  RuntimeWarning)\n"
     ]
    },
    {
     "name": "stdout",
     "output_type": "stream",
     "text": [
      "Estimation Time for Point Estimation: 0.22 seconds.\n",
      "Final log-likelihood: -3,202.9100\n",
      "Simulation number 87 is complete!\n",
      "==========================================\n",
      "==========================================\n",
      "Simulation number 88 is in progress...\n",
      "Simulation size is 5699\n",
      "------------------------------------------\n",
      "Simulating data...\n",
      "Simulating Availability...\n",
      "Converting data from wide to long...\n",
      "Simulating Choices...\n"
     ]
    },
    {
     "name": "stderr",
     "output_type": "stream",
     "text": [
      "/Users/mobouzaghrane/opt/anaconda3/lib/python3.7/site-packages/pylogit/choice_tools.py:703: FutureWarning: arrays to stack must be passed as a \"sequence\" type such as list or tuple. Support for non-sequence iterables such as generators is deprecated as of NumPy 1.16 and will raise an error in the future.\n",
      "  design_matrix = np.hstack((x[:, None] for x in independent_vars))\n"
     ]
    },
    {
     "data": {
      "application/vnd.jupyter.widget-view+json": {
       "model_id": "8ae5f2a047ad4a4caa454804599d69f7",
       "version_major": 2,
       "version_minor": 0
      },
      "text/plain": [
       "HBox(children=(IntProgress(value=0, description='Simulating Choices', max=5699, style=ProgressStyle(descriptio…"
      ]
     },
     "metadata": {},
     "output_type": "display_data"
    },
    {
     "name": "stdout",
     "output_type": "stream",
     "text": [
      "\n",
      "Estimating the choice model...\n",
      "Log-likelihood at zero: -10,809.5361\n",
      "Initial Log-likelihood: -10,809.5361\n"
     ]
    },
    {
     "name": "stderr",
     "output_type": "stream",
     "text": [
      "/Users/mobouzaghrane/opt/anaconda3/lib/python3.7/site-packages/scipy/optimize/_minimize.py:505: RuntimeWarning: Method BFGS does not use Hessian information (hess).\n",
      "  RuntimeWarning)\n"
     ]
    },
    {
     "name": "stdout",
     "output_type": "stream",
     "text": [
      "Estimation Time for Point Estimation: 0.39 seconds.\n",
      "Final log-likelihood: -3,925.8091\n",
      "Simulation number 88 is complete!\n",
      "==========================================\n",
      "==========================================\n",
      "Simulation number 89 is in progress...\n",
      "Simulation size is 4163\n",
      "------------------------------------------\n",
      "Simulating data...\n",
      "Simulating Availability...\n",
      "Converting data from wide to long...\n",
      "Simulating Choices...\n"
     ]
    },
    {
     "name": "stderr",
     "output_type": "stream",
     "text": [
      "/Users/mobouzaghrane/opt/anaconda3/lib/python3.7/site-packages/pylogit/choice_tools.py:703: FutureWarning: arrays to stack must be passed as a \"sequence\" type such as list or tuple. Support for non-sequence iterables such as generators is deprecated as of NumPy 1.16 and will raise an error in the future.\n",
      "  design_matrix = np.hstack((x[:, None] for x in independent_vars))\n"
     ]
    },
    {
     "data": {
      "application/vnd.jupyter.widget-view+json": {
       "model_id": "5d252a2c351f4fc9a1f2400bef0a347b",
       "version_major": 2,
       "version_minor": 0
      },
      "text/plain": [
       "HBox(children=(IntProgress(value=0, description='Simulating Choices', max=4163, style=ProgressStyle(descriptio…"
      ]
     },
     "metadata": {},
     "output_type": "display_data"
    },
    {
     "name": "stdout",
     "output_type": "stream",
     "text": [
      "\n",
      "Estimating the choice model...\n",
      "Log-likelihood at zero: -7,895.6211\n",
      "Initial Log-likelihood: -7,895.6211\n"
     ]
    },
    {
     "name": "stderr",
     "output_type": "stream",
     "text": [
      "/Users/mobouzaghrane/opt/anaconda3/lib/python3.7/site-packages/scipy/optimize/_minimize.py:505: RuntimeWarning: Method BFGS does not use Hessian information (hess).\n",
      "  RuntimeWarning)\n"
     ]
    },
    {
     "name": "stdout",
     "output_type": "stream",
     "text": [
      "Estimation Time for Point Estimation: 0.21 seconds.\n",
      "Final log-likelihood: -3,039.1579\n",
      "Simulation number 89 is complete!\n",
      "==========================================\n",
      "==========================================\n",
      "Simulation number 90 is in progress...\n",
      "Simulation size is 8141\n",
      "------------------------------------------\n",
      "Simulating data...\n",
      "Simulating Availability...\n",
      "Converting data from wide to long...\n",
      "Simulating Choices...\n"
     ]
    },
    {
     "name": "stderr",
     "output_type": "stream",
     "text": [
      "/Users/mobouzaghrane/opt/anaconda3/lib/python3.7/site-packages/pylogit/choice_tools.py:703: FutureWarning: arrays to stack must be passed as a \"sequence\" type such as list or tuple. Support for non-sequence iterables such as generators is deprecated as of NumPy 1.16 and will raise an error in the future.\n",
      "  design_matrix = np.hstack((x[:, None] for x in independent_vars))\n"
     ]
    },
    {
     "data": {
      "application/vnd.jupyter.widget-view+json": {
       "model_id": "5f40dca877124e1da63bfce0cbf2c97e",
       "version_major": 2,
       "version_minor": 0
      },
      "text/plain": [
       "HBox(children=(IntProgress(value=0, description='Simulating Choices', max=8141, style=ProgressStyle(descriptio…"
      ]
     },
     "metadata": {},
     "output_type": "display_data"
    },
    {
     "name": "stdout",
     "output_type": "stream",
     "text": [
      "\n",
      "Estimating the choice model...\n",
      "Log-likelihood at zero: -15,452.5757\n",
      "Initial Log-likelihood: -15,452.5757\n"
     ]
    },
    {
     "name": "stderr",
     "output_type": "stream",
     "text": [
      "/Users/mobouzaghrane/opt/anaconda3/lib/python3.7/site-packages/scipy/optimize/_minimize.py:505: RuntimeWarning: Method BFGS does not use Hessian information (hess).\n",
      "  RuntimeWarning)\n"
     ]
    },
    {
     "name": "stdout",
     "output_type": "stream",
     "text": [
      "Estimation Time for Point Estimation: 0.42 seconds.\n",
      "Final log-likelihood: -5,806.4731\n",
      "Simulation number 90 is complete!\n",
      "==========================================\n",
      "==========================================\n",
      "Simulation number 91 is in progress...\n",
      "Simulation size is 5758\n",
      "------------------------------------------\n",
      "Simulating data...\n",
      "Simulating Availability...\n",
      "Converting data from wide to long...\n",
      "Simulating Choices...\n"
     ]
    },
    {
     "name": "stderr",
     "output_type": "stream",
     "text": [
      "/Users/mobouzaghrane/opt/anaconda3/lib/python3.7/site-packages/pylogit/choice_tools.py:703: FutureWarning: arrays to stack must be passed as a \"sequence\" type such as list or tuple. Support for non-sequence iterables such as generators is deprecated as of NumPy 1.16 and will raise an error in the future.\n",
      "  design_matrix = np.hstack((x[:, None] for x in independent_vars))\n"
     ]
    },
    {
     "data": {
      "application/vnd.jupyter.widget-view+json": {
       "model_id": "cf1c357bbb924e4f842b48b28b01eec4",
       "version_major": 2,
       "version_minor": 0
      },
      "text/plain": [
       "HBox(children=(IntProgress(value=0, description='Simulating Choices', max=5758, style=ProgressStyle(descriptio…"
      ]
     },
     "metadata": {},
     "output_type": "display_data"
    },
    {
     "name": "stdout",
     "output_type": "stream",
     "text": [
      "\n",
      "Estimating the choice model...\n",
      "Log-likelihood at zero: -10,932.6647\n",
      "Initial Log-likelihood: -10,932.6647\n"
     ]
    },
    {
     "name": "stderr",
     "output_type": "stream",
     "text": [
      "/Users/mobouzaghrane/opt/anaconda3/lib/python3.7/site-packages/scipy/optimize/_minimize.py:505: RuntimeWarning: Method BFGS does not use Hessian information (hess).\n",
      "  RuntimeWarning)\n"
     ]
    },
    {
     "name": "stdout",
     "output_type": "stream",
     "text": [
      "Estimation Time for Point Estimation: 0.27 seconds.\n",
      "Final log-likelihood: -4,130.6026\n",
      "Simulation number 91 is complete!\n",
      "==========================================\n",
      "==========================================\n",
      "Simulation number 92 is in progress...\n",
      "Simulation size is 5140\n",
      "------------------------------------------\n",
      "Simulating data...\n",
      "Simulating Availability...\n",
      "Converting data from wide to long...\n",
      "Simulating Choices...\n"
     ]
    },
    {
     "name": "stderr",
     "output_type": "stream",
     "text": [
      "/Users/mobouzaghrane/opt/anaconda3/lib/python3.7/site-packages/pylogit/choice_tools.py:703: FutureWarning: arrays to stack must be passed as a \"sequence\" type such as list or tuple. Support for non-sequence iterables such as generators is deprecated as of NumPy 1.16 and will raise an error in the future.\n",
      "  design_matrix = np.hstack((x[:, None] for x in independent_vars))\n"
     ]
    },
    {
     "data": {
      "application/vnd.jupyter.widget-view+json": {
       "model_id": "7279eb9672384d35a5379f2265516843",
       "version_major": 2,
       "version_minor": 0
      },
      "text/plain": [
       "HBox(children=(IntProgress(value=0, description='Simulating Choices', max=5140, style=ProgressStyle(descriptio…"
      ]
     },
     "metadata": {},
     "output_type": "display_data"
    },
    {
     "name": "stdout",
     "output_type": "stream",
     "text": [
      "\n",
      "Estimating the choice model...\n",
      "Log-likelihood at zero: -9,756.2516\n",
      "Initial Log-likelihood: -9,756.2516\n"
     ]
    },
    {
     "name": "stderr",
     "output_type": "stream",
     "text": [
      "/Users/mobouzaghrane/opt/anaconda3/lib/python3.7/site-packages/scipy/optimize/_minimize.py:505: RuntimeWarning: Method BFGS does not use Hessian information (hess).\n",
      "  RuntimeWarning)\n"
     ]
    },
    {
     "name": "stdout",
     "output_type": "stream",
     "text": [
      "Estimation Time for Point Estimation: 0.28 seconds.\n",
      "Final log-likelihood: -3,571.7948\n",
      "Simulation number 92 is complete!\n",
      "==========================================\n",
      "==========================================\n",
      "Simulation number 93 is in progress...\n",
      "Simulation size is 7267\n",
      "------------------------------------------\n",
      "Simulating data...\n",
      "Simulating Availability...\n",
      "Converting data from wide to long...\n",
      "Simulating Choices...\n"
     ]
    },
    {
     "name": "stderr",
     "output_type": "stream",
     "text": [
      "/Users/mobouzaghrane/opt/anaconda3/lib/python3.7/site-packages/pylogit/choice_tools.py:703: FutureWarning: arrays to stack must be passed as a \"sequence\" type such as list or tuple. Support for non-sequence iterables such as generators is deprecated as of NumPy 1.16 and will raise an error in the future.\n",
      "  design_matrix = np.hstack((x[:, None] for x in independent_vars))\n"
     ]
    },
    {
     "data": {
      "application/vnd.jupyter.widget-view+json": {
       "model_id": "06f4a19073be415b9b501f362af99689",
       "version_major": 2,
       "version_minor": 0
      },
      "text/plain": [
       "HBox(children=(IntProgress(value=0, description='Simulating Choices', max=7267, style=ProgressStyle(descriptio…"
      ]
     },
     "metadata": {},
     "output_type": "display_data"
    },
    {
     "name": "stdout",
     "output_type": "stream",
     "text": [
      "\n",
      "Estimating the choice model...\n",
      "Log-likelihood at zero: -13,803.5449\n",
      "Initial Log-likelihood: -13,803.5449\n"
     ]
    },
    {
     "name": "stderr",
     "output_type": "stream",
     "text": [
      "/Users/mobouzaghrane/opt/anaconda3/lib/python3.7/site-packages/scipy/optimize/_minimize.py:505: RuntimeWarning: Method BFGS does not use Hessian information (hess).\n",
      "  RuntimeWarning)\n"
     ]
    },
    {
     "name": "stdout",
     "output_type": "stream",
     "text": [
      "Estimation Time for Point Estimation: 0.36 seconds.\n",
      "Final log-likelihood: -5,095.9808\n",
      "Simulation number 93 is complete!\n",
      "==========================================\n",
      "==========================================\n",
      "Simulation number 94 is in progress...\n",
      "Simulation size is 4043\n",
      "------------------------------------------\n",
      "Simulating data...\n",
      "Simulating Availability...\n",
      "Converting data from wide to long...\n",
      "Simulating Choices...\n"
     ]
    },
    {
     "name": "stderr",
     "output_type": "stream",
     "text": [
      "/Users/mobouzaghrane/opt/anaconda3/lib/python3.7/site-packages/pylogit/choice_tools.py:703: FutureWarning: arrays to stack must be passed as a \"sequence\" type such as list or tuple. Support for non-sequence iterables such as generators is deprecated as of NumPy 1.16 and will raise an error in the future.\n",
      "  design_matrix = np.hstack((x[:, None] for x in independent_vars))\n"
     ]
    },
    {
     "data": {
      "application/vnd.jupyter.widget-view+json": {
       "model_id": "b41e7c4bb9b64dd9a667eee28aae255a",
       "version_major": 2,
       "version_minor": 0
      },
      "text/plain": [
       "HBox(children=(IntProgress(value=0, description='Simulating Choices', max=4043, style=ProgressStyle(descriptio…"
      ]
     },
     "metadata": {},
     "output_type": "display_data"
    },
    {
     "name": "stdout",
     "output_type": "stream",
     "text": [
      "\n",
      "Estimating the choice model...\n",
      "Log-likelihood at zero: -7,668.1725\n",
      "Initial Log-likelihood: -7,668.1725\n"
     ]
    },
    {
     "name": "stderr",
     "output_type": "stream",
     "text": [
      "/Users/mobouzaghrane/opt/anaconda3/lib/python3.7/site-packages/scipy/optimize/_minimize.py:505: RuntimeWarning: Method BFGS does not use Hessian information (hess).\n",
      "  RuntimeWarning)\n"
     ]
    },
    {
     "name": "stdout",
     "output_type": "stream",
     "text": [
      "Estimation Time for Point Estimation: 0.22 seconds.\n",
      "Final log-likelihood: -2,846.0677\n",
      "Simulation number 94 is complete!\n",
      "==========================================\n",
      "==========================================\n",
      "Simulation number 95 is in progress...\n",
      "Simulation size is 5627\n",
      "------------------------------------------\n",
      "Simulating data...\n",
      "Simulating Availability...\n",
      "Converting data from wide to long...\n",
      "Simulating Choices...\n"
     ]
    },
    {
     "name": "stderr",
     "output_type": "stream",
     "text": [
      "/Users/mobouzaghrane/opt/anaconda3/lib/python3.7/site-packages/pylogit/choice_tools.py:703: FutureWarning: arrays to stack must be passed as a \"sequence\" type such as list or tuple. Support for non-sequence iterables such as generators is deprecated as of NumPy 1.16 and will raise an error in the future.\n",
      "  design_matrix = np.hstack((x[:, None] for x in independent_vars))\n"
     ]
    },
    {
     "data": {
      "application/vnd.jupyter.widget-view+json": {
       "model_id": "f465f3ba7b914ef5ab52d021db745c64",
       "version_major": 2,
       "version_minor": 0
      },
      "text/plain": [
       "HBox(children=(IntProgress(value=0, description='Simulating Choices', max=5627, style=ProgressStyle(descriptio…"
      ]
     },
     "metadata": {},
     "output_type": "display_data"
    },
    {
     "name": "stdout",
     "output_type": "stream",
     "text": [
      "\n",
      "Estimating the choice model...\n",
      "Log-likelihood at zero: -10,687.3140\n",
      "Initial Log-likelihood: -10,687.3140\n"
     ]
    },
    {
     "name": "stderr",
     "output_type": "stream",
     "text": [
      "/Users/mobouzaghrane/opt/anaconda3/lib/python3.7/site-packages/scipy/optimize/_minimize.py:505: RuntimeWarning: Method BFGS does not use Hessian information (hess).\n",
      "  RuntimeWarning)\n"
     ]
    },
    {
     "name": "stdout",
     "output_type": "stream",
     "text": [
      "Estimation Time for Point Estimation: 0.43 seconds.\n",
      "Final log-likelihood: -3,955.9579\n",
      "Simulation number 95 is complete!\n",
      "==========================================\n",
      "==========================================\n",
      "Simulation number 96 is in progress...\n",
      "Simulation size is 5086\n",
      "------------------------------------------\n",
      "Simulating data...\n",
      "Simulating Availability...\n",
      "Converting data from wide to long...\n",
      "Simulating Choices...\n"
     ]
    },
    {
     "name": "stderr",
     "output_type": "stream",
     "text": [
      "/Users/mobouzaghrane/opt/anaconda3/lib/python3.7/site-packages/pylogit/choice_tools.py:703: FutureWarning: arrays to stack must be passed as a \"sequence\" type such as list or tuple. Support for non-sequence iterables such as generators is deprecated as of NumPy 1.16 and will raise an error in the future.\n",
      "  design_matrix = np.hstack((x[:, None] for x in independent_vars))\n"
     ]
    },
    {
     "data": {
      "application/vnd.jupyter.widget-view+json": {
       "model_id": "1cb837239c0947b89e1c48d6d0f64f10",
       "version_major": 2,
       "version_minor": 0
      },
      "text/plain": [
       "HBox(children=(IntProgress(value=0, description='Simulating Choices', max=5086, style=ProgressStyle(descriptio…"
      ]
     },
     "metadata": {},
     "output_type": "display_data"
    },
    {
     "name": "stdout",
     "output_type": "stream",
     "text": [
      "\n",
      "Estimating the choice model...\n",
      "Log-likelihood at zero: -9,675.4081\n",
      "Initial Log-likelihood: -9,675.4081\n"
     ]
    },
    {
     "name": "stderr",
     "output_type": "stream",
     "text": [
      "/Users/mobouzaghrane/opt/anaconda3/lib/python3.7/site-packages/scipy/optimize/_minimize.py:505: RuntimeWarning: Method BFGS does not use Hessian information (hess).\n",
      "  RuntimeWarning)\n"
     ]
    },
    {
     "name": "stdout",
     "output_type": "stream",
     "text": [
      "Estimation Time for Point Estimation: 0.28 seconds.\n",
      "Final log-likelihood: -3,596.7127\n",
      "Simulation number 96 is complete!\n",
      "==========================================\n",
      "==========================================\n",
      "Simulation number 97 is in progress...\n",
      "Simulation size is 4184\n",
      "------------------------------------------\n",
      "Simulating data...\n",
      "Simulating Availability...\n",
      "Converting data from wide to long...\n",
      "Simulating Choices...\n"
     ]
    },
    {
     "name": "stderr",
     "output_type": "stream",
     "text": [
      "/Users/mobouzaghrane/opt/anaconda3/lib/python3.7/site-packages/pylogit/choice_tools.py:703: FutureWarning: arrays to stack must be passed as a \"sequence\" type such as list or tuple. Support for non-sequence iterables such as generators is deprecated as of NumPy 1.16 and will raise an error in the future.\n",
      "  design_matrix = np.hstack((x[:, None] for x in independent_vars))\n"
     ]
    },
    {
     "data": {
      "application/vnd.jupyter.widget-view+json": {
       "model_id": "c96f943a734f497fabe868ff90c6d600",
       "version_major": 2,
       "version_minor": 0
      },
      "text/plain": [
       "HBox(children=(IntProgress(value=0, description='Simulating Choices', max=4184, style=ProgressStyle(descriptio…"
      ]
     },
     "metadata": {},
     "output_type": "display_data"
    },
    {
     "name": "stdout",
     "output_type": "stream",
     "text": [
      "\n",
      "Estimating the choice model...\n",
      "Log-likelihood at zero: -7,941.9757\n",
      "Initial Log-likelihood: -7,941.9757\n"
     ]
    },
    {
     "name": "stderr",
     "output_type": "stream",
     "text": [
      "/Users/mobouzaghrane/opt/anaconda3/lib/python3.7/site-packages/scipy/optimize/_minimize.py:505: RuntimeWarning: Method BFGS does not use Hessian information (hess).\n",
      "  RuntimeWarning)\n"
     ]
    },
    {
     "name": "stdout",
     "output_type": "stream",
     "text": [
      "Estimation Time for Point Estimation: 0.32 seconds.\n",
      "Final log-likelihood: -2,957.8350\n",
      "Simulation number 97 is complete!\n",
      "==========================================\n",
      "==========================================\n",
      "Simulation number 98 is in progress...\n",
      "Simulation size is 3177\n",
      "------------------------------------------\n",
      "Simulating data...\n",
      "Simulating Availability...\n",
      "Converting data from wide to long...\n",
      "Simulating Choices...\n"
     ]
    },
    {
     "name": "stderr",
     "output_type": "stream",
     "text": [
      "/Users/mobouzaghrane/opt/anaconda3/lib/python3.7/site-packages/pylogit/choice_tools.py:703: FutureWarning: arrays to stack must be passed as a \"sequence\" type such as list or tuple. Support for non-sequence iterables such as generators is deprecated as of NumPy 1.16 and will raise an error in the future.\n",
      "  design_matrix = np.hstack((x[:, None] for x in independent_vars))\n"
     ]
    },
    {
     "data": {
      "application/vnd.jupyter.widget-view+json": {
       "model_id": "15fcd5e3029a414ead87e8cee018f063",
       "version_major": 2,
       "version_minor": 0
      },
      "text/plain": [
       "HBox(children=(IntProgress(value=0, description='Simulating Choices', max=3177, style=ProgressStyle(descriptio…"
      ]
     },
     "metadata": {},
     "output_type": "display_data"
    },
    {
     "name": "stdout",
     "output_type": "stream",
     "text": [
      "\n",
      "Estimating the choice model...\n",
      "Log-likelihood at zero: -6,030.6681\n",
      "Initial Log-likelihood: -6,030.6681\n",
      "Estimation Time for Point Estimation: 0.18 seconds.\n",
      "Final log-likelihood: -2,192.8236\n"
     ]
    },
    {
     "name": "stderr",
     "output_type": "stream",
     "text": [
      "/Users/mobouzaghrane/opt/anaconda3/lib/python3.7/site-packages/scipy/optimize/_minimize.py:505: RuntimeWarning: Method BFGS does not use Hessian information (hess).\n",
      "  RuntimeWarning)\n"
     ]
    },
    {
     "name": "stdout",
     "output_type": "stream",
     "text": [
      "Simulation number 98 is complete!\n",
      "==========================================\n",
      "==========================================\n",
      "Simulation number 99 is in progress...\n",
      "Simulation size is 7243\n",
      "------------------------------------------\n",
      "Simulating data...\n",
      "Simulating Availability...\n",
      "Converting data from wide to long...\n",
      "Simulating Choices...\n"
     ]
    },
    {
     "name": "stderr",
     "output_type": "stream",
     "text": [
      "/Users/mobouzaghrane/opt/anaconda3/lib/python3.7/site-packages/pylogit/choice_tools.py:703: FutureWarning: arrays to stack must be passed as a \"sequence\" type such as list or tuple. Support for non-sequence iterables such as generators is deprecated as of NumPy 1.16 and will raise an error in the future.\n",
      "  design_matrix = np.hstack((x[:, None] for x in independent_vars))\n"
     ]
    },
    {
     "data": {
      "application/vnd.jupyter.widget-view+json": {
       "model_id": "b26f46de31e1479485d335e21c76f4a4",
       "version_major": 2,
       "version_minor": 0
      },
      "text/plain": [
       "HBox(children=(IntProgress(value=0, description='Simulating Choices', max=7243, style=ProgressStyle(descriptio…"
      ]
     },
     "metadata": {},
     "output_type": "display_data"
    },
    {
     "name": "stdout",
     "output_type": "stream",
     "text": [
      "\n",
      "Estimating the choice model...\n",
      "Log-likelihood at zero: -13,745.5022\n",
      "Initial Log-likelihood: -13,745.5022\n"
     ]
    },
    {
     "name": "stderr",
     "output_type": "stream",
     "text": [
      "/Users/mobouzaghrane/opt/anaconda3/lib/python3.7/site-packages/scipy/optimize/_minimize.py:505: RuntimeWarning: Method BFGS does not use Hessian information (hess).\n",
      "  RuntimeWarning)\n"
     ]
    },
    {
     "name": "stdout",
     "output_type": "stream",
     "text": [
      "Estimation Time for Point Estimation: 0.39 seconds.\n",
      "Final log-likelihood: -5,116.0796\n",
      "Simulation number 99 is complete!\n",
      "==========================================\n",
      "==========================================\n",
      "Simulation number 100 is in progress...\n",
      "Simulation size is 3293\n",
      "------------------------------------------\n",
      "Simulating data...\n",
      "Simulating Availability...\n",
      "Converting data from wide to long...\n",
      "Simulating Choices...\n"
     ]
    },
    {
     "name": "stderr",
     "output_type": "stream",
     "text": [
      "/Users/mobouzaghrane/opt/anaconda3/lib/python3.7/site-packages/pylogit/choice_tools.py:703: FutureWarning: arrays to stack must be passed as a \"sequence\" type such as list or tuple. Support for non-sequence iterables such as generators is deprecated as of NumPy 1.16 and will raise an error in the future.\n",
      "  design_matrix = np.hstack((x[:, None] for x in independent_vars))\n"
     ]
    },
    {
     "data": {
      "application/vnd.jupyter.widget-view+json": {
       "model_id": "bebffacaa9e544c69a19cbf43051ba12",
       "version_major": 2,
       "version_minor": 0
      },
      "text/plain": [
       "HBox(children=(IntProgress(value=0, description='Simulating Choices', max=3293, style=ProgressStyle(descriptio…"
      ]
     },
     "metadata": {},
     "output_type": "display_data"
    },
    {
     "name": "stdout",
     "output_type": "stream",
     "text": [
      "\n",
      "Estimating the choice model...\n",
      "Log-likelihood at zero: -6,237.4243\n",
      "Initial Log-likelihood: -6,237.4243\n",
      "Estimation Time for Point Estimation: 0.17 seconds.\n",
      "Final log-likelihood: -2,255.5674\n"
     ]
    },
    {
     "name": "stderr",
     "output_type": "stream",
     "text": [
      "/Users/mobouzaghrane/opt/anaconda3/lib/python3.7/site-packages/scipy/optimize/_minimize.py:505: RuntimeWarning: Method BFGS does not use Hessian information (hess).\n",
      "  RuntimeWarning)\n"
     ]
    },
    {
     "name": "stdout",
     "output_type": "stream",
     "text": [
      "Simulation number 100 is complete!\n",
      "==========================================\n",
      "==========================================\n"
     ]
    }
   ],
   "source": [
    "simulation_sizes = np.random.randint(low=3000, high=9000, size=100)\n",
    "sim_number = np.arange(1,101)\n",
    "models_dictionary = defaultdict(dict)\n",
    "\n",
    "for sim_size, number in zip(simulation_sizes, sim_number):\n",
    "    print('Simulation number', number , 'is in progress...')\n",
    "    print ('Simulation size is', sim_size)\n",
    "    print('------------------------------------------')\n",
    "    print('Simulating data...')\n",
    "    # Simulate data without parents\n",
    "    sim_bike_data_no_parent = SimNodeNoParent(bike_data_params, size=sim_size)\n",
    "    \n",
    "    sim_bike_data_wide = copy.deepcopy(sim_bike_data_no_parent)\n",
    "\n",
    "    # Simulate nodes based on causal graphs\n",
    "    # Drive Alone\n",
    "    sim_bike_data_wide['total_travel_time_drive_alone'] = Drive_Alone_Reg['total_travel_time_on_total_travel_distance'].params[0] +\\\n",
    "                                                  Drive_Alone_Reg['total_travel_time_on_total_travel_distance'].params[1] *\\\n",
    "                                                  sim_bike_data_wide['total_travel_distance_drive_alone'] +\\\n",
    "                                                  np.random.normal(loc=0,\n",
    "                                                                   scale=Drive_Alone_Reg['total_travel_time_on_total_travel_distance'].resid.std(),\n",
    "                                                                   size=sim_size)\n",
    "    sim_bike_data_wide['total_travel_cost_drive_alone'] = Drive_Alone_Reg['total_travel_cost_on_total_travel_distance'].params[0] +\\\n",
    "                                                  Drive_Alone_Reg['total_travel_cost_on_total_travel_distance'].params[1] *\\\n",
    "                                                  sim_bike_data_wide['total_travel_distance_drive_alone'] +\\\n",
    "                                                  np.random.normal(loc=0,\n",
    "                                                                   scale=Drive_Alone_Reg['total_travel_cost_on_total_travel_distance'].resid.std(),\n",
    "                                                                   size=sim_size)\n",
    "    \n",
    "    # Shared Ride 2\n",
    "    sim_bike_data_wide['total_travel_time_shared_2'] = Shared_2_Reg['total_travel_time_on_total_travel_distance'].params[0] +\\\n",
    "                                               Shared_2_Reg['total_travel_time_on_total_travel_distance'].params[1] *\\\n",
    "                                                  sim_bike_data_wide['total_travel_distance_shared_2'] +\\\n",
    "                                                  np.random.normal(loc=0,\n",
    "                                                                   scale=Shared_2_Reg['total_travel_time_on_total_travel_distance'].resid.std(),\n",
    "                                                                   size=sim_size)\n",
    "    sim_bike_data_wide['total_travel_cost_shared_2'] = Shared_2_Reg['total_travel_cost_on_total_travel_distance'].params[0] +\\\n",
    "                                                  Shared_2_Reg['total_travel_cost_on_total_travel_distance'].params[1] *\\\n",
    "                                                  sim_bike_data_wide['total_travel_distance_shared_2'] +\\\n",
    "                                                  np.random.normal(loc=0,\n",
    "                                                                   scale=Shared_2_Reg['total_travel_cost_on_total_travel_distance'].resid.std(),\n",
    "                                                                   size=sim_size)\n",
    "    # Shared Ride 3+\n",
    "    sim_bike_data_wide['total_travel_time_shared_3p'] = Shared_3p_Reg['total_travel_time_on_total_travel_distance'].params[0] +\\\n",
    "                                                   Shared_3p_Reg['total_travel_time_on_total_travel_distance'].params[1] *\\\n",
    "                                                      sim_bike_data_wide['total_travel_distance_shared_3p'] +\\\n",
    "                                                      np.random.normal(loc=0,\n",
    "                                                                       scale=Shared_3p_Reg['total_travel_time_on_total_travel_distance'].resid.std(),\n",
    "                                                                       size=sim_size)\n",
    "    sim_bike_data_wide['total_travel_cost_shared_3p'] = Shared_3p_Reg['total_travel_cost_on_total_travel_distance'].params[0] +\\\n",
    "                                                      Shared_3p_Reg['total_travel_cost_on_total_travel_distance'].params[1] *\\\n",
    "                                                      sim_bike_data_wide['total_travel_distance_shared_3p'] +\\\n",
    "                                                      np.random.normal(loc=0,\n",
    "                                                                       scale=Shared_3p_Reg['total_travel_cost_on_total_travel_distance'].resid.std(),\n",
    "                                                                       size=sim_size)\n",
    "    # Walk-Transit-Walk\n",
    "    sim_bike_data_wide['total_travel_cost_wtw'] = WTW_Reg['total_travel_cost_on_total_travel_time'].params[0] +\\\n",
    "                                                  WTW_Reg['total_travel_cost_on_total_travel_time'].params[1] *\\\n",
    "                                                  sim_bike_data_wide['total_travel_time_wtw'] +\\\n",
    "                                                  np.random.normal(loc=0,\n",
    "                                                                   scale=WTW_Reg['total_travel_cost_on_total_travel_time'].resid.std(),\n",
    "                                                                   size=sim_size)\n",
    "    # Drive-Transit-Walk\n",
    "    sim_bike_data_wide['total_travel_cost_dtw'] = DTW_Reg['total_travel_cost_on_total_travel_time'].params[0] +\\\n",
    "                                                  DTW_Reg['total_travel_cost_on_total_travel_time'].params[1] *\\\n",
    "                                                  sim_bike_data_wide['total_travel_time_dtw'] +\\\n",
    "                                                  np.random.normal(loc=0,\n",
    "                                                                   scale =DTW_Reg['total_travel_cost_on_total_travel_time'].resid.std(),\n",
    "                                                                   size =sim_size)\n",
    "    # Walk-Transit-Drive\n",
    "    sim_bike_data_wide['total_travel_cost_wtd'] = WTD_Reg['total_travel_cost_on_total_travel_time'].params[0] +\\\n",
    "                                                  WTD_Reg['total_travel_cost_on_total_travel_time'].params[1] *\\\n",
    "                                                  sim_bike_data_wide['total_travel_time_wtd'] +\\\n",
    "                                                  np.random.normal(loc=0,\n",
    "                                                                   scale =WTD_Reg['total_travel_cost_on_total_travel_time'].resid.std(),\n",
    "                                                                   size =sim_size)\n",
    "    \n",
    "    #Simulate Availability\n",
    "    print('Simulating Availability...')\n",
    "    wide_sim_data_availability = SimulateAvailability(data_long=bike_data_long,\n",
    "                                         sim_data=sim_bike_data_wide,\n",
    "                                         obs_id_col=observation_id_col,\n",
    "                                         alt_name_dict=alternative_name_dict)\n",
    "\n",
    "    wide_sim_data_availability[obs_id_column] = np.arange(wide_sim_data_availability.shape[0],\n",
    "                                            dtype=int) + 1\n",
    "    \n",
    "    print('Converting data from wide to long...')\n",
    "    long_sim_data = pl.convert_wide_to_long(wide_sim_data_availability,\n",
    "                                        ind_variables,\n",
    "                                        alt_varying_variables,\n",
    "                                        availability_variables,\n",
    "                                        obs_id_column,\n",
    "                                        choice_column,\n",
    "                                        new_alt_id_name=custom_alt_id)\n",
    "    \n",
    "    # Create a cars per licensed drivers column\n",
    "    long_sim_data[\"cars_per_licensed_drivers\"] = 0\n",
    "    long_sim_data.loc[long_sim_data.num_licensed_drivers > 0,\n",
    "                      \"cars_per_licensed_drivers\"] = long_sim_data.num_cars / long_sim_data.num_licensed_drivers.astype(float)\n",
    "\n",
    "    # Add a variable representing cost divided by distance\n",
    "    long_sim_data[\"cost_per_distance\"] = 0\n",
    "    long_sim_data.loc[long_sim_data.mode_id.isin([1, 2, 3]),\n",
    "                      \"cost_per_distance\"] = (long_sim_data.loc[long_sim_data.mode_id.isin([1, 2, 3]),\n",
    "                                                                \"total_travel_cost\"] /\n",
    "                                              long_sim_data.loc[long_sim_data.mode_id.isin([1, 2, 3]),\n",
    "                                                        \"total_travel_distance\"])\n",
    "    print('Simulating Choices...')\n",
    "    # Calculate probabilities for each alternative\n",
    "    # based on the estimated model\n",
    "    posterior_probs = mnl_model.predict(long_sim_data)\n",
    "    \n",
    "    \n",
    "    # Simulate choice data\n",
    "    long_sim_data['sim_choice'] = viz.simulate_choice_vector(posterior_probs,\n",
    "                               long_sim_data['observation_id'].values)\n",
    "    \n",
    "    \n",
    "    print('Estimating the choice model...')\n",
    "    # Estimate the basic MNL model, using the hessian and newton-conjugate gradient\n",
    "    mnl_model_sim = pl.create_choice_model(data=long_sim_data,\n",
    "                                           alt_id_col=alternative_id_col,\n",
    "                                           obs_id_col=observation_id_col,\n",
    "                                           choice_col=choice_column,\n",
    "                                           specification=mnl_specification,\n",
    "                                           model_type=\"MNL\",\n",
    "                                           names=mnl_names)\n",
    "\n",
    "    num_vars = len(reduce(lambda x, y: x + y, mnl_names.values()))\n",
    "    # Note newton-cg used to ensure convergence to a point where gradient \n",
    "    # is essentially zero for all dimensions. \n",
    "    mnl_model_sim.fit_mle(np.zeros(num_vars),\n",
    "                          method=\"BFGS\")\n",
    "    \n",
    "    mnl_model_sim.coefs.name = 'simulation_' + str(number)\n",
    "\n",
    "    models_dictionary[number] = mnl_model_sim\n",
    "    \n",
    "    print('Simulation number', number , 'is complete!')\n",
    "    print('==========================================')\n",
    "    print('==========================================')"
   ]
  },
  {
   "cell_type": "markdown",
   "metadata": {},
   "source": [
    "# 5. Plotting results of the simulation "
   ]
  },
  {
   "cell_type": "code",
   "execution_count": 69,
   "metadata": {},
   "outputs": [],
   "source": [
    "# Creating a dataframe for model parameters\n",
    "sim_estimated_par = pd.concat([models_dictionary[number].coefs for number in models_dictionary.keys()], axis=1).T\n",
    "sim_estimated_par.reset_index(drop=True,inplace=True)\n",
    "sim_estimated_par.head()"
   ]
  },
  {
   "cell_type": "code",
   "execution_count": 77,
   "metadata": {},
   "outputs": [
    {
     "data": {
      "image/png": "[encoded data removed]",
      "text/plain": [
       "<Figure size 720x432 with 1 Axes>"
      ]
     },
     "metadata": {},
     "output_type": "display_data"
    },
    {
     "data": {
      "image/png": "[encoded data removed]",
      "text/plain": [
       "<Figure size 720x432 with 1 Axes>"
      ]
     },
     "metadata": {},
     "output_type": "display_data"
    },
    {
     "data": {
      "image/png": "[encoded data removed]",
      "text/plain": [
       "<Figure size 720x432 with 1 Axes>"
      ]
     },
     "metadata": {},
     "output_type": "display_data"
    },
    {
     "data": {
      "image/png": "[encoded data removed]",
      "text/plain": [
       "<Figure size 720x432 with 1 Axes>"
      ]
     },
     "metadata": {},
     "output_type": "display_data"
    },
    {
     "data": {
      "image/png": "[encoded data removed]",
      "text/plain": [
       "<Figure size 720x432 with 1 Axes>"
      ]
     },
     "metadata": {},
     "output_type": "display_data"
    },
    {
     "data": {
      "image/png": "[encoded data removed]",
      "text/plain": [
       "<Figure size 720x432 with 1 Axes>"
      ]
     },
     "metadata": {},
     "output_type": "display_data"
    },
    {
     "data": {
      "image/png": "[encoded data removed]",
      "text/plain": [
       "<Figure size 720x432 with 1 Axes>"
      ]
     },
     "metadata": {},
     "output_type": "display_data"
    },
    {
     "data": {
      "image/png": "[encoded data removed]",
      "text/plain": [
       "<Figure size 720x432 with 1 Axes>"
      ]
     },
     "metadata": {},
     "output_type": "display_data"
    },
    {
     "data": {
      "image/png": "[encoded data removed]",
      "text/plain": [
       "<Figure size 720x432 with 1 Axes>"
      ]
     },
     "metadata": {},
     "output_type": "display_data"
    },
    {
     "data": {
      "image/png": "[encoded data removed]",
      "text/plain": [
       "<Figure size 720x432 with 1 Axes>"
      ]
     },
     "metadata": {},
     "output_type": "display_data"
    },
    {
     "data": {
      "image/png": "[encoded data removed]",
      "text/plain": [
       "<Figure size 720x432 with 1 Axes>"
      ]
     },
     "metadata": {},
     "output_type": "display_data"
    },
    {
     "data": {
      "image/png": "[encoded data removed]",
      "text/plain": [
       "<Figure size 720x432 with 1 Axes>"
      ]
     },
     "metadata": {},
     "output_type": "display_data"
    },
    {
     "data": {
      "image/png": "[encoded data removed]",
      "text/plain": [
       "<Figure size 720x432 with 1 Axes>"
      ]
     },
     "metadata": {},
     "output_type": "display_data"
    },
    {
     "data": {
      "image/png": "[encoded data removed]",
      "text/plain": [
       "<Figure size 720x432 with 1 Axes>"
      ]
     },
     "metadata": {},
     "output_type": "display_data"
    },
    {
     "data": {
      "image/png": "[encoded data removed]",
      "text/plain": [
       "<Figure size 720x432 with 1 Axes>"
      ]
     },
     "metadata": {},
     "output_type": "display_data"
    },
    {
     "data": {
      "image/png": "[encoded data removed]",
      "text/plain": [
       "<Figure size 720x432 with 1 Axes>"
      ]
     },
     "metadata": {},
     "output_type": "display_data"
    },
    {
     "data": {
      "image/png": "[encoded data removed]",
      "text/plain": [
       "<Figure size 720x432 with 1 Axes>"
      ]
     },
     "metadata": {},
     "output_type": "display_data"
    },
    {
     "data": {
      "image/png": "[encoded data removed]",
      "text/plain": [
       "<Figure size 720x432 with 1 Axes>"
      ]
     },
     "metadata": {},
     "output_type": "display_data"
    },
    {
     "data": {
      "image/png": "[encoded data removed]",
      "text/plain": [
       "<Figure size 720x432 with 1 Axes>"
      ]
     },
     "metadata": {},
     "output_type": "display_data"
    }
   ],
   "source": [
    "# Loop around the different parameters\n",
    "# and plot the figures:\n",
    "\n",
    "for par in sim_estimated_par.columns:\n",
    "    PlotParams(sim_estimated_par[par],mnl_model, (10,6))"
   ]
  }
 ],
 "metadata": {
  "jupytext": {
   "formats": "ipynb,md"
  },
  "kernelspec": {
   "display_name": "Python 3",
   "language": "python",
   "name": "python3"
  },
  "language_info": {
   "codemirror_mode": {
    "name": "ipython",
    "version": 3
   },
   "file_extension": ".py",
   "mimetype": "text/x-python",
   "name": "python",
   "nbconvert_exporter": "python",
   "pygments_lexer": "ipython3",
   "version": "3.7.4"
  }
 },
 "nbformat": 4,
 "nbformat_minor": 4
}
