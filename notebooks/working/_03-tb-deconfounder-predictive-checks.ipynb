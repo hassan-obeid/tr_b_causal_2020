{
 "cells": [
  {
   "cell_type": "markdown",
   "metadata": {},
   "source": [
    "# Purpose\n",
    "\n",
    "The purpose of this notebook is to demonstrate prior and predictive checks of one's causal graphical model.\n",
    "\n",
    "The prior checks are to be used as part of one's falsification efforts before estimating the posterior distribution of one's unknown model parameters. If one's causal model contains latent variables, then such prior checks are expected to be extremely valuable. They are expected to indicate when one's model is likely to poorly fit one's data. This information can be used to avoid a potentially lengthy model estimation process. These checks will likely be implemented with very liberal thresholds for deciding that a model is not even worth beign estimated.\n",
    "\n",
    "The posterior predictive checks are to really ensure that the observed data is well fit by the assumptions of one's causal model.\n",
    "\n",
    "# Logical steps\n",
    "0. Determine the test statistic to be computed.\n",
    "1. Require as inputs:\n",
    "   1. predictive samples of all model variables (latent and observed),\n",
    "   2. function to compute the desired test statistic given a sample from the causal graph,\n",
    "   3. the observed data.\n",
    "   4. function to plot the distribution of the simulated test statistic and the value/distribution of the observed test statistic.\n",
    "2. For each predictive sample,\n",
    "   1. Compute the value of the simulated and observed test statistic (assuming the observed test statistic also depends on the simulated values. If not, simply store the value of the observed test statistic and do not recompute it.)\n",
    "   2. Store the simulated and observed test statistics.\n",
    "3. Visualize the distribution of the simulated and observed test statistics.\n",
    "4. Produce a scalar summary of the distribution of simulated test statistics if desired."
   ]
  },
  {
   "cell_type": "code",
   "execution_count": null,
   "metadata": {},
   "outputs": [],
   "source": []
  }
 ],
 "metadata": {
  "jupytext": {
   "formats": "ipynb,md,py"
  },
  "kernelspec": {
   "display_name": "Python 3",
   "language": "python",
   "name": "python3"
  },
  "language_info": {
   "codemirror_mode": {
    "name": "ipython",
    "version": 3
   },
   "file_extension": ".py",
   "mimetype": "text/x-python",
   "name": "python",
   "nbconvert_exporter": "python",
   "pygments_lexer": "ipython3",
   "version": "3.7.6"
  }
 },
 "nbformat": 4,
 "nbformat_minor": 4
}
