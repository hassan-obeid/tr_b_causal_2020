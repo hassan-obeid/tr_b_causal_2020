{
 "cells": [
  {
   "cell_type": "markdown",
   "metadata": {},
   "source": [
    "# Purpose\n",
    "\n",
    "The purpose of this notebook is to demonstrate prior and predictive checks of one's causal graphical model.\n",
    "\n",
    "The prior checks are to be used as part of one's falsification efforts before estimating the posterior distribution of one's unknown model parameters. If one's causal model contains latent variables, then such prior checks are expected to be extremely valuable. They are expected to indicate when one's model is likely to poorly fit one's data. This information can be used to avoid a potentially lengthy model estimation process. These checks will likely be implemented with very liberal thresholds for deciding that a model is not even worth beign estimated.\n",
    "\n",
    "The posterior predictive checks are to really ensure that the observed data is well fit by the assumptions of one's causal model.\n",
    "\n",
    "# Logical steps\n",
    "0. Determine the test statistic to be computed.\n",
    "1. Require as inputs:\n",
    "   1. predictive samples of all model variables (latent and observed),\n",
    "   2. function to compute the desired test statistic given a sample from the causal graph,\n",
    "   3. the observed data.\n",
    "   4. function to plot the distribution of the simulated test statistic and the value/distribution of the observed test statistic.\n",
    "2. For each predictive sample,\n",
    "   1. Compute the value of the simulated and observed test statistic (assuming the observed test statistic also depends on the simulated values. If not, simply store the value of the observed test statistic and do not recompute it.)\n",
    "   2. Store the simulated and observed test statistics.\n",
    "3. Visualize the distribution of the simulated and observed test statistics.\n",
    "4. Produce a scalar summary of the distribution of simulated test statistics if desired."
   ]
  },
  {
   "cell_type": "markdown",
   "metadata": {},
   "source": [
    "## Declare notebook parameters"
   ]
  },
  {
   "cell_type": "code",
   "execution_count": 1,
   "metadata": {},
   "outputs": [],
   "source": [
    "# Declare hyperparameters for testing\n",
    "NUM_PERMUTATIONS = 100\n",
    "NUM_PRIOR_SAMPLES = 100\n",
    "\n",
    "# Declare the columns to be used for testing\n",
    "x1_col = 'num_cars'\n",
    "x2_col = 'num_licensed_drivers'\n",
    "mode_id_col = 'mode_id'\n",
    "\n",
    "# Set the colors for plotting\n",
    "ORIG_COLOR = '#045a8d'\n",
    "SIMULATED_COLOR = '#a6bddb'\n",
    "\n",
    "# Declare paths to data\n",
    "DATA_PATH =\\\n",
    "    '../../data/raw/spring_2016_all_bay_area_long_format_plus_cross_bay_col.csv'"
   ]
  },
  {
   "cell_type": "markdown",
   "metadata": {},
   "source": [
    "## Execute needed imports"
   ]
  },
  {
   "cell_type": "code",
   "execution_count": 2,
   "metadata": {},
   "outputs": [],
   "source": [
    "import sys\n",
    "\n",
    "import numpy as np\n",
    "import pandas as pd\n",
    "from scipy.stats import norm\n",
    "\n",
    "import seaborn as sbn\n",
    "import matplotlib.pyplot as plt\n",
    "%matplotlib inline\n",
    "\n",
    "from tqdm.notebook import tqdm\n",
    "\n",
    "from sklearn.linear_model import LinearRegression\n",
    "from sklearn.metrics import r2_score\n",
    "\n",
    "from causalgraphicalmodels import CausalGraphicalModel\n",
    "\n",
    "sys.path.insert(0, '../../src/')\n",
    "import viz"
   ]
  },
  {
   "cell_type": "markdown",
   "metadata": {},
   "source": [
    "## Create needed functions for analysis"
   ]
  },
  {
   "cell_type": "code",
   "execution_count": 3,
   "metadata": {},
   "outputs": [],
   "source": [
    "def _make_regressor(x_2d, y, seed=None):\n",
    "    # regressor_kwargs =\\\n",
    "    #     regressor = LinearRegression()\n",
    "    #     {'min_samples_leaf': MIN_SAMPLES_LEAF,\n",
    "    #      'max_samples': 0.8}\n",
    "    # if seed is not None:\n",
    "    #     regressor_kwargs['random_state'] = seed + 10\n",
    "    # regressor =\\\n",
    "    #     RandomForestRegressor(**regressor_kwargs)\n",
    "    regressor = LinearRegression()\n",
    "    regressor.fit(x_2d, y)\n",
    "    return regressor\n",
    "\n",
    "\n",
    "def computed_vs_obs_r2(x1_array,\n",
    "                       x2_array,\n",
    "                       z_array,\n",
    "                       seed,\n",
    "                       progress=True):\n",
    "    # Combine the various predictors\n",
    "    combined_obs_predictors =\\\n",
    "        np.concatenate((x2_array[:, None], z_array[:, None]), axis=1)\n",
    "\n",
    "    # Determine the number of rows being plotted\n",
    "    num_rows = x1_array.shape[0]\n",
    "\n",
    "    # Create a regressor to be used to compute the conditional expectations\n",
    "    regressor = _make_regressor(combined_obs_predictors, x1_array, seed)\n",
    "\n",
    "    # Get the observed expectations\n",
    "    obs_expectation = regressor.predict(combined_obs_predictors)\n",
    "    obs_r2 = r2_score(x1_array, obs_expectation)\n",
    "\n",
    "    # Initialize arrays to store the permuted expectations and r2's\n",
    "    permuted_expectations = np.empty((num_rows, NUM_PERMUTATIONS))\n",
    "    permuted_r2 = np.empty(NUM_PERMUTATIONS, dtype=float)\n",
    "\n",
    "    # Get the permuted expectations\n",
    "    shuffled_index_array = np.arange(num_rows)\n",
    "\n",
    "    iterable = range(NUM_PERMUTATIONS)\n",
    "    if progress:\n",
    "        iterable = tqdm(iterable)\n",
    "\n",
    "    for i in iterable:\n",
    "        # Shuffle the index array\n",
    "        np.random.shuffle(shuffled_index_array)\n",
    "        # Get the new set of permuted X_2 values\n",
    "        current_x2 = x2_array[shuffled_index_array]\n",
    "        # Get the current combined predictors\n",
    "        current_predictors =\\\n",
    "            np.concatenate((current_x2[:, None], z_array[:, None]), axis=1)\n",
    "        # Fit a new model and store the current expectation\n",
    "        current_regressor =\\\n",
    "            _make_regressor(current_predictors, x1_array, seed)\n",
    "        permuted_expectations[:, i] =\\\n",
    "            current_regressor.predict(current_predictors)\n",
    "        permuted_r2[i] = r2_score(x1_array, permuted_expectations[:, i])\n",
    "    return obs_r2, permuted_r2\n",
    "\n",
    "\n",
    "def compute_pvalue(obs_r2, permuted_r2):\n",
    "    return (obs_r2 < permuted_r2).mean()\n",
    "\n",
    "\n",
    "def compute_predictive_independence_test_values(samples, obs_sample, seed):\n",
    "    \"\"\"\n",
    "    test_values = p-values of conditional independence test\n",
    "    \"\"\"\n",
    "    # Determine the number of samples in order to create an iterable for\n",
    "    # getting and storing test samples\n",
    "    if len(samples.shape) != 3:\n",
    "        msg = '`samples` should have shape (num_rows, 3, num_samples).'\n",
    "        raise ValueError(msg)\n",
    "    num_samples = samples.shape[-1]\n",
    "\n",
    "    # Initialize a container for the p-values of the sampled and observed data\n",
    "    sampled_pvals = np.empty((num_samples,), dtype=float)\n",
    "    obs_pvals = np.empty((num_samples,), dtype=float)\n",
    "\n",
    "    # Create the iterable to be looped over to compute test values\n",
    "    iterable = viz.progress(range(NUM_PERMUTATIONS))\n",
    "\n",
    "    # Populate the arrays of test statistics\n",
    "    for i in iterable:\n",
    "        # Get the data to be used to calculate this set of p-values\n",
    "        current_sim_sample = samples[:, :, i]\n",
    "        current_sim_z = current_sim_sample[:, -1]\n",
    "        current_augmented_obs =\\\n",
    "            np.concatenate((obs_sample, current_sim_z[:, None]),\n",
    "                           axis=1)\n",
    "\n",
    "        # Package the arguments to compute the predictive r2 values\n",
    "        sim_args =\\\n",
    "            (current_sim_sample[:, 0],\n",
    "             current_sim_sample[:, 1],\n",
    "             current_sim_z,\n",
    "             seed,\n",
    "             False\n",
    "            )\n",
    "\n",
    "        augmented_obs_args =\\\n",
    "            (current_augmented_obs[:, 0],\n",
    "             current_augmented_obs[:, 1],\n",
    "             current_augmented_obs[:, 2],\n",
    "             seed,\n",
    "             False\n",
    "            )\n",
    "\n",
    "        # Compute and store the p-values of the conditional independence\n",
    "        # test for the current simulated and augmented dataset\n",
    "        sampled_pvals[i] =\\\n",
    "            compute_pvalue(*computed_vs_obs_r2(*sim_args))\n",
    "\n",
    "        obs_pvals[i] =\\\n",
    "            compute_pvalue(*computed_vs_obs_r2(*augmented_obs_args))\n",
    "    return sampled_pvals, obs_pvals\n",
    "\n",
    "\n",
    "def visualize_predictive_cit_results(\n",
    "        sampled_pvals,\n",
    "        obs_pvals,\n",
    "        verbose=True,\n",
    "        show=True,\n",
    "        close=False):\n",
    "    sbn.set_style('white')\n",
    "    fig, ax = plt.subplots(figsize=(10, 6))\n",
    "    overall_p_value = (obs_pvals < sampled_pvals).mean()\n",
    "\n",
    "    if verbose:\n",
    "        msg =\\\n",
    "            'The p-value of the predictive, permutation C.I.T. is {:.2f}.'\n",
    "        print(msg.format(overall_p_value))\n",
    "\n",
    "    sbn.distplot(\n",
    "        sampled_pvals, ax=ax, color=SIMULATED_COLOR, label='Simulated', kde=False)\n",
    "    sbn.distplot(\n",
    "        obs_pvals, ax=ax, color=ORIG_COLOR, label='Observed', kde=False)\n",
    "\n",
    "    ax.set_xlabel('Permutation P-value', fontsize=13)\n",
    "    ax.set_ylabel(\n",
    "        'Density', fontdict={'fontsize':13, 'rotation':0}, labelpad=40)\n",
    "    ax.legend(loc='best')\n",
    "    sbn.despine()\n",
    "    if show:\n",
    "        fig.show()\n",
    "    if close:\n",
    "        plt.close(fig=fig)\n",
    "    return overall_p_value\n",
    "\n",
    "\n",
    "def perform_visual_predictive_cit_test(\n",
    "        samples,\n",
    "        obs_sample,\n",
    "        seed=1038,\n",
    "        verbose=True,\n",
    "        show=True,\n",
    "        close=False):\n",
    "    \"\"\"\n",
    "    Parameters\n",
    "    ----------\n",
    "    samples : 3D ndarray of shape (num_rows, 3, num_samples).\n",
    "        Columns should contain, in order, simulated x1, x2, z.\n",
    "    obs_sample : 2D ndarray of shape (num_rows, 2)\n",
    "        Columns should contain, in order, observed x1, observed x2.\n",
    "    \"\"\"\n",
    "    # Set a random seed for reproducibility\n",
    "    if seed is not None:\n",
    "        np.random.seed(seed)\n",
    "\n",
    "    # Compute the observed and sampled pvalues\n",
    "    sampled_pvals, obs_pvals =\\\n",
    "        compute_predictive_independence_test_values(\n",
    "            samples, obs_sample, seed)\n",
    "\n",
    "    # Visualize the results of the predictive permutation CIT test\n",
    "    overall_p_value =\\\n",
    "        visualize_predictive_cit_results(\n",
    "            sampled_pvals, obs_pvals, verbose=verbose,\n",
    "            show=show, close=close)\n",
    "    return overall_p_value, sampled_pvals, obs_pvals\n"
   ]
  },
  {
   "cell_type": "markdown",
   "metadata": {},
   "source": [
    "## Extract data for the factor model checks"
   ]
  },
  {
   "cell_type": "code",
   "execution_count": 4,
   "metadata": {},
   "outputs": [],
   "source": [
    "# Load the raw data\n",
    "df = pd.read_csv(DATA_PATH)"
   ]
  },
  {
   "cell_type": "code",
   "execution_count": 5,
   "metadata": {},
   "outputs": [
    {
     "data": {
      "image/svg+xml": [
       "<?xml version=\"1.0\" encoding=\"UTF-8\" standalone=\"no\"?>\n",
       "<!DOCTYPE svg PUBLIC \"-//W3C//DTD SVG 1.1//EN\"\n",
       " \"http://www.w3.org/Graphics/SVG/1.1/DTD/svg11.dtd\">\n",
       "<!-- Generated by graphviz version 2.40.1 (20161225.0304)\n",
       " -->\n",
       "<!-- Title: %3 Pages: 1 -->\n",
       "<svg width=\"718pt\" height=\"188pt\"\n",
       " viewBox=\"0.00 0.00 717.91 188.00\" xmlns=\"http://www.w3.org/2000/svg\" xmlns:xlink=\"http://www.w3.org/1999/xlink\">\n",
       "<g id=\"graph0\" class=\"graph\" transform=\"scale(1 1) rotate(0) translate(4 184)\">\n",
       "<title>%3</title>\n",
       "<polygon fill=\"#ffffff\" stroke=\"transparent\" points=\"-4,4 -4,-184 713.9146,-184 713.9146,4 -4,4\"/>\n",
       "<!-- Utility (Drive Alone) -->\n",
       "<g id=\"node1\" class=\"node\">\n",
       "<title>Utility (Drive Alone)</title>\n",
       "<ellipse fill=\"none\" stroke=\"#000000\" cx=\"316.3886\" cy=\"-18\" rx=\"84.5514\" ry=\"18\"/>\n",
       "<text text-anchor=\"middle\" x=\"316.3886\" y=\"-13.8\" font-family=\"Times,serif\" font-size=\"14.00\" fill=\"#000000\">Utility (Drive Alone)</text>\n",
       "</g>\n",
       "<!-- Total Travel Distance -->\n",
       "<g id=\"node2\" class=\"node\">\n",
       "<title>Total Travel Distance</title>\n",
       "<ellipse fill=\"none\" stroke=\"#000000\" cx=\"154.3886\" cy=\"-162\" rx=\"86.2541\" ry=\"18\"/>\n",
       "<text text-anchor=\"middle\" x=\"154.3886\" y=\"-157.8\" font-family=\"Times,serif\" font-size=\"14.00\" fill=\"#000000\">Total Travel Distance</text>\n",
       "</g>\n",
       "<!-- Total Travel Time -->\n",
       "<g id=\"node3\" class=\"node\">\n",
       "<title>Total Travel Time</title>\n",
       "<ellipse fill=\"none\" stroke=\"#000000\" cx=\"73.3886\" cy=\"-90\" rx=\"73.2773\" ry=\"18\"/>\n",
       "<text text-anchor=\"middle\" x=\"73.3886\" y=\"-85.8\" font-family=\"Times,serif\" font-size=\"14.00\" fill=\"#000000\">Total Travel Time</text>\n",
       "</g>\n",
       "<!-- Total Travel Distance&#45;&gt;Total Travel Time -->\n",
       "<g id=\"edge1\" class=\"edge\">\n",
       "<title>Total Travel Distance&#45;&gt;Total Travel Time</title>\n",
       "<path fill=\"none\" stroke=\"#000000\" d=\"M134.3661,-144.2022C124.2629,-135.2217 111.8526,-124.1902 100.871,-114.4289\"/>\n",
       "<polygon fill=\"#000000\" stroke=\"#000000\" points=\"102.9801,-111.6208 93.1807,-107.593 98.3295,-116.8526 102.9801,-111.6208\"/>\n",
       "</g>\n",
       "<!-- Total Travel Cost -->\n",
       "<g id=\"node6\" class=\"node\">\n",
       "<title>Total Travel Cost</title>\n",
       "<ellipse fill=\"none\" stroke=\"#000000\" cx=\"236.3886\" cy=\"-90\" rx=\"71.3132\" ry=\"18\"/>\n",
       "<text text-anchor=\"middle\" x=\"236.3886\" y=\"-85.8\" font-family=\"Times,serif\" font-size=\"14.00\" fill=\"#000000\">Total Travel Cost</text>\n",
       "</g>\n",
       "<!-- Total Travel Distance&#45;&gt;Total Travel Cost -->\n",
       "<g id=\"edge2\" class=\"edge\">\n",
       "<title>Total Travel Distance&#45;&gt;Total Travel Cost</title>\n",
       "<path fill=\"none\" stroke=\"#000000\" d=\"M174.6582,-144.2022C184.9624,-135.1546 197.6373,-124.0255 208.8154,-114.2105\"/>\n",
       "<polygon fill=\"#000000\" stroke=\"#000000\" points=\"211.4299,-116.5727 216.635,-107.3446 206.8113,-111.3126 211.4299,-116.5727\"/>\n",
       "</g>\n",
       "<!-- Total Travel Time&#45;&gt;Utility (Drive Alone) -->\n",
       "<g id=\"edge3\" class=\"edge\">\n",
       "<title>Total Travel Time&#45;&gt;Utility (Drive Alone)</title>\n",
       "<path fill=\"none\" stroke=\"#000000\" d=\"M120.2414,-76.1177C159.1838,-64.5792 214.8301,-48.0914 256.9121,-35.6227\"/>\n",
       "<polygon fill=\"#000000\" stroke=\"#000000\" points=\"258.1623,-38.9027 266.756,-32.706 256.1737,-32.1911 258.1623,-38.9027\"/>\n",
       "</g>\n",
       "<!-- Number of Autos -->\n",
       "<g id=\"node4\" class=\"node\">\n",
       "<title>Number of Autos</title>\n",
       "<ellipse fill=\"none\" stroke=\"#000000\" cx=\"397.3886\" cy=\"-90\" rx=\"71.5376\" ry=\"18\"/>\n",
       "<text text-anchor=\"middle\" x=\"397.3886\" y=\"-85.8\" font-family=\"Times,serif\" font-size=\"14.00\" fill=\"#000000\">Number of Autos</text>\n",
       "</g>\n",
       "<!-- Number of Autos&#45;&gt;Utility (Drive Alone) -->\n",
       "<g id=\"edge5\" class=\"edge\">\n",
       "<title>Number of Autos&#45;&gt;Utility (Drive Alone)</title>\n",
       "<path fill=\"none\" stroke=\"#000000\" d=\"M377.7807,-72.5708C367.6082,-63.5286 355.0141,-52.3338 343.8854,-42.4417\"/>\n",
       "<polygon fill=\"#000000\" stroke=\"#000000\" points=\"345.896,-39.546 336.0966,-35.5182 341.2454,-44.7778 345.896,-39.546\"/>\n",
       "</g>\n",
       "<!-- Number of Licensed Drivers -->\n",
       "<g id=\"node5\" class=\"node\">\n",
       "<title>Number of Licensed Drivers</title>\n",
       "<ellipse fill=\"none\" stroke=\"#000000\" cx=\"598.3886\" cy=\"-90\" rx=\"111.552\" ry=\"18\"/>\n",
       "<text text-anchor=\"middle\" x=\"598.3886\" y=\"-85.8\" font-family=\"Times,serif\" font-size=\"14.00\" fill=\"#000000\">Number of Licensed Drivers</text>\n",
       "</g>\n",
       "<!-- Number of Licensed Drivers&#45;&gt;Utility (Drive Alone) -->\n",
       "<g id=\"edge6\" class=\"edge\">\n",
       "<title>Number of Licensed Drivers&#45;&gt;Utility (Drive Alone)</title>\n",
       "<path fill=\"none\" stroke=\"#000000\" d=\"M538.5836,-74.7307C492.2449,-62.8995 428.1577,-46.5368 380.7139,-34.4235\"/>\n",
       "<polygon fill=\"#000000\" stroke=\"#000000\" points=\"381.41,-30.989 370.855,-31.9063 379.6783,-37.7714 381.41,-30.989\"/>\n",
       "</g>\n",
       "<!-- Total Travel Cost&#45;&gt;Utility (Drive Alone) -->\n",
       "<g id=\"edge4\" class=\"edge\">\n",
       "<title>Total Travel Cost&#45;&gt;Utility (Drive Alone)</title>\n",
       "<path fill=\"none\" stroke=\"#000000\" d=\"M255.7543,-72.5708C265.7268,-63.5955 278.0557,-52.4996 288.9867,-42.6617\"/>\n",
       "<polygon fill=\"#000000\" stroke=\"#000000\" points=\"291.5538,-45.0601 296.6454,-35.7689 286.871,-39.857 291.5538,-45.0601\"/>\n",
       "</g>\n",
       "</g>\n",
       "</svg>\n"
      ],
      "text/plain": [
       "<graphviz.dot.Digraph at 0x1a239e5c90>"
      ]
     },
     "execution_count": 5,
     "metadata": {},
     "output_type": "execute_result"
    }
   ],
   "source": [
    "# Note the variables that take part in the drive alone utility\n",
    "# The following cell is taken from 5.0pmab-simulation-causal-graph.ipynb\n",
    "V_Drive_Alone =\\\n",
    "    CausalGraphicalModel(\n",
    "        nodes=[\"Total Travel Distance\",\n",
    "               \"Total Travel Time\",\n",
    "               \"Total Travel Cost\",\n",
    "               \"Number of Autos\",\n",
    "               \"Number of Licensed Drivers\",\n",
    "               \"Utility (Drive Alone)\"],\n",
    "         edges=[(\"Total Travel Distance\",\"Total Travel Time\"),\n",
    "                (\"Total Travel Distance\",\"Total Travel Cost\"),\n",
    "                (\"Total Travel Time\", \"Utility (Drive Alone)\"), \n",
    "                (\"Total Travel Cost\", \"Utility (Drive Alone)\"), \n",
    "                (\"Number of Autos\", \"Utility (Drive Alone)\"),\n",
    "                (\"Number of Licensed Drivers\",\"Utility (Drive Alone)\")\n",
    "    ]\n",
    ")\n",
    "\n",
    "# draw the causal model\n",
    "V_Drive_Alone.draw()"
   ]
  },
  {
   "cell_type": "code",
   "execution_count": 6,
   "metadata": {},
   "outputs": [
    {
     "name": "stdout",
     "output_type": "stream",
     "text": [
      "      total_travel_distance  total_travel_cost  total_travel_time  num_cars  \\\n",
      "mean              15.579498           3.289287          29.667137  2.050999   \n",
      "std               18.465879           4.214448          24.586569  0.880458   \n",
      "\n",
      "      num_licensed_drivers  \n",
      "mean              2.178759  \n",
      "std               0.751621  \n"
     ]
    }
   ],
   "source": [
    "# Create a list of the variables in the drive alone utility\n",
    "drive_alone_variables =\\\n",
    "    ['total_travel_distance',\n",
    "     'total_travel_cost',\n",
    "     'total_travel_time',\n",
    "     'num_cars',\n",
    "     'num_licensed_drivers'\n",
    "    ]\n",
    "\n",
    "# Create a sub-dataframe with those variables\n",
    "drive_alone_df =\\\n",
    "    df.loc[df['mode_id'] == 1, drive_alone_variables]\n",
    "\n",
    "# Get the means and standard deviations of those variables\n",
    "drive_alone_means = drive_alone_df.mean()\n",
    "drive_alone_means.name = 'mean'\n",
    "\n",
    "drive_alone_stds = drive_alone_df.std()\n",
    "drive_alone_stds.name = 'std'\n",
    "\n",
    "# Look at the computed means and standard deviations\n",
    "print(pd.DataFrame([drive_alone_means, drive_alone_stds]))"
   ]
  },
  {
   "cell_type": "markdown",
   "metadata": {},
   "source": [
    "## Specify the factor model that is to be checked\n",
    "\n",
    "In Wang and Blei's deconfounder technique, we fit a factor model to the variables in one's outcome model.\n",
    "\n",
    "The factor model being considered here is:\n",
    "\n",
    "$\n",
    "\\begin{aligned}\n",
    "X_{\\textrm{standardized}} &= Z * W + \\epsilon\\\\\n",
    "\\textrm{where } \\epsilon &= \\left[ \\epsilon_1, \\epsilon_2, ..., \\epsilon_D \\right]\\\\\n",
    "\\epsilon_d &\\in \\mathbb{R}^{\\textrm{N x 1}}\\\\\n",
    "\\epsilon_d &\\sim \\mathcal{N} \\left(0, \\sigma \\right) \\forall d \\in \\left\\lbrace 1, 2, ... D \\right\\rbrace\\\\\n",
    "Z &\\in \\mathbb{R}^{\\textrm{N x 1}}\\\\\n",
    "Z &\\sim \\mathcal{N} \\left(0, 1 \\right)\\\\\n",
    "W &\\in \\mathbb{R}^{1 x D}\\\\\n",
    "W &\\sim \\mathcal{N} \\left(0, 1 \\right)\\\\\n",
    "N &= \\textrm{Number of rows in X_standardized}\\\\\n",
    "D &= \\textrm{Number of columns in X_standardized}\n",
    "\\end{aligned}\n",
    "$"
   ]
  },
  {
   "cell_type": "code",
   "execution_count": 7,
   "metadata": {},
   "outputs": [],
   "source": [
    "# Note the number of dimensions\n",
    "num_dimensions = len(drive_alone_variables)\n",
    "\n",
    "# Specify the prior distributions for the factor\n",
    "# model of the standardized drive alone dataframe\n",
    "w_dist_prior = norm(loc=0, scale=1)\n",
    "z_dist_prior = norm(loc=0, scale=1)\n",
    "\n",
    "sigma_prior = 0.1\n",
    "epsilon_dists_prior =\\\n",
    "    [norm(loc=0, scale=sigma_prior) for i in range(num_dimensions)]"
   ]
  },
  {
   "cell_type": "markdown",
   "metadata": {},
   "source": [
    "## Generate prior predictive samples"
   ]
  },
  {
   "cell_type": "code",
   "execution_count": 8,
   "metadata": {},
   "outputs": [],
   "source": [
    "# Get the number of observations for this utility\n",
    "num_drive_alone_obs = drive_alone_df.shape[0]\n",
    "\n",
    "# Set a seed for reproducibility\n",
    "np.random.seed(721)\n",
    "\n",
    "# Get prior samples of X_standardized\n",
    "w_samples_prior =\\\n",
    "    w_dist_prior.rvs((1, num_dimensions, NUM_PRIOR_SAMPLES))\n",
    "z_samples_prior =\\\n",
    "    z_dist_prior.rvs((num_drive_alone_obs, 1, NUM_PRIOR_SAMPLES))\n",
    "\n",
    "epsilon_samples_prior =\\\n",
    "    np.concatenate(\n",
    "        [dist.rvs((num_drive_alone_obs, NUM_PRIOR_SAMPLES))[:, None, :]\n",
    "         for dist in epsilon_dists_prior],\n",
    "        axis=1)\n",
    "\n",
    "x_standardized_samples_prior =\\\n",
    "    (np.einsum('mnr,ndr->mdr', z_samples_prior, w_samples_prior) +\n",
    "     epsilon_samples_prior)\n",
    "\n",
    "# Get samples of X on the original scale of each variable\n",
    "x_samples_prior =\\\n",
    "    (x_standardized_samples_prior *\n",
    "     drive_alone_stds[None, :, None] +\n",
    "     drive_alone_means[None, :, None])"
   ]
  },
  {
   "cell_type": "code",
   "execution_count": 9,
   "metadata": {},
   "outputs": [
    {
     "name": "stdout",
     "output_type": "stream",
     "text": [
      "(3804, 5, 100)\n"
     ]
    }
   ],
   "source": [
    "# Look at the dimensions of the prior predictive samples\n",
    "print(x_samples_prior.shape)"
   ]
  },
  {
   "cell_type": "markdown",
   "metadata": {},
   "source": [
    "## Visualize the prior predictive distribution"
   ]
  },
  {
   "cell_type": "code",
   "execution_count": 10,
   "metadata": {},
   "outputs": [
    {
     "name": "stderr",
     "output_type": "stream",
     "text": [
      "/Users/tbrathwaite/anaconda2/envs/causalTRB2020/lib/python3.7/site-packages/ipykernel_launcher.py:34: UserWarning: Matplotlib is currently using module://ipykernel.pylab.backend_inline, which is a non-GUI backend, so cannot show the figure.\n"
     ]
    },
    {
     "data": {
      "image/png": "[encoded data removed]",
      "text/plain": [
       "<Figure size 720x432 with 1 Axes>"
      ]
     },
     "metadata": {},
     "output_type": "display_data"
    }
   ],
   "source": [
    "# Visualize the prior predictive ditributions\n",
    "from viz.sim_cdf import _plot_single_cdf_on_axis\n",
    "\n",
    "# Choose colors\n",
    "orig_color = '#045a8d'\n",
    "sim_color = '#a6bddb'\n",
    "\n",
    "# Choose a column of data to compare\n",
    "current_col = 0\n",
    "\n",
    "# Create the figure\n",
    "fig, ax = plt.subplots(figsize=(10, 6))\n",
    "\n",
    "# Plot the simulated cdfs\n",
    "for sim_id in range(NUM_PRIOR_SAMPLES):\n",
    "    label = 'Simulated' if sim_id == 0 else None\n",
    "    _plot_single_cdf_on_axis(\n",
    "        x_samples_prior[:, current_col, sim_id], ax, color=sim_color, label=label, alpha=0.5)\n",
    "    \n",
    "# Plot the observed cdf\n",
    "_plot_single_cdf_on_axis(\n",
    "    drive_alone_df.iloc[:, current_col],\n",
    "    ax, color=orig_color, label='Observed', alpha=1.0)\n",
    "\n",
    "# Label the plot axes\n",
    "ax.set_xlabel(\"{}\".format(drive_alone_variables[current_col]), fontsize=12)\n",
    "ax.set_ylabel(\"Cumulative\\nDensity\\nFunction\",\n",
    "              rotation=0, labelpad=40, fontsize=12)\n",
    "\n",
    "# Show the line labels\n",
    "plt.legend(loc='best')\n",
    "\n",
    "sbn.despine()\n",
    "fig.show()"
   ]
  },
  {
   "cell_type": "markdown",
   "metadata": {},
   "source": [
    "Based on the plot above, it's clear that the currently chosen prior is quite poor.\n",
    "\n",
    "In other words, there are highly visible levels of prior-data conflict.\n",
    "\n",
    "This lets us know that the prior predictive check of the deconfounder assumptions is likely to fail since the prior in general is a poor one, even without considering specific checks like conditional independence tests."
   ]
  },
  {
   "cell_type": "markdown",
   "metadata": {},
   "source": [
    "### Perform the prior predictive conditional independence test"
   ]
  },
  {
   "cell_type": "code",
   "execution_count": 11,
   "metadata": {},
   "outputs": [],
   "source": [
    "# Get the values to be used for testing\n",
    "obs_x1 =\\\n",
    "    (drive_alone_df.iloc[:, drive_alone_variables.index(x1_col)]\n",
    "                   .values)\n",
    "obs_x2 =\\\n",
    "    (drive_alone_df.iloc[:, drive_alone_variables.index(x2_col)]\n",
    "                   .values)\n",
    "obs_sample =\\\n",
    "    np.concatenate((obs_x1[:, None], obs_x2[:, None]), axis=1)"
   ]
  },
  {
   "cell_type": "code",
   "execution_count": 12,
   "metadata": {},
   "outputs": [
    {
     "data": {
      "application/vnd.jupyter.widget-view+json": {
       "model_id": "2f0ddffdabd648bf9d6b8a52c75d36c6",
       "version_major": 2,
       "version_minor": 0
      },
      "text/plain": [
       "HBox(children=(FloatProgress(value=0.0), HTML(value='')))"
      ]
     },
     "metadata": {},
     "output_type": "display_data"
    },
    {
     "name": "stdout",
     "output_type": "stream",
     "text": [
      "\n",
      "The p-value of the predictive, permutation C.I.T. is 0.99.\n"
     ]
    },
    {
     "name": "stderr",
     "output_type": "stream",
     "text": [
      "/Users/tbrathwaite/anaconda2/envs/causalTRB2020/lib/python3.7/site-packages/ipykernel_launcher.py:146: UserWarning: Matplotlib is currently using module://ipykernel.pylab.backend_inline, which is a non-GUI backend, so cannot show the figure.\n"
     ]
    },
    {
     "data": {
      "image/png": "[encoded data removed]",
      "text/plain": [
       "<Figure size 720x432 with 1 Axes>"
      ]
     },
     "metadata": {},
     "output_type": "display_data"
    }
   ],
   "source": [
    "cols_for_test =\\\n",
    "    [drive_alone_variables.index(col) for col in [x1_col, x2_col]]\n",
    "# Get the prior predictive values for the test\n",
    "prior_samples_triplet =\\\n",
    "    np.concatenate((x_samples_prior[:, cols_for_test, :],\n",
    "                    z_samples_prior),\n",
    "                   axis=1)\n",
    "\n",
    "# Test out the predictive conditional independence test\n",
    "pval, sampled_pvals, obs_pvals =\\\n",
    "    perform_visual_predictive_cit_test(\n",
    "        prior_samples_triplet,\n",
    "        obs_sample)"
   ]
  },
  {
   "cell_type": "code",
   "execution_count": 13,
   "metadata": {},
   "outputs": [
    {
     "data": {
      "text/plain": [
       "<matplotlib.axes._subplots.AxesSubplot at 0x1a2b4f5d50>"
      ]
     },
     "execution_count": 13,
     "metadata": {},
     "output_type": "execute_result"
    },
    {
     "data": {
      "image/png": "[encoded data removed]",
      "text/plain": [
       "<Figure size 432x288 with 1 Axes>"
      ]
     },
     "metadata": {},
     "output_type": "display_data"
    }
   ],
   "source": [
    "sbn.kdeplot(sampled_pvals)"
   ]
  },
  {
   "cell_type": "code",
   "execution_count": 14,
   "metadata": {},
   "outputs": [
    {
     "name": "stdout",
     "output_type": "stream",
     "text": [
      "[0. 0. 0. 0. 0. 0. 0. 0. 0. 0. 0. 0. 0. 0. 0. 0. 0. 0. 0. 0. 0. 0. 0. 0.\n",
      " 0. 0. 0. 0. 0. 0. 0. 0. 0. 0. 0. 0. 0. 0. 0. 0. 0. 0. 0. 0. 0. 0. 0. 0.\n",
      " 0. 0. 0. 0. 0. 0. 0. 0. 0. 0. 0. 0. 0. 0. 0. 0. 0. 0. 0. 0. 0. 0. 0. 0.\n",
      " 0. 0. 0. 0. 0. 0. 0. 0. 0. 0. 0. 0. 0. 0. 0. 0. 0. 0. 0. 0. 0. 0. 0. 0.\n",
      " 0. 0. 0. 0.]\n"
     ]
    }
   ],
   "source": [
    "print(obs_pvals)"
   ]
  },
  {
   "cell_type": "markdown",
   "metadata": {},
   "source": [
    "As indicated by the observed p-values, the observed data is strongly refuted (in absolute terms) by a conditional independence test. This is shown by the p-values of zero above.\n",
    "\n",
    "As indicated by the relative comparison of the observed p-values to the simulated p-values, the p-values generated by the observed data are very different from the p-values generated by the prior (which is known to satisfy the desired conditional independencies).\n",
    "\n",
    "However, both of these points are somewhat moot since the prior is in general terrible."
   ]
  },
  {
   "cell_type": "markdown",
   "metadata": {},
   "source": [
    "## Posterior Predictive Conditional Independence Tests"
   ]
  },
  {
   "cell_type": "code",
   "execution_count": 15,
   "metadata": {},
   "outputs": [],
   "source": [
    "# Note that these files are based on using the `confounder`\n",
    "# function from `Causal_Graph_Tim_Data.ipynb`, where the\n",
    "# confounder function replicates the PPCA model of Wang\n",
    "# and Blei (2018)\n",
    "path_to_w_params = '../../data/processed/W_inferred_PPCA.csv'\n",
    "path_to_z_params = '../../data/processed/Z_inferred_PPCA.csv'\n",
    "\n",
    "# Load the parameters of the variational approximation to \n",
    "# the posterior distribution over W and Z\n",
    "w_post_params = pd.read_csv(path_to_w_params, index_col=0)\n",
    "z_post_params = pd.read_csv(path_to_z_params, index_col=0)"
   ]
  },
  {
   "cell_type": "code",
   "execution_count": 16,
   "metadata": {},
   "outputs": [
    {
     "data": {
      "text/html": [
       "<div>\n",
       "<style scoped>\n",
       "    .dataframe tbody tr th:only-of-type {\n",
       "        vertical-align: middle;\n",
       "    }\n",
       "\n",
       "    .dataframe tbody tr th {\n",
       "        vertical-align: top;\n",
       "    }\n",
       "\n",
       "    .dataframe thead th {\n",
       "        text-align: right;\n",
       "    }\n",
       "</style>\n",
       "<table border=\"1\" class=\"dataframe\">\n",
       "  <thead>\n",
       "    <tr style=\"text-align: right;\">\n",
       "      <th></th>\n",
       "      <th>w_mean_inferred</th>\n",
       "      <th>w_std_inferred</th>\n",
       "      <th>w_var_inferred</th>\n",
       "    </tr>\n",
       "  </thead>\n",
       "  <tbody>\n",
       "    <tr>\n",
       "      <th>0</th>\n",
       "      <td>1.215177</td>\n",
       "      <td>0.006481</td>\n",
       "      <td>0.000042</td>\n",
       "    </tr>\n",
       "    <tr>\n",
       "      <th>1</th>\n",
       "      <td>-0.069146</td>\n",
       "      <td>0.006726</td>\n",
       "      <td>0.000045</td>\n",
       "    </tr>\n",
       "    <tr>\n",
       "      <th>2</th>\n",
       "      <td>2.085687</td>\n",
       "      <td>0.006190</td>\n",
       "      <td>0.000038</td>\n",
       "    </tr>\n",
       "    <tr>\n",
       "      <th>3</th>\n",
       "      <td>-0.325767</td>\n",
       "      <td>0.009528</td>\n",
       "      <td>0.000091</td>\n",
       "    </tr>\n",
       "    <tr>\n",
       "      <th>4</th>\n",
       "      <td>-0.330680</td>\n",
       "      <td>0.011007</td>\n",
       "      <td>0.000121</td>\n",
       "    </tr>\n",
       "  </tbody>\n",
       "</table>\n",
       "</div>"
      ],
      "text/plain": [
       "   w_mean_inferred  w_std_inferred  w_var_inferred\n",
       "0         1.215177        0.006481        0.000042\n",
       "1        -0.069146        0.006726        0.000045\n",
       "2         2.085687        0.006190        0.000038\n",
       "3        -0.325767        0.009528        0.000091\n",
       "4        -0.330680        0.011007        0.000121"
      ]
     },
     "execution_count": 16,
     "metadata": {},
     "output_type": "execute_result"
    }
   ],
   "source": [
    "w_post_params['w_var_inferred'] = w_post_params['w_std_inferred']**2\n",
    "w_post_params"
   ]
  },
  {
   "cell_type": "code",
   "execution_count": 17,
   "metadata": {},
   "outputs": [],
   "source": [
    "# Create the posterior distribution of\n",
    "w_dist_post =\\\n",
    "    norm(loc=w_post_params['w_mean_inferred'].values,\n",
    "         scale=w_post_params['w_std_inferred'].values)\n",
    "\n",
    "z_dist_post =\\\n",
    "    norm(loc=z_post_params['z_mean_inferred'].values,\n",
    "         scale=z_post_params['z_std_inferred'].values)"
   ]
  },
  {
   "cell_type": "code",
   "execution_count": 18,
   "metadata": {},
   "outputs": [],
   "source": [
    "# Set a seed for reproducibility\n",
    "np.random.seed(852)\n",
    "\n",
    "# Get posterior samples of X_standardized\n",
    "w_samples_post =\\\n",
    "    w_dist_prior.rvs((num_dimensions, NUM_PRIOR_SAMPLES))\n",
    "z_samples_post =\\\n",
    "    z_dist_prior.rvs((num_drive_alone_obs, NUM_PRIOR_SAMPLES))\n",
    "\n",
    "# Convert the posterior samples to have the desired shapes\n",
    "w_samples_post = w_samples_post[None, :, :]\n",
    "z_samples_post = z_samples_post[:, None, :]\n",
    "\n",
    "# Sample epsilon to form the posterior samples of X_standardized\n",
    "epsilon_samples_post =\\\n",
    "    np.concatenate(\n",
    "        [dist.rvs((num_drive_alone_obs, NUM_PRIOR_SAMPLES))[:, None, :]\n",
    "         for dist in epsilon_dists_prior],\n",
    "        axis=1)\n",
    "\n",
    "x_standardized_samples_post =\\\n",
    "    (np.einsum('mnr,ndr->mdr', z_samples_post, w_samples_post) +\n",
    "     epsilon_samples_post)\n",
    "\n",
    "# Get samples of X on the original scale of each variable\n",
    "x_samples_post =\\\n",
    "    (x_standardized_samples_post *\n",
    "     drive_alone_stds[None, :, None] +\n",
    "     drive_alone_means[None, :, None])"
   ]
  },
  {
   "cell_type": "code",
   "execution_count": 19,
   "metadata": {},
   "outputs": [
    {
     "name": "stdout",
     "output_type": "stream",
     "text": [
      "(3804, 5, 100)\n"
     ]
    }
   ],
   "source": [
    "# Look at the dimensions of the prior predictive samples\n",
    "print(x_samples_post.shape)"
   ]
  },
  {
   "cell_type": "markdown",
   "metadata": {},
   "source": [
    "### Visualize the posterior predictive distribution"
   ]
  },
  {
   "cell_type": "code",
   "execution_count": 20,
   "metadata": {},
   "outputs": [
    {
     "name": "stderr",
     "output_type": "stream",
     "text": [
      "/Users/tbrathwaite/anaconda2/envs/causalTRB2020/lib/python3.7/site-packages/ipykernel_launcher.py:34: UserWarning: Matplotlib is currently using module://ipykernel.pylab.backend_inline, which is a non-GUI backend, so cannot show the figure.\n"
     ]
    },
    {
     "data": {
      "image/png": "[encoded data removed]",
      "text/plain": [
       "<Figure size 720x432 with 1 Axes>"
      ]
     },
     "metadata": {},
     "output_type": "display_data"
    }
   ],
   "source": [
    "# Visualize the prior predictive ditributions\n",
    "from viz.sim_cdf import _plot_single_cdf_on_axis\n",
    "\n",
    "# Choose colors\n",
    "orig_color = '#045a8d'\n",
    "sim_color = '#a6bddb'\n",
    "\n",
    "# Choose a column of data to compare\n",
    "current_col = 0\n",
    "\n",
    "# Create the figure\n",
    "fig, ax = plt.subplots(figsize=(10, 6))\n",
    "\n",
    "# Plot the simulated cdfs\n",
    "for sim_id in range(NUM_PRIOR_SAMPLES):\n",
    "    label = 'Simulated' if sim_id == 0 else None\n",
    "    _plot_single_cdf_on_axis(\n",
    "        x_samples_post[:, current_col, sim_id], ax, color=sim_color, label=label, alpha=0.5)\n",
    "    \n",
    "# Plot the observed cdf\n",
    "_plot_single_cdf_on_axis(\n",
    "    drive_alone_df.iloc[:, current_col],\n",
    "    ax, color=orig_color, label='Observed', alpha=1.0)\n",
    "\n",
    "# Label the plot axes\n",
    "ax.set_xlabel(\"{}\".format(drive_alone_variables[current_col]), fontsize=12)\n",
    "ax.set_ylabel(\"Cumulative\\nDensity\\nFunction\",\n",
    "              rotation=0, labelpad=40, fontsize=12)\n",
    "\n",
    "# Show the line labels\n",
    "plt.legend(loc='best')\n",
    "\n",
    "sbn.despine()\n",
    "fig.show()"
   ]
  },
  {
   "cell_type": "code",
   "execution_count": 21,
   "metadata": {},
   "outputs": [
    {
     "data": {
      "text/html": [
       "<div>\n",
       "<style scoped>\n",
       "    .dataframe tbody tr th:only-of-type {\n",
       "        vertical-align: middle;\n",
       "    }\n",
       "\n",
       "    .dataframe tbody tr th {\n",
       "        vertical-align: top;\n",
       "    }\n",
       "\n",
       "    .dataframe thead th {\n",
       "        text-align: right;\n",
       "    }\n",
       "</style>\n",
       "<table border=\"1\" class=\"dataframe\">\n",
       "  <thead>\n",
       "    <tr style=\"text-align: right;\">\n",
       "      <th></th>\n",
       "      <th>total_travel_distance_prior</th>\n",
       "      <th>total_travel_distance_post</th>\n",
       "      <th>total_travel_distance_obs</th>\n",
       "    </tr>\n",
       "  </thead>\n",
       "  <tbody>\n",
       "    <tr>\n",
       "      <th>count</th>\n",
       "      <td>3804.000000</td>\n",
       "      <td>3804.000000</td>\n",
       "      <td>3804.000000</td>\n",
       "    </tr>\n",
       "    <tr>\n",
       "      <th>mean</th>\n",
       "      <td>15.489261</td>\n",
       "      <td>15.511790</td>\n",
       "      <td>15.579498</td>\n",
       "    </tr>\n",
       "    <tr>\n",
       "      <th>std</th>\n",
       "      <td>3.376269</td>\n",
       "      <td>5.521699</td>\n",
       "      <td>18.465879</td>\n",
       "    </tr>\n",
       "    <tr>\n",
       "      <th>min</th>\n",
       "      <td>4.157128</td>\n",
       "      <td>-3.936008</td>\n",
       "      <td>0.400000</td>\n",
       "    </tr>\n",
       "    <tr>\n",
       "      <th>25%</th>\n",
       "      <td>13.164154</td>\n",
       "      <td>11.796725</td>\n",
       "      <td>3.497500</td>\n",
       "    </tr>\n",
       "    <tr>\n",
       "      <th>50%</th>\n",
       "      <td>15.488496</td>\n",
       "      <td>15.460521</td>\n",
       "      <td>7.730000</td>\n",
       "    </tr>\n",
       "    <tr>\n",
       "      <th>75%</th>\n",
       "      <td>17.710862</td>\n",
       "      <td>19.275645</td>\n",
       "      <td>21.257500</td>\n",
       "    </tr>\n",
       "    <tr>\n",
       "      <th>max</th>\n",
       "      <td>27.587094</td>\n",
       "      <td>34.115920</td>\n",
       "      <td>157.150000</td>\n",
       "    </tr>\n",
       "  </tbody>\n",
       "</table>\n",
       "</div>"
      ],
      "text/plain": [
       "       total_travel_distance_prior  total_travel_distance_post  \\\n",
       "count                  3804.000000                 3804.000000   \n",
       "mean                     15.489261                   15.511790   \n",
       "std                       3.376269                    5.521699   \n",
       "min                       4.157128                   -3.936008   \n",
       "25%                      13.164154                   11.796725   \n",
       "50%                      15.488496                   15.460521   \n",
       "75%                      17.710862                   19.275645   \n",
       "max                      27.587094                   34.115920   \n",
       "\n",
       "       total_travel_distance_obs  \n",
       "count                3804.000000  \n",
       "mean                   15.579498  \n",
       "std                    18.465879  \n",
       "min                     0.400000  \n",
       "25%                     3.497500  \n",
       "50%                     7.730000  \n",
       "75%                    21.257500  \n",
       "max                   157.150000  "
      ]
     },
     "execution_count": 21,
     "metadata": {},
     "output_type": "execute_result"
    }
   ],
   "source": [
    "# Compare a single sample from the prior and posterior distributions\n",
    "# to the observed data\n",
    "total_travel_dist_samples =\\\n",
    "    pd.DataFrame({'total_travel_distance_prior': x_samples_prior[:, 0, 0],\n",
    "                  'total_travel_distance_post': x_samples_post[:, 0, 0],\n",
    "                  'total_travel_distance_obs':\n",
    "                      drive_alone_df['total_travel_distance'].values})\n",
    "\n",
    "total_travel_dist_samples.describe()"
   ]
  },
  {
   "cell_type": "markdown",
   "metadata": {},
   "source": [
    "The plot above summarizes the posterior distribution of the total travel distance.\n",
    "Similar to the prior distribution of the same variable, the posterior poorly fits the data.\n",
    "As before, we can immediately expect the posterior predictive version of the conditional independence to fail since the observed data is generally unlike the sampled data.\n",
    "This is dissimilarity is, a-priori, expected to remain in the conditional independence test."
   ]
  },
  {
   "cell_type": "code",
   "execution_count": 22,
   "metadata": {},
   "outputs": [
    {
     "data": {
      "application/vnd.jupyter.widget-view+json": {
       "model_id": "699bc187e57d46199f7e3ad0a182e2b8",
       "version_major": 2,
       "version_minor": 0
      },
      "text/plain": [
       "HBox(children=(FloatProgress(value=0.0), HTML(value='')))"
      ]
     },
     "metadata": {},
     "output_type": "display_data"
    },
    {
     "name": "stdout",
     "output_type": "stream",
     "text": [
      "\n",
      "The p-value of the predictive, permutation C.I.T. is 0.97.\n"
     ]
    },
    {
     "name": "stderr",
     "output_type": "stream",
     "text": [
      "/Users/tbrathwaite/anaconda2/envs/causalTRB2020/lib/python3.7/site-packages/ipykernel_launcher.py:146: UserWarning: Matplotlib is currently using module://ipykernel.pylab.backend_inline, which is a non-GUI backend, so cannot show the figure.\n"
     ]
    },
    {
     "data": {
      "image/png": "[encoded data removed]",
      "text/plain": [
       "<Figure size 720x432 with 1 Axes>"
      ]
     },
     "metadata": {},
     "output_type": "display_data"
    }
   ],
   "source": [
    "# Get the prior predictive values for the test\n",
    "posterior_samples_triplet =\\\n",
    "    np.concatenate((x_samples_post[:, cols_for_test, :],\n",
    "                    z_samples_post),\n",
    "                   axis=1)\n",
    "\n",
    "# Test out the predictive conditional independence test\n",
    "post_pval, post_sampled_pvals, post_obs_pvals =\\\n",
    "    perform_visual_predictive_cit_test(\n",
    "        posterior_samples_triplet,\n",
    "        obs_sample)"
   ]
  },
  {
   "cell_type": "code",
   "execution_count": 23,
   "metadata": {},
   "outputs": [
    {
     "data": {
      "text/plain": [
       "<matplotlib.axes._subplots.AxesSubplot at 0x1a23b61110>"
      ]
     },
     "execution_count": 23,
     "metadata": {},
     "output_type": "execute_result"
    },
    {
     "data": {
      "image/png": "[encoded data removed]",
      "text/plain": [
       "<Figure size 432x288 with 1 Axes>"
      ]
     },
     "metadata": {},
     "output_type": "display_data"
    }
   ],
   "source": [
    "sbn.kdeplot(post_sampled_pvals)"
   ]
  },
  {
   "cell_type": "code",
   "execution_count": 24,
   "metadata": {},
   "outputs": [
    {
     "name": "stdout",
     "output_type": "stream",
     "text": [
      "[0. 0. 0. 0. 0. 0. 0. 0. 0. 0. 0. 0. 0. 0. 0. 0. 0. 0. 0. 0. 0. 0. 0. 0.\n",
      " 0. 0. 0. 0. 0. 0. 0. 0. 0. 0. 0. 0. 0. 0. 0. 0. 0. 0. 0. 0. 0. 0. 0. 0.\n",
      " 0. 0. 0. 0. 0. 0. 0. 0. 0. 0. 0. 0. 0. 0. 0. 0. 0. 0. 0. 0. 0. 0. 0. 0.\n",
      " 0. 0. 0. 0. 0. 0. 0. 0. 0. 0. 0. 0. 0. 0. 0. 0. 0. 0. 0. 0. 0. 0. 0. 0.\n",
      " 0. 0. 0. 0.]\n"
     ]
    }
   ],
   "source": [
    "print(post_obs_pvals)"
   ]
  },
  {
   "cell_type": "markdown",
   "metadata": {},
   "source": [
    "# Test the predictive conditional independence tests\n",
    "Make sure that the predictive condidtional independence tests are passed when using data that we know satisfies the independence assumptions being tested"
   ]
  },
  {
   "cell_type": "code",
   "execution_count": 25,
   "metadata": {},
   "outputs": [
    {
     "data": {
      "application/vnd.jupyter.widget-view+json": {
       "model_id": "940cd9e0bdf441569ebcacc57fe5afb5",
       "version_major": 2,
       "version_minor": 0
      },
      "text/plain": [
       "HBox(children=(FloatProgress(value=0.0), HTML(value='')))"
      ]
     },
     "metadata": {},
     "output_type": "display_data"
    },
    {
     "name": "stdout",
     "output_type": "stream",
     "text": [
      "\n",
      "The p-value of the predictive, permutation C.I.T. is 0.98.\n"
     ]
    },
    {
     "name": "stderr",
     "output_type": "stream",
     "text": [
      "/Users/tbrathwaite/anaconda2/envs/causalTRB2020/lib/python3.7/site-packages/ipykernel_launcher.py:146: UserWarning: Matplotlib is currently using module://ipykernel.pylab.backend_inline, which is a non-GUI backend, so cannot show the figure.\n"
     ]
    },
    {
     "data": {
      "image/png": "[encoded data removed]",
      "text/plain": [
       "<Figure size 720x432 with 1 Axes>"
      ]
     },
     "metadata": {},
     "output_type": "display_data"
    }
   ],
   "source": [
    "chosen_sim_idx = 50\n",
    "\n",
    "# Test the predictive C.I.T with a prior sample\n",
    "prior_sim_sample = x_samples_prior[:, cols_for_test, chosen_sim_idx]\n",
    "prior_pval_sim, prior_sampled_pvals_sim, prior_obs_pvals_sim =\\\n",
    "    perform_visual_predictive_cit_test(\n",
    "        prior_samples_triplet,\n",
    "        prior_sim_sample)"
   ]
  },
  {
   "cell_type": "code",
   "execution_count": 26,
   "metadata": {},
   "outputs": [
    {
     "data": {
      "text/plain": [
       "array([0.82, 0.69, 0.36, 0.69, 0.63, 0.3 , 0.6 , 0.47, 0.7 , 0.37, 0.2 ,\n",
       "       0.85, 0.86, 0.8 , 0.14, 0.62, 0.4 , 0.38, 0.  , 0.26, 0.42, 0.93,\n",
       "       0.39, 0.82, 0.66, 0.56, 0.31, 0.22, 0.93, 0.86, 0.27, 0.31, 0.5 ,\n",
       "       0.82, 0.55, 0.68, 0.06, 0.2 , 0.58, 0.34, 0.29, 0.24, 0.14, 0.56,\n",
       "       1.  , 0.33, 0.39, 0.79, 0.24, 0.66, 0.29, 0.64, 0.64, 0.64, 0.62,\n",
       "       0.41, 0.2 , 0.94, 0.23, 0.02, 0.21, 0.22, 0.51, 0.17, 0.47, 0.8 ,\n",
       "       0.04, 0.34, 0.87, 0.9 , 0.95, 0.95, 0.43, 0.85, 0.75, 0.84, 0.4 ,\n",
       "       0.48, 0.45, 0.77, 0.49, 0.2 , 0.41, 0.63, 0.93, 0.41, 0.53, 0.62,\n",
       "       0.9 , 0.74, 0.79, 0.17, 0.71, 0.05, 0.87, 0.46, 0.27, 0.38, 0.62,\n",
       "       0.04])"
      ]
     },
     "execution_count": 26,
     "metadata": {},
     "output_type": "execute_result"
    }
   ],
   "source": [
    "prior_sampled_pvals_sim"
   ]
  },
  {
   "cell_type": "code",
   "execution_count": 27,
   "metadata": {},
   "outputs": [
    {
     "data": {
      "text/plain": [
       "array([0.  , 0.  , 0.  , 0.  , 0.  , 0.  , 0.  , 0.  , 0.  , 0.  , 0.  ,\n",
       "       0.  , 0.  , 0.  , 0.  , 0.  , 0.  , 0.  , 0.  , 0.  , 0.  , 0.  ,\n",
       "       0.  , 0.  , 0.  , 0.  , 0.  , 0.  , 0.  , 0.  , 0.  , 0.  , 0.  ,\n",
       "       0.  , 0.  , 0.  , 0.  , 0.  , 0.  , 0.  , 0.  , 0.  , 0.  , 0.  ,\n",
       "       0.  , 0.  , 0.  , 0.  , 0.  , 0.  , 0.39, 0.  , 0.  , 0.  , 0.  ,\n",
       "       0.  , 0.  , 0.  , 0.  , 0.  , 0.  , 0.  , 0.  , 0.  , 0.  , 0.  ,\n",
       "       0.  , 0.  , 0.  , 0.  , 0.  , 0.  , 0.  , 0.  , 0.  , 0.  , 0.  ,\n",
       "       0.  , 0.  , 0.  , 0.  , 0.  , 0.  , 0.  , 0.  , 0.  , 0.  , 0.  ,\n",
       "       0.  , 0.  , 0.  , 0.  , 0.  , 0.  , 0.  , 0.  , 0.  , 0.  , 0.  ,\n",
       "       0.  ])"
      ]
     },
     "execution_count": 27,
     "metadata": {},
     "output_type": "execute_result"
    }
   ],
   "source": [
    "prior_obs_pvals_sim"
   ]
  },
  {
   "cell_type": "code",
   "execution_count": 28,
   "metadata": {},
   "outputs": [
    {
     "name": "stdout",
     "output_type": "stream",
     "text": [
      "Automatic pdb calling has been turned ON\n"
     ]
    },
    {
     "data": {
      "application/vnd.jupyter.widget-view+json": {
       "model_id": "858c12b19ba14c4fa7fec74fb5967b22",
       "version_major": 2,
       "version_minor": 0
      },
      "text/plain": [
       "HBox(children=(FloatProgress(value=0.0), HTML(value='')))"
      ]
     },
     "metadata": {},
     "output_type": "display_data"
    },
    {
     "name": "stdout",
     "output_type": "stream",
     "text": [
      "\n",
      "The p-value of the predictive, permutation C.I.T. is 0.96.\n"
     ]
    },
    {
     "name": "stderr",
     "output_type": "stream",
     "text": [
      "/Users/tbrathwaite/anaconda2/envs/causalTRB2020/lib/python3.7/site-packages/ipykernel_launcher.py:146: UserWarning: Matplotlib is currently using module://ipykernel.pylab.backend_inline, which is a non-GUI backend, so cannot show the figure.\n"
     ]
    },
    {
     "data": {
      "image/png": "[encoded data removed]",
      "text/plain": [
       "<Figure size 720x432 with 1 Axes>"
      ]
     },
     "metadata": {},
     "output_type": "display_data"
    }
   ],
   "source": [
    "# Test the predictive C.I.T with a prior sample\n",
    "%pdb on\n",
    "post_sim_sample = x_samples_post[:, cols_for_test, chosen_sim_idx]\n",
    "post_pval_sim, post_sampled_pvals_sim, post_obs_pvals_sim =\\\n",
    "    perform_visual_predictive_cit_test(\n",
    "        posterior_samples_triplet,\n",
    "        post_sim_sample)"
   ]
  },
  {
   "cell_type": "code",
   "execution_count": 29,
   "metadata": {},
   "outputs": [
    {
     "data": {
      "text/plain": [
       "array([0.24, 0.15, 0.87, 0.29, 0.5 , 0.78, 0.77, 0.62, 0.69, 0.08, 0.01,\n",
       "       0.66, 0.75, 0.34, 0.67, 0.81, 0.7 , 0.45, 0.49, 0.68, 0.  , 0.34,\n",
       "       0.39, 0.5 , 0.15, 0.51, 0.03, 0.03, 0.47, 0.06, 0.24, 0.42, 0.4 ,\n",
       "       0.45, 0.06, 0.94, 0.68, 0.85, 0.83, 0.44, 0.56, 0.38, 0.2 , 0.11,\n",
       "       0.63, 0.73, 0.4 , 0.08, 0.93, 0.25, 0.03, 0.9 , 0.89, 0.64, 0.61,\n",
       "       0.81, 0.55, 0.43, 0.06, 0.97, 0.19, 0.19, 0.36, 0.09, 0.89, 0.67,\n",
       "       0.87, 0.82, 0.5 , 0.69, 0.04, 0.72, 0.66, 0.46, 0.5 , 0.15, 0.6 ,\n",
       "       0.41, 0.  , 0.51, 0.22, 0.43, 0.54, 0.06, 0.88, 0.84, 0.24, 0.97,\n",
       "       0.32, 0.02, 0.42, 0.84, 0.61, 0.76, 0.98, 0.22, 0.68, 0.  , 0.97,\n",
       "       0.85])"
      ]
     },
     "execution_count": 29,
     "metadata": {},
     "output_type": "execute_result"
    }
   ],
   "source": [
    "post_sampled_pvals_sim"
   ]
  },
  {
   "cell_type": "code",
   "execution_count": 30,
   "metadata": {},
   "outputs": [
    {
     "data": {
      "text/plain": [
       "array([0.  , 0.  , 0.  , 0.  , 0.  , 0.  , 0.  , 0.  , 0.  , 0.  , 0.  ,\n",
       "       0.  , 0.  , 0.  , 0.  , 0.  , 0.  , 0.  , 0.  , 0.  , 0.  , 0.  ,\n",
       "       0.  , 0.  , 0.  , 0.  , 0.  , 0.  , 0.  , 0.  , 0.  , 0.  , 0.  ,\n",
       "       0.  , 0.  , 0.  , 0.  , 0.  , 0.  , 0.  , 0.  , 0.  , 0.  , 0.  ,\n",
       "       0.  , 0.  , 0.  , 0.  , 0.  , 0.  , 0.09, 0.  , 0.  , 0.  , 0.  ,\n",
       "       0.  , 0.  , 0.  , 0.  , 0.  , 0.  , 0.  , 0.  , 0.  , 0.  , 0.  ,\n",
       "       0.  , 0.  , 0.  , 0.  , 0.  , 0.  , 0.  , 0.  , 0.  , 0.  , 0.  ,\n",
       "       0.  , 0.  , 0.  , 0.  , 0.  , 0.  , 0.  , 0.  , 0.  , 0.  , 0.  ,\n",
       "       0.  , 0.  , 0.  , 0.  , 0.  , 0.  , 0.  , 0.  , 0.  , 0.  , 0.  ,\n",
       "       0.  ])"
      ]
     },
     "execution_count": 30,
     "metadata": {},
     "output_type": "execute_result"
    }
   ],
   "source": [
    "post_obs_pvals_sim"
   ]
  },
  {
   "cell_type": "markdown",
   "metadata": {},
   "source": [
    "# Conclusions\n",
    "From the results above, a few things are apparent.\n",
    "\n",
    "1. The prior distribution for this particular implementation of the deconfounder is a very poor description of reality. A-priori, our prior beliefs are in severe conflict with our data and are likely in need or revising to be more plausible. For instance, we should never be simulating negative values for `total_travel_distance`.\n",
    "2. The posterior distribution for this particular implementation of the deconfounder is still a poor description of our data.\n",
    "3. In order for the predictive conditional independence tests to pass, the inferred latent confounder values must be extremely close to the true latent confounder values. This provides a secondary piece of evidence supporting the finding from Hassan's deconfounder investigation.\n",
    "   1. The only instance of the test of the deconfounder that succeeded in generating a non-zero p-value (see cell above) is the instance where the value being used as the \"observation\" was paired with its own latent confounders.\n",
    "   2. In order for many instances of the test of the deconfounder to succeed in generating non-zero p-values, we'd need most of the simulated latent confounder values to cluster around their true latent confounder values."
   ]
  }
 ],
 "metadata": {
  "jupytext": {
   "formats": "ipynb,md,py"
  },
  "kernelspec": {
   "display_name": "Python 3",
   "language": "python",
   "name": "python3"
  },
  "language_info": {
   "codemirror_mode": {
    "name": "ipython",
    "version": 3
   },
   "file_extension": ".py",
   "mimetype": "text/x-python",
   "name": "python",
   "nbconvert_exporter": "python",
   "pygments_lexer": "ipython3",
   "version": "3.7.6"
  }
 },
 "nbformat": 4,
 "nbformat_minor": 4
}
