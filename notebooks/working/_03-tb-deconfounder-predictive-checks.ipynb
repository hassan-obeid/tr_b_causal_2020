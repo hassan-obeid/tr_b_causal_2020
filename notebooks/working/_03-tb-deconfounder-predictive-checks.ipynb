{
 "cells": [
  {
   "cell_type": "markdown",
   "metadata": {},
   "source": [
    "# Purpose\n",
    "\n",
    "The purpose of this notebook is to demonstrate prior and predictive checks of one's causal graphical model.\n",
    "\n",
    "The prior checks are to be used as part of one's falsification efforts before estimating the posterior distribution of one's unknown model parameters. If one's causal model contains latent variables, then such prior checks are expected to be extremely valuable. They are expected to indicate when one's model is likely to poorly fit one's data. This information can be used to avoid a potentially lengthy model estimation process. These checks will likely be implemented with very liberal thresholds for deciding that a model is not even worth beign estimated.\n",
    "\n",
    "The posterior predictive checks are to really ensure that the observed data is well fit by the assumptions of one's causal model.\n",
    "\n",
    "# Logical steps\n",
    "0. Determine the test statistic to be computed.\n",
    "1. Require as inputs:\n",
    "   1. predictive samples of all model variables (latent and observed),\n",
    "   2. function to compute the desired test statistic given a sample from the causal graph,\n",
    "   3. the observed data.\n",
    "   4. function to plot the distribution of the simulated test statistic and the value/distribution of the observed test statistic.\n",
    "2. For each predictive sample,\n",
    "   1. Compute the value of the simulated and observed test statistic (assuming the observed test statistic also depends on the simulated values. If not, simply store the value of the observed test statistic and do not recompute it.)\n",
    "   2. Store the simulated and observed test statistics.\n",
    "3. Visualize the distribution of the simulated and observed test statistics.\n",
    "4. Produce a scalar summary of the distribution of simulated test statistics if desired."
   ]
  },
  {
   "cell_type": "markdown",
   "metadata": {},
   "source": [
    "## Needed refactoring\n",
    "1. <strike>Pass `num_permutations` through `compute_predictive_independence_test_value` and `perform_visual_predictive_cit_test`.</strike>\n",
    "2. <strike>Replace `_make_regressor` and `computed_vs_obs_r2` with their analogous functions in `testing.observable_independence`.</strike>\n",
    "3. <strike>Add type hints and docstrings to `compute_pvalue`. Make sure `obs_r2` can be a scalar or 1D ndarray. `Make sure permuted_r2` is a 1D ndarray.</strike>\n",
    "4. <strike>Add type hints and docstrings to all functions.</strike>\n",
    "5. <strike>Add an `output_path` argument to `visualize_predictive_cit_results` and `perform_visual_predictive_cit_test` so that these functions can save the created plot to a given file location.</strike>\n",
    "6. <strike>Move `predictive_cit` functions to standalone file.</strike>\n",
    "7. <strike>Move causal graph to standalone file.</strike>\n",
    "8. <strike>Create functions for plotting simulated CDFs in a regression context.</strike>\n",
    "9. <strike>Move CDF plotting functions to standalone file.</strike>\n",
    "10. Move prior and posterior sampling logic to a standalone file.\n",
    "11. Write more description of what is being done in the various cells and why."
   ]
  },
  {
   "cell_type": "markdown",
   "metadata": {},
   "source": [
    "## Declare notebook parameters"
   ]
  },
  {
   "cell_type": "code",
   "execution_count": 1,
   "metadata": {},
   "outputs": [],
   "source": [
    "# Declare hyperparameters for testing\n",
    "NUM_PRIOR_SAMPLES = 100\n",
    "\n",
    "# Declare the columns to be used for testing\n",
    "x1_col = 'num_cars'\n",
    "x2_col = 'num_licensed_drivers'\n",
    "mode_id_col = 'mode_id'\n",
    "\n",
    "# Declare paths to data\n",
    "DATA_PATH =\\\n",
    "    '../../data/raw/spring_2016_all_bay_area_long_format_plus_cross_bay_col.csv'\n",
    "# Note that these files are based on using the `confounder`\n",
    "# function from `Causal_Graph_Tim_Data.ipynb`, where the\n",
    "# confounder function replicates the PPCA model of Wang\n",
    "# and Blei (2018)\n",
    "PATH_TO_W_PARAMS = '../../data/processed/W_inferred_PPCA.csv'\n",
    "PATH_TO_Z_PARAMS = '../../data/processed/Z_inferred_PPCA.csv'"
   ]
  },
  {
   "cell_type": "markdown",
   "metadata": {},
   "source": [
    "## Execute needed imports"
   ]
  },
  {
   "cell_type": "code",
   "execution_count": 2,
   "metadata": {},
   "outputs": [],
   "source": [
    "# Built-in modules\n",
    "import sys\n",
    "\n",
    "# Third-party modules\n",
    "import numpy as np\n",
    "import pandas as pd\n",
    "from scipy.stats import norm\n",
    "\n",
    "import seaborn as sbn\n",
    "import matplotlib.pyplot as plt\n",
    "%matplotlib inline\n",
    "\n",
    "# Local modules\n",
    "sys.path.insert(0, '../../')\n",
    "import src.viz.sim_cdf as sim_cdf\n",
    "import src.testing.observable_independence as oi\n",
    "import src.testing.latent_independence as li\n",
    "from src.graphs.drive_alone_utility import DRIVE_ALONE_UTILITY"
   ]
  },
  {
   "cell_type": "markdown",
   "metadata": {},
   "source": [
    "## Extract data for the factor model checks"
   ]
  },
  {
   "cell_type": "code",
   "execution_count": 3,
   "metadata": {},
   "outputs": [],
   "source": [
    "# Load the raw data\n",
    "df = pd.read_csv(DATA_PATH)"
   ]
  },
  {
   "cell_type": "code",
   "execution_count": 4,
   "metadata": {},
   "outputs": [
    {
     "data": {
      "image/svg+xml": [
       "<?xml version=\"1.0\" encoding=\"UTF-8\" standalone=\"no\"?>\n",
       "<!DOCTYPE svg PUBLIC \"-//W3C//DTD SVG 1.1//EN\"\n",
       " \"http://www.w3.org/Graphics/SVG/1.1/DTD/svg11.dtd\">\n",
       "<!-- Generated by graphviz version 2.38.0 (20140413.2041)\n",
       " -->\n",
       "<!-- Title: %3 Pages: 1 -->\n",
       "<svg width=\"720pt\" height=\"179pt\"\n",
       " viewBox=\"0.00 0.00 720.00 179.27\" xmlns=\"http://www.w3.org/2000/svg\" xmlns:xlink=\"http://www.w3.org/1999/xlink\">\n",
       "<g id=\"graph0\" class=\"graph\" transform=\"scale(0.953586 0.953586) rotate(0) translate(4 184)\">\n",
       "<title>%3</title>\n",
       "<polygon fill=\"white\" stroke=\"none\" points=\"-4,4 -4,-184 751.045,-184 751.045,4 -4,4\"/>\n",
       "<!-- Number of Licensed Drivers -->\n",
       "<g id=\"node1\" class=\"node\"><title>Number of Licensed Drivers</title>\n",
       "<ellipse fill=\"none\" stroke=\"black\" cx=\"111.526\" cy=\"-90\" rx=\"111.552\" ry=\"18\"/>\n",
       "<text text-anchor=\"middle\" x=\"111.526\" y=\"-85.8\" font-family=\"Times,serif\" font-size=\"14.00\">Number of Licensed Drivers</text>\n",
       "</g>\n",
       "<!-- Utility (Drive Alone) -->\n",
       "<g id=\"node4\" class=\"node\"><title>Utility (Drive Alone)</title>\n",
       "<ellipse fill=\"none\" stroke=\"black\" cx=\"415.526\" cy=\"-18\" rx=\"84.5514\" ry=\"18\"/>\n",
       "<text text-anchor=\"middle\" x=\"415.526\" y=\"-13.8\" font-family=\"Times,serif\" font-size=\"14.00\">Utility (Drive Alone)</text>\n",
       "</g>\n",
       "<!-- Number of Licensed Drivers&#45;&gt;Utility (Drive Alone) -->\n",
       "<g id=\"edge7\" class=\"edge\"><title>Number of Licensed Drivers&#45;&gt;Utility (Drive Alone)</title>\n",
       "<path fill=\"none\" stroke=\"black\" d=\"M172.679,-74.9187C224.233,-63.0477 297.81,-46.1058 350.443,-33.9861\"/>\n",
       "<polygon fill=\"black\" stroke=\"black\" points=\"351.388,-37.3603 360.348,-31.7056 349.817,-30.5388 351.388,-37.3603\"/>\n",
       "</g>\n",
       "<!-- Total Travel Time -->\n",
       "<g id=\"node2\" class=\"node\"><title>Total Travel Time</title>\n",
       "<ellipse fill=\"none\" stroke=\"black\" cx=\"314.526\" cy=\"-90\" rx=\"73.2773\" ry=\"18\"/>\n",
       "<text text-anchor=\"middle\" x=\"314.526\" y=\"-85.8\" font-family=\"Times,serif\" font-size=\"14.00\">Total Travel Time</text>\n",
       "</g>\n",
       "<!-- Total Travel Time&#45;&gt;Utility (Drive Alone) -->\n",
       "<g id=\"edge4\" class=\"edge\"><title>Total Travel Time&#45;&gt;Utility (Drive Alone)</title>\n",
       "<path fill=\"none\" stroke=\"black\" d=\"M337.951,-72.7646C351.494,-63.3788 368.724,-51.4369 383.505,-41.1929\"/>\n",
       "<polygon fill=\"black\" stroke=\"black\" points=\"385.653,-43.9628 391.878,-35.3898 381.665,-38.2095 385.653,-43.9628\"/>\n",
       "</g>\n",
       "<!-- Number of Autos -->\n",
       "<g id=\"node3\" class=\"node\"><title>Number of Autos</title>\n",
       "<ellipse fill=\"none\" stroke=\"black\" cx=\"675.526\" cy=\"-90\" rx=\"71.5376\" ry=\"18\"/>\n",
       "<text text-anchor=\"middle\" x=\"675.526\" y=\"-85.8\" font-family=\"Times,serif\" font-size=\"14.00\">Number of Autos</text>\n",
       "</g>\n",
       "<!-- Number of Autos&#45;&gt;Utility (Drive Alone) -->\n",
       "<g id=\"edge6\" class=\"edge\"><title>Number of Autos&#45;&gt;Utility (Drive Alone)</title>\n",
       "<path fill=\"none\" stroke=\"black\" d=\"M628.442,-76.3235C585.633,-64.7981 522.236,-47.7297 475.753,-35.2148\"/>\n",
       "<polygon fill=\"black\" stroke=\"black\" points=\"476.374,-31.7577 465.808,-32.5375 474.555,-38.517 476.374,-31.7577\"/>\n",
       "</g>\n",
       "<!-- Total Travel Distance -->\n",
       "<g id=\"node5\" class=\"node\"><title>Total Travel Distance</title>\n",
       "<ellipse fill=\"none\" stroke=\"black\" cx=\"415.526\" cy=\"-162\" rx=\"86.2541\" ry=\"18\"/>\n",
       "<text text-anchor=\"middle\" x=\"415.526\" y=\"-157.8\" font-family=\"Times,serif\" font-size=\"14.00\">Total Travel Distance</text>\n",
       "</g>\n",
       "<!-- Total Travel Distance&#45;&gt;Total Travel Time -->\n",
       "<g id=\"edge1\" class=\"edge\"><title>Total Travel Distance&#45;&gt;Total Travel Time</title>\n",
       "<path fill=\"none\" stroke=\"black\" d=\"M391.846,-144.588C378.296,-135.197 361.118,-123.291 346.396,-113.088\"/>\n",
       "<polygon fill=\"black\" stroke=\"black\" points=\"348.27,-110.129 338.058,-107.309 344.283,-115.882 348.27,-110.129\"/>\n",
       "</g>\n",
       "<!-- Total Travel Distance&#45;&gt;Utility (Drive Alone) -->\n",
       "<g id=\"edge3\" class=\"edge\"><title>Total Travel Distance&#45;&gt;Utility (Drive Alone)</title>\n",
       "<path fill=\"none\" stroke=\"black\" d=\"M415.526,-143.871C415.526,-119.67 415.526,-75.2108 415.526,-46.3932\"/>\n",
       "<polygon fill=\"black\" stroke=\"black\" points=\"419.026,-46.1892 415.526,-36.1893 412.026,-46.1893 419.026,-46.1892\"/>\n",
       "</g>\n",
       "<!-- Total Travel Cost -->\n",
       "<g id=\"node6\" class=\"node\"><title>Total Travel Cost</title>\n",
       "<ellipse fill=\"none\" stroke=\"black\" cx=\"514.526\" cy=\"-90\" rx=\"71.3132\" ry=\"18\"/>\n",
       "<text text-anchor=\"middle\" x=\"514.526\" y=\"-85.8\" font-family=\"Times,serif\" font-size=\"14.00\">Total Travel Cost</text>\n",
       "</g>\n",
       "<!-- Total Travel Distance&#45;&gt;Total Travel Cost -->\n",
       "<g id=\"edge2\" class=\"edge\"><title>Total Travel Distance&#45;&gt;Total Travel Cost</title>\n",
       "<path fill=\"none\" stroke=\"black\" d=\"M438.737,-144.588C452.114,-135.13 469.099,-123.12 483.598,-112.868\"/>\n",
       "<polygon fill=\"black\" stroke=\"black\" points=\"485.657,-115.699 491.802,-107.068 481.616,-109.983 485.657,-115.699\"/>\n",
       "</g>\n",
       "<!-- Total Travel Cost&#45;&gt;Utility (Drive Alone) -->\n",
       "<g id=\"edge5\" class=\"edge\"><title>Total Travel Cost&#45;&gt;Utility (Drive Alone)</title>\n",
       "<path fill=\"none\" stroke=\"black\" d=\"M491.565,-72.7646C478.29,-63.3788 461.401,-51.4369 446.913,-41.1929\"/>\n",
       "<polygon fill=\"black\" stroke=\"black\" points=\"448.892,-38.3053 438.706,-35.3898 444.85,-44.0209 448.892,-38.3053\"/>\n",
       "</g>\n",
       "</g>\n",
       "</svg>\n"
      ],
      "text/plain": [
       "<graphviz.dot.Digraph at 0x1024e49e8>"
      ]
     },
     "execution_count": 4,
     "metadata": {},
     "output_type": "execute_result"
    }
   ],
   "source": [
    "# Draw the causal model motivating this test\n",
    "causal_graph = DRIVE_ALONE_UTILITY.draw()\n",
    "causal_graph.graph_attr.update(size=\"10,6\")\n",
    "causal_graph"
   ]
  },
  {
   "cell_type": "code",
   "execution_count": 5,
   "metadata": {},
   "outputs": [
    {
     "name": "stdout",
     "output_type": "stream",
     "text": [
      "                            mean        std\n",
      "total_travel_distance  15.579498  18.465879\n",
      "total_travel_cost       3.289287   4.214448\n",
      "total_travel_time      29.667137  24.586569\n",
      "num_cars                2.050999   0.880458\n",
      "num_licensed_drivers    2.178759   0.751621\n"
     ]
    }
   ],
   "source": [
    "# Create a list of the variables in the drive alone utility\n",
    "drive_alone_variables =\\\n",
    "    ['total_travel_distance',\n",
    "     'total_travel_cost',\n",
    "     'total_travel_time',\n",
    "     'num_cars',\n",
    "     'num_licensed_drivers'\n",
    "    ]\n",
    "\n",
    "# Create a sub-dataframe with those variables\n",
    "drive_alone_df =\\\n",
    "    df.loc[df['mode_id'] == 1, drive_alone_variables]\n",
    "\n",
    "# Get the means and standard deviations of those variables\n",
    "drive_alone_means = drive_alone_df.mean()\n",
    "drive_alone_means.name = 'mean'\n",
    "\n",
    "drive_alone_stds = drive_alone_df.std()\n",
    "drive_alone_stds.name = 'std'\n",
    "\n",
    "# Look at the computed means and standard deviations\n",
    "print(pd.DataFrame([drive_alone_means, drive_alone_stds]).T)"
   ]
  },
  {
   "cell_type": "markdown",
   "metadata": {},
   "source": [
    "## Specify the factor model that is to be checked\n",
    "\n",
    "In Wang and Blei's deconfounder technique, we fit a factor model to the variables in one's outcome model.\n",
    "\n",
    "The factor model being considered here is:\n",
    "\n",
    "$\n",
    "\\begin{aligned}\n",
    "X_{\\textrm{standardized}} &= Z * W + \\epsilon\\\\\n",
    "\\textrm{where } \\epsilon &= \\left[ \\epsilon_1, \\epsilon_2, ..., \\epsilon_D \\right]\\\\\n",
    "\\epsilon_d &\\in \\mathbb{R}^{\\textrm{N x 1}}\\\\\n",
    "\\epsilon_d &\\sim \\mathcal{N} \\left(0, \\sigma \\right) \\forall d \\in \\left\\lbrace 1, 2, ... D \\right\\rbrace\\\\\n",
    "Z &\\in \\mathbb{R}^{\\textrm{N x 1}}\\\\\n",
    "Z &\\sim \\mathcal{N} \\left(0, 1 \\right)\\\\\n",
    "W &\\in \\mathbb{R}^{1 x D}\\\\\n",
    "W &\\sim \\mathcal{N} \\left(0, 1 \\right)\\\\\n",
    "N &= \\textrm{Number of rows in X_standardized}\\\\\n",
    "D &= \\textrm{Number of columns in X_standardized}\n",
    "\\end{aligned}\n",
    "$"
   ]
  },
  {
   "cell_type": "code",
   "execution_count": 6,
   "metadata": {},
   "outputs": [],
   "source": [
    "# Note the number of dimensions\n",
    "num_dimensions = len(drive_alone_variables)\n",
    "\n",
    "# Specify the prior distributions for the factor\n",
    "# model of the standardized drive alone dataframe\n",
    "w_dist_prior = norm(loc=0, scale=1)\n",
    "z_dist_prior = norm(loc=0, scale=1)\n",
    "\n",
    "sigma_prior = 0.1\n",
    "epsilon_dist_prior = norm(loc=0, scale=sigma_prior)"
   ]
  },
  {
   "cell_type": "markdown",
   "metadata": {},
   "source": [
    "## Generate prior predictive samples"
   ]
  },
  {
   "cell_type": "code",
   "execution_count": 7,
   "metadata": {},
   "outputs": [],
   "source": [
    "# Get the number of observations for this utility\n",
    "num_drive_alone_obs = drive_alone_df.shape[0]\n",
    "\n",
    "# Set a seed for reproducibility\n",
    "np.random.seed(721)\n",
    "\n",
    "# Get prior samples of X_standardized\n",
    "w_samples_prior =\\\n",
    "    w_dist_prior.rvs((1, num_dimensions, NUM_PRIOR_SAMPLES))\n",
    "z_samples_prior =\\\n",
    "    z_dist_prior.rvs((num_drive_alone_obs, 1, NUM_PRIOR_SAMPLES))\n",
    "\n",
    "epsilon_samples_prior =\\\n",
    "    epsilon_dist_prior.rvs(size=(num_drive_alone_obs,\n",
    "                                 num_dimensions,\n",
    "                                 NUM_PRIOR_SAMPLES))\n",
    "\n",
    "x_standardized_samples_prior =\\\n",
    "    (np.einsum('mnr,ndr->mdr', z_samples_prior, w_samples_prior) +\n",
    "     epsilon_samples_prior)\n",
    "\n",
    "# Get samples of X on the original scale of each variable\n",
    "x_samples_prior =\\\n",
    "    (x_standardized_samples_prior *\n",
    "     drive_alone_stds[None, :, None] +\n",
    "     drive_alone_means[None, :, None])"
   ]
  },
  {
   "cell_type": "code",
   "execution_count": 8,
   "metadata": {},
   "outputs": [
    {
     "name": "stdout",
     "output_type": "stream",
     "text": [
      "(3804, 5, 100)\n"
     ]
    }
   ],
   "source": [
    "# Look at the dimensions of the prior predictive samples\n",
    "print(x_samples_prior.shape)"
   ]
  },
  {
   "cell_type": "markdown",
   "metadata": {},
   "source": [
    "## Visualize the prior predictive distribution"
   ]
  },
  {
   "cell_type": "code",
   "execution_count": 9,
   "metadata": {},
   "outputs": [
    {
     "data": {
      "image/png": "[encoded data removed]",
      "text/plain": [
       "<Figure size 720x432 with 1 Axes>"
      ]
     },
     "metadata": {},
     "output_type": "display_data"
    }
   ],
   "source": [
    "# Choose a column of data to compare\n",
    "current_col = 0\n",
    "\n",
    "prior_sim_cdf =\\\n",
    "    li.plot_simulated_vs_observed_cdf(\n",
    "        drive_alone_df.iloc[:, current_col].values,\n",
    "        x_samples_prior[:, current_col, :],\n",
    "        x_label=drive_alone_variables[current_col]\n",
    "        )"
   ]
  },
  {
   "cell_type": "markdown",
   "metadata": {},
   "source": [
    "Based on the plot above, it's clear that the currently chosen prior is quite poor.\n",
    "\n",
    "In other words, there are highly visible levels of prior-data conflict.\n",
    "\n",
    "This lets us know that the prior predictive check of the deconfounder assumptions is likely to fail since the prior in general is a poor one, even without considering specific checks like conditional independence tests."
   ]
  },
  {
   "cell_type": "markdown",
   "metadata": {},
   "source": [
    "### Perform the prior predictive conditional independence test"
   ]
  },
  {
   "cell_type": "code",
   "execution_count": 10,
   "metadata": {},
   "outputs": [],
   "source": [
    "# Get the values to be used for testing\n",
    "obs_x1 =\\\n",
    "    (drive_alone_df.iloc[:, drive_alone_variables.index(x1_col)]\n",
    "                   .values)\n",
    "obs_x2 =\\\n",
    "    (drive_alone_df.iloc[:, drive_alone_variables.index(x2_col)]\n",
    "                   .values)\n",
    "obs_sample =\\\n",
    "    np.concatenate((obs_x1[:, None], obs_x2[:, None]), axis=1)"
   ]
  },
  {
   "cell_type": "code",
   "execution_count": 11,
   "metadata": {},
   "outputs": [
    {
     "data": {
      "application/vnd.jupyter.widget-view+json": {
       "model_id": "6e34929be513420a91d6c070cd8b76ab",
       "version_major": 2,
       "version_minor": 0
      },
      "text/plain": [
       "HBox(children=(FloatProgress(value=0.0), HTML(value='')))"
      ]
     },
     "metadata": {},
     "output_type": "display_data"
    },
    {
     "name": "stdout",
     "output_type": "stream",
     "text": [
      "\n",
      "The p-value of the predictive, permutation C.I.T. is 0.99.\n"
     ]
    },
    {
     "data": {
      "image/png": "[encoded data removed]",
      "text/plain": [
       "<Figure size 720x432 with 1 Axes>"
      ]
     },
     "metadata": {},
     "output_type": "display_data"
    }
   ],
   "source": [
    "cols_for_test =\\\n",
    "    [drive_alone_variables.index(col) for col in [x1_col, x2_col]]\n",
    "# Get the prior predictive values for the test\n",
    "prior_samples_triplet =\\\n",
    "    np.concatenate((x_samples_prior[:, cols_for_test, :],\n",
    "                    z_samples_prior),\n",
    "                   axis=1)\n",
    "\n",
    "# Test out the predictive conditional independence test\n",
    "pval, sampled_pvals, obs_pvals =\\\n",
    "    li.perform_visual_predictive_cit_test(\n",
    "        prior_samples_triplet,\n",
    "        obs_sample)"
   ]
  },
  {
   "cell_type": "code",
   "execution_count": 12,
   "metadata": {},
   "outputs": [
    {
     "data": {
      "text/plain": [
       "<matplotlib.axes._subplots.AxesSubplot at 0x10cf9b208>"
      ]
     },
     "execution_count": 12,
     "metadata": {},
     "output_type": "execute_result"
    },
    {
     "data": {
      "image/png": "[encoded data removed]",
      "text/plain": [
       "<Figure size 432x288 with 1 Axes>"
      ]
     },
     "metadata": {},
     "output_type": "display_data"
    }
   ],
   "source": [
    "sbn.kdeplot(sampled_pvals)"
   ]
  },
  {
   "cell_type": "code",
   "execution_count": 13,
   "metadata": {},
   "outputs": [
    {
     "name": "stdout",
     "output_type": "stream",
     "text": [
      "[0. 0. 0. 0. 0. 0. 0. 0. 0. 0. 0. 0. 0. 0. 0. 0. 0. 0. 0. 0. 0. 0. 0. 0.\n",
      " 0. 0. 0. 0. 0. 0. 0. 0. 0. 0. 0. 0. 0. 0. 0. 0. 0. 0. 0. 0. 0. 0. 0. 0.\n",
      " 0. 0. 0. 0. 0. 0. 0. 0. 0. 0. 0. 0. 0. 0. 0. 0. 0. 0. 0. 0. 0. 0. 0. 0.\n",
      " 0. 0. 0. 0. 0. 0. 0. 0. 0. 0. 0. 0. 0. 0. 0. 0. 0. 0. 0. 0. 0. 0. 0. 0.\n",
      " 0. 0. 0. 0.]\n"
     ]
    }
   ],
   "source": [
    "print(obs_pvals)"
   ]
  },
  {
   "cell_type": "markdown",
   "metadata": {},
   "source": [
    "As indicated by the observed p-values, the observed data is strongly refuted (in absolute terms) by a conditional independence test. This is shown by the p-values of zero above.\n",
    "\n",
    "As indicated by the relative comparison of the observed p-values to the simulated p-values, the p-values generated by the observed data are very different from the p-values generated by the prior (which is known to satisfy the desired conditional independencies).\n",
    "\n",
    "However, both of these points are somewhat moot since the prior is in general terrible."
   ]
  },
  {
   "cell_type": "markdown",
   "metadata": {},
   "source": [
    "## Posterior Predictive Conditional Independence Tests"
   ]
  },
  {
   "cell_type": "code",
   "execution_count": 14,
   "metadata": {},
   "outputs": [],
   "source": [
    "# Load the parameters of the variational approximation to \n",
    "# the posterior distribution over W and Z\n",
    "w_post_params = pd.read_csv(PATH_TO_W_PARAMS, index_col=0)\n",
    "z_post_params = pd.read_csv(PATH_TO_Z_PARAMS, index_col=0)"
   ]
  },
  {
   "cell_type": "code",
   "execution_count": 15,
   "metadata": {},
   "outputs": [
    {
     "data": {
      "text/html": [
       "<div>\n",
       "<style scoped>\n",
       "    .dataframe tbody tr th:only-of-type {\n",
       "        vertical-align: middle;\n",
       "    }\n",
       "\n",
       "    .dataframe tbody tr th {\n",
       "        vertical-align: top;\n",
       "    }\n",
       "\n",
       "    .dataframe thead th {\n",
       "        text-align: right;\n",
       "    }\n",
       "</style>\n",
       "<table border=\"1\" class=\"dataframe\">\n",
       "  <thead>\n",
       "    <tr style=\"text-align: right;\">\n",
       "      <th></th>\n",
       "      <th>w_mean_inferred</th>\n",
       "      <th>w_std_inferred</th>\n",
       "      <th>w_var_inferred</th>\n",
       "    </tr>\n",
       "  </thead>\n",
       "  <tbody>\n",
       "    <tr>\n",
       "      <th>0</th>\n",
       "      <td>1.215177</td>\n",
       "      <td>0.006481</td>\n",
       "      <td>0.000042</td>\n",
       "    </tr>\n",
       "    <tr>\n",
       "      <th>1</th>\n",
       "      <td>-0.069146</td>\n",
       "      <td>0.006726</td>\n",
       "      <td>0.000045</td>\n",
       "    </tr>\n",
       "    <tr>\n",
       "      <th>2</th>\n",
       "      <td>2.085687</td>\n",
       "      <td>0.006190</td>\n",
       "      <td>0.000038</td>\n",
       "    </tr>\n",
       "    <tr>\n",
       "      <th>3</th>\n",
       "      <td>-0.325767</td>\n",
       "      <td>0.009528</td>\n",
       "      <td>0.000091</td>\n",
       "    </tr>\n",
       "    <tr>\n",
       "      <th>4</th>\n",
       "      <td>-0.330680</td>\n",
       "      <td>0.011007</td>\n",
       "      <td>0.000121</td>\n",
       "    </tr>\n",
       "  </tbody>\n",
       "</table>\n",
       "</div>"
      ],
      "text/plain": [
       "   w_mean_inferred  w_std_inferred  w_var_inferred\n",
       "0         1.215177        0.006481        0.000042\n",
       "1        -0.069146        0.006726        0.000045\n",
       "2         2.085687        0.006190        0.000038\n",
       "3        -0.325767        0.009528        0.000091\n",
       "4        -0.330680        0.011007        0.000121"
      ]
     },
     "execution_count": 15,
     "metadata": {},
     "output_type": "execute_result"
    }
   ],
   "source": [
    "w_post_params['w_var_inferred'] = w_post_params['w_std_inferred']**2\n",
    "w_post_params"
   ]
  },
  {
   "cell_type": "code",
   "execution_count": 16,
   "metadata": {},
   "outputs": [],
   "source": [
    "# Create the posterior distribution of\n",
    "w_dist_post =\\\n",
    "    norm(loc=w_post_params['w_mean_inferred'].values,\n",
    "         scale=w_post_params['w_std_inferred'].values)\n",
    "\n",
    "z_dist_post =\\\n",
    "    norm(loc=z_post_params['z_mean_inferred'].values,\n",
    "         scale=z_post_params['z_std_inferred'].values)"
   ]
  },
  {
   "cell_type": "code",
   "execution_count": 17,
   "metadata": {},
   "outputs": [],
   "source": [
    "# Set a seed for reproducibility\n",
    "np.random.seed(852)\n",
    "\n",
    "# Get posterior samples of X_standardized\n",
    "w_samples_post =\\\n",
    "    w_dist_prior.rvs((num_dimensions, NUM_PRIOR_SAMPLES))\n",
    "z_samples_post =\\\n",
    "    z_dist_prior.rvs((num_drive_alone_obs, NUM_PRIOR_SAMPLES))\n",
    "\n",
    "# Convert the posterior samples to have the desired shapes\n",
    "w_samples_post = w_samples_post[None, :, :]\n",
    "z_samples_post = z_samples_post[:, None, :]\n",
    "\n",
    "# Sample epsilon to form the posterior samples of X_standardized\n",
    "epsilon_samples_post =\\\n",
    "    epsilon_dist_prior.rvs(size=(num_drive_alone_obs,\n",
    "                                 num_dimensions,\n",
    "                                 NUM_PRIOR_SAMPLES))\n",
    "\n",
    "x_standardized_samples_post =\\\n",
    "    (np.einsum('mnr,ndr->mdr', z_samples_post, w_samples_post) +\n",
    "     epsilon_samples_post)\n",
    "\n",
    "# Get samples of X on the original scale of each variable\n",
    "x_samples_post =\\\n",
    "    (x_standardized_samples_post *\n",
    "     drive_alone_stds[None, :, None] +\n",
    "     drive_alone_means[None, :, None])"
   ]
  },
  {
   "cell_type": "code",
   "execution_count": 18,
   "metadata": {},
   "outputs": [
    {
     "name": "stdout",
     "output_type": "stream",
     "text": [
      "(3804, 5, 100)\n"
     ]
    }
   ],
   "source": [
    "# Look at the dimensions of the prior predictive samples\n",
    "print(x_samples_post.shape)"
   ]
  },
  {
   "cell_type": "markdown",
   "metadata": {},
   "source": [
    "### Visualize the posterior predictive distribution"
   ]
  },
  {
   "cell_type": "code",
   "execution_count": 19,
   "metadata": {},
   "outputs": [
    {
     "data": {
      "image/png": "[encoded data removed]",
      "text/plain": [
       "<Figure size 720x432 with 1 Axes>"
      ]
     },
     "metadata": {},
     "output_type": "display_data"
    }
   ],
   "source": [
    "# Choose a column of data to compare\n",
    "current_col = 0\n",
    "\n",
    "posterior_sim_cdf =\\\n",
    "    li.plot_simulated_vs_observed_cdf(\n",
    "        drive_alone_df.iloc[:, current_col].values,\n",
    "        x_samples_post[:, current_col, :],\n",
    "        x_label=drive_alone_variables[current_col]\n",
    "        )"
   ]
  },
  {
   "cell_type": "code",
   "execution_count": 20,
   "metadata": {},
   "outputs": [
    {
     "data": {
      "text/html": [
       "<div>\n",
       "<style scoped>\n",
       "    .dataframe tbody tr th:only-of-type {\n",
       "        vertical-align: middle;\n",
       "    }\n",
       "\n",
       "    .dataframe tbody tr th {\n",
       "        vertical-align: top;\n",
       "    }\n",
       "\n",
       "    .dataframe thead th {\n",
       "        text-align: right;\n",
       "    }\n",
       "</style>\n",
       "<table border=\"1\" class=\"dataframe\">\n",
       "  <thead>\n",
       "    <tr style=\"text-align: right;\">\n",
       "      <th></th>\n",
       "      <th>total_travel_distance_prior</th>\n",
       "      <th>total_travel_distance_post</th>\n",
       "      <th>total_travel_distance_obs</th>\n",
       "    </tr>\n",
       "  </thead>\n",
       "  <tbody>\n",
       "    <tr>\n",
       "      <th>count</th>\n",
       "      <td>3804.000000</td>\n",
       "      <td>3804.000000</td>\n",
       "      <td>3804.000000</td>\n",
       "    </tr>\n",
       "    <tr>\n",
       "      <th>mean</th>\n",
       "      <td>15.486930</td>\n",
       "      <td>15.464929</td>\n",
       "      <td>15.579498</td>\n",
       "    </tr>\n",
       "    <tr>\n",
       "      <th>std</th>\n",
       "      <td>3.431686</td>\n",
       "      <td>5.448739</td>\n",
       "      <td>18.465879</td>\n",
       "    </tr>\n",
       "    <tr>\n",
       "      <th>min</th>\n",
       "      <td>3.873750</td>\n",
       "      <td>-4.669495</td>\n",
       "      <td>0.400000</td>\n",
       "    </tr>\n",
       "    <tr>\n",
       "      <th>25%</th>\n",
       "      <td>13.144734</td>\n",
       "      <td>11.774041</td>\n",
       "      <td>3.497500</td>\n",
       "    </tr>\n",
       "    <tr>\n",
       "      <th>50%</th>\n",
       "      <td>15.451598</td>\n",
       "      <td>15.426467</td>\n",
       "      <td>7.730000</td>\n",
       "    </tr>\n",
       "    <tr>\n",
       "      <th>75%</th>\n",
       "      <td>17.862220</td>\n",
       "      <td>19.141048</td>\n",
       "      <td>21.257500</td>\n",
       "    </tr>\n",
       "    <tr>\n",
       "      <th>max</th>\n",
       "      <td>27.587267</td>\n",
       "      <td>32.855677</td>\n",
       "      <td>157.150000</td>\n",
       "    </tr>\n",
       "  </tbody>\n",
       "</table>\n",
       "</div>"
      ],
      "text/plain": [
       "       total_travel_distance_prior  total_travel_distance_post  \\\n",
       "count                  3804.000000                 3804.000000   \n",
       "mean                     15.486930                   15.464929   \n",
       "std                       3.431686                    5.448739   \n",
       "min                       3.873750                   -4.669495   \n",
       "25%                      13.144734                   11.774041   \n",
       "50%                      15.451598                   15.426467   \n",
       "75%                      17.862220                   19.141048   \n",
       "max                      27.587267                   32.855677   \n",
       "\n",
       "       total_travel_distance_obs  \n",
       "count                3804.000000  \n",
       "mean                   15.579498  \n",
       "std                    18.465879  \n",
       "min                     0.400000  \n",
       "25%                     3.497500  \n",
       "50%                     7.730000  \n",
       "75%                    21.257500  \n",
       "max                   157.150000  "
      ]
     },
     "execution_count": 20,
     "metadata": {},
     "output_type": "execute_result"
    }
   ],
   "source": [
    "# Compare a single sample from the prior and posterior distributions\n",
    "# to the observed data\n",
    "total_travel_dist_samples =\\\n",
    "    pd.DataFrame({'total_travel_distance_prior': x_samples_prior[:, 0, 0],\n",
    "                  'total_travel_distance_post': x_samples_post[:, 0, 0],\n",
    "                  'total_travel_distance_obs':\n",
    "                      drive_alone_df['total_travel_distance'].values})\n",
    "\n",
    "total_travel_dist_samples.describe()"
   ]
  },
  {
   "cell_type": "markdown",
   "metadata": {},
   "source": [
    "The plot above summarizes the posterior distribution of the total travel distance.\n",
    "Similar to the prior distribution of the same variable, the posterior poorly fits the data.\n",
    "As before, we can immediately expect the posterior predictive version of the conditional independence to fail since the observed data is generally unlike the sampled data.\n",
    "This is dissimilarity is, a-priori, expected to remain in the conditional independence test."
   ]
  },
  {
   "cell_type": "code",
   "execution_count": 21,
   "metadata": {},
   "outputs": [
    {
     "data": {
      "application/vnd.jupyter.widget-view+json": {
       "model_id": "7c67d47994564456a4ab571c3a7bc265",
       "version_major": 2,
       "version_minor": 0
      },
      "text/plain": [
       "HBox(children=(FloatProgress(value=0.0), HTML(value='')))"
      ]
     },
     "metadata": {},
     "output_type": "display_data"
    },
    {
     "name": "stdout",
     "output_type": "stream",
     "text": [
      "\n",
      "The p-value of the predictive, permutation C.I.T. is 0.99.\n"
     ]
    },
    {
     "data": {
      "image/png": "[encoded data removed]",
      "text/plain": [
       "<Figure size 720x432 with 1 Axes>"
      ]
     },
     "metadata": {},
     "output_type": "display_data"
    }
   ],
   "source": [
    "# Get the prior predictive values for the test\n",
    "posterior_samples_triplet =\\\n",
    "    np.concatenate((x_samples_post[:, cols_for_test, :],\n",
    "                    z_samples_post),\n",
    "                   axis=1)\n",
    "\n",
    "# Test out the predictive conditional independence test\n",
    "post_pval, post_sampled_pvals, post_obs_pvals =\\\n",
    "    li.perform_visual_predictive_cit_test(\n",
    "        posterior_samples_triplet,\n",
    "        obs_sample)"
   ]
  },
  {
   "cell_type": "code",
   "execution_count": 22,
   "metadata": {},
   "outputs": [
    {
     "data": {
      "text/plain": [
       "<matplotlib.axes._subplots.AxesSubplot at 0x120f864a8>"
      ]
     },
     "execution_count": 22,
     "metadata": {},
     "output_type": "execute_result"
    },
    {
     "data": {
      "image/png": "[encoded data removed]",
      "text/plain": [
       "<Figure size 432x288 with 1 Axes>"
      ]
     },
     "metadata": {},
     "output_type": "display_data"
    }
   ],
   "source": [
    "sbn.kdeplot(post_sampled_pvals)"
   ]
  },
  {
   "cell_type": "code",
   "execution_count": 23,
   "metadata": {},
   "outputs": [
    {
     "name": "stdout",
     "output_type": "stream",
     "text": [
      "[0. 0. 0. 0. 0. 0. 0. 0. 0. 0. 0. 0. 0. 0. 0. 0. 0. 0. 0. 0. 0. 0. 0. 0.\n",
      " 0. 0. 0. 0. 0. 0. 0. 0. 0. 0. 0. 0. 0. 0. 0. 0. 0. 0. 0. 0. 0. 0. 0. 0.\n",
      " 0. 0. 0. 0. 0. 0. 0. 0. 0. 0. 0. 0. 0. 0. 0. 0. 0. 0. 0. 0. 0. 0. 0. 0.\n",
      " 0. 0. 0. 0. 0. 0. 0. 0. 0. 0. 0. 0. 0. 0. 0. 0. 0. 0. 0. 0. 0. 0. 0. 0.\n",
      " 0. 0. 0. 0.]\n"
     ]
    }
   ],
   "source": [
    "print(post_obs_pvals)"
   ]
  },
  {
   "cell_type": "markdown",
   "metadata": {},
   "source": [
    "# Test the predictive conditional independence tests\n",
    "Make sure that the predictive condidtional independence tests are passed when using data that we know satisfies the independence assumptions being tested"
   ]
  },
  {
   "cell_type": "code",
   "execution_count": 24,
   "metadata": {},
   "outputs": [
    {
     "data": {
      "application/vnd.jupyter.widget-view+json": {
       "model_id": "cb2ab0fd2b47406187a83927ceaf5df1",
       "version_major": 2,
       "version_minor": 0
      },
      "text/plain": [
       "HBox(children=(FloatProgress(value=0.0), HTML(value='')))"
      ]
     },
     "metadata": {},
     "output_type": "display_data"
    },
    {
     "name": "stdout",
     "output_type": "stream",
     "text": [
      "\n",
      "The p-value of the predictive, permutation C.I.T. is 0.98.\n"
     ]
    },
    {
     "data": {
      "image/png": "[encoded data removed]",
      "text/plain": [
       "<Figure size 720x432 with 1 Axes>"
      ]
     },
     "metadata": {},
     "output_type": "display_data"
    }
   ],
   "source": [
    "chosen_sim_idx = 50\n",
    "\n",
    "# Test the predictive C.I.T with a prior sample\n",
    "prior_sim_sample = x_samples_prior[:, cols_for_test, chosen_sim_idx]\n",
    "prior_pval_sim, prior_sampled_pvals_sim, prior_obs_pvals_sim =\\\n",
    "    li.perform_visual_predictive_cit_test(\n",
    "        prior_samples_triplet,\n",
    "        prior_sim_sample)"
   ]
  },
  {
   "cell_type": "code",
   "execution_count": 25,
   "metadata": {},
   "outputs": [
    {
     "data": {
      "text/plain": [
       "array([0.05, 0.7 , 1.  , 0.25, 0.46, 0.76, 0.45, 0.02, 0.34, 0.43, 0.44,\n",
       "       0.4 , 0.7 , 0.11, 0.61, 0.18, 0.35, 0.36, 0.37, 0.1 , 0.22, 0.77,\n",
       "       0.92, 0.45, 0.21, 0.68, 0.42, 0.92, 0.96, 0.87, 0.84, 0.74, 0.87,\n",
       "       0.84, 0.69, 0.21, 0.  , 0.91, 0.18, 0.73, 0.7 , 0.91, 0.04, 0.38,\n",
       "       0.68, 0.66, 0.17, 0.86, 0.19, 0.1 , 0.49, 0.09, 0.27, 0.51, 0.92,\n",
       "       0.36, 0.24, 0.88, 0.3 , 0.31, 0.91, 0.71, 0.52, 0.56, 0.15, 0.45,\n",
       "       0.5 , 0.23, 0.81, 0.75, 0.9 , 0.08, 0.62, 0.32, 0.76, 0.21, 0.23,\n",
       "       0.13, 0.69, 0.62, 0.21, 0.26, 0.29, 0.84, 0.44, 0.11, 0.84, 0.53,\n",
       "       0.95, 0.04, 0.87, 0.67, 0.55, 0.47, 0.49, 0.27, 0.47, 0.68, 0.5 ,\n",
       "       0.86])"
      ]
     },
     "execution_count": 25,
     "metadata": {},
     "output_type": "execute_result"
    }
   ],
   "source": [
    "prior_sampled_pvals_sim"
   ]
  },
  {
   "cell_type": "code",
   "execution_count": 26,
   "metadata": {},
   "outputs": [
    {
     "data": {
      "text/plain": [
       "array([0.  , 0.  , 0.  , 0.  , 0.  , 0.  , 0.  , 0.  , 0.  , 0.  , 0.  ,\n",
       "       0.  , 0.  , 0.  , 0.  , 0.  , 0.  , 0.  , 0.  , 0.  , 0.  , 0.  ,\n",
       "       0.  , 0.  , 0.  , 0.  , 0.  , 0.  , 0.  , 0.  , 0.  , 0.  , 0.  ,\n",
       "       0.  , 0.  , 0.  , 0.  , 0.  , 0.  , 0.  , 0.  , 0.  , 0.  , 0.  ,\n",
       "       0.  , 0.  , 0.  , 0.  , 0.  , 0.  , 0.49, 0.  , 0.  , 0.  , 0.  ,\n",
       "       0.  , 0.  , 0.  , 0.  , 0.  , 0.  , 0.  , 0.  , 0.  , 0.  , 0.  ,\n",
       "       0.  , 0.  , 0.  , 0.  , 0.  , 0.  , 0.  , 0.  , 0.  , 0.  , 0.  ,\n",
       "       0.  , 0.  , 0.  , 0.  , 0.  , 0.  , 0.  , 0.  , 0.  , 0.  , 0.  ,\n",
       "       0.  , 0.  , 0.  , 0.  , 0.  , 0.  , 0.  , 0.  , 0.  , 0.  , 0.  ,\n",
       "       0.  ])"
      ]
     },
     "execution_count": 26,
     "metadata": {},
     "output_type": "execute_result"
    }
   ],
   "source": [
    "prior_obs_pvals_sim"
   ]
  },
  {
   "cell_type": "code",
   "execution_count": 27,
   "metadata": {},
   "outputs": [
    {
     "data": {
      "application/vnd.jupyter.widget-view+json": {
       "model_id": "3c57b5f80d0948fd86638e8804111f50",
       "version_major": 2,
       "version_minor": 0
      },
      "text/plain": [
       "HBox(children=(FloatProgress(value=0.0), HTML(value='')))"
      ]
     },
     "metadata": {},
     "output_type": "display_data"
    },
    {
     "name": "stdout",
     "output_type": "stream",
     "text": [
      "\n",
      "The p-value of the predictive, permutation C.I.T. is 0.98.\n"
     ]
    },
    {
     "data": {
      "image/png": "[encoded data removed]",
      "text/plain": [
       "<Figure size 720x432 with 1 Axes>"
      ]
     },
     "metadata": {},
     "output_type": "display_data"
    }
   ],
   "source": [
    "# Test the predictive C.I.T with a posterior sample\n",
    "post_sim_sample = x_samples_post[:, cols_for_test, chosen_sim_idx]\n",
    "post_pval_sim, post_sampled_pvals_sim, post_obs_pvals_sim =\\\n",
    "    li.perform_visual_predictive_cit_test(\n",
    "        posterior_samples_triplet,\n",
    "        post_sim_sample)"
   ]
  },
  {
   "cell_type": "code",
   "execution_count": 28,
   "metadata": {},
   "outputs": [
    {
     "data": {
      "text/plain": [
       "array([0.03, 0.04, 0.9 , 0.83, 0.21, 0.77, 0.55, 0.09, 0.24, 0.13, 0.79,\n",
       "       0.63, 0.78, 0.27, 0.52, 0.85, 0.07, 1.  , 0.13, 0.51, 0.77, 0.59,\n",
       "       0.58, 0.42, 0.08, 0.71, 0.94, 0.14, 0.89, 0.06, 0.05, 0.13, 0.54,\n",
       "       0.48, 0.5 , 1.  , 0.72, 0.55, 0.19, 0.73, 0.88, 0.09, 0.24, 0.38,\n",
       "       0.25, 0.79, 0.53, 0.52, 0.31, 0.21, 0.92, 0.47, 0.49, 0.45, 0.29,\n",
       "       0.16, 0.22, 0.96, 0.14, 0.06, 0.89, 0.93, 0.23, 0.7 , 0.  , 0.88,\n",
       "       0.09, 0.51, 0.37, 0.81, 0.06, 0.93, 0.67, 0.79, 0.55, 0.42, 0.96,\n",
       "       0.81, 0.37, 0.54, 0.18, 0.18, 0.56, 0.31, 0.79, 0.34, 0.93, 0.07,\n",
       "       0.62, 0.81, 0.14, 0.41, 0.54, 0.79, 0.82, 0.3 , 1.  , 0.75, 0.64,\n",
       "       0.29])"
      ]
     },
     "execution_count": 28,
     "metadata": {},
     "output_type": "execute_result"
    }
   ],
   "source": [
    "post_sampled_pvals_sim"
   ]
  },
  {
   "cell_type": "code",
   "execution_count": 29,
   "metadata": {},
   "outputs": [
    {
     "data": {
      "text/plain": [
       "array([0.  , 0.  , 0.  , 0.  , 0.  , 0.  , 0.  , 0.  , 0.  , 0.  , 0.  ,\n",
       "       0.  , 0.  , 0.  , 0.  , 0.  , 0.  , 0.  , 0.  , 0.  , 0.  , 0.  ,\n",
       "       0.  , 0.  , 0.  , 0.  , 0.  , 0.  , 0.  , 0.  , 0.  , 0.  , 0.  ,\n",
       "       0.  , 0.  , 0.  , 0.  , 0.  , 0.  , 0.  , 0.  , 0.  , 0.  , 0.  ,\n",
       "       0.  , 0.  , 0.  , 0.  , 0.  , 0.  , 0.92, 0.  , 0.  , 0.  , 0.  ,\n",
       "       0.  , 0.  , 0.  , 0.  , 0.  , 0.  , 0.  , 0.  , 0.  , 0.  , 0.  ,\n",
       "       0.  , 0.  , 0.  , 0.  , 0.  , 0.  , 0.  , 0.  , 0.  , 0.  , 0.  ,\n",
       "       0.  , 0.  , 0.  , 0.  , 0.  , 0.  , 0.  , 0.  , 0.  , 0.  , 0.  ,\n",
       "       0.  , 0.  , 0.  , 0.  , 0.  , 0.  , 0.  , 0.  , 0.  , 0.  , 0.  ,\n",
       "       0.  ])"
      ]
     },
     "execution_count": 29,
     "metadata": {},
     "output_type": "execute_result"
    }
   ],
   "source": [
    "post_obs_pvals_sim"
   ]
  },
  {
   "cell_type": "markdown",
   "metadata": {},
   "source": [
    "# Conclusions\n",
    "From the results above, a few things are apparent.\n",
    "\n",
    "1. The prior distribution for this particular implementation of the deconfounder is a very poor description of reality. A-priori, our prior beliefs are in severe conflict with our data and are likely in need or revising to be more plausible. For instance, we should never be simulating negative values for `total_travel_distance`.\n",
    "2. The posterior distribution for this particular implementation of the deconfounder is still a poor description of our data.\n",
    "3. In order for the predictive conditional independence tests to pass, the inferred latent confounder values must be extremely close to the true latent confounder values. This provides a secondary piece of evidence supporting the finding from Hassan's deconfounder investigation.\n",
    "   1. The only instance of the test of the deconfounder that succeeded in generating a non-zero p-value (see cell above) is the instance where the value being used as the \"observation\" was paired with its own latent confounders.\n",
    "   2. In order for many instances of the test of the deconfounder to succeed in generating non-zero p-values, we'd need most of the simulated latent confounder values to cluster around their true latent confounder values."
   ]
  }
 ],
 "metadata": {
  "jupytext": {
   "formats": "ipynb,md,py"
  },
  "kernelspec": {
   "display_name": "Python 3",
   "language": "python",
   "name": "python3"
  },
  "language_info": {
   "codemirror_mode": {
    "name": "ipython",
    "version": 3
   },
   "file_extension": ".py",
   "mimetype": "text/x-python",
   "name": "python",
   "nbconvert_exporter": "python",
   "pygments_lexer": "ipython3",
   "version": "3.6.10"
  }
 },
 "nbformat": 4,
 "nbformat_minor": 4
}
