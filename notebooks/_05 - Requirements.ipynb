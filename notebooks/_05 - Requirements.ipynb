{
 "cells": [
  {
   "cell_type": "markdown",
   "metadata": {},
   "source": [
    "# <ins>Requirements</ins>"
   ]
  },
  {
   "cell_type": "markdown",
   "metadata": {},
   "source": [
    "## What exactly does the product need to deliver to meet the needs of the end users / stakeholders?\n",
    "\n",
    "## Do the end user’s / stakeholders have firm time deadlines for the project? If so, note when the project must be delivered by.\n",
    "\n",
    "## What are the non-goals for the project? What should we explicitly aim to not do?\n"
   ]
  },
  {
   "cell_type": "markdown",
   "metadata": {},
   "source": [
    "### <ins>For the presentation:</ins>\n",
    "- Motivation and why we need this: we will talk about the disconnect between causal inference and demand modeling and why it’s important to pay attention to it. \n",
    "- Outline of procedure and the value it brings. (both these steps are mostly from Brathwaite et al.)\n",
    "- Demo for application on simulated dataset.\n",
    "- Outline of deconfounder approach\n",
    "- Demo of deconfounder approach using simulation\n",
    "    - Sensitivity to number of deconfounder\n",
    "    - Sensitivity to different DAG assumptions. \n",
    "- (Potentially) Application of deconfounder approach to real dataset. \n",
    "- Conclude\n",
    "\n",
    "### <ins>Actual work/code:<ins>\n",
    "1. For simulation:\n",
    "    - Function to simulate data from structural models (mainly linear models -- MNL and regression). \n",
    "        - Input: X variables, coefficients. \n",
    "    - Output: Simulated variables \n",
    "2. For deconfounder\n",
    "    - Function for fitting factor model\n",
    "        - A class with a couple of factor model methods: Probabilistic PCA, Deep exponential family, Poisson Matrix Factorization?\n",
    "           1. Input: Vector of covariates, dimensionality of latent variable space\n",
    "           2. Output: A fitted factor model\n",
    "        - Function for posterior predictive checks for the factor models.  \n",
    "           1. Input: Factor model, test data\n",
    "           2. Output: P-values for predictive checks"
   ]
  }
 ],
 "metadata": {
  "jupytext": {
   "formats": "ipynb,md"
  },
  "kernelspec": {
   "display_name": "Python 3",
   "language": "python",
   "name": "python3"
  },
  "language_info": {
   "codemirror_mode": {
    "name": "ipython",
    "version": 3
   },
   "file_extension": ".py",
   "mimetype": "text/x-python",
   "name": "python",
   "nbconvert_exporter": "python",
   "pygments_lexer": "ipython3",
   "version": "3.7.4"
  }
 },
 "nbformat": 4,
 "nbformat_minor": 2
}
