{
 "cells": [
  {
   "cell_type": "markdown",
   "metadata": {},
   "source": [
    "# Architecture"
   ]
  },
  {
   "cell_type": "markdown",
   "metadata": {},
   "source": [
    "## 1. At a “high” level, how will the project deliver each of the needed requirements?\n",
    "- Try to think in terms of some manageable (e.g. 10-20) steps\n",
    "- List needed intermediate products (e.g. pseudo-code, unit tests, etc.)\n",
    "- Try to be concise but comprehensive?\n",
    "\n",
    "\n",
    "\n"
   ]
  },
  {
   "cell_type": "markdown",
   "metadata": {},
   "source": [
    "## 2. Description of major components of the system and their relations:\n",
    "\n",
    "\n"
   ]
  },
  {
   "cell_type": "markdown",
   "metadata": {},
   "source": [
    "### 2.1 What should each component do?\n",
    "\n",
    "\n"
   ]
  },
  {
   "cell_type": "markdown",
   "metadata": {},
   "source": [
    "### 2.2 What is the interface between each component and each other component?\n",
    "\n",
    "\n"
   ]
  },
  {
   "cell_type": "markdown",
   "metadata": {},
   "source": [
    "### 2.3 How do components use each other (if they do?), and which ones are allowed to use which other components?\n",
    "\n",
    "\n"
   ]
  },
  {
   "cell_type": "markdown",
   "metadata": {},
   "source": [
    "## 3. Description of needed development / computational environment:"
   ]
  },
  {
   "cell_type": "markdown",
   "metadata": {},
   "source": [
    "### 3.1  Where will development take place (virtual environments? One’s laptop, etc.)?"
   ]
  },
  {
   "cell_type": "markdown",
   "metadata": {},
   "source": [
    "- There are two alternatives:\n",
    "  - **Virtual Machine**: Install JupyterHub on cloud server with multiple users and the same environment for each user. Collaborate directly on the Jupyter Notebooks and convert them to Jupytext .py files for easier code review and version control.\n",
    "  - **Personal laptop**: work locally on personal laptop and push changes as progress is made to the right folder in the github repository."
   ]
  },
  {
   "cell_type": "markdown",
   "metadata": {},
   "source": [
    "### 3.2  How will one reliably construct the needed computational environment?"
   ]
  },
  {
   "cell_type": "markdown",
   "metadata": {},
   "source": [
    "- There are two Alternatives:\n",
    "  - If using **Virtual Machine**: The created JupyterHub server will have all the dependencies installed and available to all users on the server. The server administrator will be responsible for installing necessary environment from a .yml file.\n",
    "  \n",
    "  - If using **personal laptop**: \n",
    "      * Create a conda virtual environment with all the necessary packages for the project, and push it to the github repository as a .yml file in order for it to be duplicated by other members and end users, **OR**\n",
    "      * Create a Docker image of the computational environment to be used by all team members."
   ]
  },
  {
   "cell_type": "markdown",
   "metadata": {},
   "source": [
    "### 3.3  How will one test that the computational environment is correctly created?"
   ]
  },
  {
   "cell_type": "markdown",
   "metadata": {},
   "source": [
    "- Shell commands in either situation will be used to check that the correct environment was created/installed.\n",
    "- Write class/function to make sure each of the needed packages and right python version is installed."
   ]
  },
  {
   "cell_type": "markdown",
   "metadata": {},
   "source": [
    "## 4. Description of major classes to be used (relates to major components above):\n",
    "- Class responsibilities\n",
    "- Interactions between classes\n",
    "- Class hierarchies / state transitions / object persistence\n",
    "- Organization of classes into subsystems (if necessary / planned)\n",
    "- Why does each class have “jurisdiction” over the parts of the system that it does?\n",
    "\n",
    "\n"
   ]
  },
  {
   "cell_type": "markdown",
   "metadata": {},
   "source": [
    "## 5. Description of the minimally viable product (if any):\n",
    "- Note the portions of the architecture responsible for producing the minimally viable product. \n",
    "\n",
    "\n"
   ]
  },
  {
   "cell_type": "markdown",
   "metadata": {},
   "source": [
    "## 6. Description of algorithms:"
   ]
  },
  {
   "cell_type": "markdown",
   "metadata": {},
   "source": [
    "### 6.1  What, if any, computational algorithms are being implemented as part of this project instead of relying upon external implementations?\n",
    "\n",
    "\n"
   ]
  },
  {
   "cell_type": "markdown",
   "metadata": {},
   "source": [
    "### 6.2 What purpose(s) do those algorithms serve?\n",
    "\n",
    "\n"
   ]
  },
  {
   "cell_type": "markdown",
   "metadata": {},
   "source": [
    "### 6.3 Are each of these algorithms fully understood by someone on the project team?\n",
    "\n",
    "\n"
   ]
  },
  {
   "cell_type": "markdown",
   "metadata": {},
   "source": [
    "### 6.4  What are alternative algorithms that could have served the purposes of the algorithms we are implementing?\n",
    "\n",
    "\n"
   ]
  },
  {
   "cell_type": "markdown",
   "metadata": {},
   "source": [
    "### 6.5 Why are we using the particular algorithms we’ve chosen instead of others? \n",
    "\n",
    "\n"
   ]
  },
  {
   "cell_type": "markdown",
   "metadata": {},
   "source": [
    "### 6.6 Why do we believe the algorithms can be implemented?\n",
    "\n",
    "\n"
   ]
  },
  {
   "cell_type": "markdown",
   "metadata": {},
   "source": [
    "### 6.7 Do we have any concerns with regard to algorithmic efficiency?\n",
    "\n",
    "\n"
   ]
  },
  {
   "cell_type": "markdown",
   "metadata": {},
   "source": [
    "## 7. Description of data usage in the system:"
   ]
  },
  {
   "cell_type": "markdown",
   "metadata": {},
   "source": [
    "### 7.1 How will data be ingested / accessed?\n",
    "\n",
    "\n"
   ]
  },
  {
   "cell_type": "markdown",
   "metadata": {},
   "source": [
    "### 7.2 How will data be validated?\n",
    "\n",
    "\n"
   ]
  },
  {
   "cell_type": "markdown",
   "metadata": {},
   "source": [
    "### 7.3 How will data be organized?\n",
    "\n",
    "\n"
   ]
  },
  {
   "cell_type": "markdown",
   "metadata": {},
   "source": [
    "### 7.4 How will data be transformed?\n",
    "\n",
    "\n"
   ]
  },
  {
   "cell_type": "markdown",
   "metadata": {},
   "source": [
    "### 7.5 How will created data be output and stored?\n",
    "\n",
    "\n"
   ]
  },
  {
   "cell_type": "markdown",
   "metadata": {},
   "source": [
    "### 7.6 How will created data be validated?\n",
    "\n",
    "\n"
   ]
  },
  {
   "cell_type": "markdown",
   "metadata": {},
   "source": [
    "### 7.7 How does all of the above differ online vs offline? (e.g. we may throw a critical error offline to prevent training with bad data but only log a warning online to note that the data in a request was unexpected.)\n",
    "\n",
    "\n"
   ]
  },
  {
   "cell_type": "markdown",
   "metadata": {},
   "source": [
    "### 7.8 How will the flow / manipulation of data be controlled (and recorded / version-controlled) and made reproducible? E.g. data ingestion and manipulation to create training / testing sets.\n",
    "- Flyte?\n",
    "- Make?\n",
    "- Other?  \n",
    "\n",
    "\n"
   ]
  },
  {
   "cell_type": "markdown",
   "metadata": {},
   "source": [
    "## 8. Description of experimentation protocols (if relevant):\n",
    "If experiments need to be run (e.g. hyper-parameter tuning, model-selection, A/B tests, etc.):"
   ]
  },
  {
   "cell_type": "markdown",
   "metadata": {},
   "source": [
    "### 8.1 How will experiments be launched?\n",
    "\n",
    "\n"
   ]
  },
  {
   "cell_type": "markdown",
   "metadata": {},
   "source": [
    "### 8.2 How will experiment reproducibility be ensured?\n",
    "\n",
    "\n"
   ]
  },
  {
   "cell_type": "markdown",
   "metadata": {},
   "source": [
    "### 8.3 How will experiment meta-data (e.g. launch configurations) be stored?\n",
    "\n",
    "\n"
   ]
  },
  {
   "cell_type": "markdown",
   "metadata": {},
   "source": [
    "### 8.4 How will experiment-created data (e.g. results) be stored?\n",
    "\n",
    "\n"
   ]
  },
  {
   "cell_type": "markdown",
   "metadata": {},
   "source": [
    "### 8.5 How will experiment-created data be analyzed?\n",
    "\n",
    "\n"
   ]
  },
  {
   "cell_type": "markdown",
   "metadata": {},
   "source": [
    "### 8.6 How will experiment analyses be prepared for public reporting? \n",
    "\n",
    "\n"
   ]
  },
  {
   "cell_type": "markdown",
   "metadata": {},
   "source": [
    "## 9. Description of user-interface:"
   ]
  },
  {
   "cell_type": "markdown",
   "metadata": {},
   "source": [
    "### 9.1 How will users (including myself) interact with the system that is built?\n",
    "- Will there be a command line interface?\n",
    "- Will users be editing configuration files, and if so, where will they be stored?\n",
    "- Will there be ability to replay the DAG representing one’s data analysis?\n",
    "\n",
    "\n"
   ]
  },
  {
   "cell_type": "markdown",
   "metadata": {},
   "source": [
    "### 9.2 How will ease of changes be ensured (e.g. changing a given hyperparameter value in the source code of a model)?\n",
    "\n",
    "\n"
   ]
  },
  {
   "cell_type": "markdown",
   "metadata": {},
   "source": [
    "### 9.3 Is the user-interface self-contained so that other parts of the system are insulated from changes in the user-interface?\n",
    "\n",
    "\n"
   ]
  },
  {
   "cell_type": "markdown",
   "metadata": {},
   "source": [
    "## 10. Description of resource-management:"
   ]
  },
  {
   "cell_type": "markdown",
   "metadata": {},
   "source": [
    "### 10.1 How will the system cope with large amounts of data during model training?\n",
    "\n",
    "\n"
   ]
  },
  {
   "cell_type": "markdown",
   "metadata": {},
   "source": [
    "### 10.2 How much memory and time will it take the system to execute?\n",
    "- Offline / online prediction\n",
    "- Model training\n",
    "\n",
    "\n"
   ]
  },
  {
   "cell_type": "markdown",
   "metadata": {},
   "source": [
    "### 10.3 How will the system interact with the external world to acquire resources? (e.g. get data or spawn virtual machines\n",
    "\n",
    "\n"
   ]
  },
  {
   "cell_type": "markdown",
   "metadata": {},
   "source": [
    "#### 10.3.1 How does the system decide how much of an external resource is needed? (e.g. how many virtual CPUs are required during training?) \n",
    "\n",
    "\n"
   ]
  },
  {
   "cell_type": "markdown",
   "metadata": {},
   "source": [
    "## 11. Description of how the system will scale:"
   ]
  },
  {
   "cell_type": "markdown",
   "metadata": {},
   "source": [
    "### 11.1 With increasing dataset sizes: \n",
    "\n",
    "\n"
   ]
  },
  {
   "cell_type": "markdown",
   "metadata": {},
   "source": [
    "### 11.2 With increasing numbers of models being used:\n",
    "\n",
    "\n"
   ]
  },
  {
   "cell_type": "markdown",
   "metadata": {},
   "source": [
    "### 11.3 With increasing numbers of models being used:\n",
    "\n",
    "\n"
   ]
  },
  {
   "cell_type": "markdown",
   "metadata": {},
   "source": [
    "### 11.4 With increasing numbers of parameters:\n",
    "\n",
    "\n"
   ]
  },
  {
   "cell_type": "markdown",
   "metadata": {},
   "source": [
    "### 11.5 With increasing numbers of divergences/losses:\n",
    "\n",
    "\n"
   ]
  },
  {
   "cell_type": "markdown",
   "metadata": {},
   "source": [
    "## 12. Description of how the system will interface with external systems:\n",
    "- E.g. if a model needs to be served in Go but it was trained in Python…\n",
    "- If the system needs to manipulate Kubernetes for training...\n",
    "\n",
    "\n"
   ]
  },
  {
   "cell_type": "markdown",
   "metadata": {},
   "source": [
    "## 13. Description of how errors will be handled:"
   ]
  },
  {
   "cell_type": "markdown",
   "metadata": {},
   "source": [
    "### 13.1 What are common expected errors from users and how can we guard against them?\n",
    "\n",
    "\n"
   ]
  },
  {
   "cell_type": "markdown",
   "metadata": {},
   "source": [
    "### 13.2 Will we try to fix errors or merely notify users of the error’s presence?\n",
    "\n",
    "\n"
   ]
  },
  {
   "cell_type": "markdown",
   "metadata": {},
   "source": [
    "### 13.3 When errors are encountered, will we quit immediately or wait until some specified point before notifying users of errors? For which errors is each strategy appropriate?\n",
    "\n",
    "\n"
   ]
  },
  {
   "cell_type": "markdown",
   "metadata": {},
   "source": [
    "### 13.4 What are the conventions for error messages that the system reports?\n",
    "\n",
    "\n"
   ]
  },
  {
   "cell_type": "markdown",
   "metadata": {},
   "source": [
    "### 13.5 Where are errors processed? At the point of detection, by a central error handling class, by functions above in the call stack, etc.\n",
    "\n",
    "\n"
   ]
  },
  {
   "cell_type": "markdown",
   "metadata": {},
   "source": [
    "### 13.6 What level of responsibility does each class have in validating its own input? Is there a central class (or set of classes) that performs all validation? When can classes assume clean information?\n",
    "\n",
    "\n"
   ]
  },
  {
   "cell_type": "markdown",
   "metadata": {},
   "source": [
    "### 13.7 How will we use (or not use) type hinting to help prevent errors?\n",
    "\n",
    "\n"
   ]
  },
  {
   "cell_type": "markdown",
   "metadata": {},
   "source": [
    "## 14. Description of testing plan:"
   ]
  },
  {
   "cell_type": "markdown",
   "metadata": {},
   "source": [
    "### 14.1 How will we test that all of the parts of the architecture are working correctly?\n",
    "- How will we create tests for each part of the architecture that are:\n",
    " - clear and unambiguous\n",
    " - capable of dealing with stochastic functions / objects\n",
    " - minimizing reliance / use of stochasticity\n",
    " - fast to evaluate\n",
    "\n",
    "\n"
   ]
  },
  {
   "cell_type": "markdown",
   "metadata": {},
   "source": [
    "### 14.2 What are the various types of tests that are needed?\n",
    "\n",
    "\n"
   ]
  },
  {
   "cell_type": "markdown",
   "metadata": {},
   "source": [
    "### 14.3 Are there any parts of the architecture that we do not know how to test? How will these knowledge gaps be resolved before the coding begins?\n",
    "\n",
    "\n"
   ]
  },
  {
   "cell_type": "markdown",
   "metadata": {},
   "source": [
    "### 14.4 How will discovered bugs be turned into test cases?\n",
    "\n",
    "\n"
   ]
  },
  {
   "cell_type": "markdown",
   "metadata": {},
   "source": [
    "### 14.5 How will the software be reviewed in general (beyond automated tests) to reduce the probability of programming bugs into the code / increase the chance of producing correctly functioning software?\n",
    "\n",
    "\n"
   ]
  },
  {
   "cell_type": "markdown",
   "metadata": {},
   "source": [
    "## 15. Description of project-sharing procedures:"
   ]
  },
  {
   "cell_type": "markdown",
   "metadata": {},
   "source": [
    "### 15.1 Is there a plan in place for producing documentation for the software?\n",
    "- Documentation for operating the software\n",
    "- Documentation of software limits\n",
    "- Usage examples and tutorials\n",
    "- Key project learnings / retrospective notes\n",
    "\n",
    "\n"
   ]
  },
  {
   "cell_type": "markdown",
   "metadata": {},
   "source": [
    "### 15.2 Is there a plan for sharing the software with others?\n",
    "- File upload?\n",
    "- Upload to package repository?\n",
    "\n",
    "\n"
   ]
  },
  {
   "cell_type": "markdown",
   "metadata": {},
   "source": [
    "### 15.3 Will the project have an associated website? If so is there a plan for its development?\n",
    "\n",
    "\n"
   ]
  },
  {
   "cell_type": "markdown",
   "metadata": {},
   "source": [
    "### 15.4 Is there a plan for producing any written or visual materials that others may wish to view?\n",
    "- Final or interim project reports\n",
    "- Tables of key project results\n",
    "- Graphs, diagrams, images from the project, e.g.\n",
    " - Plots of system performance\n",
    " - Model checking plots\n",
    "\n",
    "\n"
   ]
  },
  {
   "cell_type": "markdown",
   "metadata": {},
   "source": [
    "## 16 Description of maintenance plan:"
   ]
  },
  {
   "cell_type": "markdown",
   "metadata": {},
   "source": [
    "### 16.1 How will the system / software be maintained after initial creation?\n",
    "\n",
    "\n"
   ]
  },
  {
   "cell_type": "markdown",
   "metadata": {},
   "source": [
    "### 16.2 What needs to be done for maintenance?\n",
    "\n",
    "\n"
   ]
  },
  {
   "cell_type": "markdown",
   "metadata": {},
   "source": [
    "### 16.3 Who will perform needed maintenance activities?\n",
    "\n",
    "\n"
   ]
  },
  {
   "cell_type": "markdown",
   "metadata": {},
   "source": [
    "## 17. Description of project tools:"
   ]
  },
  {
   "cell_type": "markdown",
   "metadata": {},
   "source": [
    "### 17.1 What are all the tools and major external systems upon which the project depends?\n",
    "\n",
    "\n"
   ]
  },
  {
   "cell_type": "markdown",
   "metadata": {},
   "source": [
    "### 17.2 Is there evidence that we understand the basics of how all of those tools work?\n",
    "- Have we read any/all relevant documentation and instruction materials?\n",
    "- Have we taken any basic training courses in any of these tools?\n",
    "\n",
    "\n"
   ]
  },
  {
   "cell_type": "markdown",
   "metadata": {},
   "source": [
    "## 18. Description of project risks and mitigation efforts:"
   ]
  },
  {
   "cell_type": "markdown",
   "metadata": {},
   "source": [
    "### 18.1  There should be some evidence for, and of, project feasibility:\n",
    "- How do we know that every part of the architecture will work?\n",
    "- Based on the architecture, what are all needed resources?\n",
    "\n",
    "\n"
   ]
  },
  {
   "cell_type": "markdown",
   "metadata": {},
   "source": [
    "### 18.2 What could render the project infeasible?\n",
    "- Is there adequate resourcing?\n",
    "\n",
    "\n"
   ]
  },
  {
   "cell_type": "markdown",
   "metadata": {},
   "source": [
    "### 18.3 Are there known sources of difficulty based on the planned tasks?\n",
    "\n",
    "\n"
   ]
  },
  {
   "cell_type": "markdown",
   "metadata": {},
   "source": [
    "### 18.4 Are there mismatches between prior knowledge and required tasks?\n",
    "\n",
    "\n"
   ]
  },
  {
   "cell_type": "markdown",
   "metadata": {},
   "source": [
    "### 18.5 What are the weakest areas of the architecture?\n",
    "- Where is the project most vulnerable to failure?\n",
    "- How are these weaknesses being addressed?\n",
    "\n",
    "\n"
   ]
  },
  {
   "cell_type": "markdown",
   "metadata": {},
   "source": [
    "## 19. Description of the approach to over-engineering:"
   ]
  },
  {
   "cell_type": "markdown",
   "metadata": {},
   "source": [
    "### To what extent should planning be done to prevent all errors versus to produce the simplest system necessitated by the requirements?\n",
    "\n",
    "\n"
   ]
  },
  {
   "cell_type": "markdown",
   "metadata": {},
   "source": [
    "## 20.  Description of change strategy:"
   ]
  },
  {
   "cell_type": "markdown",
   "metadata": {},
   "source": [
    "### 20.1 What steps are being taken to ensure that the architecture is able to handle changes with maximal ease / flexibility? e.g.:\n",
    "- Newly desired capabilities based on usage of initial iterations\n",
    "- Adding planned features that didn’t make it to the minimal viable product\n",
    "- Allowing for easy change of third party dependencies\n",
    "- Complying with any relevant standards for maximal compatibility with outside products\n",
    "- New ways of interaction with users (e.g. avoiding type checking as much as possible in favor of duck-typing)\n",
    "- Are classes maximally independent such that changes in one class don’t necessitate changes in the others?\n",
    "- Do we have a plan in place for test changes? For example if needing to change the data used in a test, can that be easily done without having to rewrite the test? E.g. data stored outside the code, or integration tests that don’t test for a specific prediction output but rather a property of the prediction outputs so that the model can change without the test necessitating a rewrite.\n",
    "\n",
    "\n",
    "\n"
   ]
  },
  {
   "cell_type": "markdown",
   "metadata": {},
   "source": [
    "### 20.2 What is the strategy for handling requests for new features from or updates of the system after its built?\n",
    "\n",
    "\n"
   ]
  },
  {
   "cell_type": "markdown",
   "metadata": {},
   "source": [
    "### 20.3 How will bug-fixes be handled? By whom?\n",
    "\n",
    "\n"
   ]
  },
  {
   "cell_type": "markdown",
   "metadata": {},
   "source": [
    "## 21.  Description of reuse strategy:"
   ]
  },
  {
   "cell_type": "markdown",
   "metadata": {},
   "source": [
    "### How is the architecture maximally leveraging previously completed work?\n",
    "\n",
    "\n"
   ]
  },
  {
   "cell_type": "markdown",
   "metadata": {},
   "source": [
    "## 22. Description of system alternatives (i.e. alternatives to the project as a whole):"
   ]
  },
  {
   "cell_type": "markdown",
   "metadata": {},
   "source": [
    "### 22.1 What are the closest alternative systems that could be used for this project or for parts of the project?\n",
    "- How can those alternate systems be leveraged?"
   ]
  },
  {
   "cell_type": "markdown",
   "metadata": {},
   "source": [
    "### 22.2 Why is it expected that this project’s custom built sub-systems will be better than the available alternatives for those sub-systems?\n",
    "\n",
    "\n"
   ]
  },
  {
   "cell_type": "markdown",
   "metadata": {},
   "source": [
    "## 23. Description of architectural alternatives (i.e. alternatives to how to carry out the project):"
   ]
  },
  {
   "cell_type": "markdown",
   "metadata": {},
   "source": [
    "### 23.1 What are the closest alternative systems that could be used for this project or for parts of the project?\n",
    "- How can those alternate systems be leveraged?\n",
    "\n",
    "\n"
   ]
  },
  {
   "cell_type": "markdown",
   "metadata": {},
   "source": [
    "### 23.2 Why is it expected that this project’s custom built sub-systems will be better than the available alternatives for those sub-systems?\n",
    "\n",
    "\n"
   ]
  },
  {
   "cell_type": "markdown",
   "metadata": {},
   "source": [
    "## 24. Description of architectural alternatives (i.e. alternatives to how to carry out the project):"
   ]
  },
  {
   "cell_type": "markdown",
   "metadata": {},
   "source": [
    "### 24.1 What were alternative ways to architect the system to satisfy the requirements?\n",
    "- If there were no other alternatives, then why were there no other alternatives and can we prove this was really the case?\n",
    "\n",
    "\n"
   ]
  },
  {
   "cell_type": "markdown",
   "metadata": {},
   "source": [
    "### 24.2 Why did we choose to architect the system the way we did?\n",
    "\n",
    "\n"
   ]
  },
  {
   "cell_type": "markdown",
   "metadata": {},
   "source": [
    "#### 24.2.1 What were our objectives in choosing the given architecture?\n",
    "\n",
    "\n"
   ]
  },
  {
   "cell_type": "markdown",
   "metadata": {},
   "source": [
    "#### 24.2.2 What were the motivations for all major decisions?"
   ]
  },
  {
   "cell_type": "markdown",
   "metadata": {},
   "source": [
    "## 25. Description of expected debugging protocol:\n",
    "### Should detail the expected debugging process to be used when, despite all of our planning and checking, failure is experienced while using some piece of the implemented architecture.\n",
    "\n",
    "\n"
   ]
  },
  {
   "cell_type": "markdown",
   "metadata": {},
   "source": [
    "## 26. Final checks:\n",
    "### Do any parts of the system seem over- or under-architected. Empirically, are the descriptions of any sub-component much more thorough than any other?\n",
    "\n",
    "\n"
   ]
  }
 ],
 "metadata": {
  "jupytext": {
   "formats": "ipynb,md"
  },
  "kernelspec": {
   "display_name": "Python 3",
   "language": "python",
   "name": "python3"
  },
  "language_info": {
   "codemirror_mode": {
    "name": "ipython",
    "version": 3
   },
   "file_extension": ".py",
   "mimetype": "text/x-python",
   "name": "python",
   "nbconvert_exporter": "python",
   "pygments_lexer": "ipython3",
   "version": "3.7.4"
  }
 },
 "nbformat": 4,
 "nbformat_minor": 2
}
