{
 "cells": [
  {
   "cell_type": "code",
   "execution_count": 1,
   "metadata": {
    "lines_to_next_cell": 0
   },
   "outputs": [],
   "source": [
    "# # Selection on Observables\n",
    "# ## Purpose\n",
    "# The purpose of this notebook is to illustrate an example of the workflow outlined in [Brathwaite and Walker (2017)](https://arxiv.org/abs/1706.07502). This simple application aims at highlighting the importance of causal structure in estimating causal effects of interest reflecting changes resulting from policy proposals. The basic idea is to show that when we control for intermediate variables of some variable of interest in a causal graph, we never recover the true causal parameter on the variable of interest.\n",
    "#\n",
    "# This notebook uses the dataset and the MNL utility specification from [Brathwaite and Walker (2016)](https://arxiv.org/abs/1606.05900) for demonstration.\n",
    "# The rest of the notebook is organized as follows:\n",
    "#  - Defining different causal graphs representing different views for how individuals make mode choices. These causal graphs are based on the MNL utility functions from [Brathwaite and Walker (2016)](https://arxiv.org/abs/1606.05900)\n",
    "#  - Simulating data based on the different beliefs about the data generating process illustrated by both causal graphs.\n",
    "#  - Perturbing one of the variables (e.g.: Travel Distance) to simulate a policy intervention.\n",
    "#  - Calculating and plotting the distributions of treatment effects according to different causal graphs.\n",
    "# # Import Needed Libraries"
   ]
  },
  {
   "cell_type": "code",
   "execution_count": 2,
   "metadata": {
    "lines_to_next_cell": 2
   },
   "outputs": [],
   "source": [
    "# Built-in libraries\n",
    "import copy\n",
    "import sys\n",
    "from collections import defaultdict\n",
    "from collections import OrderedDict\n",
    "from functools import reduce\n",
    "\n",
    "import causal2020.observables.availability as av\n",
    "import causal2020.observables.distfit as distfit\n",
    "import causal2020.observables.regression as reg\n",
    "import causal2020.observables.simulation as sim\n",
    "import matplotlib.pyplot as plt\n",
    "import numpy as np\n",
    "import pandas as pd\n",
    "import pylogit as pl\n",
    "import seaborn as sns\n",
    "from causal2020.observables.graphs import BIKE_UTILITY\n",
    "from causal2020.observables.graphs import DA_UTILITY\n",
    "from causal2020.observables.graphs import DTW_UTILITY\n",
    "from causal2020.observables.graphs import IND_UTILITY\n",
    "from causal2020.observables.graphs import SHARED_2_UTILITY\n",
    "from causal2020.observables.graphs import SHARED_3P_UTILITY\n",
    "from causal2020.observables.graphs import WALK_UTILITY\n",
    "from causal2020.observables.graphs import WTD_UTILITY\n",
    "from causal2020.observables.graphs import WTW_UTILITY\n",
    "from causal2020.observables.utils import is_notebook\n",
    "from causalgraphicalmodels import CausalGraphicalModel\n",
    "from checkrs.utils import simulate_choice_vector\n",
    "from pyprojroot import here\n",
    "\n",
    "# Third party libraries\n",
    "# Local libraries"
   ]
  },
  {
   "cell_type": "markdown",
   "metadata": {},
   "source": [
    "# Set Notebook Parameters"
   ]
  },
  {
   "cell_type": "code",
   "execution_count": 3,
   "metadata": {},
   "outputs": [],
   "source": [
    "SEED = 197\n",
    "np.random.seed(SEED)\n",
    "\n",
    "# Path to Data\n",
    "DATA_PATH = here(\n",
    "    \"data/raw/spring_2016_all_bay_area_long_format_plus_cross_bay_col.csv\"\n",
    ")\n",
    "\n",
    "# Path to computational code used\n",
    "# in simulation loop\n",
    "SIMULATE_NODES_WIDE = open(\n",
    "    here(\"src/causal2020/observables/simworkflow.py\")\n",
    ").read()\n",
    "SIMULATE_PERTURB = open(\n",
    "    here(\"src/causal2020/observables/simperturb.py\")\n",
    ").read()\n",
    "\n",
    "# Path to storage location for plots with results\n",
    "TRUE_VS_NAIVE_PLOT_PATH = here(\"article/images/histogram_selection_on_obs.pdf\")\n",
    "TRUE_VS_ESTIMATED_PLOT_PATH = here(\n",
    "    \"reports/figures/historgram_true_vs_estimated_effects.pdf\"\n",
    ")"
   ]
  },
  {
   "cell_type": "code",
   "execution_count": 4,
   "metadata": {},
   "outputs": [],
   "source": [
    "# Alternative id column from long format data\n",
    "ALT_ID_COL = \"mode_id\"\n",
    "\n",
    "# Individual specific variables list\n",
    "IND_SPEC_VARS = [\n",
    "    \"household_size\",\n",
    "    \"num_kids\",\n",
    "    \"num_cars\",\n",
    "    \"num_licensed_drivers\",\n",
    "]\n",
    "\n",
    "# Alternative specific variables dictionary\n",
    "# Key is alternative number, value is a list\n",
    "# of alternative specific nodes without parents\n",
    "ALT_SPEC_DICT = {\n",
    "    1: [\"total_travel_distance\"],\n",
    "    2: [\"total_travel_distance\"],\n",
    "    3: [\"total_travel_distance\"],\n",
    "    4: [\"total_travel_time\"],\n",
    "    5: [\"total_travel_time\"],\n",
    "    6: [\"total_travel_time\"],\n",
    "    7: [\"total_travel_distance\"],\n",
    "    8: [\"total_travel_distance\"],\n",
    "}\n",
    "\n",
    "# Trip specific variables list\n",
    "TRIP_SPEC_VARS = [\"cross_bay\"]\n",
    "\n",
    "# Alternative name dictionary\n",
    "# Key is alternative number\n",
    "# value is alternative number snake cased\n",
    "ALT_NAME_DICT = {\n",
    "    1: \"drive_alone\",\n",
    "    2: \"shared_2\",\n",
    "    3: \"shared_3p\",\n",
    "    4: \"wtw\",\n",
    "    5: \"dtw\",\n",
    "    6: \"wtd\",\n",
    "    7: \"walk\",\n",
    "    8: \"bike\",\n",
    "}\n",
    "\n",
    "ALT_ID_TO_MODE_NAME = {\n",
    "    1: \"Drive Alone\",\n",
    "    2: \"Shared Ride 2\",\n",
    "    3: \"Shared Ride 3+\",\n",
    "    4: \"Walk-Transit-Walk\",\n",
    "    5: \"Drive-Transit-Walk\",\n",
    "    6: \"Walk-Transit-Drive\",\n",
    "    7: \"Walk\",\n",
    "    8: \"Bike\",\n",
    "}\n",
    "\n",
    "# Variable type Dictionary\n",
    "# Key is string with variable name from previous\n",
    "# dictionaries and lists, value is a string\n",
    "# with type of the variable\n",
    "VARS_TYPE = {\n",
    "    \"num_kids\": \"categorical\",\n",
    "    \"household_size\": \"categorical\",\n",
    "    \"num_cars\": \"categorical\",\n",
    "    \"num_licensed_drivers\": \"categorical\",\n",
    "    \"cross_bay\": \"categorical\",\n",
    "    \"total_travel_time\": \"continuous\",\n",
    "    \"total_travel_distance\": \"continuous\",\n",
    "    \"total_travel_cost\": \"continuous\",\n",
    "}\n",
    "\n",
    "# Distribution to be explored for continuous variables\n",
    "CONT_DISTS = [\"norm\", \"alpha\", \"beta\", \"gamma\", \"expon\", \"gumbel\"]"
   ]
  },
  {
   "cell_type": "code",
   "execution_count": 5,
   "metadata": {},
   "outputs": [],
   "source": [
    "# Declare regression parameters\n",
    "\n",
    "REGS_DA = {\n",
    "    1: (\"total_travel_distance\", \"total_travel_cost\"),\n",
    "    2: (\"total_travel_distance\", \"total_travel_time\"),\n",
    "}\n",
    "\n",
    "REGS_TYPE_DA = {1: \"linear\", 2: \"linear\"}\n",
    "\n",
    "\n",
    "REGS_SHARED_2 = {\n",
    "    1: (\"total_travel_distance\", \"total_travel_cost\"),\n",
    "    2: (\"total_travel_distance\", \"total_travel_time\"),\n",
    "}\n",
    "\n",
    "REGS_TYPE_SHARED_2 = {1: \"linear\", 2: \"linear\"}\n",
    "\n",
    "\n",
    "REGS_SHARED_3P = {\n",
    "    1: (\"total_travel_distance\", \"total_travel_cost\"),\n",
    "    2: (\"total_travel_distance\", \"total_travel_time\"),\n",
    "}\n",
    "\n",
    "REGS_TYPE_SHARED_3P = {1: \"linear\", 2: \"linear\"}\n",
    "\n",
    "\n",
    "REGS_WTW = {1: (\"total_travel_time\", \"total_travel_cost\")}\n",
    "\n",
    "REGS_TYPE_WTW = {1: \"linear\"}\n",
    "\n",
    "\n",
    "REGS_DTW = {1: (\"total_travel_time\", \"total_travel_cost\")}\n",
    "\n",
    "REGS_TYPE_DTW = {1: \"linear\"}\n",
    "\n",
    "\n",
    "REGS_WTD = {1: (\"total_travel_time\", \"total_travel_cost\")}\n",
    "\n",
    "REGS_TYPE_WTD = {1: \"linear\"}"
   ]
  },
  {
   "cell_type": "code",
   "execution_count": 6,
   "metadata": {},
   "outputs": [],
   "source": [
    "# Parameters for conversion from Wide to Long\n",
    "\n",
    "IND_VARIABLES = [\n",
    "    \"num_kids\",\n",
    "    \"household_size\",\n",
    "    \"num_cars\",\n",
    "    \"num_licensed_drivers\",\n",
    "    \"cross_bay\",\n",
    "]\n",
    "\n",
    "\n",
    "# Dictionary of Alternative Specific Variables\n",
    "# TODO: verify whether all variables are needed\n",
    "# for each alternative\n",
    "ALT_VARYING_VARIABLES = {\n",
    "    \"total_travel_time\": dict(\n",
    "        [\n",
    "            (1, \"total_travel_time_drive_alone\"),\n",
    "            (2, \"total_travel_time_shared_2\"),\n",
    "            (3, \"total_travel_time_shared_3p\"),\n",
    "            (4, \"total_travel_time_wtw\"),\n",
    "            (5, \"total_travel_time_dtw\"),\n",
    "            (6, \"total_travel_time_wtd\"),\n",
    "        ]\n",
    "    ),\n",
    "    \"total_travel_cost\": dict(\n",
    "        [\n",
    "            (1, \"total_travel_cost_drive_alone\"),\n",
    "            (2, \"total_travel_cost_shared_2\"),\n",
    "            (3, \"total_travel_cost_shared_3p\"),\n",
    "            (4, \"total_travel_cost_wtw\"),\n",
    "            (5, \"total_travel_cost_dtw\"),\n",
    "            (6, \"total_travel_cost_wtd\"),\n",
    "        ]\n",
    "    ),\n",
    "    \"total_travel_distance\": dict(\n",
    "        [\n",
    "            (1, \"total_travel_distance_drive_alone\"),\n",
    "            (2, \"total_travel_distance_shared_2\"),\n",
    "            (3, \"total_travel_distance_shared_3p\"),\n",
    "            (7, \"total_travel_distance_walk\"),\n",
    "            (8, \"total_travel_distance_bike\"),\n",
    "        ]\n",
    "    ),\n",
    "}\n",
    "\n",
    "\n",
    "# Dictionary of alternative availability variables\n",
    "AVAILABILITY_VARIABLES = {\n",
    "    1: \"drive_alone_AV\",\n",
    "    2: \"shared_2_AV\",\n",
    "    3: \"shared_3p_AV\",\n",
    "    4: \"wtw_AV\",\n",
    "    5: \"dtw_AV\",\n",
    "    6: \"wtd_AV\",\n",
    "    7: \"walk_AV\",\n",
    "    8: \"bike_AV\",\n",
    "}\n",
    "\n",
    "##########\n",
    "# Determine the columns for: alternative ids, the observation ids and the choice\n",
    "##########\n",
    "# The 'custom_alt_id' is the name of a column to be created in the long-format data\n",
    "# It will identify the alternative associated with each row.\n",
    "CUSTOM_ALT_ID = \"mode_id\"\n",
    "\n",
    "OBS_ID_COL = \"observation_id\"\n",
    "\n",
    "# Declare choice column\n",
    "CHOICE_COL = \"sim_choice\""
   ]
  },
  {
   "cell_type": "code",
   "execution_count": 7,
   "metadata": {},
   "outputs": [],
   "source": [
    "# Create my specification and variable names for the basic MNL model\n",
    "# NOTE: - Keys should be variables within the long format dataframe.\n",
    "#         The sole exception to this is the \"intercept\" key.\n",
    "#       - For the specification dictionary, the values should be lists\n",
    "#         or lists of lists. Within a list, or within the inner-most\n",
    "#         list should be the alternative ID's of the alternative whose\n",
    "#         utility specification the explanatory variable is entering.\n",
    "\n",
    "MNL_SPECIFICATION = OrderedDict()\n",
    "MNL_NAMES = OrderedDict()\n",
    "\n",
    "MNL_SPECIFICATION[\"intercept\"] = [2, 3, 4, 5, 6, 7, 8]\n",
    "MNL_NAMES[\"intercept\"] = [\n",
    "    \"ASC Shared Ride: 2\",\n",
    "    \"ASC Shared Ride: 3+\",\n",
    "    \"ASC Walk-Transit-Walk\",\n",
    "    \"ASC Drive-Transit-Walk\",\n",
    "    \"ASC Walk-Transit-Drive\",\n",
    "    \"ASC Walk\",\n",
    "    \"ASC Bike\",\n",
    "]\n",
    "\n",
    "MNL_SPECIFICATION[\"total_travel_time\"] = [[1, 2, 3], [4, 5, 6]]\n",
    "MNL_NAMES[\"total_travel_time\"] = [\n",
    "    \"Travel Time, units:min (All Auto Modes)\",\n",
    "    \"Travel Time, units:min (All Transit Modes)\",\n",
    "]\n",
    "\n",
    "MNL_SPECIFICATION[\"total_travel_cost\"] = [[4, 5, 6]]\n",
    "MNL_NAMES[\"total_travel_cost\"] = [\"Travel Cost, units:$ (All Transit Modes)\"]\n",
    "\n",
    "MNL_SPECIFICATION[\"cost_per_distance\"] = [1, 2, 3]\n",
    "MNL_NAMES[\"cost_per_distance\"] = [\n",
    "    \"Travel Cost per Distance, units:$/mi (Drive Alone)\",\n",
    "    \"Travel Cost per Distance, units:$/mi (SharedRide-2)\",\n",
    "    \"Travel Cost per Distance, units:$/mi (SharedRide-3+)\",\n",
    "]\n",
    "\n",
    "MNL_SPECIFICATION[\"cars_per_licensed_drivers\"] = [[1, 2, 3]]\n",
    "MNL_NAMES[\"cars_per_licensed_drivers\"] = [\n",
    "    \"Autos per licensed drivers (All Auto Modes)\"\n",
    "]\n",
    "\n",
    "MNL_SPECIFICATION[\"total_travel_distance\"] = [7, 8]\n",
    "MNL_NAMES[\"total_travel_distance\"] = [\n",
    "    \"Travel Distance, units:mi (Walk)\",\n",
    "    \"Travel Distance, units:mi (Bike)\",\n",
    "]\n",
    "\n",
    "MNL_SPECIFICATION[\"cross_bay\"] = [1, [2, 3]]\n",
    "MNL_NAMES[\"cross_bay\"] = [\n",
    "    \"Cross-Bay Tour (Drive Alone)\",\n",
    "    \"Cross-Bay Tour (Shared Ride 2 & 3+)\",\n",
    "]\n",
    "\n",
    "MNL_SPECIFICATION[\"household_size\"] = [[2, 3]]\n",
    "MNL_NAMES[\"household_size\"] = [\"Household Size (Shared Ride 2 & 3+)\"]\n",
    "\n",
    "MNL_SPECIFICATION[\"num_kids\"] = [[2, 3]]\n",
    "MNL_NAMES[\"num_kids\"] = [\"Number of Kids in Household (Shared Ride 2 & 3+)\"]"
   ]
  },
  {
   "cell_type": "markdown",
   "metadata": {},
   "source": [
    "# Load and Describe Data"
   ]
  },
  {
   "cell_type": "code",
   "execution_count": 8,
   "metadata": {},
   "outputs": [
    {
     "data": {
      "text/plain": [
       "Drive Alone           0.428322\n",
       "Shared Ride 2         0.158841\n",
       "Shared Ride 3+        0.139860\n",
       "Walk-Transit-Walk     0.103397\n",
       "Drive-Transit-Walk    0.015485\n",
       "Walk-Transit-Drive    0.013237\n",
       "Walk                  0.094406\n",
       "Bike                  0.046454\n",
       "Name: Mode Shares, dtype: float64"
      ]
     },
     "execution_count": 8,
     "metadata": {},
     "output_type": "execute_result"
    }
   ],
   "source": [
    "# Reading data from the specified PATH\n",
    "bike_data_long = pd.read_csv(DATA_PATH)\n",
    "\n",
    "# Look at the mode shares in the data set\n",
    "\n",
    "mode_counts = (\n",
    "    bike_data_long.loc[bike_data_long.choice == 1, \"mode_id\"]\n",
    "    .value_counts()\n",
    "    .loc[range(1, 9)]\n",
    ")\n",
    "\n",
    "mode_shares = mode_counts / bike_data_long.observation_id.max()\n",
    "mode_shares.index = [ALT_ID_TO_MODE_NAME[x] for x in mode_shares.index.values]\n",
    "mode_shares.name = \"Mode Shares\"\n",
    "mode_shares"
   ]
  },
  {
   "cell_type": "markdown",
   "metadata": {},
   "source": [
    "# Choice Model Estimation"
   ]
  },
  {
   "cell_type": "markdown",
   "metadata": {},
   "source": [
    "For purposes of this task, we use the MNL specification from Brathwaite and Walker (2016) and estimate the model resulting from such a specification. We assume that the estimated model parameters represent the \"true\" model parameters."
   ]
  },
  {
   "cell_type": "code",
   "execution_count": 9,
   "metadata": {},
   "outputs": [
    {
     "name": "stdout",
     "output_type": "stream",
     "text": [
      "Log-likelihood at zero: -7,599.7019\n",
      "Initial Log-likelihood: -7,599.7019\n"
     ]
    },
    {
     "name": "stderr",
     "output_type": "stream",
     "text": [
      "/Users/timsb/miniconda3/envs/causal2020/lib/python3.7/site-packages/pylogit/choice_tools.py:703: FutureWarning: arrays to stack must be passed as a \"sequence\" type such as list or tuple. Support for non-sequence iterables such as generators is deprecated as of NumPy 1.16 and will raise an error in the future.\n",
      "/Users/timsb/miniconda3/envs/causal2020/lib/python3.7/site-packages/scipy/optimize/_minimize.py:523: RuntimeWarning: Method BFGS does not use Hessian information (hess).\n"
     ]
    },
    {
     "name": "stdout",
     "output_type": "stream",
     "text": [
      "Estimation Time for Point Estimation: 0.26 seconds.\n",
      "Final log-likelihood: -5,071.8150\n"
     ]
    },
    {
     "data": {
      "text/html": [
       "<table class=\"simpletable\">\n",
       "<caption>Multinomial Logit Model Regression Results</caption>\n",
       "<tr>\n",
       "  <th>Dep. Variable:</th>         <td>choice</td>          <th>  No. Observations:  </th>    <td>4,004</td>  \n",
       "</tr>\n",
       "<tr>\n",
       "  <th>Model:</th>         <td>Multinomial Logit Model</td> <th>  Df Residuals:      </th>    <td>3,984</td>  \n",
       "</tr>\n",
       "<tr>\n",
       "  <th>Method:</th>                  <td>MLE</td>           <th>  Df Model:          </th>     <td>20</td>    \n",
       "</tr>\n",
       "<tr>\n",
       "  <th>Date:</th>             <td>Sun, 20 Dec 2020</td>     <th>  Pseudo R-squ.:     </th>    <td>0.333</td>  \n",
       "</tr>\n",
       "<tr>\n",
       "  <th>Time:</th>                 <td>15:08:09</td>         <th>  Pseudo R-bar-squ.: </th>    <td>0.330</td>  \n",
       "</tr>\n",
       "<tr>\n",
       "  <th>AIC:</th>                 <td>10,183.630</td>        <th>  Log-Likelihood:    </th> <td>-5,071.815</td>\n",
       "</tr>\n",
       "<tr>\n",
       "  <th>BIC:</th>                 <td>10,309.531</td>        <th>  LL-Null:           </th> <td>-7,599.702</td>\n",
       "</tr>\n",
       "</table>\n",
       "<table class=\"simpletable\">\n",
       "<tr>\n",
       "                            <td></td>                              <th>coef</th>     <th>std err</th>      <th>z</th>      <th>P>|z|</th>  <th>[0.025</th>    <th>0.975]</th>  \n",
       "</tr>\n",
       "<tr>\n",
       "  <th>ASC Shared Ride: 2</th>                                   <td>   -0.8565</td> <td>    0.494</td> <td>   -1.735</td> <td> 0.083</td> <td>   -1.824</td> <td>    0.111</td>\n",
       "</tr>\n",
       "<tr>\n",
       "  <th>ASC Shared Ride: 3+</th>                                  <td>    3.2543</td> <td>    1.058</td> <td>    3.076</td> <td> 0.002</td> <td>    1.180</td> <td>    5.328</td>\n",
       "</tr>\n",
       "<tr>\n",
       "  <th>ASC Walk-Transit-Walk</th>                                <td>    0.1324</td> <td>    0.414</td> <td>    0.320</td> <td> 0.749</td> <td>   -0.678</td> <td>    0.943</td>\n",
       "</tr>\n",
       "<tr>\n",
       "  <th>ASC Drive-Transit-Walk</th>                               <td>   -2.0873</td> <td>    0.427</td> <td>   -4.886</td> <td> 0.000</td> <td>   -2.925</td> <td>   -1.250</td>\n",
       "</tr>\n",
       "<tr>\n",
       "  <th>ASC Walk-Transit-Drive</th>                               <td>   -2.4391</td> <td>    0.431</td> <td>   -5.660</td> <td> 0.000</td> <td>   -3.284</td> <td>   -1.595</td>\n",
       "</tr>\n",
       "<tr>\n",
       "  <th>ASC Walk</th>                                             <td>    2.0787</td> <td>    0.424</td> <td>    4.906</td> <td> 0.000</td> <td>    1.248</td> <td>    2.909</td>\n",
       "</tr>\n",
       "<tr>\n",
       "  <th>ASC Bike</th>                                             <td>   -0.5781</td> <td>    0.425</td> <td>   -1.360</td> <td> 0.174</td> <td>   -1.411</td> <td>    0.255</td>\n",
       "</tr>\n",
       "<tr>\n",
       "  <th>Travel Time, units:min (All Auto Modes)</th>              <td>   -0.0742</td> <td>    0.006</td> <td>  -13.135</td> <td> 0.000</td> <td>   -0.085</td> <td>   -0.063</td>\n",
       "</tr>\n",
       "<tr>\n",
       "  <th>Travel Time, units:min (All Transit Modes)</th>           <td>   -0.0268</td> <td>    0.002</td> <td>  -12.328</td> <td> 0.000</td> <td>   -0.031</td> <td>   -0.023</td>\n",
       "</tr>\n",
       "<tr>\n",
       "  <th>Travel Cost, units:$ (All Transit Modes)</th>             <td>   -0.1322</td> <td>    0.037</td> <td>   -3.570</td> <td> 0.000</td> <td>   -0.205</td> <td>   -0.060</td>\n",
       "</tr>\n",
       "<tr>\n",
       "  <th>Travel Cost per Distance, units:$/mi (Drive Alone)</th>   <td>   -2.2541</td> <td>    2.093</td> <td>   -1.077</td> <td> 0.281</td> <td>   -6.356</td> <td>    1.848</td>\n",
       "</tr>\n",
       "<tr>\n",
       "  <th>Travel Cost per Distance, units:$/mi (SharedRide-2)</th>  <td>  -16.8543</td> <td>    4.927</td> <td>   -3.421</td> <td> 0.001</td> <td>  -26.510</td> <td>   -7.198</td>\n",
       "</tr>\n",
       "<tr>\n",
       "  <th>Travel Cost per Distance, units:$/mi (SharedRide-3+)</th> <td>  -81.1009</td> <td>   15.551</td> <td>   -5.215</td> <td> 0.000</td> <td> -111.580</td> <td>  -50.621</td>\n",
       "</tr>\n",
       "<tr>\n",
       "  <th>Autos per licensed drivers (All Auto Modes)</th>          <td>    1.2108</td> <td>    0.129</td> <td>    9.393</td> <td> 0.000</td> <td>    0.958</td> <td>    1.463</td>\n",
       "</tr>\n",
       "<tr>\n",
       "  <th>Travel Distance, units:mi (Walk)</th>                     <td>   -1.0230</td> <td>    0.050</td> <td>  -20.330</td> <td> 0.000</td> <td>   -1.122</td> <td>   -0.924</td>\n",
       "</tr>\n",
       "<tr>\n",
       "  <th>Travel Distance, units:mi (Bike)</th>                     <td>   -0.2840</td> <td>    0.024</td> <td>  -11.733</td> <td> 0.000</td> <td>   -0.331</td> <td>   -0.237</td>\n",
       "</tr>\n",
       "<tr>\n",
       "  <th>Cross-Bay Tour (Drive Alone)</th>                         <td>   -0.6425</td> <td>    0.360</td> <td>   -1.784</td> <td> 0.074</td> <td>   -1.348</td> <td>    0.063</td>\n",
       "</tr>\n",
       "<tr>\n",
       "  <th>Cross-Bay Tour (Shared Ride 2 & 3+)</th>                  <td>    0.5106</td> <td>    0.402</td> <td>    1.270</td> <td> 0.204</td> <td>   -0.277</td> <td>    1.299</td>\n",
       "</tr>\n",
       "<tr>\n",
       "  <th>Household Size (Shared Ride 2 & 3+)</th>                  <td>    0.1141</td> <td>    0.045</td> <td>    2.535</td> <td> 0.011</td> <td>    0.026</td> <td>    0.202</td>\n",
       "</tr>\n",
       "<tr>\n",
       "  <th>Number of Kids in Household (Shared Ride 2 & 3+)</th>     <td>    0.6865</td> <td>    0.054</td> <td>   12.816</td> <td> 0.000</td> <td>    0.581</td> <td>    0.791</td>\n",
       "</tr>\n",
       "</table>"
      ],
      "text/plain": [
       "<class 'statsmodels.iolib.summary.Summary'>\n",
       "\"\"\"\n",
       "                     Multinomial Logit Model Regression Results                    \n",
       "===================================================================================\n",
       "Dep. Variable:                      choice   No. Observations:                4,004\n",
       "Model:             Multinomial Logit Model   Df Residuals:                    3,984\n",
       "Method:                                MLE   Df Model:                           20\n",
       "Date:                     Sun, 20 Dec 2020   Pseudo R-squ.:                   0.333\n",
       "Time:                             15:08:09   Pseudo R-bar-squ.:               0.330\n",
       "AIC:                            10,183.630   Log-Likelihood:             -5,071.815\n",
       "BIC:                            10,309.531   LL-Null:                    -7,599.702\n",
       "========================================================================================================================\n",
       "                                                           coef    std err          z      P>|z|      [0.025      0.975]\n",
       "------------------------------------------------------------------------------------------------------------------------\n",
       "ASC Shared Ride: 2                                      -0.8565      0.494     -1.735      0.083      -1.824       0.111\n",
       "ASC Shared Ride: 3+                                      3.2543      1.058      3.076      0.002       1.180       5.328\n",
       "ASC Walk-Transit-Walk                                    0.1324      0.414      0.320      0.749      -0.678       0.943\n",
       "ASC Drive-Transit-Walk                                  -2.0873      0.427     -4.886      0.000      -2.925      -1.250\n",
       "ASC Walk-Transit-Drive                                  -2.4391      0.431     -5.660      0.000      -3.284      -1.595\n",
       "ASC Walk                                                 2.0787      0.424      4.906      0.000       1.248       2.909\n",
       "ASC Bike                                                -0.5781      0.425     -1.360      0.174      -1.411       0.255\n",
       "Travel Time, units:min (All Auto Modes)                 -0.0742      0.006    -13.135      0.000      -0.085      -0.063\n",
       "Travel Time, units:min (All Transit Modes)              -0.0268      0.002    -12.328      0.000      -0.031      -0.023\n",
       "Travel Cost, units:$ (All Transit Modes)                -0.1322      0.037     -3.570      0.000      -0.205      -0.060\n",
       "Travel Cost per Distance, units:$/mi (Drive Alone)      -2.2541      2.093     -1.077      0.281      -6.356       1.848\n",
       "Travel Cost per Distance, units:$/mi (SharedRide-2)    -16.8543      4.927     -3.421      0.001     -26.510      -7.198\n",
       "Travel Cost per Distance, units:$/mi (SharedRide-3+)   -81.1009     15.551     -5.215      0.000    -111.580     -50.621\n",
       "Autos per licensed drivers (All Auto Modes)              1.2108      0.129      9.393      0.000       0.958       1.463\n",
       "Travel Distance, units:mi (Walk)                        -1.0230      0.050    -20.330      0.000      -1.122      -0.924\n",
       "Travel Distance, units:mi (Bike)                        -0.2840      0.024    -11.733      0.000      -0.331      -0.237\n",
       "Cross-Bay Tour (Drive Alone)                            -0.6425      0.360     -1.784      0.074      -1.348       0.063\n",
       "Cross-Bay Tour (Shared Ride 2 & 3+)                      0.5106      0.402      1.270      0.204      -0.277       1.299\n",
       "Household Size (Shared Ride 2 & 3+)                      0.1141      0.045      2.535      0.011       0.026       0.202\n",
       "Number of Kids in Household (Shared Ride 2 & 3+)         0.6865      0.054     12.816      0.000       0.581       0.791\n",
       "========================================================================================================================\n",
       "\"\"\""
      ]
     },
     "execution_count": 9,
     "metadata": {},
     "output_type": "execute_result"
    }
   ],
   "source": [
    "# Estimate the basic MNL model, using the hessian and newton-conjugate gradient\n",
    "mnl_model = pl.create_choice_model(\n",
    "    data=bike_data_long,\n",
    "    alt_id_col=ALT_ID_COL,\n",
    "    obs_id_col=OBS_ID_COL,\n",
    "    choice_col=\"choice\",\n",
    "    specification=MNL_SPECIFICATION,\n",
    "    model_type=\"MNL\",\n",
    "    names=MNL_NAMES,\n",
    ")\n",
    "\n",
    "num_vars = len(reduce(lambda x, y: x + y, MNL_NAMES.values()))\n",
    "\n",
    "# Note newton-cg used to ensure convergence to a point where gradient\n",
    "# is essentially zero for all dimensions.\n",
    "mnl_model.fit_mle(np.zeros(num_vars), method=\"BFGS\")\n",
    "\n",
    "# Look at the estimation results\n",
    "mnl_model.get_statsmodels_summary()"
   ]
  },
  {
   "cell_type": "markdown",
   "metadata": {},
   "source": [
    "# Show Causal Graphs"
   ]
  },
  {
   "cell_type": "markdown",
   "metadata": {},
   "source": [
    "We generate two causal graphs based on the data at hand and the specified utility functions from above:\n",
    "\n",
    " * An \"independent\" causal graph: All nodes are independent and do not affect each other. Any change in any variable in the graph would not result in changes in other variables and would only affect the value of the utility function.\n",
    " * A \"realistic\" causal graph: The structure of this causal graph shows that some variables affect others. In this example, a change in travel distance affects travel time, travel cosst, and directly affects the utility function.\n",
    "\n",
    "The outcome of each of the causal graphs is the utility of each variable. As such, we generate causal graphs based on the utility specification for each alternative."
   ]
  },
  {
   "cell_type": "markdown",
   "metadata": {},
   "source": [
    "## Independent Causal Graph"
   ]
  },
  {
   "cell_type": "code",
   "execution_count": 10,
   "metadata": {},
   "outputs": [
    {
     "data": {
      "image/svg+xml": [
       "<?xml version=\"1.0\" encoding=\"UTF-8\" standalone=\"no\"?>\n",
       "<!DOCTYPE svg PUBLIC \"-//W3C//DTD SVG 1.1//EN\"\n",
       " \"http://www.w3.org/Graphics/SVG/1.1/DTD/svg11.dtd\">\n",
       "<!-- Generated by graphviz version 2.42.3 (20191010.1750)\n",
       " -->\n",
       "<!-- Title: %3 Pages: 1 -->\n",
       "<svg width=\"1054pt\" height=\"116pt\"\n",
       " viewBox=\"0.00 0.00 1053.91 116.00\" xmlns=\"http://www.w3.org/2000/svg\" xmlns:xlink=\"http://www.w3.org/1999/xlink\">\n",
       "<g id=\"graph0\" class=\"graph\" transform=\"scale(1 1) rotate(0) translate(4 112)\">\n",
       "<title>%3</title>\n",
       "<polygon fill=\"white\" stroke=\"transparent\" points=\"-4,4 -4,-112 1049.91,-112 1049.91,4 -4,4\"/>\n",
       "<!-- Number of Autos -->\n",
       "<g id=\"node1\" class=\"node\">\n",
       "<title>Number of Autos</title>\n",
       "<ellipse fill=\"none\" stroke=\"black\" cx=\"71.52\" cy=\"-90\" rx=\"71.54\" ry=\"18\"/>\n",
       "<text text-anchor=\"middle\" x=\"71.52\" y=\"-85.8\" font-family=\"Times,serif\" font-size=\"14.00\">Number of Autos</text>\n",
       "</g>\n",
       "<!-- Utility (Drive Alone) -->\n",
       "<g id=\"node7\" class=\"node\">\n",
       "<title>Utility (Drive Alone)</title>\n",
       "<ellipse fill=\"none\" stroke=\"black\" cx=\"541.52\" cy=\"-18\" rx=\"84.55\" ry=\"18\"/>\n",
       "<text text-anchor=\"middle\" x=\"541.52\" y=\"-13.8\" font-family=\"Times,serif\" font-size=\"14.00\">Utility (Drive Alone)</text>\n",
       "</g>\n",
       "<!-- Number of Autos&#45;&gt;Utility (Drive Alone) -->\n",
       "<g id=\"edge6\" class=\"edge\">\n",
       "<title>Number of Autos&#45;&gt;Utility (Drive Alone)</title>\n",
       "<path fill=\"none\" stroke=\"black\" d=\"M123.05,-77.46C132.5,-75.51 142.29,-73.61 151.52,-72 256.86,-53.68 379.13,-37.95 458.28,-28.49\"/>\n",
       "<polygon fill=\"black\" stroke=\"black\" points=\"459.16,-31.92 468.67,-27.26 458.33,-24.96 459.16,-31.92\"/>\n",
       "</g>\n",
       "<!-- Number of Licensed Drivers -->\n",
       "<g id=\"node2\" class=\"node\">\n",
       "<title>Number of Licensed Drivers</title>\n",
       "<ellipse fill=\"none\" stroke=\"black\" cx=\"272.52\" cy=\"-90\" rx=\"111.55\" ry=\"18\"/>\n",
       "<text text-anchor=\"middle\" x=\"272.52\" y=\"-85.8\" font-family=\"Times,serif\" font-size=\"14.00\">Number of Licensed Drivers</text>\n",
       "</g>\n",
       "<!-- Number of Licensed Drivers&#45;&gt;Utility (Drive Alone) -->\n",
       "<g id=\"edge5\" class=\"edge\">\n",
       "<title>Number of Licensed Drivers&#45;&gt;Utility (Drive Alone)</title>\n",
       "<path fill=\"none\" stroke=\"black\" d=\"M328.58,-74.41C372.91,-62.88 434.71,-46.8 480.31,-34.93\"/>\n",
       "<polygon fill=\"black\" stroke=\"black\" points=\"481.28,-38.29 490.08,-32.39 479.52,-31.52 481.28,-38.29\"/>\n",
       "</g>\n",
       "<!-- Cross Bay Trip -->\n",
       "<g id=\"node3\" class=\"node\">\n",
       "<title>Cross Bay Trip</title>\n",
       "<ellipse fill=\"none\" stroke=\"black\" cx=\"465.52\" cy=\"-90\" rx=\"63.87\" ry=\"18\"/>\n",
       "<text text-anchor=\"middle\" x=\"465.52\" y=\"-85.8\" font-family=\"Times,serif\" font-size=\"14.00\">Cross Bay Trip</text>\n",
       "</g>\n",
       "<!-- Cross Bay Trip&#45;&gt;Utility (Drive Alone) -->\n",
       "<g id=\"edge4\" class=\"edge\">\n",
       "<title>Cross Bay Trip&#45;&gt;Utility (Drive Alone)</title>\n",
       "<path fill=\"none\" stroke=\"black\" d=\"M483.53,-72.41C493.21,-63.5 505.3,-52.36 515.94,-42.56\"/>\n",
       "<polygon fill=\"black\" stroke=\"black\" points=\"518.39,-45.06 523.37,-35.71 513.65,-39.91 518.39,-45.06\"/>\n",
       "</g>\n",
       "<!-- Total Travel Cost -->\n",
       "<g id=\"node4\" class=\"node\">\n",
       "<title>Total Travel Cost</title>\n",
       "<ellipse fill=\"none\" stroke=\"black\" cx=\"618.52\" cy=\"-90\" rx=\"71.31\" ry=\"18\"/>\n",
       "<text text-anchor=\"middle\" x=\"618.52\" y=\"-85.8\" font-family=\"Times,serif\" font-size=\"14.00\">Total Travel Cost</text>\n",
       "</g>\n",
       "<!-- Total Travel Cost&#45;&gt;Utility (Drive Alone) -->\n",
       "<g id=\"edge3\" class=\"edge\">\n",
       "<title>Total Travel Cost&#45;&gt;Utility (Drive Alone)</title>\n",
       "<path fill=\"none\" stroke=\"black\" d=\"M600.27,-72.41C590.47,-63.5 578.21,-52.36 567.43,-42.56\"/>\n",
       "<polygon fill=\"black\" stroke=\"black\" points=\"569.66,-39.85 559.9,-35.71 564.95,-45.03 569.66,-39.85\"/>\n",
       "</g>\n",
       "<!-- Total Travel Distance -->\n",
       "<g id=\"node5\" class=\"node\">\n",
       "<title>Total Travel Distance</title>\n",
       "<ellipse fill=\"none\" stroke=\"black\" cx=\"794.52\" cy=\"-90\" rx=\"86.25\" ry=\"18\"/>\n",
       "<text text-anchor=\"middle\" x=\"794.52\" y=\"-85.8\" font-family=\"Times,serif\" font-size=\"14.00\">Total Travel Distance</text>\n",
       "</g>\n",
       "<!-- Total Travel Distance&#45;&gt;Utility (Drive Alone) -->\n",
       "<g id=\"edge1\" class=\"edge\">\n",
       "<title>Total Travel Distance&#45;&gt;Utility (Drive Alone)</title>\n",
       "<path fill=\"none\" stroke=\"black\" d=\"M744.84,-75.25C703.5,-63.82 644.54,-47.5 600.75,-35.39\"/>\n",
       "<polygon fill=\"black\" stroke=\"black\" points=\"601.66,-32.01 591.09,-32.71 599.79,-38.75 601.66,-32.01\"/>\n",
       "</g>\n",
       "<!-- Total Travel Time -->\n",
       "<g id=\"node6\" class=\"node\">\n",
       "<title>Total Travel Time</title>\n",
       "<ellipse fill=\"none\" stroke=\"black\" cx=\"972.52\" cy=\"-90\" rx=\"73.28\" ry=\"18\"/>\n",
       "<text text-anchor=\"middle\" x=\"972.52\" y=\"-85.8\" font-family=\"Times,serif\" font-size=\"14.00\">Total Travel Time</text>\n",
       "</g>\n",
       "<!-- Total Travel Time&#45;&gt;Utility (Drive Alone) -->\n",
       "<g id=\"edge2\" class=\"edge\">\n",
       "<title>Total Travel Time&#45;&gt;Utility (Drive Alone)</title>\n",
       "<path fill=\"none\" stroke=\"black\" d=\"M919.02,-77.63C909.22,-75.66 899.08,-73.71 889.52,-72 797.63,-55.6 691.51,-39.91 620.85,-29.91\"/>\n",
       "<polygon fill=\"black\" stroke=\"black\" points=\"621.08,-26.41 610.69,-28.48 620.1,-33.34 621.08,-26.41\"/>\n",
       "</g>\n",
       "</g>\n",
       "</svg>\n"
      ],
      "text/plain": [
       "<graphviz.dot.Digraph at 0x7fdfd824f8d0>"
      ]
     },
     "execution_count": 10,
     "metadata": {},
     "output_type": "execute_result"
    }
   ],
   "source": [
    "IND_UTILITY.draw()"
   ]
  },
  {
   "cell_type": "markdown",
   "metadata": {},
   "source": [
    "## Realistic Causal Graphs"
   ]
  },
  {
   "cell_type": "markdown",
   "metadata": {},
   "source": [
    "## Drive Alone"
   ]
  },
  {
   "cell_type": "code",
   "execution_count": 11,
   "metadata": {},
   "outputs": [
    {
     "data": {
      "image/svg+xml": [
       "<?xml version=\"1.0\" encoding=\"UTF-8\" standalone=\"no\"?>\n",
       "<!DOCTYPE svg PUBLIC \"-//W3C//DTD SVG 1.1//EN\"\n",
       " \"http://www.w3.org/Graphics/SVG/1.1/DTD/svg11.dtd\">\n",
       "<!-- Generated by graphviz version 2.42.3 (20191010.1750)\n",
       " -->\n",
       "<!-- Title: %3 Pages: 1 -->\n",
       "<svg width=\"878pt\" height=\"188pt\"\n",
       " viewBox=\"0.00 0.00 878.44 188.00\" xmlns=\"http://www.w3.org/2000/svg\" xmlns:xlink=\"http://www.w3.org/1999/xlink\">\n",
       "<g id=\"graph0\" class=\"graph\" transform=\"scale(1 1) rotate(0) translate(4 184)\">\n",
       "<title>%3</title>\n",
       "<polygon fill=\"white\" stroke=\"transparent\" points=\"-4,4 -4,-184 874.44,-184 874.44,4 -4,4\"/>\n",
       "<!-- Number of Autos -->\n",
       "<g id=\"node1\" class=\"node\">\n",
       "<title>Number of Autos</title>\n",
       "<ellipse fill=\"none\" stroke=\"black\" cx=\"71.52\" cy=\"-90\" rx=\"71.54\" ry=\"18\"/>\n",
       "<text text-anchor=\"middle\" x=\"71.52\" y=\"-85.8\" font-family=\"Times,serif\" font-size=\"14.00\">Number of Autos</text>\n",
       "</g>\n",
       "<!-- Utility (Drive Alone) -->\n",
       "<g id=\"node7\" class=\"node\">\n",
       "<title>Utility (Drive Alone)</title>\n",
       "<ellipse fill=\"none\" stroke=\"black\" cx=\"541.52\" cy=\"-18\" rx=\"84.55\" ry=\"18\"/>\n",
       "<text text-anchor=\"middle\" x=\"541.52\" y=\"-13.8\" font-family=\"Times,serif\" font-size=\"14.00\">Utility (Drive Alone)</text>\n",
       "</g>\n",
       "<!-- Number of Autos&#45;&gt;Utility (Drive Alone) -->\n",
       "<g id=\"edge7\" class=\"edge\">\n",
       "<title>Number of Autos&#45;&gt;Utility (Drive Alone)</title>\n",
       "<path fill=\"none\" stroke=\"black\" d=\"M123.05,-77.46C132.5,-75.51 142.29,-73.61 151.52,-72 256.86,-53.68 379.13,-37.95 458.28,-28.49\"/>\n",
       "<polygon fill=\"black\" stroke=\"black\" points=\"459.16,-31.92 468.67,-27.26 458.33,-24.96 459.16,-31.92\"/>\n",
       "</g>\n",
       "<!-- Number of Licensed Drivers -->\n",
       "<g id=\"node2\" class=\"node\">\n",
       "<title>Number of Licensed Drivers</title>\n",
       "<ellipse fill=\"none\" stroke=\"black\" cx=\"272.52\" cy=\"-90\" rx=\"111.55\" ry=\"18\"/>\n",
       "<text text-anchor=\"middle\" x=\"272.52\" y=\"-85.8\" font-family=\"Times,serif\" font-size=\"14.00\">Number of Licensed Drivers</text>\n",
       "</g>\n",
       "<!-- Number of Licensed Drivers&#45;&gt;Utility (Drive Alone) -->\n",
       "<g id=\"edge8\" class=\"edge\">\n",
       "<title>Number of Licensed Drivers&#45;&gt;Utility (Drive Alone)</title>\n",
       "<path fill=\"none\" stroke=\"black\" d=\"M328.58,-74.41C372.91,-62.88 434.71,-46.8 480.31,-34.93\"/>\n",
       "<polygon fill=\"black\" stroke=\"black\" points=\"481.28,-38.29 490.08,-32.39 479.52,-31.52 481.28,-38.29\"/>\n",
       "</g>\n",
       "<!-- Cross Bay Trip -->\n",
       "<g id=\"node3\" class=\"node\">\n",
       "<title>Cross Bay Trip</title>\n",
       "<ellipse fill=\"none\" stroke=\"black\" cx=\"465.52\" cy=\"-90\" rx=\"63.87\" ry=\"18\"/>\n",
       "<text text-anchor=\"middle\" x=\"465.52\" y=\"-85.8\" font-family=\"Times,serif\" font-size=\"14.00\">Cross Bay Trip</text>\n",
       "</g>\n",
       "<!-- Cross Bay Trip&#45;&gt;Utility (Drive Alone) -->\n",
       "<g id=\"edge6\" class=\"edge\">\n",
       "<title>Cross Bay Trip&#45;&gt;Utility (Drive Alone)</title>\n",
       "<path fill=\"none\" stroke=\"black\" d=\"M483.53,-72.41C493.21,-63.5 505.3,-52.36 515.94,-42.56\"/>\n",
       "<polygon fill=\"black\" stroke=\"black\" points=\"518.39,-45.06 523.37,-35.71 513.65,-39.91 518.39,-45.06\"/>\n",
       "</g>\n",
       "<!-- Total Travel Cost -->\n",
       "<g id=\"node4\" class=\"node\">\n",
       "<title>Total Travel Cost</title>\n",
       "<ellipse fill=\"none\" stroke=\"black\" cx=\"618.52\" cy=\"-90\" rx=\"71.31\" ry=\"18\"/>\n",
       "<text text-anchor=\"middle\" x=\"618.52\" y=\"-85.8\" font-family=\"Times,serif\" font-size=\"14.00\">Total Travel Cost</text>\n",
       "</g>\n",
       "<!-- Total Travel Cost&#45;&gt;Utility (Drive Alone) -->\n",
       "<g id=\"edge5\" class=\"edge\">\n",
       "<title>Total Travel Cost&#45;&gt;Utility (Drive Alone)</title>\n",
       "<path fill=\"none\" stroke=\"black\" d=\"M600.27,-72.41C590.47,-63.5 578.21,-52.36 567.43,-42.56\"/>\n",
       "<polygon fill=\"black\" stroke=\"black\" points=\"569.66,-39.85 559.9,-35.71 564.95,-45.03 569.66,-39.85\"/>\n",
       "</g>\n",
       "<!-- Total Travel Distance -->\n",
       "<g id=\"node5\" class=\"node\">\n",
       "<title>Total Travel Distance</title>\n",
       "<ellipse fill=\"none\" stroke=\"black\" cx=\"781.52\" cy=\"-162\" rx=\"86.25\" ry=\"18\"/>\n",
       "<text text-anchor=\"middle\" x=\"781.52\" y=\"-157.8\" font-family=\"Times,serif\" font-size=\"14.00\">Total Travel Distance</text>\n",
       "</g>\n",
       "<!-- Total Travel Distance&#45;&gt;Total Travel Cost -->\n",
       "<g id=\"edge2\" class=\"edge\">\n",
       "<title>Total Travel Distance&#45;&gt;Total Travel Cost</title>\n",
       "<path fill=\"none\" stroke=\"black\" d=\"M745.34,-145.46C720.87,-134.95 688.4,-121.01 662.44,-109.86\"/>\n",
       "<polygon fill=\"black\" stroke=\"black\" points=\"663.77,-106.62 653.2,-105.89 661,-113.05 663.77,-106.62\"/>\n",
       "</g>\n",
       "<!-- Total Travel Time -->\n",
       "<g id=\"node6\" class=\"node\">\n",
       "<title>Total Travel Time</title>\n",
       "<ellipse fill=\"none\" stroke=\"black\" cx=\"781.52\" cy=\"-90\" rx=\"73.28\" ry=\"18\"/>\n",
       "<text text-anchor=\"middle\" x=\"781.52\" y=\"-85.8\" font-family=\"Times,serif\" font-size=\"14.00\">Total Travel Time</text>\n",
       "</g>\n",
       "<!-- Total Travel Distance&#45;&gt;Total Travel Time -->\n",
       "<g id=\"edge1\" class=\"edge\">\n",
       "<title>Total Travel Distance&#45;&gt;Total Travel Time</title>\n",
       "<path fill=\"none\" stroke=\"black\" d=\"M781.52,-143.7C781.52,-135.98 781.52,-126.71 781.52,-118.11\"/>\n",
       "<polygon fill=\"black\" stroke=\"black\" points=\"785.02,-118.1 781.52,-108.1 778.02,-118.1 785.02,-118.1\"/>\n",
       "</g>\n",
       "<!-- Total Travel Distance&#45;&gt;Utility (Drive Alone) -->\n",
       "<g id=\"edge3\" class=\"edge\">\n",
       "<title>Total Travel Distance&#45;&gt;Utility (Drive Alone)</title>\n",
       "<path fill=\"none\" stroke=\"black\" d=\"M820.69,-145.84C837.01,-137.34 854.28,-124.97 863.52,-108 871.17,-93.95 873.87,-84.2 863.52,-72 834.72,-38.07 719.98,-25.82 635.64,-21.43\"/>\n",
       "<polygon fill=\"black\" stroke=\"black\" points=\"635.68,-17.92 625.52,-20.93 635.33,-24.92 635.68,-17.92\"/>\n",
       "</g>\n",
       "<!-- Total Travel Time&#45;&gt;Utility (Drive Alone) -->\n",
       "<g id=\"edge4\" class=\"edge\">\n",
       "<title>Total Travel Time&#45;&gt;Utility (Drive Alone)</title>\n",
       "<path fill=\"none\" stroke=\"black\" d=\"M736.09,-75.75C697.22,-64.41 641.04,-48.03 599.04,-35.78\"/>\n",
       "<polygon fill=\"black\" stroke=\"black\" points=\"599.8,-32.35 589.22,-32.91 597.84,-39.07 599.8,-32.35\"/>\n",
       "</g>\n",
       "</g>\n",
       "</svg>\n"
      ],
      "text/plain": [
       "<graphviz.dot.Digraph at 0x7fe018ec8350>"
      ]
     },
     "execution_count": 11,
     "metadata": {},
     "output_type": "execute_result"
    }
   ],
   "source": [
    "DA_UTILITY.draw()"
   ]
  },
  {
   "cell_type": "markdown",
   "metadata": {},
   "source": [
    "## Shared-2"
   ]
  },
  {
   "cell_type": "code",
   "execution_count": 12,
   "metadata": {},
   "outputs": [
    {
     "data": {
      "image/svg+xml": [
       "<?xml version=\"1.0\" encoding=\"UTF-8\" standalone=\"no\"?>\n",
       "<!DOCTYPE svg PUBLIC \"-//W3C//DTD SVG 1.1//EN\"\n",
       " \"http://www.w3.org/Graphics/SVG/1.1/DTD/svg11.dtd\">\n",
       "<!-- Generated by graphviz version 2.42.3 (20191010.1750)\n",
       " -->\n",
       "<!-- Title: %3 Pages: 1 -->\n",
       "<svg width=\"1203pt\" height=\"188pt\"\n",
       " viewBox=\"0.00 0.00 1203.44 188.00\" xmlns=\"http://www.w3.org/2000/svg\" xmlns:xlink=\"http://www.w3.org/1999/xlink\">\n",
       "<g id=\"graph0\" class=\"graph\" transform=\"scale(1 1) rotate(0) translate(4 184)\">\n",
       "<title>%3</title>\n",
       "<polygon fill=\"white\" stroke=\"transparent\" points=\"-4,4 -4,-184 1199.44,-184 1199.44,4 -4,4\"/>\n",
       "<!-- Utility (Shared Ride 2) -->\n",
       "<g id=\"node1\" class=\"node\">\n",
       "<title>Utility (Shared Ride 2)</title>\n",
       "<ellipse fill=\"none\" stroke=\"black\" cx=\"660.86\" cy=\"-18\" rx=\"91.31\" ry=\"18\"/>\n",
       "<text text-anchor=\"middle\" x=\"660.86\" y=\"-13.8\" font-family=\"Times,serif\" font-size=\"14.00\">Utility (Shared Ride 2)</text>\n",
       "</g>\n",
       "<!-- Household Size -->\n",
       "<g id=\"node2\" class=\"node\">\n",
       "<title>Household Size</title>\n",
       "<ellipse fill=\"none\" stroke=\"black\" cx=\"65.86\" cy=\"-90\" rx=\"65.72\" ry=\"18\"/>\n",
       "<text text-anchor=\"middle\" x=\"65.86\" y=\"-85.8\" font-family=\"Times,serif\" font-size=\"14.00\">Household Size</text>\n",
       "</g>\n",
       "<!-- Household Size&#45;&gt;Utility (Shared Ride 2) -->\n",
       "<g id=\"edge9\" class=\"edge\">\n",
       "<title>Household Size&#45;&gt;Utility (Shared Ride 2)</title>\n",
       "<path fill=\"none\" stroke=\"black\" d=\"M112.66,-77.32C121.65,-75.34 131.02,-73.46 139.86,-72 287.23,-47.67 460.01,-32.74 564.9,-25.17\"/>\n",
       "<polygon fill=\"black\" stroke=\"black\" points=\"565.42,-28.64 575.15,-24.43 564.92,-21.66 565.42,-28.64\"/>\n",
       "</g>\n",
       "<!-- Number of Autos -->\n",
       "<g id=\"node3\" class=\"node\">\n",
       "<title>Number of Autos</title>\n",
       "<ellipse fill=\"none\" stroke=\"black\" cx=\"220.86\" cy=\"-90\" rx=\"71.54\" ry=\"18\"/>\n",
       "<text text-anchor=\"middle\" x=\"220.86\" y=\"-85.8\" font-family=\"Times,serif\" font-size=\"14.00\">Number of Autos</text>\n",
       "</g>\n",
       "<!-- Number of Autos&#45;&gt;Utility (Shared Ride 2) -->\n",
       "<g id=\"edge7\" class=\"edge\">\n",
       "<title>Number of Autos&#45;&gt;Utility (Shared Ride 2)</title>\n",
       "<path fill=\"none\" stroke=\"black\" d=\"M272.84,-77.46C282.15,-75.53 291.78,-73.63 300.86,-72 394.84,-55.11 503.33,-39.69 576.44,-29.89\"/>\n",
       "<polygon fill=\"black\" stroke=\"black\" points=\"577.07,-33.34 586.52,-28.55 576.15,-26.4 577.07,-33.34\"/>\n",
       "</g>\n",
       "<!-- Number of Licensed Drivers -->\n",
       "<g id=\"node4\" class=\"node\">\n",
       "<title>Number of Licensed Drivers</title>\n",
       "<ellipse fill=\"none\" stroke=\"black\" cx=\"421.86\" cy=\"-90\" rx=\"111.55\" ry=\"18\"/>\n",
       "<text text-anchor=\"middle\" x=\"421.86\" y=\"-85.8\" font-family=\"Times,serif\" font-size=\"14.00\">Number of Licensed Drivers</text>\n",
       "</g>\n",
       "<!-- Number of Licensed Drivers&#45;&gt;Utility (Shared Ride 2) -->\n",
       "<g id=\"edge8\" class=\"edge\">\n",
       "<title>Number of Licensed Drivers&#45;&gt;Utility (Shared Ride 2)</title>\n",
       "<path fill=\"none\" stroke=\"black\" d=\"M473.13,-73.98C511.07,-62.87 562.79,-47.72 602.35,-36.14\"/>\n",
       "<polygon fill=\"black\" stroke=\"black\" points=\"603.51,-39.44 612.12,-33.27 601.54,-32.73 603.51,-39.44\"/>\n",
       "</g>\n",
       "<!-- Cross Bay Trip -->\n",
       "<g id=\"node5\" class=\"node\">\n",
       "<title>Cross Bay Trip</title>\n",
       "<ellipse fill=\"none\" stroke=\"black\" cx=\"614.86\" cy=\"-90\" rx=\"63.87\" ry=\"18\"/>\n",
       "<text text-anchor=\"middle\" x=\"614.86\" y=\"-85.8\" font-family=\"Times,serif\" font-size=\"14.00\">Cross Bay Trip</text>\n",
       "</g>\n",
       "<!-- Cross Bay Trip&#45;&gt;Utility (Shared Ride 2) -->\n",
       "<g id=\"edge6\" class=\"edge\">\n",
       "<title>Cross Bay Trip&#45;&gt;Utility (Shared Ride 2)</title>\n",
       "<path fill=\"none\" stroke=\"black\" d=\"M626,-72.05C631.4,-63.84 638,-53.79 644,-44.66\"/>\n",
       "<polygon fill=\"black\" stroke=\"black\" points=\"646.94,-46.55 649.51,-36.28 641.09,-42.71 646.94,-46.55\"/>\n",
       "</g>\n",
       "<!-- Total Travel Cost -->\n",
       "<g id=\"node6\" class=\"node\">\n",
       "<title>Total Travel Cost</title>\n",
       "<ellipse fill=\"none\" stroke=\"black\" cx=\"805.86\" cy=\"-90\" rx=\"71.31\" ry=\"18\"/>\n",
       "<text text-anchor=\"middle\" x=\"805.86\" y=\"-85.8\" font-family=\"Times,serif\" font-size=\"14.00\">Total Travel Cost</text>\n",
       "</g>\n",
       "<!-- Total Travel Cost&#45;&gt;Utility (Shared Ride 2) -->\n",
       "<g id=\"edge5\" class=\"edge\">\n",
       "<title>Total Travel Cost&#45;&gt;Utility (Shared Ride 2)</title>\n",
       "<path fill=\"none\" stroke=\"black\" d=\"M774.4,-73.81C753.46,-63.7 725.72,-50.31 702.9,-39.29\"/>\n",
       "<polygon fill=\"black\" stroke=\"black\" points=\"704.3,-36.08 693.77,-34.89 701.26,-42.39 704.3,-36.08\"/>\n",
       "</g>\n",
       "<!-- Total Travel Distance -->\n",
       "<g id=\"node7\" class=\"node\">\n",
       "<title>Total Travel Distance</title>\n",
       "<ellipse fill=\"none\" stroke=\"black\" cx=\"805.86\" cy=\"-162\" rx=\"86.25\" ry=\"18\"/>\n",
       "<text text-anchor=\"middle\" x=\"805.86\" y=\"-157.8\" font-family=\"Times,serif\" font-size=\"14.00\">Total Travel Distance</text>\n",
       "</g>\n",
       "<!-- Total Travel Distance&#45;&gt;Utility (Shared Ride 2) -->\n",
       "<g id=\"edge4\" class=\"edge\">\n",
       "<title>Total Travel Distance&#45;&gt;Utility (Shared Ride 2)</title>\n",
       "<path fill=\"none\" stroke=\"black\" d=\"M776.29,-144.87C760.35,-135.36 740.92,-122.39 725.86,-108 706.13,-89.15 688.2,-63.67 676.2,-44.8\"/>\n",
       "<polygon fill=\"black\" stroke=\"black\" points=\"679.06,-42.77 670.8,-36.13 673.11,-46.47 679.06,-42.77\"/>\n",
       "</g>\n",
       "<!-- Total Travel Distance&#45;&gt;Total Travel Cost -->\n",
       "<g id=\"edge3\" class=\"edge\">\n",
       "<title>Total Travel Distance&#45;&gt;Total Travel Cost</title>\n",
       "<path fill=\"none\" stroke=\"black\" d=\"M805.86,-143.7C805.86,-135.98 805.86,-126.71 805.86,-118.11\"/>\n",
       "<polygon fill=\"black\" stroke=\"black\" points=\"809.36,-118.1 805.86,-108.1 802.36,-118.1 809.36,-118.1\"/>\n",
       "</g>\n",
       "<!-- Total Travel Time -->\n",
       "<g id=\"node9\" class=\"node\">\n",
       "<title>Total Travel Time</title>\n",
       "<ellipse fill=\"none\" stroke=\"black\" cx=\"968.86\" cy=\"-90\" rx=\"73.28\" ry=\"18\"/>\n",
       "<text text-anchor=\"middle\" x=\"968.86\" y=\"-85.8\" font-family=\"Times,serif\" font-size=\"14.00\">Total Travel Time</text>\n",
       "</g>\n",
       "<!-- Total Travel Distance&#45;&gt;Total Travel Time -->\n",
       "<g id=\"edge2\" class=\"edge\">\n",
       "<title>Total Travel Distance&#45;&gt;Total Travel Time</title>\n",
       "<path fill=\"none\" stroke=\"black\" d=\"M842.04,-145.46C866.51,-134.95 898.98,-121.01 924.94,-109.86\"/>\n",
       "<polygon fill=\"black\" stroke=\"black\" points=\"926.38,-113.05 934.18,-105.89 923.62,-106.62 926.38,-113.05\"/>\n",
       "</g>\n",
       "<!-- Number of Kids -->\n",
       "<g id=\"node8\" class=\"node\">\n",
       "<title>Number of Kids</title>\n",
       "<ellipse fill=\"none\" stroke=\"black\" cx=\"1127.86\" cy=\"-90\" rx=\"67.66\" ry=\"18\"/>\n",
       "<text text-anchor=\"middle\" x=\"1127.86\" y=\"-85.8\" font-family=\"Times,serif\" font-size=\"14.00\">Number of Kids</text>\n",
       "</g>\n",
       "<!-- Number of Kids&#45;&gt;Utility (Shared Ride 2) -->\n",
       "<g id=\"edge10\" class=\"edge\">\n",
       "<title>Number of Kids&#45;&gt;Utility (Shared Ride 2)</title>\n",
       "<path fill=\"none\" stroke=\"black\" d=\"M1078.69,-77.51C1069.47,-75.54 1059.89,-73.61 1050.86,-72 947.48,-53.59 827.68,-38.19 748.42,-28.81\"/>\n",
       "<polygon fill=\"black\" stroke=\"black\" points=\"748.82,-25.33 738.48,-27.64 748,-32.29 748.82,-25.33\"/>\n",
       "</g>\n",
       "<!-- Total Travel Time&#45;&gt;Utility (Shared Ride 2) -->\n",
       "<g id=\"edge1\" class=\"edge\">\n",
       "<title>Total Travel Time&#45;&gt;Utility (Shared Ride 2)</title>\n",
       "<path fill=\"none\" stroke=\"black\" d=\"M916.96,-77.2C865.05,-65.41 784.96,-47.2 728.18,-34.3\"/>\n",
       "<polygon fill=\"black\" stroke=\"black\" points=\"728.74,-30.84 718.22,-32.03 727.19,-37.66 728.74,-30.84\"/>\n",
       "</g>\n",
       "</g>\n",
       "</svg>\n"
      ],
      "text/plain": [
       "<graphviz.dot.Digraph at 0x7fe018ec8cd0>"
      ]
     },
     "execution_count": 12,
     "metadata": {},
     "output_type": "execute_result"
    }
   ],
   "source": [
    "SHARED_2_UTILITY.draw()"
   ]
  },
  {
   "cell_type": "markdown",
   "metadata": {},
   "source": [
    "## Shared-3+"
   ]
  },
  {
   "cell_type": "code",
   "execution_count": 13,
   "metadata": {},
   "outputs": [
    {
     "data": {
      "image/svg+xml": [
       "<?xml version=\"1.0\" encoding=\"UTF-8\" standalone=\"no\"?>\n",
       "<!DOCTYPE svg PUBLIC \"-//W3C//DTD SVG 1.1//EN\"\n",
       " \"http://www.w3.org/Graphics/SVG/1.1/DTD/svg11.dtd\">\n",
       "<!-- Generated by graphviz version 2.42.3 (20191010.1750)\n",
       " -->\n",
       "<!-- Title: %3 Pages: 1 -->\n",
       "<svg width=\"1202pt\" height=\"188pt\"\n",
       " viewBox=\"0.00 0.00 1202.44 188.00\" xmlns=\"http://www.w3.org/2000/svg\" xmlns:xlink=\"http://www.w3.org/1999/xlink\">\n",
       "<g id=\"graph0\" class=\"graph\" transform=\"scale(1 1) rotate(0) translate(4 184)\">\n",
       "<title>%3</title>\n",
       "<polygon fill=\"white\" stroke=\"transparent\" points=\"-4,4 -4,-184 1198.44,-184 1198.44,4 -4,4\"/>\n",
       "<!-- Household Size -->\n",
       "<g id=\"node1\" class=\"node\">\n",
       "<title>Household Size</title>\n",
       "<ellipse fill=\"none\" stroke=\"black\" cx=\"65.86\" cy=\"-90\" rx=\"65.72\" ry=\"18\"/>\n",
       "<text text-anchor=\"middle\" x=\"65.86\" y=\"-85.8\" font-family=\"Times,serif\" font-size=\"14.00\">Household Size</text>\n",
       "</g>\n",
       "<!-- Utility (Shared Ride 3+) -->\n",
       "<g id=\"node8\" class=\"node\">\n",
       "<title>Utility (Shared Ride 3+)</title>\n",
       "<ellipse fill=\"none\" stroke=\"black\" cx=\"690.86\" cy=\"-18\" rx=\"96.28\" ry=\"18\"/>\n",
       "<text text-anchor=\"middle\" x=\"690.86\" y=\"-13.8\" font-family=\"Times,serif\" font-size=\"14.00\">Utility (Shared Ride 3+)</text>\n",
       "</g>\n",
       "<!-- Household Size&#45;&gt;Utility (Shared Ride 3+) -->\n",
       "<g id=\"edge9\" class=\"edge\">\n",
       "<title>Household Size&#45;&gt;Utility (Shared Ride 3+)</title>\n",
       "<path fill=\"none\" stroke=\"black\" d=\"M112.66,-77.28C121.65,-75.31 131.01,-73.44 139.86,-72 295.78,-46.7 478.63,-32.04 589.55,-24.79\"/>\n",
       "<polygon fill=\"black\" stroke=\"black\" points=\"589.97,-28.27 599.72,-24.13 589.52,-21.28 589.97,-28.27\"/>\n",
       "</g>\n",
       "<!-- Number of Autos -->\n",
       "<g id=\"node2\" class=\"node\">\n",
       "<title>Number of Autos</title>\n",
       "<ellipse fill=\"none\" stroke=\"black\" cx=\"220.86\" cy=\"-90\" rx=\"71.54\" ry=\"18\"/>\n",
       "<text text-anchor=\"middle\" x=\"220.86\" y=\"-85.8\" font-family=\"Times,serif\" font-size=\"14.00\">Number of Autos</text>\n",
       "</g>\n",
       "<!-- Number of Autos&#45;&gt;Utility (Shared Ride 3+) -->\n",
       "<g id=\"edge7\" class=\"edge\">\n",
       "<title>Number of Autos&#45;&gt;Utility (Shared Ride 3+)</title>\n",
       "<path fill=\"none\" stroke=\"black\" d=\"M272.39,-77.46C281.84,-75.51 291.63,-73.61 300.86,-72 403.19,-54.2 521.49,-38.85 600.73,-29.32\"/>\n",
       "<polygon fill=\"black\" stroke=\"black\" points=\"601.16,-32.79 610.67,-28.13 600.33,-25.84 601.16,-32.79\"/>\n",
       "</g>\n",
       "<!-- Number of Licensed Drivers -->\n",
       "<g id=\"node3\" class=\"node\">\n",
       "<title>Number of Licensed Drivers</title>\n",
       "<ellipse fill=\"none\" stroke=\"black\" cx=\"421.86\" cy=\"-90\" rx=\"111.55\" ry=\"18\"/>\n",
       "<text text-anchor=\"middle\" x=\"421.86\" y=\"-85.8\" font-family=\"Times,serif\" font-size=\"14.00\">Number of Licensed Drivers</text>\n",
       "</g>\n",
       "<!-- Number of Licensed Drivers&#45;&gt;Utility (Shared Ride 3+) -->\n",
       "<g id=\"edge8\" class=\"edge\">\n",
       "<title>Number of Licensed Drivers&#45;&gt;Utility (Shared Ride 3+)</title>\n",
       "<path fill=\"none\" stroke=\"black\" d=\"M477.93,-74.41C521.54,-63.06 582.05,-47.31 627.43,-35.51\"/>\n",
       "<polygon fill=\"black\" stroke=\"black\" points=\"628.37,-38.88 637.16,-32.97 626.6,-32.1 628.37,-38.88\"/>\n",
       "</g>\n",
       "<!-- Cross Bay Trip -->\n",
       "<g id=\"node4\" class=\"node\">\n",
       "<title>Cross Bay Trip</title>\n",
       "<ellipse fill=\"none\" stroke=\"black\" cx=\"614.86\" cy=\"-90\" rx=\"63.87\" ry=\"18\"/>\n",
       "<text text-anchor=\"middle\" x=\"614.86\" y=\"-85.8\" font-family=\"Times,serif\" font-size=\"14.00\">Cross Bay Trip</text>\n",
       "</g>\n",
       "<!-- Cross Bay Trip&#45;&gt;Utility (Shared Ride 3+) -->\n",
       "<g id=\"edge6\" class=\"edge\">\n",
       "<title>Cross Bay Trip&#45;&gt;Utility (Shared Ride 3+)</title>\n",
       "<path fill=\"none\" stroke=\"black\" d=\"M632.87,-72.41C642.55,-63.5 654.65,-52.36 665.28,-42.56\"/>\n",
       "<polygon fill=\"black\" stroke=\"black\" points=\"667.73,-45.06 672.72,-35.71 662.99,-39.91 667.73,-45.06\"/>\n",
       "</g>\n",
       "<!-- Total Travel Cost -->\n",
       "<g id=\"node5\" class=\"node\">\n",
       "<title>Total Travel Cost</title>\n",
       "<ellipse fill=\"none\" stroke=\"black\" cx=\"767.86\" cy=\"-90\" rx=\"71.31\" ry=\"18\"/>\n",
       "<text text-anchor=\"middle\" x=\"767.86\" y=\"-85.8\" font-family=\"Times,serif\" font-size=\"14.00\">Total Travel Cost</text>\n",
       "</g>\n",
       "<!-- Total Travel Cost&#45;&gt;Utility (Shared Ride 3+) -->\n",
       "<g id=\"edge5\" class=\"edge\">\n",
       "<title>Total Travel Cost&#45;&gt;Utility (Shared Ride 3+)</title>\n",
       "<path fill=\"none\" stroke=\"black\" d=\"M749.61,-72.41C739.81,-63.5 727.55,-52.36 716.78,-42.56\"/>\n",
       "<polygon fill=\"black\" stroke=\"black\" points=\"719,-39.85 709.25,-35.71 714.29,-45.03 719,-39.85\"/>\n",
       "</g>\n",
       "<!-- Total Travel Distance -->\n",
       "<g id=\"node6\" class=\"node\">\n",
       "<title>Total Travel Distance</title>\n",
       "<ellipse fill=\"none\" stroke=\"black\" cx=\"866.86\" cy=\"-162\" rx=\"86.25\" ry=\"18\"/>\n",
       "<text text-anchor=\"middle\" x=\"866.86\" y=\"-157.8\" font-family=\"Times,serif\" font-size=\"14.00\">Total Travel Distance</text>\n",
       "</g>\n",
       "<!-- Total Travel Distance&#45;&gt;Total Travel Cost -->\n",
       "<g id=\"edge3\" class=\"edge\">\n",
       "<title>Total Travel Distance&#45;&gt;Total Travel Cost</title>\n",
       "<path fill=\"none\" stroke=\"black\" d=\"M843.65,-144.59C830.27,-135.13 813.29,-123.12 798.79,-112.87\"/>\n",
       "<polygon fill=\"black\" stroke=\"black\" points=\"800.77,-109.98 790.59,-107.07 796.73,-115.7 800.77,-109.98\"/>\n",
       "</g>\n",
       "<!-- Total Travel Distance&#45;&gt;Utility (Shared Ride 3+) -->\n",
       "<g id=\"edge4\" class=\"edge\">\n",
       "<title>Total Travel Distance&#45;&gt;Utility (Shared Ride 3+)</title>\n",
       "<path fill=\"none\" stroke=\"black\" d=\"M867.93,-143.71C868.18,-123.95 865.52,-91.82 847.86,-72 829.87,-51.81 803.93,-39.3 778.3,-31.56\"/>\n",
       "<polygon fill=\"black\" stroke=\"black\" points=\"779.08,-28.14 768.51,-28.81 777.19,-34.88 779.08,-28.14\"/>\n",
       "</g>\n",
       "<!-- Total Travel Time -->\n",
       "<g id=\"node9\" class=\"node\">\n",
       "<title>Total Travel Time</title>\n",
       "<ellipse fill=\"none\" stroke=\"black\" cx=\"967.86\" cy=\"-90\" rx=\"73.28\" ry=\"18\"/>\n",
       "<text text-anchor=\"middle\" x=\"967.86\" y=\"-85.8\" font-family=\"Times,serif\" font-size=\"14.00\">Total Travel Time</text>\n",
       "</g>\n",
       "<!-- Total Travel Distance&#45;&gt;Total Travel Time -->\n",
       "<g id=\"edge2\" class=\"edge\">\n",
       "<title>Total Travel Distance&#45;&gt;Total Travel Time</title>\n",
       "<path fill=\"none\" stroke=\"black\" d=\"M890.54,-144.59C904.09,-135.2 921.27,-123.29 935.99,-113.09\"/>\n",
       "<polygon fill=\"black\" stroke=\"black\" points=\"938.11,-115.88 944.33,-107.31 934.12,-110.13 938.11,-115.88\"/>\n",
       "</g>\n",
       "<!-- Number of Kids -->\n",
       "<g id=\"node7\" class=\"node\">\n",
       "<title>Number of Kids</title>\n",
       "<ellipse fill=\"none\" stroke=\"black\" cx=\"1126.86\" cy=\"-90\" rx=\"67.66\" ry=\"18\"/>\n",
       "<text text-anchor=\"middle\" x=\"1126.86\" y=\"-85.8\" font-family=\"Times,serif\" font-size=\"14.00\">Number of Kids</text>\n",
       "</g>\n",
       "<!-- Number of Kids&#45;&gt;Utility (Shared Ride 3+) -->\n",
       "<g id=\"edge10\" class=\"edge\">\n",
       "<title>Number of Kids&#45;&gt;Utility (Shared Ride 3+)</title>\n",
       "<path fill=\"none\" stroke=\"black\" d=\"M1077.67,-77.6C1068.46,-75.61 1058.88,-73.66 1049.86,-72 957.54,-55.02 851.08,-39.85 778.21,-30.14\"/>\n",
       "<polygon fill=\"black\" stroke=\"black\" points=\"778.53,-26.65 768.16,-28.8 777.61,-33.59 778.53,-26.65\"/>\n",
       "</g>\n",
       "<!-- Total Travel Time&#45;&gt;Utility (Shared Ride 3+) -->\n",
       "<g id=\"edge1\" class=\"edge\">\n",
       "<title>Total Travel Time&#45;&gt;Utility (Shared Ride 3+)</title>\n",
       "<path fill=\"none\" stroke=\"black\" d=\"M918.66,-76.57C873.19,-65.07 805.32,-47.93 755.49,-35.33\"/>\n",
       "<polygon fill=\"black\" stroke=\"black\" points=\"756.33,-31.93 745.78,-32.88 754.62,-38.72 756.33,-31.93\"/>\n",
       "</g>\n",
       "</g>\n",
       "</svg>\n"
      ],
      "text/plain": [
       "<graphviz.dot.Digraph at 0x7fe02982a650>"
      ]
     },
     "execution_count": 13,
     "metadata": {},
     "output_type": "execute_result"
    }
   ],
   "source": [
    "SHARED_3P_UTILITY.draw()"
   ]
  },
  {
   "cell_type": "markdown",
   "metadata": {},
   "source": [
    "## Walk-Transit-Walk"
   ]
  },
  {
   "cell_type": "code",
   "execution_count": 14,
   "metadata": {},
   "outputs": [
    {
     "data": {
      "image/svg+xml": [
       "<?xml version=\"1.0\" encoding=\"UTF-8\" standalone=\"no\"?>\n",
       "<!DOCTYPE svg PUBLIC \"-//W3C//DTD SVG 1.1//EN\"\n",
       " \"http://www.w3.org/Graphics/SVG/1.1/DTD/svg11.dtd\">\n",
       "<!-- Generated by graphviz version 2.42.3 (20191010.1750)\n",
       " -->\n",
       "<!-- Title: %3 Pages: 1 -->\n",
       "<svg width=\"203pt\" height=\"188pt\"\n",
       " viewBox=\"0.00 0.00 202.80 188.00\" xmlns=\"http://www.w3.org/2000/svg\" xmlns:xlink=\"http://www.w3.org/1999/xlink\">\n",
       "<g id=\"graph0\" class=\"graph\" transform=\"scale(1 1) rotate(0) translate(4 184)\">\n",
       "<title>%3</title>\n",
       "<polygon fill=\"white\" stroke=\"transparent\" points=\"-4,4 -4,-184 198.8,-184 198.8,4 -4,4\"/>\n",
       "<!-- Utility (WTW) -->\n",
       "<g id=\"node1\" class=\"node\">\n",
       "<title>Utility (WTW)</title>\n",
       "<ellipse fill=\"none\" stroke=\"black\" cx=\"73.39\" cy=\"-18\" rx=\"63.29\" ry=\"18\"/>\n",
       "<text text-anchor=\"middle\" x=\"73.39\" y=\"-13.8\" font-family=\"Times,serif\" font-size=\"14.00\">Utility (WTW)</text>\n",
       "</g>\n",
       "<!-- Total Travel Cost -->\n",
       "<g id=\"node2\" class=\"node\">\n",
       "<title>Total Travel Cost</title>\n",
       "<ellipse fill=\"none\" stroke=\"black\" cx=\"123.39\" cy=\"-90\" rx=\"71.31\" ry=\"18\"/>\n",
       "<text text-anchor=\"middle\" x=\"123.39\" y=\"-85.8\" font-family=\"Times,serif\" font-size=\"14.00\">Total Travel Cost</text>\n",
       "</g>\n",
       "<!-- Total Travel Cost&#45;&gt;Utility (WTW) -->\n",
       "<g id=\"edge3\" class=\"edge\">\n",
       "<title>Total Travel Cost&#45;&gt;Utility (WTW)</title>\n",
       "<path fill=\"none\" stroke=\"black\" d=\"M111.28,-72.05C105.27,-63.63 97.87,-53.28 91.22,-43.97\"/>\n",
       "<polygon fill=\"black\" stroke=\"black\" points=\"94.04,-41.89 85.38,-35.79 88.35,-45.96 94.04,-41.89\"/>\n",
       "</g>\n",
       "<!-- Total Travel Time -->\n",
       "<g id=\"node3\" class=\"node\">\n",
       "<title>Total Travel Time</title>\n",
       "<ellipse fill=\"none\" stroke=\"black\" cx=\"73.39\" cy=\"-162\" rx=\"73.28\" ry=\"18\"/>\n",
       "<text text-anchor=\"middle\" x=\"73.39\" y=\"-157.8\" font-family=\"Times,serif\" font-size=\"14.00\">Total Travel Time</text>\n",
       "</g>\n",
       "<!-- Total Travel Time&#45;&gt;Utility (WTW) -->\n",
       "<g id=\"edge2\" class=\"edge\">\n",
       "<title>Total Travel Time&#45;&gt;Utility (WTW)</title>\n",
       "<path fill=\"none\" stroke=\"black\" d=\"M60.66,-143.85C54.1,-133.92 46.78,-120.88 43.39,-108 39.31,-92.53 39.31,-87.47 43.39,-72 45.92,-62.39 50.64,-52.69 55.59,-44.26\"/>\n",
       "<polygon fill=\"black\" stroke=\"black\" points=\"58.63,-46.02 60.97,-35.68 52.7,-42.3 58.63,-46.02\"/>\n",
       "</g>\n",
       "<!-- Total Travel Time&#45;&gt;Total Travel Cost -->\n",
       "<g id=\"edge1\" class=\"edge\">\n",
       "<title>Total Travel Time&#45;&gt;Total Travel Cost</title>\n",
       "<path fill=\"none\" stroke=\"black\" d=\"M85.49,-144.05C91.51,-135.63 98.9,-125.28 105.56,-115.97\"/>\n",
       "<polygon fill=\"black\" stroke=\"black\" points=\"108.43,-117.96 111.4,-107.79 102.74,-113.89 108.43,-117.96\"/>\n",
       "</g>\n",
       "</g>\n",
       "</svg>\n"
      ],
      "text/plain": [
       "<graphviz.dot.Digraph at 0x7fe0386d8c90>"
      ]
     },
     "execution_count": 14,
     "metadata": {},
     "output_type": "execute_result"
    }
   ],
   "source": [
    "WTW_UTILITY.draw()"
   ]
  },
  {
   "cell_type": "markdown",
   "metadata": {},
   "source": [
    "## Drive-Transit-Walk"
   ]
  },
  {
   "cell_type": "code",
   "execution_count": 15,
   "metadata": {},
   "outputs": [
    {
     "data": {
      "image/svg+xml": [
       "<?xml version=\"1.0\" encoding=\"UTF-8\" standalone=\"no\"?>\n",
       "<!DOCTYPE svg PUBLIC \"-//W3C//DTD SVG 1.1//EN\"\n",
       " \"http://www.w3.org/Graphics/SVG/1.1/DTD/svg11.dtd\">\n",
       "<!-- Generated by graphviz version 2.42.3 (20191010.1750)\n",
       " -->\n",
       "<!-- Title: %3 Pages: 1 -->\n",
       "<svg width=\"202pt\" height=\"188pt\"\n",
       " viewBox=\"0.00 0.00 201.80 188.00\" xmlns=\"http://www.w3.org/2000/svg\" xmlns:xlink=\"http://www.w3.org/1999/xlink\">\n",
       "<g id=\"graph0\" class=\"graph\" transform=\"scale(1 1) rotate(0) translate(4 184)\">\n",
       "<title>%3</title>\n",
       "<polygon fill=\"white\" stroke=\"transparent\" points=\"-4,4 -4,-184 197.8,-184 197.8,4 -4,4\"/>\n",
       "<!-- Total Travel Cost -->\n",
       "<g id=\"node1\" class=\"node\">\n",
       "<title>Total Travel Cost</title>\n",
       "<ellipse fill=\"none\" stroke=\"black\" cx=\"71.41\" cy=\"-90\" rx=\"71.31\" ry=\"18\"/>\n",
       "<text text-anchor=\"middle\" x=\"71.41\" y=\"-85.8\" font-family=\"Times,serif\" font-size=\"14.00\">Total Travel Cost</text>\n",
       "</g>\n",
       "<!-- Utility (DTW) -->\n",
       "<g id=\"node3\" class=\"node\">\n",
       "<title>Utility (DTW)</title>\n",
       "<ellipse fill=\"none\" stroke=\"black\" cx=\"120.41\" cy=\"-18\" rx=\"61.37\" ry=\"18\"/>\n",
       "<text text-anchor=\"middle\" x=\"120.41\" y=\"-13.8\" font-family=\"Times,serif\" font-size=\"14.00\">Utility (DTW)</text>\n",
       "</g>\n",
       "<!-- Total Travel Cost&#45;&gt;Utility (DTW) -->\n",
       "<g id=\"edge3\" class=\"edge\">\n",
       "<title>Total Travel Cost&#45;&gt;Utility (DTW)</title>\n",
       "<path fill=\"none\" stroke=\"black\" d=\"M83.27,-72.05C89.11,-63.71 96.26,-53.49 102.73,-44.25\"/>\n",
       "<polygon fill=\"black\" stroke=\"black\" points=\"105.79,-45.99 108.65,-35.79 100.05,-41.97 105.79,-45.99\"/>\n",
       "</g>\n",
       "<!-- Total Travel Time -->\n",
       "<g id=\"node2\" class=\"node\">\n",
       "<title>Total Travel Time</title>\n",
       "<ellipse fill=\"none\" stroke=\"black\" cx=\"120.41\" cy=\"-162\" rx=\"73.28\" ry=\"18\"/>\n",
       "<text text-anchor=\"middle\" x=\"120.41\" y=\"-157.8\" font-family=\"Times,serif\" font-size=\"14.00\">Total Travel Time</text>\n",
       "</g>\n",
       "<!-- Total Travel Time&#45;&gt;Total Travel Cost -->\n",
       "<g id=\"edge1\" class=\"edge\">\n",
       "<title>Total Travel Time&#45;&gt;Total Travel Cost</title>\n",
       "<path fill=\"none\" stroke=\"black\" d=\"M108.55,-144.05C102.71,-135.71 95.55,-125.49 89.08,-116.25\"/>\n",
       "<polygon fill=\"black\" stroke=\"black\" points=\"91.76,-113.97 83.16,-107.79 86.03,-117.99 91.76,-113.97\"/>\n",
       "</g>\n",
       "<!-- Total Travel Time&#45;&gt;Utility (DTW) -->\n",
       "<g id=\"edge2\" class=\"edge\">\n",
       "<title>Total Travel Time&#45;&gt;Utility (DTW)</title>\n",
       "<path fill=\"none\" stroke=\"black\" d=\"M133.55,-143.91C140.33,-134.01 147.89,-120.96 151.41,-108 155.59,-92.56 155.59,-87.44 151.41,-72 148.79,-62.33 143.91,-52.61 138.79,-44.19\"/>\n",
       "<polygon fill=\"black\" stroke=\"black\" points=\"141.61,-42.11 133.23,-35.62 135.74,-45.92 141.61,-42.11\"/>\n",
       "</g>\n",
       "</g>\n",
       "</svg>\n"
      ],
      "text/plain": [
       "<graphviz.dot.Digraph at 0x7fe02982a1d0>"
      ]
     },
     "execution_count": 15,
     "metadata": {},
     "output_type": "execute_result"
    }
   ],
   "source": [
    "DTW_UTILITY.draw()"
   ]
  },
  {
   "cell_type": "markdown",
   "metadata": {},
   "source": [
    "##  Walk-Transit-Drive"
   ]
  },
  {
   "cell_type": "code",
   "execution_count": 16,
   "metadata": {},
   "outputs": [
    {
     "data": {
      "image/svg+xml": [
       "<?xml version=\"1.0\" encoding=\"UTF-8\" standalone=\"no\"?>\n",
       "<!DOCTYPE svg PUBLIC \"-//W3C//DTD SVG 1.1//EN\"\n",
       " \"http://www.w3.org/Graphics/SVG/1.1/DTD/svg11.dtd\">\n",
       "<!-- Generated by graphviz version 2.42.3 (20191010.1750)\n",
       " -->\n",
       "<!-- Title: %3 Pages: 1 -->\n",
       "<svg width=\"202pt\" height=\"188pt\"\n",
       " viewBox=\"0.00 0.00 201.80 188.00\" xmlns=\"http://www.w3.org/2000/svg\" xmlns:xlink=\"http://www.w3.org/1999/xlink\">\n",
       "<g id=\"graph0\" class=\"graph\" transform=\"scale(1 1) rotate(0) translate(4 184)\">\n",
       "<title>%3</title>\n",
       "<polygon fill=\"white\" stroke=\"transparent\" points=\"-4,4 -4,-184 197.8,-184 197.8,4 -4,4\"/>\n",
       "<!-- Total Travel Cost -->\n",
       "<g id=\"node1\" class=\"node\">\n",
       "<title>Total Travel Cost</title>\n",
       "<ellipse fill=\"none\" stroke=\"black\" cx=\"71.41\" cy=\"-90\" rx=\"71.31\" ry=\"18\"/>\n",
       "<text text-anchor=\"middle\" x=\"71.41\" y=\"-85.8\" font-family=\"Times,serif\" font-size=\"14.00\">Total Travel Cost</text>\n",
       "</g>\n",
       "<!-- Utility (WTD) -->\n",
       "<g id=\"node3\" class=\"node\">\n",
       "<title>Utility (WTD)</title>\n",
       "<ellipse fill=\"none\" stroke=\"black\" cx=\"120.41\" cy=\"-18\" rx=\"61.37\" ry=\"18\"/>\n",
       "<text text-anchor=\"middle\" x=\"120.41\" y=\"-13.8\" font-family=\"Times,serif\" font-size=\"14.00\">Utility (WTD)</text>\n",
       "</g>\n",
       "<!-- Total Travel Cost&#45;&gt;Utility (WTD) -->\n",
       "<g id=\"edge3\" class=\"edge\">\n",
       "<title>Total Travel Cost&#45;&gt;Utility (WTD)</title>\n",
       "<path fill=\"none\" stroke=\"black\" d=\"M83.27,-72.05C89.11,-63.71 96.26,-53.49 102.73,-44.25\"/>\n",
       "<polygon fill=\"black\" stroke=\"black\" points=\"105.79,-45.99 108.65,-35.79 100.05,-41.97 105.79,-45.99\"/>\n",
       "</g>\n",
       "<!-- Total Travel Time -->\n",
       "<g id=\"node2\" class=\"node\">\n",
       "<title>Total Travel Time</title>\n",
       "<ellipse fill=\"none\" stroke=\"black\" cx=\"120.41\" cy=\"-162\" rx=\"73.28\" ry=\"18\"/>\n",
       "<text text-anchor=\"middle\" x=\"120.41\" y=\"-157.8\" font-family=\"Times,serif\" font-size=\"14.00\">Total Travel Time</text>\n",
       "</g>\n",
       "<!-- Total Travel Time&#45;&gt;Total Travel Cost -->\n",
       "<g id=\"edge1\" class=\"edge\">\n",
       "<title>Total Travel Time&#45;&gt;Total Travel Cost</title>\n",
       "<path fill=\"none\" stroke=\"black\" d=\"M108.55,-144.05C102.71,-135.71 95.55,-125.49 89.08,-116.25\"/>\n",
       "<polygon fill=\"black\" stroke=\"black\" points=\"91.76,-113.97 83.16,-107.79 86.03,-117.99 91.76,-113.97\"/>\n",
       "</g>\n",
       "<!-- Total Travel Time&#45;&gt;Utility (WTD) -->\n",
       "<g id=\"edge2\" class=\"edge\">\n",
       "<title>Total Travel Time&#45;&gt;Utility (WTD)</title>\n",
       "<path fill=\"none\" stroke=\"black\" d=\"M133.55,-143.91C140.33,-134.01 147.89,-120.96 151.41,-108 155.59,-92.56 155.59,-87.44 151.41,-72 148.79,-62.33 143.91,-52.61 138.79,-44.19\"/>\n",
       "<polygon fill=\"black\" stroke=\"black\" points=\"141.61,-42.11 133.23,-35.62 135.74,-45.92 141.61,-42.11\"/>\n",
       "</g>\n",
       "</g>\n",
       "</svg>\n"
      ],
      "text/plain": [
       "<graphviz.dot.Digraph at 0x7fe02982d3d0>"
      ]
     },
     "execution_count": 16,
     "metadata": {},
     "output_type": "execute_result"
    }
   ],
   "source": [
    "WTD_UTILITY.draw()"
   ]
  },
  {
   "cell_type": "markdown",
   "metadata": {},
   "source": [
    "## Walk"
   ]
  },
  {
   "cell_type": "code",
   "execution_count": 17,
   "metadata": {},
   "outputs": [
    {
     "data": {
      "image/svg+xml": [
       "<?xml version=\"1.0\" encoding=\"UTF-8\" standalone=\"no\"?>\n",
       "<!DOCTYPE svg PUBLIC \"-//W3C//DTD SVG 1.1//EN\"\n",
       " \"http://www.w3.org/Graphics/SVG/1.1/DTD/svg11.dtd\">\n",
       "<!-- Generated by graphviz version 2.42.3 (20191010.1750)\n",
       " -->\n",
       "<!-- Title: %3 Pages: 1 -->\n",
       "<svg width=\"180pt\" height=\"116pt\"\n",
       " viewBox=\"0.00 0.00 180.25 116.00\" xmlns=\"http://www.w3.org/2000/svg\" xmlns:xlink=\"http://www.w3.org/1999/xlink\">\n",
       "<g id=\"graph0\" class=\"graph\" transform=\"scale(1 1) rotate(0) translate(4 112)\">\n",
       "<title>%3</title>\n",
       "<polygon fill=\"white\" stroke=\"transparent\" points=\"-4,4 -4,-112 176.25,-112 176.25,4 -4,4\"/>\n",
       "<!-- Utility (Walk) -->\n",
       "<g id=\"node1\" class=\"node\">\n",
       "<title>Utility (Walk)</title>\n",
       "<ellipse fill=\"none\" stroke=\"black\" cx=\"86.13\" cy=\"-18\" rx=\"60\" ry=\"18\"/>\n",
       "<text text-anchor=\"middle\" x=\"86.13\" y=\"-13.8\" font-family=\"Times,serif\" font-size=\"14.00\">Utility (Walk)</text>\n",
       "</g>\n",
       "<!-- Total Travel Distance -->\n",
       "<g id=\"node2\" class=\"node\">\n",
       "<title>Total Travel Distance</title>\n",
       "<ellipse fill=\"none\" stroke=\"black\" cx=\"86.13\" cy=\"-90\" rx=\"86.25\" ry=\"18\"/>\n",
       "<text text-anchor=\"middle\" x=\"86.13\" y=\"-85.8\" font-family=\"Times,serif\" font-size=\"14.00\">Total Travel Distance</text>\n",
       "</g>\n",
       "<!-- Total Travel Distance&#45;&gt;Utility (Walk) -->\n",
       "<g id=\"edge1\" class=\"edge\">\n",
       "<title>Total Travel Distance&#45;&gt;Utility (Walk)</title>\n",
       "<path fill=\"none\" stroke=\"black\" d=\"M86.13,-71.7C86.13,-63.98 86.13,-54.71 86.13,-46.11\"/>\n",
       "<polygon fill=\"black\" stroke=\"black\" points=\"89.63,-46.1 86.13,-36.1 82.63,-46.1 89.63,-46.1\"/>\n",
       "</g>\n",
       "</g>\n",
       "</svg>\n"
      ],
      "text/plain": [
       "<graphviz.dot.Digraph at 0x7fe02982dd90>"
      ]
     },
     "execution_count": 17,
     "metadata": {},
     "output_type": "execute_result"
    }
   ],
   "source": [
    "WALK_UTILITY.draw()"
   ]
  },
  {
   "cell_type": "markdown",
   "metadata": {},
   "source": [
    "## Bike"
   ]
  },
  {
   "cell_type": "code",
   "execution_count": 18,
   "metadata": {},
   "outputs": [
    {
     "data": {
      "image/svg+xml": [
       "<?xml version=\"1.0\" encoding=\"UTF-8\" standalone=\"no\"?>\n",
       "<!DOCTYPE svg PUBLIC \"-//W3C//DTD SVG 1.1//EN\"\n",
       " \"http://www.w3.org/Graphics/SVG/1.1/DTD/svg11.dtd\">\n",
       "<!-- Generated by graphviz version 2.42.3 (20191010.1750)\n",
       " -->\n",
       "<!-- Title: %3 Pages: 1 -->\n",
       "<svg width=\"180pt\" height=\"116pt\"\n",
       " viewBox=\"0.00 0.00 180.25 116.00\" xmlns=\"http://www.w3.org/2000/svg\" xmlns:xlink=\"http://www.w3.org/1999/xlink\">\n",
       "<g id=\"graph0\" class=\"graph\" transform=\"scale(1 1) rotate(0) translate(4 112)\">\n",
       "<title>%3</title>\n",
       "<polygon fill=\"white\" stroke=\"transparent\" points=\"-4,4 -4,-112 176.25,-112 176.25,4 -4,4\"/>\n",
       "<!-- Utility (Bike) -->\n",
       "<g id=\"node1\" class=\"node\">\n",
       "<title>Utility (Bike)</title>\n",
       "<ellipse fill=\"none\" stroke=\"black\" cx=\"86.13\" cy=\"-18\" rx=\"58.01\" ry=\"18\"/>\n",
       "<text text-anchor=\"middle\" x=\"86.13\" y=\"-13.8\" font-family=\"Times,serif\" font-size=\"14.00\">Utility (Bike)</text>\n",
       "</g>\n",
       "<!-- Total Travel Distance -->\n",
       "<g id=\"node2\" class=\"node\">\n",
       "<title>Total Travel Distance</title>\n",
       "<ellipse fill=\"none\" stroke=\"black\" cx=\"86.13\" cy=\"-90\" rx=\"86.25\" ry=\"18\"/>\n",
       "<text text-anchor=\"middle\" x=\"86.13\" y=\"-85.8\" font-family=\"Times,serif\" font-size=\"14.00\">Total Travel Distance</text>\n",
       "</g>\n",
       "<!-- Total Travel Distance&#45;&gt;Utility (Bike) -->\n",
       "<g id=\"edge1\" class=\"edge\">\n",
       "<title>Total Travel Distance&#45;&gt;Utility (Bike)</title>\n",
       "<path fill=\"none\" stroke=\"black\" d=\"M86.13,-71.7C86.13,-63.98 86.13,-54.71 86.13,-46.11\"/>\n",
       "<polygon fill=\"black\" stroke=\"black\" points=\"89.63,-46.1 86.13,-36.1 82.63,-46.1 89.63,-46.1\"/>\n",
       "</g>\n",
       "</g>\n",
       "</svg>\n"
      ],
      "text/plain": [
       "<graphviz.dot.Digraph at 0x7fe029832710>"
      ]
     },
     "execution_count": 18,
     "metadata": {},
     "output_type": "execute_result"
    }
   ],
   "source": [
    "BIKE_UTILITY.draw()"
   ]
  },
  {
   "cell_type": "markdown",
   "metadata": {},
   "source": [
    "# Selection on Observables Simulation"
   ]
  },
  {
   "cell_type": "markdown",
   "metadata": {},
   "source": [
    "We simulate data based on the assumed structure of the causal diagrams and the original data from [Brathwaite and Walker (2016)](https://arxiv.org/abs/1606.05900). This process goes as follows:\n",
    "\n",
    "For the independent causal graph:\n",
    " * We fit a probability distribution for all the nodes in the utility function\n",
    "\n",
    "For the realistic causal graph:\n",
    " * We fit a probability distribution for all the nodes without any parents/upstream notes in the causal graphs\n",
    " * We fit any regressions between the related explanatory variables\n",
    "\n",
    "Based on these fitted distributions and regressions, we can then simulate data for the remaining nodes in each of the alternatives in our specified model."
   ]
  },
  {
   "cell_type": "markdown",
   "metadata": {},
   "source": [
    "## Distribution Fitting"
   ]
  },
  {
   "cell_type": "code",
   "execution_count": 19,
   "metadata": {},
   "outputs": [
    {
     "name": "stderr",
     "output_type": "stream",
     "text": [
      "WARNING:root:SKIPPED gumbel distribution (taking more than 60 seconds)\n"
     ]
    },
    {
     "name": "stdout",
     "output_type": "stream",
     "text": [
      "Getting Distributions of Individual Specific Variables...\n",
      "---------------------------------------------------------\n",
      "Done...\n",
      "Getting Distributions of Alternative Specific Variables...\n",
      "----------------------------------------------------------\n"
     ]
    },
    {
     "name": "stderr",
     "output_type": "stream",
     "text": [
      "WARNING:root:SKIPPED gumbel distribution (taking more than 60 seconds)\n",
      "WARNING:root:SKIPPED gumbel distribution (taking more than 60 seconds)\n",
      "WARNING:root:SKIPPED gumbel distribution (taking more than 60 seconds)\n",
      "WARNING:root:SKIPPED gumbel distribution (taking more than 60 seconds)\n",
      "WARNING:root:SKIPPED gumbel distribution (taking more than 60 seconds)\n",
      "WARNING:root:SKIPPED gumbel distribution (taking more than 60 seconds)\n",
      "WARNING:root:SKIPPED gumbel distribution (taking more than 60 seconds)\n"
     ]
    },
    {
     "name": "stdout",
     "output_type": "stream",
     "text": [
      "Done...\n",
      "Getting Distributions of Trip Specific Variables...\n",
      "---------------------------------------------------------\n",
      "Done...\n"
     ]
    }
   ],
   "source": [
    "bike_data_params = distfit.get_dist_node_no_parent(\n",
    "    bike_data_long,\n",
    "    ALT_ID_COL,\n",
    "    OBS_ID_COL,\n",
    "    ALT_SPEC_DICT,\n",
    "    ALT_NAME_DICT,\n",
    "    IND_SPEC_VARS,\n",
    "    TRIP_SPEC_VARS,\n",
    "    VARS_TYPE,\n",
    "    CONT_DISTS,\n",
    ")"
   ]
  },
  {
   "cell_type": "markdown",
   "metadata": {},
   "source": [
    "## Regression Fitting"
   ]
  },
  {
   "cell_type": "markdown",
   "metadata": {},
   "source": [
    "Based on the structure of the \"realistic\" causal graphs assumed for each of the alternatives, we fit regressions that will allow us to simulate the remaining nodes in the causal graphs. The utility node will be simulated based on the utility function for each alternative."
   ]
  },
  {
   "cell_type": "markdown",
   "metadata": {},
   "source": [
    "## Drive Alone"
   ]
  },
  {
   "cell_type": "code",
   "execution_count": 20,
   "metadata": {},
   "outputs": [],
   "source": [
    "drive_alone_df = bike_data_long.loc[bike_data_long[\"mode_id\"] == 1]\n",
    "\n",
    "drive_alone_df.reset_index(drop=True, inplace=True)\n",
    "\n",
    "fitted_reg_da = reg.fit_alternative_regression(\n",
    "    regressions=REGS_DA, reg_types=REGS_TYPE_DA, data=drive_alone_df\n",
    ")"
   ]
  },
  {
   "cell_type": "markdown",
   "metadata": {},
   "source": [
    "## Shared-2"
   ]
  },
  {
   "cell_type": "code",
   "execution_count": 21,
   "metadata": {},
   "outputs": [],
   "source": [
    "shared_2_df = bike_data_long.loc[bike_data_long[\"mode_id\"] == 2]\n",
    "\n",
    "shared_2_df.reset_index(drop=True, inplace=True)\n",
    "\n",
    "fitted_reg_shared_2 = reg.fit_alternative_regression(\n",
    "    regressions=REGS_SHARED_2, reg_types=REGS_TYPE_SHARED_2, data=shared_2_df\n",
    ")"
   ]
  },
  {
   "cell_type": "markdown",
   "metadata": {},
   "source": [
    "## Shared-3+"
   ]
  },
  {
   "cell_type": "code",
   "execution_count": 22,
   "metadata": {},
   "outputs": [],
   "source": [
    "shared_3p_df = bike_data_long.loc[bike_data_long[\"mode_id\"] == 3]\n",
    "\n",
    "shared_3p_df.reset_index(drop=True, inplace=True)\n",
    "\n",
    "fitted_reg_shared_3p = reg.fit_alternative_regression(\n",
    "    regressions=REGS_SHARED_3P,\n",
    "    reg_types=REGS_TYPE_SHARED_3P,\n",
    "    data=shared_3p_df,\n",
    ")"
   ]
  },
  {
   "cell_type": "markdown",
   "metadata": {},
   "source": [
    "## Walk-Transit-Walk"
   ]
  },
  {
   "cell_type": "code",
   "execution_count": 23,
   "metadata": {},
   "outputs": [],
   "source": [
    "wtw_df = bike_data_long.loc[bike_data_long[\"mode_id\"] == 4]\n",
    "\n",
    "wtw_df.reset_index(drop=True, inplace=True)\n",
    "\n",
    "fitted_reg_wtw = reg.fit_alternative_regression(\n",
    "    regressions=REGS_WTW, reg_types=REGS_TYPE_WTW, data=wtw_df\n",
    ")"
   ]
  },
  {
   "cell_type": "markdown",
   "metadata": {},
   "source": [
    "## Drive-Transit-Walk"
   ]
  },
  {
   "cell_type": "code",
   "execution_count": 24,
   "metadata": {},
   "outputs": [],
   "source": [
    "dtw_df = bike_data_long.loc[bike_data_long[\"mode_id\"] == 5]\n",
    "\n",
    "dtw_df.reset_index(drop=True, inplace=True)\n",
    "\n",
    "fitted_reg_dtw = reg.fit_alternative_regression(\n",
    "    regressions=REGS_DTW, reg_types=REGS_TYPE_DTW, data=dtw_df\n",
    ")"
   ]
  },
  {
   "cell_type": "markdown",
   "metadata": {},
   "source": [
    "## Walk-Transit-Drive"
   ]
  },
  {
   "cell_type": "code",
   "execution_count": 25,
   "metadata": {},
   "outputs": [],
   "source": [
    "wtd_df = bike_data_long.loc[bike_data_long[\"mode_id\"] == 6]\n",
    "\n",
    "wtd_df.reset_index(drop=True, inplace=True)\n",
    "\n",
    "fitted_reg_wtd = reg.fit_alternative_regression(\n",
    "    regressions=REGS_WTD, reg_types=REGS_TYPE_WTD, data=wtd_df\n",
    ")"
   ]
  },
  {
   "cell_type": "markdown",
   "metadata": {},
   "source": [
    "## Simulation"
   ]
  },
  {
   "cell_type": "markdown",
   "metadata": {},
   "source": [
    "Identifying the probability distributions of parent nodes and identifying the relationships between connected nodes allows us to complete the selection-on-observables simulation. The workflow proceeds as follows:\n",
    "* Simulate two sets of data for the X variables:\n",
    "  - One where all the Xs are independent (i.e. the only edges in the causal graph are between the X and the outcome variable (which is the value of the utility function)).\n",
    "  - One based on a realistic causal graph with confounders. The confounder in this simple example is Travel Distance.\n",
    "* For each of the two causal graphs mentioned in the previous step, simulate choice data based on the outcome model assumed from [Brathwaite and Walker (2016)](https://arxiv.org/abs/1606.05900).\n",
    "* Estimate the choice model for each of those two datasets using the assumed choice model specification.\n",
    "* Apply the do-operator (perturbation) to the variable of interest (Travel Distance), and show that the predicted outcome would be accurate only if our causal graph captures the dependency between the explanatory variables."
   ]
  },
  {
   "cell_type": "markdown",
   "metadata": {},
   "source": [
    "### Simulation Parameters"
   ]
  },
  {
   "cell_type": "code",
   "execution_count": 26,
   "metadata": {},
   "outputs": [],
   "source": [
    "# In general, we want 200 simulations, but if we're using this file as a python\n",
    "# script in a CI, use 30 simulations so the CI terminates quickly.\n",
    "NUM_SIMULATIONS = 200 if is_notebook() else 30\n",
    "simulation_sizes = np.random.randint(low=3000, high=4000, size=NUM_SIMULATIONS)\n",
    "sim_number = np.arange(1, 1 + NUM_SIMULATIONS)\n",
    "models_dictionary = defaultdict(dict)\n",
    "causal_effect_dictionary = {}\n",
    "perturb = 0.8\n",
    "simulation_data = {}\n",
    "causal_effects = pd.DataFrame(\n",
    "    columns=[\"naive_effect\", \"true_effect\", \"estimated_effect\"]\n",
    ")"
   ]
  },
  {
   "cell_type": "code",
   "execution_count": 27,
   "metadata": {
    "scrolled": true
   },
   "outputs": [
    {
     "name": "stdout",
     "output_type": "stream",
     "text": [
      "Simulation number 1 of 200 is in progress...\n",
      "Simulation size is 3785\n",
      "------------------------------------------\n",
      "Simulating data...\n",
      "Simulating Availability...\n"
     ]
    },
    {
     "name": "stderr",
     "output_type": "stream",
     "text": [
      "/Users/timsb/miniconda3/envs/causal2020/lib/python3.7/site-packages/pylogit/choice_tools.py:703: FutureWarning: arrays to stack must be passed as a \"sequence\" type such as list or tuple. Support for non-sequence iterables such as generators is deprecated as of NumPy 1.16 and will raise an error in the future.\n",
      "\n",
      "Simulating Choices:   0%|          | 0/3785 [00:00<?, ?it/s]\u001b[A"
     ]
    },
    {
     "name": "stdout",
     "output_type": "stream",
     "text": [
      "Converting data from wide to long...\n",
      "Simulating Choices...\n"
     ]
    },
    {
     "name": "stderr",
     "output_type": "stream",
     "text": [
      "\n",
      "Simulating Choices: 100%|██████████| 3785/3785 [00:00<00:00, 34633.80it/s]\u001b[A\n",
      "/Users/timsb/miniconda3/envs/causal2020/lib/python3.7/site-packages/pylogit/choice_tools.py:703: FutureWarning: arrays to stack must be passed as a \"sequence\" type such as list or tuple. Support for non-sequence iterables such as generators is deprecated as of NumPy 1.16 and will raise an error in the future.\n"
     ]
    },
    {
     "name": "stdout",
     "output_type": "stream",
     "text": [
      "Estimating the choice model...\n",
      "Estimating Causal Effects...\n",
      "Simulation number 1 is complete!\n",
      "==========================================\n",
      "==========================================\n",
      "Simulation number 2 of 200 is in progress...\n",
      "Simulation size is 3828\n",
      "------------------------------------------\n",
      "Simulating data...\n",
      "Simulating Availability...\n"
     ]
    },
    {
     "name": "stderr",
     "output_type": "stream",
     "text": [
      "/Users/timsb/miniconda3/envs/causal2020/lib/python3.7/site-packages/pylogit/choice_tools.py:703: FutureWarning: arrays to stack must be passed as a \"sequence\" type such as list or tuple. Support for non-sequence iterables such as generators is deprecated as of NumPy 1.16 and will raise an error in the future.\n",
      "/Users/timsb/miniconda3/envs/causal2020/lib/python3.7/site-packages/pylogit/choice_tools.py:703: FutureWarning: arrays to stack must be passed as a \"sequence\" type such as list or tuple. Support for non-sequence iterables such as generators is deprecated as of NumPy 1.16 and will raise an error in the future.\n",
      "/Users/timsb/miniconda3/envs/causal2020/lib/python3.7/site-packages/pylogit/choice_tools.py:703: FutureWarning: arrays to stack must be passed as a \"sequence\" type such as list or tuple. Support for non-sequence iterables such as generators is deprecated as of NumPy 1.16 and will raise an error in the future.\n",
      "/Users/timsb/miniconda3/envs/causal2020/lib/python3.7/site-packages/pylogit/choice_tools.py:703: FutureWarning: arrays to stack must be passed as a \"sequence\" type such as list or tuple. Support for non-sequence iterables such as generators is deprecated as of NumPy 1.16 and will raise an error in the future.\n",
      "/Users/timsb/miniconda3/envs/causal2020/lib/python3.7/site-packages/pylogit/choice_tools.py:703: FutureWarning: arrays to stack must be passed as a \"sequence\" type such as list or tuple. Support for non-sequence iterables such as generators is deprecated as of NumPy 1.16 and will raise an error in the future.\n",
      "\n",
      "\n",
      "Simulating Choices:   0%|          | 0/3828 [00:00<?, ?it/s]\u001b[A\u001b[A"
     ]
    },
    {
     "name": "stdout",
     "output_type": "stream",
     "text": [
      "Converting data from wide to long...\n",
      "Simulating Choices...\n"
     ]
    },
    {
     "name": "stderr",
     "output_type": "stream",
     "text": [
      "\n",
      "\n",
      "Simulating Choices: 100%|██████████| 3828/3828 [00:00<00:00, 36388.47it/s]\u001b[A\u001b[A\n",
      "/Users/timsb/miniconda3/envs/causal2020/lib/python3.7/site-packages/pylogit/choice_tools.py:703: FutureWarning: arrays to stack must be passed as a \"sequence\" type such as list or tuple. Support for non-sequence iterables such as generators is deprecated as of NumPy 1.16 and will raise an error in the future.\n"
     ]
    },
    {
     "name": "stdout",
     "output_type": "stream",
     "text": [
      "Estimating the choice model...\n",
      "Estimating Causal Effects...\n",
      "Simulation number 2 is complete!\n",
      "==========================================\n",
      "==========================================\n",
      "Simulation number 3 of 200 is in progress...\n",
      "Simulation size is 3467\n",
      "------------------------------------------\n",
      "Simulating data...\n",
      "Simulating Availability...\n"
     ]
    },
    {
     "name": "stderr",
     "output_type": "stream",
     "text": [
      "/Users/timsb/miniconda3/envs/causal2020/lib/python3.7/site-packages/pylogit/choice_tools.py:703: FutureWarning: arrays to stack must be passed as a \"sequence\" type such as list or tuple. Support for non-sequence iterables such as generators is deprecated as of NumPy 1.16 and will raise an error in the future.\n",
      "/Users/timsb/miniconda3/envs/causal2020/lib/python3.7/site-packages/pylogit/choice_tools.py:703: FutureWarning: arrays to stack must be passed as a \"sequence\" type such as list or tuple. Support for non-sequence iterables such as generators is deprecated as of NumPy 1.16 and will raise an error in the future.\n",
      "Exception ignored in: <function tqdm.__del__ at 0x7fe05909bcb0>\n",
      "Traceback (most recent call last):\n",
      "  File \"/Users/timsb/miniconda3/envs/causal2020/lib/python3.7/site-packages/tqdm/std.py\", line 1124, in __del__\n",
      "    self.close()\n",
      "  File \"/Users/timsb/miniconda3/envs/causal2020/lib/python3.7/site-packages/tqdm/notebook.py\", line 271, in close\n",
      "    self.sp(bar_style='danger')\n",
      "AttributeError: 'tqdm_notebook' object has no attribute 'sp'\n",
      "/Users/timsb/miniconda3/envs/causal2020/lib/python3.7/site-packages/pylogit/choice_tools.py:703: FutureWarning: arrays to stack must be passed as a \"sequence\" type such as list or tuple. Support for non-sequence iterables such as generators is deprecated as of NumPy 1.16 and will raise an error in the future.\n",
      "/Users/timsb/miniconda3/envs/causal2020/lib/python3.7/site-packages/pylogit/choice_tools.py:703: FutureWarning: arrays to stack must be passed as a \"sequence\" type such as list or tuple. Support for non-sequence iterables such as generators is deprecated as of NumPy 1.16 and will raise an error in the future.\n",
      "Exception ignored in: <function tqdm.__del__ at 0x7fe05909bcb0>\n",
      "Traceback (most recent call last):\n",
      "  File \"/Users/timsb/miniconda3/envs/causal2020/lib/python3.7/site-packages/tqdm/std.py\", line 1124, in __del__\n",
      "    self.close()\n",
      "  File \"/Users/timsb/miniconda3/envs/causal2020/lib/python3.7/site-packages/tqdm/notebook.py\", line 271, in close\n",
      "    self.sp(bar_style='danger')\n",
      "AttributeError: 'tqdm_notebook' object has no attribute 'sp'\n",
      "/Users/timsb/miniconda3/envs/causal2020/lib/python3.7/site-packages/pylogit/choice_tools.py:703: FutureWarning: arrays to stack must be passed as a \"sequence\" type such as list or tuple. Support for non-sequence iterables such as generators is deprecated as of NumPy 1.16 and will raise an error in the future.\n",
      "\n",
      "Simulating Choices:   0%|          | 0/3467 [00:00<?, ?it/s]\u001b[A"
     ]
    },
    {
     "name": "stdout",
     "output_type": "stream",
     "text": [
      "Converting data from wide to long...\n",
      "Simulating Choices...\n"
     ]
    },
    {
     "name": "stderr",
     "output_type": "stream",
     "text": [
      "\n",
      "Simulating Choices: 100%|██████████| 3467/3467 [00:00<00:00, 32932.82it/s]\u001b[A\n",
      "/Users/timsb/miniconda3/envs/causal2020/lib/python3.7/site-packages/pylogit/choice_tools.py:703: FutureWarning: arrays to stack must be passed as a \"sequence\" type such as list or tuple. Support for non-sequence iterables such as generators is deprecated as of NumPy 1.16 and will raise an error in the future.\n"
     ]
    },
    {
     "name": "stdout",
     "output_type": "stream",
     "text": [
      "Estimating the choice model...\n",
      "Estimating Causal Effects...\n",
      "Simulation number 3 is complete!\n",
      "==========================================\n",
      "==========================================\n",
      "Simulation number 4 of 200 is in progress...\n",
      "Simulation size is 3036\n",
      "------------------------------------------\n",
      "Simulating data...\n",
      "Simulating Availability...\n"
     ]
    },
    {
     "name": "stderr",
     "output_type": "stream",
     "text": [
      "/Users/timsb/miniconda3/envs/causal2020/lib/python3.7/site-packages/pylogit/choice_tools.py:703: FutureWarning: arrays to stack must be passed as a \"sequence\" type such as list or tuple. Support for non-sequence iterables such as generators is deprecated as of NumPy 1.16 and will raise an error in the future.\n",
      "/Users/timsb/miniconda3/envs/causal2020/lib/python3.7/site-packages/pylogit/choice_tools.py:703: FutureWarning: arrays to stack must be passed as a \"sequence\" type such as list or tuple. Support for non-sequence iterables such as generators is deprecated as of NumPy 1.16 and will raise an error in the future.\n",
      "Exception ignored in: <function tqdm.__del__ at 0x7fe05909bcb0>\n",
      "Traceback (most recent call last):\n",
      "  File \"/Users/timsb/miniconda3/envs/causal2020/lib/python3.7/site-packages/tqdm/std.py\", line 1124, in __del__\n",
      "    self.close()\n",
      "  File \"/Users/timsb/miniconda3/envs/causal2020/lib/python3.7/site-packages/tqdm/notebook.py\", line 271, in close\n",
      "    self.sp(bar_style='danger')\n",
      "AttributeError: 'tqdm_notebook' object has no attribute 'sp'\n",
      "/Users/timsb/miniconda3/envs/causal2020/lib/python3.7/site-packages/pylogit/choice_tools.py:703: FutureWarning: arrays to stack must be passed as a \"sequence\" type such as list or tuple. Support for non-sequence iterables such as generators is deprecated as of NumPy 1.16 and will raise an error in the future.\n",
      "/Users/timsb/miniconda3/envs/causal2020/lib/python3.7/site-packages/pylogit/choice_tools.py:703: FutureWarning: arrays to stack must be passed as a \"sequence\" type such as list or tuple. Support for non-sequence iterables such as generators is deprecated as of NumPy 1.16 and will raise an error in the future.\n",
      "/Users/timsb/miniconda3/envs/causal2020/lib/python3.7/site-packages/pylogit/choice_tools.py:703: FutureWarning: arrays to stack must be passed as a \"sequence\" type such as list or tuple. Support for non-sequence iterables such as generators is deprecated as of NumPy 1.16 and will raise an error in the future.\n",
      "\n",
      "Simulating Choices:   0%|          | 0/3036 [00:00<?, ?it/s]\u001b[A"
     ]
    },
    {
     "name": "stdout",
     "output_type": "stream",
     "text": [
      "Converting data from wide to long...\n",
      "Simulating Choices...\n"
     ]
    },
    {
     "name": "stderr",
     "output_type": "stream",
     "text": [
      "Simulating Choices: 100%|██████████| 3036/3036 [00:00<00:00, 36271.08it/s]\n",
      "/Users/timsb/miniconda3/envs/causal2020/lib/python3.7/site-packages/pylogit/choice_tools.py:703: FutureWarning: arrays to stack must be passed as a \"sequence\" type such as list or tuple. Support for non-sequence iterables such as generators is deprecated as of NumPy 1.16 and will raise an error in the future.\n"
     ]
    },
    {
     "name": "stdout",
     "output_type": "stream",
     "text": [
      "Estimating the choice model...\n",
      "Estimating Causal Effects...\n",
      "Simulation number 4 is complete!\n",
      "==========================================\n",
      "==========================================\n",
      "Simulation number 5 of 200 is in progress...\n",
      "Simulation size is 3846\n",
      "------------------------------------------\n",
      "Simulating data...\n",
      "Simulating Availability...\n"
     ]
    },
    {
     "name": "stderr",
     "output_type": "stream",
     "text": [
      "/Users/timsb/miniconda3/envs/causal2020/lib/python3.7/site-packages/pylogit/choice_tools.py:703: FutureWarning: arrays to stack must be passed as a \"sequence\" type such as list or tuple. Support for non-sequence iterables such as generators is deprecated as of NumPy 1.16 and will raise an error in the future.\n",
      "/Users/timsb/miniconda3/envs/causal2020/lib/python3.7/site-packages/pylogit/choice_tools.py:703: FutureWarning: arrays to stack must be passed as a \"sequence\" type such as list or tuple. Support for non-sequence iterables such as generators is deprecated as of NumPy 1.16 and will raise an error in the future.\n",
      "Exception ignored in: <function tqdm.__del__ at 0x7fe05909bcb0>\n",
      "Traceback (most recent call last):\n",
      "  File \"/Users/timsb/miniconda3/envs/causal2020/lib/python3.7/site-packages/tqdm/std.py\", line 1124, in __del__\n",
      "    self.close()\n",
      "  File \"/Users/timsb/miniconda3/envs/causal2020/lib/python3.7/site-packages/tqdm/notebook.py\", line 271, in close\n",
      "    self.sp(bar_style='danger')\n",
      "AttributeError: 'tqdm_notebook' object has no attribute 'sp'\n",
      "/Users/timsb/miniconda3/envs/causal2020/lib/python3.7/site-packages/pylogit/choice_tools.py:703: FutureWarning: arrays to stack must be passed as a \"sequence\" type such as list or tuple. Support for non-sequence iterables such as generators is deprecated as of NumPy 1.16 and will raise an error in the future.\n",
      "/Users/timsb/miniconda3/envs/causal2020/lib/python3.7/site-packages/pylogit/choice_tools.py:703: FutureWarning: arrays to stack must be passed as a \"sequence\" type such as list or tuple. Support for non-sequence iterables such as generators is deprecated as of NumPy 1.16 and will raise an error in the future.\n",
      "/Users/timsb/miniconda3/envs/causal2020/lib/python3.7/site-packages/pylogit/choice_tools.py:703: FutureWarning: arrays to stack must be passed as a \"sequence\" type such as list or tuple. Support for non-sequence iterables such as generators is deprecated as of NumPy 1.16 and will raise an error in the future.\n",
      "\n",
      "Simulating Choices:   0%|          | 0/3846 [00:00<?, ?it/s]\u001b[A"
     ]
    },
    {
     "name": "stdout",
     "output_type": "stream",
     "text": [
      "Converting data from wide to long...\n",
      "Simulating Choices...\n"
     ]
    },
    {
     "name": "stderr",
     "output_type": "stream",
     "text": [
      "Simulating Choices: 100%|██████████| 3846/3846 [00:00<00:00, 39580.17it/s]\n",
      "/Users/timsb/miniconda3/envs/causal2020/lib/python3.7/site-packages/pylogit/choice_tools.py:703: FutureWarning: arrays to stack must be passed as a \"sequence\" type such as list or tuple. Support for non-sequence iterables such as generators is deprecated as of NumPy 1.16 and will raise an error in the future.\n"
     ]
    },
    {
     "name": "stdout",
     "output_type": "stream",
     "text": [
      "Estimating the choice model...\n",
      "Estimating Causal Effects...\n",
      "Simulation number 5 is complete!\n",
      "==========================================\n",
      "==========================================\n",
      "Simulation number 6 of 200 is in progress...\n",
      "Simulation size is 3934\n",
      "------------------------------------------\n",
      "Simulating data...\n",
      "Simulating Availability...\n"
     ]
    },
    {
     "name": "stderr",
     "output_type": "stream",
     "text": [
      "/Users/timsb/miniconda3/envs/causal2020/lib/python3.7/site-packages/pylogit/choice_tools.py:703: FutureWarning: arrays to stack must be passed as a \"sequence\" type such as list or tuple. Support for non-sequence iterables such as generators is deprecated as of NumPy 1.16 and will raise an error in the future.\n",
      "/Users/timsb/miniconda3/envs/causal2020/lib/python3.7/site-packages/pylogit/choice_tools.py:703: FutureWarning: arrays to stack must be passed as a \"sequence\" type such as list or tuple. Support for non-sequence iterables such as generators is deprecated as of NumPy 1.16 and will raise an error in the future.\n",
      "Exception ignored in: <function tqdm.__del__ at 0x7fe05909bcb0>\n",
      "Traceback (most recent call last):\n",
      "  File \"/Users/timsb/miniconda3/envs/causal2020/lib/python3.7/site-packages/tqdm/std.py\", line 1124, in __del__\n",
      "    self.close()\n",
      "  File \"/Users/timsb/miniconda3/envs/causal2020/lib/python3.7/site-packages/tqdm/notebook.py\", line 271, in close\n",
      "    self.sp(bar_style='danger')\n",
      "AttributeError: 'tqdm_notebook' object has no attribute 'sp'\n",
      "/Users/timsb/miniconda3/envs/causal2020/lib/python3.7/site-packages/pylogit/choice_tools.py:703: FutureWarning: arrays to stack must be passed as a \"sequence\" type such as list or tuple. Support for non-sequence iterables such as generators is deprecated as of NumPy 1.16 and will raise an error in the future.\n",
      "/Users/timsb/miniconda3/envs/causal2020/lib/python3.7/site-packages/pylogit/choice_tools.py:703: FutureWarning: arrays to stack must be passed as a \"sequence\" type such as list or tuple. Support for non-sequence iterables such as generators is deprecated as of NumPy 1.16 and will raise an error in the future.\n"
     ]
    },
    {
     "name": "stdout",
     "output_type": "stream",
     "text": [
      "Converting data from wide to long...\n",
      "Simulating Choices...\n"
     ]
    },
    {
     "name": "stderr",
     "output_type": "stream",
     "text": [
      "/Users/timsb/miniconda3/envs/causal2020/lib/python3.7/site-packages/pylogit/choice_tools.py:703: FutureWarning: arrays to stack must be passed as a \"sequence\" type such as list or tuple. Support for non-sequence iterables such as generators is deprecated as of NumPy 1.16 and will raise an error in the future.\n",
      "\n",
      "Simulating Choices:   0%|          | 0/3934 [00:00<?, ?it/s]\u001b[A\n",
      "Simulating Choices: 100%|██████████| 3934/3934 [00:00<00:00, 35720.08it/s]\u001b[A\n",
      "/Users/timsb/miniconda3/envs/causal2020/lib/python3.7/site-packages/pylogit/choice_tools.py:703: FutureWarning: arrays to stack must be passed as a \"sequence\" type such as list or tuple. Support for non-sequence iterables such as generators is deprecated as of NumPy 1.16 and will raise an error in the future.\n"
     ]
    },
    {
     "name": "stdout",
     "output_type": "stream",
     "text": [
      "Estimating the choice model...\n",
      "Estimating Causal Effects...\n",
      "Simulation number 6 is complete!\n",
      "==========================================\n",
      "==========================================\n",
      "Simulation number 7 of 200 is in progress...\n",
      "Simulation size is 3590\n",
      "------------------------------------------\n",
      "Simulating data...\n",
      "Simulating Availability...\n"
     ]
    },
    {
     "name": "stderr",
     "output_type": "stream",
     "text": [
      "/Users/timsb/miniconda3/envs/causal2020/lib/python3.7/site-packages/pylogit/choice_tools.py:703: FutureWarning: arrays to stack must be passed as a \"sequence\" type such as list or tuple. Support for non-sequence iterables such as generators is deprecated as of NumPy 1.16 and will raise an error in the future.\n",
      "/Users/timsb/miniconda3/envs/causal2020/lib/python3.7/site-packages/pylogit/choice_tools.py:703: FutureWarning: arrays to stack must be passed as a \"sequence\" type such as list or tuple. Support for non-sequence iterables such as generators is deprecated as of NumPy 1.16 and will raise an error in the future.\n",
      "Exception ignored in: <function tqdm.__del__ at 0x7fe05909bcb0>\n",
      "Traceback (most recent call last):\n",
      "  File \"/Users/timsb/miniconda3/envs/causal2020/lib/python3.7/site-packages/tqdm/std.py\", line 1124, in __del__\n",
      "    self.close()\n",
      "  File \"/Users/timsb/miniconda3/envs/causal2020/lib/python3.7/site-packages/tqdm/notebook.py\", line 271, in close\n",
      "    self.sp(bar_style='danger')\n",
      "AttributeError: 'tqdm_notebook' object has no attribute 'sp'\n",
      "/Users/timsb/miniconda3/envs/causal2020/lib/python3.7/site-packages/pylogit/choice_tools.py:703: FutureWarning: arrays to stack must be passed as a \"sequence\" type such as list or tuple. Support for non-sequence iterables such as generators is deprecated as of NumPy 1.16 and will raise an error in the future.\n",
      "/Users/timsb/miniconda3/envs/causal2020/lib/python3.7/site-packages/pylogit/choice_tools.py:703: FutureWarning: arrays to stack must be passed as a \"sequence\" type such as list or tuple. Support for non-sequence iterables such as generators is deprecated as of NumPy 1.16 and will raise an error in the future.\n",
      "/Users/timsb/miniconda3/envs/causal2020/lib/python3.7/site-packages/pylogit/choice_tools.py:703: FutureWarning: arrays to stack must be passed as a \"sequence\" type such as list or tuple. Support for non-sequence iterables such as generators is deprecated as of NumPy 1.16 and will raise an error in the future.\n",
      "\n",
      "Simulating Choices:   0%|          | 0/3590 [00:00<?, ?it/s]\u001b[A"
     ]
    },
    {
     "name": "stdout",
     "output_type": "stream",
     "text": [
      "Converting data from wide to long...\n",
      "Simulating Choices...\n"
     ]
    },
    {
     "name": "stderr",
     "output_type": "stream",
     "text": [
      "Simulating Choices: 100%|██████████| 3590/3590 [00:00<00:00, 37552.63it/s]\n",
      "/Users/timsb/miniconda3/envs/causal2020/lib/python3.7/site-packages/pylogit/choice_tools.py:703: FutureWarning: arrays to stack must be passed as a \"sequence\" type such as list or tuple. Support for non-sequence iterables such as generators is deprecated as of NumPy 1.16 and will raise an error in the future.\n"
     ]
    },
    {
     "name": "stdout",
     "output_type": "stream",
     "text": [
      "Estimating the choice model...\n",
      "Estimating Causal Effects...\n",
      "Simulation number 7 is complete!\n",
      "==========================================\n",
      "==========================================\n",
      "Simulation number 8 of 200 is in progress...\n",
      "Simulation size is 3649\n",
      "------------------------------------------\n",
      "Simulating data...\n",
      "Simulating Availability...\n"
     ]
    },
    {
     "name": "stderr",
     "output_type": "stream",
     "text": [
      "/Users/timsb/miniconda3/envs/causal2020/lib/python3.7/site-packages/pylogit/choice_tools.py:703: FutureWarning: arrays to stack must be passed as a \"sequence\" type such as list or tuple. Support for non-sequence iterables such as generators is deprecated as of NumPy 1.16 and will raise an error in the future.\n",
      "/Users/timsb/miniconda3/envs/causal2020/lib/python3.7/site-packages/pylogit/choice_tools.py:703: FutureWarning: arrays to stack must be passed as a \"sequence\" type such as list or tuple. Support for non-sequence iterables such as generators is deprecated as of NumPy 1.16 and will raise an error in the future.\n",
      "Exception ignored in: <function tqdm.__del__ at 0x7fe05909bcb0>\n",
      "Traceback (most recent call last):\n",
      "  File \"/Users/timsb/miniconda3/envs/causal2020/lib/python3.7/site-packages/tqdm/std.py\", line 1124, in __del__\n",
      "    self.close()\n",
      "  File \"/Users/timsb/miniconda3/envs/causal2020/lib/python3.7/site-packages/tqdm/notebook.py\", line 271, in close\n",
      "    self.sp(bar_style='danger')\n",
      "AttributeError: 'tqdm_notebook' object has no attribute 'sp'\n",
      "/Users/timsb/miniconda3/envs/causal2020/lib/python3.7/site-packages/pylogit/choice_tools.py:703: FutureWarning: arrays to stack must be passed as a \"sequence\" type such as list or tuple. Support for non-sequence iterables such as generators is deprecated as of NumPy 1.16 and will raise an error in the future.\n",
      "/Users/timsb/miniconda3/envs/causal2020/lib/python3.7/site-packages/pylogit/choice_tools.py:703: FutureWarning: arrays to stack must be passed as a \"sequence\" type such as list or tuple. Support for non-sequence iterables such as generators is deprecated as of NumPy 1.16 and will raise an error in the future.\n",
      "/Users/timsb/miniconda3/envs/causal2020/lib/python3.7/site-packages/pylogit/choice_tools.py:703: FutureWarning: arrays to stack must be passed as a \"sequence\" type such as list or tuple. Support for non-sequence iterables such as generators is deprecated as of NumPy 1.16 and will raise an error in the future.\n",
      "\n",
      "Simulating Choices:   0%|          | 0/3649 [00:00<?, ?it/s]\u001b[A"
     ]
    },
    {
     "name": "stdout",
     "output_type": "stream",
     "text": [
      "Converting data from wide to long...\n",
      "Simulating Choices...\n"
     ]
    },
    {
     "name": "stderr",
     "output_type": "stream",
     "text": [
      "Simulating Choices: 100%|██████████| 3649/3649 [00:00<00:00, 37139.89it/s]\n",
      "/Users/timsb/miniconda3/envs/causal2020/lib/python3.7/site-packages/pylogit/choice_tools.py:703: FutureWarning: arrays to stack must be passed as a \"sequence\" type such as list or tuple. Support for non-sequence iterables such as generators is deprecated as of NumPy 1.16 and will raise an error in the future.\n",
      "Exception ignored in: <function tqdm.__del__ at 0x7fe05909bcb0>\n",
      "Traceback (most recent call last):\n",
      "  File \"/Users/timsb/miniconda3/envs/causal2020/lib/python3.7/site-packages/tqdm/std.py\", line 1124, in __del__\n",
      "    self.close()\n",
      "  File \"/Users/timsb/miniconda3/envs/causal2020/lib/python3.7/site-packages/tqdm/notebook.py\", line 271, in close\n",
      "    self.sp(bar_style='danger')\n",
      "AttributeError: 'tqdm_notebook' object has no attribute 'sp'\n"
     ]
    },
    {
     "name": "stdout",
     "output_type": "stream",
     "text": [
      "Estimating the choice model...\n"
     ]
    },
    {
     "name": "stderr",
     "output_type": "stream",
     "text": [
      "/Users/timsb/miniconda3/envs/causal2020/lib/python3.7/site-packages/pylogit/choice_tools.py:703: FutureWarning: arrays to stack must be passed as a \"sequence\" type such as list or tuple. Support for non-sequence iterables such as generators is deprecated as of NumPy 1.16 and will raise an error in the future.\n",
      "/Users/timsb/miniconda3/envs/causal2020/lib/python3.7/site-packages/pylogit/choice_tools.py:703: FutureWarning: arrays to stack must be passed as a \"sequence\" type such as list or tuple. Support for non-sequence iterables such as generators is deprecated as of NumPy 1.16 and will raise an error in the future.\n"
     ]
    },
    {
     "name": "stdout",
     "output_type": "stream",
     "text": [
      "Estimating Causal Effects...\n",
      "Simulation number 8 is complete!\n",
      "==========================================\n",
      "==========================================\n",
      "Simulation number 9 of 200 is in progress...\n",
      "Simulation size is 3207\n",
      "------------------------------------------\n",
      "Simulating data...\n",
      "Simulating Availability...\n"
     ]
    },
    {
     "name": "stderr",
     "output_type": "stream",
     "text": [
      "/Users/timsb/miniconda3/envs/causal2020/lib/python3.7/site-packages/pylogit/choice_tools.py:703: FutureWarning: arrays to stack must be passed as a \"sequence\" type such as list or tuple. Support for non-sequence iterables such as generators is deprecated as of NumPy 1.16 and will raise an error in the future.\n",
      "/Users/timsb/miniconda3/envs/causal2020/lib/python3.7/site-packages/pylogit/choice_tools.py:703: FutureWarning: arrays to stack must be passed as a \"sequence\" type such as list or tuple. Support for non-sequence iterables such as generators is deprecated as of NumPy 1.16 and will raise an error in the future.\n",
      "/Users/timsb/miniconda3/envs/causal2020/lib/python3.7/site-packages/pylogit/choice_tools.py:703: FutureWarning: arrays to stack must be passed as a \"sequence\" type such as list or tuple. Support for non-sequence iterables such as generators is deprecated as of NumPy 1.16 and will raise an error in the future.\n",
      "\n",
      "Simulating Choices:   0%|          | 0/3207 [00:00<?, ?it/s]\u001b[A"
     ]
    },
    {
     "name": "stdout",
     "output_type": "stream",
     "text": [
      "Converting data from wide to long...\n",
      "Simulating Choices...\n"
     ]
    },
    {
     "name": "stderr",
     "output_type": "stream",
     "text": [
      "Simulating Choices: 100%|██████████| 3207/3207 [00:00<00:00, 37605.98it/s]\n",
      "/Users/timsb/miniconda3/envs/causal2020/lib/python3.7/site-packages/pylogit/choice_tools.py:703: FutureWarning: arrays to stack must be passed as a \"sequence\" type such as list or tuple. Support for non-sequence iterables such as generators is deprecated as of NumPy 1.16 and will raise an error in the future.\n"
     ]
    },
    {
     "name": "stdout",
     "output_type": "stream",
     "text": [
      "Estimating the choice model...\n",
      "Estimating Causal Effects...\n",
      "Simulation number 9 is complete!\n",
      "==========================================\n",
      "==========================================\n",
      "Simulation number 10 of 200 is in progress...\n",
      "Simulation size is 3110\n",
      "------------------------------------------\n",
      "Simulating data...\n",
      "Simulating Availability...\n"
     ]
    },
    {
     "name": "stderr",
     "output_type": "stream",
     "text": [
      "/Users/timsb/miniconda3/envs/causal2020/lib/python3.7/site-packages/pylogit/choice_tools.py:703: FutureWarning: arrays to stack must be passed as a \"sequence\" type such as list or tuple. Support for non-sequence iterables such as generators is deprecated as of NumPy 1.16 and will raise an error in the future.\n",
      "/Users/timsb/miniconda3/envs/causal2020/lib/python3.7/site-packages/pylogit/choice_tools.py:703: FutureWarning: arrays to stack must be passed as a \"sequence\" type such as list or tuple. Support for non-sequence iterables such as generators is deprecated as of NumPy 1.16 and will raise an error in the future.\n",
      "Exception ignored in: <function tqdm.__del__ at 0x7fe05909bcb0>\n",
      "Traceback (most recent call last):\n",
      "  File \"/Users/timsb/miniconda3/envs/causal2020/lib/python3.7/site-packages/tqdm/std.py\", line 1124, in __del__\n",
      "    self.close()\n",
      "  File \"/Users/timsb/miniconda3/envs/causal2020/lib/python3.7/site-packages/tqdm/notebook.py\", line 271, in close\n",
      "    self.sp(bar_style='danger')\n",
      "AttributeError: 'tqdm_notebook' object has no attribute 'sp'\n",
      "/Users/timsb/miniconda3/envs/causal2020/lib/python3.7/site-packages/pylogit/choice_tools.py:703: FutureWarning: arrays to stack must be passed as a \"sequence\" type such as list or tuple. Support for non-sequence iterables such as generators is deprecated as of NumPy 1.16 and will raise an error in the future.\n",
      "/Users/timsb/miniconda3/envs/causal2020/lib/python3.7/site-packages/pylogit/choice_tools.py:703: FutureWarning: arrays to stack must be passed as a \"sequence\" type such as list or tuple. Support for non-sequence iterables such as generators is deprecated as of NumPy 1.16 and will raise an error in the future.\n",
      "/Users/timsb/miniconda3/envs/causal2020/lib/python3.7/site-packages/pylogit/choice_tools.py:703: FutureWarning: arrays to stack must be passed as a \"sequence\" type such as list or tuple. Support for non-sequence iterables such as generators is deprecated as of NumPy 1.16 and will raise an error in the future.\n",
      "\n",
      "Simulating Choices:   0%|          | 0/3110 [00:00<?, ?it/s]\u001b[A"
     ]
    },
    {
     "name": "stdout",
     "output_type": "stream",
     "text": [
      "Converting data from wide to long...\n",
      "Simulating Choices...\n"
     ]
    },
    {
     "name": "stderr",
     "output_type": "stream",
     "text": [
      "Simulating Choices: 100%|██████████| 3110/3110 [00:00<00:00, 36528.08it/s]\n",
      "/Users/timsb/miniconda3/envs/causal2020/lib/python3.7/site-packages/pylogit/choice_tools.py:703: FutureWarning: arrays to stack must be passed as a \"sequence\" type such as list or tuple. Support for non-sequence iterables such as generators is deprecated as of NumPy 1.16 and will raise an error in the future.\n"
     ]
    },
    {
     "name": "stdout",
     "output_type": "stream",
     "text": [
      "Estimating the choice model...\n",
      "Estimating Causal Effects...\n"
     ]
    },
    {
     "name": "stderr",
     "output_type": "stream",
     "text": [
      "/Users/timsb/miniconda3/envs/causal2020/lib/python3.7/site-packages/pylogit/choice_tools.py:703: FutureWarning: arrays to stack must be passed as a \"sequence\" type such as list or tuple. Support for non-sequence iterables such as generators is deprecated as of NumPy 1.16 and will raise an error in the future.\n",
      "/Users/timsb/miniconda3/envs/causal2020/lib/python3.7/site-packages/pylogit/choice_tools.py:703: FutureWarning: arrays to stack must be passed as a \"sequence\" type such as list or tuple. Support for non-sequence iterables such as generators is deprecated as of NumPy 1.16 and will raise an error in the future.\n",
      "Exception ignored in: <function tqdm.__del__ at 0x7fe05909bcb0>\n",
      "Traceback (most recent call last):\n",
      "  File \"/Users/timsb/miniconda3/envs/causal2020/lib/python3.7/site-packages/tqdm/std.py\", line 1124, in __del__\n",
      "    self.close()\n",
      "  File \"/Users/timsb/miniconda3/envs/causal2020/lib/python3.7/site-packages/tqdm/notebook.py\", line 271, in close\n",
      "    self.sp(bar_style='danger')\n",
      "AttributeError: 'tqdm_notebook' object has no attribute 'sp'\n",
      "/Users/timsb/miniconda3/envs/causal2020/lib/python3.7/site-packages/pylogit/choice_tools.py:703: FutureWarning: arrays to stack must be passed as a \"sequence\" type such as list or tuple. Support for non-sequence iterables such as generators is deprecated as of NumPy 1.16 and will raise an error in the future.\n",
      "/Users/timsb/miniconda3/envs/causal2020/lib/python3.7/site-packages/pylogit/choice_tools.py:703: FutureWarning: arrays to stack must be passed as a \"sequence\" type such as list or tuple. Support for non-sequence iterables such as generators is deprecated as of NumPy 1.16 and will raise an error in the future.\n"
     ]
    },
    {
     "name": "stdout",
     "output_type": "stream",
     "text": [
      "Simulation number 10 is complete!\n",
      "==========================================\n",
      "==========================================\n",
      "Simulation number 11 of 200 is in progress...\n",
      "Simulation size is 3873\n",
      "------------------------------------------\n",
      "Simulating data...\n",
      "Simulating Availability...\n"
     ]
    },
    {
     "name": "stderr",
     "output_type": "stream",
     "text": [
      "/Users/timsb/miniconda3/envs/causal2020/lib/python3.7/site-packages/pylogit/choice_tools.py:703: FutureWarning: arrays to stack must be passed as a \"sequence\" type such as list or tuple. Support for non-sequence iterables such as generators is deprecated as of NumPy 1.16 and will raise an error in the future.\n",
      "\n",
      "Simulating Choices:   0%|          | 0/3873 [00:00<?, ?it/s]\u001b[A"
     ]
    },
    {
     "name": "stdout",
     "output_type": "stream",
     "text": [
      "Converting data from wide to long...\n",
      "Simulating Choices...\n"
     ]
    },
    {
     "name": "stderr",
     "output_type": "stream",
     "text": [
      "Simulating Choices: 100%|██████████| 3873/3873 [00:00<00:00, 39101.07it/s]\n",
      "/Users/timsb/miniconda3/envs/causal2020/lib/python3.7/site-packages/pylogit/choice_tools.py:703: FutureWarning: arrays to stack must be passed as a \"sequence\" type such as list or tuple. Support for non-sequence iterables such as generators is deprecated as of NumPy 1.16 and will raise an error in the future.\n"
     ]
    },
    {
     "name": "stdout",
     "output_type": "stream",
     "text": [
      "Estimating the choice model...\n",
      "Estimating Causal Effects...\n",
      "Simulation number 11 is complete!\n",
      "==========================================\n",
      "==========================================\n",
      "Simulation number 12 of 200 is in progress...\n",
      "Simulation size is 3932\n",
      "------------------------------------------\n",
      "Simulating data...\n",
      "Simulating Availability...\n"
     ]
    },
    {
     "name": "stderr",
     "output_type": "stream",
     "text": [
      "/Users/timsb/miniconda3/envs/causal2020/lib/python3.7/site-packages/pylogit/choice_tools.py:703: FutureWarning: arrays to stack must be passed as a \"sequence\" type such as list or tuple. Support for non-sequence iterables such as generators is deprecated as of NumPy 1.16 and will raise an error in the future.\n",
      "/Users/timsb/miniconda3/envs/causal2020/lib/python3.7/site-packages/pylogit/choice_tools.py:703: FutureWarning: arrays to stack must be passed as a \"sequence\" type such as list or tuple. Support for non-sequence iterables such as generators is deprecated as of NumPy 1.16 and will raise an error in the future.\n",
      "Exception ignored in: <function tqdm.__del__ at 0x7fe05909bcb0>\n",
      "Traceback (most recent call last):\n",
      "  File \"/Users/timsb/miniconda3/envs/causal2020/lib/python3.7/site-packages/tqdm/std.py\", line 1124, in __del__\n",
      "    self.close()\n",
      "  File \"/Users/timsb/miniconda3/envs/causal2020/lib/python3.7/site-packages/tqdm/notebook.py\", line 271, in close\n",
      "    self.sp(bar_style='danger')\n",
      "AttributeError: 'tqdm_notebook' object has no attribute 'sp'\n",
      "/Users/timsb/miniconda3/envs/causal2020/lib/python3.7/site-packages/pylogit/choice_tools.py:703: FutureWarning: arrays to stack must be passed as a \"sequence\" type such as list or tuple. Support for non-sequence iterables such as generators is deprecated as of NumPy 1.16 and will raise an error in the future.\n",
      "/Users/timsb/miniconda3/envs/causal2020/lib/python3.7/site-packages/pylogit/choice_tools.py:703: FutureWarning: arrays to stack must be passed as a \"sequence\" type such as list or tuple. Support for non-sequence iterables such as generators is deprecated as of NumPy 1.16 and will raise an error in the future.\n"
     ]
    },
    {
     "name": "stdout",
     "output_type": "stream",
     "text": [
      "Converting data from wide to long...\n",
      "Simulating Choices...\n"
     ]
    },
    {
     "name": "stderr",
     "output_type": "stream",
     "text": [
      "/Users/timsb/miniconda3/envs/causal2020/lib/python3.7/site-packages/pylogit/choice_tools.py:703: FutureWarning: arrays to stack must be passed as a \"sequence\" type such as list or tuple. Support for non-sequence iterables such as generators is deprecated as of NumPy 1.16 and will raise an error in the future.\n",
      "\n",
      "Simulating Choices: 100%|██████████| 3932/3932 [00:00<00:00, 40118.72it/s]\n",
      "/Users/timsb/miniconda3/envs/causal2020/lib/python3.7/site-packages/pylogit/choice_tools.py:703: FutureWarning: arrays to stack must be passed as a \"sequence\" type such as list or tuple. Support for non-sequence iterables such as generators is deprecated as of NumPy 1.16 and will raise an error in the future.\n"
     ]
    },
    {
     "name": "stdout",
     "output_type": "stream",
     "text": [
      "Estimating the choice model...\n",
      "Estimating Causal Effects...\n",
      "Simulation number 12 is complete!\n",
      "==========================================\n",
      "==========================================\n",
      "Simulation number 13 of 200 is in progress...\n",
      "Simulation size is 3736\n",
      "------------------------------------------\n",
      "Simulating data...\n",
      "Simulating Availability...\n"
     ]
    },
    {
     "name": "stderr",
     "output_type": "stream",
     "text": [
      "/Users/timsb/miniconda3/envs/causal2020/lib/python3.7/site-packages/pylogit/choice_tools.py:703: FutureWarning: arrays to stack must be passed as a \"sequence\" type such as list or tuple. Support for non-sequence iterables such as generators is deprecated as of NumPy 1.16 and will raise an error in the future.\n",
      "/Users/timsb/miniconda3/envs/causal2020/lib/python3.7/site-packages/pylogit/choice_tools.py:703: FutureWarning: arrays to stack must be passed as a \"sequence\" type such as list or tuple. Support for non-sequence iterables such as generators is deprecated as of NumPy 1.16 and will raise an error in the future.\n",
      "Exception ignored in: <function tqdm.__del__ at 0x7fe05909bcb0>\n",
      "Traceback (most recent call last):\n",
      "  File \"/Users/timsb/miniconda3/envs/causal2020/lib/python3.7/site-packages/tqdm/std.py\", line 1124, in __del__\n",
      "    self.close()\n",
      "  File \"/Users/timsb/miniconda3/envs/causal2020/lib/python3.7/site-packages/tqdm/notebook.py\", line 271, in close\n",
      "    self.sp(bar_style='danger')\n",
      "AttributeError: 'tqdm_notebook' object has no attribute 'sp'\n",
      "/Users/timsb/miniconda3/envs/causal2020/lib/python3.7/site-packages/pylogit/choice_tools.py:703: FutureWarning: arrays to stack must be passed as a \"sequence\" type such as list or tuple. Support for non-sequence iterables such as generators is deprecated as of NumPy 1.16 and will raise an error in the future.\n",
      "/Users/timsb/miniconda3/envs/causal2020/lib/python3.7/site-packages/pylogit/choice_tools.py:703: FutureWarning: arrays to stack must be passed as a \"sequence\" type such as list or tuple. Support for non-sequence iterables such as generators is deprecated as of NumPy 1.16 and will raise an error in the future.\n",
      "/Users/timsb/miniconda3/envs/causal2020/lib/python3.7/site-packages/pylogit/choice_tools.py:703: FutureWarning: arrays to stack must be passed as a \"sequence\" type such as list or tuple. Support for non-sequence iterables such as generators is deprecated as of NumPy 1.16 and will raise an error in the future.\n",
      "\n",
      "Simulating Choices:   0%|          | 0/3736 [00:00<?, ?it/s]\u001b[A"
     ]
    },
    {
     "name": "stdout",
     "output_type": "stream",
     "text": [
      "Converting data from wide to long...\n",
      "Simulating Choices...\n"
     ]
    },
    {
     "name": "stderr",
     "output_type": "stream",
     "text": [
      "\n",
      "Simulating Choices: 100%|██████████| 3736/3736 [00:00<00:00, 33721.67it/s]\u001b[A\n",
      "/Users/timsb/miniconda3/envs/causal2020/lib/python3.7/site-packages/pylogit/choice_tools.py:703: FutureWarning: arrays to stack must be passed as a \"sequence\" type such as list or tuple. Support for non-sequence iterables such as generators is deprecated as of NumPy 1.16 and will raise an error in the future.\n"
     ]
    },
    {
     "name": "stdout",
     "output_type": "stream",
     "text": [
      "Estimating the choice model...\n",
      "Estimating Causal Effects...\n",
      "Simulation number 13 is complete!\n",
      "==========================================\n",
      "==========================================\n",
      "Simulation number 14 of 200 is in progress...\n",
      "Simulation size is 3971\n",
      "------------------------------------------\n",
      "Simulating data...\n",
      "Simulating Availability...\n"
     ]
    },
    {
     "name": "stderr",
     "output_type": "stream",
     "text": [
      "/Users/timsb/miniconda3/envs/causal2020/lib/python3.7/site-packages/pylogit/choice_tools.py:703: FutureWarning: arrays to stack must be passed as a \"sequence\" type such as list or tuple. Support for non-sequence iterables such as generators is deprecated as of NumPy 1.16 and will raise an error in the future.\n",
      "/Users/timsb/miniconda3/envs/causal2020/lib/python3.7/site-packages/pylogit/choice_tools.py:703: FutureWarning: arrays to stack must be passed as a \"sequence\" type such as list or tuple. Support for non-sequence iterables such as generators is deprecated as of NumPy 1.16 and will raise an error in the future.\n",
      "Exception ignored in: <function tqdm.__del__ at 0x7fe05909bcb0>\n",
      "Traceback (most recent call last):\n",
      "  File \"/Users/timsb/miniconda3/envs/causal2020/lib/python3.7/site-packages/tqdm/std.py\", line 1124, in __del__\n",
      "    self.close()\n",
      "  File \"/Users/timsb/miniconda3/envs/causal2020/lib/python3.7/site-packages/tqdm/notebook.py\", line 271, in close\n",
      "    self.sp(bar_style='danger')\n",
      "AttributeError: 'tqdm_notebook' object has no attribute 'sp'\n",
      "/Users/timsb/miniconda3/envs/causal2020/lib/python3.7/site-packages/pylogit/choice_tools.py:703: FutureWarning: arrays to stack must be passed as a \"sequence\" type such as list or tuple. Support for non-sequence iterables such as generators is deprecated as of NumPy 1.16 and will raise an error in the future.\n",
      "/Users/timsb/miniconda3/envs/causal2020/lib/python3.7/site-packages/pylogit/choice_tools.py:703: FutureWarning: arrays to stack must be passed as a \"sequence\" type such as list or tuple. Support for non-sequence iterables such as generators is deprecated as of NumPy 1.16 and will raise an error in the future.\n",
      "/Users/timsb/miniconda3/envs/causal2020/lib/python3.7/site-packages/pylogit/choice_tools.py:703: FutureWarning: arrays to stack must be passed as a \"sequence\" type such as list or tuple. Support for non-sequence iterables such as generators is deprecated as of NumPy 1.16 and will raise an error in the future.\n",
      "\n",
      "Simulating Choices:   0%|          | 0/3971 [00:00<?, ?it/s]\u001b[A"
     ]
    },
    {
     "name": "stdout",
     "output_type": "stream",
     "text": [
      "Converting data from wide to long...\n",
      "Simulating Choices...\n"
     ]
    },
    {
     "name": "stderr",
     "output_type": "stream",
     "text": [
      "\n",
      "Simulating Choices: 100%|██████████| 3971/3971 [00:00<00:00, 36571.51it/s]\u001b[A\n",
      "/Users/timsb/miniconda3/envs/causal2020/lib/python3.7/site-packages/pylogit/choice_tools.py:703: FutureWarning: arrays to stack must be passed as a \"sequence\" type such as list or tuple. Support for non-sequence iterables such as generators is deprecated as of NumPy 1.16 and will raise an error in the future.\n"
     ]
    },
    {
     "name": "stdout",
     "output_type": "stream",
     "text": [
      "Estimating the choice model...\n",
      "Estimating Causal Effects...\n",
      "Simulation number 14 is complete!\n",
      "==========================================\n",
      "==========================================\n",
      "Simulation number 15 of 200 is in progress...\n",
      "Simulation size is 3067\n",
      "------------------------------------------\n",
      "Simulating data...\n",
      "Simulating Availability...\n"
     ]
    },
    {
     "name": "stderr",
     "output_type": "stream",
     "text": [
      "/Users/timsb/miniconda3/envs/causal2020/lib/python3.7/site-packages/pylogit/choice_tools.py:703: FutureWarning: arrays to stack must be passed as a \"sequence\" type such as list or tuple. Support for non-sequence iterables such as generators is deprecated as of NumPy 1.16 and will raise an error in the future.\n",
      "/Users/timsb/miniconda3/envs/causal2020/lib/python3.7/site-packages/pylogit/choice_tools.py:703: FutureWarning: arrays to stack must be passed as a \"sequence\" type such as list or tuple. Support for non-sequence iterables such as generators is deprecated as of NumPy 1.16 and will raise an error in the future.\n",
      "Exception ignored in: <function tqdm.__del__ at 0x7fe05909bcb0>\n",
      "Traceback (most recent call last):\n",
      "  File \"/Users/timsb/miniconda3/envs/causal2020/lib/python3.7/site-packages/tqdm/std.py\", line 1124, in __del__\n",
      "    self.close()\n",
      "  File \"/Users/timsb/miniconda3/envs/causal2020/lib/python3.7/site-packages/tqdm/notebook.py\", line 271, in close\n",
      "    self.sp(bar_style='danger')\n",
      "AttributeError: 'tqdm_notebook' object has no attribute 'sp'\n",
      "/Users/timsb/miniconda3/envs/causal2020/lib/python3.7/site-packages/pylogit/choice_tools.py:703: FutureWarning: arrays to stack must be passed as a \"sequence\" type such as list or tuple. Support for non-sequence iterables such as generators is deprecated as of NumPy 1.16 and will raise an error in the future.\n",
      "/Users/timsb/miniconda3/envs/causal2020/lib/python3.7/site-packages/pylogit/choice_tools.py:703: FutureWarning: arrays to stack must be passed as a \"sequence\" type such as list or tuple. Support for non-sequence iterables such as generators is deprecated as of NumPy 1.16 and will raise an error in the future.\n",
      "/Users/timsb/miniconda3/envs/causal2020/lib/python3.7/site-packages/pylogit/choice_tools.py:703: FutureWarning: arrays to stack must be passed as a \"sequence\" type such as list or tuple. Support for non-sequence iterables such as generators is deprecated as of NumPy 1.16 and will raise an error in the future.\n",
      "\n",
      "Simulating Choices:   0%|          | 0/3067 [00:00<?, ?it/s]\u001b[A"
     ]
    },
    {
     "name": "stdout",
     "output_type": "stream",
     "text": [
      "Converting data from wide to long...\n",
      "Simulating Choices...\n"
     ]
    },
    {
     "name": "stderr",
     "output_type": "stream",
     "text": [
      "Simulating Choices: 100%|██████████| 3067/3067 [00:00<00:00, 36948.75it/s]\n",
      "/Users/timsb/miniconda3/envs/causal2020/lib/python3.7/site-packages/pylogit/choice_tools.py:703: FutureWarning: arrays to stack must be passed as a \"sequence\" type such as list or tuple. Support for non-sequence iterables such as generators is deprecated as of NumPy 1.16 and will raise an error in the future.\n"
     ]
    },
    {
     "name": "stdout",
     "output_type": "stream",
     "text": [
      "Estimating the choice model...\n",
      "Estimating Causal Effects...\n"
     ]
    },
    {
     "name": "stderr",
     "output_type": "stream",
     "text": [
      "/Users/timsb/miniconda3/envs/causal2020/lib/python3.7/site-packages/pylogit/choice_tools.py:703: FutureWarning: arrays to stack must be passed as a \"sequence\" type such as list or tuple. Support for non-sequence iterables such as generators is deprecated as of NumPy 1.16 and will raise an error in the future.\n",
      "/Users/timsb/miniconda3/envs/causal2020/lib/python3.7/site-packages/pylogit/choice_tools.py:703: FutureWarning: arrays to stack must be passed as a \"sequence\" type such as list or tuple. Support for non-sequence iterables such as generators is deprecated as of NumPy 1.16 and will raise an error in the future.\n",
      "Exception ignored in: <function tqdm.__del__ at 0x7fe05909bcb0>\n",
      "Traceback (most recent call last):\n",
      "  File \"/Users/timsb/miniconda3/envs/causal2020/lib/python3.7/site-packages/tqdm/std.py\", line 1124, in __del__\n",
      "    self.close()\n",
      "  File \"/Users/timsb/miniconda3/envs/causal2020/lib/python3.7/site-packages/tqdm/notebook.py\", line 271, in close\n",
      "    self.sp(bar_style='danger')\n",
      "AttributeError: 'tqdm_notebook' object has no attribute 'sp'\n",
      "/Users/timsb/miniconda3/envs/causal2020/lib/python3.7/site-packages/pylogit/choice_tools.py:703: FutureWarning: arrays to stack must be passed as a \"sequence\" type such as list or tuple. Support for non-sequence iterables such as generators is deprecated as of NumPy 1.16 and will raise an error in the future.\n",
      "/Users/timsb/miniconda3/envs/causal2020/lib/python3.7/site-packages/pylogit/choice_tools.py:703: FutureWarning: arrays to stack must be passed as a \"sequence\" type such as list or tuple. Support for non-sequence iterables such as generators is deprecated as of NumPy 1.16 and will raise an error in the future.\n"
     ]
    },
    {
     "name": "stdout",
     "output_type": "stream",
     "text": [
      "Simulation number 15 is complete!\n",
      "==========================================\n",
      "==========================================\n",
      "Simulation number 16 of 200 is in progress...\n",
      "Simulation size is 3995\n",
      "------------------------------------------\n",
      "Simulating data...\n",
      "Simulating Availability...\n"
     ]
    },
    {
     "name": "stderr",
     "output_type": "stream",
     "text": [
      "/Users/timsb/miniconda3/envs/causal2020/lib/python3.7/site-packages/pylogit/choice_tools.py:703: FutureWarning: arrays to stack must be passed as a \"sequence\" type such as list or tuple. Support for non-sequence iterables such as generators is deprecated as of NumPy 1.16 and will raise an error in the future.\n",
      "\n",
      "Simulating Choices:   0%|          | 0/3995 [00:00<?, ?it/s]\u001b[A"
     ]
    },
    {
     "name": "stdout",
     "output_type": "stream",
     "text": [
      "Converting data from wide to long...\n",
      "Simulating Choices...\n"
     ]
    },
    {
     "name": "stderr",
     "output_type": "stream",
     "text": [
      "\n",
      "Simulating Choices: 100%|██████████| 3995/3995 [00:00<00:00, 33085.75it/s]\u001b[A\n",
      "/Users/timsb/miniconda3/envs/causal2020/lib/python3.7/site-packages/pylogit/choice_tools.py:703: FutureWarning: arrays to stack must be passed as a \"sequence\" type such as list or tuple. Support for non-sequence iterables such as generators is deprecated as of NumPy 1.16 and will raise an error in the future.\n"
     ]
    },
    {
     "name": "stdout",
     "output_type": "stream",
     "text": [
      "Estimating the choice model...\n",
      "Estimating Causal Effects...\n",
      "Simulation number 16 is complete!\n",
      "==========================================\n",
      "==========================================\n",
      "Simulation number 17 of 200 is in progress...\n",
      "Simulation size is 3998\n",
      "------------------------------------------\n",
      "Simulating data...\n",
      "Simulating Availability...\n"
     ]
    },
    {
     "name": "stderr",
     "output_type": "stream",
     "text": [
      "/Users/timsb/miniconda3/envs/causal2020/lib/python3.7/site-packages/pylogit/choice_tools.py:703: FutureWarning: arrays to stack must be passed as a \"sequence\" type such as list or tuple. Support for non-sequence iterables such as generators is deprecated as of NumPy 1.16 and will raise an error in the future.\n",
      "/Users/timsb/miniconda3/envs/causal2020/lib/python3.7/site-packages/pylogit/choice_tools.py:703: FutureWarning: arrays to stack must be passed as a \"sequence\" type such as list or tuple. Support for non-sequence iterables such as generators is deprecated as of NumPy 1.16 and will raise an error in the future.\n",
      "Exception ignored in: <function tqdm.__del__ at 0x7fe05909bcb0>\n",
      "Traceback (most recent call last):\n",
      "  File \"/Users/timsb/miniconda3/envs/causal2020/lib/python3.7/site-packages/tqdm/std.py\", line 1124, in __del__\n",
      "    self.close()\n",
      "  File \"/Users/timsb/miniconda3/envs/causal2020/lib/python3.7/site-packages/tqdm/notebook.py\", line 271, in close\n",
      "    self.sp(bar_style='danger')\n",
      "AttributeError: 'tqdm_notebook' object has no attribute 'sp'\n",
      "/Users/timsb/miniconda3/envs/causal2020/lib/python3.7/site-packages/pylogit/choice_tools.py:703: FutureWarning: arrays to stack must be passed as a \"sequence\" type such as list or tuple. Support for non-sequence iterables such as generators is deprecated as of NumPy 1.16 and will raise an error in the future.\n",
      "/Users/timsb/miniconda3/envs/causal2020/lib/python3.7/site-packages/pylogit/choice_tools.py:703: FutureWarning: arrays to stack must be passed as a \"sequence\" type such as list or tuple. Support for non-sequence iterables such as generators is deprecated as of NumPy 1.16 and will raise an error in the future.\n"
     ]
    },
    {
     "name": "stdout",
     "output_type": "stream",
     "text": [
      "Converting data from wide to long...\n",
      "Simulating Choices...\n"
     ]
    },
    {
     "name": "stderr",
     "output_type": "stream",
     "text": [
      "/Users/timsb/miniconda3/envs/causal2020/lib/python3.7/site-packages/pylogit/choice_tools.py:703: FutureWarning: arrays to stack must be passed as a \"sequence\" type such as list or tuple. Support for non-sequence iterables such as generators is deprecated as of NumPy 1.16 and will raise an error in the future.\n",
      "\n",
      "Simulating Choices:   0%|          | 0/3998 [00:00<?, ?it/s]\u001b[A\n",
      "Simulating Choices: 100%|██████████| 3998/3998 [00:00<00:00, 35819.27it/s]\u001b[A\n",
      "/Users/timsb/miniconda3/envs/causal2020/lib/python3.7/site-packages/pylogit/choice_tools.py:703: FutureWarning: arrays to stack must be passed as a \"sequence\" type such as list or tuple. Support for non-sequence iterables such as generators is deprecated as of NumPy 1.16 and will raise an error in the future.\n"
     ]
    },
    {
     "name": "stdout",
     "output_type": "stream",
     "text": [
      "Estimating the choice model...\n",
      "Estimating Causal Effects...\n",
      "Simulation number 17 is complete!\n",
      "==========================================\n",
      "==========================================\n",
      "Simulation number 18 of 200 is in progress...\n",
      "Simulation size is 3328\n",
      "------------------------------------------\n",
      "Simulating data...\n",
      "Simulating Availability...\n"
     ]
    },
    {
     "name": "stderr",
     "output_type": "stream",
     "text": [
      "/Users/timsb/miniconda3/envs/causal2020/lib/python3.7/site-packages/pylogit/choice_tools.py:703: FutureWarning: arrays to stack must be passed as a \"sequence\" type such as list or tuple. Support for non-sequence iterables such as generators is deprecated as of NumPy 1.16 and will raise an error in the future.\n",
      "/Users/timsb/miniconda3/envs/causal2020/lib/python3.7/site-packages/pylogit/choice_tools.py:703: FutureWarning: arrays to stack must be passed as a \"sequence\" type such as list or tuple. Support for non-sequence iterables such as generators is deprecated as of NumPy 1.16 and will raise an error in the future.\n",
      "Exception ignored in: <function tqdm.__del__ at 0x7fe05909bcb0>\n",
      "Traceback (most recent call last):\n",
      "  File \"/Users/timsb/miniconda3/envs/causal2020/lib/python3.7/site-packages/tqdm/std.py\", line 1124, in __del__\n",
      "    self.close()\n",
      "  File \"/Users/timsb/miniconda3/envs/causal2020/lib/python3.7/site-packages/tqdm/notebook.py\", line 271, in close\n",
      "    self.sp(bar_style='danger')\n",
      "AttributeError: 'tqdm_notebook' object has no attribute 'sp'\n",
      "/Users/timsb/miniconda3/envs/causal2020/lib/python3.7/site-packages/pylogit/choice_tools.py:703: FutureWarning: arrays to stack must be passed as a \"sequence\" type such as list or tuple. Support for non-sequence iterables such as generators is deprecated as of NumPy 1.16 and will raise an error in the future.\n",
      "/Users/timsb/miniconda3/envs/causal2020/lib/python3.7/site-packages/pylogit/choice_tools.py:703: FutureWarning: arrays to stack must be passed as a \"sequence\" type such as list or tuple. Support for non-sequence iterables such as generators is deprecated as of NumPy 1.16 and will raise an error in the future.\n",
      "/Users/timsb/miniconda3/envs/causal2020/lib/python3.7/site-packages/pylogit/choice_tools.py:703: FutureWarning: arrays to stack must be passed as a \"sequence\" type such as list or tuple. Support for non-sequence iterables such as generators is deprecated as of NumPy 1.16 and will raise an error in the future.\n",
      "\n",
      "Simulating Choices:   0%|          | 0/3328 [00:00<?, ?it/s]\u001b[A"
     ]
    },
    {
     "name": "stdout",
     "output_type": "stream",
     "text": [
      "Converting data from wide to long...\n",
      "Simulating Choices...\n"
     ]
    },
    {
     "name": "stderr",
     "output_type": "stream",
     "text": [
      "Simulating Choices: 100%|██████████| 3328/3328 [00:00<00:00, 38044.30it/s]\n",
      "/Users/timsb/miniconda3/envs/causal2020/lib/python3.7/site-packages/pylogit/choice_tools.py:703: FutureWarning: arrays to stack must be passed as a \"sequence\" type such as list or tuple. Support for non-sequence iterables such as generators is deprecated as of NumPy 1.16 and will raise an error in the future.\n"
     ]
    },
    {
     "name": "stdout",
     "output_type": "stream",
     "text": [
      "Estimating the choice model...\n",
      "Estimating Causal Effects...\n",
      "Simulation number 18 is complete!\n",
      "==========================================\n",
      "==========================================\n",
      "Simulation number 19 of 200 is in progress...\n",
      "Simulation size is 3536\n",
      "------------------------------------------\n",
      "Simulating data...\n",
      "Simulating Availability...\n"
     ]
    },
    {
     "name": "stderr",
     "output_type": "stream",
     "text": [
      "/Users/timsb/miniconda3/envs/causal2020/lib/python3.7/site-packages/pylogit/choice_tools.py:703: FutureWarning: arrays to stack must be passed as a \"sequence\" type such as list or tuple. Support for non-sequence iterables such as generators is deprecated as of NumPy 1.16 and will raise an error in the future.\n",
      "/Users/timsb/miniconda3/envs/causal2020/lib/python3.7/site-packages/pylogit/choice_tools.py:703: FutureWarning: arrays to stack must be passed as a \"sequence\" type such as list or tuple. Support for non-sequence iterables such as generators is deprecated as of NumPy 1.16 and will raise an error in the future.\n",
      "Exception ignored in: <function tqdm.__del__ at 0x7fe05909bcb0>\n",
      "Traceback (most recent call last):\n",
      "  File \"/Users/timsb/miniconda3/envs/causal2020/lib/python3.7/site-packages/tqdm/std.py\", line 1124, in __del__\n",
      "    self.close()\n",
      "  File \"/Users/timsb/miniconda3/envs/causal2020/lib/python3.7/site-packages/tqdm/notebook.py\", line 271, in close\n",
      "    self.sp(bar_style='danger')\n",
      "AttributeError: 'tqdm_notebook' object has no attribute 'sp'\n",
      "/Users/timsb/miniconda3/envs/causal2020/lib/python3.7/site-packages/pylogit/choice_tools.py:703: FutureWarning: arrays to stack must be passed as a \"sequence\" type such as list or tuple. Support for non-sequence iterables such as generators is deprecated as of NumPy 1.16 and will raise an error in the future.\n",
      "/Users/timsb/miniconda3/envs/causal2020/lib/python3.7/site-packages/pylogit/choice_tools.py:703: FutureWarning: arrays to stack must be passed as a \"sequence\" type such as list or tuple. Support for non-sequence iterables such as generators is deprecated as of NumPy 1.16 and will raise an error in the future.\n",
      "/Users/timsb/miniconda3/envs/causal2020/lib/python3.7/site-packages/pylogit/choice_tools.py:703: FutureWarning: arrays to stack must be passed as a \"sequence\" type such as list or tuple. Support for non-sequence iterables such as generators is deprecated as of NumPy 1.16 and will raise an error in the future.\n",
      "\n",
      "Simulating Choices:   0%|          | 0/3536 [00:00<?, ?it/s]\u001b[A"
     ]
    },
    {
     "name": "stdout",
     "output_type": "stream",
     "text": [
      "Converting data from wide to long...\n",
      "Simulating Choices...\n"
     ]
    },
    {
     "name": "stderr",
     "output_type": "stream",
     "text": [
      "Simulating Choices: 100%|██████████| 3536/3536 [00:00<00:00, 36384.97it/s]\n",
      "/Users/timsb/miniconda3/envs/causal2020/lib/python3.7/site-packages/pylogit/choice_tools.py:703: FutureWarning: arrays to stack must be passed as a \"sequence\" type such as list or tuple. Support for non-sequence iterables such as generators is deprecated as of NumPy 1.16 and will raise an error in the future.\n"
     ]
    },
    {
     "name": "stdout",
     "output_type": "stream",
     "text": [
      "Estimating the choice model...\n",
      "Estimating Causal Effects...\n",
      "Simulation number 19 is complete!\n",
      "==========================================\n",
      "==========================================\n",
      "Simulation number 20 of 200 is in progress...\n",
      "Simulation size is 3332\n",
      "------------------------------------------\n",
      "Simulating data...\n",
      "Simulating Availability...\n"
     ]
    },
    {
     "name": "stderr",
     "output_type": "stream",
     "text": [
      "/Users/timsb/miniconda3/envs/causal2020/lib/python3.7/site-packages/pylogit/choice_tools.py:703: FutureWarning: arrays to stack must be passed as a \"sequence\" type such as list or tuple. Support for non-sequence iterables such as generators is deprecated as of NumPy 1.16 and will raise an error in the future.\n",
      "/Users/timsb/miniconda3/envs/causal2020/lib/python3.7/site-packages/pylogit/choice_tools.py:703: FutureWarning: arrays to stack must be passed as a \"sequence\" type such as list or tuple. Support for non-sequence iterables such as generators is deprecated as of NumPy 1.16 and will raise an error in the future.\n",
      "Exception ignored in: <function tqdm.__del__ at 0x7fe05909bcb0>\n",
      "Traceback (most recent call last):\n",
      "  File \"/Users/timsb/miniconda3/envs/causal2020/lib/python3.7/site-packages/tqdm/std.py\", line 1124, in __del__\n",
      "    self.close()\n",
      "  File \"/Users/timsb/miniconda3/envs/causal2020/lib/python3.7/site-packages/tqdm/notebook.py\", line 271, in close\n",
      "    self.sp(bar_style='danger')\n",
      "AttributeError: 'tqdm_notebook' object has no attribute 'sp'\n",
      "/Users/timsb/miniconda3/envs/causal2020/lib/python3.7/site-packages/pylogit/choice_tools.py:703: FutureWarning: arrays to stack must be passed as a \"sequence\" type such as list or tuple. Support for non-sequence iterables such as generators is deprecated as of NumPy 1.16 and will raise an error in the future.\n",
      "/Users/timsb/miniconda3/envs/causal2020/lib/python3.7/site-packages/pylogit/choice_tools.py:703: FutureWarning: arrays to stack must be passed as a \"sequence\" type such as list or tuple. Support for non-sequence iterables such as generators is deprecated as of NumPy 1.16 and will raise an error in the future.\n",
      "/Users/timsb/miniconda3/envs/causal2020/lib/python3.7/site-packages/pylogit/choice_tools.py:703: FutureWarning: arrays to stack must be passed as a \"sequence\" type such as list or tuple. Support for non-sequence iterables such as generators is deprecated as of NumPy 1.16 and will raise an error in the future.\n",
      "\n",
      "Simulating Choices:   0%|          | 0/3332 [00:00<?, ?it/s]\u001b[A"
     ]
    },
    {
     "name": "stdout",
     "output_type": "stream",
     "text": [
      "Converting data from wide to long...\n",
      "Simulating Choices...\n"
     ]
    },
    {
     "name": "stderr",
     "output_type": "stream",
     "text": [
      "Simulating Choices: 100%|██████████| 3332/3332 [00:00<00:00, 38404.35it/s]\n",
      "/Users/timsb/miniconda3/envs/causal2020/lib/python3.7/site-packages/pylogit/choice_tools.py:703: FutureWarning: arrays to stack must be passed as a \"sequence\" type such as list or tuple. Support for non-sequence iterables such as generators is deprecated as of NumPy 1.16 and will raise an error in the future.\n"
     ]
    },
    {
     "name": "stdout",
     "output_type": "stream",
     "text": [
      "Estimating the choice model...\n",
      "Estimating Causal Effects...\n",
      "Simulation number 20 is complete!\n",
      "==========================================\n",
      "==========================================\n",
      "Simulation number 21 of 200 is in progress...\n",
      "Simulation size is 3696\n",
      "------------------------------------------\n",
      "Simulating data...\n",
      "Simulating Availability...\n"
     ]
    },
    {
     "name": "stderr",
     "output_type": "stream",
     "text": [
      "/Users/timsb/miniconda3/envs/causal2020/lib/python3.7/site-packages/pylogit/choice_tools.py:703: FutureWarning: arrays to stack must be passed as a \"sequence\" type such as list or tuple. Support for non-sequence iterables such as generators is deprecated as of NumPy 1.16 and will raise an error in the future.\n",
      "/Users/timsb/miniconda3/envs/causal2020/lib/python3.7/site-packages/pylogit/choice_tools.py:703: FutureWarning: arrays to stack must be passed as a \"sequence\" type such as list or tuple. Support for non-sequence iterables such as generators is deprecated as of NumPy 1.16 and will raise an error in the future.\n",
      "Exception ignored in: <function tqdm.__del__ at 0x7fe05909bcb0>\n",
      "Traceback (most recent call last):\n",
      "  File \"/Users/timsb/miniconda3/envs/causal2020/lib/python3.7/site-packages/tqdm/std.py\", line 1124, in __del__\n",
      "    self.close()\n",
      "  File \"/Users/timsb/miniconda3/envs/causal2020/lib/python3.7/site-packages/tqdm/notebook.py\", line 271, in close\n",
      "    self.sp(bar_style='danger')\n",
      "AttributeError: 'tqdm_notebook' object has no attribute 'sp'\n",
      "/Users/timsb/miniconda3/envs/causal2020/lib/python3.7/site-packages/pylogit/choice_tools.py:703: FutureWarning: arrays to stack must be passed as a \"sequence\" type such as list or tuple. Support for non-sequence iterables such as generators is deprecated as of NumPy 1.16 and will raise an error in the future.\n",
      "/Users/timsb/miniconda3/envs/causal2020/lib/python3.7/site-packages/pylogit/choice_tools.py:703: FutureWarning: arrays to stack must be passed as a \"sequence\" type such as list or tuple. Support for non-sequence iterables such as generators is deprecated as of NumPy 1.16 and will raise an error in the future.\n",
      "/Users/timsb/miniconda3/envs/causal2020/lib/python3.7/site-packages/pylogit/choice_tools.py:703: FutureWarning: arrays to stack must be passed as a \"sequence\" type such as list or tuple. Support for non-sequence iterables such as generators is deprecated as of NumPy 1.16 and will raise an error in the future.\n",
      "\n",
      "Simulating Choices:   0%|          | 0/3696 [00:00<?, ?it/s]\u001b[A"
     ]
    },
    {
     "name": "stdout",
     "output_type": "stream",
     "text": [
      "Converting data from wide to long...\n",
      "Simulating Choices...\n"
     ]
    },
    {
     "name": "stderr",
     "output_type": "stream",
     "text": [
      "Simulating Choices: 100%|██████████| 3696/3696 [00:00<00:00, 39324.69it/s]\n",
      "/Users/timsb/miniconda3/envs/causal2020/lib/python3.7/site-packages/pylogit/choice_tools.py:703: FutureWarning: arrays to stack must be passed as a \"sequence\" type such as list or tuple. Support for non-sequence iterables such as generators is deprecated as of NumPy 1.16 and will raise an error in the future.\n"
     ]
    },
    {
     "name": "stdout",
     "output_type": "stream",
     "text": [
      "Estimating the choice model...\n",
      "Estimating Causal Effects...\n",
      "Simulation number 21 is complete!\n",
      "==========================================\n",
      "==========================================\n",
      "Simulation number 22 of 200 is in progress...\n",
      "Simulation size is 3314\n",
      "------------------------------------------\n",
      "Simulating data...\n",
      "Simulating Availability...\n"
     ]
    },
    {
     "name": "stderr",
     "output_type": "stream",
     "text": [
      "/Users/timsb/miniconda3/envs/causal2020/lib/python3.7/site-packages/pylogit/choice_tools.py:703: FutureWarning: arrays to stack must be passed as a \"sequence\" type such as list or tuple. Support for non-sequence iterables such as generators is deprecated as of NumPy 1.16 and will raise an error in the future.\n",
      "/Users/timsb/miniconda3/envs/causal2020/lib/python3.7/site-packages/pylogit/choice_tools.py:703: FutureWarning: arrays to stack must be passed as a \"sequence\" type such as list or tuple. Support for non-sequence iterables such as generators is deprecated as of NumPy 1.16 and will raise an error in the future.\n",
      "Exception ignored in: <function tqdm.__del__ at 0x7fe05909bcb0>\n",
      "Traceback (most recent call last):\n",
      "  File \"/Users/timsb/miniconda3/envs/causal2020/lib/python3.7/site-packages/tqdm/std.py\", line 1124, in __del__\n",
      "    self.close()\n",
      "  File \"/Users/timsb/miniconda3/envs/causal2020/lib/python3.7/site-packages/tqdm/notebook.py\", line 271, in close\n",
      "    self.sp(bar_style='danger')\n",
      "AttributeError: 'tqdm_notebook' object has no attribute 'sp'\n",
      "/Users/timsb/miniconda3/envs/causal2020/lib/python3.7/site-packages/pylogit/choice_tools.py:703: FutureWarning: arrays to stack must be passed as a \"sequence\" type such as list or tuple. Support for non-sequence iterables such as generators is deprecated as of NumPy 1.16 and will raise an error in the future.\n",
      "/Users/timsb/miniconda3/envs/causal2020/lib/python3.7/site-packages/pylogit/choice_tools.py:703: FutureWarning: arrays to stack must be passed as a \"sequence\" type such as list or tuple. Support for non-sequence iterables such as generators is deprecated as of NumPy 1.16 and will raise an error in the future.\n",
      "/Users/timsb/miniconda3/envs/causal2020/lib/python3.7/site-packages/pylogit/choice_tools.py:703: FutureWarning: arrays to stack must be passed as a \"sequence\" type such as list or tuple. Support for non-sequence iterables such as generators is deprecated as of NumPy 1.16 and will raise an error in the future.\n",
      "\n",
      "Simulating Choices:   0%|          | 0/3314 [00:00<?, ?it/s]\u001b[A"
     ]
    },
    {
     "name": "stdout",
     "output_type": "stream",
     "text": [
      "Converting data from wide to long...\n",
      "Simulating Choices...\n"
     ]
    },
    {
     "name": "stderr",
     "output_type": "stream",
     "text": [
      "Simulating Choices: 100%|██████████| 3314/3314 [00:00<00:00, 37271.41it/s]\n",
      "/Users/timsb/miniconda3/envs/causal2020/lib/python3.7/site-packages/pylogit/choice_tools.py:703: FutureWarning: arrays to stack must be passed as a \"sequence\" type such as list or tuple. Support for non-sequence iterables such as generators is deprecated as of NumPy 1.16 and will raise an error in the future.\n"
     ]
    },
    {
     "name": "stdout",
     "output_type": "stream",
     "text": [
      "Estimating the choice model...\n",
      "Estimating Causal Effects...\n",
      "Simulation number 22 is complete!\n",
      "==========================================\n",
      "==========================================\n",
      "Simulation number 23 of 200 is in progress...\n",
      "Simulation size is 3552\n",
      "------------------------------------------\n",
      "Simulating data...\n",
      "Simulating Availability...\n"
     ]
    },
    {
     "name": "stderr",
     "output_type": "stream",
     "text": [
      "/Users/timsb/miniconda3/envs/causal2020/lib/python3.7/site-packages/pylogit/choice_tools.py:703: FutureWarning: arrays to stack must be passed as a \"sequence\" type such as list or tuple. Support for non-sequence iterables such as generators is deprecated as of NumPy 1.16 and will raise an error in the future.\n",
      "/Users/timsb/miniconda3/envs/causal2020/lib/python3.7/site-packages/pylogit/choice_tools.py:703: FutureWarning: arrays to stack must be passed as a \"sequence\" type such as list or tuple. Support for non-sequence iterables such as generators is deprecated as of NumPy 1.16 and will raise an error in the future.\n",
      "Exception ignored in: <function tqdm.__del__ at 0x7fe05909bcb0>\n",
      "Traceback (most recent call last):\n",
      "  File \"/Users/timsb/miniconda3/envs/causal2020/lib/python3.7/site-packages/tqdm/std.py\", line 1124, in __del__\n",
      "    self.close()\n",
      "  File \"/Users/timsb/miniconda3/envs/causal2020/lib/python3.7/site-packages/tqdm/notebook.py\", line 271, in close\n",
      "    self.sp(bar_style='danger')\n",
      "AttributeError: 'tqdm_notebook' object has no attribute 'sp'\n",
      "/Users/timsb/miniconda3/envs/causal2020/lib/python3.7/site-packages/pylogit/choice_tools.py:703: FutureWarning: arrays to stack must be passed as a \"sequence\" type such as list or tuple. Support for non-sequence iterables such as generators is deprecated as of NumPy 1.16 and will raise an error in the future.\n",
      "/Users/timsb/miniconda3/envs/causal2020/lib/python3.7/site-packages/pylogit/choice_tools.py:703: FutureWarning: arrays to stack must be passed as a \"sequence\" type such as list or tuple. Support for non-sequence iterables such as generators is deprecated as of NumPy 1.16 and will raise an error in the future.\n",
      "/Users/timsb/miniconda3/envs/causal2020/lib/python3.7/site-packages/pylogit/choice_tools.py:703: FutureWarning: arrays to stack must be passed as a \"sequence\" type such as list or tuple. Support for non-sequence iterables such as generators is deprecated as of NumPy 1.16 and will raise an error in the future.\n",
      "\n",
      "Simulating Choices:   0%|          | 0/3552 [00:00<?, ?it/s]\u001b[A"
     ]
    },
    {
     "name": "stdout",
     "output_type": "stream",
     "text": [
      "Converting data from wide to long...\n",
      "Simulating Choices...\n"
     ]
    },
    {
     "name": "stderr",
     "output_type": "stream",
     "text": [
      "Simulating Choices: 100%|██████████| 3552/3552 [00:00<00:00, 38949.56it/s]\n",
      "/Users/timsb/miniconda3/envs/causal2020/lib/python3.7/site-packages/pylogit/choice_tools.py:703: FutureWarning: arrays to stack must be passed as a \"sequence\" type such as list or tuple. Support for non-sequence iterables such as generators is deprecated as of NumPy 1.16 and will raise an error in the future.\n"
     ]
    },
    {
     "name": "stdout",
     "output_type": "stream",
     "text": [
      "Estimating the choice model...\n",
      "Estimating Causal Effects...\n",
      "Simulation number 23 is complete!\n",
      "==========================================\n",
      "==========================================\n",
      "Simulation number 24 of 200 is in progress...\n",
      "Simulation size is 3258\n",
      "------------------------------------------\n",
      "Simulating data...\n",
      "Simulating Availability...\n"
     ]
    },
    {
     "name": "stderr",
     "output_type": "stream",
     "text": [
      "/Users/timsb/miniconda3/envs/causal2020/lib/python3.7/site-packages/pylogit/choice_tools.py:703: FutureWarning: arrays to stack must be passed as a \"sequence\" type such as list or tuple. Support for non-sequence iterables such as generators is deprecated as of NumPy 1.16 and will raise an error in the future.\n",
      "/Users/timsb/miniconda3/envs/causal2020/lib/python3.7/site-packages/pylogit/choice_tools.py:703: FutureWarning: arrays to stack must be passed as a \"sequence\" type such as list or tuple. Support for non-sequence iterables such as generators is deprecated as of NumPy 1.16 and will raise an error in the future.\n",
      "Exception ignored in: <function tqdm.__del__ at 0x7fe05909bcb0>\n",
      "Traceback (most recent call last):\n",
      "  File \"/Users/timsb/miniconda3/envs/causal2020/lib/python3.7/site-packages/tqdm/std.py\", line 1124, in __del__\n",
      "    self.close()\n",
      "  File \"/Users/timsb/miniconda3/envs/causal2020/lib/python3.7/site-packages/tqdm/notebook.py\", line 271, in close\n",
      "    self.sp(bar_style='danger')\n",
      "AttributeError: 'tqdm_notebook' object has no attribute 'sp'\n",
      "/Users/timsb/miniconda3/envs/causal2020/lib/python3.7/site-packages/pylogit/choice_tools.py:703: FutureWarning: arrays to stack must be passed as a \"sequence\" type such as list or tuple. Support for non-sequence iterables such as generators is deprecated as of NumPy 1.16 and will raise an error in the future.\n",
      "/Users/timsb/miniconda3/envs/causal2020/lib/python3.7/site-packages/pylogit/choice_tools.py:703: FutureWarning: arrays to stack must be passed as a \"sequence\" type such as list or tuple. Support for non-sequence iterables such as generators is deprecated as of NumPy 1.16 and will raise an error in the future.\n",
      "/Users/timsb/miniconda3/envs/causal2020/lib/python3.7/site-packages/pylogit/choice_tools.py:703: FutureWarning: arrays to stack must be passed as a \"sequence\" type such as list or tuple. Support for non-sequence iterables such as generators is deprecated as of NumPy 1.16 and will raise an error in the future.\n",
      "\n",
      "Simulating Choices:   0%|          | 0/3258 [00:00<?, ?it/s]\u001b[A"
     ]
    },
    {
     "name": "stdout",
     "output_type": "stream",
     "text": [
      "Converting data from wide to long...\n",
      "Simulating Choices...\n"
     ]
    },
    {
     "name": "stderr",
     "output_type": "stream",
     "text": [
      "\n",
      "Simulating Choices: 100%|██████████| 3258/3258 [00:00<00:00, 27053.49it/s]\u001b[A\n",
      "/Users/timsb/miniconda3/envs/causal2020/lib/python3.7/site-packages/pylogit/choice_tools.py:703: FutureWarning: arrays to stack must be passed as a \"sequence\" type such as list or tuple. Support for non-sequence iterables such as generators is deprecated as of NumPy 1.16 and will raise an error in the future.\n"
     ]
    },
    {
     "name": "stdout",
     "output_type": "stream",
     "text": [
      "Estimating the choice model...\n",
      "Estimating Causal Effects...\n",
      "Simulation number 24 is complete!\n",
      "==========================================\n",
      "==========================================\n",
      "Simulation number 25 of 200 is in progress...\n",
      "Simulation size is 3673\n",
      "------------------------------------------\n",
      "Simulating data...\n",
      "Simulating Availability...\n"
     ]
    },
    {
     "name": "stderr",
     "output_type": "stream",
     "text": [
      "/Users/timsb/miniconda3/envs/causal2020/lib/python3.7/site-packages/pylogit/choice_tools.py:703: FutureWarning: arrays to stack must be passed as a \"sequence\" type such as list or tuple. Support for non-sequence iterables such as generators is deprecated as of NumPy 1.16 and will raise an error in the future.\n",
      "/Users/timsb/miniconda3/envs/causal2020/lib/python3.7/site-packages/pylogit/choice_tools.py:703: FutureWarning: arrays to stack must be passed as a \"sequence\" type such as list or tuple. Support for non-sequence iterables such as generators is deprecated as of NumPy 1.16 and will raise an error in the future.\n",
      "Exception ignored in: <function tqdm.__del__ at 0x7fe05909bcb0>\n",
      "Traceback (most recent call last):\n",
      "  File \"/Users/timsb/miniconda3/envs/causal2020/lib/python3.7/site-packages/tqdm/std.py\", line 1124, in __del__\n",
      "    self.close()\n",
      "  File \"/Users/timsb/miniconda3/envs/causal2020/lib/python3.7/site-packages/tqdm/notebook.py\", line 271, in close\n",
      "    self.sp(bar_style='danger')\n",
      "AttributeError: 'tqdm_notebook' object has no attribute 'sp'\n",
      "/Users/timsb/miniconda3/envs/causal2020/lib/python3.7/site-packages/pylogit/choice_tools.py:703: FutureWarning: arrays to stack must be passed as a \"sequence\" type such as list or tuple. Support for non-sequence iterables such as generators is deprecated as of NumPy 1.16 and will raise an error in the future.\n",
      "/Users/timsb/miniconda3/envs/causal2020/lib/python3.7/site-packages/pylogit/choice_tools.py:703: FutureWarning: arrays to stack must be passed as a \"sequence\" type such as list or tuple. Support for non-sequence iterables such as generators is deprecated as of NumPy 1.16 and will raise an error in the future.\n",
      "/Users/timsb/miniconda3/envs/causal2020/lib/python3.7/site-packages/pylogit/choice_tools.py:703: FutureWarning: arrays to stack must be passed as a \"sequence\" type such as list or tuple. Support for non-sequence iterables such as generators is deprecated as of NumPy 1.16 and will raise an error in the future.\n",
      "\n",
      "Simulating Choices:   0%|          | 0/3673 [00:00<?, ?it/s]\u001b[A"
     ]
    },
    {
     "name": "stdout",
     "output_type": "stream",
     "text": [
      "Converting data from wide to long...\n",
      "Simulating Choices...\n"
     ]
    },
    {
     "name": "stderr",
     "output_type": "stream",
     "text": [
      "\n",
      "Simulating Choices: 100%|██████████| 3673/3673 [00:00<00:00, 31417.08it/s]\u001b[A\n",
      "/Users/timsb/miniconda3/envs/causal2020/lib/python3.7/site-packages/pylogit/choice_tools.py:703: FutureWarning: arrays to stack must be passed as a \"sequence\" type such as list or tuple. Support for non-sequence iterables such as generators is deprecated as of NumPy 1.16 and will raise an error in the future.\n"
     ]
    },
    {
     "name": "stdout",
     "output_type": "stream",
     "text": [
      "Estimating the choice model...\n",
      "Estimating Causal Effects...\n",
      "Simulation number 25 is complete!\n",
      "==========================================\n",
      "==========================================\n",
      "Simulation number 26 of 200 is in progress...\n",
      "Simulation size is 3185\n",
      "------------------------------------------\n",
      "Simulating data...\n",
      "Simulating Availability...\n"
     ]
    },
    {
     "name": "stderr",
     "output_type": "stream",
     "text": [
      "/Users/timsb/miniconda3/envs/causal2020/lib/python3.7/site-packages/pylogit/choice_tools.py:703: FutureWarning: arrays to stack must be passed as a \"sequence\" type such as list or tuple. Support for non-sequence iterables such as generators is deprecated as of NumPy 1.16 and will raise an error in the future.\n",
      "/Users/timsb/miniconda3/envs/causal2020/lib/python3.7/site-packages/pylogit/choice_tools.py:703: FutureWarning: arrays to stack must be passed as a \"sequence\" type such as list or tuple. Support for non-sequence iterables such as generators is deprecated as of NumPy 1.16 and will raise an error in the future.\n",
      "Exception ignored in: <function tqdm.__del__ at 0x7fe05909bcb0>\n",
      "Traceback (most recent call last):\n",
      "  File \"/Users/timsb/miniconda3/envs/causal2020/lib/python3.7/site-packages/tqdm/std.py\", line 1124, in __del__\n",
      "    self.close()\n",
      "  File \"/Users/timsb/miniconda3/envs/causal2020/lib/python3.7/site-packages/tqdm/notebook.py\", line 271, in close\n",
      "    self.sp(bar_style='danger')\n",
      "AttributeError: 'tqdm_notebook' object has no attribute 'sp'\n",
      "/Users/timsb/miniconda3/envs/causal2020/lib/python3.7/site-packages/pylogit/choice_tools.py:703: FutureWarning: arrays to stack must be passed as a \"sequence\" type such as list or tuple. Support for non-sequence iterables such as generators is deprecated as of NumPy 1.16 and will raise an error in the future.\n",
      "/Users/timsb/miniconda3/envs/causal2020/lib/python3.7/site-packages/pylogit/choice_tools.py:703: FutureWarning: arrays to stack must be passed as a \"sequence\" type such as list or tuple. Support for non-sequence iterables such as generators is deprecated as of NumPy 1.16 and will raise an error in the future.\n",
      "/Users/timsb/miniconda3/envs/causal2020/lib/python3.7/site-packages/pylogit/choice_tools.py:703: FutureWarning: arrays to stack must be passed as a \"sequence\" type such as list or tuple. Support for non-sequence iterables such as generators is deprecated as of NumPy 1.16 and will raise an error in the future.\n",
      "\n",
      "Simulating Choices:   0%|          | 0/3185 [00:00<?, ?it/s]\u001b[A"
     ]
    },
    {
     "name": "stdout",
     "output_type": "stream",
     "text": [
      "Converting data from wide to long...\n",
      "Simulating Choices...\n"
     ]
    },
    {
     "name": "stderr",
     "output_type": "stream",
     "text": [
      "Simulating Choices: 100%|██████████| 3185/3185 [00:00<00:00, 36190.61it/s]\n",
      "/Users/timsb/miniconda3/envs/causal2020/lib/python3.7/site-packages/pylogit/choice_tools.py:703: FutureWarning: arrays to stack must be passed as a \"sequence\" type such as list or tuple. Support for non-sequence iterables such as generators is deprecated as of NumPy 1.16 and will raise an error in the future.\n"
     ]
    },
    {
     "name": "stdout",
     "output_type": "stream",
     "text": [
      "Estimating the choice model...\n",
      "Estimating Causal Effects...\n",
      "Simulation number 26 is complete!\n",
      "==========================================\n",
      "==========================================\n",
      "Simulation number 27 of 200 is in progress...\n",
      "Simulation size is 3340\n",
      "------------------------------------------\n",
      "Simulating data...\n",
      "Simulating Availability...\n"
     ]
    },
    {
     "name": "stderr",
     "output_type": "stream",
     "text": [
      "/Users/timsb/miniconda3/envs/causal2020/lib/python3.7/site-packages/pylogit/choice_tools.py:703: FutureWarning: arrays to stack must be passed as a \"sequence\" type such as list or tuple. Support for non-sequence iterables such as generators is deprecated as of NumPy 1.16 and will raise an error in the future.\n",
      "/Users/timsb/miniconda3/envs/causal2020/lib/python3.7/site-packages/pylogit/choice_tools.py:703: FutureWarning: arrays to stack must be passed as a \"sequence\" type such as list or tuple. Support for non-sequence iterables such as generators is deprecated as of NumPy 1.16 and will raise an error in the future.\n",
      "Exception ignored in: <function tqdm.__del__ at 0x7fe05909bcb0>\n",
      "Traceback (most recent call last):\n",
      "  File \"/Users/timsb/miniconda3/envs/causal2020/lib/python3.7/site-packages/tqdm/std.py\", line 1124, in __del__\n",
      "    self.close()\n",
      "  File \"/Users/timsb/miniconda3/envs/causal2020/lib/python3.7/site-packages/tqdm/notebook.py\", line 271, in close\n",
      "    self.sp(bar_style='danger')\n",
      "AttributeError: 'tqdm_notebook' object has no attribute 'sp'\n",
      "/Users/timsb/miniconda3/envs/causal2020/lib/python3.7/site-packages/pylogit/choice_tools.py:703: FutureWarning: arrays to stack must be passed as a \"sequence\" type such as list or tuple. Support for non-sequence iterables such as generators is deprecated as of NumPy 1.16 and will raise an error in the future.\n",
      "/Users/timsb/miniconda3/envs/causal2020/lib/python3.7/site-packages/pylogit/choice_tools.py:703: FutureWarning: arrays to stack must be passed as a \"sequence\" type such as list or tuple. Support for non-sequence iterables such as generators is deprecated as of NumPy 1.16 and will raise an error in the future.\n",
      "/Users/timsb/miniconda3/envs/causal2020/lib/python3.7/site-packages/pylogit/choice_tools.py:703: FutureWarning: arrays to stack must be passed as a \"sequence\" type such as list or tuple. Support for non-sequence iterables such as generators is deprecated as of NumPy 1.16 and will raise an error in the future.\n",
      "\n",
      "Simulating Choices:   0%|          | 0/3340 [00:00<?, ?it/s]\u001b[A"
     ]
    },
    {
     "name": "stdout",
     "output_type": "stream",
     "text": [
      "Converting data from wide to long...\n",
      "Simulating Choices...\n"
     ]
    },
    {
     "name": "stderr",
     "output_type": "stream",
     "text": [
      "Simulating Choices: 100%|██████████| 3340/3340 [00:00<00:00, 36436.26it/s]\n",
      "/Users/timsb/miniconda3/envs/causal2020/lib/python3.7/site-packages/pylogit/choice_tools.py:703: FutureWarning: arrays to stack must be passed as a \"sequence\" type such as list or tuple. Support for non-sequence iterables such as generators is deprecated as of NumPy 1.16 and will raise an error in the future.\n"
     ]
    },
    {
     "name": "stdout",
     "output_type": "stream",
     "text": [
      "Estimating the choice model...\n",
      "Estimating Causal Effects...\n",
      "Simulation number 27 is complete!\n",
      "==========================================\n",
      "==========================================\n",
      "Simulation number 28 of 200 is in progress...\n",
      "Simulation size is 3077\n",
      "------------------------------------------\n",
      "Simulating data...\n",
      "Simulating Availability...\n"
     ]
    },
    {
     "name": "stderr",
     "output_type": "stream",
     "text": [
      "/Users/timsb/miniconda3/envs/causal2020/lib/python3.7/site-packages/pylogit/choice_tools.py:703: FutureWarning: arrays to stack must be passed as a \"sequence\" type such as list or tuple. Support for non-sequence iterables such as generators is deprecated as of NumPy 1.16 and will raise an error in the future.\n",
      "/Users/timsb/miniconda3/envs/causal2020/lib/python3.7/site-packages/pylogit/choice_tools.py:703: FutureWarning: arrays to stack must be passed as a \"sequence\" type such as list or tuple. Support for non-sequence iterables such as generators is deprecated as of NumPy 1.16 and will raise an error in the future.\n",
      "Exception ignored in: <function tqdm.__del__ at 0x7fe05909bcb0>\n",
      "Traceback (most recent call last):\n",
      "  File \"/Users/timsb/miniconda3/envs/causal2020/lib/python3.7/site-packages/tqdm/std.py\", line 1124, in __del__\n",
      "    self.close()\n",
      "  File \"/Users/timsb/miniconda3/envs/causal2020/lib/python3.7/site-packages/tqdm/notebook.py\", line 271, in close\n",
      "    self.sp(bar_style='danger')\n",
      "AttributeError: 'tqdm_notebook' object has no attribute 'sp'\n",
      "/Users/timsb/miniconda3/envs/causal2020/lib/python3.7/site-packages/pylogit/choice_tools.py:703: FutureWarning: arrays to stack must be passed as a \"sequence\" type such as list or tuple. Support for non-sequence iterables such as generators is deprecated as of NumPy 1.16 and will raise an error in the future.\n",
      "/Users/timsb/miniconda3/envs/causal2020/lib/python3.7/site-packages/pylogit/choice_tools.py:703: FutureWarning: arrays to stack must be passed as a \"sequence\" type such as list or tuple. Support for non-sequence iterables such as generators is deprecated as of NumPy 1.16 and will raise an error in the future.\n",
      "/Users/timsb/miniconda3/envs/causal2020/lib/python3.7/site-packages/pylogit/choice_tools.py:703: FutureWarning: arrays to stack must be passed as a \"sequence\" type such as list or tuple. Support for non-sequence iterables such as generators is deprecated as of NumPy 1.16 and will raise an error in the future.\n",
      "\n",
      "Simulating Choices:   0%|          | 0/3077 [00:00<?, ?it/s]\u001b[A"
     ]
    },
    {
     "name": "stdout",
     "output_type": "stream",
     "text": [
      "Converting data from wide to long...\n",
      "Simulating Choices...\n"
     ]
    },
    {
     "name": "stderr",
     "output_type": "stream",
     "text": [
      "Simulating Choices: 100%|██████████| 3077/3077 [00:00<00:00, 34948.84it/s]\n",
      "/Users/timsb/miniconda3/envs/causal2020/lib/python3.7/site-packages/pylogit/choice_tools.py:703: FutureWarning: arrays to stack must be passed as a \"sequence\" type such as list or tuple. Support for non-sequence iterables such as generators is deprecated as of NumPy 1.16 and will raise an error in the future.\n",
      "/Users/timsb/miniconda3/envs/causal2020/lib/python3.7/site-packages/pylogit/choice_tools.py:703: FutureWarning: arrays to stack must be passed as a \"sequence\" type such as list or tuple. Support for non-sequence iterables such as generators is deprecated as of NumPy 1.16 and will raise an error in the future.\n"
     ]
    },
    {
     "name": "stdout",
     "output_type": "stream",
     "text": [
      "Estimating the choice model...\n",
      "Estimating Causal Effects...\n"
     ]
    },
    {
     "name": "stderr",
     "output_type": "stream",
     "text": [
      "/Users/timsb/miniconda3/envs/causal2020/lib/python3.7/site-packages/pylogit/choice_tools.py:703: FutureWarning: arrays to stack must be passed as a \"sequence\" type such as list or tuple. Support for non-sequence iterables such as generators is deprecated as of NumPy 1.16 and will raise an error in the future.\n",
      "Exception ignored in: <function tqdm.__del__ at 0x7fe05909bcb0>\n",
      "Traceback (most recent call last):\n",
      "  File \"/Users/timsb/miniconda3/envs/causal2020/lib/python3.7/site-packages/tqdm/std.py\", line 1124, in __del__\n",
      "    self.close()\n",
      "  File \"/Users/timsb/miniconda3/envs/causal2020/lib/python3.7/site-packages/tqdm/notebook.py\", line 271, in close\n",
      "    self.sp(bar_style='danger')\n",
      "AttributeError: 'tqdm_notebook' object has no attribute 'sp'\n",
      "/Users/timsb/miniconda3/envs/causal2020/lib/python3.7/site-packages/pylogit/choice_tools.py:703: FutureWarning: arrays to stack must be passed as a \"sequence\" type such as list or tuple. Support for non-sequence iterables such as generators is deprecated as of NumPy 1.16 and will raise an error in the future.\n",
      "/Users/timsb/miniconda3/envs/causal2020/lib/python3.7/site-packages/pylogit/choice_tools.py:703: FutureWarning: arrays to stack must be passed as a \"sequence\" type such as list or tuple. Support for non-sequence iterables such as generators is deprecated as of NumPy 1.16 and will raise an error in the future.\n"
     ]
    },
    {
     "name": "stdout",
     "output_type": "stream",
     "text": [
      "Simulation number 28 is complete!\n",
      "==========================================\n",
      "==========================================\n",
      "Simulation number 29 of 200 is in progress...\n",
      "Simulation size is 3154\n",
      "------------------------------------------\n",
      "Simulating data...\n",
      "Simulating Availability...\n"
     ]
    },
    {
     "name": "stderr",
     "output_type": "stream",
     "text": [
      "/Users/timsb/miniconda3/envs/causal2020/lib/python3.7/site-packages/pylogit/choice_tools.py:703: FutureWarning: arrays to stack must be passed as a \"sequence\" type such as list or tuple. Support for non-sequence iterables such as generators is deprecated as of NumPy 1.16 and will raise an error in the future.\n",
      "\n",
      "Simulating Choices:   0%|          | 0/3154 [00:00<?, ?it/s]\u001b[A"
     ]
    },
    {
     "name": "stdout",
     "output_type": "stream",
     "text": [
      "Converting data from wide to long...\n",
      "Simulating Choices...\n"
     ]
    },
    {
     "name": "stderr",
     "output_type": "stream",
     "text": [
      "Simulating Choices: 100%|██████████| 3154/3154 [00:00<00:00, 34886.72it/s]\n",
      "/Users/timsb/miniconda3/envs/causal2020/lib/python3.7/site-packages/pylogit/choice_tools.py:703: FutureWarning: arrays to stack must be passed as a \"sequence\" type such as list or tuple. Support for non-sequence iterables such as generators is deprecated as of NumPy 1.16 and will raise an error in the future.\n"
     ]
    },
    {
     "name": "stdout",
     "output_type": "stream",
     "text": [
      "Estimating the choice model...\n",
      "Estimating Causal Effects...\n",
      "Simulation number 29 is complete!\n",
      "==========================================\n",
      "==========================================\n",
      "Simulation number 30 of 200 is in progress...\n",
      "Simulation size is 3164\n",
      "------------------------------------------\n",
      "Simulating data...\n",
      "Simulating Availability...\n"
     ]
    },
    {
     "name": "stderr",
     "output_type": "stream",
     "text": [
      "/Users/timsb/miniconda3/envs/causal2020/lib/python3.7/site-packages/pylogit/choice_tools.py:703: FutureWarning: arrays to stack must be passed as a \"sequence\" type such as list or tuple. Support for non-sequence iterables such as generators is deprecated as of NumPy 1.16 and will raise an error in the future.\n",
      "/Users/timsb/miniconda3/envs/causal2020/lib/python3.7/site-packages/pylogit/choice_tools.py:703: FutureWarning: arrays to stack must be passed as a \"sequence\" type such as list or tuple. Support for non-sequence iterables such as generators is deprecated as of NumPy 1.16 and will raise an error in the future.\n",
      "Exception ignored in: <function tqdm.__del__ at 0x7fe05909bcb0>\n",
      "Traceback (most recent call last):\n",
      "  File \"/Users/timsb/miniconda3/envs/causal2020/lib/python3.7/site-packages/tqdm/std.py\", line 1124, in __del__\n",
      "    self.close()\n",
      "  File \"/Users/timsb/miniconda3/envs/causal2020/lib/python3.7/site-packages/tqdm/notebook.py\", line 271, in close\n",
      "    self.sp(bar_style='danger')\n",
      "AttributeError: 'tqdm_notebook' object has no attribute 'sp'\n",
      "/Users/timsb/miniconda3/envs/causal2020/lib/python3.7/site-packages/pylogit/choice_tools.py:703: FutureWarning: arrays to stack must be passed as a \"sequence\" type such as list or tuple. Support for non-sequence iterables such as generators is deprecated as of NumPy 1.16 and will raise an error in the future.\n",
      "/Users/timsb/miniconda3/envs/causal2020/lib/python3.7/site-packages/pylogit/choice_tools.py:703: FutureWarning: arrays to stack must be passed as a \"sequence\" type such as list or tuple. Support for non-sequence iterables such as generators is deprecated as of NumPy 1.16 and will raise an error in the future.\n",
      "/Users/timsb/miniconda3/envs/causal2020/lib/python3.7/site-packages/pylogit/choice_tools.py:703: FutureWarning: arrays to stack must be passed as a \"sequence\" type such as list or tuple. Support for non-sequence iterables such as generators is deprecated as of NumPy 1.16 and will raise an error in the future.\n",
      "\n",
      "Simulating Choices:   0%|          | 0/3164 [00:00<?, ?it/s]\u001b[A"
     ]
    },
    {
     "name": "stdout",
     "output_type": "stream",
     "text": [
      "Converting data from wide to long...\n",
      "Simulating Choices...\n"
     ]
    },
    {
     "name": "stderr",
     "output_type": "stream",
     "text": [
      "Simulating Choices: 100%|██████████| 3164/3164 [00:00<00:00, 35681.71it/s]\n",
      "/Users/timsb/miniconda3/envs/causal2020/lib/python3.7/site-packages/pylogit/choice_tools.py:703: FutureWarning: arrays to stack must be passed as a \"sequence\" type such as list or tuple. Support for non-sequence iterables such as generators is deprecated as of NumPy 1.16 and will raise an error in the future.\n"
     ]
    },
    {
     "name": "stdout",
     "output_type": "stream",
     "text": [
      "Estimating the choice model...\n",
      "Estimating Causal Effects...\n",
      "Simulation number 30 is complete!\n",
      "==========================================\n",
      "==========================================\n",
      "Simulation number 31 of 200 is in progress...\n",
      "Simulation size is 3319\n",
      "------------------------------------------\n",
      "Simulating data...\n",
      "Simulating Availability...\n"
     ]
    },
    {
     "name": "stderr",
     "output_type": "stream",
     "text": [
      "/Users/timsb/miniconda3/envs/causal2020/lib/python3.7/site-packages/pylogit/choice_tools.py:703: FutureWarning: arrays to stack must be passed as a \"sequence\" type such as list or tuple. Support for non-sequence iterables such as generators is deprecated as of NumPy 1.16 and will raise an error in the future.\n",
      "/Users/timsb/miniconda3/envs/causal2020/lib/python3.7/site-packages/pylogit/choice_tools.py:703: FutureWarning: arrays to stack must be passed as a \"sequence\" type such as list or tuple. Support for non-sequence iterables such as generators is deprecated as of NumPy 1.16 and will raise an error in the future.\n",
      "Exception ignored in: <function tqdm.__del__ at 0x7fe05909bcb0>\n",
      "Traceback (most recent call last):\n",
      "  File \"/Users/timsb/miniconda3/envs/causal2020/lib/python3.7/site-packages/tqdm/std.py\", line 1124, in __del__\n",
      "    self.close()\n",
      "  File \"/Users/timsb/miniconda3/envs/causal2020/lib/python3.7/site-packages/tqdm/notebook.py\", line 271, in close\n",
      "    self.sp(bar_style='danger')\n",
      "AttributeError: 'tqdm_notebook' object has no attribute 'sp'\n",
      "/Users/timsb/miniconda3/envs/causal2020/lib/python3.7/site-packages/pylogit/choice_tools.py:703: FutureWarning: arrays to stack must be passed as a \"sequence\" type such as list or tuple. Support for non-sequence iterables such as generators is deprecated as of NumPy 1.16 and will raise an error in the future.\n",
      "/Users/timsb/miniconda3/envs/causal2020/lib/python3.7/site-packages/pylogit/choice_tools.py:703: FutureWarning: arrays to stack must be passed as a \"sequence\" type such as list or tuple. Support for non-sequence iterables such as generators is deprecated as of NumPy 1.16 and will raise an error in the future.\n",
      "/Users/timsb/miniconda3/envs/causal2020/lib/python3.7/site-packages/pylogit/choice_tools.py:703: FutureWarning: arrays to stack must be passed as a \"sequence\" type such as list or tuple. Support for non-sequence iterables such as generators is deprecated as of NumPy 1.16 and will raise an error in the future.\n",
      "\n",
      "Simulating Choices:   0%|          | 0/3319 [00:00<?, ?it/s]\u001b[A"
     ]
    },
    {
     "name": "stdout",
     "output_type": "stream",
     "text": [
      "Converting data from wide to long...\n",
      "Simulating Choices...\n"
     ]
    },
    {
     "name": "stderr",
     "output_type": "stream",
     "text": [
      "Simulating Choices: 100%|██████████| 3319/3319 [00:00<00:00, 36852.43it/s]\n",
      "/Users/timsb/miniconda3/envs/causal2020/lib/python3.7/site-packages/pylogit/choice_tools.py:703: FutureWarning: arrays to stack must be passed as a \"sequence\" type such as list or tuple. Support for non-sequence iterables such as generators is deprecated as of NumPy 1.16 and will raise an error in the future.\n"
     ]
    },
    {
     "name": "stdout",
     "output_type": "stream",
     "text": [
      "Estimating the choice model...\n",
      "Estimating Causal Effects...\n",
      "Simulation number 31 is complete!\n",
      "==========================================\n",
      "==========================================\n",
      "Simulation number 32 of 200 is in progress...\n",
      "Simulation size is 3262\n",
      "------------------------------------------\n",
      "Simulating data...\n",
      "Simulating Availability...\n"
     ]
    },
    {
     "name": "stderr",
     "output_type": "stream",
     "text": [
      "/Users/timsb/miniconda3/envs/causal2020/lib/python3.7/site-packages/pylogit/choice_tools.py:703: FutureWarning: arrays to stack must be passed as a \"sequence\" type such as list or tuple. Support for non-sequence iterables such as generators is deprecated as of NumPy 1.16 and will raise an error in the future.\n",
      "/Users/timsb/miniconda3/envs/causal2020/lib/python3.7/site-packages/pylogit/choice_tools.py:703: FutureWarning: arrays to stack must be passed as a \"sequence\" type such as list or tuple. Support for non-sequence iterables such as generators is deprecated as of NumPy 1.16 and will raise an error in the future.\n",
      "Exception ignored in: <function tqdm.__del__ at 0x7fe05909bcb0>\n",
      "Traceback (most recent call last):\n",
      "  File \"/Users/timsb/miniconda3/envs/causal2020/lib/python3.7/site-packages/tqdm/std.py\", line 1124, in __del__\n",
      "    self.close()\n",
      "  File \"/Users/timsb/miniconda3/envs/causal2020/lib/python3.7/site-packages/tqdm/notebook.py\", line 271, in close\n",
      "    self.sp(bar_style='danger')\n",
      "AttributeError: 'tqdm_notebook' object has no attribute 'sp'\n",
      "/Users/timsb/miniconda3/envs/causal2020/lib/python3.7/site-packages/pylogit/choice_tools.py:703: FutureWarning: arrays to stack must be passed as a \"sequence\" type such as list or tuple. Support for non-sequence iterables such as generators is deprecated as of NumPy 1.16 and will raise an error in the future.\n",
      "/Users/timsb/miniconda3/envs/causal2020/lib/python3.7/site-packages/pylogit/choice_tools.py:703: FutureWarning: arrays to stack must be passed as a \"sequence\" type such as list or tuple. Support for non-sequence iterables such as generators is deprecated as of NumPy 1.16 and will raise an error in the future.\n",
      "/Users/timsb/miniconda3/envs/causal2020/lib/python3.7/site-packages/pylogit/choice_tools.py:703: FutureWarning: arrays to stack must be passed as a \"sequence\" type such as list or tuple. Support for non-sequence iterables such as generators is deprecated as of NumPy 1.16 and will raise an error in the future.\n",
      "\n",
      "Simulating Choices:   0%|          | 0/3262 [00:00<?, ?it/s]\u001b[A"
     ]
    },
    {
     "name": "stdout",
     "output_type": "stream",
     "text": [
      "Converting data from wide to long...\n",
      "Simulating Choices...\n"
     ]
    },
    {
     "name": "stderr",
     "output_type": "stream",
     "text": [
      "Simulating Choices: 100%|██████████| 3262/3262 [00:00<00:00, 33183.09it/s]\n",
      "/Users/timsb/miniconda3/envs/causal2020/lib/python3.7/site-packages/pylogit/choice_tools.py:703: FutureWarning: arrays to stack must be passed as a \"sequence\" type such as list or tuple. Support for non-sequence iterables such as generators is deprecated as of NumPy 1.16 and will raise an error in the future.\n"
     ]
    },
    {
     "name": "stdout",
     "output_type": "stream",
     "text": [
      "Estimating the choice model...\n",
      "Estimating Causal Effects...\n",
      "Simulation number 32 is complete!\n",
      "==========================================\n",
      "==========================================\n",
      "Simulation number 33 of 200 is in progress...\n",
      "Simulation size is 3501\n",
      "------------------------------------------\n",
      "Simulating data...\n",
      "Simulating Availability...\n"
     ]
    },
    {
     "name": "stderr",
     "output_type": "stream",
     "text": [
      "/Users/timsb/miniconda3/envs/causal2020/lib/python3.7/site-packages/pylogit/choice_tools.py:703: FutureWarning: arrays to stack must be passed as a \"sequence\" type such as list or tuple. Support for non-sequence iterables such as generators is deprecated as of NumPy 1.16 and will raise an error in the future.\n",
      "/Users/timsb/miniconda3/envs/causal2020/lib/python3.7/site-packages/pylogit/choice_tools.py:703: FutureWarning: arrays to stack must be passed as a \"sequence\" type such as list or tuple. Support for non-sequence iterables such as generators is deprecated as of NumPy 1.16 and will raise an error in the future.\n",
      "Exception ignored in: <function tqdm.__del__ at 0x7fe05909bcb0>\n",
      "Traceback (most recent call last):\n",
      "  File \"/Users/timsb/miniconda3/envs/causal2020/lib/python3.7/site-packages/tqdm/std.py\", line 1124, in __del__\n",
      "    self.close()\n",
      "  File \"/Users/timsb/miniconda3/envs/causal2020/lib/python3.7/site-packages/tqdm/notebook.py\", line 271, in close\n",
      "    self.sp(bar_style='danger')\n",
      "AttributeError: 'tqdm_notebook' object has no attribute 'sp'\n",
      "/Users/timsb/miniconda3/envs/causal2020/lib/python3.7/site-packages/pylogit/choice_tools.py:703: FutureWarning: arrays to stack must be passed as a \"sequence\" type such as list or tuple. Support for non-sequence iterables such as generators is deprecated as of NumPy 1.16 and will raise an error in the future.\n",
      "/Users/timsb/miniconda3/envs/causal2020/lib/python3.7/site-packages/pylogit/choice_tools.py:703: FutureWarning: arrays to stack must be passed as a \"sequence\" type such as list or tuple. Support for non-sequence iterables such as generators is deprecated as of NumPy 1.16 and will raise an error in the future.\n",
      "/Users/timsb/miniconda3/envs/causal2020/lib/python3.7/site-packages/pylogit/choice_tools.py:703: FutureWarning: arrays to stack must be passed as a \"sequence\" type such as list or tuple. Support for non-sequence iterables such as generators is deprecated as of NumPy 1.16 and will raise an error in the future.\n",
      "\n",
      "Simulating Choices:   0%|          | 0/3501 [00:00<?, ?it/s]\u001b[A"
     ]
    },
    {
     "name": "stdout",
     "output_type": "stream",
     "text": [
      "Converting data from wide to long...\n",
      "Simulating Choices...\n"
     ]
    },
    {
     "name": "stderr",
     "output_type": "stream",
     "text": [
      "Simulating Choices: 100%|██████████| 3501/3501 [00:00<00:00, 38904.67it/s]\n",
      "/Users/timsb/miniconda3/envs/causal2020/lib/python3.7/site-packages/pylogit/choice_tools.py:703: FutureWarning: arrays to stack must be passed as a \"sequence\" type such as list or tuple. Support for non-sequence iterables such as generators is deprecated as of NumPy 1.16 and will raise an error in the future.\n"
     ]
    },
    {
     "name": "stdout",
     "output_type": "stream",
     "text": [
      "Estimating the choice model...\n",
      "Estimating Causal Effects...\n",
      "Simulation number 33 is complete!\n",
      "==========================================\n",
      "==========================================\n",
      "Simulation number 34 of 200 is in progress...\n",
      "Simulation size is 3643\n",
      "------------------------------------------\n",
      "Simulating data...\n",
      "Simulating Availability...\n"
     ]
    },
    {
     "name": "stderr",
     "output_type": "stream",
     "text": [
      "/Users/timsb/miniconda3/envs/causal2020/lib/python3.7/site-packages/pylogit/choice_tools.py:703: FutureWarning: arrays to stack must be passed as a \"sequence\" type such as list or tuple. Support for non-sequence iterables such as generators is deprecated as of NumPy 1.16 and will raise an error in the future.\n",
      "/Users/timsb/miniconda3/envs/causal2020/lib/python3.7/site-packages/pylogit/choice_tools.py:703: FutureWarning: arrays to stack must be passed as a \"sequence\" type such as list or tuple. Support for non-sequence iterables such as generators is deprecated as of NumPy 1.16 and will raise an error in the future.\n",
      "Exception ignored in: <function tqdm.__del__ at 0x7fe05909bcb0>\n",
      "Traceback (most recent call last):\n",
      "  File \"/Users/timsb/miniconda3/envs/causal2020/lib/python3.7/site-packages/tqdm/std.py\", line 1124, in __del__\n",
      "    self.close()\n",
      "  File \"/Users/timsb/miniconda3/envs/causal2020/lib/python3.7/site-packages/tqdm/notebook.py\", line 271, in close\n",
      "    self.sp(bar_style='danger')\n",
      "AttributeError: 'tqdm_notebook' object has no attribute 'sp'\n",
      "/Users/timsb/miniconda3/envs/causal2020/lib/python3.7/site-packages/pylogit/choice_tools.py:703: FutureWarning: arrays to stack must be passed as a \"sequence\" type such as list or tuple. Support for non-sequence iterables such as generators is deprecated as of NumPy 1.16 and will raise an error in the future.\n",
      "/Users/timsb/miniconda3/envs/causal2020/lib/python3.7/site-packages/pylogit/choice_tools.py:703: FutureWarning: arrays to stack must be passed as a \"sequence\" type such as list or tuple. Support for non-sequence iterables such as generators is deprecated as of NumPy 1.16 and will raise an error in the future.\n",
      "/Users/timsb/miniconda3/envs/causal2020/lib/python3.7/site-packages/pylogit/choice_tools.py:703: FutureWarning: arrays to stack must be passed as a \"sequence\" type such as list or tuple. Support for non-sequence iterables such as generators is deprecated as of NumPy 1.16 and will raise an error in the future.\n",
      "\n",
      "Simulating Choices:   0%|          | 0/3643 [00:00<?, ?it/s]\u001b[A"
     ]
    },
    {
     "name": "stdout",
     "output_type": "stream",
     "text": [
      "Converting data from wide to long...\n",
      "Simulating Choices...\n"
     ]
    },
    {
     "name": "stderr",
     "output_type": "stream",
     "text": [
      "Simulating Choices: 100%|██████████| 3643/3643 [00:00<00:00, 39058.22it/s]\n",
      "/Users/timsb/miniconda3/envs/causal2020/lib/python3.7/site-packages/pylogit/choice_tools.py:703: FutureWarning: arrays to stack must be passed as a \"sequence\" type such as list or tuple. Support for non-sequence iterables such as generators is deprecated as of NumPy 1.16 and will raise an error in the future.\n"
     ]
    },
    {
     "name": "stdout",
     "output_type": "stream",
     "text": [
      "Estimating the choice model...\n",
      "Estimating Causal Effects...\n",
      "Simulation number 34 is complete!\n",
      "==========================================\n",
      "==========================================\n",
      "Simulation number 35 of 200 is in progress...\n",
      "Simulation size is 3663\n",
      "------------------------------------------\n",
      "Simulating data...\n",
      "Simulating Availability...\n"
     ]
    },
    {
     "name": "stderr",
     "output_type": "stream",
     "text": [
      "/Users/timsb/miniconda3/envs/causal2020/lib/python3.7/site-packages/pylogit/choice_tools.py:703: FutureWarning: arrays to stack must be passed as a \"sequence\" type such as list or tuple. Support for non-sequence iterables such as generators is deprecated as of NumPy 1.16 and will raise an error in the future.\n",
      "/Users/timsb/miniconda3/envs/causal2020/lib/python3.7/site-packages/pylogit/choice_tools.py:703: FutureWarning: arrays to stack must be passed as a \"sequence\" type such as list or tuple. Support for non-sequence iterables such as generators is deprecated as of NumPy 1.16 and will raise an error in the future.\n",
      "Exception ignored in: <function tqdm.__del__ at 0x7fe05909bcb0>\n",
      "Traceback (most recent call last):\n",
      "  File \"/Users/timsb/miniconda3/envs/causal2020/lib/python3.7/site-packages/tqdm/std.py\", line 1124, in __del__\n",
      "    self.close()\n",
      "  File \"/Users/timsb/miniconda3/envs/causal2020/lib/python3.7/site-packages/tqdm/notebook.py\", line 271, in close\n",
      "    self.sp(bar_style='danger')\n",
      "AttributeError: 'tqdm_notebook' object has no attribute 'sp'\n",
      "/Users/timsb/miniconda3/envs/causal2020/lib/python3.7/site-packages/pylogit/choice_tools.py:703: FutureWarning: arrays to stack must be passed as a \"sequence\" type such as list or tuple. Support for non-sequence iterables such as generators is deprecated as of NumPy 1.16 and will raise an error in the future.\n",
      "/Users/timsb/miniconda3/envs/causal2020/lib/python3.7/site-packages/pylogit/choice_tools.py:703: FutureWarning: arrays to stack must be passed as a \"sequence\" type such as list or tuple. Support for non-sequence iterables such as generators is deprecated as of NumPy 1.16 and will raise an error in the future.\n",
      "/Users/timsb/miniconda3/envs/causal2020/lib/python3.7/site-packages/pylogit/choice_tools.py:703: FutureWarning: arrays to stack must be passed as a \"sequence\" type such as list or tuple. Support for non-sequence iterables such as generators is deprecated as of NumPy 1.16 and will raise an error in the future.\n",
      "\n",
      "Simulating Choices:   0%|          | 0/3663 [00:00<?, ?it/s]\u001b[A"
     ]
    },
    {
     "name": "stdout",
     "output_type": "stream",
     "text": [
      "Converting data from wide to long...\n",
      "Simulating Choices...\n"
     ]
    },
    {
     "name": "stderr",
     "output_type": "stream",
     "text": [
      "Simulating Choices: 100%|██████████| 3663/3663 [00:00<00:00, 38357.56it/s]\n",
      "/Users/timsb/miniconda3/envs/causal2020/lib/python3.7/site-packages/pylogit/choice_tools.py:703: FutureWarning: arrays to stack must be passed as a \"sequence\" type such as list or tuple. Support for non-sequence iterables such as generators is deprecated as of NumPy 1.16 and will raise an error in the future.\n"
     ]
    },
    {
     "name": "stdout",
     "output_type": "stream",
     "text": [
      "Estimating the choice model...\n",
      "Estimating Causal Effects...\n",
      "Simulation number 35 is complete!\n",
      "==========================================\n",
      "==========================================\n",
      "Simulation number 36 of 200 is in progress...\n",
      "Simulation size is 3665\n",
      "------------------------------------------\n",
      "Simulating data...\n",
      "Simulating Availability...\n"
     ]
    },
    {
     "name": "stderr",
     "output_type": "stream",
     "text": [
      "/Users/timsb/miniconda3/envs/causal2020/lib/python3.7/site-packages/pylogit/choice_tools.py:703: FutureWarning: arrays to stack must be passed as a \"sequence\" type such as list or tuple. Support for non-sequence iterables such as generators is deprecated as of NumPy 1.16 and will raise an error in the future.\n",
      "/Users/timsb/miniconda3/envs/causal2020/lib/python3.7/site-packages/pylogit/choice_tools.py:703: FutureWarning: arrays to stack must be passed as a \"sequence\" type such as list or tuple. Support for non-sequence iterables such as generators is deprecated as of NumPy 1.16 and will raise an error in the future.\n",
      "Exception ignored in: <function tqdm.__del__ at 0x7fe05909bcb0>\n",
      "Traceback (most recent call last):\n",
      "  File \"/Users/timsb/miniconda3/envs/causal2020/lib/python3.7/site-packages/tqdm/std.py\", line 1124, in __del__\n",
      "    self.close()\n",
      "  File \"/Users/timsb/miniconda3/envs/causal2020/lib/python3.7/site-packages/tqdm/notebook.py\", line 271, in close\n",
      "    self.sp(bar_style='danger')\n",
      "AttributeError: 'tqdm_notebook' object has no attribute 'sp'\n",
      "/Users/timsb/miniconda3/envs/causal2020/lib/python3.7/site-packages/pylogit/choice_tools.py:703: FutureWarning: arrays to stack must be passed as a \"sequence\" type such as list or tuple. Support for non-sequence iterables such as generators is deprecated as of NumPy 1.16 and will raise an error in the future.\n",
      "/Users/timsb/miniconda3/envs/causal2020/lib/python3.7/site-packages/pylogit/choice_tools.py:703: FutureWarning: arrays to stack must be passed as a \"sequence\" type such as list or tuple. Support for non-sequence iterables such as generators is deprecated as of NumPy 1.16 and will raise an error in the future.\n",
      "/Users/timsb/miniconda3/envs/causal2020/lib/python3.7/site-packages/pylogit/choice_tools.py:703: FutureWarning: arrays to stack must be passed as a \"sequence\" type such as list or tuple. Support for non-sequence iterables such as generators is deprecated as of NumPy 1.16 and will raise an error in the future.\n",
      "\n",
      "Simulating Choices:   0%|          | 0/3665 [00:00<?, ?it/s]\u001b[A"
     ]
    },
    {
     "name": "stdout",
     "output_type": "stream",
     "text": [
      "Converting data from wide to long...\n",
      "Simulating Choices...\n"
     ]
    },
    {
     "name": "stderr",
     "output_type": "stream",
     "text": [
      "Simulating Choices: 100%|██████████| 3665/3665 [00:00<00:00, 40015.73it/s]\n",
      "/Users/timsb/miniconda3/envs/causal2020/lib/python3.7/site-packages/pylogit/choice_tools.py:703: FutureWarning: arrays to stack must be passed as a \"sequence\" type such as list or tuple. Support for non-sequence iterables such as generators is deprecated as of NumPy 1.16 and will raise an error in the future.\n"
     ]
    },
    {
     "name": "stdout",
     "output_type": "stream",
     "text": [
      "Estimating the choice model...\n",
      "Estimating Causal Effects...\n",
      "Simulation number 36 is complete!\n",
      "==========================================\n",
      "==========================================\n",
      "Simulation number 37 of 200 is in progress...\n",
      "Simulation size is 3578\n",
      "------------------------------------------\n",
      "Simulating data...\n",
      "Simulating Availability...\n"
     ]
    },
    {
     "name": "stderr",
     "output_type": "stream",
     "text": [
      "/Users/timsb/miniconda3/envs/causal2020/lib/python3.7/site-packages/pylogit/choice_tools.py:703: FutureWarning: arrays to stack must be passed as a \"sequence\" type such as list or tuple. Support for non-sequence iterables such as generators is deprecated as of NumPy 1.16 and will raise an error in the future.\n",
      "/Users/timsb/miniconda3/envs/causal2020/lib/python3.7/site-packages/pylogit/choice_tools.py:703: FutureWarning: arrays to stack must be passed as a \"sequence\" type such as list or tuple. Support for non-sequence iterables such as generators is deprecated as of NumPy 1.16 and will raise an error in the future.\n",
      "Exception ignored in: <function tqdm.__del__ at 0x7fe05909bcb0>\n",
      "Traceback (most recent call last):\n",
      "  File \"/Users/timsb/miniconda3/envs/causal2020/lib/python3.7/site-packages/tqdm/std.py\", line 1124, in __del__\n",
      "    self.close()\n",
      "  File \"/Users/timsb/miniconda3/envs/causal2020/lib/python3.7/site-packages/tqdm/notebook.py\", line 271, in close\n",
      "    self.sp(bar_style='danger')\n",
      "AttributeError: 'tqdm_notebook' object has no attribute 'sp'\n",
      "/Users/timsb/miniconda3/envs/causal2020/lib/python3.7/site-packages/pylogit/choice_tools.py:703: FutureWarning: arrays to stack must be passed as a \"sequence\" type such as list or tuple. Support for non-sequence iterables such as generators is deprecated as of NumPy 1.16 and will raise an error in the future.\n",
      "/Users/timsb/miniconda3/envs/causal2020/lib/python3.7/site-packages/pylogit/choice_tools.py:703: FutureWarning: arrays to stack must be passed as a \"sequence\" type such as list or tuple. Support for non-sequence iterables such as generators is deprecated as of NumPy 1.16 and will raise an error in the future.\n",
      "/Users/timsb/miniconda3/envs/causal2020/lib/python3.7/site-packages/pylogit/choice_tools.py:703: FutureWarning: arrays to stack must be passed as a \"sequence\" type such as list or tuple. Support for non-sequence iterables such as generators is deprecated as of NumPy 1.16 and will raise an error in the future.\n",
      "\n",
      "Simulating Choices:   0%|          | 0/3578 [00:00<?, ?it/s]\u001b[A"
     ]
    },
    {
     "name": "stdout",
     "output_type": "stream",
     "text": [
      "Converting data from wide to long...\n",
      "Simulating Choices...\n"
     ]
    },
    {
     "name": "stderr",
     "output_type": "stream",
     "text": [
      "Simulating Choices: 100%|██████████| 3578/3578 [00:00<00:00, 38553.40it/s]\n",
      "/Users/timsb/miniconda3/envs/causal2020/lib/python3.7/site-packages/pylogit/choice_tools.py:703: FutureWarning: arrays to stack must be passed as a \"sequence\" type such as list or tuple. Support for non-sequence iterables such as generators is deprecated as of NumPy 1.16 and will raise an error in the future.\n"
     ]
    },
    {
     "name": "stdout",
     "output_type": "stream",
     "text": [
      "Estimating the choice model...\n",
      "Estimating Causal Effects...\n",
      "Simulation number 37 is complete!\n",
      "==========================================\n",
      "==========================================\n",
      "Simulation number 38 of 200 is in progress...\n",
      "Simulation size is 3447\n",
      "------------------------------------------\n",
      "Simulating data...\n",
      "Simulating Availability...\n"
     ]
    },
    {
     "name": "stderr",
     "output_type": "stream",
     "text": [
      "/Users/timsb/miniconda3/envs/causal2020/lib/python3.7/site-packages/pylogit/choice_tools.py:703: FutureWarning: arrays to stack must be passed as a \"sequence\" type such as list or tuple. Support for non-sequence iterables such as generators is deprecated as of NumPy 1.16 and will raise an error in the future.\n",
      "/Users/timsb/miniconda3/envs/causal2020/lib/python3.7/site-packages/pylogit/choice_tools.py:703: FutureWarning: arrays to stack must be passed as a \"sequence\" type such as list or tuple. Support for non-sequence iterables such as generators is deprecated as of NumPy 1.16 and will raise an error in the future.\n",
      "Exception ignored in: <function tqdm.__del__ at 0x7fe05909bcb0>\n",
      "Traceback (most recent call last):\n",
      "  File \"/Users/timsb/miniconda3/envs/causal2020/lib/python3.7/site-packages/tqdm/std.py\", line 1124, in __del__\n",
      "    self.close()\n",
      "  File \"/Users/timsb/miniconda3/envs/causal2020/lib/python3.7/site-packages/tqdm/notebook.py\", line 271, in close\n",
      "    self.sp(bar_style='danger')\n",
      "AttributeError: 'tqdm_notebook' object has no attribute 'sp'\n",
      "/Users/timsb/miniconda3/envs/causal2020/lib/python3.7/site-packages/pylogit/choice_tools.py:703: FutureWarning: arrays to stack must be passed as a \"sequence\" type such as list or tuple. Support for non-sequence iterables such as generators is deprecated as of NumPy 1.16 and will raise an error in the future.\n",
      "/Users/timsb/miniconda3/envs/causal2020/lib/python3.7/site-packages/pylogit/choice_tools.py:703: FutureWarning: arrays to stack must be passed as a \"sequence\" type such as list or tuple. Support for non-sequence iterables such as generators is deprecated as of NumPy 1.16 and will raise an error in the future.\n",
      "/Users/timsb/miniconda3/envs/causal2020/lib/python3.7/site-packages/pylogit/choice_tools.py:703: FutureWarning: arrays to stack must be passed as a \"sequence\" type such as list or tuple. Support for non-sequence iterables such as generators is deprecated as of NumPy 1.16 and will raise an error in the future.\n",
      "\n",
      "Simulating Choices:   0%|          | 0/3447 [00:00<?, ?it/s]\u001b[A"
     ]
    },
    {
     "name": "stdout",
     "output_type": "stream",
     "text": [
      "Converting data from wide to long...\n",
      "Simulating Choices...\n"
     ]
    },
    {
     "name": "stderr",
     "output_type": "stream",
     "text": [
      "Simulating Choices: 100%|██████████| 3447/3447 [00:00<00:00, 37748.05it/s]\n",
      "/Users/timsb/miniconda3/envs/causal2020/lib/python3.7/site-packages/pylogit/choice_tools.py:703: FutureWarning: arrays to stack must be passed as a \"sequence\" type such as list or tuple. Support for non-sequence iterables such as generators is deprecated as of NumPy 1.16 and will raise an error in the future.\n"
     ]
    },
    {
     "name": "stdout",
     "output_type": "stream",
     "text": [
      "Estimating the choice model...\n",
      "Estimating Causal Effects...\n",
      "Simulation number 38 is complete!\n",
      "==========================================\n",
      "==========================================\n",
      "Simulation number 39 of 200 is in progress...\n",
      "Simulation size is 3515\n",
      "------------------------------------------\n",
      "Simulating data...\n",
      "Simulating Availability...\n"
     ]
    },
    {
     "name": "stderr",
     "output_type": "stream",
     "text": [
      "/Users/timsb/miniconda3/envs/causal2020/lib/python3.7/site-packages/pylogit/choice_tools.py:703: FutureWarning: arrays to stack must be passed as a \"sequence\" type such as list or tuple. Support for non-sequence iterables such as generators is deprecated as of NumPy 1.16 and will raise an error in the future.\n",
      "/Users/timsb/miniconda3/envs/causal2020/lib/python3.7/site-packages/pylogit/choice_tools.py:703: FutureWarning: arrays to stack must be passed as a \"sequence\" type such as list or tuple. Support for non-sequence iterables such as generators is deprecated as of NumPy 1.16 and will raise an error in the future.\n",
      "Exception ignored in: <function tqdm.__del__ at 0x7fe05909bcb0>\n",
      "Traceback (most recent call last):\n",
      "  File \"/Users/timsb/miniconda3/envs/causal2020/lib/python3.7/site-packages/tqdm/std.py\", line 1124, in __del__\n",
      "    self.close()\n",
      "  File \"/Users/timsb/miniconda3/envs/causal2020/lib/python3.7/site-packages/tqdm/notebook.py\", line 271, in close\n",
      "    self.sp(bar_style='danger')\n",
      "AttributeError: 'tqdm_notebook' object has no attribute 'sp'\n",
      "/Users/timsb/miniconda3/envs/causal2020/lib/python3.7/site-packages/pylogit/choice_tools.py:703: FutureWarning: arrays to stack must be passed as a \"sequence\" type such as list or tuple. Support for non-sequence iterables such as generators is deprecated as of NumPy 1.16 and will raise an error in the future.\n",
      "/Users/timsb/miniconda3/envs/causal2020/lib/python3.7/site-packages/pylogit/choice_tools.py:703: FutureWarning: arrays to stack must be passed as a \"sequence\" type such as list or tuple. Support for non-sequence iterables such as generators is deprecated as of NumPy 1.16 and will raise an error in the future.\n",
      "/Users/timsb/miniconda3/envs/causal2020/lib/python3.7/site-packages/pylogit/choice_tools.py:703: FutureWarning: arrays to stack must be passed as a \"sequence\" type such as list or tuple. Support for non-sequence iterables such as generators is deprecated as of NumPy 1.16 and will raise an error in the future.\n",
      "\n",
      "Simulating Choices:   0%|          | 0/3515 [00:00<?, ?it/s]\u001b[A"
     ]
    },
    {
     "name": "stdout",
     "output_type": "stream",
     "text": [
      "Converting data from wide to long...\n",
      "Simulating Choices...\n"
     ]
    },
    {
     "name": "stderr",
     "output_type": "stream",
     "text": [
      "Simulating Choices: 100%|██████████| 3515/3515 [00:00<00:00, 38711.84it/s]\n",
      "/Users/timsb/miniconda3/envs/causal2020/lib/python3.7/site-packages/pylogit/choice_tools.py:703: FutureWarning: arrays to stack must be passed as a \"sequence\" type such as list or tuple. Support for non-sequence iterables such as generators is deprecated as of NumPy 1.16 and will raise an error in the future.\n"
     ]
    },
    {
     "name": "stdout",
     "output_type": "stream",
     "text": [
      "Estimating the choice model...\n",
      "Estimating Causal Effects...\n",
      "Simulation number 39 is complete!\n",
      "==========================================\n",
      "==========================================\n",
      "Simulation number 40 of 200 is in progress...\n",
      "Simulation size is 3897\n",
      "------------------------------------------\n",
      "Simulating data...\n",
      "Simulating Availability...\n"
     ]
    },
    {
     "name": "stderr",
     "output_type": "stream",
     "text": [
      "/Users/timsb/miniconda3/envs/causal2020/lib/python3.7/site-packages/pylogit/choice_tools.py:703: FutureWarning: arrays to stack must be passed as a \"sequence\" type such as list or tuple. Support for non-sequence iterables such as generators is deprecated as of NumPy 1.16 and will raise an error in the future.\n",
      "/Users/timsb/miniconda3/envs/causal2020/lib/python3.7/site-packages/pylogit/choice_tools.py:703: FutureWarning: arrays to stack must be passed as a \"sequence\" type such as list or tuple. Support for non-sequence iterables such as generators is deprecated as of NumPy 1.16 and will raise an error in the future.\n",
      "Exception ignored in: <function tqdm.__del__ at 0x7fe05909bcb0>\n",
      "Traceback (most recent call last):\n",
      "  File \"/Users/timsb/miniconda3/envs/causal2020/lib/python3.7/site-packages/tqdm/std.py\", line 1124, in __del__\n",
      "    self.close()\n",
      "  File \"/Users/timsb/miniconda3/envs/causal2020/lib/python3.7/site-packages/tqdm/notebook.py\", line 271, in close\n",
      "    self.sp(bar_style='danger')\n",
      "AttributeError: 'tqdm_notebook' object has no attribute 'sp'\n",
      "/Users/timsb/miniconda3/envs/causal2020/lib/python3.7/site-packages/pylogit/choice_tools.py:703: FutureWarning: arrays to stack must be passed as a \"sequence\" type such as list or tuple. Support for non-sequence iterables such as generators is deprecated as of NumPy 1.16 and will raise an error in the future.\n",
      "/Users/timsb/miniconda3/envs/causal2020/lib/python3.7/site-packages/pylogit/choice_tools.py:703: FutureWarning: arrays to stack must be passed as a \"sequence\" type such as list or tuple. Support for non-sequence iterables such as generators is deprecated as of NumPy 1.16 and will raise an error in the future.\n",
      "/Users/timsb/miniconda3/envs/causal2020/lib/python3.7/site-packages/pylogit/choice_tools.py:703: FutureWarning: arrays to stack must be passed as a \"sequence\" type such as list or tuple. Support for non-sequence iterables such as generators is deprecated as of NumPy 1.16 and will raise an error in the future.\n",
      "\n",
      "Simulating Choices:   0%|          | 0/3897 [00:00<?, ?it/s]\u001b[A"
     ]
    },
    {
     "name": "stdout",
     "output_type": "stream",
     "text": [
      "Converting data from wide to long...\n",
      "Simulating Choices...\n"
     ]
    },
    {
     "name": "stderr",
     "output_type": "stream",
     "text": [
      "Simulating Choices: 100%|██████████| 3897/3897 [00:00<00:00, 40863.93it/s]\n",
      "/Users/timsb/miniconda3/envs/causal2020/lib/python3.7/site-packages/pylogit/choice_tools.py:703: FutureWarning: arrays to stack must be passed as a \"sequence\" type such as list or tuple. Support for non-sequence iterables such as generators is deprecated as of NumPy 1.16 and will raise an error in the future.\n"
     ]
    },
    {
     "name": "stdout",
     "output_type": "stream",
     "text": [
      "Estimating the choice model...\n",
      "Estimating Causal Effects...\n",
      "Simulation number 40 is complete!\n",
      "==========================================\n",
      "==========================================\n",
      "Simulation number 41 of 200 is in progress...\n",
      "Simulation size is 3426\n",
      "------------------------------------------\n",
      "Simulating data...\n",
      "Simulating Availability...\n"
     ]
    },
    {
     "name": "stderr",
     "output_type": "stream",
     "text": [
      "/Users/timsb/miniconda3/envs/causal2020/lib/python3.7/site-packages/pylogit/choice_tools.py:703: FutureWarning: arrays to stack must be passed as a \"sequence\" type such as list or tuple. Support for non-sequence iterables such as generators is deprecated as of NumPy 1.16 and will raise an error in the future.\n",
      "/Users/timsb/miniconda3/envs/causal2020/lib/python3.7/site-packages/pylogit/choice_tools.py:703: FutureWarning: arrays to stack must be passed as a \"sequence\" type such as list or tuple. Support for non-sequence iterables such as generators is deprecated as of NumPy 1.16 and will raise an error in the future.\n",
      "Exception ignored in: <function tqdm.__del__ at 0x7fe05909bcb0>\n",
      "Traceback (most recent call last):\n",
      "  File \"/Users/timsb/miniconda3/envs/causal2020/lib/python3.7/site-packages/tqdm/std.py\", line 1124, in __del__\n",
      "    self.close()\n",
      "  File \"/Users/timsb/miniconda3/envs/causal2020/lib/python3.7/site-packages/tqdm/notebook.py\", line 271, in close\n",
      "    self.sp(bar_style='danger')\n",
      "AttributeError: 'tqdm_notebook' object has no attribute 'sp'\n",
      "/Users/timsb/miniconda3/envs/causal2020/lib/python3.7/site-packages/pylogit/choice_tools.py:703: FutureWarning: arrays to stack must be passed as a \"sequence\" type such as list or tuple. Support for non-sequence iterables such as generators is deprecated as of NumPy 1.16 and will raise an error in the future.\n",
      "/Users/timsb/miniconda3/envs/causal2020/lib/python3.7/site-packages/pylogit/choice_tools.py:703: FutureWarning: arrays to stack must be passed as a \"sequence\" type such as list or tuple. Support for non-sequence iterables such as generators is deprecated as of NumPy 1.16 and will raise an error in the future.\n",
      "/Users/timsb/miniconda3/envs/causal2020/lib/python3.7/site-packages/pylogit/choice_tools.py:703: FutureWarning: arrays to stack must be passed as a \"sequence\" type such as list or tuple. Support for non-sequence iterables such as generators is deprecated as of NumPy 1.16 and will raise an error in the future.\n",
      "\n",
      "Simulating Choices:   0%|          | 0/3426 [00:00<?, ?it/s]\u001b[A"
     ]
    },
    {
     "name": "stdout",
     "output_type": "stream",
     "text": [
      "Converting data from wide to long...\n",
      "Simulating Choices...\n"
     ]
    },
    {
     "name": "stderr",
     "output_type": "stream",
     "text": [
      "Simulating Choices: 100%|██████████| 3426/3426 [00:00<00:00, 36745.85it/s]\n",
      "/Users/timsb/miniconda3/envs/causal2020/lib/python3.7/site-packages/pylogit/choice_tools.py:703: FutureWarning: arrays to stack must be passed as a \"sequence\" type such as list or tuple. Support for non-sequence iterables such as generators is deprecated as of NumPy 1.16 and will raise an error in the future.\n"
     ]
    },
    {
     "name": "stdout",
     "output_type": "stream",
     "text": [
      "Estimating the choice model...\n",
      "Estimating Causal Effects...\n",
      "Simulation number 41 is complete!\n",
      "==========================================\n",
      "==========================================\n",
      "Simulation number 42 of 200 is in progress...\n",
      "Simulation size is 3315\n",
      "------------------------------------------\n",
      "Simulating data...\n",
      "Simulating Availability...\n"
     ]
    },
    {
     "name": "stderr",
     "output_type": "stream",
     "text": [
      "/Users/timsb/miniconda3/envs/causal2020/lib/python3.7/site-packages/pylogit/choice_tools.py:703: FutureWarning: arrays to stack must be passed as a \"sequence\" type such as list or tuple. Support for non-sequence iterables such as generators is deprecated as of NumPy 1.16 and will raise an error in the future.\n",
      "/Users/timsb/miniconda3/envs/causal2020/lib/python3.7/site-packages/pylogit/choice_tools.py:703: FutureWarning: arrays to stack must be passed as a \"sequence\" type such as list or tuple. Support for non-sequence iterables such as generators is deprecated as of NumPy 1.16 and will raise an error in the future.\n",
      "Exception ignored in: <function tqdm.__del__ at 0x7fe05909bcb0>\n",
      "Traceback (most recent call last):\n",
      "  File \"/Users/timsb/miniconda3/envs/causal2020/lib/python3.7/site-packages/tqdm/std.py\", line 1124, in __del__\n",
      "    self.close()\n",
      "  File \"/Users/timsb/miniconda3/envs/causal2020/lib/python3.7/site-packages/tqdm/notebook.py\", line 271, in close\n",
      "    self.sp(bar_style='danger')\n",
      "AttributeError: 'tqdm_notebook' object has no attribute 'sp'\n",
      "/Users/timsb/miniconda3/envs/causal2020/lib/python3.7/site-packages/pylogit/choice_tools.py:703: FutureWarning: arrays to stack must be passed as a \"sequence\" type such as list or tuple. Support for non-sequence iterables such as generators is deprecated as of NumPy 1.16 and will raise an error in the future.\n",
      "/Users/timsb/miniconda3/envs/causal2020/lib/python3.7/site-packages/pylogit/choice_tools.py:703: FutureWarning: arrays to stack must be passed as a \"sequence\" type such as list or tuple. Support for non-sequence iterables such as generators is deprecated as of NumPy 1.16 and will raise an error in the future.\n",
      "/Users/timsb/miniconda3/envs/causal2020/lib/python3.7/site-packages/pylogit/choice_tools.py:703: FutureWarning: arrays to stack must be passed as a \"sequence\" type such as list or tuple. Support for non-sequence iterables such as generators is deprecated as of NumPy 1.16 and will raise an error in the future.\n",
      "\n",
      "Simulating Choices:   0%|          | 0/3315 [00:00<?, ?it/s]\u001b[A"
     ]
    },
    {
     "name": "stdout",
     "output_type": "stream",
     "text": [
      "Converting data from wide to long...\n",
      "Simulating Choices...\n"
     ]
    },
    {
     "name": "stderr",
     "output_type": "stream",
     "text": [
      "Simulating Choices: 100%|██████████| 3315/3315 [00:00<00:00, 37685.44it/s]\n",
      "/Users/timsb/miniconda3/envs/causal2020/lib/python3.7/site-packages/pylogit/choice_tools.py:703: FutureWarning: arrays to stack must be passed as a \"sequence\" type such as list or tuple. Support for non-sequence iterables such as generators is deprecated as of NumPy 1.16 and will raise an error in the future.\n"
     ]
    },
    {
     "name": "stdout",
     "output_type": "stream",
     "text": [
      "Estimating the choice model...\n",
      "Estimating Causal Effects...\n",
      "Simulation number 42 is complete!\n",
      "==========================================\n",
      "==========================================\n",
      "Simulation number 43 of 200 is in progress...\n",
      "Simulation size is 3655\n",
      "------------------------------------------\n",
      "Simulating data...\n",
      "Simulating Availability...\n"
     ]
    },
    {
     "name": "stderr",
     "output_type": "stream",
     "text": [
      "/Users/timsb/miniconda3/envs/causal2020/lib/python3.7/site-packages/pylogit/choice_tools.py:703: FutureWarning: arrays to stack must be passed as a \"sequence\" type such as list or tuple. Support for non-sequence iterables such as generators is deprecated as of NumPy 1.16 and will raise an error in the future.\n",
      "/Users/timsb/miniconda3/envs/causal2020/lib/python3.7/site-packages/pylogit/choice_tools.py:703: FutureWarning: arrays to stack must be passed as a \"sequence\" type such as list or tuple. Support for non-sequence iterables such as generators is deprecated as of NumPy 1.16 and will raise an error in the future.\n",
      "Exception ignored in: <function tqdm.__del__ at 0x7fe05909bcb0>\n",
      "Traceback (most recent call last):\n",
      "  File \"/Users/timsb/miniconda3/envs/causal2020/lib/python3.7/site-packages/tqdm/std.py\", line 1124, in __del__\n",
      "    self.close()\n",
      "  File \"/Users/timsb/miniconda3/envs/causal2020/lib/python3.7/site-packages/tqdm/notebook.py\", line 271, in close\n",
      "    self.sp(bar_style='danger')\n",
      "AttributeError: 'tqdm_notebook' object has no attribute 'sp'\n",
      "/Users/timsb/miniconda3/envs/causal2020/lib/python3.7/site-packages/pylogit/choice_tools.py:703: FutureWarning: arrays to stack must be passed as a \"sequence\" type such as list or tuple. Support for non-sequence iterables such as generators is deprecated as of NumPy 1.16 and will raise an error in the future.\n",
      "/Users/timsb/miniconda3/envs/causal2020/lib/python3.7/site-packages/pylogit/choice_tools.py:703: FutureWarning: arrays to stack must be passed as a \"sequence\" type such as list or tuple. Support for non-sequence iterables such as generators is deprecated as of NumPy 1.16 and will raise an error in the future.\n",
      "/Users/timsb/miniconda3/envs/causal2020/lib/python3.7/site-packages/pylogit/choice_tools.py:703: FutureWarning: arrays to stack must be passed as a \"sequence\" type such as list or tuple. Support for non-sequence iterables such as generators is deprecated as of NumPy 1.16 and will raise an error in the future.\n",
      "\n",
      "Simulating Choices:   0%|          | 0/3655 [00:00<?, ?it/s]\u001b[A"
     ]
    },
    {
     "name": "stdout",
     "output_type": "stream",
     "text": [
      "Converting data from wide to long...\n",
      "Simulating Choices...\n"
     ]
    },
    {
     "name": "stderr",
     "output_type": "stream",
     "text": [
      "Simulating Choices: 100%|██████████| 3655/3655 [00:00<00:00, 39454.75it/s]\n",
      "/Users/timsb/miniconda3/envs/causal2020/lib/python3.7/site-packages/pylogit/choice_tools.py:703: FutureWarning: arrays to stack must be passed as a \"sequence\" type such as list or tuple. Support for non-sequence iterables such as generators is deprecated as of NumPy 1.16 and will raise an error in the future.\n"
     ]
    },
    {
     "name": "stdout",
     "output_type": "stream",
     "text": [
      "Estimating the choice model...\n",
      "Estimating Causal Effects...\n",
      "Simulation number 43 is complete!\n",
      "==========================================\n",
      "==========================================\n",
      "Simulation number 44 of 200 is in progress...\n",
      "Simulation size is 3581\n",
      "------------------------------------------\n",
      "Simulating data...\n",
      "Simulating Availability...\n"
     ]
    },
    {
     "name": "stderr",
     "output_type": "stream",
     "text": [
      "/Users/timsb/miniconda3/envs/causal2020/lib/python3.7/site-packages/pylogit/choice_tools.py:703: FutureWarning: arrays to stack must be passed as a \"sequence\" type such as list or tuple. Support for non-sequence iterables such as generators is deprecated as of NumPy 1.16 and will raise an error in the future.\n",
      "/Users/timsb/miniconda3/envs/causal2020/lib/python3.7/site-packages/pylogit/choice_tools.py:703: FutureWarning: arrays to stack must be passed as a \"sequence\" type such as list or tuple. Support for non-sequence iterables such as generators is deprecated as of NumPy 1.16 and will raise an error in the future.\n",
      "Exception ignored in: <function tqdm.__del__ at 0x7fe05909bcb0>\n",
      "Traceback (most recent call last):\n",
      "  File \"/Users/timsb/miniconda3/envs/causal2020/lib/python3.7/site-packages/tqdm/std.py\", line 1124, in __del__\n",
      "    self.close()\n",
      "  File \"/Users/timsb/miniconda3/envs/causal2020/lib/python3.7/site-packages/tqdm/notebook.py\", line 271, in close\n",
      "    self.sp(bar_style='danger')\n",
      "AttributeError: 'tqdm_notebook' object has no attribute 'sp'\n",
      "/Users/timsb/miniconda3/envs/causal2020/lib/python3.7/site-packages/pylogit/choice_tools.py:703: FutureWarning: arrays to stack must be passed as a \"sequence\" type such as list or tuple. Support for non-sequence iterables such as generators is deprecated as of NumPy 1.16 and will raise an error in the future.\n",
      "/Users/timsb/miniconda3/envs/causal2020/lib/python3.7/site-packages/pylogit/choice_tools.py:703: FutureWarning: arrays to stack must be passed as a \"sequence\" type such as list or tuple. Support for non-sequence iterables such as generators is deprecated as of NumPy 1.16 and will raise an error in the future.\n",
      "/Users/timsb/miniconda3/envs/causal2020/lib/python3.7/site-packages/pylogit/choice_tools.py:703: FutureWarning: arrays to stack must be passed as a \"sequence\" type such as list or tuple. Support for non-sequence iterables such as generators is deprecated as of NumPy 1.16 and will raise an error in the future.\n",
      "\n",
      "Simulating Choices:   0%|          | 0/3581 [00:00<?, ?it/s]\u001b[A"
     ]
    },
    {
     "name": "stdout",
     "output_type": "stream",
     "text": [
      "Converting data from wide to long...\n",
      "Simulating Choices...\n"
     ]
    },
    {
     "name": "stderr",
     "output_type": "stream",
     "text": [
      "Simulating Choices: 100%|██████████| 3581/3581 [00:00<00:00, 38741.19it/s]\n",
      "/Users/timsb/miniconda3/envs/causal2020/lib/python3.7/site-packages/pylogit/choice_tools.py:703: FutureWarning: arrays to stack must be passed as a \"sequence\" type such as list or tuple. Support for non-sequence iterables such as generators is deprecated as of NumPy 1.16 and will raise an error in the future.\n"
     ]
    },
    {
     "name": "stdout",
     "output_type": "stream",
     "text": [
      "Estimating the choice model...\n",
      "Estimating Causal Effects...\n",
      "Simulation number 44 is complete!\n",
      "==========================================\n",
      "==========================================\n",
      "Simulation number 45 of 200 is in progress...\n",
      "Simulation size is 3015\n",
      "------------------------------------------\n",
      "Simulating data...\n",
      "Simulating Availability...\n"
     ]
    },
    {
     "name": "stderr",
     "output_type": "stream",
     "text": [
      "/Users/timsb/miniconda3/envs/causal2020/lib/python3.7/site-packages/pylogit/choice_tools.py:703: FutureWarning: arrays to stack must be passed as a \"sequence\" type such as list or tuple. Support for non-sequence iterables such as generators is deprecated as of NumPy 1.16 and will raise an error in the future.\n",
      "/Users/timsb/miniconda3/envs/causal2020/lib/python3.7/site-packages/pylogit/choice_tools.py:703: FutureWarning: arrays to stack must be passed as a \"sequence\" type such as list or tuple. Support for non-sequence iterables such as generators is deprecated as of NumPy 1.16 and will raise an error in the future.\n",
      "Exception ignored in: <function tqdm.__del__ at 0x7fe05909bcb0>\n",
      "Traceback (most recent call last):\n",
      "  File \"/Users/timsb/miniconda3/envs/causal2020/lib/python3.7/site-packages/tqdm/std.py\", line 1124, in __del__\n",
      "    self.close()\n",
      "  File \"/Users/timsb/miniconda3/envs/causal2020/lib/python3.7/site-packages/tqdm/notebook.py\", line 271, in close\n",
      "    self.sp(bar_style='danger')\n",
      "AttributeError: 'tqdm_notebook' object has no attribute 'sp'\n",
      "/Users/timsb/miniconda3/envs/causal2020/lib/python3.7/site-packages/pylogit/choice_tools.py:703: FutureWarning: arrays to stack must be passed as a \"sequence\" type such as list or tuple. Support for non-sequence iterables such as generators is deprecated as of NumPy 1.16 and will raise an error in the future.\n",
      "/Users/timsb/miniconda3/envs/causal2020/lib/python3.7/site-packages/pylogit/choice_tools.py:703: FutureWarning: arrays to stack must be passed as a \"sequence\" type such as list or tuple. Support for non-sequence iterables such as generators is deprecated as of NumPy 1.16 and will raise an error in the future.\n",
      "/Users/timsb/miniconda3/envs/causal2020/lib/python3.7/site-packages/pylogit/choice_tools.py:703: FutureWarning: arrays to stack must be passed as a \"sequence\" type such as list or tuple. Support for non-sequence iterables such as generators is deprecated as of NumPy 1.16 and will raise an error in the future.\n",
      "\n",
      "Simulating Choices:   0%|          | 0/3015 [00:00<?, ?it/s]\u001b[A"
     ]
    },
    {
     "name": "stdout",
     "output_type": "stream",
     "text": [
      "Converting data from wide to long...\n",
      "Simulating Choices...\n"
     ]
    },
    {
     "name": "stderr",
     "output_type": "stream",
     "text": [
      "Simulating Choices: 100%|██████████| 3015/3015 [00:00<00:00, 37003.80it/s]\n",
      "/Users/timsb/miniconda3/envs/causal2020/lib/python3.7/site-packages/pylogit/choice_tools.py:703: FutureWarning: arrays to stack must be passed as a \"sequence\" type such as list or tuple. Support for non-sequence iterables such as generators is deprecated as of NumPy 1.16 and will raise an error in the future.\n",
      "/Users/timsb/miniconda3/envs/causal2020/lib/python3.7/site-packages/pylogit/choice_tools.py:703: FutureWarning: arrays to stack must be passed as a \"sequence\" type such as list or tuple. Support for non-sequence iterables such as generators is deprecated as of NumPy 1.16 and will raise an error in the future.\n"
     ]
    },
    {
     "name": "stdout",
     "output_type": "stream",
     "text": [
      "Estimating the choice model...\n",
      "Estimating Causal Effects...\n"
     ]
    },
    {
     "name": "stderr",
     "output_type": "stream",
     "text": [
      "/Users/timsb/miniconda3/envs/causal2020/lib/python3.7/site-packages/pylogit/choice_tools.py:703: FutureWarning: arrays to stack must be passed as a \"sequence\" type such as list or tuple. Support for non-sequence iterables such as generators is deprecated as of NumPy 1.16 and will raise an error in the future.\n",
      "Exception ignored in: <function tqdm.__del__ at 0x7fe05909bcb0>\n",
      "Traceback (most recent call last):\n",
      "  File \"/Users/timsb/miniconda3/envs/causal2020/lib/python3.7/site-packages/tqdm/std.py\", line 1124, in __del__\n",
      "    self.close()\n",
      "  File \"/Users/timsb/miniconda3/envs/causal2020/lib/python3.7/site-packages/tqdm/notebook.py\", line 271, in close\n",
      "    self.sp(bar_style='danger')\n",
      "AttributeError: 'tqdm_notebook' object has no attribute 'sp'\n",
      "/Users/timsb/miniconda3/envs/causal2020/lib/python3.7/site-packages/pylogit/choice_tools.py:703: FutureWarning: arrays to stack must be passed as a \"sequence\" type such as list or tuple. Support for non-sequence iterables such as generators is deprecated as of NumPy 1.16 and will raise an error in the future.\n",
      "/Users/timsb/miniconda3/envs/causal2020/lib/python3.7/site-packages/pylogit/choice_tools.py:703: FutureWarning: arrays to stack must be passed as a \"sequence\" type such as list or tuple. Support for non-sequence iterables such as generators is deprecated as of NumPy 1.16 and will raise an error in the future.\n"
     ]
    },
    {
     "name": "stdout",
     "output_type": "stream",
     "text": [
      "Simulation number 45 is complete!\n",
      "==========================================\n",
      "==========================================\n",
      "Simulation number 46 of 200 is in progress...\n",
      "Simulation size is 3585\n",
      "------------------------------------------\n",
      "Simulating data...\n",
      "Simulating Availability...\n"
     ]
    },
    {
     "name": "stderr",
     "output_type": "stream",
     "text": [
      "/Users/timsb/miniconda3/envs/causal2020/lib/python3.7/site-packages/pylogit/choice_tools.py:703: FutureWarning: arrays to stack must be passed as a \"sequence\" type such as list or tuple. Support for non-sequence iterables such as generators is deprecated as of NumPy 1.16 and will raise an error in the future.\n",
      "\n",
      "Simulating Choices:   0%|          | 0/3585 [00:00<?, ?it/s]\u001b[A"
     ]
    },
    {
     "name": "stdout",
     "output_type": "stream",
     "text": [
      "Converting data from wide to long...\n",
      "Simulating Choices...\n"
     ]
    },
    {
     "name": "stderr",
     "output_type": "stream",
     "text": [
      "Simulating Choices: 100%|██████████| 3585/3585 [00:00<00:00, 36883.83it/s]\n",
      "/Users/timsb/miniconda3/envs/causal2020/lib/python3.7/site-packages/pylogit/choice_tools.py:703: FutureWarning: arrays to stack must be passed as a \"sequence\" type such as list or tuple. Support for non-sequence iterables such as generators is deprecated as of NumPy 1.16 and will raise an error in the future.\n"
     ]
    },
    {
     "name": "stdout",
     "output_type": "stream",
     "text": [
      "Estimating the choice model...\n",
      "Estimating Causal Effects...\n",
      "Simulation number 46 is complete!\n",
      "==========================================\n",
      "==========================================\n",
      "Simulation number 47 of 200 is in progress...\n",
      "Simulation size is 3433\n",
      "------------------------------------------\n",
      "Simulating data...\n",
      "Simulating Availability...\n"
     ]
    },
    {
     "name": "stderr",
     "output_type": "stream",
     "text": [
      "/Users/timsb/miniconda3/envs/causal2020/lib/python3.7/site-packages/pylogit/choice_tools.py:703: FutureWarning: arrays to stack must be passed as a \"sequence\" type such as list or tuple. Support for non-sequence iterables such as generators is deprecated as of NumPy 1.16 and will raise an error in the future.\n",
      "/Users/timsb/miniconda3/envs/causal2020/lib/python3.7/site-packages/pylogit/choice_tools.py:703: FutureWarning: arrays to stack must be passed as a \"sequence\" type such as list or tuple. Support for non-sequence iterables such as generators is deprecated as of NumPy 1.16 and will raise an error in the future.\n",
      "Exception ignored in: <function tqdm.__del__ at 0x7fe05909bcb0>\n",
      "Traceback (most recent call last):\n",
      "  File \"/Users/timsb/miniconda3/envs/causal2020/lib/python3.7/site-packages/tqdm/std.py\", line 1124, in __del__\n",
      "    self.close()\n",
      "  File \"/Users/timsb/miniconda3/envs/causal2020/lib/python3.7/site-packages/tqdm/notebook.py\", line 271, in close\n",
      "    self.sp(bar_style='danger')\n",
      "AttributeError: 'tqdm_notebook' object has no attribute 'sp'\n",
      "/Users/timsb/miniconda3/envs/causal2020/lib/python3.7/site-packages/pylogit/choice_tools.py:703: FutureWarning: arrays to stack must be passed as a \"sequence\" type such as list or tuple. Support for non-sequence iterables such as generators is deprecated as of NumPy 1.16 and will raise an error in the future.\n",
      "/Users/timsb/miniconda3/envs/causal2020/lib/python3.7/site-packages/pylogit/choice_tools.py:703: FutureWarning: arrays to stack must be passed as a \"sequence\" type such as list or tuple. Support for non-sequence iterables such as generators is deprecated as of NumPy 1.16 and will raise an error in the future.\n",
      "/Users/timsb/miniconda3/envs/causal2020/lib/python3.7/site-packages/pylogit/choice_tools.py:703: FutureWarning: arrays to stack must be passed as a \"sequence\" type such as list or tuple. Support for non-sequence iterables such as generators is deprecated as of NumPy 1.16 and will raise an error in the future.\n",
      "\n",
      "Simulating Choices:   0%|          | 0/3433 [00:00<?, ?it/s]\u001b[A"
     ]
    },
    {
     "name": "stdout",
     "output_type": "stream",
     "text": [
      "Converting data from wide to long...\n",
      "Simulating Choices...\n"
     ]
    },
    {
     "name": "stderr",
     "output_type": "stream",
     "text": [
      "Simulating Choices: 100%|██████████| 3433/3433 [00:00<00:00, 38039.68it/s]\n",
      "/Users/timsb/miniconda3/envs/causal2020/lib/python3.7/site-packages/pylogit/choice_tools.py:703: FutureWarning: arrays to stack must be passed as a \"sequence\" type such as list or tuple. Support for non-sequence iterables such as generators is deprecated as of NumPy 1.16 and will raise an error in the future.\n"
     ]
    },
    {
     "name": "stdout",
     "output_type": "stream",
     "text": [
      "Estimating the choice model...\n",
      "Estimating Causal Effects...\n",
      "Simulation number 47 is complete!\n",
      "==========================================\n",
      "==========================================\n",
      "Simulation number 48 of 200 is in progress...\n",
      "Simulation size is 3830\n",
      "------------------------------------------\n",
      "Simulating data...\n",
      "Simulating Availability...\n"
     ]
    },
    {
     "name": "stderr",
     "output_type": "stream",
     "text": [
      "/Users/timsb/miniconda3/envs/causal2020/lib/python3.7/site-packages/pylogit/choice_tools.py:703: FutureWarning: arrays to stack must be passed as a \"sequence\" type such as list or tuple. Support for non-sequence iterables such as generators is deprecated as of NumPy 1.16 and will raise an error in the future.\n",
      "/Users/timsb/miniconda3/envs/causal2020/lib/python3.7/site-packages/pylogit/choice_tools.py:703: FutureWarning: arrays to stack must be passed as a \"sequence\" type such as list or tuple. Support for non-sequence iterables such as generators is deprecated as of NumPy 1.16 and will raise an error in the future.\n",
      "Exception ignored in: <function tqdm.__del__ at 0x7fe05909bcb0>\n",
      "Traceback (most recent call last):\n",
      "  File \"/Users/timsb/miniconda3/envs/causal2020/lib/python3.7/site-packages/tqdm/std.py\", line 1124, in __del__\n",
      "    self.close()\n",
      "  File \"/Users/timsb/miniconda3/envs/causal2020/lib/python3.7/site-packages/tqdm/notebook.py\", line 271, in close\n",
      "    self.sp(bar_style='danger')\n",
      "AttributeError: 'tqdm_notebook' object has no attribute 'sp'\n",
      "/Users/timsb/miniconda3/envs/causal2020/lib/python3.7/site-packages/pylogit/choice_tools.py:703: FutureWarning: arrays to stack must be passed as a \"sequence\" type such as list or tuple. Support for non-sequence iterables such as generators is deprecated as of NumPy 1.16 and will raise an error in the future.\n",
      "/Users/timsb/miniconda3/envs/causal2020/lib/python3.7/site-packages/pylogit/choice_tools.py:703: FutureWarning: arrays to stack must be passed as a \"sequence\" type such as list or tuple. Support for non-sequence iterables such as generators is deprecated as of NumPy 1.16 and will raise an error in the future.\n",
      "/Users/timsb/miniconda3/envs/causal2020/lib/python3.7/site-packages/pylogit/choice_tools.py:703: FutureWarning: arrays to stack must be passed as a \"sequence\" type such as list or tuple. Support for non-sequence iterables such as generators is deprecated as of NumPy 1.16 and will raise an error in the future.\n",
      "\n",
      "Simulating Choices:   0%|          | 0/3830 [00:00<?, ?it/s]\u001b[A"
     ]
    },
    {
     "name": "stdout",
     "output_type": "stream",
     "text": [
      "Converting data from wide to long...\n",
      "Simulating Choices...\n"
     ]
    },
    {
     "name": "stderr",
     "output_type": "stream",
     "text": [
      "Simulating Choices: 100%|██████████| 3830/3830 [00:00<00:00, 38449.55it/s]\n",
      "/Users/timsb/miniconda3/envs/causal2020/lib/python3.7/site-packages/pylogit/choice_tools.py:703: FutureWarning: arrays to stack must be passed as a \"sequence\" type such as list or tuple. Support for non-sequence iterables such as generators is deprecated as of NumPy 1.16 and will raise an error in the future.\n"
     ]
    },
    {
     "name": "stdout",
     "output_type": "stream",
     "text": [
      "Estimating the choice model...\n",
      "Estimating Causal Effects...\n",
      "Simulation number 48 is complete!\n",
      "==========================================\n",
      "==========================================\n",
      "Simulation number 49 of 200 is in progress...\n",
      "Simulation size is 3246\n",
      "------------------------------------------\n",
      "Simulating data...\n",
      "Simulating Availability...\n"
     ]
    },
    {
     "name": "stderr",
     "output_type": "stream",
     "text": [
      "/Users/timsb/miniconda3/envs/causal2020/lib/python3.7/site-packages/pylogit/choice_tools.py:703: FutureWarning: arrays to stack must be passed as a \"sequence\" type such as list or tuple. Support for non-sequence iterables such as generators is deprecated as of NumPy 1.16 and will raise an error in the future.\n",
      "/Users/timsb/miniconda3/envs/causal2020/lib/python3.7/site-packages/pylogit/choice_tools.py:703: FutureWarning: arrays to stack must be passed as a \"sequence\" type such as list or tuple. Support for non-sequence iterables such as generators is deprecated as of NumPy 1.16 and will raise an error in the future.\n",
      "Exception ignored in: <function tqdm.__del__ at 0x7fe05909bcb0>\n",
      "Traceback (most recent call last):\n",
      "  File \"/Users/timsb/miniconda3/envs/causal2020/lib/python3.7/site-packages/tqdm/std.py\", line 1124, in __del__\n",
      "    self.close()\n",
      "  File \"/Users/timsb/miniconda3/envs/causal2020/lib/python3.7/site-packages/tqdm/notebook.py\", line 271, in close\n",
      "    self.sp(bar_style='danger')\n",
      "AttributeError: 'tqdm_notebook' object has no attribute 'sp'\n",
      "/Users/timsb/miniconda3/envs/causal2020/lib/python3.7/site-packages/pylogit/choice_tools.py:703: FutureWarning: arrays to stack must be passed as a \"sequence\" type such as list or tuple. Support for non-sequence iterables such as generators is deprecated as of NumPy 1.16 and will raise an error in the future.\n",
      "/Users/timsb/miniconda3/envs/causal2020/lib/python3.7/site-packages/pylogit/choice_tools.py:703: FutureWarning: arrays to stack must be passed as a \"sequence\" type such as list or tuple. Support for non-sequence iterables such as generators is deprecated as of NumPy 1.16 and will raise an error in the future.\n",
      "/Users/timsb/miniconda3/envs/causal2020/lib/python3.7/site-packages/pylogit/choice_tools.py:703: FutureWarning: arrays to stack must be passed as a \"sequence\" type such as list or tuple. Support for non-sequence iterables such as generators is deprecated as of NumPy 1.16 and will raise an error in the future.\n",
      "\n",
      "Simulating Choices:   0%|          | 0/3246 [00:00<?, ?it/s]\u001b[A"
     ]
    },
    {
     "name": "stdout",
     "output_type": "stream",
     "text": [
      "Converting data from wide to long...\n",
      "Simulating Choices...\n"
     ]
    },
    {
     "name": "stderr",
     "output_type": "stream",
     "text": [
      "Simulating Choices: 100%|██████████| 3246/3246 [00:00<00:00, 35617.11it/s]\n",
      "/Users/timsb/miniconda3/envs/causal2020/lib/python3.7/site-packages/pylogit/choice_tools.py:703: FutureWarning: arrays to stack must be passed as a \"sequence\" type such as list or tuple. Support for non-sequence iterables such as generators is deprecated as of NumPy 1.16 and will raise an error in the future.\n"
     ]
    },
    {
     "name": "stdout",
     "output_type": "stream",
     "text": [
      "Estimating the choice model...\n",
      "Estimating Causal Effects...\n",
      "Simulation number 49 is complete!\n",
      "==========================================\n",
      "==========================================\n",
      "Simulation number 50 of 200 is in progress...\n",
      "Simulation size is 3299\n",
      "------------------------------------------\n",
      "Simulating data...\n",
      "Simulating Availability...\n"
     ]
    },
    {
     "name": "stderr",
     "output_type": "stream",
     "text": [
      "/Users/timsb/miniconda3/envs/causal2020/lib/python3.7/site-packages/pylogit/choice_tools.py:703: FutureWarning: arrays to stack must be passed as a \"sequence\" type such as list or tuple. Support for non-sequence iterables such as generators is deprecated as of NumPy 1.16 and will raise an error in the future.\n",
      "/Users/timsb/miniconda3/envs/causal2020/lib/python3.7/site-packages/pylogit/choice_tools.py:703: FutureWarning: arrays to stack must be passed as a \"sequence\" type such as list or tuple. Support for non-sequence iterables such as generators is deprecated as of NumPy 1.16 and will raise an error in the future.\n",
      "Exception ignored in: <function tqdm.__del__ at 0x7fe05909bcb0>\n",
      "Traceback (most recent call last):\n",
      "  File \"/Users/timsb/miniconda3/envs/causal2020/lib/python3.7/site-packages/tqdm/std.py\", line 1124, in __del__\n",
      "    self.close()\n",
      "  File \"/Users/timsb/miniconda3/envs/causal2020/lib/python3.7/site-packages/tqdm/notebook.py\", line 271, in close\n",
      "    self.sp(bar_style='danger')\n",
      "AttributeError: 'tqdm_notebook' object has no attribute 'sp'\n",
      "/Users/timsb/miniconda3/envs/causal2020/lib/python3.7/site-packages/pylogit/choice_tools.py:703: FutureWarning: arrays to stack must be passed as a \"sequence\" type such as list or tuple. Support for non-sequence iterables such as generators is deprecated as of NumPy 1.16 and will raise an error in the future.\n",
      "/Users/timsb/miniconda3/envs/causal2020/lib/python3.7/site-packages/pylogit/choice_tools.py:703: FutureWarning: arrays to stack must be passed as a \"sequence\" type such as list or tuple. Support for non-sequence iterables such as generators is deprecated as of NumPy 1.16 and will raise an error in the future.\n",
      "/Users/timsb/miniconda3/envs/causal2020/lib/python3.7/site-packages/pylogit/choice_tools.py:703: FutureWarning: arrays to stack must be passed as a \"sequence\" type such as list or tuple. Support for non-sequence iterables such as generators is deprecated as of NumPy 1.16 and will raise an error in the future.\n",
      "\n",
      "Simulating Choices:   0%|          | 0/3299 [00:00<?, ?it/s]\u001b[A"
     ]
    },
    {
     "name": "stdout",
     "output_type": "stream",
     "text": [
      "Converting data from wide to long...\n",
      "Simulating Choices...\n"
     ]
    },
    {
     "name": "stderr",
     "output_type": "stream",
     "text": [
      "Simulating Choices: 100%|██████████| 3299/3299 [00:00<00:00, 39426.51it/s]\n",
      "/Users/timsb/miniconda3/envs/causal2020/lib/python3.7/site-packages/pylogit/choice_tools.py:703: FutureWarning: arrays to stack must be passed as a \"sequence\" type such as list or tuple. Support for non-sequence iterables such as generators is deprecated as of NumPy 1.16 and will raise an error in the future.\n"
     ]
    },
    {
     "name": "stdout",
     "output_type": "stream",
     "text": [
      "Estimating the choice model...\n",
      "Estimating Causal Effects...\n",
      "Simulation number 50 is complete!\n",
      "==========================================\n",
      "==========================================\n",
      "Simulation number 51 of 200 is in progress...\n",
      "Simulation size is 3805\n",
      "------------------------------------------\n",
      "Simulating data...\n",
      "Simulating Availability...\n"
     ]
    },
    {
     "name": "stderr",
     "output_type": "stream",
     "text": [
      "/Users/timsb/miniconda3/envs/causal2020/lib/python3.7/site-packages/pylogit/choice_tools.py:703: FutureWarning: arrays to stack must be passed as a \"sequence\" type such as list or tuple. Support for non-sequence iterables such as generators is deprecated as of NumPy 1.16 and will raise an error in the future.\n",
      "/Users/timsb/miniconda3/envs/causal2020/lib/python3.7/site-packages/pylogit/choice_tools.py:703: FutureWarning: arrays to stack must be passed as a \"sequence\" type such as list or tuple. Support for non-sequence iterables such as generators is deprecated as of NumPy 1.16 and will raise an error in the future.\n",
      "Exception ignored in: <function tqdm.__del__ at 0x7fe05909bcb0>\n",
      "Traceback (most recent call last):\n",
      "  File \"/Users/timsb/miniconda3/envs/causal2020/lib/python3.7/site-packages/tqdm/std.py\", line 1124, in __del__\n",
      "    self.close()\n",
      "  File \"/Users/timsb/miniconda3/envs/causal2020/lib/python3.7/site-packages/tqdm/notebook.py\", line 271, in close\n",
      "    self.sp(bar_style='danger')\n",
      "AttributeError: 'tqdm_notebook' object has no attribute 'sp'\n",
      "/Users/timsb/miniconda3/envs/causal2020/lib/python3.7/site-packages/pylogit/choice_tools.py:703: FutureWarning: arrays to stack must be passed as a \"sequence\" type such as list or tuple. Support for non-sequence iterables such as generators is deprecated as of NumPy 1.16 and will raise an error in the future.\n",
      "/Users/timsb/miniconda3/envs/causal2020/lib/python3.7/site-packages/pylogit/choice_tools.py:703: FutureWarning: arrays to stack must be passed as a \"sequence\" type such as list or tuple. Support for non-sequence iterables such as generators is deprecated as of NumPy 1.16 and will raise an error in the future.\n",
      "/Users/timsb/miniconda3/envs/causal2020/lib/python3.7/site-packages/pylogit/choice_tools.py:703: FutureWarning: arrays to stack must be passed as a \"sequence\" type such as list or tuple. Support for non-sequence iterables such as generators is deprecated as of NumPy 1.16 and will raise an error in the future.\n",
      "\n",
      "Simulating Choices:   0%|          | 0/3805 [00:00<?, ?it/s]\u001b[A"
     ]
    },
    {
     "name": "stdout",
     "output_type": "stream",
     "text": [
      "Converting data from wide to long...\n",
      "Simulating Choices...\n"
     ]
    },
    {
     "name": "stderr",
     "output_type": "stream",
     "text": [
      "\n",
      "Simulating Choices: 100%|██████████| 3805/3805 [00:00<00:00, 35750.14it/s]\u001b[A\n",
      "/Users/timsb/miniconda3/envs/causal2020/lib/python3.7/site-packages/pylogit/choice_tools.py:703: FutureWarning: arrays to stack must be passed as a \"sequence\" type such as list or tuple. Support for non-sequence iterables such as generators is deprecated as of NumPy 1.16 and will raise an error in the future.\n"
     ]
    },
    {
     "name": "stdout",
     "output_type": "stream",
     "text": [
      "Estimating the choice model...\n",
      "Estimating Causal Effects...\n",
      "Simulation number 51 is complete!\n",
      "==========================================\n",
      "==========================================\n",
      "Simulation number 52 of 200 is in progress...\n",
      "Simulation size is 3460\n",
      "------------------------------------------\n",
      "Simulating data...\n",
      "Simulating Availability...\n"
     ]
    },
    {
     "name": "stderr",
     "output_type": "stream",
     "text": [
      "/Users/timsb/miniconda3/envs/causal2020/lib/python3.7/site-packages/pylogit/choice_tools.py:703: FutureWarning: arrays to stack must be passed as a \"sequence\" type such as list or tuple. Support for non-sequence iterables such as generators is deprecated as of NumPy 1.16 and will raise an error in the future.\n",
      "/Users/timsb/miniconda3/envs/causal2020/lib/python3.7/site-packages/pylogit/choice_tools.py:703: FutureWarning: arrays to stack must be passed as a \"sequence\" type such as list or tuple. Support for non-sequence iterables such as generators is deprecated as of NumPy 1.16 and will raise an error in the future.\n",
      "Exception ignored in: <function tqdm.__del__ at 0x7fe05909bcb0>\n",
      "Traceback (most recent call last):\n",
      "  File \"/Users/timsb/miniconda3/envs/causal2020/lib/python3.7/site-packages/tqdm/std.py\", line 1124, in __del__\n",
      "    self.close()\n",
      "  File \"/Users/timsb/miniconda3/envs/causal2020/lib/python3.7/site-packages/tqdm/notebook.py\", line 271, in close\n",
      "    self.sp(bar_style='danger')\n",
      "AttributeError: 'tqdm_notebook' object has no attribute 'sp'\n",
      "/Users/timsb/miniconda3/envs/causal2020/lib/python3.7/site-packages/pylogit/choice_tools.py:703: FutureWarning: arrays to stack must be passed as a \"sequence\" type such as list or tuple. Support for non-sequence iterables such as generators is deprecated as of NumPy 1.16 and will raise an error in the future.\n",
      "/Users/timsb/miniconda3/envs/causal2020/lib/python3.7/site-packages/pylogit/choice_tools.py:703: FutureWarning: arrays to stack must be passed as a \"sequence\" type such as list or tuple. Support for non-sequence iterables such as generators is deprecated as of NumPy 1.16 and will raise an error in the future.\n",
      "/Users/timsb/miniconda3/envs/causal2020/lib/python3.7/site-packages/pylogit/choice_tools.py:703: FutureWarning: arrays to stack must be passed as a \"sequence\" type such as list or tuple. Support for non-sequence iterables such as generators is deprecated as of NumPy 1.16 and will raise an error in the future.\n",
      "\n",
      "Simulating Choices:   0%|          | 0/3460 [00:00<?, ?it/s]\u001b[A"
     ]
    },
    {
     "name": "stdout",
     "output_type": "stream",
     "text": [
      "Converting data from wide to long...\n",
      "Simulating Choices...\n"
     ]
    },
    {
     "name": "stderr",
     "output_type": "stream",
     "text": [
      "Simulating Choices: 100%|██████████| 3460/3460 [00:00<00:00, 39351.74it/s]\n",
      "/Users/timsb/miniconda3/envs/causal2020/lib/python3.7/site-packages/pylogit/choice_tools.py:703: FutureWarning: arrays to stack must be passed as a \"sequence\" type such as list or tuple. Support for non-sequence iterables such as generators is deprecated as of NumPy 1.16 and will raise an error in the future.\n"
     ]
    },
    {
     "name": "stdout",
     "output_type": "stream",
     "text": [
      "Estimating the choice model...\n",
      "Estimating Causal Effects...\n",
      "Simulation number 52 is complete!\n",
      "==========================================\n",
      "==========================================\n",
      "Simulation number 53 of 200 is in progress...\n",
      "Simulation size is 3058\n",
      "------------------------------------------\n",
      "Simulating data...\n",
      "Simulating Availability...\n"
     ]
    },
    {
     "name": "stderr",
     "output_type": "stream",
     "text": [
      "/Users/timsb/miniconda3/envs/causal2020/lib/python3.7/site-packages/pylogit/choice_tools.py:703: FutureWarning: arrays to stack must be passed as a \"sequence\" type such as list or tuple. Support for non-sequence iterables such as generators is deprecated as of NumPy 1.16 and will raise an error in the future.\n",
      "/Users/timsb/miniconda3/envs/causal2020/lib/python3.7/site-packages/pylogit/choice_tools.py:703: FutureWarning: arrays to stack must be passed as a \"sequence\" type such as list or tuple. Support for non-sequence iterables such as generators is deprecated as of NumPy 1.16 and will raise an error in the future.\n",
      "Exception ignored in: <function tqdm.__del__ at 0x7fe05909bcb0>\n",
      "Traceback (most recent call last):\n",
      "  File \"/Users/timsb/miniconda3/envs/causal2020/lib/python3.7/site-packages/tqdm/std.py\", line 1124, in __del__\n",
      "    self.close()\n",
      "  File \"/Users/timsb/miniconda3/envs/causal2020/lib/python3.7/site-packages/tqdm/notebook.py\", line 271, in close\n",
      "    self.sp(bar_style='danger')\n",
      "AttributeError: 'tqdm_notebook' object has no attribute 'sp'\n",
      "/Users/timsb/miniconda3/envs/causal2020/lib/python3.7/site-packages/pylogit/choice_tools.py:703: FutureWarning: arrays to stack must be passed as a \"sequence\" type such as list or tuple. Support for non-sequence iterables such as generators is deprecated as of NumPy 1.16 and will raise an error in the future.\n",
      "/Users/timsb/miniconda3/envs/causal2020/lib/python3.7/site-packages/pylogit/choice_tools.py:703: FutureWarning: arrays to stack must be passed as a \"sequence\" type such as list or tuple. Support for non-sequence iterables such as generators is deprecated as of NumPy 1.16 and will raise an error in the future.\n",
      "/Users/timsb/miniconda3/envs/causal2020/lib/python3.7/site-packages/pylogit/choice_tools.py:703: FutureWarning: arrays to stack must be passed as a \"sequence\" type such as list or tuple. Support for non-sequence iterables such as generators is deprecated as of NumPy 1.16 and will raise an error in the future.\n",
      "\n",
      "Simulating Choices:   0%|          | 0/3058 [00:00<?, ?it/s]\u001b[A"
     ]
    },
    {
     "name": "stdout",
     "output_type": "stream",
     "text": [
      "Converting data from wide to long...\n",
      "Simulating Choices...\n"
     ]
    },
    {
     "name": "stderr",
     "output_type": "stream",
     "text": [
      "Simulating Choices: 100%|██████████| 3058/3058 [00:00<00:00, 35336.66it/s]\n",
      "/Users/timsb/miniconda3/envs/causal2020/lib/python3.7/site-packages/pylogit/choice_tools.py:703: FutureWarning: arrays to stack must be passed as a \"sequence\" type such as list or tuple. Support for non-sequence iterables such as generators is deprecated as of NumPy 1.16 and will raise an error in the future.\n"
     ]
    },
    {
     "name": "stdout",
     "output_type": "stream",
     "text": [
      "Estimating the choice model...\n",
      "Estimating Causal Effects...\n",
      "Simulation number 53 is complete!\n",
      "==========================================\n",
      "==========================================\n",
      "Simulation number 54 of 200 is in progress...\n",
      "Simulation size is 3882\n",
      "------------------------------------------\n",
      "Simulating data...\n",
      "Simulating Availability...\n"
     ]
    },
    {
     "name": "stderr",
     "output_type": "stream",
     "text": [
      "/Users/timsb/miniconda3/envs/causal2020/lib/python3.7/site-packages/pylogit/choice_tools.py:703: FutureWarning: arrays to stack must be passed as a \"sequence\" type such as list or tuple. Support for non-sequence iterables such as generators is deprecated as of NumPy 1.16 and will raise an error in the future.\n",
      "/Users/timsb/miniconda3/envs/causal2020/lib/python3.7/site-packages/pylogit/choice_tools.py:703: FutureWarning: arrays to stack must be passed as a \"sequence\" type such as list or tuple. Support for non-sequence iterables such as generators is deprecated as of NumPy 1.16 and will raise an error in the future.\n",
      "Exception ignored in: <function tqdm.__del__ at 0x7fe05909bcb0>\n",
      "Traceback (most recent call last):\n",
      "  File \"/Users/timsb/miniconda3/envs/causal2020/lib/python3.7/site-packages/tqdm/std.py\", line 1124, in __del__\n",
      "    self.close()\n",
      "  File \"/Users/timsb/miniconda3/envs/causal2020/lib/python3.7/site-packages/tqdm/notebook.py\", line 271, in close\n",
      "    self.sp(bar_style='danger')\n",
      "AttributeError: 'tqdm_notebook' object has no attribute 'sp'\n",
      "/Users/timsb/miniconda3/envs/causal2020/lib/python3.7/site-packages/pylogit/choice_tools.py:703: FutureWarning: arrays to stack must be passed as a \"sequence\" type such as list or tuple. Support for non-sequence iterables such as generators is deprecated as of NumPy 1.16 and will raise an error in the future.\n",
      "/Users/timsb/miniconda3/envs/causal2020/lib/python3.7/site-packages/pylogit/choice_tools.py:703: FutureWarning: arrays to stack must be passed as a \"sequence\" type such as list or tuple. Support for non-sequence iterables such as generators is deprecated as of NumPy 1.16 and will raise an error in the future.\n",
      "/Users/timsb/miniconda3/envs/causal2020/lib/python3.7/site-packages/pylogit/choice_tools.py:703: FutureWarning: arrays to stack must be passed as a \"sequence\" type such as list or tuple. Support for non-sequence iterables such as generators is deprecated as of NumPy 1.16 and will raise an error in the future.\n",
      "\n",
      "Simulating Choices:   0%|          | 0/3882 [00:00<?, ?it/s]\u001b[A"
     ]
    },
    {
     "name": "stdout",
     "output_type": "stream",
     "text": [
      "Converting data from wide to long...\n",
      "Simulating Choices...\n"
     ]
    },
    {
     "name": "stderr",
     "output_type": "stream",
     "text": [
      "Simulating Choices: 100%|██████████| 3882/3882 [00:00<00:00, 39882.84it/s]\n",
      "/Users/timsb/miniconda3/envs/causal2020/lib/python3.7/site-packages/pylogit/choice_tools.py:703: FutureWarning: arrays to stack must be passed as a \"sequence\" type such as list or tuple. Support for non-sequence iterables such as generators is deprecated as of NumPy 1.16 and will raise an error in the future.\n"
     ]
    },
    {
     "name": "stdout",
     "output_type": "stream",
     "text": [
      "Estimating the choice model...\n",
      "Estimating Causal Effects...\n",
      "Simulation number 54 is complete!\n",
      "==========================================\n",
      "==========================================\n",
      "Simulation number 55 of 200 is in progress...\n",
      "Simulation size is 3486\n",
      "------------------------------------------\n",
      "Simulating data...\n",
      "Simulating Availability...\n"
     ]
    },
    {
     "name": "stderr",
     "output_type": "stream",
     "text": [
      "/Users/timsb/miniconda3/envs/causal2020/lib/python3.7/site-packages/pylogit/choice_tools.py:703: FutureWarning: arrays to stack must be passed as a \"sequence\" type such as list or tuple. Support for non-sequence iterables such as generators is deprecated as of NumPy 1.16 and will raise an error in the future.\n",
      "/Users/timsb/miniconda3/envs/causal2020/lib/python3.7/site-packages/pylogit/choice_tools.py:703: FutureWarning: arrays to stack must be passed as a \"sequence\" type such as list or tuple. Support for non-sequence iterables such as generators is deprecated as of NumPy 1.16 and will raise an error in the future.\n",
      "Exception ignored in: <function tqdm.__del__ at 0x7fe05909bcb0>\n",
      "Traceback (most recent call last):\n",
      "  File \"/Users/timsb/miniconda3/envs/causal2020/lib/python3.7/site-packages/tqdm/std.py\", line 1124, in __del__\n",
      "    self.close()\n",
      "  File \"/Users/timsb/miniconda3/envs/causal2020/lib/python3.7/site-packages/tqdm/notebook.py\", line 271, in close\n",
      "    self.sp(bar_style='danger')\n",
      "AttributeError: 'tqdm_notebook' object has no attribute 'sp'\n",
      "/Users/timsb/miniconda3/envs/causal2020/lib/python3.7/site-packages/pylogit/choice_tools.py:703: FutureWarning: arrays to stack must be passed as a \"sequence\" type such as list or tuple. Support for non-sequence iterables such as generators is deprecated as of NumPy 1.16 and will raise an error in the future.\n",
      "/Users/timsb/miniconda3/envs/causal2020/lib/python3.7/site-packages/pylogit/choice_tools.py:703: FutureWarning: arrays to stack must be passed as a \"sequence\" type such as list or tuple. Support for non-sequence iterables such as generators is deprecated as of NumPy 1.16 and will raise an error in the future.\n",
      "/Users/timsb/miniconda3/envs/causal2020/lib/python3.7/site-packages/pylogit/choice_tools.py:703: FutureWarning: arrays to stack must be passed as a \"sequence\" type such as list or tuple. Support for non-sequence iterables such as generators is deprecated as of NumPy 1.16 and will raise an error in the future.\n",
      "\n",
      "Simulating Choices:   0%|          | 0/3486 [00:00<?, ?it/s]\u001b[A"
     ]
    },
    {
     "name": "stdout",
     "output_type": "stream",
     "text": [
      "Converting data from wide to long...\n",
      "Simulating Choices...\n"
     ]
    },
    {
     "name": "stderr",
     "output_type": "stream",
     "text": [
      "Simulating Choices: 100%|██████████| 3486/3486 [00:00<00:00, 37987.88it/s]\n",
      "/Users/timsb/miniconda3/envs/causal2020/lib/python3.7/site-packages/pylogit/choice_tools.py:703: FutureWarning: arrays to stack must be passed as a \"sequence\" type such as list or tuple. Support for non-sequence iterables such as generators is deprecated as of NumPy 1.16 and will raise an error in the future.\n"
     ]
    },
    {
     "name": "stdout",
     "output_type": "stream",
     "text": [
      "Estimating the choice model...\n",
      "Estimating Causal Effects...\n",
      "Simulation number 55 is complete!\n",
      "==========================================\n",
      "==========================================\n",
      "Simulation number 56 of 200 is in progress...\n",
      "Simulation size is 3862\n",
      "------------------------------------------\n",
      "Simulating data...\n",
      "Simulating Availability...\n"
     ]
    },
    {
     "name": "stderr",
     "output_type": "stream",
     "text": [
      "/Users/timsb/miniconda3/envs/causal2020/lib/python3.7/site-packages/pylogit/choice_tools.py:703: FutureWarning: arrays to stack must be passed as a \"sequence\" type such as list or tuple. Support for non-sequence iterables such as generators is deprecated as of NumPy 1.16 and will raise an error in the future.\n",
      "/Users/timsb/miniconda3/envs/causal2020/lib/python3.7/site-packages/pylogit/choice_tools.py:703: FutureWarning: arrays to stack must be passed as a \"sequence\" type such as list or tuple. Support for non-sequence iterables such as generators is deprecated as of NumPy 1.16 and will raise an error in the future.\n",
      "Exception ignored in: <function tqdm.__del__ at 0x7fe05909bcb0>\n",
      "Traceback (most recent call last):\n",
      "  File \"/Users/timsb/miniconda3/envs/causal2020/lib/python3.7/site-packages/tqdm/std.py\", line 1124, in __del__\n",
      "    self.close()\n",
      "  File \"/Users/timsb/miniconda3/envs/causal2020/lib/python3.7/site-packages/tqdm/notebook.py\", line 271, in close\n",
      "    self.sp(bar_style='danger')\n",
      "AttributeError: 'tqdm_notebook' object has no attribute 'sp'\n",
      "/Users/timsb/miniconda3/envs/causal2020/lib/python3.7/site-packages/pylogit/choice_tools.py:703: FutureWarning: arrays to stack must be passed as a \"sequence\" type such as list or tuple. Support for non-sequence iterables such as generators is deprecated as of NumPy 1.16 and will raise an error in the future.\n",
      "/Users/timsb/miniconda3/envs/causal2020/lib/python3.7/site-packages/pylogit/choice_tools.py:703: FutureWarning: arrays to stack must be passed as a \"sequence\" type such as list or tuple. Support for non-sequence iterables such as generators is deprecated as of NumPy 1.16 and will raise an error in the future.\n",
      "/Users/timsb/miniconda3/envs/causal2020/lib/python3.7/site-packages/pylogit/choice_tools.py:703: FutureWarning: arrays to stack must be passed as a \"sequence\" type such as list or tuple. Support for non-sequence iterables such as generators is deprecated as of NumPy 1.16 and will raise an error in the future.\n",
      "\n",
      "Simulating Choices:   0%|          | 0/3862 [00:00<?, ?it/s]\u001b[A"
     ]
    },
    {
     "name": "stdout",
     "output_type": "stream",
     "text": [
      "Converting data from wide to long...\n",
      "Simulating Choices...\n"
     ]
    },
    {
     "name": "stderr",
     "output_type": "stream",
     "text": [
      "Simulating Choices: 100%|██████████| 3862/3862 [00:00<00:00, 40604.72it/s]\n",
      "/Users/timsb/miniconda3/envs/causal2020/lib/python3.7/site-packages/pylogit/choice_tools.py:703: FutureWarning: arrays to stack must be passed as a \"sequence\" type such as list or tuple. Support for non-sequence iterables such as generators is deprecated as of NumPy 1.16 and will raise an error in the future.\n"
     ]
    },
    {
     "name": "stdout",
     "output_type": "stream",
     "text": [
      "Estimating the choice model...\n",
      "Estimating Causal Effects...\n",
      "Simulation number 56 is complete!\n",
      "==========================================\n",
      "==========================================\n",
      "Simulation number 57 of 200 is in progress...\n",
      "Simulation size is 3654\n",
      "------------------------------------------\n",
      "Simulating data...\n",
      "Simulating Availability...\n"
     ]
    },
    {
     "name": "stderr",
     "output_type": "stream",
     "text": [
      "/Users/timsb/miniconda3/envs/causal2020/lib/python3.7/site-packages/pylogit/choice_tools.py:703: FutureWarning: arrays to stack must be passed as a \"sequence\" type such as list or tuple. Support for non-sequence iterables such as generators is deprecated as of NumPy 1.16 and will raise an error in the future.\n",
      "/Users/timsb/miniconda3/envs/causal2020/lib/python3.7/site-packages/pylogit/choice_tools.py:703: FutureWarning: arrays to stack must be passed as a \"sequence\" type such as list or tuple. Support for non-sequence iterables such as generators is deprecated as of NumPy 1.16 and will raise an error in the future.\n",
      "Exception ignored in: <function tqdm.__del__ at 0x7fe05909bcb0>\n",
      "Traceback (most recent call last):\n",
      "  File \"/Users/timsb/miniconda3/envs/causal2020/lib/python3.7/site-packages/tqdm/std.py\", line 1124, in __del__\n",
      "    self.close()\n",
      "  File \"/Users/timsb/miniconda3/envs/causal2020/lib/python3.7/site-packages/tqdm/notebook.py\", line 271, in close\n",
      "    self.sp(bar_style='danger')\n",
      "AttributeError: 'tqdm_notebook' object has no attribute 'sp'\n",
      "/Users/timsb/miniconda3/envs/causal2020/lib/python3.7/site-packages/pylogit/choice_tools.py:703: FutureWarning: arrays to stack must be passed as a \"sequence\" type such as list or tuple. Support for non-sequence iterables such as generators is deprecated as of NumPy 1.16 and will raise an error in the future.\n",
      "/Users/timsb/miniconda3/envs/causal2020/lib/python3.7/site-packages/pylogit/choice_tools.py:703: FutureWarning: arrays to stack must be passed as a \"sequence\" type such as list or tuple. Support for non-sequence iterables such as generators is deprecated as of NumPy 1.16 and will raise an error in the future.\n",
      "/Users/timsb/miniconda3/envs/causal2020/lib/python3.7/site-packages/pylogit/choice_tools.py:703: FutureWarning: arrays to stack must be passed as a \"sequence\" type such as list or tuple. Support for non-sequence iterables such as generators is deprecated as of NumPy 1.16 and will raise an error in the future.\n",
      "\n",
      "Simulating Choices:   0%|          | 0/3654 [00:00<?, ?it/s]\u001b[A"
     ]
    },
    {
     "name": "stdout",
     "output_type": "stream",
     "text": [
      "Converting data from wide to long...\n",
      "Simulating Choices...\n"
     ]
    },
    {
     "name": "stderr",
     "output_type": "stream",
     "text": [
      "Simulating Choices: 100%|██████████| 3654/3654 [00:00<00:00, 38694.85it/s]\n",
      "/Users/timsb/miniconda3/envs/causal2020/lib/python3.7/site-packages/pylogit/choice_tools.py:703: FutureWarning: arrays to stack must be passed as a \"sequence\" type such as list or tuple. Support for non-sequence iterables such as generators is deprecated as of NumPy 1.16 and will raise an error in the future.\n"
     ]
    },
    {
     "name": "stdout",
     "output_type": "stream",
     "text": [
      "Estimating the choice model...\n",
      "Estimating Causal Effects...\n",
      "Simulation number 57 is complete!\n",
      "==========================================\n",
      "==========================================\n",
      "Simulation number 58 of 200 is in progress...\n",
      "Simulation size is 3467\n",
      "------------------------------------------\n",
      "Simulating data...\n",
      "Simulating Availability...\n"
     ]
    },
    {
     "name": "stderr",
     "output_type": "stream",
     "text": [
      "/Users/timsb/miniconda3/envs/causal2020/lib/python3.7/site-packages/pylogit/choice_tools.py:703: FutureWarning: arrays to stack must be passed as a \"sequence\" type such as list or tuple. Support for non-sequence iterables such as generators is deprecated as of NumPy 1.16 and will raise an error in the future.\n",
      "/Users/timsb/miniconda3/envs/causal2020/lib/python3.7/site-packages/pylogit/choice_tools.py:703: FutureWarning: arrays to stack must be passed as a \"sequence\" type such as list or tuple. Support for non-sequence iterables such as generators is deprecated as of NumPy 1.16 and will raise an error in the future.\n",
      "Exception ignored in: <function tqdm.__del__ at 0x7fe05909bcb0>\n",
      "Traceback (most recent call last):\n",
      "  File \"/Users/timsb/miniconda3/envs/causal2020/lib/python3.7/site-packages/tqdm/std.py\", line 1124, in __del__\n",
      "    self.close()\n",
      "  File \"/Users/timsb/miniconda3/envs/causal2020/lib/python3.7/site-packages/tqdm/notebook.py\", line 271, in close\n",
      "    self.sp(bar_style='danger')\n",
      "AttributeError: 'tqdm_notebook' object has no attribute 'sp'\n",
      "/Users/timsb/miniconda3/envs/causal2020/lib/python3.7/site-packages/pylogit/choice_tools.py:703: FutureWarning: arrays to stack must be passed as a \"sequence\" type such as list or tuple. Support for non-sequence iterables such as generators is deprecated as of NumPy 1.16 and will raise an error in the future.\n",
      "/Users/timsb/miniconda3/envs/causal2020/lib/python3.7/site-packages/pylogit/choice_tools.py:703: FutureWarning: arrays to stack must be passed as a \"sequence\" type such as list or tuple. Support for non-sequence iterables such as generators is deprecated as of NumPy 1.16 and will raise an error in the future.\n",
      "/Users/timsb/miniconda3/envs/causal2020/lib/python3.7/site-packages/pylogit/choice_tools.py:703: FutureWarning: arrays to stack must be passed as a \"sequence\" type such as list or tuple. Support for non-sequence iterables such as generators is deprecated as of NumPy 1.16 and will raise an error in the future.\n",
      "\n",
      "Simulating Choices:   0%|          | 0/3467 [00:00<?, ?it/s]\u001b[A"
     ]
    },
    {
     "name": "stdout",
     "output_type": "stream",
     "text": [
      "Converting data from wide to long...\n",
      "Simulating Choices...\n"
     ]
    },
    {
     "name": "stderr",
     "output_type": "stream",
     "text": [
      "Simulating Choices: 100%|██████████| 3467/3467 [00:00<00:00, 39172.39it/s]\n",
      "/Users/timsb/miniconda3/envs/causal2020/lib/python3.7/site-packages/pylogit/choice_tools.py:703: FutureWarning: arrays to stack must be passed as a \"sequence\" type such as list or tuple. Support for non-sequence iterables such as generators is deprecated as of NumPy 1.16 and will raise an error in the future.\n"
     ]
    },
    {
     "name": "stdout",
     "output_type": "stream",
     "text": [
      "Estimating the choice model...\n",
      "Estimating Causal Effects...\n",
      "Simulation number 58 is complete!\n",
      "==========================================\n",
      "==========================================\n",
      "Simulation number 59 of 200 is in progress...\n",
      "Simulation size is 3741\n",
      "------------------------------------------\n",
      "Simulating data...\n",
      "Simulating Availability...\n"
     ]
    },
    {
     "name": "stderr",
     "output_type": "stream",
     "text": [
      "/Users/timsb/miniconda3/envs/causal2020/lib/python3.7/site-packages/pylogit/choice_tools.py:703: FutureWarning: arrays to stack must be passed as a \"sequence\" type such as list or tuple. Support for non-sequence iterables such as generators is deprecated as of NumPy 1.16 and will raise an error in the future.\n",
      "/Users/timsb/miniconda3/envs/causal2020/lib/python3.7/site-packages/pylogit/choice_tools.py:703: FutureWarning: arrays to stack must be passed as a \"sequence\" type such as list or tuple. Support for non-sequence iterables such as generators is deprecated as of NumPy 1.16 and will raise an error in the future.\n",
      "Exception ignored in: <function tqdm.__del__ at 0x7fe05909bcb0>\n",
      "Traceback (most recent call last):\n",
      "  File \"/Users/timsb/miniconda3/envs/causal2020/lib/python3.7/site-packages/tqdm/std.py\", line 1124, in __del__\n",
      "    self.close()\n",
      "  File \"/Users/timsb/miniconda3/envs/causal2020/lib/python3.7/site-packages/tqdm/notebook.py\", line 271, in close\n",
      "    self.sp(bar_style='danger')\n",
      "AttributeError: 'tqdm_notebook' object has no attribute 'sp'\n",
      "/Users/timsb/miniconda3/envs/causal2020/lib/python3.7/site-packages/pylogit/choice_tools.py:703: FutureWarning: arrays to stack must be passed as a \"sequence\" type such as list or tuple. Support for non-sequence iterables such as generators is deprecated as of NumPy 1.16 and will raise an error in the future.\n",
      "/Users/timsb/miniconda3/envs/causal2020/lib/python3.7/site-packages/pylogit/choice_tools.py:703: FutureWarning: arrays to stack must be passed as a \"sequence\" type such as list or tuple. Support for non-sequence iterables such as generators is deprecated as of NumPy 1.16 and will raise an error in the future.\n",
      "/Users/timsb/miniconda3/envs/causal2020/lib/python3.7/site-packages/pylogit/choice_tools.py:703: FutureWarning: arrays to stack must be passed as a \"sequence\" type such as list or tuple. Support for non-sequence iterables such as generators is deprecated as of NumPy 1.16 and will raise an error in the future.\n",
      "\n",
      "Simulating Choices:   0%|          | 0/3741 [00:00<?, ?it/s]\u001b[A"
     ]
    },
    {
     "name": "stdout",
     "output_type": "stream",
     "text": [
      "Converting data from wide to long...\n",
      "Simulating Choices...\n"
     ]
    },
    {
     "name": "stderr",
     "output_type": "stream",
     "text": [
      "Simulating Choices: 100%|██████████| 3741/3741 [00:00<00:00, 38336.20it/s]\n",
      "/Users/timsb/miniconda3/envs/causal2020/lib/python3.7/site-packages/pylogit/choice_tools.py:703: FutureWarning: arrays to stack must be passed as a \"sequence\" type such as list or tuple. Support for non-sequence iterables such as generators is deprecated as of NumPy 1.16 and will raise an error in the future.\n"
     ]
    },
    {
     "name": "stdout",
     "output_type": "stream",
     "text": [
      "Estimating the choice model...\n",
      "Estimating Causal Effects...\n",
      "Simulation number 59 is complete!\n",
      "==========================================\n",
      "==========================================\n",
      "Simulation number 60 of 200 is in progress...\n",
      "Simulation size is 3893\n",
      "------------------------------------------\n",
      "Simulating data...\n",
      "Simulating Availability...\n"
     ]
    },
    {
     "name": "stderr",
     "output_type": "stream",
     "text": [
      "/Users/timsb/miniconda3/envs/causal2020/lib/python3.7/site-packages/pylogit/choice_tools.py:703: FutureWarning: arrays to stack must be passed as a \"sequence\" type such as list or tuple. Support for non-sequence iterables such as generators is deprecated as of NumPy 1.16 and will raise an error in the future.\n",
      "/Users/timsb/miniconda3/envs/causal2020/lib/python3.7/site-packages/pylogit/choice_tools.py:703: FutureWarning: arrays to stack must be passed as a \"sequence\" type such as list or tuple. Support for non-sequence iterables such as generators is deprecated as of NumPy 1.16 and will raise an error in the future.\n",
      "Exception ignored in: <function tqdm.__del__ at 0x7fe05909bcb0>\n",
      "Traceback (most recent call last):\n",
      "  File \"/Users/timsb/miniconda3/envs/causal2020/lib/python3.7/site-packages/tqdm/std.py\", line 1124, in __del__\n",
      "    self.close()\n",
      "  File \"/Users/timsb/miniconda3/envs/causal2020/lib/python3.7/site-packages/tqdm/notebook.py\", line 271, in close\n",
      "    self.sp(bar_style='danger')\n",
      "AttributeError: 'tqdm_notebook' object has no attribute 'sp'\n",
      "/Users/timsb/miniconda3/envs/causal2020/lib/python3.7/site-packages/pylogit/choice_tools.py:703: FutureWarning: arrays to stack must be passed as a \"sequence\" type such as list or tuple. Support for non-sequence iterables such as generators is deprecated as of NumPy 1.16 and will raise an error in the future.\n",
      "/Users/timsb/miniconda3/envs/causal2020/lib/python3.7/site-packages/pylogit/choice_tools.py:703: FutureWarning: arrays to stack must be passed as a \"sequence\" type such as list or tuple. Support for non-sequence iterables such as generators is deprecated as of NumPy 1.16 and will raise an error in the future.\n",
      "/Users/timsb/miniconda3/envs/causal2020/lib/python3.7/site-packages/pylogit/choice_tools.py:703: FutureWarning: arrays to stack must be passed as a \"sequence\" type such as list or tuple. Support for non-sequence iterables such as generators is deprecated as of NumPy 1.16 and will raise an error in the future.\n",
      "\n",
      "Simulating Choices:   0%|          | 0/3893 [00:00<?, ?it/s]\u001b[A"
     ]
    },
    {
     "name": "stdout",
     "output_type": "stream",
     "text": [
      "Converting data from wide to long...\n",
      "Simulating Choices...\n"
     ]
    },
    {
     "name": "stderr",
     "output_type": "stream",
     "text": [
      "Simulating Choices: 100%|██████████| 3893/3893 [00:00<00:00, 40319.79it/s]\n",
      "/Users/timsb/miniconda3/envs/causal2020/lib/python3.7/site-packages/pylogit/choice_tools.py:703: FutureWarning: arrays to stack must be passed as a \"sequence\" type such as list or tuple. Support for non-sequence iterables such as generators is deprecated as of NumPy 1.16 and will raise an error in the future.\n"
     ]
    },
    {
     "name": "stdout",
     "output_type": "stream",
     "text": [
      "Estimating the choice model...\n",
      "Estimating Causal Effects...\n",
      "Simulation number 60 is complete!\n",
      "==========================================\n",
      "==========================================\n",
      "Simulation number 61 of 200 is in progress...\n",
      "Simulation size is 3167\n",
      "------------------------------------------\n",
      "Simulating data...\n",
      "Simulating Availability...\n"
     ]
    },
    {
     "name": "stderr",
     "output_type": "stream",
     "text": [
      "/Users/timsb/miniconda3/envs/causal2020/lib/python3.7/site-packages/pylogit/choice_tools.py:703: FutureWarning: arrays to stack must be passed as a \"sequence\" type such as list or tuple. Support for non-sequence iterables such as generators is deprecated as of NumPy 1.16 and will raise an error in the future.\n",
      "/Users/timsb/miniconda3/envs/causal2020/lib/python3.7/site-packages/pylogit/choice_tools.py:703: FutureWarning: arrays to stack must be passed as a \"sequence\" type such as list or tuple. Support for non-sequence iterables such as generators is deprecated as of NumPy 1.16 and will raise an error in the future.\n",
      "Exception ignored in: <function tqdm.__del__ at 0x7fe05909bcb0>\n",
      "Traceback (most recent call last):\n",
      "  File \"/Users/timsb/miniconda3/envs/causal2020/lib/python3.7/site-packages/tqdm/std.py\", line 1124, in __del__\n",
      "    self.close()\n",
      "  File \"/Users/timsb/miniconda3/envs/causal2020/lib/python3.7/site-packages/tqdm/notebook.py\", line 271, in close\n",
      "    self.sp(bar_style='danger')\n",
      "AttributeError: 'tqdm_notebook' object has no attribute 'sp'\n",
      "/Users/timsb/miniconda3/envs/causal2020/lib/python3.7/site-packages/pylogit/choice_tools.py:703: FutureWarning: arrays to stack must be passed as a \"sequence\" type such as list or tuple. Support for non-sequence iterables such as generators is deprecated as of NumPy 1.16 and will raise an error in the future.\n",
      "/Users/timsb/miniconda3/envs/causal2020/lib/python3.7/site-packages/pylogit/choice_tools.py:703: FutureWarning: arrays to stack must be passed as a \"sequence\" type such as list or tuple. Support for non-sequence iterables such as generators is deprecated as of NumPy 1.16 and will raise an error in the future.\n",
      "/Users/timsb/miniconda3/envs/causal2020/lib/python3.7/site-packages/pylogit/choice_tools.py:703: FutureWarning: arrays to stack must be passed as a \"sequence\" type such as list or tuple. Support for non-sequence iterables such as generators is deprecated as of NumPy 1.16 and will raise an error in the future.\n",
      "\n",
      "Simulating Choices:   0%|          | 0/3167 [00:00<?, ?it/s]\u001b[A"
     ]
    },
    {
     "name": "stdout",
     "output_type": "stream",
     "text": [
      "Converting data from wide to long...\n",
      "Simulating Choices...\n"
     ]
    },
    {
     "name": "stderr",
     "output_type": "stream",
     "text": [
      "Simulating Choices: 100%|██████████| 3167/3167 [00:00<00:00, 37921.26it/s]\n",
      "/Users/timsb/miniconda3/envs/causal2020/lib/python3.7/site-packages/pylogit/choice_tools.py:703: FutureWarning: arrays to stack must be passed as a \"sequence\" type such as list or tuple. Support for non-sequence iterables such as generators is deprecated as of NumPy 1.16 and will raise an error in the future.\n"
     ]
    },
    {
     "name": "stdout",
     "output_type": "stream",
     "text": [
      "Estimating the choice model...\n",
      "Estimating Causal Effects...\n"
     ]
    },
    {
     "name": "stderr",
     "output_type": "stream",
     "text": [
      "/Users/timsb/miniconda3/envs/causal2020/lib/python3.7/site-packages/pylogit/choice_tools.py:703: FutureWarning: arrays to stack must be passed as a \"sequence\" type such as list or tuple. Support for non-sequence iterables such as generators is deprecated as of NumPy 1.16 and will raise an error in the future.\n",
      "/Users/timsb/miniconda3/envs/causal2020/lib/python3.7/site-packages/pylogit/choice_tools.py:703: FutureWarning: arrays to stack must be passed as a \"sequence\" type such as list or tuple. Support for non-sequence iterables such as generators is deprecated as of NumPy 1.16 and will raise an error in the future.\n",
      "Exception ignored in: <function tqdm.__del__ at 0x7fe05909bcb0>\n",
      "Traceback (most recent call last):\n",
      "  File \"/Users/timsb/miniconda3/envs/causal2020/lib/python3.7/site-packages/tqdm/std.py\", line 1124, in __del__\n",
      "    self.close()\n",
      "  File \"/Users/timsb/miniconda3/envs/causal2020/lib/python3.7/site-packages/tqdm/notebook.py\", line 271, in close\n",
      "    self.sp(bar_style='danger')\n",
      "AttributeError: 'tqdm_notebook' object has no attribute 'sp'\n",
      "/Users/timsb/miniconda3/envs/causal2020/lib/python3.7/site-packages/pylogit/choice_tools.py:703: FutureWarning: arrays to stack must be passed as a \"sequence\" type such as list or tuple. Support for non-sequence iterables such as generators is deprecated as of NumPy 1.16 and will raise an error in the future.\n",
      "/Users/timsb/miniconda3/envs/causal2020/lib/python3.7/site-packages/pylogit/choice_tools.py:703: FutureWarning: arrays to stack must be passed as a \"sequence\" type such as list or tuple. Support for non-sequence iterables such as generators is deprecated as of NumPy 1.16 and will raise an error in the future.\n"
     ]
    },
    {
     "name": "stdout",
     "output_type": "stream",
     "text": [
      "Simulation number 61 is complete!\n",
      "==========================================\n",
      "==========================================\n",
      "Simulation number 62 of 200 is in progress...\n",
      "Simulation size is 3493\n",
      "------------------------------------------\n",
      "Simulating data...\n",
      "Simulating Availability...\n"
     ]
    },
    {
     "name": "stderr",
     "output_type": "stream",
     "text": [
      "/Users/timsb/miniconda3/envs/causal2020/lib/python3.7/site-packages/pylogit/choice_tools.py:703: FutureWarning: arrays to stack must be passed as a \"sequence\" type such as list or tuple. Support for non-sequence iterables such as generators is deprecated as of NumPy 1.16 and will raise an error in the future.\n",
      "\n",
      "Simulating Choices:   0%|          | 0/3493 [00:00<?, ?it/s]\u001b[A"
     ]
    },
    {
     "name": "stdout",
     "output_type": "stream",
     "text": [
      "Converting data from wide to long...\n",
      "Simulating Choices...\n"
     ]
    },
    {
     "name": "stderr",
     "output_type": "stream",
     "text": [
      "Simulating Choices: 100%|██████████| 3493/3493 [00:00<00:00, 38316.02it/s]\n",
      "/Users/timsb/miniconda3/envs/causal2020/lib/python3.7/site-packages/pylogit/choice_tools.py:703: FutureWarning: arrays to stack must be passed as a \"sequence\" type such as list or tuple. Support for non-sequence iterables such as generators is deprecated as of NumPy 1.16 and will raise an error in the future.\n"
     ]
    },
    {
     "name": "stdout",
     "output_type": "stream",
     "text": [
      "Estimating the choice model...\n",
      "Estimating Causal Effects...\n",
      "Simulation number 62 is complete!\n",
      "==========================================\n",
      "==========================================\n",
      "Simulation number 63 of 200 is in progress...\n",
      "Simulation size is 3483\n",
      "------------------------------------------\n",
      "Simulating data...\n",
      "Simulating Availability...\n"
     ]
    },
    {
     "name": "stderr",
     "output_type": "stream",
     "text": [
      "/Users/timsb/miniconda3/envs/causal2020/lib/python3.7/site-packages/pylogit/choice_tools.py:703: FutureWarning: arrays to stack must be passed as a \"sequence\" type such as list or tuple. Support for non-sequence iterables such as generators is deprecated as of NumPy 1.16 and will raise an error in the future.\n",
      "/Users/timsb/miniconda3/envs/causal2020/lib/python3.7/site-packages/pylogit/choice_tools.py:703: FutureWarning: arrays to stack must be passed as a \"sequence\" type such as list or tuple. Support for non-sequence iterables such as generators is deprecated as of NumPy 1.16 and will raise an error in the future.\n",
      "Exception ignored in: <function tqdm.__del__ at 0x7fe05909bcb0>\n",
      "Traceback (most recent call last):\n",
      "  File \"/Users/timsb/miniconda3/envs/causal2020/lib/python3.7/site-packages/tqdm/std.py\", line 1124, in __del__\n",
      "    self.close()\n",
      "  File \"/Users/timsb/miniconda3/envs/causal2020/lib/python3.7/site-packages/tqdm/notebook.py\", line 271, in close\n",
      "    self.sp(bar_style='danger')\n",
      "AttributeError: 'tqdm_notebook' object has no attribute 'sp'\n",
      "/Users/timsb/miniconda3/envs/causal2020/lib/python3.7/site-packages/pylogit/choice_tools.py:703: FutureWarning: arrays to stack must be passed as a \"sequence\" type such as list or tuple. Support for non-sequence iterables such as generators is deprecated as of NumPy 1.16 and will raise an error in the future.\n",
      "/Users/timsb/miniconda3/envs/causal2020/lib/python3.7/site-packages/pylogit/choice_tools.py:703: FutureWarning: arrays to stack must be passed as a \"sequence\" type such as list or tuple. Support for non-sequence iterables such as generators is deprecated as of NumPy 1.16 and will raise an error in the future.\n",
      "/Users/timsb/miniconda3/envs/causal2020/lib/python3.7/site-packages/pylogit/choice_tools.py:703: FutureWarning: arrays to stack must be passed as a \"sequence\" type such as list or tuple. Support for non-sequence iterables such as generators is deprecated as of NumPy 1.16 and will raise an error in the future.\n",
      "\n",
      "Simulating Choices:   0%|          | 0/3483 [00:00<?, ?it/s]\u001b[A"
     ]
    },
    {
     "name": "stdout",
     "output_type": "stream",
     "text": [
      "Converting data from wide to long...\n",
      "Simulating Choices...\n"
     ]
    },
    {
     "name": "stderr",
     "output_type": "stream",
     "text": [
      "Simulating Choices: 100%|██████████| 3483/3483 [00:00<00:00, 38289.04it/s]\n",
      "/Users/timsb/miniconda3/envs/causal2020/lib/python3.7/site-packages/pylogit/choice_tools.py:703: FutureWarning: arrays to stack must be passed as a \"sequence\" type such as list or tuple. Support for non-sequence iterables such as generators is deprecated as of NumPy 1.16 and will raise an error in the future.\n"
     ]
    },
    {
     "name": "stdout",
     "output_type": "stream",
     "text": [
      "Estimating the choice model...\n",
      "Estimating Causal Effects...\n",
      "Simulation number 63 is complete!\n",
      "==========================================\n",
      "==========================================\n",
      "Simulation number 64 of 200 is in progress...\n",
      "Simulation size is 3983\n",
      "------------------------------------------\n",
      "Simulating data...\n",
      "Simulating Availability...\n"
     ]
    },
    {
     "name": "stderr",
     "output_type": "stream",
     "text": [
      "/Users/timsb/miniconda3/envs/causal2020/lib/python3.7/site-packages/pylogit/choice_tools.py:703: FutureWarning: arrays to stack must be passed as a \"sequence\" type such as list or tuple. Support for non-sequence iterables such as generators is deprecated as of NumPy 1.16 and will raise an error in the future.\n",
      "/Users/timsb/miniconda3/envs/causal2020/lib/python3.7/site-packages/pylogit/choice_tools.py:703: FutureWarning: arrays to stack must be passed as a \"sequence\" type such as list or tuple. Support for non-sequence iterables such as generators is deprecated as of NumPy 1.16 and will raise an error in the future.\n",
      "Exception ignored in: <function tqdm.__del__ at 0x7fe05909bcb0>\n",
      "Traceback (most recent call last):\n",
      "  File \"/Users/timsb/miniconda3/envs/causal2020/lib/python3.7/site-packages/tqdm/std.py\", line 1124, in __del__\n",
      "    self.close()\n",
      "  File \"/Users/timsb/miniconda3/envs/causal2020/lib/python3.7/site-packages/tqdm/notebook.py\", line 271, in close\n",
      "    self.sp(bar_style='danger')\n",
      "AttributeError: 'tqdm_notebook' object has no attribute 'sp'\n",
      "/Users/timsb/miniconda3/envs/causal2020/lib/python3.7/site-packages/pylogit/choice_tools.py:703: FutureWarning: arrays to stack must be passed as a \"sequence\" type such as list or tuple. Support for non-sequence iterables such as generators is deprecated as of NumPy 1.16 and will raise an error in the future.\n",
      "/Users/timsb/miniconda3/envs/causal2020/lib/python3.7/site-packages/pylogit/choice_tools.py:703: FutureWarning: arrays to stack must be passed as a \"sequence\" type such as list or tuple. Support for non-sequence iterables such as generators is deprecated as of NumPy 1.16 and will raise an error in the future.\n",
      "/Users/timsb/miniconda3/envs/causal2020/lib/python3.7/site-packages/pylogit/choice_tools.py:703: FutureWarning: arrays to stack must be passed as a \"sequence\" type such as list or tuple. Support for non-sequence iterables such as generators is deprecated as of NumPy 1.16 and will raise an error in the future.\n",
      "\n",
      "Simulating Choices:   0%|          | 0/3983 [00:00<?, ?it/s]\u001b[A"
     ]
    },
    {
     "name": "stdout",
     "output_type": "stream",
     "text": [
      "Converting data from wide to long...\n",
      "Simulating Choices...\n"
     ]
    },
    {
     "name": "stderr",
     "output_type": "stream",
     "text": [
      "Simulating Choices: 100%|██████████| 3983/3983 [00:00<00:00, 40720.21it/s]\n",
      "/Users/timsb/miniconda3/envs/causal2020/lib/python3.7/site-packages/pylogit/choice_tools.py:703: FutureWarning: arrays to stack must be passed as a \"sequence\" type such as list or tuple. Support for non-sequence iterables such as generators is deprecated as of NumPy 1.16 and will raise an error in the future.\n"
     ]
    },
    {
     "name": "stdout",
     "output_type": "stream",
     "text": [
      "Estimating the choice model...\n",
      "Estimating Causal Effects...\n",
      "Simulation number 64 is complete!\n",
      "==========================================\n",
      "==========================================\n",
      "Simulation number 65 of 200 is in progress...\n",
      "Simulation size is 3795\n",
      "------------------------------------------\n",
      "Simulating data...\n",
      "Simulating Availability...\n"
     ]
    },
    {
     "name": "stderr",
     "output_type": "stream",
     "text": [
      "/Users/timsb/miniconda3/envs/causal2020/lib/python3.7/site-packages/pylogit/choice_tools.py:703: FutureWarning: arrays to stack must be passed as a \"sequence\" type such as list or tuple. Support for non-sequence iterables such as generators is deprecated as of NumPy 1.16 and will raise an error in the future.\n",
      "/Users/timsb/miniconda3/envs/causal2020/lib/python3.7/site-packages/pylogit/choice_tools.py:703: FutureWarning: arrays to stack must be passed as a \"sequence\" type such as list or tuple. Support for non-sequence iterables such as generators is deprecated as of NumPy 1.16 and will raise an error in the future.\n",
      "Exception ignored in: <function tqdm.__del__ at 0x7fe05909bcb0>\n",
      "Traceback (most recent call last):\n",
      "  File \"/Users/timsb/miniconda3/envs/causal2020/lib/python3.7/site-packages/tqdm/std.py\", line 1124, in __del__\n",
      "    self.close()\n",
      "  File \"/Users/timsb/miniconda3/envs/causal2020/lib/python3.7/site-packages/tqdm/notebook.py\", line 271, in close\n",
      "    self.sp(bar_style='danger')\n",
      "AttributeError: 'tqdm_notebook' object has no attribute 'sp'\n",
      "/Users/timsb/miniconda3/envs/causal2020/lib/python3.7/site-packages/pylogit/choice_tools.py:703: FutureWarning: arrays to stack must be passed as a \"sequence\" type such as list or tuple. Support for non-sequence iterables such as generators is deprecated as of NumPy 1.16 and will raise an error in the future.\n",
      "/Users/timsb/miniconda3/envs/causal2020/lib/python3.7/site-packages/pylogit/choice_tools.py:703: FutureWarning: arrays to stack must be passed as a \"sequence\" type such as list or tuple. Support for non-sequence iterables such as generators is deprecated as of NumPy 1.16 and will raise an error in the future.\n",
      "/Users/timsb/miniconda3/envs/causal2020/lib/python3.7/site-packages/pylogit/choice_tools.py:703: FutureWarning: arrays to stack must be passed as a \"sequence\" type such as list or tuple. Support for non-sequence iterables such as generators is deprecated as of NumPy 1.16 and will raise an error in the future.\n",
      "\n",
      "Simulating Choices:   0%|          | 0/3795 [00:00<?, ?it/s]\u001b[A"
     ]
    },
    {
     "name": "stdout",
     "output_type": "stream",
     "text": [
      "Converting data from wide to long...\n",
      "Simulating Choices...\n"
     ]
    },
    {
     "name": "stderr",
     "output_type": "stream",
     "text": [
      "Simulating Choices: 100%|██████████| 3795/3795 [00:00<00:00, 40874.07it/s]\n",
      "/Users/timsb/miniconda3/envs/causal2020/lib/python3.7/site-packages/pylogit/choice_tools.py:703: FutureWarning: arrays to stack must be passed as a \"sequence\" type such as list or tuple. Support for non-sequence iterables such as generators is deprecated as of NumPy 1.16 and will raise an error in the future.\n"
     ]
    },
    {
     "name": "stdout",
     "output_type": "stream",
     "text": [
      "Estimating the choice model...\n",
      "Estimating Causal Effects...\n",
      "Simulation number 65 is complete!\n",
      "==========================================\n",
      "==========================================\n",
      "Simulation number 66 of 200 is in progress...\n",
      "Simulation size is 3231\n",
      "------------------------------------------\n",
      "Simulating data...\n",
      "Simulating Availability...\n"
     ]
    },
    {
     "name": "stderr",
     "output_type": "stream",
     "text": [
      "/Users/timsb/miniconda3/envs/causal2020/lib/python3.7/site-packages/pylogit/choice_tools.py:703: FutureWarning: arrays to stack must be passed as a \"sequence\" type such as list or tuple. Support for non-sequence iterables such as generators is deprecated as of NumPy 1.16 and will raise an error in the future.\n",
      "/Users/timsb/miniconda3/envs/causal2020/lib/python3.7/site-packages/pylogit/choice_tools.py:703: FutureWarning: arrays to stack must be passed as a \"sequence\" type such as list or tuple. Support for non-sequence iterables such as generators is deprecated as of NumPy 1.16 and will raise an error in the future.\n",
      "Exception ignored in: <function tqdm.__del__ at 0x7fe05909bcb0>\n",
      "Traceback (most recent call last):\n",
      "  File \"/Users/timsb/miniconda3/envs/causal2020/lib/python3.7/site-packages/tqdm/std.py\", line 1124, in __del__\n",
      "    self.close()\n",
      "  File \"/Users/timsb/miniconda3/envs/causal2020/lib/python3.7/site-packages/tqdm/notebook.py\", line 271, in close\n",
      "    self.sp(bar_style='danger')\n",
      "AttributeError: 'tqdm_notebook' object has no attribute 'sp'\n",
      "/Users/timsb/miniconda3/envs/causal2020/lib/python3.7/site-packages/pylogit/choice_tools.py:703: FutureWarning: arrays to stack must be passed as a \"sequence\" type such as list or tuple. Support for non-sequence iterables such as generators is deprecated as of NumPy 1.16 and will raise an error in the future.\n",
      "/Users/timsb/miniconda3/envs/causal2020/lib/python3.7/site-packages/pylogit/choice_tools.py:703: FutureWarning: arrays to stack must be passed as a \"sequence\" type such as list or tuple. Support for non-sequence iterables such as generators is deprecated as of NumPy 1.16 and will raise an error in the future.\n",
      "/Users/timsb/miniconda3/envs/causal2020/lib/python3.7/site-packages/pylogit/choice_tools.py:703: FutureWarning: arrays to stack must be passed as a \"sequence\" type such as list or tuple. Support for non-sequence iterables such as generators is deprecated as of NumPy 1.16 and will raise an error in the future.\n",
      "\n",
      "Simulating Choices:   0%|          | 0/3231 [00:00<?, ?it/s]\u001b[A"
     ]
    },
    {
     "name": "stdout",
     "output_type": "stream",
     "text": [
      "Converting data from wide to long...\n",
      "Simulating Choices...\n"
     ]
    },
    {
     "name": "stderr",
     "output_type": "stream",
     "text": [
      "Simulating Choices: 100%|██████████| 3231/3231 [00:00<00:00, 37080.06it/s]\n",
      "/Users/timsb/miniconda3/envs/causal2020/lib/python3.7/site-packages/pylogit/choice_tools.py:703: FutureWarning: arrays to stack must be passed as a \"sequence\" type such as list or tuple. Support for non-sequence iterables such as generators is deprecated as of NumPy 1.16 and will raise an error in the future.\n"
     ]
    },
    {
     "name": "stdout",
     "output_type": "stream",
     "text": [
      "Estimating the choice model...\n",
      "Estimating Causal Effects...\n",
      "Simulation number 66 is complete!\n",
      "==========================================\n",
      "==========================================\n",
      "Simulation number 67 of 200 is in progress...\n",
      "Simulation size is 3335\n",
      "------------------------------------------\n",
      "Simulating data...\n",
      "Simulating Availability...\n"
     ]
    },
    {
     "name": "stderr",
     "output_type": "stream",
     "text": [
      "/Users/timsb/miniconda3/envs/causal2020/lib/python3.7/site-packages/pylogit/choice_tools.py:703: FutureWarning: arrays to stack must be passed as a \"sequence\" type such as list or tuple. Support for non-sequence iterables such as generators is deprecated as of NumPy 1.16 and will raise an error in the future.\n",
      "/Users/timsb/miniconda3/envs/causal2020/lib/python3.7/site-packages/pylogit/choice_tools.py:703: FutureWarning: arrays to stack must be passed as a \"sequence\" type such as list or tuple. Support for non-sequence iterables such as generators is deprecated as of NumPy 1.16 and will raise an error in the future.\n",
      "Exception ignored in: <function tqdm.__del__ at 0x7fe05909bcb0>\n",
      "Traceback (most recent call last):\n",
      "  File \"/Users/timsb/miniconda3/envs/causal2020/lib/python3.7/site-packages/tqdm/std.py\", line 1124, in __del__\n",
      "    self.close()\n",
      "  File \"/Users/timsb/miniconda3/envs/causal2020/lib/python3.7/site-packages/tqdm/notebook.py\", line 271, in close\n",
      "    self.sp(bar_style='danger')\n",
      "AttributeError: 'tqdm_notebook' object has no attribute 'sp'\n",
      "/Users/timsb/miniconda3/envs/causal2020/lib/python3.7/site-packages/pylogit/choice_tools.py:703: FutureWarning: arrays to stack must be passed as a \"sequence\" type such as list or tuple. Support for non-sequence iterables such as generators is deprecated as of NumPy 1.16 and will raise an error in the future.\n",
      "/Users/timsb/miniconda3/envs/causal2020/lib/python3.7/site-packages/pylogit/choice_tools.py:703: FutureWarning: arrays to stack must be passed as a \"sequence\" type such as list or tuple. Support for non-sequence iterables such as generators is deprecated as of NumPy 1.16 and will raise an error in the future.\n",
      "/Users/timsb/miniconda3/envs/causal2020/lib/python3.7/site-packages/pylogit/choice_tools.py:703: FutureWarning: arrays to stack must be passed as a \"sequence\" type such as list or tuple. Support for non-sequence iterables such as generators is deprecated as of NumPy 1.16 and will raise an error in the future.\n",
      "\n",
      "Simulating Choices:   0%|          | 0/3335 [00:00<?, ?it/s]\u001b[A"
     ]
    },
    {
     "name": "stdout",
     "output_type": "stream",
     "text": [
      "Converting data from wide to long...\n",
      "Simulating Choices...\n"
     ]
    },
    {
     "name": "stderr",
     "output_type": "stream",
     "text": [
      "Simulating Choices: 100%|██████████| 3335/3335 [00:00<00:00, 37189.18it/s]\n",
      "/Users/timsb/miniconda3/envs/causal2020/lib/python3.7/site-packages/pylogit/choice_tools.py:703: FutureWarning: arrays to stack must be passed as a \"sequence\" type such as list or tuple. Support for non-sequence iterables such as generators is deprecated as of NumPy 1.16 and will raise an error in the future.\n"
     ]
    },
    {
     "name": "stdout",
     "output_type": "stream",
     "text": [
      "Estimating the choice model...\n",
      "Estimating Causal Effects...\n",
      "Simulation number 67 is complete!\n",
      "==========================================\n",
      "==========================================\n",
      "Simulation number 68 of 200 is in progress...\n",
      "Simulation size is 3142\n",
      "------------------------------------------\n",
      "Simulating data...\n",
      "Simulating Availability...\n"
     ]
    },
    {
     "name": "stderr",
     "output_type": "stream",
     "text": [
      "/Users/timsb/miniconda3/envs/causal2020/lib/python3.7/site-packages/pylogit/choice_tools.py:703: FutureWarning: arrays to stack must be passed as a \"sequence\" type such as list or tuple. Support for non-sequence iterables such as generators is deprecated as of NumPy 1.16 and will raise an error in the future.\n",
      "/Users/timsb/miniconda3/envs/causal2020/lib/python3.7/site-packages/pylogit/choice_tools.py:703: FutureWarning: arrays to stack must be passed as a \"sequence\" type such as list or tuple. Support for non-sequence iterables such as generators is deprecated as of NumPy 1.16 and will raise an error in the future.\n",
      "Exception ignored in: <function tqdm.__del__ at 0x7fe05909bcb0>\n",
      "Traceback (most recent call last):\n",
      "  File \"/Users/timsb/miniconda3/envs/causal2020/lib/python3.7/site-packages/tqdm/std.py\", line 1124, in __del__\n",
      "    self.close()\n",
      "  File \"/Users/timsb/miniconda3/envs/causal2020/lib/python3.7/site-packages/tqdm/notebook.py\", line 271, in close\n",
      "    self.sp(bar_style='danger')\n",
      "AttributeError: 'tqdm_notebook' object has no attribute 'sp'\n",
      "/Users/timsb/miniconda3/envs/causal2020/lib/python3.7/site-packages/pylogit/choice_tools.py:703: FutureWarning: arrays to stack must be passed as a \"sequence\" type such as list or tuple. Support for non-sequence iterables such as generators is deprecated as of NumPy 1.16 and will raise an error in the future.\n",
      "/Users/timsb/miniconda3/envs/causal2020/lib/python3.7/site-packages/pylogit/choice_tools.py:703: FutureWarning: arrays to stack must be passed as a \"sequence\" type such as list or tuple. Support for non-sequence iterables such as generators is deprecated as of NumPy 1.16 and will raise an error in the future.\n",
      "/Users/timsb/miniconda3/envs/causal2020/lib/python3.7/site-packages/pylogit/choice_tools.py:703: FutureWarning: arrays to stack must be passed as a \"sequence\" type such as list or tuple. Support for non-sequence iterables such as generators is deprecated as of NumPy 1.16 and will raise an error in the future.\n",
      "\n",
      "Simulating Choices:   0%|          | 0/3142 [00:00<?, ?it/s]\u001b[A"
     ]
    },
    {
     "name": "stdout",
     "output_type": "stream",
     "text": [
      "Converting data from wide to long...\n",
      "Simulating Choices...\n"
     ]
    },
    {
     "name": "stderr",
     "output_type": "stream",
     "text": [
      "Simulating Choices: 100%|██████████| 3142/3142 [00:00<00:00, 38156.53it/s]\n",
      "/Users/timsb/miniconda3/envs/causal2020/lib/python3.7/site-packages/pylogit/choice_tools.py:703: FutureWarning: arrays to stack must be passed as a \"sequence\" type such as list or tuple. Support for non-sequence iterables such as generators is deprecated as of NumPy 1.16 and will raise an error in the future.\n"
     ]
    },
    {
     "name": "stdout",
     "output_type": "stream",
     "text": [
      "Estimating the choice model...\n",
      "Estimating Causal Effects...\n",
      "Simulation number 68 is complete!\n",
      "==========================================\n",
      "==========================================\n",
      "Simulation number 69 of 200 is in progress...\n",
      "Simulation size is 3701\n",
      "------------------------------------------\n",
      "Simulating data...\n",
      "Simulating Availability...\n"
     ]
    },
    {
     "name": "stderr",
     "output_type": "stream",
     "text": [
      "/Users/timsb/miniconda3/envs/causal2020/lib/python3.7/site-packages/pylogit/choice_tools.py:703: FutureWarning: arrays to stack must be passed as a \"sequence\" type such as list or tuple. Support for non-sequence iterables such as generators is deprecated as of NumPy 1.16 and will raise an error in the future.\n",
      "/Users/timsb/miniconda3/envs/causal2020/lib/python3.7/site-packages/pylogit/choice_tools.py:703: FutureWarning: arrays to stack must be passed as a \"sequence\" type such as list or tuple. Support for non-sequence iterables such as generators is deprecated as of NumPy 1.16 and will raise an error in the future.\n",
      "Exception ignored in: <function tqdm.__del__ at 0x7fe05909bcb0>\n",
      "Traceback (most recent call last):\n",
      "  File \"/Users/timsb/miniconda3/envs/causal2020/lib/python3.7/site-packages/tqdm/std.py\", line 1124, in __del__\n",
      "    self.close()\n",
      "  File \"/Users/timsb/miniconda3/envs/causal2020/lib/python3.7/site-packages/tqdm/notebook.py\", line 271, in close\n",
      "    self.sp(bar_style='danger')\n",
      "AttributeError: 'tqdm_notebook' object has no attribute 'sp'\n",
      "/Users/timsb/miniconda3/envs/causal2020/lib/python3.7/site-packages/pylogit/choice_tools.py:703: FutureWarning: arrays to stack must be passed as a \"sequence\" type such as list or tuple. Support for non-sequence iterables such as generators is deprecated as of NumPy 1.16 and will raise an error in the future.\n",
      "/Users/timsb/miniconda3/envs/causal2020/lib/python3.7/site-packages/pylogit/choice_tools.py:703: FutureWarning: arrays to stack must be passed as a \"sequence\" type such as list or tuple. Support for non-sequence iterables such as generators is deprecated as of NumPy 1.16 and will raise an error in the future.\n",
      "/Users/timsb/miniconda3/envs/causal2020/lib/python3.7/site-packages/pylogit/choice_tools.py:703: FutureWarning: arrays to stack must be passed as a \"sequence\" type such as list or tuple. Support for non-sequence iterables such as generators is deprecated as of NumPy 1.16 and will raise an error in the future.\n",
      "\n",
      "Simulating Choices:   0%|          | 0/3701 [00:00<?, ?it/s]\u001b[A"
     ]
    },
    {
     "name": "stdout",
     "output_type": "stream",
     "text": [
      "Converting data from wide to long...\n",
      "Simulating Choices...\n"
     ]
    },
    {
     "name": "stderr",
     "output_type": "stream",
     "text": [
      "Simulating Choices: 100%|██████████| 3701/3701 [00:00<00:00, 38932.09it/s]\n",
      "/Users/timsb/miniconda3/envs/causal2020/lib/python3.7/site-packages/pylogit/choice_tools.py:703: FutureWarning: arrays to stack must be passed as a \"sequence\" type such as list or tuple. Support for non-sequence iterables such as generators is deprecated as of NumPy 1.16 and will raise an error in the future.\n"
     ]
    },
    {
     "name": "stdout",
     "output_type": "stream",
     "text": [
      "Estimating the choice model...\n",
      "Estimating Causal Effects...\n",
      "Simulation number 69 is complete!\n",
      "==========================================\n",
      "==========================================\n",
      "Simulation number 70 of 200 is in progress...\n",
      "Simulation size is 3039\n",
      "------------------------------------------\n",
      "Simulating data...\n",
      "Simulating Availability...\n"
     ]
    },
    {
     "name": "stderr",
     "output_type": "stream",
     "text": [
      "/Users/timsb/miniconda3/envs/causal2020/lib/python3.7/site-packages/pylogit/choice_tools.py:703: FutureWarning: arrays to stack must be passed as a \"sequence\" type such as list or tuple. Support for non-sequence iterables such as generators is deprecated as of NumPy 1.16 and will raise an error in the future.\n",
      "/Users/timsb/miniconda3/envs/causal2020/lib/python3.7/site-packages/pylogit/choice_tools.py:703: FutureWarning: arrays to stack must be passed as a \"sequence\" type such as list or tuple. Support for non-sequence iterables such as generators is deprecated as of NumPy 1.16 and will raise an error in the future.\n",
      "Exception ignored in: <function tqdm.__del__ at 0x7fe05909bcb0>\n",
      "Traceback (most recent call last):\n",
      "  File \"/Users/timsb/miniconda3/envs/causal2020/lib/python3.7/site-packages/tqdm/std.py\", line 1124, in __del__\n",
      "    self.close()\n",
      "  File \"/Users/timsb/miniconda3/envs/causal2020/lib/python3.7/site-packages/tqdm/notebook.py\", line 271, in close\n",
      "    self.sp(bar_style='danger')\n",
      "AttributeError: 'tqdm_notebook' object has no attribute 'sp'\n",
      "/Users/timsb/miniconda3/envs/causal2020/lib/python3.7/site-packages/pylogit/choice_tools.py:703: FutureWarning: arrays to stack must be passed as a \"sequence\" type such as list or tuple. Support for non-sequence iterables such as generators is deprecated as of NumPy 1.16 and will raise an error in the future.\n",
      "/Users/timsb/miniconda3/envs/causal2020/lib/python3.7/site-packages/pylogit/choice_tools.py:703: FutureWarning: arrays to stack must be passed as a \"sequence\" type such as list or tuple. Support for non-sequence iterables such as generators is deprecated as of NumPy 1.16 and will raise an error in the future.\n",
      "/Users/timsb/miniconda3/envs/causal2020/lib/python3.7/site-packages/pylogit/choice_tools.py:703: FutureWarning: arrays to stack must be passed as a \"sequence\" type such as list or tuple. Support for non-sequence iterables such as generators is deprecated as of NumPy 1.16 and will raise an error in the future.\n",
      "\n",
      "Simulating Choices:   0%|          | 0/3039 [00:00<?, ?it/s]\u001b[A"
     ]
    },
    {
     "name": "stdout",
     "output_type": "stream",
     "text": [
      "Converting data from wide to long...\n",
      "Simulating Choices...\n"
     ]
    },
    {
     "name": "stderr",
     "output_type": "stream",
     "text": [
      "Simulating Choices: 100%|██████████| 3039/3039 [00:00<00:00, 38445.04it/s]\n",
      "/Users/timsb/miniconda3/envs/causal2020/lib/python3.7/site-packages/pylogit/choice_tools.py:703: FutureWarning: arrays to stack must be passed as a \"sequence\" type such as list or tuple. Support for non-sequence iterables such as generators is deprecated as of NumPy 1.16 and will raise an error in the future.\n",
      "/Users/timsb/miniconda3/envs/causal2020/lib/python3.7/site-packages/pylogit/choice_tools.py:703: FutureWarning: arrays to stack must be passed as a \"sequence\" type such as list or tuple. Support for non-sequence iterables such as generators is deprecated as of NumPy 1.16 and will raise an error in the future.\n"
     ]
    },
    {
     "name": "stdout",
     "output_type": "stream",
     "text": [
      "Estimating the choice model...\n",
      "Estimating Causal Effects...\n"
     ]
    },
    {
     "name": "stderr",
     "output_type": "stream",
     "text": [
      "/Users/timsb/miniconda3/envs/causal2020/lib/python3.7/site-packages/pylogit/choice_tools.py:703: FutureWarning: arrays to stack must be passed as a \"sequence\" type such as list or tuple. Support for non-sequence iterables such as generators is deprecated as of NumPy 1.16 and will raise an error in the future.\n",
      "Exception ignored in: <function tqdm.__del__ at 0x7fe05909bcb0>\n",
      "Traceback (most recent call last):\n",
      "  File \"/Users/timsb/miniconda3/envs/causal2020/lib/python3.7/site-packages/tqdm/std.py\", line 1124, in __del__\n",
      "    self.close()\n",
      "  File \"/Users/timsb/miniconda3/envs/causal2020/lib/python3.7/site-packages/tqdm/notebook.py\", line 271, in close\n",
      "    self.sp(bar_style='danger')\n",
      "AttributeError: 'tqdm_notebook' object has no attribute 'sp'\n",
      "/Users/timsb/miniconda3/envs/causal2020/lib/python3.7/site-packages/pylogit/choice_tools.py:703: FutureWarning: arrays to stack must be passed as a \"sequence\" type such as list or tuple. Support for non-sequence iterables such as generators is deprecated as of NumPy 1.16 and will raise an error in the future.\n",
      "/Users/timsb/miniconda3/envs/causal2020/lib/python3.7/site-packages/pylogit/choice_tools.py:703: FutureWarning: arrays to stack must be passed as a \"sequence\" type such as list or tuple. Support for non-sequence iterables such as generators is deprecated as of NumPy 1.16 and will raise an error in the future.\n"
     ]
    },
    {
     "name": "stdout",
     "output_type": "stream",
     "text": [
      "Simulation number 70 is complete!\n",
      "==========================================\n",
      "==========================================\n",
      "Simulation number 71 of 200 is in progress...\n",
      "Simulation size is 3692\n",
      "------------------------------------------\n",
      "Simulating data...\n",
      "Simulating Availability...\n"
     ]
    },
    {
     "name": "stderr",
     "output_type": "stream",
     "text": [
      "/Users/timsb/miniconda3/envs/causal2020/lib/python3.7/site-packages/pylogit/choice_tools.py:703: FutureWarning: arrays to stack must be passed as a \"sequence\" type such as list or tuple. Support for non-sequence iterables such as generators is deprecated as of NumPy 1.16 and will raise an error in the future.\n",
      "\n",
      "Simulating Choices:   0%|          | 0/3692 [00:00<?, ?it/s]\u001b[A"
     ]
    },
    {
     "name": "stdout",
     "output_type": "stream",
     "text": [
      "Converting data from wide to long...\n",
      "Simulating Choices...\n"
     ]
    },
    {
     "name": "stderr",
     "output_type": "stream",
     "text": [
      "Simulating Choices: 100%|██████████| 3692/3692 [00:00<00:00, 38222.65it/s]\n",
      "/Users/timsb/miniconda3/envs/causal2020/lib/python3.7/site-packages/pylogit/choice_tools.py:703: FutureWarning: arrays to stack must be passed as a \"sequence\" type such as list or tuple. Support for non-sequence iterables such as generators is deprecated as of NumPy 1.16 and will raise an error in the future.\n"
     ]
    },
    {
     "name": "stdout",
     "output_type": "stream",
     "text": [
      "Estimating the choice model...\n",
      "Estimating Causal Effects...\n",
      "Simulation number 71 is complete!\n",
      "==========================================\n",
      "==========================================\n",
      "Simulation number 72 of 200 is in progress...\n",
      "Simulation size is 3558\n",
      "------------------------------------------\n",
      "Simulating data...\n",
      "Simulating Availability...\n"
     ]
    },
    {
     "name": "stderr",
     "output_type": "stream",
     "text": [
      "/Users/timsb/miniconda3/envs/causal2020/lib/python3.7/site-packages/pylogit/choice_tools.py:703: FutureWarning: arrays to stack must be passed as a \"sequence\" type such as list or tuple. Support for non-sequence iterables such as generators is deprecated as of NumPy 1.16 and will raise an error in the future.\n",
      "/Users/timsb/miniconda3/envs/causal2020/lib/python3.7/site-packages/pylogit/choice_tools.py:703: FutureWarning: arrays to stack must be passed as a \"sequence\" type such as list or tuple. Support for non-sequence iterables such as generators is deprecated as of NumPy 1.16 and will raise an error in the future.\n",
      "Exception ignored in: <function tqdm.__del__ at 0x7fe05909bcb0>\n",
      "Traceback (most recent call last):\n",
      "  File \"/Users/timsb/miniconda3/envs/causal2020/lib/python3.7/site-packages/tqdm/std.py\", line 1124, in __del__\n",
      "    self.close()\n",
      "  File \"/Users/timsb/miniconda3/envs/causal2020/lib/python3.7/site-packages/tqdm/notebook.py\", line 271, in close\n",
      "    self.sp(bar_style='danger')\n",
      "AttributeError: 'tqdm_notebook' object has no attribute 'sp'\n",
      "/Users/timsb/miniconda3/envs/causal2020/lib/python3.7/site-packages/pylogit/choice_tools.py:703: FutureWarning: arrays to stack must be passed as a \"sequence\" type such as list or tuple. Support for non-sequence iterables such as generators is deprecated as of NumPy 1.16 and will raise an error in the future.\n",
      "/Users/timsb/miniconda3/envs/causal2020/lib/python3.7/site-packages/pylogit/choice_tools.py:703: FutureWarning: arrays to stack must be passed as a \"sequence\" type such as list or tuple. Support for non-sequence iterables such as generators is deprecated as of NumPy 1.16 and will raise an error in the future.\n",
      "/Users/timsb/miniconda3/envs/causal2020/lib/python3.7/site-packages/pylogit/choice_tools.py:703: FutureWarning: arrays to stack must be passed as a \"sequence\" type such as list or tuple. Support for non-sequence iterables such as generators is deprecated as of NumPy 1.16 and will raise an error in the future.\n",
      "\n",
      "Simulating Choices:   0%|          | 0/3558 [00:00<?, ?it/s]\u001b[A"
     ]
    },
    {
     "name": "stdout",
     "output_type": "stream",
     "text": [
      "Converting data from wide to long...\n",
      "Simulating Choices...\n"
     ]
    },
    {
     "name": "stderr",
     "output_type": "stream",
     "text": [
      "Simulating Choices: 100%|██████████| 3558/3558 [00:00<00:00, 36617.45it/s]\n",
      "/Users/timsb/miniconda3/envs/causal2020/lib/python3.7/site-packages/pylogit/choice_tools.py:703: FutureWarning: arrays to stack must be passed as a \"sequence\" type such as list or tuple. Support for non-sequence iterables such as generators is deprecated as of NumPy 1.16 and will raise an error in the future.\n"
     ]
    },
    {
     "name": "stdout",
     "output_type": "stream",
     "text": [
      "Estimating the choice model...\n",
      "Estimating Causal Effects...\n",
      "Simulation number 72 is complete!\n",
      "==========================================\n",
      "==========================================\n",
      "Simulation number 73 of 200 is in progress...\n",
      "Simulation size is 3666\n",
      "------------------------------------------\n",
      "Simulating data...\n",
      "Simulating Availability...\n"
     ]
    },
    {
     "name": "stderr",
     "output_type": "stream",
     "text": [
      "/Users/timsb/miniconda3/envs/causal2020/lib/python3.7/site-packages/pylogit/choice_tools.py:703: FutureWarning: arrays to stack must be passed as a \"sequence\" type such as list or tuple. Support for non-sequence iterables such as generators is deprecated as of NumPy 1.16 and will raise an error in the future.\n",
      "/Users/timsb/miniconda3/envs/causal2020/lib/python3.7/site-packages/pylogit/choice_tools.py:703: FutureWarning: arrays to stack must be passed as a \"sequence\" type such as list or tuple. Support for non-sequence iterables such as generators is deprecated as of NumPy 1.16 and will raise an error in the future.\n",
      "Exception ignored in: <function tqdm.__del__ at 0x7fe05909bcb0>\n",
      "Traceback (most recent call last):\n",
      "  File \"/Users/timsb/miniconda3/envs/causal2020/lib/python3.7/site-packages/tqdm/std.py\", line 1124, in __del__\n",
      "    self.close()\n",
      "  File \"/Users/timsb/miniconda3/envs/causal2020/lib/python3.7/site-packages/tqdm/notebook.py\", line 271, in close\n",
      "    self.sp(bar_style='danger')\n",
      "AttributeError: 'tqdm_notebook' object has no attribute 'sp'\n",
      "/Users/timsb/miniconda3/envs/causal2020/lib/python3.7/site-packages/pylogit/choice_tools.py:703: FutureWarning: arrays to stack must be passed as a \"sequence\" type such as list or tuple. Support for non-sequence iterables such as generators is deprecated as of NumPy 1.16 and will raise an error in the future.\n",
      "/Users/timsb/miniconda3/envs/causal2020/lib/python3.7/site-packages/pylogit/choice_tools.py:703: FutureWarning: arrays to stack must be passed as a \"sequence\" type such as list or tuple. Support for non-sequence iterables such as generators is deprecated as of NumPy 1.16 and will raise an error in the future.\n",
      "/Users/timsb/miniconda3/envs/causal2020/lib/python3.7/site-packages/pylogit/choice_tools.py:703: FutureWarning: arrays to stack must be passed as a \"sequence\" type such as list or tuple. Support for non-sequence iterables such as generators is deprecated as of NumPy 1.16 and will raise an error in the future.\n",
      "\n",
      "Simulating Choices:   0%|          | 0/3666 [00:00<?, ?it/s]\u001b[A"
     ]
    },
    {
     "name": "stdout",
     "output_type": "stream",
     "text": [
      "Converting data from wide to long...\n",
      "Simulating Choices...\n"
     ]
    },
    {
     "name": "stderr",
     "output_type": "stream",
     "text": [
      "Simulating Choices: 100%|██████████| 3666/3666 [00:00<00:00, 38235.19it/s]\n",
      "/Users/timsb/miniconda3/envs/causal2020/lib/python3.7/site-packages/pylogit/choice_tools.py:703: FutureWarning: arrays to stack must be passed as a \"sequence\" type such as list or tuple. Support for non-sequence iterables such as generators is deprecated as of NumPy 1.16 and will raise an error in the future.\n"
     ]
    },
    {
     "name": "stdout",
     "output_type": "stream",
     "text": [
      "Estimating the choice model...\n",
      "Estimating Causal Effects...\n",
      "Simulation number 73 is complete!\n",
      "==========================================\n",
      "==========================================\n",
      "Simulation number 74 of 200 is in progress...\n",
      "Simulation size is 3702\n",
      "------------------------------------------\n",
      "Simulating data...\n",
      "Simulating Availability...\n"
     ]
    },
    {
     "name": "stderr",
     "output_type": "stream",
     "text": [
      "/Users/timsb/miniconda3/envs/causal2020/lib/python3.7/site-packages/pylogit/choice_tools.py:703: FutureWarning: arrays to stack must be passed as a \"sequence\" type such as list or tuple. Support for non-sequence iterables such as generators is deprecated as of NumPy 1.16 and will raise an error in the future.\n",
      "/Users/timsb/miniconda3/envs/causal2020/lib/python3.7/site-packages/pylogit/choice_tools.py:703: FutureWarning: arrays to stack must be passed as a \"sequence\" type such as list or tuple. Support for non-sequence iterables such as generators is deprecated as of NumPy 1.16 and will raise an error in the future.\n",
      "Exception ignored in: <function tqdm.__del__ at 0x7fe05909bcb0>\n",
      "Traceback (most recent call last):\n",
      "  File \"/Users/timsb/miniconda3/envs/causal2020/lib/python3.7/site-packages/tqdm/std.py\", line 1124, in __del__\n",
      "    self.close()\n",
      "  File \"/Users/timsb/miniconda3/envs/causal2020/lib/python3.7/site-packages/tqdm/notebook.py\", line 271, in close\n",
      "    self.sp(bar_style='danger')\n",
      "AttributeError: 'tqdm_notebook' object has no attribute 'sp'\n",
      "/Users/timsb/miniconda3/envs/causal2020/lib/python3.7/site-packages/pylogit/choice_tools.py:703: FutureWarning: arrays to stack must be passed as a \"sequence\" type such as list or tuple. Support for non-sequence iterables such as generators is deprecated as of NumPy 1.16 and will raise an error in the future.\n",
      "/Users/timsb/miniconda3/envs/causal2020/lib/python3.7/site-packages/pylogit/choice_tools.py:703: FutureWarning: arrays to stack must be passed as a \"sequence\" type such as list or tuple. Support for non-sequence iterables such as generators is deprecated as of NumPy 1.16 and will raise an error in the future.\n"
     ]
    },
    {
     "name": "stdout",
     "output_type": "stream",
     "text": [
      "Converting data from wide to long...\n",
      "Simulating Choices...\n"
     ]
    },
    {
     "name": "stderr",
     "output_type": "stream",
     "text": [
      "/Users/timsb/miniconda3/envs/causal2020/lib/python3.7/site-packages/pylogit/choice_tools.py:703: FutureWarning: arrays to stack must be passed as a \"sequence\" type such as list or tuple. Support for non-sequence iterables such as generators is deprecated as of NumPy 1.16 and will raise an error in the future.\n",
      "\n",
      "Simulating Choices: 100%|██████████| 3702/3702 [00:00<00:00, 40286.00it/s]\n",
      "/Users/timsb/miniconda3/envs/causal2020/lib/python3.7/site-packages/pylogit/choice_tools.py:703: FutureWarning: arrays to stack must be passed as a \"sequence\" type such as list or tuple. Support for non-sequence iterables such as generators is deprecated as of NumPy 1.16 and will raise an error in the future.\n"
     ]
    },
    {
     "name": "stdout",
     "output_type": "stream",
     "text": [
      "Estimating the choice model...\n",
      "Estimating Causal Effects...\n",
      "Simulation number 74 is complete!\n",
      "==========================================\n",
      "==========================================\n",
      "Simulation number 75 of 200 is in progress...\n",
      "Simulation size is 3698\n",
      "------------------------------------------\n",
      "Simulating data...\n",
      "Simulating Availability...\n"
     ]
    },
    {
     "name": "stderr",
     "output_type": "stream",
     "text": [
      "/Users/timsb/miniconda3/envs/causal2020/lib/python3.7/site-packages/pylogit/choice_tools.py:703: FutureWarning: arrays to stack must be passed as a \"sequence\" type such as list or tuple. Support for non-sequence iterables such as generators is deprecated as of NumPy 1.16 and will raise an error in the future.\n",
      "/Users/timsb/miniconda3/envs/causal2020/lib/python3.7/site-packages/pylogit/choice_tools.py:703: FutureWarning: arrays to stack must be passed as a \"sequence\" type such as list or tuple. Support for non-sequence iterables such as generators is deprecated as of NumPy 1.16 and will raise an error in the future.\n",
      "Exception ignored in: <function tqdm.__del__ at 0x7fe05909bcb0>\n",
      "Traceback (most recent call last):\n",
      "  File \"/Users/timsb/miniconda3/envs/causal2020/lib/python3.7/site-packages/tqdm/std.py\", line 1124, in __del__\n",
      "    self.close()\n",
      "  File \"/Users/timsb/miniconda3/envs/causal2020/lib/python3.7/site-packages/tqdm/notebook.py\", line 271, in close\n",
      "    self.sp(bar_style='danger')\n",
      "AttributeError: 'tqdm_notebook' object has no attribute 'sp'\n",
      "/Users/timsb/miniconda3/envs/causal2020/lib/python3.7/site-packages/pylogit/choice_tools.py:703: FutureWarning: arrays to stack must be passed as a \"sequence\" type such as list or tuple. Support for non-sequence iterables such as generators is deprecated as of NumPy 1.16 and will raise an error in the future.\n",
      "/Users/timsb/miniconda3/envs/causal2020/lib/python3.7/site-packages/pylogit/choice_tools.py:703: FutureWarning: arrays to stack must be passed as a \"sequence\" type such as list or tuple. Support for non-sequence iterables such as generators is deprecated as of NumPy 1.16 and will raise an error in the future.\n",
      "/Users/timsb/miniconda3/envs/causal2020/lib/python3.7/site-packages/pylogit/choice_tools.py:703: FutureWarning: arrays to stack must be passed as a \"sequence\" type such as list or tuple. Support for non-sequence iterables such as generators is deprecated as of NumPy 1.16 and will raise an error in the future.\n",
      "\n",
      "Simulating Choices:   0%|          | 0/3698 [00:00<?, ?it/s]\u001b[A"
     ]
    },
    {
     "name": "stdout",
     "output_type": "stream",
     "text": [
      "Converting data from wide to long...\n",
      "Simulating Choices...\n"
     ]
    },
    {
     "name": "stderr",
     "output_type": "stream",
     "text": [
      "Simulating Choices: 100%|██████████| 3698/3698 [00:00<00:00, 38924.64it/s]\n",
      "/Users/timsb/miniconda3/envs/causal2020/lib/python3.7/site-packages/pylogit/choice_tools.py:703: FutureWarning: arrays to stack must be passed as a \"sequence\" type such as list or tuple. Support for non-sequence iterables such as generators is deprecated as of NumPy 1.16 and will raise an error in the future.\n"
     ]
    },
    {
     "name": "stdout",
     "output_type": "stream",
     "text": [
      "Estimating the choice model...\n",
      "Estimating Causal Effects...\n",
      "Simulation number 75 is complete!\n",
      "==========================================\n",
      "==========================================\n",
      "Simulation number 76 of 200 is in progress...\n",
      "Simulation size is 3775\n",
      "------------------------------------------\n",
      "Simulating data...\n",
      "Simulating Availability...\n"
     ]
    },
    {
     "name": "stderr",
     "output_type": "stream",
     "text": [
      "/Users/timsb/miniconda3/envs/causal2020/lib/python3.7/site-packages/pylogit/choice_tools.py:703: FutureWarning: arrays to stack must be passed as a \"sequence\" type such as list or tuple. Support for non-sequence iterables such as generators is deprecated as of NumPy 1.16 and will raise an error in the future.\n",
      "/Users/timsb/miniconda3/envs/causal2020/lib/python3.7/site-packages/pylogit/choice_tools.py:703: FutureWarning: arrays to stack must be passed as a \"sequence\" type such as list or tuple. Support for non-sequence iterables such as generators is deprecated as of NumPy 1.16 and will raise an error in the future.\n",
      "Exception ignored in: <function tqdm.__del__ at 0x7fe05909bcb0>\n",
      "Traceback (most recent call last):\n",
      "  File \"/Users/timsb/miniconda3/envs/causal2020/lib/python3.7/site-packages/tqdm/std.py\", line 1124, in __del__\n",
      "    self.close()\n",
      "  File \"/Users/timsb/miniconda3/envs/causal2020/lib/python3.7/site-packages/tqdm/notebook.py\", line 271, in close\n",
      "    self.sp(bar_style='danger')\n",
      "AttributeError: 'tqdm_notebook' object has no attribute 'sp'\n",
      "/Users/timsb/miniconda3/envs/causal2020/lib/python3.7/site-packages/pylogit/choice_tools.py:703: FutureWarning: arrays to stack must be passed as a \"sequence\" type such as list or tuple. Support for non-sequence iterables such as generators is deprecated as of NumPy 1.16 and will raise an error in the future.\n",
      "/Users/timsb/miniconda3/envs/causal2020/lib/python3.7/site-packages/pylogit/choice_tools.py:703: FutureWarning: arrays to stack must be passed as a \"sequence\" type such as list or tuple. Support for non-sequence iterables such as generators is deprecated as of NumPy 1.16 and will raise an error in the future.\n",
      "/Users/timsb/miniconda3/envs/causal2020/lib/python3.7/site-packages/pylogit/choice_tools.py:703: FutureWarning: arrays to stack must be passed as a \"sequence\" type such as list or tuple. Support for non-sequence iterables such as generators is deprecated as of NumPy 1.16 and will raise an error in the future.\n",
      "\n",
      "Simulating Choices:   0%|          | 0/3775 [00:00<?, ?it/s]\u001b[A"
     ]
    },
    {
     "name": "stdout",
     "output_type": "stream",
     "text": [
      "Converting data from wide to long...\n",
      "Simulating Choices...\n"
     ]
    },
    {
     "name": "stderr",
     "output_type": "stream",
     "text": [
      "\n",
      "Simulating Choices: 100%|██████████| 3775/3775 [00:00<00:00, 32919.11it/s]\u001b[A\n",
      "/Users/timsb/miniconda3/envs/causal2020/lib/python3.7/site-packages/pylogit/choice_tools.py:703: FutureWarning: arrays to stack must be passed as a \"sequence\" type such as list or tuple. Support for non-sequence iterables such as generators is deprecated as of NumPy 1.16 and will raise an error in the future.\n"
     ]
    },
    {
     "name": "stdout",
     "output_type": "stream",
     "text": [
      "Estimating the choice model...\n",
      "Estimating Causal Effects...\n",
      "Simulation number 76 is complete!\n",
      "==========================================\n",
      "==========================================\n",
      "Simulation number 77 of 200 is in progress...\n",
      "Simulation size is 3606\n",
      "------------------------------------------\n",
      "Simulating data...\n",
      "Simulating Availability...\n"
     ]
    },
    {
     "name": "stderr",
     "output_type": "stream",
     "text": [
      "/Users/timsb/miniconda3/envs/causal2020/lib/python3.7/site-packages/pylogit/choice_tools.py:703: FutureWarning: arrays to stack must be passed as a \"sequence\" type such as list or tuple. Support for non-sequence iterables such as generators is deprecated as of NumPy 1.16 and will raise an error in the future.\n",
      "/Users/timsb/miniconda3/envs/causal2020/lib/python3.7/site-packages/pylogit/choice_tools.py:703: FutureWarning: arrays to stack must be passed as a \"sequence\" type such as list or tuple. Support for non-sequence iterables such as generators is deprecated as of NumPy 1.16 and will raise an error in the future.\n",
      "Exception ignored in: <function tqdm.__del__ at 0x7fe05909bcb0>\n",
      "Traceback (most recent call last):\n",
      "  File \"/Users/timsb/miniconda3/envs/causal2020/lib/python3.7/site-packages/tqdm/std.py\", line 1124, in __del__\n",
      "    self.close()\n",
      "  File \"/Users/timsb/miniconda3/envs/causal2020/lib/python3.7/site-packages/tqdm/notebook.py\", line 271, in close\n",
      "    self.sp(bar_style='danger')\n",
      "AttributeError: 'tqdm_notebook' object has no attribute 'sp'\n",
      "/Users/timsb/miniconda3/envs/causal2020/lib/python3.7/site-packages/pylogit/choice_tools.py:703: FutureWarning: arrays to stack must be passed as a \"sequence\" type such as list or tuple. Support for non-sequence iterables such as generators is deprecated as of NumPy 1.16 and will raise an error in the future.\n",
      "/Users/timsb/miniconda3/envs/causal2020/lib/python3.7/site-packages/pylogit/choice_tools.py:703: FutureWarning: arrays to stack must be passed as a \"sequence\" type such as list or tuple. Support for non-sequence iterables such as generators is deprecated as of NumPy 1.16 and will raise an error in the future.\n",
      "/Users/timsb/miniconda3/envs/causal2020/lib/python3.7/site-packages/pylogit/choice_tools.py:703: FutureWarning: arrays to stack must be passed as a \"sequence\" type such as list or tuple. Support for non-sequence iterables such as generators is deprecated as of NumPy 1.16 and will raise an error in the future.\n",
      "\n",
      "Simulating Choices:   0%|          | 0/3606 [00:00<?, ?it/s]\u001b[A"
     ]
    },
    {
     "name": "stdout",
     "output_type": "stream",
     "text": [
      "Converting data from wide to long...\n",
      "Simulating Choices...\n"
     ]
    },
    {
     "name": "stderr",
     "output_type": "stream",
     "text": [
      "Simulating Choices: 100%|██████████| 3606/3606 [00:00<00:00, 36233.50it/s]\n",
      "/Users/timsb/miniconda3/envs/causal2020/lib/python3.7/site-packages/pylogit/choice_tools.py:703: FutureWarning: arrays to stack must be passed as a \"sequence\" type such as list or tuple. Support for non-sequence iterables such as generators is deprecated as of NumPy 1.16 and will raise an error in the future.\n"
     ]
    },
    {
     "name": "stdout",
     "output_type": "stream",
     "text": [
      "Estimating the choice model...\n",
      "Estimating Causal Effects...\n",
      "Simulation number 77 is complete!\n",
      "==========================================\n",
      "==========================================\n",
      "Simulation number 78 of 200 is in progress...\n",
      "Simulation size is 3605\n",
      "------------------------------------------\n",
      "Simulating data...\n",
      "Simulating Availability...\n"
     ]
    },
    {
     "name": "stderr",
     "output_type": "stream",
     "text": [
      "/Users/timsb/miniconda3/envs/causal2020/lib/python3.7/site-packages/pylogit/choice_tools.py:703: FutureWarning: arrays to stack must be passed as a \"sequence\" type such as list or tuple. Support for non-sequence iterables such as generators is deprecated as of NumPy 1.16 and will raise an error in the future.\n",
      "/Users/timsb/miniconda3/envs/causal2020/lib/python3.7/site-packages/pylogit/choice_tools.py:703: FutureWarning: arrays to stack must be passed as a \"sequence\" type such as list or tuple. Support for non-sequence iterables such as generators is deprecated as of NumPy 1.16 and will raise an error in the future.\n",
      "Exception ignored in: <function tqdm.__del__ at 0x7fe05909bcb0>\n",
      "Traceback (most recent call last):\n",
      "  File \"/Users/timsb/miniconda3/envs/causal2020/lib/python3.7/site-packages/tqdm/std.py\", line 1124, in __del__\n",
      "    self.close()\n",
      "  File \"/Users/timsb/miniconda3/envs/causal2020/lib/python3.7/site-packages/tqdm/notebook.py\", line 271, in close\n",
      "    self.sp(bar_style='danger')\n",
      "AttributeError: 'tqdm_notebook' object has no attribute 'sp'\n",
      "/Users/timsb/miniconda3/envs/causal2020/lib/python3.7/site-packages/pylogit/choice_tools.py:703: FutureWarning: arrays to stack must be passed as a \"sequence\" type such as list or tuple. Support for non-sequence iterables such as generators is deprecated as of NumPy 1.16 and will raise an error in the future.\n",
      "/Users/timsb/miniconda3/envs/causal2020/lib/python3.7/site-packages/pylogit/choice_tools.py:703: FutureWarning: arrays to stack must be passed as a \"sequence\" type such as list or tuple. Support for non-sequence iterables such as generators is deprecated as of NumPy 1.16 and will raise an error in the future.\n",
      "/Users/timsb/miniconda3/envs/causal2020/lib/python3.7/site-packages/pylogit/choice_tools.py:703: FutureWarning: arrays to stack must be passed as a \"sequence\" type such as list or tuple. Support for non-sequence iterables such as generators is deprecated as of NumPy 1.16 and will raise an error in the future.\n",
      "\n",
      "Simulating Choices:   0%|          | 0/3605 [00:00<?, ?it/s]\u001b[A"
     ]
    },
    {
     "name": "stdout",
     "output_type": "stream",
     "text": [
      "Converting data from wide to long...\n",
      "Simulating Choices...\n"
     ]
    },
    {
     "name": "stderr",
     "output_type": "stream",
     "text": [
      "\n",
      "Simulating Choices: 100%|██████████| 3605/3605 [00:00<00:00, 31610.55it/s]\u001b[A\n",
      "/Users/timsb/miniconda3/envs/causal2020/lib/python3.7/site-packages/pylogit/choice_tools.py:703: FutureWarning: arrays to stack must be passed as a \"sequence\" type such as list or tuple. Support for non-sequence iterables such as generators is deprecated as of NumPy 1.16 and will raise an error in the future.\n"
     ]
    },
    {
     "name": "stdout",
     "output_type": "stream",
     "text": [
      "Estimating the choice model...\n",
      "Estimating Causal Effects...\n",
      "Simulation number 78 is complete!\n",
      "==========================================\n",
      "==========================================\n",
      "Simulation number 79 of 200 is in progress...\n",
      "Simulation size is 3402\n",
      "------------------------------------------\n",
      "Simulating data...\n",
      "Simulating Availability...\n"
     ]
    },
    {
     "name": "stderr",
     "output_type": "stream",
     "text": [
      "/Users/timsb/miniconda3/envs/causal2020/lib/python3.7/site-packages/pylogit/choice_tools.py:703: FutureWarning: arrays to stack must be passed as a \"sequence\" type such as list or tuple. Support for non-sequence iterables such as generators is deprecated as of NumPy 1.16 and will raise an error in the future.\n",
      "/Users/timsb/miniconda3/envs/causal2020/lib/python3.7/site-packages/pylogit/choice_tools.py:703: FutureWarning: arrays to stack must be passed as a \"sequence\" type such as list or tuple. Support for non-sequence iterables such as generators is deprecated as of NumPy 1.16 and will raise an error in the future.\n",
      "Exception ignored in: <function tqdm.__del__ at 0x7fe05909bcb0>\n",
      "Traceback (most recent call last):\n",
      "  File \"/Users/timsb/miniconda3/envs/causal2020/lib/python3.7/site-packages/tqdm/std.py\", line 1124, in __del__\n",
      "    self.close()\n",
      "  File \"/Users/timsb/miniconda3/envs/causal2020/lib/python3.7/site-packages/tqdm/notebook.py\", line 271, in close\n",
      "    self.sp(bar_style='danger')\n",
      "AttributeError: 'tqdm_notebook' object has no attribute 'sp'\n",
      "/Users/timsb/miniconda3/envs/causal2020/lib/python3.7/site-packages/pylogit/choice_tools.py:703: FutureWarning: arrays to stack must be passed as a \"sequence\" type such as list or tuple. Support for non-sequence iterables such as generators is deprecated as of NumPy 1.16 and will raise an error in the future.\n",
      "/Users/timsb/miniconda3/envs/causal2020/lib/python3.7/site-packages/pylogit/choice_tools.py:703: FutureWarning: arrays to stack must be passed as a \"sequence\" type such as list or tuple. Support for non-sequence iterables such as generators is deprecated as of NumPy 1.16 and will raise an error in the future.\n",
      "/Users/timsb/miniconda3/envs/causal2020/lib/python3.7/site-packages/pylogit/choice_tools.py:703: FutureWarning: arrays to stack must be passed as a \"sequence\" type such as list or tuple. Support for non-sequence iterables such as generators is deprecated as of NumPy 1.16 and will raise an error in the future.\n",
      "\n",
      "Simulating Choices:   0%|          | 0/3402 [00:00<?, ?it/s]\u001b[A"
     ]
    },
    {
     "name": "stdout",
     "output_type": "stream",
     "text": [
      "Converting data from wide to long...\n",
      "Simulating Choices...\n"
     ]
    },
    {
     "name": "stderr",
     "output_type": "stream",
     "text": [
      "Simulating Choices: 100%|██████████| 3402/3402 [00:00<00:00, 35165.30it/s]\n",
      "/Users/timsb/miniconda3/envs/causal2020/lib/python3.7/site-packages/pylogit/choice_tools.py:703: FutureWarning: arrays to stack must be passed as a \"sequence\" type such as list or tuple. Support for non-sequence iterables such as generators is deprecated as of NumPy 1.16 and will raise an error in the future.\n"
     ]
    },
    {
     "name": "stdout",
     "output_type": "stream",
     "text": [
      "Estimating the choice model...\n",
      "Estimating Causal Effects...\n",
      "Simulation number 79 is complete!\n",
      "==========================================\n",
      "==========================================\n",
      "Simulation number 80 of 200 is in progress...\n",
      "Simulation size is 3577\n",
      "------------------------------------------\n",
      "Simulating data...\n",
      "Simulating Availability...\n"
     ]
    },
    {
     "name": "stderr",
     "output_type": "stream",
     "text": [
      "/Users/timsb/miniconda3/envs/causal2020/lib/python3.7/site-packages/pylogit/choice_tools.py:703: FutureWarning: arrays to stack must be passed as a \"sequence\" type such as list or tuple. Support for non-sequence iterables such as generators is deprecated as of NumPy 1.16 and will raise an error in the future.\n",
      "/Users/timsb/miniconda3/envs/causal2020/lib/python3.7/site-packages/pylogit/choice_tools.py:703: FutureWarning: arrays to stack must be passed as a \"sequence\" type such as list or tuple. Support for non-sequence iterables such as generators is deprecated as of NumPy 1.16 and will raise an error in the future.\n",
      "Exception ignored in: <function tqdm.__del__ at 0x7fe05909bcb0>\n",
      "Traceback (most recent call last):\n",
      "  File \"/Users/timsb/miniconda3/envs/causal2020/lib/python3.7/site-packages/tqdm/std.py\", line 1124, in __del__\n",
      "    self.close()\n",
      "  File \"/Users/timsb/miniconda3/envs/causal2020/lib/python3.7/site-packages/tqdm/notebook.py\", line 271, in close\n",
      "    self.sp(bar_style='danger')\n",
      "AttributeError: 'tqdm_notebook' object has no attribute 'sp'\n",
      "/Users/timsb/miniconda3/envs/causal2020/lib/python3.7/site-packages/pylogit/choice_tools.py:703: FutureWarning: arrays to stack must be passed as a \"sequence\" type such as list or tuple. Support for non-sequence iterables such as generators is deprecated as of NumPy 1.16 and will raise an error in the future.\n",
      "/Users/timsb/miniconda3/envs/causal2020/lib/python3.7/site-packages/pylogit/choice_tools.py:703: FutureWarning: arrays to stack must be passed as a \"sequence\" type such as list or tuple. Support for non-sequence iterables such as generators is deprecated as of NumPy 1.16 and will raise an error in the future.\n",
      "/Users/timsb/miniconda3/envs/causal2020/lib/python3.7/site-packages/pylogit/choice_tools.py:703: FutureWarning: arrays to stack must be passed as a \"sequence\" type such as list or tuple. Support for non-sequence iterables such as generators is deprecated as of NumPy 1.16 and will raise an error in the future.\n",
      "\n",
      "Simulating Choices:   0%|          | 0/3577 [00:00<?, ?it/s]\u001b[A"
     ]
    },
    {
     "name": "stdout",
     "output_type": "stream",
     "text": [
      "Converting data from wide to long...\n",
      "Simulating Choices...\n"
     ]
    },
    {
     "name": "stderr",
     "output_type": "stream",
     "text": [
      "\n",
      "Simulating Choices: 100%|██████████| 3577/3577 [00:00<00:00, 32745.33it/s]\u001b[A\n",
      "/Users/timsb/miniconda3/envs/causal2020/lib/python3.7/site-packages/pylogit/choice_tools.py:703: FutureWarning: arrays to stack must be passed as a \"sequence\" type such as list or tuple. Support for non-sequence iterables such as generators is deprecated as of NumPy 1.16 and will raise an error in the future.\n"
     ]
    },
    {
     "name": "stdout",
     "output_type": "stream",
     "text": [
      "Estimating the choice model...\n",
      "Estimating Causal Effects...\n",
      "Simulation number 80 is complete!\n",
      "==========================================\n",
      "==========================================\n",
      "Simulation number 81 of 200 is in progress...\n",
      "Simulation size is 3298\n",
      "------------------------------------------\n",
      "Simulating data...\n",
      "Simulating Availability...\n"
     ]
    },
    {
     "name": "stderr",
     "output_type": "stream",
     "text": [
      "/Users/timsb/miniconda3/envs/causal2020/lib/python3.7/site-packages/pylogit/choice_tools.py:703: FutureWarning: arrays to stack must be passed as a \"sequence\" type such as list or tuple. Support for non-sequence iterables such as generators is deprecated as of NumPy 1.16 and will raise an error in the future.\n",
      "/Users/timsb/miniconda3/envs/causal2020/lib/python3.7/site-packages/pylogit/choice_tools.py:703: FutureWarning: arrays to stack must be passed as a \"sequence\" type such as list or tuple. Support for non-sequence iterables such as generators is deprecated as of NumPy 1.16 and will raise an error in the future.\n",
      "Exception ignored in: <function tqdm.__del__ at 0x7fe05909bcb0>\n",
      "Traceback (most recent call last):\n",
      "  File \"/Users/timsb/miniconda3/envs/causal2020/lib/python3.7/site-packages/tqdm/std.py\", line 1124, in __del__\n",
      "    self.close()\n",
      "  File \"/Users/timsb/miniconda3/envs/causal2020/lib/python3.7/site-packages/tqdm/notebook.py\", line 271, in close\n",
      "    self.sp(bar_style='danger')\n",
      "AttributeError: 'tqdm_notebook' object has no attribute 'sp'\n",
      "/Users/timsb/miniconda3/envs/causal2020/lib/python3.7/site-packages/pylogit/choice_tools.py:703: FutureWarning: arrays to stack must be passed as a \"sequence\" type such as list or tuple. Support for non-sequence iterables such as generators is deprecated as of NumPy 1.16 and will raise an error in the future.\n",
      "/Users/timsb/miniconda3/envs/causal2020/lib/python3.7/site-packages/pylogit/choice_tools.py:703: FutureWarning: arrays to stack must be passed as a \"sequence\" type such as list or tuple. Support for non-sequence iterables such as generators is deprecated as of NumPy 1.16 and will raise an error in the future.\n",
      "/Users/timsb/miniconda3/envs/causal2020/lib/python3.7/site-packages/pylogit/choice_tools.py:703: FutureWarning: arrays to stack must be passed as a \"sequence\" type such as list or tuple. Support for non-sequence iterables such as generators is deprecated as of NumPy 1.16 and will raise an error in the future.\n",
      "\n",
      "Simulating Choices:   0%|          | 0/3298 [00:00<?, ?it/s]\u001b[A"
     ]
    },
    {
     "name": "stdout",
     "output_type": "stream",
     "text": [
      "Converting data from wide to long...\n",
      "Simulating Choices...\n"
     ]
    },
    {
     "name": "stderr",
     "output_type": "stream",
     "text": [
      "Simulating Choices: 100%|██████████| 3298/3298 [00:00<00:00, 36214.69it/s]\n",
      "/Users/timsb/miniconda3/envs/causal2020/lib/python3.7/site-packages/pylogit/choice_tools.py:703: FutureWarning: arrays to stack must be passed as a \"sequence\" type such as list or tuple. Support for non-sequence iterables such as generators is deprecated as of NumPy 1.16 and will raise an error in the future.\n"
     ]
    },
    {
     "name": "stdout",
     "output_type": "stream",
     "text": [
      "Estimating the choice model...\n",
      "Estimating Causal Effects...\n",
      "Simulation number 81 is complete!\n",
      "==========================================\n",
      "==========================================\n",
      "Simulation number 82 of 200 is in progress...\n",
      "Simulation size is 3030\n",
      "------------------------------------------\n",
      "Simulating data...\n",
      "Simulating Availability...\n"
     ]
    },
    {
     "name": "stderr",
     "output_type": "stream",
     "text": [
      "/Users/timsb/miniconda3/envs/causal2020/lib/python3.7/site-packages/pylogit/choice_tools.py:703: FutureWarning: arrays to stack must be passed as a \"sequence\" type such as list or tuple. Support for non-sequence iterables such as generators is deprecated as of NumPy 1.16 and will raise an error in the future.\n",
      "/Users/timsb/miniconda3/envs/causal2020/lib/python3.7/site-packages/pylogit/choice_tools.py:703: FutureWarning: arrays to stack must be passed as a \"sequence\" type such as list or tuple. Support for non-sequence iterables such as generators is deprecated as of NumPy 1.16 and will raise an error in the future.\n",
      "Exception ignored in: <function tqdm.__del__ at 0x7fe05909bcb0>\n",
      "Traceback (most recent call last):\n",
      "  File \"/Users/timsb/miniconda3/envs/causal2020/lib/python3.7/site-packages/tqdm/std.py\", line 1124, in __del__\n",
      "    self.close()\n",
      "  File \"/Users/timsb/miniconda3/envs/causal2020/lib/python3.7/site-packages/tqdm/notebook.py\", line 271, in close\n",
      "    self.sp(bar_style='danger')\n",
      "AttributeError: 'tqdm_notebook' object has no attribute 'sp'\n",
      "/Users/timsb/miniconda3/envs/causal2020/lib/python3.7/site-packages/pylogit/choice_tools.py:703: FutureWarning: arrays to stack must be passed as a \"sequence\" type such as list or tuple. Support for non-sequence iterables such as generators is deprecated as of NumPy 1.16 and will raise an error in the future.\n",
      "/Users/timsb/miniconda3/envs/causal2020/lib/python3.7/site-packages/pylogit/choice_tools.py:703: FutureWarning: arrays to stack must be passed as a \"sequence\" type such as list or tuple. Support for non-sequence iterables such as generators is deprecated as of NumPy 1.16 and will raise an error in the future.\n",
      "/Users/timsb/miniconda3/envs/causal2020/lib/python3.7/site-packages/pylogit/choice_tools.py:703: FutureWarning: arrays to stack must be passed as a \"sequence\" type such as list or tuple. Support for non-sequence iterables such as generators is deprecated as of NumPy 1.16 and will raise an error in the future.\n",
      "\n",
      "Simulating Choices:   0%|          | 0/3030 [00:00<?, ?it/s]\u001b[A"
     ]
    },
    {
     "name": "stdout",
     "output_type": "stream",
     "text": [
      "Converting data from wide to long...\n",
      "Simulating Choices...\n"
     ]
    },
    {
     "name": "stderr",
     "output_type": "stream",
     "text": [
      "Simulating Choices: 100%|██████████| 3030/3030 [00:00<00:00, 30709.68it/s]\n",
      "/Users/timsb/miniconda3/envs/causal2020/lib/python3.7/site-packages/pylogit/choice_tools.py:703: FutureWarning: arrays to stack must be passed as a \"sequence\" type such as list or tuple. Support for non-sequence iterables such as generators is deprecated as of NumPy 1.16 and will raise an error in the future.\n",
      "/Users/timsb/miniconda3/envs/causal2020/lib/python3.7/site-packages/pylogit/choice_tools.py:703: FutureWarning: arrays to stack must be passed as a \"sequence\" type such as list or tuple. Support for non-sequence iterables such as generators is deprecated as of NumPy 1.16 and will raise an error in the future.\n"
     ]
    },
    {
     "name": "stdout",
     "output_type": "stream",
     "text": [
      "Estimating the choice model...\n",
      "Estimating Causal Effects...\n"
     ]
    },
    {
     "name": "stderr",
     "output_type": "stream",
     "text": [
      "/Users/timsb/miniconda3/envs/causal2020/lib/python3.7/site-packages/pylogit/choice_tools.py:703: FutureWarning: arrays to stack must be passed as a \"sequence\" type such as list or tuple. Support for non-sequence iterables such as generators is deprecated as of NumPy 1.16 and will raise an error in the future.\n",
      "Exception ignored in: <function tqdm.__del__ at 0x7fe05909bcb0>\n",
      "Traceback (most recent call last):\n",
      "  File \"/Users/timsb/miniconda3/envs/causal2020/lib/python3.7/site-packages/tqdm/std.py\", line 1124, in __del__\n",
      "    self.close()\n",
      "  File \"/Users/timsb/miniconda3/envs/causal2020/lib/python3.7/site-packages/tqdm/notebook.py\", line 271, in close\n",
      "    self.sp(bar_style='danger')\n",
      "AttributeError: 'tqdm_notebook' object has no attribute 'sp'\n",
      "/Users/timsb/miniconda3/envs/causal2020/lib/python3.7/site-packages/pylogit/choice_tools.py:703: FutureWarning: arrays to stack must be passed as a \"sequence\" type such as list or tuple. Support for non-sequence iterables such as generators is deprecated as of NumPy 1.16 and will raise an error in the future.\n",
      "/Users/timsb/miniconda3/envs/causal2020/lib/python3.7/site-packages/pylogit/choice_tools.py:703: FutureWarning: arrays to stack must be passed as a \"sequence\" type such as list or tuple. Support for non-sequence iterables such as generators is deprecated as of NumPy 1.16 and will raise an error in the future.\n"
     ]
    },
    {
     "name": "stdout",
     "output_type": "stream",
     "text": [
      "Simulation number 82 is complete!\n",
      "==========================================\n",
      "==========================================\n",
      "Simulation number 83 of 200 is in progress...\n",
      "Simulation size is 3940\n",
      "------------------------------------------\n",
      "Simulating data...\n",
      "Simulating Availability...\n"
     ]
    },
    {
     "name": "stderr",
     "output_type": "stream",
     "text": [
      "/Users/timsb/miniconda3/envs/causal2020/lib/python3.7/site-packages/pylogit/choice_tools.py:703: FutureWarning: arrays to stack must be passed as a \"sequence\" type such as list or tuple. Support for non-sequence iterables such as generators is deprecated as of NumPy 1.16 and will raise an error in the future.\n",
      "\n",
      "Simulating Choices:   0%|          | 0/3940 [00:00<?, ?it/s]\u001b[A"
     ]
    },
    {
     "name": "stdout",
     "output_type": "stream",
     "text": [
      "Converting data from wide to long...\n",
      "Simulating Choices...\n"
     ]
    },
    {
     "name": "stderr",
     "output_type": "stream",
     "text": [
      "Simulating Choices: 100%|██████████| 3940/3940 [00:00<00:00, 40539.19it/s]\n",
      "/Users/timsb/miniconda3/envs/causal2020/lib/python3.7/site-packages/pylogit/choice_tools.py:703: FutureWarning: arrays to stack must be passed as a \"sequence\" type such as list or tuple. Support for non-sequence iterables such as generators is deprecated as of NumPy 1.16 and will raise an error in the future.\n"
     ]
    },
    {
     "name": "stdout",
     "output_type": "stream",
     "text": [
      "Estimating the choice model...\n",
      "Estimating Causal Effects...\n",
      "Simulation number 83 is complete!\n",
      "==========================================\n",
      "==========================================\n",
      "Simulation number 84 of 200 is in progress...\n",
      "Simulation size is 3578\n",
      "------------------------------------------\n",
      "Simulating data...\n",
      "Simulating Availability...\n"
     ]
    },
    {
     "name": "stderr",
     "output_type": "stream",
     "text": [
      "/Users/timsb/miniconda3/envs/causal2020/lib/python3.7/site-packages/pylogit/choice_tools.py:703: FutureWarning: arrays to stack must be passed as a \"sequence\" type such as list or tuple. Support for non-sequence iterables such as generators is deprecated as of NumPy 1.16 and will raise an error in the future.\n",
      "/Users/timsb/miniconda3/envs/causal2020/lib/python3.7/site-packages/pylogit/choice_tools.py:703: FutureWarning: arrays to stack must be passed as a \"sequence\" type such as list or tuple. Support for non-sequence iterables such as generators is deprecated as of NumPy 1.16 and will raise an error in the future.\n",
      "Exception ignored in: <function tqdm.__del__ at 0x7fe05909bcb0>\n",
      "Traceback (most recent call last):\n",
      "  File \"/Users/timsb/miniconda3/envs/causal2020/lib/python3.7/site-packages/tqdm/std.py\", line 1124, in __del__\n",
      "    self.close()\n",
      "  File \"/Users/timsb/miniconda3/envs/causal2020/lib/python3.7/site-packages/tqdm/notebook.py\", line 271, in close\n",
      "    self.sp(bar_style='danger')\n",
      "AttributeError: 'tqdm_notebook' object has no attribute 'sp'\n",
      "/Users/timsb/miniconda3/envs/causal2020/lib/python3.7/site-packages/pylogit/choice_tools.py:703: FutureWarning: arrays to stack must be passed as a \"sequence\" type such as list or tuple. Support for non-sequence iterables such as generators is deprecated as of NumPy 1.16 and will raise an error in the future.\n",
      "/Users/timsb/miniconda3/envs/causal2020/lib/python3.7/site-packages/pylogit/choice_tools.py:703: FutureWarning: arrays to stack must be passed as a \"sequence\" type such as list or tuple. Support for non-sequence iterables such as generators is deprecated as of NumPy 1.16 and will raise an error in the future.\n",
      "/Users/timsb/miniconda3/envs/causal2020/lib/python3.7/site-packages/pylogit/choice_tools.py:703: FutureWarning: arrays to stack must be passed as a \"sequence\" type such as list or tuple. Support for non-sequence iterables such as generators is deprecated as of NumPy 1.16 and will raise an error in the future.\n",
      "\n",
      "Simulating Choices:   0%|          | 0/3578 [00:00<?, ?it/s]\u001b[A"
     ]
    },
    {
     "name": "stdout",
     "output_type": "stream",
     "text": [
      "Converting data from wide to long...\n",
      "Simulating Choices...\n"
     ]
    },
    {
     "name": "stderr",
     "output_type": "stream",
     "text": [
      "Simulating Choices: 100%|██████████| 3578/3578 [00:00<00:00, 37111.58it/s]\n",
      "/Users/timsb/miniconda3/envs/causal2020/lib/python3.7/site-packages/pylogit/choice_tools.py:703: FutureWarning: arrays to stack must be passed as a \"sequence\" type such as list or tuple. Support for non-sequence iterables such as generators is deprecated as of NumPy 1.16 and will raise an error in the future.\n"
     ]
    },
    {
     "name": "stdout",
     "output_type": "stream",
     "text": [
      "Estimating the choice model...\n",
      "Estimating Causal Effects...\n",
      "Simulation number 84 is complete!\n",
      "==========================================\n",
      "==========================================\n",
      "Simulation number 85 of 200 is in progress...\n",
      "Simulation size is 3211\n",
      "------------------------------------------\n",
      "Simulating data...\n",
      "Simulating Availability...\n"
     ]
    },
    {
     "name": "stderr",
     "output_type": "stream",
     "text": [
      "/Users/timsb/miniconda3/envs/causal2020/lib/python3.7/site-packages/pylogit/choice_tools.py:703: FutureWarning: arrays to stack must be passed as a \"sequence\" type such as list or tuple. Support for non-sequence iterables such as generators is deprecated as of NumPy 1.16 and will raise an error in the future.\n",
      "/Users/timsb/miniconda3/envs/causal2020/lib/python3.7/site-packages/pylogit/choice_tools.py:703: FutureWarning: arrays to stack must be passed as a \"sequence\" type such as list or tuple. Support for non-sequence iterables such as generators is deprecated as of NumPy 1.16 and will raise an error in the future.\n",
      "Exception ignored in: <function tqdm.__del__ at 0x7fe05909bcb0>\n",
      "Traceback (most recent call last):\n",
      "  File \"/Users/timsb/miniconda3/envs/causal2020/lib/python3.7/site-packages/tqdm/std.py\", line 1124, in __del__\n",
      "    self.close()\n",
      "  File \"/Users/timsb/miniconda3/envs/causal2020/lib/python3.7/site-packages/tqdm/notebook.py\", line 271, in close\n",
      "    self.sp(bar_style='danger')\n",
      "AttributeError: 'tqdm_notebook' object has no attribute 'sp'\n",
      "/Users/timsb/miniconda3/envs/causal2020/lib/python3.7/site-packages/pylogit/choice_tools.py:703: FutureWarning: arrays to stack must be passed as a \"sequence\" type such as list or tuple. Support for non-sequence iterables such as generators is deprecated as of NumPy 1.16 and will raise an error in the future.\n",
      "/Users/timsb/miniconda3/envs/causal2020/lib/python3.7/site-packages/pylogit/choice_tools.py:703: FutureWarning: arrays to stack must be passed as a \"sequence\" type such as list or tuple. Support for non-sequence iterables such as generators is deprecated as of NumPy 1.16 and will raise an error in the future.\n",
      "/Users/timsb/miniconda3/envs/causal2020/lib/python3.7/site-packages/pylogit/choice_tools.py:703: FutureWarning: arrays to stack must be passed as a \"sequence\" type such as list or tuple. Support for non-sequence iterables such as generators is deprecated as of NumPy 1.16 and will raise an error in the future.\n",
      "\n",
      "Simulating Choices:   0%|          | 0/3211 [00:00<?, ?it/s]\u001b[A"
     ]
    },
    {
     "name": "stdout",
     "output_type": "stream",
     "text": [
      "Converting data from wide to long...\n",
      "Simulating Choices...\n"
     ]
    },
    {
     "name": "stderr",
     "output_type": "stream",
     "text": [
      "Simulating Choices: 100%|██████████| 3211/3211 [00:00<00:00, 36936.94it/s]\n",
      "/Users/timsb/miniconda3/envs/causal2020/lib/python3.7/site-packages/pylogit/choice_tools.py:703: FutureWarning: arrays to stack must be passed as a \"sequence\" type such as list or tuple. Support for non-sequence iterables such as generators is deprecated as of NumPy 1.16 and will raise an error in the future.\n"
     ]
    },
    {
     "name": "stdout",
     "output_type": "stream",
     "text": [
      "Estimating the choice model...\n",
      "Estimating Causal Effects...\n",
      "Simulation number 85 is complete!\n",
      "==========================================\n",
      "==========================================\n",
      "Simulation number 86 of 200 is in progress...\n",
      "Simulation size is 3006\n",
      "------------------------------------------\n",
      "Simulating data...\n",
      "Simulating Availability...\n"
     ]
    },
    {
     "name": "stderr",
     "output_type": "stream",
     "text": [
      "/Users/timsb/miniconda3/envs/causal2020/lib/python3.7/site-packages/pylogit/choice_tools.py:703: FutureWarning: arrays to stack must be passed as a \"sequence\" type such as list or tuple. Support for non-sequence iterables such as generators is deprecated as of NumPy 1.16 and will raise an error in the future.\n",
      "/Users/timsb/miniconda3/envs/causal2020/lib/python3.7/site-packages/pylogit/choice_tools.py:703: FutureWarning: arrays to stack must be passed as a \"sequence\" type such as list or tuple. Support for non-sequence iterables such as generators is deprecated as of NumPy 1.16 and will raise an error in the future.\n",
      "Exception ignored in: <function tqdm.__del__ at 0x7fe05909bcb0>\n",
      "Traceback (most recent call last):\n",
      "  File \"/Users/timsb/miniconda3/envs/causal2020/lib/python3.7/site-packages/tqdm/std.py\", line 1124, in __del__\n",
      "    self.close()\n",
      "  File \"/Users/timsb/miniconda3/envs/causal2020/lib/python3.7/site-packages/tqdm/notebook.py\", line 271, in close\n",
      "    self.sp(bar_style='danger')\n",
      "AttributeError: 'tqdm_notebook' object has no attribute 'sp'\n",
      "/Users/timsb/miniconda3/envs/causal2020/lib/python3.7/site-packages/pylogit/choice_tools.py:703: FutureWarning: arrays to stack must be passed as a \"sequence\" type such as list or tuple. Support for non-sequence iterables such as generators is deprecated as of NumPy 1.16 and will raise an error in the future.\n",
      "/Users/timsb/miniconda3/envs/causal2020/lib/python3.7/site-packages/pylogit/choice_tools.py:703: FutureWarning: arrays to stack must be passed as a \"sequence\" type such as list or tuple. Support for non-sequence iterables such as generators is deprecated as of NumPy 1.16 and will raise an error in the future.\n",
      "/Users/timsb/miniconda3/envs/causal2020/lib/python3.7/site-packages/pylogit/choice_tools.py:703: FutureWarning: arrays to stack must be passed as a \"sequence\" type such as list or tuple. Support for non-sequence iterables such as generators is deprecated as of NumPy 1.16 and will raise an error in the future.\n",
      "\n",
      "Simulating Choices:   0%|          | 0/3006 [00:00<?, ?it/s]\u001b[A"
     ]
    },
    {
     "name": "stdout",
     "output_type": "stream",
     "text": [
      "Converting data from wide to long...\n",
      "Simulating Choices...\n"
     ]
    },
    {
     "name": "stderr",
     "output_type": "stream",
     "text": [
      "Simulating Choices: 100%|██████████| 3006/3006 [00:00<00:00, 35288.38it/s]\n",
      "/Users/timsb/miniconda3/envs/causal2020/lib/python3.7/site-packages/pylogit/choice_tools.py:703: FutureWarning: arrays to stack must be passed as a \"sequence\" type such as list or tuple. Support for non-sequence iterables such as generators is deprecated as of NumPy 1.16 and will raise an error in the future.\n"
     ]
    },
    {
     "name": "stdout",
     "output_type": "stream",
     "text": [
      "Estimating the choice model...\n",
      "Estimating Causal Effects...\n",
      "Simulation number 86 is complete!\n",
      "==========================================\n",
      "==========================================\n",
      "Simulation number 87 of 200 is in progress...\n",
      "Simulation size is 3958\n",
      "------------------------------------------\n",
      "Simulating data...\n",
      "Simulating Availability...\n"
     ]
    },
    {
     "name": "stderr",
     "output_type": "stream",
     "text": [
      "/Users/timsb/miniconda3/envs/causal2020/lib/python3.7/site-packages/pylogit/choice_tools.py:703: FutureWarning: arrays to stack must be passed as a \"sequence\" type such as list or tuple. Support for non-sequence iterables such as generators is deprecated as of NumPy 1.16 and will raise an error in the future.\n",
      "/Users/timsb/miniconda3/envs/causal2020/lib/python3.7/site-packages/pylogit/choice_tools.py:703: FutureWarning: arrays to stack must be passed as a \"sequence\" type such as list or tuple. Support for non-sequence iterables such as generators is deprecated as of NumPy 1.16 and will raise an error in the future.\n",
      "Exception ignored in: <function tqdm.__del__ at 0x7fe05909bcb0>\n",
      "Traceback (most recent call last):\n",
      "  File \"/Users/timsb/miniconda3/envs/causal2020/lib/python3.7/site-packages/tqdm/std.py\", line 1124, in __del__\n",
      "    self.close()\n",
      "  File \"/Users/timsb/miniconda3/envs/causal2020/lib/python3.7/site-packages/tqdm/notebook.py\", line 271, in close\n",
      "    self.sp(bar_style='danger')\n",
      "AttributeError: 'tqdm_notebook' object has no attribute 'sp'\n",
      "/Users/timsb/miniconda3/envs/causal2020/lib/python3.7/site-packages/pylogit/choice_tools.py:703: FutureWarning: arrays to stack must be passed as a \"sequence\" type such as list or tuple. Support for non-sequence iterables such as generators is deprecated as of NumPy 1.16 and will raise an error in the future.\n",
      "/Users/timsb/miniconda3/envs/causal2020/lib/python3.7/site-packages/pylogit/choice_tools.py:703: FutureWarning: arrays to stack must be passed as a \"sequence\" type such as list or tuple. Support for non-sequence iterables such as generators is deprecated as of NumPy 1.16 and will raise an error in the future.\n",
      "/Users/timsb/miniconda3/envs/causal2020/lib/python3.7/site-packages/pylogit/choice_tools.py:703: FutureWarning: arrays to stack must be passed as a \"sequence\" type such as list or tuple. Support for non-sequence iterables such as generators is deprecated as of NumPy 1.16 and will raise an error in the future.\n",
      "\n",
      "Simulating Choices:   0%|          | 0/3958 [00:00<?, ?it/s]\u001b[A"
     ]
    },
    {
     "name": "stdout",
     "output_type": "stream",
     "text": [
      "Converting data from wide to long...\n",
      "Simulating Choices...\n"
     ]
    },
    {
     "name": "stderr",
     "output_type": "stream",
     "text": [
      "Simulating Choices: 100%|██████████| 3958/3958 [00:00<00:00, 40544.97it/s]\n",
      "/Users/timsb/miniconda3/envs/causal2020/lib/python3.7/site-packages/pylogit/choice_tools.py:703: FutureWarning: arrays to stack must be passed as a \"sequence\" type such as list or tuple. Support for non-sequence iterables such as generators is deprecated as of NumPy 1.16 and will raise an error in the future.\n"
     ]
    },
    {
     "name": "stdout",
     "output_type": "stream",
     "text": [
      "Estimating the choice model...\n",
      "Estimating Causal Effects...\n",
      "Simulation number 87 is complete!\n",
      "==========================================\n",
      "==========================================\n",
      "Simulation number 88 of 200 is in progress...\n",
      "Simulation size is 3167\n",
      "------------------------------------------\n",
      "Simulating data...\n",
      "Simulating Availability...\n"
     ]
    },
    {
     "name": "stderr",
     "output_type": "stream",
     "text": [
      "/Users/timsb/miniconda3/envs/causal2020/lib/python3.7/site-packages/pylogit/choice_tools.py:703: FutureWarning: arrays to stack must be passed as a \"sequence\" type such as list or tuple. Support for non-sequence iterables such as generators is deprecated as of NumPy 1.16 and will raise an error in the future.\n",
      "/Users/timsb/miniconda3/envs/causal2020/lib/python3.7/site-packages/pylogit/choice_tools.py:703: FutureWarning: arrays to stack must be passed as a \"sequence\" type such as list or tuple. Support for non-sequence iterables such as generators is deprecated as of NumPy 1.16 and will raise an error in the future.\n",
      "Exception ignored in: <function tqdm.__del__ at 0x7fe05909bcb0>\n",
      "Traceback (most recent call last):\n",
      "  File \"/Users/timsb/miniconda3/envs/causal2020/lib/python3.7/site-packages/tqdm/std.py\", line 1124, in __del__\n",
      "    self.close()\n",
      "  File \"/Users/timsb/miniconda3/envs/causal2020/lib/python3.7/site-packages/tqdm/notebook.py\", line 271, in close\n",
      "    self.sp(bar_style='danger')\n",
      "AttributeError: 'tqdm_notebook' object has no attribute 'sp'\n",
      "/Users/timsb/miniconda3/envs/causal2020/lib/python3.7/site-packages/pylogit/choice_tools.py:703: FutureWarning: arrays to stack must be passed as a \"sequence\" type such as list or tuple. Support for non-sequence iterables such as generators is deprecated as of NumPy 1.16 and will raise an error in the future.\n",
      "/Users/timsb/miniconda3/envs/causal2020/lib/python3.7/site-packages/pylogit/choice_tools.py:703: FutureWarning: arrays to stack must be passed as a \"sequence\" type such as list or tuple. Support for non-sequence iterables such as generators is deprecated as of NumPy 1.16 and will raise an error in the future.\n",
      "/Users/timsb/miniconda3/envs/causal2020/lib/python3.7/site-packages/pylogit/choice_tools.py:703: FutureWarning: arrays to stack must be passed as a \"sequence\" type such as list or tuple. Support for non-sequence iterables such as generators is deprecated as of NumPy 1.16 and will raise an error in the future.\n",
      "\n",
      "Simulating Choices:   0%|          | 0/3167 [00:00<?, ?it/s]\u001b[A"
     ]
    },
    {
     "name": "stdout",
     "output_type": "stream",
     "text": [
      "Converting data from wide to long...\n",
      "Simulating Choices...\n"
     ]
    },
    {
     "name": "stderr",
     "output_type": "stream",
     "text": [
      "Simulating Choices: 100%|██████████| 3167/3167 [00:00<00:00, 36470.51it/s]\n",
      "/Users/timsb/miniconda3/envs/causal2020/lib/python3.7/site-packages/pylogit/choice_tools.py:703: FutureWarning: arrays to stack must be passed as a \"sequence\" type such as list or tuple. Support for non-sequence iterables such as generators is deprecated as of NumPy 1.16 and will raise an error in the future.\n",
      "/Users/timsb/miniconda3/envs/causal2020/lib/python3.7/site-packages/pylogit/choice_tools.py:703: FutureWarning: arrays to stack must be passed as a \"sequence\" type such as list or tuple. Support for non-sequence iterables such as generators is deprecated as of NumPy 1.16 and will raise an error in the future.\n"
     ]
    },
    {
     "name": "stdout",
     "output_type": "stream",
     "text": [
      "Estimating the choice model...\n",
      "Estimating Causal Effects...\n"
     ]
    },
    {
     "name": "stderr",
     "output_type": "stream",
     "text": [
      "/Users/timsb/miniconda3/envs/causal2020/lib/python3.7/site-packages/pylogit/choice_tools.py:703: FutureWarning: arrays to stack must be passed as a \"sequence\" type such as list or tuple. Support for non-sequence iterables such as generators is deprecated as of NumPy 1.16 and will raise an error in the future.\n",
      "Exception ignored in: <function tqdm.__del__ at 0x7fe05909bcb0>\n",
      "Traceback (most recent call last):\n",
      "  File \"/Users/timsb/miniconda3/envs/causal2020/lib/python3.7/site-packages/tqdm/std.py\", line 1124, in __del__\n",
      "    self.close()\n",
      "  File \"/Users/timsb/miniconda3/envs/causal2020/lib/python3.7/site-packages/tqdm/notebook.py\", line 271, in close\n",
      "    self.sp(bar_style='danger')\n",
      "AttributeError: 'tqdm_notebook' object has no attribute 'sp'\n",
      "/Users/timsb/miniconda3/envs/causal2020/lib/python3.7/site-packages/pylogit/choice_tools.py:703: FutureWarning: arrays to stack must be passed as a \"sequence\" type such as list or tuple. Support for non-sequence iterables such as generators is deprecated as of NumPy 1.16 and will raise an error in the future.\n",
      "/Users/timsb/miniconda3/envs/causal2020/lib/python3.7/site-packages/pylogit/choice_tools.py:703: FutureWarning: arrays to stack must be passed as a \"sequence\" type such as list or tuple. Support for non-sequence iterables such as generators is deprecated as of NumPy 1.16 and will raise an error in the future.\n"
     ]
    },
    {
     "name": "stdout",
     "output_type": "stream",
     "text": [
      "Simulation number 88 is complete!\n",
      "==========================================\n",
      "==========================================\n",
      "Simulation number 89 of 200 is in progress...\n",
      "Simulation size is 3492\n",
      "------------------------------------------\n",
      "Simulating data...\n",
      "Simulating Availability...\n"
     ]
    },
    {
     "name": "stderr",
     "output_type": "stream",
     "text": [
      "/Users/timsb/miniconda3/envs/causal2020/lib/python3.7/site-packages/pylogit/choice_tools.py:703: FutureWarning: arrays to stack must be passed as a \"sequence\" type such as list or tuple. Support for non-sequence iterables such as generators is deprecated as of NumPy 1.16 and will raise an error in the future.\n",
      "\n",
      "Simulating Choices:   0%|          | 0/3492 [00:00<?, ?it/s]\u001b[A"
     ]
    },
    {
     "name": "stdout",
     "output_type": "stream",
     "text": [
      "Converting data from wide to long...\n",
      "Simulating Choices...\n"
     ]
    },
    {
     "name": "stderr",
     "output_type": "stream",
     "text": [
      "Simulating Choices: 100%|██████████| 3492/3492 [00:00<00:00, 38535.33it/s]\n",
      "/Users/timsb/miniconda3/envs/causal2020/lib/python3.7/site-packages/pylogit/choice_tools.py:703: FutureWarning: arrays to stack must be passed as a \"sequence\" type such as list or tuple. Support for non-sequence iterables such as generators is deprecated as of NumPy 1.16 and will raise an error in the future.\n"
     ]
    },
    {
     "name": "stdout",
     "output_type": "stream",
     "text": [
      "Estimating the choice model...\n",
      "Estimating Causal Effects...\n",
      "Simulation number 89 is complete!\n",
      "==========================================\n",
      "==========================================\n",
      "Simulation number 90 of 200 is in progress...\n",
      "Simulation size is 3803\n",
      "------------------------------------------\n",
      "Simulating data...\n",
      "Simulating Availability...\n"
     ]
    },
    {
     "name": "stderr",
     "output_type": "stream",
     "text": [
      "/Users/timsb/miniconda3/envs/causal2020/lib/python3.7/site-packages/pylogit/choice_tools.py:703: FutureWarning: arrays to stack must be passed as a \"sequence\" type such as list or tuple. Support for non-sequence iterables such as generators is deprecated as of NumPy 1.16 and will raise an error in the future.\n",
      "/Users/timsb/miniconda3/envs/causal2020/lib/python3.7/site-packages/pylogit/choice_tools.py:703: FutureWarning: arrays to stack must be passed as a \"sequence\" type such as list or tuple. Support for non-sequence iterables such as generators is deprecated as of NumPy 1.16 and will raise an error in the future.\n",
      "Exception ignored in: <function tqdm.__del__ at 0x7fe05909bcb0>\n",
      "Traceback (most recent call last):\n",
      "  File \"/Users/timsb/miniconda3/envs/causal2020/lib/python3.7/site-packages/tqdm/std.py\", line 1124, in __del__\n",
      "    self.close()\n",
      "  File \"/Users/timsb/miniconda3/envs/causal2020/lib/python3.7/site-packages/tqdm/notebook.py\", line 271, in close\n",
      "    self.sp(bar_style='danger')\n",
      "AttributeError: 'tqdm_notebook' object has no attribute 'sp'\n",
      "/Users/timsb/miniconda3/envs/causal2020/lib/python3.7/site-packages/pylogit/choice_tools.py:703: FutureWarning: arrays to stack must be passed as a \"sequence\" type such as list or tuple. Support for non-sequence iterables such as generators is deprecated as of NumPy 1.16 and will raise an error in the future.\n",
      "/Users/timsb/miniconda3/envs/causal2020/lib/python3.7/site-packages/pylogit/choice_tools.py:703: FutureWarning: arrays to stack must be passed as a \"sequence\" type such as list or tuple. Support for non-sequence iterables such as generators is deprecated as of NumPy 1.16 and will raise an error in the future.\n",
      "/Users/timsb/miniconda3/envs/causal2020/lib/python3.7/site-packages/pylogit/choice_tools.py:703: FutureWarning: arrays to stack must be passed as a \"sequence\" type such as list or tuple. Support for non-sequence iterables such as generators is deprecated as of NumPy 1.16 and will raise an error in the future.\n",
      "\n",
      "Simulating Choices:   0%|          | 0/3803 [00:00<?, ?it/s]\u001b[A"
     ]
    },
    {
     "name": "stdout",
     "output_type": "stream",
     "text": [
      "Converting data from wide to long...\n",
      "Simulating Choices...\n"
     ]
    },
    {
     "name": "stderr",
     "output_type": "stream",
     "text": [
      "Simulating Choices: 100%|██████████| 3803/3803 [00:00<00:00, 38730.53it/s]\n",
      "/Users/timsb/miniconda3/envs/causal2020/lib/python3.7/site-packages/pylogit/choice_tools.py:703: FutureWarning: arrays to stack must be passed as a \"sequence\" type such as list or tuple. Support for non-sequence iterables such as generators is deprecated as of NumPy 1.16 and will raise an error in the future.\n"
     ]
    },
    {
     "name": "stdout",
     "output_type": "stream",
     "text": [
      "Estimating the choice model...\n",
      "Estimating Causal Effects...\n",
      "Simulation number 90 is complete!\n",
      "==========================================\n",
      "==========================================\n",
      "Simulation number 91 of 200 is in progress...\n",
      "Simulation size is 3399\n",
      "------------------------------------------\n",
      "Simulating data...\n",
      "Simulating Availability...\n"
     ]
    },
    {
     "name": "stderr",
     "output_type": "stream",
     "text": [
      "/Users/timsb/miniconda3/envs/causal2020/lib/python3.7/site-packages/pylogit/choice_tools.py:703: FutureWarning: arrays to stack must be passed as a \"sequence\" type such as list or tuple. Support for non-sequence iterables such as generators is deprecated as of NumPy 1.16 and will raise an error in the future.\n",
      "/Users/timsb/miniconda3/envs/causal2020/lib/python3.7/site-packages/pylogit/choice_tools.py:703: FutureWarning: arrays to stack must be passed as a \"sequence\" type such as list or tuple. Support for non-sequence iterables such as generators is deprecated as of NumPy 1.16 and will raise an error in the future.\n",
      "Exception ignored in: <function tqdm.__del__ at 0x7fe05909bcb0>\n",
      "Traceback (most recent call last):\n",
      "  File \"/Users/timsb/miniconda3/envs/causal2020/lib/python3.7/site-packages/tqdm/std.py\", line 1124, in __del__\n",
      "    self.close()\n",
      "  File \"/Users/timsb/miniconda3/envs/causal2020/lib/python3.7/site-packages/tqdm/notebook.py\", line 271, in close\n",
      "    self.sp(bar_style='danger')\n",
      "AttributeError: 'tqdm_notebook' object has no attribute 'sp'\n",
      "/Users/timsb/miniconda3/envs/causal2020/lib/python3.7/site-packages/pylogit/choice_tools.py:703: FutureWarning: arrays to stack must be passed as a \"sequence\" type such as list or tuple. Support for non-sequence iterables such as generators is deprecated as of NumPy 1.16 and will raise an error in the future.\n",
      "/Users/timsb/miniconda3/envs/causal2020/lib/python3.7/site-packages/pylogit/choice_tools.py:703: FutureWarning: arrays to stack must be passed as a \"sequence\" type such as list or tuple. Support for non-sequence iterables such as generators is deprecated as of NumPy 1.16 and will raise an error in the future.\n",
      "/Users/timsb/miniconda3/envs/causal2020/lib/python3.7/site-packages/pylogit/choice_tools.py:703: FutureWarning: arrays to stack must be passed as a \"sequence\" type such as list or tuple. Support for non-sequence iterables such as generators is deprecated as of NumPy 1.16 and will raise an error in the future.\n",
      "\n",
      "Simulating Choices:   0%|          | 0/3399 [00:00<?, ?it/s]\u001b[A"
     ]
    },
    {
     "name": "stdout",
     "output_type": "stream",
     "text": [
      "Converting data from wide to long...\n",
      "Simulating Choices...\n"
     ]
    },
    {
     "name": "stderr",
     "output_type": "stream",
     "text": [
      "Simulating Choices: 100%|██████████| 3399/3399 [00:00<00:00, 37225.80it/s]\n",
      "/Users/timsb/miniconda3/envs/causal2020/lib/python3.7/site-packages/pylogit/choice_tools.py:703: FutureWarning: arrays to stack must be passed as a \"sequence\" type such as list or tuple. Support for non-sequence iterables such as generators is deprecated as of NumPy 1.16 and will raise an error in the future.\n"
     ]
    },
    {
     "name": "stdout",
     "output_type": "stream",
     "text": [
      "Estimating the choice model...\n",
      "Estimating Causal Effects...\n",
      "Simulation number 91 is complete!\n",
      "==========================================\n",
      "==========================================\n",
      "Simulation number 92 of 200 is in progress...\n",
      "Simulation size is 3162\n",
      "------------------------------------------\n",
      "Simulating data...\n",
      "Simulating Availability...\n"
     ]
    },
    {
     "name": "stderr",
     "output_type": "stream",
     "text": [
      "/Users/timsb/miniconda3/envs/causal2020/lib/python3.7/site-packages/pylogit/choice_tools.py:703: FutureWarning: arrays to stack must be passed as a \"sequence\" type such as list or tuple. Support for non-sequence iterables such as generators is deprecated as of NumPy 1.16 and will raise an error in the future.\n",
      "/Users/timsb/miniconda3/envs/causal2020/lib/python3.7/site-packages/pylogit/choice_tools.py:703: FutureWarning: arrays to stack must be passed as a \"sequence\" type such as list or tuple. Support for non-sequence iterables such as generators is deprecated as of NumPy 1.16 and will raise an error in the future.\n",
      "Exception ignored in: <function tqdm.__del__ at 0x7fe05909bcb0>\n",
      "Traceback (most recent call last):\n",
      "  File \"/Users/timsb/miniconda3/envs/causal2020/lib/python3.7/site-packages/tqdm/std.py\", line 1124, in __del__\n",
      "    self.close()\n",
      "  File \"/Users/timsb/miniconda3/envs/causal2020/lib/python3.7/site-packages/tqdm/notebook.py\", line 271, in close\n",
      "    self.sp(bar_style='danger')\n",
      "AttributeError: 'tqdm_notebook' object has no attribute 'sp'\n",
      "/Users/timsb/miniconda3/envs/causal2020/lib/python3.7/site-packages/pylogit/choice_tools.py:703: FutureWarning: arrays to stack must be passed as a \"sequence\" type such as list or tuple. Support for non-sequence iterables such as generators is deprecated as of NumPy 1.16 and will raise an error in the future.\n",
      "/Users/timsb/miniconda3/envs/causal2020/lib/python3.7/site-packages/pylogit/choice_tools.py:703: FutureWarning: arrays to stack must be passed as a \"sequence\" type such as list or tuple. Support for non-sequence iterables such as generators is deprecated as of NumPy 1.16 and will raise an error in the future.\n",
      "/Users/timsb/miniconda3/envs/causal2020/lib/python3.7/site-packages/pylogit/choice_tools.py:703: FutureWarning: arrays to stack must be passed as a \"sequence\" type such as list or tuple. Support for non-sequence iterables such as generators is deprecated as of NumPy 1.16 and will raise an error in the future.\n",
      "\n",
      "Simulating Choices:   0%|          | 0/3162 [00:00<?, ?it/s]\u001b[A"
     ]
    },
    {
     "name": "stdout",
     "output_type": "stream",
     "text": [
      "Converting data from wide to long...\n",
      "Simulating Choices...\n"
     ]
    },
    {
     "name": "stderr",
     "output_type": "stream",
     "text": [
      "Simulating Choices: 100%|██████████| 3162/3162 [00:00<00:00, 37103.20it/s]\n",
      "/Users/timsb/miniconda3/envs/causal2020/lib/python3.7/site-packages/pylogit/choice_tools.py:703: FutureWarning: arrays to stack must be passed as a \"sequence\" type such as list or tuple. Support for non-sequence iterables such as generators is deprecated as of NumPy 1.16 and will raise an error in the future.\n"
     ]
    },
    {
     "name": "stdout",
     "output_type": "stream",
     "text": [
      "Estimating the choice model...\n",
      "Estimating Causal Effects...\n",
      "Simulation number 92 is complete!\n",
      "==========================================\n",
      "==========================================\n",
      "Simulation number 93 of 200 is in progress...\n",
      "Simulation size is 3340\n",
      "------------------------------------------\n",
      "Simulating data...\n",
      "Simulating Availability...\n"
     ]
    },
    {
     "name": "stderr",
     "output_type": "stream",
     "text": [
      "/Users/timsb/miniconda3/envs/causal2020/lib/python3.7/site-packages/pylogit/choice_tools.py:703: FutureWarning: arrays to stack must be passed as a \"sequence\" type such as list or tuple. Support for non-sequence iterables such as generators is deprecated as of NumPy 1.16 and will raise an error in the future.\n",
      "/Users/timsb/miniconda3/envs/causal2020/lib/python3.7/site-packages/pylogit/choice_tools.py:703: FutureWarning: arrays to stack must be passed as a \"sequence\" type such as list or tuple. Support for non-sequence iterables such as generators is deprecated as of NumPy 1.16 and will raise an error in the future.\n",
      "Exception ignored in: <function tqdm.__del__ at 0x7fe05909bcb0>\n",
      "Traceback (most recent call last):\n",
      "  File \"/Users/timsb/miniconda3/envs/causal2020/lib/python3.7/site-packages/tqdm/std.py\", line 1124, in __del__\n",
      "    self.close()\n",
      "  File \"/Users/timsb/miniconda3/envs/causal2020/lib/python3.7/site-packages/tqdm/notebook.py\", line 271, in close\n",
      "    self.sp(bar_style='danger')\n",
      "AttributeError: 'tqdm_notebook' object has no attribute 'sp'\n",
      "/Users/timsb/miniconda3/envs/causal2020/lib/python3.7/site-packages/pylogit/choice_tools.py:703: FutureWarning: arrays to stack must be passed as a \"sequence\" type such as list or tuple. Support for non-sequence iterables such as generators is deprecated as of NumPy 1.16 and will raise an error in the future.\n",
      "/Users/timsb/miniconda3/envs/causal2020/lib/python3.7/site-packages/pylogit/choice_tools.py:703: FutureWarning: arrays to stack must be passed as a \"sequence\" type such as list or tuple. Support for non-sequence iterables such as generators is deprecated as of NumPy 1.16 and will raise an error in the future.\n",
      "/Users/timsb/miniconda3/envs/causal2020/lib/python3.7/site-packages/pylogit/choice_tools.py:703: FutureWarning: arrays to stack must be passed as a \"sequence\" type such as list or tuple. Support for non-sequence iterables such as generators is deprecated as of NumPy 1.16 and will raise an error in the future.\n",
      "\n",
      "Simulating Choices:   0%|          | 0/3340 [00:00<?, ?it/s]\u001b[A"
     ]
    },
    {
     "name": "stdout",
     "output_type": "stream",
     "text": [
      "Converting data from wide to long...\n",
      "Simulating Choices...\n"
     ]
    },
    {
     "name": "stderr",
     "output_type": "stream",
     "text": [
      "Simulating Choices: 100%|██████████| 3340/3340 [00:00<00:00, 36933.76it/s]\n",
      "/Users/timsb/miniconda3/envs/causal2020/lib/python3.7/site-packages/pylogit/choice_tools.py:703: FutureWarning: arrays to stack must be passed as a \"sequence\" type such as list or tuple. Support for non-sequence iterables such as generators is deprecated as of NumPy 1.16 and will raise an error in the future.\n"
     ]
    },
    {
     "name": "stdout",
     "output_type": "stream",
     "text": [
      "Estimating the choice model...\n",
      "Estimating Causal Effects...\n",
      "Simulation number 93 is complete!\n",
      "==========================================\n",
      "==========================================\n",
      "Simulation number 94 of 200 is in progress...\n",
      "Simulation size is 3451\n",
      "------------------------------------------\n",
      "Simulating data...\n",
      "Simulating Availability...\n"
     ]
    },
    {
     "name": "stderr",
     "output_type": "stream",
     "text": [
      "/Users/timsb/miniconda3/envs/causal2020/lib/python3.7/site-packages/pylogit/choice_tools.py:703: FutureWarning: arrays to stack must be passed as a \"sequence\" type such as list or tuple. Support for non-sequence iterables such as generators is deprecated as of NumPy 1.16 and will raise an error in the future.\n",
      "/Users/timsb/miniconda3/envs/causal2020/lib/python3.7/site-packages/pylogit/choice_tools.py:703: FutureWarning: arrays to stack must be passed as a \"sequence\" type such as list or tuple. Support for non-sequence iterables such as generators is deprecated as of NumPy 1.16 and will raise an error in the future.\n",
      "Exception ignored in: <function tqdm.__del__ at 0x7fe05909bcb0>\n",
      "Traceback (most recent call last):\n",
      "  File \"/Users/timsb/miniconda3/envs/causal2020/lib/python3.7/site-packages/tqdm/std.py\", line 1124, in __del__\n",
      "    self.close()\n",
      "  File \"/Users/timsb/miniconda3/envs/causal2020/lib/python3.7/site-packages/tqdm/notebook.py\", line 271, in close\n",
      "    self.sp(bar_style='danger')\n",
      "AttributeError: 'tqdm_notebook' object has no attribute 'sp'\n",
      "/Users/timsb/miniconda3/envs/causal2020/lib/python3.7/site-packages/pylogit/choice_tools.py:703: FutureWarning: arrays to stack must be passed as a \"sequence\" type such as list or tuple. Support for non-sequence iterables such as generators is deprecated as of NumPy 1.16 and will raise an error in the future.\n",
      "/Users/timsb/miniconda3/envs/causal2020/lib/python3.7/site-packages/pylogit/choice_tools.py:703: FutureWarning: arrays to stack must be passed as a \"sequence\" type such as list or tuple. Support for non-sequence iterables such as generators is deprecated as of NumPy 1.16 and will raise an error in the future.\n",
      "/Users/timsb/miniconda3/envs/causal2020/lib/python3.7/site-packages/pylogit/choice_tools.py:703: FutureWarning: arrays to stack must be passed as a \"sequence\" type such as list or tuple. Support for non-sequence iterables such as generators is deprecated as of NumPy 1.16 and will raise an error in the future.\n",
      "\n",
      "Simulating Choices:   0%|          | 0/3451 [00:00<?, ?it/s]\u001b[A"
     ]
    },
    {
     "name": "stdout",
     "output_type": "stream",
     "text": [
      "Converting data from wide to long...\n",
      "Simulating Choices...\n"
     ]
    },
    {
     "name": "stderr",
     "output_type": "stream",
     "text": [
      "Simulating Choices: 100%|██████████| 3451/3451 [00:00<00:00, 36601.79it/s]\n",
      "/Users/timsb/miniconda3/envs/causal2020/lib/python3.7/site-packages/pylogit/choice_tools.py:703: FutureWarning: arrays to stack must be passed as a \"sequence\" type such as list or tuple. Support for non-sequence iterables such as generators is deprecated as of NumPy 1.16 and will raise an error in the future.\n"
     ]
    },
    {
     "name": "stdout",
     "output_type": "stream",
     "text": [
      "Estimating the choice model...\n",
      "Estimating Causal Effects...\n",
      "Simulation number 94 is complete!\n",
      "==========================================\n",
      "==========================================\n",
      "Simulation number 95 of 200 is in progress...\n",
      "Simulation size is 3856\n",
      "------------------------------------------\n",
      "Simulating data...\n",
      "Simulating Availability...\n"
     ]
    },
    {
     "name": "stderr",
     "output_type": "stream",
     "text": [
      "/Users/timsb/miniconda3/envs/causal2020/lib/python3.7/site-packages/pylogit/choice_tools.py:703: FutureWarning: arrays to stack must be passed as a \"sequence\" type such as list or tuple. Support for non-sequence iterables such as generators is deprecated as of NumPy 1.16 and will raise an error in the future.\n",
      "/Users/timsb/miniconda3/envs/causal2020/lib/python3.7/site-packages/pylogit/choice_tools.py:703: FutureWarning: arrays to stack must be passed as a \"sequence\" type such as list or tuple. Support for non-sequence iterables such as generators is deprecated as of NumPy 1.16 and will raise an error in the future.\n",
      "Exception ignored in: <function tqdm.__del__ at 0x7fe05909bcb0>\n",
      "Traceback (most recent call last):\n",
      "  File \"/Users/timsb/miniconda3/envs/causal2020/lib/python3.7/site-packages/tqdm/std.py\", line 1124, in __del__\n",
      "    self.close()\n",
      "  File \"/Users/timsb/miniconda3/envs/causal2020/lib/python3.7/site-packages/tqdm/notebook.py\", line 271, in close\n",
      "    self.sp(bar_style='danger')\n",
      "AttributeError: 'tqdm_notebook' object has no attribute 'sp'\n",
      "/Users/timsb/miniconda3/envs/causal2020/lib/python3.7/site-packages/pylogit/choice_tools.py:703: FutureWarning: arrays to stack must be passed as a \"sequence\" type such as list or tuple. Support for non-sequence iterables such as generators is deprecated as of NumPy 1.16 and will raise an error in the future.\n",
      "/Users/timsb/miniconda3/envs/causal2020/lib/python3.7/site-packages/pylogit/choice_tools.py:703: FutureWarning: arrays to stack must be passed as a \"sequence\" type such as list or tuple. Support for non-sequence iterables such as generators is deprecated as of NumPy 1.16 and will raise an error in the future.\n",
      "/Users/timsb/miniconda3/envs/causal2020/lib/python3.7/site-packages/pylogit/choice_tools.py:703: FutureWarning: arrays to stack must be passed as a \"sequence\" type such as list or tuple. Support for non-sequence iterables such as generators is deprecated as of NumPy 1.16 and will raise an error in the future.\n",
      "\n",
      "Simulating Choices:   0%|          | 0/3856 [00:00<?, ?it/s]\u001b[A"
     ]
    },
    {
     "name": "stdout",
     "output_type": "stream",
     "text": [
      "Converting data from wide to long...\n",
      "Simulating Choices...\n"
     ]
    },
    {
     "name": "stderr",
     "output_type": "stream",
     "text": [
      "Simulating Choices: 100%|██████████| 3856/3856 [00:00<00:00, 38742.09it/s]\n",
      "/Users/timsb/miniconda3/envs/causal2020/lib/python3.7/site-packages/pylogit/choice_tools.py:703: FutureWarning: arrays to stack must be passed as a \"sequence\" type such as list or tuple. Support for non-sequence iterables such as generators is deprecated as of NumPy 1.16 and will raise an error in the future.\n"
     ]
    },
    {
     "name": "stdout",
     "output_type": "stream",
     "text": [
      "Estimating the choice model...\n",
      "Estimating Causal Effects...\n",
      "Simulation number 95 is complete!\n",
      "==========================================\n",
      "==========================================\n",
      "Simulation number 96 of 200 is in progress...\n",
      "Simulation size is 3969\n",
      "------------------------------------------\n",
      "Simulating data...\n",
      "Simulating Availability...\n"
     ]
    },
    {
     "name": "stderr",
     "output_type": "stream",
     "text": [
      "/Users/timsb/miniconda3/envs/causal2020/lib/python3.7/site-packages/pylogit/choice_tools.py:703: FutureWarning: arrays to stack must be passed as a \"sequence\" type such as list or tuple. Support for non-sequence iterables such as generators is deprecated as of NumPy 1.16 and will raise an error in the future.\n",
      "/Users/timsb/miniconda3/envs/causal2020/lib/python3.7/site-packages/pylogit/choice_tools.py:703: FutureWarning: arrays to stack must be passed as a \"sequence\" type such as list or tuple. Support for non-sequence iterables such as generators is deprecated as of NumPy 1.16 and will raise an error in the future.\n",
      "Exception ignored in: <function tqdm.__del__ at 0x7fe05909bcb0>\n",
      "Traceback (most recent call last):\n",
      "  File \"/Users/timsb/miniconda3/envs/causal2020/lib/python3.7/site-packages/tqdm/std.py\", line 1124, in __del__\n",
      "    self.close()\n",
      "  File \"/Users/timsb/miniconda3/envs/causal2020/lib/python3.7/site-packages/tqdm/notebook.py\", line 271, in close\n",
      "    self.sp(bar_style='danger')\n",
      "AttributeError: 'tqdm_notebook' object has no attribute 'sp'\n",
      "/Users/timsb/miniconda3/envs/causal2020/lib/python3.7/site-packages/pylogit/choice_tools.py:703: FutureWarning: arrays to stack must be passed as a \"sequence\" type such as list or tuple. Support for non-sequence iterables such as generators is deprecated as of NumPy 1.16 and will raise an error in the future.\n",
      "/Users/timsb/miniconda3/envs/causal2020/lib/python3.7/site-packages/pylogit/choice_tools.py:703: FutureWarning: arrays to stack must be passed as a \"sequence\" type such as list or tuple. Support for non-sequence iterables such as generators is deprecated as of NumPy 1.16 and will raise an error in the future.\n",
      "/Users/timsb/miniconda3/envs/causal2020/lib/python3.7/site-packages/pylogit/choice_tools.py:703: FutureWarning: arrays to stack must be passed as a \"sequence\" type such as list or tuple. Support for non-sequence iterables such as generators is deprecated as of NumPy 1.16 and will raise an error in the future.\n",
      "\n",
      "Simulating Choices:   0%|          | 0/3969 [00:00<?, ?it/s]\u001b[A"
     ]
    },
    {
     "name": "stdout",
     "output_type": "stream",
     "text": [
      "Converting data from wide to long...\n",
      "Simulating Choices...\n"
     ]
    },
    {
     "name": "stderr",
     "output_type": "stream",
     "text": [
      "Simulating Choices: 100%|██████████| 3969/3969 [00:00<00:00, 40819.05it/s]\n",
      "/Users/timsb/miniconda3/envs/causal2020/lib/python3.7/site-packages/pylogit/choice_tools.py:703: FutureWarning: arrays to stack must be passed as a \"sequence\" type such as list or tuple. Support for non-sequence iterables such as generators is deprecated as of NumPy 1.16 and will raise an error in the future.\n"
     ]
    },
    {
     "name": "stdout",
     "output_type": "stream",
     "text": [
      "Estimating the choice model...\n",
      "Estimating Causal Effects...\n",
      "Simulation number 96 is complete!\n",
      "==========================================\n",
      "==========================================\n",
      "Simulation number 97 of 200 is in progress...\n",
      "Simulation size is 3741\n",
      "------------------------------------------\n",
      "Simulating data...\n",
      "Simulating Availability...\n"
     ]
    },
    {
     "name": "stderr",
     "output_type": "stream",
     "text": [
      "/Users/timsb/miniconda3/envs/causal2020/lib/python3.7/site-packages/pylogit/choice_tools.py:703: FutureWarning: arrays to stack must be passed as a \"sequence\" type such as list or tuple. Support for non-sequence iterables such as generators is deprecated as of NumPy 1.16 and will raise an error in the future.\n",
      "/Users/timsb/miniconda3/envs/causal2020/lib/python3.7/site-packages/pylogit/choice_tools.py:703: FutureWarning: arrays to stack must be passed as a \"sequence\" type such as list or tuple. Support for non-sequence iterables such as generators is deprecated as of NumPy 1.16 and will raise an error in the future.\n",
      "Exception ignored in: <function tqdm.__del__ at 0x7fe05909bcb0>\n",
      "Traceback (most recent call last):\n",
      "  File \"/Users/timsb/miniconda3/envs/causal2020/lib/python3.7/site-packages/tqdm/std.py\", line 1124, in __del__\n",
      "    self.close()\n",
      "  File \"/Users/timsb/miniconda3/envs/causal2020/lib/python3.7/site-packages/tqdm/notebook.py\", line 271, in close\n",
      "    self.sp(bar_style='danger')\n",
      "AttributeError: 'tqdm_notebook' object has no attribute 'sp'\n",
      "/Users/timsb/miniconda3/envs/causal2020/lib/python3.7/site-packages/pylogit/choice_tools.py:703: FutureWarning: arrays to stack must be passed as a \"sequence\" type such as list or tuple. Support for non-sequence iterables such as generators is deprecated as of NumPy 1.16 and will raise an error in the future.\n",
      "/Users/timsb/miniconda3/envs/causal2020/lib/python3.7/site-packages/pylogit/choice_tools.py:703: FutureWarning: arrays to stack must be passed as a \"sequence\" type such as list or tuple. Support for non-sequence iterables such as generators is deprecated as of NumPy 1.16 and will raise an error in the future.\n",
      "/Users/timsb/miniconda3/envs/causal2020/lib/python3.7/site-packages/pylogit/choice_tools.py:703: FutureWarning: arrays to stack must be passed as a \"sequence\" type such as list or tuple. Support for non-sequence iterables such as generators is deprecated as of NumPy 1.16 and will raise an error in the future.\n",
      "\n",
      "Simulating Choices:   0%|          | 0/3741 [00:00<?, ?it/s]\u001b[A"
     ]
    },
    {
     "name": "stdout",
     "output_type": "stream",
     "text": [
      "Converting data from wide to long...\n",
      "Simulating Choices...\n"
     ]
    },
    {
     "name": "stderr",
     "output_type": "stream",
     "text": [
      "Simulating Choices: 100%|██████████| 3741/3741 [00:00<00:00, 39516.59it/s]\n",
      "/Users/timsb/miniconda3/envs/causal2020/lib/python3.7/site-packages/pylogit/choice_tools.py:703: FutureWarning: arrays to stack must be passed as a \"sequence\" type such as list or tuple. Support for non-sequence iterables such as generators is deprecated as of NumPy 1.16 and will raise an error in the future.\n"
     ]
    },
    {
     "name": "stdout",
     "output_type": "stream",
     "text": [
      "Estimating the choice model...\n",
      "Estimating Causal Effects...\n",
      "Simulation number 97 is complete!\n",
      "==========================================\n",
      "==========================================\n",
      "Simulation number 98 of 200 is in progress...\n",
      "Simulation size is 3758\n",
      "------------------------------------------\n",
      "Simulating data...\n",
      "Simulating Availability...\n"
     ]
    },
    {
     "name": "stderr",
     "output_type": "stream",
     "text": [
      "/Users/timsb/miniconda3/envs/causal2020/lib/python3.7/site-packages/pylogit/choice_tools.py:703: FutureWarning: arrays to stack must be passed as a \"sequence\" type such as list or tuple. Support for non-sequence iterables such as generators is deprecated as of NumPy 1.16 and will raise an error in the future.\n",
      "/Users/timsb/miniconda3/envs/causal2020/lib/python3.7/site-packages/pylogit/choice_tools.py:703: FutureWarning: arrays to stack must be passed as a \"sequence\" type such as list or tuple. Support for non-sequence iterables such as generators is deprecated as of NumPy 1.16 and will raise an error in the future.\n",
      "Exception ignored in: <function tqdm.__del__ at 0x7fe05909bcb0>\n",
      "Traceback (most recent call last):\n",
      "  File \"/Users/timsb/miniconda3/envs/causal2020/lib/python3.7/site-packages/tqdm/std.py\", line 1124, in __del__\n",
      "    self.close()\n",
      "  File \"/Users/timsb/miniconda3/envs/causal2020/lib/python3.7/site-packages/tqdm/notebook.py\", line 271, in close\n",
      "    self.sp(bar_style='danger')\n",
      "AttributeError: 'tqdm_notebook' object has no attribute 'sp'\n",
      "/Users/timsb/miniconda3/envs/causal2020/lib/python3.7/site-packages/pylogit/choice_tools.py:703: FutureWarning: arrays to stack must be passed as a \"sequence\" type such as list or tuple. Support for non-sequence iterables such as generators is deprecated as of NumPy 1.16 and will raise an error in the future.\n",
      "/Users/timsb/miniconda3/envs/causal2020/lib/python3.7/site-packages/pylogit/choice_tools.py:703: FutureWarning: arrays to stack must be passed as a \"sequence\" type such as list or tuple. Support for non-sequence iterables such as generators is deprecated as of NumPy 1.16 and will raise an error in the future.\n",
      "/Users/timsb/miniconda3/envs/causal2020/lib/python3.7/site-packages/pylogit/choice_tools.py:703: FutureWarning: arrays to stack must be passed as a \"sequence\" type such as list or tuple. Support for non-sequence iterables such as generators is deprecated as of NumPy 1.16 and will raise an error in the future.\n",
      "\n",
      "Simulating Choices:   0%|          | 0/3758 [00:00<?, ?it/s]\u001b[A"
     ]
    },
    {
     "name": "stdout",
     "output_type": "stream",
     "text": [
      "Converting data from wide to long...\n",
      "Simulating Choices...\n"
     ]
    },
    {
     "name": "stderr",
     "output_type": "stream",
     "text": [
      "Simulating Choices: 100%|██████████| 3758/3758 [00:00<00:00, 39600.72it/s]\n",
      "/Users/timsb/miniconda3/envs/causal2020/lib/python3.7/site-packages/pylogit/choice_tools.py:703: FutureWarning: arrays to stack must be passed as a \"sequence\" type such as list or tuple. Support for non-sequence iterables such as generators is deprecated as of NumPy 1.16 and will raise an error in the future.\n"
     ]
    },
    {
     "name": "stdout",
     "output_type": "stream",
     "text": [
      "Estimating the choice model...\n",
      "Estimating Causal Effects...\n",
      "Simulation number 98 is complete!\n",
      "==========================================\n",
      "==========================================\n",
      "Simulation number 99 of 200 is in progress...\n",
      "Simulation size is 3229\n",
      "------------------------------------------\n",
      "Simulating data...\n",
      "Simulating Availability...\n"
     ]
    },
    {
     "name": "stderr",
     "output_type": "stream",
     "text": [
      "/Users/timsb/miniconda3/envs/causal2020/lib/python3.7/site-packages/pylogit/choice_tools.py:703: FutureWarning: arrays to stack must be passed as a \"sequence\" type such as list or tuple. Support for non-sequence iterables such as generators is deprecated as of NumPy 1.16 and will raise an error in the future.\n",
      "/Users/timsb/miniconda3/envs/causal2020/lib/python3.7/site-packages/pylogit/choice_tools.py:703: FutureWarning: arrays to stack must be passed as a \"sequence\" type such as list or tuple. Support for non-sequence iterables such as generators is deprecated as of NumPy 1.16 and will raise an error in the future.\n",
      "Exception ignored in: <function tqdm.__del__ at 0x7fe05909bcb0>\n",
      "Traceback (most recent call last):\n",
      "  File \"/Users/timsb/miniconda3/envs/causal2020/lib/python3.7/site-packages/tqdm/std.py\", line 1124, in __del__\n",
      "    self.close()\n",
      "  File \"/Users/timsb/miniconda3/envs/causal2020/lib/python3.7/site-packages/tqdm/notebook.py\", line 271, in close\n",
      "    self.sp(bar_style='danger')\n",
      "AttributeError: 'tqdm_notebook' object has no attribute 'sp'\n",
      "/Users/timsb/miniconda3/envs/causal2020/lib/python3.7/site-packages/pylogit/choice_tools.py:703: FutureWarning: arrays to stack must be passed as a \"sequence\" type such as list or tuple. Support for non-sequence iterables such as generators is deprecated as of NumPy 1.16 and will raise an error in the future.\n",
      "/Users/timsb/miniconda3/envs/causal2020/lib/python3.7/site-packages/pylogit/choice_tools.py:703: FutureWarning: arrays to stack must be passed as a \"sequence\" type such as list or tuple. Support for non-sequence iterables such as generators is deprecated as of NumPy 1.16 and will raise an error in the future.\n",
      "/Users/timsb/miniconda3/envs/causal2020/lib/python3.7/site-packages/pylogit/choice_tools.py:703: FutureWarning: arrays to stack must be passed as a \"sequence\" type such as list or tuple. Support for non-sequence iterables such as generators is deprecated as of NumPy 1.16 and will raise an error in the future.\n",
      "\n",
      "Simulating Choices:   0%|          | 0/3229 [00:00<?, ?it/s]\u001b[A"
     ]
    },
    {
     "name": "stdout",
     "output_type": "stream",
     "text": [
      "Converting data from wide to long...\n",
      "Simulating Choices...\n"
     ]
    },
    {
     "name": "stderr",
     "output_type": "stream",
     "text": [
      "Simulating Choices: 100%|██████████| 3229/3229 [00:00<00:00, 36197.51it/s]\n",
      "/Users/timsb/miniconda3/envs/causal2020/lib/python3.7/site-packages/pylogit/choice_tools.py:703: FutureWarning: arrays to stack must be passed as a \"sequence\" type such as list or tuple. Support for non-sequence iterables such as generators is deprecated as of NumPy 1.16 and will raise an error in the future.\n"
     ]
    },
    {
     "name": "stdout",
     "output_type": "stream",
     "text": [
      "Estimating the choice model...\n",
      "Estimating Causal Effects...\n"
     ]
    },
    {
     "name": "stderr",
     "output_type": "stream",
     "text": [
      "/Users/timsb/miniconda3/envs/causal2020/lib/python3.7/site-packages/pylogit/choice_tools.py:703: FutureWarning: arrays to stack must be passed as a \"sequence\" type such as list or tuple. Support for non-sequence iterables such as generators is deprecated as of NumPy 1.16 and will raise an error in the future.\n",
      "/Users/timsb/miniconda3/envs/causal2020/lib/python3.7/site-packages/pylogit/choice_tools.py:703: FutureWarning: arrays to stack must be passed as a \"sequence\" type such as list or tuple. Support for non-sequence iterables such as generators is deprecated as of NumPy 1.16 and will raise an error in the future.\n",
      "Exception ignored in: <function tqdm.__del__ at 0x7fe05909bcb0>\n",
      "Traceback (most recent call last):\n",
      "  File \"/Users/timsb/miniconda3/envs/causal2020/lib/python3.7/site-packages/tqdm/std.py\", line 1124, in __del__\n",
      "    self.close()\n",
      "  File \"/Users/timsb/miniconda3/envs/causal2020/lib/python3.7/site-packages/tqdm/notebook.py\", line 271, in close\n",
      "    self.sp(bar_style='danger')\n",
      "AttributeError: 'tqdm_notebook' object has no attribute 'sp'\n",
      "/Users/timsb/miniconda3/envs/causal2020/lib/python3.7/site-packages/pylogit/choice_tools.py:703: FutureWarning: arrays to stack must be passed as a \"sequence\" type such as list or tuple. Support for non-sequence iterables such as generators is deprecated as of NumPy 1.16 and will raise an error in the future.\n",
      "/Users/timsb/miniconda3/envs/causal2020/lib/python3.7/site-packages/pylogit/choice_tools.py:703: FutureWarning: arrays to stack must be passed as a \"sequence\" type such as list or tuple. Support for non-sequence iterables such as generators is deprecated as of NumPy 1.16 and will raise an error in the future.\n"
     ]
    },
    {
     "name": "stdout",
     "output_type": "stream",
     "text": [
      "Simulation number 99 is complete!\n",
      "==========================================\n",
      "==========================================\n",
      "Simulation number 100 of 200 is in progress...\n",
      "Simulation size is 3721\n",
      "------------------------------------------\n",
      "Simulating data...\n",
      "Simulating Availability...\n"
     ]
    },
    {
     "name": "stderr",
     "output_type": "stream",
     "text": [
      "/Users/timsb/miniconda3/envs/causal2020/lib/python3.7/site-packages/pylogit/choice_tools.py:703: FutureWarning: arrays to stack must be passed as a \"sequence\" type such as list or tuple. Support for non-sequence iterables such as generators is deprecated as of NumPy 1.16 and will raise an error in the future.\n",
      "\n",
      "Simulating Choices:   0%|          | 0/3721 [00:00<?, ?it/s]\u001b[A"
     ]
    },
    {
     "name": "stdout",
     "output_type": "stream",
     "text": [
      "Converting data from wide to long...\n",
      "Simulating Choices...\n"
     ]
    },
    {
     "name": "stderr",
     "output_type": "stream",
     "text": [
      "Simulating Choices: 100%|██████████| 3721/3721 [00:00<00:00, 38853.16it/s]\n",
      "/Users/timsb/miniconda3/envs/causal2020/lib/python3.7/site-packages/pylogit/choice_tools.py:703: FutureWarning: arrays to stack must be passed as a \"sequence\" type such as list or tuple. Support for non-sequence iterables such as generators is deprecated as of NumPy 1.16 and will raise an error in the future.\n"
     ]
    },
    {
     "name": "stdout",
     "output_type": "stream",
     "text": [
      "Estimating the choice model...\n",
      "Estimating Causal Effects...\n",
      "Simulation number 100 is complete!\n",
      "==========================================\n",
      "==========================================\n",
      "Simulation number 101 of 200 is in progress...\n",
      "Simulation size is 3339\n",
      "------------------------------------------\n",
      "Simulating data...\n",
      "Simulating Availability...\n"
     ]
    },
    {
     "name": "stderr",
     "output_type": "stream",
     "text": [
      "/Users/timsb/miniconda3/envs/causal2020/lib/python3.7/site-packages/pylogit/choice_tools.py:703: FutureWarning: arrays to stack must be passed as a \"sequence\" type such as list or tuple. Support for non-sequence iterables such as generators is deprecated as of NumPy 1.16 and will raise an error in the future.\n",
      "/Users/timsb/miniconda3/envs/causal2020/lib/python3.7/site-packages/pylogit/choice_tools.py:703: FutureWarning: arrays to stack must be passed as a \"sequence\" type such as list or tuple. Support for non-sequence iterables such as generators is deprecated as of NumPy 1.16 and will raise an error in the future.\n",
      "Exception ignored in: <function tqdm.__del__ at 0x7fe05909bcb0>\n",
      "Traceback (most recent call last):\n",
      "  File \"/Users/timsb/miniconda3/envs/causal2020/lib/python3.7/site-packages/tqdm/std.py\", line 1124, in __del__\n",
      "    self.close()\n",
      "  File \"/Users/timsb/miniconda3/envs/causal2020/lib/python3.7/site-packages/tqdm/notebook.py\", line 271, in close\n",
      "    self.sp(bar_style='danger')\n",
      "AttributeError: 'tqdm_notebook' object has no attribute 'sp'\n",
      "/Users/timsb/miniconda3/envs/causal2020/lib/python3.7/site-packages/pylogit/choice_tools.py:703: FutureWarning: arrays to stack must be passed as a \"sequence\" type such as list or tuple. Support for non-sequence iterables such as generators is deprecated as of NumPy 1.16 and will raise an error in the future.\n",
      "/Users/timsb/miniconda3/envs/causal2020/lib/python3.7/site-packages/pylogit/choice_tools.py:703: FutureWarning: arrays to stack must be passed as a \"sequence\" type such as list or tuple. Support for non-sequence iterables such as generators is deprecated as of NumPy 1.16 and will raise an error in the future.\n",
      "/Users/timsb/miniconda3/envs/causal2020/lib/python3.7/site-packages/pylogit/choice_tools.py:703: FutureWarning: arrays to stack must be passed as a \"sequence\" type such as list or tuple. Support for non-sequence iterables such as generators is deprecated as of NumPy 1.16 and will raise an error in the future.\n",
      "\n",
      "Simulating Choices:   0%|          | 0/3339 [00:00<?, ?it/s]\u001b[A"
     ]
    },
    {
     "name": "stdout",
     "output_type": "stream",
     "text": [
      "Converting data from wide to long...\n",
      "Simulating Choices...\n"
     ]
    },
    {
     "name": "stderr",
     "output_type": "stream",
     "text": [
      "Simulating Choices: 100%|██████████| 3339/3339 [00:00<00:00, 37951.90it/s]\n",
      "/Users/timsb/miniconda3/envs/causal2020/lib/python3.7/site-packages/pylogit/choice_tools.py:703: FutureWarning: arrays to stack must be passed as a \"sequence\" type such as list or tuple. Support for non-sequence iterables such as generators is deprecated as of NumPy 1.16 and will raise an error in the future.\n"
     ]
    },
    {
     "name": "stdout",
     "output_type": "stream",
     "text": [
      "Estimating the choice model...\n",
      "Estimating Causal Effects...\n",
      "Simulation number 101 is complete!\n",
      "==========================================\n",
      "==========================================\n",
      "Simulation number 102 of 200 is in progress...\n",
      "Simulation size is 3742\n",
      "------------------------------------------\n",
      "Simulating data...\n",
      "Simulating Availability...\n"
     ]
    },
    {
     "name": "stderr",
     "output_type": "stream",
     "text": [
      "/Users/timsb/miniconda3/envs/causal2020/lib/python3.7/site-packages/pylogit/choice_tools.py:703: FutureWarning: arrays to stack must be passed as a \"sequence\" type such as list or tuple. Support for non-sequence iterables such as generators is deprecated as of NumPy 1.16 and will raise an error in the future.\n",
      "/Users/timsb/miniconda3/envs/causal2020/lib/python3.7/site-packages/pylogit/choice_tools.py:703: FutureWarning: arrays to stack must be passed as a \"sequence\" type such as list or tuple. Support for non-sequence iterables such as generators is deprecated as of NumPy 1.16 and will raise an error in the future.\n",
      "Exception ignored in: <function tqdm.__del__ at 0x7fe05909bcb0>\n",
      "Traceback (most recent call last):\n",
      "  File \"/Users/timsb/miniconda3/envs/causal2020/lib/python3.7/site-packages/tqdm/std.py\", line 1124, in __del__\n",
      "    self.close()\n",
      "  File \"/Users/timsb/miniconda3/envs/causal2020/lib/python3.7/site-packages/tqdm/notebook.py\", line 271, in close\n",
      "    self.sp(bar_style='danger')\n",
      "AttributeError: 'tqdm_notebook' object has no attribute 'sp'\n",
      "/Users/timsb/miniconda3/envs/causal2020/lib/python3.7/site-packages/pylogit/choice_tools.py:703: FutureWarning: arrays to stack must be passed as a \"sequence\" type such as list or tuple. Support for non-sequence iterables such as generators is deprecated as of NumPy 1.16 and will raise an error in the future.\n",
      "/Users/timsb/miniconda3/envs/causal2020/lib/python3.7/site-packages/pylogit/choice_tools.py:703: FutureWarning: arrays to stack must be passed as a \"sequence\" type such as list or tuple. Support for non-sequence iterables such as generators is deprecated as of NumPy 1.16 and will raise an error in the future.\n",
      "/Users/timsb/miniconda3/envs/causal2020/lib/python3.7/site-packages/pylogit/choice_tools.py:703: FutureWarning: arrays to stack must be passed as a \"sequence\" type such as list or tuple. Support for non-sequence iterables such as generators is deprecated as of NumPy 1.16 and will raise an error in the future.\n",
      "\n",
      "Simulating Choices:   0%|          | 0/3742 [00:00<?, ?it/s]\u001b[A"
     ]
    },
    {
     "name": "stdout",
     "output_type": "stream",
     "text": [
      "Converting data from wide to long...\n",
      "Simulating Choices...\n"
     ]
    },
    {
     "name": "stderr",
     "output_type": "stream",
     "text": [
      "Simulating Choices: 100%|██████████| 3742/3742 [00:00<00:00, 38871.45it/s]\n",
      "/Users/timsb/miniconda3/envs/causal2020/lib/python3.7/site-packages/pylogit/choice_tools.py:703: FutureWarning: arrays to stack must be passed as a \"sequence\" type such as list or tuple. Support for non-sequence iterables such as generators is deprecated as of NumPy 1.16 and will raise an error in the future.\n"
     ]
    },
    {
     "name": "stdout",
     "output_type": "stream",
     "text": [
      "Estimating the choice model...\n",
      "Estimating Causal Effects...\n",
      "Simulation number 102 is complete!\n",
      "==========================================\n",
      "==========================================\n",
      "Simulation number 103 of 200 is in progress...\n",
      "Simulation size is 3410\n",
      "------------------------------------------\n",
      "Simulating data...\n",
      "Simulating Availability...\n"
     ]
    },
    {
     "name": "stderr",
     "output_type": "stream",
     "text": [
      "/Users/timsb/miniconda3/envs/causal2020/lib/python3.7/site-packages/pylogit/choice_tools.py:703: FutureWarning: arrays to stack must be passed as a \"sequence\" type such as list or tuple. Support for non-sequence iterables such as generators is deprecated as of NumPy 1.16 and will raise an error in the future.\n",
      "/Users/timsb/miniconda3/envs/causal2020/lib/python3.7/site-packages/pylogit/choice_tools.py:703: FutureWarning: arrays to stack must be passed as a \"sequence\" type such as list or tuple. Support for non-sequence iterables such as generators is deprecated as of NumPy 1.16 and will raise an error in the future.\n",
      "Exception ignored in: <function tqdm.__del__ at 0x7fe05909bcb0>\n",
      "Traceback (most recent call last):\n",
      "  File \"/Users/timsb/miniconda3/envs/causal2020/lib/python3.7/site-packages/tqdm/std.py\", line 1124, in __del__\n",
      "    self.close()\n",
      "  File \"/Users/timsb/miniconda3/envs/causal2020/lib/python3.7/site-packages/tqdm/notebook.py\", line 271, in close\n",
      "    self.sp(bar_style='danger')\n",
      "AttributeError: 'tqdm_notebook' object has no attribute 'sp'\n",
      "/Users/timsb/miniconda3/envs/causal2020/lib/python3.7/site-packages/pylogit/choice_tools.py:703: FutureWarning: arrays to stack must be passed as a \"sequence\" type such as list or tuple. Support for non-sequence iterables such as generators is deprecated as of NumPy 1.16 and will raise an error in the future.\n",
      "/Users/timsb/miniconda3/envs/causal2020/lib/python3.7/site-packages/pylogit/choice_tools.py:703: FutureWarning: arrays to stack must be passed as a \"sequence\" type such as list or tuple. Support for non-sequence iterables such as generators is deprecated as of NumPy 1.16 and will raise an error in the future.\n",
      "/Users/timsb/miniconda3/envs/causal2020/lib/python3.7/site-packages/pylogit/choice_tools.py:703: FutureWarning: arrays to stack must be passed as a \"sequence\" type such as list or tuple. Support for non-sequence iterables such as generators is deprecated as of NumPy 1.16 and will raise an error in the future.\n",
      "\n",
      "Simulating Choices:   0%|          | 0/3410 [00:00<?, ?it/s]\u001b[A"
     ]
    },
    {
     "name": "stdout",
     "output_type": "stream",
     "text": [
      "Converting data from wide to long...\n",
      "Simulating Choices...\n"
     ]
    },
    {
     "name": "stderr",
     "output_type": "stream",
     "text": [
      "Simulating Choices: 100%|██████████| 3410/3410 [00:00<00:00, 36562.37it/s]\n",
      "/Users/timsb/miniconda3/envs/causal2020/lib/python3.7/site-packages/pylogit/choice_tools.py:703: FutureWarning: arrays to stack must be passed as a \"sequence\" type such as list or tuple. Support for non-sequence iterables such as generators is deprecated as of NumPy 1.16 and will raise an error in the future.\n"
     ]
    },
    {
     "name": "stdout",
     "output_type": "stream",
     "text": [
      "Estimating the choice model...\n",
      "Estimating Causal Effects...\n",
      "Simulation number 103 is complete!\n",
      "==========================================\n",
      "==========================================\n",
      "Simulation number 104 of 200 is in progress...\n",
      "Simulation size is 3390\n",
      "------------------------------------------\n",
      "Simulating data...\n",
      "Simulating Availability...\n"
     ]
    },
    {
     "name": "stderr",
     "output_type": "stream",
     "text": [
      "/Users/timsb/miniconda3/envs/causal2020/lib/python3.7/site-packages/pylogit/choice_tools.py:703: FutureWarning: arrays to stack must be passed as a \"sequence\" type such as list or tuple. Support for non-sequence iterables such as generators is deprecated as of NumPy 1.16 and will raise an error in the future.\n",
      "/Users/timsb/miniconda3/envs/causal2020/lib/python3.7/site-packages/pylogit/choice_tools.py:703: FutureWarning: arrays to stack must be passed as a \"sequence\" type such as list or tuple. Support for non-sequence iterables such as generators is deprecated as of NumPy 1.16 and will raise an error in the future.\n",
      "Exception ignored in: <function tqdm.__del__ at 0x7fe05909bcb0>\n",
      "Traceback (most recent call last):\n",
      "  File \"/Users/timsb/miniconda3/envs/causal2020/lib/python3.7/site-packages/tqdm/std.py\", line 1124, in __del__\n",
      "    self.close()\n",
      "  File \"/Users/timsb/miniconda3/envs/causal2020/lib/python3.7/site-packages/tqdm/notebook.py\", line 271, in close\n",
      "    self.sp(bar_style='danger')\n",
      "AttributeError: 'tqdm_notebook' object has no attribute 'sp'\n",
      "/Users/timsb/miniconda3/envs/causal2020/lib/python3.7/site-packages/pylogit/choice_tools.py:703: FutureWarning: arrays to stack must be passed as a \"sequence\" type such as list or tuple. Support for non-sequence iterables such as generators is deprecated as of NumPy 1.16 and will raise an error in the future.\n",
      "/Users/timsb/miniconda3/envs/causal2020/lib/python3.7/site-packages/pylogit/choice_tools.py:703: FutureWarning: arrays to stack must be passed as a \"sequence\" type such as list or tuple. Support for non-sequence iterables such as generators is deprecated as of NumPy 1.16 and will raise an error in the future.\n",
      "/Users/timsb/miniconda3/envs/causal2020/lib/python3.7/site-packages/pylogit/choice_tools.py:703: FutureWarning: arrays to stack must be passed as a \"sequence\" type such as list or tuple. Support for non-sequence iterables such as generators is deprecated as of NumPy 1.16 and will raise an error in the future.\n",
      "\n",
      "Simulating Choices:   0%|          | 0/3390 [00:00<?, ?it/s]\u001b[A"
     ]
    },
    {
     "name": "stdout",
     "output_type": "stream",
     "text": [
      "Converting data from wide to long...\n",
      "Simulating Choices...\n"
     ]
    },
    {
     "name": "stderr",
     "output_type": "stream",
     "text": [
      "Simulating Choices: 100%|██████████| 3390/3390 [00:00<00:00, 37917.42it/s]\n",
      "/Users/timsb/miniconda3/envs/causal2020/lib/python3.7/site-packages/pylogit/choice_tools.py:703: FutureWarning: arrays to stack must be passed as a \"sequence\" type such as list or tuple. Support for non-sequence iterables such as generators is deprecated as of NumPy 1.16 and will raise an error in the future.\n"
     ]
    },
    {
     "name": "stdout",
     "output_type": "stream",
     "text": [
      "Estimating the choice model...\n",
      "Estimating Causal Effects...\n",
      "Simulation number 104 is complete!\n",
      "==========================================\n",
      "==========================================\n",
      "Simulation number 105 of 200 is in progress...\n",
      "Simulation size is 3266\n",
      "------------------------------------------\n",
      "Simulating data...\n",
      "Simulating Availability...\n"
     ]
    },
    {
     "name": "stderr",
     "output_type": "stream",
     "text": [
      "/Users/timsb/miniconda3/envs/causal2020/lib/python3.7/site-packages/pylogit/choice_tools.py:703: FutureWarning: arrays to stack must be passed as a \"sequence\" type such as list or tuple. Support for non-sequence iterables such as generators is deprecated as of NumPy 1.16 and will raise an error in the future.\n",
      "/Users/timsb/miniconda3/envs/causal2020/lib/python3.7/site-packages/pylogit/choice_tools.py:703: FutureWarning: arrays to stack must be passed as a \"sequence\" type such as list or tuple. Support for non-sequence iterables such as generators is deprecated as of NumPy 1.16 and will raise an error in the future.\n",
      "Exception ignored in: <function tqdm.__del__ at 0x7fe05909bcb0>\n",
      "Traceback (most recent call last):\n",
      "  File \"/Users/timsb/miniconda3/envs/causal2020/lib/python3.7/site-packages/tqdm/std.py\", line 1124, in __del__\n",
      "    self.close()\n",
      "  File \"/Users/timsb/miniconda3/envs/causal2020/lib/python3.7/site-packages/tqdm/notebook.py\", line 271, in close\n",
      "    self.sp(bar_style='danger')\n",
      "AttributeError: 'tqdm_notebook' object has no attribute 'sp'\n",
      "/Users/timsb/miniconda3/envs/causal2020/lib/python3.7/site-packages/pylogit/choice_tools.py:703: FutureWarning: arrays to stack must be passed as a \"sequence\" type such as list or tuple. Support for non-sequence iterables such as generators is deprecated as of NumPy 1.16 and will raise an error in the future.\n",
      "/Users/timsb/miniconda3/envs/causal2020/lib/python3.7/site-packages/pylogit/choice_tools.py:703: FutureWarning: arrays to stack must be passed as a \"sequence\" type such as list or tuple. Support for non-sequence iterables such as generators is deprecated as of NumPy 1.16 and will raise an error in the future.\n",
      "/Users/timsb/miniconda3/envs/causal2020/lib/python3.7/site-packages/pylogit/choice_tools.py:703: FutureWarning: arrays to stack must be passed as a \"sequence\" type such as list or tuple. Support for non-sequence iterables such as generators is deprecated as of NumPy 1.16 and will raise an error in the future.\n",
      "\n",
      "Simulating Choices:   0%|          | 0/3266 [00:00<?, ?it/s]\u001b[A"
     ]
    },
    {
     "name": "stdout",
     "output_type": "stream",
     "text": [
      "Converting data from wide to long...\n",
      "Simulating Choices...\n"
     ]
    },
    {
     "name": "stderr",
     "output_type": "stream",
     "text": [
      "Simulating Choices: 100%|██████████| 3266/3266 [00:00<00:00, 36530.08it/s]\n",
      "/Users/timsb/miniconda3/envs/causal2020/lib/python3.7/site-packages/pylogit/choice_tools.py:703: FutureWarning: arrays to stack must be passed as a \"sequence\" type such as list or tuple. Support for non-sequence iterables such as generators is deprecated as of NumPy 1.16 and will raise an error in the future.\n"
     ]
    },
    {
     "name": "stdout",
     "output_type": "stream",
     "text": [
      "Estimating the choice model...\n",
      "Estimating Causal Effects...\n"
     ]
    },
    {
     "name": "stderr",
     "output_type": "stream",
     "text": [
      "/Users/timsb/miniconda3/envs/causal2020/lib/python3.7/site-packages/pylogit/choice_tools.py:703: FutureWarning: arrays to stack must be passed as a \"sequence\" type such as list or tuple. Support for non-sequence iterables such as generators is deprecated as of NumPy 1.16 and will raise an error in the future.\n",
      "/Users/timsb/miniconda3/envs/causal2020/lib/python3.7/site-packages/pylogit/choice_tools.py:703: FutureWarning: arrays to stack must be passed as a \"sequence\" type such as list or tuple. Support for non-sequence iterables such as generators is deprecated as of NumPy 1.16 and will raise an error in the future.\n",
      "Exception ignored in: <function tqdm.__del__ at 0x7fe05909bcb0>\n",
      "Traceback (most recent call last):\n",
      "  File \"/Users/timsb/miniconda3/envs/causal2020/lib/python3.7/site-packages/tqdm/std.py\", line 1124, in __del__\n",
      "    self.close()\n",
      "  File \"/Users/timsb/miniconda3/envs/causal2020/lib/python3.7/site-packages/tqdm/notebook.py\", line 271, in close\n",
      "    self.sp(bar_style='danger')\n",
      "AttributeError: 'tqdm_notebook' object has no attribute 'sp'\n",
      "/Users/timsb/miniconda3/envs/causal2020/lib/python3.7/site-packages/pylogit/choice_tools.py:703: FutureWarning: arrays to stack must be passed as a \"sequence\" type such as list or tuple. Support for non-sequence iterables such as generators is deprecated as of NumPy 1.16 and will raise an error in the future.\n",
      "/Users/timsb/miniconda3/envs/causal2020/lib/python3.7/site-packages/pylogit/choice_tools.py:703: FutureWarning: arrays to stack must be passed as a \"sequence\" type such as list or tuple. Support for non-sequence iterables such as generators is deprecated as of NumPy 1.16 and will raise an error in the future.\n"
     ]
    },
    {
     "name": "stdout",
     "output_type": "stream",
     "text": [
      "Simulation number 105 is complete!\n",
      "==========================================\n",
      "==========================================\n",
      "Simulation number 106 of 200 is in progress...\n",
      "Simulation size is 3071\n",
      "------------------------------------------\n",
      "Simulating data...\n",
      "Simulating Availability...\n"
     ]
    },
    {
     "name": "stderr",
     "output_type": "stream",
     "text": [
      "/Users/timsb/miniconda3/envs/causal2020/lib/python3.7/site-packages/pylogit/choice_tools.py:703: FutureWarning: arrays to stack must be passed as a \"sequence\" type such as list or tuple. Support for non-sequence iterables such as generators is deprecated as of NumPy 1.16 and will raise an error in the future.\n",
      "\n",
      "Simulating Choices:   0%|          | 0/3071 [00:00<?, ?it/s]\u001b[A"
     ]
    },
    {
     "name": "stdout",
     "output_type": "stream",
     "text": [
      "Converting data from wide to long...\n",
      "Simulating Choices...\n"
     ]
    },
    {
     "name": "stderr",
     "output_type": "stream",
     "text": [
      "Simulating Choices: 100%|██████████| 3071/3071 [00:00<00:00, 36200.07it/s]\n",
      "/Users/timsb/miniconda3/envs/causal2020/lib/python3.7/site-packages/pylogit/choice_tools.py:703: FutureWarning: arrays to stack must be passed as a \"sequence\" type such as list or tuple. Support for non-sequence iterables such as generators is deprecated as of NumPy 1.16 and will raise an error in the future.\n"
     ]
    },
    {
     "name": "stdout",
     "output_type": "stream",
     "text": [
      "Estimating the choice model...\n",
      "Estimating Causal Effects...\n",
      "Simulation number 106 is complete!\n",
      "==========================================\n",
      "==========================================\n",
      "Simulation number 107 of 200 is in progress...\n",
      "Simulation size is 3946\n",
      "------------------------------------------\n",
      "Simulating data...\n",
      "Simulating Availability...\n"
     ]
    },
    {
     "name": "stderr",
     "output_type": "stream",
     "text": [
      "/Users/timsb/miniconda3/envs/causal2020/lib/python3.7/site-packages/pylogit/choice_tools.py:703: FutureWarning: arrays to stack must be passed as a \"sequence\" type such as list or tuple. Support for non-sequence iterables such as generators is deprecated as of NumPy 1.16 and will raise an error in the future.\n",
      "/Users/timsb/miniconda3/envs/causal2020/lib/python3.7/site-packages/pylogit/choice_tools.py:703: FutureWarning: arrays to stack must be passed as a \"sequence\" type such as list or tuple. Support for non-sequence iterables such as generators is deprecated as of NumPy 1.16 and will raise an error in the future.\n",
      "Exception ignored in: <function tqdm.__del__ at 0x7fe05909bcb0>\n",
      "Traceback (most recent call last):\n",
      "  File \"/Users/timsb/miniconda3/envs/causal2020/lib/python3.7/site-packages/tqdm/std.py\", line 1124, in __del__\n",
      "    self.close()\n",
      "  File \"/Users/timsb/miniconda3/envs/causal2020/lib/python3.7/site-packages/tqdm/notebook.py\", line 271, in close\n",
      "    self.sp(bar_style='danger')\n",
      "AttributeError: 'tqdm_notebook' object has no attribute 'sp'\n",
      "/Users/timsb/miniconda3/envs/causal2020/lib/python3.7/site-packages/pylogit/choice_tools.py:703: FutureWarning: arrays to stack must be passed as a \"sequence\" type such as list or tuple. Support for non-sequence iterables such as generators is deprecated as of NumPy 1.16 and will raise an error in the future.\n",
      "/Users/timsb/miniconda3/envs/causal2020/lib/python3.7/site-packages/pylogit/choice_tools.py:703: FutureWarning: arrays to stack must be passed as a \"sequence\" type such as list or tuple. Support for non-sequence iterables such as generators is deprecated as of NumPy 1.16 and will raise an error in the future.\n",
      "/Users/timsb/miniconda3/envs/causal2020/lib/python3.7/site-packages/pylogit/choice_tools.py:703: FutureWarning: arrays to stack must be passed as a \"sequence\" type such as list or tuple. Support for non-sequence iterables such as generators is deprecated as of NumPy 1.16 and will raise an error in the future.\n",
      "\n",
      "Simulating Choices:   0%|          | 0/3946 [00:00<?, ?it/s]\u001b[A"
     ]
    },
    {
     "name": "stdout",
     "output_type": "stream",
     "text": [
      "Converting data from wide to long...\n",
      "Simulating Choices...\n"
     ]
    },
    {
     "name": "stderr",
     "output_type": "stream",
     "text": [
      "Simulating Choices: 100%|██████████| 3946/3946 [00:00<00:00, 41060.03it/s]\n",
      "/Users/timsb/miniconda3/envs/causal2020/lib/python3.7/site-packages/pylogit/choice_tools.py:703: FutureWarning: arrays to stack must be passed as a \"sequence\" type such as list or tuple. Support for non-sequence iterables such as generators is deprecated as of NumPy 1.16 and will raise an error in the future.\n"
     ]
    },
    {
     "name": "stdout",
     "output_type": "stream",
     "text": [
      "Estimating the choice model...\n",
      "Estimating Causal Effects...\n",
      "Simulation number 107 is complete!\n",
      "==========================================\n",
      "==========================================\n",
      "Simulation number 108 of 200 is in progress...\n",
      "Simulation size is 3865\n",
      "------------------------------------------\n",
      "Simulating data...\n",
      "Simulating Availability...\n"
     ]
    },
    {
     "name": "stderr",
     "output_type": "stream",
     "text": [
      "/Users/timsb/miniconda3/envs/causal2020/lib/python3.7/site-packages/pylogit/choice_tools.py:703: FutureWarning: arrays to stack must be passed as a \"sequence\" type such as list or tuple. Support for non-sequence iterables such as generators is deprecated as of NumPy 1.16 and will raise an error in the future.\n",
      "/Users/timsb/miniconda3/envs/causal2020/lib/python3.7/site-packages/pylogit/choice_tools.py:703: FutureWarning: arrays to stack must be passed as a \"sequence\" type such as list or tuple. Support for non-sequence iterables such as generators is deprecated as of NumPy 1.16 and will raise an error in the future.\n",
      "Exception ignored in: <function tqdm.__del__ at 0x7fe05909bcb0>\n",
      "Traceback (most recent call last):\n",
      "  File \"/Users/timsb/miniconda3/envs/causal2020/lib/python3.7/site-packages/tqdm/std.py\", line 1124, in __del__\n",
      "    self.close()\n",
      "  File \"/Users/timsb/miniconda3/envs/causal2020/lib/python3.7/site-packages/tqdm/notebook.py\", line 271, in close\n",
      "    self.sp(bar_style='danger')\n",
      "AttributeError: 'tqdm_notebook' object has no attribute 'sp'\n",
      "/Users/timsb/miniconda3/envs/causal2020/lib/python3.7/site-packages/pylogit/choice_tools.py:703: FutureWarning: arrays to stack must be passed as a \"sequence\" type such as list or tuple. Support for non-sequence iterables such as generators is deprecated as of NumPy 1.16 and will raise an error in the future.\n",
      "/Users/timsb/miniconda3/envs/causal2020/lib/python3.7/site-packages/pylogit/choice_tools.py:703: FutureWarning: arrays to stack must be passed as a \"sequence\" type such as list or tuple. Support for non-sequence iterables such as generators is deprecated as of NumPy 1.16 and will raise an error in the future.\n",
      "/Users/timsb/miniconda3/envs/causal2020/lib/python3.7/site-packages/pylogit/choice_tools.py:703: FutureWarning: arrays to stack must be passed as a \"sequence\" type such as list or tuple. Support for non-sequence iterables such as generators is deprecated as of NumPy 1.16 and will raise an error in the future.\n",
      "\n",
      "Simulating Choices:   0%|          | 0/3865 [00:00<?, ?it/s]\u001b[A"
     ]
    },
    {
     "name": "stdout",
     "output_type": "stream",
     "text": [
      "Converting data from wide to long...\n",
      "Simulating Choices...\n"
     ]
    },
    {
     "name": "stderr",
     "output_type": "stream",
     "text": [
      "Simulating Choices: 100%|██████████| 3865/3865 [00:00<00:00, 39781.46it/s]\n",
      "/Users/timsb/miniconda3/envs/causal2020/lib/python3.7/site-packages/pylogit/choice_tools.py:703: FutureWarning: arrays to stack must be passed as a \"sequence\" type such as list or tuple. Support for non-sequence iterables such as generators is deprecated as of NumPy 1.16 and will raise an error in the future.\n"
     ]
    },
    {
     "name": "stdout",
     "output_type": "stream",
     "text": [
      "Estimating the choice model...\n",
      "Estimating Causal Effects...\n",
      "Simulation number 108 is complete!\n",
      "==========================================\n",
      "==========================================\n",
      "Simulation number 109 of 200 is in progress...\n",
      "Simulation size is 3205\n",
      "------------------------------------------\n",
      "Simulating data...\n",
      "Simulating Availability...\n"
     ]
    },
    {
     "name": "stderr",
     "output_type": "stream",
     "text": [
      "/Users/timsb/miniconda3/envs/causal2020/lib/python3.7/site-packages/pylogit/choice_tools.py:703: FutureWarning: arrays to stack must be passed as a \"sequence\" type such as list or tuple. Support for non-sequence iterables such as generators is deprecated as of NumPy 1.16 and will raise an error in the future.\n",
      "/Users/timsb/miniconda3/envs/causal2020/lib/python3.7/site-packages/pylogit/choice_tools.py:703: FutureWarning: arrays to stack must be passed as a \"sequence\" type such as list or tuple. Support for non-sequence iterables such as generators is deprecated as of NumPy 1.16 and will raise an error in the future.\n",
      "Exception ignored in: <function tqdm.__del__ at 0x7fe05909bcb0>\n",
      "Traceback (most recent call last):\n",
      "  File \"/Users/timsb/miniconda3/envs/causal2020/lib/python3.7/site-packages/tqdm/std.py\", line 1124, in __del__\n",
      "    self.close()\n",
      "  File \"/Users/timsb/miniconda3/envs/causal2020/lib/python3.7/site-packages/tqdm/notebook.py\", line 271, in close\n",
      "    self.sp(bar_style='danger')\n",
      "AttributeError: 'tqdm_notebook' object has no attribute 'sp'\n",
      "/Users/timsb/miniconda3/envs/causal2020/lib/python3.7/site-packages/pylogit/choice_tools.py:703: FutureWarning: arrays to stack must be passed as a \"sequence\" type such as list or tuple. Support for non-sequence iterables such as generators is deprecated as of NumPy 1.16 and will raise an error in the future.\n",
      "/Users/timsb/miniconda3/envs/causal2020/lib/python3.7/site-packages/pylogit/choice_tools.py:703: FutureWarning: arrays to stack must be passed as a \"sequence\" type such as list or tuple. Support for non-sequence iterables such as generators is deprecated as of NumPy 1.16 and will raise an error in the future.\n",
      "/Users/timsb/miniconda3/envs/causal2020/lib/python3.7/site-packages/pylogit/choice_tools.py:703: FutureWarning: arrays to stack must be passed as a \"sequence\" type such as list or tuple. Support for non-sequence iterables such as generators is deprecated as of NumPy 1.16 and will raise an error in the future.\n",
      "\n",
      "Simulating Choices:   0%|          | 0/3205 [00:00<?, ?it/s]\u001b[A"
     ]
    },
    {
     "name": "stdout",
     "output_type": "stream",
     "text": [
      "Converting data from wide to long...\n",
      "Simulating Choices...\n"
     ]
    },
    {
     "name": "stderr",
     "output_type": "stream",
     "text": [
      "Simulating Choices: 100%|██████████| 3205/3205 [00:00<00:00, 38388.32it/s]\n",
      "/Users/timsb/miniconda3/envs/causal2020/lib/python3.7/site-packages/pylogit/choice_tools.py:703: FutureWarning: arrays to stack must be passed as a \"sequence\" type such as list or tuple. Support for non-sequence iterables such as generators is deprecated as of NumPy 1.16 and will raise an error in the future.\n"
     ]
    },
    {
     "name": "stdout",
     "output_type": "stream",
     "text": [
      "Estimating the choice model...\n",
      "Estimating Causal Effects...\n"
     ]
    },
    {
     "name": "stderr",
     "output_type": "stream",
     "text": [
      "/Users/timsb/miniconda3/envs/causal2020/lib/python3.7/site-packages/pylogit/choice_tools.py:703: FutureWarning: arrays to stack must be passed as a \"sequence\" type such as list or tuple. Support for non-sequence iterables such as generators is deprecated as of NumPy 1.16 and will raise an error in the future.\n",
      "/Users/timsb/miniconda3/envs/causal2020/lib/python3.7/site-packages/pylogit/choice_tools.py:703: FutureWarning: arrays to stack must be passed as a \"sequence\" type such as list or tuple. Support for non-sequence iterables such as generators is deprecated as of NumPy 1.16 and will raise an error in the future.\n",
      "Exception ignored in: <function tqdm.__del__ at 0x7fe05909bcb0>\n",
      "Traceback (most recent call last):\n",
      "  File \"/Users/timsb/miniconda3/envs/causal2020/lib/python3.7/site-packages/tqdm/std.py\", line 1124, in __del__\n",
      "    self.close()\n",
      "  File \"/Users/timsb/miniconda3/envs/causal2020/lib/python3.7/site-packages/tqdm/notebook.py\", line 271, in close\n",
      "    self.sp(bar_style='danger')\n",
      "AttributeError: 'tqdm_notebook' object has no attribute 'sp'\n",
      "/Users/timsb/miniconda3/envs/causal2020/lib/python3.7/site-packages/pylogit/choice_tools.py:703: FutureWarning: arrays to stack must be passed as a \"sequence\" type such as list or tuple. Support for non-sequence iterables such as generators is deprecated as of NumPy 1.16 and will raise an error in the future.\n",
      "/Users/timsb/miniconda3/envs/causal2020/lib/python3.7/site-packages/pylogit/choice_tools.py:703: FutureWarning: arrays to stack must be passed as a \"sequence\" type such as list or tuple. Support for non-sequence iterables such as generators is deprecated as of NumPy 1.16 and will raise an error in the future.\n"
     ]
    },
    {
     "name": "stdout",
     "output_type": "stream",
     "text": [
      "Simulation number 109 is complete!\n",
      "==========================================\n",
      "==========================================\n",
      "Simulation number 110 of 200 is in progress...\n",
      "Simulation size is 3185\n",
      "------------------------------------------\n",
      "Simulating data...\n",
      "Simulating Availability...\n"
     ]
    },
    {
     "name": "stderr",
     "output_type": "stream",
     "text": [
      "/Users/timsb/miniconda3/envs/causal2020/lib/python3.7/site-packages/pylogit/choice_tools.py:703: FutureWarning: arrays to stack must be passed as a \"sequence\" type such as list or tuple. Support for non-sequence iterables such as generators is deprecated as of NumPy 1.16 and will raise an error in the future.\n",
      "\n",
      "Simulating Choices:   0%|          | 0/3185 [00:00<?, ?it/s]\u001b[A"
     ]
    },
    {
     "name": "stdout",
     "output_type": "stream",
     "text": [
      "Converting data from wide to long...\n",
      "Simulating Choices...\n"
     ]
    },
    {
     "name": "stderr",
     "output_type": "stream",
     "text": [
      "Simulating Choices: 100%|██████████| 3185/3185 [00:00<00:00, 36225.35it/s]\n",
      "/Users/timsb/miniconda3/envs/causal2020/lib/python3.7/site-packages/pylogit/choice_tools.py:703: FutureWarning: arrays to stack must be passed as a \"sequence\" type such as list or tuple. Support for non-sequence iterables such as generators is deprecated as of NumPy 1.16 and will raise an error in the future.\n"
     ]
    },
    {
     "name": "stdout",
     "output_type": "stream",
     "text": [
      "Estimating the choice model...\n",
      "Estimating Causal Effects...\n",
      "Simulation number 110 is complete!\n",
      "==========================================\n",
      "==========================================\n",
      "Simulation number 111 of 200 is in progress...\n",
      "Simulation size is 3691\n",
      "------------------------------------------\n",
      "Simulating data...\n",
      "Simulating Availability...\n"
     ]
    },
    {
     "name": "stderr",
     "output_type": "stream",
     "text": [
      "/Users/timsb/miniconda3/envs/causal2020/lib/python3.7/site-packages/pylogit/choice_tools.py:703: FutureWarning: arrays to stack must be passed as a \"sequence\" type such as list or tuple. Support for non-sequence iterables such as generators is deprecated as of NumPy 1.16 and will raise an error in the future.\n",
      "/Users/timsb/miniconda3/envs/causal2020/lib/python3.7/site-packages/pylogit/choice_tools.py:703: FutureWarning: arrays to stack must be passed as a \"sequence\" type such as list or tuple. Support for non-sequence iterables such as generators is deprecated as of NumPy 1.16 and will raise an error in the future.\n",
      "Exception ignored in: <function tqdm.__del__ at 0x7fe05909bcb0>\n",
      "Traceback (most recent call last):\n",
      "  File \"/Users/timsb/miniconda3/envs/causal2020/lib/python3.7/site-packages/tqdm/std.py\", line 1124, in __del__\n",
      "    self.close()\n",
      "  File \"/Users/timsb/miniconda3/envs/causal2020/lib/python3.7/site-packages/tqdm/notebook.py\", line 271, in close\n",
      "    self.sp(bar_style='danger')\n",
      "AttributeError: 'tqdm_notebook' object has no attribute 'sp'\n",
      "/Users/timsb/miniconda3/envs/causal2020/lib/python3.7/site-packages/pylogit/choice_tools.py:703: FutureWarning: arrays to stack must be passed as a \"sequence\" type such as list or tuple. Support for non-sequence iterables such as generators is deprecated as of NumPy 1.16 and will raise an error in the future.\n",
      "/Users/timsb/miniconda3/envs/causal2020/lib/python3.7/site-packages/pylogit/choice_tools.py:703: FutureWarning: arrays to stack must be passed as a \"sequence\" type such as list or tuple. Support for non-sequence iterables such as generators is deprecated as of NumPy 1.16 and will raise an error in the future.\n",
      "/Users/timsb/miniconda3/envs/causal2020/lib/python3.7/site-packages/pylogit/choice_tools.py:703: FutureWarning: arrays to stack must be passed as a \"sequence\" type such as list or tuple. Support for non-sequence iterables such as generators is deprecated as of NumPy 1.16 and will raise an error in the future.\n",
      "\n",
      "Simulating Choices:   0%|          | 0/3691 [00:00<?, ?it/s]\u001b[A"
     ]
    },
    {
     "name": "stdout",
     "output_type": "stream",
     "text": [
      "Converting data from wide to long...\n",
      "Simulating Choices...\n"
     ]
    },
    {
     "name": "stderr",
     "output_type": "stream",
     "text": [
      "Simulating Choices: 100%|██████████| 3691/3691 [00:00<00:00, 38139.24it/s]\n",
      "/Users/timsb/miniconda3/envs/causal2020/lib/python3.7/site-packages/pylogit/choice_tools.py:703: FutureWarning: arrays to stack must be passed as a \"sequence\" type such as list or tuple. Support for non-sequence iterables such as generators is deprecated as of NumPy 1.16 and will raise an error in the future.\n"
     ]
    },
    {
     "name": "stdout",
     "output_type": "stream",
     "text": [
      "Estimating the choice model...\n",
      "Estimating Causal Effects...\n",
      "Simulation number 111 is complete!\n",
      "==========================================\n",
      "==========================================\n",
      "Simulation number 112 of 200 is in progress...\n",
      "Simulation size is 3126\n",
      "------------------------------------------\n",
      "Simulating data...\n",
      "Simulating Availability...\n"
     ]
    },
    {
     "name": "stderr",
     "output_type": "stream",
     "text": [
      "/Users/timsb/miniconda3/envs/causal2020/lib/python3.7/site-packages/pylogit/choice_tools.py:703: FutureWarning: arrays to stack must be passed as a \"sequence\" type such as list or tuple. Support for non-sequence iterables such as generators is deprecated as of NumPy 1.16 and will raise an error in the future.\n",
      "/Users/timsb/miniconda3/envs/causal2020/lib/python3.7/site-packages/pylogit/choice_tools.py:703: FutureWarning: arrays to stack must be passed as a \"sequence\" type such as list or tuple. Support for non-sequence iterables such as generators is deprecated as of NumPy 1.16 and will raise an error in the future.\n",
      "Exception ignored in: <function tqdm.__del__ at 0x7fe05909bcb0>\n",
      "Traceback (most recent call last):\n",
      "  File \"/Users/timsb/miniconda3/envs/causal2020/lib/python3.7/site-packages/tqdm/std.py\", line 1124, in __del__\n",
      "    self.close()\n",
      "  File \"/Users/timsb/miniconda3/envs/causal2020/lib/python3.7/site-packages/tqdm/notebook.py\", line 271, in close\n",
      "    self.sp(bar_style='danger')\n",
      "AttributeError: 'tqdm_notebook' object has no attribute 'sp'\n",
      "/Users/timsb/miniconda3/envs/causal2020/lib/python3.7/site-packages/pylogit/choice_tools.py:703: FutureWarning: arrays to stack must be passed as a \"sequence\" type such as list or tuple. Support for non-sequence iterables such as generators is deprecated as of NumPy 1.16 and will raise an error in the future.\n",
      "/Users/timsb/miniconda3/envs/causal2020/lib/python3.7/site-packages/pylogit/choice_tools.py:703: FutureWarning: arrays to stack must be passed as a \"sequence\" type such as list or tuple. Support for non-sequence iterables such as generators is deprecated as of NumPy 1.16 and will raise an error in the future.\n",
      "/Users/timsb/miniconda3/envs/causal2020/lib/python3.7/site-packages/pylogit/choice_tools.py:703: FutureWarning: arrays to stack must be passed as a \"sequence\" type such as list or tuple. Support for non-sequence iterables such as generators is deprecated as of NumPy 1.16 and will raise an error in the future.\n",
      "\n",
      "Simulating Choices:   0%|          | 0/3126 [00:00<?, ?it/s]\u001b[A"
     ]
    },
    {
     "name": "stdout",
     "output_type": "stream",
     "text": [
      "Converting data from wide to long...\n",
      "Simulating Choices...\n"
     ]
    },
    {
     "name": "stderr",
     "output_type": "stream",
     "text": [
      "Simulating Choices: 100%|██████████| 3126/3126 [00:00<00:00, 36776.04it/s]\n",
      "/Users/timsb/miniconda3/envs/causal2020/lib/python3.7/site-packages/pylogit/choice_tools.py:703: FutureWarning: arrays to stack must be passed as a \"sequence\" type such as list or tuple. Support for non-sequence iterables such as generators is deprecated as of NumPy 1.16 and will raise an error in the future.\n"
     ]
    },
    {
     "name": "stdout",
     "output_type": "stream",
     "text": [
      "Estimating the choice model...\n",
      "Estimating Causal Effects...\n"
     ]
    },
    {
     "name": "stderr",
     "output_type": "stream",
     "text": [
      "/Users/timsb/miniconda3/envs/causal2020/lib/python3.7/site-packages/pylogit/choice_tools.py:703: FutureWarning: arrays to stack must be passed as a \"sequence\" type such as list or tuple. Support for non-sequence iterables such as generators is deprecated as of NumPy 1.16 and will raise an error in the future.\n",
      "/Users/timsb/miniconda3/envs/causal2020/lib/python3.7/site-packages/pylogit/choice_tools.py:703: FutureWarning: arrays to stack must be passed as a \"sequence\" type such as list or tuple. Support for non-sequence iterables such as generators is deprecated as of NumPy 1.16 and will raise an error in the future.\n",
      "Exception ignored in: <function tqdm.__del__ at 0x7fe05909bcb0>\n",
      "Traceback (most recent call last):\n",
      "  File \"/Users/timsb/miniconda3/envs/causal2020/lib/python3.7/site-packages/tqdm/std.py\", line 1124, in __del__\n",
      "    self.close()\n",
      "  File \"/Users/timsb/miniconda3/envs/causal2020/lib/python3.7/site-packages/tqdm/notebook.py\", line 271, in close\n",
      "    self.sp(bar_style='danger')\n",
      "AttributeError: 'tqdm_notebook' object has no attribute 'sp'\n",
      "/Users/timsb/miniconda3/envs/causal2020/lib/python3.7/site-packages/pylogit/choice_tools.py:703: FutureWarning: arrays to stack must be passed as a \"sequence\" type such as list or tuple. Support for non-sequence iterables such as generators is deprecated as of NumPy 1.16 and will raise an error in the future.\n",
      "/Users/timsb/miniconda3/envs/causal2020/lib/python3.7/site-packages/pylogit/choice_tools.py:703: FutureWarning: arrays to stack must be passed as a \"sequence\" type such as list or tuple. Support for non-sequence iterables such as generators is deprecated as of NumPy 1.16 and will raise an error in the future.\n"
     ]
    },
    {
     "name": "stdout",
     "output_type": "stream",
     "text": [
      "Simulation number 112 is complete!\n",
      "==========================================\n",
      "==========================================\n",
      "Simulation number 113 of 200 is in progress...\n",
      "Simulation size is 3169\n",
      "------------------------------------------\n",
      "Simulating data...\n",
      "Simulating Availability...\n"
     ]
    },
    {
     "name": "stderr",
     "output_type": "stream",
     "text": [
      "/Users/timsb/miniconda3/envs/causal2020/lib/python3.7/site-packages/pylogit/choice_tools.py:703: FutureWarning: arrays to stack must be passed as a \"sequence\" type such as list or tuple. Support for non-sequence iterables such as generators is deprecated as of NumPy 1.16 and will raise an error in the future.\n",
      "\n",
      "Simulating Choices:   0%|          | 0/3169 [00:00<?, ?it/s]\u001b[A"
     ]
    },
    {
     "name": "stdout",
     "output_type": "stream",
     "text": [
      "Converting data from wide to long...\n",
      "Simulating Choices...\n"
     ]
    },
    {
     "name": "stderr",
     "output_type": "stream",
     "text": [
      "Simulating Choices: 100%|██████████| 3169/3169 [00:00<00:00, 36942.87it/s]\n",
      "/Users/timsb/miniconda3/envs/causal2020/lib/python3.7/site-packages/pylogit/choice_tools.py:703: FutureWarning: arrays to stack must be passed as a \"sequence\" type such as list or tuple. Support for non-sequence iterables such as generators is deprecated as of NumPy 1.16 and will raise an error in the future.\n",
      "/Users/timsb/miniconda3/envs/causal2020/lib/python3.7/site-packages/pylogit/choice_tools.py:703: FutureWarning: arrays to stack must be passed as a \"sequence\" type such as list or tuple. Support for non-sequence iterables such as generators is deprecated as of NumPy 1.16 and will raise an error in the future.\n"
     ]
    },
    {
     "name": "stdout",
     "output_type": "stream",
     "text": [
      "Estimating the choice model...\n",
      "Estimating Causal Effects...\n"
     ]
    },
    {
     "name": "stderr",
     "output_type": "stream",
     "text": [
      "/Users/timsb/miniconda3/envs/causal2020/lib/python3.7/site-packages/pylogit/choice_tools.py:703: FutureWarning: arrays to stack must be passed as a \"sequence\" type such as list or tuple. Support for non-sequence iterables such as generators is deprecated as of NumPy 1.16 and will raise an error in the future.\n",
      "Exception ignored in: <function tqdm.__del__ at 0x7fe05909bcb0>\n",
      "Traceback (most recent call last):\n",
      "  File \"/Users/timsb/miniconda3/envs/causal2020/lib/python3.7/site-packages/tqdm/std.py\", line 1124, in __del__\n",
      "    self.close()\n",
      "  File \"/Users/timsb/miniconda3/envs/causal2020/lib/python3.7/site-packages/tqdm/notebook.py\", line 271, in close\n",
      "    self.sp(bar_style='danger')\n",
      "AttributeError: 'tqdm_notebook' object has no attribute 'sp'\n",
      "/Users/timsb/miniconda3/envs/causal2020/lib/python3.7/site-packages/pylogit/choice_tools.py:703: FutureWarning: arrays to stack must be passed as a \"sequence\" type such as list or tuple. Support for non-sequence iterables such as generators is deprecated as of NumPy 1.16 and will raise an error in the future.\n",
      "/Users/timsb/miniconda3/envs/causal2020/lib/python3.7/site-packages/pylogit/choice_tools.py:703: FutureWarning: arrays to stack must be passed as a \"sequence\" type such as list or tuple. Support for non-sequence iterables such as generators is deprecated as of NumPy 1.16 and will raise an error in the future.\n"
     ]
    },
    {
     "name": "stdout",
     "output_type": "stream",
     "text": [
      "Simulation number 113 is complete!\n",
      "==========================================\n",
      "==========================================\n",
      "Simulation number 114 of 200 is in progress...\n",
      "Simulation size is 3293\n",
      "------------------------------------------\n",
      "Simulating data...\n",
      "Simulating Availability...\n"
     ]
    },
    {
     "name": "stderr",
     "output_type": "stream",
     "text": [
      "/Users/timsb/miniconda3/envs/causal2020/lib/python3.7/site-packages/pylogit/choice_tools.py:703: FutureWarning: arrays to stack must be passed as a \"sequence\" type such as list or tuple. Support for non-sequence iterables such as generators is deprecated as of NumPy 1.16 and will raise an error in the future.\n",
      "\n",
      "Simulating Choices:   0%|          | 0/3293 [00:00<?, ?it/s]\u001b[A"
     ]
    },
    {
     "name": "stdout",
     "output_type": "stream",
     "text": [
      "Converting data from wide to long...\n",
      "Simulating Choices...\n"
     ]
    },
    {
     "name": "stderr",
     "output_type": "stream",
     "text": [
      "Simulating Choices: 100%|██████████| 3293/3293 [00:00<00:00, 36591.35it/s]\n",
      "/Users/timsb/miniconda3/envs/causal2020/lib/python3.7/site-packages/pylogit/choice_tools.py:703: FutureWarning: arrays to stack must be passed as a \"sequence\" type such as list or tuple. Support for non-sequence iterables such as generators is deprecated as of NumPy 1.16 and will raise an error in the future.\n"
     ]
    },
    {
     "name": "stdout",
     "output_type": "stream",
     "text": [
      "Estimating the choice model...\n",
      "Estimating Causal Effects...\n"
     ]
    },
    {
     "name": "stderr",
     "output_type": "stream",
     "text": [
      "/Users/timsb/miniconda3/envs/causal2020/lib/python3.7/site-packages/pylogit/choice_tools.py:703: FutureWarning: arrays to stack must be passed as a \"sequence\" type such as list or tuple. Support for non-sequence iterables such as generators is deprecated as of NumPy 1.16 and will raise an error in the future.\n",
      "/Users/timsb/miniconda3/envs/causal2020/lib/python3.7/site-packages/pylogit/choice_tools.py:703: FutureWarning: arrays to stack must be passed as a \"sequence\" type such as list or tuple. Support for non-sequence iterables such as generators is deprecated as of NumPy 1.16 and will raise an error in the future.\n",
      "Exception ignored in: <function tqdm.__del__ at 0x7fe05909bcb0>\n",
      "Traceback (most recent call last):\n",
      "  File \"/Users/timsb/miniconda3/envs/causal2020/lib/python3.7/site-packages/tqdm/std.py\", line 1124, in __del__\n",
      "    self.close()\n",
      "  File \"/Users/timsb/miniconda3/envs/causal2020/lib/python3.7/site-packages/tqdm/notebook.py\", line 271, in close\n",
      "    self.sp(bar_style='danger')\n",
      "AttributeError: 'tqdm_notebook' object has no attribute 'sp'\n",
      "/Users/timsb/miniconda3/envs/causal2020/lib/python3.7/site-packages/pylogit/choice_tools.py:703: FutureWarning: arrays to stack must be passed as a \"sequence\" type such as list or tuple. Support for non-sequence iterables such as generators is deprecated as of NumPy 1.16 and will raise an error in the future.\n",
      "/Users/timsb/miniconda3/envs/causal2020/lib/python3.7/site-packages/pylogit/choice_tools.py:703: FutureWarning: arrays to stack must be passed as a \"sequence\" type such as list or tuple. Support for non-sequence iterables such as generators is deprecated as of NumPy 1.16 and will raise an error in the future.\n"
     ]
    },
    {
     "name": "stdout",
     "output_type": "stream",
     "text": [
      "Simulation number 114 is complete!\n",
      "==========================================\n",
      "==========================================\n",
      "Simulation number 115 of 200 is in progress...\n",
      "Simulation size is 3946\n",
      "------------------------------------------\n",
      "Simulating data...\n",
      "Simulating Availability...\n",
      "Converting data from wide to long...\n",
      "Simulating Choices...\n"
     ]
    },
    {
     "name": "stderr",
     "output_type": "stream",
     "text": [
      "/Users/timsb/miniconda3/envs/causal2020/lib/python3.7/site-packages/pylogit/choice_tools.py:703: FutureWarning: arrays to stack must be passed as a \"sequence\" type such as list or tuple. Support for non-sequence iterables such as generators is deprecated as of NumPy 1.16 and will raise an error in the future.\n",
      "\n",
      "Simulating Choices:   0%|          | 0/3946 [00:00<?, ?it/s]\u001b[A\n",
      "Simulating Choices: 100%|██████████| 3946/3946 [00:00<00:00, 33510.88it/s]\u001b[A\n",
      "/Users/timsb/miniconda3/envs/causal2020/lib/python3.7/site-packages/pylogit/choice_tools.py:703: FutureWarning: arrays to stack must be passed as a \"sequence\" type such as list or tuple. Support for non-sequence iterables such as generators is deprecated as of NumPy 1.16 and will raise an error in the future.\n"
     ]
    },
    {
     "name": "stdout",
     "output_type": "stream",
     "text": [
      "Estimating the choice model...\n",
      "Estimating Causal Effects...\n",
      "Simulation number 115 is complete!\n",
      "==========================================\n",
      "==========================================\n",
      "Simulation number 116 of 200 is in progress...\n",
      "Simulation size is 3500\n",
      "------------------------------------------\n",
      "Simulating data...\n",
      "Simulating Availability...\n"
     ]
    },
    {
     "name": "stderr",
     "output_type": "stream",
     "text": [
      "/Users/timsb/miniconda3/envs/causal2020/lib/python3.7/site-packages/pylogit/choice_tools.py:703: FutureWarning: arrays to stack must be passed as a \"sequence\" type such as list or tuple. Support for non-sequence iterables such as generators is deprecated as of NumPy 1.16 and will raise an error in the future.\n",
      "/Users/timsb/miniconda3/envs/causal2020/lib/python3.7/site-packages/pylogit/choice_tools.py:703: FutureWarning: arrays to stack must be passed as a \"sequence\" type such as list or tuple. Support for non-sequence iterables such as generators is deprecated as of NumPy 1.16 and will raise an error in the future.\n",
      "Exception ignored in: <function tqdm.__del__ at 0x7fe05909bcb0>\n",
      "Traceback (most recent call last):\n",
      "  File \"/Users/timsb/miniconda3/envs/causal2020/lib/python3.7/site-packages/tqdm/std.py\", line 1124, in __del__\n",
      "    self.close()\n",
      "  File \"/Users/timsb/miniconda3/envs/causal2020/lib/python3.7/site-packages/tqdm/notebook.py\", line 271, in close\n",
      "    self.sp(bar_style='danger')\n",
      "AttributeError: 'tqdm_notebook' object has no attribute 'sp'\n",
      "/Users/timsb/miniconda3/envs/causal2020/lib/python3.7/site-packages/pylogit/choice_tools.py:703: FutureWarning: arrays to stack must be passed as a \"sequence\" type such as list or tuple. Support for non-sequence iterables such as generators is deprecated as of NumPy 1.16 and will raise an error in the future.\n",
      "/Users/timsb/miniconda3/envs/causal2020/lib/python3.7/site-packages/pylogit/choice_tools.py:703: FutureWarning: arrays to stack must be passed as a \"sequence\" type such as list or tuple. Support for non-sequence iterables such as generators is deprecated as of NumPy 1.16 and will raise an error in the future.\n",
      "/Users/timsb/miniconda3/envs/causal2020/lib/python3.7/site-packages/pylogit/choice_tools.py:703: FutureWarning: arrays to stack must be passed as a \"sequence\" type such as list or tuple. Support for non-sequence iterables such as generators is deprecated as of NumPy 1.16 and will raise an error in the future.\n",
      "\n",
      "Simulating Choices:   0%|          | 0/3500 [00:00<?, ?it/s]\u001b[A"
     ]
    },
    {
     "name": "stdout",
     "output_type": "stream",
     "text": [
      "Converting data from wide to long...\n",
      "Simulating Choices...\n"
     ]
    },
    {
     "name": "stderr",
     "output_type": "stream",
     "text": [
      "Simulating Choices: 100%|██████████| 3500/3500 [00:00<00:00, 37872.60it/s]\n",
      "/Users/timsb/miniconda3/envs/causal2020/lib/python3.7/site-packages/pylogit/choice_tools.py:703: FutureWarning: arrays to stack must be passed as a \"sequence\" type such as list or tuple. Support for non-sequence iterables such as generators is deprecated as of NumPy 1.16 and will raise an error in the future.\n"
     ]
    },
    {
     "name": "stdout",
     "output_type": "stream",
     "text": [
      "Estimating the choice model...\n",
      "Estimating Causal Effects...\n",
      "Simulation number 116 is complete!\n",
      "==========================================\n",
      "==========================================\n",
      "Simulation number 117 of 200 is in progress...\n",
      "Simulation size is 3818\n",
      "------------------------------------------\n",
      "Simulating data...\n",
      "Simulating Availability...\n"
     ]
    },
    {
     "name": "stderr",
     "output_type": "stream",
     "text": [
      "/Users/timsb/miniconda3/envs/causal2020/lib/python3.7/site-packages/pylogit/choice_tools.py:703: FutureWarning: arrays to stack must be passed as a \"sequence\" type such as list or tuple. Support for non-sequence iterables such as generators is deprecated as of NumPy 1.16 and will raise an error in the future.\n",
      "/Users/timsb/miniconda3/envs/causal2020/lib/python3.7/site-packages/pylogit/choice_tools.py:703: FutureWarning: arrays to stack must be passed as a \"sequence\" type such as list or tuple. Support for non-sequence iterables such as generators is deprecated as of NumPy 1.16 and will raise an error in the future.\n",
      "Exception ignored in: <function tqdm.__del__ at 0x7fe05909bcb0>\n",
      "Traceback (most recent call last):\n",
      "  File \"/Users/timsb/miniconda3/envs/causal2020/lib/python3.7/site-packages/tqdm/std.py\", line 1124, in __del__\n",
      "    self.close()\n",
      "  File \"/Users/timsb/miniconda3/envs/causal2020/lib/python3.7/site-packages/tqdm/notebook.py\", line 271, in close\n",
      "    self.sp(bar_style='danger')\n",
      "AttributeError: 'tqdm_notebook' object has no attribute 'sp'\n",
      "/Users/timsb/miniconda3/envs/causal2020/lib/python3.7/site-packages/pylogit/choice_tools.py:703: FutureWarning: arrays to stack must be passed as a \"sequence\" type such as list or tuple. Support for non-sequence iterables such as generators is deprecated as of NumPy 1.16 and will raise an error in the future.\n",
      "/Users/timsb/miniconda3/envs/causal2020/lib/python3.7/site-packages/pylogit/choice_tools.py:703: FutureWarning: arrays to stack must be passed as a \"sequence\" type such as list or tuple. Support for non-sequence iterables such as generators is deprecated as of NumPy 1.16 and will raise an error in the future.\n",
      "/Users/timsb/miniconda3/envs/causal2020/lib/python3.7/site-packages/pylogit/choice_tools.py:703: FutureWarning: arrays to stack must be passed as a \"sequence\" type such as list or tuple. Support for non-sequence iterables such as generators is deprecated as of NumPy 1.16 and will raise an error in the future.\n",
      "\n",
      "Simulating Choices:   0%|          | 0/3818 [00:00<?, ?it/s]\u001b[A"
     ]
    },
    {
     "name": "stdout",
     "output_type": "stream",
     "text": [
      "Converting data from wide to long...\n",
      "Simulating Choices...\n"
     ]
    },
    {
     "name": "stderr",
     "output_type": "stream",
     "text": [
      "Simulating Choices: 100%|██████████| 3818/3818 [00:00<00:00, 38432.85it/s]\n",
      "/Users/timsb/miniconda3/envs/causal2020/lib/python3.7/site-packages/pylogit/choice_tools.py:703: FutureWarning: arrays to stack must be passed as a \"sequence\" type such as list or tuple. Support for non-sequence iterables such as generators is deprecated as of NumPy 1.16 and will raise an error in the future.\n"
     ]
    },
    {
     "name": "stdout",
     "output_type": "stream",
     "text": [
      "Estimating the choice model...\n",
      "Estimating Causal Effects...\n",
      "Simulation number 117 is complete!\n",
      "==========================================\n",
      "==========================================\n",
      "Simulation number 118 of 200 is in progress...\n",
      "Simulation size is 3026\n",
      "------------------------------------------\n",
      "Simulating data...\n",
      "Simulating Availability...\n"
     ]
    },
    {
     "name": "stderr",
     "output_type": "stream",
     "text": [
      "/Users/timsb/miniconda3/envs/causal2020/lib/python3.7/site-packages/pylogit/choice_tools.py:703: FutureWarning: arrays to stack must be passed as a \"sequence\" type such as list or tuple. Support for non-sequence iterables such as generators is deprecated as of NumPy 1.16 and will raise an error in the future.\n",
      "/Users/timsb/miniconda3/envs/causal2020/lib/python3.7/site-packages/pylogit/choice_tools.py:703: FutureWarning: arrays to stack must be passed as a \"sequence\" type such as list or tuple. Support for non-sequence iterables such as generators is deprecated as of NumPy 1.16 and will raise an error in the future.\n",
      "Exception ignored in: <function tqdm.__del__ at 0x7fe05909bcb0>\n",
      "Traceback (most recent call last):\n",
      "  File \"/Users/timsb/miniconda3/envs/causal2020/lib/python3.7/site-packages/tqdm/std.py\", line 1124, in __del__\n",
      "    self.close()\n",
      "  File \"/Users/timsb/miniconda3/envs/causal2020/lib/python3.7/site-packages/tqdm/notebook.py\", line 271, in close\n",
      "    self.sp(bar_style='danger')\n",
      "AttributeError: 'tqdm_notebook' object has no attribute 'sp'\n",
      "/Users/timsb/miniconda3/envs/causal2020/lib/python3.7/site-packages/pylogit/choice_tools.py:703: FutureWarning: arrays to stack must be passed as a \"sequence\" type such as list or tuple. Support for non-sequence iterables such as generators is deprecated as of NumPy 1.16 and will raise an error in the future.\n",
      "/Users/timsb/miniconda3/envs/causal2020/lib/python3.7/site-packages/pylogit/choice_tools.py:703: FutureWarning: arrays to stack must be passed as a \"sequence\" type such as list or tuple. Support for non-sequence iterables such as generators is deprecated as of NumPy 1.16 and will raise an error in the future.\n",
      "/Users/timsb/miniconda3/envs/causal2020/lib/python3.7/site-packages/pylogit/choice_tools.py:703: FutureWarning: arrays to stack must be passed as a \"sequence\" type such as list or tuple. Support for non-sequence iterables such as generators is deprecated as of NumPy 1.16 and will raise an error in the future.\n",
      "\n",
      "Simulating Choices:   0%|          | 0/3026 [00:00<?, ?it/s]\u001b[A"
     ]
    },
    {
     "name": "stdout",
     "output_type": "stream",
     "text": [
      "Converting data from wide to long...\n",
      "Simulating Choices...\n"
     ]
    },
    {
     "name": "stderr",
     "output_type": "stream",
     "text": [
      "Simulating Choices: 100%|██████████| 3026/3026 [00:00<00:00, 36464.87it/s]\n",
      "/Users/timsb/miniconda3/envs/causal2020/lib/python3.7/site-packages/pylogit/choice_tools.py:703: FutureWarning: arrays to stack must be passed as a \"sequence\" type such as list or tuple. Support for non-sequence iterables such as generators is deprecated as of NumPy 1.16 and will raise an error in the future.\n"
     ]
    },
    {
     "name": "stdout",
     "output_type": "stream",
     "text": [
      "Estimating the choice model...\n",
      "Estimating Causal Effects...\n"
     ]
    },
    {
     "name": "stderr",
     "output_type": "stream",
     "text": [
      "/Users/timsb/miniconda3/envs/causal2020/lib/python3.7/site-packages/pylogit/choice_tools.py:703: FutureWarning: arrays to stack must be passed as a \"sequence\" type such as list or tuple. Support for non-sequence iterables such as generators is deprecated as of NumPy 1.16 and will raise an error in the future.\n",
      "/Users/timsb/miniconda3/envs/causal2020/lib/python3.7/site-packages/pylogit/choice_tools.py:703: FutureWarning: arrays to stack must be passed as a \"sequence\" type such as list or tuple. Support for non-sequence iterables such as generators is deprecated as of NumPy 1.16 and will raise an error in the future.\n",
      "Exception ignored in: <function tqdm.__del__ at 0x7fe05909bcb0>\n",
      "Traceback (most recent call last):\n",
      "  File \"/Users/timsb/miniconda3/envs/causal2020/lib/python3.7/site-packages/tqdm/std.py\", line 1124, in __del__\n",
      "    self.close()\n",
      "  File \"/Users/timsb/miniconda3/envs/causal2020/lib/python3.7/site-packages/tqdm/notebook.py\", line 271, in close\n",
      "    self.sp(bar_style='danger')\n",
      "AttributeError: 'tqdm_notebook' object has no attribute 'sp'\n",
      "/Users/timsb/miniconda3/envs/causal2020/lib/python3.7/site-packages/pylogit/choice_tools.py:703: FutureWarning: arrays to stack must be passed as a \"sequence\" type such as list or tuple. Support for non-sequence iterables such as generators is deprecated as of NumPy 1.16 and will raise an error in the future.\n",
      "/Users/timsb/miniconda3/envs/causal2020/lib/python3.7/site-packages/pylogit/choice_tools.py:703: FutureWarning: arrays to stack must be passed as a \"sequence\" type such as list or tuple. Support for non-sequence iterables such as generators is deprecated as of NumPy 1.16 and will raise an error in the future.\n"
     ]
    },
    {
     "name": "stdout",
     "output_type": "stream",
     "text": [
      "Simulation number 118 is complete!\n",
      "==========================================\n",
      "==========================================\n",
      "Simulation number 119 of 200 is in progress...\n",
      "Simulation size is 3932\n",
      "------------------------------------------\n",
      "Simulating data...\n",
      "Simulating Availability...\n"
     ]
    },
    {
     "name": "stderr",
     "output_type": "stream",
     "text": [
      "/Users/timsb/miniconda3/envs/causal2020/lib/python3.7/site-packages/pylogit/choice_tools.py:703: FutureWarning: arrays to stack must be passed as a \"sequence\" type such as list or tuple. Support for non-sequence iterables such as generators is deprecated as of NumPy 1.16 and will raise an error in the future.\n",
      "\n",
      "Simulating Choices:   0%|          | 0/3932 [00:00<?, ?it/s]\u001b[A"
     ]
    },
    {
     "name": "stdout",
     "output_type": "stream",
     "text": [
      "Converting data from wide to long...\n",
      "Simulating Choices...\n"
     ]
    },
    {
     "name": "stderr",
     "output_type": "stream",
     "text": [
      "\n",
      "Simulating Choices: 100%|██████████| 3932/3932 [00:00<00:00, 32669.40it/s]\u001b[A\n",
      "/Users/timsb/miniconda3/envs/causal2020/lib/python3.7/site-packages/pylogit/choice_tools.py:703: FutureWarning: arrays to stack must be passed as a \"sequence\" type such as list or tuple. Support for non-sequence iterables such as generators is deprecated as of NumPy 1.16 and will raise an error in the future.\n"
     ]
    },
    {
     "name": "stdout",
     "output_type": "stream",
     "text": [
      "Estimating the choice model...\n",
      "Estimating Causal Effects...\n",
      "Simulation number 119 is complete!\n",
      "==========================================\n",
      "==========================================\n",
      "Simulation number 120 of 200 is in progress...\n",
      "Simulation size is 3037\n",
      "------------------------------------------\n",
      "Simulating data...\n",
      "Simulating Availability...\n"
     ]
    },
    {
     "name": "stderr",
     "output_type": "stream",
     "text": [
      "/Users/timsb/miniconda3/envs/causal2020/lib/python3.7/site-packages/pylogit/choice_tools.py:703: FutureWarning: arrays to stack must be passed as a \"sequence\" type such as list or tuple. Support for non-sequence iterables such as generators is deprecated as of NumPy 1.16 and will raise an error in the future.\n",
      "/Users/timsb/miniconda3/envs/causal2020/lib/python3.7/site-packages/pylogit/choice_tools.py:703: FutureWarning: arrays to stack must be passed as a \"sequence\" type such as list or tuple. Support for non-sequence iterables such as generators is deprecated as of NumPy 1.16 and will raise an error in the future.\n",
      "Exception ignored in: <function tqdm.__del__ at 0x7fe05909bcb0>\n",
      "Traceback (most recent call last):\n",
      "  File \"/Users/timsb/miniconda3/envs/causal2020/lib/python3.7/site-packages/tqdm/std.py\", line 1124, in __del__\n",
      "    self.close()\n",
      "  File \"/Users/timsb/miniconda3/envs/causal2020/lib/python3.7/site-packages/tqdm/notebook.py\", line 271, in close\n",
      "    self.sp(bar_style='danger')\n",
      "AttributeError: 'tqdm_notebook' object has no attribute 'sp'\n",
      "/Users/timsb/miniconda3/envs/causal2020/lib/python3.7/site-packages/pylogit/choice_tools.py:703: FutureWarning: arrays to stack must be passed as a \"sequence\" type such as list or tuple. Support for non-sequence iterables such as generators is deprecated as of NumPy 1.16 and will raise an error in the future.\n",
      "/Users/timsb/miniconda3/envs/causal2020/lib/python3.7/site-packages/pylogit/choice_tools.py:703: FutureWarning: arrays to stack must be passed as a \"sequence\" type such as list or tuple. Support for non-sequence iterables such as generators is deprecated as of NumPy 1.16 and will raise an error in the future.\n",
      "/Users/timsb/miniconda3/envs/causal2020/lib/python3.7/site-packages/pylogit/choice_tools.py:703: FutureWarning: arrays to stack must be passed as a \"sequence\" type such as list or tuple. Support for non-sequence iterables such as generators is deprecated as of NumPy 1.16 and will raise an error in the future.\n",
      "\n",
      "Simulating Choices:   0%|          | 0/3037 [00:00<?, ?it/s]\u001b[A"
     ]
    },
    {
     "name": "stdout",
     "output_type": "stream",
     "text": [
      "Converting data from wide to long...\n",
      "Simulating Choices...\n"
     ]
    },
    {
     "name": "stderr",
     "output_type": "stream",
     "text": [
      "Simulating Choices: 100%|██████████| 3037/3037 [00:00<00:00, 34506.29it/s]\n",
      "/Users/timsb/miniconda3/envs/causal2020/lib/python3.7/site-packages/pylogit/choice_tools.py:703: FutureWarning: arrays to stack must be passed as a \"sequence\" type such as list or tuple. Support for non-sequence iterables such as generators is deprecated as of NumPy 1.16 and will raise an error in the future.\n",
      "/Users/timsb/miniconda3/envs/causal2020/lib/python3.7/site-packages/pylogit/choice_tools.py:703: FutureWarning: arrays to stack must be passed as a \"sequence\" type such as list or tuple. Support for non-sequence iterables such as generators is deprecated as of NumPy 1.16 and will raise an error in the future.\n"
     ]
    },
    {
     "name": "stdout",
     "output_type": "stream",
     "text": [
      "Estimating the choice model...\n",
      "Estimating Causal Effects...\n"
     ]
    },
    {
     "name": "stderr",
     "output_type": "stream",
     "text": [
      "/Users/timsb/miniconda3/envs/causal2020/lib/python3.7/site-packages/pylogit/choice_tools.py:703: FutureWarning: arrays to stack must be passed as a \"sequence\" type such as list or tuple. Support for non-sequence iterables such as generators is deprecated as of NumPy 1.16 and will raise an error in the future.\n",
      "Exception ignored in: <function tqdm.__del__ at 0x7fe05909bcb0>\n",
      "Traceback (most recent call last):\n",
      "  File \"/Users/timsb/miniconda3/envs/causal2020/lib/python3.7/site-packages/tqdm/std.py\", line 1124, in __del__\n",
      "    self.close()\n",
      "  File \"/Users/timsb/miniconda3/envs/causal2020/lib/python3.7/site-packages/tqdm/notebook.py\", line 271, in close\n",
      "    self.sp(bar_style='danger')\n",
      "AttributeError: 'tqdm_notebook' object has no attribute 'sp'\n",
      "/Users/timsb/miniconda3/envs/causal2020/lib/python3.7/site-packages/pylogit/choice_tools.py:703: FutureWarning: arrays to stack must be passed as a \"sequence\" type such as list or tuple. Support for non-sequence iterables such as generators is deprecated as of NumPy 1.16 and will raise an error in the future.\n",
      "/Users/timsb/miniconda3/envs/causal2020/lib/python3.7/site-packages/pylogit/choice_tools.py:703: FutureWarning: arrays to stack must be passed as a \"sequence\" type such as list or tuple. Support for non-sequence iterables such as generators is deprecated as of NumPy 1.16 and will raise an error in the future.\n"
     ]
    },
    {
     "name": "stdout",
     "output_type": "stream",
     "text": [
      "Simulation number 120 is complete!\n",
      "==========================================\n",
      "==========================================\n",
      "Simulation number 121 of 200 is in progress...\n",
      "Simulation size is 3301\n",
      "------------------------------------------\n",
      "Simulating data...\n",
      "Simulating Availability...\n"
     ]
    },
    {
     "name": "stderr",
     "output_type": "stream",
     "text": [
      "/Users/timsb/miniconda3/envs/causal2020/lib/python3.7/site-packages/pylogit/choice_tools.py:703: FutureWarning: arrays to stack must be passed as a \"sequence\" type such as list or tuple. Support for non-sequence iterables such as generators is deprecated as of NumPy 1.16 and will raise an error in the future.\n",
      "\n",
      "Simulating Choices:   0%|          | 0/3301 [00:00<?, ?it/s]\u001b[A"
     ]
    },
    {
     "name": "stdout",
     "output_type": "stream",
     "text": [
      "Converting data from wide to long...\n",
      "Simulating Choices...\n"
     ]
    },
    {
     "name": "stderr",
     "output_type": "stream",
     "text": [
      "\n",
      "Simulating Choices: 100%|██████████| 3301/3301 [00:00<00:00, 29932.31it/s]\u001b[A\n",
      "/Users/timsb/miniconda3/envs/causal2020/lib/python3.7/site-packages/pylogit/choice_tools.py:703: FutureWarning: arrays to stack must be passed as a \"sequence\" type such as list or tuple. Support for non-sequence iterables such as generators is deprecated as of NumPy 1.16 and will raise an error in the future.\n"
     ]
    },
    {
     "name": "stdout",
     "output_type": "stream",
     "text": [
      "Estimating the choice model...\n",
      "Estimating Causal Effects...\n",
      "Simulation number 121 is complete!\n",
      "==========================================\n",
      "==========================================\n",
      "Simulation number 122 of 200 is in progress...\n",
      "Simulation size is 3513\n",
      "------------------------------------------\n",
      "Simulating data...\n",
      "Simulating Availability...\n"
     ]
    },
    {
     "name": "stderr",
     "output_type": "stream",
     "text": [
      "/Users/timsb/miniconda3/envs/causal2020/lib/python3.7/site-packages/pylogit/choice_tools.py:703: FutureWarning: arrays to stack must be passed as a \"sequence\" type such as list or tuple. Support for non-sequence iterables such as generators is deprecated as of NumPy 1.16 and will raise an error in the future.\n",
      "/Users/timsb/miniconda3/envs/causal2020/lib/python3.7/site-packages/pylogit/choice_tools.py:703: FutureWarning: arrays to stack must be passed as a \"sequence\" type such as list or tuple. Support for non-sequence iterables such as generators is deprecated as of NumPy 1.16 and will raise an error in the future.\n",
      "Exception ignored in: <function tqdm.__del__ at 0x7fe05909bcb0>\n",
      "Traceback (most recent call last):\n",
      "  File \"/Users/timsb/miniconda3/envs/causal2020/lib/python3.7/site-packages/tqdm/std.py\", line 1124, in __del__\n",
      "    self.close()\n",
      "  File \"/Users/timsb/miniconda3/envs/causal2020/lib/python3.7/site-packages/tqdm/notebook.py\", line 271, in close\n",
      "    self.sp(bar_style='danger')\n",
      "AttributeError: 'tqdm_notebook' object has no attribute 'sp'\n",
      "/Users/timsb/miniconda3/envs/causal2020/lib/python3.7/site-packages/pylogit/choice_tools.py:703: FutureWarning: arrays to stack must be passed as a \"sequence\" type such as list or tuple. Support for non-sequence iterables such as generators is deprecated as of NumPy 1.16 and will raise an error in the future.\n",
      "/Users/timsb/miniconda3/envs/causal2020/lib/python3.7/site-packages/pylogit/choice_tools.py:703: FutureWarning: arrays to stack must be passed as a \"sequence\" type such as list or tuple. Support for non-sequence iterables such as generators is deprecated as of NumPy 1.16 and will raise an error in the future.\n",
      "/Users/timsb/miniconda3/envs/causal2020/lib/python3.7/site-packages/pylogit/choice_tools.py:703: FutureWarning: arrays to stack must be passed as a \"sequence\" type such as list or tuple. Support for non-sequence iterables such as generators is deprecated as of NumPy 1.16 and will raise an error in the future.\n",
      "\n",
      "Simulating Choices:   0%|          | 0/3513 [00:00<?, ?it/s]\u001b[A"
     ]
    },
    {
     "name": "stdout",
     "output_type": "stream",
     "text": [
      "Converting data from wide to long...\n",
      "Simulating Choices...\n"
     ]
    },
    {
     "name": "stderr",
     "output_type": "stream",
     "text": [
      "Simulating Choices: 100%|██████████| 3513/3513 [00:00<00:00, 38125.20it/s]\n",
      "/Users/timsb/miniconda3/envs/causal2020/lib/python3.7/site-packages/pylogit/choice_tools.py:703: FutureWarning: arrays to stack must be passed as a \"sequence\" type such as list or tuple. Support for non-sequence iterables such as generators is deprecated as of NumPy 1.16 and will raise an error in the future.\n"
     ]
    },
    {
     "name": "stdout",
     "output_type": "stream",
     "text": [
      "Estimating the choice model...\n",
      "Estimating Causal Effects...\n",
      "Simulation number 122 is complete!\n",
      "==========================================\n",
      "==========================================\n",
      "Simulation number 123 of 200 is in progress...\n",
      "Simulation size is 3207\n",
      "------------------------------------------\n",
      "Simulating data...\n",
      "Simulating Availability...\n"
     ]
    },
    {
     "name": "stderr",
     "output_type": "stream",
     "text": [
      "/Users/timsb/miniconda3/envs/causal2020/lib/python3.7/site-packages/pylogit/choice_tools.py:703: FutureWarning: arrays to stack must be passed as a \"sequence\" type such as list or tuple. Support for non-sequence iterables such as generators is deprecated as of NumPy 1.16 and will raise an error in the future.\n",
      "/Users/timsb/miniconda3/envs/causal2020/lib/python3.7/site-packages/pylogit/choice_tools.py:703: FutureWarning: arrays to stack must be passed as a \"sequence\" type such as list or tuple. Support for non-sequence iterables such as generators is deprecated as of NumPy 1.16 and will raise an error in the future.\n",
      "Exception ignored in: <function tqdm.__del__ at 0x7fe05909bcb0>\n",
      "Traceback (most recent call last):\n",
      "  File \"/Users/timsb/miniconda3/envs/causal2020/lib/python3.7/site-packages/tqdm/std.py\", line 1124, in __del__\n",
      "    self.close()\n",
      "  File \"/Users/timsb/miniconda3/envs/causal2020/lib/python3.7/site-packages/tqdm/notebook.py\", line 271, in close\n",
      "    self.sp(bar_style='danger')\n",
      "AttributeError: 'tqdm_notebook' object has no attribute 'sp'\n",
      "/Users/timsb/miniconda3/envs/causal2020/lib/python3.7/site-packages/pylogit/choice_tools.py:703: FutureWarning: arrays to stack must be passed as a \"sequence\" type such as list or tuple. Support for non-sequence iterables such as generators is deprecated as of NumPy 1.16 and will raise an error in the future.\n",
      "/Users/timsb/miniconda3/envs/causal2020/lib/python3.7/site-packages/pylogit/choice_tools.py:703: FutureWarning: arrays to stack must be passed as a \"sequence\" type such as list or tuple. Support for non-sequence iterables such as generators is deprecated as of NumPy 1.16 and will raise an error in the future.\n",
      "/Users/timsb/miniconda3/envs/causal2020/lib/python3.7/site-packages/pylogit/choice_tools.py:703: FutureWarning: arrays to stack must be passed as a \"sequence\" type such as list or tuple. Support for non-sequence iterables such as generators is deprecated as of NumPy 1.16 and will raise an error in the future.\n",
      "\n",
      "Simulating Choices:   0%|          | 0/3207 [00:00<?, ?it/s]\u001b[A"
     ]
    },
    {
     "name": "stdout",
     "output_type": "stream",
     "text": [
      "Converting data from wide to long...\n",
      "Simulating Choices...\n"
     ]
    },
    {
     "name": "stderr",
     "output_type": "stream",
     "text": [
      "Simulating Choices: 100%|██████████| 3207/3207 [00:00<00:00, 35211.19it/s]\n",
      "/Users/timsb/miniconda3/envs/causal2020/lib/python3.7/site-packages/pylogit/choice_tools.py:703: FutureWarning: arrays to stack must be passed as a \"sequence\" type such as list or tuple. Support for non-sequence iterables such as generators is deprecated as of NumPy 1.16 and will raise an error in the future.\n"
     ]
    },
    {
     "name": "stdout",
     "output_type": "stream",
     "text": [
      "Estimating the choice model...\n",
      "Estimating Causal Effects...\n",
      "Simulation number 123 is complete!\n",
      "==========================================\n",
      "==========================================\n",
      "Simulation number 124 of 200 is in progress...\n",
      "Simulation size is 3660\n",
      "------------------------------------------\n",
      "Simulating data...\n",
      "Simulating Availability...\n"
     ]
    },
    {
     "name": "stderr",
     "output_type": "stream",
     "text": [
      "/Users/timsb/miniconda3/envs/causal2020/lib/python3.7/site-packages/pylogit/choice_tools.py:703: FutureWarning: arrays to stack must be passed as a \"sequence\" type such as list or tuple. Support for non-sequence iterables such as generators is deprecated as of NumPy 1.16 and will raise an error in the future.\n",
      "/Users/timsb/miniconda3/envs/causal2020/lib/python3.7/site-packages/pylogit/choice_tools.py:703: FutureWarning: arrays to stack must be passed as a \"sequence\" type such as list or tuple. Support for non-sequence iterables such as generators is deprecated as of NumPy 1.16 and will raise an error in the future.\n",
      "Exception ignored in: <function tqdm.__del__ at 0x7fe05909bcb0>\n",
      "Traceback (most recent call last):\n",
      "  File \"/Users/timsb/miniconda3/envs/causal2020/lib/python3.7/site-packages/tqdm/std.py\", line 1124, in __del__\n",
      "    self.close()\n",
      "  File \"/Users/timsb/miniconda3/envs/causal2020/lib/python3.7/site-packages/tqdm/notebook.py\", line 271, in close\n",
      "    self.sp(bar_style='danger')\n",
      "AttributeError: 'tqdm_notebook' object has no attribute 'sp'\n",
      "/Users/timsb/miniconda3/envs/causal2020/lib/python3.7/site-packages/pylogit/choice_tools.py:703: FutureWarning: arrays to stack must be passed as a \"sequence\" type such as list or tuple. Support for non-sequence iterables such as generators is deprecated as of NumPy 1.16 and will raise an error in the future.\n",
      "/Users/timsb/miniconda3/envs/causal2020/lib/python3.7/site-packages/pylogit/choice_tools.py:703: FutureWarning: arrays to stack must be passed as a \"sequence\" type such as list or tuple. Support for non-sequence iterables such as generators is deprecated as of NumPy 1.16 and will raise an error in the future.\n",
      "/Users/timsb/miniconda3/envs/causal2020/lib/python3.7/site-packages/pylogit/choice_tools.py:703: FutureWarning: arrays to stack must be passed as a \"sequence\" type such as list or tuple. Support for non-sequence iterables such as generators is deprecated as of NumPy 1.16 and will raise an error in the future.\n",
      "\n",
      "Simulating Choices:   0%|          | 0/3660 [00:00<?, ?it/s]\u001b[A"
     ]
    },
    {
     "name": "stdout",
     "output_type": "stream",
     "text": [
      "Converting data from wide to long...\n",
      "Simulating Choices...\n"
     ]
    },
    {
     "name": "stderr",
     "output_type": "stream",
     "text": [
      "Simulating Choices: 100%|██████████| 3660/3660 [00:00<00:00, 37672.93it/s]\n",
      "/Users/timsb/miniconda3/envs/causal2020/lib/python3.7/site-packages/pylogit/choice_tools.py:703: FutureWarning: arrays to stack must be passed as a \"sequence\" type such as list or tuple. Support for non-sequence iterables such as generators is deprecated as of NumPy 1.16 and will raise an error in the future.\n"
     ]
    },
    {
     "name": "stdout",
     "output_type": "stream",
     "text": [
      "Estimating the choice model...\n",
      "Estimating Causal Effects...\n",
      "Simulation number 124 is complete!\n",
      "==========================================\n",
      "==========================================\n",
      "Simulation number 125 of 200 is in progress...\n",
      "Simulation size is 3020\n",
      "------------------------------------------\n",
      "Simulating data...\n",
      "Simulating Availability...\n"
     ]
    },
    {
     "name": "stderr",
     "output_type": "stream",
     "text": [
      "/Users/timsb/miniconda3/envs/causal2020/lib/python3.7/site-packages/pylogit/choice_tools.py:703: FutureWarning: arrays to stack must be passed as a \"sequence\" type such as list or tuple. Support for non-sequence iterables such as generators is deprecated as of NumPy 1.16 and will raise an error in the future.\n",
      "/Users/timsb/miniconda3/envs/causal2020/lib/python3.7/site-packages/pylogit/choice_tools.py:703: FutureWarning: arrays to stack must be passed as a \"sequence\" type such as list or tuple. Support for non-sequence iterables such as generators is deprecated as of NumPy 1.16 and will raise an error in the future.\n",
      "Exception ignored in: <function tqdm.__del__ at 0x7fe05909bcb0>\n",
      "Traceback (most recent call last):\n",
      "  File \"/Users/timsb/miniconda3/envs/causal2020/lib/python3.7/site-packages/tqdm/std.py\", line 1124, in __del__\n",
      "    self.close()\n",
      "  File \"/Users/timsb/miniconda3/envs/causal2020/lib/python3.7/site-packages/tqdm/notebook.py\", line 271, in close\n",
      "    self.sp(bar_style='danger')\n",
      "AttributeError: 'tqdm_notebook' object has no attribute 'sp'\n",
      "/Users/timsb/miniconda3/envs/causal2020/lib/python3.7/site-packages/pylogit/choice_tools.py:703: FutureWarning: arrays to stack must be passed as a \"sequence\" type such as list or tuple. Support for non-sequence iterables such as generators is deprecated as of NumPy 1.16 and will raise an error in the future.\n",
      "/Users/timsb/miniconda3/envs/causal2020/lib/python3.7/site-packages/pylogit/choice_tools.py:703: FutureWarning: arrays to stack must be passed as a \"sequence\" type such as list or tuple. Support for non-sequence iterables such as generators is deprecated as of NumPy 1.16 and will raise an error in the future.\n",
      "/Users/timsb/miniconda3/envs/causal2020/lib/python3.7/site-packages/pylogit/choice_tools.py:703: FutureWarning: arrays to stack must be passed as a \"sequence\" type such as list or tuple. Support for non-sequence iterables such as generators is deprecated as of NumPy 1.16 and will raise an error in the future.\n",
      "\n",
      "Simulating Choices:   0%|          | 0/3020 [00:00<?, ?it/s]\u001b[A"
     ]
    },
    {
     "name": "stdout",
     "output_type": "stream",
     "text": [
      "Converting data from wide to long...\n",
      "Simulating Choices...\n"
     ]
    },
    {
     "name": "stderr",
     "output_type": "stream",
     "text": [
      "Simulating Choices: 100%|██████████| 3020/3020 [00:00<00:00, 36902.65it/s]\n",
      "/Users/timsb/miniconda3/envs/causal2020/lib/python3.7/site-packages/pylogit/choice_tools.py:703: FutureWarning: arrays to stack must be passed as a \"sequence\" type such as list or tuple. Support for non-sequence iterables such as generators is deprecated as of NumPy 1.16 and will raise an error in the future.\n",
      "/Users/timsb/miniconda3/envs/causal2020/lib/python3.7/site-packages/pylogit/choice_tools.py:703: FutureWarning: arrays to stack must be passed as a \"sequence\" type such as list or tuple. Support for non-sequence iterables such as generators is deprecated as of NumPy 1.16 and will raise an error in the future.\n",
      "/Users/timsb/miniconda3/envs/causal2020/lib/python3.7/site-packages/pylogit/choice_tools.py:703: FutureWarning: arrays to stack must be passed as a \"sequence\" type such as list or tuple. Support for non-sequence iterables such as generators is deprecated as of NumPy 1.16 and will raise an error in the future.\n"
     ]
    },
    {
     "name": "stdout",
     "output_type": "stream",
     "text": [
      "Estimating the choice model...\n",
      "Estimating Causal Effects...\n"
     ]
    },
    {
     "name": "stderr",
     "output_type": "stream",
     "text": [
      "Exception ignored in: <function tqdm.__del__ at 0x7fe05909bcb0>\n",
      "Traceback (most recent call last):\n",
      "  File \"/Users/timsb/miniconda3/envs/causal2020/lib/python3.7/site-packages/tqdm/std.py\", line 1124, in __del__\n",
      "    self.close()\n",
      "  File \"/Users/timsb/miniconda3/envs/causal2020/lib/python3.7/site-packages/tqdm/notebook.py\", line 271, in close\n",
      "    self.sp(bar_style='danger')\n",
      "AttributeError: 'tqdm_notebook' object has no attribute 'sp'\n",
      "/Users/timsb/miniconda3/envs/causal2020/lib/python3.7/site-packages/pylogit/choice_tools.py:703: FutureWarning: arrays to stack must be passed as a \"sequence\" type such as list or tuple. Support for non-sequence iterables such as generators is deprecated as of NumPy 1.16 and will raise an error in the future.\n",
      "/Users/timsb/miniconda3/envs/causal2020/lib/python3.7/site-packages/pylogit/choice_tools.py:703: FutureWarning: arrays to stack must be passed as a \"sequence\" type such as list or tuple. Support for non-sequence iterables such as generators is deprecated as of NumPy 1.16 and will raise an error in the future.\n"
     ]
    },
    {
     "name": "stdout",
     "output_type": "stream",
     "text": [
      "Simulation number 125 is complete!\n",
      "==========================================\n",
      "==========================================\n",
      "Simulation number 126 of 200 is in progress...\n",
      "Simulation size is 3883\n",
      "------------------------------------------\n",
      "Simulating data...\n",
      "Simulating Availability...\n"
     ]
    },
    {
     "name": "stderr",
     "output_type": "stream",
     "text": [
      "/Users/timsb/miniconda3/envs/causal2020/lib/python3.7/site-packages/pylogit/choice_tools.py:703: FutureWarning: arrays to stack must be passed as a \"sequence\" type such as list or tuple. Support for non-sequence iterables such as generators is deprecated as of NumPy 1.16 and will raise an error in the future.\n",
      "\n",
      "Simulating Choices:   0%|          | 0/3883 [00:00<?, ?it/s]\u001b[A"
     ]
    },
    {
     "name": "stdout",
     "output_type": "stream",
     "text": [
      "Converting data from wide to long...\n",
      "Simulating Choices...\n"
     ]
    },
    {
     "name": "stderr",
     "output_type": "stream",
     "text": [
      "\n",
      "Simulating Choices: 100%|██████████| 3883/3883 [00:00<00:00, 37930.67it/s]\u001b[A\n",
      "/Users/timsb/miniconda3/envs/causal2020/lib/python3.7/site-packages/pylogit/choice_tools.py:703: FutureWarning: arrays to stack must be passed as a \"sequence\" type such as list or tuple. Support for non-sequence iterables such as generators is deprecated as of NumPy 1.16 and will raise an error in the future.\n"
     ]
    },
    {
     "name": "stdout",
     "output_type": "stream",
     "text": [
      "Estimating the choice model...\n",
      "Estimating Causal Effects...\n",
      "Simulation number 126 is complete!\n",
      "==========================================\n",
      "==========================================\n",
      "Simulation number 127 of 200 is in progress...\n",
      "Simulation size is 3627\n",
      "------------------------------------------\n",
      "Simulating data...\n",
      "Simulating Availability...\n"
     ]
    },
    {
     "name": "stderr",
     "output_type": "stream",
     "text": [
      "/Users/timsb/miniconda3/envs/causal2020/lib/python3.7/site-packages/pylogit/choice_tools.py:703: FutureWarning: arrays to stack must be passed as a \"sequence\" type such as list or tuple. Support for non-sequence iterables such as generators is deprecated as of NumPy 1.16 and will raise an error in the future.\n",
      "/Users/timsb/miniconda3/envs/causal2020/lib/python3.7/site-packages/pylogit/choice_tools.py:703: FutureWarning: arrays to stack must be passed as a \"sequence\" type such as list or tuple. Support for non-sequence iterables such as generators is deprecated as of NumPy 1.16 and will raise an error in the future.\n",
      "Exception ignored in: <function tqdm.__del__ at 0x7fe05909bcb0>\n",
      "Traceback (most recent call last):\n",
      "  File \"/Users/timsb/miniconda3/envs/causal2020/lib/python3.7/site-packages/tqdm/std.py\", line 1124, in __del__\n",
      "    self.close()\n",
      "  File \"/Users/timsb/miniconda3/envs/causal2020/lib/python3.7/site-packages/tqdm/notebook.py\", line 271, in close\n",
      "    self.sp(bar_style='danger')\n",
      "AttributeError: 'tqdm_notebook' object has no attribute 'sp'\n",
      "/Users/timsb/miniconda3/envs/causal2020/lib/python3.7/site-packages/pylogit/choice_tools.py:703: FutureWarning: arrays to stack must be passed as a \"sequence\" type such as list or tuple. Support for non-sequence iterables such as generators is deprecated as of NumPy 1.16 and will raise an error in the future.\n",
      "/Users/timsb/miniconda3/envs/causal2020/lib/python3.7/site-packages/pylogit/choice_tools.py:703: FutureWarning: arrays to stack must be passed as a \"sequence\" type such as list or tuple. Support for non-sequence iterables such as generators is deprecated as of NumPy 1.16 and will raise an error in the future.\n",
      "/Users/timsb/miniconda3/envs/causal2020/lib/python3.7/site-packages/pylogit/choice_tools.py:703: FutureWarning: arrays to stack must be passed as a \"sequence\" type such as list or tuple. Support for non-sequence iterables such as generators is deprecated as of NumPy 1.16 and will raise an error in the future.\n",
      "\n",
      "Simulating Choices:   0%|          | 0/3627 [00:00<?, ?it/s]\u001b[A"
     ]
    },
    {
     "name": "stdout",
     "output_type": "stream",
     "text": [
      "Converting data from wide to long...\n",
      "Simulating Choices...\n"
     ]
    },
    {
     "name": "stderr",
     "output_type": "stream",
     "text": [
      "Simulating Choices: 100%|██████████| 3627/3627 [00:00<00:00, 39840.09it/s]\n",
      "/Users/timsb/miniconda3/envs/causal2020/lib/python3.7/site-packages/pylogit/choice_tools.py:703: FutureWarning: arrays to stack must be passed as a \"sequence\" type such as list or tuple. Support for non-sequence iterables such as generators is deprecated as of NumPy 1.16 and will raise an error in the future.\n"
     ]
    },
    {
     "name": "stdout",
     "output_type": "stream",
     "text": [
      "Estimating the choice model...\n",
      "Estimating Causal Effects...\n",
      "Simulation number 127 is complete!\n",
      "==========================================\n",
      "==========================================\n",
      "Simulation number 128 of 200 is in progress...\n",
      "Simulation size is 3323\n",
      "------------------------------------------\n",
      "Simulating data...\n",
      "Simulating Availability...\n"
     ]
    },
    {
     "name": "stderr",
     "output_type": "stream",
     "text": [
      "/Users/timsb/miniconda3/envs/causal2020/lib/python3.7/site-packages/pylogit/choice_tools.py:703: FutureWarning: arrays to stack must be passed as a \"sequence\" type such as list or tuple. Support for non-sequence iterables such as generators is deprecated as of NumPy 1.16 and will raise an error in the future.\n",
      "/Users/timsb/miniconda3/envs/causal2020/lib/python3.7/site-packages/pylogit/choice_tools.py:703: FutureWarning: arrays to stack must be passed as a \"sequence\" type such as list or tuple. Support for non-sequence iterables such as generators is deprecated as of NumPy 1.16 and will raise an error in the future.\n",
      "Exception ignored in: <function tqdm.__del__ at 0x7fe05909bcb0>\n",
      "Traceback (most recent call last):\n",
      "  File \"/Users/timsb/miniconda3/envs/causal2020/lib/python3.7/site-packages/tqdm/std.py\", line 1124, in __del__\n",
      "    self.close()\n",
      "  File \"/Users/timsb/miniconda3/envs/causal2020/lib/python3.7/site-packages/tqdm/notebook.py\", line 271, in close\n",
      "    self.sp(bar_style='danger')\n",
      "AttributeError: 'tqdm_notebook' object has no attribute 'sp'\n",
      "/Users/timsb/miniconda3/envs/causal2020/lib/python3.7/site-packages/pylogit/choice_tools.py:703: FutureWarning: arrays to stack must be passed as a \"sequence\" type such as list or tuple. Support for non-sequence iterables such as generators is deprecated as of NumPy 1.16 and will raise an error in the future.\n",
      "/Users/timsb/miniconda3/envs/causal2020/lib/python3.7/site-packages/pylogit/choice_tools.py:703: FutureWarning: arrays to stack must be passed as a \"sequence\" type such as list or tuple. Support for non-sequence iterables such as generators is deprecated as of NumPy 1.16 and will raise an error in the future.\n",
      "/Users/timsb/miniconda3/envs/causal2020/lib/python3.7/site-packages/pylogit/choice_tools.py:703: FutureWarning: arrays to stack must be passed as a \"sequence\" type such as list or tuple. Support for non-sequence iterables such as generators is deprecated as of NumPy 1.16 and will raise an error in the future.\n",
      "\n",
      "Simulating Choices:   0%|          | 0/3323 [00:00<?, ?it/s]\u001b[A"
     ]
    },
    {
     "name": "stdout",
     "output_type": "stream",
     "text": [
      "Converting data from wide to long...\n",
      "Simulating Choices...\n"
     ]
    },
    {
     "name": "stderr",
     "output_type": "stream",
     "text": [
      "Simulating Choices: 100%|██████████| 3323/3323 [00:00<00:00, 38100.43it/s]\n",
      "/Users/timsb/miniconda3/envs/causal2020/lib/python3.7/site-packages/pylogit/choice_tools.py:703: FutureWarning: arrays to stack must be passed as a \"sequence\" type such as list or tuple. Support for non-sequence iterables such as generators is deprecated as of NumPy 1.16 and will raise an error in the future.\n"
     ]
    },
    {
     "name": "stdout",
     "output_type": "stream",
     "text": [
      "Estimating the choice model...\n",
      "Estimating Causal Effects...\n",
      "Simulation number 128 is complete!\n",
      "==========================================\n",
      "==========================================\n",
      "Simulation number 129 of 200 is in progress...\n",
      "Simulation size is 3562\n",
      "------------------------------------------\n",
      "Simulating data...\n",
      "Simulating Availability...\n"
     ]
    },
    {
     "name": "stderr",
     "output_type": "stream",
     "text": [
      "/Users/timsb/miniconda3/envs/causal2020/lib/python3.7/site-packages/pylogit/choice_tools.py:703: FutureWarning: arrays to stack must be passed as a \"sequence\" type such as list or tuple. Support for non-sequence iterables such as generators is deprecated as of NumPy 1.16 and will raise an error in the future.\n",
      "/Users/timsb/miniconda3/envs/causal2020/lib/python3.7/site-packages/pylogit/choice_tools.py:703: FutureWarning: arrays to stack must be passed as a \"sequence\" type such as list or tuple. Support for non-sequence iterables such as generators is deprecated as of NumPy 1.16 and will raise an error in the future.\n",
      "Exception ignored in: <function tqdm.__del__ at 0x7fe05909bcb0>\n",
      "Traceback (most recent call last):\n",
      "  File \"/Users/timsb/miniconda3/envs/causal2020/lib/python3.7/site-packages/tqdm/std.py\", line 1124, in __del__\n",
      "    self.close()\n",
      "  File \"/Users/timsb/miniconda3/envs/causal2020/lib/python3.7/site-packages/tqdm/notebook.py\", line 271, in close\n",
      "    self.sp(bar_style='danger')\n",
      "AttributeError: 'tqdm_notebook' object has no attribute 'sp'\n",
      "/Users/timsb/miniconda3/envs/causal2020/lib/python3.7/site-packages/pylogit/choice_tools.py:703: FutureWarning: arrays to stack must be passed as a \"sequence\" type such as list or tuple. Support for non-sequence iterables such as generators is deprecated as of NumPy 1.16 and will raise an error in the future.\n",
      "/Users/timsb/miniconda3/envs/causal2020/lib/python3.7/site-packages/pylogit/choice_tools.py:703: FutureWarning: arrays to stack must be passed as a \"sequence\" type such as list or tuple. Support for non-sequence iterables such as generators is deprecated as of NumPy 1.16 and will raise an error in the future.\n",
      "/Users/timsb/miniconda3/envs/causal2020/lib/python3.7/site-packages/pylogit/choice_tools.py:703: FutureWarning: arrays to stack must be passed as a \"sequence\" type such as list or tuple. Support for non-sequence iterables such as generators is deprecated as of NumPy 1.16 and will raise an error in the future.\n",
      "\n",
      "Simulating Choices:   0%|          | 0/3562 [00:00<?, ?it/s]\u001b[A"
     ]
    },
    {
     "name": "stdout",
     "output_type": "stream",
     "text": [
      "Converting data from wide to long...\n",
      "Simulating Choices...\n"
     ]
    },
    {
     "name": "stderr",
     "output_type": "stream",
     "text": [
      "Simulating Choices: 100%|██████████| 3562/3562 [00:00<00:00, 36421.26it/s]\n",
      "/Users/timsb/miniconda3/envs/causal2020/lib/python3.7/site-packages/pylogit/choice_tools.py:703: FutureWarning: arrays to stack must be passed as a \"sequence\" type such as list or tuple. Support for non-sequence iterables such as generators is deprecated as of NumPy 1.16 and will raise an error in the future.\n"
     ]
    },
    {
     "name": "stdout",
     "output_type": "stream",
     "text": [
      "Estimating the choice model...\n",
      "Estimating Causal Effects...\n",
      "Simulation number 129 is complete!\n",
      "==========================================\n",
      "==========================================\n",
      "Simulation number 130 of 200 is in progress...\n",
      "Simulation size is 3904\n",
      "------------------------------------------\n",
      "Simulating data...\n",
      "Simulating Availability...\n"
     ]
    },
    {
     "name": "stderr",
     "output_type": "stream",
     "text": [
      "/Users/timsb/miniconda3/envs/causal2020/lib/python3.7/site-packages/pylogit/choice_tools.py:703: FutureWarning: arrays to stack must be passed as a \"sequence\" type such as list or tuple. Support for non-sequence iterables such as generators is deprecated as of NumPy 1.16 and will raise an error in the future.\n",
      "/Users/timsb/miniconda3/envs/causal2020/lib/python3.7/site-packages/pylogit/choice_tools.py:703: FutureWarning: arrays to stack must be passed as a \"sequence\" type such as list or tuple. Support for non-sequence iterables such as generators is deprecated as of NumPy 1.16 and will raise an error in the future.\n",
      "Exception ignored in: <function tqdm.__del__ at 0x7fe05909bcb0>\n",
      "Traceback (most recent call last):\n",
      "  File \"/Users/timsb/miniconda3/envs/causal2020/lib/python3.7/site-packages/tqdm/std.py\", line 1124, in __del__\n",
      "    self.close()\n",
      "  File \"/Users/timsb/miniconda3/envs/causal2020/lib/python3.7/site-packages/tqdm/notebook.py\", line 271, in close\n",
      "    self.sp(bar_style='danger')\n",
      "AttributeError: 'tqdm_notebook' object has no attribute 'sp'\n",
      "/Users/timsb/miniconda3/envs/causal2020/lib/python3.7/site-packages/pylogit/choice_tools.py:703: FutureWarning: arrays to stack must be passed as a \"sequence\" type such as list or tuple. Support for non-sequence iterables such as generators is deprecated as of NumPy 1.16 and will raise an error in the future.\n",
      "/Users/timsb/miniconda3/envs/causal2020/lib/python3.7/site-packages/pylogit/choice_tools.py:703: FutureWarning: arrays to stack must be passed as a \"sequence\" type such as list or tuple. Support for non-sequence iterables such as generators is deprecated as of NumPy 1.16 and will raise an error in the future.\n",
      "/Users/timsb/miniconda3/envs/causal2020/lib/python3.7/site-packages/pylogit/choice_tools.py:703: FutureWarning: arrays to stack must be passed as a \"sequence\" type such as list or tuple. Support for non-sequence iterables such as generators is deprecated as of NumPy 1.16 and will raise an error in the future.\n",
      "\n"
     ]
    },
    {
     "name": "stdout",
     "output_type": "stream",
     "text": [
      "Converting data from wide to long...\n",
      "Simulating Choices...\n"
     ]
    },
    {
     "name": "stderr",
     "output_type": "stream",
     "text": [
      "Simulating Choices:   0%|          | 0/3904 [00:00<?, ?it/s]\u001b[A\n",
      "Simulating Choices: 100%|██████████| 3904/3904 [00:00<00:00, 33231.51it/s]\u001b[A\n",
      "/Users/timsb/miniconda3/envs/causal2020/lib/python3.7/site-packages/pylogit/choice_tools.py:703: FutureWarning: arrays to stack must be passed as a \"sequence\" type such as list or tuple. Support for non-sequence iterables such as generators is deprecated as of NumPy 1.16 and will raise an error in the future.\n"
     ]
    },
    {
     "name": "stdout",
     "output_type": "stream",
     "text": [
      "Estimating the choice model...\n",
      "Estimating Causal Effects...\n",
      "Simulation number 130 is complete!\n",
      "==========================================\n",
      "==========================================\n",
      "Simulation number 131 of 200 is in progress...\n",
      "Simulation size is 3897\n",
      "------------------------------------------\n",
      "Simulating data...\n",
      "Simulating Availability...\n"
     ]
    },
    {
     "name": "stderr",
     "output_type": "stream",
     "text": [
      "/Users/timsb/miniconda3/envs/causal2020/lib/python3.7/site-packages/pylogit/choice_tools.py:703: FutureWarning: arrays to stack must be passed as a \"sequence\" type such as list or tuple. Support for non-sequence iterables such as generators is deprecated as of NumPy 1.16 and will raise an error in the future.\n",
      "/Users/timsb/miniconda3/envs/causal2020/lib/python3.7/site-packages/pylogit/choice_tools.py:703: FutureWarning: arrays to stack must be passed as a \"sequence\" type such as list or tuple. Support for non-sequence iterables such as generators is deprecated as of NumPy 1.16 and will raise an error in the future.\n",
      "Exception ignored in: <function tqdm.__del__ at 0x7fe05909bcb0>\n",
      "Traceback (most recent call last):\n",
      "  File \"/Users/timsb/miniconda3/envs/causal2020/lib/python3.7/site-packages/tqdm/std.py\", line 1124, in __del__\n",
      "    self.close()\n",
      "  File \"/Users/timsb/miniconda3/envs/causal2020/lib/python3.7/site-packages/tqdm/notebook.py\", line 271, in close\n",
      "    self.sp(bar_style='danger')\n",
      "AttributeError: 'tqdm_notebook' object has no attribute 'sp'\n",
      "/Users/timsb/miniconda3/envs/causal2020/lib/python3.7/site-packages/pylogit/choice_tools.py:703: FutureWarning: arrays to stack must be passed as a \"sequence\" type such as list or tuple. Support for non-sequence iterables such as generators is deprecated as of NumPy 1.16 and will raise an error in the future.\n",
      "/Users/timsb/miniconda3/envs/causal2020/lib/python3.7/site-packages/pylogit/choice_tools.py:703: FutureWarning: arrays to stack must be passed as a \"sequence\" type such as list or tuple. Support for non-sequence iterables such as generators is deprecated as of NumPy 1.16 and will raise an error in the future.\n",
      "/Users/timsb/miniconda3/envs/causal2020/lib/python3.7/site-packages/pylogit/choice_tools.py:703: FutureWarning: arrays to stack must be passed as a \"sequence\" type such as list or tuple. Support for non-sequence iterables such as generators is deprecated as of NumPy 1.16 and will raise an error in the future.\n",
      "\n",
      "Simulating Choices:   0%|          | 0/3897 [00:00<?, ?it/s]\u001b[A"
     ]
    },
    {
     "name": "stdout",
     "output_type": "stream",
     "text": [
      "Converting data from wide to long...\n",
      "Simulating Choices...\n"
     ]
    },
    {
     "name": "stderr",
     "output_type": "stream",
     "text": [
      "Simulating Choices: 100%|██████████| 3897/3897 [00:00<00:00, 40294.95it/s]\n",
      "/Users/timsb/miniconda3/envs/causal2020/lib/python3.7/site-packages/pylogit/choice_tools.py:703: FutureWarning: arrays to stack must be passed as a \"sequence\" type such as list or tuple. Support for non-sequence iterables such as generators is deprecated as of NumPy 1.16 and will raise an error in the future.\n"
     ]
    },
    {
     "name": "stdout",
     "output_type": "stream",
     "text": [
      "Estimating the choice model...\n",
      "Estimating Causal Effects...\n",
      "Simulation number 131 is complete!\n",
      "==========================================\n",
      "==========================================\n",
      "Simulation number 132 of 200 is in progress...\n",
      "Simulation size is 3452\n",
      "------------------------------------------\n",
      "Simulating data...\n",
      "Simulating Availability...\n"
     ]
    },
    {
     "name": "stderr",
     "output_type": "stream",
     "text": [
      "/Users/timsb/miniconda3/envs/causal2020/lib/python3.7/site-packages/pylogit/choice_tools.py:703: FutureWarning: arrays to stack must be passed as a \"sequence\" type such as list or tuple. Support for non-sequence iterables such as generators is deprecated as of NumPy 1.16 and will raise an error in the future.\n",
      "/Users/timsb/miniconda3/envs/causal2020/lib/python3.7/site-packages/pylogit/choice_tools.py:703: FutureWarning: arrays to stack must be passed as a \"sequence\" type such as list or tuple. Support for non-sequence iterables such as generators is deprecated as of NumPy 1.16 and will raise an error in the future.\n",
      "Exception ignored in: <function tqdm.__del__ at 0x7fe05909bcb0>\n",
      "Traceback (most recent call last):\n",
      "  File \"/Users/timsb/miniconda3/envs/causal2020/lib/python3.7/site-packages/tqdm/std.py\", line 1124, in __del__\n",
      "    self.close()\n",
      "  File \"/Users/timsb/miniconda3/envs/causal2020/lib/python3.7/site-packages/tqdm/notebook.py\", line 271, in close\n",
      "    self.sp(bar_style='danger')\n",
      "AttributeError: 'tqdm_notebook' object has no attribute 'sp'\n",
      "/Users/timsb/miniconda3/envs/causal2020/lib/python3.7/site-packages/pylogit/choice_tools.py:703: FutureWarning: arrays to stack must be passed as a \"sequence\" type such as list or tuple. Support for non-sequence iterables such as generators is deprecated as of NumPy 1.16 and will raise an error in the future.\n",
      "/Users/timsb/miniconda3/envs/causal2020/lib/python3.7/site-packages/pylogit/choice_tools.py:703: FutureWarning: arrays to stack must be passed as a \"sequence\" type such as list or tuple. Support for non-sequence iterables such as generators is deprecated as of NumPy 1.16 and will raise an error in the future.\n",
      "/Users/timsb/miniconda3/envs/causal2020/lib/python3.7/site-packages/pylogit/choice_tools.py:703: FutureWarning: arrays to stack must be passed as a \"sequence\" type such as list or tuple. Support for non-sequence iterables such as generators is deprecated as of NumPy 1.16 and will raise an error in the future.\n",
      "\n",
      "Simulating Choices:   0%|          | 0/3452 [00:00<?, ?it/s]\u001b[A"
     ]
    },
    {
     "name": "stdout",
     "output_type": "stream",
     "text": [
      "Converting data from wide to long...\n",
      "Simulating Choices...\n"
     ]
    },
    {
     "name": "stderr",
     "output_type": "stream",
     "text": [
      "Simulating Choices: 100%|██████████| 3452/3452 [00:00<00:00, 34708.13it/s]\n",
      "/Users/timsb/miniconda3/envs/causal2020/lib/python3.7/site-packages/pylogit/choice_tools.py:703: FutureWarning: arrays to stack must be passed as a \"sequence\" type such as list or tuple. Support for non-sequence iterables such as generators is deprecated as of NumPy 1.16 and will raise an error in the future.\n"
     ]
    },
    {
     "name": "stdout",
     "output_type": "stream",
     "text": [
      "Estimating the choice model...\n",
      "Estimating Causal Effects...\n",
      "Simulation number 132 is complete!\n",
      "==========================================\n",
      "==========================================\n",
      "Simulation number 133 of 200 is in progress...\n",
      "Simulation size is 3740\n",
      "------------------------------------------\n",
      "Simulating data...\n",
      "Simulating Availability...\n"
     ]
    },
    {
     "name": "stderr",
     "output_type": "stream",
     "text": [
      "/Users/timsb/miniconda3/envs/causal2020/lib/python3.7/site-packages/pylogit/choice_tools.py:703: FutureWarning: arrays to stack must be passed as a \"sequence\" type such as list or tuple. Support for non-sequence iterables such as generators is deprecated as of NumPy 1.16 and will raise an error in the future.\n",
      "/Users/timsb/miniconda3/envs/causal2020/lib/python3.7/site-packages/pylogit/choice_tools.py:703: FutureWarning: arrays to stack must be passed as a \"sequence\" type such as list or tuple. Support for non-sequence iterables such as generators is deprecated as of NumPy 1.16 and will raise an error in the future.\n",
      "Exception ignored in: <function tqdm.__del__ at 0x7fe05909bcb0>\n",
      "Traceback (most recent call last):\n",
      "  File \"/Users/timsb/miniconda3/envs/causal2020/lib/python3.7/site-packages/tqdm/std.py\", line 1124, in __del__\n",
      "    self.close()\n",
      "  File \"/Users/timsb/miniconda3/envs/causal2020/lib/python3.7/site-packages/tqdm/notebook.py\", line 271, in close\n",
      "    self.sp(bar_style='danger')\n",
      "AttributeError: 'tqdm_notebook' object has no attribute 'sp'\n",
      "/Users/timsb/miniconda3/envs/causal2020/lib/python3.7/site-packages/pylogit/choice_tools.py:703: FutureWarning: arrays to stack must be passed as a \"sequence\" type such as list or tuple. Support for non-sequence iterables such as generators is deprecated as of NumPy 1.16 and will raise an error in the future.\n",
      "/Users/timsb/miniconda3/envs/causal2020/lib/python3.7/site-packages/pylogit/choice_tools.py:703: FutureWarning: arrays to stack must be passed as a \"sequence\" type such as list or tuple. Support for non-sequence iterables such as generators is deprecated as of NumPy 1.16 and will raise an error in the future.\n"
     ]
    },
    {
     "name": "stdout",
     "output_type": "stream",
     "text": [
      "Converting data from wide to long...\n",
      "Simulating Choices...\n"
     ]
    },
    {
     "name": "stderr",
     "output_type": "stream",
     "text": [
      "/Users/timsb/miniconda3/envs/causal2020/lib/python3.7/site-packages/pylogit/choice_tools.py:703: FutureWarning: arrays to stack must be passed as a \"sequence\" type such as list or tuple. Support for non-sequence iterables such as generators is deprecated as of NumPy 1.16 and will raise an error in the future.\n",
      "\n",
      "Simulating Choices:   0%|          | 0/3740 [00:00<?, ?it/s]\u001b[A\n",
      "Simulating Choices: 100%|██████████| 3740/3740 [00:00<00:00, 35267.73it/s]\u001b[A\n",
      "/Users/timsb/miniconda3/envs/causal2020/lib/python3.7/site-packages/pylogit/choice_tools.py:703: FutureWarning: arrays to stack must be passed as a \"sequence\" type such as list or tuple. Support for non-sequence iterables such as generators is deprecated as of NumPy 1.16 and will raise an error in the future.\n"
     ]
    },
    {
     "name": "stdout",
     "output_type": "stream",
     "text": [
      "Estimating the choice model...\n",
      "Estimating Causal Effects...\n",
      "Simulation number 133 is complete!\n",
      "==========================================\n",
      "==========================================\n",
      "Simulation number 134 of 200 is in progress...\n",
      "Simulation size is 3875\n",
      "------------------------------------------\n",
      "Simulating data...\n",
      "Simulating Availability...\n"
     ]
    },
    {
     "name": "stderr",
     "output_type": "stream",
     "text": [
      "/Users/timsb/miniconda3/envs/causal2020/lib/python3.7/site-packages/pylogit/choice_tools.py:703: FutureWarning: arrays to stack must be passed as a \"sequence\" type such as list or tuple. Support for non-sequence iterables such as generators is deprecated as of NumPy 1.16 and will raise an error in the future.\n",
      "/Users/timsb/miniconda3/envs/causal2020/lib/python3.7/site-packages/pylogit/choice_tools.py:703: FutureWarning: arrays to stack must be passed as a \"sequence\" type such as list or tuple. Support for non-sequence iterables such as generators is deprecated as of NumPy 1.16 and will raise an error in the future.\n",
      "Exception ignored in: <function tqdm.__del__ at 0x7fe05909bcb0>\n",
      "Traceback (most recent call last):\n",
      "  File \"/Users/timsb/miniconda3/envs/causal2020/lib/python3.7/site-packages/tqdm/std.py\", line 1124, in __del__\n",
      "    self.close()\n",
      "  File \"/Users/timsb/miniconda3/envs/causal2020/lib/python3.7/site-packages/tqdm/notebook.py\", line 271, in close\n",
      "    self.sp(bar_style='danger')\n",
      "AttributeError: 'tqdm_notebook' object has no attribute 'sp'\n",
      "/Users/timsb/miniconda3/envs/causal2020/lib/python3.7/site-packages/pylogit/choice_tools.py:703: FutureWarning: arrays to stack must be passed as a \"sequence\" type such as list or tuple. Support for non-sequence iterables such as generators is deprecated as of NumPy 1.16 and will raise an error in the future.\n",
      "/Users/timsb/miniconda3/envs/causal2020/lib/python3.7/site-packages/pylogit/choice_tools.py:703: FutureWarning: arrays to stack must be passed as a \"sequence\" type such as list or tuple. Support for non-sequence iterables such as generators is deprecated as of NumPy 1.16 and will raise an error in the future.\n"
     ]
    },
    {
     "name": "stdout",
     "output_type": "stream",
     "text": [
      "Converting data from wide to long...\n",
      "Simulating Choices...\n"
     ]
    },
    {
     "name": "stderr",
     "output_type": "stream",
     "text": [
      "/Users/timsb/miniconda3/envs/causal2020/lib/python3.7/site-packages/pylogit/choice_tools.py:703: FutureWarning: arrays to stack must be passed as a \"sequence\" type such as list or tuple. Support for non-sequence iterables such as generators is deprecated as of NumPy 1.16 and will raise an error in the future.\n",
      "\n",
      "Simulating Choices:   0%|          | 0/3875 [00:00<?, ?it/s]\u001b[A\n",
      "Simulating Choices: 100%|██████████| 3875/3875 [00:00<00:00, 28431.61it/s]\u001b[A\n",
      "/Users/timsb/miniconda3/envs/causal2020/lib/python3.7/site-packages/pylogit/choice_tools.py:703: FutureWarning: arrays to stack must be passed as a \"sequence\" type such as list or tuple. Support for non-sequence iterables such as generators is deprecated as of NumPy 1.16 and will raise an error in the future.\n"
     ]
    },
    {
     "name": "stdout",
     "output_type": "stream",
     "text": [
      "Estimating the choice model...\n",
      "Estimating Causal Effects...\n",
      "Simulation number 134 is complete!\n",
      "==========================================\n",
      "==========================================\n",
      "Simulation number 135 of 200 is in progress...\n",
      "Simulation size is 3714\n",
      "------------------------------------------\n",
      "Simulating data...\n",
      "Simulating Availability...\n"
     ]
    },
    {
     "name": "stderr",
     "output_type": "stream",
     "text": [
      "/Users/timsb/miniconda3/envs/causal2020/lib/python3.7/site-packages/pylogit/choice_tools.py:703: FutureWarning: arrays to stack must be passed as a \"sequence\" type such as list or tuple. Support for non-sequence iterables such as generators is deprecated as of NumPy 1.16 and will raise an error in the future.\n",
      "/Users/timsb/miniconda3/envs/causal2020/lib/python3.7/site-packages/pylogit/choice_tools.py:703: FutureWarning: arrays to stack must be passed as a \"sequence\" type such as list or tuple. Support for non-sequence iterables such as generators is deprecated as of NumPy 1.16 and will raise an error in the future.\n",
      "Exception ignored in: <function tqdm.__del__ at 0x7fe05909bcb0>\n",
      "Traceback (most recent call last):\n",
      "  File \"/Users/timsb/miniconda3/envs/causal2020/lib/python3.7/site-packages/tqdm/std.py\", line 1124, in __del__\n",
      "    self.close()\n",
      "  File \"/Users/timsb/miniconda3/envs/causal2020/lib/python3.7/site-packages/tqdm/notebook.py\", line 271, in close\n",
      "    self.sp(bar_style='danger')\n",
      "AttributeError: 'tqdm_notebook' object has no attribute 'sp'\n",
      "/Users/timsb/miniconda3/envs/causal2020/lib/python3.7/site-packages/pylogit/choice_tools.py:703: FutureWarning: arrays to stack must be passed as a \"sequence\" type such as list or tuple. Support for non-sequence iterables such as generators is deprecated as of NumPy 1.16 and will raise an error in the future.\n",
      "/Users/timsb/miniconda3/envs/causal2020/lib/python3.7/site-packages/pylogit/choice_tools.py:703: FutureWarning: arrays to stack must be passed as a \"sequence\" type such as list or tuple. Support for non-sequence iterables such as generators is deprecated as of NumPy 1.16 and will raise an error in the future.\n"
     ]
    },
    {
     "name": "stdout",
     "output_type": "stream",
     "text": [
      "Converting data from wide to long...\n",
      "Simulating Choices...\n"
     ]
    },
    {
     "name": "stderr",
     "output_type": "stream",
     "text": [
      "/Users/timsb/miniconda3/envs/causal2020/lib/python3.7/site-packages/pylogit/choice_tools.py:703: FutureWarning: arrays to stack must be passed as a \"sequence\" type such as list or tuple. Support for non-sequence iterables such as generators is deprecated as of NumPy 1.16 and will raise an error in the future.\n",
      "\n",
      "Simulating Choices:   0%|          | 0/3714 [00:00<?, ?it/s]\u001b[A\n",
      "Simulating Choices: 100%|██████████| 3714/3714 [00:00<00:00, 28226.20it/s]\u001b[A\n",
      "/Users/timsb/miniconda3/envs/causal2020/lib/python3.7/site-packages/pylogit/choice_tools.py:703: FutureWarning: arrays to stack must be passed as a \"sequence\" type such as list or tuple. Support for non-sequence iterables such as generators is deprecated as of NumPy 1.16 and will raise an error in the future.\n"
     ]
    },
    {
     "name": "stdout",
     "output_type": "stream",
     "text": [
      "Estimating the choice model...\n",
      "Estimating Causal Effects...\n",
      "Simulation number 135 is complete!\n",
      "==========================================\n",
      "==========================================\n",
      "Simulation number 136 of 200 is in progress...\n",
      "Simulation size is 3041\n",
      "------------------------------------------\n",
      "Simulating data...\n",
      "Simulating Availability...\n"
     ]
    },
    {
     "name": "stderr",
     "output_type": "stream",
     "text": [
      "/Users/timsb/miniconda3/envs/causal2020/lib/python3.7/site-packages/pylogit/choice_tools.py:703: FutureWarning: arrays to stack must be passed as a \"sequence\" type such as list or tuple. Support for non-sequence iterables such as generators is deprecated as of NumPy 1.16 and will raise an error in the future.\n",
      "/Users/timsb/miniconda3/envs/causal2020/lib/python3.7/site-packages/pylogit/choice_tools.py:703: FutureWarning: arrays to stack must be passed as a \"sequence\" type such as list or tuple. Support for non-sequence iterables such as generators is deprecated as of NumPy 1.16 and will raise an error in the future.\n",
      "Exception ignored in: <function tqdm.__del__ at 0x7fe05909bcb0>\n",
      "Traceback (most recent call last):\n",
      "  File \"/Users/timsb/miniconda3/envs/causal2020/lib/python3.7/site-packages/tqdm/std.py\", line 1124, in __del__\n",
      "    self.close()\n",
      "  File \"/Users/timsb/miniconda3/envs/causal2020/lib/python3.7/site-packages/tqdm/notebook.py\", line 271, in close\n",
      "    self.sp(bar_style='danger')\n",
      "AttributeError: 'tqdm_notebook' object has no attribute 'sp'\n",
      "/Users/timsb/miniconda3/envs/causal2020/lib/python3.7/site-packages/pylogit/choice_tools.py:703: FutureWarning: arrays to stack must be passed as a \"sequence\" type such as list or tuple. Support for non-sequence iterables such as generators is deprecated as of NumPy 1.16 and will raise an error in the future.\n",
      "/Users/timsb/miniconda3/envs/causal2020/lib/python3.7/site-packages/pylogit/choice_tools.py:703: FutureWarning: arrays to stack must be passed as a \"sequence\" type such as list or tuple. Support for non-sequence iterables such as generators is deprecated as of NumPy 1.16 and will raise an error in the future.\n",
      "/Users/timsb/miniconda3/envs/causal2020/lib/python3.7/site-packages/pylogit/choice_tools.py:703: FutureWarning: arrays to stack must be passed as a \"sequence\" type such as list or tuple. Support for non-sequence iterables such as generators is deprecated as of NumPy 1.16 and will raise an error in the future.\n",
      "\n",
      "Simulating Choices:   0%|          | 0/3041 [00:00<?, ?it/s]\u001b[A"
     ]
    },
    {
     "name": "stdout",
     "output_type": "stream",
     "text": [
      "Converting data from wide to long...\n",
      "Simulating Choices...\n"
     ]
    },
    {
     "name": "stderr",
     "output_type": "stream",
     "text": [
      "Simulating Choices: 100%|██████████| 3041/3041 [00:00<00:00, 31028.33it/s]\n",
      "/Users/timsb/miniconda3/envs/causal2020/lib/python3.7/site-packages/pylogit/choice_tools.py:703: FutureWarning: arrays to stack must be passed as a \"sequence\" type such as list or tuple. Support for non-sequence iterables such as generators is deprecated as of NumPy 1.16 and will raise an error in the future.\n"
     ]
    },
    {
     "name": "stdout",
     "output_type": "stream",
     "text": [
      "Estimating the choice model...\n",
      "Estimating Causal Effects...\n",
      "Simulation number 136 is complete!\n",
      "==========================================\n",
      "==========================================\n",
      "Simulation number 137 of 200 is in progress...\n",
      "Simulation size is 3248\n",
      "------------------------------------------\n",
      "Simulating data...\n",
      "Simulating Availability...\n"
     ]
    },
    {
     "name": "stderr",
     "output_type": "stream",
     "text": [
      "/Users/timsb/miniconda3/envs/causal2020/lib/python3.7/site-packages/pylogit/choice_tools.py:703: FutureWarning: arrays to stack must be passed as a \"sequence\" type such as list or tuple. Support for non-sequence iterables such as generators is deprecated as of NumPy 1.16 and will raise an error in the future.\n",
      "/Users/timsb/miniconda3/envs/causal2020/lib/python3.7/site-packages/pylogit/choice_tools.py:703: FutureWarning: arrays to stack must be passed as a \"sequence\" type such as list or tuple. Support for non-sequence iterables such as generators is deprecated as of NumPy 1.16 and will raise an error in the future.\n",
      "Exception ignored in: <function tqdm.__del__ at 0x7fe05909bcb0>\n",
      "Traceback (most recent call last):\n",
      "  File \"/Users/timsb/miniconda3/envs/causal2020/lib/python3.7/site-packages/tqdm/std.py\", line 1124, in __del__\n",
      "    self.close()\n",
      "  File \"/Users/timsb/miniconda3/envs/causal2020/lib/python3.7/site-packages/tqdm/notebook.py\", line 271, in close\n",
      "    self.sp(bar_style='danger')\n",
      "AttributeError: 'tqdm_notebook' object has no attribute 'sp'\n",
      "/Users/timsb/miniconda3/envs/causal2020/lib/python3.7/site-packages/pylogit/choice_tools.py:703: FutureWarning: arrays to stack must be passed as a \"sequence\" type such as list or tuple. Support for non-sequence iterables such as generators is deprecated as of NumPy 1.16 and will raise an error in the future.\n",
      "/Users/timsb/miniconda3/envs/causal2020/lib/python3.7/site-packages/pylogit/choice_tools.py:703: FutureWarning: arrays to stack must be passed as a \"sequence\" type such as list or tuple. Support for non-sequence iterables such as generators is deprecated as of NumPy 1.16 and will raise an error in the future.\n",
      "/Users/timsb/miniconda3/envs/causal2020/lib/python3.7/site-packages/pylogit/choice_tools.py:703: FutureWarning: arrays to stack must be passed as a \"sequence\" type such as list or tuple. Support for non-sequence iterables such as generators is deprecated as of NumPy 1.16 and will raise an error in the future.\n",
      "\n",
      "Simulating Choices:   0%|          | 0/3248 [00:00<?, ?it/s]\u001b[A"
     ]
    },
    {
     "name": "stdout",
     "output_type": "stream",
     "text": [
      "Converting data from wide to long...\n",
      "Simulating Choices...\n"
     ]
    },
    {
     "name": "stderr",
     "output_type": "stream",
     "text": [
      "Simulating Choices: 100%|██████████| 3248/3248 [00:00<00:00, 34986.01it/s]\n",
      "/Users/timsb/miniconda3/envs/causal2020/lib/python3.7/site-packages/pylogit/choice_tools.py:703: FutureWarning: arrays to stack must be passed as a \"sequence\" type such as list or tuple. Support for non-sequence iterables such as generators is deprecated as of NumPy 1.16 and will raise an error in the future.\n"
     ]
    },
    {
     "name": "stdout",
     "output_type": "stream",
     "text": [
      "Estimating the choice model...\n",
      "Estimating Causal Effects...\n",
      "Simulation number 137 is complete!\n",
      "==========================================\n",
      "==========================================\n",
      "Simulation number 138 of 200 is in progress...\n",
      "Simulation size is 3056\n",
      "------------------------------------------\n",
      "Simulating data...\n",
      "Simulating Availability...\n"
     ]
    },
    {
     "name": "stderr",
     "output_type": "stream",
     "text": [
      "/Users/timsb/miniconda3/envs/causal2020/lib/python3.7/site-packages/pylogit/choice_tools.py:703: FutureWarning: arrays to stack must be passed as a \"sequence\" type such as list or tuple. Support for non-sequence iterables such as generators is deprecated as of NumPy 1.16 and will raise an error in the future.\n",
      "/Users/timsb/miniconda3/envs/causal2020/lib/python3.7/site-packages/pylogit/choice_tools.py:703: FutureWarning: arrays to stack must be passed as a \"sequence\" type such as list or tuple. Support for non-sequence iterables such as generators is deprecated as of NumPy 1.16 and will raise an error in the future.\n",
      "Exception ignored in: <function tqdm.__del__ at 0x7fe05909bcb0>\n",
      "Traceback (most recent call last):\n",
      "  File \"/Users/timsb/miniconda3/envs/causal2020/lib/python3.7/site-packages/tqdm/std.py\", line 1124, in __del__\n",
      "    self.close()\n",
      "  File \"/Users/timsb/miniconda3/envs/causal2020/lib/python3.7/site-packages/tqdm/notebook.py\", line 271, in close\n",
      "    self.sp(bar_style='danger')\n",
      "AttributeError: 'tqdm_notebook' object has no attribute 'sp'\n",
      "/Users/timsb/miniconda3/envs/causal2020/lib/python3.7/site-packages/pylogit/choice_tools.py:703: FutureWarning: arrays to stack must be passed as a \"sequence\" type such as list or tuple. Support for non-sequence iterables such as generators is deprecated as of NumPy 1.16 and will raise an error in the future.\n",
      "/Users/timsb/miniconda3/envs/causal2020/lib/python3.7/site-packages/pylogit/choice_tools.py:703: FutureWarning: arrays to stack must be passed as a \"sequence\" type such as list or tuple. Support for non-sequence iterables such as generators is deprecated as of NumPy 1.16 and will raise an error in the future.\n",
      "/Users/timsb/miniconda3/envs/causal2020/lib/python3.7/site-packages/pylogit/choice_tools.py:703: FutureWarning: arrays to stack must be passed as a \"sequence\" type such as list or tuple. Support for non-sequence iterables such as generators is deprecated as of NumPy 1.16 and will raise an error in the future.\n",
      "\n",
      "Simulating Choices:   0%|          | 0/3056 [00:00<?, ?it/s]\u001b[A"
     ]
    },
    {
     "name": "stdout",
     "output_type": "stream",
     "text": [
      "Converting data from wide to long...\n",
      "Simulating Choices...\n"
     ]
    },
    {
     "name": "stderr",
     "output_type": "stream",
     "text": [
      "Simulating Choices: 100%|██████████| 3056/3056 [00:00<00:00, 34499.00it/s]\n",
      "/Users/timsb/miniconda3/envs/causal2020/lib/python3.7/site-packages/pylogit/choice_tools.py:703: FutureWarning: arrays to stack must be passed as a \"sequence\" type such as list or tuple. Support for non-sequence iterables such as generators is deprecated as of NumPy 1.16 and will raise an error in the future.\n",
      "/Users/timsb/miniconda3/envs/causal2020/lib/python3.7/site-packages/pylogit/choice_tools.py:703: FutureWarning: arrays to stack must be passed as a \"sequence\" type such as list or tuple. Support for non-sequence iterables such as generators is deprecated as of NumPy 1.16 and will raise an error in the future.\n"
     ]
    },
    {
     "name": "stdout",
     "output_type": "stream",
     "text": [
      "Estimating the choice model...\n",
      "Estimating Causal Effects...\n"
     ]
    },
    {
     "name": "stderr",
     "output_type": "stream",
     "text": [
      "/Users/timsb/miniconda3/envs/causal2020/lib/python3.7/site-packages/pylogit/choice_tools.py:703: FutureWarning: arrays to stack must be passed as a \"sequence\" type such as list or tuple. Support for non-sequence iterables such as generators is deprecated as of NumPy 1.16 and will raise an error in the future.\n",
      "Exception ignored in: <function tqdm.__del__ at 0x7fe05909bcb0>\n",
      "Traceback (most recent call last):\n",
      "  File \"/Users/timsb/miniconda3/envs/causal2020/lib/python3.7/site-packages/tqdm/std.py\", line 1124, in __del__\n",
      "    self.close()\n",
      "  File \"/Users/timsb/miniconda3/envs/causal2020/lib/python3.7/site-packages/tqdm/notebook.py\", line 271, in close\n",
      "    self.sp(bar_style='danger')\n",
      "AttributeError: 'tqdm_notebook' object has no attribute 'sp'\n",
      "/Users/timsb/miniconda3/envs/causal2020/lib/python3.7/site-packages/pylogit/choice_tools.py:703: FutureWarning: arrays to stack must be passed as a \"sequence\" type such as list or tuple. Support for non-sequence iterables such as generators is deprecated as of NumPy 1.16 and will raise an error in the future.\n",
      "/Users/timsb/miniconda3/envs/causal2020/lib/python3.7/site-packages/pylogit/choice_tools.py:703: FutureWarning: arrays to stack must be passed as a \"sequence\" type such as list or tuple. Support for non-sequence iterables such as generators is deprecated as of NumPy 1.16 and will raise an error in the future.\n"
     ]
    },
    {
     "name": "stdout",
     "output_type": "stream",
     "text": [
      "Simulation number 138 is complete!\n",
      "==========================================\n",
      "==========================================\n",
      "Simulation number 139 of 200 is in progress...\n",
      "Simulation size is 3663\n",
      "------------------------------------------\n",
      "Simulating data...\n",
      "Simulating Availability...\n"
     ]
    },
    {
     "name": "stderr",
     "output_type": "stream",
     "text": [
      "/Users/timsb/miniconda3/envs/causal2020/lib/python3.7/site-packages/pylogit/choice_tools.py:703: FutureWarning: arrays to stack must be passed as a \"sequence\" type such as list or tuple. Support for non-sequence iterables such as generators is deprecated as of NumPy 1.16 and will raise an error in the future.\n",
      "\n",
      "Simulating Choices:   0%|          | 0/3663 [00:00<?, ?it/s]\u001b[A"
     ]
    },
    {
     "name": "stdout",
     "output_type": "stream",
     "text": [
      "Converting data from wide to long...\n",
      "Simulating Choices...\n"
     ]
    },
    {
     "name": "stderr",
     "output_type": "stream",
     "text": [
      "\n",
      "Simulating Choices: 100%|██████████| 3663/3663 [00:00<00:00, 32017.52it/s]\u001b[A\n",
      "/Users/timsb/miniconda3/envs/causal2020/lib/python3.7/site-packages/pylogit/choice_tools.py:703: FutureWarning: arrays to stack must be passed as a \"sequence\" type such as list or tuple. Support for non-sequence iterables such as generators is deprecated as of NumPy 1.16 and will raise an error in the future.\n"
     ]
    },
    {
     "name": "stdout",
     "output_type": "stream",
     "text": [
      "Estimating the choice model...\n",
      "Estimating Causal Effects...\n",
      "Simulation number 139 is complete!\n",
      "==========================================\n",
      "==========================================\n",
      "Simulation number 140 of 200 is in progress...\n",
      "Simulation size is 3882\n",
      "------------------------------------------\n",
      "Simulating data...\n",
      "Simulating Availability...\n"
     ]
    },
    {
     "name": "stderr",
     "output_type": "stream",
     "text": [
      "/Users/timsb/miniconda3/envs/causal2020/lib/python3.7/site-packages/pylogit/choice_tools.py:703: FutureWarning: arrays to stack must be passed as a \"sequence\" type such as list or tuple. Support for non-sequence iterables such as generators is deprecated as of NumPy 1.16 and will raise an error in the future.\n",
      "/Users/timsb/miniconda3/envs/causal2020/lib/python3.7/site-packages/pylogit/choice_tools.py:703: FutureWarning: arrays to stack must be passed as a \"sequence\" type such as list or tuple. Support for non-sequence iterables such as generators is deprecated as of NumPy 1.16 and will raise an error in the future.\n",
      "Exception ignored in: <function tqdm.__del__ at 0x7fe05909bcb0>\n",
      "Traceback (most recent call last):\n",
      "  File \"/Users/timsb/miniconda3/envs/causal2020/lib/python3.7/site-packages/tqdm/std.py\", line 1124, in __del__\n",
      "    self.close()\n",
      "  File \"/Users/timsb/miniconda3/envs/causal2020/lib/python3.7/site-packages/tqdm/notebook.py\", line 271, in close\n",
      "    self.sp(bar_style='danger')\n",
      "AttributeError: 'tqdm_notebook' object has no attribute 'sp'\n",
      "/Users/timsb/miniconda3/envs/causal2020/lib/python3.7/site-packages/pylogit/choice_tools.py:703: FutureWarning: arrays to stack must be passed as a \"sequence\" type such as list or tuple. Support for non-sequence iterables such as generators is deprecated as of NumPy 1.16 and will raise an error in the future.\n",
      "/Users/timsb/miniconda3/envs/causal2020/lib/python3.7/site-packages/pylogit/choice_tools.py:703: FutureWarning: arrays to stack must be passed as a \"sequence\" type such as list or tuple. Support for non-sequence iterables such as generators is deprecated as of NumPy 1.16 and will raise an error in the future.\n",
      "/Users/timsb/miniconda3/envs/causal2020/lib/python3.7/site-packages/pylogit/choice_tools.py:703: FutureWarning: arrays to stack must be passed as a \"sequence\" type such as list or tuple. Support for non-sequence iterables such as generators is deprecated as of NumPy 1.16 and will raise an error in the future.\n",
      "\n",
      "Simulating Choices:   0%|          | 0/3882 [00:00<?, ?it/s]\u001b[A"
     ]
    },
    {
     "name": "stdout",
     "output_type": "stream",
     "text": [
      "Converting data from wide to long...\n",
      "Simulating Choices...\n"
     ]
    },
    {
     "name": "stderr",
     "output_type": "stream",
     "text": [
      "\n",
      "Simulating Choices: 100%|██████████| 3882/3882 [00:00<00:00, 31867.44it/s]\u001b[A\n",
      "/Users/timsb/miniconda3/envs/causal2020/lib/python3.7/site-packages/pylogit/choice_tools.py:703: FutureWarning: arrays to stack must be passed as a \"sequence\" type such as list or tuple. Support for non-sequence iterables such as generators is deprecated as of NumPy 1.16 and will raise an error in the future.\n"
     ]
    },
    {
     "name": "stdout",
     "output_type": "stream",
     "text": [
      "Estimating the choice model...\n",
      "Estimating Causal Effects...\n",
      "Simulation number 140 is complete!\n",
      "==========================================\n",
      "==========================================\n",
      "Simulation number 141 of 200 is in progress...\n",
      "Simulation size is 3864\n",
      "------------------------------------------\n",
      "Simulating data...\n",
      "Simulating Availability...\n"
     ]
    },
    {
     "name": "stderr",
     "output_type": "stream",
     "text": [
      "/Users/timsb/miniconda3/envs/causal2020/lib/python3.7/site-packages/pylogit/choice_tools.py:703: FutureWarning: arrays to stack must be passed as a \"sequence\" type such as list or tuple. Support for non-sequence iterables such as generators is deprecated as of NumPy 1.16 and will raise an error in the future.\n",
      "/Users/timsb/miniconda3/envs/causal2020/lib/python3.7/site-packages/pylogit/choice_tools.py:703: FutureWarning: arrays to stack must be passed as a \"sequence\" type such as list or tuple. Support for non-sequence iterables such as generators is deprecated as of NumPy 1.16 and will raise an error in the future.\n",
      "Exception ignored in: <function tqdm.__del__ at 0x7fe05909bcb0>\n",
      "Traceback (most recent call last):\n",
      "  File \"/Users/timsb/miniconda3/envs/causal2020/lib/python3.7/site-packages/tqdm/std.py\", line 1124, in __del__\n",
      "    self.close()\n",
      "  File \"/Users/timsb/miniconda3/envs/causal2020/lib/python3.7/site-packages/tqdm/notebook.py\", line 271, in close\n",
      "    self.sp(bar_style='danger')\n",
      "AttributeError: 'tqdm_notebook' object has no attribute 'sp'\n",
      "/Users/timsb/miniconda3/envs/causal2020/lib/python3.7/site-packages/pylogit/choice_tools.py:703: FutureWarning: arrays to stack must be passed as a \"sequence\" type such as list or tuple. Support for non-sequence iterables such as generators is deprecated as of NumPy 1.16 and will raise an error in the future.\n",
      "/Users/timsb/miniconda3/envs/causal2020/lib/python3.7/site-packages/pylogit/choice_tools.py:703: FutureWarning: arrays to stack must be passed as a \"sequence\" type such as list or tuple. Support for non-sequence iterables such as generators is deprecated as of NumPy 1.16 and will raise an error in the future.\n",
      "/Users/timsb/miniconda3/envs/causal2020/lib/python3.7/site-packages/pylogit/choice_tools.py:703: FutureWarning: arrays to stack must be passed as a \"sequence\" type such as list or tuple. Support for non-sequence iterables such as generators is deprecated as of NumPy 1.16 and will raise an error in the future.\n",
      "\n",
      "Simulating Choices:   0%|          | 0/3864 [00:00<?, ?it/s]\u001b[A"
     ]
    },
    {
     "name": "stdout",
     "output_type": "stream",
     "text": [
      "Converting data from wide to long...\n",
      "Simulating Choices...\n"
     ]
    },
    {
     "name": "stderr",
     "output_type": "stream",
     "text": [
      "\n",
      "Simulating Choices: 100%|██████████| 3864/3864 [00:00<00:00, 37212.93it/s]\u001b[A\n",
      "/Users/timsb/miniconda3/envs/causal2020/lib/python3.7/site-packages/pylogit/choice_tools.py:703: FutureWarning: arrays to stack must be passed as a \"sequence\" type such as list or tuple. Support for non-sequence iterables such as generators is deprecated as of NumPy 1.16 and will raise an error in the future.\n"
     ]
    },
    {
     "name": "stdout",
     "output_type": "stream",
     "text": [
      "Estimating the choice model...\n",
      "Estimating Causal Effects...\n",
      "Simulation number 141 is complete!\n",
      "==========================================\n",
      "==========================================\n",
      "Simulation number 142 of 200 is in progress...\n",
      "Simulation size is 3617\n",
      "------------------------------------------\n",
      "Simulating data...\n",
      "Simulating Availability...\n"
     ]
    },
    {
     "name": "stderr",
     "output_type": "stream",
     "text": [
      "/Users/timsb/miniconda3/envs/causal2020/lib/python3.7/site-packages/pylogit/choice_tools.py:703: FutureWarning: arrays to stack must be passed as a \"sequence\" type such as list or tuple. Support for non-sequence iterables such as generators is deprecated as of NumPy 1.16 and will raise an error in the future.\n",
      "/Users/timsb/miniconda3/envs/causal2020/lib/python3.7/site-packages/pylogit/choice_tools.py:703: FutureWarning: arrays to stack must be passed as a \"sequence\" type such as list or tuple. Support for non-sequence iterables such as generators is deprecated as of NumPy 1.16 and will raise an error in the future.\n",
      "Exception ignored in: <function tqdm.__del__ at 0x7fe05909bcb0>\n",
      "Traceback (most recent call last):\n",
      "  File \"/Users/timsb/miniconda3/envs/causal2020/lib/python3.7/site-packages/tqdm/std.py\", line 1124, in __del__\n",
      "    self.close()\n",
      "  File \"/Users/timsb/miniconda3/envs/causal2020/lib/python3.7/site-packages/tqdm/notebook.py\", line 271, in close\n",
      "    self.sp(bar_style='danger')\n",
      "AttributeError: 'tqdm_notebook' object has no attribute 'sp'\n",
      "/Users/timsb/miniconda3/envs/causal2020/lib/python3.7/site-packages/pylogit/choice_tools.py:703: FutureWarning: arrays to stack must be passed as a \"sequence\" type such as list or tuple. Support for non-sequence iterables such as generators is deprecated as of NumPy 1.16 and will raise an error in the future.\n",
      "/Users/timsb/miniconda3/envs/causal2020/lib/python3.7/site-packages/pylogit/choice_tools.py:703: FutureWarning: arrays to stack must be passed as a \"sequence\" type such as list or tuple. Support for non-sequence iterables such as generators is deprecated as of NumPy 1.16 and will raise an error in the future.\n",
      "/Users/timsb/miniconda3/envs/causal2020/lib/python3.7/site-packages/pylogit/choice_tools.py:703: FutureWarning: arrays to stack must be passed as a \"sequence\" type such as list or tuple. Support for non-sequence iterables such as generators is deprecated as of NumPy 1.16 and will raise an error in the future.\n",
      "\n",
      "Simulating Choices:   0%|          | 0/3617 [00:00<?, ?it/s]\u001b[A"
     ]
    },
    {
     "name": "stdout",
     "output_type": "stream",
     "text": [
      "Converting data from wide to long...\n",
      "Simulating Choices...\n"
     ]
    },
    {
     "name": "stderr",
     "output_type": "stream",
     "text": [
      "Simulating Choices: 100%|██████████| 3617/3617 [00:00<00:00, 36138.16it/s]\n",
      "/Users/timsb/miniconda3/envs/causal2020/lib/python3.7/site-packages/pylogit/choice_tools.py:703: FutureWarning: arrays to stack must be passed as a \"sequence\" type such as list or tuple. Support for non-sequence iterables such as generators is deprecated as of NumPy 1.16 and will raise an error in the future.\n",
      "Exception ignored in: <function tqdm.__del__ at 0x7fe05909bcb0>\n",
      "Traceback (most recent call last):\n",
      "  File \"/Users/timsb/miniconda3/envs/causal2020/lib/python3.7/site-packages/tqdm/std.py\", line 1124, in __del__\n",
      "    self.close()\n",
      "  File \"/Users/timsb/miniconda3/envs/causal2020/lib/python3.7/site-packages/tqdm/notebook.py\", line 271, in close\n",
      "    self.sp(bar_style='danger')\n",
      "AttributeError: 'tqdm_notebook' object has no attribute 'sp'\n"
     ]
    },
    {
     "name": "stdout",
     "output_type": "stream",
     "text": [
      "Estimating the choice model...\n"
     ]
    },
    {
     "name": "stderr",
     "output_type": "stream",
     "text": [
      "/Users/timsb/miniconda3/envs/causal2020/lib/python3.7/site-packages/pylogit/choice_tools.py:703: FutureWarning: arrays to stack must be passed as a \"sequence\" type such as list or tuple. Support for non-sequence iterables such as generators is deprecated as of NumPy 1.16 and will raise an error in the future.\n",
      "/Users/timsb/miniconda3/envs/causal2020/lib/python3.7/site-packages/pylogit/choice_tools.py:703: FutureWarning: arrays to stack must be passed as a \"sequence\" type such as list or tuple. Support for non-sequence iterables such as generators is deprecated as of NumPy 1.16 and will raise an error in the future.\n",
      "/Users/timsb/miniconda3/envs/causal2020/lib/python3.7/site-packages/pylogit/choice_tools.py:703: FutureWarning: arrays to stack must be passed as a \"sequence\" type such as list or tuple. Support for non-sequence iterables such as generators is deprecated as of NumPy 1.16 and will raise an error in the future.\n"
     ]
    },
    {
     "name": "stdout",
     "output_type": "stream",
     "text": [
      "Estimating Causal Effects...\n",
      "Simulation number 142 is complete!\n",
      "==========================================\n",
      "==========================================\n",
      "Simulation number 143 of 200 is in progress...\n",
      "Simulation size is 3033\n",
      "------------------------------------------\n",
      "Simulating data...\n",
      "Simulating Availability...\n"
     ]
    },
    {
     "name": "stderr",
     "output_type": "stream",
     "text": [
      "/Users/timsb/miniconda3/envs/causal2020/lib/python3.7/site-packages/pylogit/choice_tools.py:703: FutureWarning: arrays to stack must be passed as a \"sequence\" type such as list or tuple. Support for non-sequence iterables such as generators is deprecated as of NumPy 1.16 and will raise an error in the future.\n",
      "/Users/timsb/miniconda3/envs/causal2020/lib/python3.7/site-packages/pylogit/choice_tools.py:703: FutureWarning: arrays to stack must be passed as a \"sequence\" type such as list or tuple. Support for non-sequence iterables such as generators is deprecated as of NumPy 1.16 and will raise an error in the future.\n",
      "\n",
      "Simulating Choices:   0%|          | 0/3033 [00:00<?, ?it/s]\u001b[A"
     ]
    },
    {
     "name": "stdout",
     "output_type": "stream",
     "text": [
      "Converting data from wide to long...\n",
      "Simulating Choices...\n"
     ]
    },
    {
     "name": "stderr",
     "output_type": "stream",
     "text": [
      "Simulating Choices: 100%|██████████| 3033/3033 [00:00<00:00, 33360.14it/s]\n",
      "/Users/timsb/miniconda3/envs/causal2020/lib/python3.7/site-packages/pylogit/choice_tools.py:703: FutureWarning: arrays to stack must be passed as a \"sequence\" type such as list or tuple. Support for non-sequence iterables such as generators is deprecated as of NumPy 1.16 and will raise an error in the future.\n",
      "/Users/timsb/miniconda3/envs/causal2020/lib/python3.7/site-packages/pylogit/choice_tools.py:703: FutureWarning: arrays to stack must be passed as a \"sequence\" type such as list or tuple. Support for non-sequence iterables such as generators is deprecated as of NumPy 1.16 and will raise an error in the future.\n"
     ]
    },
    {
     "name": "stdout",
     "output_type": "stream",
     "text": [
      "Estimating the choice model...\n",
      "Estimating Causal Effects...\n"
     ]
    },
    {
     "name": "stderr",
     "output_type": "stream",
     "text": [
      "/Users/timsb/miniconda3/envs/causal2020/lib/python3.7/site-packages/pylogit/choice_tools.py:703: FutureWarning: arrays to stack must be passed as a \"sequence\" type such as list or tuple. Support for non-sequence iterables such as generators is deprecated as of NumPy 1.16 and will raise an error in the future.\n",
      "Exception ignored in: <function tqdm.__del__ at 0x7fe05909bcb0>\n",
      "Traceback (most recent call last):\n",
      "  File \"/Users/timsb/miniconda3/envs/causal2020/lib/python3.7/site-packages/tqdm/std.py\", line 1124, in __del__\n",
      "    self.close()\n",
      "  File \"/Users/timsb/miniconda3/envs/causal2020/lib/python3.7/site-packages/tqdm/notebook.py\", line 271, in close\n",
      "    self.sp(bar_style='danger')\n",
      "AttributeError: 'tqdm_notebook' object has no attribute 'sp'\n",
      "/Users/timsb/miniconda3/envs/causal2020/lib/python3.7/site-packages/pylogit/choice_tools.py:703: FutureWarning: arrays to stack must be passed as a \"sequence\" type such as list or tuple. Support for non-sequence iterables such as generators is deprecated as of NumPy 1.16 and will raise an error in the future.\n",
      "/Users/timsb/miniconda3/envs/causal2020/lib/python3.7/site-packages/pylogit/choice_tools.py:703: FutureWarning: arrays to stack must be passed as a \"sequence\" type such as list or tuple. Support for non-sequence iterables such as generators is deprecated as of NumPy 1.16 and will raise an error in the future.\n"
     ]
    },
    {
     "name": "stdout",
     "output_type": "stream",
     "text": [
      "Simulation number 143 is complete!\n",
      "==========================================\n",
      "==========================================\n",
      "Simulation number 144 of 200 is in progress...\n",
      "Simulation size is 3468\n",
      "------------------------------------------\n",
      "Simulating data...\n",
      "Simulating Availability...\n"
     ]
    },
    {
     "name": "stderr",
     "output_type": "stream",
     "text": [
      "/Users/timsb/miniconda3/envs/causal2020/lib/python3.7/site-packages/pylogit/choice_tools.py:703: FutureWarning: arrays to stack must be passed as a \"sequence\" type such as list or tuple. Support for non-sequence iterables such as generators is deprecated as of NumPy 1.16 and will raise an error in the future.\n",
      "\n",
      "Simulating Choices:   0%|          | 0/3468 [00:00<?, ?it/s]\u001b[A"
     ]
    },
    {
     "name": "stdout",
     "output_type": "stream",
     "text": [
      "Converting data from wide to long...\n",
      "Simulating Choices...\n"
     ]
    },
    {
     "name": "stderr",
     "output_type": "stream",
     "text": [
      "Simulating Choices: 100%|██████████| 3468/3468 [00:00<00:00, 35529.15it/s]\n",
      "/Users/timsb/miniconda3/envs/causal2020/lib/python3.7/site-packages/pylogit/choice_tools.py:703: FutureWarning: arrays to stack must be passed as a \"sequence\" type such as list or tuple. Support for non-sequence iterables such as generators is deprecated as of NumPy 1.16 and will raise an error in the future.\n"
     ]
    },
    {
     "name": "stdout",
     "output_type": "stream",
     "text": [
      "Estimating the choice model...\n",
      "Estimating Causal Effects...\n",
      "Simulation number 144 is complete!\n",
      "==========================================\n",
      "==========================================\n",
      "Simulation number 145 of 200 is in progress...\n",
      "Simulation size is 3987\n",
      "------------------------------------------\n",
      "Simulating data...\n",
      "Simulating Availability...\n"
     ]
    },
    {
     "name": "stderr",
     "output_type": "stream",
     "text": [
      "/Users/timsb/miniconda3/envs/causal2020/lib/python3.7/site-packages/pylogit/choice_tools.py:703: FutureWarning: arrays to stack must be passed as a \"sequence\" type such as list or tuple. Support for non-sequence iterables such as generators is deprecated as of NumPy 1.16 and will raise an error in the future.\n",
      "/Users/timsb/miniconda3/envs/causal2020/lib/python3.7/site-packages/pylogit/choice_tools.py:703: FutureWarning: arrays to stack must be passed as a \"sequence\" type such as list or tuple. Support for non-sequence iterables such as generators is deprecated as of NumPy 1.16 and will raise an error in the future.\n",
      "Exception ignored in: <function tqdm.__del__ at 0x7fe05909bcb0>\n",
      "Traceback (most recent call last):\n",
      "  File \"/Users/timsb/miniconda3/envs/causal2020/lib/python3.7/site-packages/tqdm/std.py\", line 1124, in __del__\n",
      "    self.close()\n",
      "  File \"/Users/timsb/miniconda3/envs/causal2020/lib/python3.7/site-packages/tqdm/notebook.py\", line 271, in close\n",
      "    self.sp(bar_style='danger')\n",
      "AttributeError: 'tqdm_notebook' object has no attribute 'sp'\n",
      "/Users/timsb/miniconda3/envs/causal2020/lib/python3.7/site-packages/pylogit/choice_tools.py:703: FutureWarning: arrays to stack must be passed as a \"sequence\" type such as list or tuple. Support for non-sequence iterables such as generators is deprecated as of NumPy 1.16 and will raise an error in the future.\n",
      "/Users/timsb/miniconda3/envs/causal2020/lib/python3.7/site-packages/pylogit/choice_tools.py:703: FutureWarning: arrays to stack must be passed as a \"sequence\" type such as list or tuple. Support for non-sequence iterables such as generators is deprecated as of NumPy 1.16 and will raise an error in the future.\n",
      "/Users/timsb/miniconda3/envs/causal2020/lib/python3.7/site-packages/pylogit/choice_tools.py:703: FutureWarning: arrays to stack must be passed as a \"sequence\" type such as list or tuple. Support for non-sequence iterables such as generators is deprecated as of NumPy 1.16 and will raise an error in the future.\n",
      "\n",
      "Simulating Choices:   0%|          | 0/3987 [00:00<?, ?it/s]\u001b[A"
     ]
    },
    {
     "name": "stdout",
     "output_type": "stream",
     "text": [
      "Converting data from wide to long...\n",
      "Simulating Choices...\n"
     ]
    },
    {
     "name": "stderr",
     "output_type": "stream",
     "text": [
      "\n",
      "Simulating Choices: 100%|██████████| 3987/3987 [00:00<00:00, 37225.89it/s]\u001b[A\n",
      "/Users/timsb/miniconda3/envs/causal2020/lib/python3.7/site-packages/pylogit/choice_tools.py:703: FutureWarning: arrays to stack must be passed as a \"sequence\" type such as list or tuple. Support for non-sequence iterables such as generators is deprecated as of NumPy 1.16 and will raise an error in the future.\n"
     ]
    },
    {
     "name": "stdout",
     "output_type": "stream",
     "text": [
      "Estimating the choice model...\n",
      "Estimating Causal Effects...\n",
      "Simulation number 145 is complete!\n",
      "==========================================\n",
      "==========================================\n",
      "Simulation number 146 of 200 is in progress...\n",
      "Simulation size is 3391\n",
      "------------------------------------------\n",
      "Simulating data...\n",
      "Simulating Availability...\n"
     ]
    },
    {
     "name": "stderr",
     "output_type": "stream",
     "text": [
      "/Users/timsb/miniconda3/envs/causal2020/lib/python3.7/site-packages/pylogit/choice_tools.py:703: FutureWarning: arrays to stack must be passed as a \"sequence\" type such as list or tuple. Support for non-sequence iterables such as generators is deprecated as of NumPy 1.16 and will raise an error in the future.\n",
      "/Users/timsb/miniconda3/envs/causal2020/lib/python3.7/site-packages/pylogit/choice_tools.py:703: FutureWarning: arrays to stack must be passed as a \"sequence\" type such as list or tuple. Support for non-sequence iterables such as generators is deprecated as of NumPy 1.16 and will raise an error in the future.\n",
      "Exception ignored in: <function tqdm.__del__ at 0x7fe05909bcb0>\n",
      "Traceback (most recent call last):\n",
      "  File \"/Users/timsb/miniconda3/envs/causal2020/lib/python3.7/site-packages/tqdm/std.py\", line 1124, in __del__\n",
      "    self.close()\n",
      "  File \"/Users/timsb/miniconda3/envs/causal2020/lib/python3.7/site-packages/tqdm/notebook.py\", line 271, in close\n",
      "    self.sp(bar_style='danger')\n",
      "AttributeError: 'tqdm_notebook' object has no attribute 'sp'\n",
      "/Users/timsb/miniconda3/envs/causal2020/lib/python3.7/site-packages/pylogit/choice_tools.py:703: FutureWarning: arrays to stack must be passed as a \"sequence\" type such as list or tuple. Support for non-sequence iterables such as generators is deprecated as of NumPy 1.16 and will raise an error in the future.\n",
      "/Users/timsb/miniconda3/envs/causal2020/lib/python3.7/site-packages/pylogit/choice_tools.py:703: FutureWarning: arrays to stack must be passed as a \"sequence\" type such as list or tuple. Support for non-sequence iterables such as generators is deprecated as of NumPy 1.16 and will raise an error in the future.\n",
      "/Users/timsb/miniconda3/envs/causal2020/lib/python3.7/site-packages/pylogit/choice_tools.py:703: FutureWarning: arrays to stack must be passed as a \"sequence\" type such as list or tuple. Support for non-sequence iterables such as generators is deprecated as of NumPy 1.16 and will raise an error in the future.\n",
      "\n",
      "Simulating Choices:   0%|          | 0/3391 [00:00<?, ?it/s]\u001b[A"
     ]
    },
    {
     "name": "stdout",
     "output_type": "stream",
     "text": [
      "Converting data from wide to long...\n",
      "Simulating Choices...\n"
     ]
    },
    {
     "name": "stderr",
     "output_type": "stream",
     "text": [
      "Simulating Choices: 100%|██████████| 3391/3391 [00:00<00:00, 34694.79it/s]\n",
      "/Users/timsb/miniconda3/envs/causal2020/lib/python3.7/site-packages/pylogit/choice_tools.py:703: FutureWarning: arrays to stack must be passed as a \"sequence\" type such as list or tuple. Support for non-sequence iterables such as generators is deprecated as of NumPy 1.16 and will raise an error in the future.\n"
     ]
    },
    {
     "name": "stdout",
     "output_type": "stream",
     "text": [
      "Estimating the choice model...\n",
      "Estimating Causal Effects...\n",
      "Simulation number 146 is complete!\n",
      "==========================================\n",
      "==========================================\n",
      "Simulation number 147 of 200 is in progress...\n",
      "Simulation size is 3895\n",
      "------------------------------------------\n",
      "Simulating data...\n",
      "Simulating Availability...\n"
     ]
    },
    {
     "name": "stderr",
     "output_type": "stream",
     "text": [
      "/Users/timsb/miniconda3/envs/causal2020/lib/python3.7/site-packages/pylogit/choice_tools.py:703: FutureWarning: arrays to stack must be passed as a \"sequence\" type such as list or tuple. Support for non-sequence iterables such as generators is deprecated as of NumPy 1.16 and will raise an error in the future.\n",
      "/Users/timsb/miniconda3/envs/causal2020/lib/python3.7/site-packages/pylogit/choice_tools.py:703: FutureWarning: arrays to stack must be passed as a \"sequence\" type such as list or tuple. Support for non-sequence iterables such as generators is deprecated as of NumPy 1.16 and will raise an error in the future.\n",
      "Exception ignored in: <function tqdm.__del__ at 0x7fe05909bcb0>\n",
      "Traceback (most recent call last):\n",
      "  File \"/Users/timsb/miniconda3/envs/causal2020/lib/python3.7/site-packages/tqdm/std.py\", line 1124, in __del__\n",
      "    self.close()\n",
      "  File \"/Users/timsb/miniconda3/envs/causal2020/lib/python3.7/site-packages/tqdm/notebook.py\", line 271, in close\n",
      "    self.sp(bar_style='danger')\n",
      "AttributeError: 'tqdm_notebook' object has no attribute 'sp'\n",
      "/Users/timsb/miniconda3/envs/causal2020/lib/python3.7/site-packages/pylogit/choice_tools.py:703: FutureWarning: arrays to stack must be passed as a \"sequence\" type such as list or tuple. Support for non-sequence iterables such as generators is deprecated as of NumPy 1.16 and will raise an error in the future.\n",
      "/Users/timsb/miniconda3/envs/causal2020/lib/python3.7/site-packages/pylogit/choice_tools.py:703: FutureWarning: arrays to stack must be passed as a \"sequence\" type such as list or tuple. Support for non-sequence iterables such as generators is deprecated as of NumPy 1.16 and will raise an error in the future.\n",
      "/Users/timsb/miniconda3/envs/causal2020/lib/python3.7/site-packages/pylogit/choice_tools.py:703: FutureWarning: arrays to stack must be passed as a \"sequence\" type such as list or tuple. Support for non-sequence iterables such as generators is deprecated as of NumPy 1.16 and will raise an error in the future.\n",
      "\n",
      "Simulating Choices:   0%|          | 0/3895 [00:00<?, ?it/s]\u001b[A"
     ]
    },
    {
     "name": "stdout",
     "output_type": "stream",
     "text": [
      "Converting data from wide to long...\n",
      "Simulating Choices...\n"
     ]
    },
    {
     "name": "stderr",
     "output_type": "stream",
     "text": [
      "\n",
      "Simulating Choices: 100%|██████████| 3895/3895 [00:00<00:00, 37241.02it/s]\u001b[A\n",
      "/Users/timsb/miniconda3/envs/causal2020/lib/python3.7/site-packages/pylogit/choice_tools.py:703: FutureWarning: arrays to stack must be passed as a \"sequence\" type such as list or tuple. Support for non-sequence iterables such as generators is deprecated as of NumPy 1.16 and will raise an error in the future.\n"
     ]
    },
    {
     "name": "stdout",
     "output_type": "stream",
     "text": [
      "Estimating the choice model...\n",
      "Estimating Causal Effects...\n",
      "Simulation number 147 is complete!\n",
      "==========================================\n",
      "==========================================\n",
      "Simulation number 148 of 200 is in progress...\n",
      "Simulation size is 3544\n",
      "------------------------------------------\n",
      "Simulating data...\n",
      "Simulating Availability...\n"
     ]
    },
    {
     "name": "stderr",
     "output_type": "stream",
     "text": [
      "/Users/timsb/miniconda3/envs/causal2020/lib/python3.7/site-packages/pylogit/choice_tools.py:703: FutureWarning: arrays to stack must be passed as a \"sequence\" type such as list or tuple. Support for non-sequence iterables such as generators is deprecated as of NumPy 1.16 and will raise an error in the future.\n",
      "/Users/timsb/miniconda3/envs/causal2020/lib/python3.7/site-packages/pylogit/choice_tools.py:703: FutureWarning: arrays to stack must be passed as a \"sequence\" type such as list or tuple. Support for non-sequence iterables such as generators is deprecated as of NumPy 1.16 and will raise an error in the future.\n",
      "Exception ignored in: <function tqdm.__del__ at 0x7fe05909bcb0>\n",
      "Traceback (most recent call last):\n",
      "  File \"/Users/timsb/miniconda3/envs/causal2020/lib/python3.7/site-packages/tqdm/std.py\", line 1124, in __del__\n",
      "    self.close()\n",
      "  File \"/Users/timsb/miniconda3/envs/causal2020/lib/python3.7/site-packages/tqdm/notebook.py\", line 271, in close\n",
      "    self.sp(bar_style='danger')\n",
      "AttributeError: 'tqdm_notebook' object has no attribute 'sp'\n",
      "/Users/timsb/miniconda3/envs/causal2020/lib/python3.7/site-packages/pylogit/choice_tools.py:703: FutureWarning: arrays to stack must be passed as a \"sequence\" type such as list or tuple. Support for non-sequence iterables such as generators is deprecated as of NumPy 1.16 and will raise an error in the future.\n",
      "/Users/timsb/miniconda3/envs/causal2020/lib/python3.7/site-packages/pylogit/choice_tools.py:703: FutureWarning: arrays to stack must be passed as a \"sequence\" type such as list or tuple. Support for non-sequence iterables such as generators is deprecated as of NumPy 1.16 and will raise an error in the future.\n",
      "/Users/timsb/miniconda3/envs/causal2020/lib/python3.7/site-packages/pylogit/choice_tools.py:703: FutureWarning: arrays to stack must be passed as a \"sequence\" type such as list or tuple. Support for non-sequence iterables such as generators is deprecated as of NumPy 1.16 and will raise an error in the future.\n",
      "\n",
      "Simulating Choices:   0%|          | 0/3544 [00:00<?, ?it/s]\u001b[A"
     ]
    },
    {
     "name": "stdout",
     "output_type": "stream",
     "text": [
      "Converting data from wide to long...\n",
      "Simulating Choices...\n"
     ]
    },
    {
     "name": "stderr",
     "output_type": "stream",
     "text": [
      "Simulating Choices: 100%|██████████| 3544/3544 [00:00<00:00, 35903.13it/s]\n",
      "/Users/timsb/miniconda3/envs/causal2020/lib/python3.7/site-packages/pylogit/choice_tools.py:703: FutureWarning: arrays to stack must be passed as a \"sequence\" type such as list or tuple. Support for non-sequence iterables such as generators is deprecated as of NumPy 1.16 and will raise an error in the future.\n"
     ]
    },
    {
     "name": "stdout",
     "output_type": "stream",
     "text": [
      "Estimating the choice model...\n",
      "Estimating Causal Effects...\n",
      "Simulation number 148 is complete!\n",
      "==========================================\n",
      "==========================================\n",
      "Simulation number 149 of 200 is in progress...\n",
      "Simulation size is 3158\n",
      "------------------------------------------\n",
      "Simulating data...\n",
      "Simulating Availability...\n"
     ]
    },
    {
     "name": "stderr",
     "output_type": "stream",
     "text": [
      "/Users/timsb/miniconda3/envs/causal2020/lib/python3.7/site-packages/pylogit/choice_tools.py:703: FutureWarning: arrays to stack must be passed as a \"sequence\" type such as list or tuple. Support for non-sequence iterables such as generators is deprecated as of NumPy 1.16 and will raise an error in the future.\n",
      "/Users/timsb/miniconda3/envs/causal2020/lib/python3.7/site-packages/pylogit/choice_tools.py:703: FutureWarning: arrays to stack must be passed as a \"sequence\" type such as list or tuple. Support for non-sequence iterables such as generators is deprecated as of NumPy 1.16 and will raise an error in the future.\n",
      "Exception ignored in: <function tqdm.__del__ at 0x7fe05909bcb0>\n",
      "Traceback (most recent call last):\n",
      "  File \"/Users/timsb/miniconda3/envs/causal2020/lib/python3.7/site-packages/tqdm/std.py\", line 1124, in __del__\n",
      "    self.close()\n",
      "  File \"/Users/timsb/miniconda3/envs/causal2020/lib/python3.7/site-packages/tqdm/notebook.py\", line 271, in close\n",
      "    self.sp(bar_style='danger')\n",
      "AttributeError: 'tqdm_notebook' object has no attribute 'sp'\n",
      "/Users/timsb/miniconda3/envs/causal2020/lib/python3.7/site-packages/pylogit/choice_tools.py:703: FutureWarning: arrays to stack must be passed as a \"sequence\" type such as list or tuple. Support for non-sequence iterables such as generators is deprecated as of NumPy 1.16 and will raise an error in the future.\n",
      "/Users/timsb/miniconda3/envs/causal2020/lib/python3.7/site-packages/pylogit/choice_tools.py:703: FutureWarning: arrays to stack must be passed as a \"sequence\" type such as list or tuple. Support for non-sequence iterables such as generators is deprecated as of NumPy 1.16 and will raise an error in the future.\n",
      "/Users/timsb/miniconda3/envs/causal2020/lib/python3.7/site-packages/pylogit/choice_tools.py:703: FutureWarning: arrays to stack must be passed as a \"sequence\" type such as list or tuple. Support for non-sequence iterables such as generators is deprecated as of NumPy 1.16 and will raise an error in the future.\n",
      "\n",
      "Simulating Choices:   0%|          | 0/3158 [00:00<?, ?it/s]\u001b[A"
     ]
    },
    {
     "name": "stdout",
     "output_type": "stream",
     "text": [
      "Converting data from wide to long...\n",
      "Simulating Choices...\n"
     ]
    },
    {
     "name": "stderr",
     "output_type": "stream",
     "text": [
      "Simulating Choices: 100%|██████████| 3158/3158 [00:00<00:00, 32614.86it/s]\n",
      "/Users/timsb/miniconda3/envs/causal2020/lib/python3.7/site-packages/pylogit/choice_tools.py:703: FutureWarning: arrays to stack must be passed as a \"sequence\" type such as list or tuple. Support for non-sequence iterables such as generators is deprecated as of NumPy 1.16 and will raise an error in the future.\n"
     ]
    },
    {
     "name": "stdout",
     "output_type": "stream",
     "text": [
      "Estimating the choice model...\n",
      "Estimating Causal Effects...\n",
      "Simulation number 149 is complete!\n",
      "==========================================\n",
      "==========================================\n",
      "Simulation number 150 of 200 is in progress...\n",
      "Simulation size is 3223\n",
      "------------------------------------------\n",
      "Simulating data...\n",
      "Simulating Availability...\n"
     ]
    },
    {
     "name": "stderr",
     "output_type": "stream",
     "text": [
      "/Users/timsb/miniconda3/envs/causal2020/lib/python3.7/site-packages/pylogit/choice_tools.py:703: FutureWarning: arrays to stack must be passed as a \"sequence\" type such as list or tuple. Support for non-sequence iterables such as generators is deprecated as of NumPy 1.16 and will raise an error in the future.\n",
      "/Users/timsb/miniconda3/envs/causal2020/lib/python3.7/site-packages/pylogit/choice_tools.py:703: FutureWarning: arrays to stack must be passed as a \"sequence\" type such as list or tuple. Support for non-sequence iterables such as generators is deprecated as of NumPy 1.16 and will raise an error in the future.\n",
      "Exception ignored in: <function tqdm.__del__ at 0x7fe05909bcb0>\n",
      "Traceback (most recent call last):\n",
      "  File \"/Users/timsb/miniconda3/envs/causal2020/lib/python3.7/site-packages/tqdm/std.py\", line 1124, in __del__\n",
      "    self.close()\n",
      "  File \"/Users/timsb/miniconda3/envs/causal2020/lib/python3.7/site-packages/tqdm/notebook.py\", line 271, in close\n",
      "    self.sp(bar_style='danger')\n",
      "AttributeError: 'tqdm_notebook' object has no attribute 'sp'\n",
      "/Users/timsb/miniconda3/envs/causal2020/lib/python3.7/site-packages/pylogit/choice_tools.py:703: FutureWarning: arrays to stack must be passed as a \"sequence\" type such as list or tuple. Support for non-sequence iterables such as generators is deprecated as of NumPy 1.16 and will raise an error in the future.\n",
      "/Users/timsb/miniconda3/envs/causal2020/lib/python3.7/site-packages/pylogit/choice_tools.py:703: FutureWarning: arrays to stack must be passed as a \"sequence\" type such as list or tuple. Support for non-sequence iterables such as generators is deprecated as of NumPy 1.16 and will raise an error in the future.\n",
      "/Users/timsb/miniconda3/envs/causal2020/lib/python3.7/site-packages/pylogit/choice_tools.py:703: FutureWarning: arrays to stack must be passed as a \"sequence\" type such as list or tuple. Support for non-sequence iterables such as generators is deprecated as of NumPy 1.16 and will raise an error in the future.\n",
      "\n",
      "Simulating Choices:   0%|          | 0/3223 [00:00<?, ?it/s]\u001b[A"
     ]
    },
    {
     "name": "stdout",
     "output_type": "stream",
     "text": [
      "Converting data from wide to long...\n",
      "Simulating Choices...\n"
     ]
    },
    {
     "name": "stderr",
     "output_type": "stream",
     "text": [
      "Simulating Choices: 100%|██████████| 3223/3223 [00:00<00:00, 33858.92it/s]\n",
      "/Users/timsb/miniconda3/envs/causal2020/lib/python3.7/site-packages/pylogit/choice_tools.py:703: FutureWarning: arrays to stack must be passed as a \"sequence\" type such as list or tuple. Support for non-sequence iterables such as generators is deprecated as of NumPy 1.16 and will raise an error in the future.\n"
     ]
    },
    {
     "name": "stdout",
     "output_type": "stream",
     "text": [
      "Estimating the choice model...\n",
      "Estimating Causal Effects...\n",
      "Simulation number 150 is complete!\n",
      "==========================================\n",
      "==========================================\n",
      "Simulation number 151 of 200 is in progress...\n",
      "Simulation size is 3296\n",
      "------------------------------------------\n",
      "Simulating data...\n",
      "Simulating Availability...\n"
     ]
    },
    {
     "name": "stderr",
     "output_type": "stream",
     "text": [
      "/Users/timsb/miniconda3/envs/causal2020/lib/python3.7/site-packages/pylogit/choice_tools.py:703: FutureWarning: arrays to stack must be passed as a \"sequence\" type such as list or tuple. Support for non-sequence iterables such as generators is deprecated as of NumPy 1.16 and will raise an error in the future.\n",
      "/Users/timsb/miniconda3/envs/causal2020/lib/python3.7/site-packages/pylogit/choice_tools.py:703: FutureWarning: arrays to stack must be passed as a \"sequence\" type such as list or tuple. Support for non-sequence iterables such as generators is deprecated as of NumPy 1.16 and will raise an error in the future.\n",
      "Exception ignored in: <function tqdm.__del__ at 0x7fe05909bcb0>\n",
      "Traceback (most recent call last):\n",
      "  File \"/Users/timsb/miniconda3/envs/causal2020/lib/python3.7/site-packages/tqdm/std.py\", line 1124, in __del__\n",
      "    self.close()\n",
      "  File \"/Users/timsb/miniconda3/envs/causal2020/lib/python3.7/site-packages/tqdm/notebook.py\", line 271, in close\n",
      "    self.sp(bar_style='danger')\n",
      "AttributeError: 'tqdm_notebook' object has no attribute 'sp'\n",
      "/Users/timsb/miniconda3/envs/causal2020/lib/python3.7/site-packages/pylogit/choice_tools.py:703: FutureWarning: arrays to stack must be passed as a \"sequence\" type such as list or tuple. Support for non-sequence iterables such as generators is deprecated as of NumPy 1.16 and will raise an error in the future.\n",
      "/Users/timsb/miniconda3/envs/causal2020/lib/python3.7/site-packages/pylogit/choice_tools.py:703: FutureWarning: arrays to stack must be passed as a \"sequence\" type such as list or tuple. Support for non-sequence iterables such as generators is deprecated as of NumPy 1.16 and will raise an error in the future.\n",
      "/Users/timsb/miniconda3/envs/causal2020/lib/python3.7/site-packages/pylogit/choice_tools.py:703: FutureWarning: arrays to stack must be passed as a \"sequence\" type such as list or tuple. Support for non-sequence iterables such as generators is deprecated as of NumPy 1.16 and will raise an error in the future.\n",
      "\n",
      "Simulating Choices:   0%|          | 0/3296 [00:00<?, ?it/s]\u001b[A"
     ]
    },
    {
     "name": "stdout",
     "output_type": "stream",
     "text": [
      "Converting data from wide to long...\n",
      "Simulating Choices...\n"
     ]
    },
    {
     "name": "stderr",
     "output_type": "stream",
     "text": [
      "Simulating Choices: 100%|██████████| 3296/3296 [00:00<00:00, 34937.08it/s]\n",
      "/Users/timsb/miniconda3/envs/causal2020/lib/python3.7/site-packages/pylogit/choice_tools.py:703: FutureWarning: arrays to stack must be passed as a \"sequence\" type such as list or tuple. Support for non-sequence iterables such as generators is deprecated as of NumPy 1.16 and will raise an error in the future.\n"
     ]
    },
    {
     "name": "stdout",
     "output_type": "stream",
     "text": [
      "Estimating the choice model...\n",
      "Estimating Causal Effects...\n",
      "Simulation number 151 is complete!\n",
      "==========================================\n",
      "==========================================\n",
      "Simulation number 152 of 200 is in progress...\n",
      "Simulation size is 3104\n",
      "------------------------------------------\n",
      "Simulating data...\n",
      "Simulating Availability...\n"
     ]
    },
    {
     "name": "stderr",
     "output_type": "stream",
     "text": [
      "/Users/timsb/miniconda3/envs/causal2020/lib/python3.7/site-packages/pylogit/choice_tools.py:703: FutureWarning: arrays to stack must be passed as a \"sequence\" type such as list or tuple. Support for non-sequence iterables such as generators is deprecated as of NumPy 1.16 and will raise an error in the future.\n",
      "/Users/timsb/miniconda3/envs/causal2020/lib/python3.7/site-packages/pylogit/choice_tools.py:703: FutureWarning: arrays to stack must be passed as a \"sequence\" type such as list or tuple. Support for non-sequence iterables such as generators is deprecated as of NumPy 1.16 and will raise an error in the future.\n",
      "Exception ignored in: <function tqdm.__del__ at 0x7fe05909bcb0>\n",
      "Traceback (most recent call last):\n",
      "  File \"/Users/timsb/miniconda3/envs/causal2020/lib/python3.7/site-packages/tqdm/std.py\", line 1124, in __del__\n",
      "    self.close()\n",
      "  File \"/Users/timsb/miniconda3/envs/causal2020/lib/python3.7/site-packages/tqdm/notebook.py\", line 271, in close\n",
      "    self.sp(bar_style='danger')\n",
      "AttributeError: 'tqdm_notebook' object has no attribute 'sp'\n",
      "/Users/timsb/miniconda3/envs/causal2020/lib/python3.7/site-packages/pylogit/choice_tools.py:703: FutureWarning: arrays to stack must be passed as a \"sequence\" type such as list or tuple. Support for non-sequence iterables such as generators is deprecated as of NumPy 1.16 and will raise an error in the future.\n",
      "/Users/timsb/miniconda3/envs/causal2020/lib/python3.7/site-packages/pylogit/choice_tools.py:703: FutureWarning: arrays to stack must be passed as a \"sequence\" type such as list or tuple. Support for non-sequence iterables such as generators is deprecated as of NumPy 1.16 and will raise an error in the future.\n",
      "/Users/timsb/miniconda3/envs/causal2020/lib/python3.7/site-packages/pylogit/choice_tools.py:703: FutureWarning: arrays to stack must be passed as a \"sequence\" type such as list or tuple. Support for non-sequence iterables such as generators is deprecated as of NumPy 1.16 and will raise an error in the future.\n",
      "\n",
      "Simulating Choices:   0%|          | 0/3104 [00:00<?, ?it/s]\u001b[A"
     ]
    },
    {
     "name": "stdout",
     "output_type": "stream",
     "text": [
      "Converting data from wide to long...\n",
      "Simulating Choices...\n"
     ]
    },
    {
     "name": "stderr",
     "output_type": "stream",
     "text": [
      "Simulating Choices: 100%|██████████| 3104/3104 [00:00<00:00, 35214.22it/s]\n",
      "/Users/timsb/miniconda3/envs/causal2020/lib/python3.7/site-packages/pylogit/choice_tools.py:703: FutureWarning: arrays to stack must be passed as a \"sequence\" type such as list or tuple. Support for non-sequence iterables such as generators is deprecated as of NumPy 1.16 and will raise an error in the future.\n"
     ]
    },
    {
     "name": "stdout",
     "output_type": "stream",
     "text": [
      "Estimating the choice model...\n",
      "Estimating Causal Effects...\n",
      "Simulation number 152 is complete!\n",
      "==========================================\n",
      "==========================================\n",
      "Simulation number 153 of 200 is in progress...\n",
      "Simulation size is 3568\n",
      "------------------------------------------\n",
      "Simulating data...\n",
      "Simulating Availability...\n"
     ]
    },
    {
     "name": "stderr",
     "output_type": "stream",
     "text": [
      "/Users/timsb/miniconda3/envs/causal2020/lib/python3.7/site-packages/pylogit/choice_tools.py:703: FutureWarning: arrays to stack must be passed as a \"sequence\" type such as list or tuple. Support for non-sequence iterables such as generators is deprecated as of NumPy 1.16 and will raise an error in the future.\n",
      "/Users/timsb/miniconda3/envs/causal2020/lib/python3.7/site-packages/pylogit/choice_tools.py:703: FutureWarning: arrays to stack must be passed as a \"sequence\" type such as list or tuple. Support for non-sequence iterables such as generators is deprecated as of NumPy 1.16 and will raise an error in the future.\n",
      "Exception ignored in: <function tqdm.__del__ at 0x7fe05909bcb0>\n",
      "Traceback (most recent call last):\n",
      "  File \"/Users/timsb/miniconda3/envs/causal2020/lib/python3.7/site-packages/tqdm/std.py\", line 1124, in __del__\n",
      "    self.close()\n",
      "  File \"/Users/timsb/miniconda3/envs/causal2020/lib/python3.7/site-packages/tqdm/notebook.py\", line 271, in close\n",
      "    self.sp(bar_style='danger')\n",
      "AttributeError: 'tqdm_notebook' object has no attribute 'sp'\n",
      "/Users/timsb/miniconda3/envs/causal2020/lib/python3.7/site-packages/pylogit/choice_tools.py:703: FutureWarning: arrays to stack must be passed as a \"sequence\" type such as list or tuple. Support for non-sequence iterables such as generators is deprecated as of NumPy 1.16 and will raise an error in the future.\n",
      "/Users/timsb/miniconda3/envs/causal2020/lib/python3.7/site-packages/pylogit/choice_tools.py:703: FutureWarning: arrays to stack must be passed as a \"sequence\" type such as list or tuple. Support for non-sequence iterables such as generators is deprecated as of NumPy 1.16 and will raise an error in the future.\n",
      "/Users/timsb/miniconda3/envs/causal2020/lib/python3.7/site-packages/pylogit/choice_tools.py:703: FutureWarning: arrays to stack must be passed as a \"sequence\" type such as list or tuple. Support for non-sequence iterables such as generators is deprecated as of NumPy 1.16 and will raise an error in the future.\n",
      "\n",
      "Simulating Choices:   0%|          | 0/3568 [00:00<?, ?it/s]\u001b[A"
     ]
    },
    {
     "name": "stdout",
     "output_type": "stream",
     "text": [
      "Converting data from wide to long...\n",
      "Simulating Choices...\n"
     ]
    },
    {
     "name": "stderr",
     "output_type": "stream",
     "text": [
      "\n",
      "Simulating Choices: 100%|██████████| 3568/3568 [00:00<00:00, 33365.09it/s]\u001b[A\n",
      "/Users/timsb/miniconda3/envs/causal2020/lib/python3.7/site-packages/pylogit/choice_tools.py:703: FutureWarning: arrays to stack must be passed as a \"sequence\" type such as list or tuple. Support for non-sequence iterables such as generators is deprecated as of NumPy 1.16 and will raise an error in the future.\n"
     ]
    },
    {
     "name": "stdout",
     "output_type": "stream",
     "text": [
      "Estimating the choice model...\n",
      "Estimating Causal Effects...\n",
      "Simulation number 153 is complete!\n",
      "==========================================\n",
      "==========================================\n",
      "Simulation number 154 of 200 is in progress...\n",
      "Simulation size is 3503\n",
      "------------------------------------------\n",
      "Simulating data...\n",
      "Simulating Availability...\n"
     ]
    },
    {
     "name": "stderr",
     "output_type": "stream",
     "text": [
      "/Users/timsb/miniconda3/envs/causal2020/lib/python3.7/site-packages/pylogit/choice_tools.py:703: FutureWarning: arrays to stack must be passed as a \"sequence\" type such as list or tuple. Support for non-sequence iterables such as generators is deprecated as of NumPy 1.16 and will raise an error in the future.\n",
      "/Users/timsb/miniconda3/envs/causal2020/lib/python3.7/site-packages/pylogit/choice_tools.py:703: FutureWarning: arrays to stack must be passed as a \"sequence\" type such as list or tuple. Support for non-sequence iterables such as generators is deprecated as of NumPy 1.16 and will raise an error in the future.\n",
      "Exception ignored in: <function tqdm.__del__ at 0x7fe05909bcb0>\n",
      "Traceback (most recent call last):\n",
      "  File \"/Users/timsb/miniconda3/envs/causal2020/lib/python3.7/site-packages/tqdm/std.py\", line 1124, in __del__\n",
      "    self.close()\n",
      "  File \"/Users/timsb/miniconda3/envs/causal2020/lib/python3.7/site-packages/tqdm/notebook.py\", line 271, in close\n",
      "    self.sp(bar_style='danger')\n",
      "AttributeError: 'tqdm_notebook' object has no attribute 'sp'\n",
      "/Users/timsb/miniconda3/envs/causal2020/lib/python3.7/site-packages/pylogit/choice_tools.py:703: FutureWarning: arrays to stack must be passed as a \"sequence\" type such as list or tuple. Support for non-sequence iterables such as generators is deprecated as of NumPy 1.16 and will raise an error in the future.\n",
      "/Users/timsb/miniconda3/envs/causal2020/lib/python3.7/site-packages/pylogit/choice_tools.py:703: FutureWarning: arrays to stack must be passed as a \"sequence\" type such as list or tuple. Support for non-sequence iterables such as generators is deprecated as of NumPy 1.16 and will raise an error in the future.\n",
      "/Users/timsb/miniconda3/envs/causal2020/lib/python3.7/site-packages/pylogit/choice_tools.py:703: FutureWarning: arrays to stack must be passed as a \"sequence\" type such as list or tuple. Support for non-sequence iterables such as generators is deprecated as of NumPy 1.16 and will raise an error in the future.\n",
      "\n",
      "Simulating Choices:   0%|          | 0/3503 [00:00<?, ?it/s]\u001b[A"
     ]
    },
    {
     "name": "stdout",
     "output_type": "stream",
     "text": [
      "Converting data from wide to long...\n",
      "Simulating Choices...\n"
     ]
    },
    {
     "name": "stderr",
     "output_type": "stream",
     "text": [
      "Simulating Choices: 100%|██████████| 3503/3503 [00:00<00:00, 35649.22it/s]\n",
      "/Users/timsb/miniconda3/envs/causal2020/lib/python3.7/site-packages/pylogit/choice_tools.py:703: FutureWarning: arrays to stack must be passed as a \"sequence\" type such as list or tuple. Support for non-sequence iterables such as generators is deprecated as of NumPy 1.16 and will raise an error in the future.\n"
     ]
    },
    {
     "name": "stdout",
     "output_type": "stream",
     "text": [
      "Estimating the choice model...\n",
      "Estimating Causal Effects...\n",
      "Simulation number 154 is complete!\n",
      "==========================================\n",
      "==========================================\n",
      "Simulation number 155 of 200 is in progress...\n",
      "Simulation size is 3737\n",
      "------------------------------------------\n",
      "Simulating data...\n",
      "Simulating Availability...\n"
     ]
    },
    {
     "name": "stderr",
     "output_type": "stream",
     "text": [
      "/Users/timsb/miniconda3/envs/causal2020/lib/python3.7/site-packages/pylogit/choice_tools.py:703: FutureWarning: arrays to stack must be passed as a \"sequence\" type such as list or tuple. Support for non-sequence iterables such as generators is deprecated as of NumPy 1.16 and will raise an error in the future.\n",
      "/Users/timsb/miniconda3/envs/causal2020/lib/python3.7/site-packages/pylogit/choice_tools.py:703: FutureWarning: arrays to stack must be passed as a \"sequence\" type such as list or tuple. Support for non-sequence iterables such as generators is deprecated as of NumPy 1.16 and will raise an error in the future.\n",
      "Exception ignored in: <function tqdm.__del__ at 0x7fe05909bcb0>\n",
      "Traceback (most recent call last):\n",
      "  File \"/Users/timsb/miniconda3/envs/causal2020/lib/python3.7/site-packages/tqdm/std.py\", line 1124, in __del__\n",
      "    self.close()\n",
      "  File \"/Users/timsb/miniconda3/envs/causal2020/lib/python3.7/site-packages/tqdm/notebook.py\", line 271, in close\n",
      "    self.sp(bar_style='danger')\n",
      "AttributeError: 'tqdm_notebook' object has no attribute 'sp'\n",
      "/Users/timsb/miniconda3/envs/causal2020/lib/python3.7/site-packages/pylogit/choice_tools.py:703: FutureWarning: arrays to stack must be passed as a \"sequence\" type such as list or tuple. Support for non-sequence iterables such as generators is deprecated as of NumPy 1.16 and will raise an error in the future.\n",
      "/Users/timsb/miniconda3/envs/causal2020/lib/python3.7/site-packages/pylogit/choice_tools.py:703: FutureWarning: arrays to stack must be passed as a \"sequence\" type such as list or tuple. Support for non-sequence iterables such as generators is deprecated as of NumPy 1.16 and will raise an error in the future.\n",
      "/Users/timsb/miniconda3/envs/causal2020/lib/python3.7/site-packages/pylogit/choice_tools.py:703: FutureWarning: arrays to stack must be passed as a \"sequence\" type such as list or tuple. Support for non-sequence iterables such as generators is deprecated as of NumPy 1.16 and will raise an error in the future.\n",
      "\n",
      "Simulating Choices:   0%|          | 0/3737 [00:00<?, ?it/s]\u001b[A"
     ]
    },
    {
     "name": "stdout",
     "output_type": "stream",
     "text": [
      "Converting data from wide to long...\n",
      "Simulating Choices...\n"
     ]
    },
    {
     "name": "stderr",
     "output_type": "stream",
     "text": [
      "\n",
      "Simulating Choices: 100%|██████████| 3737/3737 [00:00<00:00, 33012.03it/s]\u001b[A\n",
      "/Users/timsb/miniconda3/envs/causal2020/lib/python3.7/site-packages/pylogit/choice_tools.py:703: FutureWarning: arrays to stack must be passed as a \"sequence\" type such as list or tuple. Support for non-sequence iterables such as generators is deprecated as of NumPy 1.16 and will raise an error in the future.\n"
     ]
    },
    {
     "name": "stdout",
     "output_type": "stream",
     "text": [
      "Estimating the choice model...\n",
      "Estimating Causal Effects...\n",
      "Simulation number 155 is complete!\n",
      "==========================================\n",
      "==========================================\n",
      "Simulation number 156 of 200 is in progress...\n",
      "Simulation size is 3276\n",
      "------------------------------------------\n",
      "Simulating data...\n",
      "Simulating Availability...\n"
     ]
    },
    {
     "name": "stderr",
     "output_type": "stream",
     "text": [
      "/Users/timsb/miniconda3/envs/causal2020/lib/python3.7/site-packages/pylogit/choice_tools.py:703: FutureWarning: arrays to stack must be passed as a \"sequence\" type such as list or tuple. Support for non-sequence iterables such as generators is deprecated as of NumPy 1.16 and will raise an error in the future.\n",
      "/Users/timsb/miniconda3/envs/causal2020/lib/python3.7/site-packages/pylogit/choice_tools.py:703: FutureWarning: arrays to stack must be passed as a \"sequence\" type such as list or tuple. Support for non-sequence iterables such as generators is deprecated as of NumPy 1.16 and will raise an error in the future.\n",
      "Exception ignored in: <function tqdm.__del__ at 0x7fe05909bcb0>\n",
      "Traceback (most recent call last):\n",
      "  File \"/Users/timsb/miniconda3/envs/causal2020/lib/python3.7/site-packages/tqdm/std.py\", line 1124, in __del__\n",
      "    self.close()\n",
      "  File \"/Users/timsb/miniconda3/envs/causal2020/lib/python3.7/site-packages/tqdm/notebook.py\", line 271, in close\n",
      "    self.sp(bar_style='danger')\n",
      "AttributeError: 'tqdm_notebook' object has no attribute 'sp'\n",
      "/Users/timsb/miniconda3/envs/causal2020/lib/python3.7/site-packages/pylogit/choice_tools.py:703: FutureWarning: arrays to stack must be passed as a \"sequence\" type such as list or tuple. Support for non-sequence iterables such as generators is deprecated as of NumPy 1.16 and will raise an error in the future.\n",
      "/Users/timsb/miniconda3/envs/causal2020/lib/python3.7/site-packages/pylogit/choice_tools.py:703: FutureWarning: arrays to stack must be passed as a \"sequence\" type such as list or tuple. Support for non-sequence iterables such as generators is deprecated as of NumPy 1.16 and will raise an error in the future.\n",
      "/Users/timsb/miniconda3/envs/causal2020/lib/python3.7/site-packages/pylogit/choice_tools.py:703: FutureWarning: arrays to stack must be passed as a \"sequence\" type such as list or tuple. Support for non-sequence iterables such as generators is deprecated as of NumPy 1.16 and will raise an error in the future.\n",
      "\n",
      "Simulating Choices:   0%|          | 0/3276 [00:00<?, ?it/s]\u001b[A"
     ]
    },
    {
     "name": "stdout",
     "output_type": "stream",
     "text": [
      "Converting data from wide to long...\n",
      "Simulating Choices...\n"
     ]
    },
    {
     "name": "stderr",
     "output_type": "stream",
     "text": [
      "Simulating Choices: 100%|██████████| 3276/3276 [00:00<00:00, 34754.59it/s]\n",
      "/Users/timsb/miniconda3/envs/causal2020/lib/python3.7/site-packages/pylogit/choice_tools.py:703: FutureWarning: arrays to stack must be passed as a \"sequence\" type such as list or tuple. Support for non-sequence iterables such as generators is deprecated as of NumPy 1.16 and will raise an error in the future.\n"
     ]
    },
    {
     "name": "stdout",
     "output_type": "stream",
     "text": [
      "Estimating the choice model...\n",
      "Estimating Causal Effects...\n",
      "Simulation number 156 is complete!\n",
      "==========================================\n",
      "==========================================\n",
      "Simulation number 157 of 200 is in progress...\n",
      "Simulation size is 3986\n",
      "------------------------------------------\n",
      "Simulating data...\n",
      "Simulating Availability...\n"
     ]
    },
    {
     "name": "stderr",
     "output_type": "stream",
     "text": [
      "/Users/timsb/miniconda3/envs/causal2020/lib/python3.7/site-packages/pylogit/choice_tools.py:703: FutureWarning: arrays to stack must be passed as a \"sequence\" type such as list or tuple. Support for non-sequence iterables such as generators is deprecated as of NumPy 1.16 and will raise an error in the future.\n",
      "/Users/timsb/miniconda3/envs/causal2020/lib/python3.7/site-packages/pylogit/choice_tools.py:703: FutureWarning: arrays to stack must be passed as a \"sequence\" type such as list or tuple. Support for non-sequence iterables such as generators is deprecated as of NumPy 1.16 and will raise an error in the future.\n",
      "Exception ignored in: <function tqdm.__del__ at 0x7fe05909bcb0>\n",
      "Traceback (most recent call last):\n",
      "  File \"/Users/timsb/miniconda3/envs/causal2020/lib/python3.7/site-packages/tqdm/std.py\", line 1124, in __del__\n",
      "    self.close()\n",
      "  File \"/Users/timsb/miniconda3/envs/causal2020/lib/python3.7/site-packages/tqdm/notebook.py\", line 271, in close\n",
      "    self.sp(bar_style='danger')\n",
      "AttributeError: 'tqdm_notebook' object has no attribute 'sp'\n",
      "/Users/timsb/miniconda3/envs/causal2020/lib/python3.7/site-packages/pylogit/choice_tools.py:703: FutureWarning: arrays to stack must be passed as a \"sequence\" type such as list or tuple. Support for non-sequence iterables such as generators is deprecated as of NumPy 1.16 and will raise an error in the future.\n",
      "/Users/timsb/miniconda3/envs/causal2020/lib/python3.7/site-packages/pylogit/choice_tools.py:703: FutureWarning: arrays to stack must be passed as a \"sequence\" type such as list or tuple. Support for non-sequence iterables such as generators is deprecated as of NumPy 1.16 and will raise an error in the future.\n",
      "/Users/timsb/miniconda3/envs/causal2020/lib/python3.7/site-packages/pylogit/choice_tools.py:703: FutureWarning: arrays to stack must be passed as a \"sequence\" type such as list or tuple. Support for non-sequence iterables such as generators is deprecated as of NumPy 1.16 and will raise an error in the future.\n",
      "\n",
      "Simulating Choices:   0%|          | 0/3986 [00:00<?, ?it/s]\u001b[A"
     ]
    },
    {
     "name": "stdout",
     "output_type": "stream",
     "text": [
      "Converting data from wide to long...\n",
      "Simulating Choices...\n"
     ]
    },
    {
     "name": "stderr",
     "output_type": "stream",
     "text": [
      "\n",
      "Simulating Choices: 100%|██████████| 3986/3986 [00:00<00:00, 35656.08it/s]\u001b[A\n",
      "/Users/timsb/miniconda3/envs/causal2020/lib/python3.7/site-packages/pylogit/choice_tools.py:703: FutureWarning: arrays to stack must be passed as a \"sequence\" type such as list or tuple. Support for non-sequence iterables such as generators is deprecated as of NumPy 1.16 and will raise an error in the future.\n"
     ]
    },
    {
     "name": "stdout",
     "output_type": "stream",
     "text": [
      "Estimating the choice model...\n",
      "Estimating Causal Effects...\n",
      "Simulation number 157 is complete!\n",
      "==========================================\n",
      "==========================================\n",
      "Simulation number 158 of 200 is in progress...\n",
      "Simulation size is 3108\n",
      "------------------------------------------\n",
      "Simulating data...\n",
      "Simulating Availability...\n"
     ]
    },
    {
     "name": "stderr",
     "output_type": "stream",
     "text": [
      "/Users/timsb/miniconda3/envs/causal2020/lib/python3.7/site-packages/pylogit/choice_tools.py:703: FutureWarning: arrays to stack must be passed as a \"sequence\" type such as list or tuple. Support for non-sequence iterables such as generators is deprecated as of NumPy 1.16 and will raise an error in the future.\n",
      "/Users/timsb/miniconda3/envs/causal2020/lib/python3.7/site-packages/pylogit/choice_tools.py:703: FutureWarning: arrays to stack must be passed as a \"sequence\" type such as list or tuple. Support for non-sequence iterables such as generators is deprecated as of NumPy 1.16 and will raise an error in the future.\n",
      "Exception ignored in: <function tqdm.__del__ at 0x7fe05909bcb0>\n",
      "Traceback (most recent call last):\n",
      "  File \"/Users/timsb/miniconda3/envs/causal2020/lib/python3.7/site-packages/tqdm/std.py\", line 1124, in __del__\n",
      "    self.close()\n",
      "  File \"/Users/timsb/miniconda3/envs/causal2020/lib/python3.7/site-packages/tqdm/notebook.py\", line 271, in close\n",
      "    self.sp(bar_style='danger')\n",
      "AttributeError: 'tqdm_notebook' object has no attribute 'sp'\n",
      "/Users/timsb/miniconda3/envs/causal2020/lib/python3.7/site-packages/pylogit/choice_tools.py:703: FutureWarning: arrays to stack must be passed as a \"sequence\" type such as list or tuple. Support for non-sequence iterables such as generators is deprecated as of NumPy 1.16 and will raise an error in the future.\n",
      "/Users/timsb/miniconda3/envs/causal2020/lib/python3.7/site-packages/pylogit/choice_tools.py:703: FutureWarning: arrays to stack must be passed as a \"sequence\" type such as list or tuple. Support for non-sequence iterables such as generators is deprecated as of NumPy 1.16 and will raise an error in the future.\n",
      "/Users/timsb/miniconda3/envs/causal2020/lib/python3.7/site-packages/pylogit/choice_tools.py:703: FutureWarning: arrays to stack must be passed as a \"sequence\" type such as list or tuple. Support for non-sequence iterables such as generators is deprecated as of NumPy 1.16 and will raise an error in the future.\n",
      "\n",
      "Simulating Choices:   0%|          | 0/3108 [00:00<?, ?it/s]\u001b[A"
     ]
    },
    {
     "name": "stdout",
     "output_type": "stream",
     "text": [
      "Converting data from wide to long...\n",
      "Simulating Choices...\n"
     ]
    },
    {
     "name": "stderr",
     "output_type": "stream",
     "text": [
      "Simulating Choices: 100%|██████████| 3108/3108 [00:00<00:00, 35285.65it/s]\n",
      "/Users/timsb/miniconda3/envs/causal2020/lib/python3.7/site-packages/pylogit/choice_tools.py:703: FutureWarning: arrays to stack must be passed as a \"sequence\" type such as list or tuple. Support for non-sequence iterables such as generators is deprecated as of NumPy 1.16 and will raise an error in the future.\n",
      "/Users/timsb/miniconda3/envs/causal2020/lib/python3.7/site-packages/pylogit/choice_tools.py:703: FutureWarning: arrays to stack must be passed as a \"sequence\" type such as list or tuple. Support for non-sequence iterables such as generators is deprecated as of NumPy 1.16 and will raise an error in the future.\n"
     ]
    },
    {
     "name": "stdout",
     "output_type": "stream",
     "text": [
      "Estimating the choice model...\n",
      "Estimating Causal Effects...\n"
     ]
    },
    {
     "name": "stderr",
     "output_type": "stream",
     "text": [
      "/Users/timsb/miniconda3/envs/causal2020/lib/python3.7/site-packages/pylogit/choice_tools.py:703: FutureWarning: arrays to stack must be passed as a \"sequence\" type such as list or tuple. Support for non-sequence iterables such as generators is deprecated as of NumPy 1.16 and will raise an error in the future.\n",
      "Exception ignored in: <function tqdm.__del__ at 0x7fe05909bcb0>\n",
      "Traceback (most recent call last):\n",
      "  File \"/Users/timsb/miniconda3/envs/causal2020/lib/python3.7/site-packages/tqdm/std.py\", line 1124, in __del__\n",
      "    self.close()\n",
      "  File \"/Users/timsb/miniconda3/envs/causal2020/lib/python3.7/site-packages/tqdm/notebook.py\", line 271, in close\n",
      "    self.sp(bar_style='danger')\n",
      "AttributeError: 'tqdm_notebook' object has no attribute 'sp'\n",
      "/Users/timsb/miniconda3/envs/causal2020/lib/python3.7/site-packages/pylogit/choice_tools.py:703: FutureWarning: arrays to stack must be passed as a \"sequence\" type such as list or tuple. Support for non-sequence iterables such as generators is deprecated as of NumPy 1.16 and will raise an error in the future.\n",
      "/Users/timsb/miniconda3/envs/causal2020/lib/python3.7/site-packages/pylogit/choice_tools.py:703: FutureWarning: arrays to stack must be passed as a \"sequence\" type such as list or tuple. Support for non-sequence iterables such as generators is deprecated as of NumPy 1.16 and will raise an error in the future.\n"
     ]
    },
    {
     "name": "stdout",
     "output_type": "stream",
     "text": [
      "Simulation number 158 is complete!\n",
      "==========================================\n",
      "==========================================\n",
      "Simulation number 159 of 200 is in progress...\n",
      "Simulation size is 3770\n",
      "------------------------------------------\n",
      "Simulating data...\n",
      "Simulating Availability...\n"
     ]
    },
    {
     "name": "stderr",
     "output_type": "stream",
     "text": [
      "/Users/timsb/miniconda3/envs/causal2020/lib/python3.7/site-packages/pylogit/choice_tools.py:703: FutureWarning: arrays to stack must be passed as a \"sequence\" type such as list or tuple. Support for non-sequence iterables such as generators is deprecated as of NumPy 1.16 and will raise an error in the future.\n",
      "\n",
      "Simulating Choices:   0%|          | 0/3770 [00:00<?, ?it/s]\u001b[A"
     ]
    },
    {
     "name": "stdout",
     "output_type": "stream",
     "text": [
      "Converting data from wide to long...\n",
      "Simulating Choices...\n"
     ]
    },
    {
     "name": "stderr",
     "output_type": "stream",
     "text": [
      "Simulating Choices: 100%|██████████| 3770/3770 [00:00<00:00, 37977.28it/s]\n",
      "/Users/timsb/miniconda3/envs/causal2020/lib/python3.7/site-packages/pylogit/choice_tools.py:703: FutureWarning: arrays to stack must be passed as a \"sequence\" type such as list or tuple. Support for non-sequence iterables such as generators is deprecated as of NumPy 1.16 and will raise an error in the future.\n"
     ]
    },
    {
     "name": "stdout",
     "output_type": "stream",
     "text": [
      "Estimating the choice model...\n",
      "Estimating Causal Effects...\n",
      "Simulation number 159 is complete!\n",
      "==========================================\n",
      "==========================================\n",
      "Simulation number 160 of 200 is in progress...\n",
      "Simulation size is 3732\n",
      "------------------------------------------\n",
      "Simulating data...\n",
      "Simulating Availability...\n"
     ]
    },
    {
     "name": "stderr",
     "output_type": "stream",
     "text": [
      "/Users/timsb/miniconda3/envs/causal2020/lib/python3.7/site-packages/pylogit/choice_tools.py:703: FutureWarning: arrays to stack must be passed as a \"sequence\" type such as list or tuple. Support for non-sequence iterables such as generators is deprecated as of NumPy 1.16 and will raise an error in the future.\n",
      "/Users/timsb/miniconda3/envs/causal2020/lib/python3.7/site-packages/pylogit/choice_tools.py:703: FutureWarning: arrays to stack must be passed as a \"sequence\" type such as list or tuple. Support for non-sequence iterables such as generators is deprecated as of NumPy 1.16 and will raise an error in the future.\n",
      "Exception ignored in: <function tqdm.__del__ at 0x7fe05909bcb0>\n",
      "Traceback (most recent call last):\n",
      "  File \"/Users/timsb/miniconda3/envs/causal2020/lib/python3.7/site-packages/tqdm/std.py\", line 1124, in __del__\n",
      "    self.close()\n",
      "  File \"/Users/timsb/miniconda3/envs/causal2020/lib/python3.7/site-packages/tqdm/notebook.py\", line 271, in close\n",
      "    self.sp(bar_style='danger')\n",
      "AttributeError: 'tqdm_notebook' object has no attribute 'sp'\n",
      "/Users/timsb/miniconda3/envs/causal2020/lib/python3.7/site-packages/pylogit/choice_tools.py:703: FutureWarning: arrays to stack must be passed as a \"sequence\" type such as list or tuple. Support for non-sequence iterables such as generators is deprecated as of NumPy 1.16 and will raise an error in the future.\n",
      "/Users/timsb/miniconda3/envs/causal2020/lib/python3.7/site-packages/pylogit/choice_tools.py:703: FutureWarning: arrays to stack must be passed as a \"sequence\" type such as list or tuple. Support for non-sequence iterables such as generators is deprecated as of NumPy 1.16 and will raise an error in the future.\n",
      "/Users/timsb/miniconda3/envs/causal2020/lib/python3.7/site-packages/pylogit/choice_tools.py:703: FutureWarning: arrays to stack must be passed as a \"sequence\" type such as list or tuple. Support for non-sequence iterables such as generators is deprecated as of NumPy 1.16 and will raise an error in the future.\n",
      "\n",
      "Simulating Choices:   0%|          | 0/3732 [00:00<?, ?it/s]\u001b[A"
     ]
    },
    {
     "name": "stdout",
     "output_type": "stream",
     "text": [
      "Converting data from wide to long...\n",
      "Simulating Choices...\n"
     ]
    },
    {
     "name": "stderr",
     "output_type": "stream",
     "text": [
      "\n",
      "Simulating Choices: 100%|██████████| 3732/3732 [00:00<00:00, 33689.91it/s]\u001b[A\n",
      "/Users/timsb/miniconda3/envs/causal2020/lib/python3.7/site-packages/pylogit/choice_tools.py:703: FutureWarning: arrays to stack must be passed as a \"sequence\" type such as list or tuple. Support for non-sequence iterables such as generators is deprecated as of NumPy 1.16 and will raise an error in the future.\n"
     ]
    },
    {
     "name": "stdout",
     "output_type": "stream",
     "text": [
      "Estimating the choice model...\n",
      "Estimating Causal Effects...\n",
      "Simulation number 160 is complete!\n",
      "==========================================\n",
      "==========================================\n",
      "Simulation number 161 of 200 is in progress...\n",
      "Simulation size is 3383\n",
      "------------------------------------------\n",
      "Simulating data...\n",
      "Simulating Availability...\n"
     ]
    },
    {
     "name": "stderr",
     "output_type": "stream",
     "text": [
      "/Users/timsb/miniconda3/envs/causal2020/lib/python3.7/site-packages/pylogit/choice_tools.py:703: FutureWarning: arrays to stack must be passed as a \"sequence\" type such as list or tuple. Support for non-sequence iterables such as generators is deprecated as of NumPy 1.16 and will raise an error in the future.\n",
      "/Users/timsb/miniconda3/envs/causal2020/lib/python3.7/site-packages/pylogit/choice_tools.py:703: FutureWarning: arrays to stack must be passed as a \"sequence\" type such as list or tuple. Support for non-sequence iterables such as generators is deprecated as of NumPy 1.16 and will raise an error in the future.\n",
      "Exception ignored in: <function tqdm.__del__ at 0x7fe05909bcb0>\n",
      "Traceback (most recent call last):\n",
      "  File \"/Users/timsb/miniconda3/envs/causal2020/lib/python3.7/site-packages/tqdm/std.py\", line 1124, in __del__\n",
      "    self.close()\n",
      "  File \"/Users/timsb/miniconda3/envs/causal2020/lib/python3.7/site-packages/tqdm/notebook.py\", line 271, in close\n",
      "    self.sp(bar_style='danger')\n",
      "AttributeError: 'tqdm_notebook' object has no attribute 'sp'\n",
      "/Users/timsb/miniconda3/envs/causal2020/lib/python3.7/site-packages/pylogit/choice_tools.py:703: FutureWarning: arrays to stack must be passed as a \"sequence\" type such as list or tuple. Support for non-sequence iterables such as generators is deprecated as of NumPy 1.16 and will raise an error in the future.\n",
      "/Users/timsb/miniconda3/envs/causal2020/lib/python3.7/site-packages/pylogit/choice_tools.py:703: FutureWarning: arrays to stack must be passed as a \"sequence\" type such as list or tuple. Support for non-sequence iterables such as generators is deprecated as of NumPy 1.16 and will raise an error in the future.\n",
      "/Users/timsb/miniconda3/envs/causal2020/lib/python3.7/site-packages/pylogit/choice_tools.py:703: FutureWarning: arrays to stack must be passed as a \"sequence\" type such as list or tuple. Support for non-sequence iterables such as generators is deprecated as of NumPy 1.16 and will raise an error in the future.\n",
      "\n",
      "Simulating Choices:   0%|          | 0/3383 [00:00<?, ?it/s]\u001b[A"
     ]
    },
    {
     "name": "stdout",
     "output_type": "stream",
     "text": [
      "Converting data from wide to long...\n",
      "Simulating Choices...\n"
     ]
    },
    {
     "name": "stderr",
     "output_type": "stream",
     "text": [
      "Simulating Choices: 100%|██████████| 3383/3383 [00:00<00:00, 34421.07it/s]\n",
      "/Users/timsb/miniconda3/envs/causal2020/lib/python3.7/site-packages/pylogit/choice_tools.py:703: FutureWarning: arrays to stack must be passed as a \"sequence\" type such as list or tuple. Support for non-sequence iterables such as generators is deprecated as of NumPy 1.16 and will raise an error in the future.\n"
     ]
    },
    {
     "name": "stdout",
     "output_type": "stream",
     "text": [
      "Estimating the choice model...\n",
      "Estimating Causal Effects...\n"
     ]
    },
    {
     "name": "stderr",
     "output_type": "stream",
     "text": [
      "/Users/timsb/miniconda3/envs/causal2020/lib/python3.7/site-packages/pylogit/choice_tools.py:703: FutureWarning: arrays to stack must be passed as a \"sequence\" type such as list or tuple. Support for non-sequence iterables such as generators is deprecated as of NumPy 1.16 and will raise an error in the future.\n",
      "/Users/timsb/miniconda3/envs/causal2020/lib/python3.7/site-packages/pylogit/choice_tools.py:703: FutureWarning: arrays to stack must be passed as a \"sequence\" type such as list or tuple. Support for non-sequence iterables such as generators is deprecated as of NumPy 1.16 and will raise an error in the future.\n",
      "Exception ignored in: <function tqdm.__del__ at 0x7fe05909bcb0>\n",
      "Traceback (most recent call last):\n",
      "  File \"/Users/timsb/miniconda3/envs/causal2020/lib/python3.7/site-packages/tqdm/std.py\", line 1124, in __del__\n",
      "    self.close()\n",
      "  File \"/Users/timsb/miniconda3/envs/causal2020/lib/python3.7/site-packages/tqdm/notebook.py\", line 271, in close\n",
      "    self.sp(bar_style='danger')\n",
      "AttributeError: 'tqdm_notebook' object has no attribute 'sp'\n",
      "/Users/timsb/miniconda3/envs/causal2020/lib/python3.7/site-packages/pylogit/choice_tools.py:703: FutureWarning: arrays to stack must be passed as a \"sequence\" type such as list or tuple. Support for non-sequence iterables such as generators is deprecated as of NumPy 1.16 and will raise an error in the future.\n",
      "/Users/timsb/miniconda3/envs/causal2020/lib/python3.7/site-packages/pylogit/choice_tools.py:703: FutureWarning: arrays to stack must be passed as a \"sequence\" type such as list or tuple. Support for non-sequence iterables such as generators is deprecated as of NumPy 1.16 and will raise an error in the future.\n"
     ]
    },
    {
     "name": "stdout",
     "output_type": "stream",
     "text": [
      "Simulation number 161 is complete!\n",
      "==========================================\n",
      "==========================================\n",
      "Simulation number 162 of 200 is in progress...\n",
      "Simulation size is 3283\n",
      "------------------------------------------\n",
      "Simulating data...\n",
      "Simulating Availability...\n"
     ]
    },
    {
     "name": "stderr",
     "output_type": "stream",
     "text": [
      "/Users/timsb/miniconda3/envs/causal2020/lib/python3.7/site-packages/pylogit/choice_tools.py:703: FutureWarning: arrays to stack must be passed as a \"sequence\" type such as list or tuple. Support for non-sequence iterables such as generators is deprecated as of NumPy 1.16 and will raise an error in the future.\n",
      "\n",
      "Simulating Choices:   0%|          | 0/3283 [00:00<?, ?it/s]\u001b[A"
     ]
    },
    {
     "name": "stdout",
     "output_type": "stream",
     "text": [
      "Converting data from wide to long...\n",
      "Simulating Choices...\n"
     ]
    },
    {
     "name": "stderr",
     "output_type": "stream",
     "text": [
      "Simulating Choices: 100%|██████████| 3283/3283 [00:00<00:00, 35540.27it/s]\n",
      "/Users/timsb/miniconda3/envs/causal2020/lib/python3.7/site-packages/pylogit/choice_tools.py:703: FutureWarning: arrays to stack must be passed as a \"sequence\" type such as list or tuple. Support for non-sequence iterables such as generators is deprecated as of NumPy 1.16 and will raise an error in the future.\n"
     ]
    },
    {
     "name": "stdout",
     "output_type": "stream",
     "text": [
      "Estimating the choice model...\n",
      "Estimating Causal Effects...\n"
     ]
    },
    {
     "name": "stderr",
     "output_type": "stream",
     "text": [
      "/Users/timsb/miniconda3/envs/causal2020/lib/python3.7/site-packages/pylogit/choice_tools.py:703: FutureWarning: arrays to stack must be passed as a \"sequence\" type such as list or tuple. Support for non-sequence iterables such as generators is deprecated as of NumPy 1.16 and will raise an error in the future.\n",
      "/Users/timsb/miniconda3/envs/causal2020/lib/python3.7/site-packages/pylogit/choice_tools.py:703: FutureWarning: arrays to stack must be passed as a \"sequence\" type such as list or tuple. Support for non-sequence iterables such as generators is deprecated as of NumPy 1.16 and will raise an error in the future.\n",
      "Exception ignored in: <function tqdm.__del__ at 0x7fe05909bcb0>\n",
      "Traceback (most recent call last):\n",
      "  File \"/Users/timsb/miniconda3/envs/causal2020/lib/python3.7/site-packages/tqdm/std.py\", line 1124, in __del__\n",
      "    self.close()\n",
      "  File \"/Users/timsb/miniconda3/envs/causal2020/lib/python3.7/site-packages/tqdm/notebook.py\", line 271, in close\n",
      "    self.sp(bar_style='danger')\n",
      "AttributeError: 'tqdm_notebook' object has no attribute 'sp'\n",
      "/Users/timsb/miniconda3/envs/causal2020/lib/python3.7/site-packages/pylogit/choice_tools.py:703: FutureWarning: arrays to stack must be passed as a \"sequence\" type such as list or tuple. Support for non-sequence iterables such as generators is deprecated as of NumPy 1.16 and will raise an error in the future.\n",
      "/Users/timsb/miniconda3/envs/causal2020/lib/python3.7/site-packages/pylogit/choice_tools.py:703: FutureWarning: arrays to stack must be passed as a \"sequence\" type such as list or tuple. Support for non-sequence iterables such as generators is deprecated as of NumPy 1.16 and will raise an error in the future.\n"
     ]
    },
    {
     "name": "stdout",
     "output_type": "stream",
     "text": [
      "Simulation number 162 is complete!\n",
      "==========================================\n",
      "==========================================\n",
      "Simulation number 163 of 200 is in progress...\n",
      "Simulation size is 3787\n",
      "------------------------------------------\n",
      "Simulating data...\n",
      "Simulating Availability...\n"
     ]
    },
    {
     "name": "stderr",
     "output_type": "stream",
     "text": [
      "/Users/timsb/miniconda3/envs/causal2020/lib/python3.7/site-packages/pylogit/choice_tools.py:703: FutureWarning: arrays to stack must be passed as a \"sequence\" type such as list or tuple. Support for non-sequence iterables such as generators is deprecated as of NumPy 1.16 and will raise an error in the future.\n",
      "\n",
      "Simulating Choices:   0%|          | 0/3787 [00:00<?, ?it/s]\u001b[A"
     ]
    },
    {
     "name": "stdout",
     "output_type": "stream",
     "text": [
      "Converting data from wide to long...\n",
      "Simulating Choices...\n"
     ]
    },
    {
     "name": "stderr",
     "output_type": "stream",
     "text": [
      "\n",
      "Simulating Choices: 100%|██████████| 3787/3787 [00:00<00:00, 34838.31it/s]\u001b[A\n",
      "/Users/timsb/miniconda3/envs/causal2020/lib/python3.7/site-packages/pylogit/choice_tools.py:703: FutureWarning: arrays to stack must be passed as a \"sequence\" type such as list or tuple. Support for non-sequence iterables such as generators is deprecated as of NumPy 1.16 and will raise an error in the future.\n"
     ]
    },
    {
     "name": "stdout",
     "output_type": "stream",
     "text": [
      "Estimating the choice model...\n",
      "Estimating Causal Effects...\n",
      "Simulation number 163 is complete!\n",
      "==========================================\n",
      "==========================================\n",
      "Simulation number 164 of 200 is in progress...\n",
      "Simulation size is 3656\n",
      "------------------------------------------\n",
      "Simulating data...\n",
      "Simulating Availability...\n"
     ]
    },
    {
     "name": "stderr",
     "output_type": "stream",
     "text": [
      "/Users/timsb/miniconda3/envs/causal2020/lib/python3.7/site-packages/pylogit/choice_tools.py:703: FutureWarning: arrays to stack must be passed as a \"sequence\" type such as list or tuple. Support for non-sequence iterables such as generators is deprecated as of NumPy 1.16 and will raise an error in the future.\n",
      "/Users/timsb/miniconda3/envs/causal2020/lib/python3.7/site-packages/pylogit/choice_tools.py:703: FutureWarning: arrays to stack must be passed as a \"sequence\" type such as list or tuple. Support for non-sequence iterables such as generators is deprecated as of NumPy 1.16 and will raise an error in the future.\n",
      "Exception ignored in: <function tqdm.__del__ at 0x7fe05909bcb0>\n",
      "Traceback (most recent call last):\n",
      "  File \"/Users/timsb/miniconda3/envs/causal2020/lib/python3.7/site-packages/tqdm/std.py\", line 1124, in __del__\n",
      "    self.close()\n",
      "  File \"/Users/timsb/miniconda3/envs/causal2020/lib/python3.7/site-packages/tqdm/notebook.py\", line 271, in close\n",
      "    self.sp(bar_style='danger')\n",
      "AttributeError: 'tqdm_notebook' object has no attribute 'sp'\n",
      "/Users/timsb/miniconda3/envs/causal2020/lib/python3.7/site-packages/pylogit/choice_tools.py:703: FutureWarning: arrays to stack must be passed as a \"sequence\" type such as list or tuple. Support for non-sequence iterables such as generators is deprecated as of NumPy 1.16 and will raise an error in the future.\n",
      "/Users/timsb/miniconda3/envs/causal2020/lib/python3.7/site-packages/pylogit/choice_tools.py:703: FutureWarning: arrays to stack must be passed as a \"sequence\" type such as list or tuple. Support for non-sequence iterables such as generators is deprecated as of NumPy 1.16 and will raise an error in the future.\n",
      "/Users/timsb/miniconda3/envs/causal2020/lib/python3.7/site-packages/pylogit/choice_tools.py:703: FutureWarning: arrays to stack must be passed as a \"sequence\" type such as list or tuple. Support for non-sequence iterables such as generators is deprecated as of NumPy 1.16 and will raise an error in the future.\n",
      "\n",
      "Simulating Choices:   0%|          | 0/3656 [00:00<?, ?it/s]\u001b[A"
     ]
    },
    {
     "name": "stdout",
     "output_type": "stream",
     "text": [
      "Converting data from wide to long...\n",
      "Simulating Choices...\n"
     ]
    },
    {
     "name": "stderr",
     "output_type": "stream",
     "text": [
      "\n",
      "Simulating Choices: 100%|██████████| 3656/3656 [00:00<00:00, 34945.84it/s]\u001b[A\n",
      "/Users/timsb/miniconda3/envs/causal2020/lib/python3.7/site-packages/pylogit/choice_tools.py:703: FutureWarning: arrays to stack must be passed as a \"sequence\" type such as list or tuple. Support for non-sequence iterables such as generators is deprecated as of NumPy 1.16 and will raise an error in the future.\n"
     ]
    },
    {
     "name": "stdout",
     "output_type": "stream",
     "text": [
      "Estimating the choice model...\n",
      "Estimating Causal Effects...\n",
      "Simulation number 164 is complete!\n",
      "==========================================\n",
      "==========================================\n",
      "Simulation number 165 of 200 is in progress...\n",
      "Simulation size is 3098\n",
      "------------------------------------------\n",
      "Simulating data...\n",
      "Simulating Availability...\n"
     ]
    },
    {
     "name": "stderr",
     "output_type": "stream",
     "text": [
      "/Users/timsb/miniconda3/envs/causal2020/lib/python3.7/site-packages/pylogit/choice_tools.py:703: FutureWarning: arrays to stack must be passed as a \"sequence\" type such as list or tuple. Support for non-sequence iterables such as generators is deprecated as of NumPy 1.16 and will raise an error in the future.\n",
      "/Users/timsb/miniconda3/envs/causal2020/lib/python3.7/site-packages/pylogit/choice_tools.py:703: FutureWarning: arrays to stack must be passed as a \"sequence\" type such as list or tuple. Support for non-sequence iterables such as generators is deprecated as of NumPy 1.16 and will raise an error in the future.\n",
      "Exception ignored in: <function tqdm.__del__ at 0x7fe05909bcb0>\n",
      "Traceback (most recent call last):\n",
      "  File \"/Users/timsb/miniconda3/envs/causal2020/lib/python3.7/site-packages/tqdm/std.py\", line 1124, in __del__\n",
      "    self.close()\n",
      "  File \"/Users/timsb/miniconda3/envs/causal2020/lib/python3.7/site-packages/tqdm/notebook.py\", line 271, in close\n",
      "    self.sp(bar_style='danger')\n",
      "AttributeError: 'tqdm_notebook' object has no attribute 'sp'\n",
      "/Users/timsb/miniconda3/envs/causal2020/lib/python3.7/site-packages/pylogit/choice_tools.py:703: FutureWarning: arrays to stack must be passed as a \"sequence\" type such as list or tuple. Support for non-sequence iterables such as generators is deprecated as of NumPy 1.16 and will raise an error in the future.\n",
      "/Users/timsb/miniconda3/envs/causal2020/lib/python3.7/site-packages/pylogit/choice_tools.py:703: FutureWarning: arrays to stack must be passed as a \"sequence\" type such as list or tuple. Support for non-sequence iterables such as generators is deprecated as of NumPy 1.16 and will raise an error in the future.\n",
      "/Users/timsb/miniconda3/envs/causal2020/lib/python3.7/site-packages/pylogit/choice_tools.py:703: FutureWarning: arrays to stack must be passed as a \"sequence\" type such as list or tuple. Support for non-sequence iterables such as generators is deprecated as of NumPy 1.16 and will raise an error in the future.\n",
      "\n",
      "Simulating Choices:   0%|          | 0/3098 [00:00<?, ?it/s]\u001b[A"
     ]
    },
    {
     "name": "stdout",
     "output_type": "stream",
     "text": [
      "Converting data from wide to long...\n",
      "Simulating Choices...\n"
     ]
    },
    {
     "name": "stderr",
     "output_type": "stream",
     "text": [
      "Simulating Choices: 100%|██████████| 3098/3098 [00:00<00:00, 33619.54it/s]\n",
      "/Users/timsb/miniconda3/envs/causal2020/lib/python3.7/site-packages/pylogit/choice_tools.py:703: FutureWarning: arrays to stack must be passed as a \"sequence\" type such as list or tuple. Support for non-sequence iterables such as generators is deprecated as of NumPy 1.16 and will raise an error in the future.\n"
     ]
    },
    {
     "name": "stdout",
     "output_type": "stream",
     "text": [
      "Estimating the choice model...\n",
      "Estimating Causal Effects...\n",
      "Simulation number 165 is complete!\n",
      "==========================================\n",
      "==========================================\n",
      "Simulation number 166 of 200 is in progress...\n",
      "Simulation size is 3425\n",
      "------------------------------------------\n",
      "Simulating data...\n",
      "Simulating Availability...\n"
     ]
    },
    {
     "name": "stderr",
     "output_type": "stream",
     "text": [
      "/Users/timsb/miniconda3/envs/causal2020/lib/python3.7/site-packages/pylogit/choice_tools.py:703: FutureWarning: arrays to stack must be passed as a \"sequence\" type such as list or tuple. Support for non-sequence iterables such as generators is deprecated as of NumPy 1.16 and will raise an error in the future.\n",
      "/Users/timsb/miniconda3/envs/causal2020/lib/python3.7/site-packages/pylogit/choice_tools.py:703: FutureWarning: arrays to stack must be passed as a \"sequence\" type such as list or tuple. Support for non-sequence iterables such as generators is deprecated as of NumPy 1.16 and will raise an error in the future.\n",
      "Exception ignored in: <function tqdm.__del__ at 0x7fe05909bcb0>\n",
      "Traceback (most recent call last):\n",
      "  File \"/Users/timsb/miniconda3/envs/causal2020/lib/python3.7/site-packages/tqdm/std.py\", line 1124, in __del__\n",
      "    self.close()\n",
      "  File \"/Users/timsb/miniconda3/envs/causal2020/lib/python3.7/site-packages/tqdm/notebook.py\", line 271, in close\n",
      "    self.sp(bar_style='danger')\n",
      "AttributeError: 'tqdm_notebook' object has no attribute 'sp'\n",
      "/Users/timsb/miniconda3/envs/causal2020/lib/python3.7/site-packages/pylogit/choice_tools.py:703: FutureWarning: arrays to stack must be passed as a \"sequence\" type such as list or tuple. Support for non-sequence iterables such as generators is deprecated as of NumPy 1.16 and will raise an error in the future.\n",
      "/Users/timsb/miniconda3/envs/causal2020/lib/python3.7/site-packages/pylogit/choice_tools.py:703: FutureWarning: arrays to stack must be passed as a \"sequence\" type such as list or tuple. Support for non-sequence iterables such as generators is deprecated as of NumPy 1.16 and will raise an error in the future.\n",
      "/Users/timsb/miniconda3/envs/causal2020/lib/python3.7/site-packages/pylogit/choice_tools.py:703: FutureWarning: arrays to stack must be passed as a \"sequence\" type such as list or tuple. Support for non-sequence iterables such as generators is deprecated as of NumPy 1.16 and will raise an error in the future.\n",
      "\n",
      "Simulating Choices:   0%|          | 0/3425 [00:00<?, ?it/s]\u001b[A"
     ]
    },
    {
     "name": "stdout",
     "output_type": "stream",
     "text": [
      "Converting data from wide to long...\n",
      "Simulating Choices...\n"
     ]
    },
    {
     "name": "stderr",
     "output_type": "stream",
     "text": [
      "Simulating Choices: 100%|██████████| 3425/3425 [00:00<00:00, 35085.79it/s]\n",
      "/Users/timsb/miniconda3/envs/causal2020/lib/python3.7/site-packages/pylogit/choice_tools.py:703: FutureWarning: arrays to stack must be passed as a \"sequence\" type such as list or tuple. Support for non-sequence iterables such as generators is deprecated as of NumPy 1.16 and will raise an error in the future.\n"
     ]
    },
    {
     "name": "stdout",
     "output_type": "stream",
     "text": [
      "Estimating the choice model...\n",
      "Estimating Causal Effects...\n",
      "Simulation number 166 is complete!\n",
      "==========================================\n",
      "==========================================\n",
      "Simulation number 167 of 200 is in progress...\n",
      "Simulation size is 3317\n",
      "------------------------------------------\n",
      "Simulating data...\n",
      "Simulating Availability...\n"
     ]
    },
    {
     "name": "stderr",
     "output_type": "stream",
     "text": [
      "/Users/timsb/miniconda3/envs/causal2020/lib/python3.7/site-packages/pylogit/choice_tools.py:703: FutureWarning: arrays to stack must be passed as a \"sequence\" type such as list or tuple. Support for non-sequence iterables such as generators is deprecated as of NumPy 1.16 and will raise an error in the future.\n",
      "/Users/timsb/miniconda3/envs/causal2020/lib/python3.7/site-packages/pylogit/choice_tools.py:703: FutureWarning: arrays to stack must be passed as a \"sequence\" type such as list or tuple. Support for non-sequence iterables such as generators is deprecated as of NumPy 1.16 and will raise an error in the future.\n",
      "Exception ignored in: <function tqdm.__del__ at 0x7fe05909bcb0>\n",
      "Traceback (most recent call last):\n",
      "  File \"/Users/timsb/miniconda3/envs/causal2020/lib/python3.7/site-packages/tqdm/std.py\", line 1124, in __del__\n",
      "    self.close()\n",
      "  File \"/Users/timsb/miniconda3/envs/causal2020/lib/python3.7/site-packages/tqdm/notebook.py\", line 271, in close\n",
      "    self.sp(bar_style='danger')\n",
      "AttributeError: 'tqdm_notebook' object has no attribute 'sp'\n",
      "/Users/timsb/miniconda3/envs/causal2020/lib/python3.7/site-packages/pylogit/choice_tools.py:703: FutureWarning: arrays to stack must be passed as a \"sequence\" type such as list or tuple. Support for non-sequence iterables such as generators is deprecated as of NumPy 1.16 and will raise an error in the future.\n",
      "/Users/timsb/miniconda3/envs/causal2020/lib/python3.7/site-packages/pylogit/choice_tools.py:703: FutureWarning: arrays to stack must be passed as a \"sequence\" type such as list or tuple. Support for non-sequence iterables such as generators is deprecated as of NumPy 1.16 and will raise an error in the future.\n",
      "/Users/timsb/miniconda3/envs/causal2020/lib/python3.7/site-packages/pylogit/choice_tools.py:703: FutureWarning: arrays to stack must be passed as a \"sequence\" type such as list or tuple. Support for non-sequence iterables such as generators is deprecated as of NumPy 1.16 and will raise an error in the future.\n",
      "\n",
      "Simulating Choices:   0%|          | 0/3317 [00:00<?, ?it/s]\u001b[A"
     ]
    },
    {
     "name": "stdout",
     "output_type": "stream",
     "text": [
      "Converting data from wide to long...\n",
      "Simulating Choices...\n"
     ]
    },
    {
     "name": "stderr",
     "output_type": "stream",
     "text": [
      "Simulating Choices: 100%|██████████| 3317/3317 [00:00<00:00, 34493.50it/s]\n",
      "/Users/timsb/miniconda3/envs/causal2020/lib/python3.7/site-packages/pylogit/choice_tools.py:703: FutureWarning: arrays to stack must be passed as a \"sequence\" type such as list or tuple. Support for non-sequence iterables such as generators is deprecated as of NumPy 1.16 and will raise an error in the future.\n"
     ]
    },
    {
     "name": "stdout",
     "output_type": "stream",
     "text": [
      "Estimating the choice model...\n",
      "Estimating Causal Effects...\n"
     ]
    },
    {
     "name": "stderr",
     "output_type": "stream",
     "text": [
      "/Users/timsb/miniconda3/envs/causal2020/lib/python3.7/site-packages/pylogit/choice_tools.py:703: FutureWarning: arrays to stack must be passed as a \"sequence\" type such as list or tuple. Support for non-sequence iterables such as generators is deprecated as of NumPy 1.16 and will raise an error in the future.\n",
      "/Users/timsb/miniconda3/envs/causal2020/lib/python3.7/site-packages/pylogit/choice_tools.py:703: FutureWarning: arrays to stack must be passed as a \"sequence\" type such as list or tuple. Support for non-sequence iterables such as generators is deprecated as of NumPy 1.16 and will raise an error in the future.\n",
      "Exception ignored in: <function tqdm.__del__ at 0x7fe05909bcb0>\n",
      "Traceback (most recent call last):\n",
      "  File \"/Users/timsb/miniconda3/envs/causal2020/lib/python3.7/site-packages/tqdm/std.py\", line 1124, in __del__\n",
      "    self.close()\n",
      "  File \"/Users/timsb/miniconda3/envs/causal2020/lib/python3.7/site-packages/tqdm/notebook.py\", line 271, in close\n",
      "    self.sp(bar_style='danger')\n",
      "AttributeError: 'tqdm_notebook' object has no attribute 'sp'\n",
      "/Users/timsb/miniconda3/envs/causal2020/lib/python3.7/site-packages/pylogit/choice_tools.py:703: FutureWarning: arrays to stack must be passed as a \"sequence\" type such as list or tuple. Support for non-sequence iterables such as generators is deprecated as of NumPy 1.16 and will raise an error in the future.\n",
      "/Users/timsb/miniconda3/envs/causal2020/lib/python3.7/site-packages/pylogit/choice_tools.py:703: FutureWarning: arrays to stack must be passed as a \"sequence\" type such as list or tuple. Support for non-sequence iterables such as generators is deprecated as of NumPy 1.16 and will raise an error in the future.\n"
     ]
    },
    {
     "name": "stdout",
     "output_type": "stream",
     "text": [
      "Simulation number 167 is complete!\n",
      "==========================================\n",
      "==========================================\n",
      "Simulation number 168 of 200 is in progress...\n",
      "Simulation size is 3086\n",
      "------------------------------------------\n",
      "Simulating data...\n",
      "Simulating Availability...\n"
     ]
    },
    {
     "name": "stderr",
     "output_type": "stream",
     "text": [
      "/Users/timsb/miniconda3/envs/causal2020/lib/python3.7/site-packages/pylogit/choice_tools.py:703: FutureWarning: arrays to stack must be passed as a \"sequence\" type such as list or tuple. Support for non-sequence iterables such as generators is deprecated as of NumPy 1.16 and will raise an error in the future.\n",
      "\n",
      "Simulating Choices:   0%|          | 0/3086 [00:00<?, ?it/s]\u001b[A"
     ]
    },
    {
     "name": "stdout",
     "output_type": "stream",
     "text": [
      "Converting data from wide to long...\n",
      "Simulating Choices...\n"
     ]
    },
    {
     "name": "stderr",
     "output_type": "stream",
     "text": [
      "Simulating Choices: 100%|██████████| 3086/3086 [00:00<00:00, 36026.16it/s]\n",
      "/Users/timsb/miniconda3/envs/causal2020/lib/python3.7/site-packages/pylogit/choice_tools.py:703: FutureWarning: arrays to stack must be passed as a \"sequence\" type such as list or tuple. Support for non-sequence iterables such as generators is deprecated as of NumPy 1.16 and will raise an error in the future.\n",
      "/Users/timsb/miniconda3/envs/causal2020/lib/python3.7/site-packages/pylogit/choice_tools.py:703: FutureWarning: arrays to stack must be passed as a \"sequence\" type such as list or tuple. Support for non-sequence iterables such as generators is deprecated as of NumPy 1.16 and will raise an error in the future.\n"
     ]
    },
    {
     "name": "stdout",
     "output_type": "stream",
     "text": [
      "Estimating the choice model...\n",
      "Estimating Causal Effects...\n"
     ]
    },
    {
     "name": "stderr",
     "output_type": "stream",
     "text": [
      "/Users/timsb/miniconda3/envs/causal2020/lib/python3.7/site-packages/pylogit/choice_tools.py:703: FutureWarning: arrays to stack must be passed as a \"sequence\" type such as list or tuple. Support for non-sequence iterables such as generators is deprecated as of NumPy 1.16 and will raise an error in the future.\n",
      "Exception ignored in: <function tqdm.__del__ at 0x7fe05909bcb0>\n",
      "Traceback (most recent call last):\n",
      "  File \"/Users/timsb/miniconda3/envs/causal2020/lib/python3.7/site-packages/tqdm/std.py\", line 1124, in __del__\n",
      "    self.close()\n",
      "  File \"/Users/timsb/miniconda3/envs/causal2020/lib/python3.7/site-packages/tqdm/notebook.py\", line 271, in close\n",
      "    self.sp(bar_style='danger')\n",
      "AttributeError: 'tqdm_notebook' object has no attribute 'sp'\n",
      "/Users/timsb/miniconda3/envs/causal2020/lib/python3.7/site-packages/pylogit/choice_tools.py:703: FutureWarning: arrays to stack must be passed as a \"sequence\" type such as list or tuple. Support for non-sequence iterables such as generators is deprecated as of NumPy 1.16 and will raise an error in the future.\n",
      "/Users/timsb/miniconda3/envs/causal2020/lib/python3.7/site-packages/pylogit/choice_tools.py:703: FutureWarning: arrays to stack must be passed as a \"sequence\" type such as list or tuple. Support for non-sequence iterables such as generators is deprecated as of NumPy 1.16 and will raise an error in the future.\n"
     ]
    },
    {
     "name": "stdout",
     "output_type": "stream",
     "text": [
      "Simulation number 168 is complete!\n",
      "==========================================\n",
      "==========================================\n",
      "Simulation number 169 of 200 is in progress...\n",
      "Simulation size is 3675\n",
      "------------------------------------------\n",
      "Simulating data...\n",
      "Simulating Availability...\n"
     ]
    },
    {
     "name": "stderr",
     "output_type": "stream",
     "text": [
      "/Users/timsb/miniconda3/envs/causal2020/lib/python3.7/site-packages/pylogit/choice_tools.py:703: FutureWarning: arrays to stack must be passed as a \"sequence\" type such as list or tuple. Support for non-sequence iterables such as generators is deprecated as of NumPy 1.16 and will raise an error in the future.\n",
      "\n",
      "Simulating Choices:   0%|          | 0/3675 [00:00<?, ?it/s]\u001b[A"
     ]
    },
    {
     "name": "stdout",
     "output_type": "stream",
     "text": [
      "Converting data from wide to long...\n",
      "Simulating Choices...\n"
     ]
    },
    {
     "name": "stderr",
     "output_type": "stream",
     "text": [
      "Simulating Choices: 100%|██████████| 3675/3675 [00:00<00:00, 36801.89it/s]\n",
      "/Users/timsb/miniconda3/envs/causal2020/lib/python3.7/site-packages/pylogit/choice_tools.py:703: FutureWarning: arrays to stack must be passed as a \"sequence\" type such as list or tuple. Support for non-sequence iterables such as generators is deprecated as of NumPy 1.16 and will raise an error in the future.\n"
     ]
    },
    {
     "name": "stdout",
     "output_type": "stream",
     "text": [
      "Estimating the choice model...\n",
      "Estimating Causal Effects...\n",
      "Simulation number 169 is complete!\n",
      "==========================================\n",
      "==========================================\n",
      "Simulation number 170 of 200 is in progress...\n",
      "Simulation size is 3378\n",
      "------------------------------------------\n",
      "Simulating data...\n",
      "Simulating Availability...\n"
     ]
    },
    {
     "name": "stderr",
     "output_type": "stream",
     "text": [
      "/Users/timsb/miniconda3/envs/causal2020/lib/python3.7/site-packages/pylogit/choice_tools.py:703: FutureWarning: arrays to stack must be passed as a \"sequence\" type such as list or tuple. Support for non-sequence iterables such as generators is deprecated as of NumPy 1.16 and will raise an error in the future.\n",
      "/Users/timsb/miniconda3/envs/causal2020/lib/python3.7/site-packages/pylogit/choice_tools.py:703: FutureWarning: arrays to stack must be passed as a \"sequence\" type such as list or tuple. Support for non-sequence iterables such as generators is deprecated as of NumPy 1.16 and will raise an error in the future.\n",
      "Exception ignored in: <function tqdm.__del__ at 0x7fe05909bcb0>\n",
      "Traceback (most recent call last):\n",
      "  File \"/Users/timsb/miniconda3/envs/causal2020/lib/python3.7/site-packages/tqdm/std.py\", line 1124, in __del__\n",
      "    self.close()\n",
      "  File \"/Users/timsb/miniconda3/envs/causal2020/lib/python3.7/site-packages/tqdm/notebook.py\", line 271, in close\n",
      "    self.sp(bar_style='danger')\n",
      "AttributeError: 'tqdm_notebook' object has no attribute 'sp'\n",
      "/Users/timsb/miniconda3/envs/causal2020/lib/python3.7/site-packages/pylogit/choice_tools.py:703: FutureWarning: arrays to stack must be passed as a \"sequence\" type such as list or tuple. Support for non-sequence iterables such as generators is deprecated as of NumPy 1.16 and will raise an error in the future.\n",
      "/Users/timsb/miniconda3/envs/causal2020/lib/python3.7/site-packages/pylogit/choice_tools.py:703: FutureWarning: arrays to stack must be passed as a \"sequence\" type such as list or tuple. Support for non-sequence iterables such as generators is deprecated as of NumPy 1.16 and will raise an error in the future.\n",
      "/Users/timsb/miniconda3/envs/causal2020/lib/python3.7/site-packages/pylogit/choice_tools.py:703: FutureWarning: arrays to stack must be passed as a \"sequence\" type such as list or tuple. Support for non-sequence iterables such as generators is deprecated as of NumPy 1.16 and will raise an error in the future.\n",
      "\n",
      "Simulating Choices:   0%|          | 0/3378 [00:00<?, ?it/s]\u001b[A"
     ]
    },
    {
     "name": "stdout",
     "output_type": "stream",
     "text": [
      "Converting data from wide to long...\n",
      "Simulating Choices...\n"
     ]
    },
    {
     "name": "stderr",
     "output_type": "stream",
     "text": [
      "Simulating Choices: 100%|██████████| 3378/3378 [00:00<00:00, 35450.94it/s]\n",
      "/Users/timsb/miniconda3/envs/causal2020/lib/python3.7/site-packages/pylogit/choice_tools.py:703: FutureWarning: arrays to stack must be passed as a \"sequence\" type such as list or tuple. Support for non-sequence iterables such as generators is deprecated as of NumPy 1.16 and will raise an error in the future.\n"
     ]
    },
    {
     "name": "stdout",
     "output_type": "stream",
     "text": [
      "Estimating the choice model...\n",
      "Estimating Causal Effects...\n",
      "Simulation number 170 is complete!\n",
      "==========================================\n",
      "==========================================\n",
      "Simulation number 171 of 200 is in progress...\n",
      "Simulation size is 3533\n",
      "------------------------------------------\n",
      "Simulating data...\n",
      "Simulating Availability...\n"
     ]
    },
    {
     "name": "stderr",
     "output_type": "stream",
     "text": [
      "/Users/timsb/miniconda3/envs/causal2020/lib/python3.7/site-packages/pylogit/choice_tools.py:703: FutureWarning: arrays to stack must be passed as a \"sequence\" type such as list or tuple. Support for non-sequence iterables such as generators is deprecated as of NumPy 1.16 and will raise an error in the future.\n",
      "/Users/timsb/miniconda3/envs/causal2020/lib/python3.7/site-packages/pylogit/choice_tools.py:703: FutureWarning: arrays to stack must be passed as a \"sequence\" type such as list or tuple. Support for non-sequence iterables such as generators is deprecated as of NumPy 1.16 and will raise an error in the future.\n",
      "Exception ignored in: <function tqdm.__del__ at 0x7fe05909bcb0>\n",
      "Traceback (most recent call last):\n",
      "  File \"/Users/timsb/miniconda3/envs/causal2020/lib/python3.7/site-packages/tqdm/std.py\", line 1124, in __del__\n",
      "    self.close()\n",
      "  File \"/Users/timsb/miniconda3/envs/causal2020/lib/python3.7/site-packages/tqdm/notebook.py\", line 271, in close\n",
      "    self.sp(bar_style='danger')\n",
      "AttributeError: 'tqdm_notebook' object has no attribute 'sp'\n",
      "/Users/timsb/miniconda3/envs/causal2020/lib/python3.7/site-packages/pylogit/choice_tools.py:703: FutureWarning: arrays to stack must be passed as a \"sequence\" type such as list or tuple. Support for non-sequence iterables such as generators is deprecated as of NumPy 1.16 and will raise an error in the future.\n",
      "/Users/timsb/miniconda3/envs/causal2020/lib/python3.7/site-packages/pylogit/choice_tools.py:703: FutureWarning: arrays to stack must be passed as a \"sequence\" type such as list or tuple. Support for non-sequence iterables such as generators is deprecated as of NumPy 1.16 and will raise an error in the future.\n",
      "/Users/timsb/miniconda3/envs/causal2020/lib/python3.7/site-packages/pylogit/choice_tools.py:703: FutureWarning: arrays to stack must be passed as a \"sequence\" type such as list or tuple. Support for non-sequence iterables such as generators is deprecated as of NumPy 1.16 and will raise an error in the future.\n",
      "\n",
      "Simulating Choices:   0%|          | 0/3533 [00:00<?, ?it/s]\u001b[A"
     ]
    },
    {
     "name": "stdout",
     "output_type": "stream",
     "text": [
      "Converting data from wide to long...\n",
      "Simulating Choices...\n"
     ]
    },
    {
     "name": "stderr",
     "output_type": "stream",
     "text": [
      "Simulating Choices: 100%|██████████| 3533/3533 [00:00<00:00, 35560.05it/s]\n",
      "/Users/timsb/miniconda3/envs/causal2020/lib/python3.7/site-packages/pylogit/choice_tools.py:703: FutureWarning: arrays to stack must be passed as a \"sequence\" type such as list or tuple. Support for non-sequence iterables such as generators is deprecated as of NumPy 1.16 and will raise an error in the future.\n"
     ]
    },
    {
     "name": "stdout",
     "output_type": "stream",
     "text": [
      "Estimating the choice model...\n",
      "Estimating Causal Effects...\n",
      "Simulation number 171 is complete!\n",
      "==========================================\n",
      "==========================================\n",
      "Simulation number 172 of 200 is in progress...\n",
      "Simulation size is 3589\n",
      "------------------------------------------\n",
      "Simulating data...\n",
      "Simulating Availability...\n"
     ]
    },
    {
     "name": "stderr",
     "output_type": "stream",
     "text": [
      "/Users/timsb/miniconda3/envs/causal2020/lib/python3.7/site-packages/pylogit/choice_tools.py:703: FutureWarning: arrays to stack must be passed as a \"sequence\" type such as list or tuple. Support for non-sequence iterables such as generators is deprecated as of NumPy 1.16 and will raise an error in the future.\n",
      "/Users/timsb/miniconda3/envs/causal2020/lib/python3.7/site-packages/pylogit/choice_tools.py:703: FutureWarning: arrays to stack must be passed as a \"sequence\" type such as list or tuple. Support for non-sequence iterables such as generators is deprecated as of NumPy 1.16 and will raise an error in the future.\n",
      "Exception ignored in: <function tqdm.__del__ at 0x7fe05909bcb0>\n",
      "Traceback (most recent call last):\n",
      "  File \"/Users/timsb/miniconda3/envs/causal2020/lib/python3.7/site-packages/tqdm/std.py\", line 1124, in __del__\n",
      "    self.close()\n",
      "  File \"/Users/timsb/miniconda3/envs/causal2020/lib/python3.7/site-packages/tqdm/notebook.py\", line 271, in close\n",
      "    self.sp(bar_style='danger')\n",
      "AttributeError: 'tqdm_notebook' object has no attribute 'sp'\n",
      "/Users/timsb/miniconda3/envs/causal2020/lib/python3.7/site-packages/pylogit/choice_tools.py:703: FutureWarning: arrays to stack must be passed as a \"sequence\" type such as list or tuple. Support for non-sequence iterables such as generators is deprecated as of NumPy 1.16 and will raise an error in the future.\n",
      "/Users/timsb/miniconda3/envs/causal2020/lib/python3.7/site-packages/pylogit/choice_tools.py:703: FutureWarning: arrays to stack must be passed as a \"sequence\" type such as list or tuple. Support for non-sequence iterables such as generators is deprecated as of NumPy 1.16 and will raise an error in the future.\n",
      "/Users/timsb/miniconda3/envs/causal2020/lib/python3.7/site-packages/pylogit/choice_tools.py:703: FutureWarning: arrays to stack must be passed as a \"sequence\" type such as list or tuple. Support for non-sequence iterables such as generators is deprecated as of NumPy 1.16 and will raise an error in the future.\n",
      "\n",
      "Simulating Choices:   0%|          | 0/3589 [00:00<?, ?it/s]\u001b[A"
     ]
    },
    {
     "name": "stdout",
     "output_type": "stream",
     "text": [
      "Converting data from wide to long...\n",
      "Simulating Choices...\n"
     ]
    },
    {
     "name": "stderr",
     "output_type": "stream",
     "text": [
      "\n",
      "Simulating Choices: 100%|██████████| 3589/3589 [00:00<00:00, 34164.97it/s]\u001b[A\n",
      "/Users/timsb/miniconda3/envs/causal2020/lib/python3.7/site-packages/pylogit/choice_tools.py:703: FutureWarning: arrays to stack must be passed as a \"sequence\" type such as list or tuple. Support for non-sequence iterables such as generators is deprecated as of NumPy 1.16 and will raise an error in the future.\n"
     ]
    },
    {
     "name": "stdout",
     "output_type": "stream",
     "text": [
      "Estimating the choice model...\n",
      "Estimating Causal Effects...\n",
      "Simulation number 172 is complete!\n",
      "==========================================\n",
      "==========================================\n",
      "Simulation number 173 of 200 is in progress...\n",
      "Simulation size is 3662\n",
      "------------------------------------------\n",
      "Simulating data...\n",
      "Simulating Availability...\n"
     ]
    },
    {
     "name": "stderr",
     "output_type": "stream",
     "text": [
      "/Users/timsb/miniconda3/envs/causal2020/lib/python3.7/site-packages/pylogit/choice_tools.py:703: FutureWarning: arrays to stack must be passed as a \"sequence\" type such as list or tuple. Support for non-sequence iterables such as generators is deprecated as of NumPy 1.16 and will raise an error in the future.\n",
      "/Users/timsb/miniconda3/envs/causal2020/lib/python3.7/site-packages/pylogit/choice_tools.py:703: FutureWarning: arrays to stack must be passed as a \"sequence\" type such as list or tuple. Support for non-sequence iterables such as generators is deprecated as of NumPy 1.16 and will raise an error in the future.\n",
      "Exception ignored in: <function tqdm.__del__ at 0x7fe05909bcb0>\n",
      "Traceback (most recent call last):\n",
      "  File \"/Users/timsb/miniconda3/envs/causal2020/lib/python3.7/site-packages/tqdm/std.py\", line 1124, in __del__\n",
      "    self.close()\n",
      "  File \"/Users/timsb/miniconda3/envs/causal2020/lib/python3.7/site-packages/tqdm/notebook.py\", line 271, in close\n",
      "    self.sp(bar_style='danger')\n",
      "AttributeError: 'tqdm_notebook' object has no attribute 'sp'\n",
      "/Users/timsb/miniconda3/envs/causal2020/lib/python3.7/site-packages/pylogit/choice_tools.py:703: FutureWarning: arrays to stack must be passed as a \"sequence\" type such as list or tuple. Support for non-sequence iterables such as generators is deprecated as of NumPy 1.16 and will raise an error in the future.\n",
      "/Users/timsb/miniconda3/envs/causal2020/lib/python3.7/site-packages/pylogit/choice_tools.py:703: FutureWarning: arrays to stack must be passed as a \"sequence\" type such as list or tuple. Support for non-sequence iterables such as generators is deprecated as of NumPy 1.16 and will raise an error in the future.\n",
      "/Users/timsb/miniconda3/envs/causal2020/lib/python3.7/site-packages/pylogit/choice_tools.py:703: FutureWarning: arrays to stack must be passed as a \"sequence\" type such as list or tuple. Support for non-sequence iterables such as generators is deprecated as of NumPy 1.16 and will raise an error in the future.\n",
      "\n",
      "Simulating Choices:   0%|          | 0/3662 [00:00<?, ?it/s]\u001b[A"
     ]
    },
    {
     "name": "stdout",
     "output_type": "stream",
     "text": [
      "Converting data from wide to long...\n",
      "Simulating Choices...\n"
     ]
    },
    {
     "name": "stderr",
     "output_type": "stream",
     "text": [
      "\n",
      "Simulating Choices: 100%|██████████| 3662/3662 [00:00<00:00, 33400.18it/s]\u001b[A\n",
      "/Users/timsb/miniconda3/envs/causal2020/lib/python3.7/site-packages/pylogit/choice_tools.py:703: FutureWarning: arrays to stack must be passed as a \"sequence\" type such as list or tuple. Support for non-sequence iterables such as generators is deprecated as of NumPy 1.16 and will raise an error in the future.\n"
     ]
    },
    {
     "name": "stdout",
     "output_type": "stream",
     "text": [
      "Estimating the choice model...\n",
      "Estimating Causal Effects...\n",
      "Simulation number 173 is complete!\n",
      "==========================================\n",
      "==========================================\n",
      "Simulation number 174 of 200 is in progress...\n",
      "Simulation size is 3186\n",
      "------------------------------------------\n",
      "Simulating data...\n",
      "Simulating Availability...\n"
     ]
    },
    {
     "name": "stderr",
     "output_type": "stream",
     "text": [
      "/Users/timsb/miniconda3/envs/causal2020/lib/python3.7/site-packages/pylogit/choice_tools.py:703: FutureWarning: arrays to stack must be passed as a \"sequence\" type such as list or tuple. Support for non-sequence iterables such as generators is deprecated as of NumPy 1.16 and will raise an error in the future.\n",
      "/Users/timsb/miniconda3/envs/causal2020/lib/python3.7/site-packages/pylogit/choice_tools.py:703: FutureWarning: arrays to stack must be passed as a \"sequence\" type such as list or tuple. Support for non-sequence iterables such as generators is deprecated as of NumPy 1.16 and will raise an error in the future.\n",
      "Exception ignored in: <function tqdm.__del__ at 0x7fe05909bcb0>\n",
      "Traceback (most recent call last):\n",
      "  File \"/Users/timsb/miniconda3/envs/causal2020/lib/python3.7/site-packages/tqdm/std.py\", line 1124, in __del__\n",
      "    self.close()\n",
      "  File \"/Users/timsb/miniconda3/envs/causal2020/lib/python3.7/site-packages/tqdm/notebook.py\", line 271, in close\n",
      "    self.sp(bar_style='danger')\n",
      "AttributeError: 'tqdm_notebook' object has no attribute 'sp'\n",
      "/Users/timsb/miniconda3/envs/causal2020/lib/python3.7/site-packages/pylogit/choice_tools.py:703: FutureWarning: arrays to stack must be passed as a \"sequence\" type such as list or tuple. Support for non-sequence iterables such as generators is deprecated as of NumPy 1.16 and will raise an error in the future.\n",
      "/Users/timsb/miniconda3/envs/causal2020/lib/python3.7/site-packages/pylogit/choice_tools.py:703: FutureWarning: arrays to stack must be passed as a \"sequence\" type such as list or tuple. Support for non-sequence iterables such as generators is deprecated as of NumPy 1.16 and will raise an error in the future.\n",
      "/Users/timsb/miniconda3/envs/causal2020/lib/python3.7/site-packages/pylogit/choice_tools.py:703: FutureWarning: arrays to stack must be passed as a \"sequence\" type such as list or tuple. Support for non-sequence iterables such as generators is deprecated as of NumPy 1.16 and will raise an error in the future.\n",
      "\n",
      "Simulating Choices:   0%|          | 0/3186 [00:00<?, ?it/s]\u001b[A"
     ]
    },
    {
     "name": "stdout",
     "output_type": "stream",
     "text": [
      "Converting data from wide to long...\n",
      "Simulating Choices...\n"
     ]
    },
    {
     "name": "stderr",
     "output_type": "stream",
     "text": [
      "Simulating Choices: 100%|██████████| 3186/3186 [00:00<00:00, 35669.53it/s]\n",
      "/Users/timsb/miniconda3/envs/causal2020/lib/python3.7/site-packages/pylogit/choice_tools.py:703: FutureWarning: arrays to stack must be passed as a \"sequence\" type such as list or tuple. Support for non-sequence iterables such as generators is deprecated as of NumPy 1.16 and will raise an error in the future.\n"
     ]
    },
    {
     "name": "stdout",
     "output_type": "stream",
     "text": [
      "Estimating the choice model...\n",
      "Estimating Causal Effects...\n",
      "Simulation number 174 is complete!\n",
      "==========================================\n",
      "==========================================\n",
      "Simulation number 175 of 200 is in progress...\n",
      "Simulation size is 3058\n",
      "------------------------------------------\n",
      "Simulating data...\n",
      "Simulating Availability...\n"
     ]
    },
    {
     "name": "stderr",
     "output_type": "stream",
     "text": [
      "/Users/timsb/miniconda3/envs/causal2020/lib/python3.7/site-packages/pylogit/choice_tools.py:703: FutureWarning: arrays to stack must be passed as a \"sequence\" type such as list or tuple. Support for non-sequence iterables such as generators is deprecated as of NumPy 1.16 and will raise an error in the future.\n",
      "/Users/timsb/miniconda3/envs/causal2020/lib/python3.7/site-packages/pylogit/choice_tools.py:703: FutureWarning: arrays to stack must be passed as a \"sequence\" type such as list or tuple. Support for non-sequence iterables such as generators is deprecated as of NumPy 1.16 and will raise an error in the future.\n",
      "Exception ignored in: <function tqdm.__del__ at 0x7fe05909bcb0>\n",
      "Traceback (most recent call last):\n",
      "  File \"/Users/timsb/miniconda3/envs/causal2020/lib/python3.7/site-packages/tqdm/std.py\", line 1124, in __del__\n",
      "    self.close()\n",
      "  File \"/Users/timsb/miniconda3/envs/causal2020/lib/python3.7/site-packages/tqdm/notebook.py\", line 271, in close\n",
      "    self.sp(bar_style='danger')\n",
      "AttributeError: 'tqdm_notebook' object has no attribute 'sp'\n",
      "/Users/timsb/miniconda3/envs/causal2020/lib/python3.7/site-packages/pylogit/choice_tools.py:703: FutureWarning: arrays to stack must be passed as a \"sequence\" type such as list or tuple. Support for non-sequence iterables such as generators is deprecated as of NumPy 1.16 and will raise an error in the future.\n",
      "/Users/timsb/miniconda3/envs/causal2020/lib/python3.7/site-packages/pylogit/choice_tools.py:703: FutureWarning: arrays to stack must be passed as a \"sequence\" type such as list or tuple. Support for non-sequence iterables such as generators is deprecated as of NumPy 1.16 and will raise an error in the future.\n",
      "/Users/timsb/miniconda3/envs/causal2020/lib/python3.7/site-packages/pylogit/choice_tools.py:703: FutureWarning: arrays to stack must be passed as a \"sequence\" type such as list or tuple. Support for non-sequence iterables such as generators is deprecated as of NumPy 1.16 and will raise an error in the future.\n",
      "\n",
      "Simulating Choices:   0%|          | 0/3058 [00:00<?, ?it/s]\u001b[A"
     ]
    },
    {
     "name": "stdout",
     "output_type": "stream",
     "text": [
      "Converting data from wide to long...\n",
      "Simulating Choices...\n"
     ]
    },
    {
     "name": "stderr",
     "output_type": "stream",
     "text": [
      "Simulating Choices: 100%|██████████| 3058/3058 [00:00<00:00, 34295.61it/s]\n",
      "/Users/timsb/miniconda3/envs/causal2020/lib/python3.7/site-packages/pylogit/choice_tools.py:703: FutureWarning: arrays to stack must be passed as a \"sequence\" type such as list or tuple. Support for non-sequence iterables such as generators is deprecated as of NumPy 1.16 and will raise an error in the future.\n",
      "/Users/timsb/miniconda3/envs/causal2020/lib/python3.7/site-packages/pylogit/choice_tools.py:703: FutureWarning: arrays to stack must be passed as a \"sequence\" type such as list or tuple. Support for non-sequence iterables such as generators is deprecated as of NumPy 1.16 and will raise an error in the future.\n"
     ]
    },
    {
     "name": "stdout",
     "output_type": "stream",
     "text": [
      "Estimating the choice model...\n",
      "Estimating Causal Effects...\n"
     ]
    },
    {
     "name": "stderr",
     "output_type": "stream",
     "text": [
      "/Users/timsb/miniconda3/envs/causal2020/lib/python3.7/site-packages/pylogit/choice_tools.py:703: FutureWarning: arrays to stack must be passed as a \"sequence\" type such as list or tuple. Support for non-sequence iterables such as generators is deprecated as of NumPy 1.16 and will raise an error in the future.\n",
      "Exception ignored in: <function tqdm.__del__ at 0x7fe05909bcb0>\n",
      "Traceback (most recent call last):\n",
      "  File \"/Users/timsb/miniconda3/envs/causal2020/lib/python3.7/site-packages/tqdm/std.py\", line 1124, in __del__\n",
      "    self.close()\n",
      "  File \"/Users/timsb/miniconda3/envs/causal2020/lib/python3.7/site-packages/tqdm/notebook.py\", line 271, in close\n",
      "    self.sp(bar_style='danger')\n",
      "AttributeError: 'tqdm_notebook' object has no attribute 'sp'\n",
      "/Users/timsb/miniconda3/envs/causal2020/lib/python3.7/site-packages/pylogit/choice_tools.py:703: FutureWarning: arrays to stack must be passed as a \"sequence\" type such as list or tuple. Support for non-sequence iterables such as generators is deprecated as of NumPy 1.16 and will raise an error in the future.\n",
      "/Users/timsb/miniconda3/envs/causal2020/lib/python3.7/site-packages/pylogit/choice_tools.py:703: FutureWarning: arrays to stack must be passed as a \"sequence\" type such as list or tuple. Support for non-sequence iterables such as generators is deprecated as of NumPy 1.16 and will raise an error in the future.\n"
     ]
    },
    {
     "name": "stdout",
     "output_type": "stream",
     "text": [
      "Simulation number 175 is complete!\n",
      "==========================================\n",
      "==========================================\n",
      "Simulation number 176 of 200 is in progress...\n",
      "Simulation size is 3261\n",
      "------------------------------------------\n",
      "Simulating data...\n",
      "Simulating Availability...\n"
     ]
    },
    {
     "name": "stderr",
     "output_type": "stream",
     "text": [
      "/Users/timsb/miniconda3/envs/causal2020/lib/python3.7/site-packages/pylogit/choice_tools.py:703: FutureWarning: arrays to stack must be passed as a \"sequence\" type such as list or tuple. Support for non-sequence iterables such as generators is deprecated as of NumPy 1.16 and will raise an error in the future.\n",
      "\n",
      "Simulating Choices:   0%|          | 0/3261 [00:00<?, ?it/s]\u001b[A"
     ]
    },
    {
     "name": "stdout",
     "output_type": "stream",
     "text": [
      "Converting data from wide to long...\n",
      "Simulating Choices...\n"
     ]
    },
    {
     "name": "stderr",
     "output_type": "stream",
     "text": [
      "Simulating Choices: 100%|██████████| 3261/3261 [00:00<00:00, 34226.15it/s]\n",
      "/Users/timsb/miniconda3/envs/causal2020/lib/python3.7/site-packages/pylogit/choice_tools.py:703: FutureWarning: arrays to stack must be passed as a \"sequence\" type such as list or tuple. Support for non-sequence iterables such as generators is deprecated as of NumPy 1.16 and will raise an error in the future.\n"
     ]
    },
    {
     "name": "stdout",
     "output_type": "stream",
     "text": [
      "Estimating the choice model...\n",
      "Estimating Causal Effects...\n",
      "Simulation number 176 is complete!\n",
      "==========================================\n",
      "==========================================\n",
      "Simulation number 177 of 200 is in progress...\n",
      "Simulation size is 3079\n",
      "------------------------------------------\n",
      "Simulating data...\n",
      "Simulating Availability...\n"
     ]
    },
    {
     "name": "stderr",
     "output_type": "stream",
     "text": [
      "/Users/timsb/miniconda3/envs/causal2020/lib/python3.7/site-packages/pylogit/choice_tools.py:703: FutureWarning: arrays to stack must be passed as a \"sequence\" type such as list or tuple. Support for non-sequence iterables such as generators is deprecated as of NumPy 1.16 and will raise an error in the future.\n",
      "/Users/timsb/miniconda3/envs/causal2020/lib/python3.7/site-packages/pylogit/choice_tools.py:703: FutureWarning: arrays to stack must be passed as a \"sequence\" type such as list or tuple. Support for non-sequence iterables such as generators is deprecated as of NumPy 1.16 and will raise an error in the future.\n",
      "Exception ignored in: <function tqdm.__del__ at 0x7fe05909bcb0>\n",
      "Traceback (most recent call last):\n",
      "  File \"/Users/timsb/miniconda3/envs/causal2020/lib/python3.7/site-packages/tqdm/std.py\", line 1124, in __del__\n",
      "    self.close()\n",
      "  File \"/Users/timsb/miniconda3/envs/causal2020/lib/python3.7/site-packages/tqdm/notebook.py\", line 271, in close\n",
      "    self.sp(bar_style='danger')\n",
      "AttributeError: 'tqdm_notebook' object has no attribute 'sp'\n",
      "/Users/timsb/miniconda3/envs/causal2020/lib/python3.7/site-packages/pylogit/choice_tools.py:703: FutureWarning: arrays to stack must be passed as a \"sequence\" type such as list or tuple. Support for non-sequence iterables such as generators is deprecated as of NumPy 1.16 and will raise an error in the future.\n",
      "/Users/timsb/miniconda3/envs/causal2020/lib/python3.7/site-packages/pylogit/choice_tools.py:703: FutureWarning: arrays to stack must be passed as a \"sequence\" type such as list or tuple. Support for non-sequence iterables such as generators is deprecated as of NumPy 1.16 and will raise an error in the future.\n",
      "/Users/timsb/miniconda3/envs/causal2020/lib/python3.7/site-packages/pylogit/choice_tools.py:703: FutureWarning: arrays to stack must be passed as a \"sequence\" type such as list or tuple. Support for non-sequence iterables such as generators is deprecated as of NumPy 1.16 and will raise an error in the future.\n",
      "\n",
      "Simulating Choices:   0%|          | 0/3079 [00:00<?, ?it/s]\u001b[A"
     ]
    },
    {
     "name": "stdout",
     "output_type": "stream",
     "text": [
      "Converting data from wide to long...\n",
      "Simulating Choices...\n"
     ]
    },
    {
     "name": "stderr",
     "output_type": "stream",
     "text": [
      "Simulating Choices: 100%|██████████| 3079/3079 [00:00<00:00, 34166.25it/s]\n",
      "/Users/timsb/miniconda3/envs/causal2020/lib/python3.7/site-packages/pylogit/choice_tools.py:703: FutureWarning: arrays to stack must be passed as a \"sequence\" type such as list or tuple. Support for non-sequence iterables such as generators is deprecated as of NumPy 1.16 and will raise an error in the future.\n"
     ]
    },
    {
     "name": "stdout",
     "output_type": "stream",
     "text": [
      "Estimating the choice model...\n",
      "Estimating Causal Effects...\n",
      "Simulation number 177 is complete!\n",
      "==========================================\n",
      "==========================================\n",
      "Simulation number 178 of 200 is in progress...\n",
      "Simulation size is 3493\n",
      "------------------------------------------\n",
      "Simulating data...\n",
      "Simulating Availability...\n"
     ]
    },
    {
     "name": "stderr",
     "output_type": "stream",
     "text": [
      "/Users/timsb/miniconda3/envs/causal2020/lib/python3.7/site-packages/pylogit/choice_tools.py:703: FutureWarning: arrays to stack must be passed as a \"sequence\" type such as list or tuple. Support for non-sequence iterables such as generators is deprecated as of NumPy 1.16 and will raise an error in the future.\n",
      "/Users/timsb/miniconda3/envs/causal2020/lib/python3.7/site-packages/pylogit/choice_tools.py:703: FutureWarning: arrays to stack must be passed as a \"sequence\" type such as list or tuple. Support for non-sequence iterables such as generators is deprecated as of NumPy 1.16 and will raise an error in the future.\n",
      "Exception ignored in: <function tqdm.__del__ at 0x7fe05909bcb0>\n",
      "Traceback (most recent call last):\n",
      "  File \"/Users/timsb/miniconda3/envs/causal2020/lib/python3.7/site-packages/tqdm/std.py\", line 1124, in __del__\n",
      "    self.close()\n",
      "  File \"/Users/timsb/miniconda3/envs/causal2020/lib/python3.7/site-packages/tqdm/notebook.py\", line 271, in close\n",
      "    self.sp(bar_style='danger')\n",
      "AttributeError: 'tqdm_notebook' object has no attribute 'sp'\n",
      "/Users/timsb/miniconda3/envs/causal2020/lib/python3.7/site-packages/pylogit/choice_tools.py:703: FutureWarning: arrays to stack must be passed as a \"sequence\" type such as list or tuple. Support for non-sequence iterables such as generators is deprecated as of NumPy 1.16 and will raise an error in the future.\n",
      "/Users/timsb/miniconda3/envs/causal2020/lib/python3.7/site-packages/pylogit/choice_tools.py:703: FutureWarning: arrays to stack must be passed as a \"sequence\" type such as list or tuple. Support for non-sequence iterables such as generators is deprecated as of NumPy 1.16 and will raise an error in the future.\n",
      "/Users/timsb/miniconda3/envs/causal2020/lib/python3.7/site-packages/pylogit/choice_tools.py:703: FutureWarning: arrays to stack must be passed as a \"sequence\" type such as list or tuple. Support for non-sequence iterables such as generators is deprecated as of NumPy 1.16 and will raise an error in the future.\n",
      "\n",
      "Simulating Choices:   0%|          | 0/3493 [00:00<?, ?it/s]\u001b[A"
     ]
    },
    {
     "name": "stdout",
     "output_type": "stream",
     "text": [
      "Converting data from wide to long...\n",
      "Simulating Choices...\n"
     ]
    },
    {
     "name": "stderr",
     "output_type": "stream",
     "text": [
      "Simulating Choices: 100%|██████████| 3493/3493 [00:00<00:00, 35054.73it/s]\n",
      "/Users/timsb/miniconda3/envs/causal2020/lib/python3.7/site-packages/pylogit/choice_tools.py:703: FutureWarning: arrays to stack must be passed as a \"sequence\" type such as list or tuple. Support for non-sequence iterables such as generators is deprecated as of NumPy 1.16 and will raise an error in the future.\n"
     ]
    },
    {
     "name": "stdout",
     "output_type": "stream",
     "text": [
      "Estimating the choice model...\n",
      "Estimating Causal Effects...\n",
      "Simulation number 178 is complete!\n",
      "==========================================\n",
      "==========================================\n",
      "Simulation number 179 of 200 is in progress...\n",
      "Simulation size is 3638\n",
      "------------------------------------------\n",
      "Simulating data...\n",
      "Simulating Availability...\n"
     ]
    },
    {
     "name": "stderr",
     "output_type": "stream",
     "text": [
      "/Users/timsb/miniconda3/envs/causal2020/lib/python3.7/site-packages/pylogit/choice_tools.py:703: FutureWarning: arrays to stack must be passed as a \"sequence\" type such as list or tuple. Support for non-sequence iterables such as generators is deprecated as of NumPy 1.16 and will raise an error in the future.\n",
      "/Users/timsb/miniconda3/envs/causal2020/lib/python3.7/site-packages/pylogit/choice_tools.py:703: FutureWarning: arrays to stack must be passed as a \"sequence\" type such as list or tuple. Support for non-sequence iterables such as generators is deprecated as of NumPy 1.16 and will raise an error in the future.\n",
      "Exception ignored in: <function tqdm.__del__ at 0x7fe05909bcb0>\n",
      "Traceback (most recent call last):\n",
      "  File \"/Users/timsb/miniconda3/envs/causal2020/lib/python3.7/site-packages/tqdm/std.py\", line 1124, in __del__\n",
      "    self.close()\n",
      "  File \"/Users/timsb/miniconda3/envs/causal2020/lib/python3.7/site-packages/tqdm/notebook.py\", line 271, in close\n",
      "    self.sp(bar_style='danger')\n",
      "AttributeError: 'tqdm_notebook' object has no attribute 'sp'\n",
      "/Users/timsb/miniconda3/envs/causal2020/lib/python3.7/site-packages/pylogit/choice_tools.py:703: FutureWarning: arrays to stack must be passed as a \"sequence\" type such as list or tuple. Support for non-sequence iterables such as generators is deprecated as of NumPy 1.16 and will raise an error in the future.\n",
      "/Users/timsb/miniconda3/envs/causal2020/lib/python3.7/site-packages/pylogit/choice_tools.py:703: FutureWarning: arrays to stack must be passed as a \"sequence\" type such as list or tuple. Support for non-sequence iterables such as generators is deprecated as of NumPy 1.16 and will raise an error in the future.\n",
      "/Users/timsb/miniconda3/envs/causal2020/lib/python3.7/site-packages/pylogit/choice_tools.py:703: FutureWarning: arrays to stack must be passed as a \"sequence\" type such as list or tuple. Support for non-sequence iterables such as generators is deprecated as of NumPy 1.16 and will raise an error in the future.\n",
      "\n",
      "Simulating Choices:   0%|          | 0/3638 [00:00<?, ?it/s]\u001b[A"
     ]
    },
    {
     "name": "stdout",
     "output_type": "stream",
     "text": [
      "Converting data from wide to long...\n",
      "Simulating Choices...\n"
     ]
    },
    {
     "name": "stderr",
     "output_type": "stream",
     "text": [
      "Simulating Choices: 100%|██████████| 3638/3638 [00:00<00:00, 36477.35it/s]\n",
      "/Users/timsb/miniconda3/envs/causal2020/lib/python3.7/site-packages/pylogit/choice_tools.py:703: FutureWarning: arrays to stack must be passed as a \"sequence\" type such as list or tuple. Support for non-sequence iterables such as generators is deprecated as of NumPy 1.16 and will raise an error in the future.\n"
     ]
    },
    {
     "name": "stdout",
     "output_type": "stream",
     "text": [
      "Estimating the choice model...\n",
      "Estimating Causal Effects...\n",
      "Simulation number 179 is complete!\n",
      "==========================================\n",
      "==========================================\n",
      "Simulation number 180 of 200 is in progress...\n",
      "Simulation size is 3008\n",
      "------------------------------------------\n",
      "Simulating data...\n",
      "Simulating Availability...\n"
     ]
    },
    {
     "name": "stderr",
     "output_type": "stream",
     "text": [
      "/Users/timsb/miniconda3/envs/causal2020/lib/python3.7/site-packages/pylogit/choice_tools.py:703: FutureWarning: arrays to stack must be passed as a \"sequence\" type such as list or tuple. Support for non-sequence iterables such as generators is deprecated as of NumPy 1.16 and will raise an error in the future.\n",
      "/Users/timsb/miniconda3/envs/causal2020/lib/python3.7/site-packages/pylogit/choice_tools.py:703: FutureWarning: arrays to stack must be passed as a \"sequence\" type such as list or tuple. Support for non-sequence iterables such as generators is deprecated as of NumPy 1.16 and will raise an error in the future.\n",
      "Exception ignored in: <function tqdm.__del__ at 0x7fe05909bcb0>\n",
      "Traceback (most recent call last):\n",
      "  File \"/Users/timsb/miniconda3/envs/causal2020/lib/python3.7/site-packages/tqdm/std.py\", line 1124, in __del__\n",
      "    self.close()\n",
      "  File \"/Users/timsb/miniconda3/envs/causal2020/lib/python3.7/site-packages/tqdm/notebook.py\", line 271, in close\n",
      "    self.sp(bar_style='danger')\n",
      "AttributeError: 'tqdm_notebook' object has no attribute 'sp'\n",
      "/Users/timsb/miniconda3/envs/causal2020/lib/python3.7/site-packages/pylogit/choice_tools.py:703: FutureWarning: arrays to stack must be passed as a \"sequence\" type such as list or tuple. Support for non-sequence iterables such as generators is deprecated as of NumPy 1.16 and will raise an error in the future.\n",
      "/Users/timsb/miniconda3/envs/causal2020/lib/python3.7/site-packages/pylogit/choice_tools.py:703: FutureWarning: arrays to stack must be passed as a \"sequence\" type such as list or tuple. Support for non-sequence iterables such as generators is deprecated as of NumPy 1.16 and will raise an error in the future.\n",
      "/Users/timsb/miniconda3/envs/causal2020/lib/python3.7/site-packages/pylogit/choice_tools.py:703: FutureWarning: arrays to stack must be passed as a \"sequence\" type such as list or tuple. Support for non-sequence iterables such as generators is deprecated as of NumPy 1.16 and will raise an error in the future.\n",
      "\n",
      "Simulating Choices:   0%|          | 0/3008 [00:00<?, ?it/s]\u001b[A"
     ]
    },
    {
     "name": "stdout",
     "output_type": "stream",
     "text": [
      "Converting data from wide to long...\n",
      "Simulating Choices...\n"
     ]
    },
    {
     "name": "stderr",
     "output_type": "stream",
     "text": [
      "Simulating Choices: 100%|██████████| 3008/3008 [00:00<00:00, 34820.09it/s]\n",
      "/Users/timsb/miniconda3/envs/causal2020/lib/python3.7/site-packages/pylogit/choice_tools.py:703: FutureWarning: arrays to stack must be passed as a \"sequence\" type such as list or tuple. Support for non-sequence iterables such as generators is deprecated as of NumPy 1.16 and will raise an error in the future.\n",
      "/Users/timsb/miniconda3/envs/causal2020/lib/python3.7/site-packages/pylogit/choice_tools.py:703: FutureWarning: arrays to stack must be passed as a \"sequence\" type such as list or tuple. Support for non-sequence iterables such as generators is deprecated as of NumPy 1.16 and will raise an error in the future.\n"
     ]
    },
    {
     "name": "stdout",
     "output_type": "stream",
     "text": [
      "Estimating the choice model...\n",
      "Estimating Causal Effects...\n"
     ]
    },
    {
     "name": "stderr",
     "output_type": "stream",
     "text": [
      "/Users/timsb/miniconda3/envs/causal2020/lib/python3.7/site-packages/pylogit/choice_tools.py:703: FutureWarning: arrays to stack must be passed as a \"sequence\" type such as list or tuple. Support for non-sequence iterables such as generators is deprecated as of NumPy 1.16 and will raise an error in the future.\n",
      "Exception ignored in: <function tqdm.__del__ at 0x7fe05909bcb0>\n",
      "Traceback (most recent call last):\n",
      "  File \"/Users/timsb/miniconda3/envs/causal2020/lib/python3.7/site-packages/tqdm/std.py\", line 1124, in __del__\n",
      "    self.close()\n",
      "  File \"/Users/timsb/miniconda3/envs/causal2020/lib/python3.7/site-packages/tqdm/notebook.py\", line 271, in close\n",
      "    self.sp(bar_style='danger')\n",
      "AttributeError: 'tqdm_notebook' object has no attribute 'sp'\n",
      "/Users/timsb/miniconda3/envs/causal2020/lib/python3.7/site-packages/pylogit/choice_tools.py:703: FutureWarning: arrays to stack must be passed as a \"sequence\" type such as list or tuple. Support for non-sequence iterables such as generators is deprecated as of NumPy 1.16 and will raise an error in the future.\n",
      "/Users/timsb/miniconda3/envs/causal2020/lib/python3.7/site-packages/pylogit/choice_tools.py:703: FutureWarning: arrays to stack must be passed as a \"sequence\" type such as list or tuple. Support for non-sequence iterables such as generators is deprecated as of NumPy 1.16 and will raise an error in the future.\n"
     ]
    },
    {
     "name": "stdout",
     "output_type": "stream",
     "text": [
      "Simulation number 180 is complete!\n",
      "==========================================\n",
      "==========================================\n",
      "Simulation number 181 of 200 is in progress...\n",
      "Simulation size is 3265\n",
      "------------------------------------------\n",
      "Simulating data...\n",
      "Simulating Availability...\n"
     ]
    },
    {
     "name": "stderr",
     "output_type": "stream",
     "text": [
      "/Users/timsb/miniconda3/envs/causal2020/lib/python3.7/site-packages/pylogit/choice_tools.py:703: FutureWarning: arrays to stack must be passed as a \"sequence\" type such as list or tuple. Support for non-sequence iterables such as generators is deprecated as of NumPy 1.16 and will raise an error in the future.\n",
      "\n",
      "Simulating Choices:   0%|          | 0/3265 [00:00<?, ?it/s]\u001b[A"
     ]
    },
    {
     "name": "stdout",
     "output_type": "stream",
     "text": [
      "Converting data from wide to long...\n",
      "Simulating Choices...\n"
     ]
    },
    {
     "name": "stderr",
     "output_type": "stream",
     "text": [
      "Simulating Choices: 100%|██████████| 3265/3265 [00:00<00:00, 34186.69it/s]\n",
      "/Users/timsb/miniconda3/envs/causal2020/lib/python3.7/site-packages/pylogit/choice_tools.py:703: FutureWarning: arrays to stack must be passed as a \"sequence\" type such as list or tuple. Support for non-sequence iterables such as generators is deprecated as of NumPy 1.16 and will raise an error in the future.\n"
     ]
    },
    {
     "name": "stdout",
     "output_type": "stream",
     "text": [
      "Estimating the choice model...\n",
      "Estimating Causal Effects...\n",
      "Simulation number 181 is complete!\n",
      "==========================================\n",
      "==========================================\n",
      "Simulation number 182 of 200 is in progress...\n",
      "Simulation size is 3233\n",
      "------------------------------------------\n",
      "Simulating data...\n",
      "Simulating Availability...\n"
     ]
    },
    {
     "name": "stderr",
     "output_type": "stream",
     "text": [
      "/Users/timsb/miniconda3/envs/causal2020/lib/python3.7/site-packages/pylogit/choice_tools.py:703: FutureWarning: arrays to stack must be passed as a \"sequence\" type such as list or tuple. Support for non-sequence iterables such as generators is deprecated as of NumPy 1.16 and will raise an error in the future.\n",
      "/Users/timsb/miniconda3/envs/causal2020/lib/python3.7/site-packages/pylogit/choice_tools.py:703: FutureWarning: arrays to stack must be passed as a \"sequence\" type such as list or tuple. Support for non-sequence iterables such as generators is deprecated as of NumPy 1.16 and will raise an error in the future.\n",
      "Exception ignored in: <function tqdm.__del__ at 0x7fe05909bcb0>\n",
      "Traceback (most recent call last):\n",
      "  File \"/Users/timsb/miniconda3/envs/causal2020/lib/python3.7/site-packages/tqdm/std.py\", line 1124, in __del__\n",
      "    self.close()\n",
      "  File \"/Users/timsb/miniconda3/envs/causal2020/lib/python3.7/site-packages/tqdm/notebook.py\", line 271, in close\n",
      "    self.sp(bar_style='danger')\n",
      "AttributeError: 'tqdm_notebook' object has no attribute 'sp'\n",
      "/Users/timsb/miniconda3/envs/causal2020/lib/python3.7/site-packages/pylogit/choice_tools.py:703: FutureWarning: arrays to stack must be passed as a \"sequence\" type such as list or tuple. Support for non-sequence iterables such as generators is deprecated as of NumPy 1.16 and will raise an error in the future.\n",
      "/Users/timsb/miniconda3/envs/causal2020/lib/python3.7/site-packages/pylogit/choice_tools.py:703: FutureWarning: arrays to stack must be passed as a \"sequence\" type such as list or tuple. Support for non-sequence iterables such as generators is deprecated as of NumPy 1.16 and will raise an error in the future.\n",
      "/Users/timsb/miniconda3/envs/causal2020/lib/python3.7/site-packages/pylogit/choice_tools.py:703: FutureWarning: arrays to stack must be passed as a \"sequence\" type such as list or tuple. Support for non-sequence iterables such as generators is deprecated as of NumPy 1.16 and will raise an error in the future.\n",
      "\n",
      "Simulating Choices:   0%|          | 0/3233 [00:00<?, ?it/s]\u001b[A"
     ]
    },
    {
     "name": "stdout",
     "output_type": "stream",
     "text": [
      "Converting data from wide to long...\n",
      "Simulating Choices...\n"
     ]
    },
    {
     "name": "stderr",
     "output_type": "stream",
     "text": [
      "Simulating Choices: 100%|██████████| 3233/3233 [00:00<00:00, 34936.59it/s]\n",
      "/Users/timsb/miniconda3/envs/causal2020/lib/python3.7/site-packages/pylogit/choice_tools.py:703: FutureWarning: arrays to stack must be passed as a \"sequence\" type such as list or tuple. Support for non-sequence iterables such as generators is deprecated as of NumPy 1.16 and will raise an error in the future.\n"
     ]
    },
    {
     "name": "stdout",
     "output_type": "stream",
     "text": [
      "Estimating the choice model...\n",
      "Estimating Causal Effects...\n",
      "Simulation number 182 is complete!\n",
      "==========================================\n",
      "==========================================\n",
      "Simulation number 183 of 200 is in progress...\n",
      "Simulation size is 3355\n",
      "------------------------------------------\n",
      "Simulating data...\n",
      "Simulating Availability...\n"
     ]
    },
    {
     "name": "stderr",
     "output_type": "stream",
     "text": [
      "/Users/timsb/miniconda3/envs/causal2020/lib/python3.7/site-packages/pylogit/choice_tools.py:703: FutureWarning: arrays to stack must be passed as a \"sequence\" type such as list or tuple. Support for non-sequence iterables such as generators is deprecated as of NumPy 1.16 and will raise an error in the future.\n",
      "/Users/timsb/miniconda3/envs/causal2020/lib/python3.7/site-packages/pylogit/choice_tools.py:703: FutureWarning: arrays to stack must be passed as a \"sequence\" type such as list or tuple. Support for non-sequence iterables such as generators is deprecated as of NumPy 1.16 and will raise an error in the future.\n",
      "Exception ignored in: <function tqdm.__del__ at 0x7fe05909bcb0>\n",
      "Traceback (most recent call last):\n",
      "  File \"/Users/timsb/miniconda3/envs/causal2020/lib/python3.7/site-packages/tqdm/std.py\", line 1124, in __del__\n",
      "    self.close()\n",
      "  File \"/Users/timsb/miniconda3/envs/causal2020/lib/python3.7/site-packages/tqdm/notebook.py\", line 271, in close\n",
      "    self.sp(bar_style='danger')\n",
      "AttributeError: 'tqdm_notebook' object has no attribute 'sp'\n",
      "/Users/timsb/miniconda3/envs/causal2020/lib/python3.7/site-packages/pylogit/choice_tools.py:703: FutureWarning: arrays to stack must be passed as a \"sequence\" type such as list or tuple. Support for non-sequence iterables such as generators is deprecated as of NumPy 1.16 and will raise an error in the future.\n",
      "/Users/timsb/miniconda3/envs/causal2020/lib/python3.7/site-packages/pylogit/choice_tools.py:703: FutureWarning: arrays to stack must be passed as a \"sequence\" type such as list or tuple. Support for non-sequence iterables such as generators is deprecated as of NumPy 1.16 and will raise an error in the future.\n",
      "/Users/timsb/miniconda3/envs/causal2020/lib/python3.7/site-packages/pylogit/choice_tools.py:703: FutureWarning: arrays to stack must be passed as a \"sequence\" type such as list or tuple. Support for non-sequence iterables such as generators is deprecated as of NumPy 1.16 and will raise an error in the future.\n",
      "\n",
      "Simulating Choices:   0%|          | 0/3355 [00:00<?, ?it/s]\u001b[A"
     ]
    },
    {
     "name": "stdout",
     "output_type": "stream",
     "text": [
      "Converting data from wide to long...\n",
      "Simulating Choices...\n"
     ]
    },
    {
     "name": "stderr",
     "output_type": "stream",
     "text": [
      "Simulating Choices: 100%|██████████| 3355/3355 [00:00<00:00, 36302.84it/s]\n",
      "/Users/timsb/miniconda3/envs/causal2020/lib/python3.7/site-packages/pylogit/choice_tools.py:703: FutureWarning: arrays to stack must be passed as a \"sequence\" type such as list or tuple. Support for non-sequence iterables such as generators is deprecated as of NumPy 1.16 and will raise an error in the future.\n"
     ]
    },
    {
     "name": "stdout",
     "output_type": "stream",
     "text": [
      "Estimating the choice model...\n",
      "Estimating Causal Effects...\n",
      "Simulation number 183 is complete!\n",
      "==========================================\n",
      "==========================================\n",
      "Simulation number 184 of 200 is in progress...\n",
      "Simulation size is 3932\n",
      "------------------------------------------\n",
      "Simulating data...\n",
      "Simulating Availability...\n"
     ]
    },
    {
     "name": "stderr",
     "output_type": "stream",
     "text": [
      "/Users/timsb/miniconda3/envs/causal2020/lib/python3.7/site-packages/pylogit/choice_tools.py:703: FutureWarning: arrays to stack must be passed as a \"sequence\" type such as list or tuple. Support for non-sequence iterables such as generators is deprecated as of NumPy 1.16 and will raise an error in the future.\n",
      "/Users/timsb/miniconda3/envs/causal2020/lib/python3.7/site-packages/pylogit/choice_tools.py:703: FutureWarning: arrays to stack must be passed as a \"sequence\" type such as list or tuple. Support for non-sequence iterables such as generators is deprecated as of NumPy 1.16 and will raise an error in the future.\n",
      "Exception ignored in: <function tqdm.__del__ at 0x7fe05909bcb0>\n",
      "Traceback (most recent call last):\n",
      "  File \"/Users/timsb/miniconda3/envs/causal2020/lib/python3.7/site-packages/tqdm/std.py\", line 1124, in __del__\n",
      "    self.close()\n",
      "  File \"/Users/timsb/miniconda3/envs/causal2020/lib/python3.7/site-packages/tqdm/notebook.py\", line 271, in close\n",
      "    self.sp(bar_style='danger')\n",
      "AttributeError: 'tqdm_notebook' object has no attribute 'sp'\n",
      "/Users/timsb/miniconda3/envs/causal2020/lib/python3.7/site-packages/pylogit/choice_tools.py:703: FutureWarning: arrays to stack must be passed as a \"sequence\" type such as list or tuple. Support for non-sequence iterables such as generators is deprecated as of NumPy 1.16 and will raise an error in the future.\n",
      "/Users/timsb/miniconda3/envs/causal2020/lib/python3.7/site-packages/pylogit/choice_tools.py:703: FutureWarning: arrays to stack must be passed as a \"sequence\" type such as list or tuple. Support for non-sequence iterables such as generators is deprecated as of NumPy 1.16 and will raise an error in the future.\n",
      "/Users/timsb/miniconda3/envs/causal2020/lib/python3.7/site-packages/pylogit/choice_tools.py:703: FutureWarning: arrays to stack must be passed as a \"sequence\" type such as list or tuple. Support for non-sequence iterables such as generators is deprecated as of NumPy 1.16 and will raise an error in the future.\n",
      "\n",
      "Simulating Choices:   0%|          | 0/3932 [00:00<?, ?it/s]\u001b[A"
     ]
    },
    {
     "name": "stdout",
     "output_type": "stream",
     "text": [
      "Converting data from wide to long...\n",
      "Simulating Choices...\n"
     ]
    },
    {
     "name": "stderr",
     "output_type": "stream",
     "text": [
      "\n",
      "Simulating Choices: 100%|██████████| 3932/3932 [00:00<00:00, 32998.20it/s]\u001b[A\n",
      "/Users/timsb/miniconda3/envs/causal2020/lib/python3.7/site-packages/pylogit/choice_tools.py:703: FutureWarning: arrays to stack must be passed as a \"sequence\" type such as list or tuple. Support for non-sequence iterables such as generators is deprecated as of NumPy 1.16 and will raise an error in the future.\n"
     ]
    },
    {
     "name": "stdout",
     "output_type": "stream",
     "text": [
      "Estimating the choice model...\n",
      "Estimating Causal Effects...\n",
      "Simulation number 184 is complete!\n",
      "==========================================\n",
      "==========================================\n",
      "Simulation number 185 of 200 is in progress...\n",
      "Simulation size is 3845\n",
      "------------------------------------------\n",
      "Simulating data...\n",
      "Simulating Availability...\n"
     ]
    },
    {
     "name": "stderr",
     "output_type": "stream",
     "text": [
      "/Users/timsb/miniconda3/envs/causal2020/lib/python3.7/site-packages/pylogit/choice_tools.py:703: FutureWarning: arrays to stack must be passed as a \"sequence\" type such as list or tuple. Support for non-sequence iterables such as generators is deprecated as of NumPy 1.16 and will raise an error in the future.\n",
      "/Users/timsb/miniconda3/envs/causal2020/lib/python3.7/site-packages/pylogit/choice_tools.py:703: FutureWarning: arrays to stack must be passed as a \"sequence\" type such as list or tuple. Support for non-sequence iterables such as generators is deprecated as of NumPy 1.16 and will raise an error in the future.\n",
      "Exception ignored in: <function tqdm.__del__ at 0x7fe05909bcb0>\n",
      "Traceback (most recent call last):\n",
      "  File \"/Users/timsb/miniconda3/envs/causal2020/lib/python3.7/site-packages/tqdm/std.py\", line 1124, in __del__\n",
      "    self.close()\n",
      "  File \"/Users/timsb/miniconda3/envs/causal2020/lib/python3.7/site-packages/tqdm/notebook.py\", line 271, in close\n",
      "    self.sp(bar_style='danger')\n",
      "AttributeError: 'tqdm_notebook' object has no attribute 'sp'\n",
      "/Users/timsb/miniconda3/envs/causal2020/lib/python3.7/site-packages/pylogit/choice_tools.py:703: FutureWarning: arrays to stack must be passed as a \"sequence\" type such as list or tuple. Support for non-sequence iterables such as generators is deprecated as of NumPy 1.16 and will raise an error in the future.\n",
      "/Users/timsb/miniconda3/envs/causal2020/lib/python3.7/site-packages/pylogit/choice_tools.py:703: FutureWarning: arrays to stack must be passed as a \"sequence\" type such as list or tuple. Support for non-sequence iterables such as generators is deprecated as of NumPy 1.16 and will raise an error in the future.\n",
      "/Users/timsb/miniconda3/envs/causal2020/lib/python3.7/site-packages/pylogit/choice_tools.py:703: FutureWarning: arrays to stack must be passed as a \"sequence\" type such as list or tuple. Support for non-sequence iterables such as generators is deprecated as of NumPy 1.16 and will raise an error in the future.\n",
      "\n",
      "Simulating Choices:   0%|          | 0/3845 [00:00<?, ?it/s]\u001b[A"
     ]
    },
    {
     "name": "stdout",
     "output_type": "stream",
     "text": [
      "Converting data from wide to long...\n",
      "Simulating Choices...\n"
     ]
    },
    {
     "name": "stderr",
     "output_type": "stream",
     "text": [
      "\n",
      "Simulating Choices: 100%|██████████| 3845/3845 [00:00<00:00, 34204.83it/s]\u001b[A\n",
      "/Users/timsb/miniconda3/envs/causal2020/lib/python3.7/site-packages/pylogit/choice_tools.py:703: FutureWarning: arrays to stack must be passed as a \"sequence\" type such as list or tuple. Support for non-sequence iterables such as generators is deprecated as of NumPy 1.16 and will raise an error in the future.\n"
     ]
    },
    {
     "name": "stdout",
     "output_type": "stream",
     "text": [
      "Estimating the choice model...\n",
      "Estimating Causal Effects...\n",
      "Simulation number 185 is complete!\n",
      "==========================================\n",
      "==========================================\n",
      "Simulation number 186 of 200 is in progress...\n",
      "Simulation size is 3330\n",
      "------------------------------------------\n",
      "Simulating data...\n",
      "Simulating Availability...\n"
     ]
    },
    {
     "name": "stderr",
     "output_type": "stream",
     "text": [
      "/Users/timsb/miniconda3/envs/causal2020/lib/python3.7/site-packages/pylogit/choice_tools.py:703: FutureWarning: arrays to stack must be passed as a \"sequence\" type such as list or tuple. Support for non-sequence iterables such as generators is deprecated as of NumPy 1.16 and will raise an error in the future.\n",
      "/Users/timsb/miniconda3/envs/causal2020/lib/python3.7/site-packages/pylogit/choice_tools.py:703: FutureWarning: arrays to stack must be passed as a \"sequence\" type such as list or tuple. Support for non-sequence iterables such as generators is deprecated as of NumPy 1.16 and will raise an error in the future.\n",
      "Exception ignored in: <function tqdm.__del__ at 0x7fe05909bcb0>\n",
      "Traceback (most recent call last):\n",
      "  File \"/Users/timsb/miniconda3/envs/causal2020/lib/python3.7/site-packages/tqdm/std.py\", line 1124, in __del__\n",
      "    self.close()\n",
      "  File \"/Users/timsb/miniconda3/envs/causal2020/lib/python3.7/site-packages/tqdm/notebook.py\", line 271, in close\n",
      "    self.sp(bar_style='danger')\n",
      "AttributeError: 'tqdm_notebook' object has no attribute 'sp'\n",
      "/Users/timsb/miniconda3/envs/causal2020/lib/python3.7/site-packages/pylogit/choice_tools.py:703: FutureWarning: arrays to stack must be passed as a \"sequence\" type such as list or tuple. Support for non-sequence iterables such as generators is deprecated as of NumPy 1.16 and will raise an error in the future.\n",
      "/Users/timsb/miniconda3/envs/causal2020/lib/python3.7/site-packages/pylogit/choice_tools.py:703: FutureWarning: arrays to stack must be passed as a \"sequence\" type such as list or tuple. Support for non-sequence iterables such as generators is deprecated as of NumPy 1.16 and will raise an error in the future.\n",
      "/Users/timsb/miniconda3/envs/causal2020/lib/python3.7/site-packages/pylogit/choice_tools.py:703: FutureWarning: arrays to stack must be passed as a \"sequence\" type such as list or tuple. Support for non-sequence iterables such as generators is deprecated as of NumPy 1.16 and will raise an error in the future.\n",
      "\n",
      "Simulating Choices:   0%|          | 0/3330 [00:00<?, ?it/s]\u001b[A"
     ]
    },
    {
     "name": "stdout",
     "output_type": "stream",
     "text": [
      "Converting data from wide to long...\n",
      "Simulating Choices...\n"
     ]
    },
    {
     "name": "stderr",
     "output_type": "stream",
     "text": [
      "Simulating Choices: 100%|██████████| 3330/3330 [00:00<00:00, 35837.71it/s]\n",
      "/Users/timsb/miniconda3/envs/causal2020/lib/python3.7/site-packages/pylogit/choice_tools.py:703: FutureWarning: arrays to stack must be passed as a \"sequence\" type such as list or tuple. Support for non-sequence iterables such as generators is deprecated as of NumPy 1.16 and will raise an error in the future.\n"
     ]
    },
    {
     "name": "stdout",
     "output_type": "stream",
     "text": [
      "Estimating the choice model...\n",
      "Estimating Causal Effects...\n",
      "Simulation number 186 is complete!\n",
      "==========================================\n",
      "==========================================\n",
      "Simulation number 187 of 200 is in progress...\n",
      "Simulation size is 3545\n",
      "------------------------------------------\n",
      "Simulating data...\n",
      "Simulating Availability...\n"
     ]
    },
    {
     "name": "stderr",
     "output_type": "stream",
     "text": [
      "/Users/timsb/miniconda3/envs/causal2020/lib/python3.7/site-packages/pylogit/choice_tools.py:703: FutureWarning: arrays to stack must be passed as a \"sequence\" type such as list or tuple. Support for non-sequence iterables such as generators is deprecated as of NumPy 1.16 and will raise an error in the future.\n",
      "/Users/timsb/miniconda3/envs/causal2020/lib/python3.7/site-packages/pylogit/choice_tools.py:703: FutureWarning: arrays to stack must be passed as a \"sequence\" type such as list or tuple. Support for non-sequence iterables such as generators is deprecated as of NumPy 1.16 and will raise an error in the future.\n",
      "Exception ignored in: <function tqdm.__del__ at 0x7fe05909bcb0>\n",
      "Traceback (most recent call last):\n",
      "  File \"/Users/timsb/miniconda3/envs/causal2020/lib/python3.7/site-packages/tqdm/std.py\", line 1124, in __del__\n",
      "    self.close()\n",
      "  File \"/Users/timsb/miniconda3/envs/causal2020/lib/python3.7/site-packages/tqdm/notebook.py\", line 271, in close\n",
      "    self.sp(bar_style='danger')\n",
      "AttributeError: 'tqdm_notebook' object has no attribute 'sp'\n",
      "/Users/timsb/miniconda3/envs/causal2020/lib/python3.7/site-packages/pylogit/choice_tools.py:703: FutureWarning: arrays to stack must be passed as a \"sequence\" type such as list or tuple. Support for non-sequence iterables such as generators is deprecated as of NumPy 1.16 and will raise an error in the future.\n",
      "/Users/timsb/miniconda3/envs/causal2020/lib/python3.7/site-packages/pylogit/choice_tools.py:703: FutureWarning: arrays to stack must be passed as a \"sequence\" type such as list or tuple. Support for non-sequence iterables such as generators is deprecated as of NumPy 1.16 and will raise an error in the future.\n",
      "/Users/timsb/miniconda3/envs/causal2020/lib/python3.7/site-packages/pylogit/choice_tools.py:703: FutureWarning: arrays to stack must be passed as a \"sequence\" type such as list or tuple. Support for non-sequence iterables such as generators is deprecated as of NumPy 1.16 and will raise an error in the future.\n",
      "\n",
      "Simulating Choices:   0%|          | 0/3545 [00:00<?, ?it/s]\u001b[A"
     ]
    },
    {
     "name": "stdout",
     "output_type": "stream",
     "text": [
      "Converting data from wide to long...\n",
      "Simulating Choices...\n"
     ]
    },
    {
     "name": "stderr",
     "output_type": "stream",
     "text": [
      "\n",
      "Simulating Choices: 100%|██████████| 3545/3545 [00:00<00:00, 33047.82it/s]\u001b[A\n",
      "/Users/timsb/miniconda3/envs/causal2020/lib/python3.7/site-packages/pylogit/choice_tools.py:703: FutureWarning: arrays to stack must be passed as a \"sequence\" type such as list or tuple. Support for non-sequence iterables such as generators is deprecated as of NumPy 1.16 and will raise an error in the future.\n"
     ]
    },
    {
     "name": "stdout",
     "output_type": "stream",
     "text": [
      "Estimating the choice model...\n",
      "Estimating Causal Effects...\n",
      "Simulation number 187 is complete!\n",
      "==========================================\n",
      "==========================================\n",
      "Simulation number 188 of 200 is in progress...\n",
      "Simulation size is 3675\n",
      "------------------------------------------\n",
      "Simulating data...\n",
      "Simulating Availability...\n"
     ]
    },
    {
     "name": "stderr",
     "output_type": "stream",
     "text": [
      "/Users/timsb/miniconda3/envs/causal2020/lib/python3.7/site-packages/pylogit/choice_tools.py:703: FutureWarning: arrays to stack must be passed as a \"sequence\" type such as list or tuple. Support for non-sequence iterables such as generators is deprecated as of NumPy 1.16 and will raise an error in the future.\n",
      "/Users/timsb/miniconda3/envs/causal2020/lib/python3.7/site-packages/pylogit/choice_tools.py:703: FutureWarning: arrays to stack must be passed as a \"sequence\" type such as list or tuple. Support for non-sequence iterables such as generators is deprecated as of NumPy 1.16 and will raise an error in the future.\n",
      "Exception ignored in: <function tqdm.__del__ at 0x7fe05909bcb0>\n",
      "Traceback (most recent call last):\n",
      "  File \"/Users/timsb/miniconda3/envs/causal2020/lib/python3.7/site-packages/tqdm/std.py\", line 1124, in __del__\n",
      "    self.close()\n",
      "  File \"/Users/timsb/miniconda3/envs/causal2020/lib/python3.7/site-packages/tqdm/notebook.py\", line 271, in close\n",
      "    self.sp(bar_style='danger')\n",
      "AttributeError: 'tqdm_notebook' object has no attribute 'sp'\n",
      "/Users/timsb/miniconda3/envs/causal2020/lib/python3.7/site-packages/pylogit/choice_tools.py:703: FutureWarning: arrays to stack must be passed as a \"sequence\" type such as list or tuple. Support for non-sequence iterables such as generators is deprecated as of NumPy 1.16 and will raise an error in the future.\n",
      "/Users/timsb/miniconda3/envs/causal2020/lib/python3.7/site-packages/pylogit/choice_tools.py:703: FutureWarning: arrays to stack must be passed as a \"sequence\" type such as list or tuple. Support for non-sequence iterables such as generators is deprecated as of NumPy 1.16 and will raise an error in the future.\n",
      "/Users/timsb/miniconda3/envs/causal2020/lib/python3.7/site-packages/pylogit/choice_tools.py:703: FutureWarning: arrays to stack must be passed as a \"sequence\" type such as list or tuple. Support for non-sequence iterables such as generators is deprecated as of NumPy 1.16 and will raise an error in the future.\n",
      "\n",
      "Simulating Choices:   0%|          | 0/3675 [00:00<?, ?it/s]\u001b[A"
     ]
    },
    {
     "name": "stdout",
     "output_type": "stream",
     "text": [
      "Converting data from wide to long...\n",
      "Simulating Choices...\n"
     ]
    },
    {
     "name": "stderr",
     "output_type": "stream",
     "text": [
      "\n",
      "Simulating Choices: 100%|██████████| 3675/3675 [00:00<00:00, 34065.52it/s]\u001b[A\n",
      "/Users/timsb/miniconda3/envs/causal2020/lib/python3.7/site-packages/pylogit/choice_tools.py:703: FutureWarning: arrays to stack must be passed as a \"sequence\" type such as list or tuple. Support for non-sequence iterables such as generators is deprecated as of NumPy 1.16 and will raise an error in the future.\n"
     ]
    },
    {
     "name": "stdout",
     "output_type": "stream",
     "text": [
      "Estimating the choice model...\n",
      "Estimating Causal Effects...\n",
      "Simulation number 188 is complete!\n",
      "==========================================\n",
      "==========================================\n",
      "Simulation number 189 of 200 is in progress...\n",
      "Simulation size is 3517\n",
      "------------------------------------------\n",
      "Simulating data...\n",
      "Simulating Availability...\n"
     ]
    },
    {
     "name": "stderr",
     "output_type": "stream",
     "text": [
      "/Users/timsb/miniconda3/envs/causal2020/lib/python3.7/site-packages/pylogit/choice_tools.py:703: FutureWarning: arrays to stack must be passed as a \"sequence\" type such as list or tuple. Support for non-sequence iterables such as generators is deprecated as of NumPy 1.16 and will raise an error in the future.\n",
      "/Users/timsb/miniconda3/envs/causal2020/lib/python3.7/site-packages/pylogit/choice_tools.py:703: FutureWarning: arrays to stack must be passed as a \"sequence\" type such as list or tuple. Support for non-sequence iterables such as generators is deprecated as of NumPy 1.16 and will raise an error in the future.\n",
      "Exception ignored in: <function tqdm.__del__ at 0x7fe05909bcb0>\n",
      "Traceback (most recent call last):\n",
      "  File \"/Users/timsb/miniconda3/envs/causal2020/lib/python3.7/site-packages/tqdm/std.py\", line 1124, in __del__\n",
      "    self.close()\n",
      "  File \"/Users/timsb/miniconda3/envs/causal2020/lib/python3.7/site-packages/tqdm/notebook.py\", line 271, in close\n",
      "    self.sp(bar_style='danger')\n",
      "AttributeError: 'tqdm_notebook' object has no attribute 'sp'\n",
      "/Users/timsb/miniconda3/envs/causal2020/lib/python3.7/site-packages/pylogit/choice_tools.py:703: FutureWarning: arrays to stack must be passed as a \"sequence\" type such as list or tuple. Support for non-sequence iterables such as generators is deprecated as of NumPy 1.16 and will raise an error in the future.\n",
      "/Users/timsb/miniconda3/envs/causal2020/lib/python3.7/site-packages/pylogit/choice_tools.py:703: FutureWarning: arrays to stack must be passed as a \"sequence\" type such as list or tuple. Support for non-sequence iterables such as generators is deprecated as of NumPy 1.16 and will raise an error in the future.\n",
      "/Users/timsb/miniconda3/envs/causal2020/lib/python3.7/site-packages/pylogit/choice_tools.py:703: FutureWarning: arrays to stack must be passed as a \"sequence\" type such as list or tuple. Support for non-sequence iterables such as generators is deprecated as of NumPy 1.16 and will raise an error in the future.\n",
      "\n",
      "Simulating Choices:   0%|          | 0/3517 [00:00<?, ?it/s]\u001b[A"
     ]
    },
    {
     "name": "stdout",
     "output_type": "stream",
     "text": [
      "Converting data from wide to long...\n",
      "Simulating Choices...\n"
     ]
    },
    {
     "name": "stderr",
     "output_type": "stream",
     "text": [
      "Simulating Choices: 100%|██████████| 3517/3517 [00:00<00:00, 36469.05it/s]\n",
      "/Users/timsb/miniconda3/envs/causal2020/lib/python3.7/site-packages/pylogit/choice_tools.py:703: FutureWarning: arrays to stack must be passed as a \"sequence\" type such as list or tuple. Support for non-sequence iterables such as generators is deprecated as of NumPy 1.16 and will raise an error in the future.\n"
     ]
    },
    {
     "name": "stdout",
     "output_type": "stream",
     "text": [
      "Estimating the choice model...\n",
      "Estimating Causal Effects...\n",
      "Simulation number 189 is complete!\n",
      "==========================================\n",
      "==========================================\n",
      "Simulation number 190 of 200 is in progress...\n",
      "Simulation size is 3769\n",
      "------------------------------------------\n",
      "Simulating data...\n",
      "Simulating Availability...\n"
     ]
    },
    {
     "name": "stderr",
     "output_type": "stream",
     "text": [
      "/Users/timsb/miniconda3/envs/causal2020/lib/python3.7/site-packages/pylogit/choice_tools.py:703: FutureWarning: arrays to stack must be passed as a \"sequence\" type such as list or tuple. Support for non-sequence iterables such as generators is deprecated as of NumPy 1.16 and will raise an error in the future.\n",
      "/Users/timsb/miniconda3/envs/causal2020/lib/python3.7/site-packages/pylogit/choice_tools.py:703: FutureWarning: arrays to stack must be passed as a \"sequence\" type such as list or tuple. Support for non-sequence iterables such as generators is deprecated as of NumPy 1.16 and will raise an error in the future.\n",
      "Exception ignored in: <function tqdm.__del__ at 0x7fe05909bcb0>\n",
      "Traceback (most recent call last):\n",
      "  File \"/Users/timsb/miniconda3/envs/causal2020/lib/python3.7/site-packages/tqdm/std.py\", line 1124, in __del__\n",
      "    self.close()\n",
      "  File \"/Users/timsb/miniconda3/envs/causal2020/lib/python3.7/site-packages/tqdm/notebook.py\", line 271, in close\n",
      "    self.sp(bar_style='danger')\n",
      "AttributeError: 'tqdm_notebook' object has no attribute 'sp'\n",
      "/Users/timsb/miniconda3/envs/causal2020/lib/python3.7/site-packages/pylogit/choice_tools.py:703: FutureWarning: arrays to stack must be passed as a \"sequence\" type such as list or tuple. Support for non-sequence iterables such as generators is deprecated as of NumPy 1.16 and will raise an error in the future.\n",
      "/Users/timsb/miniconda3/envs/causal2020/lib/python3.7/site-packages/pylogit/choice_tools.py:703: FutureWarning: arrays to stack must be passed as a \"sequence\" type such as list or tuple. Support for non-sequence iterables such as generators is deprecated as of NumPy 1.16 and will raise an error in the future.\n",
      "/Users/timsb/miniconda3/envs/causal2020/lib/python3.7/site-packages/pylogit/choice_tools.py:703: FutureWarning: arrays to stack must be passed as a \"sequence\" type such as list or tuple. Support for non-sequence iterables such as generators is deprecated as of NumPy 1.16 and will raise an error in the future.\n",
      "\n",
      "Simulating Choices:   0%|          | 0/3769 [00:00<?, ?it/s]\u001b[A"
     ]
    },
    {
     "name": "stdout",
     "output_type": "stream",
     "text": [
      "Converting data from wide to long...\n",
      "Simulating Choices...\n"
     ]
    },
    {
     "name": "stderr",
     "output_type": "stream",
     "text": [
      "\n",
      "Simulating Choices: 100%|██████████| 3769/3769 [00:00<00:00, 33093.36it/s]\u001b[A\n",
      "/Users/timsb/miniconda3/envs/causal2020/lib/python3.7/site-packages/pylogit/choice_tools.py:703: FutureWarning: arrays to stack must be passed as a \"sequence\" type such as list or tuple. Support for non-sequence iterables such as generators is deprecated as of NumPy 1.16 and will raise an error in the future.\n"
     ]
    },
    {
     "name": "stdout",
     "output_type": "stream",
     "text": [
      "Estimating the choice model...\n",
      "Estimating Causal Effects...\n",
      "Simulation number 190 is complete!\n",
      "==========================================\n",
      "==========================================\n",
      "Simulation number 191 of 200 is in progress...\n",
      "Simulation size is 3012\n",
      "------------------------------------------\n",
      "Simulating data...\n",
      "Simulating Availability...\n"
     ]
    },
    {
     "name": "stderr",
     "output_type": "stream",
     "text": [
      "/Users/timsb/miniconda3/envs/causal2020/lib/python3.7/site-packages/pylogit/choice_tools.py:703: FutureWarning: arrays to stack must be passed as a \"sequence\" type such as list or tuple. Support for non-sequence iterables such as generators is deprecated as of NumPy 1.16 and will raise an error in the future.\n",
      "/Users/timsb/miniconda3/envs/causal2020/lib/python3.7/site-packages/pylogit/choice_tools.py:703: FutureWarning: arrays to stack must be passed as a \"sequence\" type such as list or tuple. Support for non-sequence iterables such as generators is deprecated as of NumPy 1.16 and will raise an error in the future.\n",
      "Exception ignored in: <function tqdm.__del__ at 0x7fe05909bcb0>\n",
      "Traceback (most recent call last):\n",
      "  File \"/Users/timsb/miniconda3/envs/causal2020/lib/python3.7/site-packages/tqdm/std.py\", line 1124, in __del__\n",
      "    self.close()\n",
      "  File \"/Users/timsb/miniconda3/envs/causal2020/lib/python3.7/site-packages/tqdm/notebook.py\", line 271, in close\n",
      "    self.sp(bar_style='danger')\n",
      "AttributeError: 'tqdm_notebook' object has no attribute 'sp'\n",
      "/Users/timsb/miniconda3/envs/causal2020/lib/python3.7/site-packages/pylogit/choice_tools.py:703: FutureWarning: arrays to stack must be passed as a \"sequence\" type such as list or tuple. Support for non-sequence iterables such as generators is deprecated as of NumPy 1.16 and will raise an error in the future.\n",
      "/Users/timsb/miniconda3/envs/causal2020/lib/python3.7/site-packages/pylogit/choice_tools.py:703: FutureWarning: arrays to stack must be passed as a \"sequence\" type such as list or tuple. Support for non-sequence iterables such as generators is deprecated as of NumPy 1.16 and will raise an error in the future.\n",
      "/Users/timsb/miniconda3/envs/causal2020/lib/python3.7/site-packages/pylogit/choice_tools.py:703: FutureWarning: arrays to stack must be passed as a \"sequence\" type such as list or tuple. Support for non-sequence iterables such as generators is deprecated as of NumPy 1.16 and will raise an error in the future.\n",
      "\n",
      "Simulating Choices:   0%|          | 0/3012 [00:00<?, ?it/s]\u001b[A"
     ]
    },
    {
     "name": "stdout",
     "output_type": "stream",
     "text": [
      "Converting data from wide to long...\n",
      "Simulating Choices...\n"
     ]
    },
    {
     "name": "stderr",
     "output_type": "stream",
     "text": [
      "Simulating Choices: 100%|██████████| 3012/3012 [00:00<00:00, 33274.10it/s]\n",
      "/Users/timsb/miniconda3/envs/causal2020/lib/python3.7/site-packages/pylogit/choice_tools.py:703: FutureWarning: arrays to stack must be passed as a \"sequence\" type such as list or tuple. Support for non-sequence iterables such as generators is deprecated as of NumPy 1.16 and will raise an error in the future.\n",
      "/Users/timsb/miniconda3/envs/causal2020/lib/python3.7/site-packages/pylogit/choice_tools.py:703: FutureWarning: arrays to stack must be passed as a \"sequence\" type such as list or tuple. Support for non-sequence iterables such as generators is deprecated as of NumPy 1.16 and will raise an error in the future.\n"
     ]
    },
    {
     "name": "stdout",
     "output_type": "stream",
     "text": [
      "Estimating the choice model...\n",
      "Estimating Causal Effects...\n"
     ]
    },
    {
     "name": "stderr",
     "output_type": "stream",
     "text": [
      "/Users/timsb/miniconda3/envs/causal2020/lib/python3.7/site-packages/pylogit/choice_tools.py:703: FutureWarning: arrays to stack must be passed as a \"sequence\" type such as list or tuple. Support for non-sequence iterables such as generators is deprecated as of NumPy 1.16 and will raise an error in the future.\n",
      "Exception ignored in: <function tqdm.__del__ at 0x7fe05909bcb0>\n",
      "Traceback (most recent call last):\n",
      "  File \"/Users/timsb/miniconda3/envs/causal2020/lib/python3.7/site-packages/tqdm/std.py\", line 1124, in __del__\n",
      "    self.close()\n",
      "  File \"/Users/timsb/miniconda3/envs/causal2020/lib/python3.7/site-packages/tqdm/notebook.py\", line 271, in close\n",
      "    self.sp(bar_style='danger')\n",
      "AttributeError: 'tqdm_notebook' object has no attribute 'sp'\n",
      "/Users/timsb/miniconda3/envs/causal2020/lib/python3.7/site-packages/pylogit/choice_tools.py:703: FutureWarning: arrays to stack must be passed as a \"sequence\" type such as list or tuple. Support for non-sequence iterables such as generators is deprecated as of NumPy 1.16 and will raise an error in the future.\n",
      "/Users/timsb/miniconda3/envs/causal2020/lib/python3.7/site-packages/pylogit/choice_tools.py:703: FutureWarning: arrays to stack must be passed as a \"sequence\" type such as list or tuple. Support for non-sequence iterables such as generators is deprecated as of NumPy 1.16 and will raise an error in the future.\n"
     ]
    },
    {
     "name": "stdout",
     "output_type": "stream",
     "text": [
      "Simulation number 191 is complete!\n",
      "==========================================\n",
      "==========================================\n",
      "Simulation number 192 of 200 is in progress...\n",
      "Simulation size is 3463\n",
      "------------------------------------------\n",
      "Simulating data...\n",
      "Simulating Availability...\n"
     ]
    },
    {
     "name": "stderr",
     "output_type": "stream",
     "text": [
      "/Users/timsb/miniconda3/envs/causal2020/lib/python3.7/site-packages/pylogit/choice_tools.py:703: FutureWarning: arrays to stack must be passed as a \"sequence\" type such as list or tuple. Support for non-sequence iterables such as generators is deprecated as of NumPy 1.16 and will raise an error in the future.\n",
      "\n",
      "Simulating Choices:   0%|          | 0/3463 [00:00<?, ?it/s]\u001b[A"
     ]
    },
    {
     "name": "stdout",
     "output_type": "stream",
     "text": [
      "Converting data from wide to long...\n",
      "Simulating Choices...\n"
     ]
    },
    {
     "name": "stderr",
     "output_type": "stream",
     "text": [
      "\n",
      "Simulating Choices: 100%|██████████| 3463/3463 [00:00<00:00, 33991.58it/s]\u001b[A\n",
      "/Users/timsb/miniconda3/envs/causal2020/lib/python3.7/site-packages/pylogit/choice_tools.py:703: FutureWarning: arrays to stack must be passed as a \"sequence\" type such as list or tuple. Support for non-sequence iterables such as generators is deprecated as of NumPy 1.16 and will raise an error in the future.\n"
     ]
    },
    {
     "name": "stdout",
     "output_type": "stream",
     "text": [
      "Estimating the choice model...\n",
      "Estimating Causal Effects...\n",
      "Simulation number 192 is complete!\n",
      "==========================================\n",
      "==========================================\n",
      "Simulation number 193 of 200 is in progress...\n",
      "Simulation size is 3835\n",
      "------------------------------------------\n",
      "Simulating data...\n",
      "Simulating Availability...\n"
     ]
    },
    {
     "name": "stderr",
     "output_type": "stream",
     "text": [
      "/Users/timsb/miniconda3/envs/causal2020/lib/python3.7/site-packages/pylogit/choice_tools.py:703: FutureWarning: arrays to stack must be passed as a \"sequence\" type such as list or tuple. Support for non-sequence iterables such as generators is deprecated as of NumPy 1.16 and will raise an error in the future.\n",
      "/Users/timsb/miniconda3/envs/causal2020/lib/python3.7/site-packages/pylogit/choice_tools.py:703: FutureWarning: arrays to stack must be passed as a \"sequence\" type such as list or tuple. Support for non-sequence iterables such as generators is deprecated as of NumPy 1.16 and will raise an error in the future.\n",
      "Exception ignored in: <function tqdm.__del__ at 0x7fe05909bcb0>\n",
      "Traceback (most recent call last):\n",
      "  File \"/Users/timsb/miniconda3/envs/causal2020/lib/python3.7/site-packages/tqdm/std.py\", line 1124, in __del__\n",
      "    self.close()\n",
      "  File \"/Users/timsb/miniconda3/envs/causal2020/lib/python3.7/site-packages/tqdm/notebook.py\", line 271, in close\n",
      "    self.sp(bar_style='danger')\n",
      "AttributeError: 'tqdm_notebook' object has no attribute 'sp'\n",
      "/Users/timsb/miniconda3/envs/causal2020/lib/python3.7/site-packages/pylogit/choice_tools.py:703: FutureWarning: arrays to stack must be passed as a \"sequence\" type such as list or tuple. Support for non-sequence iterables such as generators is deprecated as of NumPy 1.16 and will raise an error in the future.\n",
      "/Users/timsb/miniconda3/envs/causal2020/lib/python3.7/site-packages/pylogit/choice_tools.py:703: FutureWarning: arrays to stack must be passed as a \"sequence\" type such as list or tuple. Support for non-sequence iterables such as generators is deprecated as of NumPy 1.16 and will raise an error in the future.\n",
      "/Users/timsb/miniconda3/envs/causal2020/lib/python3.7/site-packages/pylogit/choice_tools.py:703: FutureWarning: arrays to stack must be passed as a \"sequence\" type such as list or tuple. Support for non-sequence iterables such as generators is deprecated as of NumPy 1.16 and will raise an error in the future.\n",
      "\n",
      "Simulating Choices:   0%|          | 0/3835 [00:00<?, ?it/s]\u001b[A"
     ]
    },
    {
     "name": "stdout",
     "output_type": "stream",
     "text": [
      "Converting data from wide to long...\n",
      "Simulating Choices...\n"
     ]
    },
    {
     "name": "stderr",
     "output_type": "stream",
     "text": [
      "Simulating Choices: 100%|██████████| 3835/3835 [00:00<00:00, 38521.05it/s]\n",
      "/Users/timsb/miniconda3/envs/causal2020/lib/python3.7/site-packages/pylogit/choice_tools.py:703: FutureWarning: arrays to stack must be passed as a \"sequence\" type such as list or tuple. Support for non-sequence iterables such as generators is deprecated as of NumPy 1.16 and will raise an error in the future.\n"
     ]
    },
    {
     "name": "stdout",
     "output_type": "stream",
     "text": [
      "Estimating the choice model...\n",
      "Estimating Causal Effects...\n",
      "Simulation number 193 is complete!\n",
      "==========================================\n",
      "==========================================\n",
      "Simulation number 194 of 200 is in progress...\n",
      "Simulation size is 3987\n",
      "------------------------------------------\n",
      "Simulating data...\n",
      "Simulating Availability...\n"
     ]
    },
    {
     "name": "stderr",
     "output_type": "stream",
     "text": [
      "/Users/timsb/miniconda3/envs/causal2020/lib/python3.7/site-packages/pylogit/choice_tools.py:703: FutureWarning: arrays to stack must be passed as a \"sequence\" type such as list or tuple. Support for non-sequence iterables such as generators is deprecated as of NumPy 1.16 and will raise an error in the future.\n",
      "/Users/timsb/miniconda3/envs/causal2020/lib/python3.7/site-packages/pylogit/choice_tools.py:703: FutureWarning: arrays to stack must be passed as a \"sequence\" type such as list or tuple. Support for non-sequence iterables such as generators is deprecated as of NumPy 1.16 and will raise an error in the future.\n",
      "Exception ignored in: <function tqdm.__del__ at 0x7fe05909bcb0>\n",
      "Traceback (most recent call last):\n",
      "  File \"/Users/timsb/miniconda3/envs/causal2020/lib/python3.7/site-packages/tqdm/std.py\", line 1124, in __del__\n",
      "    self.close()\n",
      "  File \"/Users/timsb/miniconda3/envs/causal2020/lib/python3.7/site-packages/tqdm/notebook.py\", line 271, in close\n",
      "    self.sp(bar_style='danger')\n",
      "AttributeError: 'tqdm_notebook' object has no attribute 'sp'\n",
      "/Users/timsb/miniconda3/envs/causal2020/lib/python3.7/site-packages/pylogit/choice_tools.py:703: FutureWarning: arrays to stack must be passed as a \"sequence\" type such as list or tuple. Support for non-sequence iterables such as generators is deprecated as of NumPy 1.16 and will raise an error in the future.\n",
      "/Users/timsb/miniconda3/envs/causal2020/lib/python3.7/site-packages/pylogit/choice_tools.py:703: FutureWarning: arrays to stack must be passed as a \"sequence\" type such as list or tuple. Support for non-sequence iterables such as generators is deprecated as of NumPy 1.16 and will raise an error in the future.\n",
      "/Users/timsb/miniconda3/envs/causal2020/lib/python3.7/site-packages/pylogit/choice_tools.py:703: FutureWarning: arrays to stack must be passed as a \"sequence\" type such as list or tuple. Support for non-sequence iterables such as generators is deprecated as of NumPy 1.16 and will raise an error in the future.\n",
      "\n",
      "Simulating Choices:   0%|          | 0/3987 [00:00<?, ?it/s]\u001b[A"
     ]
    },
    {
     "name": "stdout",
     "output_type": "stream",
     "text": [
      "Converting data from wide to long...\n",
      "Simulating Choices...\n"
     ]
    },
    {
     "name": "stderr",
     "output_type": "stream",
     "text": [
      "\n",
      "Simulating Choices: 100%|██████████| 3987/3987 [00:00<00:00, 38361.92it/s]\u001b[A\n",
      "/Users/timsb/miniconda3/envs/causal2020/lib/python3.7/site-packages/pylogit/choice_tools.py:703: FutureWarning: arrays to stack must be passed as a \"sequence\" type such as list or tuple. Support for non-sequence iterables such as generators is deprecated as of NumPy 1.16 and will raise an error in the future.\n"
     ]
    },
    {
     "name": "stdout",
     "output_type": "stream",
     "text": [
      "Estimating the choice model...\n",
      "Estimating Causal Effects...\n",
      "Simulation number 194 is complete!\n",
      "==========================================\n",
      "==========================================\n",
      "Simulation number 195 of 200 is in progress...\n",
      "Simulation size is 3145\n",
      "------------------------------------------\n",
      "Simulating data...\n",
      "Simulating Availability...\n"
     ]
    },
    {
     "name": "stderr",
     "output_type": "stream",
     "text": [
      "/Users/timsb/miniconda3/envs/causal2020/lib/python3.7/site-packages/pylogit/choice_tools.py:703: FutureWarning: arrays to stack must be passed as a \"sequence\" type such as list or tuple. Support for non-sequence iterables such as generators is deprecated as of NumPy 1.16 and will raise an error in the future.\n",
      "/Users/timsb/miniconda3/envs/causal2020/lib/python3.7/site-packages/pylogit/choice_tools.py:703: FutureWarning: arrays to stack must be passed as a \"sequence\" type such as list or tuple. Support for non-sequence iterables such as generators is deprecated as of NumPy 1.16 and will raise an error in the future.\n",
      "Exception ignored in: <function tqdm.__del__ at 0x7fe05909bcb0>\n",
      "Traceback (most recent call last):\n",
      "  File \"/Users/timsb/miniconda3/envs/causal2020/lib/python3.7/site-packages/tqdm/std.py\", line 1124, in __del__\n",
      "    self.close()\n",
      "  File \"/Users/timsb/miniconda3/envs/causal2020/lib/python3.7/site-packages/tqdm/notebook.py\", line 271, in close\n",
      "    self.sp(bar_style='danger')\n",
      "AttributeError: 'tqdm_notebook' object has no attribute 'sp'\n",
      "/Users/timsb/miniconda3/envs/causal2020/lib/python3.7/site-packages/pylogit/choice_tools.py:703: FutureWarning: arrays to stack must be passed as a \"sequence\" type such as list or tuple. Support for non-sequence iterables such as generators is deprecated as of NumPy 1.16 and will raise an error in the future.\n",
      "/Users/timsb/miniconda3/envs/causal2020/lib/python3.7/site-packages/pylogit/choice_tools.py:703: FutureWarning: arrays to stack must be passed as a \"sequence\" type such as list or tuple. Support for non-sequence iterables such as generators is deprecated as of NumPy 1.16 and will raise an error in the future.\n",
      "/Users/timsb/miniconda3/envs/causal2020/lib/python3.7/site-packages/pylogit/choice_tools.py:703: FutureWarning: arrays to stack must be passed as a \"sequence\" type such as list or tuple. Support for non-sequence iterables such as generators is deprecated as of NumPy 1.16 and will raise an error in the future.\n",
      "\n",
      "Simulating Choices:   0%|          | 0/3145 [00:00<?, ?it/s]\u001b[A"
     ]
    },
    {
     "name": "stdout",
     "output_type": "stream",
     "text": [
      "Converting data from wide to long...\n",
      "Simulating Choices...\n"
     ]
    },
    {
     "name": "stderr",
     "output_type": "stream",
     "text": [
      "Simulating Choices: 100%|██████████| 3145/3145 [00:00<00:00, 36122.84it/s]\n",
      "/Users/timsb/miniconda3/envs/causal2020/lib/python3.7/site-packages/pylogit/choice_tools.py:703: FutureWarning: arrays to stack must be passed as a \"sequence\" type such as list or tuple. Support for non-sequence iterables such as generators is deprecated as of NumPy 1.16 and will raise an error in the future.\n"
     ]
    },
    {
     "name": "stdout",
     "output_type": "stream",
     "text": [
      "Estimating the choice model...\n",
      "Estimating Causal Effects...\n"
     ]
    },
    {
     "name": "stderr",
     "output_type": "stream",
     "text": [
      "/Users/timsb/miniconda3/envs/causal2020/lib/python3.7/site-packages/pylogit/choice_tools.py:703: FutureWarning: arrays to stack must be passed as a \"sequence\" type such as list or tuple. Support for non-sequence iterables such as generators is deprecated as of NumPy 1.16 and will raise an error in the future.\n",
      "/Users/timsb/miniconda3/envs/causal2020/lib/python3.7/site-packages/pylogit/choice_tools.py:703: FutureWarning: arrays to stack must be passed as a \"sequence\" type such as list or tuple. Support for non-sequence iterables such as generators is deprecated as of NumPy 1.16 and will raise an error in the future.\n",
      "Exception ignored in: <function tqdm.__del__ at 0x7fe05909bcb0>\n",
      "Traceback (most recent call last):\n",
      "  File \"/Users/timsb/miniconda3/envs/causal2020/lib/python3.7/site-packages/tqdm/std.py\", line 1124, in __del__\n",
      "    self.close()\n",
      "  File \"/Users/timsb/miniconda3/envs/causal2020/lib/python3.7/site-packages/tqdm/notebook.py\", line 271, in close\n",
      "    self.sp(bar_style='danger')\n",
      "AttributeError: 'tqdm_notebook' object has no attribute 'sp'\n",
      "/Users/timsb/miniconda3/envs/causal2020/lib/python3.7/site-packages/pylogit/choice_tools.py:703: FutureWarning: arrays to stack must be passed as a \"sequence\" type such as list or tuple. Support for non-sequence iterables such as generators is deprecated as of NumPy 1.16 and will raise an error in the future.\n",
      "/Users/timsb/miniconda3/envs/causal2020/lib/python3.7/site-packages/pylogit/choice_tools.py:703: FutureWarning: arrays to stack must be passed as a \"sequence\" type such as list or tuple. Support for non-sequence iterables such as generators is deprecated as of NumPy 1.16 and will raise an error in the future.\n"
     ]
    },
    {
     "name": "stdout",
     "output_type": "stream",
     "text": [
      "Simulation number 195 is complete!\n",
      "==========================================\n",
      "==========================================\n",
      "Simulation number 196 of 200 is in progress...\n",
      "Simulation size is 3062\n",
      "------------------------------------------\n",
      "Simulating data...\n",
      "Simulating Availability...\n"
     ]
    },
    {
     "name": "stderr",
     "output_type": "stream",
     "text": [
      "/Users/timsb/miniconda3/envs/causal2020/lib/python3.7/site-packages/pylogit/choice_tools.py:703: FutureWarning: arrays to stack must be passed as a \"sequence\" type such as list or tuple. Support for non-sequence iterables such as generators is deprecated as of NumPy 1.16 and will raise an error in the future.\n",
      "\n",
      "Simulating Choices:   0%|          | 0/3062 [00:00<?, ?it/s]\u001b[A"
     ]
    },
    {
     "name": "stdout",
     "output_type": "stream",
     "text": [
      "Converting data from wide to long...\n",
      "Simulating Choices...\n"
     ]
    },
    {
     "name": "stderr",
     "output_type": "stream",
     "text": [
      "Simulating Choices: 100%|██████████| 3062/3062 [00:00<00:00, 35346.46it/s]\n",
      "/Users/timsb/miniconda3/envs/causal2020/lib/python3.7/site-packages/pylogit/choice_tools.py:703: FutureWarning: arrays to stack must be passed as a \"sequence\" type such as list or tuple. Support for non-sequence iterables such as generators is deprecated as of NumPy 1.16 and will raise an error in the future.\n"
     ]
    },
    {
     "name": "stdout",
     "output_type": "stream",
     "text": [
      "Estimating the choice model...\n",
      "Estimating Causal Effects...\n"
     ]
    },
    {
     "name": "stderr",
     "output_type": "stream",
     "text": [
      "/Users/timsb/miniconda3/envs/causal2020/lib/python3.7/site-packages/pylogit/choice_tools.py:703: FutureWarning: arrays to stack must be passed as a \"sequence\" type such as list or tuple. Support for non-sequence iterables such as generators is deprecated as of NumPy 1.16 and will raise an error in the future.\n",
      "/Users/timsb/miniconda3/envs/causal2020/lib/python3.7/site-packages/pylogit/choice_tools.py:703: FutureWarning: arrays to stack must be passed as a \"sequence\" type such as list or tuple. Support for non-sequence iterables such as generators is deprecated as of NumPy 1.16 and will raise an error in the future.\n",
      "Exception ignored in: <function tqdm.__del__ at 0x7fe05909bcb0>\n",
      "Traceback (most recent call last):\n",
      "  File \"/Users/timsb/miniconda3/envs/causal2020/lib/python3.7/site-packages/tqdm/std.py\", line 1124, in __del__\n",
      "    self.close()\n",
      "  File \"/Users/timsb/miniconda3/envs/causal2020/lib/python3.7/site-packages/tqdm/notebook.py\", line 271, in close\n",
      "    self.sp(bar_style='danger')\n",
      "AttributeError: 'tqdm_notebook' object has no attribute 'sp'\n",
      "/Users/timsb/miniconda3/envs/causal2020/lib/python3.7/site-packages/pylogit/choice_tools.py:703: FutureWarning: arrays to stack must be passed as a \"sequence\" type such as list or tuple. Support for non-sequence iterables such as generators is deprecated as of NumPy 1.16 and will raise an error in the future.\n",
      "/Users/timsb/miniconda3/envs/causal2020/lib/python3.7/site-packages/pylogit/choice_tools.py:703: FutureWarning: arrays to stack must be passed as a \"sequence\" type such as list or tuple. Support for non-sequence iterables such as generators is deprecated as of NumPy 1.16 and will raise an error in the future.\n"
     ]
    },
    {
     "name": "stdout",
     "output_type": "stream",
     "text": [
      "Simulation number 196 is complete!\n",
      "==========================================\n",
      "==========================================\n",
      "Simulation number 197 of 200 is in progress...\n",
      "Simulation size is 3332\n",
      "------------------------------------------\n",
      "Simulating data...\n",
      "Simulating Availability...\n"
     ]
    },
    {
     "name": "stderr",
     "output_type": "stream",
     "text": [
      "/Users/timsb/miniconda3/envs/causal2020/lib/python3.7/site-packages/pylogit/choice_tools.py:703: FutureWarning: arrays to stack must be passed as a \"sequence\" type such as list or tuple. Support for non-sequence iterables such as generators is deprecated as of NumPy 1.16 and will raise an error in the future.\n",
      "\n",
      "Simulating Choices:   0%|          | 0/3332 [00:00<?, ?it/s]\u001b[A"
     ]
    },
    {
     "name": "stdout",
     "output_type": "stream",
     "text": [
      "Converting data from wide to long...\n",
      "Simulating Choices...\n"
     ]
    },
    {
     "name": "stderr",
     "output_type": "stream",
     "text": [
      "Simulating Choices: 100%|██████████| 3332/3332 [00:00<00:00, 33463.24it/s]\n",
      "/Users/timsb/miniconda3/envs/causal2020/lib/python3.7/site-packages/pylogit/choice_tools.py:703: FutureWarning: arrays to stack must be passed as a \"sequence\" type such as list or tuple. Support for non-sequence iterables such as generators is deprecated as of NumPy 1.16 and will raise an error in the future.\n"
     ]
    },
    {
     "name": "stdout",
     "output_type": "stream",
     "text": [
      "Estimating the choice model...\n",
      "Estimating Causal Effects...\n"
     ]
    },
    {
     "name": "stderr",
     "output_type": "stream",
     "text": [
      "/Users/timsb/miniconda3/envs/causal2020/lib/python3.7/site-packages/pylogit/choice_tools.py:703: FutureWarning: arrays to stack must be passed as a \"sequence\" type such as list or tuple. Support for non-sequence iterables such as generators is deprecated as of NumPy 1.16 and will raise an error in the future.\n",
      "/Users/timsb/miniconda3/envs/causal2020/lib/python3.7/site-packages/pylogit/choice_tools.py:703: FutureWarning: arrays to stack must be passed as a \"sequence\" type such as list or tuple. Support for non-sequence iterables such as generators is deprecated as of NumPy 1.16 and will raise an error in the future.\n",
      "Exception ignored in: <function tqdm.__del__ at 0x7fe05909bcb0>\n",
      "Traceback (most recent call last):\n",
      "  File \"/Users/timsb/miniconda3/envs/causal2020/lib/python3.7/site-packages/tqdm/std.py\", line 1124, in __del__\n",
      "    self.close()\n",
      "  File \"/Users/timsb/miniconda3/envs/causal2020/lib/python3.7/site-packages/tqdm/notebook.py\", line 271, in close\n",
      "    self.sp(bar_style='danger')\n",
      "AttributeError: 'tqdm_notebook' object has no attribute 'sp'\n",
      "/Users/timsb/miniconda3/envs/causal2020/lib/python3.7/site-packages/pylogit/choice_tools.py:703: FutureWarning: arrays to stack must be passed as a \"sequence\" type such as list or tuple. Support for non-sequence iterables such as generators is deprecated as of NumPy 1.16 and will raise an error in the future.\n",
      "/Users/timsb/miniconda3/envs/causal2020/lib/python3.7/site-packages/pylogit/choice_tools.py:703: FutureWarning: arrays to stack must be passed as a \"sequence\" type such as list or tuple. Support for non-sequence iterables such as generators is deprecated as of NumPy 1.16 and will raise an error in the future.\n"
     ]
    },
    {
     "name": "stdout",
     "output_type": "stream",
     "text": [
      "Simulation number 197 is complete!\n",
      "==========================================\n",
      "==========================================\n",
      "Simulation number 198 of 200 is in progress...\n",
      "Simulation size is 3588\n",
      "------------------------------------------\n",
      "Simulating data...\n",
      "Simulating Availability...\n"
     ]
    },
    {
     "name": "stderr",
     "output_type": "stream",
     "text": [
      "/Users/timsb/miniconda3/envs/causal2020/lib/python3.7/site-packages/pylogit/choice_tools.py:703: FutureWarning: arrays to stack must be passed as a \"sequence\" type such as list or tuple. Support for non-sequence iterables such as generators is deprecated as of NumPy 1.16 and will raise an error in the future.\n",
      "\n",
      "Simulating Choices:   0%|          | 0/3588 [00:00<?, ?it/s]\u001b[A"
     ]
    },
    {
     "name": "stdout",
     "output_type": "stream",
     "text": [
      "Converting data from wide to long...\n",
      "Simulating Choices...\n"
     ]
    },
    {
     "name": "stderr",
     "output_type": "stream",
     "text": [
      "\n",
      "Simulating Choices: 100%|██████████| 3588/3588 [00:00<00:00, 34959.92it/s]\u001b[A\n",
      "/Users/timsb/miniconda3/envs/causal2020/lib/python3.7/site-packages/pylogit/choice_tools.py:703: FutureWarning: arrays to stack must be passed as a \"sequence\" type such as list or tuple. Support for non-sequence iterables such as generators is deprecated as of NumPy 1.16 and will raise an error in the future.\n"
     ]
    },
    {
     "name": "stdout",
     "output_type": "stream",
     "text": [
      "Estimating the choice model...\n",
      "Estimating Causal Effects...\n",
      "Simulation number 198 is complete!\n",
      "==========================================\n",
      "==========================================\n",
      "Simulation number 199 of 200 is in progress...\n",
      "Simulation size is 3844\n",
      "------------------------------------------\n",
      "Simulating data...\n",
      "Simulating Availability...\n"
     ]
    },
    {
     "name": "stderr",
     "output_type": "stream",
     "text": [
      "/Users/timsb/miniconda3/envs/causal2020/lib/python3.7/site-packages/pylogit/choice_tools.py:703: FutureWarning: arrays to stack must be passed as a \"sequence\" type such as list or tuple. Support for non-sequence iterables such as generators is deprecated as of NumPy 1.16 and will raise an error in the future.\n",
      "/Users/timsb/miniconda3/envs/causal2020/lib/python3.7/site-packages/pylogit/choice_tools.py:703: FutureWarning: arrays to stack must be passed as a \"sequence\" type such as list or tuple. Support for non-sequence iterables such as generators is deprecated as of NumPy 1.16 and will raise an error in the future.\n",
      "Exception ignored in: <function tqdm.__del__ at 0x7fe05909bcb0>\n",
      "Traceback (most recent call last):\n",
      "  File \"/Users/timsb/miniconda3/envs/causal2020/lib/python3.7/site-packages/tqdm/std.py\", line 1124, in __del__\n",
      "    self.close()\n",
      "  File \"/Users/timsb/miniconda3/envs/causal2020/lib/python3.7/site-packages/tqdm/notebook.py\", line 271, in close\n",
      "    self.sp(bar_style='danger')\n",
      "AttributeError: 'tqdm_notebook' object has no attribute 'sp'\n",
      "/Users/timsb/miniconda3/envs/causal2020/lib/python3.7/site-packages/pylogit/choice_tools.py:703: FutureWarning: arrays to stack must be passed as a \"sequence\" type such as list or tuple. Support for non-sequence iterables such as generators is deprecated as of NumPy 1.16 and will raise an error in the future.\n",
      "/Users/timsb/miniconda3/envs/causal2020/lib/python3.7/site-packages/pylogit/choice_tools.py:703: FutureWarning: arrays to stack must be passed as a \"sequence\" type such as list or tuple. Support for non-sequence iterables such as generators is deprecated as of NumPy 1.16 and will raise an error in the future.\n",
      "/Users/timsb/miniconda3/envs/causal2020/lib/python3.7/site-packages/pylogit/choice_tools.py:703: FutureWarning: arrays to stack must be passed as a \"sequence\" type such as list or tuple. Support for non-sequence iterables such as generators is deprecated as of NumPy 1.16 and will raise an error in the future.\n",
      "\n",
      "Simulating Choices:   0%|          | 0/3844 [00:00<?, ?it/s]\u001b[A"
     ]
    },
    {
     "name": "stdout",
     "output_type": "stream",
     "text": [
      "Converting data from wide to long...\n",
      "Simulating Choices...\n"
     ]
    },
    {
     "name": "stderr",
     "output_type": "stream",
     "text": [
      "\n",
      "Simulating Choices: 100%|██████████| 3844/3844 [00:00<00:00, 34644.68it/s]\u001b[A\n",
      "/Users/timsb/miniconda3/envs/causal2020/lib/python3.7/site-packages/pylogit/choice_tools.py:703: FutureWarning: arrays to stack must be passed as a \"sequence\" type such as list or tuple. Support for non-sequence iterables such as generators is deprecated as of NumPy 1.16 and will raise an error in the future.\n"
     ]
    },
    {
     "name": "stdout",
     "output_type": "stream",
     "text": [
      "Estimating the choice model...\n",
      "Estimating Causal Effects...\n",
      "Simulation number 199 is complete!\n",
      "==========================================\n",
      "==========================================\n",
      "Simulation number 200 of 200 is in progress...\n",
      "Simulation size is 3887\n",
      "------------------------------------------\n",
      "Simulating data...\n",
      "Simulating Availability...\n"
     ]
    },
    {
     "name": "stderr",
     "output_type": "stream",
     "text": [
      "/Users/timsb/miniconda3/envs/causal2020/lib/python3.7/site-packages/pylogit/choice_tools.py:703: FutureWarning: arrays to stack must be passed as a \"sequence\" type such as list or tuple. Support for non-sequence iterables such as generators is deprecated as of NumPy 1.16 and will raise an error in the future.\n",
      "/Users/timsb/miniconda3/envs/causal2020/lib/python3.7/site-packages/pylogit/choice_tools.py:703: FutureWarning: arrays to stack must be passed as a \"sequence\" type such as list or tuple. Support for non-sequence iterables such as generators is deprecated as of NumPy 1.16 and will raise an error in the future.\n",
      "Exception ignored in: <function tqdm.__del__ at 0x7fe05909bcb0>\n",
      "Traceback (most recent call last):\n",
      "  File \"/Users/timsb/miniconda3/envs/causal2020/lib/python3.7/site-packages/tqdm/std.py\", line 1124, in __del__\n",
      "    self.close()\n",
      "  File \"/Users/timsb/miniconda3/envs/causal2020/lib/python3.7/site-packages/tqdm/notebook.py\", line 271, in close\n",
      "    self.sp(bar_style='danger')\n",
      "AttributeError: 'tqdm_notebook' object has no attribute 'sp'\n",
      "/Users/timsb/miniconda3/envs/causal2020/lib/python3.7/site-packages/pylogit/choice_tools.py:703: FutureWarning: arrays to stack must be passed as a \"sequence\" type such as list or tuple. Support for non-sequence iterables such as generators is deprecated as of NumPy 1.16 and will raise an error in the future.\n",
      "/Users/timsb/miniconda3/envs/causal2020/lib/python3.7/site-packages/pylogit/choice_tools.py:703: FutureWarning: arrays to stack must be passed as a \"sequence\" type such as list or tuple. Support for non-sequence iterables such as generators is deprecated as of NumPy 1.16 and will raise an error in the future.\n",
      "/Users/timsb/miniconda3/envs/causal2020/lib/python3.7/site-packages/pylogit/choice_tools.py:703: FutureWarning: arrays to stack must be passed as a \"sequence\" type such as list or tuple. Support for non-sequence iterables such as generators is deprecated as of NumPy 1.16 and will raise an error in the future.\n",
      "\n",
      "Simulating Choices:   0%|          | 0/3887 [00:00<?, ?it/s]\u001b[A"
     ]
    },
    {
     "name": "stdout",
     "output_type": "stream",
     "text": [
      "Converting data from wide to long...\n",
      "Simulating Choices...\n"
     ]
    },
    {
     "name": "stderr",
     "output_type": "stream",
     "text": [
      "\n",
      "Simulating Choices: 100%|██████████| 3887/3887 [00:00<00:00, 33927.17it/s]\u001b[A\n",
      "/Users/timsb/miniconda3/envs/causal2020/lib/python3.7/site-packages/pylogit/choice_tools.py:703: FutureWarning: arrays to stack must be passed as a \"sequence\" type such as list or tuple. Support for non-sequence iterables such as generators is deprecated as of NumPy 1.16 and will raise an error in the future.\n"
     ]
    },
    {
     "name": "stdout",
     "output_type": "stream",
     "text": [
      "Estimating the choice model...\n",
      "Estimating Causal Effects...\n",
      "Simulation number 200 is complete!\n",
      "==========================================\n",
      "==========================================\n"
     ]
    },
    {
     "name": "stderr",
     "output_type": "stream",
     "text": [
      "/Users/timsb/miniconda3/envs/causal2020/lib/python3.7/site-packages/pylogit/choice_tools.py:703: FutureWarning: arrays to stack must be passed as a \"sequence\" type such as list or tuple. Support for non-sequence iterables such as generators is deprecated as of NumPy 1.16 and will raise an error in the future.\n",
      "/Users/timsb/miniconda3/envs/causal2020/lib/python3.7/site-packages/pylogit/choice_tools.py:703: FutureWarning: arrays to stack must be passed as a \"sequence\" type such as list or tuple. Support for non-sequence iterables such as generators is deprecated as of NumPy 1.16 and will raise an error in the future.\n",
      "Exception ignored in: <function tqdm.__del__ at 0x7fe05909bcb0>\n",
      "Traceback (most recent call last):\n",
      "  File \"/Users/timsb/miniconda3/envs/causal2020/lib/python3.7/site-packages/tqdm/std.py\", line 1124, in __del__\n",
      "    self.close()\n",
      "  File \"/Users/timsb/miniconda3/envs/causal2020/lib/python3.7/site-packages/tqdm/notebook.py\", line 271, in close\n",
      "    self.sp(bar_style='danger')\n",
      "AttributeError: 'tqdm_notebook' object has no attribute 'sp'\n",
      "/Users/timsb/miniconda3/envs/causal2020/lib/python3.7/site-packages/pylogit/choice_tools.py:703: FutureWarning: arrays to stack must be passed as a \"sequence\" type such as list or tuple. Support for non-sequence iterables such as generators is deprecated as of NumPy 1.16 and will raise an error in the future.\n",
      "/Users/timsb/miniconda3/envs/causal2020/lib/python3.7/site-packages/pylogit/choice_tools.py:703: FutureWarning: arrays to stack must be passed as a \"sequence\" type such as list or tuple. Support for non-sequence iterables such as generators is deprecated as of NumPy 1.16 and will raise an error in the future.\n"
     ]
    }
   ],
   "source": [
    "for sim_size, number in zip(simulation_sizes, sim_number):\n",
    "    print(f\"Simulation number {number} of {NUM_SIMULATIONS} is in progress...\")\n",
    "    print(\"Simulation size is\", sim_size)\n",
    "    print(\"------------------------------------------\")\n",
    "    print(\"Simulating data...\")\n",
    "    # Simulate data without parents\n",
    "    sim_bike_data_no_parent = sim.sim_node_no_parent(\n",
    "        params_dict=bike_data_params, size=sim_size\n",
    "    )\n",
    "\n",
    "    sim_bike_data_wide = copy.deepcopy(sim_bike_data_no_parent)\n",
    "\n",
    "    # Simulate nodes based on causal graphs\n",
    "    exec(SIMULATE_NODES_WIDE)\n",
    "\n",
    "    # Converting Data from Wide to Long\n",
    "    print(\"Converting data from wide to long...\")\n",
    "    long_sim_data = pl.convert_wide_to_long(\n",
    "        wide_data=sim_bike_data_wide,\n",
    "        ind_vars=IND_VARIABLES,\n",
    "        alt_specific_vars=ALT_VARYING_VARIABLES,\n",
    "        availability_vars=AVAILABILITY_VARIABLES,\n",
    "        obs_id_col=OBS_ID_COL,\n",
    "        choice_col=CHOICE_COL,\n",
    "        new_alt_id_name=CUSTOM_ALT_ID,\n",
    "    )\n",
    "\n",
    "    # Create a cars per licensed drivers column\n",
    "    long_sim_data[\"cars_per_licensed_drivers\"] = 0\n",
    "    long_sim_data.loc[\n",
    "        long_sim_data.num_licensed_drivers > 0, \"cars_per_licensed_drivers\"\n",
    "    ] = long_sim_data.num_cars / long_sim_data.num_licensed_drivers.astype(\n",
    "        float\n",
    "    )\n",
    "\n",
    "    # Add a variable representing cost divided by distance\n",
    "    long_sim_data[\"cost_per_distance\"] = 0\n",
    "    long_sim_data.loc[\n",
    "        long_sim_data.mode_id.isin([1, 2, 3]), \"cost_per_distance\"\n",
    "    ] = (\n",
    "        long_sim_data.loc[\n",
    "            long_sim_data.mode_id.isin([1, 2, 3]), \"total_travel_cost\"\n",
    "        ]\n",
    "        / long_sim_data.loc[\n",
    "            long_sim_data.mode_id.isin([1, 2, 3]), \"total_travel_distance\"\n",
    "        ]\n",
    "    )\n",
    "\n",
    "    # Simulating Choices\n",
    "    print(\"Simulating Choices...\")\n",
    "    # Calculate probabilities for each alternative\n",
    "    # based on the estimated model\n",
    "    init_mnl_model_probs = mnl_model.predict(long_sim_data)\n",
    "\n",
    "    # Simulate choice data\n",
    "    long_sim_data[CHOICE_COL] = simulate_choice_vector(\n",
    "        predicted_probs=init_mnl_model_probs,\n",
    "        observation_ids=long_sim_data[OBS_ID_COL].values,\n",
    "    )\n",
    "\n",
    "    # Estimating Choice Models\n",
    "    print(\"Estimating the choice model...\")\n",
    "    # Estimate the basic MNL model, using the hessian and newton-conjugate gradient\n",
    "    mnl_model_sim = pl.create_choice_model(\n",
    "        data=long_sim_data,\n",
    "        alt_id_col=ALT_ID_COL,\n",
    "        obs_id_col=OBS_ID_COL,\n",
    "        choice_col=CHOICE_COL,\n",
    "        specification=MNL_SPECIFICATION,\n",
    "        model_type=\"MNL\",\n",
    "        names=MNL_NAMES,\n",
    "    )\n",
    "\n",
    "    num_vars = len(reduce(lambda x, y: x + y, MNL_NAMES.values()))\n",
    "    # Note newton-cg used to ensure convergence to a point where gradient\n",
    "    # is essentially zero for all dimensions.\n",
    "    mnl_model_sim_params = mnl_model_sim.fit_mle(\n",
    "        np.zeros(num_vars), method=\"BFGS\", just_point=True\n",
    "    )\n",
    "    mnl_model_sim_param_list = [mnl_model_sim_params[\"x\"], None, None, None]\n",
    "    models_dictionary[number] = mnl_model_sim\n",
    "\n",
    "    print(\"Estimating Causal Effects...\")\n",
    "\n",
    "    # Estimating Causal Effects\n",
    "    # Create copies of long format data\n",
    "    long_sim_data_naive = copy.deepcopy(long_sim_data)\n",
    "    long_sim_data_causal = copy.deepcopy(long_sim_data)\n",
    "\n",
    "    # Initial Probabilities\n",
    "    init_mnl_model_sim_probs = mnl_model_sim.predict(\n",
    "        long_sim_data, param_list=mnl_model_sim_param_list\n",
    "    )\n",
    "\n",
    "    long_sim_data[\"init_mnl_model_sim_probs\"] = init_mnl_model_sim_probs\n",
    "\n",
    "    # mnl_model_probs = mnl_model.predict(long_sim_data)\n",
    "    long_sim_data[\"init_mnl_model_probs\"] = init_mnl_model_probs\n",
    "\n",
    "    long_sim_data_naive[\"total_travel_distance\"] = (\n",
    "        perturb * long_sim_data_naive[\"total_travel_distance\"]\n",
    "    )\n",
    "    long_sim_data_causal[\"total_travel_distance\"] = (\n",
    "        perturb * long_sim_data[\"total_travel_distance\"]\n",
    "    )\n",
    "\n",
    "    # Naive Probabilities\n",
    "    naive_probabilities = mnl_model_sim.predict(\n",
    "        long_sim_data_naive, param_list=mnl_model_sim_param_list\n",
    "    )\n",
    "\n",
    "    long_sim_data_naive[\"naive_probabilities\"] = naive_probabilities\n",
    "\n",
    "    # Estimated Probabilities\n",
    "\n",
    "    exec(SIMULATE_PERTURB)\n",
    "\n",
    "    # Compute Estimated Probabilities\n",
    "    estimated_probabilities = mnl_model_sim.predict(\n",
    "        long_sim_data_causal, param_list=mnl_model_sim_param_list\n",
    "    )\n",
    "    long_sim_data_causal[\"estimated_probabilities\"] = estimated_probabilities\n",
    "\n",
    "    # True Probabilities\n",
    "    true_probabilities = mnl_model.predict(long_sim_data_causal)\n",
    "    long_sim_data_causal[\"true_probabilities\"] = true_probabilities\n",
    "\n",
    "    simulation_data[number] = {}\n",
    "    simulation_data[number][\"long_sim_data\"] = long_sim_data\n",
    "    simulation_data[number][\"long_sim_data_causal\"] = long_sim_data_causal\n",
    "    simulation_data[number][\"long_sim_data_naive\"] = long_sim_data_naive\n",
    "\n",
    "    print(\"Simulation number\", number, \"is complete!\")\n",
    "    print(\"==========================================\")\n",
    "    print(\"==========================================\")"
   ]
  },
  {
   "cell_type": "markdown",
   "metadata": {},
   "source": [
    "### Causal Effect Estimation"
   ]
  },
  {
   "cell_type": "markdown",
   "metadata": {},
   "source": [
    "We estimate the causal effect related to the perturbation of the Travel Distance variable in each of the causal graphs (independent and realistic) on the probability of choosing Driving based modes (Drive alone, Shared-2, and Shared-3+)."
   ]
  },
  {
   "cell_type": "code",
   "execution_count": 28,
   "metadata": {},
   "outputs": [],
   "source": [
    "for number in sim_number:\n",
    "\n",
    "    initial_data = simulation_data[number][\"long_sim_data\"]\n",
    "    naive_data = simulation_data[number][\"long_sim_data_naive\"]\n",
    "    causal_data = simulation_data[number][\"long_sim_data_causal\"]\n",
    "\n",
    "    naive_effect = (\n",
    "        naive_data.loc[\n",
    "            naive_data[\"mode_id\"].isin([1, 2, 3]), \"naive_probabilities\"\n",
    "        ]\n",
    "        - initial_data.loc[\n",
    "            initial_data[\"mode_id\"].isin([1, 2, 3]), \"init_mnl_model_sim_probs\"\n",
    "        ]\n",
    "    )\n",
    "    estimated_effect = (\n",
    "        causal_data.loc[\n",
    "            causal_data[\"mode_id\"].isin([1, 2, 3]), \"estimated_probabilities\"\n",
    "        ]\n",
    "        - initial_data.loc[\n",
    "            initial_data[\"mode_id\"].isin([1, 2, 3]), \"init_mnl_model_sim_probs\"\n",
    "        ]\n",
    "    )\n",
    "    true_effect = (\n",
    "        causal_data.loc[\n",
    "            causal_data[\"mode_id\"].isin([1, 2, 3]), \"true_probabilities\"\n",
    "        ]\n",
    "        - initial_data.loc[\n",
    "            initial_data[\"mode_id\"].isin([1, 2, 3]), \"init_mnl_model_probs\"\n",
    "        ]\n",
    "    )\n",
    "\n",
    "    causal_effects = causal_effects.append(\n",
    "        {\n",
    "            \"true_effect\": true_effect.mean(),\n",
    "            \"estimated_effect\": estimated_effect.mean(),\n",
    "            \"naive_effect\": naive_effect.mean(),\n",
    "        },\n",
    "        ignore_index=True,\n",
    "    )"
   ]
  },
  {
   "cell_type": "markdown",
   "metadata": {},
   "source": [
    "### Generating Plots"
   ]
  },
  {
   "cell_type": "markdown",
   "metadata": {},
   "source": [
    "We plot the distribution of the causal effects to show the bias in predicted outcomes based on the assumed causal graph."
   ]
  },
  {
   "cell_type": "code",
   "execution_count": 29,
   "metadata": {},
   "outputs": [
    {
     "name": "stderr",
     "output_type": "stream",
     "text": [
      "/Users/timsb/miniconda3/envs/causal2020/lib/python3.7/site-packages/seaborn/distributions.py:2551: FutureWarning: `distplot` is a deprecated function and will be removed in a future version. Please adapt your code to use either `displot` (a figure-level function with similar flexibility) or `histplot` (an axes-level function for histograms).\n"
     ]
    },
    {
     "data": {
      "image/png": "[encoded data removed]",
      "text/plain": [
       "<Figure size 1440x720 with 1 Axes>"
      ]
     },
     "metadata": {},
     "output_type": "display_data"
    },
    {
     "name": "stderr",
     "output_type": "stream",
     "text": [
      "/Users/timsb/miniconda3/envs/causal2020/lib/python3.7/site-packages/seaborn/distributions.py:2551: FutureWarning: `distplot` is a deprecated function and will be removed in a future version. Please adapt your code to use either `displot` (a figure-level function with similar flexibility) or `histplot` (an axes-level function for histograms).\n"
     ]
    },
    {
     "data": {
      "image/png": "[encoded data removed]",
      "text/plain": [
       "<Figure size 1440x720 with 1 Axes>"
      ]
     },
     "metadata": {},
     "output_type": "display_data"
    }
   ],
   "source": [
    "sns.set_style(\"white\")\n",
    "\n",
    "FONTSIZE = 13\n",
    "HIST_ALPHA = 0.7\n",
    "\n",
    "plt.figure(figsize=(20, 10))\n",
    "sns.distplot(\n",
    "    causal_effects.true_effect,\n",
    "    label=\"True Effect\",\n",
    "    kde=False,\n",
    "    color=\"#005AB5\",\n",
    "    hist_kws={\"alpha\": HIST_ALPHA},\n",
    ")\n",
    "sns.distplot(\n",
    "    causal_effects.naive_effect,\n",
    "    label=\"Naive Effect\",\n",
    "    kde=False,\n",
    "    color=\"#DC3220\",\n",
    "    hist_kws={\"alpha\": HIST_ALPHA},\n",
    ")\n",
    "plt.title(\n",
    "    \"True Effect vs. Naive Effect\",\n",
    "    fontdict={\"fontsize\": FONTSIZE, \"fontweight\": \"bold\"},\n",
    ")\n",
    "plt.ylabel(\n",
    "    \"Frequency\",\n",
    "    rotation=90,\n",
    "    labelpad=5,\n",
    "    fontdict={\"fontsize\": FONTSIZE, \"fontweight\": \"bold\"},\n",
    ")\n",
    "plt.xlabel(\n",
    "    \"Average Causal Effect\",\n",
    "    fontdict={\"fontsize\": FONTSIZE, \"fontweight\": \"bold\"},\n",
    ")\n",
    "plt.legend(prop={\"size\": FONTSIZE})\n",
    "sns.despine()\n",
    "plt.savefig(TRUE_VS_NAIVE_PLOT_PATH, dpi=500, bbox_inches=\"tight\")\n",
    "if is_notebook():\n",
    "    plt.show()\n",
    "\n",
    "plt.figure(figsize=(20, 10))\n",
    "sns.distplot(\n",
    "    causal_effects.true_effect,\n",
    "    label=\"True Effect\",\n",
    "    kde=False,\n",
    "    color=\"#005AB5\",\n",
    "    hist_kws={\"alpha\": HIST_ALPHA},\n",
    ")\n",
    "sns.distplot(\n",
    "    causal_effects.estimated_effect,\n",
    "    label=\"Estimated Effect\",\n",
    "    kde=False,\n",
    "    color=\"#994F00\",\n",
    "    hist_kws={\"alpha\": HIST_ALPHA},\n",
    ")\n",
    "plt.title(\n",
    "    \"True Effect vs. Estimated Effect\",\n",
    "    fontdict={\"fontsize\": FONTSIZE, \"fontweight\": \"bold\"},\n",
    ")\n",
    "plt.ylabel(\n",
    "    \"Frequency\",\n",
    "    rotation=90,\n",
    "    labelpad=5,\n",
    "    fontdict={\"fontsize\": FONTSIZE, \"fontweight\": \"bold\"},\n",
    ")\n",
    "plt.xlabel(\n",
    "    \"Average Causal Effect\",\n",
    "    fontdict={\"fontsize\": FONTSIZE, \"fontweight\": \"bold\"},\n",
    ")\n",
    "plt.legend(prop={\"size\": FONTSIZE})\n",
    "sns.despine()\n",
    "plt.savefig(TRUE_VS_ESTIMATED_PLOT_PATH, dpi=500, bbox_inches=\"tight\")\n",
    "if is_notebook():\n",
    "    plt.show()"
   ]
  },
  {
   "cell_type": "markdown",
   "metadata": {},
   "source": [
    "# Conclusion"
   ]
  },
  {
   "cell_type": "markdown",
   "metadata": {},
   "source": [
    "The main conclusion from this notebook is that assigning causal intepretations to model parameters is only valid if we draw clear assumptions about the data generation process about the question at hand. The data generating process was shown to be important even as the outcome model remained unchanged. Drawing a causal graph (and testing its validity with the data at hand) allows one to clearly state their assumptions about the data generating process and to clearly assign causal interpretations to specific model parameters."
   ]
  }
 ],
 "metadata": {
  "jupytext": {
   "formats": "ipynb,py:light,md"
  },
  "kernelspec": {
   "display_name": "Python 3",
   "language": "python",
   "name": "python3"
  },
  "language_info": {
   "codemirror_mode": {
    "name": "ipython",
    "version": 3
   },
   "file_extension": ".py",
   "mimetype": "text/x-python",
   "name": "python",
   "nbconvert_exporter": "python",
   "pygments_lexer": "ipython3",
   "version": "3.7.9"
  }
 },
 "nbformat": 4,
 "nbformat_minor": 4
}
