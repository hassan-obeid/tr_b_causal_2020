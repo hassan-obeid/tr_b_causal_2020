{
 "cells": [
  {
   "cell_type": "markdown",
   "metadata": {},
   "source": [
    "# Selection on Observables"
   ]
  },
  {
   "cell_type": "markdown",
   "metadata": {},
   "source": [
    "## Purpose"
   ]
  },
  {
   "cell_type": "markdown",
   "metadata": {},
   "source": [
    "The purpose of this notebook is to illustrate an example of the workflow outlined in [Brathwaite and Walker (2017)](https://arxiv.org/abs/1706.07502). This simple application aims at highlighting the importance of causal structure in estimating causal effects of interest reflecting changes resulting from policy proposals. The basic idea is to show that when we control for intermediate variables of some variable of interest in a causal graph, we never recover the true causal parameter on the variable of interest.\n",
    "\n",
    "This notebook uses the dataset and the MNL utility specification from [Brathwaite and Walker (2016)](https://arxiv.org/abs/1606.05900) for demonstration.\n",
    "The rest of the notebook is organized as follows:\n",
    " - Defining different causal graphs representing different views for how individuals make mode choices. These causal graphs are based on the MNL utility functions from [Brathwaite and Walker (2016)](https://arxiv.org/abs/1606.05900)\n",
    " - Simulating data based on the different beliefs about the data generating process illustrated by both causal graphs.\n",
    " - Perturbing one of the variables (e.g.: Travel Distance) to simulate a policy intervention.\n",
    " - Calculating and plotting the distributions of treatment effects according to different causal graphs."
   ]
  },
  {
   "cell_type": "markdown",
   "metadata": {},
   "source": [
    "# Import Needed Libraries"
   ]
  },
  {
   "cell_type": "code",
   "execution_count": 1,
   "metadata": {},
   "outputs": [],
   "source": [
    "# Built-in libraries\n",
    "import sys\n",
    "\n",
    "# Third party libraries\n",
    "import numpy as np\n",
    "import pandas as pd\n",
    "import matplotlib.pyplot as plt\n",
    "from functools import reduce\n",
    "import seaborn as sns\n",
    "import copy\n",
    "from causalgraphicalmodels import CausalGraphicalModel\n",
    "from collections import defaultdict, OrderedDict\n",
    "import pylogit as pl\n",
    "\n",
    "# Local libraries\n",
    "import causal2020.observables.distfit as distfit\n",
    "import causal2020.observables.simulation as sim\n",
    "import causal2020.observables.regression as reg\n",
    "import causal2020.observables.availability as av\n",
    "from checkrs.utils import simulate_choice_vector\n",
    "from causal2020.observables.graphs import (\n",
    "    IND_UTILITY,\n",
    "    DA_UTILITY,\n",
    "    SHARED_2_UTILITY,\n",
    "    SHARED_3P_UTILITY,\n",
    "    WTW_UTILITY,\n",
    "    DTW_UTILITY,\n",
    "    WTD_UTILITY,\n",
    "    WALK_UTILITY,\n",
    "    BIKE_UTILITY,\n",
    ")"
   ]
  },
  {
   "cell_type": "markdown",
   "metadata": {},
   "source": [
    "# Set Notebook Parameters"
   ]
  },
  {
   "cell_type": "code",
   "execution_count": 2,
   "metadata": {},
   "outputs": [],
   "source": [
    "# Path to Data\n",
    "DATA_PATH = \"../../data/raw/spring_2016_all_bay_area_long_format_plus_cross_bay_col.csv\"\n",
    "\n",
    "# Path to computational code used\n",
    "# in simulation loop\n",
    "SIMULATE_NODES_WIDE = open(\"../../src/observables/simworkflow.py\").read()\n",
    "SIMULATE_PERTURB = open(\"../../src/observables/simperturb.py\").read()"
   ]
  },
  {
   "cell_type": "code",
   "execution_count": 3,
   "metadata": {},
   "outputs": [],
   "source": [
    "# Alternative id column from long format data\n",
    "ALT_ID_COL = \"mode_id\"\n",
    "\n",
    "# Individual specific variables list\n",
    "IND_SPEC_VARS = [\n",
    "    \"household_size\",\n",
    "    \"num_kids\",\n",
    "    \"num_cars\",\n",
    "    \"num_licensed_drivers\",\n",
    "]\n",
    "\n",
    "# Alternative specific variables dictionary\n",
    "# Key is alternative number, value is a list\n",
    "# of alternative specific nodes without parents\n",
    "ALT_SPEC_DICT = {\n",
    "    1: [\"total_travel_distance\"],\n",
    "    2: [\"total_travel_distance\"],\n",
    "    3: [\"total_travel_distance\"],\n",
    "    4: [\"total_travel_time\"],\n",
    "    5: [\"total_travel_time\"],\n",
    "    6: [\"total_travel_time\"],\n",
    "    7: [\"total_travel_distance\"],\n",
    "    8: [\"total_travel_distance\"],\n",
    "}\n",
    "\n",
    "# Trip specific variables list\n",
    "TRIP_SPEC_VARS = [\"cross_bay\"]\n",
    "\n",
    "# Alternative name dictionary\n",
    "# Key is alternative number\n",
    "# value is alternative number snake cased\n",
    "ALT_NAME_DICT = {\n",
    "    1: \"drive_alone\",\n",
    "    2: \"shared_2\",\n",
    "    3: \"shared_3p\",\n",
    "    4: \"wtw\",\n",
    "    5: \"dtw\",\n",
    "    6: \"wtd\",\n",
    "    7: \"walk\",\n",
    "    8: \"bike\",\n",
    "}\n",
    "\n",
    "ALT_ID_TO_MODE_NAME = {\n",
    "    1: \"Drive Alone\",\n",
    "    2: \"Shared Ride 2\",\n",
    "    3: \"Shared Ride 3+\",\n",
    "    4: \"Walk-Transit-Walk\",\n",
    "    5: \"Drive-Transit-Walk\",\n",
    "    6: \"Walk-Transit-Drive\",\n",
    "    7: \"Walk\",\n",
    "    8: \"Bike\",\n",
    "}\n",
    "\n",
    "# Variable type Dictionary\n",
    "# Key is string with variable name from previous\n",
    "# dictionaries and lists, value is a string\n",
    "# with type of the variable\n",
    "VARS_TYPE = {\n",
    "    \"num_kids\": \"categorical\",\n",
    "    \"household_size\": \"categorical\",\n",
    "    \"num_cars\": \"categorical\",\n",
    "    \"num_licensed_drivers\": \"categorical\",\n",
    "    \"cross_bay\": \"categorical\",\n",
    "    \"total_travel_time\": \"continuous\",\n",
    "    \"total_travel_distance\": \"continuous\",\n",
    "    \"total_travel_cost\": \"continuous\",\n",
    "}\n",
    "\n",
    "# Distribution to be explored for continuous variables\n",
    "CONT_DISTS = [\"norm\", \"alpha\", \"beta\", \"gamma\", \"expon\", \"gumbel\"]"
   ]
  },
  {
   "cell_type": "code",
   "execution_count": 4,
   "metadata": {},
   "outputs": [],
   "source": [
    "# Declare regression parameters\n",
    "\n",
    "REGS_DA = {\n",
    "    1: (\"total_travel_distance\", \"total_travel_cost\"),\n",
    "    2: (\"total_travel_distance\", \"total_travel_time\"),\n",
    "}\n",
    "\n",
    "REGS_TYPE_DA = {1: \"linear\", 2: \"linear\"}\n",
    "\n",
    "\n",
    "REGS_SHARED_2 = {\n",
    "    1: (\"total_travel_distance\", \"total_travel_cost\"),\n",
    "    2: (\"total_travel_distance\", \"total_travel_time\"),\n",
    "}\n",
    "\n",
    "REGS_TYPE_SHARED_2 = {1: \"linear\", 2: \"linear\"}\n",
    "\n",
    "\n",
    "REGS_SHARED_3P = {\n",
    "    1: (\"total_travel_distance\", \"total_travel_cost\"),\n",
    "    2: (\"total_travel_distance\", \"total_travel_time\"),\n",
    "}\n",
    "\n",
    "REGS_TYPE_SHARED_3P = {1: \"linear\", 2: \"linear\"}\n",
    "\n",
    "\n",
    "REGS_WTW = {1: (\"total_travel_time\", \"total_travel_cost\")}\n",
    "\n",
    "REGS_TYPE_WTW = {1: \"linear\"}\n",
    "\n",
    "\n",
    "REGS_DTW = {1: (\"total_travel_time\", \"total_travel_cost\")}\n",
    "\n",
    "REGS_TYPE_DTW = {1: \"linear\"}\n",
    "\n",
    "\n",
    "REGS_WTD = {1: (\"total_travel_time\", \"total_travel_cost\")}\n",
    "\n",
    "REGS_TYPE_WTD = {1: \"linear\"}"
   ]
  },
  {
   "cell_type": "code",
   "execution_count": 5,
   "metadata": {},
   "outputs": [],
   "source": [
    "# Parameters for conversion from Wide to Long\n",
    "\n",
    "IND_VARIABLES = [\n",
    "    \"num_kids\",\n",
    "    \"household_size\",\n",
    "    \"num_cars\",\n",
    "    \"num_licensed_drivers\",\n",
    "    \"cross_bay\",\n",
    "]\n",
    "\n",
    "\n",
    "# Dictionary of Alternative Specific Variables\n",
    "# TODO: verify whether all variables are needed\n",
    "# for each alternative\n",
    "ALT_VARYING_VARIABLES = {\n",
    "    u\"total_travel_time\": dict(\n",
    "        [\n",
    "            (1, \"total_travel_time_drive_alone\"),\n",
    "            (2, \"total_travel_time_shared_2\"),\n",
    "            (3, \"total_travel_time_shared_3p\"),\n",
    "            (4, \"total_travel_time_wtw\"),\n",
    "            (5, \"total_travel_time_dtw\"),\n",
    "            (6, \"total_travel_time_wtd\"),\n",
    "        ]\n",
    "    ),\n",
    "    u\"total_travel_cost\": dict(\n",
    "        [\n",
    "            (1, \"total_travel_cost_drive_alone\"),\n",
    "            (2, \"total_travel_cost_shared_2\"),\n",
    "            (3, \"total_travel_cost_shared_3p\"),\n",
    "            (4, \"total_travel_cost_wtw\"),\n",
    "            (5, \"total_travel_cost_dtw\"),\n",
    "            (6, \"total_travel_cost_wtd\"),\n",
    "        ]\n",
    "    ),\n",
    "    u\"total_travel_distance\": dict(\n",
    "        [\n",
    "            (1, \"total_travel_distance_drive_alone\"),\n",
    "            (2, \"total_travel_distance_shared_2\"),\n",
    "            (3, \"total_travel_distance_shared_3p\"),\n",
    "            (7, \"total_travel_distance_walk\"),\n",
    "            (8, \"total_travel_distance_bike\"),\n",
    "        ]\n",
    "    ),\n",
    "}\n",
    "\n",
    "\n",
    "# Dictionary of alternative availability variables\n",
    "AVAILABILITY_VARIABLES = {\n",
    "    1: \"drive_alone_AV\",\n",
    "    2: \"shared_2_AV\",\n",
    "    3: \"shared_3p_AV\",\n",
    "    4: \"wtw_AV\",\n",
    "    5: \"dtw_AV\",\n",
    "    6: \"wtd_AV\",\n",
    "    7: \"walk_AV\",\n",
    "    8: \"bike_AV\",\n",
    "}\n",
    "\n",
    "##########\n",
    "# Determine the columns for: alternative ids, the observation ids and the choice\n",
    "##########\n",
    "# The 'custom_alt_id' is the name of a column to be created in the long-format data\n",
    "# It will identify the alternative associated with each row.\n",
    "CUSTOM_ALT_ID = \"mode_id\"\n",
    "\n",
    "OBS_ID_COL = \"observation_id\"\n",
    "\n",
    "# Declare choice column\n",
    "CHOICE_COL = \"sim_choice\""
   ]
  },
  {
   "cell_type": "code",
   "execution_count": 6,
   "metadata": {},
   "outputs": [],
   "source": [
    "# Create my specification and variable names for the basic MNL model\n",
    "# NOTE: - Keys should be variables within the long format dataframe.\n",
    "#         The sole exception to this is the \"intercept\" key.\n",
    "#       - For the specification dictionary, the values should be lists\n",
    "#         or lists of lists. Within a list, or within the inner-most\n",
    "#         list should be the alternative ID's of the alternative whose\n",
    "#         utility specification the explanatory variable is entering.\n",
    "\n",
    "MNL_SPECIFICATION = OrderedDict()\n",
    "MNL_NAMES = OrderedDict()\n",
    "\n",
    "MNL_SPECIFICATION[\"intercept\"] = [2, 3, 4, 5, 6, 7, 8]\n",
    "MNL_NAMES[\"intercept\"] = [\n",
    "    \"ASC Shared Ride: 2\",\n",
    "    \"ASC Shared Ride: 3+\",\n",
    "    \"ASC Walk-Transit-Walk\",\n",
    "    \"ASC Drive-Transit-Walk\",\n",
    "    \"ASC Walk-Transit-Drive\",\n",
    "    \"ASC Walk\",\n",
    "    \"ASC Bike\",\n",
    "]\n",
    "\n",
    "MNL_SPECIFICATION[\"total_travel_time\"] = [[1, 2, 3], [4, 5, 6]]\n",
    "MNL_NAMES[\"total_travel_time\"] = [\n",
    "    \"Travel Time, units:min (All Auto Modes)\",\n",
    "    \"Travel Time, units:min (All Transit Modes)\",\n",
    "]\n",
    "\n",
    "MNL_SPECIFICATION[\"total_travel_cost\"] = [[4, 5, 6]]\n",
    "MNL_NAMES[\"total_travel_cost\"] = [\"Travel Cost, units:$ (All Transit Modes)\"]\n",
    "\n",
    "MNL_SPECIFICATION[\"cost_per_distance\"] = [1, 2, 3]\n",
    "MNL_NAMES[\"cost_per_distance\"] = [\n",
    "    \"Travel Cost per Distance, units:$/mi (Drive Alone)\",\n",
    "    \"Travel Cost per Distance, units:$/mi (SharedRide-2)\",\n",
    "    \"Travel Cost per Distance, units:$/mi (SharedRide-3+)\",\n",
    "]\n",
    "\n",
    "MNL_SPECIFICATION[\"cars_per_licensed_drivers\"] = [[1, 2, 3]]\n",
    "MNL_NAMES[\"cars_per_licensed_drivers\"] = [\n",
    "    \"Autos per licensed drivers (All Auto Modes)\"\n",
    "]\n",
    "\n",
    "MNL_SPECIFICATION[\"total_travel_distance\"] = [7, 8]\n",
    "MNL_NAMES[\"total_travel_distance\"] = [\n",
    "    \"Travel Distance, units:mi (Walk)\",\n",
    "    \"Travel Distance, units:mi (Bike)\",\n",
    "]\n",
    "\n",
    "MNL_SPECIFICATION[\"cross_bay\"] = [[2, 3]]\n",
    "MNL_NAMES[\"cross_bay\"] = [\"Cross-Bay Tour (Shared Ride 2 & 3+)\"]\n",
    "\n",
    "MNL_SPECIFICATION[\"household_size\"] = [[2, 3]]\n",
    "MNL_NAMES[\"household_size\"] = [\"Household Size (Shared Ride 2 & 3+)\"]\n",
    "\n",
    "MNL_SPECIFICATION[\"num_kids\"] = [[2, 3]]\n",
    "MNL_NAMES[\"num_kids\"] = [\"Number of Kids in Household (Shared Ride 2 & 3+)\"]"
   ]
  },
  {
   "cell_type": "markdown",
   "metadata": {},
   "source": [
    "# Load and Describe Data"
   ]
  },
  {
   "cell_type": "code",
   "execution_count": 7,
   "metadata": {},
   "outputs": [
    {
     "data": {
      "text/plain": [
       "Drive Alone           0.428322\n",
       "Shared Ride 2         0.158841\n",
       "Shared Ride 3+        0.139860\n",
       "Walk-Transit-Walk     0.103397\n",
       "Drive-Transit-Walk    0.015485\n",
       "Walk-Transit-Drive    0.013237\n",
       "Walk                  0.094406\n",
       "Bike                  0.046454\n",
       "Name: Mode Shares, dtype: float64"
      ]
     },
     "execution_count": 7,
     "metadata": {},
     "output_type": "execute_result"
    }
   ],
   "source": [
    "# Reading data from the specified PATH\n",
    "bike_data_long = pd.read_csv(DATA_PATH)\n",
    "\n",
    "# Look at the mode shares in the data set\n",
    "\n",
    "mode_counts = (\n",
    "    bike_data_long.loc[bike_data_long.choice == 1, \"mode_id\"]\n",
    "    .value_counts()\n",
    "    .loc[range(1, 9)]\n",
    ")\n",
    "\n",
    "mode_shares = mode_counts / bike_data_long.observation_id.max()\n",
    "mode_shares.index = [ALT_ID_TO_MODE_NAME[x] for x in mode_shares.index.values]\n",
    "mode_shares.name = \"Mode Shares\"\n",
    "mode_shares"
   ]
  },
  {
   "cell_type": "markdown",
   "metadata": {},
   "source": [
    "# Choice Model Estimation"
   ]
  },
  {
   "cell_type": "markdown",
   "metadata": {},
   "source": [
    "For purposes of this task, we use the MNL specification from Brathwaite and Walker (2016) and estimate the model resulting from such a specification. We assume that the estimated model parameters represent the \"true\" model parameters."
   ]
  },
  {
   "cell_type": "code",
   "execution_count": 8,
   "metadata": {},
   "outputs": [
    {
     "name": "stdout",
     "output_type": "stream",
     "text": [
      "Log-likelihood at zero: -7,599.7019\n",
      "Initial Log-likelihood: -7,599.7019\n"
     ]
    },
    {
     "name": "stderr",
     "output_type": "stream",
     "text": [
      "/Users/timsb/miniconda3/envs/causal2020/lib/python3.7/site-packages/pylogit/choice_tools.py:703: FutureWarning: arrays to stack must be passed as a \"sequence\" type such as list or tuple. Support for non-sequence iterables such as generators is deprecated as of NumPy 1.16 and will raise an error in the future.\n",
      "/Users/timsb/miniconda3/envs/causal2020/lib/python3.7/site-packages/scipy/optimize/_minimize.py:523: RuntimeWarning: Method BFGS does not use Hessian information (hess).\n"
     ]
    },
    {
     "name": "stdout",
     "output_type": "stream",
     "text": [
      "Estimation Time for Point Estimation: 0.34 seconds.\n",
      "Final log-likelihood: -5,073.4276\n"
     ]
    },
    {
     "data": {
      "text/html": [
       "<table class=\"simpletable\">\n",
       "<caption>Multinomial Logit Model Regression Results</caption>\n",
       "<tr>\n",
       "  <th>Dep. Variable:</th>         <td>choice</td>          <th>  No. Observations:  </th>    <td>4,004</td>  \n",
       "</tr>\n",
       "<tr>\n",
       "  <th>Model:</th>         <td>Multinomial Logit Model</td> <th>  Df Residuals:      </th>    <td>3,985</td>  \n",
       "</tr>\n",
       "<tr>\n",
       "  <th>Method:</th>                  <td>MLE</td>           <th>  Df Model:          </th>     <td>19</td>    \n",
       "</tr>\n",
       "<tr>\n",
       "  <th>Date:</th>             <td>Mon, 30 Nov 2020</td>     <th>  Pseudo R-squ.:     </th>    <td>0.332</td>  \n",
       "</tr>\n",
       "<tr>\n",
       "  <th>Time:</th>                 <td>23:07:55</td>         <th>  Pseudo R-bar-squ.: </th>    <td>0.330</td>  \n",
       "</tr>\n",
       "<tr>\n",
       "  <th>AIC:</th>                 <td>10,184.855</td>        <th>  Log-Likelihood:    </th> <td>-5,073.428</td>\n",
       "</tr>\n",
       "<tr>\n",
       "  <th>BIC:</th>                 <td>10,304.461</td>        <th>  LL-Null:           </th> <td>-7,599.702</td>\n",
       "</tr>\n",
       "</table>\n",
       "<table class=\"simpletable\">\n",
       "<tr>\n",
       "                            <td></td>                              <th>coef</th>     <th>std err</th>      <th>z</th>      <th>P>|z|</th>  <th>[0.025</th>    <th>0.975]</th>  \n",
       "</tr>\n",
       "<tr>\n",
       "  <th>ASC Shared Ride: 2</th>                                   <td>   -1.0097</td> <td>    0.486</td> <td>   -2.079</td> <td> 0.038</td> <td>   -1.962</td> <td>   -0.058</td>\n",
       "</tr>\n",
       "<tr>\n",
       "  <th>ASC Shared Ride: 3+</th>                                  <td>    3.4619</td> <td>    1.064</td> <td>    3.254</td> <td> 0.001</td> <td>    1.377</td> <td>    5.547</td>\n",
       "</tr>\n",
       "<tr>\n",
       "  <th>ASC Walk-Transit-Walk</th>                                <td>   -0.3921</td> <td>    0.288</td> <td>   -1.360</td> <td> 0.174</td> <td>   -0.957</td> <td>    0.173</td>\n",
       "</tr>\n",
       "<tr>\n",
       "  <th>ASC Drive-Transit-Walk</th>                               <td>   -2.6220</td> <td>    0.303</td> <td>   -8.660</td> <td> 0.000</td> <td>   -3.215</td> <td>   -2.029</td>\n",
       "</tr>\n",
       "<tr>\n",
       "  <th>ASC Walk-Transit-Drive</th>                               <td>   -2.9773</td> <td>    0.306</td> <td>   -9.725</td> <td> 0.000</td> <td>   -3.577</td> <td>   -2.377</td>\n",
       "</tr>\n",
       "<tr>\n",
       "  <th>ASC Walk</th>                                             <td>    1.5541</td> <td>    0.305</td> <td>    5.101</td> <td> 0.000</td> <td>    0.957</td> <td>    2.151</td>\n",
       "</tr>\n",
       "<tr>\n",
       "  <th>ASC Bike</th>                                             <td>   -1.1059</td> <td>    0.305</td> <td>   -3.628</td> <td> 0.000</td> <td>   -1.703</td> <td>   -0.508</td>\n",
       "</tr>\n",
       "<tr>\n",
       "  <th>Travel Time, units:min (All Auto Modes)</th>              <td>   -0.0760</td> <td>    0.006</td> <td>  -13.728</td> <td> 0.000</td> <td>   -0.087</td> <td>   -0.065</td>\n",
       "</tr>\n",
       "<tr>\n",
       "  <th>Travel Time, units:min (All Transit Modes)</th>           <td>   -0.0274</td> <td>    0.002</td> <td>  -12.768</td> <td> 0.000</td> <td>   -0.032</td> <td>   -0.023</td>\n",
       "</tr>\n",
       "<tr>\n",
       "  <th>Travel Cost, units:$ (All Transit Modes)</th>             <td>   -0.1273</td> <td>    0.037</td> <td>   -3.472</td> <td> 0.001</td> <td>   -0.199</td> <td>   -0.055</td>\n",
       "</tr>\n",
       "<tr>\n",
       "  <th>Travel Cost per Distance, units:$/mi (Drive Alone)</th>   <td>   -5.0613</td> <td>    1.377</td> <td>   -3.675</td> <td> 0.000</td> <td>   -7.760</td> <td>   -2.362</td>\n",
       "</tr>\n",
       "<tr>\n",
       "  <th>Travel Cost per Distance, units:$/mi (SharedRide-2)</th>  <td>  -20.3194</td> <td>    4.548</td> <td>   -4.467</td> <td> 0.000</td> <td>  -29.234</td> <td>  -11.405</td>\n",
       "</tr>\n",
       "<tr>\n",
       "  <th>Travel Cost per Distance, units:$/mi (SharedRide-3+)</th> <td>  -90.9224</td> <td>   14.748</td> <td>   -6.165</td> <td> 0.000</td> <td> -119.829</td> <td>  -62.016</td>\n",
       "</tr>\n",
       "<tr>\n",
       "  <th>Autos per licensed drivers (All Auto Modes)</th>          <td>    1.2134</td> <td>    0.129</td> <td>    9.408</td> <td> 0.000</td> <td>    0.961</td> <td>    1.466</td>\n",
       "</tr>\n",
       "<tr>\n",
       "  <th>Travel Distance, units:mi (Walk)</th>                     <td>   -1.0272</td> <td>    0.050</td> <td>  -20.437</td> <td> 0.000</td> <td>   -1.126</td> <td>   -0.929</td>\n",
       "</tr>\n",
       "<tr>\n",
       "  <th>Travel Distance, units:mi (Bike)</th>                     <td>   -0.2873</td> <td>    0.024</td> <td>  -11.896</td> <td> 0.000</td> <td>   -0.335</td> <td>   -0.240</td>\n",
       "</tr>\n",
       "<tr>\n",
       "  <th>Cross-Bay Tour (Shared Ride 2 & 3+)</th>                  <td>    0.9280</td> <td>    0.327</td> <td>    2.839</td> <td> 0.005</td> <td>    0.287</td> <td>    1.569</td>\n",
       "</tr>\n",
       "<tr>\n",
       "  <th>Household Size (Shared Ride 2 & 3+)</th>                  <td>    0.1136</td> <td>    0.045</td> <td>    2.523</td> <td> 0.012</td> <td>    0.025</td> <td>    0.202</td>\n",
       "</tr>\n",
       "<tr>\n",
       "  <th>Number of Kids in Household (Shared Ride 2 & 3+)</th>     <td>    0.6868</td> <td>    0.054</td> <td>   12.820</td> <td> 0.000</td> <td>    0.582</td> <td>    0.792</td>\n",
       "</tr>\n",
       "</table>"
      ],
      "text/plain": [
       "<class 'statsmodels.iolib.summary.Summary'>\n",
       "\"\"\"\n",
       "                     Multinomial Logit Model Regression Results                    \n",
       "===================================================================================\n",
       "Dep. Variable:                      choice   No. Observations:                4,004\n",
       "Model:             Multinomial Logit Model   Df Residuals:                    3,985\n",
       "Method:                                MLE   Df Model:                           19\n",
       "Date:                     Mon, 30 Nov 2020   Pseudo R-squ.:                   0.332\n",
       "Time:                             23:07:55   Pseudo R-bar-squ.:               0.330\n",
       "AIC:                            10,184.855   Log-Likelihood:             -5,073.428\n",
       "BIC:                            10,304.461   LL-Null:                    -7,599.702\n",
       "========================================================================================================================\n",
       "                                                           coef    std err          z      P>|z|      [0.025      0.975]\n",
       "------------------------------------------------------------------------------------------------------------------------\n",
       "ASC Shared Ride: 2                                      -1.0097      0.486     -2.079      0.038      -1.962      -0.058\n",
       "ASC Shared Ride: 3+                                      3.4619      1.064      3.254      0.001       1.377       5.547\n",
       "ASC Walk-Transit-Walk                                   -0.3921      0.288     -1.360      0.174      -0.957       0.173\n",
       "ASC Drive-Transit-Walk                                  -2.6220      0.303     -8.660      0.000      -3.215      -2.029\n",
       "ASC Walk-Transit-Drive                                  -2.9773      0.306     -9.725      0.000      -3.577      -2.377\n",
       "ASC Walk                                                 1.5541      0.305      5.101      0.000       0.957       2.151\n",
       "ASC Bike                                                -1.1059      0.305     -3.628      0.000      -1.703      -0.508\n",
       "Travel Time, units:min (All Auto Modes)                 -0.0760      0.006    -13.728      0.000      -0.087      -0.065\n",
       "Travel Time, units:min (All Transit Modes)              -0.0274      0.002    -12.768      0.000      -0.032      -0.023\n",
       "Travel Cost, units:$ (All Transit Modes)                -0.1273      0.037     -3.472      0.001      -0.199      -0.055\n",
       "Travel Cost per Distance, units:$/mi (Drive Alone)      -5.0613      1.377     -3.675      0.000      -7.760      -2.362\n",
       "Travel Cost per Distance, units:$/mi (SharedRide-2)    -20.3194      4.548     -4.467      0.000     -29.234     -11.405\n",
       "Travel Cost per Distance, units:$/mi (SharedRide-3+)   -90.9224     14.748     -6.165      0.000    -119.829     -62.016\n",
       "Autos per licensed drivers (All Auto Modes)              1.2134      0.129      9.408      0.000       0.961       1.466\n",
       "Travel Distance, units:mi (Walk)                        -1.0272      0.050    -20.437      0.000      -1.126      -0.929\n",
       "Travel Distance, units:mi (Bike)                        -0.2873      0.024    -11.896      0.000      -0.335      -0.240\n",
       "Cross-Bay Tour (Shared Ride 2 & 3+)                      0.9280      0.327      2.839      0.005       0.287       1.569\n",
       "Household Size (Shared Ride 2 & 3+)                      0.1136      0.045      2.523      0.012       0.025       0.202\n",
       "Number of Kids in Household (Shared Ride 2 & 3+)         0.6868      0.054     12.820      0.000       0.582       0.792\n",
       "========================================================================================================================\n",
       "\"\"\""
      ]
     },
     "execution_count": 8,
     "metadata": {},
     "output_type": "execute_result"
    }
   ],
   "source": [
    "# Estimate the basic MNL model, using the hessian and newton-conjugate gradient\n",
    "mnl_model = pl.create_choice_model(\n",
    "    data=bike_data_long,\n",
    "    alt_id_col=ALT_ID_COL,\n",
    "    obs_id_col=OBS_ID_COL,\n",
    "    choice_col=\"choice\",\n",
    "    specification=MNL_SPECIFICATION,\n",
    "    model_type=\"MNL\",\n",
    "    names=MNL_NAMES,\n",
    ")\n",
    "\n",
    "num_vars = len(reduce(lambda x, y: x + y, MNL_NAMES.values()))\n",
    "\n",
    "# Note newton-cg used to ensure convergence to a point where gradient\n",
    "# is essentially zero for all dimensions.\n",
    "mnl_model.fit_mle(np.zeros(num_vars), method=\"BFGS\")\n",
    "\n",
    "# Look at the estimation results\n",
    "mnl_model.get_statsmodels_summary()"
   ]
  },
  {
   "cell_type": "markdown",
   "metadata": {},
   "source": [
    "# Show Causal Graphs"
   ]
  },
  {
   "cell_type": "markdown",
   "metadata": {},
   "source": [
    "We generate two causal graphs based on the data at hand and the specified utility functions from above:\n",
    "\n",
    " * An \"independent\" causal graph: All nodes are independent and do not affect each other. Any change in any variable in the graph would not result in changes in other variables and would only affect the value of the utility function.\n",
    " * A \"realistic\" causal graph: The structure of this causal graph shows that some variables affect others. In this example, a change in travel distance affects travel time, travel cosst, and directly affects the utility function.\n",
    "\n",
    "The outcome of each of the causal graphs is the utility of each variable. As such, we generate causal graphs based on the utility specification for each alternative."
   ]
  },
  {
   "cell_type": "markdown",
   "metadata": {},
   "source": [
    "## Independent Causal Graph"
   ]
  },
  {
   "cell_type": "code",
   "execution_count": 9,
   "metadata": {},
   "outputs": [
    {
     "data": {
      "image/svg+xml": [
       "<?xml version=\"1.0\" encoding=\"UTF-8\" standalone=\"no\"?>\n",
       "<!DOCTYPE svg PUBLIC \"-//W3C//DTD SVG 1.1//EN\"\n",
       " \"http://www.w3.org/Graphics/SVG/1.1/DTD/svg11.dtd\">\n",
       "<!-- Generated by graphviz version 2.42.3 (20191010.1750)\n",
       " -->\n",
       "<!-- Title: %3 Pages: 1 -->\n",
       "<svg width=\"943pt\" height=\"116pt\"\n",
       " viewBox=\"0.00 0.00 943.09 116.00\" xmlns=\"http://www.w3.org/2000/svg\" xmlns:xlink=\"http://www.w3.org/1999/xlink\">\n",
       "<g id=\"graph0\" class=\"graph\" transform=\"scale(1 1) rotate(0) translate(4 112)\">\n",
       "<title>%3</title>\n",
       "<polygon fill=\"white\" stroke=\"transparent\" points=\"-4,4 -4,-112 939.09,-112 939.09,4 -4,4\"/>\n",
       "<!-- Total Travel Distance -->\n",
       "<g id=\"node1\" class=\"node\">\n",
       "<title>Total Travel Distance</title>\n",
       "<ellipse fill=\"none\" stroke=\"black\" cx=\"90.34\" cy=\"-90\" rx=\"90.18\" ry=\"18\"/>\n",
       "<text text-anchor=\"middle\" x=\"90.34\" y=\"-86.3\" font-family=\"Times,serif\" font-size=\"14.00\">Total Travel Distance</text>\n",
       "</g>\n",
       "<!-- Utility (Drive Alone) -->\n",
       "<g id=\"node5\" class=\"node\">\n",
       "<title>Utility (Drive Alone)</title>\n",
       "<ellipse fill=\"none\" stroke=\"black\" cx=\"445.34\" cy=\"-18\" rx=\"87.99\" ry=\"18\"/>\n",
       "<text text-anchor=\"middle\" x=\"445.34\" y=\"-14.3\" font-family=\"Times,serif\" font-size=\"14.00\">Utility (Drive Alone)</text>\n",
       "</g>\n",
       "<!-- Total Travel Distance&#45;&gt;Utility (Drive Alone) -->\n",
       "<g id=\"edge1\" class=\"edge\">\n",
       "<title>Total Travel Distance&#45;&gt;Utility (Drive Alone)</title>\n",
       "<path fill=\"none\" stroke=\"black\" d=\"M152.18,-76.81C214.12,-64.59 309.35,-45.82 374.35,-33\"/>\n",
       "<polygon fill=\"black\" stroke=\"black\" points=\"375.38,-36.36 384.51,-30.99 374.02,-29.5 375.38,-36.36\"/>\n",
       "</g>\n",
       "<!-- Total Travel Time -->\n",
       "<g id=\"node2\" class=\"node\">\n",
       "<title>Total Travel Time</title>\n",
       "<ellipse fill=\"none\" stroke=\"black\" cx=\"276.34\" cy=\"-90\" rx=\"77.19\" ry=\"18\"/>\n",
       "<text text-anchor=\"middle\" x=\"276.34\" y=\"-86.3\" font-family=\"Times,serif\" font-size=\"14.00\">Total Travel Time</text>\n",
       "</g>\n",
       "<!-- Total Travel Time&#45;&gt;Utility (Drive Alone) -->\n",
       "<g id=\"edge2\" class=\"edge\">\n",
       "<title>Total Travel Time&#45;&gt;Utility (Drive Alone)</title>\n",
       "<path fill=\"none\" stroke=\"black\" d=\"M312.6,-73.98C337.84,-63.53 371.73,-49.49 398.95,-38.22\"/>\n",
       "<polygon fill=\"black\" stroke=\"black\" points=\"400.37,-41.42 408.27,-34.35 397.69,-34.95 400.37,-41.42\"/>\n",
       "</g>\n",
       "<!-- Number of Autos -->\n",
       "<g id=\"node3\" class=\"node\">\n",
       "<title>Number of Autos</title>\n",
       "<ellipse fill=\"none\" stroke=\"black\" cx=\"445.34\" cy=\"-90\" rx=\"74.19\" ry=\"18\"/>\n",
       "<text text-anchor=\"middle\" x=\"445.34\" y=\"-86.3\" font-family=\"Times,serif\" font-size=\"14.00\">Number of Autos</text>\n",
       "</g>\n",
       "<!-- Number of Autos&#45;&gt;Utility (Drive Alone) -->\n",
       "<g id=\"edge5\" class=\"edge\">\n",
       "<title>Number of Autos&#45;&gt;Utility (Drive Alone)</title>\n",
       "<path fill=\"none\" stroke=\"black\" d=\"M445.34,-71.7C445.34,-63.98 445.34,-54.71 445.34,-46.11\"/>\n",
       "<polygon fill=\"black\" stroke=\"black\" points=\"448.84,-46.1 445.34,-36.1 441.84,-46.1 448.84,-46.1\"/>\n",
       "</g>\n",
       "<!-- Number of Licensed Drivers -->\n",
       "<g id=\"node4\" class=\"node\">\n",
       "<title>Number of Licensed Drivers</title>\n",
       "<ellipse fill=\"none\" stroke=\"black\" cx=\"652.34\" cy=\"-90\" rx=\"115.08\" ry=\"18\"/>\n",
       "<text text-anchor=\"middle\" x=\"652.34\" y=\"-86.3\" font-family=\"Times,serif\" font-size=\"14.00\">Number of Licensed Drivers</text>\n",
       "</g>\n",
       "<!-- Number of Licensed Drivers&#45;&gt;Utility (Drive Alone) -->\n",
       "<g id=\"edge4\" class=\"edge\">\n",
       "<title>Number of Licensed Drivers&#45;&gt;Utility (Drive Alone)</title>\n",
       "<path fill=\"none\" stroke=\"black\" d=\"M606.4,-73.46C574.42,-62.65 531.69,-48.2 498.28,-36.9\"/>\n",
       "<polygon fill=\"black\" stroke=\"black\" points=\"499.27,-33.54 488.68,-33.65 497.03,-40.17 499.27,-33.54\"/>\n",
       "</g>\n",
       "<!-- Total Travel Cost -->\n",
       "<g id=\"node6\" class=\"node\">\n",
       "<title>Total Travel Cost</title>\n",
       "<ellipse fill=\"none\" stroke=\"black\" cx=\"860.34\" cy=\"-90\" rx=\"74.99\" ry=\"18\"/>\n",
       "<text text-anchor=\"middle\" x=\"860.34\" y=\"-86.3\" font-family=\"Times,serif\" font-size=\"14.00\">Total Travel Cost</text>\n",
       "</g>\n",
       "<!-- Total Travel Cost&#45;&gt;Utility (Drive Alone) -->\n",
       "<g id=\"edge3\" class=\"edge\">\n",
       "<title>Total Travel Cost&#45;&gt;Utility (Drive Alone)</title>\n",
       "<path fill=\"none\" stroke=\"black\" d=\"M805.73,-77.61C795.96,-75.67 785.86,-73.72 776.34,-72 690.42,-56.43 591.51,-40.91 524.35,-30.72\"/>\n",
       "<polygon fill=\"black\" stroke=\"black\" points=\"524.68,-27.23 514.26,-29.2 523.63,-34.15 524.68,-27.23\"/>\n",
       "</g>\n",
       "</g>\n",
       "</svg>\n"
      ],
      "text/plain": [
       "<graphviz.dot.Digraph at 0x7fae1898dbd0>"
      ]
     },
     "execution_count": 9,
     "metadata": {},
     "output_type": "execute_result"
    }
   ],
   "source": [
    "IND_UTILITY.draw()"
   ]
  },
  {
   "cell_type": "markdown",
   "metadata": {},
   "source": [
    "## Realistic Causal Graphs"
   ]
  },
  {
   "cell_type": "markdown",
   "metadata": {},
   "source": [
    "## Drive Alone"
   ]
  },
  {
   "cell_type": "code",
   "execution_count": 10,
   "metadata": {},
   "outputs": [
    {
     "data": {
      "image/svg+xml": [
       "<?xml version=\"1.0\" encoding=\"UTF-8\" standalone=\"no\"?>\n",
       "<!DOCTYPE svg PUBLIC \"-//W3C//DTD SVG 1.1//EN\"\n",
       " \"http://www.w3.org/Graphics/SVG/1.1/DTD/svg11.dtd\">\n",
       "<!-- Generated by graphviz version 2.42.3 (20191010.1750)\n",
       " -->\n",
       "<!-- Title: %3 Pages: 1 -->\n",
       "<svg width=\"782pt\" height=\"188pt\"\n",
       " viewBox=\"0.00 0.00 782.38 188.00\" xmlns=\"http://www.w3.org/2000/svg\" xmlns:xlink=\"http://www.w3.org/1999/xlink\">\n",
       "<g id=\"graph0\" class=\"graph\" transform=\"scale(1 1) rotate(0) translate(4 184)\">\n",
       "<title>%3</title>\n",
       "<polygon fill=\"white\" stroke=\"transparent\" points=\"-4,4 -4,-184 778.38,-184 778.38,4 -4,4\"/>\n",
       "<!-- Total Travel Distance -->\n",
       "<g id=\"node1\" class=\"node\">\n",
       "<title>Total Travel Distance</title>\n",
       "<ellipse fill=\"none\" stroke=\"black\" cx=\"182.34\" cy=\"-162\" rx=\"90.18\" ry=\"18\"/>\n",
       "<text text-anchor=\"middle\" x=\"182.34\" y=\"-158.3\" font-family=\"Times,serif\" font-size=\"14.00\">Total Travel Distance</text>\n",
       "</g>\n",
       "<!-- Total Travel Time -->\n",
       "<g id=\"node2\" class=\"node\">\n",
       "<title>Total Travel Time</title>\n",
       "<ellipse fill=\"none\" stroke=\"black\" cx=\"77.34\" cy=\"-90\" rx=\"77.19\" ry=\"18\"/>\n",
       "<text text-anchor=\"middle\" x=\"77.34\" y=\"-86.3\" font-family=\"Times,serif\" font-size=\"14.00\">Total Travel Time</text>\n",
       "</g>\n",
       "<!-- Total Travel Distance&#45;&gt;Total Travel Time -->\n",
       "<g id=\"edge1\" class=\"edge\">\n",
       "<title>Total Travel Distance&#45;&gt;Total Travel Time</title>\n",
       "<path fill=\"none\" stroke=\"black\" d=\"M157.73,-144.59C143.64,-135.2 125.78,-123.29 110.48,-113.09\"/>\n",
       "<polygon fill=\"black\" stroke=\"black\" points=\"112.07,-109.94 101.81,-107.31 108.19,-115.77 112.07,-109.94\"/>\n",
       "</g>\n",
       "<!-- Utility (Drive Alone) -->\n",
       "<g id=\"node5\" class=\"node\">\n",
       "<title>Utility (Drive Alone)</title>\n",
       "<ellipse fill=\"none\" stroke=\"black\" cx=\"285.34\" cy=\"-18\" rx=\"87.99\" ry=\"18\"/>\n",
       "<text text-anchor=\"middle\" x=\"285.34\" y=\"-14.3\" font-family=\"Times,serif\" font-size=\"14.00\">Utility (Drive Alone)</text>\n",
       "</g>\n",
       "<!-- Total Travel Distance&#45;&gt;Utility (Drive Alone) -->\n",
       "<g id=\"edge3\" class=\"edge\">\n",
       "<title>Total Travel Distance&#45;&gt;Utility (Drive Alone)</title>\n",
       "<path fill=\"none\" stroke=\"black\" d=\"M182.17,-143.71C182.8,-124.55 186.34,-93.51 201.34,-72 210.73,-58.54 224.75,-47.77 238.65,-39.54\"/>\n",
       "<polygon fill=\"black\" stroke=\"black\" points=\"240.68,-42.41 247.72,-34.5 237.28,-36.3 240.68,-42.41\"/>\n",
       "</g>\n",
       "<!-- Total Travel Cost -->\n",
       "<g id=\"node6\" class=\"node\">\n",
       "<title>Total Travel Cost</title>\n",
       "<ellipse fill=\"none\" stroke=\"black\" cx=\"285.34\" cy=\"-90\" rx=\"74.99\" ry=\"18\"/>\n",
       "<text text-anchor=\"middle\" x=\"285.34\" y=\"-86.3\" font-family=\"Times,serif\" font-size=\"14.00\">Total Travel Cost</text>\n",
       "</g>\n",
       "<!-- Total Travel Distance&#45;&gt;Total Travel Cost -->\n",
       "<g id=\"edge2\" class=\"edge\">\n",
       "<title>Total Travel Distance&#45;&gt;Total Travel Cost</title>\n",
       "<path fill=\"none\" stroke=\"black\" d=\"M206.49,-144.59C220.31,-135.2 237.83,-123.29 252.84,-113.09\"/>\n",
       "<polygon fill=\"black\" stroke=\"black\" points=\"255.04,-115.82 261.35,-107.31 251.11,-110.04 255.04,-115.82\"/>\n",
       "</g>\n",
       "<!-- Total Travel Time&#45;&gt;Utility (Drive Alone) -->\n",
       "<g id=\"edge4\" class=\"edge\">\n",
       "<title>Total Travel Time&#45;&gt;Utility (Drive Alone)</title>\n",
       "<path fill=\"none\" stroke=\"black\" d=\"M119.44,-74.83C151.88,-63.92 196.96,-48.74 231.94,-36.97\"/>\n",
       "<polygon fill=\"black\" stroke=\"black\" points=\"233.16,-40.25 241.52,-33.75 230.93,-33.62 233.16,-40.25\"/>\n",
       "</g>\n",
       "<!-- Number of Autos -->\n",
       "<g id=\"node3\" class=\"node\">\n",
       "<title>Number of Autos</title>\n",
       "<ellipse fill=\"none\" stroke=\"black\" cx=\"452.34\" cy=\"-90\" rx=\"74.19\" ry=\"18\"/>\n",
       "<text text-anchor=\"middle\" x=\"452.34\" y=\"-86.3\" font-family=\"Times,serif\" font-size=\"14.00\">Number of Autos</text>\n",
       "</g>\n",
       "<!-- Number of Autos&#45;&gt;Utility (Drive Alone) -->\n",
       "<g id=\"edge6\" class=\"edge\">\n",
       "<title>Number of Autos&#45;&gt;Utility (Drive Alone)</title>\n",
       "<path fill=\"none\" stroke=\"black\" d=\"M416.93,-74.15C392,-63.71 358.41,-49.63 331.41,-38.31\"/>\n",
       "<polygon fill=\"black\" stroke=\"black\" points=\"332.73,-35.07 322.15,-34.43 330.02,-41.52 332.73,-35.07\"/>\n",
       "</g>\n",
       "<!-- Number of Licensed Drivers -->\n",
       "<g id=\"node4\" class=\"node\">\n",
       "<title>Number of Licensed Drivers</title>\n",
       "<ellipse fill=\"none\" stroke=\"black\" cx=\"659.34\" cy=\"-90\" rx=\"115.08\" ry=\"18\"/>\n",
       "<text text-anchor=\"middle\" x=\"659.34\" y=\"-86.3\" font-family=\"Times,serif\" font-size=\"14.00\">Number of Licensed Drivers</text>\n",
       "</g>\n",
       "<!-- Number of Licensed Drivers&#45;&gt;Utility (Drive Alone) -->\n",
       "<g id=\"edge7\" class=\"edge\">\n",
       "<title>Number of Licensed Drivers&#45;&gt;Utility (Drive Alone)</title>\n",
       "<path fill=\"none\" stroke=\"black\" d=\"M588.56,-75.75C522.49,-63.39 424.35,-45.02 357.76,-32.55\"/>\n",
       "<polygon fill=\"black\" stroke=\"black\" points=\"358.24,-29.08 347.76,-30.68 356.95,-35.96 358.24,-29.08\"/>\n",
       "</g>\n",
       "<!-- Total Travel Cost&#45;&gt;Utility (Drive Alone) -->\n",
       "<g id=\"edge5\" class=\"edge\">\n",
       "<title>Total Travel Cost&#45;&gt;Utility (Drive Alone)</title>\n",
       "<path fill=\"none\" stroke=\"black\" d=\"M285.34,-71.7C285.34,-63.98 285.34,-54.71 285.34,-46.11\"/>\n",
       "<polygon fill=\"black\" stroke=\"black\" points=\"288.84,-46.1 285.34,-36.1 281.84,-46.1 288.84,-46.1\"/>\n",
       "</g>\n",
       "</g>\n",
       "</svg>\n"
      ],
      "text/plain": [
       "<graphviz.dot.Digraph at 0x7fae998dd9d0>"
      ]
     },
     "execution_count": 10,
     "metadata": {},
     "output_type": "execute_result"
    }
   ],
   "source": [
    "DA_UTILITY.draw()"
   ]
  },
  {
   "cell_type": "markdown",
   "metadata": {},
   "source": [
    "## Shared-2"
   ]
  },
  {
   "cell_type": "code",
   "execution_count": 11,
   "metadata": {},
   "outputs": [
    {
     "data": {
      "image/svg+xml": [
       "<?xml version=\"1.0\" encoding=\"UTF-8\" standalone=\"no\"?>\n",
       "<!DOCTYPE svg PUBLIC \"-//W3C//DTD SVG 1.1//EN\"\n",
       " \"http://www.w3.org/Graphics/SVG/1.1/DTD/svg11.dtd\">\n",
       "<!-- Generated by graphviz version 2.42.3 (20191010.1750)\n",
       " -->\n",
       "<!-- Title: %3 Pages: 1 -->\n",
       "<svg width=\"1222pt\" height=\"188pt\"\n",
       " viewBox=\"0.00 0.00 1222.36 188.00\" xmlns=\"http://www.w3.org/2000/svg\" xmlns:xlink=\"http://www.w3.org/1999/xlink\">\n",
       "<g id=\"graph0\" class=\"graph\" transform=\"scale(1 1) rotate(0) translate(4 184)\">\n",
       "<title>%3</title>\n",
       "<polygon fill=\"white\" stroke=\"transparent\" points=\"-4,4 -4,-184 1218.36,-184 1218.36,4 -4,4\"/>\n",
       "<!-- Total Travel Distance -->\n",
       "<g id=\"node1\" class=\"node\">\n",
       "<title>Total Travel Distance</title>\n",
       "<ellipse fill=\"none\" stroke=\"black\" cx=\"93.12\" cy=\"-162\" rx=\"90.18\" ry=\"18\"/>\n",
       "<text text-anchor=\"middle\" x=\"93.12\" y=\"-158.3\" font-family=\"Times,serif\" font-size=\"14.00\">Total Travel Distance</text>\n",
       "</g>\n",
       "<!-- Utility (Shared Ride 2) -->\n",
       "<g id=\"node3\" class=\"node\">\n",
       "<title>Utility (Shared Ride 2)</title>\n",
       "<ellipse fill=\"none\" stroke=\"black\" cx=\"501.12\" cy=\"-18\" rx=\"94.48\" ry=\"18\"/>\n",
       "<text text-anchor=\"middle\" x=\"501.12\" y=\"-14.3\" font-family=\"Times,serif\" font-size=\"14.00\">Utility (Shared Ride 2)</text>\n",
       "</g>\n",
       "<!-- Total Travel Distance&#45;&gt;Utility (Shared Ride 2) -->\n",
       "<g id=\"edge4\" class=\"edge\">\n",
       "<title>Total Travel Distance&#45;&gt;Utility (Shared Ride 2)</title>\n",
       "<path fill=\"none\" stroke=\"black\" d=\"M51.19,-145.84C34.35,-137.44 16.69,-125.15 7.12,-108 -0.68,-94.03 -3.58,-83.9 7.12,-72 32.81,-43.4 262.32,-28.93 399.29,-22.78\"/>\n",
       "<polygon fill=\"black\" stroke=\"black\" points=\"399.56,-26.27 409.4,-22.33 399.25,-19.28 399.56,-26.27\"/>\n",
       "</g>\n",
       "<!-- Total Travel Time -->\n",
       "<g id=\"node4\" class=\"node\">\n",
       "<title>Total Travel Time</title>\n",
       "<ellipse fill=\"none\" stroke=\"black\" cx=\"93.12\" cy=\"-90\" rx=\"77.19\" ry=\"18\"/>\n",
       "<text text-anchor=\"middle\" x=\"93.12\" y=\"-86.3\" font-family=\"Times,serif\" font-size=\"14.00\">Total Travel Time</text>\n",
       "</g>\n",
       "<!-- Total Travel Distance&#45;&gt;Total Travel Time -->\n",
       "<g id=\"edge2\" class=\"edge\">\n",
       "<title>Total Travel Distance&#45;&gt;Total Travel Time</title>\n",
       "<path fill=\"none\" stroke=\"black\" d=\"M93.12,-143.7C93.12,-135.98 93.12,-126.71 93.12,-118.11\"/>\n",
       "<polygon fill=\"black\" stroke=\"black\" points=\"96.62,-118.1 93.12,-108.1 89.62,-118.1 96.62,-118.1\"/>\n",
       "</g>\n",
       "<!-- Total Travel Cost -->\n",
       "<g id=\"node9\" class=\"node\">\n",
       "<title>Total Travel Cost</title>\n",
       "<ellipse fill=\"none\" stroke=\"black\" cx=\"263.12\" cy=\"-90\" rx=\"74.99\" ry=\"18\"/>\n",
       "<text text-anchor=\"middle\" x=\"263.12\" y=\"-86.3\" font-family=\"Times,serif\" font-size=\"14.00\">Total Travel Cost</text>\n",
       "</g>\n",
       "<!-- Total Travel Distance&#45;&gt;Total Travel Cost -->\n",
       "<g id=\"edge3\" class=\"edge\">\n",
       "<title>Total Travel Distance&#45;&gt;Total Travel Cost</title>\n",
       "<path fill=\"none\" stroke=\"black\" d=\"M130.84,-145.46C156.48,-134.91 190.53,-120.89 217.67,-109.71\"/>\n",
       "<polygon fill=\"black\" stroke=\"black\" points=\"219.04,-112.94 226.95,-105.89 216.37,-106.46 219.04,-112.94\"/>\n",
       "</g>\n",
       "<!-- Cross Bay Trip -->\n",
       "<g id=\"node2\" class=\"node\">\n",
       "<title>Cross Bay Trip</title>\n",
       "<ellipse fill=\"none\" stroke=\"black\" cx=\"422.12\" cy=\"-90\" rx=\"66.09\" ry=\"18\"/>\n",
       "<text text-anchor=\"middle\" x=\"422.12\" y=\"-86.3\" font-family=\"Times,serif\" font-size=\"14.00\">Cross Bay Trip</text>\n",
       "</g>\n",
       "<!-- Cross Bay Trip&#45;&gt;Utility (Shared Ride 2) -->\n",
       "<g id=\"edge6\" class=\"edge\">\n",
       "<title>Cross Bay Trip&#45;&gt;Utility (Shared Ride 2)</title>\n",
       "<path fill=\"none\" stroke=\"black\" d=\"M440.84,-72.41C450.9,-63.5 463.47,-52.36 474.53,-42.56\"/>\n",
       "<polygon fill=\"black\" stroke=\"black\" points=\"477.09,-44.96 482.25,-35.71 472.45,-39.72 477.09,-44.96\"/>\n",
       "</g>\n",
       "<!-- Total Travel Time&#45;&gt;Utility (Shared Ride 2) -->\n",
       "<g id=\"edge1\" class=\"edge\">\n",
       "<title>Total Travel Time&#45;&gt;Utility (Shared Ride 2)</title>\n",
       "<path fill=\"none\" stroke=\"black\" d=\"M149.5,-77.59C159.36,-75.67 169.53,-73.74 179.12,-72 261.01,-57.17 354.93,-41.91 420.13,-31.59\"/>\n",
       "<polygon fill=\"black\" stroke=\"black\" points=\"421,-35 430.34,-29.98 419.91,-28.09 421,-35\"/>\n",
       "</g>\n",
       "<!-- Number of Autos -->\n",
       "<g id=\"node5\" class=\"node\">\n",
       "<title>Number of Autos</title>\n",
       "<ellipse fill=\"none\" stroke=\"black\" cx=\"580.12\" cy=\"-90\" rx=\"74.19\" ry=\"18\"/>\n",
       "<text text-anchor=\"middle\" x=\"580.12\" y=\"-86.3\" font-family=\"Times,serif\" font-size=\"14.00\">Number of Autos</text>\n",
       "</g>\n",
       "<!-- Number of Autos&#45;&gt;Utility (Shared Ride 2) -->\n",
       "<g id=\"edge7\" class=\"edge\">\n",
       "<title>Number of Autos&#45;&gt;Utility (Shared Ride 2)</title>\n",
       "<path fill=\"none\" stroke=\"black\" d=\"M561.39,-72.41C551.33,-63.5 538.76,-52.36 527.7,-42.56\"/>\n",
       "<polygon fill=\"black\" stroke=\"black\" points=\"529.78,-39.72 519.98,-35.71 525.14,-44.96 529.78,-39.72\"/>\n",
       "</g>\n",
       "<!-- Number of Kids -->\n",
       "<g id=\"node6\" class=\"node\">\n",
       "<title>Number of Kids</title>\n",
       "<ellipse fill=\"none\" stroke=\"black\" cx=\"742.12\" cy=\"-90\" rx=\"69.59\" ry=\"18\"/>\n",
       "<text text-anchor=\"middle\" x=\"742.12\" y=\"-86.3\" font-family=\"Times,serif\" font-size=\"14.00\">Number of Kids</text>\n",
       "</g>\n",
       "<!-- Number of Kids&#45;&gt;Utility (Shared Ride 2) -->\n",
       "<g id=\"edge10\" class=\"edge\">\n",
       "<title>Number of Kids&#45;&gt;Utility (Shared Ride 2)</title>\n",
       "<path fill=\"none\" stroke=\"black\" d=\"M697.63,-76.08C659.02,-64.86 602.81,-48.54 560.39,-36.22\"/>\n",
       "<polygon fill=\"black\" stroke=\"black\" points=\"561.32,-32.84 550.74,-33.41 559.37,-39.56 561.32,-32.84\"/>\n",
       "</g>\n",
       "<!-- Number of Licensed Drivers -->\n",
       "<g id=\"node7\" class=\"node\">\n",
       "<title>Number of Licensed Drivers</title>\n",
       "<ellipse fill=\"none\" stroke=\"black\" cx=\"945.12\" cy=\"-90\" rx=\"115.08\" ry=\"18\"/>\n",
       "<text text-anchor=\"middle\" x=\"945.12\" y=\"-86.3\" font-family=\"Times,serif\" font-size=\"14.00\">Number of Licensed Drivers</text>\n",
       "</g>\n",
       "<!-- Number of Licensed Drivers&#45;&gt;Utility (Shared Ride 2) -->\n",
       "<g id=\"edge8\" class=\"edge\">\n",
       "<title>Number of Licensed Drivers&#45;&gt;Utility (Shared Ride 2)</title>\n",
       "<path fill=\"none\" stroke=\"black\" d=\"M867.27,-76.73C787.01,-64.07 662.47,-44.44 581.35,-31.65\"/>\n",
       "<polygon fill=\"black\" stroke=\"black\" points=\"581.61,-28.15 571.19,-30.05 580.52,-35.06 581.61,-28.15\"/>\n",
       "</g>\n",
       "<!-- Household Size -->\n",
       "<g id=\"node8\" class=\"node\">\n",
       "<title>Household Size</title>\n",
       "<ellipse fill=\"none\" stroke=\"black\" cx=\"1146.12\" cy=\"-90\" rx=\"68.49\" ry=\"18\"/>\n",
       "<text text-anchor=\"middle\" x=\"1146.12\" y=\"-86.3\" font-family=\"Times,serif\" font-size=\"14.00\">Household Size</text>\n",
       "</g>\n",
       "<!-- Household Size&#45;&gt;Utility (Shared Ride 2) -->\n",
       "<g id=\"edge9\" class=\"edge\">\n",
       "<title>Household Size&#45;&gt;Utility (Shared Ride 2)</title>\n",
       "<path fill=\"none\" stroke=\"black\" d=\"M1097.41,-77.29C1088.06,-75.31 1078.31,-73.44 1069.12,-72 905.98,-46.48 714.43,-31.72 600.66,-24.53\"/>\n",
       "<polygon fill=\"black\" stroke=\"black\" points=\"600.77,-21.03 590.57,-23.9 600.34,-28.02 600.77,-21.03\"/>\n",
       "</g>\n",
       "<!-- Total Travel Cost&#45;&gt;Utility (Shared Ride 2) -->\n",
       "<g id=\"edge5\" class=\"edge\">\n",
       "<title>Total Travel Cost&#45;&gt;Utility (Shared Ride 2)</title>\n",
       "<path fill=\"none\" stroke=\"black\" d=\"M308.44,-75.67C346.4,-64.5 400.84,-48.49 442.18,-36.33\"/>\n",
       "<polygon fill=\"black\" stroke=\"black\" points=\"443.25,-39.67 451.86,-33.49 441.28,-32.95 443.25,-39.67\"/>\n",
       "</g>\n",
       "</g>\n",
       "</svg>\n"
      ],
      "text/plain": [
       "<graphviz.dot.Digraph at 0x7fae998ddcd0>"
      ]
     },
     "execution_count": 11,
     "metadata": {},
     "output_type": "execute_result"
    }
   ],
   "source": [
    "SHARED_2_UTILITY.draw()"
   ]
  },
  {
   "cell_type": "markdown",
   "metadata": {},
   "source": [
    "## Shared-3+"
   ]
  },
  {
   "cell_type": "code",
   "execution_count": 12,
   "metadata": {},
   "outputs": [
    {
     "data": {
      "image/svg+xml": [
       "<?xml version=\"1.0\" encoding=\"UTF-8\" standalone=\"no\"?>\n",
       "<!DOCTYPE svg PUBLIC \"-//W3C//DTD SVG 1.1//EN\"\n",
       " \"http://www.w3.org/Graphics/SVG/1.1/DTD/svg11.dtd\">\n",
       "<!-- Generated by graphviz version 2.42.3 (20191010.1750)\n",
       " -->\n",
       "<!-- Title: %3 Pages: 1 -->\n",
       "<svg width=\"1222pt\" height=\"188pt\"\n",
       " viewBox=\"0.00 0.00 1222.36 188.00\" xmlns=\"http://www.w3.org/2000/svg\" xmlns:xlink=\"http://www.w3.org/1999/xlink\">\n",
       "<g id=\"graph0\" class=\"graph\" transform=\"scale(1 1) rotate(0) translate(4 184)\">\n",
       "<title>%3</title>\n",
       "<polygon fill=\"white\" stroke=\"transparent\" points=\"-4,4 -4,-184 1218.36,-184 1218.36,4 -4,4\"/>\n",
       "<!-- Utility (Shared Ride 3+) -->\n",
       "<g id=\"node1\" class=\"node\">\n",
       "<title>Utility (Shared Ride 3+)</title>\n",
       "<ellipse fill=\"none\" stroke=\"black\" cx=\"501.12\" cy=\"-18\" rx=\"99.38\" ry=\"18\"/>\n",
       "<text text-anchor=\"middle\" x=\"501.12\" y=\"-14.3\" font-family=\"Times,serif\" font-size=\"14.00\">Utility (Shared Ride 3+)</text>\n",
       "</g>\n",
       "<!-- Total Travel Distance -->\n",
       "<g id=\"node2\" class=\"node\">\n",
       "<title>Total Travel Distance</title>\n",
       "<ellipse fill=\"none\" stroke=\"black\" cx=\"93.12\" cy=\"-162\" rx=\"90.18\" ry=\"18\"/>\n",
       "<text text-anchor=\"middle\" x=\"93.12\" y=\"-158.3\" font-family=\"Times,serif\" font-size=\"14.00\">Total Travel Distance</text>\n",
       "</g>\n",
       "<!-- Total Travel Distance&#45;&gt;Utility (Shared Ride 3+) -->\n",
       "<g id=\"edge4\" class=\"edge\">\n",
       "<title>Total Travel Distance&#45;&gt;Utility (Shared Ride 3+)</title>\n",
       "<path fill=\"none\" stroke=\"black\" d=\"M51.19,-145.84C34.35,-137.44 16.69,-125.15 7.12,-108 -0.68,-94.03 -3.58,-83.9 7.12,-72 32.51,-43.73 257.01,-29.27 394.48,-23\"/>\n",
       "<polygon fill=\"black\" stroke=\"black\" points=\"394.8,-26.49 404.63,-22.54 394.48,-19.49 394.8,-26.49\"/>\n",
       "</g>\n",
       "<!-- Total Travel Time -->\n",
       "<g id=\"node4\" class=\"node\">\n",
       "<title>Total Travel Time</title>\n",
       "<ellipse fill=\"none\" stroke=\"black\" cx=\"93.12\" cy=\"-90\" rx=\"77.19\" ry=\"18\"/>\n",
       "<text text-anchor=\"middle\" x=\"93.12\" y=\"-86.3\" font-family=\"Times,serif\" font-size=\"14.00\">Total Travel Time</text>\n",
       "</g>\n",
       "<!-- Total Travel Distance&#45;&gt;Total Travel Time -->\n",
       "<g id=\"edge2\" class=\"edge\">\n",
       "<title>Total Travel Distance&#45;&gt;Total Travel Time</title>\n",
       "<path fill=\"none\" stroke=\"black\" d=\"M93.12,-143.7C93.12,-135.98 93.12,-126.71 93.12,-118.11\"/>\n",
       "<polygon fill=\"black\" stroke=\"black\" points=\"96.62,-118.1 93.12,-108.1 89.62,-118.1 96.62,-118.1\"/>\n",
       "</g>\n",
       "<!-- Total Travel Cost -->\n",
       "<g id=\"node9\" class=\"node\">\n",
       "<title>Total Travel Cost</title>\n",
       "<ellipse fill=\"none\" stroke=\"black\" cx=\"263.12\" cy=\"-90\" rx=\"74.99\" ry=\"18\"/>\n",
       "<text text-anchor=\"middle\" x=\"263.12\" y=\"-86.3\" font-family=\"Times,serif\" font-size=\"14.00\">Total Travel Cost</text>\n",
       "</g>\n",
       "<!-- Total Travel Distance&#45;&gt;Total Travel Cost -->\n",
       "<g id=\"edge3\" class=\"edge\">\n",
       "<title>Total Travel Distance&#45;&gt;Total Travel Cost</title>\n",
       "<path fill=\"none\" stroke=\"black\" d=\"M130.84,-145.46C156.48,-134.91 190.53,-120.89 217.67,-109.71\"/>\n",
       "<polygon fill=\"black\" stroke=\"black\" points=\"219.04,-112.94 226.95,-105.89 216.37,-106.46 219.04,-112.94\"/>\n",
       "</g>\n",
       "<!-- Cross Bay Trip -->\n",
       "<g id=\"node3\" class=\"node\">\n",
       "<title>Cross Bay Trip</title>\n",
       "<ellipse fill=\"none\" stroke=\"black\" cx=\"422.12\" cy=\"-90\" rx=\"66.09\" ry=\"18\"/>\n",
       "<text text-anchor=\"middle\" x=\"422.12\" y=\"-86.3\" font-family=\"Times,serif\" font-size=\"14.00\">Cross Bay Trip</text>\n",
       "</g>\n",
       "<!-- Cross Bay Trip&#45;&gt;Utility (Shared Ride 3+) -->\n",
       "<g id=\"edge6\" class=\"edge\">\n",
       "<title>Cross Bay Trip&#45;&gt;Utility (Shared Ride 3+)</title>\n",
       "<path fill=\"none\" stroke=\"black\" d=\"M440.84,-72.41C450.9,-63.5 463.47,-52.36 474.53,-42.56\"/>\n",
       "<polygon fill=\"black\" stroke=\"black\" points=\"477.09,-44.96 482.25,-35.71 472.45,-39.72 477.09,-44.96\"/>\n",
       "</g>\n",
       "<!-- Total Travel Time&#45;&gt;Utility (Shared Ride 3+) -->\n",
       "<g id=\"edge1\" class=\"edge\">\n",
       "<title>Total Travel Time&#45;&gt;Utility (Shared Ride 3+)</title>\n",
       "<path fill=\"none\" stroke=\"black\" d=\"M149.5,-77.59C159.36,-75.67 169.53,-73.74 179.12,-72 260.21,-57.31 353.12,-42.21 418.22,-31.9\"/>\n",
       "<polygon fill=\"black\" stroke=\"black\" points=\"419.1,-35.3 428.43,-30.28 418,-28.39 419.1,-35.3\"/>\n",
       "</g>\n",
       "<!-- Number of Autos -->\n",
       "<g id=\"node5\" class=\"node\">\n",
       "<title>Number of Autos</title>\n",
       "<ellipse fill=\"none\" stroke=\"black\" cx=\"580.12\" cy=\"-90\" rx=\"74.19\" ry=\"18\"/>\n",
       "<text text-anchor=\"middle\" x=\"580.12\" y=\"-86.3\" font-family=\"Times,serif\" font-size=\"14.00\">Number of Autos</text>\n",
       "</g>\n",
       "<!-- Number of Autos&#45;&gt;Utility (Shared Ride 3+) -->\n",
       "<g id=\"edge7\" class=\"edge\">\n",
       "<title>Number of Autos&#45;&gt;Utility (Shared Ride 3+)</title>\n",
       "<path fill=\"none\" stroke=\"black\" d=\"M561.39,-72.41C551.33,-63.5 538.76,-52.36 527.7,-42.56\"/>\n",
       "<polygon fill=\"black\" stroke=\"black\" points=\"529.78,-39.72 519.98,-35.71 525.14,-44.96 529.78,-39.72\"/>\n",
       "</g>\n",
       "<!-- Number of Kids -->\n",
       "<g id=\"node6\" class=\"node\">\n",
       "<title>Number of Kids</title>\n",
       "<ellipse fill=\"none\" stroke=\"black\" cx=\"742.12\" cy=\"-90\" rx=\"69.59\" ry=\"18\"/>\n",
       "<text text-anchor=\"middle\" x=\"742.12\" y=\"-86.3\" font-family=\"Times,serif\" font-size=\"14.00\">Number of Kids</text>\n",
       "</g>\n",
       "<!-- Number of Kids&#45;&gt;Utility (Shared Ride 3+) -->\n",
       "<g id=\"edge10\" class=\"edge\">\n",
       "<title>Number of Kids&#45;&gt;Utility (Shared Ride 3+)</title>\n",
       "<path fill=\"none\" stroke=\"black\" d=\"M697.63,-76.08C659.27,-64.94 603.55,-48.75 561.22,-36.46\"/>\n",
       "<polygon fill=\"black\" stroke=\"black\" points=\"562.17,-33.09 551.59,-33.66 560.22,-39.81 562.17,-33.09\"/>\n",
       "</g>\n",
       "<!-- Number of Licensed Drivers -->\n",
       "<g id=\"node7\" class=\"node\">\n",
       "<title>Number of Licensed Drivers</title>\n",
       "<ellipse fill=\"none\" stroke=\"black\" cx=\"945.12\" cy=\"-90\" rx=\"115.08\" ry=\"18\"/>\n",
       "<text text-anchor=\"middle\" x=\"945.12\" y=\"-86.3\" font-family=\"Times,serif\" font-size=\"14.00\">Number of Licensed Drivers</text>\n",
       "</g>\n",
       "<!-- Number of Licensed Drivers&#45;&gt;Utility (Shared Ride 3+) -->\n",
       "<g id=\"edge8\" class=\"edge\">\n",
       "<title>Number of Licensed Drivers&#45;&gt;Utility (Shared Ride 3+)</title>\n",
       "<path fill=\"none\" stroke=\"black\" d=\"M867.27,-76.73C787.73,-64.19 664.69,-44.79 583.53,-31.99\"/>\n",
       "<polygon fill=\"black\" stroke=\"black\" points=\"583.78,-28.49 573.35,-30.39 582.69,-35.4 583.78,-28.49\"/>\n",
       "</g>\n",
       "<!-- Household Size -->\n",
       "<g id=\"node8\" class=\"node\">\n",
       "<title>Household Size</title>\n",
       "<ellipse fill=\"none\" stroke=\"black\" cx=\"1146.12\" cy=\"-90\" rx=\"68.49\" ry=\"18\"/>\n",
       "<text text-anchor=\"middle\" x=\"1146.12\" y=\"-86.3\" font-family=\"Times,serif\" font-size=\"14.00\">Household Size</text>\n",
       "</g>\n",
       "<!-- Household Size&#45;&gt;Utility (Shared Ride 3+) -->\n",
       "<g id=\"edge9\" class=\"edge\">\n",
       "<title>Household Size&#45;&gt;Utility (Shared Ride 3+)</title>\n",
       "<path fill=\"none\" stroke=\"black\" d=\"M1097.41,-77.29C1088.06,-75.31 1078.31,-73.44 1069.12,-72 908.12,-46.82 719.44,-32.11 605.17,-24.82\"/>\n",
       "<polygon fill=\"black\" stroke=\"black\" points=\"605.23,-21.31 595.03,-24.18 604.79,-28.3 605.23,-21.31\"/>\n",
       "</g>\n",
       "<!-- Total Travel Cost&#45;&gt;Utility (Shared Ride 3+) -->\n",
       "<g id=\"edge5\" class=\"edge\">\n",
       "<title>Total Travel Cost&#45;&gt;Utility (Shared Ride 3+)</title>\n",
       "<path fill=\"none\" stroke=\"black\" d=\"M308.44,-75.67C346.27,-64.54 400.49,-48.6 441.77,-36.45\"/>\n",
       "<polygon fill=\"black\" stroke=\"black\" points=\"442.83,-39.79 451.44,-33.61 440.86,-33.07 442.83,-39.79\"/>\n",
       "</g>\n",
       "</g>\n",
       "</svg>\n"
      ],
      "text/plain": [
       "<graphviz.dot.Digraph at 0x7fae28adf850>"
      ]
     },
     "execution_count": 12,
     "metadata": {},
     "output_type": "execute_result"
    }
   ],
   "source": [
    "SHARED_3P_UTILITY.draw()"
   ]
  },
  {
   "cell_type": "markdown",
   "metadata": {},
   "source": [
    "## Walk-Transit-Walk"
   ]
  },
  {
   "cell_type": "code",
   "execution_count": 13,
   "metadata": {},
   "outputs": [
    {
     "data": {
      "image/svg+xml": [
       "<?xml version=\"1.0\" encoding=\"UTF-8\" standalone=\"no\"?>\n",
       "<!DOCTYPE svg PUBLIC \"-//W3C//DTD SVG 1.1//EN\"\n",
       " \"http://www.w3.org/Graphics/SVG/1.1/DTD/svg11.dtd\">\n",
       "<!-- Generated by graphviz version 2.42.3 (20191010.1750)\n",
       " -->\n",
       "<!-- Title: %3 Pages: 1 -->\n",
       "<svg width=\"211pt\" height=\"188pt\"\n",
       " viewBox=\"0.00 0.00 211.09 188.00\" xmlns=\"http://www.w3.org/2000/svg\" xmlns:xlink=\"http://www.w3.org/1999/xlink\">\n",
       "<g id=\"graph0\" class=\"graph\" transform=\"scale(1 1) rotate(0) translate(4 184)\">\n",
       "<title>%3</title>\n",
       "<polygon fill=\"white\" stroke=\"transparent\" points=\"-4,4 -4,-184 207.09,-184 207.09,4 -4,4\"/>\n",
       "<!-- Total Travel Cost -->\n",
       "<g id=\"node1\" class=\"node\">\n",
       "<title>Total Travel Cost</title>\n",
       "<ellipse fill=\"none\" stroke=\"black\" cx=\"74.74\" cy=\"-90\" rx=\"74.99\" ry=\"18\"/>\n",
       "<text text-anchor=\"middle\" x=\"74.74\" y=\"-86.3\" font-family=\"Times,serif\" font-size=\"14.00\">Total Travel Cost</text>\n",
       "</g>\n",
       "<!-- Utility (WTW) -->\n",
       "<g id=\"node3\" class=\"node\">\n",
       "<title>Utility (WTW)</title>\n",
       "<ellipse fill=\"none\" stroke=\"black\" cx=\"125.74\" cy=\"-18\" rx=\"65.79\" ry=\"18\"/>\n",
       "<text text-anchor=\"middle\" x=\"125.74\" y=\"-14.3\" font-family=\"Times,serif\" font-size=\"14.00\">Utility (WTW)</text>\n",
       "</g>\n",
       "<!-- Total Travel Cost&#45;&gt;Utility (WTW) -->\n",
       "<g id=\"edge3\" class=\"edge\">\n",
       "<title>Total Travel Cost&#45;&gt;Utility (WTW)</title>\n",
       "<path fill=\"none\" stroke=\"black\" d=\"M87.09,-72.05C93.23,-63.63 100.77,-53.28 107.55,-43.97\"/>\n",
       "<polygon fill=\"black\" stroke=\"black\" points=\"110.45,-45.93 113.51,-35.79 104.79,-41.81 110.45,-45.93\"/>\n",
       "</g>\n",
       "<!-- Total Travel Time -->\n",
       "<g id=\"node2\" class=\"node\">\n",
       "<title>Total Travel Time</title>\n",
       "<ellipse fill=\"none\" stroke=\"black\" cx=\"125.74\" cy=\"-162\" rx=\"77.19\" ry=\"18\"/>\n",
       "<text text-anchor=\"middle\" x=\"125.74\" y=\"-158.3\" font-family=\"Times,serif\" font-size=\"14.00\">Total Travel Time</text>\n",
       "</g>\n",
       "<!-- Total Travel Time&#45;&gt;Total Travel Cost -->\n",
       "<g id=\"edge1\" class=\"edge\">\n",
       "<title>Total Travel Time&#45;&gt;Total Travel Cost</title>\n",
       "<path fill=\"none\" stroke=\"black\" d=\"M113.4,-144.05C107.26,-135.63 99.72,-125.28 92.93,-115.97\"/>\n",
       "<polygon fill=\"black\" stroke=\"black\" points=\"95.69,-113.81 86.98,-107.79 90.04,-117.93 95.69,-113.81\"/>\n",
       "</g>\n",
       "<!-- Total Travel Time&#45;&gt;Utility (WTW) -->\n",
       "<g id=\"edge2\" class=\"edge\">\n",
       "<title>Total Travel Time&#45;&gt;Utility (WTW)</title>\n",
       "<path fill=\"none\" stroke=\"black\" d=\"M139.73,-144.04C146.94,-134.18 154.99,-121.13 158.74,-108 163.14,-92.62 163.14,-87.38 158.74,-72 155.99,-62.36 150.91,-52.76 145.55,-44.44\"/>\n",
       "<polygon fill=\"black\" stroke=\"black\" points=\"148.28,-42.22 139.73,-35.96 142.51,-46.19 148.28,-42.22\"/>\n",
       "</g>\n",
       "</g>\n",
       "</svg>\n"
      ],
      "text/plain": [
       "<graphviz.dot.Digraph at 0x7fae18b35e50>"
      ]
     },
     "execution_count": 13,
     "metadata": {},
     "output_type": "execute_result"
    }
   ],
   "source": [
    "WTW_UTILITY.draw()"
   ]
  },
  {
   "cell_type": "markdown",
   "metadata": {},
   "source": [
    "## Drive-Transit-Walk"
   ]
  },
  {
   "cell_type": "code",
   "execution_count": 14,
   "metadata": {},
   "outputs": [
    {
     "data": {
      "image/svg+xml": [
       "<?xml version=\"1.0\" encoding=\"UTF-8\" standalone=\"no\"?>\n",
       "<!DOCTYPE svg PUBLIC \"-//W3C//DTD SVG 1.1//EN\"\n",
       " \"http://www.w3.org/Graphics/SVG/1.1/DTD/svg11.dtd\">\n",
       "<!-- Generated by graphviz version 2.42.3 (20191010.1750)\n",
       " -->\n",
       "<!-- Title: %3 Pages: 1 -->\n",
       "<svg width=\"211pt\" height=\"188pt\"\n",
       " viewBox=\"0.00 0.00 211.09 188.00\" xmlns=\"http://www.w3.org/2000/svg\" xmlns:xlink=\"http://www.w3.org/1999/xlink\">\n",
       "<g id=\"graph0\" class=\"graph\" transform=\"scale(1 1) rotate(0) translate(4 184)\">\n",
       "<title>%3</title>\n",
       "<polygon fill=\"white\" stroke=\"transparent\" points=\"-4,4 -4,-184 207.09,-184 207.09,4 -4,4\"/>\n",
       "<!-- Total Travel Cost -->\n",
       "<g id=\"node1\" class=\"node\">\n",
       "<title>Total Travel Cost</title>\n",
       "<ellipse fill=\"none\" stroke=\"black\" cx=\"74.74\" cy=\"-90\" rx=\"74.99\" ry=\"18\"/>\n",
       "<text text-anchor=\"middle\" x=\"74.74\" y=\"-86.3\" font-family=\"Times,serif\" font-size=\"14.00\">Total Travel Cost</text>\n",
       "</g>\n",
       "<!-- Utility (DTW) -->\n",
       "<g id=\"node3\" class=\"node\">\n",
       "<title>Utility (DTW)</title>\n",
       "<ellipse fill=\"none\" stroke=\"black\" cx=\"125.74\" cy=\"-18\" rx=\"63.89\" ry=\"18\"/>\n",
       "<text text-anchor=\"middle\" x=\"125.74\" y=\"-14.3\" font-family=\"Times,serif\" font-size=\"14.00\">Utility (DTW)</text>\n",
       "</g>\n",
       "<!-- Total Travel Cost&#45;&gt;Utility (DTW) -->\n",
       "<g id=\"edge3\" class=\"edge\">\n",
       "<title>Total Travel Cost&#45;&gt;Utility (DTW)</title>\n",
       "<path fill=\"none\" stroke=\"black\" d=\"M87.09,-72.05C93.23,-63.63 100.77,-53.28 107.55,-43.97\"/>\n",
       "<polygon fill=\"black\" stroke=\"black\" points=\"110.45,-45.93 113.51,-35.79 104.79,-41.81 110.45,-45.93\"/>\n",
       "</g>\n",
       "<!-- Total Travel Time -->\n",
       "<g id=\"node2\" class=\"node\">\n",
       "<title>Total Travel Time</title>\n",
       "<ellipse fill=\"none\" stroke=\"black\" cx=\"125.74\" cy=\"-162\" rx=\"77.19\" ry=\"18\"/>\n",
       "<text text-anchor=\"middle\" x=\"125.74\" y=\"-158.3\" font-family=\"Times,serif\" font-size=\"14.00\">Total Travel Time</text>\n",
       "</g>\n",
       "<!-- Total Travel Time&#45;&gt;Total Travel Cost -->\n",
       "<g id=\"edge1\" class=\"edge\">\n",
       "<title>Total Travel Time&#45;&gt;Total Travel Cost</title>\n",
       "<path fill=\"none\" stroke=\"black\" d=\"M113.4,-144.05C107.26,-135.63 99.72,-125.28 92.93,-115.97\"/>\n",
       "<polygon fill=\"black\" stroke=\"black\" points=\"95.69,-113.81 86.98,-107.79 90.04,-117.93 95.69,-113.81\"/>\n",
       "</g>\n",
       "<!-- Total Travel Time&#45;&gt;Utility (DTW) -->\n",
       "<g id=\"edge2\" class=\"edge\">\n",
       "<title>Total Travel Time&#45;&gt;Utility (DTW)</title>\n",
       "<path fill=\"none\" stroke=\"black\" d=\"M139.73,-144.04C146.94,-134.18 154.99,-121.13 158.74,-108 163.14,-92.62 163.14,-87.38 158.74,-72 155.99,-62.36 150.91,-52.76 145.55,-44.44\"/>\n",
       "<polygon fill=\"black\" stroke=\"black\" points=\"148.28,-42.22 139.73,-35.96 142.51,-46.19 148.28,-42.22\"/>\n",
       "</g>\n",
       "</g>\n",
       "</svg>\n"
      ],
      "text/plain": [
       "<graphviz.dot.Digraph at 0x7fae1898a310>"
      ]
     },
     "execution_count": 14,
     "metadata": {},
     "output_type": "execute_result"
    }
   ],
   "source": [
    "DTW_UTILITY.draw()"
   ]
  },
  {
   "cell_type": "markdown",
   "metadata": {},
   "source": [
    "##  Walk-Transit-Drive"
   ]
  },
  {
   "cell_type": "code",
   "execution_count": 15,
   "metadata": {},
   "outputs": [
    {
     "data": {
      "image/svg+xml": [
       "<?xml version=\"1.0\" encoding=\"UTF-8\" standalone=\"no\"?>\n",
       "<!DOCTYPE svg PUBLIC \"-//W3C//DTD SVG 1.1//EN\"\n",
       " \"http://www.w3.org/Graphics/SVG/1.1/DTD/svg11.dtd\">\n",
       "<!-- Generated by graphviz version 2.42.3 (20191010.1750)\n",
       " -->\n",
       "<!-- Title: %3 Pages: 1 -->\n",
       "<svg width=\"211pt\" height=\"188pt\"\n",
       " viewBox=\"0.00 0.00 211.09 188.00\" xmlns=\"http://www.w3.org/2000/svg\" xmlns:xlink=\"http://www.w3.org/1999/xlink\">\n",
       "<g id=\"graph0\" class=\"graph\" transform=\"scale(1 1) rotate(0) translate(4 184)\">\n",
       "<title>%3</title>\n",
       "<polygon fill=\"white\" stroke=\"transparent\" points=\"-4,4 -4,-184 207.09,-184 207.09,4 -4,4\"/>\n",
       "<!-- Total Travel Cost -->\n",
       "<g id=\"node1\" class=\"node\">\n",
       "<title>Total Travel Cost</title>\n",
       "<ellipse fill=\"none\" stroke=\"black\" cx=\"74.74\" cy=\"-90\" rx=\"74.99\" ry=\"18\"/>\n",
       "<text text-anchor=\"middle\" x=\"74.74\" y=\"-86.3\" font-family=\"Times,serif\" font-size=\"14.00\">Total Travel Cost</text>\n",
       "</g>\n",
       "<!-- Utility (WTD) -->\n",
       "<g id=\"node3\" class=\"node\">\n",
       "<title>Utility (WTD)</title>\n",
       "<ellipse fill=\"none\" stroke=\"black\" cx=\"125.74\" cy=\"-18\" rx=\"63.89\" ry=\"18\"/>\n",
       "<text text-anchor=\"middle\" x=\"125.74\" y=\"-14.3\" font-family=\"Times,serif\" font-size=\"14.00\">Utility (WTD)</text>\n",
       "</g>\n",
       "<!-- Total Travel Cost&#45;&gt;Utility (WTD) -->\n",
       "<g id=\"edge3\" class=\"edge\">\n",
       "<title>Total Travel Cost&#45;&gt;Utility (WTD)</title>\n",
       "<path fill=\"none\" stroke=\"black\" d=\"M87.09,-72.05C93.23,-63.63 100.77,-53.28 107.55,-43.97\"/>\n",
       "<polygon fill=\"black\" stroke=\"black\" points=\"110.45,-45.93 113.51,-35.79 104.79,-41.81 110.45,-45.93\"/>\n",
       "</g>\n",
       "<!-- Total Travel Time -->\n",
       "<g id=\"node2\" class=\"node\">\n",
       "<title>Total Travel Time</title>\n",
       "<ellipse fill=\"none\" stroke=\"black\" cx=\"125.74\" cy=\"-162\" rx=\"77.19\" ry=\"18\"/>\n",
       "<text text-anchor=\"middle\" x=\"125.74\" y=\"-158.3\" font-family=\"Times,serif\" font-size=\"14.00\">Total Travel Time</text>\n",
       "</g>\n",
       "<!-- Total Travel Time&#45;&gt;Total Travel Cost -->\n",
       "<g id=\"edge1\" class=\"edge\">\n",
       "<title>Total Travel Time&#45;&gt;Total Travel Cost</title>\n",
       "<path fill=\"none\" stroke=\"black\" d=\"M113.4,-144.05C107.26,-135.63 99.72,-125.28 92.93,-115.97\"/>\n",
       "<polygon fill=\"black\" stroke=\"black\" points=\"95.69,-113.81 86.98,-107.79 90.04,-117.93 95.69,-113.81\"/>\n",
       "</g>\n",
       "<!-- Total Travel Time&#45;&gt;Utility (WTD) -->\n",
       "<g id=\"edge2\" class=\"edge\">\n",
       "<title>Total Travel Time&#45;&gt;Utility (WTD)</title>\n",
       "<path fill=\"none\" stroke=\"black\" d=\"M139.73,-144.04C146.94,-134.18 154.99,-121.13 158.74,-108 163.14,-92.62 163.14,-87.38 158.74,-72 155.99,-62.36 150.91,-52.76 145.55,-44.44\"/>\n",
       "<polygon fill=\"black\" stroke=\"black\" points=\"148.28,-42.22 139.73,-35.96 142.51,-46.19 148.28,-42.22\"/>\n",
       "</g>\n",
       "</g>\n",
       "</svg>\n"
      ],
      "text/plain": [
       "<graphviz.dot.Digraph at 0x7fae28adffd0>"
      ]
     },
     "execution_count": 15,
     "metadata": {},
     "output_type": "execute_result"
    }
   ],
   "source": [
    "WTD_UTILITY.draw()"
   ]
  },
  {
   "cell_type": "markdown",
   "metadata": {},
   "source": [
    "## Walk"
   ]
  },
  {
   "cell_type": "code",
   "execution_count": 16,
   "metadata": {},
   "outputs": [
    {
     "data": {
      "image/svg+xml": [
       "<?xml version=\"1.0\" encoding=\"UTF-8\" standalone=\"no\"?>\n",
       "<!DOCTYPE svg PUBLIC \"-//W3C//DTD SVG 1.1//EN\"\n",
       " \"http://www.w3.org/Graphics/SVG/1.1/DTD/svg11.dtd\">\n",
       "<!-- Generated by graphviz version 2.42.3 (20191010.1750)\n",
       " -->\n",
       "<!-- Title: %3 Pages: 1 -->\n",
       "<svg width=\"189pt\" height=\"116pt\"\n",
       " viewBox=\"0.00 0.00 188.68 116.00\" xmlns=\"http://www.w3.org/2000/svg\" xmlns:xlink=\"http://www.w3.org/1999/xlink\">\n",
       "<g id=\"graph0\" class=\"graph\" transform=\"scale(1 1) rotate(0) translate(4 112)\">\n",
       "<title>%3</title>\n",
       "<polygon fill=\"white\" stroke=\"transparent\" points=\"-4,4 -4,-112 184.68,-112 184.68,4 -4,4\"/>\n",
       "<!-- Total Travel Distance -->\n",
       "<g id=\"node1\" class=\"node\">\n",
       "<title>Total Travel Distance</title>\n",
       "<ellipse fill=\"none\" stroke=\"black\" cx=\"90.34\" cy=\"-90\" rx=\"90.18\" ry=\"18\"/>\n",
       "<text text-anchor=\"middle\" x=\"90.34\" y=\"-86.3\" font-family=\"Times,serif\" font-size=\"14.00\">Total Travel Distance</text>\n",
       "</g>\n",
       "<!-- Utility (Walk) -->\n",
       "<g id=\"node2\" class=\"node\">\n",
       "<title>Utility (Walk)</title>\n",
       "<ellipse fill=\"none\" stroke=\"black\" cx=\"90.34\" cy=\"-18\" rx=\"62.29\" ry=\"18\"/>\n",
       "<text text-anchor=\"middle\" x=\"90.34\" y=\"-14.3\" font-family=\"Times,serif\" font-size=\"14.00\">Utility (Walk)</text>\n",
       "</g>\n",
       "<!-- Total Travel Distance&#45;&gt;Utility (Walk) -->\n",
       "<g id=\"edge1\" class=\"edge\">\n",
       "<title>Total Travel Distance&#45;&gt;Utility (Walk)</title>\n",
       "<path fill=\"none\" stroke=\"black\" d=\"M90.34,-71.7C90.34,-63.98 90.34,-54.71 90.34,-46.11\"/>\n",
       "<polygon fill=\"black\" stroke=\"black\" points=\"93.84,-46.1 90.34,-36.1 86.84,-46.1 93.84,-46.1\"/>\n",
       "</g>\n",
       "</g>\n",
       "</svg>\n"
      ],
      "text/plain": [
       "<graphviz.dot.Digraph at 0x7fae28ae5b90>"
      ]
     },
     "execution_count": 16,
     "metadata": {},
     "output_type": "execute_result"
    }
   ],
   "source": [
    "WALK_UTILITY.draw()"
   ]
  },
  {
   "cell_type": "markdown",
   "metadata": {},
   "source": [
    "## Bike"
   ]
  },
  {
   "cell_type": "code",
   "execution_count": 17,
   "metadata": {},
   "outputs": [
    {
     "data": {
      "image/svg+xml": [
       "<?xml version=\"1.0\" encoding=\"UTF-8\" standalone=\"no\"?>\n",
       "<!DOCTYPE svg PUBLIC \"-//W3C//DTD SVG 1.1//EN\"\n",
       " \"http://www.w3.org/Graphics/SVG/1.1/DTD/svg11.dtd\">\n",
       "<!-- Generated by graphviz version 2.42.3 (20191010.1750)\n",
       " -->\n",
       "<!-- Title: %3 Pages: 1 -->\n",
       "<svg width=\"189pt\" height=\"116pt\"\n",
       " viewBox=\"0.00 0.00 188.68 116.00\" xmlns=\"http://www.w3.org/2000/svg\" xmlns:xlink=\"http://www.w3.org/1999/xlink\">\n",
       "<g id=\"graph0\" class=\"graph\" transform=\"scale(1 1) rotate(0) translate(4 112)\">\n",
       "<title>%3</title>\n",
       "<polygon fill=\"white\" stroke=\"transparent\" points=\"-4,4 -4,-112 184.68,-112 184.68,4 -4,4\"/>\n",
       "<!-- Utility (Bike) -->\n",
       "<g id=\"node1\" class=\"node\">\n",
       "<title>Utility (Bike)</title>\n",
       "<ellipse fill=\"none\" stroke=\"black\" cx=\"90.34\" cy=\"-18\" rx=\"59.59\" ry=\"18\"/>\n",
       "<text text-anchor=\"middle\" x=\"90.34\" y=\"-14.3\" font-family=\"Times,serif\" font-size=\"14.00\">Utility (Bike)</text>\n",
       "</g>\n",
       "<!-- Total Travel Distance -->\n",
       "<g id=\"node2\" class=\"node\">\n",
       "<title>Total Travel Distance</title>\n",
       "<ellipse fill=\"none\" stroke=\"black\" cx=\"90.34\" cy=\"-90\" rx=\"90.18\" ry=\"18\"/>\n",
       "<text text-anchor=\"middle\" x=\"90.34\" y=\"-86.3\" font-family=\"Times,serif\" font-size=\"14.00\">Total Travel Distance</text>\n",
       "</g>\n",
       "<!-- Total Travel Distance&#45;&gt;Utility (Bike) -->\n",
       "<g id=\"edge1\" class=\"edge\">\n",
       "<title>Total Travel Distance&#45;&gt;Utility (Bike)</title>\n",
       "<path fill=\"none\" stroke=\"black\" d=\"M90.34,-71.7C90.34,-63.98 90.34,-54.71 90.34,-46.11\"/>\n",
       "<polygon fill=\"black\" stroke=\"black\" points=\"93.84,-46.1 90.34,-36.1 86.84,-46.1 93.84,-46.1\"/>\n",
       "</g>\n",
       "</g>\n",
       "</svg>\n"
      ],
      "text/plain": [
       "<graphviz.dot.Digraph at 0x7fae28ae9390>"
      ]
     },
     "execution_count": 17,
     "metadata": {},
     "output_type": "execute_result"
    }
   ],
   "source": [
    "BIKE_UTILITY.draw()"
   ]
  },
  {
   "cell_type": "markdown",
   "metadata": {},
   "source": [
    "# Selection on Observables Simulation"
   ]
  },
  {
   "cell_type": "markdown",
   "metadata": {},
   "source": [
    "We simulate data based on the assumed structure of the causal diagrams and the original data from [Brathwaite and Walker (2016)](https://arxiv.org/abs/1606.05900). This process goes as follows:\n",
    "\n",
    "For the independent causal graph:\n",
    " * We fit a probability distribution for all the nodes in the utility function\n",
    "\n",
    "For the realistic causal graph:\n",
    " * We fit a probability distribution for all the nodes without any parents/upstream notes in the causal graphs\n",
    " * We fit any regressions between the related explanatory variables\n",
    "\n",
    "Based on these fitted distributions and regressions, we can then simulate data for the remaining nodes in each of the alternatives in our specified model."
   ]
  },
  {
   "cell_type": "markdown",
   "metadata": {},
   "source": [
    "## Distribution Fitting"
   ]
  },
  {
   "cell_type": "code",
   "execution_count": 18,
   "metadata": {},
   "outputs": [
    {
     "name": "stderr",
     "output_type": "stream",
     "text": [
      "WARNING:root:SKIPPED gumbel distribution (taking more than 60 seconds)\n"
     ]
    },
    {
     "name": "stdout",
     "output_type": "stream",
     "text": [
      "Getting Distributions of Individual Specific Variables...\n",
      "---------------------------------------------------------\n",
      "Done...\n",
      "Getting Distributions of Alternative Specific Variables...\n",
      "----------------------------------------------------------\n"
     ]
    },
    {
     "name": "stderr",
     "output_type": "stream",
     "text": [
      "WARNING:root:SKIPPED gumbel distribution (taking more than 60 seconds)\n",
      "WARNING:root:SKIPPED gumbel distribution (taking more than 60 seconds)\n",
      "WARNING:root:SKIPPED gumbel distribution (taking more than 60 seconds)\n",
      "WARNING:root:SKIPPED gumbel distribution (taking more than 60 seconds)\n",
      "WARNING:root:SKIPPED gumbel distribution (taking more than 60 seconds)\n",
      "WARNING:root:SKIPPED gumbel distribution (taking more than 60 seconds)\n",
      "WARNING:root:SKIPPED gumbel distribution (taking more than 60 seconds)\n"
     ]
    },
    {
     "name": "stdout",
     "output_type": "stream",
     "text": [
      "Done...\n",
      "Getting Distributions of Trip Specific Variables...\n",
      "---------------------------------------------------------\n",
      "Done...\n"
     ]
    }
   ],
   "source": [
    "bike_data_params = distfit.get_dist_node_no_parent(\n",
    "    bike_data_long,\n",
    "    ALT_ID_COL,\n",
    "    OBS_ID_COL,\n",
    "    ALT_SPEC_DICT,\n",
    "    ALT_NAME_DICT,\n",
    "    IND_SPEC_VARS,\n",
    "    TRIP_SPEC_VARS,\n",
    "    VARS_TYPE,\n",
    "    CONT_DISTS,\n",
    ")"
   ]
  },
  {
   "cell_type": "markdown",
   "metadata": {},
   "source": [
    "## Regression Fitting"
   ]
  },
  {
   "cell_type": "markdown",
   "metadata": {},
   "source": [
    "Based on the structure of the \"realistic\" causal graphs assumed for each of the alternatives, we fit regressions that will allow us to simulate the remaining nodes in the causal graphs. The utility node will be simulated based on the utility function for each alternative."
   ]
  },
  {
   "cell_type": "markdown",
   "metadata": {},
   "source": [
    "## Drive Alone"
   ]
  },
  {
   "cell_type": "code",
   "execution_count": 19,
   "metadata": {},
   "outputs": [],
   "source": [
    "drive_alone_df = bike_data_long.loc[bike_data_long[\"mode_id\"] == 1]\n",
    "\n",
    "drive_alone_df.reset_index(drop=True, inplace=True)\n",
    "\n",
    "fitted_reg_da = reg.fit_alternative_regression(\n",
    "    regressions=REGS_DA, reg_types=REGS_TYPE_DA, data=drive_alone_df\n",
    ")"
   ]
  },
  {
   "cell_type": "markdown",
   "metadata": {},
   "source": [
    "## Shared-2"
   ]
  },
  {
   "cell_type": "code",
   "execution_count": 20,
   "metadata": {},
   "outputs": [],
   "source": [
    "shared_2_df = bike_data_long.loc[bike_data_long[\"mode_id\"] == 2]\n",
    "\n",
    "shared_2_df.reset_index(drop=True, inplace=True)\n",
    "\n",
    "fitted_reg_shared_2 = reg.fit_alternative_regression(\n",
    "    regressions=REGS_SHARED_2, reg_types=REGS_TYPE_SHARED_2, data=shared_2_df\n",
    ")"
   ]
  },
  {
   "cell_type": "markdown",
   "metadata": {},
   "source": [
    "## Shared-3+"
   ]
  },
  {
   "cell_type": "code",
   "execution_count": 21,
   "metadata": {},
   "outputs": [],
   "source": [
    "shared_3p_df = bike_data_long.loc[bike_data_long[\"mode_id\"] == 3]\n",
    "\n",
    "shared_3p_df.reset_index(drop=True, inplace=True)\n",
    "\n",
    "fitted_reg_shared_3p = reg.fit_alternative_regression(\n",
    "    regressions=REGS_SHARED_3P,\n",
    "    reg_types=REGS_TYPE_SHARED_3P,\n",
    "    data=shared_3p_df,\n",
    ")"
   ]
  },
  {
   "cell_type": "markdown",
   "metadata": {},
   "source": [
    "## Walk-Transit-Walk"
   ]
  },
  {
   "cell_type": "code",
   "execution_count": 22,
   "metadata": {},
   "outputs": [],
   "source": [
    "wtw_df = bike_data_long.loc[bike_data_long[\"mode_id\"] == 4]\n",
    "\n",
    "wtw_df.reset_index(drop=True, inplace=True)\n",
    "\n",
    "fitted_reg_wtw = reg.fit_alternative_regression(\n",
    "    regressions=REGS_WTW, reg_types=REGS_TYPE_WTW, data=wtw_df\n",
    ")"
   ]
  },
  {
   "cell_type": "markdown",
   "metadata": {},
   "source": [
    "## Drive-Transit-Walk"
   ]
  },
  {
   "cell_type": "code",
   "execution_count": 23,
   "metadata": {},
   "outputs": [],
   "source": [
    "dtw_df = bike_data_long.loc[bike_data_long[\"mode_id\"] == 5]\n",
    "\n",
    "dtw_df.reset_index(drop=True, inplace=True)\n",
    "\n",
    "fitted_reg_dtw = reg.fit_alternative_regression(\n",
    "    regressions=REGS_DTW, reg_types=REGS_TYPE_DTW, data=dtw_df\n",
    ")"
   ]
  },
  {
   "cell_type": "markdown",
   "metadata": {},
   "source": [
    "## Walk-Transit-Drive"
   ]
  },
  {
   "cell_type": "code",
   "execution_count": 24,
   "metadata": {},
   "outputs": [],
   "source": [
    "wtd_df = bike_data_long.loc[bike_data_long[\"mode_id\"] == 6]\n",
    "\n",
    "wtd_df.reset_index(drop=True, inplace=True)\n",
    "\n",
    "fitted_reg_wtd = reg.fit_alternative_regression(\n",
    "    regressions=REGS_WTD, reg_types=REGS_TYPE_WTD, data=wtd_df\n",
    ")"
   ]
  },
  {
   "cell_type": "markdown",
   "metadata": {},
   "source": [
    "## Simulation"
   ]
  },
  {
   "cell_type": "markdown",
   "metadata": {},
   "source": [
    "Identifying the probability distributions of parent nodes and identifying the relationships between connected nodes allows us to complete the selection-on-observables simulation. The workflow proceeds as follows:\n",
    "* Simulate two sets of data for the X variables:\n",
    "  - One where all the Xs are independent (i.e. the only edges in the causal graph are between the X and the outcome variable (which is the value of the utility function)).\n",
    "  - One based on a realistic causal graph with confounders. The confounder in this simple example is Travel Distance.\n",
    "* For each of the two causal graphs mentioned in the previous step, simulate choice data based on the outcome model assumed from [Brathwaite and Walker (2016)](https://arxiv.org/abs/1606.05900).\n",
    "* Estimate the choice model for each of those two datasets using the assumed choice model specification.\n",
    "* Apply the do-operator (perturbation) to the variable of interest (Travel Distance), and show that the predicted outcome would be accurate only if our causal graph captures the dependency between the explanatory variables."
   ]
  },
  {
   "cell_type": "markdown",
   "metadata": {},
   "source": [
    "### Simulation Parameters"
   ]
  },
  {
   "cell_type": "code",
   "execution_count": 25,
   "metadata": {},
   "outputs": [],
   "source": [
    "simulation_sizes = np.random.randint(low=3000, high=4000, size=30)\n",
    "sim_number = np.arange(1, 31)\n",
    "models_dictionary = defaultdict(dict)\n",
    "causal_effect_dictionary = {}\n",
    "perturb = 0.8\n",
    "simulation_data = {}\n",
    "causal_effects = pd.DataFrame(\n",
    "    columns=[\"naive_effect\", \"true_effect\", \"estimated_effect\"]\n",
    ")"
   ]
  },
  {
   "cell_type": "code",
   "execution_count": 26,
   "metadata": {},
   "outputs": [
    {
     "name": "stdout",
     "output_type": "stream",
     "text": [
      "Simulation number 1 is in progress...\n",
      "Simulation size is 3317\n",
      "------------------------------------------\n",
      "Simulating data...\n",
      "Simulating Availability...\n"
     ]
    },
    {
     "name": "stderr",
     "output_type": "stream",
     "text": [
      "/Users/timsb/miniconda3/envs/causal2020/lib/python3.7/site-packages/pylogit/choice_tools.py:703: FutureWarning: arrays to stack must be passed as a \"sequence\" type such as list or tuple. Support for non-sequence iterables such as generators is deprecated as of NumPy 1.16 and will raise an error in the future.\n",
      "\n",
      "Simulating Choices:   0%|          | 0/3317 [00:00<?, ?it/s]\u001b[A"
     ]
    },
    {
     "name": "stdout",
     "output_type": "stream",
     "text": [
      "Converting data from wide to long...\n",
      "Simulating Choices...\n"
     ]
    },
    {
     "name": "stderr",
     "output_type": "stream",
     "text": [
      "Simulating Choices: 100%|██████████| 3317/3317 [00:00<00:00, 35138.89it/s]\n",
      "/Users/timsb/miniconda3/envs/causal2020/lib/python3.7/site-packages/pylogit/choice_tools.py:703: FutureWarning: arrays to stack must be passed as a \"sequence\" type such as list or tuple. Support for non-sequence iterables such as generators is deprecated as of NumPy 1.16 and will raise an error in the future.\n"
     ]
    },
    {
     "name": "stdout",
     "output_type": "stream",
     "text": [
      "Estimating the choice model...\n",
      "Estimating Causal Effects...\n",
      "Simulation number 1 is complete!\n",
      "==========================================\n",
      "==========================================\n",
      "Simulation number 2 is in progress...\n",
      "Simulation size is 3693\n",
      "------------------------------------------\n",
      "Simulating data...\n",
      "Simulating Availability...\n"
     ]
    },
    {
     "name": "stderr",
     "output_type": "stream",
     "text": [
      "/Users/timsb/miniconda3/envs/causal2020/lib/python3.7/site-packages/pylogit/choice_tools.py:703: FutureWarning: arrays to stack must be passed as a \"sequence\" type such as list or tuple. Support for non-sequence iterables such as generators is deprecated as of NumPy 1.16 and will raise an error in the future.\n",
      "/Users/timsb/miniconda3/envs/causal2020/lib/python3.7/site-packages/pylogit/choice_tools.py:703: FutureWarning: arrays to stack must be passed as a \"sequence\" type such as list or tuple. Support for non-sequence iterables such as generators is deprecated as of NumPy 1.16 and will raise an error in the future.\n",
      "/Users/timsb/miniconda3/envs/causal2020/lib/python3.7/site-packages/pylogit/choice_tools.py:703: FutureWarning: arrays to stack must be passed as a \"sequence\" type such as list or tuple. Support for non-sequence iterables such as generators is deprecated as of NumPy 1.16 and will raise an error in the future.\n",
      "/Users/timsb/miniconda3/envs/causal2020/lib/python3.7/site-packages/pylogit/choice_tools.py:703: FutureWarning: arrays to stack must be passed as a \"sequence\" type such as list or tuple. Support for non-sequence iterables such as generators is deprecated as of NumPy 1.16 and will raise an error in the future.\n",
      "Exception ignored in: <function tqdm.__del__ at 0x7fae897b95f0>\n",
      "Traceback (most recent call last):\n",
      "  File \"/Users/timsb/miniconda3/envs/causal2020/lib/python3.7/site-packages/tqdm/std.py\", line 1124, in __del__\n",
      "    self.close()\n",
      "  File \"/Users/timsb/miniconda3/envs/causal2020/lib/python3.7/site-packages/tqdm/notebook.py\", line 271, in close\n",
      "    self.sp(bar_style='danger')\n",
      "AttributeError: 'tqdm_notebook' object has no attribute 'sp'\n",
      "/Users/timsb/miniconda3/envs/causal2020/lib/python3.7/site-packages/pylogit/choice_tools.py:703: FutureWarning: arrays to stack must be passed as a \"sequence\" type such as list or tuple. Support for non-sequence iterables such as generators is deprecated as of NumPy 1.16 and will raise an error in the future.\n",
      "\n",
      "Simulating Choices:   0%|          | 0/3693 [00:00<?, ?it/s]\u001b[A"
     ]
    },
    {
     "name": "stdout",
     "output_type": "stream",
     "text": [
      "Converting data from wide to long...\n",
      "Simulating Choices...\n"
     ]
    },
    {
     "name": "stderr",
     "output_type": "stream",
     "text": [
      "Simulating Choices: 100%|██████████| 3693/3693 [00:00<00:00, 37415.67it/s]\n",
      "/Users/timsb/miniconda3/envs/causal2020/lib/python3.7/site-packages/pylogit/choice_tools.py:703: FutureWarning: arrays to stack must be passed as a \"sequence\" type such as list or tuple. Support for non-sequence iterables such as generators is deprecated as of NumPy 1.16 and will raise an error in the future.\n"
     ]
    },
    {
     "name": "stdout",
     "output_type": "stream",
     "text": [
      "Estimating the choice model...\n",
      "Estimating Causal Effects...\n",
      "Simulation number 2 is complete!\n",
      "==========================================\n",
      "==========================================\n",
      "Simulation number 3 is in progress...\n",
      "Simulation size is 3255\n",
      "------------------------------------------\n",
      "Simulating data...\n",
      "Simulating Availability...\n"
     ]
    },
    {
     "name": "stderr",
     "output_type": "stream",
     "text": [
      "/Users/timsb/miniconda3/envs/causal2020/lib/python3.7/site-packages/pylogit/choice_tools.py:703: FutureWarning: arrays to stack must be passed as a \"sequence\" type such as list or tuple. Support for non-sequence iterables such as generators is deprecated as of NumPy 1.16 and will raise an error in the future.\n",
      "/Users/timsb/miniconda3/envs/causal2020/lib/python3.7/site-packages/pylogit/choice_tools.py:703: FutureWarning: arrays to stack must be passed as a \"sequence\" type such as list or tuple. Support for non-sequence iterables such as generators is deprecated as of NumPy 1.16 and will raise an error in the future.\n",
      "Exception ignored in: <function tqdm.__del__ at 0x7fae897b95f0>\n",
      "Traceback (most recent call last):\n",
      "  File \"/Users/timsb/miniconda3/envs/causal2020/lib/python3.7/site-packages/tqdm/std.py\", line 1124, in __del__\n",
      "    self.close()\n",
      "  File \"/Users/timsb/miniconda3/envs/causal2020/lib/python3.7/site-packages/tqdm/notebook.py\", line 271, in close\n",
      "    self.sp(bar_style='danger')\n",
      "AttributeError: 'tqdm_notebook' object has no attribute 'sp'\n",
      "/Users/timsb/miniconda3/envs/causal2020/lib/python3.7/site-packages/pylogit/choice_tools.py:703: FutureWarning: arrays to stack must be passed as a \"sequence\" type such as list or tuple. Support for non-sequence iterables such as generators is deprecated as of NumPy 1.16 and will raise an error in the future.\n",
      "/Users/timsb/miniconda3/envs/causal2020/lib/python3.7/site-packages/pylogit/choice_tools.py:703: FutureWarning: arrays to stack must be passed as a \"sequence\" type such as list or tuple. Support for non-sequence iterables such as generators is deprecated as of NumPy 1.16 and will raise an error in the future.\n",
      "/Users/timsb/miniconda3/envs/causal2020/lib/python3.7/site-packages/pylogit/choice_tools.py:703: FutureWarning: arrays to stack must be passed as a \"sequence\" type such as list or tuple. Support for non-sequence iterables such as generators is deprecated as of NumPy 1.16 and will raise an error in the future.\n",
      "\n",
      "Simulating Choices:   0%|          | 0/3255 [00:00<?, ?it/s]\u001b[A"
     ]
    },
    {
     "name": "stdout",
     "output_type": "stream",
     "text": [
      "Converting data from wide to long...\n",
      "Simulating Choices...\n"
     ]
    },
    {
     "name": "stderr",
     "output_type": "stream",
     "text": [
      "Simulating Choices: 100%|██████████| 3255/3255 [00:00<00:00, 35337.76it/s]\n",
      "/Users/timsb/miniconda3/envs/causal2020/lib/python3.7/site-packages/pylogit/choice_tools.py:703: FutureWarning: arrays to stack must be passed as a \"sequence\" type such as list or tuple. Support for non-sequence iterables such as generators is deprecated as of NumPy 1.16 and will raise an error in the future.\n"
     ]
    },
    {
     "name": "stdout",
     "output_type": "stream",
     "text": [
      "Estimating the choice model...\n",
      "Estimating Causal Effects...\n",
      "Simulation number 3 is complete!\n",
      "==========================================\n",
      "==========================================\n",
      "Simulation number 4 is in progress...\n",
      "Simulation size is 3125\n",
      "------------------------------------------\n",
      "Simulating data...\n",
      "Simulating Availability...\n"
     ]
    },
    {
     "name": "stderr",
     "output_type": "stream",
     "text": [
      "/Users/timsb/miniconda3/envs/causal2020/lib/python3.7/site-packages/pylogit/choice_tools.py:703: FutureWarning: arrays to stack must be passed as a \"sequence\" type such as list or tuple. Support for non-sequence iterables such as generators is deprecated as of NumPy 1.16 and will raise an error in the future.\n",
      "/Users/timsb/miniconda3/envs/causal2020/lib/python3.7/site-packages/pylogit/choice_tools.py:703: FutureWarning: arrays to stack must be passed as a \"sequence\" type such as list or tuple. Support for non-sequence iterables such as generators is deprecated as of NumPy 1.16 and will raise an error in the future.\n",
      "Exception ignored in: <function tqdm.__del__ at 0x7fae897b95f0>\n",
      "Traceback (most recent call last):\n",
      "  File \"/Users/timsb/miniconda3/envs/causal2020/lib/python3.7/site-packages/tqdm/std.py\", line 1124, in __del__\n",
      "    self.close()\n",
      "  File \"/Users/timsb/miniconda3/envs/causal2020/lib/python3.7/site-packages/tqdm/notebook.py\", line 271, in close\n",
      "    self.sp(bar_style='danger')\n",
      "AttributeError: 'tqdm_notebook' object has no attribute 'sp'\n",
      "/Users/timsb/miniconda3/envs/causal2020/lib/python3.7/site-packages/pylogit/choice_tools.py:703: FutureWarning: arrays to stack must be passed as a \"sequence\" type such as list or tuple. Support for non-sequence iterables such as generators is deprecated as of NumPy 1.16 and will raise an error in the future.\n",
      "/Users/timsb/miniconda3/envs/causal2020/lib/python3.7/site-packages/pylogit/choice_tools.py:703: FutureWarning: arrays to stack must be passed as a \"sequence\" type such as list or tuple. Support for non-sequence iterables such as generators is deprecated as of NumPy 1.16 and will raise an error in the future.\n",
      "/Users/timsb/miniconda3/envs/causal2020/lib/python3.7/site-packages/pylogit/choice_tools.py:703: FutureWarning: arrays to stack must be passed as a \"sequence\" type such as list or tuple. Support for non-sequence iterables such as generators is deprecated as of NumPy 1.16 and will raise an error in the future.\n",
      "\n",
      "Simulating Choices:   0%|          | 0/3125 [00:00<?, ?it/s]\u001b[A"
     ]
    },
    {
     "name": "stdout",
     "output_type": "stream",
     "text": [
      "Converting data from wide to long...\n",
      "Simulating Choices...\n"
     ]
    },
    {
     "name": "stderr",
     "output_type": "stream",
     "text": [
      "Simulating Choices: 100%|██████████| 3125/3125 [00:00<00:00, 36968.66it/s]\n",
      "/Users/timsb/miniconda3/envs/causal2020/lib/python3.7/site-packages/pylogit/choice_tools.py:703: FutureWarning: arrays to stack must be passed as a \"sequence\" type such as list or tuple. Support for non-sequence iterables such as generators is deprecated as of NumPy 1.16 and will raise an error in the future.\n"
     ]
    },
    {
     "name": "stdout",
     "output_type": "stream",
     "text": [
      "Estimating the choice model...\n",
      "Estimating Causal Effects...\n"
     ]
    },
    {
     "name": "stderr",
     "output_type": "stream",
     "text": [
      "/Users/timsb/miniconda3/envs/causal2020/lib/python3.7/site-packages/pylogit/choice_tools.py:703: FutureWarning: arrays to stack must be passed as a \"sequence\" type such as list or tuple. Support for non-sequence iterables such as generators is deprecated as of NumPy 1.16 and will raise an error in the future.\n",
      "/Users/timsb/miniconda3/envs/causal2020/lib/python3.7/site-packages/pylogit/choice_tools.py:703: FutureWarning: arrays to stack must be passed as a \"sequence\" type such as list or tuple. Support for non-sequence iterables such as generators is deprecated as of NumPy 1.16 and will raise an error in the future.\n",
      "Exception ignored in: <function tqdm.__del__ at 0x7fae897b95f0>\n",
      "Traceback (most recent call last):\n",
      "  File \"/Users/timsb/miniconda3/envs/causal2020/lib/python3.7/site-packages/tqdm/std.py\", line 1124, in __del__\n",
      "    self.close()\n",
      "  File \"/Users/timsb/miniconda3/envs/causal2020/lib/python3.7/site-packages/tqdm/notebook.py\", line 271, in close\n",
      "    self.sp(bar_style='danger')\n",
      "AttributeError: 'tqdm_notebook' object has no attribute 'sp'\n",
      "/Users/timsb/miniconda3/envs/causal2020/lib/python3.7/site-packages/pylogit/choice_tools.py:703: FutureWarning: arrays to stack must be passed as a \"sequence\" type such as list or tuple. Support for non-sequence iterables such as generators is deprecated as of NumPy 1.16 and will raise an error in the future.\n",
      "/Users/timsb/miniconda3/envs/causal2020/lib/python3.7/site-packages/pylogit/choice_tools.py:703: FutureWarning: arrays to stack must be passed as a \"sequence\" type such as list or tuple. Support for non-sequence iterables such as generators is deprecated as of NumPy 1.16 and will raise an error in the future.\n"
     ]
    },
    {
     "name": "stdout",
     "output_type": "stream",
     "text": [
      "Simulation number 4 is complete!\n",
      "==========================================\n",
      "==========================================\n",
      "Simulation number 5 is in progress...\n",
      "Simulation size is 3712\n",
      "------------------------------------------\n",
      "Simulating data...\n",
      "Simulating Availability...\n"
     ]
    },
    {
     "name": "stderr",
     "output_type": "stream",
     "text": [
      "/Users/timsb/miniconda3/envs/causal2020/lib/python3.7/site-packages/pylogit/choice_tools.py:703: FutureWarning: arrays to stack must be passed as a \"sequence\" type such as list or tuple. Support for non-sequence iterables such as generators is deprecated as of NumPy 1.16 and will raise an error in the future.\n",
      "\n",
      "Simulating Choices:   0%|          | 0/3712 [00:00<?, ?it/s]\u001b[A"
     ]
    },
    {
     "name": "stdout",
     "output_type": "stream",
     "text": [
      "Converting data from wide to long...\n",
      "Simulating Choices...\n"
     ]
    },
    {
     "name": "stderr",
     "output_type": "stream",
     "text": [
      "Simulating Choices: 100%|██████████| 3712/3712 [00:00<00:00, 38820.27it/s]\n",
      "/Users/timsb/miniconda3/envs/causal2020/lib/python3.7/site-packages/pylogit/choice_tools.py:703: FutureWarning: arrays to stack must be passed as a \"sequence\" type such as list or tuple. Support for non-sequence iterables such as generators is deprecated as of NumPy 1.16 and will raise an error in the future.\n"
     ]
    },
    {
     "name": "stdout",
     "output_type": "stream",
     "text": [
      "Estimating the choice model...\n",
      "Estimating Causal Effects...\n",
      "Simulation number 5 is complete!\n",
      "==========================================\n",
      "==========================================\n",
      "Simulation number 6 is in progress...\n",
      "Simulation size is 3916\n",
      "------------------------------------------\n",
      "Simulating data...\n",
      "Simulating Availability...\n"
     ]
    },
    {
     "name": "stderr",
     "output_type": "stream",
     "text": [
      "/Users/timsb/miniconda3/envs/causal2020/lib/python3.7/site-packages/pylogit/choice_tools.py:703: FutureWarning: arrays to stack must be passed as a \"sequence\" type such as list or tuple. Support for non-sequence iterables such as generators is deprecated as of NumPy 1.16 and will raise an error in the future.\n",
      "/Users/timsb/miniconda3/envs/causal2020/lib/python3.7/site-packages/pylogit/choice_tools.py:703: FutureWarning: arrays to stack must be passed as a \"sequence\" type such as list or tuple. Support for non-sequence iterables such as generators is deprecated as of NumPy 1.16 and will raise an error in the future.\n",
      "Exception ignored in: <function tqdm.__del__ at 0x7fae897b95f0>\n",
      "Traceback (most recent call last):\n",
      "  File \"/Users/timsb/miniconda3/envs/causal2020/lib/python3.7/site-packages/tqdm/std.py\", line 1124, in __del__\n",
      "    self.close()\n",
      "  File \"/Users/timsb/miniconda3/envs/causal2020/lib/python3.7/site-packages/tqdm/notebook.py\", line 271, in close\n",
      "    self.sp(bar_style='danger')\n",
      "AttributeError: 'tqdm_notebook' object has no attribute 'sp'\n",
      "/Users/timsb/miniconda3/envs/causal2020/lib/python3.7/site-packages/pylogit/choice_tools.py:703: FutureWarning: arrays to stack must be passed as a \"sequence\" type such as list or tuple. Support for non-sequence iterables such as generators is deprecated as of NumPy 1.16 and will raise an error in the future.\n",
      "/Users/timsb/miniconda3/envs/causal2020/lib/python3.7/site-packages/pylogit/choice_tools.py:703: FutureWarning: arrays to stack must be passed as a \"sequence\" type such as list or tuple. Support for non-sequence iterables such as generators is deprecated as of NumPy 1.16 and will raise an error in the future.\n",
      "/Users/timsb/miniconda3/envs/causal2020/lib/python3.7/site-packages/pylogit/choice_tools.py:703: FutureWarning: arrays to stack must be passed as a \"sequence\" type such as list or tuple. Support for non-sequence iterables such as generators is deprecated as of NumPy 1.16 and will raise an error in the future.\n",
      "\n",
      "Simulating Choices:   0%|          | 0/3916 [00:00<?, ?it/s]\u001b[A"
     ]
    },
    {
     "name": "stdout",
     "output_type": "stream",
     "text": [
      "Converting data from wide to long...\n",
      "Simulating Choices...\n"
     ]
    },
    {
     "name": "stderr",
     "output_type": "stream",
     "text": [
      "Simulating Choices: 100%|██████████| 3916/3916 [00:00<00:00, 40898.13it/s]\n",
      "/Users/timsb/miniconda3/envs/causal2020/lib/python3.7/site-packages/pylogit/choice_tools.py:703: FutureWarning: arrays to stack must be passed as a \"sequence\" type such as list or tuple. Support for non-sequence iterables such as generators is deprecated as of NumPy 1.16 and will raise an error in the future.\n"
     ]
    },
    {
     "name": "stdout",
     "output_type": "stream",
     "text": [
      "Estimating the choice model...\n",
      "Estimating Causal Effects...\n",
      "Simulation number 6 is complete!\n",
      "==========================================\n",
      "==========================================\n",
      "Simulation number 7 is in progress...\n",
      "Simulation size is 3774\n",
      "------------------------------------------\n",
      "Simulating data...\n",
      "Simulating Availability...\n"
     ]
    },
    {
     "name": "stderr",
     "output_type": "stream",
     "text": [
      "/Users/timsb/miniconda3/envs/causal2020/lib/python3.7/site-packages/pylogit/choice_tools.py:703: FutureWarning: arrays to stack must be passed as a \"sequence\" type such as list or tuple. Support for non-sequence iterables such as generators is deprecated as of NumPy 1.16 and will raise an error in the future.\n",
      "/Users/timsb/miniconda3/envs/causal2020/lib/python3.7/site-packages/pylogit/choice_tools.py:703: FutureWarning: arrays to stack must be passed as a \"sequence\" type such as list or tuple. Support for non-sequence iterables such as generators is deprecated as of NumPy 1.16 and will raise an error in the future.\n",
      "Exception ignored in: <function tqdm.__del__ at 0x7fae897b95f0>\n",
      "Traceback (most recent call last):\n",
      "  File \"/Users/timsb/miniconda3/envs/causal2020/lib/python3.7/site-packages/tqdm/std.py\", line 1124, in __del__\n",
      "    self.close()\n",
      "  File \"/Users/timsb/miniconda3/envs/causal2020/lib/python3.7/site-packages/tqdm/notebook.py\", line 271, in close\n",
      "    self.sp(bar_style='danger')\n",
      "AttributeError: 'tqdm_notebook' object has no attribute 'sp'\n",
      "/Users/timsb/miniconda3/envs/causal2020/lib/python3.7/site-packages/pylogit/choice_tools.py:703: FutureWarning: arrays to stack must be passed as a \"sequence\" type such as list or tuple. Support for non-sequence iterables such as generators is deprecated as of NumPy 1.16 and will raise an error in the future.\n",
      "/Users/timsb/miniconda3/envs/causal2020/lib/python3.7/site-packages/pylogit/choice_tools.py:703: FutureWarning: arrays to stack must be passed as a \"sequence\" type such as list or tuple. Support for non-sequence iterables such as generators is deprecated as of NumPy 1.16 and will raise an error in the future.\n",
      "/Users/timsb/miniconda3/envs/causal2020/lib/python3.7/site-packages/pylogit/choice_tools.py:703: FutureWarning: arrays to stack must be passed as a \"sequence\" type such as list or tuple. Support for non-sequence iterables such as generators is deprecated as of NumPy 1.16 and will raise an error in the future.\n",
      "\n",
      "Simulating Choices:   0%|          | 0/3774 [00:00<?, ?it/s]\u001b[A"
     ]
    },
    {
     "name": "stdout",
     "output_type": "stream",
     "text": [
      "Converting data from wide to long...\n",
      "Simulating Choices...\n"
     ]
    },
    {
     "name": "stderr",
     "output_type": "stream",
     "text": [
      "Simulating Choices: 100%|██████████| 3774/3774 [00:00<00:00, 38379.37it/s]\n",
      "/Users/timsb/miniconda3/envs/causal2020/lib/python3.7/site-packages/pylogit/choice_tools.py:703: FutureWarning: arrays to stack must be passed as a \"sequence\" type such as list or tuple. Support for non-sequence iterables such as generators is deprecated as of NumPy 1.16 and will raise an error in the future.\n"
     ]
    },
    {
     "name": "stdout",
     "output_type": "stream",
     "text": [
      "Estimating the choice model...\n",
      "Estimating Causal Effects...\n",
      "Simulation number 7 is complete!\n",
      "==========================================\n",
      "==========================================\n",
      "Simulation number 8 is in progress...\n",
      "Simulation size is 3719\n",
      "------------------------------------------\n",
      "Simulating data...\n",
      "Simulating Availability...\n"
     ]
    },
    {
     "name": "stderr",
     "output_type": "stream",
     "text": [
      "/Users/timsb/miniconda3/envs/causal2020/lib/python3.7/site-packages/pylogit/choice_tools.py:703: FutureWarning: arrays to stack must be passed as a \"sequence\" type such as list or tuple. Support for non-sequence iterables such as generators is deprecated as of NumPy 1.16 and will raise an error in the future.\n",
      "/Users/timsb/miniconda3/envs/causal2020/lib/python3.7/site-packages/pylogit/choice_tools.py:703: FutureWarning: arrays to stack must be passed as a \"sequence\" type such as list or tuple. Support for non-sequence iterables such as generators is deprecated as of NumPy 1.16 and will raise an error in the future.\n",
      "Exception ignored in: <function tqdm.__del__ at 0x7fae897b95f0>\n",
      "Traceback (most recent call last):\n",
      "  File \"/Users/timsb/miniconda3/envs/causal2020/lib/python3.7/site-packages/tqdm/std.py\", line 1124, in __del__\n",
      "    self.close()\n",
      "  File \"/Users/timsb/miniconda3/envs/causal2020/lib/python3.7/site-packages/tqdm/notebook.py\", line 271, in close\n",
      "    self.sp(bar_style='danger')\n",
      "AttributeError: 'tqdm_notebook' object has no attribute 'sp'\n",
      "/Users/timsb/miniconda3/envs/causal2020/lib/python3.7/site-packages/pylogit/choice_tools.py:703: FutureWarning: arrays to stack must be passed as a \"sequence\" type such as list or tuple. Support for non-sequence iterables such as generators is deprecated as of NumPy 1.16 and will raise an error in the future.\n",
      "/Users/timsb/miniconda3/envs/causal2020/lib/python3.7/site-packages/pylogit/choice_tools.py:703: FutureWarning: arrays to stack must be passed as a \"sequence\" type such as list or tuple. Support for non-sequence iterables such as generators is deprecated as of NumPy 1.16 and will raise an error in the future.\n",
      "/Users/timsb/miniconda3/envs/causal2020/lib/python3.7/site-packages/pylogit/choice_tools.py:703: FutureWarning: arrays to stack must be passed as a \"sequence\" type such as list or tuple. Support for non-sequence iterables such as generators is deprecated as of NumPy 1.16 and will raise an error in the future.\n",
      "\n",
      "Simulating Choices:   0%|          | 0/3719 [00:00<?, ?it/s]\u001b[A"
     ]
    },
    {
     "name": "stdout",
     "output_type": "stream",
     "text": [
      "Converting data from wide to long...\n",
      "Simulating Choices...\n"
     ]
    },
    {
     "name": "stderr",
     "output_type": "stream",
     "text": [
      "Simulating Choices: 100%|██████████| 3719/3719 [00:00<00:00, 38599.64it/s]\n",
      "/Users/timsb/miniconda3/envs/causal2020/lib/python3.7/site-packages/pylogit/choice_tools.py:703: FutureWarning: arrays to stack must be passed as a \"sequence\" type such as list or tuple. Support for non-sequence iterables such as generators is deprecated as of NumPy 1.16 and will raise an error in the future.\n"
     ]
    },
    {
     "name": "stdout",
     "output_type": "stream",
     "text": [
      "Estimating the choice model...\n",
      "Estimating Causal Effects...\n",
      "Simulation number 8 is complete!\n",
      "==========================================\n",
      "==========================================\n",
      "Simulation number 9 is in progress...\n",
      "Simulation size is 3578\n",
      "------------------------------------------\n",
      "Simulating data...\n",
      "Simulating Availability...\n"
     ]
    },
    {
     "name": "stderr",
     "output_type": "stream",
     "text": [
      "/Users/timsb/miniconda3/envs/causal2020/lib/python3.7/site-packages/pylogit/choice_tools.py:703: FutureWarning: arrays to stack must be passed as a \"sequence\" type such as list or tuple. Support for non-sequence iterables such as generators is deprecated as of NumPy 1.16 and will raise an error in the future.\n",
      "/Users/timsb/miniconda3/envs/causal2020/lib/python3.7/site-packages/pylogit/choice_tools.py:703: FutureWarning: arrays to stack must be passed as a \"sequence\" type such as list or tuple. Support for non-sequence iterables such as generators is deprecated as of NumPy 1.16 and will raise an error in the future.\n",
      "Exception ignored in: <function tqdm.__del__ at 0x7fae897b95f0>\n",
      "Traceback (most recent call last):\n",
      "  File \"/Users/timsb/miniconda3/envs/causal2020/lib/python3.7/site-packages/tqdm/std.py\", line 1124, in __del__\n",
      "    self.close()\n",
      "  File \"/Users/timsb/miniconda3/envs/causal2020/lib/python3.7/site-packages/tqdm/notebook.py\", line 271, in close\n",
      "    self.sp(bar_style='danger')\n",
      "AttributeError: 'tqdm_notebook' object has no attribute 'sp'\n",
      "/Users/timsb/miniconda3/envs/causal2020/lib/python3.7/site-packages/pylogit/choice_tools.py:703: FutureWarning: arrays to stack must be passed as a \"sequence\" type such as list or tuple. Support for non-sequence iterables such as generators is deprecated as of NumPy 1.16 and will raise an error in the future.\n",
      "/Users/timsb/miniconda3/envs/causal2020/lib/python3.7/site-packages/pylogit/choice_tools.py:703: FutureWarning: arrays to stack must be passed as a \"sequence\" type such as list or tuple. Support for non-sequence iterables such as generators is deprecated as of NumPy 1.16 and will raise an error in the future.\n",
      "/Users/timsb/miniconda3/envs/causal2020/lib/python3.7/site-packages/pylogit/choice_tools.py:703: FutureWarning: arrays to stack must be passed as a \"sequence\" type such as list or tuple. Support for non-sequence iterables such as generators is deprecated as of NumPy 1.16 and will raise an error in the future.\n",
      "\n",
      "Simulating Choices:   0%|          | 0/3578 [00:00<?, ?it/s]\u001b[A"
     ]
    },
    {
     "name": "stdout",
     "output_type": "stream",
     "text": [
      "Converting data from wide to long...\n",
      "Simulating Choices...\n"
     ]
    },
    {
     "name": "stderr",
     "output_type": "stream",
     "text": [
      "Simulating Choices: 100%|██████████| 3578/3578 [00:00<00:00, 37717.58it/s]\n",
      "/Users/timsb/miniconda3/envs/causal2020/lib/python3.7/site-packages/pylogit/choice_tools.py:703: FutureWarning: arrays to stack must be passed as a \"sequence\" type such as list or tuple. Support for non-sequence iterables such as generators is deprecated as of NumPy 1.16 and will raise an error in the future.\n"
     ]
    },
    {
     "name": "stdout",
     "output_type": "stream",
     "text": [
      "Estimating the choice model...\n",
      "Estimating Causal Effects...\n",
      "Simulation number 9 is complete!\n",
      "==========================================\n",
      "==========================================\n",
      "Simulation number 10 is in progress...\n",
      "Simulation size is 3167\n",
      "------------------------------------------\n",
      "Simulating data...\n",
      "Simulating Availability...\n"
     ]
    },
    {
     "name": "stderr",
     "output_type": "stream",
     "text": [
      "/Users/timsb/miniconda3/envs/causal2020/lib/python3.7/site-packages/pylogit/choice_tools.py:703: FutureWarning: arrays to stack must be passed as a \"sequence\" type such as list or tuple. Support for non-sequence iterables such as generators is deprecated as of NumPy 1.16 and will raise an error in the future.\n",
      "/Users/timsb/miniconda3/envs/causal2020/lib/python3.7/site-packages/pylogit/choice_tools.py:703: FutureWarning: arrays to stack must be passed as a \"sequence\" type such as list or tuple. Support for non-sequence iterables such as generators is deprecated as of NumPy 1.16 and will raise an error in the future.\n",
      "Exception ignored in: <function tqdm.__del__ at 0x7fae897b95f0>\n",
      "Traceback (most recent call last):\n",
      "  File \"/Users/timsb/miniconda3/envs/causal2020/lib/python3.7/site-packages/tqdm/std.py\", line 1124, in __del__\n",
      "    self.close()\n",
      "  File \"/Users/timsb/miniconda3/envs/causal2020/lib/python3.7/site-packages/tqdm/notebook.py\", line 271, in close\n",
      "    self.sp(bar_style='danger')\n",
      "AttributeError: 'tqdm_notebook' object has no attribute 'sp'\n",
      "/Users/timsb/miniconda3/envs/causal2020/lib/python3.7/site-packages/pylogit/choice_tools.py:703: FutureWarning: arrays to stack must be passed as a \"sequence\" type such as list or tuple. Support for non-sequence iterables such as generators is deprecated as of NumPy 1.16 and will raise an error in the future.\n",
      "/Users/timsb/miniconda3/envs/causal2020/lib/python3.7/site-packages/pylogit/choice_tools.py:703: FutureWarning: arrays to stack must be passed as a \"sequence\" type such as list or tuple. Support for non-sequence iterables such as generators is deprecated as of NumPy 1.16 and will raise an error in the future.\n",
      "/Users/timsb/miniconda3/envs/causal2020/lib/python3.7/site-packages/pylogit/choice_tools.py:703: FutureWarning: arrays to stack must be passed as a \"sequence\" type such as list or tuple. Support for non-sequence iterables such as generators is deprecated as of NumPy 1.16 and will raise an error in the future.\n",
      "\n",
      "Simulating Choices:   0%|          | 0/3167 [00:00<?, ?it/s]\u001b[A"
     ]
    },
    {
     "name": "stdout",
     "output_type": "stream",
     "text": [
      "Converting data from wide to long...\n",
      "Simulating Choices...\n"
     ]
    },
    {
     "name": "stderr",
     "output_type": "stream",
     "text": [
      "Simulating Choices: 100%|██████████| 3167/3167 [00:00<00:00, 35893.99it/s]\n",
      "/Users/timsb/miniconda3/envs/causal2020/lib/python3.7/site-packages/pylogit/choice_tools.py:703: FutureWarning: arrays to stack must be passed as a \"sequence\" type such as list or tuple. Support for non-sequence iterables such as generators is deprecated as of NumPy 1.16 and will raise an error in the future.\n"
     ]
    },
    {
     "name": "stdout",
     "output_type": "stream",
     "text": [
      "Estimating the choice model...\n",
      "Estimating Causal Effects...\n",
      "Simulation number 10 is complete!\n",
      "==========================================\n",
      "==========================================\n",
      "Simulation number 11 is in progress...\n",
      "Simulation size is 3356\n",
      "------------------------------------------\n",
      "Simulating data...\n",
      "Simulating Availability...\n"
     ]
    },
    {
     "name": "stderr",
     "output_type": "stream",
     "text": [
      "/Users/timsb/miniconda3/envs/causal2020/lib/python3.7/site-packages/pylogit/choice_tools.py:703: FutureWarning: arrays to stack must be passed as a \"sequence\" type such as list or tuple. Support for non-sequence iterables such as generators is deprecated as of NumPy 1.16 and will raise an error in the future.\n",
      "/Users/timsb/miniconda3/envs/causal2020/lib/python3.7/site-packages/pylogit/choice_tools.py:703: FutureWarning: arrays to stack must be passed as a \"sequence\" type such as list or tuple. Support for non-sequence iterables such as generators is deprecated as of NumPy 1.16 and will raise an error in the future.\n",
      "Exception ignored in: <function tqdm.__del__ at 0x7fae897b95f0>\n",
      "Traceback (most recent call last):\n",
      "  File \"/Users/timsb/miniconda3/envs/causal2020/lib/python3.7/site-packages/tqdm/std.py\", line 1124, in __del__\n",
      "    self.close()\n",
      "  File \"/Users/timsb/miniconda3/envs/causal2020/lib/python3.7/site-packages/tqdm/notebook.py\", line 271, in close\n",
      "    self.sp(bar_style='danger')\n",
      "AttributeError: 'tqdm_notebook' object has no attribute 'sp'\n",
      "/Users/timsb/miniconda3/envs/causal2020/lib/python3.7/site-packages/pylogit/choice_tools.py:703: FutureWarning: arrays to stack must be passed as a \"sequence\" type such as list or tuple. Support for non-sequence iterables such as generators is deprecated as of NumPy 1.16 and will raise an error in the future.\n",
      "/Users/timsb/miniconda3/envs/causal2020/lib/python3.7/site-packages/pylogit/choice_tools.py:703: FutureWarning: arrays to stack must be passed as a \"sequence\" type such as list or tuple. Support for non-sequence iterables such as generators is deprecated as of NumPy 1.16 and will raise an error in the future.\n",
      "/Users/timsb/miniconda3/envs/causal2020/lib/python3.7/site-packages/pylogit/choice_tools.py:703: FutureWarning: arrays to stack must be passed as a \"sequence\" type such as list or tuple. Support for non-sequence iterables such as generators is deprecated as of NumPy 1.16 and will raise an error in the future.\n",
      "\n",
      "Simulating Choices:   0%|          | 0/3356 [00:00<?, ?it/s]\u001b[A"
     ]
    },
    {
     "name": "stdout",
     "output_type": "stream",
     "text": [
      "Converting data from wide to long...\n",
      "Simulating Choices...\n"
     ]
    },
    {
     "name": "stderr",
     "output_type": "stream",
     "text": [
      "Simulating Choices: 100%|██████████| 3356/3356 [00:00<00:00, 37560.66it/s]\n",
      "/Users/timsb/miniconda3/envs/causal2020/lib/python3.7/site-packages/pylogit/choice_tools.py:703: FutureWarning: arrays to stack must be passed as a \"sequence\" type such as list or tuple. Support for non-sequence iterables such as generators is deprecated as of NumPy 1.16 and will raise an error in the future.\n"
     ]
    },
    {
     "name": "stdout",
     "output_type": "stream",
     "text": [
      "Estimating the choice model...\n",
      "Estimating Causal Effects...\n",
      "Simulation number 11 is complete!\n",
      "==========================================\n",
      "==========================================\n",
      "Simulation number 12 is in progress...\n",
      "Simulation size is 3729\n",
      "------------------------------------------\n",
      "Simulating data...\n",
      "Simulating Availability...\n"
     ]
    },
    {
     "name": "stderr",
     "output_type": "stream",
     "text": [
      "/Users/timsb/miniconda3/envs/causal2020/lib/python3.7/site-packages/pylogit/choice_tools.py:703: FutureWarning: arrays to stack must be passed as a \"sequence\" type such as list or tuple. Support for non-sequence iterables such as generators is deprecated as of NumPy 1.16 and will raise an error in the future.\n",
      "/Users/timsb/miniconda3/envs/causal2020/lib/python3.7/site-packages/pylogit/choice_tools.py:703: FutureWarning: arrays to stack must be passed as a \"sequence\" type such as list or tuple. Support for non-sequence iterables such as generators is deprecated as of NumPy 1.16 and will raise an error in the future.\n",
      "Exception ignored in: <function tqdm.__del__ at 0x7fae897b95f0>\n",
      "Traceback (most recent call last):\n",
      "  File \"/Users/timsb/miniconda3/envs/causal2020/lib/python3.7/site-packages/tqdm/std.py\", line 1124, in __del__\n",
      "    self.close()\n",
      "  File \"/Users/timsb/miniconda3/envs/causal2020/lib/python3.7/site-packages/tqdm/notebook.py\", line 271, in close\n",
      "    self.sp(bar_style='danger')\n",
      "AttributeError: 'tqdm_notebook' object has no attribute 'sp'\n",
      "/Users/timsb/miniconda3/envs/causal2020/lib/python3.7/site-packages/pylogit/choice_tools.py:703: FutureWarning: arrays to stack must be passed as a \"sequence\" type such as list or tuple. Support for non-sequence iterables such as generators is deprecated as of NumPy 1.16 and will raise an error in the future.\n",
      "/Users/timsb/miniconda3/envs/causal2020/lib/python3.7/site-packages/pylogit/choice_tools.py:703: FutureWarning: arrays to stack must be passed as a \"sequence\" type such as list or tuple. Support for non-sequence iterables such as generators is deprecated as of NumPy 1.16 and will raise an error in the future.\n",
      "/Users/timsb/miniconda3/envs/causal2020/lib/python3.7/site-packages/pylogit/choice_tools.py:703: FutureWarning: arrays to stack must be passed as a \"sequence\" type such as list or tuple. Support for non-sequence iterables such as generators is deprecated as of NumPy 1.16 and will raise an error in the future.\n",
      "\n",
      "Simulating Choices:   0%|          | 0/3729 [00:00<?, ?it/s]\u001b[A"
     ]
    },
    {
     "name": "stdout",
     "output_type": "stream",
     "text": [
      "Converting data from wide to long...\n",
      "Simulating Choices...\n"
     ]
    },
    {
     "name": "stderr",
     "output_type": "stream",
     "text": [
      "Simulating Choices: 100%|██████████| 3729/3729 [00:00<00:00, 37417.96it/s]\n",
      "/Users/timsb/miniconda3/envs/causal2020/lib/python3.7/site-packages/pylogit/choice_tools.py:703: FutureWarning: arrays to stack must be passed as a \"sequence\" type such as list or tuple. Support for non-sequence iterables such as generators is deprecated as of NumPy 1.16 and will raise an error in the future.\n"
     ]
    },
    {
     "name": "stdout",
     "output_type": "stream",
     "text": [
      "Estimating the choice model...\n",
      "Estimating Causal Effects...\n",
      "Simulation number 12 is complete!\n",
      "==========================================\n",
      "==========================================\n",
      "Simulation number 13 is in progress...\n",
      "Simulation size is 3161\n",
      "------------------------------------------\n",
      "Simulating data...\n",
      "Simulating Availability...\n"
     ]
    },
    {
     "name": "stderr",
     "output_type": "stream",
     "text": [
      "/Users/timsb/miniconda3/envs/causal2020/lib/python3.7/site-packages/pylogit/choice_tools.py:703: FutureWarning: arrays to stack must be passed as a \"sequence\" type such as list or tuple. Support for non-sequence iterables such as generators is deprecated as of NumPy 1.16 and will raise an error in the future.\n",
      "/Users/timsb/miniconda3/envs/causal2020/lib/python3.7/site-packages/pylogit/choice_tools.py:703: FutureWarning: arrays to stack must be passed as a \"sequence\" type such as list or tuple. Support for non-sequence iterables such as generators is deprecated as of NumPy 1.16 and will raise an error in the future.\n",
      "Exception ignored in: <function tqdm.__del__ at 0x7fae897b95f0>\n",
      "Traceback (most recent call last):\n",
      "  File \"/Users/timsb/miniconda3/envs/causal2020/lib/python3.7/site-packages/tqdm/std.py\", line 1124, in __del__\n",
      "    self.close()\n",
      "  File \"/Users/timsb/miniconda3/envs/causal2020/lib/python3.7/site-packages/tqdm/notebook.py\", line 271, in close\n",
      "    self.sp(bar_style='danger')\n",
      "AttributeError: 'tqdm_notebook' object has no attribute 'sp'\n",
      "/Users/timsb/miniconda3/envs/causal2020/lib/python3.7/site-packages/pylogit/choice_tools.py:703: FutureWarning: arrays to stack must be passed as a \"sequence\" type such as list or tuple. Support for non-sequence iterables such as generators is deprecated as of NumPy 1.16 and will raise an error in the future.\n",
      "/Users/timsb/miniconda3/envs/causal2020/lib/python3.7/site-packages/pylogit/choice_tools.py:703: FutureWarning: arrays to stack must be passed as a \"sequence\" type such as list or tuple. Support for non-sequence iterables such as generators is deprecated as of NumPy 1.16 and will raise an error in the future.\n",
      "/Users/timsb/miniconda3/envs/causal2020/lib/python3.7/site-packages/pylogit/choice_tools.py:703: FutureWarning: arrays to stack must be passed as a \"sequence\" type such as list or tuple. Support for non-sequence iterables such as generators is deprecated as of NumPy 1.16 and will raise an error in the future.\n",
      "\n",
      "Simulating Choices:   0%|          | 0/3161 [00:00<?, ?it/s]\u001b[A"
     ]
    },
    {
     "name": "stdout",
     "output_type": "stream",
     "text": [
      "Converting data from wide to long...\n",
      "Simulating Choices...\n"
     ]
    },
    {
     "name": "stderr",
     "output_type": "stream",
     "text": [
      "Simulating Choices: 100%|██████████| 3161/3161 [00:00<00:00, 35538.85it/s]\n",
      "/Users/timsb/miniconda3/envs/causal2020/lib/python3.7/site-packages/pylogit/choice_tools.py:703: FutureWarning: arrays to stack must be passed as a \"sequence\" type such as list or tuple. Support for non-sequence iterables such as generators is deprecated as of NumPy 1.16 and will raise an error in the future.\n"
     ]
    },
    {
     "name": "stdout",
     "output_type": "stream",
     "text": [
      "Estimating the choice model...\n",
      "Estimating Causal Effects...\n",
      "Simulation number 13 is complete!\n",
      "==========================================\n",
      "==========================================\n",
      "Simulation number 14 is in progress...\n",
      "Simulation size is 3925\n",
      "------------------------------------------\n",
      "Simulating data...\n",
      "Simulating Availability...\n"
     ]
    },
    {
     "name": "stderr",
     "output_type": "stream",
     "text": [
      "/Users/timsb/miniconda3/envs/causal2020/lib/python3.7/site-packages/pylogit/choice_tools.py:703: FutureWarning: arrays to stack must be passed as a \"sequence\" type such as list or tuple. Support for non-sequence iterables such as generators is deprecated as of NumPy 1.16 and will raise an error in the future.\n",
      "/Users/timsb/miniconda3/envs/causal2020/lib/python3.7/site-packages/pylogit/choice_tools.py:703: FutureWarning: arrays to stack must be passed as a \"sequence\" type such as list or tuple. Support for non-sequence iterables such as generators is deprecated as of NumPy 1.16 and will raise an error in the future.\n",
      "Exception ignored in: <function tqdm.__del__ at 0x7fae897b95f0>\n",
      "Traceback (most recent call last):\n",
      "  File \"/Users/timsb/miniconda3/envs/causal2020/lib/python3.7/site-packages/tqdm/std.py\", line 1124, in __del__\n",
      "    self.close()\n",
      "  File \"/Users/timsb/miniconda3/envs/causal2020/lib/python3.7/site-packages/tqdm/notebook.py\", line 271, in close\n",
      "    self.sp(bar_style='danger')\n",
      "AttributeError: 'tqdm_notebook' object has no attribute 'sp'\n",
      "/Users/timsb/miniconda3/envs/causal2020/lib/python3.7/site-packages/pylogit/choice_tools.py:703: FutureWarning: arrays to stack must be passed as a \"sequence\" type such as list or tuple. Support for non-sequence iterables such as generators is deprecated as of NumPy 1.16 and will raise an error in the future.\n",
      "/Users/timsb/miniconda3/envs/causal2020/lib/python3.7/site-packages/pylogit/choice_tools.py:703: FutureWarning: arrays to stack must be passed as a \"sequence\" type such as list or tuple. Support for non-sequence iterables such as generators is deprecated as of NumPy 1.16 and will raise an error in the future.\n",
      "/Users/timsb/miniconda3/envs/causal2020/lib/python3.7/site-packages/pylogit/choice_tools.py:703: FutureWarning: arrays to stack must be passed as a \"sequence\" type such as list or tuple. Support for non-sequence iterables such as generators is deprecated as of NumPy 1.16 and will raise an error in the future.\n",
      "\n",
      "Simulating Choices:   0%|          | 0/3925 [00:00<?, ?it/s]\u001b[A"
     ]
    },
    {
     "name": "stdout",
     "output_type": "stream",
     "text": [
      "Converting data from wide to long...\n",
      "Simulating Choices...\n"
     ]
    },
    {
     "name": "stderr",
     "output_type": "stream",
     "text": [
      "Simulating Choices: 100%|██████████| 3925/3925 [00:00<00:00, 39240.21it/s]\n",
      "/Users/timsb/miniconda3/envs/causal2020/lib/python3.7/site-packages/pylogit/choice_tools.py:703: FutureWarning: arrays to stack must be passed as a \"sequence\" type such as list or tuple. Support for non-sequence iterables such as generators is deprecated as of NumPy 1.16 and will raise an error in the future.\n"
     ]
    },
    {
     "name": "stdout",
     "output_type": "stream",
     "text": [
      "Estimating the choice model...\n",
      "Estimating Causal Effects...\n",
      "Simulation number 14 is complete!\n",
      "==========================================\n",
      "==========================================\n",
      "Simulation number 15 is in progress...\n",
      "Simulation size is 3366\n",
      "------------------------------------------\n",
      "Simulating data...\n",
      "Simulating Availability...\n"
     ]
    },
    {
     "name": "stderr",
     "output_type": "stream",
     "text": [
      "/Users/timsb/miniconda3/envs/causal2020/lib/python3.7/site-packages/pylogit/choice_tools.py:703: FutureWarning: arrays to stack must be passed as a \"sequence\" type such as list or tuple. Support for non-sequence iterables such as generators is deprecated as of NumPy 1.16 and will raise an error in the future.\n",
      "/Users/timsb/miniconda3/envs/causal2020/lib/python3.7/site-packages/pylogit/choice_tools.py:703: FutureWarning: arrays to stack must be passed as a \"sequence\" type such as list or tuple. Support for non-sequence iterables such as generators is deprecated as of NumPy 1.16 and will raise an error in the future.\n",
      "Exception ignored in: <function tqdm.__del__ at 0x7fae897b95f0>\n",
      "Traceback (most recent call last):\n",
      "  File \"/Users/timsb/miniconda3/envs/causal2020/lib/python3.7/site-packages/tqdm/std.py\", line 1124, in __del__\n",
      "    self.close()\n",
      "  File \"/Users/timsb/miniconda3/envs/causal2020/lib/python3.7/site-packages/tqdm/notebook.py\", line 271, in close\n",
      "    self.sp(bar_style='danger')\n",
      "AttributeError: 'tqdm_notebook' object has no attribute 'sp'\n",
      "/Users/timsb/miniconda3/envs/causal2020/lib/python3.7/site-packages/pylogit/choice_tools.py:703: FutureWarning: arrays to stack must be passed as a \"sequence\" type such as list or tuple. Support for non-sequence iterables such as generators is deprecated as of NumPy 1.16 and will raise an error in the future.\n",
      "/Users/timsb/miniconda3/envs/causal2020/lib/python3.7/site-packages/pylogit/choice_tools.py:703: FutureWarning: arrays to stack must be passed as a \"sequence\" type such as list or tuple. Support for non-sequence iterables such as generators is deprecated as of NumPy 1.16 and will raise an error in the future.\n",
      "/Users/timsb/miniconda3/envs/causal2020/lib/python3.7/site-packages/pylogit/choice_tools.py:703: FutureWarning: arrays to stack must be passed as a \"sequence\" type such as list or tuple. Support for non-sequence iterables such as generators is deprecated as of NumPy 1.16 and will raise an error in the future.\n",
      "\n",
      "Simulating Choices:   0%|          | 0/3366 [00:00<?, ?it/s]\u001b[A"
     ]
    },
    {
     "name": "stdout",
     "output_type": "stream",
     "text": [
      "Converting data from wide to long...\n",
      "Simulating Choices...\n"
     ]
    },
    {
     "name": "stderr",
     "output_type": "stream",
     "text": [
      "Simulating Choices: 100%|██████████| 3366/3366 [00:00<00:00, 36191.25it/s]\n",
      "/Users/timsb/miniconda3/envs/causal2020/lib/python3.7/site-packages/pylogit/choice_tools.py:703: FutureWarning: arrays to stack must be passed as a \"sequence\" type such as list or tuple. Support for non-sequence iterables such as generators is deprecated as of NumPy 1.16 and will raise an error in the future.\n"
     ]
    },
    {
     "name": "stdout",
     "output_type": "stream",
     "text": [
      "Estimating the choice model...\n",
      "Estimating Causal Effects...\n",
      "Simulation number 15 is complete!\n",
      "==========================================\n",
      "==========================================\n",
      "Simulation number 16 is in progress...\n",
      "Simulation size is 3071\n",
      "------------------------------------------\n",
      "Simulating data...\n"
     ]
    },
    {
     "name": "stderr",
     "output_type": "stream",
     "text": [
      "/Users/timsb/miniconda3/envs/causal2020/lib/python3.7/site-packages/pylogit/choice_tools.py:703: FutureWarning: arrays to stack must be passed as a \"sequence\" type such as list or tuple. Support for non-sequence iterables such as generators is deprecated as of NumPy 1.16 and will raise an error in the future.\n",
      "/Users/timsb/miniconda3/envs/causal2020/lib/python3.7/site-packages/pylogit/choice_tools.py:703: FutureWarning: arrays to stack must be passed as a \"sequence\" type such as list or tuple. Support for non-sequence iterables such as generators is deprecated as of NumPy 1.16 and will raise an error in the future.\n",
      "Exception ignored in: <function tqdm.__del__ at 0x7fae897b95f0>\n",
      "Traceback (most recent call last):\n",
      "  File \"/Users/timsb/miniconda3/envs/causal2020/lib/python3.7/site-packages/tqdm/std.py\", line 1124, in __del__\n",
      "    self.close()\n",
      "  File \"/Users/timsb/miniconda3/envs/causal2020/lib/python3.7/site-packages/tqdm/notebook.py\", line 271, in close\n",
      "    self.sp(bar_style='danger')\n",
      "AttributeError: 'tqdm_notebook' object has no attribute 'sp'\n",
      "/Users/timsb/miniconda3/envs/causal2020/lib/python3.7/site-packages/pylogit/choice_tools.py:703: FutureWarning: arrays to stack must be passed as a \"sequence\" type such as list or tuple. Support for non-sequence iterables such as generators is deprecated as of NumPy 1.16 and will raise an error in the future.\n",
      "/Users/timsb/miniconda3/envs/causal2020/lib/python3.7/site-packages/pylogit/choice_tools.py:703: FutureWarning: arrays to stack must be passed as a \"sequence\" type such as list or tuple. Support for non-sequence iterables such as generators is deprecated as of NumPy 1.16 and will raise an error in the future.\n"
     ]
    },
    {
     "name": "stdout",
     "output_type": "stream",
     "text": [
      "Simulating Availability...\n"
     ]
    },
    {
     "name": "stderr",
     "output_type": "stream",
     "text": [
      "/Users/timsb/miniconda3/envs/causal2020/lib/python3.7/site-packages/pylogit/choice_tools.py:703: FutureWarning: arrays to stack must be passed as a \"sequence\" type such as list or tuple. Support for non-sequence iterables such as generators is deprecated as of NumPy 1.16 and will raise an error in the future.\n",
      "\n",
      "Simulating Choices:   0%|          | 0/3071 [00:00<?, ?it/s]\u001b[A"
     ]
    },
    {
     "name": "stdout",
     "output_type": "stream",
     "text": [
      "Converting data from wide to long...\n",
      "Simulating Choices...\n"
     ]
    },
    {
     "name": "stderr",
     "output_type": "stream",
     "text": [
      "Simulating Choices: 100%|██████████| 3071/3071 [00:00<00:00, 35752.13it/s]\n",
      "/Users/timsb/miniconda3/envs/causal2020/lib/python3.7/site-packages/pylogit/choice_tools.py:703: FutureWarning: arrays to stack must be passed as a \"sequence\" type such as list or tuple. Support for non-sequence iterables such as generators is deprecated as of NumPy 1.16 and will raise an error in the future.\n"
     ]
    },
    {
     "name": "stdout",
     "output_type": "stream",
     "text": [
      "Estimating the choice model...\n",
      "Estimating Causal Effects...\n",
      "Simulation number 16 is complete!\n",
      "==========================================\n",
      "==========================================\n",
      "Simulation number 17 is in progress...\n",
      "Simulation size is 3423\n",
      "------------------------------------------\n",
      "Simulating data...\n",
      "Simulating Availability...\n"
     ]
    },
    {
     "name": "stderr",
     "output_type": "stream",
     "text": [
      "/Users/timsb/miniconda3/envs/causal2020/lib/python3.7/site-packages/pylogit/choice_tools.py:703: FutureWarning: arrays to stack must be passed as a \"sequence\" type such as list or tuple. Support for non-sequence iterables such as generators is deprecated as of NumPy 1.16 and will raise an error in the future.\n",
      "/Users/timsb/miniconda3/envs/causal2020/lib/python3.7/site-packages/pylogit/choice_tools.py:703: FutureWarning: arrays to stack must be passed as a \"sequence\" type such as list or tuple. Support for non-sequence iterables such as generators is deprecated as of NumPy 1.16 and will raise an error in the future.\n",
      "Exception ignored in: <function tqdm.__del__ at 0x7fae897b95f0>\n",
      "Traceback (most recent call last):\n",
      "  File \"/Users/timsb/miniconda3/envs/causal2020/lib/python3.7/site-packages/tqdm/std.py\", line 1124, in __del__\n",
      "    self.close()\n",
      "  File \"/Users/timsb/miniconda3/envs/causal2020/lib/python3.7/site-packages/tqdm/notebook.py\", line 271, in close\n",
      "    self.sp(bar_style='danger')\n",
      "AttributeError: 'tqdm_notebook' object has no attribute 'sp'\n",
      "/Users/timsb/miniconda3/envs/causal2020/lib/python3.7/site-packages/pylogit/choice_tools.py:703: FutureWarning: arrays to stack must be passed as a \"sequence\" type such as list or tuple. Support for non-sequence iterables such as generators is deprecated as of NumPy 1.16 and will raise an error in the future.\n",
      "/Users/timsb/miniconda3/envs/causal2020/lib/python3.7/site-packages/pylogit/choice_tools.py:703: FutureWarning: arrays to stack must be passed as a \"sequence\" type such as list or tuple. Support for non-sequence iterables such as generators is deprecated as of NumPy 1.16 and will raise an error in the future.\n",
      "/Users/timsb/miniconda3/envs/causal2020/lib/python3.7/site-packages/pylogit/choice_tools.py:703: FutureWarning: arrays to stack must be passed as a \"sequence\" type such as list or tuple. Support for non-sequence iterables such as generators is deprecated as of NumPy 1.16 and will raise an error in the future.\n",
      "\n",
      "Simulating Choices:   0%|          | 0/3423 [00:00<?, ?it/s]\u001b[A"
     ]
    },
    {
     "name": "stdout",
     "output_type": "stream",
     "text": [
      "Converting data from wide to long...\n",
      "Simulating Choices...\n"
     ]
    },
    {
     "name": "stderr",
     "output_type": "stream",
     "text": [
      "Simulating Choices: 100%|██████████| 3423/3423 [00:00<00:00, 37101.24it/s]\n",
      "/Users/timsb/miniconda3/envs/causal2020/lib/python3.7/site-packages/pylogit/choice_tools.py:703: FutureWarning: arrays to stack must be passed as a \"sequence\" type such as list or tuple. Support for non-sequence iterables such as generators is deprecated as of NumPy 1.16 and will raise an error in the future.\n"
     ]
    },
    {
     "name": "stdout",
     "output_type": "stream",
     "text": [
      "Estimating the choice model...\n",
      "Estimating Causal Effects...\n",
      "Simulation number 17 is complete!\n",
      "==========================================\n",
      "==========================================\n",
      "Simulation number 18 is in progress...\n",
      "Simulation size is 3132\n",
      "------------------------------------------\n",
      "Simulating data...\n",
      "Simulating Availability...\n"
     ]
    },
    {
     "name": "stderr",
     "output_type": "stream",
     "text": [
      "/Users/timsb/miniconda3/envs/causal2020/lib/python3.7/site-packages/pylogit/choice_tools.py:703: FutureWarning: arrays to stack must be passed as a \"sequence\" type such as list or tuple. Support for non-sequence iterables such as generators is deprecated as of NumPy 1.16 and will raise an error in the future.\n",
      "/Users/timsb/miniconda3/envs/causal2020/lib/python3.7/site-packages/pylogit/choice_tools.py:703: FutureWarning: arrays to stack must be passed as a \"sequence\" type such as list or tuple. Support for non-sequence iterables such as generators is deprecated as of NumPy 1.16 and will raise an error in the future.\n",
      "Exception ignored in: <function tqdm.__del__ at 0x7fae897b95f0>\n",
      "Traceback (most recent call last):\n",
      "  File \"/Users/timsb/miniconda3/envs/causal2020/lib/python3.7/site-packages/tqdm/std.py\", line 1124, in __del__\n",
      "    self.close()\n",
      "  File \"/Users/timsb/miniconda3/envs/causal2020/lib/python3.7/site-packages/tqdm/notebook.py\", line 271, in close\n",
      "    self.sp(bar_style='danger')\n",
      "AttributeError: 'tqdm_notebook' object has no attribute 'sp'\n",
      "/Users/timsb/miniconda3/envs/causal2020/lib/python3.7/site-packages/pylogit/choice_tools.py:703: FutureWarning: arrays to stack must be passed as a \"sequence\" type such as list or tuple. Support for non-sequence iterables such as generators is deprecated as of NumPy 1.16 and will raise an error in the future.\n",
      "/Users/timsb/miniconda3/envs/causal2020/lib/python3.7/site-packages/pylogit/choice_tools.py:703: FutureWarning: arrays to stack must be passed as a \"sequence\" type such as list or tuple. Support for non-sequence iterables such as generators is deprecated as of NumPy 1.16 and will raise an error in the future.\n",
      "/Users/timsb/miniconda3/envs/causal2020/lib/python3.7/site-packages/pylogit/choice_tools.py:703: FutureWarning: arrays to stack must be passed as a \"sequence\" type such as list or tuple. Support for non-sequence iterables such as generators is deprecated as of NumPy 1.16 and will raise an error in the future.\n",
      "\n",
      "Simulating Choices:   0%|          | 0/3132 [00:00<?, ?it/s]\u001b[A"
     ]
    },
    {
     "name": "stdout",
     "output_type": "stream",
     "text": [
      "Converting data from wide to long...\n",
      "Simulating Choices...\n"
     ]
    },
    {
     "name": "stderr",
     "output_type": "stream",
     "text": [
      "Simulating Choices: 100%|██████████| 3132/3132 [00:00<00:00, 35624.47it/s]\n",
      "/Users/timsb/miniconda3/envs/causal2020/lib/python3.7/site-packages/pylogit/choice_tools.py:703: FutureWarning: arrays to stack must be passed as a \"sequence\" type such as list or tuple. Support for non-sequence iterables such as generators is deprecated as of NumPy 1.16 and will raise an error in the future.\n"
     ]
    },
    {
     "name": "stdout",
     "output_type": "stream",
     "text": [
      "Estimating the choice model...\n",
      "Estimating Causal Effects...\n",
      "Simulation number 18 is complete!\n",
      "==========================================\n",
      "==========================================\n",
      "Simulation number 19 is in progress...\n",
      "Simulation size is 3546\n",
      "------------------------------------------\n",
      "Simulating data...\n",
      "Simulating Availability...\n"
     ]
    },
    {
     "name": "stderr",
     "output_type": "stream",
     "text": [
      "/Users/timsb/miniconda3/envs/causal2020/lib/python3.7/site-packages/pylogit/choice_tools.py:703: FutureWarning: arrays to stack must be passed as a \"sequence\" type such as list or tuple. Support for non-sequence iterables such as generators is deprecated as of NumPy 1.16 and will raise an error in the future.\n",
      "/Users/timsb/miniconda3/envs/causal2020/lib/python3.7/site-packages/pylogit/choice_tools.py:703: FutureWarning: arrays to stack must be passed as a \"sequence\" type such as list or tuple. Support for non-sequence iterables such as generators is deprecated as of NumPy 1.16 and will raise an error in the future.\n",
      "Exception ignored in: <function tqdm.__del__ at 0x7fae897b95f0>\n",
      "Traceback (most recent call last):\n",
      "  File \"/Users/timsb/miniconda3/envs/causal2020/lib/python3.7/site-packages/tqdm/std.py\", line 1124, in __del__\n",
      "    self.close()\n",
      "  File \"/Users/timsb/miniconda3/envs/causal2020/lib/python3.7/site-packages/tqdm/notebook.py\", line 271, in close\n",
      "    self.sp(bar_style='danger')\n",
      "AttributeError: 'tqdm_notebook' object has no attribute 'sp'\n",
      "/Users/timsb/miniconda3/envs/causal2020/lib/python3.7/site-packages/pylogit/choice_tools.py:703: FutureWarning: arrays to stack must be passed as a \"sequence\" type such as list or tuple. Support for non-sequence iterables such as generators is deprecated as of NumPy 1.16 and will raise an error in the future.\n",
      "/Users/timsb/miniconda3/envs/causal2020/lib/python3.7/site-packages/pylogit/choice_tools.py:703: FutureWarning: arrays to stack must be passed as a \"sequence\" type such as list or tuple. Support for non-sequence iterables such as generators is deprecated as of NumPy 1.16 and will raise an error in the future.\n",
      "/Users/timsb/miniconda3/envs/causal2020/lib/python3.7/site-packages/pylogit/choice_tools.py:703: FutureWarning: arrays to stack must be passed as a \"sequence\" type such as list or tuple. Support for non-sequence iterables such as generators is deprecated as of NumPy 1.16 and will raise an error in the future.\n",
      "\n",
      "Simulating Choices:   0%|          | 0/3546 [00:00<?, ?it/s]\u001b[A"
     ]
    },
    {
     "name": "stdout",
     "output_type": "stream",
     "text": [
      "Converting data from wide to long...\n",
      "Simulating Choices...\n"
     ]
    },
    {
     "name": "stderr",
     "output_type": "stream",
     "text": [
      "Simulating Choices: 100%|██████████| 3546/3546 [00:00<00:00, 39303.93it/s]\n",
      "/Users/timsb/miniconda3/envs/causal2020/lib/python3.7/site-packages/pylogit/choice_tools.py:703: FutureWarning: arrays to stack must be passed as a \"sequence\" type such as list or tuple. Support for non-sequence iterables such as generators is deprecated as of NumPy 1.16 and will raise an error in the future.\n"
     ]
    },
    {
     "name": "stdout",
     "output_type": "stream",
     "text": [
      "Estimating the choice model...\n",
      "Estimating Causal Effects...\n",
      "Simulation number 19 is complete!\n",
      "==========================================\n",
      "==========================================\n",
      "Simulation number 20 is in progress...\n",
      "Simulation size is 3728\n",
      "------------------------------------------\n",
      "Simulating data...\n",
      "Simulating Availability...\n"
     ]
    },
    {
     "name": "stderr",
     "output_type": "stream",
     "text": [
      "/Users/timsb/miniconda3/envs/causal2020/lib/python3.7/site-packages/pylogit/choice_tools.py:703: FutureWarning: arrays to stack must be passed as a \"sequence\" type such as list or tuple. Support for non-sequence iterables such as generators is deprecated as of NumPy 1.16 and will raise an error in the future.\n",
      "/Users/timsb/miniconda3/envs/causal2020/lib/python3.7/site-packages/pylogit/choice_tools.py:703: FutureWarning: arrays to stack must be passed as a \"sequence\" type such as list or tuple. Support for non-sequence iterables such as generators is deprecated as of NumPy 1.16 and will raise an error in the future.\n",
      "Exception ignored in: <function tqdm.__del__ at 0x7fae897b95f0>\n",
      "Traceback (most recent call last):\n",
      "  File \"/Users/timsb/miniconda3/envs/causal2020/lib/python3.7/site-packages/tqdm/std.py\", line 1124, in __del__\n",
      "    self.close()\n",
      "  File \"/Users/timsb/miniconda3/envs/causal2020/lib/python3.7/site-packages/tqdm/notebook.py\", line 271, in close\n",
      "    self.sp(bar_style='danger')\n",
      "AttributeError: 'tqdm_notebook' object has no attribute 'sp'\n",
      "/Users/timsb/miniconda3/envs/causal2020/lib/python3.7/site-packages/pylogit/choice_tools.py:703: FutureWarning: arrays to stack must be passed as a \"sequence\" type such as list or tuple. Support for non-sequence iterables such as generators is deprecated as of NumPy 1.16 and will raise an error in the future.\n",
      "/Users/timsb/miniconda3/envs/causal2020/lib/python3.7/site-packages/pylogit/choice_tools.py:703: FutureWarning: arrays to stack must be passed as a \"sequence\" type such as list or tuple. Support for non-sequence iterables such as generators is deprecated as of NumPy 1.16 and will raise an error in the future.\n",
      "/Users/timsb/miniconda3/envs/causal2020/lib/python3.7/site-packages/pylogit/choice_tools.py:703: FutureWarning: arrays to stack must be passed as a \"sequence\" type such as list or tuple. Support for non-sequence iterables such as generators is deprecated as of NumPy 1.16 and will raise an error in the future.\n",
      "\n",
      "Simulating Choices:   0%|          | 0/3728 [00:00<?, ?it/s]\u001b[A"
     ]
    },
    {
     "name": "stdout",
     "output_type": "stream",
     "text": [
      "Converting data from wide to long...\n",
      "Simulating Choices...\n"
     ]
    },
    {
     "name": "stderr",
     "output_type": "stream",
     "text": [
      "Simulating Choices: 100%|██████████| 3728/3728 [00:00<00:00, 39073.04it/s]\n",
      "/Users/timsb/miniconda3/envs/causal2020/lib/python3.7/site-packages/pylogit/choice_tools.py:703: FutureWarning: arrays to stack must be passed as a \"sequence\" type such as list or tuple. Support for non-sequence iterables such as generators is deprecated as of NumPy 1.16 and will raise an error in the future.\n"
     ]
    },
    {
     "name": "stdout",
     "output_type": "stream",
     "text": [
      "Estimating the choice model...\n",
      "Estimating Causal Effects...\n",
      "Simulation number 20 is complete!\n",
      "==========================================\n",
      "==========================================\n",
      "Simulation number 21 is in progress...\n",
      "Simulation size is 3514\n",
      "------------------------------------------\n",
      "Simulating data...\n",
      "Simulating Availability...\n"
     ]
    },
    {
     "name": "stderr",
     "output_type": "stream",
     "text": [
      "/Users/timsb/miniconda3/envs/causal2020/lib/python3.7/site-packages/pylogit/choice_tools.py:703: FutureWarning: arrays to stack must be passed as a \"sequence\" type such as list or tuple. Support for non-sequence iterables such as generators is deprecated as of NumPy 1.16 and will raise an error in the future.\n",
      "/Users/timsb/miniconda3/envs/causal2020/lib/python3.7/site-packages/pylogit/choice_tools.py:703: FutureWarning: arrays to stack must be passed as a \"sequence\" type such as list or tuple. Support for non-sequence iterables such as generators is deprecated as of NumPy 1.16 and will raise an error in the future.\n",
      "Exception ignored in: <function tqdm.__del__ at 0x7fae897b95f0>\n",
      "Traceback (most recent call last):\n",
      "  File \"/Users/timsb/miniconda3/envs/causal2020/lib/python3.7/site-packages/tqdm/std.py\", line 1124, in __del__\n",
      "    self.close()\n",
      "  File \"/Users/timsb/miniconda3/envs/causal2020/lib/python3.7/site-packages/tqdm/notebook.py\", line 271, in close\n",
      "    self.sp(bar_style='danger')\n",
      "AttributeError: 'tqdm_notebook' object has no attribute 'sp'\n",
      "/Users/timsb/miniconda3/envs/causal2020/lib/python3.7/site-packages/pylogit/choice_tools.py:703: FutureWarning: arrays to stack must be passed as a \"sequence\" type such as list or tuple. Support for non-sequence iterables such as generators is deprecated as of NumPy 1.16 and will raise an error in the future.\n",
      "/Users/timsb/miniconda3/envs/causal2020/lib/python3.7/site-packages/pylogit/choice_tools.py:703: FutureWarning: arrays to stack must be passed as a \"sequence\" type such as list or tuple. Support for non-sequence iterables such as generators is deprecated as of NumPy 1.16 and will raise an error in the future.\n",
      "/Users/timsb/miniconda3/envs/causal2020/lib/python3.7/site-packages/pylogit/choice_tools.py:703: FutureWarning: arrays to stack must be passed as a \"sequence\" type such as list or tuple. Support for non-sequence iterables such as generators is deprecated as of NumPy 1.16 and will raise an error in the future.\n",
      "\n",
      "Simulating Choices:   0%|          | 0/3514 [00:00<?, ?it/s]\u001b[A"
     ]
    },
    {
     "name": "stdout",
     "output_type": "stream",
     "text": [
      "Converting data from wide to long...\n",
      "Simulating Choices...\n"
     ]
    },
    {
     "name": "stderr",
     "output_type": "stream",
     "text": [
      "Simulating Choices: 100%|██████████| 3514/3514 [00:00<00:00, 37741.53it/s]\n",
      "/Users/timsb/miniconda3/envs/causal2020/lib/python3.7/site-packages/pylogit/choice_tools.py:703: FutureWarning: arrays to stack must be passed as a \"sequence\" type such as list or tuple. Support for non-sequence iterables such as generators is deprecated as of NumPy 1.16 and will raise an error in the future.\n"
     ]
    },
    {
     "name": "stdout",
     "output_type": "stream",
     "text": [
      "Estimating the choice model...\n",
      "Estimating Causal Effects...\n",
      "Simulation number 21 is complete!\n",
      "==========================================\n",
      "==========================================\n",
      "Simulation number 22 is in progress...\n",
      "Simulation size is 3004\n",
      "------------------------------------------\n",
      "Simulating data...\n",
      "Simulating Availability...\n"
     ]
    },
    {
     "name": "stderr",
     "output_type": "stream",
     "text": [
      "/Users/timsb/miniconda3/envs/causal2020/lib/python3.7/site-packages/pylogit/choice_tools.py:703: FutureWarning: arrays to stack must be passed as a \"sequence\" type such as list or tuple. Support for non-sequence iterables such as generators is deprecated as of NumPy 1.16 and will raise an error in the future.\n",
      "/Users/timsb/miniconda3/envs/causal2020/lib/python3.7/site-packages/pylogit/choice_tools.py:703: FutureWarning: arrays to stack must be passed as a \"sequence\" type such as list or tuple. Support for non-sequence iterables such as generators is deprecated as of NumPy 1.16 and will raise an error in the future.\n",
      "Exception ignored in: <function tqdm.__del__ at 0x7fae897b95f0>\n",
      "Traceback (most recent call last):\n",
      "  File \"/Users/timsb/miniconda3/envs/causal2020/lib/python3.7/site-packages/tqdm/std.py\", line 1124, in __del__\n",
      "    self.close()\n",
      "  File \"/Users/timsb/miniconda3/envs/causal2020/lib/python3.7/site-packages/tqdm/notebook.py\", line 271, in close\n",
      "    self.sp(bar_style='danger')\n",
      "AttributeError: 'tqdm_notebook' object has no attribute 'sp'\n",
      "/Users/timsb/miniconda3/envs/causal2020/lib/python3.7/site-packages/pylogit/choice_tools.py:703: FutureWarning: arrays to stack must be passed as a \"sequence\" type such as list or tuple. Support for non-sequence iterables such as generators is deprecated as of NumPy 1.16 and will raise an error in the future.\n",
      "/Users/timsb/miniconda3/envs/causal2020/lib/python3.7/site-packages/pylogit/choice_tools.py:703: FutureWarning: arrays to stack must be passed as a \"sequence\" type such as list or tuple. Support for non-sequence iterables such as generators is deprecated as of NumPy 1.16 and will raise an error in the future.\n",
      "/Users/timsb/miniconda3/envs/causal2020/lib/python3.7/site-packages/pylogit/choice_tools.py:703: FutureWarning: arrays to stack must be passed as a \"sequence\" type such as list or tuple. Support for non-sequence iterables such as generators is deprecated as of NumPy 1.16 and will raise an error in the future.\n",
      "\n",
      "Simulating Choices:   0%|          | 0/3004 [00:00<?, ?it/s]\u001b[A"
     ]
    },
    {
     "name": "stdout",
     "output_type": "stream",
     "text": [
      "Converting data from wide to long...\n",
      "Simulating Choices...\n"
     ]
    },
    {
     "name": "stderr",
     "output_type": "stream",
     "text": [
      "Simulating Choices: 100%|██████████| 3004/3004 [00:00<00:00, 35543.24it/s]\n",
      "/Users/timsb/miniconda3/envs/causal2020/lib/python3.7/site-packages/pylogit/choice_tools.py:703: FutureWarning: arrays to stack must be passed as a \"sequence\" type such as list or tuple. Support for non-sequence iterables such as generators is deprecated as of NumPy 1.16 and will raise an error in the future.\n",
      "/Users/timsb/miniconda3/envs/causal2020/lib/python3.7/site-packages/pylogit/choice_tools.py:703: FutureWarning: arrays to stack must be passed as a \"sequence\" type such as list or tuple. Support for non-sequence iterables such as generators is deprecated as of NumPy 1.16 and will raise an error in the future.\n"
     ]
    },
    {
     "name": "stdout",
     "output_type": "stream",
     "text": [
      "Estimating the choice model...\n",
      "Estimating Causal Effects...\n"
     ]
    },
    {
     "name": "stderr",
     "output_type": "stream",
     "text": [
      "/Users/timsb/miniconda3/envs/causal2020/lib/python3.7/site-packages/pylogit/choice_tools.py:703: FutureWarning: arrays to stack must be passed as a \"sequence\" type such as list or tuple. Support for non-sequence iterables such as generators is deprecated as of NumPy 1.16 and will raise an error in the future.\n",
      "Exception ignored in: <function tqdm.__del__ at 0x7fae897b95f0>\n",
      "Traceback (most recent call last):\n",
      "  File \"/Users/timsb/miniconda3/envs/causal2020/lib/python3.7/site-packages/tqdm/std.py\", line 1124, in __del__\n",
      "    self.close()\n",
      "  File \"/Users/timsb/miniconda3/envs/causal2020/lib/python3.7/site-packages/tqdm/notebook.py\", line 271, in close\n",
      "    self.sp(bar_style='danger')\n",
      "AttributeError: 'tqdm_notebook' object has no attribute 'sp'\n",
      "/Users/timsb/miniconda3/envs/causal2020/lib/python3.7/site-packages/pylogit/choice_tools.py:703: FutureWarning: arrays to stack must be passed as a \"sequence\" type such as list or tuple. Support for non-sequence iterables such as generators is deprecated as of NumPy 1.16 and will raise an error in the future.\n",
      "/Users/timsb/miniconda3/envs/causal2020/lib/python3.7/site-packages/pylogit/choice_tools.py:703: FutureWarning: arrays to stack must be passed as a \"sequence\" type such as list or tuple. Support for non-sequence iterables such as generators is deprecated as of NumPy 1.16 and will raise an error in the future.\n"
     ]
    },
    {
     "name": "stdout",
     "output_type": "stream",
     "text": [
      "Simulation number 22 is complete!\n",
      "==========================================\n",
      "==========================================\n",
      "Simulation number 23 is in progress...\n",
      "Simulation size is 3340\n",
      "------------------------------------------\n",
      "Simulating data...\n",
      "Simulating Availability...\n"
     ]
    },
    {
     "name": "stderr",
     "output_type": "stream",
     "text": [
      "/Users/timsb/miniconda3/envs/causal2020/lib/python3.7/site-packages/pylogit/choice_tools.py:703: FutureWarning: arrays to stack must be passed as a \"sequence\" type such as list or tuple. Support for non-sequence iterables such as generators is deprecated as of NumPy 1.16 and will raise an error in the future.\n",
      "\n",
      "Simulating Choices:   0%|          | 0/3340 [00:00<?, ?it/s]\u001b[A"
     ]
    },
    {
     "name": "stdout",
     "output_type": "stream",
     "text": [
      "Converting data from wide to long...\n",
      "Simulating Choices...\n"
     ]
    },
    {
     "name": "stderr",
     "output_type": "stream",
     "text": [
      "Simulating Choices: 100%|██████████| 3340/3340 [00:00<00:00, 37343.43it/s]\n",
      "/Users/timsb/miniconda3/envs/causal2020/lib/python3.7/site-packages/pylogit/choice_tools.py:703: FutureWarning: arrays to stack must be passed as a \"sequence\" type such as list or tuple. Support for non-sequence iterables such as generators is deprecated as of NumPy 1.16 and will raise an error in the future.\n"
     ]
    },
    {
     "name": "stdout",
     "output_type": "stream",
     "text": [
      "Estimating the choice model...\n",
      "Estimating Causal Effects...\n",
      "Simulation number 23 is complete!\n",
      "==========================================\n",
      "==========================================\n",
      "Simulation number 24 is in progress...\n",
      "Simulation size is 3651\n",
      "------------------------------------------\n",
      "Simulating data...\n",
      "Simulating Availability...\n"
     ]
    },
    {
     "name": "stderr",
     "output_type": "stream",
     "text": [
      "/Users/timsb/miniconda3/envs/causal2020/lib/python3.7/site-packages/pylogit/choice_tools.py:703: FutureWarning: arrays to stack must be passed as a \"sequence\" type such as list or tuple. Support for non-sequence iterables such as generators is deprecated as of NumPy 1.16 and will raise an error in the future.\n",
      "/Users/timsb/miniconda3/envs/causal2020/lib/python3.7/site-packages/pylogit/choice_tools.py:703: FutureWarning: arrays to stack must be passed as a \"sequence\" type such as list or tuple. Support for non-sequence iterables such as generators is deprecated as of NumPy 1.16 and will raise an error in the future.\n",
      "Exception ignored in: <function tqdm.__del__ at 0x7fae897b95f0>\n",
      "Traceback (most recent call last):\n",
      "  File \"/Users/timsb/miniconda3/envs/causal2020/lib/python3.7/site-packages/tqdm/std.py\", line 1124, in __del__\n",
      "    self.close()\n",
      "  File \"/Users/timsb/miniconda3/envs/causal2020/lib/python3.7/site-packages/tqdm/notebook.py\", line 271, in close\n",
      "    self.sp(bar_style='danger')\n",
      "AttributeError: 'tqdm_notebook' object has no attribute 'sp'\n",
      "/Users/timsb/miniconda3/envs/causal2020/lib/python3.7/site-packages/pylogit/choice_tools.py:703: FutureWarning: arrays to stack must be passed as a \"sequence\" type such as list or tuple. Support for non-sequence iterables such as generators is deprecated as of NumPy 1.16 and will raise an error in the future.\n",
      "/Users/timsb/miniconda3/envs/causal2020/lib/python3.7/site-packages/pylogit/choice_tools.py:703: FutureWarning: arrays to stack must be passed as a \"sequence\" type such as list or tuple. Support for non-sequence iterables such as generators is deprecated as of NumPy 1.16 and will raise an error in the future.\n",
      "/Users/timsb/miniconda3/envs/causal2020/lib/python3.7/site-packages/pylogit/choice_tools.py:703: FutureWarning: arrays to stack must be passed as a \"sequence\" type such as list or tuple. Support for non-sequence iterables such as generators is deprecated as of NumPy 1.16 and will raise an error in the future.\n",
      "\n",
      "Simulating Choices:   0%|          | 0/3651 [00:00<?, ?it/s]\u001b[A"
     ]
    },
    {
     "name": "stdout",
     "output_type": "stream",
     "text": [
      "Converting data from wide to long...\n",
      "Simulating Choices...\n"
     ]
    },
    {
     "name": "stderr",
     "output_type": "stream",
     "text": [
      "Simulating Choices: 100%|██████████| 3651/3651 [00:00<00:00, 36686.81it/s]\n",
      "/Users/timsb/miniconda3/envs/causal2020/lib/python3.7/site-packages/pylogit/choice_tools.py:703: FutureWarning: arrays to stack must be passed as a \"sequence\" type such as list or tuple. Support for non-sequence iterables such as generators is deprecated as of NumPy 1.16 and will raise an error in the future.\n"
     ]
    },
    {
     "name": "stdout",
     "output_type": "stream",
     "text": [
      "Estimating the choice model...\n",
      "Estimating Causal Effects...\n",
      "Simulation number 24 is complete!\n",
      "==========================================\n",
      "==========================================\n",
      "Simulation number 25 is in progress...\n",
      "Simulation size is 3376\n",
      "------------------------------------------\n",
      "Simulating data...\n",
      "Simulating Availability...\n"
     ]
    },
    {
     "name": "stderr",
     "output_type": "stream",
     "text": [
      "/Users/timsb/miniconda3/envs/causal2020/lib/python3.7/site-packages/pylogit/choice_tools.py:703: FutureWarning: arrays to stack must be passed as a \"sequence\" type such as list or tuple. Support for non-sequence iterables such as generators is deprecated as of NumPy 1.16 and will raise an error in the future.\n",
      "/Users/timsb/miniconda3/envs/causal2020/lib/python3.7/site-packages/pylogit/choice_tools.py:703: FutureWarning: arrays to stack must be passed as a \"sequence\" type such as list or tuple. Support for non-sequence iterables such as generators is deprecated as of NumPy 1.16 and will raise an error in the future.\n",
      "Exception ignored in: <function tqdm.__del__ at 0x7fae897b95f0>\n",
      "Traceback (most recent call last):\n",
      "  File \"/Users/timsb/miniconda3/envs/causal2020/lib/python3.7/site-packages/tqdm/std.py\", line 1124, in __del__\n",
      "    self.close()\n",
      "  File \"/Users/timsb/miniconda3/envs/causal2020/lib/python3.7/site-packages/tqdm/notebook.py\", line 271, in close\n",
      "    self.sp(bar_style='danger')\n",
      "AttributeError: 'tqdm_notebook' object has no attribute 'sp'\n",
      "/Users/timsb/miniconda3/envs/causal2020/lib/python3.7/site-packages/pylogit/choice_tools.py:703: FutureWarning: arrays to stack must be passed as a \"sequence\" type such as list or tuple. Support for non-sequence iterables such as generators is deprecated as of NumPy 1.16 and will raise an error in the future.\n",
      "/Users/timsb/miniconda3/envs/causal2020/lib/python3.7/site-packages/pylogit/choice_tools.py:703: FutureWarning: arrays to stack must be passed as a \"sequence\" type such as list or tuple. Support for non-sequence iterables such as generators is deprecated as of NumPy 1.16 and will raise an error in the future.\n",
      "/Users/timsb/miniconda3/envs/causal2020/lib/python3.7/site-packages/pylogit/choice_tools.py:703: FutureWarning: arrays to stack must be passed as a \"sequence\" type such as list or tuple. Support for non-sequence iterables such as generators is deprecated as of NumPy 1.16 and will raise an error in the future.\n",
      "\n",
      "Simulating Choices:   0%|          | 0/3376 [00:00<?, ?it/s]\u001b[A"
     ]
    },
    {
     "name": "stdout",
     "output_type": "stream",
     "text": [
      "Converting data from wide to long...\n",
      "Simulating Choices...\n"
     ]
    },
    {
     "name": "stderr",
     "output_type": "stream",
     "text": [
      "Simulating Choices: 100%|██████████| 3376/3376 [00:00<00:00, 37805.89it/s]\n",
      "/Users/timsb/miniconda3/envs/causal2020/lib/python3.7/site-packages/pylogit/choice_tools.py:703: FutureWarning: arrays to stack must be passed as a \"sequence\" type such as list or tuple. Support for non-sequence iterables such as generators is deprecated as of NumPy 1.16 and will raise an error in the future.\n"
     ]
    },
    {
     "name": "stdout",
     "output_type": "stream",
     "text": [
      "Estimating the choice model...\n",
      "Estimating Causal Effects...\n",
      "Simulation number 25 is complete!\n",
      "==========================================\n",
      "==========================================\n",
      "Simulation number 26 is in progress...\n",
      "Simulation size is 3311\n",
      "------------------------------------------\n",
      "Simulating data...\n",
      "Simulating Availability...\n"
     ]
    },
    {
     "name": "stderr",
     "output_type": "stream",
     "text": [
      "/Users/timsb/miniconda3/envs/causal2020/lib/python3.7/site-packages/pylogit/choice_tools.py:703: FutureWarning: arrays to stack must be passed as a \"sequence\" type such as list or tuple. Support for non-sequence iterables such as generators is deprecated as of NumPy 1.16 and will raise an error in the future.\n",
      "/Users/timsb/miniconda3/envs/causal2020/lib/python3.7/site-packages/pylogit/choice_tools.py:703: FutureWarning: arrays to stack must be passed as a \"sequence\" type such as list or tuple. Support for non-sequence iterables such as generators is deprecated as of NumPy 1.16 and will raise an error in the future.\n",
      "Exception ignored in: <function tqdm.__del__ at 0x7fae897b95f0>\n",
      "Traceback (most recent call last):\n",
      "  File \"/Users/timsb/miniconda3/envs/causal2020/lib/python3.7/site-packages/tqdm/std.py\", line 1124, in __del__\n",
      "    self.close()\n",
      "  File \"/Users/timsb/miniconda3/envs/causal2020/lib/python3.7/site-packages/tqdm/notebook.py\", line 271, in close\n",
      "    self.sp(bar_style='danger')\n",
      "AttributeError: 'tqdm_notebook' object has no attribute 'sp'\n",
      "/Users/timsb/miniconda3/envs/causal2020/lib/python3.7/site-packages/pylogit/choice_tools.py:703: FutureWarning: arrays to stack must be passed as a \"sequence\" type such as list or tuple. Support for non-sequence iterables such as generators is deprecated as of NumPy 1.16 and will raise an error in the future.\n",
      "/Users/timsb/miniconda3/envs/causal2020/lib/python3.7/site-packages/pylogit/choice_tools.py:703: FutureWarning: arrays to stack must be passed as a \"sequence\" type such as list or tuple. Support for non-sequence iterables such as generators is deprecated as of NumPy 1.16 and will raise an error in the future.\n",
      "/Users/timsb/miniconda3/envs/causal2020/lib/python3.7/site-packages/pylogit/choice_tools.py:703: FutureWarning: arrays to stack must be passed as a \"sequence\" type such as list or tuple. Support for non-sequence iterables such as generators is deprecated as of NumPy 1.16 and will raise an error in the future.\n",
      "\n",
      "Simulating Choices:   0%|          | 0/3311 [00:00<?, ?it/s]\u001b[A"
     ]
    },
    {
     "name": "stdout",
     "output_type": "stream",
     "text": [
      "Converting data from wide to long...\n",
      "Simulating Choices...\n"
     ]
    },
    {
     "name": "stderr",
     "output_type": "stream",
     "text": [
      "Simulating Choices: 100%|██████████| 3311/3311 [00:00<00:00, 36060.90it/s]\n",
      "/Users/timsb/miniconda3/envs/causal2020/lib/python3.7/site-packages/pylogit/choice_tools.py:703: FutureWarning: arrays to stack must be passed as a \"sequence\" type such as list or tuple. Support for non-sequence iterables such as generators is deprecated as of NumPy 1.16 and will raise an error in the future.\n"
     ]
    },
    {
     "name": "stdout",
     "output_type": "stream",
     "text": [
      "Estimating the choice model...\n",
      "Estimating Causal Effects...\n",
      "Simulation number 26 is complete!\n",
      "==========================================\n",
      "==========================================\n",
      "Simulation number 27 is in progress...\n",
      "Simulation size is 3781\n",
      "------------------------------------------\n",
      "Simulating data...\n",
      "Simulating Availability...\n"
     ]
    },
    {
     "name": "stderr",
     "output_type": "stream",
     "text": [
      "/Users/timsb/miniconda3/envs/causal2020/lib/python3.7/site-packages/pylogit/choice_tools.py:703: FutureWarning: arrays to stack must be passed as a \"sequence\" type such as list or tuple. Support for non-sequence iterables such as generators is deprecated as of NumPy 1.16 and will raise an error in the future.\n",
      "/Users/timsb/miniconda3/envs/causal2020/lib/python3.7/site-packages/pylogit/choice_tools.py:703: FutureWarning: arrays to stack must be passed as a \"sequence\" type such as list or tuple. Support for non-sequence iterables such as generators is deprecated as of NumPy 1.16 and will raise an error in the future.\n",
      "Exception ignored in: <function tqdm.__del__ at 0x7fae897b95f0>\n",
      "Traceback (most recent call last):\n",
      "  File \"/Users/timsb/miniconda3/envs/causal2020/lib/python3.7/site-packages/tqdm/std.py\", line 1124, in __del__\n",
      "    self.close()\n",
      "  File \"/Users/timsb/miniconda3/envs/causal2020/lib/python3.7/site-packages/tqdm/notebook.py\", line 271, in close\n",
      "    self.sp(bar_style='danger')\n",
      "AttributeError: 'tqdm_notebook' object has no attribute 'sp'\n",
      "/Users/timsb/miniconda3/envs/causal2020/lib/python3.7/site-packages/pylogit/choice_tools.py:703: FutureWarning: arrays to stack must be passed as a \"sequence\" type such as list or tuple. Support for non-sequence iterables such as generators is deprecated as of NumPy 1.16 and will raise an error in the future.\n",
      "/Users/timsb/miniconda3/envs/causal2020/lib/python3.7/site-packages/pylogit/choice_tools.py:703: FutureWarning: arrays to stack must be passed as a \"sequence\" type such as list or tuple. Support for non-sequence iterables such as generators is deprecated as of NumPy 1.16 and will raise an error in the future.\n",
      "/Users/timsb/miniconda3/envs/causal2020/lib/python3.7/site-packages/pylogit/choice_tools.py:703: FutureWarning: arrays to stack must be passed as a \"sequence\" type such as list or tuple. Support for non-sequence iterables such as generators is deprecated as of NumPy 1.16 and will raise an error in the future.\n",
      "\n",
      "Simulating Choices:   0%|          | 0/3781 [00:00<?, ?it/s]\u001b[A"
     ]
    },
    {
     "name": "stdout",
     "output_type": "stream",
     "text": [
      "Converting data from wide to long...\n",
      "Simulating Choices...\n"
     ]
    },
    {
     "name": "stderr",
     "output_type": "stream",
     "text": [
      "\n",
      "Simulating Choices: 100%|██████████| 3781/3781 [00:00<00:00, 35289.63it/s]\u001b[A\n",
      "/Users/timsb/miniconda3/envs/causal2020/lib/python3.7/site-packages/pylogit/choice_tools.py:703: FutureWarning: arrays to stack must be passed as a \"sequence\" type such as list or tuple. Support for non-sequence iterables such as generators is deprecated as of NumPy 1.16 and will raise an error in the future.\n"
     ]
    },
    {
     "name": "stdout",
     "output_type": "stream",
     "text": [
      "Estimating the choice model...\n",
      "Estimating Causal Effects...\n",
      "Simulation number 27 is complete!\n",
      "==========================================\n",
      "==========================================\n",
      "Simulation number 28 is in progress...\n",
      "Simulation size is 3359\n",
      "------------------------------------------\n",
      "Simulating data...\n",
      "Simulating Availability...\n"
     ]
    },
    {
     "name": "stderr",
     "output_type": "stream",
     "text": [
      "/Users/timsb/miniconda3/envs/causal2020/lib/python3.7/site-packages/pylogit/choice_tools.py:703: FutureWarning: arrays to stack must be passed as a \"sequence\" type such as list or tuple. Support for non-sequence iterables such as generators is deprecated as of NumPy 1.16 and will raise an error in the future.\n",
      "/Users/timsb/miniconda3/envs/causal2020/lib/python3.7/site-packages/pylogit/choice_tools.py:703: FutureWarning: arrays to stack must be passed as a \"sequence\" type such as list or tuple. Support for non-sequence iterables such as generators is deprecated as of NumPy 1.16 and will raise an error in the future.\n",
      "Exception ignored in: <function tqdm.__del__ at 0x7fae897b95f0>\n",
      "Traceback (most recent call last):\n",
      "  File \"/Users/timsb/miniconda3/envs/causal2020/lib/python3.7/site-packages/tqdm/std.py\", line 1124, in __del__\n",
      "    self.close()\n",
      "  File \"/Users/timsb/miniconda3/envs/causal2020/lib/python3.7/site-packages/tqdm/notebook.py\", line 271, in close\n",
      "    self.sp(bar_style='danger')\n",
      "AttributeError: 'tqdm_notebook' object has no attribute 'sp'\n",
      "/Users/timsb/miniconda3/envs/causal2020/lib/python3.7/site-packages/pylogit/choice_tools.py:703: FutureWarning: arrays to stack must be passed as a \"sequence\" type such as list or tuple. Support for non-sequence iterables such as generators is deprecated as of NumPy 1.16 and will raise an error in the future.\n",
      "/Users/timsb/miniconda3/envs/causal2020/lib/python3.7/site-packages/pylogit/choice_tools.py:703: FutureWarning: arrays to stack must be passed as a \"sequence\" type such as list or tuple. Support for non-sequence iterables such as generators is deprecated as of NumPy 1.16 and will raise an error in the future.\n",
      "/Users/timsb/miniconda3/envs/causal2020/lib/python3.7/site-packages/pylogit/choice_tools.py:703: FutureWarning: arrays to stack must be passed as a \"sequence\" type such as list or tuple. Support for non-sequence iterables such as generators is deprecated as of NumPy 1.16 and will raise an error in the future.\n",
      "\n",
      "Simulating Choices:   0%|          | 0/3359 [00:00<?, ?it/s]\u001b[A"
     ]
    },
    {
     "name": "stdout",
     "output_type": "stream",
     "text": [
      "Converting data from wide to long...\n",
      "Simulating Choices...\n"
     ]
    },
    {
     "name": "stderr",
     "output_type": "stream",
     "text": [
      "Simulating Choices: 100%|██████████| 3359/3359 [00:00<00:00, 37361.25it/s]\n",
      "/Users/timsb/miniconda3/envs/causal2020/lib/python3.7/site-packages/pylogit/choice_tools.py:703: FutureWarning: arrays to stack must be passed as a \"sequence\" type such as list or tuple. Support for non-sequence iterables such as generators is deprecated as of NumPy 1.16 and will raise an error in the future.\n"
     ]
    },
    {
     "name": "stdout",
     "output_type": "stream",
     "text": [
      "Estimating the choice model...\n",
      "Estimating Causal Effects...\n",
      "Simulation number 28 is complete!\n",
      "==========================================\n",
      "==========================================\n",
      "Simulation number 29 is in progress...\n",
      "Simulation size is 3344\n",
      "------------------------------------------\n",
      "Simulating data...\n",
      "Simulating Availability...\n"
     ]
    },
    {
     "name": "stderr",
     "output_type": "stream",
     "text": [
      "/Users/timsb/miniconda3/envs/causal2020/lib/python3.7/site-packages/pylogit/choice_tools.py:703: FutureWarning: arrays to stack must be passed as a \"sequence\" type such as list or tuple. Support for non-sequence iterables such as generators is deprecated as of NumPy 1.16 and will raise an error in the future.\n",
      "/Users/timsb/miniconda3/envs/causal2020/lib/python3.7/site-packages/pylogit/choice_tools.py:703: FutureWarning: arrays to stack must be passed as a \"sequence\" type such as list or tuple. Support for non-sequence iterables such as generators is deprecated as of NumPy 1.16 and will raise an error in the future.\n",
      "Exception ignored in: <function tqdm.__del__ at 0x7fae897b95f0>\n",
      "Traceback (most recent call last):\n",
      "  File \"/Users/timsb/miniconda3/envs/causal2020/lib/python3.7/site-packages/tqdm/std.py\", line 1124, in __del__\n",
      "    self.close()\n",
      "  File \"/Users/timsb/miniconda3/envs/causal2020/lib/python3.7/site-packages/tqdm/notebook.py\", line 271, in close\n",
      "    self.sp(bar_style='danger')\n",
      "AttributeError: 'tqdm_notebook' object has no attribute 'sp'\n",
      "/Users/timsb/miniconda3/envs/causal2020/lib/python3.7/site-packages/pylogit/choice_tools.py:703: FutureWarning: arrays to stack must be passed as a \"sequence\" type such as list or tuple. Support for non-sequence iterables such as generators is deprecated as of NumPy 1.16 and will raise an error in the future.\n",
      "/Users/timsb/miniconda3/envs/causal2020/lib/python3.7/site-packages/pylogit/choice_tools.py:703: FutureWarning: arrays to stack must be passed as a \"sequence\" type such as list or tuple. Support for non-sequence iterables such as generators is deprecated as of NumPy 1.16 and will raise an error in the future.\n",
      "/Users/timsb/miniconda3/envs/causal2020/lib/python3.7/site-packages/pylogit/choice_tools.py:703: FutureWarning: arrays to stack must be passed as a \"sequence\" type such as list or tuple. Support for non-sequence iterables such as generators is deprecated as of NumPy 1.16 and will raise an error in the future.\n",
      "\n",
      "Simulating Choices:   0%|          | 0/3344 [00:00<?, ?it/s]\u001b[A"
     ]
    },
    {
     "name": "stdout",
     "output_type": "stream",
     "text": [
      "Converting data from wide to long...\n",
      "Simulating Choices...\n"
     ]
    },
    {
     "name": "stderr",
     "output_type": "stream",
     "text": [
      "Simulating Choices: 100%|██████████| 3344/3344 [00:00<00:00, 37305.51it/s]\n",
      "/Users/timsb/miniconda3/envs/causal2020/lib/python3.7/site-packages/pylogit/choice_tools.py:703: FutureWarning: arrays to stack must be passed as a \"sequence\" type such as list or tuple. Support for non-sequence iterables such as generators is deprecated as of NumPy 1.16 and will raise an error in the future.\n"
     ]
    },
    {
     "name": "stdout",
     "output_type": "stream",
     "text": [
      "Estimating the choice model...\n",
      "Estimating Causal Effects...\n",
      "Simulation number 29 is complete!\n",
      "==========================================\n",
      "==========================================\n",
      "Simulation number 30 is in progress...\n",
      "Simulation size is 3857\n",
      "------------------------------------------\n",
      "Simulating data...\n",
      "Simulating Availability...\n"
     ]
    },
    {
     "name": "stderr",
     "output_type": "stream",
     "text": [
      "/Users/timsb/miniconda3/envs/causal2020/lib/python3.7/site-packages/pylogit/choice_tools.py:703: FutureWarning: arrays to stack must be passed as a \"sequence\" type such as list or tuple. Support for non-sequence iterables such as generators is deprecated as of NumPy 1.16 and will raise an error in the future.\n",
      "/Users/timsb/miniconda3/envs/causal2020/lib/python3.7/site-packages/pylogit/choice_tools.py:703: FutureWarning: arrays to stack must be passed as a \"sequence\" type such as list or tuple. Support for non-sequence iterables such as generators is deprecated as of NumPy 1.16 and will raise an error in the future.\n",
      "Exception ignored in: <function tqdm.__del__ at 0x7fae897b95f0>\n",
      "Traceback (most recent call last):\n",
      "  File \"/Users/timsb/miniconda3/envs/causal2020/lib/python3.7/site-packages/tqdm/std.py\", line 1124, in __del__\n",
      "    self.close()\n",
      "  File \"/Users/timsb/miniconda3/envs/causal2020/lib/python3.7/site-packages/tqdm/notebook.py\", line 271, in close\n",
      "    self.sp(bar_style='danger')\n",
      "AttributeError: 'tqdm_notebook' object has no attribute 'sp'\n",
      "/Users/timsb/miniconda3/envs/causal2020/lib/python3.7/site-packages/pylogit/choice_tools.py:703: FutureWarning: arrays to stack must be passed as a \"sequence\" type such as list or tuple. Support for non-sequence iterables such as generators is deprecated as of NumPy 1.16 and will raise an error in the future.\n",
      "/Users/timsb/miniconda3/envs/causal2020/lib/python3.7/site-packages/pylogit/choice_tools.py:703: FutureWarning: arrays to stack must be passed as a \"sequence\" type such as list or tuple. Support for non-sequence iterables such as generators is deprecated as of NumPy 1.16 and will raise an error in the future.\n",
      "/Users/timsb/miniconda3/envs/causal2020/lib/python3.7/site-packages/pylogit/choice_tools.py:703: FutureWarning: arrays to stack must be passed as a \"sequence\" type such as list or tuple. Support for non-sequence iterables such as generators is deprecated as of NumPy 1.16 and will raise an error in the future.\n",
      "\n",
      "Simulating Choices:   0%|          | 0/3857 [00:00<?, ?it/s]\u001b[A"
     ]
    },
    {
     "name": "stdout",
     "output_type": "stream",
     "text": [
      "Converting data from wide to long...\n",
      "Simulating Choices...\n"
     ]
    },
    {
     "name": "stderr",
     "output_type": "stream",
     "text": [
      "Simulating Choices: 100%|██████████| 3857/3857 [00:00<00:00, 39043.57it/s]\n",
      "/Users/timsb/miniconda3/envs/causal2020/lib/python3.7/site-packages/pylogit/choice_tools.py:703: FutureWarning: arrays to stack must be passed as a \"sequence\" type such as list or tuple. Support for non-sequence iterables such as generators is deprecated as of NumPy 1.16 and will raise an error in the future.\n"
     ]
    },
    {
     "name": "stdout",
     "output_type": "stream",
     "text": [
      "Estimating the choice model...\n",
      "Estimating Causal Effects...\n",
      "Simulation number 30 is complete!\n",
      "==========================================\n",
      "==========================================\n"
     ]
    },
    {
     "name": "stderr",
     "output_type": "stream",
     "text": [
      "/Users/timsb/miniconda3/envs/causal2020/lib/python3.7/site-packages/pylogit/choice_tools.py:703: FutureWarning: arrays to stack must be passed as a \"sequence\" type such as list or tuple. Support for non-sequence iterables such as generators is deprecated as of NumPy 1.16 and will raise an error in the future.\n",
      "/Users/timsb/miniconda3/envs/causal2020/lib/python3.7/site-packages/pylogit/choice_tools.py:703: FutureWarning: arrays to stack must be passed as a \"sequence\" type such as list or tuple. Support for non-sequence iterables such as generators is deprecated as of NumPy 1.16 and will raise an error in the future.\n",
      "Exception ignored in: <function tqdm.__del__ at 0x7fae897b95f0>\n",
      "Traceback (most recent call last):\n",
      "  File \"/Users/timsb/miniconda3/envs/causal2020/lib/python3.7/site-packages/tqdm/std.py\", line 1124, in __del__\n",
      "    self.close()\n",
      "  File \"/Users/timsb/miniconda3/envs/causal2020/lib/python3.7/site-packages/tqdm/notebook.py\", line 271, in close\n",
      "    self.sp(bar_style='danger')\n",
      "AttributeError: 'tqdm_notebook' object has no attribute 'sp'\n",
      "/Users/timsb/miniconda3/envs/causal2020/lib/python3.7/site-packages/pylogit/choice_tools.py:703: FutureWarning: arrays to stack must be passed as a \"sequence\" type such as list or tuple. Support for non-sequence iterables such as generators is deprecated as of NumPy 1.16 and will raise an error in the future.\n",
      "/Users/timsb/miniconda3/envs/causal2020/lib/python3.7/site-packages/pylogit/choice_tools.py:703: FutureWarning: arrays to stack must be passed as a \"sequence\" type such as list or tuple. Support for non-sequence iterables such as generators is deprecated as of NumPy 1.16 and will raise an error in the future.\n"
     ]
    }
   ],
   "source": [
    "for sim_size, number in zip(simulation_sizes, sim_number):\n",
    "    print(\"Simulation number\", number, \"is in progress...\")\n",
    "    print(\"Simulation size is\", sim_size)\n",
    "    print(\"------------------------------------------\")\n",
    "    print(\"Simulating data...\")\n",
    "    # Simulate data without parents\n",
    "    sim_bike_data_no_parent = sim.sim_node_no_parent(\n",
    "        params_dict=bike_data_params, size=sim_size\n",
    "    )\n",
    "\n",
    "    sim_bike_data_wide = copy.deepcopy(sim_bike_data_no_parent)\n",
    "\n",
    "    # Simulate nodes based on causal graphs\n",
    "    exec(SIMULATE_NODES_WIDE)\n",
    "\n",
    "    # Converting Data from Wide to Long\n",
    "    print(\"Converting data from wide to long...\")\n",
    "    long_sim_data = pl.convert_wide_to_long(\n",
    "        wide_data=sim_bike_data_wide,\n",
    "        ind_vars=IND_VARIABLES,\n",
    "        alt_specific_vars=ALT_VARYING_VARIABLES,\n",
    "        availability_vars=AVAILABILITY_VARIABLES,\n",
    "        obs_id_col=OBS_ID_COL,\n",
    "        choice_col=CHOICE_COL,\n",
    "        new_alt_id_name=CUSTOM_ALT_ID,\n",
    "    )\n",
    "\n",
    "    # Create a cars per licensed drivers column\n",
    "    long_sim_data[\"cars_per_licensed_drivers\"] = 0\n",
    "    long_sim_data.loc[\n",
    "        long_sim_data.num_licensed_drivers > 0, \"cars_per_licensed_drivers\"\n",
    "    ] = long_sim_data.num_cars / long_sim_data.num_licensed_drivers.astype(\n",
    "        float\n",
    "    )\n",
    "\n",
    "    # Add a variable representing cost divided by distance\n",
    "    long_sim_data[\"cost_per_distance\"] = 0\n",
    "    long_sim_data.loc[\n",
    "        long_sim_data.mode_id.isin([1, 2, 3]), \"cost_per_distance\"\n",
    "    ] = (\n",
    "        long_sim_data.loc[\n",
    "            long_sim_data.mode_id.isin([1, 2, 3]), \"total_travel_cost\"\n",
    "        ]\n",
    "        / long_sim_data.loc[\n",
    "            long_sim_data.mode_id.isin([1, 2, 3]), \"total_travel_distance\"\n",
    "        ]\n",
    "    )\n",
    "\n",
    "    # Simulating Choices\n",
    "    print(\"Simulating Choices...\")\n",
    "    # Calculate probabilities for each alternative\n",
    "    # based on the estimated model\n",
    "    init_mnl_model_probs = mnl_model.predict(long_sim_data)\n",
    "\n",
    "    # Simulate choice data\n",
    "    long_sim_data[CHOICE_COL] = simulate_choice_vector(\n",
    "        predicted_probs=init_mnl_model_probs,\n",
    "        observation_ids=long_sim_data[OBS_ID_COL].values,\n",
    "    )\n",
    "\n",
    "    # Estimating Choice Models\n",
    "    print(\"Estimating the choice model...\")\n",
    "    # Estimate the basic MNL model, using the hessian and newton-conjugate gradient\n",
    "    mnl_model_sim = pl.create_choice_model(\n",
    "        data=long_sim_data,\n",
    "        alt_id_col=ALT_ID_COL,\n",
    "        obs_id_col=OBS_ID_COL,\n",
    "        choice_col=CHOICE_COL,\n",
    "        specification=MNL_SPECIFICATION,\n",
    "        model_type=\"MNL\",\n",
    "        names=MNL_NAMES,\n",
    "    )\n",
    "\n",
    "    num_vars = len(reduce(lambda x, y: x + y, MNL_NAMES.values()))\n",
    "    # Note newton-cg used to ensure convergence to a point where gradient\n",
    "    # is essentially zero for all dimensions.\n",
    "    mnl_model_sim_params = mnl_model_sim.fit_mle(\n",
    "        np.zeros(num_vars), method=\"BFGS\", just_point=True\n",
    "    )\n",
    "    mnl_model_sim_param_list = [mnl_model_sim_params[\"x\"], None, None, None]\n",
    "    models_dictionary[number] = mnl_model_sim\n",
    "\n",
    "    print(\"Estimating Causal Effects...\")\n",
    "\n",
    "    # Estimating Causal Effects\n",
    "    # Create copies of long format data\n",
    "    long_sim_data_naive = copy.deepcopy(long_sim_data)\n",
    "    long_sim_data_causal = copy.deepcopy(long_sim_data)\n",
    "\n",
    "    # Initial Probabilities\n",
    "    init_mnl_model_sim_probs = mnl_model_sim.predict(\n",
    "        long_sim_data, param_list=mnl_model_sim_param_list\n",
    "    )\n",
    "\n",
    "    long_sim_data[\"init_mnl_model_sim_probs\"] = init_mnl_model_sim_probs\n",
    "\n",
    "    # mnl_model_probs = mnl_model.predict(long_sim_data)\n",
    "    long_sim_data[\"init_mnl_model_probs\"] = init_mnl_model_probs\n",
    "\n",
    "    long_sim_data_naive[\"total_travel_distance\"] = (\n",
    "        perturb * long_sim_data_naive[\"total_travel_distance\"]\n",
    "    )\n",
    "    long_sim_data_causal[\"total_travel_distance\"] = (\n",
    "        perturb * long_sim_data[\"total_travel_distance\"]\n",
    "    )\n",
    "\n",
    "    # Naive Probabilities\n",
    "    naive_probabilities = mnl_model_sim.predict(\n",
    "        long_sim_data_naive, param_list=mnl_model_sim_param_list\n",
    "    )\n",
    "\n",
    "    long_sim_data_naive[\"naive_probabilities\"] = naive_probabilities\n",
    "\n",
    "    # Estimated Probabilities\n",
    "\n",
    "    exec(SIMULATE_PERTURB)\n",
    "\n",
    "    # Compute Estimated Probabilities\n",
    "    estimated_probabilities = mnl_model_sim.predict(\n",
    "        long_sim_data_causal, param_list=mnl_model_sim_param_list\n",
    "    )\n",
    "    long_sim_data_causal[\"estimated_probabilities\"] = estimated_probabilities\n",
    "\n",
    "    # True Probabilities\n",
    "    true_probabilities = mnl_model.predict(long_sim_data_causal)\n",
    "    long_sim_data_causal[\"true_probabilities\"] = true_probabilities\n",
    "\n",
    "    simulation_data[number] = {}\n",
    "    simulation_data[number][\"long_sim_data\"] = long_sim_data\n",
    "    simulation_data[number][\"long_sim_data_causal\"] = long_sim_data_causal\n",
    "    simulation_data[number][\"long_sim_data_naive\"] = long_sim_data_naive\n",
    "\n",
    "    print(\"Simulation number\", number, \"is complete!\")\n",
    "    print(\"==========================================\")\n",
    "    print(\"==========================================\")"
   ]
  },
  {
   "cell_type": "markdown",
   "metadata": {},
   "source": [
    "### Causal Effect Estimation"
   ]
  },
  {
   "cell_type": "markdown",
   "metadata": {},
   "source": [
    "We estimate the causal effect related to the perturbation of the Travel Distance variable in each of the causal graphs (independent and realistic) on the probability of choosing Driving based modes (Drive alone, Shared-2, and Shared-3+)."
   ]
  },
  {
   "cell_type": "code",
   "execution_count": 27,
   "metadata": {},
   "outputs": [],
   "source": [
    "for number in sim_number:\n",
    "\n",
    "    initial_data = simulation_data[number][\"long_sim_data\"]\n",
    "    naive_data = simulation_data[number][\"long_sim_data_naive\"]\n",
    "    causal_data = simulation_data[number][\"long_sim_data_causal\"]\n",
    "\n",
    "    naive_effect = (\n",
    "        naive_data.loc[\n",
    "            naive_data[\"mode_id\"].isin([1, 2, 3]), \"naive_probabilities\"\n",
    "        ]\n",
    "        - initial_data.loc[\n",
    "            initial_data[\"mode_id\"].isin([1, 2, 3]), \"init_mnl_model_sim_probs\"\n",
    "        ]\n",
    "    )\n",
    "    estimated_effect = (\n",
    "        causal_data.loc[\n",
    "            causal_data[\"mode_id\"].isin([1, 2, 3]), \"estimated_probabilities\"\n",
    "        ]\n",
    "        - initial_data.loc[\n",
    "            initial_data[\"mode_id\"].isin([1, 2, 3]), \"init_mnl_model_sim_probs\"\n",
    "        ]\n",
    "    )\n",
    "    true_effect = (\n",
    "        causal_data.loc[\n",
    "            causal_data[\"mode_id\"].isin([1, 2, 3]), \"true_probabilities\"\n",
    "        ]\n",
    "        - initial_data.loc[\n",
    "            initial_data[\"mode_id\"].isin([1, 2, 3]), \"init_mnl_model_probs\"\n",
    "        ]\n",
    "    )\n",
    "\n",
    "    causal_effects = causal_effects.append(\n",
    "        {\n",
    "            \"true_effect\": true_effect.mean(),\n",
    "            \"estimated_effect\": estimated_effect.mean(),\n",
    "            \"naive_effect\": naive_effect.mean(),\n",
    "        },\n",
    "        ignore_index=True,\n",
    "    )"
   ]
  },
  {
   "cell_type": "markdown",
   "metadata": {},
   "source": [
    "### Generating Plots"
   ]
  },
  {
   "cell_type": "markdown",
   "metadata": {},
   "source": [
    "We plot the distribution of the causal effects to show the bias in predicted outcomes based on the assumed causal graph."
   ]
  },
  {
   "cell_type": "code",
   "execution_count": 28,
   "metadata": {},
   "outputs": [
    {
     "name": "stderr",
     "output_type": "stream",
     "text": [
      "/Users/timsb/miniconda3/envs/causal2020/lib/python3.7/site-packages/seaborn/distributions.py:2551: FutureWarning: `distplot` is a deprecated function and will be removed in a future version. Please adapt your code to use either `displot` (a figure-level function with similar flexibility) or `histplot` (an axes-level function for histograms).\n"
     ]
    },
    {
     "data": {
      "text/plain": [
       "<matplotlib.legend.Legend at 0x7fae8d70c450>"
      ]
     },
     "execution_count": 28,
     "metadata": {},
     "output_type": "execute_result"
    },
    {
     "data": {
      "image/png": "[encoded data removed]",
      "text/plain": [
       "<Figure size 1440x720 with 1 Axes>"
      ]
     },
     "metadata": {},
     "output_type": "display_data"
    },
    {
     "data": {
      "image/png": "[encoded data removed]",
      "text/plain": [
       "<Figure size 1440x720 with 1 Axes>"
      ]
     },
     "metadata": {},
     "output_type": "display_data"
    }
   ],
   "source": [
    "plt.figure(figsize=(20, 10))\n",
    "sns.distplot(\n",
    "    causal_effects.true_effect, label=\"True Effect\", kde=False, color=\"#005AB5\"\n",
    ")\n",
    "sns.distplot(\n",
    "    causal_effects.naive_effect,\n",
    "    label=\"Naive Effect\",\n",
    "    kde=False,\n",
    "    color=\"#DC3220\",\n",
    ")\n",
    "plt.title(\n",
    "    \"True Effect vs. Naive Effect\",\n",
    "    fontdict={\"fontsize\": 14, \"fontweight\": \"bold\"},\n",
    ")\n",
    "plt.ylabel(\n",
    "    \"Frequency\",\n",
    "    rotation=90,\n",
    "    labelpad=5,\n",
    "    fontdict={\"fontsize\": 12, \"fontweight\": \"bold\"},\n",
    ")\n",
    "plt.xlabel(\n",
    "    \"Average Causal Effect\", fontdict={\"fontsize\": 12, \"fontweight\": \"bold\"}\n",
    ")\n",
    "plt.legend(prop={\"size\": 14})\n",
    "\n",
    "plt.figure(figsize=(20, 10))\n",
    "sns.distplot(\n",
    "    causal_effects.true_effect, label=\"True Effect\", kde=False, color=\"#005AB5\"\n",
    ")\n",
    "sns.distplot(\n",
    "    causal_effects.estimated_effect,\n",
    "    label=\"Estimated Effect\",\n",
    "    kde=False,\n",
    "    color=\"#994F00\",\n",
    ")\n",
    "plt.title(\n",
    "    \"True Effect vs. Estimated Effect\",\n",
    "    fontdict={\"fontsize\": 14, \"fontweight\": \"bold\"},\n",
    ")\n",
    "plt.ylabel(\n",
    "    \"Frequency\",\n",
    "    rotation=90,\n",
    "    labelpad=5,\n",
    "    fontdict={\"fontsize\": 12, \"fontweight\": \"bold\"},\n",
    ")\n",
    "plt.xlabel(\n",
    "    \"Average Causal Effect\", fontdict={\"fontsize\": 12, \"fontweight\": \"bold\"}\n",
    ")\n",
    "plt.legend(prop={\"size\": 14})"
   ]
  },
  {
   "cell_type": "markdown",
   "metadata": {},
   "source": [
    "# Conclusion"
   ]
  },
  {
   "cell_type": "markdown",
   "metadata": {},
   "source": [
    "The main conclusion from this notebook is that assigning causal intepretations to model parameters is only valid if we draw clear assumptions about the data generation process about the question at hand. The data generating process was shown to be important even as the outcome model remained unchanged. Drawing a causal graph (and testing its validity with the data at hand) allows one to clearly state their assumptions about the data generating process and to clearly assign causal interpretations to specific model parameters."
   ]
  }
 ],
 "metadata": {
  "jupytext": {
   "formats": "ipynb,md"
  },
  "kernelspec": {
   "display_name": "Python 3",
   "language": "python",
   "name": "python3"
  },
  "language_info": {
   "codemirror_mode": {
    "name": "ipython",
    "version": 3
   },
   "file_extension": ".py",
   "mimetype": "text/x-python",
   "name": "python",
   "nbconvert_exporter": "python",
   "pygments_lexer": "ipython3",
   "version": "3.7.7"
  }
 },
 "nbformat": 4,
 "nbformat_minor": 4
}
