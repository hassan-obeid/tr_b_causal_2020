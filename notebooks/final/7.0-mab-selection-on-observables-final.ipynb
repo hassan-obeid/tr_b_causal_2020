{
 "cells": [
  {
   "cell_type": "markdown",
   "metadata": {},
   "source": [
    "# Selection on Observables "
   ]
  },
  {
   "cell_type": "markdown",
   "metadata": {},
   "source": [
    "## Purpose "
   ]
  },
  {
   "cell_type": "markdown",
   "metadata": {},
   "source": [
    "The purpose of this notebook is to illustrate an example of the workflow outlined in [Brathwaite and Walker (2017)](https://arxiv.org/abs/1706.07502). This simple application aims at highlighting the importance of causal structure in estimating causal effects of interest reflecting changes resulting from policy proposals. The basic idea is to show that when we control for intermediate variables of some variable of interest in a causal graph, we never recover the true causal parameter on the variable of interest.\n",
    "\n",
    "This notebook achieves this objective by using the dataset and the MNL utility specification from [Brathwaite and Walker (2016)](https://arxiv.org/abs/1606.05900).\n",
    "The rest of the notebook is organized as follows:\n",
    " - Defining different causal graphs representing different views for how individuals make mode choices. These causal graphs are based on the MNL utility function from [Brathwaite and Walker (2016)](https://arxiv.org/abs/1606.05900)\n",
    " - Simulating data based on the different beliefs about the data generating process illustrated by both causal graphs.\n",
    " - Perturbing one of the variables (e.g.: Travel Distance) to imitate scenarios where a policy proposal would affect one or more of the variables represented by nodes in the causal graph.\n",
    " - Estimating choice models resulting from the different causal graphs and plotting the distribution of average causal effects of the variable perturbation from the previous step"
   ]
  },
  {
   "cell_type": "markdown",
   "metadata": {},
   "source": [
    "# Import Needed Libraries "
   ]
  },
  {
   "cell_type": "code",
   "execution_count": 45,
   "metadata": {},
   "outputs": [],
   "source": [
    "# Built-in libraries\n",
    "import sys\n",
    "\n",
    "# Third party libraries\n",
    "import numpy as np\n",
    "import pandas as pd\n",
    "import matplotlib.pyplot as plt\n",
    "from functools import reduce\n",
    "import seaborn as sns\n",
    "import copy\n",
    "from causalgraphicalmodels import CausalGraphicalModel\n",
    "from collections import defaultdict, OrderedDict\n",
    "import pylogit as pl\n",
    "\n",
    "# Local libraries\n",
    "sys.path.insert(0, '../../')\n",
    "import src.observables.distfit as distfit\n",
    "import src.observables.simulation as sim\n",
    "import src.observables.regression as reg\n",
    "import src.observables.availability as av\n",
    "from src.viz.predictive_viz import simulate_choice_vector\n",
    "from src.observables.graphs import (IND_UTILITY, DA_UTILITY,\n",
    "                                  SHARED_2_UTILITY,SHARED_3P_UTILITY,\n",
    "                                  WTW_UTILITY, DTW_UTILITY, WTD_UTILITY,\n",
    "                                  WALK_UTILITY, BIKE_UTILITY)"
   ]
  },
  {
   "cell_type": "markdown",
   "metadata": {},
   "source": [
    "# Set Notebook Parameters"
   ]
  },
  {
   "cell_type": "code",
   "execution_count": 46,
   "metadata": {},
   "outputs": [],
   "source": [
    "# Path to Data\n",
    "DATA_PATH = '../../data/raw/spring_2016_all_bay_area_long_format_plus_cross_bay_col.csv'\n",
    "\n",
    "# Path to computational code used\n",
    "# in simulation loop\n",
    "SIMULATE_NODES_WIDE = open('../../src/observables/simworkflow.py').read()\n",
    "SIMULATE_PERTURB = open('../../src/observables/simperturb.py').read()"
   ]
  },
  {
   "cell_type": "code",
   "execution_count": 11,
   "metadata": {},
   "outputs": [],
   "source": [
    "# Alternative id column from long format data\n",
    "ALT_ID_COL = 'mode_id'\n",
    "\n",
    "# Individual specific variables list\n",
    "IND_SPEC_VARS = ['household_size', 'num_kids',\n",
    "                 'num_cars', 'num_licensed_drivers']\n",
    "\n",
    "# Alternative specific variables dictionary\n",
    "# Key is alternative number, value is a list\n",
    "# of alternative specific nodes without parents\n",
    "ALT_SPEC_DICT = {1: ['total_travel_distance'],\n",
    "                 2: ['total_travel_distance'],\n",
    "                 3: ['total_travel_distance'],\n",
    "                 4: ['total_travel_time'],\n",
    "                 5: ['total_travel_time'],\n",
    "                 6: ['total_travel_time'],\n",
    "                 7: ['total_travel_distance'],\n",
    "                 8: ['total_travel_distance']}\n",
    "\n",
    "# Trip specific variables list\n",
    "TRIP_SPEC_VARS = ['cross_bay']\n",
    "\n",
    "# Alternative name dictionary\n",
    "# Key is alternative number\n",
    "# value is alternative number snake cased\n",
    "ALT_NAME_DICT = {1: 'drive_alone',\n",
    "                 2: 'shared_2',\n",
    "                 3: 'shared_3p',\n",
    "                 4: 'wtw',\n",
    "                 5: 'dtw',\n",
    "                 6: 'wtd',\n",
    "                 7: 'walk',\n",
    "                 8: 'bike'}\n",
    "\n",
    "ALT_ID_TO_MODE_NAME = {1: \"Drive Alone\",\n",
    "                       2: \"Shared Ride 2\",\n",
    "                       3: \"Shared Ride 3+\",\n",
    "                       4: \"Walk-Transit-Walk\",\n",
    "                       5: \"Drive-Transit-Walk\",\n",
    "                       6: \"Walk-Transit-Drive\",\n",
    "                       7: \"Walk\",\n",
    "                       8: \"Bike\"}\n",
    "\n",
    "# Variable type Dictionary\n",
    "# Key is string with variable name from previous\n",
    "# dictionaries and lists, value is a string\n",
    "# with type of the variable\n",
    "VARS_TYPE = {'num_kids': 'categorical',\n",
    "             'household_size': 'categorical',\n",
    "             'num_cars': 'categorical',\n",
    "             'num_licensed_drivers': 'categorical',\n",
    "             'cross_bay': 'categorical',\n",
    "             'total_travel_time': 'continuous',\n",
    "             'total_travel_distance': 'continuous',\n",
    "             'total_travel_cost': 'continuous'}\n",
    "\n",
    "# Distribution to be explored for continuous variables\n",
    "CONT_DISTS = ['norm', 'alpha', 'beta', 'gamma', 'expon', 'gumbel']"
   ]
  },
  {
   "cell_type": "code",
   "execution_count": 12,
   "metadata": {},
   "outputs": [],
   "source": [
    "# Declare regression parameters\n",
    "\n",
    "REGS_DA = {1: ('total_travel_distance', 'total_travel_cost'),\n",
    "           2: ('total_travel_distance', 'total_travel_time')}\n",
    "\n",
    "REGS_TYPE_DA = {1: 'linear',\n",
    "                2: 'linear'}\n",
    "\n",
    "\n",
    "REGS_SHARED_2 = {1: ('total_travel_distance', 'total_travel_cost'),\n",
    "                 2: ('total_travel_distance', 'total_travel_time')}\n",
    "\n",
    "REGS_TYPE_SHARED_2 = {1: 'linear',\n",
    "                      2: 'linear'}\n",
    "\n",
    "\n",
    "REGS_SHARED_3P = {1: ('total_travel_distance', 'total_travel_cost'),\n",
    "                  2: ('total_travel_distance', 'total_travel_time')}\n",
    "\n",
    "REGS_TYPE_SHARED_3P = {1: 'linear',\n",
    "                       2: 'linear'}\n",
    "\n",
    "\n",
    "REGS_WTW = {1: ('total_travel_time', 'total_travel_cost')}\n",
    "\n",
    "REGS_TYPE_WTW = {1: 'linear'}\n",
    "\n",
    "\n",
    "REGS_DTW = {1: ('total_travel_time', 'total_travel_cost')}\n",
    "\n",
    "REGS_TYPE_DTW = {1: 'linear'}\n",
    "\n",
    "\n",
    "REGS_WTD = {1: ('total_travel_time', 'total_travel_cost')}\n",
    "\n",
    "REGS_TYPE_WTD = {1: 'linear'}"
   ]
  },
  {
   "cell_type": "code",
   "execution_count": 13,
   "metadata": {},
   "outputs": [],
   "source": [
    "# Parameters for conversion from Wide to Long\n",
    "\n",
    "IND_VARIABLES = ['num_kids', 'household_size',\n",
    "                 'num_cars', 'num_licensed_drivers', 'cross_bay']\n",
    "\n",
    "\n",
    "# Dictionary of Alternative Specific Variables\n",
    "# TODO: verify whether all variables are needed\n",
    "# for each alternative\n",
    "ALT_VARYING_VARIABLES = {u'total_travel_time': dict([(1, 'total_travel_time_drive_alone'),\n",
    "                                                     (2, 'total_travel_time_shared_2'),\n",
    "                                                     (3, 'total_travel_time_shared_3p'),\n",
    "                                                     (4, 'total_travel_time_wtw'),\n",
    "                                                     (5, 'total_travel_time_dtw'),\n",
    "                                                     (6, 'total_travel_time_wtd')]),\n",
    "                         u'total_travel_cost': dict([(1, 'total_travel_cost_drive_alone'),\n",
    "                                                     (2, 'total_travel_cost_shared_2'),\n",
    "                                                     (3, 'total_travel_cost_shared_3p'),\n",
    "                                                     (4, 'total_travel_cost_wtw'),\n",
    "                                                     (5, 'total_travel_cost_dtw'),\n",
    "                                                     (6, 'total_travel_cost_wtd')]),\n",
    "                         u'total_travel_distance': dict([(1, 'total_travel_distance_drive_alone'),\n",
    "                                                         (2, 'total_travel_distance_shared_2'),\n",
    "                                                         (3, 'total_travel_distance_shared_3p'),\n",
    "                                                         (7, 'total_travel_distance_walk'),\n",
    "                                                         (8, 'total_travel_distance_bike')])}\n",
    "\n",
    "\n",
    "# Dictionary of alternative availability variables\n",
    "AVAILABILITY_VARIABLES = {1: 'drive_alone_AV',\n",
    "                          2: 'shared_2_AV',\n",
    "                          3: 'shared_3p_AV',\n",
    "                          4: 'wtw_AV',\n",
    "                          5: 'dtw_AV',\n",
    "                          6: 'wtd_AV',\n",
    "                          7: 'walk_AV',\n",
    "                          8: 'bike_AV'}\n",
    "\n",
    "##########\n",
    "# Determine the columns for: alternative ids, the observation ids and the choice\n",
    "##########\n",
    "# The 'custom_alt_id' is the name of a column to be created in the long-format data\n",
    "# It will identify the alternative associated with each row.\n",
    "CUSTOM_ALT_ID = \"mode_id\"\n",
    "\n",
    "OBS_ID_COL = \"observation_id\"\n",
    "\n",
    "# Declare choice column\n",
    "CHOICE_COL = \"sim_choice\""
   ]
  },
  {
   "cell_type": "code",
   "execution_count": 14,
   "metadata": {},
   "outputs": [],
   "source": [
    "# Create my specification and variable names for the basic MNL model\n",
    "# NOTE: - Keys should be variables within the long format dataframe.\n",
    "#         The sole exception to this is the \"intercept\" key.\n",
    "#       - For the specification dictionary, the values should be lists\n",
    "#         or lists of lists. Within a list, or within the inner-most\n",
    "#         list should be the alternative ID's of the alternative whose\n",
    "#         utility specification the explanatory variable is entering.\n",
    "\n",
    "MNL_SPECIFICATION = OrderedDict()\n",
    "MNL_NAMES = OrderedDict()\n",
    "\n",
    "MNL_SPECIFICATION[\"intercept\"] = [2, 3, 4, 5, 6, 7, 8]\n",
    "MNL_NAMES[\"intercept\"] = ['ASC Shared Ride: 2',\n",
    "                          'ASC Shared Ride: 3+',\n",
    "                          'ASC Walk-Transit-Walk',\n",
    "                          'ASC Drive-Transit-Walk',\n",
    "                          'ASC Walk-Transit-Drive',\n",
    "                          'ASC Walk',\n",
    "                          'ASC Bike']\n",
    "\n",
    "MNL_SPECIFICATION[\"total_travel_time\"] = [[1, 2, 3], [4, 5, 6]]\n",
    "MNL_NAMES[\"total_travel_time\"] = ['Travel Time, units:min (All Auto Modes)',\n",
    "                                  'Travel Time, units:min (All Transit Modes)']\n",
    "\n",
    "MNL_SPECIFICATION[\"total_travel_cost\"] = [[4, 5, 6]]\n",
    "MNL_NAMES[\"total_travel_cost\"] = ['Travel Cost, units:$ (All Transit Modes)']\n",
    "\n",
    "MNL_SPECIFICATION[\"cost_per_distance\"] = [1, 2, 3]\n",
    "MNL_NAMES[\"cost_per_distance\"] = [\"Travel Cost per Distance, units:$/mi (Drive Alone)\",\n",
    "                                  \"Travel Cost per Distance, units:$/mi (SharedRide-2)\",\n",
    "                                  \"Travel Cost per Distance, units:$/mi (SharedRide-3+)\"]\n",
    "\n",
    "MNL_SPECIFICATION[\"cars_per_licensed_drivers\"] = [[1, 2, 3]]\n",
    "MNL_NAMES[\"cars_per_licensed_drivers\"] = [\"Autos per licensed drivers (All Auto Modes)\"]\n",
    "\n",
    "MNL_SPECIFICATION[\"total_travel_distance\"] = [7, 8]\n",
    "MNL_NAMES[\"total_travel_distance\"] = ['Travel Distance, units:mi (Walk)',\n",
    "                                      'Travel Distance, units:mi (Bike)']\n",
    "\n",
    "MNL_SPECIFICATION[\"cross_bay\"] = [[2, 3]]\n",
    "MNL_NAMES[\"cross_bay\"] = [\"Cross-Bay Tour (Shared Ride 2 & 3+)\"]\n",
    "\n",
    "MNL_SPECIFICATION[\"household_size\"] = [[2, 3]]\n",
    "MNL_NAMES[\"household_size\"] = ['Household Size (Shared Ride 2 & 3+)']\n",
    "\n",
    "MNL_SPECIFICATION[\"num_kids\"] = [[2, 3]]\n",
    "MNL_NAMES[\"num_kids\"] = [\"Number of Kids in Household (Shared Ride 2 & 3+)\"]"
   ]
  },
  {
   "cell_type": "markdown",
   "metadata": {},
   "source": [
    "# Load and Describe Data "
   ]
  },
  {
   "cell_type": "code",
   "execution_count": 50,
   "metadata": {},
   "outputs": [
    {
     "data": {
      "text/plain": [
       "Drive Alone           0.428322\n",
       "Shared Ride 2         0.158841\n",
       "Shared Ride 3+        0.139860\n",
       "Walk-Transit-Walk     0.103397\n",
       "Drive-Transit-Walk    0.015485\n",
       "Walk-Transit-Drive    0.013237\n",
       "Walk                  0.094406\n",
       "Bike                  0.046454\n",
       "Name: Mode Shares, dtype: float64"
      ]
     },
     "execution_count": 50,
     "metadata": {},
     "output_type": "execute_result"
    }
   ],
   "source": [
    "# Reading data from the specified PATH\n",
    "bike_data_long = pd.read_csv(DATA_PATH)\n",
    "\n",
    "# Look at the mode shares in the data set\n",
    "\n",
    "mode_counts = bike_data_long.loc[bike_data_long.choice == 1,\n",
    "                                 \"mode_id\"].value_counts().loc[range(1, 9)]\n",
    "\n",
    "mode_shares = mode_counts / bike_data_long.observation_id.max()\n",
    "mode_shares.index = [ALT_ID_TO_MODE_NAME[x] for x in mode_shares.index.values]\n",
    "mode_shares.name = \"Mode Shares\"\n",
    "mode_shares"
   ]
  },
  {
   "cell_type": "markdown",
   "metadata": {},
   "source": [
    "# Choice Model Estimation "
   ]
  },
  {
   "cell_type": "markdown",
   "metadata": {},
   "source": [
    "For purposes of this task, we use the MNL specification from Brathwaite and Walker (2016) and estimate the model resulting from such a specification. We assume that the estimated model parameters represent the \"true\" model parameters."
   ]
  },
  {
   "cell_type": "code",
   "execution_count": 16,
   "metadata": {},
   "outputs": [
    {
     "name": "stdout",
     "output_type": "stream",
     "text": [
      "Log-likelihood at zero: -7,599.7019\n",
      "Initial Log-likelihood: -7,599.7019\n"
     ]
    },
    {
     "name": "stderr",
     "output_type": "stream",
     "text": [
      "/Users/mobouzaghrane/opt/anaconda3/lib/python3.7/site-packages/pylogit/choice_tools.py:703: FutureWarning: arrays to stack must be passed as a \"sequence\" type such as list or tuple. Support for non-sequence iterables such as generators is deprecated as of NumPy 1.16 and will raise an error in the future.\n",
      "  design_matrix = np.hstack((x[:, None] for x in independent_vars))\n",
      "/Users/mobouzaghrane/opt/anaconda3/lib/python3.7/site-packages/scipy/optimize/_minimize.py:505: RuntimeWarning: Method BFGS does not use Hessian information (hess).\n",
      "  RuntimeWarning)\n"
     ]
    },
    {
     "name": "stdout",
     "output_type": "stream",
     "text": [
      "Estimation Time for Point Estimation: 0.22 seconds.\n",
      "Final log-likelihood: -5,073.4276\n"
     ]
    },
    {
     "data": {
      "text/html": [
       "<table class=\"simpletable\">\n",
       "<caption>Multinomial Logit Model Regression Results</caption>\n",
       "<tr>\n",
       "  <th>Dep. Variable:</th>         <td>choice</td>          <th>  No. Observations:  </th>    <td>4,004</td>  \n",
       "</tr>\n",
       "<tr>\n",
       "  <th>Model:</th>         <td>Multinomial Logit Model</td> <th>  Df Residuals:      </th>    <td>3,985</td>  \n",
       "</tr>\n",
       "<tr>\n",
       "  <th>Method:</th>                  <td>MLE</td>           <th>  Df Model:          </th>     <td>19</td>    \n",
       "</tr>\n",
       "<tr>\n",
       "  <th>Date:</th>             <td>Sun, 12 Jul 2020</td>     <th>  Pseudo R-squ.:     </th>    <td>0.332</td>  \n",
       "</tr>\n",
       "<tr>\n",
       "  <th>Time:</th>                 <td>15:26:32</td>         <th>  Pseudo R-bar-squ.: </th>    <td>0.330</td>  \n",
       "</tr>\n",
       "<tr>\n",
       "  <th>AIC:</th>                 <td>10,184.855</td>        <th>  Log-Likelihood:    </th> <td>-5,073.428</td>\n",
       "</tr>\n",
       "<tr>\n",
       "  <th>BIC:</th>                 <td>10,304.461</td>        <th>  LL-Null:           </th> <td>-7,599.702</td>\n",
       "</tr>\n",
       "</table>\n",
       "<table class=\"simpletable\">\n",
       "<tr>\n",
       "                            <td></td>                              <th>coef</th>     <th>std err</th>      <th>z</th>      <th>P>|z|</th>  <th>[0.025</th>    <th>0.975]</th>  \n",
       "</tr>\n",
       "<tr>\n",
       "  <th>ASC Shared Ride: 2</th>                                   <td>   -1.0097</td> <td>    0.486</td> <td>   -2.079</td> <td> 0.038</td> <td>   -1.962</td> <td>   -0.058</td>\n",
       "</tr>\n",
       "<tr>\n",
       "  <th>ASC Shared Ride: 3+</th>                                  <td>    3.4619</td> <td>    1.064</td> <td>    3.254</td> <td> 0.001</td> <td>    1.377</td> <td>    5.547</td>\n",
       "</tr>\n",
       "<tr>\n",
       "  <th>ASC Walk-Transit-Walk</th>                                <td>   -0.3921</td> <td>    0.288</td> <td>   -1.360</td> <td> 0.174</td> <td>   -0.957</td> <td>    0.173</td>\n",
       "</tr>\n",
       "<tr>\n",
       "  <th>ASC Drive-Transit-Walk</th>                               <td>   -2.6220</td> <td>    0.303</td> <td>   -8.660</td> <td> 0.000</td> <td>   -3.215</td> <td>   -2.029</td>\n",
       "</tr>\n",
       "<tr>\n",
       "  <th>ASC Walk-Transit-Drive</th>                               <td>   -2.9773</td> <td>    0.306</td> <td>   -9.725</td> <td> 0.000</td> <td>   -3.577</td> <td>   -2.377</td>\n",
       "</tr>\n",
       "<tr>\n",
       "  <th>ASC Walk</th>                                             <td>    1.5541</td> <td>    0.305</td> <td>    5.101</td> <td> 0.000</td> <td>    0.957</td> <td>    2.151</td>\n",
       "</tr>\n",
       "<tr>\n",
       "  <th>ASC Bike</th>                                             <td>   -1.1059</td> <td>    0.305</td> <td>   -3.628</td> <td> 0.000</td> <td>   -1.703</td> <td>   -0.508</td>\n",
       "</tr>\n",
       "<tr>\n",
       "  <th>Travel Time, units:min (All Auto Modes)</th>              <td>   -0.0760</td> <td>    0.006</td> <td>  -13.728</td> <td> 0.000</td> <td>   -0.087</td> <td>   -0.065</td>\n",
       "</tr>\n",
       "<tr>\n",
       "  <th>Travel Time, units:min (All Transit Modes)</th>           <td>   -0.0274</td> <td>    0.002</td> <td>  -12.768</td> <td> 0.000</td> <td>   -0.032</td> <td>   -0.023</td>\n",
       "</tr>\n",
       "<tr>\n",
       "  <th>Travel Cost, units:$ (All Transit Modes)</th>             <td>   -0.1273</td> <td>    0.037</td> <td>   -3.472</td> <td> 0.001</td> <td>   -0.199</td> <td>   -0.055</td>\n",
       "</tr>\n",
       "<tr>\n",
       "  <th>Travel Cost per Distance, units:$/mi (Drive Alone)</th>   <td>   -5.0613</td> <td>    1.377</td> <td>   -3.675</td> <td> 0.000</td> <td>   -7.760</td> <td>   -2.362</td>\n",
       "</tr>\n",
       "<tr>\n",
       "  <th>Travel Cost per Distance, units:$/mi (SharedRide-2)</th>  <td>  -20.3194</td> <td>    4.548</td> <td>   -4.467</td> <td> 0.000</td> <td>  -29.234</td> <td>  -11.405</td>\n",
       "</tr>\n",
       "<tr>\n",
       "  <th>Travel Cost per Distance, units:$/mi (SharedRide-3+)</th> <td>  -90.9224</td> <td>   14.748</td> <td>   -6.165</td> <td> 0.000</td> <td> -119.829</td> <td>  -62.016</td>\n",
       "</tr>\n",
       "<tr>\n",
       "  <th>Autos per licensed drivers (All Auto Modes)</th>          <td>    1.2134</td> <td>    0.129</td> <td>    9.408</td> <td> 0.000</td> <td>    0.961</td> <td>    1.466</td>\n",
       "</tr>\n",
       "<tr>\n",
       "  <th>Travel Distance, units:mi (Walk)</th>                     <td>   -1.0272</td> <td>    0.050</td> <td>  -20.437</td> <td> 0.000</td> <td>   -1.126</td> <td>   -0.929</td>\n",
       "</tr>\n",
       "<tr>\n",
       "  <th>Travel Distance, units:mi (Bike)</th>                     <td>   -0.2873</td> <td>    0.024</td> <td>  -11.896</td> <td> 0.000</td> <td>   -0.335</td> <td>   -0.240</td>\n",
       "</tr>\n",
       "<tr>\n",
       "  <th>Cross-Bay Tour (Shared Ride 2 & 3+)</th>                  <td>    0.9280</td> <td>    0.327</td> <td>    2.839</td> <td> 0.005</td> <td>    0.287</td> <td>    1.569</td>\n",
       "</tr>\n",
       "<tr>\n",
       "  <th>Household Size (Shared Ride 2 & 3+)</th>                  <td>    0.1136</td> <td>    0.045</td> <td>    2.523</td> <td> 0.012</td> <td>    0.025</td> <td>    0.202</td>\n",
       "</tr>\n",
       "<tr>\n",
       "  <th>Number of Kids in Household (Shared Ride 2 & 3+)</th>     <td>    0.6868</td> <td>    0.054</td> <td>   12.820</td> <td> 0.000</td> <td>    0.582</td> <td>    0.792</td>\n",
       "</tr>\n",
       "</table>"
      ],
      "text/plain": [
       "<class 'statsmodels.iolib.summary.Summary'>\n",
       "\"\"\"\n",
       "                     Multinomial Logit Model Regression Results                    \n",
       "===================================================================================\n",
       "Dep. Variable:                      choice   No. Observations:                4,004\n",
       "Model:             Multinomial Logit Model   Df Residuals:                    3,985\n",
       "Method:                                MLE   Df Model:                           19\n",
       "Date:                     Sun, 12 Jul 2020   Pseudo R-squ.:                   0.332\n",
       "Time:                             15:26:32   Pseudo R-bar-squ.:               0.330\n",
       "AIC:                            10,184.855   Log-Likelihood:             -5,073.428\n",
       "BIC:                            10,304.461   LL-Null:                    -7,599.702\n",
       "========================================================================================================================\n",
       "                                                           coef    std err          z      P>|z|      [0.025      0.975]\n",
       "------------------------------------------------------------------------------------------------------------------------\n",
       "ASC Shared Ride: 2                                      -1.0097      0.486     -2.079      0.038      -1.962      -0.058\n",
       "ASC Shared Ride: 3+                                      3.4619      1.064      3.254      0.001       1.377       5.547\n",
       "ASC Walk-Transit-Walk                                   -0.3921      0.288     -1.360      0.174      -0.957       0.173\n",
       "ASC Drive-Transit-Walk                                  -2.6220      0.303     -8.660      0.000      -3.215      -2.029\n",
       "ASC Walk-Transit-Drive                                  -2.9773      0.306     -9.725      0.000      -3.577      -2.377\n",
       "ASC Walk                                                 1.5541      0.305      5.101      0.000       0.957       2.151\n",
       "ASC Bike                                                -1.1059      0.305     -3.628      0.000      -1.703      -0.508\n",
       "Travel Time, units:min (All Auto Modes)                 -0.0760      0.006    -13.728      0.000      -0.087      -0.065\n",
       "Travel Time, units:min (All Transit Modes)              -0.0274      0.002    -12.768      0.000      -0.032      -0.023\n",
       "Travel Cost, units:$ (All Transit Modes)                -0.1273      0.037     -3.472      0.001      -0.199      -0.055\n",
       "Travel Cost per Distance, units:$/mi (Drive Alone)      -5.0613      1.377     -3.675      0.000      -7.760      -2.362\n",
       "Travel Cost per Distance, units:$/mi (SharedRide-2)    -20.3194      4.548     -4.467      0.000     -29.234     -11.405\n",
       "Travel Cost per Distance, units:$/mi (SharedRide-3+)   -90.9224     14.748     -6.165      0.000    -119.829     -62.016\n",
       "Autos per licensed drivers (All Auto Modes)              1.2134      0.129      9.408      0.000       0.961       1.466\n",
       "Travel Distance, units:mi (Walk)                        -1.0272      0.050    -20.437      0.000      -1.126      -0.929\n",
       "Travel Distance, units:mi (Bike)                        -0.2873      0.024    -11.896      0.000      -0.335      -0.240\n",
       "Cross-Bay Tour (Shared Ride 2 & 3+)                      0.9280      0.327      2.839      0.005       0.287       1.569\n",
       "Household Size (Shared Ride 2 & 3+)                      0.1136      0.045      2.523      0.012       0.025       0.202\n",
       "Number of Kids in Household (Shared Ride 2 & 3+)         0.6868      0.054     12.820      0.000       0.582       0.792\n",
       "========================================================================================================================\n",
       "\"\"\""
      ]
     },
     "execution_count": 16,
     "metadata": {},
     "output_type": "execute_result"
    }
   ],
   "source": [
    "# Estimate the basic MNL model, using the hessian and newton-conjugate gradient\n",
    "mnl_model = pl.create_choice_model(data=bike_data_long,\n",
    "                                   alt_id_col=ALT_ID_COL,\n",
    "                                   obs_id_col=OBS_ID_COL,\n",
    "                                   choice_col=\"choice\",\n",
    "                                   specification=MNL_SPECIFICATION,\n",
    "                                   model_type=\"MNL\",\n",
    "                                   names=MNL_NAMES)\n",
    "\n",
    "num_vars = len(reduce(lambda x, y: x + y, MNL_NAMES.values()))\n",
    "\n",
    "# Note newton-cg used to ensure convergence to a point where gradient\n",
    "# is essentially zero for all dimensions.\n",
    "mnl_model.fit_mle(np.zeros(num_vars),\n",
    "                  method=\"BFGS\")\n",
    "\n",
    "# Look at the estimation results\n",
    "mnl_model.get_statsmodels_summary()"
   ]
  },
  {
   "cell_type": "markdown",
   "metadata": {},
   "source": [
    "# Show Causal Graphs"
   ]
  },
  {
   "cell_type": "markdown",
   "metadata": {},
   "source": [
    "We generate two causal graphs based on the data at hand and the specified utility functions from above:\n",
    "\n",
    " * An \"independent\" causal graph: All nodes are independent and do not affect each other. Any change in any variable in the graph would not result in changes in other variables and would only affect the value of the utility function.\n",
    " * A \"realistic\" causal graph: The structure of this causal graph shows that some variables affect others. In this example, a change in travel distance affects travel time, travel cosst, and directly affects the utility function.\n",
    " \n",
    "The outcome of each of the causal graphs is the utility of each variable. As such, we generate causal graphs based on the utility specification for each alternative."
   ]
  },
  {
   "cell_type": "markdown",
   "metadata": {},
   "source": [
    "## Independent Causal Graph "
   ]
  },
  {
   "cell_type": "code",
   "execution_count": 17,
   "metadata": {},
   "outputs": [
    {
     "data": {
      "image/svg+xml": [
       "<?xml version=\"1.0\" encoding=\"UTF-8\" standalone=\"no\"?>\n",
       "<!DOCTYPE svg PUBLIC \"-//W3C//DTD SVG 1.1//EN\"\n",
       " \"http://www.w3.org/Graphics/SVG/1.1/DTD/svg11.dtd\">\n",
       "<!-- Generated by graphviz version 2.42.3 (20191010.1750)\n",
       " -->\n",
       "<!-- Title: %3 Pages: 1 -->\n",
       "<svg width=\"909pt\" height=\"116pt\"\n",
       " viewBox=\"0.00 0.00 908.93 116.00\" xmlns=\"http://www.w3.org/2000/svg\" xmlns:xlink=\"http://www.w3.org/1999/xlink\">\n",
       "<g id=\"graph0\" class=\"graph\" transform=\"scale(1 1) rotate(0) translate(4 112)\">\n",
       "<title>%3</title>\n",
       "<polygon fill=\"white\" stroke=\"transparent\" points=\"-4,4 -4,-112 904.93,-112 904.93,4 -4,4\"/>\n",
       "<!-- Total Travel Cost -->\n",
       "<g id=\"node1\" class=\"node\">\n",
       "<title>Total Travel Cost</title>\n",
       "<ellipse fill=\"none\" stroke=\"black\" cx=\"71.41\" cy=\"-90\" rx=\"71.31\" ry=\"18\"/>\n",
       "<text text-anchor=\"middle\" x=\"71.41\" y=\"-85.8\" font-family=\"Times,serif\" font-size=\"14.00\">Total Travel Cost</text>\n",
       "</g>\n",
       "<!-- Utility (Drive Alone) -->\n",
       "<g id=\"node3\" class=\"node\">\n",
       "<title>Utility (Drive Alone)</title>\n",
       "<ellipse fill=\"none\" stroke=\"black\" cx=\"412.41\" cy=\"-18\" rx=\"84.55\" ry=\"18\"/>\n",
       "<text text-anchor=\"middle\" x=\"412.41\" y=\"-13.8\" font-family=\"Times,serif\" font-size=\"14.00\">Utility (Drive Alone)</text>\n",
       "</g>\n",
       "<!-- Total Travel Cost&#45;&gt;Utility (Drive Alone) -->\n",
       "<g id=\"edge3\" class=\"edge\">\n",
       "<title>Total Travel Cost&#45;&gt;Utility (Drive Alone)</title>\n",
       "<path fill=\"none\" stroke=\"black\" d=\"M124.55,-77.8C133.84,-75.86 143.4,-73.86 152.41,-72 217.14,-58.61 291,-43.58 343.41,-32.95\"/>\n",
       "<polygon fill=\"black\" stroke=\"black\" points=\"344.16,-36.37 353.27,-30.95 342.77,-29.51 344.16,-36.37\"/>\n",
       "</g>\n",
       "<!-- Total Travel Time -->\n",
       "<g id=\"node2\" class=\"node\">\n",
       "<title>Total Travel Time</title>\n",
       "<ellipse fill=\"none\" stroke=\"black\" cx=\"234.41\" cy=\"-90\" rx=\"73.28\" ry=\"18\"/>\n",
       "<text text-anchor=\"middle\" x=\"234.41\" y=\"-85.8\" font-family=\"Times,serif\" font-size=\"14.00\">Total Travel Time</text>\n",
       "</g>\n",
       "<!-- Total Travel Time&#45;&gt;Utility (Drive Alone) -->\n",
       "<g id=\"edge2\" class=\"edge\">\n",
       "<title>Total Travel Time&#45;&gt;Utility (Drive Alone)</title>\n",
       "<path fill=\"none\" stroke=\"black\" d=\"M271.72,-74.33C298.65,-63.74 335.24,-49.35 364.35,-37.9\"/>\n",
       "<polygon fill=\"black\" stroke=\"black\" points=\"365.89,-41.06 373.91,-34.14 363.32,-34.54 365.89,-41.06\"/>\n",
       "</g>\n",
       "<!-- Total Travel Distance -->\n",
       "<g id=\"node4\" class=\"node\">\n",
       "<title>Total Travel Distance</title>\n",
       "<ellipse fill=\"none\" stroke=\"black\" cx=\"412.41\" cy=\"-90\" rx=\"86.25\" ry=\"18\"/>\n",
       "<text text-anchor=\"middle\" x=\"412.41\" y=\"-85.8\" font-family=\"Times,serif\" font-size=\"14.00\">Total Travel Distance</text>\n",
       "</g>\n",
       "<!-- Total Travel Distance&#45;&gt;Utility (Drive Alone) -->\n",
       "<g id=\"edge1\" class=\"edge\">\n",
       "<title>Total Travel Distance&#45;&gt;Utility (Drive Alone)</title>\n",
       "<path fill=\"none\" stroke=\"black\" d=\"M412.41,-71.7C412.41,-63.98 412.41,-54.71 412.41,-46.11\"/>\n",
       "<polygon fill=\"black\" stroke=\"black\" points=\"415.91,-46.1 412.41,-36.1 408.91,-46.1 415.91,-46.1\"/>\n",
       "</g>\n",
       "<!-- Number of Autos -->\n",
       "<g id=\"node5\" class=\"node\">\n",
       "<title>Number of Autos</title>\n",
       "<ellipse fill=\"none\" stroke=\"black\" cx=\"588.41\" cy=\"-90\" rx=\"71.54\" ry=\"18\"/>\n",
       "<text text-anchor=\"middle\" x=\"588.41\" y=\"-85.8\" font-family=\"Times,serif\" font-size=\"14.00\">Number of Autos</text>\n",
       "</g>\n",
       "<!-- Number of Autos&#45;&gt;Utility (Drive Alone) -->\n",
       "<g id=\"edge5\" class=\"edge\">\n",
       "<title>Number of Autos&#45;&gt;Utility (Drive Alone)</title>\n",
       "<path fill=\"none\" stroke=\"black\" d=\"M551.94,-74.5C525.34,-63.92 489.05,-49.48 460.15,-37.99\"/>\n",
       "<polygon fill=\"black\" stroke=\"black\" points=\"461.24,-34.66 450.65,-34.21 458.65,-41.16 461.24,-34.66\"/>\n",
       "</g>\n",
       "<!-- Number of Licensed Drivers -->\n",
       "<g id=\"node6\" class=\"node\">\n",
       "<title>Number of Licensed Drivers</title>\n",
       "<ellipse fill=\"none\" stroke=\"black\" cx=\"789.41\" cy=\"-90\" rx=\"111.55\" ry=\"18\"/>\n",
       "<text text-anchor=\"middle\" x=\"789.41\" y=\"-85.8\" font-family=\"Times,serif\" font-size=\"14.00\">Number of Licensed Drivers</text>\n",
       "</g>\n",
       "<!-- Number of Licensed Drivers&#45;&gt;Utility (Drive Alone) -->\n",
       "<g id=\"edge4\" class=\"edge\">\n",
       "<title>Number of Licensed Drivers&#45;&gt;Utility (Drive Alone)</title>\n",
       "<path fill=\"none\" stroke=\"black\" d=\"M718.94,-75.92C651.94,-63.48 551.66,-44.86 484.22,-32.33\"/>\n",
       "<polygon fill=\"black\" stroke=\"black\" points=\"484.57,-28.84 474.1,-30.46 483.3,-35.72 484.57,-28.84\"/>\n",
       "</g>\n",
       "</g>\n",
       "</svg>\n"
      ],
      "text/plain": [
       "<graphviz.dot.Digraph at 0x7fae30d5e5d0>"
      ]
     },
     "execution_count": 17,
     "metadata": {},
     "output_type": "execute_result"
    }
   ],
   "source": [
    "IND_UTILITY.draw()"
   ]
  },
  {
   "cell_type": "markdown",
   "metadata": {},
   "source": [
    "## Realistic Causal Graphs "
   ]
  },
  {
   "cell_type": "markdown",
   "metadata": {},
   "source": [
    "## Drive Alone"
   ]
  },
  {
   "cell_type": "code",
   "execution_count": 18,
   "metadata": {},
   "outputs": [
    {
     "data": {
      "image/svg+xml": [
       "<?xml version=\"1.0\" encoding=\"UTF-8\" standalone=\"no\"?>\n",
       "<!DOCTYPE svg PUBLIC \"-//W3C//DTD SVG 1.1//EN\"\n",
       " \"http://www.w3.org/Graphics/SVG/1.1/DTD/svg11.dtd\">\n",
       "<!-- Generated by graphviz version 2.42.3 (20191010.1750)\n",
       " -->\n",
       "<!-- Title: %3 Pages: 1 -->\n",
       "<svg width=\"756pt\" height=\"188pt\"\n",
       " viewBox=\"0.00 0.00 755.93 188.00\" xmlns=\"http://www.w3.org/2000/svg\" xmlns:xlink=\"http://www.w3.org/1999/xlink\">\n",
       "<g id=\"graph0\" class=\"graph\" transform=\"scale(1 1) rotate(0) translate(4 184)\">\n",
       "<title>%3</title>\n",
       "<polygon fill=\"white\" stroke=\"transparent\" points=\"-4,4 -4,-184 751.93,-184 751.93,4 -4,4\"/>\n",
       "<!-- Total Travel Cost -->\n",
       "<g id=\"node1\" class=\"node\">\n",
       "<title>Total Travel Cost</title>\n",
       "<ellipse fill=\"none\" stroke=\"black\" cx=\"71.41\" cy=\"-90\" rx=\"71.31\" ry=\"18\"/>\n",
       "<text text-anchor=\"middle\" x=\"71.41\" y=\"-85.8\" font-family=\"Times,serif\" font-size=\"14.00\">Total Travel Cost</text>\n",
       "</g>\n",
       "<!-- Utility (Drive Alone) -->\n",
       "<g id=\"node3\" class=\"node\">\n",
       "<title>Utility (Drive Alone)</title>\n",
       "<ellipse fill=\"none\" stroke=\"black\" cx=\"335.41\" cy=\"-18\" rx=\"84.55\" ry=\"18\"/>\n",
       "<text text-anchor=\"middle\" x=\"335.41\" y=\"-13.8\" font-family=\"Times,serif\" font-size=\"14.00\">Utility (Drive Alone)</text>\n",
       "</g>\n",
       "<!-- Total Travel Cost&#45;&gt;Utility (Drive Alone) -->\n",
       "<g id=\"edge5\" class=\"edge\">\n",
       "<title>Total Travel Cost&#45;&gt;Utility (Drive Alone)</title>\n",
       "<path fill=\"none\" stroke=\"black\" d=\"M118.6,-76.49C162.22,-64.92 227.26,-47.68 274.72,-35.09\"/>\n",
       "<polygon fill=\"black\" stroke=\"black\" points=\"275.8,-38.43 284.57,-32.48 274,-31.66 275.8,-38.43\"/>\n",
       "</g>\n",
       "<!-- Total Travel Time -->\n",
       "<g id=\"node2\" class=\"node\">\n",
       "<title>Total Travel Time</title>\n",
       "<ellipse fill=\"none\" stroke=\"black\" cx=\"234.41\" cy=\"-90\" rx=\"73.28\" ry=\"18\"/>\n",
       "<text text-anchor=\"middle\" x=\"234.41\" y=\"-85.8\" font-family=\"Times,serif\" font-size=\"14.00\">Total Travel Time</text>\n",
       "</g>\n",
       "<!-- Total Travel Time&#45;&gt;Utility (Drive Alone) -->\n",
       "<g id=\"edge4\" class=\"edge\">\n",
       "<title>Total Travel Time&#45;&gt;Utility (Drive Alone)</title>\n",
       "<path fill=\"none\" stroke=\"black\" d=\"M257.83,-72.76C271.37,-63.38 288.6,-51.44 303.39,-41.19\"/>\n",
       "<polygon fill=\"black\" stroke=\"black\" points=\"305.53,-43.96 311.76,-35.39 301.55,-38.21 305.53,-43.96\"/>\n",
       "</g>\n",
       "<!-- Total Travel Distance -->\n",
       "<g id=\"node4\" class=\"node\">\n",
       "<title>Total Travel Distance</title>\n",
       "<ellipse fill=\"none\" stroke=\"black\" cx=\"234.41\" cy=\"-162\" rx=\"86.25\" ry=\"18\"/>\n",
       "<text text-anchor=\"middle\" x=\"234.41\" y=\"-157.8\" font-family=\"Times,serif\" font-size=\"14.00\">Total Travel Distance</text>\n",
       "</g>\n",
       "<!-- Total Travel Distance&#45;&gt;Total Travel Cost -->\n",
       "<g id=\"edge2\" class=\"edge\">\n",
       "<title>Total Travel Distance&#45;&gt;Total Travel Cost</title>\n",
       "<path fill=\"none\" stroke=\"black\" d=\"M198.23,-145.46C173.76,-134.95 141.28,-121.01 115.33,-109.86\"/>\n",
       "<polygon fill=\"black\" stroke=\"black\" points=\"116.65,-106.62 106.08,-105.89 113.89,-113.05 116.65,-106.62\"/>\n",
       "</g>\n",
       "<!-- Total Travel Distance&#45;&gt;Total Travel Time -->\n",
       "<g id=\"edge1\" class=\"edge\">\n",
       "<title>Total Travel Distance&#45;&gt;Total Travel Time</title>\n",
       "<path fill=\"none\" stroke=\"black\" d=\"M234.41,-143.7C234.41,-135.98 234.41,-126.71 234.41,-118.11\"/>\n",
       "<polygon fill=\"black\" stroke=\"black\" points=\"237.91,-118.1 234.41,-108.1 230.91,-118.1 237.91,-118.1\"/>\n",
       "</g>\n",
       "<!-- Total Travel Distance&#45;&gt;Utility (Drive Alone) -->\n",
       "<g id=\"edge3\" class=\"edge\">\n",
       "<title>Total Travel Distance&#45;&gt;Utility (Drive Alone)</title>\n",
       "<path fill=\"none\" stroke=\"black\" d=\"M270.72,-145.53C287.05,-136.8 305.15,-124.33 316.41,-108 328.91,-89.87 333.43,-65.09 334.95,-46.28\"/>\n",
       "<polygon fill=\"black\" stroke=\"black\" points=\"338.45,-46.45 335.53,-36.26 331.46,-46.04 338.45,-46.45\"/>\n",
       "</g>\n",
       "<!-- Number of Autos -->\n",
       "<g id=\"node5\" class=\"node\">\n",
       "<title>Number of Autos</title>\n",
       "<ellipse fill=\"none\" stroke=\"black\" cx=\"435.41\" cy=\"-90\" rx=\"71.54\" ry=\"18\"/>\n",
       "<text text-anchor=\"middle\" x=\"435.41\" y=\"-85.8\" font-family=\"Times,serif\" font-size=\"14.00\">Number of Autos</text>\n",
       "</g>\n",
       "<!-- Number of Autos&#45;&gt;Utility (Drive Alone) -->\n",
       "<g id=\"edge6\" class=\"edge\">\n",
       "<title>Number of Autos&#45;&gt;Utility (Drive Alone)</title>\n",
       "<path fill=\"none\" stroke=\"black\" d=\"M412.21,-72.76C398.8,-63.38 381.75,-51.44 367.11,-41.19\"/>\n",
       "<polygon fill=\"black\" stroke=\"black\" points=\"369.02,-38.26 358.82,-35.39 365.01,-43.99 369.02,-38.26\"/>\n",
       "</g>\n",
       "<!-- Number of Licensed Drivers -->\n",
       "<g id=\"node6\" class=\"node\">\n",
       "<title>Number of Licensed Drivers</title>\n",
       "<ellipse fill=\"none\" stroke=\"black\" cx=\"636.41\" cy=\"-90\" rx=\"111.55\" ry=\"18\"/>\n",
       "<text text-anchor=\"middle\" x=\"636.41\" y=\"-85.8\" font-family=\"Times,serif\" font-size=\"14.00\">Number of Licensed Drivers</text>\n",
       "</g>\n",
       "<!-- Number of Licensed Drivers&#45;&gt;Utility (Drive Alone) -->\n",
       "<g id=\"edge7\" class=\"edge\">\n",
       "<title>Number of Licensed Drivers&#45;&gt;Utility (Drive Alone)</title>\n",
       "<path fill=\"none\" stroke=\"black\" d=\"M575.49,-74.83C524.66,-63.01 452.38,-46.2 400.43,-34.12\"/>\n",
       "<polygon fill=\"black\" stroke=\"black\" points=\"401.19,-30.7 390.65,-31.85 399.6,-37.52 401.19,-30.7\"/>\n",
       "</g>\n",
       "</g>\n",
       "</svg>\n"
      ],
      "text/plain": [
       "<graphviz.dot.Digraph at 0x7fae2f841e90>"
      ]
     },
     "execution_count": 18,
     "metadata": {},
     "output_type": "execute_result"
    }
   ],
   "source": [
    "DA_UTILITY.draw()"
   ]
  },
  {
   "cell_type": "markdown",
   "metadata": {},
   "source": [
    "## Shared-2"
   ]
  },
  {
   "cell_type": "code",
   "execution_count": 19,
   "metadata": {},
   "outputs": [
    {
     "data": {
      "image/svg+xml": [
       "<?xml version=\"1.0\" encoding=\"UTF-8\" standalone=\"no\"?>\n",
       "<!DOCTYPE svg PUBLIC \"-//W3C//DTD SVG 1.1//EN\"\n",
       " \"http://www.w3.org/Graphics/SVG/1.1/DTD/svg11.dtd\">\n",
       "<!-- Generated by graphviz version 2.42.3 (20191010.1750)\n",
       " -->\n",
       "<!-- Title: %3 Pages: 1 -->\n",
       "<svg width=\"1203pt\" height=\"188pt\"\n",
       " viewBox=\"0.00 0.00 1202.93 188.00\" xmlns=\"http://www.w3.org/2000/svg\" xmlns:xlink=\"http://www.w3.org/1999/xlink\">\n",
       "<g id=\"graph0\" class=\"graph\" transform=\"scale(1 1) rotate(0) translate(4 184)\">\n",
       "<title>%3</title>\n",
       "<polygon fill=\"white\" stroke=\"transparent\" points=\"-4,4 -4,-184 1198.93,-184 1198.93,4 -4,4\"/>\n",
       "<!-- Total Travel Cost -->\n",
       "<g id=\"node1\" class=\"node\">\n",
       "<title>Total Travel Cost</title>\n",
       "<ellipse fill=\"none\" stroke=\"black\" cx=\"71.41\" cy=\"-90\" rx=\"71.31\" ry=\"18\"/>\n",
       "<text text-anchor=\"middle\" x=\"71.41\" y=\"-85.8\" font-family=\"Times,serif\" font-size=\"14.00\">Total Travel Cost</text>\n",
       "</g>\n",
       "<!-- Utility (Shared Ride 2) -->\n",
       "<g id=\"node6\" class=\"node\">\n",
       "<title>Utility (Shared Ride 2)</title>\n",
       "<ellipse fill=\"none\" stroke=\"black\" cx=\"503.41\" cy=\"-18\" rx=\"91.31\" ry=\"18\"/>\n",
       "<text text-anchor=\"middle\" x=\"503.41\" y=\"-13.8\" font-family=\"Times,serif\" font-size=\"14.00\">Utility (Shared Ride 2)</text>\n",
       "</g>\n",
       "<!-- Total Travel Cost&#45;&gt;Utility (Shared Ride 2) -->\n",
       "<g id=\"edge5\" class=\"edge\">\n",
       "<title>Total Travel Cost&#45;&gt;Utility (Shared Ride 2)</title>\n",
       "<path fill=\"none\" stroke=\"black\" d=\"M123.61,-77.59C133.17,-75.63 143.07,-73.68 152.41,-72 243.6,-55.56 348.75,-40.15 420.01,-30.23\"/>\n",
       "<polygon fill=\"black\" stroke=\"black\" points=\"420.84,-33.65 430.27,-28.81 419.88,-26.71 420.84,-33.65\"/>\n",
       "</g>\n",
       "<!-- Total Travel Time -->\n",
       "<g id=\"node2\" class=\"node\">\n",
       "<title>Total Travel Time</title>\n",
       "<ellipse fill=\"none\" stroke=\"black\" cx=\"234.41\" cy=\"-90\" rx=\"73.28\" ry=\"18\"/>\n",
       "<text text-anchor=\"middle\" x=\"234.41\" y=\"-85.8\" font-family=\"Times,serif\" font-size=\"14.00\">Total Travel Time</text>\n",
       "</g>\n",
       "<!-- Total Travel Time&#45;&gt;Utility (Shared Ride 2) -->\n",
       "<g id=\"edge1\" class=\"edge\">\n",
       "<title>Total Travel Time&#45;&gt;Utility (Shared Ride 2)</title>\n",
       "<path fill=\"none\" stroke=\"black\" d=\"M282.81,-76.4C326.96,-64.92 392.47,-47.87 440.63,-35.34\"/>\n",
       "<polygon fill=\"black\" stroke=\"black\" points=\"441.53,-38.72 450.33,-32.81 439.77,-31.94 441.53,-38.72\"/>\n",
       "</g>\n",
       "<!-- Total Travel Distance -->\n",
       "<g id=\"node3\" class=\"node\">\n",
       "<title>Total Travel Distance</title>\n",
       "<ellipse fill=\"none\" stroke=\"black\" cx=\"234.41\" cy=\"-162\" rx=\"86.25\" ry=\"18\"/>\n",
       "<text text-anchor=\"middle\" x=\"234.41\" y=\"-157.8\" font-family=\"Times,serif\" font-size=\"14.00\">Total Travel Distance</text>\n",
       "</g>\n",
       "<!-- Total Travel Distance&#45;&gt;Total Travel Cost -->\n",
       "<g id=\"edge3\" class=\"edge\">\n",
       "<title>Total Travel Distance&#45;&gt;Total Travel Cost</title>\n",
       "<path fill=\"none\" stroke=\"black\" d=\"M198.23,-145.46C173.76,-134.95 141.28,-121.01 115.33,-109.86\"/>\n",
       "<polygon fill=\"black\" stroke=\"black\" points=\"116.65,-106.62 106.08,-105.89 113.89,-113.05 116.65,-106.62\"/>\n",
       "</g>\n",
       "<!-- Total Travel Distance&#45;&gt;Total Travel Time -->\n",
       "<g id=\"edge2\" class=\"edge\">\n",
       "<title>Total Travel Distance&#45;&gt;Total Travel Time</title>\n",
       "<path fill=\"none\" stroke=\"black\" d=\"M234.41,-143.7C234.41,-135.98 234.41,-126.71 234.41,-118.11\"/>\n",
       "<polygon fill=\"black\" stroke=\"black\" points=\"237.91,-118.1 234.41,-108.1 230.91,-118.1 237.91,-118.1\"/>\n",
       "</g>\n",
       "<!-- Total Travel Distance&#45;&gt;Utility (Shared Ride 2) -->\n",
       "<g id=\"edge4\" class=\"edge\">\n",
       "<title>Total Travel Distance&#45;&gt;Utility (Shared Ride 2)</title>\n",
       "<path fill=\"none\" stroke=\"black\" d=\"M262.23,-144.79C278.53,-134.86 299.21,-121.51 316.41,-108 334.7,-93.62 334.57,-84.16 354.41,-72 380.26,-56.15 411.53,-44.11 438.74,-35.55\"/>\n",
       "<polygon fill=\"black\" stroke=\"black\" points=\"440.02,-38.81 448.56,-32.55 437.98,-32.12 440.02,-38.81\"/>\n",
       "</g>\n",
       "<!-- Cross Bay Trip -->\n",
       "<g id=\"node4\" class=\"node\">\n",
       "<title>Cross Bay Trip</title>\n",
       "<ellipse fill=\"none\" stroke=\"black\" cx=\"427.41\" cy=\"-90\" rx=\"63.87\" ry=\"18\"/>\n",
       "<text text-anchor=\"middle\" x=\"427.41\" y=\"-85.8\" font-family=\"Times,serif\" font-size=\"14.00\">Cross Bay Trip</text>\n",
       "</g>\n",
       "<!-- Cross Bay Trip&#45;&gt;Utility (Shared Ride 2) -->\n",
       "<g id=\"edge6\" class=\"edge\">\n",
       "<title>Cross Bay Trip&#45;&gt;Utility (Shared Ride 2)</title>\n",
       "<path fill=\"none\" stroke=\"black\" d=\"M445.42,-72.41C455.1,-63.5 467.19,-52.36 477.83,-42.56\"/>\n",
       "<polygon fill=\"black\" stroke=\"black\" points=\"480.28,-45.06 485.26,-35.71 475.53,-39.91 480.28,-45.06\"/>\n",
       "</g>\n",
       "<!-- Number of Autos -->\n",
       "<g id=\"node5\" class=\"node\">\n",
       "<title>Number of Autos</title>\n",
       "<ellipse fill=\"none\" stroke=\"black\" cx=\"580.41\" cy=\"-90\" rx=\"71.54\" ry=\"18\"/>\n",
       "<text text-anchor=\"middle\" x=\"580.41\" y=\"-85.8\" font-family=\"Times,serif\" font-size=\"14.00\">Number of Autos</text>\n",
       "</g>\n",
       "<!-- Number of Autos&#45;&gt;Utility (Shared Ride 2) -->\n",
       "<g id=\"edge7\" class=\"edge\">\n",
       "<title>Number of Autos&#45;&gt;Utility (Shared Ride 2)</title>\n",
       "<path fill=\"none\" stroke=\"black\" d=\"M562.16,-72.41C552.35,-63.5 540.1,-52.36 529.32,-42.56\"/>\n",
       "<polygon fill=\"black\" stroke=\"black\" points=\"531.54,-39.85 521.79,-35.71 526.84,-45.03 531.54,-39.85\"/>\n",
       "</g>\n",
       "<!-- Household Size -->\n",
       "<g id=\"node7\" class=\"node\">\n",
       "<title>Household Size</title>\n",
       "<ellipse fill=\"none\" stroke=\"black\" cx=\"735.41\" cy=\"-90\" rx=\"65.72\" ry=\"18\"/>\n",
       "<text text-anchor=\"middle\" x=\"735.41\" y=\"-85.8\" font-family=\"Times,serif\" font-size=\"14.00\">Household Size</text>\n",
       "</g>\n",
       "<!-- Household Size&#45;&gt;Utility (Shared Ride 2) -->\n",
       "<g id=\"edge9\" class=\"edge\">\n",
       "<title>Household Size&#45;&gt;Utility (Shared Ride 2)</title>\n",
       "<path fill=\"none\" stroke=\"black\" d=\"M692.85,-76.16C655.87,-65 601.98,-48.74 561.12,-36.41\"/>\n",
       "<polygon fill=\"black\" stroke=\"black\" points=\"561.88,-32.99 551.29,-33.45 559.86,-39.69 561.88,-32.99\"/>\n",
       "</g>\n",
       "<!-- Number of Kids -->\n",
       "<g id=\"node8\" class=\"node\">\n",
       "<title>Number of Kids</title>\n",
       "<ellipse fill=\"none\" stroke=\"black\" cx=\"886.41\" cy=\"-90\" rx=\"67.66\" ry=\"18\"/>\n",
       "<text text-anchor=\"middle\" x=\"886.41\" y=\"-85.8\" font-family=\"Times,serif\" font-size=\"14.00\">Number of Kids</text>\n",
       "</g>\n",
       "<!-- Number of Kids&#45;&gt;Utility (Shared Ride 2) -->\n",
       "<g id=\"edge10\" class=\"edge\">\n",
       "<title>Number of Kids&#45;&gt;Utility (Shared Ride 2)</title>\n",
       "<path fill=\"none\" stroke=\"black\" d=\"M837.01,-77.58C828.17,-75.64 819.03,-73.71 810.41,-72 733.13,-56.7 644.42,-41.65 582.29,-31.52\"/>\n",
       "<polygon fill=\"black\" stroke=\"black\" points=\"582.6,-28.03 572.17,-29.88 581.48,-34.94 582.6,-28.03\"/>\n",
       "</g>\n",
       "<!-- Number of Licensed Drivers -->\n",
       "<g id=\"node9\" class=\"node\">\n",
       "<title>Number of Licensed Drivers</title>\n",
       "<ellipse fill=\"none\" stroke=\"black\" cx=\"1083.41\" cy=\"-90\" rx=\"111.55\" ry=\"18\"/>\n",
       "<text text-anchor=\"middle\" x=\"1083.41\" y=\"-85.8\" font-family=\"Times,serif\" font-size=\"14.00\">Number of Licensed Drivers</text>\n",
       "</g>\n",
       "<!-- Number of Licensed Drivers&#45;&gt;Utility (Shared Ride 2) -->\n",
       "<g id=\"edge8\" class=\"edge\">\n",
       "<title>Number of Licensed Drivers&#45;&gt;Utility (Shared Ride 2)</title>\n",
       "<path fill=\"none\" stroke=\"black\" d=\"M1003.41,-77.37C990.06,-75.52 976.35,-73.66 963.41,-72 834.29,-55.42 684.47,-38.61 591.8,-28.49\"/>\n",
       "<polygon fill=\"black\" stroke=\"black\" points=\"591.94,-24.99 581.62,-27.38 591.18,-31.95 591.94,-24.99\"/>\n",
       "</g>\n",
       "</g>\n",
       "</svg>\n"
      ],
      "text/plain": [
       "<graphviz.dot.Digraph at 0x7fae321bbe90>"
      ]
     },
     "execution_count": 19,
     "metadata": {},
     "output_type": "execute_result"
    }
   ],
   "source": [
    "SHARED_2_UTILITY.draw()"
   ]
  },
  {
   "cell_type": "markdown",
   "metadata": {},
   "source": [
    "## Shared-3+"
   ]
  },
  {
   "cell_type": "code",
   "execution_count": 20,
   "metadata": {},
   "outputs": [
    {
     "data": {
      "image/svg+xml": [
       "<?xml version=\"1.0\" encoding=\"UTF-8\" standalone=\"no\"?>\n",
       "<!DOCTYPE svg PUBLIC \"-//W3C//DTD SVG 1.1//EN\"\n",
       " \"http://www.w3.org/Graphics/SVG/1.1/DTD/svg11.dtd\">\n",
       "<!-- Generated by graphviz version 2.42.3 (20191010.1750)\n",
       " -->\n",
       "<!-- Title: %3 Pages: 1 -->\n",
       "<svg width=\"1202pt\" height=\"188pt\"\n",
       " viewBox=\"0.00 0.00 1201.93 188.00\" xmlns=\"http://www.w3.org/2000/svg\" xmlns:xlink=\"http://www.w3.org/1999/xlink\">\n",
       "<g id=\"graph0\" class=\"graph\" transform=\"scale(1 1) rotate(0) translate(4 184)\">\n",
       "<title>%3</title>\n",
       "<polygon fill=\"white\" stroke=\"transparent\" points=\"-4,4 -4,-184 1197.93,-184 1197.93,4 -4,4\"/>\n",
       "<!-- Total Travel Cost -->\n",
       "<g id=\"node1\" class=\"node\">\n",
       "<title>Total Travel Cost</title>\n",
       "<ellipse fill=\"none\" stroke=\"black\" cx=\"71.41\" cy=\"-90\" rx=\"71.31\" ry=\"18\"/>\n",
       "<text text-anchor=\"middle\" x=\"71.41\" y=\"-85.8\" font-family=\"Times,serif\" font-size=\"14.00\">Total Travel Cost</text>\n",
       "</g>\n",
       "<!-- Utility (Shared Ride 3+) -->\n",
       "<g id=\"node2\" class=\"node\">\n",
       "<title>Utility (Shared Ride 3+)</title>\n",
       "<ellipse fill=\"none\" stroke=\"black\" cx=\"502.41\" cy=\"-18\" rx=\"96.28\" ry=\"18\"/>\n",
       "<text text-anchor=\"middle\" x=\"502.41\" y=\"-13.8\" font-family=\"Times,serif\" font-size=\"14.00\">Utility (Shared Ride 3+)</text>\n",
       "</g>\n",
       "<!-- Total Travel Cost&#45;&gt;Utility (Shared Ride 3+) -->\n",
       "<g id=\"edge5\" class=\"edge\">\n",
       "<title>Total Travel Cost&#45;&gt;Utility (Shared Ride 3+)</title>\n",
       "<path fill=\"none\" stroke=\"black\" d=\"M124.84,-77.93C135.29,-75.87 146.18,-73.8 156.41,-72 245.25,-56.32 347.4,-41 417.55,-30.9\"/>\n",
       "<polygon fill=\"black\" stroke=\"black\" points=\"418.26,-34.33 427.67,-29.45 417.27,-27.41 418.26,-34.33\"/>\n",
       "</g>\n",
       "<!-- Total Travel Time -->\n",
       "<g id=\"node3\" class=\"node\">\n",
       "<title>Total Travel Time</title>\n",
       "<ellipse fill=\"none\" stroke=\"black\" cx=\"271.41\" cy=\"-90\" rx=\"73.28\" ry=\"18\"/>\n",
       "<text text-anchor=\"middle\" x=\"271.41\" y=\"-85.8\" font-family=\"Times,serif\" font-size=\"14.00\">Total Travel Time</text>\n",
       "</g>\n",
       "<!-- Total Travel Time&#45;&gt;Utility (Shared Ride 3+) -->\n",
       "<g id=\"edge1\" class=\"edge\">\n",
       "<title>Total Travel Time&#45;&gt;Utility (Shared Ride 3+)</title>\n",
       "<path fill=\"none\" stroke=\"black\" d=\"M315.67,-75.59C352.22,-64.51 404.39,-48.7 444.29,-36.61\"/>\n",
       "<polygon fill=\"black\" stroke=\"black\" points=\"445.35,-39.95 453.9,-33.7 443.32,-33.25 445.35,-39.95\"/>\n",
       "</g>\n",
       "<!-- Total Travel Distance -->\n",
       "<g id=\"node4\" class=\"node\">\n",
       "<title>Total Travel Distance</title>\n",
       "<ellipse fill=\"none\" stroke=\"black\" cx=\"170.41\" cy=\"-162\" rx=\"86.25\" ry=\"18\"/>\n",
       "<text text-anchor=\"middle\" x=\"170.41\" y=\"-157.8\" font-family=\"Times,serif\" font-size=\"14.00\">Total Travel Distance</text>\n",
       "</g>\n",
       "<!-- Total Travel Distance&#45;&gt;Total Travel Cost -->\n",
       "<g id=\"edge3\" class=\"edge\">\n",
       "<title>Total Travel Distance&#45;&gt;Total Travel Cost</title>\n",
       "<path fill=\"none\" stroke=\"black\" d=\"M147.2,-144.59C133.82,-135.13 116.83,-123.12 102.33,-112.87\"/>\n",
       "<polygon fill=\"black\" stroke=\"black\" points=\"104.32,-109.98 94.13,-107.07 100.28,-115.7 104.32,-109.98\"/>\n",
       "</g>\n",
       "<!-- Total Travel Distance&#45;&gt;Utility (Shared Ride 3+) -->\n",
       "<g id=\"edge4\" class=\"edge\">\n",
       "<title>Total Travel Distance&#45;&gt;Utility (Shared Ride 3+)</title>\n",
       "<path fill=\"none\" stroke=\"black\" d=\"M168.83,-143.91C168,-123.73 170.01,-90.58 189.41,-72 219.12,-43.52 320.71,-30.23 400.19,-24.1\"/>\n",
       "<polygon fill=\"black\" stroke=\"black\" points=\"400.55,-27.59 410.26,-23.36 400.03,-20.61 400.55,-27.59\"/>\n",
       "</g>\n",
       "<!-- Total Travel Distance&#45;&gt;Total Travel Time -->\n",
       "<g id=\"edge2\" class=\"edge\">\n",
       "<title>Total Travel Distance&#45;&gt;Total Travel Time</title>\n",
       "<path fill=\"none\" stroke=\"black\" d=\"M194.09,-144.59C207.64,-135.2 224.81,-123.29 239.54,-113.09\"/>\n",
       "<polygon fill=\"black\" stroke=\"black\" points=\"241.65,-115.88 247.87,-107.31 237.66,-110.13 241.65,-115.88\"/>\n",
       "</g>\n",
       "<!-- Cross Bay Trip -->\n",
       "<g id=\"node5\" class=\"node\">\n",
       "<title>Cross Bay Trip</title>\n",
       "<ellipse fill=\"none\" stroke=\"black\" cx=\"426.41\" cy=\"-90\" rx=\"63.87\" ry=\"18\"/>\n",
       "<text text-anchor=\"middle\" x=\"426.41\" y=\"-85.8\" font-family=\"Times,serif\" font-size=\"14.00\">Cross Bay Trip</text>\n",
       "</g>\n",
       "<!-- Cross Bay Trip&#45;&gt;Utility (Shared Ride 3+) -->\n",
       "<g id=\"edge6\" class=\"edge\">\n",
       "<title>Cross Bay Trip&#45;&gt;Utility (Shared Ride 3+)</title>\n",
       "<path fill=\"none\" stroke=\"black\" d=\"M444.42,-72.41C454.1,-63.5 466.19,-52.36 476.83,-42.56\"/>\n",
       "<polygon fill=\"black\" stroke=\"black\" points=\"479.28,-45.06 484.26,-35.71 474.53,-39.91 479.28,-45.06\"/>\n",
       "</g>\n",
       "<!-- Number of Autos -->\n",
       "<g id=\"node6\" class=\"node\">\n",
       "<title>Number of Autos</title>\n",
       "<ellipse fill=\"none\" stroke=\"black\" cx=\"579.41\" cy=\"-90\" rx=\"71.54\" ry=\"18\"/>\n",
       "<text text-anchor=\"middle\" x=\"579.41\" y=\"-85.8\" font-family=\"Times,serif\" font-size=\"14.00\">Number of Autos</text>\n",
       "</g>\n",
       "<!-- Number of Autos&#45;&gt;Utility (Shared Ride 3+) -->\n",
       "<g id=\"edge7\" class=\"edge\">\n",
       "<title>Number of Autos&#45;&gt;Utility (Shared Ride 3+)</title>\n",
       "<path fill=\"none\" stroke=\"black\" d=\"M561.16,-72.41C551.35,-63.5 539.1,-52.36 528.32,-42.56\"/>\n",
       "<polygon fill=\"black\" stroke=\"black\" points=\"530.54,-39.85 520.79,-35.71 525.84,-45.03 530.54,-39.85\"/>\n",
       "</g>\n",
       "<!-- Household Size -->\n",
       "<g id=\"node7\" class=\"node\">\n",
       "<title>Household Size</title>\n",
       "<ellipse fill=\"none\" stroke=\"black\" cx=\"734.41\" cy=\"-90\" rx=\"65.72\" ry=\"18\"/>\n",
       "<text text-anchor=\"middle\" x=\"734.41\" y=\"-85.8\" font-family=\"Times,serif\" font-size=\"14.00\">Household Size</text>\n",
       "</g>\n",
       "<!-- Household Size&#45;&gt;Utility (Shared Ride 3+) -->\n",
       "<g id=\"edge9\" class=\"edge\">\n",
       "<title>Household Size&#45;&gt;Utility (Shared Ride 3+)</title>\n",
       "<path fill=\"none\" stroke=\"black\" d=\"M691.85,-76.16C655.12,-65.08 601.68,-48.95 560.92,-36.65\"/>\n",
       "<polygon fill=\"black\" stroke=\"black\" points=\"561.7,-33.23 551.11,-33.7 559.67,-39.94 561.7,-33.23\"/>\n",
       "</g>\n",
       "<!-- Number of Kids -->\n",
       "<g id=\"node8\" class=\"node\">\n",
       "<title>Number of Kids</title>\n",
       "<ellipse fill=\"none\" stroke=\"black\" cx=\"885.41\" cy=\"-90\" rx=\"67.66\" ry=\"18\"/>\n",
       "<text text-anchor=\"middle\" x=\"885.41\" y=\"-85.8\" font-family=\"Times,serif\" font-size=\"14.00\">Number of Kids</text>\n",
       "</g>\n",
       "<!-- Number of Kids&#45;&gt;Utility (Shared Ride 3+) -->\n",
       "<g id=\"edge10\" class=\"edge\">\n",
       "<title>Number of Kids&#45;&gt;Utility (Shared Ride 3+)</title>\n",
       "<path fill=\"none\" stroke=\"black\" d=\"M836.01,-77.58C827.17,-75.64 818.03,-73.71 809.41,-72 733.01,-56.87 645.44,-41.99 583.42,-31.87\"/>\n",
       "<polygon fill=\"black\" stroke=\"black\" points=\"583.74,-28.38 573.31,-30.23 582.62,-35.29 583.74,-28.38\"/>\n",
       "</g>\n",
       "<!-- Number of Licensed Drivers -->\n",
       "<g id=\"node9\" class=\"node\">\n",
       "<title>Number of Licensed Drivers</title>\n",
       "<ellipse fill=\"none\" stroke=\"black\" cx=\"1082.41\" cy=\"-90\" rx=\"111.55\" ry=\"18\"/>\n",
       "<text text-anchor=\"middle\" x=\"1082.41\" y=\"-85.8\" font-family=\"Times,serif\" font-size=\"14.00\">Number of Licensed Drivers</text>\n",
       "</g>\n",
       "<!-- Number of Licensed Drivers&#45;&gt;Utility (Shared Ride 3+) -->\n",
       "<g id=\"edge8\" class=\"edge\">\n",
       "<title>Number of Licensed Drivers&#45;&gt;Utility (Shared Ride 3+)</title>\n",
       "<path fill=\"none\" stroke=\"black\" d=\"M1002.41,-77.37C989.06,-75.52 975.35,-73.66 962.41,-72 834.83,-55.62 687.03,-39.01 594.13,-28.86\"/>\n",
       "<polygon fill=\"black\" stroke=\"black\" points=\"594.24,-25.35 583.92,-27.74 593.48,-32.31 594.24,-25.35\"/>\n",
       "</g>\n",
       "</g>\n",
       "</svg>\n"
      ],
      "text/plain": [
       "<graphviz.dot.Digraph at 0x7fae321f3950>"
      ]
     },
     "execution_count": 20,
     "metadata": {},
     "output_type": "execute_result"
    }
   ],
   "source": [
    "SHARED_3P_UTILITY.draw()"
   ]
  },
  {
   "cell_type": "markdown",
   "metadata": {},
   "source": [
    "## Walk-Transit-Walk"
   ]
  },
  {
   "cell_type": "code",
   "execution_count": 21,
   "metadata": {},
   "outputs": [
    {
     "data": {
      "image/svg+xml": [
       "<?xml version=\"1.0\" encoding=\"UTF-8\" standalone=\"no\"?>\n",
       "<!DOCTYPE svg PUBLIC \"-//W3C//DTD SVG 1.1//EN\"\n",
       " \"http://www.w3.org/Graphics/SVG/1.1/DTD/svg11.dtd\">\n",
       "<!-- Generated by graphviz version 2.42.3 (20191010.1750)\n",
       " -->\n",
       "<!-- Title: %3 Pages: 1 -->\n",
       "<svg width=\"202pt\" height=\"188pt\"\n",
       " viewBox=\"0.00 0.00 201.80 188.00\" xmlns=\"http://www.w3.org/2000/svg\" xmlns:xlink=\"http://www.w3.org/1999/xlink\">\n",
       "<g id=\"graph0\" class=\"graph\" transform=\"scale(1 1) rotate(0) translate(4 184)\">\n",
       "<title>%3</title>\n",
       "<polygon fill=\"white\" stroke=\"transparent\" points=\"-4,4 -4,-184 197.8,-184 197.8,4 -4,4\"/>\n",
       "<!-- Total Travel Cost -->\n",
       "<g id=\"node1\" class=\"node\">\n",
       "<title>Total Travel Cost</title>\n",
       "<ellipse fill=\"none\" stroke=\"black\" cx=\"71.41\" cy=\"-90\" rx=\"71.31\" ry=\"18\"/>\n",
       "<text text-anchor=\"middle\" x=\"71.41\" y=\"-85.8\" font-family=\"Times,serif\" font-size=\"14.00\">Total Travel Cost</text>\n",
       "</g>\n",
       "<!-- Utility (WTW) -->\n",
       "<g id=\"node3\" class=\"node\">\n",
       "<title>Utility (WTW)</title>\n",
       "<ellipse fill=\"none\" stroke=\"black\" cx=\"120.41\" cy=\"-18\" rx=\"63.29\" ry=\"18\"/>\n",
       "<text text-anchor=\"middle\" x=\"120.41\" y=\"-13.8\" font-family=\"Times,serif\" font-size=\"14.00\">Utility (WTW)</text>\n",
       "</g>\n",
       "<!-- Total Travel Cost&#45;&gt;Utility (WTW) -->\n",
       "<g id=\"edge3\" class=\"edge\">\n",
       "<title>Total Travel Cost&#45;&gt;Utility (WTW)</title>\n",
       "<path fill=\"none\" stroke=\"black\" d=\"M83.27,-72.05C89.11,-63.71 96.26,-53.49 102.73,-44.25\"/>\n",
       "<polygon fill=\"black\" stroke=\"black\" points=\"105.79,-45.99 108.65,-35.79 100.05,-41.97 105.79,-45.99\"/>\n",
       "</g>\n",
       "<!-- Total Travel Time -->\n",
       "<g id=\"node2\" class=\"node\">\n",
       "<title>Total Travel Time</title>\n",
       "<ellipse fill=\"none\" stroke=\"black\" cx=\"120.41\" cy=\"-162\" rx=\"73.28\" ry=\"18\"/>\n",
       "<text text-anchor=\"middle\" x=\"120.41\" y=\"-157.8\" font-family=\"Times,serif\" font-size=\"14.00\">Total Travel Time</text>\n",
       "</g>\n",
       "<!-- Total Travel Time&#45;&gt;Total Travel Cost -->\n",
       "<g id=\"edge1\" class=\"edge\">\n",
       "<title>Total Travel Time&#45;&gt;Total Travel Cost</title>\n",
       "<path fill=\"none\" stroke=\"black\" d=\"M108.55,-144.05C102.71,-135.71 95.55,-125.49 89.08,-116.25\"/>\n",
       "<polygon fill=\"black\" stroke=\"black\" points=\"91.76,-113.97 83.16,-107.79 86.03,-117.99 91.76,-113.97\"/>\n",
       "</g>\n",
       "<!-- Total Travel Time&#45;&gt;Utility (WTW) -->\n",
       "<g id=\"edge2\" class=\"edge\">\n",
       "<title>Total Travel Time&#45;&gt;Utility (WTW)</title>\n",
       "<path fill=\"none\" stroke=\"black\" d=\"M133.55,-143.91C140.33,-134.01 147.89,-120.96 151.41,-108 155.59,-92.56 155.59,-87.44 151.41,-72 148.83,-62.48 144.06,-52.92 139.03,-44.59\"/>\n",
       "<polygon fill=\"black\" stroke=\"black\" points=\"141.91,-42.6 133.55,-36.09 136.03,-46.39 141.91,-42.6\"/>\n",
       "</g>\n",
       "</g>\n",
       "</svg>\n"
      ],
      "text/plain": [
       "<graphviz.dot.Digraph at 0x7fae321f7190>"
      ]
     },
     "execution_count": 21,
     "metadata": {},
     "output_type": "execute_result"
    }
   ],
   "source": [
    "WTW_UTILITY.draw()"
   ]
  },
  {
   "cell_type": "markdown",
   "metadata": {},
   "source": [
    "## Drive-Transit-Walk"
   ]
  },
  {
   "cell_type": "code",
   "execution_count": 22,
   "metadata": {},
   "outputs": [
    {
     "data": {
      "image/svg+xml": [
       "<?xml version=\"1.0\" encoding=\"UTF-8\" standalone=\"no\"?>\n",
       "<!DOCTYPE svg PUBLIC \"-//W3C//DTD SVG 1.1//EN\"\n",
       " \"http://www.w3.org/Graphics/SVG/1.1/DTD/svg11.dtd\">\n",
       "<!-- Generated by graphviz version 2.42.3 (20191010.1750)\n",
       " -->\n",
       "<!-- Title: %3 Pages: 1 -->\n",
       "<svg width=\"202pt\" height=\"188pt\"\n",
       " viewBox=\"0.00 0.00 201.80 188.00\" xmlns=\"http://www.w3.org/2000/svg\" xmlns:xlink=\"http://www.w3.org/1999/xlink\">\n",
       "<g id=\"graph0\" class=\"graph\" transform=\"scale(1 1) rotate(0) translate(4 184)\">\n",
       "<title>%3</title>\n",
       "<polygon fill=\"white\" stroke=\"transparent\" points=\"-4,4 -4,-184 197.8,-184 197.8,4 -4,4\"/>\n",
       "<!-- Total Travel Cost -->\n",
       "<g id=\"node1\" class=\"node\">\n",
       "<title>Total Travel Cost</title>\n",
       "<ellipse fill=\"none\" stroke=\"black\" cx=\"71.41\" cy=\"-90\" rx=\"71.31\" ry=\"18\"/>\n",
       "<text text-anchor=\"middle\" x=\"71.41\" y=\"-85.8\" font-family=\"Times,serif\" font-size=\"14.00\">Total Travel Cost</text>\n",
       "</g>\n",
       "<!-- Utility (DTW) -->\n",
       "<g id=\"node3\" class=\"node\">\n",
       "<title>Utility (DTW)</title>\n",
       "<ellipse fill=\"none\" stroke=\"black\" cx=\"120.41\" cy=\"-18\" rx=\"61.37\" ry=\"18\"/>\n",
       "<text text-anchor=\"middle\" x=\"120.41\" y=\"-13.8\" font-family=\"Times,serif\" font-size=\"14.00\">Utility (DTW)</text>\n",
       "</g>\n",
       "<!-- Total Travel Cost&#45;&gt;Utility (DTW) -->\n",
       "<g id=\"edge3\" class=\"edge\">\n",
       "<title>Total Travel Cost&#45;&gt;Utility (DTW)</title>\n",
       "<path fill=\"none\" stroke=\"black\" d=\"M83.27,-72.05C89.11,-63.71 96.26,-53.49 102.73,-44.25\"/>\n",
       "<polygon fill=\"black\" stroke=\"black\" points=\"105.79,-45.99 108.65,-35.79 100.05,-41.97 105.79,-45.99\"/>\n",
       "</g>\n",
       "<!-- Total Travel Time -->\n",
       "<g id=\"node2\" class=\"node\">\n",
       "<title>Total Travel Time</title>\n",
       "<ellipse fill=\"none\" stroke=\"black\" cx=\"120.41\" cy=\"-162\" rx=\"73.28\" ry=\"18\"/>\n",
       "<text text-anchor=\"middle\" x=\"120.41\" y=\"-157.8\" font-family=\"Times,serif\" font-size=\"14.00\">Total Travel Time</text>\n",
       "</g>\n",
       "<!-- Total Travel Time&#45;&gt;Total Travel Cost -->\n",
       "<g id=\"edge1\" class=\"edge\">\n",
       "<title>Total Travel Time&#45;&gt;Total Travel Cost</title>\n",
       "<path fill=\"none\" stroke=\"black\" d=\"M108.55,-144.05C102.71,-135.71 95.55,-125.49 89.08,-116.25\"/>\n",
       "<polygon fill=\"black\" stroke=\"black\" points=\"91.76,-113.97 83.16,-107.79 86.03,-117.99 91.76,-113.97\"/>\n",
       "</g>\n",
       "<!-- Total Travel Time&#45;&gt;Utility (DTW) -->\n",
       "<g id=\"edge2\" class=\"edge\">\n",
       "<title>Total Travel Time&#45;&gt;Utility (DTW)</title>\n",
       "<path fill=\"none\" stroke=\"black\" d=\"M133.55,-143.91C140.33,-134.01 147.89,-120.96 151.41,-108 155.59,-92.56 155.59,-87.44 151.41,-72 148.79,-62.33 143.91,-52.61 138.79,-44.19\"/>\n",
       "<polygon fill=\"black\" stroke=\"black\" points=\"141.61,-42.11 133.23,-35.62 135.74,-45.92 141.61,-42.11\"/>\n",
       "</g>\n",
       "</g>\n",
       "</svg>\n"
      ],
      "text/plain": [
       "<graphviz.dot.Digraph at 0x7fae321f7b90>"
      ]
     },
     "execution_count": 22,
     "metadata": {},
     "output_type": "execute_result"
    }
   ],
   "source": [
    "DTW_UTILITY.draw()"
   ]
  },
  {
   "cell_type": "markdown",
   "metadata": {},
   "source": [
    "##  Walk-Transit-Drive"
   ]
  },
  {
   "cell_type": "code",
   "execution_count": 23,
   "metadata": {},
   "outputs": [
    {
     "data": {
      "image/svg+xml": [
       "<?xml version=\"1.0\" encoding=\"UTF-8\" standalone=\"no\"?>\n",
       "<!DOCTYPE svg PUBLIC \"-//W3C//DTD SVG 1.1//EN\"\n",
       " \"http://www.w3.org/Graphics/SVG/1.1/DTD/svg11.dtd\">\n",
       "<!-- Generated by graphviz version 2.42.3 (20191010.1750)\n",
       " -->\n",
       "<!-- Title: %3 Pages: 1 -->\n",
       "<svg width=\"202pt\" height=\"188pt\"\n",
       " viewBox=\"0.00 0.00 201.80 188.00\" xmlns=\"http://www.w3.org/2000/svg\" xmlns:xlink=\"http://www.w3.org/1999/xlink\">\n",
       "<g id=\"graph0\" class=\"graph\" transform=\"scale(1 1) rotate(0) translate(4 184)\">\n",
       "<title>%3</title>\n",
       "<polygon fill=\"white\" stroke=\"transparent\" points=\"-4,4 -4,-184 197.8,-184 197.8,4 -4,4\"/>\n",
       "<!-- Total Travel Cost -->\n",
       "<g id=\"node1\" class=\"node\">\n",
       "<title>Total Travel Cost</title>\n",
       "<ellipse fill=\"none\" stroke=\"black\" cx=\"71.41\" cy=\"-90\" rx=\"71.31\" ry=\"18\"/>\n",
       "<text text-anchor=\"middle\" x=\"71.41\" y=\"-85.8\" font-family=\"Times,serif\" font-size=\"14.00\">Total Travel Cost</text>\n",
       "</g>\n",
       "<!-- Utility (WTD) -->\n",
       "<g id=\"node3\" class=\"node\">\n",
       "<title>Utility (WTD)</title>\n",
       "<ellipse fill=\"none\" stroke=\"black\" cx=\"120.41\" cy=\"-18\" rx=\"61.37\" ry=\"18\"/>\n",
       "<text text-anchor=\"middle\" x=\"120.41\" y=\"-13.8\" font-family=\"Times,serif\" font-size=\"14.00\">Utility (WTD)</text>\n",
       "</g>\n",
       "<!-- Total Travel Cost&#45;&gt;Utility (WTD) -->\n",
       "<g id=\"edge3\" class=\"edge\">\n",
       "<title>Total Travel Cost&#45;&gt;Utility (WTD)</title>\n",
       "<path fill=\"none\" stroke=\"black\" d=\"M83.27,-72.05C89.11,-63.71 96.26,-53.49 102.73,-44.25\"/>\n",
       "<polygon fill=\"black\" stroke=\"black\" points=\"105.79,-45.99 108.65,-35.79 100.05,-41.97 105.79,-45.99\"/>\n",
       "</g>\n",
       "<!-- Total Travel Time -->\n",
       "<g id=\"node2\" class=\"node\">\n",
       "<title>Total Travel Time</title>\n",
       "<ellipse fill=\"none\" stroke=\"black\" cx=\"120.41\" cy=\"-162\" rx=\"73.28\" ry=\"18\"/>\n",
       "<text text-anchor=\"middle\" x=\"120.41\" y=\"-157.8\" font-family=\"Times,serif\" font-size=\"14.00\">Total Travel Time</text>\n",
       "</g>\n",
       "<!-- Total Travel Time&#45;&gt;Total Travel Cost -->\n",
       "<g id=\"edge1\" class=\"edge\">\n",
       "<title>Total Travel Time&#45;&gt;Total Travel Cost</title>\n",
       "<path fill=\"none\" stroke=\"black\" d=\"M108.55,-144.05C102.71,-135.71 95.55,-125.49 89.08,-116.25\"/>\n",
       "<polygon fill=\"black\" stroke=\"black\" points=\"91.76,-113.97 83.16,-107.79 86.03,-117.99 91.76,-113.97\"/>\n",
       "</g>\n",
       "<!-- Total Travel Time&#45;&gt;Utility (WTD) -->\n",
       "<g id=\"edge2\" class=\"edge\">\n",
       "<title>Total Travel Time&#45;&gt;Utility (WTD)</title>\n",
       "<path fill=\"none\" stroke=\"black\" d=\"M133.55,-143.91C140.33,-134.01 147.89,-120.96 151.41,-108 155.59,-92.56 155.59,-87.44 151.41,-72 148.79,-62.33 143.91,-52.61 138.79,-44.19\"/>\n",
       "<polygon fill=\"black\" stroke=\"black\" points=\"141.61,-42.11 133.23,-35.62 135.74,-45.92 141.61,-42.11\"/>\n",
       "</g>\n",
       "</g>\n",
       "</svg>\n"
      ],
      "text/plain": [
       "<graphviz.dot.Digraph at 0x7fae321f7e90>"
      ]
     },
     "execution_count": 23,
     "metadata": {},
     "output_type": "execute_result"
    }
   ],
   "source": [
    "WTD_UTILITY.draw()"
   ]
  },
  {
   "cell_type": "markdown",
   "metadata": {},
   "source": [
    "## Walk"
   ]
  },
  {
   "cell_type": "code",
   "execution_count": 24,
   "metadata": {},
   "outputs": [
    {
     "data": {
      "image/svg+xml": [
       "<?xml version=\"1.0\" encoding=\"UTF-8\" standalone=\"no\"?>\n",
       "<!DOCTYPE svg PUBLIC \"-//W3C//DTD SVG 1.1//EN\"\n",
       " \"http://www.w3.org/Graphics/SVG/1.1/DTD/svg11.dtd\">\n",
       "<!-- Generated by graphviz version 2.42.3 (20191010.1750)\n",
       " -->\n",
       "<!-- Title: %3 Pages: 1 -->\n",
       "<svg width=\"180pt\" height=\"116pt\"\n",
       " viewBox=\"0.00 0.00 180.25 116.00\" xmlns=\"http://www.w3.org/2000/svg\" xmlns:xlink=\"http://www.w3.org/1999/xlink\">\n",
       "<g id=\"graph0\" class=\"graph\" transform=\"scale(1 1) rotate(0) translate(4 112)\">\n",
       "<title>%3</title>\n",
       "<polygon fill=\"white\" stroke=\"transparent\" points=\"-4,4 -4,-112 176.25,-112 176.25,4 -4,4\"/>\n",
       "<!-- Utility (Walk) -->\n",
       "<g id=\"node1\" class=\"node\">\n",
       "<title>Utility (Walk)</title>\n",
       "<ellipse fill=\"none\" stroke=\"black\" cx=\"86.13\" cy=\"-18\" rx=\"60\" ry=\"18\"/>\n",
       "<text text-anchor=\"middle\" x=\"86.13\" y=\"-13.8\" font-family=\"Times,serif\" font-size=\"14.00\">Utility (Walk)</text>\n",
       "</g>\n",
       "<!-- Total Travel Distance -->\n",
       "<g id=\"node2\" class=\"node\">\n",
       "<title>Total Travel Distance</title>\n",
       "<ellipse fill=\"none\" stroke=\"black\" cx=\"86.13\" cy=\"-90\" rx=\"86.25\" ry=\"18\"/>\n",
       "<text text-anchor=\"middle\" x=\"86.13\" y=\"-85.8\" font-family=\"Times,serif\" font-size=\"14.00\">Total Travel Distance</text>\n",
       "</g>\n",
       "<!-- Total Travel Distance&#45;&gt;Utility (Walk) -->\n",
       "<g id=\"edge1\" class=\"edge\">\n",
       "<title>Total Travel Distance&#45;&gt;Utility (Walk)</title>\n",
       "<path fill=\"none\" stroke=\"black\" d=\"M86.13,-71.7C86.13,-63.98 86.13,-54.71 86.13,-46.11\"/>\n",
       "<polygon fill=\"black\" stroke=\"black\" points=\"89.63,-46.1 86.13,-36.1 82.63,-46.1 89.63,-46.1\"/>\n",
       "</g>\n",
       "</g>\n",
       "</svg>\n"
      ],
      "text/plain": [
       "<graphviz.dot.Digraph at 0x7fae321f32d0>"
      ]
     },
     "execution_count": 24,
     "metadata": {},
     "output_type": "execute_result"
    }
   ],
   "source": [
    "WALK_UTILITY.draw()"
   ]
  },
  {
   "cell_type": "markdown",
   "metadata": {},
   "source": [
    "## Bike "
   ]
  },
  {
   "cell_type": "code",
   "execution_count": 25,
   "metadata": {},
   "outputs": [
    {
     "data": {
      "image/svg+xml": [
       "<?xml version=\"1.0\" encoding=\"UTF-8\" standalone=\"no\"?>\n",
       "<!DOCTYPE svg PUBLIC \"-//W3C//DTD SVG 1.1//EN\"\n",
       " \"http://www.w3.org/Graphics/SVG/1.1/DTD/svg11.dtd\">\n",
       "<!-- Generated by graphviz version 2.42.3 (20191010.1750)\n",
       " -->\n",
       "<!-- Title: %3 Pages: 1 -->\n",
       "<svg width=\"180pt\" height=\"116pt\"\n",
       " viewBox=\"0.00 0.00 180.25 116.00\" xmlns=\"http://www.w3.org/2000/svg\" xmlns:xlink=\"http://www.w3.org/1999/xlink\">\n",
       "<g id=\"graph0\" class=\"graph\" transform=\"scale(1 1) rotate(0) translate(4 112)\">\n",
       "<title>%3</title>\n",
       "<polygon fill=\"white\" stroke=\"transparent\" points=\"-4,4 -4,-112 176.25,-112 176.25,4 -4,4\"/>\n",
       "<!-- Utility (Bike) -->\n",
       "<g id=\"node1\" class=\"node\">\n",
       "<title>Utility (Bike)</title>\n",
       "<ellipse fill=\"none\" stroke=\"black\" cx=\"86.13\" cy=\"-18\" rx=\"58.01\" ry=\"18\"/>\n",
       "<text text-anchor=\"middle\" x=\"86.13\" y=\"-13.8\" font-family=\"Times,serif\" font-size=\"14.00\">Utility (Bike)</text>\n",
       "</g>\n",
       "<!-- Total Travel Distance -->\n",
       "<g id=\"node2\" class=\"node\">\n",
       "<title>Total Travel Distance</title>\n",
       "<ellipse fill=\"none\" stroke=\"black\" cx=\"86.13\" cy=\"-90\" rx=\"86.25\" ry=\"18\"/>\n",
       "<text text-anchor=\"middle\" x=\"86.13\" y=\"-85.8\" font-family=\"Times,serif\" font-size=\"14.00\">Total Travel Distance</text>\n",
       "</g>\n",
       "<!-- Total Travel Distance&#45;&gt;Utility (Bike) -->\n",
       "<g id=\"edge1\" class=\"edge\">\n",
       "<title>Total Travel Distance&#45;&gt;Utility (Bike)</title>\n",
       "<path fill=\"none\" stroke=\"black\" d=\"M86.13,-71.7C86.13,-63.98 86.13,-54.71 86.13,-46.11\"/>\n",
       "<polygon fill=\"black\" stroke=\"black\" points=\"89.63,-46.1 86.13,-36.1 82.63,-46.1 89.63,-46.1\"/>\n",
       "</g>\n",
       "</g>\n",
       "</svg>\n"
      ],
      "text/plain": [
       "<graphviz.dot.Digraph at 0x7fae321bbcd0>"
      ]
     },
     "execution_count": 25,
     "metadata": {},
     "output_type": "execute_result"
    }
   ],
   "source": [
    "BIKE_UTILITY.draw()"
   ]
  },
  {
   "cell_type": "markdown",
   "metadata": {},
   "source": [
    "# Selection on Observables Simulation"
   ]
  },
  {
   "cell_type": "markdown",
   "metadata": {},
   "source": [
    "We simulate data based on the assumed structure of the causal diagrams and the original data from [Brathwaite and Walker (2016)](https://arxiv.org/abs/1606.05900). This process goes as follows:\n",
    "\n",
    "For the independent causal graph:\n",
    " * We fit a probability distribution for all the nodes in the utility function\n",
    " \n",
    "For the realistic causal graph:\n",
    " * We fit a probability distribution for all the nodes without any parents/upstream notes in the causal graphs\n",
    " * We fit any regressions between the related explanatory variables\n",
    " \n",
    "Based on these fitted distributions and regressions, we can then simulate data for the remaining nodes in each of the alternatives in our specified model."
   ]
  },
  {
   "cell_type": "markdown",
   "metadata": {},
   "source": [
    "## Distribution Fitting "
   ]
  },
  {
   "cell_type": "code",
   "execution_count": 26,
   "metadata": {},
   "outputs": [
    {
     "name": "stdout",
     "output_type": "stream",
     "text": [
      "Getting Distributions of Individual Specific Variables...\n",
      "---------------------------------------------------------\n",
      "Done...\n",
      "Getting Distributions of Alternative Specific Variables...\n",
      "----------------------------------------------------------\n",
      "Fitted norm distribution with error=0.014164054487182288)\n",
      "Fitted alpha distribution with error=0.014522128648725777)\n"
     ]
    },
    {
     "name": "stderr",
     "output_type": "stream",
     "text": [
      "/Users/mobouzaghrane/opt/anaconda3/lib/python3.7/site-packages/scipy/stats/_distn_infrastructure.py:2381: RuntimeWarning: invalid value encountered in double_scalars\n",
      "  Lhat = muhat - Shat*mu\n",
      "/Users/mobouzaghrane/opt/anaconda3/lib/python3.7/site-packages/scipy/stats/_continuous_distns.py:515: RuntimeWarning: invalid value encountered in sqrt\n",
      "  sk = 2*(b-a)*np.sqrt(a + b + 1) / (a + b + 2) / np.sqrt(a*b)\n",
      "/Users/mobouzaghrane/opt/anaconda3/lib/python3.7/site-packages/scipy/optimize/minpack.py:162: RuntimeWarning: The iteration is not making good progress, as measured by the \n",
      "  improvement from the last ten iterations.\n",
      "  warnings.warn(msg, RuntimeWarning)\n"
     ]
    },
    {
     "name": "stdout",
     "output_type": "stream",
     "text": [
      "Fitted beta distribution with error=0.0011963782652540424)\n",
      "Fitted gamma distribution with error=0.0011394543473683448)\n",
      "Fitted expon distribution with error=0.002052652669300775)\n",
      "SKIPPED gumbel distribution (taking more than 60 seconds)\n",
      "Fitted norm distribution with error=0.014136723006166226)\n",
      "Fitted alpha distribution with error=0.014457810916552023)\n",
      "Fitted beta distribution with error=0.0012976882508515305)\n",
      "Fitted gamma distribution with error=0.0012552378475140624)\n",
      "Fitted expon distribution with error=0.0019967778289294194)\n",
      "SKIPPED gumbel distribution (taking more than 60 seconds)\n",
      "Fitted norm distribution with error=0.014117434128009247)\n",
      "Fitted alpha distribution with error=0.014462601227138085)\n",
      "Fitted beta distribution with error=0.001276124018206852)\n",
      "Fitted gamma distribution with error=0.0012547975031013958)\n",
      "Fitted expon distribution with error=0.0020004181046601524)\n",
      "SKIPPED gumbel distribution (taking more than 60 seconds)\n",
      "Fitted norm distribution with error=0.0004036911862300816)\n",
      "Fitted alpha distribution with error=0.00010782141835446614)\n",
      "Fitted beta distribution with error=0.00011146390130275948)\n",
      "Fitted gamma distribution with error=0.00010902380039568413)\n",
      "Fitted expon distribution with error=0.0006821775284529087)\n",
      "SKIPPED gumbel distribution (taking more than 60 seconds)\n",
      "Fitted norm distribution with error=0.00030273505522919594)\n",
      "Fitted alpha distribution with error=6.672556141363111e-05)\n",
      "Fitted beta distribution with error=6.196777802352273e-05)\n",
      "Fitted gamma distribution with error=6.08535018564024e-05)\n",
      "Fitted expon distribution with error=0.0007188034183935458)\n",
      "SKIPPED gumbel distribution (taking more than 60 seconds)\n",
      "Fitted norm distribution with error=0.0003989163599321173)\n",
      "Fitted alpha distribution with error=8.054952402098987e-05)\n",
      "Fitted beta distribution with error=8.156641381917802e-05)\n",
      "Fitted gamma distribution with error=8.048390439269993e-05)\n",
      "Fitted expon distribution with error=0.0008900680532886661)\n",
      "SKIPPED gumbel distribution (taking more than 60 seconds)\n",
      "Fitted norm distribution with error=0.020086220074886682)\n",
      "Fitted alpha distribution with error=0.0008972367532526685)\n",
      "Fitted beta distribution with error=0.002377025832720183)\n",
      "Fitted gamma distribution with error=0.002275034836025737)\n",
      "Fitted expon distribution with error=0.003469333861343498)\n",
      "SKIPPED gumbel distribution (taking more than 60 seconds)\n",
      "Fitted norm distribution with error=0.022376244731870113)\n",
      "Fitted alpha distribution with error=0.0007221359033952726)\n",
      "Fitted beta distribution with error=0.0024566904071273085)\n",
      "Fitted gamma distribution with error=0.0024407152169873807)\n",
      "Fitted expon distribution with error=0.004178416793754377)\n",
      "SKIPPED gumbel distribution (taking more than 60 seconds)\n",
      "Done...\n",
      "Getting Distributions of Trip Specific Variables...\n",
      "---------------------------------------------------------\n",
      "Done...\n"
     ]
    }
   ],
   "source": [
    "bike_data_params = distfit.get_dist_node_no_parent(bike_data_long,\n",
    "                                                   ALT_ID_COL,\n",
    "                                                   OBS_ID_COL,\n",
    "                                                   ALT_SPEC_DICT,\n",
    "                                                   ALT_NAME_DICT,\n",
    "                                                   IND_SPEC_VARS,\n",
    "                                                   TRIP_SPEC_VARS,\n",
    "                                                   VARS_TYPE,\n",
    "                                                   CONT_DISTS)"
   ]
  },
  {
   "cell_type": "markdown",
   "metadata": {},
   "source": [
    "## Regression Fitting "
   ]
  },
  {
   "cell_type": "markdown",
   "metadata": {},
   "source": [
    "Based on the structure of the \"realistic\" causal graphs assumed for each of the alternatives, we fit regressions that will allow us to simulate the remaining nodes in the causal graphs. The utility node will be simulated based on the utility function for each alternative."
   ]
  },
  {
   "cell_type": "markdown",
   "metadata": {},
   "source": [
    "## Drive Alone "
   ]
  },
  {
   "cell_type": "code",
   "execution_count": 27,
   "metadata": {},
   "outputs": [
    {
     "name": "stderr",
     "output_type": "stream",
     "text": [
      "/Users/mobouzaghrane/opt/anaconda3/lib/python3.7/site-packages/numpy/core/fromnumeric.py:2495: FutureWarning: Method .ptp is deprecated and will be removed in a future version. Use numpy.ptp instead.\n",
      "  return ptp(axis=axis, out=out, **kwargs)\n"
     ]
    }
   ],
   "source": [
    "drive_alone_df = bike_data_long.loc[bike_data_long['mode_id'] == 1]\n",
    "\n",
    "drive_alone_df.reset_index(drop=True, inplace=True)\n",
    "\n",
    "fitted_reg_da = reg.fit_alternative_regression(regressions=REGS_DA, \n",
    "                                               reg_types=REGS_TYPE_DA,\n",
    "                                               data=drive_alone_df)"
   ]
  },
  {
   "cell_type": "markdown",
   "metadata": {},
   "source": [
    "## Shared-2"
   ]
  },
  {
   "cell_type": "code",
   "execution_count": 28,
   "metadata": {},
   "outputs": [],
   "source": [
    "shared_2_df = bike_data_long.loc[bike_data_long['mode_id'] == 2]\n",
    "\n",
    "shared_2_df.reset_index(drop=True, inplace=True)\n",
    "\n",
    "fitted_reg_shared_2 = reg.fit_alternative_regression(regressions=REGS_SHARED_2,\n",
    "                                                     reg_types=REGS_TYPE_SHARED_2,\n",
    "                                                     data=shared_2_df)"
   ]
  },
  {
   "cell_type": "markdown",
   "metadata": {},
   "source": [
    "## Shared-3+"
   ]
  },
  {
   "cell_type": "code",
   "execution_count": 29,
   "metadata": {},
   "outputs": [],
   "source": [
    "shared_3p_df = bike_data_long.loc[bike_data_long['mode_id'] == 3]\n",
    "\n",
    "shared_3p_df.reset_index(drop=True, inplace=True)\n",
    "\n",
    "fitted_reg_shared_3p = reg.fit_alternative_regression(regressions=REGS_SHARED_3P,\n",
    "                                                      reg_types=REGS_TYPE_SHARED_3P,\n",
    "                                                      data=shared_3p_df)"
   ]
  },
  {
   "cell_type": "markdown",
   "metadata": {},
   "source": [
    "## Walk-Transit-Walk "
   ]
  },
  {
   "cell_type": "code",
   "execution_count": 30,
   "metadata": {},
   "outputs": [],
   "source": [
    "wtw_df = bike_data_long.loc[bike_data_long['mode_id'] == 4]\n",
    "\n",
    "wtw_df.reset_index(drop=True, inplace=True)\n",
    "\n",
    "fitted_reg_wtw = reg.fit_alternative_regression(regressions=REGS_WTW,\n",
    "                                                reg_types=REGS_TYPE_WTW,\n",
    "                                                data=wtw_df)"
   ]
  },
  {
   "cell_type": "markdown",
   "metadata": {},
   "source": [
    "## Drive-Transit-Walk "
   ]
  },
  {
   "cell_type": "code",
   "execution_count": 31,
   "metadata": {},
   "outputs": [],
   "source": [
    "dtw_df = bike_data_long.loc[bike_data_long['mode_id'] == 5]\n",
    "\n",
    "dtw_df.reset_index(drop=True, inplace=True)\n",
    "\n",
    "fitted_reg_dtw = reg.fit_alternative_regression(regressions=REGS_DTW,\n",
    "                                                reg_types=REGS_TYPE_DTW,\n",
    "                                                data=dtw_df)"
   ]
  },
  {
   "cell_type": "markdown",
   "metadata": {},
   "source": [
    "## Walk-Transit-Drive"
   ]
  },
  {
   "cell_type": "code",
   "execution_count": 32,
   "metadata": {},
   "outputs": [],
   "source": [
    "wtd_df = bike_data_long.loc[bike_data_long['mode_id'] == 6]\n",
    "\n",
    "wtd_df.reset_index(drop=True, inplace=True)\n",
    "\n",
    "fitted_reg_wtd = reg.fit_alternative_regression(regressions=REGS_WTD,\n",
    "                                                reg_types=REGS_TYPE_WTD,\n",
    "                                                data=wtd_df)"
   ]
  },
  {
   "cell_type": "markdown",
   "metadata": {},
   "source": [
    "## Simulation"
   ]
  },
  {
   "cell_type": "markdown",
   "metadata": {},
   "source": [
    "Identifying the probability distributions of parent nodes and identifying the relationships between connected nodes allows us to complete the selection-on-observables simulation. The workflow proceeds as follows:\n",
    "* Simulate two sets of data for the X variables:\n",
    "  - One where all the Xs are independent (i.e. the only edges in the causal graph are between the X and the outcome variable (which is the value of the utility function)).\n",
    "  - One based on a realistic causal graph with confounders. The confounder in this simple example is Travel Distance.\n",
    "* For each of the two causal graphs mentioned in the previous step, simulate choice data based on the outcome model assumed from [Brathwaite and Walker (2016)](https://arxiv.org/abs/1606.05900).\n",
    "* Estimate the choice model for each of those two datasets using the assumed choice model specification.\n",
    "* Apply the do-operator (perturbation) to the variable of interest (Travel Distance), and show that the predicted outcome would be accurate only if our causal graph captures the dependency between the explanatory variables."
   ]
  },
  {
   "cell_type": "markdown",
   "metadata": {},
   "source": [
    "### Simulation Parameters"
   ]
  },
  {
   "cell_type": "code",
   "execution_count": 43,
   "metadata": {},
   "outputs": [],
   "source": [
    "simulation_sizes = np.random.randint(low=3000, high=4000, size=30)\n",
    "sim_number = np.arange(1, 31)\n",
    "models_dictionary = defaultdict(dict)\n",
    "causal_effect_dictionary = {}\n",
    "perturb = 0.8\n",
    "simulation_data = {}\n",
    "causal_effects = pd.DataFrame(columns=['naive_effect', 'true_effect', 'estimated_effect'])"
   ]
  },
  {
   "cell_type": "code",
   "execution_count": 47,
   "metadata": {
    "collapsed": true,
    "jupyter": {
     "outputs_hidden": true
    }
   },
   "outputs": [
    {
     "name": "stdout",
     "output_type": "stream",
     "text": [
      "Simulation number 1 is in progress...\n",
      "Simulation size is 3078\n",
      "------------------------------------------\n",
      "Simulating data...\n",
      "Simulating Availability...\n"
     ]
    },
    {
     "name": "stderr",
     "output_type": "stream",
     "text": [
      "/Users/mobouzaghrane/opt/anaconda3/lib/python3.7/site-packages/numpy/core/fromnumeric.py:2495: FutureWarning: Method .ptp is deprecated and will be removed in a future version. Use numpy.ptp instead.\n",
      "  return ptp(axis=axis, out=out, **kwargs)\n"
     ]
    },
    {
     "name": "stdout",
     "output_type": "stream",
     "text": [
      "Converting data from wide to long...\n",
      "Simulating Choices...\n"
     ]
    },
    {
     "data": {
      "application/vnd.jupyter.widget-view+json": {
       "model_id": "b74ed0e04a2d4f988d2bbacf4d0a876c",
       "version_major": 2,
       "version_minor": 0
      },
      "text/plain": [
       "HBox(children=(IntProgress(value=0, description='Simulating Choices', max=3078, style=ProgressStyle(descriptio…"
      ]
     },
     "metadata": {},
     "output_type": "display_data"
    },
    {
     "name": "stdout",
     "output_type": "stream",
     "text": [
      "\n",
      "Estimating the choice model...\n"
     ]
    },
    {
     "name": "stderr",
     "output_type": "stream",
     "text": [
      "/Users/mobouzaghrane/opt/anaconda3/lib/python3.7/site-packages/scipy/optimize/_minimize.py:505: RuntimeWarning: Method BFGS does not use Hessian information (hess).\n",
      "  RuntimeWarning)\n",
      "/Users/mobouzaghrane/opt/anaconda3/lib/python3.7/site-packages/pylogit/choice_tools.py:703: FutureWarning: arrays to stack must be passed as a \"sequence\" type such as list or tuple. Support for non-sequence iterables such as generators is deprecated as of NumPy 1.16 and will raise an error in the future.\n",
      "  design_matrix = np.hstack((x[:, None] for x in independent_vars))\n"
     ]
    },
    {
     "name": "stdout",
     "output_type": "stream",
     "text": [
      "Estimating Causal Effects...\n",
      "Simulation number 1 is complete!\n",
      "==========================================\n",
      "==========================================\n",
      "Simulation number 2 is in progress...\n",
      "Simulation size is 3984\n",
      "------------------------------------------\n",
      "Simulating data...\n"
     ]
    },
    {
     "name": "stderr",
     "output_type": "stream",
     "text": [
      "/Users/mobouzaghrane/opt/anaconda3/lib/python3.7/site-packages/numpy/core/fromnumeric.py:2495: FutureWarning: Method .ptp is deprecated and will be removed in a future version. Use numpy.ptp instead.\n",
      "  return ptp(axis=axis, out=out, **kwargs)\n"
     ]
    },
    {
     "name": "stdout",
     "output_type": "stream",
     "text": [
      "Simulating Availability...\n",
      "Converting data from wide to long...\n",
      "Simulating Choices...\n"
     ]
    },
    {
     "data": {
      "application/vnd.jupyter.widget-view+json": {
       "model_id": "b3a6f803815b4c308a338d499700c154",
       "version_major": 2,
       "version_minor": 0
      },
      "text/plain": [
       "HBox(children=(IntProgress(value=0, description='Simulating Choices', max=3984, style=ProgressStyle(descriptio…"
      ]
     },
     "metadata": {},
     "output_type": "display_data"
    },
    {
     "name": "stdout",
     "output_type": "stream",
     "text": [
      "\n",
      "Estimating the choice model...\n"
     ]
    },
    {
     "name": "stderr",
     "output_type": "stream",
     "text": [
      "/Users/mobouzaghrane/opt/anaconda3/lib/python3.7/site-packages/scipy/optimize/_minimize.py:505: RuntimeWarning: Method BFGS does not use Hessian information (hess).\n",
      "  RuntimeWarning)\n"
     ]
    },
    {
     "name": "stdout",
     "output_type": "stream",
     "text": [
      "Estimating Causal Effects...\n",
      "Simulation number 2 is complete!\n",
      "==========================================\n",
      "==========================================\n",
      "Simulation number 3 is in progress...\n",
      "Simulation size is 3280\n",
      "------------------------------------------\n",
      "Simulating data...\n"
     ]
    },
    {
     "name": "stderr",
     "output_type": "stream",
     "text": [
      "/Users/mobouzaghrane/opt/anaconda3/lib/python3.7/site-packages/pylogit/choice_tools.py:703: FutureWarning: arrays to stack must be passed as a \"sequence\" type such as list or tuple. Support for non-sequence iterables such as generators is deprecated as of NumPy 1.16 and will raise an error in the future.\n",
      "  design_matrix = np.hstack((x[:, None] for x in independent_vars))\n",
      "/Users/mobouzaghrane/opt/anaconda3/lib/python3.7/site-packages/numpy/core/fromnumeric.py:2495: FutureWarning: Method .ptp is deprecated and will be removed in a future version. Use numpy.ptp instead.\n",
      "  return ptp(axis=axis, out=out, **kwargs)\n"
     ]
    },
    {
     "name": "stdout",
     "output_type": "stream",
     "text": [
      "Simulating Availability...\n",
      "Converting data from wide to long...\n",
      "Simulating Choices...\n"
     ]
    },
    {
     "data": {
      "application/vnd.jupyter.widget-view+json": {
       "model_id": "57e37575b5314959933a558095d2e4bf",
       "version_major": 2,
       "version_minor": 0
      },
      "text/plain": [
       "HBox(children=(IntProgress(value=0, description='Simulating Choices', max=3280, style=ProgressStyle(descriptio…"
      ]
     },
     "metadata": {},
     "output_type": "display_data"
    },
    {
     "name": "stdout",
     "output_type": "stream",
     "text": [
      "\n",
      "Estimating the choice model...\n"
     ]
    },
    {
     "name": "stderr",
     "output_type": "stream",
     "text": [
      "/Users/mobouzaghrane/opt/anaconda3/lib/python3.7/site-packages/scipy/optimize/_minimize.py:505: RuntimeWarning: Method BFGS does not use Hessian information (hess).\n",
      "  RuntimeWarning)\n",
      "/Users/mobouzaghrane/opt/anaconda3/lib/python3.7/site-packages/pylogit/choice_tools.py:703: FutureWarning: arrays to stack must be passed as a \"sequence\" type such as list or tuple. Support for non-sequence iterables such as generators is deprecated as of NumPy 1.16 and will raise an error in the future.\n",
      "  design_matrix = np.hstack((x[:, None] for x in independent_vars))\n"
     ]
    },
    {
     "name": "stdout",
     "output_type": "stream",
     "text": [
      "Estimating Causal Effects...\n",
      "Simulation number 3 is complete!\n",
      "==========================================\n",
      "==========================================\n",
      "Simulation number 4 is in progress...\n",
      "Simulation size is 3606\n",
      "------------------------------------------\n",
      "Simulating data...\n"
     ]
    },
    {
     "name": "stderr",
     "output_type": "stream",
     "text": [
      "/Users/mobouzaghrane/opt/anaconda3/lib/python3.7/site-packages/numpy/core/fromnumeric.py:2495: FutureWarning: Method .ptp is deprecated and will be removed in a future version. Use numpy.ptp instead.\n",
      "  return ptp(axis=axis, out=out, **kwargs)\n"
     ]
    },
    {
     "name": "stdout",
     "output_type": "stream",
     "text": [
      "Simulating Availability...\n",
      "Converting data from wide to long...\n",
      "Simulating Choices...\n"
     ]
    },
    {
     "data": {
      "application/vnd.jupyter.widget-view+json": {
       "model_id": "ec9432b1fef047f6940c6c0e2a8a3dbb",
       "version_major": 2,
       "version_minor": 0
      },
      "text/plain": [
       "HBox(children=(IntProgress(value=0, description='Simulating Choices', max=3606, style=ProgressStyle(descriptio…"
      ]
     },
     "metadata": {},
     "output_type": "display_data"
    },
    {
     "name": "stdout",
     "output_type": "stream",
     "text": [
      "\n",
      "Estimating the choice model...\n"
     ]
    },
    {
     "name": "stderr",
     "output_type": "stream",
     "text": [
      "/Users/mobouzaghrane/opt/anaconda3/lib/python3.7/site-packages/scipy/optimize/_minimize.py:505: RuntimeWarning: Method BFGS does not use Hessian information (hess).\n",
      "  RuntimeWarning)\n"
     ]
    },
    {
     "name": "stdout",
     "output_type": "stream",
     "text": [
      "Estimating Causal Effects...\n",
      "Simulation number 4 is complete!\n",
      "==========================================\n",
      "==========================================\n",
      "Simulation number 5 is in progress...\n",
      "Simulation size is 3137\n",
      "------------------------------------------\n",
      "Simulating data...\n"
     ]
    },
    {
     "name": "stderr",
     "output_type": "stream",
     "text": [
      "/Users/mobouzaghrane/opt/anaconda3/lib/python3.7/site-packages/pylogit/choice_tools.py:703: FutureWarning: arrays to stack must be passed as a \"sequence\" type such as list or tuple. Support for non-sequence iterables such as generators is deprecated as of NumPy 1.16 and will raise an error in the future.\n",
      "  design_matrix = np.hstack((x[:, None] for x in independent_vars))\n",
      "/Users/mobouzaghrane/opt/anaconda3/lib/python3.7/site-packages/numpy/core/fromnumeric.py:2495: FutureWarning: Method .ptp is deprecated and will be removed in a future version. Use numpy.ptp instead.\n",
      "  return ptp(axis=axis, out=out, **kwargs)\n"
     ]
    },
    {
     "name": "stdout",
     "output_type": "stream",
     "text": [
      "Simulating Availability...\n",
      "Converting data from wide to long...\n",
      "Simulating Choices...\n"
     ]
    },
    {
     "data": {
      "application/vnd.jupyter.widget-view+json": {
       "model_id": "5ccd7c65a7fe4ea8a8237ed031673e07",
       "version_major": 2,
       "version_minor": 0
      },
      "text/plain": [
       "HBox(children=(IntProgress(value=0, description='Simulating Choices', max=3137, style=ProgressStyle(descriptio…"
      ]
     },
     "metadata": {},
     "output_type": "display_data"
    },
    {
     "name": "stdout",
     "output_type": "stream",
     "text": [
      "\n",
      "Estimating the choice model...\n"
     ]
    },
    {
     "name": "stderr",
     "output_type": "stream",
     "text": [
      "/Users/mobouzaghrane/opt/anaconda3/lib/python3.7/site-packages/scipy/optimize/_minimize.py:505: RuntimeWarning: Method BFGS does not use Hessian information (hess).\n",
      "  RuntimeWarning)\n",
      "/Users/mobouzaghrane/opt/anaconda3/lib/python3.7/site-packages/pylogit/choice_tools.py:703: FutureWarning: arrays to stack must be passed as a \"sequence\" type such as list or tuple. Support for non-sequence iterables such as generators is deprecated as of NumPy 1.16 and will raise an error in the future.\n",
      "  design_matrix = np.hstack((x[:, None] for x in independent_vars))\n"
     ]
    },
    {
     "name": "stdout",
     "output_type": "stream",
     "text": [
      "Estimating Causal Effects...\n",
      "Simulation number 5 is complete!\n",
      "==========================================\n",
      "==========================================\n",
      "Simulation number 6 is in progress...\n",
      "Simulation size is 3837\n",
      "------------------------------------------\n",
      "Simulating data...\n"
     ]
    },
    {
     "name": "stderr",
     "output_type": "stream",
     "text": [
      "/Users/mobouzaghrane/opt/anaconda3/lib/python3.7/site-packages/numpy/core/fromnumeric.py:2495: FutureWarning: Method .ptp is deprecated and will be removed in a future version. Use numpy.ptp instead.\n",
      "  return ptp(axis=axis, out=out, **kwargs)\n"
     ]
    },
    {
     "name": "stdout",
     "output_type": "stream",
     "text": [
      "Simulating Availability...\n",
      "Converting data from wide to long...\n",
      "Simulating Choices...\n"
     ]
    },
    {
     "data": {
      "application/vnd.jupyter.widget-view+json": {
       "model_id": "6f51eb8c7cbe4f298d4deeef9ef86938",
       "version_major": 2,
       "version_minor": 0
      },
      "text/plain": [
       "HBox(children=(IntProgress(value=0, description='Simulating Choices', max=3837, style=ProgressStyle(descriptio…"
      ]
     },
     "metadata": {},
     "output_type": "display_data"
    },
    {
     "name": "stdout",
     "output_type": "stream",
     "text": [
      "\n",
      "Estimating the choice model...\n"
     ]
    },
    {
     "name": "stderr",
     "output_type": "stream",
     "text": [
      "/Users/mobouzaghrane/opt/anaconda3/lib/python3.7/site-packages/scipy/optimize/_minimize.py:505: RuntimeWarning: Method BFGS does not use Hessian information (hess).\n",
      "  RuntimeWarning)\n"
     ]
    },
    {
     "name": "stdout",
     "output_type": "stream",
     "text": [
      "Estimating Causal Effects...\n",
      "Simulation number 6 is complete!\n",
      "==========================================\n",
      "==========================================\n",
      "Simulation number 7 is in progress...\n",
      "Simulation size is 3117\n",
      "------------------------------------------\n",
      "Simulating data...\n"
     ]
    },
    {
     "name": "stderr",
     "output_type": "stream",
     "text": [
      "/Users/mobouzaghrane/opt/anaconda3/lib/python3.7/site-packages/pylogit/choice_tools.py:703: FutureWarning: arrays to stack must be passed as a \"sequence\" type such as list or tuple. Support for non-sequence iterables such as generators is deprecated as of NumPy 1.16 and will raise an error in the future.\n",
      "  design_matrix = np.hstack((x[:, None] for x in independent_vars))\n",
      "/Users/mobouzaghrane/opt/anaconda3/lib/python3.7/site-packages/numpy/core/fromnumeric.py:2495: FutureWarning: Method .ptp is deprecated and will be removed in a future version. Use numpy.ptp instead.\n",
      "  return ptp(axis=axis, out=out, **kwargs)\n"
     ]
    },
    {
     "name": "stdout",
     "output_type": "stream",
     "text": [
      "Simulating Availability...\n",
      "Converting data from wide to long...\n",
      "Simulating Choices...\n"
     ]
    },
    {
     "data": {
      "application/vnd.jupyter.widget-view+json": {
       "model_id": "e912e177e3264837bfe3978aa83e265c",
       "version_major": 2,
       "version_minor": 0
      },
      "text/plain": [
       "HBox(children=(IntProgress(value=0, description='Simulating Choices', max=3117, style=ProgressStyle(descriptio…"
      ]
     },
     "metadata": {},
     "output_type": "display_data"
    },
    {
     "name": "stdout",
     "output_type": "stream",
     "text": [
      "\n",
      "Estimating the choice model...\n"
     ]
    },
    {
     "name": "stderr",
     "output_type": "stream",
     "text": [
      "/Users/mobouzaghrane/opt/anaconda3/lib/python3.7/site-packages/scipy/optimize/_minimize.py:505: RuntimeWarning: Method BFGS does not use Hessian information (hess).\n",
      "  RuntimeWarning)\n",
      "/Users/mobouzaghrane/opt/anaconda3/lib/python3.7/site-packages/pylogit/choice_tools.py:703: FutureWarning: arrays to stack must be passed as a \"sequence\" type such as list or tuple. Support for non-sequence iterables such as generators is deprecated as of NumPy 1.16 and will raise an error in the future.\n",
      "  design_matrix = np.hstack((x[:, None] for x in independent_vars))\n"
     ]
    },
    {
     "name": "stdout",
     "output_type": "stream",
     "text": [
      "Estimating Causal Effects...\n",
      "Simulation number 7 is complete!\n",
      "==========================================\n",
      "==========================================\n",
      "Simulation number 8 is in progress...\n",
      "Simulation size is 3376\n",
      "------------------------------------------\n",
      "Simulating data...\n",
      "Simulating Availability...\n"
     ]
    },
    {
     "name": "stderr",
     "output_type": "stream",
     "text": [
      "/Users/mobouzaghrane/opt/anaconda3/lib/python3.7/site-packages/numpy/core/fromnumeric.py:2495: FutureWarning: Method .ptp is deprecated and will be removed in a future version. Use numpy.ptp instead.\n",
      "  return ptp(axis=axis, out=out, **kwargs)\n"
     ]
    },
    {
     "name": "stdout",
     "output_type": "stream",
     "text": [
      "Converting data from wide to long...\n",
      "Simulating Choices...\n"
     ]
    },
    {
     "data": {
      "application/vnd.jupyter.widget-view+json": {
       "model_id": "2675ada583744c9eb434e26204ee5956",
       "version_major": 2,
       "version_minor": 0
      },
      "text/plain": [
       "HBox(children=(IntProgress(value=0, description='Simulating Choices', max=3376, style=ProgressStyle(descriptio…"
      ]
     },
     "metadata": {},
     "output_type": "display_data"
    },
    {
     "name": "stdout",
     "output_type": "stream",
     "text": [
      "\n",
      "Estimating the choice model...\n"
     ]
    },
    {
     "name": "stderr",
     "output_type": "stream",
     "text": [
      "/Users/mobouzaghrane/opt/anaconda3/lib/python3.7/site-packages/scipy/optimize/_minimize.py:505: RuntimeWarning: Method BFGS does not use Hessian information (hess).\n",
      "  RuntimeWarning)\n"
     ]
    },
    {
     "name": "stdout",
     "output_type": "stream",
     "text": [
      "Estimating Causal Effects...\n",
      "Simulation number 8 is complete!\n",
      "==========================================\n",
      "==========================================\n",
      "Simulation number 9 is in progress...\n",
      "Simulation size is 3641\n",
      "------------------------------------------\n",
      "Simulating data...\n"
     ]
    },
    {
     "name": "stderr",
     "output_type": "stream",
     "text": [
      "/Users/mobouzaghrane/opt/anaconda3/lib/python3.7/site-packages/pylogit/choice_tools.py:703: FutureWarning: arrays to stack must be passed as a \"sequence\" type such as list or tuple. Support for non-sequence iterables such as generators is deprecated as of NumPy 1.16 and will raise an error in the future.\n",
      "  design_matrix = np.hstack((x[:, None] for x in independent_vars))\n",
      "/Users/mobouzaghrane/opt/anaconda3/lib/python3.7/site-packages/numpy/core/fromnumeric.py:2495: FutureWarning: Method .ptp is deprecated and will be removed in a future version. Use numpy.ptp instead.\n",
      "  return ptp(axis=axis, out=out, **kwargs)\n"
     ]
    },
    {
     "name": "stdout",
     "output_type": "stream",
     "text": [
      "Simulating Availability...\n",
      "Converting data from wide to long...\n",
      "Simulating Choices...\n"
     ]
    },
    {
     "data": {
      "application/vnd.jupyter.widget-view+json": {
       "model_id": "e7c2cacdcc9c4f26914eb4cbd7fe1ecb",
       "version_major": 2,
       "version_minor": 0
      },
      "text/plain": [
       "HBox(children=(IntProgress(value=0, description='Simulating Choices', max=3641, style=ProgressStyle(descriptio…"
      ]
     },
     "metadata": {},
     "output_type": "display_data"
    },
    {
     "name": "stdout",
     "output_type": "stream",
     "text": [
      "\n",
      "Estimating the choice model...\n"
     ]
    },
    {
     "name": "stderr",
     "output_type": "stream",
     "text": [
      "/Users/mobouzaghrane/opt/anaconda3/lib/python3.7/site-packages/scipy/optimize/_minimize.py:505: RuntimeWarning: Method BFGS does not use Hessian information (hess).\n",
      "  RuntimeWarning)\n"
     ]
    },
    {
     "name": "stdout",
     "output_type": "stream",
     "text": [
      "Estimating Causal Effects...\n",
      "Simulation number 9 is complete!\n",
      "==========================================\n",
      "==========================================\n",
      "Simulation number 10 is in progress...\n",
      "Simulation size is 3623\n",
      "------------------------------------------\n",
      "Simulating data...\n"
     ]
    },
    {
     "name": "stderr",
     "output_type": "stream",
     "text": [
      "/Users/mobouzaghrane/opt/anaconda3/lib/python3.7/site-packages/pylogit/choice_tools.py:703: FutureWarning: arrays to stack must be passed as a \"sequence\" type such as list or tuple. Support for non-sequence iterables such as generators is deprecated as of NumPy 1.16 and will raise an error in the future.\n",
      "  design_matrix = np.hstack((x[:, None] for x in independent_vars))\n",
      "/Users/mobouzaghrane/opt/anaconda3/lib/python3.7/site-packages/numpy/core/fromnumeric.py:2495: FutureWarning: Method .ptp is deprecated and will be removed in a future version. Use numpy.ptp instead.\n",
      "  return ptp(axis=axis, out=out, **kwargs)\n"
     ]
    },
    {
     "name": "stdout",
     "output_type": "stream",
     "text": [
      "Simulating Availability...\n",
      "Converting data from wide to long...\n",
      "Simulating Choices...\n"
     ]
    },
    {
     "data": {
      "application/vnd.jupyter.widget-view+json": {
       "model_id": "ed575257b47e4c89890864beba305927",
       "version_major": 2,
       "version_minor": 0
      },
      "text/plain": [
       "HBox(children=(IntProgress(value=0, description='Simulating Choices', max=3623, style=ProgressStyle(descriptio…"
      ]
     },
     "metadata": {},
     "output_type": "display_data"
    },
    {
     "name": "stdout",
     "output_type": "stream",
     "text": [
      "\n",
      "Estimating the choice model...\n"
     ]
    },
    {
     "name": "stderr",
     "output_type": "stream",
     "text": [
      "/Users/mobouzaghrane/opt/anaconda3/lib/python3.7/site-packages/scipy/optimize/_minimize.py:505: RuntimeWarning: Method BFGS does not use Hessian information (hess).\n",
      "  RuntimeWarning)\n"
     ]
    },
    {
     "name": "stdout",
     "output_type": "stream",
     "text": [
      "Estimating Causal Effects...\n",
      "Simulation number 10 is complete!\n",
      "==========================================\n",
      "==========================================\n",
      "Simulation number 11 is in progress...\n",
      "Simulation size is 3384\n",
      "------------------------------------------\n",
      "Simulating data...\n"
     ]
    },
    {
     "name": "stderr",
     "output_type": "stream",
     "text": [
      "/Users/mobouzaghrane/opt/anaconda3/lib/python3.7/site-packages/pylogit/choice_tools.py:703: FutureWarning: arrays to stack must be passed as a \"sequence\" type such as list or tuple. Support for non-sequence iterables such as generators is deprecated as of NumPy 1.16 and will raise an error in the future.\n",
      "  design_matrix = np.hstack((x[:, None] for x in independent_vars))\n",
      "/Users/mobouzaghrane/opt/anaconda3/lib/python3.7/site-packages/numpy/core/fromnumeric.py:2495: FutureWarning: Method .ptp is deprecated and will be removed in a future version. Use numpy.ptp instead.\n",
      "  return ptp(axis=axis, out=out, **kwargs)\n"
     ]
    },
    {
     "name": "stdout",
     "output_type": "stream",
     "text": [
      "Simulating Availability...\n",
      "Converting data from wide to long...\n",
      "Simulating Choices...\n"
     ]
    },
    {
     "data": {
      "application/vnd.jupyter.widget-view+json": {
       "model_id": "2d2e4b465ecc42fba4bf0c02599c20ff",
       "version_major": 2,
       "version_minor": 0
      },
      "text/plain": [
       "HBox(children=(IntProgress(value=0, description='Simulating Choices', max=3384, style=ProgressStyle(descriptio…"
      ]
     },
     "metadata": {},
     "output_type": "display_data"
    },
    {
     "name": "stdout",
     "output_type": "stream",
     "text": [
      "\n",
      "Estimating the choice model...\n"
     ]
    },
    {
     "name": "stderr",
     "output_type": "stream",
     "text": [
      "/Users/mobouzaghrane/opt/anaconda3/lib/python3.7/site-packages/scipy/optimize/_minimize.py:505: RuntimeWarning: Method BFGS does not use Hessian information (hess).\n",
      "  RuntimeWarning)\n"
     ]
    },
    {
     "name": "stdout",
     "output_type": "stream",
     "text": [
      "Estimating Causal Effects...\n",
      "Simulation number 11 is complete!\n",
      "==========================================\n",
      "==========================================\n",
      "Simulation number 12 is in progress...\n",
      "Simulation size is 3110\n",
      "------------------------------------------\n",
      "Simulating data...\n"
     ]
    },
    {
     "name": "stderr",
     "output_type": "stream",
     "text": [
      "/Users/mobouzaghrane/opt/anaconda3/lib/python3.7/site-packages/pylogit/choice_tools.py:703: FutureWarning: arrays to stack must be passed as a \"sequence\" type such as list or tuple. Support for non-sequence iterables such as generators is deprecated as of NumPy 1.16 and will raise an error in the future.\n",
      "  design_matrix = np.hstack((x[:, None] for x in independent_vars))\n",
      "/Users/mobouzaghrane/opt/anaconda3/lib/python3.7/site-packages/numpy/core/fromnumeric.py:2495: FutureWarning: Method .ptp is deprecated and will be removed in a future version. Use numpy.ptp instead.\n",
      "  return ptp(axis=axis, out=out, **kwargs)\n"
     ]
    },
    {
     "name": "stdout",
     "output_type": "stream",
     "text": [
      "Simulating Availability...\n",
      "Converting data from wide to long...\n",
      "Simulating Choices...\n"
     ]
    },
    {
     "data": {
      "application/vnd.jupyter.widget-view+json": {
       "model_id": "3a0a8573fe9f469c9ff6365be9706a2b",
       "version_major": 2,
       "version_minor": 0
      },
      "text/plain": [
       "HBox(children=(IntProgress(value=0, description='Simulating Choices', max=3110, style=ProgressStyle(descriptio…"
      ]
     },
     "metadata": {},
     "output_type": "display_data"
    },
    {
     "name": "stdout",
     "output_type": "stream",
     "text": [
      "\n",
      "Estimating the choice model...\n"
     ]
    },
    {
     "name": "stderr",
     "output_type": "stream",
     "text": [
      "/Users/mobouzaghrane/opt/anaconda3/lib/python3.7/site-packages/scipy/optimize/_minimize.py:505: RuntimeWarning: Method BFGS does not use Hessian information (hess).\n",
      "  RuntimeWarning)\n",
      "/Users/mobouzaghrane/opt/anaconda3/lib/python3.7/site-packages/pylogit/choice_tools.py:703: FutureWarning: arrays to stack must be passed as a \"sequence\" type such as list or tuple. Support for non-sequence iterables such as generators is deprecated as of NumPy 1.16 and will raise an error in the future.\n",
      "  design_matrix = np.hstack((x[:, None] for x in independent_vars))\n"
     ]
    },
    {
     "name": "stdout",
     "output_type": "stream",
     "text": [
      "Estimating Causal Effects...\n",
      "Simulation number 12 is complete!\n",
      "==========================================\n",
      "==========================================\n",
      "Simulation number 13 is in progress...\n",
      "Simulation size is 3457\n",
      "------------------------------------------\n",
      "Simulating data...\n"
     ]
    },
    {
     "name": "stderr",
     "output_type": "stream",
     "text": [
      "/Users/mobouzaghrane/opt/anaconda3/lib/python3.7/site-packages/numpy/core/fromnumeric.py:2495: FutureWarning: Method .ptp is deprecated and will be removed in a future version. Use numpy.ptp instead.\n",
      "  return ptp(axis=axis, out=out, **kwargs)\n"
     ]
    },
    {
     "name": "stdout",
     "output_type": "stream",
     "text": [
      "Simulating Availability...\n",
      "Converting data from wide to long...\n",
      "Simulating Choices...\n"
     ]
    },
    {
     "data": {
      "application/vnd.jupyter.widget-view+json": {
       "model_id": "d907a9bf41a64ce5bea0c73abeb759a5",
       "version_major": 2,
       "version_minor": 0
      },
      "text/plain": [
       "HBox(children=(IntProgress(value=0, description='Simulating Choices', max=3457, style=ProgressStyle(descriptio…"
      ]
     },
     "metadata": {},
     "output_type": "display_data"
    },
    {
     "name": "stdout",
     "output_type": "stream",
     "text": [
      "\n",
      "Estimating the choice model...\n"
     ]
    },
    {
     "name": "stderr",
     "output_type": "stream",
     "text": [
      "/Users/mobouzaghrane/opt/anaconda3/lib/python3.7/site-packages/scipy/optimize/_minimize.py:505: RuntimeWarning: Method BFGS does not use Hessian information (hess).\n",
      "  RuntimeWarning)\n"
     ]
    },
    {
     "name": "stdout",
     "output_type": "stream",
     "text": [
      "Estimating Causal Effects...\n",
      "Simulation number 13 is complete!\n",
      "==========================================\n",
      "==========================================\n",
      "Simulation number 14 is in progress...\n",
      "Simulation size is 3129\n",
      "------------------------------------------\n",
      "Simulating data...\n"
     ]
    },
    {
     "name": "stderr",
     "output_type": "stream",
     "text": [
      "/Users/mobouzaghrane/opt/anaconda3/lib/python3.7/site-packages/pylogit/choice_tools.py:703: FutureWarning: arrays to stack must be passed as a \"sequence\" type such as list or tuple. Support for non-sequence iterables such as generators is deprecated as of NumPy 1.16 and will raise an error in the future.\n",
      "  design_matrix = np.hstack((x[:, None] for x in independent_vars))\n",
      "/Users/mobouzaghrane/opt/anaconda3/lib/python3.7/site-packages/numpy/core/fromnumeric.py:2495: FutureWarning: Method .ptp is deprecated and will be removed in a future version. Use numpy.ptp instead.\n",
      "  return ptp(axis=axis, out=out, **kwargs)\n"
     ]
    },
    {
     "name": "stdout",
     "output_type": "stream",
     "text": [
      "Simulating Availability...\n",
      "Converting data from wide to long...\n",
      "Simulating Choices...\n"
     ]
    },
    {
     "data": {
      "application/vnd.jupyter.widget-view+json": {
       "model_id": "9299161defe54d46a3063516bdc7756e",
       "version_major": 2,
       "version_minor": 0
      },
      "text/plain": [
       "HBox(children=(IntProgress(value=0, description='Simulating Choices', max=3129, style=ProgressStyle(descriptio…"
      ]
     },
     "metadata": {},
     "output_type": "display_data"
    },
    {
     "name": "stdout",
     "output_type": "stream",
     "text": [
      "\n",
      "Estimating the choice model...\n"
     ]
    },
    {
     "name": "stderr",
     "output_type": "stream",
     "text": [
      "/Users/mobouzaghrane/opt/anaconda3/lib/python3.7/site-packages/scipy/optimize/_minimize.py:505: RuntimeWarning: Method BFGS does not use Hessian information (hess).\n",
      "  RuntimeWarning)\n"
     ]
    },
    {
     "name": "stdout",
     "output_type": "stream",
     "text": [
      "Estimating Causal Effects...\n",
      "Simulation number 14 is complete!\n",
      "==========================================\n",
      "==========================================\n",
      "Simulation number 15 is in progress...\n",
      "Simulation size is 3862\n",
      "------------------------------------------\n",
      "Simulating data...\n"
     ]
    },
    {
     "name": "stderr",
     "output_type": "stream",
     "text": [
      "/Users/mobouzaghrane/opt/anaconda3/lib/python3.7/site-packages/pylogit/choice_tools.py:703: FutureWarning: arrays to stack must be passed as a \"sequence\" type such as list or tuple. Support for non-sequence iterables such as generators is deprecated as of NumPy 1.16 and will raise an error in the future.\n",
      "  design_matrix = np.hstack((x[:, None] for x in independent_vars))\n",
      "/Users/mobouzaghrane/opt/anaconda3/lib/python3.7/site-packages/numpy/core/fromnumeric.py:2495: FutureWarning: Method .ptp is deprecated and will be removed in a future version. Use numpy.ptp instead.\n",
      "  return ptp(axis=axis, out=out, **kwargs)\n"
     ]
    },
    {
     "name": "stdout",
     "output_type": "stream",
     "text": [
      "Simulating Availability...\n",
      "Converting data from wide to long...\n",
      "Simulating Choices...\n"
     ]
    },
    {
     "data": {
      "application/vnd.jupyter.widget-view+json": {
       "model_id": "f370cd85749e4ee393622f05fa0de7d7",
       "version_major": 2,
       "version_minor": 0
      },
      "text/plain": [
       "HBox(children=(IntProgress(value=0, description='Simulating Choices', max=3862, style=ProgressStyle(descriptio…"
      ]
     },
     "metadata": {},
     "output_type": "display_data"
    },
    {
     "name": "stdout",
     "output_type": "stream",
     "text": [
      "\n",
      "Estimating the choice model...\n"
     ]
    },
    {
     "name": "stderr",
     "output_type": "stream",
     "text": [
      "/Users/mobouzaghrane/opt/anaconda3/lib/python3.7/site-packages/scipy/optimize/_minimize.py:505: RuntimeWarning: Method BFGS does not use Hessian information (hess).\n",
      "  RuntimeWarning)\n"
     ]
    },
    {
     "name": "stdout",
     "output_type": "stream",
     "text": [
      "Estimating Causal Effects...\n",
      "Simulation number 15 is complete!\n",
      "==========================================\n",
      "==========================================\n",
      "Simulation number 16 is in progress...\n",
      "Simulation size is 3493\n",
      "------------------------------------------\n",
      "Simulating data...\n"
     ]
    },
    {
     "name": "stderr",
     "output_type": "stream",
     "text": [
      "/Users/mobouzaghrane/opt/anaconda3/lib/python3.7/site-packages/pylogit/choice_tools.py:703: FutureWarning: arrays to stack must be passed as a \"sequence\" type such as list or tuple. Support for non-sequence iterables such as generators is deprecated as of NumPy 1.16 and will raise an error in the future.\n",
      "  design_matrix = np.hstack((x[:, None] for x in independent_vars))\n",
      "/Users/mobouzaghrane/opt/anaconda3/lib/python3.7/site-packages/numpy/core/fromnumeric.py:2495: FutureWarning: Method .ptp is deprecated and will be removed in a future version. Use numpy.ptp instead.\n",
      "  return ptp(axis=axis, out=out, **kwargs)\n"
     ]
    },
    {
     "name": "stdout",
     "output_type": "stream",
     "text": [
      "Simulating Availability...\n",
      "Converting data from wide to long...\n",
      "Simulating Choices...\n"
     ]
    },
    {
     "data": {
      "application/vnd.jupyter.widget-view+json": {
       "model_id": "5d1800fb14a745cf992bee69edb358ba",
       "version_major": 2,
       "version_minor": 0
      },
      "text/plain": [
       "HBox(children=(IntProgress(value=0, description='Simulating Choices', max=3493, style=ProgressStyle(descriptio…"
      ]
     },
     "metadata": {},
     "output_type": "display_data"
    },
    {
     "name": "stdout",
     "output_type": "stream",
     "text": [
      "\n",
      "Estimating the choice model...\n"
     ]
    },
    {
     "name": "stderr",
     "output_type": "stream",
     "text": [
      "/Users/mobouzaghrane/opt/anaconda3/lib/python3.7/site-packages/scipy/optimize/_minimize.py:505: RuntimeWarning: Method BFGS does not use Hessian information (hess).\n",
      "  RuntimeWarning)\n"
     ]
    },
    {
     "name": "stdout",
     "output_type": "stream",
     "text": [
      "Estimating Causal Effects...\n",
      "Simulation number 16 is complete!\n",
      "==========================================\n",
      "==========================================\n",
      "Simulation number 17 is in progress...\n",
      "Simulation size is 3434\n",
      "------------------------------------------\n",
      "Simulating data...\n"
     ]
    },
    {
     "name": "stderr",
     "output_type": "stream",
     "text": [
      "/Users/mobouzaghrane/opt/anaconda3/lib/python3.7/site-packages/pylogit/choice_tools.py:703: FutureWarning: arrays to stack must be passed as a \"sequence\" type such as list or tuple. Support for non-sequence iterables such as generators is deprecated as of NumPy 1.16 and will raise an error in the future.\n",
      "  design_matrix = np.hstack((x[:, None] for x in independent_vars))\n",
      "/Users/mobouzaghrane/opt/anaconda3/lib/python3.7/site-packages/numpy/core/fromnumeric.py:2495: FutureWarning: Method .ptp is deprecated and will be removed in a future version. Use numpy.ptp instead.\n",
      "  return ptp(axis=axis, out=out, **kwargs)\n"
     ]
    },
    {
     "name": "stdout",
     "output_type": "stream",
     "text": [
      "Simulating Availability...\n",
      "Converting data from wide to long...\n",
      "Simulating Choices...\n"
     ]
    },
    {
     "data": {
      "application/vnd.jupyter.widget-view+json": {
       "model_id": "322673c7b3894953b7414ab5f5b94f62",
       "version_major": 2,
       "version_minor": 0
      },
      "text/plain": [
       "HBox(children=(IntProgress(value=0, description='Simulating Choices', max=3434, style=ProgressStyle(descriptio…"
      ]
     },
     "metadata": {},
     "output_type": "display_data"
    },
    {
     "name": "stdout",
     "output_type": "stream",
     "text": [
      "\n",
      "Estimating the choice model...\n"
     ]
    },
    {
     "name": "stderr",
     "output_type": "stream",
     "text": [
      "/Users/mobouzaghrane/opt/anaconda3/lib/python3.7/site-packages/scipy/optimize/_minimize.py:505: RuntimeWarning: Method BFGS does not use Hessian information (hess).\n",
      "  RuntimeWarning)\n"
     ]
    },
    {
     "name": "stdout",
     "output_type": "stream",
     "text": [
      "Estimating Causal Effects...\n",
      "Simulation number 17 is complete!\n",
      "==========================================\n",
      "==========================================\n",
      "Simulation number 18 is in progress...\n",
      "Simulation size is 3372\n",
      "------------------------------------------\n",
      "Simulating data...\n"
     ]
    },
    {
     "name": "stderr",
     "output_type": "stream",
     "text": [
      "/Users/mobouzaghrane/opt/anaconda3/lib/python3.7/site-packages/pylogit/choice_tools.py:703: FutureWarning: arrays to stack must be passed as a \"sequence\" type such as list or tuple. Support for non-sequence iterables such as generators is deprecated as of NumPy 1.16 and will raise an error in the future.\n",
      "  design_matrix = np.hstack((x[:, None] for x in independent_vars))\n",
      "/Users/mobouzaghrane/opt/anaconda3/lib/python3.7/site-packages/numpy/core/fromnumeric.py:2495: FutureWarning: Method .ptp is deprecated and will be removed in a future version. Use numpy.ptp instead.\n",
      "  return ptp(axis=axis, out=out, **kwargs)\n"
     ]
    },
    {
     "name": "stdout",
     "output_type": "stream",
     "text": [
      "Simulating Availability...\n",
      "Converting data from wide to long...\n",
      "Simulating Choices...\n"
     ]
    },
    {
     "data": {
      "application/vnd.jupyter.widget-view+json": {
       "model_id": "d0baeb9069f94e1bb1b5fb5e1ae784c4",
       "version_major": 2,
       "version_minor": 0
      },
      "text/plain": [
       "HBox(children=(IntProgress(value=0, description='Simulating Choices', max=3372, style=ProgressStyle(descriptio…"
      ]
     },
     "metadata": {},
     "output_type": "display_data"
    },
    {
     "name": "stdout",
     "output_type": "stream",
     "text": [
      "\n",
      "Estimating the choice model...\n"
     ]
    },
    {
     "name": "stderr",
     "output_type": "stream",
     "text": [
      "/Users/mobouzaghrane/opt/anaconda3/lib/python3.7/site-packages/scipy/optimize/_minimize.py:505: RuntimeWarning: Method BFGS does not use Hessian information (hess).\n",
      "  RuntimeWarning)\n",
      "/Users/mobouzaghrane/opt/anaconda3/lib/python3.7/site-packages/pylogit/choice_tools.py:703: FutureWarning: arrays to stack must be passed as a \"sequence\" type such as list or tuple. Support for non-sequence iterables such as generators is deprecated as of NumPy 1.16 and will raise an error in the future.\n",
      "  design_matrix = np.hstack((x[:, None] for x in independent_vars))\n"
     ]
    },
    {
     "name": "stdout",
     "output_type": "stream",
     "text": [
      "Estimating Causal Effects...\n",
      "Simulation number 18 is complete!\n",
      "==========================================\n",
      "==========================================\n",
      "Simulation number 19 is in progress...\n",
      "Simulation size is 3334\n",
      "------------------------------------------\n",
      "Simulating data...\n"
     ]
    },
    {
     "name": "stderr",
     "output_type": "stream",
     "text": [
      "/Users/mobouzaghrane/opt/anaconda3/lib/python3.7/site-packages/numpy/core/fromnumeric.py:2495: FutureWarning: Method .ptp is deprecated and will be removed in a future version. Use numpy.ptp instead.\n",
      "  return ptp(axis=axis, out=out, **kwargs)\n"
     ]
    },
    {
     "name": "stdout",
     "output_type": "stream",
     "text": [
      "Simulating Availability...\n",
      "Converting data from wide to long...\n",
      "Simulating Choices...\n"
     ]
    },
    {
     "data": {
      "application/vnd.jupyter.widget-view+json": {
       "model_id": "25077013edc04514a32bbcdb34b18b8f",
       "version_major": 2,
       "version_minor": 0
      },
      "text/plain": [
       "HBox(children=(IntProgress(value=0, description='Simulating Choices', max=3334, style=ProgressStyle(descriptio…"
      ]
     },
     "metadata": {},
     "output_type": "display_data"
    },
    {
     "name": "stdout",
     "output_type": "stream",
     "text": [
      "\n",
      "Estimating the choice model...\n"
     ]
    },
    {
     "name": "stderr",
     "output_type": "stream",
     "text": [
      "/Users/mobouzaghrane/opt/anaconda3/lib/python3.7/site-packages/scipy/optimize/_minimize.py:505: RuntimeWarning: Method BFGS does not use Hessian information (hess).\n",
      "  RuntimeWarning)\n",
      "/Users/mobouzaghrane/opt/anaconda3/lib/python3.7/site-packages/pylogit/choice_tools.py:703: FutureWarning: arrays to stack must be passed as a \"sequence\" type such as list or tuple. Support for non-sequence iterables such as generators is deprecated as of NumPy 1.16 and will raise an error in the future.\n",
      "  design_matrix = np.hstack((x[:, None] for x in independent_vars))\n"
     ]
    },
    {
     "name": "stdout",
     "output_type": "stream",
     "text": [
      "Estimating Causal Effects...\n",
      "Simulation number 19 is complete!\n",
      "==========================================\n",
      "==========================================\n",
      "Simulation number 20 is in progress...\n",
      "Simulation size is 3818\n",
      "------------------------------------------\n",
      "Simulating data...\n"
     ]
    },
    {
     "name": "stderr",
     "output_type": "stream",
     "text": [
      "/Users/mobouzaghrane/opt/anaconda3/lib/python3.7/site-packages/numpy/core/fromnumeric.py:2495: FutureWarning: Method .ptp is deprecated and will be removed in a future version. Use numpy.ptp instead.\n",
      "  return ptp(axis=axis, out=out, **kwargs)\n"
     ]
    },
    {
     "name": "stdout",
     "output_type": "stream",
     "text": [
      "Simulating Availability...\n",
      "Converting data from wide to long...\n",
      "Simulating Choices...\n"
     ]
    },
    {
     "data": {
      "application/vnd.jupyter.widget-view+json": {
       "model_id": "49ef31419b70467091684082f33d4fcc",
       "version_major": 2,
       "version_minor": 0
      },
      "text/plain": [
       "HBox(children=(IntProgress(value=0, description='Simulating Choices', max=3818, style=ProgressStyle(descriptio…"
      ]
     },
     "metadata": {},
     "output_type": "display_data"
    },
    {
     "name": "stdout",
     "output_type": "stream",
     "text": [
      "\n",
      "Estimating the choice model...\n"
     ]
    },
    {
     "name": "stderr",
     "output_type": "stream",
     "text": [
      "/Users/mobouzaghrane/opt/anaconda3/lib/python3.7/site-packages/scipy/optimize/_minimize.py:505: RuntimeWarning: Method BFGS does not use Hessian information (hess).\n",
      "  RuntimeWarning)\n"
     ]
    },
    {
     "name": "stdout",
     "output_type": "stream",
     "text": [
      "Estimating Causal Effects...\n"
     ]
    },
    {
     "name": "stderr",
     "output_type": "stream",
     "text": [
      "/Users/mobouzaghrane/opt/anaconda3/lib/python3.7/site-packages/pylogit/choice_tools.py:703: FutureWarning: arrays to stack must be passed as a \"sequence\" type such as list or tuple. Support for non-sequence iterables such as generators is deprecated as of NumPy 1.16 and will raise an error in the future.\n",
      "  design_matrix = np.hstack((x[:, None] for x in independent_vars))\n",
      "/Users/mobouzaghrane/opt/anaconda3/lib/python3.7/site-packages/numpy/core/fromnumeric.py:2495: FutureWarning: Method .ptp is deprecated and will be removed in a future version. Use numpy.ptp instead.\n",
      "  return ptp(axis=axis, out=out, **kwargs)\n"
     ]
    },
    {
     "name": "stdout",
     "output_type": "stream",
     "text": [
      "Simulation number 20 is complete!\n",
      "==========================================\n",
      "==========================================\n",
      "Simulation number 21 is in progress...\n",
      "Simulation size is 3893\n",
      "------------------------------------------\n",
      "Simulating data...\n",
      "Simulating Availability...\n",
      "Converting data from wide to long...\n",
      "Simulating Choices...\n"
     ]
    },
    {
     "data": {
      "application/vnd.jupyter.widget-view+json": {
       "model_id": "258837e8b8d44d019e48834b0db8f619",
       "version_major": 2,
       "version_minor": 0
      },
      "text/plain": [
       "HBox(children=(IntProgress(value=0, description='Simulating Choices', max=3893, style=ProgressStyle(descriptio…"
      ]
     },
     "metadata": {},
     "output_type": "display_data"
    },
    {
     "name": "stdout",
     "output_type": "stream",
     "text": [
      "\n",
      "Estimating the choice model...\n"
     ]
    },
    {
     "name": "stderr",
     "output_type": "stream",
     "text": [
      "/Users/mobouzaghrane/opt/anaconda3/lib/python3.7/site-packages/scipy/optimize/_minimize.py:505: RuntimeWarning: Method BFGS does not use Hessian information (hess).\n",
      "  RuntimeWarning)\n"
     ]
    },
    {
     "name": "stdout",
     "output_type": "stream",
     "text": [
      "Estimating Causal Effects...\n",
      "Simulation number 21 is complete!\n",
      "==========================================\n",
      "==========================================\n",
      "Simulation number 22 is in progress...\n",
      "Simulation size is 3371\n",
      "------------------------------------------\n",
      "Simulating data...\n"
     ]
    },
    {
     "name": "stderr",
     "output_type": "stream",
     "text": [
      "/Users/mobouzaghrane/opt/anaconda3/lib/python3.7/site-packages/pylogit/choice_tools.py:703: FutureWarning: arrays to stack must be passed as a \"sequence\" type such as list or tuple. Support for non-sequence iterables such as generators is deprecated as of NumPy 1.16 and will raise an error in the future.\n",
      "  design_matrix = np.hstack((x[:, None] for x in independent_vars))\n",
      "/Users/mobouzaghrane/opt/anaconda3/lib/python3.7/site-packages/numpy/core/fromnumeric.py:2495: FutureWarning: Method .ptp is deprecated and will be removed in a future version. Use numpy.ptp instead.\n",
      "  return ptp(axis=axis, out=out, **kwargs)\n"
     ]
    },
    {
     "name": "stdout",
     "output_type": "stream",
     "text": [
      "Simulating Availability...\n",
      "Converting data from wide to long...\n",
      "Simulating Choices...\n"
     ]
    },
    {
     "data": {
      "application/vnd.jupyter.widget-view+json": {
       "model_id": "cecc2b78d0f743b9a5b02567d23e6b4c",
       "version_major": 2,
       "version_minor": 0
      },
      "text/plain": [
       "HBox(children=(IntProgress(value=0, description='Simulating Choices', max=3371, style=ProgressStyle(descriptio…"
      ]
     },
     "metadata": {},
     "output_type": "display_data"
    },
    {
     "name": "stdout",
     "output_type": "stream",
     "text": [
      "\n",
      "Estimating the choice model...\n"
     ]
    },
    {
     "name": "stderr",
     "output_type": "stream",
     "text": [
      "/Users/mobouzaghrane/opt/anaconda3/lib/python3.7/site-packages/scipy/optimize/_minimize.py:505: RuntimeWarning: Method BFGS does not use Hessian information (hess).\n",
      "  RuntimeWarning)\n",
      "/Users/mobouzaghrane/opt/anaconda3/lib/python3.7/site-packages/pylogit/choice_tools.py:703: FutureWarning: arrays to stack must be passed as a \"sequence\" type such as list or tuple. Support for non-sequence iterables such as generators is deprecated as of NumPy 1.16 and will raise an error in the future.\n",
      "  design_matrix = np.hstack((x[:, None] for x in independent_vars))\n"
     ]
    },
    {
     "name": "stdout",
     "output_type": "stream",
     "text": [
      "Estimating Causal Effects...\n",
      "Simulation number 22 is complete!\n",
      "==========================================\n",
      "==========================================\n",
      "Simulation number 23 is in progress...\n",
      "Simulation size is 3742\n",
      "------------------------------------------\n",
      "Simulating data...\n"
     ]
    },
    {
     "name": "stderr",
     "output_type": "stream",
     "text": [
      "/Users/mobouzaghrane/opt/anaconda3/lib/python3.7/site-packages/numpy/core/fromnumeric.py:2495: FutureWarning: Method .ptp is deprecated and will be removed in a future version. Use numpy.ptp instead.\n",
      "  return ptp(axis=axis, out=out, **kwargs)\n"
     ]
    },
    {
     "name": "stdout",
     "output_type": "stream",
     "text": [
      "Simulating Availability...\n",
      "Converting data from wide to long...\n",
      "Simulating Choices...\n"
     ]
    },
    {
     "data": {
      "application/vnd.jupyter.widget-view+json": {
       "model_id": "a41f7e280a7d49fe91a1d23f10cc8d12",
       "version_major": 2,
       "version_minor": 0
      },
      "text/plain": [
       "HBox(children=(IntProgress(value=0, description='Simulating Choices', max=3742, style=ProgressStyle(descriptio…"
      ]
     },
     "metadata": {},
     "output_type": "display_data"
    },
    {
     "name": "stdout",
     "output_type": "stream",
     "text": [
      "\n",
      "Estimating the choice model...\n"
     ]
    },
    {
     "name": "stderr",
     "output_type": "stream",
     "text": [
      "/Users/mobouzaghrane/opt/anaconda3/lib/python3.7/site-packages/scipy/optimize/_minimize.py:505: RuntimeWarning: Method BFGS does not use Hessian information (hess).\n",
      "  RuntimeWarning)\n"
     ]
    },
    {
     "name": "stdout",
     "output_type": "stream",
     "text": [
      "Estimating Causal Effects...\n",
      "Simulation number 23 is complete!\n",
      "==========================================\n",
      "==========================================\n",
      "Simulation number 24 is in progress...\n",
      "Simulation size is 3424\n",
      "------------------------------------------\n",
      "Simulating data...\n"
     ]
    },
    {
     "name": "stderr",
     "output_type": "stream",
     "text": [
      "/Users/mobouzaghrane/opt/anaconda3/lib/python3.7/site-packages/pylogit/choice_tools.py:703: FutureWarning: arrays to stack must be passed as a \"sequence\" type such as list or tuple. Support for non-sequence iterables such as generators is deprecated as of NumPy 1.16 and will raise an error in the future.\n",
      "  design_matrix = np.hstack((x[:, None] for x in independent_vars))\n",
      "/Users/mobouzaghrane/opt/anaconda3/lib/python3.7/site-packages/numpy/core/fromnumeric.py:2495: FutureWarning: Method .ptp is deprecated and will be removed in a future version. Use numpy.ptp instead.\n",
      "  return ptp(axis=axis, out=out, **kwargs)\n"
     ]
    },
    {
     "name": "stdout",
     "output_type": "stream",
     "text": [
      "Simulating Availability...\n",
      "Converting data from wide to long...\n",
      "Simulating Choices...\n"
     ]
    },
    {
     "data": {
      "application/vnd.jupyter.widget-view+json": {
       "model_id": "8855fa0a9d624914bad5f317d3ce6cea",
       "version_major": 2,
       "version_minor": 0
      },
      "text/plain": [
       "HBox(children=(IntProgress(value=0, description='Simulating Choices', max=3424, style=ProgressStyle(descriptio…"
      ]
     },
     "metadata": {},
     "output_type": "display_data"
    },
    {
     "name": "stdout",
     "output_type": "stream",
     "text": [
      "\n",
      "Estimating the choice model...\n"
     ]
    },
    {
     "name": "stderr",
     "output_type": "stream",
     "text": [
      "/Users/mobouzaghrane/opt/anaconda3/lib/python3.7/site-packages/scipy/optimize/_minimize.py:505: RuntimeWarning: Method BFGS does not use Hessian information (hess).\n",
      "  RuntimeWarning)\n",
      "/Users/mobouzaghrane/opt/anaconda3/lib/python3.7/site-packages/pylogit/choice_tools.py:703: FutureWarning: arrays to stack must be passed as a \"sequence\" type such as list or tuple. Support for non-sequence iterables such as generators is deprecated as of NumPy 1.16 and will raise an error in the future.\n",
      "  design_matrix = np.hstack((x[:, None] for x in independent_vars))\n"
     ]
    },
    {
     "name": "stdout",
     "output_type": "stream",
     "text": [
      "Estimating Causal Effects...\n",
      "Simulation number 24 is complete!\n",
      "==========================================\n",
      "==========================================\n",
      "Simulation number 25 is in progress...\n",
      "Simulation size is 3959\n",
      "------------------------------------------\n",
      "Simulating data...\n"
     ]
    },
    {
     "name": "stderr",
     "output_type": "stream",
     "text": [
      "/Users/mobouzaghrane/opt/anaconda3/lib/python3.7/site-packages/numpy/core/fromnumeric.py:2495: FutureWarning: Method .ptp is deprecated and will be removed in a future version. Use numpy.ptp instead.\n",
      "  return ptp(axis=axis, out=out, **kwargs)\n"
     ]
    },
    {
     "name": "stdout",
     "output_type": "stream",
     "text": [
      "Simulating Availability...\n",
      "Converting data from wide to long...\n",
      "Simulating Choices...\n"
     ]
    },
    {
     "data": {
      "application/vnd.jupyter.widget-view+json": {
       "model_id": "e29725e79bef45778601b254c8bb8992",
       "version_major": 2,
       "version_minor": 0
      },
      "text/plain": [
       "HBox(children=(IntProgress(value=0, description='Simulating Choices', max=3959, style=ProgressStyle(descriptio…"
      ]
     },
     "metadata": {},
     "output_type": "display_data"
    },
    {
     "name": "stdout",
     "output_type": "stream",
     "text": [
      "\n",
      "Estimating the choice model...\n"
     ]
    },
    {
     "name": "stderr",
     "output_type": "stream",
     "text": [
      "/Users/mobouzaghrane/opt/anaconda3/lib/python3.7/site-packages/scipy/optimize/_minimize.py:505: RuntimeWarning: Method BFGS does not use Hessian information (hess).\n",
      "  RuntimeWarning)\n"
     ]
    },
    {
     "name": "stdout",
     "output_type": "stream",
     "text": [
      "Estimating Causal Effects...\n",
      "Simulation number 25 is complete!\n",
      "==========================================\n",
      "==========================================\n",
      "Simulation number 26 is in progress...\n",
      "Simulation size is 3016\n",
      "------------------------------------------\n",
      "Simulating data...\n"
     ]
    },
    {
     "name": "stderr",
     "output_type": "stream",
     "text": [
      "/Users/mobouzaghrane/opt/anaconda3/lib/python3.7/site-packages/pylogit/choice_tools.py:703: FutureWarning: arrays to stack must be passed as a \"sequence\" type such as list or tuple. Support for non-sequence iterables such as generators is deprecated as of NumPy 1.16 and will raise an error in the future.\n",
      "  design_matrix = np.hstack((x[:, None] for x in independent_vars))\n",
      "/Users/mobouzaghrane/opt/anaconda3/lib/python3.7/site-packages/numpy/core/fromnumeric.py:2495: FutureWarning: Method .ptp is deprecated and will be removed in a future version. Use numpy.ptp instead.\n",
      "  return ptp(axis=axis, out=out, **kwargs)\n"
     ]
    },
    {
     "name": "stdout",
     "output_type": "stream",
     "text": [
      "Simulating Availability...\n",
      "Converting data from wide to long...\n",
      "Simulating Choices...\n"
     ]
    },
    {
     "data": {
      "application/vnd.jupyter.widget-view+json": {
       "model_id": "57a34f07e11c41218e5ab50831f341f3",
       "version_major": 2,
       "version_minor": 0
      },
      "text/plain": [
       "HBox(children=(IntProgress(value=0, description='Simulating Choices', max=3016, style=ProgressStyle(descriptio…"
      ]
     },
     "metadata": {},
     "output_type": "display_data"
    },
    {
     "name": "stdout",
     "output_type": "stream",
     "text": [
      "\n",
      "Estimating the choice model...\n"
     ]
    },
    {
     "name": "stderr",
     "output_type": "stream",
     "text": [
      "/Users/mobouzaghrane/opt/anaconda3/lib/python3.7/site-packages/scipy/optimize/_minimize.py:505: RuntimeWarning: Method BFGS does not use Hessian information (hess).\n",
      "  RuntimeWarning)\n",
      "/Users/mobouzaghrane/opt/anaconda3/lib/python3.7/site-packages/pylogit/choice_tools.py:703: FutureWarning: arrays to stack must be passed as a \"sequence\" type such as list or tuple. Support for non-sequence iterables such as generators is deprecated as of NumPy 1.16 and will raise an error in the future.\n",
      "  design_matrix = np.hstack((x[:, None] for x in independent_vars))\n"
     ]
    },
    {
     "name": "stdout",
     "output_type": "stream",
     "text": [
      "Estimating Causal Effects...\n",
      "Simulation number 26 is complete!\n",
      "==========================================\n",
      "==========================================\n",
      "Simulation number 27 is in progress...\n",
      "Simulation size is 3111\n",
      "------------------------------------------\n",
      "Simulating data...\n",
      "Simulating Availability...\n"
     ]
    },
    {
     "name": "stderr",
     "output_type": "stream",
     "text": [
      "/Users/mobouzaghrane/opt/anaconda3/lib/python3.7/site-packages/numpy/core/fromnumeric.py:2495: FutureWarning: Method .ptp is deprecated and will be removed in a future version. Use numpy.ptp instead.\n",
      "  return ptp(axis=axis, out=out, **kwargs)\n"
     ]
    },
    {
     "name": "stdout",
     "output_type": "stream",
     "text": [
      "Converting data from wide to long...\n",
      "Simulating Choices...\n"
     ]
    },
    {
     "data": {
      "application/vnd.jupyter.widget-view+json": {
       "model_id": "6c2a03dee3e54fb5a6082260bce27bad",
       "version_major": 2,
       "version_minor": 0
      },
      "text/plain": [
       "HBox(children=(IntProgress(value=0, description='Simulating Choices', max=3111, style=ProgressStyle(descriptio…"
      ]
     },
     "metadata": {},
     "output_type": "display_data"
    },
    {
     "name": "stdout",
     "output_type": "stream",
     "text": [
      "\n",
      "Estimating the choice model...\n"
     ]
    },
    {
     "name": "stderr",
     "output_type": "stream",
     "text": [
      "/Users/mobouzaghrane/opt/anaconda3/lib/python3.7/site-packages/scipy/optimize/_minimize.py:505: RuntimeWarning: Method BFGS does not use Hessian information (hess).\n",
      "  RuntimeWarning)\n",
      "/Users/mobouzaghrane/opt/anaconda3/lib/python3.7/site-packages/pylogit/choice_tools.py:703: FutureWarning: arrays to stack must be passed as a \"sequence\" type such as list or tuple. Support for non-sequence iterables such as generators is deprecated as of NumPy 1.16 and will raise an error in the future.\n",
      "  design_matrix = np.hstack((x[:, None] for x in independent_vars))\n"
     ]
    },
    {
     "name": "stdout",
     "output_type": "stream",
     "text": [
      "Estimating Causal Effects...\n",
      "Simulation number 27 is complete!\n",
      "==========================================\n",
      "==========================================\n",
      "Simulation number 28 is in progress...\n",
      "Simulation size is 3212\n",
      "------------------------------------------\n",
      "Simulating data...\n",
      "Simulating Availability...\n"
     ]
    },
    {
     "name": "stderr",
     "output_type": "stream",
     "text": [
      "/Users/mobouzaghrane/opt/anaconda3/lib/python3.7/site-packages/numpy/core/fromnumeric.py:2495: FutureWarning: Method .ptp is deprecated and will be removed in a future version. Use numpy.ptp instead.\n",
      "  return ptp(axis=axis, out=out, **kwargs)\n"
     ]
    },
    {
     "name": "stdout",
     "output_type": "stream",
     "text": [
      "Converting data from wide to long...\n",
      "Simulating Choices...\n"
     ]
    },
    {
     "data": {
      "application/vnd.jupyter.widget-view+json": {
       "model_id": "1b4f7cc074d2410d83b674103aebac20",
       "version_major": 2,
       "version_minor": 0
      },
      "text/plain": [
       "HBox(children=(IntProgress(value=0, description='Simulating Choices', max=3212, style=ProgressStyle(descriptio…"
      ]
     },
     "metadata": {},
     "output_type": "display_data"
    },
    {
     "name": "stdout",
     "output_type": "stream",
     "text": [
      "\n",
      "Estimating the choice model...\n"
     ]
    },
    {
     "name": "stderr",
     "output_type": "stream",
     "text": [
      "/Users/mobouzaghrane/opt/anaconda3/lib/python3.7/site-packages/scipy/optimize/_minimize.py:505: RuntimeWarning: Method BFGS does not use Hessian information (hess).\n",
      "  RuntimeWarning)\n",
      "/Users/mobouzaghrane/opt/anaconda3/lib/python3.7/site-packages/pylogit/choice_tools.py:703: FutureWarning: arrays to stack must be passed as a \"sequence\" type such as list or tuple. Support for non-sequence iterables such as generators is deprecated as of NumPy 1.16 and will raise an error in the future.\n",
      "  design_matrix = np.hstack((x[:, None] for x in independent_vars))\n"
     ]
    },
    {
     "name": "stdout",
     "output_type": "stream",
     "text": [
      "Estimating Causal Effects...\n",
      "Simulation number 28 is complete!\n",
      "==========================================\n",
      "==========================================\n",
      "Simulation number 29 is in progress...\n",
      "Simulation size is 3549\n",
      "------------------------------------------\n",
      "Simulating data...\n"
     ]
    },
    {
     "name": "stderr",
     "output_type": "stream",
     "text": [
      "/Users/mobouzaghrane/opt/anaconda3/lib/python3.7/site-packages/numpy/core/fromnumeric.py:2495: FutureWarning: Method .ptp is deprecated and will be removed in a future version. Use numpy.ptp instead.\n",
      "  return ptp(axis=axis, out=out, **kwargs)\n"
     ]
    },
    {
     "name": "stdout",
     "output_type": "stream",
     "text": [
      "Simulating Availability...\n",
      "Converting data from wide to long...\n",
      "Simulating Choices...\n"
     ]
    },
    {
     "data": {
      "application/vnd.jupyter.widget-view+json": {
       "model_id": "8c12ad7967164eb2aa4ad6113e868ce9",
       "version_major": 2,
       "version_minor": 0
      },
      "text/plain": [
       "HBox(children=(IntProgress(value=0, description='Simulating Choices', max=3549, style=ProgressStyle(descriptio…"
      ]
     },
     "metadata": {},
     "output_type": "display_data"
    },
    {
     "name": "stdout",
     "output_type": "stream",
     "text": [
      "\n",
      "Estimating the choice model...\n"
     ]
    },
    {
     "name": "stderr",
     "output_type": "stream",
     "text": [
      "/Users/mobouzaghrane/opt/anaconda3/lib/python3.7/site-packages/scipy/optimize/_minimize.py:505: RuntimeWarning: Method BFGS does not use Hessian information (hess).\n",
      "  RuntimeWarning)\n"
     ]
    },
    {
     "name": "stdout",
     "output_type": "stream",
     "text": [
      "Estimating Causal Effects...\n",
      "Simulation number 29 is complete!\n",
      "==========================================\n",
      "==========================================\n",
      "Simulation number 30 is in progress...\n",
      "Simulation size is 3344\n",
      "------------------------------------------\n",
      "Simulating data...\n"
     ]
    },
    {
     "name": "stderr",
     "output_type": "stream",
     "text": [
      "/Users/mobouzaghrane/opt/anaconda3/lib/python3.7/site-packages/pylogit/choice_tools.py:703: FutureWarning: arrays to stack must be passed as a \"sequence\" type such as list or tuple. Support for non-sequence iterables such as generators is deprecated as of NumPy 1.16 and will raise an error in the future.\n",
      "  design_matrix = np.hstack((x[:, None] for x in independent_vars))\n",
      "/Users/mobouzaghrane/opt/anaconda3/lib/python3.7/site-packages/numpy/core/fromnumeric.py:2495: FutureWarning: Method .ptp is deprecated and will be removed in a future version. Use numpy.ptp instead.\n",
      "  return ptp(axis=axis, out=out, **kwargs)\n"
     ]
    },
    {
     "name": "stdout",
     "output_type": "stream",
     "text": [
      "Simulating Availability...\n",
      "Converting data from wide to long...\n",
      "Simulating Choices...\n"
     ]
    },
    {
     "data": {
      "application/vnd.jupyter.widget-view+json": {
       "model_id": "167c81ee2eda43e9aacaed333d3266b7",
       "version_major": 2,
       "version_minor": 0
      },
      "text/plain": [
       "HBox(children=(IntProgress(value=0, description='Simulating Choices', max=3344, style=ProgressStyle(descriptio…"
      ]
     },
     "metadata": {},
     "output_type": "display_data"
    },
    {
     "name": "stdout",
     "output_type": "stream",
     "text": [
      "\n",
      "Estimating the choice model...\n"
     ]
    },
    {
     "name": "stderr",
     "output_type": "stream",
     "text": [
      "/Users/mobouzaghrane/opt/anaconda3/lib/python3.7/site-packages/scipy/optimize/_minimize.py:505: RuntimeWarning: Method BFGS does not use Hessian information (hess).\n",
      "  RuntimeWarning)\n",
      "/Users/mobouzaghrane/opt/anaconda3/lib/python3.7/site-packages/pylogit/choice_tools.py:703: FutureWarning: arrays to stack must be passed as a \"sequence\" type such as list or tuple. Support for non-sequence iterables such as generators is deprecated as of NumPy 1.16 and will raise an error in the future.\n",
      "  design_matrix = np.hstack((x[:, None] for x in independent_vars))\n"
     ]
    },
    {
     "name": "stdout",
     "output_type": "stream",
     "text": [
      "Estimating Causal Effects...\n",
      "Simulation number 30 is complete!\n",
      "==========================================\n",
      "==========================================\n"
     ]
    },
    {
     "name": "stderr",
     "output_type": "stream",
     "text": [
      "/Users/mobouzaghrane/opt/anaconda3/lib/python3.7/site-packages/numpy/core/fromnumeric.py:2495: FutureWarning: Method .ptp is deprecated and will be removed in a future version. Use numpy.ptp instead.\n",
      "  return ptp(axis=axis, out=out, **kwargs)\n"
     ]
    }
   ],
   "source": [
    "for sim_size, number in zip(simulation_sizes, sim_number):\n",
    "    print('Simulation number', number, 'is in progress...')\n",
    "    print('Simulation size is', sim_size)\n",
    "    print('------------------------------------------')\n",
    "    print('Simulating data...')\n",
    "    # Simulate data without parents\n",
    "    sim_bike_data_no_parent = sim.sim_node_no_parent(params_dict=bike_data_params,\n",
    "                                                     size=sim_size)\n",
    "\n",
    "    sim_bike_data_wide = copy.deepcopy(sim_bike_data_no_parent)\n",
    "\n",
    "    # Simulate nodes based on causal graphs\n",
    "    exec(SIMULATE_NODES_WIDE)\n",
    "\n",
    "    # Converting Data from Wide to Long\n",
    "    print('Converting data from wide to long...')\n",
    "    long_sim_data = pl.convert_wide_to_long(wide_data=sim_bike_data_wide,\n",
    "                                            ind_vars=IND_VARIABLES,\n",
    "                                            alt_specific_vars=ALT_VARYING_VARIABLES,\n",
    "                                            availability_vars=AVAILABILITY_VARIABLES,\n",
    "                                            obs_id_col=OBS_ID_COL,\n",
    "                                            choice_col=CHOICE_COL,\n",
    "                                            new_alt_id_name=CUSTOM_ALT_ID)\n",
    "\n",
    "    # Create a cars per licensed drivers column\n",
    "    long_sim_data[\"cars_per_licensed_drivers\"] = 0\n",
    "    long_sim_data.loc[long_sim_data.num_licensed_drivers > 0,\n",
    "                      \"cars_per_licensed_drivers\"] = long_sim_data.num_cars / long_sim_data.num_licensed_drivers.astype(float)\n",
    "\n",
    "    # Add a variable representing cost divided by distance\n",
    "    long_sim_data[\"cost_per_distance\"] = 0\n",
    "    long_sim_data.loc[long_sim_data.mode_id.isin([1, 2, 3]),\n",
    "                      \"cost_per_distance\"] = (long_sim_data.loc[long_sim_data.mode_id.isin([1, 2, 3]),\n",
    "                                                                \"total_travel_cost\"] /\n",
    "                                              long_sim_data.loc[long_sim_data.mode_id.isin([1, 2, 3]),\n",
    "                                                                \"total_travel_distance\"])\n",
    "\n",
    "    # Simulating Choices\n",
    "    print('Simulating Choices...')\n",
    "    # Calculate probabilities for each alternative\n",
    "    # based on the estimated model\n",
    "    init_mnl_model_probs = mnl_model.predict(long_sim_data)\n",
    "\n",
    "    # Simulate choice data\n",
    "    long_sim_data[CHOICE_COL] = simulate_choice_vector(predicted_probs=init_mnl_model_probs,\n",
    "                                                       observation_ids=long_sim_data[OBS_ID_COL].values)\n",
    "\n",
    "    # Estimating Choice Models\n",
    "    print('Estimating the choice model...')\n",
    "    # Estimate the basic MNL model, using the hessian and newton-conjugate gradient\n",
    "    mnl_model_sim = pl.create_choice_model(data=long_sim_data,\n",
    "                                           alt_id_col=ALT_ID_COL,\n",
    "                                           obs_id_col=OBS_ID_COL,\n",
    "                                           choice_col=CHOICE_COL,\n",
    "                                           specification=MNL_SPECIFICATION,\n",
    "                                           model_type=\"MNL\",\n",
    "                                           names=MNL_NAMES)\n",
    "\n",
    "    num_vars = len(reduce(lambda x, y: x + y, MNL_NAMES.values()))\n",
    "    # Note newton-cg used to ensure convergence to a point where gradient\n",
    "    # is essentially zero for all dimensions.\n",
    "    mnl_model_sim_params = mnl_model_sim.fit_mle(np.zeros(num_vars),\n",
    "                                                 method=\"BFGS\",\n",
    "                                                 just_point=True)\n",
    "    mnl_model_sim_param_list = [mnl_model_sim_params['x'], None, None, None]\n",
    "    models_dictionary[number] = mnl_model_sim\n",
    "\n",
    "    print('Estimating Causal Effects...')\n",
    "\n",
    "    # Estimating Causal Effects\n",
    "    # Create copies of long format data\n",
    "    long_sim_data_naive = copy.deepcopy(long_sim_data)\n",
    "    long_sim_data_causal = copy.deepcopy(long_sim_data)\n",
    "\n",
    "    # Initial Probabilities\n",
    "    init_mnl_model_sim_probs = mnl_model_sim.predict(long_sim_data,\n",
    "                                                     param_list=mnl_model_sim_param_list)\n",
    "\n",
    "    long_sim_data['init_mnl_model_sim_probs'] = init_mnl_model_sim_probs\n",
    "\n",
    "    # mnl_model_probs = mnl_model.predict(long_sim_data)\n",
    "    long_sim_data['init_mnl_model_probs'] = init_mnl_model_probs\n",
    "\n",
    "    \n",
    "    long_sim_data_naive['total_travel_distance'] = perturb * long_sim_data_naive['total_travel_distance']\n",
    "    long_sim_data_causal['total_travel_distance'] = perturb * long_sim_data['total_travel_distance']\n",
    "\n",
    "    # Naive Probabilities\n",
    "    naive_probabilities = mnl_model_sim.predict(long_sim_data_naive,\n",
    "                                                param_list=mnl_model_sim_param_list)\n",
    "\n",
    "    long_sim_data_naive['naive_probabilities'] = naive_probabilities\n",
    "\n",
    "    # Estimated Probabilities\n",
    "\n",
    "    exec(SIMULATE_PERTURB)\n",
    "\n",
    "    # Compute Estimated Probabilities\n",
    "    estimated_probabilities = mnl_model_sim.predict(long_sim_data_causal,\n",
    "                                                    param_list=mnl_model_sim_param_list)\n",
    "    long_sim_data_causal['estimated_probabilities'] = estimated_probabilities\n",
    "\n",
    "    # True Probabilities\n",
    "    true_probabilities = mnl_model.predict(long_sim_data_causal)\n",
    "    long_sim_data_causal['true_probabilities'] = true_probabilities\n",
    "\n",
    "    simulation_data[number] = {}\n",
    "    simulation_data[number]['long_sim_data'] = long_sim_data\n",
    "    simulation_data[number]['long_sim_data_causal'] = long_sim_data_causal\n",
    "    simulation_data[number]['long_sim_data_naive'] = long_sim_data_naive\n",
    "\n",
    "    print('Simulation number', number, 'is complete!')\n",
    "    print('==========================================')\n",
    "    print('==========================================')"
   ]
  },
  {
   "cell_type": "markdown",
   "metadata": {},
   "source": [
    "### Causal Effect Estimation"
   ]
  },
  {
   "cell_type": "markdown",
   "metadata": {},
   "source": [
    "We estimate the causal effect related to the perturbation of the Travel Distance variable in each of the causal graphs (independent and realistic) on the probability of choosing Driving based modes (Drive alone, Shared-2, and Shared-3+)."
   ]
  },
  {
   "cell_type": "code",
   "execution_count": 48,
   "metadata": {},
   "outputs": [],
   "source": [
    "for number in sim_number:\n",
    "    \n",
    "    initial_data = simulation_data[number]['long_sim_data']\n",
    "    naive_data = simulation_data[number]['long_sim_data_naive']\n",
    "    causal_data = simulation_data[number]['long_sim_data_causal']\n",
    "\n",
    "    naive_effect = naive_data.loc[naive_data['mode_id'].isin([1, 2, 3]), 'naive_probabilities'] -\\\n",
    "        initial_data.loc[initial_data['mode_id'].isin([1, 2, 3]), 'init_mnl_model_sim_probs']\n",
    "    estimated_effect = causal_data.loc[causal_data['mode_id'].isin([1, 2, 3]), 'estimated_probabilities'] -\\\n",
    "        initial_data.loc[initial_data['mode_id'].isin([1, 2, 3]), 'init_mnl_model_sim_probs']\n",
    "    true_effect = causal_data.loc[causal_data['mode_id'].isin([1, 2, 3]), 'true_probabilities'] -\\\n",
    "        initial_data.loc[initial_data['mode_id'].isin([1, 2, 3]), 'init_mnl_model_probs']\n",
    "\n",
    "    causal_effects = causal_effects.append({'true_effect': true_effect.mean(),\n",
    "                                            'estimated_effect': estimated_effect.mean(),\n",
    "                                            'naive_effect': naive_effect.mean()}, ignore_index=True)"
   ]
  },
  {
   "cell_type": "markdown",
   "metadata": {},
   "source": [
    "### Generating Plots"
   ]
  },
  {
   "cell_type": "markdown",
   "metadata": {},
   "source": [
    "We plot the distribution of the causal effects to show the bias in predicted outcomes based on the assumed causal graph."
   ]
  },
  {
   "cell_type": "code",
   "execution_count": 49,
   "metadata": {},
   "outputs": [
    {
     "data": {
      "text/plain": [
       "<matplotlib.legend.Legend at 0x7fab51f547d0>"
      ]
     },
     "execution_count": 49,
     "metadata": {},
     "output_type": "execute_result"
    },
    {
     "data": {
      "image/png": "[encoded data removed]",
      "text/plain": [
       "<Figure size 1440x720 with 1 Axes>"
      ]
     },
     "metadata": {},
     "output_type": "display_data"
    },
    {
     "data": {
      "image/png": "[encoded data removed]",
      "text/plain": [
       "<Figure size 1080x360 with 1 Axes>"
      ]
     },
     "metadata": {},
     "output_type": "display_data"
    }
   ],
   "source": [
    "plt.figure(figsize=(20, 10))\n",
    "sns.distplot(causal_effects.true_effect, label='True Effect', kde=False, color='#005AB5')\n",
    "sns.distplot(causal_effects.naive_effect, label='Naive Effect', kde=False, color='#DC3220')\n",
    "plt.title('True Effect vs. Naive Effect', fontdict={'fontsize': 14, 'fontweight': 'bold'})\n",
    "plt.ylabel('Frequency', rotation=90, labelpad=5, fontdict={'fontsize': 12, 'fontweight': 'bold'})\n",
    "plt.xlabel('Average Causal Effect', fontdict={'fontsize': 12, 'fontweight': 'bold'})\n",
    "plt.legend(prop={'size': 14})\n",
    "\n",
    "plt.figure(figsize=(20, 10))\n",
    "sns.distplot(causal_effects.true_effect, label='True Effect', kde=False, color='#005AB5')\n",
    "sns.distplot(causal_effects.estimated_effect, label='Estimated Effect', kde=False, color='#994F00')\n",
    "plt.title('True Effect vs. Estimated Effect', fontdict={'fontsize': 14, 'fontweight': 'bold'})\n",
    "plt.ylabel('Frequency', rotation=90, labelpad=5, fontdict={'fontsize': 12, 'fontweight': 'bold'})\n",
    "plt.xlabel('Average Causal Effect', fontdict={'fontsize': 12, 'fontweight': 'bold'})\n",
    "plt.legend(prop={'size': 14})"
   ]
  },
  {
   "cell_type": "markdown",
   "metadata": {},
   "source": [
    "# Conclusion "
   ]
  },
  {
   "cell_type": "markdown",
   "metadata": {},
   "source": [
    "The main conclusion from this notebook is that assigning causal intepretations to model parameters is only valid if we draw clear assumptions about the data generation process about the question at hand. The data generating process was shown to be important even as the outcome model remained unchanged. Drawing a causal graph (and testing its validity with the data at hand) allows one to clearly state their assumptions about the data generating process and to clearly assign causal interpretations to specific model parameters."
   ]
  }
 ],
 "metadata": {
  "jupytext": {
   "formats": "ipynb,md"
  },
  "kernelspec": {
   "display_name": "Python 3",
   "language": "python",
   "name": "python3"
  },
  "language_info": {
   "codemirror_mode": {
    "name": "ipython",
    "version": 3
   },
   "file_extension": ".py",
   "mimetype": "text/x-python",
   "name": "python",
   "nbconvert_exporter": "python",
   "pygments_lexer": "ipython3",
   "version": "3.7.4"
  }
 },
 "nbformat": 4,
 "nbformat_minor": 4
}
