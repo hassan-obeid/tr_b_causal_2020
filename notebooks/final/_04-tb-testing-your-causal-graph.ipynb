{
 "cells": [
  {
   "cell_type": "markdown",
   "metadata": {},
   "source": [
    "# To-Do:\n",
    "- Fill in overall purpose for the notebook.\n",
    "- Fill in caveats and pitfalls for marginal independence tests.\n",
    "- Fill in main idea for latent conditional independence tests.\n",
    "- Fill in posited causal graph for latent conditional independence tests.\n",
    "- Fill in caveats and pitfalls for latent conditional independence tests.\n",
    "- Fill in summary for notebook.\n",
    "\n",
    "# Testing your causal graph\n",
    "\n",
    "## Purpose"
   ]
  },
  {
   "cell_type": "markdown",
   "metadata": {},
   "source": [
    "## Set notebook parameters"
   ]
  },
  {
   "cell_type": "code",
   "execution_count": 1,
   "metadata": {},
   "outputs": [],
   "source": [
    "# Declare paths to data\n",
    "DATA_PATH =\\\n",
    "    '../../data/raw/spring_2016_all_bay_area_long_format_plus_cross_bay_col.csv'\n",
    "# Note that these files are based on using the PPCA model\n",
    "# of Wang and Blei (2018). W represents global factor\n",
    "# coefficients and Z represents latent factor loadings\n",
    "PATH_TO_W_PARAMS = '../../data/processed/W_inferred_PPCA.csv'\n",
    "PATH_TO_Z_PARAMS = '../../data/processed/Z_inferred_PPCA.csv'\n",
    "\n",
    "# Note the columns of interest for this notebook\n",
    "MODE_ID_COLUMN = 'mode_id'\n",
    "OBS_ID_COLUMN = 'observation_id'\n",
    "\n",
    "TIME_COLUMN = 'total_travel_time'\n",
    "COST_COLUMN = 'total_travel_cost'\n",
    "DISTANCE_COLUMN = 'total_travel_distance'\n",
    "LICENSE_COLUMN = 'num_licensed_drivers'\n",
    "NUM_AUTOS_COLUMN = 'num_cars'\n",
    "\n",
    "UTILITY_COLUMNS =\\\n",
    "    [TIME_COLUMN,\n",
    "     COST_COLUMN,\n",
    "     DISTANCE_COLUMN,\n",
    "     LICENSE_COLUMN,\n",
    "     NUM_AUTOS_COLUMN]\n",
    "\n",
    "# Note the travel mode of intersest for this notebook\n",
    "DRIVE_ALONE_ID = 1\n",
    "\n",
    "# Note the number of permutations to be used when\n",
    "# testing the causal graphs\n",
    "NUM_PERMUTATIONS = 100\n",
    "\n",
    "# Choose a color to represent reference /\n",
    "# permutation-based test statistics\n",
    "PERMUTED_COLOR = '#a6bddb'"
   ]
  },
  {
   "cell_type": "markdown",
   "metadata": {},
   "source": [
    "## Import needed libraries"
   ]
  },
  {
   "cell_type": "code",
   "execution_count": 2,
   "metadata": {},
   "outputs": [],
   "source": [
    "# Built-in modules\n",
    "import sys\n",
    "\n",
    "# Third party modules\n",
    "import numpy as np\n",
    "import pandas as pd\n",
    "import scipy.stats\n",
    "\n",
    "# Local modules\n",
    "sys.path.insert(0, '../../')\n",
    "import src.viz.sim_cdf as sim_cdf\n",
    "import src.testing.observable_independence as oi\n",
    "import src.testing.latent_independence as li\n",
    "\n",
    "from src.graphs.drive_alone_utility import DRIVE_ALONE_UTILITY\n",
    "from src.utils import sample_from_factor_model"
   ]
  },
  {
   "cell_type": "markdown",
   "metadata": {},
   "source": [
    "## Load and describe needed data"
   ]
  },
  {
   "cell_type": "code",
   "execution_count": 3,
   "metadata": {},
   "outputs": [
    {
     "name": "stdout",
     "output_type": "stream",
     "text": [
      "                           0        8        16       24       32\n",
      "total_travel_time      54.010  39.7800  22.2200  22.3000  47.9500\n",
      "total_travel_cost       5.714   4.4519   1.6817   1.6817   5.9782\n",
      "total_travel_distance  30.920  24.0900   9.1000   9.1000  32.3500\n",
      "num_licensed_drivers    2.000   2.0000   2.0000   2.0000   2.0000\n",
      "num_cars                2.000   2.0000   2.0000   2.0000   2.0000\n",
      "observation_id          1.000   2.0000   3.0000   4.0000   5.0000\n"
     ]
    }
   ],
   "source": [
    "# Load the raw data\n",
    "df = pd.read_csv(DATA_PATH)\n",
    "\n",
    "# Look at the data being used in this notebook\n",
    "print(df.loc[df[MODE_ID_COLUMN] == DRIVE_ALONE_ID,\n",
    "             UTILITY_COLUMNS + [OBS_ID_COLUMN]]\n",
    "        .head(5)\n",
    "        .T)\n",
    "\n",
    "# Create a dataframe with the variables posited\n",
    "# to make up the drive-alone utility\n",
    "drive_alone_df =\\\n",
    "    df.loc[df[MODE_ID_COLUMN] == DRIVE_ALONE_ID,\n",
    "           UTILITY_COLUMNS]\n",
    "\n",
    "# Figure out how many observations we have with\n",
    "# the drive alone mode being available\n",
    "num_drive_alone_obs = drive_alone_df.shape[0]"
   ]
  },
  {
   "cell_type": "markdown",
   "metadata": {},
   "source": [
    "## Show the posited causal graph"
   ]
  },
  {
   "cell_type": "code",
   "execution_count": 4,
   "metadata": {},
   "outputs": [
    {
     "data": {
      "image/svg+xml": [
       "<?xml version=\"1.0\" encoding=\"UTF-8\" standalone=\"no\"?>\n",
       "<!DOCTYPE svg PUBLIC \"-//W3C//DTD SVG 1.1//EN\"\n",
       " \"http://www.w3.org/Graphics/SVG/1.1/DTD/svg11.dtd\">\n",
       "<!-- Generated by graphviz version 2.38.0 (20140413.2041)\n",
       " -->\n",
       "<!-- Title: %3 Pages: 1 -->\n",
       "<svg width=\"720pt\" height=\"179pt\"\n",
       " viewBox=\"0.00 0.00 720.00 179.04\" xmlns=\"http://www.w3.org/2000/svg\" xmlns:xlink=\"http://www.w3.org/1999/xlink\">\n",
       "<g id=\"graph0\" class=\"graph\" transform=\"scale(0.952324 0.952324) rotate(0) translate(4 184)\">\n",
       "<title>%3</title>\n",
       "<polygon fill=\"white\" stroke=\"none\" points=\"-4,4 -4,-184 752.045,-184 752.045,4 -4,4\"/>\n",
       "<!-- Number of Autos -->\n",
       "<g id=\"node1\" class=\"node\"><title>Number of Autos</title>\n",
       "<ellipse fill=\"none\" stroke=\"black\" cx=\"71.5188\" cy=\"-90\" rx=\"71.5376\" ry=\"18\"/>\n",
       "<text text-anchor=\"middle\" x=\"71.5188\" y=\"-85.8\" font-family=\"Times,serif\" font-size=\"14.00\">Number of Autos</text>\n",
       "</g>\n",
       "<!-- Utility (Drive Alone) -->\n",
       "<g id=\"node5\" class=\"node\"><title>Utility (Drive Alone)</title>\n",
       "<ellipse fill=\"none\" stroke=\"black\" cx=\"395.519\" cy=\"-18\" rx=\"84.5514\" ry=\"18\"/>\n",
       "<text text-anchor=\"middle\" x=\"395.519\" y=\"-13.8\" font-family=\"Times,serif\" font-size=\"14.00\">Utility (Drive Alone)</text>\n",
       "</g>\n",
       "<!-- Number of Autos&#45;&gt;Utility (Drive Alone) -->\n",
       "<g id=\"edge6\" class=\"edge\"><title>Number of Autos&#45;&gt;Utility (Drive Alone)</title>\n",
       "<path fill=\"none\" stroke=\"black\" d=\"M123.935,-77.6755C179.582,-65.653 267.704,-46.6144 328.394,-33.5023\"/>\n",
       "<polygon fill=\"black\" stroke=\"black\" points=\"329.229,-36.9027 338.264,-31.3698 327.751,-30.0606 329.229,-36.9027\"/>\n",
       "</g>\n",
       "<!-- Total Travel Cost -->\n",
       "<g id=\"node2\" class=\"node\"><title>Total Travel Cost</title>\n",
       "<ellipse fill=\"none\" stroke=\"black\" cx=\"232.519\" cy=\"-90\" rx=\"71.3132\" ry=\"18\"/>\n",
       "<text text-anchor=\"middle\" x=\"232.519\" y=\"-85.8\" font-family=\"Times,serif\" font-size=\"14.00\">Total Travel Cost</text>\n",
       "</g>\n",
       "<!-- Total Travel Cost&#45;&gt;Utility (Drive Alone) -->\n",
       "<g id=\"edge5\" class=\"edge\"><title>Total Travel Cost&#45;&gt;Utility (Drive Alone)</title>\n",
       "<path fill=\"none\" stroke=\"black\" d=\"M267.087,-74.1548C291.307,-63.7536 323.915,-49.7499 350.214,-38.4561\"/>\n",
       "<polygon fill=\"black\" stroke=\"black\" points=\"351.783,-41.5915 359.59,-34.4295 349.021,-35.1596 351.783,-41.5915\"/>\n",
       "</g>\n",
       "<!-- Total Travel Distance -->\n",
       "<g id=\"node3\" class=\"node\"><title>Total Travel Distance</title>\n",
       "<ellipse fill=\"none\" stroke=\"black\" cx=\"395.519\" cy=\"-162\" rx=\"86.2541\" ry=\"18\"/>\n",
       "<text text-anchor=\"middle\" x=\"395.519\" y=\"-157.8\" font-family=\"Times,serif\" font-size=\"14.00\">Total Travel Distance</text>\n",
       "</g>\n",
       "<!-- Total Travel Distance&#45;&gt;Total Travel Cost -->\n",
       "<g id=\"edge2\" class=\"edge\"><title>Total Travel Distance&#45;&gt;Total Travel Cost</title>\n",
       "<path fill=\"none\" stroke=\"black\" d=\"M359.344,-145.465C334.869,-134.954 302.397,-121.009 276.438,-109.861\"/>\n",
       "<polygon fill=\"black\" stroke=\"black\" points=\"277.766,-106.622 267.196,-105.892 275.003,-113.054 277.766,-106.622\"/>\n",
       "</g>\n",
       "<!-- Total Travel Time -->\n",
       "<g id=\"node4\" class=\"node\"><title>Total Travel Time</title>\n",
       "<ellipse fill=\"none\" stroke=\"black\" cx=\"395.519\" cy=\"-90\" rx=\"73.2773\" ry=\"18\"/>\n",
       "<text text-anchor=\"middle\" x=\"395.519\" y=\"-85.8\" font-family=\"Times,serif\" font-size=\"14.00\">Total Travel Time</text>\n",
       "</g>\n",
       "<!-- Total Travel Distance&#45;&gt;Total Travel Time -->\n",
       "<g id=\"edge1\" class=\"edge\"><title>Total Travel Distance&#45;&gt;Total Travel Time</title>\n",
       "<path fill=\"none\" stroke=\"black\" d=\"M395.519,-143.697C395.519,-135.983 395.519,-126.712 395.519,-118.112\"/>\n",
       "<polygon fill=\"black\" stroke=\"black\" points=\"399.019,-118.104 395.519,-108.104 392.019,-118.104 399.019,-118.104\"/>\n",
       "</g>\n",
       "<!-- Total Travel Distance&#45;&gt;Utility (Drive Alone) -->\n",
       "<g id=\"edge3\" class=\"edge\"><title>Total Travel Distance&#45;&gt;Utility (Drive Alone)</title>\n",
       "<path fill=\"none\" stroke=\"black\" d=\"M434.691,-145.836C451.008,-137.339 468.28,-124.972 477.519,-108 485.169,-93.9472 485.169,-86.0528 477.519,-72 469.94,-58.0774 456.956,-47.2542 443.527,-39.1238\"/>\n",
       "<polygon fill=\"black\" stroke=\"black\" points=\"445.124,-36.0065 434.691,-34.1643 441.698,-42.1108 445.124,-36.0065\"/>\n",
       "</g>\n",
       "<!-- Total Travel Time&#45;&gt;Utility (Drive Alone) -->\n",
       "<g id=\"edge4\" class=\"edge\"><title>Total Travel Time&#45;&gt;Utility (Drive Alone)</title>\n",
       "<path fill=\"none\" stroke=\"black\" d=\"M395.519,-71.6966C395.519,-63.9827 395.519,-54.7125 395.519,-46.1124\"/>\n",
       "<polygon fill=\"black\" stroke=\"black\" points=\"399.019,-46.1043 395.519,-36.1043 392.019,-46.1044 399.019,-46.1043\"/>\n",
       "</g>\n",
       "<!-- Number of Licensed Drivers -->\n",
       "<g id=\"node6\" class=\"node\"><title>Number of Licensed Drivers</title>\n",
       "<ellipse fill=\"none\" stroke=\"black\" cx=\"636.519\" cy=\"-90\" rx=\"111.552\" ry=\"18\"/>\n",
       "<text text-anchor=\"middle\" x=\"636.519\" y=\"-85.8\" font-family=\"Times,serif\" font-size=\"14.00\">Number of Licensed Drivers</text>\n",
       "</g>\n",
       "<!-- Number of Licensed Drivers&#45;&gt;Utility (Drive Alone) -->\n",
       "<g id=\"edge7\" class=\"edge\"><title>Number of Licensed Drivers&#45;&gt;Utility (Drive Alone)</title>\n",
       "<path fill=\"none\" stroke=\"black\" d=\"M584.818,-73.9832C546.103,-62.7382 493.139,-47.3543 453.078,-35.7184\"/>\n",
       "<polygon fill=\"black\" stroke=\"black\" points=\"454.026,-32.3492 443.447,-32.921 452.074,-39.0714 454.026,-32.3492\"/>\n",
       "</g>\n",
       "</g>\n",
       "</svg>\n"
      ],
      "text/plain": [
       "<graphviz.dot.Digraph at 0x1202ac5f8>"
      ]
     },
     "execution_count": 4,
     "metadata": {},
     "output_type": "execute_result"
    }
   ],
   "source": [
    "# Draw the causal model being tested\n",
    "causal_graph = DRIVE_ALONE_UTILITY.draw()\n",
    "causal_graph.graph_attr.update(size=\"10,6\")\n",
    "causal_graph"
   ]
  },
  {
   "cell_type": "markdown",
   "metadata": {},
   "source": [
    "## Marginal independence tests\n",
    "\n",
    "### Main idea\n",
    "The marginal independence tests demonstrated in this notebook will visually test the following implication<br>\n",
    "$\n",
    "\\begin{aligned}\n",
    "P \\left( X_1 \\mid X_2 \\right) &= P \\left( X_1 \\right) \\\\\n",
    "\\int x_1 P \\left( X_1 \\mid X_2 \\right) \\partial{x_1}  &= \\int x_1 P \\left( X_1 \\right) \\partial{x_1} \\\\\n",
    "E \\left[ X_1 \\mid X_2 \\right] &= E \\left[ X_1 \\right]\n",
    "\\end{aligned}\n",
    "$\n",
    "\n",
    "In other words, if $X_1$ is marginally independent of $X_2$, then the expectation of $X_1$ conditional on $X_2$ is equal to the marginal expectation of $X_1$. Marginal independence implies mean independence. This means that shuffling / permuting the $X_2$ columns should make no difference to predicting $X_1$, once one predicts $\\bar{X_1}$.\n",
    "\n",
    "The test demonstrated below works by estimating a linear regression to predict $E \\left[ X_1 \\mid X_2 \\right]$. The $r^2$ from these regressions is computed using the observed value of $X_2$, and it is also computed using the permuted values of $X_2$ (which are independent of $X_1$ by construction).\n",
    "\n",
    "If $X_1$ is marginally independent of $X_2$, then the $r^2$ using the observed values of $X_2$ should be similar to the distribution of $r^2$ using the permuted values of $X_2$.\n",
    "\n",
    "For this test, we'll use the following marginal independence assumption implied by the causal graph above:<br>\n",
    "$\n",
    "P \\left( \\textrm{Number of Automobiles} \\mid \\textrm{Number of licensed drivers} \\right) = P \\left( \\textrm{Number of Automobiles} \\right)\n",
    "$"
   ]
  },
  {
   "cell_type": "code",
   "execution_count": 5,
   "metadata": {},
   "outputs": [
    {
     "name": "stderr",
     "output_type": "stream",
     "text": [
      "100%|██████████| 100/100 [00:00<00:00, 795.32it/s]"
     ]
    },
    {
     "name": "stdout",
     "output_type": "stream",
     "text": [
      "The p-value of the permutation independence test is 0.00."
     ]
    },
    {
     "name": "stderr",
     "output_type": "stream",
     "text": [
      "\n"
     ]
    },
    {
     "name": "stdout",
     "output_type": "stream",
     "text": [
      "\n"
     ]
    },
    {
     "data": {
      "image/png": "[encoded data removed]",
      "text/plain": [
       "<Figure size 720x432 with 1 Axes>"
      ]
     },
     "metadata": {},
     "output_type": "display_data"
    },
    {
     "data": {
      "text/plain": [
       "0.0"
      ]
     },
     "execution_count": 5,
     "metadata": {},
     "output_type": "execute_result"
    }
   ],
   "source": [
    "license_array = drive_alone_df[LICENSE_COLUMN].values\n",
    "num_cars_array = drive_alone_df[NUM_AUTOS_COLUMN].values\n",
    "\n",
    "oi.visual_permutation_test(\n",
    "    license_array,\n",
    "    num_cars_array,\n",
    "    z_array=None,\n",
    "    seed=1038,\n",
    "    num_permutations=NUM_PERMUTATIONS,\n",
    "    permutation_color=PERMUTED_COLOR)"
   ]
  },
  {
   "cell_type": "markdown",
   "metadata": {},
   "source": [
    "### Caveats and pitfalls\n"
   ]
  },
  {
   "cell_type": "markdown",
   "metadata": {},
   "source": [
    "## Conditional independence tests\n",
    "\n",
    "### Main idea\n",
    "In particular, the notebook will show one way to visually and numerically test the following implication<br>\n",
    "$\n",
    "\\begin{aligned}\n",
    "P \\left( X_1 \\mid X_2, Z \\right) &= P \\left( X_1 \\mid Z \\right) \\\\\n",
    "\\int x_1 P \\left( X_1 \\mid X_2, Z \\right) \\partial{x_1}  &= \\int x_1 P \\left( X_1 \\mid Z \\right) \\partial{x_1} \\\\\n",
    "E \\left[ X_1 \\mid X_2, Z \\right] &= E \\left[ X_1 \\mid Z \\right]\n",
    "\\end{aligned}\n",
    "$\n",
    "\n",
    "In other words, if $X_1$ is conditionally independent of $X_2$ given $Z$, then the expectation of $X_1$ conditional on $X_2$ and $Z$ is equal to the expectation of $X_1$ conditional on just $Z$.\n",
    "This implies that shuffling / permuting $X_2$ should make no difference for predicting $X_1$ once we've included $Z$ while predicting.\n",
    "\n",
    "In other words, one's ability predict to predict $X_1$ should not depend on whether one uses the original $X_2$ or the permuted $X_2$, as long as one conditions on $Z$ when predicting $X_1$.\n",
    "This invariance will be tested by using a simple predictive model, linear regression, and comparing $r^2$ as a measure of predictive ability when using $Z$ and the original $X_2$ versus $r^2$ when using $Z$ and the permuted $X_2$.\n",
    "\n",
    "For this test, we'll use the following conditional independence assumption implied by the causal graph above:<br>\n",
    "$\n",
    "P \\left( \\textrm{Travel Time} \\mid \\textrm{Travel Cost}, \\textrm{Travel Distance} \\right) = P \\left( \\textrm{Travel Time} \\mid \\textrm{Travel Distance} \\right)\n",
    "$"
   ]
  },
  {
   "cell_type": "code",
   "execution_count": 6,
   "metadata": {},
   "outputs": [
    {
     "name": "stderr",
     "output_type": "stream",
     "text": [
      "100%|██████████| 100/100 [00:00<00:00, 827.55it/s]\n"
     ]
    },
    {
     "name": "stdout",
     "output_type": "stream",
     "text": [
      "The p-value of the permutation independence test is 0.00.\n"
     ]
    },
    {
     "data": {
      "image/png": "[encoded data removed]",
      "text/plain": [
       "<Figure size 720x432 with 1 Axes>"
      ]
     },
     "metadata": {},
     "output_type": "display_data"
    },
    {
     "data": {
      "text/plain": [
       "0.0"
      ]
     },
     "execution_count": 6,
     "metadata": {},
     "output_type": "execute_result"
    }
   ],
   "source": [
    "time_array = drive_alone_df[TIME_COLUMN].values\n",
    "cost_array = drive_alone_df[COST_COLUMN].values\n",
    "distance_array = drive_alone_df[DISTANCE_COLUMN].values\n",
    "\n",
    "oi.visual_permutation_test(\n",
    "    time_array,\n",
    "    cost_array,\n",
    "    z_array=distance_array,\n",
    "    num_permutations=NUM_PERMUTATIONS,\n",
    "    permutation_color=PERMUTED_COLOR)"
   ]
  },
  {
   "cell_type": "markdown",
   "metadata": {},
   "source": [
    "### Caveats and pitfalls\n",
    "When testing conditional mean independence (i.e., $E \\left[ X_1 \\mid X_2, Z \\right] = E \\left[ X_1 \\mid Z \\right]$), there are four potential issues of interest.\n",
    "\n",
    "The first issue is misspecification of $E \\left[ X_1 \\mid Z \\right]$. If the conditional mean of $X_1$ is affected by un-modeled functions of $Z$ and $Z \\rightarrow X_2$, then the inclusion of $X_2$ in one's model may simply act as a proxy for the un-modeled function of $Z$. Such proxy behavior would lead one to observe \"inflated\" values of $r^2$ when modeling $E \\left[ X_1 \\mid X_2, Z \\right]$, thus increasing the probability that one will falsely reject the null-hypothesis of conditional independence.\n",
    "\n",
    "In other words, to guard against higher-than-nominal probabilities of type-1 error, one needs to guard against underfitting of the model for $E \\left[ X_1 \\mid Z \\right]$ **before** computing one's test-statistic and (permutation-based) reference-distribution.\n",
    "\n",
    "The second issue is misspecification of $E \\left[ X_1 \\mid X_2, Z \\right]$. If one's model for $E \\left[ X_1 \\mid X_2, Z \\right]$ is underfit with respect to $X_2$, then one's test-statistic ($r^2$) will be lower than it should be under accurate specification. This leads to lower probability of correctly rejecting the null-hypothesis.\n",
    "\n",
    "The last two issues are the converse of the problems and effects above. If one's model for $E \\left[ X_1 \\mid Z \\right]$ is overfit, then the reference-distribution of the test statistic will be artificially high. This will lead to lower probability of correctly rejecting the null hypothesis of conditional independence. Likewise, if one's model for $E \\left[ X_1 \\mid X_2, Z \\right]$ is overfit with respect to $X_2$, then one's test-statistic will be artificially high, thus increasing the probability of incorrectly rejecting the null-hypothesis.\n",
    "\n",
    "Visually, the way to think about these four issues is that, relative to using well-specified models for $E \\left[ X_1 \\mid Z \\right]$ and $E \\left[ X_1 \\mid X_2, Z \\right]$:\n",
    "- underfitting of $E \\left[ X_1 \\mid Z \\right]$ shifts one's reference distribution to the left, while leaving one's observed test statistic unchanged;\n",
    "- underfitting of $E \\left[ X_1 \\mid X_2, Z \\right]$ shifts one's observed test statistic to the left, while leaving one's reference distribution unchanged;\n",
    "- overfitting of $E \\left[ X_1 \\mid Z \\right]$ shifts one's reference distribution to the right, while leaving one's observed test statistic unchanged;\n",
    "- overfitting of $E \\left[ X_1 \\mid X_2, Z \\right]$ shifts one's observed test statistic to the right, while leaving one's reference distribution unchanged.\n",
    "\n",
    "To avoid all such problems or the combination of these problems, be sure to check one's models of $E \\left[ X_1 \\mid Z \\right]$ and $E \\left[ X_1 \\mid X_2, Z \\right]$ for both under- and over-fitting."
   ]
  },
  {
   "cell_type": "markdown",
   "metadata": {},
   "source": [
    "## Latent conditional independence tests\n"
   ]
  },
  {
   "cell_type": "markdown",
   "metadata": {},
   "source": [
    "### Show the posited causal graph"
   ]
  },
  {
   "cell_type": "code",
   "execution_count": null,
   "metadata": {},
   "outputs": [],
   "source": []
  },
  {
   "cell_type": "markdown",
   "metadata": {},
   "source": [
    "### Main idea\n",
    "\n",
    "#### Prior distribution based test"
   ]
  },
  {
   "cell_type": "code",
   "execution_count": 7,
   "metadata": {},
   "outputs": [
    {
     "name": "stdout",
     "output_type": "stream",
     "text": [
      "                            mean        std\n",
      "total_travel_time      29.667137  24.586569\n",
      "total_travel_cost       3.289287   4.214448\n",
      "total_travel_distance  15.579498  18.465879\n",
      "num_licensed_drivers    2.178759   0.751621\n",
      "num_cars                2.050999   0.880458\n"
     ]
    }
   ],
   "source": [
    "# Get the means and standard deviations of those variables\n",
    "drive_alone_means = drive_alone_df.mean()\n",
    "drive_alone_means.name = 'mean'\n",
    "\n",
    "drive_alone_stds = drive_alone_df.std()\n",
    "drive_alone_stds.name = 'std'\n",
    "\n",
    "# Look at the computed means and standard deviations\n",
    "print(pd.DataFrame([drive_alone_means, drive_alone_stds]).T)"
   ]
  },
  {
   "cell_type": "code",
   "execution_count": 8,
   "metadata": {},
   "outputs": [
    {
     "name": "stdout",
     "output_type": "stream",
     "text": [
      "(3804, 5, 100)\n"
     ]
    }
   ],
   "source": [
    "# Note the number of dimensions\n",
    "num_dimensions = len(UTILITY_COLUMNS)\n",
    "\n",
    "# Specify the prior distributions for the factor\n",
    "# model of the standardized drive alone dataframe\n",
    "w_dist_prior = scipy.stats.norm(loc=0, scale=1)\n",
    "z_dist_prior = scipy.stats.norm(loc=0, scale=1)\n",
    "\n",
    "sigma_prior = 0.1\n",
    "epsilon_dist_prior =\\\n",
    "    scipy.stats.norm(loc=0, scale=sigma_prior)\n",
    "\n",
    "# Get samples of x from the prior distribution factor model\n",
    "x_samples_prior, z_samples_prior =\\\n",
    "    sample_from_factor_model(\n",
    "        loadings_dist=z_dist_prior,\n",
    "        coef_dist=w_dist_prior,\n",
    "        noise_dist=epsilon_dist_prior,\n",
    "        standard_deviations=drive_alone_stds.values,\n",
    "        means=drive_alone_means.values,\n",
    "        num_obs=num_drive_alone_obs,\n",
    "        num_samples=NUM_PERMUTATIONS,\n",
    "        num_factors=1,\n",
    "        seed=721\n",
    "        )\n",
    "\n",
    "# Look at the dimensions of the prior predictive samples\n",
    "print(x_samples_prior.shape)"
   ]
  },
  {
   "cell_type": "code",
   "execution_count": 9,
   "metadata": {},
   "outputs": [
    {
     "data": {
      "application/vnd.jupyter.widget-view+json": {
       "model_id": "b5dcc901975e4a9b9c0ff0358e1adbf2",
       "version_major": 2,
       "version_minor": 0
      },
      "text/plain": [
       "HBox(children=(FloatProgress(value=0.0), HTML(value='')))"
      ]
     },
     "metadata": {},
     "output_type": "display_data"
    },
    {
     "name": "stdout",
     "output_type": "stream",
     "text": [
      "\n",
      "The p-value of the predictive, permutation C.I.T. is 0.99.\n"
     ]
    },
    {
     "data": {
      "image/png": "[encoded data removed]",
      "text/plain": [
       "<Figure size 720x432 with 1 Axes>"
      ]
     },
     "metadata": {},
     "output_type": "display_data"
    }
   ],
   "source": [
    "# Collect the columns being used in the test and info about them.\n",
    "columns_for_test = [NUM_AUTOS_COLUMN, LICENSE_COLUMN]\n",
    "col_idxs_for_test =\\\n",
    "    [UTILITY_COLUMNS.index(col) for col in columns_for_test]\n",
    "\n",
    "# Get the observed values to be used for testing\n",
    "obs_sample = drive_alone_df.loc[:, columns_for_test].values\n",
    "\n",
    "# Get the prior predictive values for testing\n",
    "prior_samples_triplet =\\\n",
    "    np.concatenate((x_samples_prior[:, col_idxs_for_test, :],\n",
    "                    z_samples_prior),\n",
    "                   axis=1)\n",
    "\n",
    "# Use the predictive, conditional independence test\n",
    "pval, sampled_pvals, obs_pvals =\\\n",
    "    li.perform_visual_predictive_cit_test(\n",
    "        prior_samples_triplet,\n",
    "        obs_sample)"
   ]
  },
  {
   "cell_type": "markdown",
   "metadata": {},
   "source": [
    "#### Posterior distribution based test"
   ]
  },
  {
   "cell_type": "code",
   "execution_count": 11,
   "metadata": {},
   "outputs": [
    {
     "name": "stdout",
     "output_type": "stream",
     "text": [
      "(3804, 5, 100)\n"
     ]
    }
   ],
   "source": [
    "# Load the parameters of the variational approximation to \n",
    "# the posterior distribution over W and Z\n",
    "w_post_params = pd.read_csv(PATH_TO_W_PARAMS, index_col=0)\n",
    "z_post_params = pd.read_csv(PATH_TO_Z_PARAMS, index_col=0)\n",
    "\n",
    "# Create the posterior distribution of coefficients\n",
    "# Note we need the arguments to have shape that can,\n",
    "# be broadcast to (num_factors, num_predictors, num_samples)\n",
    "w_dist_post =\\\n",
    "    scipy.stats.norm(\n",
    "        loc=w_post_params['w_mean_inferred'].values[None, : , None],\n",
    "        scale=w_post_params['w_std_inferred'].values[None :, None])\n",
    "\n",
    "# Create the posterior distribution of loadings\n",
    "# Note we need the arguments to have shape that can,\n",
    "# be broadcast to (num_obs, num_factors, num_samples)\n",
    "z_dist_post =\\\n",
    "    scipy.stats.norm(\n",
    "        loc=z_post_params['z_mean_inferred'].values[:, None, None],\n",
    "        scale=z_post_params['z_std_inferred'].values[:, None, None])\n",
    "\n",
    "# Get posterior samples of X_standardized\n",
    "x_samples_post, z_samples_post =\\\n",
    "    sample_from_factor_model(\n",
    "        loadings_dist=z_dist_post,\n",
    "        coef_dist=w_dist_post,\n",
    "        noise_dist=epsilon_dist_prior,\n",
    "        standard_deviations=drive_alone_stds.values,\n",
    "        means=drive_alone_means.values,\n",
    "        num_obs=num_drive_alone_obs,\n",
    "        num_samples=NUM_PERMUTATIONS,\n",
    "        num_factors=1,\n",
    "        post=False,\n",
    "        seed=852\n",
    "        )\n",
    "\n",
    "# Look at the dimensions of the prior predictive samples\n",
    "print(x_samples_post.shape)"
   ]
  },
  {
   "cell_type": "code",
   "execution_count": 12,
   "metadata": {},
   "outputs": [
    {
     "data": {
      "application/vnd.jupyter.widget-view+json": {
       "model_id": "ee6ac1b308d24ea3aa8b17f5e8e79dab",
       "version_major": 2,
       "version_minor": 0
      },
      "text/plain": [
       "HBox(children=(FloatProgress(value=0.0), HTML(value='')))"
      ]
     },
     "metadata": {},
     "output_type": "display_data"
    },
    {
     "name": "stdout",
     "output_type": "stream",
     "text": [
      "\n",
      "The p-value of the predictive, permutation C.I.T. is 0.98.\n"
     ]
    },
    {
     "data": {
      "image/png": "[encoded data removed]",
      "text/plain": [
       "<Figure size 720x432 with 1 Axes>"
      ]
     },
     "metadata": {},
     "output_type": "display_data"
    }
   ],
   "source": [
    "# Get the posterior predictive values for the test\n",
    "posterior_samples_triplet =\\\n",
    "    np.concatenate((x_samples_post[:, col_idxs_for_test, :],\n",
    "                    z_samples_post),\n",
    "                   axis=1)\n",
    "\n",
    "# Test out the predictive conditional independence test\n",
    "post_pval, post_sampled_pvals, post_obs_pvals =\\\n",
    "    li.perform_visual_predictive_cit_test(\n",
    "        posterior_samples_triplet,\n",
    "        obs_sample)"
   ]
  },
  {
   "cell_type": "markdown",
   "metadata": {},
   "source": [
    "### Caveats and pitfalls"
   ]
  },
  {
   "cell_type": "code",
   "execution_count": null,
   "metadata": {},
   "outputs": [],
   "source": []
  },
  {
   "cell_type": "markdown",
   "metadata": {},
   "source": [
    "## Summary"
   ]
  }
 ],
 "metadata": {
  "jupytext": {
   "formats": "ipynb,py:light"
  },
  "kernelspec": {
   "display_name": "Python 3",
   "language": "python",
   "name": "python3"
  },
  "language_info": {
   "codemirror_mode": {
    "name": "ipython",
    "version": 3
   },
   "file_extension": ".py",
   "mimetype": "text/x-python",
   "name": "python",
   "nbconvert_exporter": "python",
   "pygments_lexer": "ipython3",
   "version": "3.6.10"
  }
 },
 "nbformat": 4,
 "nbformat_minor": 4
}
