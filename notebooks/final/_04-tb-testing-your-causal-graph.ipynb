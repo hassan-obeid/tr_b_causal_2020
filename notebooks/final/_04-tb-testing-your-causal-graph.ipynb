{
 "cells": [
  {
   "cell_type": "markdown",
   "metadata": {},
   "source": [
    "# Testing your causal graph\n",
    "\n",
    "## Purpose\n",
    "This notebook describes and demonstrates methods for testing the assumptions of one's causal graph.\n",
    "We test three types of assumptions:\n",
    "- marginal independence assumptions,\n",
    "- conditional independence assumptions, and\n",
    "- latent, conditional independence assumptions.\n",
    "\n",
    "For each assumption, we first describe the logic used to test it.\n",
    "Then, we demonstrate one mechanism for testing the assumption according to that logic.\n"
   ]
  },
  {
   "cell_type": "markdown",
   "metadata": {},
   "source": [
    "## Set notebook parameters"
   ]
  },
  {
   "cell_type": "code",
   "execution_count": 1,
   "metadata": {},
   "outputs": [],
   "source": [
    "# Declare paths to data\n",
    "DATA_PATH = \"../../data/raw/spring_2016_all_bay_area_long_format_plus_cross_bay_col.csv\"\n",
    "# Note that these files are based on using the PPCA model\n",
    "# of Wang and Blei (2018). W represents global factor\n",
    "# coefficients and Z represents latent factor loadings\n",
    "PATH_TO_W_PARAMS = \"../../data/processed/W_inferred_PPCA.csv\"\n",
    "PATH_TO_Z_PARAMS = \"../../data/processed/Z_inferred_PPCA.csv\"\n",
    "\n",
    "# Note the columns of interest for this notebook\n",
    "MODE_ID_COLUMN = \"mode_id\"\n",
    "OBS_ID_COLUMN = \"observation_id\"\n",
    "\n",
    "TIME_COLUMN = \"total_travel_time\"\n",
    "COST_COLUMN = \"total_travel_cost\"\n",
    "DISTANCE_COLUMN = \"total_travel_distance\"\n",
    "LICENSE_COLUMN = \"num_licensed_drivers\"\n",
    "NUM_AUTOS_COLUMN = \"num_cars\"\n",
    "\n",
    "UTILITY_COLUMNS = [\n",
    "    TIME_COLUMN,\n",
    "    COST_COLUMN,\n",
    "    DISTANCE_COLUMN,\n",
    "    LICENSE_COLUMN,\n",
    "    NUM_AUTOS_COLUMN,\n",
    "]\n",
    "\n",
    "# Note the travel mode of intersest for this notebook\n",
    "DRIVE_ALONE_ID = 1\n",
    "\n",
    "# Note the number of permutations to be used when\n",
    "# testing the causal graphs\n",
    "NUM_PERMUTATIONS = 100\n",
    "\n",
    "# Choose a color to represent reference /\n",
    "# permutation-based test statistics\n",
    "PERMUTED_COLOR = \"#a6bddb\""
   ]
  },
  {
   "cell_type": "markdown",
   "metadata": {},
   "source": [
    "## Import needed libraries"
   ]
  },
  {
   "cell_type": "code",
   "execution_count": 2,
   "metadata": {
    "lines_to_end_of_cell_marker": 2
   },
   "outputs": [],
   "source": [
    "# Built-in modules\n",
    "import sys  # noqa: E402\n",
    "\n",
    "# Third party modules\n",
    "import numpy as np  # noqa: E402\n",
    "import pandas as pd  # noqa: E402\n",
    "import scipy.stats  # noqa: E402\n",
    "\n",
    "# Local modules\n",
    "sys.path.insert(0, \"../../\")\n",
    "import src.testing.latent_independence as li  # noqa: E402 isort:skip\n",
    "import src.testing.observable_independence as oi  # noqa: E402 isort:skip\n",
    "import src.viz.sim_cdf as sim_cdf  # noqa: E402 isort:skip\n",
    "from src.graphs.drive_alone_utility import (  # noqa: E402 isort:skip\n",
    "    DRIVE_ALONE_UTILITY,\n",
    "    LATENT_DRIVE_ALONE_UTILITY,\n",
    ")\n",
    "from src.utils import sample_from_factor_model  # noqa: E402 isort:skip"
   ]
  },
  {
   "cell_type": "markdown",
   "metadata": {},
   "source": [
    "## Load and describe needed data"
   ]
  },
  {
   "cell_type": "code",
   "execution_count": 3,
   "metadata": {},
   "outputs": [
    {
     "name": "stdout",
     "output_type": "stream",
     "text": [
      "                           0        8        16       24       32\n",
      "total_travel_time      54.010  39.7800  22.2200  22.3000  47.9500\n",
      "total_travel_cost       5.714   4.4519   1.6817   1.6817   5.9782\n",
      "total_travel_distance  30.920  24.0900   9.1000   9.1000  32.3500\n",
      "num_licensed_drivers    2.000   2.0000   2.0000   2.0000   2.0000\n",
      "num_cars                2.000   2.0000   2.0000   2.0000   2.0000\n",
      "observation_id          1.000   2.0000   3.0000   4.0000   5.0000\n"
     ]
    }
   ],
   "source": [
    "# Load the raw data\n",
    "df = pd.read_csv(DATA_PATH)\n",
    "\n",
    "# Look at the data being used in this notebook\n",
    "print(\n",
    "    df.loc[\n",
    "        df[MODE_ID_COLUMN] == DRIVE_ALONE_ID, UTILITY_COLUMNS + [OBS_ID_COLUMN]\n",
    "    ]\n",
    "    .head(5)\n",
    "    .T\n",
    ")\n",
    "\n",
    "# Create a dataframe with the variables posited\n",
    "# to make up the drive-alone utility\n",
    "drive_alone_df = df.loc[df[MODE_ID_COLUMN] == DRIVE_ALONE_ID, UTILITY_COLUMNS]\n",
    "\n",
    "# Figure out how many observations we have with\n",
    "# the drive alone mode being available\n",
    "num_drive_alone_obs = drive_alone_df.shape[0]"
   ]
  },
  {
   "cell_type": "markdown",
   "metadata": {},
   "source": [
    "## Show the posited causal graph"
   ]
  },
  {
   "cell_type": "code",
   "execution_count": 4,
   "metadata": {},
   "outputs": [
    {
     "data": {
      "image/svg+xml": [
       "<?xml version=\"1.0\" encoding=\"UTF-8\" standalone=\"no\"?>\n",
       "<!DOCTYPE svg PUBLIC \"-//W3C//DTD SVG 1.1//EN\"\n",
       " \"http://www.w3.org/Graphics/SVG/1.1/DTD/svg11.dtd\">\n",
       "<!-- Generated by graphviz version 2.38.0 (20140413.2041)\n",
       " -->\n",
       "<!-- Title: %3 Pages: 1 -->\n",
       "<svg width=\"720pt\" height=\"179pt\"\n",
       " viewBox=\"0.00 0.00 720.00 179.04\" xmlns=\"http://www.w3.org/2000/svg\" xmlns:xlink=\"http://www.w3.org/1999/xlink\">\n",
       "<g id=\"graph0\" class=\"graph\" transform=\"scale(0.952324 0.952324) rotate(0) translate(4 184)\">\n",
       "<title>%3</title>\n",
       "<polygon fill=\"white\" stroke=\"none\" points=\"-4,4 -4,-184 752.045,-184 752.045,4 -4,4\"/>\n",
       "<!-- Number of Licensed Drivers -->\n",
       "<g id=\"node1\" class=\"node\"><title>Number of Licensed Drivers</title>\n",
       "<ellipse fill=\"none\" stroke=\"black\" cx=\"111.526\" cy=\"-90\" rx=\"111.552\" ry=\"18\"/>\n",
       "<text text-anchor=\"middle\" x=\"111.526\" y=\"-85.8\" font-family=\"Times,serif\" font-size=\"14.00\">Number of Licensed Drivers</text>\n",
       "</g>\n",
       "<!-- Utility (Drive Alone) -->\n",
       "<g id=\"node4\" class=\"node\"><title>Utility (Drive Alone)</title>\n",
       "<ellipse fill=\"none\" stroke=\"black\" cx=\"477.526\" cy=\"-18\" rx=\"84.5514\" ry=\"18\"/>\n",
       "<text text-anchor=\"middle\" x=\"477.526\" y=\"-13.8\" font-family=\"Times,serif\" font-size=\"14.00\">Utility (Drive Alone)</text>\n",
       "</g>\n",
       "<!-- Number of Licensed Drivers&#45;&gt;Utility (Drive Alone) -->\n",
       "<g id=\"edge7\" class=\"edge\"><title>Number of Licensed Drivers&#45;&gt;Utility (Drive Alone)</title>\n",
       "<path fill=\"none\" stroke=\"black\" d=\"M180.368,-75.8335C245.035,-63.4655 341.369,-45.041 406.68,-32.5497\"/>\n",
       "<polygon fill=\"black\" stroke=\"black\" points=\"407.722,-35.914 416.886,-30.5977 406.407,-29.0386 407.722,-35.914\"/>\n",
       "</g>\n",
       "<!-- Total Travel Time -->\n",
       "<g id=\"node2\" class=\"node\"><title>Total Travel Time</title>\n",
       "<ellipse fill=\"none\" stroke=\"black\" cx=\"314.526\" cy=\"-90\" rx=\"73.2773\" ry=\"18\"/>\n",
       "<text text-anchor=\"middle\" x=\"314.526\" y=\"-85.8\" font-family=\"Times,serif\" font-size=\"14.00\">Total Travel Time</text>\n",
       "</g>\n",
       "<!-- Total Travel Time&#45;&gt;Utility (Drive Alone) -->\n",
       "<g id=\"edge4\" class=\"edge\"><title>Total Travel Time&#45;&gt;Utility (Drive Alone)</title>\n",
       "<path fill=\"none\" stroke=\"black\" d=\"M349.494,-73.9832C373.738,-63.5717 406.243,-49.6121 432.435,-38.3643\"/>\n",
       "<polygon fill=\"black\" stroke=\"black\" points=\"433.964,-41.5167 441.771,-34.3547 431.202,-35.0848 433.964,-41.5167\"/>\n",
       "</g>\n",
       "<!-- Total Travel Cost -->\n",
       "<g id=\"node3\" class=\"node\"><title>Total Travel Cost</title>\n",
       "<ellipse fill=\"none\" stroke=\"black\" cx=\"477.526\" cy=\"-90\" rx=\"71.3132\" ry=\"18\"/>\n",
       "<text text-anchor=\"middle\" x=\"477.526\" y=\"-85.8\" font-family=\"Times,serif\" font-size=\"14.00\">Total Travel Cost</text>\n",
       "</g>\n",
       "<!-- Total Travel Cost&#45;&gt;Utility (Drive Alone) -->\n",
       "<g id=\"edge5\" class=\"edge\"><title>Total Travel Cost&#45;&gt;Utility (Drive Alone)</title>\n",
       "<path fill=\"none\" stroke=\"black\" d=\"M477.526,-71.6966C477.526,-63.9827 477.526,-54.7125 477.526,-46.1124\"/>\n",
       "<polygon fill=\"black\" stroke=\"black\" points=\"481.026,-46.1043 477.526,-36.1043 474.026,-46.1044 481.026,-46.1043\"/>\n",
       "</g>\n",
       "<!-- Number of Autos -->\n",
       "<g id=\"node5\" class=\"node\"><title>Number of Autos</title>\n",
       "<ellipse fill=\"none\" stroke=\"black\" cx=\"676.526\" cy=\"-90\" rx=\"71.5376\" ry=\"18\"/>\n",
       "<text text-anchor=\"middle\" x=\"676.526\" y=\"-85.8\" font-family=\"Times,serif\" font-size=\"14.00\">Number of Autos</text>\n",
       "</g>\n",
       "<!-- Number of Autos&#45;&gt;Utility (Drive Alone) -->\n",
       "<g id=\"edge6\" class=\"edge\"><title>Number of Autos&#45;&gt;Utility (Drive Alone)</title>\n",
       "<path fill=\"none\" stroke=\"black\" d=\"M636.734,-75.0027C605.764,-64.1087 562.547,-48.9067 528.953,-37.09\"/>\n",
       "<polygon fill=\"black\" stroke=\"black\" points=\"529.902,-33.7136 519.307,-33.697 527.579,-40.317 529.902,-33.7136\"/>\n",
       "</g>\n",
       "<!-- Total Travel Distance -->\n",
       "<g id=\"node6\" class=\"node\"><title>Total Travel Distance</title>\n",
       "<ellipse fill=\"none\" stroke=\"black\" cx=\"477.526\" cy=\"-162\" rx=\"86.2541\" ry=\"18\"/>\n",
       "<text text-anchor=\"middle\" x=\"477.526\" y=\"-157.8\" font-family=\"Times,serif\" font-size=\"14.00\">Total Travel Distance</text>\n",
       "</g>\n",
       "<!-- Total Travel Distance&#45;&gt;Total Travel Time -->\n",
       "<g id=\"edge1\" class=\"edge\"><title>Total Travel Distance&#45;&gt;Total Travel Time</title>\n",
       "<path fill=\"none\" stroke=\"black\" d=\"M441.351,-145.465C416.876,-134.954 384.404,-121.009 358.445,-109.861\"/>\n",
       "<polygon fill=\"black\" stroke=\"black\" points=\"359.773,-106.622 349.203,-105.892 357.011,-113.054 359.773,-106.622\"/>\n",
       "</g>\n",
       "<!-- Total Travel Distance&#45;&gt;Total Travel Cost -->\n",
       "<g id=\"edge2\" class=\"edge\"><title>Total Travel Distance&#45;&gt;Total Travel Cost</title>\n",
       "<path fill=\"none\" stroke=\"black\" d=\"M477.526,-143.697C477.526,-135.983 477.526,-126.712 477.526,-118.112\"/>\n",
       "<polygon fill=\"black\" stroke=\"black\" points=\"481.026,-118.104 477.526,-108.104 474.026,-118.104 481.026,-118.104\"/>\n",
       "</g>\n",
       "<!-- Total Travel Distance&#45;&gt;Utility (Drive Alone) -->\n",
       "<g id=\"edge3\" class=\"edge\"><title>Total Travel Distance&#45;&gt;Utility (Drive Alone)</title>\n",
       "<path fill=\"none\" stroke=\"black\" d=\"M515.768,-145.614C531.693,-137.073 548.54,-124.732 557.526,-108 565.096,-93.9041 565.096,-86.0959 557.526,-72 550.09,-58.1537 537.271,-47.3152 524.046,-39.1479\"/>\n",
       "<polygon fill=\"black\" stroke=\"black\" points=\"525.765,-36.0992 515.349,-34.1618 522.284,-42.172 525.765,-36.0992\"/>\n",
       "</g>\n",
       "</g>\n",
       "</svg>\n"
      ],
      "text/plain": [
       "<graphviz.dot.Digraph at 0x1263aa860>"
      ]
     },
     "execution_count": 4,
     "metadata": {},
     "output_type": "execute_result"
    }
   ],
   "source": [
    "# Draw the causal model being tested\n",
    "causal_graph = DRIVE_ALONE_UTILITY.draw()\n",
    "causal_graph.graph_attr.update(size=\"10,6\")\n",
    "causal_graph"
   ]
  },
  {
   "cell_type": "markdown",
   "metadata": {},
   "source": [
    "## Marginal independence tests\n",
    "\n",
    "### Main idea\n",
    "The marginal independence tests demonstrated in this notebook will visually test the following implication<br>\n",
    "$\n",
    "\\begin{aligned}\n",
    "P \\left( X_1 \\mid X_2 \\right) &= P \\left( X_1 \\right) \\\\\n",
    "\\int x_1 P \\left( X_1 \\mid X_2 \\right) \\partial{x_1}  &= \\int x_1 P \\left( X_1 \\right) \\partial{x_1} \\\\\n",
    "E \\left[ X_1 \\mid X_2 \\right] &= E \\left[ X_1 \\right]\n",
    "\\end{aligned}\n",
    "$\n",
    "\n",
    "In other words, if $X_1$ is marginally independent of $X_2$, then the expectation of $X_1$ conditional on $X_2$ is equal to the marginal expectation of $X_1$.\n",
    "Marginal independence implies mean independence.\n",
    "This means that shuffling / permuting the $X_2$ columns should make no difference to predicting $X_1$, once one predicts $\\bar{X_1}$.\n",
    "\n",
    "The test demonstrated below works by estimating a linear regression to predict $E \\left[ X_1 \\mid X_2 \\right]$.\n",
    "We compute the $r^2$ from these regressions using the observed value of $X_2$ and also using the permuted values of $X_2$, which are independent of $X_1$ by construction.\n",
    "\n",
    "If $X_1$ is marginally independent of $X_2$, then the $r^2$ using the observed values of $X_2$ should resemble the distribution of $r^2$ using the permuted values of $X_2$.\n",
    "\n",
    "For this test, we'll use the following marginal independence assumption implied by the causal graph above:<br>\n",
    "$\n",
    "P \\left( \\textrm{Number of Automobiles} \\mid \\textrm{Number of licensed drivers} \\right) = P \\left( \\textrm{Number of Automobiles} \\right)\n",
    "$"
   ]
  },
  {
   "cell_type": "code",
   "execution_count": 5,
   "metadata": {},
   "outputs": [
    {
     "name": "stderr",
     "output_type": "stream",
     "text": [
      "100%|██████████| 100/100 [00:00<00:00, 873.15it/s]"
     ]
    },
    {
     "name": "stdout",
     "output_type": "stream",
     "text": [
      "The p-value of the permutation independence test is 0.00.\n"
     ]
    },
    {
     "name": "stderr",
     "output_type": "stream",
     "text": [
      "\n"
     ]
    },
    {
     "data": {
      "image/png": "[encoded data removed]",
      "text/plain": [
       "<Figure size 720x432 with 1 Axes>"
      ]
     },
     "metadata": {},
     "output_type": "display_data"
    },
    {
     "data": {
      "text/plain": [
       "0.0"
      ]
     },
     "execution_count": 5,
     "metadata": {},
     "output_type": "execute_result"
    }
   ],
   "source": [
    "license_array = drive_alone_df[LICENSE_COLUMN].values\n",
    "num_cars_array = drive_alone_df[NUM_AUTOS_COLUMN].values\n",
    "\n",
    "oi.visual_permutation_test(\n",
    "    license_array,\n",
    "    num_cars_array,\n",
    "    z_array=None,\n",
    "    seed=1038,\n",
    "    num_permutations=NUM_PERMUTATIONS,\n",
    "    permutation_color=PERMUTED_COLOR,\n",
    ")"
   ]
  },
  {
   "cell_type": "markdown",
   "metadata": {},
   "source": [
    "### Caveats and pitfalls\n",
    "Two important issues when testing the assumption of mean independence between $X_1$ and $X_2$ are underfitting and overfitting of the model for $E \\left[ X_1 \\mid X_2 \\right]$.\n",
    "\n",
    "If $E \\left[ X_1 \\mid X_2 \\right]$ is underfit, then one's observed test statitic ($r^2$) will be lower than it would be under a correctly specified model.\n",
    "This will increase the probability of Type-2 error, failing to reject the null-hypothesis when the null is false.\n",
    "Underfitting reduces the power of one's predictive test.\n",
    "To guard against underfitting, one should make extensive use of posterior predictive checks and model selection techniques to select the predictively most powerful models that do no show signs of overfitting.\n",
    "\n",
    "Conversely, if $E \\left[ X_1 \\mid X_2 \\right]$ is overfit, then one's observed test statistic ($r^2$) will be higher than it would be under a correctly specified model.\n",
    "This will increase the probability of one rejecting the null-hypothesis when the null is true.\n",
    "Overfitting increases the probability of Type-1 errors.\n",
    "To guard against overfitting, one should make thorough use of cross-validation and related resampling techniques to ensure that one's model performance does not degrade appreciably outside of the training set."
   ]
  },
  {
   "cell_type": "markdown",
   "metadata": {},
   "source": [
    "## Conditional independence tests\n",
    "\n",
    "### Main idea\n",
    "In particular, the notebook will show one way to visually and numerically test the following implication<br>\n",
    "$\n",
    "\\begin{aligned}\n",
    "P \\left( X_1 \\mid X_2, Z \\right) &= P \\left( X_1 \\mid Z \\right) \\\\\n",
    "\\int x_1 P \\left( X_1 \\mid X_2, Z \\right) \\partial{x_1}  &= \\int x_1 P \\left( X_1 \\mid Z \\right) \\partial{x_1} \\\\\n",
    "E \\left[ X_1 \\mid X_2, Z \\right] &= E \\left[ X_1 \\mid Z \\right]\n",
    "\\end{aligned}\n",
    "$\n",
    "\n",
    "In other words, if $X_1$ is conditionally independent of $X_2$ given $Z$, then the expectation of $X_1$ conditional on $X_2$ and $Z$ is equal to the expectation of $X_1$ conditional on $Z$ alone.\n",
    "This implies that shuffling / permuting $X_2$ should make no difference for predicting $X_1$ once we've included $Z$ while predicting.\n",
    "\n",
    "In other words, one's ability predict to predict $X_1$ should not depend on whether one uses the original $X_2$ or the permuted $X_2$, as long as one conditions on $Z$ when predicting $X_1$.\n",
    "In this notebook, we test this invariance using a simple predictive model, linear regression, but in general, one need not and should not restrict oneself to linear predictive models. Upon estimating each regression, we compare $r^2$ as a measure of predictive ability when using $Z$ and the original $X_2$ versus $r^2$ when using $Z$ and the permuted $X_2$.\n",
    "\n",
    "For this test, we'll use the following conditional independence assumption implied by the causal graph above:<br>\n",
    "$\n",
    "P \\left( \\textrm{Travel Time} \\mid \\textrm{Travel Cost}, \\textrm{Travel Distance} \\right) = P \\left( \\textrm{Travel Time} \\mid \\textrm{Travel Distance} \\right)\n",
    "$"
   ]
  },
  {
   "cell_type": "code",
   "execution_count": 6,
   "metadata": {},
   "outputs": [
    {
     "name": "stderr",
     "output_type": "stream",
     "text": [
      "100%|██████████| 100/100 [00:00<00:00, 776.46it/s]\n"
     ]
    },
    {
     "name": "stdout",
     "output_type": "stream",
     "text": [
      "The p-value of the permutation independence test is 0.00.\n"
     ]
    },
    {
     "data": {
      "image/png": "[encoded data removed]",
      "text/plain": [
       "<Figure size 720x432 with 1 Axes>"
      ]
     },
     "metadata": {},
     "output_type": "display_data"
    },
    {
     "data": {
      "text/plain": [
       "0.0"
      ]
     },
     "execution_count": 6,
     "metadata": {},
     "output_type": "execute_result"
    }
   ],
   "source": [
    "time_array = drive_alone_df[TIME_COLUMN].values\n",
    "cost_array = drive_alone_df[COST_COLUMN].values\n",
    "distance_array = drive_alone_df[DISTANCE_COLUMN].values\n",
    "\n",
    "oi.visual_permutation_test(\n",
    "    time_array,\n",
    "    cost_array,\n",
    "    z_array=distance_array,\n",
    "    num_permutations=NUM_PERMUTATIONS,\n",
    "    permutation_color=PERMUTED_COLOR,\n",
    ")"
   ]
  },
  {
   "cell_type": "markdown",
   "metadata": {},
   "source": [
    "### Caveats and pitfalls\n",
    "When testing conditional mean independence (i.e., $E \\left[ X_1 \\mid X_2, Z \\right] = E \\left[ X_1 \\mid Z \\right]$), there are four potential issues of interest.\n",
    "\n",
    "The first issue is misspecification of $E \\left[ X_1 \\mid Z \\right]$.\n",
    "If the conditional mean of $X_1$ depends on un-modeled functions of $Z$ and $Z \\rightarrow X_2$, then the inclusion of $X_2$ in one's model may serve as a proxy for the un-modeled function of $Z$.\n",
    "Such proxy behavior would lead one to observe \"inflated\" values of $r^2$ when modeling $E \\left[ X_1 \\mid X_2, Z \\right]$, thus increasing the probability that one will reject the null-hypothesis of conditional independence when it is true.\n",
    "\n",
    "In other words, to guard against higher-than-nominal probabilities of type-1 error, one needs to guard against underfitting of the model for $E \\left[ X_1 \\mid Z \\right]$ **before** computing one's test-statistic and (permutation-based) reference-distribution.\n",
    "\n",
    "The second issue is misspecification of $E \\left[ X_1 \\mid X_2, Z \\right]$.\n",
    "If one's model for $E \\left[ X_1 \\mid X_2, Z \\right]$ is underfit with respect to $X_2$, then one's test-statistic ($r^2$) will be lower than it should be under accurate specification.\n",
    "This leads to greater probability of type-2 error, i.e., failing to reject the null hypothesis when it is false.\n",
    "\n",
    "The two overfitting issues below are the converse of the underfitting problems discussed in the last two paragraphs.\n",
    "If one's model for $E \\left[ X_1 \\mid Z \\right]$ is overfit, then the reference-distribution of the test statistic will be artificially high.\n",
    "This will lead to higher probability of Type-2 error: i.e., lower probability of rejecting the null hypothesis of conditional independence when it is indeed false.\n",
    "Likewise, if one's model for $E \\left[ X_1 \\mid X_2, Z \\right]$ is overfit to $X_2$, then one's test-statistic will be artificially high, thus increasing the probability of Type-1 error--incorrectly rejecting the null-hypothesis when it is true.\n",
    "\n",
    "To avoid all such problems or the combination of these problems, be sure to check one's models of $E \\left[ X_1 \\mid Z \\right]$ and $E \\left[ X_1 \\mid X_2, Z \\right]$ for both under- and over-fitting.\n",
    "As mentioned above, posterior predictive checks are most helpful for identifying underfitting in one's models.\n",
    "Cross-validation and resampling techniques are great for identifying overfitting."
   ]
  },
  {
   "cell_type": "markdown",
   "metadata": {},
   "source": [
    "## Latent conditional independence tests\n"
   ]
  },
  {
   "cell_type": "markdown",
   "metadata": {},
   "source": [
    "### Show the posited causal graph\n",
    "The key differences between the graph underlying the latent, conditional independence tests and the graph underlying the tests above are that, now, we posit:\n",
    "1. the existence of a latent confounder\n",
    "2. the conditional independence of the observed variables, given the latent confounder."
   ]
  },
  {
   "cell_type": "code",
   "execution_count": 7,
   "metadata": {},
   "outputs": [
    {
     "data": {
      "image/svg+xml": [
       "<?xml version=\"1.0\" encoding=\"UTF-8\" standalone=\"no\"?>\n",
       "<!DOCTYPE svg PUBLIC \"-//W3C//DTD SVG 1.1//EN\"\n",
       " \"http://www.w3.org/Graphics/SVG/1.1/DTD/svg11.dtd\">\n",
       "<!-- Generated by graphviz version 2.38.0 (20140413.2041)\n",
       " -->\n",
       "<!-- Title: %3 Pages: 1 -->\n",
       "<svg width=\"720pt\" height=\"143pt\"\n",
       " viewBox=\"0.00 0.00 720.00 142.99\" xmlns=\"http://www.w3.org/2000/svg\" xmlns:xlink=\"http://www.w3.org/1999/xlink\">\n",
       "<g id=\"graph0\" class=\"graph\" transform=\"scale(0.760574 0.760574) rotate(0) translate(4 184)\">\n",
       "<title>%3</title>\n",
       "<polygon fill=\"white\" stroke=\"none\" points=\"-4,4 -4,-184 942.653,-184 942.653,4 -4,4\"/>\n",
       "<!-- Number of Licensed Drivers -->\n",
       "<g id=\"node1\" class=\"node\"><title>Number of Licensed Drivers</title>\n",
       "<ellipse fill=\"none\" stroke=\"black\" cx=\"111.526\" cy=\"-90\" rx=\"111.552\" ry=\"18\"/>\n",
       "<text text-anchor=\"middle\" x=\"111.526\" y=\"-85.8\" font-family=\"Times,serif\" font-size=\"14.00\">Number of Licensed Drivers</text>\n",
       "</g>\n",
       "<!-- Utility (Drive Alone) -->\n",
       "<g id=\"node4\" class=\"node\"><title>Utility (Drive Alone)</title>\n",
       "<ellipse fill=\"none\" stroke=\"black\" cx=\"526.526\" cy=\"-18\" rx=\"84.5514\" ry=\"18\"/>\n",
       "<text text-anchor=\"middle\" x=\"526.526\" y=\"-13.8\" font-family=\"Times,serif\" font-size=\"14.00\">Utility (Drive Alone)</text>\n",
       "</g>\n",
       "<!-- Number of Licensed Drivers&#45;&gt;Utility (Drive Alone) -->\n",
       "<g id=\"edge11\" class=\"edge\"><title>Number of Licensed Drivers&#45;&gt;Utility (Drive Alone)</title>\n",
       "<path fill=\"none\" stroke=\"black\" d=\"M185.72,-76.4854C261.136,-63.7646 377.293,-44.1718 452.609,-31.4679\"/>\n",
       "<polygon fill=\"black\" stroke=\"black\" points=\"453.221,-34.9142 462.5,-29.7996 452.057,-28.0117 453.221,-34.9142\"/>\n",
       "</g>\n",
       "<!-- Total Travel Time -->\n",
       "<g id=\"node2\" class=\"node\"><title>Total Travel Time</title>\n",
       "<ellipse fill=\"none\" stroke=\"black\" cx=\"314.526\" cy=\"-90\" rx=\"73.2773\" ry=\"18\"/>\n",
       "<text text-anchor=\"middle\" x=\"314.526\" y=\"-85.8\" font-family=\"Times,serif\" font-size=\"14.00\">Total Travel Time</text>\n",
       "</g>\n",
       "<!-- Total Travel Time&#45;&gt;Utility (Drive Alone) -->\n",
       "<g id=\"edge8\" class=\"edge\"><title>Total Travel Time&#45;&gt;Utility (Drive Alone)</title>\n",
       "<path fill=\"none\" stroke=\"black\" d=\"M356.41,-75.1703C389.721,-64.1714 436.563,-48.7048 472.662,-36.7852\"/>\n",
       "<polygon fill=\"black\" stroke=\"black\" points=\"474.141,-39.9829 482.539,-33.524 471.946,-33.3359 474.141,-39.9829\"/>\n",
       "</g>\n",
       "<!-- Total Travel Cost -->\n",
       "<g id=\"node3\" class=\"node\"><title>Total Travel Cost</title>\n",
       "<ellipse fill=\"none\" stroke=\"black\" cx=\"477.526\" cy=\"-90\" rx=\"71.3132\" ry=\"18\"/>\n",
       "<text text-anchor=\"middle\" x=\"477.526\" y=\"-85.8\" font-family=\"Times,serif\" font-size=\"14.00\">Total Travel Cost</text>\n",
       "</g>\n",
       "<!-- Total Travel Cost&#45;&gt;Utility (Drive Alone) -->\n",
       "<g id=\"edge9\" class=\"edge\"><title>Total Travel Cost&#45;&gt;Utility (Drive Alone)</title>\n",
       "<path fill=\"none\" stroke=\"black\" d=\"M489.388,-72.055C495.14,-63.8373 502.172,-53.7911 508.564,-44.6599\"/>\n",
       "<polygon fill=\"black\" stroke=\"black\" points=\"511.566,-46.4748 514.433,-36.2753 505.831,-42.4605 511.566,-46.4748\"/>\n",
       "</g>\n",
       "<!-- confounder -->\n",
       "<g id=\"node5\" class=\"node\"><title>confounder</title>\n",
       "<ellipse fill=\"none\" stroke=\"black\" cx=\"526.526\" cy=\"-162\" rx=\"50.2551\" ry=\"18\"/>\n",
       "<text text-anchor=\"middle\" x=\"526.526\" y=\"-157.8\" font-family=\"Times,serif\" font-size=\"14.00\">confounder</text>\n",
       "</g>\n",
       "<!-- confounder&#45;&gt;Number of Licensed Drivers -->\n",
       "<g id=\"edge5\" class=\"edge\"><title>confounder&#45;&gt;Number of Licensed Drivers</title>\n",
       "<path fill=\"none\" stroke=\"black\" d=\"M481.719,-153.442C413.475,-141.931 282.312,-119.807 195.857,-105.224\"/>\n",
       "<polygon fill=\"black\" stroke=\"black\" points=\"196.247,-101.741 185.804,-103.529 195.083,-108.643 196.247,-101.741\"/>\n",
       "</g>\n",
       "<!-- confounder&#45;&gt;Total Travel Time -->\n",
       "<g id=\"edge2\" class=\"edge\"><title>confounder&#45;&gt;Total Travel Time</title>\n",
       "<path fill=\"none\" stroke=\"black\" d=\"M490.563,-149.125C456.367,-137.834 404.569,-120.731 366.003,-107.997\"/>\n",
       "<polygon fill=\"black\" stroke=\"black\" points=\"367.095,-104.672 356.501,-104.86 364.9,-111.319 367.095,-104.672\"/>\n",
       "</g>\n",
       "<!-- confounder&#45;&gt;Total Travel Cost -->\n",
       "<g id=\"edge3\" class=\"edge\"><title>confounder&#45;&gt;Total Travel Cost</title>\n",
       "<path fill=\"none\" stroke=\"black\" d=\"M514.914,-144.411C509.02,-135.992 501.735,-125.585 495.167,-116.201\"/>\n",
       "<polygon fill=\"black\" stroke=\"black\" points=\"497.997,-114.141 489.395,-107.956 492.263,-118.156 497.997,-114.141\"/>\n",
       "</g>\n",
       "<!-- confounder&#45;&gt;Utility (Drive Alone) -->\n",
       "<g id=\"edge6\" class=\"edge\"><title>confounder&#45;&gt;Utility (Drive Alone)</title>\n",
       "<path fill=\"none\" stroke=\"black\" d=\"M539.35,-144.377C546.207,-134.42 553.957,-121.17 557.526,-108 561.711,-92.5569 561.711,-87.4431 557.526,-72 554.946,-62.4797 550.181,-52.9174 545.148,-44.5872\"/>\n",
       "<polygon fill=\"black\" stroke=\"black\" points=\"548.032,-42.6006 539.672,-36.092 542.148,-46.3933 548.032,-42.6006\"/>\n",
       "</g>\n",
       "<!-- Number of Autos -->\n",
       "<g id=\"node6\" class=\"node\"><title>Number of Autos</title>\n",
       "<ellipse fill=\"none\" stroke=\"black\" cx=\"676.526\" cy=\"-90\" rx=\"71.5376\" ry=\"18\"/>\n",
       "<text text-anchor=\"middle\" x=\"676.526\" y=\"-85.8\" font-family=\"Times,serif\" font-size=\"14.00\">Number of Autos</text>\n",
       "</g>\n",
       "<!-- confounder&#45;&gt;Number of Autos -->\n",
       "<g id=\"edge4\" class=\"edge\"><title>confounder&#45;&gt;Number of Autos</title>\n",
       "<path fill=\"none\" stroke=\"black\" d=\"M555.804,-147.337C578.333,-136.824 609.763,-122.156 634.905,-110.423\"/>\n",
       "<polygon fill=\"black\" stroke=\"black\" points=\"636.62,-113.485 644.202,-106.085 633.66,-107.142 636.62,-113.485\"/>\n",
       "</g>\n",
       "<!-- Total Travel Distance -->\n",
       "<g id=\"node7\" class=\"node\"><title>Total Travel Distance</title>\n",
       "<ellipse fill=\"none\" stroke=\"black\" cx=\"852.526\" cy=\"-90\" rx=\"86.2541\" ry=\"18\"/>\n",
       "<text text-anchor=\"middle\" x=\"852.526\" y=\"-85.8\" font-family=\"Times,serif\" font-size=\"14.00\">Total Travel Distance</text>\n",
       "</g>\n",
       "<!-- confounder&#45;&gt;Total Travel Distance -->\n",
       "<g id=\"edge1\" class=\"edge\"><title>confounder&#45;&gt;Total Travel Distance</title>\n",
       "<path fill=\"none\" stroke=\"black\" d=\"M568.477,-151.992C623.161,-140.25 719.486,-119.567 784.634,-105.578\"/>\n",
       "<polygon fill=\"black\" stroke=\"black\" points=\"785.769,-108.914 794.811,-103.393 784.299,-102.07 785.769,-108.914\"/>\n",
       "</g>\n",
       "<!-- Number of Autos&#45;&gt;Utility (Drive Alone) -->\n",
       "<g id=\"edge10\" class=\"edge\"><title>Number of Autos&#45;&gt;Utility (Drive Alone)</title>\n",
       "<path fill=\"none\" stroke=\"black\" d=\"M643.978,-73.811C622.071,-63.5876 592.958,-50.0017 569.198,-38.9138\"/>\n",
       "<polygon fill=\"black\" stroke=\"black\" points=\"570.591,-35.7013 560.049,-34.644 567.631,-42.0446 570.591,-35.7013\"/>\n",
       "</g>\n",
       "<!-- Total Travel Distance&#45;&gt;Utility (Drive Alone) -->\n",
       "<g id=\"edge7\" class=\"edge\"><title>Total Travel Distance&#45;&gt;Utility (Drive Alone)</title>\n",
       "<path fill=\"none\" stroke=\"black\" d=\"M794.619,-76.5661C738.407,-64.4959 653.125,-46.1838 593.9,-33.4668\"/>\n",
       "<polygon fill=\"black\" stroke=\"black\" points=\"594.405,-29.9956 583.893,-31.3182 592.936,-36.8396 594.405,-29.9956\"/>\n",
       "</g>\n",
       "</g>\n",
       "</svg>\n"
      ],
      "text/plain": [
       "<graphviz.dot.Digraph at 0x126adca58>"
      ]
     },
     "execution_count": 7,
     "metadata": {},
     "output_type": "execute_result"
    }
   ],
   "source": [
    "# Draw the causal model being tested\n",
    "latent_causal_graph = LATENT_DRIVE_ALONE_UTILITY.draw()\n",
    "latent_causal_graph.graph_attr.update(size=\"10,6\")\n",
    "latent_causal_graph"
   ]
  },
  {
   "cell_type": "markdown",
   "metadata": {},
   "source": [
    "### Main idea\n",
    "The latent, conditional independence test is a prior / posterior predictive test that involves a latent variable.\n",
    "\n",
    "Section 2.2 of\n",
    "> Gelman, Andrew, Xiao-Li Meng, and Hal Stern. \"Posterior predictive assessment of model fitness via realized discrepancies.\" Statistica sinica (1996): 733-760.\n",
    "\n",
    "describes these tests.\n",
    "\n",
    "The basic idea is to select a test-statistic or discrepancy measure $D \\left( \\textrm{Data} ; \\theta \\right)$ that is a function of both the observed or simulated data and of the latent variables $\\theta$.\n",
    "In the test demonstrated below, $D \\left( \\textrm{Data} ; \\theta \\right)$ is the p-value resulting from the visual conditional independence function above.\n",
    "This discrepancy value is an estimate of the probability that the chosen $X_1$ and $X_2$ variables are not conditionally independent given a particular vector $\\theta$ of latent confounders.\n",
    "\n",
    "The tail-area probability (i.e. the analog of the classical p-value) that corresponds to this discrepancy value is:<br>\n",
    "$\n",
    "P \\left[ D \\left( \\textrm{Data}^{\\textrm{rep}} ; \\theta \\right) \\geq D \\left( \\textrm{Data}^{\\textrm{obs}} ; \\theta \\right) \\mid \\textrm{Model}, \\textrm{Data}^{\\textrm{obs}} \\right] =\\\\\n",
    "\\int \\left[ D \\left( \\textrm{Data}^{\\textrm{rep}} ; \\theta \\right) \\geq D \\left( \\textrm{Data}^{\\textrm{obs}} ; \\theta \\right) \\mid \\textrm{Model}, \\textrm{Data}^{\\textrm{obs}} \\right] \\partial P \\left( \\textrm{Data}^{\\textrm{rep}}, \\theta \\mid \\textrm{Model}, \\textrm{Data}^{\\textrm{obs}} \\right)\n",
    "$\n",
    "\n",
    "In words, the demonstrated test iteratively samples the latent confounder and then simulates a dataset of replicated variables.\n",
    "For each sample of the confounder and replicated dataset, we calculate the p-value of the visual, conditional independence test for both:\n",
    "- the observed covariates and currently sampled confounder vector,\n",
    "- the replicated dataset and currently sampled confounder vector.\n",
    "\n",
    "The overall p-value of the latent conditional independence test is then calculated by averaging the number of times that the p-value with the replicated dataset is more extreme (i.e., greater than) than the p-value with the observed dataset.\n",
    "\n",
    "#### Prior distribution based test"
   ]
  },
  {
   "cell_type": "code",
   "execution_count": 8,
   "metadata": {},
   "outputs": [
    {
     "name": "stdout",
     "output_type": "stream",
     "text": [
      "                            mean        std\n",
      "total_travel_time      29.667137  24.586569\n",
      "total_travel_cost       3.289287   4.214448\n",
      "total_travel_distance  15.579498  18.465879\n",
      "num_licensed_drivers    2.178759   0.751621\n",
      "num_cars                2.050999   0.880458\n"
     ]
    }
   ],
   "source": [
    "# Get the means and standard deviations of those variables\n",
    "drive_alone_means = drive_alone_df.mean()\n",
    "drive_alone_means.name = \"mean\"\n",
    "\n",
    "drive_alone_stds = drive_alone_df.std()\n",
    "drive_alone_stds.name = \"std\"\n",
    "\n",
    "# Look at the computed means and standard deviations\n",
    "print(pd.DataFrame([drive_alone_means, drive_alone_stds]).T)"
   ]
  },
  {
   "cell_type": "code",
   "execution_count": 9,
   "metadata": {},
   "outputs": [
    {
     "name": "stdout",
     "output_type": "stream",
     "text": [
      "(3804, 5, 100)\n"
     ]
    }
   ],
   "source": [
    "# Note the number of dimensions\n",
    "num_dimensions = len(UTILITY_COLUMNS)\n",
    "\n",
    "# Specify the prior distributions for the factor\n",
    "# model of the standardized drive alone dataframe\n",
    "w_dist_prior = scipy.stats.norm(loc=0, scale=1)\n",
    "z_dist_prior = scipy.stats.norm(loc=0, scale=1)\n",
    "\n",
    "sigma_prior = 0.1\n",
    "epsilon_dist_prior = scipy.stats.norm(loc=0, scale=sigma_prior)\n",
    "\n",
    "# Get samples of x from the prior distribution factor model\n",
    "x_samples_prior, z_samples_prior = sample_from_factor_model(\n",
    "    loadings_dist=z_dist_prior,\n",
    "    coef_dist=w_dist_prior,\n",
    "    noise_dist=epsilon_dist_prior,\n",
    "    standard_deviations=drive_alone_stds.values,\n",
    "    means=drive_alone_means.values,\n",
    "    num_obs=num_drive_alone_obs,\n",
    "    num_samples=NUM_PERMUTATIONS,\n",
    "    num_factors=1,\n",
    "    seed=721,\n",
    ")\n",
    "\n",
    "# Look at the dimensions of the prior predictive samples\n",
    "print(x_samples_prior.shape)"
   ]
  },
  {
   "cell_type": "code",
   "execution_count": 10,
   "metadata": {},
   "outputs": [
    {
     "data": {
      "application/vnd.jupyter.widget-view+json": {
       "model_id": "e6941c807c4d41409fe9c6ede6e1c809",
       "version_major": 2,
       "version_minor": 0
      },
      "text/plain": [
       "HBox(children=(FloatProgress(value=0.0), HTML(value='')))"
      ]
     },
     "metadata": {},
     "output_type": "display_data"
    },
    {
     "name": "stdout",
     "output_type": "stream",
     "text": [
      "\n",
      "The p-value of the predictive, permutation C.I.T. is 0.99.\n"
     ]
    },
    {
     "data": {
      "image/png": "[encoded data removed]",
      "text/plain": [
       "<Figure size 720x432 with 1 Axes>"
      ]
     },
     "metadata": {},
     "output_type": "display_data"
    }
   ],
   "source": [
    "# Collect the columns being used in the test and info about them.\n",
    "columns_for_test = [NUM_AUTOS_COLUMN, LICENSE_COLUMN]\n",
    "col_idxs_for_test = [UTILITY_COLUMNS.index(col) for col in columns_for_test]\n",
    "\n",
    "# Get the observed values to be used for testing\n",
    "obs_sample = drive_alone_df.loc[:, columns_for_test].values\n",
    "\n",
    "# Get the prior predictive values for testing\n",
    "prior_samples_triplet = np.concatenate(\n",
    "    (x_samples_prior[:, col_idxs_for_test, :], z_samples_prior), axis=1\n",
    ")\n",
    "\n",
    "# Use the predictive, conditional independence test\n",
    "pval, sampled_pvals, obs_pvals = li.perform_visual_predictive_cit_test(\n",
    "    prior_samples_triplet, obs_sample\n",
    ")"
   ]
  },
  {
   "cell_type": "markdown",
   "metadata": {},
   "source": [
    "#### Posterior distribution based test"
   ]
  },
  {
   "cell_type": "code",
   "execution_count": 11,
   "metadata": {},
   "outputs": [
    {
     "name": "stdout",
     "output_type": "stream",
     "text": [
      "(3804, 5, 100)\n"
     ]
    }
   ],
   "source": [
    "# Load the parameters of the variational approximation to\n",
    "# the posterior distribution over W and Z\n",
    "w_post_params = pd.read_csv(PATH_TO_W_PARAMS, index_col=0)\n",
    "z_post_params = pd.read_csv(PATH_TO_Z_PARAMS, index_col=0)\n",
    "\n",
    "# Create the posterior distribution of coefficients\n",
    "# Note we need the arguments to have shape that can,\n",
    "# be broadcast to (num_factors, num_predictors, num_samples)\n",
    "w_dist_post = scipy.stats.norm(\n",
    "    loc=w_post_params[\"w_mean_inferred\"].values[None, :, None],\n",
    "    scale=w_post_params[\"w_std_inferred\"].values[None:, None],\n",
    ")\n",
    "\n",
    "# Create the posterior distribution of loadings\n",
    "# Note we need the arguments to have shape that can,\n",
    "# be broadcast to (num_obs, num_factors, num_samples)\n",
    "z_dist_post = scipy.stats.norm(\n",
    "    loc=z_post_params[\"z_mean_inferred\"].values[:, None, None],\n",
    "    scale=z_post_params[\"z_std_inferred\"].values[:, None, None],\n",
    ")\n",
    "\n",
    "# Get posterior samples of X_standardized\n",
    "x_samples_post, z_samples_post = sample_from_factor_model(\n",
    "    loadings_dist=z_dist_post,\n",
    "    coef_dist=w_dist_post,\n",
    "    noise_dist=epsilon_dist_prior,\n",
    "    standard_deviations=drive_alone_stds.values,\n",
    "    means=drive_alone_means.values,\n",
    "    num_obs=num_drive_alone_obs,\n",
    "    num_samples=NUM_PERMUTATIONS,\n",
    "    num_factors=1,\n",
    "    post=False,\n",
    "    seed=852,\n",
    ")\n",
    "\n",
    "# Look at the dimensions of the prior predictive samples\n",
    "print(x_samples_post.shape)"
   ]
  },
  {
   "cell_type": "code",
   "execution_count": 12,
   "metadata": {},
   "outputs": [
    {
     "data": {
      "application/vnd.jupyter.widget-view+json": {
       "model_id": "7682f4fa26ce4b75bc1d8a846bbd696d",
       "version_major": 2,
       "version_minor": 0
      },
      "text/plain": [
       "HBox(children=(FloatProgress(value=0.0), HTML(value='')))"
      ]
     },
     "metadata": {},
     "output_type": "display_data"
    },
    {
     "name": "stdout",
     "output_type": "stream",
     "text": [
      "\n",
      "The p-value of the predictive, permutation C.I.T. is 0.98.\n"
     ]
    },
    {
     "data": {
      "image/png": "[encoded data removed]",
      "text/plain": [
       "<Figure size 720x432 with 1 Axes>"
      ]
     },
     "metadata": {},
     "output_type": "display_data"
    }
   ],
   "source": [
    "# Get the posterior predictive values for the test\n",
    "posterior_samples_triplet = np.concatenate(\n",
    "    (x_samples_post[:, col_idxs_for_test, :], z_samples_post), axis=1\n",
    ")\n",
    "\n",
    "# Test out the predictive conditional independence test\n",
    "(\n",
    "    post_pval,\n",
    "    post_sampled_pvals,\n",
    "    post_obs_pvals,\n",
    ") = li.perform_visual_predictive_cit_test(\n",
    "    posterior_samples_triplet, obs_sample\n",
    ")"
   ]
  },
  {
   "cell_type": "markdown",
   "metadata": {},
   "source": [
    "### Caveats and pitfalls"
   ]
  },
  {
   "cell_type": "code",
   "execution_count": 13,
   "metadata": {},
   "outputs": [
    {
     "name": "stdout",
     "output_type": "stream",
     "text": [
      "Prior\n"
     ]
    },
    {
     "data": {
      "image/png": "[encoded data removed]",
      "text/plain": [
       "<Figure size 720x432 with 1 Axes>"
      ]
     },
     "metadata": {},
     "output_type": "display_data"
    },
    {
     "name": "stdout",
     "output_type": "stream",
     "text": [
      "Posterior\n"
     ]
    },
    {
     "data": {
      "image/png": "[encoded data removed]",
      "text/plain": [
       "<Figure size 720x432 with 1 Axes>"
      ]
     },
     "metadata": {},
     "output_type": "display_data"
    }
   ],
   "source": [
    "# Choose a column of data to compare, e.g., the\n",
    "# travel time column.\n",
    "current_col = TIME_COLUMN\n",
    "current_col_idx = UTILITY_COLUMNS.index(TIME_COLUMN)\n",
    "\n",
    "print(\"Prior\")\n",
    "prior_sim_cdf = li.plot_simulated_vs_observed_cdf(\n",
    "    drive_alone_df.iloc[:, current_col_idx].values,\n",
    "    x_samples_prior[:, current_col_idx, :],\n",
    "    x_label=current_col,\n",
    ")\n",
    "\n",
    "print(\"Posterior\")\n",
    "posterior_sim_cdf = li.plot_simulated_vs_observed_cdf(\n",
    "    drive_alone_df.iloc[:, current_col_idx].values,\n",
    "    x_samples_post[:, current_col_idx, :],\n",
    "    x_label=current_col,\n",
    ")"
   ]
  },
  {
   "cell_type": "markdown",
   "metadata": {},
   "source": [
    "Overall, the caveats and pitfalls only increase as one moves from marginal to conditional to latent, conditional independence tests.\n",
    "\n",
    "When testing for latent, conditional independence, one has to be wary of the same caveats as with conditional independence: under-/overfitting of the models for $E \\left[ X_1 \\mid Z \\right]$ and $E \\left[ X_1 \\mid X_2, Z \\right]$.\n",
    "\n",
    "Additionally, however, one must also be wary of any combination of:\n",
    "- models for the latent confounder\n",
    "- models for how the latent confounder causes the observed variables\n",
    "- prior distributions for the parameters of these models\n",
    "- posterior distributions for the parameters of these models\n",
    "that generates unrealistic data in a prior or posterior check.\n",
    "We hypothesize that if the your model and prior / posterior distribution generates data that is generally dissimilar to the observed data, then these generated datasets are unlikely to have similar conditional, mean independence measures."
   ]
  },
  {
   "cell_type": "markdown",
   "metadata": {},
   "source": [
    "## Summary\n",
    "The tests performed above collectively point to a few conclusions.\n",
    "\n",
    "1. The originally posited causal graph is strongly refuted by the available data.\n",
    "This is shown by the marginal and conditional independence tests.\n",
    "2. The second posited causal graph (featuring an unobserved confounder) is also refuted by the data, based on the given prior or posterior distributions for the unobserved confounder.\n",
    "This is shown by the latent, conditional independence tests.\n",
    "3. Checking the predictive models used in one's tests for underfitting and overfitting is noted to be important for obtaining tests with high power and low probability of Type-1 error.\n",
    "4. The latent, conditional independence tests exemplifies the utility of general, prior and posterior predictive checks of one's generative model.\n",
    "The resulting hypothesis is that if one's model and prior/posterior distributions indicate general data conflict, then one's latent, conditional independence tests are likely to fail with the same prior/posterior distributions."
   ]
  }
 ],
 "metadata": {
  "jupytext": {
   "formats": "ipynb,py:light,md"
  },
  "kernelspec": {
   "display_name": "Python 3",
   "language": "python",
   "name": "python3"
  },
  "language_info": {
   "codemirror_mode": {
    "name": "ipython",
    "version": 3
   },
   "file_extension": ".py",
   "mimetype": "text/x-python",
   "name": "python",
   "nbconvert_exporter": "python",
   "pygments_lexer": "ipython3",
   "version": "3.7.3"
  }
 },
 "nbformat": 4,
 "nbformat_minor": 4
}
