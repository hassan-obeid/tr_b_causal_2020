{
 "cells": [
  {
   "cell_type": "markdown",
   "metadata": {},
   "source": [
    "# Testing your causal graph\n",
    "\n",
    "## Purpose\n",
    "This notebook describes and demonstrates methods for testing the assumptions of one's causal graph.\n",
    "We test three types of assumptions:\n",
    "- marginal independence assumptions,\n",
    "- conditional independence assumptions, and\n",
    "- latent, conditional independence assumptions.\n",
    "\n",
    "For each assumption, we first describe the logic used to test it.\n",
    "Then, we demonstrate one mechanism for testing the assumption according to that logic.\n"
   ]
  },
  {
   "cell_type": "markdown",
   "metadata": {},
   "source": [
    "## Import needed libraries"
   ]
  },
  {
   "cell_type": "code",
   "execution_count": 1,
   "metadata": {
    "lines_to_end_of_cell_marker": 2
   },
   "outputs": [],
   "source": [
    "# Built-in modules\n",
    "import sys  # noqa: E402\n",
    "\n",
    "import causal2020.testing.latent_independence as li  # noqa: E402 noreorder\n",
    "import causal2020.testing.observable_independence as oi  # noqa: E402 noreorder\n",
    "import checkrs.sim_cdf as sim_cdf  # noqa: E402 noreorder\n",
    "import numpy as np  # noqa: E402\n",
    "import pandas as pd  # noqa: E402\n",
    "import scipy.stats  # noqa: E402\n",
    "from causal2020.graphs.drive_alone_utility import (  # noqa: E402 noreorder\n",
    "    DRIVE_ALONE_UTILITY,\n",
    "    LATENT_DRIVE_ALONE_UTILITY,\n",
    ")\n",
    "from causal2020.utils import sample_from_factor_model  # noqa: E402 noreorder\n",
    "from pyprojroot import here"
   ]
  },
  {
   "cell_type": "markdown",
   "metadata": {},
   "source": [
    "## Set notebook parameters"
   ]
  },
  {
   "cell_type": "code",
   "execution_count": 2,
   "metadata": {},
   "outputs": [],
   "source": [
    "# Parameters\n",
    "\n",
    "# Declare paths to data\n",
    "DATA_PATH = here(\n",
    "    \"data/raw/spring_2016_all_bay_area_long_format_plus_cross_bay_col.csv\"\n",
    ")\n",
    "# Note that these files are based on using the PPCA model\n",
    "# of Wang and Blei (2018). W represents global factor\n",
    "# coefficients and Z represents latent factor loadings\n",
    "PATH_TO_W_PARAMS = here(\"data/processed/W_inferred_PPCA.csv\")\n",
    "PATH_TO_Z_PARAMS = here(\"data/processed/Z_inferred_PPCA.csv\")\n",
    "\n",
    "# Note the columns of interest for this notebook\n",
    "MODE_ID_COLUMN = \"mode_id\"\n",
    "OBS_ID_COLUMN = \"observation_id\"\n",
    "\n",
    "TIME_COLUMN = \"total_travel_time\"\n",
    "COST_COLUMN = \"total_travel_cost\"\n",
    "DISTANCE_COLUMN = \"total_travel_distance\"\n",
    "LICENSE_COLUMN = \"num_licensed_drivers\"\n",
    "NUM_AUTOS_COLUMN = \"num_cars\"\n",
    "\n",
    "UTILITY_COLUMNS = [\n",
    "    TIME_COLUMN,\n",
    "    COST_COLUMN,\n",
    "    DISTANCE_COLUMN,\n",
    "    LICENSE_COLUMN,\n",
    "    NUM_AUTOS_COLUMN,\n",
    "]\n",
    "\n",
    "# Note the travel mode of intersest for this notebook\n",
    "DRIVE_ALONE_ID = 1\n",
    "\n",
    "# Note the number of permutations to be used when\n",
    "# testing the causal graphs\n",
    "NUM_PERMUTATIONS = 100\n",
    "\n",
    "# Choose a color to represent reference /\n",
    "# permutation-based test statistics\n",
    "PERMUTED_COLOR = \"#a6bddb\""
   ]
  },
  {
   "cell_type": "markdown",
   "metadata": {},
   "source": [
    "## Load and describe needed data"
   ]
  },
  {
   "cell_type": "code",
   "execution_count": 3,
   "metadata": {},
   "outputs": [
    {
     "name": "stdout",
     "output_type": "stream",
     "text": [
      "                           0        8        16       24       32\n",
      "total_travel_time      54.010  39.7800  22.2200  22.3000  47.9500\n",
      "total_travel_cost       5.714   4.4519   1.6817   1.6817   5.9782\n",
      "total_travel_distance  30.920  24.0900   9.1000   9.1000  32.3500\n",
      "num_licensed_drivers    2.000   2.0000   2.0000   2.0000   2.0000\n",
      "num_cars                2.000   2.0000   2.0000   2.0000   2.0000\n",
      "observation_id          1.000   2.0000   3.0000   4.0000   5.0000\n"
     ]
    }
   ],
   "source": [
    "# Load the raw data\n",
    "df = pd.read_csv(DATA_PATH)\n",
    "\n",
    "# Look at the data being used in this notebook\n",
    "print(\n",
    "    df.loc[\n",
    "        df[MODE_ID_COLUMN] == DRIVE_ALONE_ID, UTILITY_COLUMNS + [OBS_ID_COLUMN]\n",
    "    ]\n",
    "    .head(5)\n",
    "    .T\n",
    ")\n",
    "\n",
    "# Create a dataframe with the variables posited\n",
    "# to make up the drive-alone utility\n",
    "drive_alone_df = df.loc[df[MODE_ID_COLUMN] == DRIVE_ALONE_ID, UTILITY_COLUMNS]\n",
    "\n",
    "# Figure out how many observations we have with\n",
    "# the drive alone mode being available\n",
    "num_drive_alone_obs = drive_alone_df.shape[0]"
   ]
  },
  {
   "cell_type": "markdown",
   "metadata": {},
   "source": [
    "## Show the posited causal graph"
   ]
  },
  {
   "cell_type": "code",
   "execution_count": 4,
   "metadata": {},
   "outputs": [
    {
     "data": {
      "image/svg+xml": [
       "<?xml version=\"1.0\" encoding=\"UTF-8\" standalone=\"no\"?>\n",
       "<!DOCTYPE svg PUBLIC \"-//W3C//DTD SVG 1.1//EN\"\n",
       " \"http://www.w3.org/Graphics/SVG/1.1/DTD/svg11.dtd\">\n",
       "<!-- Generated by graphviz version 2.42.3 (20191010.1750)\n",
       " -->\n",
       "<!-- Title: %3 Pages: 1 -->\n",
       "<svg width=\"360pt\" height=\"87pt\"\n",
       " viewBox=\"0.00 0.00 360.00 86.50\" xmlns=\"http://www.w3.org/2000/svg\" xmlns:xlink=\"http://www.w3.org/1999/xlink\">\n",
       "<g id=\"graph0\" class=\"graph\" transform=\"scale(2.17 2.17) rotate(0) translate(4 184)\">\n",
       "<title>%3</title>\n",
       "<polygon fill=\"white\" stroke=\"transparent\" points=\"-4,4 -4,-184 778.38,-184 778.38,4 -4,4\"/>\n",
       "<!-- Total Travel Time -->\n",
       "<g id=\"node1\" class=\"node\">\n",
       "<title>Total Travel Time</title>\n",
       "<ellipse fill=\"none\" stroke=\"black\" cx=\"77.34\" cy=\"-90\" rx=\"77.19\" ry=\"18\"/>\n",
       "<text text-anchor=\"middle\" x=\"77.34\" y=\"-86.3\" font-family=\"Times,serif\" font-size=\"14.00\">Total Travel Time</text>\n",
       "</g>\n",
       "<!-- Utility (Drive Alone) -->\n",
       "<g id=\"node4\" class=\"node\">\n",
       "<title>Utility (Drive Alone)</title>\n",
       "<ellipse fill=\"none\" stroke=\"black\" cx=\"350.34\" cy=\"-18\" rx=\"87.99\" ry=\"18\"/>\n",
       "<text text-anchor=\"middle\" x=\"350.34\" y=\"-14.3\" font-family=\"Times,serif\" font-size=\"14.00\">Utility (Drive Alone)</text>\n",
       "</g>\n",
       "<!-- Total Travel Time&#45;&gt;Utility (Drive Alone) -->\n",
       "<g id=\"edge4\" class=\"edge\">\n",
       "<title>Total Travel Time&#45;&gt;Utility (Drive Alone)</title>\n",
       "<path fill=\"none\" stroke=\"black\" d=\"M127.42,-76.16C172.63,-64.57 239.35,-47.46 288.01,-34.98\"/>\n",
       "<polygon fill=\"black\" stroke=\"black\" points=\"288.98,-38.35 297.8,-32.47 287.24,-31.57 288.98,-38.35\"/>\n",
       "</g>\n",
       "<!-- Total Travel Distance -->\n",
       "<g id=\"node2\" class=\"node\">\n",
       "<title>Total Travel Distance</title>\n",
       "<ellipse fill=\"none\" stroke=\"black\" cx=\"247.34\" cy=\"-162\" rx=\"90.18\" ry=\"18\"/>\n",
       "<text text-anchor=\"middle\" x=\"247.34\" y=\"-158.3\" font-family=\"Times,serif\" font-size=\"14.00\">Total Travel Distance</text>\n",
       "</g>\n",
       "<!-- Total Travel Distance&#45;&gt;Total Travel Time -->\n",
       "<g id=\"edge1\" class=\"edge\">\n",
       "<title>Total Travel Distance&#45;&gt;Total Travel Time</title>\n",
       "<path fill=\"none\" stroke=\"black\" d=\"M209.61,-145.46C184.06,-134.94 150.16,-120.98 123.07,-109.83\"/>\n",
       "<polygon fill=\"black\" stroke=\"black\" points=\"124.38,-106.58 113.8,-106.01 121.71,-113.06 124.38,-106.58\"/>\n",
       "</g>\n",
       "<!-- Total Travel Cost -->\n",
       "<g id=\"node3\" class=\"node\">\n",
       "<title>Total Travel Cost</title>\n",
       "<ellipse fill=\"none\" stroke=\"black\" cx=\"247.34\" cy=\"-90\" rx=\"74.99\" ry=\"18\"/>\n",
       "<text text-anchor=\"middle\" x=\"247.34\" y=\"-86.3\" font-family=\"Times,serif\" font-size=\"14.00\">Total Travel Cost</text>\n",
       "</g>\n",
       "<!-- Total Travel Distance&#45;&gt;Total Travel Cost -->\n",
       "<g id=\"edge2\" class=\"edge\">\n",
       "<title>Total Travel Distance&#45;&gt;Total Travel Cost</title>\n",
       "<path fill=\"none\" stroke=\"black\" d=\"M247.34,-143.7C247.34,-135.98 247.34,-126.71 247.34,-118.11\"/>\n",
       "<polygon fill=\"black\" stroke=\"black\" points=\"250.84,-118.1 247.34,-108.1 243.84,-118.1 250.84,-118.1\"/>\n",
       "</g>\n",
       "<!-- Total Travel Distance&#45;&gt;Utility (Drive Alone) -->\n",
       "<g id=\"edge3\" class=\"edge\">\n",
       "<title>Total Travel Distance&#45;&gt;Utility (Drive Alone)</title>\n",
       "<path fill=\"none\" stroke=\"black\" d=\"M284.96,-145.5C301.58,-136.83 319.9,-124.4 331.34,-108 343.95,-89.93 348.46,-65.15 349.95,-46.32\"/>\n",
       "<polygon fill=\"black\" stroke=\"black\" points=\"353.45,-46.47 350.51,-36.29 346.46,-46.08 353.45,-46.47\"/>\n",
       "</g>\n",
       "<!-- Total Travel Cost&#45;&gt;Utility (Drive Alone) -->\n",
       "<g id=\"edge5\" class=\"edge\">\n",
       "<title>Total Travel Cost&#45;&gt;Utility (Drive Alone)</title>\n",
       "<path fill=\"none\" stroke=\"black\" d=\"M271.23,-72.76C285.04,-63.38 302.61,-51.44 317.69,-41.19\"/>\n",
       "<polygon fill=\"black\" stroke=\"black\" points=\"319.92,-43.91 326.23,-35.39 315.99,-38.12 319.92,-43.91\"/>\n",
       "</g>\n",
       "<!-- Number of Autos -->\n",
       "<g id=\"node5\" class=\"node\">\n",
       "<title>Number of Autos</title>\n",
       "<ellipse fill=\"none\" stroke=\"black\" cx=\"452.34\" cy=\"-90\" rx=\"74.19\" ry=\"18\"/>\n",
       "<text text-anchor=\"middle\" x=\"452.34\" y=\"-86.3\" font-family=\"Times,serif\" font-size=\"14.00\">Number of Autos</text>\n",
       "</g>\n",
       "<!-- Number of Autos&#45;&gt;Utility (Drive Alone) -->\n",
       "<g id=\"edge6\" class=\"edge\">\n",
       "<title>Number of Autos&#45;&gt;Utility (Drive Alone)</title>\n",
       "<path fill=\"none\" stroke=\"black\" d=\"M428.69,-72.76C415.01,-63.38 397.61,-51.44 382.68,-41.19\"/>\n",
       "<polygon fill=\"black\" stroke=\"black\" points=\"384.45,-38.16 374.23,-35.39 380.49,-43.93 384.45,-38.16\"/>\n",
       "</g>\n",
       "<!-- Number of Licensed Drivers -->\n",
       "<g id=\"node6\" class=\"node\">\n",
       "<title>Number of Licensed Drivers</title>\n",
       "<ellipse fill=\"none\" stroke=\"black\" cx=\"659.34\" cy=\"-90\" rx=\"115.08\" ry=\"18\"/>\n",
       "<text text-anchor=\"middle\" x=\"659.34\" y=\"-86.3\" font-family=\"Times,serif\" font-size=\"14.00\">Number of Licensed Drivers</text>\n",
       "</g>\n",
       "<!-- Number of Licensed Drivers&#45;&gt;Utility (Drive Alone) -->\n",
       "<g id=\"edge7\" class=\"edge\">\n",
       "<title>Number of Licensed Drivers&#45;&gt;Utility (Drive Alone)</title>\n",
       "<path fill=\"none\" stroke=\"black\" d=\"M596.81,-74.83C544.54,-62.99 470.19,-46.15 416.84,-34.06\"/>\n",
       "<polygon fill=\"black\" stroke=\"black\" points=\"417.33,-30.59 406.8,-31.79 415.78,-37.41 417.33,-30.59\"/>\n",
       "</g>\n",
       "</g>\n",
       "</svg>\n"
      ],
      "text/plain": [
       "<graphviz.dot.Digraph at 0x7fcc18d99ed0>"
      ]
     },
     "execution_count": 4,
     "metadata": {},
     "output_type": "execute_result"
    }
   ],
   "source": [
    "# Draw the causal model being tested\n",
    "causal_graph = DRIVE_ALONE_UTILITY.draw()\n",
    "causal_graph.graph_attr.update(size=\"5,3\")\n",
    "causal_graph"
   ]
  },
  {
   "cell_type": "markdown",
   "metadata": {},
   "source": [
    "## Marginal independence tests\n",
    "\n",
    "### Main idea\n",
    "The marginal independence tests demonstrated in this notebook will visually test the following implication<br>\n",
    "$\n",
    "\\begin{aligned}\n",
    "P \\left( X_1 \\mid X_2 \\right) &= P \\left( X_1 \\right) \\\\\n",
    "\\int x_1 P \\left( X_1 \\mid X_2 \\right) \\partial{x_1}  &= \\int x_1 P \\left( X_1 \\right) \\partial{x_1} \\\\\n",
    "E \\left[ X_1 \\mid X_2 \\right] &= E \\left[ X_1 \\right]\n",
    "\\end{aligned}\n",
    "$\n",
    "\n",
    "In other words, if $X_1$ is marginally independent of $X_2$, then the expectation of $X_1$ conditional on $X_2$ is equal to the marginal expectation of $X_1$.\n",
    "Marginal independence implies mean independence.\n",
    "This means that shuffling / permuting the $X_2$ columns should make no difference to predicting $X_1$, once one predicts $\\bar{X_1}$.\n",
    "\n",
    "The test demonstrated below works by estimating a linear regression to predict $E \\left[ X_1 \\mid X_2 \\right]$.\n",
    "We compute the $r^2$ from these regressions using the observed value of $X_2$ and also using the permuted values of $X_2$, which are independent of $X_1$ by construction.\n",
    "\n",
    "If $X_1$ is marginally independent of $X_2$, then the $r^2$ using the observed values of $X_2$ should resemble the distribution of $r^2$ using the permuted values of $X_2$.\n",
    "\n",
    "For this test, we'll use the following marginal independence assumption implied by the causal graph above:<br>\n",
    "$\n",
    "P \\left( \\textrm{Number of Automobiles} \\mid \\textrm{Number of licensed drivers} \\right) = P \\left( \\textrm{Number of Automobiles} \\right)\n",
    "$"
   ]
  },
  {
   "cell_type": "code",
   "execution_count": 5,
   "metadata": {},
   "outputs": [
    {
     "name": "stderr",
     "output_type": "stream",
     "text": [
      "100%|██████████| 100/100 [00:00<00:00, 1371.97it/s]\n"
     ]
    },
    {
     "name": "stdout",
     "output_type": "stream",
     "text": [
      "The p-value of the permutation independence test is 0.00.\n"
     ]
    },
    {
     "data": {
      "image/png": "[encoded data removed]",
      "text/plain": [
       "<Figure size 720x432 with 1 Axes>"
      ]
     },
     "metadata": {},
     "output_type": "display_data"
    },
    {
     "data": {
      "text/plain": [
       "0.0"
      ]
     },
     "execution_count": 5,
     "metadata": {},
     "output_type": "execute_result"
    }
   ],
   "source": [
    "license_array = drive_alone_df[LICENSE_COLUMN].values\n",
    "num_cars_array = drive_alone_df[NUM_AUTOS_COLUMN].values\n",
    "\n",
    "oi.visual_permutation_test(\n",
    "    license_array,\n",
    "    num_cars_array,\n",
    "    z_array=None,\n",
    "    seed=1038,\n",
    "    num_permutations=NUM_PERMUTATIONS,\n",
    "    permutation_color=PERMUTED_COLOR,\n",
    ")"
   ]
  },
  {
   "cell_type": "markdown",
   "metadata": {},
   "source": [
    "### Caveats and pitfalls\n",
    "Two important issues when testing the assumption of mean independence between $X_1$ and $X_2$ are underfitting and overfitting of the model for $E \\left[ X_1 \\mid X_2 \\right]$.\n",
    "\n",
    "If $E \\left[ X_1 \\mid X_2 \\right]$ is underfit, then one's observed test statitic ($r^2$) will be lower than it would be under a correctly specified model.\n",
    "This will increase the probability of Type-2 error, failing to reject the null-hypothesis when the null is false.\n",
    "Underfitting reduces the power of one's predictive test.\n",
    "To guard against underfitting, one should make extensive use of posterior predictive checks and model selection techniques to select the predictively most powerful models that do no show signs of overfitting.\n",
    "\n",
    "Conversely, if $E \\left[ X_1 \\mid X_2 \\right]$ is overfit, then one's observed test statistic ($r^2$) will be higher than it would be under a correctly specified model.\n",
    "This will increase the probability of one rejecting the null-hypothesis when the null is true.\n",
    "Overfitting increases the probability of Type-1 errors.\n",
    "To guard against overfitting, one should make thorough use of cross-validation and related resampling techniques to ensure that one's model performance does not degrade appreciably outside of the training set."
   ]
  },
  {
   "cell_type": "markdown",
   "metadata": {},
   "source": [
    "## Conditional independence tests\n",
    "\n",
    "### Main idea\n",
    "In particular, the notebook will show one way to visually and numerically test the following implication<br>\n",
    "$\n",
    "\\begin{aligned}\n",
    "P \\left( X_1 \\mid X_2, Z \\right) &= P \\left( X_1 \\mid Z \\right) \\\\\n",
    "\\int x_1 P \\left( X_1 \\mid X_2, Z \\right) \\partial{x_1}  &= \\int x_1 P \\left( X_1 \\mid Z \\right) \\partial{x_1} \\\\\n",
    "E \\left[ X_1 \\mid X_2, Z \\right] &= E \\left[ X_1 \\mid Z \\right]\n",
    "\\end{aligned}\n",
    "$\n",
    "\n",
    "In other words, if $X_1$ is conditionally independent of $X_2$ given $Z$, then the expectation of $X_1$ conditional on $X_2$ and $Z$ is equal to the expectation of $X_1$ conditional on $Z$ alone.\n",
    "This implies that shuffling / permuting $X_2$ should make no difference for predicting $X_1$ once we've included $Z$ while predicting.\n",
    "\n",
    "In other words, one's ability predict to predict $X_1$ should not depend on whether one uses the original $X_2$ or the permuted $X_2$, as long as one conditions on $Z$ when predicting $X_1$.\n",
    "In this notebook, we test this invariance using a simple predictive model, linear regression, but in general, one need not and should not restrict oneself to linear predictive models. Upon estimating each regression, we compare $r^2$ as a measure of predictive ability when using $Z$ and the original $X_2$ versus $r^2$ when using $Z$ and the permuted $X_2$.\n",
    "\n",
    "For this test, we'll use the following conditional independence assumption implied by the causal graph above:<br>\n",
    "$\n",
    "P \\left( \\textrm{Travel Time} \\mid \\textrm{Travel Cost}, \\textrm{Travel Distance} \\right) = P \\left( \\textrm{Travel Time} \\mid \\textrm{Travel Distance} \\right)\n",
    "$"
   ]
  },
  {
   "cell_type": "code",
   "execution_count": 6,
   "metadata": {},
   "outputs": [
    {
     "name": "stderr",
     "output_type": "stream",
     "text": [
      "100%|██████████| 100/100 [00:00<00:00, 1107.86it/s]\n",
      "/Users/timsb/miniconda3/envs/causal2020/lib/python3.7/site-packages/seaborn/distributions.py:305: UserWarning: Dataset has 0 variance; skipping density estimate.\n"
     ]
    },
    {
     "name": "stdout",
     "output_type": "stream",
     "text": [
      "The p-value of the permutation independence test is 0.00.\n"
     ]
    },
    {
     "data": {
      "image/png": "[encoded data removed]",
      "text/plain": [
       "<Figure size 720x432 with 1 Axes>"
      ]
     },
     "metadata": {},
     "output_type": "display_data"
    },
    {
     "data": {
      "text/plain": [
       "0.0"
      ]
     },
     "execution_count": 6,
     "metadata": {},
     "output_type": "execute_result"
    }
   ],
   "source": [
    "time_array = drive_alone_df[TIME_COLUMN].values\n",
    "cost_array = drive_alone_df[COST_COLUMN].values\n",
    "distance_array = drive_alone_df[DISTANCE_COLUMN].values\n",
    "\n",
    "oi.visual_permutation_test(\n",
    "    time_array,\n",
    "    cost_array,\n",
    "    z_array=distance_array,\n",
    "    num_permutations=NUM_PERMUTATIONS,\n",
    "    permutation_color=PERMUTED_COLOR,\n",
    ")"
   ]
  },
  {
   "cell_type": "markdown",
   "metadata": {},
   "source": [
    "### Caveats and pitfalls\n",
    "When testing conditional mean independence (i.e., $E \\left[ X_1 \\mid X_2, Z \\right] = E \\left[ X_1 \\mid Z \\right]$), there are four potential issues of interest.\n",
    "\n",
    "The first issue is misspecification of $E \\left[ X_1 \\mid Z \\right]$.\n",
    "If the conditional mean of $X_1$ depends on un-modeled functions of $Z$ and $Z \\rightarrow X_2$, then the inclusion of $X_2$ in one's model may serve as a proxy for the un-modeled function of $Z$.\n",
    "Such proxy behavior would lead one to observe \"inflated\" values of $r^2$ when modeling $E \\left[ X_1 \\mid X_2, Z \\right]$, thus increasing the probability that one will reject the null-hypothesis of conditional independence when it is true.\n",
    "\n",
    "In other words, to guard against higher-than-nominal probabilities of type-1 error, one needs to guard against underfitting of the model for $E \\left[ X_1 \\mid Z \\right]$ **before** computing one's test-statistic and (permutation-based) reference-distribution.\n",
    "\n",
    "The second issue is misspecification of $E \\left[ X_1 \\mid X_2, Z \\right]$.\n",
    "If one's model for $E \\left[ X_1 \\mid X_2, Z \\right]$ is underfit with respect to $X_2$, then one's test-statistic ($r^2$) will be lower than it should be under accurate specification.\n",
    "This leads to greater probability of type-2 error, i.e., failing to reject the null hypothesis when it is false.\n",
    "\n",
    "The two overfitting issues below are the converse of the underfitting problems discussed in the last two paragraphs.\n",
    "If one's model for $E \\left[ X_1 \\mid Z \\right]$ is overfit, then the reference-distribution of the test statistic will be artificially high.\n",
    "This will lead to higher probability of Type-2 error: i.e., lower probability of rejecting the null hypothesis of conditional independence when it is indeed false.\n",
    "Likewise, if one's model for $E \\left[ X_1 \\mid X_2, Z \\right]$ is overfit to $X_2$, then one's test-statistic will be artificially high, thus increasing the probability of Type-1 error--incorrectly rejecting the null-hypothesis when it is true.\n",
    "\n",
    "To avoid all such problems or the combination of these problems, be sure to check one's models of $E \\left[ X_1 \\mid Z \\right]$ and $E \\left[ X_1 \\mid X_2, Z \\right]$ for both under- and over-fitting.\n",
    "As mentioned above, posterior predictive checks are most helpful for identifying underfitting in one's models.\n",
    "Cross-validation and resampling techniques are great for identifying overfitting."
   ]
  },
  {
   "cell_type": "markdown",
   "metadata": {},
   "source": [
    "## Latent conditional independence tests\n"
   ]
  },
  {
   "cell_type": "markdown",
   "metadata": {},
   "source": [
    "### Show the posited causal graph\n",
    "The key differences between the graph underlying the latent, conditional independence tests and the graph underlying the tests above are that, now, we posit:\n",
    "1. the existence of a latent confounder\n",
    "2. the conditional independence of the observed variables, given the latent confounder."
   ]
  },
  {
   "cell_type": "code",
   "execution_count": 7,
   "metadata": {},
   "outputs": [
    {
     "data": {
      "image/svg+xml": [
       "<?xml version=\"1.0\" encoding=\"UTF-8\" standalone=\"no\"?>\n",
       "<!DOCTYPE svg PUBLIC \"-//W3C//DTD SVG 1.1//EN\"\n",
       " \"http://www.w3.org/Graphics/SVG/1.1/DTD/svg11.dtd\">\n",
       "<!-- Generated by graphviz version 2.42.3 (20191010.1750)\n",
       " -->\n",
       "<!-- Title: %3 Pages: 1 -->\n",
       "<svg width=\"360pt\" height=\"69pt\"\n",
       " viewBox=\"0.00 0.00 360.00 68.96\" xmlns=\"http://www.w3.org/2000/svg\" xmlns:xlink=\"http://www.w3.org/1999/xlink\">\n",
       "<g id=\"graph0\" class=\"graph\" transform=\"scale(2.73 2.73) rotate(0) translate(4 184)\">\n",
       "<title>%3</title>\n",
       "<polygon fill=\"white\" stroke=\"transparent\" points=\"-4,4 -4,-184 977.38,-184 977.38,4 -4,4\"/>\n",
       "<!-- Total Travel Time -->\n",
       "<g id=\"node1\" class=\"node\">\n",
       "<title>Total Travel Time</title>\n",
       "<ellipse fill=\"none\" stroke=\"black\" cx=\"77.34\" cy=\"-90\" rx=\"77.19\" ry=\"18\"/>\n",
       "<text text-anchor=\"middle\" x=\"77.34\" y=\"-86.3\" font-family=\"Times,serif\" font-size=\"14.00\">Total Travel Time</text>\n",
       "</g>\n",
       "<!-- Utility (Drive Alone) -->\n",
       "<g id=\"node4\" class=\"node\">\n",
       "<title>Utility (Drive Alone)</title>\n",
       "<ellipse fill=\"none\" stroke=\"black\" cx=\"497.34\" cy=\"-18\" rx=\"87.99\" ry=\"18\"/>\n",
       "<text text-anchor=\"middle\" x=\"497.34\" y=\"-14.3\" font-family=\"Times,serif\" font-size=\"14.00\">Utility (Drive Alone)</text>\n",
       "</g>\n",
       "<!-- Total Travel Time&#45;&gt;Utility (Drive Alone) -->\n",
       "<g id=\"edge8\" class=\"edge\">\n",
       "<title>Total Travel Time&#45;&gt;Utility (Drive Alone)</title>\n",
       "<path fill=\"none\" stroke=\"black\" d=\"M133.92,-77.65C144.04,-75.7 154.49,-73.75 164.34,-72 251.11,-56.62 350.97,-41.01 418.52,-30.75\"/>\n",
       "<polygon fill=\"black\" stroke=\"black\" points=\"419.3,-34.17 428.67,-29.21 418.25,-27.25 419.3,-34.17\"/>\n",
       "</g>\n",
       "<!-- Total Travel Distance -->\n",
       "<g id=\"node2\" class=\"node\">\n",
       "<title>Total Travel Distance</title>\n",
       "<ellipse fill=\"none\" stroke=\"black\" cx=\"263.34\" cy=\"-90\" rx=\"90.18\" ry=\"18\"/>\n",
       "<text text-anchor=\"middle\" x=\"263.34\" y=\"-86.3\" font-family=\"Times,serif\" font-size=\"14.00\">Total Travel Distance</text>\n",
       "</g>\n",
       "<!-- Total Travel Distance&#45;&gt;Utility (Drive Alone) -->\n",
       "<g id=\"edge7\" class=\"edge\">\n",
       "<title>Total Travel Distance&#45;&gt;Utility (Drive Alone)</title>\n",
       "<path fill=\"none\" stroke=\"black\" d=\"M311.26,-74.67C348.61,-63.49 400.59,-47.94 440.12,-36.12\"/>\n",
       "<polygon fill=\"black\" stroke=\"black\" points=\"441.31,-39.41 449.89,-33.2 439.31,-32.71 441.31,-39.41\"/>\n",
       "</g>\n",
       "<!-- Total Travel Cost -->\n",
       "<g id=\"node3\" class=\"node\">\n",
       "<title>Total Travel Cost</title>\n",
       "<ellipse fill=\"none\" stroke=\"black\" cx=\"446.34\" cy=\"-90\" rx=\"74.99\" ry=\"18\"/>\n",
       "<text text-anchor=\"middle\" x=\"446.34\" y=\"-86.3\" font-family=\"Times,serif\" font-size=\"14.00\">Total Travel Cost</text>\n",
       "</g>\n",
       "<!-- Total Travel Cost&#45;&gt;Utility (Drive Alone) -->\n",
       "<g id=\"edge9\" class=\"edge\">\n",
       "<title>Total Travel Cost&#45;&gt;Utility (Drive Alone)</title>\n",
       "<path fill=\"none\" stroke=\"black\" d=\"M458.69,-72.05C464.74,-63.75 472.15,-53.58 478.85,-44.38\"/>\n",
       "<polygon fill=\"black\" stroke=\"black\" points=\"481.7,-46.42 484.76,-36.28 476.04,-42.3 481.7,-46.42\"/>\n",
       "</g>\n",
       "<!-- Number of Autos -->\n",
       "<g id=\"node5\" class=\"node\">\n",
       "<title>Number of Autos</title>\n",
       "<ellipse fill=\"none\" stroke=\"black\" cx=\"651.34\" cy=\"-90\" rx=\"74.19\" ry=\"18\"/>\n",
       "<text text-anchor=\"middle\" x=\"651.34\" y=\"-86.3\" font-family=\"Times,serif\" font-size=\"14.00\">Number of Autos</text>\n",
       "</g>\n",
       "<!-- Number of Autos&#45;&gt;Utility (Drive Alone) -->\n",
       "<g id=\"edge10\" class=\"edge\">\n",
       "<title>Number of Autos&#45;&gt;Utility (Drive Alone)</title>\n",
       "<path fill=\"none\" stroke=\"black\" d=\"M617.93,-73.81C595.44,-63.59 565.55,-50 541.15,-38.91\"/>\n",
       "<polygon fill=\"black\" stroke=\"black\" points=\"542.31,-35.6 531.76,-34.64 539.42,-41.97 542.31,-35.6\"/>\n",
       "</g>\n",
       "<!-- Number of Licensed Drivers -->\n",
       "<g id=\"node6\" class=\"node\">\n",
       "<title>Number of Licensed Drivers</title>\n",
       "<ellipse fill=\"none\" stroke=\"black\" cx=\"858.34\" cy=\"-90\" rx=\"115.08\" ry=\"18\"/>\n",
       "<text text-anchor=\"middle\" x=\"858.34\" y=\"-86.3\" font-family=\"Times,serif\" font-size=\"14.00\">Number of Licensed Drivers</text>\n",
       "</g>\n",
       "<!-- Number of Licensed Drivers&#45;&gt;Utility (Drive Alone) -->\n",
       "<g id=\"edge11\" class=\"edge\">\n",
       "<title>Number of Licensed Drivers&#45;&gt;Utility (Drive Alone)</title>\n",
       "<path fill=\"none\" stroke=\"black\" d=\"M789.17,-75.59C725.91,-63.32 632.73,-45.25 568.77,-32.85\"/>\n",
       "<polygon fill=\"black\" stroke=\"black\" points=\"569.25,-29.38 558.77,-30.91 567.92,-36.25 569.25,-29.38\"/>\n",
       "</g>\n",
       "<!-- confounder -->\n",
       "<g id=\"node7\" class=\"node\">\n",
       "<title>confounder</title>\n",
       "<ellipse fill=\"none\" stroke=\"black\" cx=\"497.34\" cy=\"-162\" rx=\"51.99\" ry=\"18\"/>\n",
       "<text text-anchor=\"middle\" x=\"497.34\" y=\"-158.3\" font-family=\"Times,serif\" font-size=\"14.00\">confounder</text>\n",
       "</g>\n",
       "<!-- confounder&#45;&gt;Total Travel Time -->\n",
       "<g id=\"edge2\" class=\"edge\">\n",
       "<title>confounder&#45;&gt;Total Travel Time</title>\n",
       "<path fill=\"none\" stroke=\"black\" d=\"M450.38,-154.06C385.82,-144.39 266.08,-126.03 164.34,-108 157.73,-106.83 150.83,-105.56 143.95,-104.26\"/>\n",
       "<polygon fill=\"black\" stroke=\"black\" points=\"144.39,-100.79 133.92,-102.35 143.09,-107.66 144.39,-100.79\"/>\n",
       "</g>\n",
       "<!-- confounder&#45;&gt;Total Travel Distance -->\n",
       "<g id=\"edge1\" class=\"edge\">\n",
       "<title>confounder&#45;&gt;Total Travel Distance</title>\n",
       "<path fill=\"none\" stroke=\"black\" d=\"M459.23,-149.6C421.74,-138.38 364.03,-121.12 320.95,-108.23\"/>\n",
       "<polygon fill=\"black\" stroke=\"black\" points=\"321.75,-104.82 311.16,-105.31 319.74,-111.52 321.75,-104.82\"/>\n",
       "</g>\n",
       "<!-- confounder&#45;&gt;Total Travel Cost -->\n",
       "<g id=\"edge3\" class=\"edge\">\n",
       "<title>confounder&#45;&gt;Total Travel Cost</title>\n",
       "<path fill=\"none\" stroke=\"black\" d=\"M485.26,-144.41C479.12,-135.99 471.54,-125.58 464.7,-116.2\"/>\n",
       "<polygon fill=\"black\" stroke=\"black\" points=\"467.41,-113.98 458.7,-107.96 461.76,-118.1 467.41,-113.98\"/>\n",
       "</g>\n",
       "<!-- confounder&#45;&gt;Utility (Drive Alone) -->\n",
       "<g id=\"edge6\" class=\"edge\">\n",
       "<title>confounder&#45;&gt;Utility (Drive Alone)</title>\n",
       "<path fill=\"none\" stroke=\"black\" d=\"M510.98,-144.5C518.28,-134.59 526.53,-121.34 530.34,-108 534.74,-92.62 534.74,-87.38 530.34,-72 527.59,-62.36 522.51,-52.76 517.15,-44.44\"/>\n",
       "<polygon fill=\"black\" stroke=\"black\" points=\"519.88,-42.22 511.33,-35.96 514.11,-46.19 519.88,-42.22\"/>\n",
       "</g>\n",
       "<!-- confounder&#45;&gt;Number of Autos -->\n",
       "<g id=\"edge4\" class=\"edge\">\n",
       "<title>confounder&#45;&gt;Number of Autos</title>\n",
       "<path fill=\"none\" stroke=\"black\" d=\"M527.77,-147.17C550.96,-136.63 583.17,-121.99 608.89,-110.3\"/>\n",
       "<polygon fill=\"black\" stroke=\"black\" points=\"610.39,-113.46 618.04,-106.14 607.49,-107.09 610.39,-113.46\"/>\n",
       "</g>\n",
       "<!-- confounder&#45;&gt;Number of Licensed Drivers -->\n",
       "<g id=\"edge5\" class=\"edge\">\n",
       "<title>confounder&#45;&gt;Number of Licensed Drivers</title>\n",
       "<path fill=\"none\" stroke=\"black\" d=\"M541.61,-152.42C600.59,-140.98 705.97,-120.55 778.89,-106.41\"/>\n",
       "<polygon fill=\"black\" stroke=\"black\" points=\"779.8,-109.79 788.95,-104.46 778.47,-102.92 779.8,-109.79\"/>\n",
       "</g>\n",
       "</g>\n",
       "</svg>\n"
      ],
      "text/plain": [
       "<graphviz.dot.Digraph at 0x7fcc18dee910>"
      ]
     },
     "execution_count": 7,
     "metadata": {},
     "output_type": "execute_result"
    }
   ],
   "source": [
    "# Draw the causal model being tested\n",
    "latent_causal_graph = LATENT_DRIVE_ALONE_UTILITY.draw()\n",
    "latent_causal_graph.graph_attr.update(size=\"5,3\")\n",
    "latent_causal_graph"
   ]
  },
  {
   "cell_type": "markdown",
   "metadata": {},
   "source": [
    "### Main idea\n",
    "The latent, conditional independence test is a prior / posterior predictive test that involves a latent variable.\n",
    "\n",
    "Section 2.2 of\n",
    "> Gelman, Andrew, Xiao-Li Meng, and Hal Stern. \"Posterior predictive assessment of model fitness via realized discrepancies.\" Statistica sinica (1996): 733-760.\n",
    "\n",
    "describes these tests.\n",
    "\n",
    "The basic idea is to select a test-statistic or discrepancy measure $D \\left( \\textrm{Data} ; \\theta \\right)$ that is a function of both the observed or simulated data and of the latent variables $\\theta$.\n",
    "In the test demonstrated below, $D \\left( \\textrm{Data} ; \\theta \\right)$ is the p-value resulting from the visual conditional independence function above.\n",
    "This discrepancy value is an estimate of the probability that the chosen $X_1$ and $X_2$ variables are not conditionally independent given a particular vector $\\theta$ of latent confounders.\n",
    "\n",
    "The tail-area probability (i.e. the analog of the classical p-value) that corresponds to this discrepancy value is:<br>\n",
    "$\n",
    "P \\left[ D \\left( \\textrm{Data}^{\\textrm{rep}} ; \\theta \\right) \\geq D \\left( \\textrm{Data}^{\\textrm{obs}} ; \\theta \\right) \\mid \\textrm{Model}, \\textrm{Data}^{\\textrm{obs}} \\right] =\\\\\n",
    "\\int \\left[ D \\left( \\textrm{Data}^{\\textrm{rep}} ; \\theta \\right) \\geq D \\left( \\textrm{Data}^{\\textrm{obs}} ; \\theta \\right) \\mid \\textrm{Model}, \\textrm{Data}^{\\textrm{obs}} \\right] \\partial P \\left( \\textrm{Data}^{\\textrm{rep}}, \\theta \\mid \\textrm{Model}, \\textrm{Data}^{\\textrm{obs}} \\right)\n",
    "$\n",
    "\n",
    "In words, the demonstrated test iteratively samples the latent confounder and then simulates a dataset of replicated variables.\n",
    "For each sample of the confounder and replicated dataset, we calculate the p-value of the visual, conditional independence test for both:\n",
    "- the observed covariates and currently sampled confounder vector,\n",
    "- the replicated dataset and currently sampled confounder vector.\n",
    "\n",
    "The overall p-value of the latent conditional independence test is then calculated by averaging the number of times that the p-value with the replicated dataset is more extreme (i.e., greater than) than the p-value with the observed dataset.\n",
    "\n",
    "#### Prior distribution based test"
   ]
  },
  {
   "cell_type": "code",
   "execution_count": 8,
   "metadata": {},
   "outputs": [
    {
     "name": "stdout",
     "output_type": "stream",
     "text": [
      "                            mean        std\n",
      "total_travel_time      29.667137  24.586569\n",
      "total_travel_cost       3.289287   4.214448\n",
      "total_travel_distance  15.579498  18.465879\n",
      "num_licensed_drivers    2.178759   0.751621\n",
      "num_cars                2.050999   0.880458\n"
     ]
    }
   ],
   "source": [
    "# Get the means and standard deviations of those variables\n",
    "drive_alone_means = drive_alone_df.mean()\n",
    "drive_alone_means.name = \"mean\"\n",
    "\n",
    "drive_alone_stds = drive_alone_df.std()\n",
    "drive_alone_stds.name = \"std\"\n",
    "\n",
    "# Look at the computed means and standard deviations\n",
    "print(pd.DataFrame([drive_alone_means, drive_alone_stds]).T)"
   ]
  },
  {
   "cell_type": "code",
   "execution_count": 9,
   "metadata": {},
   "outputs": [
    {
     "name": "stdout",
     "output_type": "stream",
     "text": [
      "(3804, 5, 100)\n"
     ]
    }
   ],
   "source": [
    "# Note the number of dimensions\n",
    "num_dimensions = len(UTILITY_COLUMNS)\n",
    "\n",
    "# Specify the prior distributions for the factor\n",
    "# model of the standardized drive alone dataframe\n",
    "w_dist_prior = scipy.stats.norm(loc=0, scale=1)\n",
    "z_dist_prior = scipy.stats.norm(loc=0, scale=1)\n",
    "\n",
    "sigma_prior = 0.1\n",
    "epsilon_dist_prior = scipy.stats.norm(loc=0, scale=sigma_prior)\n",
    "\n",
    "# Get samples of x from the prior distribution factor model\n",
    "x_samples_prior, z_samples_prior = sample_from_factor_model(\n",
    "    loadings_dist=z_dist_prior,\n",
    "    coef_dist=w_dist_prior,\n",
    "    noise_dist=epsilon_dist_prior,\n",
    "    standard_deviations=drive_alone_stds.values,\n",
    "    means=drive_alone_means.values,\n",
    "    num_obs=num_drive_alone_obs,\n",
    "    num_samples=NUM_PERMUTATIONS,\n",
    "    num_factors=1,\n",
    "    seed=721,\n",
    ")\n",
    "\n",
    "# Look at the dimensions of the prior predictive samples\n",
    "print(x_samples_prior.shape)"
   ]
  },
  {
   "cell_type": "code",
   "execution_count": 10,
   "metadata": {
    "scrolled": false
   },
   "outputs": [
    {
     "name": "stderr",
     "output_type": "stream",
     "text": [
      "\n",
      "  0%|          | 0/100 [00:00<?, ?it/s]\u001b[AException ignored in: <function tqdm.__del__ at 0x7fcc5975cef0>\n",
      "Traceback (most recent call last):\n",
      "  File \"/Users/timsb/miniconda3/envs/causal2020/lib/python3.7/site-packages/tqdm/std.py\", line 1124, in __del__\n",
      "    self.close()\n",
      "  File \"/Users/timsb/miniconda3/envs/causal2020/lib/python3.7/site-packages/tqdm/notebook.py\", line 271, in close\n",
      "    self.sp(bar_style='danger')\n",
      "AttributeError: 'tqdm_notebook' object has no attribute 'sp'\n",
      "\n",
      "  1%|          | 1/100 [00:00<00:16,  5.87it/s]\u001b[A\n",
      "  2%|▏         | 2/100 [00:00<00:16,  5.97it/s]\u001b[A\n",
      "  3%|▎         | 3/100 [00:00<00:16,  6.01it/s]\u001b[A\n",
      "  4%|▍         | 4/100 [00:00<00:16,  5.75it/s]\u001b[A\n",
      "  5%|▌         | 5/100 [00:00<00:17,  5.48it/s]\u001b[A\n",
      "  6%|▌         | 6/100 [00:01<00:17,  5.30it/s]\u001b[A\n",
      "  7%|▋         | 7/100 [00:01<00:17,  5.31it/s]\u001b[A\n",
      "  8%|▊         | 8/100 [00:01<00:16,  5.56it/s]\u001b[A\n",
      "  9%|▉         | 9/100 [00:01<00:15,  5.75it/s]\u001b[A\n",
      " 10%|█         | 10/100 [00:01<00:15,  5.83it/s]\u001b[A\n",
      " 11%|█         | 11/100 [00:01<00:15,  5.91it/s]\u001b[A\n",
      " 12%|█▏        | 12/100 [00:02<00:15,  5.72it/s]\u001b[A\n",
      " 13%|█▎        | 13/100 [00:02<00:15,  5.46it/s]\u001b[A\n",
      " 14%|█▍        | 14/100 [00:02<00:16,  5.29it/s]\u001b[A\n",
      " 15%|█▌        | 15/100 [00:02<00:15,  5.44it/s]\u001b[A\n",
      " 16%|█▌        | 16/100 [00:02<00:14,  5.66it/s]\u001b[A\n",
      " 17%|█▋        | 17/100 [00:03<00:15,  5.52it/s]\u001b[A\n",
      " 18%|█▊        | 18/100 [00:03<00:15,  5.36it/s]\u001b[A\n",
      " 19%|█▉        | 19/100 [00:03<00:15,  5.26it/s]\u001b[A\n",
      " 20%|██        | 20/100 [00:03<00:15,  5.20it/s]\u001b[A\n",
      " 21%|██        | 21/100 [00:03<00:15,  5.16it/s]\u001b[A\n",
      " 22%|██▏       | 22/100 [00:04<00:15,  5.16it/s]\u001b[A\n",
      " 23%|██▎       | 23/100 [00:04<00:14,  5.44it/s]\u001b[A\n",
      " 24%|██▍       | 24/100 [00:04<00:13,  5.62it/s]\u001b[A\n",
      " 25%|██▌       | 25/100 [00:04<00:12,  5.82it/s]\u001b[A\n",
      " 26%|██▌       | 26/100 [00:04<00:12,  5.99it/s]\u001b[A\n",
      " 27%|██▋       | 27/100 [00:04<00:12,  6.05it/s]\u001b[A\n",
      " 28%|██▊       | 28/100 [00:04<00:11,  6.06it/s]\u001b[A\n",
      " 29%|██▉       | 29/100 [00:05<00:11,  6.17it/s]\u001b[A\n",
      " 30%|███       | 30/100 [00:05<00:11,  6.14it/s]\u001b[A\n",
      " 31%|███       | 31/100 [00:05<00:11,  5.96it/s]\u001b[A\n",
      " 32%|███▏      | 32/100 [00:05<00:11,  6.12it/s]\u001b[A\n",
      " 33%|███▎      | 33/100 [00:05<00:10,  6.11it/s]\u001b[A\n",
      " 34%|███▍      | 34/100 [00:05<00:10,  6.19it/s]\u001b[A\n",
      " 35%|███▌      | 35/100 [00:06<00:10,  6.18it/s]\u001b[A\n",
      " 36%|███▌      | 36/100 [00:06<00:10,  6.10it/s]\u001b[A\n",
      " 37%|███▋      | 37/100 [00:06<00:10,  6.07it/s]\u001b[A\n",
      " 38%|███▊      | 38/100 [00:06<00:09,  6.20it/s]\u001b[A\n",
      " 39%|███▉      | 39/100 [00:06<00:09,  6.22it/s]\u001b[A\n",
      " 40%|████      | 40/100 [00:06<00:09,  6.19it/s]\u001b[A\n",
      " 41%|████      | 41/100 [00:07<00:10,  5.84it/s]\u001b[A\n",
      " 42%|████▏     | 42/100 [00:07<00:10,  5.56it/s]\u001b[A\n",
      " 43%|████▎     | 43/100 [00:07<00:10,  5.38it/s]\u001b[A\n",
      " 44%|████▍     | 44/100 [00:07<00:10,  5.25it/s]\u001b[A\n",
      " 45%|████▌     | 45/100 [00:07<00:10,  5.23it/s]\u001b[A\n",
      " 46%|████▌     | 46/100 [00:08<00:10,  5.09it/s]\u001b[A\n",
      " 47%|████▋     | 47/100 [00:08<00:10,  4.88it/s]\u001b[A\n",
      " 48%|████▊     | 48/100 [00:08<00:10,  4.74it/s]\u001b[A\n",
      " 49%|████▉     | 49/100 [00:08<00:10,  4.77it/s]\u001b[A\n",
      " 50%|█████     | 50/100 [00:08<00:10,  4.81it/s]\u001b[A\n",
      " 51%|█████     | 51/100 [00:09<00:09,  5.08it/s]\u001b[A\n",
      " 52%|█████▏    | 52/100 [00:09<00:09,  5.32it/s]\u001b[A\n",
      " 53%|█████▎    | 53/100 [00:09<00:09,  5.06it/s]\u001b[A\n",
      " 54%|█████▍    | 54/100 [00:09<00:09,  4.87it/s]\u001b[A\n",
      " 55%|█████▌    | 55/100 [00:09<00:09,  4.89it/s]\u001b[A\n",
      " 56%|█████▌    | 56/100 [00:10<00:08,  5.05it/s]\u001b[A\n",
      " 57%|█████▋    | 57/100 [00:10<00:08,  5.30it/s]\u001b[A\n",
      " 58%|█████▊    | 58/100 [00:10<00:08,  5.17it/s]\u001b[A\n",
      " 59%|█████▉    | 59/100 [00:10<00:08,  5.09it/s]\u001b[A\n",
      " 60%|██████    | 60/100 [00:10<00:07,  5.12it/s]\u001b[A\n",
      " 61%|██████    | 61/100 [00:11<00:07,  4.91it/s]\u001b[A\n",
      " 62%|██████▏   | 62/100 [00:11<00:07,  4.89it/s]\u001b[A\n",
      " 63%|██████▎   | 63/100 [00:11<00:07,  4.90it/s]\u001b[A\n",
      " 64%|██████▍   | 64/100 [00:11<00:07,  5.03it/s]\u001b[A\n",
      " 65%|██████▌   | 65/100 [00:11<00:06,  5.22it/s]\u001b[A\n",
      " 66%|██████▌   | 66/100 [00:12<00:06,  5.42it/s]\u001b[A\n",
      " 67%|██████▋   | 67/100 [00:12<00:06,  5.45it/s]\u001b[A\n",
      " 68%|██████▊   | 68/100 [00:12<00:05,  5.50it/s]\u001b[A\n",
      " 69%|██████▉   | 69/100 [00:12<00:05,  5.53it/s]\u001b[A\n",
      " 70%|███████   | 70/100 [00:12<00:05,  5.56it/s]\u001b[A\n",
      " 71%|███████   | 71/100 [00:12<00:05,  5.73it/s]\u001b[A\n",
      " 72%|███████▏  | 72/100 [00:13<00:04,  5.83it/s]\u001b[A\n",
      " 73%|███████▎  | 73/100 [00:13<00:04,  5.92it/s]\u001b[A\n",
      " 74%|███████▍  | 74/100 [00:13<00:04,  6.05it/s]\u001b[A\n",
      " 75%|███████▌  | 75/100 [00:13<00:04,  6.13it/s]\u001b[A\n",
      " 76%|███████▌  | 76/100 [00:13<00:03,  6.12it/s]\u001b[A\n",
      " 77%|███████▋  | 77/100 [00:13<00:03,  6.20it/s]\u001b[A\n",
      " 78%|███████▊  | 78/100 [00:14<00:03,  6.25it/s]\u001b[A\n",
      " 79%|███████▉  | 79/100 [00:14<00:03,  6.25it/s]\u001b[A\n",
      " 80%|████████  | 80/100 [00:14<00:03,  6.13it/s]\u001b[A\n",
      " 81%|████████  | 81/100 [00:14<00:03,  6.20it/s]\u001b[A\n",
      " 82%|████████▏ | 82/100 [00:14<00:02,  6.23it/s]\u001b[A\n",
      " 83%|████████▎ | 83/100 [00:14<00:02,  5.75it/s]\u001b[A\n",
      " 84%|████████▍ | 84/100 [00:15<00:02,  5.48it/s]\u001b[A\n",
      " 85%|████████▌ | 85/100 [00:15<00:02,  5.37it/s]\u001b[A\n",
      " 86%|████████▌ | 86/100 [00:15<00:02,  5.24it/s]\u001b[A\n",
      " 87%|████████▋ | 87/100 [00:15<00:02,  5.12it/s]\u001b[A\n",
      " 88%|████████▊ | 88/100 [00:15<00:02,  5.09it/s]\u001b[A\n",
      " 89%|████████▉ | 89/100 [00:16<00:02,  4.99it/s]\u001b[A\n",
      " 90%|█████████ | 90/100 [00:16<00:02,  4.79it/s]\u001b[A\n",
      " 91%|█████████ | 91/100 [00:16<00:01,  4.66it/s]\u001b[A\n",
      " 92%|█████████▏| 92/100 [00:16<00:01,  4.77it/s]\u001b[A\n",
      " 93%|█████████▎| 93/100 [00:17<00:01,  4.81it/s]\u001b[A\n",
      " 94%|█████████▍| 94/100 [00:17<00:01,  4.80it/s]\u001b[A\n",
      " 95%|█████████▌| 95/100 [00:17<00:01,  4.73it/s]\u001b[A\n",
      " 96%|█████████▌| 96/100 [00:17<00:00,  4.95it/s]\u001b[A\n",
      " 97%|█████████▋| 97/100 [00:17<00:00,  5.17it/s]\u001b[A\n",
      " 98%|█████████▊| 98/100 [00:17<00:00,  5.32it/s]\u001b[A\n",
      " 99%|█████████▉| 99/100 [00:18<00:00,  5.58it/s]\u001b[A\n",
      "100%|██████████| 100/100 [00:18<00:00,  5.47it/s]\u001b[A\n",
      "/Users/timsb/miniconda3/envs/causal2020/lib/python3.7/site-packages/seaborn/distributions.py:2551: FutureWarning: `distplot` is a deprecated function and will be removed in a future version. Please adapt your code to use either `displot` (a figure-level function with similar flexibility) or `histplot` (an axes-level function for histograms).\n"
     ]
    },
    {
     "name": "stdout",
     "output_type": "stream",
     "text": [
      "The p-value of the predictive, permutation C.I.T. is 0.99.\n"
     ]
    },
    {
     "data": {
      "image/png": "[encoded data removed]",
      "text/plain": [
       "<Figure size 720x432 with 1 Axes>"
      ]
     },
     "metadata": {},
     "output_type": "display_data"
    }
   ],
   "source": [
    "# Collect the columns being used in the test and info about them.\n",
    "columns_for_test = [NUM_AUTOS_COLUMN, LICENSE_COLUMN]\n",
    "col_idxs_for_test = [UTILITY_COLUMNS.index(col) for col in columns_for_test]\n",
    "\n",
    "# Get the observed values to be used for testing\n",
    "obs_sample = drive_alone_df.loc[:, columns_for_test].values\n",
    "\n",
    "# Get the prior predictive values for testing\n",
    "prior_samples_triplet = np.concatenate(\n",
    "    (x_samples_prior[:, col_idxs_for_test, :], z_samples_prior), axis=1\n",
    ")\n",
    "\n",
    "# Use the predictive, conditional independence test\n",
    "pval, sampled_pvals, obs_pvals = li.perform_visual_predictive_cit_test(\n",
    "    prior_samples_triplet, obs_sample\n",
    ")"
   ]
  },
  {
   "cell_type": "markdown",
   "metadata": {},
   "source": [
    "#### Posterior distribution based test"
   ]
  },
  {
   "cell_type": "code",
   "execution_count": 11,
   "metadata": {},
   "outputs": [
    {
     "name": "stdout",
     "output_type": "stream",
     "text": [
      "(3804, 5, 100)\n"
     ]
    }
   ],
   "source": [
    "# Load the parameters of the variational approximation to\n",
    "# the posterior distribution over W and Z\n",
    "w_post_params = pd.read_csv(PATH_TO_W_PARAMS, index_col=0)\n",
    "z_post_params = pd.read_csv(PATH_TO_Z_PARAMS, index_col=0)\n",
    "\n",
    "# Create the posterior distribution of coefficients\n",
    "# Note we need the arguments to have shape that can,\n",
    "# be broadcast to (num_factors, num_predictors, num_samples)\n",
    "w_dist_post = scipy.stats.norm(\n",
    "    loc=w_post_params[\"w_mean_inferred\"].values[None, :, None],\n",
    "    scale=w_post_params[\"w_std_inferred\"].values[None:, None],\n",
    ")\n",
    "\n",
    "# Create the posterior distribution of loadings\n",
    "# Note we need the arguments to have shape that can,\n",
    "# be broadcast to (num_obs, num_factors, num_samples)\n",
    "z_dist_post = scipy.stats.norm(\n",
    "    loc=z_post_params[\"z_mean_inferred\"].values[:, None, None],\n",
    "    scale=z_post_params[\"z_std_inferred\"].values[:, None, None],\n",
    ")\n",
    "\n",
    "# Get posterior samples of X_standardized\n",
    "x_samples_post, z_samples_post = sample_from_factor_model(\n",
    "    loadings_dist=z_dist_post,\n",
    "    coef_dist=w_dist_post,\n",
    "    noise_dist=epsilon_dist_prior,\n",
    "    standard_deviations=drive_alone_stds.values,\n",
    "    means=drive_alone_means.values,\n",
    "    num_obs=num_drive_alone_obs,\n",
    "    num_samples=NUM_PERMUTATIONS,\n",
    "    num_factors=1,\n",
    "    post=False,\n",
    "    seed=852,\n",
    ")\n",
    "\n",
    "# Look at the dimensions of the prior predictive samples\n",
    "print(x_samples_post.shape)"
   ]
  },
  {
   "cell_type": "code",
   "execution_count": 12,
   "metadata": {
    "scrolled": false
   },
   "outputs": [
    {
     "name": "stderr",
     "output_type": "stream",
     "text": [
      "\n",
      "  0%|          | 0/100 [00:00<?, ?it/s]\u001b[A\n",
      "  1%|          | 1/100 [00:00<00:18,  5.39it/s]\u001b[A\n",
      "  2%|▏         | 2/100 [00:00<00:18,  5.26it/s]\u001b[A\n",
      "  3%|▎         | 3/100 [00:00<00:17,  5.43it/s]\u001b[AException ignored in: <function tqdm.__del__ at 0x7fcc5975cef0>\n",
      "Traceback (most recent call last):\n",
      "  File \"/Users/timsb/miniconda3/envs/causal2020/lib/python3.7/site-packages/tqdm/std.py\", line 1124, in __del__\n",
      "    self.close()\n",
      "  File \"/Users/timsb/miniconda3/envs/causal2020/lib/python3.7/site-packages/tqdm/notebook.py\", line 271, in close\n",
      "    self.sp(bar_style='danger')\n",
      "AttributeError: 'tqdm_notebook' object has no attribute 'sp'\n",
      "\n",
      "  4%|▍         | 4/100 [00:20<09:53,  6.19s/it]\u001b[A\n",
      "  5%|▌         | 5/100 [00:20<06:56,  4.38s/it]\u001b[A\n",
      "  6%|▌         | 6/100 [00:21<04:52,  3.11s/it]\u001b[A\n",
      "  7%|▋         | 7/100 [00:21<03:28,  2.24s/it]\u001b[A\n",
      "  8%|▊         | 8/100 [00:21<02:29,  1.62s/it]\u001b[A\n",
      "  9%|▉         | 9/100 [00:21<01:47,  1.19s/it]\u001b[A\n",
      " 10%|█         | 10/100 [00:21<01:19,  1.13it/s]\u001b[A\n",
      " 11%|█         | 11/100 [00:21<01:00,  1.48it/s]\u001b[A\n",
      " 12%|█▏        | 12/100 [00:22<00:46,  1.90it/s]\u001b[A\n",
      " 13%|█▎        | 13/100 [00:22<00:36,  2.37it/s]\u001b[A\n",
      " 14%|█▍        | 14/100 [00:22<00:29,  2.87it/s]\u001b[A\n",
      " 15%|█▌        | 15/100 [00:22<00:25,  3.36it/s]\u001b[A\n",
      " 16%|█▌        | 16/100 [00:22<00:21,  3.86it/s]\u001b[A\n",
      " 17%|█▋        | 17/100 [00:23<00:18,  4.37it/s]\u001b[A\n",
      " 18%|█▊        | 18/100 [00:23<00:17,  4.81it/s]\u001b[A\n",
      " 19%|█▉        | 19/100 [00:23<00:15,  5.16it/s]\u001b[A\n",
      " 20%|██        | 20/100 [00:23<00:15,  5.30it/s]\u001b[A\n",
      " 21%|██        | 21/100 [00:23<00:14,  5.53it/s]\u001b[A\n",
      " 22%|██▏       | 22/100 [00:23<00:13,  5.65it/s]\u001b[A\n",
      " 23%|██▎       | 23/100 [00:24<00:13,  5.67it/s]\u001b[A\n",
      " 24%|██▍       | 24/100 [00:24<00:13,  5.65it/s]\u001b[A\n",
      " 25%|██▌       | 25/100 [00:24<00:13,  5.69it/s]\u001b[A\n",
      " 26%|██▌       | 26/100 [00:24<00:12,  5.74it/s]\u001b[A\n",
      " 27%|██▋       | 27/100 [00:24<00:12,  5.80it/s]\u001b[A\n",
      " 28%|██▊       | 28/100 [00:24<00:12,  5.93it/s]\u001b[A\n",
      " 29%|██▉       | 29/100 [00:25<00:12,  5.89it/s]\u001b[A\n",
      " 30%|███       | 30/100 [00:25<00:11,  5.97it/s]\u001b[A\n",
      " 31%|███       | 31/100 [00:25<00:11,  5.97it/s]\u001b[A\n",
      " 32%|███▏      | 32/100 [00:25<00:11,  5.90it/s]\u001b[A\n",
      " 33%|███▎      | 33/100 [00:25<00:11,  5.84it/s]\u001b[A\n",
      " 34%|███▍      | 34/100 [00:25<00:11,  5.86it/s]\u001b[A\n",
      " 35%|███▌      | 35/100 [00:26<00:10,  6.00it/s]\u001b[A\n",
      " 36%|███▌      | 36/100 [00:26<00:10,  6.15it/s]\u001b[A\n",
      " 37%|███▋      | 37/100 [00:26<00:10,  6.20it/s]\u001b[A\n",
      " 38%|███▊      | 38/100 [00:26<00:09,  6.21it/s]\u001b[A\n",
      " 39%|███▉      | 39/100 [00:26<00:09,  6.12it/s]\u001b[A\n",
      " 40%|████      | 40/100 [00:26<00:09,  6.01it/s]\u001b[A\n",
      " 41%|████      | 41/100 [00:27<00:09,  5.98it/s]\u001b[A\n",
      " 42%|████▏     | 42/100 [00:27<00:09,  5.93it/s]\u001b[A\n",
      " 43%|████▎     | 43/100 [00:27<00:09,  5.93it/s]\u001b[A\n",
      " 44%|████▍     | 44/100 [00:27<00:09,  5.94it/s]\u001b[A\n",
      " 45%|████▌     | 45/100 [00:27<00:09,  5.80it/s]\u001b[A\n",
      " 46%|████▌     | 46/100 [00:27<00:09,  5.81it/s]\u001b[A\n",
      " 47%|████▋     | 47/100 [00:28<00:09,  5.84it/s]\u001b[A\n",
      " 48%|████▊     | 48/100 [00:28<00:08,  5.91it/s]\u001b[A\n",
      " 49%|████▉     | 49/100 [00:28<00:08,  6.01it/s]\u001b[A\n",
      " 50%|█████     | 50/100 [00:28<00:08,  5.99it/s]\u001b[A\n",
      " 51%|█████     | 51/100 [00:28<00:08,  5.91it/s]\u001b[A\n",
      " 52%|█████▏    | 52/100 [00:28<00:08,  5.85it/s]\u001b[A\n",
      " 53%|█████▎    | 53/100 [00:29<00:08,  5.82it/s]\u001b[A\n",
      " 54%|█████▍    | 54/100 [00:29<00:07,  5.95it/s]\u001b[A\n",
      " 55%|█████▌    | 55/100 [00:29<00:07,  6.09it/s]\u001b[A\n",
      " 56%|█████▌    | 56/100 [00:29<00:07,  6.06it/s]\u001b[A\n",
      " 57%|█████▋    | 57/100 [00:29<00:07,  5.99it/s]\u001b[A\n",
      " 58%|█████▊    | 58/100 [00:29<00:07,  5.94it/s]\u001b[A\n",
      " 59%|█████▉    | 59/100 [00:30<00:06,  5.93it/s]\u001b[A\n",
      " 60%|██████    | 60/100 [00:30<00:06,  5.93it/s]\u001b[A\n",
      " 61%|██████    | 61/100 [00:30<00:06,  5.95it/s]\u001b[A\n",
      " 62%|██████▏   | 62/100 [00:30<00:06,  5.96it/s]\u001b[A\n",
      " 63%|██████▎   | 63/100 [00:30<00:06,  6.12it/s]\u001b[A\n",
      " 64%|██████▍   | 64/100 [00:30<00:05,  6.20it/s]\u001b[A\n",
      " 65%|██████▌   | 65/100 [00:31<00:05,  6.17it/s]\u001b[A\n",
      " 66%|██████▌   | 66/100 [00:31<00:05,  6.14it/s]\u001b[A\n",
      " 67%|██████▋   | 67/100 [00:31<00:05,  6.12it/s]\u001b[A\n",
      " 68%|██████▊   | 68/100 [00:31<00:05,  6.09it/s]\u001b[A\n",
      " 69%|██████▉   | 69/100 [00:31<00:05,  6.03it/s]\u001b[A\n",
      " 70%|███████   | 70/100 [00:31<00:04,  6.02it/s]\u001b[A\n",
      " 71%|███████   | 71/100 [00:32<00:04,  5.93it/s]\u001b[A\n",
      " 72%|███████▏  | 72/100 [00:32<00:04,  5.68it/s]\u001b[A\n",
      " 73%|███████▎  | 73/100 [00:32<00:04,  5.91it/s]\u001b[A\n",
      " 74%|███████▍  | 74/100 [00:32<00:04,  6.01it/s]\u001b[A\n",
      " 75%|███████▌  | 75/100 [00:32<00:04,  5.80it/s]\u001b[A\n",
      " 76%|███████▌  | 76/100 [00:32<00:04,  5.81it/s]\u001b[A\n",
      " 77%|███████▋  | 77/100 [00:33<00:03,  5.98it/s]\u001b[A\n",
      " 78%|███████▊  | 78/100 [00:33<00:03,  6.05it/s]\u001b[A\n",
      " 79%|███████▉  | 79/100 [00:33<00:03,  6.05it/s]\u001b[A\n",
      " 80%|████████  | 80/100 [00:33<00:03,  6.12it/s]\u001b[A\n",
      " 81%|████████  | 81/100 [00:33<00:03,  6.02it/s]\u001b[A\n",
      " 82%|████████▏ | 82/100 [00:33<00:03,  5.95it/s]\u001b[A\n",
      " 83%|████████▎ | 83/100 [00:34<00:02,  6.09it/s]\u001b[A\n",
      " 84%|████████▍ | 84/100 [00:34<00:02,  6.17it/s]\u001b[A\n",
      " 85%|████████▌ | 85/100 [00:34<00:02,  6.23it/s]\u001b[A\n",
      " 86%|████████▌ | 86/100 [00:34<00:02,  6.19it/s]\u001b[A\n",
      " 87%|████████▋ | 87/100 [00:34<00:02,  6.27it/s]\u001b[A\n",
      " 88%|████████▊ | 88/100 [00:34<00:01,  6.15it/s]\u001b[A\n",
      " 89%|████████▉ | 89/100 [00:35<00:01,  6.21it/s]\u001b[A\n",
      " 90%|█████████ | 90/100 [00:35<00:01,  6.23it/s]\u001b[A\n",
      " 91%|█████████ | 91/100 [00:35<00:01,  6.29it/s]\u001b[A\n",
      " 92%|█████████▏| 92/100 [00:35<00:01,  6.22it/s]\u001b[A\n",
      " 93%|█████████▎| 93/100 [00:35<00:01,  6.28it/s]\u001b[A\n",
      " 94%|█████████▍| 94/100 [00:35<00:00,  6.29it/s]\u001b[A\n",
      " 95%|█████████▌| 95/100 [00:35<00:00,  6.33it/s]\u001b[A\n",
      " 96%|█████████▌| 96/100 [00:36<00:00,  6.30it/s]\u001b[A\n",
      " 97%|█████████▋| 97/100 [00:36<00:00,  6.30it/s]\u001b[A\n",
      " 98%|█████████▊| 98/100 [00:36<00:00,  6.14it/s]\u001b[A\n",
      " 99%|█████████▉| 99/100 [00:36<00:00,  6.16it/s]\u001b[A\n",
      "100%|██████████| 100/100 [00:36<00:00,  2.72it/s]\u001b[A\n",
      "/Users/timsb/miniconda3/envs/causal2020/lib/python3.7/site-packages/seaborn/distributions.py:2551: FutureWarning: `distplot` is a deprecated function and will be removed in a future version. Please adapt your code to use either `displot` (a figure-level function with similar flexibility) or `histplot` (an axes-level function for histograms).\n"
     ]
    },
    {
     "name": "stdout",
     "output_type": "stream",
     "text": [
      "The p-value of the predictive, permutation C.I.T. is 0.98.\n"
     ]
    },
    {
     "data": {
      "image/png": "[encoded data removed]",
      "text/plain": [
       "<Figure size 720x432 with 1 Axes>"
      ]
     },
     "metadata": {},
     "output_type": "display_data"
    }
   ],
   "source": [
    "# Get the posterior predictive values for the test\n",
    "posterior_samples_triplet = np.concatenate(\n",
    "    (x_samples_post[:, col_idxs_for_test, :], z_samples_post), axis=1\n",
    ")\n",
    "\n",
    "# Test out the predictive conditional independence test\n",
    "(\n",
    "    post_pval,\n",
    "    post_sampled_pvals,\n",
    "    post_obs_pvals,\n",
    ") = li.perform_visual_predictive_cit_test(\n",
    "    posterior_samples_triplet, obs_sample\n",
    ")"
   ]
  },
  {
   "cell_type": "markdown",
   "metadata": {},
   "source": [
    "### Caveats and pitfalls"
   ]
  },
  {
   "cell_type": "code",
   "execution_count": 13,
   "metadata": {},
   "outputs": [
    {
     "name": "stdout",
     "output_type": "stream",
     "text": [
      "Prior\n"
     ]
    },
    {
     "data": {
      "image/png": "[encoded data removed]",
      "text/plain": [
       "<Figure size 720x432 with 1 Axes>"
      ]
     },
     "metadata": {},
     "output_type": "display_data"
    },
    {
     "name": "stdout",
     "output_type": "stream",
     "text": [
      "Posterior\n"
     ]
    },
    {
     "data": {
      "image/png": "[encoded data removed]",
      "text/plain": [
       "<Figure size 720x432 with 1 Axes>"
      ]
     },
     "metadata": {},
     "output_type": "display_data"
    }
   ],
   "source": [
    "# Choose a column of data to compare, e.g., the\n",
    "# travel time column.\n",
    "current_col = TIME_COLUMN\n",
    "current_col_idx = UTILITY_COLUMNS.index(TIME_COLUMN)\n",
    "\n",
    "print(\"Prior\")\n",
    "prior_sim_cdf = li.plot_simulated_vs_observed_cdf(\n",
    "    drive_alone_df.iloc[:, current_col_idx].values,\n",
    "    x_samples_prior[:, current_col_idx, :],\n",
    "    x_label=current_col,\n",
    ")\n",
    "\n",
    "print(\"Posterior\")\n",
    "posterior_sim_cdf = li.plot_simulated_vs_observed_cdf(\n",
    "    drive_alone_df.iloc[:, current_col_idx].values,\n",
    "    x_samples_post[:, current_col_idx, :],\n",
    "    x_label=current_col,\n",
    ")"
   ]
  },
  {
   "cell_type": "markdown",
   "metadata": {},
   "source": [
    "Overall, the caveats and pitfalls only increase as one moves from marginal to conditional to latent, conditional independence tests.\n",
    "\n",
    "When testing for latent, conditional independence, one has to be wary of the same caveats as with conditional independence: under-/overfitting of the models for $E \\left[ X_1 \\mid Z \\right]$ and $E \\left[ X_1 \\mid X_2, Z \\right]$.\n",
    "\n",
    "Additionally, however, one must also be wary of any combination of:\n",
    "- models for the latent confounder\n",
    "- models for how the latent confounder causes the observed variables\n",
    "- prior distributions for the parameters of these models\n",
    "- posterior distributions for the parameters of these models\n",
    "that generates unrealistic data in a prior or posterior check.\n",
    "We hypothesize that if the your model and prior / posterior distribution generates data that is generally dissimilar to the observed data, then these generated datasets are unlikely to have similar conditional, mean independence measures."
   ]
  },
  {
   "cell_type": "markdown",
   "metadata": {},
   "source": [
    "## Summary\n",
    "The tests performed above collectively point to a few conclusions.\n",
    "\n",
    "1. The originally posited causal graph is strongly refuted by the available data.\n",
    "This is shown by the marginal and conditional independence tests.\n",
    "2. The second posited causal graph (featuring an unobserved confounder) is also refuted by the data, based on the given prior or posterior distributions for the unobserved confounder.\n",
    "This is shown by the latent, conditional independence tests.\n",
    "3. Checking the predictive models used in one's tests for underfitting and overfitting is noted to be important for obtaining tests with high power and low probability of Type-1 error.\n",
    "4. The latent, conditional independence tests exemplifies the utility of general, prior and posterior predictive checks of one's generative model.\n",
    "The resulting hypothesis is that if one's model and prior/posterior distributions indicate general data conflict, then one's latent, conditional independence tests are likely to fail with the same prior/posterior distributions."
   ]
  }
 ],
 "metadata": {
  "jupytext": {
   "formats": "ipynb,py:light,md"
  },
  "kernelspec": {
   "display_name": "Python 3",
   "language": "python",
   "name": "python3"
  },
  "language_info": {
   "codemirror_mode": {
    "name": "ipython",
    "version": 3
   },
   "file_extension": ".py",
   "mimetype": "text/x-python",
   "name": "python",
   "nbconvert_exporter": "python",
   "pygments_lexer": "ipython3",
   "version": "3.7.7"
  }
 },
 "nbformat": 4,
 "nbformat_minor": 4
}
