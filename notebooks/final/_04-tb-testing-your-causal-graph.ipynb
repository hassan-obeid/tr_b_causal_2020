{
 "cells": [
  {
   "cell_type": "markdown",
   "metadata": {},
   "source": [
    "# Testing your causal graph\n",
    "\n",
    "## Purpose\n",
    "This notebook describes and demonstrates methods for testing the assumptions of one's causal graph.\n",
    "We test three types of assumptions:\n",
    "- marginal independence assumptions,\n",
    "- conditional independence assumptions, and\n",
    "- latent, conditional independence assumptions.\n",
    "\n",
    "For each assumption, we first describe the logic used to test it.\n",
    "Then, we demonstrate one mechanism for testing the assumption according to that logic.\n"
   ]
  },
  {
   "cell_type": "markdown",
   "metadata": {},
   "source": [
    "## Set notebook parameters"
   ]
  },
  {
   "cell_type": "code",
   "execution_count": 1,
   "metadata": {},
   "outputs": [],
   "source": [
    "# Declare paths to data\n",
    "DATA_PATH = \"../../data/raw/spring_2016_all_bay_area_long_format_plus_cross_bay_col.csv\"\n",
    "# Note that these files are based on using the PPCA model\n",
    "# of Wang and Blei (2018). W represents global factor\n",
    "# coefficients and Z represents latent factor loadings\n",
    "PATH_TO_W_PARAMS = \"../../data/processed/W_inferred_PPCA.csv\"\n",
    "PATH_TO_Z_PARAMS = \"../../data/processed/Z_inferred_PPCA.csv\"\n",
    "\n",
    "# Note the columns of interest for this notebook\n",
    "MODE_ID_COLUMN = \"mode_id\"\n",
    "OBS_ID_COLUMN = \"observation_id\"\n",
    "\n",
    "TIME_COLUMN = \"total_travel_time\"\n",
    "COST_COLUMN = \"total_travel_cost\"\n",
    "DISTANCE_COLUMN = \"total_travel_distance\"\n",
    "LICENSE_COLUMN = \"num_licensed_drivers\"\n",
    "NUM_AUTOS_COLUMN = \"num_cars\"\n",
    "\n",
    "UTILITY_COLUMNS = [\n",
    "    TIME_COLUMN,\n",
    "    COST_COLUMN,\n",
    "    DISTANCE_COLUMN,\n",
    "    LICENSE_COLUMN,\n",
    "    NUM_AUTOS_COLUMN,\n",
    "]\n",
    "\n",
    "# Note the travel mode of intersest for this notebook\n",
    "DRIVE_ALONE_ID = 1\n",
    "\n",
    "# Note the number of permutations to be used when\n",
    "# testing the causal graphs\n",
    "NUM_PERMUTATIONS = 100\n",
    "\n",
    "# Choose a color to represent reference /\n",
    "# permutation-based test statistics\n",
    "PERMUTED_COLOR = \"#a6bddb\""
   ]
  },
  {
   "cell_type": "markdown",
   "metadata": {},
   "source": [
    "## Import needed libraries"
   ]
  },
  {
   "cell_type": "code",
   "execution_count": 2,
   "metadata": {
    "lines_to_end_of_cell_marker": 2
   },
   "outputs": [],
   "source": [
    "# Built-in modules\n",
    "import sys  # noqa: E402\n",
    "\n",
    "# Third party modules\n",
    "import numpy as np  # noqa: E402\n",
    "import pandas as pd  # noqa: E402\n",
    "import scipy.stats  # noqa: E402\n",
    "\n",
    "# Local modules\n",
    "sys.path.insert(0, \"../../\")\n",
    "import src.testing.latent_independence as li  # noqa: E402 isort:skip\n",
    "import src.testing.observable_independence as oi  # noqa: E402 isort:skip\n",
    "import src.viz.sim_cdf as sim_cdf  # noqa: E402 isort:skip\n",
    "from src.graphs.drive_alone_utility import (  # noqa: E402 isort:skip\n",
    "    DRIVE_ALONE_UTILITY,\n",
    "    LATENT_DRIVE_ALONE_UTILITY,\n",
    ")\n",
    "from src.utils import sample_from_factor_model  # noqa: E402 isort:skip"
   ]
  },
  {
   "cell_type": "markdown",
   "metadata": {},
   "source": [
    "## Load and describe needed data"
   ]
  },
  {
   "cell_type": "code",
   "execution_count": 3,
   "metadata": {},
   "outputs": [
    {
     "name": "stdout",
     "output_type": "stream",
     "text": [
      "                           0        8        16       24       32\n",
      "total_travel_time      54.010  39.7800  22.2200  22.3000  47.9500\n",
      "total_travel_cost       5.714   4.4519   1.6817   1.6817   5.9782\n",
      "total_travel_distance  30.920  24.0900   9.1000   9.1000  32.3500\n",
      "num_licensed_drivers    2.000   2.0000   2.0000   2.0000   2.0000\n",
      "num_cars                2.000   2.0000   2.0000   2.0000   2.0000\n",
      "observation_id          1.000   2.0000   3.0000   4.0000   5.0000\n"
     ]
    }
   ],
   "source": [
    "# Load the raw data\n",
    "df = pd.read_csv(DATA_PATH)\n",
    "\n",
    "# Look at the data being used in this notebook\n",
    "print(\n",
    "    df.loc[\n",
    "        df[MODE_ID_COLUMN] == DRIVE_ALONE_ID, UTILITY_COLUMNS + [OBS_ID_COLUMN]\n",
    "    ]\n",
    "    .head(5)\n",
    "    .T\n",
    ")\n",
    "\n",
    "# Create a dataframe with the variables posited\n",
    "# to make up the drive-alone utility\n",
    "drive_alone_df = df.loc[df[MODE_ID_COLUMN] == DRIVE_ALONE_ID, UTILITY_COLUMNS]\n",
    "\n",
    "# Figure out how many observations we have with\n",
    "# the drive alone mode being available\n",
    "num_drive_alone_obs = drive_alone_df.shape[0]"
   ]
  },
  {
   "cell_type": "markdown",
   "metadata": {},
   "source": [
    "## Show the posited causal graph"
   ]
  },
  {
   "cell_type": "code",
   "execution_count": 4,
   "metadata": {},
   "outputs": [
    {
     "data": {
      "image/svg+xml": [
       "<?xml version=\"1.0\" encoding=\"UTF-8\" standalone=\"no\"?>\n",
       "<!DOCTYPE svg PUBLIC \"-//W3C//DTD SVG 1.1//EN\"\n",
       " \"http://www.w3.org/Graphics/SVG/1.1/DTD/svg11.dtd\">\n",
       "<!-- Generated by graphviz version 2.42.3 (20191010.1750)\n",
       " -->\n",
       "<!-- Title: %3 Pages: 1 -->\n",
       "<svg width=\"720pt\" height=\"179pt\"\n",
       " viewBox=\"0.00 0.00 720.00 179.04\" xmlns=\"http://www.w3.org/2000/svg\" xmlns:xlink=\"http://www.w3.org/1999/xlink\">\n",
       "<g id=\"graph0\" class=\"graph\" transform=\"scale(1.05 1.05) rotate(0) translate(4 184)\">\n",
       "<title>%3</title>\n",
       "<polygon fill=\"white\" stroke=\"transparent\" points=\"-4,4 -4,-184 752.04,-184 752.04,4 -4,4\"/>\n",
       "<!-- Utility (Drive Alone) -->\n",
       "<g id=\"node1\" class=\"node\">\n",
       "<title>Utility (Drive Alone)</title>\n",
       "<ellipse fill=\"none\" stroke=\"black\" cx=\"270.52\" cy=\"-18\" rx=\"84.55\" ry=\"18\"/>\n",
       "<text text-anchor=\"middle\" x=\"270.52\" y=\"-13.8\" font-family=\"Times,serif\" font-size=\"14.00\">Utility (Drive Alone)</text>\n",
       "</g>\n",
       "<!-- Number of Autos -->\n",
       "<g id=\"node2\" class=\"node\">\n",
       "<title>Number of Autos</title>\n",
       "<ellipse fill=\"none\" stroke=\"black\" cx=\"71.52\" cy=\"-90\" rx=\"71.54\" ry=\"18\"/>\n",
       "<text text-anchor=\"middle\" x=\"71.52\" y=\"-85.8\" font-family=\"Times,serif\" font-size=\"14.00\">Number of Autos</text>\n",
       "</g>\n",
       "<!-- Number of Autos&#45;&gt;Utility (Drive Alone) -->\n",
       "<g id=\"edge6\" class=\"edge\">\n",
       "<title>Number of Autos&#45;&gt;Utility (Drive Alone)</title>\n",
       "<path fill=\"none\" stroke=\"black\" d=\"M111.31,-75C142.28,-64.11 185.5,-48.91 219.09,-37.09\"/>\n",
       "<polygon fill=\"black\" stroke=\"black\" points=\"220.47,-40.32 228.74,-33.7 218.14,-33.71 220.47,-40.32\"/>\n",
       "</g>\n",
       "<!-- Total Travel Cost -->\n",
       "<g id=\"node3\" class=\"node\">\n",
       "<title>Total Travel Cost</title>\n",
       "<ellipse fill=\"none\" stroke=\"black\" cx=\"270.52\" cy=\"-90\" rx=\"71.31\" ry=\"18\"/>\n",
       "<text text-anchor=\"middle\" x=\"270.52\" y=\"-85.8\" font-family=\"Times,serif\" font-size=\"14.00\">Total Travel Cost</text>\n",
       "</g>\n",
       "<!-- Total Travel Cost&#45;&gt;Utility (Drive Alone) -->\n",
       "<g id=\"edge5\" class=\"edge\">\n",
       "<title>Total Travel Cost&#45;&gt;Utility (Drive Alone)</title>\n",
       "<path fill=\"none\" stroke=\"black\" d=\"M270.52,-71.7C270.52,-63.98 270.52,-54.71 270.52,-46.11\"/>\n",
       "<polygon fill=\"black\" stroke=\"black\" points=\"274.02,-46.1 270.52,-36.1 267.02,-46.1 274.02,-46.1\"/>\n",
       "</g>\n",
       "<!-- Total Travel Time -->\n",
       "<g id=\"node4\" class=\"node\">\n",
       "<title>Total Travel Time</title>\n",
       "<ellipse fill=\"none\" stroke=\"black\" cx=\"433.52\" cy=\"-90\" rx=\"73.28\" ry=\"18\"/>\n",
       "<text text-anchor=\"middle\" x=\"433.52\" y=\"-85.8\" font-family=\"Times,serif\" font-size=\"14.00\">Total Travel Time</text>\n",
       "</g>\n",
       "<!-- Total Travel Time&#45;&gt;Utility (Drive Alone) -->\n",
       "<g id=\"edge4\" class=\"edge\">\n",
       "<title>Total Travel Time&#45;&gt;Utility (Drive Alone)</title>\n",
       "<path fill=\"none\" stroke=\"black\" d=\"M398.55,-73.98C374.31,-63.57 341.8,-49.61 315.61,-38.36\"/>\n",
       "<polygon fill=\"black\" stroke=\"black\" points=\"316.84,-35.08 306.27,-34.35 314.08,-41.52 316.84,-35.08\"/>\n",
       "</g>\n",
       "<!-- Total Travel Distance -->\n",
       "<g id=\"node5\" class=\"node\">\n",
       "<title>Total Travel Distance</title>\n",
       "<ellipse fill=\"none\" stroke=\"black\" cx=\"270.52\" cy=\"-162\" rx=\"86.25\" ry=\"18\"/>\n",
       "<text text-anchor=\"middle\" x=\"270.52\" y=\"-157.8\" font-family=\"Times,serif\" font-size=\"14.00\">Total Travel Distance</text>\n",
       "</g>\n",
       "<!-- Total Travel Distance&#45;&gt;Utility (Drive Alone) -->\n",
       "<g id=\"edge3\" class=\"edge\">\n",
       "<title>Total Travel Distance&#45;&gt;Utility (Drive Alone)</title>\n",
       "<path fill=\"none\" stroke=\"black\" d=\"M232.28,-145.61C216.35,-137.07 199.5,-124.73 190.52,-108 182.95,-93.9 182.95,-86.1 190.52,-72 197.95,-58.15 210.77,-47.32 224,-39.15\"/>\n",
       "<polygon fill=\"black\" stroke=\"black\" points=\"225.76,-42.17 232.7,-34.16 222.28,-36.1 225.76,-42.17\"/>\n",
       "</g>\n",
       "<!-- Total Travel Distance&#45;&gt;Total Travel Cost -->\n",
       "<g id=\"edge2\" class=\"edge\">\n",
       "<title>Total Travel Distance&#45;&gt;Total Travel Cost</title>\n",
       "<path fill=\"none\" stroke=\"black\" d=\"M270.52,-143.7C270.52,-135.98 270.52,-126.71 270.52,-118.11\"/>\n",
       "<polygon fill=\"black\" stroke=\"black\" points=\"274.02,-118.1 270.52,-108.1 267.02,-118.1 274.02,-118.1\"/>\n",
       "</g>\n",
       "<!-- Total Travel Distance&#45;&gt;Total Travel Time -->\n",
       "<g id=\"edge1\" class=\"edge\">\n",
       "<title>Total Travel Distance&#45;&gt;Total Travel Time</title>\n",
       "<path fill=\"none\" stroke=\"black\" d=\"M306.69,-145.46C331.17,-134.95 363.64,-121.01 389.6,-109.86\"/>\n",
       "<polygon fill=\"black\" stroke=\"black\" points=\"391.03,-113.05 398.84,-105.89 388.27,-106.62 391.03,-113.05\"/>\n",
       "</g>\n",
       "<!-- Number of Licensed Drivers -->\n",
       "<g id=\"node6\" class=\"node\">\n",
       "<title>Number of Licensed Drivers</title>\n",
       "<ellipse fill=\"none\" stroke=\"black\" cx=\"636.52\" cy=\"-90\" rx=\"111.55\" ry=\"18\"/>\n",
       "<text text-anchor=\"middle\" x=\"636.52\" y=\"-85.8\" font-family=\"Times,serif\" font-size=\"14.00\">Number of Licensed Drivers</text>\n",
       "</g>\n",
       "<!-- Number of Licensed Drivers&#45;&gt;Utility (Drive Alone) -->\n",
       "<g id=\"edge7\" class=\"edge\">\n",
       "<title>Number of Licensed Drivers&#45;&gt;Utility (Drive Alone)</title>\n",
       "<path fill=\"none\" stroke=\"black\" d=\"M567.68,-75.83C503.01,-63.47 406.68,-45.04 341.36,-32.55\"/>\n",
       "<polygon fill=\"black\" stroke=\"black\" points=\"341.64,-29.04 331.16,-30.6 340.32,-35.91 341.64,-29.04\"/>\n",
       "</g>\n",
       "</g>\n",
       "</svg>\n"
      ],
      "text/plain": [
       "<graphviz.dot.Digraph at 0x7fd7fadf2be0>"
      ]
     },
     "execution_count": 4,
     "metadata": {},
     "output_type": "execute_result"
    }
   ],
   "source": [
    "# Draw the causal model being tested\n",
    "causal_graph = DRIVE_ALONE_UTILITY.draw()\n",
    "causal_graph.graph_attr.update(size=\"10,6\")\n",
    "causal_graph"
   ]
  },
  {
   "cell_type": "markdown",
   "metadata": {},
   "source": [
    "## Marginal independence tests\n",
    "\n",
    "### Main idea\n",
    "The marginal independence tests demonstrated in this notebook will visually test the following implication<br>\n",
    "$\n",
    "\\begin{aligned}\n",
    "P \\left( X_1 \\mid X_2 \\right) &= P \\left( X_1 \\right) \\\\\n",
    "\\int x_1 P \\left( X_1 \\mid X_2 \\right) \\partial{x_1}  &= \\int x_1 P \\left( X_1 \\right) \\partial{x_1} \\\\\n",
    "E \\left[ X_1 \\mid X_2 \\right] &= E \\left[ X_1 \\right]\n",
    "\\end{aligned}\n",
    "$\n",
    "\n",
    "In other words, if $X_1$ is marginally independent of $X_2$, then the expectation of $X_1$ conditional on $X_2$ is equal to the marginal expectation of $X_1$.\n",
    "Marginal independence implies mean independence.\n",
    "This means that shuffling / permuting the $X_2$ columns should make no difference to predicting $X_1$, once one predicts $\\bar{X_1}$.\n",
    "\n",
    "The test demonstrated below works by estimating a linear regression to predict $E \\left[ X_1 \\mid X_2 \\right]$.\n",
    "We compute the $r^2$ from these regressions using the observed value of $X_2$ and also using the permuted values of $X_2$, which are independent of $X_1$ by construction.\n",
    "\n",
    "If $X_1$ is marginally independent of $X_2$, then the $r^2$ using the observed values of $X_2$ should resemble the distribution of $r^2$ using the permuted values of $X_2$.\n",
    "\n",
    "For this test, we'll use the following marginal independence assumption implied by the causal graph above:<br>\n",
    "$\n",
    "P \\left( \\textrm{Number of Automobiles} \\mid \\textrm{Number of licensed drivers} \\right) = P \\left( \\textrm{Number of Automobiles} \\right)\n",
    "$"
   ]
  },
  {
   "cell_type": "code",
   "execution_count": 5,
   "metadata": {},
   "outputs": [
    {
     "name": "stderr",
     "output_type": "stream",
     "text": [
      "100%|██████████| 100/100 [00:00<00:00, 527.52it/s]\n"
     ]
    },
    {
     "name": "stdout",
     "output_type": "stream",
     "text": [
      "The p-value of the permutation independence test is 0.00.\n"
     ]
    },
    {
     "data": {
      "image/png": "[encoded data removed]",
      "text/plain": [
       "<Figure size 720x432 with 1 Axes>"
      ]
     },
     "metadata": {},
     "output_type": "display_data"
    },
    {
     "data": {
      "text/plain": [
       "0.0"
      ]
     },
     "execution_count": 5,
     "metadata": {},
     "output_type": "execute_result"
    }
   ],
   "source": [
    "license_array = drive_alone_df[LICENSE_COLUMN].values\n",
    "num_cars_array = drive_alone_df[NUM_AUTOS_COLUMN].values\n",
    "\n",
    "oi.visual_permutation_test(\n",
    "    license_array,\n",
    "    num_cars_array,\n",
    "    z_array=None,\n",
    "    seed=1038,\n",
    "    num_permutations=NUM_PERMUTATIONS,\n",
    "    permutation_color=PERMUTED_COLOR,\n",
    ")"
   ]
  },
  {
   "cell_type": "markdown",
   "metadata": {},
   "source": [
    "### Caveats and pitfalls\n",
    "Two important issues when testing the assumption of mean independence between $X_1$ and $X_2$ are underfitting and overfitting of the model for $E \\left[ X_1 \\mid X_2 \\right]$.\n",
    "\n",
    "If $E \\left[ X_1 \\mid X_2 \\right]$ is underfit, then one's observed test statitic ($r^2$) will be lower than it would be under a correctly specified model.\n",
    "This will increase the probability of Type-2 error, failing to reject the null-hypothesis when the null is false.\n",
    "Underfitting reduces the power of one's predictive test.\n",
    "To guard against underfitting, one should make extensive use of posterior predictive checks and model selection techniques to select the predictively most powerful models that do no show signs of overfitting.\n",
    "\n",
    "Conversely, if $E \\left[ X_1 \\mid X_2 \\right]$ is overfit, then one's observed test statistic ($r^2$) will be higher than it would be under a correctly specified model.\n",
    "This will increase the probability of one rejecting the null-hypothesis when the null is true.\n",
    "Overfitting increases the probability of Type-1 errors.\n",
    "To guard against overfitting, one should make thorough use of cross-validation and related resampling techniques to ensure that one's model performance does not degrade appreciably outside of the training set."
   ]
  },
  {
   "cell_type": "markdown",
   "metadata": {},
   "source": [
    "## Conditional independence tests\n",
    "\n",
    "### Main idea\n",
    "In particular, the notebook will show one way to visually and numerically test the following implication<br>\n",
    "$\n",
    "\\begin{aligned}\n",
    "P \\left( X_1 \\mid X_2, Z \\right) &= P \\left( X_1 \\mid Z \\right) \\\\\n",
    "\\int x_1 P \\left( X_1 \\mid X_2, Z \\right) \\partial{x_1}  &= \\int x_1 P \\left( X_1 \\mid Z \\right) \\partial{x_1} \\\\\n",
    "E \\left[ X_1 \\mid X_2, Z \\right] &= E \\left[ X_1 \\mid Z \\right]\n",
    "\\end{aligned}\n",
    "$\n",
    "\n",
    "In other words, if $X_1$ is conditionally independent of $X_2$ given $Z$, then the expectation of $X_1$ conditional on $X_2$ and $Z$ is equal to the expectation of $X_1$ conditional on $Z$ alone.\n",
    "This implies that shuffling / permuting $X_2$ should make no difference for predicting $X_1$ once we've included $Z$ while predicting.\n",
    "\n",
    "In other words, one's ability predict to predict $X_1$ should not depend on whether one uses the original $X_2$ or the permuted $X_2$, as long as one conditions on $Z$ when predicting $X_1$.\n",
    "In this notebook, we test this invariance using a simple predictive model, linear regression, but in general, one need not and should not restrict oneself to linear predictive models. Upon estimating each regression, we compare $r^2$ as a measure of predictive ability when using $Z$ and the original $X_2$ versus $r^2$ when using $Z$ and the permuted $X_2$.\n",
    "\n",
    "For this test, we'll use the following conditional independence assumption implied by the causal graph above:<br>\n",
    "$\n",
    "P \\left( \\textrm{Travel Time} \\mid \\textrm{Travel Cost}, \\textrm{Travel Distance} \\right) = P \\left( \\textrm{Travel Time} \\mid \\textrm{Travel Distance} \\right)\n",
    "$"
   ]
  },
  {
   "cell_type": "code",
   "execution_count": 6,
   "metadata": {},
   "outputs": [
    {
     "name": "stderr",
     "output_type": "stream",
     "text": [
      "100%|██████████| 100/100 [00:00<00:00, 529.40it/s]\n"
     ]
    },
    {
     "name": "stdout",
     "output_type": "stream",
     "text": [
      "The p-value of the permutation independence test is 0.00.\n"
     ]
    },
    {
     "data": {
      "image/png": "[encoded data removed]",
      "text/plain": [
       "<Figure size 720x432 with 1 Axes>"
      ]
     },
     "metadata": {},
     "output_type": "display_data"
    },
    {
     "data": {
      "text/plain": [
       "0.0"
      ]
     },
     "execution_count": 6,
     "metadata": {},
     "output_type": "execute_result"
    }
   ],
   "source": [
    "time_array = drive_alone_df[TIME_COLUMN].values\n",
    "cost_array = drive_alone_df[COST_COLUMN].values\n",
    "distance_array = drive_alone_df[DISTANCE_COLUMN].values\n",
    "\n",
    "oi.visual_permutation_test(\n",
    "    time_array,\n",
    "    cost_array,\n",
    "    z_array=distance_array,\n",
    "    num_permutations=NUM_PERMUTATIONS,\n",
    "    permutation_color=PERMUTED_COLOR,\n",
    ")"
   ]
  },
  {
   "cell_type": "markdown",
   "metadata": {},
   "source": [
    "### Caveats and pitfalls\n",
    "When testing conditional mean independence (i.e., $E \\left[ X_1 \\mid X_2, Z \\right] = E \\left[ X_1 \\mid Z \\right]$), there are four potential issues of interest.\n",
    "\n",
    "The first issue is misspecification of $E \\left[ X_1 \\mid Z \\right]$.\n",
    "If the conditional mean of $X_1$ depends on un-modeled functions of $Z$ and $Z \\rightarrow X_2$, then the inclusion of $X_2$ in one's model may serve as a proxy for the un-modeled function of $Z$.\n",
    "Such proxy behavior would lead one to observe \"inflated\" values of $r^2$ when modeling $E \\left[ X_1 \\mid X_2, Z \\right]$, thus increasing the probability that one will reject the null-hypothesis of conditional independence when it is true.\n",
    "\n",
    "In other words, to guard against higher-than-nominal probabilities of type-1 error, one needs to guard against underfitting of the model for $E \\left[ X_1 \\mid Z \\right]$ **before** computing one's test-statistic and (permutation-based) reference-distribution.\n",
    "\n",
    "The second issue is misspecification of $E \\left[ X_1 \\mid X_2, Z \\right]$.\n",
    "If one's model for $E \\left[ X_1 \\mid X_2, Z \\right]$ is underfit with respect to $X_2$, then one's test-statistic ($r^2$) will be lower than it should be under accurate specification.\n",
    "This leads to greater probability of type-2 error, i.e., failing to reject the null hypothesis when it is false.\n",
    "\n",
    "The two overfitting issues below are the converse of the underfitting problems discussed in the last two paragraphs.\n",
    "If one's model for $E \\left[ X_1 \\mid Z \\right]$ is overfit, then the reference-distribution of the test statistic will be artificially high.\n",
    "This will lead to higher probability of Type-2 error: i.e., lower probability of rejecting the null hypothesis of conditional independence when it is indeed false.\n",
    "Likewise, if one's model for $E \\left[ X_1 \\mid X_2, Z \\right]$ is overfit to $X_2$, then one's test-statistic will be artificially high, thus increasing the probability of Type-1 error--incorrectly rejecting the null-hypothesis when it is true.\n",
    "\n",
    "To avoid all such problems or the combination of these problems, be sure to check one's models of $E \\left[ X_1 \\mid Z \\right]$ and $E \\left[ X_1 \\mid X_2, Z \\right]$ for both under- and over-fitting.\n",
    "As mentioned above, posterior predictive checks are most helpful for identifying underfitting in one's models.\n",
    "Cross-validation and resampling techniques are great for identifying overfitting."
   ]
  },
  {
   "cell_type": "markdown",
   "metadata": {},
   "source": [
    "## Latent conditional independence tests\n"
   ]
  },
  {
   "cell_type": "markdown",
   "metadata": {},
   "source": [
    "### Show the posited causal graph\n",
    "The key differences between the graph underlying the latent, conditional independence tests and the graph underlying the tests above are that, now, we posit:\n",
    "1. the existence of a latent confounder\n",
    "2. the conditional independence of the observed variables, given the latent confounder."
   ]
  },
  {
   "cell_type": "code",
   "execution_count": 7,
   "metadata": {},
   "outputs": [
    {
     "data": {
      "image/svg+xml": [
       "<?xml version=\"1.0\" encoding=\"UTF-8\" standalone=\"no\"?>\n",
       "<!DOCTYPE svg PUBLIC \"-//W3C//DTD SVG 1.1//EN\"\n",
       " \"http://www.w3.org/Graphics/SVG/1.1/DTD/svg11.dtd\">\n",
       "<!-- Generated by graphviz version 2.42.3 (20191010.1750)\n",
       " -->\n",
       "<!-- Title: %3 Pages: 1 -->\n",
       "<svg width=\"720pt\" height=\"146pt\"\n",
       " viewBox=\"0.00 0.00 720.00 146.13\" xmlns=\"http://www.w3.org/2000/svg\" xmlns:xlink=\"http://www.w3.org/1999/xlink\">\n",
       "<g id=\"graph0\" class=\"graph\" transform=\"scale(1.29 1.29) rotate(0) translate(4 184)\">\n",
       "<title>%3</title>\n",
       "<polygon fill=\"white\" stroke=\"transparent\" points=\"-4,4 -4,-184 922.29,-184 922.29,4 -4,4\"/>\n",
       "<!-- Utility (Drive Alone) -->\n",
       "<g id=\"node1\" class=\"node\">\n",
       "<title>Utility (Drive Alone)</title>\n",
       "<ellipse fill=\"none\" stroke=\"black\" cx=\"330.77\" cy=\"-18\" rx=\"84.55\" ry=\"18\"/>\n",
       "<text text-anchor=\"middle\" x=\"330.77\" y=\"-13.8\" font-family=\"Times,serif\" font-size=\"14.00\">Utility (Drive Alone)</text>\n",
       "</g>\n",
       "<!-- Number of Autos -->\n",
       "<g id=\"node2\" class=\"node\">\n",
       "<title>Number of Autos</title>\n",
       "<ellipse fill=\"none\" stroke=\"black\" cx=\"88.77\" cy=\"-90\" rx=\"71.54\" ry=\"18\"/>\n",
       "<text text-anchor=\"middle\" x=\"88.77\" y=\"-85.8\" font-family=\"Times,serif\" font-size=\"14.00\">Number of Autos</text>\n",
       "</g>\n",
       "<!-- Number of Autos&#45;&gt;Utility (Drive Alone) -->\n",
       "<g id=\"edge10\" class=\"edge\">\n",
       "<title>Number of Autos&#45;&gt;Utility (Drive Alone)</title>\n",
       "<path fill=\"none\" stroke=\"black\" d=\"M133.72,-76C173.03,-64.63 230.35,-48.05 273.05,-35.7\"/>\n",
       "<polygon fill=\"black\" stroke=\"black\" points=\"274.11,-39.03 282.74,-32.89 272.16,-32.31 274.11,-39.03\"/>\n",
       "</g>\n",
       "<!-- confounder -->\n",
       "<g id=\"node3\" class=\"node\">\n",
       "<title>confounder</title>\n",
       "<ellipse fill=\"none\" stroke=\"black\" cx=\"330.77\" cy=\"-162\" rx=\"50.26\" ry=\"18\"/>\n",
       "<text text-anchor=\"middle\" x=\"330.77\" y=\"-157.8\" font-family=\"Times,serif\" font-size=\"14.00\">confounder</text>\n",
       "</g>\n",
       "<!-- confounder&#45;&gt;Utility (Drive Alone) -->\n",
       "<g id=\"edge6\" class=\"edge\">\n",
       "<title>confounder&#45;&gt;Utility (Drive Alone)</title>\n",
       "<path fill=\"none\" stroke=\"black\" d=\"M280.52,-160.35C198.66,-158.11 42.16,-148.5 7.77,-108 -2.59,-95.8 -2.59,-84.2 7.77,-72 36.71,-37.92 152.11,-25.71 236.74,-21.36\"/>\n",
       "<polygon fill=\"black\" stroke=\"black\" points=\"237.08,-24.85 246.9,-20.87 236.74,-17.86 237.08,-24.85\"/>\n",
       "</g>\n",
       "<!-- confounder&#45;&gt;Number of Autos -->\n",
       "<g id=\"edge4\" class=\"edge\">\n",
       "<title>confounder&#45;&gt;Number of Autos</title>\n",
       "<path fill=\"none\" stroke=\"black\" d=\"M292.96,-150.06C252.83,-138.46 189.05,-120.01 143.45,-106.82\"/>\n",
       "<polygon fill=\"black\" stroke=\"black\" points=\"144.3,-103.42 133.72,-104 142.35,-110.14 144.3,-103.42\"/>\n",
       "</g>\n",
       "<!-- Total Travel Cost -->\n",
       "<g id=\"node4\" class=\"node\">\n",
       "<title>Total Travel Cost</title>\n",
       "<ellipse fill=\"none\" stroke=\"black\" cx=\"249.77\" cy=\"-90\" rx=\"71.31\" ry=\"18\"/>\n",
       "<text text-anchor=\"middle\" x=\"249.77\" y=\"-85.8\" font-family=\"Times,serif\" font-size=\"14.00\">Total Travel Cost</text>\n",
       "</g>\n",
       "<!-- confounder&#45;&gt;Total Travel Cost -->\n",
       "<g id=\"edge3\" class=\"edge\">\n",
       "<title>confounder&#45;&gt;Total Travel Cost</title>\n",
       "<path fill=\"none\" stroke=\"black\" d=\"M312.39,-145.12C301.84,-136 288.42,-124.4 276.7,-114.28\"/>\n",
       "<polygon fill=\"black\" stroke=\"black\" points=\"278.78,-111.44 268.92,-107.55 274.2,-116.74 278.78,-111.44\"/>\n",
       "</g>\n",
       "<!-- Total Travel Time -->\n",
       "<g id=\"node5\" class=\"node\">\n",
       "<title>Total Travel Time</title>\n",
       "<ellipse fill=\"none\" stroke=\"black\" cx=\"412.77\" cy=\"-90\" rx=\"73.28\" ry=\"18\"/>\n",
       "<text text-anchor=\"middle\" x=\"412.77\" y=\"-85.8\" font-family=\"Times,serif\" font-size=\"14.00\">Total Travel Time</text>\n",
       "</g>\n",
       "<!-- confounder&#45;&gt;Total Travel Time -->\n",
       "<g id=\"edge2\" class=\"edge\">\n",
       "<title>confounder&#45;&gt;Total Travel Time</title>\n",
       "<path fill=\"none\" stroke=\"black\" d=\"M349.38,-145.12C360.05,-136 373.64,-124.4 385.5,-114.28\"/>\n",
       "<polygon fill=\"black\" stroke=\"black\" points=\"388.05,-116.71 393.38,-107.55 383.5,-111.38 388.05,-116.71\"/>\n",
       "</g>\n",
       "<!-- Total Travel Distance -->\n",
       "<g id=\"node6\" class=\"node\">\n",
       "<title>Total Travel Distance</title>\n",
       "<ellipse fill=\"none\" stroke=\"black\" cx=\"590.77\" cy=\"-90\" rx=\"86.25\" ry=\"18\"/>\n",
       "<text text-anchor=\"middle\" x=\"590.77\" y=\"-85.8\" font-family=\"Times,serif\" font-size=\"14.00\">Total Travel Distance</text>\n",
       "</g>\n",
       "<!-- confounder&#45;&gt;Total Travel Distance -->\n",
       "<g id=\"edge1\" class=\"edge\">\n",
       "<title>confounder&#45;&gt;Total Travel Distance</title>\n",
       "<path fill=\"none\" stroke=\"black\" d=\"M369.69,-150.52C412.1,-139.1 480.5,-120.69 530,-107.36\"/>\n",
       "<polygon fill=\"black\" stroke=\"black\" points=\"531.2,-110.66 539.94,-104.68 529.38,-103.9 531.2,-110.66\"/>\n",
       "</g>\n",
       "<!-- Number of Licensed Drivers -->\n",
       "<g id=\"node7\" class=\"node\">\n",
       "<title>Number of Licensed Drivers</title>\n",
       "<ellipse fill=\"none\" stroke=\"black\" cx=\"806.77\" cy=\"-90\" rx=\"111.55\" ry=\"18\"/>\n",
       "<text text-anchor=\"middle\" x=\"806.77\" y=\"-85.8\" font-family=\"Times,serif\" font-size=\"14.00\">Number of Licensed Drivers</text>\n",
       "</g>\n",
       "<!-- confounder&#45;&gt;Number of Licensed Drivers -->\n",
       "<g id=\"edge5\" class=\"edge\">\n",
       "<title>confounder&#45;&gt;Number of Licensed Drivers</title>\n",
       "<path fill=\"none\" stroke=\"black\" d=\"M376.41,-154.29C454.66,-142.78 615.79,-119.09 717.16,-104.18\"/>\n",
       "<polygon fill=\"black\" stroke=\"black\" points=\"717.7,-107.64 727.08,-102.72 716.68,-100.71 717.7,-107.64\"/>\n",
       "</g>\n",
       "<!-- Total Travel Cost&#45;&gt;Utility (Drive Alone) -->\n",
       "<g id=\"edge9\" class=\"edge\">\n",
       "<title>Total Travel Cost&#45;&gt;Utility (Drive Alone)</title>\n",
       "<path fill=\"none\" stroke=\"black\" d=\"M268.96,-72.41C279.38,-63.41 292.42,-52.14 303.84,-42.27\"/>\n",
       "<polygon fill=\"black\" stroke=\"black\" points=\"306.15,-44.9 311.43,-35.71 301.57,-39.6 306.15,-44.9\"/>\n",
       "</g>\n",
       "<!-- Total Travel Time&#45;&gt;Utility (Drive Alone) -->\n",
       "<g id=\"edge8\" class=\"edge\">\n",
       "<title>Total Travel Time&#45;&gt;Utility (Drive Alone)</title>\n",
       "<path fill=\"none\" stroke=\"black\" d=\"M393.34,-72.41C382.79,-63.41 369.59,-52.14 358.03,-42.27\"/>\n",
       "<polygon fill=\"black\" stroke=\"black\" points=\"360.22,-39.54 350.35,-35.71 355.68,-44.87 360.22,-39.54\"/>\n",
       "</g>\n",
       "<!-- Total Travel Distance&#45;&gt;Utility (Drive Alone) -->\n",
       "<g id=\"edge7\" class=\"edge\">\n",
       "<title>Total Travel Distance&#45;&gt;Utility (Drive Alone)</title>\n",
       "<path fill=\"none\" stroke=\"black\" d=\"M540.02,-75.34C497.2,-63.81 435.83,-47.29 390.62,-35.11\"/>\n",
       "<polygon fill=\"black\" stroke=\"black\" points=\"391.51,-31.73 380.95,-32.51 389.69,-38.49 391.51,-31.73\"/>\n",
       "</g>\n",
       "<!-- Number of Licensed Drivers&#45;&gt;Utility (Drive Alone) -->\n",
       "<g id=\"edge11\" class=\"edge\">\n",
       "<title>Number of Licensed Drivers&#45;&gt;Utility (Drive Alone)</title>\n",
       "<path fill=\"none\" stroke=\"black\" d=\"M727.36,-77.32C638.73,-64.29 496.24,-43.33 408.35,-30.41\"/>\n",
       "<polygon fill=\"black\" stroke=\"black\" points=\"408.84,-26.94 398.44,-28.95 407.82,-33.87 408.84,-26.94\"/>\n",
       "</g>\n",
       "</g>\n",
       "</svg>\n"
      ],
      "text/plain": [
       "<graphviz.dot.Digraph at 0x7fd7fb45b2b0>"
      ]
     },
     "execution_count": 7,
     "metadata": {},
     "output_type": "execute_result"
    }
   ],
   "source": [
    "# Draw the causal model being tested\n",
    "latent_causal_graph = LATENT_DRIVE_ALONE_UTILITY.draw()\n",
    "latent_causal_graph.graph_attr.update(size=\"10,6\")\n",
    "latent_causal_graph"
   ]
  },
  {
   "cell_type": "markdown",
   "metadata": {},
   "source": [
    "### Main idea\n",
    "The latent, conditional independence test is a prior / posterior predictive test that involves a latent variable.\n",
    "\n",
    "Section 2.2 of\n",
    "> Gelman, Andrew, Xiao-Li Meng, and Hal Stern. \"Posterior predictive assessment of model fitness via realized discrepancies.\" Statistica sinica (1996): 733-760.\n",
    "\n",
    "describes these tests.\n",
    "\n",
    "The basic idea is to select a test-statistic or discrepancy measure $D \\left( \\textrm{Data} ; \\theta \\right)$ that is a function of both the observed or simulated data and of the latent variables $\\theta$.\n",
    "In the test demonstrated below, $D \\left( \\textrm{Data} ; \\theta \\right)$ is the p-value resulting from the visual conditional independence function above.\n",
    "This discrepancy value is an estimate of the probability that the chosen $X_1$ and $X_2$ variables are not conditionally independent given a particular vector $\\theta$ of latent confounders.\n",
    "\n",
    "The tail-area probability (i.e. the analog of the classical p-value) that corresponds to this discrepancy value is:<br>\n",
    "$\n",
    "P \\left[ D \\left( \\textrm{Data}^{\\textrm{rep}} ; \\theta \\right) \\geq D \\left( \\textrm{Data}^{\\textrm{obs}} ; \\theta \\right) \\mid \\textrm{Model}, \\textrm{Data}^{\\textrm{obs}} \\right] =\\\\\n",
    "\\int \\left[ D \\left( \\textrm{Data}^{\\textrm{rep}} ; \\theta \\right) \\geq D \\left( \\textrm{Data}^{\\textrm{obs}} ; \\theta \\right) \\mid \\textrm{Model}, \\textrm{Data}^{\\textrm{obs}} \\right] \\partial P \\left( \\textrm{Data}^{\\textrm{rep}}, \\theta \\mid \\textrm{Model}, \\textrm{Data}^{\\textrm{obs}} \\right)\n",
    "$\n",
    "\n",
    "In words, the demonstrated test iteratively samples the latent confounder and then simulates a dataset of replicated variables.\n",
    "For each sample of the confounder and replicated dataset, we calculate the p-value of the visual, conditional independence test for both:\n",
    "- the observed covariates and currently sampled confounder vector,\n",
    "- the replicated dataset and currently sampled confounder vector.\n",
    "\n",
    "The overall p-value of the latent conditional independence test is then calculated by averaging the number of times that the p-value with the replicated dataset is more extreme (i.e., greater than) than the p-value with the observed dataset.\n",
    "\n",
    "#### Prior distribution based test"
   ]
  },
  {
   "cell_type": "code",
   "execution_count": 8,
   "metadata": {},
   "outputs": [
    {
     "name": "stdout",
     "output_type": "stream",
     "text": [
      "                            mean        std\n",
      "total_travel_time      29.667137  24.586569\n",
      "total_travel_cost       3.289287   4.214448\n",
      "total_travel_distance  15.579498  18.465879\n",
      "num_licensed_drivers    2.178759   0.751621\n",
      "num_cars                2.050999   0.880458\n"
     ]
    }
   ],
   "source": [
    "# Get the means and standard deviations of those variables\n",
    "drive_alone_means = drive_alone_df.mean()\n",
    "drive_alone_means.name = \"mean\"\n",
    "\n",
    "drive_alone_stds = drive_alone_df.std()\n",
    "drive_alone_stds.name = \"std\"\n",
    "\n",
    "# Look at the computed means and standard deviations\n",
    "print(pd.DataFrame([drive_alone_means, drive_alone_stds]).T)"
   ]
  },
  {
   "cell_type": "code",
   "execution_count": 9,
   "metadata": {},
   "outputs": [
    {
     "name": "stdout",
     "output_type": "stream",
     "text": [
      "(3804, 5, 100)\n"
     ]
    }
   ],
   "source": [
    "# Note the number of dimensions\n",
    "num_dimensions = len(UTILITY_COLUMNS)\n",
    "\n",
    "# Specify the prior distributions for the factor\n",
    "# model of the standardized drive alone dataframe\n",
    "w_dist_prior = scipy.stats.norm(loc=0, scale=1)\n",
    "z_dist_prior = scipy.stats.norm(loc=0, scale=1)\n",
    "\n",
    "sigma_prior = 0.1\n",
    "epsilon_dist_prior = scipy.stats.norm(loc=0, scale=sigma_prior)\n",
    "\n",
    "# Get samples of x from the prior distribution factor model\n",
    "x_samples_prior, z_samples_prior = sample_from_factor_model(\n",
    "    loadings_dist=z_dist_prior,\n",
    "    coef_dist=w_dist_prior,\n",
    "    noise_dist=epsilon_dist_prior,\n",
    "    standard_deviations=drive_alone_stds.values,\n",
    "    means=drive_alone_means.values,\n",
    "    num_obs=num_drive_alone_obs,\n",
    "    num_samples=NUM_PERMUTATIONS,\n",
    "    num_factors=1,\n",
    "    seed=721,\n",
    ")\n",
    "\n",
    "# Look at the dimensions of the prior predictive samples\n",
    "print(x_samples_prior.shape)"
   ]
  },
  {
   "cell_type": "code",
   "execution_count": 10,
   "metadata": {},
   "outputs": [
    {
     "data": {
      "application/vnd.jupyter.widget-view+json": {
       "model_id": "dd1d38c3a23e4d2d97a8e45992b3b3af",
       "version_major": 2,
       "version_minor": 0
      },
      "text/plain": [
       "HBox(children=(FloatProgress(value=0.0), HTML(value='')))"
      ]
     },
     "metadata": {},
     "output_type": "display_data"
    },
    {
     "name": "stdout",
     "output_type": "stream",
     "text": [
      "\n",
      "The p-value of the predictive, permutation C.I.T. is 0.99.\n"
     ]
    },
    {
     "data": {
      "image/png": "[encoded data removed]",
      "text/plain": [
       "<Figure size 720x432 with 1 Axes>"
      ]
     },
     "metadata": {},
     "output_type": "display_data"
    }
   ],
   "source": [
    "# Collect the columns being used in the test and info about them.\n",
    "columns_for_test = [NUM_AUTOS_COLUMN, LICENSE_COLUMN]\n",
    "col_idxs_for_test = [UTILITY_COLUMNS.index(col) for col in columns_for_test]\n",
    "\n",
    "# Get the observed values to be used for testing\n",
    "obs_sample = drive_alone_df.loc[:, columns_for_test].values\n",
    "\n",
    "# Get the prior predictive values for testing\n",
    "prior_samples_triplet = np.concatenate(\n",
    "    (x_samples_prior[:, col_idxs_for_test, :], z_samples_prior), axis=1\n",
    ")\n",
    "\n",
    "# Use the predictive, conditional independence test\n",
    "pval, sampled_pvals, obs_pvals = li.perform_visual_predictive_cit_test(\n",
    "    prior_samples_triplet, obs_sample\n",
    ")"
   ]
  },
  {
   "cell_type": "markdown",
   "metadata": {},
   "source": [
    "#### Posterior distribution based test"
   ]
  },
  {
   "cell_type": "code",
   "execution_count": 11,
   "metadata": {},
   "outputs": [
    {
     "name": "stdout",
     "output_type": "stream",
     "text": [
      "(3804, 5, 100)\n"
     ]
    }
   ],
   "source": [
    "# Load the parameters of the variational approximation to\n",
    "# the posterior distribution over W and Z\n",
    "w_post_params = pd.read_csv(PATH_TO_W_PARAMS, index_col=0)\n",
    "z_post_params = pd.read_csv(PATH_TO_Z_PARAMS, index_col=0)\n",
    "\n",
    "# Create the posterior distribution of coefficients\n",
    "# Note we need the arguments to have shape that can,\n",
    "# be broadcast to (num_factors, num_predictors, num_samples)\n",
    "w_dist_post = scipy.stats.norm(\n",
    "    loc=w_post_params[\"w_mean_inferred\"].values[None, :, None],\n",
    "    scale=w_post_params[\"w_std_inferred\"].values[None:, None],\n",
    ")\n",
    "\n",
    "# Create the posterior distribution of loadings\n",
    "# Note we need the arguments to have shape that can,\n",
    "# be broadcast to (num_obs, num_factors, num_samples)\n",
    "z_dist_post = scipy.stats.norm(\n",
    "    loc=z_post_params[\"z_mean_inferred\"].values[:, None, None],\n",
    "    scale=z_post_params[\"z_std_inferred\"].values[:, None, None],\n",
    ")\n",
    "\n",
    "# Get posterior samples of X_standardized\n",
    "x_samples_post, z_samples_post = sample_from_factor_model(\n",
    "    loadings_dist=z_dist_post,\n",
    "    coef_dist=w_dist_post,\n",
    "    noise_dist=epsilon_dist_prior,\n",
    "    standard_deviations=drive_alone_stds.values,\n",
    "    means=drive_alone_means.values,\n",
    "    num_obs=num_drive_alone_obs,\n",
    "    num_samples=NUM_PERMUTATIONS,\n",
    "    num_factors=1,\n",
    "    post=False,\n",
    "    seed=852,\n",
    ")\n",
    "\n",
    "# Look at the dimensions of the prior predictive samples\n",
    "print(x_samples_post.shape)"
   ]
  },
  {
   "cell_type": "code",
   "execution_count": 12,
   "metadata": {},
   "outputs": [
    {
     "data": {
      "application/vnd.jupyter.widget-view+json": {
       "model_id": "7618a406330449a48f040eae62fd558e",
       "version_major": 2,
       "version_minor": 0
      },
      "text/plain": [
       "HBox(children=(FloatProgress(value=0.0), HTML(value='')))"
      ]
     },
     "metadata": {},
     "output_type": "display_data"
    },
    {
     "name": "stdout",
     "output_type": "stream",
     "text": [
      "\n",
      "The p-value of the predictive, permutation C.I.T. is 0.98.\n"
     ]
    },
    {
     "data": {
      "image/png": "[encoded data removed]",
      "text/plain": [
       "<Figure size 720x432 with 1 Axes>"
      ]
     },
     "metadata": {},
     "output_type": "display_data"
    }
   ],
   "source": [
    "# Get the posterior predictive values for the test\n",
    "posterior_samples_triplet = np.concatenate(\n",
    "    (x_samples_post[:, col_idxs_for_test, :], z_samples_post), axis=1\n",
    ")\n",
    "\n",
    "# Test out the predictive conditional independence test\n",
    "(\n",
    "    post_pval,\n",
    "    post_sampled_pvals,\n",
    "    post_obs_pvals,\n",
    ") = li.perform_visual_predictive_cit_test(\n",
    "    posterior_samples_triplet, obs_sample\n",
    ")"
   ]
  },
  {
   "cell_type": "markdown",
   "metadata": {},
   "source": [
    "### Caveats and pitfalls"
   ]
  },
  {
   "cell_type": "code",
   "execution_count": 13,
   "metadata": {},
   "outputs": [
    {
     "name": "stdout",
     "output_type": "stream",
     "text": [
      "Prior\n"
     ]
    },
    {
     "data": {
      "image/png": "[encoded data removed]",
      "text/plain": [
       "<Figure size 720x432 with 1 Axes>"
      ]
     },
     "metadata": {},
     "output_type": "display_data"
    },
    {
     "name": "stdout",
     "output_type": "stream",
     "text": [
      "Posterior\n"
     ]
    },
    {
     "data": {
      "image/png": "[encoded data removed]",
      "text/plain": [
       "<Figure size 720x432 with 1 Axes>"
      ]
     },
     "metadata": {},
     "output_type": "display_data"
    }
   ],
   "source": [
    "# Choose a column of data to compare, e.g., the\n",
    "# travel time column.\n",
    "current_col = TIME_COLUMN\n",
    "current_col_idx = UTILITY_COLUMNS.index(TIME_COLUMN)\n",
    "\n",
    "print(\"Prior\")\n",
    "prior_sim_cdf = li.plot_simulated_vs_observed_cdf(\n",
    "    drive_alone_df.iloc[:, current_col_idx].values,\n",
    "    x_samples_prior[:, current_col_idx, :],\n",
    "    x_label=current_col,\n",
    ")\n",
    "\n",
    "print(\"Posterior\")\n",
    "posterior_sim_cdf = li.plot_simulated_vs_observed_cdf(\n",
    "    drive_alone_df.iloc[:, current_col_idx].values,\n",
    "    x_samples_post[:, current_col_idx, :],\n",
    "    x_label=current_col,\n",
    ")"
   ]
  },
  {
   "cell_type": "markdown",
   "metadata": {},
   "source": [
    "Overall, the caveats and pitfalls only increase as one moves from marginal to conditional to latent, conditional independence tests.\n",
    "\n",
    "When testing for latent, conditional independence, one has to be wary of the same caveats as with conditional independence: under-/overfitting of the models for $E \\left[ X_1 \\mid Z \\right]$ and $E \\left[ X_1 \\mid X_2, Z \\right]$.\n",
    "\n",
    "Additionally, however, one must also be wary of any combination of:\n",
    "- models for the latent confounder\n",
    "- models for how the latent confounder causes the observed variables\n",
    "- prior distributions for the parameters of these models\n",
    "- posterior distributions for the parameters of these models\n",
    "that generates unrealistic data in a prior or posterior check.\n",
    "We hypothesize that if the your model and prior / posterior distribution generates data that is generally dissimilar to the observed data, then these generated datasets are unlikely to have similar conditional, mean independence measures."
   ]
  },
  {
   "cell_type": "markdown",
   "metadata": {},
   "source": [
    "## Summary\n",
    "The tests performed above collectively point to a few conclusions.\n",
    "\n",
    "1. The originally posited causal graph is strongly refuted by the available data.\n",
    "This is shown by the marginal and conditional independence tests.\n",
    "2. The second posited causal graph (featuring an unobserved confounder) is also refuted by the data, based on the given prior or posterior distributions for the unobserved confounder.\n",
    "This is shown by the latent, conditional independence tests.\n",
    "3. Checking the predictive models used in one's tests for underfitting and overfitting is noted to be important for obtaining tests with high power and low probability of Type-1 error.\n",
    "4. The latent, conditional independence tests exemplifies the utility of general, prior and posterior predictive checks of one's generative model.\n",
    "The resulting hypothesis is that if one's model and prior/posterior distributions indicate general data conflict, then one's latent, conditional independence tests are likely to fail with the same prior/posterior distributions."
   ]
  }
 ],
 "metadata": {
  "jupytext": {
   "formats": "ipynb,py:light,md"
  },
  "kernelspec": {
   "display_name": "Python 3",
   "language": "python",
   "name": "python3"
  },
  "language_info": {
   "codemirror_mode": {
    "name": "ipython",
    "version": 3
   },
   "file_extension": ".py",
   "mimetype": "text/x-python",
   "name": "python",
   "nbconvert_exporter": "python",
   "pygments_lexer": "ipython3",
   "version": "3.7.3"
  }
 },
 "nbformat": 4,
 "nbformat_minor": 4
}
