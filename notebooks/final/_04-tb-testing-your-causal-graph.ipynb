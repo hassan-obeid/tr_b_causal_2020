{
 "cells": [
  {
   "cell_type": "markdown",
   "metadata": {},
   "source": [
    "# Testing your causal graph\n",
    "\n",
    "## Purpose\n",
    "This notebook describes and demonstrates methods for testing the assumptions of one's causal graph.\n",
    "We test three types of assumptions:\n",
    "- marginal independence assumptions,\n",
    "- conditional independence assumptions, and\n",
    "- latent, conditional independence assumptions.\n",
    "\n",
    "For each assumption, we first describe the logic used to test it.\n",
    "Then, we demonstrate one mechanism for testing the assumption according to that logic.\n"
   ]
  },
  {
   "cell_type": "markdown",
   "metadata": {},
   "source": [
    "## Set notebook parameters"
   ]
  },
  {
   "cell_type": "code",
   "execution_count": 1,
   "metadata": {},
   "outputs": [],
   "source": [
    "# Declare paths to data\n",
    "DATA_PATH =\\\n",
    "    '../../data/raw/spring_2016_all_bay_area_long_format_plus_cross_bay_col.csv'\n",
    "# Note that these files are based on using the PPCA model\n",
    "# of Wang and Blei (2018). W represents global factor\n",
    "# coefficients and Z represents latent factor loadings\n",
    "PATH_TO_W_PARAMS = '../../data/processed/W_inferred_PPCA.csv'\n",
    "PATH_TO_Z_PARAMS = '../../data/processed/Z_inferred_PPCA.csv'\n",
    "\n",
    "# Note the columns of interest for this notebook\n",
    "MODE_ID_COLUMN = 'mode_id'\n",
    "OBS_ID_COLUMN = 'observation_id'\n",
    "\n",
    "TIME_COLUMN = 'total_travel_time'\n",
    "COST_COLUMN = 'total_travel_cost'\n",
    "DISTANCE_COLUMN = 'total_travel_distance'\n",
    "LICENSE_COLUMN = 'num_licensed_drivers'\n",
    "NUM_AUTOS_COLUMN = 'num_cars'\n",
    "\n",
    "UTILITY_COLUMNS =\\\n",
    "    [TIME_COLUMN,\n",
    "     COST_COLUMN,\n",
    "     DISTANCE_COLUMN,\n",
    "     LICENSE_COLUMN,\n",
    "     NUM_AUTOS_COLUMN]\n",
    "\n",
    "# Note the travel mode of intersest for this notebook\n",
    "DRIVE_ALONE_ID = 1\n",
    "\n",
    "# Note the number of permutations to be used when\n",
    "# testing the causal graphs\n",
    "NUM_PERMUTATIONS = 100\n",
    "\n",
    "# Choose a color to represent reference /\n",
    "# permutation-based test statistics\n",
    "PERMUTED_COLOR = '#a6bddb'"
   ]
  },
  {
   "cell_type": "markdown",
   "metadata": {},
   "source": [
    "## Import needed libraries"
   ]
  },
  {
   "cell_type": "code",
   "execution_count": 2,
   "metadata": {},
   "outputs": [],
   "source": [
    "# Built-in modules\n",
    "import sys\n",
    "\n",
    "# Third party modules\n",
    "import numpy as np\n",
    "import pandas as pd\n",
    "import scipy.stats\n",
    "\n",
    "# Local modules\n",
    "sys.path.insert(0, '../../')\n",
    "import src.viz.sim_cdf as sim_cdf\n",
    "import src.testing.observable_independence as oi\n",
    "import src.testing.latent_independence as li\n",
    "\n",
    "from src.graphs.drive_alone_utility import (DRIVE_ALONE_UTILITY,\n",
    "                                            LATENT_DRIVE_ALONE_UTILITY)\n",
    "from src.utils import sample_from_factor_model"
   ]
  },
  {
   "cell_type": "markdown",
   "metadata": {},
   "source": [
    "## Load and describe needed data"
   ]
  },
  {
   "cell_type": "code",
   "execution_count": 3,
   "metadata": {},
   "outputs": [
    {
     "name": "stdout",
     "output_type": "stream",
     "text": [
      "                           0        8        16       24       32\n",
      "total_travel_time      54.010  39.7800  22.2200  22.3000  47.9500\n",
      "total_travel_cost       5.714   4.4519   1.6817   1.6817   5.9782\n",
      "total_travel_distance  30.920  24.0900   9.1000   9.1000  32.3500\n",
      "num_licensed_drivers    2.000   2.0000   2.0000   2.0000   2.0000\n",
      "num_cars                2.000   2.0000   2.0000   2.0000   2.0000\n",
      "observation_id          1.000   2.0000   3.0000   4.0000   5.0000\n"
     ]
    }
   ],
   "source": [
    "# Load the raw data\n",
    "df = pd.read_csv(DATA_PATH)\n",
    "\n",
    "# Look at the data being used in this notebook\n",
    "print(df.loc[df[MODE_ID_COLUMN] == DRIVE_ALONE_ID,\n",
    "             UTILITY_COLUMNS + [OBS_ID_COLUMN]]\n",
    "        .head(5)\n",
    "        .T)\n",
    "\n",
    "# Create a dataframe with the variables posited\n",
    "# to make up the drive-alone utility\n",
    "drive_alone_df =\\\n",
    "    df.loc[df[MODE_ID_COLUMN] == DRIVE_ALONE_ID,\n",
    "           UTILITY_COLUMNS]\n",
    "\n",
    "# Figure out how many observations we have with\n",
    "# the drive alone mode being available\n",
    "num_drive_alone_obs = drive_alone_df.shape[0]"
   ]
  },
  {
   "cell_type": "markdown",
   "metadata": {},
   "source": [
    "## Show the posited causal graph"
   ]
  },
  {
   "cell_type": "code",
   "execution_count": 4,
   "metadata": {},
   "outputs": [
    {
     "data": {
      "image/svg+xml": [
       "<?xml version=\"1.0\" encoding=\"UTF-8\" standalone=\"no\"?>\n",
       "<!DOCTYPE svg PUBLIC \"-//W3C//DTD SVG 1.1//EN\"\n",
       " \"http://www.w3.org/Graphics/SVG/1.1/DTD/svg11.dtd\">\n",
       "<!-- Generated by graphviz version 2.38.0 (20140413.2041)\n",
       " -->\n",
       "<!-- Title: %3 Pages: 1 -->\n",
       "<svg width=\"720pt\" height=\"179pt\"\n",
       " viewBox=\"0.00 0.00 720.00 179.04\" xmlns=\"http://www.w3.org/2000/svg\" xmlns:xlink=\"http://www.w3.org/1999/xlink\">\n",
       "<g id=\"graph0\" class=\"graph\" transform=\"scale(0.952324 0.952324) rotate(0) translate(4 184)\">\n",
       "<title>%3</title>\n",
       "<polygon fill=\"white\" stroke=\"none\" points=\"-4,4 -4,-184 752.045,-184 752.045,4 -4,4\"/>\n",
       "<!-- Total Travel Time -->\n",
       "<g id=\"node1\" class=\"node\"><title>Total Travel Time</title>\n",
       "<ellipse fill=\"none\" stroke=\"black\" cx=\"314.526\" cy=\"-90\" rx=\"73.2773\" ry=\"18\"/>\n",
       "<text text-anchor=\"middle\" x=\"314.526\" y=\"-85.8\" font-family=\"Times,serif\" font-size=\"14.00\">Total Travel Time</text>\n",
       "</g>\n",
       "<!-- Utility (Drive Alone) -->\n",
       "<g id=\"node6\" class=\"node\"><title>Utility (Drive Alone)</title>\n",
       "<ellipse fill=\"none\" stroke=\"black\" cx=\"477.526\" cy=\"-18\" rx=\"84.5514\" ry=\"18\"/>\n",
       "<text text-anchor=\"middle\" x=\"477.526\" y=\"-13.8\" font-family=\"Times,serif\" font-size=\"14.00\">Utility (Drive Alone)</text>\n",
       "</g>\n",
       "<!-- Total Travel Time&#45;&gt;Utility (Drive Alone) -->\n",
       "<g id=\"edge4\" class=\"edge\"><title>Total Travel Time&#45;&gt;Utility (Drive Alone)</title>\n",
       "<path fill=\"none\" stroke=\"black\" d=\"M349.494,-73.9832C373.738,-63.5717 406.243,-49.6121 432.435,-38.3643\"/>\n",
       "<polygon fill=\"black\" stroke=\"black\" points=\"433.964,-41.5167 441.771,-34.3547 431.202,-35.0848 433.964,-41.5167\"/>\n",
       "</g>\n",
       "<!-- Number of Licensed Drivers -->\n",
       "<g id=\"node2\" class=\"node\"><title>Number of Licensed Drivers</title>\n",
       "<ellipse fill=\"none\" stroke=\"black\" cx=\"111.526\" cy=\"-90\" rx=\"111.552\" ry=\"18\"/>\n",
       "<text text-anchor=\"middle\" x=\"111.526\" y=\"-85.8\" font-family=\"Times,serif\" font-size=\"14.00\">Number of Licensed Drivers</text>\n",
       "</g>\n",
       "<!-- Number of Licensed Drivers&#45;&gt;Utility (Drive Alone) -->\n",
       "<g id=\"edge7\" class=\"edge\"><title>Number of Licensed Drivers&#45;&gt;Utility (Drive Alone)</title>\n",
       "<path fill=\"none\" stroke=\"black\" d=\"M180.368,-75.8335C245.035,-63.4655 341.369,-45.041 406.68,-32.5497\"/>\n",
       "<polygon fill=\"black\" stroke=\"black\" points=\"407.722,-35.914 416.886,-30.5977 406.407,-29.0386 407.722,-35.914\"/>\n",
       "</g>\n",
       "<!-- Total Travel Distance -->\n",
       "<g id=\"node3\" class=\"node\"><title>Total Travel Distance</title>\n",
       "<ellipse fill=\"none\" stroke=\"black\" cx=\"477.526\" cy=\"-162\" rx=\"86.2541\" ry=\"18\"/>\n",
       "<text text-anchor=\"middle\" x=\"477.526\" y=\"-157.8\" font-family=\"Times,serif\" font-size=\"14.00\">Total Travel Distance</text>\n",
       "</g>\n",
       "<!-- Total Travel Distance&#45;&gt;Total Travel Time -->\n",
       "<g id=\"edge1\" class=\"edge\"><title>Total Travel Distance&#45;&gt;Total Travel Time</title>\n",
       "<path fill=\"none\" stroke=\"black\" d=\"M441.351,-145.465C416.876,-134.954 384.404,-121.009 358.445,-109.861\"/>\n",
       "<polygon fill=\"black\" stroke=\"black\" points=\"359.773,-106.622 349.203,-105.892 357.011,-113.054 359.773,-106.622\"/>\n",
       "</g>\n",
       "<!-- Total Travel Cost -->\n",
       "<g id=\"node4\" class=\"node\"><title>Total Travel Cost</title>\n",
       "<ellipse fill=\"none\" stroke=\"black\" cx=\"477.526\" cy=\"-90\" rx=\"71.3132\" ry=\"18\"/>\n",
       "<text text-anchor=\"middle\" x=\"477.526\" y=\"-85.8\" font-family=\"Times,serif\" font-size=\"14.00\">Total Travel Cost</text>\n",
       "</g>\n",
       "<!-- Total Travel Distance&#45;&gt;Total Travel Cost -->\n",
       "<g id=\"edge2\" class=\"edge\"><title>Total Travel Distance&#45;&gt;Total Travel Cost</title>\n",
       "<path fill=\"none\" stroke=\"black\" d=\"M477.526,-143.697C477.526,-135.983 477.526,-126.712 477.526,-118.112\"/>\n",
       "<polygon fill=\"black\" stroke=\"black\" points=\"481.026,-118.104 477.526,-108.104 474.026,-118.104 481.026,-118.104\"/>\n",
       "</g>\n",
       "<!-- Total Travel Distance&#45;&gt;Utility (Drive Alone) -->\n",
       "<g id=\"edge3\" class=\"edge\"><title>Total Travel Distance&#45;&gt;Utility (Drive Alone)</title>\n",
       "<path fill=\"none\" stroke=\"black\" d=\"M515.768,-145.614C531.693,-137.073 548.54,-124.732 557.526,-108 565.096,-93.9041 565.096,-86.0959 557.526,-72 550.09,-58.1537 537.271,-47.3152 524.046,-39.1479\"/>\n",
       "<polygon fill=\"black\" stroke=\"black\" points=\"525.765,-36.0992 515.349,-34.1618 522.284,-42.172 525.765,-36.0992\"/>\n",
       "</g>\n",
       "<!-- Total Travel Cost&#45;&gt;Utility (Drive Alone) -->\n",
       "<g id=\"edge5\" class=\"edge\"><title>Total Travel Cost&#45;&gt;Utility (Drive Alone)</title>\n",
       "<path fill=\"none\" stroke=\"black\" d=\"M477.526,-71.6966C477.526,-63.9827 477.526,-54.7125 477.526,-46.1124\"/>\n",
       "<polygon fill=\"black\" stroke=\"black\" points=\"481.026,-46.1043 477.526,-36.1043 474.026,-46.1044 481.026,-46.1043\"/>\n",
       "</g>\n",
       "<!-- Number of Autos -->\n",
       "<g id=\"node5\" class=\"node\"><title>Number of Autos</title>\n",
       "<ellipse fill=\"none\" stroke=\"black\" cx=\"676.526\" cy=\"-90\" rx=\"71.5376\" ry=\"18\"/>\n",
       "<text text-anchor=\"middle\" x=\"676.526\" y=\"-85.8\" font-family=\"Times,serif\" font-size=\"14.00\">Number of Autos</text>\n",
       "</g>\n",
       "<!-- Number of Autos&#45;&gt;Utility (Drive Alone) -->\n",
       "<g id=\"edge6\" class=\"edge\"><title>Number of Autos&#45;&gt;Utility (Drive Alone)</title>\n",
       "<path fill=\"none\" stroke=\"black\" d=\"M636.734,-75.0027C605.764,-64.1087 562.547,-48.9067 528.953,-37.09\"/>\n",
       "<polygon fill=\"black\" stroke=\"black\" points=\"529.902,-33.7136 519.307,-33.697 527.579,-40.317 529.902,-33.7136\"/>\n",
       "</g>\n",
       "</g>\n",
       "</svg>\n"
      ],
      "text/plain": [
       "<graphviz.dot.Digraph at 0x10c4e0278>"
      ]
     },
     "execution_count": 4,
     "metadata": {},
     "output_type": "execute_result"
    }
   ],
   "source": [
    "# Draw the causal model being tested\n",
    "causal_graph = DRIVE_ALONE_UTILITY.draw()\n",
    "causal_graph.graph_attr.update(size=\"10,6\")\n",
    "causal_graph"
   ]
  },
  {
   "cell_type": "markdown",
   "metadata": {},
   "source": [
    "## Marginal independence tests\n",
    "\n",
    "### Main idea\n",
    "The marginal independence tests demonstrated in this notebook will visually test the following implication<br>\n",
    "$\n",
    "\\begin{aligned}\n",
    "P \\left( X_1 \\mid X_2 \\right) &= P \\left( X_1 \\right) \\\\\n",
    "\\int x_1 P \\left( X_1 \\mid X_2 \\right) \\partial{x_1}  &= \\int x_1 P \\left( X_1 \\right) \\partial{x_1} \\\\\n",
    "E \\left[ X_1 \\mid X_2 \\right] &= E \\left[ X_1 \\right]\n",
    "\\end{aligned}\n",
    "$\n",
    "\n",
    "In other words, if $X_1$ is marginally independent of $X_2$, then the expectation of $X_1$ conditional on $X_2$ is equal to the marginal expectation of $X_1$.\n",
    "Marginal independence implies mean independence.\n",
    "This means that shuffling / permuting the $X_2$ columns should make no difference to predicting $X_1$, once one predicts $\\bar{X_1}$.\n",
    "\n",
    "The test demonstrated below works by estimating a linear regression to predict $E \\left[ X_1 \\mid X_2 \\right]$.\n",
    "We compute the $r^2$ from these regressions using the observed value of $X_2$ and also using the permuted values of $X_2$, which are independent of $X_1$ by construction.\n",
    "\n",
    "If $X_1$ is marginally independent of $X_2$, then the $r^2$ using the observed values of $X_2$ should resemble the distribution of $r^2$ using the permuted values of $X_2$.\n",
    "\n",
    "For this test, we'll use the following marginal independence assumption implied by the causal graph above:<br>\n",
    "$\n",
    "P \\left( \\textrm{Number of Automobiles} \\mid \\textrm{Number of licensed drivers} \\right) = P \\left( \\textrm{Number of Automobiles} \\right)\n",
    "$"
   ]
  },
  {
   "cell_type": "code",
   "execution_count": 5,
   "metadata": {},
   "outputs": [
    {
     "name": "stderr",
     "output_type": "stream",
     "text": [
      "100%|██████████| 100/100 [00:00<00:00, 868.02it/s]"
     ]
    },
    {
     "name": "stdout",
     "output_type": "stream",
     "text": [
      "The p-value of the permutation independence test is 0.00.\n"
     ]
    },
    {
     "name": "stderr",
     "output_type": "stream",
     "text": [
      "\n"
     ]
    },
    {
     "data": {
      "image/png": "[encoded data removed]",
      "text/plain": [
       "<Figure size 720x432 with 1 Axes>"
      ]
     },
     "metadata": {},
     "output_type": "display_data"
    },
    {
     "data": {
      "text/plain": [
       "0.0"
      ]
     },
     "execution_count": 5,
     "metadata": {},
     "output_type": "execute_result"
    }
   ],
   "source": [
    "license_array = drive_alone_df[LICENSE_COLUMN].values\n",
    "num_cars_array = drive_alone_df[NUM_AUTOS_COLUMN].values\n",
    "\n",
    "oi.visual_permutation_test(\n",
    "    license_array,\n",
    "    num_cars_array,\n",
    "    z_array=None,\n",
    "    seed=1038,\n",
    "    num_permutations=NUM_PERMUTATIONS,\n",
    "    permutation_color=PERMUTED_COLOR)"
   ]
  },
  {
   "cell_type": "markdown",
   "metadata": {},
   "source": [
    "### Caveats and pitfalls\n",
    "Two important issues when testing the assumption of mean independence between $X_1$ and $X_2$ are underfitting and overfitting of the model for $E \\left[ X_1 \\mid X_2 \\right]$.\n",
    "\n",
    "If $E \\left[ X_1 \\mid X_2 \\right]$ is underfit, then one's observed test statitic ($r^2$) will be lower than it would be under a correctly specified model.\n",
    "This will increase the probability of Type-2 error, failing to reject the null-hypothesis when the null is false.\n",
    "Underfitting reduces the power of one's predictive test.\n",
    "To guard against underfitting, one should make extensive use of posterior predictive checks and model selection techniques to select the predictively most powerful models that do no show signs of overfitting.\n",
    "\n",
    "Conversely, if $E \\left[ X_1 \\mid X_2 \\right]$ is overfit, then one's observed test statistic ($r^2$) will be higher than it would be under a correctly specified model.\n",
    "This will increase the probability of one rejecting the null-hypothesis when the null is true.\n",
    "Overfitting increases the probability of Type-1 errors.\n",
    "To guard against overfitting, one should make thorough use of cross-validation and related resampling techniques to ensure that one's model performance does not degrade appreciably outside of the training set."
   ]
  },
  {
   "cell_type": "markdown",
   "metadata": {},
   "source": [
    "## Conditional independence tests\n",
    "\n",
    "### Main idea\n",
    "In particular, the notebook will show one way to visually and numerically test the following implication<br>\n",
    "$\n",
    "\\begin{aligned}\n",
    "P \\left( X_1 \\mid X_2, Z \\right) &= P \\left( X_1 \\mid Z \\right) \\\\\n",
    "\\int x_1 P \\left( X_1 \\mid X_2, Z \\right) \\partial{x_1}  &= \\int x_1 P \\left( X_1 \\mid Z \\right) \\partial{x_1} \\\\\n",
    "E \\left[ X_1 \\mid X_2, Z \\right] &= E \\left[ X_1 \\mid Z \\right]\n",
    "\\end{aligned}\n",
    "$\n",
    "\n",
    "In other words, if $X_1$ is conditionally independent of $X_2$ given $Z$, then the expectation of $X_1$ conditional on $X_2$ and $Z$ is equal to the expectation of $X_1$ conditional on $Z$ alone.\n",
    "This implies that shuffling / permuting $X_2$ should make no difference for predicting $X_1$ once we've included $Z$ while predicting.\n",
    "\n",
    "In other words, one's ability predict to predict $X_1$ should not depend on whether one uses the original $X_2$ or the permuted $X_2$, as long as one conditions on $Z$ when predicting $X_1$.\n",
    "In this notebook, we test this invariance using a simple predictive model, linear regression, but in general, one need not and should not restrict oneself to linear predictive models. Upon estimating each regression, we compare $r^2$ as a measure of predictive ability when using $Z$ and the original $X_2$ versus $r^2$ when using $Z$ and the permuted $X_2$.\n",
    "\n",
    "For this test, we'll use the following conditional independence assumption implied by the causal graph above:<br>\n",
    "$\n",
    "P \\left( \\textrm{Travel Time} \\mid \\textrm{Travel Cost}, \\textrm{Travel Distance} \\right) = P \\left( \\textrm{Travel Time} \\mid \\textrm{Travel Distance} \\right)\n",
    "$"
   ]
  },
  {
   "cell_type": "code",
   "execution_count": 6,
   "metadata": {},
   "outputs": [
    {
     "name": "stderr",
     "output_type": "stream",
     "text": [
      "100%|██████████| 100/100 [00:00<00:00, 795.18it/s]\n"
     ]
    },
    {
     "name": "stdout",
     "output_type": "stream",
     "text": [
      "The p-value of the permutation independence test is 0.00.\n"
     ]
    },
    {
     "data": {
      "image/png": "[encoded data removed]",
      "text/plain": [
       "<Figure size 720x432 with 1 Axes>"
      ]
     },
     "metadata": {},
     "output_type": "display_data"
    },
    {
     "data": {
      "text/plain": [
       "0.0"
      ]
     },
     "execution_count": 6,
     "metadata": {},
     "output_type": "execute_result"
    }
   ],
   "source": [
    "time_array = drive_alone_df[TIME_COLUMN].values\n",
    "cost_array = drive_alone_df[COST_COLUMN].values\n",
    "distance_array = drive_alone_df[DISTANCE_COLUMN].values\n",
    "\n",
    "oi.visual_permutation_test(\n",
    "    time_array,\n",
    "    cost_array,\n",
    "    z_array=distance_array,\n",
    "    num_permutations=NUM_PERMUTATIONS,\n",
    "    permutation_color=PERMUTED_COLOR)"
   ]
  },
  {
   "cell_type": "markdown",
   "metadata": {},
   "source": [
    "### Caveats and pitfalls\n",
    "When testing conditional mean independence (i.e., $E \\left[ X_1 \\mid X_2, Z \\right] = E \\left[ X_1 \\mid Z \\right]$), there are four potential issues of interest.\n",
    "\n",
    "The first issue is misspecification of $E \\left[ X_1 \\mid Z \\right]$.\n",
    "If the conditional mean of $X_1$ depends on un-modeled functions of $Z$ and $Z \\rightarrow X_2$, then the inclusion of $X_2$ in one's model may serve as a proxy for the un-modeled function of $Z$.\n",
    "Such proxy behavior would lead one to observe \"inflated\" values of $r^2$ when modeling $E \\left[ X_1 \\mid X_2, Z \\right]$, thus increasing the probability that one will falsely reject the null-hypothesis of conditional independence.\n",
    "\n",
    "In other words, to guard against higher-than-nominal probabilities of type-1 error, one needs to guard against underfitting of the model for $E \\left[ X_1 \\mid Z \\right]$ **before** computing one's test-statistic and (permutation-based) reference-distribution.\n",
    "\n",
    "The second issue is misspecification of $E \\left[ X_1 \\mid X_2, Z \\right]$.\n",
    "If one's model for $E \\left[ X_1 \\mid X_2, Z \\right]$ is underfit with respect to $X_2$, then one's test-statistic ($r^2$) will be lower than it should be under accurate specification.\n",
    "This leads to lower probability of correctly rejecting the null-hypothesis.\n",
    "\n",
    "The two overfitting issues below are the converse of the underfitting problems discussed in the last two paragraphs.\n",
    "If one's model for $E \\left[ X_1 \\mid Z \\right]$ is overfit, then the reference-distribution of the test statistic will be artificially high.\n",
    "This will lead to higher probability of Type-2 error: i.e., lower probability of rejecting the null hypothesis of conditional independence when it is indeed false.\n",
    "Likewise, if one's model for $E \\left[ X_1 \\mid X_2, Z \\right]$ is overfit to $X_2$, then one's test-statistic will be artificially high, thus increasing the probability of Type-1 error--incorrectly rejecting the null-hypothesis when it is true.\n",
    "\n",
    "Visually, the way to think about these four issues is that, relative to using well-specified models for $E \\left[ X_1 \\mid Z \\right]$ and $E \\left[ X_1 \\mid X_2, Z \\right]$:\n",
    "- underfitting of $E \\left[ X_1 \\mid Z \\right]$ shifts one's reference distribution to the left, while leaving one's observed test statistic unchanged;\n",
    "- underfitting of $E \\left[ X_1 \\mid X_2, Z \\right]$ shifts one's observed test statistic to the left, while leaving one's reference distribution unchanged;\n",
    "- overfitting of $E \\left[ X_1 \\mid Z \\right]$ shifts one's reference distribution to the right, while leaving one's observed test statistic unchanged;\n",
    "- overfitting of $E \\left[ X_1 \\mid X_2, Z \\right]$ shifts one's observed test statistic to the right, while leaving one's reference distribution unchanged.\n",
    "\n",
    "To avoid all such problems or the combination of these problems, be sure to check one's models of $E \\left[ X_1 \\mid Z \\right]$ and $E \\left[ X_1 \\mid X_2, Z \\right]$ for both under- and over-fitting.\n",
    "As mentioned above, posterior predictive checks are most helpful for identifying underfitting in one's models.\n",
    "Cross-validation and resampling techniques are great for identifying overfitting."
   ]
  },
  {
   "cell_type": "markdown",
   "metadata": {},
   "source": [
    "## Latent conditional independence tests\n"
   ]
  },
  {
   "cell_type": "markdown",
   "metadata": {},
   "source": [
    "### Show the posited causal graph\n",
    "The key differences between the graph underlying the latent, conditional independence tests and the graph underlying the tests above are that, now, we posit:\n",
    "1. the existence of a latent confounder\n",
    "2. the conditional independence of the observed variables, given the latent confounder."
   ]
  },
  {
   "cell_type": "code",
   "execution_count": 7,
   "metadata": {},
   "outputs": [
    {
     "data": {
      "image/svg+xml": [
       "<?xml version=\"1.0\" encoding=\"UTF-8\" standalone=\"no\"?>\n",
       "<!DOCTYPE svg PUBLIC \"-//W3C//DTD SVG 1.1//EN\"\n",
       " \"http://www.w3.org/Graphics/SVG/1.1/DTD/svg11.dtd\">\n",
       "<!-- Generated by graphviz version 2.38.0 (20140413.2041)\n",
       " -->\n",
       "<!-- Title: %3 Pages: 1 -->\n",
       "<svg width=\"720pt\" height=\"146pt\"\n",
       " viewBox=\"0.00 0.00 720.00 146.15\" xmlns=\"http://www.w3.org/2000/svg\" xmlns:xlink=\"http://www.w3.org/1999/xlink\">\n",
       "<g id=\"graph0\" class=\"graph\" transform=\"scale(0.777393 0.777393) rotate(0) translate(4 184)\">\n",
       "<title>%3</title>\n",
       "<polygon fill=\"white\" stroke=\"none\" points=\"-4,4 -4,-184 922.172,-184 922.172,4 -4,4\"/>\n",
       "<!-- Total Travel Time -->\n",
       "<g id=\"node1\" class=\"node\"><title>Total Travel Time</title>\n",
       "<ellipse fill=\"none\" stroke=\"black\" cx=\"73.3886\" cy=\"-90\" rx=\"73.2773\" ry=\"18\"/>\n",
       "<text text-anchor=\"middle\" x=\"73.3886\" y=\"-85.8\" font-family=\"Times,serif\" font-size=\"14.00\">Total Travel Time</text>\n",
       "</g>\n",
       "<!-- Utility (Drive Alone) -->\n",
       "<g id=\"node6\" class=\"node\"><title>Utility (Drive Alone)</title>\n",
       "<ellipse fill=\"none\" stroke=\"black\" cx=\"580.389\" cy=\"-18\" rx=\"84.5514\" ry=\"18\"/>\n",
       "<text text-anchor=\"middle\" x=\"580.389\" y=\"-13.8\" font-family=\"Times,serif\" font-size=\"14.00\">Utility (Drive Alone)</text>\n",
       "</g>\n",
       "<!-- Total Travel Time&#45;&gt;Utility (Drive Alone) -->\n",
       "<g id=\"edge8\" class=\"edge\"><title>Total Travel Time&#45;&gt;Utility (Drive Alone)</title>\n",
       "<path fill=\"none\" stroke=\"black\" d=\"M126.204,-77.3999C135.886,-75.4588 145.922,-73.5689 155.389,-72 272.697,-52.5577 409.291,-36.7239 495.299,-27.5771\"/>\n",
       "<polygon fill=\"black\" stroke=\"black\" points=\"495.697,-31.0547 505.273,-26.5223 494.96,-24.0935 495.697,-31.0547\"/>\n",
       "</g>\n",
       "<!-- Number of Licensed Drivers -->\n",
       "<g id=\"node2\" class=\"node\"><title>Number of Licensed Drivers</title>\n",
       "<ellipse fill=\"none\" stroke=\"black\" cx=\"276.389\" cy=\"-90\" rx=\"111.552\" ry=\"18\"/>\n",
       "<text text-anchor=\"middle\" x=\"276.389\" y=\"-85.8\" font-family=\"Times,serif\" font-size=\"14.00\">Number of Licensed Drivers</text>\n",
       "</g>\n",
       "<!-- Number of Licensed Drivers&#45;&gt;Utility (Drive Alone) -->\n",
       "<g id=\"edge11\" class=\"edge\"><title>Number of Licensed Drivers&#45;&gt;Utility (Drive Alone)</title>\n",
       "<path fill=\"none\" stroke=\"black\" d=\"M337.542,-74.9187C389.095,-63.0477 462.672,-46.1058 515.306,-33.9861\"/>\n",
       "<polygon fill=\"black\" stroke=\"black\" points=\"516.251,-37.3603 525.21,-31.7056 514.68,-30.5388 516.251,-37.3603\"/>\n",
       "</g>\n",
       "<!-- Total Travel Distance -->\n",
       "<g id=\"node3\" class=\"node\"><title>Total Travel Distance</title>\n",
       "<ellipse fill=\"none\" stroke=\"black\" cx=\"492.389\" cy=\"-90\" rx=\"86.2541\" ry=\"18\"/>\n",
       "<text text-anchor=\"middle\" x=\"492.389\" y=\"-85.8\" font-family=\"Times,serif\" font-size=\"14.00\">Total Travel Distance</text>\n",
       "</g>\n",
       "<!-- Total Travel Distance&#45;&gt;Utility (Drive Alone) -->\n",
       "<g id=\"edge7\" class=\"edge\"><title>Total Travel Distance&#45;&gt;Utility (Drive Alone)</title>\n",
       "<path fill=\"none\" stroke=\"black\" d=\"M513.243,-72.411C524.751,-63.2575 539.21,-51.7553 551.762,-41.7715\"/>\n",
       "<polygon fill=\"black\" stroke=\"black\" points=\"554.036,-44.4343 559.683,-35.4699 549.679,-38.9561 554.036,-44.4343\"/>\n",
       "</g>\n",
       "<!-- Total Travel Cost -->\n",
       "<g id=\"node4\" class=\"node\"><title>Total Travel Cost</title>\n",
       "<ellipse fill=\"none\" stroke=\"black\" cx=\"668.389\" cy=\"-90\" rx=\"71.3132\" ry=\"18\"/>\n",
       "<text text-anchor=\"middle\" x=\"668.389\" y=\"-85.8\" font-family=\"Times,serif\" font-size=\"14.00\">Total Travel Cost</text>\n",
       "</g>\n",
       "<!-- Total Travel Cost&#45;&gt;Utility (Drive Alone) -->\n",
       "<g id=\"edge9\" class=\"edge\"><title>Total Travel Cost&#45;&gt;Utility (Drive Alone)</title>\n",
       "<path fill=\"none\" stroke=\"black\" d=\"M647.534,-72.411C636.027,-63.2575 621.567,-51.7553 609.016,-41.7715\"/>\n",
       "<polygon fill=\"black\" stroke=\"black\" points=\"611.099,-38.9561 601.094,-35.4699 606.741,-44.4343 611.099,-38.9561\"/>\n",
       "</g>\n",
       "<!-- Number of Autos -->\n",
       "<g id=\"node5\" class=\"node\"><title>Number of Autos</title>\n",
       "<ellipse fill=\"none\" stroke=\"black\" cx=\"829.389\" cy=\"-90\" rx=\"71.5376\" ry=\"18\"/>\n",
       "<text text-anchor=\"middle\" x=\"829.389\" y=\"-85.8\" font-family=\"Times,serif\" font-size=\"14.00\">Number of Autos</text>\n",
       "</g>\n",
       "<!-- Number of Autos&#45;&gt;Utility (Drive Alone) -->\n",
       "<g id=\"edge10\" class=\"edge\"><title>Number of Autos&#45;&gt;Utility (Drive Alone)</title>\n",
       "<path fill=\"none\" stroke=\"black\" d=\"M783.428,-76.0793C742.799,-64.6574 683.308,-47.9331 639.215,-35.5375\"/>\n",
       "<polygon fill=\"black\" stroke=\"black\" points=\"640.064,-32.1405 629.489,-32.8035 638.169,-38.8793 640.064,-32.1405\"/>\n",
       "</g>\n",
       "<!-- confounder -->\n",
       "<g id=\"node7\" class=\"node\"><title>confounder</title>\n",
       "<ellipse fill=\"none\" stroke=\"black\" cx=\"580.389\" cy=\"-162\" rx=\"50.2551\" ry=\"18\"/>\n",
       "<text text-anchor=\"middle\" x=\"580.389\" y=\"-157.8\" font-family=\"Times,serif\" font-size=\"14.00\">confounder</text>\n",
       "</g>\n",
       "<!-- confounder&#45;&gt;Total Travel Time -->\n",
       "<g id=\"edge2\" class=\"edge\"><title>confounder&#45;&gt;Total Travel Time</title>\n",
       "<path fill=\"none\" stroke=\"black\" d=\"M532.405,-156.286C453.486,-148.25 291.463,-130.552 155.389,-108 149.176,-106.97 142.719,-105.803 136.277,-104.573\"/>\n",
       "<polygon fill=\"black\" stroke=\"black\" points=\"136.691,-101.087 126.204,-102.6 135.345,-107.957 136.691,-101.087\"/>\n",
       "</g>\n",
       "<!-- confounder&#45;&gt;Number of Licensed Drivers -->\n",
       "<g id=\"edge5\" class=\"edge\"><title>confounder&#45;&gt;Number of Licensed Drivers</title>\n",
       "<path fill=\"none\" stroke=\"black\" d=\"M539.073,-151.487C489.965,-140.179 407.19,-121.119 347.672,-107.414\"/>\n",
       "<polygon fill=\"black\" stroke=\"black\" points=\"348.118,-103.925 337.587,-105.092 346.547,-110.747 348.118,-103.925\"/>\n",
       "</g>\n",
       "<!-- confounder&#45;&gt;Total Travel Distance -->\n",
       "<g id=\"edge1\" class=\"edge\"><title>confounder&#45;&gt;Total Travel Distance</title>\n",
       "<path fill=\"none\" stroke=\"black\" d=\"M560.42,-145.116C548.856,-135.917 534.097,-124.177 521.283,-113.984\"/>\n",
       "<polygon fill=\"black\" stroke=\"black\" points=\"523.201,-111.038 513.196,-107.552 518.843,-116.516 523.201,-111.038\"/>\n",
       "</g>\n",
       "<!-- confounder&#45;&gt;Total Travel Cost -->\n",
       "<g id=\"edge3\" class=\"edge\"><title>confounder&#45;&gt;Total Travel Cost</title>\n",
       "<path fill=\"none\" stroke=\"black\" d=\"M600.357,-145.116C612.005,-135.851 626.893,-124.008 639.771,-113.764\"/>\n",
       "<polygon fill=\"black\" stroke=\"black\" points=\"642.241,-116.271 647.888,-107.307 637.883,-110.793 642.241,-116.271\"/>\n",
       "</g>\n",
       "<!-- confounder&#45;&gt;Number of Autos -->\n",
       "<g id=\"edge4\" class=\"edge\"><title>confounder&#45;&gt;Number of Autos</title>\n",
       "<path fill=\"none\" stroke=\"black\" d=\"M618.749,-150.216C660.141,-138.58 726.449,-119.939 773.605,-106.682\"/>\n",
       "<polygon fill=\"black\" stroke=\"black\" points=\"774.681,-110.015 783.361,-103.939 772.787,-103.276 774.681,-110.015\"/>\n",
       "</g>\n",
       "<!-- confounder&#45;&gt;Utility (Drive Alone) -->\n",
       "<g id=\"edge6\" class=\"edge\"><title>confounder&#45;&gt;Utility (Drive Alone)</title>\n",
       "<path fill=\"none\" stroke=\"black\" d=\"M630.714,-160.548C714.051,-158.613 875.057,-149.459 910.389,-108 920.767,-95.8223 920.767,-84.1777 910.389,-72 880.566,-37.0055 761.205,-25.0268 674.591,-20.9788\"/>\n",
       "<polygon fill=\"black\" stroke=\"black\" points=\"674.608,-17.4763 664.464,-20.5344 674.301,-24.4696 674.608,-17.4763\"/>\n",
       "</g>\n",
       "</g>\n",
       "</svg>\n"
      ],
      "text/plain": [
       "<graphviz.dot.Digraph at 0x10c4e0320>"
      ]
     },
     "execution_count": 7,
     "metadata": {},
     "output_type": "execute_result"
    }
   ],
   "source": [
    "# Draw the causal model being tested\n",
    "latent_causal_graph = LATENT_DRIVE_ALONE_UTILITY.draw()\n",
    "latent_causal_graph.graph_attr.update(size=\"10,6\")\n",
    "latent_causal_graph"
   ]
  },
  {
   "cell_type": "markdown",
   "metadata": {},
   "source": [
    "### Main idea\n",
    "The latent, conditional independence test is a prior / posterior predictive test that involves a latent variable.\n",
    "\n",
    "Section 2.2 of\n",
    "> Gelman, Andrew, Xiao-Li Meng, and Hal Stern. \"Posterior predictive assessment of model fitness via realized discrepancies.\" Statistica sinica (1996): 733-760.\n",
    "\n",
    "describes these tests.\n",
    "\n",
    "The basic idea is to select a test-statistic or discrepancy measure $D \\left( \\textrm{Data} ; \\theta \\right)$ that is a function of both the observed or simulated data and of the latent variables $\\theta$.\n",
    "In the test demonstrated below, $D \\left( \\textrm{Data} ; \\theta \\right)$ is the p-value resulting from the visual conditional independence function above.\n",
    "This discrepancy value is an estimate of the probability that the chosen $X_1$ and $X_2$ variables are not conditionally independent given a particular vector $\\theta$ of latent confounders.\n",
    "\n",
    "The tail-area probability (i.e. the analog of the classical p-value) that corresponds to this discrepancy value is:<br>\n",
    "$\n",
    "P \\left[ D \\left( \\textrm{Data}^{\\textrm{rep}} ; \\theta \\right) \\geq D \\left( \\textrm{Data}^{\\textrm{obs}} ; \\theta \\right) \\mid \\textrm{Model}, \\textrm{Data}^{\\textrm{obs}} \\right] =\\\\\n",
    "\\int \\left[ D \\left( \\textrm{Data}^{\\textrm{rep}} ; \\theta \\right) \\geq D \\left( \\textrm{Data}^{\\textrm{obs}} ; \\theta \\right) \\mid \\textrm{Model}, \\textrm{Data}^{\\textrm{obs}} \\right] \\partial P \\left( \\textrm{Data}^{\\textrm{rep}}, \\theta \\mid \\textrm{Model}, \\textrm{Data}^{\\textrm{obs}} \\right)\n",
    "$\n",
    "\n",
    "In words, the demonstrated test iteratively samples the latent confounder and then simulates a dataset of replicated variables.\n",
    "For each sample of the confounder and replicated dataset, we calculate the p-value of the visual, conditional independence test for both:\n",
    "- the observed covariates and currently sampled confounder vector,\n",
    "- the replicated dataset and currently sampled confounder vector.\n",
    "\n",
    "The overall p-value of the latent conditional independence test is then calculated by averaging the number of times that the p-value with the replicated dataset is more extreme (i.e., greater than) than the p-value with the observed dataset.\n",
    "\n",
    "#### Prior distribution based test"
   ]
  },
  {
   "cell_type": "code",
   "execution_count": 8,
   "metadata": {},
   "outputs": [
    {
     "name": "stdout",
     "output_type": "stream",
     "text": [
      "                            mean        std\n",
      "total_travel_time      29.667137  24.586569\n",
      "total_travel_cost       3.289287   4.214448\n",
      "total_travel_distance  15.579498  18.465879\n",
      "num_licensed_drivers    2.178759   0.751621\n",
      "num_cars                2.050999   0.880458\n"
     ]
    }
   ],
   "source": [
    "# Get the means and standard deviations of those variables\n",
    "drive_alone_means = drive_alone_df.mean()\n",
    "drive_alone_means.name = 'mean'\n",
    "\n",
    "drive_alone_stds = drive_alone_df.std()\n",
    "drive_alone_stds.name = 'std'\n",
    "\n",
    "# Look at the computed means and standard deviations\n",
    "print(pd.DataFrame([drive_alone_means, drive_alone_stds]).T)"
   ]
  },
  {
   "cell_type": "code",
   "execution_count": 9,
   "metadata": {},
   "outputs": [
    {
     "name": "stdout",
     "output_type": "stream",
     "text": [
      "(3804, 5, 100)\n"
     ]
    }
   ],
   "source": [
    "# Note the number of dimensions\n",
    "num_dimensions = len(UTILITY_COLUMNS)\n",
    "\n",
    "# Specify the prior distributions for the factor\n",
    "# model of the standardized drive alone dataframe\n",
    "w_dist_prior = scipy.stats.norm(loc=0, scale=1)\n",
    "z_dist_prior = scipy.stats.norm(loc=0, scale=1)\n",
    "\n",
    "sigma_prior = 0.1\n",
    "epsilon_dist_prior =\\\n",
    "    scipy.stats.norm(loc=0, scale=sigma_prior)\n",
    "\n",
    "# Get samples of x from the prior distribution factor model\n",
    "x_samples_prior, z_samples_prior =\\\n",
    "    sample_from_factor_model(\n",
    "        loadings_dist=z_dist_prior,\n",
    "        coef_dist=w_dist_prior,\n",
    "        noise_dist=epsilon_dist_prior,\n",
    "        standard_deviations=drive_alone_stds.values,\n",
    "        means=drive_alone_means.values,\n",
    "        num_obs=num_drive_alone_obs,\n",
    "        num_samples=NUM_PERMUTATIONS,\n",
    "        num_factors=1,\n",
    "        seed=721\n",
    "        )\n",
    "\n",
    "# Look at the dimensions of the prior predictive samples\n",
    "print(x_samples_prior.shape)"
   ]
  },
  {
   "cell_type": "code",
   "execution_count": 10,
   "metadata": {},
   "outputs": [
    {
     "data": {
      "application/vnd.jupyter.widget-view+json": {
       "model_id": "b7b6e9a30ed6441d9d89b29c7e6155b1",
       "version_major": 2,
       "version_minor": 0
      },
      "text/plain": [
       "HBox(children=(FloatProgress(value=0.0), HTML(value='')))"
      ]
     },
     "metadata": {},
     "output_type": "display_data"
    },
    {
     "name": "stdout",
     "output_type": "stream",
     "text": [
      "\n",
      "The p-value of the predictive, permutation C.I.T. is 0.99.\n"
     ]
    },
    {
     "data": {
      "image/png": "[encoded data removed]",
      "text/plain": [
       "<Figure size 720x432 with 1 Axes>"
      ]
     },
     "metadata": {},
     "output_type": "display_data"
    }
   ],
   "source": [
    "# Collect the columns being used in the test and info about them.\n",
    "columns_for_test = [NUM_AUTOS_COLUMN, LICENSE_COLUMN]\n",
    "col_idxs_for_test =\\\n",
    "    [UTILITY_COLUMNS.index(col) for col in columns_for_test]\n",
    "\n",
    "# Get the observed values to be used for testing\n",
    "obs_sample = drive_alone_df.loc[:, columns_for_test].values\n",
    "\n",
    "# Get the prior predictive values for testing\n",
    "prior_samples_triplet =\\\n",
    "    np.concatenate((x_samples_prior[:, col_idxs_for_test, :],\n",
    "                    z_samples_prior),\n",
    "                   axis=1)\n",
    "\n",
    "# Use the predictive, conditional independence test\n",
    "pval, sampled_pvals, obs_pvals =\\\n",
    "    li.perform_visual_predictive_cit_test(\n",
    "        prior_samples_triplet,\n",
    "        obs_sample)"
   ]
  },
  {
   "cell_type": "markdown",
   "metadata": {},
   "source": [
    "#### Posterior distribution based test"
   ]
  },
  {
   "cell_type": "code",
   "execution_count": 11,
   "metadata": {},
   "outputs": [
    {
     "name": "stdout",
     "output_type": "stream",
     "text": [
      "(3804, 5, 100)\n"
     ]
    }
   ],
   "source": [
    "# Load the parameters of the variational approximation to\n",
    "# the posterior distribution over W and Z\n",
    "w_post_params = pd.read_csv(PATH_TO_W_PARAMS, index_col=0)\n",
    "z_post_params = pd.read_csv(PATH_TO_Z_PARAMS, index_col=0)\n",
    "\n",
    "# Create the posterior distribution of coefficients\n",
    "# Note we need the arguments to have shape that can,\n",
    "# be broadcast to (num_factors, num_predictors, num_samples)\n",
    "w_dist_post =\\\n",
    "    scipy.stats.norm(\n",
    "        loc=w_post_params['w_mean_inferred'].values[None, : , None],\n",
    "        scale=w_post_params['w_std_inferred'].values[None :, None])\n",
    "\n",
    "# Create the posterior distribution of loadings\n",
    "# Note we need the arguments to have shape that can,\n",
    "# be broadcast to (num_obs, num_factors, num_samples)\n",
    "z_dist_post =\\\n",
    "    scipy.stats.norm(\n",
    "        loc=z_post_params['z_mean_inferred'].values[:, None, None],\n",
    "        scale=z_post_params['z_std_inferred'].values[:, None, None])\n",
    "\n",
    "# Get posterior samples of X_standardized\n",
    "x_samples_post, z_samples_post =\\\n",
    "    sample_from_factor_model(\n",
    "        loadings_dist=z_dist_post,\n",
    "        coef_dist=w_dist_post,\n",
    "        noise_dist=epsilon_dist_prior,\n",
    "        standard_deviations=drive_alone_stds.values,\n",
    "        means=drive_alone_means.values,\n",
    "        num_obs=num_drive_alone_obs,\n",
    "        num_samples=NUM_PERMUTATIONS,\n",
    "        num_factors=1,\n",
    "        post=False,\n",
    "        seed=852\n",
    "        )\n",
    "\n",
    "# Look at the dimensions of the prior predictive samples\n",
    "print(x_samples_post.shape)"
   ]
  },
  {
   "cell_type": "code",
   "execution_count": 12,
   "metadata": {},
   "outputs": [
    {
     "data": {
      "application/vnd.jupyter.widget-view+json": {
       "model_id": "17c36c81fd544f78ba598ae995d6c191",
       "version_major": 2,
       "version_minor": 0
      },
      "text/plain": [
       "HBox(children=(FloatProgress(value=0.0), HTML(value='')))"
      ]
     },
     "metadata": {},
     "output_type": "display_data"
    },
    {
     "name": "stdout",
     "output_type": "stream",
     "text": [
      "\n",
      "The p-value of the predictive, permutation C.I.T. is 0.98.\n"
     ]
    },
    {
     "data": {
      "image/png": "[encoded data removed]",
      "text/plain": [
       "<Figure size 720x432 with 1 Axes>"
      ]
     },
     "metadata": {},
     "output_type": "display_data"
    }
   ],
   "source": [
    "# Get the posterior predictive values for the test\n",
    "posterior_samples_triplet =\\\n",
    "    np.concatenate((x_samples_post[:, col_idxs_for_test, :],\n",
    "                    z_samples_post),\n",
    "                   axis=1)\n",
    "\n",
    "# Test out the predictive conditional independence test\n",
    "post_pval, post_sampled_pvals, post_obs_pvals =\\\n",
    "    li.perform_visual_predictive_cit_test(\n",
    "        posterior_samples_triplet,\n",
    "        obs_sample)"
   ]
  },
  {
   "cell_type": "markdown",
   "metadata": {},
   "source": [
    "### Caveats and pitfalls"
   ]
  },
  {
   "cell_type": "code",
   "execution_count": 13,
   "metadata": {},
   "outputs": [
    {
     "name": "stdout",
     "output_type": "stream",
     "text": [
      "Prior\n"
     ]
    },
    {
     "data": {
      "image/png": "[encoded data removed]",
      "text/plain": [
       "<Figure size 720x432 with 1 Axes>"
      ]
     },
     "metadata": {},
     "output_type": "display_data"
    },
    {
     "name": "stdout",
     "output_type": "stream",
     "text": [
      "Posterior\n"
     ]
    },
    {
     "data": {
      "image/png": "[encoded data removed]",
      "text/plain": [
       "<Figure size 720x432 with 1 Axes>"
      ]
     },
     "metadata": {},
     "output_type": "display_data"
    }
   ],
   "source": [
    "# Choose a column of data to compare, e.g., the\n",
    "# travel time column.\n",
    "current_col = TIME_COLUMN\n",
    "current_col_idx = UTILITY_COLUMNS.index(TIME_COLUMN)\n",
    "\n",
    "print('Prior')\n",
    "prior_sim_cdf =\\\n",
    "    li.plot_simulated_vs_observed_cdf(\n",
    "        drive_alone_df.iloc[:, current_col_idx].values,\n",
    "        x_samples_prior[:, current_col_idx, :],\n",
    "        x_label=current_col\n",
    "        )\n",
    "\n",
    "print('Posterior')\n",
    "posterior_sim_cdf =\\\n",
    "    li.plot_simulated_vs_observed_cdf(\n",
    "        drive_alone_df.iloc[:, current_col_idx].values,\n",
    "        x_samples_post[:, current_col_idx, :],\n",
    "        x_label=current_col\n",
    "        )"
   ]
  },
  {
   "cell_type": "markdown",
   "metadata": {},
   "source": [
    "Overall, the caveats and pitfalls only increase as one moves from marginal to conditional to latent, conditional independence tests.\n",
    "\n",
    "When testing for latent, conditional independence, one has to be wary of the same caveats as with conditional independence: under-/overfitting of the models for $E \\left[ X_1 \\mid Z \\right]$ and $E \\left[ X_1 \\mid X_2, Z \\right]$.\n",
    "\n",
    "Additionally, however, one must also be wary of any combination of:\n",
    "- models for the latent confounder\n",
    "- models for how the latent confounder causes the observed variables\n",
    "- prior distributions for the parameters of these models\n",
    "- posterior distributions for the parameters of these models\n",
    "that generates unrealistic data in a prior or posterior check.\n",
    "We hypothesize that if the your model and prior / posterior distribution generates data that is generally dissimilar to the observed data, then these generated datasets are unlikely to have similar conditional, mean independence measures."
   ]
  },
  {
   "cell_type": "markdown",
   "metadata": {},
   "source": [
    "## Summary\n",
    "The tests performed above collectively point to a few conclusions.\n",
    "\n",
    "1. The originally posited causal graph is strongly refuted by the available data.\n",
    "This is shown by the marginal and conditional independence tests.\n",
    "2. The second posited causal graph (featuring an unobserved confounder) is also refuted by the data, based on the given prior or posterior distributions for the unobserved confounder.\n",
    "This is shown by the latent, conditional independence tests.\n",
    "3. Checking the predictive models used in one's tests for underfitting and overfitting is noted to be important for obtaining tests with high power and low probability of Type-1 error.\n",
    "4. The latent, conditional independence tests exemplifies the utility of general, prior and posterior predictive checks of one's generative model.\n",
    "The resulting hypothesis is that if one's model and prior/posterior distributions indicate general data conflict, then one's latent, conditional independence tests are likely to fail with the same prior/posterior distributions."
   ]
  }
 ],
 "metadata": {
  "jupytext": {
   "formats": "ipynb,py:light,md"
  },
  "kernelspec": {
   "display_name": "Python 3",
   "language": "python",
   "name": "python3"
  },
  "language_info": {
   "codemirror_mode": {
    "name": "ipython",
    "version": 3
   },
   "file_extension": ".py",
   "mimetype": "text/x-python",
   "name": "python",
   "nbconvert_exporter": "python",
   "pygments_lexer": "ipython3",
   "version": "3.6.10"
  }
 },
 "nbformat": 4,
 "nbformat_minor": 4
}
