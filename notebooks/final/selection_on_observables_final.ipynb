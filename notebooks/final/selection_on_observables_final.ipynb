{
 "cells": [
  {
   "cell_type": "markdown",
   "metadata": {},
   "source": [
    "# Selection on Observables "
   ]
  },
  {
   "cell_type": "markdown",
   "metadata": {},
   "source": [
    "## Purpose "
   ]
  },
  {
   "cell_type": "markdown",
   "metadata": {},
   "source": [
    "# Set Notebook Parameters"
   ]
  },
  {
   "cell_type": "code",
   "execution_count": null,
   "metadata": {},
   "outputs": [],
   "source": [
    "# Path to Data\n",
    "DATA_PATH = '../../data/raw/spring_2016_all_bay_area_long_format_plus_cross_bay_col.csv'"
   ]
  },
  {
   "cell_type": "code",
   "execution_count": null,
   "metadata": {},
   "outputs": [],
   "source": [
    "# Definition of causal graphs nodes and edges\n",
    "\n",
    "# Independent\n",
    "NODES_IND = [\"Total Travel Distance\",\n",
    "             \"Total Travel Time\",\n",
    "             \"Total Travel Cost\",\n",
    "             \"Number of Licensed Drivers\",\n",
    "             \"Number of Autos\",\n",
    "             \"Utility (Drive Alone)\"]\n",
    "\n",
    "EDGES_IND = [(\"Total Travel Distance\", \"Utility (Drive Alone)\"),\n",
    "             (\"Total Travel Time\", \"Utility (Drive Alone)\"),\n",
    "             (\"Total Travel Cost\", \"Utility (Drive Alone)\"),\n",
    "             (\"Number of Licensed Drivers\", \"Utility (Drive Alone)\"),\n",
    "             (\"Number of Autos\", \"Utility (Drive Alone)\")]\n",
    "# Drive Alone\n",
    "NODES_DA = [\"Total Travel Distance\",\n",
    "            \"Total Travel Time\",\n",
    "            \"Total Travel Cost\",\n",
    "            \"Number of Autos\",\n",
    "            \"Number of Licensed Drivers\",\n",
    "            \"Utility (Drive Alone)\"]\n",
    "\n",
    "EDGES_DA = [(\"Total Travel Distance\", \"Total Travel Time\"),\n",
    "            (\"Total Travel Distance\", \"Total Travel Cost\"),\n",
    "            (\"Total Travel Distance\", \"Utility (Drive Alone)\"),\n",
    "            (\"Total Travel Time\", \"Utility (Drive Alone)\"),\n",
    "            (\"Total Travel Cost\", \"Utility (Drive Alone)\"),\n",
    "            (\"Number of Autos\", \"Utility (Drive Alone)\"),\n",
    "            (\"Number of Licensed Drivers\", \"Utility (Drive Alone)\")]\n",
    "\n",
    "# Shared-2\n",
    "NODES_SHARED_2 = [\"Total Travel Time\",\n",
    "                  \"Total Travel Distance\",\n",
    "                  \"Total Travel Cost\",\n",
    "                  \"Cross Bay Trip\",\n",
    "                  \"Number of Autos\",\n",
    "                  \"Number of Licensed Drivers\",\n",
    "                  \"Household Size\",\n",
    "                  \"Number of Kids\",\n",
    "                  \"Utility (Shared Ride 2)\"]\n",
    "\n",
    "EDGES_SHARED_2 = [(\"Total Travel Distance\", \"Total Travel Time\"),\n",
    "                  (\"Total Travel Distance\", \"Total Travel Cost\"),\n",
    "                  (\"Total Travel Distance\", \"Utility (Shared Ride 2)\"),\n",
    "                  (\"Total Travel Time\", \"Utility (Shared Ride 2)\"),\n",
    "                  (\"Number of Autos\", \"Utility (Shared Ride 2)\"),\n",
    "                  (\"Number of Licensed Drivers\", \"Utility (Shared Ride 2)\"),\n",
    "                  (\"Total Travel Cost\", \"Utility (Shared Ride 2)\"),\n",
    "                  (\"Household Size\", \"Utility (Shared Ride 2)\"),\n",
    "                  (\"Cross Bay Trip\", \"Utility (Shared Ride 2)\"),\n",
    "                  (\"Number of Kids\", \"Utility (Shared Ride 2)\")]\n",
    "\n",
    "# Shared-3+\n",
    "NODES_SHARED_3P = [\"Total Travel Time\",\n",
    "                   \"Total Travel Distance\",\n",
    "                   \"Total Travel Cost\",\n",
    "                   \"Cross Bay Trip\",\n",
    "                   \"Number of Autos\",\n",
    "                   \"Number of Licensed Drivers\",\n",
    "                   \"Household Size\",\n",
    "                   \"Number of Kids\",\n",
    "                   \"Utility (Shared Ride 3+)\"]\n",
    "\n",
    "EDGES_SHARED_3P = [(\"Total Travel Distance\", \"Total Travel Time\"),\n",
    "                   (\"Total Travel Distance\", \"Total Travel Cost\"),\n",
    "                   (\"Total Travel Distance\", \"Utility (Shared Ride 3+)\"),\n",
    "                   (\"Total Travel Time\", \"Utility (Shared Ride 3+)\"),\n",
    "                   (\"Number of Autos\", \"Utility (Shared Ride 3+)\"),\n",
    "                   (\"Number of Licensed Drivers\", \"Utility (Shared Ride 3+)\"),\n",
    "                   (\"Total Travel Cost\", \"Utility (Shared Ride 3+)\"),\n",
    "                   (\"Household Size\", \"Utility (Shared Ride 3+)\"),\n",
    "                   (\"Cross Bay Trip\", \"Utility (Shared Ride 3+)\"),\n",
    "                   (\"Number of Kids\", \"Utility (Shared Ride 3+)\")]\n",
    "\n",
    "# Walk-Transit-Walk\n",
    "NODES_WTW = [\"Total Travel Time\",\n",
    "             \"Total Travel Cost\",\n",
    "             \"Utility (WTW)\"]\n",
    "\n",
    "EDGES_WTW = [(\"Total Travel Time\", \"Total Travel Cost\"),\n",
    "             (\"Total Travel Time\", \"Utility (WTW)\"),\n",
    "             (\"Total Travel Cost\", \"Utility (WTW)\")]\n",
    "\n",
    "# Drive-Transit-Walk\n",
    "NODES_DTW = [\"Total Travel Time\",\n",
    "             \"Total Travel Cost\",\n",
    "             \"Utility (DTW)\"]\n",
    "\n",
    "EDGES_DTW = [(\"Total Travel Time\", \"Total Travel Cost\"),\n",
    "             (\"Total Travel Time\", \"Utility (DTW)\"),\n",
    "             (\"Total Travel Cost\", \"Utility (DTW)\")]\n",
    "\n",
    "# Walk-Transit-Drive\n",
    "NODES_WTD = [\"Total Travel Time\",\n",
    "             \"Total Travel Cost\",\n",
    "             \"Utility (WTD)\"]\n",
    "\n",
    "EDGES_WTD = [(\"Total Travel Time\", \"Total Travel Cost\"),\n",
    "             (\"Total Travel Time\", \"Utility (WTD)\"),\n",
    "             (\"Total Travel Cost\", \"Utility (WTD)\")]\n",
    "\n",
    "# Walk\n",
    "NODES_WALK = [\"Total Travel Distance\",\n",
    "              \"Utility (Walk)\"]\n",
    "\n",
    "EDGES_WALK = [(\"Total Travel Distance\", \"Utility (Walk)\")]\n",
    "\n",
    "# Bike\n",
    "NODES_BIKE = [\"Total Travel Distance\",\n",
    "              \"Utility (Bike)\"]\n",
    "EDGES_BIKE = [(\"Total Travel Distance\", \"Utility (Bike)\")]"
   ]
  },
  {
   "cell_type": "code",
   "execution_count": null,
   "metadata": {},
   "outputs": [],
   "source": [
    "# Alternative id column from long format data\n",
    "ALT_ID_COL = 'mode_id'\n",
    "\n",
    "# Individual specific variables list\n",
    "IND_SPEC_VARS = ['household_size', 'num_kids',\n",
    "                 'num_cars', 'num_licensed_drivers']\n",
    "\n",
    "# Alternative specific variables dictionary\n",
    "# Key is alternative number, value is a list\n",
    "# of alternative specific nodes without parents\n",
    "ALT_SPEC_DICT = {1: ['total_travel_distance'],\n",
    "                 2: ['total_travel_distance'],\n",
    "                 3: ['total_travel_distance'],\n",
    "                 4: ['total_travel_time'],\n",
    "                 5: ['total_travel_time'],\n",
    "                 6: ['total_travel_time'],\n",
    "                 7: ['total_travel_distance'],\n",
    "                 8: ['total_travel_distance']}\n",
    "\n",
    "# Trip specific variables list\n",
    "TRIP_SPEC_VARS = ['cross_bay']\n",
    "\n",
    "# Alternative name dictionary\n",
    "# Key is alternative number\n",
    "# value is alternative number snake cased\n",
    "ALT_NAME_DICT = {1: 'drive_alone',\n",
    "                 2: 'shared_2',\n",
    "                 3: 'shared_3p',\n",
    "                 4: 'wtw',\n",
    "                 5: 'dtw',\n",
    "                 6: 'wtd',\n",
    "                 7: 'walk',\n",
    "                 8: 'bike'}\n",
    "\n",
    "ALT_ID_TO_MODE_NAME = {1: \"Drive Alone\",\n",
    "                       2: \"Shared Ride 2\",\n",
    "                       3: \"Shared Ride 3+\",\n",
    "                       4: \"Walk-Transit-Walk\",\n",
    "                       5: \"Drive-Transit-Walk\",\n",
    "                       6: \"Walk-Transit-Drive\",\n",
    "                       7: \"Walk\",\n",
    "                       8: \"Bike\"}\n",
    "\n",
    "# Variable type Dictionary\n",
    "# Key is string with variable name from previous\n",
    "# dictionaries and lists, value is a string\n",
    "# with type of the variable\n",
    "VARS_TYPE = {'num_kids': 'categorical',\n",
    "             'household_size': 'categorical',\n",
    "             'num_cars': 'categorical',\n",
    "             'num_licensed_drivers': 'categorical',\n",
    "             'cross_bay': 'categorical',\n",
    "             'total_travel_time': 'continuous',\n",
    "             'total_travel_distance': 'continuous',\n",
    "             'total_travel_cost': 'continuous'}\n",
    "\n",
    "# Distribution to be explored for continuous variables\n",
    "CONT_DISTS = ['norm', 'alpha', 'beta', 'gamma', 'expon', 'gumbel']"
   ]
  },
  {
   "cell_type": "code",
   "execution_count": null,
   "metadata": {},
   "outputs": [],
   "source": [
    "# Declare regression parameters\n",
    "\n",
    "REGS_DA = {1: ('total_travel_distance', 'total_travel_cost'),\n",
    "           2: ('total_travel_distance', 'total_travel_time')}\n",
    "\n",
    "REGS_TYPE_DA = {1: 'linear',\n",
    "                2: 'linear'}\n",
    "\n",
    "\n",
    "REGS_SHARED_2 = {1: ('total_travel_distance', 'total_travel_cost'),\n",
    "                 2: ('total_travel_distance', 'total_travel_time')}\n",
    "\n",
    "REGS_TYPE_SHARED_2 = {1: 'linear',\n",
    "                      2: 'linear'}\n",
    "\n",
    "\n",
    "REGS_SHARED_3P = {1: ('total_travel_distance', 'total_travel_cost'),\n",
    "                  2: ('total_travel_distance', 'total_travel_time')}\n",
    "\n",
    "REGS_TYPE_SHARED_3P = {1: 'linear',\n",
    "                       2: 'linear'}\n",
    "\n",
    "\n",
    "REGS_WTW = {1: ('total_travel_time', 'total_travel_cost')}\n",
    "\n",
    "REGS_TYPE_WTW = {1: 'linear'}\n",
    "\n",
    "\n",
    "REGS_DTW = {1: ('total_travel_time', 'total_travel_cost')}\n",
    "\n",
    "REGS_TYPE_DTW = {1: 'linear'}\n",
    "\n",
    "\n",
    "REGS_WTD = {1: ('total_travel_time', 'total_travel_cost')}\n",
    "\n",
    "REGS_TYPE_DTW = {1: 'linear'}"
   ]
  },
  {
   "cell_type": "code",
   "execution_count": null,
   "metadata": {},
   "outputs": [],
   "source": [
    "# Parameters for conversion from Wide to Long\n",
    "\n",
    "IND_VARIABLES = ['num_kids', 'household_size',\n",
    "                 'num_cars', 'num_licensed_drivers', 'cross_bay']\n",
    "\n",
    "\n",
    "# Dictionary of Alternative Specific Variables\n",
    "# TODO: verify whether all variables are needed\n",
    "# for each alternative\n",
    "ALT_VARYING_VARIABLES = {u'total_travel_time': dict([(1, 'total_travel_time_drive_alone'),\n",
    "                                                     (2, 'total_travel_time_shared_2'),\n",
    "                                                     (3, 'total_travel_time_shared_3p'),\n",
    "                                                     (4, 'total_travel_time_wtw'),\n",
    "                                                     (5, 'total_travel_time_dtw'),\n",
    "                                                     (6, 'total_travel_time_wtd')]),\n",
    "                         u'total_travel_cost': dict([(1, 'total_travel_cost_drive_alone'),\n",
    "                                                     (2, 'total_travel_cost_shared_2'),\n",
    "                                                     (3, 'total_travel_cost_shared_3p'),\n",
    "                                                     (4, 'total_travel_cost_wtw'),\n",
    "                                                     (5, 'total_travel_cost_dtw'),\n",
    "                                                     (6, 'total_travel_cost_wtd')]),\n",
    "                         u'total_travel_distance': dict([(1, 'total_travel_distance_drive_alone'),\n",
    "                                                         (2, 'total_travel_distance_shared_2'),\n",
    "                                                         (3, 'total_travel_distance_shared_3p'),\n",
    "                                                         (7, 'total_travel_distance_walk'),\n",
    "                                                         (8, 'total_travel_distance_bike')])}\n",
    "\n",
    "\n",
    "# Dictionary of alternative availability variables\n",
    "AVAILABILITY_VARIABLES = {1: 'drive_alone_AV',\n",
    "                          2: 'shared_2_AV',\n",
    "                          3: 'shared_3p_AV',\n",
    "                          4: 'wtw_AV',\n",
    "                          5: 'dtw_AV',\n",
    "                          6: 'wtd_AV',\n",
    "                          7: 'walk_AV',\n",
    "                          8: 'bike_AV'}\n",
    "\n",
    "##########\n",
    "# Determine the columns for: alternative ids, the observation ids and the choice\n",
    "##########\n",
    "# The 'custom_alt_id' is the name of a column to be created in the long-format data\n",
    "# It will identify the alternative associated with each row.\n",
    "CUSTOM_ALT_ID = \"mode_id\"\n",
    "\n",
    "OBS_ID_COL = \"observation_id\"\n",
    "\n",
    "# Declare choice column\n",
    "CHOICE_COL = \"sim_choice\""
   ]
  },
  {
   "cell_type": "code",
   "execution_count": null,
   "metadata": {},
   "outputs": [],
   "source": [
    "# Create my specification and variable names for the basic MNL model\n",
    "# NOTE: - Keys should be variables within the long format dataframe.\n",
    "#         The sole exception to this is the \"intercept\" key.\n",
    "#       - For the specification dictionary, the values should be lists\n",
    "#         or lists of lists. Within a list, or within the inner-most\n",
    "#         list should be the alternative ID's of the alternative whose\n",
    "#         utility specification the explanatory variable is entering.\n",
    "\n",
    "MNL_SPECIFICATION = OrderedDict()\n",
    "MNL_NAMES = OrderedDict()\n",
    "\n",
    "MNL_SPECIFICATION[\"intercept\"] = [2, 3, 4, 5, 6, 7, 8]\n",
    "MNL_NAMES[\"intercept\"] = ['ASC Shared Ride: 2',\n",
    "                          'ASC Shared Ride: 3+',\n",
    "                          'ASC Walk-Transit-Walk',\n",
    "                          'ASC Drive-Transit-Walk',\n",
    "                          'ASC Walk-Transit-Drive',\n",
    "                          'ASC Walk',\n",
    "                          'ASC Bike']\n",
    "\n",
    "MNL_SPECIFICATION[\"total_travel_time\"] = [[1, 2, 3], [4, 5, 6]]\n",
    "MNL_NAMES[\"total_travel_time\"] = ['Travel Time, units:min (All Auto Modes)',\n",
    "                                  'Travel Time, units:min (All Transit Modes)']\n",
    "\n",
    "MNL_SPECIFICATION[\"total_travel_cost\"] = [[4, 5, 6]]\n",
    "MNL_NAMES[\"total_travel_cost\"] = ['Travel Cost, units:$ (All Transit Modes)']\n",
    "\n",
    "MNL_SPECIFICATION[\"cost_per_distance\"] = [1, 2, 3]\n",
    "MNL_NAMES[\"cost_per_distance\"] = [\"Travel Cost per Distance, units:$/mi (Drive Alone)\",\n",
    "                                  \"Travel Cost per Distance, units:$/mi (SharedRide-2)\",\n",
    "                                  \"Travel Cost per Distance, units:$/mi (SharedRide-3+)\"]\n",
    "\n",
    "MNL_SPECIFICATION[\"cars_per_licensed_drivers\"] = [[1, 2, 3]]\n",
    "MNL_NAMES[\"cars_per_licensed_drivers\"] = [\"Autos per licensed drivers (All Auto Modes)\"]\n",
    "\n",
    "MNL_SPECIFICATION[\"total_travel_distance\"] = [7, 8]\n",
    "MNL_NAMES[\"total_travel_distance\"] = ['Travel Distance, units:mi (Walk)',\n",
    "                                      'Travel Distance, units:mi (Bike)']\n",
    "\n",
    "MNL_SPECIFICATION[\"cross_bay\"] = [[2, 3]]\n",
    "MNL_NAMES[\"cross_bay\"] = [\"Cross-Bay Tour (Shared Ride 2 & 3+)\"]\n",
    "\n",
    "MNL_SPECIFICATION[\"household_size\"] = [[2, 3]]\n",
    "MNL_NAMES[\"household_size\"] = ['Household Size (Shared Ride 2 & 3+)']\n",
    "\n",
    "MNL_SPECIFICATION[\"num_kids\"] = [[2, 3]]\n",
    "MNL_NAMES[\"num_kids\"] = [\"Number of Kids in Household (Shared Ride 2 & 3+)\"]"
   ]
  },
  {
   "cell_type": "markdown",
   "metadata": {},
   "source": [
    "# Import Needed Libraries "
   ]
  },
  {
   "cell_type": "code",
   "execution_count": null,
   "metadata": {},
   "outputs": [],
   "source": [
    "import numpy as np\n",
    "import pandas as pd\n",
    "import matplotlib.pyplot as plt\n",
    "from functools import reduce\n",
    "import seaborn as sns\n",
    "import statsmodels.api as sm\n",
    "import copy\n",
    "from scipy import sparse\n",
    "import scipy.stats\n",
    "import random\n",
    "from fitter import Fitter\n",
    "import attr\n",
    "from causalgraphicalmodels import CausalGraphicalModel, StructuralCausalModel\n",
    "from collections import defaultdict, OrderedDict\n",
    "import pylogit as pl\n",
    "import viz\n",
    "from array import array\n",
    "import json\n",
    "from scipy.stats import multivariate_normal\n",
    "\n",
    "## Replace libraries with src .py file names containing the functions"
   ]
  },
  {
   "cell_type": "markdown",
   "metadata": {},
   "source": [
    "# Load and Describe Data "
   ]
  },
  {
   "cell_type": "code",
   "execution_count": null,
   "metadata": {},
   "outputs": [],
   "source": [
    "# Reading data from the specified PATH\n",
    "bike_data_long = pd.read_csv(DATA_PATH)\n",
    "\n",
    "# Look at the mode shares in the data set\n",
    "\n",
    "mode_counts = bike_data_long.loc[bike_data_long.choice == 1,\n",
    "                                 \"mode_id\"].value_counts().loc[range(1, 9)]\n",
    "\n",
    "mode_shares = mode_counts / bike_data_long.observation_id.max()\n",
    "mode_shares.index = [ALT_ID_TO_MODE_NAME[x] for x in mode_shares.index.values]\n",
    "mode_shares.name = \"Mode Shares\"\n",
    "mode_shares"
   ]
  },
  {
   "cell_type": "markdown",
   "metadata": {},
   "source": [
    "# Choice Model Estimation "
   ]
  },
  {
   "cell_type": "code",
   "execution_count": null,
   "metadata": {},
   "outputs": [],
   "source": [
    "# Estimate the basic MNL model, using the hessian and newton-conjugate gradient\n",
    "mnl_model = pl.create_choice_model(data=bike_data_long,\n",
    "                                   alt_id_col=ALT_ID_COL,\n",
    "                                   obs_id_col=OBS_ID_COL,\n",
    "                                   choice_col=\"choice\",\n",
    "                                   specification=MNL_SPECIFICATION,\n",
    "                                   model_type=\"MNL\",\n",
    "                                   names=MNL_NAMES)\n",
    "\n",
    "num_vars = len(reduce(lambda x, y: x + y, MNL_NAMES.values()))\n",
    "\n",
    "# Note newton-cg used to ensure convergence to a point where gradient\n",
    "# is essentially zero for all dimensions.\n",
    "mnl_model.fit_mle(np.zeros(num_vars),\n",
    "                  method=\"BFGS\")\n",
    "\n",
    "# Look at the estimation results\n",
    "mnl_model.get_statsmodels_summary()"
   ]
  },
  {
   "cell_type": "markdown",
   "metadata": {},
   "source": [
    "# Show Causal Graphs"
   ]
  },
  {
   "cell_type": "markdown",
   "metadata": {},
   "source": [
    "## Independent Causal Graph "
   ]
  },
  {
   "cell_type": "code",
   "execution_count": null,
   "metadata": {},
   "outputs": [],
   "source": [
    "ind_graph = CausalGraphicalModel(NODES_IND, EDGES_IND)\n",
    "ind_graph.draw()"
   ]
  },
  {
   "cell_type": "markdown",
   "metadata": {},
   "source": [
    "## Drive Alone"
   ]
  },
  {
   "cell_type": "code",
   "execution_count": null,
   "metadata": {},
   "outputs": [],
   "source": [
    "V_drive_alone = CausalGraphicalModel(NODES_DA, EDGES_DA)\n",
    "V_drive_alone.draw()"
   ]
  },
  {
   "cell_type": "markdown",
   "metadata": {},
   "source": [
    "## Shared-2"
   ]
  },
  {
   "cell_type": "code",
   "execution_count": null,
   "metadata": {},
   "outputs": [],
   "source": [
    "V_shared_2 = CausalGraphicalModel(NODES_SHARED_2, EDGES_SHARED_2)\n",
    "V_shared_2.draw()"
   ]
  },
  {
   "cell_type": "markdown",
   "metadata": {},
   "source": [
    "## Shared-3+"
   ]
  },
  {
   "cell_type": "code",
   "execution_count": null,
   "metadata": {},
   "outputs": [],
   "source": [
    "V_shared_3p = CausalGraphicalModel(NODES_SHARED_3P, EDGES_SHARED_3P)\n",
    "V_shared_3p.draw()"
   ]
  },
  {
   "cell_type": "markdown",
   "metadata": {},
   "source": [
    "## Walk-Transit-Walk"
   ]
  },
  {
   "cell_type": "code",
   "execution_count": null,
   "metadata": {},
   "outputs": [],
   "source": [
    "V_wtw = CausalGraphicalModel(NODES_WTW, EDGES_WTW)\n",
    "V_wtw.draw()"
   ]
  },
  {
   "cell_type": "markdown",
   "metadata": {},
   "source": [
    "## Drive-Transit-Walk"
   ]
  },
  {
   "cell_type": "code",
   "execution_count": null,
   "metadata": {},
   "outputs": [],
   "source": [
    "V_dtw = CausalGraphicalModel(NODES_DTW, EDGES_DTW)\n",
    "V_dtw.draw()"
   ]
  },
  {
   "cell_type": "markdown",
   "metadata": {},
   "source": [
    "##  Walk-Transit-Drive"
   ]
  },
  {
   "cell_type": "code",
   "execution_count": null,
   "metadata": {},
   "outputs": [],
   "source": [
    "V_wtd = CausalGraphicalModel(NODES_WTD, EDGES_WTD)\n",
    "V_wtd.draw()"
   ]
  },
  {
   "cell_type": "markdown",
   "metadata": {},
   "source": [
    "## Walk"
   ]
  },
  {
   "cell_type": "code",
   "execution_count": null,
   "metadata": {},
   "outputs": [],
   "source": [
    "V_walk = CausalGraphicalModel(NODES_WALK, EDGES_WALK)\n",
    "V_walk.draw()"
   ]
  },
  {
   "cell_type": "markdown",
   "metadata": {},
   "source": [
    "## Bike "
   ]
  },
  {
   "cell_type": "code",
   "execution_count": null,
   "metadata": {},
   "outputs": [],
   "source": [
    "V_bike = CausalGraphicalModel(NODES_BIKE, EDGES_BIKE)\n",
    "V_bike.draw()"
   ]
  },
  {
   "cell_type": "markdown",
   "metadata": {},
   "source": [
    "# Selection on Observables Simulation"
   ]
  },
  {
   "cell_type": "markdown",
   "metadata": {},
   "source": [
    "## Main Idea "
   ]
  },
  {
   "cell_type": "markdown",
   "metadata": {},
   "source": []
  },
  {
   "cell_type": "markdown",
   "metadata": {},
   "source": [
    "## Distribution Fitting "
   ]
  },
  {
   "cell_type": "code",
   "execution_count": null,
   "metadata": {},
   "outputs": [],
   "source": [
    "bike_data_params = get_dist_node_no_parent(bike_data_long,\n",
    "                                           ALT_ID_COL,\n",
    "                                           OBS_ID_COL,\n",
    "                                           ALT_SPEC_DICT,\n",
    "                                           ALT_NAME_DICT,\n",
    "                                           IND_SPEC_VARS,\n",
    "                                           TRIP_SPEC_VARS,\n",
    "                                           VARS_TYPE,\n",
    "                                           CONT_DISTS)"
   ]
  },
  {
   "cell_type": "markdown",
   "metadata": {},
   "source": [
    "## Regression Fitting "
   ]
  },
  {
   "cell_type": "markdown",
   "metadata": {},
   "source": [
    "## Drive Alone "
   ]
  },
  {
   "cell_type": "code",
   "execution_count": null,
   "metadata": {},
   "outputs": [],
   "source": [
    "drive_alone_df = bike_data_long.loc[bike_data_long['mode_id'] == 1]\n",
    "\n",
    "drive_alone_df.reset_index(drop=True, inplace=True)\n",
    "\n",
    "fitted_reg_da = fit_alternative_regression(REGS_DA,\n",
    "                                           REGS_TYPE_DA,\n",
    "                                           drive_alone_df)"
   ]
  },
  {
   "cell_type": "markdown",
   "metadata": {},
   "source": [
    "## Shared-2"
   ]
  },
  {
   "cell_type": "code",
   "execution_count": null,
   "metadata": {},
   "outputs": [],
   "source": [
    "shared_2_df = bike_data_long.loc[bike_data_long['mode_id'] == 2]\n",
    "\n",
    "shared_2_df.reset_index(drop=True, inplace=True)\n",
    "\n",
    "fitted_reg_shared_2 = fit_alternative_regression(REGS_SHARED_2,\n",
    "                                                 REGS_TYPE_SHARED_2,\n",
    "                                                 shared_2_df)"
   ]
  },
  {
   "cell_type": "markdown",
   "metadata": {},
   "source": [
    "## Shared-3+"
   ]
  },
  {
   "cell_type": "code",
   "execution_count": null,
   "metadata": {},
   "outputs": [],
   "source": [
    "shared_3p_df = bike_data_long.loc[bike_data_long['mode_id'] == 3]\n",
    "\n",
    "shared_3p_df.reset_index(drop=True, inplace=True)\n",
    "\n",
    "fitted_reg_shared_3p = fit_alternative_regression(REGS_SHARED_3P,\n",
    "                                                  REGS_TYPE_SHARED_3P,\n",
    "                                                  shared_3p_df)"
   ]
  },
  {
   "cell_type": "markdown",
   "metadata": {},
   "source": [
    "## Walk-Transit-Walk "
   ]
  },
  {
   "cell_type": "code",
   "execution_count": null,
   "metadata": {},
   "outputs": [],
   "source": [
    "wtw_df = bike_data_long.loc[bike_data_long['mode_id'] == 4]\n",
    "\n",
    "wtw_df.reset_index(drop=True, inplace=True)\n",
    "\n",
    "fitted_reg_wtw = fit_alternative_regression(REGS_WTW,\n",
    "                                            REGS_TYPE_WTW,\n",
    "                                            wtw_df)"
   ]
  },
  {
   "cell_type": "markdown",
   "metadata": {},
   "source": [
    "## Drive-Transit-Walk "
   ]
  },
  {
   "cell_type": "code",
   "execution_count": null,
   "metadata": {},
   "outputs": [],
   "source": [
    "dtw_df = bike_data_long.loc[bike_data_long['mode_id'] == 5]\n",
    "\n",
    "dtw_df.reset_index(drop=True, inplace=True)\n",
    "\n",
    "fitted_reg_dtw = fit_alternative_regression(REGS_DTW,\n",
    "                                            REGS_TYPE_DTW,\n",
    "                                            dtw_df)"
   ]
  },
  {
   "cell_type": "markdown",
   "metadata": {},
   "source": [
    "## Walk-Transit-Drive"
   ]
  },
  {
   "cell_type": "code",
   "execution_count": null,
   "metadata": {},
   "outputs": [],
   "source": [
    "wtd_df = bike_data_long.loc[bike_data_long['mode_id'] == 6]\n",
    "\n",
    "wtd_df.reset_index(drop=True, inplace=True)\n",
    "\n",
    "fitted_reg_wtd = fit_alternative_regression(REGS_WTD,\n",
    "                                            REGS_TYPE_WTD,\n",
    "                                            wtd_df)"
   ]
  },
  {
   "cell_type": "markdown",
   "metadata": {},
   "source": [
    "## Simulation"
   ]
  },
  {
   "cell_type": "markdown",
   "metadata": {},
   "source": [
    "### Simulation Parameters"
   ]
  },
  {
   "cell_type": "code",
   "execution_count": null,
   "metadata": {},
   "outputs": [],
   "source": [
    "simulation_sizes = np.random.randint(low=3000, high=9000, size=2)\n",
    "sim_number = np.arange(1, 3)\n",
    "models_dictionary = defaultdict(dict)\n",
    "causal_effect_dictionary = {}\n",
    "perturb = 0.8\n",
    "simulation_data = {}\n",
    "causal_effects = pd.DataFrame(columns=['naive_effect', 'true_effect', 'estimated_effect'])"
   ]
  },
  {
   "cell_type": "code",
   "execution_count": null,
   "metadata": {},
   "outputs": [],
   "source": [
    "for sim_size, number in zip(simulation_sizes, sim_number):\n",
    "    print('Simulation number', number, 'is in progress...')\n",
    "    print('Simulation size is', sim_size)\n",
    "    print('------------------------------------------')\n",
    "    print('Simulating data...')\n",
    "    # Simulate data without parents\n",
    "    sim_bike_data_no_parent = sim_node_no_parent(bike_data_params,\n",
    "                                                 size=sim_size)\n",
    "\n",
    "    sim_bike_data_wide = copy.deepcopy(sim_bike_data_no_parent)\n",
    "\n",
    "    # Simulate nodes based on causal graphs\n",
    "    # Drive Alone\n",
    "    sim_bike_data_wide['total_travel_time_drive_alone'] =\\\n",
    "        lin_reg_pred(sim_bike_data_wide['total_travel_distance_drive_alone'],\n",
    "                     drive_alone_reg['total_travel_time_on_total_travel_distance'],\n",
    "                     sim_size)\n",
    "\n",
    "    sim_bike_data_wide['total_travel_cost_drive_alone'] =\\\n",
    "        lin_reg_pred(sim_bike_data_wide['total_travel_distance_drive_alone'],\n",
    "                     drive_alone_reg['total_travel_cost_on_total_travel_distance'],\n",
    "                     sim_size)\n",
    "\n",
    "    # Shared Ride 2\n",
    "    sim_bike_data_wide['total_travel_time_shared_2'] =\\\n",
    "        lin_reg_pred(sim_bike_data_wide['total_travel_distance_shared_2'],\n",
    "                     shared_2_reg['total_travel_time_on_total_travel_distance'],\n",
    "                     sim_size)\n",
    "\n",
    "    sim_bike_data_wide['total_travel_cost_shared_2'] =\\\n",
    "        lin_reg_pred(sim_bike_data_wide['total_travel_distance_shared_2'],\n",
    "                     shared_2_reg['total_travel_cost_on_total_travel_distance'],\n",
    "                     sim_size)\n",
    "\n",
    "    # Shared Ride 3+\n",
    "    sim_bike_data_wide['total_travel_time_shared_3p'] =\\\n",
    "        lin_reg_pred(sim_bike_data_wide['total_travel_distance_shared_3p'],\n",
    "                     shared_3p_reg['total_travel_time_on_total_travel_distance'],\n",
    "                     sim_size)\n",
    "\n",
    "    sim_bike_data_wide['total_travel_cost_shared_3p'] =\\\n",
    "        lin_reg_pred(sim_bike_data_wide['total_travel_distance_shared_3p'],\n",
    "                     shared_3p_reg['total_travel_cost_on_total_travel_distance'],\n",
    "                     sim_size)\n",
    "\n",
    "    # Walk-Transit-Walk\n",
    "    sim_bike_data_wide['total_travel_cost_wtw'] =\\\n",
    "        lin_reg_pred(sim_bike_data_wide['total_travel_time_wtw'],\n",
    "                     wtw_reg['total_travel_cost_on_total_travel_time'],\n",
    "                     sim_size)\n",
    "\n",
    "    # Drive-Transit-Walk\n",
    "    sim_bike_data_wide['total_travel_cost_dtw'] =\\\n",
    "        lin_reg_pred(sim_bike_data_wide['total_travel_time_dtw'],\n",
    "                     dtw_reg['total_travel_cost_on_total_travel_time'],\n",
    "                     sim_size)\n",
    "\n",
    "    # Walk-Transit-Drive\n",
    "    sim_bike_data_wide['total_travel_cost_wtd'] =\\\n",
    "        lin_reg_pred(sim_bike_data_wide['total_travel_time_wtd'],\n",
    "                     wtd_reg['total_travel_cost_on_total_travel_time'],\n",
    "                     sim_size)\n",
    "\n",
    "    # Simulate Availability\n",
    "    print('Simulating Availability...')\n",
    "    alt_av_matrix = simulate_availability(data_long=bike_data_long,\n",
    "                                          obs_id_col=observation_id_col,\n",
    "                                          alt_name_dict=alternative_name_dict,\n",
    "                                          sim_size=sim_size)\n",
    "\n",
    "    sim_bike_data_wide = sim_bike_data_wide.join(alt_av_matrix)\n",
    "\n",
    "    sim_bike_data_wide[CHOICE_COL] = sim_fake_choice_col(alt_av_matrix)\n",
    "\n",
    "    sim_bike_data_wide[OBS_ID_COL] = np.arange(sim_bike_data_wide.shape[0],\n",
    "                                               dtype=int) + 1\n",
    "\n",
    "    # Converting Data from Wide to Long\n",
    "    print('Converting data from wide to long...')\n",
    "    long_sim_data = pl.convert_wide_to_long(sim_bike_data_wide,\n",
    "                                            IND_VARIABLES,\n",
    "                                            ALT_VARYING_VARIABLES,\n",
    "                                            AVAILABILITY_VARIABLES,\n",
    "                                            OBS_ID_COL,\n",
    "                                            CHOICE_COL,\n",
    "                                            new_alt_id_name=CUSTOM_ALT_ID)\n",
    "\n",
    "    # Create a cars per licensed drivers column\n",
    "    long_sim_data[\"cars_per_licensed_drivers\"] = 0\n",
    "    long_sim_data.loc[long_sim_data.num_licensed_drivers > 0,\n",
    "                      \"cars_per_licensed_drivers\"] = long_sim_data.num_cars / long_sim_data.num_licensed_drivers.astype(float)\n",
    "\n",
    "    # Add a variable representing cost divided by distance\n",
    "    long_sim_data[\"cost_per_distance\"] = 0\n",
    "    long_sim_data.loc[long_sim_data.mode_id.isin([1, 2, 3]),\n",
    "                      \"cost_per_distance\"] = (long_sim_data.loc[long_sim_data.mode_id.isin([1, 2, 3]),\n",
    "                                                                \"total_travel_cost\"] /\n",
    "                                              long_sim_data.loc[long_sim_data.mode_id.isin([1, 2, 3]),\n",
    "                                                                \"total_travel_distance\"])\n",
    "\n",
    "    # Simulating Choices\n",
    "    print('Simulating Choices...')\n",
    "    # Calculate probabilities for each alternative\n",
    "    # based on the estimated model\n",
    "    init_mnl_model_probs = mnl_model.predict(long_sim_data)\n",
    "\n",
    "    # Simulate choice data\n",
    "    long_sim_data[CHOICE_COL] = viz.simulate_choice_vector(init_mnl_model_probs,\n",
    "                                                           long_sim_data[OBS_ID_COL].values)\n",
    "\n",
    "    # Estimating Choice Models\n",
    "    print('Estimating the choice model...')\n",
    "    # Estimate the basic MNL model, using the hessian and newton-conjugate gradient\n",
    "    mnl_model_sim = pl.create_choice_model(data=long_sim_data,\n",
    "                                           alt_id_col=ALT_ID_COL,\n",
    "                                           obs_id_col=OBS_ID_COL,\n",
    "                                           choice_col=CHOICE_COLUMN,\n",
    "                                           specification=MNL_SPECIFICATION,\n",
    "                                           model_type=\"MNL\",\n",
    "                                           names=MNL_NAMES)\n",
    "\n",
    "    num_vars = len(reduce(lambda x, y: x + y, MNL_NAMES.values()))\n",
    "    # Note newton-cg used to ensure convergence to a point where gradient\n",
    "    # is essentially zero for all dimensions.\n",
    "    mnl_model_sim_params = mnl_model_sim.fit_mle(np.zeros(num_vars),\n",
    "                                                 method=\"BFGS\",\n",
    "                                                 just_point=True)\n",
    "    mnl_model_sim_param_list = [mnl_model_sim_params['x'], None, None, None]\n",
    "    models_dictionary[number] = mnl_model_sim\n",
    "\n",
    "    print('Estimating Causal Effects...')\n",
    "\n",
    "    # Estimating Causal Effects\n",
    "    # Create copies of long format data\n",
    "    long_sim_data_naive = copy.deepcopy(long_sim_data)\n",
    "    long_sim_data_causal = copy.deepcopy(long_sim_data)\n",
    "\n",
    "    # Initial Probabilities\n",
    "    init_mnl_model_sim_probs = mnl_model_sim.predict(long_sim_data,\n",
    "                                                     param_list=mnl_model_sim_param_list)\n",
    "\n",
    "    long_sim_data['init_mnl_model_sim_probs'] = init_mnl_model_sim_probs\n",
    "\n",
    "    # mnl_model_probs = mnl_model.predict(long_sim_data)\n",
    "    long_sim_data['init_mnl_model_probs'] = init_mnl_model_probs\n",
    "\n",
    "    # Naive Probabilities\n",
    "    long_sim_data_naive['total_travel_distance'] = perturb * long_sim_data_naive['total_travel_distance']\n",
    "\n",
    "    naive_probabilities = mnl_model_sim.predict(long_sim_data_naive,\n",
    "                                                param_list=mnl_model_sim_param_list)\n",
    "\n",
    "    long_sim_data_naive['naive_probabilities'] = naive_probabilities\n",
    "\n",
    "    # Estimated Probabilities\n",
    "\n",
    "    long_sim_data_causal['total_travel_distance'] = perturb * long_sim_data['total_travel_distance']\n",
    "\n",
    "    # Perturb Variables based on Assumed Causal Graph\n",
    "\n",
    "    # Drive Alone\n",
    "    long_sim_data_causal.loc[long_sim_data_causal['mode_id'] == 1, 'total_travel_time'] =\\\n",
    "        lin_reg_pred(long_sim_data_causal.loc[long_sim_data_causal['mode_id'] == 1, 'total_travel_distance'],\n",
    "                     drive_alone_reg['total_travel_time_on_total_travel_distance'],\n",
    "                     long_sim_data_causal.loc[long_sim_data_causal['mode_id'] == 1].shape[0])\n",
    "\n",
    "    long_sim_data_causal.loc[long_sim_data_causal['mode_id'] == 1, 'total_travel_cost'] =\\\n",
    "        lin_reg_pred(long_sim_data_causal.loc[long_sim_data_causal['mode_id'] == 1, 'total_travel_distance'],\n",
    "                     drive_alone_reg['total_travel_cost_on_total_travel_distance'],\n",
    "                     long_sim_data_causal.loc[long_sim_data_causal['mode_id'] == 1].shape[0])\n",
    "\n",
    "    # Shared-2\n",
    "    long_sim_data_causal.loc[long_sim_data_causal['mode_id'] == 2, 'total_travel_time'] =\\\n",
    "        lin_reg_pred(long_sim_data_causal.loc[long_sim_data_causal['mode_id'] == 2, 'total_travel_distance'],\n",
    "                     shared_2_reg['total_travel_time_on_total_travel_distance'],\n",
    "                     long_sim_data_causal.loc[long_sim_data_causal['mode_id'] == 2].shape[0])\n",
    "\n",
    "    long_sim_data_causal.loc[long_sim_data_causal['mode_id'] == 2, 'total_travel_cost'] =\\\n",
    "        lin_reg_pred(long_sim_data_causal.loc[long_sim_data_causal['mode_id'] == 2, 'total_travel_distance'],\n",
    "                     shared_2_reg['total_travel_cost_on_total_travel_distance'],\n",
    "                     long_sim_data_causal.loc[long_sim_data_causal['mode_id'] == 2].shape[0])\n",
    "\n",
    "    # Shared 3+\n",
    "    long_sim_data_causal.loc[long_sim_data_causal['mode_id'] == 3, 'total_travel_time'] =\\\n",
    "        lin_reg_pred(long_sim_data_causal.loc[long_sim_data_causal['mode_id'] == 3, 'total_travel_distance'],\n",
    "                     shared_3p_reg['total_travel_time_on_total_travel_distance'],\n",
    "                     long_sim_data_causal.loc[long_sim_data_causal['mode_id'] == 3].shape[0])\n",
    "\n",
    "    long_sim_data_causal.loc[long_sim_data_causal['mode_id'] == 3, 'total_travel_cost'] =\\\n",
    "        lin_reg_pred(long_sim_data_causal.loc[long_sim_data_causal['mode_id'] == 3, 'total_travel_distance'],\n",
    "                     shared_3p_reg['total_travel_cost_on_total_travel_distance'],\n",
    "                     long_sim_data_causal.loc[long_sim_data_causal['mode_id'] == 3].shape[0])\n",
    "\n",
    "    # Walk-Transit-Walk\n",
    "    long_sim_data_causal.loc[long_sim_data_causal['mode_id'] == 4, 'total_travel_cost'] =\\\n",
    "        lin_reg_pred(long_sim_data_causal.loc[long_sim_data_causal['mode_id'] == 4, 'total_travel_time'],\n",
    "                     wtw_reg['total_travel_cost_on_total_travel_time'],\n",
    "                     long_sim_data_causal.loc[long_sim_data_causal['mode_id'] == 4].shape[0])\n",
    "\n",
    "    # Drive-Transit-Walk\n",
    "    long_sim_data_causal.loc[long_sim_data_causal['mode_id'] == 5, 'total_travel_cost'] =\\\n",
    "        lin_reg_pred(long_sim_data_causal.loc[long_sim_data_causal['mode_id'] == 5, 'total_travel_time'],\n",
    "                     dtw_reg['total_travel_cost_on_total_travel_time'],\n",
    "                     long_sim_data_causal.loc[long_sim_data_causal['mode_id'] == 5].shape[0])\n",
    "\n",
    "    # Walk-Transit-Drive\n",
    "    long_sim_data_causal.loc[long_sim_data_causal['mode_id'] == 6, 'total_travel_cost'] =\\\n",
    "        lin_reg_pred(long_sim_data_causal.loc[long_sim_data_causal['mode_id'] == 6, 'total_travel_time'],\n",
    "                     wtd_reg['total_travel_cost_on_total_travel_time'],\n",
    "                     long_sim_data_causal.loc[long_sim_data_causal['mode_id'] == 6].shape[0])\n",
    "\n",
    "    # Compute Estimated Probabilities\n",
    "    estimated_probabilities = mnl_model_sim.predict(long_sim_data_causal,\n",
    "                                                    param_list=mnl_model_sim_param_list)\n",
    "    long_sim_data_causal['estimated_probabilities'] = estimated_probabilities\n",
    "\n",
    "    # True Probabilities\n",
    "    true_probabilities = mnl_model.predict(long_sim_data_causal)\n",
    "    long_sim_data_causal['true_probabilities'] = true_probabilities\n",
    "\n",
    "    simulation_data[number] = {}\n",
    "    simulation_data[number]['long_sim_data'] = long_sim_data\n",
    "    simulation_data[number]['long_sim_data_causal'] = long_sim_data_causal\n",
    "    simulation_data[number]['long_sim_data_naive'] = long_sim_data_naive\n",
    "\n",
    "    print('Simulation number', number, 'is complete!')\n",
    "    print('==========================================')\n",
    "    print('==========================================')"
   ]
  },
  {
   "cell_type": "markdown",
   "metadata": {},
   "source": [
    "### Causal Effect Estimation"
   ]
  },
  {
   "cell_type": "code",
   "execution_count": null,
   "metadata": {},
   "outputs": [],
   "source": [
    "for number in sim_number:\n",
    "    \n",
    "    initial_data = simulation_data[number]['long_sim_data']\n",
    "    naive_data = simulation_data[number]['long_sim_data_naive']\n",
    "    causal_data = simulation_data[number]['long_sim_data_causal']\n",
    "\n",
    "    naive_effect = naive_data.loc[naive_data['mode_id'].isin([1, 2, 3]), 'naive_probabilities'] -\\\n",
    "        initial_data.loc[initial_data['mode_id'].isin([1, 2, 3]), 'init_mnl_model_sim_probs']\n",
    "    estimated_effect = causal_data.loc[causal_data['mode_id'].isin([1, 2, 3]), 'estimated_probabilities'] -\\\n",
    "        initial_data.loc[initial_data['mode_id'].isin([1, 2, 3]), 'init_mnl_model_sim_probs']\n",
    "    true_effect = causal_data.loc[causal_data['mode_id'].isin([1, 2, 3]), 'true_probabilities'] -\\\n",
    "        initial_data.loc[initial_data['mode_id'].isin([1, 2, 3]), 'init_mnl_model_probs']\n",
    "\n",
    "    causal_effects = causal_effects.append({'true_effect': true_effect.mean(),\n",
    "                                            'estimated_effect': estimated_effect.mean(),\n",
    "                                            'naive_effect': naive_effect.mean()}, ignore_index=True)"
   ]
  },
  {
   "cell_type": "markdown",
   "metadata": {},
   "source": [
    "### Generating Plots"
   ]
  },
  {
   "cell_type": "code",
   "execution_count": null,
   "metadata": {},
   "outputs": [],
   "source": [
    "plt.figure(figsize=(20, 10))\n",
    "sns.distplot(causal_effects.true_effect, label='True Effect', kde=False, color='#005AB5')\n",
    "sns.distplot(causal_effects.naive_effect, label='Naive Effect', kde=False, color='#DC3220')\n",
    "plt.title('True Effect vs. Naive Effect', fontdict={'fontsize': 14, 'fontweight': 'bold'})\n",
    "plt.ylabel('Frequency', rotation=90, labelpad=5, fontdict={'fontsize': 12, 'fontweight': 'bold'})\n",
    "plt.xlabel('Average Causal Effect', fontdict={'fontsize': 12, 'fontweight': 'bold'})\n",
    "plt.legend(prop={'size': 14})\n",
    "\n",
    "plt.figure(figsize=(15, 5))\n",
    "sns.distplot(causal_effects.true_effect, label='True Effect', kde=False, color='#005AB5')\n",
    "sns.distplot(causal_effects.estimated_effect, label='Estimated Effect', kde=False, color='#994F00')\n",
    "plt.title('True Effect vs. Estimated Effect', fontdict={'fontsize': 14, 'fontweight': 'bold'})\n",
    "plt.ylabel('Frequency', rotation=90, labelpad=5, fontdict={'fontsize': 12, 'fontweight': 'bold'})\n",
    "plt.xlabel('Average Causal Effect', fontdict={'fontsize': 12, 'fontweight': 'bold'})\n",
    "plt.legend(prop={'size': 14})"
   ]
  }
 ],
 "metadata": {
  "kernelspec": {
   "display_name": "Python 3",
   "language": "python",
   "name": "python3"
  },
  "language_info": {
   "codemirror_mode": {
    "name": "ipython",
    "version": 3
   },
   "file_extension": ".py",
   "mimetype": "text/x-python",
   "name": "python",
   "nbconvert_exporter": "python",
   "pygments_lexer": "ipython3",
   "version": "3.7.4"
  }
 },
 "nbformat": 4,
 "nbformat_minor": 4
}
