{
 "cells": [
  {
   "cell_type": "markdown",
   "metadata": {},
   "source": [
    "# <ins>Requirements</ins>"
   ]
  },
  {
   "cell_type": "markdown",
   "metadata": {},
   "source": [
    "## What exactly does the product need to deliver to meet the needs of the end users / stakeholders?\n",
    "\n",
    "## Do the end user’s / stakeholders have firm time deadlines for the project? If so, note when the project must be delivered by.\n",
    "\n",
    "## What are the non-goals for the project? What should we explicitly aim to not do?\n"
   ]
  },
  {
   "cell_type": "markdown",
   "metadata": {},
   "source": [
    "### <ins>For the presentation:</ins>\n",
    "The presentation, per specification of the conference, can only be 20 minutes long.\n",
    "So we should have an expectation of 20 slides, with 15 -30 slides (min, max).\n",
    "\n",
    "The structure of the presentation should be as follows:\n",
    "- Motivation: Why is our problem important to the listener?\n",
    "- Need: What is the need being addressed?\n",
    "   - the disconnect between causal inference and travel demand modeling\n",
    "- Our Solution:\n",
    "   - Provide a demonstration of using causal inference techniques in travel demand modeling context.\n",
    "   - In particular, we demonstrate the causal inference workflow from Bratwaite and Walker (2018), with references to similar / equivalent ideas put forth by others, and with additional details from our experiences in this project.\n",
    "- Main message of the talk:  \n",
    "Specify a causal graph, make sure the assumptions of that graph are not violated by one's data, and build one's model on the basis of the causal graph.\n",
    "- Point 1:  \n",
    "Without taking into account the treatment assignment mechanism / causal structure of one's explanatory variables, one's estimated treatment effects may be completely wrong.\n",
    "   - Amine's selection-on-observables simulation results and description.\n",
    "- Point 2:  \n",
    "When dealing with latent confounders in one' causal graph, one generically applicable technique is to model the latent confounders.\n",
    "Pitfalls abound when applying such techniques, so we demonstrate / raise awareness of / and show how to detect such problems.\n",
    "   - Hassan's deconfounder demo and simulation results.\n",
    "- Point 3:  \n",
    "In order to use any of these techniques, having a well-specified causal graph is crucial. We demonstrate methods for checking / falsifying one's causal graph in order to avoid drawing erroneous or unsupported conclusions.\n",
    "   - Conditional Independence Tests\n",
    "   - Marginal Independence Tests\n",
    "   - Prior and Posterior Predictive Conditional / Marginal Independence Tests\n",
    "- Recap\n",
    "- Conclusion:  \n",
    "What does this presentation mean for the audience?  \n",
    "What can they now do that may have been mysterious / hard before?  \n",
    "How should they change as a result of this presentation?  \n",
    "\n",
    "### <ins>Actual work/code:<ins>\n",
    "1. For simulation:\n",
    "    - Function to simulate data from structural models (mainly linear models -- MNL and regression).\n",
    "        - Input: X variables, coefficients.\n",
    "    - Output: Simulated variables\n",
    "2. For deconfounder\n",
    "    - Function for fitting factor model\n",
    "        - A class with a few of factor model methods: Probabilistic PCA, Deep exponential family, Poisson Matrix Factorization?\n",
    "           1. Input: Vector of covariates, dimensionality of latent variable space\n",
    "           2. Output: A fitted factor model\n",
    "        - Function for posterior predictive checks for the factor models.  \n",
    "           1. Input: Factor model, test data\n",
    "           2. Output: P-values for predictive checks\n",
    "3. Tests for code"
   ]
  }
 ],
 "metadata": {
  "jupytext": {
   "formats": "ipynb,md"
  },
  "kernelspec": {
   "display_name": "Python 3",
   "language": "python",
   "name": "python3"
  },
  "language_info": {
   "codemirror_mode": {
    "name": "ipython",
    "version": 3
   },
   "file_extension": ".py",
   "mimetype": "text/x-python",
   "name": "python",
   "nbconvert_exporter": "python",
   "pygments_lexer": "ipython3",
   "version": "3.7.4"
  }
 },
 "nbformat": 4,
 "nbformat_minor": 2
}
